{
 "cells": [
  {
   "cell_type": "code",
   "execution_count": 38,
   "metadata": {
    "collapsed": true
   },
   "outputs": [],
   "source": [
    "import os\n",
    "import numpy as np\n",
    "import pandas as pd\n",
    "from sklearn.model_selection import train_test_split, GridSearchCV, StratifiedKFold\n",
    "import xgboost as xgb\n",
    "from sklearn.metrics import accuracy_score\n",
    "from transformers.dummies_encoder import DummiesEncoder\n",
    "from transformers.item_selector import ItemSelector\n",
    "from transformers.morphology_extractor import MorphologyExtractor\n",
    "from transformers.dict_class_transformer import DictClassTransformer\n",
    "from sklearn.pipeline import Pipeline, FeatureUnion\n",
    "from sklearn.datasets import dump_svmlight_file\n",
    "from transformers.multi_label_encoder import MultiLabelEncoder\n",
    "from transformers.reshape_2d import Reshape2D\n",
    "from transformers.pandas_union import PandasUnion\n",
    "from transformers.string_splitter import StringSplitter\n",
    "import matplotlib\n",
    "matplotlib.use('Agg')\n",
    "from matplotlib import pyplot\n",
    "import seaborn as sns\n",
    "%matplotlib inline\n",
    "\n",
    "INPUT_PATH = r'../input/norm_challenge_ru'\n",
    "DATA_INPUT_PATH = r'../input/norm_challenge_ru/ru_with_types'\n",
    "SUBM_PATH = INPUT_PATH"
   ]
  },
  {
   "cell_type": "markdown",
   "metadata": {},
   "source": [
    "#Prepare data"
   ]
  },
  {
   "cell_type": "code",
   "execution_count": 26,
   "metadata": {
    "collapsed": true
   },
   "outputs": [
    {
     "name": "stdout",
     "output_type": "stream",
     "text": [
      "<class 'pandas.core.frame.DataFrame'>\nInt64Index: 100000 entries, 4656679 to 6714492\nData columns (total 6 columns):\nclass          100000 non-null object\nbefore         100000 non-null object\nbefore_prev    100000 non-null object\nbefore_next    100000 non-null object\nbefore_len     100000 non-null int64\nbefore_wc      100000 non-null int64\ndtypes: int64(2), object(4)\nmemory usage: 5.3+ MB\nNone\n"
     ]
    },
    {
     "name": "stderr",
     "output_type": "stream",
     "text": [
      "\rMorphologyExtractor transform:   0%|          | 0/100000 [00:00<?, ?it/s]"
     ]
    },
    {
     "name": "stderr",
     "output_type": "stream",
     "text": [
      "\rMorphologyExtractor transform:   2%|▏         | 1633/100000 [00:00<00:06, 16316.63it/s]"
     ]
    },
    {
     "name": "stderr",
     "output_type": "stream",
     "text": [
      "\rMorphologyExtractor transform:   4%|▎         | 3596/100000 [00:00<00:05, 17972.18it/s]"
     ]
    },
    {
     "name": "stderr",
     "output_type": "stream",
     "text": [
      "\rMorphologyExtractor transform:   5%|▍         | 4627/100000 [00:00<00:06, 13950.61it/s]"
     ]
    },
    {
     "name": "stderr",
     "output_type": "stream",
     "text": [
      "\rMorphologyExtractor transform:   7%|▋         | 6672/100000 [00:00<00:06, 15454.75it/s]"
     ]
    },
    {
     "name": "stderr",
     "output_type": "stream",
     "text": [
      "\rMorphologyExtractor transform:   9%|▉         | 8850/100000 [00:00<00:05, 16643.13it/s]"
     ]
    },
    {
     "name": "stderr",
     "output_type": "stream",
     "text": [
      "\rMorphologyExtractor transform:  11%|█         | 11050/100000 [00:00<00:05, 17480.50it/s]"
     ]
    },
    {
     "name": "stderr",
     "output_type": "stream",
     "text": [
      "\rMorphologyExtractor transform:  13%|█▎        | 13256/100000 [00:00<00:04, 18102.76it/s]"
     ]
    },
    {
     "name": "stderr",
     "output_type": "stream",
     "text": [
      "\rMorphologyExtractor transform:  15%|█▌        | 15121/100000 [00:00<00:04, 17274.45it/s]"
     ]
    },
    {
     "name": "stderr",
     "output_type": "stream",
     "text": [
      "\rMorphologyExtractor transform:  17%|█▋        | 16818/100000 [00:00<00:04, 16829.40it/s]"
     ]
    },
    {
     "name": "stderr",
     "output_type": "stream",
     "text": [
      "\rMorphologyExtractor transform:  19%|█▊        | 18600/100000 [00:01<00:04, 16918.06it/s]"
     ]
    },
    {
     "name": "stderr",
     "output_type": "stream",
     "text": [
      "\rMorphologyExtractor transform:  20%|██        | 20488/100000 [00:01<00:04, 17081.65it/s]"
     ]
    },
    {
     "name": "stderr",
     "output_type": "stream",
     "text": [
      "\rMorphologyExtractor transform:  22%|██▏       | 22378/100000 [00:01<00:04, 17221.43it/s]"
     ]
    },
    {
     "name": "stderr",
     "output_type": "stream",
     "text": [
      "\rMorphologyExtractor transform:  24%|██▍       | 24152/100000 [00:01<00:04, 16529.15it/s]"
     ]
    },
    {
     "name": "stderr",
     "output_type": "stream",
     "text": [
      "\rMorphologyExtractor transform:  26%|██▌       | 25761/100000 [00:01<00:04, 16497.88it/s]"
     ]
    },
    {
     "name": "stderr",
     "output_type": "stream",
     "text": [
      "\rMorphologyExtractor transform:  27%|██▋       | 27342/100000 [00:01<00:04, 16087.31it/s]"
     ]
    },
    {
     "name": "stderr",
     "output_type": "stream",
     "text": [
      "\rMorphologyExtractor transform:  29%|██▉       | 28792/100000 [00:01<00:04, 15870.79it/s]"
     ]
    },
    {
     "name": "stderr",
     "output_type": "stream",
     "text": [
      "\rMorphologyExtractor transform:  31%|███       | 30764/100000 [00:01<00:04, 16071.84it/s]"
     ]
    },
    {
     "name": "stderr",
     "output_type": "stream",
     "text": [
      "\rMorphologyExtractor transform:  33%|███▎      | 33244/100000 [00:02<00:04, 16505.10it/s]"
     ]
    },
    {
     "name": "stderr",
     "output_type": "stream",
     "text": [
      "\rMorphologyExtractor transform:  36%|███▌      | 35604/100000 [00:02<00:03, 16840.29it/s]"
     ]
    },
    {
     "name": "stderr",
     "output_type": "stream",
     "text": [
      "\rMorphologyExtractor transform:  38%|███▊      | 38064/100000 [00:02<00:03, 17189.73it/s]"
     ]
    },
    {
     "name": "stderr",
     "output_type": "stream",
     "text": [
      "\rMorphologyExtractor transform:  40%|████      | 40467/100000 [00:02<00:03, 17485.27it/s]"
     ]
    },
    {
     "name": "stderr",
     "output_type": "stream",
     "text": [
      "\rMorphologyExtractor transform:  43%|████▎     | 42683/100000 [00:02<00:03, 17032.93it/s]"
     ]
    },
    {
     "name": "stderr",
     "output_type": "stream",
     "text": [
      "\rMorphologyExtractor transform:  45%|████▌     | 45187/100000 [00:02<00:03, 17339.53it/s]"
     ]
    },
    {
     "name": "stderr",
     "output_type": "stream",
     "text": [
      "\rMorphologyExtractor transform:  48%|████▊     | 47640/100000 [00:02<00:02, 17605.24it/s]"
     ]
    },
    {
     "name": "stderr",
     "output_type": "stream",
     "text": [
      "\rMorphologyExtractor transform:  50%|█████     | 50273/100000 [00:02<00:02, 17916.13it/s]"
     ]
    },
    {
     "name": "stderr",
     "output_type": "stream",
     "text": [
      "\rMorphologyExtractor transform:  53%|█████▎    | 52920/100000 [00:02<00:02, 18210.13it/s]"
     ]
    },
    {
     "name": "stderr",
     "output_type": "stream",
     "text": [
      "\rMorphologyExtractor transform:  55%|█████▌    | 55429/100000 [00:03<00:02, 18438.78it/s]"
     ]
    },
    {
     "name": "stderr",
     "output_type": "stream",
     "text": [
      "\rMorphologyExtractor transform:  58%|█████▊    | 58088/100000 [00:03<00:02, 18701.17it/s]"
     ]
    },
    {
     "name": "stderr",
     "output_type": "stream",
     "text": [
      "\rMorphologyExtractor transform:  61%|██████    | 60599/100000 [00:03<00:02, 18833.76it/s]"
     ]
    },
    {
     "name": "stderr",
     "output_type": "stream",
     "text": [
      "\rMorphologyExtractor transform:  63%|██████▎   | 63033/100000 [00:03<00:02, 18372.90it/s]"
     ]
    },
    {
     "name": "stderr",
     "output_type": "stream",
     "text": [
      "\rMorphologyExtractor transform:  66%|██████▌   | 65725/100000 [00:03<00:01, 18614.93it/s]"
     ]
    },
    {
     "name": "stderr",
     "output_type": "stream",
     "text": [
      "\rMorphologyExtractor transform:  68%|██████▊   | 68215/100000 [00:03<00:01, 18788.02it/s]"
     ]
    },
    {
     "name": "stderr",
     "output_type": "stream",
     "text": [
      "\rMorphologyExtractor transform:  71%|███████   | 70613/100000 [00:03<00:01, 18926.86it/s]"
     ]
    },
    {
     "name": "stderr",
     "output_type": "stream",
     "text": [
      "\rMorphologyExtractor transform:  73%|███████▎  | 73290/100000 [00:03<00:01, 19131.54it/s]"
     ]
    },
    {
     "name": "stderr",
     "output_type": "stream",
     "text": [
      "\rMorphologyExtractor transform:  76%|███████▌  | 75915/100000 [00:03<00:01, 19312.48it/s]"
     ]
    },
    {
     "name": "stderr",
     "output_type": "stream",
     "text": [
      "\rMorphologyExtractor transform:  78%|███████▊  | 78441/100000 [00:04<00:01, 19460.02it/s]"
     ]
    },
    {
     "name": "stderr",
     "output_type": "stream",
     "text": [
      "\rMorphologyExtractor transform:  81%|████████  | 81149/100000 [00:04<00:00, 19644.47it/s]"
     ]
    },
    {
     "name": "stderr",
     "output_type": "stream",
     "text": [
      "\rMorphologyExtractor transform:  84%|████████▎ | 83715/100000 [00:04<00:00, 19774.16it/s]"
     ]
    },
    {
     "name": "stderr",
     "output_type": "stream",
     "text": [
      "\rMorphologyExtractor transform:  86%|████████▋ | 86428/100000 [00:04<00:00, 19943.89it/s]"
     ]
    },
    {
     "name": "stderr",
     "output_type": "stream",
     "text": [
      "\rMorphologyExtractor transform:  89%|████████▉ | 89024/100000 [00:04<00:00, 19478.49it/s]"
     ]
    },
    {
     "name": "stderr",
     "output_type": "stream",
     "text": [
      "\rMorphologyExtractor transform:  92%|█████████▏| 91692/100000 [00:04<00:00, 19632.48it/s]"
     ]
    },
    {
     "name": "stderr",
     "output_type": "stream",
     "text": [
      "\rMorphologyExtractor transform:  94%|█████████▍| 94261/100000 [00:04<00:00, 19759.40it/s]"
     ]
    },
    {
     "name": "stderr",
     "output_type": "stream",
     "text": [
      "\rMorphologyExtractor transform:  97%|█████████▋| 96956/100000 [00:04<00:00, 19907.02it/s]"
     ]
    },
    {
     "name": "stderr",
     "output_type": "stream",
     "text": [
      "\rMorphologyExtractor transform: 100%|█████████▉| 99656/100000 [00:04<00:00, 20049.70it/s]"
     ]
    },
    {
     "name": "stderr",
     "output_type": "stream",
     "text": [
      "\rMorphologyExtractor transform: 100%|██████████| 100000/100000 [00:04<00:00, 20052.35it/s]"
     ]
    },
    {
     "name": "stderr",
     "output_type": "stream",
     "text": [
      "\n"
     ]
    },
    {
     "name": "stderr",
     "output_type": "stream",
     "text": [
      "\rMorphologyExtractor transform:   0%|          | 0/100000 [00:00<?, ?it/s]"
     ]
    },
    {
     "name": "stderr",
     "output_type": "stream",
     "text": [
      "\rMorphologyExtractor transform:   2%|▏         | 1663/100000 [00:00<00:05, 16602.43it/s]"
     ]
    },
    {
     "name": "stderr",
     "output_type": "stream",
     "text": [
      "\rMorphologyExtractor transform:   4%|▎         | 3550/100000 [00:00<00:05, 17743.86it/s]"
     ]
    },
    {
     "name": "stderr",
     "output_type": "stream",
     "text": [
      "\rMorphologyExtractor transform:   5%|▌         | 5485/100000 [00:00<00:05, 18278.09it/s]"
     ]
    },
    {
     "name": "stderr",
     "output_type": "stream",
     "text": [
      "\rMorphologyExtractor transform:   7%|▋         | 7441/100000 [00:00<00:04, 18598.74it/s]"
     ]
    },
    {
     "name": "stderr",
     "output_type": "stream",
     "text": [
      "\rMorphologyExtractor transform:   9%|▉         | 9462/100000 [00:00<00:04, 18917.52it/s]"
     ]
    },
    {
     "name": "stderr",
     "output_type": "stream",
     "text": [
      "\rMorphologyExtractor transform:  12%|█▏        | 11523/100000 [00:00<00:04, 19171.99it/s]"
     ]
    },
    {
     "name": "stderr",
     "output_type": "stream",
     "text": [
      "\rMorphologyExtractor transform:  14%|█▍        | 13848/100000 [00:00<00:04, 19753.48it/s]"
     ]
    },
    {
     "name": "stderr",
     "output_type": "stream",
     "text": [
      "\rMorphologyExtractor transform:  16%|█▌        | 16015/100000 [00:00<00:04, 19991.96it/s]"
     ]
    },
    {
     "name": "stderr",
     "output_type": "stream",
     "text": [
      "\rMorphologyExtractor transform:  18%|█▊        | 18232/100000 [00:00<00:04, 20232.98it/s]"
     ]
    },
    {
     "name": "stderr",
     "output_type": "stream",
     "text": [
      "\rMorphologyExtractor transform:  20%|██        | 20292/100000 [00:01<00:04, 18612.04it/s]"
     ]
    },
    {
     "name": "stderr",
     "output_type": "stream",
     "text": [
      "\rMorphologyExtractor transform:  23%|██▎       | 22573/100000 [00:01<00:04, 18964.57it/s]"
     ]
    },
    {
     "name": "stderr",
     "output_type": "stream",
     "text": [
      "\rMorphologyExtractor transform:  25%|██▍       | 24849/100000 [00:01<00:03, 19258.10it/s]"
     ]
    },
    {
     "name": "stderr",
     "output_type": "stream",
     "text": [
      "\rMorphologyExtractor transform:  27%|██▋       | 27275/100000 [00:01<00:03, 19617.71it/s]"
     ]
    },
    {
     "name": "stderr",
     "output_type": "stream",
     "text": [
      "\rMorphologyExtractor transform:  30%|██▉       | 29662/100000 [00:01<00:03, 19901.92it/s]"
     ]
    },
    {
     "name": "stderr",
     "output_type": "stream",
     "text": [
      "\rMorphologyExtractor transform:  32%|███▏      | 32193/100000 [00:01<00:03, 20240.72it/s]"
     ]
    },
    {
     "name": "stderr",
     "output_type": "stream",
     "text": [
      "\rMorphologyExtractor transform:  35%|███▍      | 34505/100000 [00:01<00:03, 20400.72it/s]"
     ]
    },
    {
     "name": "stderr",
     "output_type": "stream",
     "text": [
      "\rMorphologyExtractor transform:  37%|███▋      | 36892/100000 [00:01<00:03, 20594.25it/s]"
     ]
    },
    {
     "name": "stderr",
     "output_type": "stream",
     "text": [
      "\rMorphologyExtractor transform:  39%|███▉      | 39425/100000 [00:01<00:02, 20839.08it/s]"
     ]
    },
    {
     "name": "stderr",
     "output_type": "stream",
     "text": [
      "\rMorphologyExtractor transform:  42%|████▏     | 41813/100000 [00:02<00:02, 19718.14it/s]"
     ]
    },
    {
     "name": "stderr",
     "output_type": "stream",
     "text": [
      "\rMorphologyExtractor transform:  44%|████▍     | 44148/100000 [00:02<00:02, 19881.62it/s]"
     ]
    },
    {
     "name": "stderr",
     "output_type": "stream",
     "text": [
      "\rMorphologyExtractor transform:  46%|████▋     | 46471/100000 [00:02<00:02, 20025.65it/s]"
     ]
    },
    {
     "name": "stderr",
     "output_type": "stream",
     "text": [
      "\rMorphologyExtractor transform:  49%|████▉     | 48856/100000 [00:02<00:02, 20183.53it/s]"
     ]
    },
    {
     "name": "stderr",
     "output_type": "stream",
     "text": [
      "\rMorphologyExtractor transform:  51%|█████▏    | 51325/100000 [00:02<00:02, 20362.18it/s]"
     ]
    },
    {
     "name": "stderr",
     "output_type": "stream",
     "text": [
      "\rMorphologyExtractor transform:  54%|█████▍    | 53815/100000 [00:02<00:02, 20534.75it/s]"
     ]
    },
    {
     "name": "stderr",
     "output_type": "stream",
     "text": [
      "\rMorphologyExtractor transform:  56%|█████▋    | 56399/100000 [00:02<00:02, 20729.74it/s]"
     ]
    },
    {
     "name": "stderr",
     "output_type": "stream",
     "text": [
      "\rMorphologyExtractor transform:  59%|█████▉    | 58952/100000 [00:02<00:01, 20899.76it/s]"
     ]
    },
    {
     "name": "stderr",
     "output_type": "stream",
     "text": [
      "\rMorphologyExtractor transform:  61%|██████▏   | 61415/100000 [00:02<00:01, 21011.93it/s]"
     ]
    },
    {
     "name": "stderr",
     "output_type": "stream",
     "text": [
      "\rMorphologyExtractor transform:  64%|██████▍   | 63928/100000 [00:03<00:01, 21148.04it/s]"
     ]
    },
    {
     "name": "stderr",
     "output_type": "stream",
     "text": [
      "\rMorphologyExtractor transform:  66%|██████▋   | 66395/100000 [00:03<00:01, 20327.79it/s]"
     ]
    },
    {
     "name": "stderr",
     "output_type": "stream",
     "text": [
      "\rMorphologyExtractor transform:  69%|██████▉   | 68848/100000 [00:03<00:01, 20452.42it/s]"
     ]
    },
    {
     "name": "stderr",
     "output_type": "stream",
     "text": [
      "\rMorphologyExtractor transform:  71%|███████▏  | 71315/100000 [00:03<00:01, 20573.85it/s]"
     ]
    },
    {
     "name": "stderr",
     "output_type": "stream",
     "text": [
      "\rMorphologyExtractor transform:  74%|███████▍  | 73846/100000 [00:03<00:01, 20706.48it/s]"
     ]
    },
    {
     "name": "stderr",
     "output_type": "stream",
     "text": [
      "\rMorphologyExtractor transform:  76%|███████▋  | 76363/100000 [00:03<00:01, 20828.16it/s]"
     ]
    },
    {
     "name": "stderr",
     "output_type": "stream",
     "text": [
      "\rMorphologyExtractor transform:  79%|███████▉  | 78892/100000 [00:03<00:01, 20946.59it/s]"
     ]
    },
    {
     "name": "stderr",
     "output_type": "stream",
     "text": [
      "\rMorphologyExtractor transform:  82%|████████▏ | 81622/100000 [00:03<00:00, 21110.86it/s]"
     ]
    },
    {
     "name": "stderr",
     "output_type": "stream",
     "text": [
      "\rMorphologyExtractor transform:  84%|████████▍ | 84249/100000 [00:03<00:00, 21239.16it/s]"
     ]
    },
    {
     "name": "stderr",
     "output_type": "stream",
     "text": [
      "\rMorphologyExtractor transform:  87%|████████▋ | 86960/100000 [00:04<00:00, 21383.00it/s]"
     ]
    },
    {
     "name": "stderr",
     "output_type": "stream",
     "text": [
      "\rMorphologyExtractor transform:  90%|████████▉ | 89558/100000 [00:04<00:00, 21478.43it/s]"
     ]
    },
    {
     "name": "stderr",
     "output_type": "stream",
     "text": [
      "\rMorphologyExtractor transform:  92%|█████████▏| 92177/100000 [00:04<00:00, 21588.74it/s]"
     ]
    },
    {
     "name": "stderr",
     "output_type": "stream",
     "text": [
      "\rMorphologyExtractor transform:  95%|█████████▍| 94795/100000 [00:04<00:00, 21693.58it/s]"
     ]
    },
    {
     "name": "stderr",
     "output_type": "stream",
     "text": [
      "\rMorphologyExtractor transform:  98%|█████████▊| 97504/100000 [00:04<00:00, 21814.22it/s]"
     ]
    },
    {
     "name": "stderr",
     "output_type": "stream",
     "text": [
      "\rMorphologyExtractor transform: 100%|██████████| 100000/100000 [00:04<00:00, 21063.98it/s]"
     ]
    },
    {
     "name": "stderr",
     "output_type": "stream",
     "text": [
      "\n\rMorphologyExtractor transform:   0%|          | 0/100000 [00:00<?, ?it/s]"
     ]
    },
    {
     "name": "stderr",
     "output_type": "stream",
     "text": [
      "\rMorphologyExtractor transform:   2%|▏         | 1731/100000 [00:00<00:05, 17298.96it/s]"
     ]
    },
    {
     "name": "stderr",
     "output_type": "stream",
     "text": [
      "\rMorphologyExtractor transform:   4%|▎         | 3606/100000 [00:00<00:05, 18017.04it/s]"
     ]
    },
    {
     "name": "stderr",
     "output_type": "stream",
     "text": [
      "\rMorphologyExtractor transform:   5%|▌         | 5394/100000 [00:00<00:05, 17970.96it/s]"
     ]
    },
    {
     "name": "stderr",
     "output_type": "stream",
     "text": [
      "\rMorphologyExtractor transform:   7%|▋         | 7312/100000 [00:00<00:05, 18270.68it/s]"
     ]
    },
    {
     "name": "stderr",
     "output_type": "stream",
     "text": [
      "\rMorphologyExtractor transform:   9%|▉         | 9340/100000 [00:00<00:04, 18672.16it/s]"
     ]
    },
    {
     "name": "stderr",
     "output_type": "stream",
     "text": [
      "\rMorphologyExtractor transform:  11%|█▏        | 11329/100000 [00:00<00:04, 18873.50it/s]"
     ]
    },
    {
     "name": "stderr",
     "output_type": "stream",
     "text": [
      "\rMorphologyExtractor transform:  14%|█▎        | 13571/100000 [00:00<00:04, 19379.31it/s]"
     ]
    },
    {
     "name": "stderr",
     "output_type": "stream",
     "text": [
      "\rMorphologyExtractor transform:  16%|█▌        | 15807/100000 [00:00<00:04, 19746.83it/s]"
     ]
    },
    {
     "name": "stderr",
     "output_type": "stream",
     "text": [
      "\rMorphologyExtractor transform:  18%|█▊        | 18039/100000 [00:00<00:04, 20032.40it/s]"
     ]
    },
    {
     "name": "stderr",
     "output_type": "stream",
     "text": [
      "\rMorphologyExtractor transform:  20%|██        | 20317/100000 [00:01<00:03, 20306.87it/s]"
     ]
    },
    {
     "name": "stderr",
     "output_type": "stream",
     "text": [
      "\rMorphologyExtractor transform:  23%|██▎       | 22518/100000 [00:01<00:03, 20461.46it/s]"
     ]
    },
    {
     "name": "stderr",
     "output_type": "stream",
     "text": [
      "\rMorphologyExtractor transform:  25%|██▍       | 24814/100000 [00:01<00:03, 20661.79it/s]"
     ]
    },
    {
     "name": "stderr",
     "output_type": "stream",
     "text": [
      "\rMorphologyExtractor transform:  27%|██▋       | 27002/100000 [00:01<00:03, 20737.56it/s]"
     ]
    },
    {
     "name": "stderr",
     "output_type": "stream",
     "text": [
      "\rMorphologyExtractor transform:  29%|██▉       | 29343/100000 [00:01<00:03, 20926.31it/s]"
     ]
    },
    {
     "name": "stderr",
     "output_type": "stream",
     "text": [
      "\rMorphologyExtractor transform:  32%|███▏      | 31727/100000 [00:01<00:03, 21120.09it/s]"
     ]
    },
    {
     "name": "stderr",
     "output_type": "stream",
     "text": [
      "\rMorphologyExtractor transform:  34%|███▍      | 34157/100000 [00:01<00:03, 21318.03it/s]"
     ]
    },
    {
     "name": "stderr",
     "output_type": "stream",
     "text": [
      "\rMorphologyExtractor transform:  36%|███▋      | 36478/100000 [00:01<00:03, 19719.03it/s]"
     ]
    },
    {
     "name": "stderr",
     "output_type": "stream",
     "text": [
      "\rMorphologyExtractor transform:  39%|███▉      | 39033/100000 [00:01<00:03, 20018.15it/s]"
     ]
    },
    {
     "name": "stderr",
     "output_type": "stream",
     "text": [
      "\rMorphologyExtractor transform:  41%|████▏     | 41445/100000 [00:02<00:02, 20218.05it/s]"
     ]
    },
    {
     "name": "stderr",
     "output_type": "stream",
     "text": [
      "\rMorphologyExtractor transform:  44%|████▍     | 43894/100000 [00:02<00:02, 20416.72it/s]"
     ]
    },
    {
     "name": "stderr",
     "output_type": "stream",
     "text": [
      "\rMorphologyExtractor transform:  46%|████▋     | 46387/100000 [00:02<00:02, 20617.28it/s]"
     ]
    },
    {
     "name": "stderr",
     "output_type": "stream",
     "text": [
      "\rMorphologyExtractor transform:  49%|████▉     | 48954/100000 [00:02<00:02, 20832.28it/s]"
     ]
    },
    {
     "name": "stderr",
     "output_type": "stream",
     "text": [
      "\rMorphologyExtractor transform:  51%|█████▏    | 51421/100000 [00:02<00:02, 20986.81it/s]"
     ]
    },
    {
     "name": "stderr",
     "output_type": "stream",
     "text": [
      "\rMorphologyExtractor transform:  54%|█████▍    | 53887/100000 [00:02<00:02, 21130.78it/s]"
     ]
    },
    {
     "name": "stderr",
     "output_type": "stream",
     "text": [
      "\rMorphologyExtractor transform:  56%|█████▋    | 56477/100000 [00:02<00:02, 21310.64it/s]"
     ]
    },
    {
     "name": "stderr",
     "output_type": "stream",
     "text": [
      "\rMorphologyExtractor transform:  59%|█████▉    | 58978/100000 [00:02<00:01, 21445.04it/s]"
     ]
    },
    {
     "name": "stderr",
     "output_type": "stream",
     "text": [
      "\rMorphologyExtractor transform:  61%|██████▏   | 61466/100000 [00:02<00:01, 21558.77it/s]"
     ]
    },
    {
     "name": "stderr",
     "output_type": "stream",
     "text": [
      "\rMorphologyExtractor transform:  64%|██████▍   | 64070/100000 [00:02<00:01, 21710.55it/s]"
     ]
    },
    {
     "name": "stderr",
     "output_type": "stream",
     "text": [
      "\rMorphologyExtractor transform:  67%|██████▋   | 66588/100000 [00:03<00:01, 21810.02it/s]"
     ]
    },
    {
     "name": "stderr",
     "output_type": "stream",
     "text": [
      "\rMorphologyExtractor transform:  69%|██████▉   | 69092/100000 [00:03<00:01, 20710.51it/s]"
     ]
    },
    {
     "name": "stderr",
     "output_type": "stream",
     "text": [
      "\rMorphologyExtractor transform:  72%|███████▏  | 71513/100000 [00:03<00:01, 20812.30it/s]"
     ]
    },
    {
     "name": "stderr",
     "output_type": "stream",
     "text": [
      "\rMorphologyExtractor transform:  74%|███████▍  | 73933/100000 [00:03<00:01, 20908.05it/s]"
     ]
    },
    {
     "name": "stderr",
     "output_type": "stream",
     "text": [
      "\rMorphologyExtractor transform:  77%|███████▋  | 76565/100000 [00:03<00:01, 21056.83it/s]"
     ]
    },
    {
     "name": "stderr",
     "output_type": "stream",
     "text": [
      "\rMorphologyExtractor transform:  79%|███████▉  | 79119/100000 [00:03<00:00, 21176.57it/s]"
     ]
    },
    {
     "name": "stderr",
     "output_type": "stream",
     "text": [
      "\rMorphologyExtractor transform:  82%|████████▏ | 81618/100000 [00:03<00:00, 21275.91it/s]"
     ]
    },
    {
     "name": "stderr",
     "output_type": "stream",
     "text": [
      "\rMorphologyExtractor transform:  84%|████████▍ | 84156/100000 [00:03<00:00, 21379.41it/s]"
     ]
    },
    {
     "name": "stderr",
     "output_type": "stream",
     "text": [
      "\rMorphologyExtractor transform:  87%|████████▋ | 86721/100000 [00:04<00:00, 21485.18it/s]"
     ]
    },
    {
     "name": "stderr",
     "output_type": "stream",
     "text": [
      "\rMorphologyExtractor transform:  89%|████████▉ | 89312/100000 [00:04<00:00, 21589.21it/s]"
     ]
    },
    {
     "name": "stderr",
     "output_type": "stream",
     "text": [
      "\rMorphologyExtractor transform:  92%|█████████▏| 91898/100000 [00:04<00:00, 21689.85it/s]"
     ]
    },
    {
     "name": "stderr",
     "output_type": "stream",
     "text": [
      "\rMorphologyExtractor transform:  95%|█████████▍| 94577/100000 [00:04<00:00, 21807.43it/s]"
     ]
    },
    {
     "name": "stderr",
     "output_type": "stream",
     "text": [
      "\rMorphologyExtractor transform:  97%|█████████▋| 97286/100000 [00:04<00:00, 21926.19it/s]"
     ]
    },
    {
     "name": "stderr",
     "output_type": "stream",
     "text": [
      "\rMorphologyExtractor transform: 100%|██████████| 100000/100000 [00:04<00:00, 22053.19it/s]"
     ]
    },
    {
     "name": "stderr",
     "output_type": "stream",
     "text": [
      "\n"
     ]
    },
    {
     "name": "stderr",
     "output_type": "stream",
     "text": [
      "\rMorphologyExtractor transform:   0%|          | 0/100000 [00:00<?, ?it/s]"
     ]
    },
    {
     "name": "stderr",
     "output_type": "stream",
     "text": [
      "\rMorphologyExtractor transform:   5%|▌         | 5094/100000 [00:00<00:01, 50920.14it/s]"
     ]
    },
    {
     "name": "stderr",
     "output_type": "stream",
     "text": [
      "\rMorphologyExtractor transform:  10%|▉         | 9896/100000 [00:00<00:01, 49471.08it/s]"
     ]
    },
    {
     "name": "stderr",
     "output_type": "stream",
     "text": [
      "\rMorphologyExtractor transform:  12%|█▏        | 12407/100000 [00:00<00:02, 30840.69it/s]"
     ]
    },
    {
     "name": "stderr",
     "output_type": "stream",
     "text": [
      "\rMorphologyExtractor transform:  17%|█▋        | 17320/100000 [00:00<00:02, 34481.53it/s]"
     ]
    },
    {
     "name": "stderr",
     "output_type": "stream",
     "text": [
      "\rMorphologyExtractor transform:  22%|██▏       | 22463/100000 [00:00<00:02, 37295.24it/s]"
     ]
    },
    {
     "name": "stderr",
     "output_type": "stream",
     "text": [
      "\rMorphologyExtractor transform:  27%|██▋       | 27421/100000 [00:00<00:01, 39043.46it/s]"
     ]
    },
    {
     "name": "stderr",
     "output_type": "stream",
     "text": [
      "\rMorphologyExtractor transform:  33%|███▎      | 32560/100000 [00:00<00:01, 40581.91it/s]"
     ]
    },
    {
     "name": "stderr",
     "output_type": "stream",
     "text": [
      "\rMorphologyExtractor transform:  38%|███▊      | 37808/100000 [00:00<00:01, 41899.85it/s]"
     ]
    },
    {
     "name": "stderr",
     "output_type": "stream",
     "text": [
      "\rMorphologyExtractor transform:  43%|████▎     | 42958/100000 [00:01<00:01, 42856.64it/s]"
     ]
    },
    {
     "name": "stderr",
     "output_type": "stream",
     "text": [
      "\rMorphologyExtractor transform:  48%|████▊     | 47768/100000 [00:01<00:01, 43331.26it/s]"
     ]
    },
    {
     "name": "stderr",
     "output_type": "stream",
     "text": [
      "\rMorphologyExtractor transform:  53%|█████▎    | 52558/100000 [00:01<00:01, 38287.24it/s]"
     ]
    },
    {
     "name": "stderr",
     "output_type": "stream",
     "text": [
      "\rMorphologyExtractor transform:  58%|█████▊    | 57597/100000 [00:01<00:01, 39109.13it/s]"
     ]
    },
    {
     "name": "stderr",
     "output_type": "stream",
     "text": [
      "\rMorphologyExtractor transform:  62%|██████▏   | 62010/100000 [00:01<00:00, 39428.07it/s]"
     ]
    },
    {
     "name": "stderr",
     "output_type": "stream",
     "text": [
      "\rMorphologyExtractor transform:  67%|██████▋   | 66980/100000 [00:01<00:00, 40041.86it/s]"
     ]
    },
    {
     "name": "stderr",
     "output_type": "stream",
     "text": [
      "\rMorphologyExtractor transform:  72%|███████▏  | 71965/100000 [00:01<00:00, 40594.34it/s]"
     ]
    },
    {
     "name": "stderr",
     "output_type": "stream",
     "text": [
      "\rMorphologyExtractor transform:  77%|███████▋  | 77092/100000 [00:01<00:00, 41164.69it/s]"
     ]
    },
    {
     "name": "stderr",
     "output_type": "stream",
     "text": [
      "\rMorphologyExtractor transform:  82%|████████▏ | 82103/100000 [00:01<00:00, 41617.58it/s]"
     ]
    },
    {
     "name": "stderr",
     "output_type": "stream",
     "text": [
      "\rMorphologyExtractor transform:  87%|████████▋ | 87178/100000 [00:02<00:00, 42058.02it/s]"
     ]
    },
    {
     "name": "stderr",
     "output_type": "stream",
     "text": [
      "\rMorphologyExtractor transform:  92%|█████████▏| 92174/100000 [00:02<00:00, 42420.74it/s]"
     ]
    },
    {
     "name": "stderr",
     "output_type": "stream",
     "text": [
      "\rMorphologyExtractor transform:  97%|█████████▋| 97116/100000 [00:02<00:00, 39187.82it/s]"
     ]
    },
    {
     "name": "stderr",
     "output_type": "stream",
     "text": [
      "\rMorphologyExtractor transform: 100%|██████████| 100000/100000 [00:02<00:00, 39354.83it/s]"
     ]
    },
    {
     "name": "stderr",
     "output_type": "stream",
     "text": [
      "\n"
     ]
    },
    {
     "name": "stderr",
     "output_type": "stream",
     "text": [
      "\rMorphologyExtractor transform:   0%|          | 0/100000 [00:00<?, ?it/s]"
     ]
    },
    {
     "name": "stderr",
     "output_type": "stream",
     "text": [
      "\rMorphologyExtractor transform:   3%|▎         | 3388/100000 [00:00<00:02, 33866.47it/s]"
     ]
    },
    {
     "name": "stderr",
     "output_type": "stream",
     "text": [
      "\rMorphologyExtractor transform:   8%|▊         | 8334/100000 [00:00<00:02, 41660.21it/s]"
     ]
    },
    {
     "name": "stderr",
     "output_type": "stream",
     "text": [
      "\rMorphologyExtractor transform:  13%|█▎        | 13323/100000 [00:00<00:01, 44402.88it/s]"
     ]
    },
    {
     "name": "stderr",
     "output_type": "stream",
     "text": [
      "\rMorphologyExtractor transform:  18%|█▊        | 18278/100000 [00:00<00:01, 45689.19it/s]"
     ]
    },
    {
     "name": "stderr",
     "output_type": "stream",
     "text": [
      "\rMorphologyExtractor transform:  24%|██▎       | 23625/100000 [00:00<00:01, 47245.00it/s]"
     ]
    },
    {
     "name": "stderr",
     "output_type": "stream",
     "text": [
      "\rMorphologyExtractor transform:  29%|██▊       | 28659/100000 [00:00<00:01, 47760.30it/s]"
     ]
    },
    {
     "name": "stderr",
     "output_type": "stream",
     "text": [
      "\rMorphologyExtractor transform:  34%|███▍      | 33875/100000 [00:00<00:01, 48387.25it/s]"
     ]
    },
    {
     "name": "stderr",
     "output_type": "stream",
     "text": [
      "\rMorphologyExtractor transform:  39%|███▉      | 39183/100000 [00:00<00:01, 48973.56it/s]"
     ]
    },
    {
     "name": "stderr",
     "output_type": "stream",
     "text": [
      "\rMorphologyExtractor transform:  44%|████▍     | 44386/100000 [00:00<00:01, 49311.70it/s]"
     ]
    },
    {
     "name": "stderr",
     "output_type": "stream",
     "text": [
      "\rMorphologyExtractor transform:  50%|████▉     | 49519/100000 [00:01<00:01, 49513.11it/s]"
     ]
    },
    {
     "name": "stderr",
     "output_type": "stream",
     "text": [
      "\rMorphologyExtractor transform:  55%|█████▍    | 54525/100000 [00:01<00:01, 42585.71it/s]"
     ]
    },
    {
     "name": "stderr",
     "output_type": "stream",
     "text": [
      "\rMorphologyExtractor transform:  60%|█████▉    | 59703/100000 [00:01<00:00, 43251.61it/s]"
     ]
    },
    {
     "name": "stderr",
     "output_type": "stream",
     "text": [
      "\rMorphologyExtractor transform:  65%|██████▍   | 64923/100000 [00:01<00:00, 43855.75it/s]"
     ]
    },
    {
     "name": "stderr",
     "output_type": "stream",
     "text": [
      "\rMorphologyExtractor transform:  70%|███████   | 70373/100000 [00:01<00:00, 44528.91it/s]"
     ]
    },
    {
     "name": "stderr",
     "output_type": "stream",
     "text": [
      "\rMorphologyExtractor transform:  75%|███████▌  | 75253/100000 [00:01<00:00, 44782.95it/s]"
     ]
    },
    {
     "name": "stderr",
     "output_type": "stream",
     "text": [
      "\rMorphologyExtractor transform:  80%|████████  | 80132/100000 [00:01<00:00, 45007.49it/s]"
     ]
    },
    {
     "name": "stderr",
     "output_type": "stream",
     "text": [
      "\rMorphologyExtractor transform:  85%|████████▌ | 85319/100000 [00:01<00:00, 45372.07it/s]"
     ]
    },
    {
     "name": "stderr",
     "output_type": "stream",
     "text": [
      "\rMorphologyExtractor transform:  90%|█████████ | 90290/100000 [00:01<00:00, 45579.76it/s]"
     ]
    },
    {
     "name": "stderr",
     "output_type": "stream",
     "text": [
      "\rMorphologyExtractor transform:  95%|█████████▌| 95254/100000 [00:02<00:00, 45691.16it/s]"
     ]
    },
    {
     "name": "stderr",
     "output_type": "stream",
     "text": [
      "\rMorphologyExtractor transform: 100%|██████████| 100000/100000 [00:02<00:00, 45988.45it/s]"
     ]
    },
    {
     "name": "stderr",
     "output_type": "stream",
     "text": [
      "\n"
     ]
    },
    {
     "name": "stderr",
     "output_type": "stream",
     "text": [
      "\rMorphologyExtractor transform:   0%|          | 0/100000 [00:00<?, ?it/s]"
     ]
    },
    {
     "name": "stderr",
     "output_type": "stream",
     "text": [
      "\rMorphologyExtractor transform:   3%|▎         | 3163/100000 [00:00<00:07, 13358.21it/s]"
     ]
    },
    {
     "name": "stderr",
     "output_type": "stream",
     "text": [
      "\rMorphologyExtractor transform:   8%|▊         | 7964/100000 [00:00<00:03, 23646.56it/s]"
     ]
    },
    {
     "name": "stderr",
     "output_type": "stream",
     "text": [
      "\rMorphologyExtractor transform:  13%|█▎        | 13126/100000 [00:00<00:02, 30049.68it/s]"
     ]
    },
    {
     "name": "stderr",
     "output_type": "stream",
     "text": [
      "\rMorphologyExtractor transform:  18%|█▊        | 17874/100000 [00:00<00:02, 33296.50it/s]"
     ]
    },
    {
     "name": "stderr",
     "output_type": "stream",
     "text": [
      "\rMorphologyExtractor transform:  23%|██▎       | 22875/100000 [00:00<00:02, 35920.22it/s]"
     ]
    },
    {
     "name": "stderr",
     "output_type": "stream",
     "text": [
      "\rMorphologyExtractor transform:  28%|██▊       | 27904/100000 [00:00<00:01, 37870.63it/s]"
     ]
    },
    {
     "name": "stderr",
     "output_type": "stream",
     "text": [
      "\rMorphologyExtractor transform:  33%|███▎      | 33264/100000 [00:00<00:01, 39749.76it/s]"
     ]
    },
    {
     "name": "stderr",
     "output_type": "stream",
     "text": [
      "\rMorphologyExtractor transform:  38%|███▊      | 38483/100000 [00:00<00:01, 41077.41it/s]"
     ]
    },
    {
     "name": "stderr",
     "output_type": "stream",
     "text": [
      "\rMorphologyExtractor transform:  43%|████▎     | 43233/100000 [00:01<00:01, 36256.34it/s]"
     ]
    },
    {
     "name": "stderr",
     "output_type": "stream",
     "text": [
      "\rMorphologyExtractor transform:  48%|████▊     | 48292/100000 [00:01<00:01, 37364.93it/s]"
     ]
    },
    {
     "name": "stderr",
     "output_type": "stream",
     "text": [
      "\rMorphologyExtractor transform:  53%|█████▎    | 53464/100000 [00:01<00:01, 38395.47it/s]"
     ]
    },
    {
     "name": "stderr",
     "output_type": "stream",
     "text": [
      "\rMorphologyExtractor transform:  58%|█████▊    | 58408/100000 [00:01<00:01, 39135.12it/s]"
     ]
    },
    {
     "name": "stderr",
     "output_type": "stream",
     "text": [
      "\rMorphologyExtractor transform:  64%|██████▎   | 63505/100000 [00:01<00:00, 39877.97it/s]"
     ]
    },
    {
     "name": "stderr",
     "output_type": "stream",
     "text": [
      "\rMorphologyExtractor transform:  69%|██████▊   | 68737/100000 [00:01<00:00, 40613.07it/s]"
     ]
    },
    {
     "name": "stderr",
     "output_type": "stream",
     "text": [
      "\rMorphologyExtractor transform:  74%|███████▎  | 73654/100000 [00:01<00:00, 41090.30it/s]"
     ]
    },
    {
     "name": "stderr",
     "output_type": "stream",
     "text": [
      "\rMorphologyExtractor transform:  79%|███████▊  | 78703/100000 [00:01<00:00, 41586.79it/s]"
     ]
    },
    {
     "name": "stderr",
     "output_type": "stream",
     "text": [
      "\rMorphologyExtractor transform:  84%|████████▍ | 83924/100000 [00:01<00:00, 42119.90it/s]"
     ]
    },
    {
     "name": "stderr",
     "output_type": "stream",
     "text": [
      "\rMorphologyExtractor transform:  89%|████████▉ | 88960/100000 [00:02<00:00, 38734.75it/s]"
     ]
    },
    {
     "name": "stderr",
     "output_type": "stream",
     "text": [
      "\rMorphologyExtractor transform:  94%|█████████▍| 94004/100000 [00:02<00:00, 39222.97it/s]"
     ]
    },
    {
     "name": "stderr",
     "output_type": "stream",
     "text": [
      "\rMorphologyExtractor transform:  99%|█████████▉| 98912/100000 [00:02<00:00, 39617.67it/s]"
     ]
    },
    {
     "name": "stderr",
     "output_type": "stream",
     "text": [
      "\rMorphologyExtractor transform: 100%|██████████| 100000/100000 [00:02<00:00, 39644.38it/s]"
     ]
    },
    {
     "name": "stderr",
     "output_type": "stream",
     "text": [
      "\n"
     ]
    },
    {
     "name": "stdout",
     "output_type": "stream",
     "text": [
      "(100000, 199)\n"
     ]
    }
   ],
   "source": [
    "df = pd.read_csv(os.path.join(INPUT_PATH, 'ru_train.csv'),\n",
    "                 encoding='utf-8',\n",
    "                 index_col=False,\n",
    "                 usecols=['before', 'class'])\n",
    "df = df.sample(100000, random_state=2017)\n",
    "\n",
    "df['before_prev'] = df['before'].shift(1)\n",
    "df['before_next'] = df['before'].shift(-1)\n",
    "df['before_len'] = df['before'].str.len()\n",
    "df['before_wc'] = df['before'].map(lambda x: len(str(x).split()))\n",
    "df = df.fillna('')\n",
    "print(df.info())\n",
    "\n",
    "pipeline = Pipeline([\n",
    "    # ('features', FeatureUnion([\n",
    "    ('features', PandasUnion([\n",
    "        ('chars', Pipeline([\n",
    "            ('select', ItemSelector('before')),\n",
    "            ('split', StringSplitter(20))\n",
    "        ])),\n",
    "        ('context', Pipeline([\n",
    "            ('select', ItemSelector('before')),\n",
    "            ('extract', MorphologyExtractor()),\n",
    "            ('one_hot', DummiesEncoder())\n",
    "        ])),\n",
    "        ('chars_prev', Pipeline([\n",
    "            ('select', ItemSelector('before_prev')),\n",
    "            ('split', StringSplitter(10))\n",
    "        ])),\n",
    "        ('context_prev', Pipeline([\n",
    "            ('select', ItemSelector('before_prev')),\n",
    "            ('extract', MorphologyExtractor()),\n",
    "            ('one_hot', DummiesEncoder())\n",
    "        ])),\n",
    "        ('chars_next', Pipeline([\n",
    "            ('select', ItemSelector('before_next')),\n",
    "            ('split', StringSplitter(10))\n",
    "        ])),\n",
    "        ('context_next', Pipeline([\n",
    "            ('select', ItemSelector('before_next')),\n",
    "            ('extract', MorphologyExtractor()),\n",
    "            ('one_hot', DummiesEncoder())\n",
    "        ])),\n",
    "    ])),\n",
    "])\n",
    "\n",
    "x_data = pipeline.fit_transform(df.drop(['class'], axis=1))\n",
    "print(x_data.shape)\n",
    "\n",
    "y_data = pd.factorize(df['class'])\n",
    "labels = y_data[1]\n",
    "y_data = y_data[0]\n",
    "x_train, x_test, y_train, y_test = train_test_split(x_data, y_data, test_size=0.1, random_state=2017)"
   ]
  },
  {
   "cell_type": "markdown",
   "metadata": {},
   "source": [
    "#Search number of estimators by early stopping"
   ]
  },
  {
   "cell_type": "markdown",
   "metadata": {},
   "source": [
    "#Search number of estimators by early stopping"
   ]
  },
  {
   "cell_type": "code",
   "execution_count": 28,
   "metadata": {},
   "outputs": [],
   "source": [
    "xgtrain = xgb.DMatrix('models/class.txt.train#dtrain.cache')\n",
    "# xgtest = xgb.DMatrix('models/class.txt.test#dtest.cache')"
   ]
  },
  {
   "cell_type": "code",
   "execution_count": 29,
   "metadata": {},
   "outputs": [],
   "source": [
    "num_classes = len(set(xgtrain.get_label()))"
   ]
  },
  {
   "cell_type": "code",
   "execution_count": 41,
   "metadata": {},
   "outputs": [
    {
     "name": "stderr",
     "output_type": "stream",
     "text": [
      "/usr/local/lib/python3.6/site-packages/sklearn/model_selection/_split.py:597: Warning: The least populated class in y has only 1 members, which is too few. The minimum number of members in any class cannot be less than n_splits=10.\n  % (min_groups, self.n_splits)), Warning)\n"
     ]
    },
    {
     "name": "stdout",
     "output_type": "stream",
     "text": [
      "Best n_estimators value 10\n   test-merror-mean  test-merror-std  train-merror-mean  train-merror-std\n5          0.044060         0.022298           0.041477          0.003167\n6          0.044060         0.022298           0.041108          0.003543\n7          0.044060         0.022298           0.040367          0.003711\n8          0.045159         0.021993           0.039379          0.003386\n9          0.045159         0.021993           0.038641          0.003008\n"
     ]
    },
    {
     "data": {
      "image/png": "[encoded data removed]",
      "text/plain": [
       "<matplotlib.figure.Figure at 0x118a157f0>"
      ]
     },
     "metadata": {},
     "output_type": "display_data"
    }
   ],
   "source": [
    "xgb_param = {\n",
    " 'learning_rate': 0.03,\n",
    " 'num_boost_round': 1000,\n",
    " 'max_depth': 6,\n",
    " 'min_child_weight': 1,\n",
    " 'gamma': 0,\n",
    " 'subsample': 0.8,\n",
    " 'colsample_bytree': 0.8,\n",
    " 'objective': 'multi:softmax',\n",
    " 'num_class': num_classes,\n",
    " 'nthread': -1,\n",
    " 'scale_pos_weight': 1,\n",
    " 'seed': 2017}\n",
    "cvresult = xgb.cv(xgb_param, xgtrain, nfold=10, stratified=True,\n",
    "                  metrics='merror', early_stopping_rounds=100)\n",
    "print('Best n_estimators value', cvresult.shape[0])\n",
    "print(cvresult.tail(5))\n",
    "\n",
    "pyplot.errorbar(cvresult.index, cvresult['train-merror-mean'], yerr=cvresult['train-merror-std'])\n",
    "pyplot.title(\"XGBoost n_estimators vs Accuracy\")\n",
    "pyplot.xlabel('n_estimators')\n",
    "pyplot.ylabel('Accuracy')\n",
    "pyplot.savefig('n_estimators.png')"
   ]
  },
  {
   "cell_type": "markdown",
   "metadata": {},
   "source": [
    "#CV search"
   ]
  },
  {
   "cell_type": "code",
   "execution_count": 10,
   "metadata": {},
   "outputs": [
    {
     "name": "stdout",
     "output_type": "stream",
     "text": [
      "Fitting 10 folds for each of 7 candidates, totalling 70 fits\n"
     ]
    },
    {
     "name": "stderr",
     "output_type": "stream",
     "text": [
      "/usr/local/lib/python3.6/site-packages/sklearn/model_selection/_split.py:597: Warning: The least populated class in y has only 1 members, which is too few. The minimum number of members in any class cannot be less than n_splits=10.\n  % (min_groups, self.n_splits)), Warning)\n"
     ]
    },
    {
     "ename": "KeyboardInterrupt",
     "evalue": "",
     "traceback": [
      "\u001b[0;31m---------------------------------------------------------------------------\u001b[0m",
      "\u001b[0;31mKeyboardInterrupt\u001b[0m                         Traceback (most recent call last)",
      "\u001b[0;32m<ipython-input-10-d62b5fe16c26>\u001b[0m in \u001b[0;36m<module>\u001b[0;34m()\u001b[0m\n\u001b[1;32m      4\u001b[0m \u001b[0mkfold\u001b[0m \u001b[0;34m=\u001b[0m \u001b[0mStratifiedKFold\u001b[0m\u001b[0;34m(\u001b[0m\u001b[0mn_splits\u001b[0m\u001b[0;34m=\u001b[0m\u001b[0;36m10\u001b[0m\u001b[0;34m,\u001b[0m \u001b[0mshuffle\u001b[0m\u001b[0;34m=\u001b[0m\u001b[0;32mTrue\u001b[0m\u001b[0;34m,\u001b[0m \u001b[0mrandom_state\u001b[0m\u001b[0;34m=\u001b[0m\u001b[0;36m2017\u001b[0m\u001b[0;34m)\u001b[0m\u001b[0;34m\u001b[0m\u001b[0m\n\u001b[1;32m      5\u001b[0m \u001b[0mgrid_search\u001b[0m \u001b[0;34m=\u001b[0m \u001b[0mGridSearchCV\u001b[0m\u001b[0;34m(\u001b[0m\u001b[0mmodel\u001b[0m\u001b[0;34m,\u001b[0m \u001b[0mparam_grid\u001b[0m\u001b[0;34m,\u001b[0m \u001b[0mscoring\u001b[0m\u001b[0;34m=\u001b[0m\u001b[0;34m\"accuracy\"\u001b[0m\u001b[0;34m,\u001b[0m \u001b[0mn_jobs\u001b[0m\u001b[0;34m=\u001b[0m\u001b[0;34m-\u001b[0m\u001b[0;36m1\u001b[0m\u001b[0;34m,\u001b[0m \u001b[0mcv\u001b[0m\u001b[0;34m=\u001b[0m\u001b[0mkfold\u001b[0m\u001b[0;34m,\u001b[0m \u001b[0mverbose\u001b[0m\u001b[0;34m=\u001b[0m\u001b[0;36m1\u001b[0m\u001b[0;34m)\u001b[0m\u001b[0;34m\u001b[0m\u001b[0m\n\u001b[0;32m----> 6\u001b[0;31m \u001b[0mgrid_result\u001b[0m \u001b[0;34m=\u001b[0m \u001b[0mgrid_search\u001b[0m\u001b[0;34m.\u001b[0m\u001b[0mfit\u001b[0m\u001b[0;34m(\u001b[0m\u001b[0mx_train\u001b[0m\u001b[0;34m,\u001b[0m \u001b[0my_train\u001b[0m\u001b[0;34m)\u001b[0m\u001b[0;34m\u001b[0m\u001b[0m\n\u001b[0m\u001b[1;32m      7\u001b[0m \u001b[0;34m\u001b[0m\u001b[0m\n\u001b[1;32m      8\u001b[0m \u001b[0;31m# summarize results\u001b[0m\u001b[0;34m\u001b[0m\u001b[0;34m\u001b[0m\u001b[0m\n",
      "\u001b[0;32m/usr/local/lib/python3.6/site-packages/sklearn/model_selection/_search.py\u001b[0m in \u001b[0;36mfit\u001b[0;34m(self, X, y, groups, **fit_params)\u001b[0m\n\u001b[1;32m    636\u001b[0m                                   error_score=self.error_score)\n\u001b[1;32m    637\u001b[0m           for parameters, (train, test) in product(candidate_params,\n\u001b[0;32m--> 638\u001b[0;31m                                                    cv.split(X, y, groups)))\n\u001b[0m\u001b[1;32m    639\u001b[0m \u001b[0;34m\u001b[0m\u001b[0m\n\u001b[1;32m    640\u001b[0m         \u001b[0;31m# if one choose to see train score, \"out\" will contain train score info\u001b[0m\u001b[0;34m\u001b[0m\u001b[0;34m\u001b[0m\u001b[0m\n",
      "\u001b[0;32m/usr/local/lib/python3.6/site-packages/sklearn/externals/joblib/parallel.py\u001b[0m in \u001b[0;36m__call__\u001b[0;34m(self, iterable)\u001b[0m\n\u001b[1;32m    787\u001b[0m                 \u001b[0;31m# consumption.\u001b[0m\u001b[0;34m\u001b[0m\u001b[0;34m\u001b[0m\u001b[0m\n\u001b[1;32m    788\u001b[0m                 \u001b[0mself\u001b[0m\u001b[0;34m.\u001b[0m\u001b[0m_iterating\u001b[0m \u001b[0;34m=\u001b[0m \u001b[0;32mFalse\u001b[0m\u001b[0;34m\u001b[0m\u001b[0m\n\u001b[0;32m--> 789\u001b[0;31m             \u001b[0mself\u001b[0m\u001b[0;34m.\u001b[0m\u001b[0mretrieve\u001b[0m\u001b[0;34m(\u001b[0m\u001b[0;34m)\u001b[0m\u001b[0;34m\u001b[0m\u001b[0m\n\u001b[0m\u001b[1;32m    790\u001b[0m             \u001b[0;31m# Make sure that we get a last message telling us we are done\u001b[0m\u001b[0;34m\u001b[0m\u001b[0;34m\u001b[0m\u001b[0m\n\u001b[1;32m    791\u001b[0m             \u001b[0melapsed_time\u001b[0m \u001b[0;34m=\u001b[0m \u001b[0mtime\u001b[0m\u001b[0;34m.\u001b[0m\u001b[0mtime\u001b[0m\u001b[0;34m(\u001b[0m\u001b[0;34m)\u001b[0m \u001b[0;34m-\u001b[0m \u001b[0mself\u001b[0m\u001b[0;34m.\u001b[0m\u001b[0m_start_time\u001b[0m\u001b[0;34m\u001b[0m\u001b[0m\n",
      "\u001b[0;32m/usr/local/lib/python3.6/site-packages/sklearn/externals/joblib/parallel.py\u001b[0m in \u001b[0;36mretrieve\u001b[0;34m(self)\u001b[0m\n\u001b[1;32m    697\u001b[0m             \u001b[0;32mtry\u001b[0m\u001b[0;34m:\u001b[0m\u001b[0;34m\u001b[0m\u001b[0m\n\u001b[1;32m    698\u001b[0m                 \u001b[0;32mif\u001b[0m \u001b[0mgetattr\u001b[0m\u001b[0;34m(\u001b[0m\u001b[0mself\u001b[0m\u001b[0;34m.\u001b[0m\u001b[0m_backend\u001b[0m\u001b[0;34m,\u001b[0m \u001b[0;34m'supports_timeout'\u001b[0m\u001b[0;34m,\u001b[0m \u001b[0;32mFalse\u001b[0m\u001b[0;34m)\u001b[0m\u001b[0;34m:\u001b[0m\u001b[0;34m\u001b[0m\u001b[0m\n\u001b[0;32m--> 699\u001b[0;31m                     \u001b[0mself\u001b[0m\u001b[0;34m.\u001b[0m\u001b[0m_output\u001b[0m\u001b[0;34m.\u001b[0m\u001b[0mextend\u001b[0m\u001b[0;34m(\u001b[0m\u001b[0mjob\u001b[0m\u001b[0;34m.\u001b[0m\u001b[0mget\u001b[0m\u001b[0;34m(\u001b[0m\u001b[0mtimeout\u001b[0m\u001b[0;34m=\u001b[0m\u001b[0mself\u001b[0m\u001b[0;34m.\u001b[0m\u001b[0mtimeout\u001b[0m\u001b[0;34m)\u001b[0m\u001b[0;34m)\u001b[0m\u001b[0;34m\u001b[0m\u001b[0m\n\u001b[0m\u001b[1;32m    700\u001b[0m                 \u001b[0;32melse\u001b[0m\u001b[0;34m:\u001b[0m\u001b[0;34m\u001b[0m\u001b[0m\n\u001b[1;32m    701\u001b[0m                     \u001b[0mself\u001b[0m\u001b[0;34m.\u001b[0m\u001b[0m_output\u001b[0m\u001b[0;34m.\u001b[0m\u001b[0mextend\u001b[0m\u001b[0;34m(\u001b[0m\u001b[0mjob\u001b[0m\u001b[0;34m.\u001b[0m\u001b[0mget\u001b[0m\u001b[0;34m(\u001b[0m\u001b[0;34m)\u001b[0m\u001b[0;34m)\u001b[0m\u001b[0;34m\u001b[0m\u001b[0m\n",
      "\u001b[0;32m/usr/local/Cellar/python3/3.6.3/Frameworks/Python.framework/Versions/3.6/lib/python3.6/multiprocessing/pool.py\u001b[0m in \u001b[0;36mget\u001b[0;34m(self, timeout)\u001b[0m\n\u001b[1;32m    636\u001b[0m \u001b[0;34m\u001b[0m\u001b[0m\n\u001b[1;32m    637\u001b[0m     \u001b[0;32mdef\u001b[0m \u001b[0mget\u001b[0m\u001b[0;34m(\u001b[0m\u001b[0mself\u001b[0m\u001b[0;34m,\u001b[0m \u001b[0mtimeout\u001b[0m\u001b[0;34m=\u001b[0m\u001b[0;32mNone\u001b[0m\u001b[0;34m)\u001b[0m\u001b[0;34m:\u001b[0m\u001b[0;34m\u001b[0m\u001b[0m\n\u001b[0;32m--> 638\u001b[0;31m         \u001b[0mself\u001b[0m\u001b[0;34m.\u001b[0m\u001b[0mwait\u001b[0m\u001b[0;34m(\u001b[0m\u001b[0mtimeout\u001b[0m\u001b[0;34m)\u001b[0m\u001b[0;34m\u001b[0m\u001b[0m\n\u001b[0m\u001b[1;32m    639\u001b[0m         \u001b[0;32mif\u001b[0m \u001b[0;32mnot\u001b[0m \u001b[0mself\u001b[0m\u001b[0;34m.\u001b[0m\u001b[0mready\u001b[0m\u001b[0;34m(\u001b[0m\u001b[0;34m)\u001b[0m\u001b[0;34m:\u001b[0m\u001b[0;34m\u001b[0m\u001b[0m\n\u001b[1;32m    640\u001b[0m             \u001b[0;32mraise\u001b[0m \u001b[0mTimeoutError\u001b[0m\u001b[0;34m\u001b[0m\u001b[0m\n",
      "\u001b[0;32m/usr/local/Cellar/python3/3.6.3/Frameworks/Python.framework/Versions/3.6/lib/python3.6/multiprocessing/pool.py\u001b[0m in \u001b[0;36mwait\u001b[0;34m(self, timeout)\u001b[0m\n\u001b[1;32m    633\u001b[0m \u001b[0;34m\u001b[0m\u001b[0m\n\u001b[1;32m    634\u001b[0m     \u001b[0;32mdef\u001b[0m \u001b[0mwait\u001b[0m\u001b[0;34m(\u001b[0m\u001b[0mself\u001b[0m\u001b[0;34m,\u001b[0m \u001b[0mtimeout\u001b[0m\u001b[0;34m=\u001b[0m\u001b[0;32mNone\u001b[0m\u001b[0;34m)\u001b[0m\u001b[0;34m:\u001b[0m\u001b[0;34m\u001b[0m\u001b[0m\n\u001b[0;32m--> 635\u001b[0;31m         \u001b[0mself\u001b[0m\u001b[0;34m.\u001b[0m\u001b[0m_event\u001b[0m\u001b[0;34m.\u001b[0m\u001b[0mwait\u001b[0m\u001b[0;34m(\u001b[0m\u001b[0mtimeout\u001b[0m\u001b[0;34m)\u001b[0m\u001b[0;34m\u001b[0m\u001b[0m\n\u001b[0m\u001b[1;32m    636\u001b[0m \u001b[0;34m\u001b[0m\u001b[0m\n\u001b[1;32m    637\u001b[0m     \u001b[0;32mdef\u001b[0m \u001b[0mget\u001b[0m\u001b[0;34m(\u001b[0m\u001b[0mself\u001b[0m\u001b[0;34m,\u001b[0m \u001b[0mtimeout\u001b[0m\u001b[0;34m=\u001b[0m\u001b[0;32mNone\u001b[0m\u001b[0;34m)\u001b[0m\u001b[0;34m:\u001b[0m\u001b[0;34m\u001b[0m\u001b[0m\n",
      "\u001b[0;32m/usr/local/Cellar/python3/3.6.3/Frameworks/Python.framework/Versions/3.6/lib/python3.6/threading.py\u001b[0m in \u001b[0;36mwait\u001b[0;34m(self, timeout)\u001b[0m\n\u001b[1;32m    549\u001b[0m             \u001b[0msignaled\u001b[0m \u001b[0;34m=\u001b[0m \u001b[0mself\u001b[0m\u001b[0;34m.\u001b[0m\u001b[0m_flag\u001b[0m\u001b[0;34m\u001b[0m\u001b[0m\n\u001b[1;32m    550\u001b[0m             \u001b[0;32mif\u001b[0m \u001b[0;32mnot\u001b[0m \u001b[0msignaled\u001b[0m\u001b[0;34m:\u001b[0m\u001b[0;34m\u001b[0m\u001b[0m\n\u001b[0;32m--> 551\u001b[0;31m                 \u001b[0msignaled\u001b[0m \u001b[0;34m=\u001b[0m \u001b[0mself\u001b[0m\u001b[0;34m.\u001b[0m\u001b[0m_cond\u001b[0m\u001b[0;34m.\u001b[0m\u001b[0mwait\u001b[0m\u001b[0;34m(\u001b[0m\u001b[0mtimeout\u001b[0m\u001b[0;34m)\u001b[0m\u001b[0;34m\u001b[0m\u001b[0m\n\u001b[0m\u001b[1;32m    552\u001b[0m             \u001b[0;32mreturn\u001b[0m \u001b[0msignaled\u001b[0m\u001b[0;34m\u001b[0m\u001b[0m\n\u001b[1;32m    553\u001b[0m \u001b[0;34m\u001b[0m\u001b[0m\n",
      "\u001b[0;32m/usr/local/Cellar/python3/3.6.3/Frameworks/Python.framework/Versions/3.6/lib/python3.6/threading.py\u001b[0m in \u001b[0;36mwait\u001b[0;34m(self, timeout)\u001b[0m\n\u001b[1;32m    293\u001b[0m         \u001b[0;32mtry\u001b[0m\u001b[0;34m:\u001b[0m    \u001b[0;31m# restore state no matter what (e.g., KeyboardInterrupt)\u001b[0m\u001b[0;34m\u001b[0m\u001b[0m\n\u001b[1;32m    294\u001b[0m             \u001b[0;32mif\u001b[0m \u001b[0mtimeout\u001b[0m \u001b[0;32mis\u001b[0m \u001b[0;32mNone\u001b[0m\u001b[0;34m:\u001b[0m\u001b[0;34m\u001b[0m\u001b[0m\n\u001b[0;32m--> 295\u001b[0;31m                 \u001b[0mwaiter\u001b[0m\u001b[0;34m.\u001b[0m\u001b[0macquire\u001b[0m\u001b[0;34m(\u001b[0m\u001b[0;34m)\u001b[0m\u001b[0;34m\u001b[0m\u001b[0m\n\u001b[0m\u001b[1;32m    296\u001b[0m                 \u001b[0mgotit\u001b[0m \u001b[0;34m=\u001b[0m \u001b[0;32mTrue\u001b[0m\u001b[0;34m\u001b[0m\u001b[0m\n\u001b[1;32m    297\u001b[0m             \u001b[0;32melse\u001b[0m\u001b[0;34m:\u001b[0m\u001b[0;34m\u001b[0m\u001b[0m\n",
      "\u001b[0;31mKeyboardInterrupt\u001b[0m: "
     ],
     "output_type": "error"
    }
   ],
   "source": [
    "model = xgb.XGBClassifier()\n",
    "n_estimators = range(100, 1000, 100)\n",
    "param_grid = dict(n_estimators=n_estimators)\n",
    "kfold = StratifiedKFold(n_splits=3, shuffle=True, random_state=2017)\n",
    "grid_search = GridSearchCV(model, param_grid, scoring=\"accuracy\", n_jobs=-1, cv=kfold, verbose=10)\n",
    "grid_result = grid_search.fit(x_train, y_train)\n",
    "\n",
    "print(\"Best: %f using %s\" % (grid_result.best_score_, grid_result.best_params_))\n",
    "means = grid_result.cv_results_['mean_test_score']\n",
    "stds = grid_result.cv_results_['std_test_score']\n",
    "params = grid_result.cv_results_['params']\n",
    "for mean, stdev, param in zip(means, stds, params):\n",
    "    print(\"%f (%f) with: %r\" % (mean, stdev, param))\n",
    "\n",
    "pyplot.errorbar(n_estimators, means, yerr=stds)\n",
    "pyplot.title(\"XGBoost n_estimators vs Accuracy\")\n",
    "pyplot.xlabel('n_estimators')\n",
    "pyplot.ylabel('Accuracy')\n",
    "pyplot.savefig('n_estimators.png')"
   ]
  },
  {
   "cell_type": "code",
   "execution_count": null,
   "metadata": {
    "collapsed": true
   },
   "outputs": [
    {
     "name": "stderr",
     "output_type": "stream",
     "text": [
      "\rMorphologyExtractor transform:   0%|          | 0/100000 [00:00<?, ?it/s]"
     ]
    },
    {
     "name": "stderr",
     "output_type": "stream",
     "text": [
      "\rMorphologyExtractor transform:   1%|▏         | 1318/100000 [00:00<00:07, 13173.10it/s]"
     ]
    },
    {
     "name": "stderr",
     "output_type": "stream",
     "text": [
      "\rMorphologyExtractor transform:   2%|▏         | 2363/100000 [00:00<00:08, 11658.19it/s]"
     ]
    },
    {
     "name": "stderr",
     "output_type": "stream",
     "text": [
      "\rMorphologyExtractor transform:   4%|▍         | 3767/100000 [00:00<00:07, 12443.39it/s]"
     ]
    },
    {
     "name": "stderr",
     "output_type": "stream",
     "text": [
      "\rMorphologyExtractor transform:   5%|▍         | 4596/100000 [00:00<00:10, 9444.87it/s] "
     ]
    },
    {
     "name": "stderr",
     "output_type": "stream",
     "text": [
      "\rMorphologyExtractor transform:   6%|▌         | 5531/100000 [00:00<00:10, 9423.64it/s]"
     ]
    },
    {
     "name": "stderr",
     "output_type": "stream",
     "text": [
      "\rMorphologyExtractor transform:   7%|▋         | 6557/100000 [00:00<00:09, 9545.32it/s]"
     ]
    },
    {
     "name": "stderr",
     "output_type": "stream",
     "text": [
      "\rMorphologyExtractor transform:   8%|▊         | 7533/100000 [00:00<00:09, 9571.73it/s]"
     ]
    },
    {
     "name": "stderr",
     "output_type": "stream",
     "text": [
      "\rMorphologyExtractor transform:   8%|▊         | 8424/100000 [00:00<00:09, 9367.94it/s]"
     ]
    },
    {
     "name": "stderr",
     "output_type": "stream",
     "text": [
      "\rMorphologyExtractor transform:   9%|▉         | 9286/100000 [00:01<00:09, 9271.78it/s]"
     ]
    },
    {
     "name": "stderr",
     "output_type": "stream",
     "text": [
      "\rMorphologyExtractor transform:  11%|█         | 11076/100000 [00:01<00:08, 10054.81it/s]"
     ]
    },
    {
     "name": "stderr",
     "output_type": "stream",
     "text": [
      "\rMorphologyExtractor transform:  12%|█▏        | 12212/100000 [00:01<00:08, 10076.64it/s]"
     ]
    },
    {
     "name": "stderr",
     "output_type": "stream",
     "text": [
      "\rMorphologyExtractor transform:  14%|█▍        | 14355/100000 [00:01<00:07, 10941.18it/s]"
     ]
    },
    {
     "name": "stderr",
     "output_type": "stream",
     "text": [
      "\rMorphologyExtractor transform:  16%|█▋        | 16348/100000 [00:01<00:07, 11577.78it/s]"
     ]
    },
    {
     "name": "stderr",
     "output_type": "stream",
     "text": [
      "\rMorphologyExtractor transform:  18%|█▊        | 18485/100000 [00:01<00:06, 12225.25it/s]"
     ]
    },
    {
     "name": "stderr",
     "output_type": "stream",
     "text": [
      "\rMorphologyExtractor transform:  21%|██        | 20686/100000 [00:01<00:06, 12832.04it/s]"
     ]
    },
    {
     "name": "stderr",
     "output_type": "stream",
     "text": [
      "\rMorphologyExtractor transform:  23%|██▎       | 22875/100000 [00:01<00:05, 13361.03it/s]"
     ]
    },
    {
     "name": "stderr",
     "output_type": "stream",
     "text": [
      "\rMorphologyExtractor transform:  25%|██▌       | 25180/100000 [00:01<00:05, 13895.63it/s]"
     ]
    },
    {
     "name": "stderr",
     "output_type": "stream",
     "text": [
      "\rMorphologyExtractor transform:  27%|██▋       | 27444/100000 [00:01<00:05, 14352.26it/s]"
     ]
    },
    {
     "name": "stderr",
     "output_type": "stream",
     "text": [
      "\rMorphologyExtractor transform:  30%|██▉       | 29802/100000 [00:02<00:04, 14809.92it/s]"
     ]
    },
    {
     "name": "stderr",
     "output_type": "stream",
     "text": [
      "\rMorphologyExtractor transform:  32%|███▏      | 32001/100000 [00:02<00:04, 14609.67it/s]"
     ]
    },
    {
     "name": "stderr",
     "output_type": "stream",
     "text": [
      "\rMorphologyExtractor transform:  34%|███▍      | 34363/100000 [00:02<00:04, 15003.01it/s]"
     ]
    },
    {
     "name": "stderr",
     "output_type": "stream",
     "text": [
      "\rMorphologyExtractor transform:  37%|███▋      | 36647/100000 [00:02<00:04, 15330.56it/s]"
     ]
    },
    {
     "name": "stderr",
     "output_type": "stream",
     "text": [
      "\rMorphologyExtractor transform:  39%|███▉      | 39024/100000 [00:02<00:03, 15668.78it/s]"
     ]
    },
    {
     "name": "stderr",
     "output_type": "stream",
     "text": [
      "\rMorphologyExtractor transform:  41%|████▏     | 41347/100000 [00:02<00:03, 15959.97it/s]"
     ]
    },
    {
     "name": "stderr",
     "output_type": "stream",
     "text": [
      "\rMorphologyExtractor transform:  44%|████▎     | 43679/100000 [00:02<00:03, 16232.82it/s]"
     ]
    },
    {
     "name": "stderr",
     "output_type": "stream",
     "text": [
      "\rMorphologyExtractor transform:  46%|████▌     | 46198/100000 [00:02<00:03, 16553.79it/s]"
     ]
    },
    {
     "name": "stderr",
     "output_type": "stream",
     "text": [
      "\rMorphologyExtractor transform:  49%|████▊     | 48683/100000 [00:02<00:03, 16834.81it/s]"
     ]
    },
    {
     "name": "stderr",
     "output_type": "stream",
     "text": [
      "\rMorphologyExtractor transform:  51%|█████     | 51058/100000 [00:03<00:02, 16635.24it/s]"
     ]
    },
    {
     "name": "stderr",
     "output_type": "stream",
     "text": [
      "\rMorphologyExtractor transform:  54%|█████▎    | 53683/100000 [00:03<00:02, 16937.25it/s]"
     ]
    },
    {
     "name": "stderr",
     "output_type": "stream",
     "text": [
      "\rMorphologyExtractor transform:  56%|█████▋    | 56271/100000 [00:03<00:02, 17210.45it/s]"
     ]
    },
    {
     "name": "stderr",
     "output_type": "stream",
     "text": [
      "\rMorphologyExtractor transform:  59%|█████▉    | 58962/100000 [00:03<00:02, 17498.31it/s]"
     ]
    },
    {
     "name": "stderr",
     "output_type": "stream",
     "text": [
      "\rMorphologyExtractor transform:  61%|██████▏   | 61406/100000 [00:03<00:02, 17694.78it/s]"
     ]
    },
    {
     "name": "stderr",
     "output_type": "stream",
     "text": [
      "\rMorphologyExtractor transform:  64%|██████▍   | 63984/100000 [00:03<00:02, 17921.15it/s]"
     ]
    },
    {
     "name": "stderr",
     "output_type": "stream",
     "text": [
      "\rMorphologyExtractor transform:  67%|██████▋   | 66579/100000 [00:03<00:01, 18139.43it/s]"
     ]
    },
    {
     "name": "stderr",
     "output_type": "stream",
     "text": [
      "\rMorphologyExtractor transform:  69%|██████▉   | 69204/100000 [00:03<00:01, 18354.45it/s]"
     ]
    },
    {
     "name": "stderr",
     "output_type": "stream",
     "text": [
      "\rMorphologyExtractor transform:  72%|███████▏  | 71849/100000 [00:03<00:01, 18563.41it/s]"
     ]
    },
    {
     "name": "stderr",
     "output_type": "stream",
     "text": [
      "\rMorphologyExtractor transform:  74%|███████▍  | 74426/100000 [00:04<00:01, 18330.57it/s]"
     ]
    },
    {
     "name": "stderr",
     "output_type": "stream",
     "text": [
      "\rMorphologyExtractor transform:  77%|███████▋  | 77055/100000 [00:04<00:01, 18521.78it/s]"
     ]
    },
    {
     "name": "stderr",
     "output_type": "stream",
     "text": [
      "\rMorphologyExtractor transform:  80%|███████▉  | 79653/100000 [00:04<00:01, 18696.72it/s]"
     ]
    },
    {
     "name": "stderr",
     "output_type": "stream",
     "text": [
      "\rMorphologyExtractor transform:  82%|████████▏ | 82377/100000 [00:04<00:00, 18892.12it/s]"
     ]
    },
    {
     "name": "stderr",
     "output_type": "stream",
     "text": [
      "\rMorphologyExtractor transform:  85%|████████▌ | 85024/100000 [00:04<00:00, 19061.48it/s]"
     ]
    },
    {
     "name": "stderr",
     "output_type": "stream",
     "text": [
      "\rMorphologyExtractor transform:  88%|████████▊ | 87712/100000 [00:04<00:00, 19232.34it/s]"
     ]
    },
    {
     "name": "stderr",
     "output_type": "stream",
     "text": [
      "\rMorphologyExtractor transform:  90%|█████████ | 90348/100000 [00:04<00:00, 19385.22it/s]"
     ]
    },
    {
     "name": "stderr",
     "output_type": "stream",
     "text": [
      "\rMorphologyExtractor transform:  93%|█████████▎| 92973/100000 [00:04<00:00, 19529.14it/s]"
     ]
    },
    {
     "name": "stderr",
     "output_type": "stream",
     "text": [
      "\rMorphologyExtractor transform:  96%|█████████▌| 95654/100000 [00:04<00:00, 19678.87it/s]"
     ]
    },
    {
     "name": "stderr",
     "output_type": "stream",
     "text": [
      "\rMorphologyExtractor transform:  98%|█████████▊| 98285/100000 [00:04<00:00, 19793.33it/s]"
     ]
    },
    {
     "name": "stderr",
     "output_type": "stream",
     "text": [
      "\rMorphologyExtractor transform: 100%|██████████| 100000/100000 [00:05<00:00, 19864.93it/s]"
     ]
    },
    {
     "name": "stderr",
     "output_type": "stream",
     "text": [
      "\n"
     ]
    },
    {
     "name": "stderr",
     "output_type": "stream",
     "text": [
      "\rMorphologyExtractor transform:   0%|          | 0/100000 [00:00<?, ?it/s]"
     ]
    },
    {
     "name": "stderr",
     "output_type": "stream",
     "text": [
      "\rMorphologyExtractor transform:   1%|          | 1215/100000 [00:00<00:08, 12141.39it/s]"
     ]
    },
    {
     "name": "stderr",
     "output_type": "stream",
     "text": [
      "\rMorphologyExtractor transform:   2%|▏         | 2498/100000 [00:00<00:09, 10592.06it/s]"
     ]
    },
    {
     "name": "stderr",
     "output_type": "stream",
     "text": [
      "\rMorphologyExtractor transform:   4%|▍         | 4415/100000 [00:00<00:07, 13142.65it/s]"
     ]
    },
    {
     "name": "stderr",
     "output_type": "stream",
     "text": [
      "\rMorphologyExtractor transform:   6%|▋         | 6473/100000 [00:00<00:06, 14847.69it/s]"
     ]
    },
    {
     "name": "stderr",
     "output_type": "stream",
     "text": [
      "\rMorphologyExtractor transform:   9%|▊         | 8564/100000 [00:00<00:05, 15978.27it/s]"
     ]
    },
    {
     "name": "stderr",
     "output_type": "stream",
     "text": [
      "\rMorphologyExtractor transform:  11%|█         | 10706/100000 [00:00<00:05, 16832.43it/s]"
     ]
    },
    {
     "name": "stderr",
     "output_type": "stream",
     "text": [
      "\rMorphologyExtractor transform:  13%|█▎        | 12939/100000 [00:00<00:04, 17578.27it/s]"
     ]
    },
    {
     "name": "stderr",
     "output_type": "stream",
     "text": [
      "\rMorphologyExtractor transform:  15%|█▌        | 15088/100000 [00:00<00:04, 18045.30it/s]"
     ]
    },
    {
     "name": "stderr",
     "output_type": "stream",
     "text": [
      "\rMorphologyExtractor transform:  17%|█▋        | 17279/100000 [00:00<00:04, 18457.41it/s]"
     ]
    },
    {
     "name": "stderr",
     "output_type": "stream",
     "text": [
      "\rMorphologyExtractor transform:  20%|█▉        | 19667/100000 [00:01<00:04, 18977.67it/s]"
     ]
    },
    {
     "name": "stderr",
     "output_type": "stream",
     "text": [
      "\rMorphologyExtractor transform:  22%|██▏       | 21799/100000 [00:01<00:04, 17993.65it/s]"
     ]
    },
    {
     "name": "stderr",
     "output_type": "stream",
     "text": [
      "\rMorphologyExtractor transform:  24%|██▍       | 24199/100000 [00:01<00:04, 18450.78it/s]"
     ]
    },
    {
     "name": "stderr",
     "output_type": "stream",
     "text": [
      "\rMorphologyExtractor transform:  26%|██▋       | 26475/100000 [00:01<00:03, 18755.70it/s]"
     ]
    },
    {
     "name": "stderr",
     "output_type": "stream",
     "text": [
      "\rMorphologyExtractor transform:  29%|██▉       | 29094/100000 [00:01<00:03, 19247.14it/s]"
     ]
    },
    {
     "name": "stderr",
     "output_type": "stream",
     "text": [
      "\rMorphologyExtractor transform:  31%|███▏      | 31463/100000 [00:01<00:03, 19522.57it/s]"
     ]
    },
    {
     "name": "stderr",
     "output_type": "stream",
     "text": [
      "\rMorphologyExtractor transform:  34%|███▍      | 33815/100000 [00:01<00:03, 19755.94it/s]"
     ]
    },
    {
     "name": "stderr",
     "output_type": "stream",
     "text": [
      "\rMorphologyExtractor transform:  36%|███▋      | 36250/100000 [00:01<00:03, 20009.44it/s]"
     ]
    },
    {
     "name": "stderr",
     "output_type": "stream",
     "text": [
      "\rMorphologyExtractor transform:  39%|███▊      | 38684/100000 [00:01<00:03, 20235.56it/s]"
     ]
    },
    {
     "name": "stderr",
     "output_type": "stream",
     "text": [
      "\rMorphologyExtractor transform:  41%|████      | 41056/100000 [00:02<00:03, 19449.92it/s]"
     ]
    },
    {
     "name": "stderr",
     "output_type": "stream",
     "text": [
      "\rMorphologyExtractor transform:  44%|████▎     | 43532/100000 [00:02<00:02, 19686.95it/s]"
     ]
    },
    {
     "name": "stderr",
     "output_type": "stream",
     "text": [
      "\rMorphologyExtractor transform:  46%|████▌     | 45986/100000 [00:02<00:02, 19896.63it/s]"
     ]
    },
    {
     "name": "stderr",
     "output_type": "stream",
     "text": [
      "\rMorphologyExtractor transform:  49%|████▉     | 48763/100000 [00:02<00:02, 20223.22it/s]"
     ]
    },
    {
     "name": "stderr",
     "output_type": "stream",
     "text": [
      "\rMorphologyExtractor transform:  51%|█████▏    | 51405/100000 [00:02<00:02, 20469.88it/s]"
     ]
    },
    {
     "name": "stderr",
     "output_type": "stream",
     "text": [
      "\rMorphologyExtractor transform:  54%|█████▍    | 54192/100000 [00:02<00:02, 20753.13it/s]"
     ]
    },
    {
     "name": "stderr",
     "output_type": "stream",
     "text": [
      "\rMorphologyExtractor transform:  57%|█████▋    | 56761/100000 [00:02<00:02, 20928.17it/s]"
     ]
    },
    {
     "name": "stderr",
     "output_type": "stream",
     "text": [
      "\rMorphologyExtractor transform:  59%|█████▉    | 59440/100000 [00:02<00:01, 21135.90it/s]"
     ]
    },
    {
     "name": "stderr",
     "output_type": "stream",
     "text": [
      "\rMorphologyExtractor transform:  62%|██████▏   | 62209/100000 [00:02<00:01, 21360.90it/s]"
     ]
    },
    {
     "name": "stderr",
     "output_type": "stream",
     "text": [
      "\rMorphologyExtractor transform:  65%|██████▍   | 64935/100000 [00:03<00:01, 21556.69it/s]"
     ]
    },
    {
     "name": "stderr",
     "output_type": "stream",
     "text": [
      "\rMorphologyExtractor transform:  68%|██████▊   | 67607/100000 [00:03<00:01, 20990.39it/s]"
     ]
    },
    {
     "name": "stderr",
     "output_type": "stream",
     "text": [
      "\rMorphologyExtractor transform:  70%|███████   | 70101/100000 [00:03<00:01, 21109.26it/s]"
     ]
    },
    {
     "name": "stderr",
     "output_type": "stream",
     "text": [
      "\rMorphologyExtractor transform:  73%|███████▎  | 72700/100000 [00:03<00:01, 21251.79it/s]"
     ]
    },
    {
     "name": "stderr",
     "output_type": "stream",
     "text": [
      "\rMorphologyExtractor transform:  75%|███████▌  | 75370/100000 [00:03<00:01, 21405.66it/s]"
     ]
    },
    {
     "name": "stderr",
     "output_type": "stream",
     "text": [
      "\rMorphologyExtractor transform:  78%|███████▊  | 78032/100000 [00:03<00:01, 21549.63it/s]"
     ]
    },
    {
     "name": "stderr",
     "output_type": "stream",
     "text": [
      "\rMorphologyExtractor transform:  81%|████████  | 80643/100000 [00:03<00:00, 21671.88it/s]"
     ]
    },
    {
     "name": "stderr",
     "output_type": "stream",
     "text": [
      "\rMorphologyExtractor transform:  83%|████████▎ | 83423/100000 [00:03<00:00, 21831.83it/s]"
     ]
    },
    {
     "name": "stderr",
     "output_type": "stream",
     "text": [
      "\rMorphologyExtractor transform:  86%|████████▌ | 86085/100000 [00:03<00:00, 21953.89it/s]"
     ]
    },
    {
     "name": "stderr",
     "output_type": "stream",
     "text": [
      "\rMorphologyExtractor transform:  89%|████████▊ | 88722/100000 [00:04<00:00, 22051.49it/s]"
     ]
    },
    {
     "name": "stderr",
     "output_type": "stream",
     "text": [
      "\rMorphologyExtractor transform:  91%|█████████▏| 91342/100000 [00:04<00:00, 22127.87it/s]"
     ]
    },
    {
     "name": "stderr",
     "output_type": "stream",
     "text": [
      "\rMorphologyExtractor transform:  94%|█████████▍| 93928/100000 [00:04<00:00, 22212.79it/s]"
     ]
    },
    {
     "name": "stderr",
     "output_type": "stream",
     "text": [
      "\rMorphologyExtractor transform:  97%|█████████▋| 96509/100000 [00:04<00:00, 22294.10it/s]"
     ]
    },
    {
     "name": "stderr",
     "output_type": "stream",
     "text": [
      "\rMorphologyExtractor transform:  99%|█████████▉| 99137/100000 [00:04<00:00, 22383.99it/s]"
     ]
    },
    {
     "name": "stderr",
     "output_type": "stream",
     "text": [
      "\rMorphologyExtractor transform: 100%|██████████| 100000/100000 [00:04<00:00, 21697.81it/s]"
     ]
    },
    {
     "name": "stderr",
     "output_type": "stream",
     "text": [
      "\n"
     ]
    },
    {
     "name": "stderr",
     "output_type": "stream",
     "text": [
      "\rMorphologyExtractor transform:   0%|          | 0/100000 [00:00<?, ?it/s]"
     ]
    },
    {
     "name": "stderr",
     "output_type": "stream",
     "text": [
      "\rMorphologyExtractor transform:   1%|          | 1175/100000 [00:00<00:08, 11636.76it/s]"
     ]
    },
    {
     "name": "stderr",
     "output_type": "stream",
     "text": [
      "\rMorphologyExtractor transform:   3%|▎         | 3264/100000 [00:00<00:05, 16237.75it/s]"
     ]
    },
    {
     "name": "stderr",
     "output_type": "stream",
     "text": [
      "\rMorphologyExtractor transform:   5%|▌         | 5303/100000 [00:00<00:05, 17616.12it/s]"
     ]
    },
    {
     "name": "stderr",
     "output_type": "stream",
     "text": [
      "\rMorphologyExtractor transform:   7%|▋         | 7445/100000 [00:00<00:04, 18563.30it/s]"
     ]
    },
    {
     "name": "stderr",
     "output_type": "stream",
     "text": [
      "\rMorphologyExtractor transform:  10%|▉         | 9666/100000 [00:00<00:04, 19290.56it/s]"
     ]
    },
    {
     "name": "stderr",
     "output_type": "stream",
     "text": [
      "\rMorphologyExtractor transform:  12%|█▏        | 11918/100000 [00:00<00:04, 19825.86it/s]"
     ]
    },
    {
     "name": "stderr",
     "output_type": "stream",
     "text": [
      "\rMorphologyExtractor transform:  14%|█▍        | 14358/100000 [00:00<00:04, 20478.02it/s]"
     ]
    },
    {
     "name": "stderr",
     "output_type": "stream",
     "text": [
      "\rMorphologyExtractor transform:  16%|█▋        | 16403/100000 [00:00<00:04, 20327.20it/s]"
     ]
    },
    {
     "name": "stderr",
     "output_type": "stream",
     "text": [
      "\rMorphologyExtractor transform:  18%|█▊        | 18415/100000 [00:00<00:04, 19603.37it/s]"
     ]
    },
    {
     "name": "stderr",
     "output_type": "stream",
     "text": [
      "\rMorphologyExtractor transform:  20%|██        | 20279/100000 [00:01<00:04, 18802.20it/s]"
     ]
    },
    {
     "name": "stderr",
     "output_type": "stream",
     "text": [
      "\rMorphologyExtractor transform:  22%|██▏       | 22303/100000 [00:01<00:04, 18922.40it/s]"
     ]
    },
    {
     "name": "stderr",
     "output_type": "stream",
     "text": [
      "\rMorphologyExtractor transform:  25%|██▍       | 24596/100000 [00:01<00:03, 19231.25it/s]"
     ]
    },
    {
     "name": "stderr",
     "output_type": "stream",
     "text": [
      "\rMorphologyExtractor transform:  27%|██▋       | 26884/100000 [00:01<00:03, 19495.81it/s]"
     ]
    },
    {
     "name": "stderr",
     "output_type": "stream",
     "text": [
      "\rMorphologyExtractor transform:  30%|██▉       | 29591/100000 [00:01<00:03, 20005.45it/s]"
     ]
    },
    {
     "name": "stderr",
     "output_type": "stream",
     "text": [
      "\rMorphologyExtractor transform:  32%|███▏      | 31920/100000 [00:01<00:03, 20210.03it/s]"
     ]
    },
    {
     "name": "stderr",
     "output_type": "stream",
     "text": [
      "\rMorphologyExtractor transform:  34%|███▍      | 34343/100000 [00:01<00:03, 20447.48it/s]"
     ]
    },
    {
     "name": "stderr",
     "output_type": "stream",
     "text": [
      "\rMorphologyExtractor transform:  37%|███▋      | 36790/100000 [00:01<00:03, 20674.58it/s]"
     ]
    },
    {
     "name": "stderr",
     "output_type": "stream",
     "text": [
      "\rMorphologyExtractor transform:  39%|███▉      | 39144/100000 [00:01<00:03, 19583.61it/s]"
     ]
    },
    {
     "name": "stderr",
     "output_type": "stream",
     "text": [
      "\rMorphologyExtractor transform:  42%|████▏     | 41677/100000 [00:02<00:02, 19856.51it/s]"
     ]
    },
    {
     "name": "stderr",
     "output_type": "stream",
     "text": [
      "\rMorphologyExtractor transform:  44%|████▍     | 43931/100000 [00:02<00:02, 19978.50it/s]"
     ]
    },
    {
     "name": "stderr",
     "output_type": "stream",
     "text": [
      "\rMorphologyExtractor transform:  46%|████▌     | 46104/100000 [00:02<00:02, 19818.63it/s]"
     ]
    },
    {
     "name": "stderr",
     "output_type": "stream",
     "text": [
      "\rMorphologyExtractor transform:  48%|████▊     | 48137/100000 [00:02<00:02, 19583.04it/s]"
     ]
    },
    {
     "name": "stderr",
     "output_type": "stream",
     "text": [
      "\rMorphologyExtractor transform:  50%|█████     | 50023/100000 [00:02<00:02, 19539.61it/s]"
     ]
    },
    {
     "name": "stderr",
     "output_type": "stream",
     "text": [
      "\rMorphologyExtractor transform:  53%|█████▎    | 52660/100000 [00:02<00:02, 19795.56it/s]"
     ]
    },
    {
     "name": "stderr",
     "output_type": "stream",
     "text": [
      "\rMorphologyExtractor transform:  55%|█████▌    | 55302/100000 [00:02<00:02, 20029.06it/s]"
     ]
    },
    {
     "name": "stderr",
     "output_type": "stream",
     "text": [
      "\rMorphologyExtractor transform:  58%|█████▊    | 57984/100000 [00:02<00:02, 20266.17it/s]"
     ]
    },
    {
     "name": "stderr",
     "output_type": "stream",
     "text": [
      "\rMorphologyExtractor transform:  61%|██████    | 60526/100000 [00:02<00:01, 20440.17it/s]"
     ]
    },
    {
     "name": "stderr",
     "output_type": "stream",
     "text": [
      "\rMorphologyExtractor transform:  63%|██████▎   | 63123/100000 [00:03<00:01, 20620.20it/s]"
     ]
    },
    {
     "name": "stderr",
     "output_type": "stream",
     "text": [
      "\rMorphologyExtractor transform:  66%|██████▌   | 65798/100000 [00:03<00:01, 20814.02it/s]"
     ]
    },
    {
     "name": "stderr",
     "output_type": "stream",
     "text": [
      "\rMorphologyExtractor transform:  68%|██████▊   | 68337/100000 [00:03<00:01, 20173.27it/s]"
     ]
    },
    {
     "name": "stderr",
     "output_type": "stream",
     "text": [
      "\rMorphologyExtractor transform:  71%|███████   | 71125/100000 [00:03<00:01, 20394.13it/s]"
     ]
    },
    {
     "name": "stderr",
     "output_type": "stream",
     "text": [
      "\rMorphologyExtractor transform:  74%|███████▎  | 73747/100000 [00:03<00:01, 20556.45it/s]"
     ]
    },
    {
     "name": "stderr",
     "output_type": "stream",
     "text": [
      "\rMorphologyExtractor transform:  76%|███████▌  | 76155/100000 [00:03<00:01, 20647.54it/s]"
     ]
    },
    {
     "name": "stderr",
     "output_type": "stream",
     "text": [
      "\rMorphologyExtractor transform:  79%|███████▊  | 78746/100000 [00:03<00:01, 20786.27it/s]"
     ]
    },
    {
     "name": "stderr",
     "output_type": "stream",
     "text": [
      "\rMorphologyExtractor transform:  81%|████████▏ | 81254/100000 [00:03<00:00, 20894.85it/s]"
     ]
    },
    {
     "name": "stderr",
     "output_type": "stream",
     "text": [
      "\rMorphologyExtractor transform:  84%|████████▍ | 83782/100000 [00:03<00:00, 21004.40it/s]"
     ]
    },
    {
     "name": "stderr",
     "output_type": "stream",
     "text": [
      "\rMorphologyExtractor transform:  86%|████████▋ | 86369/100000 [00:04<00:00, 21123.34it/s]"
     ]
    },
    {
     "name": "stderr",
     "output_type": "stream",
     "text": [
      "\rMorphologyExtractor transform:  89%|████████▉ | 88990/100000 [00:04<00:00, 21244.41it/s]"
     ]
    },
    {
     "name": "stderr",
     "output_type": "stream",
     "text": [
      "\rMorphologyExtractor transform:  92%|█████████▏| 91538/100000 [00:04<00:00, 21332.56it/s]"
     ]
    },
    {
     "name": "stderr",
     "output_type": "stream",
     "text": [
      "\rMorphologyExtractor transform:  94%|█████████▍| 94191/100000 [00:04<00:00, 21450.80it/s]"
     ]
    },
    {
     "name": "stderr",
     "output_type": "stream",
     "text": [
      "\rMorphologyExtractor transform:  97%|█████████▋| 96796/100000 [00:04<00:00, 21552.54it/s]"
     ]
    },
    {
     "name": "stderr",
     "output_type": "stream",
     "text": [
      "\rMorphologyExtractor transform:  99%|█████████▉| 99399/100000 [00:04<00:00, 21650.07it/s]"
     ]
    },
    {
     "name": "stderr",
     "output_type": "stream",
     "text": [
      "\rMorphologyExtractor transform: 100%|██████████| 100000/100000 [00:04<00:00, 21657.18it/s]"
     ]
    },
    {
     "name": "stderr",
     "output_type": "stream",
     "text": [
      "\n"
     ]
    }
   ],
   "source": [
    "model = XGBClassifier()\n",
    "max_depth = range(1, 11, 2)\n",
    "print(max_depth)\n",
    "param_grid = dict(max_depth=max_depth)\n",
    "model = xgb.XGBClassifier()\n",
    "n_estimators = range(100, 1000, 100)\n",
    "param_grid = dict(n_estimators=n_estimators)\n",
    "kfold = StratifiedKFold(n_splits=3, shuffle=True, random_state=2017)\n",
    "grid_search = GridSearchCV(model, param_grid, scoring=\"accuracy\", n_jobs=-1, cv=kfold, verbose=10)\n",
    "grid_result = grid_search.fit(x_train, y_train)\n",
    "\n",
    "print(\"Best: %f using %s\" % (grid_result.best_score_, grid_result.best_params_))\n",
    "means = grid_result.cv_results_['mean_test_score']\n",
    "stds = grid_result.cv_results_['std_test_score']\n",
    "params = grid_result.cv_results_['params']\n",
    "for mean, stdev, param in zip(means, stds, params):\n",
    "    print(\"%f (%f) with: %r\" % (mean, stdev, param))\n",
    "\n",
    "pyplot.errorbar(n_estimators, means, yerr=stds)\n",
    "pyplot.title(\"XGBoost n_estimators vs Accuracy\")\n",
    "pyplot.xlabel('n_estimators')\n",
    "pyplot.ylabel('Accuracy')\n",
    "pyplot.savefig('n_estimators.png')"
   ]
  }
 ],
 "metadata": {
  "kernelspec": {
   "display_name": "Python 2",
   "language": "python",
   "name": "python2"
  },
  "language_info": {
   "codemirror_mode": {
    "name": "ipython",
    "version": 2
   },
   "file_extension": ".py",
   "mimetype": "text/x-python",
   "name": "python",
   "nbconvert_exporter": "python",
   "pygments_lexer": "ipython2",
   "version": "2.7.6"
  }
 },
 "nbformat": 4,
 "nbformat_minor": 0
}
