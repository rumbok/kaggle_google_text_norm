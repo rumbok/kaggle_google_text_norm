{
 "cells": [
  {
   "cell_type": "code",
   "execution_count": 2,
   "metadata": {
    "collapsed": true
   },
   "outputs": [
    {
     "name": "stderr",
     "output_type": "stream",
     "text": [
      "Using TensorFlow backend.\n"
     ]
    }
   ],
   "source": [
    "import numpy as np\n",
    "from loaders.loading import load_train\n",
    "from transformers.dash_transformer import DashTransformer\n",
    "from transformers.dict_nbhd_transformer import DictNBHDTransformer\n",
    "from transformers.dict_transformer import DictTransformer\n",
    "from transformers.digit_transformer import DigitTransformer\n",
    "from transformers.flat_transformer import FlatTransformer\n",
    "from transformers.dict_class_transformer import DictClassTransformer\n",
    "from transformers.letters_transformer import LettersTransformer\n",
    "from transformers.lstm_transliterator import LSTMTransliterator\n",
    "from transformers.scored_chain import ScoredChain\n",
    "from transformers.self_transformer import SelfTransformer\n",
    "from sklearn.model_selection import train_test_split\n",
    "from transformers.simple_transliterator import SimpleTransliterator\n",
    "from transformers.add_class_transformer import AddClassTransformer\n",
    "from pipeline import transform"
   ]
  },
  {
   "cell_type": "code",
   "execution_count": 3,
   "metadata": {
    "collapsed": true
   },
   "outputs": [
    {
     "name": "stdout",
     "output_type": "stream",
     "text": [
      "<class 'pandas.core.frame.DataFrame'>\nRangeIndex: 10574516 entries, 0 to 10574515\nData columns (total 5 columns):\nclass          object\nbefore         object\nafter          object\nbefore_prev    object\nbefore_next    object\ndtypes: object(5)\nmemory usage: 403.4+ MB\nNone\n"
     ]
    }
   ],
   "source": [
    "df = load_train(['class', 'before', 'after'], r'../input/norm_challenge_ru')\n",
    "df['before_prev'] = df['before'].shift(1)\n",
    "df['before_next'] = df['before'].shift(-1)\n",
    "df = df.fillna('')\n",
    "print(df.info())"
   ]
  },
  {
   "cell_type": "code",
   "execution_count": 4,
   "metadata": {},
   "outputs": [],
   "source": [
    "x_train, x_test, y_train, y_test = train_test_split(df.drop(['after'], axis=1), df['after'], test_size=0.1, random_state=2017)\n",
    "x_test.drop(['class'], axis=1, inplace=True)"
   ]
  },
  {
   "cell_type": "code",
   "execution_count": 12,
   "metadata": {
    "collapsed": false
   },
   "outputs": [
    {
     "name": "stderr",
     "output_type": "stream",
     "text": [
      "\rMorphologyExtractor create index: 0it [00:00, ?it/s]"
     ]
    },
    {
     "name": "stderr",
     "output_type": "stream",
     "text": [
      "\rMorphologyExtractor create index: 14603it [00:00, 146024.57it/s]"
     ]
    },
    {
     "name": "stderr",
     "output_type": "stream",
     "text": [
      "\rMorphologyExtractor create index: 22032it [00:00, 113220.24it/s]"
     ]
    },
    {
     "name": "stderr",
     "output_type": "stream",
     "text": [
      "\rMorphologyExtractor create index: 27327it [00:00, 83518.45it/s] "
     ]
    },
    {
     "name": "stderr",
     "output_type": "stream",
     "text": [
      "\rMorphologyExtractor create index: 39119it [00:00, 91528.27it/s]"
     ]
    },
    {
     "name": "stderr",
     "output_type": "stream",
     "text": [
      "\rMorphologyExtractor create index: 49081it [00:00, 93814.03it/s]"
     ]
    },
    {
     "name": "stderr",
     "output_type": "stream",
     "text": [
      "\rMorphologyExtractor create index: 58467it [00:00, 93825.36it/s]"
     ]
    },
    {
     "name": "stderr",
     "output_type": "stream",
     "text": [
      "\rMorphologyExtractor create index: 70367it [00:00, 100183.04it/s]"
     ]
    },
    {
     "name": "stderr",
     "output_type": "stream",
     "text": [
      "\rMorphologyExtractor create index: 83195it [00:00, 107225.90it/s]"
     ]
    },
    {
     "name": "stderr",
     "output_type": "stream",
     "text": [
      "\rMorphologyExtractor create index: 93681it [00:00, 98887.13it/s] "
     ]
    },
    {
     "name": "stderr",
     "output_type": "stream",
     "text": [
      "\rMorphologyExtractor create index: 108086it [00:01, 109153.02it/s]"
     ]
    },
    {
     "name": "stderr",
     "output_type": "stream",
     "text": [
      "\rMorphologyExtractor create index: 122681it [00:01, 118083.89it/s]"
     ]
    },
    {
     "name": "stderr",
     "output_type": "stream",
     "text": [
      "\rMorphologyExtractor create index: 137905it [00:01, 126603.40it/s]"
     ]
    },
    {
     "name": "stderr",
     "output_type": "stream",
     "text": [
      "\rMorphologyExtractor create index: 152590it [00:01, 132065.57it/s]"
     ]
    },
    {
     "name": "stderr",
     "output_type": "stream",
     "text": [
      "\rMorphologyExtractor create index: 166969it [00:01, 135376.78it/s]"
     ]
    },
    {
     "name": "stderr",
     "output_type": "stream",
     "text": [
      "\rMorphologyExtractor create index: 181869it [00:01, 139192.88it/s]"
     ]
    },
    {
     "name": "stderr",
     "output_type": "stream",
     "text": [
      "\rMorphologyExtractor create index: 197137it [00:01, 142979.94it/s]"
     ]
    },
    {
     "name": "stderr",
     "output_type": "stream",
     "text": [
      "\rMorphologyExtractor create index: 212138it [00:01, 145018.33it/s]"
     ]
    },
    {
     "name": "stderr",
     "output_type": "stream",
     "text": [
      "\rMorphologyExtractor create index: 228789it [00:01, 150859.09it/s]"
     ]
    },
    {
     "name": "stderr",
     "output_type": "stream",
     "text": [
      "\rMorphologyExtractor create index: 244033it [00:01, 150935.13it/s]"
     ]
    },
    {
     "name": "stderr",
     "output_type": "stream",
     "text": [
      "\rMorphologyExtractor create index: 259253it [00:02, 151310.49it/s]"
     ]
    },
    {
     "name": "stderr",
     "output_type": "stream",
     "text": [
      "\rMorphologyExtractor create index: 274926it [00:02, 152895.34it/s]"
     ]
    },
    {
     "name": "stderr",
     "output_type": "stream",
     "text": [
      "\rMorphologyExtractor create index: 290274it [00:02, 152940.26it/s]"
     ]
    },
    {
     "name": "stderr",
     "output_type": "stream",
     "text": [
      "\rMorphologyExtractor create index: 305609it [00:02, 151759.62it/s]"
     ]
    },
    {
     "name": "stderr",
     "output_type": "stream",
     "text": [
      "\rMorphologyExtractor create index: 321038it [00:02, 152509.16it/s]"
     ]
    },
    {
     "name": "stderr",
     "output_type": "stream",
     "text": [
      "\rMorphologyExtractor create index: 336312it [00:02, 152451.70it/s]"
     ]
    },
    {
     "name": "stderr",
     "output_type": "stream",
     "text": [
      "\rMorphologyExtractor create index: 352630it [00:02, 155516.80it/s]"
     ]
    },
    {
     "name": "stderr",
     "output_type": "stream",
     "text": [
      "\rMorphologyExtractor create index: 368208it [00:02, 153711.00it/s]"
     ]
    },
    {
     "name": "stderr",
     "output_type": "stream",
     "text": [
      "\rMorphologyExtractor create index: 383869it [00:02, 154568.97it/s]"
     ]
    },
    {
     "name": "stderr",
     "output_type": "stream",
     "text": [
      "\rMorphologyExtractor create index: 399643it [00:02, 155504.55it/s]"
     ]
    },
    {
     "name": "stderr",
     "output_type": "stream",
     "text": [
      "\rMorphologyExtractor create index: 415869it [00:03, 157470.44it/s]"
     ]
    },
    {
     "name": "stderr",
     "output_type": "stream",
     "text": [
      "\rMorphologyExtractor create index: 431634it [00:03, 157522.39it/s]"
     ]
    },
    {
     "name": "stderr",
     "output_type": "stream",
     "text": [
      "\rMorphologyExtractor create index: 447397it [00:03, 157539.61it/s]"
     ]
    },
    {
     "name": "stderr",
     "output_type": "stream",
     "text": [
      "\rMorphologyExtractor create index: 463274it [00:03, 157906.32it/s]"
     ]
    },
    {
     "name": "stderr",
     "output_type": "stream",
     "text": [
      "\rMorphologyExtractor create index: 479071it [00:03, 154807.60it/s]"
     ]
    },
    {
     "name": "stderr",
     "output_type": "stream",
     "text": [
      "\rMorphologyExtractor create index: 494721it [00:03, 155310.74it/s]"
     ]
    },
    {
     "name": "stderr",
     "output_type": "stream",
     "text": [
      "\rMorphologyExtractor create index: 510265it [00:03, 154098.39it/s]"
     ]
    },
    {
     "name": "stderr",
     "output_type": "stream",
     "text": [
      "\rMorphologyExtractor create index: 525686it [00:03, 152608.88it/s]"
     ]
    },
    {
     "name": "stderr",
     "output_type": "stream",
     "text": [
      "\rMorphologyExtractor create index: 541580it [00:03, 154454.23it/s]"
     ]
    },
    {
     "name": "stderr",
     "output_type": "stream",
     "text": [
      "\rMorphologyExtractor create index: 557039it [00:03, 153638.14it/s]"
     ]
    },
    {
     "name": "stderr",
     "output_type": "stream",
     "text": [
      "\rMorphologyExtractor create index: 572413it [00:04, 151695.47it/s]"
     ]
    },
    {
     "name": "stderr",
     "output_type": "stream",
     "text": [
      "\rMorphologyExtractor create index: 588237it [00:04, 153599.93it/s]"
     ]
    },
    {
     "name": "stderr",
     "output_type": "stream",
     "text": [
      "\rMorphologyExtractor create index: 603612it [00:04, 150583.69it/s]"
     ]
    },
    {
     "name": "stderr",
     "output_type": "stream",
     "text": [
      "\rMorphologyExtractor create index: 619053it [00:04, 151710.60it/s]"
     ]
    },
    {
     "name": "stderr",
     "output_type": "stream",
     "text": [
      "\rMorphologyExtractor create index: 634243it [00:04, 151491.24it/s]"
     ]
    },
    {
     "name": "stderr",
     "output_type": "stream",
     "text": [
      "\rMorphologyExtractor create index: 649486it [00:04, 151768.45it/s]"
     ]
    },
    {
     "name": "stderr",
     "output_type": "stream",
     "text": [
      "\rMorphologyExtractor create index: 664949it [00:04, 152612.12it/s]"
     ]
    },
    {
     "name": "stderr",
     "output_type": "stream",
     "text": [
      "\rMorphologyExtractor create index: 680770it [00:04, 154246.79it/s]"
     ]
    },
    {
     "name": "stderr",
     "output_type": "stream",
     "text": [
      "\rMorphologyExtractor create index: 696205it [00:04, 152349.40it/s]"
     ]
    },
    {
     "name": "stderr",
     "output_type": "stream",
     "text": [
      "\rMorphologyExtractor create index: 711452it [00:04, 150539.90it/s]"
     ]
    },
    {
     "name": "stderr",
     "output_type": "stream",
     "text": [
      "\rMorphologyExtractor create index: 726520it [00:05, 150467.40it/s]"
     ]
    },
    {
     "name": "stderr",
     "output_type": "stream",
     "text": [
      "\rMorphologyExtractor create index: 741961it [00:05, 151627.43it/s]"
     ]
    },
    {
     "name": "stderr",
     "output_type": "stream",
     "text": [
      "\rMorphologyExtractor create index: 757133it [00:05, 150435.89it/s]"
     ]
    },
    {
     "name": "stderr",
     "output_type": "stream",
     "text": [
      "\rMorphologyExtractor create index: 772185it [00:05, 149676.09it/s]"
     ]
    },
    {
     "name": "stderr",
     "output_type": "stream",
     "text": [
      "\rMorphologyExtractor create index: 787160it [00:05, 148705.96it/s]"
     ]
    },
    {
     "name": "stderr",
     "output_type": "stream",
     "text": [
      "\rMorphologyExtractor create index: 802045it [00:05, 148746.00it/s]"
     ]
    },
    {
     "name": "stderr",
     "output_type": "stream",
     "text": [
      "\rMorphologyExtractor create index: 816924it [00:05, 148012.08it/s]"
     ]
    },
    {
     "name": "stderr",
     "output_type": "stream",
     "text": [
      "\rMorphologyExtractor create index: 831730it [00:05, 147592.29it/s]"
     ]
    },
    {
     "name": "stderr",
     "output_type": "stream",
     "text": [
      "\rMorphologyExtractor create index: 846663it [00:05, 148106.34it/s]"
     ]
    },
    {
     "name": "stderr",
     "output_type": "stream",
     "text": [
      "\rMorphologyExtractor create index: 861477it [00:05, 147619.14it/s]"
     ]
    },
    {
     "name": "stderr",
     "output_type": "stream",
     "text": [
      "\rMorphologyExtractor create index: 877164it [00:06, 150275.65it/s]"
     ]
    },
    {
     "name": "stderr",
     "output_type": "stream",
     "text": [
      "\rMorphologyExtractor create index: 892268it [00:06, 150501.83it/s]"
     ]
    },
    {
     "name": "stderr",
     "output_type": "stream",
     "text": [
      "\rMorphologyExtractor create index: 908230it [00:06, 153125.51it/s]"
     ]
    },
    {
     "name": "stderr",
     "output_type": "stream",
     "text": [
      "\rMorphologyExtractor create index: 923753it [00:06, 153748.49it/s]"
     ]
    },
    {
     "name": "stderr",
     "output_type": "stream",
     "text": [
      "\rMorphologyExtractor create index: 939305it [00:06, 154272.99it/s]"
     ]
    },
    {
     "name": "stderr",
     "output_type": "stream",
     "text": [
      "\rMorphologyExtractor create index: 954742it [00:06, 152269.75it/s]"
     ]
    },
    {
     "name": "stderr",
     "output_type": "stream",
     "text": [
      "\rMorphologyExtractor create index: 970965it [00:06, 155125.66it/s]"
     ]
    },
    {
     "name": "stderr",
     "output_type": "stream",
     "text": [
      "\rMorphologyExtractor create index: 986500it [00:06, 153222.58it/s]"
     ]
    },
    {
     "name": "stderr",
     "output_type": "stream",
     "text": [
      "\rMorphologyExtractor create index: 1002400it [00:06, 154908.04it/s]"
     ]
    },
    {
     "name": "stderr",
     "output_type": "stream",
     "text": [
      "\rMorphologyExtractor create index: 1017910it [00:06, 154671.71it/s]"
     ]
    },
    {
     "name": "stderr",
     "output_type": "stream",
     "text": [
      "\rMorphologyExtractor create index: 1033391it [00:07, 154236.94it/s]"
     ]
    },
    {
     "name": "stderr",
     "output_type": "stream",
     "text": [
      "\rMorphologyExtractor create index: 1048825it [00:07, 153930.81it/s]"
     ]
    },
    {
     "name": "stderr",
     "output_type": "stream",
     "text": [
      "\rMorphologyExtractor create index: 1064225it [00:07, 151046.86it/s]"
     ]
    },
    {
     "name": "stderr",
     "output_type": "stream",
     "text": [
      "\rMorphologyExtractor create index: 1079347it [00:07, 147187.44it/s]"
     ]
    },
    {
     "name": "stderr",
     "output_type": "stream",
     "text": [
      "\rMorphologyExtractor create index: 1094100it [00:07, 146124.12it/s]"
     ]
    },
    {
     "name": "stderr",
     "output_type": "stream",
     "text": [
      "\rMorphologyExtractor create index: 1109184it [00:07, 147506.02it/s]"
     ]
    },
    {
     "name": "stderr",
     "output_type": "stream",
     "text": [
      "\rMorphologyExtractor create index: 1124125it [00:07, 148071.19it/s]"
     ]
    },
    {
     "name": "stderr",
     "output_type": "stream",
     "text": [
      "\rMorphologyExtractor create index: 1138948it [00:07, 147396.37it/s]"
     ]
    },
    {
     "name": "stderr",
     "output_type": "stream",
     "text": [
      "\rMorphologyExtractor create index: 1154243it [00:07, 149017.51it/s]"
     ]
    },
    {
     "name": "stderr",
     "output_type": "stream",
     "text": [
      "\rMorphologyExtractor create index: 1169666it [00:08, 150542.98it/s]"
     ]
    },
    {
     "name": "stderr",
     "output_type": "stream",
     "text": [
      "\rMorphologyExtractor create index: 1185032it [00:08, 151464.23it/s]"
     ]
    },
    {
     "name": "stderr",
     "output_type": "stream",
     "text": [
      "\rMorphologyExtractor create index: 1200689it [00:08, 152959.31it/s]"
     ]
    },
    {
     "name": "stderr",
     "output_type": "stream",
     "text": [
      "\rMorphologyExtractor create index: 1215996it [00:08, 152963.13it/s]"
     ]
    },
    {
     "name": "stderr",
     "output_type": "stream",
     "text": [
      "\rMorphologyExtractor create index: 1231806it [00:08, 154467.54it/s]"
     ]
    },
    {
     "name": "stderr",
     "output_type": "stream",
     "text": [
      "\rMorphologyExtractor create index: 1247355it [00:08, 154772.80it/s]"
     ]
    },
    {
     "name": "stderr",
     "output_type": "stream",
     "text": [
      "\rMorphologyExtractor create index: 1262983it [00:08, 155219.52it/s]"
     ]
    },
    {
     "name": "stderr",
     "output_type": "stream",
     "text": [
      "\rMorphologyExtractor create index: 1278623it [00:08, 155570.50it/s]"
     ]
    },
    {
     "name": "stderr",
     "output_type": "stream",
     "text": [
      "\rMorphologyExtractor create index: 1294184it [00:08, 154009.42it/s]"
     ]
    },
    {
     "name": "stderr",
     "output_type": "stream",
     "text": [
      "\rMorphologyExtractor create index: 1309700it [00:08, 154349.88it/s]"
     ]
    },
    {
     "name": "stderr",
     "output_type": "stream",
     "text": [
      "\rMorphologyExtractor create index: 1325140it [00:09, 151049.56it/s]"
     ]
    },
    {
     "name": "stderr",
     "output_type": "stream",
     "text": [
      "\rMorphologyExtractor create index: 1340264it [00:09, 150929.58it/s]"
     ]
    },
    {
     "name": "stderr",
     "output_type": "stream",
     "text": [
      "\rMorphologyExtractor create index: 1355371it [00:09, 150343.38it/s]"
     ]
    },
    {
     "name": "stderr",
     "output_type": "stream",
     "text": [
      "\rMorphologyExtractor create index: 1370416it [00:09, 148769.95it/s]"
     ]
    },
    {
     "name": "stderr",
     "output_type": "stream",
     "text": [
      "\rMorphologyExtractor create index: 1386127it [00:09, 151175.24it/s]"
     ]
    },
    {
     "name": "stderr",
     "output_type": "stream",
     "text": [
      "\rMorphologyExtractor create index: 1401999it [00:09, 153361.04it/s]"
     ]
    },
    {
     "name": "stderr",
     "output_type": "stream",
     "text": [
      "\rMorphologyExtractor create index: 1417815it [00:09, 154768.50it/s]"
     ]
    },
    {
     "name": "stderr",
     "output_type": "stream",
     "text": [
      "\rMorphologyExtractor create index: 1434093it [00:09, 157086.00it/s]"
     ]
    },
    {
     "name": "stderr",
     "output_type": "stream",
     "text": [
      "\rMorphologyExtractor create index: 1449822it [00:09, 154832.84it/s]"
     ]
    },
    {
     "name": "stderr",
     "output_type": "stream",
     "text": [
      "\rMorphologyExtractor create index: 1465327it [00:09, 153326.22it/s]"
     ]
    },
    {
     "name": "stderr",
     "output_type": "stream",
     "text": [
      "\rMorphologyExtractor create index: 1480678it [00:10, 151530.42it/s]"
     ]
    },
    {
     "name": "stderr",
     "output_type": "stream",
     "text": [
      "\rMorphologyExtractor create index: 1496697it [00:10, 154027.88it/s]"
     ]
    },
    {
     "name": "stderr",
     "output_type": "stream",
     "text": [
      "\rMorphologyExtractor create index: 1512540it [00:10, 155322.55it/s]"
     ]
    },
    {
     "name": "stderr",
     "output_type": "stream",
     "text": [
      "\rMorphologyExtractor create index: 1528091it [00:10, 152862.36it/s]"
     ]
    },
    {
     "name": "stderr",
     "output_type": "stream",
     "text": [
      "\rMorphologyExtractor create index: 1543438it [00:10, 153044.08it/s]"
     ]
    },
    {
     "name": "stderr",
     "output_type": "stream",
     "text": [
      "\rMorphologyExtractor create index: 1559138it [00:10, 154209.37it/s]"
     ]
    },
    {
     "name": "stderr",
     "output_type": "stream",
     "text": [
      "\rMorphologyExtractor create index: 1575133it [00:10, 155887.76it/s]"
     ]
    },
    {
     "name": "stderr",
     "output_type": "stream",
     "text": [
      "\rMorphologyExtractor create index: 1590736it [00:10, 154472.07it/s]"
     ]
    },
    {
     "name": "stderr",
     "output_type": "stream",
     "text": [
      "\rMorphologyExtractor create index: 1606690it [00:10, 155957.38it/s]"
     ]
    },
    {
     "name": "stderr",
     "output_type": "stream",
     "text": [
      "\rMorphologyExtractor create index: 1622298it [00:10, 154356.80it/s]"
     ]
    },
    {
     "name": "stderr",
     "output_type": "stream",
     "text": [
      "\rMorphologyExtractor create index: 1637881it [00:11, 154794.33it/s]"
     ]
    },
    {
     "name": "stderr",
     "output_type": "stream",
     "text": [
      "\rMorphologyExtractor create index: 1654051it [00:11, 156800.62it/s]"
     ]
    },
    {
     "name": "stderr",
     "output_type": "stream",
     "text": [
      "\rMorphologyExtractor create index: 1670544it [00:11, 159151.65it/s]"
     ]
    },
    {
     "name": "stderr",
     "output_type": "stream",
     "text": [
      "\rMorphologyExtractor create index: 1686477it [00:11, 157786.74it/s]"
     ]
    },
    {
     "name": "stderr",
     "output_type": "stream",
     "text": [
      "\rMorphologyExtractor create index: 1702271it [00:11, 155733.03it/s]"
     ]
    },
    {
     "name": "stderr",
     "output_type": "stream",
     "text": [
      "\rMorphologyExtractor create index: 1717861it [00:11, 152791.30it/s]"
     ]
    },
    {
     "name": "stderr",
     "output_type": "stream",
     "text": [
      "\rMorphologyExtractor create index: 1733164it [00:11, 150490.62it/s]"
     ]
    },
    {
     "name": "stderr",
     "output_type": "stream",
     "text": [
      "\rMorphologyExtractor create index: 1748238it [00:11, 150464.35it/s]"
     ]
    },
    {
     "name": "stderr",
     "output_type": "stream",
     "text": [
      "\rMorphologyExtractor create index: 1763909it [00:11, 152283.27it/s]"
     ]
    },
    {
     "name": "stderr",
     "output_type": "stream",
     "text": [
      "\rMorphologyExtractor create index: 1779155it [00:11, 151139.37it/s]"
     ]
    },
    {
     "name": "stderr",
     "output_type": "stream",
     "text": [
      "\rMorphologyExtractor create index: 1795212it [00:12, 153849.25it/s]"
     ]
    },
    {
     "name": "stderr",
     "output_type": "stream",
     "text": [
      "\rMorphologyExtractor create index: 1810619it [00:12, 153623.14it/s]"
     ]
    },
    {
     "name": "stderr",
     "output_type": "stream",
     "text": [
      "\rMorphologyExtractor create index: 1826145it [00:12, 154107.87it/s]"
     ]
    },
    {
     "name": "stderr",
     "output_type": "stream",
     "text": [
      "\rMorphologyExtractor create index: 1841567it [00:12, 152675.16it/s]"
     ]
    },
    {
     "name": "stderr",
     "output_type": "stream",
     "text": [
      "\rMorphologyExtractor create index: 1857576it [00:12, 154824.27it/s]"
     ]
    },
    {
     "name": "stderr",
     "output_type": "stream",
     "text": [
      "\rMorphologyExtractor create index: 1873074it [00:12, 151299.09it/s]"
     ]
    },
    {
     "name": "stderr",
     "output_type": "stream",
     "text": [
      "\rMorphologyExtractor create index: 1888609it [00:12, 152489.69it/s]"
     ]
    },
    {
     "name": "stderr",
     "output_type": "stream",
     "text": [
      "\rMorphologyExtractor create index: 1903880it [00:12, 152047.20it/s]"
     ]
    },
    {
     "name": "stderr",
     "output_type": "stream",
     "text": [
      "\rMorphologyExtractor create index: 1919101it [00:12, 151702.58it/s]"
     ]
    },
    {
     "name": "stderr",
     "output_type": "stream",
     "text": [
      "\rMorphologyExtractor create index: 1934283it [00:12, 150920.57it/s]"
     ]
    },
    {
     "name": "stderr",
     "output_type": "stream",
     "text": [
      "\rMorphologyExtractor create index: 1949384it [00:13, 150080.97it/s]"
     ]
    },
    {
     "name": "stderr",
     "output_type": "stream",
     "text": [
      "\rMorphologyExtractor create index: 1965011it [00:13, 151883.94it/s]"
     ]
    },
    {
     "name": "stderr",
     "output_type": "stream",
     "text": [
      "\rMorphologyExtractor create index: 1980210it [00:13, 150989.31it/s]"
     ]
    },
    {
     "name": "stderr",
     "output_type": "stream",
     "text": [
      "\rMorphologyExtractor create index: 1995957it [00:13, 152876.74it/s]"
     ]
    },
    {
     "name": "stderr",
     "output_type": "stream",
     "text": [
      "\rMorphologyExtractor create index: 2011257it [00:13, 152543.64it/s]"
     ]
    },
    {
     "name": "stderr",
     "output_type": "stream",
     "text": [
      "\rMorphologyExtractor create index: 2026778it [00:13, 153331.54it/s]"
     ]
    },
    {
     "name": "stderr",
     "output_type": "stream",
     "text": [
      "\rMorphologyExtractor create index: 2042118it [00:13, 152149.31it/s]"
     ]
    },
    {
     "name": "stderr",
     "output_type": "stream",
     "text": [
      "\rMorphologyExtractor create index: 2057340it [00:13, 152132.70it/s]"
     ]
    },
    {
     "name": "stderr",
     "output_type": "stream",
     "text": [
      "\rMorphologyExtractor create index: 2073143it [00:13, 153852.95it/s]"
     ]
    },
    {
     "name": "stderr",
     "output_type": "stream",
     "text": [
      "\rMorphologyExtractor create index: 2088657it [00:13, 154233.57it/s]"
     ]
    },
    {
     "name": "stderr",
     "output_type": "stream",
     "text": [
      "\rMorphologyExtractor create index: 2104087it [00:14, 151214.91it/s]"
     ]
    },
    {
     "name": "stderr",
     "output_type": "stream",
     "text": [
      "\rMorphologyExtractor create index: 2119226it [00:14, 150651.36it/s]"
     ]
    },
    {
     "name": "stderr",
     "output_type": "stream",
     "text": [
      "\rMorphologyExtractor create index: 2134746it [00:14, 151985.41it/s]"
     ]
    },
    {
     "name": "stderr",
     "output_type": "stream",
     "text": [
      "\rMorphologyExtractor create index: 2149957it [00:14, 151236.95it/s]"
     ]
    },
    {
     "name": "stderr",
     "output_type": "stream",
     "text": [
      "\rMorphologyExtractor create index: 2166121it [00:14, 154211.91it/s]"
     ]
    },
    {
     "name": "stderr",
     "output_type": "stream",
     "text": [
      "\rMorphologyExtractor create index: 2181563it [00:14, 152170.35it/s]"
     ]
    },
    {
     "name": "stderr",
     "output_type": "stream",
     "text": [
      "\rMorphologyExtractor create index: 2196873it [00:14, 152446.69it/s]"
     ]
    },
    {
     "name": "stderr",
     "output_type": "stream",
     "text": [
      "\rMorphologyExtractor create index: 2212133it [00:14, 149698.14it/s]"
     ]
    },
    {
     "name": "stderr",
     "output_type": "stream",
     "text": [
      "\rMorphologyExtractor create index: 2227190it [00:14, 149954.62it/s]"
     ]
    },
    {
     "name": "stderr",
     "output_type": "stream",
     "text": [
      "\rMorphologyExtractor create index: 2242201it [00:15, 146696.39it/s]"
     ]
    },
    {
     "name": "stderr",
     "output_type": "stream",
     "text": [
      "\rMorphologyExtractor create index: 2256897it [00:15, 146161.27it/s]"
     ]
    },
    {
     "name": "stderr",
     "output_type": "stream",
     "text": [
      "\rMorphologyExtractor create index: 2271532it [00:15, 145084.56it/s]"
     ]
    },
    {
     "name": "stderr",
     "output_type": "stream",
     "text": [
      "\rMorphologyExtractor create index: 2287903it [00:15, 150110.73it/s]"
     ]
    },
    {
     "name": "stderr",
     "output_type": "stream",
     "text": [
      "\rMorphologyExtractor create index: 2302969it [00:15, 150127.86it/s]"
     ]
    },
    {
     "name": "stderr",
     "output_type": "stream",
     "text": [
      "\rMorphologyExtractor create index: 2318021it [00:15, 144636.88it/s]"
     ]
    },
    {
     "name": "stderr",
     "output_type": "stream",
     "text": [
      "\rMorphologyExtractor create index: 2332555it [00:15, 143323.75it/s]"
     ]
    },
    {
     "name": "stderr",
     "output_type": "stream",
     "text": [
      "\rMorphologyExtractor create index: 2347460it [00:15, 144992.31it/s]"
     ]
    },
    {
     "name": "stderr",
     "output_type": "stream",
     "text": [
      "\rMorphologyExtractor create index: 2363922it [00:15, 150370.09it/s]"
     ]
    },
    {
     "name": "stderr",
     "output_type": "stream",
     "text": [
      "\rMorphologyExtractor create index: 2379807it [00:15, 152814.45it/s]"
     ]
    },
    {
     "name": "stderr",
     "output_type": "stream",
     "text": [
      "\rMorphologyExtractor create index: 2395154it [00:16, 143171.13it/s]"
     ]
    },
    {
     "name": "stderr",
     "output_type": "stream",
     "text": [
      "\rMorphologyExtractor create index: 2410284it [00:16, 145515.22it/s]"
     ]
    },
    {
     "name": "stderr",
     "output_type": "stream",
     "text": [
      "\rMorphologyExtractor create index: 2425759it [00:16, 148166.63it/s]"
     ]
    },
    {
     "name": "stderr",
     "output_type": "stream",
     "text": [
      "\rMorphologyExtractor create index: 2440678it [00:16, 144279.97it/s]"
     ]
    },
    {
     "name": "stderr",
     "output_type": "stream",
     "text": [
      "\rMorphologyExtractor create index: 2455916it [00:16, 146618.03it/s]"
     ]
    },
    {
     "name": "stderr",
     "output_type": "stream",
     "text": [
      "\rMorphologyExtractor create index: 2471665it [00:16, 149717.81it/s]"
     ]
    },
    {
     "name": "stderr",
     "output_type": "stream",
     "text": [
      "\rMorphologyExtractor create index: 2486921it [00:16, 150558.47it/s]"
     ]
    },
    {
     "name": "stderr",
     "output_type": "stream",
     "text": [
      "\rMorphologyExtractor create index: 2502422it [00:16, 151865.09it/s]"
     ]
    },
    {
     "name": "stderr",
     "output_type": "stream",
     "text": [
      "\rMorphologyExtractor create index: 2517646it [00:16, 150955.17it/s]"
     ]
    },
    {
     "name": "stderr",
     "output_type": "stream",
     "text": [
      "\rMorphologyExtractor create index: 2532769it [00:16, 150175.91it/s]"
     ]
    },
    {
     "name": "stderr",
     "output_type": "stream",
     "text": [
      "\rMorphologyExtractor create index: 2548411it [00:17, 151993.45it/s]"
     ]
    },
    {
     "name": "stderr",
     "output_type": "stream",
     "text": [
      "\rMorphologyExtractor create index: 2563677it [00:17, 152191.55it/s]"
     ]
    },
    {
     "name": "stderr",
     "output_type": "stream",
     "text": [
      "\rMorphologyExtractor create index: 2578927it [00:17, 152283.89it/s]"
     ]
    },
    {
     "name": "stderr",
     "output_type": "stream",
     "text": [
      "\rMorphologyExtractor create index: 2594197it [00:17, 152405.26it/s]"
     ]
    },
    {
     "name": "stderr",
     "output_type": "stream",
     "text": [
      "\rMorphologyExtractor create index: 2609445it [00:17, 151783.61it/s]"
     ]
    },
    {
     "name": "stderr",
     "output_type": "stream",
     "text": [
      "\rMorphologyExtractor create index: 2624629it [00:17, 150969.22it/s]"
     ]
    },
    {
     "name": "stderr",
     "output_type": "stream",
     "text": [
      "\rMorphologyExtractor create index: 2639937it [00:17, 151594.53it/s]"
     ]
    },
    {
     "name": "stderr",
     "output_type": "stream",
     "text": [
      "\rMorphologyExtractor create index: 2655291it [00:17, 152171.19it/s]"
     ]
    },
    {
     "name": "stderr",
     "output_type": "stream",
     "text": [
      "\rMorphologyExtractor create index: 2670826it [00:17, 153108.97it/s]"
     ]
    },
    {
     "name": "stderr",
     "output_type": "stream",
     "text": [
      "\rMorphologyExtractor create index: 2686141it [00:17, 152785.35it/s]"
     ]
    },
    {
     "name": "stderr",
     "output_type": "stream",
     "text": [
      "\rMorphologyExtractor create index: 2701423it [00:18, 152416.25it/s]"
     ]
    },
    {
     "name": "stderr",
     "output_type": "stream",
     "text": [
      "\rMorphologyExtractor create index: 2717313it [00:18, 154303.35it/s]"
     ]
    },
    {
     "name": "stderr",
     "output_type": "stream",
     "text": [
      "\rMorphologyExtractor create index: 2733038it [00:18, 155174.74it/s]"
     ]
    },
    {
     "name": "stderr",
     "output_type": "stream",
     "text": [
      "\rMorphologyExtractor create index: 2748562it [00:18, 153989.87it/s]"
     ]
    },
    {
     "name": "stderr",
     "output_type": "stream",
     "text": [
      "\rMorphologyExtractor create index: 2764577it [00:18, 155786.20it/s]"
     ]
    },
    {
     "name": "stderr",
     "output_type": "stream",
     "text": [
      "\rMorphologyExtractor create index: 2780166it [00:18, 153941.79it/s]"
     ]
    },
    {
     "name": "stderr",
     "output_type": "stream",
     "text": [
      "\rMorphologyExtractor create index: 2795572it [00:18, 152086.16it/s]"
     ]
    },
    {
     "name": "stderr",
     "output_type": "stream",
     "text": [
      "\rMorphologyExtractor create index: 2810794it [00:18, 151928.14it/s]"
     ]
    },
    {
     "name": "stderr",
     "output_type": "stream",
     "text": [
      "\rMorphologyExtractor create index: 2826582it [00:18, 153665.97it/s]"
     ]
    },
    {
     "name": "stderr",
     "output_type": "stream",
     "text": [
      "\rMorphologyExtractor create index: 2841960it [00:19, 152414.17it/s]"
     ]
    },
    {
     "name": "stderr",
     "output_type": "stream",
     "text": [
      "\rMorphologyExtractor create index: 2857601it [00:19, 153589.96it/s]"
     ]
    },
    {
     "name": "stderr",
     "output_type": "stream",
     "text": [
      "\rMorphologyExtractor create index: 2873486it [00:19, 155125.98it/s]"
     ]
    },
    {
     "name": "stderr",
     "output_type": "stream",
     "text": [
      "\rMorphologyExtractor create index: 2889009it [00:19, 154343.10it/s]"
     ]
    },
    {
     "name": "stderr",
     "output_type": "stream",
     "text": [
      "\rMorphologyExtractor create index: 2904669it [00:19, 155013.25it/s]"
     ]
    },
    {
     "name": "stderr",
     "output_type": "stream",
     "text": [
      "\rMorphologyExtractor create index: 2920494it [00:19, 155967.58it/s]"
     ]
    },
    {
     "name": "stderr",
     "output_type": "stream",
     "text": [
      "\rMorphologyExtractor create index: 2936175it [00:19, 156217.95it/s]"
     ]
    },
    {
     "name": "stderr",
     "output_type": "stream",
     "text": [
      "\rMorphologyExtractor create index: 2951801it [00:19, 155382.78it/s]"
     ]
    },
    {
     "name": "stderr",
     "output_type": "stream",
     "text": [
      "\rMorphologyExtractor create index: 2967344it [00:19, 151886.77it/s]"
     ]
    },
    {
     "name": "stderr",
     "output_type": "stream",
     "text": [
      "\rMorphologyExtractor create index: 2982553it [00:19, 150833.25it/s]"
     ]
    },
    {
     "name": "stderr",
     "output_type": "stream",
     "text": [
      "\rMorphologyExtractor create index: 2997653it [00:20, 148992.21it/s]"
     ]
    },
    {
     "name": "stderr",
     "output_type": "stream",
     "text": [
      "\rMorphologyExtractor create index: 3013310it [00:20, 151186.18it/s]"
     ]
    },
    {
     "name": "stderr",
     "output_type": "stream",
     "text": [
      "\rMorphologyExtractor create index: 3028452it [00:20, 151252.62it/s]"
     ]
    },
    {
     "name": "stderr",
     "output_type": "stream",
     "text": [
      "\rMorphologyExtractor create index: 3043591it [00:20, 150479.49it/s]"
     ]
    },
    {
     "name": "stderr",
     "output_type": "stream",
     "text": [
      "\rMorphologyExtractor create index: 3058650it [00:20, 150148.90it/s]"
     ]
    },
    {
     "name": "stderr",
     "output_type": "stream",
     "text": [
      "\rMorphologyExtractor create index: 3074335it [00:20, 152094.36it/s]"
     ]
    },
    {
     "name": "stderr",
     "output_type": "stream",
     "text": [
      "\rMorphologyExtractor create index: 3089556it [00:20, 151063.63it/s]"
     ]
    },
    {
     "name": "stderr",
     "output_type": "stream",
     "text": [
      "\rMorphologyExtractor create index: 3104672it [00:20, 150736.83it/s]"
     ]
    },
    {
     "name": "stderr",
     "output_type": "stream",
     "text": [
      "\rMorphologyExtractor create index: 3120350it [00:20, 152497.68it/s]"
     ]
    },
    {
     "name": "stderr",
     "output_type": "stream",
     "text": [
      "\rMorphologyExtractor create index: 3136056it [00:20, 153837.38it/s]"
     ]
    },
    {
     "name": "stderr",
     "output_type": "stream",
     "text": [
      "\rMorphologyExtractor create index: 3151450it [00:21, 153073.14it/s]"
     ]
    },
    {
     "name": "stderr",
     "output_type": "stream",
     "text": [
      "\rMorphologyExtractor create index: 3166765it [00:21, 148579.34it/s]"
     ]
    },
    {
     "name": "stderr",
     "output_type": "stream",
     "text": [
      "\rMorphologyExtractor create index: 3182450it [00:21, 150967.11it/s]"
     ]
    },
    {
     "name": "stderr",
     "output_type": "stream",
     "text": [
      "\rMorphologyExtractor create index: 3197669it [00:21, 151315.59it/s]"
     ]
    },
    {
     "name": "stderr",
     "output_type": "stream",
     "text": [
      "\rMorphologyExtractor create index: 3212824it [00:21, 149867.84it/s]"
     ]
    },
    {
     "name": "stderr",
     "output_type": "stream",
     "text": [
      "\rMorphologyExtractor create index: 3227831it [00:21, 149429.92it/s]"
     ]
    },
    {
     "name": "stderr",
     "output_type": "stream",
     "text": [
      "\rMorphologyExtractor create index: 3242886it [00:21, 149761.04it/s]"
     ]
    },
    {
     "name": "stderr",
     "output_type": "stream",
     "text": [
      "\rMorphologyExtractor create index: 3257873it [00:21, 149208.57it/s]"
     ]
    },
    {
     "name": "stderr",
     "output_type": "stream",
     "text": [
      "\rMorphologyExtractor create index: 3273492it [00:21, 151234.84it/s]"
     ]
    },
    {
     "name": "stderr",
     "output_type": "stream",
     "text": [
      "\rMorphologyExtractor create index: 3288628it [00:21, 150293.24it/s]"
     ]
    },
    {
     "name": "stderr",
     "output_type": "stream",
     "text": [
      "\rMorphologyExtractor create index: 3303667it [00:22, 149533.96it/s]"
     ]
    },
    {
     "name": "stderr",
     "output_type": "stream",
     "text": [
      "\rMorphologyExtractor create index: 3318922it [00:22, 150426.11it/s]"
     ]
    },
    {
     "name": "stderr",
     "output_type": "stream",
     "text": [
      "\rMorphologyExtractor create index: 3333972it [00:22, 149998.94it/s]"
     ]
    },
    {
     "name": "stderr",
     "output_type": "stream",
     "text": [
      "\rMorphologyExtractor create index: 3349378it [00:22, 151192.30it/s]"
     ]
    },
    {
     "name": "stderr",
     "output_type": "stream",
     "text": [
      "\rMorphologyExtractor create index: 3364930it [00:22, 152463.87it/s]"
     ]
    },
    {
     "name": "stderr",
     "output_type": "stream",
     "text": [
      "\rMorphologyExtractor create index: 3380183it [00:22, 150750.23it/s]"
     ]
    },
    {
     "name": "stderr",
     "output_type": "stream",
     "text": [
      "\rMorphologyExtractor create index: 3395267it [00:22, 148389.27it/s]"
     ]
    },
    {
     "name": "stderr",
     "output_type": "stream",
     "text": [
      "\rMorphologyExtractor create index: 3410121it [00:22, 147840.64it/s]"
     ]
    },
    {
     "name": "stderr",
     "output_type": "stream",
     "text": [
      "\rMorphologyExtractor create index: 3425353it [00:22, 149154.91it/s]"
     ]
    },
    {
     "name": "stderr",
     "output_type": "stream",
     "text": [
      "\rMorphologyExtractor create index: 3440763it [00:22, 150602.94it/s]"
     ]
    },
    {
     "name": "stderr",
     "output_type": "stream",
     "text": [
      "\rMorphologyExtractor create index: 3455834it [00:23, 148505.17it/s]"
     ]
    },
    {
     "name": "stderr",
     "output_type": "stream",
     "text": [
      "\rMorphologyExtractor create index: 3471079it [00:23, 149666.22it/s]"
     ]
    },
    {
     "name": "stderr",
     "output_type": "stream",
     "text": [
      "\rMorphologyExtractor create index: 3486115it [00:23, 149871.48it/s]"
     ]
    },
    {
     "name": "stderr",
     "output_type": "stream",
     "text": [
      "\rMorphologyExtractor create index: 3501354it [00:23, 150616.06it/s]"
     ]
    },
    {
     "name": "stderr",
     "output_type": "stream",
     "text": [
      "\rMorphologyExtractor create index: 3516423it [00:23, 148769.22it/s]"
     ]
    },
    {
     "name": "stderr",
     "output_type": "stream",
     "text": [
      "\rMorphologyExtractor create index: 3531466it [00:23, 149262.26it/s]"
     ]
    },
    {
     "name": "stderr",
     "output_type": "stream",
     "text": [
      "\rMorphologyExtractor create index: 3546400it [00:23, 147072.29it/s]"
     ]
    },
    {
     "name": "stderr",
     "output_type": "stream",
     "text": [
      "\rMorphologyExtractor create index: 3561120it [00:23, 144785.28it/s]"
     ]
    },
    {
     "name": "stderr",
     "output_type": "stream",
     "text": [
      "\rMorphologyExtractor create index: 3576341it [00:23, 146935.05it/s]"
     ]
    },
    {
     "name": "stderr",
     "output_type": "stream",
     "text": [
      "\rMorphologyExtractor create index: 3591383it [00:23, 147962.15it/s]"
     ]
    },
    {
     "name": "stderr",
     "output_type": "stream",
     "text": [
      "\rMorphologyExtractor create index: 3606939it [00:24, 150159.45it/s]"
     ]
    },
    {
     "name": "stderr",
     "output_type": "stream",
     "text": [
      "\rMorphologyExtractor create index: 3621974it [00:24, 150155.34it/s]"
     ]
    },
    {
     "name": "stderr",
     "output_type": "stream",
     "text": [
      "\rMorphologyExtractor create index: 3637003it [00:24, 150007.25it/s]"
     ]
    },
    {
     "name": "stderr",
     "output_type": "stream",
     "text": [
      "\rMorphologyExtractor create index: 3652013it [00:24, 148674.01it/s]"
     ]
    },
    {
     "name": "stderr",
     "output_type": "stream",
     "text": [
      "\rMorphologyExtractor create index: 3666890it [00:24, 147913.64it/s]"
     ]
    },
    {
     "name": "stderr",
     "output_type": "stream",
     "text": [
      "\rMorphologyExtractor create index: 3681689it [00:24, 147023.91it/s]"
     ]
    },
    {
     "name": "stderr",
     "output_type": "stream",
     "text": [
      "\rMorphologyExtractor create index: 3696726it [00:24, 148008.81it/s]"
     ]
    },
    {
     "name": "stderr",
     "output_type": "stream",
     "text": [
      "\rMorphologyExtractor create index: 3712027it [00:24, 149472.45it/s]"
     ]
    },
    {
     "name": "stderr",
     "output_type": "stream",
     "text": [
      "\rMorphologyExtractor create index: 3726982it [00:24, 148400.84it/s]"
     ]
    },
    {
     "name": "stderr",
     "output_type": "stream",
     "text": [
      "\rMorphologyExtractor create index: 3741890it [00:24, 148602.29it/s]"
     ]
    },
    {
     "name": "stderr",
     "output_type": "stream",
     "text": [
      "\rMorphologyExtractor create index: 3756756it [00:25, 148053.78it/s]"
     ]
    },
    {
     "name": "stderr",
     "output_type": "stream",
     "text": [
      "\rMorphologyExtractor create index: 3772398it [00:25, 150467.67it/s]"
     ]
    },
    {
     "name": "stderr",
     "output_type": "stream",
     "text": [
      "\rMorphologyExtractor create index: 3787458it [00:25, 149937.31it/s]"
     ]
    },
    {
     "name": "stderr",
     "output_type": "stream",
     "text": [
      "\rMorphologyExtractor create index: 3803417it [00:25, 152707.34it/s]"
     ]
    },
    {
     "name": "stderr",
     "output_type": "stream",
     "text": [
      "\rMorphologyExtractor create index: 3818858it [00:25, 153214.12it/s]"
     ]
    },
    {
     "name": "stderr",
     "output_type": "stream",
     "text": [
      "\rMorphologyExtractor create index: 3834367it [00:25, 153770.73it/s]"
     ]
    },
    {
     "name": "stderr",
     "output_type": "stream",
     "text": [
      "\rMorphologyExtractor create index: 3850243it [00:25, 155231.60it/s]"
     ]
    },
    {
     "name": "stderr",
     "output_type": "stream",
     "text": [
      "\rMorphologyExtractor create index: 3865777it [00:25, 153450.65it/s]"
     ]
    },
    {
     "name": "stderr",
     "output_type": "stream",
     "text": [
      "\rMorphologyExtractor create index: 3881134it [00:25, 152351.73it/s]"
     ]
    },
    {
     "name": "stderr",
     "output_type": "stream",
     "text": [
      "\rMorphologyExtractor create index: 3896380it [00:25, 152070.60it/s]"
     ]
    },
    {
     "name": "stderr",
     "output_type": "stream",
     "text": [
      "\rMorphologyExtractor create index: 3912152it [00:26, 153722.40it/s]"
     ]
    },
    {
     "name": "stderr",
     "output_type": "stream",
     "text": [
      "\rMorphologyExtractor create index: 3927534it [00:26, 153289.23it/s]"
     ]
    },
    {
     "name": "stderr",
     "output_type": "stream",
     "text": [
      "\rMorphologyExtractor create index: 3942870it [00:26, 151504.86it/s]"
     ]
    },
    {
     "name": "stderr",
     "output_type": "stream",
     "text": [
      "\rMorphologyExtractor create index: 3958030it [00:26, 151302.05it/s]"
     ]
    },
    {
     "name": "stderr",
     "output_type": "stream",
     "text": [
      "\rMorphologyExtractor create index: 3973167it [00:26, 150080.23it/s]"
     ]
    },
    {
     "name": "stderr",
     "output_type": "stream",
     "text": [
      "\rMorphologyExtractor create index: 3988662it [00:26, 151508.65it/s]"
     ]
    },
    {
     "name": "stderr",
     "output_type": "stream",
     "text": [
      "\rMorphologyExtractor create index: 4003821it [00:26, 151493.01it/s]"
     ]
    },
    {
     "name": "stderr",
     "output_type": "stream",
     "text": [
      "\rMorphologyExtractor create index: 4018976it [00:26, 151113.90it/s]"
     ]
    },
    {
     "name": "stderr",
     "output_type": "stream",
     "text": [
      "\rMorphologyExtractor create index: 4034092it [00:26, 149916.88it/s]"
     ]
    },
    {
     "name": "stderr",
     "output_type": "stream",
     "text": [
      "\rMorphologyExtractor create index: 4049611it [00:27, 151460.32it/s]"
     ]
    },
    {
     "name": "stderr",
     "output_type": "stream",
     "text": [
      "\rMorphologyExtractor create index: 4065264it [00:27, 152945.48it/s]"
     ]
    },
    {
     "name": "stderr",
     "output_type": "stream",
     "text": [
      "\rMorphologyExtractor create index: 4080633it [00:27, 153167.58it/s]"
     ]
    },
    {
     "name": "stderr",
     "output_type": "stream",
     "text": [
      "\rMorphologyExtractor create index: 4096817it [00:27, 155668.88it/s]"
     ]
    },
    {
     "name": "stderr",
     "output_type": "stream",
     "text": [
      "\rMorphologyExtractor create index: 4112399it [00:27, 155392.35it/s]"
     ]
    },
    {
     "name": "stderr",
     "output_type": "stream",
     "text": [
      "\rMorphologyExtractor create index: 4128367it [00:27, 156652.88it/s]"
     ]
    },
    {
     "name": "stderr",
     "output_type": "stream",
     "text": [
      "\rMorphologyExtractor create index: 4144238it [00:27, 157261.99it/s]"
     ]
    },
    {
     "name": "stderr",
     "output_type": "stream",
     "text": [
      "\rMorphologyExtractor create index: 4159972it [00:27, 155430.27it/s]"
     ]
    },
    {
     "name": "stderr",
     "output_type": "stream",
     "text": [
      "\rMorphologyExtractor create index: 4175772it [00:27, 156190.54it/s]"
     ]
    },
    {
     "name": "stderr",
     "output_type": "stream",
     "text": [
      "\rMorphologyExtractor create index: 4192277it [00:27, 158745.50it/s]"
     ]
    },
    {
     "name": "stderr",
     "output_type": "stream",
     "text": [
      "\rMorphologyExtractor create index: 4208198it [00:28, 158882.68it/s]"
     ]
    },
    {
     "name": "stderr",
     "output_type": "stream",
     "text": [
      "\rMorphologyExtractor create index: 4224098it [00:28, 157839.29it/s]"
     ]
    },
    {
     "name": "stderr",
     "output_type": "stream",
     "text": [
      "\rMorphologyExtractor create index: 4239892it [00:28, 156975.09it/s]"
     ]
    },
    {
     "name": "stderr",
     "output_type": "stream",
     "text": [
      "\rMorphologyExtractor create index: 4255598it [00:28, 156465.63it/s]"
     ]
    },
    {
     "name": "stderr",
     "output_type": "stream",
     "text": [
      "\rMorphologyExtractor create index: 4271251it [00:28, 152356.07it/s]"
     ]
    },
    {
     "name": "stderr",
     "output_type": "stream",
     "text": [
      "\rMorphologyExtractor create index: 4287263it [00:28, 154604.54it/s]"
     ]
    },
    {
     "name": "stderr",
     "output_type": "stream",
     "text": [
      "\rMorphologyExtractor create index: 4302751it [00:28, 154370.29it/s]"
     ]
    },
    {
     "name": "stderr",
     "output_type": "stream",
     "text": [
      "\rMorphologyExtractor create index: 4318208it [00:28, 154012.30it/s]"
     ]
    },
    {
     "name": "stderr",
     "output_type": "stream",
     "text": [
      "\rMorphologyExtractor create index: 4333853it [00:28, 154731.81it/s]"
     ]
    },
    {
     "name": "stderr",
     "output_type": "stream",
     "text": [
      "\rMorphologyExtractor create index: 4349337it [00:28, 154254.15it/s]"
     ]
    },
    {
     "name": "stderr",
     "output_type": "stream",
     "text": [
      "\rMorphologyExtractor create index: 4364861it [00:29, 154546.32it/s]"
     ]
    },
    {
     "name": "stderr",
     "output_type": "stream",
     "text": [
      "\rMorphologyExtractor create index: 4380322it [00:29, 153049.75it/s]"
     ]
    },
    {
     "name": "stderr",
     "output_type": "stream",
     "text": [
      "\rMorphologyExtractor create index: 4395635it [00:29, 152535.85it/s]"
     ]
    },
    {
     "name": "stderr",
     "output_type": "stream",
     "text": [
      "\rMorphologyExtractor create index: 4410894it [00:29, 152020.56it/s]"
     ]
    },
    {
     "name": "stderr",
     "output_type": "stream",
     "text": [
      "\rMorphologyExtractor create index: 4426163it [00:29, 152218.87it/s]"
     ]
    },
    {
     "name": "stderr",
     "output_type": "stream",
     "text": [
      "\rMorphologyExtractor create index: 4441411it [00:29, 152295.63it/s]"
     ]
    },
    {
     "name": "stderr",
     "output_type": "stream",
     "text": [
      "\rMorphologyExtractor create index: 4456643it [00:29, 151728.20it/s]"
     ]
    },
    {
     "name": "stderr",
     "output_type": "stream",
     "text": [
      "\rMorphologyExtractor create index: 4471818it [00:29, 150521.02it/s]"
     ]
    },
    {
     "name": "stderr",
     "output_type": "stream",
     "text": [
      "\rMorphologyExtractor create index: 4487550it [00:29, 152491.58it/s]"
     ]
    },
    {
     "name": "stderr",
     "output_type": "stream",
     "text": [
      "\rMorphologyExtractor create index: 4503100it [00:29, 153379.48it/s]"
     ]
    },
    {
     "name": "stderr",
     "output_type": "stream",
     "text": [
      "\rMorphologyExtractor create index: 4518883it [00:30, 154685.82it/s]"
     ]
    },
    {
     "name": "stderr",
     "output_type": "stream",
     "text": [
      "\rMorphologyExtractor create index: 4534361it [00:30, 154709.35it/s]"
     ]
    },
    {
     "name": "stderr",
     "output_type": "stream",
     "text": [
      "\rMorphologyExtractor create index: 4549838it [00:30, 153377.06it/s]"
     ]
    },
    {
     "name": "stderr",
     "output_type": "stream",
     "text": [
      "\rMorphologyExtractor create index: 4565476it [00:30, 154263.85it/s]"
     ]
    },
    {
     "name": "stderr",
     "output_type": "stream",
     "text": [
      "\rMorphologyExtractor create index: 4580919it [00:30, 154313.59it/s]"
     ]
    },
    {
     "name": "stderr",
     "output_type": "stream",
     "text": [
      "\rMorphologyExtractor create index: 4596355it [00:30, 152499.82it/s]"
     ]
    },
    {
     "name": "stderr",
     "output_type": "stream",
     "text": [
      "\rMorphologyExtractor create index: 4612431it [00:30, 154886.00it/s]"
     ]
    },
    {
     "name": "stderr",
     "output_type": "stream",
     "text": [
      "\rMorphologyExtractor create index: 4627934it [00:30, 154719.54it/s]"
     ]
    },
    {
     "name": "stderr",
     "output_type": "stream",
     "text": [
      "\rMorphologyExtractor create index: 4643417it [00:30, 149957.66it/s]"
     ]
    },
    {
     "name": "stderr",
     "output_type": "stream",
     "text": [
      "\rMorphologyExtractor create index: 4658695it [00:30, 150790.63it/s]"
     ]
    },
    {
     "name": "stderr",
     "output_type": "stream",
     "text": [
      "\rMorphologyExtractor create index: 4673803it [00:31, 140573.01it/s]"
     ]
    },
    {
     "name": "stderr",
     "output_type": "stream",
     "text": [
      "\rMorphologyExtractor create index: 4689675it [00:31, 145564.34it/s]"
     ]
    },
    {
     "name": "stderr",
     "output_type": "stream",
     "text": [
      "\rMorphologyExtractor create index: 4705685it [00:31, 149638.88it/s]"
     ]
    },
    {
     "name": "stderr",
     "output_type": "stream",
     "text": [
      "\rMorphologyExtractor create index: 4721809it [00:31, 152939.58it/s]"
     ]
    },
    {
     "name": "stderr",
     "output_type": "stream",
     "text": [
      "\rMorphologyExtractor create index: 4737925it [00:31, 155314.94it/s]"
     ]
    },
    {
     "name": "stderr",
     "output_type": "stream",
     "text": [
      "\rMorphologyExtractor create index: 4753612it [00:31, 155774.93it/s]"
     ]
    },
    {
     "name": "stderr",
     "output_type": "stream",
     "text": [
      "\rMorphologyExtractor create index: 4769253it [00:31, 154450.40it/s]"
     ]
    },
    {
     "name": "stderr",
     "output_type": "stream",
     "text": [
      "\rMorphologyExtractor create index: 4784745it [00:31, 153716.29it/s]"
     ]
    },
    {
     "name": "stderr",
     "output_type": "stream",
     "text": [
      "\rMorphologyExtractor create index: 4800150it [00:31, 153502.65it/s]"
     ]
    },
    {
     "name": "stderr",
     "output_type": "stream",
     "text": [
      "\rMorphologyExtractor create index: 4815549it [00:31, 153646.16it/s]"
     ]
    },
    {
     "name": "stderr",
     "output_type": "stream",
     "text": [
      "\rMorphologyExtractor create index: 4831645it [00:32, 155769.28it/s]"
     ]
    },
    {
     "name": "stderr",
     "output_type": "stream",
     "text": [
      "\rMorphologyExtractor create index: 4847539it [00:32, 156706.18it/s]"
     ]
    },
    {
     "name": "stderr",
     "output_type": "stream",
     "text": [
      "\rMorphologyExtractor create index: 4863224it [00:32, 154869.22it/s]"
     ]
    },
    {
     "name": "stderr",
     "output_type": "stream",
     "text": [
      "\rMorphologyExtractor create index: 4878726it [00:32, 153189.59it/s]"
     ]
    },
    {
     "name": "stderr",
     "output_type": "stream",
     "text": [
      "\rMorphologyExtractor create index: 4894350it [00:32, 154091.63it/s]"
     ]
    },
    {
     "name": "stderr",
     "output_type": "stream",
     "text": [
      "\rMorphologyExtractor create index: 4909911it [00:32, 154541.65it/s]"
     ]
    },
    {
     "name": "stderr",
     "output_type": "stream",
     "text": [
      "\rMorphologyExtractor create index: 4925646it [00:32, 155371.31it/s]"
     ]
    },
    {
     "name": "stderr",
     "output_type": "stream",
     "text": [
      "\rMorphologyExtractor create index: 4942029it [00:32, 157813.41it/s]"
     ]
    },
    {
     "name": "stderr",
     "output_type": "stream",
     "text": [
      "\rMorphologyExtractor create index: 4957825it [00:32, 157437.31it/s]"
     ]
    },
    {
     "name": "stderr",
     "output_type": "stream",
     "text": [
      "\rMorphologyExtractor create index: 4973579it [00:33, 156545.71it/s]"
     ]
    },
    {
     "name": "stderr",
     "output_type": "stream",
     "text": [
      "\rMorphologyExtractor create index: 4989433it [00:33, 157137.86it/s]"
     ]
    },
    {
     "name": "stderr",
     "output_type": "stream",
     "text": [
      "\rMorphologyExtractor create index: 5005154it [00:33, 156373.07it/s]"
     ]
    },
    {
     "name": "stderr",
     "output_type": "stream",
     "text": [
      "\rMorphologyExtractor create index: 5021264it [00:33, 157759.82it/s]"
     ]
    },
    {
     "name": "stderr",
     "output_type": "stream",
     "text": [
      "\rMorphologyExtractor create index: 5037047it [00:33, 156421.42it/s]"
     ]
    },
    {
     "name": "stderr",
     "output_type": "stream",
     "text": [
      "\rMorphologyExtractor create index: 5052697it [00:33, 155447.83it/s]"
     ]
    },
    {
     "name": "stderr",
     "output_type": "stream",
     "text": [
      "\rMorphologyExtractor create index: 5068607it [00:33, 156523.37it/s]"
     ]
    },
    {
     "name": "stderr",
     "output_type": "stream",
     "text": [
      "\rMorphologyExtractor create index: 5084266it [00:33, 156130.89it/s]"
     ]
    },
    {
     "name": "stderr",
     "output_type": "stream",
     "text": [
      "\rMorphologyExtractor create index: 5096053it [00:33, 150835.66it/s]"
     ]
    },
    {
     "name": "stderr",
     "output_type": "stream",
     "text": [
      "\n"
     ]
    },
    {
     "name": "stderr",
     "output_type": "stream",
     "text": [
      "\rMorphologyExtractor create index: 0it [00:00, ?it/s]"
     ]
    },
    {
     "name": "stderr",
     "output_type": "stream",
     "text": [
      "\rMorphologyExtractor create index: 14204it [00:00, 142033.36it/s]"
     ]
    },
    {
     "name": "stderr",
     "output_type": "stream",
     "text": [
      "\rMorphologyExtractor create index: 28012it [00:00, 140823.31it/s]"
     ]
    },
    {
     "name": "stderr",
     "output_type": "stream",
     "text": [
      "\rMorphologyExtractor create index: 41968it [00:00, 140440.15it/s]"
     ]
    },
    {
     "name": "stderr",
     "output_type": "stream",
     "text": [
      "\rMorphologyExtractor create index: 57363it [00:00, 144234.64it/s]"
     ]
    },
    {
     "name": "stderr",
     "output_type": "stream",
     "text": [
      "\rMorphologyExtractor create index: 73080it [00:00, 147885.66it/s]"
     ]
    },
    {
     "name": "stderr",
     "output_type": "stream",
     "text": [
      "\rMorphologyExtractor create index: 89434it [00:00, 152257.11it/s]"
     ]
    },
    {
     "name": "stderr",
     "output_type": "stream",
     "text": [
      "\rMorphologyExtractor create index: 104929it [00:00, 153054.17it/s]"
     ]
    },
    {
     "name": "stderr",
     "output_type": "stream",
     "text": [
      "\rMorphologyExtractor create index: 120205it [00:00, 152965.73it/s]"
     ]
    },
    {
     "name": "stderr",
     "output_type": "stream",
     "text": [
      "\rMorphologyExtractor create index: 135758it [00:00, 153725.81it/s]"
     ]
    },
    {
     "name": "stderr",
     "output_type": "stream",
     "text": [
      "\rMorphologyExtractor create index: 151875it [00:01, 155885.78it/s]"
     ]
    },
    {
     "name": "stderr",
     "output_type": "stream",
     "text": [
      "\rMorphologyExtractor create index: 167679it [00:01, 156524.46it/s]"
     ]
    },
    {
     "name": "stderr",
     "output_type": "stream",
     "text": [
      "\rMorphologyExtractor create index: 183181it [00:01, 156069.55it/s]"
     ]
    },
    {
     "name": "stderr",
     "output_type": "stream",
     "text": [
      "\rMorphologyExtractor create index: 198604it [00:01, 155132.96it/s]"
     ]
    },
    {
     "name": "stderr",
     "output_type": "stream",
     "text": [
      "\rMorphologyExtractor create index: 214937it [00:01, 157503.86it/s]"
     ]
    },
    {
     "name": "stderr",
     "output_type": "stream",
     "text": [
      "\rMorphologyExtractor create index: 230607it [00:01, 155159.21it/s]"
     ]
    },
    {
     "name": "stderr",
     "output_type": "stream",
     "text": [
      "\rMorphologyExtractor create index: 246129it [00:01, 155177.37it/s]"
     ]
    },
    {
     "name": "stderr",
     "output_type": "stream",
     "text": [
      "\rMorphologyExtractor create index: 262513it [00:01, 157677.17it/s]"
     ]
    },
    {
     "name": "stderr",
     "output_type": "stream",
     "text": [
      "\rMorphologyExtractor create index: 278267it [00:01, 156389.95it/s]"
     ]
    },
    {
     "name": "stderr",
     "output_type": "stream",
     "text": [
      "\rMorphologyExtractor create index: 293899it [00:01, 155566.06it/s]"
     ]
    },
    {
     "name": "stderr",
     "output_type": "stream",
     "text": [
      "\rMorphologyExtractor create index: 310352it [00:02, 158149.61it/s]"
     ]
    },
    {
     "name": "stderr",
     "output_type": "stream",
     "text": [
      "\rMorphologyExtractor create index: 326331it [00:02, 158635.29it/s]"
     ]
    },
    {
     "name": "stderr",
     "output_type": "stream",
     "text": [
      "\rMorphologyExtractor create index: 342570it [00:02, 159739.57it/s]"
     ]
    },
    {
     "name": "stderr",
     "output_type": "stream",
     "text": [
      "\rMorphologyExtractor create index: 358586it [00:02, 159864.14it/s]"
     ]
    },
    {
     "name": "stderr",
     "output_type": "stream",
     "text": [
      "\rMorphologyExtractor create index: 374577it [00:02, 157728.10it/s]"
     ]
    },
    {
     "name": "stderr",
     "output_type": "stream",
     "text": [
      "\rMorphologyExtractor create index: 390360it [00:02, 156424.20it/s]"
     ]
    },
    {
     "name": "stderr",
     "output_type": "stream",
     "text": [
      "\rMorphologyExtractor create index: 406012it [00:02, 155534.58it/s]"
     ]
    },
    {
     "name": "stderr",
     "output_type": "stream",
     "text": [
      "\rMorphologyExtractor create index: 421573it [00:02, 154598.86it/s]"
     ]
    },
    {
     "name": "stderr",
     "output_type": "stream",
     "text": [
      "\rMorphologyExtractor create index: 437040it [00:02, 154162.01it/s]"
     ]
    },
    {
     "name": "stderr",
     "output_type": "stream",
     "text": [
      "\rMorphologyExtractor create index: 452462it [00:02, 153133.17it/s]"
     ]
    },
    {
     "name": "stderr",
     "output_type": "stream",
     "text": [
      "\rMorphologyExtractor create index: 467781it [00:03, 152372.41it/s]"
     ]
    },
    {
     "name": "stderr",
     "output_type": "stream",
     "text": [
      "\rMorphologyExtractor create index: 483023it [00:03, 152253.36it/s]"
     ]
    },
    {
     "name": "stderr",
     "output_type": "stream",
     "text": [
      "\rMorphologyExtractor create index: 498617it [00:03, 153340.53it/s]"
     ]
    },
    {
     "name": "stderr",
     "output_type": "stream",
     "text": [
      "\rMorphologyExtractor create index: 514515it [00:03, 154988.98it/s]"
     ]
    },
    {
     "name": "stderr",
     "output_type": "stream",
     "text": [
      "\rMorphologyExtractor create index: 530021it [00:03, 152545.79it/s]"
     ]
    },
    {
     "name": "stderr",
     "output_type": "stream",
     "text": [
      "\rMorphologyExtractor create index: 545758it [00:03, 153958.52it/s]"
     ]
    },
    {
     "name": "stderr",
     "output_type": "stream",
     "text": [
      "\rMorphologyExtractor create index: 561167it [00:03, 152748.64it/s]"
     ]
    },
    {
     "name": "stderr",
     "output_type": "stream",
     "text": [
      "\rMorphologyExtractor create index: 576641it [00:03, 153339.17it/s]"
     ]
    },
    {
     "name": "stderr",
     "output_type": "stream",
     "text": [
      "\rMorphologyExtractor create index: 591984it [00:03, 152812.96it/s]"
     ]
    },
    {
     "name": "stderr",
     "output_type": "stream",
     "text": [
      "\rMorphologyExtractor create index: 607272it [00:03, 150546.60it/s]"
     ]
    },
    {
     "name": "stderr",
     "output_type": "stream",
     "text": [
      "\rMorphologyExtractor create index: 622657it [00:04, 151521.28it/s]"
     ]
    },
    {
     "name": "stderr",
     "output_type": "stream",
     "text": [
      "\rMorphologyExtractor create index: 637819it [00:04, 149414.09it/s]"
     ]
    },
    {
     "name": "stderr",
     "output_type": "stream",
     "text": [
      "\rMorphologyExtractor create index: 652774it [00:04, 147470.08it/s]"
     ]
    },
    {
     "name": "stderr",
     "output_type": "stream",
     "text": [
      "\rMorphologyExtractor create index: 667537it [00:04, 147305.60it/s]"
     ]
    },
    {
     "name": "stderr",
     "output_type": "stream",
     "text": [
      "\rMorphologyExtractor create index: 682745it [00:04, 148702.97it/s]"
     ]
    },
    {
     "name": "stderr",
     "output_type": "stream",
     "text": [
      "\rMorphologyExtractor create index: 697900it [00:04, 149545.40it/s]"
     ]
    },
    {
     "name": "stderr",
     "output_type": "stream",
     "text": [
      "\rMorphologyExtractor create index: 712864it [00:04, 148681.65it/s]"
     ]
    },
    {
     "name": "stderr",
     "output_type": "stream",
     "text": [
      "\rMorphologyExtractor create index: 728284it [00:04, 150293.91it/s]"
     ]
    },
    {
     "name": "stderr",
     "output_type": "stream",
     "text": [
      "\rMorphologyExtractor create index: 743323it [00:04, 150243.50it/s]"
     ]
    },
    {
     "name": "stderr",
     "output_type": "stream",
     "text": [
      "\rMorphologyExtractor create index: 758453it [00:04, 150557.01it/s]"
     ]
    },
    {
     "name": "stderr",
     "output_type": "stream",
     "text": [
      "\rMorphologyExtractor create index: 774008it [00:05, 152020.11it/s]"
     ]
    },
    {
     "name": "stderr",
     "output_type": "stream",
     "text": [
      "\rMorphologyExtractor create index: 789217it [00:05, 147680.25it/s]"
     ]
    },
    {
     "name": "stderr",
     "output_type": "stream",
     "text": [
      "\rMorphologyExtractor create index: 804688it [00:05, 149718.93it/s]"
     ]
    },
    {
     "name": "stderr",
     "output_type": "stream",
     "text": [
      "\rMorphologyExtractor create index: 820178it [00:05, 151234.74it/s]"
     ]
    },
    {
     "name": "stderr",
     "output_type": "stream",
     "text": [
      "\rMorphologyExtractor create index: 836387it [00:05, 154334.61it/s]"
     ]
    },
    {
     "name": "stderr",
     "output_type": "stream",
     "text": [
      "\rMorphologyExtractor create index: 851853it [00:05, 153813.32it/s]"
     ]
    },
    {
     "name": "stderr",
     "output_type": "stream",
     "text": [
      "\rMorphologyExtractor create index: 867258it [00:05, 153571.36it/s]"
     ]
    },
    {
     "name": "stderr",
     "output_type": "stream",
     "text": [
      "\rMorphologyExtractor create index: 882632it [00:05, 152968.40it/s]"
     ]
    },
    {
     "name": "stderr",
     "output_type": "stream",
     "text": [
      "\rMorphologyExtractor create index: 897941it [00:05, 151867.05it/s]"
     ]
    },
    {
     "name": "stderr",
     "output_type": "stream",
     "text": [
      "\rMorphologyExtractor create index: 913392it [00:05, 152648.49it/s]"
     ]
    },
    {
     "name": "stderr",
     "output_type": "stream",
     "text": [
      "\rMorphologyExtractor create index: 929042it [00:06, 153781.67it/s]"
     ]
    },
    {
     "name": "stderr",
     "output_type": "stream",
     "text": [
      "\rMorphologyExtractor create index: 944428it [00:06, 153750.35it/s]"
     ]
    },
    {
     "name": "stderr",
     "output_type": "stream",
     "text": [
      "\rMorphologyExtractor create index: 960374it [00:06, 155418.48it/s]"
     ]
    },
    {
     "name": "stderr",
     "output_type": "stream",
     "text": [
      "\rMorphologyExtractor create index: 975924it [00:06, 152983.40it/s]"
     ]
    },
    {
     "name": "stderr",
     "output_type": "stream",
     "text": [
      "\rMorphologyExtractor create index: 991636it [00:06, 154199.97it/s]"
     ]
    },
    {
     "name": "stderr",
     "output_type": "stream",
     "text": [
      "\rMorphologyExtractor create index: 1007069it [00:06, 153376.69it/s]"
     ]
    },
    {
     "name": "stderr",
     "output_type": "stream",
     "text": [
      "\rMorphologyExtractor create index: 1022880it [00:06, 154765.40it/s]"
     ]
    },
    {
     "name": "stderr",
     "output_type": "stream",
     "text": [
      "\rMorphologyExtractor create index: 1038367it [00:06, 154763.28it/s]"
     ]
    },
    {
     "name": "stderr",
     "output_type": "stream",
     "text": [
      "\rMorphologyExtractor create index: 1054007it [00:06, 155248.86it/s]"
     ]
    },
    {
     "name": "stderr",
     "output_type": "stream",
     "text": [
      "\rMorphologyExtractor create index: 1069538it [00:06, 153918.34it/s]"
     ]
    },
    {
     "name": "stderr",
     "output_type": "stream",
     "text": [
      "\rMorphologyExtractor create index: 1084937it [00:07, 152065.47it/s]"
     ]
    },
    {
     "name": "stderr",
     "output_type": "stream",
     "text": [
      "\rMorphologyExtractor create index: 1100153it [00:07, 151836.59it/s]"
     ]
    },
    {
     "name": "stderr",
     "output_type": "stream",
     "text": [
      "\rMorphologyExtractor create index: 1115372it [00:07, 151942.05it/s]"
     ]
    },
    {
     "name": "stderr",
     "output_type": "stream",
     "text": [
      "\rMorphologyExtractor create index: 1130571it [00:07, 151199.08it/s]"
     ]
    },
    {
     "name": "stderr",
     "output_type": "stream",
     "text": [
      "\rMorphologyExtractor create index: 1146658it [00:07, 153974.38it/s]"
     ]
    },
    {
     "name": "stderr",
     "output_type": "stream",
     "text": [
      "\rMorphologyExtractor create index: 1162071it [00:07, 153836.02it/s]"
     ]
    },
    {
     "name": "stderr",
     "output_type": "stream",
     "text": [
      "\rMorphologyExtractor create index: 1178240it [00:07, 156110.53it/s]"
     ]
    },
    {
     "name": "stderr",
     "output_type": "stream",
     "text": [
      "\rMorphologyExtractor create index: 1194228it [00:07, 157221.29it/s]"
     ]
    },
    {
     "name": "stderr",
     "output_type": "stream",
     "text": [
      "\rMorphologyExtractor create index: 1210151it [00:07, 157818.49it/s]"
     ]
    },
    {
     "name": "stderr",
     "output_type": "stream",
     "text": [
      "\rMorphologyExtractor create index: 1225943it [00:07, 154579.63it/s]"
     ]
    },
    {
     "name": "stderr",
     "output_type": "stream",
     "text": [
      "\rMorphologyExtractor create index: 1241431it [00:08, 154668.67it/s]"
     ]
    },
    {
     "name": "stderr",
     "output_type": "stream",
     "text": [
      "\rMorphologyExtractor create index: 1256913it [00:08, 153087.20it/s]"
     ]
    },
    {
     "name": "stderr",
     "output_type": "stream",
     "text": [
      "\rMorphologyExtractor create index: 1272236it [00:08, 151129.21it/s]"
     ]
    },
    {
     "name": "stderr",
     "output_type": "stream",
     "text": [
      "\rMorphologyExtractor create index: 1287365it [00:08, 150937.10it/s]"
     ]
    },
    {
     "name": "stderr",
     "output_type": "stream",
     "text": [
      "\rMorphologyExtractor create index: 1303205it [00:08, 153097.52it/s]"
     ]
    },
    {
     "name": "stderr",
     "output_type": "stream",
     "text": [
      "\rMorphologyExtractor create index: 1318867it [00:08, 154137.01it/s]"
     ]
    },
    {
     "name": "stderr",
     "output_type": "stream",
     "text": [
      "\rMorphologyExtractor create index: 1334293it [00:08, 153539.53it/s]"
     ]
    },
    {
     "name": "stderr",
     "output_type": "stream",
     "text": [
      "\rMorphologyExtractor create index: 1349870it [00:08, 154199.79it/s]"
     ]
    },
    {
     "name": "stderr",
     "output_type": "stream",
     "text": [
      "\rMorphologyExtractor create index: 1365298it [00:08, 152015.95it/s]"
     ]
    },
    {
     "name": "stderr",
     "output_type": "stream",
     "text": [
      "\rMorphologyExtractor create index: 1380512it [00:09, 151043.21it/s]"
     ]
    },
    {
     "name": "stderr",
     "output_type": "stream",
     "text": [
      "\rMorphologyExtractor create index: 1396019it [00:09, 152225.95it/s]"
     ]
    },
    {
     "name": "stderr",
     "output_type": "stream",
     "text": [
      "\rMorphologyExtractor create index: 1411398it [00:09, 152689.04it/s]"
     ]
    },
    {
     "name": "stderr",
     "output_type": "stream",
     "text": [
      "\rMorphologyExtractor create index: 1427400it [00:09, 154815.89it/s]"
     ]
    },
    {
     "name": "stderr",
     "output_type": "stream",
     "text": [
      "\rMorphologyExtractor create index: 1442894it [00:09, 154669.94it/s]"
     ]
    },
    {
     "name": "stderr",
     "output_type": "stream",
     "text": [
      "\rMorphologyExtractor create index: 1458370it [00:09, 153769.21it/s]"
     ]
    },
    {
     "name": "stderr",
     "output_type": "stream",
     "text": [
      "\rMorphologyExtractor create index: 1473754it [00:09, 152878.17it/s]"
     ]
    },
    {
     "name": "stderr",
     "output_type": "stream",
     "text": [
      "\rMorphologyExtractor create index: 1489048it [00:09, 151798.62it/s]"
     ]
    },
    {
     "name": "stderr",
     "output_type": "stream",
     "text": [
      "\rMorphologyExtractor create index: 1504240it [00:09, 151834.95it/s]"
     ]
    },
    {
     "name": "stderr",
     "output_type": "stream",
     "text": [
      "\rMorphologyExtractor create index: 1519428it [00:09, 150023.83it/s]"
     ]
    },
    {
     "name": "stderr",
     "output_type": "stream",
     "text": [
      "\rMorphologyExtractor create index: 1534906it [00:10, 151419.22it/s]"
     ]
    },
    {
     "name": "stderr",
     "output_type": "stream",
     "text": [
      "\rMorphologyExtractor create index: 1550532it [00:10, 152837.89it/s]"
     ]
    },
    {
     "name": "stderr",
     "output_type": "stream",
     "text": [
      "\rMorphologyExtractor create index: 1565825it [00:10, 152262.90it/s]"
     ]
    },
    {
     "name": "stderr",
     "output_type": "stream",
     "text": [
      "\rMorphologyExtractor create index: 1581059it [00:10, 151546.53it/s]"
     ]
    },
    {
     "name": "stderr",
     "output_type": "stream",
     "text": [
      "\rMorphologyExtractor create index: 1596222it [00:10, 151571.17it/s]"
     ]
    },
    {
     "name": "stderr",
     "output_type": "stream",
     "text": [
      "\rMorphologyExtractor create index: 1611839it [00:10, 152920.78it/s]"
     ]
    },
    {
     "name": "stderr",
     "output_type": "stream",
     "text": [
      "\rMorphologyExtractor create index: 1627137it [00:10, 152544.59it/s]"
     ]
    },
    {
     "name": "stderr",
     "output_type": "stream",
     "text": [
      "\rMorphologyExtractor create index: 1642396it [00:10, 152549.53it/s]"
     ]
    },
    {
     "name": "stderr",
     "output_type": "stream",
     "text": [
      "\rMorphologyExtractor create index: 1657654it [00:10, 151815.43it/s]"
     ]
    },
    {
     "name": "stderr",
     "output_type": "stream",
     "text": [
      "\rMorphologyExtractor create index: 1673511it [00:10, 153779.15it/s]"
     ]
    },
    {
     "name": "stderr",
     "output_type": "stream",
     "text": [
      "\rMorphologyExtractor create index: 1688924it [00:11, 153882.41it/s]"
     ]
    },
    {
     "name": "stderr",
     "output_type": "stream",
     "text": [
      "\rMorphologyExtractor create index: 1704318it [00:11, 152751.63it/s]"
     ]
    },
    {
     "name": "stderr",
     "output_type": "stream",
     "text": [
      "\rMorphologyExtractor create index: 1719600it [00:11, 150977.77it/s]"
     ]
    },
    {
     "name": "stderr",
     "output_type": "stream",
     "text": [
      "\rMorphologyExtractor create index: 1734858it [00:11, 151429.13it/s]"
     ]
    },
    {
     "name": "stderr",
     "output_type": "stream",
     "text": [
      "\rMorphologyExtractor create index: 1750453it [00:11, 152756.82it/s]"
     ]
    },
    {
     "name": "stderr",
     "output_type": "stream",
     "text": [
      "\rMorphologyExtractor create index: 1765736it [00:11, 150835.36it/s]"
     ]
    },
    {
     "name": "stderr",
     "output_type": "stream",
     "text": [
      "\rMorphologyExtractor create index: 1780831it [00:11, 149547.96it/s]"
     ]
    },
    {
     "name": "stderr",
     "output_type": "stream",
     "text": [
      "\rMorphologyExtractor create index: 1796572it [00:11, 151822.48it/s]"
     ]
    },
    {
     "name": "stderr",
     "output_type": "stream",
     "text": [
      "\rMorphologyExtractor create index: 1812517it [00:11, 154032.93it/s]"
     ]
    },
    {
     "name": "stderr",
     "output_type": "stream",
     "text": [
      "\rMorphologyExtractor create index: 1828124it [00:11, 154636.19it/s]"
     ]
    },
    {
     "name": "stderr",
     "output_type": "stream",
     "text": [
      "\rMorphologyExtractor create index: 1843602it [00:12, 154343.41it/s]"
     ]
    },
    {
     "name": "stderr",
     "output_type": "stream",
     "text": [
      "\rMorphologyExtractor create index: 1859656it [00:12, 156150.64it/s]"
     ]
    },
    {
     "name": "stderr",
     "output_type": "stream",
     "text": [
      "\rMorphologyExtractor create index: 1875283it [00:12, 152723.57it/s]"
     ]
    },
    {
     "name": "stderr",
     "output_type": "stream",
     "text": [
      "\rMorphologyExtractor create index: 1890581it [00:12, 136633.99it/s]"
     ]
    },
    {
     "name": "stderr",
     "output_type": "stream",
     "text": [
      "\rMorphologyExtractor create index: 1905477it [00:12, 140111.72it/s]"
     ]
    },
    {
     "name": "stderr",
     "output_type": "stream",
     "text": [
      "\rMorphologyExtractor create index: 1921072it [00:12, 144513.97it/s]"
     ]
    },
    {
     "name": "stderr",
     "output_type": "stream",
     "text": [
      "\rMorphologyExtractor create index: 1936417it [00:12, 147082.29it/s]"
     ]
    },
    {
     "name": "stderr",
     "output_type": "stream",
     "text": [
      "\rMorphologyExtractor create index: 1951887it [00:12, 149286.35it/s]"
     ]
    },
    {
     "name": "stderr",
     "output_type": "stream",
     "text": [
      "\rMorphologyExtractor create index: 1967522it [00:12, 151337.13it/s]"
     ]
    },
    {
     "name": "stderr",
     "output_type": "stream",
     "text": [
      "\rMorphologyExtractor create index: 1983384it [00:12, 153449.45it/s]"
     ]
    },
    {
     "name": "stderr",
     "output_type": "stream",
     "text": [
      "\rMorphologyExtractor create index: 1998922it [00:13, 154019.78it/s]"
     ]
    },
    {
     "name": "stderr",
     "output_type": "stream",
     "text": [
      "\rMorphologyExtractor create index: 2014926it [00:13, 155775.08it/s]"
     ]
    },
    {
     "name": "stderr",
     "output_type": "stream",
     "text": [
      "\rMorphologyExtractor create index: 2030544it [00:13, 154271.66it/s]"
     ]
    },
    {
     "name": "stderr",
     "output_type": "stream",
     "text": [
      "\rMorphologyExtractor create index: 2046003it [00:13, 153972.60it/s]"
     ]
    },
    {
     "name": "stderr",
     "output_type": "stream",
     "text": [
      "\rMorphologyExtractor create index: 2061425it [00:13, 154044.91it/s]"
     ]
    },
    {
     "name": "stderr",
     "output_type": "stream",
     "text": [
      "\rMorphologyExtractor create index: 2076994it [00:13, 154532.51it/s]"
     ]
    },
    {
     "name": "stderr",
     "output_type": "stream",
     "text": [
      "\rMorphologyExtractor create index: 2092459it [00:13, 153023.27it/s]"
     ]
    },
    {
     "name": "stderr",
     "output_type": "stream",
     "text": [
      "\rMorphologyExtractor create index: 2108810it [00:13, 156022.55it/s]"
     ]
    },
    {
     "name": "stderr",
     "output_type": "stream",
     "text": [
      "\rMorphologyExtractor create index: 2124435it [00:13, 153761.26it/s]"
     ]
    },
    {
     "name": "stderr",
     "output_type": "stream",
     "text": [
      "\rMorphologyExtractor create index: 2139835it [00:14, 152568.15it/s]"
     ]
    },
    {
     "name": "stderr",
     "output_type": "stream",
     "text": [
      "\rMorphologyExtractor create index: 2155110it [00:14, 150504.96it/s]"
     ]
    },
    {
     "name": "stderr",
     "output_type": "stream",
     "text": [
      "\rMorphologyExtractor create index: 2170247it [00:14, 150763.37it/s]"
     ]
    },
    {
     "name": "stderr",
     "output_type": "stream",
     "text": [
      "\rMorphologyExtractor create index: 2185457it [00:14, 151159.13it/s]"
     ]
    },
    {
     "name": "stderr",
     "output_type": "stream",
     "text": [
      "\rMorphologyExtractor create index: 2201005it [00:14, 152428.19it/s]"
     ]
    },
    {
     "name": "stderr",
     "output_type": "stream",
     "text": [
      "\rMorphologyExtractor create index: 2216258it [00:14, 150778.56it/s]"
     ]
    },
    {
     "name": "stderr",
     "output_type": "stream",
     "text": [
      "\rMorphologyExtractor create index: 2231776it [00:14, 152071.74it/s]"
     ]
    },
    {
     "name": "stderr",
     "output_type": "stream",
     "text": [
      "\rMorphologyExtractor create index: 2247858it [00:14, 154592.33it/s]"
     ]
    },
    {
     "name": "stderr",
     "output_type": "stream",
     "text": [
      "\rMorphologyExtractor create index: 2263787it [00:14, 155970.79it/s]"
     ]
    },
    {
     "name": "stderr",
     "output_type": "stream",
     "text": [
      "\rMorphologyExtractor create index: 2279533it [00:14, 156411.41it/s]"
     ]
    },
    {
     "name": "stderr",
     "output_type": "stream",
     "text": [
      "\rMorphologyExtractor create index: 2295282it [00:15, 156730.69it/s]"
     ]
    },
    {
     "name": "stderr",
     "output_type": "stream",
     "text": [
      "\rMorphologyExtractor create index: 2310963it [00:15, 154368.46it/s]"
     ]
    },
    {
     "name": "stderr",
     "output_type": "stream",
     "text": [
      "\rMorphologyExtractor create index: 2326414it [00:15, 153330.50it/s]"
     ]
    },
    {
     "name": "stderr",
     "output_type": "stream",
     "text": [
      "\rMorphologyExtractor create index: 2342617it [00:15, 155838.45it/s]"
     ]
    },
    {
     "name": "stderr",
     "output_type": "stream",
     "text": [
      "\rMorphologyExtractor create index: 2358407it [00:15, 156448.40it/s]"
     ]
    },
    {
     "name": "stderr",
     "output_type": "stream",
     "text": [
      "\rMorphologyExtractor create index: 2374065it [00:15, 156270.52it/s]"
     ]
    },
    {
     "name": "stderr",
     "output_type": "stream",
     "text": [
      "\rMorphologyExtractor create index: 2389772it [00:15, 156508.99it/s]"
     ]
    },
    {
     "name": "stderr",
     "output_type": "stream",
     "text": [
      "\rMorphologyExtractor create index: 2405837it [00:15, 157727.75it/s]"
     ]
    },
    {
     "name": "stderr",
     "output_type": "stream",
     "text": [
      "\rMorphologyExtractor create index: 2421617it [00:15, 156682.25it/s]"
     ]
    },
    {
     "name": "stderr",
     "output_type": "stream",
     "text": [
      "\rMorphologyExtractor create index: 2437909it [00:15, 158502.00it/s]"
     ]
    },
    {
     "name": "stderr",
     "output_type": "stream",
     "text": [
      "\rMorphologyExtractor create index: 2454152it [00:16, 159658.89it/s]"
     ]
    },
    {
     "name": "stderr",
     "output_type": "stream",
     "text": [
      "\rMorphologyExtractor create index: 2470127it [00:16, 155974.30it/s]"
     ]
    },
    {
     "name": "stderr",
     "output_type": "stream",
     "text": [
      "\rMorphologyExtractor create index: 2485770it [00:16, 156109.22it/s]"
     ]
    },
    {
     "name": "stderr",
     "output_type": "stream",
     "text": [
      "\rMorphologyExtractor create index: 2502180it [00:16, 158422.70it/s]"
     ]
    },
    {
     "name": "stderr",
     "output_type": "stream",
     "text": [
      "\rMorphologyExtractor create index: 2518043it [00:16, 154550.60it/s]"
     ]
    },
    {
     "name": "stderr",
     "output_type": "stream",
     "text": [
      "\rMorphologyExtractor create index: 2533534it [00:16, 154077.68it/s]"
     ]
    },
    {
     "name": "stderr",
     "output_type": "stream",
     "text": [
      "\rMorphologyExtractor create index: 2548967it [00:16, 153511.52it/s]"
     ]
    },
    {
     "name": "stderr",
     "output_type": "stream",
     "text": [
      "\rMorphologyExtractor create index: 2564337it [00:16, 153348.77it/s]"
     ]
    },
    {
     "name": "stderr",
     "output_type": "stream",
     "text": [
      "\rMorphologyExtractor create index: 2579685it [00:16, 153030.24it/s]"
     ]
    },
    {
     "name": "stderr",
     "output_type": "stream",
     "text": [
      "\rMorphologyExtractor create index: 2594998it [00:16, 152622.97it/s]"
     ]
    },
    {
     "name": "stderr",
     "output_type": "stream",
     "text": [
      "\rMorphologyExtractor create index: 2610267it [00:17, 150954.75it/s]"
     ]
    },
    {
     "name": "stderr",
     "output_type": "stream",
     "text": [
      "\rMorphologyExtractor create index: 2625395it [00:17, 151052.11it/s]"
     ]
    },
    {
     "name": "stderr",
     "output_type": "stream",
     "text": [
      "\rMorphologyExtractor create index: 2640914it [00:17, 152268.46it/s]"
     ]
    },
    {
     "name": "stderr",
     "output_type": "stream",
     "text": [
      "\rMorphologyExtractor create index: 2656165it [00:17, 152340.34it/s]"
     ]
    },
    {
     "name": "stderr",
     "output_type": "stream",
     "text": [
      "\rMorphologyExtractor create index: 2672420it [00:17, 155262.85it/s]"
     ]
    },
    {
     "name": "stderr",
     "output_type": "stream",
     "text": [
      "\rMorphologyExtractor create index: 2687964it [00:17, 154311.75it/s]"
     ]
    },
    {
     "name": "stderr",
     "output_type": "stream",
     "text": [
      "\rMorphologyExtractor create index: 2703409it [00:17, 153476.14it/s]"
     ]
    },
    {
     "name": "stderr",
     "output_type": "stream",
     "text": [
      "\rMorphologyExtractor create index: 2718767it [00:17, 152886.61it/s]"
     ]
    },
    {
     "name": "stderr",
     "output_type": "stream",
     "text": [
      "\rMorphologyExtractor create index: 2734064it [00:17, 152146.48it/s]"
     ]
    },
    {
     "name": "stderr",
     "output_type": "stream",
     "text": [
      "\rMorphologyExtractor create index: 2749548it [00:17, 152941.13it/s]"
     ]
    },
    {
     "name": "stderr",
     "output_type": "stream",
     "text": [
      "\rMorphologyExtractor create index: 2764848it [00:18, 152165.51it/s]"
     ]
    },
    {
     "name": "stderr",
     "output_type": "stream",
     "text": [
      "\rMorphologyExtractor create index: 2780070it [00:18, 151502.52it/s]"
     ]
    },
    {
     "name": "stderr",
     "output_type": "stream",
     "text": [
      "\rMorphologyExtractor create index: 2795225it [00:18, 148965.95it/s]"
     ]
    },
    {
     "name": "stderr",
     "output_type": "stream",
     "text": [
      "\rMorphologyExtractor create index: 2810482it [00:18, 150029.09it/s]"
     ]
    },
    {
     "name": "stderr",
     "output_type": "stream",
     "text": [
      "\rMorphologyExtractor create index: 2825496it [00:18, 149590.14it/s]"
     ]
    },
    {
     "name": "stderr",
     "output_type": "stream",
     "text": [
      "\rMorphologyExtractor create index: 2840600it [00:18, 150021.25it/s]"
     ]
    },
    {
     "name": "stderr",
     "output_type": "stream",
     "text": [
      "\rMorphologyExtractor create index: 2855752it [00:18, 150467.26it/s]"
     ]
    },
    {
     "name": "stderr",
     "output_type": "stream",
     "text": [
      "\rMorphologyExtractor create index: 2870803it [00:18, 148513.86it/s]"
     ]
    },
    {
     "name": "stderr",
     "output_type": "stream",
     "text": [
      "\rMorphologyExtractor create index: 2886138it [00:18, 149931.46it/s]"
     ]
    },
    {
     "name": "stderr",
     "output_type": "stream",
     "text": [
      "\rMorphologyExtractor create index: 2901775it [00:18, 151806.59it/s]"
     ]
    },
    {
     "name": "stderr",
     "output_type": "stream",
     "text": [
      "\rMorphologyExtractor create index: 2916968it [00:19, 151531.13it/s]"
     ]
    },
    {
     "name": "stderr",
     "output_type": "stream",
     "text": [
      "\rMorphologyExtractor create index: 2932130it [00:19, 151174.23it/s]"
     ]
    },
    {
     "name": "stderr",
     "output_type": "stream",
     "text": [
      "\rMorphologyExtractor create index: 2947696it [00:19, 152492.20it/s]"
     ]
    },
    {
     "name": "stderr",
     "output_type": "stream",
     "text": [
      "\rMorphologyExtractor create index: 2962953it [00:19, 150189.70it/s]"
     ]
    },
    {
     "name": "stderr",
     "output_type": "stream",
     "text": [
      "\rMorphologyExtractor create index: 2978057it [00:19, 150440.61it/s]"
     ]
    },
    {
     "name": "stderr",
     "output_type": "stream",
     "text": [
      "\rMorphologyExtractor create index: 2993193it [00:19, 150713.58it/s]"
     ]
    },
    {
     "name": "stderr",
     "output_type": "stream",
     "text": [
      "\rMorphologyExtractor create index: 3008849it [00:19, 152418.85it/s]"
     ]
    },
    {
     "name": "stderr",
     "output_type": "stream",
     "text": [
      "\rMorphologyExtractor create index: 3024362it [00:19, 153219.96it/s]"
     ]
    },
    {
     "name": "stderr",
     "output_type": "stream",
     "text": [
      "\rMorphologyExtractor create index: 3039692it [00:19, 152444.84it/s]"
     ]
    },
    {
     "name": "stderr",
     "output_type": "stream",
     "text": [
      "\rMorphologyExtractor create index: 3054943it [00:19, 152016.16it/s]"
     ]
    },
    {
     "name": "stderr",
     "output_type": "stream",
     "text": [
      "\rMorphologyExtractor create index: 3070150it [00:20, 151656.15it/s]"
     ]
    },
    {
     "name": "stderr",
     "output_type": "stream",
     "text": [
      "\rMorphologyExtractor create index: 3085319it [00:20, 150141.76it/s]"
     ]
    },
    {
     "name": "stderr",
     "output_type": "stream",
     "text": [
      "\rMorphologyExtractor create index: 3101041it [00:20, 152195.22it/s]"
     ]
    },
    {
     "name": "stderr",
     "output_type": "stream",
     "text": [
      "\rMorphologyExtractor create index: 3116272it [00:20, 149784.56it/s]"
     ]
    },
    {
     "name": "stderr",
     "output_type": "stream",
     "text": [
      "\rMorphologyExtractor create index: 3131267it [00:20, 149806.79it/s]"
     ]
    },
    {
     "name": "stderr",
     "output_type": "stream",
     "text": [
      "\rMorphologyExtractor create index: 3147174it [00:20, 152469.66it/s]"
     ]
    },
    {
     "name": "stderr",
     "output_type": "stream",
     "text": [
      "\rMorphologyExtractor create index: 3162441it [00:20, 149738.16it/s]"
     ]
    },
    {
     "name": "stderr",
     "output_type": "stream",
     "text": [
      "\rMorphologyExtractor create index: 3177587it [00:20, 150249.67it/s]"
     ]
    },
    {
     "name": "stderr",
     "output_type": "stream",
     "text": [
      "\rMorphologyExtractor create index: 3192806it [00:20, 150826.49it/s]"
     ]
    },
    {
     "name": "stderr",
     "output_type": "stream",
     "text": [
      "\rMorphologyExtractor create index: 3207902it [00:20, 150606.47it/s]"
     ]
    },
    {
     "name": "stderr",
     "output_type": "stream",
     "text": [
      "\rMorphologyExtractor create index: 3223452it [00:21, 152038.84it/s]"
     ]
    },
    {
     "name": "stderr",
     "output_type": "stream",
     "text": [
      "\rMorphologyExtractor create index: 3238666it [00:21, 150919.58it/s]"
     ]
    },
    {
     "name": "stderr",
     "output_type": "stream",
     "text": [
      "\rMorphologyExtractor create index: 3253767it [00:21, 149227.10it/s]"
     ]
    },
    {
     "name": "stderr",
     "output_type": "stream",
     "text": [
      "\rMorphologyExtractor create index: 3268793it [00:21, 149534.56it/s]"
     ]
    },
    {
     "name": "stderr",
     "output_type": "stream",
     "text": [
      "\rMorphologyExtractor create index: 3284179it [00:21, 150805.53it/s]"
     ]
    },
    {
     "name": "stderr",
     "output_type": "stream",
     "text": [
      "\rMorphologyExtractor create index: 3299268it [00:21, 150686.32it/s]"
     ]
    },
    {
     "name": "stderr",
     "output_type": "stream",
     "text": [
      "\rMorphologyExtractor create index: 3314343it [00:21, 150305.98it/s]"
     ]
    },
    {
     "name": "stderr",
     "output_type": "stream",
     "text": [
      "\rMorphologyExtractor create index: 3329378it [00:21, 149954.41it/s]"
     ]
    },
    {
     "name": "stderr",
     "output_type": "stream",
     "text": [
      "\rMorphologyExtractor create index: 3344738it [00:21, 151029.73it/s]"
     ]
    },
    {
     "name": "stderr",
     "output_type": "stream",
     "text": [
      "\rMorphologyExtractor create index: 3360125it [00:22, 151868.42it/s]"
     ]
    },
    {
     "name": "stderr",
     "output_type": "stream",
     "text": [
      "\rMorphologyExtractor create index: 3375595it [00:22, 152706.02it/s]"
     ]
    },
    {
     "name": "stderr",
     "output_type": "stream",
     "text": [
      "\rMorphologyExtractor create index: 3390956it [00:22, 152975.16it/s]"
     ]
    },
    {
     "name": "stderr",
     "output_type": "stream",
     "text": [
      "\rMorphologyExtractor create index: 3406257it [00:22, 149422.57it/s]"
     ]
    },
    {
     "name": "stderr",
     "output_type": "stream",
     "text": [
      "\rMorphologyExtractor create index: 3421991it [00:22, 151711.01it/s]"
     ]
    },
    {
     "name": "stderr",
     "output_type": "stream",
     "text": [
      "\rMorphologyExtractor create index: 3437185it [00:22, 150698.84it/s]"
     ]
    },
    {
     "name": "stderr",
     "output_type": "stream",
     "text": [
      "\rMorphologyExtractor create index: 3452273it [00:22, 148836.04it/s]"
     ]
    },
    {
     "name": "stderr",
     "output_type": "stream",
     "text": [
      "\rMorphologyExtractor create index: 3467400it [00:22, 149555.78it/s]"
     ]
    },
    {
     "name": "stderr",
     "output_type": "stream",
     "text": [
      "\rMorphologyExtractor create index: 3482961it [00:22, 151321.09it/s]"
     ]
    },
    {
     "name": "stderr",
     "output_type": "stream",
     "text": [
      "\rMorphologyExtractor create index: 3498403it [00:22, 152236.38it/s]"
     ]
    },
    {
     "name": "stderr",
     "output_type": "stream",
     "text": [
      "\rMorphologyExtractor create index: 3514147it [00:23, 153759.64it/s]"
     ]
    },
    {
     "name": "stderr",
     "output_type": "stream",
     "text": [
      "\rMorphologyExtractor create index: 3529869it [00:23, 154778.96it/s]"
     ]
    },
    {
     "name": "stderr",
     "output_type": "stream",
     "text": [
      "\rMorphologyExtractor create index: 3545357it [00:23, 154707.99it/s]"
     ]
    },
    {
     "name": "stderr",
     "output_type": "stream",
     "text": [
      "\rMorphologyExtractor create index: 3560835it [00:23, 152673.29it/s]"
     ]
    },
    {
     "name": "stderr",
     "output_type": "stream",
     "text": [
      "\rMorphologyExtractor create index: 3576114it [00:23, 150502.41it/s]"
     ]
    },
    {
     "name": "stderr",
     "output_type": "stream",
     "text": [
      "\rMorphologyExtractor create index: 3591179it [00:23, 150090.87it/s]"
     ]
    },
    {
     "name": "stderr",
     "output_type": "stream",
     "text": [
      "\rMorphologyExtractor create index: 3606231it [00:23, 150217.57it/s]"
     ]
    },
    {
     "name": "stderr",
     "output_type": "stream",
     "text": [
      "\rMorphologyExtractor create index: 3621261it [00:23, 147557.23it/s]"
     ]
    },
    {
     "name": "stderr",
     "output_type": "stream",
     "text": [
      "\rMorphologyExtractor create index: 3636304it [00:23, 148406.58it/s]"
     ]
    },
    {
     "name": "stderr",
     "output_type": "stream",
     "text": [
      "\rMorphologyExtractor create index: 3651286it [00:23, 148826.89it/s]"
     ]
    },
    {
     "name": "stderr",
     "output_type": "stream",
     "text": [
      "\rMorphologyExtractor create index: 3666178it [00:24, 148373.04it/s]"
     ]
    },
    {
     "name": "stderr",
     "output_type": "stream",
     "text": [
      "\rMorphologyExtractor create index: 3681225it [00:24, 148993.90it/s]"
     ]
    },
    {
     "name": "stderr",
     "output_type": "stream",
     "text": [
      "\rMorphologyExtractor create index: 3697006it [00:24, 151532.12it/s]"
     ]
    },
    {
     "name": "stderr",
     "output_type": "stream",
     "text": [
      "\rMorphologyExtractor create index: 3712358it [00:24, 152120.30it/s]"
     ]
    },
    {
     "name": "stderr",
     "output_type": "stream",
     "text": [
      "\rMorphologyExtractor create index: 3727581it [00:24, 150687.52it/s]"
     ]
    },
    {
     "name": "stderr",
     "output_type": "stream",
     "text": [
      "\rMorphologyExtractor create index: 3742661it [00:24, 150294.42it/s]"
     ]
    },
    {
     "name": "stderr",
     "output_type": "stream",
     "text": [
      "\rMorphologyExtractor create index: 3757725it [00:24, 150395.82it/s]"
     ]
    },
    {
     "name": "stderr",
     "output_type": "stream",
     "text": [
      "\rMorphologyExtractor create index: 3772770it [00:24, 149712.40it/s]"
     ]
    },
    {
     "name": "stderr",
     "output_type": "stream",
     "text": [
      "\rMorphologyExtractor create index: 3788389it [00:24, 151597.23it/s]"
     ]
    },
    {
     "name": "stderr",
     "output_type": "stream",
     "text": [
      "\rMorphologyExtractor create index: 3803558it [00:24, 150832.70it/s]"
     ]
    },
    {
     "name": "stderr",
     "output_type": "stream",
     "text": [
      "\rMorphologyExtractor create index: 3818649it [00:25, 150630.83it/s]"
     ]
    },
    {
     "name": "stderr",
     "output_type": "stream",
     "text": [
      "\rMorphologyExtractor create index: 3833718it [00:25, 150036.13it/s]"
     ]
    },
    {
     "name": "stderr",
     "output_type": "stream",
     "text": [
      "\rMorphologyExtractor create index: 3848821it [00:25, 150331.57it/s]"
     ]
    },
    {
     "name": "stderr",
     "output_type": "stream",
     "text": [
      "\rMorphologyExtractor create index: 3864237it [00:25, 151458.64it/s]"
     ]
    },
    {
     "name": "stderr",
     "output_type": "stream",
     "text": [
      "\rMorphologyExtractor create index: 3879387it [00:25, 149299.13it/s]"
     ]
    },
    {
     "name": "stderr",
     "output_type": "stream",
     "text": [
      "\rMorphologyExtractor create index: 3894707it [00:25, 150447.04it/s]"
     ]
    },
    {
     "name": "stderr",
     "output_type": "stream",
     "text": [
      "\rMorphologyExtractor create index: 3909761it [00:25, 150320.31it/s]"
     ]
    },
    {
     "name": "stderr",
     "output_type": "stream",
     "text": [
      "\rMorphologyExtractor create index: 3925042it [00:25, 151057.31it/s]"
     ]
    },
    {
     "name": "stderr",
     "output_type": "stream",
     "text": [
      "\rMorphologyExtractor create index: 3940153it [00:25, 150396.05it/s]"
     ]
    },
    {
     "name": "stderr",
     "output_type": "stream",
     "text": [
      "\rMorphologyExtractor create index: 3955197it [00:25, 149174.39it/s]"
     ]
    },
    {
     "name": "stderr",
     "output_type": "stream",
     "text": [
      "\rMorphologyExtractor create index: 3970120it [00:26, 149151.23it/s]"
     ]
    },
    {
     "name": "stderr",
     "output_type": "stream",
     "text": [
      "\rMorphologyExtractor create index: 3985237it [00:26, 149749.84it/s]"
     ]
    },
    {
     "name": "stderr",
     "output_type": "stream",
     "text": [
      "\rMorphologyExtractor create index: 4000216it [00:26, 148307.66it/s]"
     ]
    },
    {
     "name": "stderr",
     "output_type": "stream",
     "text": [
      "\rMorphologyExtractor create index: 4015705it [00:26, 150221.65it/s]"
     ]
    },
    {
     "name": "stderr",
     "output_type": "stream",
     "text": [
      "\rMorphologyExtractor create index: 4031249it [00:26, 151749.08it/s]"
     ]
    },
    {
     "name": "stderr",
     "output_type": "stream",
     "text": [
      "\rMorphologyExtractor create index: 4046435it [00:26, 148995.93it/s]"
     ]
    },
    {
     "name": "stderr",
     "output_type": "stream",
     "text": [
      "\rMorphologyExtractor create index: 4062197it [00:26, 151478.91it/s]"
     ]
    },
    {
     "name": "stderr",
     "output_type": "stream",
     "text": [
      "\rMorphologyExtractor create index: 4077554it [00:26, 152097.91it/s]"
     ]
    },
    {
     "name": "stderr",
     "output_type": "stream",
     "text": [
      "\rMorphologyExtractor create index: 4093033it [00:26, 152893.53it/s]"
     ]
    },
    {
     "name": "stderr",
     "output_type": "stream",
     "text": [
      "\rMorphologyExtractor create index: 4108574it [00:26, 153637.53it/s]"
     ]
    },
    {
     "name": "stderr",
     "output_type": "stream",
     "text": [
      "\rMorphologyExtractor create index: 4123948it [00:27, 152391.97it/s]"
     ]
    },
    {
     "name": "stderr",
     "output_type": "stream",
     "text": [
      "\rMorphologyExtractor create index: 4139197it [00:27, 151468.03it/s]"
     ]
    },
    {
     "name": "stderr",
     "output_type": "stream",
     "text": [
      "\rMorphologyExtractor create index: 4154352it [00:27, 147653.18it/s]"
     ]
    },
    {
     "name": "stderr",
     "output_type": "stream",
     "text": [
      "\rMorphologyExtractor create index: 4170063it [00:27, 150354.23it/s]"
     ]
    },
    {
     "name": "stderr",
     "output_type": "stream",
     "text": [
      "\rMorphologyExtractor create index: 4185130it [00:27, 140890.13it/s]"
     ]
    },
    {
     "name": "stderr",
     "output_type": "stream",
     "text": [
      "\rMorphologyExtractor create index: 4201116it [00:27, 146088.95it/s]"
     ]
    },
    {
     "name": "stderr",
     "output_type": "stream",
     "text": [
      "\rMorphologyExtractor create index: 4216936it [00:27, 149521.71it/s]"
     ]
    },
    {
     "name": "stderr",
     "output_type": "stream",
     "text": [
      "\rMorphologyExtractor create index: 4232581it [00:27, 151531.90it/s]"
     ]
    },
    {
     "name": "stderr",
     "output_type": "stream",
     "text": [
      "\rMorphologyExtractor create index: 4248421it [00:27, 153511.13it/s]"
     ]
    },
    {
     "name": "stderr",
     "output_type": "stream",
     "text": [
      "\rMorphologyExtractor create index: 4263844it [00:28, 152491.36it/s]"
     ]
    },
    {
     "name": "stderr",
     "output_type": "stream",
     "text": [
      "\rMorphologyExtractor create index: 4279395it [00:28, 153381.80it/s]"
     ]
    },
    {
     "name": "stderr",
     "output_type": "stream",
     "text": [
      "\rMorphologyExtractor create index: 4295040it [00:28, 154287.74it/s]"
     ]
    },
    {
     "name": "stderr",
     "output_type": "stream",
     "text": [
      "\rMorphologyExtractor create index: 4310497it [00:28, 150707.20it/s]"
     ]
    },
    {
     "name": "stderr",
     "output_type": "stream",
     "text": [
      "\rMorphologyExtractor create index: 4325895it [00:28, 151671.71it/s]"
     ]
    },
    {
     "name": "stderr",
     "output_type": "stream",
     "text": [
      "\rMorphologyExtractor create index: 4341090it [00:28, 151219.45it/s]"
     ]
    },
    {
     "name": "stderr",
     "output_type": "stream",
     "text": [
      "\rMorphologyExtractor create index: 4356232it [00:28, 146072.19it/s]"
     ]
    },
    {
     "name": "stderr",
     "output_type": "stream",
     "text": [
      "\rMorphologyExtractor create index: 4371427it [00:28, 147785.00it/s]"
     ]
    },
    {
     "name": "stderr",
     "output_type": "stream",
     "text": [
      "\rMorphologyExtractor create index: 4386247it [00:28, 147400.87it/s]"
     ]
    },
    {
     "name": "stderr",
     "output_type": "stream",
     "text": [
      "\rMorphologyExtractor create index: 4401750it [00:28, 149608.28it/s]"
     ]
    },
    {
     "name": "stderr",
     "output_type": "stream",
     "text": [
      "\rMorphologyExtractor create index: 4416839it [00:29, 149990.01it/s]"
     ]
    },
    {
     "name": "stderr",
     "output_type": "stream",
     "text": [
      "\rMorphologyExtractor create index: 4431859it [00:29, 150016.12it/s]"
     ]
    },
    {
     "name": "stderr",
     "output_type": "stream",
     "text": [
      "\rMorphologyExtractor create index: 4446875it [00:29, 149870.44it/s]"
     ]
    },
    {
     "name": "stderr",
     "output_type": "stream",
     "text": [
      "\rMorphologyExtractor create index: 4462805it [00:29, 152578.65it/s]"
     ]
    },
    {
     "name": "stderr",
     "output_type": "stream",
     "text": [
      "\rMorphologyExtractor create index: 4478311it [00:29, 153314.61it/s]"
     ]
    },
    {
     "name": "stderr",
     "output_type": "stream",
     "text": [
      "\rMorphologyExtractor create index: 4493657it [00:29, 150860.31it/s]"
     ]
    },
    {
     "name": "stderr",
     "output_type": "stream",
     "text": [
      "\rMorphologyExtractor create index: 4509388it [00:29, 152737.23it/s]"
     ]
    },
    {
     "name": "stderr",
     "output_type": "stream",
     "text": [
      "\rMorphologyExtractor create index: 4525406it [00:29, 154895.06it/s]"
     ]
    },
    {
     "name": "stderr",
     "output_type": "stream",
     "text": [
      "\rMorphologyExtractor create index: 4541416it [00:29, 156419.28it/s]"
     ]
    },
    {
     "name": "stderr",
     "output_type": "stream",
     "text": [
      "\rMorphologyExtractor create index: 4557737it [00:29, 158394.92it/s]"
     ]
    },
    {
     "name": "stderr",
     "output_type": "stream",
     "text": [
      "\rMorphologyExtractor create index: 4573596it [00:30, 154448.80it/s]"
     ]
    },
    {
     "name": "stderr",
     "output_type": "stream",
     "text": [
      "\rMorphologyExtractor create index: 4589076it [00:30, 153923.76it/s]"
     ]
    },
    {
     "name": "stderr",
     "output_type": "stream",
     "text": [
      "\rMorphologyExtractor create index: 4604494it [00:30, 153058.00it/s]"
     ]
    },
    {
     "name": "stderr",
     "output_type": "stream",
     "text": [
      "\rMorphologyExtractor create index: 4620023it [00:30, 153718.92it/s]"
     ]
    },
    {
     "name": "stderr",
     "output_type": "stream",
     "text": [
      "\rMorphologyExtractor create index: 4635409it [00:30, 152407.78it/s]"
     ]
    },
    {
     "name": "stderr",
     "output_type": "stream",
     "text": [
      "\rMorphologyExtractor create index: 4651462it [00:30, 154754.51it/s]"
     ]
    },
    {
     "name": "stderr",
     "output_type": "stream",
     "text": [
      "\rMorphologyExtractor create index: 4666955it [00:30, 153212.09it/s]"
     ]
    },
    {
     "name": "stderr",
     "output_type": "stream",
     "text": [
      "\rMorphologyExtractor create index: 4682589it [00:30, 154135.76it/s]"
     ]
    },
    {
     "name": "stderr",
     "output_type": "stream",
     "text": [
      "\rMorphologyExtractor create index: 4698627it [00:30, 155956.55it/s]"
     ]
    },
    {
     "name": "stderr",
     "output_type": "stream",
     "text": [
      "\rMorphologyExtractor create index: 4714237it [00:30, 153422.35it/s]"
     ]
    },
    {
     "name": "stderr",
     "output_type": "stream",
     "text": [
      "\rMorphologyExtractor create index: 4729599it [00:31, 153481.53it/s]"
     ]
    },
    {
     "name": "stderr",
     "output_type": "stream",
     "text": [
      "\rMorphologyExtractor create index: 4745372it [00:31, 154730.91it/s]"
     ]
    },
    {
     "name": "stderr",
     "output_type": "stream",
     "text": [
      "\rMorphologyExtractor create index: 4761366it [00:31, 156254.86it/s]"
     ]
    },
    {
     "name": "stderr",
     "output_type": "stream",
     "text": [
      "\rMorphologyExtractor create index: 4777004it [00:31, 155785.72it/s]"
     ]
    },
    {
     "name": "stderr",
     "output_type": "stream",
     "text": [
      "\rMorphologyExtractor create index: 4792806it [00:31, 156446.51it/s]"
     ]
    },
    {
     "name": "stderr",
     "output_type": "stream",
     "text": [
      "\rMorphologyExtractor create index: 4808686it [00:31, 157142.46it/s]"
     ]
    },
    {
     "name": "stderr",
     "output_type": "stream",
     "text": [
      "\rMorphologyExtractor create index: 4824406it [00:31, 153687.87it/s]"
     ]
    },
    {
     "name": "stderr",
     "output_type": "stream",
     "text": [
      "\rMorphologyExtractor create index: 4839796it [00:31, 150072.63it/s]"
     ]
    },
    {
     "name": "stderr",
     "output_type": "stream",
     "text": [
      "\rMorphologyExtractor create index: 4854837it [00:31, 148908.80it/s]"
     ]
    },
    {
     "name": "stderr",
     "output_type": "stream",
     "text": [
      "\rMorphologyExtractor create index: 4870052it [00:31, 149864.81it/s]"
     ]
    },
    {
     "name": "stderr",
     "output_type": "stream",
     "text": [
      "\rMorphologyExtractor create index: 4885058it [00:32, 149418.10it/s]"
     ]
    },
    {
     "name": "stderr",
     "output_type": "stream",
     "text": [
      "\rMorphologyExtractor create index: 4900827it [00:32, 151804.52it/s]"
     ]
    },
    {
     "name": "stderr",
     "output_type": "stream",
     "text": [
      "\rMorphologyExtractor create index: 4916170it [00:32, 152286.20it/s]"
     ]
    },
    {
     "name": "stderr",
     "output_type": "stream",
     "text": [
      "\rMorphologyExtractor create index: 4931444it [00:32, 152419.82it/s]"
     ]
    },
    {
     "name": "stderr",
     "output_type": "stream",
     "text": [
      "\rMorphologyExtractor create index: 4946868it [00:32, 152959.00it/s]"
     ]
    },
    {
     "name": "stderr",
     "output_type": "stream",
     "text": [
      "\rMorphologyExtractor create index: 4962780it [00:32, 154755.80it/s]"
     ]
    },
    {
     "name": "stderr",
     "output_type": "stream",
     "text": [
      "\rMorphologyExtractor create index: 4978594it [00:32, 155755.36it/s]"
     ]
    },
    {
     "name": "stderr",
     "output_type": "stream",
     "text": [
      "\rMorphologyExtractor create index: 4994179it [00:32, 155604.00it/s]"
     ]
    },
    {
     "name": "stderr",
     "output_type": "stream",
     "text": [
      "\rMorphologyExtractor create index: 5009746it [00:32, 154438.59it/s]"
     ]
    },
    {
     "name": "stderr",
     "output_type": "stream",
     "text": [
      "\rMorphologyExtractor create index: 5025197it [00:32, 153427.40it/s]"
     ]
    },
    {
     "name": "stderr",
     "output_type": "stream",
     "text": [
      "\rMorphologyExtractor create index: 5040586it [00:33, 153564.62it/s]"
     ]
    },
    {
     "name": "stderr",
     "output_type": "stream",
     "text": [
      "\rMorphologyExtractor create index: 5056526it [00:33, 155266.67it/s]"
     ]
    },
    {
     "name": "stderr",
     "output_type": "stream",
     "text": [
      "\rMorphologyExtractor create index: 5072061it [00:33, 150625.59it/s]"
     ]
    },
    {
     "name": "stderr",
     "output_type": "stream",
     "text": [
      "\rMorphologyExtractor create index: 5087498it [00:33, 151728.78it/s]"
     ]
    },
    {
     "name": "stderr",
     "output_type": "stream",
     "text": [
      "\rMorphologyExtractor create index: 5096053it [00:33, 152348.70it/s]"
     ]
    },
    {
     "name": "stderr",
     "output_type": "stream",
     "text": [
      "\n\rDictClassTransformer_PUNCT fit stage 1:   0%|          | 0/9517064 [00:00<?, ?it/s]"
     ]
    },
    {
     "name": "stderr",
     "output_type": "stream",
     "text": [
      "\rDictClassTransformer_PUNCT fit stage 1:   1%|          | 83557/9517064 [00:00<00:11, 835562.83it/s]"
     ]
    },
    {
     "name": "stderr",
     "output_type": "stream",
     "text": [
      "\rDictClassTransformer_PUNCT fit stage 1:   2%|▏         | 176163/9517064 [00:00<00:10, 860793.80it/s]"
     ]
    },
    {
     "name": "stderr",
     "output_type": "stream",
     "text": [
      "\rDictClassTransformer_PUNCT fit stage 1:   3%|▎         | 280678/9517064 [00:00<00:10, 908889.77it/s]"
     ]
    },
    {
     "name": "stderr",
     "output_type": "stream",
     "text": [
      "\rDictClassTransformer_PUNCT fit stage 1:   4%|▍         | 388928/9517064 [00:00<00:09, 954828.01it/s]"
     ]
    },
    {
     "name": "stderr",
     "output_type": "stream",
     "text": [
      "\rDictClassTransformer_PUNCT fit stage 1:   5%|▌         | 497732/9517064 [00:00<00:09, 991233.68it/s]"
     ]
    },
    {
     "name": "stderr",
     "output_type": "stream",
     "text": [
      "\rDictClassTransformer_PUNCT fit stage 1:   7%|▋         | 618863/9517064 [00:00<00:08, 1048372.80it/s]"
     ]
    },
    {
     "name": "stderr",
     "output_type": "stream",
     "text": [
      "\rDictClassTransformer_PUNCT fit stage 1:   8%|▊         | 736895/9517064 [00:00<00:08, 1084749.35it/s]"
     ]
    },
    {
     "name": "stderr",
     "output_type": "stream",
     "text": [
      "\rDictClassTransformer_PUNCT fit stage 1:   9%|▉         | 857640/9517064 [00:00<00:07, 1118855.35it/s]"
     ]
    },
    {
     "name": "stderr",
     "output_type": "stream",
     "text": [
      "\rDictClassTransformer_PUNCT fit stage 1:  10%|█         | 980469/9517064 [00:00<00:07, 1149581.53it/s]"
     ]
    },
    {
     "name": "stderr",
     "output_type": "stream",
     "text": [
      "\rDictClassTransformer_PUNCT fit stage 1:  12%|█▏        | 1106221/9517064 [00:01<00:07, 1179963.18it/s]"
     ]
    },
    {
     "name": "stderr",
     "output_type": "stream",
     "text": [
      "\rDictClassTransformer_PUNCT fit stage 1:  13%|█▎        | 1231149/9517064 [00:01<00:06, 1199936.39it/s]"
     ]
    },
    {
     "name": "stderr",
     "output_type": "stream",
     "text": [
      "\rDictClassTransformer_PUNCT fit stage 1:  14%|█▍        | 1357139/9517064 [00:01<00:06, 1217314.44it/s]"
     ]
    },
    {
     "name": "stderr",
     "output_type": "stream",
     "text": [
      "\rDictClassTransformer_PUNCT fit stage 1:  16%|█▌        | 1482090/9517064 [00:01<00:06, 1226797.02it/s]"
     ]
    },
    {
     "name": "stderr",
     "output_type": "stream",
     "text": [
      "\rDictClassTransformer_PUNCT fit stage 1:  17%|█▋        | 1609847/9517064 [00:01<00:06, 1241596.96it/s]"
     ]
    },
    {
     "name": "stderr",
     "output_type": "stream",
     "text": [
      "\rDictClassTransformer_PUNCT fit stage 1:  18%|█▊        | 1733903/9517064 [00:01<00:06, 1241285.15it/s]"
     ]
    },
    {
     "name": "stderr",
     "output_type": "stream",
     "text": [
      "\rDictClassTransformer_PUNCT fit stage 1:  20%|█▉        | 1859500/9517064 [00:01<00:06, 1245650.36it/s]"
     ]
    },
    {
     "name": "stderr",
     "output_type": "stream",
     "text": [
      "\rDictClassTransformer_PUNCT fit stage 1:  21%|██        | 1983965/9517064 [00:01<00:06, 1226331.23it/s]"
     ]
    },
    {
     "name": "stderr",
     "output_type": "stream",
     "text": [
      "\rDictClassTransformer_PUNCT fit stage 1:  22%|██▏       | 2109723/9517064 [00:01<00:05, 1235537.58it/s]"
     ]
    },
    {
     "name": "stderr",
     "output_type": "stream",
     "text": [
      "\rDictClassTransformer_PUNCT fit stage 1:  24%|██▎       | 2239148/9517064 [00:01<00:05, 1252581.15it/s]"
     ]
    },
    {
     "name": "stderr",
     "output_type": "stream",
     "text": [
      "\rDictClassTransformer_PUNCT fit stage 1:  25%|██▍       | 2367547/9517064 [00:02<00:05, 1261840.73it/s]"
     ]
    },
    {
     "name": "stderr",
     "output_type": "stream",
     "text": [
      "\rDictClassTransformer_PUNCT fit stage 1:  26%|██▌       | 2494215/9517064 [00:02<00:05, 1263280.88it/s]"
     ]
    },
    {
     "name": "stderr",
     "output_type": "stream",
     "text": [
      "\rDictClassTransformer_PUNCT fit stage 1:  28%|██▊       | 2621300/9517064 [00:02<00:05, 1265538.88it/s]"
     ]
    },
    {
     "name": "stderr",
     "output_type": "stream",
     "text": [
      "\rDictClassTransformer_PUNCT fit stage 1:  29%|██▉       | 2750634/9517064 [00:02<00:05, 1273752.37it/s]"
     ]
    },
    {
     "name": "stderr",
     "output_type": "stream",
     "text": [
      "\rDictClassTransformer_PUNCT fit stage 1:  30%|███       | 2878045/9517064 [00:02<00:05, 1258773.18it/s]"
     ]
    },
    {
     "name": "stderr",
     "output_type": "stream",
     "text": [
      "\rDictClassTransformer_PUNCT fit stage 1:  32%|███▏      | 3005269/9517064 [00:02<00:05, 1262779.97it/s]"
     ]
    },
    {
     "name": "stderr",
     "output_type": "stream",
     "text": [
      "\rDictClassTransformer_PUNCT fit stage 1:  33%|███▎      | 3131596/9517064 [00:02<00:05, 1254820.43it/s]"
     ]
    },
    {
     "name": "stderr",
     "output_type": "stream",
     "text": [
      "\rDictClassTransformer_PUNCT fit stage 1:  34%|███▍      | 3257124/9517064 [00:02<00:05, 1248942.81it/s]"
     ]
    },
    {
     "name": "stderr",
     "output_type": "stream",
     "text": [
      "\rDictClassTransformer_PUNCT fit stage 1:  36%|███▌      | 3382057/9517064 [00:02<00:04, 1245152.18it/s]"
     ]
    },
    {
     "name": "stderr",
     "output_type": "stream",
     "text": [
      "\rDictClassTransformer_PUNCT fit stage 1:  37%|███▋      | 3508384/9517064 [00:02<00:04, 1250532.19it/s]"
     ]
    },
    {
     "name": "stderr",
     "output_type": "stream",
     "text": [
      "\rDictClassTransformer_PUNCT fit stage 1:  38%|███▊      | 3636565/9517064 [00:03<00:04, 1259750.00it/s]"
     ]
    },
    {
     "name": "stderr",
     "output_type": "stream",
     "text": [
      "\rDictClassTransformer_PUNCT fit stage 1:  40%|███▉      | 3767381/9517064 [00:03<00:04, 1273889.38it/s]"
     ]
    },
    {
     "name": "stderr",
     "output_type": "stream",
     "text": [
      "\rDictClassTransformer_PUNCT fit stage 1:  41%|████      | 3894832/9517064 [00:03<00:04, 1272152.96it/s]"
     ]
    },
    {
     "name": "stderr",
     "output_type": "stream",
     "text": [
      "\rDictClassTransformer_PUNCT fit stage 1:  42%|████▏     | 4022092/9517064 [00:03<00:04, 1267882.96it/s]"
     ]
    },
    {
     "name": "stderr",
     "output_type": "stream",
     "text": [
      "\rDictClassTransformer_PUNCT fit stage 1:  44%|████▎     | 4150606/9517064 [00:03<00:04, 1273007.06it/s]"
     ]
    },
    {
     "name": "stderr",
     "output_type": "stream",
     "text": [
      "\rDictClassTransformer_PUNCT fit stage 1:  45%|████▍     | 4280559/9517064 [00:03<00:04, 1280846.31it/s]"
     ]
    },
    {
     "name": "stderr",
     "output_type": "stream",
     "text": [
      "\rDictClassTransformer_PUNCT fit stage 1:  46%|████▋     | 4408676/9517064 [00:03<00:04, 1267055.84it/s]"
     ]
    },
    {
     "name": "stderr",
     "output_type": "stream",
     "text": [
      "\rDictClassTransformer_PUNCT fit stage 1:  48%|████▊     | 4535438/9517064 [00:03<00:03, 1246687.90it/s]"
     ]
    },
    {
     "name": "stderr",
     "output_type": "stream",
     "text": [
      "\rDictClassTransformer_PUNCT fit stage 1:  49%|████▉     | 4660220/9517064 [00:03<00:03, 1228715.37it/s]"
     ]
    },
    {
     "name": "stderr",
     "output_type": "stream",
     "text": [
      "\rDictClassTransformer_PUNCT fit stage 1:  50%|█████     | 4784578/9517064 [00:03<00:03, 1233136.79it/s]"
     ]
    },
    {
     "name": "stderr",
     "output_type": "stream",
     "text": [
      "\rDictClassTransformer_PUNCT fit stage 1:  52%|█████▏    | 4910677/9517064 [00:04<00:03, 1241358.67it/s]"
     ]
    },
    {
     "name": "stderr",
     "output_type": "stream",
     "text": [
      "\rDictClassTransformer_PUNCT fit stage 1:  53%|█████▎    | 5034896/9517064 [00:04<00:03, 1241381.11it/s]"
     ]
    },
    {
     "name": "stderr",
     "output_type": "stream",
     "text": [
      "\rDictClassTransformer_PUNCT fit stage 1:  54%|█████▍    | 5159093/9517064 [00:04<00:03, 1200329.10it/s]"
     ]
    },
    {
     "name": "stderr",
     "output_type": "stream",
     "text": [
      "\rDictClassTransformer_PUNCT fit stage 1:  56%|█████▌    | 5283030/9517064 [00:04<00:03, 1211776.75it/s]"
     ]
    },
    {
     "name": "stderr",
     "output_type": "stream",
     "text": [
      "\rDictClassTransformer_PUNCT fit stage 1:  57%|█████▋    | 5404469/9517064 [00:04<00:03, 1205679.08it/s]"
     ]
    },
    {
     "name": "stderr",
     "output_type": "stream",
     "text": [
      "\rDictClassTransformer_PUNCT fit stage 1:  58%|█████▊    | 5531383/9517064 [00:04<00:03, 1224040.32it/s]"
     ]
    },
    {
     "name": "stderr",
     "output_type": "stream",
     "text": [
      "\rDictClassTransformer_PUNCT fit stage 1:  59%|█████▉    | 5654111/9517064 [00:04<00:03, 1225006.41it/s]"
     ]
    },
    {
     "name": "stderr",
     "output_type": "stream",
     "text": [
      "\rDictClassTransformer_PUNCT fit stage 1:  61%|██████    | 5780789/9517064 [00:04<00:03, 1237243.20it/s]"
     ]
    },
    {
     "name": "stderr",
     "output_type": "stream",
     "text": [
      "\rDictClassTransformer_PUNCT fit stage 1:  62%|██████▏   | 5904641/9517064 [00:04<00:02, 1235004.68it/s]"
     ]
    },
    {
     "name": "stderr",
     "output_type": "stream",
     "text": [
      "\rDictClassTransformer_PUNCT fit stage 1:  63%|██████▎   | 6028232/9517064 [00:04<00:02, 1234887.17it/s]"
     ]
    },
    {
     "name": "stderr",
     "output_type": "stream",
     "text": [
      "\rDictClassTransformer_PUNCT fit stage 1:  65%|██████▍   | 6155401/9517064 [00:05<00:02, 1245698.38it/s]"
     ]
    },
    {
     "name": "stderr",
     "output_type": "stream",
     "text": [
      "\rDictClassTransformer_PUNCT fit stage 1:  66%|██████▌   | 6280038/9517064 [00:05<00:02, 1233456.48it/s]"
     ]
    },
    {
     "name": "stderr",
     "output_type": "stream",
     "text": [
      "\rDictClassTransformer_PUNCT fit stage 1:  67%|██████▋   | 6405316/9517064 [00:05<00:02, 1239190.13it/s]"
     ]
    },
    {
     "name": "stderr",
     "output_type": "stream",
     "text": [
      "\rDictClassTransformer_PUNCT fit stage 1:  69%|██████▊   | 6533267/9517064 [00:05<00:02, 1251013.57it/s]"
     ]
    },
    {
     "name": "stderr",
     "output_type": "stream",
     "text": [
      "\rDictClassTransformer_PUNCT fit stage 1:  70%|██████▉   | 6658437/9517064 [00:05<00:02, 1234350.95it/s]"
     ]
    },
    {
     "name": "stderr",
     "output_type": "stream",
     "text": [
      "\rDictClassTransformer_PUNCT fit stage 1:  71%|███████▏  | 6781970/9517064 [00:05<00:02, 1222672.28it/s]"
     ]
    },
    {
     "name": "stderr",
     "output_type": "stream",
     "text": [
      "\rDictClassTransformer_PUNCT fit stage 1:  73%|███████▎  | 6904331/9517064 [00:05<00:02, 1216170.68it/s]"
     ]
    },
    {
     "name": "stderr",
     "output_type": "stream",
     "text": [
      "\rDictClassTransformer_PUNCT fit stage 1:  74%|███████▍  | 7029001/9517064 [00:05<00:02, 1225167.36it/s]"
     ]
    },
    {
     "name": "stderr",
     "output_type": "stream",
     "text": [
      "\rDictClassTransformer_PUNCT fit stage 1:  75%|███████▌  | 7152689/9517064 [00:05<00:01, 1228654.65it/s]"
     ]
    },
    {
     "name": "stderr",
     "output_type": "stream",
     "text": [
      "\rDictClassTransformer_PUNCT fit stage 1:  76%|███████▋  | 7279820/9517064 [00:05<00:01, 1241144.53it/s]"
     ]
    },
    {
     "name": "stderr",
     "output_type": "stream",
     "text": [
      "\rDictClassTransformer_PUNCT fit stage 1:  78%|███████▊  | 7404750/9517064 [00:06<00:01, 1243575.90it/s]"
     ]
    },
    {
     "name": "stderr",
     "output_type": "stream",
     "text": [
      "\rDictClassTransformer_PUNCT fit stage 1:  79%|███████▉  | 7531236/9517064 [00:06<00:01, 1249882.35it/s]"
     ]
    },
    {
     "name": "stderr",
     "output_type": "stream",
     "text": [
      "\rDictClassTransformer_PUNCT fit stage 1:  80%|████████  | 7661224/9517064 [00:06<00:01, 1264472.56it/s]"
     ]
    },
    {
     "name": "stderr",
     "output_type": "stream",
     "text": [
      "\rDictClassTransformer_PUNCT fit stage 1:  82%|████████▏ | 7787741/9517064 [00:06<00:01, 1257073.88it/s]"
     ]
    },
    {
     "name": "stderr",
     "output_type": "stream",
     "text": [
      "\rDictClassTransformer_PUNCT fit stage 1:  83%|████████▎ | 7913731/9517064 [00:06<00:01, 1257919.84it/s]"
     ]
    },
    {
     "name": "stderr",
     "output_type": "stream",
     "text": [
      "\rDictClassTransformer_PUNCT fit stage 1:  84%|████████▍ | 8039786/9517064 [00:06<00:01, 1258704.50it/s]"
     ]
    },
    {
     "name": "stderr",
     "output_type": "stream",
     "text": [
      "\rDictClassTransformer_PUNCT fit stage 1:  86%|████████▌ | 8167857/9517064 [00:06<00:01, 1265225.80it/s]"
     ]
    },
    {
     "name": "stderr",
     "output_type": "stream",
     "text": [
      "\rDictClassTransformer_PUNCT fit stage 1:  87%|████████▋ | 8294408/9517064 [00:06<00:00, 1247610.64it/s]"
     ]
    },
    {
     "name": "stderr",
     "output_type": "stream",
     "text": [
      "\rDictClassTransformer_PUNCT fit stage 1:  88%|████████▊ | 8419245/9517064 [00:06<00:00, 1233991.89it/s]"
     ]
    },
    {
     "name": "stderr",
     "output_type": "stream",
     "text": [
      "\rDictClassTransformer_PUNCT fit stage 1:  90%|████████▉ | 8545663/9517064 [00:06<00:00, 1242895.32it/s]"
     ]
    },
    {
     "name": "stderr",
     "output_type": "stream",
     "text": [
      "\rDictClassTransformer_PUNCT fit stage 1:  91%|█████████ | 8671491/9517064 [00:07<00:00, 1247467.89it/s]"
     ]
    },
    {
     "name": "stderr",
     "output_type": "stream",
     "text": [
      "\rDictClassTransformer_PUNCT fit stage 1:  92%|█████████▏| 8797550/9517064 [00:07<00:00, 1251375.22it/s]"
     ]
    },
    {
     "name": "stderr",
     "output_type": "stream",
     "text": [
      "\rDictClassTransformer_PUNCT fit stage 1:  94%|█████████▍| 8922830/9517064 [00:07<00:00, 1251801.77it/s]"
     ]
    },
    {
     "name": "stderr",
     "output_type": "stream",
     "text": [
      "\rDictClassTransformer_PUNCT fit stage 1:  95%|█████████▌| 9048041/9517064 [00:07<00:00, 1239358.67it/s]"
     ]
    },
    {
     "name": "stderr",
     "output_type": "stream",
     "text": [
      "\rDictClassTransformer_PUNCT fit stage 1:  96%|█████████▋| 9175023/9517064 [00:07<00:00, 1248341.98it/s]"
     ]
    },
    {
     "name": "stderr",
     "output_type": "stream",
     "text": [
      "\rDictClassTransformer_PUNCT fit stage 1:  98%|█████████▊| 9299908/9517064 [00:07<00:00, 1248187.67it/s]"
     ]
    },
    {
     "name": "stderr",
     "output_type": "stream",
     "text": [
      "\rDictClassTransformer_PUNCT fit stage 1:  99%|█████████▉| 9424762/9517064 [00:07<00:00, 1247432.87it/s]"
     ]
    },
    {
     "name": "stderr",
     "output_type": "stream",
     "text": [
      "\rDictClassTransformer_PUNCT fit stage 1: 100%|██████████| 9517064/9517064 [00:07<00:00, 1200861.81it/s]"
     ]
    },
    {
     "name": "stderr",
     "output_type": "stream",
     "text": [
      "\n\rDictClassTransformer_PUNCT fit stage 2:   0%|          | 0/22 [00:00<?, ?it/s]"
     ]
    },
    {
     "name": "stderr",
     "output_type": "stream",
     "text": [
      "\rDictClassTransformer_PUNCT fit stage 2: 100%|██████████| 22/22 [00:00<00:00, 39551.95it/s]"
     ]
    },
    {
     "name": "stderr",
     "output_type": "stream",
     "text": [
      "\n"
     ]
    },
    {
     "name": "stderr",
     "output_type": "stream",
     "text": [
      "\rDictClassTransformer_VERBATIM fit stage 1:   0%|          | 0/9517064 [00:00<?, ?it/s]"
     ]
    },
    {
     "name": "stderr",
     "output_type": "stream",
     "text": [
      "\rDictClassTransformer_VERBATIM fit stage 1:   1%|          | 101315/9517064 [00:00<00:09, 1013148.55it/s]"
     ]
    },
    {
     "name": "stderr",
     "output_type": "stream",
     "text": [
      "\rDictClassTransformer_VERBATIM fit stage 1:   2%|▏         | 214721/9517064 [00:00<00:08, 1046622.86it/s]"
     ]
    },
    {
     "name": "stderr",
     "output_type": "stream",
     "text": [
      "\rDictClassTransformer_VERBATIM fit stage 1:   4%|▎         | 334267/9517064 [00:00<00:08, 1087231.18it/s]"
     ]
    },
    {
     "name": "stderr",
     "output_type": "stream",
     "text": [
      "\rDictClassTransformer_VERBATIM fit stage 1:   5%|▍         | 459450/9517064 [00:00<00:08, 1131878.82it/s]"
     ]
    },
    {
     "name": "stderr",
     "output_type": "stream",
     "text": [
      "\rDictClassTransformer_VERBATIM fit stage 1:   6%|▌         | 593284/9517064 [00:00<00:07, 1186763.75it/s]"
     ]
    },
    {
     "name": "stderr",
     "output_type": "stream",
     "text": [
      "\rDictClassTransformer_VERBATIM fit stage 1:   7%|▋         | 696258/9517064 [00:01<00:28, 306645.64it/s] "
     ]
    },
    {
     "name": "stderr",
     "output_type": "stream",
     "text": [
      "\rDictClassTransformer_VERBATIM fit stage 1:   9%|▊         | 821782/9517064 [00:01<00:21, 396547.86it/s]"
     ]
    },
    {
     "name": "stderr",
     "output_type": "stream",
     "text": [
      "\rDictClassTransformer_VERBATIM fit stage 1:  10%|█         | 953150/9517064 [00:01<00:17, 501603.78it/s]"
     ]
    },
    {
     "name": "stderr",
     "output_type": "stream",
     "text": [
      "\rDictClassTransformer_VERBATIM fit stage 1:  11%|█▏        | 1090723/9517064 [00:01<00:13, 619735.47it/s]"
     ]
    },
    {
     "name": "stderr",
     "output_type": "stream",
     "text": [
      "\rDictClassTransformer_VERBATIM fit stage 1:  13%|█▎        | 1230154/9517064 [00:01<00:11, 743674.30it/s]"
     ]
    },
    {
     "name": "stderr",
     "output_type": "stream",
     "text": [
      "\rDictClassTransformer_VERBATIM fit stage 1:  14%|█▍        | 1374559/9517064 [00:01<00:09, 870304.15it/s]"
     ]
    },
    {
     "name": "stderr",
     "output_type": "stream",
     "text": [
      "\rDictClassTransformer_VERBATIM fit stage 1:  16%|█▌        | 1519092/9517064 [00:02<00:08, 988256.21it/s]"
     ]
    },
    {
     "name": "stderr",
     "output_type": "stream",
     "text": [
      "\rDictClassTransformer_VERBATIM fit stage 1:  17%|█▋        | 1664538/9517064 [00:02<00:07, 1093397.16it/s]"
     ]
    },
    {
     "name": "stderr",
     "output_type": "stream",
     "text": [
      "\rDictClassTransformer_VERBATIM fit stage 1:  19%|█▉        | 1805393/9517064 [00:02<00:06, 1172067.28it/s]"
     ]
    },
    {
     "name": "stderr",
     "output_type": "stream",
     "text": [
      "\rDictClassTransformer_VERBATIM fit stage 1:  20%|██        | 1943366/9517064 [00:02<00:06, 1198617.27it/s]"
     ]
    },
    {
     "name": "stderr",
     "output_type": "stream",
     "text": [
      "\rDictClassTransformer_VERBATIM fit stage 1:  22%|██▏       | 2089892/9517064 [00:02<00:05, 1267628.26it/s]"
     ]
    },
    {
     "name": "stderr",
     "output_type": "stream",
     "text": [
      "\rDictClassTransformer_VERBATIM fit stage 1:  23%|██▎       | 2233417/9517064 [00:02<00:05, 1313647.07it/s]"
     ]
    },
    {
     "name": "stderr",
     "output_type": "stream",
     "text": [
      "\rDictClassTransformer_VERBATIM fit stage 1:  25%|██▍       | 2378563/9517064 [00:02<00:05, 1352159.28it/s]"
     ]
    },
    {
     "name": "stderr",
     "output_type": "stream",
     "text": [
      "\rDictClassTransformer_VERBATIM fit stage 1:  27%|██▋       | 2524239/9517064 [00:02<00:05, 1381926.96it/s]"
     ]
    },
    {
     "name": "stderr",
     "output_type": "stream",
     "text": [
      "\rDictClassTransformer_VERBATIM fit stage 1:  28%|██▊       | 2666893/9517064 [00:02<00:05, 1314705.73it/s]"
     ]
    },
    {
     "name": "stderr",
     "output_type": "stream",
     "text": [
      "\rDictClassTransformer_VERBATIM fit stage 1:  30%|██▉       | 2811090/9517064 [00:02<00:04, 1350461.60it/s]"
     ]
    },
    {
     "name": "stderr",
     "output_type": "stream",
     "text": [
      "\rDictClassTransformer_VERBATIM fit stage 1:  31%|███       | 2949044/9517064 [00:03<00:04, 1342471.53it/s]"
     ]
    },
    {
     "name": "stderr",
     "output_type": "stream",
     "text": [
      "\rDictClassTransformer_VERBATIM fit stage 1:  32%|███▏      | 3092230/9517064 [00:03<00:04, 1368090.46it/s]"
     ]
    },
    {
     "name": "stderr",
     "output_type": "stream",
     "text": [
      "\rDictClassTransformer_VERBATIM fit stage 1:  34%|███▍      | 3236112/9517064 [00:03<00:04, 1388567.66it/s]"
     ]
    },
    {
     "name": "stderr",
     "output_type": "stream",
     "text": [
      "\rDictClassTransformer_VERBATIM fit stage 1:  35%|███▌      | 3376130/9517064 [00:03<00:06, 1020382.78it/s]"
     ]
    },
    {
     "name": "stderr",
     "output_type": "stream",
     "text": [
      "\rDictClassTransformer_VERBATIM fit stage 1:  37%|███▋      | 3493054/9517064 [00:03<00:06, 877286.74it/s] "
     ]
    },
    {
     "name": "stderr",
     "output_type": "stream",
     "text": [
      "\rDictClassTransformer_VERBATIM fit stage 1:  38%|███▊      | 3594731/9517064 [00:03<00:07, 748723.68it/s]"
     ]
    },
    {
     "name": "stderr",
     "output_type": "stream",
     "text": [
      "\rDictClassTransformer_VERBATIM fit stage 1:  39%|███▉      | 3715789/9517064 [00:03<00:06, 845493.24it/s]"
     ]
    },
    {
     "name": "stderr",
     "output_type": "stream",
     "text": [
      "\rDictClassTransformer_VERBATIM fit stage 1:  40%|████      | 3839491/9517064 [00:04<00:06, 934195.73it/s]"
     ]
    },
    {
     "name": "stderr",
     "output_type": "stream",
     "text": [
      "\rDictClassTransformer_VERBATIM fit stage 1:  42%|████▏     | 3974566/9517064 [00:04<00:05, 1029433.16it/s]"
     ]
    },
    {
     "name": "stderr",
     "output_type": "stream",
     "text": [
      "\rDictClassTransformer_VERBATIM fit stage 1:  43%|████▎     | 4108882/9517064 [00:04<00:04, 1107002.81it/s]"
     ]
    },
    {
     "name": "stderr",
     "output_type": "stream",
     "text": [
      "\rDictClassTransformer_VERBATIM fit stage 1:  45%|████▍     | 4247520/9517064 [00:04<00:04, 1178229.90it/s]"
     ]
    },
    {
     "name": "stderr",
     "output_type": "stream",
     "text": [
      "\rDictClassTransformer_VERBATIM fit stage 1:  46%|████▌     | 4375819/9517064 [00:04<00:04, 1207816.00it/s]"
     ]
    },
    {
     "name": "stderr",
     "output_type": "stream",
     "text": [
      "\rDictClassTransformer_VERBATIM fit stage 1:  47%|████▋     | 4502423/9517064 [00:04<00:05, 1000516.89it/s]"
     ]
    },
    {
     "name": "stderr",
     "output_type": "stream",
     "text": [
      "\rDictClassTransformer_VERBATIM fit stage 1:  48%|████▊     | 4612478/9517064 [00:04<00:05, 894663.90it/s] "
     ]
    },
    {
     "name": "stderr",
     "output_type": "stream",
     "text": [
      "\rDictClassTransformer_VERBATIM fit stage 1:  50%|████▉     | 4711043/9517064 [00:04<00:05, 893274.31it/s]"
     ]
    },
    {
     "name": "stderr",
     "output_type": "stream",
     "text": [
      "\rDictClassTransformer_VERBATIM fit stage 1:  51%|█████     | 4819744/9517064 [00:04<00:04, 943729.25it/s]"
     ]
    },
    {
     "name": "stderr",
     "output_type": "stream",
     "text": [
      "\rDictClassTransformer_VERBATIM fit stage 1:  52%|█████▏    | 4939345/9517064 [00:05<00:04, 1007483.03it/s]"
     ]
    },
    {
     "name": "stderr",
     "output_type": "stream",
     "text": [
      "\rDictClassTransformer_VERBATIM fit stage 1:  53%|█████▎    | 5072409/9517064 [00:05<00:04, 1086651.62it/s]"
     ]
    },
    {
     "name": "stderr",
     "output_type": "stream",
     "text": [
      "\rDictClassTransformer_VERBATIM fit stage 1:  55%|█████▍    | 5209426/9517064 [00:05<00:03, 1158571.42it/s]"
     ]
    },
    {
     "name": "stderr",
     "output_type": "stream",
     "text": [
      "\rDictClassTransformer_VERBATIM fit stage 1:  56%|█████▌    | 5346686/9517064 [00:05<00:03, 1215421.04it/s]"
     ]
    },
    {
     "name": "stderr",
     "output_type": "stream",
     "text": [
      "\rDictClassTransformer_VERBATIM fit stage 1:  58%|█████▊    | 5484680/9517064 [00:05<00:03, 1260501.98it/s]"
     ]
    },
    {
     "name": "stderr",
     "output_type": "stream",
     "text": [
      "\rDictClassTransformer_VERBATIM fit stage 1:  59%|█████▉    | 5630726/9517064 [00:05<00:02, 1314493.42it/s]"
     ]
    },
    {
     "name": "stderr",
     "output_type": "stream",
     "text": [
      "\rDictClassTransformer_VERBATIM fit stage 1:  61%|██████    | 5780162/9517064 [00:05<00:02, 1363733.50it/s]"
     ]
    },
    {
     "name": "stderr",
     "output_type": "stream",
     "text": [
      "\rDictClassTransformer_VERBATIM fit stage 1:  62%|██████▏   | 5928941/9517064 [00:05<00:02, 1398721.87it/s]"
     ]
    },
    {
     "name": "stderr",
     "output_type": "stream",
     "text": [
      "\rDictClassTransformer_VERBATIM fit stage 1:  64%|██████▍   | 6075527/9517064 [00:05<00:02, 1418204.05it/s]"
     ]
    },
    {
     "name": "stderr",
     "output_type": "stream",
     "text": [
      "\rDictClassTransformer_VERBATIM fit stage 1:  65%|██████▌   | 6220501/9517064 [00:05<00:02, 1427517.21it/s]"
     ]
    },
    {
     "name": "stderr",
     "output_type": "stream",
     "text": [
      "\rDictClassTransformer_VERBATIM fit stage 1:  67%|██████▋   | 6367604/9517064 [00:06<00:02, 1440297.73it/s]"
     ]
    },
    {
     "name": "stderr",
     "output_type": "stream",
     "text": [
      "\rDictClassTransformer_VERBATIM fit stage 1:  69%|██████▊   | 6519353/9517064 [00:06<00:02, 1462614.41it/s]"
     ]
    },
    {
     "name": "stderr",
     "output_type": "stream",
     "text": [
      "\rDictClassTransformer_VERBATIM fit stage 1:  70%|███████   | 6673236/9517064 [00:06<00:01, 1484673.80it/s]"
     ]
    },
    {
     "name": "stderr",
     "output_type": "stream",
     "text": [
      "\rDictClassTransformer_VERBATIM fit stage 1:  72%|███████▏  | 6826500/9517064 [00:06<00:01, 1498741.65it/s]"
     ]
    },
    {
     "name": "stderr",
     "output_type": "stream",
     "text": [
      "\rDictClassTransformer_VERBATIM fit stage 1:  73%|███████▎  | 6976763/9517064 [00:06<00:01, 1498204.65it/s]"
     ]
    },
    {
     "name": "stderr",
     "output_type": "stream",
     "text": [
      "\rDictClassTransformer_VERBATIM fit stage 1:  75%|███████▍  | 7127672/9517064 [00:06<00:01, 1501450.95it/s]"
     ]
    },
    {
     "name": "stderr",
     "output_type": "stream",
     "text": [
      "\rDictClassTransformer_VERBATIM fit stage 1:  77%|███████▋  | 7284051/9517064 [00:06<00:01, 1519623.85it/s]"
     ]
    },
    {
     "name": "stderr",
     "output_type": "stream",
     "text": [
      "\rDictClassTransformer_VERBATIM fit stage 1:  78%|███████▊  | 7437190/9517064 [00:06<00:01, 1523130.76it/s]"
     ]
    },
    {
     "name": "stderr",
     "output_type": "stream",
     "text": [
      "\rDictClassTransformer_VERBATIM fit stage 1:  80%|███████▉  | 7592024/9517064 [00:06<00:01, 1530606.27it/s]"
     ]
    },
    {
     "name": "stderr",
     "output_type": "stream",
     "text": [
      "\rDictClassTransformer_VERBATIM fit stage 1:  81%|████████▏ | 7749336/9517064 [00:06<00:01, 1543113.24it/s]"
     ]
    },
    {
     "name": "stderr",
     "output_type": "stream",
     "text": [
      "\rDictClassTransformer_VERBATIM fit stage 1:  83%|████████▎ | 7903743/9517064 [00:07<00:01, 1543061.90it/s]"
     ]
    },
    {
     "name": "stderr",
     "output_type": "stream",
     "text": [
      "\rDictClassTransformer_VERBATIM fit stage 1:  85%|████████▍ | 8059946/9517064 [00:07<00:00, 1548703.13it/s]"
     ]
    },
    {
     "name": "stderr",
     "output_type": "stream",
     "text": [
      "\rDictClassTransformer_VERBATIM fit stage 1:  86%|████████▋ | 8219334/9517064 [00:07<00:00, 1561979.94it/s]"
     ]
    },
    {
     "name": "stderr",
     "output_type": "stream",
     "text": [
      "\rDictClassTransformer_VERBATIM fit stage 1:  88%|████████▊ | 8375596/9517064 [00:07<00:00, 1555204.25it/s]"
     ]
    },
    {
     "name": "stderr",
     "output_type": "stream",
     "text": [
      "\rDictClassTransformer_VERBATIM fit stage 1:  90%|████████▉ | 8531168/9517064 [00:07<00:00, 1480378.48it/s]"
     ]
    },
    {
     "name": "stderr",
     "output_type": "stream",
     "text": [
      "\rDictClassTransformer_VERBATIM fit stage 1:  91%|█████████ | 8680672/9517064 [00:07<00:00, 1484744.96it/s]"
     ]
    },
    {
     "name": "stderr",
     "output_type": "stream",
     "text": [
      "\rDictClassTransformer_VERBATIM fit stage 1:  93%|█████████▎| 8836012/9517064 [00:07<00:00, 1504692.99it/s]"
     ]
    },
    {
     "name": "stderr",
     "output_type": "stream",
     "text": [
      "\rDictClassTransformer_VERBATIM fit stage 1:  94%|█████████▍| 8987926/9517064 [00:07<00:00, 1508997.52it/s]"
     ]
    },
    {
     "name": "stderr",
     "output_type": "stream",
     "text": [
      "\rDictClassTransformer_VERBATIM fit stage 1:  96%|█████████▌| 9141429/9517064 [00:07<00:00, 1516710.22it/s]"
     ]
    },
    {
     "name": "stderr",
     "output_type": "stream",
     "text": [
      "\rDictClassTransformer_VERBATIM fit stage 1:  98%|█████████▊| 9296377/9517064 [00:07<00:00, 1526394.04it/s]"
     ]
    },
    {
     "name": "stderr",
     "output_type": "stream",
     "text": [
      "\rDictClassTransformer_VERBATIM fit stage 1:  99%|█████████▉| 9450912/9517064 [00:08<00:00, 1532027.91it/s]"
     ]
    },
    {
     "name": "stderr",
     "output_type": "stream",
     "text": [
      "\rDictClassTransformer_VERBATIM fit stage 1: 100%|██████████| 9517064/9517064 [00:08<00:00, 1144156.49it/s]"
     ]
    },
    {
     "name": "stderr",
     "output_type": "stream",
     "text": [
      "\n\rDictClassTransformer_VERBATIM fit stage 2:   0%|          | 0/2406 [00:00<?, ?it/s]"
     ]
    },
    {
     "name": "stderr",
     "output_type": "stream",
     "text": [
      "\rDictClassTransformer_VERBATIM fit stage 2: 100%|██████████| 2406/2406 [00:00<00:00, 140777.52it/s]"
     ]
    },
    {
     "name": "stderr",
     "output_type": "stream",
     "text": [
      "\n"
     ]
    },
    {
     "name": "stderr",
     "output_type": "stream",
     "text": [
      "\rDictNBHDTransformer fit stage 1:   0%|          | 0/9517064 [00:00<?, ?it/s]"
     ]
    },
    {
     "name": "stderr",
     "output_type": "stream",
     "text": [
      "\rDictNBHDTransformer fit stage 1:   0%|          | 681/9517064 [00:01<6:32:12, 404.39it/s]"
     ]
    },
    {
     "name": "stderr",
     "output_type": "stream",
     "text": [
      "\rDictNBHDTransformer fit stage 1:   0%|          | 4949/9517064 [00:03<4:52:51, 541.32it/s]"
     ]
    },
    {
     "name": "stderr",
     "output_type": "stream",
     "text": [
      "\rDictNBHDTransformer fit stage 1:   0%|          | 18346/9517064 [00:03<3:25:04, 771.98it/s]"
     ]
    },
    {
     "name": "stderr",
     "output_type": "stream",
     "text": [
      "\rDictNBHDTransformer fit stage 1:   0%|          | 32217/9517064 [00:03<2:23:40, 1100.21it/s]"
     ]
    },
    {
     "name": "stderr",
     "output_type": "stream",
     "text": [
      "\rDictNBHDTransformer fit stage 1:   0%|          | 45838/9517064 [00:03<1:40:46, 1566.31it/s]"
     ]
    },
    {
     "name": "stderr",
     "output_type": "stream",
     "text": [
      "\rDictNBHDTransformer fit stage 1:   1%|          | 56641/9517064 [00:03<1:10:54, 2223.76it/s]"
     ]
    },
    {
     "name": "stderr",
     "output_type": "stream",
     "text": [
      "\rDictNBHDTransformer fit stage 1:   1%|          | 70870/9517064 [00:03<49:53, 3155.66it/s]  "
     ]
    },
    {
     "name": "stderr",
     "output_type": "stream",
     "text": [
      "\rDictNBHDTransformer fit stage 1:   1%|          | 85477/9517064 [00:03<35:11, 4466.73it/s]"
     ]
    },
    {
     "name": "stderr",
     "output_type": "stream",
     "text": [
      "\rDictNBHDTransformer fit stage 1:   1%|          | 99509/9517064 [00:04<24:55, 6295.16it/s]"
     ]
    },
    {
     "name": "stderr",
     "output_type": "stream",
     "text": [
      "\rDictNBHDTransformer fit stage 1:   1%|          | 114801/9517064 [00:04<17:43, 8837.17it/s]"
     ]
    },
    {
     "name": "stderr",
     "output_type": "stream",
     "text": [
      "\rDictNBHDTransformer fit stage 1:   1%|▏         | 128237/9517064 [00:04<12:46, 12254.10it/s]"
     ]
    },
    {
     "name": "stderr",
     "output_type": "stream",
     "text": [
      "\rDictNBHDTransformer fit stage 1:   1%|▏         | 141401/9517064 [00:04<09:25, 16586.41it/s]"
     ]
    },
    {
     "name": "stderr",
     "output_type": "stream",
     "text": [
      "\rDictNBHDTransformer fit stage 1:   2%|▏         | 155226/9517064 [00:04<06:55, 22535.99it/s]"
     ]
    },
    {
     "name": "stderr",
     "output_type": "stream",
     "text": [
      "\rDictNBHDTransformer fit stage 1:   2%|▏         | 167813/9517064 [00:04<05:13, 29861.66it/s]"
     ]
    },
    {
     "name": "stderr",
     "output_type": "stream",
     "text": [
      "\rDictNBHDTransformer fit stage 1:   2%|▏         | 180333/9517064 [00:04<04:01, 38596.87it/s]"
     ]
    },
    {
     "name": "stderr",
     "output_type": "stream",
     "text": [
      "\rDictNBHDTransformer fit stage 1:   2%|▏         | 193847/9517064 [00:04<03:09, 49125.31it/s]"
     ]
    },
    {
     "name": "stderr",
     "output_type": "stream",
     "text": [
      "\rDictNBHDTransformer fit stage 1:   2%|▏         | 206590/9517064 [00:05<03:06, 50006.58it/s]"
     ]
    },
    {
     "name": "stderr",
     "output_type": "stream",
     "text": [
      "\rDictNBHDTransformer fit stage 1:   2%|▏         | 217076/9517064 [00:05<03:17, 47196.54it/s]"
     ]
    },
    {
     "name": "stderr",
     "output_type": "stream",
     "text": [
      "\rDictNBHDTransformer fit stage 1:   2%|▏         | 231158/9517064 [00:05<02:37, 58954.59it/s]"
     ]
    },
    {
     "name": "stderr",
     "output_type": "stream",
     "text": [
      "\rDictNBHDTransformer fit stage 1:   3%|▎         | 245017/9517064 [00:05<02:10, 71233.83it/s]"
     ]
    },
    {
     "name": "stderr",
     "output_type": "stream",
     "text": [
      "\rDictNBHDTransformer fit stage 1:   3%|▎         | 260353/9517064 [00:05<01:49, 84867.84it/s]"
     ]
    },
    {
     "name": "stderr",
     "output_type": "stream",
     "text": [
      "\rDictNBHDTransformer fit stage 1:   3%|▎         | 275633/9517064 [00:05<01:34, 97928.89it/s]"
     ]
    },
    {
     "name": "stderr",
     "output_type": "stream",
     "text": [
      "\rDictNBHDTransformer fit stage 1:   3%|▎         | 290895/9517064 [00:05<01:24, 109724.31it/s]"
     ]
    },
    {
     "name": "stderr",
     "output_type": "stream",
     "text": [
      "\rDictNBHDTransformer fit stage 1:   3%|▎         | 306139/9517064 [00:05<01:16, 119794.15it/s]"
     ]
    },
    {
     "name": "stderr",
     "output_type": "stream",
     "text": [
      "\rDictNBHDTransformer fit stage 1:   3%|▎         | 321475/9517064 [00:05<01:11, 128212.05it/s]"
     ]
    },
    {
     "name": "stderr",
     "output_type": "stream",
     "text": [
      "\rDictNBHDTransformer fit stage 1:   4%|▎         | 336934/9517064 [00:06<01:07, 135128.61it/s]"
     ]
    },
    {
     "name": "stderr",
     "output_type": "stream",
     "text": [
      "\rDictNBHDTransformer fit stage 1:   4%|▎         | 351977/9517064 [00:06<01:05, 139379.52it/s]"
     ]
    },
    {
     "name": "stderr",
     "output_type": "stream",
     "text": [
      "\rDictNBHDTransformer fit stage 1:   4%|▍         | 367809/9517064 [00:06<01:03, 144567.01it/s]"
     ]
    },
    {
     "name": "stderr",
     "output_type": "stream",
     "text": [
      "\rDictNBHDTransformer fit stage 1:   4%|▍         | 383007/9517064 [00:06<01:06, 138299.70it/s]"
     ]
    },
    {
     "name": "stderr",
     "output_type": "stream",
     "text": [
      "\rDictNBHDTransformer fit stage 1:   4%|▍         | 397413/9517064 [00:06<01:07, 134271.38it/s]"
     ]
    },
    {
     "name": "stderr",
     "output_type": "stream",
     "text": [
      "\rDictNBHDTransformer fit stage 1:   4%|▍         | 412942/9517064 [00:06<01:05, 139953.84it/s]"
     ]
    },
    {
     "name": "stderr",
     "output_type": "stream",
     "text": [
      "\rDictNBHDTransformer fit stage 1:   5%|▍         | 428320/9517064 [00:06<01:03, 143832.57it/s]"
     ]
    },
    {
     "name": "stderr",
     "output_type": "stream",
     "text": [
      "\rDictNBHDTransformer fit stage 1:   5%|▍         | 444870/9517064 [00:06<01:00, 149712.29it/s]"
     ]
    },
    {
     "name": "stderr",
     "output_type": "stream",
     "text": [
      "\rDictNBHDTransformer fit stage 1:   5%|▍         | 461186/9517064 [00:06<00:58, 153507.06it/s]"
     ]
    },
    {
     "name": "stderr",
     "output_type": "stream",
     "text": [
      "\rDictNBHDTransformer fit stage 1:   5%|▌         | 477941/9517064 [00:07<00:57, 157465.06it/s]"
     ]
    },
    {
     "name": "stderr",
     "output_type": "stream",
     "text": [
      "\rDictNBHDTransformer fit stage 1:   5%|▌         | 494532/9517064 [00:07<00:56, 159906.48it/s]"
     ]
    },
    {
     "name": "stderr",
     "output_type": "stream",
     "text": [
      "\rDictNBHDTransformer fit stage 1:   5%|▌         | 511050/9517064 [00:07<00:55, 161450.85it/s]"
     ]
    },
    {
     "name": "stderr",
     "output_type": "stream",
     "text": [
      "\rDictNBHDTransformer fit stage 1:   6%|▌         | 527484/9517064 [00:07<00:55, 162305.43it/s]"
     ]
    },
    {
     "name": "stderr",
     "output_type": "stream",
     "text": [
      "\rDictNBHDTransformer fit stage 1:   6%|▌         | 543781/9517064 [00:07<00:55, 161951.47it/s]"
     ]
    },
    {
     "name": "stderr",
     "output_type": "stream",
     "text": [
      "\rDictNBHDTransformer fit stage 1:   6%|▌         | 560127/9517064 [00:07<00:55, 162396.06it/s]"
     ]
    },
    {
     "name": "stderr",
     "output_type": "stream",
     "text": [
      "\rDictNBHDTransformer fit stage 1:   6%|▌         | 577284/9517064 [00:07<00:54, 165042.58it/s]"
     ]
    },
    {
     "name": "stderr",
     "output_type": "stream",
     "text": [
      "\rDictNBHDTransformer fit stage 1:   6%|▌         | 594055/9517064 [00:07<00:53, 165832.84it/s]"
     ]
    },
    {
     "name": "stderr",
     "output_type": "stream",
     "text": [
      "\rDictNBHDTransformer fit stage 1:   6%|▋         | 610663/9517064 [00:07<00:53, 165702.84it/s]"
     ]
    },
    {
     "name": "stderr",
     "output_type": "stream",
     "text": [
      "\rDictNBHDTransformer fit stage 1:   7%|▋         | 627524/9517064 [00:07<00:53, 166564.34it/s]"
     ]
    },
    {
     "name": "stderr",
     "output_type": "stream",
     "text": [
      "\rDictNBHDTransformer fit stage 1:   7%|▋         | 644194/9517064 [00:08<00:53, 166440.75it/s]"
     ]
    },
    {
     "name": "stderr",
     "output_type": "stream",
     "text": [
      "\rDictNBHDTransformer fit stage 1:   7%|▋         | 660914/9517064 [00:08<00:53, 166667.73it/s]"
     ]
    },
    {
     "name": "stderr",
     "output_type": "stream",
     "text": [
      "\rDictNBHDTransformer fit stage 1:   7%|▋         | 677588/9517064 [00:11<08:16, 17794.70it/s] "
     ]
    },
    {
     "name": "stderr",
     "output_type": "stream",
     "text": [
      "\rDictNBHDTransformer fit stage 1:   7%|▋         | 692625/9517064 [00:11<06:04, 24193.91it/s]"
     ]
    },
    {
     "name": "stderr",
     "output_type": "stream",
     "text": [
      "\rDictNBHDTransformer fit stage 1:   7%|▋         | 708263/9517064 [00:11<04:31, 32413.52it/s]"
     ]
    },
    {
     "name": "stderr",
     "output_type": "stream",
     "text": [
      "\rDictNBHDTransformer fit stage 1:   8%|▊         | 724258/9517064 [00:11<03:26, 42604.67it/s]"
     ]
    },
    {
     "name": "stderr",
     "output_type": "stream",
     "text": [
      "\rDictNBHDTransformer fit stage 1:   8%|▊         | 739397/9517064 [00:11<02:41, 54312.93it/s]"
     ]
    },
    {
     "name": "stderr",
     "output_type": "stream",
     "text": [
      "\rDictNBHDTransformer fit stage 1:   8%|▊         | 753988/9517064 [00:11<02:11, 66644.40it/s]"
     ]
    },
    {
     "name": "stderr",
     "output_type": "stream",
     "text": [
      "\rDictNBHDTransformer fit stage 1:   8%|▊         | 770190/9517064 [00:11<01:48, 80937.55it/s]"
     ]
    },
    {
     "name": "stderr",
     "output_type": "stream",
     "text": [
      "\rDictNBHDTransformer fit stage 1:   8%|▊         | 786415/9517064 [00:11<01:31, 95258.11it/s]"
     ]
    },
    {
     "name": "stderr",
     "output_type": "stream",
     "text": [
      "\rDictNBHDTransformer fit stage 1:   8%|▊         | 802902/9517064 [00:11<01:19, 109074.06it/s]"
     ]
    },
    {
     "name": "stderr",
     "output_type": "stream",
     "text": [
      "\rDictNBHDTransformer fit stage 1:   9%|▊         | 818599/9517064 [00:11<01:20, 107843.48it/s]"
     ]
    },
    {
     "name": "stderr",
     "output_type": "stream",
     "text": [
      "\rDictNBHDTransformer fit stage 1:   9%|▉         | 834449/9517064 [00:12<01:12, 119279.54it/s]"
     ]
    },
    {
     "name": "stderr",
     "output_type": "stream",
     "text": [
      "\rDictNBHDTransformer fit stage 1:   9%|▉         | 851244/9517064 [00:12<01:06, 130635.85it/s]"
     ]
    },
    {
     "name": "stderr",
     "output_type": "stream",
     "text": [
      "\rDictNBHDTransformer fit stage 1:   9%|▉         | 868183/9517064 [00:12<01:01, 140262.21it/s]"
     ]
    },
    {
     "name": "stderr",
     "output_type": "stream",
     "text": [
      "\rDictNBHDTransformer fit stage 1:   9%|▉         | 884847/9517064 [00:12<00:58, 147253.55it/s]"
     ]
    },
    {
     "name": "stderr",
     "output_type": "stream",
     "text": [
      "\rDictNBHDTransformer fit stage 1:   9%|▉         | 902110/9517064 [00:12<00:55, 154045.64it/s]"
     ]
    },
    {
     "name": "stderr",
     "output_type": "stream",
     "text": [
      "\rDictNBHDTransformer fit stage 1:  10%|▉         | 918969/9517064 [00:12<00:54, 158136.69it/s]"
     ]
    },
    {
     "name": "stderr",
     "output_type": "stream",
     "text": [
      "\rDictNBHDTransformer fit stage 1:  10%|▉         | 936608/9517064 [00:12<00:52, 163194.71it/s]"
     ]
    },
    {
     "name": "stderr",
     "output_type": "stream",
     "text": [
      "\rDictNBHDTransformer fit stage 1:  10%|█         | 953542/9517064 [00:12<00:51, 164988.92it/s]"
     ]
    },
    {
     "name": "stderr",
     "output_type": "stream",
     "text": [
      "\rDictNBHDTransformer fit stage 1:  10%|█         | 970434/9517064 [00:12<00:51, 165838.25it/s]"
     ]
    },
    {
     "name": "stderr",
     "output_type": "stream",
     "text": [
      "\rDictNBHDTransformer fit stage 1:  10%|█         | 987294/9517064 [00:12<00:51, 164745.07it/s]"
     ]
    },
    {
     "name": "stderr",
     "output_type": "stream",
     "text": [
      "\rDictNBHDTransformer fit stage 1:  11%|█         | 1003964/9517064 [00:13<00:51, 163935.24it/s]"
     ]
    },
    {
     "name": "stderr",
     "output_type": "stream",
     "text": [
      "\rDictNBHDTransformer fit stage 1:  11%|█         | 1020495/9517064 [00:13<00:51, 164320.66it/s]"
     ]
    },
    {
     "name": "stderr",
     "output_type": "stream",
     "text": [
      "\rDictNBHDTransformer fit stage 1:  11%|█         | 1037723/9517064 [00:13<00:50, 166629.62it/s]"
     ]
    },
    {
     "name": "stderr",
     "output_type": "stream",
     "text": [
      "\rDictNBHDTransformer fit stage 1:  11%|█         | 1054732/9517064 [00:13<00:50, 167651.84it/s]"
     ]
    },
    {
     "name": "stderr",
     "output_type": "stream",
     "text": [
      "\rDictNBHDTransformer fit stage 1:  11%|█▏        | 1071622/9517064 [00:13<00:50, 168022.72it/s]"
     ]
    },
    {
     "name": "stderr",
     "output_type": "stream",
     "text": [
      "\rDictNBHDTransformer fit stage 1:  11%|█▏        | 1088463/9517064 [00:13<00:51, 163823.81it/s]"
     ]
    },
    {
     "name": "stderr",
     "output_type": "stream",
     "text": [
      "\rDictNBHDTransformer fit stage 1:  12%|█▏        | 1105552/9517064 [00:13<00:50, 165881.01it/s]"
     ]
    },
    {
     "name": "stderr",
     "output_type": "stream",
     "text": [
      "\rDictNBHDTransformer fit stage 1:  12%|█▏        | 1122182/9517064 [00:13<00:51, 164268.46it/s]"
     ]
    },
    {
     "name": "stderr",
     "output_type": "stream",
     "text": [
      "\rDictNBHDTransformer fit stage 1:  12%|█▏        | 1138934/9517064 [00:13<00:50, 165230.06it/s]"
     ]
    },
    {
     "name": "stderr",
     "output_type": "stream",
     "text": [
      "\rDictNBHDTransformer fit stage 1:  12%|█▏        | 1155739/9517064 [00:13<00:50, 166063.63it/s]"
     ]
    },
    {
     "name": "stderr",
     "output_type": "stream",
     "text": [
      "\rDictNBHDTransformer fit stage 1:  12%|█▏        | 1172364/9517064 [00:14<00:50, 165723.60it/s]"
     ]
    },
    {
     "name": "stderr",
     "output_type": "stream",
     "text": [
      "\rDictNBHDTransformer fit stage 1:  12%|█▏        | 1189047/9517064 [00:14<00:50, 166045.15it/s]"
     ]
    },
    {
     "name": "stderr",
     "output_type": "stream",
     "text": [
      "\rDictNBHDTransformer fit stage 1:  13%|█▎        | 1206336/9517064 [00:14<00:49, 168038.49it/s]"
     ]
    },
    {
     "name": "stderr",
     "output_type": "stream",
     "text": [
      "\rDictNBHDTransformer fit stage 1:  13%|█▎        | 1223152/9517064 [00:14<00:49, 168008.91it/s]"
     ]
    },
    {
     "name": "stderr",
     "output_type": "stream",
     "text": [
      "\rDictNBHDTransformer fit stage 1:  13%|█▎        | 1239962/9517064 [00:14<00:49, 167873.28it/s]"
     ]
    },
    {
     "name": "stderr",
     "output_type": "stream",
     "text": [
      "\rDictNBHDTransformer fit stage 1:  13%|█▎        | 1256756/9517064 [00:14<00:49, 166804.24it/s]"
     ]
    },
    {
     "name": "stderr",
     "output_type": "stream",
     "text": [
      "\rDictNBHDTransformer fit stage 1:  13%|█▎        | 1273443/9517064 [00:14<00:49, 166365.89it/s]"
     ]
    },
    {
     "name": "stderr",
     "output_type": "stream",
     "text": [
      "\rDictNBHDTransformer fit stage 1:  14%|█▎        | 1290084/9517064 [00:14<00:50, 164352.44it/s]"
     ]
    },
    {
     "name": "stderr",
     "output_type": "stream",
     "text": [
      "\rDictNBHDTransformer fit stage 1:  14%|█▎        | 1306863/9517064 [00:14<00:49, 165367.36it/s]"
     ]
    },
    {
     "name": "stderr",
     "output_type": "stream",
     "text": [
      "\rDictNBHDTransformer fit stage 1:  14%|█▍        | 1323408/9517064 [00:14<00:49, 164899.71it/s]"
     ]
    },
    {
     "name": "stderr",
     "output_type": "stream",
     "text": [
      "\rDictNBHDTransformer fit stage 1:  14%|█▍        | 1339904/9517064 [00:15<00:49, 164758.55it/s]"
     ]
    },
    {
     "name": "stderr",
     "output_type": "stream",
     "text": [
      "\rDictNBHDTransformer fit stage 1:  14%|█▍        | 1356498/9517064 [00:15<00:49, 165109.38it/s]"
     ]
    },
    {
     "name": "stderr",
     "output_type": "stream",
     "text": [
      "\rDictNBHDTransformer fit stage 1:  14%|█▍        | 1373660/9517064 [00:15<00:48, 167009.68it/s]"
     ]
    },
    {
     "name": "stderr",
     "output_type": "stream",
     "text": [
      "\rDictNBHDTransformer fit stage 1:  15%|█▍        | 1390369/9517064 [00:15<00:48, 166648.82it/s]"
     ]
    },
    {
     "name": "stderr",
     "output_type": "stream",
     "text": [
      "\rDictNBHDTransformer fit stage 1:  15%|█▍        | 1407040/9517064 [00:15<00:48, 165627.94it/s]"
     ]
    },
    {
     "name": "stderr",
     "output_type": "stream",
     "text": [
      "\rDictNBHDTransformer fit stage 1:  15%|█▍        | 1423608/9517064 [00:15<00:49, 164794.07it/s]"
     ]
    },
    {
     "name": "stderr",
     "output_type": "stream",
     "text": [
      "\rDictNBHDTransformer fit stage 1:  15%|█▌        | 1440230/9517064 [00:15<00:48, 165218.85it/s]"
     ]
    },
    {
     "name": "stderr",
     "output_type": "stream",
     "text": [
      "\rDictNBHDTransformer fit stage 1:  15%|█▌        | 1456756/9517064 [00:15<00:49, 164052.07it/s]"
     ]
    },
    {
     "name": "stderr",
     "output_type": "stream",
     "text": [
      "\rDictNBHDTransformer fit stage 1:  15%|█▌        | 1473732/9517064 [00:15<00:48, 165721.81it/s]"
     ]
    },
    {
     "name": "stderr",
     "output_type": "stream",
     "text": [
      "\rDictNBHDTransformer fit stage 1:  16%|█▌        | 1490413/9517064 [00:16<00:48, 166045.76it/s]"
     ]
    },
    {
     "name": "stderr",
     "output_type": "stream",
     "text": [
      "\rDictNBHDTransformer fit stage 1:  16%|█▌        | 1507023/9517064 [00:16<00:48, 165749.28it/s]"
     ]
    },
    {
     "name": "stderr",
     "output_type": "stream",
     "text": [
      "\rDictNBHDTransformer fit stage 1:  16%|█▌        | 1524381/9517064 [00:16<00:47, 168021.36it/s]"
     ]
    },
    {
     "name": "stderr",
     "output_type": "stream",
     "text": [
      "\rDictNBHDTransformer fit stage 1:  16%|█▌        | 1541721/9517064 [00:16<00:47, 169598.09it/s]"
     ]
    },
    {
     "name": "stderr",
     "output_type": "stream",
     "text": [
      "\rDictNBHDTransformer fit stage 1:  16%|█▋        | 1559177/9517064 [00:16<00:46, 171054.68it/s]"
     ]
    },
    {
     "name": "stderr",
     "output_type": "stream",
     "text": [
      "\rDictNBHDTransformer fit stage 1:  17%|█▋        | 1576307/9517064 [00:16<00:46, 171126.30it/s]"
     ]
    },
    {
     "name": "stderr",
     "output_type": "stream",
     "text": [
      "\rDictNBHDTransformer fit stage 1:  17%|█▋        | 1593427/9517064 [00:16<00:46, 170057.84it/s]"
     ]
    },
    {
     "name": "stderr",
     "output_type": "stream",
     "text": [
      "\rDictNBHDTransformer fit stage 1:  17%|█▋        | 1610723/9517064 [00:16<00:46, 170917.29it/s]"
     ]
    },
    {
     "name": "stderr",
     "output_type": "stream",
     "text": [
      "\rDictNBHDTransformer fit stage 1:  17%|█▋        | 1627821/9517064 [00:16<00:46, 170688.74it/s]"
     ]
    },
    {
     "name": "stderr",
     "output_type": "stream",
     "text": [
      "\rDictNBHDTransformer fit stage 1:  17%|█▋        | 1644894/9517064 [00:16<00:46, 169169.21it/s]"
     ]
    },
    {
     "name": "stderr",
     "output_type": "stream",
     "text": [
      "\rDictNBHDTransformer fit stage 1:  17%|█▋        | 1661817/9517064 [00:17<00:47, 165944.90it/s]"
     ]
    },
    {
     "name": "stderr",
     "output_type": "stream",
     "text": [
      "\rDictNBHDTransformer fit stage 1:  18%|█▊        | 1678430/9517064 [00:17<01:02, 124549.83it/s]"
     ]
    },
    {
     "name": "stderr",
     "output_type": "stream",
     "text": [
      "\rDictNBHDTransformer fit stage 1:  18%|█▊        | 1695092/9517064 [00:17<00:58, 134756.70it/s]"
     ]
    },
    {
     "name": "stderr",
     "output_type": "stream",
     "text": [
      "\rDictNBHDTransformer fit stage 1:  18%|█▊        | 1711284/9517064 [00:17<00:55, 141895.76it/s]"
     ]
    },
    {
     "name": "stderr",
     "output_type": "stream",
     "text": [
      "\rDictNBHDTransformer fit stage 1:  18%|█▊        | 1726496/9517064 [00:19<06:55, 18763.85it/s] "
     ]
    },
    {
     "name": "stderr",
     "output_type": "stream",
     "text": [
      "\rDictNBHDTransformer fit stage 1:  18%|█▊        | 1739677/9517064 [00:19<05:07, 25264.06it/s]"
     ]
    },
    {
     "name": "stderr",
     "output_type": "stream",
     "text": [
      "\rDictNBHDTransformer fit stage 1:  18%|█▊        | 1751216/9517064 [00:20<03:57, 32742.56it/s]"
     ]
    },
    {
     "name": "stderr",
     "output_type": "stream",
     "text": [
      "\rDictNBHDTransformer fit stage 1:  19%|█▊        | 1765027/9517064 [00:20<03:02, 42442.91it/s]"
     ]
    },
    {
     "name": "stderr",
     "output_type": "stream",
     "text": [
      "\rDictNBHDTransformer fit stage 1:  19%|█▊        | 1780801/9517064 [00:20<02:22, 54363.54it/s]"
     ]
    },
    {
     "name": "stderr",
     "output_type": "stream",
     "text": [
      "\rDictNBHDTransformer fit stage 1:  19%|█▉        | 1797412/9517064 [00:20<01:53, 68108.41it/s]"
     ]
    },
    {
     "name": "stderr",
     "output_type": "stream",
     "text": [
      "\rDictNBHDTransformer fit stage 1:  19%|█▉        | 1812870/9517064 [00:20<01:34, 81842.51it/s]"
     ]
    },
    {
     "name": "stderr",
     "output_type": "stream",
     "text": [
      "\rDictNBHDTransformer fit stage 1:  19%|█▉        | 1829340/9517064 [00:20<01:19, 96276.58it/s]"
     ]
    },
    {
     "name": "stderr",
     "output_type": "stream",
     "text": [
      "\rDictNBHDTransformer fit stage 1:  19%|█▉        | 1846445/9517064 [00:20<01:09, 110807.27it/s]"
     ]
    },
    {
     "name": "stderr",
     "output_type": "stream",
     "text": [
      "\rDictNBHDTransformer fit stage 1:  20%|█▉        | 1862483/9517064 [00:20<01:02, 122130.74it/s]"
     ]
    },
    {
     "name": "stderr",
     "output_type": "stream",
     "text": [
      "\rDictNBHDTransformer fit stage 1:  20%|█▉        | 1879857/9517064 [00:20<00:56, 134078.00it/s]"
     ]
    },
    {
     "name": "stderr",
     "output_type": "stream",
     "text": [
      "\rDictNBHDTransformer fit stage 1:  20%|█▉        | 1897617/9517064 [00:20<00:52, 144715.34it/s]"
     ]
    },
    {
     "name": "stderr",
     "output_type": "stream",
     "text": [
      "\rDictNBHDTransformer fit stage 1:  20%|██        | 1914580/9517064 [00:21<00:50, 151384.24it/s]"
     ]
    },
    {
     "name": "stderr",
     "output_type": "stream",
     "text": [
      "\rDictNBHDTransformer fit stage 1:  20%|██        | 1931595/9517064 [00:21<00:48, 156563.17it/s]"
     ]
    },
    {
     "name": "stderr",
     "output_type": "stream",
     "text": [
      "\rDictNBHDTransformer fit stage 1:  20%|██        | 1948454/9517064 [00:21<00:47, 159297.21it/s]"
     ]
    },
    {
     "name": "stderr",
     "output_type": "stream",
     "text": [
      "\rDictNBHDTransformer fit stage 1:  21%|██        | 1965238/9517064 [00:21<00:46, 161442.83it/s]"
     ]
    },
    {
     "name": "stderr",
     "output_type": "stream",
     "text": [
      "\rDictNBHDTransformer fit stage 1:  21%|██        | 1982085/9517064 [00:21<00:46, 163486.65it/s]"
     ]
    },
    {
     "name": "stderr",
     "output_type": "stream",
     "text": [
      "\rDictNBHDTransformer fit stage 1:  21%|██        | 1998863/9517064 [00:21<00:45, 164434.66it/s]"
     ]
    },
    {
     "name": "stderr",
     "output_type": "stream",
     "text": [
      "\rDictNBHDTransformer fit stage 1:  21%|██        | 2015629/9517064 [00:21<00:45, 165388.62it/s]"
     ]
    },
    {
     "name": "stderr",
     "output_type": "stream",
     "text": [
      "\rDictNBHDTransformer fit stage 1:  21%|██▏       | 2032597/9517064 [00:21<00:44, 166652.06it/s]"
     ]
    },
    {
     "name": "stderr",
     "output_type": "stream",
     "text": [
      "\rDictNBHDTransformer fit stage 1:  22%|██▏       | 2049414/9517064 [00:21<00:44, 166532.70it/s]"
     ]
    },
    {
     "name": "stderr",
     "output_type": "stream",
     "text": [
      "\rDictNBHDTransformer fit stage 1:  22%|██▏       | 2066986/9517064 [00:21<00:44, 169184.82it/s]"
     ]
    },
    {
     "name": "stderr",
     "output_type": "stream",
     "text": [
      "\rDictNBHDTransformer fit stage 1:  22%|██▏       | 2083989/9517064 [00:22<00:43, 169079.73it/s]"
     ]
    },
    {
     "name": "stderr",
     "output_type": "stream",
     "text": [
      "\rDictNBHDTransformer fit stage 1:  22%|██▏       | 2101644/9517064 [00:22<00:43, 171252.56it/s]"
     ]
    },
    {
     "name": "stderr",
     "output_type": "stream",
     "text": [
      "\rDictNBHDTransformer fit stage 1:  22%|██▏       | 2118818/9517064 [00:22<00:43, 170594.10it/s]"
     ]
    },
    {
     "name": "stderr",
     "output_type": "stream",
     "text": [
      "\rDictNBHDTransformer fit stage 1:  22%|██▏       | 2135912/9517064 [00:22<00:43, 169914.27it/s]"
     ]
    },
    {
     "name": "stderr",
     "output_type": "stream",
     "text": [
      "\rDictNBHDTransformer fit stage 1:  23%|██▎       | 2152928/9517064 [00:22<00:44, 164510.91it/s]"
     ]
    },
    {
     "name": "stderr",
     "output_type": "stream",
     "text": [
      "\rDictNBHDTransformer fit stage 1:  23%|██▎       | 2169434/9517064 [00:22<00:46, 156974.37it/s]"
     ]
    },
    {
     "name": "stderr",
     "output_type": "stream",
     "text": [
      "\rDictNBHDTransformer fit stage 1:  23%|██▎       | 2185657/9517064 [00:22<00:46, 158511.68it/s]"
     ]
    },
    {
     "name": "stderr",
     "output_type": "stream",
     "text": [
      "\rDictNBHDTransformer fit stage 1:  23%|██▎       | 2201794/9517064 [00:22<00:45, 159355.72it/s]"
     ]
    },
    {
     "name": "stderr",
     "output_type": "stream",
     "text": [
      "\rDictNBHDTransformer fit stage 1:  23%|██▎       | 2219101/9517064 [00:22<00:44, 163234.84it/s]"
     ]
    },
    {
     "name": "stderr",
     "output_type": "stream",
     "text": [
      "\rDictNBHDTransformer fit stage 1:  23%|██▎       | 2235489/9517064 [00:23<00:55, 130135.20it/s]"
     ]
    },
    {
     "name": "stderr",
     "output_type": "stream",
     "text": [
      "\rDictNBHDTransformer fit stage 1:  24%|██▎       | 2249611/9517064 [00:23<00:55, 131747.59it/s]"
     ]
    },
    {
     "name": "stderr",
     "output_type": "stream",
     "text": [
      "\rDictNBHDTransformer fit stage 1:  24%|██▍       | 2263759/9517064 [00:23<00:53, 134514.56it/s]"
     ]
    },
    {
     "name": "stderr",
     "output_type": "stream",
     "text": [
      "\rDictNBHDTransformer fit stage 1:  24%|██▍       | 2278369/9517064 [00:23<00:52, 137792.50it/s]"
     ]
    },
    {
     "name": "stderr",
     "output_type": "stream",
     "text": [
      "\rDictNBHDTransformer fit stage 1:  24%|██▍       | 2294436/9517064 [00:23<00:50, 143940.09it/s]"
     ]
    },
    {
     "name": "stderr",
     "output_type": "stream",
     "text": [
      "\rDictNBHDTransformer fit stage 1:  24%|██▍       | 2310829/9517064 [00:23<00:48, 149404.11it/s]"
     ]
    },
    {
     "name": "stderr",
     "output_type": "stream",
     "text": [
      "\rDictNBHDTransformer fit stage 1:  24%|██▍       | 2326620/9517064 [00:23<00:47, 151857.18it/s]"
     ]
    },
    {
     "name": "stderr",
     "output_type": "stream",
     "text": [
      "\rDictNBHDTransformer fit stage 1:  25%|██▍       | 2343179/9517064 [00:23<00:46, 155731.27it/s]"
     ]
    },
    {
     "name": "stderr",
     "output_type": "stream",
     "text": [
      "\rDictNBHDTransformer fit stage 1:  25%|██▍       | 2359778/9517064 [00:23<00:45, 158668.18it/s]"
     ]
    },
    {
     "name": "stderr",
     "output_type": "stream",
     "text": [
      "\rDictNBHDTransformer fit stage 1:  25%|██▍       | 2375785/9517064 [00:24<00:50, 140164.47it/s]"
     ]
    },
    {
     "name": "stderr",
     "output_type": "stream",
     "text": [
      "\rDictNBHDTransformer fit stage 1:  25%|██▌       | 2390296/9517064 [00:24<00:53, 132120.53it/s]"
     ]
    },
    {
     "name": "stderr",
     "output_type": "stream",
     "text": [
      "\rDictNBHDTransformer fit stage 1:  25%|██▌       | 2404859/9517064 [00:24<00:52, 135900.43it/s]"
     ]
    },
    {
     "name": "stderr",
     "output_type": "stream",
     "text": [
      "\rDictNBHDTransformer fit stage 1:  25%|██▌       | 2419608/9517064 [00:24<00:50, 139180.25it/s]"
     ]
    },
    {
     "name": "stderr",
     "output_type": "stream",
     "text": [
      "\rDictNBHDTransformer fit stage 1:  26%|██▌       | 2434681/9517064 [00:24<00:49, 142454.13it/s]"
     ]
    },
    {
     "name": "stderr",
     "output_type": "stream",
     "text": [
      "\rDictNBHDTransformer fit stage 1:  26%|██▌       | 2451595/9517064 [00:24<00:47, 149531.35it/s]"
     ]
    },
    {
     "name": "stderr",
     "output_type": "stream",
     "text": [
      "\rDictNBHDTransformer fit stage 1:  26%|██▌       | 2468431/9517064 [00:24<00:45, 154721.22it/s]"
     ]
    },
    {
     "name": "stderr",
     "output_type": "stream",
     "text": [
      "\rDictNBHDTransformer fit stage 1:  26%|██▌       | 2484111/9517064 [00:24<00:56, 124738.07it/s]"
     ]
    },
    {
     "name": "stderr",
     "output_type": "stream",
     "text": [
      "\rDictNBHDTransformer fit stage 1:  26%|██▋       | 2498304/9517064 [00:24<00:54, 129441.11it/s]"
     ]
    },
    {
     "name": "stderr",
     "output_type": "stream",
     "text": [
      "\rDictNBHDTransformer fit stage 1:  26%|██▋       | 2513385/9517064 [00:25<00:51, 135187.30it/s]"
     ]
    },
    {
     "name": "stderr",
     "output_type": "stream",
     "text": [
      "\rDictNBHDTransformer fit stage 1:  27%|██▋       | 2529664/9517064 [00:25<00:49, 142431.45it/s]"
     ]
    },
    {
     "name": "stderr",
     "output_type": "stream",
     "text": [
      "\rDictNBHDTransformer fit stage 1:  27%|██▋       | 2546230/9517064 [00:25<00:46, 148683.55it/s]"
     ]
    },
    {
     "name": "stderr",
     "output_type": "stream",
     "text": [
      "\rDictNBHDTransformer fit stage 1:  27%|██▋       | 2562751/9517064 [00:25<00:45, 153281.07it/s]"
     ]
    },
    {
     "name": "stderr",
     "output_type": "stream",
     "text": [
      "\rDictNBHDTransformer fit stage 1:  27%|██▋       | 2579783/9517064 [00:25<00:43, 158022.81it/s]"
     ]
    },
    {
     "name": "stderr",
     "output_type": "stream",
     "text": [
      "\rDictNBHDTransformer fit stage 1:  27%|██▋       | 2596714/9517064 [00:25<00:42, 161245.46it/s]"
     ]
    },
    {
     "name": "stderr",
     "output_type": "stream",
     "text": [
      "\rDictNBHDTransformer fit stage 1:  27%|██▋       | 2614263/9517064 [00:25<00:41, 165269.00it/s]"
     ]
    },
    {
     "name": "stderr",
     "output_type": "stream",
     "text": [
      "\rDictNBHDTransformer fit stage 1:  28%|██▊       | 2631234/9517064 [00:25<00:41, 166573.71it/s]"
     ]
    },
    {
     "name": "stderr",
     "output_type": "stream",
     "text": [
      "\rDictNBHDTransformer fit stage 1:  28%|██▊       | 2648017/9517064 [00:25<00:41, 166534.78it/s]"
     ]
    },
    {
     "name": "stderr",
     "output_type": "stream",
     "text": [
      "\rDictNBHDTransformer fit stage 1:  28%|██▊       | 2665074/9517064 [00:25<00:40, 167722.13it/s]"
     ]
    },
    {
     "name": "stderr",
     "output_type": "stream",
     "text": [
      "\rDictNBHDTransformer fit stage 1:  28%|██▊       | 2682092/9517064 [00:26<00:40, 168447.52it/s]"
     ]
    },
    {
     "name": "stderr",
     "output_type": "stream",
     "text": [
      "\rDictNBHDTransformer fit stage 1:  28%|██▊       | 2698982/9517064 [00:26<00:40, 166874.68it/s]"
     ]
    },
    {
     "name": "stderr",
     "output_type": "stream",
     "text": [
      "\rDictNBHDTransformer fit stage 1:  29%|██▊       | 2715987/9517064 [00:26<00:40, 167809.35it/s]"
     ]
    },
    {
     "name": "stderr",
     "output_type": "stream",
     "text": [
      "\rDictNBHDTransformer fit stage 1:  29%|██▊       | 2733793/9517064 [00:26<00:39, 170757.44it/s]"
     ]
    },
    {
     "name": "stderr",
     "output_type": "stream",
     "text": [
      "\rDictNBHDTransformer fit stage 1:  29%|██▉       | 2750900/9517064 [00:26<00:39, 169614.55it/s]"
     ]
    },
    {
     "name": "stderr",
     "output_type": "stream",
     "text": [
      "\rDictNBHDTransformer fit stage 1:  29%|██▉       | 2768283/9517064 [00:26<00:39, 170855.57it/s]"
     ]
    },
    {
     "name": "stderr",
     "output_type": "stream",
     "text": [
      "\rDictNBHDTransformer fit stage 1:  29%|██▉       | 2786562/9517064 [00:26<00:38, 174267.50it/s]"
     ]
    },
    {
     "name": "stderr",
     "output_type": "stream",
     "text": [
      "\rDictNBHDTransformer fit stage 1:  29%|██▉       | 2804407/9517064 [00:26<00:38, 175499.34it/s]"
     ]
    },
    {
     "name": "stderr",
     "output_type": "stream",
     "text": [
      "\rDictNBHDTransformer fit stage 1:  30%|██▉       | 2821980/9517064 [00:26<00:38, 174125.64it/s]"
     ]
    },
    {
     "name": "stderr",
     "output_type": "stream",
     "text": [
      "\rDictNBHDTransformer fit stage 1:  30%|██▉       | 2839411/9517064 [00:26<00:38, 172464.37it/s]"
     ]
    },
    {
     "name": "stderr",
     "output_type": "stream",
     "text": [
      "\rDictNBHDTransformer fit stage 1:  30%|███       | 2856674/9517064 [00:27<00:39, 170041.56it/s]"
     ]
    },
    {
     "name": "stderr",
     "output_type": "stream",
     "text": [
      "\rDictNBHDTransformer fit stage 1:  30%|███       | 2873698/9517064 [00:27<00:41, 161152.73it/s]"
     ]
    },
    {
     "name": "stderr",
     "output_type": "stream",
     "text": [
      "\rDictNBHDTransformer fit stage 1:  30%|███       | 2889924/9517064 [00:27<00:43, 153663.29it/s]"
     ]
    },
    {
     "name": "stderr",
     "output_type": "stream",
     "text": [
      "\rDictNBHDTransformer fit stage 1:  31%|███       | 2905441/9517064 [00:27<00:45, 145720.36it/s]"
     ]
    },
    {
     "name": "stderr",
     "output_type": "stream",
     "text": [
      "\rDictNBHDTransformer fit stage 1:  31%|███       | 2920204/9517064 [00:27<01:14, 88832.00it/s] "
     ]
    },
    {
     "name": "stderr",
     "output_type": "stream",
     "text": [
      "\rDictNBHDTransformer fit stage 1:  31%|███       | 2931933/9517064 [00:27<01:13, 89342.50it/s]"
     ]
    },
    {
     "name": "stderr",
     "output_type": "stream",
     "text": [
      "\rDictNBHDTransformer fit stage 1:  31%|███       | 2944769/9517064 [00:27<01:06, 98305.84it/s]"
     ]
    },
    {
     "name": "stderr",
     "output_type": "stream",
     "text": [
      "\rDictNBHDTransformer fit stage 1:  31%|███       | 2959882/9517064 [00:28<00:59, 109819.92it/s]"
     ]
    },
    {
     "name": "stderr",
     "output_type": "stream",
     "text": [
      "\rDictNBHDTransformer fit stage 1:  31%|███       | 2973453/9517064 [00:28<00:56, 116484.99it/s]"
     ]
    },
    {
     "name": "stderr",
     "output_type": "stream",
     "text": [
      "\rDictNBHDTransformer fit stage 1:  31%|███▏      | 2987698/9517064 [00:28<00:52, 123221.17it/s]"
     ]
    },
    {
     "name": "stderr",
     "output_type": "stream",
     "text": [
      "\rDictNBHDTransformer fit stage 1:  32%|███▏      | 3002725/9517064 [00:28<00:50, 130253.66it/s]"
     ]
    },
    {
     "name": "stderr",
     "output_type": "stream",
     "text": [
      "\rDictNBHDTransformer fit stage 1:  32%|███▏      | 3017999/9517064 [00:28<00:47, 136270.02it/s]"
     ]
    },
    {
     "name": "stderr",
     "output_type": "stream",
     "text": [
      "\rDictNBHDTransformer fit stage 1:  32%|███▏      | 3033379/9517064 [00:28<00:45, 141092.94it/s]"
     ]
    },
    {
     "name": "stderr",
     "output_type": "stream",
     "text": [
      "\rDictNBHDTransformer fit stage 1:  32%|███▏      | 3050234/9517064 [00:28<00:43, 148341.05it/s]"
     ]
    },
    {
     "name": "stderr",
     "output_type": "stream",
     "text": [
      "\rDictNBHDTransformer fit stage 1:  32%|███▏      | 3065646/9517064 [00:28<00:43, 150028.23it/s]"
     ]
    },
    {
     "name": "stderr",
     "output_type": "stream",
     "text": [
      "\rDictNBHDTransformer fit stage 1:  32%|███▏      | 3080958/9517064 [00:28<00:43, 146400.42it/s]"
     ]
    },
    {
     "name": "stderr",
     "output_type": "stream",
     "text": [
      "\rDictNBHDTransformer fit stage 1:  33%|███▎      | 3095834/9517064 [00:32<08:23, 12765.55it/s] "
     ]
    },
    {
     "name": "stderr",
     "output_type": "stream",
     "text": [
      "\rDictNBHDTransformer fit stage 1:  33%|███▎      | 3110653/9517064 [00:32<06:04, 17587.18it/s]"
     ]
    },
    {
     "name": "stderr",
     "output_type": "stream",
     "text": [
      "\rDictNBHDTransformer fit stage 1:  33%|███▎      | 3126159/9517064 [00:32<04:26, 23959.82it/s]"
     ]
    },
    {
     "name": "stderr",
     "output_type": "stream",
     "text": [
      "\rDictNBHDTransformer fit stage 1:  33%|███▎      | 3141427/9517064 [00:32<03:18, 32071.30it/s]"
     ]
    },
    {
     "name": "stderr",
     "output_type": "stream",
     "text": [
      "\rDictNBHDTransformer fit stage 1:  33%|███▎      | 3156489/9517064 [00:32<02:31, 41984.67it/s]"
     ]
    },
    {
     "name": "stderr",
     "output_type": "stream",
     "text": [
      "\rDictNBHDTransformer fit stage 1:  33%|███▎      | 3170576/9517064 [00:33<01:59, 53184.46it/s]"
     ]
    },
    {
     "name": "stderr",
     "output_type": "stream",
     "text": [
      "\rDictNBHDTransformer fit stage 1:  33%|███▎      | 3184643/9517064 [00:33<01:38, 64027.29it/s]"
     ]
    },
    {
     "name": "stderr",
     "output_type": "stream",
     "text": [
      "\rDictNBHDTransformer fit stage 1:  34%|███▎      | 3198154/9517064 [00:33<01:23, 75407.04it/s]"
     ]
    },
    {
     "name": "stderr",
     "output_type": "stream",
     "text": [
      "\rDictNBHDTransformer fit stage 1:  34%|███▍      | 3212663/9517064 [00:33<01:11, 88100.47it/s]"
     ]
    },
    {
     "name": "stderr",
     "output_type": "stream",
     "text": [
      "\rDictNBHDTransformer fit stage 1:  34%|███▍      | 3228439/9517064 [00:33<01:01, 101552.37it/s]"
     ]
    },
    {
     "name": "stderr",
     "output_type": "stream",
     "text": [
      "\rDictNBHDTransformer fit stage 1:  34%|███▍      | 3243221/9517064 [00:33<00:55, 112075.87it/s]"
     ]
    },
    {
     "name": "stderr",
     "output_type": "stream",
     "text": [
      "\rDictNBHDTransformer fit stage 1:  34%|███▍      | 3257671/9517064 [00:33<01:09, 90567.84it/s] "
     ]
    },
    {
     "name": "stderr",
     "output_type": "stream",
     "text": [
      "\rDictNBHDTransformer fit stage 1:  34%|███▍      | 3270138/9517064 [00:33<01:03, 98664.39it/s]"
     ]
    },
    {
     "name": "stderr",
     "output_type": "stream",
     "text": [
      "\rDictNBHDTransformer fit stage 1:  35%|███▍      | 3284031/9517064 [00:33<00:57, 108059.71it/s]"
     ]
    },
    {
     "name": "stderr",
     "output_type": "stream",
     "text": [
      "\rDictNBHDTransformer fit stage 1:  35%|███▍      | 3298796/9517064 [00:34<00:52, 117511.74it/s]"
     ]
    },
    {
     "name": "stderr",
     "output_type": "stream",
     "text": [
      "\rDictNBHDTransformer fit stage 1:  35%|███▍      | 3314010/9517064 [00:34<00:49, 126122.15it/s]"
     ]
    },
    {
     "name": "stderr",
     "output_type": "stream",
     "text": [
      "\rDictNBHDTransformer fit stage 1:  35%|███▍      | 3329916/9517064 [00:34<00:46, 134473.95it/s]"
     ]
    },
    {
     "name": "stderr",
     "output_type": "stream",
     "text": [
      "\rDictNBHDTransformer fit stage 1:  35%|███▌      | 3345476/9517064 [00:34<00:44, 140183.43it/s]"
     ]
    },
    {
     "name": "stderr",
     "output_type": "stream",
     "text": [
      "\rDictNBHDTransformer fit stage 1:  35%|███▌      | 3360305/9517064 [00:34<00:43, 142518.37it/s]"
     ]
    },
    {
     "name": "stderr",
     "output_type": "stream",
     "text": [
      "\rDictNBHDTransformer fit stage 1:  35%|███▌      | 3375117/9517064 [00:34<01:00, 100821.64it/s]"
     ]
    },
    {
     "name": "stderr",
     "output_type": "stream",
     "text": [
      "\rDictNBHDTransformer fit stage 1:  36%|███▌      | 3387283/9517064 [00:34<01:02, 98284.16it/s] "
     ]
    },
    {
     "name": "stderr",
     "output_type": "stream",
     "text": [
      "\rDictNBHDTransformer fit stage 1:  36%|███▌      | 3402224/9517064 [00:34<00:55, 109526.54it/s]"
     ]
    },
    {
     "name": "stderr",
     "output_type": "stream",
     "text": [
      "\rDictNBHDTransformer fit stage 1:  36%|███▌      | 3414617/9517064 [00:35<00:56, 107968.01it/s]"
     ]
    },
    {
     "name": "stderr",
     "output_type": "stream",
     "text": [
      "\rDictNBHDTransformer fit stage 1:  36%|███▌      | 3426427/9517064 [00:35<01:12, 84212.33it/s] "
     ]
    },
    {
     "name": "stderr",
     "output_type": "stream",
     "text": [
      "\rDictNBHDTransformer fit stage 1:  36%|███▌      | 3438914/9517064 [00:35<01:05, 93328.09it/s]"
     ]
    },
    {
     "name": "stderr",
     "output_type": "stream",
     "text": [
      "\rDictNBHDTransformer fit stage 1:  36%|███▋      | 3452000/9517064 [00:35<00:59, 102113.07it/s]"
     ]
    },
    {
     "name": "stderr",
     "output_type": "stream",
     "text": [
      "\rDictNBHDTransformer fit stage 1:  36%|███▋      | 3467343/9517064 [00:35<00:53, 113501.56it/s]"
     ]
    },
    {
     "name": "stderr",
     "output_type": "stream",
     "text": [
      "\rDictNBHDTransformer fit stage 1:  37%|███▋      | 3480536/9517064 [00:35<00:50, 118465.83it/s]"
     ]
    },
    {
     "name": "stderr",
     "output_type": "stream",
     "text": [
      "\rDictNBHDTransformer fit stage 1:  37%|███▋      | 3493310/9517064 [00:35<00:58, 103544.34it/s]"
     ]
    },
    {
     "name": "stderr",
     "output_type": "stream",
     "text": [
      "\rDictNBHDTransformer fit stage 1:  37%|███▋      | 3504653/9517064 [00:36<01:05, 91655.00it/s] "
     ]
    },
    {
     "name": "stderr",
     "output_type": "stream",
     "text": [
      "\rDictNBHDTransformer fit stage 1:  37%|███▋      | 3516567/9517064 [00:36<01:00, 98469.22it/s]"
     ]
    },
    {
     "name": "stderr",
     "output_type": "stream",
     "text": [
      "\rDictNBHDTransformer fit stage 1:  37%|███▋      | 3527217/9517064 [00:36<03:05, 32291.54it/s]"
     ]
    },
    {
     "name": "stderr",
     "output_type": "stream",
     "text": [
      "\rDictNBHDTransformer fit stage 1:  37%|███▋      | 3538001/9517064 [00:37<02:26, 40883.97it/s]"
     ]
    },
    {
     "name": "stderr",
     "output_type": "stream",
     "text": [
      "\rDictNBHDTransformer fit stage 1:  37%|███▋      | 3549239/9517064 [00:37<01:58, 50526.98it/s]"
     ]
    },
    {
     "name": "stderr",
     "output_type": "stream",
     "text": [
      "\rDictNBHDTransformer fit stage 1:  37%|███▋      | 3559745/9517064 [00:37<01:39, 59846.12it/s]"
     ]
    },
    {
     "name": "stderr",
     "output_type": "stream",
     "text": [
      "\rDictNBHDTransformer fit stage 1:  38%|███▊      | 3571375/9517064 [00:37<01:24, 70046.51it/s]"
     ]
    },
    {
     "name": "stderr",
     "output_type": "stream",
     "text": [
      "\rDictNBHDTransformer fit stage 1:  38%|███▊      | 3584770/9517064 [00:37<01:12, 81745.46it/s]"
     ]
    },
    {
     "name": "stderr",
     "output_type": "stream",
     "text": [
      "\rDictNBHDTransformer fit stage 1:  38%|███▊      | 3598049/9517064 [00:37<01:04, 92400.96it/s]"
     ]
    },
    {
     "name": "stderr",
     "output_type": "stream",
     "text": [
      "\rDictNBHDTransformer fit stage 1:  38%|███▊      | 3611541/9517064 [00:37<00:57, 102045.99it/s]"
     ]
    },
    {
     "name": "stderr",
     "output_type": "stream",
     "text": [
      "\rDictNBHDTransformer fit stage 1:  38%|███▊      | 3624782/9517064 [00:37<00:53, 109584.38it/s]"
     ]
    },
    {
     "name": "stderr",
     "output_type": "stream",
     "text": [
      "\rDictNBHDTransformer fit stage 1:  38%|███▊      | 3638780/9517064 [00:37<00:50, 117219.84it/s]"
     ]
    },
    {
     "name": "stderr",
     "output_type": "stream",
     "text": [
      "\rDictNBHDTransformer fit stage 1:  38%|███▊      | 3652593/9517064 [00:37<00:47, 122794.30it/s]"
     ]
    },
    {
     "name": "stderr",
     "output_type": "stream",
     "text": [
      "\rDictNBHDTransformer fit stage 1:  39%|███▊      | 3667300/9517064 [00:38<00:45, 129191.65it/s]"
     ]
    },
    {
     "name": "stderr",
     "output_type": "stream",
     "text": [
      "\rDictNBHDTransformer fit stage 1:  39%|███▊      | 3682281/9517064 [00:38<00:43, 134755.26it/s]"
     ]
    },
    {
     "name": "stderr",
     "output_type": "stream",
     "text": [
      "\rDictNBHDTransformer fit stage 1:  39%|███▉      | 3696780/9517064 [00:38<00:42, 137655.02it/s]"
     ]
    },
    {
     "name": "stderr",
     "output_type": "stream",
     "text": [
      "\rDictNBHDTransformer fit stage 1:  39%|███▉      | 3711909/9517064 [00:38<00:41, 141477.86it/s]"
     ]
    },
    {
     "name": "stderr",
     "output_type": "stream",
     "text": [
      "\rDictNBHDTransformer fit stage 1:  39%|███▉      | 3729003/9517064 [00:38<00:38, 149191.66it/s]"
     ]
    },
    {
     "name": "stderr",
     "output_type": "stream",
     "text": [
      "\rDictNBHDTransformer fit stage 1:  39%|███▉      | 3744269/9517064 [00:38<00:38, 149730.58it/s]"
     ]
    },
    {
     "name": "stderr",
     "output_type": "stream",
     "text": [
      "\rDictNBHDTransformer fit stage 1:  40%|███▉      | 3759486/9517064 [00:38<00:42, 135823.31it/s]"
     ]
    },
    {
     "name": "stderr",
     "output_type": "stream",
     "text": [
      "\rDictNBHDTransformer fit stage 1:  40%|███▉      | 3773487/9517064 [00:38<00:46, 124709.51it/s]"
     ]
    },
    {
     "name": "stderr",
     "output_type": "stream",
     "text": [
      "\rDictNBHDTransformer fit stage 1:  40%|███▉      | 3786729/9517064 [00:38<00:45, 126922.73it/s]"
     ]
    },
    {
     "name": "stderr",
     "output_type": "stream",
     "text": [
      "\rDictNBHDTransformer fit stage 1:  40%|███▉      | 3799761/9517064 [00:39<00:45, 125630.48it/s]"
     ]
    },
    {
     "name": "stderr",
     "output_type": "stream",
     "text": [
      "\rDictNBHDTransformer fit stage 1:  40%|████      | 3813545/9517064 [00:39<00:44, 129055.74it/s]"
     ]
    },
    {
     "name": "stderr",
     "output_type": "stream",
     "text": [
      "\rDictNBHDTransformer fit stage 1:  40%|████      | 3827816/9517064 [00:39<00:42, 132869.24it/s]"
     ]
    },
    {
     "name": "stderr",
     "output_type": "stream",
     "text": [
      "\rDictNBHDTransformer fit stage 1:  40%|████      | 3842495/9517064 [00:39<00:41, 136759.70it/s]"
     ]
    },
    {
     "name": "stderr",
     "output_type": "stream",
     "text": [
      "\rDictNBHDTransformer fit stage 1:  41%|████      | 3857416/9517064 [00:39<00:40, 140268.99it/s]"
     ]
    },
    {
     "name": "stderr",
     "output_type": "stream",
     "text": [
      "\rDictNBHDTransformer fit stage 1:  41%|████      | 3871565/9517064 [00:39<00:46, 121058.43it/s]"
     ]
    },
    {
     "name": "stderr",
     "output_type": "stream",
     "text": [
      "\rDictNBHDTransformer fit stage 1:  41%|████      | 3884222/9517064 [00:39<00:52, 106637.50it/s]"
     ]
    },
    {
     "name": "stderr",
     "output_type": "stream",
     "text": [
      "\rDictNBHDTransformer fit stage 1:  41%|████      | 3895585/9517064 [00:39<00:53, 105622.14it/s]"
     ]
    },
    {
     "name": "stderr",
     "output_type": "stream",
     "text": [
      "\rDictNBHDTransformer fit stage 1:  41%|████      | 3907257/9517064 [00:39<00:51, 108723.07it/s]"
     ]
    },
    {
     "name": "stderr",
     "output_type": "stream",
     "text": [
      "\rDictNBHDTransformer fit stage 1:  41%|████      | 3920404/9517064 [00:40<00:48, 114674.51it/s]"
     ]
    },
    {
     "name": "stderr",
     "output_type": "stream",
     "text": [
      "\rDictNBHDTransformer fit stage 1:  41%|████▏     | 3934925/9517064 [00:40<00:45, 122395.36it/s]"
     ]
    },
    {
     "name": "stderr",
     "output_type": "stream",
     "text": [
      "\rDictNBHDTransformer fit stage 1:  42%|████▏     | 3950913/9517064 [00:40<00:42, 131654.56it/s]"
     ]
    },
    {
     "name": "stderr",
     "output_type": "stream",
     "text": [
      "\rDictNBHDTransformer fit stage 1:  42%|████▏     | 3967004/9517064 [00:40<00:39, 139246.87it/s]"
     ]
    },
    {
     "name": "stderr",
     "output_type": "stream",
     "text": [
      "\rDictNBHDTransformer fit stage 1:  42%|████▏     | 3982986/9517064 [00:40<00:38, 144836.04it/s]"
     ]
    },
    {
     "name": "stderr",
     "output_type": "stream",
     "text": [
      "\rDictNBHDTransformer fit stage 1:  42%|████▏     | 3999236/9517064 [00:40<00:36, 149717.07it/s]"
     ]
    },
    {
     "name": "stderr",
     "output_type": "stream",
     "text": [
      "\rDictNBHDTransformer fit stage 1:  42%|████▏     | 4014628/9517064 [00:40<00:36, 150950.20it/s]"
     ]
    },
    {
     "name": "stderr",
     "output_type": "stream",
     "text": [
      "\rDictNBHDTransformer fit stage 1:  42%|████▏     | 4030269/9517064 [00:40<00:35, 152546.78it/s]"
     ]
    },
    {
     "name": "stderr",
     "output_type": "stream",
     "text": [
      "\rDictNBHDTransformer fit stage 1:  43%|████▎     | 4046453/9517064 [00:40<00:35, 155220.23it/s]"
     ]
    },
    {
     "name": "stderr",
     "output_type": "stream",
     "text": [
      "\rDictNBHDTransformer fit stage 1:  43%|████▎     | 4062757/9517064 [00:40<00:34, 157482.59it/s]"
     ]
    },
    {
     "name": "stderr",
     "output_type": "stream",
     "text": [
      "\rDictNBHDTransformer fit stage 1:  43%|████▎     | 4079120/9517064 [00:41<00:34, 159275.37it/s]"
     ]
    },
    {
     "name": "stderr",
     "output_type": "stream",
     "text": [
      "\rDictNBHDTransformer fit stage 1:  43%|████▎     | 4095957/9517064 [00:41<00:33, 161897.94it/s]"
     ]
    },
    {
     "name": "stderr",
     "output_type": "stream",
     "text": [
      "\rDictNBHDTransformer fit stage 1:  43%|████▎     | 4112521/9517064 [00:41<00:33, 162999.86it/s]"
     ]
    },
    {
     "name": "stderr",
     "output_type": "stream",
     "text": [
      "\rDictNBHDTransformer fit stage 1:  43%|████▎     | 4129060/9517064 [00:41<00:32, 163705.26it/s]"
     ]
    },
    {
     "name": "stderr",
     "output_type": "stream",
     "text": [
      "\rDictNBHDTransformer fit stage 1:  44%|████▎     | 4145478/9517064 [00:41<00:32, 163847.32it/s]"
     ]
    },
    {
     "name": "stderr",
     "output_type": "stream",
     "text": [
      "\rDictNBHDTransformer fit stage 1:  44%|████▎     | 4161899/9517064 [00:41<00:32, 163952.14it/s]"
     ]
    },
    {
     "name": "stderr",
     "output_type": "stream",
     "text": [
      "\rDictNBHDTransformer fit stage 1:  44%|████▍     | 4178310/9517064 [00:41<00:32, 162295.41it/s]"
     ]
    },
    {
     "name": "stderr",
     "output_type": "stream",
     "text": [
      "\rDictNBHDTransformer fit stage 1:  44%|████▍     | 4194554/9517064 [00:41<00:33, 160336.11it/s]"
     ]
    },
    {
     "name": "stderr",
     "output_type": "stream",
     "text": [
      "\rDictNBHDTransformer fit stage 1:  44%|████▍     | 4210604/9517064 [00:41<00:33, 159831.80it/s]"
     ]
    },
    {
     "name": "stderr",
     "output_type": "stream",
     "text": [
      "\rDictNBHDTransformer fit stage 1:  44%|████▍     | 4227263/9517064 [00:41<00:32, 161799.11it/s]"
     ]
    },
    {
     "name": "stderr",
     "output_type": "stream",
     "text": [
      "\rDictNBHDTransformer fit stage 1:  45%|████▍     | 4243594/9517064 [00:42<00:32, 162247.98it/s]"
     ]
    },
    {
     "name": "stderr",
     "output_type": "stream",
     "text": [
      "\rDictNBHDTransformer fit stage 1:  45%|████▍     | 4259829/9517064 [00:42<00:32, 159943.47it/s]"
     ]
    },
    {
     "name": "stderr",
     "output_type": "stream",
     "text": [
      "\rDictNBHDTransformer fit stage 1:  45%|████▍     | 4276670/9517064 [00:42<00:32, 162392.16it/s]"
     ]
    },
    {
     "name": "stderr",
     "output_type": "stream",
     "text": [
      "\rDictNBHDTransformer fit stage 1:  45%|████▌     | 4293215/9517064 [00:42<00:31, 163296.59it/s]"
     ]
    },
    {
     "name": "stderr",
     "output_type": "stream",
     "text": [
      "\rDictNBHDTransformer fit stage 1:  45%|████▌     | 4309560/9517064 [00:42<00:32, 159505.43it/s]"
     ]
    },
    {
     "name": "stderr",
     "output_type": "stream",
     "text": [
      "\rDictNBHDTransformer fit stage 1:  45%|████▌     | 4325541/9517064 [00:42<00:32, 158721.81it/s]"
     ]
    },
    {
     "name": "stderr",
     "output_type": "stream",
     "text": [
      "\rDictNBHDTransformer fit stage 1:  46%|████▌     | 4341435/9517064 [00:42<00:32, 158475.61it/s]"
     ]
    },
    {
     "name": "stderr",
     "output_type": "stream",
     "text": [
      "\rDictNBHDTransformer fit stage 1:  46%|████▌     | 4357298/9517064 [00:42<00:33, 156306.80it/s]"
     ]
    },
    {
     "name": "stderr",
     "output_type": "stream",
     "text": [
      "\rDictNBHDTransformer fit stage 1:  46%|████▌     | 4372947/9517064 [00:42<00:32, 156150.18it/s]"
     ]
    },
    {
     "name": "stderr",
     "output_type": "stream",
     "text": [
      "\rDictNBHDTransformer fit stage 1:  46%|████▌     | 4388575/9517064 [00:42<00:33, 155155.56it/s]"
     ]
    },
    {
     "name": "stderr",
     "output_type": "stream",
     "text": [
      "\rDictNBHDTransformer fit stage 1:  46%|████▋     | 4404711/9517064 [00:43<00:32, 156965.27it/s]"
     ]
    },
    {
     "name": "stderr",
     "output_type": "stream",
     "text": [
      "\rDictNBHDTransformer fit stage 1:  46%|████▋     | 4420420/9517064 [00:43<00:32, 155533.74it/s]"
     ]
    },
    {
     "name": "stderr",
     "output_type": "stream",
     "text": [
      "\rDictNBHDTransformer fit stage 1:  47%|████▋     | 4436048/9517064 [00:43<00:32, 155756.03it/s]"
     ]
    },
    {
     "name": "stderr",
     "output_type": "stream",
     "text": [
      "\rDictNBHDTransformer fit stage 1:  47%|████▋     | 4452008/9517064 [00:43<00:32, 156887.25it/s]"
     ]
    },
    {
     "name": "stderr",
     "output_type": "stream",
     "text": [
      "\rDictNBHDTransformer fit stage 1:  47%|████▋     | 4468252/9517064 [00:43<00:31, 158508.20it/s]"
     ]
    },
    {
     "name": "stderr",
     "output_type": "stream",
     "text": [
      "\rDictNBHDTransformer fit stage 1:  47%|████▋     | 4484113/9517064 [00:43<00:31, 158190.55it/s]"
     ]
    },
    {
     "name": "stderr",
     "output_type": "stream",
     "text": [
      "\rDictNBHDTransformer fit stage 1:  47%|████▋     | 4499939/9517064 [00:43<00:31, 157515.49it/s]"
     ]
    },
    {
     "name": "stderr",
     "output_type": "stream",
     "text": [
      "\rDictNBHDTransformer fit stage 1:  47%|████▋     | 4515696/9517064 [00:43<00:31, 156796.92it/s]"
     ]
    },
    {
     "name": "stderr",
     "output_type": "stream",
     "text": [
      "\rDictNBHDTransformer fit stage 1:  48%|████▊     | 4532088/9517064 [00:43<00:31, 158862.96it/s]"
     ]
    },
    {
     "name": "stderr",
     "output_type": "stream",
     "text": [
      "\rDictNBHDTransformer fit stage 1:  48%|████▊     | 4547984/9517064 [00:43<00:31, 158620.05it/s]"
     ]
    },
    {
     "name": "stderr",
     "output_type": "stream",
     "text": [
      "\rDictNBHDTransformer fit stage 1:  48%|████▊     | 4563853/9517064 [00:44<00:32, 154331.05it/s]"
     ]
    },
    {
     "name": "stderr",
     "output_type": "stream",
     "text": [
      "\rDictNBHDTransformer fit stage 1:  48%|████▊     | 4579317/9517064 [00:44<00:32, 151742.90it/s]"
     ]
    },
    {
     "name": "stderr",
     "output_type": "stream",
     "text": [
      "\rDictNBHDTransformer fit stage 1:  48%|████▊     | 4594523/9517064 [00:44<00:33, 146039.42it/s]"
     ]
    },
    {
     "name": "stderr",
     "output_type": "stream",
     "text": [
      "\rDictNBHDTransformer fit stage 1:  48%|████▊     | 4609195/9517064 [00:44<00:33, 144855.00it/s]"
     ]
    },
    {
     "name": "stderr",
     "output_type": "stream",
     "text": [
      "\rDictNBHDTransformer fit stage 1:  49%|████▊     | 4624911/9517064 [00:44<00:32, 148338.85it/s]"
     ]
    },
    {
     "name": "stderr",
     "output_type": "stream",
     "text": [
      "\rDictNBHDTransformer fit stage 1:  49%|████▉     | 4639801/9517064 [00:44<00:33, 146466.84it/s]"
     ]
    },
    {
     "name": "stderr",
     "output_type": "stream",
     "text": [
      "\rDictNBHDTransformer fit stage 1:  49%|████▉     | 4655221/9517064 [00:44<00:32, 148704.04it/s]"
     ]
    },
    {
     "name": "stderr",
     "output_type": "stream",
     "text": [
      "\rDictNBHDTransformer fit stage 1:  49%|████▉     | 4670131/9517064 [00:44<00:32, 147023.78it/s]"
     ]
    },
    {
     "name": "stderr",
     "output_type": "stream",
     "text": [
      "\rDictNBHDTransformer fit stage 1:  49%|████▉     | 4686255/9517064 [00:44<00:31, 151017.51it/s]"
     ]
    },
    {
     "name": "stderr",
     "output_type": "stream",
     "text": [
      "\rDictNBHDTransformer fit stage 1:  49%|████▉     | 4702282/9517064 [00:45<00:31, 153676.51it/s]"
     ]
    },
    {
     "name": "stderr",
     "output_type": "stream",
     "text": [
      "\rDictNBHDTransformer fit stage 1:  50%|████▉     | 4718553/9517064 [00:45<00:30, 156277.13it/s]"
     ]
    },
    {
     "name": "stderr",
     "output_type": "stream",
     "text": [
      "\rDictNBHDTransformer fit stage 1:  50%|████▉     | 4735012/9517064 [00:45<00:30, 158679.21it/s]"
     ]
    },
    {
     "name": "stderr",
     "output_type": "stream",
     "text": [
      "\rDictNBHDTransformer fit stage 1:  50%|████▉     | 4751591/9517064 [00:45<00:29, 160746.61it/s]"
     ]
    },
    {
     "name": "stderr",
     "output_type": "stream",
     "text": [
      "\rDictNBHDTransformer fit stage 1:  50%|█████     | 4768449/9517064 [00:45<00:29, 163016.33it/s]"
     ]
    },
    {
     "name": "stderr",
     "output_type": "stream",
     "text": [
      "\rDictNBHDTransformer fit stage 1:  50%|█████     | 4785055/9517064 [00:45<00:28, 163914.69it/s]"
     ]
    },
    {
     "name": "stderr",
     "output_type": "stream",
     "text": [
      "\rDictNBHDTransformer fit stage 1:  50%|█████     | 4801470/9517064 [00:45<00:28, 163874.72it/s]"
     ]
    },
    {
     "name": "stderr",
     "output_type": "stream",
     "text": [
      "\rDictNBHDTransformer fit stage 1:  51%|█████     | 4817874/9517064 [00:45<00:29, 160564.95it/s]"
     ]
    },
    {
     "name": "stderr",
     "output_type": "stream",
     "text": [
      "\rDictNBHDTransformer fit stage 1:  51%|█████     | 4834048/9517064 [00:45<00:29, 160915.14it/s]"
     ]
    },
    {
     "name": "stderr",
     "output_type": "stream",
     "text": [
      "\rDictNBHDTransformer fit stage 1:  51%|█████     | 4850353/9517064 [00:45<00:28, 161543.45it/s]"
     ]
    },
    {
     "name": "stderr",
     "output_type": "stream",
     "text": [
      "\rDictNBHDTransformer fit stage 1:  51%|█████     | 4866521/9517064 [00:46<00:28, 160850.86it/s]"
     ]
    },
    {
     "name": "stderr",
     "output_type": "stream",
     "text": [
      "\rDictNBHDTransformer fit stage 1:  51%|█████▏    | 4882617/9517064 [00:48<04:16, 18049.58it/s] "
     ]
    },
    {
     "name": "stderr",
     "output_type": "stream",
     "text": [
      "\rDictNBHDTransformer fit stage 1:  51%|█████▏    | 4898417/9517064 [00:48<03:07, 24581.61it/s]"
     ]
    },
    {
     "name": "stderr",
     "output_type": "stream",
     "text": [
      "\rDictNBHDTransformer fit stage 1:  52%|█████▏    | 4914176/9517064 [00:48<02:19, 32916.11it/s]"
     ]
    },
    {
     "name": "stderr",
     "output_type": "stream",
     "text": [
      "\rDictNBHDTransformer fit stage 1:  52%|█████▏    | 4928747/9517064 [00:49<01:47, 42872.18it/s]"
     ]
    },
    {
     "name": "stderr",
     "output_type": "stream",
     "text": [
      "\rDictNBHDTransformer fit stage 1:  52%|█████▏    | 4944598/9517064 [00:49<01:23, 54883.93it/s]"
     ]
    },
    {
     "name": "stderr",
     "output_type": "stream",
     "text": [
      "\rDictNBHDTransformer fit stage 1:  52%|█████▏    | 4961215/9517064 [00:49<01:06, 68682.15it/s]"
     ]
    },
    {
     "name": "stderr",
     "output_type": "stream",
     "text": [
      "\rDictNBHDTransformer fit stage 1:  52%|█████▏    | 4976353/9517064 [00:49<00:55, 82061.20it/s]"
     ]
    },
    {
     "name": "stderr",
     "output_type": "stream",
     "text": [
      "\rDictNBHDTransformer fit stage 1:  52%|█████▏    | 4992052/9517064 [00:49<00:47, 95774.69it/s]"
     ]
    },
    {
     "name": "stderr",
     "output_type": "stream",
     "text": [
      "\rDictNBHDTransformer fit stage 1:  53%|█████▎    | 5007394/9517064 [00:49<00:41, 107941.51it/s]"
     ]
    },
    {
     "name": "stderr",
     "output_type": "stream",
     "text": [
      "\rDictNBHDTransformer fit stage 1:  53%|█████▎    | 5023486/9517064 [00:49<00:37, 119770.09it/s]"
     ]
    },
    {
     "name": "stderr",
     "output_type": "stream",
     "text": [
      "\rDictNBHDTransformer fit stage 1:  53%|█████▎    | 5039151/9517064 [00:49<00:34, 128872.11it/s]"
     ]
    },
    {
     "name": "stderr",
     "output_type": "stream",
     "text": [
      "\rDictNBHDTransformer fit stage 1:  53%|█████▎    | 5055049/9517064 [00:49<00:32, 136633.89it/s]"
     ]
    },
    {
     "name": "stderr",
     "output_type": "stream",
     "text": [
      "\rDictNBHDTransformer fit stage 1:  53%|█████▎    | 5070723/9517064 [00:50<00:35, 124282.27it/s]"
     ]
    },
    {
     "name": "stderr",
     "output_type": "stream",
     "text": [
      "\rDictNBHDTransformer fit stage 1:  53%|█████▎    | 5084774/9517064 [00:50<00:35, 126142.10it/s]"
     ]
    },
    {
     "name": "stderr",
     "output_type": "stream",
     "text": [
      "\rDictNBHDTransformer fit stage 1:  54%|█████▎    | 5098531/9517064 [00:50<00:36, 119605.15it/s]"
     ]
    },
    {
     "name": "stderr",
     "output_type": "stream",
     "text": [
      "\rDictNBHDTransformer fit stage 1:  54%|█████▎    | 5111362/9517064 [00:50<00:37, 117775.87it/s]"
     ]
    },
    {
     "name": "stderr",
     "output_type": "stream",
     "text": [
      "\rDictNBHDTransformer fit stage 1:  54%|█████▍    | 5125462/9517064 [00:50<00:35, 123896.76it/s]"
     ]
    },
    {
     "name": "stderr",
     "output_type": "stream",
     "text": [
      "\rDictNBHDTransformer fit stage 1:  54%|█████▍    | 5140772/9517064 [00:50<00:33, 131416.33it/s]"
     ]
    },
    {
     "name": "stderr",
     "output_type": "stream",
     "text": [
      "\rDictNBHDTransformer fit stage 1:  54%|█████▍    | 5155874/9517064 [00:50<00:31, 136741.07it/s]"
     ]
    },
    {
     "name": "stderr",
     "output_type": "stream",
     "text": [
      "\rDictNBHDTransformer fit stage 1:  54%|█████▍    | 5171995/9517064 [00:50<00:30, 143263.37it/s]"
     ]
    },
    {
     "name": "stderr",
     "output_type": "stream",
     "text": [
      "\rDictNBHDTransformer fit stage 1:  54%|█████▍    | 5186680/9517064 [00:50<00:31, 135969.63it/s]"
     ]
    },
    {
     "name": "stderr",
     "output_type": "stream",
     "text": [
      "\rDictNBHDTransformer fit stage 1:  55%|█████▍    | 5202667/9517064 [00:51<00:30, 142354.11it/s]"
     ]
    },
    {
     "name": "stderr",
     "output_type": "stream",
     "text": [
      "\rDictNBHDTransformer fit stage 1:  55%|█████▍    | 5217211/9517064 [00:51<00:31, 138181.38it/s]"
     ]
    },
    {
     "name": "stderr",
     "output_type": "stream",
     "text": [
      "\rDictNBHDTransformer fit stage 1:  55%|█████▍    | 5231272/9517064 [00:51<00:30, 138412.07it/s]"
     ]
    },
    {
     "name": "stderr",
     "output_type": "stream",
     "text": [
      "\rDictNBHDTransformer fit stage 1:  55%|█████▌    | 5247188/9517064 [00:51<00:29, 144042.59it/s]"
     ]
    },
    {
     "name": "stderr",
     "output_type": "stream",
     "text": [
      "\rDictNBHDTransformer fit stage 1:  55%|█████▌    | 5261771/9517064 [00:51<00:49, 85670.29it/s] "
     ]
    },
    {
     "name": "stderr",
     "output_type": "stream",
     "text": [
      "\rDictNBHDTransformer fit stage 1:  55%|█████▌    | 5273300/9517064 [00:52<01:16, 55692.10it/s]"
     ]
    },
    {
     "name": "stderr",
     "output_type": "stream",
     "text": [
      "\rDictNBHDTransformer fit stage 1:  56%|█████▌    | 5283667/9517064 [00:52<01:05, 64639.48it/s]"
     ]
    },
    {
     "name": "stderr",
     "output_type": "stream",
     "text": [
      "\rDictNBHDTransformer fit stage 1:  56%|█████▌    | 5293062/9517064 [00:52<00:59, 70887.36it/s]"
     ]
    },
    {
     "name": "stderr",
     "output_type": "stream",
     "text": [
      "\rDictNBHDTransformer fit stage 1:  56%|█████▌    | 5302963/9517064 [00:52<00:54, 77488.46it/s]"
     ]
    },
    {
     "name": "stderr",
     "output_type": "stream",
     "text": [
      "\rDictNBHDTransformer fit stage 1:  56%|█████▌    | 5314652/9517064 [00:52<00:48, 86205.03it/s]"
     ]
    },
    {
     "name": "stderr",
     "output_type": "stream",
     "text": [
      "\rDictNBHDTransformer fit stage 1:  56%|█████▌    | 5325693/9517064 [00:52<00:45, 92272.15it/s]"
     ]
    },
    {
     "name": "stderr",
     "output_type": "stream",
     "text": [
      "\rDictNBHDTransformer fit stage 1:  56%|█████▌    | 5338101/9517064 [00:52<00:41, 99958.57it/s]"
     ]
    },
    {
     "name": "stderr",
     "output_type": "stream",
     "text": [
      "\rDictNBHDTransformer fit stage 1:  56%|█████▌    | 5352589/9517064 [00:52<00:37, 110208.36it/s]"
     ]
    },
    {
     "name": "stderr",
     "output_type": "stream",
     "text": [
      "\rDictNBHDTransformer fit stage 1:  56%|█████▋    | 5366010/9517064 [00:52<00:35, 116307.97it/s]"
     ]
    },
    {
     "name": "stderr",
     "output_type": "stream",
     "text": [
      "\rDictNBHDTransformer fit stage 1:  57%|█████▋    | 5379967/9517064 [00:52<00:33, 122427.65it/s]"
     ]
    },
    {
     "name": "stderr",
     "output_type": "stream",
     "text": [
      "\rDictNBHDTransformer fit stage 1:  57%|█████▋    | 5394994/9517064 [00:53<00:31, 129630.98it/s]"
     ]
    },
    {
     "name": "stderr",
     "output_type": "stream",
     "text": [
      "\rDictNBHDTransformer fit stage 1:  57%|█████▋    | 5410517/9517064 [00:53<00:30, 136374.71it/s]"
     ]
    },
    {
     "name": "stderr",
     "output_type": "stream",
     "text": [
      "\rDictNBHDTransformer fit stage 1:  57%|█████▋    | 5424650/9517064 [00:53<00:38, 107144.41it/s]"
     ]
    },
    {
     "name": "stderr",
     "output_type": "stream",
     "text": [
      "\rDictNBHDTransformer fit stage 1:  57%|█████▋    | 5436686/9517064 [00:53<00:48, 84127.27it/s] "
     ]
    },
    {
     "name": "stderr",
     "output_type": "stream",
     "text": [
      "\rDictNBHDTransformer fit stage 1:  57%|█████▋    | 5448808/9517064 [00:53<00:43, 92560.78it/s]"
     ]
    },
    {
     "name": "stderr",
     "output_type": "stream",
     "text": [
      "\rDictNBHDTransformer fit stage 1:  57%|█████▋    | 5463340/9517064 [00:53<00:39, 103871.06it/s]"
     ]
    },
    {
     "name": "stderr",
     "output_type": "stream",
     "text": [
      "\rDictNBHDTransformer fit stage 1:  58%|█████▊    | 5477186/9517064 [00:53<00:35, 112285.88it/s]"
     ]
    },
    {
     "name": "stderr",
     "output_type": "stream",
     "text": [
      "\rDictNBHDTransformer fit stage 1:  58%|█████▊    | 5492556/9517064 [00:53<00:32, 122160.06it/s]"
     ]
    },
    {
     "name": "stderr",
     "output_type": "stream",
     "text": [
      "\rDictNBHDTransformer fit stage 1:  58%|█████▊    | 5508165/9517064 [00:54<00:30, 130680.92it/s]"
     ]
    },
    {
     "name": "stderr",
     "output_type": "stream",
     "text": [
      "\rDictNBHDTransformer fit stage 1:  58%|█████▊    | 5524456/9517064 [00:54<00:28, 138925.90it/s]"
     ]
    },
    {
     "name": "stderr",
     "output_type": "stream",
     "text": [
      "\rDictNBHDTransformer fit stage 1:  58%|█████▊    | 5541270/9517064 [00:54<00:27, 146565.51it/s]"
     ]
    },
    {
     "name": "stderr",
     "output_type": "stream",
     "text": [
      "\rDictNBHDTransformer fit stage 1:  58%|█████▊    | 5558124/9517064 [00:54<00:25, 152531.35it/s]"
     ]
    },
    {
     "name": "stderr",
     "output_type": "stream",
     "text": [
      "\rDictNBHDTransformer fit stage 1:  59%|█████▊    | 5574380/9517064 [00:54<00:25, 155407.08it/s]"
     ]
    },
    {
     "name": "stderr",
     "output_type": "stream",
     "text": [
      "\rDictNBHDTransformer fit stage 1:  59%|█████▊    | 5590922/9517064 [00:54<00:24, 158279.42it/s]"
     ]
    },
    {
     "name": "stderr",
     "output_type": "stream",
     "text": [
      "\rDictNBHDTransformer fit stage 1:  59%|█████▉    | 5607034/9517064 [00:54<00:29, 133475.14it/s]"
     ]
    },
    {
     "name": "stderr",
     "output_type": "stream",
     "text": [
      "\rDictNBHDTransformer fit stage 1:  59%|█████▉    | 5621245/9517064 [00:54<00:34, 114579.39it/s]"
     ]
    },
    {
     "name": "stderr",
     "output_type": "stream",
     "text": [
      "\rDictNBHDTransformer fit stage 1:  59%|█████▉    | 5634454/9517064 [00:54<00:32, 119324.24it/s]"
     ]
    },
    {
     "name": "stderr",
     "output_type": "stream",
     "text": [
      "\rDictNBHDTransformer fit stage 1:  59%|█████▉    | 5650205/9517064 [00:55<00:30, 128683.06it/s]"
     ]
    },
    {
     "name": "stderr",
     "output_type": "stream",
     "text": [
      "\rDictNBHDTransformer fit stage 1:  60%|█████▉    | 5666243/9517064 [00:55<00:28, 136789.55it/s]"
     ]
    },
    {
     "name": "stderr",
     "output_type": "stream",
     "text": [
      "\rDictNBHDTransformer fit stage 1:  60%|█████▉    | 5681902/9517064 [00:55<00:26, 142181.18it/s]"
     ]
    },
    {
     "name": "stderr",
     "output_type": "stream",
     "text": [
      "\rDictNBHDTransformer fit stage 1:  60%|█████▉    | 5697812/9517064 [00:55<00:26, 146865.33it/s]"
     ]
    },
    {
     "name": "stderr",
     "output_type": "stream",
     "text": [
      "\rDictNBHDTransformer fit stage 1:  60%|██████    | 5712914/9517064 [00:55<00:25, 148085.39it/s]"
     ]
    },
    {
     "name": "stderr",
     "output_type": "stream",
     "text": [
      "\rDictNBHDTransformer fit stage 1:  60%|██████    | 5728013/9517064 [00:55<00:29, 129417.64it/s]"
     ]
    },
    {
     "name": "stderr",
     "output_type": "stream",
     "text": [
      "\rDictNBHDTransformer fit stage 1:  60%|██████    | 5743431/9517064 [00:55<00:27, 135968.16it/s]"
     ]
    },
    {
     "name": "stderr",
     "output_type": "stream",
     "text": [
      "\rDictNBHDTransformer fit stage 1:  61%|██████    | 5758993/9517064 [00:55<00:26, 141321.62it/s]"
     ]
    },
    {
     "name": "stderr",
     "output_type": "stream",
     "text": [
      "\rDictNBHDTransformer fit stage 1:  61%|██████    | 5773548/9517064 [00:55<00:29, 128549.37it/s]"
     ]
    },
    {
     "name": "stderr",
     "output_type": "stream",
     "text": [
      "\rDictNBHDTransformer fit stage 1:  61%|██████    | 5786922/9517064 [00:56<00:30, 120609.38it/s]"
     ]
    },
    {
     "name": "stderr",
     "output_type": "stream",
     "text": [
      "\rDictNBHDTransformer fit stage 1:  61%|██████    | 5799446/9517064 [00:56<00:31, 118140.09it/s]"
     ]
    },
    {
     "name": "stderr",
     "output_type": "stream",
     "text": [
      "\rDictNBHDTransformer fit stage 1:  61%|██████    | 5811977/9517064 [00:56<00:30, 120201.05it/s]"
     ]
    },
    {
     "name": "stderr",
     "output_type": "stream",
     "text": [
      "\rDictNBHDTransformer fit stage 1:  61%|██████    | 5826037/9517064 [00:56<00:29, 125669.60it/s]"
     ]
    },
    {
     "name": "stderr",
     "output_type": "stream",
     "text": [
      "\rDictNBHDTransformer fit stage 1:  61%|██████▏   | 5840948/9517064 [00:56<00:27, 131883.21it/s]"
     ]
    },
    {
     "name": "stderr",
     "output_type": "stream",
     "text": [
      "\rDictNBHDTransformer fit stage 1:  62%|██████▏   | 5856225/9517064 [00:56<00:26, 137519.78it/s]"
     ]
    },
    {
     "name": "stderr",
     "output_type": "stream",
     "text": [
      "\rDictNBHDTransformer fit stage 1:  62%|██████▏   | 5871884/9517064 [00:56<00:25, 142733.00it/s]"
     ]
    },
    {
     "name": "stderr",
     "output_type": "stream",
     "text": [
      "\rDictNBHDTransformer fit stage 1:  62%|██████▏   | 5887720/9517064 [00:56<00:24, 147086.15it/s]"
     ]
    },
    {
     "name": "stderr",
     "output_type": "stream",
     "text": [
      "\rDictNBHDTransformer fit stage 1:  62%|██████▏   | 5902613/9517064 [00:56<00:27, 133431.41it/s]"
     ]
    },
    {
     "name": "stderr",
     "output_type": "stream",
     "text": [
      "\rDictNBHDTransformer fit stage 1:  62%|██████▏   | 5917218/9517064 [00:57<00:26, 136979.59it/s]"
     ]
    },
    {
     "name": "stderr",
     "output_type": "stream",
     "text": [
      "\rDictNBHDTransformer fit stage 1:  62%|██████▏   | 5933058/9517064 [00:57<00:25, 142770.90it/s]"
     ]
    },
    {
     "name": "stderr",
     "output_type": "stream",
     "text": [
      "\rDictNBHDTransformer fit stage 1:  63%|██████▎   | 5948375/9517064 [00:57<00:24, 145736.05it/s]"
     ]
    },
    {
     "name": "stderr",
     "output_type": "stream",
     "text": [
      "\rDictNBHDTransformer fit stage 1:  63%|██████▎   | 5964789/9517064 [00:57<00:23, 150804.99it/s]"
     ]
    },
    {
     "name": "stderr",
     "output_type": "stream",
     "text": [
      "\rDictNBHDTransformer fit stage 1:  63%|██████▎   | 5981159/9517064 [00:57<00:22, 154454.12it/s]"
     ]
    },
    {
     "name": "stderr",
     "output_type": "stream",
     "text": [
      "\rDictNBHDTransformer fit stage 1:  63%|██████▎   | 5996755/9517064 [00:57<00:22, 153898.45it/s]"
     ]
    },
    {
     "name": "stderr",
     "output_type": "stream",
     "text": [
      "\rDictNBHDTransformer fit stage 1:  63%|██████▎   | 6013118/9517064 [00:57<00:22, 156692.38it/s]"
     ]
    },
    {
     "name": "stderr",
     "output_type": "stream",
     "text": [
      "\rDictNBHDTransformer fit stage 1:  63%|██████▎   | 6029606/9517064 [00:57<00:21, 159059.73it/s]"
     ]
    },
    {
     "name": "stderr",
     "output_type": "stream",
     "text": [
      "\rDictNBHDTransformer fit stage 1:  64%|██████▎   | 6045659/9517064 [00:57<00:21, 159497.91it/s]"
     ]
    },
    {
     "name": "stderr",
     "output_type": "stream",
     "text": [
      "\rDictNBHDTransformer fit stage 1:  64%|██████▎   | 6062192/9517064 [00:57<00:21, 161202.90it/s]"
     ]
    },
    {
     "name": "stderr",
     "output_type": "stream",
     "text": [
      "\rDictNBHDTransformer fit stage 1:  64%|██████▍   | 6079074/9517064 [00:58<00:21, 163414.35it/s]"
     ]
    },
    {
     "name": "stderr",
     "output_type": "stream",
     "text": [
      "\rDictNBHDTransformer fit stage 1:  64%|██████▍   | 6095450/9517064 [00:58<00:20, 163255.83it/s]"
     ]
    },
    {
     "name": "stderr",
     "output_type": "stream",
     "text": [
      "\rDictNBHDTransformer fit stage 1:  64%|██████▍   | 6111800/9517064 [00:58<00:21, 160400.60it/s]"
     ]
    },
    {
     "name": "stderr",
     "output_type": "stream",
     "text": [
      "\rDictNBHDTransformer fit stage 1:  64%|██████▍   | 6128188/9517064 [00:58<00:20, 161426.35it/s]"
     ]
    },
    {
     "name": "stderr",
     "output_type": "stream",
     "text": [
      "\rDictNBHDTransformer fit stage 1:  65%|██████▍   | 6144829/9517064 [00:58<00:20, 162889.75it/s]"
     ]
    },
    {
     "name": "stderr",
     "output_type": "stream",
     "text": [
      "\rDictNBHDTransformer fit stage 1:  65%|██████▍   | 6161136/9517064 [00:58<00:20, 161881.61it/s]"
     ]
    },
    {
     "name": "stderr",
     "output_type": "stream",
     "text": [
      "\rDictNBHDTransformer fit stage 1:  65%|██████▍   | 6177339/9517064 [00:58<00:23, 144497.03it/s]"
     ]
    },
    {
     "name": "stderr",
     "output_type": "stream",
     "text": [
      "\rDictNBHDTransformer fit stage 1:  65%|██████▌   | 6192147/9517064 [00:58<00:25, 130420.51it/s]"
     ]
    },
    {
     "name": "stderr",
     "output_type": "stream",
     "text": [
      "\rDictNBHDTransformer fit stage 1:  65%|██████▌   | 6205701/9517064 [00:58<00:26, 123234.37it/s]"
     ]
    },
    {
     "name": "stderr",
     "output_type": "stream",
     "text": [
      "\rDictNBHDTransformer fit stage 1:  65%|██████▌   | 6220467/9517064 [00:59<00:25, 129668.89it/s]"
     ]
    },
    {
     "name": "stderr",
     "output_type": "stream",
     "text": [
      "\rDictNBHDTransformer fit stage 1:  66%|██████▌   | 6233832/9517064 [00:59<00:25, 130567.33it/s]"
     ]
    },
    {
     "name": "stderr",
     "output_type": "stream",
     "text": [
      "\rDictNBHDTransformer fit stage 1:  66%|██████▌   | 6248358/9517064 [00:59<00:24, 134650.99it/s]"
     ]
    },
    {
     "name": "stderr",
     "output_type": "stream",
     "text": [
      "\rDictNBHDTransformer fit stage 1:  66%|██████▌   | 6262051/9517064 [00:59<00:35, 92885.30it/s] "
     ]
    },
    {
     "name": "stderr",
     "output_type": "stream",
     "text": [
      "\rDictNBHDTransformer fit stage 1:  66%|██████▌   | 6273253/9517064 [00:59<00:34, 94870.33it/s]"
     ]
    },
    {
     "name": "stderr",
     "output_type": "stream",
     "text": [
      "\rDictNBHDTransformer fit stage 1:  66%|██████▌   | 6287770/9517064 [00:59<00:30, 105875.03it/s]"
     ]
    },
    {
     "name": "stderr",
     "output_type": "stream",
     "text": [
      "\rDictNBHDTransformer fit stage 1:  66%|██████▌   | 6302982/9517064 [00:59<00:27, 116499.14it/s]"
     ]
    },
    {
     "name": "stderr",
     "output_type": "stream",
     "text": [
      "\rDictNBHDTransformer fit stage 1:  66%|██████▋   | 6318484/9517064 [00:59<00:25, 125881.84it/s]"
     ]
    },
    {
     "name": "stderr",
     "output_type": "stream",
     "text": [
      "\rDictNBHDTransformer fit stage 1:  67%|██████▋   | 6332867/9517064 [01:00<00:24, 130757.29it/s]"
     ]
    },
    {
     "name": "stderr",
     "output_type": "stream",
     "text": [
      "\rDictNBHDTransformer fit stage 1:  67%|██████▋   | 6347725/9517064 [01:00<00:23, 135636.20it/s]"
     ]
    },
    {
     "name": "stderr",
     "output_type": "stream",
     "text": [
      "\rDictNBHDTransformer fit stage 1:  67%|██████▋   | 6361912/9517064 [01:00<00:43, 71797.70it/s] "
     ]
    },
    {
     "name": "stderr",
     "output_type": "stream",
     "text": [
      "\rDictNBHDTransformer fit stage 1:  67%|██████▋   | 6372870/9517064 [01:00<00:53, 58877.14it/s]"
     ]
    },
    {
     "name": "stderr",
     "output_type": "stream",
     "text": [
      "\rDictNBHDTransformer fit stage 1:  67%|██████▋   | 6381785/9517064 [01:00<00:48, 64914.13it/s]"
     ]
    },
    {
     "name": "stderr",
     "output_type": "stream",
     "text": [
      "\rDictNBHDTransformer fit stage 1:  67%|██████▋   | 6394924/9517064 [01:01<00:40, 76528.77it/s]"
     ]
    },
    {
     "name": "stderr",
     "output_type": "stream",
     "text": [
      "\rDictNBHDTransformer fit stage 1:  67%|██████▋   | 6409664/9517064 [01:01<00:34, 89425.65it/s]"
     ]
    },
    {
     "name": "stderr",
     "output_type": "stream",
     "text": [
      "\rDictNBHDTransformer fit stage 1:  67%|██████▋   | 6421175/9517064 [01:01<00:32, 95758.63it/s]"
     ]
    },
    {
     "name": "stderr",
     "output_type": "stream",
     "text": [
      "\rDictNBHDTransformer fit stage 1:  68%|██████▊   | 6432661/9517064 [01:01<00:31, 98500.51it/s]"
     ]
    },
    {
     "name": "stderr",
     "output_type": "stream",
     "text": [
      "\rDictNBHDTransformer fit stage 1:  68%|██████▊   | 6443868/9517064 [01:01<00:35, 86912.91it/s]"
     ]
    },
    {
     "name": "stderr",
     "output_type": "stream",
     "text": [
      "\rDictNBHDTransformer fit stage 1:  68%|██████▊   | 6454385/9517064 [01:01<00:33, 91686.44it/s]"
     ]
    },
    {
     "name": "stderr",
     "output_type": "stream",
     "text": [
      "\rDictNBHDTransformer fit stage 1:  68%|██████▊   | 6467646/9517064 [01:01<00:30, 101039.91it/s]"
     ]
    },
    {
     "name": "stderr",
     "output_type": "stream",
     "text": [
      "\rDictNBHDTransformer fit stage 1:  68%|██████▊   | 6478679/9517064 [01:01<00:29, 102193.20it/s]"
     ]
    },
    {
     "name": "stderr",
     "output_type": "stream",
     "text": [
      "\rDictNBHDTransformer fit stage 1:  68%|██████▊   | 6489552/9517064 [01:01<00:29, 103041.15it/s]"
     ]
    },
    {
     "name": "stderr",
     "output_type": "stream",
     "text": [
      "\rDictNBHDTransformer fit stage 1:  68%|██████▊   | 6500316/9517064 [01:02<00:34, 88400.67it/s] "
     ]
    },
    {
     "name": "stderr",
     "output_type": "stream",
     "text": [
      "\rDictNBHDTransformer fit stage 1:  68%|██████▊   | 6512427/9517064 [01:02<00:31, 96189.68it/s]"
     ]
    },
    {
     "name": "stderr",
     "output_type": "stream",
     "text": [
      "\rDictNBHDTransformer fit stage 1:  69%|██████▊   | 6527395/9517064 [01:02<00:27, 107736.27it/s]"
     ]
    },
    {
     "name": "stderr",
     "output_type": "stream",
     "text": [
      "\rDictNBHDTransformer fit stage 1:  69%|██████▊   | 6542011/9517064 [01:02<00:25, 116960.22it/s]"
     ]
    },
    {
     "name": "stderr",
     "output_type": "stream",
     "text": [
      "\rDictNBHDTransformer fit stage 1:  69%|██████▉   | 6555267/9517064 [01:02<00:24, 121237.86it/s]"
     ]
    },
    {
     "name": "stderr",
     "output_type": "stream",
     "text": [
      "\rDictNBHDTransformer fit stage 1:  69%|██████▉   | 6568046/9517064 [01:02<00:35, 82305.17it/s] "
     ]
    },
    {
     "name": "stderr",
     "output_type": "stream",
     "text": [
      "\rDictNBHDTransformer fit stage 1:  69%|██████▉   | 6578403/9517064 [01:02<00:38, 77070.71it/s]"
     ]
    },
    {
     "name": "stderr",
     "output_type": "stream",
     "text": [
      "\rDictNBHDTransformer fit stage 1:  69%|██████▉   | 6591580/9517064 [01:02<00:33, 88033.39it/s]"
     ]
    },
    {
     "name": "stderr",
     "output_type": "stream",
     "text": [
      "\rDictNBHDTransformer fit stage 1:  69%|██████▉   | 6605728/9517064 [01:03<00:29, 99284.82it/s]"
     ]
    },
    {
     "name": "stderr",
     "output_type": "stream",
     "text": [
      "\rDictNBHDTransformer fit stage 1:  70%|██████▉   | 6618416/9517064 [01:03<00:27, 106211.57it/s]"
     ]
    },
    {
     "name": "stderr",
     "output_type": "stream",
     "text": [
      "\rDictNBHDTransformer fit stage 1:  70%|██████▉   | 6631593/9517064 [01:03<00:25, 112767.96it/s]"
     ]
    },
    {
     "name": "stderr",
     "output_type": "stream",
     "text": [
      "\rDictNBHDTransformer fit stage 1:  70%|██████▉   | 6643870/9517064 [01:03<00:29, 96623.03it/s] "
     ]
    },
    {
     "name": "stderr",
     "output_type": "stream",
     "text": [
      "\rDictNBHDTransformer fit stage 1:  70%|██████▉   | 6654637/9517064 [01:03<00:29, 98147.40it/s]"
     ]
    },
    {
     "name": "stderr",
     "output_type": "stream",
     "text": [
      "\rDictNBHDTransformer fit stage 1:  70%|███████   | 6668042/9517064 [01:03<00:26, 106720.82it/s]"
     ]
    },
    {
     "name": "stderr",
     "output_type": "stream",
     "text": [
      "\rDictNBHDTransformer fit stage 1:  70%|███████   | 6681294/9517064 [01:03<00:25, 113340.22it/s]"
     ]
    },
    {
     "name": "stderr",
     "output_type": "stream",
     "text": [
      "\rDictNBHDTransformer fit stage 1:  70%|███████   | 6693276/9517064 [01:03<00:26, 106839.33it/s]"
     ]
    },
    {
     "name": "stderr",
     "output_type": "stream",
     "text": [
      "\rDictNBHDTransformer fit stage 1:  70%|███████   | 6708187/9517064 [01:03<00:24, 116764.36it/s]"
     ]
    },
    {
     "name": "stderr",
     "output_type": "stream",
     "text": [
      "\rDictNBHDTransformer fit stage 1:  71%|███████   | 6724011/9517064 [01:04<00:22, 126663.54it/s]"
     ]
    },
    {
     "name": "stderr",
     "output_type": "stream",
     "text": [
      "\rDictNBHDTransformer fit stage 1:  71%|███████   | 6740009/9517064 [01:04<00:20, 135100.94it/s]"
     ]
    },
    {
     "name": "stderr",
     "output_type": "stream",
     "text": [
      "\rDictNBHDTransformer fit stage 1:  71%|███████   | 6756505/9517064 [01:04<00:19, 142856.67it/s]"
     ]
    },
    {
     "name": "stderr",
     "output_type": "stream",
     "text": [
      "\rDictNBHDTransformer fit stage 1:  71%|███████   | 6773577/9517064 [01:04<00:18, 150210.70it/s]"
     ]
    },
    {
     "name": "stderr",
     "output_type": "stream",
     "text": [
      "\rDictNBHDTransformer fit stage 1:  71%|███████▏  | 6790216/9517064 [01:04<00:17, 154721.55it/s]"
     ]
    },
    {
     "name": "stderr",
     "output_type": "stream",
     "text": [
      "\rDictNBHDTransformer fit stage 1:  72%|███████▏  | 6806987/9517064 [01:04<00:17, 158397.69it/s]"
     ]
    },
    {
     "name": "stderr",
     "output_type": "stream",
     "text": [
      "\rDictNBHDTransformer fit stage 1:  72%|███████▏  | 6823395/9517064 [01:04<00:16, 160060.22it/s]"
     ]
    },
    {
     "name": "stderr",
     "output_type": "stream",
     "text": [
      "\rDictNBHDTransformer fit stage 1:  72%|███████▏  | 6839685/9517064 [01:04<00:16, 160897.88it/s]"
     ]
    },
    {
     "name": "stderr",
     "output_type": "stream",
     "text": [
      "\rDictNBHDTransformer fit stage 1:  72%|███████▏  | 6855921/9517064 [01:04<00:16, 161183.03it/s]"
     ]
    },
    {
     "name": "stderr",
     "output_type": "stream",
     "text": [
      "\rDictNBHDTransformer fit stage 1:  72%|███████▏  | 6872709/9517064 [01:04<00:16, 163132.44it/s]"
     ]
    },
    {
     "name": "stderr",
     "output_type": "stream",
     "text": [
      "\rDictNBHDTransformer fit stage 1:  72%|███████▏  | 6889100/9517064 [01:05<00:16, 163224.07it/s]"
     ]
    },
    {
     "name": "stderr",
     "output_type": "stream",
     "text": [
      "\rDictNBHDTransformer fit stage 1:  73%|███████▎  | 6905500/9517064 [01:05<00:15, 163454.61it/s]"
     ]
    },
    {
     "name": "stderr",
     "output_type": "stream",
     "text": [
      "\rDictNBHDTransformer fit stage 1:  73%|███████▎  | 6921884/9517064 [01:05<00:16, 160351.73it/s]"
     ]
    },
    {
     "name": "stderr",
     "output_type": "stream",
     "text": [
      "\rDictNBHDTransformer fit stage 1:  73%|███████▎  | 6937959/9517064 [01:05<00:17, 147658.13it/s]"
     ]
    },
    {
     "name": "stderr",
     "output_type": "stream",
     "text": [
      "\rDictNBHDTransformer fit stage 1:  73%|███████▎  | 6954238/9517064 [01:05<00:16, 151891.15it/s]"
     ]
    },
    {
     "name": "stderr",
     "output_type": "stream",
     "text": [
      "\rDictNBHDTransformer fit stage 1:  73%|███████▎  | 6970410/9517064 [01:05<00:16, 154710.80it/s]"
     ]
    },
    {
     "name": "stderr",
     "output_type": "stream",
     "text": [
      "\rDictNBHDTransformer fit stage 1:  73%|███████▎  | 6986855/9517064 [01:05<00:16, 157507.88it/s]"
     ]
    },
    {
     "name": "stderr",
     "output_type": "stream",
     "text": [
      "\rDictNBHDTransformer fit stage 1:  74%|███████▎  | 7003693/9517064 [01:05<00:15, 160617.70it/s]"
     ]
    },
    {
     "name": "stderr",
     "output_type": "stream",
     "text": [
      "\rDictNBHDTransformer fit stage 1:  74%|███████▍  | 7019850/9517064 [01:05<00:15, 160216.83it/s]"
     ]
    },
    {
     "name": "stderr",
     "output_type": "stream",
     "text": [
      "\rDictNBHDTransformer fit stage 1:  74%|███████▍  | 7035939/9517064 [01:06<00:15, 159457.54it/s]"
     ]
    },
    {
     "name": "stderr",
     "output_type": "stream",
     "text": [
      "\rDictNBHDTransformer fit stage 1:  74%|███████▍  | 7051933/9517064 [01:06<00:15, 157717.15it/s]"
     ]
    },
    {
     "name": "stderr",
     "output_type": "stream",
     "text": [
      "\rDictNBHDTransformer fit stage 1:  74%|███████▍  | 7068096/9517064 [01:06<00:15, 158868.56it/s]"
     ]
    },
    {
     "name": "stderr",
     "output_type": "stream",
     "text": [
      "\rDictNBHDTransformer fit stage 1:  74%|███████▍  | 7084545/9517064 [01:06<00:15, 160512.82it/s]"
     ]
    },
    {
     "name": "stderr",
     "output_type": "stream",
     "text": [
      "\rDictNBHDTransformer fit stage 1:  75%|███████▍  | 7100682/9517064 [01:06<00:15, 160768.60it/s]"
     ]
    },
    {
     "name": "stderr",
     "output_type": "stream",
     "text": [
      "\rDictNBHDTransformer fit stage 1:  75%|███████▍  | 7116776/9517064 [01:06<00:15, 160000.67it/s]"
     ]
    },
    {
     "name": "stderr",
     "output_type": "stream",
     "text": [
      "\rDictNBHDTransformer fit stage 1:  75%|███████▍  | 7132789/9517064 [01:06<00:14, 159898.55it/s]"
     ]
    },
    {
     "name": "stderr",
     "output_type": "stream",
     "text": [
      "\rDictNBHDTransformer fit stage 1:  75%|███████▌  | 7148788/9517064 [01:06<00:14, 158943.61it/s]"
     ]
    },
    {
     "name": "stderr",
     "output_type": "stream",
     "text": [
      "\rDictNBHDTransformer fit stage 1:  75%|███████▌  | 7164690/9517064 [01:06<00:14, 158617.47it/s]"
     ]
    },
    {
     "name": "stderr",
     "output_type": "stream",
     "text": [
      "\rDictNBHDTransformer fit stage 1:  75%|███████▌  | 7180558/9517064 [01:06<00:14, 156547.35it/s]"
     ]
    },
    {
     "name": "stderr",
     "output_type": "stream",
     "text": [
      "\rDictNBHDTransformer fit stage 1:  76%|███████▌  | 7196223/9517064 [01:10<02:39, 14577.97it/s] "
     ]
    },
    {
     "name": "stderr",
     "output_type": "stream",
     "text": [
      "\rDictNBHDTransformer fit stage 1:  76%|███████▌  | 7210887/9517064 [01:10<01:55, 19974.62it/s]"
     ]
    },
    {
     "name": "stderr",
     "output_type": "stream",
     "text": [
      "\rDictNBHDTransformer fit stage 1:  76%|███████▌  | 7223061/9517064 [01:10<01:28, 25946.23it/s]"
     ]
    },
    {
     "name": "stderr",
     "output_type": "stream",
     "text": [
      "\rDictNBHDTransformer fit stage 1:  76%|███████▌  | 7234156/9517064 [01:10<01:09, 32696.62it/s]"
     ]
    },
    {
     "name": "stderr",
     "output_type": "stream",
     "text": [
      "\rDictNBHDTransformer fit stage 1:  76%|███████▌  | 7249801/9517064 [01:10<00:52, 42869.52it/s]"
     ]
    },
    {
     "name": "stderr",
     "output_type": "stream",
     "text": [
      "\rDictNBHDTransformer fit stage 1:  76%|███████▋  | 7261679/9517064 [01:10<00:43, 52330.55it/s]"
     ]
    },
    {
     "name": "stderr",
     "output_type": "stream",
     "text": [
      "\rDictNBHDTransformer fit stage 1:  76%|███████▋  | 7276185/9517064 [01:10<00:34, 64746.79it/s]"
     ]
    },
    {
     "name": "stderr",
     "output_type": "stream",
     "text": [
      "\rDictNBHDTransformer fit stage 1:  77%|███████▋  | 7290491/9517064 [01:11<00:28, 77468.74it/s]"
     ]
    },
    {
     "name": "stderr",
     "output_type": "stream",
     "text": [
      "\rDictNBHDTransformer fit stage 1:  77%|███████▋  | 7303489/9517064 [01:11<00:25, 87317.21it/s]"
     ]
    },
    {
     "name": "stderr",
     "output_type": "stream",
     "text": [
      "\rDictNBHDTransformer fit stage 1:  77%|███████▋  | 7316312/9517064 [01:11<00:23, 94323.38it/s]"
     ]
    },
    {
     "name": "stderr",
     "output_type": "stream",
     "text": [
      "\rDictNBHDTransformer fit stage 1:  77%|███████▋  | 7328823/9517064 [01:11<00:21, 101840.11it/s]"
     ]
    },
    {
     "name": "stderr",
     "output_type": "stream",
     "text": [
      "\rDictNBHDTransformer fit stage 1:  77%|███████▋  | 7342274/9517064 [01:11<00:19, 109843.37it/s]"
     ]
    },
    {
     "name": "stderr",
     "output_type": "stream",
     "text": [
      "\rDictNBHDTransformer fit stage 1:  77%|███████▋  | 7357022/9517064 [01:11<00:18, 118948.03it/s]"
     ]
    },
    {
     "name": "stderr",
     "output_type": "stream",
     "text": [
      "\rDictNBHDTransformer fit stage 1:  77%|███████▋  | 7372184/9517064 [01:11<00:16, 127168.61it/s]"
     ]
    },
    {
     "name": "stderr",
     "output_type": "stream",
     "text": [
      "\rDictNBHDTransformer fit stage 1:  78%|███████▊  | 7387582/9517064 [01:11<00:15, 134176.98it/s]"
     ]
    },
    {
     "name": "stderr",
     "output_type": "stream",
     "text": [
      "\rDictNBHDTransformer fit stage 1:  78%|███████▊  | 7404509/9517064 [01:11<00:14, 143074.62it/s]"
     ]
    },
    {
     "name": "stderr",
     "output_type": "stream",
     "text": [
      "\rDictNBHDTransformer fit stage 1:  78%|███████▊  | 7420815/9517064 [01:11<00:14, 148534.11it/s]"
     ]
    },
    {
     "name": "stderr",
     "output_type": "stream",
     "text": [
      "\rDictNBHDTransformer fit stage 1:  78%|███████▊  | 7436629/9517064 [01:12<00:13, 151290.59it/s]"
     ]
    },
    {
     "name": "stderr",
     "output_type": "stream",
     "text": [
      "\rDictNBHDTransformer fit stage 1:  78%|███████▊  | 7452208/9517064 [01:13<00:48, 42360.04it/s] "
     ]
    },
    {
     "name": "stderr",
     "output_type": "stream",
     "text": [
      "\rDictNBHDTransformer fit stage 1:  78%|███████▊  | 7463588/9517064 [01:13<00:40, 51303.70it/s]"
     ]
    },
    {
     "name": "stderr",
     "output_type": "stream",
     "text": [
      "\rDictNBHDTransformer fit stage 1:  79%|███████▊  | 7476573/9517064 [01:13<00:32, 62674.94it/s]"
     ]
    },
    {
     "name": "stderr",
     "output_type": "stream",
     "text": [
      "\rDictNBHDTransformer fit stage 1:  79%|███████▊  | 7488172/9517064 [01:13<00:27, 72696.93it/s]"
     ]
    },
    {
     "name": "stderr",
     "output_type": "stream",
     "text": [
      "\rDictNBHDTransformer fit stage 1:  79%|███████▉  | 7502572/9517064 [01:13<00:23, 85379.32it/s]"
     ]
    },
    {
     "name": "stderr",
     "output_type": "stream",
     "text": [
      "\rDictNBHDTransformer fit stage 1:  79%|███████▉  | 7516358/9517064 [01:13<00:20, 96385.96it/s]"
     ]
    },
    {
     "name": "stderr",
     "output_type": "stream",
     "text": [
      "\rDictNBHDTransformer fit stage 1:  79%|███████▉  | 7529199/9517064 [01:13<00:19, 103788.34it/s]"
     ]
    },
    {
     "name": "stderr",
     "output_type": "stream",
     "text": [
      "\rDictNBHDTransformer fit stage 1:  79%|███████▉  | 7541981/9517064 [01:13<00:20, 97058.93it/s] "
     ]
    },
    {
     "name": "stderr",
     "output_type": "stream",
     "text": [
      "\rDictNBHDTransformer fit stage 1:  79%|███████▉  | 7553458/9517064 [01:13<00:21, 91622.77it/s]"
     ]
    },
    {
     "name": "stderr",
     "output_type": "stream",
     "text": [
      "\rDictNBHDTransformer fit stage 1:  80%|███████▉  | 7566367/9517064 [01:14<00:19, 100359.60it/s]"
     ]
    },
    {
     "name": "stderr",
     "output_type": "stream",
     "text": [
      "\rDictNBHDTransformer fit stage 1:  80%|███████▉  | 7579928/9517064 [01:14<00:17, 108846.40it/s]"
     ]
    },
    {
     "name": "stderr",
     "output_type": "stream",
     "text": [
      "\rDictNBHDTransformer fit stage 1:  80%|███████▉  | 7593803/9517064 [01:14<00:16, 116369.42it/s]"
     ]
    },
    {
     "name": "stderr",
     "output_type": "stream",
     "text": [
      "\rDictNBHDTransformer fit stage 1:  80%|███████▉  | 7607670/9517064 [01:14<00:15, 122268.24it/s]"
     ]
    },
    {
     "name": "stderr",
     "output_type": "stream",
     "text": [
      "\rDictNBHDTransformer fit stage 1:  80%|████████  | 7621556/9517064 [01:14<00:14, 126812.93it/s]"
     ]
    },
    {
     "name": "stderr",
     "output_type": "stream",
     "text": [
      "\rDictNBHDTransformer fit stage 1:  80%|████████  | 7635665/9517064 [01:14<00:14, 130781.98it/s]"
     ]
    },
    {
     "name": "stderr",
     "output_type": "stream",
     "text": [
      "\rDictNBHDTransformer fit stage 1:  80%|████████  | 7650217/9517064 [01:14<00:13, 134874.42it/s]"
     ]
    },
    {
     "name": "stderr",
     "output_type": "stream",
     "text": [
      "\rDictNBHDTransformer fit stage 1:  81%|████████  | 7666488/9517064 [01:14<00:13, 142169.42it/s]"
     ]
    },
    {
     "name": "stderr",
     "output_type": "stream",
     "text": [
      "\rDictNBHDTransformer fit stage 1:  81%|████████  | 7682410/9517064 [01:14<00:12, 146887.78it/s]"
     ]
    },
    {
     "name": "stderr",
     "output_type": "stream",
     "text": [
      "\rDictNBHDTransformer fit stage 1:  81%|████████  | 7698476/9517064 [01:14<00:12, 150763.71it/s]"
     ]
    },
    {
     "name": "stderr",
     "output_type": "stream",
     "text": [
      "\rDictNBHDTransformer fit stage 1:  81%|████████  | 7713764/9517064 [01:15<00:11, 150815.30it/s]"
     ]
    },
    {
     "name": "stderr",
     "output_type": "stream",
     "text": [
      "\rDictNBHDTransformer fit stage 1:  81%|████████  | 7729978/9517064 [01:15<00:11, 154042.15it/s]"
     ]
    },
    {
     "name": "stderr",
     "output_type": "stream",
     "text": [
      "\rDictNBHDTransformer fit stage 1:  81%|████████▏ | 7745714/9517064 [01:15<00:11, 155021.34it/s]"
     ]
    },
    {
     "name": "stderr",
     "output_type": "stream",
     "text": [
      "\rDictNBHDTransformer fit stage 1:  82%|████████▏ | 7761670/9517064 [01:15<00:11, 156355.09it/s]"
     ]
    },
    {
     "name": "stderr",
     "output_type": "stream",
     "text": [
      "\rDictNBHDTransformer fit stage 1:  82%|████████▏ | 7777369/9517064 [01:15<00:11, 155905.69it/s]"
     ]
    },
    {
     "name": "stderr",
     "output_type": "stream",
     "text": [
      "\rDictNBHDTransformer fit stage 1:  82%|████████▏ | 7793458/9517064 [01:15<00:10, 157366.87it/s]"
     ]
    },
    {
     "name": "stderr",
     "output_type": "stream",
     "text": [
      "\rDictNBHDTransformer fit stage 1:  82%|████████▏ | 7809648/9517064 [01:15<00:10, 158699.41it/s]"
     ]
    },
    {
     "name": "stderr",
     "output_type": "stream",
     "text": [
      "\rDictNBHDTransformer fit stage 1:  82%|████████▏ | 7825545/9517064 [01:15<00:10, 158220.46it/s]"
     ]
    },
    {
     "name": "stderr",
     "output_type": "stream",
     "text": [
      "\rDictNBHDTransformer fit stage 1:  82%|████████▏ | 7842656/9517064 [01:15<00:10, 161876.45it/s]"
     ]
    },
    {
     "name": "stderr",
     "output_type": "stream",
     "text": [
      "\rDictNBHDTransformer fit stage 1:  83%|████████▎ | 7859346/9517064 [01:15<00:10, 163348.66it/s]"
     ]
    },
    {
     "name": "stderr",
     "output_type": "stream",
     "text": [
      "\rDictNBHDTransformer fit stage 1:  83%|████████▎ | 7875708/9517064 [01:16<00:10, 163180.42it/s]"
     ]
    },
    {
     "name": "stderr",
     "output_type": "stream",
     "text": [
      "\rDictNBHDTransformer fit stage 1:  83%|████████▎ | 7892435/9517064 [01:16<00:09, 164384.68it/s]"
     ]
    },
    {
     "name": "stderr",
     "output_type": "stream",
     "text": [
      "\rDictNBHDTransformer fit stage 1:  83%|████████▎ | 7908889/9517064 [01:16<00:09, 163347.89it/s]"
     ]
    },
    {
     "name": "stderr",
     "output_type": "stream",
     "text": [
      "\rDictNBHDTransformer fit stage 1:  83%|████████▎ | 7925237/9517064 [01:16<00:09, 161925.25it/s]"
     ]
    },
    {
     "name": "stderr",
     "output_type": "stream",
     "text": [
      "\rDictNBHDTransformer fit stage 1:  83%|████████▎ | 7941441/9517064 [01:16<00:09, 161859.61it/s]"
     ]
    },
    {
     "name": "stderr",
     "output_type": "stream",
     "text": [
      "\rDictNBHDTransformer fit stage 1:  84%|████████▎ | 7957657/9517064 [01:16<00:09, 161948.73it/s]"
     ]
    },
    {
     "name": "stderr",
     "output_type": "stream",
     "text": [
      "\rDictNBHDTransformer fit stage 1:  84%|████████▍ | 7974277/9517064 [01:16<00:09, 163201.03it/s]"
     ]
    },
    {
     "name": "stderr",
     "output_type": "stream",
     "text": [
      "\rDictNBHDTransformer fit stage 1:  84%|████████▍ | 7990604/9517064 [01:16<00:09, 159824.74it/s]"
     ]
    },
    {
     "name": "stderr",
     "output_type": "stream",
     "text": [
      "\rDictNBHDTransformer fit stage 1:  84%|████████▍ | 8006607/9517064 [01:16<00:09, 155012.90it/s]"
     ]
    },
    {
     "name": "stderr",
     "output_type": "stream",
     "text": [
      "\rDictNBHDTransformer fit stage 1:  84%|████████▍ | 8022926/9517064 [01:17<00:09, 157376.33it/s]"
     ]
    },
    {
     "name": "stderr",
     "output_type": "stream",
     "text": [
      "\rDictNBHDTransformer fit stage 1:  84%|████████▍ | 8038705/9517064 [01:17<00:09, 156203.60it/s]"
     ]
    },
    {
     "name": "stderr",
     "output_type": "stream",
     "text": [
      "\rDictNBHDTransformer fit stage 1:  85%|████████▍ | 8054445/9517064 [01:17<00:09, 156557.87it/s]"
     ]
    },
    {
     "name": "stderr",
     "output_type": "stream",
     "text": [
      "\rDictNBHDTransformer fit stage 1:  85%|████████▍ | 8070563/9517064 [01:17<00:09, 157916.03it/s]"
     ]
    },
    {
     "name": "stderr",
     "output_type": "stream",
     "text": [
      "\rDictNBHDTransformer fit stage 1:  85%|████████▍ | 8086679/9517064 [01:17<00:09, 158874.46it/s]"
     ]
    },
    {
     "name": "stderr",
     "output_type": "stream",
     "text": [
      "\rDictNBHDTransformer fit stage 1:  85%|████████▌ | 8102848/9517064 [01:17<00:08, 159706.00it/s]"
     ]
    },
    {
     "name": "stderr",
     "output_type": "stream",
     "text": [
      "\rDictNBHDTransformer fit stage 1:  85%|████████▌ | 8119313/9517064 [01:17<00:08, 161153.84it/s]"
     ]
    },
    {
     "name": "stderr",
     "output_type": "stream",
     "text": [
      "\rDictNBHDTransformer fit stage 1:  85%|████████▌ | 8135664/9517064 [01:17<00:08, 161853.23it/s]"
     ]
    },
    {
     "name": "stderr",
     "output_type": "stream",
     "text": [
      "\rDictNBHDTransformer fit stage 1:  86%|████████▌ | 8151858/9517064 [01:17<00:08, 160968.35it/s]"
     ]
    },
    {
     "name": "stderr",
     "output_type": "stream",
     "text": [
      "\rDictNBHDTransformer fit stage 1:  86%|████████▌ | 8167962/9517064 [01:17<00:08, 160853.71it/s]"
     ]
    },
    {
     "name": "stderr",
     "output_type": "stream",
     "text": [
      "\rDictNBHDTransformer fit stage 1:  86%|████████▌ | 8184053/9517064 [01:18<00:08, 160641.24it/s]"
     ]
    },
    {
     "name": "stderr",
     "output_type": "stream",
     "text": [
      "\rDictNBHDTransformer fit stage 1:  86%|████████▌ | 8200745/9517064 [01:18<00:08, 162473.17it/s]"
     ]
    },
    {
     "name": "stderr",
     "output_type": "stream",
     "text": [
      "\rDictNBHDTransformer fit stage 1:  86%|████████▋ | 8217000/9517064 [01:18<00:08, 156051.09it/s]"
     ]
    },
    {
     "name": "stderr",
     "output_type": "stream",
     "text": [
      "\rDictNBHDTransformer fit stage 1:  87%|████████▋ | 8233181/9517064 [01:18<00:08, 157732.00it/s]"
     ]
    },
    {
     "name": "stderr",
     "output_type": "stream",
     "text": [
      "\rDictNBHDTransformer fit stage 1:  87%|████████▋ | 8249080/9517064 [01:18<00:08, 158104.09it/s]"
     ]
    },
    {
     "name": "stderr",
     "output_type": "stream",
     "text": [
      "\rDictNBHDTransformer fit stage 1:  87%|████████▋ | 8265359/9517064 [01:18<00:07, 159478.99it/s]"
     ]
    },
    {
     "name": "stderr",
     "output_type": "stream",
     "text": [
      "\rDictNBHDTransformer fit stage 1:  87%|████████▋ | 8281788/9517064 [01:18<00:07, 160891.47it/s]"
     ]
    },
    {
     "name": "stderr",
     "output_type": "stream",
     "text": [
      "\rDictNBHDTransformer fit stage 1:  87%|████████▋ | 8298618/9517064 [01:18<00:07, 163042.30it/s]"
     ]
    },
    {
     "name": "stderr",
     "output_type": "stream",
     "text": [
      "\rDictNBHDTransformer fit stage 1:  87%|████████▋ | 8314944/9517064 [01:18<00:07, 161207.20it/s]"
     ]
    },
    {
     "name": "stderr",
     "output_type": "stream",
     "text": [
      "\rDictNBHDTransformer fit stage 1:  88%|████████▊ | 8331479/9517064 [01:18<00:07, 162427.21it/s]"
     ]
    },
    {
     "name": "stderr",
     "output_type": "stream",
     "text": [
      "\rDictNBHDTransformer fit stage 1:  88%|████████▊ | 8347738/9517064 [01:19<00:07, 160320.40it/s]"
     ]
    },
    {
     "name": "stderr",
     "output_type": "stream",
     "text": [
      "\rDictNBHDTransformer fit stage 1:  88%|████████▊ | 8364413/9517064 [01:19<00:07, 162195.64it/s]"
     ]
    },
    {
     "name": "stderr",
     "output_type": "stream",
     "text": [
      "\rDictNBHDTransformer fit stage 1:  88%|████████▊ | 8380651/9517064 [01:19<00:07, 162013.00it/s]"
     ]
    },
    {
     "name": "stderr",
     "output_type": "stream",
     "text": [
      "\rDictNBHDTransformer fit stage 1:  88%|████████▊ | 8397302/9517064 [01:19<00:06, 163335.98it/s]"
     ]
    },
    {
     "name": "stderr",
     "output_type": "stream",
     "text": [
      "\rDictNBHDTransformer fit stage 1:  88%|████████▊ | 8414347/9517064 [01:19<00:06, 165404.56it/s]"
     ]
    },
    {
     "name": "stderr",
     "output_type": "stream",
     "text": [
      "\rDictNBHDTransformer fit stage 1:  89%|████████▊ | 8431160/9517064 [01:19<00:06, 166200.93it/s]"
     ]
    },
    {
     "name": "stderr",
     "output_type": "stream",
     "text": [
      "\rDictNBHDTransformer fit stage 1:  89%|████████▉ | 8447791/9517064 [01:19<00:06, 165049.80it/s]"
     ]
    },
    {
     "name": "stderr",
     "output_type": "stream",
     "text": [
      "\rDictNBHDTransformer fit stage 1:  89%|████████▉ | 8464306/9517064 [01:19<00:06, 164081.00it/s]"
     ]
    },
    {
     "name": "stderr",
     "output_type": "stream",
     "text": [
      "\rDictNBHDTransformer fit stage 1:  89%|████████▉ | 8480722/9517064 [01:19<00:06, 161437.61it/s]"
     ]
    },
    {
     "name": "stderr",
     "output_type": "stream",
     "text": [
      "\rDictNBHDTransformer fit stage 1:  89%|████████▉ | 8496881/9517064 [01:19<00:06, 161077.72it/s]"
     ]
    },
    {
     "name": "stderr",
     "output_type": "stream",
     "text": [
      "\rDictNBHDTransformer fit stage 1:  89%|████████▉ | 8513000/9517064 [01:20<00:06, 160561.60it/s]"
     ]
    },
    {
     "name": "stderr",
     "output_type": "stream",
     "text": [
      "\rDictNBHDTransformer fit stage 1:  90%|████████▉ | 8529065/9517064 [01:20<00:06, 160461.04it/s]"
     ]
    },
    {
     "name": "stderr",
     "output_type": "stream",
     "text": [
      "\rDictNBHDTransformer fit stage 1:  90%|████████▉ | 8545941/9517064 [01:20<00:05, 162862.78it/s]"
     ]
    },
    {
     "name": "stderr",
     "output_type": "stream",
     "text": [
      "\rDictNBHDTransformer fit stage 1:  90%|████████▉ | 8562486/9517064 [01:20<00:05, 163628.02it/s]"
     ]
    },
    {
     "name": "stderr",
     "output_type": "stream",
     "text": [
      "\rDictNBHDTransformer fit stage 1:  90%|█████████ | 8579329/9517064 [01:20<00:05, 165038.04it/s]"
     ]
    },
    {
     "name": "stderr",
     "output_type": "stream",
     "text": [
      "\rDictNBHDTransformer fit stage 1:  90%|█████████ | 8595843/9517064 [01:20<00:06, 151494.54it/s]"
     ]
    },
    {
     "name": "stderr",
     "output_type": "stream",
     "text": [
      "\rDictNBHDTransformer fit stage 1:  90%|█████████ | 8611447/9517064 [01:20<00:05, 152828.78it/s]"
     ]
    },
    {
     "name": "stderr",
     "output_type": "stream",
     "text": [
      "\rDictNBHDTransformer fit stage 1:  91%|█████████ | 8627558/9517064 [01:20<00:05, 155221.01it/s]"
     ]
    },
    {
     "name": "stderr",
     "output_type": "stream",
     "text": [
      "\rDictNBHDTransformer fit stage 1:  91%|█████████ | 8643828/9517064 [01:20<00:05, 157391.00it/s]"
     ]
    },
    {
     "name": "stderr",
     "output_type": "stream",
     "text": [
      "\rDictNBHDTransformer fit stage 1:  91%|█████████ | 8659789/9517064 [01:20<00:05, 158049.34it/s]"
     ]
    },
    {
     "name": "stderr",
     "output_type": "stream",
     "text": [
      "\rDictNBHDTransformer fit stage 1:  91%|█████████ | 8675659/9517064 [01:21<00:05, 158033.93it/s]"
     ]
    },
    {
     "name": "stderr",
     "output_type": "stream",
     "text": [
      "\rDictNBHDTransformer fit stage 1:  91%|█████████▏| 8691508/9517064 [01:21<00:05, 155032.74it/s]"
     ]
    },
    {
     "name": "stderr",
     "output_type": "stream",
     "text": [
      "\rDictNBHDTransformer fit stage 1:  91%|█████████▏| 8707056/9517064 [01:21<00:06, 128386.60it/s]"
     ]
    },
    {
     "name": "stderr",
     "output_type": "stream",
     "text": [
      "\rDictNBHDTransformer fit stage 1:  92%|█████████▏| 8721325/9517064 [01:21<00:06, 132366.79it/s]"
     ]
    },
    {
     "name": "stderr",
     "output_type": "stream",
     "text": [
      "\rDictNBHDTransformer fit stage 1:  92%|█████████▏| 8735149/9517064 [01:21<00:06, 121852.70it/s]"
     ]
    },
    {
     "name": "stderr",
     "output_type": "stream",
     "text": [
      "\rDictNBHDTransformer fit stage 1:  92%|█████████▏| 8747910/9517064 [01:21<00:06, 116892.70it/s]"
     ]
    },
    {
     "name": "stderr",
     "output_type": "stream",
     "text": [
      "\rDictNBHDTransformer fit stage 1:  92%|█████████▏| 8763084/9517064 [01:21<00:06, 125541.32it/s]"
     ]
    },
    {
     "name": "stderr",
     "output_type": "stream",
     "text": [
      "\rDictNBHDTransformer fit stage 1:  92%|█████████▏| 8778819/9517064 [01:21<00:05, 133646.11it/s]"
     ]
    },
    {
     "name": "stderr",
     "output_type": "stream",
     "text": [
      "\rDictNBHDTransformer fit stage 1:  92%|█████████▏| 8795307/9517064 [01:22<00:05, 141694.05it/s]"
     ]
    },
    {
     "name": "stderr",
     "output_type": "stream",
     "text": [
      "\rDictNBHDTransformer fit stage 1:  93%|█████████▎| 8812117/9517064 [01:22<00:04, 148700.87it/s]"
     ]
    },
    {
     "name": "stderr",
     "output_type": "stream",
     "text": [
      "\rDictNBHDTransformer fit stage 1:  93%|█████████▎| 8828013/9517064 [01:22<00:04, 151634.79it/s]"
     ]
    },
    {
     "name": "stderr",
     "output_type": "stream",
     "text": [
      "\rDictNBHDTransformer fit stage 1:  93%|█████████▎| 8844183/9517064 [01:22<00:04, 154518.11it/s]"
     ]
    },
    {
     "name": "stderr",
     "output_type": "stream",
     "text": [
      "\rDictNBHDTransformer fit stage 1:  93%|█████████▎| 8860344/9517064 [01:22<00:04, 156577.65it/s]"
     ]
    },
    {
     "name": "stderr",
     "output_type": "stream",
     "text": [
      "\rDictNBHDTransformer fit stage 1:  93%|█████████▎| 8876654/9517064 [01:22<00:04, 158473.34it/s]"
     ]
    },
    {
     "name": "stderr",
     "output_type": "stream",
     "text": [
      "\rDictNBHDTransformer fit stage 1:  93%|█████████▎| 8892625/9517064 [01:22<00:03, 158239.35it/s]"
     ]
    },
    {
     "name": "stderr",
     "output_type": "stream",
     "text": [
      "\rDictNBHDTransformer fit stage 1:  94%|█████████▎| 8908963/9517064 [01:22<00:03, 159744.39it/s]"
     ]
    },
    {
     "name": "stderr",
     "output_type": "stream",
     "text": [
      "\rDictNBHDTransformer fit stage 1:  94%|█████████▍| 8925068/9517064 [01:22<00:03, 160133.78it/s]"
     ]
    },
    {
     "name": "stderr",
     "output_type": "stream",
     "text": [
      "\rDictNBHDTransformer fit stage 1:  94%|█████████▍| 8941654/9517064 [01:22<00:03, 161807.93it/s]"
     ]
    },
    {
     "name": "stderr",
     "output_type": "stream",
     "text": [
      "\rDictNBHDTransformer fit stage 1:  94%|█████████▍| 8957871/9517064 [01:23<00:03, 159583.24it/s]"
     ]
    },
    {
     "name": "stderr",
     "output_type": "stream",
     "text": [
      "\rDictNBHDTransformer fit stage 1:  94%|█████████▍| 8973862/9517064 [01:23<00:03, 157823.61it/s]"
     ]
    },
    {
     "name": "stderr",
     "output_type": "stream",
     "text": [
      "\rDictNBHDTransformer fit stage 1:  94%|█████████▍| 8989672/9517064 [01:23<00:03, 152454.00it/s]"
     ]
    },
    {
     "name": "stderr",
     "output_type": "stream",
     "text": [
      "\rDictNBHDTransformer fit stage 1:  95%|█████████▍| 9004976/9517064 [01:23<00:03, 149575.05it/s]"
     ]
    },
    {
     "name": "stderr",
     "output_type": "stream",
     "text": [
      "\rDictNBHDTransformer fit stage 1:  95%|█████████▍| 9019987/9517064 [01:23<00:03, 148516.51it/s]"
     ]
    },
    {
     "name": "stderr",
     "output_type": "stream",
     "text": [
      "\rDictNBHDTransformer fit stage 1:  95%|█████████▍| 9035545/9517064 [01:23<00:03, 150564.30it/s]"
     ]
    },
    {
     "name": "stderr",
     "output_type": "stream",
     "text": [
      "\rDictNBHDTransformer fit stage 1:  95%|█████████▌| 9052085/9517064 [01:23<00:03, 154727.77it/s]"
     ]
    },
    {
     "name": "stderr",
     "output_type": "stream",
     "text": [
      "\rDictNBHDTransformer fit stage 1:  95%|█████████▌| 9068076/9517064 [01:23<00:02, 156244.47it/s]"
     ]
    },
    {
     "name": "stderr",
     "output_type": "stream",
     "text": [
      "\rDictNBHDTransformer fit stage 1:  95%|█████████▌| 9083741/9517064 [01:23<00:02, 155872.62it/s]"
     ]
    },
    {
     "name": "stderr",
     "output_type": "stream",
     "text": [
      "\rDictNBHDTransformer fit stage 1:  96%|█████████▌| 9099357/9517064 [01:23<00:02, 154993.31it/s]"
     ]
    },
    {
     "name": "stderr",
     "output_type": "stream",
     "text": [
      "\rDictNBHDTransformer fit stage 1:  96%|█████████▌| 9116062/9517064 [01:24<00:02, 158418.32it/s]"
     ]
    },
    {
     "name": "stderr",
     "output_type": "stream",
     "text": [
      "\rDictNBHDTransformer fit stage 1:  96%|█████████▌| 9132174/9517064 [01:24<00:02, 159218.74it/s]"
     ]
    },
    {
     "name": "stderr",
     "output_type": "stream",
     "text": [
      "\rDictNBHDTransformer fit stage 1:  96%|█████████▌| 9148349/9517064 [01:24<00:02, 159966.86it/s]"
     ]
    },
    {
     "name": "stderr",
     "output_type": "stream",
     "text": [
      "\rDictNBHDTransformer fit stage 1:  96%|█████████▋| 9164364/9517064 [01:24<00:02, 157452.33it/s]"
     ]
    },
    {
     "name": "stderr",
     "output_type": "stream",
     "text": [
      "\rDictNBHDTransformer fit stage 1:  96%|█████████▋| 9181101/9517064 [01:24<00:02, 160267.01it/s]"
     ]
    },
    {
     "name": "stderr",
     "output_type": "stream",
     "text": [
      "\rDictNBHDTransformer fit stage 1:  97%|█████████▋| 9198445/9517064 [01:24<00:01, 164002.94it/s]"
     ]
    },
    {
     "name": "stderr",
     "output_type": "stream",
     "text": [
      "\rDictNBHDTransformer fit stage 1:  97%|█████████▋| 9215779/9517064 [01:24<00:01, 166694.92it/s]"
     ]
    },
    {
     "name": "stderr",
     "output_type": "stream",
     "text": [
      "\rDictNBHDTransformer fit stage 1:  97%|█████████▋| 9233290/9517064 [01:24<00:01, 169131.22it/s]"
     ]
    },
    {
     "name": "stderr",
     "output_type": "stream",
     "text": [
      "\rDictNBHDTransformer fit stage 1:  97%|█████████▋| 9250526/9517064 [01:24<00:01, 170085.57it/s]"
     ]
    },
    {
     "name": "stderr",
     "output_type": "stream",
     "text": [
      "\rDictNBHDTransformer fit stage 1:  97%|█████████▋| 9268101/9517064 [01:24<00:01, 171745.15it/s]"
     ]
    },
    {
     "name": "stderr",
     "output_type": "stream",
     "text": [
      "\rDictNBHDTransformer fit stage 1:  98%|█████████▊| 9285298/9517064 [01:25<00:01, 171334.97it/s]"
     ]
    },
    {
     "name": "stderr",
     "output_type": "stream",
     "text": [
      "\rDictNBHDTransformer fit stage 1:  98%|█████████▊| 9302885/9517064 [01:25<00:01, 172669.20it/s]"
     ]
    },
    {
     "name": "stderr",
     "output_type": "stream",
     "text": [
      "\rDictNBHDTransformer fit stage 1:  98%|█████████▊| 9320166/9517064 [01:25<00:01, 169944.06it/s]"
     ]
    },
    {
     "name": "stderr",
     "output_type": "stream",
     "text": [
      "\rDictNBHDTransformer fit stage 1:  98%|█████████▊| 9337276/9517064 [01:25<00:01, 170285.73it/s]"
     ]
    },
    {
     "name": "stderr",
     "output_type": "stream",
     "text": [
      "\rDictNBHDTransformer fit stage 1:  98%|█████████▊| 9354319/9517064 [01:25<00:00, 169388.93it/s]"
     ]
    },
    {
     "name": "stderr",
     "output_type": "stream",
     "text": [
      "\rDictNBHDTransformer fit stage 1:  98%|█████████▊| 9371341/9517064 [01:25<00:00, 169634.79it/s]"
     ]
    },
    {
     "name": "stderr",
     "output_type": "stream",
     "text": [
      "\rDictNBHDTransformer fit stage 1:  99%|█████████▊| 9388312/9517064 [01:25<00:00, 169587.18it/s]"
     ]
    },
    {
     "name": "stderr",
     "output_type": "stream",
     "text": [
      "\rDictNBHDTransformer fit stage 1:  99%|█████████▉| 9405276/9517064 [01:25<00:00, 169281.56it/s]"
     ]
    },
    {
     "name": "stderr",
     "output_type": "stream",
     "text": [
      "\rDictNBHDTransformer fit stage 1:  99%|█████████▉| 9423222/9517064 [01:25<00:00, 172210.15it/s]"
     ]
    },
    {
     "name": "stderr",
     "output_type": "stream",
     "text": [
      "\rDictNBHDTransformer fit stage 1:  99%|█████████▉| 9441023/9517064 [01:25<00:00, 173908.14it/s]"
     ]
    },
    {
     "name": "stderr",
     "output_type": "stream",
     "text": [
      "\rDictNBHDTransformer fit stage 1:  99%|█████████▉| 9458429/9517064 [01:26<00:00, 173848.83it/s]"
     ]
    },
    {
     "name": "stderr",
     "output_type": "stream",
     "text": [
      "\rDictNBHDTransformer fit stage 1: 100%|█████████▉| 9476453/9517064 [01:26<00:00, 175718.01it/s]"
     ]
    },
    {
     "name": "stderr",
     "output_type": "stream",
     "text": [
      "\rDictNBHDTransformer fit stage 1: 100%|█████████▉| 9494580/9517064 [01:26<00:00, 177345.50it/s]"
     ]
    },
    {
     "name": "stderr",
     "output_type": "stream",
     "text": [
      "\rDictNBHDTransformer fit stage 1: 100%|█████████▉| 9513309/9517064 [01:26<00:00, 180215.60it/s]"
     ]
    },
    {
     "name": "stderr",
     "output_type": "stream",
     "text": [
      "\rDictNBHDTransformer fit stage 1: 100%|██████████| 9517064/9517064 [01:26<00:00, 109967.48it/s]"
     ]
    },
    {
     "name": "stderr",
     "output_type": "stream",
     "text": [
      "\n\rDictNBHDTransformer fit stage 2:   0%|          | 0/7002961 [00:00<?, ?it/s]"
     ]
    },
    {
     "name": "stderr",
     "output_type": "stream",
     "text": [
      "\rDictNBHDTransformer fit stage 2:   0%|          | 14597/7002961 [00:00<00:47, 145967.01it/s]"
     ]
    },
    {
     "name": "stderr",
     "output_type": "stream",
     "text": [
      "\rDictNBHDTransformer fit stage 2:   0%|          | 30008/7002961 [00:00<00:47, 148317.73it/s]"
     ]
    },
    {
     "name": "stderr",
     "output_type": "stream",
     "text": [
      "\rDictNBHDTransformer fit stage 2:   1%|          | 45352/7002961 [00:00<00:46, 149817.24it/s]"
     ]
    },
    {
     "name": "stderr",
     "output_type": "stream",
     "text": [
      "\rDictNBHDTransformer fit stage 2:   1%|          | 61251/7002961 [00:00<00:45, 152453.92it/s]"
     ]
    },
    {
     "name": "stderr",
     "output_type": "stream",
     "text": [
      "\rDictNBHDTransformer fit stage 2:   1%|          | 77527/7002961 [00:00<00:44, 155403.76it/s]"
     ]
    },
    {
     "name": "stderr",
     "output_type": "stream",
     "text": [
      "\rDictNBHDTransformer fit stage 2:   1%|▏         | 93177/7002961 [00:00<00:44, 155728.84it/s]"
     ]
    },
    {
     "name": "stderr",
     "output_type": "stream",
     "text": [
      "\rDictNBHDTransformer fit stage 2:   2%|▏         | 109861/7002961 [00:00<00:43, 158901.29it/s]"
     ]
    },
    {
     "name": "stderr",
     "output_type": "stream",
     "text": [
      "\rDictNBHDTransformer fit stage 2:   2%|▏         | 126538/7002961 [00:00<00:42, 161182.30it/s]"
     ]
    },
    {
     "name": "stderr",
     "output_type": "stream",
     "text": [
      "\rDictNBHDTransformer fit stage 2:   2%|▏         | 143694/7002961 [00:00<00:41, 164158.58it/s]"
     ]
    },
    {
     "name": "stderr",
     "output_type": "stream",
     "text": [
      "\rDictNBHDTransformer fit stage 2:   2%|▏         | 160495/7002961 [00:01<00:41, 165293.29it/s]"
     ]
    },
    {
     "name": "stderr",
     "output_type": "stream",
     "text": [
      "\rDictNBHDTransformer fit stage 2:   3%|▎         | 176638/7002961 [00:01<00:42, 161473.45it/s]"
     ]
    },
    {
     "name": "stderr",
     "output_type": "stream",
     "text": [
      "\rDictNBHDTransformer fit stage 2:   3%|▎         | 193251/7002961 [00:01<00:41, 162840.88it/s]"
     ]
    },
    {
     "name": "stderr",
     "output_type": "stream",
     "text": [
      "\rDictNBHDTransformer fit stage 2:   3%|▎         | 209980/7002961 [00:01<00:41, 164148.08it/s]"
     ]
    },
    {
     "name": "stderr",
     "output_type": "stream",
     "text": [
      "\rDictNBHDTransformer fit stage 2:   3%|▎         | 227109/7002961 [00:01<00:40, 166224.49it/s]"
     ]
    },
    {
     "name": "stderr",
     "output_type": "stream",
     "text": [
      "\rDictNBHDTransformer fit stage 2:   3%|▎         | 243655/7002961 [00:01<00:41, 164717.35it/s]"
     ]
    },
    {
     "name": "stderr",
     "output_type": "stream",
     "text": [
      "\rDictNBHDTransformer fit stage 2:   4%|▎         | 260468/7002961 [00:01<00:40, 165723.17it/s]"
     ]
    },
    {
     "name": "stderr",
     "output_type": "stream",
     "text": [
      "\rDictNBHDTransformer fit stage 2:   4%|▍         | 277787/7002961 [00:01<00:40, 167894.19it/s]"
     ]
    },
    {
     "name": "stderr",
     "output_type": "stream",
     "text": [
      "\rDictNBHDTransformer fit stage 2:   4%|▍         | 294560/7002961 [00:01<00:40, 166176.69it/s]"
     ]
    },
    {
     "name": "stderr",
     "output_type": "stream",
     "text": [
      "\rDictNBHDTransformer fit stage 2:   4%|▍         | 311270/7002961 [00:01<00:40, 166450.52it/s]"
     ]
    },
    {
     "name": "stderr",
     "output_type": "stream",
     "text": [
      "\rDictNBHDTransformer fit stage 2:   5%|▍         | 328205/7002961 [00:02<00:39, 167307.93it/s]"
     ]
    },
    {
     "name": "stderr",
     "output_type": "stream",
     "text": [
      "\rDictNBHDTransformer fit stage 2:   5%|▍         | 345114/7002961 [00:02<00:39, 167837.09it/s]"
     ]
    },
    {
     "name": "stderr",
     "output_type": "stream",
     "text": [
      "\rDictNBHDTransformer fit stage 2:   5%|▌         | 361897/7002961 [00:02<00:43, 153422.97it/s]"
     ]
    },
    {
     "name": "stderr",
     "output_type": "stream",
     "text": [
      "\rDictNBHDTransformer fit stage 2:   5%|▌         | 377596/7002961 [00:02<00:42, 154473.81it/s]"
     ]
    },
    {
     "name": "stderr",
     "output_type": "stream",
     "text": [
      "\rDictNBHDTransformer fit stage 2:   6%|▌         | 394085/7002961 [00:02<00:41, 157456.04it/s]"
     ]
    },
    {
     "name": "stderr",
     "output_type": "stream",
     "text": [
      "\rDictNBHDTransformer fit stage 2:   6%|▌         | 410680/7002961 [00:02<00:41, 159910.22it/s]"
     ]
    },
    {
     "name": "stderr",
     "output_type": "stream",
     "text": [
      "\rDictNBHDTransformer fit stage 2:   6%|▌         | 427503/7002961 [00:02<00:40, 162318.05it/s]"
     ]
    },
    {
     "name": "stderr",
     "output_type": "stream",
     "text": [
      "\rDictNBHDTransformer fit stage 2:   6%|▋         | 443816/7002961 [00:02<00:40, 162083.93it/s]"
     ]
    },
    {
     "name": "stderr",
     "output_type": "stream",
     "text": [
      "\rDictNBHDTransformer fit stage 2:   7%|▋         | 460263/7002961 [00:02<00:40, 162789.62it/s]"
     ]
    },
    {
     "name": "stderr",
     "output_type": "stream",
     "text": [
      "\rDictNBHDTransformer fit stage 2:   7%|▋         | 477465/7002961 [00:02<00:39, 165452.04it/s]"
     ]
    },
    {
     "name": "stderr",
     "output_type": "stream",
     "text": [
      "\rDictNBHDTransformer fit stage 2:   7%|▋         | 494080/7002961 [00:03<00:39, 165658.73it/s]"
     ]
    },
    {
     "name": "stderr",
     "output_type": "stream",
     "text": [
      "\rDictNBHDTransformer fit stage 2:   7%|▋         | 511083/7002961 [00:03<00:38, 166943.45it/s]"
     ]
    },
    {
     "name": "stderr",
     "output_type": "stream",
     "text": [
      "\rDictNBHDTransformer fit stage 2:   8%|▊         | 527799/7002961 [00:03<00:38, 166294.56it/s]"
     ]
    },
    {
     "name": "stderr",
     "output_type": "stream",
     "text": [
      "\rDictNBHDTransformer fit stage 2:   8%|▊         | 544730/7002961 [00:03<00:38, 167186.36it/s]"
     ]
    },
    {
     "name": "stderr",
     "output_type": "stream",
     "text": [
      "\rDictNBHDTransformer fit stage 2:   8%|▊         | 561461/7002961 [00:03<00:39, 162316.03it/s]"
     ]
    },
    {
     "name": "stderr",
     "output_type": "stream",
     "text": [
      "\rDictNBHDTransformer fit stage 2:   8%|▊         | 577732/7002961 [00:03<00:39, 161481.30it/s]"
     ]
    },
    {
     "name": "stderr",
     "output_type": "stream",
     "text": [
      "\rDictNBHDTransformer fit stage 2:   8%|▊         | 594223/7002961 [00:03<00:39, 162491.92it/s]"
     ]
    },
    {
     "name": "stderr",
     "output_type": "stream",
     "text": [
      "\rDictNBHDTransformer fit stage 2:   9%|▊         | 610494/7002961 [00:03<00:39, 161288.84it/s]"
     ]
    },
    {
     "name": "stderr",
     "output_type": "stream",
     "text": [
      "\rDictNBHDTransformer fit stage 2:   9%|▉         | 627383/7002961 [00:03<00:38, 163493.58it/s]"
     ]
    },
    {
     "name": "stderr",
     "output_type": "stream",
     "text": [
      "\rDictNBHDTransformer fit stage 2:   9%|▉         | 644386/7002961 [00:03<00:38, 165400.13it/s]"
     ]
    },
    {
     "name": "stderr",
     "output_type": "stream",
     "text": [
      "\rDictNBHDTransformer fit stage 2:   9%|▉         | 660945/7002961 [00:04<00:38, 164886.15it/s]"
     ]
    },
    {
     "name": "stderr",
     "output_type": "stream",
     "text": [
      "\rDictNBHDTransformer fit stage 2:  10%|▉         | 677448/7002961 [00:04<00:38, 163042.45it/s]"
     ]
    },
    {
     "name": "stderr",
     "output_type": "stream",
     "text": [
      "\rDictNBHDTransformer fit stage 2:  10%|▉         | 693767/7002961 [00:04<00:38, 162313.10it/s]"
     ]
    },
    {
     "name": "stderr",
     "output_type": "stream",
     "text": [
      "\rDictNBHDTransformer fit stage 2:  10%|█         | 710009/7002961 [00:04<00:44, 140483.53it/s]"
     ]
    },
    {
     "name": "stderr",
     "output_type": "stream",
     "text": [
      "\rDictNBHDTransformer fit stage 2:  10%|█         | 725962/7002961 [00:04<00:43, 145700.14it/s]"
     ]
    },
    {
     "name": "stderr",
     "output_type": "stream",
     "text": [
      "\rDictNBHDTransformer fit stage 2:  11%|█         | 743050/7002961 [00:04<00:41, 152437.76it/s]"
     ]
    },
    {
     "name": "stderr",
     "output_type": "stream",
     "text": [
      "\rDictNBHDTransformer fit stage 2:  11%|█         | 759798/7002961 [00:04<00:39, 156656.60it/s]"
     ]
    },
    {
     "name": "stderr",
     "output_type": "stream",
     "text": [
      "\rDictNBHDTransformer fit stage 2:  11%|█         | 776218/7002961 [00:04<00:39, 158845.76it/s]"
     ]
    },
    {
     "name": "stderr",
     "output_type": "stream",
     "text": [
      "\rDictNBHDTransformer fit stage 2:  11%|█▏        | 792315/7002961 [00:04<00:41, 149419.24it/s]"
     ]
    },
    {
     "name": "stderr",
     "output_type": "stream",
     "text": [
      "\rDictNBHDTransformer fit stage 2:  12%|█▏        | 807520/7002961 [00:05<00:42, 145420.87it/s]"
     ]
    },
    {
     "name": "stderr",
     "output_type": "stream",
     "text": [
      "\rDictNBHDTransformer fit stage 2:  12%|█▏        | 822270/7002961 [00:05<00:43, 143421.10it/s]"
     ]
    },
    {
     "name": "stderr",
     "output_type": "stream",
     "text": [
      "\rDictNBHDTransformer fit stage 2:  12%|█▏        | 836764/7002961 [00:05<00:43, 141710.28it/s]"
     ]
    },
    {
     "name": "stderr",
     "output_type": "stream",
     "text": [
      "\rDictNBHDTransformer fit stage 2:  12%|█▏        | 851046/7002961 [00:05<00:46, 133508.91it/s]"
     ]
    },
    {
     "name": "stderr",
     "output_type": "stream",
     "text": [
      "\rDictNBHDTransformer fit stage 2:  12%|█▏        | 866650/7002961 [00:05<00:43, 139552.62it/s]"
     ]
    },
    {
     "name": "stderr",
     "output_type": "stream",
     "text": [
      "\rDictNBHDTransformer fit stage 2:  13%|█▎        | 882923/7002961 [00:05<00:41, 145781.22it/s]"
     ]
    },
    {
     "name": "stderr",
     "output_type": "stream",
     "text": [
      "\rDictNBHDTransformer fit stage 2:  13%|█▎        | 899160/7002961 [00:05<00:40, 150388.54it/s]"
     ]
    },
    {
     "name": "stderr",
     "output_type": "stream",
     "text": [
      "\rDictNBHDTransformer fit stage 2:  13%|█▎        | 915730/7002961 [00:05<00:39, 154675.09it/s]"
     ]
    },
    {
     "name": "stderr",
     "output_type": "stream",
     "text": [
      "\rDictNBHDTransformer fit stage 2:  13%|█▎        | 932043/7002961 [00:05<00:38, 157116.39it/s]"
     ]
    },
    {
     "name": "stderr",
     "output_type": "stream",
     "text": [
      "\rDictNBHDTransformer fit stage 2:  14%|█▎        | 947875/7002961 [00:05<00:38, 157118.68it/s]"
     ]
    },
    {
     "name": "stderr",
     "output_type": "stream",
     "text": [
      "\rDictNBHDTransformer fit stage 2:  14%|█▍        | 964128/7002961 [00:06<00:38, 158702.02it/s]"
     ]
    },
    {
     "name": "stderr",
     "output_type": "stream",
     "text": [
      "\rDictNBHDTransformer fit stage 2:  14%|█▍        | 980342/7002961 [00:06<00:37, 159715.13it/s]"
     ]
    },
    {
     "name": "stderr",
     "output_type": "stream",
     "text": [
      "\rDictNBHDTransformer fit stage 2:  14%|█▍        | 996359/7002961 [00:06<00:37, 159354.26it/s]"
     ]
    },
    {
     "name": "stderr",
     "output_type": "stream",
     "text": [
      "\rDictNBHDTransformer fit stage 2:  14%|█▍        | 1012327/7002961 [00:06<00:38, 157333.10it/s]"
     ]
    },
    {
     "name": "stderr",
     "output_type": "stream",
     "text": [
      "\rDictNBHDTransformer fit stage 2:  15%|█▍        | 1028089/7002961 [00:07<01:38, 60552.71it/s] "
     ]
    },
    {
     "name": "stderr",
     "output_type": "stream",
     "text": [
      "\rDictNBHDTransformer fit stage 2:  15%|█▍        | 1043990/7002961 [00:07<01:20, 74366.25it/s]"
     ]
    },
    {
     "name": "stderr",
     "output_type": "stream",
     "text": [
      "\rDictNBHDTransformer fit stage 2:  15%|█▌        | 1059866/7002961 [00:07<01:07, 88475.71it/s]"
     ]
    },
    {
     "name": "stderr",
     "output_type": "stream",
     "text": [
      "\rDictNBHDTransformer fit stage 2:  15%|█▌        | 1076819/7002961 [00:07<00:57, 103290.50it/s]"
     ]
    },
    {
     "name": "stderr",
     "output_type": "stream",
     "text": [
      "\rDictNBHDTransformer fit stage 2:  16%|█▌        | 1093901/7002961 [00:07<00:50, 117188.10it/s]"
     ]
    },
    {
     "name": "stderr",
     "output_type": "stream",
     "text": [
      "\rDictNBHDTransformer fit stage 2:  16%|█▌        | 1110690/7002961 [00:07<00:45, 128862.55it/s]"
     ]
    },
    {
     "name": "stderr",
     "output_type": "stream",
     "text": [
      "\rDictNBHDTransformer fit stage 2:  16%|█▌        | 1127160/7002961 [00:07<00:42, 137861.64it/s]"
     ]
    },
    {
     "name": "stderr",
     "output_type": "stream",
     "text": [
      "\rDictNBHDTransformer fit stage 2:  16%|█▋        | 1143214/7002961 [00:07<00:41, 141491.46it/s]"
     ]
    },
    {
     "name": "stderr",
     "output_type": "stream",
     "text": [
      "\rDictNBHDTransformer fit stage 2:  17%|█▋        | 1158974/7002961 [00:07<00:42, 138346.11it/s]"
     ]
    },
    {
     "name": "stderr",
     "output_type": "stream",
     "text": [
      "\rDictNBHDTransformer fit stage 2:  17%|█▋        | 1173952/7002961 [00:07<00:42, 138567.93it/s]"
     ]
    },
    {
     "name": "stderr",
     "output_type": "stream",
     "text": [
      "\rDictNBHDTransformer fit stage 2:  17%|█▋        | 1188609/7002961 [00:08<00:41, 138564.73it/s]"
     ]
    },
    {
     "name": "stderr",
     "output_type": "stream",
     "text": [
      "\rDictNBHDTransformer fit stage 2:  17%|█▋        | 1203994/7002961 [00:08<00:40, 142820.31it/s]"
     ]
    },
    {
     "name": "stderr",
     "output_type": "stream",
     "text": [
      "\rDictNBHDTransformer fit stage 2:  17%|█▋        | 1218736/7002961 [00:08<00:40, 144169.33it/s]"
     ]
    },
    {
     "name": "stderr",
     "output_type": "stream",
     "text": [
      "\rDictNBHDTransformer fit stage 2:  18%|█▊        | 1233454/7002961 [00:08<00:40, 142749.07it/s]"
     ]
    },
    {
     "name": "stderr",
     "output_type": "stream",
     "text": [
      "\rDictNBHDTransformer fit stage 2:  18%|█▊        | 1248522/7002961 [00:08<00:39, 145036.72it/s]"
     ]
    },
    {
     "name": "stderr",
     "output_type": "stream",
     "text": [
      "\rDictNBHDTransformer fit stage 2:  18%|█▊        | 1263292/7002961 [00:08<00:39, 145825.20it/s]"
     ]
    },
    {
     "name": "stderr",
     "output_type": "stream",
     "text": [
      "\rDictNBHDTransformer fit stage 2:  18%|█▊        | 1278923/7002961 [00:08<00:38, 148818.13it/s]"
     ]
    },
    {
     "name": "stderr",
     "output_type": "stream",
     "text": [
      "\rDictNBHDTransformer fit stage 2:  18%|█▊        | 1294602/7002961 [00:08<00:37, 151122.88it/s]"
     ]
    },
    {
     "name": "stderr",
     "output_type": "stream",
     "text": [
      "\rDictNBHDTransformer fit stage 2:  19%|█▊        | 1310996/7002961 [00:08<00:36, 154749.85it/s]"
     ]
    },
    {
     "name": "stderr",
     "output_type": "stream",
     "text": [
      "\rDictNBHDTransformer fit stage 2:  19%|█▉        | 1327165/7002961 [00:08<00:36, 156766.28it/s]"
     ]
    },
    {
     "name": "stderr",
     "output_type": "stream",
     "text": [
      "\rDictNBHDTransformer fit stage 2:  19%|█▉        | 1342900/7002961 [00:09<00:37, 149512.74it/s]"
     ]
    },
    {
     "name": "stderr",
     "output_type": "stream",
     "text": [
      "\rDictNBHDTransformer fit stage 2:  19%|█▉        | 1357963/7002961 [00:09<00:43, 129538.53it/s]"
     ]
    },
    {
     "name": "stderr",
     "output_type": "stream",
     "text": [
      "\rDictNBHDTransformer fit stage 2:  20%|█▉        | 1371746/7002961 [00:09<00:42, 131917.89it/s]"
     ]
    },
    {
     "name": "stderr",
     "output_type": "stream",
     "text": [
      "\rDictNBHDTransformer fit stage 2:  20%|█▉        | 1385336/7002961 [00:09<00:48, 116381.89it/s]"
     ]
    },
    {
     "name": "stderr",
     "output_type": "stream",
     "text": [
      "\rDictNBHDTransformer fit stage 2:  20%|█▉        | 1398102/7002961 [00:09<01:12, 77386.37it/s] "
     ]
    },
    {
     "name": "stderr",
     "output_type": "stream",
     "text": [
      "\rDictNBHDTransformer fit stage 2:  20%|██        | 1407981/7002961 [00:09<01:09, 81018.99it/s]"
     ]
    },
    {
     "name": "stderr",
     "output_type": "stream",
     "text": [
      "\rDictNBHDTransformer fit stage 2:  20%|██        | 1417800/7002961 [00:09<01:05, 85502.16it/s]"
     ]
    },
    {
     "name": "stderr",
     "output_type": "stream",
     "text": [
      "\rDictNBHDTransformer fit stage 2:  20%|██        | 1427671/7002961 [00:10<01:02, 89070.18it/s]"
     ]
    },
    {
     "name": "stderr",
     "output_type": "stream",
     "text": [
      "\rDictNBHDTransformer fit stage 2:  21%|██        | 1439074/7002961 [00:10<00:58, 95313.67it/s]"
     ]
    },
    {
     "name": "stderr",
     "output_type": "stream",
     "text": [
      "\rDictNBHDTransformer fit stage 2:  21%|██        | 1449317/7002961 [00:10<00:57, 97052.89it/s]"
     ]
    },
    {
     "name": "stderr",
     "output_type": "stream",
     "text": [
      "\rDictNBHDTransformer fit stage 2:  21%|██        | 1461487/7002961 [00:10<00:53, 103329.12it/s]"
     ]
    },
    {
     "name": "stderr",
     "output_type": "stream",
     "text": [
      "\rDictNBHDTransformer fit stage 2:  21%|██        | 1474272/7002961 [00:10<00:50, 109634.93it/s]"
     ]
    },
    {
     "name": "stderr",
     "output_type": "stream",
     "text": [
      "\rDictNBHDTransformer fit stage 2:  21%|██        | 1485666/7002961 [00:10<00:50, 109460.11it/s]"
     ]
    },
    {
     "name": "stderr",
     "output_type": "stream",
     "text": [
      "\rDictNBHDTransformer fit stage 2:  21%|██▏       | 1498840/7002961 [00:10<00:47, 115309.96it/s]"
     ]
    },
    {
     "name": "stderr",
     "output_type": "stream",
     "text": [
      "\rDictNBHDTransformer fit stage 2:  22%|██▏       | 1513040/7002961 [00:10<00:44, 122199.51it/s]"
     ]
    },
    {
     "name": "stderr",
     "output_type": "stream",
     "text": [
      "\rDictNBHDTransformer fit stage 2:  22%|██▏       | 1526311/7002961 [00:10<00:43, 125173.29it/s]"
     ]
    },
    {
     "name": "stderr",
     "output_type": "stream",
     "text": [
      "\rDictNBHDTransformer fit stage 2:  22%|██▏       | 1542216/7002961 [00:10<00:40, 133716.51it/s]"
     ]
    },
    {
     "name": "stderr",
     "output_type": "stream",
     "text": [
      "\rDictNBHDTransformer fit stage 2:  22%|██▏       | 1558363/7002961 [00:11<00:38, 140984.17it/s]"
     ]
    },
    {
     "name": "stderr",
     "output_type": "stream",
     "text": [
      "\rDictNBHDTransformer fit stage 2:  22%|██▏       | 1574706/7002961 [00:11<00:36, 147040.68it/s]"
     ]
    },
    {
     "name": "stderr",
     "output_type": "stream",
     "text": [
      "\rDictNBHDTransformer fit stage 2:  23%|██▎       | 1590118/7002961 [00:11<00:36, 149094.04it/s]"
     ]
    },
    {
     "name": "stderr",
     "output_type": "stream",
     "text": [
      "\rDictNBHDTransformer fit stage 2:  23%|██▎       | 1605622/7002961 [00:11<00:35, 150829.32it/s]"
     ]
    },
    {
     "name": "stderr",
     "output_type": "stream",
     "text": [
      "\rDictNBHDTransformer fit stage 2:  23%|██▎       | 1621243/7002961 [00:11<00:35, 152401.90it/s]"
     ]
    },
    {
     "name": "stderr",
     "output_type": "stream",
     "text": [
      "\rDictNBHDTransformer fit stage 2:  23%|██▎       | 1637891/7002961 [00:11<00:34, 156367.91it/s]"
     ]
    },
    {
     "name": "stderr",
     "output_type": "stream",
     "text": [
      "\rDictNBHDTransformer fit stage 2:  24%|██▎       | 1654203/7002961 [00:11<00:33, 158332.83it/s]"
     ]
    },
    {
     "name": "stderr",
     "output_type": "stream",
     "text": [
      "\rDictNBHDTransformer fit stage 2:  24%|██▍       | 1670306/7002961 [00:11<00:33, 159130.92it/s]"
     ]
    },
    {
     "name": "stderr",
     "output_type": "stream",
     "text": [
      "\rDictNBHDTransformer fit stage 2:  24%|██▍       | 1686277/7002961 [00:11<00:33, 158512.51it/s]"
     ]
    },
    {
     "name": "stderr",
     "output_type": "stream",
     "text": [
      "\rDictNBHDTransformer fit stage 2:  24%|██▍       | 1703339/7002961 [00:11<00:32, 161959.02it/s]"
     ]
    },
    {
     "name": "stderr",
     "output_type": "stream",
     "text": [
      "\rDictNBHDTransformer fit stage 2:  25%|██▍       | 1720253/7002961 [00:12<00:32, 164046.46it/s]"
     ]
    },
    {
     "name": "stderr",
     "output_type": "stream",
     "text": [
      "\rDictNBHDTransformer fit stage 2:  25%|██▍       | 1736854/7002961 [00:12<00:31, 164629.63it/s]"
     ]
    },
    {
     "name": "stderr",
     "output_type": "stream",
     "text": [
      "\rDictNBHDTransformer fit stage 2:  25%|██▌       | 1753345/7002961 [00:12<00:31, 164089.22it/s]"
     ]
    },
    {
     "name": "stderr",
     "output_type": "stream",
     "text": [
      "\rDictNBHDTransformer fit stage 2:  25%|██▌       | 1769774/7002961 [00:12<00:32, 161728.89it/s]"
     ]
    },
    {
     "name": "stderr",
     "output_type": "stream",
     "text": [
      "\rDictNBHDTransformer fit stage 2:  26%|██▌       | 1786179/7002961 [00:12<00:32, 162415.81it/s]"
     ]
    },
    {
     "name": "stderr",
     "output_type": "stream",
     "text": [
      "\rDictNBHDTransformer fit stage 2:  26%|██▌       | 1802666/7002961 [00:12<00:31, 163141.98it/s]"
     ]
    },
    {
     "name": "stderr",
     "output_type": "stream",
     "text": [
      "\rDictNBHDTransformer fit stage 2:  26%|██▌       | 1819416/7002961 [00:12<00:31, 164422.43it/s]"
     ]
    },
    {
     "name": "stderr",
     "output_type": "stream",
     "text": [
      "\rDictNBHDTransformer fit stage 2:  26%|██▌       | 1835869/7002961 [00:12<00:32, 161457.35it/s]"
     ]
    },
    {
     "name": "stderr",
     "output_type": "stream",
     "text": [
      "\rDictNBHDTransformer fit stage 2:  26%|██▋       | 1852035/7002961 [00:12<00:32, 160248.14it/s]"
     ]
    },
    {
     "name": "stderr",
     "output_type": "stream",
     "text": [
      "\rDictNBHDTransformer fit stage 2:  27%|██▋       | 1869120/7002961 [00:13<00:31, 163285.62it/s]"
     ]
    },
    {
     "name": "stderr",
     "output_type": "stream",
     "text": [
      "\rDictNBHDTransformer fit stage 2:  27%|██▋       | 1885474/7002961 [00:13<00:31, 161238.62it/s]"
     ]
    },
    {
     "name": "stderr",
     "output_type": "stream",
     "text": [
      "\rDictNBHDTransformer fit stage 2:  27%|██▋       | 1901648/7002961 [00:13<00:31, 161387.37it/s]"
     ]
    },
    {
     "name": "stderr",
     "output_type": "stream",
     "text": [
      "\rDictNBHDTransformer fit stage 2:  27%|██▋       | 1918531/7002961 [00:13<00:31, 163548.91it/s]"
     ]
    },
    {
     "name": "stderr",
     "output_type": "stream",
     "text": [
      "\rDictNBHDTransformer fit stage 2:  28%|██▊       | 1934905/7002961 [00:13<00:31, 162201.97it/s]"
     ]
    },
    {
     "name": "stderr",
     "output_type": "stream",
     "text": [
      "\rDictNBHDTransformer fit stage 2:  28%|██▊       | 1951141/7002961 [00:13<00:31, 160522.61it/s]"
     ]
    },
    {
     "name": "stderr",
     "output_type": "stream",
     "text": [
      "\rDictNBHDTransformer fit stage 2:  28%|██▊       | 1967489/7002961 [00:13<00:31, 161396.64it/s]"
     ]
    },
    {
     "name": "stderr",
     "output_type": "stream",
     "text": [
      "\rDictNBHDTransformer fit stage 2:  28%|██▊       | 1983641/7002961 [00:13<00:31, 159293.85it/s]"
     ]
    },
    {
     "name": "stderr",
     "output_type": "stream",
     "text": [
      "\rDictNBHDTransformer fit stage 2:  29%|██▊       | 1999996/7002961 [00:13<00:31, 160546.73it/s]"
     ]
    },
    {
     "name": "stderr",
     "output_type": "stream",
     "text": [
      "\rDictNBHDTransformer fit stage 2:  29%|██▉       | 2016063/7002961 [00:13<00:31, 159139.73it/s]"
     ]
    },
    {
     "name": "stderr",
     "output_type": "stream",
     "text": [
      "\rDictNBHDTransformer fit stage 2:  29%|██▉       | 2031989/7002961 [00:14<00:31, 156713.95it/s]"
     ]
    },
    {
     "name": "stderr",
     "output_type": "stream",
     "text": [
      "\rDictNBHDTransformer fit stage 2:  29%|██▉       | 2047677/7002961 [00:14<00:31, 156638.38it/s]"
     ]
    },
    {
     "name": "stderr",
     "output_type": "stream",
     "text": [
      "\rDictNBHDTransformer fit stage 2:  29%|██▉       | 2063483/7002961 [00:14<00:31, 157056.08it/s]"
     ]
    },
    {
     "name": "stderr",
     "output_type": "stream",
     "text": [
      "\rDictNBHDTransformer fit stage 2:  30%|██▉       | 2079198/7002961 [00:14<00:31, 157082.49it/s]"
     ]
    },
    {
     "name": "stderr",
     "output_type": "stream",
     "text": [
      "\rDictNBHDTransformer fit stage 2:  30%|██▉       | 2094913/7002961 [00:14<00:31, 155366.94it/s]"
     ]
    },
    {
     "name": "stderr",
     "output_type": "stream",
     "text": [
      "\rDictNBHDTransformer fit stage 2:  30%|███       | 2111039/7002961 [00:14<00:31, 157086.01it/s]"
     ]
    },
    {
     "name": "stderr",
     "output_type": "stream",
     "text": [
      "\rDictNBHDTransformer fit stage 2:  30%|███       | 2126758/7002961 [00:14<00:31, 155848.38it/s]"
     ]
    },
    {
     "name": "stderr",
     "output_type": "stream",
     "text": [
      "\rDictNBHDTransformer fit stage 2:  31%|███       | 2142600/7002961 [00:14<00:31, 156608.89it/s]"
     ]
    },
    {
     "name": "stderr",
     "output_type": "stream",
     "text": [
      "\rDictNBHDTransformer fit stage 2:  31%|███       | 2159120/7002961 [00:14<00:30, 159085.92it/s]"
     ]
    },
    {
     "name": "stderr",
     "output_type": "stream",
     "text": [
      "\rDictNBHDTransformer fit stage 2:  31%|███       | 2175044/7002961 [00:14<00:30, 157483.76it/s]"
     ]
    },
    {
     "name": "stderr",
     "output_type": "stream",
     "text": [
      "\rDictNBHDTransformer fit stage 2:  31%|███▏      | 2191162/7002961 [00:15<00:30, 158569.62it/s]"
     ]
    },
    {
     "name": "stderr",
     "output_type": "stream",
     "text": [
      "\rDictNBHDTransformer fit stage 2:  32%|███▏      | 2207031/7002961 [00:15<00:30, 158102.24it/s]"
     ]
    },
    {
     "name": "stderr",
     "output_type": "stream",
     "text": [
      "\rDictNBHDTransformer fit stage 2:  32%|███▏      | 2223882/7002961 [00:15<00:29, 161084.65it/s]"
     ]
    },
    {
     "name": "stderr",
     "output_type": "stream",
     "text": [
      "\rDictNBHDTransformer fit stage 2:  32%|███▏      | 2240489/7002961 [00:15<00:29, 162547.56it/s]"
     ]
    },
    {
     "name": "stderr",
     "output_type": "stream",
     "text": [
      "\rDictNBHDTransformer fit stage 2:  32%|███▏      | 2256761/7002961 [00:15<00:29, 160330.60it/s]"
     ]
    },
    {
     "name": "stderr",
     "output_type": "stream",
     "text": [
      "\rDictNBHDTransformer fit stage 2:  32%|███▏      | 2273330/7002961 [00:15<00:29, 161901.59it/s]"
     ]
    },
    {
     "name": "stderr",
     "output_type": "stream",
     "text": [
      "\rDictNBHDTransformer fit stage 2:  33%|███▎      | 2289798/7002961 [00:15<00:28, 162722.39it/s]"
     ]
    },
    {
     "name": "stderr",
     "output_type": "stream",
     "text": [
      "\rDictNBHDTransformer fit stage 2:  33%|███▎      | 2306203/7002961 [00:15<00:28, 163117.41it/s]"
     ]
    },
    {
     "name": "stderr",
     "output_type": "stream",
     "text": [
      "\rDictNBHDTransformer fit stage 2:  33%|███▎      | 2322524/7002961 [00:15<00:29, 157852.43it/s]"
     ]
    },
    {
     "name": "stderr",
     "output_type": "stream",
     "text": [
      "\rDictNBHDTransformer fit stage 2:  33%|███▎      | 2338353/7002961 [00:15<00:29, 156161.48it/s]"
     ]
    },
    {
     "name": "stderr",
     "output_type": "stream",
     "text": [
      "\rDictNBHDTransformer fit stage 2:  34%|███▎      | 2354620/7002961 [00:16<00:29, 158055.87it/s]"
     ]
    },
    {
     "name": "stderr",
     "output_type": "stream",
     "text": [
      "\rDictNBHDTransformer fit stage 2:  34%|███▍      | 2370456/7002961 [00:16<00:29, 158119.93it/s]"
     ]
    },
    {
     "name": "stderr",
     "output_type": "stream",
     "text": [
      "\rDictNBHDTransformer fit stage 2:  34%|███▍      | 2386289/7002961 [00:16<00:32, 141974.12it/s]"
     ]
    },
    {
     "name": "stderr",
     "output_type": "stream",
     "text": [
      "\rDictNBHDTransformer fit stage 2:  34%|███▍      | 2400812/7002961 [00:16<00:33, 139167.08it/s]"
     ]
    },
    {
     "name": "stderr",
     "output_type": "stream",
     "text": [
      "\rDictNBHDTransformer fit stage 2:  34%|███▍      | 2414969/7002961 [00:16<00:32, 139606.29it/s]"
     ]
    },
    {
     "name": "stderr",
     "output_type": "stream",
     "text": [
      "\rDictNBHDTransformer fit stage 2:  35%|███▍      | 2429810/7002961 [00:16<00:32, 142130.82it/s]"
     ]
    },
    {
     "name": "stderr",
     "output_type": "stream",
     "text": [
      "\rDictNBHDTransformer fit stage 2:  35%|███▍      | 2444153/7002961 [00:16<00:44, 102450.79it/s]"
     ]
    },
    {
     "name": "stderr",
     "output_type": "stream",
     "text": [
      "\rDictNBHDTransformer fit stage 2:  35%|███▌      | 2456054/7002961 [00:17<00:51, 88526.77it/s] "
     ]
    },
    {
     "name": "stderr",
     "output_type": "stream",
     "text": [
      "\rDictNBHDTransformer fit stage 2:  35%|███▌      | 2469189/7002961 [00:17<00:46, 98123.39it/s]"
     ]
    },
    {
     "name": "stderr",
     "output_type": "stream",
     "text": [
      "\rDictNBHDTransformer fit stage 2:  35%|███▌      | 2483917/7002961 [00:17<00:41, 109040.88it/s]"
     ]
    },
    {
     "name": "stderr",
     "output_type": "stream",
     "text": [
      "\rDictNBHDTransformer fit stage 2:  36%|███▌      | 2500129/7002961 [00:17<00:37, 120916.83it/s]"
     ]
    },
    {
     "name": "stderr",
     "output_type": "stream",
     "text": [
      "\rDictNBHDTransformer fit stage 2:  36%|███▌      | 2515241/7002961 [00:17<00:34, 128627.34it/s]"
     ]
    },
    {
     "name": "stderr",
     "output_type": "stream",
     "text": [
      "\rDictNBHDTransformer fit stage 2:  36%|███▌      | 2530516/7002961 [00:17<00:33, 135023.19it/s]"
     ]
    },
    {
     "name": "stderr",
     "output_type": "stream",
     "text": [
      "\rDictNBHDTransformer fit stage 2:  36%|███▋      | 2546587/7002961 [00:17<00:31, 141823.31it/s]"
     ]
    },
    {
     "name": "stderr",
     "output_type": "stream",
     "text": [
      "\rDictNBHDTransformer fit stage 2:  37%|███▋      | 2562986/7002961 [00:17<00:30, 147816.78it/s]"
     ]
    },
    {
     "name": "stderr",
     "output_type": "stream",
     "text": [
      "\rDictNBHDTransformer fit stage 2:  37%|███▋      | 2578464/7002961 [00:17<00:29, 149837.65it/s]"
     ]
    },
    {
     "name": "stderr",
     "output_type": "stream",
     "text": [
      "\rDictNBHDTransformer fit stage 2:  37%|███▋      | 2594079/7002961 [00:17<00:29, 151674.41it/s]"
     ]
    },
    {
     "name": "stderr",
     "output_type": "stream",
     "text": [
      "\rDictNBHDTransformer fit stage 2:  37%|███▋      | 2609842/7002961 [00:18<00:28, 153411.63it/s]"
     ]
    },
    {
     "name": "stderr",
     "output_type": "stream",
     "text": [
      "\rDictNBHDTransformer fit stage 2:  37%|███▋      | 2625753/7002961 [00:18<00:28, 155076.35it/s]"
     ]
    },
    {
     "name": "stderr",
     "output_type": "stream",
     "text": [
      "\rDictNBHDTransformer fit stage 2:  38%|███▊      | 2641674/7002961 [00:18<00:27, 156291.47it/s]"
     ]
    },
    {
     "name": "stderr",
     "output_type": "stream",
     "text": [
      "\rDictNBHDTransformer fit stage 2:  38%|███▊      | 2658419/7002961 [00:18<00:27, 159478.32it/s]"
     ]
    },
    {
     "name": "stderr",
     "output_type": "stream",
     "text": [
      "\rDictNBHDTransformer fit stage 2:  38%|███▊      | 2674454/7002961 [00:18<00:27, 157783.35it/s]"
     ]
    },
    {
     "name": "stderr",
     "output_type": "stream",
     "text": [
      "\rDictNBHDTransformer fit stage 2:  38%|███▊      | 2690605/7002961 [00:18<00:27, 158882.20it/s]"
     ]
    },
    {
     "name": "stderr",
     "output_type": "stream",
     "text": [
      "\rDictNBHDTransformer fit stage 2:  39%|███▊      | 2706718/7002961 [00:18<00:26, 159548.95it/s]"
     ]
    },
    {
     "name": "stderr",
     "output_type": "stream",
     "text": [
      "\rDictNBHDTransformer fit stage 2:  39%|███▉      | 2722888/7002961 [00:18<00:26, 160187.26it/s]"
     ]
    },
    {
     "name": "stderr",
     "output_type": "stream",
     "text": [
      "\rDictNBHDTransformer fit stage 2:  39%|███▉      | 2738931/7002961 [00:18<00:26, 159825.54it/s]"
     ]
    },
    {
     "name": "stderr",
     "output_type": "stream",
     "text": [
      "\rDictNBHDTransformer fit stage 2:  39%|███▉      | 2754931/7002961 [00:18<00:26, 158578.58it/s]"
     ]
    },
    {
     "name": "stderr",
     "output_type": "stream",
     "text": [
      "\rDictNBHDTransformer fit stage 2:  40%|███▉      | 2771472/7002961 [00:19<00:26, 160567.95it/s]"
     ]
    },
    {
     "name": "stderr",
     "output_type": "stream",
     "text": [
      "\rDictNBHDTransformer fit stage 2:  40%|███▉      | 2787791/7002961 [00:19<00:26, 161343.21it/s]"
     ]
    },
    {
     "name": "stderr",
     "output_type": "stream",
     "text": [
      "\rDictNBHDTransformer fit stage 2:  40%|████      | 2803938/7002961 [00:19<01:12, 57550.14it/s] "
     ]
    },
    {
     "name": "stderr",
     "output_type": "stream",
     "text": [
      "\rDictNBHDTransformer fit stage 2:  40%|████      | 2819018/7002961 [00:19<00:59, 70657.54it/s]"
     ]
    },
    {
     "name": "stderr",
     "output_type": "stream",
     "text": [
      "\rDictNBHDTransformer fit stage 2:  40%|████      | 2834797/7002961 [00:20<00:49, 84686.76it/s]"
     ]
    },
    {
     "name": "stderr",
     "output_type": "stream",
     "text": [
      "\rDictNBHDTransformer fit stage 2:  41%|████      | 2850626/7002961 [00:20<00:42, 98414.11it/s]"
     ]
    },
    {
     "name": "stderr",
     "output_type": "stream",
     "text": [
      "\rDictNBHDTransformer fit stage 2:  41%|████      | 2866186/7002961 [00:20<00:37, 110608.26it/s]"
     ]
    },
    {
     "name": "stderr",
     "output_type": "stream",
     "text": [
      "\rDictNBHDTransformer fit stage 2:  41%|████      | 2882327/7002961 [00:20<00:33, 122140.71it/s]"
     ]
    },
    {
     "name": "stderr",
     "output_type": "stream",
     "text": [
      "\rDictNBHDTransformer fit stage 2:  41%|████▏     | 2897489/7002961 [00:20<00:31, 129662.38it/s]"
     ]
    },
    {
     "name": "stderr",
     "output_type": "stream",
     "text": [
      "\rDictNBHDTransformer fit stage 2:  42%|████▏     | 2912645/7002961 [00:20<00:33, 121653.62it/s]"
     ]
    },
    {
     "name": "stderr",
     "output_type": "stream",
     "text": [
      "\rDictNBHDTransformer fit stage 2:  42%|████▏     | 2926445/7002961 [00:20<00:37, 109393.81it/s]"
     ]
    },
    {
     "name": "stderr",
     "output_type": "stream",
     "text": [
      "\rDictNBHDTransformer fit stage 2:  42%|████▏     | 2938983/7002961 [00:20<00:35, 113743.67it/s]"
     ]
    },
    {
     "name": "stderr",
     "output_type": "stream",
     "text": [
      "\rDictNBHDTransformer fit stage 2:  42%|████▏     | 2953100/7002961 [00:20<00:33, 120782.51it/s]"
     ]
    },
    {
     "name": "stderr",
     "output_type": "stream",
     "text": [
      "\rDictNBHDTransformer fit stage 2:  42%|████▏     | 2967321/7002961 [00:21<00:32, 125359.25it/s]"
     ]
    },
    {
     "name": "stderr",
     "output_type": "stream",
     "text": [
      "\rDictNBHDTransformer fit stage 2:  43%|████▎     | 2982629/7002961 [00:21<00:30, 132559.71it/s]"
     ]
    },
    {
     "name": "stderr",
     "output_type": "stream",
     "text": [
      "\rDictNBHDTransformer fit stage 2:  43%|████▎     | 2998656/7002961 [00:21<00:28, 139811.24it/s]"
     ]
    },
    {
     "name": "stderr",
     "output_type": "stream",
     "text": [
      "\rDictNBHDTransformer fit stage 2:  43%|████▎     | 3015363/7002961 [00:21<00:27, 147004.92it/s]"
     ]
    },
    {
     "name": "stderr",
     "output_type": "stream",
     "text": [
      "\rDictNBHDTransformer fit stage 2:  43%|████▎     | 3030699/7002961 [00:21<00:26, 148852.80it/s]"
     ]
    },
    {
     "name": "stderr",
     "output_type": "stream",
     "text": [
      "\rDictNBHDTransformer fit stage 2:  44%|████▎     | 3047591/7002961 [00:21<00:25, 154353.37it/s]"
     ]
    },
    {
     "name": "stderr",
     "output_type": "stream",
     "text": [
      "\rDictNBHDTransformer fit stage 2:  44%|████▎     | 3063585/7002961 [00:21<00:25, 155987.12it/s]"
     ]
    },
    {
     "name": "stderr",
     "output_type": "stream",
     "text": [
      "\rDictNBHDTransformer fit stage 2:  44%|████▍     | 3080519/7002961 [00:21<00:24, 159764.73it/s]"
     ]
    },
    {
     "name": "stderr",
     "output_type": "stream",
     "text": [
      "\rDictNBHDTransformer fit stage 2:  44%|████▍     | 3096655/7002961 [00:21<00:24, 159101.92it/s]"
     ]
    },
    {
     "name": "stderr",
     "output_type": "stream",
     "text": [
      "\rDictNBHDTransformer fit stage 2:  44%|████▍     | 3112677/7002961 [00:21<00:24, 157185.22it/s]"
     ]
    },
    {
     "name": "stderr",
     "output_type": "stream",
     "text": [
      "\rDictNBHDTransformer fit stage 2:  45%|████▍     | 3128689/7002961 [00:22<00:24, 158051.55it/s]"
     ]
    },
    {
     "name": "stderr",
     "output_type": "stream",
     "text": [
      "\rDictNBHDTransformer fit stage 2:  45%|████▍     | 3145102/7002961 [00:22<00:24, 159825.88it/s]"
     ]
    },
    {
     "name": "stderr",
     "output_type": "stream",
     "text": [
      "\rDictNBHDTransformer fit stage 2:  45%|████▌     | 3161642/7002961 [00:22<00:23, 161456.73it/s]"
     ]
    },
    {
     "name": "stderr",
     "output_type": "stream",
     "text": [
      "\rDictNBHDTransformer fit stage 2:  45%|████▌     | 3178453/7002961 [00:22<00:23, 163394.52it/s]"
     ]
    },
    {
     "name": "stderr",
     "output_type": "stream",
     "text": [
      "\rDictNBHDTransformer fit stage 2:  46%|████▌     | 3194824/7002961 [00:22<00:24, 154824.39it/s]"
     ]
    },
    {
     "name": "stderr",
     "output_type": "stream",
     "text": [
      "\rDictNBHDTransformer fit stage 2:  46%|████▌     | 3210477/7002961 [00:22<00:24, 155330.77it/s]"
     ]
    },
    {
     "name": "stderr",
     "output_type": "stream",
     "text": [
      "\rDictNBHDTransformer fit stage 2:  46%|████▌     | 3226092/7002961 [00:22<00:24, 153480.51it/s]"
     ]
    },
    {
     "name": "stderr",
     "output_type": "stream",
     "text": [
      "\rDictNBHDTransformer fit stage 2:  46%|████▋     | 3241502/7002961 [00:22<00:25, 149133.94it/s]"
     ]
    },
    {
     "name": "stderr",
     "output_type": "stream",
     "text": [
      "\rDictNBHDTransformer fit stage 2:  47%|████▋     | 3256486/7002961 [00:22<00:31, 117707.71it/s]"
     ]
    },
    {
     "name": "stderr",
     "output_type": "stream",
     "text": [
      "\rDictNBHDTransformer fit stage 2:  47%|████▋     | 3269342/7002961 [00:23<00:32, 114948.47it/s]"
     ]
    },
    {
     "name": "stderr",
     "output_type": "stream",
     "text": [
      "\rDictNBHDTransformer fit stage 2:  47%|████▋     | 3282838/7002961 [00:23<00:30, 120298.44it/s]"
     ]
    },
    {
     "name": "stderr",
     "output_type": "stream",
     "text": [
      "\rDictNBHDTransformer fit stage 2:  47%|████▋     | 3297289/7002961 [00:23<00:29, 126663.57it/s]"
     ]
    },
    {
     "name": "stderr",
     "output_type": "stream",
     "text": [
      "\rDictNBHDTransformer fit stage 2:  47%|████▋     | 3311877/7002961 [00:23<00:27, 131874.32it/s]"
     ]
    },
    {
     "name": "stderr",
     "output_type": "stream",
     "text": [
      "\rDictNBHDTransformer fit stage 2:  48%|████▊     | 3327183/7002961 [00:23<00:26, 137586.16it/s]"
     ]
    },
    {
     "name": "stderr",
     "output_type": "stream",
     "text": [
      "\rDictNBHDTransformer fit stage 2:  48%|████▊     | 3343054/7002961 [00:23<00:25, 143306.71it/s]"
     ]
    },
    {
     "name": "stderr",
     "output_type": "stream",
     "text": [
      "\rDictNBHDTransformer fit stage 2:  48%|████▊     | 3358738/7002961 [00:23<00:24, 147114.10it/s]"
     ]
    },
    {
     "name": "stderr",
     "output_type": "stream",
     "text": [
      "\rDictNBHDTransformer fit stage 2:  48%|████▊     | 3375064/7002961 [00:23<00:23, 151610.62it/s]"
     ]
    },
    {
     "name": "stderr",
     "output_type": "stream",
     "text": [
      "\rDictNBHDTransformer fit stage 2:  48%|████▊     | 3390871/7002961 [00:23<00:23, 153490.97it/s]"
     ]
    },
    {
     "name": "stderr",
     "output_type": "stream",
     "text": [
      "\rDictNBHDTransformer fit stage 2:  49%|████▊     | 3406369/7002961 [00:23<00:23, 153732.55it/s]"
     ]
    },
    {
     "name": "stderr",
     "output_type": "stream",
     "text": [
      "\rDictNBHDTransformer fit stage 2:  49%|████▉     | 3422286/7002961 [00:24<00:23, 155323.88it/s]"
     ]
    },
    {
     "name": "stderr",
     "output_type": "stream",
     "text": [
      "\rDictNBHDTransformer fit stage 2:  49%|████▉     | 3437896/7002961 [00:24<00:23, 154799.38it/s]"
     ]
    },
    {
     "name": "stderr",
     "output_type": "stream",
     "text": [
      "\rDictNBHDTransformer fit stage 2:  49%|████▉     | 3453431/7002961 [00:24<00:23, 148971.26it/s]"
     ]
    },
    {
     "name": "stderr",
     "output_type": "stream",
     "text": [
      "\rDictNBHDTransformer fit stage 2:  50%|████▉     | 3468414/7002961 [00:24<00:25, 138637.83it/s]"
     ]
    },
    {
     "name": "stderr",
     "output_type": "stream",
     "text": [
      "\rDictNBHDTransformer fit stage 2:  50%|████▉     | 3483494/7002961 [00:24<00:24, 142073.41it/s]"
     ]
    },
    {
     "name": "stderr",
     "output_type": "stream",
     "text": [
      "\rDictNBHDTransformer fit stage 2:  50%|████▉     | 3497865/7002961 [00:24<00:24, 140217.83it/s]"
     ]
    },
    {
     "name": "stderr",
     "output_type": "stream",
     "text": [
      "\rDictNBHDTransformer fit stage 2:  50%|█████     | 3512007/7002961 [00:24<00:26, 130378.51it/s]"
     ]
    },
    {
     "name": "stderr",
     "output_type": "stream",
     "text": [
      "\rDictNBHDTransformer fit stage 2:  50%|█████     | 3525268/7002961 [00:24<00:26, 130104.41it/s]"
     ]
    },
    {
     "name": "stderr",
     "output_type": "stream",
     "text": [
      "\rDictNBHDTransformer fit stage 2:  51%|█████     | 3539652/7002961 [00:24<00:25, 133939.59it/s]"
     ]
    },
    {
     "name": "stderr",
     "output_type": "stream",
     "text": [
      "\rDictNBHDTransformer fit stage 2:  51%|█████     | 3554973/7002961 [00:25<00:24, 139191.35it/s]"
     ]
    },
    {
     "name": "stderr",
     "output_type": "stream",
     "text": [
      "\rDictNBHDTransformer fit stage 2:  51%|█████     | 3569958/7002961 [00:25<00:24, 142223.89it/s]"
     ]
    },
    {
     "name": "stderr",
     "output_type": "stream",
     "text": [
      "\rDictNBHDTransformer fit stage 2:  51%|█████     | 3584301/7002961 [00:25<00:27, 125952.98it/s]"
     ]
    },
    {
     "name": "stderr",
     "output_type": "stream",
     "text": [
      "\rDictNBHDTransformer fit stage 2:  51%|█████▏    | 3597324/7002961 [00:25<00:30, 110423.22it/s]"
     ]
    },
    {
     "name": "stderr",
     "output_type": "stream",
     "text": [
      "\rDictNBHDTransformer fit stage 2:  52%|█████▏    | 3609616/7002961 [00:25<00:29, 113896.71it/s]"
     ]
    },
    {
     "name": "stderr",
     "output_type": "stream",
     "text": [
      "\rDictNBHDTransformer fit stage 2:  52%|█████▏    | 3621486/7002961 [00:25<00:33, 99833.94it/s] "
     ]
    },
    {
     "name": "stderr",
     "output_type": "stream",
     "text": [
      "\rDictNBHDTransformer fit stage 2:  52%|█████▏    | 3632120/7002961 [00:25<00:36, 93250.61it/s]"
     ]
    },
    {
     "name": "stderr",
     "output_type": "stream",
     "text": [
      "\rDictNBHDTransformer fit stage 2:  52%|█████▏    | 3646212/7002961 [00:25<00:32, 103781.48it/s]"
     ]
    },
    {
     "name": "stderr",
     "output_type": "stream",
     "text": [
      "\rDictNBHDTransformer fit stage 2:  52%|█████▏    | 3660762/7002961 [00:26<00:29, 113548.12it/s]"
     ]
    },
    {
     "name": "stderr",
     "output_type": "stream",
     "text": [
      "\rDictNBHDTransformer fit stage 2:  52%|█████▏    | 3675267/7002961 [00:26<00:27, 121457.92it/s]"
     ]
    },
    {
     "name": "stderr",
     "output_type": "stream",
     "text": [
      "\rDictNBHDTransformer fit stage 2:  53%|█████▎    | 3688539/7002961 [00:26<00:26, 124629.56it/s]"
     ]
    },
    {
     "name": "stderr",
     "output_type": "stream",
     "text": [
      "\rDictNBHDTransformer fit stage 2:  53%|█████▎    | 3703237/7002961 [00:26<00:25, 130580.24it/s]"
     ]
    },
    {
     "name": "stderr",
     "output_type": "stream",
     "text": [
      "\rDictNBHDTransformer fit stage 2:  53%|█████▎    | 3718151/7002961 [00:26<00:24, 135632.54it/s]"
     ]
    },
    {
     "name": "stderr",
     "output_type": "stream",
     "text": [
      "\rDictNBHDTransformer fit stage 2:  53%|█████▎    | 3732767/7002961 [00:26<00:23, 138627.22it/s]"
     ]
    },
    {
     "name": "stderr",
     "output_type": "stream",
     "text": [
      "\rDictNBHDTransformer fit stage 2:  54%|█████▎    | 3748639/7002961 [00:26<00:22, 144097.88it/s]"
     ]
    },
    {
     "name": "stderr",
     "output_type": "stream",
     "text": [
      "\rDictNBHDTransformer fit stage 2:  54%|█████▍    | 3764169/7002961 [00:26<00:21, 147284.72it/s]"
     ]
    },
    {
     "name": "stderr",
     "output_type": "stream",
     "text": [
      "\rDictNBHDTransformer fit stage 2:  54%|█████▍    | 3779085/7002961 [00:26<00:23, 137563.91it/s]"
     ]
    },
    {
     "name": "stderr",
     "output_type": "stream",
     "text": [
      "\rDictNBHDTransformer fit stage 2:  54%|█████▍    | 3793103/7002961 [00:26<00:23, 136889.10it/s]"
     ]
    },
    {
     "name": "stderr",
     "output_type": "stream",
     "text": [
      "\rDictNBHDTransformer fit stage 2:  54%|█████▍    | 3807172/7002961 [00:27<00:23, 138007.18it/s]"
     ]
    },
    {
     "name": "stderr",
     "output_type": "stream",
     "text": [
      "\rDictNBHDTransformer fit stage 2:  55%|█████▍    | 3821104/7002961 [00:27<00:25, 124033.15it/s]"
     ]
    },
    {
     "name": "stderr",
     "output_type": "stream",
     "text": [
      "\rDictNBHDTransformer fit stage 2:  55%|█████▍    | 3833866/7002961 [00:27<00:29, 106463.33it/s]"
     ]
    },
    {
     "name": "stderr",
     "output_type": "stream",
     "text": [
      "\rDictNBHDTransformer fit stage 2:  55%|█████▍    | 3845200/7002961 [00:27<00:30, 105042.00it/s]"
     ]
    },
    {
     "name": "stderr",
     "output_type": "stream",
     "text": [
      "\rDictNBHDTransformer fit stage 2:  55%|█████▌    | 3856190/7002961 [00:27<00:31, 98686.08it/s] "
     ]
    },
    {
     "name": "stderr",
     "output_type": "stream",
     "text": [
      "\rDictNBHDTransformer fit stage 2:  55%|█████▌    | 3866478/7002961 [00:27<00:33, 93897.60it/s]"
     ]
    },
    {
     "name": "stderr",
     "output_type": "stream",
     "text": [
      "\rDictNBHDTransformer fit stage 2:  55%|█████▌    | 3877741/7002961 [00:27<00:31, 98828.16it/s]"
     ]
    },
    {
     "name": "stderr",
     "output_type": "stream",
     "text": [
      "\rDictNBHDTransformer fit stage 2:  56%|█████▌    | 3890814/7002961 [00:27<00:29, 106634.51it/s]"
     ]
    },
    {
     "name": "stderr",
     "output_type": "stream",
     "text": [
      "\rDictNBHDTransformer fit stage 2:  56%|█████▌    | 3906587/7002961 [00:28<00:26, 118099.50it/s]"
     ]
    },
    {
     "name": "stderr",
     "output_type": "stream",
     "text": [
      "\rDictNBHDTransformer fit stage 2:  56%|█████▌    | 3921880/7002961 [00:28<00:24, 126758.29it/s]"
     ]
    },
    {
     "name": "stderr",
     "output_type": "stream",
     "text": [
      "\rDictNBHDTransformer fit stage 2:  56%|█████▌    | 3937274/7002961 [00:28<00:22, 133843.64it/s]"
     ]
    },
    {
     "name": "stderr",
     "output_type": "stream",
     "text": [
      "\rDictNBHDTransformer fit stage 2:  56%|█████▋    | 3953022/7002961 [00:28<00:21, 140152.14it/s]"
     ]
    },
    {
     "name": "stderr",
     "output_type": "stream",
     "text": [
      "\rDictNBHDTransformer fit stage 2:  57%|█████▋    | 3969395/7002961 [00:28<00:20, 146479.48it/s]"
     ]
    },
    {
     "name": "stderr",
     "output_type": "stream",
     "text": [
      "\rDictNBHDTransformer fit stage 2:  57%|█████▋    | 3984690/7002961 [00:28<00:20, 148359.47it/s]"
     ]
    },
    {
     "name": "stderr",
     "output_type": "stream",
     "text": [
      "\rDictNBHDTransformer fit stage 2:  57%|█████▋    | 4000545/7002961 [00:28<00:19, 151274.25it/s]"
     ]
    },
    {
     "name": "stderr",
     "output_type": "stream",
     "text": [
      "\rDictNBHDTransformer fit stage 2:  57%|█████▋    | 4016331/7002961 [00:28<00:19, 153189.68it/s]"
     ]
    },
    {
     "name": "stderr",
     "output_type": "stream",
     "text": [
      "\rDictNBHDTransformer fit stage 2:  58%|█████▊    | 4032186/7002961 [00:28<00:19, 154758.40it/s]"
     ]
    },
    {
     "name": "stderr",
     "output_type": "stream",
     "text": [
      "\rDictNBHDTransformer fit stage 2:  58%|█████▊    | 4048104/7002961 [00:28<00:18, 156057.93it/s]"
     ]
    },
    {
     "name": "stderr",
     "output_type": "stream",
     "text": [
      "\rDictNBHDTransformer fit stage 2:  58%|█████▊    | 4063792/7002961 [00:29<00:18, 155144.90it/s]"
     ]
    },
    {
     "name": "stderr",
     "output_type": "stream",
     "text": [
      "\rDictNBHDTransformer fit stage 2:  58%|█████▊    | 4079365/7002961 [00:29<00:19, 153398.09it/s]"
     ]
    },
    {
     "name": "stderr",
     "output_type": "stream",
     "text": [
      "\rDictNBHDTransformer fit stage 2:  58%|█████▊    | 4094751/7002961 [00:29<00:19, 148131.55it/s]"
     ]
    },
    {
     "name": "stderr",
     "output_type": "stream",
     "text": [
      "\rDictNBHDTransformer fit stage 2:  59%|█████▊    | 4109635/7002961 [00:29<00:19, 147038.10it/s]"
     ]
    },
    {
     "name": "stderr",
     "output_type": "stream",
     "text": [
      "\rDictNBHDTransformer fit stage 2:  59%|█████▉    | 4125787/7002961 [00:29<00:19, 151101.19it/s]"
     ]
    },
    {
     "name": "stderr",
     "output_type": "stream",
     "text": [
      "\rDictNBHDTransformer fit stage 2:  59%|█████▉    | 4141344/7002961 [00:29<00:18, 152414.15it/s]"
     ]
    },
    {
     "name": "stderr",
     "output_type": "stream",
     "text": [
      "\rDictNBHDTransformer fit stage 2:  59%|█████▉    | 4156633/7002961 [00:29<00:18, 150592.49it/s]"
     ]
    },
    {
     "name": "stderr",
     "output_type": "stream",
     "text": [
      "\rDictNBHDTransformer fit stage 2:  60%|█████▉    | 4171731/7002961 [00:29<00:18, 150067.64it/s]"
     ]
    },
    {
     "name": "stderr",
     "output_type": "stream",
     "text": [
      "\rDictNBHDTransformer fit stage 2:  60%|█████▉    | 4186765/7002961 [00:29<00:18, 148386.93it/s]"
     ]
    },
    {
     "name": "stderr",
     "output_type": "stream",
     "text": [
      "\rDictNBHDTransformer fit stage 2:  60%|██████    | 4201853/7002961 [00:29<00:18, 149126.10it/s]"
     ]
    },
    {
     "name": "stderr",
     "output_type": "stream",
     "text": [
      "\rDictNBHDTransformer fit stage 2:  60%|██████    | 4216783/7002961 [00:30<00:18, 146980.25it/s]"
     ]
    },
    {
     "name": "stderr",
     "output_type": "stream",
     "text": [
      "\rDictNBHDTransformer fit stage 2:  60%|██████    | 4232094/7002961 [00:30<00:18, 148766.64it/s]"
     ]
    },
    {
     "name": "stderr",
     "output_type": "stream",
     "text": [
      "\rDictNBHDTransformer fit stage 2:  61%|██████    | 4248116/7002961 [00:30<00:18, 152025.13it/s]"
     ]
    },
    {
     "name": "stderr",
     "output_type": "stream",
     "text": [
      "\rDictNBHDTransformer fit stage 2:  61%|██████    | 4264446/7002961 [00:30<00:17, 155239.01it/s]"
     ]
    },
    {
     "name": "stderr",
     "output_type": "stream",
     "text": [
      "\rDictNBHDTransformer fit stage 2:  61%|██████    | 4280443/7002961 [00:30<00:17, 156628.59it/s]"
     ]
    },
    {
     "name": "stderr",
     "output_type": "stream",
     "text": [
      "\rDictNBHDTransformer fit stage 2:  61%|██████▏   | 4296136/7002961 [00:30<00:17, 154077.58it/s]"
     ]
    },
    {
     "name": "stderr",
     "output_type": "stream",
     "text": [
      "\rDictNBHDTransformer fit stage 2:  62%|██████▏   | 4312080/7002961 [00:30<00:17, 155646.68it/s]"
     ]
    },
    {
     "name": "stderr",
     "output_type": "stream",
     "text": [
      "\rDictNBHDTransformer fit stage 2:  62%|██████▏   | 4327994/7002961 [00:30<00:17, 156676.63it/s]"
     ]
    },
    {
     "name": "stderr",
     "output_type": "stream",
     "text": [
      "\rDictNBHDTransformer fit stage 2:  62%|██████▏   | 4343681/7002961 [00:30<00:17, 154763.96it/s]"
     ]
    },
    {
     "name": "stderr",
     "output_type": "stream",
     "text": [
      "\rDictNBHDTransformer fit stage 2:  62%|██████▏   | 4359177/7002961 [00:30<00:17, 152141.74it/s]"
     ]
    },
    {
     "name": "stderr",
     "output_type": "stream",
     "text": [
      "\rDictNBHDTransformer fit stage 2:  62%|██████▏   | 4374773/7002961 [00:31<00:17, 153263.39it/s]"
     ]
    },
    {
     "name": "stderr",
     "output_type": "stream",
     "text": [
      "\rDictNBHDTransformer fit stage 2:  63%|██████▎   | 4390560/7002961 [00:31<00:16, 154616.40it/s]"
     ]
    },
    {
     "name": "stderr",
     "output_type": "stream",
     "text": [
      "\rDictNBHDTransformer fit stage 2:  63%|██████▎   | 4406038/7002961 [00:31<00:16, 153574.87it/s]"
     ]
    },
    {
     "name": "stderr",
     "output_type": "stream",
     "text": [
      "\rDictNBHDTransformer fit stage 2:  63%|██████▎   | 4421408/7002961 [00:31<00:16, 153473.87it/s]"
     ]
    },
    {
     "name": "stderr",
     "output_type": "stream",
     "text": [
      "\rDictNBHDTransformer fit stage 2:  63%|██████▎   | 4436824/7002961 [00:31<00:16, 153678.56it/s]"
     ]
    },
    {
     "name": "stderr",
     "output_type": "stream",
     "text": [
      "\rDictNBHDTransformer fit stage 2:  64%|██████▎   | 4452199/7002961 [00:31<00:16, 151822.33it/s]"
     ]
    },
    {
     "name": "stderr",
     "output_type": "stream",
     "text": [
      "\rDictNBHDTransformer fit stage 2:  64%|██████▍   | 4468721/7002961 [00:31<00:16, 155605.11it/s]"
     ]
    },
    {
     "name": "stderr",
     "output_type": "stream",
     "text": [
      "\rDictNBHDTransformer fit stage 2:  64%|██████▍   | 4484312/7002961 [00:31<00:16, 153165.79it/s]"
     ]
    },
    {
     "name": "stderr",
     "output_type": "stream",
     "text": [
      "\rDictNBHDTransformer fit stage 2:  64%|██████▍   | 4499802/7002961 [00:31<00:16, 153680.70it/s]"
     ]
    },
    {
     "name": "stderr",
     "output_type": "stream",
     "text": [
      "\rDictNBHDTransformer fit stage 2:  64%|██████▍   | 4515288/7002961 [00:31<00:16, 154031.66it/s]"
     ]
    },
    {
     "name": "stderr",
     "output_type": "stream",
     "text": [
      "\rDictNBHDTransformer fit stage 2:  65%|██████▍   | 4530707/7002961 [00:32<00:16, 152488.68it/s]"
     ]
    },
    {
     "name": "stderr",
     "output_type": "stream",
     "text": [
      "\rDictNBHDTransformer fit stage 2:  65%|██████▍   | 4546067/7002961 [00:32<00:16, 152818.58it/s]"
     ]
    },
    {
     "name": "stderr",
     "output_type": "stream",
     "text": [
      "\rDictNBHDTransformer fit stage 2:  65%|██████▌   | 4561523/7002961 [00:32<00:15, 153335.93it/s]"
     ]
    },
    {
     "name": "stderr",
     "output_type": "stream",
     "text": [
      "\rDictNBHDTransformer fit stage 2:  65%|██████▌   | 4576864/7002961 [00:32<00:15, 152674.93it/s]"
     ]
    },
    {
     "name": "stderr",
     "output_type": "stream",
     "text": [
      "\rDictNBHDTransformer fit stage 2:  66%|██████▌   | 4593280/7002961 [00:32<00:15, 155947.18it/s]"
     ]
    },
    {
     "name": "stderr",
     "output_type": "stream",
     "text": [
      "\rDictNBHDTransformer fit stage 2:  66%|██████▌   | 4608897/7002961 [00:32<00:16, 149341.49it/s]"
     ]
    },
    {
     "name": "stderr",
     "output_type": "stream",
     "text": [
      "\rDictNBHDTransformer fit stage 2:  66%|██████▌   | 4624426/7002961 [00:32<00:15, 151077.15it/s]"
     ]
    },
    {
     "name": "stderr",
     "output_type": "stream",
     "text": [
      "\rDictNBHDTransformer fit stage 2:  66%|██████▋   | 4640112/7002961 [00:32<00:15, 152764.44it/s]"
     ]
    },
    {
     "name": "stderr",
     "output_type": "stream",
     "text": [
      "\rDictNBHDTransformer fit stage 2:  66%|██████▋   | 4655778/7002961 [00:32<00:15, 153910.82it/s]"
     ]
    },
    {
     "name": "stderr",
     "output_type": "stream",
     "text": [
      "\rDictNBHDTransformer fit stage 2:  67%|██████▋   | 4671628/7002961 [00:33<00:15, 155258.92it/s]"
     ]
    },
    {
     "name": "stderr",
     "output_type": "stream",
     "text": [
      "\rDictNBHDTransformer fit stage 2:  67%|██████▋   | 4687180/7002961 [00:33<00:15, 151175.87it/s]"
     ]
    },
    {
     "name": "stderr",
     "output_type": "stream",
     "text": [
      "\rDictNBHDTransformer fit stage 2:  67%|██████▋   | 4702340/7002961 [00:33<00:15, 151096.13it/s]"
     ]
    },
    {
     "name": "stderr",
     "output_type": "stream",
     "text": [
      "\rDictNBHDTransformer fit stage 2:  67%|██████▋   | 4718047/7002961 [00:33<00:14, 152839.65it/s]"
     ]
    },
    {
     "name": "stderr",
     "output_type": "stream",
     "text": [
      "\rDictNBHDTransformer fit stage 2:  68%|██████▊   | 4733357/7002961 [00:33<00:14, 151568.84it/s]"
     ]
    },
    {
     "name": "stderr",
     "output_type": "stream",
     "text": [
      "\rDictNBHDTransformer fit stage 2:  68%|██████▊   | 4748847/7002961 [00:33<00:14, 152551.59it/s]"
     ]
    },
    {
     "name": "stderr",
     "output_type": "stream",
     "text": [
      "\rDictNBHDTransformer fit stage 2:  68%|██████▊   | 4764118/7002961 [00:33<00:14, 151205.64it/s]"
     ]
    },
    {
     "name": "stderr",
     "output_type": "stream",
     "text": [
      "\rDictNBHDTransformer fit stage 2:  68%|██████▊   | 4779619/7002961 [00:33<00:14, 152326.27it/s]"
     ]
    },
    {
     "name": "stderr",
     "output_type": "stream",
     "text": [
      "\rDictNBHDTransformer fit stage 2:  68%|██████▊   | 4794864/7002961 [00:33<00:16, 135008.55it/s]"
     ]
    },
    {
     "name": "stderr",
     "output_type": "stream",
     "text": [
      "\rDictNBHDTransformer fit stage 2:  69%|██████▊   | 4808736/7002961 [00:33<00:16, 129185.48it/s]"
     ]
    },
    {
     "name": "stderr",
     "output_type": "stream",
     "text": [
      "\rDictNBHDTransformer fit stage 2:  69%|██████▉   | 4821968/7002961 [00:34<00:17, 125802.69it/s]"
     ]
    },
    {
     "name": "stderr",
     "output_type": "stream",
     "text": [
      "\rDictNBHDTransformer fit stage 2:  69%|██████▉   | 4834787/7002961 [00:34<00:17, 124653.89it/s]"
     ]
    },
    {
     "name": "stderr",
     "output_type": "stream",
     "text": [
      "\rDictNBHDTransformer fit stage 2:  69%|██████▉   | 4847422/7002961 [00:34<00:17, 124301.32it/s]"
     ]
    },
    {
     "name": "stderr",
     "output_type": "stream",
     "text": [
      "\rDictNBHDTransformer fit stage 2:  69%|██████▉   | 4862170/7002961 [00:34<00:16, 130450.70it/s]"
     ]
    },
    {
     "name": "stderr",
     "output_type": "stream",
     "text": [
      "\rDictNBHDTransformer fit stage 2:  70%|██████▉   | 4877023/7002961 [00:34<00:15, 135393.72it/s]"
     ]
    },
    {
     "name": "stderr",
     "output_type": "stream",
     "text": [
      "\rDictNBHDTransformer fit stage 2:  70%|██████▉   | 4890725/7002961 [00:34<00:16, 129582.97it/s]"
     ]
    },
    {
     "name": "stderr",
     "output_type": "stream",
     "text": [
      "\rDictNBHDTransformer fit stage 2:  70%|███████   | 4904411/7002961 [00:34<00:15, 131683.09it/s]"
     ]
    },
    {
     "name": "stderr",
     "output_type": "stream",
     "text": [
      "\rDictNBHDTransformer fit stage 2:  70%|███████   | 4918404/7002961 [00:34<00:15, 134051.73it/s]"
     ]
    },
    {
     "name": "stderr",
     "output_type": "stream",
     "text": [
      "\rDictNBHDTransformer fit stage 2:  70%|███████   | 4931907/7002961 [00:34<00:16, 125135.14it/s]"
     ]
    },
    {
     "name": "stderr",
     "output_type": "stream",
     "text": [
      "\rDictNBHDTransformer fit stage 2:  71%|███████   | 4944609/7002961 [00:35<00:16, 122848.64it/s]"
     ]
    },
    {
     "name": "stderr",
     "output_type": "stream",
     "text": [
      "\rDictNBHDTransformer fit stage 2:  71%|███████   | 4957035/7002961 [00:35<00:17, 115388.51it/s]"
     ]
    },
    {
     "name": "stderr",
     "output_type": "stream",
     "text": [
      "\rDictNBHDTransformer fit stage 2:  71%|███████   | 4968766/7002961 [00:35<00:18, 107235.59it/s]"
     ]
    },
    {
     "name": "stderr",
     "output_type": "stream",
     "text": [
      "\rDictNBHDTransformer fit stage 2:  71%|███████   | 4979739/7002961 [00:35<00:23, 85563.32it/s] "
     ]
    },
    {
     "name": "stderr",
     "output_type": "stream",
     "text": [
      "\rDictNBHDTransformer fit stage 2:  71%|███████▏  | 4990987/7002961 [00:35<00:21, 92179.24it/s]"
     ]
    },
    {
     "name": "stderr",
     "output_type": "stream",
     "text": [
      "\rDictNBHDTransformer fit stage 2:  71%|███████▏  | 5003818/7002961 [00:35<00:19, 100684.74it/s]"
     ]
    },
    {
     "name": "stderr",
     "output_type": "stream",
     "text": [
      "\rDictNBHDTransformer fit stage 2:  72%|███████▏  | 5018035/7002961 [00:35<00:17, 110343.03it/s]"
     ]
    },
    {
     "name": "stderr",
     "output_type": "stream",
     "text": [
      "\rDictNBHDTransformer fit stage 2:  72%|███████▏  | 5030829/7002961 [00:35<00:17, 115090.38it/s]"
     ]
    },
    {
     "name": "stderr",
     "output_type": "stream",
     "text": [
      "\rDictNBHDTransformer fit stage 2:  72%|███████▏  | 5044354/7002961 [00:35<00:16, 120476.74it/s]"
     ]
    },
    {
     "name": "stderr",
     "output_type": "stream",
     "text": [
      "\rDictNBHDTransformer fit stage 2:  72%|███████▏  | 5056903/7002961 [00:36<00:17, 111510.07it/s]"
     ]
    },
    {
     "name": "stderr",
     "output_type": "stream",
     "text": [
      "\rDictNBHDTransformer fit stage 2:  72%|███████▏  | 5069849/7002961 [00:36<00:16, 116346.60it/s]"
     ]
    },
    {
     "name": "stderr",
     "output_type": "stream",
     "text": [
      "\rDictNBHDTransformer fit stage 2:  73%|███████▎  | 5081877/7002961 [00:36<00:16, 115137.08it/s]"
     ]
    },
    {
     "name": "stderr",
     "output_type": "stream",
     "text": [
      "\rDictNBHDTransformer fit stage 2:  73%|███████▎  | 5096141/7002961 [00:36<00:15, 122192.45it/s]"
     ]
    },
    {
     "name": "stderr",
     "output_type": "stream",
     "text": [
      "\rDictNBHDTransformer fit stage 2:  73%|███████▎  | 5110435/7002961 [00:36<00:14, 127755.22it/s]"
     ]
    },
    {
     "name": "stderr",
     "output_type": "stream",
     "text": [
      "\rDictNBHDTransformer fit stage 2:  73%|███████▎  | 5124244/7002961 [00:36<00:14, 130689.09it/s]"
     ]
    },
    {
     "name": "stderr",
     "output_type": "stream",
     "text": [
      "\rDictNBHDTransformer fit stage 2:  73%|███████▎  | 5138148/7002961 [00:36<00:14, 133087.04it/s]"
     ]
    },
    {
     "name": "stderr",
     "output_type": "stream",
     "text": [
      "\rDictNBHDTransformer fit stage 2:  74%|███████▎  | 5151619/7002961 [00:36<00:14, 126749.03it/s]"
     ]
    },
    {
     "name": "stderr",
     "output_type": "stream",
     "text": [
      "\rDictNBHDTransformer fit stage 2:  74%|███████▍  | 5164749/7002961 [00:36<00:14, 128080.17it/s]"
     ]
    },
    {
     "name": "stderr",
     "output_type": "stream",
     "text": [
      "\rDictNBHDTransformer fit stage 2:  74%|███████▍  | 5178776/7002961 [00:37<00:13, 131506.01it/s]"
     ]
    },
    {
     "name": "stderr",
     "output_type": "stream",
     "text": [
      "\rDictNBHDTransformer fit stage 2:  74%|███████▍  | 5192635/7002961 [00:37<00:13, 133553.19it/s]"
     ]
    },
    {
     "name": "stderr",
     "output_type": "stream",
     "text": [
      "\rDictNBHDTransformer fit stage 2:  74%|███████▍  | 5206077/7002961 [00:37<00:13, 130213.10it/s]"
     ]
    },
    {
     "name": "stderr",
     "output_type": "stream",
     "text": [
      "\rDictNBHDTransformer fit stage 2:  75%|███████▍  | 5219177/7002961 [00:37<00:14, 127151.90it/s]"
     ]
    },
    {
     "name": "stderr",
     "output_type": "stream",
     "text": [
      "\rDictNBHDTransformer fit stage 2:  75%|███████▍  | 5231964/7002961 [00:37<00:14, 123618.58it/s]"
     ]
    },
    {
     "name": "stderr",
     "output_type": "stream",
     "text": [
      "\rDictNBHDTransformer fit stage 2:  75%|███████▍  | 5244398/7002961 [00:37<00:14, 118770.27it/s]"
     ]
    },
    {
     "name": "stderr",
     "output_type": "stream",
     "text": [
      "\rDictNBHDTransformer fit stage 2:  75%|███████▌  | 5256574/7002961 [00:37<00:14, 119649.59it/s]"
     ]
    },
    {
     "name": "stderr",
     "output_type": "stream",
     "text": [
      "\rDictNBHDTransformer fit stage 2:  75%|███████▌  | 5268877/7002961 [00:37<00:14, 120640.86it/s]"
     ]
    },
    {
     "name": "stderr",
     "output_type": "stream",
     "text": [
      "\rDictNBHDTransformer fit stage 2:  75%|███████▌  | 5283034/7002961 [00:37<00:13, 126237.95it/s]"
     ]
    },
    {
     "name": "stderr",
     "output_type": "stream",
     "text": [
      "\rDictNBHDTransformer fit stage 2:  76%|███████▌  | 5297882/7002961 [00:37<00:12, 132175.89it/s]"
     ]
    },
    {
     "name": "stderr",
     "output_type": "stream",
     "text": [
      "\rDictNBHDTransformer fit stage 2:  76%|███████▌  | 5312172/7002961 [00:38<00:12, 135217.51it/s]"
     ]
    },
    {
     "name": "stderr",
     "output_type": "stream",
     "text": [
      "\rDictNBHDTransformer fit stage 2:  76%|███████▌  | 5325812/7002961 [00:38<00:12, 134315.75it/s]"
     ]
    },
    {
     "name": "stderr",
     "output_type": "stream",
     "text": [
      "\rDictNBHDTransformer fit stage 2:  76%|███████▋  | 5340010/7002961 [00:38<00:12, 136523.93it/s]"
     ]
    },
    {
     "name": "stderr",
     "output_type": "stream",
     "text": [
      "\rDictNBHDTransformer fit stage 2:  76%|███████▋  | 5353797/7002961 [00:38<00:12, 136922.49it/s]"
     ]
    },
    {
     "name": "stderr",
     "output_type": "stream",
     "text": [
      "\rDictNBHDTransformer fit stage 2:  77%|███████▋  | 5369381/7002961 [00:38<00:11, 142096.85it/s]"
     ]
    },
    {
     "name": "stderr",
     "output_type": "stream",
     "text": [
      "\rDictNBHDTransformer fit stage 2:  77%|███████▋  | 5383929/7002961 [00:38<00:11, 143093.08it/s]"
     ]
    },
    {
     "name": "stderr",
     "output_type": "stream",
     "text": [
      "\rDictNBHDTransformer fit stage 2:  77%|███████▋  | 5398299/7002961 [00:38<00:11, 135466.45it/s]"
     ]
    },
    {
     "name": "stderr",
     "output_type": "stream",
     "text": [
      "\rDictNBHDTransformer fit stage 2:  77%|███████▋  | 5411973/7002961 [00:38<00:12, 127689.05it/s]"
     ]
    },
    {
     "name": "stderr",
     "output_type": "stream",
     "text": [
      "\rDictNBHDTransformer fit stage 2:  77%|███████▋  | 5425767/7002961 [00:38<00:12, 130599.95it/s]"
     ]
    },
    {
     "name": "stderr",
     "output_type": "stream",
     "text": [
      "\rDictNBHDTransformer fit stage 2:  78%|███████▊  | 5440545/7002961 [00:39<00:11, 135317.56it/s]"
     ]
    },
    {
     "name": "stderr",
     "output_type": "stream",
     "text": [
      "\rDictNBHDTransformer fit stage 2:  78%|███████▊  | 5455303/7002961 [00:39<00:11, 138775.68it/s]"
     ]
    },
    {
     "name": "stderr",
     "output_type": "stream",
     "text": [
      "\rDictNBHDTransformer fit stage 2:  78%|███████▊  | 5469303/7002961 [00:39<00:12, 122851.99it/s]"
     ]
    },
    {
     "name": "stderr",
     "output_type": "stream",
     "text": [
      "\rDictNBHDTransformer fit stage 2:  78%|███████▊  | 5482011/7002961 [00:39<00:12, 122365.59it/s]"
     ]
    },
    {
     "name": "stderr",
     "output_type": "stream",
     "text": [
      "\rDictNBHDTransformer fit stage 2:  78%|███████▊  | 5497156/7002961 [00:39<00:11, 129844.64it/s]"
     ]
    },
    {
     "name": "stderr",
     "output_type": "stream",
     "text": [
      "\rDictNBHDTransformer fit stage 2:  79%|███████▊  | 5510472/7002961 [00:39<00:12, 124325.09it/s]"
     ]
    },
    {
     "name": "stderr",
     "output_type": "stream",
     "text": [
      "\rDictNBHDTransformer fit stage 2:  79%|███████▉  | 5524677/7002961 [00:39<00:11, 129155.45it/s]"
     ]
    },
    {
     "name": "stderr",
     "output_type": "stream",
     "text": [
      "\rDictNBHDTransformer fit stage 2:  79%|███████▉  | 5538192/7002961 [00:39<00:11, 130895.36it/s]"
     ]
    },
    {
     "name": "stderr",
     "output_type": "stream",
     "text": [
      "\rDictNBHDTransformer fit stage 2:  79%|███████▉  | 5553226/7002961 [00:39<00:10, 136178.10it/s]"
     ]
    },
    {
     "name": "stderr",
     "output_type": "stream",
     "text": [
      "\rDictNBHDTransformer fit stage 2:  80%|███████▉  | 5568721/7002961 [00:40<00:10, 141313.65it/s]"
     ]
    },
    {
     "name": "stderr",
     "output_type": "stream",
     "text": [
      "\rDictNBHDTransformer fit stage 2:  80%|███████▉  | 5584294/7002961 [00:40<00:09, 145349.95it/s]"
     ]
    },
    {
     "name": "stderr",
     "output_type": "stream",
     "text": [
      "\rDictNBHDTransformer fit stage 2:  80%|███████▉  | 5598981/7002961 [00:40<00:31, 44459.27it/s] "
     ]
    },
    {
     "name": "stderr",
     "output_type": "stream",
     "text": [
      "\rDictNBHDTransformer fit stage 2:  80%|████████  | 5611355/7002961 [00:41<00:25, 55037.88it/s]"
     ]
    },
    {
     "name": "stderr",
     "output_type": "stream",
     "text": [
      "\rDictNBHDTransformer fit stage 2:  80%|████████  | 5622620/7002961 [00:41<00:21, 63154.88it/s]"
     ]
    },
    {
     "name": "stderr",
     "output_type": "stream",
     "text": [
      "\rDictNBHDTransformer fit stage 2:  80%|████████  | 5634399/7002961 [00:41<00:18, 73362.87it/s]"
     ]
    },
    {
     "name": "stderr",
     "output_type": "stream",
     "text": [
      "\rDictNBHDTransformer fit stage 2:  81%|████████  | 5646069/7002961 [00:41<00:16, 82558.38it/s]"
     ]
    },
    {
     "name": "stderr",
     "output_type": "stream",
     "text": [
      "\rDictNBHDTransformer fit stage 2:  81%|████████  | 5658167/7002961 [00:41<00:14, 91251.74it/s]"
     ]
    },
    {
     "name": "stderr",
     "output_type": "stream",
     "text": [
      "\rDictNBHDTransformer fit stage 2:  81%|████████  | 5671378/7002961 [00:41<00:13, 100583.71it/s]"
     ]
    },
    {
     "name": "stderr",
     "output_type": "stream",
     "text": [
      "\rDictNBHDTransformer fit stage 2:  81%|████████  | 5684896/7002961 [00:41<00:12, 108947.23it/s]"
     ]
    },
    {
     "name": "stderr",
     "output_type": "stream",
     "text": [
      "\rDictNBHDTransformer fit stage 2:  81%|████████▏ | 5697565/7002961 [00:41<00:11, 113724.37it/s]"
     ]
    },
    {
     "name": "stderr",
     "output_type": "stream",
     "text": [
      "\rDictNBHDTransformer fit stage 2:  82%|████████▏ | 5711801/7002961 [00:41<00:10, 121026.55it/s]"
     ]
    },
    {
     "name": "stderr",
     "output_type": "stream",
     "text": [
      "\rDictNBHDTransformer fit stage 2:  82%|████████▏ | 5726723/7002961 [00:41<00:09, 128298.68it/s]"
     ]
    },
    {
     "name": "stderr",
     "output_type": "stream",
     "text": [
      "\rDictNBHDTransformer fit stage 2:  82%|████████▏ | 5743011/7002961 [00:42<00:09, 137024.34it/s]"
     ]
    },
    {
     "name": "stderr",
     "output_type": "stream",
     "text": [
      "\rDictNBHDTransformer fit stage 2:  82%|████████▏ | 5757430/7002961 [00:42<00:08, 139095.67it/s]"
     ]
    },
    {
     "name": "stderr",
     "output_type": "stream",
     "text": [
      "\rDictNBHDTransformer fit stage 2:  82%|████████▏ | 5771843/7002961 [00:42<00:09, 125630.27it/s]"
     ]
    },
    {
     "name": "stderr",
     "output_type": "stream",
     "text": [
      "\rDictNBHDTransformer fit stage 2:  83%|████████▎ | 5785429/7002961 [00:42<00:09, 128532.51it/s]"
     ]
    },
    {
     "name": "stderr",
     "output_type": "stream",
     "text": [
      "\rDictNBHDTransformer fit stage 2:  83%|████████▎ | 5799482/7002961 [00:42<00:09, 131910.60it/s]"
     ]
    },
    {
     "name": "stderr",
     "output_type": "stream",
     "text": [
      "\rDictNBHDTransformer fit stage 2:  83%|████████▎ | 5813001/7002961 [00:42<00:10, 118074.71it/s]"
     ]
    },
    {
     "name": "stderr",
     "output_type": "stream",
     "text": [
      "\rDictNBHDTransformer fit stage 2:  83%|████████▎ | 5825710/7002961 [00:42<00:09, 120639.41it/s]"
     ]
    },
    {
     "name": "stderr",
     "output_type": "stream",
     "text": [
      "\rDictNBHDTransformer fit stage 2:  83%|████████▎ | 5838139/7002961 [00:42<00:09, 116555.81it/s]"
     ]
    },
    {
     "name": "stderr",
     "output_type": "stream",
     "text": [
      "\rDictNBHDTransformer fit stage 2:  84%|████████▎ | 5851816/7002961 [00:42<00:09, 121961.26it/s]"
     ]
    },
    {
     "name": "stderr",
     "output_type": "stream",
     "text": [
      "\rDictNBHDTransformer fit stage 2:  84%|████████▍ | 5865786/7002961 [00:43<00:08, 126789.12it/s]"
     ]
    },
    {
     "name": "stderr",
     "output_type": "stream",
     "text": [
      "\rDictNBHDTransformer fit stage 2:  84%|████████▍ | 5880807/7002961 [00:43<00:08, 133009.73it/s]"
     ]
    },
    {
     "name": "stderr",
     "output_type": "stream",
     "text": [
      "\rDictNBHDTransformer fit stage 2:  84%|████████▍ | 5896680/7002961 [00:43<00:07, 139804.86it/s]"
     ]
    },
    {
     "name": "stderr",
     "output_type": "stream",
     "text": [
      "\rDictNBHDTransformer fit stage 2:  84%|████████▍ | 5911132/7002961 [00:43<00:07, 141186.72it/s]"
     ]
    },
    {
     "name": "stderr",
     "output_type": "stream",
     "text": [
      "\rDictNBHDTransformer fit stage 2:  85%|████████▍ | 5925439/7002961 [00:43<00:07, 135591.29it/s]"
     ]
    },
    {
     "name": "stderr",
     "output_type": "stream",
     "text": [
      "\rDictNBHDTransformer fit stage 2:  85%|████████▍ | 5939177/7002961 [00:43<00:07, 136061.03it/s]"
     ]
    },
    {
     "name": "stderr",
     "output_type": "stream",
     "text": [
      "\rDictNBHDTransformer fit stage 2:  85%|████████▌ | 5953387/7002961 [00:43<00:07, 137815.78it/s]"
     ]
    },
    {
     "name": "stderr",
     "output_type": "stream",
     "text": [
      "\rDictNBHDTransformer fit stage 2:  85%|████████▌ | 5968674/7002961 [00:43<00:07, 142010.81it/s]"
     ]
    },
    {
     "name": "stderr",
     "output_type": "stream",
     "text": [
      "\rDictNBHDTransformer fit stage 2:  85%|████████▌ | 5984004/7002961 [00:43<00:07, 145217.80it/s]"
     ]
    },
    {
     "name": "stderr",
     "output_type": "stream",
     "text": [
      "\rDictNBHDTransformer fit stage 2:  86%|████████▌ | 5999196/7002961 [00:44<00:06, 147164.66it/s]"
     ]
    },
    {
     "name": "stderr",
     "output_type": "stream",
     "text": [
      "\rDictNBHDTransformer fit stage 2:  86%|████████▌ | 6013979/7002961 [00:44<00:06, 145280.48it/s]"
     ]
    },
    {
     "name": "stderr",
     "output_type": "stream",
     "text": [
      "\rDictNBHDTransformer fit stage 2:  86%|████████▌ | 6028560/7002961 [00:44<00:07, 137255.36it/s]"
     ]
    },
    {
     "name": "stderr",
     "output_type": "stream",
     "text": [
      "\rDictNBHDTransformer fit stage 2:  86%|████████▋ | 6042414/7002961 [00:44<00:07, 127889.07it/s]"
     ]
    },
    {
     "name": "stderr",
     "output_type": "stream",
     "text": [
      "\rDictNBHDTransformer fit stage 2:  86%|████████▋ | 6055482/7002961 [00:44<00:07, 128702.73it/s]"
     ]
    },
    {
     "name": "stderr",
     "output_type": "stream",
     "text": [
      "\rDictNBHDTransformer fit stage 2:  87%|████████▋ | 6068507/7002961 [00:44<00:07, 128074.07it/s]"
     ]
    },
    {
     "name": "stderr",
     "output_type": "stream",
     "text": [
      "\rDictNBHDTransformer fit stage 2:  87%|████████▋ | 6082100/7002961 [00:44<00:07, 130330.10it/s]"
     ]
    },
    {
     "name": "stderr",
     "output_type": "stream",
     "text": [
      "\rDictNBHDTransformer fit stage 2:  87%|████████▋ | 6095923/7002961 [00:44<00:06, 132601.64it/s]"
     ]
    },
    {
     "name": "stderr",
     "output_type": "stream",
     "text": [
      "\rDictNBHDTransformer fit stage 2:  87%|████████▋ | 6110167/7002961 [00:44<00:06, 135405.16it/s]"
     ]
    },
    {
     "name": "stderr",
     "output_type": "stream",
     "text": [
      "\rDictNBHDTransformer fit stage 2:  87%|████████▋ | 6125220/7002961 [00:44<00:06, 139612.02it/s]"
     ]
    },
    {
     "name": "stderr",
     "output_type": "stream",
     "text": [
      "\rDictNBHDTransformer fit stage 2:  88%|████████▊ | 6140600/7002961 [00:45<00:06, 143585.10it/s]"
     ]
    },
    {
     "name": "stderr",
     "output_type": "stream",
     "text": [
      "\rDictNBHDTransformer fit stage 2:  88%|████████▊ | 6156011/7002961 [00:45<00:05, 146586.31it/s]"
     ]
    },
    {
     "name": "stderr",
     "output_type": "stream",
     "text": [
      "\rDictNBHDTransformer fit stage 2:  88%|████████▊ | 6170743/7002961 [00:45<00:06, 137598.00it/s]"
     ]
    },
    {
     "name": "stderr",
     "output_type": "stream",
     "text": [
      "\rDictNBHDTransformer fit stage 2:  88%|████████▊ | 6184964/7002961 [00:45<00:05, 138949.43it/s]"
     ]
    },
    {
     "name": "stderr",
     "output_type": "stream",
     "text": [
      "\rDictNBHDTransformer fit stage 2:  89%|████████▊ | 6198977/7002961 [00:45<00:05, 137985.97it/s]"
     ]
    },
    {
     "name": "stderr",
     "output_type": "stream",
     "text": [
      "\rDictNBHDTransformer fit stage 2:  89%|████████▊ | 6213504/7002961 [00:45<00:05, 140093.25it/s]"
     ]
    },
    {
     "name": "stderr",
     "output_type": "stream",
     "text": [
      "\rDictNBHDTransformer fit stage 2:  89%|████████▉ | 6227580/7002961 [00:45<00:06, 128866.48it/s]"
     ]
    },
    {
     "name": "stderr",
     "output_type": "stream",
     "text": [
      "\rDictNBHDTransformer fit stage 2:  89%|████████▉ | 6240691/7002961 [00:45<00:06, 111458.06it/s]"
     ]
    },
    {
     "name": "stderr",
     "output_type": "stream",
     "text": [
      "\rDictNBHDTransformer fit stage 2:  89%|████████▉ | 6252411/7002961 [00:46<00:07, 98916.77it/s] "
     ]
    },
    {
     "name": "stderr",
     "output_type": "stream",
     "text": [
      "\rDictNBHDTransformer fit stage 2:  89%|████████▉ | 6262966/7002961 [00:46<00:08, 91061.41it/s]"
     ]
    },
    {
     "name": "stderr",
     "output_type": "stream",
     "text": [
      "\rDictNBHDTransformer fit stage 2:  90%|████████▉ | 6272659/7002961 [00:46<00:08, 90271.35it/s]"
     ]
    },
    {
     "name": "stderr",
     "output_type": "stream",
     "text": [
      "\rDictNBHDTransformer fit stage 2:  90%|████████▉ | 6282099/7002961 [00:46<00:08, 89095.26it/s]"
     ]
    },
    {
     "name": "stderr",
     "output_type": "stream",
     "text": [
      "\rDictNBHDTransformer fit stage 2:  90%|████████▉ | 6292125/7002961 [00:46<00:07, 92173.32it/s]"
     ]
    },
    {
     "name": "stderr",
     "output_type": "stream",
     "text": [
      "\rDictNBHDTransformer fit stage 2:  90%|████████▉ | 6302132/7002961 [00:46<00:07, 94406.92it/s]"
     ]
    },
    {
     "name": "stderr",
     "output_type": "stream",
     "text": [
      "\rDictNBHDTransformer fit stage 2:  90%|█████████ | 6312257/7002961 [00:46<00:07, 96360.21it/s]"
     ]
    },
    {
     "name": "stderr",
     "output_type": "stream",
     "text": [
      "\rDictNBHDTransformer fit stage 2:  90%|█████████ | 6327493/7002961 [00:46<00:06, 108301.64it/s]"
     ]
    },
    {
     "name": "stderr",
     "output_type": "stream",
     "text": [
      "\rDictNBHDTransformer fit stage 2:  91%|█████████ | 6342740/7002961 [00:46<00:05, 118608.32it/s]"
     ]
    },
    {
     "name": "stderr",
     "output_type": "stream",
     "text": [
      "\rDictNBHDTransformer fit stage 2:  91%|█████████ | 6355301/7002961 [00:46<00:05, 116134.78it/s]"
     ]
    },
    {
     "name": "stderr",
     "output_type": "stream",
     "text": [
      "\rDictNBHDTransformer fit stage 2:  91%|█████████ | 6367416/7002961 [00:47<00:06, 99533.09it/s] "
     ]
    },
    {
     "name": "stderr",
     "output_type": "stream",
     "text": [
      "\rDictNBHDTransformer fit stage 2:  91%|█████████ | 6378136/7002961 [00:47<00:06, 101485.55it/s]"
     ]
    },
    {
     "name": "stderr",
     "output_type": "stream",
     "text": [
      "\rDictNBHDTransformer fit stage 2:  91%|█████████▏| 6392718/7002961 [00:47<00:05, 111670.62it/s]"
     ]
    },
    {
     "name": "stderr",
     "output_type": "stream",
     "text": [
      "\rDictNBHDTransformer fit stage 2:  91%|█████████▏| 6406911/7002961 [00:47<00:04, 119300.47it/s]"
     ]
    },
    {
     "name": "stderr",
     "output_type": "stream",
     "text": [
      "\rDictNBHDTransformer fit stage 2:  92%|█████████▏| 6419472/7002961 [00:47<00:04, 121012.45it/s]"
     ]
    },
    {
     "name": "stderr",
     "output_type": "stream",
     "text": [
      "\rDictNBHDTransformer fit stage 2:  92%|█████████▏| 6432021/7002961 [00:47<00:04, 121006.49it/s]"
     ]
    },
    {
     "name": "stderr",
     "output_type": "stream",
     "text": [
      "\rDictNBHDTransformer fit stage 2:  92%|█████████▏| 6445748/7002961 [00:47<00:04, 125465.04it/s]"
     ]
    },
    {
     "name": "stderr",
     "output_type": "stream",
     "text": [
      "\rDictNBHDTransformer fit stage 2:  92%|█████████▏| 6458800/7002961 [00:47<00:04, 126937.32it/s]"
     ]
    },
    {
     "name": "stderr",
     "output_type": "stream",
     "text": [
      "\rDictNBHDTransformer fit stage 2:  92%|█████████▏| 6472432/7002961 [00:47<00:04, 129612.89it/s]"
     ]
    },
    {
     "name": "stderr",
     "output_type": "stream",
     "text": [
      "\rDictNBHDTransformer fit stage 2:  93%|█████████▎| 6486075/7002961 [00:48<00:03, 131583.89it/s]"
     ]
    },
    {
     "name": "stderr",
     "output_type": "stream",
     "text": [
      "\rDictNBHDTransformer fit stage 2:  93%|█████████▎| 6499809/7002961 [00:48<00:03, 133258.99it/s]"
     ]
    },
    {
     "name": "stderr",
     "output_type": "stream",
     "text": [
      "\rDictNBHDTransformer fit stage 2:  93%|█████████▎| 6515077/7002961 [00:48<00:03, 138544.80it/s]"
     ]
    },
    {
     "name": "stderr",
     "output_type": "stream",
     "text": [
      "\rDictNBHDTransformer fit stage 2:  93%|█████████▎| 6530324/7002961 [00:48<00:03, 142446.18it/s]"
     ]
    },
    {
     "name": "stderr",
     "output_type": "stream",
     "text": [
      "\rDictNBHDTransformer fit stage 2:  93%|█████████▎| 6544674/7002961 [00:48<00:03, 131718.30it/s]"
     ]
    },
    {
     "name": "stderr",
     "output_type": "stream",
     "text": [
      "\rDictNBHDTransformer fit stage 2:  94%|█████████▎| 6558680/7002961 [00:48<00:03, 134111.95it/s]"
     ]
    },
    {
     "name": "stderr",
     "output_type": "stream",
     "text": [
      "\rDictNBHDTransformer fit stage 2:  94%|█████████▍| 6573349/7002961 [00:48<00:03, 137651.27it/s]"
     ]
    },
    {
     "name": "stderr",
     "output_type": "stream",
     "text": [
      "\rDictNBHDTransformer fit stage 2:  94%|█████████▍| 6587260/7002961 [00:48<00:03, 117989.49it/s]"
     ]
    },
    {
     "name": "stderr",
     "output_type": "stream",
     "text": [
      "\rDictNBHDTransformer fit stage 2:  94%|█████████▍| 6599653/7002961 [00:48<00:03, 117750.20it/s]"
     ]
    },
    {
     "name": "stderr",
     "output_type": "stream",
     "text": [
      "\rDictNBHDTransformer fit stage 2:  94%|█████████▍| 6611844/7002961 [00:49<00:03, 109561.38it/s]"
     ]
    },
    {
     "name": "stderr",
     "output_type": "stream",
     "text": [
      "\rDictNBHDTransformer fit stage 2:  95%|█████████▍| 6625844/7002961 [00:49<00:03, 117205.06it/s]"
     ]
    },
    {
     "name": "stderr",
     "output_type": "stream",
     "text": [
      "\rDictNBHDTransformer fit stage 2:  95%|█████████▍| 6640123/7002961 [00:49<00:02, 123861.27it/s]"
     ]
    },
    {
     "name": "stderr",
     "output_type": "stream",
     "text": [
      "\rDictNBHDTransformer fit stage 2:  95%|█████████▌| 6656133/7002961 [00:49<00:02, 132883.76it/s]"
     ]
    },
    {
     "name": "stderr",
     "output_type": "stream",
     "text": [
      "\rDictNBHDTransformer fit stage 2:  95%|█████████▌| 6671463/7002961 [00:49<00:02, 138412.49it/s]"
     ]
    },
    {
     "name": "stderr",
     "output_type": "stream",
     "text": [
      "\rDictNBHDTransformer fit stage 2:  95%|█████████▌| 6686971/7002961 [00:49<00:02, 143022.36it/s]"
     ]
    },
    {
     "name": "stderr",
     "output_type": "stream",
     "text": [
      "\rDictNBHDTransformer fit stage 2:  96%|█████████▌| 6702767/7002961 [00:49<00:02, 147198.29it/s]"
     ]
    },
    {
     "name": "stderr",
     "output_type": "stream",
     "text": [
      "\rDictNBHDTransformer fit stage 2:  96%|█████████▌| 6719271/7002961 [00:49<00:01, 152130.51it/s]"
     ]
    },
    {
     "name": "stderr",
     "output_type": "stream",
     "text": [
      "\rDictNBHDTransformer fit stage 2:  96%|█████████▌| 6735824/7002961 [00:49<00:01, 155914.75it/s]"
     ]
    },
    {
     "name": "stderr",
     "output_type": "stream",
     "text": [
      "\rDictNBHDTransformer fit stage 2:  96%|█████████▋| 6751590/7002961 [00:49<00:01, 154983.84it/s]"
     ]
    },
    {
     "name": "stderr",
     "output_type": "stream",
     "text": [
      "\rDictNBHDTransformer fit stage 2:  97%|█████████▋| 6767212/7002961 [00:50<00:01, 149662.15it/s]"
     ]
    },
    {
     "name": "stderr",
     "output_type": "stream",
     "text": [
      "\rDictNBHDTransformer fit stage 2:  97%|█████████▋| 6782304/7002961 [00:50<00:01, 138576.86it/s]"
     ]
    },
    {
     "name": "stderr",
     "output_type": "stream",
     "text": [
      "\rDictNBHDTransformer fit stage 2:  97%|█████████▋| 6796413/7002961 [00:50<00:01, 133040.03it/s]"
     ]
    },
    {
     "name": "stderr",
     "output_type": "stream",
     "text": [
      "\rDictNBHDTransformer fit stage 2:  97%|█████████▋| 6809941/7002961 [00:50<00:01, 133159.76it/s]"
     ]
    },
    {
     "name": "stderr",
     "output_type": "stream",
     "text": [
      "\rDictNBHDTransformer fit stage 2:  97%|█████████▋| 6823414/7002961 [00:50<00:01, 129156.51it/s]"
     ]
    },
    {
     "name": "stderr",
     "output_type": "stream",
     "text": [
      "\rDictNBHDTransformer fit stage 2:  98%|█████████▊| 6836466/7002961 [00:50<00:01, 129488.13it/s]"
     ]
    },
    {
     "name": "stderr",
     "output_type": "stream",
     "text": [
      "\rDictNBHDTransformer fit stage 2:  98%|█████████▊| 6851335/7002961 [00:50<00:01, 134705.86it/s]"
     ]
    },
    {
     "name": "stderr",
     "output_type": "stream",
     "text": [
      "\rDictNBHDTransformer fit stage 2:  98%|█████████▊| 6867382/7002961 [00:50<00:00, 141522.06it/s]"
     ]
    },
    {
     "name": "stderr",
     "output_type": "stream",
     "text": [
      "\rDictNBHDTransformer fit stage 2:  98%|█████████▊| 6881710/7002961 [00:50<00:00, 141868.59it/s]"
     ]
    },
    {
     "name": "stderr",
     "output_type": "stream",
     "text": [
      "\rDictNBHDTransformer fit stage 2:  98%|█████████▊| 6897613/7002961 [00:51<00:00, 146614.26it/s]"
     ]
    },
    {
     "name": "stderr",
     "output_type": "stream",
     "text": [
      "\rDictNBHDTransformer fit stage 2:  99%|█████████▊| 6913080/7002961 [00:51<00:00, 148941.00it/s]"
     ]
    },
    {
     "name": "stderr",
     "output_type": "stream",
     "text": [
      "\rDictNBHDTransformer fit stage 2:  99%|█████████▉| 6928377/7002961 [00:51<00:00, 150125.49it/s]"
     ]
    },
    {
     "name": "stderr",
     "output_type": "stream",
     "text": [
      "\rDictNBHDTransformer fit stage 2:  99%|█████████▉| 6943994/7002961 [00:51<00:00, 151887.91it/s]"
     ]
    },
    {
     "name": "stderr",
     "output_type": "stream",
     "text": [
      "\rDictNBHDTransformer fit stage 2:  99%|█████████▉| 6959238/7002961 [00:51<00:00, 151505.90it/s]"
     ]
    },
    {
     "name": "stderr",
     "output_type": "stream",
     "text": [
      "\rDictNBHDTransformer fit stage 2: 100%|█████████▉| 6974427/7002961 [00:51<00:00, 150800.31it/s]"
     ]
    },
    {
     "name": "stderr",
     "output_type": "stream",
     "text": [
      "\rDictNBHDTransformer fit stage 2: 100%|█████████▉| 6989535/7002961 [00:51<00:00, 129882.23it/s]"
     ]
    },
    {
     "name": "stderr",
     "output_type": "stream",
     "text": [
      "\rDictNBHDTransformer fit stage 2: 100%|██████████| 7002961/7002961 [00:51<00:00, 135104.07it/s]"
     ]
    },
    {
     "name": "stderr",
     "output_type": "stream",
     "text": [
      "\n"
     ]
    },
    {
     "name": "stderr",
     "output_type": "stream",
     "text": [
      "\rDictClassTransformer_DATE fit stage 1:   0%|          | 0/9517064 [00:00<?, ?it/s]"
     ]
    },
    {
     "name": "stderr",
     "output_type": "stream",
     "text": [
      "\rDictClassTransformer_DATE fit stage 1:   0%|          | 23713/9517064 [00:01<08:06, 19530.07it/s]"
     ]
    },
    {
     "name": "stderr",
     "output_type": "stream",
     "text": [
      "\rDictClassTransformer_DATE fit stage 1:   1%|          | 115874/9517064 [00:01<05:40, 27648.99it/s]"
     ]
    },
    {
     "name": "stderr",
     "output_type": "stream",
     "text": [
      "\rDictClassTransformer_DATE fit stage 1:   2%|▏         | 219204/9517064 [00:01<03:58, 39050.73it/s]"
     ]
    },
    {
     "name": "stderr",
     "output_type": "stream",
     "text": [
      "\rDictClassTransformer_DATE fit stage 1:   4%|▎         | 337820/9517064 [00:01<02:46, 55010.58it/s]"
     ]
    },
    {
     "name": "stderr",
     "output_type": "stream",
     "text": [
      "\rDictClassTransformer_DATE fit stage 1:   5%|▍         | 432584/9517064 [00:01<01:58, 76678.88it/s]"
     ]
    },
    {
     "name": "stderr",
     "output_type": "stream",
     "text": [
      "\rDictClassTransformer_DATE fit stage 1:   6%|▌         | 525712/9517064 [00:01<01:24, 105807.56it/s]"
     ]
    },
    {
     "name": "stderr",
     "output_type": "stream",
     "text": [
      "\rDictClassTransformer_DATE fit stage 1:   7%|▋         | 623943/9517064 [00:01<01:01, 144483.70it/s]"
     ]
    },
    {
     "name": "stderr",
     "output_type": "stream",
     "text": [
      "\rDictClassTransformer_DATE fit stage 1:   7%|▋         | 711263/9517064 [00:01<00:46, 191283.39it/s]"
     ]
    },
    {
     "name": "stderr",
     "output_type": "stream",
     "text": [
      "\rDictClassTransformer_DATE fit stage 1:   8%|▊         | 806019/9517064 [00:02<00:34, 251502.67it/s]"
     ]
    },
    {
     "name": "stderr",
     "output_type": "stream",
     "text": [
      "\rDictClassTransformer_DATE fit stage 1:   9%|▉         | 893681/9517064 [00:03<01:22, 105117.98it/s]"
     ]
    },
    {
     "name": "stderr",
     "output_type": "stream",
     "text": [
      "\rDictClassTransformer_DATE fit stage 1:  10%|█         | 994174/9517064 [00:04<00:59, 143682.29it/s]"
     ]
    },
    {
     "name": "stderr",
     "output_type": "stream",
     "text": [
      "\rDictClassTransformer_DATE fit stage 1:  12%|█▏        | 1106275/9517064 [00:04<00:43, 194572.27it/s]"
     ]
    },
    {
     "name": "stderr",
     "output_type": "stream",
     "text": [
      "\rDictClassTransformer_DATE fit stage 1:  13%|█▎        | 1225278/9517064 [00:04<00:31, 259758.40it/s]"
     ]
    },
    {
     "name": "stderr",
     "output_type": "stream",
     "text": [
      "\rDictClassTransformer_DATE fit stage 1:  14%|█▍        | 1341267/9517064 [00:04<00:24, 338586.24it/s]"
     ]
    },
    {
     "name": "stderr",
     "output_type": "stream",
     "text": [
      "\rDictClassTransformer_DATE fit stage 1:  15%|█▌        | 1455818/9517064 [00:04<00:18, 429310.75it/s]"
     ]
    },
    {
     "name": "stderr",
     "output_type": "stream",
     "text": [
      "\rDictClassTransformer_DATE fit stage 1:  17%|█▋        | 1571349/9517064 [00:04<00:15, 529046.41it/s]"
     ]
    },
    {
     "name": "stderr",
     "output_type": "stream",
     "text": [
      "\rDictClassTransformer_DATE fit stage 1:  18%|█▊        | 1699245/9517064 [00:04<00:12, 641965.85it/s]"
     ]
    },
    {
     "name": "stderr",
     "output_type": "stream",
     "text": [
      "\rDictClassTransformer_DATE fit stage 1:  19%|█▉        | 1821760/9517064 [00:04<00:10, 748911.46it/s]"
     ]
    },
    {
     "name": "stderr",
     "output_type": "stream",
     "text": [
      "\rDictClassTransformer_DATE fit stage 1:  20%|██        | 1945568/9517064 [00:04<00:08, 849613.65it/s]"
     ]
    },
    {
     "name": "stderr",
     "output_type": "stream",
     "text": [
      "\rDictClassTransformer_DATE fit stage 1:  22%|██▏       | 2064451/9517064 [00:04<00:08, 914880.31it/s]"
     ]
    },
    {
     "name": "stderr",
     "output_type": "stream",
     "text": [
      "\rDictClassTransformer_DATE fit stage 1:  23%|██▎       | 2185271/9517064 [00:05<00:07, 986745.25it/s]"
     ]
    },
    {
     "name": "stderr",
     "output_type": "stream",
     "text": [
      "\rDictClassTransformer_DATE fit stage 1:  24%|██▍       | 2303178/9517064 [00:05<00:07, 1023409.81it/s]"
     ]
    },
    {
     "name": "stderr",
     "output_type": "stream",
     "text": [
      "\rDictClassTransformer_DATE fit stage 1:  25%|██▌       | 2419656/9517064 [00:05<00:06, 1062078.30it/s]"
     ]
    },
    {
     "name": "stderr",
     "output_type": "stream",
     "text": [
      "\rDictClassTransformer_DATE fit stage 1:  27%|██▋       | 2545673/9517064 [00:05<00:06, 1114640.46it/s]"
     ]
    },
    {
     "name": "stderr",
     "output_type": "stream",
     "text": [
      "\rDictClassTransformer_DATE fit stage 1:  28%|██▊       | 2678125/9517064 [00:05<00:05, 1170271.37it/s]"
     ]
    },
    {
     "name": "stderr",
     "output_type": "stream",
     "text": [
      "\rDictClassTransformer_DATE fit stage 1:  30%|██▉       | 2809947/9517064 [00:05<00:05, 1211043.79it/s]"
     ]
    },
    {
     "name": "stderr",
     "output_type": "stream",
     "text": [
      "\rDictClassTransformer_DATE fit stage 1:  31%|███       | 2943158/9517064 [00:05<00:05, 1244984.46it/s]"
     ]
    },
    {
     "name": "stderr",
     "output_type": "stream",
     "text": [
      "\rDictClassTransformer_DATE fit stage 1:  32%|███▏      | 3077029/9517064 [00:05<00:05, 1271691.45it/s]"
     ]
    },
    {
     "name": "stderr",
     "output_type": "stream",
     "text": [
      "\rDictClassTransformer_DATE fit stage 1:  34%|███▎      | 3210046/9517064 [00:05<00:04, 1288649.87it/s]"
     ]
    },
    {
     "name": "stderr",
     "output_type": "stream",
     "text": [
      "\rDictClassTransformer_DATE fit stage 1:  35%|███▌      | 3345299/9517064 [00:06<00:04, 1307170.67it/s]"
     ]
    },
    {
     "name": "stderr",
     "output_type": "stream",
     "text": [
      "\rDictClassTransformer_DATE fit stage 1:  37%|███▋      | 3486716/9517064 [00:06<00:04, 1337523.08it/s]"
     ]
    },
    {
     "name": "stderr",
     "output_type": "stream",
     "text": [
      "\rDictClassTransformer_DATE fit stage 1:  38%|███▊      | 3621602/9517064 [00:06<00:04, 1330004.54it/s]"
     ]
    },
    {
     "name": "stderr",
     "output_type": "stream",
     "text": [
      "\rDictClassTransformer_DATE fit stage 1:  40%|███▉      | 3764807/9517064 [00:06<00:04, 1359057.23it/s]"
     ]
    },
    {
     "name": "stderr",
     "output_type": "stream",
     "text": [
      "\rDictClassTransformer_DATE fit stage 1:  41%|████      | 3907051/9517064 [00:06<00:04, 1377467.49it/s]"
     ]
    },
    {
     "name": "stderr",
     "output_type": "stream",
     "text": [
      "\rDictClassTransformer_DATE fit stage 1:  43%|████▎     | 4047005/9517064 [00:06<00:03, 1384015.21it/s]"
     ]
    },
    {
     "name": "stderr",
     "output_type": "stream",
     "text": [
      "\rDictClassTransformer_DATE fit stage 1:  44%|████▍     | 4188768/9517064 [00:06<00:03, 1393926.55it/s]"
     ]
    },
    {
     "name": "stderr",
     "output_type": "stream",
     "text": [
      "\rDictClassTransformer_DATE fit stage 1:  45%|████▌     | 4328459/9517064 [00:06<00:03, 1389344.42it/s]"
     ]
    },
    {
     "name": "stderr",
     "output_type": "stream",
     "text": [
      "\rDictClassTransformer_DATE fit stage 1:  47%|████▋     | 4473553/9517064 [00:06<00:03, 1407263.37it/s]"
     ]
    },
    {
     "name": "stderr",
     "output_type": "stream",
     "text": [
      "\rDictClassTransformer_DATE fit stage 1:  48%|████▊     | 4614484/9517064 [00:06<00:03, 1393043.15it/s]"
     ]
    },
    {
     "name": "stderr",
     "output_type": "stream",
     "text": [
      "\rDictClassTransformer_DATE fit stage 1:  50%|████▉     | 4753964/9517064 [00:07<00:03, 1388998.17it/s]"
     ]
    },
    {
     "name": "stderr",
     "output_type": "stream",
     "text": [
      "\rDictClassTransformer_DATE fit stage 1:  51%|█████▏    | 4892990/9517064 [00:07<00:03, 1387953.19it/s]"
     ]
    },
    {
     "name": "stderr",
     "output_type": "stream",
     "text": [
      "\rDictClassTransformer_DATE fit stage 1:  53%|█████▎    | 5031874/9517064 [00:07<00:03, 1204099.18it/s]"
     ]
    },
    {
     "name": "stderr",
     "output_type": "stream",
     "text": [
      "\rDictClassTransformer_DATE fit stage 1:  54%|█████▍    | 5156687/9517064 [00:10<00:38, 112344.69it/s] "
     ]
    },
    {
     "name": "stderr",
     "output_type": "stream",
     "text": [
      "\rDictClassTransformer_DATE fit stage 1:  55%|█████▌    | 5280002/9517064 [00:10<00:27, 154461.49it/s]"
     ]
    },
    {
     "name": "stderr",
     "output_type": "stream",
     "text": [
      "\rDictClassTransformer_DATE fit stage 1:  57%|█████▋    | 5418615/9517064 [00:10<00:19, 210601.50it/s]"
     ]
    },
    {
     "name": "stderr",
     "output_type": "stream",
     "text": [
      "\rDictClassTransformer_DATE fit stage 1:  58%|█████▊    | 5551546/9517064 [00:11<00:14, 281730.15it/s]"
     ]
    },
    {
     "name": "stderr",
     "output_type": "stream",
     "text": [
      "\rDictClassTransformer_DATE fit stage 1:  60%|█████▉    | 5694388/9517064 [00:11<00:10, 371103.00it/s]"
     ]
    },
    {
     "name": "stderr",
     "output_type": "stream",
     "text": [
      "\rDictClassTransformer_DATE fit stage 1:  61%|██████▏   | 5834800/9517064 [00:11<00:07, 476206.90it/s]"
     ]
    },
    {
     "name": "stderr",
     "output_type": "stream",
     "text": [
      "\rDictClassTransformer_DATE fit stage 1:  63%|██████▎   | 5969674/9517064 [00:11<00:06, 590884.04it/s]"
     ]
    },
    {
     "name": "stderr",
     "output_type": "stream",
     "text": [
      "\rDictClassTransformer_DATE fit stage 1:  64%|██████▍   | 6100907/9517064 [00:11<00:04, 694044.88it/s]"
     ]
    },
    {
     "name": "stderr",
     "output_type": "stream",
     "text": [
      "\rDictClassTransformer_DATE fit stage 1:  65%|██████▌   | 6227904/9517064 [00:11<00:04, 795115.94it/s]"
     ]
    },
    {
     "name": "stderr",
     "output_type": "stream",
     "text": [
      "\rDictClassTransformer_DATE fit stage 1:  67%|██████▋   | 6361777/9517064 [00:11<00:03, 905411.48it/s]"
     ]
    },
    {
     "name": "stderr",
     "output_type": "stream",
     "text": [
      "\rDictClassTransformer_DATE fit stage 1:  68%|██████▊   | 6503947/9517064 [00:11<00:02, 1016109.99it/s]"
     ]
    },
    {
     "name": "stderr",
     "output_type": "stream",
     "text": [
      "\rDictClassTransformer_DATE fit stage 1:  70%|██████▉   | 6646023/9517064 [00:11<00:02, 1111041.12it/s]"
     ]
    },
    {
     "name": "stderr",
     "output_type": "stream",
     "text": [
      "\rDictClassTransformer_DATE fit stage 1:  71%|███████▏  | 6794107/9517064 [00:11<00:02, 1201014.89it/s]"
     ]
    },
    {
     "name": "stderr",
     "output_type": "stream",
     "text": [
      "\rDictClassTransformer_DATE fit stage 1:  73%|███████▎  | 6944894/9517064 [00:12<00:02, 1279104.70it/s]"
     ]
    },
    {
     "name": "stderr",
     "output_type": "stream",
     "text": [
      "\rDictClassTransformer_DATE fit stage 1:  75%|███████▍  | 7096046/9517064 [00:12<00:01, 1340958.58it/s]"
     ]
    },
    {
     "name": "stderr",
     "output_type": "stream",
     "text": [
      "\rDictClassTransformer_DATE fit stage 1:  76%|███████▌  | 7242309/9517064 [00:12<00:01, 1375276.77it/s]"
     ]
    },
    {
     "name": "stderr",
     "output_type": "stream",
     "text": [
      "\rDictClassTransformer_DATE fit stage 1:  78%|███████▊  | 7387757/9517064 [00:12<00:01, 1389354.03it/s]"
     ]
    },
    {
     "name": "stderr",
     "output_type": "stream",
     "text": [
      "\rDictClassTransformer_DATE fit stage 1:  79%|███████▉  | 7532271/9517064 [00:12<00:01, 1383667.61it/s]"
     ]
    },
    {
     "name": "stderr",
     "output_type": "stream",
     "text": [
      "\rDictClassTransformer_DATE fit stage 1:  81%|████████  | 7677790/9517064 [00:12<00:01, 1404374.48it/s]"
     ]
    },
    {
     "name": "stderr",
     "output_type": "stream",
     "text": [
      "\rDictClassTransformer_DATE fit stage 1:  82%|████████▏ | 7826742/9517064 [00:12<00:01, 1428874.67it/s]"
     ]
    },
    {
     "name": "stderr",
     "output_type": "stream",
     "text": [
      "\rDictClassTransformer_DATE fit stage 1:  84%|████████▍ | 7971702/9517064 [00:12<00:01, 1390636.62it/s]"
     ]
    },
    {
     "name": "stderr",
     "output_type": "stream",
     "text": [
      "\rDictClassTransformer_DATE fit stage 1:  85%|████████▌ | 8112442/9517064 [00:12<00:01, 1342771.14it/s]"
     ]
    },
    {
     "name": "stderr",
     "output_type": "stream",
     "text": [
      "\rDictClassTransformer_DATE fit stage 1:  87%|████████▋ | 8248248/9517064 [00:12<00:00, 1323826.88it/s]"
     ]
    },
    {
     "name": "stderr",
     "output_type": "stream",
     "text": [
      "\rDictClassTransformer_DATE fit stage 1:  88%|████████▊ | 8391704/9517064 [00:13<00:00, 1355206.01it/s]"
     ]
    },
    {
     "name": "stderr",
     "output_type": "stream",
     "text": [
      "\rDictClassTransformer_DATE fit stage 1:  90%|████████▉ | 8535158/9517064 [00:13<00:00, 1378068.74it/s]"
     ]
    },
    {
     "name": "stderr",
     "output_type": "stream",
     "text": [
      "\rDictClassTransformer_DATE fit stage 1:  91%|█████████ | 8683455/9517064 [00:13<00:00, 1407942.65it/s]"
     ]
    },
    {
     "name": "stderr",
     "output_type": "stream",
     "text": [
      "\rDictClassTransformer_DATE fit stage 1:  93%|█████████▎| 8830415/9517064 [00:13<00:00, 1425886.13it/s]"
     ]
    },
    {
     "name": "stderr",
     "output_type": "stream",
     "text": [
      "\rDictClassTransformer_DATE fit stage 1:  94%|█████████▍| 8973551/9517064 [00:13<00:00, 1415836.90it/s]"
     ]
    },
    {
     "name": "stderr",
     "output_type": "stream",
     "text": [
      "\rDictClassTransformer_DATE fit stage 1:  96%|█████████▌| 9115534/9517064 [00:13<00:00, 1367881.89it/s]"
     ]
    },
    {
     "name": "stderr",
     "output_type": "stream",
     "text": [
      "\rDictClassTransformer_DATE fit stage 1:  97%|█████████▋| 9252953/9517064 [00:13<00:00, 1351923.72it/s]"
     ]
    },
    {
     "name": "stderr",
     "output_type": "stream",
     "text": [
      "\rDictClassTransformer_DATE fit stage 1:  99%|█████████▊| 9396894/9517064 [00:13<00:00, 1377031.66it/s]"
     ]
    },
    {
     "name": "stderr",
     "output_type": "stream",
     "text": [
      "\rDictClassTransformer_DATE fit stage 1: 100%|██████████| 9517064/9517064 [00:14<00:00, 676574.91it/s] "
     ]
    },
    {
     "name": "stderr",
     "output_type": "stream",
     "text": [
      "\n\rDictClassTransformer_DATE fit stage 2:   0%|          | 0/34547 [00:00<?, ?it/s]"
     ]
    },
    {
     "name": "stderr",
     "output_type": "stream",
     "text": [
      "\rDictClassTransformer_DATE fit stage 2:  43%|████▎     | 14802/34547 [00:00<00:00, 148018.38it/s]"
     ]
    },
    {
     "name": "stderr",
     "output_type": "stream",
     "text": [
      "\rDictClassTransformer_DATE fit stage 2:  84%|████████▍ | 28994/34547 [00:00<00:00, 146132.32it/s]"
     ]
    },
    {
     "name": "stderr",
     "output_type": "stream",
     "text": [
      "\rDictClassTransformer_DATE fit stage 2: 100%|██████████| 34547/34547 [00:00<00:00, 146149.03it/s]"
     ]
    },
    {
     "name": "stderr",
     "output_type": "stream",
     "text": [
      "\n\rDictClassTransformer_CARDINAL fit stage 1:   0%|          | 0/9517064 [00:00<?, ?it/s]"
     ]
    },
    {
     "name": "stderr",
     "output_type": "stream",
     "text": [
      "\rDictClassTransformer_CARDINAL fit stage 1:   1%|          | 84797/9517064 [00:00<01:38, 95507.60it/s]"
     ]
    },
    {
     "name": "stderr",
     "output_type": "stream",
     "text": [
      "\rDictClassTransformer_CARDINAL fit stage 1:   2%|▏         | 185293/9517064 [00:00<01:11, 131099.75it/s]"
     ]
    },
    {
     "name": "stderr",
     "output_type": "stream",
     "text": [
      "\rDictClassTransformer_CARDINAL fit stage 1:   3%|▎         | 296900/9517064 [00:01<00:51, 178308.79it/s]"
     ]
    },
    {
     "name": "stderr",
     "output_type": "stream",
     "text": [
      "\rDictClassTransformer_CARDINAL fit stage 1:   4%|▍         | 417109/9517064 [00:01<00:37, 239501.37it/s]"
     ]
    },
    {
     "name": "stderr",
     "output_type": "stream",
     "text": [
      "\rDictClassTransformer_CARDINAL fit stage 1:   6%|▌         | 545697/9517064 [00:01<00:28, 316852.50it/s]"
     ]
    },
    {
     "name": "stderr",
     "output_type": "stream",
     "text": [
      "\rDictClassTransformer_CARDINAL fit stage 1:   7%|▋         | 673911/9517064 [00:01<00:21, 409296.66it/s]"
     ]
    },
    {
     "name": "stderr",
     "output_type": "stream",
     "text": [
      "\rDictClassTransformer_CARDINAL fit stage 1:   9%|▊         | 813725/9517064 [00:01<00:16, 519528.55it/s]"
     ]
    },
    {
     "name": "stderr",
     "output_type": "stream",
     "text": [
      "\rDictClassTransformer_CARDINAL fit stage 1:  10%|█         | 956586/9517064 [00:01<00:13, 642107.52it/s]"
     ]
    },
    {
     "name": "stderr",
     "output_type": "stream",
     "text": [
      "\rDictClassTransformer_CARDINAL fit stage 1:  12%|█▏        | 1100574/9517064 [00:01<00:10, 770106.60it/s]"
     ]
    },
    {
     "name": "stderr",
     "output_type": "stream",
     "text": [
      "\rDictClassTransformer_CARDINAL fit stage 1:  13%|█▎        | 1245947/9517064 [00:01<00:09, 896594.78it/s]"
     ]
    },
    {
     "name": "stderr",
     "output_type": "stream",
     "text": [
      "\rDictClassTransformer_CARDINAL fit stage 1:  15%|█▍        | 1387779/9517064 [00:01<00:08, 1007809.10it/s]"
     ]
    },
    {
     "name": "stderr",
     "output_type": "stream",
     "text": [
      "\rDictClassTransformer_CARDINAL fit stage 1:  16%|█▌        | 1523994/9517064 [00:02<00:07, 1050673.65it/s]"
     ]
    },
    {
     "name": "stderr",
     "output_type": "stream",
     "text": [
      "\rDictClassTransformer_CARDINAL fit stage 1:  18%|█▊        | 1671212/9517064 [00:02<00:06, 1149400.26it/s]"
     ]
    },
    {
     "name": "stderr",
     "output_type": "stream",
     "text": [
      "\rDictClassTransformer_CARDINAL fit stage 1:  19%|█▉        | 1816170/9517064 [00:02<00:06, 1225532.95it/s]"
     ]
    },
    {
     "name": "stderr",
     "output_type": "stream",
     "text": [
      "\rDictClassTransformer_CARDINAL fit stage 1:  21%|██        | 1964942/9517064 [00:02<00:05, 1293943.60it/s]"
     ]
    },
    {
     "name": "stderr",
     "output_type": "stream",
     "text": [
      "\rDictClassTransformer_CARDINAL fit stage 1:  22%|██▏       | 2109403/9517064 [00:02<00:05, 1335732.97it/s]"
     ]
    },
    {
     "name": "stderr",
     "output_type": "stream",
     "text": [
      "\rDictClassTransformer_CARDINAL fit stage 1:  24%|██▍       | 2262222/9517064 [00:02<00:05, 1388177.07it/s]"
     ]
    },
    {
     "name": "stderr",
     "output_type": "stream",
     "text": [
      "\rDictClassTransformer_CARDINAL fit stage 1:  25%|██▌       | 2410163/9517064 [00:02<00:05, 1414342.60it/s]"
     ]
    },
    {
     "name": "stderr",
     "output_type": "stream",
     "text": [
      "\rDictClassTransformer_CARDINAL fit stage 1:  27%|██▋       | 2556380/9517064 [00:02<00:04, 1426119.41it/s]"
     ]
    },
    {
     "name": "stderr",
     "output_type": "stream",
     "text": [
      "\rDictClassTransformer_CARDINAL fit stage 1:  29%|██▊       | 2712758/9517064 [00:02<00:04, 1464800.17it/s]"
     ]
    },
    {
     "name": "stderr",
     "output_type": "stream",
     "text": [
      "\rDictClassTransformer_CARDINAL fit stage 1:  30%|███       | 2867622/9517064 [00:02<00:04, 1488982.60it/s]"
     ]
    },
    {
     "name": "stderr",
     "output_type": "stream",
     "text": [
      "\rDictClassTransformer_CARDINAL fit stage 1:  32%|███▏      | 3018452/9517064 [00:03<00:14, 438454.09it/s] "
     ]
    },
    {
     "name": "stderr",
     "output_type": "stream",
     "text": [
      "\rDictClassTransformer_CARDINAL fit stage 1:  33%|███▎      | 3153847/9517064 [00:03<00:11, 550026.51it/s]"
     ]
    },
    {
     "name": "stderr",
     "output_type": "stream",
     "text": [
      "\rDictClassTransformer_CARDINAL fit stage 1:  35%|███▍      | 3298176/9517064 [00:04<00:09, 675436.24it/s]"
     ]
    },
    {
     "name": "stderr",
     "output_type": "stream",
     "text": [
      "\rDictClassTransformer_CARDINAL fit stage 1:  36%|███▌      | 3438521/9517064 [00:04<00:07, 799918.06it/s]"
     ]
    },
    {
     "name": "stderr",
     "output_type": "stream",
     "text": [
      "\rDictClassTransformer_CARDINAL fit stage 1:  38%|███▊      | 3585407/9517064 [00:04<00:06, 926500.75it/s]"
     ]
    },
    {
     "name": "stderr",
     "output_type": "stream",
     "text": [
      "\rDictClassTransformer_CARDINAL fit stage 1:  39%|███▉      | 3734610/9517064 [00:04<00:05, 1045367.37it/s]"
     ]
    },
    {
     "name": "stderr",
     "output_type": "stream",
     "text": [
      "\rDictClassTransformer_CARDINAL fit stage 1:  41%|████      | 3882020/9517064 [00:04<00:04, 1145295.89it/s]"
     ]
    },
    {
     "name": "stderr",
     "output_type": "stream",
     "text": [
      "\rDictClassTransformer_CARDINAL fit stage 1:  42%|████▏     | 4023838/9517064 [00:04<00:04, 1175292.28it/s]"
     ]
    },
    {
     "name": "stderr",
     "output_type": "stream",
     "text": [
      "\rDictClassTransformer_CARDINAL fit stage 1:  44%|████▎     | 4160664/9517064 [00:04<00:04, 1193691.70it/s]"
     ]
    },
    {
     "name": "stderr",
     "output_type": "stream",
     "text": [
      "\rDictClassTransformer_CARDINAL fit stage 1:  45%|████▌     | 4299695/9517064 [00:04<00:04, 1246575.57it/s]"
     ]
    },
    {
     "name": "stderr",
     "output_type": "stream",
     "text": [
      "\rDictClassTransformer_CARDINAL fit stage 1:  47%|████▋     | 4441748/9517064 [00:04<00:03, 1294116.52it/s]"
     ]
    },
    {
     "name": "stderr",
     "output_type": "stream",
     "text": [
      "\rDictClassTransformer_CARDINAL fit stage 1:  48%|████▊     | 4588073/9517064 [00:04<00:03, 1340601.36it/s]"
     ]
    },
    {
     "name": "stderr",
     "output_type": "stream",
     "text": [
      "\rDictClassTransformer_CARDINAL fit stage 1:  50%|████▉     | 4742714/9517064 [00:05<00:03, 1396352.16it/s]"
     ]
    },
    {
     "name": "stderr",
     "output_type": "stream",
     "text": [
      "\rDictClassTransformer_CARDINAL fit stage 1:  51%|█████▏    | 4893325/9517064 [00:05<00:03, 1427557.81it/s]"
     ]
    },
    {
     "name": "stderr",
     "output_type": "stream",
     "text": [
      "\rDictClassTransformer_CARDINAL fit stage 1:  53%|█████▎    | 5040592/9517064 [00:05<00:03, 1440794.94it/s]"
     ]
    },
    {
     "name": "stderr",
     "output_type": "stream",
     "text": [
      "\rDictClassTransformer_CARDINAL fit stage 1:  55%|█████▍    | 5188478/9517064 [00:05<00:02, 1452003.44it/s]"
     ]
    },
    {
     "name": "stderr",
     "output_type": "stream",
     "text": [
      "\rDictClassTransformer_CARDINAL fit stage 1:  56%|█████▌    | 5335380/9517064 [00:05<00:02, 1451860.62it/s]"
     ]
    },
    {
     "name": "stderr",
     "output_type": "stream",
     "text": [
      "\rDictClassTransformer_CARDINAL fit stage 1:  58%|█████▊    | 5483736/9517064 [00:05<00:02, 1461222.54it/s]"
     ]
    },
    {
     "name": "stderr",
     "output_type": "stream",
     "text": [
      "\rDictClassTransformer_CARDINAL fit stage 1:  59%|█████▉    | 5630706/9517064 [00:05<00:04, 936190.69it/s] "
     ]
    },
    {
     "name": "stderr",
     "output_type": "stream",
     "text": [
      "\rDictClassTransformer_CARDINAL fit stage 1:  61%|██████    | 5773760/9517064 [00:05<00:03, 1044466.89it/s]"
     ]
    },
    {
     "name": "stderr",
     "output_type": "stream",
     "text": [
      "\rDictClassTransformer_CARDINAL fit stage 1:  62%|██████▏   | 5917904/9517064 [00:06<00:03, 1138530.26it/s]"
     ]
    },
    {
     "name": "stderr",
     "output_type": "stream",
     "text": [
      "\rDictClassTransformer_CARDINAL fit stage 1:  64%|██████▎   | 6064293/9517064 [00:06<00:02, 1219867.03it/s]"
     ]
    },
    {
     "name": "stderr",
     "output_type": "stream",
     "text": [
      "\rDictClassTransformer_CARDINAL fit stage 1:  65%|██████▌   | 6202743/9517064 [00:06<00:02, 1264990.75it/s]"
     ]
    },
    {
     "name": "stderr",
     "output_type": "stream",
     "text": [
      "\rDictClassTransformer_CARDINAL fit stage 1:  67%|██████▋   | 6350131/9517064 [00:06<00:02, 1321163.81it/s]"
     ]
    },
    {
     "name": "stderr",
     "output_type": "stream",
     "text": [
      "\rDictClassTransformer_CARDINAL fit stage 1:  68%|██████▊   | 6499315/9517064 [00:06<00:02, 1368116.24it/s]"
     ]
    },
    {
     "name": "stderr",
     "output_type": "stream",
     "text": [
      "\rDictClassTransformer_CARDINAL fit stage 1:  70%|██████▉   | 6647118/9517064 [00:06<00:02, 1399332.25it/s]"
     ]
    },
    {
     "name": "stderr",
     "output_type": "stream",
     "text": [
      "\rDictClassTransformer_CARDINAL fit stage 1:  71%|███████▏  | 6799004/9517064 [00:06<00:01, 1433165.94it/s]"
     ]
    },
    {
     "name": "stderr",
     "output_type": "stream",
     "text": [
      "\rDictClassTransformer_CARDINAL fit stage 1:  73%|███████▎  | 6949541/9517064 [00:06<00:01, 1454084.64it/s]"
     ]
    },
    {
     "name": "stderr",
     "output_type": "stream",
     "text": [
      "\rDictClassTransformer_CARDINAL fit stage 1:  75%|███████▍  | 7103866/9517064 [00:06<00:01, 1479729.64it/s]"
     ]
    },
    {
     "name": "stderr",
     "output_type": "stream",
     "text": [
      "\rDictClassTransformer_CARDINAL fit stage 1:  76%|███████▌  | 7256405/9517064 [00:06<00:01, 1493062.23it/s]"
     ]
    },
    {
     "name": "stderr",
     "output_type": "stream",
     "text": [
      "\rDictClassTransformer_CARDINAL fit stage 1:  78%|███████▊  | 7406941/9517064 [00:07<00:01, 1487158.49it/s]"
     ]
    },
    {
     "name": "stderr",
     "output_type": "stream",
     "text": [
      "\rDictClassTransformer_CARDINAL fit stage 1:  79%|███████▉  | 7562216/9517064 [00:07<00:01, 1506242.86it/s]"
     ]
    },
    {
     "name": "stderr",
     "output_type": "stream",
     "text": [
      "\rDictClassTransformer_CARDINAL fit stage 1:  81%|████████  | 7715520/9517064 [00:07<00:01, 1514182.48it/s]"
     ]
    },
    {
     "name": "stderr",
     "output_type": "stream",
     "text": [
      "\rDictClassTransformer_CARDINAL fit stage 1:  83%|████████▎ | 7867414/9517064 [00:07<00:01, 1498308.61it/s]"
     ]
    },
    {
     "name": "stderr",
     "output_type": "stream",
     "text": [
      "\rDictClassTransformer_CARDINAL fit stage 1:  84%|████████▍ | 8017616/9517064 [00:07<00:01, 1498580.57it/s]"
     ]
    },
    {
     "name": "stderr",
     "output_type": "stream",
     "text": [
      "\rDictClassTransformer_CARDINAL fit stage 1:  86%|████████▌ | 8169060/9517064 [00:07<00:00, 1503299.57it/s]"
     ]
    },
    {
     "name": "stderr",
     "output_type": "stream",
     "text": [
      "\rDictClassTransformer_CARDINAL fit stage 1:  87%|████████▋ | 8319576/9517064 [00:07<00:00, 1499928.04it/s]"
     ]
    },
    {
     "name": "stderr",
     "output_type": "stream",
     "text": [
      "\rDictClassTransformer_CARDINAL fit stage 1:  89%|████████▉ | 8477484/9517064 [00:07<00:00, 1522822.90it/s]"
     ]
    },
    {
     "name": "stderr",
     "output_type": "stream",
     "text": [
      "\rDictClassTransformer_CARDINAL fit stage 1:  91%|█████████ | 8630440/9517064 [00:07<00:00, 1524833.88it/s]"
     ]
    },
    {
     "name": "stderr",
     "output_type": "stream",
     "text": [
      "\rDictClassTransformer_CARDINAL fit stage 1:  92%|█████████▏| 8783048/9517064 [00:07<00:00, 1518260.78it/s]"
     ]
    },
    {
     "name": "stderr",
     "output_type": "stream",
     "text": [
      "\rDictClassTransformer_CARDINAL fit stage 1:  94%|█████████▍| 8941317/9517064 [00:08<00:00, 1537027.03it/s]"
     ]
    },
    {
     "name": "stderr",
     "output_type": "stream",
     "text": [
      "\rDictClassTransformer_CARDINAL fit stage 1:  96%|█████████▌| 9095141/9517064 [00:08<00:00, 1523495.49it/s]"
     ]
    },
    {
     "name": "stderr",
     "output_type": "stream",
     "text": [
      "\rDictClassTransformer_CARDINAL fit stage 1:  97%|█████████▋| 9247603/9517064 [00:08<00:00, 1517833.70it/s]"
     ]
    },
    {
     "name": "stderr",
     "output_type": "stream",
     "text": [
      "\rDictClassTransformer_CARDINAL fit stage 1:  99%|█████████▉| 9402626/9517064 [00:08<00:00, 1527408.88it/s]"
     ]
    },
    {
     "name": "stderr",
     "output_type": "stream",
     "text": [
      "\rDictClassTransformer_CARDINAL fit stage 1: 100%|██████████| 9517064/9517064 [00:08<00:00, 1109096.61it/s]"
     ]
    },
    {
     "name": "stderr",
     "output_type": "stream",
     "text": [
      "\n\rDictClassTransformer_CARDINAL fit stage 2:   0%|          | 0/9847 [00:00<?, ?it/s]"
     ]
    },
    {
     "name": "stderr",
     "output_type": "stream",
     "text": [
      "\rDictClassTransformer_CARDINAL fit stage 2: 100%|██████████| 9847/9847 [00:00<00:00, 146748.93it/s]"
     ]
    },
    {
     "name": "stderr",
     "output_type": "stream",
     "text": [
      "\n\rDictTransformer fit stage 1:   0%|          | 0/9517064 [00:00<?, ?it/s]"
     ]
    },
    {
     "name": "stderr",
     "output_type": "stream",
     "text": [
      "\rDictTransformer fit stage 1:   0%|          | 1069/9517064 [00:00<2:10:21, 1216.71it/s]"
     ]
    },
    {
     "name": "stderr",
     "output_type": "stream",
     "text": [
      "\rDictTransformer fit stage 1:   0%|          | 3493/9517064 [00:01<1:49:38, 1446.08it/s]"
     ]
    },
    {
     "name": "stderr",
     "output_type": "stream",
     "text": [
      "\rDictTransformer fit stage 1:   0%|          | 28473/9517064 [00:01<1:16:44, 2060.72it/s]"
     ]
    },
    {
     "name": "stderr",
     "output_type": "stream",
     "text": [
      "\rDictTransformer fit stage 1:   1%|          | 55531/9517064 [00:02<53:44, 2934.31it/s]  "
     ]
    },
    {
     "name": "stderr",
     "output_type": "stream",
     "text": [
      "\rDictTransformer fit stage 1:   1%|          | 82120/9517064 [00:02<37:41, 4172.13it/s]"
     ]
    },
    {
     "name": "stderr",
     "output_type": "stream",
     "text": [
      "\rDictTransformer fit stage 1:   1%|          | 109858/9517064 [00:02<26:28, 5922.01it/s]"
     ]
    },
    {
     "name": "stderr",
     "output_type": "stream",
     "text": [
      "\rDictTransformer fit stage 1:   1%|▏         | 139209/9517064 [00:02<18:38, 8387.49it/s]"
     ]
    },
    {
     "name": "stderr",
     "output_type": "stream",
     "text": [
      "\rDictTransformer fit stage 1:   2%|▏         | 171336/9517064 [00:02<13:08, 11849.54it/s]"
     ]
    },
    {
     "name": "stderr",
     "output_type": "stream",
     "text": [
      "\rDictTransformer fit stage 1:   2%|▏         | 207327/9517064 [00:02<09:17, 16692.38it/s]"
     ]
    },
    {
     "name": "stderr",
     "output_type": "stream",
     "text": [
      "\rDictTransformer fit stage 1:   3%|▎         | 245280/9517064 [00:02<06:36, 23405.08it/s]"
     ]
    },
    {
     "name": "stderr",
     "output_type": "stream",
     "text": [
      "\rDictTransformer fit stage 1:   3%|▎         | 283760/9517064 [00:02<04:43, 32586.38it/s]"
     ]
    },
    {
     "name": "stderr",
     "output_type": "stream",
     "text": [
      "\rDictTransformer fit stage 1:   3%|▎         | 322490/9517064 [00:02<03:24, 44931.76it/s]"
     ]
    },
    {
     "name": "stderr",
     "output_type": "stream",
     "text": [
      "\rDictTransformer fit stage 1:   4%|▍         | 359045/9517064 [00:02<02:30, 60976.09it/s]"
     ]
    },
    {
     "name": "stderr",
     "output_type": "stream",
     "text": [
      "\rDictTransformer fit stage 1:   4%|▍         | 399258/9517064 [00:03<01:51, 81793.14it/s]"
     ]
    },
    {
     "name": "stderr",
     "output_type": "stream",
     "text": [
      "\rDictTransformer fit stage 1:   5%|▍         | 436309/9517064 [00:03<01:25, 106747.84it/s]"
     ]
    },
    {
     "name": "stderr",
     "output_type": "stream",
     "text": [
      "\rDictTransformer fit stage 1:   5%|▍         | 473311/9517064 [00:03<01:07, 134519.04it/s]"
     ]
    },
    {
     "name": "stderr",
     "output_type": "stream",
     "text": [
      "\rDictTransformer fit stage 1:   5%|▌         | 509910/9517064 [00:03<00:54, 166018.48it/s]"
     ]
    },
    {
     "name": "stderr",
     "output_type": "stream",
     "text": [
      "\rDictTransformer fit stage 1:   6%|▌         | 548966/9517064 [00:03<00:44, 200619.66it/s]"
     ]
    },
    {
     "name": "stderr",
     "output_type": "stream",
     "text": [
      "\rDictTransformer fit stage 1:   6%|▌         | 589462/9517064 [00:03<00:37, 236405.58it/s]"
     ]
    },
    {
     "name": "stderr",
     "output_type": "stream",
     "text": [
      "\rDictTransformer fit stage 1:   7%|▋         | 630144/9517064 [00:03<00:32, 270383.69it/s]"
     ]
    },
    {
     "name": "stderr",
     "output_type": "stream",
     "text": [
      "\rDictTransformer fit stage 1:   7%|▋         | 670177/9517064 [00:03<00:29, 299552.71it/s]"
     ]
    },
    {
     "name": "stderr",
     "output_type": "stream",
     "text": [
      "\rDictTransformer fit stage 1:   7%|▋         | 711769/9517064 [00:03<00:26, 326997.95it/s]"
     ]
    },
    {
     "name": "stderr",
     "output_type": "stream",
     "text": [
      "\rDictTransformer fit stage 1:   8%|▊         | 754525/9517064 [00:03<00:24, 351820.75it/s]"
     ]
    },
    {
     "name": "stderr",
     "output_type": "stream",
     "text": [
      "\rDictTransformer fit stage 1:   8%|▊         | 796305/9517064 [00:04<00:23, 369316.54it/s]"
     ]
    },
    {
     "name": "stderr",
     "output_type": "stream",
     "text": [
      "\rDictTransformer fit stage 1:   9%|▉         | 837934/9517064 [00:04<00:22, 382254.34it/s]"
     ]
    },
    {
     "name": "stderr",
     "output_type": "stream",
     "text": [
      "\rDictTransformer fit stage 1:   9%|▉         | 879183/9517064 [00:04<00:22, 383992.36it/s]"
     ]
    },
    {
     "name": "stderr",
     "output_type": "stream",
     "text": [
      "\rDictTransformer fit stage 1:  10%|▉         | 921709/9517064 [00:04<00:21, 395504.20it/s]"
     ]
    },
    {
     "name": "stderr",
     "output_type": "stream",
     "text": [
      "\rDictTransformer fit stage 1:  10%|█         | 962829/9517064 [00:04<00:21, 394163.75it/s]"
     ]
    },
    {
     "name": "stderr",
     "output_type": "stream",
     "text": [
      "\rDictTransformer fit stage 1:  11%|█         | 1004540/9517064 [00:04<00:21, 400776.82it/s]"
     ]
    },
    {
     "name": "stderr",
     "output_type": "stream",
     "text": [
      "\rDictTransformer fit stage 1:  11%|█         | 1045415/9517064 [00:04<00:21, 400010.32it/s]"
     ]
    },
    {
     "name": "stderr",
     "output_type": "stream",
     "text": [
      "\rDictTransformer fit stage 1:  11%|█▏        | 1085974/9517064 [00:04<00:21, 392120.89it/s]"
     ]
    },
    {
     "name": "stderr",
     "output_type": "stream",
     "text": [
      "\rDictTransformer fit stage 1:  12%|█▏        | 1126828/9517064 [00:04<00:21, 396905.64it/s]"
     ]
    },
    {
     "name": "stderr",
     "output_type": "stream",
     "text": [
      "\rDictTransformer fit stage 1:  12%|█▏        | 1168582/9517064 [00:04<00:20, 402875.08it/s]"
     ]
    },
    {
     "name": "stderr",
     "output_type": "stream",
     "text": [
      "\rDictTransformer fit stage 1:  13%|█▎        | 1209110/9517064 [00:05<00:21, 383936.11it/s]"
     ]
    },
    {
     "name": "stderr",
     "output_type": "stream",
     "text": [
      "\rDictTransformer fit stage 1:  13%|█▎        | 1252652/9517064 [00:05<00:20, 398054.70it/s]"
     ]
    },
    {
     "name": "stderr",
     "output_type": "stream",
     "text": [
      "\rDictTransformer fit stage 1:  14%|█▎        | 1295929/9517064 [00:05<00:20, 407869.91it/s]"
     ]
    },
    {
     "name": "stderr",
     "output_type": "stream",
     "text": [
      "\rDictTransformer fit stage 1:  14%|█▍        | 1339487/9517064 [00:05<00:19, 415800.83it/s]"
     ]
    },
    {
     "name": "stderr",
     "output_type": "stream",
     "text": [
      "\rDictTransformer fit stage 1:  15%|█▍        | 1383182/9517064 [00:05<00:19, 421926.11it/s]"
     ]
    },
    {
     "name": "stderr",
     "output_type": "stream",
     "text": [
      "\rDictTransformer fit stage 1:  15%|█▍        | 1427451/9517064 [00:05<00:18, 427947.66it/s]"
     ]
    },
    {
     "name": "stderr",
     "output_type": "stream",
     "text": [
      "\rDictTransformer fit stage 1:  15%|█▌        | 1470413/9517064 [00:05<00:19, 413507.37it/s]"
     ]
    },
    {
     "name": "stderr",
     "output_type": "stream",
     "text": [
      "\rDictTransformer fit stage 1:  16%|█▌        | 1512776/9517064 [00:05<00:19, 416491.65it/s]"
     ]
    },
    {
     "name": "stderr",
     "output_type": "stream",
     "text": [
      "\rDictTransformer fit stage 1:  16%|█▋        | 1554586/9517064 [00:05<00:19, 415252.29it/s]"
     ]
    },
    {
     "name": "stderr",
     "output_type": "stream",
     "text": [
      "\rDictTransformer fit stage 1:  17%|█▋        | 1596225/9517064 [00:05<00:19, 404337.40it/s]"
     ]
    },
    {
     "name": "stderr",
     "output_type": "stream",
     "text": [
      "\rDictTransformer fit stage 1:  17%|█▋        | 1636802/9517064 [00:06<00:19, 400090.70it/s]"
     ]
    },
    {
     "name": "stderr",
     "output_type": "stream",
     "text": [
      "\rDictTransformer fit stage 1:  18%|█▊        | 1676921/9517064 [00:06<00:19, 400041.57it/s]"
     ]
    },
    {
     "name": "stderr",
     "output_type": "stream",
     "text": [
      "\rDictTransformer fit stage 1:  18%|█▊        | 1717333/9517064 [00:06<00:19, 401255.40it/s]"
     ]
    },
    {
     "name": "stderr",
     "output_type": "stream",
     "text": [
      "\rDictTransformer fit stage 1:  19%|█▊        | 1762739/9517064 [00:06<00:18, 415758.24it/s]"
     ]
    },
    {
     "name": "stderr",
     "output_type": "stream",
     "text": [
      "\rDictTransformer fit stage 1:  19%|█▉        | 1807277/9517064 [00:06<00:18, 424222.45it/s]"
     ]
    },
    {
     "name": "stderr",
     "output_type": "stream",
     "text": [
      "\rDictTransformer fit stage 1:  19%|█▉        | 1852238/9517064 [00:06<00:17, 431531.12it/s]"
     ]
    },
    {
     "name": "stderr",
     "output_type": "stream",
     "text": [
      "\rDictTransformer fit stage 1:  20%|█▉        | 1897564/9517064 [00:06<00:17, 437825.55it/s]"
     ]
    },
    {
     "name": "stderr",
     "output_type": "stream",
     "text": [
      "\rDictTransformer fit stage 1:  20%|██        | 1941470/9517064 [00:06<00:17, 437864.58it/s]"
     ]
    },
    {
     "name": "stderr",
     "output_type": "stream",
     "text": [
      "\rDictTransformer fit stage 1:  21%|██        | 1985343/9517064 [00:06<00:17, 421386.62it/s]"
     ]
    },
    {
     "name": "stderr",
     "output_type": "stream",
     "text": [
      "\rDictTransformer fit stage 1:  21%|██▏       | 2027676/9517064 [00:07<00:18, 409223.89it/s]"
     ]
    },
    {
     "name": "stderr",
     "output_type": "stream",
     "text": [
      "\rDictTransformer fit stage 1:  22%|██▏       | 2069109/9517064 [00:07<00:18, 410742.28it/s]"
     ]
    },
    {
     "name": "stderr",
     "output_type": "stream",
     "text": [
      "\rDictTransformer fit stage 1:  22%|██▏       | 2110334/9517064 [00:07<00:18, 410516.73it/s]"
     ]
    },
    {
     "name": "stderr",
     "output_type": "stream",
     "text": [
      "\rDictTransformer fit stage 1:  23%|██▎       | 2155701/9517064 [00:07<00:17, 422572.97it/s]"
     ]
    },
    {
     "name": "stderr",
     "output_type": "stream",
     "text": [
      "\rDictTransformer fit stage 1:  23%|██▎       | 2200471/9517064 [00:07<00:17, 429808.50it/s]"
     ]
    },
    {
     "name": "stderr",
     "output_type": "stream",
     "text": [
      "\rDictTransformer fit stage 1:  24%|██▎       | 2243596/9517064 [00:07<00:18, 403923.88it/s]"
     ]
    },
    {
     "name": "stderr",
     "output_type": "stream",
     "text": [
      "\rDictTransformer fit stage 1:  24%|██▍       | 2285761/9517064 [00:07<00:17, 409083.05it/s]"
     ]
    },
    {
     "name": "stderr",
     "output_type": "stream",
     "text": [
      "\rDictTransformer fit stage 1:  24%|██▍       | 2326979/9517064 [00:07<00:17, 401098.49it/s]"
     ]
    },
    {
     "name": "stderr",
     "output_type": "stream",
     "text": [
      "\rDictTransformer fit stage 1:  25%|██▍       | 2367878/9517064 [00:07<00:17, 403433.61it/s]"
     ]
    },
    {
     "name": "stderr",
     "output_type": "stream",
     "text": [
      "\rDictTransformer fit stage 1:  25%|██▌       | 2408401/9517064 [00:07<00:17, 401889.11it/s]"
     ]
    },
    {
     "name": "stderr",
     "output_type": "stream",
     "text": [
      "\rDictTransformer fit stage 1:  26%|██▌       | 2454265/9517064 [00:08<00:16, 417380.80it/s]"
     ]
    },
    {
     "name": "stderr",
     "output_type": "stream",
     "text": [
      "\rDictTransformer fit stage 1:  26%|██▋       | 2500627/9517064 [00:08<00:16, 430253.21it/s]"
     ]
    },
    {
     "name": "stderr",
     "output_type": "stream",
     "text": [
      "\rDictTransformer fit stage 1:  27%|██▋       | 2546785/9517064 [00:08<00:15, 439190.22it/s]"
     ]
    },
    {
     "name": "stderr",
     "output_type": "stream",
     "text": [
      "\rDictTransformer fit stage 1:  27%|██▋       | 2592657/9517064 [00:08<00:15, 444869.63it/s]"
     ]
    },
    {
     "name": "stderr",
     "output_type": "stream",
     "text": [
      "\rDictTransformer fit stage 1:  28%|██▊       | 2641307/9517064 [00:08<00:15, 456579.41it/s]"
     ]
    },
    {
     "name": "stderr",
     "output_type": "stream",
     "text": [
      "\rDictTransformer fit stage 1:  28%|██▊       | 2687169/9517064 [00:08<00:15, 452100.41it/s]"
     ]
    },
    {
     "name": "stderr",
     "output_type": "stream",
     "text": [
      "\rDictTransformer fit stage 1:  29%|██▊       | 2732532/9517064 [00:08<00:15, 449711.64it/s]"
     ]
    },
    {
     "name": "stderr",
     "output_type": "stream",
     "text": [
      "\rDictTransformer fit stage 1:  29%|██▉       | 2777613/9517064 [00:08<00:16, 419815.04it/s]"
     ]
    },
    {
     "name": "stderr",
     "output_type": "stream",
     "text": [
      "\rDictTransformer fit stage 1:  30%|██▉       | 2822870/9517064 [00:08<00:15, 429131.30it/s]"
     ]
    },
    {
     "name": "stderr",
     "output_type": "stream",
     "text": [
      "\rDictTransformer fit stage 1:  30%|███       | 2868095/9517064 [00:08<00:15, 435813.78it/s]"
     ]
    },
    {
     "name": "stderr",
     "output_type": "stream",
     "text": [
      "\rDictTransformer fit stage 1:  31%|███       | 2912371/9517064 [00:09<00:15, 437873.23it/s]"
     ]
    },
    {
     "name": "stderr",
     "output_type": "stream",
     "text": [
      "\rDictTransformer fit stage 1:  31%|███       | 2958468/9517064 [00:09<00:14, 444552.89it/s]"
     ]
    },
    {
     "name": "stderr",
     "output_type": "stream",
     "text": [
      "\rDictTransformer fit stage 1:  32%|███▏      | 3006070/9517064 [00:09<00:14, 453545.94it/s]"
     ]
    },
    {
     "name": "stderr",
     "output_type": "stream",
     "text": [
      "\rDictTransformer fit stage 1:  32%|███▏      | 3053086/9517064 [00:09<00:14, 458404.08it/s]"
     ]
    },
    {
     "name": "stderr",
     "output_type": "stream",
     "text": [
      "\rDictTransformer fit stage 1:  33%|███▎      | 3101287/9517064 [00:09<00:13, 465238.30it/s]"
     ]
    },
    {
     "name": "stderr",
     "output_type": "stream",
     "text": [
      "\rDictTransformer fit stage 1:  33%|███▎      | 3147925/9517064 [00:09<00:13, 464463.39it/s]"
     ]
    },
    {
     "name": "stderr",
     "output_type": "stream",
     "text": [
      "\rDictTransformer fit stage 1:  34%|███▎      | 3194452/9517064 [00:09<00:13, 462891.08it/s]"
     ]
    },
    {
     "name": "stderr",
     "output_type": "stream",
     "text": [
      "\rDictTransformer fit stage 1:  34%|███▍      | 3242281/9517064 [00:09<00:13, 467404.13it/s]"
     ]
    },
    {
     "name": "stderr",
     "output_type": "stream",
     "text": [
      "\rDictTransformer fit stage 1:  35%|███▍      | 3289581/9517064 [00:09<00:13, 469066.07it/s]"
     ]
    },
    {
     "name": "stderr",
     "output_type": "stream",
     "text": [
      "\rDictTransformer fit stage 1:  35%|███▌      | 3337825/9517064 [00:09<00:13, 472999.54it/s]"
     ]
    },
    {
     "name": "stderr",
     "output_type": "stream",
     "text": [
      "\rDictTransformer fit stage 1:  36%|███▌      | 3385159/9517064 [00:11<01:21, 75601.98it/s] "
     ]
    },
    {
     "name": "stderr",
     "output_type": "stream",
     "text": [
      "\rDictTransformer fit stage 1:  36%|███▌      | 3430576/9517064 [00:11<01:00, 100810.57it/s]"
     ]
    },
    {
     "name": "stderr",
     "output_type": "stream",
     "text": [
      "\rDictTransformer fit stage 1:  37%|███▋      | 3476259/9517064 [00:12<00:45, 131571.41it/s]"
     ]
    },
    {
     "name": "stderr",
     "output_type": "stream",
     "text": [
      "\rDictTransformer fit stage 1:  37%|███▋      | 3523066/9517064 [00:12<00:35, 167750.12it/s]"
     ]
    },
    {
     "name": "stderr",
     "output_type": "stream",
     "text": [
      "\rDictTransformer fit stage 1:  38%|███▊      | 3572539/9517064 [00:12<00:28, 209236.98it/s]"
     ]
    },
    {
     "name": "stderr",
     "output_type": "stream",
     "text": [
      "\rDictTransformer fit stage 1:  38%|███▊      | 3620392/9517064 [00:12<00:23, 251735.70it/s]"
     ]
    },
    {
     "name": "stderr",
     "output_type": "stream",
     "text": [
      "\rDictTransformer fit stage 1:  39%|███▊      | 3670336/9517064 [00:12<00:19, 295738.31it/s]"
     ]
    },
    {
     "name": "stderr",
     "output_type": "stream",
     "text": [
      "\rDictTransformer fit stage 1:  39%|███▉      | 3720801/9517064 [00:12<00:17, 337670.70it/s]"
     ]
    },
    {
     "name": "stderr",
     "output_type": "stream",
     "text": [
      "\rDictTransformer fit stage 1:  40%|███▉      | 3769721/9517064 [00:12<00:15, 372259.80it/s]"
     ]
    },
    {
     "name": "stderr",
     "output_type": "stream",
     "text": [
      "\rDictTransformer fit stage 1:  40%|████      | 3817961/9517064 [00:12<00:14, 399630.90it/s]"
     ]
    },
    {
     "name": "stderr",
     "output_type": "stream",
     "text": [
      "\rDictTransformer fit stage 1:  41%|████      | 3866770/9517064 [00:12<00:13, 422608.20it/s]"
     ]
    },
    {
     "name": "stderr",
     "output_type": "stream",
     "text": [
      "\rDictTransformer fit stage 1:  41%|████      | 3915137/9517064 [00:12<00:12, 433160.63it/s]"
     ]
    },
    {
     "name": "stderr",
     "output_type": "stream",
     "text": [
      "\rDictTransformer fit stage 1:  42%|████▏     | 3962793/9517064 [00:13<00:12, 438583.29it/s]"
     ]
    },
    {
     "name": "stderr",
     "output_type": "stream",
     "text": [
      "\rDictTransformer fit stage 1:  42%|████▏     | 4010940/9517064 [00:13<00:12, 450624.87it/s]"
     ]
    },
    {
     "name": "stderr",
     "output_type": "stream",
     "text": [
      "\rDictTransformer fit stage 1:  43%|████▎     | 4058893/9517064 [00:13<00:11, 458921.39it/s]"
     ]
    },
    {
     "name": "stderr",
     "output_type": "stream",
     "text": [
      "\rDictTransformer fit stage 1:  43%|████▎     | 4106377/9517064 [00:13<00:11, 459406.07it/s]"
     ]
    },
    {
     "name": "stderr",
     "output_type": "stream",
     "text": [
      "\rDictTransformer fit stage 1:  44%|████▎     | 4154959/9517064 [00:13<00:11, 467022.19it/s]"
     ]
    },
    {
     "name": "stderr",
     "output_type": "stream",
     "text": [
      "\rDictTransformer fit stage 1:  44%|████▍     | 4204486/9517064 [00:13<00:11, 475150.81it/s]"
     ]
    },
    {
     "name": "stderr",
     "output_type": "stream",
     "text": [
      "\rDictTransformer fit stage 1:  45%|████▍     | 4252603/9517064 [00:13<00:11, 474758.38it/s]"
     ]
    },
    {
     "name": "stderr",
     "output_type": "stream",
     "text": [
      "\rDictTransformer fit stage 1:  45%|████▌     | 4302407/9517064 [00:13<00:10, 481508.20it/s]"
     ]
    },
    {
     "name": "stderr",
     "output_type": "stream",
     "text": [
      "\rDictTransformer fit stage 1:  46%|████▌     | 4351709/9517064 [00:13<00:10, 484902.31it/s]"
     ]
    },
    {
     "name": "stderr",
     "output_type": "stream",
     "text": [
      "\rDictTransformer fit stage 1:  46%|████▌     | 4401617/9517064 [00:13<00:10, 489069.07it/s]"
     ]
    },
    {
     "name": "stderr",
     "output_type": "stream",
     "text": [
      "\rDictTransformer fit stage 1:  47%|████▋     | 4450693/9517064 [00:14<00:10, 485826.58it/s]"
     ]
    },
    {
     "name": "stderr",
     "output_type": "stream",
     "text": [
      "\rDictTransformer fit stage 1:  47%|████▋     | 4499399/9517064 [00:14<00:10, 484126.96it/s]"
     ]
    },
    {
     "name": "stderr",
     "output_type": "stream",
     "text": [
      "\rDictTransformer fit stage 1:  48%|████▊     | 4548047/9517064 [00:14<00:10, 484827.51it/s]"
     ]
    },
    {
     "name": "stderr",
     "output_type": "stream",
     "text": [
      "\rDictTransformer fit stage 1:  48%|████▊     | 4596614/9517064 [00:14<00:10, 485078.36it/s]"
     ]
    },
    {
     "name": "stderr",
     "output_type": "stream",
     "text": [
      "\rDictTransformer fit stage 1:  49%|████▉     | 4645165/9517064 [00:14<00:10, 483227.29it/s]"
     ]
    },
    {
     "name": "stderr",
     "output_type": "stream",
     "text": [
      "\rDictTransformer fit stage 1:  49%|████▉     | 4693891/9517064 [00:14<00:09, 484428.49it/s]"
     ]
    },
    {
     "name": "stderr",
     "output_type": "stream",
     "text": [
      "\rDictTransformer fit stage 1:  50%|████▉     | 4743362/9517064 [00:14<00:09, 487464.84it/s]"
     ]
    },
    {
     "name": "stderr",
     "output_type": "stream",
     "text": [
      "\rDictTransformer fit stage 1:  50%|█████     | 4792130/9517064 [00:14<00:09, 485144.60it/s]"
     ]
    },
    {
     "name": "stderr",
     "output_type": "stream",
     "text": [
      "\rDictTransformer fit stage 1:  51%|█████     | 4841212/9517064 [00:14<00:09, 486831.80it/s]"
     ]
    },
    {
     "name": "stderr",
     "output_type": "stream",
     "text": [
      "\rDictTransformer fit stage 1:  51%|█████▏    | 4890647/9517064 [00:14<00:09, 489059.13it/s]"
     ]
    },
    {
     "name": "stderr",
     "output_type": "stream",
     "text": [
      "\rDictTransformer fit stage 1:  52%|█████▏    | 4939565/9517064 [00:15<00:09, 488904.62it/s]"
     ]
    },
    {
     "name": "stderr",
     "output_type": "stream",
     "text": [
      "\rDictTransformer fit stage 1:  52%|█████▏    | 4988464/9517064 [00:15<00:09, 487272.64it/s]"
     ]
    },
    {
     "name": "stderr",
     "output_type": "stream",
     "text": [
      "\rDictTransformer fit stage 1:  53%|█████▎    | 5038617/9517064 [00:15<00:09, 491461.39it/s]"
     ]
    },
    {
     "name": "stderr",
     "output_type": "stream",
     "text": [
      "\rDictTransformer fit stage 1:  53%|█████▎    | 5087777/9517064 [00:15<00:09, 487561.47it/s]"
     ]
    },
    {
     "name": "stderr",
     "output_type": "stream",
     "text": [
      "\rDictTransformer fit stage 1:  54%|█████▍    | 5136936/9517064 [00:15<00:08, 488760.09it/s]"
     ]
    },
    {
     "name": "stderr",
     "output_type": "stream",
     "text": [
      "\rDictTransformer fit stage 1:  54%|█████▍    | 5185825/9517064 [00:15<00:08, 485087.40it/s]"
     ]
    },
    {
     "name": "stderr",
     "output_type": "stream",
     "text": [
      "\rDictTransformer fit stage 1:  55%|█████▍    | 5234349/9517064 [00:15<00:09, 459283.35it/s]"
     ]
    },
    {
     "name": "stderr",
     "output_type": "stream",
     "text": [
      "\rDictTransformer fit stage 1:  55%|█████▌    | 5280573/9517064 [00:15<00:09, 449877.05it/s]"
     ]
    },
    {
     "name": "stderr",
     "output_type": "stream",
     "text": [
      "\rDictTransformer fit stage 1:  56%|█████▌    | 5325811/9517064 [00:15<00:09, 450444.47it/s]"
     ]
    },
    {
     "name": "stderr",
     "output_type": "stream",
     "text": [
      "\rDictTransformer fit stage 1:  56%|█████▋    | 5372732/9517064 [00:15<00:09, 455912.20it/s]"
     ]
    },
    {
     "name": "stderr",
     "output_type": "stream",
     "text": [
      "\rDictTransformer fit stage 1:  57%|█████▋    | 5421831/9517064 [00:16<00:08, 465897.55it/s]"
     ]
    },
    {
     "name": "stderr",
     "output_type": "stream",
     "text": [
      "\rDictTransformer fit stage 1:  57%|█████▋    | 5468572/9517064 [00:16<00:08, 460051.79it/s]"
     ]
    },
    {
     "name": "stderr",
     "output_type": "stream",
     "text": [
      "\rDictTransformer fit stage 1:  58%|█████▊    | 5517148/9517064 [00:16<00:08, 467433.51it/s]"
     ]
    },
    {
     "name": "stderr",
     "output_type": "stream",
     "text": [
      "\rDictTransformer fit stage 1:  58%|█████▊    | 5564388/9517064 [00:16<00:08, 468912.26it/s]"
     ]
    },
    {
     "name": "stderr",
     "output_type": "stream",
     "text": [
      "\rDictTransformer fit stage 1:  59%|█████▉    | 5611665/9517064 [00:16<00:08, 470061.42it/s]"
     ]
    },
    {
     "name": "stderr",
     "output_type": "stream",
     "text": [
      "\rDictTransformer fit stage 1:  59%|█████▉    | 5658729/9517064 [00:16<00:08, 469215.27it/s]"
     ]
    },
    {
     "name": "stderr",
     "output_type": "stream",
     "text": [
      "\rDictTransformer fit stage 1:  60%|█████▉    | 5705692/9517064 [00:16<00:08, 464622.99it/s]"
     ]
    },
    {
     "name": "stderr",
     "output_type": "stream",
     "text": [
      "\rDictTransformer fit stage 1:  60%|██████    | 5752193/9517064 [00:16<00:08, 463001.23it/s]"
     ]
    },
    {
     "name": "stderr",
     "output_type": "stream",
     "text": [
      "\rDictTransformer fit stage 1:  61%|██████    | 5800656/9517064 [00:16<00:07, 469284.21it/s]"
     ]
    },
    {
     "name": "stderr",
     "output_type": "stream",
     "text": [
      "\rDictTransformer fit stage 1:  61%|██████▏   | 5849333/9517064 [00:16<00:07, 474395.08it/s]"
     ]
    },
    {
     "name": "stderr",
     "output_type": "stream",
     "text": [
      "\rDictTransformer fit stage 1:  62%|██████▏   | 5896815/9517064 [00:17<00:07, 472988.00it/s]"
     ]
    },
    {
     "name": "stderr",
     "output_type": "stream",
     "text": [
      "\rDictTransformer fit stage 1:  62%|██████▏   | 5944358/9517064 [00:17<00:07, 473714.04it/s]"
     ]
    },
    {
     "name": "stderr",
     "output_type": "stream",
     "text": [
      "\rDictTransformer fit stage 1:  63%|██████▎   | 5993028/9517064 [00:17<00:07, 477534.94it/s]"
     ]
    },
    {
     "name": "stderr",
     "output_type": "stream",
     "text": [
      "\rDictTransformer fit stage 1:  63%|██████▎   | 6042211/9517064 [00:17<00:07, 481733.89it/s]"
     ]
    },
    {
     "name": "stderr",
     "output_type": "stream",
     "text": [
      "\rDictTransformer fit stage 1:  64%|██████▍   | 6090439/9517064 [00:17<00:07, 481896.01it/s]"
     ]
    },
    {
     "name": "stderr",
     "output_type": "stream",
     "text": [
      "\rDictTransformer fit stage 1:  65%|██████▍   | 6138646/9517064 [00:17<00:07, 477444.80it/s]"
     ]
    },
    {
     "name": "stderr",
     "output_type": "stream",
     "text": [
      "\rDictTransformer fit stage 1:  65%|██████▌   | 6186926/9517064 [00:17<00:06, 479035.92it/s]"
     ]
    },
    {
     "name": "stderr",
     "output_type": "stream",
     "text": [
      "\rDictTransformer fit stage 1:  66%|██████▌   | 6234846/9517064 [00:17<00:06, 472600.36it/s]"
     ]
    },
    {
     "name": "stderr",
     "output_type": "stream",
     "text": [
      "\rDictTransformer fit stage 1:  66%|██████▌   | 6282137/9517064 [00:17<00:07, 444258.72it/s]"
     ]
    },
    {
     "name": "stderr",
     "output_type": "stream",
     "text": [
      "\rDictTransformer fit stage 1:  66%|██████▋   | 6326933/9517064 [00:18<00:07, 420637.05it/s]"
     ]
    },
    {
     "name": "stderr",
     "output_type": "stream",
     "text": [
      "\rDictTransformer fit stage 1:  67%|██████▋   | 6369517/9517064 [00:18<00:07, 418353.28it/s]"
     ]
    },
    {
     "name": "stderr",
     "output_type": "stream",
     "text": [
      "\rDictTransformer fit stage 1:  67%|██████▋   | 6411719/9517064 [00:18<00:07, 413960.11it/s]"
     ]
    },
    {
     "name": "stderr",
     "output_type": "stream",
     "text": [
      "\rDictTransformer fit stage 1:  68%|██████▊   | 6453383/9517064 [00:18<00:07, 408875.06it/s]"
     ]
    },
    {
     "name": "stderr",
     "output_type": "stream",
     "text": [
      "\rDictTransformer fit stage 1:  68%|██████▊   | 6495070/9517064 [00:18<00:07, 411238.95it/s]"
     ]
    },
    {
     "name": "stderr",
     "output_type": "stream",
     "text": [
      "\rDictTransformer fit stage 1:  69%|██████▊   | 6536973/9517064 [00:18<00:07, 413543.17it/s]"
     ]
    },
    {
     "name": "stderr",
     "output_type": "stream",
     "text": [
      "\rDictTransformer fit stage 1:  69%|██████▉   | 6578432/9517064 [00:18<00:07, 408146.26it/s]"
     ]
    },
    {
     "name": "stderr",
     "output_type": "stream",
     "text": [
      "\rDictTransformer fit stage 1:  70%|██████▉   | 6620477/9517064 [00:18<00:07, 411759.77it/s]"
     ]
    },
    {
     "name": "stderr",
     "output_type": "stream",
     "text": [
      "\rDictTransformer fit stage 1:  70%|███████   | 6664238/9517064 [00:18<00:06, 419182.76it/s]"
     ]
    },
    {
     "name": "stderr",
     "output_type": "stream",
     "text": [
      "\rDictTransformer fit stage 1:  70%|███████   | 6706238/9517064 [00:18<00:06, 414113.49it/s]"
     ]
    },
    {
     "name": "stderr",
     "output_type": "stream",
     "text": [
      "\rDictTransformer fit stage 1:  71%|███████   | 6747966/9517064 [00:19<00:06, 415057.03it/s]"
     ]
    },
    {
     "name": "stderr",
     "output_type": "stream",
     "text": [
      "\rDictTransformer fit stage 1:  71%|███████▏  | 6789522/9517064 [00:19<00:06, 412863.71it/s]"
     ]
    },
    {
     "name": "stderr",
     "output_type": "stream",
     "text": [
      "\rDictTransformer fit stage 1:  72%|███████▏  | 6836844/9517064 [00:19<00:06, 429288.68it/s]"
     ]
    },
    {
     "name": "stderr",
     "output_type": "stream",
     "text": [
      "\rDictTransformer fit stage 1:  72%|███████▏  | 6882828/9517064 [00:19<00:06, 438017.78it/s]"
     ]
    },
    {
     "name": "stderr",
     "output_type": "stream",
     "text": [
      "\rDictTransformer fit stage 1:  73%|███████▎  | 6930541/9517064 [00:19<00:05, 449058.87it/s]"
     ]
    },
    {
     "name": "stderr",
     "output_type": "stream",
     "text": [
      "\rDictTransformer fit stage 1:  73%|███████▎  | 6976722/9517064 [00:19<00:05, 452806.93it/s]"
     ]
    },
    {
     "name": "stderr",
     "output_type": "stream",
     "text": [
      "\rDictTransformer fit stage 1:  74%|███████▍  | 7022147/9517064 [00:19<00:05, 442931.80it/s]"
     ]
    },
    {
     "name": "stderr",
     "output_type": "stream",
     "text": [
      "\rDictTransformer fit stage 1:  74%|███████▍  | 7066589/9517064 [00:19<00:05, 426810.37it/s]"
     ]
    },
    {
     "name": "stderr",
     "output_type": "stream",
     "text": [
      "\rDictTransformer fit stage 1:  75%|███████▍  | 7110034/9517064 [00:19<00:05, 429072.50it/s]"
     ]
    },
    {
     "name": "stderr",
     "output_type": "stream",
     "text": [
      "\rDictTransformer fit stage 1:  75%|███████▌  | 7153410/9517064 [00:19<00:05, 430464.23it/s]"
     ]
    },
    {
     "name": "stderr",
     "output_type": "stream",
     "text": [
      "\rDictTransformer fit stage 1:  76%|███████▌  | 7200119/9517064 [00:20<00:05, 440834.15it/s]"
     ]
    },
    {
     "name": "stderr",
     "output_type": "stream",
     "text": [
      "\rDictTransformer fit stage 1:  76%|███████▌  | 7248945/9517064 [00:20<00:04, 454064.40it/s]"
     ]
    },
    {
     "name": "stderr",
     "output_type": "stream",
     "text": [
      "\rDictTransformer fit stage 1:  77%|███████▋  | 7297262/9517064 [00:20<00:04, 462418.71it/s]"
     ]
    },
    {
     "name": "stderr",
     "output_type": "stream",
     "text": [
      "\rDictTransformer fit stage 1:  77%|███████▋  | 7344787/9517064 [00:20<00:04, 466191.94it/s]"
     ]
    },
    {
     "name": "stderr",
     "output_type": "stream",
     "text": [
      "\rDictTransformer fit stage 1:  78%|███████▊  | 7391538/9517064 [00:20<00:04, 466382.63it/s]"
     ]
    },
    {
     "name": "stderr",
     "output_type": "stream",
     "text": [
      "\rDictTransformer fit stage 1:  78%|███████▊  | 7439891/9517064 [00:20<00:04, 471396.25it/s]"
     ]
    },
    {
     "name": "stderr",
     "output_type": "stream",
     "text": [
      "\rDictTransformer fit stage 1:  79%|███████▊  | 7487108/9517064 [00:20<00:04, 464794.99it/s]"
     ]
    },
    {
     "name": "stderr",
     "output_type": "stream",
     "text": [
      "\rDictTransformer fit stage 1:  79%|███████▉  | 7533663/9517064 [00:20<00:04, 464307.51it/s]"
     ]
    },
    {
     "name": "stderr",
     "output_type": "stream",
     "text": [
      "\rDictTransformer fit stage 1:  80%|███████▉  | 7580398/9517064 [00:20<00:04, 465213.24it/s]"
     ]
    },
    {
     "name": "stderr",
     "output_type": "stream",
     "text": [
      "\rDictTransformer fit stage 1:  80%|████████  | 7629697/9517064 [00:20<00:03, 473210.79it/s]"
     ]
    },
    {
     "name": "stderr",
     "output_type": "stream",
     "text": [
      "\rDictTransformer fit stage 1:  81%|████████  | 7677372/9517064 [00:21<00:03, 474258.38it/s]"
     ]
    },
    {
     "name": "stderr",
     "output_type": "stream",
     "text": [
      "\rDictTransformer fit stage 1:  81%|████████  | 7727335/9517064 [00:21<00:03, 481594.92it/s]"
     ]
    },
    {
     "name": "stderr",
     "output_type": "stream",
     "text": [
      "\rDictTransformer fit stage 1:  82%|████████▏ | 7776420/9517064 [00:21<00:03, 484333.36it/s]"
     ]
    },
    {
     "name": "stderr",
     "output_type": "stream",
     "text": [
      "\rDictTransformer fit stage 1:  82%|████████▏ | 7826306/9517064 [00:21<00:03, 488600.85it/s]"
     ]
    },
    {
     "name": "stderr",
     "output_type": "stream",
     "text": [
      "\rDictTransformer fit stage 1:  83%|████████▎ | 7875817/9517064 [00:21<00:03, 490533.95it/s]"
     ]
    },
    {
     "name": "stderr",
     "output_type": "stream",
     "text": [
      "\rDictTransformer fit stage 1:  83%|████████▎ | 7924900/9517064 [00:21<00:03, 487167.36it/s]"
     ]
    },
    {
     "name": "stderr",
     "output_type": "stream",
     "text": [
      "\rDictTransformer fit stage 1:  84%|████████▍ | 7973643/9517064 [00:21<00:03, 483920.89it/s]"
     ]
    },
    {
     "name": "stderr",
     "output_type": "stream",
     "text": [
      "\rDictTransformer fit stage 1:  84%|████████▍ | 8022697/9517064 [00:21<00:03, 485885.17it/s]"
     ]
    },
    {
     "name": "stderr",
     "output_type": "stream",
     "text": [
      "\rDictTransformer fit stage 1:  85%|████████▍ | 8072117/9517064 [00:21<00:02, 488348.51it/s]"
     ]
    },
    {
     "name": "stderr",
     "output_type": "stream",
     "text": [
      "\rDictTransformer fit stage 1:  85%|████████▌ | 8120968/9517064 [00:22<00:02, 485202.59it/s]"
     ]
    },
    {
     "name": "stderr",
     "output_type": "stream",
     "text": [
      "\rDictTransformer fit stage 1:  86%|████████▌ | 8171523/9517064 [00:22<00:02, 491131.16it/s]"
     ]
    },
    {
     "name": "stderr",
     "output_type": "stream",
     "text": [
      "\rDictTransformer fit stage 1:  86%|████████▋ | 8221819/9517064 [00:22<00:02, 494619.72it/s]"
     ]
    },
    {
     "name": "stderr",
     "output_type": "stream",
     "text": [
      "\rDictTransformer fit stage 1:  87%|████████▋ | 8271307/9517064 [00:22<00:02, 488356.27it/s]"
     ]
    },
    {
     "name": "stderr",
     "output_type": "stream",
     "text": [
      "\rDictTransformer fit stage 1:  87%|████████▋ | 8320711/9517064 [00:22<00:02, 490046.36it/s]"
     ]
    },
    {
     "name": "stderr",
     "output_type": "stream",
     "text": [
      "\rDictTransformer fit stage 1:  88%|████████▊ | 8369743/9517064 [00:22<00:02, 488089.51it/s]"
     ]
    },
    {
     "name": "stderr",
     "output_type": "stream",
     "text": [
      "\rDictTransformer fit stage 1:  88%|████████▊ | 8418573/9517064 [00:22<00:02, 477921.30it/s]"
     ]
    },
    {
     "name": "stderr",
     "output_type": "stream",
     "text": [
      "\rDictTransformer fit stage 1:  89%|████████▉ | 8466427/9517064 [00:22<00:02, 387803.24it/s]"
     ]
    },
    {
     "name": "stderr",
     "output_type": "stream",
     "text": [
      "\rDictTransformer fit stage 1:  89%|████████▉ | 8513869/9517064 [00:22<00:02, 410273.73it/s]"
     ]
    },
    {
     "name": "stderr",
     "output_type": "stream",
     "text": [
      "\rDictTransformer fit stage 1:  90%|████████▉ | 8560181/9517064 [00:22<00:02, 424815.09it/s]"
     ]
    },
    {
     "name": "stderr",
     "output_type": "stream",
     "text": [
      "\rDictTransformer fit stage 1:  90%|█████████ | 8609884/9517064 [00:23<00:02, 444168.78it/s]"
     ]
    },
    {
     "name": "stderr",
     "output_type": "stream",
     "text": [
      "\rDictTransformer fit stage 1:  91%|█████████ | 8656725/9517064 [00:23<00:01, 451170.86it/s]"
     ]
    },
    {
     "name": "stderr",
     "output_type": "stream",
     "text": [
      "\rDictTransformer fit stage 1:  91%|█████████▏| 8704331/9517064 [00:23<00:01, 458358.54it/s]"
     ]
    },
    {
     "name": "stderr",
     "output_type": "stream",
     "text": [
      "\rDictTransformer fit stage 1:  92%|█████████▏| 8753453/9517064 [00:23<00:01, 467743.13it/s]"
     ]
    },
    {
     "name": "stderr",
     "output_type": "stream",
     "text": [
      "\rDictTransformer fit stage 1:  92%|█████████▏| 8802111/9517064 [00:23<00:01, 473235.10it/s]"
     ]
    },
    {
     "name": "stderr",
     "output_type": "stream",
     "text": [
      "\rDictTransformer fit stage 1:  93%|█████████▎| 8851674/9517064 [00:23<00:01, 479736.96it/s]"
     ]
    },
    {
     "name": "stderr",
     "output_type": "stream",
     "text": [
      "\rDictTransformer fit stage 1:  94%|█████████▎| 8899964/9517064 [00:23<00:01, 477786.46it/s]"
     ]
    },
    {
     "name": "stderr",
     "output_type": "stream",
     "text": [
      "\rDictTransformer fit stage 1:  94%|█████████▍| 8949154/9517064 [00:23<00:01, 481934.55it/s]"
     ]
    },
    {
     "name": "stderr",
     "output_type": "stream",
     "text": [
      "\rDictTransformer fit stage 1:  95%|█████████▍| 9000129/9517064 [00:23<00:01, 489953.93it/s]"
     ]
    },
    {
     "name": "stderr",
     "output_type": "stream",
     "text": [
      "\rDictTransformer fit stage 1:  95%|█████████▌| 9049272/9517064 [00:23<00:00, 490039.20it/s]"
     ]
    },
    {
     "name": "stderr",
     "output_type": "stream",
     "text": [
      "\rDictTransformer fit stage 1:  96%|█████████▌| 9098399/9517064 [00:24<00:00, 490406.18it/s]"
     ]
    },
    {
     "name": "stderr",
     "output_type": "stream",
     "text": [
      "\rDictTransformer fit stage 1:  96%|█████████▌| 9148598/9517064 [00:24<00:00, 493823.55it/s]"
     ]
    },
    {
     "name": "stderr",
     "output_type": "stream",
     "text": [
      "\rDictTransformer fit stage 1:  97%|█████████▋| 9198037/9517064 [00:24<00:00, 489346.32it/s]"
     ]
    },
    {
     "name": "stderr",
     "output_type": "stream",
     "text": [
      "\rDictTransformer fit stage 1:  97%|█████████▋| 9247021/9517064 [00:24<00:00, 488171.00it/s]"
     ]
    },
    {
     "name": "stderr",
     "output_type": "stream",
     "text": [
      "\rDictTransformer fit stage 1:  98%|█████████▊| 9295873/9517064 [00:24<00:00, 480953.86it/s]"
     ]
    },
    {
     "name": "stderr",
     "output_type": "stream",
     "text": [
      "\rDictTransformer fit stage 1:  98%|█████████▊| 9344028/9517064 [00:24<00:00, 481129.59it/s]"
     ]
    },
    {
     "name": "stderr",
     "output_type": "stream",
     "text": [
      "\rDictTransformer fit stage 1:  99%|█████████▊| 9392734/9517064 [00:24<00:00, 482892.26it/s]"
     ]
    },
    {
     "name": "stderr",
     "output_type": "stream",
     "text": [
      "\rDictTransformer fit stage 1:  99%|█████████▉| 9441062/9517064 [00:24<00:00, 483007.28it/s]"
     ]
    },
    {
     "name": "stderr",
     "output_type": "stream",
     "text": [
      "\rDictTransformer fit stage 1: 100%|█████████▉| 9489381/9517064 [00:24<00:00, 479781.38it/s]"
     ]
    },
    {
     "name": "stderr",
     "output_type": "stream",
     "text": [
      "\rDictTransformer fit stage 1: 100%|██████████| 9517064/9517064 [00:25<00:00, 378519.11it/s]"
     ]
    },
    {
     "name": "stderr",
     "output_type": "stream",
     "text": [
      "\n\rDictTransformer fit stage 2:   0%|          | 0/752198 [00:00<?, ?it/s]"
     ]
    },
    {
     "name": "stderr",
     "output_type": "stream",
     "text": [
      "\rDictTransformer fit stage 2:   2%|▏         | 14557/752198 [00:00<00:05, 145567.36it/s]"
     ]
    },
    {
     "name": "stderr",
     "output_type": "stream",
     "text": [
      "\rDictTransformer fit stage 2:   4%|▍         | 29226/752198 [00:00<00:04, 145900.62it/s]"
     ]
    },
    {
     "name": "stderr",
     "output_type": "stream",
     "text": [
      "\rDictTransformer fit stage 2:   6%|▌         | 42739/752198 [00:00<00:04, 142492.01it/s]"
     ]
    },
    {
     "name": "stderr",
     "output_type": "stream",
     "text": [
      "\rDictTransformer fit stage 2:   7%|▋         | 56126/752198 [00:00<00:04, 139787.08it/s]"
     ]
    },
    {
     "name": "stderr",
     "output_type": "stream",
     "text": [
      "\rDictTransformer fit stage 2:   9%|▉         | 70523/752198 [00:00<00:04, 141014.57it/s]"
     ]
    },
    {
     "name": "stderr",
     "output_type": "stream",
     "text": [
      "\rDictTransformer fit stage 2:  11%|█▏        | 85849/752198 [00:00<00:04, 144477.63it/s]"
     ]
    },
    {
     "name": "stderr",
     "output_type": "stream",
     "text": [
      "\rDictTransformer fit stage 2:  13%|█▎        | 100499/752198 [00:00<00:04, 145077.77it/s]"
     ]
    },
    {
     "name": "stderr",
     "output_type": "stream",
     "text": [
      "\rDictTransformer fit stage 2:  16%|█▌        | 116773/752198 [00:00<00:04, 149959.89it/s]"
     ]
    },
    {
     "name": "stderr",
     "output_type": "stream",
     "text": [
      "\rDictTransformer fit stage 2:  18%|█▊        | 132529/752198 [00:00<00:04, 152159.54it/s]"
     ]
    },
    {
     "name": "stderr",
     "output_type": "stream",
     "text": [
      "\rDictTransformer fit stage 2:  20%|█▉        | 147207/752198 [00:01<00:04, 149668.77it/s]"
     ]
    },
    {
     "name": "stderr",
     "output_type": "stream",
     "text": [
      "\rDictTransformer fit stage 2:  22%|██▏       | 161807/752198 [00:01<00:04, 146127.85it/s]"
     ]
    },
    {
     "name": "stderr",
     "output_type": "stream",
     "text": [
      "\rDictTransformer fit stage 2:  23%|██▎       | 176181/752198 [00:01<00:04, 143851.29it/s]"
     ]
    },
    {
     "name": "stderr",
     "output_type": "stream",
     "text": [
      "\rDictTransformer fit stage 2:  26%|██▌       | 192144/752198 [00:01<00:03, 148246.13it/s]"
     ]
    },
    {
     "name": "stderr",
     "output_type": "stream",
     "text": [
      "\rDictTransformer fit stage 2:  28%|██▊       | 208038/752198 [00:01<00:03, 151297.55it/s]"
     ]
    },
    {
     "name": "stderr",
     "output_type": "stream",
     "text": [
      "\rDictTransformer fit stage 2:  30%|██▉       | 223129/752198 [00:01<00:03, 149758.32it/s]"
     ]
    },
    {
     "name": "stderr",
     "output_type": "stream",
     "text": [
      "\rDictTransformer fit stage 2:  32%|███▏      | 238317/752198 [00:01<00:03, 150386.38it/s]"
     ]
    },
    {
     "name": "stderr",
     "output_type": "stream",
     "text": [
      "\rDictTransformer fit stage 2:  34%|███▎      | 253340/752198 [00:01<00:03, 145975.72it/s]"
     ]
    },
    {
     "name": "stderr",
     "output_type": "stream",
     "text": [
      "\rDictTransformer fit stage 2:  36%|███▌      | 267955/752198 [00:01<00:03, 143487.36it/s]"
     ]
    },
    {
     "name": "stderr",
     "output_type": "stream",
     "text": [
      "\rDictTransformer fit stage 2:  38%|███▊      | 283181/752198 [00:01<00:03, 146009.48it/s]"
     ]
    },
    {
     "name": "stderr",
     "output_type": "stream",
     "text": [
      "\rDictTransformer fit stage 2:  40%|███▉      | 298046/752198 [00:02<00:03, 146783.06it/s]"
     ]
    },
    {
     "name": "stderr",
     "output_type": "stream",
     "text": [
      "\rDictTransformer fit stage 2:  42%|████▏     | 313762/752198 [00:02<00:02, 149748.48it/s]"
     ]
    },
    {
     "name": "stderr",
     "output_type": "stream",
     "text": [
      "\rDictTransformer fit stage 2:  44%|████▍     | 329529/752198 [00:02<00:02, 152038.34it/s]"
     ]
    },
    {
     "name": "stderr",
     "output_type": "stream",
     "text": [
      "\rDictTransformer fit stage 2:  46%|████▌     | 346130/752198 [00:02<00:02, 155974.66it/s]"
     ]
    },
    {
     "name": "stderr",
     "output_type": "stream",
     "text": [
      "\rDictTransformer fit stage 2:  48%|████▊     | 361773/752198 [00:02<00:02, 147031.53it/s]"
     ]
    },
    {
     "name": "stderr",
     "output_type": "stream",
     "text": [
      "\rDictTransformer fit stage 2:  50%|█████     | 377629/752198 [00:02<00:02, 150309.66it/s]"
     ]
    },
    {
     "name": "stderr",
     "output_type": "stream",
     "text": [
      "\rDictTransformer fit stage 2:  52%|█████▏    | 392774/752198 [00:02<00:02, 147177.28it/s]"
     ]
    },
    {
     "name": "stderr",
     "output_type": "stream",
     "text": [
      "\rDictTransformer fit stage 2:  54%|█████▍    | 407586/752198 [00:02<00:02, 145860.44it/s]"
     ]
    },
    {
     "name": "stderr",
     "output_type": "stream",
     "text": [
      "\rDictTransformer fit stage 2:  56%|█████▌    | 422554/752198 [00:02<00:02, 146983.04it/s]"
     ]
    },
    {
     "name": "stderr",
     "output_type": "stream",
     "text": [
      "\rDictTransformer fit stage 2:  58%|█████▊    | 438077/752198 [00:02<00:02, 149360.59it/s]"
     ]
    },
    {
     "name": "stderr",
     "output_type": "stream",
     "text": [
      "\rDictTransformer fit stage 2:  60%|██████    | 453779/752198 [00:03<00:01, 151577.88it/s]"
     ]
    },
    {
     "name": "stderr",
     "output_type": "stream",
     "text": [
      "\rDictTransformer fit stage 2:  62%|██████▏   | 469597/752198 [00:03<00:01, 153499.00it/s]"
     ]
    },
    {
     "name": "stderr",
     "output_type": "stream",
     "text": [
      "\rDictTransformer fit stage 2:  65%|██████▍   | 485276/752198 [00:03<00:01, 154470.22it/s]"
     ]
    },
    {
     "name": "stderr",
     "output_type": "stream",
     "text": [
      "\rDictTransformer fit stage 2:  67%|██████▋   | 501633/752198 [00:03<00:01, 157091.65it/s]"
     ]
    },
    {
     "name": "stderr",
     "output_type": "stream",
     "text": [
      "\rDictTransformer fit stage 2:  69%|██████▉   | 517574/752198 [00:03<00:01, 157779.08it/s]"
     ]
    },
    {
     "name": "stderr",
     "output_type": "stream",
     "text": [
      "\rDictTransformer fit stage 2:  71%|███████   | 533654/752198 [00:03<00:01, 158672.41it/s]"
     ]
    },
    {
     "name": "stderr",
     "output_type": "stream",
     "text": [
      "\rDictTransformer fit stage 2:  73%|███████▎  | 549537/752198 [00:03<00:01, 158661.18it/s]"
     ]
    },
    {
     "name": "stderr",
     "output_type": "stream",
     "text": [
      "\rDictTransformer fit stage 2:  75%|███████▌  | 565414/752198 [00:03<00:01, 157634.53it/s]"
     ]
    },
    {
     "name": "stderr",
     "output_type": "stream",
     "text": [
      "\rDictTransformer fit stage 2:  77%|███████▋  | 581187/752198 [00:03<00:01, 156376.03it/s]"
     ]
    },
    {
     "name": "stderr",
     "output_type": "stream",
     "text": [
      "\rDictTransformer fit stage 2:  79%|███████▉  | 596834/752198 [00:03<00:01, 154315.84it/s]"
     ]
    },
    {
     "name": "stderr",
     "output_type": "stream",
     "text": [
      "\rDictTransformer fit stage 2:  81%|████████▏ | 612794/752198 [00:04<00:00, 155862.17it/s]"
     ]
    },
    {
     "name": "stderr",
     "output_type": "stream",
     "text": [
      "\rDictTransformer fit stage 2:  84%|████████▎ | 628393/752198 [00:04<00:00, 151928.30it/s]"
     ]
    },
    {
     "name": "stderr",
     "output_type": "stream",
     "text": [
      "\rDictTransformer fit stage 2:  86%|████████▌ | 643617/752198 [00:04<00:00, 146248.59it/s]"
     ]
    },
    {
     "name": "stderr",
     "output_type": "stream",
     "text": [
      "\rDictTransformer fit stage 2:  88%|████████▊ | 658309/752198 [00:04<00:00, 141062.64it/s]"
     ]
    },
    {
     "name": "stderr",
     "output_type": "stream",
     "text": [
      "\rDictTransformer fit stage 2:  89%|████████▉ | 672502/752198 [00:04<00:00, 138494.12it/s]"
     ]
    },
    {
     "name": "stderr",
     "output_type": "stream",
     "text": [
      "\rDictTransformer fit stage 2:  91%|█████████▏| 686423/752198 [00:04<00:00, 136563.68it/s]"
     ]
    },
    {
     "name": "stderr",
     "output_type": "stream",
     "text": [
      "\rDictTransformer fit stage 2:  93%|█████████▎| 700136/752198 [00:04<00:00, 122266.35it/s]"
     ]
    },
    {
     "name": "stderr",
     "output_type": "stream",
     "text": [
      "\rDictTransformer fit stage 2:  95%|█████████▌| 715686/752198 [00:04<00:00, 130640.28it/s]"
     ]
    },
    {
     "name": "stderr",
     "output_type": "stream",
     "text": [
      "\rDictTransformer fit stage 2:  97%|█████████▋| 729134/752198 [00:05<00:00, 83013.39it/s] "
     ]
    },
    {
     "name": "stderr",
     "output_type": "stream",
     "text": [
      "\rDictTransformer fit stage 2:  99%|█████████▉| 742922/752198 [00:05<00:00, 94266.86it/s]"
     ]
    },
    {
     "name": "stderr",
     "output_type": "stream",
     "text": [
      "\rDictTransformer fit stage 2: 100%|██████████| 752198/752198 [00:05<00:00, 141336.57it/s]"
     ]
    },
    {
     "name": "stderr",
     "output_type": "stream",
     "text": [
      "\n"
     ]
    },
    {
     "name": "stderr",
     "output_type": "stream",
     "text": [
      "\rMorphologyExtractor transform:   0%|          | 0/1057452 [00:00<?, ?it/s]"
     ]
    },
    {
     "name": "stderr",
     "output_type": "stream",
     "text": [
      "\rMorphologyExtractor transform:   0%|          | 1037/1057452 [00:00<01:41, 10363.91it/s]"
     ]
    },
    {
     "name": "stderr",
     "output_type": "stream",
     "text": [
      "\rMorphologyExtractor transform:   0%|          | 3350/1057452 [00:00<01:29, 11754.69it/s]"
     ]
    },
    {
     "name": "stderr",
     "output_type": "stream",
     "text": [
      "\rMorphologyExtractor transform:   1%|          | 5986/1057452 [00:00<01:14, 14094.57it/s]"
     ]
    },
    {
     "name": "stderr",
     "output_type": "stream",
     "text": [
      "\rMorphologyExtractor transform:   1%|          | 9008/1057452 [00:00<01:02, 16780.71it/s]"
     ]
    },
    {
     "name": "stderr",
     "output_type": "stream",
     "text": [
      "\rMorphologyExtractor transform:   1%|          | 12377/1057452 [00:00<00:52, 19754.86it/s]"
     ]
    },
    {
     "name": "stderr",
     "output_type": "stream",
     "text": [
      "\rMorphologyExtractor transform:   1%|▏         | 15858/1057452 [00:00<00:45, 22699.68it/s]"
     ]
    },
    {
     "name": "stderr",
     "output_type": "stream",
     "text": [
      "\rMorphologyExtractor transform:   2%|▏         | 19326/1057452 [00:00<00:40, 25322.13it/s]"
     ]
    },
    {
     "name": "stderr",
     "output_type": "stream",
     "text": [
      "\rMorphologyExtractor transform:   2%|▏         | 22863/1057452 [00:00<00:37, 27680.71it/s]"
     ]
    },
    {
     "name": "stderr",
     "output_type": "stream",
     "text": [
      "\rMorphologyExtractor transform:   3%|▎         | 26709/1057452 [00:00<00:34, 30219.25it/s]"
     ]
    },
    {
     "name": "stderr",
     "output_type": "stream",
     "text": [
      "\rMorphologyExtractor transform:   3%|▎         | 30852/1057452 [00:01<00:31, 32887.66it/s]"
     ]
    },
    {
     "name": "stderr",
     "output_type": "stream",
     "text": [
      "\rMorphologyExtractor transform:   3%|▎         | 35018/1057452 [00:01<00:29, 35085.70it/s]"
     ]
    },
    {
     "name": "stderr",
     "output_type": "stream",
     "text": [
      "\rMorphologyExtractor transform:   4%|▎         | 39342/1057452 [00:01<00:27, 37188.81it/s]"
     ]
    },
    {
     "name": "stderr",
     "output_type": "stream",
     "text": [
      "\rMorphologyExtractor transform:   4%|▍         | 43417/1057452 [00:01<00:26, 38188.89it/s]"
     ]
    },
    {
     "name": "stderr",
     "output_type": "stream",
     "text": [
      "\rMorphologyExtractor transform:   5%|▍         | 47697/1057452 [00:01<00:25, 39462.24it/s]"
     ]
    },
    {
     "name": "stderr",
     "output_type": "stream",
     "text": [
      "\rMorphologyExtractor transform:   5%|▍         | 52230/1057452 [00:01<00:24, 41052.37it/s]"
     ]
    },
    {
     "name": "stderr",
     "output_type": "stream",
     "text": [
      "\rMorphologyExtractor transform:   5%|▌         | 57164/1057452 [00:01<00:23, 43230.69it/s]"
     ]
    },
    {
     "name": "stderr",
     "output_type": "stream",
     "text": [
      "\rMorphologyExtractor transform:   6%|▌         | 61585/1057452 [00:01<00:23, 43262.85it/s]"
     ]
    },
    {
     "name": "stderr",
     "output_type": "stream",
     "text": [
      "\rMorphologyExtractor transform:   6%|▋         | 66299/1057452 [00:01<00:22, 44357.22it/s]"
     ]
    },
    {
     "name": "stderr",
     "output_type": "stream",
     "text": [
      "\rMorphologyExtractor transform:   7%|▋         | 70858/1057452 [00:01<00:22, 44719.45it/s]"
     ]
    },
    {
     "name": "stderr",
     "output_type": "stream",
     "text": [
      "\rMorphologyExtractor transform:   7%|▋         | 75369/1057452 [00:02<00:22, 44569.44it/s]"
     ]
    },
    {
     "name": "stderr",
     "output_type": "stream",
     "text": [
      "\rMorphologyExtractor transform:   8%|▊         | 80466/1057452 [00:02<00:21, 46302.22it/s]"
     ]
    },
    {
     "name": "stderr",
     "output_type": "stream",
     "text": [
      "\rMorphologyExtractor transform:   8%|▊         | 85485/1057452 [00:02<00:20, 47397.39it/s]"
     ]
    },
    {
     "name": "stderr",
     "output_type": "stream",
     "text": [
      "\rMorphologyExtractor transform:   9%|▊         | 90257/1057452 [00:02<00:20, 47128.41it/s]"
     ]
    },
    {
     "name": "stderr",
     "output_type": "stream",
     "text": [
      "\rMorphologyExtractor transform:   9%|▉         | 95079/1057452 [00:02<00:20, 47426.21it/s]"
     ]
    },
    {
     "name": "stderr",
     "output_type": "stream",
     "text": [
      "\rMorphologyExtractor transform:   9%|▉         | 99838/1057452 [00:02<00:44, 21478.17it/s]"
     ]
    },
    {
     "name": "stderr",
     "output_type": "stream",
     "text": [
      "\rMorphologyExtractor transform:  10%|▉         | 104730/1057452 [00:03<00:36, 25822.92it/s]"
     ]
    },
    {
     "name": "stderr",
     "output_type": "stream",
     "text": [
      "\rMorphologyExtractor transform:  10%|█         | 109472/1057452 [00:03<00:31, 29909.28it/s]"
     ]
    },
    {
     "name": "stderr",
     "output_type": "stream",
     "text": [
      "\rMorphologyExtractor transform:  11%|█         | 114591/1057452 [00:03<00:27, 34170.80it/s]"
     ]
    },
    {
     "name": "stderr",
     "output_type": "stream",
     "text": [
      "\rMorphologyExtractor transform:  11%|█▏        | 120037/1057452 [00:03<00:24, 38470.47it/s]"
     ]
    },
    {
     "name": "stderr",
     "output_type": "stream",
     "text": [
      "\rMorphologyExtractor transform:  12%|█▏        | 125121/1057452 [00:03<00:22, 41498.02it/s]"
     ]
    },
    {
     "name": "stderr",
     "output_type": "stream",
     "text": [
      "\rMorphologyExtractor transform:  12%|█▏        | 130247/1057452 [00:03<00:21, 44012.00it/s]"
     ]
    },
    {
     "name": "stderr",
     "output_type": "stream",
     "text": [
      "\rMorphologyExtractor transform:  13%|█▎        | 135657/1057452 [00:03<00:19, 46606.84it/s]"
     ]
    },
    {
     "name": "stderr",
     "output_type": "stream",
     "text": [
      "\rMorphologyExtractor transform:  13%|█▎        | 141695/1057452 [00:03<00:18, 49998.74it/s]"
     ]
    },
    {
     "name": "stderr",
     "output_type": "stream",
     "text": [
      "\rMorphologyExtractor transform:  14%|█▍        | 147061/1057452 [00:03<00:17, 50704.11it/s]"
     ]
    },
    {
     "name": "stderr",
     "output_type": "stream",
     "text": [
      "\rMorphologyExtractor transform:  14%|█▍        | 152400/1057452 [00:03<00:17, 51476.43it/s]"
     ]
    },
    {
     "name": "stderr",
     "output_type": "stream",
     "text": [
      "\rMorphologyExtractor transform:  15%|█▍        | 158268/1057452 [00:04<00:16, 53423.41it/s]"
     ]
    },
    {
     "name": "stderr",
     "output_type": "stream",
     "text": [
      "\rMorphologyExtractor transform:  16%|█▌        | 164179/1057452 [00:04<00:16, 55010.77it/s]"
     ]
    },
    {
     "name": "stderr",
     "output_type": "stream",
     "text": [
      "\rMorphologyExtractor transform:  16%|█▌        | 169796/1057452 [00:04<00:16, 53852.62it/s]"
     ]
    },
    {
     "name": "stderr",
     "output_type": "stream",
     "text": [
      "\rMorphologyExtractor transform:  17%|█▋        | 175423/1057452 [00:04<00:16, 54552.24it/s]"
     ]
    },
    {
     "name": "stderr",
     "output_type": "stream",
     "text": [
      "\rMorphologyExtractor transform:  17%|█▋        | 180941/1057452 [00:04<00:16, 54494.17it/s]"
     ]
    },
    {
     "name": "stderr",
     "output_type": "stream",
     "text": [
      "\rMorphologyExtractor transform:  18%|█▊        | 186463/1057452 [00:04<00:15, 54686.32it/s]"
     ]
    },
    {
     "name": "stderr",
     "output_type": "stream",
     "text": [
      "\rMorphologyExtractor transform:  18%|█▊        | 192356/1057452 [00:04<00:15, 55885.39it/s]"
     ]
    },
    {
     "name": "stderr",
     "output_type": "stream",
     "text": [
      "\rMorphologyExtractor transform:  19%|█▊        | 198187/1057452 [00:04<00:15, 56590.72it/s]"
     ]
    },
    {
     "name": "stderr",
     "output_type": "stream",
     "text": [
      "\rMorphologyExtractor transform:  19%|█▉        | 203868/1057452 [00:04<00:15, 54839.69it/s]"
     ]
    },
    {
     "name": "stderr",
     "output_type": "stream",
     "text": [
      "\rMorphologyExtractor transform:  20%|█▉        | 209527/1057452 [00:04<00:15, 55349.57it/s]"
     ]
    },
    {
     "name": "stderr",
     "output_type": "stream",
     "text": [
      "\rMorphologyExtractor transform:  20%|██        | 215082/1057452 [00:05<00:15, 55351.43it/s]"
     ]
    },
    {
     "name": "stderr",
     "output_type": "stream",
     "text": [
      "\rMorphologyExtractor transform:  21%|██        | 221376/1057452 [00:05<00:14, 57426.16it/s]"
     ]
    },
    {
     "name": "stderr",
     "output_type": "stream",
     "text": [
      "\rMorphologyExtractor transform:  22%|██▏       | 227359/1057452 [00:05<00:14, 58125.59it/s]"
     ]
    },
    {
     "name": "stderr",
     "output_type": "stream",
     "text": [
      "\rMorphologyExtractor transform:  22%|██▏       | 233436/1057452 [00:05<00:13, 58886.73it/s]"
     ]
    },
    {
     "name": "stderr",
     "output_type": "stream",
     "text": [
      "\rMorphologyExtractor transform:  23%|██▎       | 239626/1057452 [00:05<00:13, 59756.66it/s]"
     ]
    },
    {
     "name": "stderr",
     "output_type": "stream",
     "text": [
      "\rMorphologyExtractor transform:  23%|██▎       | 245903/1057452 [00:05<00:13, 60629.48it/s]"
     ]
    },
    {
     "name": "stderr",
     "output_type": "stream",
     "text": [
      "\rMorphologyExtractor transform:  24%|██▍       | 252231/1057452 [00:05<00:13, 61381.53it/s]"
     ]
    },
    {
     "name": "stderr",
     "output_type": "stream",
     "text": [
      "\rMorphologyExtractor transform:  24%|██▍       | 258657/1057452 [00:05<00:12, 62206.05it/s]"
     ]
    },
    {
     "name": "stderr",
     "output_type": "stream",
     "text": [
      "\rMorphologyExtractor transform:  25%|██▌       | 265006/1057452 [00:05<00:12, 62582.02it/s]"
     ]
    },
    {
     "name": "stderr",
     "output_type": "stream",
     "text": [
      "\rMorphologyExtractor transform:  26%|██▌       | 271273/1057452 [00:05<00:12, 62167.69it/s]"
     ]
    },
    {
     "name": "stderr",
     "output_type": "stream",
     "text": [
      "\rMorphologyExtractor transform:  26%|██▋       | 277650/1057452 [00:06<00:12, 62635.48it/s]"
     ]
    },
    {
     "name": "stderr",
     "output_type": "stream",
     "text": [
      "\rMorphologyExtractor transform:  27%|██▋       | 283919/1057452 [00:06<00:12, 62009.61it/s]"
     ]
    },
    {
     "name": "stderr",
     "output_type": "stream",
     "text": [
      "\rMorphologyExtractor transform:  27%|██▋       | 290204/1057452 [00:06<00:12, 62258.80it/s]"
     ]
    },
    {
     "name": "stderr",
     "output_type": "stream",
     "text": [
      "\rMorphologyExtractor transform:  28%|██▊       | 296434/1057452 [00:06<00:12, 61022.80it/s]"
     ]
    },
    {
     "name": "stderr",
     "output_type": "stream",
     "text": [
      "\rMorphologyExtractor transform:  29%|██▊       | 302561/1057452 [00:06<00:12, 61072.63it/s]"
     ]
    },
    {
     "name": "stderr",
     "output_type": "stream",
     "text": [
      "\rMorphologyExtractor transform:  29%|██▉       | 308675/1057452 [00:06<00:12, 60117.68it/s]"
     ]
    },
    {
     "name": "stderr",
     "output_type": "stream",
     "text": [
      "\rMorphologyExtractor transform:  30%|██▉       | 314695/1057452 [00:06<00:12, 59984.72it/s]"
     ]
    },
    {
     "name": "stderr",
     "output_type": "stream",
     "text": [
      "\rMorphologyExtractor transform:  30%|███       | 320699/1057452 [00:06<00:12, 59440.68it/s]"
     ]
    },
    {
     "name": "stderr",
     "output_type": "stream",
     "text": [
      "\rMorphologyExtractor transform:  31%|███       | 326737/1057452 [00:06<00:12, 59709.82it/s]"
     ]
    },
    {
     "name": "stderr",
     "output_type": "stream",
     "text": [
      "\rMorphologyExtractor transform:  32%|███▏      | 333231/1057452 [00:06<00:11, 61180.99it/s]"
     ]
    },
    {
     "name": "stderr",
     "output_type": "stream",
     "text": [
      "\rMorphologyExtractor transform:  32%|███▏      | 339863/1057452 [00:07<00:11, 62632.99it/s]"
     ]
    },
    {
     "name": "stderr",
     "output_type": "stream",
     "text": [
      "\rMorphologyExtractor transform:  33%|███▎      | 346162/1057452 [00:07<00:11, 62733.47it/s]"
     ]
    },
    {
     "name": "stderr",
     "output_type": "stream",
     "text": [
      "\rMorphologyExtractor transform:  33%|███▎      | 352969/1057452 [00:07<00:10, 64244.26it/s]"
     ]
    },
    {
     "name": "stderr",
     "output_type": "stream",
     "text": [
      "\rMorphologyExtractor transform:  34%|███▍      | 359504/1057452 [00:07<00:10, 64537.79it/s]"
     ]
    },
    {
     "name": "stderr",
     "output_type": "stream",
     "text": [
      "\rMorphologyExtractor transform:  35%|███▍      | 366124/1057452 [00:07<00:10, 64997.73it/s]"
     ]
    },
    {
     "name": "stderr",
     "output_type": "stream",
     "text": [
      "\rMorphologyExtractor transform:  35%|███▌      | 372634/1057452 [00:07<00:10, 64706.49it/s]"
     ]
    },
    {
     "name": "stderr",
     "output_type": "stream",
     "text": [
      "\rMorphologyExtractor transform:  36%|███▌      | 379545/1057452 [00:07<00:10, 65942.60it/s]"
     ]
    },
    {
     "name": "stderr",
     "output_type": "stream",
     "text": [
      "\rMorphologyExtractor transform:  37%|███▋      | 386150/1057452 [00:07<00:10, 65739.35it/s]"
     ]
    },
    {
     "name": "stderr",
     "output_type": "stream",
     "text": [
      "\rMorphologyExtractor transform:  37%|███▋      | 392732/1057452 [00:07<00:10, 63876.42it/s]"
     ]
    },
    {
     "name": "stderr",
     "output_type": "stream",
     "text": [
      "\rMorphologyExtractor transform:  38%|███▊      | 399416/1057452 [00:08<00:10, 64727.37it/s]"
     ]
    },
    {
     "name": "stderr",
     "output_type": "stream",
     "text": [
      "\rMorphologyExtractor transform:  38%|███▊      | 405904/1057452 [00:08<00:10, 64765.56it/s]"
     ]
    },
    {
     "name": "stderr",
     "output_type": "stream",
     "text": [
      "\rMorphologyExtractor transform:  39%|███▉      | 412590/1057452 [00:08<00:09, 65379.59it/s]"
     ]
    },
    {
     "name": "stderr",
     "output_type": "stream",
     "text": [
      "\rMorphologyExtractor transform:  40%|███▉      | 419137/1057452 [00:08<00:09, 65247.16it/s]"
     ]
    },
    {
     "name": "stderr",
     "output_type": "stream",
     "text": [
      "\rMorphologyExtractor transform:  40%|████      | 425864/1057452 [00:08<00:09, 65839.71it/s]"
     ]
    },
    {
     "name": "stderr",
     "output_type": "stream",
     "text": [
      "\rMorphologyExtractor transform:  41%|████      | 432454/1057452 [00:08<00:09, 64708.36it/s]"
     ]
    },
    {
     "name": "stderr",
     "output_type": "stream",
     "text": [
      "\rMorphologyExtractor transform:  42%|████▏     | 438934/1057452 [00:08<00:09, 64476.51it/s]"
     ]
    },
    {
     "name": "stderr",
     "output_type": "stream",
     "text": [
      "\rMorphologyExtractor transform:  42%|████▏     | 445956/1057452 [00:08<00:09, 66075.84it/s]"
     ]
    },
    {
     "name": "stderr",
     "output_type": "stream",
     "text": [
      "\rMorphologyExtractor transform:  43%|████▎     | 453008/1057452 [00:08<00:08, 67342.21it/s]"
     ]
    },
    {
     "name": "stderr",
     "output_type": "stream",
     "text": [
      "\rMorphologyExtractor transform:  44%|████▎     | 460145/1057452 [00:08<00:08, 68497.87it/s]"
     ]
    },
    {
     "name": "stderr",
     "output_type": "stream",
     "text": [
      "\rMorphologyExtractor transform:  44%|████▍     | 467488/1057452 [00:09<00:08, 69904.29it/s]"
     ]
    },
    {
     "name": "stderr",
     "output_type": "stream",
     "text": [
      "\rMorphologyExtractor transform:  45%|████▍     | 474655/1057452 [00:09<00:08, 70416.31it/s]"
     ]
    },
    {
     "name": "stderr",
     "output_type": "stream",
     "text": [
      "\rMorphologyExtractor transform:  46%|████▌     | 481711/1057452 [00:09<00:08, 66591.58it/s]"
     ]
    },
    {
     "name": "stderr",
     "output_type": "stream",
     "text": [
      "\rMorphologyExtractor transform:  46%|████▌     | 488423/1057452 [00:09<00:08, 66136.37it/s]"
     ]
    },
    {
     "name": "stderr",
     "output_type": "stream",
     "text": [
      "\rMorphologyExtractor transform:  47%|████▋     | 495726/1057452 [00:09<00:08, 68063.66it/s]"
     ]
    },
    {
     "name": "stderr",
     "output_type": "stream",
     "text": [
      "\rMorphologyExtractor transform:  48%|████▊     | 502573/1057452 [00:09<00:08, 67691.97it/s]"
     ]
    },
    {
     "name": "stderr",
     "output_type": "stream",
     "text": [
      "\rMorphologyExtractor transform:  48%|████▊     | 509371/1057452 [00:09<00:08, 67622.77it/s]"
     ]
    },
    {
     "name": "stderr",
     "output_type": "stream",
     "text": [
      "\rMorphologyExtractor transform:  49%|████▉     | 517030/1057452 [00:09<00:07, 70078.49it/s]"
     ]
    },
    {
     "name": "stderr",
     "output_type": "stream",
     "text": [
      "\rMorphologyExtractor transform:  50%|████▉     | 524075/1057452 [00:09<00:07, 70020.85it/s]"
     ]
    },
    {
     "name": "stderr",
     "output_type": "stream",
     "text": [
      "\rMorphologyExtractor transform:  50%|█████     | 531103/1057452 [00:09<00:07, 69227.32it/s]"
     ]
    },
    {
     "name": "stderr",
     "output_type": "stream",
     "text": [
      "\rMorphologyExtractor transform:  51%|█████     | 538133/1057452 [00:10<00:07, 69541.11it/s]"
     ]
    },
    {
     "name": "stderr",
     "output_type": "stream",
     "text": [
      "\rMorphologyExtractor transform:  52%|█████▏    | 545102/1057452 [00:10<00:07, 68180.72it/s]"
     ]
    },
    {
     "name": "stderr",
     "output_type": "stream",
     "text": [
      "\rMorphologyExtractor transform:  52%|█████▏    | 552144/1057452 [00:10<00:07, 68837.24it/s]"
     ]
    },
    {
     "name": "stderr",
     "output_type": "stream",
     "text": [
      "\rMorphologyExtractor transform:  53%|█████▎    | 559041/1057452 [00:10<00:07, 68458.99it/s]"
     ]
    },
    {
     "name": "stderr",
     "output_type": "stream",
     "text": [
      "\rMorphologyExtractor transform:  54%|█████▎    | 566373/1057452 [00:10<00:07, 69825.09it/s]"
     ]
    },
    {
     "name": "stderr",
     "output_type": "stream",
     "text": [
      "\rMorphologyExtractor transform:  54%|█████▍    | 573369/1057452 [00:10<00:07, 64692.20it/s]"
     ]
    },
    {
     "name": "stderr",
     "output_type": "stream",
     "text": [
      "\rMorphologyExtractor transform:  55%|█████▍    | 580831/1057452 [00:10<00:07, 67372.69it/s]"
     ]
    },
    {
     "name": "stderr",
     "output_type": "stream",
     "text": [
      "\rMorphologyExtractor transform:  56%|█████▌    | 587936/1057452 [00:10<00:06, 68418.28it/s]"
     ]
    },
    {
     "name": "stderr",
     "output_type": "stream",
     "text": [
      "\rMorphologyExtractor transform:  56%|█████▋    | 595527/1057452 [00:10<00:06, 70477.67it/s]"
     ]
    },
    {
     "name": "stderr",
     "output_type": "stream",
     "text": [
      "\rMorphologyExtractor transform:  57%|█████▋    | 603198/1057452 [00:10<00:06, 72218.41it/s]"
     ]
    },
    {
     "name": "stderr",
     "output_type": "stream",
     "text": [
      "\rMorphologyExtractor transform:  58%|█████▊    | 610474/1057452 [00:11<00:06, 72267.45it/s]"
     ]
    },
    {
     "name": "stderr",
     "output_type": "stream",
     "text": [
      "\rMorphologyExtractor transform:  58%|█████▊    | 618219/1057452 [00:11<00:05, 73736.52it/s]"
     ]
    },
    {
     "name": "stderr",
     "output_type": "stream",
     "text": [
      "\rMorphologyExtractor transform:  59%|█████▉    | 625627/1057452 [00:11<00:06, 71195.98it/s]"
     ]
    },
    {
     "name": "stderr",
     "output_type": "stream",
     "text": [
      "\rMorphologyExtractor transform:  60%|█████▉    | 632790/1057452 [00:11<00:06, 68050.70it/s]"
     ]
    },
    {
     "name": "stderr",
     "output_type": "stream",
     "text": [
      "\rMorphologyExtractor transform:  60%|██████    | 639655/1057452 [00:11<00:06, 66264.67it/s]"
     ]
    },
    {
     "name": "stderr",
     "output_type": "stream",
     "text": [
      "\rMorphologyExtractor transform:  61%|██████    | 646742/1057452 [00:11<00:06, 67566.48it/s]"
     ]
    },
    {
     "name": "stderr",
     "output_type": "stream",
     "text": [
      "\rMorphologyExtractor transform:  62%|██████▏   | 654123/1057452 [00:11<00:05, 69302.29it/s]"
     ]
    },
    {
     "name": "stderr",
     "output_type": "stream",
     "text": [
      "\rMorphologyExtractor transform:  63%|██████▎   | 661228/1057452 [00:11<00:05, 69787.90it/s]"
     ]
    },
    {
     "name": "stderr",
     "output_type": "stream",
     "text": [
      "\rMorphologyExtractor transform:  63%|██████▎   | 668540/1057452 [00:11<00:05, 70754.15it/s]"
     ]
    },
    {
     "name": "stderr",
     "output_type": "stream",
     "text": [
      "\rMorphologyExtractor transform:  64%|██████▍   | 675640/1057452 [00:12<00:13, 28808.53it/s]"
     ]
    },
    {
     "name": "stderr",
     "output_type": "stream",
     "text": [
      "\rMorphologyExtractor transform:  65%|██████▍   | 682860/1057452 [00:12<00:10, 35144.41it/s]"
     ]
    },
    {
     "name": "stderr",
     "output_type": "stream",
     "text": [
      "\rMorphologyExtractor transform:  65%|██████▌   | 689824/1057452 [00:12<00:08, 41272.49it/s]"
     ]
    },
    {
     "name": "stderr",
     "output_type": "stream",
     "text": [
      "\rMorphologyExtractor transform:  66%|██████▌   | 697284/1057452 [00:12<00:07, 47656.31it/s]"
     ]
    },
    {
     "name": "stderr",
     "output_type": "stream",
     "text": [
      "\rMorphologyExtractor transform:  67%|██████▋   | 705177/1057452 [00:12<00:06, 54084.77it/s]"
     ]
    },
    {
     "name": "stderr",
     "output_type": "stream",
     "text": [
      "\rMorphologyExtractor transform:  67%|██████▋   | 712157/1057452 [00:13<00:05, 57937.07it/s]"
     ]
    },
    {
     "name": "stderr",
     "output_type": "stream",
     "text": [
      "\rMorphologyExtractor transform:  68%|██████▊   | 719763/1057452 [00:13<00:05, 62388.70it/s]"
     ]
    },
    {
     "name": "stderr",
     "output_type": "stream",
     "text": [
      "\rMorphologyExtractor transform:  69%|██████▊   | 726923/1057452 [00:13<00:05, 62888.69it/s]"
     ]
    },
    {
     "name": "stderr",
     "output_type": "stream",
     "text": [
      "\rMorphologyExtractor transform:  69%|██████▉   | 733858/1057452 [00:13<00:05, 62409.11it/s]"
     ]
    },
    {
     "name": "stderr",
     "output_type": "stream",
     "text": [
      "\rMorphologyExtractor transform:  70%|███████   | 740602/1057452 [00:13<00:04, 63834.36it/s]"
     ]
    },
    {
     "name": "stderr",
     "output_type": "stream",
     "text": [
      "\rMorphologyExtractor transform:  71%|███████   | 747311/1057452 [00:13<00:04, 64033.25it/s]"
     ]
    },
    {
     "name": "stderr",
     "output_type": "stream",
     "text": [
      "\rMorphologyExtractor transform:  71%|███████▏  | 754080/1057452 [00:13<00:04, 65057.74it/s]"
     ]
    },
    {
     "name": "stderr",
     "output_type": "stream",
     "text": [
      "\rMorphologyExtractor transform:  72%|███████▏  | 761547/1057452 [00:13<00:04, 67664.31it/s]"
     ]
    },
    {
     "name": "stderr",
     "output_type": "stream",
     "text": [
      "\rMorphologyExtractor transform:  73%|███████▎  | 768884/1057452 [00:13<00:04, 69275.53it/s]"
     ]
    },
    {
     "name": "stderr",
     "output_type": "stream",
     "text": [
      "\rMorphologyExtractor transform:  73%|███████▎  | 776583/1057452 [00:13<00:03, 71421.30it/s]"
     ]
    },
    {
     "name": "stderr",
     "output_type": "stream",
     "text": [
      "\rMorphologyExtractor transform:  74%|███████▍  | 784406/1057452 [00:14<00:03, 73296.78it/s]"
     ]
    },
    {
     "name": "stderr",
     "output_type": "stream",
     "text": [
      "\rMorphologyExtractor transform:  75%|███████▍  | 792825/1057452 [00:14<00:03, 76242.55it/s]"
     ]
    },
    {
     "name": "stderr",
     "output_type": "stream",
     "text": [
      "\rMorphologyExtractor transform:  76%|███████▌  | 800534/1057452 [00:14<00:03, 74533.25it/s]"
     ]
    },
    {
     "name": "stderr",
     "output_type": "stream",
     "text": [
      "\rMorphologyExtractor transform:  76%|███████▋  | 808055/1057452 [00:14<00:03, 71724.25it/s]"
     ]
    },
    {
     "name": "stderr",
     "output_type": "stream",
     "text": [
      "\rMorphologyExtractor transform:  77%|███████▋  | 815298/1057452 [00:14<00:03, 69581.90it/s]"
     ]
    },
    {
     "name": "stderr",
     "output_type": "stream",
     "text": [
      "\rMorphologyExtractor transform:  78%|███████▊  | 822320/1057452 [00:14<00:03, 68539.13it/s]"
     ]
    },
    {
     "name": "stderr",
     "output_type": "stream",
     "text": [
      "\rMorphologyExtractor transform:  78%|███████▊  | 829222/1057452 [00:14<00:03, 66585.93it/s]"
     ]
    },
    {
     "name": "stderr",
     "output_type": "stream",
     "text": [
      "\rMorphologyExtractor transform:  79%|███████▉  | 835927/1057452 [00:14<00:03, 64571.19it/s]"
     ]
    },
    {
     "name": "stderr",
     "output_type": "stream",
     "text": [
      "\rMorphologyExtractor transform:  80%|███████▉  | 842526/1057452 [00:14<00:03, 64989.63it/s]"
     ]
    },
    {
     "name": "stderr",
     "output_type": "stream",
     "text": [
      "\rMorphologyExtractor transform:  80%|████████  | 849935/1057452 [00:15<00:03, 67473.97it/s]"
     ]
    },
    {
     "name": "stderr",
     "output_type": "stream",
     "text": [
      "\rMorphologyExtractor transform:  81%|████████  | 857278/1057452 [00:15<00:02, 69148.20it/s]"
     ]
    },
    {
     "name": "stderr",
     "output_type": "stream",
     "text": [
      "\rMorphologyExtractor transform:  82%|████████▏ | 864812/1057452 [00:15<00:02, 70890.71it/s]"
     ]
    },
    {
     "name": "stderr",
     "output_type": "stream",
     "text": [
      "\rMorphologyExtractor transform:  83%|████████▎ | 872675/1057452 [00:15<00:02, 73036.08it/s]"
     ]
    },
    {
     "name": "stderr",
     "output_type": "stream",
     "text": [
      "\rMorphologyExtractor transform:  83%|████████▎ | 880024/1057452 [00:15<00:02, 66886.47it/s]"
     ]
    },
    {
     "name": "stderr",
     "output_type": "stream",
     "text": [
      "\rMorphologyExtractor transform:  84%|████████▍ | 886846/1057452 [00:15<00:02, 64835.73it/s]"
     ]
    },
    {
     "name": "stderr",
     "output_type": "stream",
     "text": [
      "\rMorphologyExtractor transform:  85%|████████▍ | 893596/1057452 [00:15<00:02, 65612.45it/s]"
     ]
    },
    {
     "name": "stderr",
     "output_type": "stream",
     "text": [
      "\rMorphologyExtractor transform:  85%|████████▌ | 900234/1057452 [00:15<00:02, 64469.78it/s]"
     ]
    },
    {
     "name": "stderr",
     "output_type": "stream",
     "text": [
      "\rMorphologyExtractor transform:  86%|████████▌ | 906740/1057452 [00:15<00:02, 60623.44it/s]"
     ]
    },
    {
     "name": "stderr",
     "output_type": "stream",
     "text": [
      "\rMorphologyExtractor transform:  86%|████████▋ | 912891/1057452 [00:15<00:02, 58585.39it/s]"
     ]
    },
    {
     "name": "stderr",
     "output_type": "stream",
     "text": [
      "\rMorphologyExtractor transform:  87%|████████▋ | 919915/1057452 [00:16<00:02, 61635.77it/s]"
     ]
    },
    {
     "name": "stderr",
     "output_type": "stream",
     "text": [
      "\rMorphologyExtractor transform:  88%|████████▊ | 926876/1057452 [00:16<00:02, 63750.79it/s]"
     ]
    },
    {
     "name": "stderr",
     "output_type": "stream",
     "text": [
      "\rMorphologyExtractor transform:  88%|████████▊ | 934347/1057452 [00:16<00:01, 66679.39it/s]"
     ]
    },
    {
     "name": "stderr",
     "output_type": "stream",
     "text": [
      "\rMorphologyExtractor transform:  89%|████████▉ | 941110/1057452 [00:16<00:01, 65610.40it/s]"
     ]
    },
    {
     "name": "stderr",
     "output_type": "stream",
     "text": [
      "\rMorphologyExtractor transform:  90%|████████▉ | 947742/1057452 [00:16<00:01, 64136.96it/s]"
     ]
    },
    {
     "name": "stderr",
     "output_type": "stream",
     "text": [
      "\rMorphologyExtractor transform:  90%|█████████ | 954521/1057452 [00:16<00:01, 65189.57it/s]"
     ]
    },
    {
     "name": "stderr",
     "output_type": "stream",
     "text": [
      "\rMorphologyExtractor transform:  91%|█████████ | 962507/1057452 [00:16<00:01, 68988.18it/s]"
     ]
    },
    {
     "name": "stderr",
     "output_type": "stream",
     "text": [
      "\rMorphologyExtractor transform:  92%|█████████▏| 969548/1057452 [00:16<00:01, 69408.63it/s]"
     ]
    },
    {
     "name": "stderr",
     "output_type": "stream",
     "text": [
      "\rMorphologyExtractor transform:  92%|█████████▏| 977555/1057452 [00:16<00:01, 72295.75it/s]"
     ]
    },
    {
     "name": "stderr",
     "output_type": "stream",
     "text": [
      "\rMorphologyExtractor transform:  93%|█████████▎| 985683/1057452 [00:17<00:00, 74775.15it/s]"
     ]
    },
    {
     "name": "stderr",
     "output_type": "stream",
     "text": [
      "\rMorphologyExtractor transform:  94%|█████████▍| 994229/1057452 [00:17<00:00, 77675.57it/s]"
     ]
    },
    {
     "name": "stderr",
     "output_type": "stream",
     "text": [
      "\rMorphologyExtractor transform:  95%|█████████▍| 1002601/1057452 [00:17<00:00, 79378.77it/s]"
     ]
    },
    {
     "name": "stderr",
     "output_type": "stream",
     "text": [
      "\rMorphologyExtractor transform:  96%|█████████▌| 1010605/1057452 [00:17<00:00, 76063.91it/s]"
     ]
    },
    {
     "name": "stderr",
     "output_type": "stream",
     "text": [
      "\rMorphologyExtractor transform:  96%|█████████▋| 1018287/1057452 [00:17<00:00, 73088.28it/s]"
     ]
    },
    {
     "name": "stderr",
     "output_type": "stream",
     "text": [
      "\rMorphologyExtractor transform:  97%|█████████▋| 1026208/1057452 [00:17<00:00, 74822.25it/s]"
     ]
    },
    {
     "name": "stderr",
     "output_type": "stream",
     "text": [
      "\rMorphologyExtractor transform:  98%|█████████▊| 1033755/1057452 [00:17<00:00, 74669.62it/s]"
     ]
    },
    {
     "name": "stderr",
     "output_type": "stream",
     "text": [
      "\rMorphologyExtractor transform:  98%|█████████▊| 1041268/1057452 [00:17<00:00, 68011.68it/s]"
     ]
    },
    {
     "name": "stderr",
     "output_type": "stream",
     "text": [
      "\rMorphologyExtractor transform:  99%|█████████▉| 1048216/1057452 [00:17<00:00, 67050.79it/s]"
     ]
    },
    {
     "name": "stderr",
     "output_type": "stream",
     "text": [
      "\rMorphologyExtractor transform: 100%|█████████▉| 1055465/1057452 [00:17<00:00, 68577.95it/s]"
     ]
    },
    {
     "name": "stderr",
     "output_type": "stream",
     "text": [
      "\rMorphologyExtractor transform: 100%|██████████| 1057452/1057452 [00:18<00:00, 58652.43it/s]"
     ]
    },
    {
     "name": "stderr",
     "output_type": "stream",
     "text": [
      "\n"
     ]
    },
    {
     "name": "stderr",
     "output_type": "stream",
     "text": [
      "\rMorphologyExtractor transform:   0%|          | 0/1057452 [00:00<?, ?it/s]"
     ]
    },
    {
     "name": "stderr",
     "output_type": "stream",
     "text": [
      "\rMorphologyExtractor transform:   0%|          | 4259/1057452 [00:00<00:24, 42589.13it/s]"
     ]
    },
    {
     "name": "stderr",
     "output_type": "stream",
     "text": [
      "\rMorphologyExtractor transform:   1%|          | 12620/1057452 [00:00<00:20, 49939.54it/s]"
     ]
    },
    {
     "name": "stderr",
     "output_type": "stream",
     "text": [
      "\rMorphologyExtractor transform:   2%|▏         | 20796/1057452 [00:00<00:18, 56538.17it/s]"
     ]
    },
    {
     "name": "stderr",
     "output_type": "stream",
     "text": [
      "\rMorphologyExtractor transform:   3%|▎         | 26609/1057452 [00:00<00:18, 54668.09it/s]"
     ]
    },
    {
     "name": "stderr",
     "output_type": "stream",
     "text": [
      "\rMorphologyExtractor transform:   3%|▎         | 34678/1057452 [00:00<00:16, 60523.04it/s]"
     ]
    },
    {
     "name": "stderr",
     "output_type": "stream",
     "text": [
      "\rMorphologyExtractor transform:   4%|▍         | 42978/1057452 [00:00<00:15, 65825.50it/s]"
     ]
    },
    {
     "name": "stderr",
     "output_type": "stream",
     "text": [
      "\rMorphologyExtractor transform:   5%|▍         | 51377/1057452 [00:00<00:14, 70385.53it/s]"
     ]
    },
    {
     "name": "stderr",
     "output_type": "stream",
     "text": [
      "\rMorphologyExtractor transform:   6%|▌         | 60817/1057452 [00:00<00:13, 76192.72it/s]"
     ]
    },
    {
     "name": "stderr",
     "output_type": "stream",
     "text": [
      "\rMorphologyExtractor transform:   7%|▋         | 69223/1057452 [00:00<00:12, 78375.53it/s]"
     ]
    },
    {
     "name": "stderr",
     "output_type": "stream",
     "text": [
      "\rMorphologyExtractor transform:   7%|▋         | 78143/1057452 [00:01<00:12, 81335.72it/s]"
     ]
    },
    {
     "name": "stderr",
     "output_type": "stream",
     "text": [
      "\rMorphologyExtractor transform:   8%|▊         | 87240/1057452 [00:01<00:11, 84004.23it/s]"
     ]
    },
    {
     "name": "stderr",
     "output_type": "stream",
     "text": [
      "\rMorphologyExtractor transform:   9%|▉         | 96952/1057452 [00:01<00:10, 87545.84it/s]"
     ]
    },
    {
     "name": "stderr",
     "output_type": "stream",
     "text": [
      "\rMorphologyExtractor transform:  10%|█         | 105828/1057452 [00:01<00:10, 87662.56it/s]"
     ]
    },
    {
     "name": "stderr",
     "output_type": "stream",
     "text": [
      "\rMorphologyExtractor transform:  11%|█         | 114885/1057452 [00:01<00:10, 88503.27it/s]"
     ]
    },
    {
     "name": "stderr",
     "output_type": "stream",
     "text": [
      "\rMorphologyExtractor transform:  12%|█▏        | 123797/1057452 [00:01<00:10, 88413.98it/s]"
     ]
    },
    {
     "name": "stderr",
     "output_type": "stream",
     "text": [
      "\rMorphologyExtractor transform:  13%|█▎        | 132776/1057452 [00:01<00:10, 88821.80it/s]"
     ]
    },
    {
     "name": "stderr",
     "output_type": "stream",
     "text": [
      "\rMorphologyExtractor transform:  13%|█▎        | 141689/1057452 [00:01<00:10, 87906.16it/s]"
     ]
    },
    {
     "name": "stderr",
     "output_type": "stream",
     "text": [
      "\rMorphologyExtractor transform:  14%|█▍        | 150504/1057452 [00:01<00:10, 87891.04it/s]"
     ]
    },
    {
     "name": "stderr",
     "output_type": "stream",
     "text": [
      "\rMorphologyExtractor transform:  15%|█▌        | 159943/1057452 [00:01<00:10, 89744.74it/s]"
     ]
    },
    {
     "name": "stderr",
     "output_type": "stream",
     "text": [
      "\rMorphologyExtractor transform:  16%|█▌        | 168939/1057452 [00:02<00:09, 89637.45it/s]"
     ]
    },
    {
     "name": "stderr",
     "output_type": "stream",
     "text": [
      "\rMorphologyExtractor transform:  17%|█▋        | 178409/1057452 [00:02<00:09, 91096.78it/s]"
     ]
    },
    {
     "name": "stderr",
     "output_type": "stream",
     "text": [
      "\rMorphologyExtractor transform:  18%|█▊        | 187936/1057452 [00:02<00:09, 92269.65it/s]"
     ]
    },
    {
     "name": "stderr",
     "output_type": "stream",
     "text": [
      "\rMorphologyExtractor transform:  19%|█▊        | 197178/1057452 [00:02<00:09, 91466.39it/s]"
     ]
    },
    {
     "name": "stderr",
     "output_type": "stream",
     "text": [
      "\rMorphologyExtractor transform:  20%|█▉        | 206500/1057452 [00:02<00:09, 91979.82it/s]"
     ]
    },
    {
     "name": "stderr",
     "output_type": "stream",
     "text": [
      "\rMorphologyExtractor transform:  20%|██        | 215708/1057452 [00:02<00:09, 90776.59it/s]"
     ]
    },
    {
     "name": "stderr",
     "output_type": "stream",
     "text": [
      "\rMorphologyExtractor transform:  21%|██▏       | 225434/1057452 [00:02<00:08, 92628.71it/s]"
     ]
    },
    {
     "name": "stderr",
     "output_type": "stream",
     "text": [
      "\rMorphologyExtractor transform:  22%|██▏       | 235213/1057452 [00:02<00:08, 94111.87it/s]"
     ]
    },
    {
     "name": "stderr",
     "output_type": "stream",
     "text": [
      "\rMorphologyExtractor transform:  23%|██▎       | 244642/1057452 [00:02<00:08, 93464.39it/s]"
     ]
    },
    {
     "name": "stderr",
     "output_type": "stream",
     "text": [
      "\rMorphologyExtractor transform:  24%|██▍       | 254002/1057452 [00:02<00:08, 92678.42it/s]"
     ]
    },
    {
     "name": "stderr",
     "output_type": "stream",
     "text": [
      "\rMorphologyExtractor transform:  25%|██▍       | 263281/1057452 [00:03<00:08, 91356.89it/s]"
     ]
    },
    {
     "name": "stderr",
     "output_type": "stream",
     "text": [
      "\rMorphologyExtractor transform:  26%|██▌       | 272429/1057452 [00:03<00:08, 91261.89it/s]"
     ]
    },
    {
     "name": "stderr",
     "output_type": "stream",
     "text": [
      "\rMorphologyExtractor transform:  27%|██▋       | 282147/1057452 [00:03<00:08, 92931.20it/s]"
     ]
    },
    {
     "name": "stderr",
     "output_type": "stream",
     "text": [
      "\rMorphologyExtractor transform:  28%|██▊       | 291454/1057452 [00:03<00:08, 92972.55it/s]"
     ]
    },
    {
     "name": "stderr",
     "output_type": "stream",
     "text": [
      "\rMorphologyExtractor transform:  28%|██▊       | 301112/1057452 [00:03<00:08, 94018.47it/s]"
     ]
    },
    {
     "name": "stderr",
     "output_type": "stream",
     "text": [
      "\rMorphologyExtractor transform:  29%|██▉       | 310729/1057452 [00:03<00:07, 94646.98it/s]"
     ]
    },
    {
     "name": "stderr",
     "output_type": "stream",
     "text": [
      "\rMorphologyExtractor transform:  30%|███       | 321141/1057452 [00:03<00:07, 97280.21it/s]"
     ]
    },
    {
     "name": "stderr",
     "output_type": "stream",
     "text": [
      "\rMorphologyExtractor transform:  31%|███▏      | 331172/1057452 [00:03<00:07, 98157.07it/s]"
     ]
    },
    {
     "name": "stderr",
     "output_type": "stream",
     "text": [
      "\rMorphologyExtractor transform:  32%|███▏      | 341007/1057452 [00:03<00:07, 95962.90it/s]"
     ]
    },
    {
     "name": "stderr",
     "output_type": "stream",
     "text": [
      "\rMorphologyExtractor transform:  33%|███▎      | 350628/1057452 [00:03<00:07, 95730.65it/s]"
     ]
    },
    {
     "name": "stderr",
     "output_type": "stream",
     "text": [
      "\rMorphologyExtractor transform:  34%|███▍      | 360446/1057452 [00:04<00:07, 96448.35it/s]"
     ]
    },
    {
     "name": "stderr",
     "output_type": "stream",
     "text": [
      "\rMorphologyExtractor transform:  35%|███▌      | 370522/1057452 [00:04<00:07, 97701.40it/s]"
     ]
    },
    {
     "name": "stderr",
     "output_type": "stream",
     "text": [
      "\rMorphologyExtractor transform:  36%|███▌      | 380683/1057452 [00:04<00:06, 98819.79it/s]"
     ]
    },
    {
     "name": "stderr",
     "output_type": "stream",
     "text": [
      "\rMorphologyExtractor transform:  37%|███▋      | 390578/1057452 [00:04<00:06, 96320.05it/s]"
     ]
    },
    {
     "name": "stderr",
     "output_type": "stream",
     "text": [
      "\rMorphologyExtractor transform:  38%|███▊      | 400233/1057452 [00:04<00:06, 96372.43it/s]"
     ]
    },
    {
     "name": "stderr",
     "output_type": "stream",
     "text": [
      "\rMorphologyExtractor transform:  39%|███▉      | 409886/1057452 [00:04<00:06, 95835.77it/s]"
     ]
    },
    {
     "name": "stderr",
     "output_type": "stream",
     "text": [
      "\rMorphologyExtractor transform:  40%|███▉      | 419482/1057452 [00:04<00:06, 95586.22it/s]"
     ]
    },
    {
     "name": "stderr",
     "output_type": "stream",
     "text": [
      "\rMorphologyExtractor transform:  41%|████      | 429049/1057452 [00:04<00:06, 90755.69it/s]"
     ]
    },
    {
     "name": "stderr",
     "output_type": "stream",
     "text": [
      "\rMorphologyExtractor transform:  41%|████▏     | 438182/1057452 [00:04<00:06, 89012.30it/s]"
     ]
    },
    {
     "name": "stderr",
     "output_type": "stream",
     "text": [
      "\rMorphologyExtractor transform:  42%|████▏     | 448105/1057452 [00:04<00:06, 91816.70it/s]"
     ]
    },
    {
     "name": "stderr",
     "output_type": "stream",
     "text": [
      "\rMorphologyExtractor transform:  43%|████▎     | 457709/1057452 [00:05<00:06, 93011.71it/s]"
     ]
    },
    {
     "name": "stderr",
     "output_type": "stream",
     "text": [
      "\rMorphologyExtractor transform:  44%|████▍     | 468106/1057452 [00:05<00:06, 96047.42it/s]"
     ]
    },
    {
     "name": "stderr",
     "output_type": "stream",
     "text": [
      "\rMorphologyExtractor transform:  45%|████▌     | 478010/1057452 [00:05<00:05, 96925.18it/s]"
     ]
    },
    {
     "name": "stderr",
     "output_type": "stream",
     "text": [
      "\rMorphologyExtractor transform:  46%|████▌     | 487743/1057452 [00:05<00:05, 96353.98it/s]"
     ]
    },
    {
     "name": "stderr",
     "output_type": "stream",
     "text": [
      "\rMorphologyExtractor transform:  47%|████▋     | 497899/1057452 [00:05<00:05, 97857.21it/s]"
     ]
    },
    {
     "name": "stderr",
     "output_type": "stream",
     "text": [
      "\rMorphologyExtractor transform:  48%|████▊     | 508079/1057452 [00:05<00:05, 99003.22it/s]"
     ]
    },
    {
     "name": "stderr",
     "output_type": "stream",
     "text": [
      "\rMorphologyExtractor transform:  49%|████▉     | 518001/1057452 [00:05<00:05, 95930.57it/s]"
     ]
    },
    {
     "name": "stderr",
     "output_type": "stream",
     "text": [
      "\rMorphologyExtractor transform:  50%|████▉     | 527630/1057452 [00:05<00:05, 93831.40it/s]"
     ]
    },
    {
     "name": "stderr",
     "output_type": "stream",
     "text": [
      "\rMorphologyExtractor transform:  51%|█████     | 537145/1057452 [00:05<00:05, 94220.95it/s]"
     ]
    },
    {
     "name": "stderr",
     "output_type": "stream",
     "text": [
      "\rMorphologyExtractor transform:  52%|█████▏    | 546593/1057452 [00:06<00:05, 93376.11it/s]"
     ]
    },
    {
     "name": "stderr",
     "output_type": "stream",
     "text": [
      "\rMorphologyExtractor transform:  53%|█████▎    | 556572/1057452 [00:06<00:05, 95181.95it/s]"
     ]
    },
    {
     "name": "stderr",
     "output_type": "stream",
     "text": [
      "\rMorphologyExtractor transform:  54%|█████▎    | 566249/1057452 [00:06<00:05, 95646.34it/s]"
     ]
    },
    {
     "name": "stderr",
     "output_type": "stream",
     "text": [
      "\rMorphologyExtractor transform:  54%|█████▍    | 575830/1057452 [00:06<00:05, 92624.92it/s]"
     ]
    },
    {
     "name": "stderr",
     "output_type": "stream",
     "text": [
      "\rMorphologyExtractor transform:  55%|█████▌    | 585567/1057452 [00:06<00:05, 93998.87it/s]"
     ]
    },
    {
     "name": "stderr",
     "output_type": "stream",
     "text": [
      "\rMorphologyExtractor transform:  56%|█████▋    | 595328/1057452 [00:06<00:04, 95038.84it/s]"
     ]
    },
    {
     "name": "stderr",
     "output_type": "stream",
     "text": [
      "\rMorphologyExtractor transform:  57%|█████▋    | 605180/1057452 [00:06<00:04, 96056.23it/s]"
     ]
    },
    {
     "name": "stderr",
     "output_type": "stream",
     "text": [
      "\rMorphologyExtractor transform:  58%|█████▊    | 615261/1057452 [00:06<00:04, 97434.30it/s]"
     ]
    },
    {
     "name": "stderr",
     "output_type": "stream",
     "text": [
      "\rMorphologyExtractor transform:  59%|█████▉    | 625355/1057452 [00:06<00:04, 98434.52it/s]"
     ]
    },
    {
     "name": "stderr",
     "output_type": "stream",
     "text": [
      "\rMorphologyExtractor transform:  60%|██████    | 635214/1057452 [00:06<00:04, 97780.23it/s]"
     ]
    },
    {
     "name": "stderr",
     "output_type": "stream",
     "text": [
      "\rMorphologyExtractor transform:  61%|██████    | 645004/1057452 [00:07<00:04, 96257.79it/s]"
     ]
    },
    {
     "name": "stderr",
     "output_type": "stream",
     "text": [
      "\rMorphologyExtractor transform:  62%|██████▏   | 654912/1057452 [00:07<00:04, 97087.11it/s]"
     ]
    },
    {
     "name": "stderr",
     "output_type": "stream",
     "text": [
      "\rMorphologyExtractor transform:  63%|██████▎   | 664633/1057452 [00:07<00:04, 97118.42it/s]"
     ]
    },
    {
     "name": "stderr",
     "output_type": "stream",
     "text": [
      "\rMorphologyExtractor transform:  64%|██████▍   | 674558/1057452 [00:07<00:03, 97741.91it/s]"
     ]
    },
    {
     "name": "stderr",
     "output_type": "stream",
     "text": [
      "\rMorphologyExtractor transform:  65%|██████▍   | 684437/1057452 [00:07<00:03, 97988.29it/s]"
     ]
    },
    {
     "name": "stderr",
     "output_type": "stream",
     "text": [
      "\rMorphologyExtractor transform:  66%|██████▌   | 694241/1057452 [00:07<00:03, 96193.12it/s]"
     ]
    },
    {
     "name": "stderr",
     "output_type": "stream",
     "text": [
      "\rMorphologyExtractor transform:  67%|██████▋   | 704727/1057452 [00:07<00:03, 98638.69it/s]"
     ]
    },
    {
     "name": "stderr",
     "output_type": "stream",
     "text": [
      "\rMorphologyExtractor transform:  68%|██████▊   | 714665/1057452 [00:07<00:03, 98856.71it/s]"
     ]
    },
    {
     "name": "stderr",
     "output_type": "stream",
     "text": [
      "\rMorphologyExtractor transform:  69%|██████▊   | 724864/1057452 [00:07<00:03, 99775.70it/s]"
     ]
    },
    {
     "name": "stderr",
     "output_type": "stream",
     "text": [
      "\rMorphologyExtractor transform:  69%|██████▉   | 734855/1057452 [00:07<00:03, 96949.98it/s]"
     ]
    },
    {
     "name": "stderr",
     "output_type": "stream",
     "text": [
      "\rMorphologyExtractor transform:  70%|███████   | 744577/1057452 [00:08<00:03, 96850.75it/s]"
     ]
    },
    {
     "name": "stderr",
     "output_type": "stream",
     "text": [
      "\rMorphologyExtractor transform:  71%|███████▏  | 755442/1057452 [00:08<00:03, 100111.81it/s]"
     ]
    },
    {
     "name": "stderr",
     "output_type": "stream",
     "text": [
      "\rMorphologyExtractor transform:  72%|███████▏  | 766447/1057452 [00:08<00:02, 102898.68it/s]"
     ]
    },
    {
     "name": "stderr",
     "output_type": "stream",
     "text": [
      "\rMorphologyExtractor transform:  73%|███████▎  | 776785/1057452 [00:08<00:02, 102348.79it/s]"
     ]
    },
    {
     "name": "stderr",
     "output_type": "stream",
     "text": [
      "\rMorphologyExtractor transform:  74%|███████▍  | 787066/1057452 [00:08<00:02, 102466.51it/s]"
     ]
    },
    {
     "name": "stderr",
     "output_type": "stream",
     "text": [
      "\rMorphologyExtractor transform:  75%|███████▌  | 797337/1057452 [00:08<00:02, 99936.56it/s] "
     ]
    },
    {
     "name": "stderr",
     "output_type": "stream",
     "text": [
      "\rMorphologyExtractor transform:  76%|███████▋  | 807362/1057452 [00:08<00:02, 99685.08it/s]"
     ]
    },
    {
     "name": "stderr",
     "output_type": "stream",
     "text": [
      "\rMorphologyExtractor transform:  77%|███████▋  | 818165/1057452 [00:08<00:02, 102041.93it/s]"
     ]
    },
    {
     "name": "stderr",
     "output_type": "stream",
     "text": [
      "\rMorphologyExtractor transform:  78%|███████▊  | 828897/1057452 [00:08<00:02, 103569.13it/s]"
     ]
    },
    {
     "name": "stderr",
     "output_type": "stream",
     "text": [
      "\rMorphologyExtractor transform:  79%|███████▉  | 839280/1057452 [00:08<00:02, 103330.04it/s]"
     ]
    },
    {
     "name": "stderr",
     "output_type": "stream",
     "text": [
      "\rMorphologyExtractor transform:  80%|████████  | 849632/1057452 [00:09<00:02, 101134.06it/s]"
     ]
    },
    {
     "name": "stderr",
     "output_type": "stream",
     "text": [
      "\rMorphologyExtractor transform:  81%|████████▏ | 859769/1057452 [00:09<00:01, 99730.64it/s] "
     ]
    },
    {
     "name": "stderr",
     "output_type": "stream",
     "text": [
      "\rMorphologyExtractor transform:  82%|████████▏ | 869805/1057452 [00:09<00:01, 99905.49it/s]"
     ]
    },
    {
     "name": "stderr",
     "output_type": "stream",
     "text": [
      "\rMorphologyExtractor transform:  83%|████████▎ | 879811/1057452 [00:09<00:04, 37365.86it/s]"
     ]
    },
    {
     "name": "stderr",
     "output_type": "stream",
     "text": [
      "\rMorphologyExtractor transform:  84%|████████▍ | 890068/1057452 [00:10<00:03, 46170.49it/s]"
     ]
    },
    {
     "name": "stderr",
     "output_type": "stream",
     "text": [
      "\rMorphologyExtractor transform:  85%|████████▌ | 899891/1057452 [00:10<00:02, 54898.76it/s]"
     ]
    },
    {
     "name": "stderr",
     "output_type": "stream",
     "text": [
      "\rMorphologyExtractor transform:  86%|████████▌ | 910152/1057452 [00:10<00:02, 63798.13it/s]"
     ]
    },
    {
     "name": "stderr",
     "output_type": "stream",
     "text": [
      "\rMorphologyExtractor transform:  87%|████████▋ | 919599/1057452 [00:10<00:01, 70681.69it/s]"
     ]
    },
    {
     "name": "stderr",
     "output_type": "stream",
     "text": [
      "\rMorphologyExtractor transform:  88%|████████▊ | 929373/1057452 [00:10<00:01, 77080.35it/s]"
     ]
    },
    {
     "name": "stderr",
     "output_type": "stream",
     "text": [
      "\rMorphologyExtractor transform:  89%|████████▉ | 939722/1057452 [00:10<00:01, 83470.01it/s]"
     ]
    },
    {
     "name": "stderr",
     "output_type": "stream",
     "text": [
      "\rMorphologyExtractor transform:  90%|████████▉ | 950176/1057452 [00:10<00:01, 88839.30it/s]"
     ]
    },
    {
     "name": "stderr",
     "output_type": "stream",
     "text": [
      "\rMorphologyExtractor transform:  91%|█████████ | 960767/1057452 [00:10<00:01, 93336.54it/s]"
     ]
    },
    {
     "name": "stderr",
     "output_type": "stream",
     "text": [
      "\rMorphologyExtractor transform:  92%|█████████▏| 971769/1057452 [00:10<00:00, 97782.14it/s]"
     ]
    },
    {
     "name": "stderr",
     "output_type": "stream",
     "text": [
      "\rMorphologyExtractor transform:  93%|█████████▎| 982157/1057452 [00:10<00:00, 98473.23it/s]"
     ]
    },
    {
     "name": "stderr",
     "output_type": "stream",
     "text": [
      "\rMorphologyExtractor transform:  94%|█████████▍| 992493/1057452 [00:11<00:00, 99888.90it/s]"
     ]
    },
    {
     "name": "stderr",
     "output_type": "stream",
     "text": [
      "\rMorphologyExtractor transform:  95%|█████████▍| 1002787/1057452 [00:11<00:00, 98416.47it/s]"
     ]
    },
    {
     "name": "stderr",
     "output_type": "stream",
     "text": [
      "\rMorphologyExtractor transform:  96%|█████████▌| 1013018/1057452 [00:11<00:00, 99544.84it/s]"
     ]
    },
    {
     "name": "stderr",
     "output_type": "stream",
     "text": [
      "\rMorphologyExtractor transform:  97%|█████████▋| 1023129/1057452 [00:11<00:00, 99426.39it/s]"
     ]
    },
    {
     "name": "stderr",
     "output_type": "stream",
     "text": [
      "\rMorphologyExtractor transform:  98%|█████████▊| 1033397/1057452 [00:11<00:00, 100350.89it/s]"
     ]
    },
    {
     "name": "stderr",
     "output_type": "stream",
     "text": [
      "\rMorphologyExtractor transform:  99%|█████████▊| 1044058/1057452 [00:11<00:00, 102130.50it/s]"
     ]
    },
    {
     "name": "stderr",
     "output_type": "stream",
     "text": [
      "\rMorphologyExtractor transform: 100%|█████████▉| 1055289/1057452 [00:11<00:00, 104960.43it/s]"
     ]
    },
    {
     "name": "stderr",
     "output_type": "stream",
     "text": [
      "\rMorphologyExtractor transform: 100%|██████████| 1057452/1057452 [00:11<00:00, 90474.74it/s] "
     ]
    },
    {
     "name": "stderr",
     "output_type": "stream",
     "text": [
      "\n"
     ]
    },
    {
     "name": "stderr",
     "output_type": "stream",
     "text": [
      "\rMorphologyExtractor transform:   0%|          | 0/1057452 [00:00<?, ?it/s]"
     ]
    },
    {
     "name": "stderr",
     "output_type": "stream",
     "text": [
      "\rMorphologyExtractor transform:   0%|          | 3362/1057452 [00:00<00:40, 25807.56it/s]"
     ]
    },
    {
     "name": "stderr",
     "output_type": "stream",
     "text": [
      "\rMorphologyExtractor transform:   1%|▏         | 13978/1057452 [00:00<00:31, 33386.10it/s]"
     ]
    },
    {
     "name": "stderr",
     "output_type": "stream",
     "text": [
      "\rMorphologyExtractor transform:   2%|▏         | 24390/1057452 [00:00<00:24, 41931.96it/s]"
     ]
    },
    {
     "name": "stderr",
     "output_type": "stream",
     "text": [
      "\rMorphologyExtractor transform:   3%|▎         | 35544/1057452 [00:00<00:19, 51587.37it/s]"
     ]
    },
    {
     "name": "stderr",
     "output_type": "stream",
     "text": [
      "\rMorphologyExtractor transform:   4%|▍         | 46506/1057452 [00:00<00:16, 61326.39it/s]"
     ]
    },
    {
     "name": "stderr",
     "output_type": "stream",
     "text": [
      "\rMorphologyExtractor transform:   5%|▌         | 56950/1057452 [00:00<00:14, 69987.76it/s]"
     ]
    },
    {
     "name": "stderr",
     "output_type": "stream",
     "text": [
      "\rMorphologyExtractor transform:   7%|▋         | 68776/1057452 [00:00<00:12, 79752.90it/s]"
     ]
    },
    {
     "name": "stderr",
     "output_type": "stream",
     "text": [
      "\rMorphologyExtractor transform:   8%|▊         | 80242/1057452 [00:00<00:11, 87763.95it/s]"
     ]
    },
    {
     "name": "stderr",
     "output_type": "stream",
     "text": [
      "\rMorphologyExtractor transform:   9%|▊         | 91414/1057452 [00:00<00:10, 93797.82it/s]"
     ]
    },
    {
     "name": "stderr",
     "output_type": "stream",
     "text": [
      "\rMorphologyExtractor transform:  10%|▉         | 102973/1057452 [00:01<00:09, 99420.01it/s]"
     ]
    },
    {
     "name": "stderr",
     "output_type": "stream",
     "text": [
      "\rMorphologyExtractor transform:  11%|█         | 114276/1057452 [00:01<00:09, 103103.87it/s]"
     ]
    },
    {
     "name": "stderr",
     "output_type": "stream",
     "text": [
      "\rMorphologyExtractor transform:  12%|█▏        | 125282/1057452 [00:01<00:08, 104684.50it/s]"
     ]
    },
    {
     "name": "stderr",
     "output_type": "stream",
     "text": [
      "\rMorphologyExtractor transform:  13%|█▎        | 136583/1057452 [00:01<00:08, 107048.22it/s]"
     ]
    },
    {
     "name": "stderr",
     "output_type": "stream",
     "text": [
      "\rMorphologyExtractor transform:  14%|█▍        | 147646/1057452 [00:01<00:08, 107750.73it/s]"
     ]
    },
    {
     "name": "stderr",
     "output_type": "stream",
     "text": [
      "\rMorphologyExtractor transform:  15%|█▌        | 158673/1057452 [00:01<00:08, 106377.94it/s]"
     ]
    },
    {
     "name": "stderr",
     "output_type": "stream",
     "text": [
      "\rMorphologyExtractor transform:  16%|█▌        | 169712/1057452 [00:01<00:08, 107534.29it/s]"
     ]
    },
    {
     "name": "stderr",
     "output_type": "stream",
     "text": [
      "\rMorphologyExtractor transform:  17%|█▋        | 181126/1057452 [00:01<00:08, 109433.74it/s]"
     ]
    },
    {
     "name": "stderr",
     "output_type": "stream",
     "text": [
      "\rMorphologyExtractor transform:  18%|█▊        | 192168/1057452 [00:01<00:07, 109542.25it/s]"
     ]
    },
    {
     "name": "stderr",
     "output_type": "stream",
     "text": [
      "\rMorphologyExtractor transform:  19%|█▉        | 203758/1057452 [00:01<00:07, 111332.37it/s]"
     ]
    },
    {
     "name": "stderr",
     "output_type": "stream",
     "text": [
      "\rMorphologyExtractor transform:  20%|██        | 215340/1057452 [00:02<00:07, 112626.31it/s]"
     ]
    },
    {
     "name": "stderr",
     "output_type": "stream",
     "text": [
      "\rMorphologyExtractor transform:  21%|██▏       | 226646/1057452 [00:02<00:07, 111353.49it/s]"
     ]
    },
    {
     "name": "stderr",
     "output_type": "stream",
     "text": [
      "\rMorphologyExtractor transform:  23%|██▎       | 238685/1057452 [00:02<00:07, 113918.06it/s]"
     ]
    },
    {
     "name": "stderr",
     "output_type": "stream",
     "text": [
      "\rMorphologyExtractor transform:  24%|██▎       | 250348/1057452 [00:02<00:07, 114700.99it/s]"
     ]
    },
    {
     "name": "stderr",
     "output_type": "stream",
     "text": [
      "\rMorphologyExtractor transform:  25%|██▍       | 261846/1057452 [00:02<00:06, 113867.21it/s]"
     ]
    },
    {
     "name": "stderr",
     "output_type": "stream",
     "text": [
      "\rMorphologyExtractor transform:  26%|██▌       | 273254/1057452 [00:02<00:06, 112947.18it/s]"
     ]
    },
    {
     "name": "stderr",
     "output_type": "stream",
     "text": [
      "\rMorphologyExtractor transform:  27%|██▋       | 284807/1057452 [00:02<00:06, 113650.32it/s]"
     ]
    },
    {
     "name": "stderr",
     "output_type": "stream",
     "text": [
      "\rMorphologyExtractor transform:  28%|██▊       | 296786/1057452 [00:02<00:06, 115424.43it/s]"
     ]
    },
    {
     "name": "stderr",
     "output_type": "stream",
     "text": [
      "\rMorphologyExtractor transform:  29%|██▉       | 308344/1057452 [00:02<00:06, 114376.54it/s]"
     ]
    },
    {
     "name": "stderr",
     "output_type": "stream",
     "text": [
      "\rMorphologyExtractor transform:  30%|███       | 319972/1057452 [00:02<00:06, 114940.30it/s]"
     ]
    },
    {
     "name": "stderr",
     "output_type": "stream",
     "text": [
      "\rMorphologyExtractor transform:  31%|███▏      | 331913/1057452 [00:03<00:06, 116236.48it/s]"
     ]
    },
    {
     "name": "stderr",
     "output_type": "stream",
     "text": [
      "\rMorphologyExtractor transform:  32%|███▏      | 343547/1057452 [00:03<00:06, 115719.06it/s]"
     ]
    },
    {
     "name": "stderr",
     "output_type": "stream",
     "text": [
      "\rMorphologyExtractor transform:  34%|███▎      | 355435/1057452 [00:03<00:06, 116649.17it/s]"
     ]
    },
    {
     "name": "stderr",
     "output_type": "stream",
     "text": [
      "\rMorphologyExtractor transform:  35%|███▍      | 367108/1057452 [00:03<00:05, 116199.18it/s]"
     ]
    },
    {
     "name": "stderr",
     "output_type": "stream",
     "text": [
      "\rMorphologyExtractor transform:  36%|███▌      | 379386/1057452 [00:03<00:05, 118082.82it/s]"
     ]
    },
    {
     "name": "stderr",
     "output_type": "stream",
     "text": [
      "\rMorphologyExtractor transform:  37%|███▋      | 391206/1057452 [00:03<00:05, 116998.32it/s]"
     ]
    },
    {
     "name": "stderr",
     "output_type": "stream",
     "text": [
      "\rMorphologyExtractor transform:  38%|███▊      | 402916/1057452 [00:03<00:05, 113549.43it/s]"
     ]
    },
    {
     "name": "stderr",
     "output_type": "stream",
     "text": [
      "\rMorphologyExtractor transform:  39%|███▉      | 415570/1057452 [00:03<00:05, 117144.02it/s]"
     ]
    },
    {
     "name": "stderr",
     "output_type": "stream",
     "text": [
      "\rMorphologyExtractor transform:  40%|████      | 427352/1057452 [00:03<00:05, 117345.95it/s]"
     ]
    },
    {
     "name": "stderr",
     "output_type": "stream",
     "text": [
      "\rMorphologyExtractor transform:  42%|████▏     | 439122/1057452 [00:03<00:05, 113371.72it/s]"
     ]
    },
    {
     "name": "stderr",
     "output_type": "stream",
     "text": [
      "\rMorphologyExtractor transform:  43%|████▎     | 451364/1057452 [00:04<00:05, 115941.98it/s]"
     ]
    },
    {
     "name": "stderr",
     "output_type": "stream",
     "text": [
      "\rMorphologyExtractor transform:  44%|████▍     | 463010/1057452 [00:04<00:05, 112712.29it/s]"
     ]
    },
    {
     "name": "stderr",
     "output_type": "stream",
     "text": [
      "\rMorphologyExtractor transform:  45%|████▍     | 474338/1057452 [00:04<00:05, 111357.98it/s]"
     ]
    },
    {
     "name": "stderr",
     "output_type": "stream",
     "text": [
      "\rMorphologyExtractor transform:  46%|████▌     | 485517/1057452 [00:04<00:05, 111253.95it/s]"
     ]
    },
    {
     "name": "stderr",
     "output_type": "stream",
     "text": [
      "\rMorphologyExtractor transform:  47%|████▋     | 496673/1057452 [00:04<00:05, 109085.02it/s]"
     ]
    },
    {
     "name": "stderr",
     "output_type": "stream",
     "text": [
      "\rMorphologyExtractor transform:  48%|████▊     | 507612/1057452 [00:04<00:05, 108621.80it/s]"
     ]
    },
    {
     "name": "stderr",
     "output_type": "stream",
     "text": [
      "\rMorphologyExtractor transform:  49%|████▉     | 519619/1057452 [00:04<00:04, 111813.09it/s]"
     ]
    },
    {
     "name": "stderr",
     "output_type": "stream",
     "text": [
      "\rMorphologyExtractor transform:  50%|█████     | 530909/1057452 [00:04<00:04, 112121.30it/s]"
     ]
    },
    {
     "name": "stderr",
     "output_type": "stream",
     "text": [
      "\rMorphologyExtractor transform:  51%|█████▏    | 542149/1057452 [00:04<00:04, 111687.32it/s]"
     ]
    },
    {
     "name": "stderr",
     "output_type": "stream",
     "text": [
      "\rMorphologyExtractor transform:  52%|█████▏    | 553338/1057452 [00:05<00:04, 111085.63it/s]"
     ]
    },
    {
     "name": "stderr",
     "output_type": "stream",
     "text": [
      "\rMorphologyExtractor transform:  53%|█████▎    | 564461/1057452 [00:05<00:04, 110453.29it/s]"
     ]
    },
    {
     "name": "stderr",
     "output_type": "stream",
     "text": [
      "\rMorphologyExtractor transform:  54%|█████▍    | 575580/1057452 [00:05<00:04, 110672.60it/s]"
     ]
    },
    {
     "name": "stderr",
     "output_type": "stream",
     "text": [
      "\rMorphologyExtractor transform:  56%|█████▌    | 588354/1057452 [00:05<00:04, 115269.56it/s]"
     ]
    },
    {
     "name": "stderr",
     "output_type": "stream",
     "text": [
      "\rMorphologyExtractor transform:  57%|█████▋    | 599950/1057452 [00:05<00:03, 115467.56it/s]"
     ]
    },
    {
     "name": "stderr",
     "output_type": "stream",
     "text": [
      "\rMorphologyExtractor transform:  58%|█████▊    | 611536/1057452 [00:05<00:04, 108372.25it/s]"
     ]
    },
    {
     "name": "stderr",
     "output_type": "stream",
     "text": [
      "\rMorphologyExtractor transform:  59%|█████▉    | 622490/1057452 [00:05<00:04, 106896.15it/s]"
     ]
    },
    {
     "name": "stderr",
     "output_type": "stream",
     "text": [
      "\rMorphologyExtractor transform:  60%|█████▉    | 634137/1057452 [00:05<00:03, 109588.34it/s]"
     ]
    },
    {
     "name": "stderr",
     "output_type": "stream",
     "text": [
      "\rMorphologyExtractor transform:  61%|██████    | 646444/1057452 [00:05<00:03, 113308.39it/s]"
     ]
    },
    {
     "name": "stderr",
     "output_type": "stream",
     "text": [
      "\rMorphologyExtractor transform:  62%|██████▏   | 658506/1057452 [00:05<00:03, 115358.71it/s]"
     ]
    },
    {
     "name": "stderr",
     "output_type": "stream",
     "text": [
      "\rMorphologyExtractor transform:  63%|██████▎   | 670544/1057452 [00:06<00:03, 116818.24it/s]"
     ]
    },
    {
     "name": "stderr",
     "output_type": "stream",
     "text": [
      "\rMorphologyExtractor transform:  65%|██████▍   | 682484/1057452 [00:06<00:03, 117549.62it/s]"
     ]
    },
    {
     "name": "stderr",
     "output_type": "stream",
     "text": [
      "\rMorphologyExtractor transform:  66%|██████▌   | 694932/1057452 [00:06<00:03, 119458.64it/s]"
     ]
    },
    {
     "name": "stderr",
     "output_type": "stream",
     "text": [
      "\rMorphologyExtractor transform:  67%|██████▋   | 707103/1057452 [00:06<00:02, 120090.02it/s]"
     ]
    },
    {
     "name": "stderr",
     "output_type": "stream",
     "text": [
      "\rMorphologyExtractor transform:  68%|██████▊   | 719137/1057452 [00:06<00:02, 119909.13it/s]"
     ]
    },
    {
     "name": "stderr",
     "output_type": "stream",
     "text": [
      "\rMorphologyExtractor transform:  69%|██████▉   | 731648/1057452 [00:06<00:02, 121353.45it/s]"
     ]
    },
    {
     "name": "stderr",
     "output_type": "stream",
     "text": [
      "\rMorphologyExtractor transform:  70%|███████   | 743800/1057452 [00:06<00:02, 118536.06it/s]"
     ]
    },
    {
     "name": "stderr",
     "output_type": "stream",
     "text": [
      "\rMorphologyExtractor transform:  71%|███████▏  | 755680/1057452 [00:06<00:02, 116102.78it/s]"
     ]
    },
    {
     "name": "stderr",
     "output_type": "stream",
     "text": [
      "\rMorphologyExtractor transform:  73%|███████▎  | 767813/1057452 [00:06<00:02, 117602.19it/s]"
     ]
    },
    {
     "name": "stderr",
     "output_type": "stream",
     "text": [
      "\rMorphologyExtractor transform:  74%|███████▎  | 779599/1057452 [00:06<00:02, 115890.25it/s]"
     ]
    },
    {
     "name": "stderr",
     "output_type": "stream",
     "text": [
      "\rMorphologyExtractor transform:  75%|███████▍  | 791948/1057452 [00:07<00:02, 118054.16it/s]"
     ]
    },
    {
     "name": "stderr",
     "output_type": "stream",
     "text": [
      "\rMorphologyExtractor transform:  76%|███████▌  | 804197/1057452 [00:07<00:02, 119350.17it/s]"
     ]
    },
    {
     "name": "stderr",
     "output_type": "stream",
     "text": [
      "\rMorphologyExtractor transform:  77%|███████▋  | 816154/1057452 [00:07<00:02, 118113.36it/s]"
     ]
    },
    {
     "name": "stderr",
     "output_type": "stream",
     "text": [
      "\rMorphologyExtractor transform:  78%|███████▊  | 828619/1057452 [00:07<00:01, 120000.51it/s]"
     ]
    },
    {
     "name": "stderr",
     "output_type": "stream",
     "text": [
      "\rMorphologyExtractor transform:  79%|███████▉  | 840640/1057452 [00:07<00:01, 118124.04it/s]"
     ]
    },
    {
     "name": "stderr",
     "output_type": "stream",
     "text": [
      "\rMorphologyExtractor transform:  81%|████████  | 852999/1057452 [00:07<00:01, 119711.67it/s]"
     ]
    },
    {
     "name": "stderr",
     "output_type": "stream",
     "text": [
      "\rMorphologyExtractor transform:  82%|████████▏ | 864990/1057452 [00:07<00:01, 118169.45it/s]"
     ]
    },
    {
     "name": "stderr",
     "output_type": "stream",
     "text": [
      "\rMorphologyExtractor transform:  83%|████████▎ | 877212/1057452 [00:07<00:01, 119355.42it/s]"
     ]
    },
    {
     "name": "stderr",
     "output_type": "stream",
     "text": [
      "\rMorphologyExtractor transform:  84%|████████▍ | 889403/1057452 [00:07<00:01, 120110.18it/s]"
     ]
    },
    {
     "name": "stderr",
     "output_type": "stream",
     "text": [
      "\rMorphologyExtractor transform:  85%|████████▌ | 901427/1057452 [00:07<00:01, 118133.99it/s]"
     ]
    },
    {
     "name": "stderr",
     "output_type": "stream",
     "text": [
      "\rMorphologyExtractor transform:  86%|████████▋ | 913519/1057452 [00:08<00:01, 118952.07it/s]"
     ]
    },
    {
     "name": "stderr",
     "output_type": "stream",
     "text": [
      "\rMorphologyExtractor transform:  88%|████████▊ | 925667/1057452 [00:08<00:01, 119698.60it/s]"
     ]
    },
    {
     "name": "stderr",
     "output_type": "stream",
     "text": [
      "\rMorphologyExtractor transform:  89%|████████▉ | 938557/1057452 [00:08<00:00, 122315.70it/s]"
     ]
    },
    {
     "name": "stderr",
     "output_type": "stream",
     "text": [
      "\rMorphologyExtractor transform:  90%|████████▉ | 950810/1057452 [00:08<00:00, 120749.61it/s]"
     ]
    },
    {
     "name": "stderr",
     "output_type": "stream",
     "text": [
      "\rMorphologyExtractor transform:  91%|█████████ | 962905/1057452 [00:08<00:00, 120517.12it/s]"
     ]
    },
    {
     "name": "stderr",
     "output_type": "stream",
     "text": [
      "\rMorphologyExtractor transform:  92%|█████████▏| 974971/1057452 [00:08<00:00, 119627.93it/s]"
     ]
    },
    {
     "name": "stderr",
     "output_type": "stream",
     "text": [
      "\rMorphologyExtractor transform:  93%|█████████▎| 986945/1057452 [00:08<00:00, 119264.99it/s]"
     ]
    },
    {
     "name": "stderr",
     "output_type": "stream",
     "text": [
      "\rMorphologyExtractor transform:  94%|█████████▍| 999036/1057452 [00:08<00:00, 119738.79it/s]"
     ]
    },
    {
     "name": "stderr",
     "output_type": "stream",
     "text": [
      "\rMorphologyExtractor transform:  96%|█████████▌| 1011940/1057452 [00:08<00:00, 122369.26it/s]"
     ]
    },
    {
     "name": "stderr",
     "output_type": "stream",
     "text": [
      "\rMorphologyExtractor transform:  97%|█████████▋| 1024316/1057452 [00:08<00:00, 122782.44it/s]"
     ]
    },
    {
     "name": "stderr",
     "output_type": "stream",
     "text": [
      "\rMorphologyExtractor transform:  98%|█████████▊| 1036608/1057452 [00:09<00:00, 121490.72it/s]"
     ]
    },
    {
     "name": "stderr",
     "output_type": "stream",
     "text": [
      "\rMorphologyExtractor transform:  99%|█████████▉| 1048770/1057452 [00:09<00:00, 120557.65it/s]"
     ]
    },
    {
     "name": "stderr",
     "output_type": "stream",
     "text": [
      "\rMorphologyExtractor transform: 100%|██████████| 1057452/1057452 [00:09<00:00, 113802.77it/s]"
     ]
    },
    {
     "name": "stderr",
     "output_type": "stream",
     "text": [
      "\n"
     ]
    },
    {
     "name": "stderr",
     "output_type": "stream",
     "text": [
      "\rDigitTransformer transform:   0%|          | 0/1057452 [00:00<?, ?it/s]"
     ]
    },
    {
     "name": "stderr",
     "output_type": "stream",
     "text": [
      "\rDigitTransformer transform:   4%|▍         | 45042/1057452 [00:00<00:02, 450416.13it/s]"
     ]
    },
    {
     "name": "stderr",
     "output_type": "stream",
     "text": [
      "\rDigitTransformer transform:   8%|▊         | 86729/1057452 [00:00<00:02, 439797.57it/s]"
     ]
    },
    {
     "name": "stderr",
     "output_type": "stream",
     "text": [
      "\rDigitTransformer transform:  15%|█▌        | 159011/1057452 [00:00<00:01, 498333.82it/s]"
     ]
    },
    {
     "name": "stderr",
     "output_type": "stream",
     "text": [
      "\rDigitTransformer transform:  22%|██▏       | 235626/1057452 [00:00<00:01, 556714.60it/s]"
     ]
    },
    {
     "name": "stderr",
     "output_type": "stream",
     "text": [
      "\rDigitTransformer transform:  30%|███       | 318114/1057452 [00:00<00:01, 616876.51it/s]"
     ]
    },
    {
     "name": "stderr",
     "output_type": "stream",
     "text": [
      "\rDigitTransformer transform:  38%|███▊      | 406589/1057452 [00:00<00:00, 678503.59it/s]"
     ]
    },
    {
     "name": "stderr",
     "output_type": "stream",
     "text": [
      "\rDigitTransformer transform:  47%|████▋     | 496016/1057452 [00:00<00:00, 731446.43it/s]"
     ]
    },
    {
     "name": "stderr",
     "output_type": "stream",
     "text": [
      "\rDigitTransformer transform:  55%|█████▌    | 586374/1057452 [00:00<00:00, 775782.54it/s]"
     ]
    },
    {
     "name": "stderr",
     "output_type": "stream",
     "text": [
      "\rDigitTransformer transform:  64%|██████▍   | 678619/1057452 [00:00<00:00, 814638.48it/s]"
     ]
    },
    {
     "name": "stderr",
     "output_type": "stream",
     "text": [
      "\rDigitTransformer transform:  73%|███████▎  | 769267/1057452 [00:01<00:00, 840175.28it/s]"
     ]
    },
    {
     "name": "stderr",
     "output_type": "stream",
     "text": [
      "\rDigitTransformer transform:  82%|████████▏ | 863119/1057452 [00:01<00:00, 867441.71it/s]"
     ]
    },
    {
     "name": "stderr",
     "output_type": "stream",
     "text": [
      "\rDigitTransformer transform:  90%|█████████ | 956134/1057452 [00:01<00:00, 885345.90it/s]"
     ]
    },
    {
     "name": "stderr",
     "output_type": "stream",
     "text": [
      "\rDigitTransformer transform: 100%|█████████▉| 1052178/1057452 [00:01<00:00, 906608.71it/s]"
     ]
    },
    {
     "name": "stderr",
     "output_type": "stream",
     "text": [
      "\rDigitTransformer transform: 100%|██████████| 1057452/1057452 [00:01<00:00, 797012.97it/s]"
     ]
    },
    {
     "name": "stderr",
     "output_type": "stream",
     "text": [
      "\n"
     ]
    },
    {
     "name": "stderr",
     "output_type": "stream",
     "text": [
      "\rDashTransformer transform:   0%|          | 0/1057452 [00:00<?, ?it/s]"
     ]
    },
    {
     "name": "stderr",
     "output_type": "stream",
     "text": [
      "\rDashTransformer transform:   7%|▋         | 73801/1057452 [00:00<00:01, 738003.67it/s]"
     ]
    },
    {
     "name": "stderr",
     "output_type": "stream",
     "text": [
      "\rDashTransformer transform:  14%|█▍        | 148618/1057452 [00:00<00:01, 741022.55it/s]"
     ]
    },
    {
     "name": "stderr",
     "output_type": "stream",
     "text": [
      "\rDashTransformer transform:  22%|██▏       | 228328/1057452 [00:00<00:01, 756999.13it/s]"
     ]
    },
    {
     "name": "stderr",
     "output_type": "stream",
     "text": [
      "\rDashTransformer transform:  29%|██▉       | 310680/1057452 [00:00<00:00, 775796.57it/s]"
     ]
    },
    {
     "name": "stderr",
     "output_type": "stream",
     "text": [
      "\rDashTransformer transform:  37%|███▋      | 396161/1057452 [00:00<00:00, 797921.20it/s]"
     ]
    },
    {
     "name": "stderr",
     "output_type": "stream",
     "text": [
      "\rDashTransformer transform:  46%|████▌     | 483920/1057452 [00:00<00:00, 820260.17it/s]"
     ]
    },
    {
     "name": "stderr",
     "output_type": "stream",
     "text": [
      "\rDashTransformer transform:  54%|█████▍    | 572749/1057452 [00:00<00:00, 839544.40it/s]"
     ]
    },
    {
     "name": "stderr",
     "output_type": "stream",
     "text": [
      "\rDashTransformer transform:  62%|██████▏   | 660712/1057452 [00:00<00:00, 851179.02it/s]"
     ]
    },
    {
     "name": "stderr",
     "output_type": "stream",
     "text": [
      "\rDashTransformer transform:  71%|███████   | 750526/1057452 [00:00<00:00, 864743.10it/s]"
     ]
    },
    {
     "name": "stderr",
     "output_type": "stream",
     "text": [
      "\rDashTransformer transform:  79%|███████▉  | 839489/1057452 [00:01<00:00, 872060.14it/s]"
     ]
    },
    {
     "name": "stderr",
     "output_type": "stream",
     "text": [
      "\rDashTransformer transform:  88%|████████▊ | 928974/1057452 [00:01<00:00, 878773.90it/s]"
     ]
    },
    {
     "name": "stderr",
     "output_type": "stream",
     "text": [
      "\rDashTransformer transform:  96%|█████████▋| 1019784/1057452 [00:01<00:00, 887365.57it/s]"
     ]
    },
    {
     "name": "stderr",
     "output_type": "stream",
     "text": [
      "\rDashTransformer transform: 100%|██████████| 1057452/1057452 [00:01<00:00, 834187.56it/s]"
     ]
    },
    {
     "name": "stderr",
     "output_type": "stream",
     "text": [
      "\n"
     ]
    },
    {
     "name": "stderr",
     "output_type": "stream",
     "text": [
      "\rDictClassTransformer transform:   0%|          | 0/1057452 [00:00<?, ?it/s]"
     ]
    },
    {
     "name": "stderr",
     "output_type": "stream",
     "text": [
      "\rDictClassTransformer transform:   6%|▌         | 63489/1057452 [00:00<00:01, 634731.71it/s]"
     ]
    },
    {
     "name": "stderr",
     "output_type": "stream",
     "text": [
      "\rDictClassTransformer transform:  16%|█▌        | 164928/1057452 [00:00<00:01, 715011.73it/s]"
     ]
    },
    {
     "name": "stderr",
     "output_type": "stream",
     "text": [
      "\rDictClassTransformer transform:  26%|██▌       | 274625/1057452 [00:00<00:00, 798410.52it/s]"
     ]
    },
    {
     "name": "stderr",
     "output_type": "stream",
     "text": [
      "\rDictClassTransformer transform:  38%|███▊      | 397296/1057452 [00:00<00:00, 891821.02it/s]"
     ]
    },
    {
     "name": "stderr",
     "output_type": "stream",
     "text": [
      "\rDictClassTransformer transform:  49%|████▊     | 514436/1057452 [00:00<00:00, 960599.24it/s]"
     ]
    },
    {
     "name": "stderr",
     "output_type": "stream",
     "text": [
      "\rDictClassTransformer transform:  61%|██████    | 643159/1057452 [00:00<00:00, 1039748.85it/s]"
     ]
    },
    {
     "name": "stderr",
     "output_type": "stream",
     "text": [
      "\rDictClassTransformer transform:  73%|███████▎  | 773590/1057452 [00:00<00:00, 1107115.47it/s]"
     ]
    },
    {
     "name": "stderr",
     "output_type": "stream",
     "text": [
      "\rDictClassTransformer transform:  85%|████████▌ | 903798/1057452 [00:00<00:00, 1159185.60it/s]"
     ]
    },
    {
     "name": "stderr",
     "output_type": "stream",
     "text": [
      "\rDictClassTransformer transform:  98%|█████████▊| 1039413/1057452 [00:00<00:00, 1211991.05it/s]"
     ]
    },
    {
     "name": "stderr",
     "output_type": "stream",
     "text": [
      "\rDictClassTransformer transform: 100%|██████████| 1057452/1057452 [00:00<00:00, 1131732.12it/s]"
     ]
    },
    {
     "name": "stderr",
     "output_type": "stream",
     "text": [
      "\n"
     ]
    },
    {
     "name": "stderr",
     "output_type": "stream",
     "text": [
      "\rDictClassTransformer transform:   0%|          | 0/1057452 [00:00<?, ?it/s]"
     ]
    },
    {
     "name": "stderr",
     "output_type": "stream",
     "text": [
      "\rDictClassTransformer transform:   6%|▌         | 61659/1057452 [00:00<00:01, 616558.25it/s]"
     ]
    },
    {
     "name": "stderr",
     "output_type": "stream",
     "text": [
      "\rDictClassTransformer transform:  16%|█▌        | 164471/1057452 [00:00<00:01, 700707.07it/s]"
     ]
    },
    {
     "name": "stderr",
     "output_type": "stream",
     "text": [
      "\rDictClassTransformer transform:  27%|██▋       | 283797/1057452 [00:00<00:00, 799740.77it/s]"
     ]
    },
    {
     "name": "stderr",
     "output_type": "stream",
     "text": [
      "\rDictClassTransformer transform:  38%|███▊      | 402920/1057452 [00:00<00:00, 887211.53it/s]"
     ]
    },
    {
     "name": "stderr",
     "output_type": "stream",
     "text": [
      "\rDictClassTransformer transform:  50%|█████     | 533559/1057452 [00:00<00:00, 981709.50it/s]"
     ]
    },
    {
     "name": "stderr",
     "output_type": "stream",
     "text": [
      "\rDictClassTransformer transform:  63%|██████▎   | 661771/1057452 [00:00<00:00, 1055933.11it/s]"
     ]
    },
    {
     "name": "stderr",
     "output_type": "stream",
     "text": [
      "\rDictClassTransformer transform:  75%|███████▍  | 790869/1057452 [00:00<00:00, 1116937.89it/s]"
     ]
    },
    {
     "name": "stderr",
     "output_type": "stream",
     "text": [
      "\rDictClassTransformer transform:  88%|████████▊ | 930322/1057452 [00:00<00:00, 1187872.01it/s]"
     ]
    },
    {
     "name": "stderr",
     "output_type": "stream",
     "text": [
      "\rDictClassTransformer transform: 100%|██████████| 1057452/1057452 [00:00<00:00, 1156237.53it/s]"
     ]
    },
    {
     "name": "stderr",
     "output_type": "stream",
     "text": [
      "\n"
     ]
    },
    {
     "name": "stderr",
     "output_type": "stream",
     "text": [
      "\rMorphologyExtractor transform:   0%|          | 0/1057452 [00:00<?, ?it/s]"
     ]
    },
    {
     "name": "stderr",
     "output_type": "stream",
     "text": [
      "\rMorphologyExtractor transform:   0%|          | 994/1057452 [00:00<01:46, 9937.31it/s]"
     ]
    },
    {
     "name": "stderr",
     "output_type": "stream",
     "text": [
      "\rMorphologyExtractor transform:   0%|          | 2158/1057452 [00:00<01:41, 10374.76it/s]"
     ]
    },
    {
     "name": "stderr",
     "output_type": "stream",
     "text": [
      "\rMorphologyExtractor transform:   0%|          | 4872/1057452 [00:00<01:22, 12734.55it/s]"
     ]
    },
    {
     "name": "stderr",
     "output_type": "stream",
     "text": [
      "\rMorphologyExtractor transform:   1%|          | 7749/1057452 [00:00<01:08, 15290.77it/s]"
     ]
    },
    {
     "name": "stderr",
     "output_type": "stream",
     "text": [
      "\rMorphologyExtractor transform:   1%|          | 10929/1057452 [00:00<00:57, 18110.71it/s]"
     ]
    },
    {
     "name": "stderr",
     "output_type": "stream",
     "text": [
      "\rMorphologyExtractor transform:   1%|▏         | 14301/1057452 [00:00<00:49, 21029.03it/s]"
     ]
    },
    {
     "name": "stderr",
     "output_type": "stream",
     "text": [
      "\rMorphologyExtractor transform:   2%|▏         | 17725/1057452 [00:00<00:43, 23779.02it/s]"
     ]
    },
    {
     "name": "stderr",
     "output_type": "stream",
     "text": [
      "\rMorphologyExtractor transform:   2%|▏         | 21453/1057452 [00:00<00:38, 26676.86it/s]"
     ]
    },
    {
     "name": "stderr",
     "output_type": "stream",
     "text": [
      "\rMorphologyExtractor transform:   2%|▏         | 25132/1057452 [00:00<00:35, 29074.48it/s]"
     ]
    },
    {
     "name": "stderr",
     "output_type": "stream",
     "text": [
      "\rMorphologyExtractor transform:   3%|▎         | 29120/1057452 [00:01<00:32, 31646.00it/s]"
     ]
    },
    {
     "name": "stderr",
     "output_type": "stream",
     "text": [
      "\rMorphologyExtractor transform:   3%|▎         | 33208/1057452 [00:01<00:30, 33945.16it/s]"
     ]
    },
    {
     "name": "stderr",
     "output_type": "stream",
     "text": [
      "\rMorphologyExtractor transform:   4%|▎         | 37152/1057452 [00:01<00:28, 35425.48it/s]"
     ]
    },
    {
     "name": "stderr",
     "output_type": "stream",
     "text": [
      "\rMorphologyExtractor transform:   4%|▍         | 41374/1057452 [00:01<00:27, 37222.55it/s]"
     ]
    },
    {
     "name": "stderr",
     "output_type": "stream",
     "text": [
      "\rMorphologyExtractor transform:   4%|▍         | 45487/1057452 [00:01<00:26, 38306.08it/s]"
     ]
    },
    {
     "name": "stderr",
     "output_type": "stream",
     "text": [
      "\rMorphologyExtractor transform:   5%|▍         | 49755/1057452 [00:01<00:25, 39512.04it/s]"
     ]
    },
    {
     "name": "stderr",
     "output_type": "stream",
     "text": [
      "\rMorphologyExtractor transform:   5%|▌         | 53995/1057452 [00:01<00:24, 40326.50it/s]"
     ]
    },
    {
     "name": "stderr",
     "output_type": "stream",
     "text": [
      "\rMorphologyExtractor transform:   6%|▌         | 58743/1057452 [00:01<00:23, 42234.14it/s]"
     ]
    },
    {
     "name": "stderr",
     "output_type": "stream",
     "text": [
      "\rMorphologyExtractor transform:   6%|▌         | 63040/1057452 [00:01<00:23, 42350.06it/s]"
     ]
    },
    {
     "name": "stderr",
     "output_type": "stream",
     "text": [
      "\rMorphologyExtractor transform:   6%|▋         | 67413/1057452 [00:01<00:23, 42753.53it/s]"
     ]
    },
    {
     "name": "stderr",
     "output_type": "stream",
     "text": [
      "\rMorphologyExtractor transform:   7%|▋         | 71726/1057452 [00:02<00:23, 42595.91it/s]"
     ]
    },
    {
     "name": "stderr",
     "output_type": "stream",
     "text": [
      "\rMorphologyExtractor transform:   7%|▋         | 76519/1057452 [00:02<00:22, 44064.48it/s]"
     ]
    },
    {
     "name": "stderr",
     "output_type": "stream",
     "text": [
      "\rMorphologyExtractor transform:   8%|▊         | 81600/1057452 [00:02<00:21, 45889.80it/s]"
     ]
    },
    {
     "name": "stderr",
     "output_type": "stream",
     "text": [
      "\rMorphologyExtractor transform:   8%|▊         | 86263/1057452 [00:02<00:21, 46107.04it/s]"
     ]
    },
    {
     "name": "stderr",
     "output_type": "stream",
     "text": [
      "\rMorphologyExtractor transform:   9%|▊         | 91094/1057452 [00:02<00:20, 46727.67it/s]"
     ]
    },
    {
     "name": "stderr",
     "output_type": "stream",
     "text": [
      "\rMorphologyExtractor transform:   9%|▉         | 96038/1057452 [00:02<00:20, 47507.98it/s]"
     ]
    },
    {
     "name": "stderr",
     "output_type": "stream",
     "text": [
      "\rMorphologyExtractor transform:  10%|▉         | 101333/1057452 [00:02<00:19, 49019.11it/s]"
     ]
    },
    {
     "name": "stderr",
     "output_type": "stream",
     "text": [
      "\rMorphologyExtractor transform:  10%|█         | 106351/1057452 [00:02<00:19, 49361.57it/s]"
     ]
    },
    {
     "name": "stderr",
     "output_type": "stream",
     "text": [
      "\rMorphologyExtractor transform:  11%|█         | 111306/1057452 [00:02<00:19, 48653.54it/s]"
     ]
    },
    {
     "name": "stderr",
     "output_type": "stream",
     "text": [
      "\rMorphologyExtractor transform:  11%|█         | 116654/1057452 [00:02<00:18, 50001.42it/s]"
     ]
    },
    {
     "name": "stderr",
     "output_type": "stream",
     "text": [
      "\rMorphologyExtractor transform:  12%|█▏        | 121691/1057452 [00:03<00:18, 50111.30it/s]"
     ]
    },
    {
     "name": "stderr",
     "output_type": "stream",
     "text": [
      "\rMorphologyExtractor transform:  12%|█▏        | 127001/1057452 [00:03<00:18, 50971.96it/s]"
     ]
    },
    {
     "name": "stderr",
     "output_type": "stream",
     "text": [
      "\rMorphologyExtractor transform:  12%|█▏        | 132112/1057452 [00:03<00:18, 50700.44it/s]"
     ]
    },
    {
     "name": "stderr",
     "output_type": "stream",
     "text": [
      "\rMorphologyExtractor transform:  13%|█▎        | 137656/1057452 [00:03<00:17, 52022.94it/s]"
     ]
    },
    {
     "name": "stderr",
     "output_type": "stream",
     "text": [
      "\rMorphologyExtractor transform:  14%|█▎        | 143078/1057452 [00:03<00:17, 52663.11it/s]"
     ]
    },
    {
     "name": "stderr",
     "output_type": "stream",
     "text": [
      "\rMorphologyExtractor transform:  14%|█▍        | 148357/1057452 [00:03<00:17, 51902.57it/s]"
     ]
    },
    {
     "name": "stderr",
     "output_type": "stream",
     "text": [
      "\rMorphologyExtractor transform:  15%|█▍        | 153660/1057452 [00:03<00:17, 52216.14it/s]"
     ]
    },
    {
     "name": "stderr",
     "output_type": "stream",
     "text": [
      "\rMorphologyExtractor transform:  15%|█▌        | 159206/1057452 [00:03<00:16, 53121.27it/s]"
     ]
    },
    {
     "name": "stderr",
     "output_type": "stream",
     "text": [
      "\rMorphologyExtractor transform:  16%|█▌        | 164637/1057452 [00:03<00:16, 53462.46it/s]"
     ]
    },
    {
     "name": "stderr",
     "output_type": "stream",
     "text": [
      "\rMorphologyExtractor transform:  16%|█▌        | 169991/1057452 [00:03<00:17, 52061.35it/s]"
     ]
    },
    {
     "name": "stderr",
     "output_type": "stream",
     "text": [
      "\rMorphologyExtractor transform:  17%|█▋        | 175611/1057452 [00:04<00:16, 53231.02it/s]"
     ]
    },
    {
     "name": "stderr",
     "output_type": "stream",
     "text": [
      "\rMorphologyExtractor transform:  17%|█▋        | 180950/1057452 [00:04<00:16, 53063.99it/s]"
     ]
    },
    {
     "name": "stderr",
     "output_type": "stream",
     "text": [
      "\rMorphologyExtractor transform:  18%|█▊        | 186872/1057452 [00:04<00:15, 54770.97it/s]"
     ]
    },
    {
     "name": "stderr",
     "output_type": "stream",
     "text": [
      "\rMorphologyExtractor transform:  18%|█▊        | 192575/1057452 [00:04<00:15, 55426.94it/s]"
     ]
    },
    {
     "name": "stderr",
     "output_type": "stream",
     "text": [
      "\rMorphologyExtractor transform:  19%|█▊        | 198243/1057452 [00:04<00:15, 55791.72it/s]"
     ]
    },
    {
     "name": "stderr",
     "output_type": "stream",
     "text": [
      "\rMorphologyExtractor transform:  19%|█▉        | 203835/1057452 [00:04<00:15, 55357.76it/s]"
     ]
    },
    {
     "name": "stderr",
     "output_type": "stream",
     "text": [
      "\rMorphologyExtractor transform:  20%|█▉        | 209504/1057452 [00:04<00:15, 55748.82it/s]"
     ]
    },
    {
     "name": "stderr",
     "output_type": "stream",
     "text": [
      "\rMorphologyExtractor transform:  20%|██        | 215442/1057452 [00:04<00:14, 56786.61it/s]"
     ]
    },
    {
     "name": "stderr",
     "output_type": "stream",
     "text": [
      "\rMorphologyExtractor transform:  21%|██        | 221757/1057452 [00:04<00:14, 58537.88it/s]"
     ]
    },
    {
     "name": "stderr",
     "output_type": "stream",
     "text": [
      "\rMorphologyExtractor transform:  22%|██▏       | 227783/1057452 [00:04<00:14, 59043.94it/s]"
     ]
    },
    {
     "name": "stderr",
     "output_type": "stream",
     "text": [
      "\rMorphologyExtractor transform:  22%|██▏       | 233725/1057452 [00:05<00:13, 59156.11it/s]"
     ]
    },
    {
     "name": "stderr",
     "output_type": "stream",
     "text": [
      "\rMorphologyExtractor transform:  23%|██▎       | 239791/1057452 [00:05<00:13, 59574.41it/s]"
     ]
    },
    {
     "name": "stderr",
     "output_type": "stream",
     "text": [
      "\rMorphologyExtractor transform:  23%|██▎       | 246031/1057452 [00:05<00:13, 60383.45it/s]"
     ]
    },
    {
     "name": "stderr",
     "output_type": "stream",
     "text": [
      "\rMorphologyExtractor transform:  24%|██▍       | 252246/1057452 [00:05<00:13, 60901.35it/s]"
     ]
    },
    {
     "name": "stderr",
     "output_type": "stream",
     "text": [
      "\rMorphologyExtractor transform:  24%|██▍       | 258374/1057452 [00:05<00:13, 61006.60it/s]"
     ]
    },
    {
     "name": "stderr",
     "output_type": "stream",
     "text": [
      "\rMorphologyExtractor transform:  25%|██▌       | 264480/1057452 [00:05<00:13, 59649.71it/s]"
     ]
    },
    {
     "name": "stderr",
     "output_type": "stream",
     "text": [
      "\rMorphologyExtractor transform:  26%|██▌       | 270563/1057452 [00:05<00:13, 59994.02it/s]"
     ]
    },
    {
     "name": "stderr",
     "output_type": "stream",
     "text": [
      "\rMorphologyExtractor transform:  26%|██▌       | 276570/1057452 [00:06<00:35, 21815.60it/s]"
     ]
    },
    {
     "name": "stderr",
     "output_type": "stream",
     "text": [
      "\rMorphologyExtractor transform:  27%|██▋       | 282486/1057452 [00:06<00:28, 26909.00it/s]"
     ]
    },
    {
     "name": "stderr",
     "output_type": "stream",
     "text": [
      "\rMorphologyExtractor transform:  27%|██▋       | 288773/1057452 [00:06<00:23, 32474.17it/s]"
     ]
    },
    {
     "name": "stderr",
     "output_type": "stream",
     "text": [
      "\rMorphologyExtractor transform:  28%|██▊       | 294780/1057452 [00:06<00:20, 37664.92it/s]"
     ]
    },
    {
     "name": "stderr",
     "output_type": "stream",
     "text": [
      "\rMorphologyExtractor transform:  28%|██▊       | 300365/1057452 [00:06<00:18, 41742.28it/s]"
     ]
    },
    {
     "name": "stderr",
     "output_type": "stream",
     "text": [
      "\rMorphologyExtractor transform:  29%|██▉       | 306492/1057452 [00:06<00:16, 46143.62it/s]"
     ]
    },
    {
     "name": "stderr",
     "output_type": "stream",
     "text": [
      "\rMorphologyExtractor transform:  30%|██▉       | 312432/1057452 [00:06<00:15, 49450.13it/s]"
     ]
    },
    {
     "name": "stderr",
     "output_type": "stream",
     "text": [
      "\rMorphologyExtractor transform:  30%|███       | 318858/1057452 [00:07<00:13, 53122.81it/s]"
     ]
    },
    {
     "name": "stderr",
     "output_type": "stream",
     "text": [
      "\rMorphologyExtractor transform:  31%|███       | 325139/1057452 [00:07<00:13, 55683.97it/s]"
     ]
    },
    {
     "name": "stderr",
     "output_type": "stream",
     "text": [
      "\rMorphologyExtractor transform:  31%|███▏      | 331510/1057452 [00:07<00:12, 57870.67it/s]"
     ]
    },
    {
     "name": "stderr",
     "output_type": "stream",
     "text": [
      "\rMorphologyExtractor transform:  32%|███▏      | 337697/1057452 [00:07<00:12, 59014.92it/s]"
     ]
    },
    {
     "name": "stderr",
     "output_type": "stream",
     "text": [
      "\rMorphologyExtractor transform:  33%|███▎      | 343980/1057452 [00:07<00:11, 60101.93it/s]"
     ]
    },
    {
     "name": "stderr",
     "output_type": "stream",
     "text": [
      "\rMorphologyExtractor transform:  33%|███▎      | 350315/1057452 [00:07<00:11, 61040.14it/s]"
     ]
    },
    {
     "name": "stderr",
     "output_type": "stream",
     "text": [
      "\rMorphologyExtractor transform:  34%|███▎      | 356833/1057452 [00:07<00:11, 62217.67it/s]"
     ]
    },
    {
     "name": "stderr",
     "output_type": "stream",
     "text": [
      "\rMorphologyExtractor transform:  34%|███▍      | 363156/1057452 [00:07<00:11, 62100.00it/s]"
     ]
    },
    {
     "name": "stderr",
     "output_type": "stream",
     "text": [
      "\rMorphologyExtractor transform:  35%|███▍      | 369437/1057452 [00:07<00:11, 60850.36it/s]"
     ]
    },
    {
     "name": "stderr",
     "output_type": "stream",
     "text": [
      "\rMorphologyExtractor transform:  36%|███▌      | 375578/1057452 [00:07<00:11, 60774.24it/s]"
     ]
    },
    {
     "name": "stderr",
     "output_type": "stream",
     "text": [
      "\rMorphologyExtractor transform:  36%|███▌      | 381992/1057452 [00:08<00:10, 61736.83it/s]"
     ]
    },
    {
     "name": "stderr",
     "output_type": "stream",
     "text": [
      "\rMorphologyExtractor transform:  37%|███▋      | 388197/1057452 [00:08<00:10, 61565.26it/s]"
     ]
    },
    {
     "name": "stderr",
     "output_type": "stream",
     "text": [
      "\rMorphologyExtractor transform:  37%|███▋      | 394376/1057452 [00:08<00:11, 60230.87it/s]"
     ]
    },
    {
     "name": "stderr",
     "output_type": "stream",
     "text": [
      "\rMorphologyExtractor transform:  38%|███▊      | 400589/1057452 [00:08<00:10, 60788.28it/s]"
     ]
    },
    {
     "name": "stderr",
     "output_type": "stream",
     "text": [
      "\rMorphologyExtractor transform:  39%|███▊      | 407237/1057452 [00:08<00:10, 62384.79it/s]"
     ]
    },
    {
     "name": "stderr",
     "output_type": "stream",
     "text": [
      "\rMorphologyExtractor transform:  39%|███▉      | 413566/1057452 [00:08<00:10, 62627.43it/s]"
     ]
    },
    {
     "name": "stderr",
     "output_type": "stream",
     "text": [
      "\rMorphologyExtractor transform:  40%|███▉      | 420213/1057452 [00:08<00:10, 63718.24it/s]"
     ]
    },
    {
     "name": "stderr",
     "output_type": "stream",
     "text": [
      "\rMorphologyExtractor transform:  40%|████      | 426964/1057452 [00:08<00:09, 64809.72it/s]"
     ]
    },
    {
     "name": "stderr",
     "output_type": "stream",
     "text": [
      "\rMorphologyExtractor transform:  41%|████      | 433488/1057452 [00:08<00:09, 64927.50it/s]"
     ]
    },
    {
     "name": "stderr",
     "output_type": "stream",
     "text": [
      "\rMorphologyExtractor transform:  42%|████▏     | 439992/1057452 [00:08<00:09, 64200.75it/s]"
     ]
    },
    {
     "name": "stderr",
     "output_type": "stream",
     "text": [
      "\rMorphologyExtractor transform:  42%|████▏     | 446685/1057452 [00:09<00:09, 64992.45it/s]"
     ]
    },
    {
     "name": "stderr",
     "output_type": "stream",
     "text": [
      "\rMorphologyExtractor transform:  43%|████▎     | 453194/1057452 [00:09<00:09, 61992.87it/s]"
     ]
    },
    {
     "name": "stderr",
     "output_type": "stream",
     "text": [
      "\rMorphologyExtractor transform:  43%|████▎     | 459894/1057452 [00:09<00:09, 63410.09it/s]"
     ]
    },
    {
     "name": "stderr",
     "output_type": "stream",
     "text": [
      "\rMorphologyExtractor transform:  44%|████▍     | 466706/1057452 [00:09<00:09, 64746.55it/s]"
     ]
    },
    {
     "name": "stderr",
     "output_type": "stream",
     "text": [
      "\rMorphologyExtractor transform:  45%|████▍     | 473529/1057452 [00:09<00:08, 65749.87it/s]"
     ]
    },
    {
     "name": "stderr",
     "output_type": "stream",
     "text": [
      "\rMorphologyExtractor transform:  45%|████▌     | 480129/1057452 [00:09<00:08, 65029.85it/s]"
     ]
    },
    {
     "name": "stderr",
     "output_type": "stream",
     "text": [
      "\rMorphologyExtractor transform:  46%|████▌     | 486748/1057452 [00:09<00:08, 65373.06it/s]"
     ]
    },
    {
     "name": "stderr",
     "output_type": "stream",
     "text": [
      "\rMorphologyExtractor transform:  47%|████▋     | 493300/1057452 [00:09<00:08, 64264.98it/s]"
     ]
    },
    {
     "name": "stderr",
     "output_type": "stream",
     "text": [
      "\rMorphologyExtractor transform:  47%|████▋     | 500284/1057452 [00:09<00:08, 65834.30it/s]"
     ]
    },
    {
     "name": "stderr",
     "output_type": "stream",
     "text": [
      "\rMorphologyExtractor transform:  48%|████▊     | 507161/1057452 [00:09<00:08, 66687.53it/s]"
     ]
    },
    {
     "name": "stderr",
     "output_type": "stream",
     "text": [
      "\rMorphologyExtractor transform:  49%|████▊     | 514599/1057452 [00:10<00:07, 68820.00it/s]"
     ]
    },
    {
     "name": "stderr",
     "output_type": "stream",
     "text": [
      "\rMorphologyExtractor transform:  49%|████▉     | 521655/1057452 [00:10<00:07, 69280.46it/s]"
     ]
    },
    {
     "name": "stderr",
     "output_type": "stream",
     "text": [
      "\rMorphologyExtractor transform:  50%|█████     | 528928/1057452 [00:10<00:07, 70256.84it/s]"
     ]
    },
    {
     "name": "stderr",
     "output_type": "stream",
     "text": [
      "\rMorphologyExtractor transform:  51%|█████     | 535972/1057452 [00:10<00:07, 70181.98it/s]"
     ]
    },
    {
     "name": "stderr",
     "output_type": "stream",
     "text": [
      "\rMorphologyExtractor transform:  51%|█████▏    | 543003/1057452 [00:10<00:07, 69128.14it/s]"
     ]
    },
    {
     "name": "stderr",
     "output_type": "stream",
     "text": [
      "\rMorphologyExtractor transform:  52%|█████▏    | 550088/1057452 [00:10<00:07, 69635.82it/s]"
     ]
    },
    {
     "name": "stderr",
     "output_type": "stream",
     "text": [
      "\rMorphologyExtractor transform:  53%|█████▎    | 557062/1057452 [00:10<00:07, 69534.75it/s]"
     ]
    },
    {
     "name": "stderr",
     "output_type": "stream",
     "text": [
      "\rMorphologyExtractor transform:  53%|█████▎    | 564245/1057452 [00:10<00:07, 70157.18it/s]"
     ]
    },
    {
     "name": "stderr",
     "output_type": "stream",
     "text": [
      "\rMorphologyExtractor transform:  54%|█████▍    | 571267/1057452 [00:10<00:06, 69618.73it/s]"
     ]
    },
    {
     "name": "stderr",
     "output_type": "stream",
     "text": [
      "\rMorphologyExtractor transform:  55%|█████▍    | 578235/1057452 [00:10<00:06, 68886.78it/s]"
     ]
    },
    {
     "name": "stderr",
     "output_type": "stream",
     "text": [
      "\rMorphologyExtractor transform:  55%|█████▌    | 585186/1057452 [00:11<00:06, 69065.76it/s]"
     ]
    },
    {
     "name": "stderr",
     "output_type": "stream",
     "text": [
      "\rMorphologyExtractor transform:  56%|█████▌    | 593056/1057452 [00:11<00:06, 71695.81it/s]"
     ]
    },
    {
     "name": "stderr",
     "output_type": "stream",
     "text": [
      "\rMorphologyExtractor transform:  57%|█████▋    | 600254/1057452 [00:11<00:06, 71316.98it/s]"
     ]
    },
    {
     "name": "stderr",
     "output_type": "stream",
     "text": [
      "\rMorphologyExtractor transform:  57%|█████▋    | 607407/1057452 [00:11<00:06, 70269.67it/s]"
     ]
    },
    {
     "name": "stderr",
     "output_type": "stream",
     "text": [
      "\rMorphologyExtractor transform:  58%|█████▊    | 614452/1057452 [00:11<00:06, 69991.87it/s]"
     ]
    },
    {
     "name": "stderr",
     "output_type": "stream",
     "text": [
      "\rMorphologyExtractor transform:  59%|█████▉    | 621734/1057452 [00:11<00:06, 70814.24it/s]"
     ]
    },
    {
     "name": "stderr",
     "output_type": "stream",
     "text": [
      "\rMorphologyExtractor transform:  59%|█████▉    | 628827/1057452 [00:11<00:06, 70521.20it/s]"
     ]
    },
    {
     "name": "stderr",
     "output_type": "stream",
     "text": [
      "\rMorphologyExtractor transform:  60%|██████    | 636400/1057452 [00:11<00:05, 72006.60it/s]"
     ]
    },
    {
     "name": "stderr",
     "output_type": "stream",
     "text": [
      "\rMorphologyExtractor transform:  61%|██████    | 643621/1057452 [00:11<00:05, 72039.65it/s]"
     ]
    },
    {
     "name": "stderr",
     "output_type": "stream",
     "text": [
      "\rMorphologyExtractor transform:  62%|██████▏   | 650835/1057452 [00:12<00:05, 71091.96it/s]"
     ]
    },
    {
     "name": "stderr",
     "output_type": "stream",
     "text": [
      "\rMorphologyExtractor transform:  62%|██████▏   | 657954/1057452 [00:12<00:05, 70935.54it/s]"
     ]
    },
    {
     "name": "stderr",
     "output_type": "stream",
     "text": [
      "\rMorphologyExtractor transform:  63%|██████▎   | 665451/1057452 [00:12<00:05, 72095.54it/s]"
     ]
    },
    {
     "name": "stderr",
     "output_type": "stream",
     "text": [
      "\rMorphologyExtractor transform:  64%|██████▎   | 672670/1057452 [00:12<00:05, 71886.03it/s]"
     ]
    },
    {
     "name": "stderr",
     "output_type": "stream",
     "text": [
      "\rMorphologyExtractor transform:  64%|██████▍   | 679901/1057452 [00:12<00:05, 72012.26it/s]"
     ]
    },
    {
     "name": "stderr",
     "output_type": "stream",
     "text": [
      "\rMorphologyExtractor transform:  65%|██████▍   | 687272/1057452 [00:12<00:05, 72510.73it/s]"
     ]
    },
    {
     "name": "stderr",
     "output_type": "stream",
     "text": [
      "\rMorphologyExtractor transform:  66%|██████▌   | 694797/1057452 [00:12<00:04, 73302.98it/s]"
     ]
    },
    {
     "name": "stderr",
     "output_type": "stream",
     "text": [
      "\rMorphologyExtractor transform:  66%|██████▋   | 702411/1057452 [00:12<00:04, 74130.99it/s]"
     ]
    },
    {
     "name": "stderr",
     "output_type": "stream",
     "text": [
      "\rMorphologyExtractor transform:  67%|██████▋   | 709830/1057452 [00:12<00:04, 73975.04it/s]"
     ]
    },
    {
     "name": "stderr",
     "output_type": "stream",
     "text": [
      "\rMorphologyExtractor transform:  68%|██████▊   | 717232/1057452 [00:12<00:04, 73794.65it/s]"
     ]
    },
    {
     "name": "stderr",
     "output_type": "stream",
     "text": [
      "\rMorphologyExtractor transform:  69%|██████▊   | 724615/1057452 [00:13<00:04, 73732.94it/s]"
     ]
    },
    {
     "name": "stderr",
     "output_type": "stream",
     "text": [
      "\rMorphologyExtractor transform:  69%|██████▉   | 731991/1057452 [00:13<00:04, 73633.24it/s]"
     ]
    },
    {
     "name": "stderr",
     "output_type": "stream",
     "text": [
      "\rMorphologyExtractor transform:  70%|██████▉   | 739780/1057452 [00:13<00:04, 74860.16it/s]"
     ]
    },
    {
     "name": "stderr",
     "output_type": "stream",
     "text": [
      "\rMorphologyExtractor transform:  71%|███████   | 747273/1057452 [00:13<00:04, 74053.36it/s]"
     ]
    },
    {
     "name": "stderr",
     "output_type": "stream",
     "text": [
      "\rMorphologyExtractor transform:  71%|███████▏  | 754685/1057452 [00:13<00:04, 73849.75it/s]"
     ]
    },
    {
     "name": "stderr",
     "output_type": "stream",
     "text": [
      "\rMorphologyExtractor transform:  72%|███████▏  | 762178/1057452 [00:13<00:03, 74128.94it/s]"
     ]
    },
    {
     "name": "stderr",
     "output_type": "stream",
     "text": [
      "\rMorphologyExtractor transform:  73%|███████▎  | 769595/1057452 [00:13<00:03, 72250.81it/s]"
     ]
    },
    {
     "name": "stderr",
     "output_type": "stream",
     "text": [
      "\rMorphologyExtractor transform:  73%|███████▎  | 776833/1057452 [00:13<00:03, 70887.49it/s]"
     ]
    },
    {
     "name": "stderr",
     "output_type": "stream",
     "text": [
      "\rMorphologyExtractor transform:  74%|███████▍  | 784115/1057452 [00:13<00:03, 71450.24it/s]"
     ]
    },
    {
     "name": "stderr",
     "output_type": "stream",
     "text": [
      "\rMorphologyExtractor transform:  75%|███████▍  | 791696/1057452 [00:13<00:03, 72677.04it/s]"
     ]
    },
    {
     "name": "stderr",
     "output_type": "stream",
     "text": [
      "\rMorphologyExtractor transform:  76%|███████▌  | 798977/1057452 [00:14<00:03, 71318.74it/s]"
     ]
    },
    {
     "name": "stderr",
     "output_type": "stream",
     "text": [
      "\rMorphologyExtractor transform:  76%|███████▋  | 806397/1057452 [00:14<00:03, 72158.51it/s]"
     ]
    },
    {
     "name": "stderr",
     "output_type": "stream",
     "text": [
      "\rMorphologyExtractor transform:  77%|███████▋  | 813626/1057452 [00:14<00:04, 55816.72it/s]"
     ]
    },
    {
     "name": "stderr",
     "output_type": "stream",
     "text": [
      "\rMorphologyExtractor transform:  78%|███████▊  | 821060/1057452 [00:14<00:03, 60309.68it/s]"
     ]
    },
    {
     "name": "stderr",
     "output_type": "stream",
     "text": [
      "\rMorphologyExtractor transform:  78%|███████▊  | 827597/1057452 [00:14<00:03, 60149.80it/s]"
     ]
    },
    {
     "name": "stderr",
     "output_type": "stream",
     "text": [
      "\rMorphologyExtractor transform:  79%|███████▉  | 834438/1057452 [00:14<00:03, 62410.19it/s]"
     ]
    },
    {
     "name": "stderr",
     "output_type": "stream",
     "text": [
      "\rMorphologyExtractor transform:  80%|███████▉  | 841888/1057452 [00:14<00:03, 65581.30it/s]"
     ]
    },
    {
     "name": "stderr",
     "output_type": "stream",
     "text": [
      "\rMorphologyExtractor transform:  80%|████████  | 849215/1057452 [00:14<00:03, 67682.39it/s]"
     ]
    },
    {
     "name": "stderr",
     "output_type": "stream",
     "text": [
      "\rMorphologyExtractor transform:  81%|████████  | 856163/1057452 [00:14<00:03, 66220.89it/s]"
     ]
    },
    {
     "name": "stderr",
     "output_type": "stream",
     "text": [
      "\rMorphologyExtractor transform:  82%|████████▏ | 863032/1057452 [00:15<00:02, 66935.75it/s]"
     ]
    },
    {
     "name": "stderr",
     "output_type": "stream",
     "text": [
      "\rMorphologyExtractor transform:  82%|████████▏ | 869827/1057452 [00:15<00:02, 67236.04it/s]"
     ]
    },
    {
     "name": "stderr",
     "output_type": "stream",
     "text": [
      "\rMorphologyExtractor transform:  83%|████████▎ | 876618/1057452 [00:15<00:02, 65992.83it/s]"
     ]
    },
    {
     "name": "stderr",
     "output_type": "stream",
     "text": [
      "\rMorphologyExtractor transform:  84%|████████▎ | 883269/1057452 [00:15<00:02, 65450.36it/s]"
     ]
    },
    {
     "name": "stderr",
     "output_type": "stream",
     "text": [
      "\rMorphologyExtractor transform:  84%|████████▍ | 890233/1057452 [00:15<00:02, 66645.15it/s]"
     ]
    },
    {
     "name": "stderr",
     "output_type": "stream",
     "text": [
      "\rMorphologyExtractor transform:  85%|████████▍ | 898290/1057452 [00:15<00:02, 70288.33it/s]"
     ]
    },
    {
     "name": "stderr",
     "output_type": "stream",
     "text": [
      "\rMorphologyExtractor transform:  86%|████████▌ | 905922/1057452 [00:15<00:02, 71988.56it/s]"
     ]
    },
    {
     "name": "stderr",
     "output_type": "stream",
     "text": [
      "\rMorphologyExtractor transform:  86%|████████▋ | 913184/1057452 [00:15<00:02, 71506.72it/s]"
     ]
    },
    {
     "name": "stderr",
     "output_type": "stream",
     "text": [
      "\rMorphologyExtractor transform:  87%|████████▋ | 920380/1057452 [00:15<00:02, 66942.66it/s]"
     ]
    },
    {
     "name": "stderr",
     "output_type": "stream",
     "text": [
      "\rMorphologyExtractor transform:  88%|████████▊ | 927165/1057452 [00:16<00:02, 58593.94it/s]"
     ]
    },
    {
     "name": "stderr",
     "output_type": "stream",
     "text": [
      "\rMorphologyExtractor transform:  88%|████████▊ | 934087/1057452 [00:16<00:02, 61422.02it/s]"
     ]
    },
    {
     "name": "stderr",
     "output_type": "stream",
     "text": [
      "\rMorphologyExtractor transform:  89%|████████▉ | 941281/1057452 [00:16<00:01, 64233.12it/s]"
     ]
    },
    {
     "name": "stderr",
     "output_type": "stream",
     "text": [
      "\rMorphologyExtractor transform:  90%|████████▉ | 949036/1057452 [00:16<00:01, 67700.41it/s]"
     ]
    },
    {
     "name": "stderr",
     "output_type": "stream",
     "text": [
      "\rMorphologyExtractor transform:  91%|█████████ | 957844/1057452 [00:16<00:01, 72715.43it/s]"
     ]
    },
    {
     "name": "stderr",
     "output_type": "stream",
     "text": [
      "\rMorphologyExtractor transform:  91%|█████████▏| 965841/1057452 [00:16<00:01, 74734.46it/s]"
     ]
    },
    {
     "name": "stderr",
     "output_type": "stream",
     "text": [
      "\rMorphologyExtractor transform:  92%|█████████▏| 973853/1057452 [00:16<00:01, 76272.35it/s]"
     ]
    },
    {
     "name": "stderr",
     "output_type": "stream",
     "text": [
      "\rMorphologyExtractor transform:  93%|█████████▎| 981718/1057452 [00:16<00:00, 76970.38it/s]"
     ]
    },
    {
     "name": "stderr",
     "output_type": "stream",
     "text": [
      "\rMorphologyExtractor transform:  94%|█████████▎| 989825/1057452 [00:16<00:00, 78147.94it/s]"
     ]
    },
    {
     "name": "stderr",
     "output_type": "stream",
     "text": [
      "\rMorphologyExtractor transform:  94%|█████████▍| 998069/1057452 [00:16<00:00, 79387.86it/s]"
     ]
    },
    {
     "name": "stderr",
     "output_type": "stream",
     "text": [
      "\rMorphologyExtractor transform:  95%|█████████▌| 1006109/1057452 [00:17<00:00, 79665.40it/s]"
     ]
    },
    {
     "name": "stderr",
     "output_type": "stream",
     "text": [
      "\rMorphologyExtractor transform:  96%|█████████▌| 1014113/1057452 [00:17<00:00, 77681.58it/s]"
     ]
    },
    {
     "name": "stderr",
     "output_type": "stream",
     "text": [
      "\rMorphologyExtractor transform:  97%|█████████▋| 1021919/1057452 [00:17<00:00, 73098.30it/s]"
     ]
    },
    {
     "name": "stderr",
     "output_type": "stream",
     "text": [
      "\rMorphologyExtractor transform:  97%|█████████▋| 1029804/1057452 [00:17<00:00, 74685.50it/s]"
     ]
    },
    {
     "name": "stderr",
     "output_type": "stream",
     "text": [
      "\rMorphologyExtractor transform:  98%|█████████▊| 1037867/1057452 [00:17<00:00, 76372.11it/s]"
     ]
    },
    {
     "name": "stderr",
     "output_type": "stream",
     "text": [
      "\rMorphologyExtractor transform:  99%|█████████▉| 1045965/1057452 [00:17<00:00, 77641.95it/s]"
     ]
    },
    {
     "name": "stderr",
     "output_type": "stream",
     "text": [
      "\rMorphologyExtractor transform: 100%|█████████▉| 1054266/1057452 [00:17<00:00, 79162.82it/s]"
     ]
    },
    {
     "name": "stderr",
     "output_type": "stream",
     "text": [
      "\rMorphologyExtractor transform: 100%|██████████| 1057452/1057452 [00:17<00:00, 59622.97it/s]"
     ]
    },
    {
     "name": "stderr",
     "output_type": "stream",
     "text": [
      "\n"
     ]
    },
    {
     "name": "stderr",
     "output_type": "stream",
     "text": [
      "\rMorphologyExtractor transform:   0%|          | 0/1057452 [00:00<?, ?it/s]"
     ]
    },
    {
     "name": "stderr",
     "output_type": "stream",
     "text": [
      "\rMorphologyExtractor transform:   0%|          | 3507/1057452 [00:00<00:30, 35055.32it/s]"
     ]
    },
    {
     "name": "stderr",
     "output_type": "stream",
     "text": [
      "\rMorphologyExtractor transform:   1%|          | 8895/1057452 [00:00<00:26, 39159.75it/s]"
     ]
    },
    {
     "name": "stderr",
     "output_type": "stream",
     "text": [
      "\rMorphologyExtractor transform:   1%|▏         | 14842/1057452 [00:00<00:23, 43623.76it/s]"
     ]
    },
    {
     "name": "stderr",
     "output_type": "stream",
     "text": [
      "\rMorphologyExtractor transform:   2%|▏         | 19102/1057452 [00:00<00:27, 38241.32it/s]"
     ]
    },
    {
     "name": "stderr",
     "output_type": "stream",
     "text": [
      "\rMorphologyExtractor transform:   3%|▎         | 26971/1057452 [00:00<00:22, 45211.81it/s]"
     ]
    },
    {
     "name": "stderr",
     "output_type": "stream",
     "text": [
      "\rMorphologyExtractor transform:   3%|▎         | 35011/1057452 [00:00<00:19, 52041.28it/s]"
     ]
    },
    {
     "name": "stderr",
     "output_type": "stream",
     "text": [
      "\rMorphologyExtractor transform:   4%|▍         | 42654/1057452 [00:00<00:17, 57530.42it/s]"
     ]
    },
    {
     "name": "stderr",
     "output_type": "stream",
     "text": [
      "\rMorphologyExtractor transform:   5%|▍         | 50565/1057452 [00:00<00:16, 62657.65it/s]"
     ]
    },
    {
     "name": "stderr",
     "output_type": "stream",
     "text": [
      "\rMorphologyExtractor transform:   6%|▌         | 59430/1057452 [00:00<00:14, 68699.51it/s]"
     ]
    },
    {
     "name": "stderr",
     "output_type": "stream",
     "text": [
      "\rMorphologyExtractor transform:   6%|▋         | 68016/1057452 [00:01<00:13, 73081.43it/s]"
     ]
    },
    {
     "name": "stderr",
     "output_type": "stream",
     "text": [
      "\rMorphologyExtractor transform:   7%|▋         | 77003/1057452 [00:01<00:12, 77418.11it/s]"
     ]
    },
    {
     "name": "stderr",
     "output_type": "stream",
     "text": [
      "\rMorphologyExtractor transform:   8%|▊         | 85743/1057452 [00:01<00:12, 80164.53it/s]"
     ]
    },
    {
     "name": "stderr",
     "output_type": "stream",
     "text": [
      "\rMorphologyExtractor transform:   9%|▉         | 94509/1057452 [00:01<00:11, 82274.34it/s]"
     ]
    },
    {
     "name": "stderr",
     "output_type": "stream",
     "text": [
      "\rMorphologyExtractor transform:  10%|▉         | 102953/1057452 [00:01<00:12, 79021.46it/s]"
     ]
    },
    {
     "name": "stderr",
     "output_type": "stream",
     "text": [
      "\rMorphologyExtractor transform:  11%|█         | 111035/1057452 [00:01<00:12, 76966.54it/s]"
     ]
    },
    {
     "name": "stderr",
     "output_type": "stream",
     "text": [
      "\rMorphologyExtractor transform:  11%|█▏        | 119104/1057452 [00:01<00:12, 78040.42it/s]"
     ]
    },
    {
     "name": "stderr",
     "output_type": "stream",
     "text": [
      "\rMorphologyExtractor transform:  12%|█▏        | 127008/1057452 [00:01<00:11, 77784.86it/s]"
     ]
    },
    {
     "name": "stderr",
     "output_type": "stream",
     "text": [
      "\rMorphologyExtractor transform:  13%|█▎        | 135660/1057452 [00:01<00:11, 80213.75it/s]"
     ]
    },
    {
     "name": "stderr",
     "output_type": "stream",
     "text": [
      "\rMorphologyExtractor transform:  14%|█▎        | 144339/1057452 [00:01<00:11, 82039.06it/s]"
     ]
    },
    {
     "name": "stderr",
     "output_type": "stream",
     "text": [
      "\rMorphologyExtractor transform:  15%|█▍        | 153365/1057452 [00:02<00:10, 84343.42it/s]"
     ]
    },
    {
     "name": "stderr",
     "output_type": "stream",
     "text": [
      "\rMorphologyExtractor transform:  15%|█▌        | 162174/1057452 [00:02<00:10, 85428.78it/s]"
     ]
    },
    {
     "name": "stderr",
     "output_type": "stream",
     "text": [
      "\rMorphologyExtractor transform:  16%|█▌        | 170786/1057452 [00:02<00:10, 85634.70it/s]"
     ]
    },
    {
     "name": "stderr",
     "output_type": "stream",
     "text": [
      "\rMorphologyExtractor transform:  17%|█▋        | 179581/1057452 [00:02<00:10, 86315.62it/s]"
     ]
    },
    {
     "name": "stderr",
     "output_type": "stream",
     "text": [
      "\rMorphologyExtractor transform:  18%|█▊        | 188236/1057452 [00:02<00:10, 84978.20it/s]"
     ]
    },
    {
     "name": "stderr",
     "output_type": "stream",
     "text": [
      "\rMorphologyExtractor transform:  19%|█▊        | 196808/1057452 [00:02<00:10, 85199.35it/s]"
     ]
    },
    {
     "name": "stderr",
     "output_type": "stream",
     "text": [
      "\rMorphologyExtractor transform:  19%|█▉        | 205343/1057452 [00:02<00:11, 75054.10it/s]"
     ]
    },
    {
     "name": "stderr",
     "output_type": "stream",
     "text": [
      "\rMorphologyExtractor transform:  20%|██        | 213080/1057452 [00:02<00:12, 69926.43it/s]"
     ]
    },
    {
     "name": "stderr",
     "output_type": "stream",
     "text": [
      "\rMorphologyExtractor transform:  21%|██        | 221515/1057452 [00:02<00:11, 73692.65it/s]"
     ]
    },
    {
     "name": "stderr",
     "output_type": "stream",
     "text": [
      "\rMorphologyExtractor transform:  22%|██▏       | 230272/1057452 [00:03<00:10, 77364.20it/s]"
     ]
    },
    {
     "name": "stderr",
     "output_type": "stream",
     "text": [
      "\rMorphologyExtractor transform:  23%|██▎       | 238868/1057452 [00:03<00:10, 79751.37it/s]"
     ]
    },
    {
     "name": "stderr",
     "output_type": "stream",
     "text": [
      "\rMorphologyExtractor transform:  23%|██▎       | 247124/1057452 [00:03<00:10, 80569.38it/s]"
     ]
    },
    {
     "name": "stderr",
     "output_type": "stream",
     "text": [
      "\rMorphologyExtractor transform:  24%|██▍       | 255743/1057452 [00:03<00:09, 82135.74it/s]"
     ]
    },
    {
     "name": "stderr",
     "output_type": "stream",
     "text": [
      "\rMorphologyExtractor transform:  25%|██▍       | 264044/1057452 [00:03<00:09, 81562.77it/s]"
     ]
    },
    {
     "name": "stderr",
     "output_type": "stream",
     "text": [
      "\rMorphologyExtractor transform:  26%|██▌       | 272262/1057452 [00:03<00:10, 76546.48it/s]"
     ]
    },
    {
     "name": "stderr",
     "output_type": "stream",
     "text": [
      "\rMorphologyExtractor transform:  27%|██▋       | 281002/1057452 [00:03<00:09, 79508.30it/s]"
     ]
    },
    {
     "name": "stderr",
     "output_type": "stream",
     "text": [
      "\rMorphologyExtractor transform:  27%|██▋       | 289057/1057452 [00:03<00:09, 79527.66it/s]"
     ]
    },
    {
     "name": "stderr",
     "output_type": "stream",
     "text": [
      "\rMorphologyExtractor transform:  28%|██▊       | 297398/1057452 [00:03<00:09, 80636.33it/s]"
     ]
    },
    {
     "name": "stderr",
     "output_type": "stream",
     "text": [
      "\rMorphologyExtractor transform:  29%|██▉       | 305667/1057452 [00:03<00:09, 81240.63it/s]"
     ]
    },
    {
     "name": "stderr",
     "output_type": "stream",
     "text": [
      "\rMorphologyExtractor transform:  30%|██▉       | 313831/1057452 [00:04<00:09, 80351.79it/s]"
     ]
    },
    {
     "name": "stderr",
     "output_type": "stream",
     "text": [
      "\rMorphologyExtractor transform:  31%|███       | 323267/1057452 [00:04<00:08, 84096.99it/s]"
     ]
    },
    {
     "name": "stderr",
     "output_type": "stream",
     "text": [
      "\rMorphologyExtractor transform:  31%|███▏      | 332874/1057452 [00:04<00:08, 87320.45it/s]"
     ]
    },
    {
     "name": "stderr",
     "output_type": "stream",
     "text": [
      "\rMorphologyExtractor transform:  32%|███▏      | 341878/1057452 [00:04<00:08, 88103.88it/s]"
     ]
    },
    {
     "name": "stderr",
     "output_type": "stream",
     "text": [
      "\rMorphologyExtractor transform:  33%|███▎      | 351177/1057452 [00:04<00:07, 89514.66it/s]"
     ]
    },
    {
     "name": "stderr",
     "output_type": "stream",
     "text": [
      "\rMorphologyExtractor transform:  34%|███▍      | 360174/1057452 [00:04<00:07, 88724.84it/s]"
     ]
    },
    {
     "name": "stderr",
     "output_type": "stream",
     "text": [
      "\rMorphologyExtractor transform:  35%|███▍      | 369422/1057452 [00:04<00:07, 89777.59it/s]"
     ]
    },
    {
     "name": "stderr",
     "output_type": "stream",
     "text": [
      "\rMorphologyExtractor transform:  36%|███▌      | 378553/1057452 [00:04<00:07, 90201.11it/s]"
     ]
    },
    {
     "name": "stderr",
     "output_type": "stream",
     "text": [
      "\rMorphologyExtractor transform:  37%|███▋      | 387724/1057452 [00:04<00:07, 90647.80it/s]"
     ]
    },
    {
     "name": "stderr",
     "output_type": "stream",
     "text": [
      "\rMorphologyExtractor transform:  38%|███▊      | 397376/1057452 [00:04<00:07, 92332.18it/s]"
     ]
    },
    {
     "name": "stderr",
     "output_type": "stream",
     "text": [
      "\rMorphologyExtractor transform:  38%|███▊      | 406627/1057452 [00:05<00:07, 91214.79it/s]"
     ]
    },
    {
     "name": "stderr",
     "output_type": "stream",
     "text": [
      "\rMorphologyExtractor transform:  39%|███▉      | 415764/1057452 [00:05<00:07, 89893.43it/s]"
     ]
    },
    {
     "name": "stderr",
     "output_type": "stream",
     "text": [
      "\rMorphologyExtractor transform:  40%|████      | 425049/1057452 [00:05<00:06, 90757.23it/s]"
     ]
    },
    {
     "name": "stderr",
     "output_type": "stream",
     "text": [
      "\rMorphologyExtractor transform:  41%|████      | 434138/1057452 [00:05<00:07, 82741.91it/s]"
     ]
    },
    {
     "name": "stderr",
     "output_type": "stream",
     "text": [
      "\rMorphologyExtractor transform:  42%|████▏     | 442558/1057452 [00:05<00:07, 77851.82it/s]"
     ]
    },
    {
     "name": "stderr",
     "output_type": "stream",
     "text": [
      "\rMorphologyExtractor transform:  43%|████▎     | 452057/1057452 [00:05<00:07, 82276.61it/s]"
     ]
    },
    {
     "name": "stderr",
     "output_type": "stream",
     "text": [
      "\rMorphologyExtractor transform:  44%|████▎     | 460466/1057452 [00:05<00:07, 76921.79it/s]"
     ]
    },
    {
     "name": "stderr",
     "output_type": "stream",
     "text": [
      "\rMorphologyExtractor transform:  44%|████▍     | 468356/1057452 [00:05<00:07, 74716.94it/s]"
     ]
    },
    {
     "name": "stderr",
     "output_type": "stream",
     "text": [
      "\rMorphologyExtractor transform:  45%|████▌     | 477829/1057452 [00:05<00:07, 79752.93it/s]"
     ]
    },
    {
     "name": "stderr",
     "output_type": "stream",
     "text": [
      "\rMorphologyExtractor transform:  46%|████▌     | 486848/1057452 [00:06<00:06, 82601.77it/s]"
     ]
    },
    {
     "name": "stderr",
     "output_type": "stream",
     "text": [
      "\rMorphologyExtractor transform:  47%|████▋     | 496075/1057452 [00:06<00:06, 85281.60it/s]"
     ]
    },
    {
     "name": "stderr",
     "output_type": "stream",
     "text": [
      "\rMorphologyExtractor transform:  48%|████▊     | 505048/1057452 [00:06<00:06, 86568.42it/s]"
     ]
    },
    {
     "name": "stderr",
     "output_type": "stream",
     "text": [
      "\rMorphologyExtractor transform:  49%|████▊     | 513807/1057452 [00:06<00:06, 85366.85it/s]"
     ]
    },
    {
     "name": "stderr",
     "output_type": "stream",
     "text": [
      "\rMorphologyExtractor transform:  50%|████▉     | 523455/1057452 [00:06<00:06, 88414.15it/s]"
     ]
    },
    {
     "name": "stderr",
     "output_type": "stream",
     "text": [
      "\rMorphologyExtractor transform:  50%|█████     | 532377/1057452 [00:06<00:06, 86986.05it/s]"
     ]
    },
    {
     "name": "stderr",
     "output_type": "stream",
     "text": [
      "\rMorphologyExtractor transform:  51%|█████▏    | 542015/1057452 [00:06<00:05, 89605.95it/s]"
     ]
    },
    {
     "name": "stderr",
     "output_type": "stream",
     "text": [
      "\rMorphologyExtractor transform:  52%|█████▏    | 551186/1057452 [00:06<00:05, 90226.92it/s]"
     ]
    },
    {
     "name": "stderr",
     "output_type": "stream",
     "text": [
      "\rMorphologyExtractor transform:  53%|█████▎    | 560254/1057452 [00:06<00:06, 76279.13it/s]"
     ]
    },
    {
     "name": "stderr",
     "output_type": "stream",
     "text": [
      "\rMorphologyExtractor transform:  54%|█████▍    | 569461/1057452 [00:07<00:06, 80416.62it/s]"
     ]
    },
    {
     "name": "stderr",
     "output_type": "stream",
     "text": [
      "\rMorphologyExtractor transform:  55%|█████▍    | 577844/1057452 [00:07<00:05, 79995.50it/s]"
     ]
    },
    {
     "name": "stderr",
     "output_type": "stream",
     "text": [
      "\rMorphologyExtractor transform:  56%|█████▌    | 587102/1057452 [00:07<00:05, 83392.50it/s]"
     ]
    },
    {
     "name": "stderr",
     "output_type": "stream",
     "text": [
      "\rMorphologyExtractor transform:  56%|█████▋    | 596545/1057452 [00:07<00:05, 86415.87it/s]"
     ]
    },
    {
     "name": "stderr",
     "output_type": "stream",
     "text": [
      "\rMorphologyExtractor transform:  57%|█████▋    | 605358/1057452 [00:07<00:05, 86890.67it/s]"
     ]
    },
    {
     "name": "stderr",
     "output_type": "stream",
     "text": [
      "\rMorphologyExtractor transform:  58%|█████▊    | 614168/1057452 [00:07<00:05, 76328.82it/s]"
     ]
    },
    {
     "name": "stderr",
     "output_type": "stream",
     "text": [
      "\rMorphologyExtractor transform:  59%|█████▉    | 622119/1057452 [00:07<00:05, 72828.74it/s]"
     ]
    },
    {
     "name": "stderr",
     "output_type": "stream",
     "text": [
      "\rMorphologyExtractor transform:  60%|█████▉    | 629703/1057452 [00:07<00:05, 73701.60it/s]"
     ]
    },
    {
     "name": "stderr",
     "output_type": "stream",
     "text": [
      "\rMorphologyExtractor transform:  60%|██████    | 637256/1057452 [00:07<00:06, 67251.30it/s]"
     ]
    },
    {
     "name": "stderr",
     "output_type": "stream",
     "text": [
      "\rMorphologyExtractor transform:  61%|██████    | 644218/1057452 [00:08<00:06, 64281.78it/s]"
     ]
    },
    {
     "name": "stderr",
     "output_type": "stream",
     "text": [
      "\rMorphologyExtractor transform:  62%|██████▏   | 651852/1057452 [00:08<00:06, 67474.36it/s]"
     ]
    },
    {
     "name": "stderr",
     "output_type": "stream",
     "text": [
      "\rMorphologyExtractor transform:  63%|██████▎   | 660969/1057452 [00:08<00:05, 73178.79it/s]"
     ]
    },
    {
     "name": "stderr",
     "output_type": "stream",
     "text": [
      "\rMorphologyExtractor transform:  63%|██████▎   | 669923/1057452 [00:08<00:05, 77422.75it/s]"
     ]
    },
    {
     "name": "stderr",
     "output_type": "stream",
     "text": [
      "\rMorphologyExtractor transform:  64%|██████▍   | 679169/1057452 [00:08<00:04, 81393.98it/s]"
     ]
    },
    {
     "name": "stderr",
     "output_type": "stream",
     "text": [
      "\rMorphologyExtractor transform:  65%|██████▌   | 687817/1057452 [00:08<00:04, 82833.95it/s]"
     ]
    },
    {
     "name": "stderr",
     "output_type": "stream",
     "text": [
      "\rMorphologyExtractor transform:  66%|██████▌   | 697170/1057452 [00:08<00:04, 85776.74it/s]"
     ]
    },
    {
     "name": "stderr",
     "output_type": "stream",
     "text": [
      "\rMorphologyExtractor transform:  67%|██████▋   | 706667/1057452 [00:08<00:03, 88342.03it/s]"
     ]
    },
    {
     "name": "stderr",
     "output_type": "stream",
     "text": [
      "\rMorphologyExtractor transform:  68%|██████▊   | 715775/1057452 [00:08<00:03, 89145.44it/s]"
     ]
    },
    {
     "name": "stderr",
     "output_type": "stream",
     "text": [
      "\rMorphologyExtractor transform:  69%|██████▊   | 724869/1057452 [00:08<00:03, 89675.85it/s]"
     ]
    },
    {
     "name": "stderr",
     "output_type": "stream",
     "text": [
      "\rMorphologyExtractor transform:  69%|██████▉   | 733898/1057452 [00:09<00:03, 89147.42it/s]"
     ]
    },
    {
     "name": "stderr",
     "output_type": "stream",
     "text": [
      "\rMorphologyExtractor transform:  70%|███████   | 742856/1057452 [00:09<00:03, 85166.21it/s]"
     ]
    },
    {
     "name": "stderr",
     "output_type": "stream",
     "text": [
      "\rMorphologyExtractor transform:  71%|███████   | 751441/1057452 [00:09<00:03, 82212.49it/s]"
     ]
    },
    {
     "name": "stderr",
     "output_type": "stream",
     "text": [
      "\rMorphologyExtractor transform:  72%|███████▏  | 759732/1057452 [00:09<00:03, 81277.37it/s]"
     ]
    },
    {
     "name": "stderr",
     "output_type": "stream",
     "text": [
      "\rMorphologyExtractor transform:  73%|███████▎  | 767911/1057452 [00:09<00:03, 81344.95it/s]"
     ]
    },
    {
     "name": "stderr",
     "output_type": "stream",
     "text": [
      "\rMorphologyExtractor transform:  73%|███████▎  | 776082/1057452 [00:09<00:03, 78811.79it/s]"
     ]
    },
    {
     "name": "stderr",
     "output_type": "stream",
     "text": [
      "\rMorphologyExtractor transform:  74%|███████▍  | 784006/1057452 [00:09<00:03, 78207.26it/s]"
     ]
    },
    {
     "name": "stderr",
     "output_type": "stream",
     "text": [
      "\rMorphologyExtractor transform:  75%|███████▍  | 791858/1057452 [00:09<00:03, 71840.17it/s]"
     ]
    },
    {
     "name": "stderr",
     "output_type": "stream",
     "text": [
      "\rMorphologyExtractor transform:  76%|███████▌  | 799166/1057452 [00:09<00:03, 70805.88it/s]"
     ]
    },
    {
     "name": "stderr",
     "output_type": "stream",
     "text": [
      "\rMorphologyExtractor transform:  76%|███████▋  | 806337/1057452 [00:10<00:03, 70801.69it/s]"
     ]
    },
    {
     "name": "stderr",
     "output_type": "stream",
     "text": [
      "\rMorphologyExtractor transform:  77%|███████▋  | 814478/1057452 [00:10<00:03, 73561.62it/s]"
     ]
    },
    {
     "name": "stderr",
     "output_type": "stream",
     "text": [
      "\rMorphologyExtractor transform:  78%|███████▊  | 822559/1057452 [00:10<00:03, 75592.66it/s]"
     ]
    },
    {
     "name": "stderr",
     "output_type": "stream",
     "text": [
      "\rMorphologyExtractor transform:  79%|███████▊  | 830459/1057452 [00:10<00:03, 74963.10it/s]"
     ]
    },
    {
     "name": "stderr",
     "output_type": "stream",
     "text": [
      "\rMorphologyExtractor transform:  79%|███████▉  | 838170/1057452 [00:10<00:02, 75588.33it/s]"
     ]
    },
    {
     "name": "stderr",
     "output_type": "stream",
     "text": [
      "\rMorphologyExtractor transform:  80%|████████  | 848217/1057452 [00:10<00:02, 81647.76it/s]"
     ]
    },
    {
     "name": "stderr",
     "output_type": "stream",
     "text": [
      "\rMorphologyExtractor transform:  81%|████████  | 857599/1057452 [00:10<00:02, 84840.97it/s]"
     ]
    },
    {
     "name": "stderr",
     "output_type": "stream",
     "text": [
      "\rMorphologyExtractor transform:  82%|████████▏ | 866230/1057452 [00:10<00:02, 81833.96it/s]"
     ]
    },
    {
     "name": "stderr",
     "output_type": "stream",
     "text": [
      "\rMorphologyExtractor transform:  83%|████████▎ | 874539/1057452 [00:10<00:02, 80565.13it/s]"
     ]
    },
    {
     "name": "stderr",
     "output_type": "stream",
     "text": [
      "\rMorphologyExtractor transform:  84%|████████▎ | 884464/1057452 [00:11<00:02, 85387.27it/s]"
     ]
    },
    {
     "name": "stderr",
     "output_type": "stream",
     "text": [
      "\rMorphologyExtractor transform:  85%|████████▍ | 894282/1057452 [00:11<00:01, 88850.42it/s]"
     ]
    },
    {
     "name": "stderr",
     "output_type": "stream",
     "text": [
      "\rMorphologyExtractor transform:  85%|████████▌ | 903612/1057452 [00:11<00:01, 90136.93it/s]"
     ]
    },
    {
     "name": "stderr",
     "output_type": "stream",
     "text": [
      "\rMorphologyExtractor transform:  86%|████████▋ | 913553/1057452 [00:11<00:01, 92731.19it/s]"
     ]
    },
    {
     "name": "stderr",
     "output_type": "stream",
     "text": [
      "\rMorphologyExtractor transform:  87%|████████▋ | 923527/1057452 [00:11<00:01, 94727.63it/s]"
     ]
    },
    {
     "name": "stderr",
     "output_type": "stream",
     "text": [
      "\rMorphologyExtractor transform:  88%|████████▊ | 933549/1057452 [00:11<00:01, 96297.20it/s]"
     ]
    },
    {
     "name": "stderr",
     "output_type": "stream",
     "text": [
      "\rMorphologyExtractor transform:  89%|████████▉ | 943236/1057452 [00:12<00:03, 29404.68it/s]"
     ]
    },
    {
     "name": "stderr",
     "output_type": "stream",
     "text": [
      "\rMorphologyExtractor transform:  90%|█████████ | 952667/1057452 [00:12<00:02, 37054.95it/s]"
     ]
    },
    {
     "name": "stderr",
     "output_type": "stream",
     "text": [
      "\rMorphologyExtractor transform:  91%|█████████ | 962075/1057452 [00:12<00:02, 45290.53it/s]"
     ]
    },
    {
     "name": "stderr",
     "output_type": "stream",
     "text": [
      "\rMorphologyExtractor transform:  92%|█████████▏| 971848/1057452 [00:12<00:01, 53975.74it/s]"
     ]
    },
    {
     "name": "stderr",
     "output_type": "stream",
     "text": [
      "\rMorphologyExtractor transform:  93%|█████████▎| 981657/1057452 [00:12<00:01, 62390.24it/s]"
     ]
    },
    {
     "name": "stderr",
     "output_type": "stream",
     "text": [
      "\rMorphologyExtractor transform:  94%|█████████▍| 992061/1057452 [00:12<00:00, 70891.93it/s]"
     ]
    },
    {
     "name": "stderr",
     "output_type": "stream",
     "text": [
      "\rMorphologyExtractor transform:  95%|█████████▍| 1001518/1057452 [00:12<00:00, 75072.15it/s]"
     ]
    },
    {
     "name": "stderr",
     "output_type": "stream",
     "text": [
      "\rMorphologyExtractor transform:  96%|█████████▌| 1010750/1057452 [00:13<00:00, 78634.65it/s]"
     ]
    },
    {
     "name": "stderr",
     "output_type": "stream",
     "text": [
      "\rMorphologyExtractor transform:  97%|█████████▋| 1020926/1057452 [00:13<00:00, 84379.50it/s]"
     ]
    },
    {
     "name": "stderr",
     "output_type": "stream",
     "text": [
      "\rMorphologyExtractor transform:  97%|█████████▋| 1030358/1057452 [00:13<00:00, 86419.33it/s]"
     ]
    },
    {
     "name": "stderr",
     "output_type": "stream",
     "text": [
      "\rMorphologyExtractor transform:  98%|█████████▊| 1039770/1057452 [00:13<00:00, 88589.86it/s]"
     ]
    },
    {
     "name": "stderr",
     "output_type": "stream",
     "text": [
      "\rMorphologyExtractor transform:  99%|█████████▉| 1050173/1057452 [00:13<00:00, 92691.25it/s]"
     ]
    },
    {
     "name": "stderr",
     "output_type": "stream",
     "text": [
      "\rMorphologyExtractor transform: 100%|██████████| 1057452/1057452 [00:13<00:00, 77767.54it/s]"
     ]
    },
    {
     "name": "stderr",
     "output_type": "stream",
     "text": [
      "\n"
     ]
    },
    {
     "name": "stderr",
     "output_type": "stream",
     "text": [
      "\rMorphologyExtractor transform:   0%|          | 0/1057452 [00:00<?, ?it/s]"
     ]
    },
    {
     "name": "stderr",
     "output_type": "stream",
     "text": [
      "\rMorphologyExtractor transform:   0%|          | 4215/1057452 [00:00<00:25, 42000.44it/s]"
     ]
    },
    {
     "name": "stderr",
     "output_type": "stream",
     "text": [
      "\rMorphologyExtractor transform:   1%|          | 6829/1057452 [00:00<00:29, 35531.04it/s]"
     ]
    },
    {
     "name": "stderr",
     "output_type": "stream",
     "text": [
      "\rMorphologyExtractor transform:   1%|          | 8835/1057452 [00:00<00:36, 28826.98it/s]"
     ]
    },
    {
     "name": "stderr",
     "output_type": "stream",
     "text": [
      "\rMorphologyExtractor transform:   1%|          | 11454/1057452 [00:00<00:37, 27976.75it/s]"
     ]
    },
    {
     "name": "stderr",
     "output_type": "stream",
     "text": [
      "\rMorphologyExtractor transform:   1%|▏         | 15045/1057452 [00:00<00:34, 29824.51it/s]"
     ]
    },
    {
     "name": "stderr",
     "output_type": "stream",
     "text": [
      "\rMorphologyExtractor transform:   2%|▏         | 17519/1057452 [00:00<00:38, 26683.89it/s]"
     ]
    },
    {
     "name": "stderr",
     "output_type": "stream",
     "text": [
      "\rMorphologyExtractor transform:   2%|▏         | 21312/1057452 [00:00<00:35, 29187.98it/s]"
     ]
    },
    {
     "name": "stderr",
     "output_type": "stream",
     "text": [
      "\rMorphologyExtractor transform:   2%|▏         | 25995/1057452 [00:00<00:31, 32902.21it/s]"
     ]
    },
    {
     "name": "stderr",
     "output_type": "stream",
     "text": [
      "\rMorphologyExtractor transform:   3%|▎         | 29347/1057452 [00:01<00:40, 25676.88it/s]"
     ]
    },
    {
     "name": "stderr",
     "output_type": "stream",
     "text": [
      "\rMorphologyExtractor transform:   3%|▎         | 33876/1057452 [00:01<00:34, 29491.05it/s]"
     ]
    },
    {
     "name": "stderr",
     "output_type": "stream",
     "text": [
      "\rMorphologyExtractor transform:   4%|▎         | 37230/1057452 [00:01<00:41, 24880.80it/s]"
     ]
    },
    {
     "name": "stderr",
     "output_type": "stream",
     "text": [
      "\rMorphologyExtractor transform:   4%|▍         | 43244/1057452 [00:01<00:33, 30185.95it/s]"
     ]
    },
    {
     "name": "stderr",
     "output_type": "stream",
     "text": [
      "\rMorphologyExtractor transform:   5%|▍         | 47796/1057452 [00:01<00:30, 33262.27it/s]"
     ]
    },
    {
     "name": "stderr",
     "output_type": "stream",
     "text": [
      "\rMorphologyExtractor transform:   5%|▌         | 53636/1057452 [00:01<00:26, 38186.68it/s]"
     ]
    },
    {
     "name": "stderr",
     "output_type": "stream",
     "text": [
      "\rMorphologyExtractor transform:   6%|▌         | 60406/1057452 [00:01<00:22, 43931.58it/s]"
     ]
    },
    {
     "name": "stderr",
     "output_type": "stream",
     "text": [
      "\rMorphologyExtractor transform:   7%|▋         | 69417/1057452 [00:01<00:19, 51908.78it/s]"
     ]
    },
    {
     "name": "stderr",
     "output_type": "stream",
     "text": [
      "\rMorphologyExtractor transform:   7%|▋         | 78963/1057452 [00:01<00:16, 60105.79it/s]"
     ]
    },
    {
     "name": "stderr",
     "output_type": "stream",
     "text": [
      "\rMorphologyExtractor transform:   8%|▊         | 86507/1057452 [00:02<00:15, 63982.30it/s]"
     ]
    },
    {
     "name": "stderr",
     "output_type": "stream",
     "text": [
      "\rMorphologyExtractor transform:   9%|▉         | 97368/1057452 [00:02<00:13, 72969.20it/s]"
     ]
    },
    {
     "name": "stderr",
     "output_type": "stream",
     "text": [
      "\rMorphologyExtractor transform:  10%|█         | 107615/1057452 [00:02<00:11, 79845.96it/s]"
     ]
    },
    {
     "name": "stderr",
     "output_type": "stream",
     "text": [
      "\rMorphologyExtractor transform:  11%|█         | 118431/1057452 [00:02<00:10, 86634.38it/s]"
     ]
    },
    {
     "name": "stderr",
     "output_type": "stream",
     "text": [
      "\rMorphologyExtractor transform:  12%|█▏        | 127946/1057452 [00:02<00:10, 86957.04it/s]"
     ]
    },
    {
     "name": "stderr",
     "output_type": "stream",
     "text": [
      "\rMorphologyExtractor transform:  13%|█▎        | 137984/1057452 [00:02<00:10, 90498.15it/s]"
     ]
    },
    {
     "name": "stderr",
     "output_type": "stream",
     "text": [
      "\rMorphologyExtractor transform:  14%|█▍        | 147969/1057452 [00:02<00:09, 93086.84it/s]"
     ]
    },
    {
     "name": "stderr",
     "output_type": "stream",
     "text": [
      "\rMorphologyExtractor transform:  15%|█▌        | 158635/1057452 [00:02<00:09, 96737.68it/s]"
     ]
    },
    {
     "name": "stderr",
     "output_type": "stream",
     "text": [
      "\rMorphologyExtractor transform:  16%|█▌        | 169614/1057452 [00:02<00:08, 100287.70it/s]"
     ]
    },
    {
     "name": "stderr",
     "output_type": "stream",
     "text": [
      "\rMorphologyExtractor transform:  17%|█▋        | 179867/1057452 [00:02<00:09, 94707.24it/s] "
     ]
    },
    {
     "name": "stderr",
     "output_type": "stream",
     "text": [
      "\rMorphologyExtractor transform:  18%|█▊        | 189559/1057452 [00:03<00:10, 80240.51it/s]"
     ]
    },
    {
     "name": "stderr",
     "output_type": "stream",
     "text": [
      "\rMorphologyExtractor transform:  19%|█▊        | 198118/1057452 [00:03<00:10, 80303.95it/s]"
     ]
    },
    {
     "name": "stderr",
     "output_type": "stream",
     "text": [
      "\rMorphologyExtractor transform:  20%|█▉        | 208218/1057452 [00:03<00:09, 85563.82it/s]"
     ]
    },
    {
     "name": "stderr",
     "output_type": "stream",
     "text": [
      "\rMorphologyExtractor transform:  21%|██        | 217896/1057452 [00:03<00:09, 88624.70it/s]"
     ]
    },
    {
     "name": "stderr",
     "output_type": "stream",
     "text": [
      "\rMorphologyExtractor transform:  22%|██▏       | 229274/1057452 [00:03<00:08, 94920.14it/s]"
     ]
    },
    {
     "name": "stderr",
     "output_type": "stream",
     "text": [
      "\rMorphologyExtractor transform:  23%|██▎       | 240504/1057452 [00:03<00:08, 99541.52it/s]"
     ]
    },
    {
     "name": "stderr",
     "output_type": "stream",
     "text": [
      "\rMorphologyExtractor transform:  24%|██▎       | 250742/1057452 [00:03<00:09, 87537.04it/s]"
     ]
    },
    {
     "name": "stderr",
     "output_type": "stream",
     "text": [
      "\rMorphologyExtractor transform:  25%|██▍       | 259958/1057452 [00:03<00:09, 84985.36it/s]"
     ]
    },
    {
     "name": "stderr",
     "output_type": "stream",
     "text": [
      "\rMorphologyExtractor transform:  26%|██▌       | 270149/1057452 [00:03<00:08, 89440.61it/s]"
     ]
    },
    {
     "name": "stderr",
     "output_type": "stream",
     "text": [
      "\rMorphologyExtractor transform:  26%|██▋       | 280036/1057452 [00:04<00:08, 92074.98it/s]"
     ]
    },
    {
     "name": "stderr",
     "output_type": "stream",
     "text": [
      "\rMorphologyExtractor transform:  28%|██▊       | 291406/1057452 [00:04<00:07, 97629.73it/s]"
     ]
    },
    {
     "name": "stderr",
     "output_type": "stream",
     "text": [
      "\rMorphologyExtractor transform:  29%|██▊       | 301633/1057452 [00:04<00:07, 98976.95it/s]"
     ]
    },
    {
     "name": "stderr",
     "output_type": "stream",
     "text": [
      "\rMorphologyExtractor transform:  30%|██▉       | 312333/1057452 [00:04<00:07, 101254.31it/s]"
     ]
    },
    {
     "name": "stderr",
     "output_type": "stream",
     "text": [
      "\rMorphologyExtractor transform:  31%|███       | 323580/1057452 [00:04<00:07, 104353.03it/s]"
     ]
    },
    {
     "name": "stderr",
     "output_type": "stream",
     "text": [
      "\rMorphologyExtractor transform:  32%|███▏      | 334144/1057452 [00:04<00:06, 104729.61it/s]"
     ]
    },
    {
     "name": "stderr",
     "output_type": "stream",
     "text": [
      "\rMorphologyExtractor transform:  33%|███▎      | 345615/1057452 [00:04<00:06, 107511.07it/s]"
     ]
    },
    {
     "name": "stderr",
     "output_type": "stream",
     "text": [
      "\rMorphologyExtractor transform:  34%|███▍      | 358156/1057452 [00:04<00:06, 112319.45it/s]"
     ]
    },
    {
     "name": "stderr",
     "output_type": "stream",
     "text": [
      "\rMorphologyExtractor transform:  35%|███▍      | 369708/1057452 [00:04<00:06, 113260.15it/s]"
     ]
    },
    {
     "name": "stderr",
     "output_type": "stream",
     "text": [
      "\rMorphologyExtractor transform:  36%|███▌      | 381203/1057452 [00:04<00:05, 113761.82it/s]"
     ]
    },
    {
     "name": "stderr",
     "output_type": "stream",
     "text": [
      "\rMorphologyExtractor transform:  37%|███▋      | 392636/1057452 [00:05<00:05, 112248.77it/s]"
     ]
    },
    {
     "name": "stderr",
     "output_type": "stream",
     "text": [
      "\rMorphologyExtractor transform:  38%|███▊      | 403905/1057452 [00:05<00:05, 110375.09it/s]"
     ]
    },
    {
     "name": "stderr",
     "output_type": "stream",
     "text": [
      "\rMorphologyExtractor transform:  39%|███▉      | 415914/1057452 [00:05<00:05, 113119.38it/s]"
     ]
    },
    {
     "name": "stderr",
     "output_type": "stream",
     "text": [
      "\rMorphologyExtractor transform:  40%|████      | 427398/1057452 [00:05<00:05, 113614.24it/s]"
     ]
    },
    {
     "name": "stderr",
     "output_type": "stream",
     "text": [
      "\rMorphologyExtractor transform:  41%|████▏     | 438791/1057452 [00:05<00:05, 111936.54it/s]"
     ]
    },
    {
     "name": "stderr",
     "output_type": "stream",
     "text": [
      "\rMorphologyExtractor transform:  43%|████▎     | 450247/1057452 [00:05<00:05, 112709.87it/s]"
     ]
    },
    {
     "name": "stderr",
     "output_type": "stream",
     "text": [
      "\rMorphologyExtractor transform:  44%|████▎     | 461539/1057452 [00:05<00:05, 111851.56it/s]"
     ]
    },
    {
     "name": "stderr",
     "output_type": "stream",
     "text": [
      "\rMorphologyExtractor transform:  45%|████▍     | 472740/1057452 [00:05<00:05, 108653.49it/s]"
     ]
    },
    {
     "name": "stderr",
     "output_type": "stream",
     "text": [
      "\rMorphologyExtractor transform:  46%|████▌     | 483939/1057452 [00:05<00:05, 109603.10it/s]"
     ]
    },
    {
     "name": "stderr",
     "output_type": "stream",
     "text": [
      "\rMorphologyExtractor transform:  47%|████▋     | 494923/1057452 [00:06<00:05, 104820.46it/s]"
     ]
    },
    {
     "name": "stderr",
     "output_type": "stream",
     "text": [
      "\rMorphologyExtractor transform:  48%|████▊     | 506794/1057452 [00:06<00:05, 108619.01it/s]"
     ]
    },
    {
     "name": "stderr",
     "output_type": "stream",
     "text": [
      "\rMorphologyExtractor transform:  49%|████▉     | 517940/1057452 [00:06<00:04, 109449.17it/s]"
     ]
    },
    {
     "name": "stderr",
     "output_type": "stream",
     "text": [
      "\rMorphologyExtractor transform:  50%|█████     | 528941/1057452 [00:06<00:04, 107722.08it/s]"
     ]
    },
    {
     "name": "stderr",
     "output_type": "stream",
     "text": [
      "\rMorphologyExtractor transform:  51%|█████     | 539857/1057452 [00:06<00:04, 108083.32it/s]"
     ]
    },
    {
     "name": "stderr",
     "output_type": "stream",
     "text": [
      "\rMorphologyExtractor transform:  52%|█████▏    | 551082/1057452 [00:06<00:04, 109297.31it/s]"
     ]
    },
    {
     "name": "stderr",
     "output_type": "stream",
     "text": [
      "\rMorphologyExtractor transform:  53%|█████▎    | 562038/1057452 [00:06<00:04, 104990.70it/s]"
     ]
    },
    {
     "name": "stderr",
     "output_type": "stream",
     "text": [
      "\rMorphologyExtractor transform:  54%|█████▍    | 573337/1057452 [00:06<00:04, 107234.20it/s]"
     ]
    },
    {
     "name": "stderr",
     "output_type": "stream",
     "text": [
      "\rMorphologyExtractor transform:  55%|█████▌    | 584609/1057452 [00:06<00:04, 108821.50it/s]"
     ]
    },
    {
     "name": "stderr",
     "output_type": "stream",
     "text": [
      "\rMorphologyExtractor transform:  56%|█████▋    | 595532/1057452 [00:06<00:04, 108154.00it/s]"
     ]
    },
    {
     "name": "stderr",
     "output_type": "stream",
     "text": [
      "\rMorphologyExtractor transform:  57%|█████▋    | 606603/1057452 [00:07<00:04, 108878.47it/s]"
     ]
    },
    {
     "name": "stderr",
     "output_type": "stream",
     "text": [
      "\rMorphologyExtractor transform:  58%|█████▊    | 617513/1057452 [00:07<00:04, 108318.21it/s]"
     ]
    },
    {
     "name": "stderr",
     "output_type": "stream",
     "text": [
      "\rMorphologyExtractor transform:  59%|█████▉    | 628368/1057452 [00:07<00:03, 108318.52it/s]"
     ]
    },
    {
     "name": "stderr",
     "output_type": "stream",
     "text": [
      "\rMorphologyExtractor transform:  61%|██████    | 640486/1057452 [00:07<00:03, 111880.01it/s]"
     ]
    },
    {
     "name": "stderr",
     "output_type": "stream",
     "text": [
      "\rMorphologyExtractor transform:  62%|██████▏   | 651743/1057452 [00:07<00:03, 112085.43it/s]"
     ]
    },
    {
     "name": "stderr",
     "output_type": "stream",
     "text": [
      "\rMorphologyExtractor transform:  63%|██████▎   | 663739/1057452 [00:07<00:03, 114337.02it/s]"
     ]
    },
    {
     "name": "stderr",
     "output_type": "stream",
     "text": [
      "\rMorphologyExtractor transform:  64%|██████▍   | 675203/1057452 [00:07<00:03, 111805.33it/s]"
     ]
    },
    {
     "name": "stderr",
     "output_type": "stream",
     "text": [
      "\rMorphologyExtractor transform:  65%|██████▍   | 686417/1057452 [00:07<00:03, 111731.62it/s]"
     ]
    },
    {
     "name": "stderr",
     "output_type": "stream",
     "text": [
      "\rMorphologyExtractor transform:  66%|██████▌   | 697614/1057452 [00:07<00:03, 109058.20it/s]"
     ]
    },
    {
     "name": "stderr",
     "output_type": "stream",
     "text": [
      "\rMorphologyExtractor transform:  67%|██████▋   | 708713/1057452 [00:07<00:03, 109595.91it/s]"
     ]
    },
    {
     "name": "stderr",
     "output_type": "stream",
     "text": [
      "\rMorphologyExtractor transform:  68%|██████▊   | 719695/1057452 [00:08<00:03, 108995.91it/s]"
     ]
    },
    {
     "name": "stderr",
     "output_type": "stream",
     "text": [
      "\rMorphologyExtractor transform:  69%|██████▉   | 732008/1057452 [00:08<00:02, 112765.43it/s]"
     ]
    },
    {
     "name": "stderr",
     "output_type": "stream",
     "text": [
      "\rMorphologyExtractor transform:  70%|███████   | 743578/1057452 [00:08<00:02, 113527.37it/s]"
     ]
    },
    {
     "name": "stderr",
     "output_type": "stream",
     "text": [
      "\rMorphologyExtractor transform:  71%|███████▏  | 754963/1057452 [00:08<00:02, 111651.95it/s]"
     ]
    },
    {
     "name": "stderr",
     "output_type": "stream",
     "text": [
      "\rMorphologyExtractor transform:  72%|███████▏  | 766158/1057452 [00:08<00:02, 110748.33it/s]"
     ]
    },
    {
     "name": "stderr",
     "output_type": "stream",
     "text": [
      "\rMorphologyExtractor transform:  74%|███████▎  | 777261/1057452 [00:08<00:02, 110625.61it/s]"
     ]
    },
    {
     "name": "stderr",
     "output_type": "stream",
     "text": [
      "\rMorphologyExtractor transform:  75%|███████▍  | 788340/1057452 [00:08<00:02, 108320.66it/s]"
     ]
    },
    {
     "name": "stderr",
     "output_type": "stream",
     "text": [
      "\rMorphologyExtractor transform:  76%|███████▌  | 799541/1057452 [00:08<00:02, 109390.10it/s]"
     ]
    },
    {
     "name": "stderr",
     "output_type": "stream",
     "text": [
      "\rMorphologyExtractor transform:  77%|███████▋  | 811362/1057452 [00:08<00:02, 111767.77it/s]"
     ]
    },
    {
     "name": "stderr",
     "output_type": "stream",
     "text": [
      "\rMorphologyExtractor transform:  78%|███████▊  | 822564/1057452 [00:08<00:02, 107583.30it/s]"
     ]
    },
    {
     "name": "stderr",
     "output_type": "stream",
     "text": [
      "\rMorphologyExtractor transform:  79%|███████▉  | 834017/1057452 [00:09<00:02, 109418.03it/s]"
     ]
    },
    {
     "name": "stderr",
     "output_type": "stream",
     "text": [
      "\rMorphologyExtractor transform:  80%|███████▉  | 845430/1057452 [00:09<00:01, 110788.59it/s]"
     ]
    },
    {
     "name": "stderr",
     "output_type": "stream",
     "text": [
      "\rMorphologyExtractor transform:  81%|████████  | 856544/1057452 [00:09<00:01, 110491.89it/s]"
     ]
    },
    {
     "name": "stderr",
     "output_type": "stream",
     "text": [
      "\rMorphologyExtractor transform:  82%|████████▏ | 868027/1057452 [00:09<00:01, 111740.26it/s]"
     ]
    },
    {
     "name": "stderr",
     "output_type": "stream",
     "text": [
      "\rMorphologyExtractor transform:  83%|████████▎ | 879222/1057452 [00:09<00:01, 110931.65it/s]"
     ]
    },
    {
     "name": "stderr",
     "output_type": "stream",
     "text": [
      "\rMorphologyExtractor transform:  84%|████████▍ | 890342/1057452 [00:09<00:01, 111004.12it/s]"
     ]
    },
    {
     "name": "stderr",
     "output_type": "stream",
     "text": [
      "\rMorphologyExtractor transform:  85%|████████▌ | 901507/1057452 [00:09<00:01, 111192.46it/s]"
     ]
    },
    {
     "name": "stderr",
     "output_type": "stream",
     "text": [
      "\rMorphologyExtractor transform:  86%|████████▋ | 913220/1057452 [00:09<00:01, 112908.87it/s]"
     ]
    },
    {
     "name": "stderr",
     "output_type": "stream",
     "text": [
      "\rMorphologyExtractor transform:  88%|████████▊ | 925534/1057452 [00:09<00:01, 115794.85it/s]"
     ]
    },
    {
     "name": "stderr",
     "output_type": "stream",
     "text": [
      "\rMorphologyExtractor transform:  89%|████████▊ | 937260/1057452 [00:09<00:01, 116222.99it/s]"
     ]
    },
    {
     "name": "stderr",
     "output_type": "stream",
     "text": [
      "\rMorphologyExtractor transform:  90%|████████▉ | 948902/1057452 [00:10<00:00, 114554.04it/s]"
     ]
    },
    {
     "name": "stderr",
     "output_type": "stream",
     "text": [
      "\rMorphologyExtractor transform:  91%|█████████ | 960572/1057452 [00:10<00:00, 115179.20it/s]"
     ]
    },
    {
     "name": "stderr",
     "output_type": "stream",
     "text": [
      "\rMorphologyExtractor transform:  92%|█████████▏| 972104/1057452 [00:10<00:00, 110861.60it/s]"
     ]
    },
    {
     "name": "stderr",
     "output_type": "stream",
     "text": [
      "\rMorphologyExtractor transform:  93%|█████████▎| 983843/1057452 [00:10<00:00, 112733.71it/s]"
     ]
    },
    {
     "name": "stderr",
     "output_type": "stream",
     "text": [
      "\rMorphologyExtractor transform:  94%|█████████▍| 995156/1057452 [00:10<00:00, 111153.55it/s]"
     ]
    },
    {
     "name": "stderr",
     "output_type": "stream",
     "text": [
      "\rMorphologyExtractor transform:  95%|█████████▌| 1006304/1057452 [00:10<00:00, 111038.91it/s]"
     ]
    },
    {
     "name": "stderr",
     "output_type": "stream",
     "text": [
      "\rMorphologyExtractor transform:  96%|█████████▋| 1018378/1057452 [00:10<00:00, 113729.41it/s]"
     ]
    },
    {
     "name": "stderr",
     "output_type": "stream",
     "text": [
      "\rMorphologyExtractor transform:  97%|█████████▋| 1029996/1057452 [00:10<00:00, 114426.28it/s]"
     ]
    },
    {
     "name": "stderr",
     "output_type": "stream",
     "text": [
      "\rMorphologyExtractor transform:  99%|█████████▊| 1041808/1057452 [00:10<00:00, 115509.54it/s]"
     ]
    },
    {
     "name": "stderr",
     "output_type": "stream",
     "text": [
      "\rMorphologyExtractor transform: 100%|█████████▉| 1053378/1057452 [00:11<00:00, 114047.95it/s]"
     ]
    },
    {
     "name": "stderr",
     "output_type": "stream",
     "text": [
      "\rMorphologyExtractor transform: 100%|██████████| 1057452/1057452 [00:11<00:00, 95376.93it/s] "
     ]
    },
    {
     "name": "stderr",
     "output_type": "stream",
     "text": [
      "\n"
     ]
    },
    {
     "name": "stderr",
     "output_type": "stream",
     "text": [
      "\rDictNBHDTransformer transform:   0%|          | 0/1057452 [00:00<?, ?it/s]"
     ]
    },
    {
     "name": "stderr",
     "output_type": "stream",
     "text": [
      "\rDictNBHDTransformer transform:   1%|▏         | 14367/1057452 [00:00<00:07, 143665.68it/s]"
     ]
    },
    {
     "name": "stderr",
     "output_type": "stream",
     "text": [
      "\rDictNBHDTransformer transform:   3%|▎         | 29905/1057452 [00:00<00:06, 146987.78it/s]"
     ]
    },
    {
     "name": "stderr",
     "output_type": "stream",
     "text": [
      "\rDictNBHDTransformer transform:   5%|▍         | 47806/1057452 [00:00<00:06, 155322.84it/s]"
     ]
    },
    {
     "name": "stderr",
     "output_type": "stream",
     "text": [
      "\rDictNBHDTransformer transform:   6%|▋         | 67535/1057452 [00:00<00:05, 165905.04it/s]"
     ]
    },
    {
     "name": "stderr",
     "output_type": "stream",
     "text": [
      "\rDictNBHDTransformer transform:   8%|▊         | 88470/1057452 [00:00<00:05, 176915.06it/s]"
     ]
    },
    {
     "name": "stderr",
     "output_type": "stream",
     "text": [
      "\rDictNBHDTransformer transform:  11%|█         | 113398/1057452 [00:00<00:04, 193785.97it/s]"
     ]
    },
    {
     "name": "stderr",
     "output_type": "stream",
     "text": [
      "\rDictNBHDTransformer transform:  13%|█▎        | 138585/1057452 [00:00<00:04, 208189.12it/s]"
     ]
    },
    {
     "name": "stderr",
     "output_type": "stream",
     "text": [
      "\rDictNBHDTransformer transform:  16%|█▌        | 164174/1057452 [00:00<00:04, 220520.96it/s]"
     ]
    },
    {
     "name": "stderr",
     "output_type": "stream",
     "text": [
      "\rDictNBHDTransformer transform:  18%|█▊        | 191405/1057452 [00:00<00:03, 233863.47it/s]"
     ]
    },
    {
     "name": "stderr",
     "output_type": "stream",
     "text": [
      "\rDictNBHDTransformer transform:  21%|██        | 218632/1057452 [00:01<00:03, 244196.11it/s]"
     ]
    },
    {
     "name": "stderr",
     "output_type": "stream",
     "text": [
      "\rDictNBHDTransformer transform:  24%|██▎       | 248987/1057452 [00:01<00:03, 259412.49it/s]"
     ]
    },
    {
     "name": "stderr",
     "output_type": "stream",
     "text": [
      "\rDictNBHDTransformer transform:  26%|██▋       | 278949/1057452 [00:01<00:02, 270291.41it/s]"
     ]
    },
    {
     "name": "stderr",
     "output_type": "stream",
     "text": [
      "\rDictNBHDTransformer transform:  29%|██▉       | 310564/1057452 [00:01<00:02, 282586.97it/s]"
     ]
    },
    {
     "name": "stderr",
     "output_type": "stream",
     "text": [
      "\rDictNBHDTransformer transform:  32%|███▏      | 342904/1057452 [00:01<00:02, 293705.05it/s]"
     ]
    },
    {
     "name": "stderr",
     "output_type": "stream",
     "text": [
      "\rDictNBHDTransformer transform:  35%|███▌      | 374844/1057452 [00:01<00:02, 300966.97it/s]"
     ]
    },
    {
     "name": "stderr",
     "output_type": "stream",
     "text": [
      "\rDictNBHDTransformer transform:  39%|███▊      | 407334/1057452 [00:01<00:02, 307767.54it/s]"
     ]
    },
    {
     "name": "stderr",
     "output_type": "stream",
     "text": [
      "\rDictNBHDTransformer transform:  42%|████▏     | 441345/1057452 [00:01<00:01, 316803.62it/s]"
     ]
    },
    {
     "name": "stderr",
     "output_type": "stream",
     "text": [
      "\rDictNBHDTransformer transform:  45%|████▌     | 476748/1057452 [00:01<00:01, 327122.61it/s]"
     ]
    },
    {
     "name": "stderr",
     "output_type": "stream",
     "text": [
      "\rDictNBHDTransformer transform:  48%|████▊     | 512266/1057452 [00:01<00:01, 335061.37it/s]"
     ]
    },
    {
     "name": "stderr",
     "output_type": "stream",
     "text": [
      "\rDictNBHDTransformer transform:  52%|█████▏    | 546802/1057452 [00:02<00:01, 338083.85it/s]"
     ]
    },
    {
     "name": "stderr",
     "output_type": "stream",
     "text": [
      "\rDictNBHDTransformer transform:  55%|█████▌    | 582136/1057452 [00:02<00:01, 342519.46it/s]"
     ]
    },
    {
     "name": "stderr",
     "output_type": "stream",
     "text": [
      "\rDictNBHDTransformer transform:  58%|█████▊    | 617763/1057452 [00:02<00:01, 346531.00it/s]"
     ]
    },
    {
     "name": "stderr",
     "output_type": "stream",
     "text": [
      "\rDictNBHDTransformer transform:  62%|██████▏   | 654759/1057452 [00:02<00:01, 353240.97it/s]"
     ]
    },
    {
     "name": "stderr",
     "output_type": "stream",
     "text": [
      "\rDictNBHDTransformer transform:  65%|██████▌   | 691619/1057452 [00:02<00:01, 357710.45it/s]"
     ]
    },
    {
     "name": "stderr",
     "output_type": "stream",
     "text": [
      "\rDictNBHDTransformer transform:  69%|██████▉   | 729138/1057452 [00:02<00:00, 362779.97it/s]"
     ]
    },
    {
     "name": "stderr",
     "output_type": "stream",
     "text": [
      "\rDictNBHDTransformer transform:  73%|███████▎  | 767808/1057452 [00:02<00:00, 369635.19it/s]"
     ]
    },
    {
     "name": "stderr",
     "output_type": "stream",
     "text": [
      "\rDictNBHDTransformer transform:  76%|███████▋  | 806722/1057452 [00:02<00:00, 375268.46it/s]"
     ]
    },
    {
     "name": "stderr",
     "output_type": "stream",
     "text": [
      "\rDictNBHDTransformer transform:  80%|███████▉  | 845128/1057452 [00:02<00:00, 377862.41it/s]"
     ]
    },
    {
     "name": "stderr",
     "output_type": "stream",
     "text": [
      "\rDictNBHDTransformer transform:  84%|████████▎ | 884113/1057452 [00:02<00:00, 381364.92it/s]"
     ]
    },
    {
     "name": "stderr",
     "output_type": "stream",
     "text": [
      "\rDictNBHDTransformer transform:  87%|████████▋ | 923180/1057452 [00:03<00:00, 384108.60it/s]"
     ]
    },
    {
     "name": "stderr",
     "output_type": "stream",
     "text": [
      "\rDictNBHDTransformer transform:  91%|█████████ | 962423/1057452 [00:03<00:00, 386553.94it/s]"
     ]
    },
    {
     "name": "stderr",
     "output_type": "stream",
     "text": [
      "\rDictNBHDTransformer transform:  95%|█████████▍| 1002832/1057452 [00:03<00:00, 391650.51it/s]"
     ]
    },
    {
     "name": "stderr",
     "output_type": "stream",
     "text": [
      "\rDictNBHDTransformer transform:  99%|█████████▉| 1044853/1057452 [00:03<00:00, 399801.00it/s]"
     ]
    },
    {
     "name": "stderr",
     "output_type": "stream",
     "text": [
      "\rDictNBHDTransformer transform: 100%|██████████| 1057452/1057452 [00:03<00:00, 315442.61it/s]"
     ]
    },
    {
     "name": "stderr",
     "output_type": "stream",
     "text": [
      "\n"
     ]
    },
    {
     "name": "stderr",
     "output_type": "stream",
     "text": [
      "\rLettersTransformer transform:   0%|          | 0/1057452 [00:00<?, ?it/s]"
     ]
    },
    {
     "name": "stderr",
     "output_type": "stream",
     "text": [
      "\rLettersTransformer transform:   3%|▎         | 35372/1057452 [00:00<00:02, 353716.96it/s]"
     ]
    },
    {
     "name": "stderr",
     "output_type": "stream",
     "text": [
      "\rLettersTransformer transform:   9%|▉         | 94115/1057452 [00:00<00:02, 401656.93it/s]"
     ]
    },
    {
     "name": "stderr",
     "output_type": "stream",
     "text": [
      "\rLettersTransformer transform:  15%|█▍        | 155476/1057452 [00:00<00:02, 448089.92it/s]"
     ]
    },
    {
     "name": "stderr",
     "output_type": "stream",
     "text": [
      "\rLettersTransformer transform:  21%|██        | 223421/1057452 [00:00<00:01, 499070.51it/s]"
     ]
    },
    {
     "name": "stderr",
     "output_type": "stream",
     "text": [
      "\rLettersTransformer transform:  28%|██▊       | 292506/1057452 [00:00<00:01, 544407.35it/s]"
     ]
    },
    {
     "name": "stderr",
     "output_type": "stream",
     "text": [
      "\rLettersTransformer transform:  34%|███▍      | 363243/1057452 [00:00<00:01, 584825.51it/s]"
     ]
    },
    {
     "name": "stderr",
     "output_type": "stream",
     "text": [
      "\rLettersTransformer transform:  40%|████      | 428210/1057452 [00:00<00:01, 602875.89it/s]"
     ]
    },
    {
     "name": "stderr",
     "output_type": "stream",
     "text": [
      "\rLettersTransformer transform:  47%|████▋     | 500601/1057452 [00:00<00:00, 634711.86it/s]"
     ]
    },
    {
     "name": "stderr",
     "output_type": "stream",
     "text": [
      "\rLettersTransformer transform:  54%|█████▍    | 571248/1057452 [00:00<00:00, 654659.01it/s]"
     ]
    },
    {
     "name": "stderr",
     "output_type": "stream",
     "text": [
      "\rLettersTransformer transform:  61%|██████    | 643365/1057452 [00:01<00:00, 673287.22it/s]"
     ]
    },
    {
     "name": "stderr",
     "output_type": "stream",
     "text": [
      "\rLettersTransformer transform:  68%|██████▊   | 714471/1057452 [00:01<00:00, 684186.81it/s]"
     ]
    },
    {
     "name": "stderr",
     "output_type": "stream",
     "text": [
      "\rLettersTransformer transform:  75%|███████▍  | 789065/1057452 [00:01<00:00, 701608.26it/s]"
     ]
    },
    {
     "name": "stderr",
     "output_type": "stream",
     "text": [
      "\rLettersTransformer transform:  81%|████████▏ | 859956/1057452 [00:01<00:00, 703781.14it/s]"
     ]
    },
    {
     "name": "stderr",
     "output_type": "stream",
     "text": [
      "\rLettersTransformer transform:  88%|████████▊ | 930780/1057452 [00:01<00:00, 705110.58it/s]"
     ]
    },
    {
     "name": "stderr",
     "output_type": "stream",
     "text": [
      "\rLettersTransformer transform:  95%|█████████▌| 1004749/1057452 [00:01<00:00, 715137.83it/s]"
     ]
    },
    {
     "name": "stderr",
     "output_type": "stream",
     "text": [
      "\rLettersTransformer transform: 100%|██████████| 1057452/1057452 [00:01<00:00, 662639.56it/s]"
     ]
    },
    {
     "name": "stderr",
     "output_type": "stream",
     "text": [
      "\n"
     ]
    },
    {
     "name": "stderr",
     "output_type": "stream",
     "text": [
      "\rDictClassTransformer transform:   0%|          | 0/1057452 [00:00<?, ?it/s]"
     ]
    },
    {
     "name": "stderr",
     "output_type": "stream",
     "text": [
      "\rDictClassTransformer transform:   6%|▌         | 63931/1057452 [00:00<00:01, 639309.09it/s]"
     ]
    },
    {
     "name": "stderr",
     "output_type": "stream",
     "text": [
      "\rDictClassTransformer transform:  16%|█▌        | 169029/1057452 [00:00<00:01, 724436.96it/s]"
     ]
    },
    {
     "name": "stderr",
     "output_type": "stream",
     "text": [
      "\rDictClassTransformer transform:  27%|██▋       | 280472/1057452 [00:00<00:00, 809410.85it/s]"
     ]
    },
    {
     "name": "stderr",
     "output_type": "stream",
     "text": [
      "\rDictClassTransformer transform:  38%|███▊      | 399131/1057452 [00:00<00:00, 894730.76it/s]"
     ]
    },
    {
     "name": "stderr",
     "output_type": "stream",
     "text": [
      "\rDictClassTransformer transform:  50%|█████     | 528945/1057452 [00:00<00:00, 986715.96it/s]"
     ]
    },
    {
     "name": "stderr",
     "output_type": "stream",
     "text": [
      "\rDictClassTransformer transform:  62%|██████▏   | 660884/1057452 [00:00<00:00, 1067458.79it/s]"
     ]
    },
    {
     "name": "stderr",
     "output_type": "stream",
     "text": [
      "\rDictClassTransformer transform:  75%|███████▌  | 797577/1057452 [00:00<00:00, 1142550.54it/s]"
     ]
    },
    {
     "name": "stderr",
     "output_type": "stream",
     "text": [
      "\rDictClassTransformer transform:  89%|████████▊ | 936336/1057452 [00:00<00:00, 1206434.86it/s]"
     ]
    },
    {
     "name": "stderr",
     "output_type": "stream",
     "text": [
      "\rDictClassTransformer transform: 100%|██████████| 1057452/1057452 [00:00<00:00, 1168411.27it/s]"
     ]
    },
    {
     "name": "stderr",
     "output_type": "stream",
     "text": [
      "\n"
     ]
    },
    {
     "name": "stderr",
     "output_type": "stream",
     "text": [
      "\rDictClassTransformer transform:   0%|          | 0/1057452 [00:00<?, ?it/s]"
     ]
    },
    {
     "name": "stderr",
     "output_type": "stream",
     "text": [
      "\rDictClassTransformer transform:   6%|▌         | 63083/1057452 [00:00<00:01, 630824.59it/s]"
     ]
    },
    {
     "name": "stderr",
     "output_type": "stream",
     "text": [
      "\rDictClassTransformer transform:  17%|█▋        | 175899/1057452 [00:00<00:01, 726966.70it/s]"
     ]
    },
    {
     "name": "stderr",
     "output_type": "stream",
     "text": [
      "\rDictClassTransformer transform:  28%|██▊       | 292874/1057452 [00:00<00:00, 820093.99it/s]"
     ]
    },
    {
     "name": "stderr",
     "output_type": "stream",
     "text": [
      "\rDictClassTransformer transform:  40%|███▉      | 419432/1057452 [00:00<00:00, 916920.99it/s]"
     ]
    },
    {
     "name": "stderr",
     "output_type": "stream",
     "text": [
      "\rDictClassTransformer transform:  51%|█████▏    | 544580/1057452 [00:00<00:00, 996866.49it/s]"
     ]
    },
    {
     "name": "stderr",
     "output_type": "stream",
     "text": [
      "\rDictClassTransformer transform:  64%|██████▍   | 676900/1057452 [00:00<00:00, 1076512.72it/s]"
     ]
    },
    {
     "name": "stderr",
     "output_type": "stream",
     "text": [
      "\rDictClassTransformer transform:  77%|███████▋  | 815262/1057452 [00:00<00:00, 1153308.59it/s]"
     ]
    },
    {
     "name": "stderr",
     "output_type": "stream",
     "text": [
      "\rDictClassTransformer transform:  90%|█████████ | 955004/1057452 [00:00<00:00, 1217088.97it/s]"
     ]
    },
    {
     "name": "stderr",
     "output_type": "stream",
     "text": [
      "\rDictClassTransformer transform: 100%|██████████| 1057452/1057452 [00:00<00:00, 1190009.57it/s]"
     ]
    },
    {
     "name": "stderr",
     "output_type": "stream",
     "text": [
      "\n"
     ]
    },
    {
     "name": "stderr",
     "output_type": "stream",
     "text": [
      "\rDictTransformer transform:   0%|          | 0/1057452 [00:00<?, ?it/s]"
     ]
    },
    {
     "name": "stderr",
     "output_type": "stream",
     "text": [
      "\rDictTransformer transform:   1%|          | 8187/1057452 [00:00<00:12, 81869.88it/s]"
     ]
    },
    {
     "name": "stderr",
     "output_type": "stream",
     "text": [
      "\rDictTransformer transform:   4%|▍         | 42272/1057452 [00:00<00:09, 106039.94it/s]"
     ]
    },
    {
     "name": "stderr",
     "output_type": "stream",
     "text": [
      "\rDictTransformer transform:   8%|▊         | 88501/1057452 [00:00<00:07, 137926.53it/s]"
     ]
    },
    {
     "name": "stderr",
     "output_type": "stream",
     "text": [
      "\rDictTransformer transform:  13%|█▎        | 139020/1057452 [00:00<00:05, 176397.87it/s]"
     ]
    },
    {
     "name": "stderr",
     "output_type": "stream",
     "text": [
      "\rDictTransformer transform:  18%|█▊        | 192399/1057452 [00:00<00:03, 220734.37it/s]"
     ]
    },
    {
     "name": "stderr",
     "output_type": "stream",
     "text": [
      "\rDictTransformer transform:  24%|██▎       | 249934/1057452 [00:00<00:02, 270807.13it/s]"
     ]
    },
    {
     "name": "stderr",
     "output_type": "stream",
     "text": [
      "\rDictTransformer transform:  29%|██▉       | 310919/1057452 [00:00<00:02, 325013.64it/s]"
     ]
    },
    {
     "name": "stderr",
     "output_type": "stream",
     "text": [
      "\rDictTransformer transform:  35%|███▌      | 375205/1057452 [00:00<00:01, 381618.07it/s]"
     ]
    },
    {
     "name": "stderr",
     "output_type": "stream",
     "text": [
      "\rDictTransformer transform:  41%|████▏     | 436994/1057452 [00:00<00:01, 431066.44it/s]"
     ]
    },
    {
     "name": "stderr",
     "output_type": "stream",
     "text": [
      "\rDictTransformer transform:  47%|████▋     | 500269/1057452 [00:01<00:01, 476643.13it/s]"
     ]
    },
    {
     "name": "stderr",
     "output_type": "stream",
     "text": [
      "\rDictTransformer transform:  54%|█████▎    | 566398/1057452 [00:01<00:00, 520219.19it/s]"
     ]
    },
    {
     "name": "stderr",
     "output_type": "stream",
     "text": [
      "\rDictTransformer transform:  60%|█████▉    | 631119/1057452 [00:01<00:00, 552756.34it/s]"
     ]
    },
    {
     "name": "stderr",
     "output_type": "stream",
     "text": [
      "\rDictTransformer transform:  66%|██████▌   | 698645/1057452 [00:01<00:00, 584568.97it/s]"
     ]
    },
    {
     "name": "stderr",
     "output_type": "stream",
     "text": [
      "\rDictTransformer transform:  72%|███████▏  | 766594/1057452 [00:01<00:00, 610137.09it/s]"
     ]
    },
    {
     "name": "stderr",
     "output_type": "stream",
     "text": [
      "\rDictTransformer transform:  79%|███████▉  | 837891/1057452 [00:01<00:00, 637727.91it/s]"
     ]
    },
    {
     "name": "stderr",
     "output_type": "stream",
     "text": [
      "\rDictTransformer transform:  86%|████████▌ | 908101/1057452 [00:01<00:00, 655763.06it/s]"
     ]
    },
    {
     "name": "stderr",
     "output_type": "stream",
     "text": [
      "\rDictTransformer transform:  93%|█████████▎| 979520/1057452 [00:01<00:00, 672260.49it/s]"
     ]
    },
    {
     "name": "stderr",
     "output_type": "stream",
     "text": [
      "\rDictTransformer transform:  99%|█████████▉| 1049781/1057452 [00:01<00:00, 681086.15it/s]"
     ]
    },
    {
     "name": "stderr",
     "output_type": "stream",
     "text": [
      "\rDictTransformer transform: 100%|██████████| 1057452/1057452 [00:01<00:00, 576876.72it/s]"
     ]
    },
    {
     "name": "stderr",
     "output_type": "stream",
     "text": [
      "\n"
     ]
    },
    {
     "name": "stderr",
     "output_type": "stream",
     "text": [
      "\rLSTMTransliterator transform stage 1:   0%|          | 0/50872 [00:00<?, ?it/s]"
     ]
    },
    {
     "name": "stderr",
     "output_type": "stream",
     "text": [
      "\rLSTMTransliterator transform stage 1:  23%|██▎       | 11515/50872 [00:00<00:00, 115110.86it/s]"
     ]
    },
    {
     "name": "stderr",
     "output_type": "stream",
     "text": [
      "\rLSTMTransliterator transform stage 1:  46%|████▋     | 23591/50872 [00:00<00:00, 116747.01it/s]"
     ]
    },
    {
     "name": "stderr",
     "output_type": "stream",
     "text": [
      "\rLSTMTransliterator transform stage 1:  68%|██████▊   | 34745/50872 [00:00<00:00, 115131.37it/s]"
     ]
    },
    {
     "name": "stderr",
     "output_type": "stream",
     "text": [
      "\rLSTMTransliterator transform stage 1:  91%|█████████ | 46387/50872 [00:00<00:00, 115513.18it/s]"
     ]
    },
    {
     "name": "stderr",
     "output_type": "stream",
     "text": [
      "\rLSTMTransliterator transform stage 1: 100%|██████████| 50872/50872 [00:00<00:00, 115574.77it/s]"
     ]
    },
    {
     "name": "stderr",
     "output_type": "stream",
     "text": [
      "\n\rLSTMTransliterator transform stage 2:   0%|          | 0/50872 [00:00<?, ?it/s]"
     ]
    },
    {
     "name": "stderr",
     "output_type": "stream",
     "text": [
      "\rLSTMTransliterator transform stage 2:  46%|████▋     | 23554/50872 [00:00<00:00, 235530.68it/s]"
     ]
    },
    {
     "name": "stderr",
     "output_type": "stream",
     "text": [
      "\rLSTMTransliterator transform stage 2:  93%|█████████▎| 47459/50872 [00:00<00:00, 236575.45it/s]"
     ]
    },
    {
     "name": "stderr",
     "output_type": "stream",
     "text": [
      "\rLSTMTransliterator transform stage 2: 100%|██████████| 50872/50872 [00:00<00:00, 237008.81it/s]"
     ]
    },
    {
     "name": "stderr",
     "output_type": "stream",
     "text": [
      "\n"
     ]
    },
    {
     "name": "stdout",
     "output_type": "stream",
     "text": [
      "pipeline test TP 0.9796614881810238\npipeline test FP 0.013470114955572451\n"
     ]
    }
   ],
   "source": [
    "transform()"
   ]
  },
  {
   "cell_type": "code",
   "execution_count": 13,
   "metadata": {
    "collapsed": true
   },
   "outputs": [
    {
     "data": {
      "text/plain": [
       "LETTERS       594199\nVERBATIM      252160\nTRANS          64309\nCARDINAL       60765\nPLAIN          26498\nDASH           17216\nDATE           13855\nMEASURE         4599\nORDINAL          698\nELECTRONIC       473\nDECIMAL          395\nTELEPHONE        229\nDIGIT            217\nTIME             147\nFRACTION         141\nMONEY             44\nPUNCT              0\nName: class, dtype: int64"
      ]
     },
     "execution_count": 13,
     "metadata": {},
     "output_type": "execute_result"
    }
   ],
   "source": [
    "predicted[(predicted[\"after\"] == y_test)]['class'].value_counts()"
   ]
  },
  {
   "cell_type": "code",
   "execution_count": 14,
   "metadata": {},
   "outputs": [
    {
     "data": {
      "text/plain": [
       "TRANS         5264\nCARDINAL      3620\nLETTERS       1305\nDASH          1124\nPLAIN          893\nMEASURE        758\nDATE           706\nORDINAL        283\nDECIMAL        181\nMONEY           48\nFRACTION        39\nTELEPHONE       11\nTIME             6\nVERBATIM         6\nDIGIT            0\nELECTRONIC       0\nPUNCT            0\nName: class, dtype: int64"
      ]
     },
     "execution_count": 14,
     "metadata": {},
     "output_type": "execute_result"
    }
   ],
   "source": [
    "predicted[~(predicted[\"after\"] == y_test) & ~(predicted[\"after\"].isnull())]['class'].value_counts()"
   ]
  },
  {
   "cell_type": "code",
   "execution_count": 15,
   "metadata": {
    "collapsed": true
   },
   "outputs": [
    {
     "data": {
      "text/plain": [
       "DATE          2741\nMEASURE       1571\nCARDINAL      1010\nTELEPHONE      770\nTRANS          343\nDECIMAL        286\nLETTERS        187\nMONEY          149\nFRACTION        72\nTIME            54\nORDINAL         41\nELECTRONIC      22\nPLAIN           15\nVERBATIM         2\nPUNCT            0\nDIGIT            0\nDASH             0\nName: class, dtype: int64"
      ]
     },
     "execution_count": 15,
     "metadata": {},
     "output_type": "execute_result"
    }
   ],
   "source": [
    "predicted[(predicted[\"after\"].isnull())]['class'].value_counts()"
   ]
  },
  {
   "cell_type": "code",
   "execution_count": 16,
   "metadata": {
    "collapsed": false
   },
   "outputs": [
    {
     "data": {
      "text/html": [
       "<div>\n",
       "<style scoped>\n",
       "    .dataframe tbody tr th:only-of-type {\n",
       "        vertical-align: middle;\n",
       "    }\n",
       "\n",
       "    .dataframe tbody tr th {\n",
       "        vertical-align: top;\n",
       "    }\n",
       "\n",
       "    .dataframe thead th {\n",
       "        text-align: right;\n",
       "    }\n",
       "</style>\n",
       "<table border=\"1\" class=\"dataframe\">\n",
       "  <thead>\n",
       "    <tr style=\"text-align: right;\">\n",
       "      <th></th>\n",
       "      <th>before</th>\n",
       "      <th>before_prev</th>\n",
       "      <th>before_next</th>\n",
       "      <th>class</th>\n",
       "      <th>after</th>\n",
       "      <th>after_true</th>\n",
       "    </tr>\n",
       "  </thead>\n",
       "  <tbody>\n",
       "    <tr>\n",
       "      <th>7313702</th>\n",
       "      <td>Wernz</td>\n",
       "      <td>Heike</td>\n",
       "      <td>-</td>\n",
       "      <td>TRANS</td>\n",
       "      <td>у_trans э_trans р_trans н_trans с_trans</td>\n",
       "      <td>в_trans е_trans р_trans н_trans с_trans</td>\n",
       "    </tr>\n",
       "    <tr>\n",
       "      <th>10115803</th>\n",
       "      <td>Ingwe</td>\n",
       "      <td>.</td>\n",
       "      <td>)</td>\n",
       "      <td>TRANS</td>\n",
       "      <td>и_trans н_trans о_trans у_trans</td>\n",
       "      <td>и_trans н_trans г_trans у_trans</td>\n",
       "    </tr>\n",
       "    <tr>\n",
       "      <th>7042095</th>\n",
       "      <td>Xrightarrow</td>\n",
       "      <td>отображениеХtimes</td>\n",
       "      <td>кназывается</td>\n",
       "      <td>TRANS</td>\n",
       "      <td>к_trans с_trans р_trans и_trans й_trans т_tran...</td>\n",
       "      <td>к_trans с_trans р_trans а_trans й_trans т_tran...</td>\n",
       "    </tr>\n",
       "    <tr>\n",
       "      <th>2665377</th>\n",
       "      <td>Enantiornithes</td>\n",
       "      <td>всех</td>\n",
       "      <td>и</td>\n",
       "      <td>TRANS</td>\n",
       "      <td>э_trans н_trans а_trans н_trans т_trans и_tran...</td>\n",
       "      <td>э_trans н_trans а_trans н_trans т_trans и_tran...</td>\n",
       "    </tr>\n",
       "    <tr>\n",
       "      <th>792250</th>\n",
       "      <td>Przyladka</td>\n",
       "      <td>Zielonego</td>\n",
       "      <td>.</td>\n",
       "      <td>TRANS</td>\n",
       "      <td>п_trans р_trans з_trans ь_trans л_trans е_tran...</td>\n",
       "      <td>п_trans р_trans з_trans и_trans л_trans а_tran...</td>\n",
       "    </tr>\n",
       "    <tr>\n",
       "      <th>2276154</th>\n",
       "      <td>Weidinger</td>\n",
       "      <td>-</td>\n",
       "      <td>:</td>\n",
       "      <td>TRANS</td>\n",
       "      <td>в_trans е_trans и_trans д_trans и_trans н_tran...</td>\n",
       "      <td>в_trans е_trans й_trans д_trans и_trans н_tran...</td>\n",
       "    </tr>\n",
       "    <tr>\n",
       "      <th>3670202</th>\n",
       "      <td>Radioactive</td>\n",
       "      <td>:</td>\n",
       "      <td>glow</td>\n",
       "      <td>TRANS</td>\n",
       "      <td>р_trans а_trans д_trans и_trans о_trans к_tran...</td>\n",
       "      <td>р_trans а_trans д_trans и_trans о_trans а_tran...</td>\n",
       "    </tr>\n",
       "    <tr>\n",
       "      <th>4577359</th>\n",
       "      <td>Opostegidae</td>\n",
       "      <td>and</td>\n",
       "      <td>of</td>\n",
       "      <td>TRANS</td>\n",
       "      <td>о_trans п_trans о_trans с_trans т_trans и_tran...</td>\n",
       "      <td>о_trans п_trans о_trans с_trans т_trans е_tran...</td>\n",
       "    </tr>\n",
       "    <tr>\n",
       "      <th>2725922</th>\n",
       "      <td>Toast</td>\n",
       "      <td>Black</td>\n",
       "      <td>Music</td>\n",
       "      <td>TRANS</td>\n",
       "      <td>т_trans о_trans к_trans т_trans</td>\n",
       "      <td>т_trans о_trans а_trans с_trans т_trans</td>\n",
       "    </tr>\n",
       "    <tr>\n",
       "      <th>1921644</th>\n",
       "      <td>BandKilfenora</td>\n",
       "      <td>Ceili</td>\n",
       "      <td>,</td>\n",
       "      <td>TRANS</td>\n",
       "      <td>б_trans а_trans н_trans д_trans и_trans к_tran...</td>\n",
       "      <td>б_trans а_trans н_trans д_trans к_trans и_tran...</td>\n",
       "    </tr>\n",
       "    <tr>\n",
       "      <th>8410025</th>\n",
       "      <td>Aivars</td>\n",
       "      <td>.</td>\n",
       "      <td>Voices</td>\n",
       "      <td>TRANS</td>\n",
       "      <td>э_trans й_trans в_trans в_trans р_trans р_tran...</td>\n",
       "      <td>а_trans й_trans в_trans а_trans р_trans с_trans</td>\n",
       "    </tr>\n",
       "    <tr>\n",
       "      <th>6124416</th>\n",
       "      <td>CoffeeScript</td>\n",
       "      <td>in</td>\n",
       "      <td>.</td>\n",
       "      <td>TRANS</td>\n",
       "      <td>к_trans о_trans ф_trans ф_trans з_trans с_tran...</td>\n",
       "      <td>к_trans о_trans ф_trans ф_trans и_trans с_tran...</td>\n",
       "    </tr>\n",
       "    <tr>\n",
       "      <th>4962635</th>\n",
       "      <td>RitterMila</td>\n",
       "      <td>F.</td>\n",
       "      <td>Britton</td>\n",
       "      <td>TRANS</td>\n",
       "      <td>р_trans и_trans т_trans т_trans е_trans р_tran...</td>\n",
       "      <td>р_trans и_trans т_trans т_trans е_trans р_tran...</td>\n",
       "    </tr>\n",
       "    <tr>\n",
       "      <th>6302223</th>\n",
       "      <td>Concubinaria</td>\n",
       "      <td>Union</td>\n",
       "      <td>)</td>\n",
       "      <td>TRANS</td>\n",
       "      <td>к_trans о_trans н_trans к_trans у_trans б_tran...</td>\n",
       "      <td>к_trans о_trans н_trans к_trans а_trans б_tran...</td>\n",
       "    </tr>\n",
       "    <tr>\n",
       "      <th>1179313</th>\n",
       "      <td>haplotypes</td>\n",
       "      <td>DNA</td>\n",
       "      <td>in</td>\n",
       "      <td>TRANS</td>\n",
       "      <td>х_trans а_trans п_trans л_trans о_trans п_tran...</td>\n",
       "      <td>х_trans а_trans п_trans л_trans о_trans т_tran...</td>\n",
       "    </tr>\n",
       "    <tr>\n",
       "      <th>10131860</th>\n",
       "      <td>peerages</td>\n",
       "      <td>the</td>\n",
       "      <td>of</td>\n",
       "      <td>TRANS</td>\n",
       "      <td>п_trans и_trans р_trans р_trans д_trans ж_tran...</td>\n",
       "      <td>п_trans и_trans р_trans а_trans д_trans ж_tran...</td>\n",
       "    </tr>\n",
       "    <tr>\n",
       "      <th>4956813</th>\n",
       "      <td>Nyasasaurus</td>\n",
       "      <td>Вид</td>\n",
       "      <td>parringtoni</td>\n",
       "      <td>TRANS</td>\n",
       "      <td>н_trans а_trans ю_trans а_trans а_trans а_tran...</td>\n",
       "      <td>н_trans а_trans й_trans а_trans с_trans а_tran...</td>\n",
       "    </tr>\n",
       "    <tr>\n",
       "      <th>10454301</th>\n",
       "      <td>quarta</td>\n",
       "      <td>la</td>\n",
       "      <td>volta</td>\n",
       "      <td>TRANS</td>\n",
       "      <td>к_trans в_trans а_trans р_trans т_trans а_trans</td>\n",
       "      <td>к_trans у_trans о_trans р_trans т_trans а_trans</td>\n",
       "    </tr>\n",
       "    <tr>\n",
       "      <th>2223267</th>\n",
       "      <td>Hyphomycetes</td>\n",
       "      <td>(</td>\n",
       "      <td>)</td>\n",
       "      <td>TRANS</td>\n",
       "      <td>х_trans а_trans й_trans п_trans о_trans л_tran...</td>\n",
       "      <td>х_trans а_trans й_trans ф_trans о_trans м_tran...</td>\n",
       "    </tr>\n",
       "    <tr>\n",
       "      <th>2557063</th>\n",
       "      <td>Crociere</td>\n",
       "      <td>Costa</td>\n",
       "      <td>S.</td>\n",
       "      <td>TRANS</td>\n",
       "      <td>к_trans р_trans о_trans ш_trans ь_trans е_tran...</td>\n",
       "      <td>к_trans р_trans о_trans ш_trans е_trans р_trans</td>\n",
       "    </tr>\n",
       "  </tbody>\n",
       "</table>\n",
       "</div>"
      ],
      "text/plain": [
       "<div>\n",
       "<style scoped>\n",
       "    .dataframe tbody tr th:only-of-type {\n",
       "        vertical-align: middle;\n",
       "    }\n",
       "\n",
       "    .dataframe tbody tr th {\n",
       "        vertical-align: top;\n",
       "    }\n",
       "\n",
       "    .dataframe thead th {\n",
       "        text-align: right;\n",
       "    }\n",
       "</style>\n",
       "<table border=\"1\" class=\"dataframe\">\n",
       "  <thead>\n",
       "    <tr style=\"text-align: right;\">\n",
       "      <th></th>\n",
       "      <th>before</th>\n",
       "      <th>before_prev</th>\n",
       "      <th>before_next</th>\n",
       "      <th>class</th>\n",
       "      <th>after</th>\n",
       "      <th>after_true</th>\n",
       "    </tr>\n",
       "  </thead>\n",
       "  <tbody>\n",
       "    <tr>\n",
       "      <th>7313702</th>\n",
       "      <td>Wernz</td>\n",
       "      <td>Heike</td>\n",
       "      <td>-</td>\n",
       "      <td>TRANS</td>\n",
       "      <td>у_trans э_trans р_trans н_trans с_trans</td>\n",
       "      <td>в_trans е_trans р_trans н_trans с_trans</td>\n",
       "    </tr>\n",
       "    <tr>\n",
       "      <th>10115803</th>\n",
       "      <td>Ingwe</td>\n",
       "      <td>.</td>\n",
       "      <td>)</td>\n",
       "      <td>TRANS</td>\n",
       "      <td>и_trans н_trans о_trans у_trans</td>\n",
       "      <td>и_trans н_trans г_trans у_trans</td>\n",
       "    </tr>\n",
       "    <tr>\n",
       "      <th>7042095</th>\n",
       "      <td>Xrightarrow</td>\n",
       "      <td>отображениеХtimes</td>\n",
       "      <td>кназывается</td>\n",
       "      <td>TRANS</td>\n",
       "      <td>к_trans с_trans р_trans и_trans й_trans т_tran...</td>\n",
       "      <td>к_trans с_trans р_trans а_trans й_trans т_tran...</td>\n",
       "    </tr>\n",
       "    <tr>\n",
       "      <th>2665377</th>\n",
       "      <td>Enantiornithes</td>\n",
       "      <td>всех</td>\n",
       "      <td>и</td>\n",
       "      <td>TRANS</td>\n",
       "      <td>э_trans н_trans а_trans н_trans т_trans и_tran...</td>\n",
       "      <td>э_trans н_trans а_trans н_trans т_trans и_tran...</td>\n",
       "    </tr>\n",
       "    <tr>\n",
       "      <th>792250</th>\n",
       "      <td>Przyladka</td>\n",
       "      <td>Zielonego</td>\n",
       "      <td>.</td>\n",
       "      <td>TRANS</td>\n",
       "      <td>п_trans р_trans з_trans ь_trans л_trans е_tran...</td>\n",
       "      <td>п_trans р_trans з_trans и_trans л_trans а_tran...</td>\n",
       "    </tr>\n",
       "    <tr>\n",
       "      <th>2276154</th>\n",
       "      <td>Weidinger</td>\n",
       "      <td>-</td>\n",
       "      <td>:</td>\n",
       "      <td>TRANS</td>\n",
       "      <td>в_trans е_trans и_trans д_trans и_trans н_tran...</td>\n",
       "      <td>в_trans е_trans й_trans д_trans и_trans н_tran...</td>\n",
       "    </tr>\n",
       "    <tr>\n",
       "      <th>3670202</th>\n",
       "      <td>Radioactive</td>\n",
       "      <td>:</td>\n",
       "      <td>glow</td>\n",
       "      <td>TRANS</td>\n",
       "      <td>р_trans а_trans д_trans и_trans о_trans к_tran...</td>\n",
       "      <td>р_trans а_trans д_trans и_trans о_trans а_tran...</td>\n",
       "    </tr>\n",
       "    <tr>\n",
       "      <th>4577359</th>\n",
       "      <td>Opostegidae</td>\n",
       "      <td>and</td>\n",
       "      <td>of</td>\n",
       "      <td>TRANS</td>\n",
       "      <td>о_trans п_trans о_trans с_trans т_trans и_tran...</td>\n",
       "      <td>о_trans п_trans о_trans с_trans т_trans е_tran...</td>\n",
       "    </tr>\n",
       "    <tr>\n",
       "      <th>2725922</th>\n",
       "      <td>Toast</td>\n",
       "      <td>Black</td>\n",
       "      <td>Music</td>\n",
       "      <td>TRANS</td>\n",
       "      <td>т_trans о_trans к_trans т_trans</td>\n",
       "      <td>т_trans о_trans а_trans с_trans т_trans</td>\n",
       "    </tr>\n",
       "    <tr>\n",
       "      <th>1921644</th>\n",
       "      <td>BandKilfenora</td>\n",
       "      <td>Ceili</td>\n",
       "      <td>,</td>\n",
       "      <td>TRANS</td>\n",
       "      <td>б_trans а_trans н_trans д_trans и_trans к_tran...</td>\n",
       "      <td>б_trans а_trans н_trans д_trans к_trans и_tran...</td>\n",
       "    </tr>\n",
       "    <tr>\n",
       "      <th>8410025</th>\n",
       "      <td>Aivars</td>\n",
       "      <td>.</td>\n",
       "      <td>Voices</td>\n",
       "      <td>TRANS</td>\n",
       "      <td>э_trans й_trans в_trans в_trans р_trans р_tran...</td>\n",
       "      <td>а_trans й_trans в_trans а_trans р_trans с_trans</td>\n",
       "    </tr>\n",
       "    <tr>\n",
       "      <th>6124416</th>\n",
       "      <td>CoffeeScript</td>\n",
       "      <td>in</td>\n",
       "      <td>.</td>\n",
       "      <td>TRANS</td>\n",
       "      <td>к_trans о_trans ф_trans ф_trans з_trans с_tran...</td>\n",
       "      <td>к_trans о_trans ф_trans ф_trans и_trans с_tran...</td>\n",
       "    </tr>\n",
       "    <tr>\n",
       "      <th>4962635</th>\n",
       "      <td>RitterMila</td>\n",
       "      <td>F.</td>\n",
       "      <td>Britton</td>\n",
       "      <td>TRANS</td>\n",
       "      <td>р_trans и_trans т_trans т_trans е_trans р_tran...</td>\n",
       "      <td>р_trans и_trans т_trans т_trans е_trans р_tran...</td>\n",
       "    </tr>\n",
       "    <tr>\n",
       "      <th>6302223</th>\n",
       "      <td>Concubinaria</td>\n",
       "      <td>Union</td>\n",
       "      <td>)</td>\n",
       "      <td>TRANS</td>\n",
       "      <td>к_trans о_trans н_trans к_trans у_trans б_tran...</td>\n",
       "      <td>к_trans о_trans н_trans к_trans а_trans б_tran...</td>\n",
       "    </tr>\n",
       "    <tr>\n",
       "      <th>1179313</th>\n",
       "      <td>haplotypes</td>\n",
       "      <td>DNA</td>\n",
       "      <td>in</td>\n",
       "      <td>TRANS</td>\n",
       "      <td>х_trans а_trans п_trans л_trans о_trans п_tran...</td>\n",
       "      <td>х_trans а_trans п_trans л_trans о_trans т_tran...</td>\n",
       "    </tr>\n",
       "    <tr>\n",
       "      <th>10131860</th>\n",
       "      <td>peerages</td>\n",
       "      <td>the</td>\n",
       "      <td>of</td>\n",
       "      <td>TRANS</td>\n",
       "      <td>п_trans и_trans р_trans р_trans д_trans ж_tran...</td>\n",
       "      <td>п_trans и_trans р_trans а_trans д_trans ж_tran...</td>\n",
       "    </tr>\n",
       "    <tr>\n",
       "      <th>4956813</th>\n",
       "      <td>Nyasasaurus</td>\n",
       "      <td>Вид</td>\n",
       "      <td>parringtoni</td>\n",
       "      <td>TRANS</td>\n",
       "      <td>н_trans а_trans ю_trans а_trans а_trans а_tran...</td>\n",
       "      <td>н_trans а_trans й_trans а_trans с_trans а_tran...</td>\n",
       "    </tr>\n",
       "    <tr>\n",
       "      <th>10454301</th>\n",
       "      <td>quarta</td>\n",
       "      <td>la</td>\n",
       "      <td>volta</td>\n",
       "      <td>TRANS</td>\n",
       "      <td>к_trans в_trans а_trans р_trans т_trans а_trans</td>\n",
       "      <td>к_trans у_trans о_trans р_trans т_trans а_trans</td>\n",
       "    </tr>\n",
       "    <tr>\n",
       "      <th>2223267</th>\n",
       "      <td>Hyphomycetes</td>\n",
       "      <td>(</td>\n",
       "      <td>)</td>\n",
       "      <td>TRANS</td>\n",
       "      <td>х_trans а_trans й_trans п_trans о_trans л_tran...</td>\n",
       "      <td>х_trans а_trans й_trans ф_trans о_trans м_tran...</td>\n",
       "    </tr>\n",
       "    <tr>\n",
       "      <th>2557063</th>\n",
       "      <td>Crociere</td>\n",
       "      <td>Costa</td>\n",
       "      <td>S.</td>\n",
       "      <td>TRANS</td>\n",
       "      <td>к_trans р_trans о_trans ш_trans ь_trans е_tran...</td>\n",
       "      <td>к_trans р_trans о_trans ш_trans е_trans р_trans</td>\n",
       "    </tr>\n",
       "  </tbody>\n",
       "</table>\n",
       "</div>"
      ]
     },
     "execution_count": 16,
     "metadata": {},
     "output_type": "execute_result"
    }
   ],
   "source": [
    "predicted[~(predicted[\"after\"] == y_test) & ~(predicted[\"after\"].isnull()) & (predicted['class']=='TRANS')].assign(after_true=y_test).sample(20)"
   ]
  },
  {
   "cell_type": "code",
   "execution_count": 17,
   "metadata": {
    "collapsed": false
   },
   "outputs": [
    {
     "data": {
      "text/html": [
       "<div>\n",
       "<style scoped>\n",
       "    .dataframe tbody tr th:only-of-type {\n",
       "        vertical-align: middle;\n",
       "    }\n",
       "\n",
       "    .dataframe tbody tr th {\n",
       "        vertical-align: top;\n",
       "    }\n",
       "\n",
       "    .dataframe thead th {\n",
       "        text-align: right;\n",
       "    }\n",
       "</style>\n",
       "<table border=\"1\" class=\"dataframe\">\n",
       "  <thead>\n",
       "    <tr style=\"text-align: right;\">\n",
       "      <th></th>\n",
       "      <th>class</th>\n",
       "      <th>before</th>\n",
       "      <th>after</th>\n",
       "      <th>before_prev</th>\n",
       "      <th>before_next</th>\n",
       "    </tr>\n",
       "  </thead>\n",
       "  <tbody>\n",
       "    <tr>\n",
       "      <th>40420</th>\n",
       "      <td>FRACTION</td>\n",
       "      <td>7½</td>\n",
       "      <td>семи целых и одной второй</td>\n",
       "      <td>около</td>\n",
       "      <td>фунтов</td>\n",
       "    </tr>\n",
       "    <tr>\n",
       "      <th>157446</th>\n",
       "      <td>FRACTION</td>\n",
       "      <td>3½</td>\n",
       "      <td>три целых и одну вторую</td>\n",
       "      <td>на</td>\n",
       "      <td>очка</td>\n",
       "    </tr>\n",
       "    <tr>\n",
       "      <th>445580</th>\n",
       "      <td>FRACTION</td>\n",
       "      <td>59½</td>\n",
       "      <td>пятидесяти девяти целых и одной второй</td>\n",
       "      <td>139 976 рублей</td>\n",
       "      <td>копейки</td>\n",
       "    </tr>\n",
       "    <tr>\n",
       "      <th>765884</th>\n",
       "      <td>FRACTION</td>\n",
       "      <td>¼</td>\n",
       "      <td>одна четвертая</td>\n",
       "      <td>Второй</td>\n",
       "      <td>финалДата</td>\n",
       "    </tr>\n",
       "    <tr>\n",
       "      <th>803808</th>\n",
       "      <td>FRACTION</td>\n",
       "      <td>½</td>\n",
       "      <td>одна вторая</td>\n",
       "      <td>номиналом</td>\n",
       "      <td>шиллинга</td>\n",
       "    </tr>\n",
       "    <tr>\n",
       "      <th>999135</th>\n",
       "      <td>FRACTION</td>\n",
       "      <td>⅔</td>\n",
       "      <td>две третьих</td>\n",
       "      <td>на</td>\n",
       "      <td>территории</td>\n",
       "    </tr>\n",
       "    <tr>\n",
       "      <th>1253476</th>\n",
       "      <td>FRACTION</td>\n",
       "      <td>½</td>\n",
       "      <td>одна вторая</td>\n",
       "      <td>CrA</td>\n",
       "      <td>gut</td>\n",
       "    </tr>\n",
       "    <tr>\n",
       "      <th>1584453</th>\n",
       "      <td>FRACTION</td>\n",
       "      <td>8½</td>\n",
       "      <td>восемь целых и одна вторая</td>\n",
       "      <td>«</td>\n",
       "      <td>женщин</td>\n",
       "    </tr>\n",
       "    <tr>\n",
       "      <th>1584466</th>\n",
       "      <td>FRACTION</td>\n",
       "      <td>8½</td>\n",
       "      <td>восемь целых и одна вторая</td>\n",
       "      <td>.</td>\n",
       "      <td>Women</td>\n",
       "    </tr>\n",
       "    <tr>\n",
       "      <th>1876892</th>\n",
       "      <td>FRACTION</td>\n",
       "      <td>½</td>\n",
       "      <td>одна вторая</td>\n",
       "      <td>в</td>\n",
       "      <td>,</td>\n",
       "    </tr>\n",
       "    <tr>\n",
       "      <th>1876899</th>\n",
       "      <td>FRACTION</td>\n",
       "      <td>¼</td>\n",
       "      <td>одна четвертая</td>\n",
       "      <td>и</td>\n",
       "      <td>и</td>\n",
       "    </tr>\n",
       "    <tr>\n",
       "      <th>1876901</th>\n",
       "      <td>FRACTION</td>\n",
       "      <td>½</td>\n",
       "      <td>одна вторая</td>\n",
       "      <td>и</td>\n",
       "      <td>рупий</td>\n",
       "    </tr>\n",
       "    <tr>\n",
       "      <th>1921150</th>\n",
       "      <td>FRACTION</td>\n",
       "      <td>5 ½</td>\n",
       "      <td>пять целых и одна вторая</td>\n",
       "      <td>—</td>\n",
       "      <td>обеж</td>\n",
       "    </tr>\n",
       "    <tr>\n",
       "      <th>1949935</th>\n",
       "      <td>FRACTION</td>\n",
       "      <td>½</td>\n",
       "      <td>одна вторая</td>\n",
       "      <td>ничью</td>\n",
       "      <td>очка</td>\n",
       "    </tr>\n",
       "    <tr>\n",
       "      <th>2023480</th>\n",
       "      <td>FRACTION</td>\n",
       "      <td>½</td>\n",
       "      <td>одна вторая</td>\n",
       "      <td>состояло</td>\n",
       "      <td>дес</td>\n",
       "    </tr>\n",
       "    <tr>\n",
       "      <th>2023485</th>\n",
       "      <td>FRACTION</td>\n",
       "      <td>2 ¾</td>\n",
       "      <td>две целых и три четвертых</td>\n",
       "      <td>усадебной</td>\n",
       "      <td>дес</td>\n",
       "    </tr>\n",
       "    <tr>\n",
       "      <th>2271189</th>\n",
       "      <td>FRACTION</td>\n",
       "      <td>282½</td>\n",
       "      <td>двумястами восьмьюдесятью двумя целыми и одной...</td>\n",
       "      <td>выпущено</td>\n",
       "      <td>тысяч</td>\n",
       "    </tr>\n",
       "    <tr>\n",
       "      <th>2315287</th>\n",
       "      <td>FRACTION</td>\n",
       "      <td>6½</td>\n",
       "      <td>шесть целых и одну вторую</td>\n",
       "      <td>набрав</td>\n",
       "      <td>очков</td>\n",
       "    </tr>\n",
       "    <tr>\n",
       "      <th>2496593</th>\n",
       "      <td>FRACTION</td>\n",
       "      <td>8½</td>\n",
       "      <td>восемь целых и одна вторая</td>\n",
       "      <td>матча</td>\n",
       "      <td>:</td>\n",
       "    </tr>\n",
       "    <tr>\n",
       "      <th>2496595</th>\n",
       "      <td>FRACTION</td>\n",
       "      <td>3½</td>\n",
       "      <td>три целых и одна вторая</td>\n",
       "      <td>:</td>\n",
       "      <td>в</td>\n",
       "    </tr>\n",
       "    <tr>\n",
       "      <th>2812456</th>\n",
       "      <td>FRACTION</td>\n",
       "      <td>2½</td>\n",
       "      <td>две целых и одну вторую</td>\n",
       "      <td>на</td>\n",
       "      <td>тысячи</td>\n",
       "    </tr>\n",
       "    <tr>\n",
       "      <th>3172820</th>\n",
       "      <td>FRACTION</td>\n",
       "      <td>¾</td>\n",
       "      <td>три четвертых</td>\n",
       "      <td>в</td>\n",
       "      <td>от</td>\n",
       "    </tr>\n",
       "    <tr>\n",
       "      <th>3220263</th>\n",
       "      <td>FRACTION</td>\n",
       "      <td>2½</td>\n",
       "      <td>две целых и одна вторая</td>\n",
       "      <td>—</td>\n",
       "      <td>:</td>\n",
       "    </tr>\n",
       "    <tr>\n",
       "      <th>3220265</th>\n",
       "      <td>FRACTION</td>\n",
       "      <td>1½</td>\n",
       "      <td>одна целая и одна вторая</td>\n",
       "      <td>:</td>\n",
       "      <td>.</td>\n",
       "    </tr>\n",
       "    <tr>\n",
       "      <th>3250501</th>\n",
       "      <td>FRACTION</td>\n",
       "      <td>1 ½</td>\n",
       "      <td>одна целая и одна вторая</td>\n",
       "      <td>.</td>\n",
       "      <td>роты</td>\n",
       "    </tr>\n",
       "    <tr>\n",
       "      <th>3395752</th>\n",
       "      <td>FRACTION</td>\n",
       "      <td>½</td>\n",
       "      <td>одна вторая</td>\n",
       "      <td>Более</td>\n",
       "      <td>валовой</td>\n",
       "    </tr>\n",
       "    <tr>\n",
       "      <th>3417776</th>\n",
       "      <td>FRACTION</td>\n",
       "      <td>3½</td>\n",
       "      <td>три целых и одна вторая</td>\n",
       "      <td>счетом</td>\n",
       "      <td>:</td>\n",
       "    </tr>\n",
       "    <tr>\n",
       "      <th>3417778</th>\n",
       "      <td>FRACTION</td>\n",
       "      <td>2½</td>\n",
       "      <td>две целых и одна вторая</td>\n",
       "      <td>:</td>\n",
       "      <td>и</td>\n",
       "    </tr>\n",
       "    <tr>\n",
       "      <th>3478079</th>\n",
       "      <td>FRACTION</td>\n",
       "      <td>¼</td>\n",
       "      <td>одна четвертая</td>\n",
       "      <td>в</td>\n",
       "      <td>финала</td>\n",
       "    </tr>\n",
       "    <tr>\n",
       "      <th>3488898</th>\n",
       "      <td>FRACTION</td>\n",
       "      <td>¾</td>\n",
       "      <td>три четвертых</td>\n",
       "      <td>~</td>\n",
       "      <td>)</td>\n",
       "    </tr>\n",
       "    <tr>\n",
       "      <th>...</th>\n",
       "      <td>...</td>\n",
       "      <td>...</td>\n",
       "      <td>...</td>\n",
       "      <td>...</td>\n",
       "      <td>...</td>\n",
       "    </tr>\n",
       "    <tr>\n",
       "      <th>5646924</th>\n",
       "      <td>FRACTION</td>\n",
       "      <td>10½</td>\n",
       "      <td>десяти целых и одной второй</td>\n",
       "      <td>в</td>\n",
       "      <td>главах</td>\n",
       "    </tr>\n",
       "    <tr>\n",
       "      <th>5710816</th>\n",
       "      <td>FRACTION</td>\n",
       "      <td>6½</td>\n",
       "      <td>шесть целых и одна вторая</td>\n",
       "      <td>(</td>\n",
       "      <td>:</td>\n",
       "    </tr>\n",
       "    <tr>\n",
       "      <th>5710818</th>\n",
       "      <td>FRACTION</td>\n",
       "      <td>4½</td>\n",
       "      <td>четыре целых и одна вторая</td>\n",
       "      <td>:</td>\n",
       "      <td>)</td>\n",
       "    </tr>\n",
       "    <tr>\n",
       "      <th>5743241</th>\n",
       "      <td>FRACTION</td>\n",
       "      <td>2½</td>\n",
       "      <td>двух целых и одной второй</td>\n",
       "      <td>и</td>\n",
       "      <td>года</td>\n",
       "    </tr>\n",
       "    <tr>\n",
       "      <th>6011771</th>\n",
       "      <td>FRACTION</td>\n",
       "      <td>4 ½</td>\n",
       "      <td>четыре целых и одну вторую</td>\n",
       "      <td>Invicta</td>\n",
       "      <td>litre</td>\n",
       "    </tr>\n",
       "    <tr>\n",
       "      <th>6260409</th>\n",
       "      <td>FRACTION</td>\n",
       "      <td>1¼</td>\n",
       "      <td>одной целой и одной четвертой</td>\n",
       "      <td>до</td>\n",
       "      <td>аршина</td>\n",
       "    </tr>\n",
       "    <tr>\n",
       "      <th>6452616</th>\n",
       "      <td>FRACTION</td>\n",
       "      <td>9½</td>\n",
       "      <td>девять целых и одна вторая</td>\n",
       "      <td>по</td>\n",
       "      <td>.</td>\n",
       "    </tr>\n",
       "    <tr>\n",
       "      <th>6800651</th>\n",
       "      <td>FRACTION</td>\n",
       "      <td>½</td>\n",
       "      <td>одна вторая</td>\n",
       "      <td>Ранма</td>\n",
       "      <td>»</td>\n",
       "    </tr>\n",
       "    <tr>\n",
       "      <th>7253139</th>\n",
       "      <td>FRACTION</td>\n",
       "      <td>10½</td>\n",
       "      <td>десять целых и одну вторую</td>\n",
       "      <td>по</td>\n",
       "      <td>очков</td>\n",
       "    </tr>\n",
       "    <tr>\n",
       "      <th>7612900</th>\n",
       "      <td>FRACTION</td>\n",
       "      <td>⅔</td>\n",
       "      <td>две третьих</td>\n",
       "      <td>ленивца</td>\n",
       "      <td>веса</td>\n",
       "    </tr>\n",
       "    <tr>\n",
       "      <th>8033344</th>\n",
       "      <td>FRACTION</td>\n",
       "      <td>5¼</td>\n",
       "      <td>пятью целыми и одной четвертой</td>\n",
       "      <td>двусторонними</td>\n",
       "      <td>дюймовыми</td>\n",
       "    </tr>\n",
       "    <tr>\n",
       "      <th>8259581</th>\n",
       "      <td>FRACTION</td>\n",
       "      <td>8½</td>\n",
       "      <td>восьми целым и одной второй</td>\n",
       "      <td>по</td>\n",
       "      <td>очков</td>\n",
       "    </tr>\n",
       "    <tr>\n",
       "      <th>8283325</th>\n",
       "      <td>FRACTION</td>\n",
       "      <td>2½</td>\n",
       "      <td>две целых и одна вторая</td>\n",
       "      <td>—</td>\n",
       "      <td>:</td>\n",
       "    </tr>\n",
       "    <tr>\n",
       "      <th>8283327</th>\n",
       "      <td>FRACTION</td>\n",
       "      <td>1½</td>\n",
       "      <td>одна целая и одна вторая</td>\n",
       "      <td>:</td>\n",
       "      <td>.</td>\n",
       "    </tr>\n",
       "    <tr>\n",
       "      <th>8317226</th>\n",
       "      <td>FRACTION</td>\n",
       "      <td>¼</td>\n",
       "      <td>одна четвертая</td>\n",
       "      <td>занимавшая</td>\n",
       "      <td>часть</td>\n",
       "    </tr>\n",
       "    <tr>\n",
       "      <th>8355301</th>\n",
       "      <td>FRACTION</td>\n",
       "      <td>6½</td>\n",
       "      <td>шесть целых и одну вторую</td>\n",
       "      <td>набрал</td>\n",
       "      <td>очков</td>\n",
       "    </tr>\n",
       "    <tr>\n",
       "      <th>8457757</th>\n",
       "      <td>FRACTION</td>\n",
       "      <td>½</td>\n",
       "      <td>одна вторая</td>\n",
       "      <td>находилась</td>\n",
       "      <td>германской</td>\n",
       "    </tr>\n",
       "    <tr>\n",
       "      <th>8627416</th>\n",
       "      <td>FRACTION</td>\n",
       "      <td>⅔</td>\n",
       "      <td>двух третьих</td>\n",
       "      <td>более</td>\n",
       "      <td>)</td>\n",
       "    </tr>\n",
       "    <tr>\n",
       "      <th>8717346</th>\n",
       "      <td>FRACTION</td>\n",
       "      <td>¼</td>\n",
       "      <td>одна четвертая</td>\n",
       "      <td>составлял</td>\n",
       "      <td>рупии</td>\n",
       "    </tr>\n",
       "    <tr>\n",
       "      <th>8737281</th>\n",
       "      <td>FRACTION</td>\n",
       "      <td>3 ½</td>\n",
       "      <td>три целых и одна вторая</td>\n",
       "      <td>—</td>\n",
       "      <td>октавы</td>\n",
       "    </tr>\n",
       "    <tr>\n",
       "      <th>8984892</th>\n",
       "      <td>FRACTION</td>\n",
       "      <td>½</td>\n",
       "      <td>одной второй</td>\n",
       "      <td>от</td>\n",
       "      <td>-</td>\n",
       "    </tr>\n",
       "    <tr>\n",
       "      <th>8984894</th>\n",
       "      <td>FRACTION</td>\n",
       "      <td>¾</td>\n",
       "      <td>трех четвертых</td>\n",
       "      <td>-</td>\n",
       "      <td>мм</td>\n",
       "    </tr>\n",
       "    <tr>\n",
       "      <th>9080276</th>\n",
       "      <td>FRACTION</td>\n",
       "      <td>9½</td>\n",
       "      <td>девять целых и одна вторая</td>\n",
       "      <td>по</td>\n",
       "      <td>.</td>\n",
       "    </tr>\n",
       "    <tr>\n",
       "      <th>9080375</th>\n",
       "      <td>FRACTION</td>\n",
       "      <td>10½</td>\n",
       "      <td>десять целых и одна вторая</td>\n",
       "      <td>—</td>\n",
       "      <td>.</td>\n",
       "    </tr>\n",
       "    <tr>\n",
       "      <th>9083227</th>\n",
       "      <td>FRACTION</td>\n",
       "      <td>3½</td>\n",
       "      <td>три целых и одна вторая</td>\n",
       "      <td>—</td>\n",
       "      <td>;</td>\n",
       "    </tr>\n",
       "    <tr>\n",
       "      <th>9768976</th>\n",
       "      <td>FRACTION</td>\n",
       "      <td>2½</td>\n",
       "      <td>две целых и одна вторая</td>\n",
       "      <td>«</td>\n",
       "      <td>часа</td>\n",
       "    </tr>\n",
       "    <tr>\n",
       "      <th>9918776</th>\n",
       "      <td>FRACTION</td>\n",
       "      <td>9 ¾</td>\n",
       "      <td>девять целых и три четвертых</td>\n",
       "      <td>платформы</td>\n",
       "      <td>.</td>\n",
       "    </tr>\n",
       "    <tr>\n",
       "      <th>9921668</th>\n",
       "      <td>FRACTION</td>\n",
       "      <td>¾</td>\n",
       "      <td>три четвертых</td>\n",
       "      <td>занимали</td>\n",
       "      <td>длины</td>\n",
       "    </tr>\n",
       "    <tr>\n",
       "      <th>10013235</th>\n",
       "      <td>FRACTION</td>\n",
       "      <td>½</td>\n",
       "      <td>одна вторая</td>\n",
       "      <td>равная</td>\n",
       "      <td>асса</td>\n",
       "    </tr>\n",
       "    <tr>\n",
       "      <th>10277345</th>\n",
       "      <td>FRACTION</td>\n",
       "      <td>6¾</td>\n",
       "      <td>шесть целых и три четвертых</td>\n",
       "      <td>диска</td>\n",
       "      <td>'</td>\n",
       "    </tr>\n",
       "  </tbody>\n",
       "</table>\n",
       "<p>75 rows × 5 columns</p>\n",
       "</div>"
      ],
      "text/plain": [
       "<div>\n",
       "<style scoped>\n",
       "    .dataframe tbody tr th:only-of-type {\n",
       "        vertical-align: middle;\n",
       "    }\n",
       "\n",
       "    .dataframe tbody tr th {\n",
       "        vertical-align: top;\n",
       "    }\n",
       "\n",
       "    .dataframe thead th {\n",
       "        text-align: right;\n",
       "    }\n",
       "</style>\n",
       "<table border=\"1\" class=\"dataframe\">\n",
       "  <thead>\n",
       "    <tr style=\"text-align: right;\">\n",
       "      <th></th>\n",
       "      <th>class</th>\n",
       "      <th>before</th>\n",
       "      <th>after</th>\n",
       "      <th>before_prev</th>\n",
       "      <th>before_next</th>\n",
       "    </tr>\n",
       "  </thead>\n",
       "  <tbody>\n",
       "    <tr>\n",
       "      <th>40420</th>\n",
       "      <td>FRACTION</td>\n",
       "      <td>7½</td>\n",
       "      <td>семи целых и одной второй</td>\n",
       "      <td>около</td>\n",
       "      <td>фунтов</td>\n",
       "    </tr>\n",
       "    <tr>\n",
       "      <th>157446</th>\n",
       "      <td>FRACTION</td>\n",
       "      <td>3½</td>\n",
       "      <td>три целых и одну вторую</td>\n",
       "      <td>на</td>\n",
       "      <td>очка</td>\n",
       "    </tr>\n",
       "    <tr>\n",
       "      <th>445580</th>\n",
       "      <td>FRACTION</td>\n",
       "      <td>59½</td>\n",
       "      <td>пятидесяти девяти целых и одной второй</td>\n",
       "      <td>139 976 рублей</td>\n",
       "      <td>копейки</td>\n",
       "    </tr>\n",
       "    <tr>\n",
       "      <th>765884</th>\n",
       "      <td>FRACTION</td>\n",
       "      <td>¼</td>\n",
       "      <td>одна четвертая</td>\n",
       "      <td>Второй</td>\n",
       "      <td>финалДата</td>\n",
       "    </tr>\n",
       "    <tr>\n",
       "      <th>803808</th>\n",
       "      <td>FRACTION</td>\n",
       "      <td>½</td>\n",
       "      <td>одна вторая</td>\n",
       "      <td>номиналом</td>\n",
       "      <td>шиллинга</td>\n",
       "    </tr>\n",
       "    <tr>\n",
       "      <th>999135</th>\n",
       "      <td>FRACTION</td>\n",
       "      <td>⅔</td>\n",
       "      <td>две третьих</td>\n",
       "      <td>на</td>\n",
       "      <td>территории</td>\n",
       "    </tr>\n",
       "    <tr>\n",
       "      <th>1253476</th>\n",
       "      <td>FRACTION</td>\n",
       "      <td>½</td>\n",
       "      <td>одна вторая</td>\n",
       "      <td>CrA</td>\n",
       "      <td>gut</td>\n",
       "    </tr>\n",
       "    <tr>\n",
       "      <th>1584453</th>\n",
       "      <td>FRACTION</td>\n",
       "      <td>8½</td>\n",
       "      <td>восемь целых и одна вторая</td>\n",
       "      <td>«</td>\n",
       "      <td>женщин</td>\n",
       "    </tr>\n",
       "    <tr>\n",
       "      <th>1584466</th>\n",
       "      <td>FRACTION</td>\n",
       "      <td>8½</td>\n",
       "      <td>восемь целых и одна вторая</td>\n",
       "      <td>.</td>\n",
       "      <td>Women</td>\n",
       "    </tr>\n",
       "    <tr>\n",
       "      <th>1876892</th>\n",
       "      <td>FRACTION</td>\n",
       "      <td>½</td>\n",
       "      <td>одна вторая</td>\n",
       "      <td>в</td>\n",
       "      <td>,</td>\n",
       "    </tr>\n",
       "    <tr>\n",
       "      <th>1876899</th>\n",
       "      <td>FRACTION</td>\n",
       "      <td>¼</td>\n",
       "      <td>одна четвертая</td>\n",
       "      <td>и</td>\n",
       "      <td>и</td>\n",
       "    </tr>\n",
       "    <tr>\n",
       "      <th>1876901</th>\n",
       "      <td>FRACTION</td>\n",
       "      <td>½</td>\n",
       "      <td>одна вторая</td>\n",
       "      <td>и</td>\n",
       "      <td>рупий</td>\n",
       "    </tr>\n",
       "    <tr>\n",
       "      <th>1921150</th>\n",
       "      <td>FRACTION</td>\n",
       "      <td>5 ½</td>\n",
       "      <td>пять целых и одна вторая</td>\n",
       "      <td>—</td>\n",
       "      <td>обеж</td>\n",
       "    </tr>\n",
       "    <tr>\n",
       "      <th>1949935</th>\n",
       "      <td>FRACTION</td>\n",
       "      <td>½</td>\n",
       "      <td>одна вторая</td>\n",
       "      <td>ничью</td>\n",
       "      <td>очка</td>\n",
       "    </tr>\n",
       "    <tr>\n",
       "      <th>2023480</th>\n",
       "      <td>FRACTION</td>\n",
       "      <td>½</td>\n",
       "      <td>одна вторая</td>\n",
       "      <td>состояло</td>\n",
       "      <td>дес</td>\n",
       "    </tr>\n",
       "    <tr>\n",
       "      <th>2023485</th>\n",
       "      <td>FRACTION</td>\n",
       "      <td>2 ¾</td>\n",
       "      <td>две целых и три четвертых</td>\n",
       "      <td>усадебной</td>\n",
       "      <td>дес</td>\n",
       "    </tr>\n",
       "    <tr>\n",
       "      <th>2271189</th>\n",
       "      <td>FRACTION</td>\n",
       "      <td>282½</td>\n",
       "      <td>двумястами восьмьюдесятью двумя целыми и одной...</td>\n",
       "      <td>выпущено</td>\n",
       "      <td>тысяч</td>\n",
       "    </tr>\n",
       "    <tr>\n",
       "      <th>2315287</th>\n",
       "      <td>FRACTION</td>\n",
       "      <td>6½</td>\n",
       "      <td>шесть целых и одну вторую</td>\n",
       "      <td>набрав</td>\n",
       "      <td>очков</td>\n",
       "    </tr>\n",
       "    <tr>\n",
       "      <th>2496593</th>\n",
       "      <td>FRACTION</td>\n",
       "      <td>8½</td>\n",
       "      <td>восемь целых и одна вторая</td>\n",
       "      <td>матча</td>\n",
       "      <td>:</td>\n",
       "    </tr>\n",
       "    <tr>\n",
       "      <th>2496595</th>\n",
       "      <td>FRACTION</td>\n",
       "      <td>3½</td>\n",
       "      <td>три целых и одна вторая</td>\n",
       "      <td>:</td>\n",
       "      <td>в</td>\n",
       "    </tr>\n",
       "    <tr>\n",
       "      <th>2812456</th>\n",
       "      <td>FRACTION</td>\n",
       "      <td>2½</td>\n",
       "      <td>две целых и одну вторую</td>\n",
       "      <td>на</td>\n",
       "      <td>тысячи</td>\n",
       "    </tr>\n",
       "    <tr>\n",
       "      <th>3172820</th>\n",
       "      <td>FRACTION</td>\n",
       "      <td>¾</td>\n",
       "      <td>три четвертых</td>\n",
       "      <td>в</td>\n",
       "      <td>от</td>\n",
       "    </tr>\n",
       "    <tr>\n",
       "      <th>3220263</th>\n",
       "      <td>FRACTION</td>\n",
       "      <td>2½</td>\n",
       "      <td>две целых и одна вторая</td>\n",
       "      <td>—</td>\n",
       "      <td>:</td>\n",
       "    </tr>\n",
       "    <tr>\n",
       "      <th>3220265</th>\n",
       "      <td>FRACTION</td>\n",
       "      <td>1½</td>\n",
       "      <td>одна целая и одна вторая</td>\n",
       "      <td>:</td>\n",
       "      <td>.</td>\n",
       "    </tr>\n",
       "    <tr>\n",
       "      <th>3250501</th>\n",
       "      <td>FRACTION</td>\n",
       "      <td>1 ½</td>\n",
       "      <td>одна целая и одна вторая</td>\n",
       "      <td>.</td>\n",
       "      <td>роты</td>\n",
       "    </tr>\n",
       "    <tr>\n",
       "      <th>3395752</th>\n",
       "      <td>FRACTION</td>\n",
       "      <td>½</td>\n",
       "      <td>одна вторая</td>\n",
       "      <td>Более</td>\n",
       "      <td>валовой</td>\n",
       "    </tr>\n",
       "    <tr>\n",
       "      <th>3417776</th>\n",
       "      <td>FRACTION</td>\n",
       "      <td>3½</td>\n",
       "      <td>три целых и одна вторая</td>\n",
       "      <td>счетом</td>\n",
       "      <td>:</td>\n",
       "    </tr>\n",
       "    <tr>\n",
       "      <th>3417778</th>\n",
       "      <td>FRACTION</td>\n",
       "      <td>2½</td>\n",
       "      <td>две целых и одна вторая</td>\n",
       "      <td>:</td>\n",
       "      <td>и</td>\n",
       "    </tr>\n",
       "    <tr>\n",
       "      <th>3478079</th>\n",
       "      <td>FRACTION</td>\n",
       "      <td>¼</td>\n",
       "      <td>одна четвертая</td>\n",
       "      <td>в</td>\n",
       "      <td>финала</td>\n",
       "    </tr>\n",
       "    <tr>\n",
       "      <th>3488898</th>\n",
       "      <td>FRACTION</td>\n",
       "      <td>¾</td>\n",
       "      <td>три четвертых</td>\n",
       "      <td>~</td>\n",
       "      <td>)</td>\n",
       "    </tr>\n",
       "    <tr>\n",
       "      <th>...</th>\n",
       "      <td>...</td>\n",
       "      <td>...</td>\n",
       "      <td>...</td>\n",
       "      <td>...</td>\n",
       "      <td>...</td>\n",
       "    </tr>\n",
       "    <tr>\n",
       "      <th>5646924</th>\n",
       "      <td>FRACTION</td>\n",
       "      <td>10½</td>\n",
       "      <td>десяти целых и одной второй</td>\n",
       "      <td>в</td>\n",
       "      <td>главах</td>\n",
       "    </tr>\n",
       "    <tr>\n",
       "      <th>5710816</th>\n",
       "      <td>FRACTION</td>\n",
       "      <td>6½</td>\n",
       "      <td>шесть целых и одна вторая</td>\n",
       "      <td>(</td>\n",
       "      <td>:</td>\n",
       "    </tr>\n",
       "    <tr>\n",
       "      <th>5710818</th>\n",
       "      <td>FRACTION</td>\n",
       "      <td>4½</td>\n",
       "      <td>четыре целых и одна вторая</td>\n",
       "      <td>:</td>\n",
       "      <td>)</td>\n",
       "    </tr>\n",
       "    <tr>\n",
       "      <th>5743241</th>\n",
       "      <td>FRACTION</td>\n",
       "      <td>2½</td>\n",
       "      <td>двух целых и одной второй</td>\n",
       "      <td>и</td>\n",
       "      <td>года</td>\n",
       "    </tr>\n",
       "    <tr>\n",
       "      <th>6011771</th>\n",
       "      <td>FRACTION</td>\n",
       "      <td>4 ½</td>\n",
       "      <td>четыре целых и одну вторую</td>\n",
       "      <td>Invicta</td>\n",
       "      <td>litre</td>\n",
       "    </tr>\n",
       "    <tr>\n",
       "      <th>6260409</th>\n",
       "      <td>FRACTION</td>\n",
       "      <td>1¼</td>\n",
       "      <td>одной целой и одной четвертой</td>\n",
       "      <td>до</td>\n",
       "      <td>аршина</td>\n",
       "    </tr>\n",
       "    <tr>\n",
       "      <th>6452616</th>\n",
       "      <td>FRACTION</td>\n",
       "      <td>9½</td>\n",
       "      <td>девять целых и одна вторая</td>\n",
       "      <td>по</td>\n",
       "      <td>.</td>\n",
       "    </tr>\n",
       "    <tr>\n",
       "      <th>6800651</th>\n",
       "      <td>FRACTION</td>\n",
       "      <td>½</td>\n",
       "      <td>одна вторая</td>\n",
       "      <td>Ранма</td>\n",
       "      <td>»</td>\n",
       "    </tr>\n",
       "    <tr>\n",
       "      <th>7253139</th>\n",
       "      <td>FRACTION</td>\n",
       "      <td>10½</td>\n",
       "      <td>десять целых и одну вторую</td>\n",
       "      <td>по</td>\n",
       "      <td>очков</td>\n",
       "    </tr>\n",
       "    <tr>\n",
       "      <th>7612900</th>\n",
       "      <td>FRACTION</td>\n",
       "      <td>⅔</td>\n",
       "      <td>две третьих</td>\n",
       "      <td>ленивца</td>\n",
       "      <td>веса</td>\n",
       "    </tr>\n",
       "    <tr>\n",
       "      <th>8033344</th>\n",
       "      <td>FRACTION</td>\n",
       "      <td>5¼</td>\n",
       "      <td>пятью целыми и одной четвертой</td>\n",
       "      <td>двусторонними</td>\n",
       "      <td>дюймовыми</td>\n",
       "    </tr>\n",
       "    <tr>\n",
       "      <th>8259581</th>\n",
       "      <td>FRACTION</td>\n",
       "      <td>8½</td>\n",
       "      <td>восьми целым и одной второй</td>\n",
       "      <td>по</td>\n",
       "      <td>очков</td>\n",
       "    </tr>\n",
       "    <tr>\n",
       "      <th>8283325</th>\n",
       "      <td>FRACTION</td>\n",
       "      <td>2½</td>\n",
       "      <td>две целых и одна вторая</td>\n",
       "      <td>—</td>\n",
       "      <td>:</td>\n",
       "    </tr>\n",
       "    <tr>\n",
       "      <th>8283327</th>\n",
       "      <td>FRACTION</td>\n",
       "      <td>1½</td>\n",
       "      <td>одна целая и одна вторая</td>\n",
       "      <td>:</td>\n",
       "      <td>.</td>\n",
       "    </tr>\n",
       "    <tr>\n",
       "      <th>8317226</th>\n",
       "      <td>FRACTION</td>\n",
       "      <td>¼</td>\n",
       "      <td>одна четвертая</td>\n",
       "      <td>занимавшая</td>\n",
       "      <td>часть</td>\n",
       "    </tr>\n",
       "    <tr>\n",
       "      <th>8355301</th>\n",
       "      <td>FRACTION</td>\n",
       "      <td>6½</td>\n",
       "      <td>шесть целых и одну вторую</td>\n",
       "      <td>набрал</td>\n",
       "      <td>очков</td>\n",
       "    </tr>\n",
       "    <tr>\n",
       "      <th>8457757</th>\n",
       "      <td>FRACTION</td>\n",
       "      <td>½</td>\n",
       "      <td>одна вторая</td>\n",
       "      <td>находилась</td>\n",
       "      <td>германской</td>\n",
       "    </tr>\n",
       "    <tr>\n",
       "      <th>8627416</th>\n",
       "      <td>FRACTION</td>\n",
       "      <td>⅔</td>\n",
       "      <td>двух третьих</td>\n",
       "      <td>более</td>\n",
       "      <td>)</td>\n",
       "    </tr>\n",
       "    <tr>\n",
       "      <th>8717346</th>\n",
       "      <td>FRACTION</td>\n",
       "      <td>¼</td>\n",
       "      <td>одна четвертая</td>\n",
       "      <td>составлял</td>\n",
       "      <td>рупии</td>\n",
       "    </tr>\n",
       "    <tr>\n",
       "      <th>8737281</th>\n",
       "      <td>FRACTION</td>\n",
       "      <td>3 ½</td>\n",
       "      <td>три целых и одна вторая</td>\n",
       "      <td>—</td>\n",
       "      <td>октавы</td>\n",
       "    </tr>\n",
       "    <tr>\n",
       "      <th>8984892</th>\n",
       "      <td>FRACTION</td>\n",
       "      <td>½</td>\n",
       "      <td>одной второй</td>\n",
       "      <td>от</td>\n",
       "      <td>-</td>\n",
       "    </tr>\n",
       "    <tr>\n",
       "      <th>8984894</th>\n",
       "      <td>FRACTION</td>\n",
       "      <td>¾</td>\n",
       "      <td>трех четвертых</td>\n",
       "      <td>-</td>\n",
       "      <td>мм</td>\n",
       "    </tr>\n",
       "    <tr>\n",
       "      <th>9080276</th>\n",
       "      <td>FRACTION</td>\n",
       "      <td>9½</td>\n",
       "      <td>девять целых и одна вторая</td>\n",
       "      <td>по</td>\n",
       "      <td>.</td>\n",
       "    </tr>\n",
       "    <tr>\n",
       "      <th>9080375</th>\n",
       "      <td>FRACTION</td>\n",
       "      <td>10½</td>\n",
       "      <td>десять целых и одна вторая</td>\n",
       "      <td>—</td>\n",
       "      <td>.</td>\n",
       "    </tr>\n",
       "    <tr>\n",
       "      <th>9083227</th>\n",
       "      <td>FRACTION</td>\n",
       "      <td>3½</td>\n",
       "      <td>три целых и одна вторая</td>\n",
       "      <td>—</td>\n",
       "      <td>;</td>\n",
       "    </tr>\n",
       "    <tr>\n",
       "      <th>9768976</th>\n",
       "      <td>FRACTION</td>\n",
       "      <td>2½</td>\n",
       "      <td>две целых и одна вторая</td>\n",
       "      <td>«</td>\n",
       "      <td>часа</td>\n",
       "    </tr>\n",
       "    <tr>\n",
       "      <th>9918776</th>\n",
       "      <td>FRACTION</td>\n",
       "      <td>9 ¾</td>\n",
       "      <td>девять целых и три четвертых</td>\n",
       "      <td>платформы</td>\n",
       "      <td>.</td>\n",
       "    </tr>\n",
       "    <tr>\n",
       "      <th>9921668</th>\n",
       "      <td>FRACTION</td>\n",
       "      <td>¾</td>\n",
       "      <td>три четвертых</td>\n",
       "      <td>занимали</td>\n",
       "      <td>длины</td>\n",
       "    </tr>\n",
       "    <tr>\n",
       "      <th>10013235</th>\n",
       "      <td>FRACTION</td>\n",
       "      <td>½</td>\n",
       "      <td>одна вторая</td>\n",
       "      <td>равная</td>\n",
       "      <td>асса</td>\n",
       "    </tr>\n",
       "    <tr>\n",
       "      <th>10277345</th>\n",
       "      <td>FRACTION</td>\n",
       "      <td>6¾</td>\n",
       "      <td>шесть целых и три четвертых</td>\n",
       "      <td>диска</td>\n",
       "      <td>'</td>\n",
       "    </tr>\n",
       "  </tbody>\n",
       "</table>\n",
       "<p>75 rows × 5 columns</p>\n",
       "</div>"
      ]
     },
     "execution_count": 17,
     "metadata": {},
     "output_type": "execute_result"
    }
   ],
   "source": [
    "df[~(df['before'].str.match('^-?\\d*\\s?\\d*\\s?\\/\\s?\\d+\\s?\\d*$')) & (df['class'] == 'FRACTION')]"
   ]
  },
  {
   "cell_type": "code",
   "execution_count": 30,
   "metadata": {},
   "outputs": [],
   "source": []
  },
  {
   "cell_type": "code",
   "execution_count": null,
   "metadata": {},
   "outputs": [],
   "source": []
  }
 ],
 "metadata": {
  "kernelspec": {
   "display_name": "Python 2",
   "language": "python",
   "name": "python2"
  },
  "language_info": {
   "codemirror_mode": {
    "name": "ipython",
    "version": 2
   },
   "file_extension": ".py",
   "mimetype": "text/x-python",
   "name": "python",
   "nbconvert_exporter": "python",
   "pygments_lexer": "ipython2",
   "version": "2.7.6"
  }
 },
 "nbformat": 4,
 "nbformat_minor": 0
}
