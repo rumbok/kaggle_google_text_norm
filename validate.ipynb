{
 "cells": [
  {
   "cell_type": "code",
   "execution_count": 2,
   "metadata": {
    "collapsed": false
   },
   "outputs": [
    {
     "name": "stderr",
     "output_type": "stream",
     "text": [
      "Using TensorFlow backend.\n"
     ]
    },
    {
     "name": "stderr",
     "output_type": "stream",
     "text": [
      "\rMorphologyExtractor create index: 0it [00:00, ?it/s]"
     ]
    },
    {
     "name": "stderr",
     "output_type": "stream",
     "text": [
      "\rMorphologyExtractor create index: 13928it [00:00, 139277.48it/s]"
     ]
    },
    {
     "name": "stderr",
     "output_type": "stream",
     "text": [
      "\rMorphologyExtractor create index: 28109it [00:00, 140026.44it/s]"
     ]
    },
    {
     "name": "stderr",
     "output_type": "stream",
     "text": [
      "\rMorphologyExtractor create index: 43221it [00:00, 143177.15it/s]"
     ]
    },
    {
     "name": "stderr",
     "output_type": "stream",
     "text": [
      "\rMorphologyExtractor create index: 57744it [00:00, 143784.79it/s]"
     ]
    },
    {
     "name": "stderr",
     "output_type": "stream",
     "text": [
      "\rMorphologyExtractor create index: 72521it [00:00, 144955.81it/s]"
     ]
    },
    {
     "name": "stderr",
     "output_type": "stream",
     "text": [
      "\rMorphologyExtractor create index: 88231it [00:00, 148396.78it/s]"
     ]
    },
    {
     "name": "stderr",
     "output_type": "stream",
     "text": [
      "\rMorphologyExtractor create index: 103518it [00:00, 149707.07it/s]"
     ]
    },
    {
     "name": "stderr",
     "output_type": "stream",
     "text": [
      "\rMorphologyExtractor create index: 117365it [00:00, 145303.97it/s]"
     ]
    },
    {
     "name": "stderr",
     "output_type": "stream",
     "text": [
      "\rMorphologyExtractor create index: 132441it [00:00, 146897.47it/s]"
     ]
    },
    {
     "name": "stderr",
     "output_type": "stream",
     "text": [
      "\rMorphologyExtractor create index: 147783it [00:01, 148792.29it/s]"
     ]
    },
    {
     "name": "stderr",
     "output_type": "stream",
     "text": [
      "\rMorphologyExtractor create index: 162584it [00:01, 148556.67it/s]"
     ]
    },
    {
     "name": "stderr",
     "output_type": "stream",
     "text": [
      "\rMorphologyExtractor create index: 177505it [00:01, 148751.58it/s]"
     ]
    },
    {
     "name": "stderr",
     "output_type": "stream",
     "text": [
      "\rMorphologyExtractor create index: 192403it [00:01, 148817.31it/s]"
     ]
    },
    {
     "name": "stderr",
     "output_type": "stream",
     "text": [
      "\rMorphologyExtractor create index: 208030it [00:01, 150976.91it/s]"
     ]
    },
    {
     "name": "stderr",
     "output_type": "stream",
     "text": [
      "\rMorphologyExtractor create index: 223961it [00:01, 153382.51it/s]"
     ]
    },
    {
     "name": "stderr",
     "output_type": "stream",
     "text": [
      "\rMorphologyExtractor create index: 239253it [00:01, 145956.81it/s]"
     ]
    },
    {
     "name": "stderr",
     "output_type": "stream",
     "text": [
      "\rMorphologyExtractor create index: 254539it [00:01, 147960.52it/s]"
     ]
    },
    {
     "name": "stderr",
     "output_type": "stream",
     "text": [
      "\rMorphologyExtractor create index: 269504it [00:01, 148461.70it/s]"
     ]
    },
    {
     "name": "stderr",
     "output_type": "stream",
     "text": [
      "\rMorphologyExtractor create index: 284377it [00:01, 124879.76it/s]"
     ]
    },
    {
     "name": "stderr",
     "output_type": "stream",
     "text": [
      "\rMorphologyExtractor create index: 297521it [00:02, 95636.23it/s] "
     ]
    },
    {
     "name": "stderr",
     "output_type": "stream",
     "text": [
      "\rMorphologyExtractor create index: 308578it [00:02, 97842.77it/s]"
     ]
    },
    {
     "name": "stderr",
     "output_type": "stream",
     "text": [
      "\rMorphologyExtractor create index: 319420it [00:02, 99531.10it/s]"
     ]
    },
    {
     "name": "stderr",
     "output_type": "stream",
     "text": [
      "\rMorphologyExtractor create index: 330121it [00:02, 101291.08it/s]"
     ]
    },
    {
     "name": "stderr",
     "output_type": "stream",
     "text": [
      "\rMorphologyExtractor create index: 345129it [00:02, 112234.05it/s]"
     ]
    },
    {
     "name": "stderr",
     "output_type": "stream",
     "text": [
      "\rMorphologyExtractor create index: 357752it [00:02, 116094.17it/s]"
     ]
    },
    {
     "name": "stderr",
     "output_type": "stream",
     "text": [
      "\rMorphologyExtractor create index: 369914it [00:02, 105019.73it/s]"
     ]
    },
    {
     "name": "stderr",
     "output_type": "stream",
     "text": [
      "\rMorphologyExtractor create index: 381463it [00:02, 107954.70it/s]"
     ]
    },
    {
     "name": "stderr",
     "output_type": "stream",
     "text": [
      "\rMorphologyExtractor create index: 394153it [00:03, 113014.63it/s]"
     ]
    },
    {
     "name": "stderr",
     "output_type": "stream",
     "text": [
      "\rMorphologyExtractor create index: 408733it [00:03, 121189.74it/s]"
     ]
    },
    {
     "name": "stderr",
     "output_type": "stream",
     "text": [
      "\rMorphologyExtractor create index: 423309it [00:03, 127643.48it/s]"
     ]
    },
    {
     "name": "stderr",
     "output_type": "stream",
     "text": [
      "\rMorphologyExtractor create index: 438323it [00:03, 133650.86it/s]"
     ]
    },
    {
     "name": "stderr",
     "output_type": "stream",
     "text": [
      "\rMorphologyExtractor create index: 454234it [00:03, 140388.87it/s]"
     ]
    },
    {
     "name": "stderr",
     "output_type": "stream",
     "text": [
      "\rMorphologyExtractor create index: 469453it [00:03, 143730.75it/s]"
     ]
    },
    {
     "name": "stderr",
     "output_type": "stream",
     "text": [
      "\rMorphologyExtractor create index: 484561it [00:03, 145856.46it/s]"
     ]
    },
    {
     "name": "stderr",
     "output_type": "stream",
     "text": [
      "\rMorphologyExtractor create index: 499834it [00:03, 147848.41it/s]"
     ]
    },
    {
     "name": "stderr",
     "output_type": "stream",
     "text": [
      "\rMorphologyExtractor create index: 515742it [00:03, 151046.47it/s]"
     ]
    },
    {
     "name": "stderr",
     "output_type": "stream",
     "text": [
      "\rMorphologyExtractor create index: 530959it [00:03, 150589.11it/s]"
     ]
    },
    {
     "name": "stderr",
     "output_type": "stream",
     "text": [
      "\rMorphologyExtractor create index: 547010it [00:04, 153432.85it/s]"
     ]
    },
    {
     "name": "stderr",
     "output_type": "stream",
     "text": [
      "\rMorphologyExtractor create index: 562422it [00:04, 151934.44it/s]"
     ]
    },
    {
     "name": "stderr",
     "output_type": "stream",
     "text": [
      "\rMorphologyExtractor create index: 577667it [00:04, 150452.34it/s]"
     ]
    },
    {
     "name": "stderr",
     "output_type": "stream",
     "text": [
      "\rMorphologyExtractor create index: 592752it [00:04, 150538.47it/s]"
     ]
    },
    {
     "name": "stderr",
     "output_type": "stream",
     "text": [
      "\rMorphologyExtractor create index: 608490it [00:04, 152525.04it/s]"
     ]
    },
    {
     "name": "stderr",
     "output_type": "stream",
     "text": [
      "\rMorphologyExtractor create index: 623801it [00:04, 152698.69it/s]"
     ]
    },
    {
     "name": "stderr",
     "output_type": "stream",
     "text": [
      "\rMorphologyExtractor create index: 639174it [00:04, 153005.80it/s]"
     ]
    },
    {
     "name": "stderr",
     "output_type": "stream",
     "text": [
      "\rMorphologyExtractor create index: 654488it [00:04, 151948.09it/s]"
     ]
    },
    {
     "name": "stderr",
     "output_type": "stream",
     "text": [
      "\rMorphologyExtractor create index: 669694it [00:04, 142062.17it/s]"
     ]
    },
    {
     "name": "stderr",
     "output_type": "stream",
     "text": [
      "\rMorphologyExtractor create index: 684889it [00:04, 144887.49it/s]"
     ]
    },
    {
     "name": "stderr",
     "output_type": "stream",
     "text": [
      "\rMorphologyExtractor create index: 699566it [00:05, 145446.68it/s]"
     ]
    },
    {
     "name": "stderr",
     "output_type": "stream",
     "text": [
      "\rMorphologyExtractor create index: 714189it [00:05, 145605.92it/s]"
     ]
    },
    {
     "name": "stderr",
     "output_type": "stream",
     "text": [
      "\rMorphologyExtractor create index: 729449it [00:05, 147633.27it/s]"
     ]
    },
    {
     "name": "stderr",
     "output_type": "stream",
     "text": [
      "\rMorphologyExtractor create index: 744337it [00:05, 148002.40it/s]"
     ]
    },
    {
     "name": "stderr",
     "output_type": "stream",
     "text": [
      "\rMorphologyExtractor create index: 759776it [00:05, 149860.76it/s]"
     ]
    },
    {
     "name": "stderr",
     "output_type": "stream",
     "text": [
      "\rMorphologyExtractor create index: 774790it [00:05, 149409.97it/s]"
     ]
    },
    {
     "name": "stderr",
     "output_type": "stream",
     "text": [
      "\rMorphologyExtractor create index: 789751it [00:05, 148297.40it/s]"
     ]
    },
    {
     "name": "stderr",
     "output_type": "stream",
     "text": [
      "\rMorphologyExtractor create index: 804597it [00:05, 144119.64it/s]"
     ]
    },
    {
     "name": "stderr",
     "output_type": "stream",
     "text": [
      "\rMorphologyExtractor create index: 819046it [00:05, 137861.72it/s]"
     ]
    },
    {
     "name": "stderr",
     "output_type": "stream",
     "text": [
      "\rMorphologyExtractor create index: 834567it [00:06, 142642.47it/s]"
     ]
    },
    {
     "name": "stderr",
     "output_type": "stream",
     "text": [
      "\rMorphologyExtractor create index: 849748it [00:06, 145274.27it/s]"
     ]
    },
    {
     "name": "stderr",
     "output_type": "stream",
     "text": [
      "\rMorphologyExtractor create index: 865343it [00:06, 148319.53it/s]"
     ]
    },
    {
     "name": "stderr",
     "output_type": "stream",
     "text": [
      "\rMorphologyExtractor create index: 880249it [00:06, 115943.10it/s]"
     ]
    },
    {
     "name": "stderr",
     "output_type": "stream",
     "text": [
      "\rMorphologyExtractor create index: 892988it [00:06, 82946.70it/s] "
     ]
    },
    {
     "name": "stderr",
     "output_type": "stream",
     "text": [
      "\rMorphologyExtractor create index: 903401it [00:06, 68179.26it/s]"
     ]
    },
    {
     "name": "stderr",
     "output_type": "stream",
     "text": [
      "\rMorphologyExtractor create index: 912135it [00:06, 71773.85it/s]"
     ]
    },
    {
     "name": "stderr",
     "output_type": "stream",
     "text": [
      "\rMorphologyExtractor create index: 922138it [00:07, 78417.91it/s]"
     ]
    },
    {
     "name": "stderr",
     "output_type": "stream",
     "text": [
      "\rMorphologyExtractor create index: 933382it [00:07, 86246.85it/s]"
     ]
    },
    {
     "name": "stderr",
     "output_type": "stream",
     "text": [
      "\rMorphologyExtractor create index: 943055it [00:07, 85285.05it/s]"
     ]
    },
    {
     "name": "stderr",
     "output_type": "stream",
     "text": [
      "\rMorphologyExtractor create index: 952320it [00:07, 85326.91it/s]"
     ]
    },
    {
     "name": "stderr",
     "output_type": "stream",
     "text": [
      "\rMorphologyExtractor create index: 962010it [00:07, 88494.92it/s]"
     ]
    },
    {
     "name": "stderr",
     "output_type": "stream",
     "text": [
      "\rMorphologyExtractor create index: 971251it [00:07, 88272.56it/s]"
     ]
    },
    {
     "name": "stderr",
     "output_type": "stream",
     "text": [
      "\rMorphologyExtractor create index: 984572it [00:07, 98211.43it/s]"
     ]
    },
    {
     "name": "stderr",
     "output_type": "stream",
     "text": [
      "\rMorphologyExtractor create index: 998153it [00:07, 107106.89it/s]"
     ]
    },
    {
     "name": "stderr",
     "output_type": "stream",
     "text": [
      "\rMorphologyExtractor create index: 1010308it [00:07, 111064.32it/s]"
     ]
    },
    {
     "name": "stderr",
     "output_type": "stream",
     "text": [
      "\rMorphologyExtractor create index: 1021886it [00:08, 102260.11it/s]"
     ]
    },
    {
     "name": "stderr",
     "output_type": "stream",
     "text": [
      "\rMorphologyExtractor create index: 1036179it [00:08, 111796.46it/s]"
     ]
    },
    {
     "name": "stderr",
     "output_type": "stream",
     "text": [
      "\rMorphologyExtractor create index: 1049478it [00:08, 117409.61it/s]"
     ]
    },
    {
     "name": "stderr",
     "output_type": "stream",
     "text": [
      "\rMorphologyExtractor create index: 1061709it [00:08, 108772.81it/s]"
     ]
    },
    {
     "name": "stderr",
     "output_type": "stream",
     "text": [
      "\rMorphologyExtractor create index: 1073698it [00:08, 111883.68it/s]"
     ]
    },
    {
     "name": "stderr",
     "output_type": "stream",
     "text": [
      "\rMorphologyExtractor create index: 1087203it [00:08, 117952.55it/s]"
     ]
    },
    {
     "name": "stderr",
     "output_type": "stream",
     "text": [
      "\rMorphologyExtractor create index: 1101484it [00:08, 124450.15it/s]"
     ]
    },
    {
     "name": "stderr",
     "output_type": "stream",
     "text": [
      "\rMorphologyExtractor create index: 1114259it [00:08, 122374.87it/s]"
     ]
    },
    {
     "name": "stderr",
     "output_type": "stream",
     "text": [
      "\rMorphologyExtractor create index: 1127815it [00:08, 126052.03it/s]"
     ]
    },
    {
     "name": "stderr",
     "output_type": "stream",
     "text": [
      "\rMorphologyExtractor create index: 1142132it [00:08, 130739.44it/s]"
     ]
    },
    {
     "name": "stderr",
     "output_type": "stream",
     "text": [
      "\rMorphologyExtractor create index: 1155899it [00:09, 132742.33it/s]"
     ]
    },
    {
     "name": "stderr",
     "output_type": "stream",
     "text": [
      "\rMorphologyExtractor create index: 1171214it [00:09, 138269.73it/s]"
     ]
    },
    {
     "name": "stderr",
     "output_type": "stream",
     "text": [
      "\rMorphologyExtractor create index: 1186565it [00:09, 142513.88it/s]"
     ]
    },
    {
     "name": "stderr",
     "output_type": "stream",
     "text": [
      "\rMorphologyExtractor create index: 1201312it [00:09, 143963.31it/s]"
     ]
    },
    {
     "name": "stderr",
     "output_type": "stream",
     "text": [
      "\rMorphologyExtractor create index: 1217169it [00:09, 148054.67it/s]"
     ]
    },
    {
     "name": "stderr",
     "output_type": "stream",
     "text": [
      "\rMorphologyExtractor create index: 1232075it [00:09, 146287.13it/s]"
     ]
    },
    {
     "name": "stderr",
     "output_type": "stream",
     "text": [
      "\rMorphologyExtractor create index: 1246779it [00:09, 142699.08it/s]"
     ]
    },
    {
     "name": "stderr",
     "output_type": "stream",
     "text": [
      "\rMorphologyExtractor create index: 1261121it [00:09, 140377.42it/s]"
     ]
    },
    {
     "name": "stderr",
     "output_type": "stream",
     "text": [
      "\rMorphologyExtractor create index: 1275218it [00:09, 127037.27it/s]"
     ]
    },
    {
     "name": "stderr",
     "output_type": "stream",
     "text": [
      "\rMorphologyExtractor create index: 1288205it [00:10, 123828.49it/s]"
     ]
    },
    {
     "name": "stderr",
     "output_type": "stream",
     "text": [
      "\rMorphologyExtractor create index: 1302527it [00:10, 129069.85it/s]"
     ]
    },
    {
     "name": "stderr",
     "output_type": "stream",
     "text": [
      "\rMorphologyExtractor create index: 1317002it [00:10, 133403.32it/s]"
     ]
    },
    {
     "name": "stderr",
     "output_type": "stream",
     "text": [
      "\rMorphologyExtractor create index: 1331176it [00:10, 135797.59it/s]"
     ]
    },
    {
     "name": "stderr",
     "output_type": "stream",
     "text": [
      "\rMorphologyExtractor create index: 1345347it [00:10, 137518.41it/s]"
     ]
    },
    {
     "name": "stderr",
     "output_type": "stream",
     "text": [
      "\rMorphologyExtractor create index: 1359902it [00:10, 139831.66it/s]"
     ]
    },
    {
     "name": "stderr",
     "output_type": "stream",
     "text": [
      "\rMorphologyExtractor create index: 1373967it [00:10, 134424.14it/s]"
     ]
    },
    {
     "name": "stderr",
     "output_type": "stream",
     "text": [
      "\rMorphologyExtractor create index: 1387902it [00:10, 135863.37it/s]"
     ]
    },
    {
     "name": "stderr",
     "output_type": "stream",
     "text": [
      "\rMorphologyExtractor create index: 1402000it [00:10, 137357.34it/s]"
     ]
    },
    {
     "name": "stderr",
     "output_type": "stream",
     "text": [
      "\rMorphologyExtractor create index: 1415792it [00:10, 134025.53it/s]"
     ]
    },
    {
     "name": "stderr",
     "output_type": "stream",
     "text": [
      "\rMorphologyExtractor create index: 1430279it [00:11, 137103.41it/s]"
     ]
    },
    {
     "name": "stderr",
     "output_type": "stream",
     "text": [
      "\rMorphologyExtractor create index: 1444543it [00:11, 138715.77it/s]"
     ]
    },
    {
     "name": "stderr",
     "output_type": "stream",
     "text": [
      "\rMorphologyExtractor create index: 1458460it [00:11, 130641.43it/s]"
     ]
    },
    {
     "name": "stderr",
     "output_type": "stream",
     "text": [
      "\rMorphologyExtractor create index: 1471653it [00:11, 129958.58it/s]"
     ]
    },
    {
     "name": "stderr",
     "output_type": "stream",
     "text": [
      "\rMorphologyExtractor create index: 1484740it [00:11, 128828.77it/s]"
     ]
    },
    {
     "name": "stderr",
     "output_type": "stream",
     "text": [
      "\rMorphologyExtractor create index: 1498989it [00:11, 132643.19it/s]"
     ]
    },
    {
     "name": "stderr",
     "output_type": "stream",
     "text": [
      "\rMorphologyExtractor create index: 1512973it [00:11, 134723.17it/s]"
     ]
    },
    {
     "name": "stderr",
     "output_type": "stream",
     "text": [
      "\rMorphologyExtractor create index: 1527183it [00:11, 136853.44it/s]"
     ]
    },
    {
     "name": "stderr",
     "output_type": "stream",
     "text": [
      "\rMorphologyExtractor create index: 1542344it [00:11, 140967.31it/s]"
     ]
    },
    {
     "name": "stderr",
     "output_type": "stream",
     "text": [
      "\rMorphologyExtractor create index: 1557393it [00:12, 143691.83it/s]"
     ]
    },
    {
     "name": "stderr",
     "output_type": "stream",
     "text": [
      "\rMorphologyExtractor create index: 1571892it [00:12, 144077.54it/s]"
     ]
    },
    {
     "name": "stderr",
     "output_type": "stream",
     "text": [
      "\rMorphologyExtractor create index: 1586768it [00:12, 145449.35it/s]"
     ]
    },
    {
     "name": "stderr",
     "output_type": "stream",
     "text": [
      "\rMorphologyExtractor create index: 1601533it [00:12, 146099.15it/s]"
     ]
    },
    {
     "name": "stderr",
     "output_type": "stream",
     "text": [
      "\rMorphologyExtractor create index: 1616488it [00:12, 147115.85it/s]"
     ]
    },
    {
     "name": "stderr",
     "output_type": "stream",
     "text": [
      "\rMorphologyExtractor create index: 1631765it [00:12, 148766.76it/s]"
     ]
    },
    {
     "name": "stderr",
     "output_type": "stream",
     "text": [
      "\rMorphologyExtractor create index: 1647485it [00:12, 151198.45it/s]"
     ]
    },
    {
     "name": "stderr",
     "output_type": "stream",
     "text": [
      "\rMorphologyExtractor create index: 1662646it [00:12, 151319.88it/s]"
     ]
    },
    {
     "name": "stderr",
     "output_type": "stream",
     "text": [
      "\rMorphologyExtractor create index: 1677794it [00:12, 151045.46it/s]"
     ]
    },
    {
     "name": "stderr",
     "output_type": "stream",
     "text": [
      "\rMorphologyExtractor create index: 1693067it [00:12, 151545.45it/s]"
     ]
    },
    {
     "name": "stderr",
     "output_type": "stream",
     "text": [
      "\rMorphologyExtractor create index: 1708480it [00:13, 152309.02it/s]"
     ]
    },
    {
     "name": "stderr",
     "output_type": "stream",
     "text": [
      "\rMorphologyExtractor create index: 1723718it [00:13, 150544.98it/s]"
     ]
    },
    {
     "name": "stderr",
     "output_type": "stream",
     "text": [
      "\rMorphologyExtractor create index: 1739094it [00:13, 151495.22it/s]"
     ]
    },
    {
     "name": "stderr",
     "output_type": "stream",
     "text": [
      "\rMorphologyExtractor create index: 1754279it [00:13, 151600.11it/s]"
     ]
    },
    {
     "name": "stderr",
     "output_type": "stream",
     "text": [
      "\rMorphologyExtractor create index: 1769445it [00:13, 151460.10it/s]"
     ]
    },
    {
     "name": "stderr",
     "output_type": "stream",
     "text": [
      "\rMorphologyExtractor create index: 1784757it [00:13, 151953.89it/s]"
     ]
    },
    {
     "name": "stderr",
     "output_type": "stream",
     "text": [
      "\rMorphologyExtractor create index: 1800394it [00:13, 153249.45it/s]"
     ]
    },
    {
     "name": "stderr",
     "output_type": "stream",
     "text": [
      "\rMorphologyExtractor create index: 1815759it [00:13, 153367.25it/s]"
     ]
    },
    {
     "name": "stderr",
     "output_type": "stream",
     "text": [
      "\rMorphologyExtractor create index: 1831100it [00:13, 151041.97it/s]"
     ]
    },
    {
     "name": "stderr",
     "output_type": "stream",
     "text": [
      "\rMorphologyExtractor create index: 1846959it [00:13, 153228.93it/s]"
     ]
    },
    {
     "name": "stderr",
     "output_type": "stream",
     "text": [
      "\rMorphologyExtractor create index: 1862297it [00:14, 151491.21it/s]"
     ]
    },
    {
     "name": "stderr",
     "output_type": "stream",
     "text": [
      "\rMorphologyExtractor create index: 1877743it [00:14, 152367.91it/s]"
     ]
    },
    {
     "name": "stderr",
     "output_type": "stream",
     "text": [
      "\rMorphologyExtractor create index: 1893098it [00:14, 152718.92it/s]"
     ]
    },
    {
     "name": "stderr",
     "output_type": "stream",
     "text": [
      "\rMorphologyExtractor create index: 1908939it [00:14, 154382.78it/s]"
     ]
    },
    {
     "name": "stderr",
     "output_type": "stream",
     "text": [
      "\rMorphologyExtractor create index: 1924388it [00:14, 153530.09it/s]"
     ]
    },
    {
     "name": "stderr",
     "output_type": "stream",
     "text": [
      "\rMorphologyExtractor create index: 1939921it [00:14, 154064.29it/s]"
     ]
    },
    {
     "name": "stderr",
     "output_type": "stream",
     "text": [
      "\rMorphologyExtractor create index: 1955334it [00:14, 153343.27it/s]"
     ]
    },
    {
     "name": "stderr",
     "output_type": "stream",
     "text": [
      "\rMorphologyExtractor create index: 1970674it [00:14, 152333.99it/s]"
     ]
    },
    {
     "name": "stderr",
     "output_type": "stream",
     "text": [
      "\rMorphologyExtractor create index: 1985913it [00:14, 151755.51it/s]"
     ]
    },
    {
     "name": "stderr",
     "output_type": "stream",
     "text": [
      "\rMorphologyExtractor create index: 2002077it [00:14, 154588.95it/s]"
     ]
    },
    {
     "name": "stderr",
     "output_type": "stream",
     "text": [
      "\rMorphologyExtractor create index: 2017552it [00:15, 154474.31it/s]"
     ]
    },
    {
     "name": "stderr",
     "output_type": "stream",
     "text": [
      "\rMorphologyExtractor create index: 2033122it [00:15, 154838.16it/s]"
     ]
    },
    {
     "name": "stderr",
     "output_type": "stream",
     "text": [
      "\rMorphologyExtractor create index: 2048720it [00:15, 155177.56it/s]"
     ]
    },
    {
     "name": "stderr",
     "output_type": "stream",
     "text": [
      "\rMorphologyExtractor create index: 2064244it [00:15, 154138.14it/s]"
     ]
    },
    {
     "name": "stderr",
     "output_type": "stream",
     "text": [
      "\rMorphologyExtractor create index: 2079875it [00:15, 154782.83it/s]"
     ]
    },
    {
     "name": "stderr",
     "output_type": "stream",
     "text": [
      "\rMorphologyExtractor create index: 2095756it [00:15, 155968.97it/s]"
     ]
    },
    {
     "name": "stderr",
     "output_type": "stream",
     "text": [
      "\rMorphologyExtractor create index: 2111359it [00:15, 152884.02it/s]"
     ]
    },
    {
     "name": "stderr",
     "output_type": "stream",
     "text": [
      "\rMorphologyExtractor create index: 2126665it [00:15, 150789.25it/s]"
     ]
    },
    {
     "name": "stderr",
     "output_type": "stream",
     "text": [
      "\rMorphologyExtractor create index: 2141763it [00:15, 148994.02it/s]"
     ]
    },
    {
     "name": "stderr",
     "output_type": "stream",
     "text": [
      "\rMorphologyExtractor create index: 2156681it [00:15, 148844.20it/s]"
     ]
    },
    {
     "name": "stderr",
     "output_type": "stream",
     "text": [
      "\rMorphologyExtractor create index: 2171578it [00:16, 146242.25it/s]"
     ]
    },
    {
     "name": "stderr",
     "output_type": "stream",
     "text": [
      "\rMorphologyExtractor create index: 2186222it [00:16, 143414.26it/s]"
     ]
    },
    {
     "name": "stderr",
     "output_type": "stream",
     "text": [
      "\rMorphologyExtractor create index: 2200999it [00:16, 144692.91it/s]"
     ]
    },
    {
     "name": "stderr",
     "output_type": "stream",
     "text": [
      "\rMorphologyExtractor create index: 2215489it [00:16, 144479.07it/s]"
     ]
    },
    {
     "name": "stderr",
     "output_type": "stream",
     "text": [
      "\rMorphologyExtractor create index: 2230135it [00:16, 145067.22it/s]"
     ]
    },
    {
     "name": "stderr",
     "output_type": "stream",
     "text": [
      "\rMorphologyExtractor create index: 2244653it [00:16, 144288.08it/s]"
     ]
    },
    {
     "name": "stderr",
     "output_type": "stream",
     "text": [
      "\rMorphologyExtractor create index: 2259091it [00:16, 143618.91it/s]"
     ]
    },
    {
     "name": "stderr",
     "output_type": "stream",
     "text": [
      "\rMorphologyExtractor create index: 2273919it [00:16, 144985.30it/s]"
     ]
    },
    {
     "name": "stderr",
     "output_type": "stream",
     "text": [
      "\rMorphologyExtractor create index: 2289963it [00:16, 149299.42it/s]"
     ]
    },
    {
     "name": "stderr",
     "output_type": "stream",
     "text": [
      "\rMorphologyExtractor create index: 2305702it [00:16, 151635.32it/s]"
     ]
    },
    {
     "name": "stderr",
     "output_type": "stream",
     "text": [
      "\rMorphologyExtractor create index: 2320901it [00:17, 146595.64it/s]"
     ]
    },
    {
     "name": "stderr",
     "output_type": "stream",
     "text": [
      "\rMorphologyExtractor create index: 2335622it [00:17, 138600.06it/s]"
     ]
    },
    {
     "name": "stderr",
     "output_type": "stream",
     "text": [
      "\rMorphologyExtractor create index: 2349615it [00:17, 138953.77it/s]"
     ]
    },
    {
     "name": "stderr",
     "output_type": "stream",
     "text": [
      "\rMorphologyExtractor create index: 2364478it [00:17, 141721.37it/s]"
     ]
    },
    {
     "name": "stderr",
     "output_type": "stream",
     "text": [
      "\rMorphologyExtractor create index: 2380331it [00:17, 146377.05it/s]"
     ]
    },
    {
     "name": "stderr",
     "output_type": "stream",
     "text": [
      "\rMorphologyExtractor create index: 2395848it [00:17, 148907.72it/s]"
     ]
    },
    {
     "name": "stderr",
     "output_type": "stream",
     "text": [
      "\rMorphologyExtractor create index: 2410816it [00:17, 148594.08it/s]"
     ]
    },
    {
     "name": "stderr",
     "output_type": "stream",
     "text": [
      "\rMorphologyExtractor create index: 2425801it [00:17, 148966.88it/s]"
     ]
    },
    {
     "name": "stderr",
     "output_type": "stream",
     "text": [
      "\rMorphologyExtractor create index: 2441077it [00:17, 150084.40it/s]"
     ]
    },
    {
     "name": "stderr",
     "output_type": "stream",
     "text": [
      "\rMorphologyExtractor create index: 2456585it [00:17, 151546.78it/s]"
     ]
    },
    {
     "name": "stderr",
     "output_type": "stream",
     "text": [
      "\rMorphologyExtractor create index: 2471763it [00:18, 151386.54it/s]"
     ]
    },
    {
     "name": "stderr",
     "output_type": "stream",
     "text": [
      "\rMorphologyExtractor create index: 2486918it [00:18, 149007.43it/s]"
     ]
    },
    {
     "name": "stderr",
     "output_type": "stream",
     "text": [
      "\rMorphologyExtractor create index: 2502380it [00:18, 150645.26it/s]"
     ]
    },
    {
     "name": "stderr",
     "output_type": "stream",
     "text": [
      "\rMorphologyExtractor create index: 2517463it [00:18, 135542.03it/s]"
     ]
    },
    {
     "name": "stderr",
     "output_type": "stream",
     "text": [
      "\rMorphologyExtractor create index: 2532062it [00:18, 138514.39it/s]"
     ]
    },
    {
     "name": "stderr",
     "output_type": "stream",
     "text": [
      "\rMorphologyExtractor create index: 2546614it [00:18, 140541.73it/s]"
     ]
    },
    {
     "name": "stderr",
     "output_type": "stream",
     "text": [
      "\rMorphologyExtractor create index: 2562197it [00:18, 144803.33it/s]"
     ]
    },
    {
     "name": "stderr",
     "output_type": "stream",
     "text": [
      "\rMorphologyExtractor create index: 2576885it [00:18, 145419.25it/s]"
     ]
    },
    {
     "name": "stderr",
     "output_type": "stream",
     "text": [
      "\rMorphologyExtractor create index: 2591662it [00:18, 146114.04it/s]"
     ]
    },
    {
     "name": "stderr",
     "output_type": "stream",
     "text": [
      "\rMorphologyExtractor create index: 2606599it [00:19, 147074.11it/s]"
     ]
    },
    {
     "name": "stderr",
     "output_type": "stream",
     "text": [
      "\rMorphologyExtractor create index: 2621549it [00:19, 147791.83it/s]"
     ]
    },
    {
     "name": "stderr",
     "output_type": "stream",
     "text": [
      "\rMorphologyExtractor create index: 2637425it [00:19, 150919.73it/s]"
     ]
    },
    {
     "name": "stderr",
     "output_type": "stream",
     "text": [
      "\rMorphologyExtractor create index: 2652560it [00:19, 150779.95it/s]"
     ]
    },
    {
     "name": "stderr",
     "output_type": "stream",
     "text": [
      "\rMorphologyExtractor create index: 2667669it [00:19, 150237.85it/s]"
     ]
    },
    {
     "name": "stderr",
     "output_type": "stream",
     "text": [
      "\rMorphologyExtractor create index: 2682779it [00:19, 150494.54it/s]"
     ]
    },
    {
     "name": "stderr",
     "output_type": "stream",
     "text": [
      "\rMorphologyExtractor create index: 2697931it [00:19, 150799.79it/s]"
     ]
    },
    {
     "name": "stderr",
     "output_type": "stream",
     "text": [
      "\rMorphologyExtractor create index: 2713022it [00:19, 149200.74it/s]"
     ]
    },
    {
     "name": "stderr",
     "output_type": "stream",
     "text": [
      "\rMorphologyExtractor create index: 2728990it [00:19, 152195.99it/s]"
     ]
    },
    {
     "name": "stderr",
     "output_type": "stream",
     "text": [
      "\rMorphologyExtractor create index: 2744693it [00:19, 153612.33it/s]"
     ]
    },
    {
     "name": "stderr",
     "output_type": "stream",
     "text": [
      "\rMorphologyExtractor create index: 2760074it [00:20, 153278.72it/s]"
     ]
    },
    {
     "name": "stderr",
     "output_type": "stream",
     "text": [
      "\rMorphologyExtractor create index: 2775416it [00:20, 151326.73it/s]"
     ]
    },
    {
     "name": "stderr",
     "output_type": "stream",
     "text": [
      "\rMorphologyExtractor create index: 2790564it [00:20, 149036.34it/s]"
     ]
    },
    {
     "name": "stderr",
     "output_type": "stream",
     "text": [
      "\rMorphologyExtractor create index: 2805789it [00:20, 149985.19it/s]"
     ]
    },
    {
     "name": "stderr",
     "output_type": "stream",
     "text": [
      "\rMorphologyExtractor create index: 2820802it [00:20, 149201.08it/s]"
     ]
    },
    {
     "name": "stderr",
     "output_type": "stream",
     "text": [
      "\rMorphologyExtractor create index: 2835734it [00:20, 149198.28it/s]"
     ]
    },
    {
     "name": "stderr",
     "output_type": "stream",
     "text": [
      "\rMorphologyExtractor create index: 2851074it [00:20, 150433.52it/s]"
     ]
    },
    {
     "name": "stderr",
     "output_type": "stream",
     "text": [
      "\rMorphologyExtractor create index: 2866126it [00:20, 146281.17it/s]"
     ]
    },
    {
     "name": "stderr",
     "output_type": "stream",
     "text": [
      "\rMorphologyExtractor create index: 2881188it [00:20, 147555.04it/s]"
     ]
    },
    {
     "name": "stderr",
     "output_type": "stream",
     "text": [
      "\rMorphologyExtractor create index: 2895968it [00:20, 145569.62it/s]"
     ]
    },
    {
     "name": "stderr",
     "output_type": "stream",
     "text": [
      "\rMorphologyExtractor create index: 2910548it [00:21, 136899.67it/s]"
     ]
    },
    {
     "name": "stderr",
     "output_type": "stream",
     "text": [
      "\rMorphologyExtractor create index: 2925313it [00:21, 139955.44it/s]"
     ]
    },
    {
     "name": "stderr",
     "output_type": "stream",
     "text": [
      "\rMorphologyExtractor create index: 2940160it [00:21, 142404.63it/s]"
     ]
    },
    {
     "name": "stderr",
     "output_type": "stream",
     "text": [
      "\rMorphologyExtractor create index: 2955251it [00:21, 144853.58it/s]"
     ]
    },
    {
     "name": "stderr",
     "output_type": "stream",
     "text": [
      "\rMorphologyExtractor create index: 2970168it [00:21, 146119.43it/s]"
     ]
    },
    {
     "name": "stderr",
     "output_type": "stream",
     "text": [
      "\rMorphologyExtractor create index: 2985517it [00:21, 148251.85it/s]"
     ]
    },
    {
     "name": "stderr",
     "output_type": "stream",
     "text": [
      "\rMorphologyExtractor create index: 3000413it [00:21, 148463.20it/s]"
     ]
    },
    {
     "name": "stderr",
     "output_type": "stream",
     "text": [
      "\rMorphologyExtractor create index: 3015924it [00:21, 150394.50it/s]"
     ]
    },
    {
     "name": "stderr",
     "output_type": "stream",
     "text": [
      "\rMorphologyExtractor create index: 3031186it [00:21, 151054.92it/s]"
     ]
    },
    {
     "name": "stderr",
     "output_type": "stream",
     "text": [
      "\rMorphologyExtractor create index: 3046312it [00:21, 150382.48it/s]"
     ]
    },
    {
     "name": "stderr",
     "output_type": "stream",
     "text": [
      "\rMorphologyExtractor create index: 3061365it [00:22, 146542.24it/s]"
     ]
    },
    {
     "name": "stderr",
     "output_type": "stream",
     "text": [
      "\rMorphologyExtractor create index: 3076562it [00:22, 148126.77it/s]"
     ]
    },
    {
     "name": "stderr",
     "output_type": "stream",
     "text": [
      "\rMorphologyExtractor create index: 3091401it [00:22, 147908.36it/s]"
     ]
    },
    {
     "name": "stderr",
     "output_type": "stream",
     "text": [
      "\rMorphologyExtractor create index: 3106211it [00:22, 147911.83it/s]"
     ]
    },
    {
     "name": "stderr",
     "output_type": "stream",
     "text": [
      "\rMorphologyExtractor create index: 3121016it [00:22, 146155.26it/s]"
     ]
    },
    {
     "name": "stderr",
     "output_type": "stream",
     "text": [
      "\rMorphologyExtractor create index: 3135785it [00:22, 146610.59it/s]"
     ]
    },
    {
     "name": "stderr",
     "output_type": "stream",
     "text": [
      "\rMorphologyExtractor create index: 3150457it [00:22, 145893.55it/s]"
     ]
    },
    {
     "name": "stderr",
     "output_type": "stream",
     "text": [
      "\rMorphologyExtractor create index: 3165731it [00:22, 147881.28it/s]"
     ]
    },
    {
     "name": "stderr",
     "output_type": "stream",
     "text": [
      "\rMorphologyExtractor create index: 3181469it [00:22, 150607.81it/s]"
     ]
    },
    {
     "name": "stderr",
     "output_type": "stream",
     "text": [
      "\rMorphologyExtractor create index: 3196551it [00:23, 147892.78it/s]"
     ]
    },
    {
     "name": "stderr",
     "output_type": "stream",
     "text": [
      "\rMorphologyExtractor create index: 3211366it [00:23, 147420.25it/s]"
     ]
    },
    {
     "name": "stderr",
     "output_type": "stream",
     "text": [
      "\rMorphologyExtractor create index: 3226149it [00:23, 147541.61it/s]"
     ]
    },
    {
     "name": "stderr",
     "output_type": "stream",
     "text": [
      "\rMorphologyExtractor create index: 3241320it [00:23, 148767.40it/s]"
     ]
    },
    {
     "name": "stderr",
     "output_type": "stream",
     "text": [
      "\rMorphologyExtractor create index: 3256662it [00:23, 150130.59it/s]"
     ]
    },
    {
     "name": "stderr",
     "output_type": "stream",
     "text": [
      "\rMorphologyExtractor create index: 3271686it [00:23, 144675.78it/s]"
     ]
    },
    {
     "name": "stderr",
     "output_type": "stream",
     "text": [
      "\rMorphologyExtractor create index: 3286872it [00:23, 146756.05it/s]"
     ]
    },
    {
     "name": "stderr",
     "output_type": "stream",
     "text": [
      "\rMorphologyExtractor create index: 3301591it [00:23, 146757.79it/s]"
     ]
    },
    {
     "name": "stderr",
     "output_type": "stream",
     "text": [
      "\rMorphologyExtractor create index: 3316538it [00:23, 147557.56it/s]"
     ]
    },
    {
     "name": "stderr",
     "output_type": "stream",
     "text": [
      "\rMorphologyExtractor create index: 3331316it [00:23, 146013.66it/s]"
     ]
    },
    {
     "name": "stderr",
     "output_type": "stream",
     "text": [
      "\rMorphologyExtractor create index: 3346166it [00:24, 146749.47it/s]"
     ]
    },
    {
     "name": "stderr",
     "output_type": "stream",
     "text": [
      "\rMorphologyExtractor create index: 3360856it [00:24, 146440.34it/s]"
     ]
    },
    {
     "name": "stderr",
     "output_type": "stream",
     "text": [
      "\rMorphologyExtractor create index: 3375511it [00:24, 142926.45it/s]"
     ]
    },
    {
     "name": "stderr",
     "output_type": "stream",
     "text": [
      "\rMorphologyExtractor create index: 3389830it [00:24, 141377.08it/s]"
     ]
    },
    {
     "name": "stderr",
     "output_type": "stream",
     "text": [
      "\rMorphologyExtractor create index: 3405109it [00:24, 144615.81it/s]"
     ]
    },
    {
     "name": "stderr",
     "output_type": "stream",
     "text": [
      "\rMorphologyExtractor create index: 3419605it [00:24, 142362.34it/s]"
     ]
    },
    {
     "name": "stderr",
     "output_type": "stream",
     "text": [
      "\rMorphologyExtractor create index: 3434056it [00:24, 142997.32it/s]"
     ]
    },
    {
     "name": "stderr",
     "output_type": "stream",
     "text": [
      "\rMorphologyExtractor create index: 3448379it [00:24, 142754.28it/s]"
     ]
    },
    {
     "name": "stderr",
     "output_type": "stream",
     "text": [
      "\rMorphologyExtractor create index: 3463156it [00:24, 144220.40it/s]"
     ]
    },
    {
     "name": "stderr",
     "output_type": "stream",
     "text": [
      "\rMorphologyExtractor create index: 3478172it [00:24, 145951.98it/s]"
     ]
    },
    {
     "name": "stderr",
     "output_type": "stream",
     "text": [
      "\rMorphologyExtractor create index: 3492783it [00:25, 139521.61it/s]"
     ]
    },
    {
     "name": "stderr",
     "output_type": "stream",
     "text": [
      "\rMorphologyExtractor create index: 3507498it [00:25, 141724.54it/s]"
     ]
    },
    {
     "name": "stderr",
     "output_type": "stream",
     "text": [
      "\rMorphologyExtractor create index: 3522041it [00:25, 142814.53it/s]"
     ]
    },
    {
     "name": "stderr",
     "output_type": "stream",
     "text": [
      "\rMorphologyExtractor create index: 3537076it [00:25, 144992.99it/s]"
     ]
    },
    {
     "name": "stderr",
     "output_type": "stream",
     "text": [
      "\rMorphologyExtractor create index: 3552857it [00:25, 148613.17it/s]"
     ]
    },
    {
     "name": "stderr",
     "output_type": "stream",
     "text": [
      "\rMorphologyExtractor create index: 3567768it [00:25, 148692.52it/s]"
     ]
    },
    {
     "name": "stderr",
     "output_type": "stream",
     "text": [
      "\rMorphologyExtractor create index: 3582672it [00:25, 148484.90it/s]"
     ]
    },
    {
     "name": "stderr",
     "output_type": "stream",
     "text": [
      "\rMorphologyExtractor create index: 3597766it [00:25, 149210.83it/s]"
     ]
    },
    {
     "name": "stderr",
     "output_type": "stream",
     "text": [
      "\rMorphologyExtractor create index: 3613109it [00:25, 150451.21it/s]"
     ]
    },
    {
     "name": "stderr",
     "output_type": "stream",
     "text": [
      "\rMorphologyExtractor create index: 3628169it [00:25, 145857.63it/s]"
     ]
    },
    {
     "name": "stderr",
     "output_type": "stream",
     "text": [
      "\rMorphologyExtractor create index: 3642796it [00:26, 141324.94it/s]"
     ]
    },
    {
     "name": "stderr",
     "output_type": "stream",
     "text": [
      "\rMorphologyExtractor create index: 3657414it [00:26, 142745.50it/s]"
     ]
    },
    {
     "name": "stderr",
     "output_type": "stream",
     "text": [
      "\rMorphologyExtractor create index: 3671734it [00:26, 141772.68it/s]"
     ]
    },
    {
     "name": "stderr",
     "output_type": "stream",
     "text": [
      "\rMorphologyExtractor create index: 3686598it [00:26, 143762.76it/s]"
     ]
    },
    {
     "name": "stderr",
     "output_type": "stream",
     "text": [
      "\rMorphologyExtractor create index: 3701102it [00:26, 144141.04it/s]"
     ]
    },
    {
     "name": "stderr",
     "output_type": "stream",
     "text": [
      "\rMorphologyExtractor create index: 3715538it [00:26, 144062.91it/s]"
     ]
    },
    {
     "name": "stderr",
     "output_type": "stream",
     "text": [
      "\rMorphologyExtractor create index: 3730839it [00:26, 146633.54it/s]"
     ]
    },
    {
     "name": "stderr",
     "output_type": "stream",
     "text": [
      "\rMorphologyExtractor create index: 3745789it [00:26, 147480.97it/s]"
     ]
    },
    {
     "name": "stderr",
     "output_type": "stream",
     "text": [
      "\rMorphologyExtractor create index: 3760554it [00:26, 146582.04it/s]"
     ]
    },
    {
     "name": "stderr",
     "output_type": "stream",
     "text": [
      "\rMorphologyExtractor create index: 3775804it [00:26, 148306.81it/s]"
     ]
    },
    {
     "name": "stderr",
     "output_type": "stream",
     "text": [
      "\rMorphologyExtractor create index: 3791548it [00:27, 150932.65it/s]"
     ]
    },
    {
     "name": "stderr",
     "output_type": "stream",
     "text": [
      "\rMorphologyExtractor create index: 3806663it [00:27, 150409.20it/s]"
     ]
    },
    {
     "name": "stderr",
     "output_type": "stream",
     "text": [
      "\rMorphologyExtractor create index: 3822927it [00:27, 153880.35it/s]"
     ]
    },
    {
     "name": "stderr",
     "output_type": "stream",
     "text": [
      "\rMorphologyExtractor create index: 3838346it [00:27, 152906.69it/s]"
     ]
    },
    {
     "name": "stderr",
     "output_type": "stream",
     "text": [
      "\rMorphologyExtractor create index: 3853660it [00:27, 151386.10it/s]"
     ]
    },
    {
     "name": "stderr",
     "output_type": "stream",
     "text": [
      "\rMorphologyExtractor create index: 3868956it [00:27, 151854.36it/s]"
     ]
    },
    {
     "name": "stderr",
     "output_type": "stream",
     "text": [
      "\rMorphologyExtractor create index: 3884156it [00:27, 151545.91it/s]"
     ]
    },
    {
     "name": "stderr",
     "output_type": "stream",
     "text": [
      "\rMorphologyExtractor create index: 3899321it [00:27, 151483.49it/s]"
     ]
    },
    {
     "name": "stderr",
     "output_type": "stream",
     "text": [
      "\rMorphologyExtractor create index: 3915324it [00:27, 153949.23it/s]"
     ]
    },
    {
     "name": "stderr",
     "output_type": "stream",
     "text": [
      "\rMorphologyExtractor create index: 3931096it [00:28, 155059.47it/s]"
     ]
    },
    {
     "name": "stderr",
     "output_type": "stream",
     "text": [
      "\rMorphologyExtractor create index: 3946615it [00:28, 152709.96it/s]"
     ]
    },
    {
     "name": "stderr",
     "output_type": "stream",
     "text": [
      "\rMorphologyExtractor create index: 3961903it [00:28, 152231.99it/s]"
     ]
    },
    {
     "name": "stderr",
     "output_type": "stream",
     "text": [
      "\rMorphologyExtractor create index: 3977139it [00:28, 151277.06it/s]"
     ]
    },
    {
     "name": "stderr",
     "output_type": "stream",
     "text": [
      "\rMorphologyExtractor create index: 3992308it [00:28, 151398.48it/s]"
     ]
    },
    {
     "name": "stderr",
     "output_type": "stream",
     "text": [
      "\rMorphologyExtractor create index: 4007455it [00:28, 151031.21it/s]"
     ]
    },
    {
     "name": "stderr",
     "output_type": "stream",
     "text": [
      "\rMorphologyExtractor create index: 4022669it [00:28, 151361.65it/s]"
     ]
    },
    {
     "name": "stderr",
     "output_type": "stream",
     "text": [
      "\rMorphologyExtractor create index: 4037809it [00:28, 151014.54it/s]"
     ]
    },
    {
     "name": "stderr",
     "output_type": "stream",
     "text": [
      "\rMorphologyExtractor create index: 4053105it [00:28, 151591.18it/s]"
     ]
    },
    {
     "name": "stderr",
     "output_type": "stream",
     "text": [
      "\rMorphologyExtractor create index: 4068267it [00:28, 151492.07it/s]"
     ]
    },
    {
     "name": "stderr",
     "output_type": "stream",
     "text": [
      "\rMorphologyExtractor create index: 4083418it [00:29, 151270.51it/s]"
     ]
    },
    {
     "name": "stderr",
     "output_type": "stream",
     "text": [
      "\rMorphologyExtractor create index: 4098547it [00:29, 149883.50it/s]"
     ]
    },
    {
     "name": "stderr",
     "output_type": "stream",
     "text": [
      "\rMorphologyExtractor create index: 4114032it [00:29, 151339.61it/s]"
     ]
    },
    {
     "name": "stderr",
     "output_type": "stream",
     "text": [
      "\rMorphologyExtractor create index: 4129473it [00:29, 152246.05it/s]"
     ]
    },
    {
     "name": "stderr",
     "output_type": "stream",
     "text": [
      "\rMorphologyExtractor create index: 4144704it [00:29, 149772.65it/s]"
     ]
    },
    {
     "name": "stderr",
     "output_type": "stream",
     "text": [
      "\rMorphologyExtractor create index: 4159695it [00:29, 148746.17it/s]"
     ]
    },
    {
     "name": "stderr",
     "output_type": "stream",
     "text": [
      "\rMorphologyExtractor create index: 4174795it [00:29, 149412.52it/s]"
     ]
    },
    {
     "name": "stderr",
     "output_type": "stream",
     "text": [
      "\rMorphologyExtractor create index: 4190638it [00:29, 152006.79it/s]"
     ]
    },
    {
     "name": "stderr",
     "output_type": "stream",
     "text": [
      "\rMorphologyExtractor create index: 4206377it [00:29, 153580.91it/s]"
     ]
    },
    {
     "name": "stderr",
     "output_type": "stream",
     "text": [
      "\rMorphologyExtractor create index: 4221751it [00:29, 150862.56it/s]"
     ]
    },
    {
     "name": "stderr",
     "output_type": "stream",
     "text": [
      "\rMorphologyExtractor create index: 4236859it [00:30, 148967.84it/s]"
     ]
    },
    {
     "name": "stderr",
     "output_type": "stream",
     "text": [
      "\rMorphologyExtractor create index: 4251953it [00:30, 149551.45it/s]"
     ]
    },
    {
     "name": "stderr",
     "output_type": "stream",
     "text": [
      "\rMorphologyExtractor create index: 4267214it [00:30, 150453.35it/s]"
     ]
    },
    {
     "name": "stderr",
     "output_type": "stream",
     "text": [
      "\rMorphologyExtractor create index: 4282518it [00:30, 151219.62it/s]"
     ]
    },
    {
     "name": "stderr",
     "output_type": "stream",
     "text": [
      "\rMorphologyExtractor create index: 4297650it [00:30, 150842.67it/s]"
     ]
    },
    {
     "name": "stderr",
     "output_type": "stream",
     "text": [
      "\rMorphologyExtractor create index: 4312741it [00:30, 150655.86it/s]"
     ]
    },
    {
     "name": "stderr",
     "output_type": "stream",
     "text": [
      "\rMorphologyExtractor create index: 4328679it [00:30, 153168.87it/s]"
     ]
    },
    {
     "name": "stderr",
     "output_type": "stream",
     "text": [
      "\rMorphologyExtractor create index: 4344010it [00:30, 151165.58it/s]"
     ]
    },
    {
     "name": "stderr",
     "output_type": "stream",
     "text": [
      "\rMorphologyExtractor create index: 4359410it [00:30, 152004.50it/s]"
     ]
    },
    {
     "name": "stderr",
     "output_type": "stream",
     "text": [
      "\rMorphologyExtractor create index: 4374623it [00:30, 151093.43it/s]"
     ]
    },
    {
     "name": "stderr",
     "output_type": "stream",
     "text": [
      "\rMorphologyExtractor create index: 4390051it [00:31, 152035.43it/s]"
     ]
    },
    {
     "name": "stderr",
     "output_type": "stream",
     "text": [
      "\rMorphologyExtractor create index: 4405481it [00:31, 152707.40it/s]"
     ]
    },
    {
     "name": "stderr",
     "output_type": "stream",
     "text": [
      "\rMorphologyExtractor create index: 4420759it [00:31, 146315.69it/s]"
     ]
    },
    {
     "name": "stderr",
     "output_type": "stream",
     "text": [
      "\rMorphologyExtractor create index: 4435809it [00:31, 147543.70it/s]"
     ]
    },
    {
     "name": "stderr",
     "output_type": "stream",
     "text": [
      "\rMorphologyExtractor create index: 4450609it [00:31, 147517.78it/s]"
     ]
    },
    {
     "name": "stderr",
     "output_type": "stream",
     "text": [
      "\rMorphologyExtractor create index: 4465393it [00:31, 146318.28it/s]"
     ]
    },
    {
     "name": "stderr",
     "output_type": "stream",
     "text": [
      "\rMorphologyExtractor create index: 4480431it [00:31, 147513.20it/s]"
     ]
    },
    {
     "name": "stderr",
     "output_type": "stream",
     "text": [
      "\rMorphologyExtractor create index: 4495202it [00:31, 146963.96it/s]"
     ]
    },
    {
     "name": "stderr",
     "output_type": "stream",
     "text": [
      "\rMorphologyExtractor create index: 4509944it [00:31, 147100.10it/s]"
     ]
    },
    {
     "name": "stderr",
     "output_type": "stream",
     "text": [
      "\rMorphologyExtractor create index: 4525300it [00:31, 148977.52it/s]"
     ]
    },
    {
     "name": "stderr",
     "output_type": "stream",
     "text": [
      "\rMorphologyExtractor create index: 4540458it [00:32, 149746.23it/s]"
     ]
    },
    {
     "name": "stderr",
     "output_type": "stream",
     "text": [
      "\rMorphologyExtractor create index: 4555443it [00:32, 147830.45it/s]"
     ]
    },
    {
     "name": "stderr",
     "output_type": "stream",
     "text": [
      "\rMorphologyExtractor create index: 4570239it [00:32, 147216.58it/s]"
     ]
    },
    {
     "name": "stderr",
     "output_type": "stream",
     "text": [
      "\rMorphologyExtractor create index: 4584970it [00:32, 146331.01it/s]"
     ]
    },
    {
     "name": "stderr",
     "output_type": "stream",
     "text": [
      "\rMorphologyExtractor create index: 4599611it [00:32, 144393.60it/s]"
     ]
    },
    {
     "name": "stderr",
     "output_type": "stream",
     "text": [
      "\rMorphologyExtractor create index: 4614062it [00:32, 143007.86it/s]"
     ]
    },
    {
     "name": "stderr",
     "output_type": "stream",
     "text": [
      "\rMorphologyExtractor create index: 4628374it [00:32, 142538.97it/s]"
     ]
    },
    {
     "name": "stderr",
     "output_type": "stream",
     "text": [
      "\rMorphologyExtractor create index: 4642708it [00:32, 142776.55it/s]"
     ]
    },
    {
     "name": "stderr",
     "output_type": "stream",
     "text": [
      "\rMorphologyExtractor create index: 4657807it [00:32, 145141.85it/s]"
     ]
    },
    {
     "name": "stderr",
     "output_type": "stream",
     "text": [
      "\rMorphologyExtractor create index: 4672335it [00:32, 145175.53it/s]"
     ]
    },
    {
     "name": "stderr",
     "output_type": "stream",
     "text": [
      "\rMorphologyExtractor create index: 4686862it [00:33, 144732.47it/s]"
     ]
    },
    {
     "name": "stderr",
     "output_type": "stream",
     "text": [
      "\rMorphologyExtractor create index: 4701343it [00:33, 144366.93it/s]"
     ]
    },
    {
     "name": "stderr",
     "output_type": "stream",
     "text": [
      "\rMorphologyExtractor create index: 4716184it [00:33, 145554.73it/s]"
     ]
    },
    {
     "name": "stderr",
     "output_type": "stream",
     "text": [
      "\rMorphologyExtractor create index: 4731407it [00:33, 147492.51it/s]"
     ]
    },
    {
     "name": "stderr",
     "output_type": "stream",
     "text": [
      "\rMorphologyExtractor create index: 4746167it [00:33, 147275.68it/s]"
     ]
    },
    {
     "name": "stderr",
     "output_type": "stream",
     "text": [
      "\rMorphologyExtractor create index: 4761006it [00:33, 147606.89it/s]"
     ]
    },
    {
     "name": "stderr",
     "output_type": "stream",
     "text": [
      "\rMorphologyExtractor create index: 4775772it [00:33, 146845.92it/s]"
     ]
    },
    {
     "name": "stderr",
     "output_type": "stream",
     "text": [
      "\rMorphologyExtractor create index: 4791012it [00:33, 148468.28it/s]"
     ]
    },
    {
     "name": "stderr",
     "output_type": "stream",
     "text": [
      "\rMorphologyExtractor create index: 4806483it [00:33, 150285.01it/s]"
     ]
    },
    {
     "name": "stderr",
     "output_type": "stream",
     "text": [
      "\rMorphologyExtractor create index: 4821936it [00:33, 151532.58it/s]"
     ]
    },
    {
     "name": "stderr",
     "output_type": "stream",
     "text": [
      "\rMorphologyExtractor create index: 4837515it [00:34, 152783.72it/s]"
     ]
    },
    {
     "name": "stderr",
     "output_type": "stream",
     "text": [
      "\rMorphologyExtractor create index: 4852930it [00:34, 153188.26it/s]"
     ]
    },
    {
     "name": "stderr",
     "output_type": "stream",
     "text": [
      "\rMorphologyExtractor create index: 4868256it [00:34, 151297.40it/s]"
     ]
    },
    {
     "name": "stderr",
     "output_type": "stream",
     "text": [
      "\rMorphologyExtractor create index: 4883396it [00:34, 150545.33it/s]"
     ]
    },
    {
     "name": "stderr",
     "output_type": "stream",
     "text": [
      "\rMorphologyExtractor create index: 4898490it [00:34, 150663.45it/s]"
     ]
    },
    {
     "name": "stderr",
     "output_type": "stream",
     "text": [
      "\rMorphologyExtractor create index: 4913695it [00:34, 151074.54it/s]"
     ]
    },
    {
     "name": "stderr",
     "output_type": "stream",
     "text": [
      "\rMorphologyExtractor create index: 4929520it [00:34, 153155.73it/s]"
     ]
    },
    {
     "name": "stderr",
     "output_type": "stream",
     "text": [
      "\rMorphologyExtractor create index: 4944846it [00:34, 152656.96it/s]"
     ]
    },
    {
     "name": "stderr",
     "output_type": "stream",
     "text": [
      "\rMorphologyExtractor create index: 4960942it [00:34, 155055.17it/s]"
     ]
    },
    {
     "name": "stderr",
     "output_type": "stream",
     "text": [
      "\rMorphologyExtractor create index: 4976462it [00:35, 152079.36it/s]"
     ]
    },
    {
     "name": "stderr",
     "output_type": "stream",
     "text": [
      "\rMorphologyExtractor create index: 4991693it [00:35, 151281.53it/s]"
     ]
    },
    {
     "name": "stderr",
     "output_type": "stream",
     "text": [
      "\rMorphologyExtractor create index: 5006839it [00:35, 150807.93it/s]"
     ]
    },
    {
     "name": "stderr",
     "output_type": "stream",
     "text": [
      "\rMorphologyExtractor create index: 5021932it [00:35, 149475.79it/s]"
     ]
    },
    {
     "name": "stderr",
     "output_type": "stream",
     "text": [
      "\rMorphologyExtractor create index: 5036891it [00:35, 147778.90it/s]"
     ]
    },
    {
     "name": "stderr",
     "output_type": "stream",
     "text": [
      "\rMorphologyExtractor create index: 5051682it [00:35, 146912.18it/s]"
     ]
    },
    {
     "name": "stderr",
     "output_type": "stream",
     "text": [
      "\rMorphologyExtractor create index: 5066889it [00:35, 148421.94it/s]"
     ]
    },
    {
     "name": "stderr",
     "output_type": "stream",
     "text": [
      "\rMorphologyExtractor create index: 5081742it [00:35, 148244.44it/s]"
     ]
    },
    {
     "name": "stderr",
     "output_type": "stream",
     "text": [
      "\rMorphologyExtractor create index: 5096053it [00:35, 142320.78it/s]"
     ]
    },
    {
     "name": "stderr",
     "output_type": "stream",
     "text": [
      "\n"
     ]
    },
    {
     "name": "stderr",
     "output_type": "stream",
     "text": [
      "\rMorphologyExtractor create index: 0it [00:00, ?it/s]"
     ]
    },
    {
     "name": "stderr",
     "output_type": "stream",
     "text": [
      "\rMorphologyExtractor create index: 14149it [00:00, 141481.70it/s]"
     ]
    },
    {
     "name": "stderr",
     "output_type": "stream",
     "text": [
      "\rMorphologyExtractor create index: 28598it [00:00, 142370.09it/s]"
     ]
    },
    {
     "name": "stderr",
     "output_type": "stream",
     "text": [
      "\rMorphologyExtractor create index: 39590it [00:00, 130784.58it/s]"
     ]
    },
    {
     "name": "stderr",
     "output_type": "stream",
     "text": [
      "\rMorphologyExtractor create index: 55584it [00:00, 138350.33it/s]"
     ]
    },
    {
     "name": "stderr",
     "output_type": "stream",
     "text": [
      "\rMorphologyExtractor create index: 70829it [00:00, 142296.51it/s]"
     ]
    },
    {
     "name": "stderr",
     "output_type": "stream",
     "text": [
      "\rMorphologyExtractor create index: 86444it [00:00, 146185.28it/s]"
     ]
    },
    {
     "name": "stderr",
     "output_type": "stream",
     "text": [
      "\rMorphologyExtractor create index: 101845it [00:00, 148446.73it/s]"
     ]
    },
    {
     "name": "stderr",
     "output_type": "stream",
     "text": [
      "\rMorphologyExtractor create index: 117038it [00:00, 149473.92it/s]"
     ]
    },
    {
     "name": "stderr",
     "output_type": "stream",
     "text": [
      "\rMorphologyExtractor create index: 132772it [00:00, 151749.53it/s]"
     ]
    },
    {
     "name": "stderr",
     "output_type": "stream",
     "text": [
      "\rMorphologyExtractor create index: 148101it [00:01, 152207.91it/s]"
     ]
    },
    {
     "name": "stderr",
     "output_type": "stream",
     "text": [
      "\rMorphologyExtractor create index: 164009it [00:01, 154205.56it/s]"
     ]
    },
    {
     "name": "stderr",
     "output_type": "stream",
     "text": [
      "\rMorphologyExtractor create index: 179192it [00:01, 153321.76it/s]"
     ]
    },
    {
     "name": "stderr",
     "output_type": "stream",
     "text": [
      "\rMorphologyExtractor create index: 194885it [00:01, 154385.76it/s]"
     ]
    },
    {
     "name": "stderr",
     "output_type": "stream",
     "text": [
      "\rMorphologyExtractor create index: 210553it [00:01, 155065.56it/s]"
     ]
    },
    {
     "name": "stderr",
     "output_type": "stream",
     "text": [
      "\rMorphologyExtractor create index: 226083it [00:01, 155135.31it/s]"
     ]
    },
    {
     "name": "stderr",
     "output_type": "stream",
     "text": [
      "\rMorphologyExtractor create index: 241542it [00:01, 153207.12it/s]"
     ]
    },
    {
     "name": "stderr",
     "output_type": "stream",
     "text": [
      "\rMorphologyExtractor create index: 256830it [00:01, 152251.22it/s]"
     ]
    },
    {
     "name": "stderr",
     "output_type": "stream",
     "text": [
      "\rMorphologyExtractor create index: 272034it [00:01, 151798.00it/s]"
     ]
    },
    {
     "name": "stderr",
     "output_type": "stream",
     "text": [
      "\rMorphologyExtractor create index: 287199it [00:01, 151150.59it/s]"
     ]
    },
    {
     "name": "stderr",
     "output_type": "stream",
     "text": [
      "\rMorphologyExtractor create index: 302606it [00:02, 152012.41it/s]"
     ]
    },
    {
     "name": "stderr",
     "output_type": "stream",
     "text": [
      "\rMorphologyExtractor create index: 317802it [00:02, 151820.55it/s]"
     ]
    },
    {
     "name": "stderr",
     "output_type": "stream",
     "text": [
      "\rMorphologyExtractor create index: 333384it [00:02, 152994.19it/s]"
     ]
    },
    {
     "name": "stderr",
     "output_type": "stream",
     "text": [
      "\rMorphologyExtractor create index: 349725it [00:02, 155975.88it/s]"
     ]
    },
    {
     "name": "stderr",
     "output_type": "stream",
     "text": [
      "\rMorphologyExtractor create index: 365337it [00:02, 154409.92it/s]"
     ]
    },
    {
     "name": "stderr",
     "output_type": "stream",
     "text": [
      "\rMorphologyExtractor create index: 380792it [00:02, 153494.67it/s]"
     ]
    },
    {
     "name": "stderr",
     "output_type": "stream",
     "text": [
      "\rMorphologyExtractor create index: 396152it [00:02, 151959.20it/s]"
     ]
    },
    {
     "name": "stderr",
     "output_type": "stream",
     "text": [
      "\rMorphologyExtractor create index: 411552it [00:02, 152563.51it/s]"
     ]
    },
    {
     "name": "stderr",
     "output_type": "stream",
     "text": [
      "\rMorphologyExtractor create index: 426817it [00:02, 125247.41it/s]"
     ]
    },
    {
     "name": "stderr",
     "output_type": "stream",
     "text": [
      "\rMorphologyExtractor create index: 440153it [00:03, 114730.98it/s]"
     ]
    },
    {
     "name": "stderr",
     "output_type": "stream",
     "text": [
      "\rMorphologyExtractor create index: 452366it [00:03, 71659.93it/s] "
     ]
    },
    {
     "name": "stderr",
     "output_type": "stream",
     "text": [
      "\rMorphologyExtractor create index: 462061it [00:03, 62063.68it/s]"
     ]
    },
    {
     "name": "stderr",
     "output_type": "stream",
     "text": [
      "\rMorphologyExtractor create index: 470267it [00:03, 65073.81it/s]"
     ]
    },
    {
     "name": "stderr",
     "output_type": "stream",
     "text": [
      "\rMorphologyExtractor create index: 479502it [00:03, 71399.21it/s]"
     ]
    },
    {
     "name": "stderr",
     "output_type": "stream",
     "text": [
      "\rMorphologyExtractor create index: 490472it [00:03, 79750.60it/s]"
     ]
    },
    {
     "name": "stderr",
     "output_type": "stream",
     "text": [
      "\rMorphologyExtractor create index: 500727it [00:03, 85448.43it/s]"
     ]
    },
    {
     "name": "stderr",
     "output_type": "stream",
     "text": [
      "\rMorphologyExtractor create index: 512686it [00:04, 93451.85it/s]"
     ]
    },
    {
     "name": "stderr",
     "output_type": "stream",
     "text": [
      "\rMorphologyExtractor create index: 527958it [00:04, 105765.38it/s]"
     ]
    },
    {
     "name": "stderr",
     "output_type": "stream",
     "text": [
      "\rMorphologyExtractor create index: 543295it [00:04, 116623.82it/s]"
     ]
    },
    {
     "name": "stderr",
     "output_type": "stream",
     "text": [
      "\rMorphologyExtractor create index: 557751it [00:04, 123799.02it/s]"
     ]
    },
    {
     "name": "stderr",
     "output_type": "stream",
     "text": [
      "\rMorphologyExtractor create index: 572607it [00:04, 130314.00it/s]"
     ]
    },
    {
     "name": "stderr",
     "output_type": "stream",
     "text": [
      "\rMorphologyExtractor create index: 586838it [00:04, 133693.45it/s]"
     ]
    },
    {
     "name": "stderr",
     "output_type": "stream",
     "text": [
      "\rMorphologyExtractor create index: 601853it [00:04, 138236.80it/s]"
     ]
    },
    {
     "name": "stderr",
     "output_type": "stream",
     "text": [
      "\rMorphologyExtractor create index: 616819it [00:04, 141475.93it/s]"
     ]
    },
    {
     "name": "stderr",
     "output_type": "stream",
     "text": [
      "\rMorphologyExtractor create index: 631891it [00:04, 144108.97it/s]"
     ]
    },
    {
     "name": "stderr",
     "output_type": "stream",
     "text": [
      "\rMorphologyExtractor create index: 647127it [00:04, 146487.22it/s]"
     ]
    },
    {
     "name": "stderr",
     "output_type": "stream",
     "text": [
      "\rMorphologyExtractor create index: 662146it [00:05, 147572.25it/s]"
     ]
    },
    {
     "name": "stderr",
     "output_type": "stream",
     "text": [
      "\rMorphologyExtractor create index: 677025it [00:05, 146456.25it/s]"
     ]
    },
    {
     "name": "stderr",
     "output_type": "stream",
     "text": [
      "\rMorphologyExtractor create index: 693234it [00:05, 150819.82it/s]"
     ]
    },
    {
     "name": "stderr",
     "output_type": "stream",
     "text": [
      "\rMorphologyExtractor create index: 708410it [00:05, 143809.84it/s]"
     ]
    },
    {
     "name": "stderr",
     "output_type": "stream",
     "text": [
      "\rMorphologyExtractor create index: 722925it [00:05, 143402.34it/s]"
     ]
    },
    {
     "name": "stderr",
     "output_type": "stream",
     "text": [
      "\rMorphologyExtractor create index: 737360it [00:05, 143596.02it/s]"
     ]
    },
    {
     "name": "stderr",
     "output_type": "stream",
     "text": [
      "\rMorphologyExtractor create index: 752866it [00:05, 146852.03it/s]"
     ]
    },
    {
     "name": "stderr",
     "output_type": "stream",
     "text": [
      "\rMorphologyExtractor create index: 768081it [00:05, 148400.04it/s]"
     ]
    },
    {
     "name": "stderr",
     "output_type": "stream",
     "text": [
      "\rMorphologyExtractor create index: 782970it [00:05, 147406.15it/s]"
     ]
    },
    {
     "name": "stderr",
     "output_type": "stream",
     "text": [
      "\rMorphologyExtractor create index: 798701it [00:05, 150237.32it/s]"
     ]
    },
    {
     "name": "stderr",
     "output_type": "stream",
     "text": [
      "\rMorphologyExtractor create index: 813764it [00:06, 145348.70it/s]"
     ]
    },
    {
     "name": "stderr",
     "output_type": "stream",
     "text": [
      "\rMorphologyExtractor create index: 828361it [00:06, 145384.55it/s]"
     ]
    },
    {
     "name": "stderr",
     "output_type": "stream",
     "text": [
      "\rMorphologyExtractor create index: 844139it [00:06, 148893.29it/s]"
     ]
    },
    {
     "name": "stderr",
     "output_type": "stream",
     "text": [
      "\rMorphologyExtractor create index: 859144it [00:06, 149237.94it/s]"
     ]
    },
    {
     "name": "stderr",
     "output_type": "stream",
     "text": [
      "\rMorphologyExtractor create index: 874432it [00:06, 150311.82it/s]"
     ]
    },
    {
     "name": "stderr",
     "output_type": "stream",
     "text": [
      "\rMorphologyExtractor create index: 890507it [00:06, 153296.69it/s]"
     ]
    },
    {
     "name": "stderr",
     "output_type": "stream",
     "text": [
      "\rMorphologyExtractor create index: 906452it [00:06, 155090.55it/s]"
     ]
    },
    {
     "name": "stderr",
     "output_type": "stream",
     "text": [
      "\rMorphologyExtractor create index: 922238it [00:06, 155908.75it/s]"
     ]
    },
    {
     "name": "stderr",
     "output_type": "stream",
     "text": [
      "\rMorphologyExtractor create index: 937850it [00:06, 154085.11it/s]"
     ]
    },
    {
     "name": "stderr",
     "output_type": "stream",
     "text": [
      "\rMorphologyExtractor create index: 953575it [00:07, 155019.42it/s]"
     ]
    },
    {
     "name": "stderr",
     "output_type": "stream",
     "text": [
      "\rMorphologyExtractor create index: 969427it [00:07, 156051.32it/s]"
     ]
    },
    {
     "name": "stderr",
     "output_type": "stream",
     "text": [
      "\rMorphologyExtractor create index: 985891it [00:07, 158530.09it/s]"
     ]
    },
    {
     "name": "stderr",
     "output_type": "stream",
     "text": [
      "\rMorphologyExtractor create index: 1001763it [00:07, 157427.12it/s]"
     ]
    },
    {
     "name": "stderr",
     "output_type": "stream",
     "text": [
      "\rMorphologyExtractor create index: 1017728it [00:07, 158083.25it/s]"
     ]
    },
    {
     "name": "stderr",
     "output_type": "stream",
     "text": [
      "\rMorphologyExtractor create index: 1033553it [00:07, 158131.81it/s]"
     ]
    },
    {
     "name": "stderr",
     "output_type": "stream",
     "text": [
      "\rMorphologyExtractor create index: 1049640it [00:07, 158942.13it/s]"
     ]
    },
    {
     "name": "stderr",
     "output_type": "stream",
     "text": [
      "\rMorphologyExtractor create index: 1065541it [00:07, 157831.15it/s]"
     ]
    },
    {
     "name": "stderr",
     "output_type": "stream",
     "text": [
      "\rMorphologyExtractor create index: 1081331it [00:07, 156465.55it/s]"
     ]
    },
    {
     "name": "stderr",
     "output_type": "stream",
     "text": [
      "\rMorphologyExtractor create index: 1096985it [00:07, 156406.62it/s]"
     ]
    },
    {
     "name": "stderr",
     "output_type": "stream",
     "text": [
      "\rMorphologyExtractor create index: 1112631it [00:08, 156082.82it/s]"
     ]
    },
    {
     "name": "stderr",
     "output_type": "stream",
     "text": [
      "\rMorphologyExtractor create index: 1128243it [00:08, 154374.77it/s]"
     ]
    },
    {
     "name": "stderr",
     "output_type": "stream",
     "text": [
      "\rMorphologyExtractor create index: 1143688it [00:08, 152830.26it/s]"
     ]
    },
    {
     "name": "stderr",
     "output_type": "stream",
     "text": [
      "\rMorphologyExtractor create index: 1159366it [00:08, 153991.46it/s]"
     ]
    },
    {
     "name": "stderr",
     "output_type": "stream",
     "text": [
      "\rMorphologyExtractor create index: 1175239it [00:08, 155380.26it/s]"
     ]
    },
    {
     "name": "stderr",
     "output_type": "stream",
     "text": [
      "\rMorphologyExtractor create index: 1190786it [00:08, 154789.35it/s]"
     ]
    },
    {
     "name": "stderr",
     "output_type": "stream",
     "text": [
      "\rMorphologyExtractor create index: 1206272it [00:08, 154611.70it/s]"
     ]
    },
    {
     "name": "stderr",
     "output_type": "stream",
     "text": [
      "\rMorphologyExtractor create index: 1221738it [00:08, 154050.86it/s]"
     ]
    },
    {
     "name": "stderr",
     "output_type": "stream",
     "text": [
      "\rMorphologyExtractor create index: 1237147it [00:08, 154017.48it/s]"
     ]
    },
    {
     "name": "stderr",
     "output_type": "stream",
     "text": [
      "\rMorphologyExtractor create index: 1252869it [00:08, 154963.52it/s]"
     ]
    },
    {
     "name": "stderr",
     "output_type": "stream",
     "text": [
      "\rMorphologyExtractor create index: 1268639it [00:09, 155773.49it/s]"
     ]
    },
    {
     "name": "stderr",
     "output_type": "stream",
     "text": [
      "\rMorphologyExtractor create index: 1284220it [00:09, 153970.42it/s]"
     ]
    },
    {
     "name": "stderr",
     "output_type": "stream",
     "text": [
      "\rMorphologyExtractor create index: 1299625it [00:09, 153541.70it/s]"
     ]
    },
    {
     "name": "stderr",
     "output_type": "stream",
     "text": [
      "\rMorphologyExtractor create index: 1314985it [00:09, 151885.90it/s]"
     ]
    },
    {
     "name": "stderr",
     "output_type": "stream",
     "text": [
      "\rMorphologyExtractor create index: 1330182it [00:09, 149730.79it/s]"
     ]
    },
    {
     "name": "stderr",
     "output_type": "stream",
     "text": [
      "\rMorphologyExtractor create index: 1345494it [00:09, 150728.55it/s]"
     ]
    },
    {
     "name": "stderr",
     "output_type": "stream",
     "text": [
      "\rMorphologyExtractor create index: 1361127it [00:09, 152363.24it/s]"
     ]
    },
    {
     "name": "stderr",
     "output_type": "stream",
     "text": [
      "\rMorphologyExtractor create index: 1376579it [00:09, 153002.23it/s]"
     ]
    },
    {
     "name": "stderr",
     "output_type": "stream",
     "text": [
      "\rMorphologyExtractor create index: 1392537it [00:09, 154914.19it/s]"
     ]
    },
    {
     "name": "stderr",
     "output_type": "stream",
     "text": [
      "\rMorphologyExtractor create index: 1408041it [00:09, 154617.27it/s]"
     ]
    },
    {
     "name": "stderr",
     "output_type": "stream",
     "text": [
      "\rMorphologyExtractor create index: 1424053it [00:10, 156226.59it/s]"
     ]
    },
    {
     "name": "stderr",
     "output_type": "stream",
     "text": [
      "\rMorphologyExtractor create index: 1439691it [00:10, 156270.17it/s]"
     ]
    },
    {
     "name": "stderr",
     "output_type": "stream",
     "text": [
      "\rMorphologyExtractor create index: 1455835it [00:10, 157785.51it/s]"
     ]
    },
    {
     "name": "stderr",
     "output_type": "stream",
     "text": [
      "\rMorphologyExtractor create index: 1471682it [00:10, 157987.46it/s]"
     ]
    },
    {
     "name": "stderr",
     "output_type": "stream",
     "text": [
      "\rMorphologyExtractor create index: 1487487it [00:10, 155704.91it/s]"
     ]
    },
    {
     "name": "stderr",
     "output_type": "stream",
     "text": [
      "\rMorphologyExtractor create index: 1503070it [00:10, 155382.68it/s]"
     ]
    },
    {
     "name": "stderr",
     "output_type": "stream",
     "text": [
      "\rMorphologyExtractor create index: 1518617it [00:10, 153411.76it/s]"
     ]
    },
    {
     "name": "stderr",
     "output_type": "stream",
     "text": [
      "\rMorphologyExtractor create index: 1533970it [00:10, 153331.40it/s]"
     ]
    },
    {
     "name": "stderr",
     "output_type": "stream",
     "text": [
      "\rMorphologyExtractor create index: 1549790it [00:10, 154758.42it/s]"
     ]
    },
    {
     "name": "stderr",
     "output_type": "stream",
     "text": [
      "\rMorphologyExtractor create index: 1565275it [00:10, 153918.22it/s]"
     ]
    },
    {
     "name": "stderr",
     "output_type": "stream",
     "text": [
      "\rMorphologyExtractor create index: 1581279it [00:11, 155704.62it/s]"
     ]
    },
    {
     "name": "stderr",
     "output_type": "stream",
     "text": [
      "\rMorphologyExtractor create index: 1597001it [00:11, 156154.20it/s]"
     ]
    },
    {
     "name": "stderr",
     "output_type": "stream",
     "text": [
      "\rMorphologyExtractor create index: 1612624it [00:11, 155586.71it/s]"
     ]
    },
    {
     "name": "stderr",
     "output_type": "stream",
     "text": [
      "\rMorphologyExtractor create index: 1628189it [00:11, 154898.97it/s]"
     ]
    },
    {
     "name": "stderr",
     "output_type": "stream",
     "text": [
      "\rMorphologyExtractor create index: 1643896it [00:11, 155542.12it/s]"
     ]
    },
    {
     "name": "stderr",
     "output_type": "stream",
     "text": [
      "\rMorphologyExtractor create index: 1660038it [00:11, 157258.11it/s]"
     ]
    },
    {
     "name": "stderr",
     "output_type": "stream",
     "text": [
      "\rMorphologyExtractor create index: 1675772it [00:11, 154165.69it/s]"
     ]
    },
    {
     "name": "stderr",
     "output_type": "stream",
     "text": [
      "\rMorphologyExtractor create index: 1691208it [00:11, 153529.15it/s]"
     ]
    },
    {
     "name": "stderr",
     "output_type": "stream",
     "text": [
      "\rMorphologyExtractor create index: 1706575it [00:11, 151213.61it/s]"
     ]
    },
    {
     "name": "stderr",
     "output_type": "stream",
     "text": [
      "\rMorphologyExtractor create index: 1722067it [00:11, 152304.46it/s]"
     ]
    },
    {
     "name": "stderr",
     "output_type": "stream",
     "text": [
      "\rMorphologyExtractor create index: 1737312it [00:12, 151534.48it/s]"
     ]
    },
    {
     "name": "stderr",
     "output_type": "stream",
     "text": [
      "\rMorphologyExtractor create index: 1753662it [00:12, 154935.64it/s]"
     ]
    },
    {
     "name": "stderr",
     "output_type": "stream",
     "text": [
      "\rMorphologyExtractor create index: 1769880it [00:12, 157039.13it/s]"
     ]
    },
    {
     "name": "stderr",
     "output_type": "stream",
     "text": [
      "\rMorphologyExtractor create index: 1785610it [00:12, 157053.73it/s]"
     ]
    },
    {
     "name": "stderr",
     "output_type": "stream",
     "text": [
      "\rMorphologyExtractor create index: 1801538it [00:12, 157712.19it/s]"
     ]
    },
    {
     "name": "stderr",
     "output_type": "stream",
     "text": [
      "\rMorphologyExtractor create index: 1817323it [00:12, 152751.04it/s]"
     ]
    },
    {
     "name": "stderr",
     "output_type": "stream",
     "text": [
      "\rMorphologyExtractor create index: 1832642it [00:12, 151269.73it/s]"
     ]
    },
    {
     "name": "stderr",
     "output_type": "stream",
     "text": [
      "\rMorphologyExtractor create index: 1847803it [00:12, 148935.53it/s]"
     ]
    },
    {
     "name": "stderr",
     "output_type": "stream",
     "text": [
      "\rMorphologyExtractor create index: 1862882it [00:12, 149485.73it/s]"
     ]
    },
    {
     "name": "stderr",
     "output_type": "stream",
     "text": [
      "\rMorphologyExtractor create index: 1878095it [00:12, 150268.92it/s]"
     ]
    },
    {
     "name": "stderr",
     "output_type": "stream",
     "text": [
      "\rMorphologyExtractor create index: 1893139it [00:13, 148941.45it/s]"
     ]
    },
    {
     "name": "stderr",
     "output_type": "stream",
     "text": [
      "\rMorphologyExtractor create index: 1908763it [00:13, 151058.02it/s]"
     ]
    },
    {
     "name": "stderr",
     "output_type": "stream",
     "text": [
      "\rMorphologyExtractor create index: 1925294it [00:13, 155067.01it/s]"
     ]
    },
    {
     "name": "stderr",
     "output_type": "stream",
     "text": [
      "\rMorphologyExtractor create index: 1940840it [00:13, 153741.38it/s]"
     ]
    },
    {
     "name": "stderr",
     "output_type": "stream",
     "text": [
      "\rMorphologyExtractor create index: 1956816it [00:13, 155497.87it/s]"
     ]
    },
    {
     "name": "stderr",
     "output_type": "stream",
     "text": [
      "\rMorphologyExtractor create index: 1972392it [00:13, 155172.06it/s]"
     ]
    },
    {
     "name": "stderr",
     "output_type": "stream",
     "text": [
      "\rMorphologyExtractor create index: 1987928it [00:13, 153280.24it/s]"
     ]
    },
    {
     "name": "stderr",
     "output_type": "stream",
     "text": [
      "\rMorphologyExtractor create index: 2004830it [00:13, 157683.87it/s]"
     ]
    },
    {
     "name": "stderr",
     "output_type": "stream",
     "text": [
      "\rMorphologyExtractor create index: 2020993it [00:13, 158844.36it/s]"
     ]
    },
    {
     "name": "stderr",
     "output_type": "stream",
     "text": [
      "\rMorphologyExtractor create index: 2036911it [00:14, 156878.21it/s]"
     ]
    },
    {
     "name": "stderr",
     "output_type": "stream",
     "text": [
      "\rMorphologyExtractor create index: 2052628it [00:14, 156306.26it/s]"
     ]
    },
    {
     "name": "stderr",
     "output_type": "stream",
     "text": [
      "\rMorphologyExtractor create index: 2068280it [00:14, 155249.90it/s]"
     ]
    },
    {
     "name": "stderr",
     "output_type": "stream",
     "text": [
      "\rMorphologyExtractor create index: 2084765it [00:14, 158008.64it/s]"
     ]
    },
    {
     "name": "stderr",
     "output_type": "stream",
     "text": [
      "\rMorphologyExtractor create index: 2100589it [00:14, 157985.57it/s]"
     ]
    },
    {
     "name": "stderr",
     "output_type": "stream",
     "text": [
      "\rMorphologyExtractor create index: 2116498it [00:14, 158314.43it/s]"
     ]
    },
    {
     "name": "stderr",
     "output_type": "stream",
     "text": [
      "\rMorphologyExtractor create index: 2132341it [00:14, 155198.92it/s]"
     ]
    },
    {
     "name": "stderr",
     "output_type": "stream",
     "text": [
      "\rMorphologyExtractor create index: 2147883it [00:14, 152477.58it/s]"
     ]
    },
    {
     "name": "stderr",
     "output_type": "stream",
     "text": [
      "\rMorphologyExtractor create index: 2163157it [00:14, 150779.79it/s]"
     ]
    },
    {
     "name": "stderr",
     "output_type": "stream",
     "text": [
      "\rMorphologyExtractor create index: 2178258it [00:14, 150095.88it/s]"
     ]
    },
    {
     "name": "stderr",
     "output_type": "stream",
     "text": [
      "\rMorphologyExtractor create index: 2193285it [00:15, 142282.13it/s]"
     ]
    },
    {
     "name": "stderr",
     "output_type": "stream",
     "text": [
      "\rMorphologyExtractor create index: 2207716it [00:15, 142882.39it/s]"
     ]
    },
    {
     "name": "stderr",
     "output_type": "stream",
     "text": [
      "\rMorphologyExtractor create index: 2222073it [00:15, 139738.82it/s]"
     ]
    },
    {
     "name": "stderr",
     "output_type": "stream",
     "text": [
      "\rMorphologyExtractor create index: 2236976it [00:15, 142400.50it/s]"
     ]
    },
    {
     "name": "stderr",
     "output_type": "stream",
     "text": [
      "\rMorphologyExtractor create index: 2251273it [00:15, 133431.43it/s]"
     ]
    },
    {
     "name": "stderr",
     "output_type": "stream",
     "text": [
      "\rMorphologyExtractor create index: 2266451it [00:15, 138450.35it/s]"
     ]
    },
    {
     "name": "stderr",
     "output_type": "stream",
     "text": [
      "\rMorphologyExtractor create index: 2281716it [00:15, 142423.70it/s]"
     ]
    },
    {
     "name": "stderr",
     "output_type": "stream",
     "text": [
      "\rMorphologyExtractor create index: 2297963it [00:15, 147896.90it/s]"
     ]
    },
    {
     "name": "stderr",
     "output_type": "stream",
     "text": [
      "\rMorphologyExtractor create index: 2313283it [00:15, 149448.50it/s]"
     ]
    },
    {
     "name": "stderr",
     "output_type": "stream",
     "text": [
      "\rMorphologyExtractor create index: 2328662it [00:15, 150724.51it/s]"
     ]
    },
    {
     "name": "stderr",
     "output_type": "stream",
     "text": [
      "\rMorphologyExtractor create index: 2344286it [00:16, 152316.52it/s]"
     ]
    },
    {
     "name": "stderr",
     "output_type": "stream",
     "text": [
      "\rMorphologyExtractor create index: 2360029it [00:16, 153814.96it/s]"
     ]
    },
    {
     "name": "stderr",
     "output_type": "stream",
     "text": [
      "\rMorphologyExtractor create index: 2375456it [00:16, 151618.08it/s]"
     ]
    },
    {
     "name": "stderr",
     "output_type": "stream",
     "text": [
      "\rMorphologyExtractor create index: 2390657it [00:16, 151701.91it/s]"
     ]
    },
    {
     "name": "stderr",
     "output_type": "stream",
     "text": [
      "\rMorphologyExtractor create index: 2405855it [00:16, 148509.86it/s]"
     ]
    },
    {
     "name": "stderr",
     "output_type": "stream",
     "text": [
      "\rMorphologyExtractor create index: 2421424it [00:16, 150592.07it/s]"
     ]
    },
    {
     "name": "stderr",
     "output_type": "stream",
     "text": [
      "\rMorphologyExtractor create index: 2436798it [00:16, 151521.06it/s]"
     ]
    },
    {
     "name": "stderr",
     "output_type": "stream",
     "text": [
      "\rMorphologyExtractor create index: 2452088it [00:16, 151930.76it/s]"
     ]
    },
    {
     "name": "stderr",
     "output_type": "stream",
     "text": [
      "\rMorphologyExtractor create index: 2467298it [00:16, 150732.64it/s]"
     ]
    },
    {
     "name": "stderr",
     "output_type": "stream",
     "text": [
      "\rMorphologyExtractor create index: 2482553it [00:16, 151271.93it/s]"
     ]
    },
    {
     "name": "stderr",
     "output_type": "stream",
     "text": [
      "\rMorphologyExtractor create index: 2497996it [00:17, 152203.39it/s]"
     ]
    },
    {
     "name": "stderr",
     "output_type": "stream",
     "text": [
      "\rMorphologyExtractor create index: 2513440it [00:17, 152867.04it/s]"
     ]
    },
    {
     "name": "stderr",
     "output_type": "stream",
     "text": [
      "\rMorphologyExtractor create index: 2528734it [00:17, 149277.97it/s]"
     ]
    },
    {
     "name": "stderr",
     "output_type": "stream",
     "text": [
      "\rMorphologyExtractor create index: 2544772it [00:17, 152440.70it/s]"
     ]
    },
    {
     "name": "stderr",
     "output_type": "stream",
     "text": [
      "\rMorphologyExtractor create index: 2560049it [00:17, 147621.70it/s]"
     ]
    },
    {
     "name": "stderr",
     "output_type": "stream",
     "text": [
      "\rMorphologyExtractor create index: 2574868it [00:17, 141025.82it/s]"
     ]
    },
    {
     "name": "stderr",
     "output_type": "stream",
     "text": [
      "\rMorphologyExtractor create index: 2589588it [00:17, 142819.67it/s]"
     ]
    },
    {
     "name": "stderr",
     "output_type": "stream",
     "text": [
      "\rMorphologyExtractor create index: 2604108it [00:17, 143523.44it/s]"
     ]
    },
    {
     "name": "stderr",
     "output_type": "stream",
     "text": [
      "\rMorphologyExtractor create index: 2619301it [00:17, 145944.42it/s]"
     ]
    },
    {
     "name": "stderr",
     "output_type": "stream",
     "text": [
      "\rMorphologyExtractor create index: 2634144it [00:18, 146679.07it/s]"
     ]
    },
    {
     "name": "stderr",
     "output_type": "stream",
     "text": [
      "\rMorphologyExtractor create index: 2649451it [00:18, 148538.40it/s]"
     ]
    },
    {
     "name": "stderr",
     "output_type": "stream",
     "text": [
      "\rMorphologyExtractor create index: 2664934it [00:18, 150370.63it/s]"
     ]
    },
    {
     "name": "stderr",
     "output_type": "stream",
     "text": [
      "\rMorphologyExtractor create index: 2679998it [00:18, 150363.84it/s]"
     ]
    },
    {
     "name": "stderr",
     "output_type": "stream",
     "text": [
      "\rMorphologyExtractor create index: 2695053it [00:18, 149941.46it/s]"
     ]
    },
    {
     "name": "stderr",
     "output_type": "stream",
     "text": [
      "\rMorphologyExtractor create index: 2710400it [00:18, 150982.48it/s]"
     ]
    },
    {
     "name": "stderr",
     "output_type": "stream",
     "text": [
      "\rMorphologyExtractor create index: 2726042it [00:18, 152571.96it/s]"
     ]
    },
    {
     "name": "stderr",
     "output_type": "stream",
     "text": [
      "\rMorphologyExtractor create index: 2742114it [00:18, 154926.41it/s]"
     ]
    },
    {
     "name": "stderr",
     "output_type": "stream",
     "text": [
      "\rMorphologyExtractor create index: 2757624it [00:18, 154836.95it/s]"
     ]
    },
    {
     "name": "stderr",
     "output_type": "stream",
     "text": [
      "\rMorphologyExtractor create index: 2773120it [00:18, 152732.40it/s]"
     ]
    },
    {
     "name": "stderr",
     "output_type": "stream",
     "text": [
      "\rMorphologyExtractor create index: 2788409it [00:19, 150672.06it/s]"
     ]
    },
    {
     "name": "stderr",
     "output_type": "stream",
     "text": [
      "\rMorphologyExtractor create index: 2803989it [00:19, 152173.73it/s]"
     ]
    },
    {
     "name": "stderr",
     "output_type": "stream",
     "text": [
      "\rMorphologyExtractor create index: 2819222it [00:19, 151823.35it/s]"
     ]
    },
    {
     "name": "stderr",
     "output_type": "stream",
     "text": [
      "\rMorphologyExtractor create index: 2834554it [00:19, 152266.93it/s]"
     ]
    },
    {
     "name": "stderr",
     "output_type": "stream",
     "text": [
      "\rMorphologyExtractor create index: 2849789it [00:19, 150995.08it/s]"
     ]
    },
    {
     "name": "stderr",
     "output_type": "stream",
     "text": [
      "\rMorphologyExtractor create index: 2864897it [00:19, 149471.01it/s]"
     ]
    },
    {
     "name": "stderr",
     "output_type": "stream",
     "text": [
      "\rMorphologyExtractor create index: 2879854it [00:19, 148666.29it/s]"
     ]
    },
    {
     "name": "stderr",
     "output_type": "stream",
     "text": [
      "\rMorphologyExtractor create index: 2895266it [00:19, 150260.96it/s]"
     ]
    },
    {
     "name": "stderr",
     "output_type": "stream",
     "text": [
      "\rMorphologyExtractor create index: 2910320it [00:19, 150343.64it/s]"
     ]
    },
    {
     "name": "stderr",
     "output_type": "stream",
     "text": [
      "\rMorphologyExtractor create index: 2925361it [00:19, 147649.16it/s]"
     ]
    },
    {
     "name": "stderr",
     "output_type": "stream",
     "text": [
      "\rMorphologyExtractor create index: 2940142it [00:20, 146774.18it/s]"
     ]
    },
    {
     "name": "stderr",
     "output_type": "stream",
     "text": [
      "\rMorphologyExtractor create index: 2955536it [00:20, 148852.00it/s]"
     ]
    },
    {
     "name": "stderr",
     "output_type": "stream",
     "text": [
      "\rMorphologyExtractor create index: 2970687it [00:20, 149636.75it/s]"
     ]
    },
    {
     "name": "stderr",
     "output_type": "stream",
     "text": [
      "\rMorphologyExtractor create index: 2985663it [00:20, 144910.04it/s]"
     ]
    },
    {
     "name": "stderr",
     "output_type": "stream",
     "text": [
      "\rMorphologyExtractor create index: 3000195it [00:20, 142900.04it/s]"
     ]
    }
   ],
   "source": [
    "import numpy as np\n",
    "from loaders.loading import load_train\n",
    "from sklearn.model_selection import train_test_split\n",
    "from pipeline import transform"
   ]
  },
  {
   "cell_type": "code",
   "execution_count": 3,
   "metadata": {
    "collapsed": true
   },
   "outputs": [
    {
     "name": "stdout",
     "output_type": "stream",
     "text": [
      "<class 'pandas.core.frame.DataFrame'>\nRangeIndex: 10574516 entries, 0 to 10574515\nData columns (total 7 columns):\nclass        object\nbefore       object\nafter        object\nprev_prev    object\nprev         object\nnext         object\nnext_next    object\ndtypes: object(7)\nmemory usage: 564.7+ MB\nNone\n"
     ]
    }
   ],
   "source": [
    "df = load_train(['class', 'before', 'after'], r'../input/norm_challenge_ru')\n",
    "df['prev_prev'] = df['before'].shift(2)\n",
    "df['prev'] = df['before'].shift(1)\n",
    "df['next'] = df['before'].shift(-1)\n",
    "df['next_next'] = df['before'].shift(-2)\n",
    "df = df.fillna('')\n",
    "print(df.info())"
   ]
  },
  {
   "cell_type": "code",
   "execution_count": 5,
   "metadata": {},
   "outputs": [],
   "source": [
    "x_train, x_test, y_train, y_test = train_test_split(df.drop(['after'], axis=1), df['after'], test_size=0.01, random_state=2017)\n",
    "x_test.drop(['class'], axis=1, inplace=True)"
   ]
  },
  {
   "cell_type": "code",
   "execution_count": 6,
   "metadata": {
    "collapsed": false
   },
   "outputs": [
    {
     "name": "stderr",
     "output_type": "stream",
     "text": [
      "\rDictClassTransformer_TRANS fit:   0%|          | 0/10468770 [00:00<?, ?it/s]"
     ]
    },
    {
     "name": "stderr",
     "output_type": "stream",
     "text": [
      "\rDictClassTransformer_TRANS fit:   0%|          | 14143/10468770 [00:01<16:28, 10574.61it/s]"
     ]
    },
    {
     "name": "stderr",
     "output_type": "stream",
     "text": [
      "\rDictClassTransformer_TRANS fit:   1%|          | 77310/10468770 [00:01<11:32, 14998.97it/s]"
     ]
    },
    {
     "name": "stderr",
     "output_type": "stream",
     "text": [
      "\rDictClassTransformer_TRANS fit:   1%|▏         | 147116/10468770 [00:01<08:06, 21231.58it/s]"
     ]
    },
    {
     "name": "stderr",
     "output_type": "stream",
     "text": [
      "\rDictClassTransformer_TRANS fit:   2%|▏         | 223700/10468770 [00:01<05:41, 29974.69it/s]"
     ]
    },
    {
     "name": "stderr",
     "output_type": "stream",
     "text": [
      "\rDictClassTransformer_TRANS fit:   3%|▎         | 279174/10468770 [00:02<05:05, 33333.73it/s]"
     ]
    },
    {
     "name": "stderr",
     "output_type": "stream",
     "text": [
      "\rDictClassTransformer_TRANS fit:   3%|▎         | 351221/10468770 [00:02<03:36, 46693.58it/s]"
     ]
    },
    {
     "name": "stderr",
     "output_type": "stream",
     "text": [
      "\rDictClassTransformer_TRANS fit:   4%|▍         | 430045/10468770 [00:03<02:34, 65053.54it/s]"
     ]
    },
    {
     "name": "stderr",
     "output_type": "stream",
     "text": [
      "\rDictClassTransformer_TRANS fit:   5%|▍         | 513371/10468770 [00:03<01:50, 89924.80it/s]"
     ]
    },
    {
     "name": "stderr",
     "output_type": "stream",
     "text": [
      "\rDictClassTransformer_TRANS fit:   6%|▌         | 598029/10468770 [00:03<01:20, 122870.50it/s]"
     ]
    },
    {
     "name": "stderr",
     "output_type": "stream",
     "text": [
      "\rDictClassTransformer_TRANS fit:   6%|▋         | 680063/10468770 [00:03<00:59, 164941.26it/s]"
     ]
    },
    {
     "name": "stderr",
     "output_type": "stream",
     "text": [
      "\rDictClassTransformer_TRANS fit:   7%|▋         | 768200/10468770 [00:03<00:44, 218134.99it/s]"
     ]
    },
    {
     "name": "stderr",
     "output_type": "stream",
     "text": [
      "\rDictClassTransformer_TRANS fit:   8%|▊         | 854935/10468770 [00:03<00:34, 281301.58it/s]"
     ]
    },
    {
     "name": "stderr",
     "output_type": "stream",
     "text": [
      "\rDictClassTransformer_TRANS fit:   9%|▉         | 943005/10468770 [00:03<00:26, 353472.70it/s]"
     ]
    },
    {
     "name": "stderr",
     "output_type": "stream",
     "text": [
      "\rDictClassTransformer_TRANS fit:  10%|▉         | 1030124/10468770 [00:03<00:21, 430161.55it/s]"
     ]
    },
    {
     "name": "stderr",
     "output_type": "stream",
     "text": [
      "\rDictClassTransformer_TRANS fit:  11%|█         | 1117462/10468770 [00:03<00:18, 507409.25it/s]"
     ]
    },
    {
     "name": "stderr",
     "output_type": "stream",
     "text": [
      "\rDictClassTransformer_TRANS fit:  12%|█▏        | 1205567/10468770 [00:03<00:15, 581374.14it/s]"
     ]
    },
    {
     "name": "stderr",
     "output_type": "stream",
     "text": [
      "\rDictClassTransformer_TRANS fit:  12%|█▏        | 1291570/10468770 [00:04<00:14, 621456.13it/s]"
     ]
    },
    {
     "name": "stderr",
     "output_type": "stream",
     "text": [
      "\rDictClassTransformer_TRANS fit:  13%|█▎        | 1377986/10468770 [00:04<00:13, 678633.89it/s]"
     ]
    },
    {
     "name": "stderr",
     "output_type": "stream",
     "text": [
      "\rDictClassTransformer_TRANS fit:  14%|█▍        | 1465845/10468770 [00:04<00:12, 728362.29it/s]"
     ]
    },
    {
     "name": "stderr",
     "output_type": "stream",
     "text": [
      "\rDictClassTransformer_TRANS fit:  15%|█▍        | 1554385/10468770 [00:04<00:11, 769293.61it/s]"
     ]
    },
    {
     "name": "stderr",
     "output_type": "stream",
     "text": [
      "\rDictClassTransformer_TRANS fit:  16%|█▌        | 1642830/10468770 [00:04<00:11, 800559.45it/s]"
     ]
    },
    {
     "name": "stderr",
     "output_type": "stream",
     "text": [
      "\rDictClassTransformer_TRANS fit:  17%|█▋        | 1729553/10468770 [00:04<00:12, 710411.95it/s]"
     ]
    },
    {
     "name": "stderr",
     "output_type": "stream",
     "text": [
      "\rDictClassTransformer_TRANS fit:  17%|█▋        | 1807137/10468770 [00:04<00:12, 699209.60it/s]"
     ]
    },
    {
     "name": "stderr",
     "output_type": "stream",
     "text": [
      "\rDictClassTransformer_TRANS fit:  18%|█▊        | 1881678/10468770 [00:04<00:12, 708562.14it/s]"
     ]
    },
    {
     "name": "stderr",
     "output_type": "stream",
     "text": [
      "\rDictClassTransformer_TRANS fit:  19%|█▉        | 1967716/10468770 [00:04<00:11, 748154.06it/s]"
     ]
    },
    {
     "name": "stderr",
     "output_type": "stream",
     "text": [
      "\rDictClassTransformer_TRANS fit:  20%|█▉        | 2053940/10468770 [00:05<00:10, 779076.53it/s]"
     ]
    },
    {
     "name": "stderr",
     "output_type": "stream",
     "text": [
      "\rDictClassTransformer_TRANS fit:  20%|██        | 2134193/10468770 [00:05<00:12, 652855.81it/s]"
     ]
    },
    {
     "name": "stderr",
     "output_type": "stream",
     "text": [
      "\rDictClassTransformer_TRANS fit:  21%|██        | 2204583/10468770 [00:05<00:17, 466788.37it/s]"
     ]
    },
    {
     "name": "stderr",
     "output_type": "stream",
     "text": [
      "\rDictClassTransformer_TRANS fit:  22%|██▏       | 2262267/10468770 [00:05<00:16, 483163.11it/s]"
     ]
    },
    {
     "name": "stderr",
     "output_type": "stream",
     "text": [
      "\rDictClassTransformer_TRANS fit:  22%|██▏       | 2319105/10468770 [00:05<00:16, 505917.91it/s]"
     ]
    },
    {
     "name": "stderr",
     "output_type": "stream",
     "text": [
      "\rDictClassTransformer_TRANS fit:  23%|██▎       | 2400841/10468770 [00:05<00:14, 571203.87it/s]"
     ]
    },
    {
     "name": "stderr",
     "output_type": "stream",
     "text": [
      "\rDictClassTransformer_TRANS fit:  24%|██▎       | 2485066/10468770 [00:05<00:12, 632242.66it/s]"
     ]
    },
    {
     "name": "stderr",
     "output_type": "stream",
     "text": [
      "\rDictClassTransformer_TRANS fit:  24%|██▍       | 2561730/10468770 [00:05<00:11, 667329.22it/s]"
     ]
    },
    {
     "name": "stderr",
     "output_type": "stream",
     "text": [
      "\rDictClassTransformer_TRANS fit:  25%|██▌       | 2646085/10468770 [00:06<00:10, 711946.25it/s]"
     ]
    },
    {
     "name": "stderr",
     "output_type": "stream",
     "text": [
      "\rDictClassTransformer_TRANS fit:  26%|██▌       | 2729826/10468770 [00:06<00:10, 745451.85it/s]"
     ]
    },
    {
     "name": "stderr",
     "output_type": "stream",
     "text": [
      "\rDictClassTransformer_TRANS fit:  27%|██▋       | 2816738/10468770 [00:06<00:09, 778689.87it/s]"
     ]
    },
    {
     "name": "stderr",
     "output_type": "stream",
     "text": [
      "\rDictClassTransformer_TRANS fit:  28%|██▊       | 2897505/10468770 [00:06<00:10, 724474.29it/s]"
     ]
    },
    {
     "name": "stderr",
     "output_type": "stream",
     "text": [
      "\rDictClassTransformer_TRANS fit:  28%|██▊       | 2975558/10468770 [00:06<00:10, 740418.13it/s]"
     ]
    },
    {
     "name": "stderr",
     "output_type": "stream",
     "text": [
      "\rDictClassTransformer_TRANS fit:  29%|██▉       | 3051637/10468770 [00:06<00:10, 729117.53it/s]"
     ]
    },
    {
     "name": "stderr",
     "output_type": "stream",
     "text": [
      "\rDictClassTransformer_TRANS fit:  30%|██▉       | 3129847/10468770 [00:06<00:09, 744240.57it/s]"
     ]
    },
    {
     "name": "stderr",
     "output_type": "stream",
     "text": [
      "\rDictClassTransformer_TRANS fit:  31%|███       | 3205374/10468770 [00:06<00:09, 736644.87it/s]"
     ]
    },
    {
     "name": "stderr",
     "output_type": "stream",
     "text": [
      "\rDictClassTransformer_TRANS fit:  31%|███▏      | 3293402/10468770 [00:06<00:09, 774560.04it/s]"
     ]
    },
    {
     "name": "stderr",
     "output_type": "stream",
     "text": [
      "\rDictClassTransformer_TRANS fit:  32%|███▏      | 3382798/10468770 [00:07<00:08, 806888.88it/s]"
     ]
    },
    {
     "name": "stderr",
     "output_type": "stream",
     "text": [
      "\rDictClassTransformer_TRANS fit:  33%|███▎      | 3472284/10468770 [00:07<00:08, 831401.95it/s]"
     ]
    },
    {
     "name": "stderr",
     "output_type": "stream",
     "text": [
      "\rDictClassTransformer_TRANS fit:  34%|███▍      | 3563772/10468770 [00:07<00:08, 854796.45it/s]"
     ]
    },
    {
     "name": "stderr",
     "output_type": "stream",
     "text": [
      "\rDictClassTransformer_TRANS fit:  35%|███▍      | 3653016/10468770 [00:07<00:07, 865749.63it/s]"
     ]
    },
    {
     "name": "stderr",
     "output_type": "stream",
     "text": [
      "\rDictClassTransformer_TRANS fit:  36%|███▌      | 3744171/10468770 [00:07<00:07, 878998.73it/s]"
     ]
    },
    {
     "name": "stderr",
     "output_type": "stream",
     "text": [
      "\rDictClassTransformer_TRANS fit:  37%|███▋      | 3832552/10468770 [00:07<00:07, 876434.54it/s]"
     ]
    },
    {
     "name": "stderr",
     "output_type": "stream",
     "text": [
      "\rDictClassTransformer_TRANS fit:  38%|███▊      | 3930036/10468770 [00:07<00:07, 903802.23it/s]"
     ]
    },
    {
     "name": "stderr",
     "output_type": "stream",
     "text": [
      "\rDictClassTransformer_TRANS fit:  38%|███▊      | 4025925/10468770 [00:07<00:07, 919650.03it/s]"
     ]
    },
    {
     "name": "stderr",
     "output_type": "stream",
     "text": [
      "\rDictClassTransformer_TRANS fit:  39%|███▉      | 4123759/10468770 [00:07<00:06, 936502.44it/s]"
     ]
    },
    {
     "name": "stderr",
     "output_type": "stream",
     "text": [
      "\rDictClassTransformer_TRANS fit:  40%|████      | 4219970/10468770 [00:07<00:06, 944031.42it/s]"
     ]
    },
    {
     "name": "stderr",
     "output_type": "stream",
     "text": [
      "\rDictClassTransformer_TRANS fit:  41%|████▏     | 4319097/10468770 [00:08<00:06, 957712.41it/s]"
     ]
    },
    {
     "name": "stderr",
     "output_type": "stream",
     "text": [
      "\rDictClassTransformer_TRANS fit:  42%|████▏     | 4415095/10468770 [00:08<00:06, 947508.89it/s]"
     ]
    },
    {
     "name": "stderr",
     "output_type": "stream",
     "text": [
      "\rDictClassTransformer_TRANS fit:  43%|████▎     | 4512732/10468770 [00:08<00:06, 955983.38it/s]"
     ]
    },
    {
     "name": "stderr",
     "output_type": "stream",
     "text": [
      "\rDictClassTransformer_TRANS fit:  44%|████▍     | 4611917/10468770 [00:08<00:06, 966465.59it/s]"
     ]
    },
    {
     "name": "stderr",
     "output_type": "stream",
     "text": [
      "\rDictClassTransformer_TRANS fit:  45%|████▍     | 4710757/10468770 [00:08<00:05, 972942.60it/s]"
     ]
    },
    {
     "name": "stderr",
     "output_type": "stream",
     "text": [
      "\rDictClassTransformer_TRANS fit:  46%|████▌     | 4811870/10468770 [00:08<00:05, 984090.01it/s]"
     ]
    },
    {
     "name": "stderr",
     "output_type": "stream",
     "text": [
      "\rDictClassTransformer_TRANS fit:  47%|████▋     | 4914266/10468770 [00:08<00:05, 995715.19it/s]"
     ]
    },
    {
     "name": "stderr",
     "output_type": "stream",
     "text": [
      "\rDictClassTransformer_TRANS fit:  48%|████▊     | 5015229/10468770 [00:08<00:05, 999845.94it/s]"
     ]
    },
    {
     "name": "stderr",
     "output_type": "stream",
     "text": [
      "\rDictClassTransformer_TRANS fit:  49%|████▉     | 5115472/10468770 [00:08<00:05, 1000617.18it/s]"
     ]
    },
    {
     "name": "stderr",
     "output_type": "stream",
     "text": [
      "\rDictClassTransformer_TRANS fit:  50%|████▉     | 5217758/10468770 [00:08<00:05, 1007187.36it/s]"
     ]
    },
    {
     "name": "stderr",
     "output_type": "stream",
     "text": [
      "\rDictClassTransformer_TRANS fit:  51%|█████     | 5318525/10468770 [00:09<00:05, 982280.40it/s] "
     ]
    },
    {
     "name": "stderr",
     "output_type": "stream",
     "text": [
      "\rDictClassTransformer_TRANS fit:  52%|█████▏    | 5416923/10468770 [00:09<00:05, 981831.12it/s]"
     ]
    },
    {
     "name": "stderr",
     "output_type": "stream",
     "text": [
      "\rDictClassTransformer_TRANS fit:  53%|█████▎    | 5515225/10468770 [00:09<00:05, 973363.89it/s]"
     ]
    },
    {
     "name": "stderr",
     "output_type": "stream",
     "text": [
      "\rDictClassTransformer_TRANS fit:  54%|█████▎    | 5613161/10468770 [00:09<00:04, 975151.80it/s]"
     ]
    },
    {
     "name": "stderr",
     "output_type": "stream",
     "text": [
      "\rDictClassTransformer_TRANS fit:  55%|█████▍    | 5711677/10468770 [00:09<00:04, 978129.65it/s]"
     ]
    },
    {
     "name": "stderr",
     "output_type": "stream",
     "text": [
      "\rDictClassTransformer_TRANS fit:  56%|█████▌    | 5811420/10468770 [00:09<00:04, 983838.37it/s]"
     ]
    },
    {
     "name": "stderr",
     "output_type": "stream",
     "text": [
      "\rDictClassTransformer_TRANS fit:  56%|█████▋    | 5909848/10468770 [00:09<00:04, 970299.19it/s]"
     ]
    },
    {
     "name": "stderr",
     "output_type": "stream",
     "text": [
      "\rDictClassTransformer_TRANS fit:  57%|█████▋    | 6006951/10468770 [00:09<00:04, 968297.28it/s]"
     ]
    },
    {
     "name": "stderr",
     "output_type": "stream",
     "text": [
      "\rDictClassTransformer_TRANS fit:  58%|█████▊    | 6104086/10468770 [00:09<00:04, 969210.66it/s]"
     ]
    },
    {
     "name": "stderr",
     "output_type": "stream",
     "text": [
      "\rDictClassTransformer_TRANS fit:  59%|█████▉    | 6202838/10468770 [00:09<00:04, 974629.30it/s]"
     ]
    },
    {
     "name": "stderr",
     "output_type": "stream",
     "text": [
      "\rDictClassTransformer_TRANS fit:  60%|██████    | 6302775/10468770 [00:10<00:04, 981921.51it/s]"
     ]
    },
    {
     "name": "stderr",
     "output_type": "stream",
     "text": [
      "\rDictClassTransformer_TRANS fit:  61%|██████    | 6401004/10468770 [00:10<00:04, 980603.27it/s]"
     ]
    },
    {
     "name": "stderr",
     "output_type": "stream",
     "text": [
      "\rDictClassTransformer_TRANS fit:  62%|██████▏   | 6499090/10468770 [00:10<00:04, 969827.23it/s]"
     ]
    },
    {
     "name": "stderr",
     "output_type": "stream",
     "text": [
      "\rDictClassTransformer_TRANS fit:  63%|██████▎   | 6596118/10468770 [00:11<00:16, 235598.87it/s]"
     ]
    },
    {
     "name": "stderr",
     "output_type": "stream",
     "text": [
      "\rDictClassTransformer_TRANS fit:  64%|██████▍   | 6685005/10468770 [00:11<00:12, 302236.63it/s]"
     ]
    },
    {
     "name": "stderr",
     "output_type": "stream",
     "text": [
      "\rDictClassTransformer_TRANS fit:  65%|██████▍   | 6780936/10468770 [00:11<00:09, 380402.53it/s]"
     ]
    },
    {
     "name": "stderr",
     "output_type": "stream",
     "text": [
      "\rDictClassTransformer_TRANS fit:  66%|██████▌   | 6876713/10468770 [00:11<00:07, 464384.86it/s]"
     ]
    },
    {
     "name": "stderr",
     "output_type": "stream",
     "text": [
      "\rDictClassTransformer_TRANS fit:  67%|██████▋   | 6972526/10468770 [00:11<00:06, 549304.55it/s]"
     ]
    },
    {
     "name": "stderr",
     "output_type": "stream",
     "text": [
      "\rDictClassTransformer_TRANS fit:  68%|██████▊   | 7068019/10468770 [00:11<00:05, 629524.22it/s]"
     ]
    },
    {
     "name": "stderr",
     "output_type": "stream",
     "text": [
      "\rDictClassTransformer_TRANS fit:  68%|██████▊   | 7166714/10468770 [00:11<00:04, 706252.67it/s]"
     ]
    },
    {
     "name": "stderr",
     "output_type": "stream",
     "text": [
      "\rDictClassTransformer_TRANS fit:  69%|██████▉   | 7263387/10468770 [00:12<00:04, 768359.65it/s]"
     ]
    },
    {
     "name": "stderr",
     "output_type": "stream",
     "text": [
      "\rDictClassTransformer_TRANS fit:  70%|███████   | 7359446/10468770 [00:12<00:03, 817422.16it/s]"
     ]
    },
    {
     "name": "stderr",
     "output_type": "stream",
     "text": [
      "\rDictClassTransformer_TRANS fit:  71%|███████   | 7458502/10468770 [00:12<00:03, 862654.80it/s]"
     ]
    },
    {
     "name": "stderr",
     "output_type": "stream",
     "text": [
      "\rDictClassTransformer_TRANS fit:  72%|███████▏  | 7554597/10468770 [00:12<00:03, 889051.27it/s]"
     ]
    },
    {
     "name": "stderr",
     "output_type": "stream",
     "text": [
      "\rDictClassTransformer_TRANS fit:  73%|███████▎  | 7652960/10468770 [00:12<00:03, 915456.23it/s]"
     ]
    },
    {
     "name": "stderr",
     "output_type": "stream",
     "text": [
      "\rDictClassTransformer_TRANS fit:  74%|███████▍  | 7753682/10468770 [00:12<00:02, 941177.49it/s]"
     ]
    },
    {
     "name": "stderr",
     "output_type": "stream",
     "text": [
      "\rDictClassTransformer_TRANS fit:  75%|███████▌  | 7851742/10468770 [00:12<00:02, 952666.96it/s]"
     ]
    },
    {
     "name": "stderr",
     "output_type": "stream",
     "text": [
      "\rDictClassTransformer_TRANS fit:  76%|███████▌  | 7955552/10468770 [00:12<00:02, 976779.97it/s]"
     ]
    },
    {
     "name": "stderr",
     "output_type": "stream",
     "text": [
      "\rDictClassTransformer_TRANS fit:  77%|███████▋  | 8057300/10468770 [00:12<00:02, 988640.78it/s]"
     ]
    },
    {
     "name": "stderr",
     "output_type": "stream",
     "text": [
      "\rDictClassTransformer_TRANS fit:  78%|███████▊  | 8161065/10468770 [00:12<00:02, 1002848.66it/s]"
     ]
    },
    {
     "name": "stderr",
     "output_type": "stream",
     "text": [
      "\rDictClassTransformer_TRANS fit:  79%|███████▉  | 8262419/10468770 [00:13<00:02, 997503.91it/s] "
     ]
    },
    {
     "name": "stderr",
     "output_type": "stream",
     "text": [
      "\rDictClassTransformer_TRANS fit:  80%|███████▉  | 8363731/10468770 [00:13<00:02, 1002134.69it/s]"
     ]
    },
    {
     "name": "stderr",
     "output_type": "stream",
     "text": [
      "\rDictClassTransformer_TRANS fit:  81%|████████  | 8464478/10468770 [00:13<00:02, 997154.70it/s] "
     ]
    },
    {
     "name": "stderr",
     "output_type": "stream",
     "text": [
      "\rDictClassTransformer_TRANS fit:  82%|████████▏ | 8564573/10468770 [00:13<00:01, 997347.15it/s]"
     ]
    },
    {
     "name": "stderr",
     "output_type": "stream",
     "text": [
      "\rDictClassTransformer_TRANS fit:  83%|████████▎ | 8668114/10468770 [00:13<00:01, 1008465.66it/s]"
     ]
    },
    {
     "name": "stderr",
     "output_type": "stream",
     "text": [
      "\rDictClassTransformer_TRANS fit:  84%|████████▍ | 8771664/10468770 [00:13<00:01, 1016424.00it/s]"
     ]
    },
    {
     "name": "stderr",
     "output_type": "stream",
     "text": [
      "\rDictClassTransformer_TRANS fit:  85%|████████▍ | 8873473/10468770 [00:13<00:01, 1007033.80it/s]"
     ]
    },
    {
     "name": "stderr",
     "output_type": "stream",
     "text": [
      "\rDictClassTransformer_TRANS fit:  86%|████████▌ | 8976635/10468770 [00:13<00:01, 1014282.44it/s]"
     ]
    },
    {
     "name": "stderr",
     "output_type": "stream",
     "text": [
      "\rDictClassTransformer_TRANS fit:  87%|████████▋ | 9078171/10468770 [00:13<00:01, 1010851.03it/s]"
     ]
    },
    {
     "name": "stderr",
     "output_type": "stream",
     "text": [
      "\rDictClassTransformer_TRANS fit:  88%|████████▊ | 9179335/10468770 [00:14<00:01, 1009476.46it/s]"
     ]
    },
    {
     "name": "stderr",
     "output_type": "stream",
     "text": [
      "\rDictClassTransformer_TRANS fit:  89%|████████▊ | 9282800/10468770 [00:14<00:01, 1016898.53it/s]"
     ]
    },
    {
     "name": "stderr",
     "output_type": "stream",
     "text": [
      "\rDictClassTransformer_TRANS fit:  90%|████████▉ | 9387636/10468770 [00:14<00:01, 1026134.31it/s]"
     ]
    },
    {
     "name": "stderr",
     "output_type": "stream",
     "text": [
      "\rDictClassTransformer_TRANS fit:  91%|█████████ | 9490306/10468770 [00:14<00:00, 1021219.47it/s]"
     ]
    },
    {
     "name": "stderr",
     "output_type": "stream",
     "text": [
      "\rDictClassTransformer_TRANS fit:  92%|█████████▏| 9592473/10468770 [00:14<00:00, 1019687.40it/s]"
     ]
    },
    {
     "name": "stderr",
     "output_type": "stream",
     "text": [
      "\rDictClassTransformer_TRANS fit:  93%|█████████▎| 9694474/10468770 [00:14<00:00, 1009636.89it/s]"
     ]
    },
    {
     "name": "stderr",
     "output_type": "stream",
     "text": [
      "\rDictClassTransformer_TRANS fit:  94%|█████████▎| 9795483/10468770 [00:14<00:00, 1005020.11it/s]"
     ]
    },
    {
     "name": "stderr",
     "output_type": "stream",
     "text": [
      "\rDictClassTransformer_TRANS fit:  95%|█████████▍| 9896022/10468770 [00:14<00:00, 994748.25it/s] "
     ]
    },
    {
     "name": "stderr",
     "output_type": "stream",
     "text": [
      "\rDictClassTransformer_TRANS fit:  95%|█████████▌| 9996385/10468770 [00:14<00:00, 997395.80it/s]"
     ]
    },
    {
     "name": "stderr",
     "output_type": "stream",
     "text": [
      "\rDictClassTransformer_TRANS fit:  96%|█████████▋| 10096161/10468770 [00:14<00:00, 992839.51it/s]"
     ]
    },
    {
     "name": "stderr",
     "output_type": "stream",
     "text": [
      "\rDictClassTransformer_TRANS fit:  97%|█████████▋| 10199412/10468770 [00:15<00:00, 1004410.83it/s]"
     ]
    },
    {
     "name": "stderr",
     "output_type": "stream",
     "text": [
      "\rDictClassTransformer_TRANS fit:  98%|█████████▊| 10300617/10468770 [00:15<00:00, 1006687.87it/s]"
     ]
    },
    {
     "name": "stderr",
     "output_type": "stream",
     "text": [
      "\rDictClassTransformer_TRANS fit:  99%|█████████▉| 10401325/10468770 [00:15<00:00, 1003015.27it/s]"
     ]
    },
    {
     "name": "stderr",
     "output_type": "stream",
     "text": [
      "\rDictClassTransformer_TRANS fit: 100%|██████████| 10468770/10468770 [00:15<00:00, 675611.48it/s] "
     ]
    },
    {
     "name": "stderr",
     "output_type": "stream",
     "text": [
      "\n"
     ]
    },
    {
     "name": "stderr",
     "output_type": "stream",
     "text": [
      "\rDictClassTransformer_PUNCT fit:   0%|          | 0/10468770 [00:00<?, ?it/s]"
     ]
    },
    {
     "name": "stderr",
     "output_type": "stream",
     "text": [
      "\rDictClassTransformer_PUNCT fit:   1%|          | 77031/10468770 [00:00<00:13, 770308.90it/s]"
     ]
    },
    {
     "name": "stderr",
     "output_type": "stream",
     "text": [
      "\rDictClassTransformer_PUNCT fit:   2%|▏         | 164328/10468770 [00:00<00:12, 798475.23it/s]"
     ]
    },
    {
     "name": "stderr",
     "output_type": "stream",
     "text": [
      "\rDictClassTransformer_PUNCT fit:   2%|▏         | 260710/10468770 [00:00<00:12, 841796.36it/s]"
     ]
    },
    {
     "name": "stderr",
     "output_type": "stream",
     "text": [
      "\rDictClassTransformer_PUNCT fit:   3%|▎         | 358736/10468770 [00:00<00:11, 879044.44it/s]"
     ]
    },
    {
     "name": "stderr",
     "output_type": "stream",
     "text": [
      "\rDictClassTransformer_PUNCT fit:   4%|▍         | 447317/10468770 [00:00<00:11, 881062.86it/s]"
     ]
    },
    {
     "name": "stderr",
     "output_type": "stream",
     "text": [
      "\rDictClassTransformer_PUNCT fit:   5%|▌         | 548355/10468770 [00:00<00:10, 916241.34it/s]"
     ]
    },
    {
     "name": "stderr",
     "output_type": "stream",
     "text": [
      "\rDictClassTransformer_PUNCT fit:   6%|▌         | 649818/10468770 [00:00<00:10, 943691.46it/s]"
     ]
    },
    {
     "name": "stderr",
     "output_type": "stream",
     "text": [
      "\rDictClassTransformer_PUNCT fit:   7%|▋         | 749425/10468770 [00:00<00:10, 958811.66it/s]"
     ]
    },
    {
     "name": "stderr",
     "output_type": "stream",
     "text": [
      "\rDictClassTransformer_PUNCT fit:   8%|▊         | 857098/10468770 [00:00<00:09, 991380.13it/s]"
     ]
    },
    {
     "name": "stderr",
     "output_type": "stream",
     "text": [
      "\rDictClassTransformer_PUNCT fit:   9%|▉         | 967255/10468770 [00:01<00:09, 1022048.36it/s]"
     ]
    },
    {
     "name": "stderr",
     "output_type": "stream",
     "text": [
      "\rDictClassTransformer_PUNCT fit:  10%|█         | 1074264/10468770 [00:01<00:09, 1036001.30it/s]"
     ]
    },
    {
     "name": "stderr",
     "output_type": "stream",
     "text": [
      "\rDictClassTransformer_PUNCT fit:  11%|█▏        | 1182817/10468770 [00:01<00:08, 1050376.15it/s]"
     ]
    },
    {
     "name": "stderr",
     "output_type": "stream",
     "text": [
      "\rDictClassTransformer_PUNCT fit:  12%|█▏        | 1290350/10468770 [00:01<00:08, 1057737.17it/s]"
     ]
    },
    {
     "name": "stderr",
     "output_type": "stream",
     "text": [
      "\rDictClassTransformer_PUNCT fit:  13%|█▎        | 1395700/10468770 [00:01<00:08, 1055706.28it/s]"
     ]
    },
    {
     "name": "stderr",
     "output_type": "stream",
     "text": [
      "\rDictClassTransformer_PUNCT fit:  14%|█▍        | 1503380/10468770 [00:01<00:08, 1061946.66it/s]"
     ]
    },
    {
     "name": "stderr",
     "output_type": "stream",
     "text": [
      "\rDictClassTransformer_PUNCT fit:  15%|█▌        | 1609376/10468770 [00:01<00:08, 1057252.99it/s]"
     ]
    },
    {
     "name": "stderr",
     "output_type": "stream",
     "text": [
      "\rDictClassTransformer_PUNCT fit:  16%|█▋        | 1715251/10468770 [00:01<00:08, 1057701.19it/s]"
     ]
    },
    {
     "name": "stderr",
     "output_type": "stream",
     "text": [
      "\rDictClassTransformer_PUNCT fit:  17%|█▋        | 1820928/10468770 [00:01<00:08, 1046546.34it/s]"
     ]
    },
    {
     "name": "stderr",
     "output_type": "stream",
     "text": [
      "\rDictClassTransformer_PUNCT fit:  18%|█▊        | 1925544/10468770 [00:01<00:08, 1040991.67it/s]"
     ]
    },
    {
     "name": "stderr",
     "output_type": "stream",
     "text": [
      "\rDictClassTransformer_PUNCT fit:  19%|█▉        | 2029623/10468770 [00:02<00:08, 998588.75it/s] "
     ]
    },
    {
     "name": "stderr",
     "output_type": "stream",
     "text": [
      "\rDictClassTransformer_PUNCT fit:  20%|██        | 2139335/10468770 [00:02<00:08, 1026237.97it/s]"
     ]
    },
    {
     "name": "stderr",
     "output_type": "stream",
     "text": [
      "\rDictClassTransformer_PUNCT fit:  21%|██▏       | 2246725/10468770 [00:02<00:07, 1040080.89it/s]"
     ]
    },
    {
     "name": "stderr",
     "output_type": "stream",
     "text": [
      "\rDictClassTransformer_PUNCT fit:  22%|██▏       | 2351086/10468770 [00:02<00:07, 1040093.92it/s]"
     ]
    },
    {
     "name": "stderr",
     "output_type": "stream",
     "text": [
      "\rDictClassTransformer_PUNCT fit:  23%|██▎       | 2458630/10468770 [00:02<00:07, 1050450.91it/s]"
     ]
    },
    {
     "name": "stderr",
     "output_type": "stream",
     "text": [
      "\rDictClassTransformer_PUNCT fit:  25%|██▍       | 2567619/10468770 [00:02<00:07, 1061976.98it/s]"
     ]
    },
    {
     "name": "stderr",
     "output_type": "stream",
     "text": [
      "\rDictClassTransformer_PUNCT fit:  26%|██▌       | 2675466/10468770 [00:02<00:07, 1066871.22it/s]"
     ]
    },
    {
     "name": "stderr",
     "output_type": "stream",
     "text": [
      "\rDictClassTransformer_PUNCT fit:  27%|██▋       | 2783733/10468770 [00:02<00:07, 1071558.74it/s]"
     ]
    },
    {
     "name": "stderr",
     "output_type": "stream",
     "text": [
      "\rDictClassTransformer_PUNCT fit:  28%|██▊       | 2897271/10468770 [00:02<00:06, 1089936.88it/s]"
     ]
    },
    {
     "name": "stderr",
     "output_type": "stream",
     "text": [
      "\rDictClassTransformer_PUNCT fit:  29%|██▊       | 3006802/10468770 [00:02<00:06, 1091542.03it/s]"
     ]
    },
    {
     "name": "stderr",
     "output_type": "stream",
     "text": [
      "\rDictClassTransformer_PUNCT fit:  30%|██▉       | 3116055/10468770 [00:03<00:06, 1080406.51it/s]"
     ]
    },
    {
     "name": "stderr",
     "output_type": "stream",
     "text": [
      "\rDictClassTransformer_PUNCT fit:  31%|███       | 3229158/10468770 [00:03<00:06, 1095110.80it/s]"
     ]
    },
    {
     "name": "stderr",
     "output_type": "stream",
     "text": [
      "\rDictClassTransformer_PUNCT fit:  32%|███▏      | 3338784/10468770 [00:03<00:06, 1092625.52it/s]"
     ]
    },
    {
     "name": "stderr",
     "output_type": "stream",
     "text": [
      "\rDictClassTransformer_PUNCT fit:  33%|███▎      | 3448129/10468770 [00:03<00:06, 1045553.16it/s]"
     ]
    },
    {
     "name": "stderr",
     "output_type": "stream",
     "text": [
      "\rDictClassTransformer_PUNCT fit:  34%|███▍      | 3554831/10468770 [00:03<00:06, 1051901.52it/s]"
     ]
    },
    {
     "name": "stderr",
     "output_type": "stream",
     "text": [
      "\rDictClassTransformer_PUNCT fit:  35%|███▍      | 3663250/10468770 [00:03<00:06, 1061377.92it/s]"
     ]
    },
    {
     "name": "stderr",
     "output_type": "stream",
     "text": [
      "\rDictClassTransformer_PUNCT fit:  36%|███▌      | 3769654/10468770 [00:03<00:10, 641550.11it/s] "
     ]
    },
    {
     "name": "stderr",
     "output_type": "stream",
     "text": [
      "\rDictClassTransformer_PUNCT fit:  37%|███▋      | 3859647/10468770 [00:03<00:09, 702016.95it/s]"
     ]
    },
    {
     "name": "stderr",
     "output_type": "stream",
     "text": [
      "\rDictClassTransformer_PUNCT fit:  38%|███▊      | 3950565/10468770 [00:04<00:08, 753523.74it/s]"
     ]
    },
    {
     "name": "stderr",
     "output_type": "stream",
     "text": [
      "\rDictClassTransformer_PUNCT fit:  39%|███▊      | 4055971/10468770 [00:04<00:07, 824004.94it/s]"
     ]
    },
    {
     "name": "stderr",
     "output_type": "stream",
     "text": [
      "\rDictClassTransformer_PUNCT fit:  40%|███▉      | 4156403/10468770 [00:04<00:07, 870911.48it/s]"
     ]
    },
    {
     "name": "stderr",
     "output_type": "stream",
     "text": [
      "\rDictClassTransformer_PUNCT fit:  41%|████      | 4257028/10468770 [00:04<00:06, 907527.63it/s]"
     ]
    },
    {
     "name": "stderr",
     "output_type": "stream",
     "text": [
      "\rDictClassTransformer_PUNCT fit:  42%|████▏     | 4361070/10468770 [00:04<00:06, 943685.89it/s]"
     ]
    },
    {
     "name": "stderr",
     "output_type": "stream",
     "text": [
      "\rDictClassTransformer_PUNCT fit:  43%|████▎     | 4464174/10468770 [00:04<00:06, 968291.78it/s]"
     ]
    },
    {
     "name": "stderr",
     "output_type": "stream",
     "text": [
      "\rDictClassTransformer_PUNCT fit:  44%|████▎     | 4572619/10468770 [00:04<00:05, 1000437.30it/s]"
     ]
    },
    {
     "name": "stderr",
     "output_type": "stream",
     "text": [
      "\rDictClassTransformer_PUNCT fit:  45%|████▍     | 4679606/10468770 [00:04<00:05, 1020301.63it/s]"
     ]
    },
    {
     "name": "stderr",
     "output_type": "stream",
     "text": [
      "\rDictClassTransformer_PUNCT fit:  46%|████▌     | 4786837/10468770 [00:04<00:05, 1035364.03it/s]"
     ]
    },
    {
     "name": "stderr",
     "output_type": "stream",
     "text": [
      "\rDictClassTransformer_PUNCT fit:  47%|████▋     | 4891789/10468770 [00:04<00:05, 1036543.07it/s]"
     ]
    },
    {
     "name": "stderr",
     "output_type": "stream",
     "text": [
      "\rDictClassTransformer_PUNCT fit:  48%|████▊     | 4999816/10468770 [00:05<00:05, 1049279.34it/s]"
     ]
    },
    {
     "name": "stderr",
     "output_type": "stream",
     "text": [
      "\rDictClassTransformer_PUNCT fit:  49%|████▉     | 5106404/10468770 [00:05<00:05, 1054202.31it/s]"
     ]
    },
    {
     "name": "stderr",
     "output_type": "stream",
     "text": [
      "\rDictClassTransformer_PUNCT fit:  50%|████▉     | 5212342/10468770 [00:05<00:05, 1050254.92it/s]"
     ]
    },
    {
     "name": "stderr",
     "output_type": "stream",
     "text": [
      "\rDictClassTransformer_PUNCT fit:  51%|█████     | 5321354/10468770 [00:05<00:04, 1061904.46it/s]"
     ]
    },
    {
     "name": "stderr",
     "output_type": "stream",
     "text": [
      "\rDictClassTransformer_PUNCT fit:  52%|█████▏    | 5427832/10468770 [00:05<00:04, 1054813.00it/s]"
     ]
    },
    {
     "name": "stderr",
     "output_type": "stream",
     "text": [
      "\rDictClassTransformer_PUNCT fit:  53%|█████▎    | 5536614/10468770 [00:05<00:04, 1064496.44it/s]"
     ]
    },
    {
     "name": "stderr",
     "output_type": "stream",
     "text": [
      "\rDictClassTransformer_PUNCT fit:  54%|█████▍    | 5643897/10468770 [00:05<00:04, 1066979.39it/s]"
     ]
    },
    {
     "name": "stderr",
     "output_type": "stream",
     "text": [
      "\rDictClassTransformer_PUNCT fit:  55%|█████▍    | 5753907/10468770 [00:05<00:04, 1076702.30it/s]"
     ]
    },
    {
     "name": "stderr",
     "output_type": "stream",
     "text": [
      "\rDictClassTransformer_PUNCT fit:  56%|█████▌    | 5861778/10468770 [00:05<00:04, 1077303.37it/s]"
     ]
    },
    {
     "name": "stderr",
     "output_type": "stream",
     "text": [
      "\rDictClassTransformer_PUNCT fit:  57%|█████▋    | 5969582/10468770 [00:05<00:04, 1077226.52it/s]"
     ]
    },
    {
     "name": "stderr",
     "output_type": "stream",
     "text": [
      "\rDictClassTransformer_PUNCT fit:  58%|█████▊    | 6077357/10468770 [00:06<00:04, 1050228.07it/s]"
     ]
    },
    {
     "name": "stderr",
     "output_type": "stream",
     "text": [
      "\rDictClassTransformer_PUNCT fit:  59%|█████▉    | 6182566/10468770 [00:06<00:04, 1044915.38it/s]"
     ]
    },
    {
     "name": "stderr",
     "output_type": "stream",
     "text": [
      "\rDictClassTransformer_PUNCT fit:  60%|██████    | 6290368/10468770 [00:06<00:03, 1054627.90it/s]"
     ]
    },
    {
     "name": "stderr",
     "output_type": "stream",
     "text": [
      "\rDictClassTransformer_PUNCT fit:  61%|██████    | 6395948/10468770 [00:06<00:03, 1054906.43it/s]"
     ]
    },
    {
     "name": "stderr",
     "output_type": "stream",
     "text": [
      "\rDictClassTransformer_PUNCT fit:  62%|██████▏   | 6501521/10468770 [00:06<00:03, 1043757.77it/s]"
     ]
    },
    {
     "name": "stderr",
     "output_type": "stream",
     "text": [
      "\rDictClassTransformer_PUNCT fit:  63%|██████▎   | 6605981/10468770 [00:06<00:03, 1041782.39it/s]"
     ]
    },
    {
     "name": "stderr",
     "output_type": "stream",
     "text": [
      "\rDictClassTransformer_PUNCT fit:  64%|██████▍   | 6716659/10468770 [00:06<00:03, 1060465.27it/s]"
     ]
    },
    {
     "name": "stderr",
     "output_type": "stream",
     "text": [
      "\rDictClassTransformer_PUNCT fit:  65%|██████▌   | 6822829/10468770 [00:06<00:03, 1037039.03it/s]"
     ]
    },
    {
     "name": "stderr",
     "output_type": "stream",
     "text": [
      "\rDictClassTransformer_PUNCT fit:  66%|██████▌   | 6927913/10468770 [00:06<00:03, 1041138.45it/s]"
     ]
    },
    {
     "name": "stderr",
     "output_type": "stream",
     "text": [
      "\rDictClassTransformer_PUNCT fit:  67%|██████▋   | 7032683/10468770 [00:06<00:03, 1043095.60it/s]"
     ]
    },
    {
     "name": "stderr",
     "output_type": "stream",
     "text": [
      "\rDictClassTransformer_PUNCT fit:  68%|██████▊   | 7143355/10468770 [00:07<00:03, 1061400.88it/s]"
     ]
    },
    {
     "name": "stderr",
     "output_type": "stream",
     "text": [
      "\rDictClassTransformer_PUNCT fit:  69%|██████▉   | 7252008/10468770 [00:07<00:03, 1068814.01it/s]"
     ]
    },
    {
     "name": "stderr",
     "output_type": "stream",
     "text": [
      "\rDictClassTransformer_PUNCT fit:  70%|███████   | 7359489/10468770 [00:07<00:02, 1070605.31it/s]"
     ]
    },
    {
     "name": "stderr",
     "output_type": "stream",
     "text": [
      "\rDictClassTransformer_PUNCT fit:  71%|███████▏  | 7469524/10468770 [00:07<00:02, 1079266.41it/s]"
     ]
    },
    {
     "name": "stderr",
     "output_type": "stream",
     "text": [
      "\rDictClassTransformer_PUNCT fit:  72%|███████▏  | 7577526/10468770 [00:07<00:02, 1070029.99it/s]"
     ]
    },
    {
     "name": "stderr",
     "output_type": "stream",
     "text": [
      "\rDictClassTransformer_PUNCT fit:  73%|███████▎  | 7684600/10468770 [00:07<00:02, 1066839.23it/s]"
     ]
    },
    {
     "name": "stderr",
     "output_type": "stream",
     "text": [
      "\rDictClassTransformer_PUNCT fit:  74%|███████▍  | 7791336/10468770 [00:07<00:02, 1048923.89it/s]"
     ]
    },
    {
     "name": "stderr",
     "output_type": "stream",
     "text": [
      "\rDictClassTransformer_PUNCT fit:  75%|███████▌  | 7898240/10468770 [00:07<00:02, 1054876.10it/s]"
     ]
    },
    {
     "name": "stderr",
     "output_type": "stream",
     "text": [
      "\rDictClassTransformer_PUNCT fit:  76%|███████▋  | 8003809/10468770 [00:07<00:02, 1048039.64it/s]"
     ]
    },
    {
     "name": "stderr",
     "output_type": "stream",
     "text": [
      "\rDictClassTransformer_PUNCT fit:  77%|███████▋  | 8108680/10468770 [00:07<00:02, 1047552.69it/s]"
     ]
    },
    {
     "name": "stderr",
     "output_type": "stream",
     "text": [
      "\rDictClassTransformer_PUNCT fit:  78%|███████▊  | 8213482/10468770 [00:08<00:02, 1044870.53it/s]"
     ]
    },
    {
     "name": "stderr",
     "output_type": "stream",
     "text": [
      "\rDictClassTransformer_PUNCT fit:  79%|███████▉  | 8318004/10468770 [00:08<00:02, 1024537.33it/s]"
     ]
    },
    {
     "name": "stderr",
     "output_type": "stream",
     "text": [
      "\rDictClassTransformer_PUNCT fit:  80%|████████  | 8420570/10468770 [00:08<00:02, 1000665.91it/s]"
     ]
    },
    {
     "name": "stderr",
     "output_type": "stream",
     "text": [
      "\rDictClassTransformer_PUNCT fit:  81%|████████▏ | 8528091/10468770 [00:08<00:01, 1021918.97it/s]"
     ]
    },
    {
     "name": "stderr",
     "output_type": "stream",
     "text": [
      "\rDictClassTransformer_PUNCT fit:  82%|████████▏ | 8635520/10468770 [00:08<00:01, 1037085.04it/s]"
     ]
    },
    {
     "name": "stderr",
     "output_type": "stream",
     "text": [
      "\rDictClassTransformer_PUNCT fit:  84%|████████▎ | 8743890/10468770 [00:08<00:01, 1050641.05it/s]"
     ]
    },
    {
     "name": "stderr",
     "output_type": "stream",
     "text": [
      "\rDictClassTransformer_PUNCT fit:  85%|████████▍ | 8851399/10468770 [00:08<00:01, 1057857.73it/s]"
     ]
    },
    {
     "name": "stderr",
     "output_type": "stream",
     "text": [
      "\rDictClassTransformer_PUNCT fit:  86%|████████▌ | 8957864/10468770 [00:08<00:01, 1059882.82it/s]"
     ]
    },
    {
     "name": "stderr",
     "output_type": "stream",
     "text": [
      "\rDictClassTransformer_PUNCT fit:  87%|████████▋ | 9063962/10468770 [00:08<00:01, 1058155.65it/s]"
     ]
    },
    {
     "name": "stderr",
     "output_type": "stream",
     "text": [
      "\rDictClassTransformer_PUNCT fit:  88%|████████▊ | 9171749/10468770 [00:09<00:01, 1063990.36it/s]"
     ]
    },
    {
     "name": "stderr",
     "output_type": "stream",
     "text": [
      "\rDictClassTransformer_PUNCT fit:  89%|████████▊ | 9278210/10468770 [00:09<00:01, 1039253.06it/s]"
     ]
    },
    {
     "name": "stderr",
     "output_type": "stream",
     "text": [
      "\rDictClassTransformer_PUNCT fit:  90%|████████▉ | 9382952/10468770 [00:09<00:01, 1041689.29it/s]"
     ]
    },
    {
     "name": "stderr",
     "output_type": "stream",
     "text": [
      "\rDictClassTransformer_PUNCT fit:  91%|█████████ | 9487242/10468770 [00:09<00:00, 1023955.22it/s]"
     ]
    },
    {
     "name": "stderr",
     "output_type": "stream",
     "text": [
      "\rDictClassTransformer_PUNCT fit:  92%|█████████▏| 9589790/10468770 [00:09<00:00, 1022889.35it/s]"
     ]
    },
    {
     "name": "stderr",
     "output_type": "stream",
     "text": [
      "\rDictClassTransformer_PUNCT fit:  93%|█████████▎| 9696475/10468770 [00:09<00:00, 1035689.79it/s]"
     ]
    },
    {
     "name": "stderr",
     "output_type": "stream",
     "text": [
      "\rDictClassTransformer_PUNCT fit:  94%|█████████▎| 9800158/10468770 [00:09<00:00, 1027441.83it/s]"
     ]
    },
    {
     "name": "stderr",
     "output_type": "stream",
     "text": [
      "\rDictClassTransformer_PUNCT fit:  95%|█████████▍| 9905697/10468770 [00:09<00:00, 1035666.27it/s]"
     ]
    },
    {
     "name": "stderr",
     "output_type": "stream",
     "text": [
      "\rDictClassTransformer_PUNCT fit:  96%|█████████▌| 10009346/10468770 [00:09<00:00, 1028484.88it/s]"
     ]
    },
    {
     "name": "stderr",
     "output_type": "stream",
     "text": [
      "\rDictClassTransformer_PUNCT fit:  97%|█████████▋| 10117082/10468770 [00:09<00:00, 1042672.05it/s]"
     ]
    },
    {
     "name": "stderr",
     "output_type": "stream",
     "text": [
      "\rDictClassTransformer_PUNCT fit:  98%|█████████▊| 10221445/10468770 [00:10<00:00, 1037519.06it/s]"
     ]
    },
    {
     "name": "stderr",
     "output_type": "stream",
     "text": [
      "\rDictClassTransformer_PUNCT fit:  99%|█████████▊| 10328124/10468770 [00:10<00:00, 1046129.84it/s]"
     ]
    },
    {
     "name": "stderr",
     "output_type": "stream",
     "text": [
      "\rDictClassTransformer_PUNCT fit: 100%|█████████▉| 10432805/10468770 [00:10<00:00, 1043988.97it/s]"
     ]
    },
    {
     "name": "stderr",
     "output_type": "stream",
     "text": [
      "\rDictClassTransformer_PUNCT fit: 100%|██████████| 10468770/10468770 [00:10<00:00, 999358.04it/s] "
     ]
    },
    {
     "name": "stderr",
     "output_type": "stream",
     "text": [
      "\n"
     ]
    },
    {
     "name": "stderr",
     "output_type": "stream",
     "text": [
      "\rDictClassTransformer_VERBATIM fit:   0%|          | 0/10468770 [00:00<?, ?it/s]"
     ]
    },
    {
     "name": "stderr",
     "output_type": "stream",
     "text": [
      "\rDictClassTransformer_VERBATIM fit:   1%|          | 85922/10468770 [00:00<00:12, 859218.77it/s]"
     ]
    },
    {
     "name": "stderr",
     "output_type": "stream",
     "text": [
      "\rDictClassTransformer_VERBATIM fit:   2%|▏         | 185567/10468770 [00:00<00:11, 896245.55it/s]"
     ]
    },
    {
     "name": "stderr",
     "output_type": "stream",
     "text": [
      "\rDictClassTransformer_VERBATIM fit:   2%|▏         | 233504/10468770 [00:01<01:43, 98776.61it/s] "
     ]
    },
    {
     "name": "stderr",
     "output_type": "stream",
     "text": [
      "\rDictClassTransformer_VERBATIM fit:   3%|▎         | 333579/10468770 [00:01<01:14, 135382.56it/s]"
     ]
    },
    {
     "name": "stderr",
     "output_type": "stream",
     "text": [
      "\rDictClassTransformer_VERBATIM fit:   4%|▍         | 445481/10468770 [00:01<00:54, 183870.00it/s]"
     ]
    },
    {
     "name": "stderr",
     "output_type": "stream",
     "text": [
      "\rDictClassTransformer_VERBATIM fit:   5%|▌         | 561874/10468770 [00:01<00:40, 246015.19it/s]"
     ]
    },
    {
     "name": "stderr",
     "output_type": "stream",
     "text": [
      "\rDictClassTransformer_VERBATIM fit:   7%|▋         | 683822/10468770 [00:02<00:30, 323482.08it/s]"
     ]
    },
    {
     "name": "stderr",
     "output_type": "stream",
     "text": [
      "\rDictClassTransformer_VERBATIM fit:   8%|▊         | 804417/10468770 [00:02<00:23, 414470.00it/s]"
     ]
    },
    {
     "name": "stderr",
     "output_type": "stream",
     "text": [
      "\rDictClassTransformer_VERBATIM fit:   9%|▉         | 924020/10468770 [00:02<00:18, 515534.10it/s]"
     ]
    },
    {
     "name": "stderr",
     "output_type": "stream",
     "text": [
      "\rDictClassTransformer_VERBATIM fit:  10%|█         | 1052732/10468770 [00:02<00:14, 628577.41it/s]"
     ]
    },
    {
     "name": "stderr",
     "output_type": "stream",
     "text": [
      "\rDictClassTransformer_VERBATIM fit:  11%|█         | 1173512/10468770 [00:02<00:12, 734207.17it/s]"
     ]
    },
    {
     "name": "stderr",
     "output_type": "stream",
     "text": [
      "\rDictClassTransformer_VERBATIM fit:  12%|█▏        | 1290913/10468770 [00:02<00:11, 827168.04it/s]"
     ]
    },
    {
     "name": "stderr",
     "output_type": "stream",
     "text": [
      "\rDictClassTransformer_VERBATIM fit:  13%|█▎        | 1408811/10468770 [00:02<00:09, 908495.46it/s]"
     ]
    },
    {
     "name": "stderr",
     "output_type": "stream",
     "text": [
      "\rDictClassTransformer_VERBATIM fit:  15%|█▍        | 1532471/10468770 [00:02<00:09, 987062.14it/s]"
     ]
    },
    {
     "name": "stderr",
     "output_type": "stream",
     "text": [
      "\rDictClassTransformer_VERBATIM fit:  16%|█▌        | 1658505/10468770 [00:02<00:08, 1055735.94it/s]"
     ]
    },
    {
     "name": "stderr",
     "output_type": "stream",
     "text": [
      "\rDictClassTransformer_VERBATIM fit:  17%|█▋        | 1787593/10468770 [00:02<00:07, 1116761.69it/s]"
     ]
    },
    {
     "name": "stderr",
     "output_type": "stream",
     "text": [
      "\rDictClassTransformer_VERBATIM fit:  18%|█▊        | 1917210/10468770 [00:03<00:07, 1165142.95it/s]"
     ]
    },
    {
     "name": "stderr",
     "output_type": "stream",
     "text": [
      "\rDictClassTransformer_VERBATIM fit:  20%|█▉        | 2042552/10468770 [00:03<00:07, 1184905.08it/s]"
     ]
    },
    {
     "name": "stderr",
     "output_type": "stream",
     "text": [
      "\rDictClassTransformer_VERBATIM fit:  21%|██        | 2171439/10468770 [00:03<00:06, 1214289.29it/s]"
     ]
    },
    {
     "name": "stderr",
     "output_type": "stream",
     "text": [
      "\rDictClassTransformer_VERBATIM fit:  22%|██▏       | 2305455/10468770 [00:03<00:06, 1249492.89it/s]"
     ]
    },
    {
     "name": "stderr",
     "output_type": "stream",
     "text": [
      "\rDictClassTransformer_VERBATIM fit:  23%|██▎       | 2437722/10468770 [00:03<00:06, 1270580.96it/s]"
     ]
    },
    {
     "name": "stderr",
     "output_type": "stream",
     "text": [
      "\rDictClassTransformer_VERBATIM fit:  25%|██▍       | 2572283/10468770 [00:03<00:06, 1292193.00it/s]"
     ]
    },
    {
     "name": "stderr",
     "output_type": "stream",
     "text": [
      "\rDictClassTransformer_VERBATIM fit:  26%|██▌       | 2708196/10468770 [00:03<00:05, 1311567.26it/s]"
     ]
    },
    {
     "name": "stderr",
     "output_type": "stream",
     "text": [
      "\rDictClassTransformer_VERBATIM fit:  27%|██▋       | 2844667/10468770 [00:03<00:05, 1327062.43it/s]"
     ]
    },
    {
     "name": "stderr",
     "output_type": "stream",
     "text": [
      "\rDictClassTransformer_VERBATIM fit:  28%|██▊       | 2978368/10468770 [00:03<00:05, 1279622.76it/s]"
     ]
    },
    {
     "name": "stderr",
     "output_type": "stream",
     "text": [
      "\rDictClassTransformer_VERBATIM fit:  30%|██▉       | 3107392/10468770 [00:04<00:05, 1265252.80it/s]"
     ]
    },
    {
     "name": "stderr",
     "output_type": "stream",
     "text": [
      "\rDictClassTransformer_VERBATIM fit:  31%|███       | 3237053/10468770 [00:04<00:05, 1274499.01it/s]"
     ]
    },
    {
     "name": "stderr",
     "output_type": "stream",
     "text": [
      "\rDictClassTransformer_VERBATIM fit:  32%|███▏      | 3365065/10468770 [00:04<00:05, 1274944.10it/s]"
     ]
    },
    {
     "name": "stderr",
     "output_type": "stream",
     "text": [
      "\rDictClassTransformer_VERBATIM fit:  33%|███▎      | 3492953/10468770 [00:04<00:05, 1272697.33it/s]"
     ]
    },
    {
     "name": "stderr",
     "output_type": "stream",
     "text": [
      "\rDictClassTransformer_VERBATIM fit:  35%|███▍      | 3624238/10468770 [00:04<00:05, 1284482.31it/s]"
     ]
    },
    {
     "name": "stderr",
     "output_type": "stream",
     "text": [
      "\rDictClassTransformer_VERBATIM fit:  36%|███▌      | 3752906/10468770 [00:04<00:05, 1277150.43it/s]"
     ]
    },
    {
     "name": "stderr",
     "output_type": "stream",
     "text": [
      "\rDictClassTransformer_VERBATIM fit:  37%|███▋      | 3880785/10468770 [00:04<00:05, 1259052.77it/s]"
     ]
    },
    {
     "name": "stderr",
     "output_type": "stream",
     "text": [
      "\rDictClassTransformer_VERBATIM fit:  38%|███▊      | 4006863/10468770 [00:04<00:05, 1250585.35it/s]"
     ]
    },
    {
     "name": "stderr",
     "output_type": "stream",
     "text": [
      "\rDictClassTransformer_VERBATIM fit:  40%|███▉      | 4136065/10468770 [00:04<00:05, 1262733.46it/s]"
     ]
    },
    {
     "name": "stderr",
     "output_type": "stream",
     "text": [
      "\rDictClassTransformer_VERBATIM fit:  41%|████      | 4264811/10468770 [00:04<00:04, 1270047.89it/s]"
     ]
    },
    {
     "name": "stderr",
     "output_type": "stream",
     "text": [
      "\rDictClassTransformer_VERBATIM fit:  42%|████▏     | 4391911/10468770 [00:05<00:04, 1265045.06it/s]"
     ]
    },
    {
     "name": "stderr",
     "output_type": "stream",
     "text": [
      "\rDictClassTransformer_VERBATIM fit:  43%|████▎     | 4518487/10468770 [00:05<00:04, 1257847.56it/s]"
     ]
    },
    {
     "name": "stderr",
     "output_type": "stream",
     "text": [
      "\rDictClassTransformer_VERBATIM fit:  44%|████▍     | 4647449/10468770 [00:05<00:04, 1267210.48it/s]"
     ]
    },
    {
     "name": "stderr",
     "output_type": "stream",
     "text": [
      "\rDictClassTransformer_VERBATIM fit:  46%|████▌     | 4778242/10468770 [00:05<00:04, 1279157.07it/s]"
     ]
    },
    {
     "name": "stderr",
     "output_type": "stream",
     "text": [
      "\rDictClassTransformer_VERBATIM fit:  47%|████▋     | 4906226/10468770 [00:05<00:04, 1274911.15it/s]"
     ]
    },
    {
     "name": "stderr",
     "output_type": "stream",
     "text": [
      "\rDictClassTransformer_VERBATIM fit:  48%|████▊     | 5040618/10468770 [00:05<00:04, 1294857.49it/s]"
     ]
    },
    {
     "name": "stderr",
     "output_type": "stream",
     "text": [
      "\rDictClassTransformer_VERBATIM fit:  49%|████▉     | 5175869/10468770 [00:05<00:04, 1311627.20it/s]"
     ]
    },
    {
     "name": "stderr",
     "output_type": "stream",
     "text": [
      "\rDictClassTransformer_VERBATIM fit:  51%|█████     | 5307162/10468770 [00:05<00:03, 1309431.24it/s]"
     ]
    },
    {
     "name": "stderr",
     "output_type": "stream",
     "text": [
      "\rDictClassTransformer_VERBATIM fit:  52%|█████▏    | 5438197/10468770 [00:05<00:03, 1293985.43it/s]"
     ]
    },
    {
     "name": "stderr",
     "output_type": "stream",
     "text": [
      "\rDictClassTransformer_VERBATIM fit:  53%|█████▎    | 5569516/10468770 [00:05<00:03, 1299684.25it/s]"
     ]
    },
    {
     "name": "stderr",
     "output_type": "stream",
     "text": [
      "\rDictClassTransformer_VERBATIM fit:  54%|█████▍    | 5702833/10468770 [00:06<00:03, 1309551.46it/s]"
     ]
    },
    {
     "name": "stderr",
     "output_type": "stream",
     "text": [
      "\rDictClassTransformer_VERBATIM fit:  56%|█████▌    | 5834901/10468770 [00:06<00:03, 1312866.92it/s]"
     ]
    },
    {
     "name": "stderr",
     "output_type": "stream",
     "text": [
      "\rDictClassTransformer_VERBATIM fit:  57%|█████▋    | 5970274/10468770 [00:06<00:03, 1324863.89it/s]"
     ]
    },
    {
     "name": "stderr",
     "output_type": "stream",
     "text": [
      "\rDictClassTransformer_VERBATIM fit:  58%|█████▊    | 6102825/10468770 [00:06<00:03, 1324196.43it/s]"
     ]
    },
    {
     "name": "stderr",
     "output_type": "stream",
     "text": [
      "\rDictClassTransformer_VERBATIM fit:  60%|█████▉    | 6235290/10468770 [00:06<00:03, 1318286.46it/s]"
     ]
    },
    {
     "name": "stderr",
     "output_type": "stream",
     "text": [
      "\rDictClassTransformer_VERBATIM fit:  61%|██████    | 6367156/10468770 [00:06<00:03, 1315514.56it/s]"
     ]
    },
    {
     "name": "stderr",
     "output_type": "stream",
     "text": [
      "\rDictClassTransformer_VERBATIM fit:  62%|██████▏   | 6499941/10468770 [00:06<00:03, 1319186.75it/s]"
     ]
    },
    {
     "name": "stderr",
     "output_type": "stream",
     "text": [
      "\rDictClassTransformer_VERBATIM fit:  63%|██████▎   | 6632448/10468770 [00:06<00:02, 1320942.84it/s]"
     ]
    },
    {
     "name": "stderr",
     "output_type": "stream",
     "text": [
      "\rDictClassTransformer_VERBATIM fit:  65%|██████▍   | 6768544/10468770 [00:06<00:02, 1332698.13it/s]"
     ]
    },
    {
     "name": "stderr",
     "output_type": "stream",
     "text": [
      "\rDictClassTransformer_VERBATIM fit:  66%|██████▌   | 6901850/10468770 [00:06<00:02, 1320752.44it/s]"
     ]
    },
    {
     "name": "stderr",
     "output_type": "stream",
     "text": [
      "\rDictClassTransformer_VERBATIM fit:  67%|██████▋   | 7033975/10468770 [00:07<00:02, 1269061.33it/s]"
     ]
    },
    {
     "name": "stderr",
     "output_type": "stream",
     "text": [
      "\rDictClassTransformer_VERBATIM fit:  68%|██████▊   | 7161349/10468770 [00:07<00:02, 1266508.67it/s]"
     ]
    },
    {
     "name": "stderr",
     "output_type": "stream",
     "text": [
      "\rDictClassTransformer_VERBATIM fit:  70%|██████▉   | 7293328/10468770 [00:07<00:02, 1282035.28it/s]"
     ]
    },
    {
     "name": "stderr",
     "output_type": "stream",
     "text": [
      "\rDictClassTransformer_VERBATIM fit:  71%|███████   | 7429636/10468770 [00:07<00:02, 1305315.18it/s]"
     ]
    },
    {
     "name": "stderr",
     "output_type": "stream",
     "text": [
      "\rDictClassTransformer_VERBATIM fit:  72%|███████▏  | 7560464/10468770 [00:07<00:02, 1293395.47it/s]"
     ]
    },
    {
     "name": "stderr",
     "output_type": "stream",
     "text": [
      "\rDictClassTransformer_VERBATIM fit:  73%|███████▎  | 7693694/10468770 [00:07<00:02, 1304825.60it/s]"
     ]
    },
    {
     "name": "stderr",
     "output_type": "stream",
     "text": [
      "\rDictClassTransformer_VERBATIM fit:  75%|███████▍  | 7824364/10468770 [00:07<00:02, 1292230.95it/s]"
     ]
    },
    {
     "name": "stderr",
     "output_type": "stream",
     "text": [
      "\rDictClassTransformer_VERBATIM fit:  76%|███████▌  | 7953746/10468770 [00:07<00:01, 1259021.94it/s]"
     ]
    },
    {
     "name": "stderr",
     "output_type": "stream",
     "text": [
      "\rDictClassTransformer_VERBATIM fit:  77%|███████▋  | 8079947/10468770 [00:07<00:02, 1165775.23it/s]"
     ]
    },
    {
     "name": "stderr",
     "output_type": "stream",
     "text": [
      "\rDictClassTransformer_VERBATIM fit:  78%|███████▊  | 8207485/10468770 [00:07<00:01, 1196622.56it/s]"
     ]
    },
    {
     "name": "stderr",
     "output_type": "stream",
     "text": [
      "\rDictClassTransformer_VERBATIM fit:  80%|███████▉  | 8335613/10468770 [00:08<00:01, 1220818.40it/s]"
     ]
    },
    {
     "name": "stderr",
     "output_type": "stream",
     "text": [
      "\rDictClassTransformer_VERBATIM fit:  81%|████████  | 8462515/10468770 [00:08<00:01, 1234889.45it/s]"
     ]
    },
    {
     "name": "stderr",
     "output_type": "stream",
     "text": [
      "\rDictClassTransformer_VERBATIM fit:  82%|████████▏ | 8590743/10468770 [00:08<00:01, 1248730.69it/s]"
     ]
    },
    {
     "name": "stderr",
     "output_type": "stream",
     "text": [
      "\rDictClassTransformer_VERBATIM fit:  83%|████████▎ | 8722825/10468770 [00:08<00:01, 1269514.32it/s]"
     ]
    },
    {
     "name": "stderr",
     "output_type": "stream",
     "text": [
      "\rDictClassTransformer_VERBATIM fit:  85%|████████▍ | 8855216/10468770 [00:08<00:01, 1285357.29it/s]"
     ]
    },
    {
     "name": "stderr",
     "output_type": "stream",
     "text": [
      "\rDictClassTransformer_VERBATIM fit:  86%|████████▌ | 8987461/10468770 [00:08<00:01, 1296261.50it/s]"
     ]
    },
    {
     "name": "stderr",
     "output_type": "stream",
     "text": [
      "\rDictClassTransformer_VERBATIM fit:  87%|████████▋ | 9118328/10468770 [00:08<00:01, 1299958.71it/s]"
     ]
    },
    {
     "name": "stderr",
     "output_type": "stream",
     "text": [
      "\rDictClassTransformer_VERBATIM fit:  88%|████████▊ | 9248532/10468770 [00:09<00:01, 773961.27it/s] "
     ]
    },
    {
     "name": "stderr",
     "output_type": "stream",
     "text": [
      "\rDictClassTransformer_VERBATIM fit:  90%|████████▉ | 9369965/10468770 [00:09<00:01, 868440.05it/s]"
     ]
    },
    {
     "name": "stderr",
     "output_type": "stream",
     "text": [
      "\rDictClassTransformer_VERBATIM fit:  91%|█████████ | 9494004/10468770 [00:09<00:01, 954287.05it/s]"
     ]
    },
    {
     "name": "stderr",
     "output_type": "stream",
     "text": [
      "\rDictClassTransformer_VERBATIM fit:  92%|█████████▏| 9618073/10468770 [00:09<00:00, 1025288.23it/s]"
     ]
    },
    {
     "name": "stderr",
     "output_type": "stream",
     "text": [
      "\rDictClassTransformer_VERBATIM fit:  93%|█████████▎| 9742909/10468770 [00:09<00:00, 1083362.35it/s]"
     ]
    },
    {
     "name": "stderr",
     "output_type": "stream",
     "text": [
      "\rDictClassTransformer_VERBATIM fit:  94%|█████████▍| 9873634/10468770 [00:09<00:00, 1142039.76it/s]"
     ]
    },
    {
     "name": "stderr",
     "output_type": "stream",
     "text": [
      "\rDictClassTransformer_VERBATIM fit:  96%|█████████▌| 10008332/10468770 [00:09<00:00, 1196657.86it/s]"
     ]
    },
    {
     "name": "stderr",
     "output_type": "stream",
     "text": [
      "\rDictClassTransformer_VERBATIM fit:  97%|█████████▋| 10137123/10468770 [00:09<00:00, 1222645.76it/s]"
     ]
    },
    {
     "name": "stderr",
     "output_type": "stream",
     "text": [
      "\rDictClassTransformer_VERBATIM fit:  98%|█████████▊| 10270988/10468770 [00:09<00:00, 1255276.60it/s]"
     ]
    },
    {
     "name": "stderr",
     "output_type": "stream",
     "text": [
      "\rDictClassTransformer_VERBATIM fit:  99%|█████████▉| 10403205/10468770 [00:09<00:00, 1274622.42it/s]"
     ]
    },
    {
     "name": "stderr",
     "output_type": "stream",
     "text": [
      "\rDictClassTransformer_VERBATIM fit: 100%|██████████| 10468770/10468770 [00:10<00:00, 1025795.04it/s]"
     ]
    },
    {
     "name": "stderr",
     "output_type": "stream",
     "text": [
      "\n"
     ]
    },
    {
     "name": "stderr",
     "output_type": "stream",
     "text": [
      "\rDictNBHDTransformer fit:   0%|          | 0/10468770 [00:00<?, ?it/s]"
     ]
    },
    {
     "name": "stderr",
     "output_type": "stream",
     "text": [
      "\rDictNBHDTransformer fit:   0%|          | 27509/10468770 [00:01<07:43, 22521.43it/s]"
     ]
    },
    {
     "name": "stderr",
     "output_type": "stream",
     "text": [
      "\rDictNBHDTransformer fit:   1%|          | 52887/10468770 [00:01<05:36, 30994.62it/s]"
     ]
    },
    {
     "name": "stderr",
     "output_type": "stream",
     "text": [
      "\rDictNBHDTransformer fit:   1%|          | 78682/10468770 [00:01<04:06, 42105.23it/s]"
     ]
    },
    {
     "name": "stderr",
     "output_type": "stream",
     "text": [
      "\rDictNBHDTransformer fit:   1%|          | 94408/10468770 [00:01<03:12, 53958.63it/s]"
     ]
    },
    {
     "name": "stderr",
     "output_type": "stream",
     "text": [
      "\rDictNBHDTransformer fit:   1%|          | 108494/10468770 [00:02<06:31, 26482.36it/s]"
     ]
    },
    {
     "name": "stderr",
     "output_type": "stream",
     "text": [
      "\rDictNBHDTransformer fit:   1%|▏         | 155799/10468770 [00:02<04:39, 36945.46it/s]"
     ]
    },
    {
     "name": "stderr",
     "output_type": "stream",
     "text": [
      "\rDictNBHDTransformer fit:   2%|▏         | 198313/10468770 [00:02<03:21, 50883.95it/s]"
     ]
    },
    {
     "name": "stderr",
     "output_type": "stream",
     "text": [
      "\rDictNBHDTransformer fit:   2%|▏         | 248903/10468770 [00:02<02:26, 69687.37it/s]"
     ]
    },
    {
     "name": "stderr",
     "output_type": "stream",
     "text": [
      "\rDictNBHDTransformer fit:   3%|▎         | 293564/10468770 [00:03<01:49, 93312.34it/s]"
     ]
    },
    {
     "name": "stderr",
     "output_type": "stream",
     "text": [
      "\rDictNBHDTransformer fit:   3%|▎         | 331381/10468770 [00:03<01:24, 120554.58it/s]"
     ]
    },
    {
     "name": "stderr",
     "output_type": "stream",
     "text": [
      "\rDictNBHDTransformer fit:   4%|▎         | 378951/10468770 [00:03<01:04, 155347.22it/s]"
     ]
    },
    {
     "name": "stderr",
     "output_type": "stream",
     "text": [
      "\rDictNBHDTransformer fit:   4%|▍         | 419582/10468770 [00:03<00:52, 189979.05it/s]"
     ]
    },
    {
     "name": "stderr",
     "output_type": "stream",
     "text": [
      "\rDictNBHDTransformer fit:   4%|▍         | 469619/10468770 [00:03<00:42, 233417.22it/s]"
     ]
    },
    {
     "name": "stderr",
     "output_type": "stream",
     "text": [
      "\rDictNBHDTransformer fit:   5%|▍         | 518892/10468770 [00:03<00:35, 277178.67it/s]"
     ]
    },
    {
     "name": "stderr",
     "output_type": "stream",
     "text": [
      "\rDictNBHDTransformer fit:   5%|▌         | 563939/10468770 [00:03<00:32, 308941.07it/s]"
     ]
    },
    {
     "name": "stderr",
     "output_type": "stream",
     "text": [
      "\rDictNBHDTransformer fit:   6%|▌         | 608123/10468770 [00:03<00:29, 334113.25it/s]"
     ]
    },
    {
     "name": "stderr",
     "output_type": "stream",
     "text": [
      "\rDictNBHDTransformer fit:   6%|▌         | 651428/10468770 [00:03<00:27, 357852.41it/s]"
     ]
    },
    {
     "name": "stderr",
     "output_type": "stream",
     "text": [
      "\rDictNBHDTransformer fit:   7%|▋         | 699453/10468770 [00:04<00:25, 387476.57it/s]"
     ]
    },
    {
     "name": "stderr",
     "output_type": "stream",
     "text": [
      "\rDictNBHDTransformer fit:   7%|▋         | 745183/10468770 [00:04<00:23, 406077.15it/s]"
     ]
    },
    {
     "name": "stderr",
     "output_type": "stream",
     "text": [
      "\rDictNBHDTransformer fit:   8%|▊         | 790147/10468770 [00:04<00:23, 414686.71it/s]"
     ]
    },
    {
     "name": "stderr",
     "output_type": "stream",
     "text": [
      "\rDictNBHDTransformer fit:   8%|▊         | 834710/10468770 [00:04<00:26, 359676.50it/s]"
     ]
    },
    {
     "name": "stderr",
     "output_type": "stream",
     "text": [
      "\rDictNBHDTransformer fit:   8%|▊         | 874643/10468770 [00:04<00:25, 370710.02it/s]"
     ]
    },
    {
     "name": "stderr",
     "output_type": "stream",
     "text": [
      "\rDictNBHDTransformer fit:   9%|▉         | 917922/10468770 [00:04<00:24, 387378.77it/s]"
     ]
    },
    {
     "name": "stderr",
     "output_type": "stream",
     "text": [
      "\rDictNBHDTransformer fit:   9%|▉         | 958846/10468770 [00:04<00:24, 393680.97it/s]"
     ]
    },
    {
     "name": "stderr",
     "output_type": "stream",
     "text": [
      "\rDictNBHDTransformer fit:  10%|▉         | 999607/10468770 [00:04<00:23, 395094.92it/s]"
     ]
    },
    {
     "name": "stderr",
     "output_type": "stream",
     "text": [
      "\rDictNBHDTransformer fit:  10%|▉         | 1045845/10468770 [00:04<00:22, 413129.20it/s]"
     ]
    },
    {
     "name": "stderr",
     "output_type": "stream",
     "text": [
      "\rDictNBHDTransformer fit:  10%|█         | 1092676/10468770 [00:04<00:21, 428267.83it/s]"
     ]
    },
    {
     "name": "stderr",
     "output_type": "stream",
     "text": [
      "\rDictNBHDTransformer fit:  11%|█         | 1137591/10468770 [00:05<00:21, 434324.64it/s]"
     ]
    },
    {
     "name": "stderr",
     "output_type": "stream",
     "text": [
      "\rDictNBHDTransformer fit:  11%|█▏        | 1181584/10468770 [00:05<00:21, 426940.33it/s]"
     ]
    },
    {
     "name": "stderr",
     "output_type": "stream",
     "text": [
      "\rDictNBHDTransformer fit:  12%|█▏        | 1225891/10468770 [00:05<00:21, 431654.38it/s]"
     ]
    },
    {
     "name": "stderr",
     "output_type": "stream",
     "text": [
      "\rDictNBHDTransformer fit:  12%|█▏        | 1269363/10468770 [00:05<00:22, 408393.07it/s]"
     ]
    },
    {
     "name": "stderr",
     "output_type": "stream",
     "text": [
      "\rDictNBHDTransformer fit:  13%|█▎        | 1313553/10468770 [00:05<00:21, 417899.03it/s]"
     ]
    },
    {
     "name": "stderr",
     "output_type": "stream",
     "text": [
      "\rDictNBHDTransformer fit:  13%|█▎        | 1355730/10468770 [00:06<01:19, 114253.28it/s]"
     ]
    },
    {
     "name": "stderr",
     "output_type": "stream",
     "text": [
      "\rDictNBHDTransformer fit:  13%|█▎        | 1399747/10468770 [00:06<01:01, 146879.38it/s]"
     ]
    },
    {
     "name": "stderr",
     "output_type": "stream",
     "text": [
      "\rDictNBHDTransformer fit:  14%|█▍        | 1443196/10468770 [00:06<00:49, 183274.85it/s]"
     ]
    },
    {
     "name": "stderr",
     "output_type": "stream",
     "text": [
      "\rDictNBHDTransformer fit:  14%|█▍        | 1484892/10468770 [00:06<00:40, 220316.21it/s]"
     ]
    },
    {
     "name": "stderr",
     "output_type": "stream",
     "text": [
      "\rDictNBHDTransformer fit:  15%|█▍        | 1525423/10468770 [00:06<00:35, 255268.69it/s]"
     ]
    },
    {
     "name": "stderr",
     "output_type": "stream",
     "text": [
      "\rDictNBHDTransformer fit:  15%|█▍        | 1564648/10468770 [00:07<00:31, 278772.46it/s]"
     ]
    },
    {
     "name": "stderr",
     "output_type": "stream",
     "text": [
      "\rDictNBHDTransformer fit:  15%|█▌        | 1602757/10468770 [00:07<00:29, 301684.00it/s]"
     ]
    },
    {
     "name": "stderr",
     "output_type": "stream",
     "text": [
      "\rDictNBHDTransformer fit:  16%|█▌        | 1643192/10468770 [00:07<00:27, 326556.70it/s]"
     ]
    },
    {
     "name": "stderr",
     "output_type": "stream",
     "text": [
      "\rDictNBHDTransformer fit:  16%|█▌        | 1681835/10468770 [00:07<00:32, 272756.20it/s]"
     ]
    },
    {
     "name": "stderr",
     "output_type": "stream",
     "text": [
      "\rDictNBHDTransformer fit:  16%|█▋        | 1724712/10468770 [00:07<00:28, 306177.63it/s]"
     ]
    },
    {
     "name": "stderr",
     "output_type": "stream",
     "text": [
      "\rDictNBHDTransformer fit:  17%|█▋        | 1764194/10468770 [00:07<00:26, 328288.52it/s]"
     ]
    },
    {
     "name": "stderr",
     "output_type": "stream",
     "text": [
      "\rDictNBHDTransformer fit:  17%|█▋        | 1801194/10468770 [00:07<00:25, 335486.74it/s]"
     ]
    },
    {
     "name": "stderr",
     "output_type": "stream",
     "text": [
      "\rDictNBHDTransformer fit:  18%|█▊        | 1842266/10468770 [00:07<00:24, 354992.59it/s]"
     ]
    },
    {
     "name": "stderr",
     "output_type": "stream",
     "text": [
      "\rDictNBHDTransformer fit:  18%|█▊        | 1885040/10468770 [00:07<00:22, 374075.96it/s]"
     ]
    },
    {
     "name": "stderr",
     "output_type": "stream",
     "text": [
      "\rDictNBHDTransformer fit:  18%|█▊        | 1928385/10468770 [00:08<00:21, 390106.88it/s]"
     ]
    },
    {
     "name": "stderr",
     "output_type": "stream",
     "text": [
      "\rDictNBHDTransformer fit:  19%|█▉        | 1972468/10468770 [00:08<00:21, 404051.03it/s]"
     ]
    },
    {
     "name": "stderr",
     "output_type": "stream",
     "text": [
      "\rDictNBHDTransformer fit:  19%|█▉        | 2014074/10468770 [00:08<00:21, 395507.25it/s]"
     ]
    },
    {
     "name": "stderr",
     "output_type": "stream",
     "text": [
      "\rDictNBHDTransformer fit:  20%|█▉        | 2055962/10468770 [00:08<00:20, 402240.37it/s]"
     ]
    },
    {
     "name": "stderr",
     "output_type": "stream",
     "text": [
      "\rDictNBHDTransformer fit:  20%|██        | 2099675/10468770 [00:08<00:20, 412107.12it/s]"
     ]
    },
    {
     "name": "stderr",
     "output_type": "stream",
     "text": [
      "\rDictNBHDTransformer fit:  20%|██        | 2142264/10468770 [00:08<00:20, 416147.22it/s]"
     ]
    },
    {
     "name": "stderr",
     "output_type": "stream",
     "text": [
      "\rDictNBHDTransformer fit:  21%|██        | 2184246/10468770 [00:08<00:20, 407056.01it/s]"
     ]
    },
    {
     "name": "stderr",
     "output_type": "stream",
     "text": [
      "\rDictNBHDTransformer fit:  21%|██▏       | 2225253/10468770 [00:08<00:21, 392457.29it/s]"
     ]
    },
    {
     "name": "stderr",
     "output_type": "stream",
     "text": [
      "\rDictNBHDTransformer fit:  22%|██▏       | 2264823/10468770 [00:08<00:21, 375491.04it/s]"
     ]
    },
    {
     "name": "stderr",
     "output_type": "stream",
     "text": [
      "\rDictNBHDTransformer fit:  22%|██▏       | 2302755/10468770 [00:08<00:22, 371177.44it/s]"
     ]
    },
    {
     "name": "stderr",
     "output_type": "stream",
     "text": [
      "\rDictNBHDTransformer fit:  22%|██▏       | 2340152/10468770 [00:09<00:22, 368099.10it/s]"
     ]
    },
    {
     "name": "stderr",
     "output_type": "stream",
     "text": [
      "\rDictNBHDTransformer fit:  23%|██▎       | 2377845/10468770 [00:09<00:21, 370703.41it/s]"
     ]
    },
    {
     "name": "stderr",
     "output_type": "stream",
     "text": [
      "\rDictNBHDTransformer fit:  23%|██▎       | 2420049/10468770 [00:09<00:20, 384742.47it/s]"
     ]
    },
    {
     "name": "stderr",
     "output_type": "stream",
     "text": [
      "\rDictNBHDTransformer fit:  24%|██▎       | 2460743/10468770 [00:09<00:20, 390879.71it/s]"
     ]
    },
    {
     "name": "stderr",
     "output_type": "stream",
     "text": [
      "\rDictNBHDTransformer fit:  24%|██▍       | 2500021/10468770 [00:09<00:20, 380007.86it/s]"
     ]
    },
    {
     "name": "stderr",
     "output_type": "stream",
     "text": [
      "\rDictNBHDTransformer fit:  24%|██▍       | 2538222/10468770 [00:09<00:24, 327300.29it/s]"
     ]
    },
    {
     "name": "stderr",
     "output_type": "stream",
     "text": [
      "\rDictNBHDTransformer fit:  25%|██▍       | 2572381/10468770 [00:09<00:24, 318599.04it/s]"
     ]
    },
    {
     "name": "stderr",
     "output_type": "stream",
     "text": [
      "\rDictNBHDTransformer fit:  25%|██▍       | 2607491/10468770 [00:09<00:23, 327696.73it/s]"
     ]
    },
    {
     "name": "stderr",
     "output_type": "stream",
     "text": [
      "\rDictNBHDTransformer fit:  25%|██▌       | 2645992/10468770 [00:09<00:22, 343014.50it/s]"
     ]
    },
    {
     "name": "stderr",
     "output_type": "stream",
     "text": [
      "\rDictNBHDTransformer fit:  26%|██▌       | 2681068/10468770 [00:10<00:22, 345300.87it/s]"
     ]
    },
    {
     "name": "stderr",
     "output_type": "stream",
     "text": [
      "\rDictNBHDTransformer fit:  26%|██▌       | 2716126/10468770 [00:10<00:24, 312604.05it/s]"
     ]
    },
    {
     "name": "stderr",
     "output_type": "stream",
     "text": [
      "\rDictNBHDTransformer fit:  26%|██▋       | 2748348/10468770 [00:10<00:28, 269924.91it/s]"
     ]
    },
    {
     "name": "stderr",
     "output_type": "stream",
     "text": [
      "\rDictNBHDTransformer fit:  27%|██▋       | 2780441/10468770 [00:10<00:27, 283437.37it/s]"
     ]
    },
    {
     "name": "stderr",
     "output_type": "stream",
     "text": [
      "\rDictNBHDTransformer fit:  27%|██▋       | 2814676/10468770 [00:10<00:25, 298866.21it/s]"
     ]
    },
    {
     "name": "stderr",
     "output_type": "stream",
     "text": [
      "\rDictNBHDTransformer fit:  27%|██▋       | 2848125/10468770 [00:10<00:24, 308726.92it/s]"
     ]
    },
    {
     "name": "stderr",
     "output_type": "stream",
     "text": [
      "\rDictNBHDTransformer fit:  28%|██▊       | 2887092/10468770 [00:10<00:23, 329244.20it/s]"
     ]
    },
    {
     "name": "stderr",
     "output_type": "stream",
     "text": [
      "\rDictNBHDTransformer fit:  28%|██▊       | 2924848/10468770 [00:10<00:22, 342385.90it/s]"
     ]
    },
    {
     "name": "stderr",
     "output_type": "stream",
     "text": [
      "\rDictNBHDTransformer fit:  28%|██▊       | 2959932/10468770 [00:10<00:22, 333207.34it/s]"
     ]
    },
    {
     "name": "stderr",
     "output_type": "stream",
     "text": [
      "\rDictNBHDTransformer fit:  29%|██▊       | 2993899/10468770 [00:11<00:22, 331262.23it/s]"
     ]
    },
    {
     "name": "stderr",
     "output_type": "stream",
     "text": [
      "\rDictNBHDTransformer fit:  29%|██▉       | 3030497/10468770 [00:11<00:21, 340964.87it/s]"
     ]
    },
    {
     "name": "stderr",
     "output_type": "stream",
     "text": [
      "\rDictNBHDTransformer fit:  29%|██▉       | 3066926/10468770 [00:11<00:21, 347624.70it/s]"
     ]
    },
    {
     "name": "stderr",
     "output_type": "stream",
     "text": [
      "\rDictNBHDTransformer fit:  30%|██▉       | 3101993/10468770 [00:11<00:22, 332716.94it/s]"
     ]
    },
    {
     "name": "stderr",
     "output_type": "stream",
     "text": [
      "\rDictNBHDTransformer fit:  30%|██▉       | 3135614/10468770 [00:11<00:22, 319697.77it/s]"
     ]
    },
    {
     "name": "stderr",
     "output_type": "stream",
     "text": [
      "\rDictNBHDTransformer fit:  30%|███       | 3167937/10468770 [00:11<00:23, 309213.22it/s]"
     ]
    },
    {
     "name": "stderr",
     "output_type": "stream",
     "text": [
      "\rDictNBHDTransformer fit:  31%|███       | 3199180/10468770 [00:11<00:23, 304488.85it/s]"
     ]
    },
    {
     "name": "stderr",
     "output_type": "stream",
     "text": [
      "\rDictNBHDTransformer fit:  31%|███       | 3231361/10468770 [00:11<00:23, 309484.37it/s]"
     ]
    },
    {
     "name": "stderr",
     "output_type": "stream",
     "text": [
      "\rDictNBHDTransformer fit:  31%|███       | 3262961/10468770 [00:11<00:23, 311378.50it/s]"
     ]
    },
    {
     "name": "stderr",
     "output_type": "stream",
     "text": [
      "\rDictNBHDTransformer fit:  31%|███▏      | 3294812/10468770 [00:12<00:22, 313478.76it/s]"
     ]
    },
    {
     "name": "stderr",
     "output_type": "stream",
     "text": [
      "\rDictNBHDTransformer fit:  32%|███▏      | 3330014/10468770 [00:12<00:22, 323724.17it/s]"
     ]
    },
    {
     "name": "stderr",
     "output_type": "stream",
     "text": [
      "\rDictNBHDTransformer fit:  32%|███▏      | 3362540/10468770 [00:12<00:22, 311320.47it/s]"
     ]
    },
    {
     "name": "stderr",
     "output_type": "stream",
     "text": [
      "\rDictNBHDTransformer fit:  32%|███▏      | 3393881/10468770 [00:12<00:23, 294916.96it/s]"
     ]
    },
    {
     "name": "stderr",
     "output_type": "stream",
     "text": [
      "\rDictNBHDTransformer fit:  33%|███▎      | 3427338/10468770 [00:12<00:23, 305787.24it/s]"
     ]
    },
    {
     "name": "stderr",
     "output_type": "stream",
     "text": [
      "\rDictNBHDTransformer fit:  33%|███▎      | 3458248/10468770 [00:13<01:50, 63440.52it/s] "
     ]
    },
    {
     "name": "stderr",
     "output_type": "stream",
     "text": [
      "\rDictNBHDTransformer fit:  33%|███▎      | 3494613/10468770 [00:13<01:22, 84323.90it/s]"
     ]
    },
    {
     "name": "stderr",
     "output_type": "stream",
     "text": [
      "\rDictNBHDTransformer fit:  34%|███▎      | 3521135/10468770 [00:14<01:23, 82777.28it/s]"
     ]
    },
    {
     "name": "stderr",
     "output_type": "stream",
     "text": [
      "\rDictNBHDTransformer fit:  34%|███▍      | 3552576/10468770 [00:14<01:05, 106261.60it/s]"
     ]
    },
    {
     "name": "stderr",
     "output_type": "stream",
     "text": [
      "\rDictNBHDTransformer fit:  34%|███▍      | 3584250/10468770 [00:14<00:51, 132719.76it/s]"
     ]
    },
    {
     "name": "stderr",
     "output_type": "stream",
     "text": [
      "\rDictNBHDTransformer fit:  35%|███▍      | 3622339/10468770 [00:14<00:41, 164960.66it/s]"
     ]
    },
    {
     "name": "stderr",
     "output_type": "stream",
     "text": [
      "\rDictNBHDTransformer fit:  35%|███▍      | 3655888/10468770 [00:14<00:35, 194641.13it/s]"
     ]
    },
    {
     "name": "stderr",
     "output_type": "stream",
     "text": [
      "\rDictNBHDTransformer fit:  35%|███▌      | 3690934/10468770 [00:14<00:30, 224596.75it/s]"
     ]
    },
    {
     "name": "stderr",
     "output_type": "stream",
     "text": [
      "\rDictNBHDTransformer fit:  36%|███▌      | 3723135/10468770 [00:14<00:32, 205300.20it/s]"
     ]
    },
    {
     "name": "stderr",
     "output_type": "stream",
     "text": [
      "\rDictNBHDTransformer fit:  36%|███▌      | 3750806/10468770 [00:15<00:32, 206018.30it/s]"
     ]
    },
    {
     "name": "stderr",
     "output_type": "stream",
     "text": [
      "\rDictNBHDTransformer fit:  36%|███▌      | 3779610/10468770 [00:15<00:29, 225261.76it/s]"
     ]
    },
    {
     "name": "stderr",
     "output_type": "stream",
     "text": [
      "\rDictNBHDTransformer fit:  36%|███▋      | 3812416/10468770 [00:15<00:26, 248616.14it/s]"
     ]
    },
    {
     "name": "stderr",
     "output_type": "stream",
     "text": [
      "\rDictNBHDTransformer fit:  37%|███▋      | 3841445/10468770 [00:15<00:25, 259803.96it/s]"
     ]
    },
    {
     "name": "stderr",
     "output_type": "stream",
     "text": [
      "\rDictNBHDTransformer fit:  37%|███▋      | 3871110/10468770 [00:15<00:24, 269855.89it/s]"
     ]
    },
    {
     "name": "stderr",
     "output_type": "stream",
     "text": [
      "\rDictNBHDTransformer fit:  37%|███▋      | 3904155/10468770 [00:15<00:22, 285563.45it/s]"
     ]
    },
    {
     "name": "stderr",
     "output_type": "stream",
     "text": [
      "\rDictNBHDTransformer fit:  38%|███▊      | 3937193/10468770 [00:15<00:21, 297675.93it/s]"
     ]
    },
    {
     "name": "stderr",
     "output_type": "stream",
     "text": [
      "\rDictNBHDTransformer fit:  38%|███▊      | 3972831/10468770 [00:15<00:20, 313149.99it/s]"
     ]
    },
    {
     "name": "stderr",
     "output_type": "stream",
     "text": [
      "\rDictNBHDTransformer fit:  38%|███▊      | 4013172/10468770 [00:15<00:19, 335681.38it/s]"
     ]
    },
    {
     "name": "stderr",
     "output_type": "stream",
     "text": [
      "\rDictNBHDTransformer fit:  39%|███▊      | 4052860/10468770 [00:15<00:18, 351962.31it/s]"
     ]
    },
    {
     "name": "stderr",
     "output_type": "stream",
     "text": [
      "\rDictNBHDTransformer fit:  39%|███▉      | 4089119/10468770 [00:16<00:18, 353821.51it/s]"
     ]
    },
    {
     "name": "stderr",
     "output_type": "stream",
     "text": [
      "\rDictNBHDTransformer fit:  39%|███▉      | 4125247/10468770 [00:16<00:21, 301384.53it/s]"
     ]
    },
    {
     "name": "stderr",
     "output_type": "stream",
     "text": [
      "\rDictNBHDTransformer fit:  40%|███▉      | 4157255/10468770 [00:16<00:24, 257034.10it/s]"
     ]
    },
    {
     "name": "stderr",
     "output_type": "stream",
     "text": [
      "\rDictNBHDTransformer fit:  40%|███▉      | 4185401/10468770 [00:16<00:26, 240695.46it/s]"
     ]
    },
    {
     "name": "stderr",
     "output_type": "stream",
     "text": [
      "\rDictNBHDTransformer fit:  40%|████      | 4211392/10468770 [00:16<00:29, 208880.73it/s]"
     ]
    },
    {
     "name": "stderr",
     "output_type": "stream",
     "text": [
      "\rDictNBHDTransformer fit:  40%|████      | 4235258/10468770 [00:16<00:28, 217003.77it/s]"
     ]
    },
    {
     "name": "stderr",
     "output_type": "stream",
     "text": [
      "\rDictNBHDTransformer fit:  41%|████      | 4259810/10468770 [00:16<00:27, 224836.73it/s]"
     ]
    },
    {
     "name": "stderr",
     "output_type": "stream",
     "text": [
      "\rDictNBHDTransformer fit:  41%|████      | 4293549/10468770 [00:17<00:24, 249839.65it/s]"
     ]
    },
    {
     "name": "stderr",
     "output_type": "stream",
     "text": [
      "\rDictNBHDTransformer fit:  41%|████▏     | 4321371/10468770 [00:17<00:23, 257725.15it/s]"
     ]
    },
    {
     "name": "stderr",
     "output_type": "stream",
     "text": [
      "\rDictNBHDTransformer fit:  42%|████▏     | 4348386/10468770 [00:17<00:23, 256005.52it/s]"
     ]
    },
    {
     "name": "stderr",
     "output_type": "stream",
     "text": [
      "\rDictNBHDTransformer fit:  42%|████▏     | 4376137/10468770 [00:17<00:23, 262082.91it/s]"
     ]
    },
    {
     "name": "stderr",
     "output_type": "stream",
     "text": [
      "\rDictNBHDTransformer fit:  42%|████▏     | 4403890/10468770 [00:17<00:22, 266528.18it/s]"
     ]
    },
    {
     "name": "stderr",
     "output_type": "stream",
     "text": [
      "\rDictNBHDTransformer fit:  42%|████▏     | 4432004/10468770 [00:17<00:22, 270748.12it/s]"
     ]
    },
    {
     "name": "stderr",
     "output_type": "stream",
     "text": [
      "\rDictNBHDTransformer fit:  43%|████▎     | 4462051/10468770 [00:17<00:21, 279026.80it/s]"
     ]
    },
    {
     "name": "stderr",
     "output_type": "stream",
     "text": [
      "\rDictNBHDTransformer fit:  43%|████▎     | 4490260/10468770 [00:17<00:22, 264762.10it/s]"
     ]
    },
    {
     "name": "stderr",
     "output_type": "stream",
     "text": [
      "\rDictNBHDTransformer fit:  43%|████▎     | 4517103/10468770 [00:17<00:23, 251643.69it/s]"
     ]
    },
    {
     "name": "stderr",
     "output_type": "stream",
     "text": [
      "\rDictNBHDTransformer fit:  43%|████▎     | 4546801/10468770 [00:17<00:22, 263713.79it/s]"
     ]
    },
    {
     "name": "stderr",
     "output_type": "stream",
     "text": [
      "\rDictNBHDTransformer fit:  44%|████▍     | 4584859/10468770 [00:18<00:20, 290472.21it/s]"
     ]
    },
    {
     "name": "stderr",
     "output_type": "stream",
     "text": [
      "\rDictNBHDTransformer fit:  44%|████▍     | 4623340/10468770 [00:18<00:18, 313528.04it/s]"
     ]
    },
    {
     "name": "stderr",
     "output_type": "stream",
     "text": [
      "\rDictNBHDTransformer fit:  45%|████▍     | 4664121/10468770 [00:18<00:17, 336890.00it/s]"
     ]
    },
    {
     "name": "stderr",
     "output_type": "stream",
     "text": [
      "\rDictNBHDTransformer fit:  45%|████▍     | 4702779/10468770 [00:18<00:16, 350400.88it/s]"
     ]
    },
    {
     "name": "stderr",
     "output_type": "stream",
     "text": [
      "\rDictNBHDTransformer fit:  45%|████▌     | 4742008/10468770 [00:18<00:15, 361996.35it/s]"
     ]
    },
    {
     "name": "stderr",
     "output_type": "stream",
     "text": [
      "\rDictNBHDTransformer fit:  46%|████▌     | 4779094/10468770 [00:18<00:15, 363187.17it/s]"
     ]
    },
    {
     "name": "stderr",
     "output_type": "stream",
     "text": [
      "\rDictNBHDTransformer fit:  46%|████▌     | 4816035/10468770 [00:18<00:16, 349221.30it/s]"
     ]
    },
    {
     "name": "stderr",
     "output_type": "stream",
     "text": [
      "\rDictNBHDTransformer fit:  46%|████▋     | 4852789/10468770 [00:18<00:15, 354521.14it/s]"
     ]
    },
    {
     "name": "stderr",
     "output_type": "stream",
     "text": [
      "\rDictNBHDTransformer fit:  47%|████▋     | 4889222/10468770 [00:18<00:15, 357406.74it/s]"
     ]
    },
    {
     "name": "stderr",
     "output_type": "stream",
     "text": [
      "\rDictNBHDTransformer fit:  47%|████▋     | 4928421/10468770 [00:18<00:15, 367122.68it/s]"
     ]
    },
    {
     "name": "stderr",
     "output_type": "stream",
     "text": [
      "\rDictNBHDTransformer fit:  47%|████▋     | 4965402/10468770 [00:19<00:15, 361293.74it/s]"
     ]
    },
    {
     "name": "stderr",
     "output_type": "stream",
     "text": [
      "\rDictNBHDTransformer fit:  48%|████▊     | 5001740/10468770 [00:19<00:15, 353786.00it/s]"
     ]
    },
    {
     "name": "stderr",
     "output_type": "stream",
     "text": [
      "\rDictNBHDTransformer fit:  48%|████▊     | 5040153/10468770 [00:19<00:14, 362372.49it/s]"
     ]
    },
    {
     "name": "stderr",
     "output_type": "stream",
     "text": [
      "\rDictNBHDTransformer fit:  48%|████▊     | 5076569/10468770 [00:19<00:14, 360301.29it/s]"
     ]
    },
    {
     "name": "stderr",
     "output_type": "stream",
     "text": [
      "\rDictNBHDTransformer fit:  49%|████▉     | 5112727/10468770 [00:19<00:15, 352944.13it/s]"
     ]
    },
    {
     "name": "stderr",
     "output_type": "stream",
     "text": [
      "\rDictNBHDTransformer fit:  49%|████▉     | 5148144/10468770 [00:19<00:15, 348662.68it/s]"
     ]
    },
    {
     "name": "stderr",
     "output_type": "stream",
     "text": [
      "\rDictNBHDTransformer fit:  50%|████▉     | 5184042/10468770 [00:19<00:15, 351693.93it/s]"
     ]
    },
    {
     "name": "stderr",
     "output_type": "stream",
     "text": [
      "\rDictNBHDTransformer fit:  50%|████▉     | 5220807/10468770 [00:19<00:14, 356332.52it/s]"
     ]
    },
    {
     "name": "stderr",
     "output_type": "stream",
     "text": [
      "\rDictNBHDTransformer fit:  50%|█████     | 5256508/10468770 [00:19<00:14, 352508.58it/s]"
     ]
    },
    {
     "name": "stderr",
     "output_type": "stream",
     "text": [
      "\rDictNBHDTransformer fit:  51%|█████     | 5291816/10468770 [00:20<00:15, 335836.35it/s]"
     ]
    },
    {
     "name": "stderr",
     "output_type": "stream",
     "text": [
      "\rDictNBHDTransformer fit:  51%|█████     | 5330822/10468770 [00:20<00:14, 350448.55it/s]"
     ]
    },
    {
     "name": "stderr",
     "output_type": "stream",
     "text": [
      "\rDictNBHDTransformer fit:  51%|█████▏    | 5370065/10468770 [00:20<00:14, 362057.69it/s]"
     ]
    },
    {
     "name": "stderr",
     "output_type": "stream",
     "text": [
      "\rDictNBHDTransformer fit:  52%|█████▏    | 5407410/10468770 [00:20<00:13, 365371.91it/s]"
     ]
    },
    {
     "name": "stderr",
     "output_type": "stream",
     "text": [
      "\rDictNBHDTransformer fit:  52%|█████▏    | 5444174/10468770 [00:20<00:14, 345108.65it/s]"
     ]
    },
    {
     "name": "stderr",
     "output_type": "stream",
     "text": [
      "\rDictNBHDTransformer fit:  52%|█████▏    | 5482636/10468770 [00:20<00:14, 356082.44it/s]"
     ]
    },
    {
     "name": "stderr",
     "output_type": "stream",
     "text": [
      "\rDictNBHDTransformer fit:  53%|█████▎    | 5518606/10468770 [00:20<00:14, 349846.39it/s]"
     ]
    },
    {
     "name": "stderr",
     "output_type": "stream",
     "text": [
      "\rDictNBHDTransformer fit:  53%|█████▎    | 5553869/10468770 [00:20<00:15, 325973.34it/s]"
     ]
    },
    {
     "name": "stderr",
     "output_type": "stream",
     "text": [
      "\rDictNBHDTransformer fit:  53%|█████▎    | 5586989/10468770 [00:20<00:15, 323567.19it/s]"
     ]
    },
    {
     "name": "stderr",
     "output_type": "stream",
     "text": [
      "\rDictNBHDTransformer fit:  54%|█████▎    | 5619716/10468770 [00:20<00:15, 313572.01it/s]"
     ]
    },
    {
     "name": "stderr",
     "output_type": "stream",
     "text": [
      "\rDictNBHDTransformer fit:  54%|█████▍    | 5651725/10468770 [00:21<00:15, 315499.23it/s]"
     ]
    },
    {
     "name": "stderr",
     "output_type": "stream",
     "text": [
      "\rDictNBHDTransformer fit:  54%|█████▍    | 5685747/10468770 [00:21<00:14, 322529.06it/s]"
     ]
    },
    {
     "name": "stderr",
     "output_type": "stream",
     "text": [
      "\rDictNBHDTransformer fit:  55%|█████▍    | 5724661/10468770 [00:21<00:13, 339988.15it/s]"
     ]
    },
    {
     "name": "stderr",
     "output_type": "stream",
     "text": [
      "\rDictNBHDTransformer fit:  55%|█████▌    | 5761231/10468770 [00:21<00:13, 347310.93it/s]"
     ]
    },
    {
     "name": "stderr",
     "output_type": "stream",
     "text": [
      "\rDictNBHDTransformer fit:  55%|█████▌    | 5796276/10468770 [00:21<00:13, 347593.86it/s]"
     ]
    },
    {
     "name": "stderr",
     "output_type": "stream",
     "text": [
      "\rDictNBHDTransformer fit:  56%|█████▌    | 5831255/10468770 [00:21<00:13, 346587.41it/s]"
     ]
    },
    {
     "name": "stderr",
     "output_type": "stream",
     "text": [
      "\rDictNBHDTransformer fit:  56%|█████▌    | 5866069/10468770 [00:21<00:16, 284300.18it/s]"
     ]
    },
    {
     "name": "stderr",
     "output_type": "stream",
     "text": [
      "\rDictNBHDTransformer fit:  56%|█████▋    | 5896448/10468770 [00:21<00:18, 243450.64it/s]"
     ]
    },
    {
     "name": "stderr",
     "output_type": "stream",
     "text": [
      "\rDictNBHDTransformer fit:  57%|█████▋    | 5923183/10468770 [00:23<01:22, 55075.06it/s] "
     ]
    },
    {
     "name": "stderr",
     "output_type": "stream",
     "text": [
      "\rDictNBHDTransformer fit:  57%|█████▋    | 5960393/10468770 [00:23<01:00, 73985.41it/s]"
     ]
    },
    {
     "name": "stderr",
     "output_type": "stream",
     "text": [
      "\rDictNBHDTransformer fit:  57%|█████▋    | 5995677/10468770 [00:23<00:46, 96978.22it/s]"
     ]
    },
    {
     "name": "stderr",
     "output_type": "stream",
     "text": [
      "\rDictNBHDTransformer fit:  58%|█████▊    | 6030053/10468770 [00:23<00:35, 123596.63it/s]"
     ]
    },
    {
     "name": "stderr",
     "output_type": "stream",
     "text": [
      "\rDictNBHDTransformer fit:  58%|█████▊    | 6063593/10468770 [00:23<00:28, 152484.37it/s]"
     ]
    },
    {
     "name": "stderr",
     "output_type": "stream",
     "text": [
      "\rDictNBHDTransformer fit:  58%|█████▊    | 6099227/10468770 [00:23<00:23, 184076.15it/s]"
     ]
    },
    {
     "name": "stderr",
     "output_type": "stream",
     "text": [
      "\rDictNBHDTransformer fit:  59%|█████▊    | 6135462/10468770 [00:23<00:20, 215946.39it/s]"
     ]
    },
    {
     "name": "stderr",
     "output_type": "stream",
     "text": [
      "\rDictNBHDTransformer fit:  59%|█████▉    | 6171590/10468770 [00:23<00:17, 245580.61it/s]"
     ]
    },
    {
     "name": "stderr",
     "output_type": "stream",
     "text": [
      "\rDictNBHDTransformer fit:  59%|█████▉    | 6208704/10468770 [00:24<00:15, 273313.22it/s]"
     ]
    },
    {
     "name": "stderr",
     "output_type": "stream",
     "text": [
      "\rDictNBHDTransformer fit:  60%|█████▉    | 6243843/10468770 [00:24<00:15, 276557.79it/s]"
     ]
    },
    {
     "name": "stderr",
     "output_type": "stream",
     "text": [
      "\rDictNBHDTransformer fit:  60%|█████▉    | 6276974/10468770 [00:24<00:14, 287575.31it/s]"
     ]
    },
    {
     "name": "stderr",
     "output_type": "stream",
     "text": [
      "\rDictNBHDTransformer fit:  60%|██████    | 6313011/10468770 [00:24<00:13, 306124.97it/s]"
     ]
    },
    {
     "name": "stderr",
     "output_type": "stream",
     "text": [
      "\rDictNBHDTransformer fit:  61%|██████    | 6349920/10468770 [00:24<00:12, 322631.32it/s]"
     ]
    },
    {
     "name": "stderr",
     "output_type": "stream",
     "text": [
      "\rDictNBHDTransformer fit:  61%|██████    | 6385814/10468770 [00:24<00:12, 332727.48it/s]"
     ]
    },
    {
     "name": "stderr",
     "output_type": "stream",
     "text": [
      "\rDictNBHDTransformer fit:  61%|██████▏   | 6420847/10468770 [00:24<00:12, 328878.26it/s]"
     ]
    },
    {
     "name": "stderr",
     "output_type": "stream",
     "text": [
      "\rDictNBHDTransformer fit:  62%|██████▏   | 6456003/10468770 [00:24<00:11, 335367.44it/s]"
     ]
    },
    {
     "name": "stderr",
     "output_type": "stream",
     "text": [
      "\rDictNBHDTransformer fit:  62%|██████▏   | 6493295/10468770 [00:24<00:11, 345813.30it/s]"
     ]
    },
    {
     "name": "stderr",
     "output_type": "stream",
     "text": [
      "\rDictNBHDTransformer fit:  62%|██████▏   | 6531401/10468770 [00:25<00:11, 355679.43it/s]"
     ]
    },
    {
     "name": "stderr",
     "output_type": "stream",
     "text": [
      "\rDictNBHDTransformer fit:  63%|██████▎   | 6570264/10468770 [00:25<00:10, 364960.49it/s]"
     ]
    },
    {
     "name": "stderr",
     "output_type": "stream",
     "text": [
      "\rDictNBHDTransformer fit:  63%|██████▎   | 6609093/10468770 [00:25<00:10, 371658.41it/s]"
     ]
    },
    {
     "name": "stderr",
     "output_type": "stream",
     "text": [
      "\rDictNBHDTransformer fit:  63%|██████▎   | 6647003/10468770 [00:25<00:10, 373859.87it/s]"
     ]
    },
    {
     "name": "stderr",
     "output_type": "stream",
     "text": [
      "\rDictNBHDTransformer fit:  64%|██████▍   | 6686146/10468770 [00:25<00:09, 378959.72it/s]"
     ]
    },
    {
     "name": "stderr",
     "output_type": "stream",
     "text": [
      "\rDictNBHDTransformer fit:  64%|██████▍   | 6724985/10468770 [00:25<00:09, 381739.40it/s]"
     ]
    },
    {
     "name": "stderr",
     "output_type": "stream",
     "text": [
      "\rDictNBHDTransformer fit:  65%|██████▍   | 6763298/10468770 [00:25<00:09, 372722.08it/s]"
     ]
    },
    {
     "name": "stderr",
     "output_type": "stream",
     "text": [
      "\rDictNBHDTransformer fit:  65%|██████▍   | 6800715/10468770 [00:25<00:09, 373100.29it/s]"
     ]
    },
    {
     "name": "stderr",
     "output_type": "stream",
     "text": [
      "\rDictNBHDTransformer fit:  65%|██████▌   | 6838369/10468770 [00:25<00:09, 374124.37it/s]"
     ]
    },
    {
     "name": "stderr",
     "output_type": "stream",
     "text": [
      "\rDictNBHDTransformer fit:  66%|██████▌   | 6875853/10468770 [00:25<00:09, 363397.29it/s]"
     ]
    },
    {
     "name": "stderr",
     "output_type": "stream",
     "text": [
      "\rDictNBHDTransformer fit:  66%|██████▌   | 6912310/10468770 [00:26<00:09, 361264.38it/s]"
     ]
    },
    {
     "name": "stderr",
     "output_type": "stream",
     "text": [
      "\rDictNBHDTransformer fit:  66%|██████▋   | 6948943/10468770 [00:26<00:09, 362767.08it/s]"
     ]
    },
    {
     "name": "stderr",
     "output_type": "stream",
     "text": [
      "\rDictNBHDTransformer fit:  67%|██████▋   | 6986938/10468770 [00:26<00:09, 367754.59it/s]"
     ]
    },
    {
     "name": "stderr",
     "output_type": "stream",
     "text": [
      "\rDictNBHDTransformer fit:  67%|██████▋   | 7023773/10468770 [00:26<00:09, 358519.61it/s]"
     ]
    },
    {
     "name": "stderr",
     "output_type": "stream",
     "text": [
      "\rDictNBHDTransformer fit:  67%|██████▋   | 7060014/10468770 [00:26<00:09, 359675.73it/s]"
     ]
    },
    {
     "name": "stderr",
     "output_type": "stream",
     "text": [
      "\rDictNBHDTransformer fit:  68%|██████▊   | 7096684/10468770 [00:26<00:09, 361751.38it/s]"
     ]
    },
    {
     "name": "stderr",
     "output_type": "stream",
     "text": [
      "\rDictNBHDTransformer fit:  68%|██████▊   | 7132908/10468770 [00:26<00:09, 354679.75it/s]"
     ]
    },
    {
     "name": "stderr",
     "output_type": "stream",
     "text": [
      "\rDictNBHDTransformer fit:  68%|██████▊   | 7169838/10468770 [00:26<00:09, 358934.43it/s]"
     ]
    },
    {
     "name": "stderr",
     "output_type": "stream",
     "text": [
      "\rDictNBHDTransformer fit:  69%|██████▉   | 7207921/10468770 [00:26<00:08, 365231.95it/s]"
     ]
    },
    {
     "name": "stderr",
     "output_type": "stream",
     "text": [
      "\rDictNBHDTransformer fit:  69%|██████▉   | 7244512/10468770 [00:26<00:08, 362251.86it/s]"
     ]
    },
    {
     "name": "stderr",
     "output_type": "stream",
     "text": [
      "\rDictNBHDTransformer fit:  70%|██████▉   | 7282108/10468770 [00:27<00:08, 366256.24it/s]"
     ]
    },
    {
     "name": "stderr",
     "output_type": "stream",
     "text": [
      "\rDictNBHDTransformer fit:  70%|██████▉   | 7318782/10468770 [00:27<00:08, 366235.41it/s]"
     ]
    },
    {
     "name": "stderr",
     "output_type": "stream",
     "text": [
      "\rDictNBHDTransformer fit:  70%|███████   | 7355626/10468770 [00:27<00:08, 366890.72it/s]"
     ]
    },
    {
     "name": "stderr",
     "output_type": "stream",
     "text": [
      "\rDictNBHDTransformer fit:  71%|███████   | 7392676/10468770 [00:27<00:08, 367963.85it/s]"
     ]
    },
    {
     "name": "stderr",
     "output_type": "stream",
     "text": [
      "\rDictNBHDTransformer fit:  71%|███████   | 7429490/10468770 [00:27<00:08, 363512.16it/s]"
     ]
    },
    {
     "name": "stderr",
     "output_type": "stream",
     "text": [
      "\rDictNBHDTransformer fit:  71%|███████▏  | 7465866/10468770 [00:28<00:21, 142678.28it/s]"
     ]
    },
    {
     "name": "stderr",
     "output_type": "stream",
     "text": [
      "\rDictNBHDTransformer fit:  72%|███████▏  | 7502025/10468770 [00:28<00:17, 174343.09it/s]"
     ]
    },
    {
     "name": "stderr",
     "output_type": "stream",
     "text": [
      "\rDictNBHDTransformer fit:  72%|███████▏  | 7538395/10468770 [00:28<00:14, 206612.86it/s]"
     ]
    },
    {
     "name": "stderr",
     "output_type": "stream",
     "text": [
      "\rDictNBHDTransformer fit:  72%|███████▏  | 7574072/10468770 [00:28<00:12, 236470.46it/s]"
     ]
    },
    {
     "name": "stderr",
     "output_type": "stream",
     "text": [
      "\rDictNBHDTransformer fit:  73%|███████▎  | 7609342/10468770 [00:28<00:10, 262412.14it/s]"
     ]
    },
    {
     "name": "stderr",
     "output_type": "stream",
     "text": [
      "\rDictNBHDTransformer fit:  73%|███████▎  | 7645564/10468770 [00:28<00:09, 286058.01it/s]"
     ]
    },
    {
     "name": "stderr",
     "output_type": "stream",
     "text": [
      "\rDictNBHDTransformer fit:  73%|███████▎  | 7682918/10468770 [00:28<00:09, 307666.72it/s]"
     ]
    },
    {
     "name": "stderr",
     "output_type": "stream",
     "text": [
      "\rDictNBHDTransformer fit:  74%|███████▎  | 7719281/10468770 [00:28<00:08, 322558.72it/s]"
     ]
    },
    {
     "name": "stderr",
     "output_type": "stream",
     "text": [
      "\rDictNBHDTransformer fit:  74%|███████▍  | 7756196/10468770 [00:28<00:08, 335251.62it/s]"
     ]
    },
    {
     "name": "stderr",
     "output_type": "stream",
     "text": [
      "\rDictNBHDTransformer fit:  74%|███████▍  | 7794174/10468770 [00:28<00:07, 347472.97it/s]"
     ]
    },
    {
     "name": "stderr",
     "output_type": "stream",
     "text": [
      "\rDictNBHDTransformer fit:  75%|███████▍  | 7833382/10468770 [00:29<00:07, 359751.53it/s]"
     ]
    },
    {
     "name": "stderr",
     "output_type": "stream",
     "text": [
      "\rDictNBHDTransformer fit:  75%|███████▌  | 7870824/10468770 [00:29<00:07, 364027.78it/s]"
     ]
    },
    {
     "name": "stderr",
     "output_type": "stream",
     "text": [
      "\rDictNBHDTransformer fit:  76%|███████▌  | 7908789/10468770 [00:29<00:06, 368567.12it/s]"
     ]
    },
    {
     "name": "stderr",
     "output_type": "stream",
     "text": [
      "\rDictNBHDTransformer fit:  76%|███████▌  | 7946853/10468770 [00:29<00:06, 372105.56it/s]"
     ]
    },
    {
     "name": "stderr",
     "output_type": "stream",
     "text": [
      "\rDictNBHDTransformer fit:  76%|███████▋  | 7984571/10468770 [00:29<00:06, 369785.14it/s]"
     ]
    },
    {
     "name": "stderr",
     "output_type": "stream",
     "text": [
      "\rDictNBHDTransformer fit:  77%|███████▋  | 8022337/10468770 [00:29<00:06, 372111.69it/s]"
     ]
    },
    {
     "name": "stderr",
     "output_type": "stream",
     "text": [
      "\rDictNBHDTransformer fit:  77%|███████▋  | 8060593/10468770 [00:29<00:06, 375183.50it/s]"
     ]
    },
    {
     "name": "stderr",
     "output_type": "stream",
     "text": [
      "\rDictNBHDTransformer fit:  77%|███████▋  | 8098296/10468770 [00:29<00:06, 372192.85it/s]"
     ]
    },
    {
     "name": "stderr",
     "output_type": "stream",
     "text": [
      "\rDictNBHDTransformer fit:  78%|███████▊  | 8136113/10468770 [00:29<00:06, 373961.67it/s]"
     ]
    },
    {
     "name": "stderr",
     "output_type": "stream",
     "text": [
      "\rDictNBHDTransformer fit:  78%|███████▊  | 8173606/10468770 [00:29<00:06, 373527.97it/s]"
     ]
    },
    {
     "name": "stderr",
     "output_type": "stream",
     "text": [
      "\rDictNBHDTransformer fit:  78%|███████▊  | 8211027/10468770 [00:30<00:06, 369890.02it/s]"
     ]
    },
    {
     "name": "stderr",
     "output_type": "stream",
     "text": [
      "\rDictNBHDTransformer fit:  79%|███████▉  | 8249722/10468770 [00:30<00:05, 374847.01it/s]"
     ]
    },
    {
     "name": "stderr",
     "output_type": "stream",
     "text": [
      "\rDictNBHDTransformer fit:  79%|███████▉  | 8287262/10468770 [00:30<00:05, 373820.77it/s]"
     ]
    },
    {
     "name": "stderr",
     "output_type": "stream",
     "text": [
      "\rDictNBHDTransformer fit:  80%|███████▉  | 8326910/10468770 [00:30<00:05, 380339.60it/s]"
     ]
    },
    {
     "name": "stderr",
     "output_type": "stream",
     "text": [
      "\rDictNBHDTransformer fit:  80%|███████▉  | 8364999/10468770 [00:30<00:05, 380340.24it/s]"
     ]
    },
    {
     "name": "stderr",
     "output_type": "stream",
     "text": [
      "\rDictNBHDTransformer fit:  80%|████████  | 8403072/10468770 [00:30<00:05, 377397.78it/s]"
     ]
    },
    {
     "name": "stderr",
     "output_type": "stream",
     "text": [
      "\rDictNBHDTransformer fit:  81%|████████  | 8440844/10468770 [00:30<00:05, 375312.27it/s]"
     ]
    },
    {
     "name": "stderr",
     "output_type": "stream",
     "text": [
      "\rDictNBHDTransformer fit:  81%|████████  | 8478401/10468770 [00:30<00:05, 372220.88it/s]"
     ]
    },
    {
     "name": "stderr",
     "output_type": "stream",
     "text": [
      "\rDictNBHDTransformer fit:  81%|████████▏ | 8515647/10468770 [00:30<00:05, 368656.80it/s]"
     ]
    },
    {
     "name": "stderr",
     "output_type": "stream",
     "text": [
      "\rDictNBHDTransformer fit:  82%|████████▏ | 8552537/10468770 [00:31<00:05, 367763.85it/s]"
     ]
    },
    {
     "name": "stderr",
     "output_type": "stream",
     "text": [
      "\rDictNBHDTransformer fit:  82%|████████▏ | 8590287/10468770 [00:31<00:05, 370630.88it/s]"
     ]
    },
    {
     "name": "stderr",
     "output_type": "stream",
     "text": [
      "\rDictNBHDTransformer fit:  82%|████████▏ | 8627368/10468770 [00:31<00:05, 367131.45it/s]"
     ]
    },
    {
     "name": "stderr",
     "output_type": "stream",
     "text": [
      "\rDictNBHDTransformer fit:  83%|████████▎ | 8664101/10468770 [00:31<00:04, 365256.73it/s]"
     ]
    },
    {
     "name": "stderr",
     "output_type": "stream",
     "text": [
      "\rDictNBHDTransformer fit:  83%|████████▎ | 8701157/10468770 [00:31<00:04, 366831.55it/s]"
     ]
    },
    {
     "name": "stderr",
     "output_type": "stream",
     "text": [
      "\rDictNBHDTransformer fit:  83%|████████▎ | 8738159/10468770 [00:31<00:04, 367779.01it/s]"
     ]
    },
    {
     "name": "stderr",
     "output_type": "stream",
     "text": [
      "\rDictNBHDTransformer fit:  84%|████████▍ | 8776301/10468770 [00:31<00:04, 371764.74it/s]"
     ]
    },
    {
     "name": "stderr",
     "output_type": "stream",
     "text": [
      "\rDictNBHDTransformer fit:  84%|████████▍ | 8813495/10468770 [00:31<00:04, 366167.14it/s]"
     ]
    },
    {
     "name": "stderr",
     "output_type": "stream",
     "text": [
      "\rDictNBHDTransformer fit:  85%|████████▍ | 8850143/10468770 [00:31<00:04, 364280.72it/s]"
     ]
    },
    {
     "name": "stderr",
     "output_type": "stream",
     "text": [
      "\rDictNBHDTransformer fit:  85%|████████▍ | 8887659/10468770 [00:31<00:04, 367476.48it/s]"
     ]
    },
    {
     "name": "stderr",
     "output_type": "stream",
     "text": [
      "\rDictNBHDTransformer fit:  85%|████████▌ | 8924431/10468770 [00:33<00:21, 72993.13it/s] "
     ]
    },
    {
     "name": "stderr",
     "output_type": "stream",
     "text": [
      "\rDictNBHDTransformer fit:  86%|████████▌ | 8960177/10468770 [00:33<00:15, 95884.63it/s]"
     ]
    },
    {
     "name": "stderr",
     "output_type": "stream",
     "text": [
      "\rDictNBHDTransformer fit:  86%|████████▌ | 8997058/10468770 [00:33<00:11, 123245.43it/s]"
     ]
    },
    {
     "name": "stderr",
     "output_type": "stream",
     "text": [
      "\rDictNBHDTransformer fit:  86%|████████▌ | 9028615/10468770 [00:33<00:09, 149982.81it/s]"
     ]
    },
    {
     "name": "stderr",
     "output_type": "stream",
     "text": [
      "\rDictNBHDTransformer fit:  87%|████████▋ | 9063849/10468770 [00:33<00:07, 181203.64it/s]"
     ]
    },
    {
     "name": "stderr",
     "output_type": "stream",
     "text": [
      "\rDictNBHDTransformer fit:  87%|████████▋ | 9097657/10468770 [00:33<00:06, 210505.26it/s]"
     ]
    },
    {
     "name": "stderr",
     "output_type": "stream",
     "text": [
      "\rDictNBHDTransformer fit:  87%|████████▋ | 9133546/10468770 [00:33<00:05, 240312.26it/s]"
     ]
    },
    {
     "name": "stderr",
     "output_type": "stream",
     "text": [
      "\rDictNBHDTransformer fit:  88%|████████▊ | 9169686/10468770 [00:34<00:04, 267166.02it/s]"
     ]
    },
    {
     "name": "stderr",
     "output_type": "stream",
     "text": [
      "\rDictNBHDTransformer fit:  88%|████████▊ | 9204152/10468770 [00:34<00:04, 267337.52it/s]"
     ]
    },
    {
     "name": "stderr",
     "output_type": "stream",
     "text": [
      "\rDictNBHDTransformer fit:  88%|████████▊ | 9236310/10468770 [00:34<00:04, 260248.34it/s]"
     ]
    },
    {
     "name": "stderr",
     "output_type": "stream",
     "text": [
      "\rDictNBHDTransformer fit:  89%|████████▊ | 9266279/10468770 [00:34<00:04, 270945.15it/s]"
     ]
    },
    {
     "name": "stderr",
     "output_type": "stream",
     "text": [
      "\rDictNBHDTransformer fit:  89%|████████▉ | 9296174/10468770 [00:34<00:04, 274493.23it/s]"
     ]
    },
    {
     "name": "stderr",
     "output_type": "stream",
     "text": [
      "\rDictNBHDTransformer fit:  89%|████████▉ | 9326778/10468770 [00:34<00:04, 283248.90it/s]"
     ]
    },
    {
     "name": "stderr",
     "output_type": "stream",
     "text": [
      "\rDictNBHDTransformer fit:  89%|████████▉ | 9356726/10468770 [00:34<00:03, 287884.59it/s]"
     ]
    },
    {
     "name": "stderr",
     "output_type": "stream",
     "text": [
      "\rDictNBHDTransformer fit:  90%|████████▉ | 9386549/10468770 [00:34<00:03, 275885.66it/s]"
     ]
    },
    {
     "name": "stderr",
     "output_type": "stream",
     "text": [
      "\rDictNBHDTransformer fit:  90%|████████▉ | 9414968/10468770 [00:35<00:04, 218402.83it/s]"
     ]
    },
    {
     "name": "stderr",
     "output_type": "stream",
     "text": [
      "\rDictNBHDTransformer fit:  90%|█████████ | 9439270/10468770 [00:35<00:06, 155072.45it/s]"
     ]
    },
    {
     "name": "stderr",
     "output_type": "stream",
     "text": [
      "\rDictNBHDTransformer fit:  90%|█████████ | 9460183/10468770 [00:35<00:06, 168073.04it/s]"
     ]
    },
    {
     "name": "stderr",
     "output_type": "stream",
     "text": [
      "\rDictNBHDTransformer fit:  91%|█████████ | 9481196/10468770 [00:35<00:05, 178807.71it/s]"
     ]
    },
    {
     "name": "stderr",
     "output_type": "stream",
     "text": [
      "\rDictNBHDTransformer fit:  91%|█████████ | 9504252/10468770 [00:35<00:05, 191710.55it/s]"
     ]
    },
    {
     "name": "stderr",
     "output_type": "stream",
     "text": [
      "\rDictNBHDTransformer fit:  91%|█████████ | 9525439/10468770 [00:35<00:04, 196060.46it/s]"
     ]
    },
    {
     "name": "stderr",
     "output_type": "stream",
     "text": [
      "\rDictNBHDTransformer fit:  91%|█████████ | 9549684/10468770 [00:35<00:04, 207999.26it/s]"
     ]
    },
    {
     "name": "stderr",
     "output_type": "stream",
     "text": [
      "\rDictNBHDTransformer fit:  91%|█████████▏| 9571687/10468770 [00:35<00:04, 205279.54it/s]"
     ]
    },
    {
     "name": "stderr",
     "output_type": "stream",
     "text": [
      "\rDictNBHDTransformer fit:  92%|█████████▏| 9593065/10468770 [00:36<00:05, 174974.46it/s]"
     ]
    },
    {
     "name": "stderr",
     "output_type": "stream",
     "text": [
      "\rDictNBHDTransformer fit:  92%|█████████▏| 9625862/10468770 [00:36<00:04, 203445.99it/s]"
     ]
    },
    {
     "name": "stderr",
     "output_type": "stream",
     "text": [
      "\rDictNBHDTransformer fit:  92%|█████████▏| 9657549/10468770 [00:36<00:03, 227921.34it/s]"
     ]
    },
    {
     "name": "stderr",
     "output_type": "stream",
     "text": [
      "\rDictNBHDTransformer fit:  93%|█████████▎| 9691529/10468770 [00:36<00:03, 252900.43it/s]"
     ]
    },
    {
     "name": "stderr",
     "output_type": "stream",
     "text": [
      "\rDictNBHDTransformer fit:  93%|█████████▎| 9724758/10468770 [00:36<00:02, 272419.95it/s]"
     ]
    },
    {
     "name": "stderr",
     "output_type": "stream",
     "text": [
      "\rDictNBHDTransformer fit:  93%|█████████▎| 9754425/10468770 [00:36<00:03, 235313.36it/s]"
     ]
    },
    {
     "name": "stderr",
     "output_type": "stream",
     "text": [
      "\rDictNBHDTransformer fit:  93%|█████████▎| 9782947/10468770 [00:36<00:02, 248346.13it/s]"
     ]
    },
    {
     "name": "stderr",
     "output_type": "stream",
     "text": [
      "\rDictNBHDTransformer fit:  94%|█████████▎| 9811917/10468770 [00:36<00:02, 259456.40it/s]"
     ]
    },
    {
     "name": "stderr",
     "output_type": "stream",
     "text": [
      "\rDictNBHDTransformer fit:  94%|█████████▍| 9844497/10468770 [00:36<00:02, 276331.54it/s]"
     ]
    },
    {
     "name": "stderr",
     "output_type": "stream",
     "text": [
      "\rDictNBHDTransformer fit:  94%|█████████▍| 9875408/10468770 [00:37<00:02, 285410.48it/s]"
     ]
    },
    {
     "name": "stderr",
     "output_type": "stream",
     "text": [
      "\rDictNBHDTransformer fit:  95%|█████████▍| 9908652/10468770 [00:37<00:01, 298059.37it/s]"
     ]
    },
    {
     "name": "stderr",
     "output_type": "stream",
     "text": [
      "\rDictNBHDTransformer fit:  95%|█████████▍| 9939332/10468770 [00:37<00:01, 299522.80it/s]"
     ]
    },
    {
     "name": "stderr",
     "output_type": "stream",
     "text": [
      "\rDictNBHDTransformer fit:  95%|█████████▌| 9969898/10468770 [00:37<00:02, 248415.49it/s]"
     ]
    },
    {
     "name": "stderr",
     "output_type": "stream",
     "text": [
      "\rDictNBHDTransformer fit:  96%|█████████▌| 10003479/10468770 [00:37<00:01, 269452.46it/s]"
     ]
    },
    {
     "name": "stderr",
     "output_type": "stream",
     "text": [
      "\rDictNBHDTransformer fit:  96%|█████████▌| 10038206/10468770 [00:37<00:01, 288868.88it/s]"
     ]
    },
    {
     "name": "stderr",
     "output_type": "stream",
     "text": [
      "\rDictNBHDTransformer fit:  96%|█████████▌| 10075708/10468770 [00:37<00:01, 310249.64it/s]"
     ]
    },
    {
     "name": "stderr",
     "output_type": "stream",
     "text": [
      "\rDictNBHDTransformer fit:  97%|█████████▋| 10112952/10468770 [00:37<00:01, 326603.27it/s]"
     ]
    },
    {
     "name": "stderr",
     "output_type": "stream",
     "text": [
      "\rDictNBHDTransformer fit:  97%|█████████▋| 10149578/10468770 [00:37<00:00, 337568.18it/s]"
     ]
    },
    {
     "name": "stderr",
     "output_type": "stream",
     "text": [
      "\rDictNBHDTransformer fit:  97%|█████████▋| 10188436/10468770 [00:38<00:00, 351404.22it/s]"
     ]
    },
    {
     "name": "stderr",
     "output_type": "stream",
     "text": [
      "\rDictNBHDTransformer fit:  98%|█████████▊| 10226444/10468770 [00:38<00:00, 359536.84it/s]"
     ]
    },
    {
     "name": "stderr",
     "output_type": "stream",
     "text": [
      "\rDictNBHDTransformer fit:  98%|█████████▊| 10263061/10468770 [00:38<00:00, 361169.72it/s]"
     ]
    },
    {
     "name": "stderr",
     "output_type": "stream",
     "text": [
      "\rDictNBHDTransformer fit:  98%|█████████▊| 10300057/10468770 [00:38<00:00, 363762.48it/s]"
     ]
    },
    {
     "name": "stderr",
     "output_type": "stream",
     "text": [
      "\rDictNBHDTransformer fit:  99%|█████████▉| 10337977/10468770 [00:38<00:00, 368259.20it/s]"
     ]
    },
    {
     "name": "stderr",
     "output_type": "stream",
     "text": [
      "\rDictNBHDTransformer fit:  99%|█████████▉| 10375987/10468770 [00:38<00:00, 371732.31it/s]"
     ]
    },
    {
     "name": "stderr",
     "output_type": "stream",
     "text": [
      "\rDictNBHDTransformer fit:  99%|█████████▉| 10413340/10468770 [00:38<00:00, 363536.23it/s]"
     ]
    },
    {
     "name": "stderr",
     "output_type": "stream",
     "text": [
      "\rDictNBHDTransformer fit: 100%|█████████▉| 10450072/10468770 [00:38<00:00, 364661.96it/s]"
     ]
    },
    {
     "name": "stderr",
     "output_type": "stream",
     "text": [
      "\rDictNBHDTransformer fit: 100%|██████████| 10468770/10468770 [00:38<00:00, 269028.88it/s]"
     ]
    },
    {
     "name": "stderr",
     "output_type": "stream",
     "text": [
      "\n\rDictClassTransformer_DATE fit:   0%|          | 0/10468770 [00:00<?, ?it/s]"
     ]
    },
    {
     "name": "stderr",
     "output_type": "stream",
     "text": [
      "\rDictClassTransformer_DATE fit:   0%|          | 19369/10468770 [00:00<08:36, 20217.76it/s]"
     ]
    },
    {
     "name": "stderr",
     "output_type": "stream",
     "text": [
      "\rDictClassTransformer_DATE fit:   1%|          | 74581/10468770 [00:02<06:58, 24822.82it/s]"
     ]
    },
    {
     "name": "stderr",
     "output_type": "stream",
     "text": [
      "\rDictClassTransformer_DATE fit:   2%|▏         | 158637/10468770 [00:02<04:54, 35017.97it/s]"
     ]
    },
    {
     "name": "stderr",
     "output_type": "stream",
     "text": [
      "\rDictClassTransformer_DATE fit:   2%|▏         | 255375/10468770 [00:02<03:27, 49261.43it/s]"
     ]
    },
    {
     "name": "stderr",
     "output_type": "stream",
     "text": [
      "\rDictClassTransformer_DATE fit:   3%|▎         | 360986/10468770 [00:02<02:26, 68994.25it/s]"
     ]
    },
    {
     "name": "stderr",
     "output_type": "stream",
     "text": [
      "\rDictClassTransformer_DATE fit:   4%|▍         | 469341/10468770 [00:02<01:44, 95944.96it/s]"
     ]
    },
    {
     "name": "stderr",
     "output_type": "stream",
     "text": [
      "\rDictClassTransformer_DATE fit:   6%|▌         | 581712/10468770 [00:02<01:14, 132225.76it/s]"
     ]
    },
    {
     "name": "stderr",
     "output_type": "stream",
     "text": [
      "\rDictClassTransformer_DATE fit:   7%|▋         | 694873/10468770 [00:02<00:54, 179885.64it/s]"
     ]
    },
    {
     "name": "stderr",
     "output_type": "stream",
     "text": [
      "\rDictClassTransformer_DATE fit:   8%|▊         | 815800/10468770 [00:02<00:39, 241578.28it/s]"
     ]
    },
    {
     "name": "stderr",
     "output_type": "stream",
     "text": [
      "\rDictClassTransformer_DATE fit:   9%|▉         | 936630/10468770 [00:02<00:29, 317874.43it/s]"
     ]
    },
    {
     "name": "stderr",
     "output_type": "stream",
     "text": [
      "\rDictClassTransformer_DATE fit:  10%|█         | 1056795/10468770 [00:02<00:23, 407866.18it/s]"
     ]
    },
    {
     "name": "stderr",
     "output_type": "stream",
     "text": [
      "\rDictClassTransformer_DATE fit:  11%|█▏        | 1178166/10468770 [00:03<00:18, 509313.94it/s]"
     ]
    },
    {
     "name": "stderr",
     "output_type": "stream",
     "text": [
      "\rDictClassTransformer_DATE fit:  12%|█▏        | 1303687/10468770 [00:03<00:14, 619807.65it/s]"
     ]
    },
    {
     "name": "stderr",
     "output_type": "stream",
     "text": [
      "\rDictClassTransformer_DATE fit:  14%|█▎        | 1424113/10468770 [00:03<00:12, 725425.66it/s]"
     ]
    },
    {
     "name": "stderr",
     "output_type": "stream",
     "text": [
      "\rDictClassTransformer_DATE fit:  15%|█▍        | 1550465/10468770 [00:03<00:10, 831680.20it/s]"
     ]
    },
    {
     "name": "stderr",
     "output_type": "stream",
     "text": [
      "\rDictClassTransformer_DATE fit:  16%|█▌        | 1673247/10468770 [00:03<00:09, 920804.16it/s]"
     ]
    },
    {
     "name": "stderr",
     "output_type": "stream",
     "text": [
      "\rDictClassTransformer_DATE fit:  17%|█▋        | 1794809/10468770 [00:03<00:08, 988607.04it/s]"
     ]
    },
    {
     "name": "stderr",
     "output_type": "stream",
     "text": [
      "\rDictClassTransformer_DATE fit:  18%|█▊        | 1915723/10468770 [00:03<00:08, 1045830.21it/s]"
     ]
    },
    {
     "name": "stderr",
     "output_type": "stream",
     "text": [
      "\rDictClassTransformer_DATE fit:  20%|█▉        | 2042637/10468770 [00:03<00:07, 1104107.43it/s]"
     ]
    },
    {
     "name": "stderr",
     "output_type": "stream",
     "text": [
      "\rDictClassTransformer_DATE fit:  21%|██        | 2166509/10468770 [00:03<00:07, 1141315.25it/s]"
     ]
    },
    {
     "name": "stderr",
     "output_type": "stream",
     "text": [
      "\rDictClassTransformer_DATE fit:  22%|██▏       | 2289796/10468770 [00:03<00:07, 1167317.72it/s]"
     ]
    },
    {
     "name": "stderr",
     "output_type": "stream",
     "text": [
      "\rDictClassTransformer_DATE fit:  23%|██▎       | 2412922/10468770 [00:04<00:06, 1177876.61it/s]"
     ]
    },
    {
     "name": "stderr",
     "output_type": "stream",
     "text": [
      "\rDictClassTransformer_DATE fit:  24%|██▍       | 2537347/10468770 [00:04<00:06, 1197030.03it/s]"
     ]
    },
    {
     "name": "stderr",
     "output_type": "stream",
     "text": [
      "\rDictClassTransformer_DATE fit:  25%|██▌       | 2660918/10468770 [00:04<00:06, 1208376.85it/s]"
     ]
    },
    {
     "name": "stderr",
     "output_type": "stream",
     "text": [
      "\rDictClassTransformer_DATE fit:  27%|██▋       | 2785553/10468770 [00:04<00:06, 1219519.67it/s]"
     ]
    },
    {
     "name": "stderr",
     "output_type": "stream",
     "text": [
      "\rDictClassTransformer_DATE fit:  28%|██▊       | 2912161/10468770 [00:04<00:06, 1233117.65it/s]"
     ]
    },
    {
     "name": "stderr",
     "output_type": "stream",
     "text": [
      "\rDictClassTransformer_DATE fit:  29%|██▉       | 3036645/10468770 [00:04<00:06, 1224278.25it/s]"
     ]
    },
    {
     "name": "stderr",
     "output_type": "stream",
     "text": [
      "\rDictClassTransformer_DATE fit:  30%|███       | 3160667/10468770 [00:04<00:05, 1229014.44it/s]"
     ]
    },
    {
     "name": "stderr",
     "output_type": "stream",
     "text": [
      "\rDictClassTransformer_DATE fit:  31%|███▏      | 3284158/10468770 [00:04<00:05, 1228034.85it/s]"
     ]
    },
    {
     "name": "stderr",
     "output_type": "stream",
     "text": [
      "\rDictClassTransformer_DATE fit:  33%|███▎      | 3413071/10468770 [00:04<00:05, 1245743.48it/s]"
     ]
    },
    {
     "name": "stderr",
     "output_type": "stream",
     "text": [
      "\rDictClassTransformer_DATE fit:  34%|███▍      | 3537996/10468770 [00:04<00:05, 1227917.26it/s]"
     ]
    },
    {
     "name": "stderr",
     "output_type": "stream",
     "text": [
      "\rDictClassTransformer_DATE fit:  35%|███▍      | 3662571/10468770 [00:05<00:05, 1233212.72it/s]"
     ]
    },
    {
     "name": "stderr",
     "output_type": "stream",
     "text": [
      "\rDictClassTransformer_DATE fit:  36%|███▌      | 3787729/10468770 [00:05<00:05, 1238662.89it/s]"
     ]
    },
    {
     "name": "stderr",
     "output_type": "stream",
     "text": [
      "\rDictClassTransformer_DATE fit:  37%|███▋      | 3911754/10468770 [00:05<00:05, 1231968.23it/s]"
     ]
    },
    {
     "name": "stderr",
     "output_type": "stream",
     "text": [
      "\rDictClassTransformer_DATE fit:  39%|███▊      | 4035070/10468770 [00:05<00:05, 1219264.76it/s]"
     ]
    },
    {
     "name": "stderr",
     "output_type": "stream",
     "text": [
      "\rDictClassTransformer_DATE fit:  40%|███▉      | 4157110/10468770 [00:05<00:05, 1205909.58it/s]"
     ]
    },
    {
     "name": "stderr",
     "output_type": "stream",
     "text": [
      "\rDictClassTransformer_DATE fit:  41%|████      | 4277818/10468770 [00:05<00:05, 1206256.50it/s]"
     ]
    },
    {
     "name": "stderr",
     "output_type": "stream",
     "text": [
      "\rDictClassTransformer_DATE fit:  42%|████▏     | 4401191/10468770 [00:05<00:04, 1214366.13it/s]"
     ]
    },
    {
     "name": "stderr",
     "output_type": "stream",
     "text": [
      "\rDictClassTransformer_DATE fit:  43%|████▎     | 4523597/10468770 [00:05<00:04, 1217255.88it/s]"
     ]
    },
    {
     "name": "stderr",
     "output_type": "stream",
     "text": [
      "\rDictClassTransformer_DATE fit:  44%|████▍     | 4645372/10468770 [00:05<00:04, 1213285.23it/s]"
     ]
    },
    {
     "name": "stderr",
     "output_type": "stream",
     "text": [
      "\rDictClassTransformer_DATE fit:  46%|████▌     | 4766738/10468770 [00:05<00:04, 1208203.69it/s]"
     ]
    },
    {
     "name": "stderr",
     "output_type": "stream",
     "text": [
      "\rDictClassTransformer_DATE fit:  47%|████▋     | 4889114/10468770 [00:06<00:04, 1212824.94it/s]"
     ]
    },
    {
     "name": "stderr",
     "output_type": "stream",
     "text": [
      "\rDictClassTransformer_DATE fit:  48%|████▊     | 5010423/10468770 [00:06<00:04, 1198806.13it/s]"
     ]
    },
    {
     "name": "stderr",
     "output_type": "stream",
     "text": [
      "\rDictClassTransformer_DATE fit:  49%|████▉     | 5132691/10468770 [00:06<00:04, 1205865.91it/s]"
     ]
    },
    {
     "name": "stderr",
     "output_type": "stream",
     "text": [
      "\rDictClassTransformer_DATE fit:  50%|█████     | 5253326/10468770 [00:06<00:04, 1183274.03it/s]"
     ]
    },
    {
     "name": "stderr",
     "output_type": "stream",
     "text": [
      "\rDictClassTransformer_DATE fit:  51%|█████▏    | 5374381/10468770 [00:06<00:04, 1191326.38it/s]"
     ]
    },
    {
     "name": "stderr",
     "output_type": "stream",
     "text": [
      "\rDictClassTransformer_DATE fit:  52%|█████▏    | 5493617/10468770 [00:06<00:04, 1189311.47it/s]"
     ]
    },
    {
     "name": "stderr",
     "output_type": "stream",
     "text": [
      "\rDictClassTransformer_DATE fit:  54%|█████▎    | 5613733/10468770 [00:06<00:04, 1192839.21it/s]"
     ]
    },
    {
     "name": "stderr",
     "output_type": "stream",
     "text": [
      "\rDictClassTransformer_DATE fit:  55%|█████▍    | 5735780/10468770 [00:06<00:03, 1200995.68it/s]"
     ]
    },
    {
     "name": "stderr",
     "output_type": "stream",
     "text": [
      "\rDictClassTransformer_DATE fit:  56%|█████▌    | 5855931/10468770 [00:06<00:03, 1182104.17it/s]"
     ]
    },
    {
     "name": "stderr",
     "output_type": "stream",
     "text": [
      "\rDictClassTransformer_DATE fit:  57%|█████▋    | 5974244/10468770 [00:06<00:03, 1175419.80it/s]"
     ]
    },
    {
     "name": "stderr",
     "output_type": "stream",
     "text": [
      "\rDictClassTransformer_DATE fit:  58%|█████▊    | 6098626/10468770 [00:07<00:03, 1195109.10it/s]"
     ]
    },
    {
     "name": "stderr",
     "output_type": "stream",
     "text": [
      "\rDictClassTransformer_DATE fit:  59%|█████▉    | 6221430/10468770 [00:07<00:03, 1204800.92it/s]"
     ]
    },
    {
     "name": "stderr",
     "output_type": "stream",
     "text": [
      "\rDictClassTransformer_DATE fit:  61%|██████    | 6348451/10468770 [00:07<00:03, 1223701.34it/s]"
     ]
    },
    {
     "name": "stderr",
     "output_type": "stream",
     "text": [
      "\rDictClassTransformer_DATE fit:  62%|██████▏   | 6473840/10468770 [00:07<00:03, 1232601.94it/s]"
     ]
    },
    {
     "name": "stderr",
     "output_type": "stream",
     "text": [
      "\rDictClassTransformer_DATE fit:  63%|██████▎   | 6600645/10468770 [00:07<00:03, 1243025.98it/s]"
     ]
    },
    {
     "name": "stderr",
     "output_type": "stream",
     "text": [
      "\rDictClassTransformer_DATE fit:  64%|██████▍   | 6725996/10468770 [00:07<00:03, 1246148.65it/s]"
     ]
    },
    {
     "name": "stderr",
     "output_type": "stream",
     "text": [
      "\rDictClassTransformer_DATE fit:  65%|██████▌   | 6852898/10468770 [00:07<00:02, 1252919.83it/s]"
     ]
    },
    {
     "name": "stderr",
     "output_type": "stream",
     "text": [
      "\rDictClassTransformer_DATE fit:  67%|██████▋   | 6981624/10468770 [00:07<00:02, 1263027.42it/s]"
     ]
    },
    {
     "name": "stderr",
     "output_type": "stream",
     "text": [
      "\rDictClassTransformer_DATE fit:  68%|██████▊   | 7110317/10468770 [00:07<00:02, 1270101.21it/s]"
     ]
    },
    {
     "name": "stderr",
     "output_type": "stream",
     "text": [
      "\rDictClassTransformer_DATE fit:  69%|██████▉   | 7237381/10468770 [00:07<00:02, 1256951.41it/s]"
     ]
    },
    {
     "name": "stderr",
     "output_type": "stream",
     "text": [
      "\rDictClassTransformer_DATE fit:  70%|███████   | 7363145/10468770 [00:08<00:02, 1245430.02it/s]"
     ]
    },
    {
     "name": "stderr",
     "output_type": "stream",
     "text": [
      "\rDictClassTransformer_DATE fit:  72%|███████▏  | 7491629/10468770 [00:08<00:02, 1256992.76it/s]"
     ]
    },
    {
     "name": "stderr",
     "output_type": "stream",
     "text": [
      "\rDictClassTransformer_DATE fit:  73%|███████▎  | 7617405/10468770 [00:08<00:02, 1249511.89it/s]"
     ]
    },
    {
     "name": "stderr",
     "output_type": "stream",
     "text": [
      "\rDictClassTransformer_DATE fit:  74%|███████▍  | 7743316/10468770 [00:08<00:02, 1252371.82it/s]"
     ]
    },
    {
     "name": "stderr",
     "output_type": "stream",
     "text": [
      "\rDictClassTransformer_DATE fit:  75%|███████▌  | 7868600/10468770 [00:08<00:02, 1170229.73it/s]"
     ]
    },
    {
     "name": "stderr",
     "output_type": "stream",
     "text": [
      "\rDictClassTransformer_DATE fit:  76%|███████▋  | 7987531/10468770 [00:08<00:02, 1175886.22it/s]"
     ]
    },
    {
     "name": "stderr",
     "output_type": "stream",
     "text": [
      "\rDictClassTransformer_DATE fit:  77%|███████▋  | 8106974/10468770 [00:08<00:01, 1181388.11it/s]"
     ]
    },
    {
     "name": "stderr",
     "output_type": "stream",
     "text": [
      "\rDictClassTransformer_DATE fit:  79%|███████▊  | 8227363/10468770 [00:08<00:01, 1188046.00it/s]"
     ]
    },
    {
     "name": "stderr",
     "output_type": "stream",
     "text": [
      "\rDictClassTransformer_DATE fit:  80%|███████▉  | 8351842/10468770 [00:08<00:01, 1204514.63it/s]"
     ]
    },
    {
     "name": "stderr",
     "output_type": "stream",
     "text": [
      "\rDictClassTransformer_DATE fit:  81%|████████  | 8476278/10468770 [00:08<00:01, 1216169.99it/s]"
     ]
    },
    {
     "name": "stderr",
     "output_type": "stream",
     "text": [
      "\rDictClassTransformer_DATE fit:  82%|████████▏ | 8598158/10468770 [00:09<00:01, 1215811.12it/s]"
     ]
    },
    {
     "name": "stderr",
     "output_type": "stream",
     "text": [
      "\rDictClassTransformer_DATE fit:  83%|████████▎ | 8722600/10468770 [00:09<00:01, 1224254.19it/s]"
     ]
    },
    {
     "name": "stderr",
     "output_type": "stream",
     "text": [
      "\rDictClassTransformer_DATE fit:  85%|████████▍ | 8851304/10468770 [00:09<00:01, 1242434.09it/s]"
     ]
    },
    {
     "name": "stderr",
     "output_type": "stream",
     "text": [
      "\rDictClassTransformer_DATE fit:  86%|████████▌ | 8975713/10468770 [00:09<00:01, 1241776.30it/s]"
     ]
    },
    {
     "name": "stderr",
     "output_type": "stream",
     "text": [
      "\rDictClassTransformer_DATE fit:  87%|████████▋ | 9102228/10468770 [00:09<00:01, 1248696.69it/s]"
     ]
    },
    {
     "name": "stderr",
     "output_type": "stream",
     "text": [
      "\rDictClassTransformer_DATE fit:  88%|████████▊ | 9229490/10468770 [00:09<00:00, 1255774.63it/s]"
     ]
    },
    {
     "name": "stderr",
     "output_type": "stream",
     "text": [
      "\rDictClassTransformer_DATE fit:  89%|████████▉ | 9355140/10468770 [00:09<00:00, 1247381.83it/s]"
     ]
    },
    {
     "name": "stderr",
     "output_type": "stream",
     "text": [
      "\rDictClassTransformer_DATE fit:  91%|█████████ | 9479942/10468770 [00:09<00:00, 1245676.47it/s]"
     ]
    },
    {
     "name": "stderr",
     "output_type": "stream",
     "text": [
      "\rDictClassTransformer_DATE fit:  92%|█████████▏| 9606347/10468770 [00:09<00:00, 1251129.01it/s]"
     ]
    },
    {
     "name": "stderr",
     "output_type": "stream",
     "text": [
      "\rDictClassTransformer_DATE fit:  93%|█████████▎| 9731826/10468770 [00:09<00:00, 1252224.52it/s]"
     ]
    },
    {
     "name": "stderr",
     "output_type": "stream",
     "text": [
      "\rDictClassTransformer_DATE fit:  94%|█████████▍| 9857075/10468770 [00:10<00:00, 1243898.04it/s]"
     ]
    },
    {
     "name": "stderr",
     "output_type": "stream",
     "text": [
      "\rDictClassTransformer_DATE fit:  95%|█████████▌| 9985123/10468770 [00:10<00:00, 1254648.97it/s]"
     ]
    },
    {
     "name": "stderr",
     "output_type": "stream",
     "text": [
      "\rDictClassTransformer_DATE fit:  97%|█████████▋| 10110632/10468770 [00:10<00:00, 1249556.23it/s]"
     ]
    },
    {
     "name": "stderr",
     "output_type": "stream",
     "text": [
      "\rDictClassTransformer_DATE fit:  98%|█████████▊| 10235624/10468770 [00:10<00:00, 1205122.92it/s]"
     ]
    },
    {
     "name": "stderr",
     "output_type": "stream",
     "text": [
      "\rDictClassTransformer_DATE fit:  99%|█████████▉| 10359064/10468770 [00:10<00:00, 1213756.11it/s]"
     ]
    },
    {
     "name": "stderr",
     "output_type": "stream",
     "text": [
      "\rDictClassTransformer_DATE fit: 100%|██████████| 10468770/10468770 [00:10<00:00, 967862.82it/s] "
     ]
    },
    {
     "name": "stderr",
     "output_type": "stream",
     "text": [
      "\n"
     ]
    },
    {
     "name": "stdout",
     "output_type": "stream",
     "text": [
      "[INFO] Compiling model...\n"
     ]
    },
    {
     "name": "stderr",
     "output_type": "stream",
     "text": [
      "\rDictClassTransformer_CARDINAL fit:   0%|          | 0/10468770 [00:00<?, ?it/s]"
     ]
    },
    {
     "name": "stderr",
     "output_type": "stream",
     "text": [
      "\rDictClassTransformer_CARDINAL fit:   1%|          | 83080/10468770 [00:01<02:25, 71615.00it/s]"
     ]
    },
    {
     "name": "stderr",
     "output_type": "stream",
     "text": [
      "\rDictClassTransformer_CARDINAL fit:   2%|▏         | 158104/10468770 [00:01<01:44, 98286.24it/s]"
     ]
    },
    {
     "name": "stderr",
     "output_type": "stream",
     "text": [
      "\rDictClassTransformer_CARDINAL fit:   2%|▏         | 237128/10468770 [00:01<01:16, 133303.36it/s]"
     ]
    },
    {
     "name": "stderr",
     "output_type": "stream",
     "text": [
      "\rDictClassTransformer_CARDINAL fit:   3%|▎         | 337565/10468770 [00:01<00:56, 180184.05it/s]"
     ]
    },
    {
     "name": "stderr",
     "output_type": "stream",
     "text": [
      "\rDictClassTransformer_CARDINAL fit:   4%|▍         | 445034/10468770 [00:01<00:41, 240149.52it/s]"
     ]
    },
    {
     "name": "stderr",
     "output_type": "stream",
     "text": [
      "\rDictClassTransformer_CARDINAL fit:   5%|▌         | 547529/10468770 [00:01<00:31, 311764.59it/s]"
     ]
    },
    {
     "name": "stderr",
     "output_type": "stream",
     "text": [
      "\rDictClassTransformer_CARDINAL fit:   6%|▌         | 643664/10468770 [00:01<00:25, 391030.13it/s]"
     ]
    },
    {
     "name": "stderr",
     "output_type": "stream",
     "text": [
      "\rDictClassTransformer_CARDINAL fit:   7%|▋         | 735038/10468770 [00:01<00:20, 472039.93it/s]"
     ]
    },
    {
     "name": "stderr",
     "output_type": "stream",
     "text": [
      "\rDictClassTransformer_CARDINAL fit:   8%|▊         | 841746/10468770 [00:01<00:16, 566871.30it/s]"
     ]
    },
    {
     "name": "stderr",
     "output_type": "stream",
     "text": [
      "\rDictClassTransformer_CARDINAL fit:   9%|▉         | 950921/10468770 [00:02<00:14, 662411.00it/s]"
     ]
    },
    {
     "name": "stderr",
     "output_type": "stream",
     "text": [
      "\rDictClassTransformer_CARDINAL fit:  10%|█         | 1053077/10468770 [00:02<00:12, 740512.13it/s]"
     ]
    },
    {
     "name": "stderr",
     "output_type": "stream",
     "text": [
      "\rDictClassTransformer_CARDINAL fit:  11%|█         | 1157322/10468770 [00:02<00:11, 810980.19it/s]"
     ]
    },
    {
     "name": "stderr",
     "output_type": "stream",
     "text": [
      "\rDictClassTransformer_CARDINAL fit:  12%|█▏        | 1264961/10468770 [00:02<00:10, 875757.88it/s]"
     ]
    },
    {
     "name": "stderr",
     "output_type": "stream",
     "text": [
      "\rDictClassTransformer_CARDINAL fit:  13%|█▎        | 1373829/10468770 [00:02<00:09, 930342.94it/s]"
     ]
    },
    {
     "name": "stderr",
     "output_type": "stream",
     "text": [
      "\rDictClassTransformer_CARDINAL fit:  14%|█▍        | 1492553/10468770 [00:02<00:09, 994927.27it/s]"
     ]
    },
    {
     "name": "stderr",
     "output_type": "stream",
     "text": [
      "\rDictClassTransformer_CARDINAL fit:  15%|█▌        | 1615976/10468770 [00:02<00:08, 1056370.43it/s]"
     ]
    },
    {
     "name": "stderr",
     "output_type": "stream",
     "text": [
      "\rDictClassTransformer_CARDINAL fit:  17%|█▋        | 1733386/10468770 [00:02<00:08, 1089130.77it/s]"
     ]
    },
    {
     "name": "stderr",
     "output_type": "stream",
     "text": [
      "\rDictClassTransformer_CARDINAL fit:  18%|█▊        | 1847882/10468770 [00:02<00:08, 1027418.98it/s]"
     ]
    },
    {
     "name": "stderr",
     "output_type": "stream",
     "text": [
      "\rDictClassTransformer_CARDINAL fit:  19%|█▊        | 1955253/10468770 [00:02<00:08, 1029797.80it/s]"
     ]
    },
    {
     "name": "stderr",
     "output_type": "stream",
     "text": [
      "\rDictClassTransformer_CARDINAL fit:  20%|█▉        | 2074787/10468770 [00:03<00:07, 1074434.15it/s]"
     ]
    },
    {
     "name": "stderr",
     "output_type": "stream",
     "text": [
      "\rDictClassTransformer_CARDINAL fit:  21%|██        | 2195819/10468770 [00:03<00:07, 1111881.79it/s]"
     ]
    },
    {
     "name": "stderr",
     "output_type": "stream",
     "text": [
      "\rDictClassTransformer_CARDINAL fit:  22%|██▏       | 2309279/10468770 [00:04<00:32, 250592.20it/s] "
     ]
    },
    {
     "name": "stderr",
     "output_type": "stream",
     "text": [
      "\rDictClassTransformer_CARDINAL fit:  23%|██▎       | 2415713/10468770 [00:04<00:24, 325176.99it/s]"
     ]
    },
    {
     "name": "stderr",
     "output_type": "stream",
     "text": [
      "\rDictClassTransformer_CARDINAL fit:  24%|██▍       | 2523355/10468770 [00:04<00:19, 411289.32it/s]"
     ]
    },
    {
     "name": "stderr",
     "output_type": "stream",
     "text": [
      "\rDictClassTransformer_CARDINAL fit:  25%|██▌       | 2633038/10468770 [00:04<00:15, 506205.37it/s]"
     ]
    },
    {
     "name": "stderr",
     "output_type": "stream",
     "text": [
      "\rDictClassTransformer_CARDINAL fit:  26%|██▋       | 2751048/10468770 [00:04<00:12, 610851.79it/s]"
     ]
    },
    {
     "name": "stderr",
     "output_type": "stream",
     "text": [
      "\rDictClassTransformer_CARDINAL fit:  27%|██▋       | 2855971/10468770 [00:04<00:11, 655114.02it/s]"
     ]
    },
    {
     "name": "stderr",
     "output_type": "stream",
     "text": [
      "\rDictClassTransformer_CARDINAL fit:  28%|██▊       | 2971437/10468770 [00:05<00:09, 752821.64it/s]"
     ]
    },
    {
     "name": "stderr",
     "output_type": "stream",
     "text": [
      "\rDictClassTransformer_CARDINAL fit:  30%|██▉       | 3090336/10468770 [00:05<00:08, 845914.28it/s]"
     ]
    },
    {
     "name": "stderr",
     "output_type": "stream",
     "text": [
      "\rDictClassTransformer_CARDINAL fit:  31%|███       | 3197832/10468770 [00:05<00:08, 872146.67it/s]"
     ]
    },
    {
     "name": "stderr",
     "output_type": "stream",
     "text": [
      "\rDictClassTransformer_CARDINAL fit:  32%|███▏      | 3301284/10468770 [00:05<00:08, 802899.55it/s]"
     ]
    },
    {
     "name": "stderr",
     "output_type": "stream",
     "text": [
      "\rDictClassTransformer_CARDINAL fit:  32%|███▏      | 3394023/10468770 [00:05<00:09, 747199.84it/s]"
     ]
    },
    {
     "name": "stderr",
     "output_type": "stream",
     "text": [
      "\rDictClassTransformer_CARDINAL fit:  33%|███▎      | 3488183/10468770 [00:05<00:08, 796533.23it/s]"
     ]
    },
    {
     "name": "stderr",
     "output_type": "stream",
     "text": [
      "\rDictClassTransformer_CARDINAL fit:  34%|███▍      | 3592683/10468770 [00:05<00:08, 857713.83it/s]"
     ]
    },
    {
     "name": "stderr",
     "output_type": "stream",
     "text": [
      "\rDictClassTransformer_CARDINAL fit:  35%|███▌      | 3702692/10468770 [00:05<00:07, 918416.20it/s]"
     ]
    },
    {
     "name": "stderr",
     "output_type": "stream",
     "text": [
      "\rDictClassTransformer_CARDINAL fit:  36%|███▋      | 3812626/10468770 [00:06<00:06, 966113.54it/s]"
     ]
    },
    {
     "name": "stderr",
     "output_type": "stream",
     "text": [
      "\rDictClassTransformer_CARDINAL fit:  37%|███▋      | 3925559/10468770 [00:06<00:06, 1009899.92it/s]"
     ]
    },
    {
     "name": "stderr",
     "output_type": "stream",
     "text": [
      "\rDictClassTransformer_CARDINAL fit:  39%|███▊      | 4042005/10468770 [00:06<00:06, 1051778.70it/s]"
     ]
    },
    {
     "name": "stderr",
     "output_type": "stream",
     "text": [
      "\rDictClassTransformer_CARDINAL fit:  40%|███▉      | 4163099/10468770 [00:06<00:05, 1094953.22it/s]"
     ]
    },
    {
     "name": "stderr",
     "output_type": "stream",
     "text": [
      "\rDictClassTransformer_CARDINAL fit:  41%|████      | 4280414/10468770 [00:06<00:05, 1117292.61it/s]"
     ]
    },
    {
     "name": "stderr",
     "output_type": "stream",
     "text": [
      "\rDictClassTransformer_CARDINAL fit:  42%|████▏     | 4404208/10468770 [00:06<00:05, 1150942.81it/s]"
     ]
    },
    {
     "name": "stderr",
     "output_type": "stream",
     "text": [
      "\rDictClassTransformer_CARDINAL fit:  43%|████▎     | 4525615/10468770 [00:06<00:05, 1169177.84it/s]"
     ]
    },
    {
     "name": "stderr",
     "output_type": "stream",
     "text": [
      "\rDictClassTransformer_CARDINAL fit:  44%|████▍     | 4645487/10468770 [00:06<00:04, 1177885.96it/s]"
     ]
    },
    {
     "name": "stderr",
     "output_type": "stream",
     "text": [
      "\rDictClassTransformer_CARDINAL fit:  46%|████▌     | 4769300/10468770 [00:06<00:04, 1195330.68it/s]"
     ]
    },
    {
     "name": "stderr",
     "output_type": "stream",
     "text": [
      "\rDictClassTransformer_CARDINAL fit:  47%|████▋     | 4889501/10468770 [00:06<00:04, 1179256.34it/s]"
     ]
    },
    {
     "name": "stderr",
     "output_type": "stream",
     "text": [
      "\rDictClassTransformer_CARDINAL fit:  48%|████▊     | 5012225/10468770 [00:07<00:04, 1193249.79it/s]"
     ]
    },
    {
     "name": "stderr",
     "output_type": "stream",
     "text": [
      "\rDictClassTransformer_CARDINAL fit:  49%|████▉     | 5135652/10468770 [00:07<00:04, 1205266.18it/s]"
     ]
    },
    {
     "name": "stderr",
     "output_type": "stream",
     "text": [
      "\rDictClassTransformer_CARDINAL fit:  50%|█████     | 5263182/10468770 [00:07<00:04, 1225451.27it/s]"
     ]
    },
    {
     "name": "stderr",
     "output_type": "stream",
     "text": [
      "\rDictClassTransformer_CARDINAL fit:  51%|█████▏    | 5389061/10468770 [00:07<00:04, 1235263.73it/s]"
     ]
    },
    {
     "name": "stderr",
     "output_type": "stream",
     "text": [
      "\rDictClassTransformer_CARDINAL fit:  53%|█████▎    | 5515085/10468770 [00:07<00:03, 1242651.51it/s]"
     ]
    },
    {
     "name": "stderr",
     "output_type": "stream",
     "text": [
      "\rDictClassTransformer_CARDINAL fit:  54%|█████▍    | 5642600/10468770 [00:07<00:03, 1252222.62it/s]"
     ]
    },
    {
     "name": "stderr",
     "output_type": "stream",
     "text": [
      "\rDictClassTransformer_CARDINAL fit:  55%|█████▌    | 5767959/10468770 [00:07<00:03, 1231427.43it/s]"
     ]
    },
    {
     "name": "stderr",
     "output_type": "stream",
     "text": [
      "\rDictClassTransformer_CARDINAL fit:  56%|█████▋    | 5894554/10468770 [00:07<00:03, 1241580.87it/s]"
     ]
    },
    {
     "name": "stderr",
     "output_type": "stream",
     "text": [
      "\rDictClassTransformer_CARDINAL fit:  57%|█████▋    | 6018854/10468770 [00:07<00:03, 1227509.54it/s]"
     ]
    },
    {
     "name": "stderr",
     "output_type": "stream",
     "text": [
      "\rDictClassTransformer_CARDINAL fit:  59%|█████▊    | 6141740/10468770 [00:07<00:03, 1215049.34it/s]"
     ]
    },
    {
     "name": "stderr",
     "output_type": "stream",
     "text": [
      "\rDictClassTransformer_CARDINAL fit:  60%|█████▉    | 6270431/10468770 [00:08<00:03, 1235750.01it/s]"
     ]
    },
    {
     "name": "stderr",
     "output_type": "stream",
     "text": [
      "\rDictClassTransformer_CARDINAL fit:  61%|██████    | 6397719/10468770 [00:08<00:03, 1246655.53it/s]"
     ]
    },
    {
     "name": "stderr",
     "output_type": "stream",
     "text": [
      "\rDictClassTransformer_CARDINAL fit:  62%|██████▏   | 6522528/10468770 [00:08<00:03, 1246656.44it/s]"
     ]
    },
    {
     "name": "stderr",
     "output_type": "stream",
     "text": [
      "\rDictClassTransformer_CARDINAL fit:  64%|██████▎   | 6652859/10468770 [00:08<00:03, 1263125.36it/s]"
     ]
    },
    {
     "name": "stderr",
     "output_type": "stream",
     "text": [
      "\rDictClassTransformer_CARDINAL fit:  65%|██████▍   | 6779295/10468770 [00:08<00:02, 1260733.00it/s]"
     ]
    },
    {
     "name": "stderr",
     "output_type": "stream",
     "text": [
      "\rDictClassTransformer_CARDINAL fit:  66%|██████▌   | 6905456/10468770 [00:08<00:02, 1258912.81it/s]"
     ]
    },
    {
     "name": "stderr",
     "output_type": "stream",
     "text": [
      "\rDictClassTransformer_CARDINAL fit:  67%|██████▋   | 7033333/10468770 [00:08<00:02, 1264804.38it/s]"
     ]
    },
    {
     "name": "stderr",
     "output_type": "stream",
     "text": [
      "\rDictClassTransformer_CARDINAL fit:  68%|██████▊   | 7160452/10468770 [00:08<00:02, 1266710.07it/s]"
     ]
    },
    {
     "name": "stderr",
     "output_type": "stream",
     "text": [
      "\rDictClassTransformer_CARDINAL fit:  70%|██████▉   | 7291377/10468770 [00:08<00:02, 1279174.82it/s]"
     ]
    },
    {
     "name": "stderr",
     "output_type": "stream",
     "text": [
      "\rDictClassTransformer_CARDINAL fit:  71%|███████   | 7419349/10468770 [00:08<00:02, 1265788.54it/s]"
     ]
    },
    {
     "name": "stderr",
     "output_type": "stream",
     "text": [
      "\rDictClassTransformer_CARDINAL fit:  72%|███████▏  | 7545998/10468770 [00:09<00:02, 1252487.93it/s]"
     ]
    },
    {
     "name": "stderr",
     "output_type": "stream",
     "text": [
      "\rDictClassTransformer_CARDINAL fit:  73%|███████▎  | 7671328/10468770 [00:09<00:02, 1243576.14it/s]"
     ]
    },
    {
     "name": "stderr",
     "output_type": "stream",
     "text": [
      "\rDictClassTransformer_CARDINAL fit:  74%|███████▍  | 7798472/10468770 [00:09<00:02, 1251805.68it/s]"
     ]
    },
    {
     "name": "stderr",
     "output_type": "stream",
     "text": [
      "\rDictClassTransformer_CARDINAL fit:  76%|███████▌  | 7924471/10468770 [00:09<00:02, 1254246.58it/s]"
     ]
    },
    {
     "name": "stderr",
     "output_type": "stream",
     "text": [
      "\rDictClassTransformer_CARDINAL fit:  77%|███████▋  | 8049941/10468770 [00:09<00:01, 1224800.22it/s]"
     ]
    },
    {
     "name": "stderr",
     "output_type": "stream",
     "text": [
      "\rDictClassTransformer_CARDINAL fit:  78%|███████▊  | 8176030/10468770 [00:09<00:01, 1235406.10it/s]"
     ]
    },
    {
     "name": "stderr",
     "output_type": "stream",
     "text": [
      "\rDictClassTransformer_CARDINAL fit:  79%|███████▉  | 8302290/10468770 [00:09<00:01, 1243436.44it/s]"
     ]
    },
    {
     "name": "stderr",
     "output_type": "stream",
     "text": [
      "\rDictClassTransformer_CARDINAL fit:  81%|████████  | 8431473/10468770 [00:09<00:01, 1257565.45it/s]"
     ]
    },
    {
     "name": "stderr",
     "output_type": "stream",
     "text": [
      "\rDictClassTransformer_CARDINAL fit:  82%|████████▏ | 8560350/10468770 [00:09<00:01, 1266763.78it/s]"
     ]
    },
    {
     "name": "stderr",
     "output_type": "stream",
     "text": [
      "\rDictClassTransformer_CARDINAL fit:  83%|████████▎ | 8687128/10468770 [00:09<00:01, 1256553.00it/s]"
     ]
    },
    {
     "name": "stderr",
     "output_type": "stream",
     "text": [
      "\rDictClassTransformer_CARDINAL fit:  84%|████████▍ | 8812873/10468770 [00:10<00:01, 1222888.64it/s]"
     ]
    },
    {
     "name": "stderr",
     "output_type": "stream",
     "text": [
      "\rDictClassTransformer_CARDINAL fit:  85%|████████▌ | 8939355/10468770 [00:10<00:01, 1235170.09it/s]"
     ]
    },
    {
     "name": "stderr",
     "output_type": "stream",
     "text": [
      "\rDictClassTransformer_CARDINAL fit:  87%|████████▋ | 9063084/10468770 [00:10<00:01, 1232975.53it/s]"
     ]
    },
    {
     "name": "stderr",
     "output_type": "stream",
     "text": [
      "\rDictClassTransformer_CARDINAL fit:  88%|████████▊ | 9188921/10468770 [00:10<00:01, 1240482.45it/s]"
     ]
    },
    {
     "name": "stderr",
     "output_type": "stream",
     "text": [
      "\rDictClassTransformer_CARDINAL fit:  89%|████████▉ | 9313472/10468770 [00:10<00:00, 1241985.91it/s]"
     ]
    },
    {
     "name": "stderr",
     "output_type": "stream",
     "text": [
      "\rDictClassTransformer_CARDINAL fit:  90%|█████████ | 9441324/10468770 [00:10<00:00, 1252718.34it/s]"
     ]
    },
    {
     "name": "stderr",
     "output_type": "stream",
     "text": [
      "\rDictClassTransformer_CARDINAL fit:  91%|█████████▏| 9568021/10468770 [00:10<00:00, 1256956.85it/s]"
     ]
    },
    {
     "name": "stderr",
     "output_type": "stream",
     "text": [
      "\rDictClassTransformer_CARDINAL fit:  93%|█████████▎| 9694974/10468770 [00:10<00:00, 1260702.03it/s]"
     ]
    },
    {
     "name": "stderr",
     "output_type": "stream",
     "text": [
      "\rDictClassTransformer_CARDINAL fit:  94%|█████████▍| 9822245/10468770 [00:10<00:00, 1264277.33it/s]"
     ]
    },
    {
     "name": "stderr",
     "output_type": "stream",
     "text": [
      "\rDictClassTransformer_CARDINAL fit:  95%|█████████▌| 9954220/10468770 [00:10<00:00, 1280422.69it/s]"
     ]
    },
    {
     "name": "stderr",
     "output_type": "stream",
     "text": [
      "\rDictClassTransformer_CARDINAL fit:  96%|█████████▋| 10082335/10468770 [00:11<00:00, 1266245.52it/s]"
     ]
    },
    {
     "name": "stderr",
     "output_type": "stream",
     "text": [
      "\rDictClassTransformer_CARDINAL fit:  98%|█████████▊| 10209047/10468770 [00:11<00:00, 1248844.70it/s]"
     ]
    },
    {
     "name": "stderr",
     "output_type": "stream",
     "text": [
      "\rDictClassTransformer_CARDINAL fit:  99%|█████████▊| 10334047/10468770 [00:11<00:00, 1237085.90it/s]"
     ]
    },
    {
     "name": "stderr",
     "output_type": "stream",
     "text": [
      "\rDictClassTransformer_CARDINAL fit: 100%|█████████▉| 10458007/10468770 [00:11<00:00, 1237835.88it/s]"
     ]
    },
    {
     "name": "stderr",
     "output_type": "stream",
     "text": [
      "\rDictClassTransformer_CARDINAL fit: 100%|██████████| 10468770/10468770 [00:11<00:00, 903230.63it/s] "
     ]
    },
    {
     "name": "stderr",
     "output_type": "stream",
     "text": [
      "\n"
     ]
    },
    {
     "name": "stdout",
     "output_type": "stream",
     "text": [
      "[INFO] Compiling model...\n"
     ]
    },
    {
     "name": "stderr",
     "output_type": "stream",
     "text": [
      "\rDictTransformer fit:   0%|          | 0/10468770 [00:00<?, ?it/s]"
     ]
    },
    {
     "name": "stderr",
     "output_type": "stream",
     "text": [
      "\rDictTransformer fit:   0%|          | 987/10468770 [00:02<7:02:04, 413.34it/s]"
     ]
    },
    {
     "name": "stderr",
     "output_type": "stream",
     "text": [
      "\rDictTransformer fit:   0%|          | 15549/10468770 [00:04<5:03:07, 574.74it/s]"
     ]
    },
    {
     "name": "stderr",
     "output_type": "stream",
     "text": [
      "\rDictTransformer fit:   0%|          | 28318/10468770 [00:04<3:32:20, 819.47it/s]"
     ]
    },
    {
     "name": "stderr",
     "output_type": "stream",
     "text": [
      "\rDictTransformer fit:   0%|          | 43566/10468770 [00:04<2:28:45, 1167.98it/s]"
     ]
    },
    {
     "name": "stderr",
     "output_type": "stream",
     "text": [
      "\rDictTransformer fit:   1%|          | 54392/10468770 [00:04<1:44:30, 1660.87it/s]"
     ]
    },
    {
     "name": "stderr",
     "output_type": "stream",
     "text": [
      "\rDictTransformer fit:   1%|          | 66772/10468770 [00:05<1:13:29, 2359.10it/s]"
     ]
    },
    {
     "name": "stderr",
     "output_type": "stream",
     "text": [
      "\rDictTransformer fit:   1%|          | 77510/10468770 [00:05<51:52, 3338.71it/s]  "
     ]
    },
    {
     "name": "stderr",
     "output_type": "stream",
     "text": [
      "\rDictTransformer fit:   1%|          | 92035/10468770 [00:05<36:37, 4722.46it/s]"
     ]
    },
    {
     "name": "stderr",
     "output_type": "stream",
     "text": [
      "\rDictTransformer fit:   1%|          | 108253/10468770 [00:05<25:54, 6663.22it/s]"
     ]
    },
    {
     "name": "stderr",
     "output_type": "stream",
     "text": [
      "\rDictTransformer fit:   1%|          | 127750/10468770 [00:05<18:22, 9381.47it/s]"
     ]
    },
    {
     "name": "stderr",
     "output_type": "stream",
     "text": [
      "\rDictTransformer fit:   1%|▏         | 142521/10468770 [00:07<21:16, 8092.19it/s]"
     ]
    },
    {
     "name": "stderr",
     "output_type": "stream",
     "text": [
      "\rDictTransformer fit:   2%|▏         | 174923/10468770 [00:07<14:59, 11437.85it/s]"
     ]
    },
    {
     "name": "stderr",
     "output_type": "stream",
     "text": [
      "\rDictTransformer fit:   2%|▏         | 205907/10468770 [00:08<10:38, 16085.30it/s]"
     ]
    },
    {
     "name": "stderr",
     "output_type": "stream",
     "text": [
      "\rDictTransformer fit:   2%|▏         | 238999/10468770 [00:08<07:34, 22510.06it/s]"
     ]
    },
    {
     "name": "stderr",
     "output_type": "stream",
     "text": [
      "\rDictTransformer fit:   3%|▎         | 271182/10468770 [00:08<05:26, 31221.33it/s]"
     ]
    },
    {
     "name": "stderr",
     "output_type": "stream",
     "text": [
      "\rDictTransformer fit:   3%|▎         | 305397/10468770 [00:08<03:56, 42923.27it/s]"
     ]
    },
    {
     "name": "stderr",
     "output_type": "stream",
     "text": [
      "\rDictTransformer fit:   3%|▎         | 338651/10468770 [00:08<02:54, 58104.48it/s]"
     ]
    },
    {
     "name": "stderr",
     "output_type": "stream",
     "text": [
      "\rDictTransformer fit:   4%|▎         | 371493/10468770 [00:08<02:10, 77156.11it/s]"
     ]
    },
    {
     "name": "stderr",
     "output_type": "stream",
     "text": [
      "\rDictTransformer fit:   4%|▍         | 408293/10468770 [00:08<01:39, 101135.17it/s]"
     ]
    },
    {
     "name": "stderr",
     "output_type": "stream",
     "text": [
      "\rDictTransformer fit:   4%|▍         | 441126/10468770 [00:08<01:21, 123719.56it/s]"
     ]
    },
    {
     "name": "stderr",
     "output_type": "stream",
     "text": [
      "\rDictTransformer fit:   5%|▍         | 474945/10468770 [00:08<01:05, 152787.01it/s]"
     ]
    },
    {
     "name": "stderr",
     "output_type": "stream",
     "text": [
      "\rDictTransformer fit:   5%|▍         | 510423/10468770 [00:08<00:54, 184258.05it/s]"
     ]
    },
    {
     "name": "stderr",
     "output_type": "stream",
     "text": [
      "\rDictTransformer fit:   5%|▌         | 543227/10468770 [00:09<00:47, 207737.29it/s]"
     ]
    },
    {
     "name": "stderr",
     "output_type": "stream",
     "text": [
      "\rDictTransformer fit:   6%|▌         | 580209/10468770 [00:09<00:41, 239184.65it/s]"
     ]
    },
    {
     "name": "stderr",
     "output_type": "stream",
     "text": [
      "\rDictTransformer fit:   6%|▌         | 613630/10468770 [00:09<00:37, 261488.61it/s]"
     ]
    },
    {
     "name": "stderr",
     "output_type": "stream",
     "text": [
      "\rDictTransformer fit:   6%|▌         | 650109/10468770 [00:09<00:34, 285758.92it/s]"
     ]
    },
    {
     "name": "stderr",
     "output_type": "stream",
     "text": [
      "\rDictTransformer fit:   7%|▋         | 685714/10468770 [00:09<00:32, 303747.80it/s]"
     ]
    },
    {
     "name": "stderr",
     "output_type": "stream",
     "text": [
      "\rDictTransformer fit:   7%|▋         | 720417/10468770 [00:09<00:31, 311639.18it/s]"
     ]
    },
    {
     "name": "stderr",
     "output_type": "stream",
     "text": [
      "\rDictTransformer fit:   7%|▋         | 754662/10468770 [00:09<00:32, 303277.19it/s]"
     ]
    },
    {
     "name": "stderr",
     "output_type": "stream",
     "text": [
      "\rDictTransformer fit:   8%|▊         | 790593/10468770 [00:09<00:30, 318161.05it/s]"
     ]
    },
    {
     "name": "stderr",
     "output_type": "stream",
     "text": [
      "\rDictTransformer fit:   8%|▊         | 827864/10468770 [00:09<00:28, 332771.20it/s]"
     ]
    },
    {
     "name": "stderr",
     "output_type": "stream",
     "text": [
      "\rDictTransformer fit:   8%|▊         | 865583/10468770 [00:10<00:27, 344957.54it/s]"
     ]
    },
    {
     "name": "stderr",
     "output_type": "stream",
     "text": [
      "\rDictTransformer fit:   9%|▊         | 904340/10468770 [00:10<00:26, 356722.76it/s]"
     ]
    },
    {
     "name": "stderr",
     "output_type": "stream",
     "text": [
      "\rDictTransformer fit:   9%|▉         | 941069/10468770 [00:10<00:26, 359826.36it/s]"
     ]
    },
    {
     "name": "stderr",
     "output_type": "stream",
     "text": [
      "\rDictTransformer fit:   9%|▉         | 977663/10468770 [00:10<00:31, 299266.13it/s]"
     ]
    },
    {
     "name": "stderr",
     "output_type": "stream",
     "text": [
      "\rDictTransformer fit:  10%|▉         | 1009725/10468770 [00:10<00:32, 289101.75it/s]"
     ]
    },
    {
     "name": "stderr",
     "output_type": "stream",
     "text": [
      "\rDictTransformer fit:  10%|▉         | 1040205/10468770 [00:10<00:52, 180503.34it/s]"
     ]
    },
    {
     "name": "stderr",
     "output_type": "stream",
     "text": [
      "\rDictTransformer fit:  10%|█         | 1064427/10468770 [00:11<01:01, 151943.92it/s]"
     ]
    },
    {
     "name": "stderr",
     "output_type": "stream",
     "text": [
      "\rDictTransformer fit:  10%|█         | 1084712/10468770 [00:11<01:07, 139078.43it/s]"
     ]
    },
    {
     "name": "stderr",
     "output_type": "stream",
     "text": [
      "\rDictTransformer fit:  11%|█         | 1102395/10468770 [00:11<01:04, 144730.70it/s]"
     ]
    },
    {
     "name": "stderr",
     "output_type": "stream",
     "text": [
      "\rDictTransformer fit:  11%|█         | 1119570/10468770 [00:11<01:06, 140294.62it/s]"
     ]
    },
    {
     "name": "stderr",
     "output_type": "stream",
     "text": [
      "\rDictTransformer fit:  11%|█         | 1135521/10468770 [00:11<01:17, 119808.99it/s]"
     ]
    },
    {
     "name": "stderr",
     "output_type": "stream",
     "text": [
      "\rDictTransformer fit:  11%|█         | 1149368/10468770 [00:11<01:27, 106661.31it/s]"
     ]
    },
    {
     "name": "stderr",
     "output_type": "stream",
     "text": [
      "\rDictTransformer fit:  11%|█         | 1162484/10468770 [00:11<01:22, 112992.04it/s]"
     ]
    },
    {
     "name": "stderr",
     "output_type": "stream",
     "text": [
      "\rDictTransformer fit:  11%|█         | 1176690/10468770 [00:11<01:17, 120380.12it/s]"
     ]
    },
    {
     "name": "stderr",
     "output_type": "stream",
     "text": [
      "\rDictTransformer fit:  11%|█▏        | 1193875/10468770 [00:12<01:10, 132262.46it/s]"
     ]
    },
    {
     "name": "stderr",
     "output_type": "stream",
     "text": [
      "\rDictTransformer fit:  12%|█▏        | 1213951/10468770 [00:12<01:02, 147344.18it/s]"
     ]
    },
    {
     "name": "stderr",
     "output_type": "stream",
     "text": [
      "\rDictTransformer fit:  12%|█▏        | 1235210/10468770 [00:12<00:56, 162285.57it/s]"
     ]
    },
    {
     "name": "stderr",
     "output_type": "stream",
     "text": [
      "\rDictTransformer fit:  12%|█▏        | 1257575/10468770 [00:12<00:52, 176766.54it/s]"
     ]
    },
    {
     "name": "stderr",
     "output_type": "stream",
     "text": [
      "\rDictTransformer fit:  12%|█▏        | 1276581/10468770 [00:12<00:55, 165482.63it/s]"
     ]
    },
    {
     "name": "stderr",
     "output_type": "stream",
     "text": [
      "\rDictTransformer fit:  12%|█▏        | 1294206/10468770 [00:12<00:57, 159619.99it/s]"
     ]
    },
    {
     "name": "stderr",
     "output_type": "stream",
     "text": [
      "\rDictTransformer fit:  13%|█▎        | 1310967/10468770 [00:12<00:59, 152878.28it/s]"
     ]
    },
    {
     "name": "stderr",
     "output_type": "stream",
     "text": [
      "\rDictTransformer fit:  13%|█▎        | 1329393/10468770 [00:12<00:56, 161108.71it/s]"
     ]
    },
    {
     "name": "stderr",
     "output_type": "stream",
     "text": [
      "\rDictTransformer fit:  13%|█▎        | 1346428/10468770 [00:12<00:56, 161912.21it/s]"
     ]
    },
    {
     "name": "stderr",
     "output_type": "stream",
     "text": [
      "\rDictTransformer fit:  13%|█▎        | 1363007/10468770 [00:13<01:06, 137280.55it/s]"
     ]
    },
    {
     "name": "stderr",
     "output_type": "stream",
     "text": [
      "\rDictTransformer fit:  13%|█▎        | 1383520/10468770 [00:13<00:59, 152402.68it/s]"
     ]
    },
    {
     "name": "stderr",
     "output_type": "stream",
     "text": [
      "\rDictTransformer fit:  13%|█▎        | 1403820/10468770 [00:13<00:55, 164718.85it/s]"
     ]
    },
    {
     "name": "stderr",
     "output_type": "stream",
     "text": [
      "\rDictTransformer fit:  14%|█▎        | 1432325/10468770 [00:13<00:47, 188603.30it/s]"
     ]
    },
    {
     "name": "stderr",
     "output_type": "stream",
     "text": [
      "\rDictTransformer fit:  14%|█▍        | 1458627/10468770 [00:13<00:43, 206095.70it/s]"
     ]
    },
    {
     "name": "stderr",
     "output_type": "stream",
     "text": [
      "\rDictTransformer fit:  14%|█▍        | 1488564/10468770 [00:13<00:39, 227345.28it/s]"
     ]
    },
    {
     "name": "stderr",
     "output_type": "stream",
     "text": [
      "\rDictTransformer fit:  15%|█▍        | 1524724/10468770 [00:13<00:34, 255841.88it/s]"
     ]
    },
    {
     "name": "stderr",
     "output_type": "stream",
     "text": [
      "\rDictTransformer fit:  15%|█▍        | 1563274/10468770 [00:13<00:31, 284553.16it/s]"
     ]
    },
    {
     "name": "stderr",
     "output_type": "stream",
     "text": [
      "\rDictTransformer fit:  15%|█▌        | 1601188/10468770 [00:13<00:28, 307572.08it/s]"
     ]
    },
    {
     "name": "stderr",
     "output_type": "stream",
     "text": [
      "\rDictTransformer fit:  16%|█▌        | 1640745/10468770 [00:14<00:26, 329564.86it/s]"
     ]
    },
    {
     "name": "stderr",
     "output_type": "stream",
     "text": [
      "\rDictTransformer fit:  16%|█▌        | 1678233/10468770 [00:14<00:25, 341963.22it/s]"
     ]
    },
    {
     "name": "stderr",
     "output_type": "stream",
     "text": [
      "\rDictTransformer fit:  16%|█▋        | 1714086/10468770 [00:14<00:25, 339611.20it/s]"
     ]
    },
    {
     "name": "stderr",
     "output_type": "stream",
     "text": [
      "\rDictTransformer fit:  17%|█▋        | 1749211/10468770 [00:14<00:25, 339115.35it/s]"
     ]
    },
    {
     "name": "stderr",
     "output_type": "stream",
     "text": [
      "\rDictTransformer fit:  17%|█▋        | 1783937/10468770 [00:14<00:26, 328368.51it/s]"
     ]
    },
    {
     "name": "stderr",
     "output_type": "stream",
     "text": [
      "\rDictTransformer fit:  17%|█▋        | 1817418/10468770 [00:14<00:26, 324414.67it/s]"
     ]
    },
    {
     "name": "stderr",
     "output_type": "stream",
     "text": [
      "\rDictTransformer fit:  18%|█▊        | 1850322/10468770 [00:14<00:26, 325382.63it/s]"
     ]
    },
    {
     "name": "stderr",
     "output_type": "stream",
     "text": [
      "\rDictTransformer fit:  18%|█▊        | 1892213/10468770 [00:14<00:24, 348740.24it/s]"
     ]
    },
    {
     "name": "stderr",
     "output_type": "stream",
     "text": [
      "\rDictTransformer fit:  18%|█▊        | 1932323/10468770 [00:14<00:23, 362953.22it/s]"
     ]
    },
    {
     "name": "stderr",
     "output_type": "stream",
     "text": [
      "\rDictTransformer fit:  19%|█▉        | 1974557/10468770 [00:14<00:22, 378937.28it/s]"
     ]
    },
    {
     "name": "stderr",
     "output_type": "stream",
     "text": [
      "\rDictTransformer fit:  19%|█▉        | 2015203/10468770 [00:15<00:21, 386782.87it/s]"
     ]
    },
    {
     "name": "stderr",
     "output_type": "stream",
     "text": [
      "\rDictTransformer fit:  20%|█▉        | 2056337/10468770 [00:15<00:21, 393831.77it/s]"
     ]
    },
    {
     "name": "stderr",
     "output_type": "stream",
     "text": [
      "\rDictTransformer fit:  20%|██        | 2096088/10468770 [00:15<00:21, 387912.50it/s]"
     ]
    },
    {
     "name": "stderr",
     "output_type": "stream",
     "text": [
      "\rDictTransformer fit:  20%|██        | 2136128/10468770 [00:15<00:21, 391572.47it/s]"
     ]
    },
    {
     "name": "stderr",
     "output_type": "stream",
     "text": [
      "\rDictTransformer fit:  21%|██        | 2175488/10468770 [00:15<00:21, 391240.67it/s]"
     ]
    },
    {
     "name": "stderr",
     "output_type": "stream",
     "text": [
      "\rDictTransformer fit:  21%|██        | 2214754/10468770 [00:15<00:21, 390528.45it/s]"
     ]
    },
    {
     "name": "stderr",
     "output_type": "stream",
     "text": [
      "\rDictTransformer fit:  22%|██▏       | 2253907/10468770 [00:15<00:21, 377383.08it/s]"
     ]
    },
    {
     "name": "stderr",
     "output_type": "stream",
     "text": [
      "\rDictTransformer fit:  22%|██▏       | 2293812/10468770 [00:15<00:21, 383631.85it/s]"
     ]
    },
    {
     "name": "stderr",
     "output_type": "stream",
     "text": [
      "\rDictTransformer fit:  22%|██▏       | 2332317/10468770 [00:15<00:22, 360420.62it/s]"
     ]
    },
    {
     "name": "stderr",
     "output_type": "stream",
     "text": [
      "\rDictTransformer fit:  23%|██▎       | 2368745/10468770 [00:16<00:24, 334378.89it/s]"
     ]
    },
    {
     "name": "stderr",
     "output_type": "stream",
     "text": [
      "\rDictTransformer fit:  23%|██▎       | 2403946/10468770 [00:16<00:23, 339476.99it/s]"
     ]
    },
    {
     "name": "stderr",
     "output_type": "stream",
     "text": [
      "\rDictTransformer fit:  23%|██▎       | 2438365/10468770 [00:16<00:23, 338735.58it/s]"
     ]
    },
    {
     "name": "stderr",
     "output_type": "stream",
     "text": [
      "\rDictTransformer fit:  24%|██▎       | 2477911/10468770 [00:16<00:22, 353965.92it/s]"
     ]
    },
    {
     "name": "stderr",
     "output_type": "stream",
     "text": [
      "\rDictTransformer fit:  24%|██▍       | 2518857/10468770 [00:16<00:21, 368966.67it/s]"
     ]
    },
    {
     "name": "stderr",
     "output_type": "stream",
     "text": [
      "\rDictTransformer fit:  24%|██▍       | 2556205/10468770 [00:16<00:21, 367068.57it/s]"
     ]
    },
    {
     "name": "stderr",
     "output_type": "stream",
     "text": [
      "\rDictTransformer fit:  25%|██▍       | 2594934/10468770 [00:16<00:21, 372908.83it/s]"
     ]
    },
    {
     "name": "stderr",
     "output_type": "stream",
     "text": [
      "\rDictTransformer fit:  25%|██▌       | 2634901/10468770 [00:16<00:20, 380544.46it/s]"
     ]
    },
    {
     "name": "stderr",
     "output_type": "stream",
     "text": [
      "\rDictTransformer fit:  26%|██▌       | 2675718/10468770 [00:16<00:20, 388426.95it/s]"
     ]
    },
    {
     "name": "stderr",
     "output_type": "stream",
     "text": [
      "\rDictTransformer fit:  26%|██▌       | 2716051/10468770 [00:16<00:19, 392779.95it/s]"
     ]
    },
    {
     "name": "stderr",
     "output_type": "stream",
     "text": [
      "\rDictTransformer fit:  26%|██▋       | 2758008/10468770 [00:17<00:19, 400449.74it/s]"
     ]
    },
    {
     "name": "stderr",
     "output_type": "stream",
     "text": [
      "\rDictTransformer fit:  27%|██▋       | 2798190/10468770 [00:17<00:22, 343281.19it/s]"
     ]
    },
    {
     "name": "stderr",
     "output_type": "stream",
     "text": [
      "\rDictTransformer fit:  27%|██▋       | 2834043/10468770 [00:17<00:22, 336110.12it/s]"
     ]
    },
    {
     "name": "stderr",
     "output_type": "stream",
     "text": [
      "\rDictTransformer fit:  27%|██▋       | 2868755/10468770 [00:17<00:23, 329634.89it/s]"
     ]
    },
    {
     "name": "stderr",
     "output_type": "stream",
     "text": [
      "\rDictTransformer fit:  28%|██▊       | 2902517/10468770 [00:17<00:35, 211177.12it/s]"
     ]
    },
    {
     "name": "stderr",
     "output_type": "stream",
     "text": [
      "\rDictTransformer fit:  28%|██▊       | 2929596/10468770 [00:17<00:36, 204904.25it/s]"
     ]
    },
    {
     "name": "stderr",
     "output_type": "stream",
     "text": [
      "\rDictTransformer fit:  28%|██▊       | 2954300/10468770 [00:17<00:35, 211189.12it/s]"
     ]
    },
    {
     "name": "stderr",
     "output_type": "stream",
     "text": [
      "\rDictTransformer fit:  28%|██▊       | 2978417/10468770 [00:18<00:34, 215611.28it/s]"
     ]
    },
    {
     "name": "stderr",
     "output_type": "stream",
     "text": [
      "\rDictTransformer fit:  29%|██▊       | 3002100/10468770 [00:18<00:35, 213293.93it/s]"
     ]
    },
    {
     "name": "stderr",
     "output_type": "stream",
     "text": [
      "\rDictTransformer fit:  29%|██▉       | 3025520/10468770 [00:18<00:33, 219162.39it/s]"
     ]
    },
    {
     "name": "stderr",
     "output_type": "stream",
     "text": [
      "\rDictTransformer fit:  29%|██▉       | 3048520/10468770 [00:18<00:33, 221442.00it/s]"
     ]
    },
    {
     "name": "stderr",
     "output_type": "stream",
     "text": [
      "\rDictTransformer fit:  29%|██▉       | 3071429/10468770 [00:18<00:33, 219109.30it/s]"
     ]
    },
    {
     "name": "stderr",
     "output_type": "stream",
     "text": [
      "\rDictTransformer fit:  30%|██▉       | 3106463/10468770 [00:18<00:29, 246848.19it/s]"
     ]
    },
    {
     "name": "stderr",
     "output_type": "stream",
     "text": [
      "\rDictTransformer fit:  30%|██▉       | 3138303/10468770 [00:18<00:27, 264691.61it/s]"
     ]
    },
    {
     "name": "stderr",
     "output_type": "stream",
     "text": [
      "\rDictTransformer fit:  30%|███       | 3169877/10468770 [00:18<00:26, 278034.12it/s]"
     ]
    },
    {
     "name": "stderr",
     "output_type": "stream",
     "text": [
      "\rDictTransformer fit:  31%|███       | 3202082/10468770 [00:18<00:25, 289921.43it/s]"
     ]
    },
    {
     "name": "stderr",
     "output_type": "stream",
     "text": [
      "\rDictTransformer fit:  31%|███       | 3237297/10468770 [00:18<00:23, 306150.79it/s]"
     ]
    },
    {
     "name": "stderr",
     "output_type": "stream",
     "text": [
      "\rDictTransformer fit:  31%|███▏      | 3273438/10468770 [00:19<00:22, 320864.55it/s]"
     ]
    },
    {
     "name": "stderr",
     "output_type": "stream",
     "text": [
      "\rDictTransformer fit:  32%|███▏      | 3306353/10468770 [00:19<00:23, 307360.20it/s]"
     ]
    },
    {
     "name": "stderr",
     "output_type": "stream",
     "text": [
      "\rDictTransformer fit:  32%|███▏      | 3339619/10468770 [00:19<00:22, 314534.81it/s]"
     ]
    },
    {
     "name": "stderr",
     "output_type": "stream",
     "text": [
      "\rDictTransformer fit:  32%|███▏      | 3371605/10468770 [00:19<00:22, 311284.95it/s]"
     ]
    },
    {
     "name": "stderr",
     "output_type": "stream",
     "text": [
      "\rDictTransformer fit:  33%|███▎      | 3403114/10468770 [00:19<00:23, 306196.80it/s]"
     ]
    },
    {
     "name": "stderr",
     "output_type": "stream",
     "text": [
      "\rDictTransformer fit:  33%|███▎      | 3440020/10468770 [00:19<00:21, 322685.93it/s]"
     ]
    },
    {
     "name": "stderr",
     "output_type": "stream",
     "text": [
      "\rDictTransformer fit:  33%|███▎      | 3478811/10468770 [00:19<00:20, 339825.92it/s]"
     ]
    },
    {
     "name": "stderr",
     "output_type": "stream",
     "text": [
      "\rDictTransformer fit:  34%|███▎      | 3519005/10468770 [00:19<00:19, 356344.68it/s]"
     ]
    },
    {
     "name": "stderr",
     "output_type": "stream",
     "text": [
      "\rDictTransformer fit:  34%|███▍      | 3555235/10468770 [00:19<00:20, 345009.23it/s]"
     ]
    },
    {
     "name": "stderr",
     "output_type": "stream",
     "text": [
      "\rDictTransformer fit:  34%|███▍      | 3590514/10468770 [00:20<00:19, 347286.50it/s]"
     ]
    },
    {
     "name": "stderr",
     "output_type": "stream",
     "text": [
      "\rDictTransformer fit:  35%|███▍      | 3630477/10468770 [00:20<00:18, 361489.13it/s]"
     ]
    },
    {
     "name": "stderr",
     "output_type": "stream",
     "text": [
      "\rDictTransformer fit:  35%|███▌      | 3671943/10468770 [00:20<00:18, 375949.24it/s]"
     ]
    },
    {
     "name": "stderr",
     "output_type": "stream",
     "text": [
      "\rDictTransformer fit:  35%|███▌      | 3713888/10468770 [00:20<00:17, 388018.41it/s]"
     ]
    },
    {
     "name": "stderr",
     "output_type": "stream",
     "text": [
      "\rDictTransformer fit:  36%|███▌      | 3756509/10468770 [00:20<00:16, 398737.20it/s]"
     ]
    },
    {
     "name": "stderr",
     "output_type": "stream",
     "text": [
      "\rDictTransformer fit:  36%|███▋      | 3796734/10468770 [00:20<00:17, 386474.39it/s]"
     ]
    },
    {
     "name": "stderr",
     "output_type": "stream",
     "text": [
      "\rDictTransformer fit:  37%|███▋      | 3835709/10468770 [00:20<00:17, 368731.60it/s]"
     ]
    },
    {
     "name": "stderr",
     "output_type": "stream",
     "text": [
      "\rDictTransformer fit:  37%|███▋      | 3876182/10468770 [00:20<00:17, 378839.38it/s]"
     ]
    },
    {
     "name": "stderr",
     "output_type": "stream",
     "text": [
      "\rDictTransformer fit:  37%|███▋      | 3914983/10468770 [00:20<00:17, 381542.69it/s]"
     ]
    },
    {
     "name": "stderr",
     "output_type": "stream",
     "text": [
      "\rDictTransformer fit:  38%|███▊      | 3953387/10468770 [00:20<00:17, 373284.60it/s]"
     ]
    },
    {
     "name": "stderr",
     "output_type": "stream",
     "text": [
      "\rDictTransformer fit:  38%|███▊      | 3992520/10468770 [00:21<00:17, 378520.08it/s]"
     ]
    },
    {
     "name": "stderr",
     "output_type": "stream",
     "text": [
      "\rDictTransformer fit:  39%|███▊      | 4030540/10468770 [00:21<00:17, 373836.93it/s]"
     ]
    },
    {
     "name": "stderr",
     "output_type": "stream",
     "text": [
      "\rDictTransformer fit:  39%|███▉      | 4068055/10468770 [00:21<00:18, 353525.30it/s]"
     ]
    },
    {
     "name": "stderr",
     "output_type": "stream",
     "text": [
      "\rDictTransformer fit:  39%|███▉      | 4103728/10468770 [00:21<00:21, 299861.61it/s]"
     ]
    },
    {
     "name": "stderr",
     "output_type": "stream",
     "text": [
      "\rDictTransformer fit:  40%|███▉      | 4135342/10468770 [00:21<00:23, 268441.83it/s]"
     ]
    },
    {
     "name": "stderr",
     "output_type": "stream",
     "text": [
      "\rDictTransformer fit:  40%|███▉      | 4163943/10468770 [00:21<00:24, 258552.91it/s]"
     ]
    },
    {
     "name": "stderr",
     "output_type": "stream",
     "text": [
      "\rDictTransformer fit:  40%|████      | 4191107/10468770 [00:21<00:26, 236239.04it/s]"
     ]
    },
    {
     "name": "stderr",
     "output_type": "stream",
     "text": [
      "\rDictTransformer fit:  40%|████      | 4216021/10468770 [00:21<00:27, 226168.92it/s]"
     ]
    },
    {
     "name": "stderr",
     "output_type": "stream",
     "text": [
      "\rDictTransformer fit:  40%|████      | 4239632/10468770 [00:22<00:29, 213508.41it/s]"
     ]
    },
    {
     "name": "stderr",
     "output_type": "stream",
     "text": [
      "\rDictTransformer fit:  41%|████      | 4262413/10468770 [00:22<00:28, 217604.70it/s]"
     ]
    },
    {
     "name": "stderr",
     "output_type": "stream",
     "text": [
      "\rDictTransformer fit:  41%|████      | 4286476/10468770 [00:22<00:27, 223557.07it/s]"
     ]
    },
    {
     "name": "stderr",
     "output_type": "stream",
     "text": [
      "\rDictTransformer fit:  41%|████      | 4313253/10468770 [00:22<00:26, 234785.45it/s]"
     ]
    },
    {
     "name": "stderr",
     "output_type": "stream",
     "text": [
      "\rDictTransformer fit:  41%|████▏     | 4337652/10468770 [00:22<00:25, 237230.52it/s]"
     ]
    },
    {
     "name": "stderr",
     "output_type": "stream",
     "text": [
      "\rDictTransformer fit:  42%|████▏     | 4366659/10468770 [00:22<00:24, 250942.25it/s]"
     ]
    },
    {
     "name": "stderr",
     "output_type": "stream",
     "text": [
      "\rDictTransformer fit:  42%|████▏     | 4396972/10468770 [00:22<00:22, 264607.59it/s]"
     ]
    },
    {
     "name": "stderr",
     "output_type": "stream",
     "text": [
      "\rDictTransformer fit:  42%|████▏     | 4423948/10468770 [00:22<00:22, 263899.48it/s]"
     ]
    },
    {
     "name": "stderr",
     "output_type": "stream",
     "text": [
      "\rDictTransformer fit:  43%|████▎     | 4450699/10468770 [00:22<00:23, 260692.36it/s]"
     ]
    },
    {
     "name": "stderr",
     "output_type": "stream",
     "text": [
      "\rDictTransformer fit:  43%|████▎     | 4477591/10468770 [00:23<00:22, 263107.19it/s]"
     ]
    },
    {
     "name": "stderr",
     "output_type": "stream",
     "text": [
      "\rDictTransformer fit:  43%|████▎     | 4504334/10468770 [00:23<00:22, 264386.93it/s]"
     ]
    },
    {
     "name": "stderr",
     "output_type": "stream",
     "text": [
      "\rDictTransformer fit:  43%|████▎     | 4530906/10468770 [00:23<00:22, 258970.55it/s]"
     ]
    },
    {
     "name": "stderr",
     "output_type": "stream",
     "text": [
      "\rDictTransformer fit:  44%|████▎     | 4563046/10468770 [00:23<00:21, 274994.65it/s]"
     ]
    },
    {
     "name": "stderr",
     "output_type": "stream",
     "text": [
      "\rDictTransformer fit:  44%|████▍     | 4595169/10468770 [00:23<00:20, 287404.58it/s]"
     ]
    },
    {
     "name": "stderr",
     "output_type": "stream",
     "text": [
      "\rDictTransformer fit:  44%|████▍     | 4625486/10468770 [00:23<00:20, 291958.39it/s]"
     ]
    },
    {
     "name": "stderr",
     "output_type": "stream",
     "text": [
      "\rDictTransformer fit:  45%|████▍     | 4667040/10468770 [00:23<00:18, 320558.17it/s]"
     ]
    },
    {
     "name": "stderr",
     "output_type": "stream",
     "text": [
      "\rDictTransformer fit:  45%|████▍     | 4707090/10468770 [00:23<00:16, 340972.70it/s]"
     ]
    },
    {
     "name": "stderr",
     "output_type": "stream",
     "text": [
      "\rDictTransformer fit:  45%|████▌     | 4749223/10468770 [00:23<00:15, 361664.20it/s]"
     ]
    },
    {
     "name": "stderr",
     "output_type": "stream",
     "text": [
      "\rDictTransformer fit:  46%|████▌     | 4791948/10468770 [00:23<00:14, 379114.57it/s]"
     ]
    },
    {
     "name": "stderr",
     "output_type": "stream",
     "text": [
      "\rDictTransformer fit:  46%|████▌     | 4836711/10468770 [00:24<00:14, 397358.74it/s]"
     ]
    },
    {
     "name": "stderr",
     "output_type": "stream",
     "text": [
      "\rDictTransformer fit:  47%|████▋     | 4879860/10468770 [00:24<00:13, 407015.01it/s]"
     ]
    },
    {
     "name": "stderr",
     "output_type": "stream",
     "text": [
      "\rDictTransformer fit:  47%|████▋     | 4921270/10468770 [00:24<00:13, 398156.79it/s]"
     ]
    },
    {
     "name": "stderr",
     "output_type": "stream",
     "text": [
      "\rDictTransformer fit:  47%|████▋     | 4963685/10468770 [00:24<00:13, 405612.97it/s]"
     ]
    },
    {
     "name": "stderr",
     "output_type": "stream",
     "text": [
      "\rDictTransformer fit:  48%|████▊     | 5007658/10468770 [00:24<00:13, 415274.59it/s]"
     ]
    },
    {
     "name": "stderr",
     "output_type": "stream",
     "text": [
      "\rDictTransformer fit:  48%|████▊     | 5049530/10468770 [00:24<00:13, 404255.09it/s]"
     ]
    },
    {
     "name": "stderr",
     "output_type": "stream",
     "text": [
      "\rDictTransformer fit:  49%|████▊     | 5090261/10468770 [00:24<00:13, 401010.66it/s]"
     ]
    },
    {
     "name": "stderr",
     "output_type": "stream",
     "text": [
      "\rDictTransformer fit:  49%|████▉     | 5132402/10468770 [00:24<00:13, 406918.74it/s]"
     ]
    },
    {
     "name": "stderr",
     "output_type": "stream",
     "text": [
      "\rDictTransformer fit:  49%|████▉     | 5173414/10468770 [00:24<00:12, 407870.49it/s]"
     ]
    },
    {
     "name": "stderr",
     "output_type": "stream",
     "text": [
      "\rDictTransformer fit:  50%|████▉     | 5215995/10468770 [00:24<00:12, 413090.57it/s]"
     ]
    },
    {
     "name": "stderr",
     "output_type": "stream",
     "text": [
      "\rDictTransformer fit:  50%|█████     | 5257407/10468770 [00:25<00:12, 411219.18it/s]"
     ]
    },
    {
     "name": "stderr",
     "output_type": "stream",
     "text": [
      "\rDictTransformer fit:  51%|█████     | 5300541/10468770 [00:25<00:12, 417048.14it/s]"
     ]
    },
    {
     "name": "stderr",
     "output_type": "stream",
     "text": [
      "\rDictTransformer fit:  51%|█████     | 5342558/10468770 [00:25<00:12, 417977.56it/s]"
     ]
    },
    {
     "name": "stderr",
     "output_type": "stream",
     "text": [
      "\rDictTransformer fit:  51%|█████▏    | 5384407/10468770 [00:25<00:12, 417143.35it/s]"
     ]
    },
    {
     "name": "stderr",
     "output_type": "stream",
     "text": [
      "\rDictTransformer fit:  52%|█████▏    | 5426170/10468770 [00:25<00:12, 417286.66it/s]"
     ]
    },
    {
     "name": "stderr",
     "output_type": "stream",
     "text": [
      "\rDictTransformer fit:  52%|█████▏    | 5467924/10468770 [00:25<00:12, 387979.97it/s]"
     ]
    },
    {
     "name": "stderr",
     "output_type": "stream",
     "text": [
      "\rDictTransformer fit:  53%|█████▎    | 5507584/10468770 [00:25<00:12, 390522.63it/s]"
     ]
    },
    {
     "name": "stderr",
     "output_type": "stream",
     "text": [
      "\rDictTransformer fit:  53%|█████▎    | 5547096/10468770 [00:25<00:12, 391857.04it/s]"
     ]
    },
    {
     "name": "stderr",
     "output_type": "stream",
     "text": [
      "\rDictTransformer fit:  53%|█████▎    | 5586497/10468770 [00:25<00:12, 390236.96it/s]"
     ]
    },
    {
     "name": "stderr",
     "output_type": "stream",
     "text": [
      "\rDictTransformer fit:  54%|█████▍    | 5630164/10468770 [00:25<00:12, 402910.80it/s]"
     ]
    },
    {
     "name": "stderr",
     "output_type": "stream",
     "text": [
      "\rDictTransformer fit:  54%|█████▍    | 5670666/10468770 [00:26<00:11, 401420.73it/s]"
     ]
    },
    {
     "name": "stderr",
     "output_type": "stream",
     "text": [
      "\rDictTransformer fit:  55%|█████▍    | 5710957/10468770 [00:26<00:11, 399437.47it/s]"
     ]
    },
    {
     "name": "stderr",
     "output_type": "stream",
     "text": [
      "\rDictTransformer fit:  55%|█████▍    | 5753515/10468770 [00:26<00:11, 406935.38it/s]"
     ]
    },
    {
     "name": "stderr",
     "output_type": "stream",
     "text": [
      "\rDictTransformer fit:  55%|█████▌    | 5794318/10468770 [00:26<00:11, 402570.32it/s]"
     ]
    },
    {
     "name": "stderr",
     "output_type": "stream",
     "text": [
      "\rDictTransformer fit:  56%|█████▌    | 5834662/10468770 [00:26<00:11, 400681.33it/s]"
     ]
    },
    {
     "name": "stderr",
     "output_type": "stream",
     "text": [
      "\rDictTransformer fit:  56%|█████▌    | 5877560/10468770 [00:26<00:11, 408770.82it/s]"
     ]
    },
    {
     "name": "stderr",
     "output_type": "stream",
     "text": [
      "\rDictTransformer fit:  57%|█████▋    | 5918521/10468770 [00:26<00:11, 400525.00it/s]"
     ]
    },
    {
     "name": "stderr",
     "output_type": "stream",
     "text": [
      "\rDictTransformer fit:  57%|█████▋    | 5958670/10468770 [00:29<01:51, 40549.00it/s] "
     ]
    },
    {
     "name": "stderr",
     "output_type": "stream",
     "text": [
      "\rDictTransformer fit:  57%|█████▋    | 5991566/10468770 [00:29<01:21, 55020.51it/s]"
     ]
    },
    {
     "name": "stderr",
     "output_type": "stream",
     "text": [
      "\rDictTransformer fit:  58%|█████▊    | 6033078/10468770 [00:29<00:59, 74375.88it/s]"
     ]
    },
    {
     "name": "stderr",
     "output_type": "stream",
     "text": [
      "\rDictTransformer fit:  58%|█████▊    | 6076322/10468770 [00:30<00:44, 98956.88it/s]"
     ]
    },
    {
     "name": "stderr",
     "output_type": "stream",
     "text": [
      "\rDictTransformer fit:  58%|█████▊    | 6116092/10468770 [00:30<00:34, 127744.36it/s]"
     ]
    },
    {
     "name": "stderr",
     "output_type": "stream",
     "text": [
      "\rDictTransformer fit:  59%|█████▉    | 6155272/10468770 [00:30<00:26, 160117.69it/s]"
     ]
    },
    {
     "name": "stderr",
     "output_type": "stream",
     "text": [
      "\rDictTransformer fit:  59%|█████▉    | 6193165/10468770 [00:30<00:22, 191791.41it/s]"
     ]
    },
    {
     "name": "stderr",
     "output_type": "stream",
     "text": [
      "\rDictTransformer fit:  60%|█████▉    | 6234652/10468770 [00:30<00:18, 228680.27it/s]"
     ]
    },
    {
     "name": "stderr",
     "output_type": "stream",
     "text": [
      "\rDictTransformer fit:  60%|█████▉    | 6273870/10468770 [00:30<00:16, 261368.82it/s]"
     ]
    },
    {
     "name": "stderr",
     "output_type": "stream",
     "text": [
      "\rDictTransformer fit:  60%|██████    | 6317925/10468770 [00:30<00:13, 297692.08it/s]"
     ]
    },
    {
     "name": "stderr",
     "output_type": "stream",
     "text": [
      "\rDictTransformer fit:  61%|██████    | 6360509/10468770 [00:30<00:12, 327233.81it/s]"
     ]
    },
    {
     "name": "stderr",
     "output_type": "stream",
     "text": [
      "\rDictTransformer fit:  61%|██████    | 6401504/10468770 [00:30<00:11, 346938.32it/s]"
     ]
    },
    {
     "name": "stderr",
     "output_type": "stream",
     "text": [
      "\rDictTransformer fit:  62%|██████▏   | 6444900/10468770 [00:30<00:10, 369144.86it/s]"
     ]
    },
    {
     "name": "stderr",
     "output_type": "stream",
     "text": [
      "\rDictTransformer fit:  62%|██████▏   | 6489595/10468770 [00:31<00:10, 389485.22it/s]"
     ]
    },
    {
     "name": "stderr",
     "output_type": "stream",
     "text": [
      "\rDictTransformer fit:  62%|██████▏   | 6532676/10468770 [00:31<00:09, 401023.52it/s]"
     ]
    },
    {
     "name": "stderr",
     "output_type": "stream",
     "text": [
      "\rDictTransformer fit:  63%|██████▎   | 6575544/10468770 [00:31<00:09, 408933.74it/s]"
     ]
    },
    {
     "name": "stderr",
     "output_type": "stream",
     "text": [
      "\rDictTransformer fit:  63%|██████▎   | 6619326/10468770 [00:31<00:09, 417188.86it/s]"
     ]
    },
    {
     "name": "stderr",
     "output_type": "stream",
     "text": [
      "\rDictTransformer fit:  64%|██████▎   | 6662379/10468770 [00:31<00:09, 415867.09it/s]"
     ]
    },
    {
     "name": "stderr",
     "output_type": "stream",
     "text": [
      "\rDictTransformer fit:  64%|██████▍   | 6705649/10468770 [00:31<00:08, 420772.67it/s]"
     ]
    },
    {
     "name": "stderr",
     "output_type": "stream",
     "text": [
      "\rDictTransformer fit:  64%|██████▍   | 6750652/10468770 [00:31<00:08, 429141.43it/s]"
     ]
    },
    {
     "name": "stderr",
     "output_type": "stream",
     "text": [
      "\rDictTransformer fit:  65%|██████▍   | 6794075/10468770 [00:31<00:08, 424822.52it/s]"
     ]
    },
    {
     "name": "stderr",
     "output_type": "stream",
     "text": [
      "\rDictTransformer fit:  65%|██████▌   | 6838037/10468770 [00:31<00:08, 429155.02it/s]"
     ]
    },
    {
     "name": "stderr",
     "output_type": "stream",
     "text": [
      "\rDictTransformer fit:  66%|██████▌   | 6881220/10468770 [00:31<00:08, 427251.35it/s]"
     ]
    },
    {
     "name": "stderr",
     "output_type": "stream",
     "text": [
      "\rDictTransformer fit:  66%|██████▌   | 6924134/10468770 [00:32<00:08, 425116.95it/s]"
     ]
    },
    {
     "name": "stderr",
     "output_type": "stream",
     "text": [
      "\rDictTransformer fit:  67%|██████▋   | 6966781/10468770 [00:32<00:08, 407216.17it/s]"
     ]
    },
    {
     "name": "stderr",
     "output_type": "stream",
     "text": [
      "\rDictTransformer fit:  67%|██████▋   | 7007757/10468770 [00:32<00:08, 392423.00it/s]"
     ]
    },
    {
     "name": "stderr",
     "output_type": "stream",
     "text": [
      "\rDictTransformer fit:  67%|██████▋   | 7048664/10468770 [00:32<00:08, 397269.60it/s]"
     ]
    },
    {
     "name": "stderr",
     "output_type": "stream",
     "text": [
      "\rDictTransformer fit:  68%|██████▊   | 7088611/10468770 [00:32<00:08, 391931.53it/s]"
     ]
    },
    {
     "name": "stderr",
     "output_type": "stream",
     "text": [
      "\rDictTransformer fit:  68%|██████▊   | 7127975/10468770 [00:32<00:08, 381556.95it/s]"
     ]
    },
    {
     "name": "stderr",
     "output_type": "stream",
     "text": [
      "\rDictTransformer fit:  68%|██████▊   | 7166311/10468770 [00:32<00:09, 332576.88it/s]"
     ]
    },
    {
     "name": "stderr",
     "output_type": "stream",
     "text": [
      "\rDictTransformer fit:  69%|██████▉   | 7205547/10468770 [00:32<00:09, 348504.72it/s]"
     ]
    },
    {
     "name": "stderr",
     "output_type": "stream",
     "text": [
      "\rDictTransformer fit:  69%|██████▉   | 7247953/10468770 [00:32<00:08, 368182.73it/s]"
     ]
    },
    {
     "name": "stderr",
     "output_type": "stream",
     "text": [
      "\rDictTransformer fit:  70%|██████▉   | 7290092/10468770 [00:33<00:08, 382677.38it/s]"
     ]
    },
    {
     "name": "stderr",
     "output_type": "stream",
     "text": [
      "\rDictTransformer fit:  70%|███████   | 7331439/10468770 [00:33<00:08, 391421.36it/s]"
     ]
    },
    {
     "name": "stderr",
     "output_type": "stream",
     "text": [
      "\rDictTransformer fit:  70%|███████   | 7373418/10468770 [00:33<00:07, 399520.05it/s]"
     ]
    },
    {
     "name": "stderr",
     "output_type": "stream",
     "text": [
      "\rDictTransformer fit:  71%|███████   | 7414649/10468770 [00:33<00:07, 403272.77it/s]"
     ]
    },
    {
     "name": "stderr",
     "output_type": "stream",
     "text": [
      "\rDictTransformer fit:  71%|███████   | 7455387/10468770 [00:33<00:07, 404493.75it/s]"
     ]
    },
    {
     "name": "stderr",
     "output_type": "stream",
     "text": [
      "\rDictTransformer fit:  72%|███████▏  | 7497897/10468770 [00:33<00:07, 410460.61it/s]"
     ]
    },
    {
     "name": "stderr",
     "output_type": "stream",
     "text": [
      "\rDictTransformer fit:  72%|███████▏  | 7540589/10468770 [00:33<00:07, 415262.57it/s]"
     ]
    },
    {
     "name": "stderr",
     "output_type": "stream",
     "text": [
      "\rDictTransformer fit:  72%|███████▏  | 7582814/10468770 [00:33<00:06, 417330.68it/s]"
     ]
    },
    {
     "name": "stderr",
     "output_type": "stream",
     "text": [
      "\rDictTransformer fit:  73%|███████▎  | 7625635/10468770 [00:33<00:06, 420533.44it/s]"
     ]
    },
    {
     "name": "stderr",
     "output_type": "stream",
     "text": [
      "\rDictTransformer fit:  73%|███████▎  | 7669921/10468770 [00:33<00:06, 426988.88it/s]"
     ]
    },
    {
     "name": "stderr",
     "output_type": "stream",
     "text": [
      "\rDictTransformer fit:  74%|███████▎  | 7713602/10468770 [00:34<00:06, 429854.46it/s]"
     ]
    },
    {
     "name": "stderr",
     "output_type": "stream",
     "text": [
      "\rDictTransformer fit:  74%|███████▍  | 7756909/10468770 [00:34<00:06, 430813.91it/s]"
     ]
    },
    {
     "name": "stderr",
     "output_type": "stream",
     "text": [
      "\rDictTransformer fit:  75%|███████▍  | 7800035/10468770 [00:34<00:06, 423204.87it/s]"
     ]
    },
    {
     "name": "stderr",
     "output_type": "stream",
     "text": [
      "\rDictTransformer fit:  75%|███████▍  | 7843646/10468770 [00:34<00:06, 426993.22it/s]"
     ]
    },
    {
     "name": "stderr",
     "output_type": "stream",
     "text": [
      "\rDictTransformer fit:  75%|███████▌  | 7886970/10468770 [00:34<00:06, 428845.65it/s]"
     ]
    },
    {
     "name": "stderr",
     "output_type": "stream",
     "text": [
      "\rDictTransformer fit:  76%|███████▌  | 7930226/10468770 [00:34<00:05, 429950.61it/s]"
     ]
    },
    {
     "name": "stderr",
     "output_type": "stream",
     "text": [
      "\rDictTransformer fit:  76%|███████▌  | 7974040/10468770 [00:34<00:05, 432372.48it/s]"
     ]
    },
    {
     "name": "stderr",
     "output_type": "stream",
     "text": [
      "\rDictTransformer fit:  77%|███████▋  | 8017300/10468770 [00:34<00:05, 432412.08it/s]"
     ]
    },
    {
     "name": "stderr",
     "output_type": "stream",
     "text": [
      "\rDictTransformer fit:  77%|███████▋  | 8060557/10468770 [00:34<00:05, 423117.13it/s]"
     ]
    },
    {
     "name": "stderr",
     "output_type": "stream",
     "text": [
      "\rDictTransformer fit:  77%|███████▋  | 8103115/10468770 [00:34<00:05, 423851.90it/s]"
     ]
    },
    {
     "name": "stderr",
     "output_type": "stream",
     "text": [
      "\rDictTransformer fit:  78%|███████▊  | 8147883/10468770 [00:35<00:05, 430728.31it/s]"
     ]
    },
    {
     "name": "stderr",
     "output_type": "stream",
     "text": [
      "\rDictTransformer fit:  78%|███████▊  | 8192186/10468770 [00:35<00:05, 434342.65it/s]"
     ]
    },
    {
     "name": "stderr",
     "output_type": "stream",
     "text": [
      "\rDictTransformer fit:  79%|███████▊  | 8235666/10468770 [00:35<00:05, 426595.76it/s]"
     ]
    },
    {
     "name": "stderr",
     "output_type": "stream",
     "text": [
      "\rDictTransformer fit:  79%|███████▉  | 8279507/10468770 [00:35<00:05, 430069.13it/s]"
     ]
    },
    {
     "name": "stderr",
     "output_type": "stream",
     "text": [
      "\rDictTransformer fit:  79%|███████▉  | 8322565/10468770 [00:35<00:05, 424049.82it/s]"
     ]
    },
    {
     "name": "stderr",
     "output_type": "stream",
     "text": [
      "\rDictTransformer fit:  80%|███████▉  | 8365025/10468770 [00:35<00:04, 423580.10it/s]"
     ]
    },
    {
     "name": "stderr",
     "output_type": "stream",
     "text": [
      "\rDictTransformer fit:  80%|████████  | 8407422/10468770 [00:35<00:04, 415403.89it/s]"
     ]
    },
    {
     "name": "stderr",
     "output_type": "stream",
     "text": [
      "\rDictTransformer fit:  81%|████████  | 8449025/10468770 [00:35<00:05, 374891.30it/s]"
     ]
    },
    {
     "name": "stderr",
     "output_type": "stream",
     "text": [
      "\rDictTransformer fit:  81%|████████  | 8492778/10468770 [00:35<00:05, 391713.04it/s]"
     ]
    },
    {
     "name": "stderr",
     "output_type": "stream",
     "text": [
      "\rDictTransformer fit:  82%|████████▏ | 8534852/10468770 [00:36<00:04, 399989.36it/s]"
     ]
    },
    {
     "name": "stderr",
     "output_type": "stream",
     "text": [
      "\rDictTransformer fit:  82%|████████▏ | 8578000/10468770 [00:36<00:04, 408266.53it/s]"
     ]
    },
    {
     "name": "stderr",
     "output_type": "stream",
     "text": [
      "\rDictTransformer fit:  82%|████████▏ | 8621930/10468770 [00:36<00:04, 417102.65it/s]"
     ]
    },
    {
     "name": "stderr",
     "output_type": "stream",
     "text": [
      "\rDictTransformer fit:  83%|████████▎ | 8665664/10468770 [00:36<00:04, 422970.75it/s]"
     ]
    },
    {
     "name": "stderr",
     "output_type": "stream",
     "text": [
      "\rDictTransformer fit:  83%|████████▎ | 8708230/10468770 [00:36<00:04, 421409.14it/s]"
     ]
    },
    {
     "name": "stderr",
     "output_type": "stream",
     "text": [
      "\rDictTransformer fit:  84%|████████▎ | 8750561/10468770 [00:36<00:04, 417329.87it/s]"
     ]
    },
    {
     "name": "stderr",
     "output_type": "stream",
     "text": [
      "\rDictTransformer fit:  84%|████████▍ | 8794652/10468770 [00:36<00:03, 424134.59it/s]"
     ]
    },
    {
     "name": "stderr",
     "output_type": "stream",
     "text": [
      "\rDictTransformer fit:  84%|████████▍ | 8837192/10468770 [00:36<00:03, 423054.46it/s]"
     ]
    },
    {
     "name": "stderr",
     "output_type": "stream",
     "text": [
      "\rDictTransformer fit:  85%|████████▍ | 8880785/10468770 [00:36<00:03, 426836.37it/s]"
     ]
    },
    {
     "name": "stderr",
     "output_type": "stream",
     "text": [
      "\rDictTransformer fit:  85%|████████▌ | 8923539/10468770 [00:36<00:03, 425519.71it/s]"
     ]
    },
    {
     "name": "stderr",
     "output_type": "stream",
     "text": [
      "\rDictTransformer fit:  86%|████████▌ | 8966740/10468770 [00:37<00:03, 427442.42it/s]"
     ]
    },
    {
     "name": "stderr",
     "output_type": "stream",
     "text": [
      "\rDictTransformer fit:  86%|████████▌ | 9009992/10468770 [00:37<00:03, 428952.95it/s]"
     ]
    },
    {
     "name": "stderr",
     "output_type": "stream",
     "text": [
      "\rDictTransformer fit:  86%|████████▋ | 9052915/10468770 [00:37<00:03, 407204.76it/s]"
     ]
    },
    {
     "name": "stderr",
     "output_type": "stream",
     "text": [
      "\rDictTransformer fit:  87%|████████▋ | 9093885/10468770 [00:37<00:03, 399628.37it/s]"
     ]
    },
    {
     "name": "stderr",
     "output_type": "stream",
     "text": [
      "\rDictTransformer fit:  87%|████████▋ | 9136766/10468770 [00:37<00:03, 407955.86it/s]"
     ]
    },
    {
     "name": "stderr",
     "output_type": "stream",
     "text": [
      "\rDictTransformer fit:  88%|████████▊ | 9178695/10468770 [00:37<00:03, 411289.91it/s]"
     ]
    },
    {
     "name": "stderr",
     "output_type": "stream",
     "text": [
      "\rDictTransformer fit:  88%|████████▊ | 9221320/10468770 [00:37<00:03, 415659.37it/s]"
     ]
    },
    {
     "name": "stderr",
     "output_type": "stream",
     "text": [
      "\rDictTransformer fit:  88%|████████▊ | 9262994/10468770 [00:37<00:02, 415848.30it/s]"
     ]
    },
    {
     "name": "stderr",
     "output_type": "stream",
     "text": [
      "\rDictTransformer fit:  89%|████████▉ | 9304654/10468770 [00:37<00:02, 403378.43it/s]"
     ]
    },
    {
     "name": "stderr",
     "output_type": "stream",
     "text": [
      "\rDictTransformer fit:  89%|████████▉ | 9345430/10468770 [00:37<00:02, 404681.66it/s]"
     ]
    },
    {
     "name": "stderr",
     "output_type": "stream",
     "text": [
      "\rDictTransformer fit:  90%|████████▉ | 9385993/10468770 [00:38<00:02, 404583.88it/s]"
     ]
    },
    {
     "name": "stderr",
     "output_type": "stream",
     "text": [
      "\rDictTransformer fit:  90%|█████████ | 9427666/10468770 [00:38<00:02, 408152.54it/s]"
     ]
    },
    {
     "name": "stderr",
     "output_type": "stream",
     "text": [
      "\rDictTransformer fit:  90%|█████████ | 9469372/10468770 [00:38<00:02, 410782.08it/s]"
     ]
    },
    {
     "name": "stderr",
     "output_type": "stream",
     "text": [
      "\rDictTransformer fit:  91%|█████████ | 9510492/10468770 [00:38<00:02, 373641.04it/s]"
     ]
    },
    {
     "name": "stderr",
     "output_type": "stream",
     "text": [
      "\rDictTransformer fit:  91%|█████████ | 9551492/10468770 [00:38<00:02, 383852.96it/s]"
     ]
    },
    {
     "name": "stderr",
     "output_type": "stream",
     "text": [
      "\rDictTransformer fit:  92%|█████████▏| 9590421/10468770 [00:38<00:03, 279600.56it/s]"
     ]
    },
    {
     "name": "stderr",
     "output_type": "stream",
     "text": [
      "\rDictTransformer fit:  92%|█████████▏| 9626529/10468770 [00:38<00:02, 299901.39it/s]"
     ]
    },
    {
     "name": "stderr",
     "output_type": "stream",
     "text": [
      "\rDictTransformer fit:  92%|█████████▏| 9660031/10468770 [00:38<00:02, 301176.99it/s]"
     ]
    },
    {
     "name": "stderr",
     "output_type": "stream",
     "text": [
      "\rDictTransformer fit:  93%|█████████▎| 9692608/10468770 [00:39<00:02, 266626.14it/s]"
     ]
    },
    {
     "name": "stderr",
     "output_type": "stream",
     "text": [
      "\rDictTransformer fit:  93%|█████████▎| 9721722/10468770 [00:39<00:03, 195505.98it/s]"
     ]
    },
    {
     "name": "stderr",
     "output_type": "stream",
     "text": [
      "\rDictTransformer fit:  93%|█████████▎| 9745717/10468770 [00:39<00:03, 204102.89it/s]"
     ]
    },
    {
     "name": "stderr",
     "output_type": "stream",
     "text": [
      "\rDictTransformer fit:  93%|█████████▎| 9769691/10468770 [00:39<00:03, 213628.47it/s]"
     ]
    },
    {
     "name": "stderr",
     "output_type": "stream",
     "text": [
      "\rDictTransformer fit:  94%|█████████▎| 9796432/10468770 [00:39<00:02, 227342.20it/s]"
     ]
    },
    {
     "name": "stderr",
     "output_type": "stream",
     "text": [
      "\rDictTransformer fit:  94%|█████████▍| 9829844/10468770 [00:39<00:02, 251447.37it/s]"
     ]
    },
    {
     "name": "stderr",
     "output_type": "stream",
     "text": [
      "\rDictTransformer fit:  94%|█████████▍| 9865472/10468770 [00:39<00:02, 275791.59it/s]"
     ]
    },
    {
     "name": "stderr",
     "output_type": "stream",
     "text": [
      "\rDictTransformer fit:  95%|█████████▍| 9903300/10468770 [00:39<00:01, 300188.40it/s]"
     ]
    },
    {
     "name": "stderr",
     "output_type": "stream",
     "text": [
      "\rDictTransformer fit:  95%|█████████▍| 9941424/10468770 [00:40<00:01, 320637.08it/s]"
     ]
    },
    {
     "name": "stderr",
     "output_type": "stream",
     "text": [
      "\rDictTransformer fit:  95%|█████████▌| 9981724/10468770 [00:40<00:01, 341579.21it/s]"
     ]
    },
    {
     "name": "stderr",
     "output_type": "stream",
     "text": [
      "\rDictTransformer fit:  96%|█████████▌| 10021819/10468770 [00:40<00:01, 357458.30it/s]"
     ]
    },
    {
     "name": "stderr",
     "output_type": "stream",
     "text": [
      "\rDictTransformer fit:  96%|█████████▌| 10061834/10468770 [00:40<00:01, 369275.59it/s]"
     ]
    },
    {
     "name": "stderr",
     "output_type": "stream",
     "text": [
      "\rDictTransformer fit:  96%|█████████▋| 10100600/10468770 [00:40<00:00, 374601.92it/s]"
     ]
    },
    {
     "name": "stderr",
     "output_type": "stream",
     "text": [
      "\rDictTransformer fit:  97%|█████████▋| 10141527/10468770 [00:40<00:00, 384363.22it/s]"
     ]
    },
    {
     "name": "stderr",
     "output_type": "stream",
     "text": [
      "\rDictTransformer fit:  97%|█████████▋| 10183087/10468770 [00:40<00:00, 393227.56it/s]"
     ]
    },
    {
     "name": "stderr",
     "output_type": "stream",
     "text": [
      "\rDictTransformer fit:  98%|█████████▊| 10222882/10468770 [00:40<00:00, 365285.72it/s]"
     ]
    },
    {
     "name": "stderr",
     "output_type": "stream",
     "text": [
      "\rDictTransformer fit:  98%|█████████▊| 10260359/10468770 [00:40<00:00, 368077.99it/s]"
     ]
    },
    {
     "name": "stderr",
     "output_type": "stream",
     "text": [
      "\rDictTransformer fit:  98%|█████████▊| 10297682/10468770 [00:41<00:00, 341394.44it/s]"
     ]
    },
    {
     "name": "stderr",
     "output_type": "stream",
     "text": [
      "\rDictTransformer fit:  99%|█████████▊| 10332568/10468770 [00:41<00:00, 306830.16it/s]"
     ]
    },
    {
     "name": "stderr",
     "output_type": "stream",
     "text": [
      "\rDictTransformer fit:  99%|█████████▉| 10367631/10468770 [00:41<00:00, 318775.64it/s]"
     ]
    },
    {
     "name": "stderr",
     "output_type": "stream",
     "text": [
      "\rDictTransformer fit:  99%|█████████▉| 10407890/10468770 [00:41<00:00, 340010.79it/s]"
     ]
    },
    {
     "name": "stderr",
     "output_type": "stream",
     "text": [
      "\rDictTransformer fit: 100%|█████████▉| 10448963/10468770 [00:41<00:00, 358529.21it/s]"
     ]
    },
    {
     "name": "stderr",
     "output_type": "stream",
     "text": [
      "\rDictTransformer fit: 100%|██████████| 10468770/10468770 [00:41<00:00, 250735.36it/s]"
     ]
    },
    {
     "name": "stderr",
     "output_type": "stream",
     "text": [
      "\n"
     ]
    },
    {
     "name": "stderr",
     "output_type": "stream",
     "text": [
      "\rMorphologyExtractor transform:   0%|          | 0/105746 [00:00<?, ?it/s]"
     ]
    },
    {
     "name": "stderr",
     "output_type": "stream",
     "text": [
      "\rMorphologyExtractor transform:   2%|▏         | 1936/105746 [00:00<00:05, 19352.87it/s]"
     ]
    },
    {
     "name": "stderr",
     "output_type": "stream",
     "text": [
      "\rMorphologyExtractor transform:   4%|▍         | 4495/105746 [00:00<00:04, 20878.87it/s]"
     ]
    },
    {
     "name": "stderr",
     "output_type": "stream",
     "text": [
      "\rMorphologyExtractor transform:   7%|▋         | 7177/105746 [00:00<00:04, 22363.36it/s]"
     ]
    },
    {
     "name": "stderr",
     "output_type": "stream",
     "text": [
      "\rMorphologyExtractor transform:  10%|▉         | 10346/105746 [00:00<00:03, 24528.07it/s]"
     ]
    },
    {
     "name": "stderr",
     "output_type": "stream",
     "text": [
      "\rMorphologyExtractor transform:  13%|█▎        | 13839/105746 [00:00<00:03, 26924.87it/s]"
     ]
    },
    {
     "name": "stderr",
     "output_type": "stream",
     "text": [
      "\rMorphologyExtractor transform:  16%|█▌        | 17031/105746 [00:00<00:03, 28248.99it/s]"
     ]
    },
    {
     "name": "stderr",
     "output_type": "stream",
     "text": [
      "\rMorphologyExtractor transform:  19%|█▉        | 20476/105746 [00:00<00:02, 29860.89it/s]"
     ]
    },
    {
     "name": "stderr",
     "output_type": "stream",
     "text": [
      "\rMorphologyExtractor transform:  22%|██▏       | 23672/105746 [00:00<00:02, 30445.41it/s]"
     ]
    },
    {
     "name": "stderr",
     "output_type": "stream",
     "text": [
      "\rMorphologyExtractor transform:  25%|██▌       | 26951/105746 [00:00<00:02, 31109.78it/s]"
     ]
    },
    {
     "name": "stderr",
     "output_type": "stream",
     "text": [
      "\rMorphologyExtractor transform:  29%|██▉       | 30560/105746 [00:01<00:02, 32438.67it/s]"
     ]
    },
    {
     "name": "stderr",
     "output_type": "stream",
     "text": [
      "\rMorphologyExtractor transform:  33%|███▎      | 34709/105746 [00:01<00:02, 34706.28it/s]"
     ]
    },
    {
     "name": "stderr",
     "output_type": "stream",
     "text": [
      "\rMorphologyExtractor transform:  37%|███▋      | 38823/105746 [00:01<00:01, 36414.60it/s]"
     ]
    },
    {
     "name": "stderr",
     "output_type": "stream",
     "text": [
      "\rMorphologyExtractor transform:  40%|████      | 42673/105746 [00:01<00:01, 37012.48it/s]"
     ]
    },
    {
     "name": "stderr",
     "output_type": "stream",
     "text": [
      "\rMorphologyExtractor transform:  44%|████▍     | 47023/105746 [00:01<00:01, 38745.11it/s]"
     ]
    },
    {
     "name": "stderr",
     "output_type": "stream",
     "text": [
      "\rMorphologyExtractor transform:  49%|████▊     | 51322/105746 [00:01<00:01, 39927.74it/s]"
     ]
    },
    {
     "name": "stderr",
     "output_type": "stream",
     "text": [
      "\rMorphologyExtractor transform:  53%|█████▎    | 56218/105746 [00:01<00:01, 42265.16it/s]"
     ]
    },
    {
     "name": "stderr",
     "output_type": "stream",
     "text": [
      "\rMorphologyExtractor transform:  57%|█████▋    | 60586/105746 [00:01<00:01, 42677.61it/s]"
     ]
    },
    {
     "name": "stderr",
     "output_type": "stream",
     "text": [
      "\rMorphologyExtractor transform:  61%|██████▏   | 64902/105746 [00:01<00:00, 42798.39it/s]"
     ]
    },
    {
     "name": "stderr",
     "output_type": "stream",
     "text": [
      "\rMorphologyExtractor transform:  65%|██████▌   | 69216/105746 [00:03<00:05, 6525.23it/s] "
     ]
    },
    {
     "name": "stderr",
     "output_type": "stream",
     "text": [
      "\rMorphologyExtractor transform:  70%|██████▉   | 73541/105746 [00:03<00:03, 8755.57it/s]"
     ]
    },
    {
     "name": "stderr",
     "output_type": "stream",
     "text": [
      "\rMorphologyExtractor transform:  74%|███████▎  | 77904/105746 [00:03<00:02, 11516.88it/s]"
     ]
    },
    {
     "name": "stderr",
     "output_type": "stream",
     "text": [
      "\rMorphologyExtractor transform:  78%|███████▊  | 82669/105746 [00:04<00:01, 14905.80it/s]"
     ]
    },
    {
     "name": "stderr",
     "output_type": "stream",
     "text": [
      "\rMorphologyExtractor transform:  83%|████████▎ | 87307/105746 [00:04<00:00, 18715.08it/s]"
     ]
    },
    {
     "name": "stderr",
     "output_type": "stream",
     "text": [
      "\rMorphologyExtractor transform:  87%|████████▋ | 91900/105746 [00:04<00:00, 22759.71it/s]"
     ]
    },
    {
     "name": "stderr",
     "output_type": "stream",
     "text": [
      "\rMorphologyExtractor transform:  91%|█████████ | 96229/105746 [00:04<00:00, 26109.78it/s]"
     ]
    },
    {
     "name": "stderr",
     "output_type": "stream",
     "text": [
      "\rMorphologyExtractor transform:  96%|█████████▌| 101222/105746 [00:04<00:00, 30467.58it/s]"
     ]
    },
    {
     "name": "stderr",
     "output_type": "stream",
     "text": [
      "\rMorphologyExtractor transform: 100%|█████████▉| 105676/105746 [00:04<00:00, 31386.80it/s]"
     ]
    },
    {
     "name": "stderr",
     "output_type": "stream",
     "text": [
      "\rMorphologyExtractor transform: 100%|██████████| 105746/105746 [00:04<00:00, 22910.65it/s]"
     ]
    },
    {
     "name": "stderr",
     "output_type": "stream",
     "text": [
      "\n"
     ]
    },
    {
     "name": "stderr",
     "output_type": "stream",
     "text": [
      "\rMorphologyExtractor transform:   0%|          | 0/105746 [00:00<?, ?it/s]"
     ]
    },
    {
     "name": "stderr",
     "output_type": "stream",
     "text": [
      "\rMorphologyExtractor transform:   4%|▍         | 4167/105746 [00:00<00:02, 41669.94it/s]"
     ]
    },
    {
     "name": "stderr",
     "output_type": "stream",
     "text": [
      "\rMorphologyExtractor transform:   8%|▊         | 8752/105746 [00:00<00:02, 42841.06it/s]"
     ]
    },
    {
     "name": "stderr",
     "output_type": "stream",
     "text": [
      "\rMorphologyExtractor transform:  13%|█▎        | 13951/105746 [00:00<00:02, 45228.73it/s]"
     ]
    },
    {
     "name": "stderr",
     "output_type": "stream",
     "text": [
      "\rMorphologyExtractor transform:  18%|█▊        | 18842/105746 [00:00<00:01, 46270.15it/s]"
     ]
    },
    {
     "name": "stderr",
     "output_type": "stream",
     "text": [
      "\rMorphologyExtractor transform:  23%|██▎       | 24047/105746 [00:00<00:01, 47857.54it/s]"
     ]
    },
    {
     "name": "stderr",
     "output_type": "stream",
     "text": [
      "\rMorphologyExtractor transform:  28%|██▊       | 29085/105746 [00:00<00:01, 48585.56it/s]"
     ]
    },
    {
     "name": "stderr",
     "output_type": "stream",
     "text": [
      "\rMorphologyExtractor transform:  33%|███▎      | 34423/105746 [00:00<00:01, 49930.80it/s]"
     ]
    },
    {
     "name": "stderr",
     "output_type": "stream",
     "text": [
      "\rMorphologyExtractor transform:  37%|███▋      | 39520/105746 [00:00<00:01, 50206.00it/s]"
     ]
    },
    {
     "name": "stderr",
     "output_type": "stream",
     "text": [
      "\rMorphologyExtractor transform:  43%|████▎     | 45205/105746 [00:00<00:01, 52024.81it/s]"
     ]
    },
    {
     "name": "stderr",
     "output_type": "stream",
     "text": [
      "\rMorphologyExtractor transform:  48%|████▊     | 50293/105746 [00:01<00:01, 51656.27it/s]"
     ]
    },
    {
     "name": "stderr",
     "output_type": "stream",
     "text": [
      "\rMorphologyExtractor transform:  52%|█████▏    | 55364/105746 [00:01<00:01, 48451.96it/s]"
     ]
    },
    {
     "name": "stderr",
     "output_type": "stream",
     "text": [
      "\rMorphologyExtractor transform:  58%|█████▊    | 60888/105746 [00:01<00:00, 50302.55it/s]"
     ]
    },
    {
     "name": "stderr",
     "output_type": "stream",
     "text": [
      "\rMorphologyExtractor transform:  63%|██████▎   | 66221/105746 [00:01<00:00, 51166.88it/s]"
     ]
    },
    {
     "name": "stderr",
     "output_type": "stream",
     "text": [
      "\rMorphologyExtractor transform:  68%|██████▊   | 71424/105746 [00:01<00:00, 51420.19it/s]"
     ]
    },
    {
     "name": "stderr",
     "output_type": "stream",
     "text": [
      "\rMorphologyExtractor transform:  73%|███████▎  | 76868/105746 [00:01<00:00, 52276.80it/s]"
     ]
    },
    {
     "name": "stderr",
     "output_type": "stream",
     "text": [
      "\rMorphologyExtractor transform:  78%|███████▊  | 82504/105746 [00:01<00:00, 53437.95it/s]"
     ]
    },
    {
     "name": "stderr",
     "output_type": "stream",
     "text": [
      "\rMorphologyExtractor transform:  83%|████████▎ | 87858/105746 [00:01<00:00, 53089.66it/s]"
     ]
    },
    {
     "name": "stderr",
     "output_type": "stream",
     "text": [
      "\rMorphologyExtractor transform:  89%|████████▊ | 93693/105746 [00:01<00:00, 54565.24it/s]"
     ]
    },
    {
     "name": "stderr",
     "output_type": "stream",
     "text": [
      "\rMorphologyExtractor transform:  94%|█████████▍| 99464/105746 [00:01<00:00, 55467.44it/s]"
     ]
    },
    {
     "name": "stderr",
     "output_type": "stream",
     "text": [
      "\rMorphologyExtractor transform:  99%|█████████▉| 105026/105746 [00:02<00:00, 52287.48it/s]"
     ]
    },
    {
     "name": "stderr",
     "output_type": "stream",
     "text": [
      "\rMorphologyExtractor transform: 100%|██████████| 105746/105746 [00:02<00:00, 51354.22it/s]"
     ]
    },
    {
     "name": "stderr",
     "output_type": "stream",
     "text": [
      "\n\rMorphologyExtractor transform:   0%|          | 0/105746 [00:00<?, ?it/s]"
     ]
    },
    {
     "name": "stderr",
     "output_type": "stream",
     "text": [
      "\rMorphologyExtractor transform:   5%|▍         | 4821/105746 [00:00<00:02, 48208.44it/s]"
     ]
    },
    {
     "name": "stderr",
     "output_type": "stream",
     "text": [
      "\rMorphologyExtractor transform:  10%|█         | 10715/105746 [00:00<00:01, 50987.13it/s]"
     ]
    },
    {
     "name": "stderr",
     "output_type": "stream",
     "text": [
      "\rMorphologyExtractor transform:  16%|█▌        | 16497/105746 [00:00<00:01, 52849.73it/s]"
     ]
    },
    {
     "name": "stderr",
     "output_type": "stream",
     "text": [
      "\rMorphologyExtractor transform:  21%|██        | 22014/105746 [00:00<00:01, 53522.58it/s]"
     ]
    },
    {
     "name": "stderr",
     "output_type": "stream",
     "text": [
      "\rMorphologyExtractor transform:  26%|██▌       | 27290/105746 [00:00<00:01, 53280.66it/s]"
     ]
    },
    {
     "name": "stderr",
     "output_type": "stream",
     "text": [
      "\rMorphologyExtractor transform:  32%|███▏      | 33614/105746 [00:00<00:01, 55906.89it/s]"
     ]
    },
    {
     "name": "stderr",
     "output_type": "stream",
     "text": [
      "\rMorphologyExtractor transform:  37%|███▋      | 39193/105746 [00:00<00:01, 55871.43it/s]"
     ]
    },
    {
     "name": "stderr",
     "output_type": "stream",
     "text": [
      "\rMorphologyExtractor transform:  43%|████▎     | 45413/105746 [00:00<00:01, 57626.64it/s]"
     ]
    },
    {
     "name": "stderr",
     "output_type": "stream",
     "text": [
      "\rMorphologyExtractor transform:  48%|████▊     | 51130/105746 [00:00<00:00, 57476.25it/s]"
     ]
    },
    {
     "name": "stderr",
     "output_type": "stream",
     "text": [
      "\rMorphologyExtractor transform:  54%|█████▍    | 56938/105746 [00:01<00:00, 57628.78it/s]"
     ]
    },
    {
     "name": "stderr",
     "output_type": "stream",
     "text": [
      "\rMorphologyExtractor transform:  59%|█████▉    | 62771/105746 [00:01<00:00, 57837.02it/s]"
     ]
    },
    {
     "name": "stderr",
     "output_type": "stream",
     "text": [
      "\rMorphologyExtractor transform:  65%|██████▌   | 68875/105746 [00:01<00:00, 58761.87it/s]"
     ]
    },
    {
     "name": "stderr",
     "output_type": "stream",
     "text": [
      "\rMorphologyExtractor transform:  71%|███████   | 74963/105746 [00:01<00:00, 59375.10it/s]"
     ]
    },
    {
     "name": "stderr",
     "output_type": "stream",
     "text": [
      "\rMorphologyExtractor transform:  77%|███████▋  | 81077/105746 [00:01<00:00, 59891.82it/s]"
     ]
    },
    {
     "name": "stderr",
     "output_type": "stream",
     "text": [
      "\rMorphologyExtractor transform:  82%|████████▏ | 87043/105746 [00:01<00:00, 59011.53it/s]"
     ]
    },
    {
     "name": "stderr",
     "output_type": "stream",
     "text": [
      "\rMorphologyExtractor transform:  88%|████████▊ | 93162/105746 [00:01<00:00, 59647.92it/s]"
     ]
    },
    {
     "name": "stderr",
     "output_type": "stream",
     "text": [
      "\rMorphologyExtractor transform:  94%|█████████▍| 99292/105746 [00:01<00:00, 60131.64it/s]"
     ]
    },
    {
     "name": "stderr",
     "output_type": "stream",
     "text": [
      "\rMorphologyExtractor transform: 100%|█████████▉| 105447/105746 [00:01<00:00, 60540.03it/s]"
     ]
    },
    {
     "name": "stderr",
     "output_type": "stream",
     "text": [
      "\rMorphologyExtractor transform: 100%|██████████| 105746/105746 [00:01<00:00, 58224.24it/s]"
     ]
    },
    {
     "name": "stderr",
     "output_type": "stream",
     "text": [
      "\n"
     ]
    },
    {
     "name": "stderr",
     "output_type": "stream",
     "text": [
      "\rDigitTransformer transform:   0%|          | 0/105746 [00:00<?, ?it/s]"
     ]
    },
    {
     "name": "stderr",
     "output_type": "stream",
     "text": [
      "\rDigitTransformer transform:  69%|██████▉   | 73468/105746 [00:00<00:00, 734673.69it/s]"
     ]
    },
    {
     "name": "stderr",
     "output_type": "stream",
     "text": [
      "\rDigitTransformer transform: 100%|██████████| 105746/105746 [00:00<00:00, 749648.22it/s]"
     ]
    },
    {
     "name": "stderr",
     "output_type": "stream",
     "text": [
      "\n"
     ]
    },
    {
     "name": "stderr",
     "output_type": "stream",
     "text": [
      "\rDictClassTransformer_TRANS pre transform:   0%|          | 0/129409 [00:00<?, ?it/s]"
     ]
    },
    {
     "name": "stderr",
     "output_type": "stream",
     "text": [
      "\rDictClassTransformer_TRANS pre transform:  11%|█▏        | 14803/129409 [00:00<00:00, 148029.08it/s]"
     ]
    },
    {
     "name": "stderr",
     "output_type": "stream",
     "text": [
      "\rDictClassTransformer_TRANS pre transform:  23%|██▎       | 29586/129409 [00:00<00:00, 147968.39it/s]"
     ]
    },
    {
     "name": "stderr",
     "output_type": "stream",
     "text": [
      "\rDictClassTransformer_TRANS pre transform:  35%|███▍      | 44798/129409 [00:00<00:00, 149187.20it/s]"
     ]
    },
    {
     "name": "stderr",
     "output_type": "stream",
     "text": [
      "\rDictClassTransformer_TRANS pre transform:  47%|████▋     | 60335/129409 [00:00<00:00, 150987.59it/s]"
     ]
    },
    {
     "name": "stderr",
     "output_type": "stream",
     "text": [
      "\rDictClassTransformer_TRANS pre transform:  58%|█████▊    | 75501/129409 [00:00<00:00, 151184.63it/s]"
     ]
    },
    {
     "name": "stderr",
     "output_type": "stream",
     "text": [
      "\rDictClassTransformer_TRANS pre transform:  69%|██████▉   | 89554/129409 [00:00<00:00, 147819.53it/s]"
     ]
    },
    {
     "name": "stderr",
     "output_type": "stream",
     "text": [
      "\rDictClassTransformer_TRANS pre transform:  80%|███████▉  | 103511/129409 [00:00<00:00, 145241.40it/s]"
     ]
    },
    {
     "name": "stderr",
     "output_type": "stream",
     "text": [
      "\rDictClassTransformer_TRANS pre transform:  91%|█████████ | 117767/129409 [00:00<00:00, 144424.19it/s]"
     ]
    },
    {
     "name": "stderr",
     "output_type": "stream",
     "text": [
      "\rDictClassTransformer_TRANS pre transform: 100%|██████████| 129409/129409 [00:00<00:00, 147816.45it/s]"
     ]
    },
    {
     "name": "stderr",
     "output_type": "stream",
     "text": [
      "\n\rDictClassTransformer_TRANS transform:   0%|          | 0/105746 [00:00<?, ?it/s]"
     ]
    },
    {
     "name": "stderr",
     "output_type": "stream",
     "text": [
      "\rDictClassTransformer_TRANS transform:  71%|███████▏  | 75555/105746 [00:00<00:00, 755543.52it/s]"
     ]
    },
    {
     "name": "stderr",
     "output_type": "stream",
     "text": [
      "\rDictClassTransformer_TRANS transform: 100%|██████████| 105746/105746 [00:00<00:00, 831239.05it/s]"
     ]
    },
    {
     "name": "stderr",
     "output_type": "stream",
     "text": [
      "\n"
     ]
    },
    {
     "name": "stderr",
     "output_type": "stream",
     "text": [
      "\rDashTransformer transform:   0%|          | 0/105746 [00:00<?, ?it/s]"
     ]
    },
    {
     "name": "stderr",
     "output_type": "stream",
     "text": [
      "\rDashTransformer transform:  58%|█████▊    | 61582/105746 [00:00<00:00, 615814.71it/s]"
     ]
    },
    {
     "name": "stderr",
     "output_type": "stream",
     "text": [
      "\rDashTransformer transform: 100%|██████████| 105746/105746 [00:00<00:00, 636268.77it/s]"
     ]
    },
    {
     "name": "stderr",
     "output_type": "stream",
     "text": [
      "\n"
     ]
    },
    {
     "name": "stderr",
     "output_type": "stream",
     "text": [
      "\rDictClassTransformer_PUNCT pre transform:   0%|          | 0/22 [00:00<?, ?it/s]"
     ]
    },
    {
     "name": "stderr",
     "output_type": "stream",
     "text": [
      "\rDictClassTransformer_PUNCT pre transform: 100%|██████████| 22/22 [00:00<00:00, 36285.76it/s]"
     ]
    },
    {
     "name": "stderr",
     "output_type": "stream",
     "text": [
      "\n\rDictClassTransformer_PUNCT transform:   0%|          | 0/105746 [00:00<?, ?it/s]"
     ]
    },
    {
     "name": "stderr",
     "output_type": "stream",
     "text": [
      "\rDictClassTransformer_PUNCT transform:  75%|███████▌  | 79593/105746 [00:00<00:00, 795906.09it/s]"
     ]
    },
    {
     "name": "stderr",
     "output_type": "stream",
     "text": [
      "\rDictClassTransformer_PUNCT transform: 100%|██████████| 105746/105746 [00:00<00:00, 823482.32it/s]"
     ]
    },
    {
     "name": "stderr",
     "output_type": "stream",
     "text": [
      "\n"
     ]
    },
    {
     "name": "stderr",
     "output_type": "stream",
     "text": [
      "\rDictClassTransformer_VERBATIM pre transform:   0%|          | 0/2496 [00:00<?, ?it/s]"
     ]
    },
    {
     "name": "stderr",
     "output_type": "stream",
     "text": [
      "\rDictClassTransformer_VERBATIM pre transform: 100%|██████████| 2496/2496 [00:00<00:00, 161210.08it/s]"
     ]
    },
    {
     "name": "stderr",
     "output_type": "stream",
     "text": [
      "\n\rDictClassTransformer_VERBATIM transform:   0%|          | 0/105746 [00:00<?, ?it/s]"
     ]
    },
    {
     "name": "stderr",
     "output_type": "stream",
     "text": [
      "\rDictClassTransformer_VERBATIM transform:  94%|█████████▎| 98974/105746 [00:00<00:00, 989731.51it/s]"
     ]
    },
    {
     "name": "stderr",
     "output_type": "stream",
     "text": [
      "\rDictClassTransformer_VERBATIM transform: 100%|██████████| 105746/105746 [00:00<00:00, 983098.69it/s]"
     ]
    },
    {
     "name": "stderr",
     "output_type": "stream",
     "text": [
      "\n"
     ]
    },
    {
     "name": "stderr",
     "output_type": "stream",
     "text": [
      "\rLatinTransliterator transform:   0%|          | 0/105746 [00:00<?, ?it/s]"
     ]
    },
    {
     "name": "stderr",
     "output_type": "stream",
     "text": [
      "\rLatinTransliterator transform: 100%|██████████| 105746/105746 [00:00<00:00, 1032019.15it/s]"
     ]
    },
    {
     "name": "stderr",
     "output_type": "stream",
     "text": [
      "\n"
     ]
    },
    {
     "name": "stderr",
     "output_type": "stream",
     "text": [
      "\rMorphologyExtractor transform:   0%|          | 0/105746 [00:00<?, ?it/s]"
     ]
    },
    {
     "name": "stderr",
     "output_type": "stream",
     "text": [
      "\rMorphologyExtractor transform:   2%|▏         | 1697/105746 [00:00<00:06, 16948.12it/s]"
     ]
    },
    {
     "name": "stderr",
     "output_type": "stream",
     "text": [
      "\rMorphologyExtractor transform:   4%|▍         | 4256/105746 [00:00<00:05, 18858.59it/s]"
     ]
    },
    {
     "name": "stderr",
     "output_type": "stream",
     "text": [
      "\rMorphologyExtractor transform:   6%|▋         | 6698/105746 [00:00<00:04, 20239.22it/s]"
     ]
    },
    {
     "name": "stderr",
     "output_type": "stream",
     "text": [
      "\rMorphologyExtractor transform:   9%|▉         | 9522/105746 [00:00<00:04, 22115.78it/s]"
     ]
    },
    {
     "name": "stderr",
     "output_type": "stream",
     "text": [
      "\rMorphologyExtractor transform:  12%|█▏        | 12786/105746 [00:00<00:03, 24468.49it/s]"
     ]
    },
    {
     "name": "stderr",
     "output_type": "stream",
     "text": [
      "\rMorphologyExtractor transform:  16%|█▌        | 16409/105746 [00:00<00:03, 27106.48it/s]"
     ]
    },
    {
     "name": "stderr",
     "output_type": "stream",
     "text": [
      "\rMorphologyExtractor transform:  19%|█▉        | 19945/105746 [00:00<00:02, 29144.68it/s]"
     ]
    },
    {
     "name": "stderr",
     "output_type": "stream",
     "text": [
      "\rMorphologyExtractor transform:  22%|██▏       | 23618/105746 [00:00<00:02, 31068.56it/s]"
     ]
    },
    {
     "name": "stderr",
     "output_type": "stream",
     "text": [
      "\rMorphologyExtractor transform:  26%|██▌       | 27724/105746 [00:00<00:02, 33512.43it/s]"
     ]
    },
    {
     "name": "stderr",
     "output_type": "stream",
     "text": [
      "\rMorphologyExtractor transform:  30%|███       | 31949/105746 [00:01<00:02, 35725.70it/s]"
     ]
    },
    {
     "name": "stderr",
     "output_type": "stream",
     "text": [
      "\rMorphologyExtractor transform:  34%|███▍      | 35995/105746 [00:01<00:01, 37021.95it/s]"
     ]
    },
    {
     "name": "stderr",
     "output_type": "stream",
     "text": [
      "\rMorphologyExtractor transform:  38%|███▊      | 40317/105746 [00:01<00:01, 38680.93it/s]"
     ]
    },
    {
     "name": "stderr",
     "output_type": "stream",
     "text": [
      "\rMorphologyExtractor transform:  42%|████▏     | 44589/105746 [00:01<00:01, 39808.00it/s]"
     ]
    },
    {
     "name": "stderr",
     "output_type": "stream",
     "text": [
      "\rMorphologyExtractor transform:  46%|████▋     | 48948/105746 [00:01<00:01, 40870.79it/s]"
     ]
    },
    {
     "name": "stderr",
     "output_type": "stream",
     "text": [
      "\rMorphologyExtractor transform:  50%|█████     | 53276/105746 [00:01<00:01, 41561.21it/s]"
     ]
    },
    {
     "name": "stderr",
     "output_type": "stream",
     "text": [
      "\rMorphologyExtractor transform:  55%|█████▍    | 57873/105746 [00:01<00:01, 42787.54it/s]"
     ]
    },
    {
     "name": "stderr",
     "output_type": "stream",
     "text": [
      "\rMorphologyExtractor transform:  59%|█████▉    | 62275/105746 [00:01<00:01, 43146.44it/s]"
     ]
    },
    {
     "name": "stderr",
     "output_type": "stream",
     "text": [
      "\rMorphologyExtractor transform:  63%|██████▎   | 66977/105746 [00:01<00:00, 44239.66it/s]"
     ]
    },
    {
     "name": "stderr",
     "output_type": "stream",
     "text": [
      "\rMorphologyExtractor transform:  68%|██████▊   | 71653/105746 [00:01<00:00, 44964.67it/s]"
     ]
    },
    {
     "name": "stderr",
     "output_type": "stream",
     "text": [
      "\rMorphologyExtractor transform:  72%|███████▏  | 76244/105746 [00:02<00:00, 45237.44it/s]"
     ]
    },
    {
     "name": "stderr",
     "output_type": "stream",
     "text": [
      "\rMorphologyExtractor transform:  77%|███████▋  | 80906/105746 [00:02<00:00, 45640.18it/s]"
     ]
    },
    {
     "name": "stderr",
     "output_type": "stream",
     "text": [
      "\rMorphologyExtractor transform:  81%|████████  | 85707/105746 [00:02<00:00, 46325.79it/s]"
     ]
    },
    {
     "name": "stderr",
     "output_type": "stream",
     "text": [
      "\rMorphologyExtractor transform:  85%|████████▌ | 90408/105746 [00:02<00:00, 46519.97it/s]"
     ]
    },
    {
     "name": "stderr",
     "output_type": "stream",
     "text": [
      "\rMorphologyExtractor transform:  90%|████████▉ | 95068/105746 [00:02<00:00, 46372.76it/s]"
     ]
    },
    {
     "name": "stderr",
     "output_type": "stream",
     "text": [
      "\rMorphologyExtractor transform:  94%|█████████▍| 99812/105746 [00:02<00:00, 46686.32it/s]"
     ]
    },
    {
     "name": "stderr",
     "output_type": "stream",
     "text": [
      "\rMorphologyExtractor transform:  99%|█████████▉| 104825/105746 [00:02<00:00, 47659.87it/s]"
     ]
    },
    {
     "name": "stderr",
     "output_type": "stream",
     "text": [
      "\rMorphologyExtractor transform: 100%|██████████| 105746/105746 [00:02<00:00, 40218.08it/s]"
     ]
    },
    {
     "name": "stderr",
     "output_type": "stream",
     "text": [
      "\n\rMorphologyExtractor transform:   0%|          | 0/105746 [00:00<?, ?it/s]"
     ]
    },
    {
     "name": "stderr",
     "output_type": "stream",
     "text": [
      "\rMorphologyExtractor transform:   5%|▍         | 4795/105746 [00:00<00:02, 47888.28it/s]"
     ]
    },
    {
     "name": "stderr",
     "output_type": "stream",
     "text": [
      "\rMorphologyExtractor transform:   8%|▊         | 8400/105746 [00:00<00:02, 43575.59it/s]"
     ]
    },
    {
     "name": "stderr",
     "output_type": "stream",
     "text": [
      "\rMorphologyExtractor transform:  13%|█▎        | 13726/105746 [00:00<00:01, 46089.65it/s]"
     ]
    },
    {
     "name": "stderr",
     "output_type": "stream",
     "text": [
      "\rMorphologyExtractor transform:  18%|█▊        | 18594/105746 [00:00<00:01, 46836.55it/s]"
     ]
    },
    {
     "name": "stderr",
     "output_type": "stream",
     "text": [
      "\rMorphologyExtractor transform:  22%|██▏       | 23769/105746 [00:00<00:01, 48209.59it/s]"
     ]
    },
    {
     "name": "stderr",
     "output_type": "stream",
     "text": [
      "\rMorphologyExtractor transform:  28%|██▊       | 29111/105746 [00:00<00:01, 49644.24it/s]"
     ]
    },
    {
     "name": "stderr",
     "output_type": "stream",
     "text": [
      "\rMorphologyExtractor transform:  32%|███▏      | 34205/105746 [00:00<00:01, 50025.69it/s]"
     ]
    },
    {
     "name": "stderr",
     "output_type": "stream",
     "text": [
      "\rMorphologyExtractor transform:  37%|███▋      | 39417/105746 [00:00<00:01, 50635.19it/s]"
     ]
    },
    {
     "name": "stderr",
     "output_type": "stream",
     "text": [
      "\rMorphologyExtractor transform:  42%|████▏     | 44232/105746 [00:00<00:01, 49322.21it/s]"
     ]
    },
    {
     "name": "stderr",
     "output_type": "stream",
     "text": [
      "\rMorphologyExtractor transform:  46%|████▋     | 48998/105746 [00:01<00:01, 47859.25it/s]"
     ]
    },
    {
     "name": "stderr",
     "output_type": "stream",
     "text": [
      "\rMorphologyExtractor transform:  51%|█████     | 53743/105746 [00:01<00:01, 47731.15it/s]"
     ]
    },
    {
     "name": "stderr",
     "output_type": "stream",
     "text": [
      "\rMorphologyExtractor transform:  55%|█████▌    | 58442/105746 [00:01<00:01, 46831.82it/s]"
     ]
    },
    {
     "name": "stderr",
     "output_type": "stream",
     "text": [
      "\rMorphologyExtractor transform:  60%|██████    | 63509/105746 [00:01<00:00, 47915.63it/s]"
     ]
    },
    {
     "name": "stderr",
     "output_type": "stream",
     "text": [
      "\rMorphologyExtractor transform:  65%|██████▌   | 69050/105746 [00:01<00:00, 49941.67it/s]"
     ]
    },
    {
     "name": "stderr",
     "output_type": "stream",
     "text": [
      "\rMorphologyExtractor transform:  70%|███████   | 74047/105746 [00:01<00:00, 48433.55it/s]"
     ]
    },
    {
     "name": "stderr",
     "output_type": "stream",
     "text": [
      "\rMorphologyExtractor transform:  75%|███████▌  | 79641/105746 [00:01<00:00, 50454.45it/s]"
     ]
    },
    {
     "name": "stderr",
     "output_type": "stream",
     "text": [
      "\rMorphologyExtractor transform:  80%|████████  | 84776/105746 [00:01<00:00, 50719.80it/s]"
     ]
    },
    {
     "name": "stderr",
     "output_type": "stream",
     "text": [
      "\rMorphologyExtractor transform:  85%|████████▍ | 89870/105746 [00:01<00:00, 49083.91it/s]"
     ]
    },
    {
     "name": "stderr",
     "output_type": "stream",
     "text": [
      "\rMorphologyExtractor transform:  90%|████████▉ | 94805/105746 [00:01<00:00, 45520.47it/s]"
     ]
    },
    {
     "name": "stderr",
     "output_type": "stream",
     "text": [
      "\rMorphologyExtractor transform:  94%|█████████▍| 99761/105746 [00:02<00:00, 46661.43it/s]"
     ]
    },
    {
     "name": "stderr",
     "output_type": "stream",
     "text": [
      "\rMorphologyExtractor transform:  99%|█████████▉| 104484/105746 [00:02<00:00, 46608.15it/s]"
     ]
    },
    {
     "name": "stderr",
     "output_type": "stream",
     "text": [
      "\rMorphologyExtractor transform: 100%|██████████| 105746/105746 [00:02<00:00, 48117.02it/s]"
     ]
    },
    {
     "name": "stderr",
     "output_type": "stream",
     "text": [
      "\n"
     ]
    },
    {
     "name": "stderr",
     "output_type": "stream",
     "text": [
      "\rMorphologyExtractor transform:   0%|          | 0/105746 [00:00<?, ?it/s]"
     ]
    },
    {
     "name": "stderr",
     "output_type": "stream",
     "text": [
      "\rMorphologyExtractor transform:   4%|▍         | 4329/105746 [00:00<00:02, 43280.03it/s]"
     ]
    },
    {
     "name": "stderr",
     "output_type": "stream",
     "text": [
      "\rMorphologyExtractor transform:   8%|▊         | 8642/105746 [00:00<00:02, 43229.10it/s]"
     ]
    },
    {
     "name": "stderr",
     "output_type": "stream",
     "text": [
      "\rMorphologyExtractor transform:  13%|█▎        | 13339/105746 [00:00<00:02, 44287.13it/s]"
     ]
    },
    {
     "name": "stderr",
     "output_type": "stream",
     "text": [
      "\rMorphologyExtractor transform:  17%|█▋        | 18006/105746 [00:00<00:01, 44973.95it/s]"
     ]
    },
    {
     "name": "stderr",
     "output_type": "stream",
     "text": [
      "\rMorphologyExtractor transform:  22%|██▏       | 23112/105746 [00:00<00:01, 46641.76it/s]"
     ]
    },
    {
     "name": "stderr",
     "output_type": "stream",
     "text": [
      "\rMorphologyExtractor transform:  26%|██▋       | 27982/105746 [00:00<00:01, 47235.66it/s]"
     ]
    },
    {
     "name": "stderr",
     "output_type": "stream",
     "text": [
      "\rMorphologyExtractor transform:  32%|███▏      | 33357/105746 [00:00<00:01, 49017.22it/s]"
     ]
    },
    {
     "name": "stderr",
     "output_type": "stream",
     "text": [
      "\rMorphologyExtractor transform:  36%|███▋      | 38421/105746 [00:00<00:01, 49470.84it/s]"
     ]
    },
    {
     "name": "stderr",
     "output_type": "stream",
     "text": [
      "\rMorphologyExtractor transform:  42%|████▏     | 44527/105746 [00:00<00:01, 52437.94it/s]"
     ]
    },
    {
     "name": "stderr",
     "output_type": "stream",
     "text": [
      "\rMorphologyExtractor transform:  47%|████▋     | 49660/105746 [00:01<00:01, 51754.76it/s]"
     ]
    },
    {
     "name": "stderr",
     "output_type": "stream",
     "text": [
      "\rMorphologyExtractor transform:  52%|█████▏    | 54760/105746 [00:01<00:01, 50165.46it/s]"
     ]
    },
    {
     "name": "stderr",
     "output_type": "stream",
     "text": [
      "\rMorphologyExtractor transform:  57%|█████▋    | 59906/105746 [00:01<00:00, 50540.20it/s]"
     ]
    },
    {
     "name": "stderr",
     "output_type": "stream",
     "text": [
      "\rMorphologyExtractor transform:  61%|██████▏   | 64931/105746 [00:01<00:00, 49578.19it/s]"
     ]
    },
    {
     "name": "stderr",
     "output_type": "stream",
     "text": [
      "\rMorphologyExtractor transform:  66%|██████▋   | 70268/105746 [00:01<00:00, 50653.43it/s]"
     ]
    },
    {
     "name": "stderr",
     "output_type": "stream",
     "text": [
      "\rMorphologyExtractor transform:  72%|███████▏  | 75814/105746 [00:01<00:00, 51939.24it/s]"
     ]
    },
    {
     "name": "stderr",
     "output_type": "stream",
     "text": [
      "\rMorphologyExtractor transform:  77%|███████▋  | 81428/105746 [00:01<00:00, 53131.35it/s]"
     ]
    },
    {
     "name": "stderr",
     "output_type": "stream",
     "text": [
      "\rMorphologyExtractor transform:  82%|████████▏ | 86751/105746 [00:01<00:00, 52330.39it/s]"
     ]
    },
    {
     "name": "stderr",
     "output_type": "stream",
     "text": [
      "\rMorphologyExtractor transform:  87%|████████▋ | 91994/105746 [00:01<00:00, 52189.06it/s]"
     ]
    },
    {
     "name": "stderr",
     "output_type": "stream",
     "text": [
      "\rMorphologyExtractor transform:  92%|█████████▏| 97482/105746 [00:01<00:00, 52950.91it/s]"
     ]
    },
    {
     "name": "stderr",
     "output_type": "stream",
     "text": [
      "\rMorphologyExtractor transform:  97%|█████████▋| 102785/105746 [00:02<00:00, 52865.92it/s]"
     ]
    },
    {
     "name": "stderr",
     "output_type": "stream",
     "text": [
      "\rMorphologyExtractor transform: 100%|██████████| 105746/105746 [00:02<00:00, 50584.36it/s]"
     ]
    },
    {
     "name": "stderr",
     "output_type": "stream",
     "text": [
      "\n"
     ]
    },
    {
     "name": "stderr",
     "output_type": "stream",
     "text": [
      "\rDictNBHDTransformer pre transform:   0%|          | 0/7640906 [00:00<?, ?it/s]"
     ]
    },
    {
     "name": "stderr",
     "output_type": "stream",
     "text": [
      "\rDictNBHDTransformer pre transform:   0%|          | 22569/7640906 [00:00<00:33, 225681.61it/s]"
     ]
    },
    {
     "name": "stderr",
     "output_type": "stream",
     "text": [
      "\rDictNBHDTransformer pre transform:   1%|          | 46010/7640906 [00:00<00:33, 228224.49it/s]"
     ]
    },
    {
     "name": "stderr",
     "output_type": "stream",
     "text": [
      "\rDictNBHDTransformer pre transform:   1%|          | 71320/7640906 [00:00<00:32, 235154.13it/s]"
     ]
    },
    {
     "name": "stderr",
     "output_type": "stream",
     "text": [
      "\rDictNBHDTransformer pre transform:   1%|▏         | 97332/7640906 [00:00<00:31, 242123.10it/s]"
     ]
    },
    {
     "name": "stderr",
     "output_type": "stream",
     "text": [
      "\rDictNBHDTransformer pre transform:   2%|▏         | 126619/7640906 [00:00<00:29, 255394.64it/s]"
     ]
    },
    {
     "name": "stderr",
     "output_type": "stream",
     "text": [
      "\rDictNBHDTransformer pre transform:   2%|▏         | 155443/7640906 [00:00<00:28, 264434.34it/s]"
     ]
    },
    {
     "name": "stderr",
     "output_type": "stream",
     "text": [
      "\rDictNBHDTransformer pre transform:   2%|▏         | 182194/7640906 [00:00<00:28, 265342.51it/s]"
     ]
    },
    {
     "name": "stderr",
     "output_type": "stream",
     "text": [
      "\rDictNBHDTransformer pre transform:   3%|▎         | 213688/7640906 [00:00<00:26, 278495.83it/s]"
     ]
    },
    {
     "name": "stderr",
     "output_type": "stream",
     "text": [
      "\rDictNBHDTransformer pre transform:   3%|▎         | 244318/7640906 [00:00<00:25, 286289.62it/s]"
     ]
    },
    {
     "name": "stderr",
     "output_type": "stream",
     "text": [
      "\rDictNBHDTransformer pre transform:   4%|▎         | 274652/7640906 [00:01<00:25, 291198.30it/s]"
     ]
    },
    {
     "name": "stderr",
     "output_type": "stream",
     "text": [
      "\rDictNBHDTransformer pre transform:   4%|▍         | 309007/7640906 [00:01<00:24, 305145.24it/s]"
     ]
    },
    {
     "name": "stderr",
     "output_type": "stream",
     "text": [
      "\rDictNBHDTransformer pre transform:   4%|▍         | 341165/7640906 [00:01<00:23, 309894.70it/s]"
     ]
    },
    {
     "name": "stderr",
     "output_type": "stream",
     "text": [
      "\rDictNBHDTransformer pre transform:   5%|▍         | 372084/7640906 [00:01<00:25, 286237.18it/s]"
     ]
    },
    {
     "name": "stderr",
     "output_type": "stream",
     "text": [
      "\rDictNBHDTransformer pre transform:   5%|▌         | 401575/7640906 [00:01<00:25, 288777.38it/s]"
     ]
    },
    {
     "name": "stderr",
     "output_type": "stream",
     "text": [
      "\rDictNBHDTransformer pre transform:   6%|▌         | 430674/7640906 [00:01<00:25, 287477.36it/s]"
     ]
    },
    {
     "name": "stderr",
     "output_type": "stream",
     "text": [
      "\rDictNBHDTransformer pre transform:   6%|▌         | 459578/7640906 [00:01<00:25, 278944.97it/s]"
     ]
    },
    {
     "name": "stderr",
     "output_type": "stream",
     "text": [
      "\rDictNBHDTransformer pre transform:   6%|▋         | 487638/7640906 [00:01<00:25, 276391.51it/s]"
     ]
    },
    {
     "name": "stderr",
     "output_type": "stream",
     "text": [
      "\rDictNBHDTransformer pre transform:   7%|▋         | 519356/7640906 [00:01<00:24, 287481.49it/s]"
     ]
    },
    {
     "name": "stderr",
     "output_type": "stream",
     "text": [
      "\rDictNBHDTransformer pre transform:   7%|▋         | 552470/7640906 [00:01<00:23, 299319.60it/s]"
     ]
    },
    {
     "name": "stderr",
     "output_type": "stream",
     "text": [
      "\rDictNBHDTransformer pre transform:   8%|▊         | 585709/7640906 [00:02<00:22, 308525.31it/s]"
     ]
    },
    {
     "name": "stderr",
     "output_type": "stream",
     "text": [
      "\rDictNBHDTransformer pre transform:   8%|▊         | 619317/7640906 [00:02<00:22, 316304.35it/s]"
     ]
    },
    {
     "name": "stderr",
     "output_type": "stream",
     "text": [
      "\rDictNBHDTransformer pre transform:   9%|▊         | 653308/7640906 [00:02<00:21, 323031.69it/s]"
     ]
    },
    {
     "name": "stderr",
     "output_type": "stream",
     "text": [
      "\rDictNBHDTransformer pre transform:   9%|▉         | 689437/7640906 [00:02<00:20, 333630.36it/s]"
     ]
    },
    {
     "name": "stderr",
     "output_type": "stream",
     "text": [
      "\rDictNBHDTransformer pre transform:   9%|▉         | 723025/7640906 [00:02<00:25, 271178.59it/s]"
     ]
    },
    {
     "name": "stderr",
     "output_type": "stream",
     "text": [
      "\rDictNBHDTransformer pre transform:  10%|▉         | 757398/7640906 [00:02<00:23, 289509.98it/s]"
     ]
    },
    {
     "name": "stderr",
     "output_type": "stream",
     "text": [
      "\rDictNBHDTransformer pre transform:  10%|█         | 791340/7640906 [00:02<00:22, 302869.78it/s]"
     ]
    },
    {
     "name": "stderr",
     "output_type": "stream",
     "text": [
      "\rDictNBHDTransformer pre transform:  11%|█         | 825804/7640906 [00:02<00:21, 314296.86it/s]"
     ]
    },
    {
     "name": "stderr",
     "output_type": "stream",
     "text": [
      "\rDictNBHDTransformer pre transform:  11%|█         | 859226/7640906 [00:02<00:21, 320016.88it/s]"
     ]
    },
    {
     "name": "stderr",
     "output_type": "stream",
     "text": [
      "\rDictNBHDTransformer pre transform:  12%|█▏        | 893271/7640906 [00:03<00:20, 325883.75it/s]"
     ]
    },
    {
     "name": "stderr",
     "output_type": "stream",
     "text": [
      "\rDictNBHDTransformer pre transform:  12%|█▏        | 927319/7640906 [00:03<00:20, 330128.69it/s]"
     ]
    },
    {
     "name": "stderr",
     "output_type": "stream",
     "text": [
      "\rDictNBHDTransformer pre transform:  13%|█▎        | 961315/7640906 [00:03<00:20, 333013.75it/s]"
     ]
    },
    {
     "name": "stderr",
     "output_type": "stream",
     "text": [
      "\rDictNBHDTransformer pre transform:  13%|█▎        | 998304/7640906 [00:03<00:19, 343276.77it/s]"
     ]
    },
    {
     "name": "stderr",
     "output_type": "stream",
     "text": [
      "\rDictNBHDTransformer pre transform:  14%|█▎        | 1035435/7640906 [00:03<00:18, 351231.36it/s]"
     ]
    },
    {
     "name": "stderr",
     "output_type": "stream",
     "text": [
      "\rDictNBHDTransformer pre transform:  14%|█▍        | 1070863/7640906 [00:03<00:18, 352137.28it/s]"
     ]
    },
    {
     "name": "stderr",
     "output_type": "stream",
     "text": [
      "\rDictNBHDTransformer pre transform:  14%|█▍        | 1106252/7640906 [00:03<00:18, 348762.51it/s]"
     ]
    },
    {
     "name": "stderr",
     "output_type": "stream",
     "text": [
      "\rDictNBHDTransformer pre transform:  15%|█▍        | 1141258/7640906 [00:03<00:18, 345767.52it/s]"
     ]
    },
    {
     "name": "stderr",
     "output_type": "stream",
     "text": [
      "\rDictNBHDTransformer pre transform:  15%|█▌        | 1176102/7640906 [00:03<00:18, 346563.82it/s]"
     ]
    },
    {
     "name": "stderr",
     "output_type": "stream",
     "text": [
      "\rDictNBHDTransformer pre transform:  16%|█▌        | 1214394/7640906 [00:03<00:18, 356724.39it/s]"
     ]
    },
    {
     "name": "stderr",
     "output_type": "stream",
     "text": [
      "\rDictNBHDTransformer pre transform:  16%|█▋        | 1250189/7640906 [00:04<00:18, 350228.00it/s]"
     ]
    },
    {
     "name": "stderr",
     "output_type": "stream",
     "text": [
      "\rDictNBHDTransformer pre transform:  17%|█▋        | 1285324/7640906 [00:04<00:18, 344590.81it/s]"
     ]
    },
    {
     "name": "stderr",
     "output_type": "stream",
     "text": [
      "\rDictNBHDTransformer pre transform:  17%|█▋        | 1319882/7640906 [00:04<00:18, 337008.60it/s]"
     ]
    },
    {
     "name": "stderr",
     "output_type": "stream",
     "text": [
      "\rDictNBHDTransformer pre transform:  18%|█▊        | 1353690/7640906 [00:04<00:18, 333405.05it/s]"
     ]
    },
    {
     "name": "stderr",
     "output_type": "stream",
     "text": [
      "\rDictNBHDTransformer pre transform:  18%|█▊        | 1387114/7640906 [00:04<00:19, 322795.34it/s]"
     ]
    },
    {
     "name": "stderr",
     "output_type": "stream",
     "text": [
      "\rDictNBHDTransformer pre transform:  19%|█▊        | 1419526/7640906 [00:04<00:26, 231410.45it/s]"
     ]
    },
    {
     "name": "stderr",
     "output_type": "stream",
     "text": [
      "\rDictNBHDTransformer pre transform:  19%|█▉        | 1453499/7640906 [00:04<00:24, 255885.88it/s]"
     ]
    },
    {
     "name": "stderr",
     "output_type": "stream",
     "text": [
      "\rDictNBHDTransformer pre transform:  20%|█▉        | 1492127/7640906 [00:04<00:21, 284716.65it/s]"
     ]
    },
    {
     "name": "stderr",
     "output_type": "stream",
     "text": [
      "\rDictNBHDTransformer pre transform:  20%|█▉        | 1525693/7640906 [00:04<00:20, 298296.91it/s]"
     ]
    },
    {
     "name": "stderr",
     "output_type": "stream",
     "text": [
      "\rDictNBHDTransformer pre transform:  20%|██        | 1558662/7640906 [00:05<00:19, 307065.44it/s]"
     ]
    },
    {
     "name": "stderr",
     "output_type": "stream",
     "text": [
      "\rDictNBHDTransformer pre transform:  21%|██        | 1591227/7640906 [00:05<00:19, 308595.11it/s]"
     ]
    },
    {
     "name": "stderr",
     "output_type": "stream",
     "text": [
      "\rDictNBHDTransformer pre transform:  21%|██▏       | 1626903/7640906 [00:05<00:18, 321618.78it/s]"
     ]
    },
    {
     "name": "stderr",
     "output_type": "stream",
     "text": [
      "\rDictNBHDTransformer pre transform:  22%|██▏       | 1665398/7640906 [00:05<00:17, 338312.15it/s]"
     ]
    },
    {
     "name": "stderr",
     "output_type": "stream",
     "text": [
      "\rDictNBHDTransformer pre transform:  22%|██▏       | 1700197/7640906 [00:05<00:19, 310256.07it/s]"
     ]
    },
    {
     "name": "stderr",
     "output_type": "stream",
     "text": [
      "\rDictNBHDTransformer pre transform:  23%|██▎       | 1733790/7640906 [00:05<00:18, 317534.68it/s]"
     ]
    },
    {
     "name": "stderr",
     "output_type": "stream",
     "text": [
      "\rDictNBHDTransformer pre transform:  23%|██▎       | 1770014/7640906 [00:05<00:17, 329741.26it/s]"
     ]
    },
    {
     "name": "stderr",
     "output_type": "stream",
     "text": [
      "\rDictNBHDTransformer pre transform:  24%|██▎       | 1808052/7640906 [00:05<00:16, 343455.73it/s]"
     ]
    },
    {
     "name": "stderr",
     "output_type": "stream",
     "text": [
      "\rDictNBHDTransformer pre transform:  24%|██▍       | 1844194/7640906 [00:05<00:16, 348649.47it/s]"
     ]
    },
    {
     "name": "stderr",
     "output_type": "stream",
     "text": [
      "\rDictNBHDTransformer pre transform:  25%|██▍       | 1879527/7640906 [00:06<00:16, 345006.76it/s]"
     ]
    },
    {
     "name": "stderr",
     "output_type": "stream",
     "text": [
      "\rDictNBHDTransformer pre transform:  25%|██▌       | 1914364/7640906 [00:06<00:17, 332486.93it/s]"
     ]
    },
    {
     "name": "stderr",
     "output_type": "stream",
     "text": [
      "\rDictNBHDTransformer pre transform:  26%|██▌       | 1953777/7640906 [00:06<00:16, 348852.75it/s]"
     ]
    },
    {
     "name": "stderr",
     "output_type": "stream",
     "text": [
      "\rDictNBHDTransformer pre transform:  26%|██▌       | 1989737/7640906 [00:06<00:16, 352008.22it/s]"
     ]
    },
    {
     "name": "stderr",
     "output_type": "stream",
     "text": [
      "\rDictNBHDTransformer pre transform:  27%|██▋       | 2025257/7640906 [00:06<00:16, 348953.60it/s]"
     ]
    },
    {
     "name": "stderr",
     "output_type": "stream",
     "text": [
      "\rDictNBHDTransformer pre transform:  27%|██▋       | 2060382/7640906 [00:06<00:16, 343339.03it/s]"
     ]
    },
    {
     "name": "stderr",
     "output_type": "stream",
     "text": [
      "\rDictNBHDTransformer pre transform:  27%|██▋       | 2096094/7640906 [00:06<00:15, 347355.11it/s]"
     ]
    },
    {
     "name": "stderr",
     "output_type": "stream",
     "text": [
      "\rDictNBHDTransformer pre transform:  28%|██▊       | 2130968/7640906 [00:06<00:16, 342672.22it/s]"
     ]
    },
    {
     "name": "stderr",
     "output_type": "stream",
     "text": [
      "\rDictNBHDTransformer pre transform:  28%|██▊       | 2168327/7640906 [00:06<00:15, 351391.44it/s]"
     ]
    },
    {
     "name": "stderr",
     "output_type": "stream",
     "text": [
      "\rDictNBHDTransformer pre transform:  29%|██▉       | 2206288/7640906 [00:06<00:15, 359404.36it/s]"
     ]
    },
    {
     "name": "stderr",
     "output_type": "stream",
     "text": [
      "\rDictNBHDTransformer pre transform:  29%|██▉       | 2243325/7640906 [00:07<00:14, 362624.60it/s]"
     ]
    },
    {
     "name": "stderr",
     "output_type": "stream",
     "text": [
      "\rDictNBHDTransformer pre transform:  30%|██▉       | 2281218/7640906 [00:07<00:14, 367366.80it/s]"
     ]
    },
    {
     "name": "stderr",
     "output_type": "stream",
     "text": [
      "\rDictNBHDTransformer pre transform:  30%|███       | 2320581/7640906 [00:07<00:14, 374868.07it/s]"
     ]
    },
    {
     "name": "stderr",
     "output_type": "stream",
     "text": [
      "\rDictNBHDTransformer pre transform:  31%|███       | 2360603/7640906 [00:07<00:13, 382113.27it/s]"
     ]
    },
    {
     "name": "stderr",
     "output_type": "stream",
     "text": [
      "\rDictNBHDTransformer pre transform:  31%|███▏      | 2398918/7640906 [00:07<00:13, 375590.68it/s]"
     ]
    },
    {
     "name": "stderr",
     "output_type": "stream",
     "text": [
      "\rDictNBHDTransformer pre transform:  32%|███▏      | 2438667/7640906 [00:07<00:13, 381901.90it/s]"
     ]
    },
    {
     "name": "stderr",
     "output_type": "stream",
     "text": [
      "\rDictNBHDTransformer pre transform:  32%|███▏      | 2479819/7640906 [00:07<00:13, 390328.58it/s]"
     ]
    },
    {
     "name": "stderr",
     "output_type": "stream",
     "text": [
      "\rDictNBHDTransformer pre transform:  33%|███▎      | 2518964/7640906 [00:07<00:13, 386841.35it/s]"
     ]
    },
    {
     "name": "stderr",
     "output_type": "stream",
     "text": [
      "\rDictNBHDTransformer pre transform:  33%|███▎      | 2557734/7640906 [00:07<00:13, 383892.68it/s]"
     ]
    },
    {
     "name": "stderr",
     "output_type": "stream",
     "text": [
      "\rDictNBHDTransformer pre transform:  34%|███▍      | 2596189/7640906 [00:07<00:13, 373563.45it/s]"
     ]
    },
    {
     "name": "stderr",
     "output_type": "stream",
     "text": [
      "\rDictNBHDTransformer pre transform:  34%|███▍      | 2633652/7640906 [00:08<00:13, 364867.05it/s]"
     ]
    },
    {
     "name": "stderr",
     "output_type": "stream",
     "text": [
      "\rDictNBHDTransformer pre transform:  35%|███▍      | 2670258/7640906 [00:08<00:14, 350825.44it/s]"
     ]
    },
    {
     "name": "stderr",
     "output_type": "stream",
     "text": [
      "\rDictNBHDTransformer pre transform:  35%|███▌      | 2707571/7640906 [00:08<00:13, 357229.84it/s]"
     ]
    },
    {
     "name": "stderr",
     "output_type": "stream",
     "text": [
      "\rDictNBHDTransformer pre transform:  36%|███▌      | 2743462/7640906 [00:08<00:13, 351675.13it/s]"
     ]
    },
    {
     "name": "stderr",
     "output_type": "stream",
     "text": [
      "\rDictNBHDTransformer pre transform:  36%|███▋      | 2781128/7640906 [00:08<00:13, 358811.43it/s]"
     ]
    },
    {
     "name": "stderr",
     "output_type": "stream",
     "text": [
      "\rDictNBHDTransformer pre transform:  37%|███▋      | 2817141/7640906 [00:08<00:27, 177052.49it/s]"
     ]
    },
    {
     "name": "stderr",
     "output_type": "stream",
     "text": [
      "\rDictNBHDTransformer pre transform:  37%|███▋      | 2847452/7640906 [00:09<00:23, 202290.34it/s]"
     ]
    },
    {
     "name": "stderr",
     "output_type": "stream",
     "text": [
      "\rDictNBHDTransformer pre transform:  38%|███▊      | 2883874/7640906 [00:09<00:20, 233423.66it/s]"
     ]
    },
    {
     "name": "stderr",
     "output_type": "stream",
     "text": [
      "\rDictNBHDTransformer pre transform:  38%|███▊      | 2926960/7640906 [00:09<00:17, 270624.02it/s]"
     ]
    },
    {
     "name": "stderr",
     "output_type": "stream",
     "text": [
      "\rDictNBHDTransformer pre transform:  39%|███▉      | 2963141/7640906 [00:09<00:15, 292758.89it/s]"
     ]
    },
    {
     "name": "stderr",
     "output_type": "stream",
     "text": [
      "\rDictNBHDTransformer pre transform:  39%|███▉      | 2998690/7640906 [00:09<00:15, 309096.98it/s]"
     ]
    },
    {
     "name": "stderr",
     "output_type": "stream",
     "text": [
      "\rDictNBHDTransformer pre transform:  40%|███▉      | 3033860/7640906 [00:09<00:15, 303420.49it/s]"
     ]
    },
    {
     "name": "stderr",
     "output_type": "stream",
     "text": [
      "\rDictNBHDTransformer pre transform:  40%|████      | 3067888/7640906 [00:09<00:14, 313610.77it/s]"
     ]
    },
    {
     "name": "stderr",
     "output_type": "stream",
     "text": [
      "\rDictNBHDTransformer pre transform:  41%|████      | 3103951/7640906 [00:09<00:13, 326374.93it/s]"
     ]
    },
    {
     "name": "stderr",
     "output_type": "stream",
     "text": [
      "\rDictNBHDTransformer pre transform:  41%|████      | 3144687/7640906 [00:09<00:12, 347070.82it/s]"
     ]
    },
    {
     "name": "stderr",
     "output_type": "stream",
     "text": [
      "\rDictNBHDTransformer pre transform:  42%|████▏     | 3185269/7640906 [00:09<00:12, 362828.32it/s]"
     ]
    },
    {
     "name": "stderr",
     "output_type": "stream",
     "text": [
      "\rDictNBHDTransformer pre transform:  42%|████▏     | 3225459/7640906 [00:10<00:11, 373727.04it/s]"
     ]
    },
    {
     "name": "stderr",
     "output_type": "stream",
     "text": [
      "\rDictNBHDTransformer pre transform:  43%|████▎     | 3263793/7640906 [00:10<00:11, 374613.62it/s]"
     ]
    },
    {
     "name": "stderr",
     "output_type": "stream",
     "text": [
      "\rDictNBHDTransformer pre transform:  43%|████▎     | 3301928/7640906 [00:10<00:11, 373400.13it/s]"
     ]
    },
    {
     "name": "stderr",
     "output_type": "stream",
     "text": [
      "\rDictNBHDTransformer pre transform:  44%|████▍     | 3346676/7640906 [00:10<00:10, 392909.01it/s]"
     ]
    },
    {
     "name": "stderr",
     "output_type": "stream",
     "text": [
      "\rDictNBHDTransformer pre transform:  44%|████▍     | 3386569/7640906 [00:10<00:10, 388566.24it/s]"
     ]
    },
    {
     "name": "stderr",
     "output_type": "stream",
     "text": [
      "\rDictNBHDTransformer pre transform:  45%|████▍     | 3425858/7640906 [00:10<00:11, 382860.03it/s]"
     ]
    },
    {
     "name": "stderr",
     "output_type": "stream",
     "text": [
      "\rDictNBHDTransformer pre transform:  45%|████▌     | 3464466/7640906 [00:10<00:10, 381190.99it/s]"
     ]
    },
    {
     "name": "stderr",
     "output_type": "stream",
     "text": [
      "\rDictNBHDTransformer pre transform:  46%|████▌     | 3507987/7640906 [00:10<00:10, 395932.24it/s]"
     ]
    },
    {
     "name": "stderr",
     "output_type": "stream",
     "text": [
      "\rDictNBHDTransformer pre transform:  46%|████▋     | 3548620/7640906 [00:10<00:10, 398990.61it/s]"
     ]
    },
    {
     "name": "stderr",
     "output_type": "stream",
     "text": [
      "\rDictNBHDTransformer pre transform:  47%|████▋     | 3590320/7640906 [00:11<00:10, 404226.66it/s]"
     ]
    },
    {
     "name": "stderr",
     "output_type": "stream",
     "text": [
      "\rDictNBHDTransformer pre transform:  48%|████▊     | 3634327/7640906 [00:11<00:09, 414349.94it/s]"
     ]
    },
    {
     "name": "stderr",
     "output_type": "stream",
     "text": [
      "\rDictNBHDTransformer pre transform:  48%|████▊     | 3675944/7640906 [00:11<00:09, 408042.01it/s]"
     ]
    },
    {
     "name": "stderr",
     "output_type": "stream",
     "text": [
      "\rDictNBHDTransformer pre transform:  49%|████▊     | 3716898/7640906 [00:11<00:09, 399272.62it/s]"
     ]
    },
    {
     "name": "stderr",
     "output_type": "stream",
     "text": [
      "\rDictNBHDTransformer pre transform:  49%|████▉     | 3758178/7640906 [00:11<00:09, 403236.65it/s]"
     ]
    },
    {
     "name": "stderr",
     "output_type": "stream",
     "text": [
      "\rDictNBHDTransformer pre transform:  50%|████▉     | 3801325/7640906 [00:11<00:09, 411309.91it/s]"
     ]
    },
    {
     "name": "stderr",
     "output_type": "stream",
     "text": [
      "\rDictNBHDTransformer pre transform:  50%|█████     | 3844180/7640906 [00:11<00:09, 416332.03it/s]"
     ]
    },
    {
     "name": "stderr",
     "output_type": "stream",
     "text": [
      "\rDictNBHDTransformer pre transform:  51%|█████     | 3886152/7640906 [00:11<00:08, 417341.59it/s]"
     ]
    },
    {
     "name": "stderr",
     "output_type": "stream",
     "text": [
      "\rDictNBHDTransformer pre transform:  51%|█████▏    | 3929626/7640906 [00:11<00:08, 422411.77it/s]"
     ]
    },
    {
     "name": "stderr",
     "output_type": "stream",
     "text": [
      "\rDictNBHDTransformer pre transform:  52%|█████▏    | 3975659/7640906 [00:11<00:08, 433113.36it/s]"
     ]
    },
    {
     "name": "stderr",
     "output_type": "stream",
     "text": [
      "\rDictNBHDTransformer pre transform:  53%|█████▎    | 4019082/7640906 [00:12<00:08, 427744.91it/s]"
     ]
    },
    {
     "name": "stderr",
     "output_type": "stream",
     "text": [
      "\rDictNBHDTransformer pre transform:  53%|█████▎    | 4063622/7640906 [00:12<00:08, 432890.42it/s]"
     ]
    },
    {
     "name": "stderr",
     "output_type": "stream",
     "text": [
      "\rDictNBHDTransformer pre transform:  54%|█████▍    | 4108364/7640906 [00:12<00:08, 437147.83it/s]"
     ]
    },
    {
     "name": "stderr",
     "output_type": "stream",
     "text": [
      "\rDictNBHDTransformer pre transform:  54%|█████▍    | 4152145/7640906 [00:12<00:07, 436421.53it/s]"
     ]
    },
    {
     "name": "stderr",
     "output_type": "stream",
     "text": [
      "\rDictNBHDTransformer pre transform:  55%|█████▍    | 4198240/7640906 [00:12<00:07, 443501.34it/s]"
     ]
    },
    {
     "name": "stderr",
     "output_type": "stream",
     "text": [
      "\rDictNBHDTransformer pre transform:  56%|█████▌    | 4242651/7640906 [00:12<00:07, 435342.53it/s]"
     ]
    },
    {
     "name": "stderr",
     "output_type": "stream",
     "text": [
      "\rDictNBHDTransformer pre transform:  56%|█████▌    | 4286804/7640906 [00:12<00:07, 437179.06it/s]"
     ]
    },
    {
     "name": "stderr",
     "output_type": "stream",
     "text": [
      "\rDictNBHDTransformer pre transform:  57%|█████▋    | 4330577/7640906 [00:12<00:07, 425718.20it/s]"
     ]
    },
    {
     "name": "stderr",
     "output_type": "stream",
     "text": [
      "\rDictNBHDTransformer pre transform:  57%|█████▋    | 4373599/7640906 [00:12<00:07, 427055.00it/s]"
     ]
    },
    {
     "name": "stderr",
     "output_type": "stream",
     "text": [
      "\rDictNBHDTransformer pre transform:  58%|█████▊    | 4418422/7640906 [00:12<00:07, 433189.14it/s]"
     ]
    },
    {
     "name": "stderr",
     "output_type": "stream",
     "text": [
      "\rDictNBHDTransformer pre transform:  58%|█████▊    | 4463953/7640906 [00:13<00:07, 439593.76it/s]"
     ]
    },
    {
     "name": "stderr",
     "output_type": "stream",
     "text": [
      "\rDictNBHDTransformer pre transform:  59%|█████▉    | 4507987/7640906 [00:13<00:07, 434914.86it/s]"
     ]
    },
    {
     "name": "stderr",
     "output_type": "stream",
     "text": [
      "\rDictNBHDTransformer pre transform:  60%|█████▉    | 4553024/7640906 [00:13<00:07, 439437.45it/s]"
     ]
    },
    {
     "name": "stderr",
     "output_type": "stream",
     "text": [
      "\rDictNBHDTransformer pre transform:  60%|██████    | 4597183/7640906 [00:13<00:06, 440077.06it/s]"
     ]
    },
    {
     "name": "stderr",
     "output_type": "stream",
     "text": [
      "\rDictNBHDTransformer pre transform:  61%|██████    | 4641230/7640906 [00:13<00:06, 436167.15it/s]"
     ]
    },
    {
     "name": "stderr",
     "output_type": "stream",
     "text": [
      "\rDictNBHDTransformer pre transform:  61%|██████▏   | 4684883/7640906 [00:13<00:06, 433000.67it/s]"
     ]
    },
    {
     "name": "stderr",
     "output_type": "stream",
     "text": [
      "\rDictNBHDTransformer pre transform:  62%|██████▏   | 4728611/7640906 [00:13<00:06, 434272.99it/s]"
     ]
    },
    {
     "name": "stderr",
     "output_type": "stream",
     "text": [
      "\rDictNBHDTransformer pre transform:  62%|██████▏   | 4772061/7640906 [00:13<00:06, 430956.37it/s]"
     ]
    },
    {
     "name": "stderr",
     "output_type": "stream",
     "text": [
      "\rDictNBHDTransformer pre transform:  63%|██████▎   | 4817372/7640906 [00:13<00:06, 437370.22it/s]"
     ]
    },
    {
     "name": "stderr",
     "output_type": "stream",
     "text": [
      "\rDictNBHDTransformer pre transform:  64%|██████▎   | 4861610/7640906 [00:13<00:06, 438858.52it/s]"
     ]
    },
    {
     "name": "stderr",
     "output_type": "stream",
     "text": [
      "\rDictNBHDTransformer pre transform:  64%|██████▍   | 4908859/7640906 [00:14<00:06, 448432.89it/s]"
     ]
    },
    {
     "name": "stderr",
     "output_type": "stream",
     "text": [
      "\rDictNBHDTransformer pre transform:  65%|██████▍   | 4953774/7640906 [00:14<00:06, 440559.20it/s]"
     ]
    },
    {
     "name": "stderr",
     "output_type": "stream",
     "text": [
      "\rDictNBHDTransformer pre transform:  65%|██████▌   | 4997911/7640906 [00:14<00:06, 435327.62it/s]"
     ]
    },
    {
     "name": "stderr",
     "output_type": "stream",
     "text": [
      "\rDictNBHDTransformer pre transform:  66%|██████▌   | 5043801/7640906 [00:14<00:05, 442140.90it/s]"
     ]
    },
    {
     "name": "stderr",
     "output_type": "stream",
     "text": [
      "\rDictNBHDTransformer pre transform:  67%|██████▋   | 5088091/7640906 [00:14<00:05, 439041.91it/s]"
     ]
    },
    {
     "name": "stderr",
     "output_type": "stream",
     "text": [
      "\rDictNBHDTransformer pre transform:  67%|██████▋   | 5132603/7640906 [00:14<00:05, 439895.03it/s]"
     ]
    },
    {
     "name": "stderr",
     "output_type": "stream",
     "text": [
      "\rDictNBHDTransformer pre transform:  68%|██████▊   | 5176638/7640906 [00:14<00:05, 440021.17it/s]"
     ]
    },
    {
     "name": "stderr",
     "output_type": "stream",
     "text": [
      "\rDictNBHDTransformer pre transform:  68%|██████▊   | 5220669/7640906 [00:14<00:05, 440028.63it/s]"
     ]
    },
    {
     "name": "stderr",
     "output_type": "stream",
     "text": [
      "\rDictNBHDTransformer pre transform:  69%|██████▉   | 5265708/7640906 [00:14<00:05, 443086.45it/s]"
     ]
    },
    {
     "name": "stderr",
     "output_type": "stream",
     "text": [
      "\rDictNBHDTransformer pre transform:  70%|██████▉   | 5311253/7640906 [00:14<00:05, 446723.33it/s]"
     ]
    },
    {
     "name": "stderr",
     "output_type": "stream",
     "text": [
      "\rDictNBHDTransformer pre transform:  70%|███████   | 5355946/7640906 [00:15<00:05, 432088.80it/s]"
     ]
    },
    {
     "name": "stderr",
     "output_type": "stream",
     "text": [
      "\rDictNBHDTransformer pre transform:  71%|███████   | 5399274/7640906 [00:15<00:05, 430704.39it/s]"
     ]
    },
    {
     "name": "stderr",
     "output_type": "stream",
     "text": [
      "\rDictNBHDTransformer pre transform:  71%|███████▏  | 5444524/7640906 [00:15<00:05, 437006.52it/s]"
     ]
    },
    {
     "name": "stderr",
     "output_type": "stream",
     "text": [
      "\rDictNBHDTransformer pre transform:  72%|███████▏  | 5489481/7640906 [00:15<00:04, 440698.55it/s]"
     ]
    },
    {
     "name": "stderr",
     "output_type": "stream",
     "text": [
      "\rDictNBHDTransformer pre transform:  72%|███████▏  | 5533670/7640906 [00:15<00:04, 441052.60it/s]"
     ]
    },
    {
     "name": "stderr",
     "output_type": "stream",
     "text": [
      "\rDictNBHDTransformer pre transform:  73%|███████▎  | 5577821/7640906 [00:15<00:04, 437993.92it/s]"
     ]
    },
    {
     "name": "stderr",
     "output_type": "stream",
     "text": [
      "\rDictNBHDTransformer pre transform:  74%|███████▎  | 5621657/7640906 [00:16<00:15, 126258.28it/s]"
     ]
    },
    {
     "name": "stderr",
     "output_type": "stream",
     "text": [
      "\rDictNBHDTransformer pre transform:  74%|███████▍  | 5661219/7640906 [00:16<00:12, 158667.13it/s]"
     ]
    },
    {
     "name": "stderr",
     "output_type": "stream",
     "text": [
      "\rDictNBHDTransformer pre transform:  75%|███████▍  | 5702492/7640906 [00:16<00:09, 194604.57it/s]"
     ]
    },
    {
     "name": "stderr",
     "output_type": "stream",
     "text": [
      "\rDictNBHDTransformer pre transform:  75%|███████▌  | 5741911/7640906 [00:16<00:08, 229458.15it/s]"
     ]
    },
    {
     "name": "stderr",
     "output_type": "stream",
     "text": [
      "\rDictNBHDTransformer pre transform:  76%|███████▌  | 5784535/7640906 [00:16<00:06, 266347.04it/s]"
     ]
    },
    {
     "name": "stderr",
     "output_type": "stream",
     "text": [
      "\rDictNBHDTransformer pre transform:  76%|███████▌  | 5825253/7640906 [00:16<00:06, 297183.35it/s]"
     ]
    },
    {
     "name": "stderr",
     "output_type": "stream",
     "text": [
      "\rDictNBHDTransformer pre transform:  77%|███████▋  | 5866122/7640906 [00:17<00:05, 323674.75it/s]"
     ]
    },
    {
     "name": "stderr",
     "output_type": "stream",
     "text": [
      "\rDictNBHDTransformer pre transform:  77%|███████▋  | 5908989/7640906 [00:17<00:04, 349344.18it/s]"
     ]
    },
    {
     "name": "stderr",
     "output_type": "stream",
     "text": [
      "\rDictNBHDTransformer pre transform:  78%|███████▊  | 5951773/7640906 [00:17<00:04, 369688.86it/s]"
     ]
    },
    {
     "name": "stderr",
     "output_type": "stream",
     "text": [
      "\rDictNBHDTransformer pre transform:  78%|███████▊  | 5995523/7640906 [00:17<00:04, 387716.22it/s]"
     ]
    },
    {
     "name": "stderr",
     "output_type": "stream",
     "text": [
      "\rDictNBHDTransformer pre transform:  79%|███████▉  | 6038839/7640906 [00:17<00:04, 400314.41it/s]"
     ]
    },
    {
     "name": "stderr",
     "output_type": "stream",
     "text": [
      "\rDictNBHDTransformer pre transform:  80%|███████▉  | 6081296/7640906 [00:17<00:03, 406777.65it/s]"
     ]
    },
    {
     "name": "stderr",
     "output_type": "stream",
     "text": [
      "\rDictNBHDTransformer pre transform:  80%|████████  | 6123697/7640906 [00:17<00:03, 410449.39it/s]"
     ]
    },
    {
     "name": "stderr",
     "output_type": "stream",
     "text": [
      "\rDictNBHDTransformer pre transform:  81%|████████  | 6165956/7640906 [00:17<00:03, 411777.20it/s]"
     ]
    },
    {
     "name": "stderr",
     "output_type": "stream",
     "text": [
      "\rDictNBHDTransformer pre transform:  81%|████████▏ | 6210977/7640906 [00:17<00:03, 422598.64it/s]"
     ]
    },
    {
     "name": "stderr",
     "output_type": "stream",
     "text": [
      "\rDictNBHDTransformer pre transform:  82%|████████▏ | 6257696/7640906 [00:18<00:03, 435054.60it/s]"
     ]
    },
    {
     "name": "stderr",
     "output_type": "stream",
     "text": [
      "\rDictNBHDTransformer pre transform:  82%|████████▏ | 6301760/7640906 [00:18<00:03, 436050.21it/s]"
     ]
    },
    {
     "name": "stderr",
     "output_type": "stream",
     "text": [
      "\rDictNBHDTransformer pre transform:  83%|████████▎ | 6347330/7640906 [00:18<00:02, 441762.25it/s]"
     ]
    },
    {
     "name": "stderr",
     "output_type": "stream",
     "text": [
      "\rDictNBHDTransformer pre transform:  84%|████████▎ | 6392424/7640906 [00:18<00:02, 444474.67it/s]"
     ]
    },
    {
     "name": "stderr",
     "output_type": "stream",
     "text": [
      "\rDictNBHDTransformer pre transform:  84%|████████▍ | 6437080/7640906 [00:18<00:02, 413876.98it/s]"
     ]
    },
    {
     "name": "stderr",
     "output_type": "stream",
     "text": [
      "\rDictNBHDTransformer pre transform:  85%|████████▍ | 6481556/7640906 [00:18<00:02, 422679.50it/s]"
     ]
    },
    {
     "name": "stderr",
     "output_type": "stream",
     "text": [
      "\rDictNBHDTransformer pre transform:  85%|████████▌ | 6525498/7640906 [00:18<00:02, 427565.10it/s]"
     ]
    },
    {
     "name": "stderr",
     "output_type": "stream",
     "text": [
      "\rDictNBHDTransformer pre transform:  86%|████████▌ | 6569075/7640906 [00:18<00:02, 429993.76it/s]"
     ]
    },
    {
     "name": "stderr",
     "output_type": "stream",
     "text": [
      "\rDictNBHDTransformer pre transform:  87%|████████▋ | 6612305/7640906 [00:18<00:02, 430614.44it/s]"
     ]
    },
    {
     "name": "stderr",
     "output_type": "stream",
     "text": [
      "\rDictNBHDTransformer pre transform:  87%|████████▋ | 6657092/7640906 [00:18<00:02, 435635.74it/s]"
     ]
    },
    {
     "name": "stderr",
     "output_type": "stream",
     "text": [
      "\rDictNBHDTransformer pre transform:  88%|████████▊ | 6703692/7640906 [00:19<00:02, 444318.64it/s]"
     ]
    },
    {
     "name": "stderr",
     "output_type": "stream",
     "text": [
      "\rDictNBHDTransformer pre transform:  88%|████████▊ | 6748927/7640906 [00:19<00:01, 446687.65it/s]"
     ]
    },
    {
     "name": "stderr",
     "output_type": "stream",
     "text": [
      "\rDictNBHDTransformer pre transform:  89%|████████▉ | 6796353/7640906 [00:19<00:01, 454615.63it/s]"
     ]
    },
    {
     "name": "stderr",
     "output_type": "stream",
     "text": [
      "\rDictNBHDTransformer pre transform:  90%|████████▉ | 6842457/7640906 [00:19<00:01, 456523.87it/s]"
     ]
    },
    {
     "name": "stderr",
     "output_type": "stream",
     "text": [
      "\rDictNBHDTransformer pre transform:  90%|█████████ | 6888182/7640906 [00:19<00:01, 455972.12it/s]"
     ]
    },
    {
     "name": "stderr",
     "output_type": "stream",
     "text": [
      "\rDictNBHDTransformer pre transform:  91%|█████████ | 6933831/7640906 [00:19<00:01, 451750.79it/s]"
     ]
    },
    {
     "name": "stderr",
     "output_type": "stream",
     "text": [
      "\rDictNBHDTransformer pre transform:  91%|█████████▏| 6979051/7640906 [00:19<00:01, 446896.20it/s]"
     ]
    },
    {
     "name": "stderr",
     "output_type": "stream",
     "text": [
      "\rDictNBHDTransformer pre transform:  92%|█████████▏| 7023892/7640906 [00:19<00:01, 447348.12it/s]"
     ]
    },
    {
     "name": "stderr",
     "output_type": "stream",
     "text": [
      "\rDictNBHDTransformer pre transform:  93%|█████████▎| 7068658/7640906 [00:19<00:01, 443322.26it/s]"
     ]
    },
    {
     "name": "stderr",
     "output_type": "stream",
     "text": [
      "\rDictNBHDTransformer pre transform:  93%|█████████▎| 7113020/7640906 [00:19<00:01, 439304.29it/s]"
     ]
    },
    {
     "name": "stderr",
     "output_type": "stream",
     "text": [
      "\rDictNBHDTransformer pre transform:  94%|█████████▎| 7158022/7640906 [00:20<00:01, 442463.91it/s]"
     ]
    },
    {
     "name": "stderr",
     "output_type": "stream",
     "text": [
      "\rDictNBHDTransformer pre transform:  94%|█████████▍| 7202295/7640906 [00:20<00:01, 437052.13it/s]"
     ]
    },
    {
     "name": "stderr",
     "output_type": "stream",
     "text": [
      "\rDictNBHDTransformer pre transform:  95%|█████████▍| 7246034/7640906 [00:20<00:00, 419813.99it/s]"
     ]
    },
    {
     "name": "stderr",
     "output_type": "stream",
     "text": [
      "\rDictNBHDTransformer pre transform:  95%|█████████▌| 7289445/7640906 [00:20<00:00, 424001.57it/s]"
     ]
    },
    {
     "name": "stderr",
     "output_type": "stream",
     "text": [
      "\rDictNBHDTransformer pre transform:  96%|█████████▌| 7331973/7640906 [00:20<00:00, 403455.06it/s]"
     ]
    },
    {
     "name": "stderr",
     "output_type": "stream",
     "text": [
      "\rDictNBHDTransformer pre transform:  97%|█████████▋| 7373821/7640906 [00:20<00:00, 407843.59it/s]"
     ]
    },
    {
     "name": "stderr",
     "output_type": "stream",
     "text": [
      "\rDictNBHDTransformer pre transform:  97%|█████████▋| 7415512/7640906 [00:20<00:00, 410519.35it/s]"
     ]
    },
    {
     "name": "stderr",
     "output_type": "stream",
     "text": [
      "\rDictNBHDTransformer pre transform:  98%|█████████▊| 7462854/7640906 [00:20<00:00, 427560.39it/s]"
     ]
    },
    {
     "name": "stderr",
     "output_type": "stream",
     "text": [
      "\rDictNBHDTransformer pre transform:  98%|█████████▊| 7511358/7640906 [00:20<00:00, 443319.77it/s]"
     ]
    },
    {
     "name": "stderr",
     "output_type": "stream",
     "text": [
      "\rDictNBHDTransformer pre transform:  99%|█████████▉| 7559745/7640906 [00:20<00:00, 454750.17it/s]"
     ]
    },
    {
     "name": "stderr",
     "output_type": "stream",
     "text": [
      "\rDictNBHDTransformer pre transform: 100%|█████████▉| 7605541/7640906 [00:21<00:00, 447088.82it/s]"
     ]
    },
    {
     "name": "stderr",
     "output_type": "stream",
     "text": [
      "\rDictNBHDTransformer pre transform: 100%|██████████| 7640906/7640906 [00:21<00:00, 360970.29it/s]"
     ]
    },
    {
     "name": "stderr",
     "output_type": "stream",
     "text": [
      "\n"
     ]
    },
    {
     "name": "stderr",
     "output_type": "stream",
     "text": [
      "\rDictNBHDTransformer transform:   0%|          | 0/105746 [00:00<?, ?it/s]"
     ]
    },
    {
     "name": "stderr",
     "output_type": "stream",
     "text": [
      "\rDictNBHDTransformer transform:  48%|████▊     | 50775/105746 [00:00<00:00, 507744.43it/s]"
     ]
    },
    {
     "name": "stderr",
     "output_type": "stream",
     "text": [
      "\rDictNBHDTransformer transform: 100%|█████████▉| 105620/105746 [00:00<00:00, 519305.95it/s]"
     ]
    },
    {
     "name": "stderr",
     "output_type": "stream",
     "text": [
      "\rDictNBHDTransformer transform: 100%|██████████| 105746/105746 [00:00<00:00, 520967.48it/s]"
     ]
    },
    {
     "name": "stderr",
     "output_type": "stream",
     "text": [
      "\n"
     ]
    },
    {
     "name": "stderr",
     "output_type": "stream",
     "text": [
      "\rDictClassTransformer_DATE pre transform:   0%|          | 0/36928 [00:00<?, ?it/s]"
     ]
    },
    {
     "name": "stderr",
     "output_type": "stream",
     "text": [
      "\rDictClassTransformer_DATE pre transform:  33%|███▎      | 12208/36928 [00:00<00:00, 122076.62it/s]"
     ]
    },
    {
     "name": "stderr",
     "output_type": "stream",
     "text": [
      "\rDictClassTransformer_DATE pre transform:  70%|███████   | 25910/36928 [00:00<00:00, 126205.10it/s]"
     ]
    },
    {
     "name": "stderr",
     "output_type": "stream",
     "text": [
      "\rDictClassTransformer_DATE pre transform: 100%|██████████| 36928/36928 [00:00<00:00, 132133.48it/s]"
     ]
    },
    {
     "name": "stderr",
     "output_type": "stream",
     "text": [
      "\n\rDictClassTransformer_DATE transform:   0%|          | 0/105746 [00:00<?, ?it/s]"
     ]
    },
    {
     "name": "stderr",
     "output_type": "stream",
     "text": [
      "\rDictClassTransformer_DATE transform: 100%|█████████▉| 105600/105746 [00:00<00:00, 1055998.49it/s]"
     ]
    },
    {
     "name": "stderr",
     "output_type": "stream",
     "text": [
      "\rDictClassTransformer_DATE transform: 100%|██████████| 105746/105746 [00:00<00:00, 1018089.91it/s]"
     ]
    },
    {
     "name": "stderr",
     "output_type": "stream",
     "text": [
      "\n"
     ]
    },
    {
     "name": "stdout",
     "output_type": "stream",
     "text": [
      "Max len 24\n"
     ]
    },
    {
     "name": "stderr",
     "output_type": "stream",
     "text": [
      "\rDictClassTransformer_CARDINAL pre transform:   0%|          | 0/10473 [00:00<?, ?it/s]"
     ]
    },
    {
     "name": "stderr",
     "output_type": "stream",
     "text": [
      "\rDictClassTransformer_CARDINAL pre transform: 100%|██████████| 10473/10473 [00:00<00:00, 124929.81it/s]"
     ]
    },
    {
     "name": "stderr",
     "output_type": "stream",
     "text": [
      "\n\rDictClassTransformer_CARDINAL transform:   0%|          | 0/105746 [00:00<?, ?it/s]"
     ]
    },
    {
     "name": "stderr",
     "output_type": "stream",
     "text": [
      "\rDictClassTransformer_CARDINAL transform:  84%|████████▍ | 88988/105746 [00:00<00:00, 889861.75it/s]"
     ]
    },
    {
     "name": "stderr",
     "output_type": "stream",
     "text": [
      "\rDictClassTransformer_CARDINAL transform: 100%|██████████| 105746/105746 [00:00<00:00, 921670.47it/s]"
     ]
    },
    {
     "name": "stderr",
     "output_type": "stream",
     "text": [
      "\n"
     ]
    },
    {
     "name": "stdout",
     "output_type": "stream",
     "text": [
      "Max len 16\n"
     ]
    },
    {
     "name": "stderr",
     "output_type": "stream",
     "text": [
      "\rLettersTransformer transform:   0%|          | 0/105746 [00:00<?, ?it/s]"
     ]
    },
    {
     "name": "stderr",
     "output_type": "stream",
     "text": [
      "\rLettersTransformer transform:  49%|████▉     | 51681/105746 [00:00<00:00, 516799.40it/s]"
     ]
    },
    {
     "name": "stderr",
     "output_type": "stream",
     "text": [
      "\rLettersTransformer transform: 100%|██████████| 105746/105746 [00:00<00:00, 528629.05it/s]"
     ]
    },
    {
     "name": "stderr",
     "output_type": "stream",
     "text": [
      "\n"
     ]
    },
    {
     "name": "stderr",
     "output_type": "stream",
     "text": [
      "\rDictTransformer pre transform:   0%|          | 0/796356 [00:00<?, ?it/s]"
     ]
    },
    {
     "name": "stderr",
     "output_type": "stream",
     "text": [
      "\rDictTransformer pre transform:   2%|▏         | 14745/796356 [00:00<00:05, 147443.81it/s]"
     ]
    },
    {
     "name": "stderr",
     "output_type": "stream",
     "text": [
      "\rDictTransformer pre transform:   4%|▎         | 28674/796356 [00:00<00:05, 144896.08it/s]"
     ]
    },
    {
     "name": "stderr",
     "output_type": "stream",
     "text": [
      "\rDictTransformer pre transform:   5%|▌         | 43776/796356 [00:00<00:05, 146680.40it/s]"
     ]
    },
    {
     "name": "stderr",
     "output_type": "stream",
     "text": [
      "\rDictTransformer pre transform:   7%|▋         | 58771/796356 [00:00<00:04, 147644.49it/s]"
     ]
    },
    {
     "name": "stderr",
     "output_type": "stream",
     "text": [
      "\rDictTransformer pre transform:   9%|▉         | 73974/796356 [00:00<00:04, 148932.03it/s]"
     ]
    },
    {
     "name": "stderr",
     "output_type": "stream",
     "text": [
      "\rDictTransformer pre transform:  11%|█         | 88592/796356 [00:00<00:04, 148094.68it/s]"
     ]
    },
    {
     "name": "stderr",
     "output_type": "stream",
     "text": [
      "\rDictTransformer pre transform:  13%|█▎        | 104705/796356 [00:00<00:04, 151777.02it/s]"
     ]
    },
    {
     "name": "stderr",
     "output_type": "stream",
     "text": [
      "\rDictTransformer pre transform:  15%|█▌        | 120270/796356 [00:00<00:04, 152915.34it/s]"
     ]
    },
    {
     "name": "stderr",
     "output_type": "stream",
     "text": [
      "\rDictTransformer pre transform:  17%|█▋        | 134734/796356 [00:00<00:04, 147832.91it/s]"
     ]
    },
    {
     "name": "stderr",
     "output_type": "stream",
     "text": [
      "\rDictTransformer pre transform:  19%|█▉        | 149463/796356 [00:01<00:04, 147666.48it/s]"
     ]
    },
    {
     "name": "stderr",
     "output_type": "stream",
     "text": [
      "\rDictTransformer pre transform:  21%|██        | 164763/796356 [00:01<00:04, 149225.77it/s]"
     ]
    },
    {
     "name": "stderr",
     "output_type": "stream",
     "text": [
      "\rDictTransformer pre transform:  23%|██▎       | 179424/796356 [00:01<00:04, 146390.79it/s]"
     ]
    },
    {
     "name": "stderr",
     "output_type": "stream",
     "text": [
      "\rDictTransformer pre transform:  25%|██▍       | 195116/796356 [00:01<00:04, 149396.96it/s]"
     ]
    },
    {
     "name": "stderr",
     "output_type": "stream",
     "text": [
      "\rDictTransformer pre transform:  26%|██▋       | 210932/796356 [00:01<00:03, 151919.93it/s]"
     ]
    },
    {
     "name": "stderr",
     "output_type": "stream",
     "text": [
      "\rDictTransformer pre transform:  28%|██▊       | 226642/796356 [00:01<00:03, 153436.80it/s]"
     ]
    },
    {
     "name": "stderr",
     "output_type": "stream",
     "text": [
      "\rDictTransformer pre transform:  30%|███       | 241946/796356 [00:01<00:03, 152848.06it/s]"
     ]
    },
    {
     "name": "stderr",
     "output_type": "stream",
     "text": [
      "\rDictTransformer pre transform:  32%|███▏      | 258069/796356 [00:01<00:03, 155268.23it/s]"
     ]
    },
    {
     "name": "stderr",
     "output_type": "stream",
     "text": [
      "\rDictTransformer pre transform:  34%|███▍      | 273971/796356 [00:01<00:03, 156373.77it/s]"
     ]
    },
    {
     "name": "stderr",
     "output_type": "stream",
     "text": [
      "\rDictTransformer pre transform:  36%|███▋      | 289732/796356 [00:01<00:03, 156741.64it/s]"
     ]
    },
    {
     "name": "stderr",
     "output_type": "stream",
     "text": [
      "\rDictTransformer pre transform:  38%|███▊      | 305403/796356 [00:02<00:03, 155128.20it/s]"
     ]
    },
    {
     "name": "stderr",
     "output_type": "stream",
     "text": [
      "\rDictTransformer pre transform:  40%|████      | 320918/796356 [00:02<00:03, 153243.57it/s]"
     ]
    },
    {
     "name": "stderr",
     "output_type": "stream",
     "text": [
      "\rDictTransformer pre transform:  42%|████▏     | 336484/796356 [00:02<00:02, 153960.52it/s]"
     ]
    },
    {
     "name": "stderr",
     "output_type": "stream",
     "text": [
      "\rDictTransformer pre transform:  44%|████▍     | 351886/796356 [00:02<00:03, 145795.68it/s]"
     ]
    },
    {
     "name": "stderr",
     "output_type": "stream",
     "text": [
      "\rDictTransformer pre transform:  46%|████▌     | 367012/796356 [00:02<00:02, 147390.95it/s]"
     ]
    },
    {
     "name": "stderr",
     "output_type": "stream",
     "text": [
      "\rDictTransformer pre transform:  48%|████▊     | 382442/796356 [00:02<00:02, 149395.27it/s]"
     ]
    },
    {
     "name": "stderr",
     "output_type": "stream",
     "text": [
      "\rDictTransformer pre transform:  50%|████▉     | 397787/796356 [00:02<00:02, 150586.31it/s]"
     ]
    },
    {
     "name": "stderr",
     "output_type": "stream",
     "text": [
      "\rDictTransformer pre transform:  52%|█████▏    | 414278/796356 [00:02<00:02, 154614.27it/s]"
     ]
    },
    {
     "name": "stderr",
     "output_type": "stream",
     "text": [
      "\rDictTransformer pre transform:  54%|█████▍    | 430553/796356 [00:02<00:02, 156967.35it/s]"
     ]
    },
    {
     "name": "stderr",
     "output_type": "stream",
     "text": [
      "\rDictTransformer pre transform:  56%|█████▌    | 446298/796356 [00:02<00:02, 156121.51it/s]"
     ]
    },
    {
     "name": "stderr",
     "output_type": "stream",
     "text": [
      "\rDictTransformer pre transform:  58%|█████▊    | 461945/796356 [00:03<00:02, 154387.78it/s]"
     ]
    },
    {
     "name": "stderr",
     "output_type": "stream",
     "text": [
      "\rDictTransformer pre transform:  60%|██████    | 477922/796356 [00:03<00:02, 155962.17it/s]"
     ]
    },
    {
     "name": "stderr",
     "output_type": "stream",
     "text": [
      "\rDictTransformer pre transform:  62%|██████▏   | 493763/796356 [00:03<00:01, 156687.70it/s]"
     ]
    },
    {
     "name": "stderr",
     "output_type": "stream",
     "text": [
      "\rDictTransformer pre transform:  64%|██████▍   | 510024/796356 [00:03<00:01, 158416.65it/s]"
     ]
    },
    {
     "name": "stderr",
     "output_type": "stream",
     "text": [
      "\rDictTransformer pre transform:  66%|██████▌   | 525883/796356 [00:03<00:01, 155471.40it/s]"
     ]
    },
    {
     "name": "stderr",
     "output_type": "stream",
     "text": [
      "\rDictTransformer pre transform:  68%|██████▊   | 541471/796356 [00:03<00:01, 155585.80it/s]"
     ]
    },
    {
     "name": "stderr",
     "output_type": "stream",
     "text": [
      "\rDictTransformer pre transform:  70%|██████▉   | 557199/796356 [00:03<00:01, 156087.82it/s]"
     ]
    },
    {
     "name": "stderr",
     "output_type": "stream",
     "text": [
      "\rDictTransformer pre transform:  72%|███████▏  | 572820/796356 [00:03<00:01, 155149.04it/s]"
     ]
    },
    {
     "name": "stderr",
     "output_type": "stream",
     "text": [
      "\rDictTransformer pre transform:  74%|███████▍  | 589078/796356 [00:03<00:01, 157305.95it/s]"
     ]
    },
    {
     "name": "stderr",
     "output_type": "stream",
     "text": [
      "\rDictTransformer pre transform:  76%|███████▌  | 605081/796356 [00:03<00:01, 158110.96it/s]"
     ]
    },
    {
     "name": "stderr",
     "output_type": "stream",
     "text": [
      "\rDictTransformer pre transform:  78%|███████▊  | 620903/796356 [00:04<00:01, 154600.91it/s]"
     ]
    },
    {
     "name": "stderr",
     "output_type": "stream",
     "text": [
      "\rDictTransformer pre transform:  80%|███████▉  | 636388/796356 [00:04<00:01, 152313.97it/s]"
     ]
    },
    {
     "name": "stderr",
     "output_type": "stream",
     "text": [
      "\rDictTransformer pre transform:  82%|████████▏ | 652117/796356 [00:04<00:00, 153772.91it/s]"
     ]
    },
    {
     "name": "stderr",
     "output_type": "stream",
     "text": [
      "\rDictTransformer pre transform:  84%|████████▍ | 667959/796356 [00:04<00:00, 155136.89it/s]"
     ]
    },
    {
     "name": "stderr",
     "output_type": "stream",
     "text": [
      "\rDictTransformer pre transform:  86%|████████▌ | 683491/796356 [00:04<00:00, 153306.68it/s]"
     ]
    },
    {
     "name": "stderr",
     "output_type": "stream",
     "text": [
      "\rDictTransformer pre transform:  88%|████████▊ | 699035/796356 [00:04<00:00, 153940.11it/s]"
     ]
    },
    {
     "name": "stderr",
     "output_type": "stream",
     "text": [
      "\rDictTransformer pre transform:  90%|████████▉ | 714442/796356 [00:04<00:00, 133833.64it/s]"
     ]
    },
    {
     "name": "stderr",
     "output_type": "stream",
     "text": [
      "\rDictTransformer pre transform:  92%|█████████▏| 729666/796356 [00:04<00:00, 138862.69it/s]"
     ]
    },
    {
     "name": "stderr",
     "output_type": "stream",
     "text": [
      "\rDictTransformer pre transform:  94%|█████████▎| 745505/796356 [00:04<00:00, 144195.10it/s]"
     ]
    },
    {
     "name": "stderr",
     "output_type": "stream",
     "text": [
      "\rDictTransformer pre transform:  95%|█████████▌| 760246/796356 [00:05<00:00, 137833.66it/s]"
     ]
    },
    {
     "name": "stderr",
     "output_type": "stream",
     "text": [
      "\rDictTransformer pre transform:  97%|█████████▋| 774522/796356 [00:05<00:00, 139275.04it/s]"
     ]
    },
    {
     "name": "stderr",
     "output_type": "stream",
     "text": [
      "\rDictTransformer pre transform:  99%|█████████▉| 789615/796356 [00:05<00:00, 142575.68it/s]"
     ]
    },
    {
     "name": "stderr",
     "output_type": "stream",
     "text": [
      "\rDictTransformer pre transform: 100%|██████████| 796356/796356 [00:05<00:00, 150730.76it/s]"
     ]
    },
    {
     "name": "stderr",
     "output_type": "stream",
     "text": [
      "\n\rDictTransformer transform:   0%|          | 0/105746 [00:00<?, ?it/s]"
     ]
    },
    {
     "name": "stderr",
     "output_type": "stream",
     "text": [
      "\rDictTransformer transform:  52%|█████▏    | 54937/105746 [00:00<00:00, 549360.05it/s]"
     ]
    },
    {
     "name": "stderr",
     "output_type": "stream",
     "text": [
      "\rDictTransformer transform: 100%|██████████| 105746/105746 [00:00<00:00, 583545.65it/s]"
     ]
    },
    {
     "name": "stderr",
     "output_type": "stream",
     "text": [
      "\n"
     ]
    },
    {
     "name": "stderr",
     "output_type": "stream",
     "text": [
      "\rLSTMTransliterator transform stage 1:   0%|          | 0/5159 [00:00<?, ?it/s]"
     ]
    },
    {
     "name": "stderr",
     "output_type": "stream",
     "text": [
      "\rLSTMTransliterator transform stage 1: 100%|██████████| 5159/5159 [00:00<00:00, 104574.83it/s]"
     ]
    },
    {
     "name": "stderr",
     "output_type": "stream",
     "text": [
      "\n\rLSTMTransliterator transform stage 2:   0%|          | 0/5159 [00:00<?, ?it/s]"
     ]
    },
    {
     "name": "stderr",
     "output_type": "stream",
     "text": [
      "\rLSTMTransliterator transform stage 2: 100%|██████████| 5159/5159 [00:00<00:00, 237774.32it/s]"
     ]
    },
    {
     "name": "stderr",
     "output_type": "stream",
     "text": [
      "\n"
     ]
    },
    {
     "name": "stderr",
     "output_type": "stream",
     "text": [
      "\rLettersTransformer transform:   0%|          | 0/105746 [00:00<?, ?it/s]"
     ]
    },
    {
     "name": "stderr",
     "output_type": "stream",
     "text": [
      "\rLettersTransformer transform:  35%|███▌      | 37324/105746 [00:00<00:00, 373228.79it/s]"
     ]
    },
    {
     "name": "stderr",
     "output_type": "stream",
     "text": [
      "\rLettersTransformer transform:  62%|██████▏   | 65505/105746 [00:00<00:00, 340124.00it/s]"
     ]
    },
    {
     "name": "stderr",
     "output_type": "stream",
     "text": [
      "\rLettersTransformer transform:  94%|█████████▍| 99891/105746 [00:00<00:00, 341235.13it/s]"
     ]
    },
    {
     "name": "stderr",
     "output_type": "stream",
     "text": [
      "\rLettersTransformer transform: 100%|██████████| 105746/105746 [00:00<00:00, 329234.97it/s]"
     ]
    },
    {
     "name": "stderr",
     "output_type": "stream",
     "text": [
      "\n"
     ]
    }
   ],
   "source": [
    "predicted = transform(x_train, x_test, y_train, y_test)"
   ]
  },
  {
   "cell_type": "code",
   "execution_count": 7,
   "metadata": {},
   "outputs": [],
   "source": [
    "predicted = predicted.assign(after_true=y_test)"
   ]
  },
  {
   "cell_type": "code",
   "execution_count": 8,
   "metadata": {
    "collapsed": true
   },
   "outputs": [
    {
     "data": {
      "text/plain": [
       "LETTERS       59342\nVERBATIM      25543\nTRANS          6208\nCARDINAL       6160\nPLAIN          2757\nDASH           1706\nDATE           1584\nMEASURE         535\nORDINAL         138\nELECTRONIC       36\nDIGIT            24\nDECIMAL          20\nTELEPHONE        20\nTIME             18\nFRACTION         16\nMONEY             6\nPUNCT             0\nName: class, dtype: int64"
      ]
     },
     "execution_count": 8,
     "metadata": {},
     "output_type": "execute_result"
    }
   ],
   "source": [
    "predicted[(predicted[\"after\"] == y_test)]['class'].value_counts()"
   ]
  },
  {
   "cell_type": "code",
   "execution_count": 9,
   "metadata": {
    "collapsed": false
   },
   "outputs": [
    {
     "data": {
      "text/plain": [
       "TRANS         515\nCARDINAL      289\nDASH          122\nLETTERS       105\nDATE          102\nMEASURE        90\nORDINAL        27\nPLAIN          19\nDECIMAL        16\nVERBATIM        4\nMONEY           3\nFRACTION        1\nTELEPHONE       1\nELECTRONIC      0\nDIGIT           0\nPUNCT           0\nTIME            0\nName: class, dtype: int64"
      ]
     },
     "execution_count": 9,
     "metadata": {},
     "output_type": "execute_result"
    }
   ],
   "source": [
    "predicted[~(predicted[\"after\"] == y_test) & ~(predicted[\"after\"].isnull())]['class'].value_counts()"
   ]
  },
  {
   "cell_type": "code",
   "execution_count": 10,
   "metadata": {
    "collapsed": false
   },
   "outputs": [
    {
     "data": {
      "text/plain": [
       "MEASURE       177\nTELEPHONE      63\nTRANS          31\nDECIMAL        23\nORDINAL        14\nMONEY          12\nFRACTION        7\nPLAIN           6\nTIME            4\nELECTRONIC      2\nDIGIT           0\nCARDINAL        0\nLETTERS         0\nVERBATIM        0\nPUNCT           0\nDATE            0\nDASH            0\nName: class, dtype: int64"
      ]
     },
     "execution_count": 10,
     "metadata": {},
     "output_type": "execute_result"
    }
   ],
   "source": [
    "predicted[(predicted[\"after\"].isnull())]['class'].value_counts()"
   ]
  },
  {
   "cell_type": "code",
   "execution_count": 24,
   "metadata": {
    "collapsed": false
   },
   "outputs": [
    {
     "data": {
      "text/html": [
       "<div>\n",
       "<style scoped>\n",
       "    .dataframe tbody tr th:only-of-type {\n",
       "        vertical-align: middle;\n",
       "    }\n",
       "\n",
       "    .dataframe tbody tr th {\n",
       "        vertical-align: top;\n",
       "    }\n",
       "\n",
       "    .dataframe thead th {\n",
       "        text-align: right;\n",
       "    }\n",
       "</style>\n",
       "<table border=\"1\" class=\"dataframe\">\n",
       "  <thead>\n",
       "    <tr style=\"text-align: right;\">\n",
       "      <th></th>\n",
       "      <th>before</th>\n",
       "      <th>prev_prev</th>\n",
       "      <th>prev</th>\n",
       "      <th>next</th>\n",
       "      <th>next_next</th>\n",
       "      <th>class</th>\n",
       "      <th>after</th>\n",
       "      <th>after_true</th>\n",
       "    </tr>\n",
       "  </thead>\n",
       "  <tbody>\n",
       "    <tr>\n",
       "      <th>3394619</th>\n",
       "      <td>NewsUkrainеВерховная</td>\n",
       "      <td>технологии</td>\n",
       "      <td>—</td>\n",
       "      <td>Рада</td>\n",
       "      <td>Украины</td>\n",
       "      <td>TRANS</td>\n",
       "      <td>None</td>\n",
       "      <td>NewsUkrainеВерховная</td>\n",
       "    </tr>\n",
       "    <tr>\n",
       "      <th>8974293</th>\n",
       "      <td>www.stockholmfilmfestival.se</td>\n",
       "      <td>Стокгольме</td>\n",
       "      <td>—</td>\n",
       "      <td>(</td>\n",
       "      <td>20 ноября 2015</td>\n",
       "      <td>TRANS</td>\n",
       "      <td>None</td>\n",
       "      <td>w w w точка с_trans т_trans о_trans к_trans х_...</td>\n",
       "    </tr>\n",
       "    <tr>\n",
       "      <th>7691787</th>\n",
       "      <td>Sportsnet.ca</td>\n",
       "      <td>Горького</td>\n",
       "      <td>.</td>\n",
       "      <td>(</td>\n",
       "      <td>16</td>\n",
       "      <td>TRANS</td>\n",
       "      <td>None</td>\n",
       "      <td>с_trans п_trans о_trans р_trans т_trans с_tran...</td>\n",
       "    </tr>\n",
       "    <tr>\n",
       "      <th>10246664</th>\n",
       "      <td>Wales.com</td>\n",
       "      <td>.</td>\n",
       "      <td>Castle</td>\n",
       "      <td>(</td>\n",
       "      <td>2001</td>\n",
       "      <td>TRANS</td>\n",
       "      <td>None</td>\n",
       "      <td>у_trans о_trans л_trans с_trans точка к_trans ...</td>\n",
       "    </tr>\n",
       "    <tr>\n",
       "      <th>10419643</th>\n",
       "      <td>CISsoccer.com</td>\n",
       "      <td>Plutarch</td>\n",
       "      <td>.</td>\n",
       "      <td>(</td>\n",
       "      <td>15 мая 2007</td>\n",
       "      <td>TRANS</td>\n",
       "      <td>None</td>\n",
       "      <td>с_trans и_trans с_trans с_trans о_trans с_tran...</td>\n",
       "    </tr>\n",
       "    <tr>\n",
       "      <th>730295</th>\n",
       "      <td>FЕсли</td>\n",
       "      <td>.</td>\n",
       "      <td>Концовка</td>\n",
       "      <td>Дженнифер</td>\n",
       "      <td>не</td>\n",
       "      <td>TRANS</td>\n",
       "      <td>None</td>\n",
       "      <td>FЕсли</td>\n",
       "    </tr>\n",
       "    <tr>\n",
       "      <th>7914185</th>\n",
       "      <td>trucksplanet.com</td>\n",
       "      <td>350</td>\n",
       "      <td>.</td>\n",
       "      <td>.</td>\n",
       "      <td>Некоторое</td>\n",
       "      <td>TRANS</td>\n",
       "      <td>None</td>\n",
       "      <td>т_trans р_trans а_trans к_trans с_trans п_tran...</td>\n",
       "    </tr>\n",
       "    <tr>\n",
       "      <th>6552808</th>\n",
       "      <td>http://www.un.org/russian/peace/pko/unomig/94-583</td>\n",
       "      <td>,</td>\n",
       "      <td>4 апреля 1994 г.</td>\n",
       "      <td>.</td>\n",
       "      <td>pdfЗаявление</td>\n",
       "      <td>TRANS</td>\n",
       "      <td>None</td>\n",
       "      <td>h t t p w w w точка а_trans н_trans точка орг ...</td>\n",
       "    </tr>\n",
       "    <tr>\n",
       "      <th>9645986</th>\n",
       "      <td>diageo.comBEYOND</td>\n",
       "      <td>на</td>\n",
       "      <td>сайте</td>\n",
       "      <td>DISTILLING</td>\n",
       "      <td>pt</td>\n",
       "      <td>TRANS</td>\n",
       "      <td>None</td>\n",
       "      <td>д_trans и_trans а_trans г_trans е_trans о_tran...</td>\n",
       "    </tr>\n",
       "    <tr>\n",
       "      <th>4304999</th>\n",
       "      <td>crs.gov</td>\n",
       "      <td>for</td>\n",
       "      <td>Congress</td>\n",
       "      <td>RL</td>\n",
       "      <td>33640</td>\n",
       "      <td>TRANS</td>\n",
       "      <td>None</td>\n",
       "      <td>c r s точка г_trans о_trans в_trans</td>\n",
       "    </tr>\n",
       "    <tr>\n",
       "      <th>151815</th>\n",
       "      <td>http://dic.academic.ru/dic.nsf/enc_physics/2337/</td>\n",
       "      <td>.</td>\n",
       "      <td>—</td>\n",
       "      <td>Фурье</td>\n",
       "      <td>(</td>\n",
       "      <td>TRANS</td>\n",
       "      <td>None</td>\n",
       "      <td>h t t p дик точка а_trans к_trans а_trans д_tr...</td>\n",
       "    </tr>\n",
       "    <tr>\n",
       "      <th>7313845</th>\n",
       "      <td>Presseportal.de</td>\n",
       "      <td>Керштенс</td>\n",
       "      <td>.</td>\n",
       "      <td>(</td>\n",
       "      <td>25</td>\n",
       "      <td>TRANS</td>\n",
       "      <td>None</td>\n",
       "      <td>п_trans р_trans е_trans с_trans с_trans е_tran...</td>\n",
       "    </tr>\n",
       "    <tr>\n",
       "      <th>2183795</th>\n",
       "      <td>youtube.com</td>\n",
       "      <td>/</td>\n",
       "      <td>/</td>\n",
       "      <td>(</td>\n",
       "      <td>официальный</td>\n",
       "      <td>TRANS</td>\n",
       "      <td>None</td>\n",
       "      <td>ю_trans т_trans у_trans б_trans точка к_trans ...</td>\n",
       "    </tr>\n",
       "    <tr>\n",
       "      <th>3503092</th>\n",
       "      <td>www.anzac.govt.nz</td>\n",
       "      <td>на</td>\n",
       "      <td>сайте</td>\n",
       "      <td>(</td>\n",
       "      <td>англ</td>\n",
       "      <td>TRANS</td>\n",
       "      <td>None</td>\n",
       "      <td>w w w точка а_trans н_trans з_trans а_trans к_...</td>\n",
       "    </tr>\n",
       "    <tr>\n",
       "      <th>5593736</th>\n",
       "      <td>nts-tv.com</td>\n",
       "      <td>/</td>\n",
       "      <td>/</td>\n",
       "      <td>(</td>\n",
       "      <td>22 ноября 2013 года</td>\n",
       "      <td>TRANS</td>\n",
       "      <td>None</td>\n",
       "      <td>n t s дефис t v точка к_trans о_trans м_trans</td>\n",
       "    </tr>\n",
       "    <tr>\n",
       "      <th>7811740</th>\n",
       "      <td>starmen.net</td>\n",
       "      <td>создали</td>\n",
       "      <td>сайт</td>\n",
       "      <td>и</td>\n",
       "      <td>приступили</td>\n",
       "      <td>TRANS</td>\n",
       "      <td>None</td>\n",
       "      <td>с_trans т_trans а_trans р_trans м_trans е_tran...</td>\n",
       "    </tr>\n",
       "    <tr>\n",
       "      <th>7714077</th>\n",
       "      <td>http://www.fontanka.ru/</td>\n",
       "      <td>изучают</td>\n",
       "      <td>полюса</td>\n",
       "      <td>ТОЛЬКО</td>\n",
       "      <td>БЕРЕГИТЕ</td>\n",
       "      <td>TRANS</td>\n",
       "      <td>None</td>\n",
       "      <td>h t t p w w w точка ф_trans о_trans н_trans т_...</td>\n",
       "    </tr>\n",
       "    <tr>\n",
       "      <th>7401196</th>\n",
       "      <td>Merdeka.com</td>\n",
       "      <td>СкитобрахионуСофокл</td>\n",
       "      <td>.</td>\n",
       "      <td>(</td>\n",
       "      <td>26</td>\n",
       "      <td>TRANS</td>\n",
       "      <td>None</td>\n",
       "      <td>м_trans е_trans р_trans д_trans и_trans к_tran...</td>\n",
       "    </tr>\n",
       "    <tr>\n",
       "      <th>1637810</th>\n",
       "      <td>2016.markus</td>\n",
       "      <td>Проверено</td>\n",
       "      <td>6 февраля</td>\n",
       "      <td>.</td>\n",
       "      <td>The</td>\n",
       "      <td>TRANS</td>\n",
       "      <td>None</td>\n",
       "      <td>две тысячи шестнадцать точка м_trans а_trans р...</td>\n",
       "    </tr>\n",
       "    <tr>\n",
       "      <th>2582043</th>\n",
       "      <td>australian-charts.com</td>\n",
       "      <td>Hung</td>\n",
       "      <td>,</td>\n",
       "      <td>.</td>\n",
       "      <td>Metal</td>\n",
       "      <td>TRANS</td>\n",
       "      <td>None</td>\n",
       "      <td>остралиан дефис чартс точка к_trans о_trans м_...</td>\n",
       "    </tr>\n",
       "  </tbody>\n",
       "</table>\n",
       "</div>"
      ],
      "text/plain": [
       "<div>\n",
       "<style scoped>\n",
       "    .dataframe tbody tr th:only-of-type {\n",
       "        vertical-align: middle;\n",
       "    }\n",
       "\n",
       "    .dataframe tbody tr th {\n",
       "        vertical-align: top;\n",
       "    }\n",
       "\n",
       "    .dataframe thead th {\n",
       "        text-align: right;\n",
       "    }\n",
       "</style>\n",
       "<table border=\"1\" class=\"dataframe\">\n",
       "  <thead>\n",
       "    <tr style=\"text-align: right;\">\n",
       "      <th></th>\n",
       "      <th>before</th>\n",
       "      <th>prev_prev</th>\n",
       "      <th>prev</th>\n",
       "      <th>next</th>\n",
       "      <th>next_next</th>\n",
       "      <th>class</th>\n",
       "      <th>after</th>\n",
       "      <th>after_true</th>\n",
       "    </tr>\n",
       "  </thead>\n",
       "  <tbody>\n",
       "    <tr>\n",
       "      <th>3394619</th>\n",
       "      <td>NewsUkrainеВерховная</td>\n",
       "      <td>технологии</td>\n",
       "      <td>—</td>\n",
       "      <td>Рада</td>\n",
       "      <td>Украины</td>\n",
       "      <td>TRANS</td>\n",
       "      <td>None</td>\n",
       "      <td>NewsUkrainеВерховная</td>\n",
       "    </tr>\n",
       "    <tr>\n",
       "      <th>8974293</th>\n",
       "      <td>www.stockholmfilmfestival.se</td>\n",
       "      <td>Стокгольме</td>\n",
       "      <td>—</td>\n",
       "      <td>(</td>\n",
       "      <td>20 ноября 2015</td>\n",
       "      <td>TRANS</td>\n",
       "      <td>None</td>\n",
       "      <td>w w w точка с_trans т_trans о_trans к_trans х_...</td>\n",
       "    </tr>\n",
       "    <tr>\n",
       "      <th>7691787</th>\n",
       "      <td>Sportsnet.ca</td>\n",
       "      <td>Горького</td>\n",
       "      <td>.</td>\n",
       "      <td>(</td>\n",
       "      <td>16</td>\n",
       "      <td>TRANS</td>\n",
       "      <td>None</td>\n",
       "      <td>с_trans п_trans о_trans р_trans т_trans с_tran...</td>\n",
       "    </tr>\n",
       "    <tr>\n",
       "      <th>10246664</th>\n",
       "      <td>Wales.com</td>\n",
       "      <td>.</td>\n",
       "      <td>Castle</td>\n",
       "      <td>(</td>\n",
       "      <td>2001</td>\n",
       "      <td>TRANS</td>\n",
       "      <td>None</td>\n",
       "      <td>у_trans о_trans л_trans с_trans точка к_trans ...</td>\n",
       "    </tr>\n",
       "    <tr>\n",
       "      <th>10419643</th>\n",
       "      <td>CISsoccer.com</td>\n",
       "      <td>Plutarch</td>\n",
       "      <td>.</td>\n",
       "      <td>(</td>\n",
       "      <td>15 мая 2007</td>\n",
       "      <td>TRANS</td>\n",
       "      <td>None</td>\n",
       "      <td>с_trans и_trans с_trans с_trans о_trans с_tran...</td>\n",
       "    </tr>\n",
       "    <tr>\n",
       "      <th>730295</th>\n",
       "      <td>FЕсли</td>\n",
       "      <td>.</td>\n",
       "      <td>Концовка</td>\n",
       "      <td>Дженнифер</td>\n",
       "      <td>не</td>\n",
       "      <td>TRANS</td>\n",
       "      <td>None</td>\n",
       "      <td>FЕсли</td>\n",
       "    </tr>\n",
       "    <tr>\n",
       "      <th>7914185</th>\n",
       "      <td>trucksplanet.com</td>\n",
       "      <td>350</td>\n",
       "      <td>.</td>\n",
       "      <td>.</td>\n",
       "      <td>Некоторое</td>\n",
       "      <td>TRANS</td>\n",
       "      <td>None</td>\n",
       "      <td>т_trans р_trans а_trans к_trans с_trans п_tran...</td>\n",
       "    </tr>\n",
       "    <tr>\n",
       "      <th>6552808</th>\n",
       "      <td>http://www.un.org/russian/peace/pko/unomig/94-583</td>\n",
       "      <td>,</td>\n",
       "      <td>4 апреля 1994 г.</td>\n",
       "      <td>.</td>\n",
       "      <td>pdfЗаявление</td>\n",
       "      <td>TRANS</td>\n",
       "      <td>None</td>\n",
       "      <td>h t t p w w w точка а_trans н_trans точка орг ...</td>\n",
       "    </tr>\n",
       "    <tr>\n",
       "      <th>9645986</th>\n",
       "      <td>diageo.comBEYOND</td>\n",
       "      <td>на</td>\n",
       "      <td>сайте</td>\n",
       "      <td>DISTILLING</td>\n",
       "      <td>pt</td>\n",
       "      <td>TRANS</td>\n",
       "      <td>None</td>\n",
       "      <td>д_trans и_trans а_trans г_trans е_trans о_tran...</td>\n",
       "    </tr>\n",
       "    <tr>\n",
       "      <th>4304999</th>\n",
       "      <td>crs.gov</td>\n",
       "      <td>for</td>\n",
       "      <td>Congress</td>\n",
       "      <td>RL</td>\n",
       "      <td>33640</td>\n",
       "      <td>TRANS</td>\n",
       "      <td>None</td>\n",
       "      <td>c r s точка г_trans о_trans в_trans</td>\n",
       "    </tr>\n",
       "    <tr>\n",
       "      <th>151815</th>\n",
       "      <td>http://dic.academic.ru/dic.nsf/enc_physics/2337/</td>\n",
       "      <td>.</td>\n",
       "      <td>—</td>\n",
       "      <td>Фурье</td>\n",
       "      <td>(</td>\n",
       "      <td>TRANS</td>\n",
       "      <td>None</td>\n",
       "      <td>h t t p дик точка а_trans к_trans а_trans д_tr...</td>\n",
       "    </tr>\n",
       "    <tr>\n",
       "      <th>7313845</th>\n",
       "      <td>Presseportal.de</td>\n",
       "      <td>Керштенс</td>\n",
       "      <td>.</td>\n",
       "      <td>(</td>\n",
       "      <td>25</td>\n",
       "      <td>TRANS</td>\n",
       "      <td>None</td>\n",
       "      <td>п_trans р_trans е_trans с_trans с_trans е_tran...</td>\n",
       "    </tr>\n",
       "    <tr>\n",
       "      <th>2183795</th>\n",
       "      <td>youtube.com</td>\n",
       "      <td>/</td>\n",
       "      <td>/</td>\n",
       "      <td>(</td>\n",
       "      <td>официальный</td>\n",
       "      <td>TRANS</td>\n",
       "      <td>None</td>\n",
       "      <td>ю_trans т_trans у_trans б_trans точка к_trans ...</td>\n",
       "    </tr>\n",
       "    <tr>\n",
       "      <th>3503092</th>\n",
       "      <td>www.anzac.govt.nz</td>\n",
       "      <td>на</td>\n",
       "      <td>сайте</td>\n",
       "      <td>(</td>\n",
       "      <td>англ</td>\n",
       "      <td>TRANS</td>\n",
       "      <td>None</td>\n",
       "      <td>w w w точка а_trans н_trans з_trans а_trans к_...</td>\n",
       "    </tr>\n",
       "    <tr>\n",
       "      <th>5593736</th>\n",
       "      <td>nts-tv.com</td>\n",
       "      <td>/</td>\n",
       "      <td>/</td>\n",
       "      <td>(</td>\n",
       "      <td>22 ноября 2013 года</td>\n",
       "      <td>TRANS</td>\n",
       "      <td>None</td>\n",
       "      <td>n t s дефис t v точка к_trans о_trans м_trans</td>\n",
       "    </tr>\n",
       "    <tr>\n",
       "      <th>7811740</th>\n",
       "      <td>starmen.net</td>\n",
       "      <td>создали</td>\n",
       "      <td>сайт</td>\n",
       "      <td>и</td>\n",
       "      <td>приступили</td>\n",
       "      <td>TRANS</td>\n",
       "      <td>None</td>\n",
       "      <td>с_trans т_trans а_trans р_trans м_trans е_tran...</td>\n",
       "    </tr>\n",
       "    <tr>\n",
       "      <th>7714077</th>\n",
       "      <td>http://www.fontanka.ru/</td>\n",
       "      <td>изучают</td>\n",
       "      <td>полюса</td>\n",
       "      <td>ТОЛЬКО</td>\n",
       "      <td>БЕРЕГИТЕ</td>\n",
       "      <td>TRANS</td>\n",
       "      <td>None</td>\n",
       "      <td>h t t p w w w точка ф_trans о_trans н_trans т_...</td>\n",
       "    </tr>\n",
       "    <tr>\n",
       "      <th>7401196</th>\n",
       "      <td>Merdeka.com</td>\n",
       "      <td>СкитобрахионуСофокл</td>\n",
       "      <td>.</td>\n",
       "      <td>(</td>\n",
       "      <td>26</td>\n",
       "      <td>TRANS</td>\n",
       "      <td>None</td>\n",
       "      <td>м_trans е_trans р_trans д_trans и_trans к_tran...</td>\n",
       "    </tr>\n",
       "    <tr>\n",
       "      <th>1637810</th>\n",
       "      <td>2016.markus</td>\n",
       "      <td>Проверено</td>\n",
       "      <td>6 февраля</td>\n",
       "      <td>.</td>\n",
       "      <td>The</td>\n",
       "      <td>TRANS</td>\n",
       "      <td>None</td>\n",
       "      <td>две тысячи шестнадцать точка м_trans а_trans р...</td>\n",
       "    </tr>\n",
       "    <tr>\n",
       "      <th>2582043</th>\n",
       "      <td>australian-charts.com</td>\n",
       "      <td>Hung</td>\n",
       "      <td>,</td>\n",
       "      <td>.</td>\n",
       "      <td>Metal</td>\n",
       "      <td>TRANS</td>\n",
       "      <td>None</td>\n",
       "      <td>остралиан дефис чартс точка к_trans о_trans м_...</td>\n",
       "    </tr>\n",
       "  </tbody>\n",
       "</table>\n",
       "</div>"
      ]
     },
     "execution_count": 24,
     "metadata": {},
     "output_type": "execute_result"
    }
   ],
   "source": [
    "predicted[~(predicted[\"after\"] == y_test) & (predicted[\"after\"].isnull()) & (predicted['class']=='TRANS')].sample(20)"
   ]
  },
  {
   "cell_type": "code",
   "execution_count": 15,
   "metadata": {
    "collapsed": false
   },
   "outputs": [
    {
     "data": {
      "text/html": [
       "<div>\n",
       "<style scoped>\n",
       "    .dataframe tbody tr th:only-of-type {\n",
       "        vertical-align: middle;\n",
       "    }\n",
       "\n",
       "    .dataframe tbody tr th {\n",
       "        vertical-align: top;\n",
       "    }\n",
       "\n",
       "    .dataframe thead th {\n",
       "        text-align: right;\n",
       "    }\n",
       "</style>\n",
       "<table border=\"1\" class=\"dataframe\">\n",
       "  <thead>\n",
       "    <tr style=\"text-align: right;\">\n",
       "      <th></th>\n",
       "      <th>before</th>\n",
       "      <th>prev_prev</th>\n",
       "      <th>prev</th>\n",
       "      <th>next</th>\n",
       "      <th>next_next</th>\n",
       "      <th>class</th>\n",
       "      <th>case</th>\n",
       "      <th>number</th>\n",
       "      <th>after</th>\n",
       "      <th>after_true</th>\n",
       "    </tr>\n",
       "  </thead>\n",
       "  <tbody>\n",
       "    <tr>\n",
       "      <th>3439716</th>\n",
       "      <td>.</td>\n",
       "      <td>и</td>\n",
       "      <td>CCKB</td>\n",
       "      <td>Первая</td>\n",
       "      <td>бригада</td>\n",
       "      <td>CARDINAL</td>\n",
       "      <td>nomn</td>\n",
       "      <td>sing</td>\n",
       "      <td>None</td>\n",
       "      <td>.</td>\n",
       "    </tr>\n",
       "    <tr>\n",
       "      <th>228056</th>\n",
       "      <td>.</td>\n",
       "      <td>первоисточника</td>\n",
       "      <td>26 апреля 2015</td>\n",
       "      <td>Усадьба</td>\n",
       "      <td>Барсовой</td>\n",
       "      <td>CARDINAL</td>\n",
       "      <td>nomn</td>\n",
       "      <td>sing</td>\n",
       "      <td>None</td>\n",
       "      <td>.</td>\n",
       "    </tr>\n",
       "    <tr>\n",
       "      <th>5254234</th>\n",
       "      <td>.</td>\n",
       "      <td>с</td>\n",
       "      <td>компанией</td>\n",
       "      <td>Тонкий</td>\n",
       "      <td>хвост</td>\n",
       "      <td>CARDINAL</td>\n",
       "      <td>nomn</td>\n",
       "      <td>sing</td>\n",
       "      <td>None</td>\n",
       "      <td>.</td>\n",
       "    </tr>\n",
       "    <tr>\n",
       "      <th>1074310</th>\n",
       "      <td>184</td>\n",
       "      <td>жителей</td>\n",
       "      <td>работали</td>\n",
       "      <td>человека</td>\n",
       "      <td>(</td>\n",
       "      <td>CARDINAL</td>\n",
       "      <td>nomn</td>\n",
       "      <td>sing</td>\n",
       "      <td>сто восемьдесят четыре</td>\n",
       "      <td>сто восемьдесят четыре</td>\n",
       "    </tr>\n",
       "    <tr>\n",
       "      <th>7318781</th>\n",
       "      <td>7</td>\n",
       "      <td>23</td>\n",
       "      <td>.</td>\n",
       "      <td>человек</td>\n",
       "      <td>на</td>\n",
       "      <td>CARDINAL</td>\n",
       "      <td>nomn</td>\n",
       "      <td>none</td>\n",
       "      <td>семь</td>\n",
       "      <td>семь</td>\n",
       "    </tr>\n",
       "    <tr>\n",
       "      <th>3260148</th>\n",
       "      <td>-</td>\n",
       "      <td>украинкой</td>\n",
       "      <td>Ганной</td>\n",
       "      <td>рисовальщицей</td>\n",
       "      <td>»</td>\n",
       "      <td>CARDINAL</td>\n",
       "      <td>nomn</td>\n",
       "      <td>sing</td>\n",
       "      <td>None</td>\n",
       "      <td>-</td>\n",
       "    </tr>\n",
       "    <tr>\n",
       "      <th>268049</th>\n",
       "      <td>.</td>\n",
       "      <td>(</td>\n",
       "      <td>исп</td>\n",
       "      <td>Keiko</td>\n",
       "      <td>Sofia</td>\n",
       "      <td>CARDINAL</td>\n",
       "      <td>nomn</td>\n",
       "      <td>sing</td>\n",
       "      <td>None</td>\n",
       "      <td>.</td>\n",
       "    </tr>\n",
       "    <tr>\n",
       "      <th>8609176</th>\n",
       "      <td>-</td>\n",
       "      <td>и</td>\n",
       "      <td>Сен</td>\n",
       "      <td>Филип</td>\n",
       "      <td>,</td>\n",
       "      <td>CARDINAL</td>\n",
       "      <td>nomn</td>\n",
       "      <td>sing</td>\n",
       "      <td>None</td>\n",
       "      <td>-</td>\n",
       "    </tr>\n",
       "    <tr>\n",
       "      <th>4202194</th>\n",
       "      <td>.</td>\n",
       "      <td>en</td>\n",
       "      <td>Diest</td>\n",
       "      <td>Король</td>\n",
       "      <td>Эдуард</td>\n",
       "      <td>CARDINAL</td>\n",
       "      <td>nomn</td>\n",
       "      <td>sing</td>\n",
       "      <td>None</td>\n",
       "      <td>.</td>\n",
       "    </tr>\n",
       "    <tr>\n",
       "      <th>2757101</th>\n",
       "      <td>779</td>\n",
       "      <td>775</td>\n",
       "      <td>по</td>\n",
       "      <td>.</td>\n",
       "      <td>Нерсе</td>\n",
       "      <td>CARDINAL</td>\n",
       "      <td>nomn</td>\n",
       "      <td>none</td>\n",
       "      <td>семьсот семьдесят девять</td>\n",
       "      <td>семьсот семьдесят девятый</td>\n",
       "    </tr>\n",
       "    <tr>\n",
       "      <th>64429</th>\n",
       "      <td>.</td>\n",
       "      <td>,</td>\n",
       "      <td>1922</td>\n",
       "      <td>Angles</td>\n",
       "      <td>H.</td>\n",
       "      <td>CARDINAL</td>\n",
       "      <td>nomn</td>\n",
       "      <td>sing</td>\n",
       "      <td>None</td>\n",
       "      <td>.</td>\n",
       "    </tr>\n",
       "    <tr>\n",
       "      <th>7704610</th>\n",
       "      <td>.</td>\n",
       "      <td>.</td>\n",
       "      <td>495</td>\n",
       "      <td>Martin</td>\n",
       "      <td>and</td>\n",
       "      <td>CARDINAL</td>\n",
       "      <td>nomn</td>\n",
       "      <td>sing</td>\n",
       "      <td>None</td>\n",
       "      <td>.</td>\n",
       "    </tr>\n",
       "    <tr>\n",
       "      <th>7824686</th>\n",
       "      <td>.</td>\n",
       "      <td>первоисточника</td>\n",
       "      <td>8 апреля 2013</td>\n",
       "      <td>Best</td>\n",
       "      <td>-</td>\n",
       "      <td>CARDINAL</td>\n",
       "      <td>nomn</td>\n",
       "      <td>sing</td>\n",
       "      <td>None</td>\n",
       "      <td>.</td>\n",
       "    </tr>\n",
       "    <tr>\n",
       "      <th>6324313</th>\n",
       "      <td>112</td>\n",
       "      <td>101</td>\n",
       "      <td>-</td>\n",
       "      <td>.</td>\n",
       "      <td>Mikel</td>\n",
       "      <td>CARDINAL</td>\n",
       "      <td>gent</td>\n",
       "      <td>none</td>\n",
       "      <td>сто двенадцати</td>\n",
       "      <td>ста двенадцати</td>\n",
       "    </tr>\n",
       "    <tr>\n",
       "      <th>2745465</th>\n",
       "      <td>-</td>\n",
       "      <td>,</td>\n",
       "      <td>по</td>\n",
       "      <td>прежнему</td>\n",
       "      <td>обсуждается</td>\n",
       "      <td>CARDINAL</td>\n",
       "      <td>nomn</td>\n",
       "      <td>sing</td>\n",
       "      <td>None</td>\n",
       "      <td>-</td>\n",
       "    </tr>\n",
       "    <tr>\n",
       "      <th>5457860</th>\n",
       "      <td>333</td>\n",
       "      <td>331</td>\n",
       "      <td>—</td>\n",
       "      <td>.</td>\n",
       "      <td>Зимин</td>\n",
       "      <td>CARDINAL</td>\n",
       "      <td>accs</td>\n",
       "      <td>sing</td>\n",
       "      <td>триста тридцать три</td>\n",
       "      <td>триста тридцать три</td>\n",
       "    </tr>\n",
       "    <tr>\n",
       "      <th>429987</th>\n",
       "      <td>-</td>\n",
       "      <td>в</td>\n",
       "      <td>Орехово</td>\n",
       "      <td>Зуевском</td>\n",
       "      <td>муниципальном</td>\n",
       "      <td>CARDINAL</td>\n",
       "      <td>nomn</td>\n",
       "      <td>sing</td>\n",
       "      <td>None</td>\n",
       "      <td>-</td>\n",
       "    </tr>\n",
       "    <tr>\n",
       "      <th>5434369</th>\n",
       "      <td>.</td>\n",
       "      <td>московской</td>\n",
       "      <td>теократии</td>\n",
       "      <td>Женевьева</td>\n",
       "      <td>Родис</td>\n",
       "      <td>CARDINAL</td>\n",
       "      <td>nomn</td>\n",
       "      <td>sing</td>\n",
       "      <td>None</td>\n",
       "      <td>.</td>\n",
       "    </tr>\n",
       "    <tr>\n",
       "      <th>2449632</th>\n",
       "      <td>.</td>\n",
       "      <td>-</td>\n",
       "      <td>2012</td>\n",
       "      <td>Ultratop</td>\n",
       "      <td>.</td>\n",
       "      <td>CARDINAL</td>\n",
       "      <td>nomn</td>\n",
       "      <td>sing</td>\n",
       "      <td>None</td>\n",
       "      <td>.</td>\n",
       "    </tr>\n",
       "    <tr>\n",
       "      <th>1837088</th>\n",
       "      <td>2006</td>\n",
       "      <td>рингу</td>\n",
       "      <td>(</td>\n",
       "      <td>)</td>\n",
       "      <td>.</td>\n",
       "      <td>CARDINAL</td>\n",
       "      <td>nomn</td>\n",
       "      <td>sing</td>\n",
       "      <td>две тысячи шесть</td>\n",
       "      <td>две тысячи шесть</td>\n",
       "    </tr>\n",
       "    <tr>\n",
       "      <th>6140572</th>\n",
       "      <td>.</td>\n",
       "      <td>5000</td>\n",
       "      <td>экз</td>\n",
       "      <td>Министерство</td>\n",
       "      <td>здравоохранения</td>\n",
       "      <td>CARDINAL</td>\n",
       "      <td>nomn</td>\n",
       "      <td>sing</td>\n",
       "      <td>None</td>\n",
       "      <td>.</td>\n",
       "    </tr>\n",
       "    <tr>\n",
       "      <th>330087</th>\n",
       "      <td>.</td>\n",
       "      <td>Jorge</td>\n",
       "      <td>Edwards</td>\n",
       "      <td>Основные</td>\n",
       "      <td>теоретики</td>\n",
       "      <td>CARDINAL</td>\n",
       "      <td>nomn</td>\n",
       "      <td>sing</td>\n",
       "      <td>None</td>\n",
       "      <td>.</td>\n",
       "    </tr>\n",
       "    <tr>\n",
       "      <th>5887363</th>\n",
       "      <td>/</td>\n",
       "      <td>(</td>\n",
       "      <td>2006</td>\n",
       "      <td>07</td>\n",
       "      <td>,</td>\n",
       "      <td>CARDINAL</td>\n",
       "      <td>nomn</td>\n",
       "      <td>sing</td>\n",
       "      <td>None</td>\n",
       "      <td>/</td>\n",
       "    </tr>\n",
       "    <tr>\n",
       "      <th>1842620</th>\n",
       "      <td>12</td>\n",
       "      <td>Царском</td>\n",
       "      <td>Селе</td>\n",
       "      <td>(</td>\n",
       "      <td>24</td>\n",
       "      <td>CARDINAL</td>\n",
       "      <td>nomn</td>\n",
       "      <td>none</td>\n",
       "      <td>двенадцать</td>\n",
       "      <td>двенадцать</td>\n",
       "    </tr>\n",
       "    <tr>\n",
       "      <th>9121114</th>\n",
       "      <td>20</td>\n",
       "      <td>большой</td>\n",
       "      <td>за</td>\n",
       "      <td>лет</td>\n",
       "      <td>.</td>\n",
       "      <td>CARDINAL</td>\n",
       "      <td>nomn</td>\n",
       "      <td>none</td>\n",
       "      <td>двадцать</td>\n",
       "      <td>двадцать</td>\n",
       "    </tr>\n",
       "    <tr>\n",
       "      <th>5942303</th>\n",
       "      <td>16</td>\n",
       "      <td>автором</td>\n",
       "      <td>в</td>\n",
       "      <td>лет</td>\n",
       "      <td>.</td>\n",
       "      <td>CARDINAL</td>\n",
       "      <td>nomn</td>\n",
       "      <td>none</td>\n",
       "      <td>шестнадцать</td>\n",
       "      <td>шестнадцать</td>\n",
       "    </tr>\n",
       "    <tr>\n",
       "      <th>4285396</th>\n",
       "      <td>.</td>\n",
       "      <td>И. И.</td>\n",
       "      <td>Соколов</td>\n",
       "      <td>Население</td>\n",
       "      <td>составляет</td>\n",
       "      <td>CARDINAL</td>\n",
       "      <td>nomn</td>\n",
       "      <td>sing</td>\n",
       "      <td>None</td>\n",
       "      <td>.</td>\n",
       "    </tr>\n",
       "    <tr>\n",
       "      <th>5657428</th>\n",
       "      <td>.</td>\n",
       "      <td>воду</td>\n",
       "      <td>16 мая 1818 года</td>\n",
       "      <td>Военные</td>\n",
       "      <td>кампании</td>\n",
       "      <td>CARDINAL</td>\n",
       "      <td>nomn</td>\n",
       "      <td>sing</td>\n",
       "      <td>None</td>\n",
       "      <td>.</td>\n",
       "    </tr>\n",
       "    <tr>\n",
       "      <th>3422143</th>\n",
       "      <td>.</td>\n",
       "      <td>Проверено</td>\n",
       "      <td>21 апреля 2015</td>\n",
       "      <td>Sudhish</td>\n",
       "      <td>Kamath</td>\n",
       "      <td>CARDINAL</td>\n",
       "      <td>nomn</td>\n",
       "      <td>sing</td>\n",
       "      <td>None</td>\n",
       "      <td>.</td>\n",
       "    </tr>\n",
       "    <tr>\n",
       "      <th>3990749</th>\n",
       "      <td>.</td>\n",
       "      <td>с</td>\n",
       "      <td>правдой</td>\n",
       "      <td>В</td>\n",
       "      <td>1955 году</td>\n",
       "      <td>CARDINAL</td>\n",
       "      <td>nomn</td>\n",
       "      <td>sing</td>\n",
       "      <td>None</td>\n",
       "      <td>.</td>\n",
       "    </tr>\n",
       "    <tr>\n",
       "      <th>...</th>\n",
       "      <td>...</td>\n",
       "      <td>...</td>\n",
       "      <td>...</td>\n",
       "      <td>...</td>\n",
       "      <td>...</td>\n",
       "      <td>...</td>\n",
       "      <td>...</td>\n",
       "      <td>...</td>\n",
       "      <td>...</td>\n",
       "      <td>...</td>\n",
       "    </tr>\n",
       "    <tr>\n",
       "      <th>10541187</th>\n",
       "      <td>.</td>\n",
       "      <td>историческое</td>\n",
       "      <td>значение</td>\n",
       "      <td>Автор</td>\n",
       "      <td>сценария</td>\n",
       "      <td>CARDINAL</td>\n",
       "      <td>nomn</td>\n",
       "      <td>sing</td>\n",
       "      <td>None</td>\n",
       "      <td>.</td>\n",
       "    </tr>\n",
       "    <tr>\n",
       "      <th>10527273</th>\n",
       "      <td>.</td>\n",
       "      <td>первоисточника</td>\n",
       "      <td>8 июля 2012</td>\n",
       "      <td>Gendron</td>\n",
       "      <td>,</td>\n",
       "      <td>CARDINAL</td>\n",
       "      <td>nomn</td>\n",
       "      <td>sing</td>\n",
       "      <td>None</td>\n",
       "      <td>.</td>\n",
       "    </tr>\n",
       "    <tr>\n",
       "      <th>7779410</th>\n",
       "      <td>.</td>\n",
       "      <td>первоисточника</td>\n",
       "      <td>18 августа 2012</td>\n",
       "      <td>Linkin</td>\n",
       "      <td>Park</td>\n",
       "      <td>CARDINAL</td>\n",
       "      <td>nomn</td>\n",
       "      <td>sing</td>\n",
       "      <td>None</td>\n",
       "      <td>.</td>\n",
       "    </tr>\n",
       "    <tr>\n",
       "      <th>2751668</th>\n",
       "      <td>.</td>\n",
       "      <td>особенно</td>\n",
       "      <td>женщин</td>\n",
       "      <td>Военная</td>\n",
       "      <td>кампания</td>\n",
       "      <td>CARDINAL</td>\n",
       "      <td>nomn</td>\n",
       "      <td>sing</td>\n",
       "      <td>None</td>\n",
       "      <td>.</td>\n",
       "    </tr>\n",
       "    <tr>\n",
       "      <th>2485600</th>\n",
       "      <td>XII</td>\n",
       "      <td>и</td>\n",
       "      <td>до</td>\n",
       "      <td>века</td>\n",
       "      <td>власть</td>\n",
       "      <td>CARDINAL</td>\n",
       "      <td>nomn</td>\n",
       "      <td>none</td>\n",
       "      <td>None</td>\n",
       "      <td>двенадцатого</td>\n",
       "    </tr>\n",
       "    <tr>\n",
       "      <th>8812525</th>\n",
       "      <td>20</td>\n",
       "      <td>(</td>\n",
       "      <td>до</td>\n",
       "      <td>)</td>\n",
       "      <td>VS</td>\n",
       "      <td>CARDINAL</td>\n",
       "      <td>nomn</td>\n",
       "      <td>none</td>\n",
       "      <td>двадцать</td>\n",
       "      <td>двадцати</td>\n",
       "    </tr>\n",
       "    <tr>\n",
       "      <th>5282690</th>\n",
       "      <td>.</td>\n",
       "      <td>:</td>\n",
       "      <td>ил</td>\n",
       "      <td>В. А.</td>\n",
       "      <td>Возчикова</td>\n",
       "      <td>CARDINAL</td>\n",
       "      <td>nomn</td>\n",
       "      <td>sing</td>\n",
       "      <td>None</td>\n",
       "      <td>.</td>\n",
       "    </tr>\n",
       "    <tr>\n",
       "      <th>2079557</th>\n",
       "      <td>.</td>\n",
       "      <td>доктора</td>\n",
       "      <td>техн</td>\n",
       "      <td>наук</td>\n",
       "      <td>.</td>\n",
       "      <td>CARDINAL</td>\n",
       "      <td>nomn</td>\n",
       "      <td>sing</td>\n",
       "      <td>None</td>\n",
       "      <td>.</td>\n",
       "    </tr>\n",
       "    <tr>\n",
       "      <th>7510534</th>\n",
       "      <td>482</td>\n",
       "      <td>Космос</td>\n",
       "      <td>-</td>\n",
       "      <td>—</td>\n",
       "      <td>автоматическая</td>\n",
       "      <td>CARDINAL</td>\n",
       "      <td>nomn</td>\n",
       "      <td>none</td>\n",
       "      <td>четыреста восемьдесят два</td>\n",
       "      <td>четыреста восемьдесят два</td>\n",
       "    </tr>\n",
       "    <tr>\n",
       "      <th>2480445</th>\n",
       "      <td>69</td>\n",
       "      <td>—</td>\n",
       "      <td>С.</td>\n",
       "      <td>.</td>\n",
       "      <td>London</td>\n",
       "      <td>CARDINAL</td>\n",
       "      <td>nomn</td>\n",
       "      <td>none</td>\n",
       "      <td>шестьдесят девять</td>\n",
       "      <td>шестьдесят девять</td>\n",
       "    </tr>\n",
       "    <tr>\n",
       "      <th>9311043</th>\n",
       "      <td>/</td>\n",
       "      <td>)</td>\n",
       "      <td>/</td>\n",
       "      <td>Крылья</td>\n",
       "      <td>Родины</td>\n",
       "      <td>CARDINAL</td>\n",
       "      <td>nomn</td>\n",
       "      <td>sing</td>\n",
       "      <td>None</td>\n",
       "      <td>/</td>\n",
       "    </tr>\n",
       "    <tr>\n",
       "      <th>8832656</th>\n",
       "      <td>9</td>\n",
       "      <td>территории</td>\n",
       "      <td>Украины</td>\n",
       "      <td>населенных</td>\n",
       "      <td>пунктов</td>\n",
       "      <td>CARDINAL</td>\n",
       "      <td>nomn</td>\n",
       "      <td>none</td>\n",
       "      <td>девять</td>\n",
       "      <td>девять</td>\n",
       "    </tr>\n",
       "    <tr>\n",
       "      <th>40194</th>\n",
       "      <td>1627</td>\n",
       "      <td>Дрезден</td>\n",
       "      <td>,</td>\n",
       "      <td>)</td>\n",
       "      <td>.</td>\n",
       "      <td>CARDINAL</td>\n",
       "      <td>nomn</td>\n",
       "      <td>sing</td>\n",
       "      <td>одна тысяча шестьсот двадцать семь</td>\n",
       "      <td>тысяча шестьсот двадцать семь</td>\n",
       "    </tr>\n",
       "    <tr>\n",
       "      <th>4910763</th>\n",
       "      <td>-</td>\n",
       "      <td>БОЙ</td>\n",
       "      <td>КЛИЧКО</td>\n",
       "      <td>ПОВЕТКИН</td>\n",
       "      <td>НАЗВАН</td>\n",
       "      <td>CARDINAL</td>\n",
       "      <td>nomn</td>\n",
       "      <td>sing</td>\n",
       "      <td>None</td>\n",
       "      <td>-</td>\n",
       "    </tr>\n",
       "    <tr>\n",
       "      <th>6213164</th>\n",
       "      <td>1127</td>\n",
       "      <td>(</td>\n",
       "      <td>с</td>\n",
       "      <td>)</td>\n",
       "      <td>.</td>\n",
       "      <td>CARDINAL</td>\n",
       "      <td>nomn</td>\n",
       "      <td>sing</td>\n",
       "      <td>одна тысяча сто двадцать семь</td>\n",
       "      <td>тысяча сто двадцать семь</td>\n",
       "    </tr>\n",
       "    <tr>\n",
       "      <th>695002</th>\n",
       "      <td>.</td>\n",
       "      <td>,</td>\n",
       "      <td>vol</td>\n",
       "      <td>Ричард</td>\n",
       "      <td>проверяет</td>\n",
       "      <td>CARDINAL</td>\n",
       "      <td>nomn</td>\n",
       "      <td>sing</td>\n",
       "      <td>None</td>\n",
       "      <td>.</td>\n",
       "    </tr>\n",
       "    <tr>\n",
       "      <th>855302</th>\n",
       "      <td>13 842</td>\n",
       "      <td>2000 года</td>\n",
       "      <td>составляет</td>\n",
       "      <td>чел</td>\n",
       "      <td>.</td>\n",
       "      <td>CARDINAL</td>\n",
       "      <td>nomn</td>\n",
       "      <td>plur</td>\n",
       "      <td>None</td>\n",
       "      <td>тринадцать тысяч восемьсот сорок два</td>\n",
       "    </tr>\n",
       "    <tr>\n",
       "      <th>2465111</th>\n",
       "      <td>.</td>\n",
       "      <td>с</td>\n",
       "      <td>вооружения</td>\n",
       "      <td>Облечихино</td>\n",
       "      <td>—</td>\n",
       "      <td>CARDINAL</td>\n",
       "      <td>nomn</td>\n",
       "      <td>sing</td>\n",
       "      <td>None</td>\n",
       "      <td>.</td>\n",
       "    </tr>\n",
       "    <tr>\n",
       "      <th>9463288</th>\n",
       "      <td>1700</td>\n",
       "      <td>1699</td>\n",
       "      <td>—</td>\n",
       "      <td>по</td>\n",
       "      <td>1899</td>\n",
       "      <td>CARDINAL</td>\n",
       "      <td>nomn</td>\n",
       "      <td>sing</td>\n",
       "      <td>одна тысяча семьсот</td>\n",
       "      <td>тысяча семьсот</td>\n",
       "    </tr>\n",
       "    <tr>\n",
       "      <th>5130151</th>\n",
       "      <td>-</td>\n",
       "      <td>государственный</td>\n",
       "      <td>архитектурно</td>\n",
       "      <td>строительный</td>\n",
       "      <td>институт</td>\n",
       "      <td>CARDINAL</td>\n",
       "      <td>nomn</td>\n",
       "      <td>sing</td>\n",
       "      <td>None</td>\n",
       "      <td>-</td>\n",
       "    </tr>\n",
       "    <tr>\n",
       "      <th>9980371</th>\n",
       "      <td>15</td>\n",
       "      <td>7:15</td>\n",
       "      <td>,</td>\n",
       "      <td>:</td>\n",
       "      <td>9</td>\n",
       "      <td>CARDINAL</td>\n",
       "      <td>nomn</td>\n",
       "      <td>none</td>\n",
       "      <td>пятнадцать</td>\n",
       "      <td>пятнадцать</td>\n",
       "    </tr>\n",
       "    <tr>\n",
       "      <th>6955867</th>\n",
       "      <td>.</td>\n",
       "      <td>.</td>\n",
       "      <td>f</td>\n",
       "      <td>belorussicus</td>\n",
       "      <td>Kurl</td>\n",
       "      <td>CARDINAL</td>\n",
       "      <td>nomn</td>\n",
       "      <td>sing</td>\n",
       "      <td>None</td>\n",
       "      <td>.</td>\n",
       "    </tr>\n",
       "    <tr>\n",
       "      <th>5530344</th>\n",
       "      <td>651</td>\n",
       "      <td>p</td>\n",
       "      <td>.</td>\n",
       "      <td>.</td>\n",
       "      <td>Till</td>\n",
       "      <td>CARDINAL</td>\n",
       "      <td>nomn</td>\n",
       "      <td>sing</td>\n",
       "      <td>шестьсот пятьдесят один</td>\n",
       "      <td>шестьсот пятьдесят один</td>\n",
       "    </tr>\n",
       "    <tr>\n",
       "      <th>8965855</th>\n",
       "      <td>1942</td>\n",
       "      <td>животноводства</td>\n",
       "      <td>(</td>\n",
       "      <td>—</td>\n",
       "      <td>1955</td>\n",
       "      <td>CARDINAL</td>\n",
       "      <td>nomn</td>\n",
       "      <td>sing</td>\n",
       "      <td>одна тысяча девятьсот сорок два</td>\n",
       "      <td>тысяча девятьсот сорок два</td>\n",
       "    </tr>\n",
       "    <tr>\n",
       "      <th>1882260</th>\n",
       "      <td>19</td>\n",
       "      <td>на</td>\n",
       "      <td>основании</td>\n",
       "      <td>рецензий</td>\n",
       "      <td>.</td>\n",
       "      <td>CARDINAL</td>\n",
       "      <td>nomn</td>\n",
       "      <td>none</td>\n",
       "      <td>девятнадцать</td>\n",
       "      <td>девятнадцати</td>\n",
       "    </tr>\n",
       "    <tr>\n",
       "      <th>8536813</th>\n",
       "      <td>0</td>\n",
       "      <td>3</td>\n",
       "      <td>:</td>\n",
       "      <td>(</td>\n",
       "      <td>15</td>\n",
       "      <td>CARDINAL</td>\n",
       "      <td>nomn</td>\n",
       "      <td>sing</td>\n",
       "      <td>ноль</td>\n",
       "      <td>ноль</td>\n",
       "    </tr>\n",
       "    <tr>\n",
       "      <th>5853661</th>\n",
       "      <td>.</td>\n",
       "      <td>в</td>\n",
       "      <td>село</td>\n",
       "      <td>Усики</td>\n",
       "      <td>самок</td>\n",
       "      <td>CARDINAL</td>\n",
       "      <td>nomn</td>\n",
       "      <td>sing</td>\n",
       "      <td>None</td>\n",
       "      <td>.</td>\n",
       "    </tr>\n",
       "    <tr>\n",
       "      <th>9375998</th>\n",
       "      <td>249</td>\n",
       "      <td>Карта</td>\n",
       "      <td>С.</td>\n",
       "      <td>.</td>\n",
       "      <td>Якутская</td>\n",
       "      <td>CARDINAL</td>\n",
       "      <td>nomn</td>\n",
       "      <td>plur</td>\n",
       "      <td>двести сорок девять</td>\n",
       "      <td>двести сорок девять</td>\n",
       "    </tr>\n",
       "    <tr>\n",
       "      <th>6697132</th>\n",
       "      <td>-</td>\n",
       "      <td>Монтрейском</td>\n",
       "      <td>поп</td>\n",
       "      <td>фестивале</td>\n",
       "      <td>в</td>\n",
       "      <td>CARDINAL</td>\n",
       "      <td>nomn</td>\n",
       "      <td>sing</td>\n",
       "      <td>None</td>\n",
       "      <td>-</td>\n",
       "    </tr>\n",
       "    <tr>\n",
       "      <th>4371987</th>\n",
       "      <td>-</td>\n",
       "      <td>,</td>\n",
       "      <td>бога</td>\n",
       "      <td>покровителя</td>\n",
       "      <td>города</td>\n",
       "      <td>CARDINAL</td>\n",
       "      <td>nomn</td>\n",
       "      <td>sing</td>\n",
       "      <td>None</td>\n",
       "      <td>-</td>\n",
       "    </tr>\n",
       "  </tbody>\n",
       "</table>\n",
       "<p>100 rows × 10 columns</p>\n",
       "</div>"
      ],
      "text/plain": [
       "<div>\n",
       "<style scoped>\n",
       "    .dataframe tbody tr th:only-of-type {\n",
       "        vertical-align: middle;\n",
       "    }\n",
       "\n",
       "    .dataframe tbody tr th {\n",
       "        vertical-align: top;\n",
       "    }\n",
       "\n",
       "    .dataframe thead th {\n",
       "        text-align: right;\n",
       "    }\n",
       "</style>\n",
       "<table border=\"1\" class=\"dataframe\">\n",
       "  <thead>\n",
       "    <tr style=\"text-align: right;\">\n",
       "      <th></th>\n",
       "      <th>before</th>\n",
       "      <th>prev_prev</th>\n",
       "      <th>prev</th>\n",
       "      <th>next</th>\n",
       "      <th>next_next</th>\n",
       "      <th>class</th>\n",
       "      <th>case</th>\n",
       "      <th>number</th>\n",
       "      <th>after</th>\n",
       "      <th>after_true</th>\n",
       "    </tr>\n",
       "  </thead>\n",
       "  <tbody>\n",
       "    <tr>\n",
       "      <th>3439716</th>\n",
       "      <td>.</td>\n",
       "      <td>и</td>\n",
       "      <td>CCKB</td>\n",
       "      <td>Первая</td>\n",
       "      <td>бригада</td>\n",
       "      <td>CARDINAL</td>\n",
       "      <td>nomn</td>\n",
       "      <td>sing</td>\n",
       "      <td>None</td>\n",
       "      <td>.</td>\n",
       "    </tr>\n",
       "    <tr>\n",
       "      <th>228056</th>\n",
       "      <td>.</td>\n",
       "      <td>первоисточника</td>\n",
       "      <td>26 апреля 2015</td>\n",
       "      <td>Усадьба</td>\n",
       "      <td>Барсовой</td>\n",
       "      <td>CARDINAL</td>\n",
       "      <td>nomn</td>\n",
       "      <td>sing</td>\n",
       "      <td>None</td>\n",
       "      <td>.</td>\n",
       "    </tr>\n",
       "    <tr>\n",
       "      <th>5254234</th>\n",
       "      <td>.</td>\n",
       "      <td>с</td>\n",
       "      <td>компанией</td>\n",
       "      <td>Тонкий</td>\n",
       "      <td>хвост</td>\n",
       "      <td>CARDINAL</td>\n",
       "      <td>nomn</td>\n",
       "      <td>sing</td>\n",
       "      <td>None</td>\n",
       "      <td>.</td>\n",
       "    </tr>\n",
       "    <tr>\n",
       "      <th>1074310</th>\n",
       "      <td>184</td>\n",
       "      <td>жителей</td>\n",
       "      <td>работали</td>\n",
       "      <td>человека</td>\n",
       "      <td>(</td>\n",
       "      <td>CARDINAL</td>\n",
       "      <td>nomn</td>\n",
       "      <td>sing</td>\n",
       "      <td>сто восемьдесят четыре</td>\n",
       "      <td>сто восемьдесят четыре</td>\n",
       "    </tr>\n",
       "    <tr>\n",
       "      <th>7318781</th>\n",
       "      <td>7</td>\n",
       "      <td>23</td>\n",
       "      <td>.</td>\n",
       "      <td>человек</td>\n",
       "      <td>на</td>\n",
       "      <td>CARDINAL</td>\n",
       "      <td>nomn</td>\n",
       "      <td>none</td>\n",
       "      <td>семь</td>\n",
       "      <td>семь</td>\n",
       "    </tr>\n",
       "    <tr>\n",
       "      <th>3260148</th>\n",
       "      <td>-</td>\n",
       "      <td>украинкой</td>\n",
       "      <td>Ганной</td>\n",
       "      <td>рисовальщицей</td>\n",
       "      <td>»</td>\n",
       "      <td>CARDINAL</td>\n",
       "      <td>nomn</td>\n",
       "      <td>sing</td>\n",
       "      <td>None</td>\n",
       "      <td>-</td>\n",
       "    </tr>\n",
       "    <tr>\n",
       "      <th>268049</th>\n",
       "      <td>.</td>\n",
       "      <td>(</td>\n",
       "      <td>исп</td>\n",
       "      <td>Keiko</td>\n",
       "      <td>Sofia</td>\n",
       "      <td>CARDINAL</td>\n",
       "      <td>nomn</td>\n",
       "      <td>sing</td>\n",
       "      <td>None</td>\n",
       "      <td>.</td>\n",
       "    </tr>\n",
       "    <tr>\n",
       "      <th>8609176</th>\n",
       "      <td>-</td>\n",
       "      <td>и</td>\n",
       "      <td>Сен</td>\n",
       "      <td>Филип</td>\n",
       "      <td>,</td>\n",
       "      <td>CARDINAL</td>\n",
       "      <td>nomn</td>\n",
       "      <td>sing</td>\n",
       "      <td>None</td>\n",
       "      <td>-</td>\n",
       "    </tr>\n",
       "    <tr>\n",
       "      <th>4202194</th>\n",
       "      <td>.</td>\n",
       "      <td>en</td>\n",
       "      <td>Diest</td>\n",
       "      <td>Король</td>\n",
       "      <td>Эдуард</td>\n",
       "      <td>CARDINAL</td>\n",
       "      <td>nomn</td>\n",
       "      <td>sing</td>\n",
       "      <td>None</td>\n",
       "      <td>.</td>\n",
       "    </tr>\n",
       "    <tr>\n",
       "      <th>2757101</th>\n",
       "      <td>779</td>\n",
       "      <td>775</td>\n",
       "      <td>по</td>\n",
       "      <td>.</td>\n",
       "      <td>Нерсе</td>\n",
       "      <td>CARDINAL</td>\n",
       "      <td>nomn</td>\n",
       "      <td>none</td>\n",
       "      <td>семьсот семьдесят девять</td>\n",
       "      <td>семьсот семьдесят девятый</td>\n",
       "    </tr>\n",
       "    <tr>\n",
       "      <th>64429</th>\n",
       "      <td>.</td>\n",
       "      <td>,</td>\n",
       "      <td>1922</td>\n",
       "      <td>Angles</td>\n",
       "      <td>H.</td>\n",
       "      <td>CARDINAL</td>\n",
       "      <td>nomn</td>\n",
       "      <td>sing</td>\n",
       "      <td>None</td>\n",
       "      <td>.</td>\n",
       "    </tr>\n",
       "    <tr>\n",
       "      <th>7704610</th>\n",
       "      <td>.</td>\n",
       "      <td>.</td>\n",
       "      <td>495</td>\n",
       "      <td>Martin</td>\n",
       "      <td>and</td>\n",
       "      <td>CARDINAL</td>\n",
       "      <td>nomn</td>\n",
       "      <td>sing</td>\n",
       "      <td>None</td>\n",
       "      <td>.</td>\n",
       "    </tr>\n",
       "    <tr>\n",
       "      <th>7824686</th>\n",
       "      <td>.</td>\n",
       "      <td>первоисточника</td>\n",
       "      <td>8 апреля 2013</td>\n",
       "      <td>Best</td>\n",
       "      <td>-</td>\n",
       "      <td>CARDINAL</td>\n",
       "      <td>nomn</td>\n",
       "      <td>sing</td>\n",
       "      <td>None</td>\n",
       "      <td>.</td>\n",
       "    </tr>\n",
       "    <tr>\n",
       "      <th>6324313</th>\n",
       "      <td>112</td>\n",
       "      <td>101</td>\n",
       "      <td>-</td>\n",
       "      <td>.</td>\n",
       "      <td>Mikel</td>\n",
       "      <td>CARDINAL</td>\n",
       "      <td>gent</td>\n",
       "      <td>none</td>\n",
       "      <td>сто двенадцати</td>\n",
       "      <td>ста двенадцати</td>\n",
       "    </tr>\n",
       "    <tr>\n",
       "      <th>2745465</th>\n",
       "      <td>-</td>\n",
       "      <td>,</td>\n",
       "      <td>по</td>\n",
       "      <td>прежнему</td>\n",
       "      <td>обсуждается</td>\n",
       "      <td>CARDINAL</td>\n",
       "      <td>nomn</td>\n",
       "      <td>sing</td>\n",
       "      <td>None</td>\n",
       "      <td>-</td>\n",
       "    </tr>\n",
       "    <tr>\n",
       "      <th>5457860</th>\n",
       "      <td>333</td>\n",
       "      <td>331</td>\n",
       "      <td>—</td>\n",
       "      <td>.</td>\n",
       "      <td>Зимин</td>\n",
       "      <td>CARDINAL</td>\n",
       "      <td>accs</td>\n",
       "      <td>sing</td>\n",
       "      <td>триста тридцать три</td>\n",
       "      <td>триста тридцать три</td>\n",
       "    </tr>\n",
       "    <tr>\n",
       "      <th>429987</th>\n",
       "      <td>-</td>\n",
       "      <td>в</td>\n",
       "      <td>Орехово</td>\n",
       "      <td>Зуевском</td>\n",
       "      <td>муниципальном</td>\n",
       "      <td>CARDINAL</td>\n",
       "      <td>nomn</td>\n",
       "      <td>sing</td>\n",
       "      <td>None</td>\n",
       "      <td>-</td>\n",
       "    </tr>\n",
       "    <tr>\n",
       "      <th>5434369</th>\n",
       "      <td>.</td>\n",
       "      <td>московской</td>\n",
       "      <td>теократии</td>\n",
       "      <td>Женевьева</td>\n",
       "      <td>Родис</td>\n",
       "      <td>CARDINAL</td>\n",
       "      <td>nomn</td>\n",
       "      <td>sing</td>\n",
       "      <td>None</td>\n",
       "      <td>.</td>\n",
       "    </tr>\n",
       "    <tr>\n",
       "      <th>2449632</th>\n",
       "      <td>.</td>\n",
       "      <td>-</td>\n",
       "      <td>2012</td>\n",
       "      <td>Ultratop</td>\n",
       "      <td>.</td>\n",
       "      <td>CARDINAL</td>\n",
       "      <td>nomn</td>\n",
       "      <td>sing</td>\n",
       "      <td>None</td>\n",
       "      <td>.</td>\n",
       "    </tr>\n",
       "    <tr>\n",
       "      <th>1837088</th>\n",
       "      <td>2006</td>\n",
       "      <td>рингу</td>\n",
       "      <td>(</td>\n",
       "      <td>)</td>\n",
       "      <td>.</td>\n",
       "      <td>CARDINAL</td>\n",
       "      <td>nomn</td>\n",
       "      <td>sing</td>\n",
       "      <td>две тысячи шесть</td>\n",
       "      <td>две тысячи шесть</td>\n",
       "    </tr>\n",
       "    <tr>\n",
       "      <th>6140572</th>\n",
       "      <td>.</td>\n",
       "      <td>5000</td>\n",
       "      <td>экз</td>\n",
       "      <td>Министерство</td>\n",
       "      <td>здравоохранения</td>\n",
       "      <td>CARDINAL</td>\n",
       "      <td>nomn</td>\n",
       "      <td>sing</td>\n",
       "      <td>None</td>\n",
       "      <td>.</td>\n",
       "    </tr>\n",
       "    <tr>\n",
       "      <th>330087</th>\n",
       "      <td>.</td>\n",
       "      <td>Jorge</td>\n",
       "      <td>Edwards</td>\n",
       "      <td>Основные</td>\n",
       "      <td>теоретики</td>\n",
       "      <td>CARDINAL</td>\n",
       "      <td>nomn</td>\n",
       "      <td>sing</td>\n",
       "      <td>None</td>\n",
       "      <td>.</td>\n",
       "    </tr>\n",
       "    <tr>\n",
       "      <th>5887363</th>\n",
       "      <td>/</td>\n",
       "      <td>(</td>\n",
       "      <td>2006</td>\n",
       "      <td>07</td>\n",
       "      <td>,</td>\n",
       "      <td>CARDINAL</td>\n",
       "      <td>nomn</td>\n",
       "      <td>sing</td>\n",
       "      <td>None</td>\n",
       "      <td>/</td>\n",
       "    </tr>\n",
       "    <tr>\n",
       "      <th>1842620</th>\n",
       "      <td>12</td>\n",
       "      <td>Царском</td>\n",
       "      <td>Селе</td>\n",
       "      <td>(</td>\n",
       "      <td>24</td>\n",
       "      <td>CARDINAL</td>\n",
       "      <td>nomn</td>\n",
       "      <td>none</td>\n",
       "      <td>двенадцать</td>\n",
       "      <td>двенадцать</td>\n",
       "    </tr>\n",
       "    <tr>\n",
       "      <th>9121114</th>\n",
       "      <td>20</td>\n",
       "      <td>большой</td>\n",
       "      <td>за</td>\n",
       "      <td>лет</td>\n",
       "      <td>.</td>\n",
       "      <td>CARDINAL</td>\n",
       "      <td>nomn</td>\n",
       "      <td>none</td>\n",
       "      <td>двадцать</td>\n",
       "      <td>двадцать</td>\n",
       "    </tr>\n",
       "    <tr>\n",
       "      <th>5942303</th>\n",
       "      <td>16</td>\n",
       "      <td>автором</td>\n",
       "      <td>в</td>\n",
       "      <td>лет</td>\n",
       "      <td>.</td>\n",
       "      <td>CARDINAL</td>\n",
       "      <td>nomn</td>\n",
       "      <td>none</td>\n",
       "      <td>шестнадцать</td>\n",
       "      <td>шестнадцать</td>\n",
       "    </tr>\n",
       "    <tr>\n",
       "      <th>4285396</th>\n",
       "      <td>.</td>\n",
       "      <td>И. И.</td>\n",
       "      <td>Соколов</td>\n",
       "      <td>Население</td>\n",
       "      <td>составляет</td>\n",
       "      <td>CARDINAL</td>\n",
       "      <td>nomn</td>\n",
       "      <td>sing</td>\n",
       "      <td>None</td>\n",
       "      <td>.</td>\n",
       "    </tr>\n",
       "    <tr>\n",
       "      <th>5657428</th>\n",
       "      <td>.</td>\n",
       "      <td>воду</td>\n",
       "      <td>16 мая 1818 года</td>\n",
       "      <td>Военные</td>\n",
       "      <td>кампании</td>\n",
       "      <td>CARDINAL</td>\n",
       "      <td>nomn</td>\n",
       "      <td>sing</td>\n",
       "      <td>None</td>\n",
       "      <td>.</td>\n",
       "    </tr>\n",
       "    <tr>\n",
       "      <th>3422143</th>\n",
       "      <td>.</td>\n",
       "      <td>Проверено</td>\n",
       "      <td>21 апреля 2015</td>\n",
       "      <td>Sudhish</td>\n",
       "      <td>Kamath</td>\n",
       "      <td>CARDINAL</td>\n",
       "      <td>nomn</td>\n",
       "      <td>sing</td>\n",
       "      <td>None</td>\n",
       "      <td>.</td>\n",
       "    </tr>\n",
       "    <tr>\n",
       "      <th>3990749</th>\n",
       "      <td>.</td>\n",
       "      <td>с</td>\n",
       "      <td>правдой</td>\n",
       "      <td>В</td>\n",
       "      <td>1955 году</td>\n",
       "      <td>CARDINAL</td>\n",
       "      <td>nomn</td>\n",
       "      <td>sing</td>\n",
       "      <td>None</td>\n",
       "      <td>.</td>\n",
       "    </tr>\n",
       "    <tr>\n",
       "      <th>...</th>\n",
       "      <td>...</td>\n",
       "      <td>...</td>\n",
       "      <td>...</td>\n",
       "      <td>...</td>\n",
       "      <td>...</td>\n",
       "      <td>...</td>\n",
       "      <td>...</td>\n",
       "      <td>...</td>\n",
       "      <td>...</td>\n",
       "      <td>...</td>\n",
       "    </tr>\n",
       "    <tr>\n",
       "      <th>10541187</th>\n",
       "      <td>.</td>\n",
       "      <td>историческое</td>\n",
       "      <td>значение</td>\n",
       "      <td>Автор</td>\n",
       "      <td>сценария</td>\n",
       "      <td>CARDINAL</td>\n",
       "      <td>nomn</td>\n",
       "      <td>sing</td>\n",
       "      <td>None</td>\n",
       "      <td>.</td>\n",
       "    </tr>\n",
       "    <tr>\n",
       "      <th>10527273</th>\n",
       "      <td>.</td>\n",
       "      <td>первоисточника</td>\n",
       "      <td>8 июля 2012</td>\n",
       "      <td>Gendron</td>\n",
       "      <td>,</td>\n",
       "      <td>CARDINAL</td>\n",
       "      <td>nomn</td>\n",
       "      <td>sing</td>\n",
       "      <td>None</td>\n",
       "      <td>.</td>\n",
       "    </tr>\n",
       "    <tr>\n",
       "      <th>7779410</th>\n",
       "      <td>.</td>\n",
       "      <td>первоисточника</td>\n",
       "      <td>18 августа 2012</td>\n",
       "      <td>Linkin</td>\n",
       "      <td>Park</td>\n",
       "      <td>CARDINAL</td>\n",
       "      <td>nomn</td>\n",
       "      <td>sing</td>\n",
       "      <td>None</td>\n",
       "      <td>.</td>\n",
       "    </tr>\n",
       "    <tr>\n",
       "      <th>2751668</th>\n",
       "      <td>.</td>\n",
       "      <td>особенно</td>\n",
       "      <td>женщин</td>\n",
       "      <td>Военная</td>\n",
       "      <td>кампания</td>\n",
       "      <td>CARDINAL</td>\n",
       "      <td>nomn</td>\n",
       "      <td>sing</td>\n",
       "      <td>None</td>\n",
       "      <td>.</td>\n",
       "    </tr>\n",
       "    <tr>\n",
       "      <th>2485600</th>\n",
       "      <td>XII</td>\n",
       "      <td>и</td>\n",
       "      <td>до</td>\n",
       "      <td>века</td>\n",
       "      <td>власть</td>\n",
       "      <td>CARDINAL</td>\n",
       "      <td>nomn</td>\n",
       "      <td>none</td>\n",
       "      <td>None</td>\n",
       "      <td>двенадцатого</td>\n",
       "    </tr>\n",
       "    <tr>\n",
       "      <th>8812525</th>\n",
       "      <td>20</td>\n",
       "      <td>(</td>\n",
       "      <td>до</td>\n",
       "      <td>)</td>\n",
       "      <td>VS</td>\n",
       "      <td>CARDINAL</td>\n",
       "      <td>nomn</td>\n",
       "      <td>none</td>\n",
       "      <td>двадцать</td>\n",
       "      <td>двадцати</td>\n",
       "    </tr>\n",
       "    <tr>\n",
       "      <th>5282690</th>\n",
       "      <td>.</td>\n",
       "      <td>:</td>\n",
       "      <td>ил</td>\n",
       "      <td>В. А.</td>\n",
       "      <td>Возчикова</td>\n",
       "      <td>CARDINAL</td>\n",
       "      <td>nomn</td>\n",
       "      <td>sing</td>\n",
       "      <td>None</td>\n",
       "      <td>.</td>\n",
       "    </tr>\n",
       "    <tr>\n",
       "      <th>2079557</th>\n",
       "      <td>.</td>\n",
       "      <td>доктора</td>\n",
       "      <td>техн</td>\n",
       "      <td>наук</td>\n",
       "      <td>.</td>\n",
       "      <td>CARDINAL</td>\n",
       "      <td>nomn</td>\n",
       "      <td>sing</td>\n",
       "      <td>None</td>\n",
       "      <td>.</td>\n",
       "    </tr>\n",
       "    <tr>\n",
       "      <th>7510534</th>\n",
       "      <td>482</td>\n",
       "      <td>Космос</td>\n",
       "      <td>-</td>\n",
       "      <td>—</td>\n",
       "      <td>автоматическая</td>\n",
       "      <td>CARDINAL</td>\n",
       "      <td>nomn</td>\n",
       "      <td>none</td>\n",
       "      <td>четыреста восемьдесят два</td>\n",
       "      <td>четыреста восемьдесят два</td>\n",
       "    </tr>\n",
       "    <tr>\n",
       "      <th>2480445</th>\n",
       "      <td>69</td>\n",
       "      <td>—</td>\n",
       "      <td>С.</td>\n",
       "      <td>.</td>\n",
       "      <td>London</td>\n",
       "      <td>CARDINAL</td>\n",
       "      <td>nomn</td>\n",
       "      <td>none</td>\n",
       "      <td>шестьдесят девять</td>\n",
       "      <td>шестьдесят девять</td>\n",
       "    </tr>\n",
       "    <tr>\n",
       "      <th>9311043</th>\n",
       "      <td>/</td>\n",
       "      <td>)</td>\n",
       "      <td>/</td>\n",
       "      <td>Крылья</td>\n",
       "      <td>Родины</td>\n",
       "      <td>CARDINAL</td>\n",
       "      <td>nomn</td>\n",
       "      <td>sing</td>\n",
       "      <td>None</td>\n",
       "      <td>/</td>\n",
       "    </tr>\n",
       "    <tr>\n",
       "      <th>8832656</th>\n",
       "      <td>9</td>\n",
       "      <td>территории</td>\n",
       "      <td>Украины</td>\n",
       "      <td>населенных</td>\n",
       "      <td>пунктов</td>\n",
       "      <td>CARDINAL</td>\n",
       "      <td>nomn</td>\n",
       "      <td>none</td>\n",
       "      <td>девять</td>\n",
       "      <td>девять</td>\n",
       "    </tr>\n",
       "    <tr>\n",
       "      <th>40194</th>\n",
       "      <td>1627</td>\n",
       "      <td>Дрезден</td>\n",
       "      <td>,</td>\n",
       "      <td>)</td>\n",
       "      <td>.</td>\n",
       "      <td>CARDINAL</td>\n",
       "      <td>nomn</td>\n",
       "      <td>sing</td>\n",
       "      <td>одна тысяча шестьсот двадцать семь</td>\n",
       "      <td>тысяча шестьсот двадцать семь</td>\n",
       "    </tr>\n",
       "    <tr>\n",
       "      <th>4910763</th>\n",
       "      <td>-</td>\n",
       "      <td>БОЙ</td>\n",
       "      <td>КЛИЧКО</td>\n",
       "      <td>ПОВЕТКИН</td>\n",
       "      <td>НАЗВАН</td>\n",
       "      <td>CARDINAL</td>\n",
       "      <td>nomn</td>\n",
       "      <td>sing</td>\n",
       "      <td>None</td>\n",
       "      <td>-</td>\n",
       "    </tr>\n",
       "    <tr>\n",
       "      <th>6213164</th>\n",
       "      <td>1127</td>\n",
       "      <td>(</td>\n",
       "      <td>с</td>\n",
       "      <td>)</td>\n",
       "      <td>.</td>\n",
       "      <td>CARDINAL</td>\n",
       "      <td>nomn</td>\n",
       "      <td>sing</td>\n",
       "      <td>одна тысяча сто двадцать семь</td>\n",
       "      <td>тысяча сто двадцать семь</td>\n",
       "    </tr>\n",
       "    <tr>\n",
       "      <th>695002</th>\n",
       "      <td>.</td>\n",
       "      <td>,</td>\n",
       "      <td>vol</td>\n",
       "      <td>Ричард</td>\n",
       "      <td>проверяет</td>\n",
       "      <td>CARDINAL</td>\n",
       "      <td>nomn</td>\n",
       "      <td>sing</td>\n",
       "      <td>None</td>\n",
       "      <td>.</td>\n",
       "    </tr>\n",
       "    <tr>\n",
       "      <th>855302</th>\n",
       "      <td>13 842</td>\n",
       "      <td>2000 года</td>\n",
       "      <td>составляет</td>\n",
       "      <td>чел</td>\n",
       "      <td>.</td>\n",
       "      <td>CARDINAL</td>\n",
       "      <td>nomn</td>\n",
       "      <td>plur</td>\n",
       "      <td>None</td>\n",
       "      <td>тринадцать тысяч восемьсот сорок два</td>\n",
       "    </tr>\n",
       "    <tr>\n",
       "      <th>2465111</th>\n",
       "      <td>.</td>\n",
       "      <td>с</td>\n",
       "      <td>вооружения</td>\n",
       "      <td>Облечихино</td>\n",
       "      <td>—</td>\n",
       "      <td>CARDINAL</td>\n",
       "      <td>nomn</td>\n",
       "      <td>sing</td>\n",
       "      <td>None</td>\n",
       "      <td>.</td>\n",
       "    </tr>\n",
       "    <tr>\n",
       "      <th>9463288</th>\n",
       "      <td>1700</td>\n",
       "      <td>1699</td>\n",
       "      <td>—</td>\n",
       "      <td>по</td>\n",
       "      <td>1899</td>\n",
       "      <td>CARDINAL</td>\n",
       "      <td>nomn</td>\n",
       "      <td>sing</td>\n",
       "      <td>одна тысяча семьсот</td>\n",
       "      <td>тысяча семьсот</td>\n",
       "    </tr>\n",
       "    <tr>\n",
       "      <th>5130151</th>\n",
       "      <td>-</td>\n",
       "      <td>государственный</td>\n",
       "      <td>архитектурно</td>\n",
       "      <td>строительный</td>\n",
       "      <td>институт</td>\n",
       "      <td>CARDINAL</td>\n",
       "      <td>nomn</td>\n",
       "      <td>sing</td>\n",
       "      <td>None</td>\n",
       "      <td>-</td>\n",
       "    </tr>\n",
       "    <tr>\n",
       "      <th>9980371</th>\n",
       "      <td>15</td>\n",
       "      <td>7:15</td>\n",
       "      <td>,</td>\n",
       "      <td>:</td>\n",
       "      <td>9</td>\n",
       "      <td>CARDINAL</td>\n",
       "      <td>nomn</td>\n",
       "      <td>none</td>\n",
       "      <td>пятнадцать</td>\n",
       "      <td>пятнадцать</td>\n",
       "    </tr>\n",
       "    <tr>\n",
       "      <th>6955867</th>\n",
       "      <td>.</td>\n",
       "      <td>.</td>\n",
       "      <td>f</td>\n",
       "      <td>belorussicus</td>\n",
       "      <td>Kurl</td>\n",
       "      <td>CARDINAL</td>\n",
       "      <td>nomn</td>\n",
       "      <td>sing</td>\n",
       "      <td>None</td>\n",
       "      <td>.</td>\n",
       "    </tr>\n",
       "    <tr>\n",
       "      <th>5530344</th>\n",
       "      <td>651</td>\n",
       "      <td>p</td>\n",
       "      <td>.</td>\n",
       "      <td>.</td>\n",
       "      <td>Till</td>\n",
       "      <td>CARDINAL</td>\n",
       "      <td>nomn</td>\n",
       "      <td>sing</td>\n",
       "      <td>шестьсот пятьдесят один</td>\n",
       "      <td>шестьсот пятьдесят один</td>\n",
       "    </tr>\n",
       "    <tr>\n",
       "      <th>8965855</th>\n",
       "      <td>1942</td>\n",
       "      <td>животноводства</td>\n",
       "      <td>(</td>\n",
       "      <td>—</td>\n",
       "      <td>1955</td>\n",
       "      <td>CARDINAL</td>\n",
       "      <td>nomn</td>\n",
       "      <td>sing</td>\n",
       "      <td>одна тысяча девятьсот сорок два</td>\n",
       "      <td>тысяча девятьсот сорок два</td>\n",
       "    </tr>\n",
       "    <tr>\n",
       "      <th>1882260</th>\n",
       "      <td>19</td>\n",
       "      <td>на</td>\n",
       "      <td>основании</td>\n",
       "      <td>рецензий</td>\n",
       "      <td>.</td>\n",
       "      <td>CARDINAL</td>\n",
       "      <td>nomn</td>\n",
       "      <td>none</td>\n",
       "      <td>девятнадцать</td>\n",
       "      <td>девятнадцати</td>\n",
       "    </tr>\n",
       "    <tr>\n",
       "      <th>8536813</th>\n",
       "      <td>0</td>\n",
       "      <td>3</td>\n",
       "      <td>:</td>\n",
       "      <td>(</td>\n",
       "      <td>15</td>\n",
       "      <td>CARDINAL</td>\n",
       "      <td>nomn</td>\n",
       "      <td>sing</td>\n",
       "      <td>ноль</td>\n",
       "      <td>ноль</td>\n",
       "    </tr>\n",
       "    <tr>\n",
       "      <th>5853661</th>\n",
       "      <td>.</td>\n",
       "      <td>в</td>\n",
       "      <td>село</td>\n",
       "      <td>Усики</td>\n",
       "      <td>самок</td>\n",
       "      <td>CARDINAL</td>\n",
       "      <td>nomn</td>\n",
       "      <td>sing</td>\n",
       "      <td>None</td>\n",
       "      <td>.</td>\n",
       "    </tr>\n",
       "    <tr>\n",
       "      <th>9375998</th>\n",
       "      <td>249</td>\n",
       "      <td>Карта</td>\n",
       "      <td>С.</td>\n",
       "      <td>.</td>\n",
       "      <td>Якутская</td>\n",
       "      <td>CARDINAL</td>\n",
       "      <td>nomn</td>\n",
       "      <td>plur</td>\n",
       "      <td>двести сорок девять</td>\n",
       "      <td>двести сорок девять</td>\n",
       "    </tr>\n",
       "    <tr>\n",
       "      <th>6697132</th>\n",
       "      <td>-</td>\n",
       "      <td>Монтрейском</td>\n",
       "      <td>поп</td>\n",
       "      <td>фестивале</td>\n",
       "      <td>в</td>\n",
       "      <td>CARDINAL</td>\n",
       "      <td>nomn</td>\n",
       "      <td>sing</td>\n",
       "      <td>None</td>\n",
       "      <td>-</td>\n",
       "    </tr>\n",
       "    <tr>\n",
       "      <th>4371987</th>\n",
       "      <td>-</td>\n",
       "      <td>,</td>\n",
       "      <td>бога</td>\n",
       "      <td>покровителя</td>\n",
       "      <td>города</td>\n",
       "      <td>CARDINAL</td>\n",
       "      <td>nomn</td>\n",
       "      <td>sing</td>\n",
       "      <td>None</td>\n",
       "      <td>-</td>\n",
       "    </tr>\n",
       "  </tbody>\n",
       "</table>\n",
       "<p>100 rows × 10 columns</p>\n",
       "</div>"
      ]
     },
     "execution_count": 15,
     "metadata": {},
     "output_type": "execute_result"
    }
   ],
   "source": [
    "predicted[(predicted['class']=='CARDINAL') & (predicted['before'] != predicted['after'])].sample(100)"
   ]
  },
  {
   "cell_type": "code",
   "execution_count": 103,
   "metadata": {
    "collapsed": true
   },
   "outputs": [
    {
     "data": {
      "text/html": [
       "<div>\n",
       "<style scoped>\n",
       "    .dataframe tbody tr th:only-of-type {\n",
       "        vertical-align: middle;\n",
       "    }\n",
       "\n",
       "    .dataframe tbody tr th {\n",
       "        vertical-align: top;\n",
       "    }\n",
       "\n",
       "    .dataframe thead th {\n",
       "        text-align: right;\n",
       "    }\n",
       "</style>\n",
       "<table border=\"1\" class=\"dataframe\">\n",
       "  <thead>\n",
       "    <tr style=\"text-align: right;\">\n",
       "      <th></th>\n",
       "      <th>class</th>\n",
       "      <th>before</th>\n",
       "      <th>after</th>\n",
       "      <th>prev</th>\n",
       "      <th>next</th>\n",
       "    </tr>\n",
       "  </thead>\n",
       "  <tbody>\n",
       "    <tr>\n",
       "      <th>40420</th>\n",
       "      <td>FRACTION</td>\n",
       "      <td>7½</td>\n",
       "      <td>семи целых и одной второй</td>\n",
       "      <td>около</td>\n",
       "      <td>фунтов</td>\n",
       "    </tr>\n",
       "    <tr>\n",
       "      <th>157446</th>\n",
       "      <td>FRACTION</td>\n",
       "      <td>3½</td>\n",
       "      <td>три целых и одну вторую</td>\n",
       "      <td>на</td>\n",
       "      <td>очка</td>\n",
       "    </tr>\n",
       "    <tr>\n",
       "      <th>445580</th>\n",
       "      <td>FRACTION</td>\n",
       "      <td>59½</td>\n",
       "      <td>пятидесяти девяти целых и одной второй</td>\n",
       "      <td>139 976 рублей</td>\n",
       "      <td>копейки</td>\n",
       "    </tr>\n",
       "    <tr>\n",
       "      <th>765884</th>\n",
       "      <td>FRACTION</td>\n",
       "      <td>¼</td>\n",
       "      <td>одна четвертая</td>\n",
       "      <td>Второй</td>\n",
       "      <td>финалДата</td>\n",
       "    </tr>\n",
       "    <tr>\n",
       "      <th>803808</th>\n",
       "      <td>FRACTION</td>\n",
       "      <td>½</td>\n",
       "      <td>одна вторая</td>\n",
       "      <td>номиналом</td>\n",
       "      <td>шиллинга</td>\n",
       "    </tr>\n",
       "    <tr>\n",
       "      <th>999135</th>\n",
       "      <td>FRACTION</td>\n",
       "      <td>⅔</td>\n",
       "      <td>две третьих</td>\n",
       "      <td>на</td>\n",
       "      <td>территории</td>\n",
       "    </tr>\n",
       "    <tr>\n",
       "      <th>1253476</th>\n",
       "      <td>FRACTION</td>\n",
       "      <td>½</td>\n",
       "      <td>одна вторая</td>\n",
       "      <td>CrA</td>\n",
       "      <td>gut</td>\n",
       "    </tr>\n",
       "    <tr>\n",
       "      <th>1584453</th>\n",
       "      <td>FRACTION</td>\n",
       "      <td>8½</td>\n",
       "      <td>восемь целых и одна вторая</td>\n",
       "      <td>«</td>\n",
       "      <td>женщин</td>\n",
       "    </tr>\n",
       "    <tr>\n",
       "      <th>1584466</th>\n",
       "      <td>FRACTION</td>\n",
       "      <td>8½</td>\n",
       "      <td>восемь целых и одна вторая</td>\n",
       "      <td>.</td>\n",
       "      <td>Women</td>\n",
       "    </tr>\n",
       "    <tr>\n",
       "      <th>1876892</th>\n",
       "      <td>FRACTION</td>\n",
       "      <td>½</td>\n",
       "      <td>одна вторая</td>\n",
       "      <td>в</td>\n",
       "      <td>,</td>\n",
       "    </tr>\n",
       "    <tr>\n",
       "      <th>1876899</th>\n",
       "      <td>FRACTION</td>\n",
       "      <td>¼</td>\n",
       "      <td>одна четвертая</td>\n",
       "      <td>и</td>\n",
       "      <td>и</td>\n",
       "    </tr>\n",
       "    <tr>\n",
       "      <th>1876901</th>\n",
       "      <td>FRACTION</td>\n",
       "      <td>½</td>\n",
       "      <td>одна вторая</td>\n",
       "      <td>и</td>\n",
       "      <td>рупий</td>\n",
       "    </tr>\n",
       "    <tr>\n",
       "      <th>1921150</th>\n",
       "      <td>FRACTION</td>\n",
       "      <td>5 ½</td>\n",
       "      <td>пять целых и одна вторая</td>\n",
       "      <td>—</td>\n",
       "      <td>обеж</td>\n",
       "    </tr>\n",
       "    <tr>\n",
       "      <th>1949935</th>\n",
       "      <td>FRACTION</td>\n",
       "      <td>½</td>\n",
       "      <td>одна вторая</td>\n",
       "      <td>ничью</td>\n",
       "      <td>очка</td>\n",
       "    </tr>\n",
       "    <tr>\n",
       "      <th>2023480</th>\n",
       "      <td>FRACTION</td>\n",
       "      <td>½</td>\n",
       "      <td>одна вторая</td>\n",
       "      <td>состояло</td>\n",
       "      <td>дес</td>\n",
       "    </tr>\n",
       "    <tr>\n",
       "      <th>2023485</th>\n",
       "      <td>FRACTION</td>\n",
       "      <td>2 ¾</td>\n",
       "      <td>две целых и три четвертых</td>\n",
       "      <td>усадебной</td>\n",
       "      <td>дес</td>\n",
       "    </tr>\n",
       "    <tr>\n",
       "      <th>2271189</th>\n",
       "      <td>FRACTION</td>\n",
       "      <td>282½</td>\n",
       "      <td>двумястами восьмьюдесятью двумя целыми и одной...</td>\n",
       "      <td>выпущено</td>\n",
       "      <td>тысяч</td>\n",
       "    </tr>\n",
       "    <tr>\n",
       "      <th>2315287</th>\n",
       "      <td>FRACTION</td>\n",
       "      <td>6½</td>\n",
       "      <td>шесть целых и одну вторую</td>\n",
       "      <td>набрав</td>\n",
       "      <td>очков</td>\n",
       "    </tr>\n",
       "    <tr>\n",
       "      <th>2496593</th>\n",
       "      <td>FRACTION</td>\n",
       "      <td>8½</td>\n",
       "      <td>восемь целых и одна вторая</td>\n",
       "      <td>матча</td>\n",
       "      <td>:</td>\n",
       "    </tr>\n",
       "    <tr>\n",
       "      <th>2496595</th>\n",
       "      <td>FRACTION</td>\n",
       "      <td>3½</td>\n",
       "      <td>три целых и одна вторая</td>\n",
       "      <td>:</td>\n",
       "      <td>в</td>\n",
       "    </tr>\n",
       "    <tr>\n",
       "      <th>2812456</th>\n",
       "      <td>FRACTION</td>\n",
       "      <td>2½</td>\n",
       "      <td>две целых и одну вторую</td>\n",
       "      <td>на</td>\n",
       "      <td>тысячи</td>\n",
       "    </tr>\n",
       "    <tr>\n",
       "      <th>3172820</th>\n",
       "      <td>FRACTION</td>\n",
       "      <td>¾</td>\n",
       "      <td>три четвертых</td>\n",
       "      <td>в</td>\n",
       "      <td>от</td>\n",
       "    </tr>\n",
       "    <tr>\n",
       "      <th>3220263</th>\n",
       "      <td>FRACTION</td>\n",
       "      <td>2½</td>\n",
       "      <td>две целых и одна вторая</td>\n",
       "      <td>—</td>\n",
       "      <td>:</td>\n",
       "    </tr>\n",
       "    <tr>\n",
       "      <th>3220265</th>\n",
       "      <td>FRACTION</td>\n",
       "      <td>1½</td>\n",
       "      <td>одна целая и одна вторая</td>\n",
       "      <td>:</td>\n",
       "      <td>.</td>\n",
       "    </tr>\n",
       "    <tr>\n",
       "      <th>3250501</th>\n",
       "      <td>FRACTION</td>\n",
       "      <td>1 ½</td>\n",
       "      <td>одна целая и одна вторая</td>\n",
       "      <td>.</td>\n",
       "      <td>роты</td>\n",
       "    </tr>\n",
       "    <tr>\n",
       "      <th>3395752</th>\n",
       "      <td>FRACTION</td>\n",
       "      <td>½</td>\n",
       "      <td>одна вторая</td>\n",
       "      <td>Более</td>\n",
       "      <td>валовой</td>\n",
       "    </tr>\n",
       "    <tr>\n",
       "      <th>3417776</th>\n",
       "      <td>FRACTION</td>\n",
       "      <td>3½</td>\n",
       "      <td>три целых и одна вторая</td>\n",
       "      <td>счетом</td>\n",
       "      <td>:</td>\n",
       "    </tr>\n",
       "    <tr>\n",
       "      <th>3417778</th>\n",
       "      <td>FRACTION</td>\n",
       "      <td>2½</td>\n",
       "      <td>две целых и одна вторая</td>\n",
       "      <td>:</td>\n",
       "      <td>и</td>\n",
       "    </tr>\n",
       "    <tr>\n",
       "      <th>3478079</th>\n",
       "      <td>FRACTION</td>\n",
       "      <td>¼</td>\n",
       "      <td>одна четвертая</td>\n",
       "      <td>в</td>\n",
       "      <td>финала</td>\n",
       "    </tr>\n",
       "    <tr>\n",
       "      <th>3488898</th>\n",
       "      <td>FRACTION</td>\n",
       "      <td>¾</td>\n",
       "      <td>три четвертых</td>\n",
       "      <td>~</td>\n",
       "      <td>)</td>\n",
       "    </tr>\n",
       "    <tr>\n",
       "      <th>...</th>\n",
       "      <td>...</td>\n",
       "      <td>...</td>\n",
       "      <td>...</td>\n",
       "      <td>...</td>\n",
       "      <td>...</td>\n",
       "    </tr>\n",
       "    <tr>\n",
       "      <th>5646924</th>\n",
       "      <td>FRACTION</td>\n",
       "      <td>10½</td>\n",
       "      <td>десяти целых и одной второй</td>\n",
       "      <td>в</td>\n",
       "      <td>главах</td>\n",
       "    </tr>\n",
       "    <tr>\n",
       "      <th>5710816</th>\n",
       "      <td>FRACTION</td>\n",
       "      <td>6½</td>\n",
       "      <td>шесть целых и одна вторая</td>\n",
       "      <td>(</td>\n",
       "      <td>:</td>\n",
       "    </tr>\n",
       "    <tr>\n",
       "      <th>5710818</th>\n",
       "      <td>FRACTION</td>\n",
       "      <td>4½</td>\n",
       "      <td>четыре целых и одна вторая</td>\n",
       "      <td>:</td>\n",
       "      <td>)</td>\n",
       "    </tr>\n",
       "    <tr>\n",
       "      <th>5743241</th>\n",
       "      <td>FRACTION</td>\n",
       "      <td>2½</td>\n",
       "      <td>двух целых и одной второй</td>\n",
       "      <td>и</td>\n",
       "      <td>года</td>\n",
       "    </tr>\n",
       "    <tr>\n",
       "      <th>6011771</th>\n",
       "      <td>FRACTION</td>\n",
       "      <td>4 ½</td>\n",
       "      <td>четыре целых и одну вторую</td>\n",
       "      <td>Invicta</td>\n",
       "      <td>litre</td>\n",
       "    </tr>\n",
       "    <tr>\n",
       "      <th>6260409</th>\n",
       "      <td>FRACTION</td>\n",
       "      <td>1¼</td>\n",
       "      <td>одной целой и одной четвертой</td>\n",
       "      <td>до</td>\n",
       "      <td>аршина</td>\n",
       "    </tr>\n",
       "    <tr>\n",
       "      <th>6452616</th>\n",
       "      <td>FRACTION</td>\n",
       "      <td>9½</td>\n",
       "      <td>девять целых и одна вторая</td>\n",
       "      <td>по</td>\n",
       "      <td>.</td>\n",
       "    </tr>\n",
       "    <tr>\n",
       "      <th>6800651</th>\n",
       "      <td>FRACTION</td>\n",
       "      <td>½</td>\n",
       "      <td>одна вторая</td>\n",
       "      <td>Ранма</td>\n",
       "      <td>»</td>\n",
       "    </tr>\n",
       "    <tr>\n",
       "      <th>7253139</th>\n",
       "      <td>FRACTION</td>\n",
       "      <td>10½</td>\n",
       "      <td>десять целых и одну вторую</td>\n",
       "      <td>по</td>\n",
       "      <td>очков</td>\n",
       "    </tr>\n",
       "    <tr>\n",
       "      <th>7612900</th>\n",
       "      <td>FRACTION</td>\n",
       "      <td>⅔</td>\n",
       "      <td>две третьих</td>\n",
       "      <td>ленивца</td>\n",
       "      <td>веса</td>\n",
       "    </tr>\n",
       "    <tr>\n",
       "      <th>8033344</th>\n",
       "      <td>FRACTION</td>\n",
       "      <td>5¼</td>\n",
       "      <td>пятью целыми и одной четвертой</td>\n",
       "      <td>двусторонними</td>\n",
       "      <td>дюймовыми</td>\n",
       "    </tr>\n",
       "    <tr>\n",
       "      <th>8259581</th>\n",
       "      <td>FRACTION</td>\n",
       "      <td>8½</td>\n",
       "      <td>восьми целым и одной второй</td>\n",
       "      <td>по</td>\n",
       "      <td>очков</td>\n",
       "    </tr>\n",
       "    <tr>\n",
       "      <th>8283325</th>\n",
       "      <td>FRACTION</td>\n",
       "      <td>2½</td>\n",
       "      <td>две целых и одна вторая</td>\n",
       "      <td>—</td>\n",
       "      <td>:</td>\n",
       "    </tr>\n",
       "    <tr>\n",
       "      <th>8283327</th>\n",
       "      <td>FRACTION</td>\n",
       "      <td>1½</td>\n",
       "      <td>одна целая и одна вторая</td>\n",
       "      <td>:</td>\n",
       "      <td>.</td>\n",
       "    </tr>\n",
       "    <tr>\n",
       "      <th>8317226</th>\n",
       "      <td>FRACTION</td>\n",
       "      <td>¼</td>\n",
       "      <td>одна четвертая</td>\n",
       "      <td>занимавшая</td>\n",
       "      <td>часть</td>\n",
       "    </tr>\n",
       "    <tr>\n",
       "      <th>8355301</th>\n",
       "      <td>FRACTION</td>\n",
       "      <td>6½</td>\n",
       "      <td>шесть целых и одну вторую</td>\n",
       "      <td>набрал</td>\n",
       "      <td>очков</td>\n",
       "    </tr>\n",
       "    <tr>\n",
       "      <th>8457757</th>\n",
       "      <td>FRACTION</td>\n",
       "      <td>½</td>\n",
       "      <td>одна вторая</td>\n",
       "      <td>находилась</td>\n",
       "      <td>германской</td>\n",
       "    </tr>\n",
       "    <tr>\n",
       "      <th>8627416</th>\n",
       "      <td>FRACTION</td>\n",
       "      <td>⅔</td>\n",
       "      <td>двух третьих</td>\n",
       "      <td>более</td>\n",
       "      <td>)</td>\n",
       "    </tr>\n",
       "    <tr>\n",
       "      <th>8717346</th>\n",
       "      <td>FRACTION</td>\n",
       "      <td>¼</td>\n",
       "      <td>одна четвертая</td>\n",
       "      <td>составлял</td>\n",
       "      <td>рупии</td>\n",
       "    </tr>\n",
       "    <tr>\n",
       "      <th>8737281</th>\n",
       "      <td>FRACTION</td>\n",
       "      <td>3 ½</td>\n",
       "      <td>три целых и одна вторая</td>\n",
       "      <td>—</td>\n",
       "      <td>октавы</td>\n",
       "    </tr>\n",
       "    <tr>\n",
       "      <th>8984892</th>\n",
       "      <td>FRACTION</td>\n",
       "      <td>½</td>\n",
       "      <td>одной второй</td>\n",
       "      <td>от</td>\n",
       "      <td>-</td>\n",
       "    </tr>\n",
       "    <tr>\n",
       "      <th>8984894</th>\n",
       "      <td>FRACTION</td>\n",
       "      <td>¾</td>\n",
       "      <td>трех четвертых</td>\n",
       "      <td>-</td>\n",
       "      <td>мм</td>\n",
       "    </tr>\n",
       "    <tr>\n",
       "      <th>9080276</th>\n",
       "      <td>FRACTION</td>\n",
       "      <td>9½</td>\n",
       "      <td>девять целых и одна вторая</td>\n",
       "      <td>по</td>\n",
       "      <td>.</td>\n",
       "    </tr>\n",
       "    <tr>\n",
       "      <th>9080375</th>\n",
       "      <td>FRACTION</td>\n",
       "      <td>10½</td>\n",
       "      <td>десять целых и одна вторая</td>\n",
       "      <td>—</td>\n",
       "      <td>.</td>\n",
       "    </tr>\n",
       "    <tr>\n",
       "      <th>9083227</th>\n",
       "      <td>FRACTION</td>\n",
       "      <td>3½</td>\n",
       "      <td>три целых и одна вторая</td>\n",
       "      <td>—</td>\n",
       "      <td>;</td>\n",
       "    </tr>\n",
       "    <tr>\n",
       "      <th>9768976</th>\n",
       "      <td>FRACTION</td>\n",
       "      <td>2½</td>\n",
       "      <td>две целых и одна вторая</td>\n",
       "      <td>«</td>\n",
       "      <td>часа</td>\n",
       "    </tr>\n",
       "    <tr>\n",
       "      <th>9918776</th>\n",
       "      <td>FRACTION</td>\n",
       "      <td>9 ¾</td>\n",
       "      <td>девять целых и три четвертых</td>\n",
       "      <td>платформы</td>\n",
       "      <td>.</td>\n",
       "    </tr>\n",
       "    <tr>\n",
       "      <th>9921668</th>\n",
       "      <td>FRACTION</td>\n",
       "      <td>¾</td>\n",
       "      <td>три четвертых</td>\n",
       "      <td>занимали</td>\n",
       "      <td>длины</td>\n",
       "    </tr>\n",
       "    <tr>\n",
       "      <th>10013235</th>\n",
       "      <td>FRACTION</td>\n",
       "      <td>½</td>\n",
       "      <td>одна вторая</td>\n",
       "      <td>равная</td>\n",
       "      <td>асса</td>\n",
       "    </tr>\n",
       "    <tr>\n",
       "      <th>10277345</th>\n",
       "      <td>FRACTION</td>\n",
       "      <td>6¾</td>\n",
       "      <td>шесть целых и три четвертых</td>\n",
       "      <td>диска</td>\n",
       "      <td>'</td>\n",
       "    </tr>\n",
       "  </tbody>\n",
       "</table>\n",
       "<p>75 rows × 5 columns</p>\n",
       "</div>"
      ],
      "text/plain": [
       "<div>\n",
       "<style scoped>\n",
       "    .dataframe tbody tr th:only-of-type {\n",
       "        vertical-align: middle;\n",
       "    }\n",
       "\n",
       "    .dataframe tbody tr th {\n",
       "        vertical-align: top;\n",
       "    }\n",
       "\n",
       "    .dataframe thead th {\n",
       "        text-align: right;\n",
       "    }\n",
       "</style>\n",
       "<table border=\"1\" class=\"dataframe\">\n",
       "  <thead>\n",
       "    <tr style=\"text-align: right;\">\n",
       "      <th></th>\n",
       "      <th>class</th>\n",
       "      <th>before</th>\n",
       "      <th>after</th>\n",
       "      <th>prev</th>\n",
       "      <th>next</th>\n",
       "    </tr>\n",
       "  </thead>\n",
       "  <tbody>\n",
       "    <tr>\n",
       "      <th>40420</th>\n",
       "      <td>FRACTION</td>\n",
       "      <td>7½</td>\n",
       "      <td>семи целых и одной второй</td>\n",
       "      <td>около</td>\n",
       "      <td>фунтов</td>\n",
       "    </tr>\n",
       "    <tr>\n",
       "      <th>157446</th>\n",
       "      <td>FRACTION</td>\n",
       "      <td>3½</td>\n",
       "      <td>три целых и одну вторую</td>\n",
       "      <td>на</td>\n",
       "      <td>очка</td>\n",
       "    </tr>\n",
       "    <tr>\n",
       "      <th>445580</th>\n",
       "      <td>FRACTION</td>\n",
       "      <td>59½</td>\n",
       "      <td>пятидесяти девяти целых и одной второй</td>\n",
       "      <td>139 976 рублей</td>\n",
       "      <td>копейки</td>\n",
       "    </tr>\n",
       "    <tr>\n",
       "      <th>765884</th>\n",
       "      <td>FRACTION</td>\n",
       "      <td>¼</td>\n",
       "      <td>одна четвертая</td>\n",
       "      <td>Второй</td>\n",
       "      <td>финалДата</td>\n",
       "    </tr>\n",
       "    <tr>\n",
       "      <th>803808</th>\n",
       "      <td>FRACTION</td>\n",
       "      <td>½</td>\n",
       "      <td>одна вторая</td>\n",
       "      <td>номиналом</td>\n",
       "      <td>шиллинга</td>\n",
       "    </tr>\n",
       "    <tr>\n",
       "      <th>999135</th>\n",
       "      <td>FRACTION</td>\n",
       "      <td>⅔</td>\n",
       "      <td>две третьих</td>\n",
       "      <td>на</td>\n",
       "      <td>территории</td>\n",
       "    </tr>\n",
       "    <tr>\n",
       "      <th>1253476</th>\n",
       "      <td>FRACTION</td>\n",
       "      <td>½</td>\n",
       "      <td>одна вторая</td>\n",
       "      <td>CrA</td>\n",
       "      <td>gut</td>\n",
       "    </tr>\n",
       "    <tr>\n",
       "      <th>1584453</th>\n",
       "      <td>FRACTION</td>\n",
       "      <td>8½</td>\n",
       "      <td>восемь целых и одна вторая</td>\n",
       "      <td>«</td>\n",
       "      <td>женщин</td>\n",
       "    </tr>\n",
       "    <tr>\n",
       "      <th>1584466</th>\n",
       "      <td>FRACTION</td>\n",
       "      <td>8½</td>\n",
       "      <td>восемь целых и одна вторая</td>\n",
       "      <td>.</td>\n",
       "      <td>Women</td>\n",
       "    </tr>\n",
       "    <tr>\n",
       "      <th>1876892</th>\n",
       "      <td>FRACTION</td>\n",
       "      <td>½</td>\n",
       "      <td>одна вторая</td>\n",
       "      <td>в</td>\n",
       "      <td>,</td>\n",
       "    </tr>\n",
       "    <tr>\n",
       "      <th>1876899</th>\n",
       "      <td>FRACTION</td>\n",
       "      <td>¼</td>\n",
       "      <td>одна четвертая</td>\n",
       "      <td>и</td>\n",
       "      <td>и</td>\n",
       "    </tr>\n",
       "    <tr>\n",
       "      <th>1876901</th>\n",
       "      <td>FRACTION</td>\n",
       "      <td>½</td>\n",
       "      <td>одна вторая</td>\n",
       "      <td>и</td>\n",
       "      <td>рупий</td>\n",
       "    </tr>\n",
       "    <tr>\n",
       "      <th>1921150</th>\n",
       "      <td>FRACTION</td>\n",
       "      <td>5 ½</td>\n",
       "      <td>пять целых и одна вторая</td>\n",
       "      <td>—</td>\n",
       "      <td>обеж</td>\n",
       "    </tr>\n",
       "    <tr>\n",
       "      <th>1949935</th>\n",
       "      <td>FRACTION</td>\n",
       "      <td>½</td>\n",
       "      <td>одна вторая</td>\n",
       "      <td>ничью</td>\n",
       "      <td>очка</td>\n",
       "    </tr>\n",
       "    <tr>\n",
       "      <th>2023480</th>\n",
       "      <td>FRACTION</td>\n",
       "      <td>½</td>\n",
       "      <td>одна вторая</td>\n",
       "      <td>состояло</td>\n",
       "      <td>дес</td>\n",
       "    </tr>\n",
       "    <tr>\n",
       "      <th>2023485</th>\n",
       "      <td>FRACTION</td>\n",
       "      <td>2 ¾</td>\n",
       "      <td>две целых и три четвертых</td>\n",
       "      <td>усадебной</td>\n",
       "      <td>дес</td>\n",
       "    </tr>\n",
       "    <tr>\n",
       "      <th>2271189</th>\n",
       "      <td>FRACTION</td>\n",
       "      <td>282½</td>\n",
       "      <td>двумястами восьмьюдесятью двумя целыми и одной...</td>\n",
       "      <td>выпущено</td>\n",
       "      <td>тысяч</td>\n",
       "    </tr>\n",
       "    <tr>\n",
       "      <th>2315287</th>\n",
       "      <td>FRACTION</td>\n",
       "      <td>6½</td>\n",
       "      <td>шесть целых и одну вторую</td>\n",
       "      <td>набрав</td>\n",
       "      <td>очков</td>\n",
       "    </tr>\n",
       "    <tr>\n",
       "      <th>2496593</th>\n",
       "      <td>FRACTION</td>\n",
       "      <td>8½</td>\n",
       "      <td>восемь целых и одна вторая</td>\n",
       "      <td>матча</td>\n",
       "      <td>:</td>\n",
       "    </tr>\n",
       "    <tr>\n",
       "      <th>2496595</th>\n",
       "      <td>FRACTION</td>\n",
       "      <td>3½</td>\n",
       "      <td>три целых и одна вторая</td>\n",
       "      <td>:</td>\n",
       "      <td>в</td>\n",
       "    </tr>\n",
       "    <tr>\n",
       "      <th>2812456</th>\n",
       "      <td>FRACTION</td>\n",
       "      <td>2½</td>\n",
       "      <td>две целых и одну вторую</td>\n",
       "      <td>на</td>\n",
       "      <td>тысячи</td>\n",
       "    </tr>\n",
       "    <tr>\n",
       "      <th>3172820</th>\n",
       "      <td>FRACTION</td>\n",
       "      <td>¾</td>\n",
       "      <td>три четвертых</td>\n",
       "      <td>в</td>\n",
       "      <td>от</td>\n",
       "    </tr>\n",
       "    <tr>\n",
       "      <th>3220263</th>\n",
       "      <td>FRACTION</td>\n",
       "      <td>2½</td>\n",
       "      <td>две целых и одна вторая</td>\n",
       "      <td>—</td>\n",
       "      <td>:</td>\n",
       "    </tr>\n",
       "    <tr>\n",
       "      <th>3220265</th>\n",
       "      <td>FRACTION</td>\n",
       "      <td>1½</td>\n",
       "      <td>одна целая и одна вторая</td>\n",
       "      <td>:</td>\n",
       "      <td>.</td>\n",
       "    </tr>\n",
       "    <tr>\n",
       "      <th>3250501</th>\n",
       "      <td>FRACTION</td>\n",
       "      <td>1 ½</td>\n",
       "      <td>одна целая и одна вторая</td>\n",
       "      <td>.</td>\n",
       "      <td>роты</td>\n",
       "    </tr>\n",
       "    <tr>\n",
       "      <th>3395752</th>\n",
       "      <td>FRACTION</td>\n",
       "      <td>½</td>\n",
       "      <td>одна вторая</td>\n",
       "      <td>Более</td>\n",
       "      <td>валовой</td>\n",
       "    </tr>\n",
       "    <tr>\n",
       "      <th>3417776</th>\n",
       "      <td>FRACTION</td>\n",
       "      <td>3½</td>\n",
       "      <td>три целых и одна вторая</td>\n",
       "      <td>счетом</td>\n",
       "      <td>:</td>\n",
       "    </tr>\n",
       "    <tr>\n",
       "      <th>3417778</th>\n",
       "      <td>FRACTION</td>\n",
       "      <td>2½</td>\n",
       "      <td>две целых и одна вторая</td>\n",
       "      <td>:</td>\n",
       "      <td>и</td>\n",
       "    </tr>\n",
       "    <tr>\n",
       "      <th>3478079</th>\n",
       "      <td>FRACTION</td>\n",
       "      <td>¼</td>\n",
       "      <td>одна четвертая</td>\n",
       "      <td>в</td>\n",
       "      <td>финала</td>\n",
       "    </tr>\n",
       "    <tr>\n",
       "      <th>3488898</th>\n",
       "      <td>FRACTION</td>\n",
       "      <td>¾</td>\n",
       "      <td>три четвертых</td>\n",
       "      <td>~</td>\n",
       "      <td>)</td>\n",
       "    </tr>\n",
       "    <tr>\n",
       "      <th>...</th>\n",
       "      <td>...</td>\n",
       "      <td>...</td>\n",
       "      <td>...</td>\n",
       "      <td>...</td>\n",
       "      <td>...</td>\n",
       "    </tr>\n",
       "    <tr>\n",
       "      <th>5646924</th>\n",
       "      <td>FRACTION</td>\n",
       "      <td>10½</td>\n",
       "      <td>десяти целых и одной второй</td>\n",
       "      <td>в</td>\n",
       "      <td>главах</td>\n",
       "    </tr>\n",
       "    <tr>\n",
       "      <th>5710816</th>\n",
       "      <td>FRACTION</td>\n",
       "      <td>6½</td>\n",
       "      <td>шесть целых и одна вторая</td>\n",
       "      <td>(</td>\n",
       "      <td>:</td>\n",
       "    </tr>\n",
       "    <tr>\n",
       "      <th>5710818</th>\n",
       "      <td>FRACTION</td>\n",
       "      <td>4½</td>\n",
       "      <td>четыре целых и одна вторая</td>\n",
       "      <td>:</td>\n",
       "      <td>)</td>\n",
       "    </tr>\n",
       "    <tr>\n",
       "      <th>5743241</th>\n",
       "      <td>FRACTION</td>\n",
       "      <td>2½</td>\n",
       "      <td>двух целых и одной второй</td>\n",
       "      <td>и</td>\n",
       "      <td>года</td>\n",
       "    </tr>\n",
       "    <tr>\n",
       "      <th>6011771</th>\n",
       "      <td>FRACTION</td>\n",
       "      <td>4 ½</td>\n",
       "      <td>четыре целых и одну вторую</td>\n",
       "      <td>Invicta</td>\n",
       "      <td>litre</td>\n",
       "    </tr>\n",
       "    <tr>\n",
       "      <th>6260409</th>\n",
       "      <td>FRACTION</td>\n",
       "      <td>1¼</td>\n",
       "      <td>одной целой и одной четвертой</td>\n",
       "      <td>до</td>\n",
       "      <td>аршина</td>\n",
       "    </tr>\n",
       "    <tr>\n",
       "      <th>6452616</th>\n",
       "      <td>FRACTION</td>\n",
       "      <td>9½</td>\n",
       "      <td>девять целых и одна вторая</td>\n",
       "      <td>по</td>\n",
       "      <td>.</td>\n",
       "    </tr>\n",
       "    <tr>\n",
       "      <th>6800651</th>\n",
       "      <td>FRACTION</td>\n",
       "      <td>½</td>\n",
       "      <td>одна вторая</td>\n",
       "      <td>Ранма</td>\n",
       "      <td>»</td>\n",
       "    </tr>\n",
       "    <tr>\n",
       "      <th>7253139</th>\n",
       "      <td>FRACTION</td>\n",
       "      <td>10½</td>\n",
       "      <td>десять целых и одну вторую</td>\n",
       "      <td>по</td>\n",
       "      <td>очков</td>\n",
       "    </tr>\n",
       "    <tr>\n",
       "      <th>7612900</th>\n",
       "      <td>FRACTION</td>\n",
       "      <td>⅔</td>\n",
       "      <td>две третьих</td>\n",
       "      <td>ленивца</td>\n",
       "      <td>веса</td>\n",
       "    </tr>\n",
       "    <tr>\n",
       "      <th>8033344</th>\n",
       "      <td>FRACTION</td>\n",
       "      <td>5¼</td>\n",
       "      <td>пятью целыми и одной четвертой</td>\n",
       "      <td>двусторонними</td>\n",
       "      <td>дюймовыми</td>\n",
       "    </tr>\n",
       "    <tr>\n",
       "      <th>8259581</th>\n",
       "      <td>FRACTION</td>\n",
       "      <td>8½</td>\n",
       "      <td>восьми целым и одной второй</td>\n",
       "      <td>по</td>\n",
       "      <td>очков</td>\n",
       "    </tr>\n",
       "    <tr>\n",
       "      <th>8283325</th>\n",
       "      <td>FRACTION</td>\n",
       "      <td>2½</td>\n",
       "      <td>две целых и одна вторая</td>\n",
       "      <td>—</td>\n",
       "      <td>:</td>\n",
       "    </tr>\n",
       "    <tr>\n",
       "      <th>8283327</th>\n",
       "      <td>FRACTION</td>\n",
       "      <td>1½</td>\n",
       "      <td>одна целая и одна вторая</td>\n",
       "      <td>:</td>\n",
       "      <td>.</td>\n",
       "    </tr>\n",
       "    <tr>\n",
       "      <th>8317226</th>\n",
       "      <td>FRACTION</td>\n",
       "      <td>¼</td>\n",
       "      <td>одна четвертая</td>\n",
       "      <td>занимавшая</td>\n",
       "      <td>часть</td>\n",
       "    </tr>\n",
       "    <tr>\n",
       "      <th>8355301</th>\n",
       "      <td>FRACTION</td>\n",
       "      <td>6½</td>\n",
       "      <td>шесть целых и одну вторую</td>\n",
       "      <td>набрал</td>\n",
       "      <td>очков</td>\n",
       "    </tr>\n",
       "    <tr>\n",
       "      <th>8457757</th>\n",
       "      <td>FRACTION</td>\n",
       "      <td>½</td>\n",
       "      <td>одна вторая</td>\n",
       "      <td>находилась</td>\n",
       "      <td>германской</td>\n",
       "    </tr>\n",
       "    <tr>\n",
       "      <th>8627416</th>\n",
       "      <td>FRACTION</td>\n",
       "      <td>⅔</td>\n",
       "      <td>двух третьих</td>\n",
       "      <td>более</td>\n",
       "      <td>)</td>\n",
       "    </tr>\n",
       "    <tr>\n",
       "      <th>8717346</th>\n",
       "      <td>FRACTION</td>\n",
       "      <td>¼</td>\n",
       "      <td>одна четвертая</td>\n",
       "      <td>составлял</td>\n",
       "      <td>рупии</td>\n",
       "    </tr>\n",
       "    <tr>\n",
       "      <th>8737281</th>\n",
       "      <td>FRACTION</td>\n",
       "      <td>3 ½</td>\n",
       "      <td>три целых и одна вторая</td>\n",
       "      <td>—</td>\n",
       "      <td>октавы</td>\n",
       "    </tr>\n",
       "    <tr>\n",
       "      <th>8984892</th>\n",
       "      <td>FRACTION</td>\n",
       "      <td>½</td>\n",
       "      <td>одной второй</td>\n",
       "      <td>от</td>\n",
       "      <td>-</td>\n",
       "    </tr>\n",
       "    <tr>\n",
       "      <th>8984894</th>\n",
       "      <td>FRACTION</td>\n",
       "      <td>¾</td>\n",
       "      <td>трех четвертых</td>\n",
       "      <td>-</td>\n",
       "      <td>мм</td>\n",
       "    </tr>\n",
       "    <tr>\n",
       "      <th>9080276</th>\n",
       "      <td>FRACTION</td>\n",
       "      <td>9½</td>\n",
       "      <td>девять целых и одна вторая</td>\n",
       "      <td>по</td>\n",
       "      <td>.</td>\n",
       "    </tr>\n",
       "    <tr>\n",
       "      <th>9080375</th>\n",
       "      <td>FRACTION</td>\n",
       "      <td>10½</td>\n",
       "      <td>десять целых и одна вторая</td>\n",
       "      <td>—</td>\n",
       "      <td>.</td>\n",
       "    </tr>\n",
       "    <tr>\n",
       "      <th>9083227</th>\n",
       "      <td>FRACTION</td>\n",
       "      <td>3½</td>\n",
       "      <td>три целых и одна вторая</td>\n",
       "      <td>—</td>\n",
       "      <td>;</td>\n",
       "    </tr>\n",
       "    <tr>\n",
       "      <th>9768976</th>\n",
       "      <td>FRACTION</td>\n",
       "      <td>2½</td>\n",
       "      <td>две целых и одна вторая</td>\n",
       "      <td>«</td>\n",
       "      <td>часа</td>\n",
       "    </tr>\n",
       "    <tr>\n",
       "      <th>9918776</th>\n",
       "      <td>FRACTION</td>\n",
       "      <td>9 ¾</td>\n",
       "      <td>девять целых и три четвертых</td>\n",
       "      <td>платформы</td>\n",
       "      <td>.</td>\n",
       "    </tr>\n",
       "    <tr>\n",
       "      <th>9921668</th>\n",
       "      <td>FRACTION</td>\n",
       "      <td>¾</td>\n",
       "      <td>три четвертых</td>\n",
       "      <td>занимали</td>\n",
       "      <td>длины</td>\n",
       "    </tr>\n",
       "    <tr>\n",
       "      <th>10013235</th>\n",
       "      <td>FRACTION</td>\n",
       "      <td>½</td>\n",
       "      <td>одна вторая</td>\n",
       "      <td>равная</td>\n",
       "      <td>асса</td>\n",
       "    </tr>\n",
       "    <tr>\n",
       "      <th>10277345</th>\n",
       "      <td>FRACTION</td>\n",
       "      <td>6¾</td>\n",
       "      <td>шесть целых и три четвертых</td>\n",
       "      <td>диска</td>\n",
       "      <td>'</td>\n",
       "    </tr>\n",
       "  </tbody>\n",
       "</table>\n",
       "<p>75 rows × 5 columns</p>\n",
       "</div>"
      ]
     },
     "execution_count": 102,
     "metadata": {},
     "output_type": "execute_result"
    }
   ],
   "source": [
    "df[~(df['before'].str.match('^-?\\d*\\s?\\d*\\s?\\/\\s?\\d+\\s?\\d*$')) & (df['class'] == 'FRACTION')]"
   ]
  },
  {
   "cell_type": "code",
   "execution_count": 30,
   "metadata": {},
   "outputs": [],
   "source": []
  },
  {
   "cell_type": "code",
   "execution_count": null,
   "metadata": {},
   "outputs": [],
   "source": []
  }
 ],
 "metadata": {
  "kernelspec": {
   "display_name": "Python 2",
   "language": "python",
   "name": "python2"
  },
  "language_info": {
   "codemirror_mode": {
    "name": "ipython",
    "version": 2
   },
   "file_extension": ".py",
   "mimetype": "text/x-python",
   "name": "python",
   "nbconvert_exporter": "python",
   "pygments_lexer": "ipython2",
   "version": "2.7.6"
  }
 },
 "nbformat": 4,
 "nbformat_minor": 0
}
