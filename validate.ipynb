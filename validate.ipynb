{
 "cells": [
  {
   "cell_type": "code",
   "execution_count": 2,
   "metadata": {
    "collapsed": false
   },
   "outputs": [
    {
     "name": "stderr",
     "output_type": "stream",
     "text": [
      "Using TensorFlow backend.\n"
     ]
    },
    {
     "name": "stderr",
     "output_type": "stream",
     "text": [
      "\rMorphologyExtractor create index: 0it [00:00, ?it/s]"
     ]
    },
    {
     "name": "stderr",
     "output_type": "stream",
     "text": [
      "\rMorphologyExtractor create index: 7983it [00:00, 79826.84it/s]"
     ]
    },
    {
     "name": "stderr",
     "output_type": "stream",
     "text": [
      "\rMorphologyExtractor create index: 12469it [00:00, 64696.79it/s]"
     ]
    },
    {
     "name": "stderr",
     "output_type": "stream",
     "text": [
      "\rMorphologyExtractor create index: 20694it [00:00, 69118.92it/s]"
     ]
    },
    {
     "name": "stderr",
     "output_type": "stream",
     "text": [
      "\rMorphologyExtractor create index: 25277it [00:00, 57457.66it/s]"
     ]
    },
    {
     "name": "stderr",
     "output_type": "stream",
     "text": [
      "\rMorphologyExtractor create index: 32123it [00:00, 60367.79it/s]"
     ]
    },
    {
     "name": "stderr",
     "output_type": "stream",
     "text": [
      "\rMorphologyExtractor create index: 41103it [00:00, 66950.76it/s]"
     ]
    },
    {
     "name": "stderr",
     "output_type": "stream",
     "text": [
      "\rMorphologyExtractor create index: 51436it [00:00, 74856.89it/s]"
     ]
    },
    {
     "name": "stderr",
     "output_type": "stream",
     "text": [
      "\rMorphologyExtractor create index: 62381it [00:00, 82679.50it/s]"
     ]
    },
    {
     "name": "stderr",
     "output_type": "stream",
     "text": [
      "\rMorphologyExtractor create index: 70923it [00:00, 74502.88it/s]"
     ]
    },
    {
     "name": "stderr",
     "output_type": "stream",
     "text": [
      "\rMorphologyExtractor create index: 83260it [00:01, 84549.99it/s]"
     ]
    },
    {
     "name": "stderr",
     "output_type": "stream",
     "text": [
      "\rMorphologyExtractor create index: 92429it [00:01, 86571.94it/s]"
     ]
    },
    {
     "name": "stderr",
     "output_type": "stream",
     "text": [
      "\rMorphologyExtractor create index: 106536it [00:01, 97919.12it/s]"
     ]
    },
    {
     "name": "stderr",
     "output_type": "stream",
     "text": [
      "\rMorphologyExtractor create index: 118830it [00:01, 104285.61it/s]"
     ]
    },
    {
     "name": "stderr",
     "output_type": "stream",
     "text": [
      "\rMorphologyExtractor create index: 129970it [00:01, 105607.58it/s]"
     ]
    },
    {
     "name": "stderr",
     "output_type": "stream",
     "text": [
      "\rMorphologyExtractor create index: 141651it [00:01, 108733.51it/s]"
     ]
    },
    {
     "name": "stderr",
     "output_type": "stream",
     "text": [
      "\rMorphologyExtractor create index: 154509it [00:01, 114011.14it/s]"
     ]
    },
    {
     "name": "stderr",
     "output_type": "stream",
     "text": [
      "\rMorphologyExtractor create index: 166962it [00:01, 116974.37it/s]"
     ]
    },
    {
     "name": "stderr",
     "output_type": "stream",
     "text": [
      "\rMorphologyExtractor create index: 181208it [00:01, 123607.95it/s]"
     ]
    },
    {
     "name": "stderr",
     "output_type": "stream",
     "text": [
      "\rMorphologyExtractor create index: 194784it [00:01, 127016.75it/s]"
     ]
    },
    {
     "name": "stderr",
     "output_type": "stream",
     "text": [
      "\rMorphologyExtractor create index: 208769it [00:02, 130610.53it/s]"
     ]
    },
    {
     "name": "stderr",
     "output_type": "stream",
     "text": [
      "\rMorphologyExtractor create index: 222076it [00:02, 131337.98it/s]"
     ]
    },
    {
     "name": "stderr",
     "output_type": "stream",
     "text": [
      "\rMorphologyExtractor create index: 235335it [00:02, 128192.61it/s]"
     ]
    },
    {
     "name": "stderr",
     "output_type": "stream",
     "text": [
      "\rMorphologyExtractor create index: 248259it [00:02, 117574.95it/s]"
     ]
    },
    {
     "name": "stderr",
     "output_type": "stream",
     "text": [
      "\rMorphologyExtractor create index: 262260it [00:02, 123510.17it/s]"
     ]
    },
    {
     "name": "stderr",
     "output_type": "stream",
     "text": [
      "\rMorphologyExtractor create index: 276420it [00:02, 128430.33it/s]"
     ]
    },
    {
     "name": "stderr",
     "output_type": "stream",
     "text": [
      "\rMorphologyExtractor create index: 290263it [00:02, 131274.50it/s]"
     ]
    },
    {
     "name": "stderr",
     "output_type": "stream",
     "text": [
      "\rMorphologyExtractor create index: 304415it [00:02, 134185.14it/s]"
     ]
    },
    {
     "name": "stderr",
     "output_type": "stream",
     "text": [
      "\rMorphologyExtractor create index: 318666it [00:02, 136576.26it/s]"
     ]
    },
    {
     "name": "stderr",
     "output_type": "stream",
     "text": [
      "\rMorphologyExtractor create index: 332920it [00:02, 138310.34it/s]"
     ]
    },
    {
     "name": "stderr",
     "output_type": "stream",
     "text": [
      "\rMorphologyExtractor create index: 347228it [00:03, 139705.01it/s]"
     ]
    },
    {
     "name": "stderr",
     "output_type": "stream",
     "text": [
      "\rMorphologyExtractor create index: 361258it [00:03, 135589.84it/s]"
     ]
    },
    {
     "name": "stderr",
     "output_type": "stream",
     "text": [
      "\rMorphologyExtractor create index: 374885it [00:03, 134227.46it/s]"
     ]
    },
    {
     "name": "stderr",
     "output_type": "stream",
     "text": [
      "\rMorphologyExtractor create index: 388869it [00:03, 135862.15it/s]"
     ]
    },
    {
     "name": "stderr",
     "output_type": "stream",
     "text": [
      "\rMorphologyExtractor create index: 403549it [00:03, 138967.64it/s]"
     ]
    },
    {
     "name": "stderr",
     "output_type": "stream",
     "text": [
      "\rMorphologyExtractor create index: 417492it [00:03, 138070.07it/s]"
     ]
    },
    {
     "name": "stderr",
     "output_type": "stream",
     "text": [
      "\rMorphologyExtractor create index: 431921it [00:03, 139877.78it/s]"
     ]
    },
    {
     "name": "stderr",
     "output_type": "stream",
     "text": [
      "\rMorphologyExtractor create index: 445938it [00:03, 116040.47it/s]"
     ]
    },
    {
     "name": "stderr",
     "output_type": "stream",
     "text": [
      "\rMorphologyExtractor create index: 458241it [00:03, 114287.90it/s]"
     ]
    },
    {
     "name": "stderr",
     "output_type": "stream",
     "text": [
      "\rMorphologyExtractor create index: 470595it [00:04, 116912.73it/s]"
     ]
    },
    {
     "name": "stderr",
     "output_type": "stream",
     "text": [
      "\rMorphologyExtractor create index: 482648it [00:04, 107180.71it/s]"
     ]
    },
    {
     "name": "stderr",
     "output_type": "stream",
     "text": [
      "\rMorphologyExtractor create index: 493778it [00:04, 106939.81it/s]"
     ]
    },
    {
     "name": "stderr",
     "output_type": "stream",
     "text": [
      "\rMorphologyExtractor create index: 505828it [00:04, 110672.83it/s]"
     ]
    },
    {
     "name": "stderr",
     "output_type": "stream",
     "text": [
      "\rMorphologyExtractor create index: 517344it [00:04, 111979.91it/s]"
     ]
    },
    {
     "name": "stderr",
     "output_type": "stream",
     "text": [
      "\rMorphologyExtractor create index: 528797it [00:04, 112732.57it/s]"
     ]
    },
    {
     "name": "stderr",
     "output_type": "stream",
     "text": [
      "\rMorphologyExtractor create index: 543364it [00:04, 120934.25it/s]"
     ]
    },
    {
     "name": "stderr",
     "output_type": "stream",
     "text": [
      "\rMorphologyExtractor create index: 556692it [00:04, 124389.17it/s]"
     ]
    },
    {
     "name": "stderr",
     "output_type": "stream",
     "text": [
      "\rMorphologyExtractor create index: 570540it [00:04, 128304.43it/s]"
     ]
    },
    {
     "name": "stderr",
     "output_type": "stream",
     "text": [
      "\rMorphologyExtractor create index: 585353it [00:05, 133671.26it/s]"
     ]
    },
    {
     "name": "stderr",
     "output_type": "stream",
     "text": [
      "\rMorphologyExtractor create index: 598899it [00:05, 132159.48it/s]"
     ]
    },
    {
     "name": "stderr",
     "output_type": "stream",
     "text": [
      "\rMorphologyExtractor create index: 612244it [00:05, 129097.82it/s]"
     ]
    },
    {
     "name": "stderr",
     "output_type": "stream",
     "text": [
      "\rMorphologyExtractor create index: 625260it [00:05, 127036.40it/s]"
     ]
    },
    {
     "name": "stderr",
     "output_type": "stream",
     "text": [
      "\rMorphologyExtractor create index: 638045it [00:05, 125831.76it/s]"
     ]
    },
    {
     "name": "stderr",
     "output_type": "stream",
     "text": [
      "\rMorphologyExtractor create index: 650688it [00:05, 124522.09it/s]"
     ]
    },
    {
     "name": "stderr",
     "output_type": "stream",
     "text": [
      "\rMorphologyExtractor create index: 663185it [00:05, 109630.46it/s]"
     ]
    },
    {
     "name": "stderr",
     "output_type": "stream",
     "text": [
      "\rMorphologyExtractor create index: 674505it [00:05, 93364.77it/s] "
     ]
    },
    {
     "name": "stderr",
     "output_type": "stream",
     "text": [
      "\rMorphologyExtractor create index: 684510it [00:06, 81263.99it/s]"
     ]
    },
    {
     "name": "stderr",
     "output_type": "stream",
     "text": [
      "\rMorphologyExtractor create index: 693385it [00:06, 77930.66it/s]"
     ]
    },
    {
     "name": "stderr",
     "output_type": "stream",
     "text": [
      "\rMorphologyExtractor create index: 701732it [00:06, 73870.97it/s]"
     ]
    },
    {
     "name": "stderr",
     "output_type": "stream",
     "text": [
      "\rMorphologyExtractor create index: 709551it [00:06, 73433.66it/s]"
     ]
    },
    {
     "name": "stderr",
     "output_type": "stream",
     "text": [
      "\rMorphologyExtractor create index: 718095it [00:06, 76665.24it/s]"
     ]
    },
    {
     "name": "stderr",
     "output_type": "stream",
     "text": [
      "\rMorphologyExtractor create index: 726174it [00:06, 77857.35it/s]"
     ]
    },
    {
     "name": "stderr",
     "output_type": "stream",
     "text": [
      "\rMorphologyExtractor create index: 734139it [00:06, 76437.86it/s]"
     ]
    },
    {
     "name": "stderr",
     "output_type": "stream",
     "text": [
      "\rMorphologyExtractor create index: 744837it [00:06, 83375.69it/s]"
     ]
    },
    {
     "name": "stderr",
     "output_type": "stream",
     "text": [
      "\rMorphologyExtractor create index: 753463it [00:06, 83435.06it/s]"
     ]
    },
    {
     "name": "stderr",
     "output_type": "stream",
     "text": [
      "\rMorphologyExtractor create index: 762002it [00:07, 78010.48it/s]"
     ]
    },
    {
     "name": "stderr",
     "output_type": "stream",
     "text": [
      "\rMorphologyExtractor create index: 771203it [00:07, 81738.84it/s]"
     ]
    },
    {
     "name": "stderr",
     "output_type": "stream",
     "text": [
      "\rMorphologyExtractor create index: 779570it [00:07, 70728.63it/s]"
     ]
    },
    {
     "name": "stderr",
     "output_type": "stream",
     "text": [
      "\rMorphologyExtractor create index: 789199it [00:07, 76847.99it/s]"
     ]
    },
    {
     "name": "stderr",
     "output_type": "stream",
     "text": [
      "\rMorphologyExtractor create index: 800091it [00:07, 84293.84it/s]"
     ]
    },
    {
     "name": "stderr",
     "output_type": "stream",
     "text": [
      "\rMorphologyExtractor create index: 810756it [00:07, 89948.26it/s]"
     ]
    },
    {
     "name": "stderr",
     "output_type": "stream",
     "text": [
      "\rMorphologyExtractor create index: 820672it [00:07, 92483.19it/s]"
     ]
    },
    {
     "name": "stderr",
     "output_type": "stream",
     "text": [
      "\rMorphologyExtractor create index: 831701it [00:07, 97190.53it/s]"
     ]
    },
    {
     "name": "stderr",
     "output_type": "stream",
     "text": [
      "\rMorphologyExtractor create index: 843878it [00:07, 103453.14it/s]"
     ]
    },
    {
     "name": "stderr",
     "output_type": "stream",
     "text": [
      "\rMorphologyExtractor create index: 856764it [00:07, 109956.78it/s]"
     ]
    },
    {
     "name": "stderr",
     "output_type": "stream",
     "text": [
      "\rMorphologyExtractor create index: 869910it [00:08, 115630.51it/s]"
     ]
    },
    {
     "name": "stderr",
     "output_type": "stream",
     "text": [
      "\rMorphologyExtractor create index: 882131it [00:08, 117528.06it/s]"
     ]
    },
    {
     "name": "stderr",
     "output_type": "stream",
     "text": [
      "\rMorphologyExtractor create index: 894112it [00:08, 114731.52it/s]"
     ]
    },
    {
     "name": "stderr",
     "output_type": "stream",
     "text": [
      "\rMorphologyExtractor create index: 905760it [00:08, 107849.05it/s]"
     ]
    },
    {
     "name": "stderr",
     "output_type": "stream",
     "text": [
      "\rMorphologyExtractor create index: 918680it [00:08, 113473.26it/s]"
     ]
    },
    {
     "name": "stderr",
     "output_type": "stream",
     "text": [
      "\rMorphologyExtractor create index: 931872it [00:08, 118441.23it/s]"
     ]
    },
    {
     "name": "stderr",
     "output_type": "stream",
     "text": [
      "\rMorphologyExtractor create index: 944997it [00:08, 122012.01it/s]"
     ]
    },
    {
     "name": "stderr",
     "output_type": "stream",
     "text": [
      "\rMorphologyExtractor create index: 959051it [00:08, 127033.98it/s]"
     ]
    },
    {
     "name": "stderr",
     "output_type": "stream",
     "text": [
      "\rMorphologyExtractor create index: 972473it [00:08, 129107.62it/s]"
     ]
    },
    {
     "name": "stderr",
     "output_type": "stream",
     "text": [
      "\rMorphologyExtractor create index: 985516it [00:09, 128784.15it/s]"
     ]
    },
    {
     "name": "stderr",
     "output_type": "stream",
     "text": [
      "\rMorphologyExtractor create index: 999150it [00:09, 130961.43it/s]"
     ]
    },
    {
     "name": "stderr",
     "output_type": "stream",
     "text": [
      "\rMorphologyExtractor create index: 1013263it [00:09, 133854.51it/s]"
     ]
    },
    {
     "name": "stderr",
     "output_type": "stream",
     "text": [
      "\rMorphologyExtractor create index: 1027092it [00:09, 135154.65it/s]"
     ]
    },
    {
     "name": "stderr",
     "output_type": "stream",
     "text": [
      "\rMorphologyExtractor create index: 1042188it [00:09, 139536.68it/s]"
     ]
    },
    {
     "name": "stderr",
     "output_type": "stream",
     "text": [
      "\rMorphologyExtractor create index: 1057059it [00:09, 142167.26it/s]"
     ]
    },
    {
     "name": "stderr",
     "output_type": "stream",
     "text": [
      "\rMorphologyExtractor create index: 1071352it [00:09, 142393.44it/s]"
     ]
    },
    {
     "name": "stderr",
     "output_type": "stream",
     "text": [
      "\rMorphologyExtractor create index: 1085635it [00:09, 139161.39it/s]"
     ]
    },
    {
     "name": "stderr",
     "output_type": "stream",
     "text": [
      "\rMorphologyExtractor create index: 1099598it [00:09, 130791.80it/s]"
     ]
    },
    {
     "name": "stderr",
     "output_type": "stream",
     "text": [
      "\rMorphologyExtractor create index: 1112813it [00:09, 114870.15it/s]"
     ]
    },
    {
     "name": "stderr",
     "output_type": "stream",
     "text": [
      "\rMorphologyExtractor create index: 1124748it [00:10, 107379.72it/s]"
     ]
    },
    {
     "name": "stderr",
     "output_type": "stream",
     "text": [
      "\rMorphologyExtractor create index: 1135898it [00:10, 96077.20it/s] "
     ]
    },
    {
     "name": "stderr",
     "output_type": "stream",
     "text": [
      "\rMorphologyExtractor create index: 1146017it [00:10, 94411.94it/s]"
     ]
    },
    {
     "name": "stderr",
     "output_type": "stream",
     "text": [
      "\rMorphologyExtractor create index: 1155823it [00:10, 90088.74it/s]"
     ]
    },
    {
     "name": "stderr",
     "output_type": "stream",
     "text": [
      "\rMorphologyExtractor create index: 1165129it [00:10, 88778.27it/s]"
     ]
    },
    {
     "name": "stderr",
     "output_type": "stream",
     "text": [
      "\rMorphologyExtractor create index: 1174219it [00:10, 83306.16it/s]"
     ]
    },
    {
     "name": "stderr",
     "output_type": "stream",
     "text": [
      "\rMorphologyExtractor create index: 1184764it [00:10, 88840.20it/s]"
     ]
    },
    {
     "name": "stderr",
     "output_type": "stream",
     "text": [
      "\rMorphologyExtractor create index: 1194978it [00:10, 92340.39it/s]"
     ]
    },
    {
     "name": "stderr",
     "output_type": "stream",
     "text": [
      "\rMorphologyExtractor create index: 1205411it [00:11, 95635.74it/s]"
     ]
    },
    {
     "name": "stderr",
     "output_type": "stream",
     "text": [
      "\rMorphologyExtractor create index: 1215307it [00:11, 96607.33it/s]"
     ]
    },
    {
     "name": "stderr",
     "output_type": "stream",
     "text": [
      "\rMorphologyExtractor create index: 1225096it [00:11, 96573.53it/s]"
     ]
    },
    {
     "name": "stderr",
     "output_type": "stream",
     "text": [
      "\rMorphologyExtractor create index: 1235345it [00:11, 98274.91it/s]"
     ]
    },
    {
     "name": "stderr",
     "output_type": "stream",
     "text": [
      "\rMorphologyExtractor create index: 1245243it [00:11, 91783.39it/s]"
     ]
    },
    {
     "name": "stderr",
     "output_type": "stream",
     "text": [
      "\rMorphologyExtractor create index: 1254557it [00:11, 88972.90it/s]"
     ]
    },
    {
     "name": "stderr",
     "output_type": "stream",
     "text": [
      "\rMorphologyExtractor create index: 1263568it [00:11, 88904.70it/s]"
     ]
    },
    {
     "name": "stderr",
     "output_type": "stream",
     "text": [
      "\rMorphologyExtractor create index: 1272539it [00:11, 87330.67it/s]"
     ]
    },
    {
     "name": "stderr",
     "output_type": "stream",
     "text": [
      "\rMorphologyExtractor create index: 1281335it [00:11, 77602.47it/s]"
     ]
    },
    {
     "name": "stderr",
     "output_type": "stream",
     "text": [
      "\rMorphologyExtractor create index: 1289340it [00:12, 70734.78it/s]"
     ]
    },
    {
     "name": "stderr",
     "output_type": "stream",
     "text": [
      "\rMorphologyExtractor create index: 1296702it [00:12, 58554.46it/s]"
     ]
    },
    {
     "name": "stderr",
     "output_type": "stream",
     "text": [
      "\rMorphologyExtractor create index: 1303109it [00:12, 54085.67it/s]"
     ]
    },
    {
     "name": "stderr",
     "output_type": "stream",
     "text": [
      "\rMorphologyExtractor create index: 1308971it [00:12, 52615.71it/s]"
     ]
    },
    {
     "name": "stderr",
     "output_type": "stream",
     "text": [
      "\rMorphologyExtractor create index: 1314663it [00:12, 53836.02it/s]"
     ]
    },
    {
     "name": "stderr",
     "output_type": "stream",
     "text": [
      "\rMorphologyExtractor create index: 1322849it [00:12, 59996.37it/s]"
     ]
    },
    {
     "name": "stderr",
     "output_type": "stream",
     "text": [
      "\rMorphologyExtractor create index: 1332838it [00:12, 68163.17it/s]"
     ]
    },
    {
     "name": "stderr",
     "output_type": "stream",
     "text": [
      "\rMorphologyExtractor create index: 1342950it [00:12, 75549.24it/s]"
     ]
    },
    {
     "name": "stderr",
     "output_type": "stream",
     "text": [
      "\rMorphologyExtractor create index: 1353803it [00:12, 83126.34it/s]"
     ]
    },
    {
     "name": "stderr",
     "output_type": "stream",
     "text": [
      "\rMorphologyExtractor create index: 1364953it [00:13, 89993.34it/s]"
     ]
    },
    {
     "name": "stderr",
     "output_type": "stream",
     "text": [
      "\rMorphologyExtractor create index: 1374870it [00:13, 92562.64it/s]"
     ]
    },
    {
     "name": "stderr",
     "output_type": "stream",
     "text": [
      "\rMorphologyExtractor create index: 1386035it [00:13, 97564.68it/s]"
     ]
    },
    {
     "name": "stderr",
     "output_type": "stream",
     "text": [
      "\rMorphologyExtractor create index: 1397798it [00:13, 102824.64it/s]"
     ]
    },
    {
     "name": "stderr",
     "output_type": "stream",
     "text": [
      "\rMorphologyExtractor create index: 1409403it [00:13, 106462.81it/s]"
     ]
    },
    {
     "name": "stderr",
     "output_type": "stream",
     "text": [
      "\rMorphologyExtractor create index: 1420768it [00:13, 108521.33it/s]"
     ]
    },
    {
     "name": "stderr",
     "output_type": "stream",
     "text": [
      "\rMorphologyExtractor create index: 1431833it [00:13, 108997.66it/s]"
     ]
    },
    {
     "name": "stderr",
     "output_type": "stream",
     "text": [
      "\rMorphologyExtractor create index: 1443656it [00:13, 111611.68it/s]"
     ]
    },
    {
     "name": "stderr",
     "output_type": "stream",
     "text": [
      "\rMorphologyExtractor create index: 1455967it [00:13, 114828.49it/s]"
     ]
    },
    {
     "name": "stderr",
     "output_type": "stream",
     "text": [
      "\rMorphologyExtractor create index: 1468263it [00:13, 117151.73it/s]"
     ]
    },
    {
     "name": "stderr",
     "output_type": "stream",
     "text": [
      "\rMorphologyExtractor create index: 1480065it [00:14, 113401.30it/s]"
     ]
    },
    {
     "name": "stderr",
     "output_type": "stream",
     "text": [
      "\rMorphologyExtractor create index: 1491492it [00:14, 103260.84it/s]"
     ]
    },
    {
     "name": "stderr",
     "output_type": "stream",
     "text": [
      "\rMorphologyExtractor create index: 1502701it [00:14, 105759.18it/s]"
     ]
    },
    {
     "name": "stderr",
     "output_type": "stream",
     "text": [
      "\rMorphologyExtractor create index: 1513974it [00:14, 107756.60it/s]"
     ]
    },
    {
     "name": "stderr",
     "output_type": "stream",
     "text": [
      "\rMorphologyExtractor create index: 1524885it [00:14, 93050.30it/s] "
     ]
    },
    {
     "name": "stderr",
     "output_type": "stream",
     "text": [
      "\rMorphologyExtractor create index: 1534640it [00:14, 80836.99it/s]"
     ]
    },
    {
     "name": "stderr",
     "output_type": "stream",
     "text": [
      "\rMorphologyExtractor create index: 1546254it [00:14, 88947.44it/s]"
     ]
    },
    {
     "name": "stderr",
     "output_type": "stream",
     "text": [
      "\rMorphologyExtractor create index: 1557820it [00:14, 95567.27it/s]"
     ]
    },
    {
     "name": "stderr",
     "output_type": "stream",
     "text": [
      "\rMorphologyExtractor create index: 1569380it [00:15, 100806.48it/s]"
     ]
    },
    {
     "name": "stderr",
     "output_type": "stream",
     "text": [
      "\rMorphologyExtractor create index: 1580739it [00:15, 104328.00it/s]"
     ]
    },
    {
     "name": "stderr",
     "output_type": "stream",
     "text": [
      "\rMorphologyExtractor create index: 1591555it [00:15, 92408.78it/s] "
     ]
    },
    {
     "name": "stderr",
     "output_type": "stream",
     "text": [
      "\rMorphologyExtractor create index: 1601315it [00:15, 82012.13it/s]"
     ]
    },
    {
     "name": "stderr",
     "output_type": "stream",
     "text": [
      "\rMorphologyExtractor create index: 1610096it [00:15, 71580.40it/s]"
     ]
    },
    {
     "name": "stderr",
     "output_type": "stream",
     "text": [
      "\rMorphologyExtractor create index: 1617899it [00:15, 72579.52it/s]"
     ]
    },
    {
     "name": "stderr",
     "output_type": "stream",
     "text": [
      "\rMorphologyExtractor create index: 1628041it [00:15, 79347.63it/s]"
     ]
    },
    {
     "name": "stderr",
     "output_type": "stream",
     "text": [
      "\rMorphologyExtractor create index: 1637205it [00:15, 82674.53it/s]"
     ]
    },
    {
     "name": "stderr",
     "output_type": "stream",
     "text": [
      "\rMorphologyExtractor create index: 1645863it [00:16, 82983.07it/s]"
     ]
    },
    {
     "name": "stderr",
     "output_type": "stream",
     "text": [
      "\rMorphologyExtractor create index: 1656349it [00:16, 88503.71it/s]"
     ]
    },
    {
     "name": "stderr",
     "output_type": "stream",
     "text": [
      "\rMorphologyExtractor create index: 1665608it [00:16, 89641.49it/s]"
     ]
    },
    {
     "name": "stderr",
     "output_type": "stream",
     "text": [
      "\rMorphologyExtractor create index: 1674781it [00:16, 77900.44it/s]"
     ]
    },
    {
     "name": "stderr",
     "output_type": "stream",
     "text": [
      "\rMorphologyExtractor create index: 1682992it [00:16, 78672.75it/s]"
     ]
    },
    {
     "name": "stderr",
     "output_type": "stream",
     "text": [
      "\rMorphologyExtractor create index: 1694466it [00:16, 86863.17it/s]"
     ]
    },
    {
     "name": "stderr",
     "output_type": "stream",
     "text": [
      "\rMorphologyExtractor create index: 1705656it [00:16, 93112.11it/s]"
     ]
    },
    {
     "name": "stderr",
     "output_type": "stream",
     "text": [
      "\rMorphologyExtractor create index: 1715834it [00:16, 95552.26it/s]"
     ]
    },
    {
     "name": "stderr",
     "output_type": "stream",
     "text": [
      "\rMorphologyExtractor create index: 1725724it [00:16, 95840.19it/s]"
     ]
    },
    {
     "name": "stderr",
     "output_type": "stream",
     "text": [
      "\rMorphologyExtractor create index: 1735543it [00:16, 91856.89it/s]"
     ]
    },
    {
     "name": "stderr",
     "output_type": "stream",
     "text": [
      "\rMorphologyExtractor create index: 1744928it [00:17, 87782.53it/s]"
     ]
    },
    {
     "name": "stderr",
     "output_type": "stream",
     "text": [
      "\rMorphologyExtractor create index: 1753884it [00:17, 88096.42it/s]"
     ]
    },
    {
     "name": "stderr",
     "output_type": "stream",
     "text": [
      "\rMorphologyExtractor create index: 1764415it [00:17, 92638.65it/s]"
     ]
    },
    {
     "name": "stderr",
     "output_type": "stream",
     "text": [
      "\rMorphologyExtractor create index: 1774975it [00:17, 96179.91it/s]"
     ]
    },
    {
     "name": "stderr",
     "output_type": "stream",
     "text": [
      "\rMorphologyExtractor create index: 1784733it [00:17, 86646.31it/s]"
     ]
    },
    {
     "name": "stderr",
     "output_type": "stream",
     "text": [
      "\rMorphologyExtractor create index: 1793841it [00:17, 87928.08it/s]"
     ]
    },
    {
     "name": "stderr",
     "output_type": "stream",
     "text": [
      "\rMorphologyExtractor create index: 1805336it [00:17, 94596.00it/s]"
     ]
    },
    {
     "name": "stderr",
     "output_type": "stream",
     "text": [
      "\rMorphologyExtractor create index: 1815078it [00:17, 91992.43it/s]"
     ]
    },
    {
     "name": "stderr",
     "output_type": "stream",
     "text": [
      "\rMorphologyExtractor create index: 1824944it [00:17, 93895.25it/s]"
     ]
    },
    {
     "name": "stderr",
     "output_type": "stream",
     "text": [
      "\rMorphologyExtractor create index: 1836645it [00:18, 99809.11it/s]"
     ]
    },
    {
     "name": "stderr",
     "output_type": "stream",
     "text": [
      "\rMorphologyExtractor create index: 1846839it [00:18, 99250.85it/s]"
     ]
    },
    {
     "name": "stderr",
     "output_type": "stream",
     "text": [
      "\rMorphologyExtractor create index: 1857257it [00:18, 100679.31it/s]"
     ]
    },
    {
     "name": "stderr",
     "output_type": "stream",
     "text": [
      "\rMorphologyExtractor create index: 1869160it [00:18, 105550.64it/s]"
     ]
    },
    {
     "name": "stderr",
     "output_type": "stream",
     "text": [
      "\rMorphologyExtractor create index: 1880121it [00:18, 106733.73it/s]"
     ]
    },
    {
     "name": "stderr",
     "output_type": "stream",
     "text": [
      "\rMorphologyExtractor create index: 1890895it [00:18, 105838.13it/s]"
     ]
    },
    {
     "name": "stderr",
     "output_type": "stream",
     "text": [
      "\rMorphologyExtractor create index: 1901551it [00:18, 98386.32it/s] "
     ]
    },
    {
     "name": "stderr",
     "output_type": "stream",
     "text": [
      "\rMorphologyExtractor create index: 1911546it [00:18, 87030.03it/s]"
     ]
    },
    {
     "name": "stderr",
     "output_type": "stream",
     "text": [
      "\rMorphologyExtractor create index: 1920599it [00:19, 67918.35it/s]"
     ]
    },
    {
     "name": "stderr",
     "output_type": "stream",
     "text": [
      "\rMorphologyExtractor create index: 1928284it [00:19, 62533.53it/s]"
     ]
    },
    {
     "name": "stderr",
     "output_type": "stream",
     "text": [
      "\rMorphologyExtractor create index: 1935247it [00:19, 56626.47it/s]"
     ]
    },
    {
     "name": "stderr",
     "output_type": "stream",
     "text": [
      "\rMorphologyExtractor create index: 1943483it [00:19, 62482.34it/s]"
     ]
    },
    {
     "name": "stderr",
     "output_type": "stream",
     "text": [
      "\rMorphologyExtractor create index: 1953781it [00:19, 70836.36it/s]"
     ]
    },
    {
     "name": "stderr",
     "output_type": "stream",
     "text": [
      "\rMorphologyExtractor create index: 1965303it [00:19, 80091.12it/s]"
     ]
    },
    {
     "name": "stderr",
     "output_type": "stream",
     "text": [
      "\rMorphologyExtractor create index: 1976409it [00:19, 87401.73it/s]"
     ]
    },
    {
     "name": "stderr",
     "output_type": "stream",
     "text": [
      "\rMorphologyExtractor create index: 1989067it [00:19, 96345.87it/s]"
     ]
    },
    {
     "name": "stderr",
     "output_type": "stream",
     "text": [
      "\rMorphologyExtractor create index: 1999596it [00:19, 97904.48it/s]"
     ]
    },
    {
     "name": "stderr",
     "output_type": "stream",
     "text": [
      "\rMorphologyExtractor create index: 2011022it [00:20, 102293.33it/s]"
     ]
    },
    {
     "name": "stderr",
     "output_type": "stream",
     "text": [
      "\rMorphologyExtractor create index: 2021745it [00:20, 97806.86it/s] "
     ]
    },
    {
     "name": "stderr",
     "output_type": "stream",
     "text": [
      "\rMorphologyExtractor create index: 2031913it [00:20, 84639.57it/s]"
     ]
    },
    {
     "name": "stderr",
     "output_type": "stream",
     "text": [
      "\rMorphologyExtractor create index: 2040963it [00:20, 74219.43it/s]"
     ]
    },
    {
     "name": "stderr",
     "output_type": "stream",
     "text": [
      "\rMorphologyExtractor create index: 2049750it [00:20, 77846.69it/s]"
     ]
    },
    {
     "name": "stderr",
     "output_type": "stream",
     "text": [
      "\rMorphologyExtractor create index: 2058032it [00:20, 75717.28it/s]"
     ]
    },
    {
     "name": "stderr",
     "output_type": "stream",
     "text": [
      "\rMorphologyExtractor create index: 2067596it [00:20, 80763.87it/s]"
     ]
    },
    {
     "name": "stderr",
     "output_type": "stream",
     "text": [
      "\rMorphologyExtractor create index: 2078771it [00:20, 88091.28it/s]"
     ]
    },
    {
     "name": "stderr",
     "output_type": "stream",
     "text": [
      "\rMorphologyExtractor create index: 2090036it [00:20, 94255.11it/s]"
     ]
    },
    {
     "name": "stderr",
     "output_type": "stream",
     "text": [
      "\rMorphologyExtractor create index: 2101655it [00:21, 99911.21it/s]"
     ]
    },
    {
     "name": "stderr",
     "output_type": "stream",
     "text": [
      "\rMorphologyExtractor create index: 2112713it [00:21, 102888.93it/s]"
     ]
    },
    {
     "name": "stderr",
     "output_type": "stream",
     "text": [
      "\rMorphologyExtractor create index: 2123955it [00:21, 105572.10it/s]"
     ]
    },
    {
     "name": "stderr",
     "output_type": "stream",
     "text": [
      "\rMorphologyExtractor create index: 2134737it [00:21, 102878.09it/s]"
     ]
    },
    {
     "name": "stderr",
     "output_type": "stream",
     "text": [
      "\rMorphologyExtractor create index: 2146146it [00:21, 106000.81it/s]"
     ]
    },
    {
     "name": "stderr",
     "output_type": "stream",
     "text": [
      "\rMorphologyExtractor create index: 2157558it [00:21, 108311.47it/s]"
     ]
    },
    {
     "name": "stderr",
     "output_type": "stream",
     "text": [
      "\rMorphologyExtractor create index: 2169300it [00:21, 110891.10it/s]"
     ]
    },
    {
     "name": "stderr",
     "output_type": "stream",
     "text": [
      "\rMorphologyExtractor create index: 2180484it [00:21, 92006.68it/s] "
     ]
    },
    {
     "name": "stderr",
     "output_type": "stream",
     "text": [
      "\rMorphologyExtractor create index: 2190288it [00:22, 82374.85it/s]"
     ]
    },
    {
     "name": "stderr",
     "output_type": "stream",
     "text": [
      "\rMorphologyExtractor create index: 2199137it [00:22, 83705.32it/s]"
     ]
    },
    {
     "name": "stderr",
     "output_type": "stream",
     "text": [
      "\rMorphologyExtractor create index: 2210230it [00:22, 90357.21it/s]"
     ]
    },
    {
     "name": "stderr",
     "output_type": "stream",
     "text": [
      "\rMorphologyExtractor create index: 2221533it [00:22, 96142.02it/s]"
     ]
    },
    {
     "name": "stderr",
     "output_type": "stream",
     "text": [
      "\rMorphologyExtractor create index: 2232617it [00:22, 100123.31it/s]"
     ]
    },
    {
     "name": "stderr",
     "output_type": "stream",
     "text": [
      "\rMorphologyExtractor create index: 2242966it [00:22, 96584.84it/s] "
     ]
    },
    {
     "name": "stderr",
     "output_type": "stream",
     "text": [
      "\rMorphologyExtractor create index: 2252887it [00:22, 90713.00it/s]"
     ]
    },
    {
     "name": "stderr",
     "output_type": "stream",
     "text": [
      "\rMorphologyExtractor create index: 2262215it [00:22, 85374.23it/s]"
     ]
    },
    {
     "name": "stderr",
     "output_type": "stream",
     "text": [
      "\rMorphologyExtractor create index: 2270997it [00:22, 77438.45it/s]"
     ]
    },
    {
     "name": "stderr",
     "output_type": "stream",
     "text": [
      "\rMorphologyExtractor create index: 2280754it [00:23, 82545.40it/s]"
     ]
    },
    {
     "name": "stderr",
     "output_type": "stream",
     "text": [
      "\rMorphologyExtractor create index: 2291853it [00:23, 89420.18it/s]"
     ]
    },
    {
     "name": "stderr",
     "output_type": "stream",
     "text": [
      "\rMorphologyExtractor create index: 2301622it [00:23, 91748.70it/s]"
     ]
    },
    {
     "name": "stderr",
     "output_type": "stream",
     "text": [
      "\rMorphologyExtractor create index: 2311081it [00:23, 89040.09it/s]"
     ]
    },
    {
     "name": "stderr",
     "output_type": "stream",
     "text": [
      "\rMorphologyExtractor create index: 2320202it [00:23, 78714.75it/s]"
     ]
    },
    {
     "name": "stderr",
     "output_type": "stream",
     "text": [
      "\rMorphologyExtractor create index: 2328445it [00:23, 74841.29it/s]"
     ]
    },
    {
     "name": "stderr",
     "output_type": "stream",
     "text": [
      "\rMorphologyExtractor create index: 2336229it [00:23, 74399.18it/s]"
     ]
    },
    {
     "name": "stderr",
     "output_type": "stream",
     "text": [
      "\rMorphologyExtractor create index: 2343880it [00:23, 73575.91it/s]"
     ]
    },
    {
     "name": "stderr",
     "output_type": "stream",
     "text": [
      "\rMorphologyExtractor create index: 2354654it [00:23, 81309.71it/s]"
     ]
    },
    {
     "name": "stderr",
     "output_type": "stream",
     "text": [
      "\rMorphologyExtractor create index: 2365308it [00:24, 87527.25it/s]"
     ]
    },
    {
     "name": "stderr",
     "output_type": "stream",
     "text": [
      "\rMorphologyExtractor create index: 2375217it [00:24, 90700.22it/s]"
     ]
    },
    {
     "name": "stderr",
     "output_type": "stream",
     "text": [
      "\rMorphologyExtractor create index: 2384586it [00:24, 90792.33it/s]"
     ]
    },
    {
     "name": "stderr",
     "output_type": "stream",
     "text": [
      "\rMorphologyExtractor create index: 2393875it [00:24, 88752.65it/s]"
     ]
    },
    {
     "name": "stderr",
     "output_type": "stream",
     "text": [
      "\rMorphologyExtractor create index: 2402907it [00:24, 86380.12it/s]"
     ]
    },
    {
     "name": "stderr",
     "output_type": "stream",
     "text": [
      "\rMorphologyExtractor create index: 2411669it [00:24, 82126.21it/s]"
     ]
    },
    {
     "name": "stderr",
     "output_type": "stream",
     "text": [
      "\rMorphologyExtractor create index: 2421046it [00:24, 85303.77it/s]"
     ]
    },
    {
     "name": "stderr",
     "output_type": "stream",
     "text": [
      "\rMorphologyExtractor create index: 2433280it [00:24, 93823.18it/s]"
     ]
    },
    {
     "name": "stderr",
     "output_type": "stream",
     "text": [
      "\rMorphologyExtractor create index: 2444626it [00:24, 98682.82it/s]"
     ]
    },
    {
     "name": "stderr",
     "output_type": "stream",
     "text": [
      "\rMorphologyExtractor create index: 2454803it [00:24, 93998.84it/s]"
     ]
    },
    {
     "name": "stderr",
     "output_type": "stream",
     "text": [
      "\rMorphologyExtractor create index: 2466082it [00:25, 98943.93it/s]"
     ]
    },
    {
     "name": "stderr",
     "output_type": "stream",
     "text": [
      "\rMorphologyExtractor create index: 2477362it [00:25, 102728.87it/s]"
     ]
    },
    {
     "name": "stderr",
     "output_type": "stream",
     "text": [
      "\rMorphologyExtractor create index: 2487849it [00:25, 100115.12it/s]"
     ]
    },
    {
     "name": "stderr",
     "output_type": "stream",
     "text": [
      "\rMorphologyExtractor create index: 2499883it [00:25, 105429.25it/s]"
     ]
    },
    {
     "name": "stderr",
     "output_type": "stream",
     "text": [
      "\rMorphologyExtractor create index: 2510617it [00:25, 100663.60it/s]"
     ]
    },
    {
     "name": "stderr",
     "output_type": "stream",
     "text": [
      "\rMorphologyExtractor create index: 2520863it [00:25, 98676.50it/s] "
     ]
    },
    {
     "name": "stderr",
     "output_type": "stream",
     "text": [
      "\rMorphologyExtractor create index: 2530865it [00:25, 97620.90it/s]"
     ]
    },
    {
     "name": "stderr",
     "output_type": "stream",
     "text": [
      "\rMorphologyExtractor create index: 2541255it [00:25, 99422.68it/s]"
     ]
    },
    {
     "name": "stderr",
     "output_type": "stream",
     "text": [
      "\rMorphologyExtractor create index: 2552060it [00:25, 101860.29it/s]"
     ]
    },
    {
     "name": "stderr",
     "output_type": "stream",
     "text": [
      "\rMorphologyExtractor create index: 2563442it [00:26, 105167.81it/s]"
     ]
    },
    {
     "name": "stderr",
     "output_type": "stream",
     "text": [
      "\rMorphologyExtractor create index: 2574500it [00:26, 106730.40it/s]"
     ]
    },
    {
     "name": "stderr",
     "output_type": "stream",
     "text": [
      "\rMorphologyExtractor create index: 2585231it [00:26, 106077.43it/s]"
     ]
    },
    {
     "name": "stderr",
     "output_type": "stream",
     "text": [
      "\rMorphologyExtractor create index: 2597105it [00:26, 109582.34it/s]"
     ]
    },
    {
     "name": "stderr",
     "output_type": "stream",
     "text": [
      "\rMorphologyExtractor create index: 2608944it [00:26, 112083.55it/s]"
     ]
    },
    {
     "name": "stderr",
     "output_type": "stream",
     "text": [
      "\rMorphologyExtractor create index: 2620615it [00:26, 113431.59it/s]"
     ]
    },
    {
     "name": "stderr",
     "output_type": "stream",
     "text": [
      "\rMorphologyExtractor create index: 2632061it [00:26, 113736.83it/s]"
     ]
    },
    {
     "name": "stderr",
     "output_type": "stream",
     "text": [
      "\rMorphologyExtractor create index: 2643465it [00:26, 108361.71it/s]"
     ]
    },
    {
     "name": "stderr",
     "output_type": "stream",
     "text": [
      "\rMorphologyExtractor create index: 2654903it [00:26, 110097.76it/s]"
     ]
    },
    {
     "name": "stderr",
     "output_type": "stream",
     "text": [
      "\rMorphologyExtractor create index: 2666700it [00:26, 112345.29it/s]"
     ]
    },
    {
     "name": "stderr",
     "output_type": "stream",
     "text": [
      "\rMorphologyExtractor create index: 2678537it [00:27, 114086.32it/s]"
     ]
    },
    {
     "name": "stderr",
     "output_type": "stream",
     "text": [
      "\rMorphologyExtractor create index: 2690685it [00:27, 116207.16it/s]"
     ]
    },
    {
     "name": "stderr",
     "output_type": "stream",
     "text": [
      "\rMorphologyExtractor create index: 2703152it [00:27, 118622.49it/s]"
     ]
    },
    {
     "name": "stderr",
     "output_type": "stream",
     "text": [
      "\rMorphologyExtractor create index: 2715358it [00:27, 119632.61it/s]"
     ]
    },
    {
     "name": "stderr",
     "output_type": "stream",
     "text": [
      "\rMorphologyExtractor create index: 2727675it [00:27, 120670.48it/s]"
     ]
    },
    {
     "name": "stderr",
     "output_type": "stream",
     "text": [
      "\rMorphologyExtractor create index: 2740044it [00:27, 121558.21it/s]"
     ]
    },
    {
     "name": "stderr",
     "output_type": "stream",
     "text": [
      "\rMorphologyExtractor create index: 2752226it [00:27, 121635.19it/s]"
     ]
    },
    {
     "name": "stderr",
     "output_type": "stream",
     "text": [
      "\rMorphologyExtractor create index: 2764598it [00:27, 122252.04it/s]"
     ]
    },
    {
     "name": "stderr",
     "output_type": "stream",
     "text": [
      "\rMorphologyExtractor create index: 2776833it [00:27, 121791.37it/s]"
     ]
    },
    {
     "name": "stderr",
     "output_type": "stream",
     "text": [
      "\rMorphologyExtractor create index: 2789020it [00:27, 120433.99it/s]"
     ]
    },
    {
     "name": "stderr",
     "output_type": "stream",
     "text": [
      "\rMorphologyExtractor create index: 2801072it [00:28, 118522.18it/s]"
     ]
    },
    {
     "name": "stderr",
     "output_type": "stream",
     "text": [
      "\rMorphologyExtractor create index: 2812937it [00:28, 112638.61it/s]"
     ]
    },
    {
     "name": "stderr",
     "output_type": "stream",
     "text": [
      "\rMorphologyExtractor create index: 2824271it [00:28, 105091.12it/s]"
     ]
    },
    {
     "name": "stderr",
     "output_type": "stream",
     "text": [
      "\rMorphologyExtractor create index: 2834932it [00:28, 105259.02it/s]"
     ]
    },
    {
     "name": "stderr",
     "output_type": "stream",
     "text": [
      "\rMorphologyExtractor create index: 2846240it [00:28, 107488.32it/s]"
     ]
    },
    {
     "name": "stderr",
     "output_type": "stream",
     "text": [
      "\rMorphologyExtractor create index: 2857860it [00:28, 109959.38it/s]"
     ]
    },
    {
     "name": "stderr",
     "output_type": "stream",
     "text": [
      "\rMorphologyExtractor create index: 2869296it [00:28, 111240.91it/s]"
     ]
    },
    {
     "name": "stderr",
     "output_type": "stream",
     "text": [
      "\rMorphologyExtractor create index: 2880735it [00:28, 112156.77it/s]"
     ]
    },
    {
     "name": "stderr",
     "output_type": "stream",
     "text": [
      "\rMorphologyExtractor create index: 2891992it [00:28, 96291.72it/s] "
     ]
    },
    {
     "name": "stderr",
     "output_type": "stream",
     "text": [
      "\rMorphologyExtractor create index: 2903163it [00:29, 100449.62it/s]"
     ]
    },
    {
     "name": "stderr",
     "output_type": "stream",
     "text": [
      "\rMorphologyExtractor create index: 2915067it [00:29, 105385.44it/s]"
     ]
    },
    {
     "name": "stderr",
     "output_type": "stream",
     "text": [
      "\rMorphologyExtractor create index: 2927407it [00:29, 110210.79it/s]"
     ]
    },
    {
     "name": "stderr",
     "output_type": "stream",
     "text": [
      "\rMorphologyExtractor create index: 2939613it [00:29, 113515.12it/s]"
     ]
    },
    {
     "name": "stderr",
     "output_type": "stream",
     "text": [
      "\rMorphologyExtractor create index: 2952083it [00:29, 116653.10it/s]"
     ]
    },
    {
     "name": "stderr",
     "output_type": "stream",
     "text": [
      "\rMorphologyExtractor create index: 2963920it [00:29, 116733.54it/s]"
     ]
    },
    {
     "name": "stderr",
     "output_type": "stream",
     "text": [
      "\rMorphologyExtractor create index: 2975714it [00:29, 115940.52it/s]"
     ]
    },
    {
     "name": "stderr",
     "output_type": "stream",
     "text": [
      "\rMorphologyExtractor create index: 2987394it [00:29, 113192.46it/s]"
     ]
    },
    {
     "name": "stderr",
     "output_type": "stream",
     "text": [
      "\rMorphologyExtractor create index: 2998908it [00:29, 113769.40it/s]"
     ]
    },
    {
     "name": "stderr",
     "output_type": "stream",
     "text": [
      "\rMorphologyExtractor create index: 3010338it [00:30, 105326.44it/s]"
     ]
    },
    {
     "name": "stderr",
     "output_type": "stream",
     "text": [
      "\rMorphologyExtractor create index: 3021033it [00:30, 105028.71it/s]"
     ]
    },
    {
     "name": "stderr",
     "output_type": "stream",
     "text": [
      "\rMorphologyExtractor create index: 3031650it [00:30, 101601.72it/s]"
     ]
    },
    {
     "name": "stderr",
     "output_type": "stream",
     "text": [
      "\rMorphologyExtractor create index: 3041914it [00:30, 93919.94it/s] "
     ]
    },
    {
     "name": "stderr",
     "output_type": "stream",
     "text": [
      "\rMorphologyExtractor create index: 3052513it [00:30, 97240.97it/s]"
     ]
    },
    {
     "name": "stderr",
     "output_type": "stream",
     "text": [
      "\rMorphologyExtractor create index: 3062399it [00:30, 96112.13it/s]"
     ]
    },
    {
     "name": "stderr",
     "output_type": "stream",
     "text": [
      "\rMorphologyExtractor create index: 3072127it [00:30, 87818.21it/s]"
     ]
    },
    {
     "name": "stderr",
     "output_type": "stream",
     "text": [
      "\rMorphologyExtractor create index: 3082389it [00:30, 91786.68it/s]"
     ]
    },
    {
     "name": "stderr",
     "output_type": "stream",
     "text": [
      "\rMorphologyExtractor create index: 3093486it [00:30, 96806.48it/s]"
     ]
    },
    {
     "name": "stderr",
     "output_type": "stream",
     "text": [
      "\rMorphologyExtractor create index: 3104903it [00:30, 101434.43it/s]"
     ]
    },
    {
     "name": "stderr",
     "output_type": "stream",
     "text": [
      "\rMorphologyExtractor create index: 3116337it [00:31, 104988.61it/s]"
     ]
    },
    {
     "name": "stderr",
     "output_type": "stream",
     "text": [
      "\rMorphologyExtractor create index: 3127014it [00:31, 103203.60it/s]"
     ]
    },
    {
     "name": "stderr",
     "output_type": "stream",
     "text": [
      "\rMorphologyExtractor create index: 3138546it [00:31, 106561.87it/s]"
     ]
    },
    {
     "name": "stderr",
     "output_type": "stream",
     "text": [
      "\rMorphologyExtractor create index: 3149322it [00:31, 106545.54it/s]"
     ]
    },
    {
     "name": "stderr",
     "output_type": "stream",
     "text": [
      "\rMorphologyExtractor create index: 3160060it [00:31, 98023.98it/s] "
     ]
    },
    {
     "name": "stderr",
     "output_type": "stream",
     "text": [
      "\rMorphologyExtractor create index: 3170055it [00:31, 97034.93it/s]"
     ]
    },
    {
     "name": "stderr",
     "output_type": "stream",
     "text": [
      "\rMorphologyExtractor create index: 3179896it [00:31, 81179.52it/s]"
     ]
    },
    {
     "name": "stderr",
     "output_type": "stream",
     "text": [
      "\rMorphologyExtractor create index: 3188548it [00:31, 77626.35it/s]"
     ]
    },
    {
     "name": "stderr",
     "output_type": "stream",
     "text": [
      "\rMorphologyExtractor create index: 3199084it [00:32, 84280.28it/s]"
     ]
    },
    {
     "name": "stderr",
     "output_type": "stream",
     "text": [
      "\rMorphologyExtractor create index: 3208352it [00:32, 86633.45it/s]"
     ]
    },
    {
     "name": "stderr",
     "output_type": "stream",
     "text": [
      "\rMorphologyExtractor create index: 3217840it [00:32, 88952.83it/s]"
     ]
    },
    {
     "name": "stderr",
     "output_type": "stream",
     "text": [
      "\rMorphologyExtractor create index: 3229129it [00:32, 94993.71it/s]"
     ]
    },
    {
     "name": "stderr",
     "output_type": "stream",
     "text": [
      "\rMorphologyExtractor create index: 3240326it [00:32, 99519.85it/s]"
     ]
    },
    {
     "name": "stderr",
     "output_type": "stream",
     "text": [
      "\rMorphologyExtractor create index: 3251663it [00:32, 103304.93it/s]"
     ]
    },
    {
     "name": "stderr",
     "output_type": "stream",
     "text": [
      "\rMorphologyExtractor create index: 3262882it [00:32, 105819.04it/s]"
     ]
    },
    {
     "name": "stderr",
     "output_type": "stream",
     "text": [
      "\rMorphologyExtractor create index: 3274436it [00:32, 108558.50it/s]"
     ]
    },
    {
     "name": "stderr",
     "output_type": "stream",
     "text": [
      "\rMorphologyExtractor create index: 3285815it [00:32, 110074.56it/s]"
     ]
    },
    {
     "name": "stderr",
     "output_type": "stream",
     "text": [
      "\rMorphologyExtractor create index: 3297242it [00:32, 111300.44it/s]"
     ]
    },
    {
     "name": "stderr",
     "output_type": "stream",
     "text": [
      "\rMorphologyExtractor create index: 3309235it [00:33, 113755.37it/s]"
     ]
    },
    {
     "name": "stderr",
     "output_type": "stream",
     "text": [
      "\rMorphologyExtractor create index: 3320675it [00:33, 113279.07it/s]"
     ]
    },
    {
     "name": "stderr",
     "output_type": "stream",
     "text": [
      "\rMorphologyExtractor create index: 3332542it [00:33, 114843.29it/s]"
     ]
    },
    {
     "name": "stderr",
     "output_type": "stream",
     "text": [
      "\rMorphologyExtractor create index: 3344579it [00:33, 116443.84it/s]"
     ]
    },
    {
     "name": "stderr",
     "output_type": "stream",
     "text": [
      "\rMorphologyExtractor create index: 3356962it [00:33, 118558.37it/s]"
     ]
    },
    {
     "name": "stderr",
     "output_type": "stream",
     "text": [
      "\rMorphologyExtractor create index: 3368850it [00:33, 117345.09it/s]"
     ]
    },
    {
     "name": "stderr",
     "output_type": "stream",
     "text": [
      "\rMorphologyExtractor create index: 3380610it [00:33, 116445.82it/s]"
     ]
    },
    {
     "name": "stderr",
     "output_type": "stream",
     "text": [
      "\rMorphologyExtractor create index: 3392274it [00:33, 115105.73it/s]"
     ]
    },
    {
     "name": "stderr",
     "output_type": "stream",
     "text": [
      "\rMorphologyExtractor create index: 3403900it [00:33, 115443.15it/s]"
     ]
    },
    {
     "name": "stderr",
     "output_type": "stream",
     "text": [
      "\rMorphologyExtractor create index: 3415457it [00:33, 114487.61it/s]"
     ]
    },
    {
     "name": "stderr",
     "output_type": "stream",
     "text": [
      "\rMorphologyExtractor create index: 3426930it [00:34, 114559.93it/s]"
     ]
    },
    {
     "name": "stderr",
     "output_type": "stream",
     "text": [
      "\rMorphologyExtractor create index: 3438394it [00:34, 112074.37it/s]"
     ]
    },
    {
     "name": "stderr",
     "output_type": "stream",
     "text": [
      "\rMorphologyExtractor create index: 3450032it [00:34, 113331.95it/s]"
     ]
    },
    {
     "name": "stderr",
     "output_type": "stream",
     "text": [
      "\rMorphologyExtractor create index: 3461616it [00:34, 114071.47it/s]"
     ]
    },
    {
     "name": "stderr",
     "output_type": "stream",
     "text": [
      "\rMorphologyExtractor create index: 3473310it [00:34, 114914.83it/s]"
     ]
    },
    {
     "name": "stderr",
     "output_type": "stream",
     "text": [
      "\rMorphologyExtractor create index: 3484812it [00:34, 109536.95it/s]"
     ]
    },
    {
     "name": "stderr",
     "output_type": "stream",
     "text": [
      "\rMorphologyExtractor create index: 3495826it [00:34, 109325.85it/s]"
     ]
    },
    {
     "name": "stderr",
     "output_type": "stream",
     "text": [
      "\rMorphologyExtractor create index: 3506955it [00:34, 109905.79it/s]"
     ]
    },
    {
     "name": "stderr",
     "output_type": "stream",
     "text": [
      "\rMorphologyExtractor create index: 3518645it [00:34, 111912.99it/s]"
     ]
    },
    {
     "name": "stderr",
     "output_type": "stream",
     "text": [
      "\rMorphologyExtractor create index: 3530605it [00:34, 114112.63it/s]"
     ]
    },
    {
     "name": "stderr",
     "output_type": "stream",
     "text": [
      "\rMorphologyExtractor create index: 3542308it [00:35, 114971.44it/s]"
     ]
    },
    {
     "name": "stderr",
     "output_type": "stream",
     "text": [
      "\rMorphologyExtractor create index: 3553829it [00:35, 112452.67it/s]"
     ]
    },
    {
     "name": "stderr",
     "output_type": "stream",
     "text": [
      "\rMorphologyExtractor create index: 3565104it [00:35, 107190.65it/s]"
     ]
    },
    {
     "name": "stderr",
     "output_type": "stream",
     "text": [
      "\rMorphologyExtractor create index: 3575896it [00:35, 96713.49it/s] "
     ]
    },
    {
     "name": "stderr",
     "output_type": "stream",
     "text": [
      "\rMorphologyExtractor create index: 3585813it [00:35, 90523.27it/s]"
     ]
    },
    {
     "name": "stderr",
     "output_type": "stream",
     "text": [
      "\rMorphologyExtractor create index: 3595658it [00:35, 92760.91it/s]"
     ]
    },
    {
     "name": "stderr",
     "output_type": "stream",
     "text": [
      "\rMorphologyExtractor create index: 3605125it [00:35, 90750.90it/s]"
     ]
    },
    {
     "name": "stderr",
     "output_type": "stream",
     "text": [
      "\rMorphologyExtractor create index: 3614343it [00:35, 90515.28it/s]"
     ]
    },
    {
     "name": "stderr",
     "output_type": "stream",
     "text": [
      "\rMorphologyExtractor create index: 3625073it [00:35, 94971.24it/s]"
     ]
    },
    {
     "name": "stderr",
     "output_type": "stream",
     "text": [
      "\rMorphologyExtractor create index: 3636070it [00:36, 99021.82it/s]"
     ]
    },
    {
     "name": "stderr",
     "output_type": "stream",
     "text": [
      "\rMorphologyExtractor create index: 3646107it [00:36, 99048.03it/s]"
     ]
    },
    {
     "name": "stderr",
     "output_type": "stream",
     "text": [
      "\rMorphologyExtractor create index: 3656632it [00:36, 100829.00it/s]"
     ]
    },
    {
     "name": "stderr",
     "output_type": "stream",
     "text": [
      "\rMorphologyExtractor create index: 3666789it [00:36, 99277.07it/s] "
     ]
    },
    {
     "name": "stderr",
     "output_type": "stream",
     "text": [
      "\rMorphologyExtractor create index: 3678490it [00:36, 104001.63it/s]"
     ]
    },
    {
     "name": "stderr",
     "output_type": "stream",
     "text": [
      "\rMorphologyExtractor create index: 3690153it [00:36, 107492.18it/s]"
     ]
    },
    {
     "name": "stderr",
     "output_type": "stream",
     "text": [
      "\rMorphologyExtractor create index: 3701523it [00:36, 109280.32it/s]"
     ]
    },
    {
     "name": "stderr",
     "output_type": "stream",
     "text": [
      "\rMorphologyExtractor create index: 3713379it [00:36, 111905.56it/s]"
     ]
    },
    {
     "name": "stderr",
     "output_type": "stream",
     "text": [
      "\rMorphologyExtractor create index: 3725151it [00:36, 113588.63it/s]"
     ]
    },
    {
     "name": "stderr",
     "output_type": "stream",
     "text": [
      "\rMorphologyExtractor create index: 3737386it [00:36, 116079.67it/s]"
     ]
    },
    {
     "name": "stderr",
     "output_type": "stream",
     "text": [
      "\rMorphologyExtractor create index: 3749198it [00:37, 116683.04it/s]"
     ]
    },
    {
     "name": "stderr",
     "output_type": "stream",
     "text": [
      "\rMorphologyExtractor create index: 3760904it [00:37, 116242.35it/s]"
     ]
    },
    {
     "name": "stderr",
     "output_type": "stream",
     "text": [
      "\rMorphologyExtractor create index: 3772555it [00:37, 115244.22it/s]"
     ]
    },
    {
     "name": "stderr",
     "output_type": "stream",
     "text": [
      "\rMorphologyExtractor create index: 3784694it [00:37, 117020.91it/s]"
     ]
    },
    {
     "name": "stderr",
     "output_type": "stream",
     "text": [
      "\rMorphologyExtractor create index: 3796801it [00:37, 118202.49it/s]"
     ]
    },
    {
     "name": "stderr",
     "output_type": "stream",
     "text": [
      "\rMorphologyExtractor create index: 3808850it [00:37, 118878.51it/s]"
     ]
    },
    {
     "name": "stderr",
     "output_type": "stream",
     "text": [
      "\rMorphologyExtractor create index: 3820751it [00:37, 115491.15it/s]"
     ]
    },
    {
     "name": "stderr",
     "output_type": "stream",
     "text": [
      "\rMorphologyExtractor create index: 3832331it [00:37, 104796.10it/s]"
     ]
    },
    {
     "name": "stderr",
     "output_type": "stream",
     "text": [
      "\rMorphologyExtractor create index: 3843022it [00:37, 92570.73it/s] "
     ]
    },
    {
     "name": "stderr",
     "output_type": "stream",
     "text": [
      "\rMorphologyExtractor create index: 3852689it [00:38, 79048.09it/s]"
     ]
    },
    {
     "name": "stderr",
     "output_type": "stream",
     "text": [
      "\rMorphologyExtractor create index: 3861225it [00:38, 75172.57it/s]"
     ]
    },
    {
     "name": "stderr",
     "output_type": "stream",
     "text": [
      "\rMorphologyExtractor create index: 3872334it [00:38, 83244.33it/s]"
     ]
    },
    {
     "name": "stderr",
     "output_type": "stream",
     "text": [
      "\rMorphologyExtractor create index: 3883907it [00:38, 90898.41it/s]"
     ]
    },
    {
     "name": "stderr",
     "output_type": "stream",
     "text": [
      "\rMorphologyExtractor create index: 3895790it [00:38, 97790.19it/s]"
     ]
    },
    {
     "name": "stderr",
     "output_type": "stream",
     "text": [
      "\rMorphologyExtractor create index: 3906161it [00:38, 94772.71it/s]"
     ]
    },
    {
     "name": "stderr",
     "output_type": "stream",
     "text": [
      "\rMorphologyExtractor create index: 3916073it [00:38, 90217.22it/s]"
     ]
    },
    {
     "name": "stderr",
     "output_type": "stream",
     "text": [
      "\rMorphologyExtractor create index: 3925445it [00:38, 86728.70it/s]"
     ]
    },
    {
     "name": "stderr",
     "output_type": "stream",
     "text": [
      "\rMorphologyExtractor create index: 3934526it [00:39, 87912.97it/s]"
     ]
    },
    {
     "name": "stderr",
     "output_type": "stream",
     "text": [
      "\rMorphologyExtractor create index: 3943513it [00:39, 85935.52it/s]"
     ]
    },
    {
     "name": "stderr",
     "output_type": "stream",
     "text": [
      "\rMorphologyExtractor create index: 3952861it [00:39, 88066.37it/s]"
     ]
    },
    {
     "name": "stderr",
     "output_type": "stream",
     "text": [
      "\rMorphologyExtractor create index: 3961784it [00:39, 87085.78it/s]"
     ]
    },
    {
     "name": "stderr",
     "output_type": "stream",
     "text": [
      "\rMorphologyExtractor create index: 3970940it [00:39, 88381.41it/s]"
     ]
    },
    {
     "name": "stderr",
     "output_type": "stream",
     "text": [
      "\rMorphologyExtractor create index: 3981026it [00:39, 91787.76it/s]"
     ]
    },
    {
     "name": "stderr",
     "output_type": "stream",
     "text": [
      "\rMorphologyExtractor create index: 3992551it [00:39, 97757.88it/s]"
     ]
    },
    {
     "name": "stderr",
     "output_type": "stream",
     "text": [
      "\rMorphologyExtractor create index: 4003886it [00:39, 101965.16it/s]"
     ]
    },
    {
     "name": "stderr",
     "output_type": "stream",
     "text": [
      "\rMorphologyExtractor create index: 4014860it [00:39, 104178.53it/s]"
     ]
    },
    {
     "name": "stderr",
     "output_type": "stream",
     "text": [
      "\rMorphologyExtractor create index: 4026891it [00:39, 108544.11it/s]"
     ]
    },
    {
     "name": "stderr",
     "output_type": "stream",
     "text": [
      "\rMorphologyExtractor create index: 4038469it [00:40, 110617.07it/s]"
     ]
    },
    {
     "name": "stderr",
     "output_type": "stream",
     "text": [
      "\rMorphologyExtractor create index: 4050719it [00:40, 113931.68it/s]"
     ]
    },
    {
     "name": "stderr",
     "output_type": "stream",
     "text": [
      "\rMorphologyExtractor create index: 4062501it [00:40, 115070.34it/s]"
     ]
    },
    {
     "name": "stderr",
     "output_type": "stream",
     "text": [
      "\rMorphologyExtractor create index: 4074079it [00:40, 113946.94it/s]"
     ]
    },
    {
     "name": "stderr",
     "output_type": "stream",
     "text": [
      "\rMorphologyExtractor create index: 4085526it [00:40, 109683.27it/s]"
     ]
    },
    {
     "name": "stderr",
     "output_type": "stream",
     "text": [
      "\rMorphologyExtractor create index: 4096566it [00:40, 106624.94it/s]"
     ]
    },
    {
     "name": "stderr",
     "output_type": "stream",
     "text": [
      "\rMorphologyExtractor create index: 4107760it [00:40, 108164.68it/s]"
     ]
    },
    {
     "name": "stderr",
     "output_type": "stream",
     "text": [
      "\rMorphologyExtractor create index: 4118932it [00:40, 109206.63it/s]"
     ]
    },
    {
     "name": "stderr",
     "output_type": "stream",
     "text": [
      "\rMorphologyExtractor create index: 4130885it [00:40, 112109.88it/s]"
     ]
    },
    {
     "name": "stderr",
     "output_type": "stream",
     "text": [
      "\rMorphologyExtractor create index: 4143144it [00:40, 115060.15it/s]"
     ]
    },
    {
     "name": "stderr",
     "output_type": "stream",
     "text": [
      "\rMorphologyExtractor create index: 4154703it [00:41, 112891.59it/s]"
     ]
    },
    {
     "name": "stderr",
     "output_type": "stream",
     "text": [
      "\rMorphologyExtractor create index: 4166155it [00:41, 113372.85it/s]"
     ]
    },
    {
     "name": "stderr",
     "output_type": "stream",
     "text": [
      "\rMorphologyExtractor create index: 4177851it [00:41, 114424.99it/s]"
     ]
    },
    {
     "name": "stderr",
     "output_type": "stream",
     "text": [
      "\rMorphologyExtractor create index: 4189319it [00:41, 113666.93it/s]"
     ]
    },
    {
     "name": "stderr",
     "output_type": "stream",
     "text": [
      "\rMorphologyExtractor create index: 4201624it [00:41, 116327.48it/s]"
     ]
    },
    {
     "name": "stderr",
     "output_type": "stream",
     "text": [
      "\rMorphologyExtractor create index: 4214155it [00:41, 118882.95it/s]"
     ]
    },
    {
     "name": "stderr",
     "output_type": "stream",
     "text": [
      "\rMorphologyExtractor create index: 4226078it [00:41, 117055.21it/s]"
     ]
    },
    {
     "name": "stderr",
     "output_type": "stream",
     "text": [
      "\rMorphologyExtractor create index: 4238255it [00:41, 118419.86it/s]"
     ]
    },
    {
     "name": "stderr",
     "output_type": "stream",
     "text": [
      "\rMorphologyExtractor create index: 4250816it [00:41, 120488.25it/s]"
     ]
    },
    {
     "name": "stderr",
     "output_type": "stream",
     "text": [
      "\rMorphologyExtractor create index: 4262891it [00:41, 117460.94it/s]"
     ]
    },
    {
     "name": "stderr",
     "output_type": "stream",
     "text": [
      "\rMorphologyExtractor create index: 4274673it [00:42, 93932.76it/s] "
     ]
    },
    {
     "name": "stderr",
     "output_type": "stream",
     "text": [
      "\rMorphologyExtractor create index: 4284841it [00:42, 77434.26it/s]"
     ]
    },
    {
     "name": "stderr",
     "output_type": "stream",
     "text": [
      "\rMorphologyExtractor create index: 4293606it [00:42, 77385.80it/s]"
     ]
    },
    {
     "name": "stderr",
     "output_type": "stream",
     "text": [
      "\rMorphologyExtractor create index: 4304439it [00:42, 84637.70it/s]"
     ]
    },
    {
     "name": "stderr",
     "output_type": "stream",
     "text": [
      "\rMorphologyExtractor create index: 4313607it [00:42, 80068.35it/s]"
     ]
    },
    {
     "name": "stderr",
     "output_type": "stream",
     "text": [
      "\rMorphologyExtractor create index: 4322158it [00:42, 71144.97it/s]"
     ]
    },
    {
     "name": "stderr",
     "output_type": "stream",
     "text": [
      "\rMorphologyExtractor create index: 4329838it [00:42, 72300.41it/s]"
     ]
    },
    {
     "name": "stderr",
     "output_type": "stream",
     "text": [
      "\rMorphologyExtractor create index: 4338352it [00:43, 75725.60it/s]"
     ]
    },
    {
     "name": "stderr",
     "output_type": "stream",
     "text": [
      "\rMorphologyExtractor create index: 4349261it [00:43, 83374.20it/s]"
     ]
    },
    {
     "name": "stderr",
     "output_type": "stream",
     "text": [
      "\rMorphologyExtractor create index: 4359012it [00:43, 87163.88it/s]"
     ]
    },
    {
     "name": "stderr",
     "output_type": "stream",
     "text": [
      "\rMorphologyExtractor create index: 4369300it [00:43, 91349.83it/s]"
     ]
    },
    {
     "name": "stderr",
     "output_type": "stream",
     "text": [
      "\rMorphologyExtractor create index: 4378886it [00:43, 92657.64it/s]"
     ]
    },
    {
     "name": "stderr",
     "output_type": "stream",
     "text": [
      "\rMorphologyExtractor create index: 4390699it [00:43, 99065.62it/s]"
     ]
    },
    {
     "name": "stderr",
     "output_type": "stream",
     "text": [
      "\rMorphologyExtractor create index: 4401544it [00:43, 101705.34it/s]"
     ]
    },
    {
     "name": "stderr",
     "output_type": "stream",
     "text": [
      "\rMorphologyExtractor create index: 4411928it [00:43, 100896.21it/s]"
     ]
    },
    {
     "name": "stderr",
     "output_type": "stream",
     "text": [
      "\rMorphologyExtractor create index: 4423597it [00:43, 105165.38it/s]"
     ]
    },
    {
     "name": "stderr",
     "output_type": "stream",
     "text": [
      "\rMorphologyExtractor create index: 4435643it [00:43, 109328.56it/s]"
     ]
    },
    {
     "name": "stderr",
     "output_type": "stream",
     "text": [
      "\rMorphologyExtractor create index: 4447196it [00:44, 111117.29it/s]"
     ]
    },
    {
     "name": "stderr",
     "output_type": "stream",
     "text": [
      "\rMorphologyExtractor create index: 4458866it [00:44, 112731.96it/s]"
     ]
    },
    {
     "name": "stderr",
     "output_type": "stream",
     "text": [
      "\rMorphologyExtractor create index: 4470223it [00:44, 110271.33it/s]"
     ]
    },
    {
     "name": "stderr",
     "output_type": "stream",
     "text": [
      "\rMorphologyExtractor create index: 4481821it [00:44, 111921.75it/s]"
     ]
    },
    {
     "name": "stderr",
     "output_type": "stream",
     "text": [
      "\rMorphologyExtractor create index: 4493069it [00:44, 111781.85it/s]"
     ]
    },
    {
     "name": "stderr",
     "output_type": "stream",
     "text": [
      "\rMorphologyExtractor create index: 4504286it [00:44, 111662.37it/s]"
     ]
    },
    {
     "name": "stderr",
     "output_type": "stream",
     "text": [
      "\rMorphologyExtractor create index: 4516271it [00:44, 113996.75it/s]"
     ]
    },
    {
     "name": "stderr",
     "output_type": "stream",
     "text": [
      "\rMorphologyExtractor create index: 4527702it [00:44, 110977.36it/s]"
     ]
    },
    {
     "name": "stderr",
     "output_type": "stream",
     "text": [
      "\rMorphologyExtractor create index: 4538839it [00:44, 95924.16it/s] "
     ]
    },
    {
     "name": "stderr",
     "output_type": "stream",
     "text": [
      "\rMorphologyExtractor create index: 4548821it [00:45, 94409.85it/s]"
     ]
    },
    {
     "name": "stderr",
     "output_type": "stream",
     "text": [
      "\rMorphologyExtractor create index: 4558540it [00:45, 94512.07it/s]"
     ]
    },
    {
     "name": "stderr",
     "output_type": "stream",
     "text": [
      "\rMorphologyExtractor create index: 4568186it [00:45, 89158.91it/s]"
     ]
    },
    {
     "name": "stderr",
     "output_type": "stream",
     "text": [
      "\rMorphologyExtractor create index: 4577301it [00:45, 83915.59it/s]"
     ]
    },
    {
     "name": "stderr",
     "output_type": "stream",
     "text": [
      "\rMorphologyExtractor create index: 4585895it [00:45, 80097.52it/s]"
     ]
    },
    {
     "name": "stderr",
     "output_type": "stream",
     "text": [
      "\rMorphologyExtractor create index: 4594288it [00:45, 81207.38it/s]"
     ]
    },
    {
     "name": "stderr",
     "output_type": "stream",
     "text": [
      "\rMorphologyExtractor create index: 4602538it [00:45, 80883.68it/s]"
     ]
    },
    {
     "name": "stderr",
     "output_type": "stream",
     "text": [
      "\rMorphologyExtractor create index: 4610717it [00:45, 76489.43it/s]"
     ]
    },
    {
     "name": "stderr",
     "output_type": "stream",
     "text": [
      "\rMorphologyExtractor create index: 4618860it [00:45, 77907.02it/s]"
     ]
    },
    {
     "name": "stderr",
     "output_type": "stream",
     "text": [
      "\rMorphologyExtractor create index: 4630929it [00:46, 87177.90it/s]"
     ]
    },
    {
     "name": "stderr",
     "output_type": "stream",
     "text": [
      "\rMorphologyExtractor create index: 4642492it [00:46, 94125.23it/s]"
     ]
    },
    {
     "name": "stderr",
     "output_type": "stream",
     "text": [
      "\rMorphologyExtractor create index: 4653667it [00:46, 98799.15it/s]"
     ]
    },
    {
     "name": "stderr",
     "output_type": "stream",
     "text": [
      "\rMorphologyExtractor create index: 4665098it [00:46, 102989.96it/s]"
     ]
    },
    {
     "name": "stderr",
     "output_type": "stream",
     "text": [
      "\rMorphologyExtractor create index: 4675707it [00:46, 102737.46it/s]"
     ]
    },
    {
     "name": "stderr",
     "output_type": "stream",
     "text": [
      "\rMorphologyExtractor create index: 4686664it [00:46, 104694.21it/s]"
     ]
    },
    {
     "name": "stderr",
     "output_type": "stream",
     "text": [
      "\rMorphologyExtractor create index: 4697295it [00:46, 101657.31it/s]"
     ]
    },
    {
     "name": "stderr",
     "output_type": "stream",
     "text": [
      "\rMorphologyExtractor create index: 4709135it [00:46, 106159.50it/s]"
     ]
    },
    {
     "name": "stderr",
     "output_type": "stream",
     "text": [
      "\rMorphologyExtractor create index: 4720921it [00:46, 109417.32it/s]"
     ]
    },
    {
     "name": "stderr",
     "output_type": "stream",
     "text": [
      "\rMorphologyExtractor create index: 4733130it [00:46, 112932.18it/s]"
     ]
    },
    {
     "name": "stderr",
     "output_type": "stream",
     "text": [
      "\rMorphologyExtractor create index: 4744761it [00:47, 113922.38it/s]"
     ]
    },
    {
     "name": "stderr",
     "output_type": "stream",
     "text": [
      "\rMorphologyExtractor create index: 4756575it [00:47, 115155.41it/s]"
     ]
    },
    {
     "name": "stderr",
     "output_type": "stream",
     "text": [
      "\rMorphologyExtractor create index: 4768525it [00:47, 116424.88it/s]"
     ]
    },
    {
     "name": "stderr",
     "output_type": "stream",
     "text": [
      "\rMorphologyExtractor create index: 4780591it [00:47, 117661.36it/s]"
     ]
    },
    {
     "name": "stderr",
     "output_type": "stream",
     "text": [
      "\rMorphologyExtractor create index: 4792393it [00:47, 113396.80it/s]"
     ]
    },
    {
     "name": "stderr",
     "output_type": "stream",
     "text": [
      "\rMorphologyExtractor create index: 4804457it [00:47, 115475.69it/s]"
     ]
    },
    {
     "name": "stderr",
     "output_type": "stream",
     "text": [
      "\rMorphologyExtractor create index: 4816055it [00:47, 115193.83it/s]"
     ]
    },
    {
     "name": "stderr",
     "output_type": "stream",
     "text": [
      "\rMorphologyExtractor create index: 4827835it [00:47, 115959.36it/s]"
     ]
    },
    {
     "name": "stderr",
     "output_type": "stream",
     "text": [
      "\rMorphologyExtractor create index: 4839457it [00:47, 114867.62it/s]"
     ]
    },
    {
     "name": "stderr",
     "output_type": "stream",
     "text": [
      "\rMorphologyExtractor create index: 4851450it [00:47, 116330.75it/s]"
     ]
    },
    {
     "name": "stderr",
     "output_type": "stream",
     "text": [
      "\rMorphologyExtractor create index: 4863508it [00:48, 117572.05it/s]"
     ]
    },
    {
     "name": "stderr",
     "output_type": "stream",
     "text": [
      "\rMorphologyExtractor create index: 4875282it [00:48, 113748.00it/s]"
     ]
    },
    {
     "name": "stderr",
     "output_type": "stream",
     "text": [
      "\rMorphologyExtractor create index: 4887110it [00:48, 115065.69it/s]"
     ]
    },
    {
     "name": "stderr",
     "output_type": "stream",
     "text": [
      "\rMorphologyExtractor create index: 4899160it [00:48, 116642.07it/s]"
     ]
    },
    {
     "name": "stderr",
     "output_type": "stream",
     "text": [
      "\rMorphologyExtractor create index: 4910851it [00:48, 115230.25it/s]"
     ]
    },
    {
     "name": "stderr",
     "output_type": "stream",
     "text": [
      "\rMorphologyExtractor create index: 4922453it [00:48, 115463.94it/s]"
     ]
    },
    {
     "name": "stderr",
     "output_type": "stream",
     "text": [
      "\rMorphologyExtractor create index: 4934016it [00:48, 115471.58it/s]"
     ]
    },
    {
     "name": "stderr",
     "output_type": "stream",
     "text": [
      "\rMorphologyExtractor create index: 4946362it [00:48, 117757.04it/s]"
     ]
    },
    {
     "name": "stderr",
     "output_type": "stream",
     "text": [
      "\rMorphologyExtractor create index: 4958761it [00:48, 119559.74it/s]"
     ]
    },
    {
     "name": "stderr",
     "output_type": "stream",
     "text": [
      "\rMorphologyExtractor create index: 4970737it [00:48, 118328.83it/s]"
     ]
    },
    {
     "name": "stderr",
     "output_type": "stream",
     "text": [
      "\rMorphologyExtractor create index: 4982649it [00:49, 118563.67it/s]"
     ]
    },
    {
     "name": "stderr",
     "output_type": "stream",
     "text": [
      "\rMorphologyExtractor create index: 4994518it [00:49, 118502.06it/s]"
     ]
    },
    {
     "name": "stderr",
     "output_type": "stream",
     "text": [
      "\rMorphologyExtractor create index: 5006575it [00:49, 119113.14it/s]"
     ]
    },
    {
     "name": "stderr",
     "output_type": "stream",
     "text": [
      "\rMorphologyExtractor create index: 5018901it [00:49, 120327.21it/s]"
     ]
    },
    {
     "name": "stderr",
     "output_type": "stream",
     "text": [
      "\rMorphologyExtractor create index: 5031172it [00:49, 121027.95it/s]"
     ]
    },
    {
     "name": "stderr",
     "output_type": "stream",
     "text": [
      "\rMorphologyExtractor create index: 5043282it [00:49, 120885.38it/s]"
     ]
    },
    {
     "name": "stderr",
     "output_type": "stream",
     "text": [
      "\rMorphologyExtractor create index: 5055375it [00:49, 120402.97it/s]"
     ]
    },
    {
     "name": "stderr",
     "output_type": "stream",
     "text": [
      "\rMorphologyExtractor create index: 5067419it [00:49, 98580.56it/s] "
     ]
    },
    {
     "name": "stderr",
     "output_type": "stream",
     "text": [
      "\rMorphologyExtractor create index: 5079117it [00:49, 103460.29it/s]"
     ]
    },
    {
     "name": "stderr",
     "output_type": "stream",
     "text": [
      "\rMorphologyExtractor create index: 5091204it [00:50, 108129.11it/s]"
     ]
    },
    {
     "name": "stderr",
     "output_type": "stream",
     "text": [
      "\rMorphologyExtractor create index: 5096053it [00:50, 101726.84it/s]"
     ]
    },
    {
     "name": "stderr",
     "output_type": "stream",
     "text": [
      "\n"
     ]
    },
    {
     "name": "stderr",
     "output_type": "stream",
     "text": [
      "\rMorphologyExtractor create index: 0it [00:00, ?it/s]"
     ]
    },
    {
     "name": "stderr",
     "output_type": "stream",
     "text": [
      "\rMorphologyExtractor create index: 10048it [00:00, 100367.87it/s]"
     ]
    },
    {
     "name": "stderr",
     "output_type": "stream",
     "text": [
      "\rMorphologyExtractor create index: 18004it [00:00, 93065.47it/s] "
     ]
    },
    {
     "name": "stderr",
     "output_type": "stream",
     "text": [
      "\rMorphologyExtractor create index: 25833it [00:00, 88019.78it/s]"
     ]
    },
    {
     "name": "stderr",
     "output_type": "stream",
     "text": [
      "\rMorphologyExtractor create index: 31324it [00:00, 71884.67it/s]"
     ]
    },
    {
     "name": "stderr",
     "output_type": "stream",
     "text": [
      "\rMorphologyExtractor create index: 36678it [00:00, 56329.10it/s]"
     ]
    },
    {
     "name": "stderr",
     "output_type": "stream",
     "text": [
      "\rMorphologyExtractor create index: 45405it [00:00, 63033.36it/s]"
     ]
    },
    {
     "name": "stderr",
     "output_type": "stream",
     "text": [
      "\rMorphologyExtractor create index: 55342it [00:00, 70799.01it/s]"
     ]
    },
    {
     "name": "stderr",
     "output_type": "stream",
     "text": [
      "\rMorphologyExtractor create index: 67288it [00:00, 80642.36it/s]"
     ]
    },
    {
     "name": "stderr",
     "output_type": "stream",
     "text": [
      "\rMorphologyExtractor create index: 79059it [00:00, 89054.82it/s]"
     ]
    },
    {
     "name": "stderr",
     "output_type": "stream",
     "text": [
      "\rMorphologyExtractor create index: 91192it [00:01, 96777.35it/s]"
     ]
    },
    {
     "name": "stderr",
     "output_type": "stream",
     "text": [
      "\rMorphologyExtractor create index: 101528it [00:01, 91079.59it/s]"
     ]
    },
    {
     "name": "stderr",
     "output_type": "stream",
     "text": [
      "\rMorphologyExtractor create index: 111166it [00:01, 90577.45it/s]"
     ]
    },
    {
     "name": "stderr",
     "output_type": "stream",
     "text": [
      "\rMorphologyExtractor create index: 122868it [00:01, 97162.95it/s]"
     ]
    },
    {
     "name": "stderr",
     "output_type": "stream",
     "text": [
      "\rMorphologyExtractor create index: 133062it [00:01, 98546.71it/s]"
     ]
    },
    {
     "name": "stderr",
     "output_type": "stream",
     "text": [
      "\rMorphologyExtractor create index: 144969it [00:01, 103918.47it/s]"
     ]
    },
    {
     "name": "stderr",
     "output_type": "stream",
     "text": [
      "\rMorphologyExtractor create index: 157320it [00:01, 109107.50it/s]"
     ]
    },
    {
     "name": "stderr",
     "output_type": "stream",
     "text": [
      "\rMorphologyExtractor create index: 169423it [00:01, 112429.75it/s]"
     ]
    },
    {
     "name": "stderr",
     "output_type": "stream",
     "text": [
      "\rMorphologyExtractor create index: 181088it [00:01, 113661.15it/s]"
     ]
    },
    {
     "name": "stderr",
     "output_type": "stream",
     "text": [
      "\rMorphologyExtractor create index: 193725it [00:01, 117196.69it/s]"
     ]
    },
    {
     "name": "stderr",
     "output_type": "stream",
     "text": [
      "\rMorphologyExtractor create index: 206091it [00:02, 119055.04it/s]"
     ]
    },
    {
     "name": "stderr",
     "output_type": "stream",
     "text": [
      "\rMorphologyExtractor create index: 218096it [00:02, 118201.81it/s]"
     ]
    },
    {
     "name": "stderr",
     "output_type": "stream",
     "text": [
      "\rMorphologyExtractor create index: 230013it [00:02, 118489.21it/s]"
     ]
    },
    {
     "name": "stderr",
     "output_type": "stream",
     "text": [
      "\rMorphologyExtractor create index: 242044it [00:02, 119027.48it/s]"
     ]
    },
    {
     "name": "stderr",
     "output_type": "stream",
     "text": [
      "\rMorphologyExtractor create index: 253983it [00:02, 117241.13it/s]"
     ]
    },
    {
     "name": "stderr",
     "output_type": "stream",
     "text": [
      "\rMorphologyExtractor create index: 266601it [00:02, 119784.92it/s]"
     ]
    },
    {
     "name": "stderr",
     "output_type": "stream",
     "text": [
      "\rMorphologyExtractor create index: 278784it [00:02, 120381.19it/s]"
     ]
    },
    {
     "name": "stderr",
     "output_type": "stream",
     "text": [
      "\rMorphologyExtractor create index: 291067it [00:02, 121103.68it/s]"
     ]
    },
    {
     "name": "stderr",
     "output_type": "stream",
     "text": [
      "\rMorphologyExtractor create index: 303372it [00:02, 121678.96it/s]"
     ]
    },
    {
     "name": "stderr",
     "output_type": "stream",
     "text": [
      "\rMorphologyExtractor create index: 315554it [00:02, 121336.43it/s]"
     ]
    },
    {
     "name": "stderr",
     "output_type": "stream",
     "text": [
      "\rMorphologyExtractor create index: 327827it [00:03, 121750.42it/s]"
     ]
    },
    {
     "name": "stderr",
     "output_type": "stream",
     "text": [
      "\rMorphologyExtractor create index: 340010it [00:03, 120334.51it/s]"
     ]
    },
    {
     "name": "stderr",
     "output_type": "stream",
     "text": [
      "\rMorphologyExtractor create index: 352053it [00:03, 118556.95it/s]"
     ]
    },
    {
     "name": "stderr",
     "output_type": "stream",
     "text": [
      "\rMorphologyExtractor create index: 363921it [00:03, 114994.81it/s]"
     ]
    },
    {
     "name": "stderr",
     "output_type": "stream",
     "text": [
      "\rMorphologyExtractor create index: 376425it [00:03, 117833.08it/s]"
     ]
    },
    {
     "name": "stderr",
     "output_type": "stream",
     "text": [
      "\rMorphologyExtractor create index: 389000it [00:03, 120099.70it/s]"
     ]
    },
    {
     "name": "stderr",
     "output_type": "stream",
     "text": [
      "\rMorphologyExtractor create index: 401339it [00:03, 121065.70it/s]"
     ]
    },
    {
     "name": "stderr",
     "output_type": "stream",
     "text": [
      "\rMorphologyExtractor create index: 413605it [00:03, 121538.88it/s]"
     ]
    },
    {
     "name": "stderr",
     "output_type": "stream",
     "text": [
      "\rMorphologyExtractor create index: 426042it [00:03, 122370.23it/s]"
     ]
    },
    {
     "name": "stderr",
     "output_type": "stream",
     "text": [
      "\rMorphologyExtractor create index: 438295it [00:04, 118772.76it/s]"
     ]
    },
    {
     "name": "stderr",
     "output_type": "stream",
     "text": [
      "\rMorphologyExtractor create index: 451411it [00:04, 122233.76it/s]"
     ]
    },
    {
     "name": "stderr",
     "output_type": "stream",
     "text": [
      "\rMorphologyExtractor create index: 463684it [00:04, 122377.09it/s]"
     ]
    },
    {
     "name": "stderr",
     "output_type": "stream",
     "text": [
      "\rMorphologyExtractor create index: 475957it [00:04, 119908.42it/s]"
     ]
    },
    {
     "name": "stderr",
     "output_type": "stream",
     "text": [
      "\rMorphologyExtractor create index: 487984it [00:04, 118605.59it/s]"
     ]
    },
    {
     "name": "stderr",
     "output_type": "stream",
     "text": [
      "\rMorphologyExtractor create index: 499929it [00:04, 118855.49it/s]"
     ]
    },
    {
     "name": "stderr",
     "output_type": "stream",
     "text": [
      "\rMorphologyExtractor create index: 511835it [00:04, 118445.15it/s]"
     ]
    },
    {
     "name": "stderr",
     "output_type": "stream",
     "text": [
      "\rMorphologyExtractor create index: 523694it [00:04, 108297.63it/s]"
     ]
    },
    {
     "name": "stderr",
     "output_type": "stream",
     "text": [
      "\rMorphologyExtractor create index: 534703it [00:04, 108730.20it/s]"
     ]
    },
    {
     "name": "stderr",
     "output_type": "stream",
     "text": [
      "\rMorphologyExtractor create index: 545702it [00:04, 109020.82it/s]"
     ]
    },
    {
     "name": "stderr",
     "output_type": "stream",
     "text": [
      "\rMorphologyExtractor create index: 556693it [00:05, 107249.98it/s]"
     ]
    },
    {
     "name": "stderr",
     "output_type": "stream",
     "text": [
      "\rMorphologyExtractor create index: 567487it [00:05, 106004.15it/s]"
     ]
    },
    {
     "name": "stderr",
     "output_type": "stream",
     "text": [
      "\rMorphologyExtractor create index: 578139it [00:05, 100537.10it/s]"
     ]
    },
    {
     "name": "stderr",
     "output_type": "stream",
     "text": [
      "\rMorphologyExtractor create index: 588288it [00:05, 94095.40it/s] "
     ]
    },
    {
     "name": "stderr",
     "output_type": "stream",
     "text": [
      "\rMorphologyExtractor create index: 597848it [00:05, 89221.82it/s]"
     ]
    },
    {
     "name": "stderr",
     "output_type": "stream",
     "text": [
      "\rMorphologyExtractor create index: 607922it [00:05, 92389.89it/s]"
     ]
    },
    {
     "name": "stderr",
     "output_type": "stream",
     "text": [
      "\rMorphologyExtractor create index: 618503it [00:05, 96043.37it/s]"
     ]
    },
    {
     "name": "stderr",
     "output_type": "stream",
     "text": [
      "\rMorphologyExtractor create index: 629636it [00:05, 100166.63it/s]"
     ]
    },
    {
     "name": "stderr",
     "output_type": "stream",
     "text": [
      "\rMorphologyExtractor create index: 641647it [00:05, 105416.62it/s]"
     ]
    },
    {
     "name": "stderr",
     "output_type": "stream",
     "text": [
      "\rMorphologyExtractor create index: 653617it [00:06, 109327.24it/s]"
     ]
    },
    {
     "name": "stderr",
     "output_type": "stream",
     "text": [
      "\rMorphologyExtractor create index: 664927it [00:06, 110430.70it/s]"
     ]
    },
    {
     "name": "stderr",
     "output_type": "stream",
     "text": [
      "\rMorphologyExtractor create index: 676553it [00:06, 112114.96it/s]"
     ]
    },
    {
     "name": "stderr",
     "output_type": "stream",
     "text": [
      "\rMorphologyExtractor create index: 688464it [00:06, 114124.67it/s]"
     ]
    },
    {
     "name": "stderr",
     "output_type": "stream",
     "text": [
      "\rMorphologyExtractor create index: 699945it [00:06, 112351.73it/s]"
     ]
    },
    {
     "name": "stderr",
     "output_type": "stream",
     "text": [
      "\rMorphologyExtractor create index: 711895it [00:06, 114404.73it/s]"
     ]
    },
    {
     "name": "stderr",
     "output_type": "stream",
     "text": [
      "\rMorphologyExtractor create index: 724126it [00:06, 116665.17it/s]"
     ]
    },
    {
     "name": "stderr",
     "output_type": "stream",
     "text": [
      "\rMorphologyExtractor create index: 736502it [00:06, 118706.42it/s]"
     ]
    },
    {
     "name": "stderr",
     "output_type": "stream",
     "text": [
      "\rMorphologyExtractor create index: 748412it [00:06, 117092.28it/s]"
     ]
    },
    {
     "name": "stderr",
     "output_type": "stream",
     "text": [
      "\rMorphologyExtractor create index: 760205it [00:06, 117340.54it/s]"
     ]
    },
    {
     "name": "stderr",
     "output_type": "stream",
     "text": [
      "\rMorphologyExtractor create index: 772468it [00:07, 118876.48it/s]"
     ]
    },
    {
     "name": "stderr",
     "output_type": "stream",
     "text": [
      "\rMorphologyExtractor create index: 784377it [00:07, 113314.97it/s]"
     ]
    },
    {
     "name": "stderr",
     "output_type": "stream",
     "text": [
      "\rMorphologyExtractor create index: 795778it [00:07, 111751.99it/s]"
     ]
    },
    {
     "name": "stderr",
     "output_type": "stream",
     "text": [
      "\rMorphologyExtractor create index: 807007it [00:07, 109378.29it/s]"
     ]
    },
    {
     "name": "stderr",
     "output_type": "stream",
     "text": [
      "\rMorphologyExtractor create index: 818281it [00:07, 110362.97it/s]"
     ]
    },
    {
     "name": "stderr",
     "output_type": "stream",
     "text": [
      "\rMorphologyExtractor create index: 830330it [00:07, 113216.44it/s]"
     ]
    },
    {
     "name": "stderr",
     "output_type": "stream",
     "text": [
      "\rMorphologyExtractor create index: 842234it [00:07, 114902.74it/s]"
     ]
    },
    {
     "name": "stderr",
     "output_type": "stream",
     "text": [
      "\rMorphologyExtractor create index: 853955it [00:07, 115583.32it/s]"
     ]
    },
    {
     "name": "stderr",
     "output_type": "stream",
     "text": [
      "\rMorphologyExtractor create index: 866350it [00:07, 117970.54it/s]"
     ]
    },
    {
     "name": "stderr",
     "output_type": "stream",
     "text": [
      "\rMorphologyExtractor create index: 878552it [00:07, 119156.16it/s]"
     ]
    },
    {
     "name": "stderr",
     "output_type": "stream",
     "text": [
      "\rMorphologyExtractor create index: 890872it [00:08, 120340.94it/s]"
     ]
    },
    {
     "name": "stderr",
     "output_type": "stream",
     "text": [
      "\rMorphologyExtractor create index: 903180it [00:08, 121147.93it/s]"
     ]
    },
    {
     "name": "stderr",
     "output_type": "stream",
     "text": [
      "\rMorphologyExtractor create index: 915861it [00:08, 122791.24it/s]"
     ]
    },
    {
     "name": "stderr",
     "output_type": "stream",
     "text": [
      "\rMorphologyExtractor create index: 928157it [00:08, 122575.50it/s]"
     ]
    },
    {
     "name": "stderr",
     "output_type": "stream",
     "text": [
      "\rMorphologyExtractor create index: 940426it [00:08, 122303.63it/s]"
     ]
    },
    {
     "name": "stderr",
     "output_type": "stream",
     "text": [
      "\rMorphologyExtractor create index: 952814it [00:08, 122768.69it/s]"
     ]
    },
    {
     "name": "stderr",
     "output_type": "stream",
     "text": [
      "\rMorphologyExtractor create index: 965432it [00:08, 123770.85it/s]"
     ]
    },
    {
     "name": "stderr",
     "output_type": "stream",
     "text": [
      "\rMorphologyExtractor create index: 977893it [00:08, 124020.30it/s]"
     ]
    },
    {
     "name": "stderr",
     "output_type": "stream",
     "text": [
      "\rMorphologyExtractor create index: 990362it [00:08, 124217.12it/s]"
     ]
    },
    {
     "name": "stderr",
     "output_type": "stream",
     "text": [
      "\rMorphologyExtractor create index: 1002787it [00:09, 110514.85it/s]"
     ]
    },
    {
     "name": "stderr",
     "output_type": "stream",
     "text": [
      "\rMorphologyExtractor create index: 1014122it [00:09, 104294.53it/s]"
     ]
    },
    {
     "name": "stderr",
     "output_type": "stream",
     "text": [
      "\rMorphologyExtractor create index: 1024822it [00:09, 103019.66it/s]"
     ]
    },
    {
     "name": "stderr",
     "output_type": "stream",
     "text": [
      "\rMorphologyExtractor create index: 1036633it [00:09, 107124.03it/s]"
     ]
    },
    {
     "name": "stderr",
     "output_type": "stream",
     "text": [
      "\rMorphologyExtractor create index: 1047813it [00:09, 108483.30it/s]"
     ]
    },
    {
     "name": "stderr",
     "output_type": "stream",
     "text": [
      "\rMorphologyExtractor create index: 1059538it [00:09, 110970.58it/s]"
     ]
    },
    {
     "name": "stderr",
     "output_type": "stream",
     "text": [
      "\rMorphologyExtractor create index: 1071215it [00:09, 112648.03it/s]"
     ]
    },
    {
     "name": "stderr",
     "output_type": "stream",
     "text": [
      "\rMorphologyExtractor create index: 1082773it [00:09, 113509.92it/s]"
     ]
    },
    {
     "name": "stderr",
     "output_type": "stream",
     "text": [
      "\rMorphologyExtractor create index: 1095041it [00:09, 116113.02it/s]"
     ]
    },
    {
     "name": "stderr",
     "output_type": "stream",
     "text": [
      "\rMorphologyExtractor create index: 1106707it [00:09, 114637.36it/s]"
     ]
    },
    {
     "name": "stderr",
     "output_type": "stream",
     "text": [
      "\rMorphologyExtractor create index: 1118636it [00:10, 115993.25it/s]"
     ]
    },
    {
     "name": "stderr",
     "output_type": "stream",
     "text": [
      "\rMorphologyExtractor create index: 1130269it [00:10, 115763.82it/s]"
     ]
    },
    {
     "name": "stderr",
     "output_type": "stream",
     "text": [
      "\rMorphologyExtractor create index: 1141869it [00:10, 111902.62it/s]"
     ]
    },
    {
     "name": "stderr",
     "output_type": "stream",
     "text": [
      "\rMorphologyExtractor create index: 1153104it [00:10, 91939.73it/s] "
     ]
    },
    {
     "name": "stderr",
     "output_type": "stream",
     "text": [
      "\rMorphologyExtractor create index: 1162916it [00:10, 85581.57it/s]"
     ]
    },
    {
     "name": "stderr",
     "output_type": "stream",
     "text": [
      "\rMorphologyExtractor create index: 1171995it [00:10, 76879.61it/s]"
     ]
    },
    {
     "name": "stderr",
     "output_type": "stream",
     "text": [
      "\rMorphologyExtractor create index: 1180215it [00:10, 72002.96it/s]"
     ]
    },
    {
     "name": "stderr",
     "output_type": "stream",
     "text": [
      "\rMorphologyExtractor create index: 1187851it [00:10, 68433.24it/s]"
     ]
    },
    {
     "name": "stderr",
     "output_type": "stream",
     "text": [
      "\rMorphologyExtractor create index: 1196588it [00:11, 73189.66it/s]"
     ]
    },
    {
     "name": "stderr",
     "output_type": "stream",
     "text": [
      "\rMorphologyExtractor create index: 1204576it [00:11, 75074.31it/s]"
     ]
    },
    {
     "name": "stderr",
     "output_type": "stream",
     "text": [
      "\rMorphologyExtractor create index: 1215615it [00:11, 83044.32it/s]"
     ]
    },
    {
     "name": "stderr",
     "output_type": "stream",
     "text": [
      "\rMorphologyExtractor create index: 1226830it [00:11, 90055.49it/s]"
     ]
    },
    {
     "name": "stderr",
     "output_type": "stream",
     "text": [
      "\rMorphologyExtractor create index: 1236526it [00:11, 92020.24it/s]"
     ]
    },
    {
     "name": "stderr",
     "output_type": "stream",
     "text": [
      "\rMorphologyExtractor create index: 1246078it [00:11, 93040.76it/s]"
     ]
    },
    {
     "name": "stderr",
     "output_type": "stream",
     "text": [
      "\rMorphologyExtractor create index: 1258070it [00:11, 99747.84it/s]"
     ]
    },
    {
     "name": "stderr",
     "output_type": "stream",
     "text": [
      "\rMorphologyExtractor create index: 1269906it [00:11, 104685.87it/s]"
     ]
    },
    {
     "name": "stderr",
     "output_type": "stream",
     "text": [
      "\rMorphologyExtractor create index: 1281257it [00:11, 107183.18it/s]"
     ]
    },
    {
     "name": "stderr",
     "output_type": "stream",
     "text": [
      "\rMorphologyExtractor create index: 1292970it [00:11, 109983.68it/s]"
     ]
    },
    {
     "name": "stderr",
     "output_type": "stream",
     "text": [
      "\rMorphologyExtractor create index: 1304801it [00:12, 112353.61it/s]"
     ]
    },
    {
     "name": "stderr",
     "output_type": "stream",
     "text": [
      "\rMorphologyExtractor create index: 1316165it [00:12, 109884.78it/s]"
     ]
    },
    {
     "name": "stderr",
     "output_type": "stream",
     "text": [
      "\rMorphologyExtractor create index: 1328044it [00:12, 112410.07it/s]"
     ]
    },
    {
     "name": "stderr",
     "output_type": "stream",
     "text": [
      "\rMorphologyExtractor create index: 1339371it [00:12, 112233.29it/s]"
     ]
    },
    {
     "name": "stderr",
     "output_type": "stream",
     "text": [
      "\rMorphologyExtractor create index: 1350989it [00:12, 113386.91it/s]"
     ]
    },
    {
     "name": "stderr",
     "output_type": "stream",
     "text": [
      "\rMorphologyExtractor create index: 1362373it [00:12, 111157.13it/s]"
     ]
    },
    {
     "name": "stderr",
     "output_type": "stream",
     "text": [
      "\rMorphologyExtractor create index: 1373902it [00:12, 112364.24it/s]"
     ]
    },
    {
     "name": "stderr",
     "output_type": "stream",
     "text": [
      "\rMorphologyExtractor create index: 1385171it [00:12, 111611.65it/s]"
     ]
    },
    {
     "name": "stderr",
     "output_type": "stream",
     "text": [
      "\rMorphologyExtractor create index: 1396356it [00:12, 111039.06it/s]"
     ]
    },
    {
     "name": "stderr",
     "output_type": "stream",
     "text": [
      "\rMorphologyExtractor create index: 1407478it [00:13, 97828.21it/s] "
     ]
    },
    {
     "name": "stderr",
     "output_type": "stream",
     "text": [
      "\rMorphologyExtractor create index: 1417560it [00:13, 81544.78it/s]"
     ]
    },
    {
     "name": "stderr",
     "output_type": "stream",
     "text": [
      "\rMorphologyExtractor create index: 1426380it [00:13, 76538.66it/s]"
     ]
    },
    {
     "name": "stderr",
     "output_type": "stream",
     "text": [
      "\rMorphologyExtractor create index: 1434754it [00:13, 78556.78it/s]"
     ]
    },
    {
     "name": "stderr",
     "output_type": "stream",
     "text": [
      "\rMorphologyExtractor create index: 1442993it [00:13, 76030.08it/s]"
     ]
    },
    {
     "name": "stderr",
     "output_type": "stream",
     "text": [
      "\rMorphologyExtractor create index: 1451766it [00:13, 79198.70it/s]"
     ]
    },
    {
     "name": "stderr",
     "output_type": "stream",
     "text": [
      "\rMorphologyExtractor create index: 1459920it [00:13, 79533.63it/s]"
     ]
    },
    {
     "name": "stderr",
     "output_type": "stream",
     "text": [
      "\rMorphologyExtractor create index: 1471163it [00:13, 87185.93it/s]"
     ]
    },
    {
     "name": "stderr",
     "output_type": "stream",
     "text": [
      "\rMorphologyExtractor create index: 1481185it [00:13, 90723.98it/s]"
     ]
    },
    {
     "name": "stderr",
     "output_type": "stream",
     "text": [
      "\rMorphologyExtractor create index: 1490530it [00:14, 89206.30it/s]"
     ]
    },
    {
     "name": "stderr",
     "output_type": "stream",
     "text": [
      "\rMorphologyExtractor create index: 1502700it [00:14, 96972.44it/s]"
     ]
    },
    {
     "name": "stderr",
     "output_type": "stream",
     "text": [
      "\rMorphologyExtractor create index: 1515856it [00:14, 105273.85it/s]"
     ]
    },
    {
     "name": "stderr",
     "output_type": "stream",
     "text": [
      "\rMorphologyExtractor create index: 1527310it [00:14, 107892.10it/s]"
     ]
    },
    {
     "name": "stderr",
     "output_type": "stream",
     "text": [
      "\rMorphologyExtractor create index: 1538425it [00:14, 107747.01it/s]"
     ]
    },
    {
     "name": "stderr",
     "output_type": "stream",
     "text": [
      "\rMorphologyExtractor create index: 1550136it [00:14, 110393.23it/s]"
     ]
    },
    {
     "name": "stderr",
     "output_type": "stream",
     "text": [
      "\rMorphologyExtractor create index: 1562274it [00:14, 113474.32it/s]"
     ]
    },
    {
     "name": "stderr",
     "output_type": "stream",
     "text": [
      "\rMorphologyExtractor create index: 1575519it [00:14, 118568.92it/s]"
     ]
    },
    {
     "name": "stderr",
     "output_type": "stream",
     "text": [
      "\rMorphologyExtractor create index: 1587580it [00:14, 119173.57it/s]"
     ]
    },
    {
     "name": "stderr",
     "output_type": "stream",
     "text": [
      "\rMorphologyExtractor create index: 1600567it [00:14, 122191.35it/s]"
     ]
    },
    {
     "name": "stderr",
     "output_type": "stream",
     "text": [
      "\rMorphologyExtractor create index: 1613839it [00:15, 125167.86it/s]"
     ]
    },
    {
     "name": "stderr",
     "output_type": "stream",
     "text": [
      "\rMorphologyExtractor create index: 1627373it [00:15, 128055.19it/s]"
     ]
    },
    {
     "name": "stderr",
     "output_type": "stream",
     "text": [
      "\rMorphologyExtractor create index: 1640797it [00:15, 129848.11it/s]"
     ]
    },
    {
     "name": "stderr",
     "output_type": "stream",
     "text": [
      "\rMorphologyExtractor create index: 1655846it [00:15, 135419.13it/s]"
     ]
    },
    {
     "name": "stderr",
     "output_type": "stream",
     "text": [
      "\rMorphologyExtractor create index: 1669980it [00:15, 137141.82it/s]"
     ]
    },
    {
     "name": "stderr",
     "output_type": "stream",
     "text": [
      "\rMorphologyExtractor create index: 1683773it [00:15, 132664.59it/s]"
     ]
    },
    {
     "name": "stderr",
     "output_type": "stream",
     "text": [
      "\rMorphologyExtractor create index: 1698270it [00:15, 136130.34it/s]"
     ]
    },
    {
     "name": "stderr",
     "output_type": "stream",
     "text": [
      "\rMorphologyExtractor create index: 1711966it [00:15, 134424.56it/s]"
     ]
    },
    {
     "name": "stderr",
     "output_type": "stream",
     "text": [
      "\rMorphologyExtractor create index: 1725472it [00:15, 129516.32it/s]"
     ]
    },
    {
     "name": "stderr",
     "output_type": "stream",
     "text": [
      "\rMorphologyExtractor create index: 1740594it [00:16, 135342.06it/s]"
     ]
    },
    {
     "name": "stderr",
     "output_type": "stream",
     "text": [
      "\rMorphologyExtractor create index: 1755550it [00:16, 139312.89it/s]"
     ]
    },
    {
     "name": "stderr",
     "output_type": "stream",
     "text": [
      "\rMorphologyExtractor create index: 1769762it [00:16, 140142.95it/s]"
     ]
    },
    {
     "name": "stderr",
     "output_type": "stream",
     "text": [
      "\rMorphologyExtractor create index: 1785766it [00:16, 145572.03it/s]"
     ]
    },
    {
     "name": "stderr",
     "output_type": "stream",
     "text": [
      "\rMorphologyExtractor create index: 1800436it [00:16, 145707.75it/s]"
     ]
    },
    {
     "name": "stderr",
     "output_type": "stream",
     "text": [
      "\rMorphologyExtractor create index: 1816270it [00:16, 149279.43it/s]"
     ]
    },
    {
     "name": "stderr",
     "output_type": "stream",
     "text": [
      "\rMorphologyExtractor create index: 1831275it [00:16, 145195.60it/s]"
     ]
    },
    {
     "name": "stderr",
     "output_type": "stream",
     "text": [
      "\rMorphologyExtractor create index: 1846480it [00:16, 147184.86it/s]"
     ]
    },
    {
     "name": "stderr",
     "output_type": "stream",
     "text": [
      "\rMorphologyExtractor create index: 1861317it [00:16, 147536.67it/s]"
     ]
    },
    {
     "name": "stderr",
     "output_type": "stream",
     "text": [
      "\rMorphologyExtractor create index: 1876366it [00:16, 148340.99it/s]"
     ]
    },
    {
     "name": "stderr",
     "output_type": "stream",
     "text": [
      "\rMorphologyExtractor create index: 1891232it [00:17, 148149.96it/s]"
     ]
    },
    {
     "name": "stderr",
     "output_type": "stream",
     "text": [
      "\rMorphologyExtractor create index: 1906936it [00:17, 150706.09it/s]"
     ]
    },
    {
     "name": "stderr",
     "output_type": "stream",
     "text": [
      "\rMorphologyExtractor create index: 1922033it [00:17, 150474.12it/s]"
     ]
    },
    {
     "name": "stderr",
     "output_type": "stream",
     "text": [
      "\rMorphologyExtractor create index: 1937322it [00:17, 151189.48it/s]"
     ]
    },
    {
     "name": "stderr",
     "output_type": "stream",
     "text": [
      "\rMorphologyExtractor create index: 1953318it [00:17, 153716.52it/s]"
     ]
    },
    {
     "name": "stderr",
     "output_type": "stream",
     "text": [
      "\rMorphologyExtractor create index: 1968710it [00:17, 133166.81it/s]"
     ]
    },
    {
     "name": "stderr",
     "output_type": "stream",
     "text": [
      "\rMorphologyExtractor create index: 1983655it [00:17, 137665.02it/s]"
     ]
    },
    {
     "name": "stderr",
     "output_type": "stream",
     "text": [
      "\rMorphologyExtractor create index: 1999562it [00:17, 143455.40it/s]"
     ]
    },
    {
     "name": "stderr",
     "output_type": "stream",
     "text": [
      "\rMorphologyExtractor create index: 2014244it [00:17, 141353.68it/s]"
     ]
    },
    {
     "name": "stderr",
     "output_type": "stream",
     "text": [
      "\rMorphologyExtractor create index: 2029963it [00:17, 145756.13it/s]"
     ]
    },
    {
     "name": "stderr",
     "output_type": "stream",
     "text": [
      "\rMorphologyExtractor create index: 2045525it [00:18, 148579.87it/s]"
     ]
    },
    {
     "name": "stderr",
     "output_type": "stream",
     "text": [
      "\rMorphologyExtractor create index: 2060679it [00:18, 149455.21it/s]"
     ]
    },
    {
     "name": "stderr",
     "output_type": "stream",
     "text": [
      "\rMorphologyExtractor create index: 2076460it [00:18, 151866.36it/s]"
     ]
    },
    {
     "name": "stderr",
     "output_type": "stream",
     "text": [
      "\rMorphologyExtractor create index: 2091734it [00:18, 149700.84it/s]"
     ]
    },
    {
     "name": "stderr",
     "output_type": "stream",
     "text": [
      "\rMorphologyExtractor create index: 2107783it [00:18, 152779.89it/s]"
     ]
    },
    {
     "name": "stderr",
     "output_type": "stream",
     "text": [
      "\rMorphologyExtractor create index: 2123124it [00:18, 150384.57it/s]"
     ]
    },
    {
     "name": "stderr",
     "output_type": "stream",
     "text": [
      "\rMorphologyExtractor create index: 2138215it [00:18, 149677.77it/s]"
     ]
    },
    {
     "name": "stderr",
     "output_type": "stream",
     "text": [
      "\rMorphologyExtractor create index: 2153221it [00:18, 139481.35it/s]"
     ]
    },
    {
     "name": "stderr",
     "output_type": "stream",
     "text": [
      "\rMorphologyExtractor create index: 2168032it [00:18, 141961.67it/s]"
     ]
    },
    {
     "name": "stderr",
     "output_type": "stream",
     "text": [
      "\rMorphologyExtractor create index: 2182668it [00:19, 143250.69it/s]"
     ]
    },
    {
     "name": "stderr",
     "output_type": "stream",
     "text": [
      "\rMorphologyExtractor create index: 2197085it [00:19, 141659.80it/s]"
     ]
    },
    {
     "name": "stderr",
     "output_type": "stream",
     "text": [
      "\rMorphologyExtractor create index: 2211746it [00:19, 143106.55it/s]"
     ]
    },
    {
     "name": "stderr",
     "output_type": "stream",
     "text": [
      "\rMorphologyExtractor create index: 2227019it [00:19, 145862.44it/s]"
     ]
    },
    {
     "name": "stderr",
     "output_type": "stream",
     "text": [
      "\rMorphologyExtractor create index: 2242470it [00:19, 148351.34it/s]"
     ]
    },
    {
     "name": "stderr",
     "output_type": "stream",
     "text": [
      "\rMorphologyExtractor create index: 2257372it [00:19, 148548.70it/s]"
     ]
    },
    {
     "name": "stderr",
     "output_type": "stream",
     "text": [
      "\rMorphologyExtractor create index: 2272259it [00:19, 142076.10it/s]"
     ]
    },
    {
     "name": "stderr",
     "output_type": "stream",
     "text": [
      "\rMorphologyExtractor create index: 2287488it [00:19, 144990.93it/s]"
     ]
    },
    {
     "name": "stderr",
     "output_type": "stream",
     "text": [
      "\rMorphologyExtractor create index: 2303313it [00:19, 148728.19it/s]"
     ]
    },
    {
     "name": "stderr",
     "output_type": "stream",
     "text": [
      "\rMorphologyExtractor create index: 2319022it [00:19, 151141.68it/s]"
     ]
    },
    {
     "name": "stderr",
     "output_type": "stream",
     "text": [
      "\rMorphologyExtractor create index: 2334285it [00:20, 151583.33it/s]"
     ]
    },
    {
     "name": "stderr",
     "output_type": "stream",
     "text": [
      "\rMorphologyExtractor create index: 2350532it [00:20, 154689.46it/s]"
     ]
    },
    {
     "name": "stderr",
     "output_type": "stream",
     "text": [
      "\rMorphologyExtractor create index: 2366047it [00:20, 150644.22it/s]"
     ]
    },
    {
     "name": "stderr",
     "output_type": "stream",
     "text": [
      "\rMorphologyExtractor create index: 2381731it [00:20, 152448.23it/s]"
     ]
    },
    {
     "name": "stderr",
     "output_type": "stream",
     "text": [
      "\rMorphologyExtractor create index: 2397025it [00:20, 152593.18it/s]"
     ]
    },
    {
     "name": "stderr",
     "output_type": "stream",
     "text": [
      "\rMorphologyExtractor create index: 2412740it [00:20, 153929.91it/s]"
     ]
    },
    {
     "name": "stderr",
     "output_type": "stream",
     "text": [
      "\rMorphologyExtractor create index: 2428245it [00:20, 154263.84it/s]"
     ]
    },
    {
     "name": "stderr",
     "output_type": "stream",
     "text": [
      "\rMorphologyExtractor create index: 2443689it [00:20, 153318.90it/s]"
     ]
    },
    {
     "name": "stderr",
     "output_type": "stream",
     "text": [
      "\rMorphologyExtractor create index: 2459035it [00:20, 151260.15it/s]"
     ]
    },
    {
     "name": "stderr",
     "output_type": "stream",
     "text": [
      "\rMorphologyExtractor create index: 2474177it [00:20, 148294.91it/s]"
     ]
    },
    {
     "name": "stderr",
     "output_type": "stream",
     "text": [
      "\rMorphologyExtractor create index: 2489031it [00:21, 148150.89it/s]"
     ]
    },
    {
     "name": "stderr",
     "output_type": "stream",
     "text": [
      "\rMorphologyExtractor create index: 2503863it [00:21, 138157.40it/s]"
     ]
    },
    {
     "name": "stderr",
     "output_type": "stream",
     "text": [
      "\rMorphologyExtractor create index: 2518458it [00:21, 140404.68it/s]"
     ]
    },
    {
     "name": "stderr",
     "output_type": "stream",
     "text": [
      "\rMorphologyExtractor create index: 2533433it [00:21, 143081.84it/s]"
     ]
    },
    {
     "name": "stderr",
     "output_type": "stream",
     "text": [
      "\rMorphologyExtractor create index: 2548455it [00:21, 145148.86it/s]"
     ]
    },
    {
     "name": "stderr",
     "output_type": "stream",
     "text": [
      "\rMorphologyExtractor create index: 2563041it [00:21, 140606.69it/s]"
     ]
    },
    {
     "name": "stderr",
     "output_type": "stream",
     "text": [
      "\rMorphologyExtractor create index: 2577183it [00:21, 139964.74it/s]"
     ]
    },
    {
     "name": "stderr",
     "output_type": "stream",
     "text": [
      "\rMorphologyExtractor create index: 2592510it [00:21, 143705.78it/s]"
     ]
    },
    {
     "name": "stderr",
     "output_type": "stream",
     "text": [
      "\rMorphologyExtractor create index: 2607643it [00:21, 145910.28it/s]"
     ]
    },
    {
     "name": "stderr",
     "output_type": "stream",
     "text": [
      "\rMorphologyExtractor create index: 2622288it [00:22, 145482.40it/s]"
     ]
    },
    {
     "name": "stderr",
     "output_type": "stream",
     "text": [
      "\rMorphologyExtractor create index: 2636875it [00:22, 143521.77it/s]"
     ]
    },
    {
     "name": "stderr",
     "output_type": "stream",
     "text": [
      "\rMorphologyExtractor create index: 2651260it [00:22, 141830.75it/s]"
     ]
    },
    {
     "name": "stderr",
     "output_type": "stream",
     "text": [
      "\rMorphologyExtractor create index: 2665519it [00:22, 142055.19it/s]"
     ]
    },
    {
     "name": "stderr",
     "output_type": "stream",
     "text": [
      "\rMorphologyExtractor create index: 2680847it [00:22, 145245.68it/s]"
     ]
    },
    {
     "name": "stderr",
     "output_type": "stream",
     "text": [
      "\rMorphologyExtractor create index: 2695403it [00:22, 141770.45it/s]"
     ]
    },
    {
     "name": "stderr",
     "output_type": "stream",
     "text": [
      "\rMorphologyExtractor create index: 2709621it [00:22, 139224.55it/s]"
     ]
    },
    {
     "name": "stderr",
     "output_type": "stream",
     "text": [
      "\rMorphologyExtractor create index: 2724576it [00:22, 142167.22it/s]"
     ]
    },
    {
     "name": "stderr",
     "output_type": "stream",
     "text": [
      "\rMorphologyExtractor create index: 2739250it [00:22, 143508.49it/s]"
     ]
    },
    {
     "name": "stderr",
     "output_type": "stream",
     "text": [
      "\rMorphologyExtractor create index: 2754118it [00:22, 145019.58it/s]"
     ]
    },
    {
     "name": "stderr",
     "output_type": "stream",
     "text": [
      "\rMorphologyExtractor create index: 2768647it [00:23, 143351.76it/s]"
     ]
    },
    {
     "name": "stderr",
     "output_type": "stream",
     "text": [
      "\rMorphologyExtractor create index: 2783325it [00:23, 144362.83it/s]"
     ]
    },
    {
     "name": "stderr",
     "output_type": "stream",
     "text": [
      "\rMorphologyExtractor create index: 2797859it [00:23, 144651.65it/s]"
     ]
    },
    {
     "name": "stderr",
     "output_type": "stream",
     "text": [
      "\rMorphologyExtractor create index: 2812572it [00:23, 145385.46it/s]"
     ]
    },
    {
     "name": "stderr",
     "output_type": "stream",
     "text": [
      "\rMorphologyExtractor create index: 2827575it [00:23, 146746.54it/s]"
     ]
    },
    {
     "name": "stderr",
     "output_type": "stream",
     "text": [
      "\rMorphologyExtractor create index: 2842438it [00:23, 147303.98it/s]"
     ]
    },
    {
     "name": "stderr",
     "output_type": "stream",
     "text": [
      "\rMorphologyExtractor create index: 2858221it [00:23, 150309.24it/s]"
     ]
    },
    {
     "name": "stderr",
     "output_type": "stream",
     "text": [
      "\rMorphologyExtractor create index: 2874092it [00:23, 152733.68it/s]"
     ]
    },
    {
     "name": "stderr",
     "output_type": "stream",
     "text": [
      "\rMorphologyExtractor create index: 2889389it [00:23, 149368.97it/s]"
     ]
    },
    {
     "name": "stderr",
     "output_type": "stream",
     "text": [
      "\rMorphologyExtractor create index: 2904579it [00:23, 150116.34it/s]"
     ]
    },
    {
     "name": "stderr",
     "output_type": "stream",
     "text": [
      "\rMorphologyExtractor create index: 2919615it [00:24, 149087.19it/s]"
     ]
    },
    {
     "name": "stderr",
     "output_type": "stream",
     "text": [
      "\rMorphologyExtractor create index: 2934543it [00:24, 146951.93it/s]"
     ]
    },
    {
     "name": "stderr",
     "output_type": "stream",
     "text": [
      "\rMorphologyExtractor create index: 2950151it [00:24, 149574.23it/s]"
     ]
    },
    {
     "name": "stderr",
     "output_type": "stream",
     "text": [
      "\rMorphologyExtractor create index: 2965134it [00:24, 148857.37it/s]"
     ]
    },
    {
     "name": "stderr",
     "output_type": "stream",
     "text": [
      "\rMorphologyExtractor create index: 2980039it [00:24, 145317.84it/s]"
     ]
    },
    {
     "name": "stderr",
     "output_type": "stream",
     "text": [
      "\rMorphologyExtractor create index: 2994603it [00:24, 145125.43it/s]"
     ]
    },
    {
     "name": "stderr",
     "output_type": "stream",
     "text": [
      "\rMorphologyExtractor create index: 3009138it [00:24, 142361.24it/s]"
     ]
    },
    {
     "name": "stderr",
     "output_type": "stream",
     "text": [
      "\rMorphologyExtractor create index: 3023402it [00:24, 139239.83it/s]"
     ]
    },
    {
     "name": "stderr",
     "output_type": "stream",
     "text": [
      "\rMorphologyExtractor create index: 3037361it [00:24, 134290.35it/s]"
     ]
    },
    {
     "name": "stderr",
     "output_type": "stream",
     "text": [
      "\rMorphologyExtractor create index: 3051629it [00:24, 136700.98it/s]"
     ]
    },
    {
     "name": "stderr",
     "output_type": "stream",
     "text": [
      "\rMorphologyExtractor create index: 3065528it [00:25, 137378.51it/s]"
     ]
    },
    {
     "name": "stderr",
     "output_type": "stream",
     "text": [
      "\rMorphologyExtractor create index: 3079305it [00:25, 134994.36it/s]"
     ]
    },
    {
     "name": "stderr",
     "output_type": "stream",
     "text": [
      "\rMorphologyExtractor create index: 3094169it [00:25, 138816.37it/s]"
     ]
    },
    {
     "name": "stderr",
     "output_type": "stream",
     "text": [
      "\rMorphologyExtractor create index: 3108422it [00:25, 139909.13it/s]"
     ]
    },
    {
     "name": "stderr",
     "output_type": "stream",
     "text": [
      "\rMorphologyExtractor create index: 3122452it [00:25, 138935.42it/s]"
     ]
    },
    {
     "name": "stderr",
     "output_type": "stream",
     "text": [
      "\rMorphologyExtractor create index: 3136473it [00:25, 139313.71it/s]"
     ]
    },
    {
     "name": "stderr",
     "output_type": "stream",
     "text": [
      "\rMorphologyExtractor create index: 3150445it [00:25, 139433.20it/s]"
     ]
    },
    {
     "name": "stderr",
     "output_type": "stream",
     "text": [
      "\rMorphologyExtractor create index: 3164403it [00:25, 138895.51it/s]"
     ]
    },
    {
     "name": "stderr",
     "output_type": "stream",
     "text": [
      "\rMorphologyExtractor create index: 3178897it [00:25, 140653.24it/s]"
     ]
    },
    {
     "name": "stderr",
     "output_type": "stream",
     "text": [
      "\rMorphologyExtractor create index: 3192975it [00:26, 124133.58it/s]"
     ]
    },
    {
     "name": "stderr",
     "output_type": "stream",
     "text": [
      "\rMorphologyExtractor create index: 3205753it [00:26, 119372.77it/s]"
     ]
    },
    {
     "name": "stderr",
     "output_type": "stream",
     "text": [
      "\rMorphologyExtractor create index: 3220028it [00:26, 125540.40it/s]"
     ]
    },
    {
     "name": "stderr",
     "output_type": "stream",
     "text": [
      "\rMorphologyExtractor create index: 3234767it [00:26, 131382.11it/s]"
     ]
    },
    {
     "name": "stderr",
     "output_type": "stream",
     "text": [
      "\rMorphologyExtractor create index: 3249844it [00:26, 136653.50it/s]"
     ]
    },
    {
     "name": "stderr",
     "output_type": "stream",
     "text": [
      "\rMorphologyExtractor create index: 3265502it [00:26, 142075.79it/s]"
     ]
    },
    {
     "name": "stderr",
     "output_type": "stream",
     "text": [
      "\rMorphologyExtractor create index: 3281248it [00:26, 146365.53it/s]"
     ]
    },
    {
     "name": "stderr",
     "output_type": "stream",
     "text": [
      "\rMorphologyExtractor create index: 3297042it [00:26, 149654.05it/s]"
     ]
    },
    {
     "name": "stderr",
     "output_type": "stream",
     "text": [
      "\rMorphologyExtractor create index: 3312195it [00:26, 150209.64it/s]"
     ]
    },
    {
     "name": "stderr",
     "output_type": "stream",
     "text": [
      "\rMorphologyExtractor create index: 3327324it [00:26, 150418.59it/s]"
     ]
    },
    {
     "name": "stderr",
     "output_type": "stream",
     "text": [
      "\rMorphologyExtractor create index: 3343513it [00:27, 153684.71it/s]"
     ]
    },
    {
     "name": "stderr",
     "output_type": "stream",
     "text": [
      "\rMorphologyExtractor create index: 3358952it [00:27, 150712.06it/s]"
     ]
    },
    {
     "name": "stderr",
     "output_type": "stream",
     "text": [
      "\rMorphologyExtractor create index: 3374086it [00:27, 149908.87it/s]"
     ]
    },
    {
     "name": "stderr",
     "output_type": "stream",
     "text": [
      "\rMorphologyExtractor create index: 3389284it [00:27, 150521.42it/s]"
     ]
    },
    {
     "name": "stderr",
     "output_type": "stream",
     "text": [
      "\rMorphologyExtractor create index: 3405105it [00:27, 152747.14it/s]"
     ]
    },
    {
     "name": "stderr",
     "output_type": "stream",
     "text": [
      "\rMorphologyExtractor create index: 3420867it [00:27, 154174.74it/s]"
     ]
    },
    {
     "name": "stderr",
     "output_type": "stream",
     "text": [
      "\rMorphologyExtractor create index: 3436309it [00:27, 151000.23it/s]"
     ]
    },
    {
     "name": "stderr",
     "output_type": "stream",
     "text": [
      "\rMorphologyExtractor create index: 3451441it [00:27, 147823.65it/s]"
     ]
    },
    {
     "name": "stderr",
     "output_type": "stream",
     "text": [
      "\rMorphologyExtractor create index: 3467414it [00:27, 151204.44it/s]"
     ]
    },
    {
     "name": "stderr",
     "output_type": "stream",
     "text": [
      "\rMorphologyExtractor create index: 3482651it [00:27, 151551.95it/s]"
     ]
    },
    {
     "name": "stderr",
     "output_type": "stream",
     "text": [
      "\rMorphologyExtractor create index: 3497838it [00:28, 146558.28it/s]"
     ]
    },
    {
     "name": "stderr",
     "output_type": "stream",
     "text": [
      "\rMorphologyExtractor create index: 3512552it [00:28, 145742.19it/s]"
     ]
    },
    {
     "name": "stderr",
     "output_type": "stream",
     "text": [
      "\rMorphologyExtractor create index: 3527168it [00:28, 145448.70it/s]"
     ]
    },
    {
     "name": "stderr",
     "output_type": "stream",
     "text": [
      "\rMorphologyExtractor create index: 3542799it [00:28, 148544.06it/s]"
     ]
    },
    {
     "name": "stderr",
     "output_type": "stream",
     "text": [
      "\rMorphologyExtractor create index: 3558879it [00:28, 152018.28it/s]"
     ]
    },
    {
     "name": "stderr",
     "output_type": "stream",
     "text": [
      "\rMorphologyExtractor create index: 3574127it [00:28, 151492.11it/s]"
     ]
    },
    {
     "name": "stderr",
     "output_type": "stream",
     "text": [
      "\rMorphologyExtractor create index: 3589309it [00:28, 150188.47it/s]"
     ]
    },
    {
     "name": "stderr",
     "output_type": "stream",
     "text": [
      "\rMorphologyExtractor create index: 3604354it [00:28, 149656.41it/s]"
     ]
    },
    {
     "name": "stderr",
     "output_type": "stream",
     "text": [
      "\rMorphologyExtractor create index: 3619338it [00:28, 149429.67it/s]"
     ]
    },
    {
     "name": "stderr",
     "output_type": "stream",
     "text": [
      "\rMorphologyExtractor create index: 3634294it [00:29, 143309.55it/s]"
     ]
    },
    {
     "name": "stderr",
     "output_type": "stream",
     "text": [
      "\rMorphologyExtractor create index: 3648688it [00:29, 142068.75it/s]"
     ]
    },
    {
     "name": "stderr",
     "output_type": "stream",
     "text": [
      "\rMorphologyExtractor create index: 3662941it [00:29, 141702.55it/s]"
     ]
    },
    {
     "name": "stderr",
     "output_type": "stream",
     "text": [
      "\rMorphologyExtractor create index: 3677144it [00:29, 141103.29it/s]"
     ]
    },
    {
     "name": "stderr",
     "output_type": "stream",
     "text": [
      "\rMorphologyExtractor create index: 3693106it [00:29, 146190.51it/s]"
     ]
    },
    {
     "name": "stderr",
     "output_type": "stream",
     "text": [
      "\rMorphologyExtractor create index: 3708553it [00:29, 148578.36it/s]"
     ]
    },
    {
     "name": "stderr",
     "output_type": "stream",
     "text": [
      "\rMorphologyExtractor create index: 3723465it [00:29, 144529.77it/s]"
     ]
    },
    {
     "name": "stderr",
     "output_type": "stream",
     "text": [
      "\rMorphologyExtractor create index: 3738338it [00:29, 145656.42it/s]"
     ]
    },
    {
     "name": "stderr",
     "output_type": "stream",
     "text": [
      "\rMorphologyExtractor create index: 3753370it [00:29, 147022.71it/s]"
     ]
    },
    {
     "name": "stderr",
     "output_type": "stream",
     "text": [
      "\rMorphologyExtractor create index: 3768908it [00:29, 149432.55it/s]"
     ]
    },
    {
     "name": "stderr",
     "output_type": "stream",
     "text": [
      "\rMorphologyExtractor create index: 3784035it [00:30, 149976.89it/s]"
     ]
    },
    {
     "name": "stderr",
     "output_type": "stream",
     "text": [
      "\rMorphologyExtractor create index: 3799057it [00:30, 131948.12it/s]"
     ]
    },
    {
     "name": "stderr",
     "output_type": "stream",
     "text": [
      "\rMorphologyExtractor create index: 3813843it [00:30, 136348.96it/s]"
     ]
    },
    {
     "name": "stderr",
     "output_type": "stream",
     "text": [
      "\rMorphologyExtractor create index: 3828695it [00:30, 139782.75it/s]"
     ]
    },
    {
     "name": "stderr",
     "output_type": "stream",
     "text": [
      "\rMorphologyExtractor create index: 3843894it [00:30, 143231.96it/s]"
     ]
    },
    {
     "name": "stderr",
     "output_type": "stream",
     "text": [
      "\rMorphologyExtractor create index: 3858413it [00:30, 142863.74it/s]"
     ]
    },
    {
     "name": "stderr",
     "output_type": "stream",
     "text": [
      "\rMorphologyExtractor create index: 3873508it [00:30, 145194.31it/s]"
     ]
    },
    {
     "name": "stderr",
     "output_type": "stream",
     "text": [
      "\rMorphologyExtractor create index: 3888586it [00:30, 146823.86it/s]"
     ]
    },
    {
     "name": "stderr",
     "output_type": "stream",
     "text": [
      "\rMorphologyExtractor create index: 3903974it [00:30, 148871.75it/s]"
     ]
    },
    {
     "name": "stderr",
     "output_type": "stream",
     "text": [
      "\rMorphologyExtractor create index: 3918931it [00:30, 149078.77it/s]"
     ]
    },
    {
     "name": "stderr",
     "output_type": "stream",
     "text": [
      "\rMorphologyExtractor create index: 3933882it [00:31, 144100.59it/s]"
     ]
    },
    {
     "name": "stderr",
     "output_type": "stream",
     "text": [
      "\rMorphologyExtractor create index: 3948359it [00:31, 140831.25it/s]"
     ]
    },
    {
     "name": "stderr",
     "output_type": "stream",
     "text": [
      "\rMorphologyExtractor create index: 3962505it [00:31, 133154.00it/s]"
     ]
    },
    {
     "name": "stderr",
     "output_type": "stream",
     "text": [
      "\rMorphologyExtractor create index: 3976917it [00:31, 136261.76it/s]"
     ]
    },
    {
     "name": "stderr",
     "output_type": "stream",
     "text": [
      "\rMorphologyExtractor create index: 3990653it [00:31, 125128.58it/s]"
     ]
    },
    {
     "name": "stderr",
     "output_type": "stream",
     "text": [
      "\rMorphologyExtractor create index: 4003421it [00:31, 112590.15it/s]"
     ]
    },
    {
     "name": "stderr",
     "output_type": "stream",
     "text": [
      "\rMorphologyExtractor create index: 4015096it [00:31, 113409.65it/s]"
     ]
    },
    {
     "name": "stderr",
     "output_type": "stream",
     "text": [
      "\rMorphologyExtractor create index: 4026799it [00:31, 114470.93it/s]"
     ]
    },
    {
     "name": "stderr",
     "output_type": "stream",
     "text": [
      "\rMorphologyExtractor create index: 4038454it [00:31, 115025.52it/s]"
     ]
    },
    {
     "name": "stderr",
     "output_type": "stream",
     "text": [
      "\rMorphologyExtractor create index: 4051042it [00:32, 118079.01it/s]"
     ]
    },
    {
     "name": "stderr",
     "output_type": "stream",
     "text": [
      "\rMorphologyExtractor create index: 4062973it [00:32, 110751.29it/s]"
     ]
    },
    {
     "name": "stderr",
     "output_type": "stream",
     "text": [
      "\rMorphologyExtractor create index: 4074227it [00:32, 104220.84it/s]"
     ]
    },
    {
     "name": "stderr",
     "output_type": "stream",
     "text": [
      "\rMorphologyExtractor create index: 4084853it [00:32, 98574.04it/s] "
     ]
    },
    {
     "name": "stderr",
     "output_type": "stream",
     "text": [
      "\rMorphologyExtractor create index: 4095472it [00:32, 100740.12it/s]"
     ]
    },
    {
     "name": "stderr",
     "output_type": "stream",
     "text": [
      "\rMorphologyExtractor create index: 4107867it [00:32, 106734.20it/s]"
     ]
    },
    {
     "name": "stderr",
     "output_type": "stream",
     "text": [
      "\rMorphologyExtractor create index: 4120749it [00:32, 112521.33it/s]"
     ]
    },
    {
     "name": "stderr",
     "output_type": "stream",
     "text": [
      "\rMorphologyExtractor create index: 4132602it [00:32, 114256.01it/s]"
     ]
    },
    {
     "name": "stderr",
     "output_type": "stream",
     "text": [
      "\rMorphologyExtractor create index: 4145750it [00:32, 118928.94it/s]"
     ]
    },
    {
     "name": "stderr",
     "output_type": "stream",
     "text": [
      "\rMorphologyExtractor create index: 4160378it [00:33, 125994.58it/s]"
     ]
    },
    {
     "name": "stderr",
     "output_type": "stream",
     "text": [
      "\rMorphologyExtractor create index: 4173208it [00:33, 125161.52it/s]"
     ]
    },
    {
     "name": "stderr",
     "output_type": "stream",
     "text": [
      "\rMorphologyExtractor create index: 4185887it [00:33, 124273.85it/s]"
     ]
    },
    {
     "name": "stderr",
     "output_type": "stream",
     "text": [
      "\rMorphologyExtractor create index: 4198430it [00:33, 122641.17it/s]"
     ]
    },
    {
     "name": "stderr",
     "output_type": "stream",
     "text": [
      "\rMorphologyExtractor create index: 4211098it [00:33, 123825.12it/s]"
     ]
    },
    {
     "name": "stderr",
     "output_type": "stream",
     "text": [
      "\rMorphologyExtractor create index: 4225292it [00:33, 128754.38it/s]"
     ]
    },
    {
     "name": "stderr",
     "output_type": "stream",
     "text": [
      "\rMorphologyExtractor create index: 4238876it [00:33, 130800.08it/s]"
     ]
    },
    {
     "name": "stderr",
     "output_type": "stream",
     "text": [
      "\rMorphologyExtractor create index: 4254202it [00:33, 136814.31it/s]"
     ]
    },
    {
     "name": "stderr",
     "output_type": "stream",
     "text": [
      "\rMorphologyExtractor create index: 4269215it [00:33, 140553.89it/s]"
     ]
    },
    {
     "name": "stderr",
     "output_type": "stream",
     "text": [
      "\rMorphologyExtractor create index: 4283448it [00:33, 141080.79it/s]"
     ]
    },
    {
     "name": "stderr",
     "output_type": "stream",
     "text": [
      "\rMorphologyExtractor create index: 4297636it [00:34, 140467.92it/s]"
     ]
    },
    {
     "name": "stderr",
     "output_type": "stream",
     "text": [
      "\rMorphologyExtractor create index: 4311739it [00:34, 135148.77it/s]"
     ]
    },
    {
     "name": "stderr",
     "output_type": "stream",
     "text": [
      "\rMorphologyExtractor create index: 4325337it [00:34, 135269.27it/s]"
     ]
    },
    {
     "name": "stderr",
     "output_type": "stream",
     "text": [
      "\rMorphologyExtractor create index: 4339103it [00:34, 135977.67it/s]"
     ]
    },
    {
     "name": "stderr",
     "output_type": "stream",
     "text": [
      "\rMorphologyExtractor create index: 4352743it [00:34, 135866.65it/s]"
     ]
    },
    {
     "name": "stderr",
     "output_type": "stream",
     "text": [
      "\rMorphologyExtractor create index: 4366359it [00:34, 129397.78it/s]"
     ]
    },
    {
     "name": "stderr",
     "output_type": "stream",
     "text": [
      "\rMorphologyExtractor create index: 4379384it [00:34, 124862.10it/s]"
     ]
    },
    {
     "name": "stderr",
     "output_type": "stream",
     "text": [
      "\rMorphologyExtractor create index: 4391964it [00:34, 117690.09it/s]"
     ]
    },
    {
     "name": "stderr",
     "output_type": "stream",
     "text": [
      "\rMorphologyExtractor create index: 4404351it [00:34, 119477.62it/s]"
     ]
    },
    {
     "name": "stderr",
     "output_type": "stream",
     "text": [
      "\rMorphologyExtractor create index: 4416411it [00:35, 119749.29it/s]"
     ]
    },
    {
     "name": "stderr",
     "output_type": "stream",
     "text": [
      "\rMorphologyExtractor create index: 4429851it [00:35, 123796.75it/s]"
     ]
    },
    {
     "name": "stderr",
     "output_type": "stream",
     "text": [
      "\rMorphologyExtractor create index: 4442321it [00:35, 118501.56it/s]"
     ]
    },
    {
     "name": "stderr",
     "output_type": "stream",
     "text": [
      "\rMorphologyExtractor create index: 4454807it [00:35, 120338.91it/s]"
     ]
    },
    {
     "name": "stderr",
     "output_type": "stream",
     "text": [
      "\rMorphologyExtractor create index: 4468821it [00:35, 125664.36it/s]"
     ]
    },
    {
     "name": "stderr",
     "output_type": "stream",
     "text": [
      "\rMorphologyExtractor create index: 4482014it [00:35, 127479.55it/s]"
     ]
    },
    {
     "name": "stderr",
     "output_type": "stream",
     "text": [
      "\rMorphologyExtractor create index: 4495374it [00:35, 129254.85it/s]"
     ]
    },
    {
     "name": "stderr",
     "output_type": "stream",
     "text": [
      "\rMorphologyExtractor create index: 4509641it [00:35, 133004.90it/s]"
     ]
    },
    {
     "name": "stderr",
     "output_type": "stream",
     "text": [
      "\rMorphologyExtractor create index: 4524440it [00:35, 137171.47it/s]"
     ]
    },
    {
     "name": "stderr",
     "output_type": "stream",
     "text": [
      "\rMorphologyExtractor create index: 4538244it [00:35, 136739.00it/s]"
     ]
    },
    {
     "name": "stderr",
     "output_type": "stream",
     "text": [
      "\rMorphologyExtractor create index: 4552162it [00:36, 137460.26it/s]"
     ]
    },
    {
     "name": "stderr",
     "output_type": "stream",
     "text": [
      "\rMorphologyExtractor create index: 4565952it [00:36, 131886.18it/s]"
     ]
    },
    {
     "name": "stderr",
     "output_type": "stream",
     "text": [
      "\rMorphologyExtractor create index: 4579220it [00:36, 124460.91it/s]"
     ]
    },
    {
     "name": "stderr",
     "output_type": "stream",
     "text": [
      "\rMorphologyExtractor create index: 4591808it [00:36, 124814.22it/s]"
     ]
    },
    {
     "name": "stderr",
     "output_type": "stream",
     "text": [
      "\rMorphologyExtractor create index: 4605583it [00:36, 128432.06it/s]"
     ]
    },
    {
     "name": "stderr",
     "output_type": "stream",
     "text": [
      "\rMorphologyExtractor create index: 4621250it [00:36, 135768.94it/s]"
     ]
    },
    {
     "name": "stderr",
     "output_type": "stream",
     "text": [
      "\rMorphologyExtractor create index: 4636137it [00:36, 139449.03it/s]"
     ]
    },
    {
     "name": "stderr",
     "output_type": "stream",
     "text": [
      "\rMorphologyExtractor create index: 4650233it [00:36, 130515.35it/s]"
     ]
    },
    {
     "name": "stderr",
     "output_type": "stream",
     "text": [
      "\rMorphologyExtractor create index: 4663507it [00:36, 116775.85it/s]"
     ]
    },
    {
     "name": "stderr",
     "output_type": "stream",
     "text": [
      "\rMorphologyExtractor create index: 4675611it [00:37, 110282.80it/s]"
     ]
    },
    {
     "name": "stderr",
     "output_type": "stream",
     "text": [
      "\rMorphologyExtractor create index: 4687013it [00:37, 109809.59it/s]"
     ]
    },
    {
     "name": "stderr",
     "output_type": "stream",
     "text": [
      "\rMorphologyExtractor create index: 4700181it [00:37, 115567.28it/s]"
     ]
    },
    {
     "name": "stderr",
     "output_type": "stream",
     "text": [
      "\rMorphologyExtractor create index: 4712872it [00:37, 118749.39it/s]"
     ]
    },
    {
     "name": "stderr",
     "output_type": "stream",
     "text": [
      "\rMorphologyExtractor create index: 4724954it [00:37, 102282.55it/s]"
     ]
    },
    {
     "name": "stderr",
     "output_type": "stream",
     "text": [
      "\rMorphologyExtractor create index: 4735730it [00:37, 101817.82it/s]"
     ]
    },
    {
     "name": "stderr",
     "output_type": "stream",
     "text": [
      "\rMorphologyExtractor create index: 4750379it [00:37, 112070.39it/s]"
     ]
    },
    {
     "name": "stderr",
     "output_type": "stream",
     "text": [
      "\rMorphologyExtractor create index: 4765145it [00:37, 120804.61it/s]"
     ]
    },
    {
     "name": "stderr",
     "output_type": "stream",
     "text": [
      "\rMorphologyExtractor create index: 4778579it [00:37, 124566.47it/s]"
     ]
    },
    {
     "name": "stderr",
     "output_type": "stream",
     "text": [
      "\rMorphologyExtractor create index: 4791487it [00:38, 122456.47it/s]"
     ]
    },
    {
     "name": "stderr",
     "output_type": "stream",
     "text": [
      "\rMorphologyExtractor create index: 4804305it [00:38, 124115.90it/s]"
     ]
    },
    {
     "name": "stderr",
     "output_type": "stream",
     "text": [
      "\rMorphologyExtractor create index: 4816949it [00:38, 120393.43it/s]"
     ]
    },
    {
     "name": "stderr",
     "output_type": "stream",
     "text": [
      "\rMorphologyExtractor create index: 4829176it [00:38, 106733.26it/s]"
     ]
    },
    {
     "name": "stderr",
     "output_type": "stream",
     "text": [
      "\rMorphologyExtractor create index: 4840766it [00:38, 109325.51it/s]"
     ]
    },
    {
     "name": "stderr",
     "output_type": "stream",
     "text": [
      "\rMorphologyExtractor create index: 4853612it [00:38, 114437.47it/s]"
     ]
    },
    {
     "name": "stderr",
     "output_type": "stream",
     "text": [
      "\rMorphologyExtractor create index: 4868164it [00:38, 122267.37it/s]"
     ]
    },
    {
     "name": "stderr",
     "output_type": "stream",
     "text": [
      "\rMorphologyExtractor create index: 4882376it [00:38, 127614.28it/s]"
     ]
    },
    {
     "name": "stderr",
     "output_type": "stream",
     "text": [
      "\rMorphologyExtractor create index: 4897955it [00:38, 134932.77it/s]"
     ]
    },
    {
     "name": "stderr",
     "output_type": "stream",
     "text": [
      "\rMorphologyExtractor create index: 4911773it [00:39, 135079.40it/s]"
     ]
    },
    {
     "name": "stderr",
     "output_type": "stream",
     "text": [
      "\rMorphologyExtractor create index: 4926891it [00:39, 139536.82it/s]"
     ]
    },
    {
     "name": "stderr",
     "output_type": "stream",
     "text": [
      "\rMorphologyExtractor create index: 4941041it [00:39, 138950.20it/s]"
     ]
    },
    {
     "name": "stderr",
     "output_type": "stream",
     "text": [
      "\rMorphologyExtractor create index: 4956624it [00:39, 143617.21it/s]"
     ]
    },
    {
     "name": "stderr",
     "output_type": "stream",
     "text": [
      "\rMorphologyExtractor create index: 4972036it [00:39, 146613.35it/s]"
     ]
    },
    {
     "name": "stderr",
     "output_type": "stream",
     "text": [
      "\rMorphologyExtractor create index: 4986975it [00:39, 147435.38it/s]"
     ]
    },
    {
     "name": "stderr",
     "output_type": "stream",
     "text": [
      "\rMorphologyExtractor create index: 5001798it [00:39, 145799.64it/s]"
     ]
    },
    {
     "name": "stderr",
     "output_type": "stream",
     "text": [
      "\rMorphologyExtractor create index: 5016438it [00:39, 142344.94it/s]"
     ]
    },
    {
     "name": "stderr",
     "output_type": "stream",
     "text": [
      "\rMorphologyExtractor create index: 5032138it [00:39, 146445.46it/s]"
     ]
    },
    {
     "name": "stderr",
     "output_type": "stream",
     "text": [
      "\rMorphologyExtractor create index: 5046854it [00:39, 146562.81it/s]"
     ]
    },
    {
     "name": "stderr",
     "output_type": "stream",
     "text": [
      "\rMorphologyExtractor create index: 5062437it [00:40, 149223.84it/s]"
     ]
    },
    {
     "name": "stderr",
     "output_type": "stream",
     "text": [
      "\rMorphologyExtractor create index: 5077407it [00:40, 147112.21it/s]"
     ]
    },
    {
     "name": "stderr",
     "output_type": "stream",
     "text": [
      "\rMorphologyExtractor create index: 5092744it [00:40, 148933.96it/s]"
     ]
    },
    {
     "name": "stderr",
     "output_type": "stream",
     "text": [
      "\rMorphologyExtractor create index: 5096053it [00:40, 126549.79it/s]"
     ]
    },
    {
     "name": "stderr",
     "output_type": "stream",
     "text": [
      "\n"
     ]
    }
   ],
   "source": [
    "import numpy as np\n",
    "from loaders.loading import load_train\n",
    "from transformers.dash_transformer import DashTransformer\n",
    "from transformers.dict_nbhd_transformer import DictNBHDTransformer\n",
    "from transformers.dict_transformer import DictTransformer\n",
    "from transformers.digit_transformer import DigitTransformer\n",
    "from transformers.flat_transformer import FlatTransformer\n",
    "from transformers.dict_class_transformer import DictClassTransformer\n",
    "from transformers.letters_transformer import LettersTransformer\n",
    "from transformers.lstm_transliterator import LSTMTransliterator\n",
    "from transformers.scored_chain import ScoredChain\n",
    "from transformers.self_transformer import SelfTransformer\n",
    "from sklearn.model_selection import train_test_split\n",
    "from transformers.simple_transliterator import SimpleTransliterator\n",
    "from transformers.add_class_transformer import AddClassTransformer\n",
    "from pipeline import transform"
   ]
  },
  {
   "cell_type": "code",
   "execution_count": 3,
   "metadata": {
    "collapsed": true
   },
   "outputs": [
    {
     "name": "stdout",
     "output_type": "stream",
     "text": [
      "<class 'pandas.core.frame.DataFrame'>\nRangeIndex: 10574516 entries, 0 to 10574515\nData columns (total 5 columns):\nclass          object\nbefore         object\nafter          object\nprev    object\nnext    object\ndtypes: object(5)\nmemory usage: 403.4+ MB\nNone\n"
     ]
    }
   ],
   "source": [
    "df = load_train(['class', 'before', 'after'], r'../input/norm_challenge_ru')\n",
    "df['prev'] = df['before'].shift(1)\n",
    "df['next'] = df['before'].shift(-1)\n",
    "df = df.fillna('')\n",
    "print(df.info())"
   ]
  },
  {
   "cell_type": "code",
   "execution_count": 4,
   "metadata": {},
   "outputs": [],
   "source": [
    "x_train, x_test, y_train, y_test = train_test_split(df.drop(['after'], axis=1), df['after'], test_size=0.1, random_state=2017)\n",
    "x_test.drop(['class'], axis=1, inplace=True)"
   ]
  },
  {
   "cell_type": "code",
   "execution_count": 5,
   "metadata": {
    "collapsed": false
   },
   "outputs": [
    {
     "name": "stderr",
     "output_type": "stream",
     "text": [
      "\rDictClassTransformer_PUNCT fit:   0%|          | 0/9517064 [00:00<?, ?it/s]"
     ]
    },
    {
     "name": "stderr",
     "output_type": "stream",
     "text": [
      "\rDictClassTransformer_PUNCT fit:   1%|          | 48329/9517064 [00:00<00:19, 483284.70it/s]"
     ]
    },
    {
     "name": "stderr",
     "output_type": "stream",
     "text": [
      "\rDictClassTransformer_PUNCT fit:   1%|          | 117634/9517064 [00:00<00:17, 531548.59it/s]"
     ]
    },
    {
     "name": "stderr",
     "output_type": "stream",
     "text": [
      "\rDictClassTransformer_PUNCT fit:   2%|▏         | 187193/9517064 [00:00<00:16, 572017.21it/s]"
     ]
    },
    {
     "name": "stderr",
     "output_type": "stream",
     "text": [
      "\rDictClassTransformer_PUNCT fit:   3%|▎         | 245808/9517064 [00:00<00:16, 576184.73it/s]"
     ]
    },
    {
     "name": "stderr",
     "output_type": "stream",
     "text": [
      "\rDictClassTransformer_PUNCT fit:   3%|▎         | 319268/9517064 [00:00<00:14, 616037.37it/s]"
     ]
    },
    {
     "name": "stderr",
     "output_type": "stream",
     "text": [
      "\rDictClassTransformer_PUNCT fit:   4%|▍         | 395783/9517064 [00:00<00:13, 654288.38it/s]"
     ]
    },
    {
     "name": "stderr",
     "output_type": "stream",
     "text": [
      "\rDictClassTransformer_PUNCT fit:   5%|▍         | 469952/9517064 [00:00<00:13, 678261.56it/s]"
     ]
    },
    {
     "name": "stderr",
     "output_type": "stream",
     "text": [
      "\rDictClassTransformer_PUNCT fit:   6%|▌         | 535311/9517064 [00:00<00:14, 621504.49it/s]"
     ]
    },
    {
     "name": "stderr",
     "output_type": "stream",
     "text": [
      "\rDictClassTransformer_PUNCT fit:   6%|▋         | 613440/9517064 [00:00<00:13, 662127.64it/s]"
     ]
    },
    {
     "name": "stderr",
     "output_type": "stream",
     "text": [
      "\rDictClassTransformer_PUNCT fit:   7%|▋         | 707599/9517064 [00:01<00:12, 726844.17it/s]"
     ]
    },
    {
     "name": "stderr",
     "output_type": "stream",
     "text": [
      "\rDictClassTransformer_PUNCT fit:   8%|▊         | 801595/9517064 [00:01<00:11, 779889.14it/s]"
     ]
    },
    {
     "name": "stderr",
     "output_type": "stream",
     "text": [
      "\rDictClassTransformer_PUNCT fit:   9%|▉         | 896541/9517064 [00:01<00:10, 824038.18it/s]"
     ]
    },
    {
     "name": "stderr",
     "output_type": "stream",
     "text": [
      "\rDictClassTransformer_PUNCT fit:  10%|█         | 999233/9517064 [00:01<00:09, 875946.85it/s]"
     ]
    },
    {
     "name": "stderr",
     "output_type": "stream",
     "text": [
      "\rDictClassTransformer_PUNCT fit:  12%|█▏        | 1107173/9517064 [00:01<00:09, 928446.64it/s]"
     ]
    },
    {
     "name": "stderr",
     "output_type": "stream",
     "text": [
      "\rDictClassTransformer_PUNCT fit:  13%|█▎        | 1202688/9517064 [00:01<00:09, 897923.73it/s]"
     ]
    },
    {
     "name": "stderr",
     "output_type": "stream",
     "text": [
      "\rDictClassTransformer_PUNCT fit:  14%|█▎        | 1294567/9517064 [00:01<00:09, 901414.65it/s]"
     ]
    },
    {
     "name": "stderr",
     "output_type": "stream",
     "text": [
      "\rDictClassTransformer_PUNCT fit:  15%|█▍        | 1386173/9517064 [00:01<00:09, 901672.25it/s]"
     ]
    },
    {
     "name": "stderr",
     "output_type": "stream",
     "text": [
      "\rDictClassTransformer_PUNCT fit:  16%|█▌        | 1477365/9517064 [00:01<00:09, 875930.23it/s]"
     ]
    },
    {
     "name": "stderr",
     "output_type": "stream",
     "text": [
      "\rDictClassTransformer_PUNCT fit:  16%|█▋        | 1565837/9517064 [00:01<00:10, 775707.03it/s]"
     ]
    },
    {
     "name": "stderr",
     "output_type": "stream",
     "text": [
      "\rDictClassTransformer_PUNCT fit:  17%|█▋        | 1656290/9517064 [00:02<00:09, 810326.71it/s]"
     ]
    },
    {
     "name": "stderr",
     "output_type": "stream",
     "text": [
      "\rDictClassTransformer_PUNCT fit:  19%|█▊        | 1763440/9517064 [00:02<00:08, 874253.62it/s]"
     ]
    },
    {
     "name": "stderr",
     "output_type": "stream",
     "text": [
      "\rDictClassTransformer_PUNCT fit:  20%|█▉        | 1873793/9517064 [00:02<00:08, 932367.69it/s]"
     ]
    },
    {
     "name": "stderr",
     "output_type": "stream",
     "text": [
      "\rDictClassTransformer_PUNCT fit:  21%|██        | 1989835/9517064 [00:02<00:07, 990779.73it/s]"
     ]
    },
    {
     "name": "stderr",
     "output_type": "stream",
     "text": [
      "\rDictClassTransformer_PUNCT fit:  22%|██▏       | 2107205/9517064 [00:02<00:07, 1039372.47it/s]"
     ]
    },
    {
     "name": "stderr",
     "output_type": "stream",
     "text": [
      "\rDictClassTransformer_PUNCT fit:  23%|██▎       | 2226985/9517064 [00:02<00:06, 1082315.25it/s]"
     ]
    },
    {
     "name": "stderr",
     "output_type": "stream",
     "text": [
      "\rDictClassTransformer_PUNCT fit:  25%|██▍       | 2337705/9517064 [00:02<00:06, 1033669.61it/s]"
     ]
    },
    {
     "name": "stderr",
     "output_type": "stream",
     "text": [
      "\rDictClassTransformer_PUNCT fit:  26%|██▌       | 2450916/9517064 [00:02<00:06, 1061354.20it/s]"
     ]
    },
    {
     "name": "stderr",
     "output_type": "stream",
     "text": [
      "\rDictClassTransformer_PUNCT fit:  27%|██▋       | 2562995/9517064 [00:02<00:06, 1078511.89it/s]"
     ]
    },
    {
     "name": "stderr",
     "output_type": "stream",
     "text": [
      "\rDictClassTransformer_PUNCT fit:  28%|██▊       | 2672123/9517064 [00:03<00:06, 1006460.71it/s]"
     ]
    },
    {
     "name": "stderr",
     "output_type": "stream",
     "text": [
      "\rDictClassTransformer_PUNCT fit:  29%|██▉       | 2791652/9517064 [00:03<00:06, 1056530.29it/s]"
     ]
    },
    {
     "name": "stderr",
     "output_type": "stream",
     "text": [
      "\rDictClassTransformer_PUNCT fit:  31%|███       | 2909708/9517064 [00:03<00:06, 1090907.53it/s]"
     ]
    },
    {
     "name": "stderr",
     "output_type": "stream",
     "text": [
      "\rDictClassTransformer_PUNCT fit:  32%|███▏      | 3020456/9517064 [00:03<00:05, 1090476.63it/s]"
     ]
    },
    {
     "name": "stderr",
     "output_type": "stream",
     "text": [
      "\rDictClassTransformer_PUNCT fit:  33%|███▎      | 3136353/9517064 [00:03<00:05, 1110155.75it/s]"
     ]
    },
    {
     "name": "stderr",
     "output_type": "stream",
     "text": [
      "\rDictClassTransformer_PUNCT fit:  34%|███▍      | 3258881/9517064 [00:03<00:05, 1142352.11it/s]"
     ]
    },
    {
     "name": "stderr",
     "output_type": "stream",
     "text": [
      "\rDictClassTransformer_PUNCT fit:  36%|███▌      | 3379525/9517064 [00:03<00:05, 1160845.10it/s]"
     ]
    },
    {
     "name": "stderr",
     "output_type": "stream",
     "text": [
      "\rDictClassTransformer_PUNCT fit:  37%|███▋      | 3502690/9517064 [00:03<00:05, 1181213.86it/s]"
     ]
    },
    {
     "name": "stderr",
     "output_type": "stream",
     "text": [
      "\rDictClassTransformer_PUNCT fit:  38%|███▊      | 3628074/9517064 [00:03<00:04, 1202102.17it/s]"
     ]
    },
    {
     "name": "stderr",
     "output_type": "stream",
     "text": [
      "\rDictClassTransformer_PUNCT fit:  39%|███▉      | 3754050/9517064 [00:03<00:04, 1218833.75it/s]"
     ]
    },
    {
     "name": "stderr",
     "output_type": "stream",
     "text": [
      "\rDictClassTransformer_PUNCT fit:  41%|████      | 3877768/9517064 [00:04<00:04, 1224272.79it/s]"
     ]
    },
    {
     "name": "stderr",
     "output_type": "stream",
     "text": [
      "\rDictClassTransformer_PUNCT fit:  42%|████▏     | 4002453/9517064 [00:04<00:04, 1230956.50it/s]"
     ]
    },
    {
     "name": "stderr",
     "output_type": "stream",
     "text": [
      "\rDictClassTransformer_PUNCT fit:  43%|████▎     | 4127437/9517064 [00:04<00:04, 1236557.34it/s]"
     ]
    },
    {
     "name": "stderr",
     "output_type": "stream",
     "text": [
      "\rDictClassTransformer_PUNCT fit:  45%|████▍     | 4251733/9517064 [00:04<00:04, 1238467.14it/s]"
     ]
    },
    {
     "name": "stderr",
     "output_type": "stream",
     "text": [
      "\rDictClassTransformer_PUNCT fit:  46%|████▌     | 4375686/9517064 [00:04<00:04, 1171682.51it/s]"
     ]
    },
    {
     "name": "stderr",
     "output_type": "stream",
     "text": [
      "\rDictClassTransformer_PUNCT fit:  47%|████▋     | 4493675/9517064 [00:04<00:04, 1163458.74it/s]"
     ]
    },
    {
     "name": "stderr",
     "output_type": "stream",
     "text": [
      "\rDictClassTransformer_PUNCT fit:  48%|████▊     | 4613122/9517064 [00:04<00:04, 1172586.28it/s]"
     ]
    },
    {
     "name": "stderr",
     "output_type": "stream",
     "text": [
      "\rDictClassTransformer_PUNCT fit:  50%|████▉     | 4732879/9517064 [00:04<00:04, 1179970.75it/s]"
     ]
    },
    {
     "name": "stderr",
     "output_type": "stream",
     "text": [
      "\rDictClassTransformer_PUNCT fit:  51%|█████     | 4855558/9517064 [00:04<00:03, 1193633.13it/s]"
     ]
    },
    {
     "name": "stderr",
     "output_type": "stream",
     "text": [
      "\rDictClassTransformer_PUNCT fit:  52%|█████▏    | 4975177/9517064 [00:05<00:04, 1032847.86it/s]"
     ]
    },
    {
     "name": "stderr",
     "output_type": "stream",
     "text": [
      "\rDictClassTransformer_PUNCT fit:  53%|█████▎    | 5082486/9517064 [00:05<00:04, 907298.76it/s] "
     ]
    },
    {
     "name": "stderr",
     "output_type": "stream",
     "text": [
      "\rDictClassTransformer_PUNCT fit:  54%|█████▍    | 5178807/9517064 [00:05<00:05, 803982.86it/s]"
     ]
    },
    {
     "name": "stderr",
     "output_type": "stream",
     "text": [
      "\rDictClassTransformer_PUNCT fit:  55%|█████▌    | 5265288/9517064 [00:05<00:05, 717762.88it/s]"
     ]
    },
    {
     "name": "stderr",
     "output_type": "stream",
     "text": [
      "\rDictClassTransformer_PUNCT fit:  56%|█████▌    | 5343048/9517064 [00:05<00:06, 627564.00it/s]"
     ]
    },
    {
     "name": "stderr",
     "output_type": "stream",
     "text": [
      "\rDictClassTransformer_PUNCT fit:  57%|█████▋    | 5412038/9517064 [00:05<00:06, 604134.99it/s]"
     ]
    },
    {
     "name": "stderr",
     "output_type": "stream",
     "text": [
      "\rDictClassTransformer_PUNCT fit:  58%|█████▊    | 5477003/9517064 [00:05<00:08, 470642.97it/s]"
     ]
    },
    {
     "name": "stderr",
     "output_type": "stream",
     "text": [
      "\rDictClassTransformer_PUNCT fit:  58%|█████▊    | 5531795/9517064 [00:06<00:10, 389798.86it/s]"
     ]
    },
    {
     "name": "stderr",
     "output_type": "stream",
     "text": [
      "\rDictClassTransformer_PUNCT fit:  59%|█████▉    | 5618066/9517064 [00:06<00:08, 466517.48it/s]"
     ]
    },
    {
     "name": "stderr",
     "output_type": "stream",
     "text": [
      "\rDictClassTransformer_PUNCT fit:  60%|█████▉    | 5676639/9517064 [00:06<00:08, 469730.63it/s]"
     ]
    },
    {
     "name": "stderr",
     "output_type": "stream",
     "text": [
      "\rDictClassTransformer_PUNCT fit:  60%|██████    | 5749995/9517064 [00:06<00:07, 526525.76it/s]"
     ]
    },
    {
     "name": "stderr",
     "output_type": "stream",
     "text": [
      "\rDictClassTransformer_PUNCT fit:  61%|██████    | 5819750/9517064 [00:06<00:06, 568327.13it/s]"
     ]
    },
    {
     "name": "stderr",
     "output_type": "stream",
     "text": [
      "\rDictClassTransformer_PUNCT fit:  62%|██████▏   | 5905391/9517064 [00:06<00:05, 632040.83it/s]"
     ]
    },
    {
     "name": "stderr",
     "output_type": "stream",
     "text": [
      "\rDictClassTransformer_PUNCT fit:  63%|██████▎   | 5996808/9517064 [00:06<00:05, 696527.87it/s]"
     ]
    },
    {
     "name": "stderr",
     "output_type": "stream",
     "text": [
      "\rDictClassTransformer_PUNCT fit:  64%|██████▍   | 6078880/9517064 [00:06<00:04, 729573.57it/s]"
     ]
    },
    {
     "name": "stderr",
     "output_type": "stream",
     "text": [
      "\rDictClassTransformer_PUNCT fit:  65%|██████▍   | 6157031/9517064 [00:06<00:04, 718348.89it/s]"
     ]
    },
    {
     "name": "stderr",
     "output_type": "stream",
     "text": [
      "\rDictClassTransformer_PUNCT fit:  65%|██████▌   | 6232540/9517064 [00:07<00:04, 703602.74it/s]"
     ]
    },
    {
     "name": "stderr",
     "output_type": "stream",
     "text": [
      "\rDictClassTransformer_PUNCT fit:  66%|██████▋   | 6313994/9517064 [00:07<00:04, 733574.12it/s]"
     ]
    },
    {
     "name": "stderr",
     "output_type": "stream",
     "text": [
      "\rDictClassTransformer_PUNCT fit:  67%|██████▋   | 6414005/9517064 [00:07<00:03, 797316.27it/s]"
     ]
    },
    {
     "name": "stderr",
     "output_type": "stream",
     "text": [
      "\rDictClassTransformer_PUNCT fit:  68%|██████▊   | 6500377/9517064 [00:07<00:03, 816139.66it/s]"
     ]
    },
    {
     "name": "stderr",
     "output_type": "stream",
     "text": [
      "\rDictClassTransformer_PUNCT fit:  69%|██████▉   | 6584735/9517064 [00:07<00:03, 824179.82it/s]"
     ]
    },
    {
     "name": "stderr",
     "output_type": "stream",
     "text": [
      "\rDictClassTransformer_PUNCT fit:  70%|███████   | 6668791/9517064 [00:07<00:03, 821231.78it/s]"
     ]
    },
    {
     "name": "stderr",
     "output_type": "stream",
     "text": [
      "\rDictClassTransformer_PUNCT fit:  71%|███████   | 6752063/9517064 [00:07<00:03, 791444.34it/s]"
     ]
    },
    {
     "name": "stderr",
     "output_type": "stream",
     "text": [
      "\rDictClassTransformer_PUNCT fit:  72%|███████▏  | 6842126/9517064 [00:07<00:03, 821310.77it/s]"
     ]
    },
    {
     "name": "stderr",
     "output_type": "stream",
     "text": [
      "\rDictClassTransformer_PUNCT fit:  73%|███████▎  | 6942282/9517064 [00:07<00:02, 868100.78it/s]"
     ]
    },
    {
     "name": "stderr",
     "output_type": "stream",
     "text": [
      "\rDictClassTransformer_PUNCT fit:  74%|███████▍  | 7030520/9517064 [00:08<00:03, 813004.26it/s]"
     ]
    },
    {
     "name": "stderr",
     "output_type": "stream",
     "text": [
      "\rDictClassTransformer_PUNCT fit:  75%|███████▍  | 7113646/9517064 [00:08<00:02, 818394.16it/s]"
     ]
    },
    {
     "name": "stderr",
     "output_type": "stream",
     "text": [
      "\rDictClassTransformer_PUNCT fit:  76%|███████▌  | 7196691/9517064 [00:08<00:03, 728461.57it/s]"
     ]
    },
    {
     "name": "stderr",
     "output_type": "stream",
     "text": [
      "\rDictClassTransformer_PUNCT fit:  76%|███████▋  | 7272217/9517064 [00:08<00:03, 680610.67it/s]"
     ]
    },
    {
     "name": "stderr",
     "output_type": "stream",
     "text": [
      "\rDictClassTransformer_PUNCT fit:  77%|███████▋  | 7358986/9517064 [00:08<00:02, 727676.68it/s]"
     ]
    },
    {
     "name": "stderr",
     "output_type": "stream",
     "text": [
      "\rDictClassTransformer_PUNCT fit:  78%|███████▊  | 7460674/9517064 [00:08<00:02, 795551.92it/s]"
     ]
    },
    {
     "name": "stderr",
     "output_type": "stream",
     "text": [
      "\rDictClassTransformer_PUNCT fit:  80%|███████▉  | 7568251/9517064 [00:08<00:02, 862989.45it/s]"
     ]
    },
    {
     "name": "stderr",
     "output_type": "stream",
     "text": [
      "\rDictClassTransformer_PUNCT fit:  81%|████████  | 7666504/9517064 [00:08<00:02, 895679.57it/s]"
     ]
    },
    {
     "name": "stderr",
     "output_type": "stream",
     "text": [
      "\rDictClassTransformer_PUNCT fit:  82%|████████▏ | 7762128/9517064 [00:08<00:01, 913026.29it/s]"
     ]
    },
    {
     "name": "stderr",
     "output_type": "stream",
     "text": [
      "\rDictClassTransformer_PUNCT fit:  83%|████████▎ | 7860528/9517064 [00:09<00:01, 933214.16it/s]"
     ]
    },
    {
     "name": "stderr",
     "output_type": "stream",
     "text": [
      "\rDictClassTransformer_PUNCT fit:  84%|████████▍ | 7972100/9517064 [00:09<00:01, 981370.88it/s]"
     ]
    },
    {
     "name": "stderr",
     "output_type": "stream",
     "text": [
      "\rDictClassTransformer_PUNCT fit:  85%|████████▍ | 8079773/9517064 [00:09<00:01, 1008153.58it/s]"
     ]
    },
    {
     "name": "stderr",
     "output_type": "stream",
     "text": [
      "\rDictClassTransformer_PUNCT fit:  86%|████████▌ | 8192303/9517064 [00:09<00:01, 1040648.03it/s]"
     ]
    },
    {
     "name": "stderr",
     "output_type": "stream",
     "text": [
      "\rDictClassTransformer_PUNCT fit:  87%|████████▋ | 8298159/9517064 [00:09<00:01, 1045954.98it/s]"
     ]
    },
    {
     "name": "stderr",
     "output_type": "stream",
     "text": [
      "\rDictClassTransformer_PUNCT fit:  88%|████████▊ | 8413068/9517064 [00:09<00:01, 1074894.47it/s]"
     ]
    },
    {
     "name": "stderr",
     "output_type": "stream",
     "text": [
      "\rDictClassTransformer_PUNCT fit:  90%|████████▉ | 8533944/9517064 [00:09<00:00, 1111830.51it/s]"
     ]
    },
    {
     "name": "stderr",
     "output_type": "stream",
     "text": [
      "\rDictClassTransformer_PUNCT fit:  91%|█████████ | 8657247/9517064 [00:09<00:00, 1145609.07it/s]"
     ]
    },
    {
     "name": "stderr",
     "output_type": "stream",
     "text": [
      "\rDictClassTransformer_PUNCT fit:  92%|█████████▏| 8784362/9517064 [00:09<00:00, 1180572.77it/s]"
     ]
    },
    {
     "name": "stderr",
     "output_type": "stream",
     "text": [
      "\rDictClassTransformer_PUNCT fit:  94%|█████████▎| 8907525/9517064 [00:09<00:00, 1195439.36it/s]"
     ]
    },
    {
     "name": "stderr",
     "output_type": "stream",
     "text": [
      "\rDictClassTransformer_PUNCT fit:  95%|█████████▍| 9030286/9517064 [00:10<00:00, 1204904.83it/s]"
     ]
    },
    {
     "name": "stderr",
     "output_type": "stream",
     "text": [
      "\rDictClassTransformer_PUNCT fit:  96%|█████████▌| 9154419/9517064 [00:10<00:00, 1215598.61it/s]"
     ]
    },
    {
     "name": "stderr",
     "output_type": "stream",
     "text": [
      "\rDictClassTransformer_PUNCT fit:  97%|█████████▋| 9276345/9517064 [00:10<00:00, 1193878.38it/s]"
     ]
    },
    {
     "name": "stderr",
     "output_type": "stream",
     "text": [
      "\rDictClassTransformer_PUNCT fit:  99%|█████████▉| 9403007/9517064 [00:10<00:00, 1214804.37it/s]"
     ]
    },
    {
     "name": "stderr",
     "output_type": "stream",
     "text": [
      "\rDictClassTransformer_PUNCT fit: 100%|██████████| 9517064/9517064 [00:10<00:00, 897137.39it/s] "
     ]
    },
    {
     "name": "stderr",
     "output_type": "stream",
     "text": [
      "\n\rDictClassTransformer_VERBATIM fit:   0%|          | 0/9517064 [00:00<?, ?it/s]"
     ]
    },
    {
     "name": "stderr",
     "output_type": "stream",
     "text": [
      "\rDictClassTransformer_VERBATIM fit:   1%|          | 97123/9517064 [00:00<00:09, 971219.35it/s]"
     ]
    },
    {
     "name": "stderr",
     "output_type": "stream",
     "text": [
      "\rDictClassTransformer_VERBATIM fit:   2%|▏         | 203609/9517064 [00:00<00:09, 997535.05it/s]"
     ]
    },
    {
     "name": "stderr",
     "output_type": "stream",
     "text": [
      "\rDictClassTransformer_VERBATIM fit:   3%|▎         | 323609/9517064 [00:00<00:08, 1050716.09it/s]"
     ]
    },
    {
     "name": "stderr",
     "output_type": "stream",
     "text": [
      "\rDictClassTransformer_VERBATIM fit:   5%|▍         | 449362/9517064 [00:00<00:08, 1105246.49it/s]"
     ]
    },
    {
     "name": "stderr",
     "output_type": "stream",
     "text": [
      "\rDictClassTransformer_VERBATIM fit:   6%|▌         | 537935/9517064 [00:01<00:51, 175529.73it/s] "
     ]
    },
    {
     "name": "stderr",
     "output_type": "stream",
     "text": [
      "\rDictClassTransformer_VERBATIM fit:   7%|▋         | 663508/9517064 [00:01<00:37, 236583.65it/s]"
     ]
    },
    {
     "name": "stderr",
     "output_type": "stream",
     "text": [
      "\rDictClassTransformer_VERBATIM fit:   8%|▊         | 792934/9517064 [00:02<00:27, 313422.90it/s]"
     ]
    },
    {
     "name": "stderr",
     "output_type": "stream",
     "text": [
      "\rDictClassTransformer_VERBATIM fit:  10%|▉         | 922951/9517064 [00:02<00:21, 405820.15it/s]"
     ]
    },
    {
     "name": "stderr",
     "output_type": "stream",
     "text": [
      "\rDictClassTransformer_VERBATIM fit:  11%|█         | 1057094/9517064 [00:02<00:16, 513203.21it/s]"
     ]
    },
    {
     "name": "stderr",
     "output_type": "stream",
     "text": [
      "\rDictClassTransformer_VERBATIM fit:  13%|█▎        | 1190721/9517064 [00:02<00:13, 629528.84it/s]"
     ]
    },
    {
     "name": "stderr",
     "output_type": "stream",
     "text": [
      "\rDictClassTransformer_VERBATIM fit:  14%|█▍        | 1332270/9517064 [00:02<00:10, 755353.33it/s]"
     ]
    },
    {
     "name": "stderr",
     "output_type": "stream",
     "text": [
      "\rDictClassTransformer_VERBATIM fit:  15%|█▌        | 1473265/9517064 [00:02<00:09, 877484.10it/s]"
     ]
    },
    {
     "name": "stderr",
     "output_type": "stream",
     "text": [
      "\rDictClassTransformer_VERBATIM fit:  17%|█▋        | 1620434/9517064 [00:02<00:07, 998418.23it/s]"
     ]
    },
    {
     "name": "stderr",
     "output_type": "stream",
     "text": [
      "\rDictClassTransformer_VERBATIM fit:  18%|█▊        | 1756298/9517064 [00:02<00:07, 1077721.44it/s]"
     ]
    },
    {
     "name": "stderr",
     "output_type": "stream",
     "text": [
      "\rDictClassTransformer_VERBATIM fit:  20%|█▉        | 1899827/9517064 [00:02<00:06, 1164771.11it/s]"
     ]
    },
    {
     "name": "stderr",
     "output_type": "stream",
     "text": [
      "\rDictClassTransformer_VERBATIM fit:  22%|██▏       | 2052026/9517064 [00:02<00:05, 1252993.88it/s]"
     ]
    },
    {
     "name": "stderr",
     "output_type": "stream",
     "text": [
      "\rDictClassTransformer_VERBATIM fit:  23%|██▎       | 2193875/9517064 [00:03<00:05, 1285387.56it/s]"
     ]
    },
    {
     "name": "stderr",
     "output_type": "stream",
     "text": [
      "\rDictClassTransformer_VERBATIM fit:  25%|██▍       | 2338450/9517064 [00:03<00:05, 1329631.84it/s]"
     ]
    },
    {
     "name": "stderr",
     "output_type": "stream",
     "text": [
      "\rDictClassTransformer_VERBATIM fit:  26%|██▌       | 2493488/9517064 [00:03<00:05, 1388958.09it/s]"
     ]
    },
    {
     "name": "stderr",
     "output_type": "stream",
     "text": [
      "\rDictClassTransformer_VERBATIM fit:  28%|██▊       | 2642995/9517064 [00:03<00:04, 1419175.12it/s]"
     ]
    },
    {
     "name": "stderr",
     "output_type": "stream",
     "text": [
      "\rDictClassTransformer_VERBATIM fit:  29%|██▉       | 2796452/9517064 [00:03<00:04, 1451924.76it/s]"
     ]
    },
    {
     "name": "stderr",
     "output_type": "stream",
     "text": [
      "\rDictClassTransformer_VERBATIM fit:  31%|███       | 2952057/9517064 [00:03<00:04, 1481665.51it/s]"
     ]
    },
    {
     "name": "stderr",
     "output_type": "stream",
     "text": [
      "\rDictClassTransformer_VERBATIM fit:  33%|███▎      | 3106902/9517064 [00:03<00:04, 1501087.42it/s]"
     ]
    },
    {
     "name": "stderr",
     "output_type": "stream",
     "text": [
      "\rDictClassTransformer_VERBATIM fit:  34%|███▍      | 3258942/9517064 [00:03<00:04, 1475333.91it/s]"
     ]
    },
    {
     "name": "stderr",
     "output_type": "stream",
     "text": [
      "\rDictClassTransformer_VERBATIM fit:  36%|███▌      | 3410722/9517064 [00:03<00:04, 1487814.19it/s]"
     ]
    },
    {
     "name": "stderr",
     "output_type": "stream",
     "text": [
      "\rDictClassTransformer_VERBATIM fit:  37%|███▋      | 3560544/9517064 [00:04<00:04, 1480282.72it/s]"
     ]
    },
    {
     "name": "stderr",
     "output_type": "stream",
     "text": [
      "\rDictClassTransformer_VERBATIM fit:  39%|███▉      | 3710817/9517064 [00:04<00:03, 1486945.54it/s]"
     ]
    },
    {
     "name": "stderr",
     "output_type": "stream",
     "text": [
      "\rDictClassTransformer_VERBATIM fit:  41%|████      | 3866482/9517064 [00:04<00:03, 1507189.77it/s]"
     ]
    },
    {
     "name": "stderr",
     "output_type": "stream",
     "text": [
      "\rDictClassTransformer_VERBATIM fit:  42%|████▏     | 4026114/9517064 [00:04<00:03, 1532862.17it/s]"
     ]
    },
    {
     "name": "stderr",
     "output_type": "stream",
     "text": [
      "\rDictClassTransformer_VERBATIM fit:  44%|████▍     | 4186249/9517064 [00:04<00:03, 1552784.76it/s]"
     ]
    },
    {
     "name": "stderr",
     "output_type": "stream",
     "text": [
      "\rDictClassTransformer_VERBATIM fit:  46%|████▌     | 4342095/9517064 [00:04<00:03, 1554454.59it/s]"
     ]
    },
    {
     "name": "stderr",
     "output_type": "stream",
     "text": [
      "\rDictClassTransformer_VERBATIM fit:  47%|████▋     | 4501639/9517064 [00:04<00:03, 1566522.33it/s]"
     ]
    },
    {
     "name": "stderr",
     "output_type": "stream",
     "text": [
      "\rDictClassTransformer_VERBATIM fit:  49%|████▉     | 4659264/9517064 [00:04<00:03, 1569422.86it/s]"
     ]
    },
    {
     "name": "stderr",
     "output_type": "stream",
     "text": [
      "\rDictClassTransformer_VERBATIM fit:  51%|█████     | 4820249/9517064 [00:04<00:02, 1581332.19it/s]"
     ]
    },
    {
     "name": "stderr",
     "output_type": "stream",
     "text": [
      "\rDictClassTransformer_VERBATIM fit:  52%|█████▏    | 4978500/9517064 [00:04<00:02, 1535531.91it/s]"
     ]
    },
    {
     "name": "stderr",
     "output_type": "stream",
     "text": [
      "\rDictClassTransformer_VERBATIM fit:  54%|█████▍    | 5136996/9517064 [00:05<00:02, 1550028.59it/s]"
     ]
    },
    {
     "name": "stderr",
     "output_type": "stream",
     "text": [
      "\rDictClassTransformer_VERBATIM fit:  56%|█████▌    | 5294676/9517064 [00:05<00:02, 1557959.01it/s]"
     ]
    },
    {
     "name": "stderr",
     "output_type": "stream",
     "text": [
      "\rDictClassTransformer_VERBATIM fit:  57%|█████▋    | 5453116/9517064 [00:05<00:02, 1565794.19it/s]"
     ]
    },
    {
     "name": "stderr",
     "output_type": "stream",
     "text": [
      "\rDictClassTransformer_VERBATIM fit:  59%|█████▉    | 5609855/9517064 [00:05<00:02, 1563305.31it/s]"
     ]
    },
    {
     "name": "stderr",
     "output_type": "stream",
     "text": [
      "\rDictClassTransformer_VERBATIM fit:  61%|██████    | 5774783/9517064 [00:05<00:02, 1588137.66it/s]"
     ]
    },
    {
     "name": "stderr",
     "output_type": "stream",
     "text": [
      "\rDictClassTransformer_VERBATIM fit:  62%|██████▏   | 5933772/9517064 [00:05<00:02, 1564476.97it/s]"
     ]
    },
    {
     "name": "stderr",
     "output_type": "stream",
     "text": [
      "\rDictClassTransformer_VERBATIM fit:  64%|██████▍   | 6093362/9517064 [00:05<00:02, 1573772.51it/s]"
     ]
    },
    {
     "name": "stderr",
     "output_type": "stream",
     "text": [
      "\rDictClassTransformer_VERBATIM fit:  66%|██████▌   | 6250894/9517064 [00:05<00:02, 1562898.29it/s]"
     ]
    },
    {
     "name": "stderr",
     "output_type": "stream",
     "text": [
      "\rDictClassTransformer_VERBATIM fit:  67%|██████▋   | 6407310/9517064 [00:05<00:02, 1520603.34it/s]"
     ]
    },
    {
     "name": "stderr",
     "output_type": "stream",
     "text": [
      "\rDictClassTransformer_VERBATIM fit:  69%|██████▉   | 6559710/9517064 [00:05<00:01, 1518410.40it/s]"
     ]
    },
    {
     "name": "stderr",
     "output_type": "stream",
     "text": [
      "\rDictClassTransformer_VERBATIM fit:  71%|███████   | 6718072/9517064 [00:06<00:01, 1537401.70it/s]"
     ]
    },
    {
     "name": "stderr",
     "output_type": "stream",
     "text": [
      "\rDictClassTransformer_VERBATIM fit:  72%|███████▏  | 6879399/9517064 [00:06<00:01, 1559397.25it/s]"
     ]
    },
    {
     "name": "stderr",
     "output_type": "stream",
     "text": [
      "\rDictClassTransformer_VERBATIM fit:  74%|███████▍  | 7035572/9517064 [00:06<00:01, 1537868.78it/s]"
     ]
    },
    {
     "name": "stderr",
     "output_type": "stream",
     "text": [
      "\rDictClassTransformer_VERBATIM fit:  76%|███████▌  | 7198942/9517064 [00:06<00:01, 1565412.65it/s]"
     ]
    },
    {
     "name": "stderr",
     "output_type": "stream",
     "text": [
      "\rDictClassTransformer_VERBATIM fit:  77%|███████▋  | 7364163/9517064 [00:06<00:01, 1590478.30it/s]"
     ]
    },
    {
     "name": "stderr",
     "output_type": "stream",
     "text": [
      "\rDictClassTransformer_VERBATIM fit:  79%|███████▉  | 7524794/9517064 [00:06<00:01, 1595189.73it/s]"
     ]
    },
    {
     "name": "stderr",
     "output_type": "stream",
     "text": [
      "\rDictClassTransformer_VERBATIM fit:  81%|████████  | 7687133/9517064 [00:06<00:01, 1603542.32it/s]"
     ]
    },
    {
     "name": "stderr",
     "output_type": "stream",
     "text": [
      "\rDictClassTransformer_VERBATIM fit:  82%|████████▏ | 7849364/9517064 [00:06<00:01, 1609126.19it/s]"
     ]
    },
    {
     "name": "stderr",
     "output_type": "stream",
     "text": [
      "\rDictClassTransformer_VERBATIM fit:  84%|████████▍ | 8011777/9517064 [00:06<00:00, 1613594.02it/s]"
     ]
    },
    {
     "name": "stderr",
     "output_type": "stream",
     "text": [
      "\rDictClassTransformer_VERBATIM fit:  86%|████████▌ | 8173220/9517064 [00:06<00:00, 1609399.97it/s]"
     ]
    },
    {
     "name": "stderr",
     "output_type": "stream",
     "text": [
      "\rDictClassTransformer_VERBATIM fit:  88%|████████▊ | 8334221/9517064 [00:07<00:00, 1606974.95it/s]"
     ]
    },
    {
     "name": "stderr",
     "output_type": "stream",
     "text": [
      "\rDictClassTransformer_VERBATIM fit:  89%|████████▉ | 8494962/9517064 [00:07<00:00, 1601116.45it/s]"
     ]
    },
    {
     "name": "stderr",
     "output_type": "stream",
     "text": [
      "\rDictClassTransformer_VERBATIM fit:  91%|█████████ | 8655109/9517064 [00:07<00:00, 1590730.84it/s]"
     ]
    },
    {
     "name": "stderr",
     "output_type": "stream",
     "text": [
      "\rDictClassTransformer_VERBATIM fit:  93%|█████████▎| 8814223/9517064 [00:07<00:00, 1578180.97it/s]"
     ]
    },
    {
     "name": "stderr",
     "output_type": "stream",
     "text": [
      "\rDictClassTransformer_VERBATIM fit:  94%|█████████▍| 8974611/9517064 [00:07<00:00, 1585799.75it/s]"
     ]
    },
    {
     "name": "stderr",
     "output_type": "stream",
     "text": [
      "\rDictClassTransformer_VERBATIM fit:  96%|█████████▌| 9138198/9517064 [00:07<00:00, 1600495.34it/s]"
     ]
    },
    {
     "name": "stderr",
     "output_type": "stream",
     "text": [
      "\rDictClassTransformer_VERBATIM fit:  98%|█████████▊| 9301285/9517064 [00:07<00:00, 1609484.18it/s]"
     ]
    },
    {
     "name": "stderr",
     "output_type": "stream",
     "text": [
      "\rDictClassTransformer_VERBATIM fit:  99%|█████████▉| 9462290/9517064 [00:07<00:00, 1584658.03it/s]"
     ]
    },
    {
     "name": "stderr",
     "output_type": "stream",
     "text": [
      "\rDictClassTransformer_VERBATIM fit: 100%|██████████| 9517064/9517064 [00:08<00:00, 1187162.93it/s]"
     ]
    },
    {
     "name": "stderr",
     "output_type": "stream",
     "text": [
      "\n"
     ]
    },
    {
     "name": "stderr",
     "output_type": "stream",
     "text": [
      "\rDictNBHDTransformer fit:   0%|          | 0/9517064 [00:00<?, ?it/s]"
     ]
    },
    {
     "name": "stderr",
     "output_type": "stream",
     "text": [
      "\rDictNBHDTransformer fit:   0%|          | 6785/9517064 [00:00<13:54, 11395.07it/s]"
     ]
    },
    {
     "name": "stderr",
     "output_type": "stream",
     "text": [
      "\rDictNBHDTransformer fit:   1%|          | 54001/9517064 [00:00<09:47, 16112.02it/s]"
     ]
    },
    {
     "name": "stderr",
     "output_type": "stream",
     "text": [
      "\rDictNBHDTransformer fit:   1%|          | 94831/9517064 [00:00<06:56, 22634.36it/s]"
     ]
    },
    {
     "name": "stderr",
     "output_type": "stream",
     "text": [
      "\rDictNBHDTransformer fit:   1%|▏         | 140420/9517064 [00:00<04:56, 31661.11it/s]"
     ]
    },
    {
     "name": "stderr",
     "output_type": "stream",
     "text": [
      "\rDictNBHDTransformer fit:   2%|▏         | 188230/9517064 [00:00<03:32, 43981.88it/s]"
     ]
    },
    {
     "name": "stderr",
     "output_type": "stream",
     "text": [
      "\rDictNBHDTransformer fit:   2%|▏         | 223089/9517064 [00:01<03:35, 43183.60it/s]"
     ]
    },
    {
     "name": "stderr",
     "output_type": "stream",
     "text": [
      "\rDictNBHDTransformer fit:   3%|▎         | 269758/9517064 [00:01<02:35, 59337.69it/s]"
     ]
    },
    {
     "name": "stderr",
     "output_type": "stream",
     "text": [
      "\rDictNBHDTransformer fit:   3%|▎         | 314427/9517064 [00:02<01:54, 80202.11it/s]"
     ]
    },
    {
     "name": "stderr",
     "output_type": "stream",
     "text": [
      "\rDictNBHDTransformer fit:   4%|▍         | 359141/9517064 [00:02<01:26, 106395.49it/s]"
     ]
    },
    {
     "name": "stderr",
     "output_type": "stream",
     "text": [
      "\rDictNBHDTransformer fit:   4%|▍         | 400575/9517064 [00:02<01:06, 136924.83it/s]"
     ]
    },
    {
     "name": "stderr",
     "output_type": "stream",
     "text": [
      "\rDictNBHDTransformer fit:   5%|▍         | 446047/9517064 [00:02<00:52, 173248.78it/s]"
     ]
    },
    {
     "name": "stderr",
     "output_type": "stream",
     "text": [
      "\rDictNBHDTransformer fit:   5%|▌         | 491943/9517064 [00:02<00:42, 213033.85it/s]"
     ]
    },
    {
     "name": "stderr",
     "output_type": "stream",
     "text": [
      "\rDictNBHDTransformer fit:   6%|▌         | 537081/9517064 [00:02<00:35, 253117.28it/s]"
     ]
    },
    {
     "name": "stderr",
     "output_type": "stream",
     "text": [
      "\rDictNBHDTransformer fit:   6%|▌         | 582423/9517064 [00:02<00:30, 291786.08it/s]"
     ]
    },
    {
     "name": "stderr",
     "output_type": "stream",
     "text": [
      "\rDictNBHDTransformer fit:   7%|▋         | 627170/9517064 [00:02<00:27, 325790.08it/s]"
     ]
    },
    {
     "name": "stderr",
     "output_type": "stream",
     "text": [
      "\rDictNBHDTransformer fit:   7%|▋         | 672554/9517064 [00:02<00:24, 355916.26it/s]"
     ]
    },
    {
     "name": "stderr",
     "output_type": "stream",
     "text": [
      "\rDictNBHDTransformer fit:   8%|▊         | 717102/9517064 [00:02<00:23, 375765.27it/s]"
     ]
    },
    {
     "name": "stderr",
     "output_type": "stream",
     "text": [
      "\rDictNBHDTransformer fit:   8%|▊         | 762352/9517064 [00:03<00:22, 395905.67it/s]"
     ]
    },
    {
     "name": "stderr",
     "output_type": "stream",
     "text": [
      "\rDictNBHDTransformer fit:   8%|▊         | 806827/9517064 [00:03<00:24, 358169.90it/s]"
     ]
    },
    {
     "name": "stderr",
     "output_type": "stream",
     "text": [
      "\rDictNBHDTransformer fit:   9%|▉         | 852580/9517064 [00:03<00:22, 383130.70it/s]"
     ]
    },
    {
     "name": "stderr",
     "output_type": "stream",
     "text": [
      "\rDictNBHDTransformer fit:   9%|▉         | 897041/9517064 [00:03<00:21, 399705.66it/s]"
     ]
    },
    {
     "name": "stderr",
     "output_type": "stream",
     "text": [
      "\rDictNBHDTransformer fit:  10%|▉         | 941333/9517064 [00:03<00:20, 411756.58it/s]"
     ]
    },
    {
     "name": "stderr",
     "output_type": "stream",
     "text": [
      "\rDictNBHDTransformer fit:  10%|█         | 985911/9517064 [00:03<00:20, 421399.35it/s]"
     ]
    },
    {
     "name": "stderr",
     "output_type": "stream",
     "text": [
      "\rDictNBHDTransformer fit:  11%|█         | 1031965/9517064 [00:03<00:19, 432413.78it/s]"
     ]
    },
    {
     "name": "stderr",
     "output_type": "stream",
     "text": [
      "\rDictNBHDTransformer fit:  11%|█▏        | 1077590/9517064 [00:03<00:19, 439298.79it/s]"
     ]
    },
    {
     "name": "stderr",
     "output_type": "stream",
     "text": [
      "\rDictNBHDTransformer fit:  12%|█▏        | 1122265/9517064 [00:03<00:20, 411498.11it/s]"
     ]
    },
    {
     "name": "stderr",
     "output_type": "stream",
     "text": [
      "\rDictNBHDTransformer fit:  12%|█▏        | 1166797/9517064 [00:04<00:19, 421090.50it/s]"
     ]
    },
    {
     "name": "stderr",
     "output_type": "stream",
     "text": [
      "\rDictNBHDTransformer fit:  13%|█▎        | 1213170/9517064 [00:04<00:19, 433034.32it/s]"
     ]
    },
    {
     "name": "stderr",
     "output_type": "stream",
     "text": [
      "\rDictNBHDTransformer fit:  13%|█▎        | 1257028/9517064 [00:04<00:19, 432389.67it/s]"
     ]
    },
    {
     "name": "stderr",
     "output_type": "stream",
     "text": [
      "\rDictNBHDTransformer fit:  14%|█▎        | 1302827/9517064 [00:04<00:18, 439761.54it/s]"
     ]
    },
    {
     "name": "stderr",
     "output_type": "stream",
     "text": [
      "\rDictNBHDTransformer fit:  14%|█▍        | 1347106/9517064 [00:04<00:18, 439810.85it/s]"
     ]
    },
    {
     "name": "stderr",
     "output_type": "stream",
     "text": [
      "\rDictNBHDTransformer fit:  15%|█▍        | 1391299/9517064 [00:04<00:18, 429997.02it/s]"
     ]
    },
    {
     "name": "stderr",
     "output_type": "stream",
     "text": [
      "\rDictNBHDTransformer fit:  15%|█▌        | 1434496/9517064 [00:04<00:19, 408688.41it/s]"
     ]
    },
    {
     "name": "stderr",
     "output_type": "stream",
     "text": [
      "\rDictNBHDTransformer fit:  16%|█▌        | 1479055/9517064 [00:04<00:19, 419099.76it/s]"
     ]
    },
    {
     "name": "stderr",
     "output_type": "stream",
     "text": [
      "\rDictNBHDTransformer fit:  16%|█▌        | 1522201/9517064 [00:04<00:18, 422728.80it/s]"
     ]
    },
    {
     "name": "stderr",
     "output_type": "stream",
     "text": [
      "\rDictNBHDTransformer fit:  16%|█▋        | 1566512/9517064 [00:04<00:18, 428631.20it/s]"
     ]
    },
    {
     "name": "stderr",
     "output_type": "stream",
     "text": [
      "\rDictNBHDTransformer fit:  17%|█▋        | 1609556/9517064 [00:05<00:18, 429082.10it/s]"
     ]
    },
    {
     "name": "stderr",
     "output_type": "stream",
     "text": [
      "\rDictNBHDTransformer fit:  17%|█▋        | 1652591/9517064 [00:05<00:18, 423509.96it/s]"
     ]
    },
    {
     "name": "stderr",
     "output_type": "stream",
     "text": [
      "\rDictNBHDTransformer fit:  18%|█▊        | 1695047/9517064 [00:05<00:23, 333342.00it/s]"
     ]
    },
    {
     "name": "stderr",
     "output_type": "stream",
     "text": [
      "\rDictNBHDTransformer fit:  18%|█▊        | 1731448/9517064 [00:05<00:22, 339529.49it/s]"
     ]
    },
    {
     "name": "stderr",
     "output_type": "stream",
     "text": [
      "\rDictNBHDTransformer fit:  19%|█▊        | 1767576/9517064 [00:05<00:22, 345395.91it/s]"
     ]
    },
    {
     "name": "stderr",
     "output_type": "stream",
     "text": [
      "\rDictNBHDTransformer fit:  19%|█▉        | 1808808/9517064 [00:05<00:21, 363073.28it/s]"
     ]
    },
    {
     "name": "stderr",
     "output_type": "stream",
     "text": [
      "\rDictNBHDTransformer fit:  19%|█▉        | 1846438/9517064 [00:06<01:11, 107301.84it/s]"
     ]
    },
    {
     "name": "stderr",
     "output_type": "stream",
     "text": [
      "\rDictNBHDTransformer fit:  20%|█▉        | 1884255/9517064 [00:06<00:55, 136666.81it/s]"
     ]
    },
    {
     "name": "stderr",
     "output_type": "stream",
     "text": [
      "\rDictNBHDTransformer fit:  20%|██        | 1925806/9517064 [00:06<00:44, 171117.10it/s]"
     ]
    },
    {
     "name": "stderr",
     "output_type": "stream",
     "text": [
      "\rDictNBHDTransformer fit:  21%|██        | 1968938/9517064 [00:06<00:36, 208929.24it/s]"
     ]
    },
    {
     "name": "stderr",
     "output_type": "stream",
     "text": [
      "\rDictNBHDTransformer fit:  21%|██        | 2012631/9517064 [00:06<00:30, 247707.07it/s]"
     ]
    },
    {
     "name": "stderr",
     "output_type": "stream",
     "text": [
      "\rDictNBHDTransformer fit:  22%|██▏       | 2051413/9517064 [00:07<00:27, 276206.12it/s]"
     ]
    },
    {
     "name": "stderr",
     "output_type": "stream",
     "text": [
      "\rDictNBHDTransformer fit:  22%|██▏       | 2089887/9517064 [00:07<00:25, 286125.28it/s]"
     ]
    },
    {
     "name": "stderr",
     "output_type": "stream",
     "text": [
      "\rDictNBHDTransformer fit:  22%|██▏       | 2129193/9517064 [00:07<00:23, 311551.13it/s]"
     ]
    },
    {
     "name": "stderr",
     "output_type": "stream",
     "text": [
      "\rDictNBHDTransformer fit:  23%|██▎       | 2169655/9517064 [00:07<00:21, 334636.21it/s]"
     ]
    },
    {
     "name": "stderr",
     "output_type": "stream",
     "text": [
      "\rDictNBHDTransformer fit:  23%|██▎       | 2213710/9517064 [00:07<00:20, 360645.87it/s]"
     ]
    },
    {
     "name": "stderr",
     "output_type": "stream",
     "text": [
      "\rDictNBHDTransformer fit:  24%|██▎       | 2256918/9517064 [00:07<00:19, 379465.74it/s]"
     ]
    },
    {
     "name": "stderr",
     "output_type": "stream",
     "text": [
      "\rDictNBHDTransformer fit:  24%|██▍       | 2298610/9517064 [00:07<00:18, 389975.70it/s]"
     ]
    },
    {
     "name": "stderr",
     "output_type": "stream",
     "text": [
      "\rDictNBHDTransformer fit:  25%|██▍       | 2341555/9517064 [00:07<00:17, 401031.04it/s]"
     ]
    },
    {
     "name": "stderr",
     "output_type": "stream",
     "text": [
      "\rDictNBHDTransformer fit:  25%|██▌       | 2383245/9517064 [00:07<00:17, 405012.10it/s]"
     ]
    },
    {
     "name": "stderr",
     "output_type": "stream",
     "text": [
      "\rDictNBHDTransformer fit:  25%|██▌       | 2425624/9517064 [00:07<00:17, 410467.08it/s]"
     ]
    },
    {
     "name": "stderr",
     "output_type": "stream",
     "text": [
      "\rDictNBHDTransformer fit:  26%|██▌       | 2467473/9517064 [00:08<00:17, 411204.58it/s]"
     ]
    },
    {
     "name": "stderr",
     "output_type": "stream",
     "text": [
      "\rDictNBHDTransformer fit:  26%|██▋       | 2509156/9517064 [00:08<00:17, 411690.67it/s]"
     ]
    },
    {
     "name": "stderr",
     "output_type": "stream",
     "text": [
      "\rDictNBHDTransformer fit:  27%|██▋       | 2551042/9517064 [00:08<00:16, 413815.39it/s]"
     ]
    },
    {
     "name": "stderr",
     "output_type": "stream",
     "text": [
      "\rDictNBHDTransformer fit:  27%|██▋       | 2592821/9517064 [00:08<00:16, 414992.56it/s]"
     ]
    },
    {
     "name": "stderr",
     "output_type": "stream",
     "text": [
      "\rDictNBHDTransformer fit:  28%|██▊       | 2634895/9517064 [00:08<00:16, 416686.48it/s]"
     ]
    },
    {
     "name": "stderr",
     "output_type": "stream",
     "text": [
      "\rDictNBHDTransformer fit:  28%|██▊       | 2676702/9517064 [00:08<00:16, 412979.59it/s]"
     ]
    },
    {
     "name": "stderr",
     "output_type": "stream",
     "text": [
      "\rDictNBHDTransformer fit:  29%|██▊       | 2718105/9517064 [00:08<00:16, 410790.39it/s]"
     ]
    },
    {
     "name": "stderr",
     "output_type": "stream",
     "text": [
      "\rDictNBHDTransformer fit:  29%|██▉       | 2759380/9517064 [00:08<00:16, 411375.26it/s]"
     ]
    },
    {
     "name": "stderr",
     "output_type": "stream",
     "text": [
      "\rDictNBHDTransformer fit:  29%|██▉       | 2801829/9517064 [00:08<00:16, 415222.46it/s]"
     ]
    },
    {
     "name": "stderr",
     "output_type": "stream",
     "text": [
      "\rDictNBHDTransformer fit:  30%|██▉       | 2845024/9517064 [00:09<00:15, 420102.04it/s]"
     ]
    },
    {
     "name": "stderr",
     "output_type": "stream",
     "text": [
      "\rDictNBHDTransformer fit:  30%|███       | 2887378/9517064 [00:09<00:15, 421127.37it/s]"
     ]
    },
    {
     "name": "stderr",
     "output_type": "stream",
     "text": [
      "\rDictNBHDTransformer fit:  31%|███       | 2929524/9517064 [00:09<00:16, 405996.21it/s]"
     ]
    },
    {
     "name": "stderr",
     "output_type": "stream",
     "text": [
      "\rDictNBHDTransformer fit:  31%|███       | 2970264/9517064 [00:09<00:16, 403732.45it/s]"
     ]
    },
    {
     "name": "stderr",
     "output_type": "stream",
     "text": [
      "\rDictNBHDTransformer fit:  32%|███▏      | 3011009/9517064 [00:09<00:16, 404839.25it/s]"
     ]
    },
    {
     "name": "stderr",
     "output_type": "stream",
     "text": [
      "\rDictNBHDTransformer fit:  32%|███▏      | 3052057/9517064 [00:09<00:15, 406511.79it/s]"
     ]
    },
    {
     "name": "stderr",
     "output_type": "stream",
     "text": [
      "\rDictNBHDTransformer fit:  33%|███▎      | 3093273/9517064 [00:09<00:15, 408189.76it/s]"
     ]
    },
    {
     "name": "stderr",
     "output_type": "stream",
     "text": [
      "\rDictNBHDTransformer fit:  33%|███▎      | 3134130/9517064 [00:09<00:15, 404373.48it/s]"
     ]
    },
    {
     "name": "stderr",
     "output_type": "stream",
     "text": [
      "\rDictNBHDTransformer fit:  33%|███▎      | 3176987/9517064 [00:09<00:15, 411338.18it/s]"
     ]
    },
    {
     "name": "stderr",
     "output_type": "stream",
     "text": [
      "\rDictNBHDTransformer fit:  34%|███▍      | 3218175/9517064 [00:09<00:15, 409945.15it/s]"
     ]
    },
    {
     "name": "stderr",
     "output_type": "stream",
     "text": [
      "\rDictNBHDTransformer fit:  34%|███▍      | 3260292/9517064 [00:10<00:15, 413238.37it/s]"
     ]
    },
    {
     "name": "stderr",
     "output_type": "stream",
     "text": [
      "\rDictNBHDTransformer fit:  35%|███▍      | 3301650/9517064 [00:10<00:15, 404983.08it/s]"
     ]
    },
    {
     "name": "stderr",
     "output_type": "stream",
     "text": [
      "\rDictNBHDTransformer fit:  35%|███▌      | 3342209/9517064 [00:10<00:16, 381325.43it/s]"
     ]
    },
    {
     "name": "stderr",
     "output_type": "stream",
     "text": [
      "\rDictNBHDTransformer fit:  36%|███▌      | 3380668/9517064 [00:10<00:17, 345547.20it/s]"
     ]
    },
    {
     "name": "stderr",
     "output_type": "stream",
     "text": [
      "\rDictNBHDTransformer fit:  36%|███▌      | 3421661/9517064 [00:10<00:16, 362628.60it/s]"
     ]
    },
    {
     "name": "stderr",
     "output_type": "stream",
     "text": [
      "\rDictNBHDTransformer fit:  36%|███▋      | 3458757/9517064 [00:10<00:16, 364520.20it/s]"
     ]
    },
    {
     "name": "stderr",
     "output_type": "stream",
     "text": [
      "\rDictNBHDTransformer fit:  37%|███▋      | 3495794/9517064 [00:11<01:09, 86800.49it/s] "
     ]
    },
    {
     "name": "stderr",
     "output_type": "stream",
     "text": [
      "\rDictNBHDTransformer fit:  37%|███▋      | 3522658/9517064 [00:12<01:10, 84760.78it/s]"
     ]
    },
    {
     "name": "stderr",
     "output_type": "stream",
     "text": [
      "\rDictNBHDTransformer fit:  37%|███▋      | 3558784/9517064 [00:12<00:54, 110022.55it/s]"
     ]
    },
    {
     "name": "stderr",
     "output_type": "stream",
     "text": [
      "\rDictNBHDTransformer fit:  38%|███▊      | 3595059/9517064 [00:12<00:42, 139094.35it/s]"
     ]
    },
    {
     "name": "stderr",
     "output_type": "stream",
     "text": [
      "\rDictNBHDTransformer fit:  38%|███▊      | 3633365/9517064 [00:12<00:34, 171947.43it/s]"
     ]
    },
    {
     "name": "stderr",
     "output_type": "stream",
     "text": [
      "\rDictNBHDTransformer fit:  39%|███▊      | 3672747/9517064 [00:12<00:28, 206919.22it/s]"
     ]
    },
    {
     "name": "stderr",
     "output_type": "stream",
     "text": [
      "\rDictNBHDTransformer fit:  39%|███▉      | 3709254/9517064 [00:12<00:24, 237827.29it/s]"
     ]
    },
    {
     "name": "stderr",
     "output_type": "stream",
     "text": [
      "\rDictNBHDTransformer fit:  39%|███▉      | 3744007/9517064 [00:12<00:22, 260746.83it/s]"
     ]
    },
    {
     "name": "stderr",
     "output_type": "stream",
     "text": [
      "\rDictNBHDTransformer fit:  40%|███▉      | 3778426/9517064 [00:12<00:20, 280791.71it/s]"
     ]
    },
    {
     "name": "stderr",
     "output_type": "stream",
     "text": [
      "\rDictNBHDTransformer fit:  40%|████      | 3814294/9517064 [00:12<00:18, 300357.99it/s]"
     ]
    },
    {
     "name": "stderr",
     "output_type": "stream",
     "text": [
      "\rDictNBHDTransformer fit:  40%|████      | 3851778/9517064 [00:13<00:17, 319394.58it/s]"
     ]
    },
    {
     "name": "stderr",
     "output_type": "stream",
     "text": [
      "\rDictNBHDTransformer fit:  41%|████      | 3887391/9517064 [00:13<00:17, 326592.52it/s]"
     ]
    },
    {
     "name": "stderr",
     "output_type": "stream",
     "text": [
      "\rDictNBHDTransformer fit:  41%|████▏     | 3926341/9517064 [00:13<00:16, 343220.64it/s]"
     ]
    },
    {
     "name": "stderr",
     "output_type": "stream",
     "text": [
      "\rDictNBHDTransformer fit:  42%|████▏     | 3966090/9517064 [00:13<00:15, 357872.43it/s]"
     ]
    },
    {
     "name": "stderr",
     "output_type": "stream",
     "text": [
      "\rDictNBHDTransformer fit:  42%|████▏     | 4003476/9517064 [00:13<00:15, 359497.67it/s]"
     ]
    },
    {
     "name": "stderr",
     "output_type": "stream",
     "text": [
      "\rDictNBHDTransformer fit:  42%|████▏     | 4040547/9517064 [00:13<00:15, 356616.45it/s]"
     ]
    },
    {
     "name": "stderr",
     "output_type": "stream",
     "text": [
      "\rDictNBHDTransformer fit:  43%|████▎     | 4082151/9517064 [00:13<00:14, 372578.33it/s]"
     ]
    },
    {
     "name": "stderr",
     "output_type": "stream",
     "text": [
      "\rDictNBHDTransformer fit:  43%|████▎     | 4121526/9517064 [00:13<00:14, 378685.65it/s]"
     ]
    },
    {
     "name": "stderr",
     "output_type": "stream",
     "text": [
      "\rDictNBHDTransformer fit:  44%|████▎     | 4159937/9517064 [00:13<00:14, 377890.34it/s]"
     ]
    },
    {
     "name": "stderr",
     "output_type": "stream",
     "text": [
      "\rDictNBHDTransformer fit:  44%|████▍     | 4199306/9517064 [00:13<00:13, 382493.17it/s]"
     ]
    },
    {
     "name": "stderr",
     "output_type": "stream",
     "text": [
      "\rDictNBHDTransformer fit:  45%|████▍     | 4237835/9517064 [00:14<00:13, 381426.70it/s]"
     ]
    },
    {
     "name": "stderr",
     "output_type": "stream",
     "text": [
      "\rDictNBHDTransformer fit:  45%|████▍     | 4276174/9517064 [00:14<00:16, 324416.19it/s]"
     ]
    },
    {
     "name": "stderr",
     "output_type": "stream",
     "text": [
      "\rDictNBHDTransformer fit:  45%|████▌     | 4310228/9517064 [00:14<00:16, 321686.68it/s]"
     ]
    },
    {
     "name": "stderr",
     "output_type": "stream",
     "text": [
      "\rDictNBHDTransformer fit:  46%|████▌     | 4343530/9517064 [00:14<00:19, 267675.05it/s]"
     ]
    },
    {
     "name": "stderr",
     "output_type": "stream",
     "text": [
      "\rDictNBHDTransformer fit:  46%|████▌     | 4373487/9517064 [00:14<00:18, 276505.31it/s]"
     ]
    },
    {
     "name": "stderr",
     "output_type": "stream",
     "text": [
      "\rDictNBHDTransformer fit:  46%|████▋     | 4407151/9517064 [00:14<00:17, 292161.52it/s]"
     ]
    },
    {
     "name": "stderr",
     "output_type": "stream",
     "text": [
      "\rDictNBHDTransformer fit:  47%|████▋     | 4437791/9517064 [00:14<00:17, 292380.93it/s]"
     ]
    },
    {
     "name": "stderr",
     "output_type": "stream",
     "text": [
      "\rDictNBHDTransformer fit:  47%|████▋     | 4468026/9517064 [00:14<00:18, 278722.41it/s]"
     ]
    },
    {
     "name": "stderr",
     "output_type": "stream",
     "text": [
      "\rDictNBHDTransformer fit:  47%|████▋     | 4503298/9517064 [00:14<00:16, 297438.08it/s]"
     ]
    },
    {
     "name": "stderr",
     "output_type": "stream",
     "text": [
      "\rDictNBHDTransformer fit:  48%|████▊     | 4540562/9517064 [00:15<00:15, 316604.96it/s]"
     ]
    },
    {
     "name": "stderr",
     "output_type": "stream",
     "text": [
      "\rDictNBHDTransformer fit:  48%|████▊     | 4578034/9517064 [00:15<00:14, 332054.25it/s]"
     ]
    },
    {
     "name": "stderr",
     "output_type": "stream",
     "text": [
      "\rDictNBHDTransformer fit:  48%|████▊     | 4612132/9517064 [00:15<00:14, 332610.93it/s]"
     ]
    },
    {
     "name": "stderr",
     "output_type": "stream",
     "text": [
      "\rDictNBHDTransformer fit:  49%|████▉     | 4648087/9517064 [00:15<00:14, 340258.21it/s]"
     ]
    },
    {
     "name": "stderr",
     "output_type": "stream",
     "text": [
      "\rDictNBHDTransformer fit:  49%|████▉     | 4682594/9517064 [00:15<00:14, 338204.43it/s]"
     ]
    },
    {
     "name": "stderr",
     "output_type": "stream",
     "text": [
      "\rDictNBHDTransformer fit:  50%|████▉     | 4716754/9517064 [00:15<00:14, 334640.21it/s]"
     ]
    },
    {
     "name": "stderr",
     "output_type": "stream",
     "text": [
      "\rDictNBHDTransformer fit:  50%|████▉     | 4753094/9517064 [00:15<00:13, 342777.49it/s]"
     ]
    },
    {
     "name": "stderr",
     "output_type": "stream",
     "text": [
      "\rDictNBHDTransformer fit:  50%|█████     | 4792864/9517064 [00:15<00:13, 357583.94it/s]"
     ]
    },
    {
     "name": "stderr",
     "output_type": "stream",
     "text": [
      "\rDictNBHDTransformer fit:  51%|█████     | 4832158/9517064 [00:15<00:12, 367503.27it/s]"
     ]
    },
    {
     "name": "stderr",
     "output_type": "stream",
     "text": [
      "\rDictNBHDTransformer fit:  51%|█████     | 4871155/9517064 [00:16<00:12, 373966.54it/s]"
     ]
    },
    {
     "name": "stderr",
     "output_type": "stream",
     "text": [
      "\rDictNBHDTransformer fit:  52%|█████▏    | 4910383/9517064 [00:16<00:12, 379277.54it/s]"
     ]
    },
    {
     "name": "stderr",
     "output_type": "stream",
     "text": [
      "\rDictNBHDTransformer fit:  52%|█████▏    | 4951169/9517064 [00:16<00:11, 387421.40it/s]"
     ]
    },
    {
     "name": "stderr",
     "output_type": "stream",
     "text": [
      "\rDictNBHDTransformer fit:  52%|█████▏    | 4990081/9517064 [00:16<00:11, 380634.63it/s]"
     ]
    },
    {
     "name": "stderr",
     "output_type": "stream",
     "text": [
      "\rDictNBHDTransformer fit:  53%|█████▎    | 5028957/9517064 [00:16<00:11, 383034.03it/s]"
     ]
    },
    {
     "name": "stderr",
     "output_type": "stream",
     "text": [
      "\rDictNBHDTransformer fit:  53%|█████▎    | 5067390/9517064 [00:16<00:11, 383420.64it/s]"
     ]
    },
    {
     "name": "stderr",
     "output_type": "stream",
     "text": [
      "\rDictNBHDTransformer fit:  54%|█████▎    | 5105882/9517064 [00:16<00:11, 383866.87it/s]"
     ]
    },
    {
     "name": "stderr",
     "output_type": "stream",
     "text": [
      "\rDictNBHDTransformer fit:  54%|█████▍    | 5145732/9517064 [00:16<00:11, 388132.54it/s]"
     ]
    },
    {
     "name": "stderr",
     "output_type": "stream",
     "text": [
      "\rDictNBHDTransformer fit:  54%|█████▍    | 5185920/9517064 [00:16<00:11, 392155.74it/s]"
     ]
    },
    {
     "name": "stderr",
     "output_type": "stream",
     "text": [
      "\rDictNBHDTransformer fit:  55%|█████▍    | 5225843/9517064 [00:16<00:10, 394248.32it/s]"
     ]
    },
    {
     "name": "stderr",
     "output_type": "stream",
     "text": [
      "\rDictNBHDTransformer fit:  55%|█████▌    | 5265301/9517064 [00:17<00:10, 393159.34it/s]"
     ]
    },
    {
     "name": "stderr",
     "output_type": "stream",
     "text": [
      "\rDictNBHDTransformer fit:  56%|█████▌    | 5305408/9517064 [00:17<00:10, 395497.18it/s]"
     ]
    },
    {
     "name": "stderr",
     "output_type": "stream",
     "text": [
      "\rDictNBHDTransformer fit:  56%|█████▌    | 5345885/9517064 [00:17<00:10, 398231.98it/s]"
     ]
    },
    {
     "name": "stderr",
     "output_type": "stream",
     "text": [
      "\rDictNBHDTransformer fit:  57%|█████▋    | 5386009/9517064 [00:17<00:10, 399126.06it/s]"
     ]
    },
    {
     "name": "stderr",
     "output_type": "stream",
     "text": [
      "\rDictNBHDTransformer fit:  57%|█████▋    | 5425935/9517064 [00:17<00:10, 385424.58it/s]"
     ]
    },
    {
     "name": "stderr",
     "output_type": "stream",
     "text": [
      "\rDictNBHDTransformer fit:  57%|█████▋    | 5464589/9517064 [00:18<00:43, 92372.36it/s] "
     ]
    },
    {
     "name": "stderr",
     "output_type": "stream",
     "text": [
      "\rDictNBHDTransformer fit:  58%|█████▊    | 5501622/9517064 [00:18<00:33, 119216.25it/s]"
     ]
    },
    {
     "name": "stderr",
     "output_type": "stream",
     "text": [
      "\rDictNBHDTransformer fit:  58%|█████▊    | 5538262/9517064 [00:18<00:26, 149464.92it/s]"
     ]
    },
    {
     "name": "stderr",
     "output_type": "stream",
     "text": [
      "\rDictNBHDTransformer fit:  59%|█████▊    | 5575608/9517064 [00:18<00:21, 182256.94it/s]"
     ]
    },
    {
     "name": "stderr",
     "output_type": "stream",
     "text": [
      "\rDictNBHDTransformer fit:  59%|█████▉    | 5613357/9517064 [00:18<00:18, 215728.51it/s]"
     ]
    },
    {
     "name": "stderr",
     "output_type": "stream",
     "text": [
      "\rDictNBHDTransformer fit:  59%|█████▉    | 5652088/9517064 [00:19<00:15, 248793.41it/s]"
     ]
    },
    {
     "name": "stderr",
     "output_type": "stream",
     "text": [
      "\rDictNBHDTransformer fit:  60%|█████▉    | 5688792/9517064 [00:19<00:13, 275405.32it/s]"
     ]
    },
    {
     "name": "stderr",
     "output_type": "stream",
     "text": [
      "\rDictNBHDTransformer fit:  60%|██████    | 5725868/9517064 [00:19<00:12, 298429.63it/s]"
     ]
    },
    {
     "name": "stderr",
     "output_type": "stream",
     "text": [
      "\rDictNBHDTransformer fit:  61%|██████    | 5763771/9517064 [00:19<00:11, 318763.51it/s]"
     ]
    },
    {
     "name": "stderr",
     "output_type": "stream",
     "text": [
      "\rDictNBHDTransformer fit:  61%|██████    | 5802147/9517064 [00:19<00:11, 335826.21it/s]"
     ]
    },
    {
     "name": "stderr",
     "output_type": "stream",
     "text": [
      "\rDictNBHDTransformer fit:  61%|██████▏   | 5841275/9517064 [00:19<00:10, 350733.11it/s]"
     ]
    },
    {
     "name": "stderr",
     "output_type": "stream",
     "text": [
      "\rDictNBHDTransformer fit:  62%|██████▏   | 5881273/9517064 [00:19<00:09, 364183.93it/s]"
     ]
    },
    {
     "name": "stderr",
     "output_type": "stream",
     "text": [
      "\rDictNBHDTransformer fit:  62%|██████▏   | 5919809/9517064 [00:19<00:09, 366771.43it/s]"
     ]
    },
    {
     "name": "stderr",
     "output_type": "stream",
     "text": [
      "\rDictNBHDTransformer fit:  63%|██████▎   | 5958894/9517064 [00:19<00:09, 373668.02it/s]"
     ]
    },
    {
     "name": "stderr",
     "output_type": "stream",
     "text": [
      "\rDictNBHDTransformer fit:  63%|██████▎   | 5997333/9517064 [00:20<00:09, 356501.17it/s]"
     ]
    },
    {
     "name": "stderr",
     "output_type": "stream",
     "text": [
      "\rDictNBHDTransformer fit:  63%|██████▎   | 6033900/9517064 [00:20<00:10, 338409.90it/s]"
     ]
    },
    {
     "name": "stderr",
     "output_type": "stream",
     "text": [
      "\rDictNBHDTransformer fit:  64%|██████▍   | 6068575/9517064 [00:20<00:10, 331699.59it/s]"
     ]
    },
    {
     "name": "stderr",
     "output_type": "stream",
     "text": [
      "\rDictNBHDTransformer fit:  64%|██████▍   | 6102358/9517064 [00:20<00:10, 330483.95it/s]"
     ]
    },
    {
     "name": "stderr",
     "output_type": "stream",
     "text": [
      "\rDictNBHDTransformer fit:  64%|██████▍   | 6135837/9517064 [00:20<00:10, 328139.85it/s]"
     ]
    },
    {
     "name": "stderr",
     "output_type": "stream",
     "text": [
      "\rDictNBHDTransformer fit:  65%|██████▍   | 6170735/9517064 [00:20<00:10, 334123.81it/s]"
     ]
    },
    {
     "name": "stderr",
     "output_type": "stream",
     "text": [
      "\rDictNBHDTransformer fit:  65%|██████▌   | 6204765/9517064 [00:20<00:09, 335934.12it/s]"
     ]
    },
    {
     "name": "stderr",
     "output_type": "stream",
     "text": [
      "\rDictNBHDTransformer fit:  66%|██████▌   | 6238529/9517064 [00:20<00:09, 334687.32it/s]"
     ]
    },
    {
     "name": "stderr",
     "output_type": "stream",
     "text": [
      "\rDictNBHDTransformer fit:  66%|██████▌   | 6272338/9517064 [00:20<00:09, 335688.85it/s]"
     ]
    },
    {
     "name": "stderr",
     "output_type": "stream",
     "text": [
      "\rDictNBHDTransformer fit:  66%|██████▋   | 6309974/9517064 [00:20<00:09, 346935.25it/s]"
     ]
    },
    {
     "name": "stderr",
     "output_type": "stream",
     "text": [
      "\rDictNBHDTransformer fit:  67%|██████▋   | 6347810/9517064 [00:21<00:08, 355799.47it/s]"
     ]
    },
    {
     "name": "stderr",
     "output_type": "stream",
     "text": [
      "\rDictNBHDTransformer fit:  67%|██████▋   | 6385177/9517064 [00:21<00:08, 360977.89it/s]"
     ]
    },
    {
     "name": "stderr",
     "output_type": "stream",
     "text": [
      "\rDictNBHDTransformer fit:  67%|██████▋   | 6423768/9517064 [00:21<00:08, 368107.15it/s]"
     ]
    },
    {
     "name": "stderr",
     "output_type": "stream",
     "text": [
      "\rDictNBHDTransformer fit:  68%|██████▊   | 6460707/9517064 [00:21<00:09, 329983.81it/s]"
     ]
    },
    {
     "name": "stderr",
     "output_type": "stream",
     "text": [
      "\rDictNBHDTransformer fit:  68%|██████▊   | 6494537/9517064 [00:21<00:10, 288529.94it/s]"
     ]
    },
    {
     "name": "stderr",
     "output_type": "stream",
     "text": [
      "\rDictNBHDTransformer fit:  69%|██████▊   | 6524912/9517064 [00:21<00:10, 289663.43it/s]"
     ]
    },
    {
     "name": "stderr",
     "output_type": "stream",
     "text": [
      "\rDictNBHDTransformer fit:  69%|██████▉   | 6554945/9517064 [00:21<00:13, 226890.34it/s]"
     ]
    },
    {
     "name": "stderr",
     "output_type": "stream",
     "text": [
      "\rDictNBHDTransformer fit:  69%|██████▉   | 6586039/9517064 [00:21<00:11, 246911.93it/s]"
     ]
    },
    {
     "name": "stderr",
     "output_type": "stream",
     "text": [
      "\rDictNBHDTransformer fit:  69%|██████▉   | 6613248/9517064 [00:22<00:11, 243072.65it/s]"
     ]
    },
    {
     "name": "stderr",
     "output_type": "stream",
     "text": [
      "\rDictNBHDTransformer fit:  70%|██████▉   | 6639331/9517064 [00:22<00:12, 235282.63it/s]"
     ]
    },
    {
     "name": "stderr",
     "output_type": "stream",
     "text": [
      "\rDictNBHDTransformer fit:  70%|███████   | 6664157/9517064 [00:22<00:12, 237428.47it/s]"
     ]
    },
    {
     "name": "stderr",
     "output_type": "stream",
     "text": [
      "\rDictNBHDTransformer fit:  70%|███████   | 6696863/9517064 [00:22<00:10, 258696.78it/s]"
     ]
    },
    {
     "name": "stderr",
     "output_type": "stream",
     "text": [
      "\rDictNBHDTransformer fit:  71%|███████   | 6727355/9517064 [00:22<00:10, 271020.68it/s]"
     ]
    },
    {
     "name": "stderr",
     "output_type": "stream",
     "text": [
      "\rDictNBHDTransformer fit:  71%|███████   | 6760689/9517064 [00:22<00:09, 287123.60it/s]"
     ]
    },
    {
     "name": "stderr",
     "output_type": "stream",
     "text": [
      "\rDictNBHDTransformer fit:  71%|███████▏  | 6795869/9517064 [00:22<00:08, 303883.11it/s]"
     ]
    },
    {
     "name": "stderr",
     "output_type": "stream",
     "text": [
      "\rDictNBHDTransformer fit:  72%|███████▏  | 6830917/9517064 [00:22<00:08, 316506.21it/s]"
     ]
    },
    {
     "name": "stderr",
     "output_type": "stream",
     "text": [
      "\rDictNBHDTransformer fit:  72%|███████▏  | 6866898/9517064 [00:22<00:08, 328360.05it/s]"
     ]
    },
    {
     "name": "stderr",
     "output_type": "stream",
     "text": [
      "\rDictNBHDTransformer fit:  73%|███████▎  | 6901726/9517064 [00:22<00:07, 334091.78it/s]"
     ]
    },
    {
     "name": "stderr",
     "output_type": "stream",
     "text": [
      "\rDictNBHDTransformer fit:  73%|███████▎  | 6935626/9517064 [00:23<00:07, 325989.02it/s]"
     ]
    },
    {
     "name": "stderr",
     "output_type": "stream",
     "text": [
      "\rDictNBHDTransformer fit:  73%|███████▎  | 6968612/9517064 [00:23<00:07, 318759.64it/s]"
     ]
    },
    {
     "name": "stderr",
     "output_type": "stream",
     "text": [
      "\rDictNBHDTransformer fit:  74%|███████▎  | 7000795/9517064 [00:23<00:07, 316197.80it/s]"
     ]
    },
    {
     "name": "stderr",
     "output_type": "stream",
     "text": [
      "\rDictNBHDTransformer fit:  74%|███████▍  | 7032634/9517064 [00:23<00:07, 316699.31it/s]"
     ]
    },
    {
     "name": "stderr",
     "output_type": "stream",
     "text": [
      "\rDictNBHDTransformer fit:  74%|███████▍  | 7064458/9517064 [00:23<00:07, 313720.18it/s]"
     ]
    },
    {
     "name": "stderr",
     "output_type": "stream",
     "text": [
      "\rDictNBHDTransformer fit:  75%|███████▍  | 7096216/9517064 [00:23<00:07, 314868.11it/s]"
     ]
    },
    {
     "name": "stderr",
     "output_type": "stream",
     "text": [
      "\rDictNBHDTransformer fit:  75%|███████▍  | 7128534/9517064 [00:23<00:07, 317313.62it/s]"
     ]
    },
    {
     "name": "stderr",
     "output_type": "stream",
     "text": [
      "\rDictNBHDTransformer fit:  75%|███████▌  | 7160327/9517064 [00:23<00:07, 314796.30it/s]"
     ]
    },
    {
     "name": "stderr",
     "output_type": "stream",
     "text": [
      "\rDictNBHDTransformer fit:  76%|███████▌  | 7191854/9517064 [00:23<00:07, 314743.83it/s]"
     ]
    },
    {
     "name": "stderr",
     "output_type": "stream",
     "text": [
      "\rDictNBHDTransformer fit:  76%|███████▌  | 7223362/9517064 [00:24<00:07, 313719.77it/s]"
     ]
    },
    {
     "name": "stderr",
     "output_type": "stream",
     "text": [
      "\rDictNBHDTransformer fit:  76%|███████▌  | 7255928/9517064 [00:24<00:07, 317206.10it/s]"
     ]
    },
    {
     "name": "stderr",
     "output_type": "stream",
     "text": [
      "\rDictNBHDTransformer fit:  77%|███████▋  | 7291967/9517064 [00:24<00:06, 329024.94it/s]"
     ]
    },
    {
     "name": "stderr",
     "output_type": "stream",
     "text": [
      "\rDictNBHDTransformer fit:  77%|███████▋  | 7325001/9517064 [00:24<00:06, 319371.11it/s]"
     ]
    },
    {
     "name": "stderr",
     "output_type": "stream",
     "text": [
      "\rDictNBHDTransformer fit:  77%|███████▋  | 7358683/9517064 [00:24<00:06, 324412.37it/s]"
     ]
    },
    {
     "name": "stderr",
     "output_type": "stream",
     "text": [
      "\rDictNBHDTransformer fit:  78%|███████▊  | 7391251/9517064 [00:24<00:06, 316901.53it/s]"
     ]
    },
    {
     "name": "stderr",
     "output_type": "stream",
     "text": [
      "\rDictNBHDTransformer fit:  78%|███████▊  | 7424774/9517064 [00:24<00:06, 322184.22it/s]"
     ]
    },
    {
     "name": "stderr",
     "output_type": "stream",
     "text": [
      "\rDictNBHDTransformer fit:  78%|███████▊  | 7457103/9517064 [00:25<00:17, 119295.26it/s]"
     ]
    },
    {
     "name": "stderr",
     "output_type": "stream",
     "text": [
      "\rDictNBHDTransformer fit:  79%|███████▊  | 7491740/9517064 [00:25<00:13, 148501.52it/s]"
     ]
    },
    {
     "name": "stderr",
     "output_type": "stream",
     "text": [
      "\rDictNBHDTransformer fit:  79%|███████▉  | 7526478/9517064 [00:25<00:11, 179295.93it/s]"
     ]
    },
    {
     "name": "stderr",
     "output_type": "stream",
     "text": [
      "\rDictNBHDTransformer fit:  79%|███████▉  | 7558279/9517064 [00:25<00:09, 206288.04it/s]"
     ]
    },
    {
     "name": "stderr",
     "output_type": "stream",
     "text": [
      "\rDictNBHDTransformer fit:  80%|███████▉  | 7590755/9517064 [00:25<00:08, 231636.96it/s]"
     ]
    },
    {
     "name": "stderr",
     "output_type": "stream",
     "text": [
      "\rDictNBHDTransformer fit:  80%|████████  | 7627079/9517064 [00:25<00:07, 259883.39it/s]"
     ]
    },
    {
     "name": "stderr",
     "output_type": "stream",
     "text": [
      "\rDictNBHDTransformer fit:  81%|████████  | 7662850/9517064 [00:25<00:06, 283110.87it/s]"
     ]
    },
    {
     "name": "stderr",
     "output_type": "stream",
     "text": [
      "\rDictNBHDTransformer fit:  81%|████████  | 7700223/9517064 [00:25<00:05, 305318.85it/s]"
     ]
    },
    {
     "name": "stderr",
     "output_type": "stream",
     "text": [
      "\rDictNBHDTransformer fit:  81%|████████▏ | 7734876/9517064 [00:27<00:29, 60427.88it/s] "
     ]
    },
    {
     "name": "stderr",
     "output_type": "stream",
     "text": [
      "\rDictNBHDTransformer fit:  82%|████████▏ | 7770393/9517064 [00:27<00:21, 80458.69it/s]"
     ]
    },
    {
     "name": "stderr",
     "output_type": "stream",
     "text": [
      "\rDictNBHDTransformer fit:  82%|████████▏ | 7806778/9517064 [00:27<00:16, 104990.66it/s]"
     ]
    },
    {
     "name": "stderr",
     "output_type": "stream",
     "text": [
      "\rDictNBHDTransformer fit:  82%|████████▏ | 7843311/9517064 [00:27<00:12, 133539.22it/s]"
     ]
    },
    {
     "name": "stderr",
     "output_type": "stream",
     "text": [
      "\rDictNBHDTransformer fit:  83%|████████▎ | 7879805/9517064 [00:28<00:09, 164907.26it/s]"
     ]
    },
    {
     "name": "stderr",
     "output_type": "stream",
     "text": [
      "\rDictNBHDTransformer fit:  83%|████████▎ | 7915708/9517064 [00:28<00:08, 196834.73it/s]"
     ]
    },
    {
     "name": "stderr",
     "output_type": "stream",
     "text": [
      "\rDictNBHDTransformer fit:  84%|████████▎ | 7951498/9517064 [00:28<00:06, 227555.57it/s]"
     ]
    },
    {
     "name": "stderr",
     "output_type": "stream",
     "text": [
      "\rDictNBHDTransformer fit:  84%|████████▍ | 7986591/9517064 [00:28<00:06, 254383.62it/s]"
     ]
    },
    {
     "name": "stderr",
     "output_type": "stream",
     "text": [
      "\rDictNBHDTransformer fit:  84%|████████▍ | 8022301/9517064 [00:28<00:05, 278407.48it/s]"
     ]
    },
    {
     "name": "stderr",
     "output_type": "stream",
     "text": [
      "\rDictNBHDTransformer fit:  85%|████████▍ | 8057406/9517064 [00:28<00:05, 256840.61it/s]"
     ]
    },
    {
     "name": "stderr",
     "output_type": "stream",
     "text": [
      "\rDictNBHDTransformer fit:  85%|████████▌ | 8090559/9517064 [00:28<00:05, 275457.62it/s]"
     ]
    },
    {
     "name": "stderr",
     "output_type": "stream",
     "text": [
      "\rDictNBHDTransformer fit:  85%|████████▌ | 8124573/9517064 [00:28<00:04, 292122.54it/s]"
     ]
    },
    {
     "name": "stderr",
     "output_type": "stream",
     "text": [
      "\rDictNBHDTransformer fit:  86%|████████▌ | 8159404/9517064 [00:28<00:04, 306977.68it/s]"
     ]
    },
    {
     "name": "stderr",
     "output_type": "stream",
     "text": [
      "\rDictNBHDTransformer fit:  86%|████████▌ | 8192537/9517064 [00:29<00:04, 273848.04it/s]"
     ]
    },
    {
     "name": "stderr",
     "output_type": "stream",
     "text": [
      "\rDictNBHDTransformer fit:  86%|████████▋ | 8227815/9517064 [00:29<00:04, 293550.58it/s]"
     ]
    },
    {
     "name": "stderr",
     "output_type": "stream",
     "text": [
      "\rDictNBHDTransformer fit:  87%|████████▋ | 8259228/9517064 [00:29<00:04, 285522.53it/s]"
     ]
    },
    {
     "name": "stderr",
     "output_type": "stream",
     "text": [
      "\rDictNBHDTransformer fit:  87%|████████▋ | 8289269/9517064 [00:29<00:04, 287385.94it/s]"
     ]
    },
    {
     "name": "stderr",
     "output_type": "stream",
     "text": [
      "\rDictNBHDTransformer fit:  87%|████████▋ | 8319053/9517064 [00:29<00:04, 281844.36it/s]"
     ]
    },
    {
     "name": "stderr",
     "output_type": "stream",
     "text": [
      "\rDictNBHDTransformer fit:  88%|████████▊ | 8347993/9517064 [00:29<00:04, 280684.42it/s]"
     ]
    },
    {
     "name": "stderr",
     "output_type": "stream",
     "text": [
      "\rDictNBHDTransformer fit:  88%|████████▊ | 8380721/9517064 [00:29<00:03, 293207.14it/s]"
     ]
    },
    {
     "name": "stderr",
     "output_type": "stream",
     "text": [
      "\rDictNBHDTransformer fit:  88%|████████▊ | 8416978/9517064 [00:29<00:03, 311056.52it/s]"
     ]
    },
    {
     "name": "stderr",
     "output_type": "stream",
     "text": [
      "\rDictNBHDTransformer fit:  89%|████████▉ | 8452863/9517064 [00:29<00:03, 324000.40it/s]"
     ]
    },
    {
     "name": "stderr",
     "output_type": "stream",
     "text": [
      "\rDictNBHDTransformer fit:  89%|████████▉ | 8485863/9517064 [00:30<00:04, 229789.02it/s]"
     ]
    },
    {
     "name": "stderr",
     "output_type": "stream",
     "text": [
      "\rDictNBHDTransformer fit:  89%|████████▉ | 8513070/9517064 [00:30<00:04, 234311.65it/s]"
     ]
    },
    {
     "name": "stderr",
     "output_type": "stream",
     "text": [
      "\rDictNBHDTransformer fit:  90%|████████▉ | 8539483/9517064 [00:30<00:04, 234716.42it/s]"
     ]
    },
    {
     "name": "stderr",
     "output_type": "stream",
     "text": [
      "\rDictNBHDTransformer fit:  90%|█████████ | 8568462/9517064 [00:30<00:03, 248906.31it/s]"
     ]
    },
    {
     "name": "stderr",
     "output_type": "stream",
     "text": [
      "\rDictNBHDTransformer fit:  90%|█████████ | 8595047/9517064 [00:30<00:04, 224192.34it/s]"
     ]
    },
    {
     "name": "stderr",
     "output_type": "stream",
     "text": [
      "\rDictNBHDTransformer fit:  91%|█████████ | 8625938/9517064 [00:30<00:03, 244289.30it/s]"
     ]
    },
    {
     "name": "stderr",
     "output_type": "stream",
     "text": [
      "\rDictNBHDTransformer fit:  91%|█████████ | 8659838/9517064 [00:30<00:03, 266636.17it/s]"
     ]
    },
    {
     "name": "stderr",
     "output_type": "stream",
     "text": [
      "\rDictNBHDTransformer fit:  91%|█████████▏| 8692985/9517064 [00:30<00:02, 283256.82it/s]"
     ]
    },
    {
     "name": "stderr",
     "output_type": "stream",
     "text": [
      "\rDictNBHDTransformer fit:  92%|█████████▏| 8729705/9517064 [00:30<00:02, 304112.39it/s]"
     ]
    },
    {
     "name": "stderr",
     "output_type": "stream",
     "text": [
      "\rDictNBHDTransformer fit:  92%|█████████▏| 8765532/9517064 [00:31<00:02, 318557.06it/s]"
     ]
    },
    {
     "name": "stderr",
     "output_type": "stream",
     "text": [
      "\rDictNBHDTransformer fit:  92%|█████████▏| 8802926/9517064 [00:31<00:02, 333368.33it/s]"
     ]
    },
    {
     "name": "stderr",
     "output_type": "stream",
     "text": [
      "\rDictNBHDTransformer fit:  93%|█████████▎| 8838202/9517064 [00:31<00:02, 338956.21it/s]"
     ]
    },
    {
     "name": "stderr",
     "output_type": "stream",
     "text": [
      "\rDictNBHDTransformer fit:  93%|█████████▎| 8872852/9517064 [00:31<00:01, 338991.61it/s]"
     ]
    },
    {
     "name": "stderr",
     "output_type": "stream",
     "text": [
      "\rDictNBHDTransformer fit:  94%|█████████▎| 8908706/9517064 [00:31<00:01, 344627.73it/s]"
     ]
    },
    {
     "name": "stderr",
     "output_type": "stream",
     "text": [
      "\rDictNBHDTransformer fit:  94%|█████████▍| 8944578/9517064 [00:31<00:01, 348211.47it/s]"
     ]
    },
    {
     "name": "stderr",
     "output_type": "stream",
     "text": [
      "\rDictNBHDTransformer fit:  94%|█████████▍| 8979837/9517064 [00:31<00:01, 349513.42it/s]"
     ]
    },
    {
     "name": "stderr",
     "output_type": "stream",
     "text": [
      "\rDictNBHDTransformer fit:  95%|█████████▍| 9014988/9517064 [00:31<00:01, 302551.27it/s]"
     ]
    },
    {
     "name": "stderr",
     "output_type": "stream",
     "text": [
      "\rDictNBHDTransformer fit:  95%|█████████▌| 9046504/9517064 [00:31<00:01, 273020.22it/s]"
     ]
    },
    {
     "name": "stderr",
     "output_type": "stream",
     "text": [
      "\rDictNBHDTransformer fit:  95%|█████████▌| 9079786/9517064 [00:32<00:01, 288573.16it/s]"
     ]
    },
    {
     "name": "stderr",
     "output_type": "stream",
     "text": [
      "\rDictNBHDTransformer fit:  96%|█████████▌| 9113896/9517064 [00:32<00:01, 302548.65it/s]"
     ]
    },
    {
     "name": "stderr",
     "output_type": "stream",
     "text": [
      "\rDictNBHDTransformer fit:  96%|█████████▌| 9150067/9517064 [00:32<00:01, 318136.41it/s]"
     ]
    },
    {
     "name": "stderr",
     "output_type": "stream",
     "text": [
      "\rDictNBHDTransformer fit:  97%|█████████▋| 9184600/9517064 [00:32<00:01, 325831.36it/s]"
     ]
    },
    {
     "name": "stderr",
     "output_type": "stream",
     "text": [
      "\rDictNBHDTransformer fit:  97%|█████████▋| 9218497/9517064 [00:32<00:00, 329663.70it/s]"
     ]
    },
    {
     "name": "stderr",
     "output_type": "stream",
     "text": [
      "\rDictNBHDTransformer fit:  97%|█████████▋| 9251970/9517064 [00:32<00:00, 327882.97it/s]"
     ]
    },
    {
     "name": "stderr",
     "output_type": "stream",
     "text": [
      "\rDictNBHDTransformer fit:  98%|█████████▊| 9287950/9517064 [00:32<00:00, 336845.31it/s]"
     ]
    },
    {
     "name": "stderr",
     "output_type": "stream",
     "text": [
      "\rDictNBHDTransformer fit:  98%|█████████▊| 9322377/9517064 [00:32<00:00, 339035.15it/s]"
     ]
    },
    {
     "name": "stderr",
     "output_type": "stream",
     "text": [
      "\rDictNBHDTransformer fit:  98%|█████████▊| 9359995/9517064 [00:32<00:00, 349382.86it/s]"
     ]
    },
    {
     "name": "stderr",
     "output_type": "stream",
     "text": [
      "\rDictNBHDTransformer fit:  99%|█████████▉| 9398588/9517064 [00:32<00:00, 359594.01it/s]"
     ]
    },
    {
     "name": "stderr",
     "output_type": "stream",
     "text": [
      "\rDictNBHDTransformer fit:  99%|█████████▉| 9435632/9517064 [00:33<00:00, 362210.02it/s]"
     ]
    },
    {
     "name": "stderr",
     "output_type": "stream",
     "text": [
      "\rDictNBHDTransformer fit: 100%|█████████▉| 9473947/9517064 [00:33<00:00, 368245.51it/s]"
     ]
    },
    {
     "name": "stderr",
     "output_type": "stream",
     "text": [
      "\rDictNBHDTransformer fit: 100%|█████████▉| 9511419/9517064 [00:33<00:00, 370163.04it/s]"
     ]
    },
    {
     "name": "stderr",
     "output_type": "stream",
     "text": [
      "\rDictNBHDTransformer fit: 100%|██████████| 9517064/9517064 [00:33<00:00, 284691.77it/s]"
     ]
    },
    {
     "name": "stderr",
     "output_type": "stream",
     "text": [
      "\n\rDictClassTransformer_DATE fit:   0%|          | 0/9517064 [00:00<?, ?it/s]"
     ]
    },
    {
     "name": "stderr",
     "output_type": "stream",
     "text": [
      "\rDictClassTransformer_DATE fit:   0%|          | 46743/9517064 [00:00<03:12, 49211.60it/s]"
     ]
    },
    {
     "name": "stderr",
     "output_type": "stream",
     "text": [
      "\rDictClassTransformer_DATE fit:   1%|▏         | 132732/9517064 [00:01<02:16, 68619.24it/s]"
     ]
    },
    {
     "name": "stderr",
     "output_type": "stream",
     "text": [
      "\rDictClassTransformer_DATE fit:   2%|▏         | 223629/9517064 [00:01<01:37, 94955.34it/s]"
     ]
    },
    {
     "name": "stderr",
     "output_type": "stream",
     "text": [
      "\rDictClassTransformer_DATE fit:   3%|▎         | 269679/9517064 [00:02<02:02, 75413.23it/s]"
     ]
    },
    {
     "name": "stderr",
     "output_type": "stream",
     "text": [
      "\rDictClassTransformer_DATE fit:   4%|▍         | 369661/9517064 [00:02<01:27, 104359.67it/s]"
     ]
    },
    {
     "name": "stderr",
     "output_type": "stream",
     "text": [
      "\rDictClassTransformer_DATE fit:   5%|▌         | 476079/9517064 [00:02<01:03, 143072.13it/s]"
     ]
    },
    {
     "name": "stderr",
     "output_type": "stream",
     "text": [
      "\rDictClassTransformer_DATE fit:   6%|▌         | 585380/9517064 [00:02<00:46, 193531.83it/s]"
     ]
    },
    {
     "name": "stderr",
     "output_type": "stream",
     "text": [
      "\rDictClassTransformer_DATE fit:   7%|▋         | 703849/9517064 [00:02<00:34, 258383.97it/s]"
     ]
    },
    {
     "name": "stderr",
     "output_type": "stream",
     "text": [
      "\rDictClassTransformer_DATE fit:   9%|▊         | 827922/9517064 [00:02<00:25, 338874.89it/s]"
     ]
    },
    {
     "name": "stderr",
     "output_type": "stream",
     "text": [
      "\rDictClassTransformer_DATE fit:  10%|▉         | 946560/9517064 [00:02<00:19, 431307.41it/s]"
     ]
    },
    {
     "name": "stderr",
     "output_type": "stream",
     "text": [
      "\rDictClassTransformer_DATE fit:  11%|█         | 1070048/9517064 [00:02<00:15, 535930.66it/s]"
     ]
    },
    {
     "name": "stderr",
     "output_type": "stream",
     "text": [
      "\rDictClassTransformer_DATE fit:  13%|█▎        | 1209107/9517064 [00:02<00:12, 657084.10it/s]"
     ]
    },
    {
     "name": "stderr",
     "output_type": "stream",
     "text": [
      "\rDictClassTransformer_DATE fit:  14%|█▍        | 1337841/9517064 [00:02<00:10, 770204.73it/s]"
     ]
    },
    {
     "name": "stderr",
     "output_type": "stream",
     "text": [
      "\rDictClassTransformer_DATE fit:  15%|█▌        | 1460512/9517064 [00:03<00:09, 864226.98it/s]"
     ]
    },
    {
     "name": "stderr",
     "output_type": "stream",
     "text": [
      "\rDictClassTransformer_DATE fit:  17%|█▋        | 1596506/9517064 [00:03<00:08, 970334.68it/s]"
     ]
    },
    {
     "name": "stderr",
     "output_type": "stream",
     "text": [
      "\rDictClassTransformer_DATE fit:  18%|█▊        | 1726217/9517064 [00:03<00:07, 1049665.66it/s]"
     ]
    },
    {
     "name": "stderr",
     "output_type": "stream",
     "text": [
      "\rDictClassTransformer_DATE fit:  20%|█▉        | 1860168/9517064 [00:03<00:06, 1122531.04it/s]"
     ]
    },
    {
     "name": "stderr",
     "output_type": "stream",
     "text": [
      "\rDictClassTransformer_DATE fit:  21%|██        | 1998004/9517064 [00:03<00:06, 1188717.73it/s]"
     ]
    },
    {
     "name": "stderr",
     "output_type": "stream",
     "text": [
      "\rDictClassTransformer_DATE fit:  22%|██▏       | 2130248/9517064 [00:03<00:06, 1225905.53it/s]"
     ]
    },
    {
     "name": "stderr",
     "output_type": "stream",
     "text": [
      "\rDictClassTransformer_DATE fit:  24%|██▍       | 2262971/9517064 [00:03<00:05, 1254636.46it/s]"
     ]
    },
    {
     "name": "stderr",
     "output_type": "stream",
     "text": [
      "\rDictClassTransformer_DATE fit:  25%|██▌       | 2409251/9517064 [00:03<00:05, 1310542.33it/s]"
     ]
    },
    {
     "name": "stderr",
     "output_type": "stream",
     "text": [
      "\rDictClassTransformer_DATE fit:  27%|██▋       | 2553602/9517064 [00:03<00:05, 1347784.17it/s]"
     ]
    },
    {
     "name": "stderr",
     "output_type": "stream",
     "text": [
      "\rDictClassTransformer_DATE fit:  28%|██▊       | 2694308/9517064 [00:03<00:04, 1365035.24it/s]"
     ]
    },
    {
     "name": "stderr",
     "output_type": "stream",
     "text": [
      "\rDictClassTransformer_DATE fit:  30%|██▉       | 2833812/9517064 [00:04<00:04, 1373895.81it/s]"
     ]
    },
    {
     "name": "stderr",
     "output_type": "stream",
     "text": [
      "\rDictClassTransformer_DATE fit:  31%|███       | 2973222/9517064 [00:04<00:04, 1372604.58it/s]"
     ]
    },
    {
     "name": "stderr",
     "output_type": "stream",
     "text": [
      "\rDictClassTransformer_DATE fit:  33%|███▎      | 3112737/9517064 [00:04<00:04, 1379286.84it/s]"
     ]
    },
    {
     "name": "stderr",
     "output_type": "stream",
     "text": [
      "\rDictClassTransformer_DATE fit:  34%|███▍      | 3260693/9517064 [00:04<00:04, 1407908.61it/s]"
     ]
    },
    {
     "name": "stderr",
     "output_type": "stream",
     "text": [
      "\rDictClassTransformer_DATE fit:  36%|███▌      | 3409844/9517064 [00:04<00:04, 1431987.55it/s]"
     ]
    },
    {
     "name": "stderr",
     "output_type": "stream",
     "text": [
      "\rDictClassTransformer_DATE fit:  37%|███▋      | 3554111/9517064 [00:04<00:04, 1435154.60it/s]"
     ]
    },
    {
     "name": "stderr",
     "output_type": "stream",
     "text": [
      "\rDictClassTransformer_DATE fit:  39%|███▉      | 3701664/9517064 [00:04<00:04, 1447032.68it/s]"
     ]
    },
    {
     "name": "stderr",
     "output_type": "stream",
     "text": [
      "\rDictClassTransformer_DATE fit:  40%|████      | 3846731/9517064 [00:04<00:04, 1166510.44it/s]"
     ]
    },
    {
     "name": "stderr",
     "output_type": "stream",
     "text": [
      "\rDictClassTransformer_DATE fit:  42%|████▏     | 3981799/9517064 [00:04<00:04, 1216260.03it/s]"
     ]
    },
    {
     "name": "stderr",
     "output_type": "stream",
     "text": [
      "\rDictClassTransformer_DATE fit:  43%|████▎     | 4120184/9517064 [00:05<00:04, 1262111.24it/s]"
     ]
    },
    {
     "name": "stderr",
     "output_type": "stream",
     "text": [
      "\rDictClassTransformer_DATE fit:  45%|████▍     | 4266566/9517064 [00:05<00:03, 1316528.85it/s]"
     ]
    },
    {
     "name": "stderr",
     "output_type": "stream",
     "text": [
      "\rDictClassTransformer_DATE fit:  46%|████▋     | 4413043/9517064 [00:05<00:03, 1357748.75it/s]"
     ]
    },
    {
     "name": "stderr",
     "output_type": "stream",
     "text": [
      "\rDictClassTransformer_DATE fit:  48%|████▊     | 4552133/9517064 [00:05<00:03, 1366377.20it/s]"
     ]
    },
    {
     "name": "stderr",
     "output_type": "stream",
     "text": [
      "\rDictClassTransformer_DATE fit:  49%|████▉     | 4691105/9517064 [00:05<00:05, 860724.79it/s] "
     ]
    },
    {
     "name": "stderr",
     "output_type": "stream",
     "text": [
      "\rDictClassTransformer_DATE fit:  51%|█████     | 4824432/9517064 [00:05<00:04, 963130.68it/s]"
     ]
    },
    {
     "name": "stderr",
     "output_type": "stream",
     "text": [
      "\rDictClassTransformer_DATE fit:  52%|█████▏    | 4960903/9517064 [00:05<00:04, 1056385.94it/s]"
     ]
    },
    {
     "name": "stderr",
     "output_type": "stream",
     "text": [
      "\rDictClassTransformer_DATE fit:  53%|█████▎    | 5085022/9517064 [00:05<00:04, 1105775.39it/s]"
     ]
    },
    {
     "name": "stderr",
     "output_type": "stream",
     "text": [
      "\rDictClassTransformer_DATE fit:  55%|█████▍    | 5214813/9517064 [00:06<00:03, 1157161.88it/s]"
     ]
    },
    {
     "name": "stderr",
     "output_type": "stream",
     "text": [
      "\rDictClassTransformer_DATE fit:  56%|█████▋    | 5356058/9517064 [00:06<00:03, 1223500.44it/s]"
     ]
    },
    {
     "name": "stderr",
     "output_type": "stream",
     "text": [
      "\rDictClassTransformer_DATE fit:  58%|█████▊    | 5500073/9517064 [00:06<00:03, 1281324.62it/s]"
     ]
    },
    {
     "name": "stderr",
     "output_type": "stream",
     "text": [
      "\rDictClassTransformer_DATE fit:  59%|█████▉    | 5645730/9517064 [00:06<00:02, 1329300.71it/s]"
     ]
    },
    {
     "name": "stderr",
     "output_type": "stream",
     "text": [
      "\rDictClassTransformer_DATE fit:  61%|██████    | 5788923/9517064 [00:06<00:02, 1358507.55it/s]"
     ]
    },
    {
     "name": "stderr",
     "output_type": "stream",
     "text": [
      "\rDictClassTransformer_DATE fit:  62%|██████▏   | 5928297/9517064 [00:06<00:02, 1314004.05it/s]"
     ]
    },
    {
     "name": "stderr",
     "output_type": "stream",
     "text": [
      "\rDictClassTransformer_DATE fit:  64%|██████▍   | 6072323/9517064 [00:06<00:02, 1349490.56it/s]"
     ]
    },
    {
     "name": "stderr",
     "output_type": "stream",
     "text": [
      "\rDictClassTransformer_DATE fit:  65%|██████▌   | 6215085/9517064 [00:06<00:02, 1372012.15it/s]"
     ]
    },
    {
     "name": "stderr",
     "output_type": "stream",
     "text": [
      "\rDictClassTransformer_DATE fit:  67%|██████▋   | 6363762/9517064 [00:06<00:02, 1404530.93it/s]"
     ]
    },
    {
     "name": "stderr",
     "output_type": "stream",
     "text": [
      "\rDictClassTransformer_DATE fit:  68%|██████▊   | 6508055/9517064 [00:06<00:02, 1415830.75it/s]"
     ]
    },
    {
     "name": "stderr",
     "output_type": "stream",
     "text": [
      "\rDictClassTransformer_DATE fit:  70%|██████▉   | 6650588/9517064 [00:07<00:02, 1416452.18it/s]"
     ]
    },
    {
     "name": "stderr",
     "output_type": "stream",
     "text": [
      "\rDictClassTransformer_DATE fit:  71%|███████▏  | 6799577/9517064 [00:07<00:01, 1437711.36it/s]"
     ]
    },
    {
     "name": "stderr",
     "output_type": "stream",
     "text": [
      "\rDictClassTransformer_DATE fit:  73%|███████▎  | 6951020/9517064 [00:07<00:01, 1459894.58it/s]"
     ]
    },
    {
     "name": "stderr",
     "output_type": "stream",
     "text": [
      "\rDictClassTransformer_DATE fit:  75%|███████▍  | 7099666/9517064 [00:07<00:01, 1467763.34it/s]"
     ]
    },
    {
     "name": "stderr",
     "output_type": "stream",
     "text": [
      "\rDictClassTransformer_DATE fit:  76%|███████▌  | 7246777/9517064 [00:07<00:01, 1450204.84it/s]"
     ]
    },
    {
     "name": "stderr",
     "output_type": "stream",
     "text": [
      "\rDictClassTransformer_DATE fit:  78%|███████▊  | 7396388/9517064 [00:07<00:01, 1463677.24it/s]"
     ]
    },
    {
     "name": "stderr",
     "output_type": "stream",
     "text": [
      "\rDictClassTransformer_DATE fit:  79%|███████▉  | 7547335/9517064 [00:07<00:01, 1477115.90it/s]"
     ]
    },
    {
     "name": "stderr",
     "output_type": "stream",
     "text": [
      "\rDictClassTransformer_DATE fit:  81%|████████  | 7700158/9517064 [00:07<00:01, 1492083.72it/s]"
     ]
    },
    {
     "name": "stderr",
     "output_type": "stream",
     "text": [
      "\rDictClassTransformer_DATE fit:  82%|████████▏ | 7849535/9517064 [00:07<00:01, 1381680.50it/s]"
     ]
    },
    {
     "name": "stderr",
     "output_type": "stream",
     "text": [
      "\rDictClassTransformer_DATE fit:  84%|████████▍ | 7992994/9517064 [00:07<00:01, 1397134.50it/s]"
     ]
    },
    {
     "name": "stderr",
     "output_type": "stream",
     "text": [
      "\rDictClassTransformer_DATE fit:  85%|████████▌ | 8133969/9517064 [00:08<00:01, 1363601.99it/s]"
     ]
    },
    {
     "name": "stderr",
     "output_type": "stream",
     "text": [
      "\rDictClassTransformer_DATE fit:  87%|████████▋ | 8277818/9517064 [00:08<00:00, 1385236.11it/s]"
     ]
    },
    {
     "name": "stderr",
     "output_type": "stream",
     "text": [
      "\rDictClassTransformer_DATE fit:  89%|████████▊ | 8423739/9517064 [00:08<00:00, 1406616.38it/s]"
     ]
    },
    {
     "name": "stderr",
     "output_type": "stream",
     "text": [
      "\rDictClassTransformer_DATE fit:  90%|█████████ | 8572891/9517064 [00:08<00:00, 1431046.44it/s]"
     ]
    },
    {
     "name": "stderr",
     "output_type": "stream",
     "text": [
      "\rDictClassTransformer_DATE fit:  92%|█████████▏| 8725273/9517064 [00:08<00:00, 1457669.71it/s]"
     ]
    },
    {
     "name": "stderr",
     "output_type": "stream",
     "text": [
      "\rDictClassTransformer_DATE fit:  93%|█████████▎| 8871776/9517064 [00:08<00:00, 1459866.27it/s]"
     ]
    },
    {
     "name": "stderr",
     "output_type": "stream",
     "text": [
      "\rDictClassTransformer_DATE fit:  95%|█████████▍| 9018125/9517064 [00:08<00:00, 1447020.33it/s]"
     ]
    },
    {
     "name": "stderr",
     "output_type": "stream",
     "text": [
      "\rDictClassTransformer_DATE fit:  96%|█████████▋| 9171243/9517064 [00:08<00:00, 1471279.93it/s]"
     ]
    },
    {
     "name": "stderr",
     "output_type": "stream",
     "text": [
      "\rDictClassTransformer_DATE fit:  98%|█████████▊| 9318666/9517064 [00:08<00:00, 1443205.46it/s]"
     ]
    },
    {
     "name": "stderr",
     "output_type": "stream",
     "text": [
      "\rDictClassTransformer_DATE fit:  99%|█████████▉| 9463313/9517064 [00:09<00:00, 1424753.40it/s]"
     ]
    },
    {
     "name": "stderr",
     "output_type": "stream",
     "text": [
      "\rDictClassTransformer_DATE fit: 100%|██████████| 9517064/9517064 [00:09<00:00, 1031946.75it/s]"
     ]
    },
    {
     "name": "stderr",
     "output_type": "stream",
     "text": [
      "\n\rDictClassTransformer_CARDINAL fit:   0%|          | 0/9517064 [00:00<?, ?it/s]"
     ]
    },
    {
     "name": "stderr",
     "output_type": "stream",
     "text": [
      "\rDictClassTransformer_CARDINAL fit:   0%|          | 27481/9517064 [00:01<07:00, 22563.88it/s]"
     ]
    },
    {
     "name": "stderr",
     "output_type": "stream",
     "text": [
      "\rDictClassTransformer_CARDINAL fit:   1%|          | 103709/9517064 [00:01<04:55, 31830.32it/s]"
     ]
    },
    {
     "name": "stderr",
     "output_type": "stream",
     "text": [
      "\rDictClassTransformer_CARDINAL fit:   2%|▏         | 170205/9517064 [00:01<03:29, 44557.78it/s]"
     ]
    },
    {
     "name": "stderr",
     "output_type": "stream",
     "text": [
      "\rDictClassTransformer_CARDINAL fit:   3%|▎         | 254545/9517064 [00:01<02:28, 62244.62it/s]"
     ]
    },
    {
     "name": "stderr",
     "output_type": "stream",
     "text": [
      "\rDictClassTransformer_CARDINAL fit:   4%|▎         | 346274/9517064 [00:01<01:46, 86407.98it/s]"
     ]
    },
    {
     "name": "stderr",
     "output_type": "stream",
     "text": [
      "\rDictClassTransformer_CARDINAL fit:   5%|▍         | 436301/9517064 [00:03<02:01, 74888.82it/s]"
     ]
    },
    {
     "name": "stderr",
     "output_type": "stream",
     "text": [
      "\rDictClassTransformer_CARDINAL fit:   5%|▌         | 513651/9517064 [00:03<01:27, 102721.66it/s]"
     ]
    },
    {
     "name": "stderr",
     "output_type": "stream",
     "text": [
      "\rDictClassTransformer_CARDINAL fit:   6%|▌         | 590271/9517064 [00:03<01:04, 138771.76it/s]"
     ]
    },
    {
     "name": "stderr",
     "output_type": "stream",
     "text": [
      "\rDictClassTransformer_CARDINAL fit:   7%|▋         | 675255/9517064 [00:03<00:47, 185278.75it/s]"
     ]
    },
    {
     "name": "stderr",
     "output_type": "stream",
     "text": [
      "\rDictClassTransformer_CARDINAL fit:   8%|▊         | 762125/9517064 [00:03<00:36, 242516.10it/s]"
     ]
    },
    {
     "name": "stderr",
     "output_type": "stream",
     "text": [
      "\rDictClassTransformer_CARDINAL fit:   9%|▉         | 865158/9517064 [00:03<00:27, 314705.34it/s]"
     ]
    },
    {
     "name": "stderr",
     "output_type": "stream",
     "text": [
      "\rDictClassTransformer_CARDINAL fit:  10%|█         | 977031/9517064 [00:03<00:21, 401209.01it/s]"
     ]
    },
    {
     "name": "stderr",
     "output_type": "stream",
     "text": [
      "\rDictClassTransformer_CARDINAL fit:  12%|█▏        | 1110297/9517064 [00:03<00:16, 507655.31it/s]"
     ]
    },
    {
     "name": "stderr",
     "output_type": "stream",
     "text": [
      "\rDictClassTransformer_CARDINAL fit:  13%|█▎        | 1222319/9517064 [00:03<00:13, 607275.75it/s]"
     ]
    },
    {
     "name": "stderr",
     "output_type": "stream",
     "text": [
      "\rDictClassTransformer_CARDINAL fit:  14%|█▍        | 1328757/9517064 [00:04<00:12, 670709.42it/s]"
     ]
    },
    {
     "name": "stderr",
     "output_type": "stream",
     "text": [
      "\rDictClassTransformer_CARDINAL fit:  15%|█▌        | 1429870/9517064 [00:04<00:10, 738209.69it/s]"
     ]
    },
    {
     "name": "stderr",
     "output_type": "stream",
     "text": [
      "\rDictClassTransformer_CARDINAL fit:  16%|█▌        | 1542501/9517064 [00:04<00:09, 823317.10it/s]"
     ]
    },
    {
     "name": "stderr",
     "output_type": "stream",
     "text": [
      "\rDictClassTransformer_CARDINAL fit:  17%|█▋        | 1655331/9517064 [00:04<00:08, 895972.00it/s]"
     ]
    },
    {
     "name": "stderr",
     "output_type": "stream",
     "text": [
      "\rDictClassTransformer_CARDINAL fit:  19%|█▊        | 1761696/9517064 [00:04<00:08, 916901.10it/s]"
     ]
    },
    {
     "name": "stderr",
     "output_type": "stream",
     "text": [
      "\rDictClassTransformer_CARDINAL fit:  20%|█▉        | 1865245/9517064 [00:04<00:08, 930843.83it/s]"
     ]
    },
    {
     "name": "stderr",
     "output_type": "stream",
     "text": [
      "\rDictClassTransformer_CARDINAL fit:  21%|██        | 1979683/9517064 [00:04<00:07, 986038.29it/s]"
     ]
    },
    {
     "name": "stderr",
     "output_type": "stream",
     "text": [
      "\rDictClassTransformer_CARDINAL fit:  22%|██▏       | 2085020/9517064 [00:04<00:07, 1001493.65it/s]"
     ]
    },
    {
     "name": "stderr",
     "output_type": "stream",
     "text": [
      "\rDictClassTransformer_CARDINAL fit:  23%|██▎       | 2203901/9517064 [00:04<00:06, 1051179.88it/s]"
     ]
    },
    {
     "name": "stderr",
     "output_type": "stream",
     "text": [
      "\rDictClassTransformer_CARDINAL fit:  24%|██▍       | 2330330/9517064 [00:05<00:06, 1107165.00it/s]"
     ]
    },
    {
     "name": "stderr",
     "output_type": "stream",
     "text": [
      "\rDictClassTransformer_CARDINAL fit:  26%|██▌       | 2464981/9517064 [00:05<00:06, 1169530.54it/s]"
     ]
    },
    {
     "name": "stderr",
     "output_type": "stream",
     "text": [
      "\rDictClassTransformer_CARDINAL fit:  27%|██▋       | 2603196/9517064 [00:05<00:05, 1226111.85it/s]"
     ]
    },
    {
     "name": "stderr",
     "output_type": "stream",
     "text": [
      "\rDictClassTransformer_CARDINAL fit:  29%|██▊       | 2728946/9517064 [00:05<00:05, 1216801.61it/s]"
     ]
    },
    {
     "name": "stderr",
     "output_type": "stream",
     "text": [
      "\rDictClassTransformer_CARDINAL fit:  30%|██▉       | 2852840/9517064 [00:05<00:05, 1134399.10it/s]"
     ]
    },
    {
     "name": "stderr",
     "output_type": "stream",
     "text": [
      "\rDictClassTransformer_CARDINAL fit:  31%|███       | 2968954/9517064 [00:05<00:06, 973771.19it/s] "
     ]
    },
    {
     "name": "stderr",
     "output_type": "stream",
     "text": [
      "\rDictClassTransformer_CARDINAL fit:  32%|███▏      | 3072192/9517064 [00:05<00:06, 945415.32it/s]"
     ]
    },
    {
     "name": "stderr",
     "output_type": "stream",
     "text": [
      "\rDictClassTransformer_CARDINAL fit:  33%|███▎      | 3177145/9517064 [00:05<00:06, 974408.69it/s]"
     ]
    },
    {
     "name": "stderr",
     "output_type": "stream",
     "text": [
      "\rDictClassTransformer_CARDINAL fit:  34%|███▍      | 3282841/9517064 [00:05<00:06, 997787.22it/s]"
     ]
    },
    {
     "name": "stderr",
     "output_type": "stream",
     "text": [
      "\rDictClassTransformer_CARDINAL fit:  36%|███▌      | 3415025/9517064 [00:06<00:05, 1076993.52it/s]"
     ]
    },
    {
     "name": "stderr",
     "output_type": "stream",
     "text": [
      "\rDictClassTransformer_CARDINAL fit:  37%|███▋      | 3545463/9517064 [00:06<00:05, 1136422.61it/s]"
     ]
    },
    {
     "name": "stderr",
     "output_type": "stream",
     "text": [
      "\rDictClassTransformer_CARDINAL fit:  39%|███▊      | 3674018/9517064 [00:06<00:04, 1177393.47it/s]"
     ]
    },
    {
     "name": "stderr",
     "output_type": "stream",
     "text": [
      "\rDictClassTransformer_CARDINAL fit:  40%|███▉      | 3805336/9517064 [00:06<00:04, 1215083.59it/s]"
     ]
    },
    {
     "name": "stderr",
     "output_type": "stream",
     "text": [
      "\rDictClassTransformer_CARDINAL fit:  41%|████▏     | 3944105/9517064 [00:06<00:04, 1262181.67it/s]"
     ]
    },
    {
     "name": "stderr",
     "output_type": "stream",
     "text": [
      "\rDictClassTransformer_CARDINAL fit:  43%|████▎     | 4089867/9517064 [00:06<00:04, 1315076.55it/s]"
     ]
    },
    {
     "name": "stderr",
     "output_type": "stream",
     "text": [
      "\rDictClassTransformer_CARDINAL fit:  44%|████▍     | 4229175/9517064 [00:06<00:03, 1337540.47it/s]"
     ]
    },
    {
     "name": "stderr",
     "output_type": "stream",
     "text": [
      "\rDictClassTransformer_CARDINAL fit:  46%|████▌     | 4377654/9517064 [00:06<00:03, 1378550.45it/s]"
     ]
    },
    {
     "name": "stderr",
     "output_type": "stream",
     "text": [
      "\rDictClassTransformer_CARDINAL fit:  48%|████▊     | 4529730/9517064 [00:06<00:03, 1418336.66it/s]"
     ]
    },
    {
     "name": "stderr",
     "output_type": "stream",
     "text": [
      "\rDictClassTransformer_CARDINAL fit:  49%|████▉     | 4679481/9517064 [00:06<00:03, 1441194.86it/s]"
     ]
    },
    {
     "name": "stderr",
     "output_type": "stream",
     "text": [
      "\rDictClassTransformer_CARDINAL fit:  51%|█████     | 4832768/9517064 [00:07<00:03, 1467520.37it/s]"
     ]
    },
    {
     "name": "stderr",
     "output_type": "stream",
     "text": [
      "\rDictClassTransformer_CARDINAL fit:  52%|█████▏    | 4980304/9517064 [00:07<00:03, 1461115.93it/s]"
     ]
    },
    {
     "name": "stderr",
     "output_type": "stream",
     "text": [
      "\rDictClassTransformer_CARDINAL fit:  54%|█████▍    | 5126971/9517064 [00:07<00:03, 1458289.33it/s]"
     ]
    },
    {
     "name": "stderr",
     "output_type": "stream",
     "text": [
      "\rDictClassTransformer_CARDINAL fit:  55%|█████▌    | 5274141/9517064 [00:07<00:02, 1462282.02it/s]"
     ]
    },
    {
     "name": "stderr",
     "output_type": "stream",
     "text": [
      "\rDictClassTransformer_CARDINAL fit:  57%|█████▋    | 5420645/9517064 [00:07<00:03, 1220590.80it/s]"
     ]
    },
    {
     "name": "stderr",
     "output_type": "stream",
     "text": [
      "\rDictClassTransformer_CARDINAL fit:  58%|█████▊    | 5549624/9517064 [00:07<00:03, 1090282.99it/s]"
     ]
    },
    {
     "name": "stderr",
     "output_type": "stream",
     "text": [
      "\rDictClassTransformer_CARDINAL fit:  60%|█████▉    | 5666095/9517064 [00:07<00:03, 1072054.88it/s]"
     ]
    },
    {
     "name": "stderr",
     "output_type": "stream",
     "text": [
      "\rDictClassTransformer_CARDINAL fit:  61%|██████    | 5784888/9517064 [00:07<00:03, 1104371.82it/s]"
     ]
    },
    {
     "name": "stderr",
     "output_type": "stream",
     "text": [
      "\rDictClassTransformer_CARDINAL fit:  62%|██████▏   | 5899265/9517064 [00:07<00:03, 1105048.34it/s]"
     ]
    },
    {
     "name": "stderr",
     "output_type": "stream",
     "text": [
      "\rDictClassTransformer_CARDINAL fit:  63%|██████▎   | 6012528/9517064 [00:08<00:03, 1095537.30it/s]"
     ]
    },
    {
     "name": "stderr",
     "output_type": "stream",
     "text": [
      "\rDictClassTransformer_CARDINAL fit:  64%|██████▍   | 6124031/9517064 [00:08<00:03, 1071589.38it/s]"
     ]
    },
    {
     "name": "stderr",
     "output_type": "stream",
     "text": [
      "\rDictClassTransformer_CARDINAL fit:  66%|██████▌   | 6243662/9517064 [00:08<00:02, 1106183.48it/s]"
     ]
    },
    {
     "name": "stderr",
     "output_type": "stream",
     "text": [
      "\rDictClassTransformer_CARDINAL fit:  67%|██████▋   | 6355599/9517064 [00:08<00:02, 1062859.99it/s]"
     ]
    },
    {
     "name": "stderr",
     "output_type": "stream",
     "text": [
      "\rDictClassTransformer_CARDINAL fit:  68%|██████▊   | 6479319/9517064 [00:08<00:02, 1109774.75it/s]"
     ]
    },
    {
     "name": "stderr",
     "output_type": "stream",
     "text": [
      "\rDictClassTransformer_CARDINAL fit:  70%|██████▉   | 6616320/9517064 [00:08<00:02, 1176831.08it/s]"
     ]
    },
    {
     "name": "stderr",
     "output_type": "stream",
     "text": [
      "\rDictClassTransformer_CARDINAL fit:  71%|███████   | 6747942/9517064 [00:08<00:02, 1215443.25it/s]"
     ]
    },
    {
     "name": "stderr",
     "output_type": "stream",
     "text": [
      "\rDictClassTransformer_CARDINAL fit:  72%|███████▏  | 6871282/9517064 [00:08<00:02, 1189547.90it/s]"
     ]
    },
    {
     "name": "stderr",
     "output_type": "stream",
     "text": [
      "\rDictClassTransformer_CARDINAL fit:  73%|███████▎  | 6991617/9517064 [00:09<00:02, 916333.61it/s] "
     ]
    },
    {
     "name": "stderr",
     "output_type": "stream",
     "text": [
      "\rDictClassTransformer_CARDINAL fit:  75%|███████▍  | 7093750/9517064 [00:09<00:02, 839104.09it/s]"
     ]
    },
    {
     "name": "stderr",
     "output_type": "stream",
     "text": [
      "\rDictClassTransformer_CARDINAL fit:  76%|███████▌  | 7186279/9517064 [00:09<00:02, 802141.18it/s]"
     ]
    },
    {
     "name": "stderr",
     "output_type": "stream",
     "text": [
      "\rDictClassTransformer_CARDINAL fit:  76%|███████▋  | 7272871/9517064 [00:09<00:02, 778307.50it/s]"
     ]
    },
    {
     "name": "stderr",
     "output_type": "stream",
     "text": [
      "\rDictClassTransformer_CARDINAL fit:  77%|███████▋  | 7355321/9517064 [00:09<00:02, 765539.83it/s]"
     ]
    },
    {
     "name": "stderr",
     "output_type": "stream",
     "text": [
      "\rDictClassTransformer_CARDINAL fit:  78%|███████▊  | 7435587/9517064 [00:09<00:02, 776309.98it/s]"
     ]
    },
    {
     "name": "stderr",
     "output_type": "stream",
     "text": [
      "\rDictClassTransformer_CARDINAL fit:  79%|███████▉  | 7532915/9517064 [00:09<00:02, 826486.51it/s]"
     ]
    },
    {
     "name": "stderr",
     "output_type": "stream",
     "text": [
      "\rDictClassTransformer_CARDINAL fit:  80%|████████  | 7635397/9517064 [00:09<00:02, 877427.25it/s]"
     ]
    },
    {
     "name": "stderr",
     "output_type": "stream",
     "text": [
      "\rDictClassTransformer_CARDINAL fit:  81%|████████▏ | 7751948/9517064 [00:09<00:01, 947699.14it/s]"
     ]
    },
    {
     "name": "stderr",
     "output_type": "stream",
     "text": [
      "\rDictClassTransformer_CARDINAL fit:  83%|████████▎ | 7875321/9517064 [00:10<00:01, 1018541.09it/s]"
     ]
    },
    {
     "name": "stderr",
     "output_type": "stream",
     "text": [
      "\rDictClassTransformer_CARDINAL fit:  84%|████████▍ | 7996315/9517064 [00:10<00:01, 1069283.36it/s]"
     ]
    },
    {
     "name": "stderr",
     "output_type": "stream",
     "text": [
      "\rDictClassTransformer_CARDINAL fit:  85%|████████▌ | 8113188/9517064 [00:10<00:01, 1097291.16it/s]"
     ]
    },
    {
     "name": "stderr",
     "output_type": "stream",
     "text": [
      "\rDictClassTransformer_CARDINAL fit:  87%|████████▋ | 8239147/9517064 [00:10<00:01, 1141387.79it/s]"
     ]
    },
    {
     "name": "stderr",
     "output_type": "stream",
     "text": [
      "\rDictClassTransformer_CARDINAL fit:  88%|████████▊ | 8355539/9517064 [00:10<00:01, 1105159.04it/s]"
     ]
    },
    {
     "name": "stderr",
     "output_type": "stream",
     "text": [
      "\rDictClassTransformer_CARDINAL fit:  89%|████████▉ | 8467882/9517064 [00:10<00:00, 1103573.12it/s]"
     ]
    },
    {
     "name": "stderr",
     "output_type": "stream",
     "text": [
      "\rDictClassTransformer_CARDINAL fit:  90%|█████████ | 8593872/9517064 [00:10<00:00, 1146237.67it/s]"
     ]
    },
    {
     "name": "stderr",
     "output_type": "stream",
     "text": [
      "\rDictClassTransformer_CARDINAL fit:  92%|█████████▏| 8715751/9517064 [00:10<00:00, 1167079.43it/s]"
     ]
    },
    {
     "name": "stderr",
     "output_type": "stream",
     "text": [
      "\rDictClassTransformer_CARDINAL fit:  93%|█████████▎| 8840534/9517064 [00:10<00:00, 1190182.58it/s]"
     ]
    },
    {
     "name": "stderr",
     "output_type": "stream",
     "text": [
      "\rDictClassTransformer_CARDINAL fit:  94%|█████████▍| 8960375/9517064 [00:10<00:00, 1188749.43it/s]"
     ]
    },
    {
     "name": "stderr",
     "output_type": "stream",
     "text": [
      "\rDictClassTransformer_CARDINAL fit:  95%|█████████▌| 9087964/9517064 [00:11<00:00, 1213611.84it/s]"
     ]
    },
    {
     "name": "stderr",
     "output_type": "stream",
     "text": [
      "\rDictClassTransformer_CARDINAL fit:  97%|█████████▋| 9221263/9517064 [00:11<00:00, 1247114.33it/s]"
     ]
    },
    {
     "name": "stderr",
     "output_type": "stream",
     "text": [
      "\rDictClassTransformer_CARDINAL fit:  98%|█████████▊| 9352785/9517064 [00:11<00:00, 1266790.60it/s]"
     ]
    },
    {
     "name": "stderr",
     "output_type": "stream",
     "text": [
      "\rDictClassTransformer_CARDINAL fit: 100%|█████████▉| 9479961/9517064 [00:11<00:00, 1178397.90it/s]"
     ]
    },
    {
     "name": "stderr",
     "output_type": "stream",
     "text": [
      "\rDictClassTransformer_CARDINAL fit: 100%|██████████| 9517064/9517064 [00:11<00:00, 815065.40it/s] "
     ]
    },
    {
     "name": "stderr",
     "output_type": "stream",
     "text": [
      "\n\rDictTransformer fit:   0%|          | 0/9517064 [00:00<?, ?it/s]"
     ]
    },
    {
     "name": "stderr",
     "output_type": "stream",
     "text": [
      "\rDictTransformer fit:   0%|          | 352/9517064 [00:01<11:30:40, 229.65it/s]"
     ]
    },
    {
     "name": "stderr",
     "output_type": "stream",
     "text": [
      "\rDictTransformer fit:   0%|          | 19141/9517064 [00:01<8:02:46, 327.90it/s]"
     ]
    },
    {
     "name": "stderr",
     "output_type": "stream",
     "text": [
      "\rDictTransformer fit:   0%|          | 40658/9517064 [00:01<5:37:23, 468.12it/s]"
     ]
    },
    {
     "name": "stderr",
     "output_type": "stream",
     "text": [
      "\rDictTransformer fit:   1%|          | 60076/9517064 [00:01<3:55:56, 668.05it/s]"
     ]
    },
    {
     "name": "stderr",
     "output_type": "stream",
     "text": [
      "\rDictTransformer fit:   1%|          | 73184/9517064 [00:04<2:52:53, 910.38it/s]"
     ]
    },
    {
     "name": "stderr",
     "output_type": "stream",
     "text": [
      "\rDictTransformer fit:   1%|          | 101384/9517064 [00:04<2:00:49, 1298.75it/s]"
     ]
    },
    {
     "name": "stderr",
     "output_type": "stream",
     "text": [
      "\rDictTransformer fit:   1%|▏         | 129215/9517064 [00:04<1:24:29, 1851.65it/s]"
     ]
    },
    {
     "name": "stderr",
     "output_type": "stream",
     "text": [
      "\rDictTransformer fit:   2%|▏         | 160853/9517064 [00:04<59:05, 2638.59it/s]  "
     ]
    },
    {
     "name": "stderr",
     "output_type": "stream",
     "text": [
      "\rDictTransformer fit:   2%|▏         | 193836/9517064 [00:04<41:21, 3756.54it/s]"
     ]
    },
    {
     "name": "stderr",
     "output_type": "stream",
     "text": [
      "\rDictTransformer fit:   2%|▏         | 225647/9517064 [00:04<29:00, 5339.46it/s]"
     ]
    },
    {
     "name": "stderr",
     "output_type": "stream",
     "text": [
      "\rDictTransformer fit:   3%|▎         | 257695/9517064 [00:04<20:22, 7573.72it/s]"
     ]
    },
    {
     "name": "stderr",
     "output_type": "stream",
     "text": [
      "\rDictTransformer fit:   3%|▎         | 291379/9517064 [00:04<14:20, 10716.33it/s]"
     ]
    },
    {
     "name": "stderr",
     "output_type": "stream",
     "text": [
      "\rDictTransformer fit:   3%|▎         | 324662/9517064 [00:04<10:08, 15100.67it/s]"
     ]
    },
    {
     "name": "stderr",
     "output_type": "stream",
     "text": [
      "\rDictTransformer fit:   4%|▍         | 359855/9517064 [00:04<07:12, 21182.84it/s]"
     ]
    },
    {
     "name": "stderr",
     "output_type": "stream",
     "text": [
      "\rDictTransformer fit:   4%|▍         | 396410/9517064 [00:05<05:08, 29527.87it/s]"
     ]
    },
    {
     "name": "stderr",
     "output_type": "stream",
     "text": [
      "\rDictTransformer fit:   5%|▍         | 433933/9517064 [00:05<03:42, 40806.42it/s]"
     ]
    },
    {
     "name": "stderr",
     "output_type": "stream",
     "text": [
      "\rDictTransformer fit:   5%|▍         | 471245/9517064 [00:05<02:42, 55684.85it/s]"
     ]
    },
    {
     "name": "stderr",
     "output_type": "stream",
     "text": [
      "\rDictTransformer fit:   5%|▌         | 508046/9517064 [00:05<02:00, 74705.21it/s]"
     ]
    },
    {
     "name": "stderr",
     "output_type": "stream",
     "text": [
      "\rDictTransformer fit:   6%|▌         | 543983/9517064 [00:05<01:31, 97896.63it/s]"
     ]
    },
    {
     "name": "stderr",
     "output_type": "stream",
     "text": [
      "\rDictTransformer fit:   6%|▌         | 581450/9517064 [00:05<01:11, 125768.56it/s]"
     ]
    },
    {
     "name": "stderr",
     "output_type": "stream",
     "text": [
      "\rDictTransformer fit:   6%|▋         | 617758/9517064 [00:05<00:57, 156102.07it/s]"
     ]
    },
    {
     "name": "stderr",
     "output_type": "stream",
     "text": [
      "\rDictTransformer fit:   7%|▋         | 653884/9517064 [00:05<00:47, 188012.70it/s]"
     ]
    },
    {
     "name": "stderr",
     "output_type": "stream",
     "text": [
      "\rDictTransformer fit:   7%|▋         | 691196/9517064 [00:05<00:39, 220887.55it/s]"
     ]
    },
    {
     "name": "stderr",
     "output_type": "stream",
     "text": [
      "\rDictTransformer fit:   8%|▊         | 727749/9517064 [00:05<00:35, 250640.62it/s]"
     ]
    },
    {
     "name": "stderr",
     "output_type": "stream",
     "text": [
      "\rDictTransformer fit:   8%|▊         | 765325/9517064 [00:06<00:31, 278455.22it/s]"
     ]
    },
    {
     "name": "stderr",
     "output_type": "stream",
     "text": [
      "\rDictTransformer fit:   8%|▊         | 802132/9517064 [00:06<00:29, 296565.78it/s]"
     ]
    },
    {
     "name": "stderr",
     "output_type": "stream",
     "text": [
      "\rDictTransformer fit:   9%|▉         | 842248/9517064 [00:06<00:26, 321730.37it/s]"
     ]
    },
    {
     "name": "stderr",
     "output_type": "stream",
     "text": [
      "\rDictTransformer fit:   9%|▉         | 882222/9517064 [00:06<00:25, 341735.69it/s]"
     ]
    },
    {
     "name": "stderr",
     "output_type": "stream",
     "text": [
      "\rDictTransformer fit:  10%|▉         | 923079/9517064 [00:06<00:23, 359369.89it/s]"
     ]
    },
    {
     "name": "stderr",
     "output_type": "stream",
     "text": [
      "\rDictTransformer fit:  10%|█         | 962063/9517064 [00:06<00:24, 355300.63it/s]"
     ]
    },
    {
     "name": "stderr",
     "output_type": "stream",
     "text": [
      "\rDictTransformer fit:  11%|█         | 1001117/9517064 [00:06<00:23, 365183.04it/s]"
     ]
    },
    {
     "name": "stderr",
     "output_type": "stream",
     "text": [
      "\rDictTransformer fit:  11%|█         | 1041774/9517064 [00:06<00:22, 376684.63it/s]"
     ]
    },
    {
     "name": "stderr",
     "output_type": "stream",
     "text": [
      "\rDictTransformer fit:  11%|█▏        | 1080632/9517064 [00:06<00:22, 371005.70it/s]"
     ]
    },
    {
     "name": "stderr",
     "output_type": "stream",
     "text": [
      "\rDictTransformer fit:  12%|█▏        | 1120816/9517064 [00:06<00:22, 379745.21it/s]"
     ]
    },
    {
     "name": "stderr",
     "output_type": "stream",
     "text": [
      "\rDictTransformer fit:  12%|█▏        | 1160698/9517064 [00:07<00:21, 385272.05it/s]"
     ]
    },
    {
     "name": "stderr",
     "output_type": "stream",
     "text": [
      "\rDictTransformer fit:  13%|█▎        | 1200760/9517064 [00:07<00:21, 389750.55it/s]"
     ]
    },
    {
     "name": "stderr",
     "output_type": "stream",
     "text": [
      "\rDictTransformer fit:  13%|█▎        | 1241592/9517064 [00:07<00:20, 395141.42it/s]"
     ]
    },
    {
     "name": "stderr",
     "output_type": "stream",
     "text": [
      "\rDictTransformer fit:  13%|█▎        | 1281365/9517064 [00:07<00:33, 245943.22it/s]"
     ]
    },
    {
     "name": "stderr",
     "output_type": "stream",
     "text": [
      "\rDictTransformer fit:  14%|█▍        | 1319646/9517064 [00:07<00:29, 275489.35it/s]"
     ]
    },
    {
     "name": "stderr",
     "output_type": "stream",
     "text": [
      "\rDictTransformer fit:  14%|█▍        | 1359599/9517064 [00:07<00:26, 303776.71it/s]"
     ]
    },
    {
     "name": "stderr",
     "output_type": "stream",
     "text": [
      "\rDictTransformer fit:  15%|█▍        | 1401447/9517064 [00:07<00:24, 330993.16it/s]"
     ]
    },
    {
     "name": "stderr",
     "output_type": "stream",
     "text": [
      "\rDictTransformer fit:  15%|█▌        | 1442761/9517064 [00:07<00:22, 351988.57it/s]"
     ]
    },
    {
     "name": "stderr",
     "output_type": "stream",
     "text": [
      "\rDictTransformer fit:  16%|█▌        | 1483735/9517064 [00:08<00:21, 367527.36it/s]"
     ]
    },
    {
     "name": "stderr",
     "output_type": "stream",
     "text": [
      "\rDictTransformer fit:  16%|█▌        | 1525091/9517064 [00:08<00:21, 380216.58it/s]"
     ]
    },
    {
     "name": "stderr",
     "output_type": "stream",
     "text": [
      "\rDictTransformer fit:  16%|█▋        | 1567933/9517064 [00:08<00:20, 393496.90it/s]"
     ]
    },
    {
     "name": "stderr",
     "output_type": "stream",
     "text": [
      "\rDictTransformer fit:  17%|█▋        | 1609333/9517064 [00:08<00:19, 399427.91it/s]"
     ]
    },
    {
     "name": "stderr",
     "output_type": "stream",
     "text": [
      "\rDictTransformer fit:  17%|█▋        | 1651086/9517064 [00:08<00:19, 404685.49it/s]"
     ]
    },
    {
     "name": "stderr",
     "output_type": "stream",
     "text": [
      "\rDictTransformer fit:  18%|█▊        | 1692301/9517064 [00:08<00:19, 400249.48it/s]"
     ]
    },
    {
     "name": "stderr",
     "output_type": "stream",
     "text": [
      "\rDictTransformer fit:  18%|█▊        | 1732859/9517064 [00:08<00:19, 401608.30it/s]"
     ]
    },
    {
     "name": "stderr",
     "output_type": "stream",
     "text": [
      "\rDictTransformer fit:  19%|█▊        | 1773394/9517064 [00:08<00:19, 401599.52it/s]"
     ]
    },
    {
     "name": "stderr",
     "output_type": "stream",
     "text": [
      "\rDictTransformer fit:  19%|█▉        | 1813816/9517064 [00:08<00:19, 400803.51it/s]"
     ]
    },
    {
     "name": "stderr",
     "output_type": "stream",
     "text": [
      "\rDictTransformer fit:  19%|█▉        | 1854081/9517064 [00:10<02:03, 62259.81it/s] "
     ]
    },
    {
     "name": "stderr",
     "output_type": "stream",
     "text": [
      "\rDictTransformer fit:  20%|█▉        | 1882895/9517064 [00:10<01:35, 80358.47it/s]"
     ]
    },
    {
     "name": "stderr",
     "output_type": "stream",
     "text": [
      "\rDictTransformer fit:  20%|██        | 1920244/9517064 [00:11<01:12, 105105.49it/s]"
     ]
    },
    {
     "name": "stderr",
     "output_type": "stream",
     "text": [
      "\rDictTransformer fit:  21%|██        | 1959394/9517064 [00:11<00:56, 134657.15it/s]"
     ]
    },
    {
     "name": "stderr",
     "output_type": "stream",
     "text": [
      "\rDictTransformer fit:  21%|██        | 1998087/9517064 [00:11<00:44, 167399.65it/s]"
     ]
    },
    {
     "name": "stderr",
     "output_type": "stream",
     "text": [
      "\rDictTransformer fit:  21%|██▏       | 2036241/9517064 [00:11<00:37, 201291.47it/s]"
     ]
    },
    {
     "name": "stderr",
     "output_type": "stream",
     "text": [
      "\rDictTransformer fit:  22%|██▏       | 2073634/9517064 [00:11<00:31, 233652.64it/s]"
     ]
    },
    {
     "name": "stderr",
     "output_type": "stream",
     "text": [
      "\rDictTransformer fit:  22%|██▏       | 2109920/9517064 [00:11<00:29, 250606.73it/s]"
     ]
    },
    {
     "name": "stderr",
     "output_type": "stream",
     "text": [
      "\rDictTransformer fit:  23%|██▎       | 2144371/9517064 [00:11<00:29, 251760.30it/s]"
     ]
    },
    {
     "name": "stderr",
     "output_type": "stream",
     "text": [
      "\rDictTransformer fit:  23%|██▎       | 2176122/9517064 [00:11<00:29, 249504.83it/s]"
     ]
    },
    {
     "name": "stderr",
     "output_type": "stream",
     "text": [
      "\rDictTransformer fit:  23%|██▎       | 2205679/9517064 [00:11<00:31, 235727.26it/s]"
     ]
    },
    {
     "name": "stderr",
     "output_type": "stream",
     "text": [
      "\rDictTransformer fit:  23%|██▎       | 2232634/9517064 [00:12<00:31, 234418.19it/s]"
     ]
    },
    {
     "name": "stderr",
     "output_type": "stream",
     "text": [
      "\rDictTransformer fit:  24%|██▎       | 2258445/9517064 [00:12<00:30, 239304.18it/s]"
     ]
    },
    {
     "name": "stderr",
     "output_type": "stream",
     "text": [
      "\rDictTransformer fit:  24%|██▍       | 2287699/9517064 [00:12<00:28, 253122.30it/s]"
     ]
    },
    {
     "name": "stderr",
     "output_type": "stream",
     "text": [
      "\rDictTransformer fit:  24%|██▍       | 2323612/9517064 [00:12<00:25, 277713.07it/s]"
     ]
    },
    {
     "name": "stderr",
     "output_type": "stream",
     "text": [
      "\rDictTransformer fit:  25%|██▍       | 2354024/9517064 [00:12<00:25, 285140.64it/s]"
     ]
    },
    {
     "name": "stderr",
     "output_type": "stream",
     "text": [
      "\rDictTransformer fit:  25%|██▌       | 2392929/9517064 [00:12<00:22, 309976.41it/s]"
     ]
    },
    {
     "name": "stderr",
     "output_type": "stream",
     "text": [
      "\rDictTransformer fit:  26%|██▌       | 2433581/9517064 [00:12<00:21, 333754.56it/s]"
     ]
    },
    {
     "name": "stderr",
     "output_type": "stream",
     "text": [
      "\rDictTransformer fit:  26%|██▌       | 2475610/9517064 [00:12<00:19, 355727.12it/s]"
     ]
    },
    {
     "name": "stderr",
     "output_type": "stream",
     "text": [
      "\rDictTransformer fit:  26%|██▋       | 2519520/9517064 [00:12<00:18, 377212.78it/s]"
     ]
    },
    {
     "name": "stderr",
     "output_type": "stream",
     "text": [
      "\rDictTransformer fit:  27%|██▋       | 2562639/9517064 [00:12<00:17, 391926.11it/s]"
     ]
    },
    {
     "name": "stderr",
     "output_type": "stream",
     "text": [
      "\rDictTransformer fit:  27%|██▋       | 2606505/9517064 [00:13<00:17, 404859.61it/s]"
     ]
    },
    {
     "name": "stderr",
     "output_type": "stream",
     "text": [
      "\rDictTransformer fit:  28%|██▊       | 2651169/9517064 [00:13<00:16, 416548.28it/s]"
     ]
    },
    {
     "name": "stderr",
     "output_type": "stream",
     "text": [
      "\rDictTransformer fit:  28%|██▊       | 2697105/9517064 [00:13<00:15, 428527.34it/s]"
     ]
    },
    {
     "name": "stderr",
     "output_type": "stream",
     "text": [
      "\rDictTransformer fit:  29%|██▉       | 2742840/9517064 [00:13<00:15, 436781.88it/s]"
     ]
    },
    {
     "name": "stderr",
     "output_type": "stream",
     "text": [
      "\rDictTransformer fit:  29%|██▉       | 2786967/9517064 [00:13<00:16, 415473.05it/s]"
     ]
    },
    {
     "name": "stderr",
     "output_type": "stream",
     "text": [
      "\rDictTransformer fit:  30%|██▉       | 2829046/9517064 [00:13<00:16, 412117.02it/s]"
     ]
    },
    {
     "name": "stderr",
     "output_type": "stream",
     "text": [
      "\rDictTransformer fit:  30%|███       | 2871232/9517064 [00:13<00:16, 414991.28it/s]"
     ]
    },
    {
     "name": "stderr",
     "output_type": "stream",
     "text": [
      "\rDictTransformer fit:  31%|███       | 2917405/9517064 [00:13<00:15, 427986.93it/s]"
     ]
    },
    {
     "name": "stderr",
     "output_type": "stream",
     "text": [
      "\rDictTransformer fit:  31%|███       | 2960495/9517064 [00:13<00:15, 426326.36it/s]"
     ]
    },
    {
     "name": "stderr",
     "output_type": "stream",
     "text": [
      "\rDictTransformer fit:  32%|███▏      | 3003333/9517064 [00:14<00:15, 418678.64it/s]"
     ]
    },
    {
     "name": "stderr",
     "output_type": "stream",
     "text": [
      "\rDictTransformer fit:  32%|███▏      | 3047003/9517064 [00:14<00:15, 423923.21it/s]"
     ]
    },
    {
     "name": "stderr",
     "output_type": "stream",
     "text": [
      "\rDictTransformer fit:  32%|███▏      | 3091474/9517064 [00:14<00:14, 429950.94it/s]"
     ]
    },
    {
     "name": "stderr",
     "output_type": "stream",
     "text": [
      "\rDictTransformer fit:  33%|███▎      | 3134587/9517064 [00:14<00:14, 425623.35it/s]"
     ]
    },
    {
     "name": "stderr",
     "output_type": "stream",
     "text": [
      "\rDictTransformer fit:  33%|███▎      | 3178624/9517064 [00:14<00:14, 429941.21it/s]"
     ]
    },
    {
     "name": "stderr",
     "output_type": "stream",
     "text": [
      "\rDictTransformer fit:  34%|███▍      | 3222679/9517064 [00:14<00:14, 433067.19it/s]"
     ]
    },
    {
     "name": "stderr",
     "output_type": "stream",
     "text": [
      "\rDictTransformer fit:  34%|███▍      | 3266044/9517064 [00:14<00:14, 427305.77it/s]"
     ]
    },
    {
     "name": "stderr",
     "output_type": "stream",
     "text": [
      "\rDictTransformer fit:  35%|███▍      | 3310768/9517064 [00:14<00:14, 433094.35it/s]"
     ]
    },
    {
     "name": "stderr",
     "output_type": "stream",
     "text": [
      "\rDictTransformer fit:  35%|███▌      | 3356794/9517064 [00:14<00:13, 440899.87it/s]"
     ]
    },
    {
     "name": "stderr",
     "output_type": "stream",
     "text": [
      "\rDictTransformer fit:  36%|███▌      | 3400960/9517064 [00:14<00:16, 381720.60it/s]"
     ]
    },
    {
     "name": "stderr",
     "output_type": "stream",
     "text": [
      "\rDictTransformer fit:  36%|███▌      | 3440597/9517064 [00:15<00:16, 368540.53it/s]"
     ]
    },
    {
     "name": "stderr",
     "output_type": "stream",
     "text": [
      "\rDictTransformer fit:  37%|███▋      | 3482440/9517064 [00:15<00:15, 382208.73it/s]"
     ]
    },
    {
     "name": "stderr",
     "output_type": "stream",
     "text": [
      "\rDictTransformer fit:  37%|███▋      | 3521577/9517064 [00:15<00:15, 380592.86it/s]"
     ]
    },
    {
     "name": "stderr",
     "output_type": "stream",
     "text": [
      "\rDictTransformer fit:  37%|███▋      | 3564856/9517064 [00:15<00:15, 394879.18it/s]"
     ]
    },
    {
     "name": "stderr",
     "output_type": "stream",
     "text": [
      "\rDictTransformer fit:  38%|███▊      | 3605362/9517064 [00:15<00:14, 397868.77it/s]"
     ]
    },
    {
     "name": "stderr",
     "output_type": "stream",
     "text": [
      "\rDictTransformer fit:  38%|███▊      | 3645566/9517064 [00:15<00:14, 398593.49it/s]"
     ]
    },
    {
     "name": "stderr",
     "output_type": "stream",
     "text": [
      "\rDictTransformer fit:  39%|███▉      | 3691380/9517064 [00:15<00:14, 414765.23it/s]"
     ]
    },
    {
     "name": "stderr",
     "output_type": "stream",
     "text": [
      "\rDictTransformer fit:  39%|███▉      | 3736890/9517064 [00:15<00:13, 426091.99it/s]"
     ]
    },
    {
     "name": "stderr",
     "output_type": "stream",
     "text": [
      "\rDictTransformer fit:  40%|███▉      | 3779838/9517064 [00:15<00:13, 422290.01it/s]"
     ]
    },
    {
     "name": "stderr",
     "output_type": "stream",
     "text": [
      "\rDictTransformer fit:  40%|████      | 3824445/9517064 [00:15<00:13, 429149.74it/s]"
     ]
    },
    {
     "name": "stderr",
     "output_type": "stream",
     "text": [
      "\rDictTransformer fit:  41%|████      | 3869181/9517064 [00:16<00:13, 434451.42it/s]"
     ]
    },
    {
     "name": "stderr",
     "output_type": "stream",
     "text": [
      "\rDictTransformer fit:  41%|████      | 3914922/9517064 [00:16<00:12, 441091.90it/s]"
     ]
    },
    {
     "name": "stderr",
     "output_type": "stream",
     "text": [
      "\rDictTransformer fit:  42%|████▏     | 3959721/9517064 [00:16<00:12, 443136.23it/s]"
     ]
    },
    {
     "name": "stderr",
     "output_type": "stream",
     "text": [
      "\rDictTransformer fit:  42%|████▏     | 4004499/9517064 [00:16<00:12, 444519.02it/s]"
     ]
    },
    {
     "name": "stderr",
     "output_type": "stream",
     "text": [
      "\rDictTransformer fit:  43%|████▎     | 4049019/9517064 [00:16<00:12, 442152.32it/s]"
     ]
    },
    {
     "name": "stderr",
     "output_type": "stream",
     "text": [
      "\rDictTransformer fit:  43%|████▎     | 4093285/9517064 [00:16<00:12, 431140.53it/s]"
     ]
    },
    {
     "name": "stderr",
     "output_type": "stream",
     "text": [
      "\rDictTransformer fit:  43%|████▎     | 4139006/9517064 [00:16<00:12, 438642.70it/s]"
     ]
    },
    {
     "name": "stderr",
     "output_type": "stream",
     "text": [
      "\rDictTransformer fit:  44%|████▍     | 4184003/9517064 [00:16<00:12, 441977.88it/s]"
     ]
    },
    {
     "name": "stderr",
     "output_type": "stream",
     "text": [
      "\rDictTransformer fit:  44%|████▍     | 4228276/9517064 [00:16<00:12, 438293.46it/s]"
     ]
    },
    {
     "name": "stderr",
     "output_type": "stream",
     "text": [
      "\rDictTransformer fit:  45%|████▍     | 4272649/9517064 [00:16<00:11, 439907.70it/s]"
     ]
    },
    {
     "name": "stderr",
     "output_type": "stream",
     "text": [
      "\rDictTransformer fit:  45%|████▌     | 4316683/9517064 [00:17<00:12, 425571.97it/s]"
     ]
    },
    {
     "name": "stderr",
     "output_type": "stream",
     "text": [
      "\rDictTransformer fit:  46%|████▌     | 4360194/9517064 [00:17<00:12, 428387.80it/s]"
     ]
    },
    {
     "name": "stderr",
     "output_type": "stream",
     "text": [
      "\rDictTransformer fit:  46%|████▋     | 4403130/9517064 [00:17<00:12, 407794.36it/s]"
     ]
    },
    {
     "name": "stderr",
     "output_type": "stream",
     "text": [
      "\rDictTransformer fit:  47%|████▋     | 4447297/9517064 [00:17<00:12, 417398.41it/s]"
     ]
    },
    {
     "name": "stderr",
     "output_type": "stream",
     "text": [
      "\rDictTransformer fit:  47%|████▋     | 4493109/9517064 [00:17<00:11, 428832.89it/s]"
     ]
    },
    {
     "name": "stderr",
     "output_type": "stream",
     "text": [
      "\rDictTransformer fit:  48%|████▊     | 4536245/9517064 [00:17<00:11, 425183.76it/s]"
     ]
    },
    {
     "name": "stderr",
     "output_type": "stream",
     "text": [
      "\rDictTransformer fit:  48%|████▊     | 4579714/9517064 [00:17<00:11, 427989.09it/s]"
     ]
    },
    {
     "name": "stderr",
     "output_type": "stream",
     "text": [
      "\rDictTransformer fit:  49%|████▊     | 4623656/9517064 [00:17<00:11, 431351.31it/s]"
     ]
    },
    {
     "name": "stderr",
     "output_type": "stream",
     "text": [
      "\rDictTransformer fit:  49%|████▉     | 4666891/9517064 [00:17<00:11, 420780.73it/s]"
     ]
    },
    {
     "name": "stderr",
     "output_type": "stream",
     "text": [
      "\rDictTransformer fit:  49%|████▉     | 4710480/9517064 [00:18<00:11, 425199.82it/s]"
     ]
    },
    {
     "name": "stderr",
     "output_type": "stream",
     "text": [
      "\rDictTransformer fit:  50%|████▉     | 4755636/9517064 [00:18<00:11, 432777.90it/s]"
     ]
    },
    {
     "name": "stderr",
     "output_type": "stream",
     "text": [
      "\rDictTransformer fit:  50%|█████     | 4800475/9517064 [00:18<00:10, 437345.07it/s]"
     ]
    },
    {
     "name": "stderr",
     "output_type": "stream",
     "text": [
      "\rDictTransformer fit:  51%|█████     | 4844293/9517064 [00:18<00:10, 435359.41it/s]"
     ]
    },
    {
     "name": "stderr",
     "output_type": "stream",
     "text": [
      "\rDictTransformer fit:  51%|█████▏    | 4890655/9517064 [00:18<00:10, 443466.78it/s]"
     ]
    },
    {
     "name": "stderr",
     "output_type": "stream",
     "text": [
      "\rDictTransformer fit:  52%|█████▏    | 4936728/9517064 [00:18<00:10, 448507.24it/s]"
     ]
    },
    {
     "name": "stderr",
     "output_type": "stream",
     "text": [
      "\rDictTransformer fit:  52%|█████▏    | 4981648/9517064 [00:18<00:12, 373050.13it/s]"
     ]
    },
    {
     "name": "stderr",
     "output_type": "stream",
     "text": [
      "\rDictTransformer fit:  53%|█████▎    | 5021129/9517064 [00:18<00:12, 345891.63it/s]"
     ]
    },
    {
     "name": "stderr",
     "output_type": "stream",
     "text": [
      "\rDictTransformer fit:  53%|█████▎    | 5057636/9517064 [00:18<00:13, 321181.75it/s]"
     ]
    },
    {
     "name": "stderr",
     "output_type": "stream",
     "text": [
      "\rDictTransformer fit:  54%|█████▎    | 5096469/9517064 [00:19<00:13, 338754.39it/s]"
     ]
    },
    {
     "name": "stderr",
     "output_type": "stream",
     "text": [
      "\rDictTransformer fit:  54%|█████▍    | 5131789/9517064 [00:19<00:14, 302572.11it/s]"
     ]
    },
    {
     "name": "stderr",
     "output_type": "stream",
     "text": [
      "\rDictTransformer fit:  54%|█████▍    | 5163779/9517064 [00:19<00:14, 307296.11it/s]"
     ]
    },
    {
     "name": "stderr",
     "output_type": "stream",
     "text": [
      "\rDictTransformer fit:  55%|█████▍    | 5197714/9517064 [00:19<00:13, 316252.73it/s]"
     ]
    },
    {
     "name": "stderr",
     "output_type": "stream",
     "text": [
      "\rDictTransformer fit:  55%|█████▍    | 5230267/9517064 [00:19<00:13, 307428.25it/s]"
     ]
    },
    {
     "name": "stderr",
     "output_type": "stream",
     "text": [
      "\rDictTransformer fit:  55%|█████▌    | 5263271/9517064 [00:19<00:13, 313879.49it/s]"
     ]
    },
    {
     "name": "stderr",
     "output_type": "stream",
     "text": [
      "\rDictTransformer fit:  56%|█████▌    | 5300076/9517064 [00:19<00:12, 328378.02it/s]"
     ]
    },
    {
     "name": "stderr",
     "output_type": "stream",
     "text": [
      "\rDictTransformer fit:  56%|█████▌    | 5333457/9517064 [00:19<00:12, 329591.01it/s]"
     ]
    },
    {
     "name": "stderr",
     "output_type": "stream",
     "text": [
      "\rDictTransformer fit:  56%|█████▋    | 5371367/9517064 [00:19<00:12, 343028.64it/s]"
     ]
    },
    {
     "name": "stderr",
     "output_type": "stream",
     "text": [
      "\rDictTransformer fit:  57%|█████▋    | 5409806/9517064 [00:20<00:11, 354470.17it/s]"
     ]
    },
    {
     "name": "stderr",
     "output_type": "stream",
     "text": [
      "\rDictTransformer fit:  57%|█████▋    | 5445636/9517064 [00:20<00:11, 347205.74it/s]"
     ]
    },
    {
     "name": "stderr",
     "output_type": "stream",
     "text": [
      "\rDictTransformer fit:  58%|█████▊    | 5480658/9517064 [00:20<00:12, 334800.90it/s]"
     ]
    },
    {
     "name": "stderr",
     "output_type": "stream",
     "text": [
      "\rDictTransformer fit:  58%|█████▊    | 5515509/9517064 [00:20<00:11, 338798.89it/s]"
     ]
    },
    {
     "name": "stderr",
     "output_type": "stream",
     "text": [
      "\rDictTransformer fit:  58%|█████▊    | 5550030/9517064 [00:20<00:11, 340696.93it/s]"
     ]
    },
    {
     "name": "stderr",
     "output_type": "stream",
     "text": [
      "\rDictTransformer fit:  59%|█████▊    | 5584261/9517064 [00:20<00:11, 336904.21it/s]"
     ]
    },
    {
     "name": "stderr",
     "output_type": "stream",
     "text": [
      "\rDictTransformer fit:  59%|█████▉    | 5620325/9517064 [00:20<00:11, 343689.43it/s]"
     ]
    },
    {
     "name": "stderr",
     "output_type": "stream",
     "text": [
      "\rDictTransformer fit:  59%|█████▉    | 5661011/9517064 [00:20<00:10, 360476.71it/s]"
     ]
    },
    {
     "name": "stderr",
     "output_type": "stream",
     "text": [
      "\rDictTransformer fit:  60%|█████▉    | 5702544/9517064 [00:20<00:10, 375345.52it/s]"
     ]
    },
    {
     "name": "stderr",
     "output_type": "stream",
     "text": [
      "\rDictTransformer fit:  60%|██████    | 5740447/9517064 [00:20<00:10, 369335.65it/s]"
     ]
    },
    {
     "name": "stderr",
     "output_type": "stream",
     "text": [
      "\rDictTransformer fit:  61%|██████    | 5777660/9517064 [00:21<00:10, 364881.93it/s]"
     ]
    },
    {
     "name": "stderr",
     "output_type": "stream",
     "text": [
      "\rDictTransformer fit:  61%|██████    | 5814356/9517064 [00:21<00:10, 363767.17it/s]"
     ]
    },
    {
     "name": "stderr",
     "output_type": "stream",
     "text": [
      "\rDictTransformer fit:  61%|██████▏   | 5850879/9517064 [00:21<00:10, 351713.37it/s]"
     ]
    },
    {
     "name": "stderr",
     "output_type": "stream",
     "text": [
      "\rDictTransformer fit:  62%|██████▏   | 5890744/9517064 [00:21<00:09, 364588.34it/s]"
     ]
    },
    {
     "name": "stderr",
     "output_type": "stream",
     "text": [
      "\rDictTransformer fit:  62%|██████▏   | 5935570/9517064 [00:21<00:09, 386210.59it/s]"
     ]
    },
    {
     "name": "stderr",
     "output_type": "stream",
     "text": [
      "\rDictTransformer fit:  63%|██████▎   | 5976229/9517064 [00:21<00:09, 392104.31it/s]"
     ]
    },
    {
     "name": "stderr",
     "output_type": "stream",
     "text": [
      "\rDictTransformer fit:  63%|██████▎   | 6015828/9517064 [00:21<00:09, 379381.70it/s]"
     ]
    },
    {
     "name": "stderr",
     "output_type": "stream",
     "text": [
      "\rDictTransformer fit:  64%|██████▎   | 6056073/9517064 [00:21<00:08, 386017.64it/s]"
     ]
    },
    {
     "name": "stderr",
     "output_type": "stream",
     "text": [
      "\rDictTransformer fit:  64%|██████▍   | 6094957/9517064 [00:23<00:50, 67150.43it/s] "
     ]
    },
    {
     "name": "stderr",
     "output_type": "stream",
     "text": [
      "\rDictTransformer fit:  64%|██████▍   | 6132640/9517064 [00:23<00:37, 89122.71it/s]"
     ]
    },
    {
     "name": "stderr",
     "output_type": "stream",
     "text": [
      "\rDictTransformer fit:  65%|██████▍   | 6176387/9517064 [00:23<00:28, 117094.53it/s]"
     ]
    },
    {
     "name": "stderr",
     "output_type": "stream",
     "text": [
      "\rDictTransformer fit:  65%|██████▌   | 6221116/9517064 [00:23<00:21, 150402.57it/s]"
     ]
    },
    {
     "name": "stderr",
     "output_type": "stream",
     "text": [
      "\rDictTransformer fit:  66%|██████▌   | 6267085/9517064 [00:23<00:17, 188437.82it/s]"
     ]
    },
    {
     "name": "stderr",
     "output_type": "stream",
     "text": [
      "\rDictTransformer fit:  66%|██████▋   | 6312554/9517064 [00:23<00:14, 228594.99it/s]"
     ]
    },
    {
     "name": "stderr",
     "output_type": "stream",
     "text": [
      "\rDictTransformer fit:  67%|██████▋   | 6358260/9517064 [00:24<00:11, 268921.71it/s]"
     ]
    },
    {
     "name": "stderr",
     "output_type": "stream",
     "text": [
      "\rDictTransformer fit:  67%|██████▋   | 6401215/9517064 [00:24<00:10, 302485.82it/s]"
     ]
    },
    {
     "name": "stderr",
     "output_type": "stream",
     "text": [
      "\rDictTransformer fit:  68%|██████▊   | 6444276/9517064 [00:24<00:09, 332131.92it/s]"
     ]
    },
    {
     "name": "stderr",
     "output_type": "stream",
     "text": [
      "\rDictTransformer fit:  68%|██████▊   | 6488340/9517064 [00:24<00:08, 358622.87it/s]"
     ]
    },
    {
     "name": "stderr",
     "output_type": "stream",
     "text": [
      "\rDictTransformer fit:  69%|██████▊   | 6532654/9517064 [00:24<00:07, 380382.69it/s]"
     ]
    },
    {
     "name": "stderr",
     "output_type": "stream",
     "text": [
      "\rDictTransformer fit:  69%|██████▉   | 6576236/9517064 [00:24<00:07, 392553.52it/s]"
     ]
    },
    {
     "name": "stderr",
     "output_type": "stream",
     "text": [
      "\rDictTransformer fit:  70%|██████▉   | 6623065/9517064 [00:24<00:07, 412570.88it/s]"
     ]
    },
    {
     "name": "stderr",
     "output_type": "stream",
     "text": [
      "\rDictTransformer fit:  70%|███████   | 6669215/9517064 [00:24<00:06, 426122.02it/s]"
     ]
    },
    {
     "name": "stderr",
     "output_type": "stream",
     "text": [
      "\rDictTransformer fit:  71%|███████   | 6714079/9517064 [00:24<00:06, 430814.43it/s]"
     ]
    },
    {
     "name": "stderr",
     "output_type": "stream",
     "text": [
      "\rDictTransformer fit:  71%|███████   | 6758749/9517064 [00:24<00:06, 434052.40it/s]"
     ]
    },
    {
     "name": "stderr",
     "output_type": "stream",
     "text": [
      "\rDictTransformer fit:  71%|███████▏  | 6803492/9517064 [00:25<00:06, 437974.30it/s]"
     ]
    },
    {
     "name": "stderr",
     "output_type": "stream",
     "text": [
      "\rDictTransformer fit:  72%|███████▏  | 6849379/9517064 [00:25<00:06, 444039.01it/s]"
     ]
    },
    {
     "name": "stderr",
     "output_type": "stream",
     "text": [
      "\rDictTransformer fit:  72%|███████▏  | 6897446/9517064 [00:25<00:05, 454420.80it/s]"
     ]
    },
    {
     "name": "stderr",
     "output_type": "stream",
     "text": [
      "\rDictTransformer fit:  73%|███████▎  | 6943350/9517064 [00:25<00:05, 449181.59it/s]"
     ]
    },
    {
     "name": "stderr",
     "output_type": "stream",
     "text": [
      "\rDictTransformer fit:  73%|███████▎  | 6989582/9517064 [00:25<00:05, 453036.22it/s]"
     ]
    },
    {
     "name": "stderr",
     "output_type": "stream",
     "text": [
      "\rDictTransformer fit:  74%|███████▍  | 7035130/9517064 [00:25<00:05, 440397.70it/s]"
     ]
    },
    {
     "name": "stderr",
     "output_type": "stream",
     "text": [
      "\rDictTransformer fit:  74%|███████▍  | 7081277/9517064 [00:25<00:05, 446512.17it/s]"
     ]
    },
    {
     "name": "stderr",
     "output_type": "stream",
     "text": [
      "\rDictTransformer fit:  75%|███████▍  | 7128045/9517064 [00:25<00:05, 452658.36it/s]"
     ]
    },
    {
     "name": "stderr",
     "output_type": "stream",
     "text": [
      "\rDictTransformer fit:  75%|███████▌  | 7173467/9517064 [00:25<00:05, 451889.63it/s]"
     ]
    },
    {
     "name": "stderr",
     "output_type": "stream",
     "text": [
      "\rDictTransformer fit:  76%|███████▌  | 7218766/9517064 [00:26<00:05, 448758.65it/s]"
     ]
    },
    {
     "name": "stderr",
     "output_type": "stream",
     "text": [
      "\rDictTransformer fit:  76%|███████▋  | 7263928/9517064 [00:26<00:05, 449610.49it/s]"
     ]
    },
    {
     "name": "stderr",
     "output_type": "stream",
     "text": [
      "\rDictTransformer fit:  77%|███████▋  | 7308947/9517064 [00:26<00:04, 443921.56it/s]"
     ]
    },
    {
     "name": "stderr",
     "output_type": "stream",
     "text": [
      "\rDictTransformer fit:  77%|███████▋  | 7353396/9517064 [00:26<00:05, 427581.93it/s]"
     ]
    },
    {
     "name": "stderr",
     "output_type": "stream",
     "text": [
      "\rDictTransformer fit:  78%|███████▊  | 7399194/9517064 [00:26<00:04, 436267.67it/s]"
     ]
    },
    {
     "name": "stderr",
     "output_type": "stream",
     "text": [
      "\rDictTransformer fit:  78%|███████▊  | 7445472/9517064 [00:26<00:04, 443894.51it/s]"
     ]
    },
    {
     "name": "stderr",
     "output_type": "stream",
     "text": [
      "\rDictTransformer fit:  79%|███████▊  | 7490007/9517064 [00:26<00:04, 443334.98it/s]"
     ]
    },
    {
     "name": "stderr",
     "output_type": "stream",
     "text": [
      "\rDictTransformer fit:  79%|███████▉  | 7534705/9517064 [00:26<00:04, 444419.51it/s]"
     ]
    },
    {
     "name": "stderr",
     "output_type": "stream",
     "text": [
      "\rDictTransformer fit:  80%|███████▉  | 7581239/9517064 [00:26<00:04, 450492.76it/s]"
     ]
    },
    {
     "name": "stderr",
     "output_type": "stream",
     "text": [
      "\rDictTransformer fit:  80%|████████  | 7626359/9517064 [00:26<00:04, 385540.43it/s]"
     ]
    },
    {
     "name": "stderr",
     "output_type": "stream",
     "text": [
      "\rDictTransformer fit:  81%|████████  | 7666598/9517064 [00:27<00:05, 329472.08it/s]"
     ]
    },
    {
     "name": "stderr",
     "output_type": "stream",
     "text": [
      "\rDictTransformer fit:  81%|████████  | 7702145/9517064 [00:27<00:05, 336343.05it/s]"
     ]
    },
    {
     "name": "stderr",
     "output_type": "stream",
     "text": [
      "\rDictTransformer fit:  81%|████████▏ | 7745160/9517064 [00:27<00:04, 359885.63it/s]"
     ]
    },
    {
     "name": "stderr",
     "output_type": "stream",
     "text": [
      "\rDictTransformer fit:  82%|████████▏ | 7789007/9517064 [00:27<00:04, 380323.25it/s]"
     ]
    },
    {
     "name": "stderr",
     "output_type": "stream",
     "text": [
      "\rDictTransformer fit:  82%|████████▏ | 7828839/9517064 [00:27<00:04, 385546.08it/s]"
     ]
    },
    {
     "name": "stderr",
     "output_type": "stream",
     "text": [
      "\rDictTransformer fit:  83%|████████▎ | 7871680/9517064 [00:27<00:04, 397475.81it/s]"
     ]
    },
    {
     "name": "stderr",
     "output_type": "stream",
     "text": [
      "\rDictTransformer fit:  83%|████████▎ | 7913709/9517064 [00:27<00:03, 404052.20it/s]"
     ]
    },
    {
     "name": "stderr",
     "output_type": "stream",
     "text": [
      "\rDictTransformer fit:  84%|████████▎ | 7954744/9517064 [00:27<00:04, 364668.82it/s]"
     ]
    },
    {
     "name": "stderr",
     "output_type": "stream",
     "text": [
      "\rDictTransformer fit:  84%|████████▍ | 7996075/9517064 [00:27<00:04, 378014.90it/s]"
     ]
    },
    {
     "name": "stderr",
     "output_type": "stream",
     "text": [
      "\rDictTransformer fit:  84%|████████▍ | 8040931/9517064 [00:28<00:03, 396731.03it/s]"
     ]
    },
    {
     "name": "stderr",
     "output_type": "stream",
     "text": [
      "\rDictTransformer fit:  85%|████████▍ | 8086517/9517064 [00:28<00:03, 412791.61it/s]"
     ]
    },
    {
     "name": "stderr",
     "output_type": "stream",
     "text": [
      "\rDictTransformer fit:  85%|████████▌ | 8128598/9517064 [00:28<00:03, 409099.97it/s]"
     ]
    },
    {
     "name": "stderr",
     "output_type": "stream",
     "text": [
      "\rDictTransformer fit:  86%|████████▌ | 8170370/9517064 [00:28<00:03, 411648.22it/s]"
     ]
    },
    {
     "name": "stderr",
     "output_type": "stream",
     "text": [
      "\rDictTransformer fit:  86%|████████▋ | 8211937/9517064 [00:28<00:03, 370164.47it/s]"
     ]
    },
    {
     "name": "stderr",
     "output_type": "stream",
     "text": [
      "\rDictTransformer fit:  87%|████████▋ | 8250025/9517064 [00:28<00:04, 308551.68it/s]"
     ]
    },
    {
     "name": "stderr",
     "output_type": "stream",
     "text": [
      "\rDictTransformer fit:  87%|████████▋ | 8283354/9517064 [00:28<00:04, 294285.64it/s]"
     ]
    },
    {
     "name": "stderr",
     "output_type": "stream",
     "text": [
      "\rDictTransformer fit:  87%|████████▋ | 8321574/9517064 [00:28<00:03, 316098.40it/s]"
     ]
    },
    {
     "name": "stderr",
     "output_type": "stream",
     "text": [
      "\rDictTransformer fit:  88%|████████▊ | 8363548/9517064 [00:29<00:03, 341386.11it/s]"
     ]
    },
    {
     "name": "stderr",
     "output_type": "stream",
     "text": [
      "\rDictTransformer fit:  88%|████████▊ | 8405943/9517064 [00:29<00:03, 362568.98it/s]"
     ]
    },
    {
     "name": "stderr",
     "output_type": "stream",
     "text": [
      "\rDictTransformer fit:  89%|████████▊ | 8443830/9517064 [00:29<00:03, 334831.49it/s]"
     ]
    },
    {
     "name": "stderr",
     "output_type": "stream",
     "text": [
      "\rDictTransformer fit:  89%|████████▉ | 8483133/9517064 [00:29<00:02, 350394.35it/s]"
     ]
    },
    {
     "name": "stderr",
     "output_type": "stream",
     "text": [
      "\rDictTransformer fit:  90%|████████▉ | 8519455/9517064 [00:29<00:02, 350043.17it/s]"
     ]
    },
    {
     "name": "stderr",
     "output_type": "stream",
     "text": [
      "\rDictTransformer fit:  90%|████████▉ | 8558929/9517064 [00:29<00:02, 362349.98it/s]"
     ]
    },
    {
     "name": "stderr",
     "output_type": "stream",
     "text": [
      "\rDictTransformer fit:  90%|█████████ | 8595903/9517064 [00:29<00:02, 352074.04it/s]"
     ]
    },
    {
     "name": "stderr",
     "output_type": "stream",
     "text": [
      "\rDictTransformer fit:  91%|█████████ | 8631691/9517064 [00:29<00:02, 344092.06it/s]"
     ]
    },
    {
     "name": "stderr",
     "output_type": "stream",
     "text": [
      "\rDictTransformer fit:  91%|█████████ | 8666547/9517064 [00:29<00:02, 333636.60it/s]"
     ]
    },
    {
     "name": "stderr",
     "output_type": "stream",
     "text": [
      "\rDictTransformer fit:  91%|█████████▏| 8705472/9517064 [00:30<00:02, 348577.18it/s]"
     ]
    },
    {
     "name": "stderr",
     "output_type": "stream",
     "text": [
      "\rDictTransformer fit:  92%|█████████▏| 8745802/9517064 [00:30<00:02, 363367.72it/s]"
     ]
    },
    {
     "name": "stderr",
     "output_type": "stream",
     "text": [
      "\rDictTransformer fit:  92%|█████████▏| 8782611/9517064 [00:30<00:02, 325513.61it/s]"
     ]
    },
    {
     "name": "stderr",
     "output_type": "stream",
     "text": [
      "\rDictTransformer fit:  93%|█████████▎| 8816233/9517064 [00:30<00:02, 294928.96it/s]"
     ]
    },
    {
     "name": "stderr",
     "output_type": "stream",
     "text": [
      "\rDictTransformer fit:  93%|█████████▎| 8847026/9517064 [00:30<00:02, 297638.52it/s]"
     ]
    },
    {
     "name": "stderr",
     "output_type": "stream",
     "text": [
      "\rDictTransformer fit:  93%|█████████▎| 8886558/9517064 [00:30<00:01, 321466.11it/s]"
     ]
    },
    {
     "name": "stderr",
     "output_type": "stream",
     "text": [
      "\rDictTransformer fit:  94%|█████████▍| 8923882/9517064 [00:30<00:01, 335423.62it/s]"
     ]
    },
    {
     "name": "stderr",
     "output_type": "stream",
     "text": [
      "\rDictTransformer fit:  94%|█████████▍| 8969271/9517064 [00:30<00:01, 363917.13it/s]"
     ]
    },
    {
     "name": "stderr",
     "output_type": "stream",
     "text": [
      "\rDictTransformer fit:  95%|█████████▍| 9014538/9517064 [00:30<00:01, 386660.19it/s]"
     ]
    },
    {
     "name": "stderr",
     "output_type": "stream",
     "text": [
      "\rDictTransformer fit:  95%|█████████▌| 9060486/9517064 [00:30<00:01, 405959.40it/s]"
     ]
    },
    {
     "name": "stderr",
     "output_type": "stream",
     "text": [
      "\rDictTransformer fit:  96%|█████████▌| 9106170/9517064 [00:31<00:00, 419990.03it/s]"
     ]
    },
    {
     "name": "stderr",
     "output_type": "stream",
     "text": [
      "\rDictTransformer fit:  96%|█████████▌| 9149140/9517064 [00:31<00:01, 310391.69it/s]"
     ]
    },
    {
     "name": "stderr",
     "output_type": "stream",
     "text": [
      "\rDictTransformer fit:  97%|█████████▋| 9185007/9517064 [00:31<00:01, 307043.62it/s]"
     ]
    },
    {
     "name": "stderr",
     "output_type": "stream",
     "text": [
      "\rDictTransformer fit:  97%|█████████▋| 9226994/9517064 [00:31<00:00, 333964.76it/s]"
     ]
    },
    {
     "name": "stderr",
     "output_type": "stream",
     "text": [
      "\rDictTransformer fit:  97%|█████████▋| 9266723/9517064 [00:31<00:00, 350735.21it/s]"
     ]
    },
    {
     "name": "stderr",
     "output_type": "stream",
     "text": [
      "\rDictTransformer fit:  98%|█████████▊| 9312834/9517064 [00:31<00:00, 377870.04it/s]"
     ]
    },
    {
     "name": "stderr",
     "output_type": "stream",
     "text": [
      "\rDictTransformer fit:  98%|█████████▊| 9358013/9517064 [00:31<00:00, 397374.19it/s]"
     ]
    },
    {
     "name": "stderr",
     "output_type": "stream",
     "text": [
      "\rDictTransformer fit:  99%|█████████▉| 9400364/9517064 [00:31<00:00, 404868.56it/s]"
     ]
    },
    {
     "name": "stderr",
     "output_type": "stream",
     "text": [
      "\rDictTransformer fit:  99%|█████████▉| 9444259/9517064 [00:32<00:00, 414505.39it/s]"
     ]
    },
    {
     "name": "stderr",
     "output_type": "stream",
     "text": [
      "\rDictTransformer fit: 100%|█████████▉| 9486887/9517064 [00:32<00:00, 417968.73it/s]"
     ]
    },
    {
     "name": "stderr",
     "output_type": "stream",
     "text": [
      "\rDictTransformer fit: 100%|██████████| 9517064/9517064 [00:32<00:00, 292325.82it/s]"
     ]
    },
    {
     "name": "stderr",
     "output_type": "stream",
     "text": [
      "\n"
     ]
    },
    {
     "name": "stderr",
     "output_type": "stream",
     "text": [
      "\rMorphologyExtractor transform:   0%|          | 0/1057452 [00:00<?, ?it/s]"
     ]
    },
    {
     "name": "stderr",
     "output_type": "stream",
     "text": [
      "\rMorphologyExtractor transform:   0%|          | 1405/1057452 [00:00<01:15, 14042.65it/s]"
     ]
    },
    {
     "name": "stderr",
     "output_type": "stream",
     "text": [
      "\rMorphologyExtractor transform:   0%|          | 4330/1057452 [00:00<01:03, 16634.28it/s]"
     ]
    },
    {
     "name": "stderr",
     "output_type": "stream",
     "text": [
      "\rMorphologyExtractor transform:   1%|          | 7382/1057452 [00:00<00:54, 19263.08it/s]"
     ]
    },
    {
     "name": "stderr",
     "output_type": "stream",
     "text": [
      "\rMorphologyExtractor transform:   1%|          | 10683/1057452 [00:00<00:47, 22005.55it/s]"
     ]
    },
    {
     "name": "stderr",
     "output_type": "stream",
     "text": [
      "\rMorphologyExtractor transform:   1%|▏         | 14452/1057452 [00:00<00:41, 25130.61it/s]"
     ]
    },
    {
     "name": "stderr",
     "output_type": "stream",
     "text": [
      "\rMorphologyExtractor transform:   2%|▏         | 17862/1057452 [00:00<00:38, 27283.41it/s]"
     ]
    },
    {
     "name": "stderr",
     "output_type": "stream",
     "text": [
      "\rMorphologyExtractor transform:   2%|▏         | 21278/1057452 [00:00<00:35, 29035.17it/s]"
     ]
    },
    {
     "name": "stderr",
     "output_type": "stream",
     "text": [
      "\rMorphologyExtractor transform:   2%|▏         | 24379/1057452 [00:00<00:34, 29597.29it/s]"
     ]
    },
    {
     "name": "stderr",
     "output_type": "stream",
     "text": [
      "\rMorphologyExtractor transform:   3%|▎         | 28274/1057452 [00:00<00:32, 31893.29it/s]"
     ]
    },
    {
     "name": "stderr",
     "output_type": "stream",
     "text": [
      "\rMorphologyExtractor transform:   3%|▎         | 32101/1057452 [00:01<00:30, 33565.53it/s]"
     ]
    },
    {
     "name": "stderr",
     "output_type": "stream",
     "text": [
      "\rMorphologyExtractor transform:   3%|▎         | 35568/1057452 [00:01<00:35, 28916.89it/s]"
     ]
    },
    {
     "name": "stderr",
     "output_type": "stream",
     "text": [
      "\rMorphologyExtractor transform:   4%|▎         | 38651/1057452 [00:01<00:38, 26596.46it/s]"
     ]
    },
    {
     "name": "stderr",
     "output_type": "stream",
     "text": [
      "\rMorphologyExtractor transform:   4%|▍         | 42021/1057452 [00:01<00:35, 28389.43it/s]"
     ]
    },
    {
     "name": "stderr",
     "output_type": "stream",
     "text": [
      "\rMorphologyExtractor transform:   4%|▍         | 46382/1057452 [00:01<00:31, 31701.12it/s]"
     ]
    },
    {
     "name": "stderr",
     "output_type": "stream",
     "text": [
      "\rMorphologyExtractor transform:   5%|▍         | 50709/1057452 [00:01<00:29, 34462.06it/s]"
     ]
    },
    {
     "name": "stderr",
     "output_type": "stream",
     "text": [
      "\rMorphologyExtractor transform:   5%|▌         | 54680/1057452 [00:01<00:27, 35874.96it/s]"
     ]
    },
    {
     "name": "stderr",
     "output_type": "stream",
     "text": [
      "\rMorphologyExtractor transform:   6%|▌         | 58445/1057452 [00:01<00:32, 30628.54it/s]"
     ]
    },
    {
     "name": "stderr",
     "output_type": "stream",
     "text": [
      "\rMorphologyExtractor transform:   6%|▌         | 62052/1057452 [00:01<00:31, 32080.10it/s]"
     ]
    },
    {
     "name": "stderr",
     "output_type": "stream",
     "text": [
      "\rMorphologyExtractor transform:   6%|▌         | 65459/1057452 [00:02<00:30, 32025.97it/s]"
     ]
    },
    {
     "name": "stderr",
     "output_type": "stream",
     "text": [
      "\rMorphologyExtractor transform:   7%|▋         | 68801/1057452 [00:02<00:32, 30597.42it/s]"
     ]
    },
    {
     "name": "stderr",
     "output_type": "stream",
     "text": [
      "\rMorphologyExtractor transform:   7%|▋         | 71972/1057452 [00:02<00:32, 29943.53it/s]"
     ]
    },
    {
     "name": "stderr",
     "output_type": "stream",
     "text": [
      "\rMorphologyExtractor transform:   7%|▋         | 75066/1057452 [00:02<00:32, 30209.55it/s]"
     ]
    },
    {
     "name": "stderr",
     "output_type": "stream",
     "text": [
      "\rMorphologyExtractor transform:   8%|▊         | 79350/1057452 [00:02<00:29, 33138.17it/s]"
     ]
    },
    {
     "name": "stderr",
     "output_type": "stream",
     "text": [
      "\rMorphologyExtractor transform:   8%|▊         | 84137/1057452 [00:02<00:26, 36507.64it/s]"
     ]
    },
    {
     "name": "stderr",
     "output_type": "stream",
     "text": [
      "\rMorphologyExtractor transform:   8%|▊         | 87981/1057452 [00:02<00:28, 34122.05it/s]"
     ]
    },
    {
     "name": "stderr",
     "output_type": "stream",
     "text": [
      "\rMorphologyExtractor transform:   9%|▊         | 91560/1057452 [00:02<00:29, 32588.77it/s]"
     ]
    },
    {
     "name": "stderr",
     "output_type": "stream",
     "text": [
      "\rMorphologyExtractor transform:   9%|▉         | 95148/1057452 [00:02<00:28, 33502.59it/s]"
     ]
    },
    {
     "name": "stderr",
     "output_type": "stream",
     "text": [
      "\rMorphologyExtractor transform:   9%|▉         | 98597/1057452 [00:03<00:34, 28135.82it/s]"
     ]
    },
    {
     "name": "stderr",
     "output_type": "stream",
     "text": [
      "\rMorphologyExtractor transform:  10%|▉         | 101648/1057452 [00:03<00:33, 28808.10it/s]"
     ]
    },
    {
     "name": "stderr",
     "output_type": "stream",
     "text": [
      "\rMorphologyExtractor transform:  10%|▉         | 105278/1057452 [00:03<00:31, 30669.99it/s]"
     ]
    },
    {
     "name": "stderr",
     "output_type": "stream",
     "text": [
      "\rMorphologyExtractor transform:  10%|█         | 109356/1057452 [00:03<00:28, 33127.41it/s]"
     ]
    },
    {
     "name": "stderr",
     "output_type": "stream",
     "text": [
      "\rMorphologyExtractor transform:  11%|█         | 113303/1057452 [00:03<00:27, 34801.63it/s]"
     ]
    },
    {
     "name": "stderr",
     "output_type": "stream",
     "text": [
      "\rMorphologyExtractor transform:  11%|█         | 117903/1057452 [00:03<00:25, 37541.71it/s]"
     ]
    },
    {
     "name": "stderr",
     "output_type": "stream",
     "text": [
      "\rMorphologyExtractor transform:  12%|█▏        | 122979/1057452 [00:03<00:22, 40722.68it/s]"
     ]
    },
    {
     "name": "stderr",
     "output_type": "stream",
     "text": [
      "\rMorphologyExtractor transform:  12%|█▏        | 127903/1057452 [00:03<00:21, 42950.41it/s]"
     ]
    },
    {
     "name": "stderr",
     "output_type": "stream",
     "text": [
      "\rMorphologyExtractor transform:  13%|█▎        | 132631/1057452 [00:03<00:20, 44148.47it/s]"
     ]
    },
    {
     "name": "stderr",
     "output_type": "stream",
     "text": [
      "\rMorphologyExtractor transform:  13%|█▎        | 137169/1057452 [00:04<00:20, 43949.97it/s]"
     ]
    },
    {
     "name": "stderr",
     "output_type": "stream",
     "text": [
      "\rMorphologyExtractor transform:  13%|█▎        | 142166/1057452 [00:04<00:20, 45595.09it/s]"
     ]
    },
    {
     "name": "stderr",
     "output_type": "stream",
     "text": [
      "\rMorphologyExtractor transform:  14%|█▍        | 146802/1057452 [00:04<00:20, 43472.03it/s]"
     ]
    },
    {
     "name": "stderr",
     "output_type": "stream",
     "text": [
      "\rMorphologyExtractor transform:  14%|█▍        | 151224/1057452 [00:04<00:27, 33222.52it/s]"
     ]
    },
    {
     "name": "stderr",
     "output_type": "stream",
     "text": [
      "\rMorphologyExtractor transform:  15%|█▍        | 154962/1057452 [00:04<00:28, 32149.45it/s]"
     ]
    },
    {
     "name": "stderr",
     "output_type": "stream",
     "text": [
      "\rMorphologyExtractor transform:  15%|█▍        | 158476/1057452 [00:04<00:28, 31474.87it/s]"
     ]
    },
    {
     "name": "stderr",
     "output_type": "stream",
     "text": [
      "\rMorphologyExtractor transform:  15%|█▌        | 162917/1057452 [00:04<00:25, 34472.39it/s]"
     ]
    },
    {
     "name": "stderr",
     "output_type": "stream",
     "text": [
      "\rMorphologyExtractor transform:  16%|█▌        | 166978/1057452 [00:04<00:24, 36107.24it/s]"
     ]
    },
    {
     "name": "stderr",
     "output_type": "stream",
     "text": [
      "\rMorphologyExtractor transform:  16%|█▌        | 170801/1057452 [00:04<00:24, 36715.50it/s]"
     ]
    },
    {
     "name": "stderr",
     "output_type": "stream",
     "text": [
      "\rMorphologyExtractor transform:  17%|█▋        | 174604/1057452 [00:05<00:23, 36877.36it/s]"
     ]
    },
    {
     "name": "stderr",
     "output_type": "stream",
     "text": [
      "\rMorphologyExtractor transform:  17%|█▋        | 178384/1057452 [00:05<00:25, 33854.47it/s]"
     ]
    },
    {
     "name": "stderr",
     "output_type": "stream",
     "text": [
      "\rMorphologyExtractor transform:  17%|█▋        | 183065/1057452 [00:05<00:23, 36900.23it/s]"
     ]
    },
    {
     "name": "stderr",
     "output_type": "stream",
     "text": [
      "\rMorphologyExtractor transform:  18%|█▊        | 187455/1057452 [00:05<00:22, 38749.58it/s]"
     ]
    },
    {
     "name": "stderr",
     "output_type": "stream",
     "text": [
      "\rMorphologyExtractor transform:  18%|█▊        | 192015/1057452 [00:05<00:21, 40575.79it/s]"
     ]
    },
    {
     "name": "stderr",
     "output_type": "stream",
     "text": [
      "\rMorphologyExtractor transform:  19%|█▊        | 196449/1057452 [00:05<00:20, 41636.07it/s]"
     ]
    },
    {
     "name": "stderr",
     "output_type": "stream",
     "text": [
      "\rMorphologyExtractor transform:  19%|█▉        | 201070/1057452 [00:05<00:19, 42907.88it/s]"
     ]
    },
    {
     "name": "stderr",
     "output_type": "stream",
     "text": [
      "\rMorphologyExtractor transform:  19%|█▉        | 205585/1057452 [00:05<00:19, 43550.96it/s]"
     ]
    },
    {
     "name": "stderr",
     "output_type": "stream",
     "text": [
      "\rMorphologyExtractor transform:  20%|█▉        | 210230/1057452 [00:05<00:19, 44363.14it/s]"
     ]
    },
    {
     "name": "stderr",
     "output_type": "stream",
     "text": [
      "\rMorphologyExtractor transform:  20%|██        | 214708/1057452 [00:06<00:21, 39724.81it/s]"
     ]
    },
    {
     "name": "stderr",
     "output_type": "stream",
     "text": [
      "\rMorphologyExtractor transform:  21%|██        | 218801/1057452 [00:06<00:22, 38081.50it/s]"
     ]
    },
    {
     "name": "stderr",
     "output_type": "stream",
     "text": [
      "\rMorphologyExtractor transform:  21%|██        | 224056/1057452 [00:06<00:20, 41508.69it/s]"
     ]
    },
    {
     "name": "stderr",
     "output_type": "stream",
     "text": [
      "\rMorphologyExtractor transform:  22%|██▏       | 229516/1057452 [00:06<00:18, 44725.50it/s]"
     ]
    },
    {
     "name": "stderr",
     "output_type": "stream",
     "text": [
      "\rMorphologyExtractor transform:  22%|██▏       | 235536/1057452 [00:06<00:16, 48447.98it/s]"
     ]
    },
    {
     "name": "stderr",
     "output_type": "stream",
     "text": [
      "\rMorphologyExtractor transform:  23%|██▎       | 242130/1057452 [00:06<00:15, 52626.07it/s]"
     ]
    },
    {
     "name": "stderr",
     "output_type": "stream",
     "text": [
      "\rMorphologyExtractor transform:  24%|██▎       | 248770/1057452 [00:06<00:14, 56109.57it/s]"
     ]
    },
    {
     "name": "stderr",
     "output_type": "stream",
     "text": [
      "\rMorphologyExtractor transform:  24%|██▍       | 254625/1057452 [00:06<00:14, 55166.58it/s]"
     ]
    },
    {
     "name": "stderr",
     "output_type": "stream",
     "text": [
      "\rMorphologyExtractor transform:  25%|██▍       | 260317/1057452 [00:06<00:14, 54263.58it/s]"
     ]
    },
    {
     "name": "stderr",
     "output_type": "stream",
     "text": [
      "\rMorphologyExtractor transform:  25%|██▌       | 265869/1057452 [00:07<00:14, 54110.22it/s]"
     ]
    },
    {
     "name": "stderr",
     "output_type": "stream",
     "text": [
      "\rMorphologyExtractor transform:  26%|██▌       | 272043/1057452 [00:07<00:13, 56150.15it/s]"
     ]
    },
    {
     "name": "stderr",
     "output_type": "stream",
     "text": [
      "\rMorphologyExtractor transform:  26%|██▋       | 278466/1057452 [00:07<00:13, 58349.95it/s]"
     ]
    },
    {
     "name": "stderr",
     "output_type": "stream",
     "text": [
      "\rMorphologyExtractor transform:  27%|██▋       | 284383/1057452 [00:07<00:13, 58588.82it/s]"
     ]
    },
    {
     "name": "stderr",
     "output_type": "stream",
     "text": [
      "\rMorphologyExtractor transform:  27%|██▋       | 290298/1057452 [00:07<00:14, 52478.95it/s]"
     ]
    },
    {
     "name": "stderr",
     "output_type": "stream",
     "text": [
      "\rMorphologyExtractor transform:  28%|██▊       | 295705/1057452 [00:07<00:15, 50166.22it/s]"
     ]
    },
    {
     "name": "stderr",
     "output_type": "stream",
     "text": [
      "\rMorphologyExtractor transform:  28%|██▊       | 300855/1057452 [00:07<00:16, 45079.46it/s]"
     ]
    },
    {
     "name": "stderr",
     "output_type": "stream",
     "text": [
      "\rMorphologyExtractor transform:  29%|██▉       | 305922/1057452 [00:07<00:16, 46609.81it/s]"
     ]
    },
    {
     "name": "stderr",
     "output_type": "stream",
     "text": [
      "\rMorphologyExtractor transform:  29%|██▉       | 310730/1057452 [00:07<00:16, 45801.05it/s]"
     ]
    },
    {
     "name": "stderr",
     "output_type": "stream",
     "text": [
      "\rMorphologyExtractor transform:  30%|██▉       | 315416/1057452 [00:08<00:17, 42417.38it/s]"
     ]
    },
    {
     "name": "stderr",
     "output_type": "stream",
     "text": [
      "\rMorphologyExtractor transform:  30%|███       | 319782/1057452 [00:08<00:20, 36543.88it/s]"
     ]
    },
    {
     "name": "stderr",
     "output_type": "stream",
     "text": [
      "\rMorphologyExtractor transform:  31%|███       | 323667/1057452 [00:08<00:21, 33552.37it/s]"
     ]
    },
    {
     "name": "stderr",
     "output_type": "stream",
     "text": [
      "\rMorphologyExtractor transform:  31%|███       | 327232/1057452 [00:08<00:23, 31402.02it/s]"
     ]
    },
    {
     "name": "stderr",
     "output_type": "stream",
     "text": [
      "\rMorphologyExtractor transform:  31%|███▏      | 330547/1057452 [00:08<00:23, 31554.13it/s]"
     ]
    },
    {
     "name": "stderr",
     "output_type": "stream",
     "text": [
      "\rMorphologyExtractor transform:  32%|███▏      | 334088/1057452 [00:08<00:22, 32574.35it/s]"
     ]
    },
    {
     "name": "stderr",
     "output_type": "stream",
     "text": [
      "\rMorphologyExtractor transform:  32%|███▏      | 337440/1057452 [00:08<00:22, 32426.22it/s]"
     ]
    },
    {
     "name": "stderr",
     "output_type": "stream",
     "text": [
      "\rMorphologyExtractor transform:  32%|███▏      | 340749/1057452 [00:08<00:22, 31255.95it/s]"
     ]
    },
    {
     "name": "stderr",
     "output_type": "stream",
     "text": [
      "\rMorphologyExtractor transform:  33%|███▎      | 344282/1057452 [00:08<00:22, 32367.96it/s]"
     ]
    },
    {
     "name": "stderr",
     "output_type": "stream",
     "text": [
      "\rMorphologyExtractor transform:  33%|███▎      | 349401/1057452 [00:09<00:19, 36377.96it/s]"
     ]
    },
    {
     "name": "stderr",
     "output_type": "stream",
     "text": [
      "\rMorphologyExtractor transform:  33%|███▎      | 353737/1057452 [00:09<00:18, 38220.74it/s]"
     ]
    },
    {
     "name": "stderr",
     "output_type": "stream",
     "text": [
      "\rMorphologyExtractor transform:  34%|███▍      | 359793/1057452 [00:09<00:16, 42952.37it/s]"
     ]
    },
    {
     "name": "stderr",
     "output_type": "stream",
     "text": [
      "\rMorphologyExtractor transform:  35%|███▍      | 364926/1057452 [00:09<00:15, 45158.72it/s]"
     ]
    },
    {
     "name": "stderr",
     "output_type": "stream",
     "text": [
      "\rMorphologyExtractor transform:  35%|███▌      | 370848/1057452 [00:09<00:14, 48605.56it/s]"
     ]
    },
    {
     "name": "stderr",
     "output_type": "stream",
     "text": [
      "\rMorphologyExtractor transform:  36%|███▌      | 377601/1057452 [00:09<00:12, 53063.82it/s]"
     ]
    },
    {
     "name": "stderr",
     "output_type": "stream",
     "text": [
      "\rMorphologyExtractor transform:  36%|███▋      | 384139/1057452 [00:09<00:11, 56241.97it/s]"
     ]
    },
    {
     "name": "stderr",
     "output_type": "stream",
     "text": [
      "\rMorphologyExtractor transform:  37%|███▋      | 390021/1057452 [00:09<00:12, 55419.29it/s]"
     ]
    },
    {
     "name": "stderr",
     "output_type": "stream",
     "text": [
      "\rMorphologyExtractor transform:  38%|███▊      | 396616/1057452 [00:09<00:11, 58202.53it/s]"
     ]
    },
    {
     "name": "stderr",
     "output_type": "stream",
     "text": [
      "\rMorphologyExtractor transform:  38%|███▊      | 402602/1057452 [00:10<00:11, 57611.15it/s]"
     ]
    },
    {
     "name": "stderr",
     "output_type": "stream",
     "text": [
      "\rMorphologyExtractor transform:  39%|███▊      | 409321/1057452 [00:10<00:10, 60184.69it/s]"
     ]
    },
    {
     "name": "stderr",
     "output_type": "stream",
     "text": [
      "\rMorphologyExtractor transform:  39%|███▉      | 415452/1057452 [00:10<00:10, 59562.85it/s]"
     ]
    },
    {
     "name": "stderr",
     "output_type": "stream",
     "text": [
      "\rMorphologyExtractor transform:  40%|███▉      | 422343/1057452 [00:10<00:10, 62088.94it/s]"
     ]
    },
    {
     "name": "stderr",
     "output_type": "stream",
     "text": [
      "\rMorphologyExtractor transform:  41%|████      | 429141/1057452 [00:10<00:09, 63726.63it/s]"
     ]
    },
    {
     "name": "stderr",
     "output_type": "stream",
     "text": [
      "\rMorphologyExtractor transform:  41%|████      | 435677/1057452 [00:10<00:09, 64203.29it/s]"
     ]
    },
    {
     "name": "stderr",
     "output_type": "stream",
     "text": [
      "\rMorphologyExtractor transform:  42%|████▏     | 442776/1057452 [00:10<00:09, 66094.20it/s]"
     ]
    },
    {
     "name": "stderr",
     "output_type": "stream",
     "text": [
      "\rMorphologyExtractor transform:  43%|████▎     | 449721/1057452 [00:10<00:09, 67066.36it/s]"
     ]
    },
    {
     "name": "stderr",
     "output_type": "stream",
     "text": [
      "\rMorphologyExtractor transform:  43%|████▎     | 456679/1057452 [00:10<00:08, 67800.81it/s]"
     ]
    },
    {
     "name": "stderr",
     "output_type": "stream",
     "text": [
      "\rMorphologyExtractor transform:  44%|████▍     | 463741/1057452 [00:10<00:08, 68614.42it/s]"
     ]
    },
    {
     "name": "stderr",
     "output_type": "stream",
     "text": [
      "\rMorphologyExtractor transform:  45%|████▍     | 470625/1057452 [00:11<00:08, 68553.10it/s]"
     ]
    },
    {
     "name": "stderr",
     "output_type": "stream",
     "text": [
      "\rMorphologyExtractor transform:  45%|████▌     | 477496/1057452 [00:11<00:08, 65747.24it/s]"
     ]
    },
    {
     "name": "stderr",
     "output_type": "stream",
     "text": [
      "\rMorphologyExtractor transform:  46%|████▌     | 484106/1057452 [00:11<00:09, 61380.47it/s]"
     ]
    },
    {
     "name": "stderr",
     "output_type": "stream",
     "text": [
      "\rMorphologyExtractor transform:  46%|████▋     | 490328/1057452 [00:11<00:09, 57498.43it/s]"
     ]
    },
    {
     "name": "stderr",
     "output_type": "stream",
     "text": [
      "\rMorphologyExtractor transform:  47%|████▋     | 497577/1057452 [00:11<00:09, 61301.73it/s]"
     ]
    },
    {
     "name": "stderr",
     "output_type": "stream",
     "text": [
      "\rMorphologyExtractor transform:  48%|████▊     | 504274/1057452 [00:11<00:08, 62897.25it/s]"
     ]
    },
    {
     "name": "stderr",
     "output_type": "stream",
     "text": [
      "\rMorphologyExtractor transform:  48%|████▊     | 512022/1057452 [00:11<00:08, 66650.55it/s]"
     ]
    },
    {
     "name": "stderr",
     "output_type": "stream",
     "text": [
      "\rMorphologyExtractor transform:  49%|████▉     | 518827/1057452 [00:11<00:08, 67023.84it/s]"
     ]
    },
    {
     "name": "stderr",
     "output_type": "stream",
     "text": [
      "\rMorphologyExtractor transform:  50%|████▉     | 526129/1057452 [00:11<00:07, 68715.95it/s]"
     ]
    },
    {
     "name": "stderr",
     "output_type": "stream",
     "text": [
      "\rMorphologyExtractor transform:  50%|█████     | 533206/1057452 [00:11<00:07, 69308.10it/s]"
     ]
    },
    {
     "name": "stderr",
     "output_type": "stream",
     "text": [
      "\rMorphologyExtractor transform:  51%|█████     | 540194/1057452 [00:13<00:36, 14366.37it/s]"
     ]
    },
    {
     "name": "stderr",
     "output_type": "stream",
     "text": [
      "\rMorphologyExtractor transform:  52%|█████▏    | 547240/1057452 [00:13<00:27, 18871.76it/s]"
     ]
    },
    {
     "name": "stderr",
     "output_type": "stream",
     "text": [
      "\rMorphologyExtractor transform:  52%|█████▏    | 552881/1057452 [00:13<00:21, 23482.69it/s]"
     ]
    },
    {
     "name": "stderr",
     "output_type": "stream",
     "text": [
      "\rMorphologyExtractor transform:  53%|█████▎    | 558468/1057452 [00:13<00:18, 27251.38it/s]"
     ]
    },
    {
     "name": "stderr",
     "output_type": "stream",
     "text": [
      "\rMorphologyExtractor transform:  53%|█████▎    | 564762/1057452 [00:13<00:15, 32836.33it/s]"
     ]
    },
    {
     "name": "stderr",
     "output_type": "stream",
     "text": [
      "\rMorphologyExtractor transform:  54%|█████▍    | 570843/1057452 [00:13<00:12, 38092.00it/s]"
     ]
    },
    {
     "name": "stderr",
     "output_type": "stream",
     "text": [
      "\rMorphologyExtractor transform:  55%|█████▍    | 577741/1057452 [00:14<00:10, 43997.07it/s]"
     ]
    },
    {
     "name": "stderr",
     "output_type": "stream",
     "text": [
      "\rMorphologyExtractor transform:  55%|█████▌    | 584594/1057452 [00:14<00:09, 49290.60it/s]"
     ]
    },
    {
     "name": "stderr",
     "output_type": "stream",
     "text": [
      "\rMorphologyExtractor transform:  56%|█████▌    | 590892/1057452 [00:14<00:09, 51569.47it/s]"
     ]
    },
    {
     "name": "stderr",
     "output_type": "stream",
     "text": [
      "\rMorphologyExtractor transform:  56%|█████▋    | 597351/1057452 [00:14<00:08, 54855.91it/s]"
     ]
    },
    {
     "name": "stderr",
     "output_type": "stream",
     "text": [
      "\rMorphologyExtractor transform:  57%|█████▋    | 604512/1057452 [00:14<00:07, 58994.80it/s]"
     ]
    },
    {
     "name": "stderr",
     "output_type": "stream",
     "text": [
      "\rMorphologyExtractor transform:  58%|█████▊    | 611949/1057452 [00:14<00:07, 62895.53it/s]"
     ]
    },
    {
     "name": "stderr",
     "output_type": "stream",
     "text": [
      "\rMorphologyExtractor transform:  59%|█████▊    | 619402/1057452 [00:14<00:06, 65954.76it/s]"
     ]
    },
    {
     "name": "stderr",
     "output_type": "stream",
     "text": [
      "\rMorphologyExtractor transform:  59%|█████▉    | 626674/1057452 [00:14<00:06, 67832.40it/s]"
     ]
    },
    {
     "name": "stderr",
     "output_type": "stream",
     "text": [
      "\rMorphologyExtractor transform:  60%|█████▉    | 633952/1057452 [00:14<00:06, 69236.68it/s]"
     ]
    },
    {
     "name": "stderr",
     "output_type": "stream",
     "text": [
      "\rMorphologyExtractor transform:  61%|██████    | 642027/1057452 [00:14<00:05, 72294.16it/s]"
     ]
    },
    {
     "name": "stderr",
     "output_type": "stream",
     "text": [
      "\rMorphologyExtractor transform:  61%|██████▏   | 649437/1057452 [00:15<00:05, 71929.77it/s]"
     ]
    },
    {
     "name": "stderr",
     "output_type": "stream",
     "text": [
      "\rMorphologyExtractor transform:  62%|██████▏   | 656757/1057452 [00:15<00:05, 71567.66it/s]"
     ]
    },
    {
     "name": "stderr",
     "output_type": "stream",
     "text": [
      "\rMorphologyExtractor transform:  63%|██████▎   | 664003/1057452 [00:15<00:05, 71011.53it/s]"
     ]
    },
    {
     "name": "stderr",
     "output_type": "stream",
     "text": [
      "\rMorphologyExtractor transform:  63%|██████▎   | 671329/1057452 [00:15<00:05, 71667.25it/s]"
     ]
    },
    {
     "name": "stderr",
     "output_type": "stream",
     "text": [
      "\rMorphologyExtractor transform:  64%|██████▍   | 678542/1057452 [00:15<00:05, 69735.48it/s]"
     ]
    },
    {
     "name": "stderr",
     "output_type": "stream",
     "text": [
      "\rMorphologyExtractor transform:  65%|██████▍   | 685559/1057452 [00:15<00:05, 67456.28it/s]"
     ]
    },
    {
     "name": "stderr",
     "output_type": "stream",
     "text": [
      "\rMorphologyExtractor transform:  66%|██████▌   | 692690/1057452 [00:15<00:05, 68567.77it/s]"
     ]
    },
    {
     "name": "stderr",
     "output_type": "stream",
     "text": [
      "\rMorphologyExtractor transform:  66%|██████▌   | 699584/1057452 [00:15<00:05, 65926.71it/s]"
     ]
    },
    {
     "name": "stderr",
     "output_type": "stream",
     "text": [
      "\rMorphologyExtractor transform:  67%|██████▋   | 707185/1057452 [00:15<00:05, 68636.07it/s]"
     ]
    },
    {
     "name": "stderr",
     "output_type": "stream",
     "text": [
      "\rMorphologyExtractor transform:  68%|██████▊   | 714458/1057452 [00:15<00:04, 69811.83it/s]"
     ]
    },
    {
     "name": "stderr",
     "output_type": "stream",
     "text": [
      "\rMorphologyExtractor transform:  68%|██████▊   | 721488/1057452 [00:16<00:05, 59644.57it/s]"
     ]
    },
    {
     "name": "stderr",
     "output_type": "stream",
     "text": [
      "\rMorphologyExtractor transform:  69%|██████▉   | 727745/1057452 [00:16<00:06, 53418.94it/s]"
     ]
    },
    {
     "name": "stderr",
     "output_type": "stream",
     "text": [
      "\rMorphologyExtractor transform:  69%|██████▉   | 733414/1057452 [00:16<00:06, 52656.61it/s]"
     ]
    },
    {
     "name": "stderr",
     "output_type": "stream",
     "text": [
      "\rMorphologyExtractor transform:  70%|██████▉   | 738911/1057452 [00:16<00:06, 45600.82it/s]"
     ]
    },
    {
     "name": "stderr",
     "output_type": "stream",
     "text": [
      "\rMorphologyExtractor transform:  70%|███████   | 743801/1057452 [00:16<00:07, 39513.45it/s]"
     ]
    },
    {
     "name": "stderr",
     "output_type": "stream",
     "text": [
      "\rMorphologyExtractor transform:  71%|███████   | 748128/1057452 [00:16<00:08, 34935.13it/s]"
     ]
    },
    {
     "name": "stderr",
     "output_type": "stream",
     "text": [
      "\rMorphologyExtractor transform:  71%|███████   | 751982/1057452 [00:16<00:09, 33090.39it/s]"
     ]
    },
    {
     "name": "stderr",
     "output_type": "stream",
     "text": [
      "\rMorphologyExtractor transform:  71%|███████▏  | 755564/1057452 [00:17<00:09, 31311.62it/s]"
     ]
    },
    {
     "name": "stderr",
     "output_type": "stream",
     "text": [
      "\rMorphologyExtractor transform:  72%|███████▏  | 759630/1057452 [00:17<00:08, 33607.08it/s]"
     ]
    },
    {
     "name": "stderr",
     "output_type": "stream",
     "text": [
      "\rMorphologyExtractor transform:  72%|███████▏  | 764905/1057452 [00:17<00:07, 37698.56it/s]"
     ]
    },
    {
     "name": "stderr",
     "output_type": "stream",
     "text": [
      "\rMorphologyExtractor transform:  73%|███████▎  | 771398/1057452 [00:17<00:06, 43123.23it/s]"
     ]
    },
    {
     "name": "stderr",
     "output_type": "stream",
     "text": [
      "\rMorphologyExtractor transform:  74%|███████▎  | 777347/1057452 [00:17<00:05, 46997.15it/s]"
     ]
    },
    {
     "name": "stderr",
     "output_type": "stream",
     "text": [
      "\rMorphologyExtractor transform:  74%|███████▍  | 784054/1057452 [00:17<00:05, 51632.81it/s]"
     ]
    },
    {
     "name": "stderr",
     "output_type": "stream",
     "text": [
      "\rMorphologyExtractor transform:  75%|███████▍  | 791278/1057452 [00:17<00:04, 56462.18it/s]"
     ]
    },
    {
     "name": "stderr",
     "output_type": "stream",
     "text": [
      "\rMorphologyExtractor transform:  75%|███████▌  | 797656/1057452 [00:17<00:04, 58474.09it/s]"
     ]
    },
    {
     "name": "stderr",
     "output_type": "stream",
     "text": [
      "\rMorphologyExtractor transform:  76%|███████▌  | 803836/1057452 [00:17<00:04, 58738.00it/s]"
     ]
    },
    {
     "name": "stderr",
     "output_type": "stream",
     "text": [
      "\rMorphologyExtractor transform:  77%|███████▋  | 809943/1057452 [00:18<00:04, 59264.08it/s]"
     ]
    },
    {
     "name": "stderr",
     "output_type": "stream",
     "text": [
      "\rMorphologyExtractor transform:  77%|███████▋  | 816034/1057452 [00:18<00:04, 55902.86it/s]"
     ]
    },
    {
     "name": "stderr",
     "output_type": "stream",
     "text": [
      "\rMorphologyExtractor transform:  78%|███████▊  | 821779/1057452 [00:18<00:04, 54992.07it/s]"
     ]
    },
    {
     "name": "stderr",
     "output_type": "stream",
     "text": [
      "\rMorphologyExtractor transform:  78%|███████▊  | 828625/1057452 [00:18<00:03, 58440.70it/s]"
     ]
    },
    {
     "name": "stderr",
     "output_type": "stream",
     "text": [
      "\rMorphologyExtractor transform:  79%|███████▉  | 835036/1057452 [00:18<00:03, 60026.12it/s]"
     ]
    },
    {
     "name": "stderr",
     "output_type": "stream",
     "text": [
      "\rMorphologyExtractor transform:  80%|███████▉  | 842219/1057452 [00:18<00:03, 63132.44it/s]"
     ]
    },
    {
     "name": "stderr",
     "output_type": "stream",
     "text": [
      "\rMorphologyExtractor transform:  80%|████████  | 848772/1057452 [00:18<00:03, 63815.76it/s]"
     ]
    },
    {
     "name": "stderr",
     "output_type": "stream",
     "text": [
      "\rMorphologyExtractor transform:  81%|████████  | 855238/1057452 [00:18<00:03, 57074.18it/s]"
     ]
    },
    {
     "name": "stderr",
     "output_type": "stream",
     "text": [
      "\rMorphologyExtractor transform:  81%|████████▏ | 861224/1057452 [00:18<00:03, 57843.57it/s]"
     ]
    },
    {
     "name": "stderr",
     "output_type": "stream",
     "text": [
      "\rMorphologyExtractor transform:  82%|████████▏ | 867146/1057452 [00:19<00:03, 55576.40it/s]"
     ]
    },
    {
     "name": "stderr",
     "output_type": "stream",
     "text": [
      "\rMorphologyExtractor transform:  83%|████████▎ | 874320/1057452 [00:19<00:03, 59604.96it/s]"
     ]
    },
    {
     "name": "stderr",
     "output_type": "stream",
     "text": [
      "\rMorphologyExtractor transform:  83%|████████▎ | 882103/1057452 [00:19<00:02, 64108.26it/s]"
     ]
    },
    {
     "name": "stderr",
     "output_type": "stream",
     "text": [
      "\rMorphologyExtractor transform:  84%|████████▍ | 889825/1057452 [00:19<00:02, 67548.96it/s]"
     ]
    },
    {
     "name": "stderr",
     "output_type": "stream",
     "text": [
      "\rMorphologyExtractor transform:  85%|████████▍ | 898168/1057452 [00:19<00:02, 71639.23it/s]"
     ]
    },
    {
     "name": "stderr",
     "output_type": "stream",
     "text": [
      "\rMorphologyExtractor transform:  86%|████████▌ | 906389/1057452 [00:19<00:02, 74496.59it/s]"
     ]
    },
    {
     "name": "stderr",
     "output_type": "stream",
     "text": [
      "\rMorphologyExtractor transform:  86%|████████▋ | 914012/1057452 [00:19<00:02, 69661.80it/s]"
     ]
    },
    {
     "name": "stderr",
     "output_type": "stream",
     "text": [
      "\rMorphologyExtractor transform:  87%|████████▋ | 921163/1057452 [00:19<00:01, 68486.54it/s]"
     ]
    },
    {
     "name": "stderr",
     "output_type": "stream",
     "text": [
      "\rMorphologyExtractor transform:  88%|████████▊ | 928146/1057452 [00:19<00:01, 67716.57it/s]"
     ]
    },
    {
     "name": "stderr",
     "output_type": "stream",
     "text": [
      "\rMorphologyExtractor transform:  88%|████████▊ | 935774/1057452 [00:19<00:01, 70056.63it/s]"
     ]
    },
    {
     "name": "stderr",
     "output_type": "stream",
     "text": [
      "\rMorphologyExtractor transform:  89%|████████▉ | 943639/1057452 [00:20<00:01, 72423.36it/s]"
     ]
    },
    {
     "name": "stderr",
     "output_type": "stream",
     "text": [
      "\rMorphologyExtractor transform:  90%|████████▉ | 951506/1057452 [00:20<00:01, 74183.31it/s]"
     ]
    },
    {
     "name": "stderr",
     "output_type": "stream",
     "text": [
      "\rMorphologyExtractor transform:  91%|█████████ | 960035/1057452 [00:20<00:01, 77168.88it/s]"
     ]
    },
    {
     "name": "stderr",
     "output_type": "stream",
     "text": [
      "\rMorphologyExtractor transform:  92%|█████████▏| 967831/1057452 [00:20<00:01, 75456.11it/s]"
     ]
    },
    {
     "name": "stderr",
     "output_type": "stream",
     "text": [
      "\rMorphologyExtractor transform:  92%|█████████▏| 975440/1057452 [00:20<00:01, 74936.07it/s]"
     ]
    },
    {
     "name": "stderr",
     "output_type": "stream",
     "text": [
      "\rMorphologyExtractor transform:  93%|█████████▎| 982979/1057452 [00:20<00:01, 74393.43it/s]"
     ]
    },
    {
     "name": "stderr",
     "output_type": "stream",
     "text": [
      "\rMorphologyExtractor transform:  94%|█████████▎| 990756/1057452 [00:20<00:00, 75334.23it/s]"
     ]
    },
    {
     "name": "stderr",
     "output_type": "stream",
     "text": [
      "\rMorphologyExtractor transform:  94%|█████████▍| 998315/1057452 [00:20<00:00, 75007.83it/s]"
     ]
    },
    {
     "name": "stderr",
     "output_type": "stream",
     "text": [
      "\rMorphologyExtractor transform:  95%|█████████▌| 1007161/1057452 [00:20<00:00, 78574.10it/s]"
     ]
    },
    {
     "name": "stderr",
     "output_type": "stream",
     "text": [
      "\rMorphologyExtractor transform:  96%|█████████▌| 1015816/1057452 [00:20<00:00, 80803.13it/s]"
     ]
    },
    {
     "name": "stderr",
     "output_type": "stream",
     "text": [
      "\rMorphologyExtractor transform:  97%|█████████▋| 1023953/1057452 [00:21<00:00, 80475.77it/s]"
     ]
    },
    {
     "name": "stderr",
     "output_type": "stream",
     "text": [
      "\rMorphologyExtractor transform:  98%|█████████▊| 1032201/1057452 [00:21<00:00, 81066.25it/s]"
     ]
    },
    {
     "name": "stderr",
     "output_type": "stream",
     "text": [
      "\rMorphologyExtractor transform:  98%|█████████▊| 1040337/1057452 [00:21<00:00, 79117.87it/s]"
     ]
    },
    {
     "name": "stderr",
     "output_type": "stream",
     "text": [
      "\rMorphologyExtractor transform:  99%|█████████▉| 1048280/1057452 [00:21<00:00, 78723.03it/s]"
     ]
    },
    {
     "name": "stderr",
     "output_type": "stream",
     "text": [
      "\rMorphologyExtractor transform: 100%|█████████▉| 1056718/1057452 [00:21<00:00, 80337.28it/s]"
     ]
    },
    {
     "name": "stderr",
     "output_type": "stream",
     "text": [
      "\rMorphologyExtractor transform: 100%|██████████| 1057452/1057452 [00:21<00:00, 49161.15it/s]"
     ]
    },
    {
     "name": "stderr",
     "output_type": "stream",
     "text": [
      "\n"
     ]
    },
    {
     "name": "stderr",
     "output_type": "stream",
     "text": [
      "\rMorphologyExtractor transform:   0%|          | 0/1057452 [00:00<?, ?it/s]"
     ]
    },
    {
     "name": "stderr",
     "output_type": "stream",
     "text": [
      "\rMorphologyExtractor transform:   0%|          | 1673/1057452 [00:00<01:03, 16612.42it/s]"
     ]
    },
    {
     "name": "stderr",
     "output_type": "stream",
     "text": [
      "\rMorphologyExtractor transform:   1%|          | 6328/1057452 [00:00<00:54, 19238.68it/s]"
     ]
    },
    {
     "name": "stderr",
     "output_type": "stream",
     "text": [
      "\rMorphologyExtractor transform:   1%|          | 10694/1057452 [00:00<00:45, 23117.87it/s]"
     ]
    },
    {
     "name": "stderr",
     "output_type": "stream",
     "text": [
      "\rMorphologyExtractor transform:   2%|▏         | 17942/1057452 [00:00<00:35, 29037.93it/s]"
     ]
    },
    {
     "name": "stderr",
     "output_type": "stream",
     "text": [
      "\rMorphologyExtractor transform:   2%|▏         | 24662/1057452 [00:00<00:29, 35000.63it/s]"
     ]
    },
    {
     "name": "stderr",
     "output_type": "stream",
     "text": [
      "\rMorphologyExtractor transform:   3%|▎         | 30930/1057452 [00:00<00:25, 40343.25it/s]"
     ]
    },
    {
     "name": "stderr",
     "output_type": "stream",
     "text": [
      "\rMorphologyExtractor transform:   4%|▎         | 37233/1057452 [00:00<00:22, 45226.87it/s]"
     ]
    },
    {
     "name": "stderr",
     "output_type": "stream",
     "text": [
      "\rMorphologyExtractor transform:   4%|▍         | 44398/1057452 [00:00<00:19, 50843.22it/s]"
     ]
    },
    {
     "name": "stderr",
     "output_type": "stream",
     "text": [
      "\rMorphologyExtractor transform:   5%|▍         | 51412/1057452 [00:00<00:18, 55416.55it/s]"
     ]
    },
    {
     "name": "stderr",
     "output_type": "stream",
     "text": [
      "\rMorphologyExtractor transform:   6%|▌         | 60069/1057452 [00:01<00:16, 62118.28it/s]"
     ]
    },
    {
     "name": "stderr",
     "output_type": "stream",
     "text": [
      "\rMorphologyExtractor transform:   6%|▋         | 67990/1057452 [00:01<00:14, 66393.64it/s]"
     ]
    },
    {
     "name": "stderr",
     "output_type": "stream",
     "text": [
      "\rMorphologyExtractor transform:   7%|▋         | 75950/1057452 [00:01<00:14, 69870.81it/s]"
     ]
    },
    {
     "name": "stderr",
     "output_type": "stream",
     "text": [
      "\rMorphologyExtractor transform:   8%|▊         | 83427/1057452 [00:01<00:13, 70059.52it/s]"
     ]
    },
    {
     "name": "stderr",
     "output_type": "stream",
     "text": [
      "\rMorphologyExtractor transform:   9%|▊         | 91322/1057452 [00:01<00:13, 72506.05it/s]"
     ]
    },
    {
     "name": "stderr",
     "output_type": "stream",
     "text": [
      "\rMorphologyExtractor transform:   9%|▉         | 99249/1057452 [00:01<00:12, 74392.83it/s]"
     ]
    },
    {
     "name": "stderr",
     "output_type": "stream",
     "text": [
      "\rMorphologyExtractor transform:  10%|█         | 107741/1057452 [00:01<00:12, 77262.14it/s]"
     ]
    },
    {
     "name": "stderr",
     "output_type": "stream",
     "text": [
      "\rMorphologyExtractor transform:  11%|█         | 115749/1057452 [00:01<00:12, 78033.69it/s]"
     ]
    },
    {
     "name": "stderr",
     "output_type": "stream",
     "text": [
      "\rMorphologyExtractor transform:  12%|█▏        | 124435/1057452 [00:01<00:11, 80468.08it/s]"
     ]
    },
    {
     "name": "stderr",
     "output_type": "stream",
     "text": [
      "\rMorphologyExtractor transform:  13%|█▎        | 132595/1057452 [00:01<00:11, 80799.22it/s]"
     ]
    },
    {
     "name": "stderr",
     "output_type": "stream",
     "text": [
      "\rMorphologyExtractor transform:  13%|█▎        | 142313/1057452 [00:02<00:10, 85102.58it/s]"
     ]
    },
    {
     "name": "stderr",
     "output_type": "stream",
     "text": [
      "\rMorphologyExtractor transform:  14%|█▍        | 151158/1057452 [00:02<00:10, 86079.38it/s]"
     ]
    },
    {
     "name": "stderr",
     "output_type": "stream",
     "text": [
      "\rMorphologyExtractor transform:  15%|█▌        | 159847/1057452 [00:02<00:10, 82139.21it/s]"
     ]
    },
    {
     "name": "stderr",
     "output_type": "stream",
     "text": [
      "\rMorphologyExtractor transform:  16%|█▌        | 168156/1057452 [00:02<00:11, 74450.14it/s]"
     ]
    },
    {
     "name": "stderr",
     "output_type": "stream",
     "text": [
      "\rMorphologyExtractor transform:  17%|█▋        | 176737/1057452 [00:02<00:11, 77528.80it/s]"
     ]
    },
    {
     "name": "stderr",
     "output_type": "stream",
     "text": [
      "\rMorphologyExtractor transform:  18%|█▊        | 185614/1057452 [00:02<00:10, 80590.18it/s]"
     ]
    },
    {
     "name": "stderr",
     "output_type": "stream",
     "text": [
      "\rMorphologyExtractor transform:  18%|█▊        | 194069/1057452 [00:02<00:10, 81738.42it/s]"
     ]
    },
    {
     "name": "stderr",
     "output_type": "stream",
     "text": [
      "\rMorphologyExtractor transform:  19%|█▉        | 203337/1057452 [00:02<00:10, 84735.48it/s]"
     ]
    },
    {
     "name": "stderr",
     "output_type": "stream",
     "text": [
      "\rMorphologyExtractor transform:  20%|██        | 212336/1057452 [00:02<00:09, 86245.98it/s]"
     ]
    },
    {
     "name": "stderr",
     "output_type": "stream",
     "text": [
      "\rMorphologyExtractor transform:  21%|██        | 222119/1057452 [00:03<00:09, 89387.20it/s]"
     ]
    },
    {
     "name": "stderr",
     "output_type": "stream",
     "text": [
      "\rMorphologyExtractor transform:  22%|██▏       | 231846/1057452 [00:03<00:09, 91602.35it/s]"
     ]
    },
    {
     "name": "stderr",
     "output_type": "stream",
     "text": [
      "\rMorphologyExtractor transform:  23%|██▎       | 241080/1057452 [00:03<00:09, 90261.96it/s]"
     ]
    },
    {
     "name": "stderr",
     "output_type": "stream",
     "text": [
      "\rMorphologyExtractor transform:  24%|██▎       | 250163/1057452 [00:03<00:09, 84621.45it/s]"
     ]
    },
    {
     "name": "stderr",
     "output_type": "stream",
     "text": [
      "\rMorphologyExtractor transform:  24%|██▍       | 258737/1057452 [00:03<00:09, 83394.22it/s]"
     ]
    },
    {
     "name": "stderr",
     "output_type": "stream",
     "text": [
      "\rMorphologyExtractor transform:  25%|██▌       | 267555/1057452 [00:03<00:09, 84765.73it/s]"
     ]
    },
    {
     "name": "stderr",
     "output_type": "stream",
     "text": [
      "\rMorphologyExtractor transform:  26%|██▌       | 276095/1057452 [00:03<00:09, 80857.58it/s]"
     ]
    },
    {
     "name": "stderr",
     "output_type": "stream",
     "text": [
      "\rMorphologyExtractor transform:  27%|██▋       | 284263/1057452 [00:03<00:10, 76022.70it/s]"
     ]
    },
    {
     "name": "stderr",
     "output_type": "stream",
     "text": [
      "\rMorphologyExtractor transform:  28%|██▊       | 291982/1057452 [00:03<00:10, 73295.87it/s]"
     ]
    },
    {
     "name": "stderr",
     "output_type": "stream",
     "text": [
      "\rMorphologyExtractor transform:  28%|██▊       | 299415/1057452 [00:04<00:11, 66510.68it/s]"
     ]
    },
    {
     "name": "stderr",
     "output_type": "stream",
     "text": [
      "\rMorphologyExtractor transform:  29%|██▉       | 307838/1057452 [00:04<00:10, 70990.07it/s]"
     ]
    },
    {
     "name": "stderr",
     "output_type": "stream",
     "text": [
      "\rMorphologyExtractor transform:  30%|██▉       | 315242/1057452 [00:04<00:10, 71877.91it/s]"
     ]
    },
    {
     "name": "stderr",
     "output_type": "stream",
     "text": [
      "\rMorphologyExtractor transform:  31%|███       | 324282/1057452 [00:04<00:09, 76561.42it/s]"
     ]
    },
    {
     "name": "stderr",
     "output_type": "stream",
     "text": [
      "\rMorphologyExtractor transform:  32%|███▏      | 334569/1057452 [00:04<00:08, 82922.65it/s]"
     ]
    },
    {
     "name": "stderr",
     "output_type": "stream",
     "text": [
      "\rMorphologyExtractor transform:  33%|███▎      | 343830/1057452 [00:04<00:08, 85575.46it/s]"
     ]
    },
    {
     "name": "stderr",
     "output_type": "stream",
     "text": [
      "\rMorphologyExtractor transform:  33%|███▎      | 352611/1057452 [00:04<00:08, 85702.56it/s]"
     ]
    },
    {
     "name": "stderr",
     "output_type": "stream",
     "text": [
      "\rMorphologyExtractor transform:  34%|███▍      | 361370/1057452 [00:04<00:08, 86259.73it/s]"
     ]
    },
    {
     "name": "stderr",
     "output_type": "stream",
     "text": [
      "\rMorphologyExtractor transform:  35%|███▌      | 371076/1057452 [00:04<00:07, 89232.06it/s]"
     ]
    },
    {
     "name": "stderr",
     "output_type": "stream",
     "text": [
      "\rMorphologyExtractor transform:  36%|███▌      | 380103/1057452 [00:04<00:07, 88518.10it/s]"
     ]
    },
    {
     "name": "stderr",
     "output_type": "stream",
     "text": [
      "\rMorphologyExtractor transform:  37%|███▋      | 389029/1057452 [00:05<00:07, 87079.79it/s]"
     ]
    },
    {
     "name": "stderr",
     "output_type": "stream",
     "text": [
      "\rMorphologyExtractor transform:  38%|███▊      | 398894/1057452 [00:05<00:07, 90254.74it/s]"
     ]
    },
    {
     "name": "stderr",
     "output_type": "stream",
     "text": [
      "\rMorphologyExtractor transform:  39%|███▊      | 407989/1057452 [00:05<00:07, 88343.08it/s]"
     ]
    },
    {
     "name": "stderr",
     "output_type": "stream",
     "text": [
      "\rMorphologyExtractor transform:  39%|███▉      | 416881/1057452 [00:05<00:07, 85715.72it/s]"
     ]
    },
    {
     "name": "stderr",
     "output_type": "stream",
     "text": [
      "\rMorphologyExtractor transform:  40%|████      | 426495/1057452 [00:05<00:07, 88566.86it/s]"
     ]
    },
    {
     "name": "stderr",
     "output_type": "stream",
     "text": [
      "\rMorphologyExtractor transform:  41%|████▏     | 436207/1057452 [00:05<00:06, 90872.27it/s]"
     ]
    },
    {
     "name": "stderr",
     "output_type": "stream",
     "text": [
      "\rMorphologyExtractor transform:  42%|████▏     | 446497/1057452 [00:05<00:06, 94159.12it/s]"
     ]
    },
    {
     "name": "stderr",
     "output_type": "stream",
     "text": [
      "\rMorphologyExtractor transform:  43%|████▎     | 455986/1057452 [00:05<00:06, 92878.69it/s]"
     ]
    },
    {
     "name": "stderr",
     "output_type": "stream",
     "text": [
      "\rMorphologyExtractor transform:  44%|████▍     | 465329/1057452 [00:05<00:06, 87404.77it/s]"
     ]
    },
    {
     "name": "stderr",
     "output_type": "stream",
     "text": [
      "\rMorphologyExtractor transform:  45%|████▍     | 474174/1057452 [00:06<00:08, 72358.36it/s]"
     ]
    },
    {
     "name": "stderr",
     "output_type": "stream",
     "text": [
      "\rMorphologyExtractor transform:  46%|████▌     | 481915/1057452 [00:06<00:08, 68658.68it/s]"
     ]
    },
    {
     "name": "stderr",
     "output_type": "stream",
     "text": [
      "\rMorphologyExtractor transform:  46%|████▋     | 489174/1057452 [00:06<00:08, 67590.76it/s]"
     ]
    },
    {
     "name": "stderr",
     "output_type": "stream",
     "text": [
      "\rMorphologyExtractor transform:  47%|████▋     | 497916/1057452 [00:06<00:07, 72485.48it/s]"
     ]
    },
    {
     "name": "stderr",
     "output_type": "stream",
     "text": [
      "\rMorphologyExtractor transform:  48%|████▊     | 508114/1057452 [00:06<00:06, 79370.25it/s]"
     ]
    },
    {
     "name": "stderr",
     "output_type": "stream",
     "text": [
      "\rMorphologyExtractor transform:  49%|████▉     | 516454/1057452 [00:06<00:07, 69891.34it/s]"
     ]
    },
    {
     "name": "stderr",
     "output_type": "stream",
     "text": [
      "\rMorphologyExtractor transform:  50%|████▉     | 523932/1057452 [00:06<00:08, 60299.74it/s]"
     ]
    },
    {
     "name": "stderr",
     "output_type": "stream",
     "text": [
      "\rMorphologyExtractor transform:  50%|█████     | 531890/1057452 [00:06<00:08, 65025.67it/s]"
     ]
    },
    {
     "name": "stderr",
     "output_type": "stream",
     "text": [
      "\rMorphologyExtractor transform:  51%|█████     | 540132/1057452 [00:07<00:07, 69416.20it/s]"
     ]
    },
    {
     "name": "stderr",
     "output_type": "stream",
     "text": [
      "\rMorphologyExtractor transform:  52%|█████▏    | 547512/1057452 [00:07<00:07, 66140.43it/s]"
     ]
    },
    {
     "name": "stderr",
     "output_type": "stream",
     "text": [
      "\rMorphologyExtractor transform:  52%|█████▏    | 554465/1057452 [00:07<00:07, 65026.62it/s]"
     ]
    },
    {
     "name": "stderr",
     "output_type": "stream",
     "text": [
      "\rMorphologyExtractor transform:  53%|█████▎    | 561210/1057452 [00:07<00:07, 65099.05it/s]"
     ]
    },
    {
     "name": "stderr",
     "output_type": "stream",
     "text": [
      "\rMorphologyExtractor transform:  54%|█████▍    | 570167/1057452 [00:07<00:06, 70908.83it/s]"
     ]
    },
    {
     "name": "stderr",
     "output_type": "stream",
     "text": [
      "\rMorphologyExtractor transform:  55%|█████▍    | 577529/1057452 [00:07<00:06, 70459.78it/s]"
     ]
    },
    {
     "name": "stderr",
     "output_type": "stream",
     "text": [
      "\rMorphologyExtractor transform:  55%|█████▌    | 586839/1057452 [00:07<00:06, 76004.29it/s]"
     ]
    },
    {
     "name": "stderr",
     "output_type": "stream",
     "text": [
      "\rMorphologyExtractor transform:  56%|█████▋    | 595387/1057452 [00:07<00:05, 78618.23it/s]"
     ]
    },
    {
     "name": "stderr",
     "output_type": "stream",
     "text": [
      "\rMorphologyExtractor transform:  57%|█████▋    | 604632/1057452 [00:07<00:05, 82311.83it/s]"
     ]
    },
    {
     "name": "stderr",
     "output_type": "stream",
     "text": [
      "\rMorphologyExtractor transform:  58%|█████▊    | 614392/1057452 [00:07<00:05, 86365.80it/s]"
     ]
    },
    {
     "name": "stderr",
     "output_type": "stream",
     "text": [
      "\rMorphologyExtractor transform:  59%|█████▉    | 623213/1057452 [00:08<00:05, 85058.47it/s]"
     ]
    },
    {
     "name": "stderr",
     "output_type": "stream",
     "text": [
      "\rMorphologyExtractor transform:  60%|█████▉    | 631853/1057452 [00:08<00:04, 85167.17it/s]"
     ]
    },
    {
     "name": "stderr",
     "output_type": "stream",
     "text": [
      "\rMorphologyExtractor transform:  61%|██████    | 641164/1057452 [00:08<00:04, 87385.24it/s]"
     ]
    },
    {
     "name": "stderr",
     "output_type": "stream",
     "text": [
      "\rMorphologyExtractor transform:  62%|██████▏   | 650524/1057452 [00:08<00:04, 89160.55it/s]"
     ]
    },
    {
     "name": "stderr",
     "output_type": "stream",
     "text": [
      "\rMorphologyExtractor transform:  63%|██████▎   | 661131/1057452 [00:08<00:04, 93638.59it/s]"
     ]
    },
    {
     "name": "stderr",
     "output_type": "stream",
     "text": [
      "\rMorphologyExtractor transform:  63%|██████▎   | 670665/1057452 [00:08<00:04, 94131.46it/s]"
     ]
    },
    {
     "name": "stderr",
     "output_type": "stream",
     "text": [
      "\rMorphologyExtractor transform:  64%|██████▍   | 680153/1057452 [00:08<00:04, 91459.66it/s]"
     ]
    },
    {
     "name": "stderr",
     "output_type": "stream",
     "text": [
      "\rMorphologyExtractor transform:  65%|██████▌   | 689368/1057452 [00:08<00:04, 91198.13it/s]"
     ]
    },
    {
     "name": "stderr",
     "output_type": "stream",
     "text": [
      "\rMorphologyExtractor transform:  66%|██████▌   | 699741/1057452 [00:08<00:03, 94599.36it/s]"
     ]
    },
    {
     "name": "stderr",
     "output_type": "stream",
     "text": [
      "\rMorphologyExtractor transform:  67%|██████▋   | 710173/1057452 [00:08<00:03, 97313.01it/s]"
     ]
    },
    {
     "name": "stderr",
     "output_type": "stream",
     "text": [
      "\rMorphologyExtractor transform:  68%|██████▊   | 719970/1057452 [00:09<00:03, 97426.26it/s]"
     ]
    },
    {
     "name": "stderr",
     "output_type": "stream",
     "text": [
      "\rMorphologyExtractor transform:  69%|██████▉   | 729759/1057452 [00:09<00:03, 94825.42it/s]"
     ]
    },
    {
     "name": "stderr",
     "output_type": "stream",
     "text": [
      "\rMorphologyExtractor transform:  70%|██████▉   | 739289/1057452 [00:09<00:03, 91907.83it/s]"
     ]
    },
    {
     "name": "stderr",
     "output_type": "stream",
     "text": [
      "\rMorphologyExtractor transform:  71%|███████   | 748533/1057452 [00:09<00:03, 86773.54it/s]"
     ]
    },
    {
     "name": "stderr",
     "output_type": "stream",
     "text": [
      "\rMorphologyExtractor transform:  72%|███████▏  | 757887/1057452 [00:09<00:03, 88697.35it/s]"
     ]
    },
    {
     "name": "stderr",
     "output_type": "stream",
     "text": [
      "\rMorphologyExtractor transform:  73%|███████▎  | 768795/1057452 [00:09<00:03, 93955.12it/s]"
     ]
    },
    {
     "name": "stderr",
     "output_type": "stream",
     "text": [
      "\rMorphologyExtractor transform:  74%|███████▎  | 778897/1057452 [00:09<00:02, 95968.30it/s]"
     ]
    },
    {
     "name": "stderr",
     "output_type": "stream",
     "text": [
      "\rMorphologyExtractor transform:  75%|███████▍  | 789423/1057452 [00:09<00:02, 98565.37it/s]"
     ]
    },
    {
     "name": "stderr",
     "output_type": "stream",
     "text": [
      "\rMorphologyExtractor transform:  76%|███████▌  | 799373/1057452 [00:09<00:02, 96588.28it/s]"
     ]
    },
    {
     "name": "stderr",
     "output_type": "stream",
     "text": [
      "\rMorphologyExtractor transform:  77%|███████▋  | 809106/1057452 [00:10<00:02, 95489.74it/s]"
     ]
    },
    {
     "name": "stderr",
     "output_type": "stream",
     "text": [
      "\rMorphologyExtractor transform:  77%|███████▋  | 818710/1057452 [00:10<00:02, 94322.74it/s]"
     ]
    },
    {
     "name": "stderr",
     "output_type": "stream",
     "text": [
      "\rMorphologyExtractor transform:  78%|███████▊  | 828184/1057452 [00:10<00:02, 93998.62it/s]"
     ]
    },
    {
     "name": "stderr",
     "output_type": "stream",
     "text": [
      "\rMorphologyExtractor transform:  79%|███████▉  | 838169/1057452 [00:10<00:02, 95622.24it/s]"
     ]
    },
    {
     "name": "stderr",
     "output_type": "stream",
     "text": [
      "\rMorphologyExtractor transform:  80%|████████  | 847791/1057452 [00:10<00:02, 95795.69it/s]"
     ]
    },
    {
     "name": "stderr",
     "output_type": "stream",
     "text": [
      "\rMorphologyExtractor transform:  81%|████████  | 858220/1057452 [00:10<00:02, 98188.67it/s]"
     ]
    },
    {
     "name": "stderr",
     "output_type": "stream",
     "text": [
      "\rMorphologyExtractor transform:  82%|████████▏ | 868068/1057452 [00:10<00:01, 97810.25it/s]"
     ]
    },
    {
     "name": "stderr",
     "output_type": "stream",
     "text": [
      "\rMorphologyExtractor transform:  83%|████████▎ | 877870/1057452 [00:10<00:01, 97339.56it/s]"
     ]
    },
    {
     "name": "stderr",
     "output_type": "stream",
     "text": [
      "\rMorphologyExtractor transform:  84%|████████▍ | 887619/1057452 [00:10<00:01, 96248.49it/s]"
     ]
    },
    {
     "name": "stderr",
     "output_type": "stream",
     "text": [
      "\rMorphologyExtractor transform:  85%|████████▍ | 897599/1057452 [00:10<00:01, 97269.51it/s]"
     ]
    },
    {
     "name": "stderr",
     "output_type": "stream",
     "text": [
      "\rMorphologyExtractor transform:  86%|████████▌ | 907338/1057452 [00:11<00:01, 95923.27it/s]"
     ]
    },
    {
     "name": "stderr",
     "output_type": "stream",
     "text": [
      "\rMorphologyExtractor transform:  87%|████████▋ | 917356/1057452 [00:11<00:01, 97156.45it/s]"
     ]
    },
    {
     "name": "stderr",
     "output_type": "stream",
     "text": [
      "\rMorphologyExtractor transform:  88%|████████▊ | 927085/1057452 [00:11<00:01, 94665.37it/s]"
     ]
    },
    {
     "name": "stderr",
     "output_type": "stream",
     "text": [
      "\rMorphologyExtractor transform:  89%|████████▊ | 936575/1057452 [00:11<00:01, 93658.86it/s]"
     ]
    },
    {
     "name": "stderr",
     "output_type": "stream",
     "text": [
      "\rMorphologyExtractor transform:  90%|████████▉ | 946452/1057452 [00:11<00:01, 95098.40it/s]"
     ]
    },
    {
     "name": "stderr",
     "output_type": "stream",
     "text": [
      "\rMorphologyExtractor transform:  90%|█████████ | 956758/1057452 [00:11<00:01, 97354.35it/s]"
     ]
    },
    {
     "name": "stderr",
     "output_type": "stream",
     "text": [
      "\rMorphologyExtractor transform:  91%|█████████▏| 966520/1057452 [00:11<00:00, 96025.59it/s]"
     ]
    },
    {
     "name": "stderr",
     "output_type": "stream",
     "text": [
      "\rMorphologyExtractor transform:  92%|█████████▏| 976636/1057452 [00:11<00:00, 97503.85it/s]"
     ]
    },
    {
     "name": "stderr",
     "output_type": "stream",
     "text": [
      "\rMorphologyExtractor transform:  93%|█████████▎| 986818/1057452 [00:11<00:00, 98740.55it/s]"
     ]
    },
    {
     "name": "stderr",
     "output_type": "stream",
     "text": [
      "\rMorphologyExtractor transform:  94%|█████████▍| 997265/1057452 [00:11<00:00, 100392.26it/s]"
     ]
    },
    {
     "name": "stderr",
     "output_type": "stream",
     "text": [
      "\rMorphologyExtractor transform:  95%|█████████▌| 1007324/1057452 [00:12<00:00, 99965.70it/s]"
     ]
    },
    {
     "name": "stderr",
     "output_type": "stream",
     "text": [
      "\rMorphologyExtractor transform:  96%|█████████▌| 1017367/1057452 [00:12<00:00, 100080.31it/s]"
     ]
    },
    {
     "name": "stderr",
     "output_type": "stream",
     "text": [
      "\rMorphologyExtractor transform:  97%|█████████▋| 1027386/1057452 [00:12<00:00, 99049.37it/s] "
     ]
    },
    {
     "name": "stderr",
     "output_type": "stream",
     "text": [
      "\rMorphologyExtractor transform:  98%|█████████▊| 1037301/1057452 [00:12<00:00, 96308.63it/s]"
     ]
    },
    {
     "name": "stderr",
     "output_type": "stream",
     "text": [
      "\rMorphologyExtractor transform:  99%|█████████▉| 1048385/1057452 [00:12<00:00, 100251.55it/s]"
     ]
    },
    {
     "name": "stderr",
     "output_type": "stream",
     "text": [
      "\rMorphologyExtractor transform: 100%|██████████| 1057452/1057452 [00:12<00:00, 83788.51it/s] "
     ]
    },
    {
     "name": "stderr",
     "output_type": "stream",
     "text": [
      "\n"
     ]
    },
    {
     "name": "stderr",
     "output_type": "stream",
     "text": [
      "\rMorphologyExtractor transform:   0%|          | 0/1057452 [00:00<?, ?it/s]"
     ]
    },
    {
     "name": "stderr",
     "output_type": "stream",
     "text": [
      "\rMorphologyExtractor transform:   0%|          | 2157/1057452 [00:00<00:48, 21569.56it/s]"
     ]
    },
    {
     "name": "stderr",
     "output_type": "stream",
     "text": [
      "\rMorphologyExtractor transform:   1%|          | 12684/1057452 [00:00<00:36, 28324.54it/s]"
     ]
    },
    {
     "name": "stderr",
     "output_type": "stream",
     "text": [
      "\rMorphologyExtractor transform:   2%|▏         | 16987/1057452 [00:00<00:32, 31554.12it/s]"
     ]
    },
    {
     "name": "stderr",
     "output_type": "stream",
     "text": [
      "\rMorphologyExtractor transform:   3%|▎         | 27714/1057452 [00:00<00:25, 40029.47it/s]"
     ]
    },
    {
     "name": "stderr",
     "output_type": "stream",
     "text": [
      "\rMorphologyExtractor transform:   4%|▎         | 38925/1057452 [00:00<00:20, 49589.26it/s]"
     ]
    },
    {
     "name": "stderr",
     "output_type": "stream",
     "text": [
      "\rMorphologyExtractor transform:   5%|▍         | 51046/1057452 [00:00<00:16, 60272.27it/s]"
     ]
    },
    {
     "name": "stderr",
     "output_type": "stream",
     "text": [
      "\rMorphologyExtractor transform:   6%|▌         | 61013/1057452 [00:00<00:14, 68371.54it/s]"
     ]
    },
    {
     "name": "stderr",
     "output_type": "stream",
     "text": [
      "\rMorphologyExtractor transform:   7%|▋         | 70709/1057452 [00:00<00:13, 75003.53it/s]"
     ]
    },
    {
     "name": "stderr",
     "output_type": "stream",
     "text": [
      "\rMorphologyExtractor transform:   8%|▊         | 81119/1057452 [00:00<00:11, 81865.61it/s]"
     ]
    },
    {
     "name": "stderr",
     "output_type": "stream",
     "text": [
      "\rMorphologyExtractor transform:   9%|▊         | 91972/1057452 [00:01<00:10, 88379.08it/s]"
     ]
    },
    {
     "name": "stderr",
     "output_type": "stream",
     "text": [
      "\rMorphologyExtractor transform:  10%|▉         | 103728/1057452 [00:01<00:09, 95460.56it/s]"
     ]
    },
    {
     "name": "stderr",
     "output_type": "stream",
     "text": [
      "\rMorphologyExtractor transform:  11%|█         | 115086/1057452 [00:01<00:09, 100258.05it/s]"
     ]
    },
    {
     "name": "stderr",
     "output_type": "stream",
     "text": [
      "\rMorphologyExtractor transform:  12%|█▏        | 125870/1057452 [00:01<00:09, 98913.86it/s] "
     ]
    },
    {
     "name": "stderr",
     "output_type": "stream",
     "text": [
      "\rMorphologyExtractor transform:  13%|█▎        | 137527/1057452 [00:01<00:08, 103621.21it/s]"
     ]
    },
    {
     "name": "stderr",
     "output_type": "stream",
     "text": [
      "\rMorphologyExtractor transform:  14%|█▍        | 148656/1057452 [00:01<00:08, 105806.98it/s]"
     ]
    },
    {
     "name": "stderr",
     "output_type": "stream",
     "text": [
      "\rMorphologyExtractor transform:  15%|█▌        | 160053/1057452 [00:01<00:08, 108130.36it/s]"
     ]
    },
    {
     "name": "stderr",
     "output_type": "stream",
     "text": [
      "\rMorphologyExtractor transform:  16%|█▌        | 171099/1057452 [00:01<00:08, 107170.33it/s]"
     ]
    },
    {
     "name": "stderr",
     "output_type": "stream",
     "text": [
      "\rMorphologyExtractor transform:  17%|█▋        | 181981/1057452 [00:01<00:08, 105398.25it/s]"
     ]
    },
    {
     "name": "stderr",
     "output_type": "stream",
     "text": [
      "\rMorphologyExtractor transform:  18%|█▊        | 193552/1057452 [00:01<00:07, 108292.87it/s]"
     ]
    },
    {
     "name": "stderr",
     "output_type": "stream",
     "text": [
      "\rMorphologyExtractor transform:  19%|█▉        | 205180/1057452 [00:02<00:07, 110544.56it/s]"
     ]
    },
    {
     "name": "stderr",
     "output_type": "stream",
     "text": [
      "\rMorphologyExtractor transform:  21%|██        | 217026/1057452 [00:02<00:07, 112792.28it/s]"
     ]
    },
    {
     "name": "stderr",
     "output_type": "stream",
     "text": [
      "\rMorphologyExtractor transform:  22%|██▏       | 228660/1057452 [00:02<00:07, 113827.01it/s]"
     ]
    },
    {
     "name": "stderr",
     "output_type": "stream",
     "text": [
      "\rMorphologyExtractor transform:  23%|██▎       | 240095/1057452 [00:02<00:07, 111565.67it/s]"
     ]
    },
    {
     "name": "stderr",
     "output_type": "stream",
     "text": [
      "\rMorphologyExtractor transform:  24%|██▍       | 251298/1057452 [00:02<00:07, 105288.43it/s]"
     ]
    },
    {
     "name": "stderr",
     "output_type": "stream",
     "text": [
      "\rMorphologyExtractor transform:  25%|██▍       | 261933/1057452 [00:02<00:07, 100927.87it/s]"
     ]
    },
    {
     "name": "stderr",
     "output_type": "stream",
     "text": [
      "\rMorphologyExtractor transform:  26%|██▌       | 272138/1057452 [00:02<00:08, 95271.01it/s] "
     ]
    },
    {
     "name": "stderr",
     "output_type": "stream",
     "text": [
      "\rMorphologyExtractor transform:  27%|██▋       | 281809/1057452 [00:02<00:08, 92155.14it/s]"
     ]
    },
    {
     "name": "stderr",
     "output_type": "stream",
     "text": [
      "\rMorphologyExtractor transform:  28%|██▊       | 291972/1057452 [00:02<00:08, 94789.52it/s]"
     ]
    },
    {
     "name": "stderr",
     "output_type": "stream",
     "text": [
      "\rMorphologyExtractor transform:  29%|██▊       | 301986/1057452 [00:03<00:07, 96301.14it/s]"
     ]
    },
    {
     "name": "stderr",
     "output_type": "stream",
     "text": [
      "\rMorphologyExtractor transform:  29%|██▉       | 311696/1057452 [00:03<00:08, 83355.66it/s]"
     ]
    },
    {
     "name": "stderr",
     "output_type": "stream",
     "text": [
      "\rMorphologyExtractor transform:  30%|███       | 320397/1057452 [00:03<00:09, 80650.50it/s]"
     ]
    },
    {
     "name": "stderr",
     "output_type": "stream",
     "text": [
      "\rMorphologyExtractor transform:  31%|███▏      | 331408/1057452 [00:03<00:08, 87650.66it/s]"
     ]
    },
    {
     "name": "stderr",
     "output_type": "stream",
     "text": [
      "\rMorphologyExtractor transform:  32%|███▏      | 342405/1057452 [00:03<00:07, 93310.98it/s]"
     ]
    },
    {
     "name": "stderr",
     "output_type": "stream",
     "text": [
      "\rMorphologyExtractor transform:  33%|███▎      | 352839/1057452 [00:03<00:07, 96196.26it/s]"
     ]
    },
    {
     "name": "stderr",
     "output_type": "stream",
     "text": [
      "\rMorphologyExtractor transform:  34%|███▍      | 362733/1057452 [00:03<00:08, 77290.90it/s]"
     ]
    },
    {
     "name": "stderr",
     "output_type": "stream",
     "text": [
      "\rMorphologyExtractor transform:  35%|███▌      | 371650/1057452 [00:03<00:08, 80508.44it/s]"
     ]
    },
    {
     "name": "stderr",
     "output_type": "stream",
     "text": [
      "\rMorphologyExtractor transform:  36%|███▌      | 382331/1057452 [00:03<00:07, 86923.56it/s]"
     ]
    },
    {
     "name": "stderr",
     "output_type": "stream",
     "text": [
      "\rMorphologyExtractor transform:  37%|███▋      | 392594/1057452 [00:04<00:07, 91103.26it/s]"
     ]
    },
    {
     "name": "stderr",
     "output_type": "stream",
     "text": [
      "\rMorphologyExtractor transform:  38%|███▊      | 402147/1057452 [00:04<00:08, 76954.20it/s]"
     ]
    },
    {
     "name": "stderr",
     "output_type": "stream",
     "text": [
      "\rMorphologyExtractor transform:  39%|███▉      | 413266/1057452 [00:04<00:07, 84785.94it/s]"
     ]
    },
    {
     "name": "stderr",
     "output_type": "stream",
     "text": [
      "\rMorphologyExtractor transform:  40%|████      | 425001/1057452 [00:04<00:06, 92484.96it/s]"
     ]
    },
    {
     "name": "stderr",
     "output_type": "stream",
     "text": [
      "\rMorphologyExtractor transform:  41%|████▏     | 436303/1057452 [00:04<00:06, 97816.07it/s]"
     ]
    },
    {
     "name": "stderr",
     "output_type": "stream",
     "text": [
      "\rMorphologyExtractor transform:  42%|████▏     | 448168/1057452 [00:04<00:05, 103251.79it/s]"
     ]
    },
    {
     "name": "stderr",
     "output_type": "stream",
     "text": [
      "\rMorphologyExtractor transform:  43%|████▎     | 458982/1057452 [00:04<00:05, 104188.04it/s]"
     ]
    },
    {
     "name": "stderr",
     "output_type": "stream",
     "text": [
      "\rMorphologyExtractor transform:  44%|████▍     | 469745/1057452 [00:04<00:05, 103583.57it/s]"
     ]
    },
    {
     "name": "stderr",
     "output_type": "stream",
     "text": [
      "\rMorphologyExtractor transform:  45%|████▌     | 481089/1057452 [00:04<00:05, 106310.03it/s]"
     ]
    },
    {
     "name": "stderr",
     "output_type": "stream",
     "text": [
      "\rMorphologyExtractor transform:  47%|████▋     | 491908/1057452 [00:05<00:05, 105934.23it/s]"
     ]
    },
    {
     "name": "stderr",
     "output_type": "stream",
     "text": [
      "\rMorphologyExtractor transform:  48%|████▊     | 502670/1057452 [00:05<00:05, 106433.36it/s]"
     ]
    },
    {
     "name": "stderr",
     "output_type": "stream",
     "text": [
      "\rMorphologyExtractor transform:  49%|████▊     | 513659/1057452 [00:05<00:05, 107446.43it/s]"
     ]
    },
    {
     "name": "stderr",
     "output_type": "stream",
     "text": [
      "\rMorphologyExtractor transform:  50%|████▉     | 525670/1057452 [00:05<00:04, 110954.67it/s]"
     ]
    },
    {
     "name": "stderr",
     "output_type": "stream",
     "text": [
      "\rMorphologyExtractor transform:  51%|█████     | 537692/1057452 [00:05<00:04, 113580.49it/s]"
     ]
    },
    {
     "name": "stderr",
     "output_type": "stream",
     "text": [
      "\rMorphologyExtractor transform:  52%|█████▏    | 550050/1057452 [00:05<00:04, 116399.64it/s]"
     ]
    },
    {
     "name": "stderr",
     "output_type": "stream",
     "text": [
      "\rMorphologyExtractor transform:  53%|█████▎    | 561756/1057452 [00:05<00:04, 108873.89it/s]"
     ]
    },
    {
     "name": "stderr",
     "output_type": "stream",
     "text": [
      "\rMorphologyExtractor transform:  54%|█████▍    | 572788/1057452 [00:05<00:04, 107531.63it/s]"
     ]
    },
    {
     "name": "stderr",
     "output_type": "stream",
     "text": [
      "\rMorphologyExtractor transform:  55%|█████▌    | 583646/1057452 [00:05<00:04, 105893.17it/s]"
     ]
    },
    {
     "name": "stderr",
     "output_type": "stream",
     "text": [
      "\rMorphologyExtractor transform:  56%|█████▌    | 594315/1057452 [00:07<00:21, 21566.68it/s] "
     ]
    },
    {
     "name": "stderr",
     "output_type": "stream",
     "text": [
      "\rMorphologyExtractor transform:  57%|█████▋    | 605611/1057452 [00:07<00:15, 28477.42it/s]"
     ]
    },
    {
     "name": "stderr",
     "output_type": "stream",
     "text": [
      "\rMorphologyExtractor transform:  58%|█████▊    | 616269/1057452 [00:07<00:12, 36493.20it/s]"
     ]
    },
    {
     "name": "stderr",
     "output_type": "stream",
     "text": [
      "\rMorphologyExtractor transform:  59%|█████▉    | 625720/1057452 [00:07<00:09, 44730.75it/s]"
     ]
    },
    {
     "name": "stderr",
     "output_type": "stream",
     "text": [
      "\rMorphologyExtractor transform:  60%|██████    | 636380/1057452 [00:07<00:07, 54142.34it/s]"
     ]
    },
    {
     "name": "stderr",
     "output_type": "stream",
     "text": [
      "\rMorphologyExtractor transform:  61%|██████    | 646829/1057452 [00:07<00:06, 63280.79it/s]"
     ]
    },
    {
     "name": "stderr",
     "output_type": "stream",
     "text": [
      "\rMorphologyExtractor transform:  62%|██████▏   | 656824/1057452 [00:07<00:05, 71105.33it/s]"
     ]
    },
    {
     "name": "stderr",
     "output_type": "stream",
     "text": [
      "\rMorphologyExtractor transform:  63%|██████▎   | 666791/1057452 [00:07<00:05, 77580.06it/s]"
     ]
    },
    {
     "name": "stderr",
     "output_type": "stream",
     "text": [
      "\rMorphologyExtractor transform:  64%|██████▍   | 677724/1057452 [00:08<00:04, 84968.94it/s]"
     ]
    },
    {
     "name": "stderr",
     "output_type": "stream",
     "text": [
      "\rMorphologyExtractor transform:  65%|██████▌   | 687954/1057452 [00:08<00:04, 85348.52it/s]"
     ]
    },
    {
     "name": "stderr",
     "output_type": "stream",
     "text": [
      "\rMorphologyExtractor transform:  66%|██████▌   | 697703/1057452 [00:08<00:04, 88436.66it/s]"
     ]
    },
    {
     "name": "stderr",
     "output_type": "stream",
     "text": [
      "\rMorphologyExtractor transform:  67%|██████▋   | 708928/1057452 [00:08<00:03, 94434.32it/s]"
     ]
    },
    {
     "name": "stderr",
     "output_type": "stream",
     "text": [
      "\rMorphologyExtractor transform:  68%|██████▊   | 719146/1057452 [00:08<00:03, 96631.09it/s]"
     ]
    },
    {
     "name": "stderr",
     "output_type": "stream",
     "text": [
      "\rMorphologyExtractor transform:  69%|██████▉   | 731435/1057452 [00:08<00:03, 103248.42it/s]"
     ]
    },
    {
     "name": "stderr",
     "output_type": "stream",
     "text": [
      "\rMorphologyExtractor transform:  70%|███████   | 742251/1057452 [00:08<00:03, 100466.30it/s]"
     ]
    },
    {
     "name": "stderr",
     "output_type": "stream",
     "text": [
      "\rMorphologyExtractor transform:  71%|███████   | 752658/1057452 [00:08<00:03, 98912.87it/s] "
     ]
    },
    {
     "name": "stderr",
     "output_type": "stream",
     "text": [
      "\rMorphologyExtractor transform:  72%|███████▏  | 763611/1057452 [00:08<00:02, 101696.70it/s]"
     ]
    },
    {
     "name": "stderr",
     "output_type": "stream",
     "text": [
      "\rMorphologyExtractor transform:  73%|███████▎  | 773981/1057452 [00:09<00:02, 101139.06it/s]"
     ]
    },
    {
     "name": "stderr",
     "output_type": "stream",
     "text": [
      "\rMorphologyExtractor transform:  74%|███████▍  | 784236/1057452 [00:09<00:03, 88927.77it/s] "
     ]
    },
    {
     "name": "stderr",
     "output_type": "stream",
     "text": [
      "\rMorphologyExtractor transform:  75%|███████▌  | 795834/1057452 [00:09<00:02, 95618.62it/s]"
     ]
    },
    {
     "name": "stderr",
     "output_type": "stream",
     "text": [
      "\rMorphologyExtractor transform:  76%|███████▋  | 807667/1057452 [00:09<00:02, 101460.23it/s]"
     ]
    },
    {
     "name": "stderr",
     "output_type": "stream",
     "text": [
      "\rMorphologyExtractor transform:  77%|███████▋  | 818764/1057452 [00:09<00:02, 104132.78it/s]"
     ]
    },
    {
     "name": "stderr",
     "output_type": "stream",
     "text": [
      "\rMorphologyExtractor transform:  79%|███████▊  | 831435/1057452 [00:09<00:02, 110004.87it/s]"
     ]
    },
    {
     "name": "stderr",
     "output_type": "stream",
     "text": [
      "\rMorphologyExtractor transform:  80%|███████▉  | 842722/1057452 [00:09<00:02, 106422.00it/s]"
     ]
    },
    {
     "name": "stderr",
     "output_type": "stream",
     "text": [
      "\rMorphologyExtractor transform:  81%|████████  | 853590/1057452 [00:09<00:01, 105934.28it/s]"
     ]
    },
    {
     "name": "stderr",
     "output_type": "stream",
     "text": [
      "\rMorphologyExtractor transform:  82%|████████▏ | 865591/1057452 [00:09<00:01, 109796.76it/s]"
     ]
    },
    {
     "name": "stderr",
     "output_type": "stream",
     "text": [
      "\rMorphologyExtractor transform:  83%|████████▎ | 877290/1057452 [00:10<00:01, 111852.72it/s]"
     ]
    },
    {
     "name": "stderr",
     "output_type": "stream",
     "text": [
      "\rMorphologyExtractor transform:  84%|████████▍ | 889844/1057452 [00:10<00:01, 115620.56it/s]"
     ]
    },
    {
     "name": "stderr",
     "output_type": "stream",
     "text": [
      "\rMorphologyExtractor transform:  85%|████████▌ | 901517/1057452 [00:10<00:01, 114557.62it/s]"
     ]
    },
    {
     "name": "stderr",
     "output_type": "stream",
     "text": [
      "\rMorphologyExtractor transform:  86%|████████▋ | 913849/1057452 [00:10<00:01, 117035.05it/s]"
     ]
    },
    {
     "name": "stderr",
     "output_type": "stream",
     "text": [
      "\rMorphologyExtractor transform:  88%|████████▊ | 926923/1057452 [00:10<00:01, 120834.12it/s]"
     ]
    },
    {
     "name": "stderr",
     "output_type": "stream",
     "text": [
      "\rMorphologyExtractor transform:  89%|████████▉ | 939086/1057452 [00:10<00:00, 120405.82it/s]"
     ]
    },
    {
     "name": "stderr",
     "output_type": "stream",
     "text": [
      "\rMorphologyExtractor transform:  90%|████████▉ | 951428/1057452 [00:10<00:00, 121294.45it/s]"
     ]
    },
    {
     "name": "stderr",
     "output_type": "stream",
     "text": [
      "\rMorphologyExtractor transform:  91%|█████████ | 963599/1057452 [00:10<00:00, 117176.29it/s]"
     ]
    },
    {
     "name": "stderr",
     "output_type": "stream",
     "text": [
      "\rMorphologyExtractor transform:  92%|█████████▏| 975376/1057452 [00:10<00:00, 111132.25it/s]"
     ]
    },
    {
     "name": "stderr",
     "output_type": "stream",
     "text": [
      "\rMorphologyExtractor transform:  93%|█████████▎| 986606/1057452 [00:10<00:00, 111479.65it/s]"
     ]
    },
    {
     "name": "stderr",
     "output_type": "stream",
     "text": [
      "\rMorphologyExtractor transform:  94%|█████████▍| 997829/1057452 [00:11<00:00, 109689.83it/s]"
     ]
    },
    {
     "name": "stderr",
     "output_type": "stream",
     "text": [
      "\rMorphologyExtractor transform:  95%|█████████▌| 1008857/1057452 [00:11<00:00, 108786.42it/s]"
     ]
    },
    {
     "name": "stderr",
     "output_type": "stream",
     "text": [
      "\rMorphologyExtractor transform:  97%|█████████▋| 1020716/1057452 [00:11<00:00, 111552.70it/s]"
     ]
    },
    {
     "name": "stderr",
     "output_type": "stream",
     "text": [
      "\rMorphologyExtractor transform:  98%|█████████▊| 1032011/1057452 [00:11<00:00, 111968.20it/s]"
     ]
    },
    {
     "name": "stderr",
     "output_type": "stream",
     "text": [
      "\rMorphologyExtractor transform:  99%|█████████▊| 1043360/1057452 [00:11<00:00, 112387.74it/s]"
     ]
    },
    {
     "name": "stderr",
     "output_type": "stream",
     "text": [
      "\rMorphologyExtractor transform: 100%|█████████▉| 1055646/1057452 [00:11<00:00, 115320.20it/s]"
     ]
    },
    {
     "name": "stderr",
     "output_type": "stream",
     "text": [
      "\rMorphologyExtractor transform: 100%|██████████| 1057452/1057452 [00:11<00:00, 91159.96it/s] "
     ]
    },
    {
     "name": "stderr",
     "output_type": "stream",
     "text": [
      "\n"
     ]
    },
    {
     "name": "stderr",
     "output_type": "stream",
     "text": [
      "\rDigitTransformer transform:   0%|          | 0/1057452 [00:00<?, ?it/s]"
     ]
    },
    {
     "name": "stderr",
     "output_type": "stream",
     "text": [
      "\rDigitTransformer transform:   4%|▍         | 41044/1057452 [00:00<00:02, 410436.48it/s]"
     ]
    },
    {
     "name": "stderr",
     "output_type": "stream",
     "text": [
      "\rDigitTransformer transform:  10%|█         | 109961/1057452 [00:00<00:02, 467113.29it/s]"
     ]
    },
    {
     "name": "stderr",
     "output_type": "stream",
     "text": [
      "\rDigitTransformer transform:  17%|█▋        | 182353/1057452 [00:00<00:01, 522743.59it/s]"
     ]
    },
    {
     "name": "stderr",
     "output_type": "stream",
     "text": [
      "\rDigitTransformer transform:  24%|██▍       | 257436/1057452 [00:00<00:01, 575157.35it/s]"
     ]
    },
    {
     "name": "stderr",
     "output_type": "stream",
     "text": [
      "\rDigitTransformer transform:  32%|███▏      | 337271/1057452 [00:00<00:01, 627810.47it/s]"
     ]
    },
    {
     "name": "stderr",
     "output_type": "stream",
     "text": [
      "\rDigitTransformer transform:  40%|███▉      | 420498/1057452 [00:00<00:00, 677757.71it/s]"
     ]
    },
    {
     "name": "stderr",
     "output_type": "stream",
     "text": [
      "\rDigitTransformer transform:  48%|████▊     | 503604/1057452 [00:00<00:00, 717456.32it/s]"
     ]
    },
    {
     "name": "stderr",
     "output_type": "stream",
     "text": [
      "\rDigitTransformer transform:  56%|█████▌    | 589008/1057452 [00:00<00:00, 753611.44it/s]"
     ]
    },
    {
     "name": "stderr",
     "output_type": "stream",
     "text": [
      "\rDigitTransformer transform:  64%|██████▍   | 677958/1057452 [00:00<00:00, 789806.77it/s]"
     ]
    },
    {
     "name": "stderr",
     "output_type": "stream",
     "text": [
      "\rDigitTransformer transform:  73%|███████▎  | 771854/1057452 [00:01<00:00, 829325.85it/s]"
     ]
    },
    {
     "name": "stderr",
     "output_type": "stream",
     "text": [
      "\rDigitTransformer transform:  82%|████████▏ | 864123/1057452 [00:01<00:00, 855287.03it/s]"
     ]
    },
    {
     "name": "stderr",
     "output_type": "stream",
     "text": [
      "\rDigitTransformer transform:  90%|█████████ | 956869/1057452 [00:01<00:00, 875728.57it/s]"
     ]
    },
    {
     "name": "stderr",
     "output_type": "stream",
     "text": [
      "\rDigitTransformer transform:  99%|█████████▉| 1050669/1057452 [00:01<00:00, 893521.41it/s]"
     ]
    },
    {
     "name": "stderr",
     "output_type": "stream",
     "text": [
      "\rDigitTransformer transform: 100%|██████████| 1057452/1057452 [00:01<00:00, 796642.63it/s]"
     ]
    },
    {
     "name": "stderr",
     "output_type": "stream",
     "text": [
      "\n"
     ]
    },
    {
     "name": "stderr",
     "output_type": "stream",
     "text": [
      "\rDashTransformer transform:   0%|          | 0/1057452 [00:00<?, ?it/s]"
     ]
    },
    {
     "name": "stderr",
     "output_type": "stream",
     "text": [
      "\rDashTransformer transform:   7%|▋         | 69099/1057452 [00:00<00:01, 690982.42it/s]"
     ]
    },
    {
     "name": "stderr",
     "output_type": "stream",
     "text": [
      "\rDashTransformer transform:  13%|█▎        | 137578/1057452 [00:00<00:01, 689111.18it/s]"
     ]
    },
    {
     "name": "stderr",
     "output_type": "stream",
     "text": [
      "\rDashTransformer transform:  20%|█▉        | 210700/1057452 [00:00<00:01, 701223.91it/s]"
     ]
    },
    {
     "name": "stderr",
     "output_type": "stream",
     "text": [
      "\rDashTransformer transform:  27%|██▋       | 287208/1057452 [00:00<00:01, 719232.48it/s]"
     ]
    },
    {
     "name": "stderr",
     "output_type": "stream",
     "text": [
      "\rDashTransformer transform:  35%|███▍      | 366755/1057452 [00:00<00:00, 740519.69it/s]"
     ]
    },
    {
     "name": "stderr",
     "output_type": "stream",
     "text": [
      "\rDashTransformer transform:  42%|████▏     | 445131/1057452 [00:00<00:00, 752977.93it/s]"
     ]
    },
    {
     "name": "stderr",
     "output_type": "stream",
     "text": [
      "\rDashTransformer transform:  50%|████▉     | 528424/1057452 [00:00<00:00, 775301.74it/s]"
     ]
    },
    {
     "name": "stderr",
     "output_type": "stream",
     "text": [
      "\rDashTransformer transform:  58%|█████▊    | 609042/1057452 [00:00<00:00, 784312.00it/s]"
     ]
    },
    {
     "name": "stderr",
     "output_type": "stream",
     "text": [
      "\rDashTransformer transform:  65%|██████▌   | 690802/1057452 [00:00<00:00, 794009.94it/s]"
     ]
    },
    {
     "name": "stderr",
     "output_type": "stream",
     "text": [
      "\rDashTransformer transform:  74%|███████▎  | 779514/1057452 [00:01<00:00, 819821.49it/s]"
     ]
    },
    {
     "name": "stderr",
     "output_type": "stream",
     "text": [
      "\rDashTransformer transform:  82%|████████▏ | 868138/1057452 [00:01<00:00, 838676.21it/s]"
     ]
    },
    {
     "name": "stderr",
     "output_type": "stream",
     "text": [
      "\rDashTransformer transform:  90%|█████████ | 956418/1057452 [00:01<00:00, 851442.23it/s]"
     ]
    },
    {
     "name": "stderr",
     "output_type": "stream",
     "text": [
      "\rDashTransformer transform:  99%|█████████▊| 1041947/1057452 [00:01<00:00, 852585.26it/s]"
     ]
    },
    {
     "name": "stderr",
     "output_type": "stream",
     "text": [
      "\rDashTransformer transform: 100%|██████████| 1057452/1057452 [00:01<00:00, 790244.82it/s]"
     ]
    },
    {
     "name": "stderr",
     "output_type": "stream",
     "text": [
      "\n"
     ]
    },
    {
     "name": "stderr",
     "output_type": "stream",
     "text": [
      "\rDictClassTransformer_PUNCT pre transform:   0%|          | 0/22 [00:00<?, ?it/s]"
     ]
    },
    {
     "name": "stderr",
     "output_type": "stream",
     "text": [
      "\rDictClassTransformer_PUNCT pre transform: 100%|██████████| 22/22 [00:00<00:00, 66865.72it/s]"
     ]
    },
    {
     "name": "stderr",
     "output_type": "stream",
     "text": [
      "\n\rDictClassTransformer_PUNCT transform:   0%|          | 0/1057452 [00:00<?, ?it/s]"
     ]
    },
    {
     "name": "stderr",
     "output_type": "stream",
     "text": [
      "\rDictClassTransformer_PUNCT transform:   5%|▌         | 53545/1057452 [00:00<00:01, 535449.23it/s]"
     ]
    },
    {
     "name": "stderr",
     "output_type": "stream",
     "text": [
      "\rDictClassTransformer_PUNCT transform:  14%|█▍        | 147120/1057452 [00:00<00:01, 614281.37it/s]"
     ]
    },
    {
     "name": "stderr",
     "output_type": "stream",
     "text": [
      "\rDictClassTransformer_PUNCT transform:  23%|██▎       | 245077/1057452 [00:00<00:01, 691657.45it/s]"
     ]
    },
    {
     "name": "stderr",
     "output_type": "stream",
     "text": [
      "\rDictClassTransformer_PUNCT transform:  33%|███▎      | 353146/1057452 [00:00<00:00, 775396.66it/s]"
     ]
    },
    {
     "name": "stderr",
     "output_type": "stream",
     "text": [
      "\rDictClassTransformer_PUNCT transform:  44%|████▍     | 466991/1057452 [00:00<00:00, 857424.95it/s]"
     ]
    },
    {
     "name": "stderr",
     "output_type": "stream",
     "text": [
      "\rDictClassTransformer_PUNCT transform:  55%|█████▌    | 586758/1057452 [00:00<00:00, 937304.21it/s]"
     ]
    },
    {
     "name": "stderr",
     "output_type": "stream",
     "text": [
      "\rDictClassTransformer_PUNCT transform:  67%|██████▋   | 707165/1057452 [00:00<00:00, 1004036.51it/s]"
     ]
    },
    {
     "name": "stderr",
     "output_type": "stream",
     "text": [
      "\rDictClassTransformer_PUNCT transform:  79%|███████▉  | 833500/1057452 [00:00<00:00, 1069916.59it/s]"
     ]
    },
    {
     "name": "stderr",
     "output_type": "stream",
     "text": [
      "\rDictClassTransformer_PUNCT transform:  91%|█████████ | 961835/1057452 [00:00<00:00, 1126097.76it/s]"
     ]
    },
    {
     "name": "stderr",
     "output_type": "stream",
     "text": [
      "\rDictClassTransformer_PUNCT transform: 100%|██████████| 1057452/1057452 [00:00<00:00, 1067696.20it/s]"
     ]
    },
    {
     "name": "stderr",
     "output_type": "stream",
     "text": [
      "\n"
     ]
    },
    {
     "name": "stderr",
     "output_type": "stream",
     "text": [
      "\rDictClassTransformer_VERBATIM pre transform:   0%|          | 0/2406 [00:00<?, ?it/s]"
     ]
    },
    {
     "name": "stderr",
     "output_type": "stream",
     "text": [
      "\rDictClassTransformer_VERBATIM pre transform: 100%|██████████| 2406/2406 [00:00<00:00, 152818.09it/s]"
     ]
    },
    {
     "name": "stderr",
     "output_type": "stream",
     "text": [
      "\n\rDictClassTransformer_VERBATIM transform:   0%|          | 0/1057452 [00:00<?, ?it/s]"
     ]
    },
    {
     "name": "stderr",
     "output_type": "stream",
     "text": [
      "\rDictClassTransformer_VERBATIM transform:   5%|▍         | 51853/1057452 [00:00<00:01, 518529.26it/s]"
     ]
    },
    {
     "name": "stderr",
     "output_type": "stream",
     "text": [
      "\rDictClassTransformer_VERBATIM transform:  13%|█▎        | 136314/1057452 [00:00<00:01, 586452.27it/s]"
     ]
    },
    {
     "name": "stderr",
     "output_type": "stream",
     "text": [
      "\rDictClassTransformer_VERBATIM transform:  22%|██▏       | 237519/1057452 [00:00<00:01, 671119.04it/s]"
     ]
    },
    {
     "name": "stderr",
     "output_type": "stream",
     "text": [
      "\rDictClassTransformer_VERBATIM transform:  33%|███▎      | 346543/1057452 [00:00<00:00, 758606.88it/s]"
     ]
    },
    {
     "name": "stderr",
     "output_type": "stream",
     "text": [
      "\rDictClassTransformer_VERBATIM transform:  43%|████▎     | 449898/1057452 [00:00<00:00, 824396.68it/s]"
     ]
    },
    {
     "name": "stderr",
     "output_type": "stream",
     "text": [
      "\rDictClassTransformer_VERBATIM transform:  51%|█████     | 541176/1057452 [00:00<00:00, 849058.68it/s]"
     ]
    },
    {
     "name": "stderr",
     "output_type": "stream",
     "text": [
      "\rDictClassTransformer_VERBATIM transform:  61%|██████    | 643000/1057452 [00:00<00:00, 893600.05it/s]"
     ]
    },
    {
     "name": "stderr",
     "output_type": "stream",
     "text": [
      "\rDictClassTransformer_VERBATIM transform:  72%|███████▏  | 766094/1057452 [00:00<00:00, 973648.46it/s]"
     ]
    },
    {
     "name": "stderr",
     "output_type": "stream",
     "text": [
      "\rDictClassTransformer_VERBATIM transform:  85%|████████▍ | 893780/1057452 [00:00<00:00, 1048326.27it/s]"
     ]
    },
    {
     "name": "stderr",
     "output_type": "stream",
     "text": [
      "\rDictClassTransformer_VERBATIM transform:  97%|█████████▋| 1023739/1057452 [00:01<00:00, 1112872.40it/s]"
     ]
    },
    {
     "name": "stderr",
     "output_type": "stream",
     "text": [
      "\rDictClassTransformer_VERBATIM transform: 100%|██████████| 1057452/1057452 [00:01<00:00, 1005346.74it/s]"
     ]
    },
    {
     "name": "stderr",
     "output_type": "stream",
     "text": [
      "\n"
     ]
    },
    {
     "name": "stderr",
     "output_type": "stream",
     "text": [
      "\rLatinTransliterator transform:   0%|          | 0/1057452 [00:00<?, ?it/s]"
     ]
    },
    {
     "name": "stderr",
     "output_type": "stream",
     "text": [
      "\rLatinTransliterator transform:   6%|▌         | 58942/1057452 [00:00<00:01, 589419.16it/s]"
     ]
    },
    {
     "name": "stderr",
     "output_type": "stream",
     "text": [
      "\rLatinTransliterator transform:  15%|█▌        | 162991/1057452 [00:00<00:01, 677535.22it/s]"
     ]
    },
    {
     "name": "stderr",
     "output_type": "stream",
     "text": [
      "\rLatinTransliterator transform:  24%|██▍       | 252511/1057452 [00:00<00:01, 730845.77it/s]"
     ]
    },
    {
     "name": "stderr",
     "output_type": "stream",
     "text": [
      "\rLatinTransliterator transform:  33%|███▎      | 351551/1057452 [00:00<00:00, 793206.56it/s]"
     ]
    },
    {
     "name": "stderr",
     "output_type": "stream",
     "text": [
      "\rLatinTransliterator transform:  44%|████▎     | 460909/1057452 [00:00<00:00, 864435.23it/s]"
     ]
    },
    {
     "name": "stderr",
     "output_type": "stream",
     "text": [
      "\rLatinTransliterator transform:  53%|█████▎    | 560596/1057452 [00:00<00:00, 900314.87it/s]"
     ]
    },
    {
     "name": "stderr",
     "output_type": "stream",
     "text": [
      "\rLatinTransliterator transform:  65%|██████▍   | 682966/1057452 [00:00<00:00, 977836.37it/s]"
     ]
    },
    {
     "name": "stderr",
     "output_type": "stream",
     "text": [
      "\rLatinTransliterator transform:  76%|███████▌  | 805995/1057452 [00:00<00:00, 1041977.92it/s]"
     ]
    },
    {
     "name": "stderr",
     "output_type": "stream",
     "text": [
      "\rLatinTransliterator transform:  89%|████████▊ | 937811/1057452 [00:00<00:00, 1111865.25it/s]"
     ]
    },
    {
     "name": "stderr",
     "output_type": "stream",
     "text": [
      "\rLatinTransliterator transform: 100%|██████████| 1057452/1057452 [00:01<00:00, 1049017.95it/s]"
     ]
    },
    {
     "name": "stderr",
     "output_type": "stream",
     "text": [
      "\n"
     ]
    },
    {
     "name": "stderr",
     "output_type": "stream",
     "text": [
      "\rMorphologyExtractor transform:   0%|          | 0/1057452 [00:00<?, ?it/s]"
     ]
    },
    {
     "name": "stderr",
     "output_type": "stream",
     "text": [
      "\rMorphologyExtractor transform:   0%|          | 1308/1057452 [00:00<01:20, 13076.08it/s]"
     ]
    },
    {
     "name": "stderr",
     "output_type": "stream",
     "text": [
      "\rMorphologyExtractor transform:   0%|          | 4153/1057452 [00:00<01:07, 15605.61it/s]"
     ]
    },
    {
     "name": "stderr",
     "output_type": "stream",
     "text": [
      "\rMorphologyExtractor transform:   1%|          | 5678/1057452 [00:00<01:07, 15496.01it/s]"
     ]
    },
    {
     "name": "stderr",
     "output_type": "stream",
     "text": [
      "\rMorphologyExtractor transform:   1%|          | 8821/1057452 [00:00<00:57, 18275.32it/s]"
     ]
    },
    {
     "name": "stderr",
     "output_type": "stream",
     "text": [
      "\rMorphologyExtractor transform:   1%|          | 12271/1057452 [00:00<00:49, 21275.50it/s]"
     ]
    },
    {
     "name": "stderr",
     "output_type": "stream",
     "text": [
      "\rMorphologyExtractor transform:   1%|▏         | 15747/1057452 [00:00<00:43, 24077.64it/s]"
     ]
    },
    {
     "name": "stderr",
     "output_type": "stream",
     "text": [
      "\rMorphologyExtractor transform:   2%|▏         | 19498/1057452 [00:00<00:38, 26969.82it/s]"
     ]
    },
    {
     "name": "stderr",
     "output_type": "stream",
     "text": [
      "\rMorphologyExtractor transform:   2%|▏         | 23303/1057452 [00:00<00:34, 29548.06it/s]"
     ]
    },
    {
     "name": "stderr",
     "output_type": "stream",
     "text": [
      "\rMorphologyExtractor transform:   3%|▎         | 27273/1057452 [00:00<00:32, 31987.95it/s]"
     ]
    },
    {
     "name": "stderr",
     "output_type": "stream",
     "text": [
      "\rMorphologyExtractor transform:   3%|▎         | 30851/1057452 [00:01<00:31, 33017.34it/s]"
     ]
    },
    {
     "name": "stderr",
     "output_type": "stream",
     "text": [
      "\rMorphologyExtractor transform:   3%|▎         | 34337/1057452 [00:01<00:30, 33262.49it/s]"
     ]
    },
    {
     "name": "stderr",
     "output_type": "stream",
     "text": [
      "\rMorphologyExtractor transform:   4%|▎         | 37793/1057452 [00:01<00:30, 33407.35it/s]"
     ]
    },
    {
     "name": "stderr",
     "output_type": "stream",
     "text": [
      "\rMorphologyExtractor transform:   4%|▍         | 41225/1057452 [00:01<00:31, 32229.65it/s]"
     ]
    },
    {
     "name": "stderr",
     "output_type": "stream",
     "text": [
      "\rMorphologyExtractor transform:   4%|▍         | 44521/1057452 [00:01<00:32, 30971.73it/s]"
     ]
    },
    {
     "name": "stderr",
     "output_type": "stream",
     "text": [
      "\rMorphologyExtractor transform:   5%|▍         | 47680/1057452 [00:01<00:33, 30321.15it/s]"
     ]
    },
    {
     "name": "stderr",
     "output_type": "stream",
     "text": [
      "\rMorphologyExtractor transform:   5%|▍         | 51050/1057452 [00:01<00:32, 31261.30it/s]"
     ]
    },
    {
     "name": "stderr",
     "output_type": "stream",
     "text": [
      "\rMorphologyExtractor transform:   5%|▌         | 54216/1057452 [00:01<00:34, 29091.82it/s]"
     ]
    },
    {
     "name": "stderr",
     "output_type": "stream",
     "text": [
      "\rMorphologyExtractor transform:   5%|▌         | 57639/1057452 [00:01<00:32, 30463.01it/s]"
     ]
    },
    {
     "name": "stderr",
     "output_type": "stream",
     "text": [
      "\rMorphologyExtractor transform:   6%|▌         | 60832/1057452 [00:01<00:32, 30879.37it/s]"
     ]
    },
    {
     "name": "stderr",
     "output_type": "stream",
     "text": [
      "\rMorphologyExtractor transform:   6%|▌         | 64862/1057452 [00:02<00:29, 33208.05it/s]"
     ]
    },
    {
     "name": "stderr",
     "output_type": "stream",
     "text": [
      "\rMorphologyExtractor transform:   7%|▋         | 68869/1057452 [00:02<00:28, 34996.78it/s]"
     ]
    },
    {
     "name": "stderr",
     "output_type": "stream",
     "text": [
      "\rMorphologyExtractor transform:   7%|▋         | 72794/1057452 [00:02<00:27, 36151.22it/s]"
     ]
    },
    {
     "name": "stderr",
     "output_type": "stream",
     "text": [
      "\rMorphologyExtractor transform:   7%|▋         | 76476/1057452 [00:02<00:29, 33123.48it/s]"
     ]
    },
    {
     "name": "stderr",
     "output_type": "stream",
     "text": [
      "\rMorphologyExtractor transform:   8%|▊         | 79885/1057452 [00:02<00:30, 32041.37it/s]"
     ]
    },
    {
     "name": "stderr",
     "output_type": "stream",
     "text": [
      "\rMorphologyExtractor transform:   8%|▊         | 84359/1057452 [00:02<00:27, 35022.38it/s]"
     ]
    },
    {
     "name": "stderr",
     "output_type": "stream",
     "text": [
      "\rMorphologyExtractor transform:   8%|▊         | 88878/1057452 [00:02<00:25, 37556.46it/s]"
     ]
    },
    {
     "name": "stderr",
     "output_type": "stream",
     "text": [
      "\rMorphologyExtractor transform:   9%|▉         | 93397/1057452 [00:02<00:24, 39552.33it/s]"
     ]
    },
    {
     "name": "stderr",
     "output_type": "stream",
     "text": [
      "\rMorphologyExtractor transform:   9%|▉         | 98477/1057452 [00:02<00:22, 42365.39it/s]"
     ]
    },
    {
     "name": "stderr",
     "output_type": "stream",
     "text": [
      "\rMorphologyExtractor transform:  10%|▉         | 103467/1057452 [00:03<00:21, 44371.73it/s]"
     ]
    },
    {
     "name": "stderr",
     "output_type": "stream",
     "text": [
      "\rMorphologyExtractor transform:  10%|█         | 108033/1057452 [00:03<00:22, 42704.24it/s]"
     ]
    },
    {
     "name": "stderr",
     "output_type": "stream",
     "text": [
      "\rMorphologyExtractor transform:  11%|█         | 112407/1057452 [00:03<00:23, 40423.45it/s]"
     ]
    },
    {
     "name": "stderr",
     "output_type": "stream",
     "text": [
      "\rMorphologyExtractor transform:  11%|█         | 116747/1057452 [00:03<00:22, 41270.78it/s]"
     ]
    },
    {
     "name": "stderr",
     "output_type": "stream",
     "text": [
      "\rMorphologyExtractor transform:  12%|█▏        | 121786/1057452 [00:03<00:21, 43638.49it/s]"
     ]
    },
    {
     "name": "stderr",
     "output_type": "stream",
     "text": [
      "\rMorphologyExtractor transform:  12%|█▏        | 127083/1057452 [00:03<00:20, 46058.83it/s]"
     ]
    },
    {
     "name": "stderr",
     "output_type": "stream",
     "text": [
      "\rMorphologyExtractor transform:  13%|█▎        | 132286/1057452 [00:03<00:19, 47687.74it/s]"
     ]
    },
    {
     "name": "stderr",
     "output_type": "stream",
     "text": [
      "\rMorphologyExtractor transform:  13%|█▎        | 137138/1057452 [00:03<00:19, 46816.07it/s]"
     ]
    },
    {
     "name": "stderr",
     "output_type": "stream",
     "text": [
      "\rMorphologyExtractor transform:  13%|█▎        | 142258/1057452 [00:03<00:19, 48050.20it/s]"
     ]
    },
    {
     "name": "stderr",
     "output_type": "stream",
     "text": [
      "\rMorphologyExtractor transform:  14%|█▍        | 147361/1057452 [00:03<00:18, 48903.41it/s]"
     ]
    },
    {
     "name": "stderr",
     "output_type": "stream",
     "text": [
      "\rMorphologyExtractor transform:  14%|█▍        | 152291/1057452 [00:04<00:19, 47386.92it/s]"
     ]
    },
    {
     "name": "stderr",
     "output_type": "stream",
     "text": [
      "\rMorphologyExtractor transform:  15%|█▍        | 157961/1057452 [00:04<00:18, 49839.93it/s]"
     ]
    },
    {
     "name": "stderr",
     "output_type": "stream",
     "text": [
      "\rMorphologyExtractor transform:  15%|█▌        | 163869/1057452 [00:04<00:17, 52273.66it/s]"
     ]
    },
    {
     "name": "stderr",
     "output_type": "stream",
     "text": [
      "\rMorphologyExtractor transform:  16%|█▌        | 169170/1057452 [00:04<00:16, 52253.52it/s]"
     ]
    },
    {
     "name": "stderr",
     "output_type": "stream",
     "text": [
      "\rMorphologyExtractor transform:  17%|█▋        | 174570/1057452 [00:04<00:16, 52760.71it/s]"
     ]
    },
    {
     "name": "stderr",
     "output_type": "stream",
     "text": [
      "\rMorphologyExtractor transform:  17%|█▋        | 179884/1057452 [00:04<00:19, 45602.86it/s]"
     ]
    },
    {
     "name": "stderr",
     "output_type": "stream",
     "text": [
      "\rMorphologyExtractor transform:  18%|█▊        | 185117/1057452 [00:04<00:18, 47426.31it/s]"
     ]
    },
    {
     "name": "stderr",
     "output_type": "stream",
     "text": [
      "\rMorphologyExtractor transform:  18%|█▊        | 190018/1057452 [00:04<00:19, 44789.52it/s]"
     ]
    },
    {
     "name": "stderr",
     "output_type": "stream",
     "text": [
      "\rMorphologyExtractor transform:  18%|█▊        | 194638/1057452 [00:04<00:20, 42272.36it/s]"
     ]
    },
    {
     "name": "stderr",
     "output_type": "stream",
     "text": [
      "\rMorphologyExtractor transform:  19%|█▉        | 198993/1057452 [00:05<00:22, 37671.42it/s]"
     ]
    },
    {
     "name": "stderr",
     "output_type": "stream",
     "text": [
      "\rMorphologyExtractor transform:  19%|█▉        | 202943/1057452 [00:05<00:22, 37464.13it/s]"
     ]
    },
    {
     "name": "stderr",
     "output_type": "stream",
     "text": [
      "\rMorphologyExtractor transform:  20%|█▉        | 206818/1057452 [00:05<00:22, 37722.57it/s]"
     ]
    },
    {
     "name": "stderr",
     "output_type": "stream",
     "text": [
      "\rMorphologyExtractor transform:  20%|█▉        | 210681/1057452 [00:05<00:22, 37464.38it/s]"
     ]
    },
    {
     "name": "stderr",
     "output_type": "stream",
     "text": [
      "\rMorphologyExtractor transform:  20%|██        | 214700/1057452 [00:05<00:22, 38239.75it/s]"
     ]
    },
    {
     "name": "stderr",
     "output_type": "stream",
     "text": [
      "\rMorphologyExtractor transform:  21%|██        | 219904/1057452 [00:05<00:20, 41535.80it/s]"
     ]
    },
    {
     "name": "stderr",
     "output_type": "stream",
     "text": [
      "\rMorphologyExtractor transform:  21%|██▏       | 225072/1057452 [00:05<00:18, 44133.62it/s]"
     ]
    },
    {
     "name": "stderr",
     "output_type": "stream",
     "text": [
      "\rMorphologyExtractor transform:  22%|██▏       | 231035/1057452 [00:05<00:17, 47856.61it/s]"
     ]
    },
    {
     "name": "stderr",
     "output_type": "stream",
     "text": [
      "\rMorphologyExtractor transform:  22%|██▏       | 236031/1057452 [00:05<00:16, 48463.69it/s]"
     ]
    },
    {
     "name": "stderr",
     "output_type": "stream",
     "text": [
      "\rMorphologyExtractor transform:  23%|██▎       | 241331/1057452 [00:06<00:16, 49731.10it/s]"
     ]
    },
    {
     "name": "stderr",
     "output_type": "stream",
     "text": [
      "\rMorphologyExtractor transform:  23%|██▎       | 246402/1057452 [00:06<00:16, 49950.70it/s]"
     ]
    },
    {
     "name": "stderr",
     "output_type": "stream",
     "text": [
      "\rMorphologyExtractor transform:  24%|██▍       | 251466/1057452 [00:06<00:16, 49695.39it/s]"
     ]
    },
    {
     "name": "stderr",
     "output_type": "stream",
     "text": [
      "\rMorphologyExtractor transform:  24%|██▍       | 257252/1057452 [00:06<00:15, 51890.09it/s]"
     ]
    },
    {
     "name": "stderr",
     "output_type": "stream",
     "text": [
      "\rMorphologyExtractor transform:  25%|██▍       | 263239/1057452 [00:06<00:14, 54035.15it/s]"
     ]
    },
    {
     "name": "stderr",
     "output_type": "stream",
     "text": [
      "\rMorphologyExtractor transform:  25%|██▌       | 268707/1057452 [00:06<00:15, 52582.21it/s]"
     ]
    },
    {
     "name": "stderr",
     "output_type": "stream",
     "text": [
      "\rMorphologyExtractor transform:  26%|██▌       | 274019/1057452 [00:06<00:15, 50972.38it/s]"
     ]
    },
    {
     "name": "stderr",
     "output_type": "stream",
     "text": [
      "\rMorphologyExtractor transform:  26%|██▋       | 279165/1057452 [00:06<00:19, 40257.01it/s]"
     ]
    },
    {
     "name": "stderr",
     "output_type": "stream",
     "text": [
      "\rMorphologyExtractor transform:  27%|██▋       | 283578/1057452 [00:06<00:20, 37060.69it/s]"
     ]
    },
    {
     "name": "stderr",
     "output_type": "stream",
     "text": [
      "\rMorphologyExtractor transform:  27%|██▋       | 288139/1057452 [00:07<00:19, 39261.30it/s]"
     ]
    },
    {
     "name": "stderr",
     "output_type": "stream",
     "text": [
      "\rMorphologyExtractor transform:  28%|██▊       | 292667/1057452 [00:07<00:18, 40881.61it/s]"
     ]
    },
    {
     "name": "stderr",
     "output_type": "stream",
     "text": [
      "\rMorphologyExtractor transform:  28%|██▊       | 298407/1057452 [00:07<00:16, 44710.65it/s]"
     ]
    },
    {
     "name": "stderr",
     "output_type": "stream",
     "text": [
      "\rMorphologyExtractor transform:  29%|██▊       | 303241/1057452 [00:07<00:16, 45740.56it/s]"
     ]
    },
    {
     "name": "stderr",
     "output_type": "stream",
     "text": [
      "\rMorphologyExtractor transform:  29%|██▉       | 308678/1057452 [00:07<00:15, 47998.62it/s]"
     ]
    },
    {
     "name": "stderr",
     "output_type": "stream",
     "text": [
      "\rMorphologyExtractor transform:  30%|██▉       | 314897/1057452 [00:07<00:14, 51525.33it/s]"
     ]
    },
    {
     "name": "stderr",
     "output_type": "stream",
     "text": [
      "\rMorphologyExtractor transform:  30%|███       | 320434/1057452 [00:07<00:14, 52602.76it/s]"
     ]
    },
    {
     "name": "stderr",
     "output_type": "stream",
     "text": [
      "\rMorphologyExtractor transform:  31%|███       | 326651/1057452 [00:07<00:13, 55136.31it/s]"
     ]
    },
    {
     "name": "stderr",
     "output_type": "stream",
     "text": [
      "\rMorphologyExtractor transform:  31%|███▏      | 333007/1057452 [00:07<00:12, 57417.24it/s]"
     ]
    },
    {
     "name": "stderr",
     "output_type": "stream",
     "text": [
      "\rMorphologyExtractor transform:  32%|███▏      | 339375/1057452 [00:07<00:12, 59105.31it/s]"
     ]
    },
    {
     "name": "stderr",
     "output_type": "stream",
     "text": [
      "\rMorphologyExtractor transform:  33%|███▎      | 345433/1057452 [00:08<00:11, 59532.94it/s]"
     ]
    },
    {
     "name": "stderr",
     "output_type": "stream",
     "text": [
      "\rMorphologyExtractor transform:  33%|███▎      | 351860/1057452 [00:08<00:11, 60867.30it/s]"
     ]
    },
    {
     "name": "stderr",
     "output_type": "stream",
     "text": [
      "\rMorphologyExtractor transform:  34%|███▍      | 358257/1057452 [00:08<00:11, 61760.30it/s]"
     ]
    },
    {
     "name": "stderr",
     "output_type": "stream",
     "text": [
      "\rMorphologyExtractor transform:  34%|███▍      | 364473/1057452 [00:08<00:11, 58289.95it/s]"
     ]
    },
    {
     "name": "stderr",
     "output_type": "stream",
     "text": [
      "\rMorphologyExtractor transform:  35%|███▌      | 370371/1057452 [00:08<00:12, 55645.06it/s]"
     ]
    },
    {
     "name": "stderr",
     "output_type": "stream",
     "text": [
      "\rMorphologyExtractor transform:  36%|███▌      | 376131/1057452 [00:08<00:12, 56192.77it/s]"
     ]
    },
    {
     "name": "stderr",
     "output_type": "stream",
     "text": [
      "\rMorphologyExtractor transform:  36%|███▌      | 382117/1057452 [00:08<00:11, 57222.86it/s]"
     ]
    },
    {
     "name": "stderr",
     "output_type": "stream",
     "text": [
      "\rMorphologyExtractor transform:  37%|███▋      | 387881/1057452 [00:08<00:11, 57145.96it/s]"
     ]
    },
    {
     "name": "stderr",
     "output_type": "stream",
     "text": [
      "\rMorphologyExtractor transform:  37%|███▋      | 393723/1057452 [00:08<00:11, 57510.77it/s]"
     ]
    },
    {
     "name": "stderr",
     "output_type": "stream",
     "text": [
      "\rMorphologyExtractor transform:  38%|███▊      | 399563/1057452 [00:09<00:11, 57758.52it/s]"
     ]
    },
    {
     "name": "stderr",
     "output_type": "stream",
     "text": [
      "\rMorphologyExtractor transform:  38%|███▊      | 406120/1057452 [00:09<00:10, 59891.09it/s]"
     ]
    },
    {
     "name": "stderr",
     "output_type": "stream",
     "text": [
      "\rMorphologyExtractor transform:  39%|███▉      | 412598/1057452 [00:09<00:10, 61276.55it/s]"
     ]
    },
    {
     "name": "stderr",
     "output_type": "stream",
     "text": [
      "\rMorphologyExtractor transform:  40%|███▉      | 419227/1057452 [00:09<00:10, 62644.21it/s]"
     ]
    },
    {
     "name": "stderr",
     "output_type": "stream",
     "text": [
      "\rMorphologyExtractor transform:  40%|████      | 425935/1057452 [00:09<00:09, 63903.36it/s]"
     ]
    },
    {
     "name": "stderr",
     "output_type": "stream",
     "text": [
      "\rMorphologyExtractor transform:  41%|████      | 432352/1057452 [00:09<00:09, 63648.19it/s]"
     ]
    },
    {
     "name": "stderr",
     "output_type": "stream",
     "text": [
      "\rMorphologyExtractor transform:  42%|████▏     | 439263/1057452 [00:09<00:09, 65193.51it/s]"
     ]
    },
    {
     "name": "stderr",
     "output_type": "stream",
     "text": [
      "\rMorphologyExtractor transform:  42%|████▏     | 446120/1057452 [00:09<00:09, 66166.06it/s]"
     ]
    },
    {
     "name": "stderr",
     "output_type": "stream",
     "text": [
      "\rMorphologyExtractor transform:  43%|████▎     | 453182/1057452 [00:09<00:08, 67413.90it/s]"
     ]
    },
    {
     "name": "stderr",
     "output_type": "stream",
     "text": [
      "\rMorphologyExtractor transform:  43%|████▎     | 459943/1057452 [00:09<00:09, 64317.51it/s]"
     ]
    },
    {
     "name": "stderr",
     "output_type": "stream",
     "text": [
      "\rMorphologyExtractor transform:  44%|████▍     | 466419/1057452 [00:10<00:10, 56394.09it/s]"
     ]
    },
    {
     "name": "stderr",
     "output_type": "stream",
     "text": [
      "\rMorphologyExtractor transform:  45%|████▍     | 473091/1057452 [00:10<00:09, 59139.00it/s]"
     ]
    },
    {
     "name": "stderr",
     "output_type": "stream",
     "text": [
      "\rMorphologyExtractor transform:  45%|████▌     | 479607/1057452 [00:10<00:09, 60824.42it/s]"
     ]
    },
    {
     "name": "stderr",
     "output_type": "stream",
     "text": [
      "\rMorphologyExtractor transform:  46%|████▌     | 485828/1057452 [00:10<00:09, 59268.83it/s]"
     ]
    },
    {
     "name": "stderr",
     "output_type": "stream",
     "text": [
      "\rMorphologyExtractor transform:  47%|████▋     | 491861/1057452 [00:10<00:11, 50312.07it/s]"
     ]
    },
    {
     "name": "stderr",
     "output_type": "stream",
     "text": [
      "\rMorphologyExtractor transform:  47%|████▋     | 497200/1057452 [00:10<00:11, 48856.67it/s]"
     ]
    },
    {
     "name": "stderr",
     "output_type": "stream",
     "text": [
      "\rMorphologyExtractor transform:  48%|████▊     | 503767/1057452 [00:10<00:10, 52921.34it/s]"
     ]
    },
    {
     "name": "stderr",
     "output_type": "stream",
     "text": [
      "\rMorphologyExtractor transform:  48%|████▊     | 509315/1057452 [00:10<00:10, 52757.68it/s]"
     ]
    },
    {
     "name": "stderr",
     "output_type": "stream",
     "text": [
      "\rMorphologyExtractor transform:  49%|████▉     | 516450/1057452 [00:11<00:09, 57226.71it/s]"
     ]
    },
    {
     "name": "stderr",
     "output_type": "stream",
     "text": [
      "\rMorphologyExtractor transform:  49%|████▉     | 522753/1057452 [00:11<00:09, 58842.42it/s]"
     ]
    },
    {
     "name": "stderr",
     "output_type": "stream",
     "text": [
      "\rMorphologyExtractor transform:  50%|█████     | 528814/1057452 [00:11<00:10, 52194.29it/s]"
     ]
    },
    {
     "name": "stderr",
     "output_type": "stream",
     "text": [
      "\rMorphologyExtractor transform:  51%|█████     | 534296/1057452 [00:11<00:10, 48594.67it/s]"
     ]
    },
    {
     "name": "stderr",
     "output_type": "stream",
     "text": [
      "\rMorphologyExtractor transform:  51%|█████     | 539389/1057452 [00:11<00:10, 49223.84it/s]"
     ]
    },
    {
     "name": "stderr",
     "output_type": "stream",
     "text": [
      "\rMorphologyExtractor transform:  52%|█████▏    | 545426/1057452 [00:11<00:09, 51990.88it/s]"
     ]
    },
    {
     "name": "stderr",
     "output_type": "stream",
     "text": [
      "\rMorphologyExtractor transform:  52%|█████▏    | 550783/1057452 [00:11<00:12, 40126.21it/s]"
     ]
    },
    {
     "name": "stderr",
     "output_type": "stream",
     "text": [
      "\rMorphologyExtractor transform:  53%|█████▎    | 556041/1057452 [00:11<00:11, 43194.87it/s]"
     ]
    },
    {
     "name": "stderr",
     "output_type": "stream",
     "text": [
      "\rMorphologyExtractor transform:  53%|█████▎    | 561222/1057452 [00:11<00:10, 45460.99it/s]"
     ]
    },
    {
     "name": "stderr",
     "output_type": "stream",
     "text": [
      "\rMorphologyExtractor transform:  54%|█████▎    | 566103/1057452 [00:12<00:17, 28193.83it/s]"
     ]
    },
    {
     "name": "stderr",
     "output_type": "stream",
     "text": [
      "\rMorphologyExtractor transform:  54%|█████▍    | 570415/1057452 [00:12<00:15, 31458.51it/s]"
     ]
    },
    {
     "name": "stderr",
     "output_type": "stream",
     "text": [
      "\rMorphologyExtractor transform:  54%|█████▍    | 576261/1057452 [00:12<00:13, 36505.22it/s]"
     ]
    },
    {
     "name": "stderr",
     "output_type": "stream",
     "text": [
      "\rMorphologyExtractor transform:  55%|█████▌    | 582024/1057452 [00:12<00:11, 40977.00it/s]"
     ]
    },
    {
     "name": "stderr",
     "output_type": "stream",
     "text": [
      "\rMorphologyExtractor transform:  56%|█████▌    | 588233/1057452 [00:12<00:10, 45622.87it/s]"
     ]
    },
    {
     "name": "stderr",
     "output_type": "stream",
     "text": [
      "\rMorphologyExtractor transform:  56%|█████▌    | 594044/1057452 [00:12<00:09, 48748.78it/s]"
     ]
    },
    {
     "name": "stderr",
     "output_type": "stream",
     "text": [
      "\rMorphologyExtractor transform:  57%|█████▋    | 599492/1057452 [00:12<00:10, 45438.32it/s]"
     ]
    },
    {
     "name": "stderr",
     "output_type": "stream",
     "text": [
      "\rMorphologyExtractor transform:  57%|█████▋    | 605833/1057452 [00:13<00:09, 49643.19it/s]"
     ]
    },
    {
     "name": "stderr",
     "output_type": "stream",
     "text": [
      "\rMorphologyExtractor transform:  58%|█████▊    | 611226/1057452 [00:13<00:08, 50290.36it/s]"
     ]
    },
    {
     "name": "stderr",
     "output_type": "stream",
     "text": [
      "\rMorphologyExtractor transform:  58%|█████▊    | 617406/1057452 [00:13<00:08, 53247.60it/s]"
     ]
    },
    {
     "name": "stderr",
     "output_type": "stream",
     "text": [
      "\rMorphologyExtractor transform:  59%|█████▉    | 623513/1057452 [00:13<00:07, 55362.55it/s]"
     ]
    },
    {
     "name": "stderr",
     "output_type": "stream",
     "text": [
      "\rMorphologyExtractor transform:  60%|█████▉    | 629528/1057452 [00:13<00:07, 56715.56it/s]"
     ]
    },
    {
     "name": "stderr",
     "output_type": "stream",
     "text": [
      "\rMorphologyExtractor transform:  60%|██████    | 636836/1057452 [00:13<00:06, 60799.82it/s]"
     ]
    },
    {
     "name": "stderr",
     "output_type": "stream",
     "text": [
      "\rMorphologyExtractor transform:  61%|██████    | 643104/1057452 [00:13<00:07, 54269.70it/s]"
     ]
    },
    {
     "name": "stderr",
     "output_type": "stream",
     "text": [
      "\rMorphologyExtractor transform:  61%|██████▏   | 649677/1057452 [00:13<00:07, 57243.77it/s]"
     ]
    },
    {
     "name": "stderr",
     "output_type": "stream",
     "text": [
      "\rMorphologyExtractor transform:  62%|██████▏   | 655629/1057452 [00:13<00:07, 56409.39it/s]"
     ]
    },
    {
     "name": "stderr",
     "output_type": "stream",
     "text": [
      "\rMorphologyExtractor transform:  63%|██████▎   | 661950/1057452 [00:14<00:06, 58268.06it/s]"
     ]
    },
    {
     "name": "stderr",
     "output_type": "stream",
     "text": [
      "\rMorphologyExtractor transform:  63%|██████▎   | 668758/1057452 [00:14<00:06, 60901.23it/s]"
     ]
    },
    {
     "name": "stderr",
     "output_type": "stream",
     "text": [
      "\rMorphologyExtractor transform:  64%|██████▍   | 675836/1057452 [00:14<00:06, 63562.31it/s]"
     ]
    },
    {
     "name": "stderr",
     "output_type": "stream",
     "text": [
      "\rMorphologyExtractor transform:  65%|██████▍   | 682308/1057452 [00:14<00:06, 62476.70it/s]"
     ]
    },
    {
     "name": "stderr",
     "output_type": "stream",
     "text": [
      "\rMorphologyExtractor transform:  65%|██████▌   | 688641/1057452 [00:14<00:05, 62032.37it/s]"
     ]
    },
    {
     "name": "stderr",
     "output_type": "stream",
     "text": [
      "\rMorphologyExtractor transform:  66%|██████▌   | 696092/1057452 [00:14<00:05, 65304.21it/s]"
     ]
    },
    {
     "name": "stderr",
     "output_type": "stream",
     "text": [
      "\rMorphologyExtractor transform:  67%|██████▋   | 703575/1057452 [00:14<00:05, 67884.42it/s]"
     ]
    },
    {
     "name": "stderr",
     "output_type": "stream",
     "text": [
      "\rMorphologyExtractor transform:  67%|██████▋   | 710452/1057452 [00:14<00:05, 67863.63it/s]"
     ]
    },
    {
     "name": "stderr",
     "output_type": "stream",
     "text": [
      "\rMorphologyExtractor transform:  68%|██████▊   | 717598/1057452 [00:14<00:04, 68901.16it/s]"
     ]
    },
    {
     "name": "stderr",
     "output_type": "stream",
     "text": [
      "\rMorphologyExtractor transform:  69%|██████▊   | 724535/1057452 [00:14<00:04, 68954.29it/s]"
     ]
    },
    {
     "name": "stderr",
     "output_type": "stream",
     "text": [
      "\rMorphologyExtractor transform:  69%|██████▉   | 731464/1057452 [00:15<00:04, 67549.29it/s]"
     ]
    },
    {
     "name": "stderr",
     "output_type": "stream",
     "text": [
      "\rMorphologyExtractor transform:  70%|██████▉   | 738282/1057452 [00:15<00:04, 67735.70it/s]"
     ]
    },
    {
     "name": "stderr",
     "output_type": "stream",
     "text": [
      "\rMorphologyExtractor transform:  70%|███████   | 745215/1057452 [00:15<00:04, 68206.02it/s]"
     ]
    },
    {
     "name": "stderr",
     "output_type": "stream",
     "text": [
      "\rMorphologyExtractor transform:  71%|███████   | 752406/1057452 [00:15<00:04, 69267.28it/s]"
     ]
    },
    {
     "name": "stderr",
     "output_type": "stream",
     "text": [
      "\rMorphologyExtractor transform:  72%|███████▏  | 759348/1057452 [00:15<00:04, 68891.07it/s]"
     ]
    },
    {
     "name": "stderr",
     "output_type": "stream",
     "text": [
      "\rMorphologyExtractor transform:  72%|███████▏  | 766602/1057452 [00:15<00:04, 69916.30it/s]"
     ]
    },
    {
     "name": "stderr",
     "output_type": "stream",
     "text": [
      "\rMorphologyExtractor transform:  73%|███████▎  | 773629/1057452 [00:15<00:04, 70015.97it/s]"
     ]
    },
    {
     "name": "stderr",
     "output_type": "stream",
     "text": [
      "\rMorphologyExtractor transform:  74%|███████▍  | 781033/1057452 [00:15<00:03, 71139.33it/s]"
     ]
    },
    {
     "name": "stderr",
     "output_type": "stream",
     "text": [
      "\rMorphologyExtractor transform:  75%|███████▍  | 789213/1057452 [00:15<00:03, 74031.47it/s]"
     ]
    },
    {
     "name": "stderr",
     "output_type": "stream",
     "text": [
      "\rMorphologyExtractor transform:  75%|███████▌  | 796654/1057452 [00:15<00:03, 73176.42it/s]"
     ]
    },
    {
     "name": "stderr",
     "output_type": "stream",
     "text": [
      "\rMorphologyExtractor transform:  76%|███████▌  | 804000/1057452 [00:16<00:03, 69696.78it/s]"
     ]
    },
    {
     "name": "stderr",
     "output_type": "stream",
     "text": [
      "\rMorphologyExtractor transform:  77%|███████▋  | 811125/1057452 [00:16<00:03, 70149.78it/s]"
     ]
    },
    {
     "name": "stderr",
     "output_type": "stream",
     "text": [
      "\rMorphologyExtractor transform:  77%|███████▋  | 819034/1057452 [00:16<00:03, 72609.62it/s]"
     ]
    },
    {
     "name": "stderr",
     "output_type": "stream",
     "text": [
      "\rMorphologyExtractor transform:  78%|███████▊  | 826345/1057452 [00:16<00:03, 69520.41it/s]"
     ]
    },
    {
     "name": "stderr",
     "output_type": "stream",
     "text": [
      "\rMorphologyExtractor transform:  79%|███████▉  | 833360/1057452 [00:16<00:03, 64178.67it/s]"
     ]
    },
    {
     "name": "stderr",
     "output_type": "stream",
     "text": [
      "\rMorphologyExtractor transform:  79%|███████▉  | 840185/1057452 [00:16<00:03, 65297.49it/s]"
     ]
    },
    {
     "name": "stderr",
     "output_type": "stream",
     "text": [
      "\rMorphologyExtractor transform:  80%|████████  | 847538/1057452 [00:16<00:03, 67564.75it/s]"
     ]
    },
    {
     "name": "stderr",
     "output_type": "stream",
     "text": [
      "\rMorphologyExtractor transform:  81%|████████  | 854917/1057452 [00:16<00:02, 69263.48it/s]"
     ]
    },
    {
     "name": "stderr",
     "output_type": "stream",
     "text": [
      "\rMorphologyExtractor transform:  82%|████████▏ | 862246/1057452 [00:16<00:02, 70419.38it/s]"
     ]
    },
    {
     "name": "stderr",
     "output_type": "stream",
     "text": [
      "\rMorphologyExtractor transform:  82%|████████▏ | 869342/1057452 [00:17<00:03, 62383.71it/s]"
     ]
    },
    {
     "name": "stderr",
     "output_type": "stream",
     "text": [
      "\rMorphologyExtractor transform:  83%|████████▎ | 875787/1057452 [00:17<00:03, 53416.40it/s]"
     ]
    },
    {
     "name": "stderr",
     "output_type": "stream",
     "text": [
      "\rMorphologyExtractor transform:  83%|████████▎ | 882734/1057452 [00:17<00:03, 57386.56it/s]"
     ]
    },
    {
     "name": "stderr",
     "output_type": "stream",
     "text": [
      "\rMorphologyExtractor transform:  84%|████████▍ | 890241/1057452 [00:17<00:02, 61744.38it/s]"
     ]
    },
    {
     "name": "stderr",
     "output_type": "stream",
     "text": [
      "\rMorphologyExtractor transform:  85%|████████▍ | 897698/1057452 [00:17<00:02, 65096.11it/s]"
     ]
    },
    {
     "name": "stderr",
     "output_type": "stream",
     "text": [
      "\rMorphologyExtractor transform:  86%|████████▌ | 905377/1057452 [00:17<00:02, 68202.93it/s]"
     ]
    },
    {
     "name": "stderr",
     "output_type": "stream",
     "text": [
      "\rMorphologyExtractor transform:  86%|████████▋ | 912434/1057452 [00:17<00:02, 68769.55it/s]"
     ]
    },
    {
     "name": "stderr",
     "output_type": "stream",
     "text": [
      "\rMorphologyExtractor transform:  87%|████████▋ | 919729/1057452 [00:17<00:01, 69972.32it/s]"
     ]
    },
    {
     "name": "stderr",
     "output_type": "stream",
     "text": [
      "\rMorphologyExtractor transform:  88%|████████▊ | 926848/1057452 [00:17<00:01, 69692.48it/s]"
     ]
    },
    {
     "name": "stderr",
     "output_type": "stream",
     "text": [
      "\rMorphologyExtractor transform:  88%|████████▊ | 934106/1057452 [00:18<00:01, 70505.77it/s]"
     ]
    },
    {
     "name": "stderr",
     "output_type": "stream",
     "text": [
      "\rMorphologyExtractor transform:  89%|████████▉ | 941219/1057452 [00:18<00:01, 68764.71it/s]"
     ]
    },
    {
     "name": "stderr",
     "output_type": "stream",
     "text": [
      "\rMorphologyExtractor transform:  90%|████████▉ | 948473/1057452 [00:18<00:01, 69853.14it/s]"
     ]
    },
    {
     "name": "stderr",
     "output_type": "stream",
     "text": [
      "\rMorphologyExtractor transform:  90%|█████████ | 955604/1057452 [00:18<00:01, 70235.30it/s]"
     ]
    },
    {
     "name": "stderr",
     "output_type": "stream",
     "text": [
      "\rMorphologyExtractor transform:  91%|█████████ | 963188/1057452 [00:18<00:01, 71791.40it/s]"
     ]
    },
    {
     "name": "stderr",
     "output_type": "stream",
     "text": [
      "\rMorphologyExtractor transform:  92%|█████████▏| 970883/1057452 [00:18<00:01, 73226.79it/s]"
     ]
    },
    {
     "name": "stderr",
     "output_type": "stream",
     "text": [
      "\rMorphologyExtractor transform:  93%|█████████▎| 978569/1057452 [00:18<00:01, 74259.86it/s]"
     ]
    },
    {
     "name": "stderr",
     "output_type": "stream",
     "text": [
      "\rMorphologyExtractor transform:  93%|█████████▎| 986018/1057452 [00:18<00:00, 73917.91it/s]"
     ]
    },
    {
     "name": "stderr",
     "output_type": "stream",
     "text": [
      "\rMorphologyExtractor transform:  94%|█████████▍| 993984/1057452 [00:18<00:00, 75545.06it/s]"
     ]
    },
    {
     "name": "stderr",
     "output_type": "stream",
     "text": [
      "\rMorphologyExtractor transform:  95%|█████████▍| 1001731/1057452 [00:18<00:00, 76100.57it/s]"
     ]
    },
    {
     "name": "stderr",
     "output_type": "stream",
     "text": [
      "\rMorphologyExtractor transform:  95%|█████████▌| 1009357/1057452 [00:19<00:00, 75913.15it/s]"
     ]
    },
    {
     "name": "stderr",
     "output_type": "stream",
     "text": [
      "\rMorphologyExtractor transform:  96%|█████████▌| 1017138/1057452 [00:19<00:00, 76468.79it/s]"
     ]
    },
    {
     "name": "stderr",
     "output_type": "stream",
     "text": [
      "\rMorphologyExtractor transform:  97%|█████████▋| 1025640/1057452 [00:19<00:00, 78842.24it/s]"
     ]
    },
    {
     "name": "stderr",
     "output_type": "stream",
     "text": [
      "\rMorphologyExtractor transform:  98%|█████████▊| 1033549/1057452 [00:19<00:00, 77547.26it/s]"
     ]
    },
    {
     "name": "stderr",
     "output_type": "stream",
     "text": [
      "\rMorphologyExtractor transform:  98%|█████████▊| 1041444/1057452 [00:19<00:00, 77960.53it/s]"
     ]
    },
    {
     "name": "stderr",
     "output_type": "stream",
     "text": [
      "\rMorphologyExtractor transform:  99%|█████████▉| 1049382/1057452 [00:19<00:00, 78379.82it/s]"
     ]
    },
    {
     "name": "stderr",
     "output_type": "stream",
     "text": [
      "\rMorphologyExtractor transform: 100%|██████████| 1057452/1057452 [00:19<00:00, 53826.53it/s]"
     ]
    },
    {
     "name": "stderr",
     "output_type": "stream",
     "text": [
      "\n"
     ]
    },
    {
     "name": "stderr",
     "output_type": "stream",
     "text": [
      "\rMorphologyExtractor transform:   0%|          | 0/1057452 [00:00<?, ?it/s]"
     ]
    },
    {
     "name": "stderr",
     "output_type": "stream",
     "text": [
      "\rMorphologyExtractor transform:   0%|          | 2188/1057452 [00:00<00:58, 18115.12it/s]"
     ]
    },
    {
     "name": "stderr",
     "output_type": "stream",
     "text": [
      "\rMorphologyExtractor transform:   1%|          | 9917/1057452 [00:00<00:44, 23516.51it/s]"
     ]
    },
    {
     "name": "stderr",
     "output_type": "stream",
     "text": [
      "\rMorphologyExtractor transform:   2%|▏         | 17798/1057452 [00:00<00:34, 29785.01it/s]"
     ]
    },
    {
     "name": "stderr",
     "output_type": "stream",
     "text": [
      "\rMorphologyExtractor transform:   2%|▏         | 25634/1057452 [00:00<00:28, 36580.94it/s]"
     ]
    },
    {
     "name": "stderr",
     "output_type": "stream",
     "text": [
      "\rMorphologyExtractor transform:   3%|▎         | 33682/1057452 [00:00<00:23, 43735.77it/s]"
     ]
    },
    {
     "name": "stderr",
     "output_type": "stream",
     "text": [
      "\rMorphologyExtractor transform:   4%|▍         | 40500/1057452 [00:00<00:20, 48964.79it/s]"
     ]
    },
    {
     "name": "stderr",
     "output_type": "stream",
     "text": [
      "\rMorphologyExtractor transform:   5%|▍         | 48510/1057452 [00:00<00:18, 55418.45it/s]"
     ]
    },
    {
     "name": "stderr",
     "output_type": "stream",
     "text": [
      "\rMorphologyExtractor transform:   5%|▌         | 56728/1057452 [00:00<00:16, 61418.51it/s]"
     ]
    },
    {
     "name": "stderr",
     "output_type": "stream",
     "text": [
      "\rMorphologyExtractor transform:   6%|▌         | 65413/1057452 [00:00<00:14, 67324.64it/s]"
     ]
    },
    {
     "name": "stderr",
     "output_type": "stream",
     "text": [
      "\rMorphologyExtractor transform:   7%|▋         | 74258/1057452 [00:01<00:13, 72505.39it/s]"
     ]
    },
    {
     "name": "stderr",
     "output_type": "stream",
     "text": [
      "\rMorphologyExtractor transform:   8%|▊         | 83126/1057452 [00:01<00:12, 76701.74it/s]"
     ]
    },
    {
     "name": "stderr",
     "output_type": "stream",
     "text": [
      "\rMorphologyExtractor transform:   9%|▊         | 91406/1057452 [00:01<00:12, 78390.49it/s]"
     ]
    },
    {
     "name": "stderr",
     "output_type": "stream",
     "text": [
      "\rMorphologyExtractor transform:   9%|▉         | 99681/1057452 [00:01<00:12, 77770.38it/s]"
     ]
    },
    {
     "name": "stderr",
     "output_type": "stream",
     "text": [
      "\rMorphologyExtractor transform:  10%|█         | 107764/1057452 [00:01<00:12, 78469.67it/s]"
     ]
    },
    {
     "name": "stderr",
     "output_type": "stream",
     "text": [
      "\rMorphologyExtractor transform:  11%|█         | 115827/1057452 [00:01<00:12, 76748.07it/s]"
     ]
    },
    {
     "name": "stderr",
     "output_type": "stream",
     "text": [
      "\rMorphologyExtractor transform:  12%|█▏        | 123662/1057452 [00:01<00:12, 77148.98it/s]"
     ]
    },
    {
     "name": "stderr",
     "output_type": "stream",
     "text": [
      "\rMorphologyExtractor transform:  12%|█▏        | 131489/1057452 [00:01<00:12, 75769.35it/s]"
     ]
    },
    {
     "name": "stderr",
     "output_type": "stream",
     "text": [
      "\rMorphologyExtractor transform:  13%|█▎        | 139150/1057452 [00:01<00:12, 72767.31it/s]"
     ]
    },
    {
     "name": "stderr",
     "output_type": "stream",
     "text": [
      "\rMorphologyExtractor transform:  14%|█▍        | 146511/1057452 [00:02<00:13, 65191.81it/s]"
     ]
    },
    {
     "name": "stderr",
     "output_type": "stream",
     "text": [
      "\rMorphologyExtractor transform:  15%|█▍        | 153580/1057452 [00:02<00:13, 66748.75it/s]"
     ]
    },
    {
     "name": "stderr",
     "output_type": "stream",
     "text": [
      "\rMorphologyExtractor transform:  15%|█▌        | 162064/1057452 [00:02<00:12, 71307.60it/s]"
     ]
    },
    {
     "name": "stderr",
     "output_type": "stream",
     "text": [
      "\rMorphologyExtractor transform:  16%|█▌        | 170860/1057452 [00:02<00:11, 75588.55it/s]"
     ]
    },
    {
     "name": "stderr",
     "output_type": "stream",
     "text": [
      "\rMorphologyExtractor transform:  17%|█▋        | 179788/1057452 [00:02<00:11, 79218.38it/s]"
     ]
    },
    {
     "name": "stderr",
     "output_type": "stream",
     "text": [
      "\rMorphologyExtractor transform:  18%|█▊        | 188878/1057452 [00:02<00:10, 82371.50it/s]"
     ]
    },
    {
     "name": "stderr",
     "output_type": "stream",
     "text": [
      "\rMorphologyExtractor transform:  19%|█▊        | 197678/1057452 [00:02<00:10, 83982.25it/s]"
     ]
    },
    {
     "name": "stderr",
     "output_type": "stream",
     "text": [
      "\rMorphologyExtractor transform:  19%|█▉        | 206200/1057452 [00:02<00:10, 81892.77it/s]"
     ]
    },
    {
     "name": "stderr",
     "output_type": "stream",
     "text": [
      "\rMorphologyExtractor transform:  20%|██        | 215232/1057452 [00:02<00:09, 84246.53it/s]"
     ]
    },
    {
     "name": "stderr",
     "output_type": "stream",
     "text": [
      "\rMorphologyExtractor transform:  21%|██        | 224305/1057452 [00:02<00:09, 86090.48it/s]"
     ]
    },
    {
     "name": "stderr",
     "output_type": "stream",
     "text": [
      "\rMorphologyExtractor transform:  22%|██▏       | 234536/1057452 [00:03<00:09, 90388.90it/s]"
     ]
    },
    {
     "name": "stderr",
     "output_type": "stream",
     "text": [
      "\rMorphologyExtractor transform:  23%|██▎       | 243946/1057452 [00:03<00:08, 91404.80it/s]"
     ]
    },
    {
     "name": "stderr",
     "output_type": "stream",
     "text": [
      "\rMorphologyExtractor transform:  24%|██▍       | 253164/1057452 [00:03<00:09, 86266.16it/s]"
     ]
    },
    {
     "name": "stderr",
     "output_type": "stream",
     "text": [
      "\rMorphologyExtractor transform:  25%|██▍       | 261904/1057452 [00:03<00:10, 76154.00it/s]"
     ]
    },
    {
     "name": "stderr",
     "output_type": "stream",
     "text": [
      "\rMorphologyExtractor transform:  26%|██▌       | 270170/1057452 [00:03<00:10, 77985.48it/s]"
     ]
    },
    {
     "name": "stderr",
     "output_type": "stream",
     "text": [
      "\rMorphologyExtractor transform:  26%|██▋       | 278341/1057452 [00:03<00:09, 79052.70it/s]"
     ]
    },
    {
     "name": "stderr",
     "output_type": "stream",
     "text": [
      "\rMorphologyExtractor transform:  27%|██▋       | 287010/1057452 [00:03<00:09, 81196.28it/s]"
     ]
    },
    {
     "name": "stderr",
     "output_type": "stream",
     "text": [
      "\rMorphologyExtractor transform:  28%|██▊       | 295627/1057452 [00:03<00:09, 82620.61it/s]"
     ]
    },
    {
     "name": "stderr",
     "output_type": "stream",
     "text": [
      "\rMorphologyExtractor transform:  29%|██▉       | 304290/1057452 [00:03<00:08, 83782.66it/s]"
     ]
    },
    {
     "name": "stderr",
     "output_type": "stream",
     "text": [
      "\rMorphologyExtractor transform:  30%|██▉       | 313582/1057452 [00:03<00:08, 86316.44it/s]"
     ]
    },
    {
     "name": "stderr",
     "output_type": "stream",
     "text": [
      "\rMorphologyExtractor transform:  31%|███       | 323820/1057452 [00:04<00:08, 90579.18it/s]"
     ]
    },
    {
     "name": "stderr",
     "output_type": "stream",
     "text": [
      "\rMorphologyExtractor transform:  31%|███▏      | 332981/1057452 [00:04<00:08, 84429.70it/s]"
     ]
    },
    {
     "name": "stderr",
     "output_type": "stream",
     "text": [
      "\rMorphologyExtractor transform:  32%|███▏      | 341580/1057452 [00:04<00:08, 83049.22it/s]"
     ]
    },
    {
     "name": "stderr",
     "output_type": "stream",
     "text": [
      "\rMorphologyExtractor transform:  33%|███▎      | 350000/1057452 [00:04<00:09, 71604.57it/s]"
     ]
    },
    {
     "name": "stderr",
     "output_type": "stream",
     "text": [
      "\rMorphologyExtractor transform:  34%|███▍      | 357519/1057452 [00:04<00:11, 63259.93it/s]"
     ]
    },
    {
     "name": "stderr",
     "output_type": "stream",
     "text": [
      "\rMorphologyExtractor transform:  35%|███▍      | 365368/1057452 [00:04<00:10, 67164.67it/s]"
     ]
    },
    {
     "name": "stderr",
     "output_type": "stream",
     "text": [
      "\rMorphologyExtractor transform:  35%|███▌      | 374207/1057452 [00:04<00:09, 72377.95it/s]"
     ]
    },
    {
     "name": "stderr",
     "output_type": "stream",
     "text": [
      "\rMorphologyExtractor transform:  36%|███▌      | 383041/1057452 [00:04<00:08, 76525.20it/s]"
     ]
    },
    {
     "name": "stderr",
     "output_type": "stream",
     "text": [
      "\rMorphologyExtractor transform:  37%|███▋      | 391018/1057452 [00:05<00:10, 65689.04it/s]"
     ]
    },
    {
     "name": "stderr",
     "output_type": "stream",
     "text": [
      "\rMorphologyExtractor transform:  38%|███▊      | 398759/1057452 [00:05<00:09, 68814.22it/s]"
     ]
    },
    {
     "name": "stderr",
     "output_type": "stream",
     "text": [
      "\rMorphologyExtractor transform:  38%|███▊      | 406605/1057452 [00:05<00:09, 71448.20it/s]"
     ]
    },
    {
     "name": "stderr",
     "output_type": "stream",
     "text": [
      "\rMorphologyExtractor transform:  39%|███▉      | 415710/1057452 [00:05<00:08, 76380.59it/s]"
     ]
    },
    {
     "name": "stderr",
     "output_type": "stream",
     "text": [
      "\rMorphologyExtractor transform:  40%|████      | 425568/1057452 [00:05<00:07, 81888.42it/s]"
     ]
    },
    {
     "name": "stderr",
     "output_type": "stream",
     "text": [
      "\rMorphologyExtractor transform:  41%|████      | 434921/1057452 [00:05<00:07, 85048.50it/s]"
     ]
    },
    {
     "name": "stderr",
     "output_type": "stream",
     "text": [
      "\rMorphologyExtractor transform:  42%|████▏     | 445053/1057452 [00:05<00:06, 89348.03it/s]"
     ]
    },
    {
     "name": "stderr",
     "output_type": "stream",
     "text": [
      "\rMorphologyExtractor transform:  43%|████▎     | 454226/1057452 [00:05<00:07, 76699.18it/s]"
     ]
    },
    {
     "name": "stderr",
     "output_type": "stream",
     "text": [
      "\rMorphologyExtractor transform:  44%|████▎     | 462377/1057452 [00:05<00:08, 70779.22it/s]"
     ]
    },
    {
     "name": "stderr",
     "output_type": "stream",
     "text": [
      "\rMorphologyExtractor transform:  44%|████▍     | 469882/1057452 [00:06<00:08, 67748.78it/s]"
     ]
    },
    {
     "name": "stderr",
     "output_type": "stream",
     "text": [
      "\rMorphologyExtractor transform:  45%|████▌     | 477673/1057452 [00:06<00:08, 70503.88it/s]"
     ]
    },
    {
     "name": "stderr",
     "output_type": "stream",
     "text": [
      "\rMorphologyExtractor transform:  46%|████▌     | 485037/1057452 [00:06<00:08, 71398.44it/s]"
     ]
    },
    {
     "name": "stderr",
     "output_type": "stream",
     "text": [
      "\rMorphologyExtractor transform:  47%|████▋     | 493451/1057452 [00:06<00:07, 74796.02it/s]"
     ]
    },
    {
     "name": "stderr",
     "output_type": "stream",
     "text": [
      "\rMorphologyExtractor transform:  48%|████▊     | 502454/1057452 [00:06<00:07, 78789.45it/s]"
     ]
    },
    {
     "name": "stderr",
     "output_type": "stream",
     "text": [
      "\rMorphologyExtractor transform:  48%|████▊     | 511061/1057452 [00:06<00:06, 80840.78it/s]"
     ]
    },
    {
     "name": "stderr",
     "output_type": "stream",
     "text": [
      "\rMorphologyExtractor transform:  49%|████▉     | 520719/1057452 [00:06<00:06, 84994.63it/s]"
     ]
    },
    {
     "name": "stderr",
     "output_type": "stream",
     "text": [
      "\rMorphologyExtractor transform:  50%|█████     | 529947/1057452 [00:06<00:06, 87056.26it/s]"
     ]
    },
    {
     "name": "stderr",
     "output_type": "stream",
     "text": [
      "\rMorphologyExtractor transform:  51%|█████     | 539511/1057452 [00:06<00:05, 89439.77it/s]"
     ]
    },
    {
     "name": "stderr",
     "output_type": "stream",
     "text": [
      "\rMorphologyExtractor transform:  52%|█████▏    | 548900/1057452 [00:07<00:05, 90715.13it/s]"
     ]
    },
    {
     "name": "stderr",
     "output_type": "stream",
     "text": [
      "\rMorphologyExtractor transform:  53%|█████▎    | 559216/1057452 [00:07<00:05, 94108.36it/s]"
     ]
    },
    {
     "name": "stderr",
     "output_type": "stream",
     "text": [
      "\rMorphologyExtractor transform:  54%|█████▍    | 569558/1057452 [00:07<00:05, 96708.96it/s]"
     ]
    },
    {
     "name": "stderr",
     "output_type": "stream",
     "text": [
      "\rMorphologyExtractor transform:  55%|█████▍    | 579306/1057452 [00:07<00:05, 94930.22it/s]"
     ]
    },
    {
     "name": "stderr",
     "output_type": "stream",
     "text": [
      "\rMorphologyExtractor transform:  56%|█████▌    | 588861/1057452 [00:07<00:05, 88057.29it/s]"
     ]
    },
    {
     "name": "stderr",
     "output_type": "stream",
     "text": [
      "\rMorphologyExtractor transform:  57%|█████▋    | 597809/1057452 [00:07<00:05, 86607.44it/s]"
     ]
    },
    {
     "name": "stderr",
     "output_type": "stream",
     "text": [
      "\rMorphologyExtractor transform:  57%|█████▋    | 606645/1057452 [00:07<00:05, 87125.58it/s]"
     ]
    },
    {
     "name": "stderr",
     "output_type": "stream",
     "text": [
      "\rMorphologyExtractor transform:  58%|█████▊    | 615432/1057452 [00:07<00:05, 84668.37it/s]"
     ]
    },
    {
     "name": "stderr",
     "output_type": "stream",
     "text": [
      "\rMorphologyExtractor transform:  59%|█████▉    | 624305/1057452 [00:07<00:05, 85839.27it/s]"
     ]
    },
    {
     "name": "stderr",
     "output_type": "stream",
     "text": [
      "\rMorphologyExtractor transform:  60%|██████    | 634751/1057452 [00:07<00:04, 90686.49it/s]"
     ]
    },
    {
     "name": "stderr",
     "output_type": "stream",
     "text": [
      "\rMorphologyExtractor transform:  61%|██████    | 644728/1057452 [00:08<00:04, 93210.47it/s]"
     ]
    },
    {
     "name": "stderr",
     "output_type": "stream",
     "text": [
      "\rMorphologyExtractor transform:  62%|██████▏   | 654143/1057452 [00:08<00:04, 91910.82it/s]"
     ]
    },
    {
     "name": "stderr",
     "output_type": "stream",
     "text": [
      "\rMorphologyExtractor transform:  63%|██████▎   | 663404/1057452 [00:08<00:04, 87281.91it/s]"
     ]
    },
    {
     "name": "stderr",
     "output_type": "stream",
     "text": [
      "\rMorphologyExtractor transform:  64%|██████▎   | 672230/1057452 [00:08<00:04, 81162.42it/s]"
     ]
    },
    {
     "name": "stderr",
     "output_type": "stream",
     "text": [
      "\rMorphologyExtractor transform:  64%|██████▍   | 680501/1057452 [00:08<00:05, 69906.09it/s]"
     ]
    },
    {
     "name": "stderr",
     "output_type": "stream",
     "text": [
      "\rMorphologyExtractor transform:  65%|██████▌   | 687875/1057452 [00:08<00:05, 67043.23it/s]"
     ]
    },
    {
     "name": "stderr",
     "output_type": "stream",
     "text": [
      "\rMorphologyExtractor transform:  66%|██████▌   | 696107/1057452 [00:08<00:05, 70974.33it/s]"
     ]
    },
    {
     "name": "stderr",
     "output_type": "stream",
     "text": [
      "\rMorphologyExtractor transform:  67%|██████▋   | 703473/1057452 [00:08<00:05, 69762.96it/s]"
     ]
    },
    {
     "name": "stderr",
     "output_type": "stream",
     "text": [
      "\rMorphologyExtractor transform:  67%|██████▋   | 711332/1057452 [00:08<00:04, 72194.82it/s]"
     ]
    },
    {
     "name": "stderr",
     "output_type": "stream",
     "text": [
      "\rMorphologyExtractor transform:  68%|██████▊   | 719526/1057452 [00:09<00:04, 74854.90it/s]"
     ]
    },
    {
     "name": "stderr",
     "output_type": "stream",
     "text": [
      "\rMorphologyExtractor transform:  69%|██████▉   | 727146/1057452 [00:09<00:04, 72902.33it/s]"
     ]
    },
    {
     "name": "stderr",
     "output_type": "stream",
     "text": [
      "\rMorphologyExtractor transform:  69%|██████▉   | 734542/1057452 [00:09<00:05, 63339.44it/s]"
     ]
    },
    {
     "name": "stderr",
     "output_type": "stream",
     "text": [
      "\rMorphologyExtractor transform:  70%|███████   | 742145/1057452 [00:09<00:04, 66673.04it/s]"
     ]
    },
    {
     "name": "stderr",
     "output_type": "stream",
     "text": [
      "\rMorphologyExtractor transform:  71%|███████   | 749068/1057452 [00:09<00:05, 60347.76it/s]"
     ]
    },
    {
     "name": "stderr",
     "output_type": "stream",
     "text": [
      "\rMorphologyExtractor transform:  71%|███████▏  | 755396/1057452 [00:09<00:05, 59110.35it/s]"
     ]
    },
    {
     "name": "stderr",
     "output_type": "stream",
     "text": [
      "\rMorphologyExtractor transform:  72%|███████▏  | 764842/1057452 [00:09<00:04, 66585.83it/s]"
     ]
    },
    {
     "name": "stderr",
     "output_type": "stream",
     "text": [
      "\rMorphologyExtractor transform:  73%|███████▎  | 774552/1057452 [00:09<00:03, 73516.55it/s]"
     ]
    },
    {
     "name": "stderr",
     "output_type": "stream",
     "text": [
      "\rMorphologyExtractor transform:  74%|███████▍  | 784383/1057452 [00:10<00:03, 79488.50it/s]"
     ]
    },
    {
     "name": "stderr",
     "output_type": "stream",
     "text": [
      "\rMorphologyExtractor transform:  75%|███████▌  | 793460/1057452 [00:10<00:03, 82548.42it/s]"
     ]
    },
    {
     "name": "stderr",
     "output_type": "stream",
     "text": [
      "\rMorphologyExtractor transform:  76%|███████▌  | 802311/1057452 [00:10<00:03, 84152.03it/s]"
     ]
    },
    {
     "name": "stderr",
     "output_type": "stream",
     "text": [
      "\rMorphologyExtractor transform:  77%|███████▋  | 811011/1057452 [00:10<00:02, 84582.09it/s]"
     ]
    },
    {
     "name": "stderr",
     "output_type": "stream",
     "text": [
      "\rMorphologyExtractor transform:  78%|███████▊  | 819669/1057452 [00:11<00:14, 16894.76it/s]"
     ]
    },
    {
     "name": "stderr",
     "output_type": "stream",
     "text": [
      "\rMorphologyExtractor transform:  78%|███████▊  | 827752/1057452 [00:11<00:10, 22151.11it/s]"
     ]
    },
    {
     "name": "stderr",
     "output_type": "stream",
     "text": [
      "\rMorphologyExtractor transform:  79%|███████▉  | 837281/1057452 [00:11<00:07, 28776.24it/s]"
     ]
    },
    {
     "name": "stderr",
     "output_type": "stream",
     "text": [
      "\rMorphologyExtractor transform:  80%|████████  | 847569/1057452 [00:12<00:05, 36707.57it/s]"
     ]
    },
    {
     "name": "stderr",
     "output_type": "stream",
     "text": [
      "\rMorphologyExtractor transform:  81%|████████  | 857163/1057452 [00:12<00:04, 45049.68it/s]"
     ]
    },
    {
     "name": "stderr",
     "output_type": "stream",
     "text": [
      "\rMorphologyExtractor transform:  82%|████████▏ | 865930/1057452 [00:12<00:03, 52496.88it/s]"
     ]
    },
    {
     "name": "stderr",
     "output_type": "stream",
     "text": [
      "\rMorphologyExtractor transform:  83%|████████▎ | 874631/1057452 [00:12<00:03, 53098.25it/s]"
     ]
    },
    {
     "name": "stderr",
     "output_type": "stream",
     "text": [
      "\rMorphologyExtractor transform:  84%|████████▎ | 883486/1057452 [00:12<00:02, 60337.81it/s]"
     ]
    },
    {
     "name": "stderr",
     "output_type": "stream",
     "text": [
      "\rMorphologyExtractor transform:  85%|████████▍ | 893749/1057452 [00:12<00:02, 68843.36it/s]"
     ]
    },
    {
     "name": "stderr",
     "output_type": "stream",
     "text": [
      "\rMorphologyExtractor transform:  85%|████████▌ | 902971/1057452 [00:12<00:02, 74509.38it/s]"
     ]
    },
    {
     "name": "stderr",
     "output_type": "stream",
     "text": [
      "\rMorphologyExtractor transform:  86%|████████▋ | 913303/1057452 [00:12<00:01, 81303.37it/s]"
     ]
    },
    {
     "name": "stderr",
     "output_type": "stream",
     "text": [
      "\rMorphologyExtractor transform:  87%|████████▋ | 922612/1057452 [00:12<00:01, 84232.08it/s]"
     ]
    },
    {
     "name": "stderr",
     "output_type": "stream",
     "text": [
      "\rMorphologyExtractor transform:  88%|████████▊ | 932637/1057452 [00:13<00:01, 88462.13it/s]"
     ]
    },
    {
     "name": "stderr",
     "output_type": "stream",
     "text": [
      "\rMorphologyExtractor transform:  89%|████████▉ | 942136/1057452 [00:13<00:01, 89915.94it/s]"
     ]
    },
    {
     "name": "stderr",
     "output_type": "stream",
     "text": [
      "\rMorphologyExtractor transform:  90%|█████████ | 952437/1057452 [00:13<00:01, 93480.00it/s]"
     ]
    },
    {
     "name": "stderr",
     "output_type": "stream",
     "text": [
      "\rMorphologyExtractor transform:  91%|█████████ | 963247/1057452 [00:13<00:00, 97414.83it/s]"
     ]
    },
    {
     "name": "stderr",
     "output_type": "stream",
     "text": [
      "\rMorphologyExtractor transform:  92%|█████████▏| 973284/1057452 [00:13<00:00, 97084.21it/s]"
     ]
    },
    {
     "name": "stderr",
     "output_type": "stream",
     "text": [
      "\rMorphologyExtractor transform:  93%|█████████▎| 983200/1057452 [00:13<00:00, 97079.41it/s]"
     ]
    },
    {
     "name": "stderr",
     "output_type": "stream",
     "text": [
      "\rMorphologyExtractor transform:  94%|█████████▍| 993053/1057452 [00:13<00:00, 97491.82it/s]"
     ]
    },
    {
     "name": "stderr",
     "output_type": "stream",
     "text": [
      "\rMorphologyExtractor transform:  95%|█████████▍| 1002904/1057452 [00:13<00:00, 96251.99it/s]"
     ]
    },
    {
     "name": "stderr",
     "output_type": "stream",
     "text": [
      "\rMorphologyExtractor transform:  96%|█████████▌| 1012604/1057452 [00:13<00:00, 96176.35it/s]"
     ]
    },
    {
     "name": "stderr",
     "output_type": "stream",
     "text": [
      "\rMorphologyExtractor transform:  97%|█████████▋| 1023298/1057452 [00:13<00:00, 99170.09it/s]"
     ]
    },
    {
     "name": "stderr",
     "output_type": "stream",
     "text": [
      "\rMorphologyExtractor transform:  98%|█████████▊| 1033381/1057452 [00:14<00:00, 99647.46it/s]"
     ]
    },
    {
     "name": "stderr",
     "output_type": "stream",
     "text": [
      "\rMorphologyExtractor transform:  99%|█████████▊| 1043389/1057452 [00:14<00:00, 99450.21it/s]"
     ]
    },
    {
     "name": "stderr",
     "output_type": "stream",
     "text": [
      "\rMorphologyExtractor transform: 100%|█████████▉| 1054277/1057452 [00:14<00:00, 102000.68it/s]"
     ]
    },
    {
     "name": "stderr",
     "output_type": "stream",
     "text": [
      "\rMorphologyExtractor transform: 100%|██████████| 1057452/1057452 [00:14<00:00, 73907.37it/s] "
     ]
    },
    {
     "name": "stderr",
     "output_type": "stream",
     "text": [
      "\n"
     ]
    },
    {
     "name": "stderr",
     "output_type": "stream",
     "text": [
      "\rMorphologyExtractor transform:   0%|          | 0/1057452 [00:00<?, ?it/s]"
     ]
    },
    {
     "name": "stderr",
     "output_type": "stream",
     "text": [
      "\rMorphologyExtractor transform:   0%|          | 4625/1057452 [00:00<00:22, 46229.65it/s]"
     ]
    },
    {
     "name": "stderr",
     "output_type": "stream",
     "text": [
      "\rMorphologyExtractor transform:   1%|          | 10227/1057452 [00:00<00:23, 45300.11it/s]"
     ]
    },
    {
     "name": "stderr",
     "output_type": "stream",
     "text": [
      "\rMorphologyExtractor transform:   2%|▏         | 19373/1057452 [00:00<00:19, 53379.36it/s]"
     ]
    },
    {
     "name": "stderr",
     "output_type": "stream",
     "text": [
      "\rMorphologyExtractor transform:   3%|▎         | 29070/1057452 [00:00<00:16, 61691.51it/s]"
     ]
    },
    {
     "name": "stderr",
     "output_type": "stream",
     "text": [
      "\rMorphologyExtractor transform:   4%|▎         | 39533/1057452 [00:00<00:14, 70352.62it/s]"
     ]
    },
    {
     "name": "stderr",
     "output_type": "stream",
     "text": [
      "\rMorphologyExtractor transform:   5%|▍         | 49391/1057452 [00:00<00:13, 76963.78it/s]"
     ]
    },
    {
     "name": "stderr",
     "output_type": "stream",
     "text": [
      "\rMorphologyExtractor transform:   6%|▌         | 59409/1057452 [00:00<00:12, 82714.00it/s]"
     ]
    },
    {
     "name": "stderr",
     "output_type": "stream",
     "text": [
      "\rMorphologyExtractor transform:   7%|▋         | 69853/1057452 [00:00<00:11, 88197.38it/s]"
     ]
    },
    {
     "name": "stderr",
     "output_type": "stream",
     "text": [
      "\rMorphologyExtractor transform:   8%|▊         | 80980/1057452 [00:00<00:10, 94047.79it/s]"
     ]
    },
    {
     "name": "stderr",
     "output_type": "stream",
     "text": [
      "\rMorphologyExtractor transform:   9%|▊         | 92082/1057452 [00:01<00:09, 98567.85it/s]"
     ]
    },
    {
     "name": "stderr",
     "output_type": "stream",
     "text": [
      "\rMorphologyExtractor transform:  10%|▉         | 104087/1057452 [00:01<00:09, 104159.21it/s]"
     ]
    },
    {
     "name": "stderr",
     "output_type": "stream",
     "text": [
      "\rMorphologyExtractor transform:  11%|█         | 114961/1057452 [00:01<00:08, 105491.78it/s]"
     ]
    },
    {
     "name": "stderr",
     "output_type": "stream",
     "text": [
      "\rMorphologyExtractor transform:  12%|█▏        | 125899/1057452 [00:01<00:08, 106628.56it/s]"
     ]
    },
    {
     "name": "stderr",
     "output_type": "stream",
     "text": [
      "\rMorphologyExtractor transform:  13%|█▎        | 136717/1057452 [00:01<00:08, 104896.32it/s]"
     ]
    },
    {
     "name": "stderr",
     "output_type": "stream",
     "text": [
      "\rMorphologyExtractor transform:  14%|█▍        | 147322/1057452 [00:01<00:08, 104507.01it/s]"
     ]
    },
    {
     "name": "stderr",
     "output_type": "stream",
     "text": [
      "\rMorphologyExtractor transform:  15%|█▍        | 157854/1057452 [00:01<00:08, 104155.45it/s]"
     ]
    },
    {
     "name": "stderr",
     "output_type": "stream",
     "text": [
      "\rMorphologyExtractor transform:  16%|█▌        | 168355/1057452 [00:01<00:08, 104401.25it/s]"
     ]
    },
    {
     "name": "stderr",
     "output_type": "stream",
     "text": [
      "\rMorphologyExtractor transform:  17%|█▋        | 178835/1057452 [00:01<00:08, 103896.98it/s]"
     ]
    },
    {
     "name": "stderr",
     "output_type": "stream",
     "text": [
      "\rMorphologyExtractor transform:  18%|█▊        | 190243/1057452 [00:01<00:08, 106686.23it/s]"
     ]
    },
    {
     "name": "stderr",
     "output_type": "stream",
     "text": [
      "\rMorphologyExtractor transform:  19%|█▉        | 200951/1057452 [00:02<00:08, 105426.42it/s]"
     ]
    },
    {
     "name": "stderr",
     "output_type": "stream",
     "text": [
      "\rMorphologyExtractor transform:  20%|██        | 211806/1057452 [00:02<00:07, 106310.74it/s]"
     ]
    },
    {
     "name": "stderr",
     "output_type": "stream",
     "text": [
      "\rMorphologyExtractor transform:  21%|██        | 222461/1057452 [00:02<00:08, 97515.85it/s] "
     ]
    },
    {
     "name": "stderr",
     "output_type": "stream",
     "text": [
      "\rMorphologyExtractor transform:  22%|██▏       | 232371/1057452 [00:02<00:08, 94615.68it/s]"
     ]
    },
    {
     "name": "stderr",
     "output_type": "stream",
     "text": [
      "\rMorphologyExtractor transform:  23%|██▎       | 242043/1057452 [00:02<00:08, 95228.60it/s]"
     ]
    },
    {
     "name": "stderr",
     "output_type": "stream",
     "text": [
      "\rMorphologyExtractor transform:  24%|██▍       | 252981/1057452 [00:02<00:08, 99073.46it/s]"
     ]
    },
    {
     "name": "stderr",
     "output_type": "stream",
     "text": [
      "\rMorphologyExtractor transform:  25%|██▍       | 263929/1057452 [00:02<00:07, 101979.86it/s]"
     ]
    },
    {
     "name": "stderr",
     "output_type": "stream",
     "text": [
      "\rMorphologyExtractor transform:  26%|██▌       | 274594/1057452 [00:02<00:07, 103322.66it/s]"
     ]
    },
    {
     "name": "stderr",
     "output_type": "stream",
     "text": [
      "\rMorphologyExtractor transform:  27%|██▋       | 284997/1057452 [00:02<00:07, 102900.35it/s]"
     ]
    },
    {
     "name": "stderr",
     "output_type": "stream",
     "text": [
      "\rMorphologyExtractor transform:  28%|██▊       | 295622/1057452 [00:02<00:07, 103860.01it/s]"
     ]
    },
    {
     "name": "stderr",
     "output_type": "stream",
     "text": [
      "\rMorphologyExtractor transform:  29%|██▉       | 306045/1057452 [00:03<00:07, 103625.26it/s]"
     ]
    },
    {
     "name": "stderr",
     "output_type": "stream",
     "text": [
      "\rMorphologyExtractor transform:  30%|██▉       | 316653/1057452 [00:03<00:07, 104330.91it/s]"
     ]
    },
    {
     "name": "stderr",
     "output_type": "stream",
     "text": [
      "\rMorphologyExtractor transform:  31%|███       | 327649/1057452 [00:03<00:06, 105957.26it/s]"
     ]
    },
    {
     "name": "stderr",
     "output_type": "stream",
     "text": [
      "\rMorphologyExtractor transform:  32%|███▏      | 338477/1057452 [00:03<00:06, 106643.20it/s]"
     ]
    },
    {
     "name": "stderr",
     "output_type": "stream",
     "text": [
      "\rMorphologyExtractor transform:  33%|███▎      | 349302/1057452 [00:03<00:06, 107117.97it/s]"
     ]
    },
    {
     "name": "stderr",
     "output_type": "stream",
     "text": [
      "\rMorphologyExtractor transform:  34%|███▍      | 360117/1057452 [00:03<00:06, 107346.22it/s]"
     ]
    },
    {
     "name": "stderr",
     "output_type": "stream",
     "text": [
      "\rMorphologyExtractor transform:  35%|███▌      | 371530/1057452 [00:03<00:06, 109294.57it/s]"
     ]
    },
    {
     "name": "stderr",
     "output_type": "stream",
     "text": [
      "\rMorphologyExtractor transform:  36%|███▋      | 383467/1057452 [00:03<00:06, 112133.02it/s]"
     ]
    },
    {
     "name": "stderr",
     "output_type": "stream",
     "text": [
      "\rMorphologyExtractor transform:  37%|███▋      | 395261/1057452 [00:03<00:05, 113799.99it/s]"
     ]
    },
    {
     "name": "stderr",
     "output_type": "stream",
     "text": [
      "\rMorphologyExtractor transform:  38%|███▊      | 406667/1057452 [00:03<00:05, 112247.65it/s]"
     ]
    },
    {
     "name": "stderr",
     "output_type": "stream",
     "text": [
      "\rMorphologyExtractor transform:  40%|███▉      | 418048/1057452 [00:04<00:05, 112708.51it/s]"
     ]
    },
    {
     "name": "stderr",
     "output_type": "stream",
     "text": [
      "\rMorphologyExtractor transform:  41%|████      | 429336/1057452 [00:04<00:05, 112570.28it/s]"
     ]
    },
    {
     "name": "stderr",
     "output_type": "stream",
     "text": [
      "\rMorphologyExtractor transform:  42%|████▏     | 440605/1057452 [00:04<00:05, 111443.53it/s]"
     ]
    },
    {
     "name": "stderr",
     "output_type": "stream",
     "text": [
      "\rMorphologyExtractor transform:  43%|████▎     | 451760/1057452 [00:04<00:05, 110111.05it/s]"
     ]
    },
    {
     "name": "stderr",
     "output_type": "stream",
     "text": [
      "\rMorphologyExtractor transform:  44%|████▍     | 462783/1057452 [00:04<00:05, 108934.20it/s]"
     ]
    },
    {
     "name": "stderr",
     "output_type": "stream",
     "text": [
      "\rMorphologyExtractor transform:  45%|████▍     | 473688/1057452 [00:04<00:05, 107105.09it/s]"
     ]
    },
    {
     "name": "stderr",
     "output_type": "stream",
     "text": [
      "\rMorphologyExtractor transform:  46%|████▌     | 484413/1057452 [00:04<00:05, 106771.65it/s]"
     ]
    },
    {
     "name": "stderr",
     "output_type": "stream",
     "text": [
      "\rMorphologyExtractor transform:  47%|████▋     | 495101/1057452 [00:04<00:05, 101798.89it/s]"
     ]
    },
    {
     "name": "stderr",
     "output_type": "stream",
     "text": [
      "\rMorphologyExtractor transform:  48%|████▊     | 505807/1057452 [00:04<00:05, 103321.57it/s]"
     ]
    },
    {
     "name": "stderr",
     "output_type": "stream",
     "text": [
      "\rMorphologyExtractor transform:  49%|████▉     | 516337/1057452 [00:05<00:05, 103876.19it/s]"
     ]
    },
    {
     "name": "stderr",
     "output_type": "stream",
     "text": [
      "\rMorphologyExtractor transform:  50%|████▉     | 526757/1057452 [00:05<00:05, 96506.20it/s] "
     ]
    },
    {
     "name": "stderr",
     "output_type": "stream",
     "text": [
      "\rMorphologyExtractor transform:  51%|█████     | 536535/1057452 [00:05<00:05, 91582.07it/s]"
     ]
    },
    {
     "name": "stderr",
     "output_type": "stream",
     "text": [
      "\rMorphologyExtractor transform:  52%|█████▏    | 547127/1057452 [00:05<00:05, 95453.90it/s]"
     ]
    },
    {
     "name": "stderr",
     "output_type": "stream",
     "text": [
      "\rMorphologyExtractor transform:  53%|█████▎    | 557099/1057452 [00:05<00:05, 96693.53it/s]"
     ]
    },
    {
     "name": "stderr",
     "output_type": "stream",
     "text": [
      "\rMorphologyExtractor transform:  54%|█████▎    | 566872/1057452 [00:05<00:05, 94182.31it/s]"
     ]
    },
    {
     "name": "stderr",
     "output_type": "stream",
     "text": [
      "\rMorphologyExtractor transform:  55%|█████▍    | 577235/1057452 [00:05<00:04, 96796.72it/s]"
     ]
    },
    {
     "name": "stderr",
     "output_type": "stream",
     "text": [
      "\rMorphologyExtractor transform:  56%|█████▌    | 588999/1057452 [00:05<00:04, 102226.72it/s]"
     ]
    },
    {
     "name": "stderr",
     "output_type": "stream",
     "text": [
      "\rMorphologyExtractor transform:  57%|█████▋    | 600887/1057452 [00:05<00:04, 106694.90it/s]"
     ]
    },
    {
     "name": "stderr",
     "output_type": "stream",
     "text": [
      "\rMorphologyExtractor transform:  58%|█████▊    | 612914/1057452 [00:05<00:04, 110433.76it/s]"
     ]
    },
    {
     "name": "stderr",
     "output_type": "stream",
     "text": [
      "\rMorphologyExtractor transform:  59%|█████▉    | 624569/1057452 [00:06<00:03, 112199.56it/s]"
     ]
    },
    {
     "name": "stderr",
     "output_type": "stream",
     "text": [
      "\rMorphologyExtractor transform:  60%|██████    | 637341/1057452 [00:06<00:03, 116443.61it/s]"
     ]
    },
    {
     "name": "stderr",
     "output_type": "stream",
     "text": [
      "\rMorphologyExtractor transform:  61%|██████▏   | 649141/1057452 [00:06<00:03, 116905.90it/s]"
     ]
    },
    {
     "name": "stderr",
     "output_type": "stream",
     "text": [
      "\rMorphologyExtractor transform:  63%|██████▎   | 661134/1057452 [00:06<00:03, 117794.96it/s]"
     ]
    },
    {
     "name": "stderr",
     "output_type": "stream",
     "text": [
      "\rMorphologyExtractor transform:  64%|██████▎   | 673387/1057452 [00:06<00:03, 119175.88it/s]"
     ]
    },
    {
     "name": "stderr",
     "output_type": "stream",
     "text": [
      "\rMorphologyExtractor transform:  65%|██████▍   | 685687/1057452 [00:06<00:03, 120282.30it/s]"
     ]
    },
    {
     "name": "stderr",
     "output_type": "stream",
     "text": [
      "\rMorphologyExtractor transform:  66%|██████▌   | 698460/1057452 [00:06<00:02, 122403.77it/s]"
     ]
    },
    {
     "name": "stderr",
     "output_type": "stream",
     "text": [
      "\rMorphologyExtractor transform:  67%|██████▋   | 710798/1057452 [00:06<00:02, 122676.37it/s]"
     ]
    },
    {
     "name": "stderr",
     "output_type": "stream",
     "text": [
      "\rMorphologyExtractor transform:  68%|██████▊   | 723089/1057452 [00:06<00:02, 121886.47it/s]"
     ]
    },
    {
     "name": "stderr",
     "output_type": "stream",
     "text": [
      "\rMorphologyExtractor transform:  70%|██████▉   | 735441/1057452 [00:06<00:02, 122333.09it/s]"
     ]
    },
    {
     "name": "stderr",
     "output_type": "stream",
     "text": [
      "\rMorphologyExtractor transform:  71%|███████   | 747687/1057452 [00:07<00:02, 120387.23it/s]"
     ]
    },
    {
     "name": "stderr",
     "output_type": "stream",
     "text": [
      "\rMorphologyExtractor transform:  72%|███████▏  | 759742/1057452 [00:07<00:02, 120201.47it/s]"
     ]
    },
    {
     "name": "stderr",
     "output_type": "stream",
     "text": [
      "\rMorphologyExtractor transform:  73%|███████▎  | 771774/1057452 [00:07<00:02, 116830.82it/s]"
     ]
    },
    {
     "name": "stderr",
     "output_type": "stream",
     "text": [
      "\rMorphologyExtractor transform:  74%|███████▍  | 783486/1057452 [00:07<00:02, 112718.49it/s]"
     ]
    },
    {
     "name": "stderr",
     "output_type": "stream",
     "text": [
      "\rMorphologyExtractor transform:  75%|███████▌  | 794927/1057452 [00:07<00:02, 113214.69it/s]"
     ]
    },
    {
     "name": "stderr",
     "output_type": "stream",
     "text": [
      "\rMorphologyExtractor transform:  76%|███████▌  | 806285/1057452 [00:07<00:02, 111170.33it/s]"
     ]
    },
    {
     "name": "stderr",
     "output_type": "stream",
     "text": [
      "\rMorphologyExtractor transform:  77%|███████▋  | 817436/1057452 [00:07<00:02, 109211.96it/s]"
     ]
    },
    {
     "name": "stderr",
     "output_type": "stream",
     "text": [
      "\rMorphologyExtractor transform:  78%|███████▊  | 828826/1057452 [00:07<00:02, 110576.99it/s]"
     ]
    },
    {
     "name": "stderr",
     "output_type": "stream",
     "text": [
      "\rMorphologyExtractor transform:  79%|███████▉  | 839910/1057452 [00:07<00:02, 100005.86it/s]"
     ]
    },
    {
     "name": "stderr",
     "output_type": "stream",
     "text": [
      "\rMorphologyExtractor transform:  80%|████████  | 850122/1057452 [00:08<00:02, 91787.92it/s] "
     ]
    },
    {
     "name": "stderr",
     "output_type": "stream",
     "text": [
      "\rMorphologyExtractor transform:  81%|████████▏ | 859581/1057452 [00:08<00:02, 91876.92it/s]"
     ]
    },
    {
     "name": "stderr",
     "output_type": "stream",
     "text": [
      "\rMorphologyExtractor transform:  82%|████████▏ | 870472/1057452 [00:08<00:01, 96394.48it/s]"
     ]
    },
    {
     "name": "stderr",
     "output_type": "stream",
     "text": [
      "\rMorphologyExtractor transform:  83%|████████▎ | 882277/1057452 [00:08<00:01, 101986.15it/s]"
     ]
    },
    {
     "name": "stderr",
     "output_type": "stream",
     "text": [
      "\rMorphologyExtractor transform:  84%|████████▍ | 892701/1057452 [00:08<00:01, 99227.74it/s] "
     ]
    },
    {
     "name": "stderr",
     "output_type": "stream",
     "text": [
      "\rMorphologyExtractor transform:  85%|████████▌ | 903352/1057452 [00:08<00:01, 101299.29it/s]"
     ]
    },
    {
     "name": "stderr",
     "output_type": "stream",
     "text": [
      "\rMorphologyExtractor transform:  87%|████████▋ | 915552/1057452 [00:08<00:01, 106713.86it/s]"
     ]
    },
    {
     "name": "stderr",
     "output_type": "stream",
     "text": [
      "\rMorphologyExtractor transform:  88%|████████▊ | 928302/1057452 [00:08<00:01, 112200.58it/s]"
     ]
    },
    {
     "name": "stderr",
     "output_type": "stream",
     "text": [
      "\rMorphologyExtractor transform:  89%|████████▉ | 939854/1057452 [00:08<00:01, 113168.54it/s]"
     ]
    },
    {
     "name": "stderr",
     "output_type": "stream",
     "text": [
      "\rMorphologyExtractor transform:  90%|████████▉ | 951309/1057452 [00:09<00:00, 113417.50it/s]"
     ]
    },
    {
     "name": "stderr",
     "output_type": "stream",
     "text": [
      "\rMorphologyExtractor transform:  91%|█████████ | 962918/1057452 [00:09<00:00, 114205.23it/s]"
     ]
    },
    {
     "name": "stderr",
     "output_type": "stream",
     "text": [
      "\rMorphologyExtractor transform:  92%|█████████▏| 974890/1057452 [00:09<00:00, 115803.20it/s]"
     ]
    },
    {
     "name": "stderr",
     "output_type": "stream",
     "text": [
      "\rMorphologyExtractor transform:  93%|█████████▎| 986524/1057452 [00:09<00:00, 115084.84it/s]"
     ]
    },
    {
     "name": "stderr",
     "output_type": "stream",
     "text": [
      "\rMorphologyExtractor transform:  94%|█████████▍| 998071/1057452 [00:09<00:00, 111681.88it/s]"
     ]
    },
    {
     "name": "stderr",
     "output_type": "stream",
     "text": [
      "\rMorphologyExtractor transform:  95%|█████████▌| 1009840/1057452 [00:09<00:00, 113392.28it/s]"
     ]
    },
    {
     "name": "stderr",
     "output_type": "stream",
     "text": [
      "\rMorphologyExtractor transform:  97%|█████████▋| 1021220/1057452 [00:09<00:00, 113015.45it/s]"
     ]
    },
    {
     "name": "stderr",
     "output_type": "stream",
     "text": [
      "\rMorphologyExtractor transform:  98%|█████████▊| 1032551/1057452 [00:09<00:00, 108322.32it/s]"
     ]
    },
    {
     "name": "stderr",
     "output_type": "stream",
     "text": [
      "\rMorphologyExtractor transform:  99%|█████████▊| 1043445/1057452 [00:09<00:00, 108206.28it/s]"
     ]
    },
    {
     "name": "stderr",
     "output_type": "stream",
     "text": [
      "\rMorphologyExtractor transform: 100%|█████████▉| 1054798/1057452 [00:09<00:00, 109749.87it/s]"
     ]
    },
    {
     "name": "stderr",
     "output_type": "stream",
     "text": [
      "\rMorphologyExtractor transform: 100%|██████████| 1057452/1057452 [00:09<00:00, 105821.07it/s]"
     ]
    },
    {
     "name": "stderr",
     "output_type": "stream",
     "text": [
      "\n"
     ]
    },
    {
     "name": "stderr",
     "output_type": "stream",
     "text": [
      "\rRomeTransformer transform:   0%|          | 0/1057452 [00:00<?, ?it/s]"
     ]
    },
    {
     "name": "stderr",
     "output_type": "stream",
     "text": [
      "\rRomeTransformer transform:   3%|▎         | 32274/1057452 [00:00<00:03, 322739.54it/s]"
     ]
    },
    {
     "name": "stderr",
     "output_type": "stream",
     "text": [
      "\rRomeTransformer transform:   8%|▊         | 88701/1057452 [00:00<00:02, 370288.55it/s]"
     ]
    },
    {
     "name": "stderr",
     "output_type": "stream",
     "text": [
      "\rRomeTransformer transform:  14%|█▍        | 152138/1057452 [00:00<00:02, 423130.44it/s]"
     ]
    },
    {
     "name": "stderr",
     "output_type": "stream",
     "text": [
      "\rRomeTransformer transform:  21%|██        | 218087/1057452 [00:00<00:01, 474092.64it/s]"
     ]
    },
    {
     "name": "stderr",
     "output_type": "stream",
     "text": [
      "\rRomeTransformer transform:  27%|██▋       | 286284/1057452 [00:00<00:01, 521808.59it/s]"
     ]
    },
    {
     "name": "stderr",
     "output_type": "stream",
     "text": [
      "\rRomeTransformer transform:  34%|███▎      | 355680/1057452 [00:00<00:01, 563763.52it/s]"
     ]
    },
    {
     "name": "stderr",
     "output_type": "stream",
     "text": [
      "\rRomeTransformer transform:  40%|████      | 423080/1057452 [00:00<00:01, 592849.64it/s]"
     ]
    },
    {
     "name": "stderr",
     "output_type": "stream",
     "text": [
      "\rRomeTransformer transform:  46%|████▌     | 484136/1057452 [00:00<00:00, 598050.31it/s]"
     ]
    },
    {
     "name": "stderr",
     "output_type": "stream",
     "text": [
      "\rRomeTransformer transform:  52%|█████▏    | 548865/1057452 [00:00<00:00, 612006.66it/s]"
     ]
    },
    {
     "name": "stderr",
     "output_type": "stream",
     "text": [
      "\rRomeTransformer transform:  59%|█████▉    | 621801/1057452 [00:01<00:00, 643044.46it/s]"
     ]
    },
    {
     "name": "stderr",
     "output_type": "stream",
     "text": [
      "\rRomeTransformer transform:  66%|██████▌   | 696219/1057452 [00:01<00:00, 670374.11it/s]"
     ]
    },
    {
     "name": "stderr",
     "output_type": "stream",
     "text": [
      "\rRomeTransformer transform:  73%|███████▎  | 770820/1057452 [00:01<00:00, 691402.32it/s]"
     ]
    },
    {
     "name": "stderr",
     "output_type": "stream",
     "text": [
      "\rRomeTransformer transform:  80%|███████▉  | 845166/1057452 [00:01<00:00, 706205.29it/s]"
     ]
    },
    {
     "name": "stderr",
     "output_type": "stream",
     "text": [
      "\rRomeTransformer transform:  87%|████████▋ | 921455/1057452 [00:01<00:00, 722302.82it/s]"
     ]
    },
    {
     "name": "stderr",
     "output_type": "stream",
     "text": [
      "\rRomeTransformer transform:  94%|█████████▍| 998739/1057452 [00:01<00:00, 736753.79it/s]"
     ]
    },
    {
     "name": "stderr",
     "output_type": "stream",
     "text": [
      "\rRomeTransformer transform: 100%|██████████| 1057452/1057452 [00:01<00:00, 663184.70it/s]"
     ]
    },
    {
     "name": "stderr",
     "output_type": "stream",
     "text": [
      "\n"
     ]
    },
    {
     "name": "stderr",
     "output_type": "stream",
     "text": [
      "\rDictNBHDTransformer pre transform:   0%|          | 0/7002961 [00:00<?, ?it/s]"
     ]
    },
    {
     "name": "stderr",
     "output_type": "stream",
     "text": [
      "\rDictNBHDTransformer pre transform:   0%|          | 25092/7002961 [00:00<00:27, 250917.25it/s]"
     ]
    },
    {
     "name": "stderr",
     "output_type": "stream",
     "text": [
      "\rDictNBHDTransformer pre transform:   1%|          | 45037/7002961 [00:00<00:29, 232772.11it/s]"
     ]
    },
    {
     "name": "stderr",
     "output_type": "stream",
     "text": [
      "\rDictNBHDTransformer pre transform:   1%|          | 66839/7002961 [00:00<00:30, 228137.34it/s]"
     ]
    },
    {
     "name": "stderr",
     "output_type": "stream",
     "text": [
      "\rDictNBHDTransformer pre transform:   1%|▏         | 93888/7002961 [00:00<00:28, 239378.76it/s]"
     ]
    },
    {
     "name": "stderr",
     "output_type": "stream",
     "text": [
      "\rDictNBHDTransformer pre transform:   2%|▏         | 123002/7002961 [00:00<00:27, 252863.74it/s]"
     ]
    },
    {
     "name": "stderr",
     "output_type": "stream",
     "text": [
      "\rDictNBHDTransformer pre transform:   2%|▏         | 150696/7002961 [00:00<00:26, 259632.93it/s]"
     ]
    },
    {
     "name": "stderr",
     "output_type": "stream",
     "text": [
      "\rDictNBHDTransformer pre transform:   3%|▎         | 179121/7002961 [00:00<00:25, 266542.74it/s]"
     ]
    },
    {
     "name": "stderr",
     "output_type": "stream",
     "text": [
      "\rDictNBHDTransformer pre transform:   3%|▎         | 209617/7002961 [00:00<00:24, 277006.36it/s]"
     ]
    },
    {
     "name": "stderr",
     "output_type": "stream",
     "text": [
      "\rDictNBHDTransformer pre transform:   3%|▎         | 241563/7002961 [00:00<00:23, 288503.90it/s]"
     ]
    },
    {
     "name": "stderr",
     "output_type": "stream",
     "text": [
      "\rDictNBHDTransformer pre transform:   4%|▍         | 271712/7002961 [00:01<00:23, 292280.61it/s]"
     ]
    },
    {
     "name": "stderr",
     "output_type": "stream",
     "text": [
      "\rDictNBHDTransformer pre transform:   4%|▍         | 302774/7002961 [00:01<00:22, 297550.21it/s]"
     ]
    },
    {
     "name": "stderr",
     "output_type": "stream",
     "text": [
      "\rDictNBHDTransformer pre transform:   5%|▍         | 336228/7002961 [00:01<00:21, 307758.67it/s]"
     ]
    },
    {
     "name": "stderr",
     "output_type": "stream",
     "text": [
      "\rDictNBHDTransformer pre transform:   5%|▌         | 366882/7002961 [00:01<00:22, 298951.87it/s]"
     ]
    },
    {
     "name": "stderr",
     "output_type": "stream",
     "text": [
      "\rDictNBHDTransformer pre transform:   6%|▌         | 401508/7002961 [00:01<00:21, 311728.24it/s]"
     ]
    },
    {
     "name": "stderr",
     "output_type": "stream",
     "text": [
      "\rDictNBHDTransformer pre transform:   6%|▌         | 435067/7002961 [00:01<00:20, 318522.57it/s]"
     ]
    },
    {
     "name": "stderr",
     "output_type": "stream",
     "text": [
      "\rDictNBHDTransformer pre transform:   7%|▋         | 468774/7002961 [00:01<00:20, 323866.97it/s]"
     ]
    },
    {
     "name": "stderr",
     "output_type": "stream",
     "text": [
      "\rDictNBHDTransformer pre transform:   7%|▋         | 503072/7002961 [00:01<00:19, 329371.46it/s]"
     ]
    },
    {
     "name": "stderr",
     "output_type": "stream",
     "text": [
      "\rDictNBHDTransformer pre transform:   8%|▊         | 539292/7002961 [00:01<00:19, 338574.85it/s]"
     ]
    },
    {
     "name": "stderr",
     "output_type": "stream",
     "text": [
      "\rDictNBHDTransformer pre transform:   8%|▊         | 575171/7002961 [00:01<00:18, 344394.30it/s]"
     ]
    },
    {
     "name": "stderr",
     "output_type": "stream",
     "text": [
      "\rDictNBHDTransformer pre transform:   9%|▊         | 610532/7002961 [00:02<00:18, 347107.06it/s]"
     ]
    },
    {
     "name": "stderr",
     "output_type": "stream",
     "text": [
      "\rDictNBHDTransformer pre transform:   9%|▉         | 648359/7002961 [00:02<00:17, 355898.93it/s]"
     ]
    },
    {
     "name": "stderr",
     "output_type": "stream",
     "text": [
      "\rDictNBHDTransformer pre transform:  10%|▉         | 686145/7002961 [00:02<00:17, 362213.56it/s]"
     ]
    },
    {
     "name": "stderr",
     "output_type": "stream",
     "text": [
      "\rDictNBHDTransformer pre transform:  10%|█         | 722475/7002961 [00:02<00:19, 327545.10it/s]"
     ]
    },
    {
     "name": "stderr",
     "output_type": "stream",
     "text": [
      "\rDictNBHDTransformer pre transform:  11%|█         | 759006/7002961 [00:02<00:18, 338026.56it/s]"
     ]
    },
    {
     "name": "stderr",
     "output_type": "stream",
     "text": [
      "\rDictNBHDTransformer pre transform:  11%|█▏        | 795683/7002961 [00:02<00:17, 346163.15it/s]"
     ]
    },
    {
     "name": "stderr",
     "output_type": "stream",
     "text": [
      "\rDictNBHDTransformer pre transform:  12%|█▏        | 832301/7002961 [00:02<00:17, 351931.78it/s]"
     ]
    },
    {
     "name": "stderr",
     "output_type": "stream",
     "text": [
      "\rDictNBHDTransformer pre transform:  12%|█▏        | 869680/7002961 [00:02<00:17, 358210.73it/s]"
     ]
    },
    {
     "name": "stderr",
     "output_type": "stream",
     "text": [
      "\rDictNBHDTransformer pre transform:  13%|█▎        | 908106/7002961 [00:02<00:16, 365643.84it/s]"
     ]
    },
    {
     "name": "stderr",
     "output_type": "stream",
     "text": [
      "\rDictNBHDTransformer pre transform:  14%|█▎        | 946184/7002961 [00:02<00:16, 370048.17it/s]"
     ]
    },
    {
     "name": "stderr",
     "output_type": "stream",
     "text": [
      "\rDictNBHDTransformer pre transform:  14%|█▍        | 984614/7002961 [00:03<00:16, 374210.28it/s]"
     ]
    },
    {
     "name": "stderr",
     "output_type": "stream",
     "text": [
      "\rDictNBHDTransformer pre transform:  15%|█▍        | 1023935/7002961 [00:03<00:15, 379710.21it/s]"
     ]
    },
    {
     "name": "stderr",
     "output_type": "stream",
     "text": [
      "\rDictNBHDTransformer pre transform:  15%|█▌        | 1064002/7002961 [00:03<00:15, 385759.81it/s]"
     ]
    },
    {
     "name": "stderr",
     "output_type": "stream",
     "text": [
      "\rDictNBHDTransformer pre transform:  16%|█▌        | 1103132/7002961 [00:03<00:15, 387404.07it/s]"
     ]
    },
    {
     "name": "stderr",
     "output_type": "stream",
     "text": [
      "\rDictNBHDTransformer pre transform:  16%|█▋        | 1141945/7002961 [00:03<00:15, 384934.43it/s]"
     ]
    },
    {
     "name": "stderr",
     "output_type": "stream",
     "text": [
      "\rDictNBHDTransformer pre transform:  17%|█▋        | 1180493/7002961 [00:03<00:15, 382915.18it/s]"
     ]
    },
    {
     "name": "stderr",
     "output_type": "stream",
     "text": [
      "\rDictNBHDTransformer pre transform:  17%|█▋        | 1218825/7002961 [00:03<00:15, 382882.85it/s]"
     ]
    },
    {
     "name": "stderr",
     "output_type": "stream",
     "text": [
      "\rDictNBHDTransformer pre transform:  18%|█▊        | 1257813/7002961 [00:03<00:14, 384954.50it/s]"
     ]
    },
    {
     "name": "stderr",
     "output_type": "stream",
     "text": [
      "\rDictNBHDTransformer pre transform:  19%|█▊        | 1296331/7002961 [00:03<00:15, 375946.61it/s]"
     ]
    },
    {
     "name": "stderr",
     "output_type": "stream",
     "text": [
      "\rDictNBHDTransformer pre transform:  19%|█▉        | 1334120/7002961 [00:03<00:15, 376525.22it/s]"
     ]
    },
    {
     "name": "stderr",
     "output_type": "stream",
     "text": [
      "\rDictNBHDTransformer pre transform:  20%|█▉        | 1371817/7002961 [00:04<00:15, 373702.70it/s]"
     ]
    },
    {
     "name": "stderr",
     "output_type": "stream",
     "text": [
      "\rDictNBHDTransformer pre transform:  20%|██        | 1409223/7002961 [00:04<00:19, 281396.59it/s]"
     ]
    },
    {
     "name": "stderr",
     "output_type": "stream",
     "text": [
      "\rDictNBHDTransformer pre transform:  21%|██        | 1446121/7002961 [00:04<00:18, 302966.58it/s]"
     ]
    },
    {
     "name": "stderr",
     "output_type": "stream",
     "text": [
      "\rDictNBHDTransformer pre transform:  21%|██        | 1483231/7002961 [00:04<00:17, 320626.43it/s]"
     ]
    },
    {
     "name": "stderr",
     "output_type": "stream",
     "text": [
      "\rDictNBHDTransformer pre transform:  22%|██▏       | 1521216/7002961 [00:04<00:16, 336355.09it/s]"
     ]
    },
    {
     "name": "stderr",
     "output_type": "stream",
     "text": [
      "\rDictNBHDTransformer pre transform:  22%|██▏       | 1559005/7002961 [00:04<00:15, 347823.13it/s]"
     ]
    },
    {
     "name": "stderr",
     "output_type": "stream",
     "text": [
      "\rDictNBHDTransformer pre transform:  23%|██▎       | 1597736/7002961 [00:04<00:15, 358795.06it/s]"
     ]
    },
    {
     "name": "stderr",
     "output_type": "stream",
     "text": [
      "\rDictNBHDTransformer pre transform:  23%|██▎       | 1634652/7002961 [00:04<00:14, 359854.49it/s]"
     ]
    },
    {
     "name": "stderr",
     "output_type": "stream",
     "text": [
      "\rDictNBHDTransformer pre transform:  24%|██▍       | 1672946/7002961 [00:04<00:14, 366481.35it/s]"
     ]
    },
    {
     "name": "stderr",
     "output_type": "stream",
     "text": [
      "\rDictNBHDTransformer pre transform:  24%|██▍       | 1714090/7002961 [00:05<00:13, 378900.42it/s]"
     ]
    },
    {
     "name": "stderr",
     "output_type": "stream",
     "text": [
      "\rDictNBHDTransformer pre transform:  25%|██▌       | 1752820/7002961 [00:05<00:13, 381373.83it/s]"
     ]
    },
    {
     "name": "stderr",
     "output_type": "stream",
     "text": [
      "\rDictNBHDTransformer pre transform:  26%|██▌       | 1792541/7002961 [00:05<00:13, 385990.33it/s]"
     ]
    },
    {
     "name": "stderr",
     "output_type": "stream",
     "text": [
      "\rDictNBHDTransformer pre transform:  26%|██▌       | 1831393/7002961 [00:05<00:13, 385057.89it/s]"
     ]
    },
    {
     "name": "stderr",
     "output_type": "stream",
     "text": [
      "\rDictNBHDTransformer pre transform:  27%|██▋       | 1870077/7002961 [00:05<00:13, 380944.23it/s]"
     ]
    },
    {
     "name": "stderr",
     "output_type": "stream",
     "text": [
      "\rDictNBHDTransformer pre transform:  27%|██▋       | 1908502/7002961 [00:05<00:13, 381928.72it/s]"
     ]
    },
    {
     "name": "stderr",
     "output_type": "stream",
     "text": [
      "\rDictNBHDTransformer pre transform:  28%|██▊       | 1946790/7002961 [00:05<00:13, 369572.85it/s]"
     ]
    },
    {
     "name": "stderr",
     "output_type": "stream",
     "text": [
      "\rDictNBHDTransformer pre transform:  28%|██▊       | 1983901/7002961 [00:05<00:13, 362747.65it/s]"
     ]
    },
    {
     "name": "stderr",
     "output_type": "stream",
     "text": [
      "\rDictNBHDTransformer pre transform:  29%|██▉       | 2022937/7002961 [00:05<00:13, 370612.15it/s]"
     ]
    },
    {
     "name": "stderr",
     "output_type": "stream",
     "text": [
      "\rDictNBHDTransformer pre transform:  29%|██▉       | 2061128/7002961 [00:05<00:13, 373923.20it/s]"
     ]
    },
    {
     "name": "stderr",
     "output_type": "stream",
     "text": [
      "\rDictNBHDTransformer pre transform:  30%|███       | 2102118/7002961 [00:06<00:12, 384034.01it/s]"
     ]
    },
    {
     "name": "stderr",
     "output_type": "stream",
     "text": [
      "\rDictNBHDTransformer pre transform:  31%|███       | 2140662/7002961 [00:06<00:13, 372659.19it/s]"
     ]
    },
    {
     "name": "stderr",
     "output_type": "stream",
     "text": [
      "\rDictNBHDTransformer pre transform:  31%|███       | 2178100/7002961 [00:06<00:14, 336125.58it/s]"
     ]
    },
    {
     "name": "stderr",
     "output_type": "stream",
     "text": [
      "\rDictNBHDTransformer pre transform:  32%|███▏      | 2212513/7002961 [00:06<00:14, 324892.45it/s]"
     ]
    },
    {
     "name": "stderr",
     "output_type": "stream",
     "text": [
      "\rDictNBHDTransformer pre transform:  32%|███▏      | 2250774/7002961 [00:06<00:13, 340291.84it/s]"
     ]
    },
    {
     "name": "stderr",
     "output_type": "stream",
     "text": [
      "\rDictNBHDTransformer pre transform:  33%|███▎      | 2287583/7002961 [00:06<00:13, 348179.13it/s]"
     ]
    },
    {
     "name": "stderr",
     "output_type": "stream",
     "text": [
      "\rDictNBHDTransformer pre transform:  33%|███▎      | 2326674/7002961 [00:06<00:12, 359977.45it/s]"
     ]
    },
    {
     "name": "stderr",
     "output_type": "stream",
     "text": [
      "\rDictNBHDTransformer pre transform:  34%|███▍      | 2366586/7002961 [00:06<00:12, 370887.51it/s]"
     ]
    },
    {
     "name": "stderr",
     "output_type": "stream",
     "text": [
      "\rDictNBHDTransformer pre transform:  34%|███▍      | 2408785/7002961 [00:06<00:11, 384867.53it/s]"
     ]
    },
    {
     "name": "stderr",
     "output_type": "stream",
     "text": [
      "\rDictNBHDTransformer pre transform:  35%|███▌      | 2451755/7002961 [00:07<00:11, 397295.73it/s]"
     ]
    },
    {
     "name": "stderr",
     "output_type": "stream",
     "text": [
      "\rDictNBHDTransformer pre transform:  36%|███▌      | 2494949/7002961 [00:07<00:11, 407087.64it/s]"
     ]
    },
    {
     "name": "stderr",
     "output_type": "stream",
     "text": [
      "\rDictNBHDTransformer pre transform:  36%|███▌      | 2537958/7002961 [00:07<00:10, 413724.48it/s]"
     ]
    },
    {
     "name": "stderr",
     "output_type": "stream",
     "text": [
      "\rDictNBHDTransformer pre transform:  37%|███▋      | 2580203/7002961 [00:07<00:10, 416302.70it/s]"
     ]
    },
    {
     "name": "stderr",
     "output_type": "stream",
     "text": [
      "\rDictNBHDTransformer pre transform:  37%|███▋      | 2622155/7002961 [00:07<00:10, 417261.63it/s]"
     ]
    },
    {
     "name": "stderr",
     "output_type": "stream",
     "text": [
      "\rDictNBHDTransformer pre transform:  38%|███▊      | 2664012/7002961 [00:07<00:10, 412816.29it/s]"
     ]
    },
    {
     "name": "stderr",
     "output_type": "stream",
     "text": [
      "\rDictNBHDTransformer pre transform:  39%|███▊      | 2705396/7002961 [00:07<00:10, 412940.77it/s]"
     ]
    },
    {
     "name": "stderr",
     "output_type": "stream",
     "text": [
      "\rDictNBHDTransformer pre transform:  39%|███▉      | 2746762/7002961 [00:07<00:10, 407376.09it/s]"
     ]
    },
    {
     "name": "stderr",
     "output_type": "stream",
     "text": [
      "\rDictNBHDTransformer pre transform:  40%|███▉      | 2789817/7002961 [00:07<00:10, 414039.07it/s]"
     ]
    },
    {
     "name": "stderr",
     "output_type": "stream",
     "text": [
      "\rDictNBHDTransformer pre transform:  40%|████      | 2831295/7002961 [00:08<00:18, 223809.03it/s]"
     ]
    },
    {
     "name": "stderr",
     "output_type": "stream",
     "text": [
      "\rDictNBHDTransformer pre transform:  41%|████      | 2870967/7002961 [00:08<00:16, 257474.77it/s]"
     ]
    },
    {
     "name": "stderr",
     "output_type": "stream",
     "text": [
      "\rDictNBHDTransformer pre transform:  41%|████▏     | 2905461/7002961 [00:08<00:15, 262025.29it/s]"
     ]
    },
    {
     "name": "stderr",
     "output_type": "stream",
     "text": [
      "\rDictNBHDTransformer pre transform:  42%|████▏     | 2942992/7002961 [00:08<00:14, 288113.58it/s]"
     ]
    },
    {
     "name": "stderr",
     "output_type": "stream",
     "text": [
      "\rDictNBHDTransformer pre transform:  43%|████▎     | 2982753/7002961 [00:08<00:12, 314056.28it/s]"
     ]
    },
    {
     "name": "stderr",
     "output_type": "stream",
     "text": [
      "\rDictNBHDTransformer pre transform:  43%|████▎     | 3018411/7002961 [00:08<00:12, 320874.58it/s]"
     ]
    },
    {
     "name": "stderr",
     "output_type": "stream",
     "text": [
      "\rDictNBHDTransformer pre transform:  44%|████▎     | 3057688/7002961 [00:08<00:11, 339515.69it/s]"
     ]
    },
    {
     "name": "stderr",
     "output_type": "stream",
     "text": [
      "\rDictNBHDTransformer pre transform:  44%|████▍     | 3097778/7002961 [00:08<00:10, 355861.14it/s]"
     ]
    },
    {
     "name": "stderr",
     "output_type": "stream",
     "text": [
      "\rDictNBHDTransformer pre transform:  45%|████▍     | 3138847/7002961 [00:09<00:10, 370707.39it/s]"
     ]
    },
    {
     "name": "stderr",
     "output_type": "stream",
     "text": [
      "\rDictNBHDTransformer pre transform:  45%|████▌     | 3180656/7002961 [00:09<00:09, 383751.62it/s]"
     ]
    },
    {
     "name": "stderr",
     "output_type": "stream",
     "text": [
      "\rDictNBHDTransformer pre transform:  46%|████▌     | 3220185/7002961 [00:09<00:11, 343083.58it/s]"
     ]
    },
    {
     "name": "stderr",
     "output_type": "stream",
     "text": [
      "\rDictNBHDTransformer pre transform:  47%|████▋     | 3260424/7002961 [00:09<00:10, 358941.35it/s]"
     ]
    },
    {
     "name": "stderr",
     "output_type": "stream",
     "text": [
      "\rDictNBHDTransformer pre transform:  47%|████▋     | 3297640/7002961 [00:09<00:11, 317138.64it/s]"
     ]
    },
    {
     "name": "stderr",
     "output_type": "stream",
     "text": [
      "\rDictNBHDTransformer pre transform:  48%|████▊     | 3331173/7002961 [00:09<00:11, 308531.82it/s]"
     ]
    },
    {
     "name": "stderr",
     "output_type": "stream",
     "text": [
      "\rDictNBHDTransformer pre transform:  48%|████▊     | 3363351/7002961 [00:09<00:12, 298005.22it/s]"
     ]
    },
    {
     "name": "stderr",
     "output_type": "stream",
     "text": [
      "\rDictNBHDTransformer pre transform:  48%|████▊     | 3396277/7002961 [00:09<00:12, 294984.07it/s]"
     ]
    },
    {
     "name": "stderr",
     "output_type": "stream",
     "text": [
      "\rDictNBHDTransformer pre transform:  49%|████▉     | 3426486/7002961 [00:10<00:14, 249274.99it/s]"
     ]
    },
    {
     "name": "stderr",
     "output_type": "stream",
     "text": [
      "\rDictNBHDTransformer pre transform:  49%|████▉     | 3463630/7002961 [00:10<00:12, 276562.58it/s]"
     ]
    },
    {
     "name": "stderr",
     "output_type": "stream",
     "text": [
      "\rDictNBHDTransformer pre transform:  50%|████▉     | 3493420/7002961 [00:10<00:15, 230401.76it/s]"
     ]
    },
    {
     "name": "stderr",
     "output_type": "stream",
     "text": [
      "\rDictNBHDTransformer pre transform:  50%|█████     | 3519248/7002961 [00:10<00:16, 215129.86it/s]"
     ]
    },
    {
     "name": "stderr",
     "output_type": "stream",
     "text": [
      "\rDictNBHDTransformer pre transform:  51%|█████     | 3543410/7002961 [00:10<00:15, 222445.01it/s]"
     ]
    },
    {
     "name": "stderr",
     "output_type": "stream",
     "text": [
      "\rDictNBHDTransformer pre transform:  51%|█████     | 3577413/7002961 [00:10<00:13, 248192.02it/s]"
     ]
    },
    {
     "name": "stderr",
     "output_type": "stream",
     "text": [
      "\rDictNBHDTransformer pre transform:  51%|█████▏    | 3604286/7002961 [00:10<00:14, 242013.04it/s]"
     ]
    },
    {
     "name": "stderr",
     "output_type": "stream",
     "text": [
      "\rDictNBHDTransformer pre transform:  52%|█████▏    | 3638087/7002961 [00:10<00:12, 264552.22it/s]"
     ]
    },
    {
     "name": "stderr",
     "output_type": "stream",
     "text": [
      "\rDictNBHDTransformer pre transform:  53%|█████▎    | 3679657/7002961 [00:11<00:11, 296942.01it/s]"
     ]
    },
    {
     "name": "stderr",
     "output_type": "stream",
     "text": [
      "\rDictNBHDTransformer pre transform:  53%|█████▎    | 3720418/7002961 [00:11<00:10, 323272.94it/s]"
     ]
    },
    {
     "name": "stderr",
     "output_type": "stream",
     "text": [
      "\rDictNBHDTransformer pre transform:  54%|█████▎    | 3763285/7002961 [00:11<00:09, 348996.31it/s]"
     ]
    },
    {
     "name": "stderr",
     "output_type": "stream",
     "text": [
      "\rDictNBHDTransformer pre transform:  54%|█████▍    | 3802151/7002961 [00:11<00:08, 360017.68it/s]"
     ]
    },
    {
     "name": "stderr",
     "output_type": "stream",
     "text": [
      "\rDictNBHDTransformer pre transform:  55%|█████▍    | 3844218/7002961 [00:11<00:08, 376293.78it/s]"
     ]
    },
    {
     "name": "stderr",
     "output_type": "stream",
     "text": [
      "\rDictNBHDTransformer pre transform:  55%|█████▌    | 3884459/7002961 [00:11<00:08, 383279.73it/s]"
     ]
    },
    {
     "name": "stderr",
     "output_type": "stream",
     "text": [
      "\rDictNBHDTransformer pre transform:  56%|█████▌    | 3926781/7002961 [00:11<00:07, 394444.94it/s]"
     ]
    },
    {
     "name": "stderr",
     "output_type": "stream",
     "text": [
      "\rDictNBHDTransformer pre transform:  57%|█████▋    | 3969442/7002961 [00:11<00:07, 403571.05it/s]"
     ]
    },
    {
     "name": "stderr",
     "output_type": "stream",
     "text": [
      "\rDictNBHDTransformer pre transform:  57%|█████▋    | 4014044/7002961 [00:11<00:07, 415426.42it/s]"
     ]
    },
    {
     "name": "stderr",
     "output_type": "stream",
     "text": [
      "\rDictNBHDTransformer pre transform:  58%|█████▊    | 4059180/7002961 [00:11<00:06, 425586.56it/s]"
     ]
    },
    {
     "name": "stderr",
     "output_type": "stream",
     "text": [
      "\rDictNBHDTransformer pre transform:  59%|█████▊    | 4102152/7002961 [00:12<00:07, 401608.64it/s]"
     ]
    },
    {
     "name": "stderr",
     "output_type": "stream",
     "text": [
      "\rDictNBHDTransformer pre transform:  59%|█████▉    | 4144908/7002961 [00:12<00:06, 409056.96it/s]"
     ]
    },
    {
     "name": "stderr",
     "output_type": "stream",
     "text": [
      "\rDictNBHDTransformer pre transform:  60%|█████▉    | 4190697/7002961 [00:12<00:06, 422576.05it/s]"
     ]
    },
    {
     "name": "stderr",
     "output_type": "stream",
     "text": [
      "\rDictNBHDTransformer pre transform:  60%|██████    | 4235483/7002961 [00:12<00:06, 429854.96it/s]"
     ]
    },
    {
     "name": "stderr",
     "output_type": "stream",
     "text": [
      "\rDictNBHDTransformer pre transform:  61%|██████    | 4281308/7002961 [00:12<00:06, 437988.42it/s]"
     ]
    },
    {
     "name": "stderr",
     "output_type": "stream",
     "text": [
      "\rDictNBHDTransformer pre transform:  62%|██████▏   | 4326363/7002961 [00:12<00:06, 441681.30it/s]"
     ]
    },
    {
     "name": "stderr",
     "output_type": "stream",
     "text": [
      "\rDictNBHDTransformer pre transform:  62%|██████▏   | 4370723/7002961 [00:12<00:06, 406864.11it/s]"
     ]
    },
    {
     "name": "stderr",
     "output_type": "stream",
     "text": [
      "\rDictNBHDTransformer pre transform:  63%|██████▎   | 4412084/7002961 [00:12<00:07, 342318.79it/s]"
     ]
    },
    {
     "name": "stderr",
     "output_type": "stream",
     "text": [
      "\rDictNBHDTransformer pre transform:  64%|██████▎   | 4451836/7002961 [00:12<00:07, 357198.37it/s]"
     ]
    },
    {
     "name": "stderr",
     "output_type": "stream",
     "text": [
      "\rDictNBHDTransformer pre transform:  64%|██████▍   | 4489275/7002961 [00:13<00:07, 324379.32it/s]"
     ]
    },
    {
     "name": "stderr",
     "output_type": "stream",
     "text": [
      "\rDictNBHDTransformer pre transform:  65%|██████▍   | 4523496/7002961 [00:13<00:08, 302951.24it/s]"
     ]
    },
    {
     "name": "stderr",
     "output_type": "stream",
     "text": [
      "\rDictNBHDTransformer pre transform:  65%|██████▌   | 4557715/7002961 [00:13<00:07, 313744.19it/s]"
     ]
    },
    {
     "name": "stderr",
     "output_type": "stream",
     "text": [
      "\rDictNBHDTransformer pre transform:  66%|██████▌   | 4599233/7002961 [00:13<00:07, 338557.27it/s]"
     ]
    },
    {
     "name": "stderr",
     "output_type": "stream",
     "text": [
      "\rDictNBHDTransformer pre transform:  66%|██████▌   | 4636175/7002961 [00:13<00:06, 347258.70it/s]"
     ]
    },
    {
     "name": "stderr",
     "output_type": "stream",
     "text": [
      "\rDictNBHDTransformer pre transform:  67%|██████▋   | 4671924/7002961 [00:13<00:06, 347379.40it/s]"
     ]
    },
    {
     "name": "stderr",
     "output_type": "stream",
     "text": [
      "\rDictNBHDTransformer pre transform:  67%|██████▋   | 4707378/7002961 [00:13<00:07, 324821.85it/s]"
     ]
    },
    {
     "name": "stderr",
     "output_type": "stream",
     "text": [
      "\rDictNBHDTransformer pre transform:  68%|██████▊   | 4740992/7002961 [00:13<00:06, 328106.76it/s]"
     ]
    },
    {
     "name": "stderr",
     "output_type": "stream",
     "text": [
      "\rDictNBHDTransformer pre transform:  68%|██████▊   | 4774370/7002961 [00:13<00:07, 293000.06it/s]"
     ]
    },
    {
     "name": "stderr",
     "output_type": "stream",
     "text": [
      "\rDictNBHDTransformer pre transform:  69%|██████▊   | 4804768/7002961 [00:14<00:07, 287695.42it/s]"
     ]
    },
    {
     "name": "stderr",
     "output_type": "stream",
     "text": [
      "\rDictNBHDTransformer pre transform:  69%|██████▉   | 4834328/7002961 [00:14<00:07, 281176.55it/s]"
     ]
    },
    {
     "name": "stderr",
     "output_type": "stream",
     "text": [
      "\rDictNBHDTransformer pre transform:  70%|██████▉   | 4867686/7002961 [00:14<00:07, 295081.89it/s]"
     ]
    },
    {
     "name": "stderr",
     "output_type": "stream",
     "text": [
      "\rDictNBHDTransformer pre transform:  70%|██████▉   | 4900323/7002961 [00:14<00:06, 303818.84it/s]"
     ]
    },
    {
     "name": "stderr",
     "output_type": "stream",
     "text": [
      "\rDictNBHDTransformer pre transform:  70%|███████   | 4931184/7002961 [00:14<00:06, 303014.17it/s]"
     ]
    },
    {
     "name": "stderr",
     "output_type": "stream",
     "text": [
      "\rDictNBHDTransformer pre transform:  71%|███████   | 4967940/7002961 [00:14<00:06, 319863.56it/s]"
     ]
    },
    {
     "name": "stderr",
     "output_type": "stream",
     "text": [
      "\rDictNBHDTransformer pre transform:  71%|███████▏  | 5006311/7002961 [00:14<00:05, 336668.36it/s]"
     ]
    },
    {
     "name": "stderr",
     "output_type": "stream",
     "text": [
      "\rDictNBHDTransformer pre transform:  72%|███████▏  | 5044342/7002961 [00:14<00:05, 348669.02it/s]"
     ]
    },
    {
     "name": "stderr",
     "output_type": "stream",
     "text": [
      "\rDictNBHDTransformer pre transform:  73%|███████▎  | 5085970/7002961 [00:14<00:05, 366526.17it/s]"
     ]
    },
    {
     "name": "stderr",
     "output_type": "stream",
     "text": [
      "\rDictNBHDTransformer pre transform:  73%|███████▎  | 5126285/7002961 [00:15<00:04, 376793.90it/s]"
     ]
    },
    {
     "name": "stderr",
     "output_type": "stream",
     "text": [
      "\rDictNBHDTransformer pre transform:  74%|███████▎  | 5164457/7002961 [00:15<00:04, 376130.51it/s]"
     ]
    },
    {
     "name": "stderr",
     "output_type": "stream",
     "text": [
      "\rDictNBHDTransformer pre transform:  74%|███████▍  | 5205076/7002961 [00:15<00:04, 384669.93it/s]"
     ]
    },
    {
     "name": "stderr",
     "output_type": "stream",
     "text": [
      "\rDictNBHDTransformer pre transform:  75%|███████▍  | 5245716/7002961 [00:15<00:04, 390921.45it/s]"
     ]
    },
    {
     "name": "stderr",
     "output_type": "stream",
     "text": [
      "\rDictNBHDTransformer pre transform:  75%|███████▌  | 5285036/7002961 [00:15<00:04, 352993.71it/s]"
     ]
    },
    {
     "name": "stderr",
     "output_type": "stream",
     "text": [
      "\rDictNBHDTransformer pre transform:  76%|███████▌  | 5321195/7002961 [00:15<00:05, 314190.71it/s]"
     ]
    },
    {
     "name": "stderr",
     "output_type": "stream",
     "text": [
      "\rDictNBHDTransformer pre transform:  76%|███████▋  | 5354008/7002961 [00:15<00:06, 268866.85it/s]"
     ]
    },
    {
     "name": "stderr",
     "output_type": "stream",
     "text": [
      "\rDictNBHDTransformer pre transform:  77%|███████▋  | 5383012/7002961 [00:15<00:06, 260465.76it/s]"
     ]
    },
    {
     "name": "stderr",
     "output_type": "stream",
     "text": [
      "\rDictNBHDTransformer pre transform:  77%|███████▋  | 5410598/7002961 [00:16<00:06, 236511.77it/s]"
     ]
    },
    {
     "name": "stderr",
     "output_type": "stream",
     "text": [
      "\rDictNBHDTransformer pre transform:  78%|███████▊  | 5435750/7002961 [00:16<00:06, 237081.99it/s]"
     ]
    },
    {
     "name": "stderr",
     "output_type": "stream",
     "text": [
      "\rDictNBHDTransformer pre transform:  78%|███████▊  | 5460846/7002961 [00:16<00:06, 241080.75it/s]"
     ]
    },
    {
     "name": "stderr",
     "output_type": "stream",
     "text": [
      "\rDictNBHDTransformer pre transform:  78%|███████▊  | 5485706/7002961 [00:16<00:06, 237680.88it/s]"
     ]
    },
    {
     "name": "stderr",
     "output_type": "stream",
     "text": [
      "\rDictNBHDTransformer pre transform:  79%|███████▊  | 5510044/7002961 [00:16<00:06, 239360.95it/s]"
     ]
    },
    {
     "name": "stderr",
     "output_type": "stream",
     "text": [
      "\rDictNBHDTransformer pre transform:  79%|███████▉  | 5534359/7002961 [00:16<00:06, 237909.42it/s]"
     ]
    },
    {
     "name": "stderr",
     "output_type": "stream",
     "text": [
      "\rDictNBHDTransformer pre transform:  80%|███████▉  | 5568704/7002961 [00:16<00:05, 262067.41it/s]"
     ]
    },
    {
     "name": "stderr",
     "output_type": "stream",
     "text": [
      "\rDictNBHDTransformer pre transform:  80%|███████▉  | 5595848/7002961 [00:17<00:12, 113824.89it/s]"
     ]
    },
    {
     "name": "stderr",
     "output_type": "stream",
     "text": [
      "\rDictNBHDTransformer pre transform:  80%|████████  | 5629373/7002961 [00:17<00:09, 141951.29it/s]"
     ]
    },
    {
     "name": "stderr",
     "output_type": "stream",
     "text": [
      "\rDictNBHDTransformer pre transform:  81%|████████  | 5658372/7002961 [00:17<00:08, 167620.62it/s]"
     ]
    },
    {
     "name": "stderr",
     "output_type": "stream",
     "text": [
      "\rDictNBHDTransformer pre transform:  81%|████████▏ | 5696631/7002961 [00:17<00:06, 201602.82it/s]"
     ]
    },
    {
     "name": "stderr",
     "output_type": "stream",
     "text": [
      "\rDictNBHDTransformer pre transform:  82%|████████▏ | 5736888/7002961 [00:17<00:05, 237112.86it/s]"
     ]
    },
    {
     "name": "stderr",
     "output_type": "stream",
     "text": [
      "\rDictNBHDTransformer pre transform:  83%|████████▎ | 5777916/7002961 [00:17<00:04, 271488.54it/s]"
     ]
    },
    {
     "name": "stderr",
     "output_type": "stream",
     "text": [
      "\rDictNBHDTransformer pre transform:  83%|████████▎ | 5820037/7002961 [00:17<00:03, 303892.28it/s]"
     ]
    },
    {
     "name": "stderr",
     "output_type": "stream",
     "text": [
      "\rDictNBHDTransformer pre transform:  84%|████████▎ | 5858263/7002961 [00:17<00:03, 323805.88it/s]"
     ]
    },
    {
     "name": "stderr",
     "output_type": "stream",
     "text": [
      "\rDictNBHDTransformer pre transform:  84%|████████▍ | 5895837/7002961 [00:17<00:03, 326572.40it/s]"
     ]
    },
    {
     "name": "stderr",
     "output_type": "stream",
     "text": [
      "\rDictNBHDTransformer pre transform:  85%|████████▍ | 5934076/7002961 [00:18<00:03, 341527.29it/s]"
     ]
    },
    {
     "name": "stderr",
     "output_type": "stream",
     "text": [
      "\rDictNBHDTransformer pre transform:  85%|████████▌ | 5970956/7002961 [00:18<00:02, 345298.79it/s]"
     ]
    },
    {
     "name": "stderr",
     "output_type": "stream",
     "text": [
      "\rDictNBHDTransformer pre transform:  86%|████████▌ | 6008108/7002961 [00:18<00:02, 352767.97it/s]"
     ]
    },
    {
     "name": "stderr",
     "output_type": "stream",
     "text": [
      "\rDictNBHDTransformer pre transform:  86%|████████▋ | 6050479/7002961 [00:18<00:02, 371422.54it/s]"
     ]
    },
    {
     "name": "stderr",
     "output_type": "stream",
     "text": [
      "\rDictNBHDTransformer pre transform:  87%|████████▋ | 6093948/7002961 [00:18<00:02, 388380.59it/s]"
     ]
    },
    {
     "name": "stderr",
     "output_type": "stream",
     "text": [
      "\rDictNBHDTransformer pre transform:  88%|████████▊ | 6140196/7002961 [00:18<00:02, 407987.83it/s]"
     ]
    },
    {
     "name": "stderr",
     "output_type": "stream",
     "text": [
      "\rDictNBHDTransformer pre transform:  88%|████████▊ | 6184861/7002961 [00:18<00:01, 418862.54it/s]"
     ]
    },
    {
     "name": "stderr",
     "output_type": "stream",
     "text": [
      "\rDictNBHDTransformer pre transform:  89%|████████▉ | 6230695/7002961 [00:18<00:01, 429971.46it/s]"
     ]
    },
    {
     "name": "stderr",
     "output_type": "stream",
     "text": [
      "\rDictNBHDTransformer pre transform:  90%|████████▉ | 6274310/7002961 [00:18<00:01, 422970.27it/s]"
     ]
    },
    {
     "name": "stderr",
     "output_type": "stream",
     "text": [
      "\rDictNBHDTransformer pre transform:  90%|█████████ | 6317783/7002961 [00:19<00:01, 426428.26it/s]"
     ]
    },
    {
     "name": "stderr",
     "output_type": "stream",
     "text": [
      "\rDictNBHDTransformer pre transform:  91%|█████████ | 6366125/7002961 [00:19<00:01, 442062.04it/s]"
     ]
    },
    {
     "name": "stderr",
     "output_type": "stream",
     "text": [
      "\rDictNBHDTransformer pre transform:  92%|█████████▏| 6413834/7002961 [00:19<00:01, 452016.79it/s]"
     ]
    },
    {
     "name": "stderr",
     "output_type": "stream",
     "text": [
      "\rDictNBHDTransformer pre transform:  92%|█████████▏| 6459354/7002961 [00:19<00:01, 439659.68it/s]"
     ]
    },
    {
     "name": "stderr",
     "output_type": "stream",
     "text": [
      "\rDictNBHDTransformer pre transform:  93%|█████████▎| 6506202/7002961 [00:19<00:01, 447926.26it/s]"
     ]
    },
    {
     "name": "stderr",
     "output_type": "stream",
     "text": [
      "\rDictNBHDTransformer pre transform:  94%|█████████▎| 6553250/7002961 [00:19<00:00, 454459.32it/s]"
     ]
    },
    {
     "name": "stderr",
     "output_type": "stream",
     "text": [
      "\rDictNBHDTransformer pre transform:  94%|█████████▍| 6604014/7002961 [00:19<00:00, 469202.94it/s]"
     ]
    },
    {
     "name": "stderr",
     "output_type": "stream",
     "text": [
      "\rDictNBHDTransformer pre transform:  95%|█████████▌| 6654096/7002961 [00:19<00:00, 478259.30it/s]"
     ]
    },
    {
     "name": "stderr",
     "output_type": "stream",
     "text": [
      "\rDictNBHDTransformer pre transform:  96%|█████████▌| 6703588/7002961 [00:19<00:00, 483136.98it/s]"
     ]
    },
    {
     "name": "stderr",
     "output_type": "stream",
     "text": [
      "\rDictNBHDTransformer pre transform:  96%|█████████▋| 6753431/7002961 [00:19<00:00, 487621.13it/s]"
     ]
    },
    {
     "name": "stderr",
     "output_type": "stream",
     "text": [
      "\rDictNBHDTransformer pre transform:  97%|█████████▋| 6802739/7002961 [00:20<00:00, 489243.07it/s]"
     ]
    },
    {
     "name": "stderr",
     "output_type": "stream",
     "text": [
      "\rDictNBHDTransformer pre transform:  98%|█████████▊| 6852222/7002961 [00:20<00:00, 490902.86it/s]"
     ]
    },
    {
     "name": "stderr",
     "output_type": "stream",
     "text": [
      "\rDictNBHDTransformer pre transform:  99%|█████████▊| 6901807/7002961 [00:20<00:00, 492375.00it/s]"
     ]
    },
    {
     "name": "stderr",
     "output_type": "stream",
     "text": [
      "\rDictNBHDTransformer pre transform:  99%|█████████▉| 6951091/7002961 [00:20<00:00, 490441.69it/s]"
     ]
    },
    {
     "name": "stderr",
     "output_type": "stream",
     "text": [
      "\rDictNBHDTransformer pre transform: 100%|█████████▉| 7001695/7002961 [00:20<00:00, 495018.02it/s]"
     ]
    },
    {
     "name": "stderr",
     "output_type": "stream",
     "text": [
      "\rDictNBHDTransformer pre transform: 100%|██████████| 7002961/7002961 [00:20<00:00, 342916.73it/s]"
     ]
    },
    {
     "name": "stderr",
     "output_type": "stream",
     "text": [
      "\n"
     ]
    },
    {
     "name": "stderr",
     "output_type": "stream",
     "text": [
      "\rDictNBHDTransformer transform:   0%|          | 0/1057452 [00:00<?, ?it/s]"
     ]
    },
    {
     "name": "stderr",
     "output_type": "stream",
     "text": [
      "\rDictNBHDTransformer transform:   3%|▎         | 28023/1057452 [00:00<00:03, 280229.60it/s]"
     ]
    },
    {
     "name": "stderr",
     "output_type": "stream",
     "text": [
      "\rDictNBHDTransformer transform:   6%|▌         | 64866/1057452 [00:00<00:03, 301909.77it/s]"
     ]
    },
    {
     "name": "stderr",
     "output_type": "stream",
     "text": [
      "\rDictNBHDTransformer transform:   8%|▊         | 85198/1057452 [00:00<00:03, 263566.40it/s]"
     ]
    },
    {
     "name": "stderr",
     "output_type": "stream",
     "text": [
      "\rDictNBHDTransformer transform:  12%|█▏        | 125388/1057452 [00:00<00:03, 293914.15it/s]"
     ]
    },
    {
     "name": "stderr",
     "output_type": "stream",
     "text": [
      "\rDictNBHDTransformer transform:  15%|█▍        | 155409/1057452 [00:00<00:03, 295774.04it/s]"
     ]
    },
    {
     "name": "stderr",
     "output_type": "stream",
     "text": [
      "\rDictNBHDTransformer transform:  17%|█▋        | 182852/1057452 [00:00<00:03, 289028.30it/s]"
     ]
    },
    {
     "name": "stderr",
     "output_type": "stream",
     "text": [
      "\rDictNBHDTransformer transform:  20%|█▉        | 210432/1057452 [00:00<00:02, 284927.07it/s]"
     ]
    },
    {
     "name": "stderr",
     "output_type": "stream",
     "text": [
      "\rDictNBHDTransformer transform:  23%|██▎       | 241990/1057452 [00:00<00:02, 293475.50it/s]"
     ]
    },
    {
     "name": "stderr",
     "output_type": "stream",
     "text": [
      "\rDictNBHDTransformer transform:  26%|██▌       | 270285/1057452 [00:00<00:03, 245884.07it/s]"
     ]
    },
    {
     "name": "stderr",
     "output_type": "stream",
     "text": [
      "\rDictNBHDTransformer transform:  28%|██▊       | 301086/1057452 [00:01<00:02, 261720.15it/s]"
     ]
    },
    {
     "name": "stderr",
     "output_type": "stream",
     "text": [
      "\rDictNBHDTransformer transform:  32%|███▏      | 333893/1057452 [00:01<00:02, 278623.01it/s]"
     ]
    },
    {
     "name": "stderr",
     "output_type": "stream",
     "text": [
      "\rDictNBHDTransformer transform:  35%|███▍      | 367512/1057452 [00:01<00:02, 293707.91it/s]"
     ]
    },
    {
     "name": "stderr",
     "output_type": "stream",
     "text": [
      "\rDictNBHDTransformer transform:  38%|███▊      | 406543/1057452 [00:01<00:02, 317264.81it/s]"
     ]
    },
    {
     "name": "stderr",
     "output_type": "stream",
     "text": [
      "\rDictNBHDTransformer transform:  43%|████▎     | 453752/1057452 [00:01<00:01, 351885.71it/s]"
     ]
    },
    {
     "name": "stderr",
     "output_type": "stream",
     "text": [
      "\rDictNBHDTransformer transform:  48%|████▊     | 507358/1057452 [00:01<00:01, 392322.32it/s]"
     ]
    },
    {
     "name": "stderr",
     "output_type": "stream",
     "text": [
      "\rDictNBHDTransformer transform:  53%|█████▎    | 555252/1057452 [00:01<00:01, 414828.83it/s]"
     ]
    },
    {
     "name": "stderr",
     "output_type": "stream",
     "text": [
      "\rDictNBHDTransformer transform:  58%|█████▊    | 609209/1057452 [00:01<00:01, 445743.10it/s]"
     ]
    },
    {
     "name": "stderr",
     "output_type": "stream",
     "text": [
      "\rDictNBHDTransformer transform:  62%|██████▏   | 657695/1057452 [00:01<00:00, 456796.36it/s]"
     ]
    },
    {
     "name": "stderr",
     "output_type": "stream",
     "text": [
      "\rDictNBHDTransformer transform:  67%|██████▋   | 712855/1057452 [00:01<00:00, 481628.32it/s]"
     ]
    },
    {
     "name": "stderr",
     "output_type": "stream",
     "text": [
      "\rDictNBHDTransformer transform:  73%|███████▎  | 770371/1057452 [00:02<00:00, 506327.17it/s]"
     ]
    },
    {
     "name": "stderr",
     "output_type": "stream",
     "text": [
      "\rDictNBHDTransformer transform:  78%|███████▊  | 822409/1057452 [00:02<00:00, 508412.78it/s]"
     ]
    },
    {
     "name": "stderr",
     "output_type": "stream",
     "text": [
      "\rDictNBHDTransformer transform:  83%|████████▎ | 874236/1057452 [00:02<00:00, 508154.07it/s]"
     ]
    },
    {
     "name": "stderr",
     "output_type": "stream",
     "text": [
      "\rDictNBHDTransformer transform:  88%|████████▊ | 932041/1057452 [00:02<00:00, 527276.88it/s]"
     ]
    },
    {
     "name": "stderr",
     "output_type": "stream",
     "text": [
      "\rDictNBHDTransformer transform:  93%|█████████▎| 985436/1057452 [00:02<00:00, 527995.75it/s]"
     ]
    },
    {
     "name": "stderr",
     "output_type": "stream",
     "text": [
      "\rDictNBHDTransformer transform:  99%|█████████▉| 1048856/1057452 [00:02<00:00, 555922.98it/s]"
     ]
    },
    {
     "name": "stderr",
     "output_type": "stream",
     "text": [
      "\rDictNBHDTransformer transform: 100%|██████████| 1057452/1057452 [00:02<00:00, 408403.24it/s]"
     ]
    },
    {
     "name": "stderr",
     "output_type": "stream",
     "text": [
      "\n"
     ]
    },
    {
     "name": "stderr",
     "output_type": "stream",
     "text": [
      "\rDictClassTransformer_DATE pre transform:   0%|          | 0/34547 [00:00<?, ?it/s]"
     ]
    },
    {
     "name": "stderr",
     "output_type": "stream",
     "text": [
      "\rDictClassTransformer_DATE pre transform:  41%|████▏     | 14316/34547 [00:00<00:00, 143152.63it/s]"
     ]
    },
    {
     "name": "stderr",
     "output_type": "stream",
     "text": [
      "\rDictClassTransformer_DATE pre transform:  79%|███████▉  | 27378/34547 [00:00<00:00, 139146.05it/s]"
     ]
    },
    {
     "name": "stderr",
     "output_type": "stream",
     "text": [
      "\rDictClassTransformer_DATE pre transform: 100%|██████████| 34547/34547 [00:00<00:00, 134904.85it/s]"
     ]
    },
    {
     "name": "stderr",
     "output_type": "stream",
     "text": [
      "\n\rDictClassTransformer_DATE transform:   0%|          | 0/1057452 [00:00<?, ?it/s]"
     ]
    },
    {
     "name": "stderr",
     "output_type": "stream",
     "text": [
      "\rDictClassTransformer_DATE transform:   5%|▌         | 54191/1057452 [00:00<00:01, 541904.06it/s]"
     ]
    },
    {
     "name": "stderr",
     "output_type": "stream",
     "text": [
      "\rDictClassTransformer_DATE transform:  14%|█▍        | 148201/1057452 [00:00<00:01, 620785.22it/s]"
     ]
    },
    {
     "name": "stderr",
     "output_type": "stream",
     "text": [
      "\rDictClassTransformer_DATE transform:  24%|██▍       | 254646/1057452 [00:00<00:01, 709500.50it/s]"
     ]
    },
    {
     "name": "stderr",
     "output_type": "stream",
     "text": [
      "\rDictClassTransformer_DATE transform:  35%|███▌      | 370817/1057452 [00:00<00:00, 803306.47it/s]"
     ]
    },
    {
     "name": "stderr",
     "output_type": "stream",
     "text": [
      "\rDictClassTransformer_DATE transform:  44%|████▎     | 462446/1057452 [00:00<00:00, 834161.58it/s]"
     ]
    },
    {
     "name": "stderr",
     "output_type": "stream",
     "text": [
      "\rDictClassTransformer_DATE transform:  51%|█████▏    | 543554/1057452 [00:01<00:02, 195169.74it/s]"
     ]
    },
    {
     "name": "stderr",
     "output_type": "stream",
     "text": [
      "\rDictClassTransformer_DATE transform:  58%|█████▊    | 613556/1057452 [00:01<00:01, 249054.24it/s]"
     ]
    },
    {
     "name": "stderr",
     "output_type": "stream",
     "text": [
      "\rDictClassTransformer_DATE transform:  67%|██████▋   | 707541/1057452 [00:01<00:01, 319505.63it/s]"
     ]
    },
    {
     "name": "stderr",
     "output_type": "stream",
     "text": [
      "\rDictClassTransformer_DATE transform:  76%|███████▌  | 806048/1057452 [00:01<00:00, 400731.98it/s]"
     ]
    },
    {
     "name": "stderr",
     "output_type": "stream",
     "text": [
      "\rDictClassTransformer_DATE transform:  84%|████████▍ | 889672/1057452 [00:02<00:00, 474933.15it/s]"
     ]
    },
    {
     "name": "stderr",
     "output_type": "stream",
     "text": [
      "\rDictClassTransformer_DATE transform:  92%|█████████▏| 970600/1057452 [00:02<00:00, 518247.99it/s]"
     ]
    },
    {
     "name": "stderr",
     "output_type": "stream",
     "text": [
      "\rDictClassTransformer_DATE transform:  99%|█████████▉| 1047000/1057452 [00:02<00:00, 540686.09it/s]"
     ]
    },
    {
     "name": "stderr",
     "output_type": "stream",
     "text": [
      "\rDictClassTransformer_DATE transform: 100%|██████████| 1057452/1057452 [00:02<00:00, 443385.94it/s]"
     ]
    },
    {
     "name": "stderr",
     "output_type": "stream",
     "text": [
      "\n"
     ]
    },
    {
     "name": "stderr",
     "output_type": "stream",
     "text": [
      "\rDictClassTransformer_CARDINAL pre transform:   0%|          | 0/9847 [00:00<?, ?it/s]"
     ]
    },
    {
     "name": "stderr",
     "output_type": "stream",
     "text": [
      "\rDictClassTransformer_CARDINAL pre transform: 100%|██████████| 9847/9847 [00:00<00:00, 98992.87it/s]"
     ]
    },
    {
     "name": "stderr",
     "output_type": "stream",
     "text": [
      "\n\rDictClassTransformer_CARDINAL transform:   0%|          | 0/1057452 [00:00<?, ?it/s]"
     ]
    },
    {
     "name": "stderr",
     "output_type": "stream",
     "text": [
      "\rDictClassTransformer_CARDINAL transform:   5%|▍         | 52605/1057452 [00:00<00:01, 526049.25it/s]"
     ]
    },
    {
     "name": "stderr",
     "output_type": "stream",
     "text": [
      "\rDictClassTransformer_CARDINAL transform:  14%|█▍        | 146773/1057452 [00:00<00:01, 606333.94it/s]"
     ]
    },
    {
     "name": "stderr",
     "output_type": "stream",
     "text": [
      "\rDictClassTransformer_CARDINAL transform:  24%|██▍       | 253983/1057452 [00:00<00:01, 697202.08it/s]"
     ]
    },
    {
     "name": "stderr",
     "output_type": "stream",
     "text": [
      "\rDictClassTransformer_CARDINAL transform:  33%|███▎      | 349565/1057452 [00:00<00:00, 758791.33it/s]"
     ]
    },
    {
     "name": "stderr",
     "output_type": "stream",
     "text": [
      "\rDictClassTransformer_CARDINAL transform:  42%|████▏     | 443119/1057452 [00:00<00:00, 804380.38it/s]"
     ]
    },
    {
     "name": "stderr",
     "output_type": "stream",
     "text": [
      "\rDictClassTransformer_CARDINAL transform:  52%|█████▏    | 545283/1057452 [00:00<00:00, 859194.38it/s]"
     ]
    },
    {
     "name": "stderr",
     "output_type": "stream",
     "text": [
      "\rDictClassTransformer_CARDINAL transform:  60%|██████    | 637975/1057452 [00:00<00:00, 878444.50it/s]"
     ]
    },
    {
     "name": "stderr",
     "output_type": "stream",
     "text": [
      "\rDictClassTransformer_CARDINAL transform:  72%|███████▏  | 762545/1057452 [00:00<00:00, 963677.19it/s]"
     ]
    },
    {
     "name": "stderr",
     "output_type": "stream",
     "text": [
      "\rDictClassTransformer_CARDINAL transform:  84%|████████▎ | 884206/1057452 [00:00<00:00, 1027777.47it/s]"
     ]
    },
    {
     "name": "stderr",
     "output_type": "stream",
     "text": [
      "\rDictClassTransformer_CARDINAL transform:  96%|█████████▌| 1012966/1057452 [00:01<00:00, 1094001.59it/s]"
     ]
    },
    {
     "name": "stderr",
     "output_type": "stream",
     "text": [
      "\rDictClassTransformer_CARDINAL transform: 100%|██████████| 1057452/1057452 [00:01<00:00, 1001404.40it/s]"
     ]
    },
    {
     "name": "stderr",
     "output_type": "stream",
     "text": [
      "\n"
     ]
    },
    {
     "name": "stderr",
     "output_type": "stream",
     "text": [
      "\rCardinalTransformer transform:   0%|          | 0/1057452 [00:00<?, ?it/s]"
     ]
    },
    {
     "name": "stderr",
     "output_type": "stream",
     "text": [
      "\rCardinalTransformer transform:   6%|▌         | 61096/1057452 [00:00<00:01, 610953.30it/s]"
     ]
    },
    {
     "name": "stderr",
     "output_type": "stream",
     "text": [
      "\rCardinalTransformer transform:  10%|█         | 108085/1057452 [00:00<00:01, 560409.73it/s]"
     ]
    },
    {
     "name": "stderr",
     "output_type": "stream",
     "text": [
      "\rCardinalTransformer transform:  15%|█▍        | 153818/1057452 [00:00<00:01, 524915.51it/s]"
     ]
    },
    {
     "name": "stderr",
     "output_type": "stream",
     "text": [
      "\rCardinalTransformer transform:  21%|██        | 220816/1057452 [00:00<00:01, 561375.41it/s]"
     ]
    },
    {
     "name": "stderr",
     "output_type": "stream",
     "text": [
      "\rCardinalTransformer transform:  27%|██▋       | 290053/1057452 [00:00<00:01, 595151.02it/s]"
     ]
    },
    {
     "name": "stderr",
     "output_type": "stream",
     "text": [
      "\rCardinalTransformer transform:  34%|███▍      | 364643/1057452 [00:00<00:01, 633561.40it/s]"
     ]
    },
    {
     "name": "stderr",
     "output_type": "stream",
     "text": [
      "\rCardinalTransformer transform:  42%|████▏     | 445080/1057452 [00:00<00:00, 676667.28it/s]"
     ]
    },
    {
     "name": "stderr",
     "output_type": "stream",
     "text": [
      "\rCardinalTransformer transform:  50%|████▉     | 527928/1057452 [00:00<00:00, 716005.65it/s]"
     ]
    },
    {
     "name": "stderr",
     "output_type": "stream",
     "text": [
      "\rCardinalTransformer transform:  58%|█████▊    | 611511/1057452 [00:00<00:00, 748181.73it/s]"
     ]
    },
    {
     "name": "stderr",
     "output_type": "stream",
     "text": [
      "\rCardinalTransformer transform:  65%|██████▌   | 692345/1057452 [00:01<00:00, 765267.24it/s]"
     ]
    },
    {
     "name": "stderr",
     "output_type": "stream",
     "text": [
      "\rCardinalTransformer transform:  73%|███████▎  | 772600/1057452 [00:01<00:00, 776036.19it/s]"
     ]
    },
    {
     "name": "stderr",
     "output_type": "stream",
     "text": [
      "\rCardinalTransformer transform:  80%|████████  | 849988/1057452 [00:01<00:00, 771367.23it/s]"
     ]
    },
    {
     "name": "stderr",
     "output_type": "stream",
     "text": [
      "\rCardinalTransformer transform:  88%|████████▊ | 931073/1057452 [00:01<00:00, 782800.94it/s]"
     ]
    },
    {
     "name": "stderr",
     "output_type": "stream",
     "text": [
      "\rCardinalTransformer transform:  96%|█████████▌| 1014541/1057452 [00:01<00:00, 797637.78it/s]"
     ]
    },
    {
     "name": "stderr",
     "output_type": "stream",
     "text": [
      "\rCardinalTransformer transform: 100%|██████████| 1057452/1057452 [00:01<00:00, 720661.61it/s]"
     ]
    },
    {
     "name": "stderr",
     "output_type": "stream",
     "text": [
      "\n"
     ]
    },
    {
     "name": "stderr",
     "output_type": "stream",
     "text": [
      "\rLettersTransformer transform:   0%|          | 0/1057452 [00:00<?, ?it/s]"
     ]
    },
    {
     "name": "stderr",
     "output_type": "stream",
     "text": [
      "\rLettersTransformer transform:   5%|▍         | 50729/1057452 [00:00<00:01, 507284.44it/s]"
     ]
    },
    {
     "name": "stderr",
     "output_type": "stream",
     "text": [
      "\rLettersTransformer transform:   9%|▉         | 93412/1057452 [00:00<00:02, 480130.56it/s]"
     ]
    },
    {
     "name": "stderr",
     "output_type": "stream",
     "text": [
      "\rLettersTransformer transform:  14%|█▍        | 149346/1057452 [00:00<00:01, 501419.93it/s]"
     ]
    },
    {
     "name": "stderr",
     "output_type": "stream",
     "text": [
      "\rLettersTransformer transform:  20%|█▉        | 208898/1057452 [00:00<00:01, 526370.53it/s]"
     ]
    },
    {
     "name": "stderr",
     "output_type": "stream",
     "text": [
      "\rLettersTransformer transform:  25%|██▌       | 265922/1057452 [00:00<00:01, 538804.58it/s]"
     ]
    },
    {
     "name": "stderr",
     "output_type": "stream",
     "text": [
      "\rLettersTransformer transform:  31%|███       | 327802/1057452 [00:00<00:01, 560540.76it/s]"
     ]
    },
    {
     "name": "stderr",
     "output_type": "stream",
     "text": [
      "\rLettersTransformer transform:  37%|███▋      | 390856/1057452 [00:00<00:01, 579850.66it/s]"
     ]
    },
    {
     "name": "stderr",
     "output_type": "stream",
     "text": [
      "\rLettersTransformer transform:  43%|████▎     | 451229/1057452 [00:00<00:01, 586812.27it/s]"
     ]
    },
    {
     "name": "stderr",
     "output_type": "stream",
     "text": [
      "\rLettersTransformer transform:  48%|████▊     | 507416/1057452 [00:00<00:00, 551827.89it/s]"
     ]
    },
    {
     "name": "stderr",
     "output_type": "stream",
     "text": [
      "\rLettersTransformer transform:  54%|█████▍    | 569695/1057452 [00:01<00:00, 571356.73it/s]"
     ]
    },
    {
     "name": "stderr",
     "output_type": "stream",
     "text": [
      "\rLettersTransformer transform:  60%|█████▉    | 629224/1057452 [00:01<00:00, 578330.33it/s]"
     ]
    },
    {
     "name": "stderr",
     "output_type": "stream",
     "text": [
      "\rLettersTransformer transform:  65%|██████▍   | 686555/1057452 [00:01<00:00, 559238.05it/s]"
     ]
    },
    {
     "name": "stderr",
     "output_type": "stream",
     "text": [
      "\rLettersTransformer transform:  70%|███████   | 742264/1057452 [00:01<00:00, 551980.21it/s]"
     ]
    },
    {
     "name": "stderr",
     "output_type": "stream",
     "text": [
      "\rLettersTransformer transform:  75%|███████▌  | 797333/1057452 [00:01<00:00, 550693.93it/s]"
     ]
    },
    {
     "name": "stderr",
     "output_type": "stream",
     "text": [
      "\rLettersTransformer transform:  81%|████████  | 852313/1057452 [00:01<00:00, 544779.30it/s]"
     ]
    },
    {
     "name": "stderr",
     "output_type": "stream",
     "text": [
      "\rLettersTransformer transform:  86%|████████▌ | 908212/1057452 [00:01<00:00, 548962.74it/s]"
     ]
    },
    {
     "name": "stderr",
     "output_type": "stream",
     "text": [
      "\rLettersTransformer transform:  91%|█████████ | 963082/1057452 [00:01<00:00, 541027.41it/s]"
     ]
    },
    {
     "name": "stderr",
     "output_type": "stream",
     "text": [
      "\rLettersTransformer transform:  97%|█████████▋| 1024264/1057452 [00:01<00:00, 560481.47it/s]"
     ]
    },
    {
     "name": "stderr",
     "output_type": "stream",
     "text": [
      "\rLettersTransformer transform: 100%|██████████| 1057452/1057452 [00:01<00:00, 552925.89it/s]"
     ]
    },
    {
     "name": "stderr",
     "output_type": "stream",
     "text": [
      "\n"
     ]
    },
    {
     "name": "stderr",
     "output_type": "stream",
     "text": [
      "\rDictTransformer pre transform:   0%|          | 0/752198 [00:00<?, ?it/s]"
     ]
    },
    {
     "name": "stderr",
     "output_type": "stream",
     "text": [
      "\rDictTransformer pre transform:   2%|▏         | 13966/752198 [00:00<00:05, 139646.15it/s]"
     ]
    },
    {
     "name": "stderr",
     "output_type": "stream",
     "text": [
      "\rDictTransformer pre transform:   4%|▍         | 28253/752198 [00:00<00:05, 140597.47it/s]"
     ]
    },
    {
     "name": "stderr",
     "output_type": "stream",
     "text": [
      "\rDictTransformer pre transform:   6%|▌         | 41457/752198 [00:00<00:05, 137908.30it/s]"
     ]
    },
    {
     "name": "stderr",
     "output_type": "stream",
     "text": [
      "\rDictTransformer pre transform:   7%|▋         | 56324/752198 [00:00<00:04, 140967.62it/s]"
     ]
    },
    {
     "name": "stderr",
     "output_type": "stream",
     "text": [
      "\rDictTransformer pre transform:   9%|▉         | 71377/752198 [00:00<00:04, 143705.05it/s]"
     ]
    },
    {
     "name": "stderr",
     "output_type": "stream",
     "text": [
      "\rDictTransformer pre transform:  11%|█▏        | 85137/752198 [00:00<00:04, 141813.05it/s]"
     ]
    },
    {
     "name": "stderr",
     "output_type": "stream",
     "text": [
      "\rDictTransformer pre transform:  13%|█▎        | 99016/752198 [00:00<00:04, 140889.37it/s]"
     ]
    },
    {
     "name": "stderr",
     "output_type": "stream",
     "text": [
      "\rDictTransformer pre transform:  15%|█▍        | 111976/752198 [00:00<00:04, 133888.49it/s]"
     ]
    },
    {
     "name": "stderr",
     "output_type": "stream",
     "text": [
      "\rDictTransformer pre transform:  17%|█▋        | 124647/752198 [00:00<00:05, 121427.28it/s]"
     ]
    },
    {
     "name": "stderr",
     "output_type": "stream",
     "text": [
      "\rDictTransformer pre transform:  18%|█▊        | 136510/752198 [00:01<00:05, 107723.07it/s]"
     ]
    },
    {
     "name": "stderr",
     "output_type": "stream",
     "text": [
      "\rDictTransformer pre transform:  20%|█▉        | 147925/752198 [00:01<00:05, 109572.31it/s]"
     ]
    },
    {
     "name": "stderr",
     "output_type": "stream",
     "text": [
      "\rDictTransformer pre transform:  21%|██        | 158953/752198 [00:01<00:05, 108739.90it/s]"
     ]
    },
    {
     "name": "stderr",
     "output_type": "stream",
     "text": [
      "\rDictTransformer pre transform:  23%|██▎       | 169878/752198 [00:01<00:05, 107419.05it/s]"
     ]
    },
    {
     "name": "stderr",
     "output_type": "stream",
     "text": [
      "\rDictTransformer pre transform:  24%|██▍       | 180660/752198 [00:01<00:06, 94422.11it/s] "
     ]
    },
    {
     "name": "stderr",
     "output_type": "stream",
     "text": [
      "\rDictTransformer pre transform:  26%|██▌       | 194177/752198 [00:01<00:05, 103810.15it/s]"
     ]
    },
    {
     "name": "stderr",
     "output_type": "stream",
     "text": [
      "\rDictTransformer pre transform:  28%|██▊       | 209154/752198 [00:01<00:04, 114335.23it/s]"
     ]
    },
    {
     "name": "stderr",
     "output_type": "stream",
     "text": [
      "\rDictTransformer pre transform:  29%|██▉       | 221747/752198 [00:01<00:04, 117583.06it/s]"
     ]
    },
    {
     "name": "stderr",
     "output_type": "stream",
     "text": [
      "\rDictTransformer pre transform:  31%|███▏      | 235960/752198 [00:01<00:04, 124007.93it/s]"
     ]
    },
    {
     "name": "stderr",
     "output_type": "stream",
     "text": [
      "\rDictTransformer pre transform:  33%|███▎      | 248804/752198 [00:02<00:04, 113239.01it/s]"
     ]
    },
    {
     "name": "stderr",
     "output_type": "stream",
     "text": [
      "\rDictTransformer pre transform:  35%|███▍      | 260620/752198 [00:02<00:04, 99493.31it/s] "
     ]
    },
    {
     "name": "stderr",
     "output_type": "stream",
     "text": [
      "\rDictTransformer pre transform:  36%|███▌      | 271217/752198 [00:02<00:05, 91954.19it/s]"
     ]
    },
    {
     "name": "stderr",
     "output_type": "stream",
     "text": [
      "\rDictTransformer pre transform:  37%|███▋      | 280979/752198 [00:02<00:05, 90800.70it/s]"
     ]
    },
    {
     "name": "stderr",
     "output_type": "stream",
     "text": [
      "\rDictTransformer pre transform:  39%|███▊      | 290684/752198 [00:02<00:04, 92588.21it/s]"
     ]
    },
    {
     "name": "stderr",
     "output_type": "stream",
     "text": [
      "\rDictTransformer pre transform:  40%|███▉      | 300232/752198 [00:02<00:04, 91248.28it/s]"
     ]
    },
    {
     "name": "stderr",
     "output_type": "stream",
     "text": [
      "\rDictTransformer pre transform:  41%|████      | 310229/752198 [00:02<00:04, 93699.16it/s]"
     ]
    },
    {
     "name": "stderr",
     "output_type": "stream",
     "text": [
      "\rDictTransformer pre transform:  43%|████▎     | 321298/752198 [00:02<00:04, 98220.93it/s]"
     ]
    },
    {
     "name": "stderr",
     "output_type": "stream",
     "text": [
      "\rDictTransformer pre transform:  44%|████▍     | 334516/752198 [00:02<00:03, 106422.95it/s]"
     ]
    },
    {
     "name": "stderr",
     "output_type": "stream",
     "text": [
      "\rDictTransformer pre transform:  46%|████▋     | 348677/752198 [00:03<00:03, 114993.12it/s]"
     ]
    },
    {
     "name": "stderr",
     "output_type": "stream",
     "text": [
      "\rDictTransformer pre transform:  48%|████▊     | 360597/752198 [00:03<00:03, 113965.15it/s]"
     ]
    },
    {
     "name": "stderr",
     "output_type": "stream",
     "text": [
      "\rDictTransformer pre transform:  50%|████▉     | 373993/752198 [00:03<00:03, 119304.03it/s]"
     ]
    },
    {
     "name": "stderr",
     "output_type": "stream",
     "text": [
      "\rDictTransformer pre transform:  52%|█████▏    | 387655/752198 [00:03<00:02, 124017.65it/s]"
     ]
    },
    {
     "name": "stderr",
     "output_type": "stream",
     "text": [
      "\rDictTransformer pre transform:  53%|█████▎    | 400837/752198 [00:03<00:02, 126255.85it/s]"
     ]
    },
    {
     "name": "stderr",
     "output_type": "stream",
     "text": [
      "\rDictTransformer pre transform:  55%|█████▌    | 415402/752198 [00:03<00:02, 131508.15it/s]"
     ]
    },
    {
     "name": "stderr",
     "output_type": "stream",
     "text": [
      "\rDictTransformer pre transform:  57%|█████▋    | 430084/752198 [00:03<00:02, 135753.95it/s]"
     ]
    },
    {
     "name": "stderr",
     "output_type": "stream",
     "text": [
      "\rDictTransformer pre transform:  59%|█████▉    | 443821/752198 [00:03<00:02, 127405.40it/s]"
     ]
    },
    {
     "name": "stderr",
     "output_type": "stream",
     "text": [
      "\rDictTransformer pre transform:  61%|██████    | 456779/752198 [00:03<00:02, 124922.21it/s]"
     ]
    },
    {
     "name": "stderr",
     "output_type": "stream",
     "text": [
      "\rDictTransformer pre transform:  62%|██████▏   | 469435/752198 [00:04<00:02, 112130.79it/s]"
     ]
    },
    {
     "name": "stderr",
     "output_type": "stream",
     "text": [
      "\rDictTransformer pre transform:  64%|██████▍   | 481009/752198 [00:04<00:02, 112395.97it/s]"
     ]
    },
    {
     "name": "stderr",
     "output_type": "stream",
     "text": [
      "\rDictTransformer pre transform:  66%|██████▌   | 495744/752198 [00:04<00:02, 121005.98it/s]"
     ]
    },
    {
     "name": "stderr",
     "output_type": "stream",
     "text": [
      "\rDictTransformer pre transform:  68%|██████▊   | 509788/752198 [00:04<00:01, 126244.98it/s]"
     ]
    },
    {
     "name": "stderr",
     "output_type": "stream",
     "text": [
      "\rDictTransformer pre transform:  69%|██████▉   | 522727/752198 [00:04<00:01, 115192.94it/s]"
     ]
    },
    {
     "name": "stderr",
     "output_type": "stream",
     "text": [
      "\rDictTransformer pre transform:  71%|███████   | 534654/752198 [00:04<00:01, 112123.03it/s]"
     ]
    },
    {
     "name": "stderr",
     "output_type": "stream",
     "text": [
      "\rDictTransformer pre transform:  73%|███████▎  | 546295/752198 [00:04<00:01, 113373.97it/s]"
     ]
    },
    {
     "name": "stderr",
     "output_type": "stream",
     "text": [
      "\rDictTransformer pre transform:  74%|███████▍  | 557848/752198 [00:04<00:01, 109548.23it/s]"
     ]
    },
    {
     "name": "stderr",
     "output_type": "stream",
     "text": [
      "\rDictTransformer pre transform:  76%|███████▌  | 568982/752198 [00:04<00:01, 107070.09it/s]"
     ]
    },
    {
     "name": "stderr",
     "output_type": "stream",
     "text": [
      "\rDictTransformer pre transform:  77%|███████▋  | 579827/752198 [00:05<00:01, 96799.73it/s] "
     ]
    },
    {
     "name": "stderr",
     "output_type": "stream",
     "text": [
      "\rDictTransformer pre transform:  79%|███████▉  | 594030/752198 [00:05<00:01, 107023.25it/s]"
     ]
    },
    {
     "name": "stderr",
     "output_type": "stream",
     "text": [
      "\rDictTransformer pre transform:  81%|████████  | 608763/752198 [00:05<00:01, 116592.01it/s]"
     ]
    },
    {
     "name": "stderr",
     "output_type": "stream",
     "text": [
      "\rDictTransformer pre transform:  83%|████████▎ | 623237/752198 [00:05<00:01, 123815.60it/s]"
     ]
    },
    {
     "name": "stderr",
     "output_type": "stream",
     "text": [
      "\rDictTransformer pre transform:  85%|████████▍ | 637914/752198 [00:05<00:00, 129908.55it/s]"
     ]
    },
    {
     "name": "stderr",
     "output_type": "stream",
     "text": [
      "\rDictTransformer pre transform:  87%|████████▋ | 652700/752198 [00:05<00:00, 134817.45it/s]"
     ]
    },
    {
     "name": "stderr",
     "output_type": "stream",
     "text": [
      "\rDictTransformer pre transform:  89%|████████▉ | 667896/752198 [00:05<00:00, 139538.00it/s]"
     ]
    },
    {
     "name": "stderr",
     "output_type": "stream",
     "text": [
      "\rDictTransformer pre transform:  91%|█████████ | 683148/752198 [00:05<00:00, 143192.01it/s]"
     ]
    },
    {
     "name": "stderr",
     "output_type": "stream",
     "text": [
      "\rDictTransformer pre transform:  93%|█████████▎| 697706/752198 [00:05<00:00, 143682.89it/s]"
     ]
    },
    {
     "name": "stderr",
     "output_type": "stream",
     "text": [
      "\rDictTransformer pre transform:  95%|█████████▍| 712242/752198 [00:06<00:00, 125632.62it/s]"
     ]
    },
    {
     "name": "stderr",
     "output_type": "stream",
     "text": [
      "\rDictTransformer pre transform:  97%|█████████▋| 727415/752198 [00:06<00:00, 132465.80it/s]"
     ]
    },
    {
     "name": "stderr",
     "output_type": "stream",
     "text": [
      "\rDictTransformer pre transform:  99%|█████████▊| 741130/752198 [00:06<00:00, 130322.11it/s]"
     ]
    },
    {
     "name": "stderr",
     "output_type": "stream",
     "text": [
      "\rDictTransformer pre transform: 100%|██████████| 752198/752198 [00:06<00:00, 119472.46it/s]"
     ]
    },
    {
     "name": "stderr",
     "output_type": "stream",
     "text": [
      "\n\rDictTransformer transform:   0%|          | 0/1057452 [00:00<?, ?it/s]"
     ]
    },
    {
     "name": "stderr",
     "output_type": "stream",
     "text": [
      "\rDictTransformer transform:   3%|▎         | 28900/1057452 [00:00<00:03, 288999.59it/s]"
     ]
    },
    {
     "name": "stderr",
     "output_type": "stream",
     "text": [
      "\rDictTransformer transform:   8%|▊         | 81922/1057452 [00:00<00:02, 334676.14it/s]"
     ]
    },
    {
     "name": "stderr",
     "output_type": "stream",
     "text": [
      "\rDictTransformer transform:  13%|█▎        | 140100/1057452 [00:00<00:02, 383547.71it/s]"
     ]
    },
    {
     "name": "stderr",
     "output_type": "stream",
     "text": [
      "\rDictTransformer transform:  19%|█▉        | 204859/1057452 [00:00<00:01, 437001.24it/s]"
     ]
    },
    {
     "name": "stderr",
     "output_type": "stream",
     "text": [
      "\rDictTransformer transform:  25%|██▌       | 264726/1057452 [00:00<00:01, 475524.47it/s]"
     ]
    },
    {
     "name": "stderr",
     "output_type": "stream",
     "text": [
      "\rDictTransformer transform:  31%|███       | 324502/1057452 [00:00<00:01, 506601.83it/s]"
     ]
    },
    {
     "name": "stderr",
     "output_type": "stream",
     "text": [
      "\rDictTransformer transform:  37%|███▋      | 391504/1057452 [00:00<00:01, 546593.61it/s]"
     ]
    },
    {
     "name": "stderr",
     "output_type": "stream",
     "text": [
      "\rDictTransformer transform:  43%|████▎     | 453404/1057452 [00:00<00:01, 566470.52it/s]"
     ]
    },
    {
     "name": "stderr",
     "output_type": "stream",
     "text": [
      "\rDictTransformer transform:  49%|████▉     | 521147/1057452 [00:00<00:00, 595743.12it/s]"
     ]
    },
    {
     "name": "stderr",
     "output_type": "stream",
     "text": [
      "\rDictTransformer transform:  56%|█████▌    | 590530/1057452 [00:01<00:00, 622125.20it/s]"
     ]
    },
    {
     "name": "stderr",
     "output_type": "stream",
     "text": [
      "\rDictTransformer transform:  63%|██████▎   | 661329/1057452 [00:01<00:00, 645609.90it/s]"
     ]
    },
    {
     "name": "stderr",
     "output_type": "stream",
     "text": [
      "\rDictTransformer transform:  69%|██████▉   | 729453/1057452 [00:01<00:00, 655899.27it/s]"
     ]
    },
    {
     "name": "stderr",
     "output_type": "stream",
     "text": [
      "\rDictTransformer transform:  75%|███████▌  | 795798/1057452 [00:01<00:00, 637397.87it/s]"
     ]
    },
    {
     "name": "stderr",
     "output_type": "stream",
     "text": [
      "\rDictTransformer transform:  81%|████████▏ | 860738/1057452 [00:01<00:00, 640947.78it/s]"
     ]
    },
    {
     "name": "stderr",
     "output_type": "stream",
     "text": [
      "\rDictTransformer transform:  88%|████████▊ | 932546/1057452 [00:01<00:00, 662288.06it/s]"
     ]
    },
    {
     "name": "stderr",
     "output_type": "stream",
     "text": [
      "\rDictTransformer transform:  95%|█████████▌| 1005895/1057452 [00:01<00:00, 682153.36it/s]"
     ]
    },
    {
     "name": "stderr",
     "output_type": "stream",
     "text": [
      "\rDictTransformer transform: 100%|██████████| 1057452/1057452 [00:01<00:00, 623274.53it/s]"
     ]
    },
    {
     "name": "stderr",
     "output_type": "stream",
     "text": [
      "\n"
     ]
    },
    {
     "name": "stderr",
     "output_type": "stream",
     "text": [
      "\rLSTMTransliterator transform stage 1:   0%|          | 0/50874 [00:00<?, ?it/s]"
     ]
    },
    {
     "name": "stderr",
     "output_type": "stream",
     "text": [
      "\rLSTMTransliterator transform stage 1:  19%|█▉        | 9896/50874 [00:00<00:00, 98953.02it/s]"
     ]
    },
    {
     "name": "stderr",
     "output_type": "stream",
     "text": [
      "\rLSTMTransliterator transform stage 1:  39%|███▉      | 19931/50874 [00:00<00:00, 99367.19it/s]"
     ]
    },
    {
     "name": "stderr",
     "output_type": "stream",
     "text": [
      "\rLSTMTransliterator transform stage 1:  59%|█████▊    | 29775/50874 [00:00<00:00, 99085.02it/s]"
     ]
    },
    {
     "name": "stderr",
     "output_type": "stream",
     "text": [
      "\rLSTMTransliterator transform stage 1:  78%|███████▊  | 39839/50874 [00:00<00:00, 99544.43it/s]"
     ]
    },
    {
     "name": "stderr",
     "output_type": "stream",
     "text": [
      "\rLSTMTransliterator transform stage 1:  98%|█████████▊| 49613/50874 [00:00<00:00, 98995.53it/s]"
     ]
    },
    {
     "name": "stderr",
     "output_type": "stream",
     "text": [
      "\rLSTMTransliterator transform stage 1: 100%|██████████| 50874/50874 [00:00<00:00, 98943.94it/s]"
     ]
    },
    {
     "name": "stderr",
     "output_type": "stream",
     "text": [
      "\n"
     ]
    },
    {
     "name": "stderr",
     "output_type": "stream",
     "text": [
      "\rLSTMTransliterator transform stage 2:   0%|          | 0/50874 [00:00<?, ?it/s]"
     ]
    },
    {
     "name": "stderr",
     "output_type": "stream",
     "text": [
      "\rLSTMTransliterator transform stage 2:  38%|███▊      | 19442/50874 [00:00<00:00, 194419.72it/s]"
     ]
    },
    {
     "name": "stderr",
     "output_type": "stream",
     "text": [
      "\rLSTMTransliterator transform stage 2:  79%|███████▉  | 40297/50874 [00:00<00:00, 198452.42it/s]"
     ]
    },
    {
     "name": "stderr",
     "output_type": "stream",
     "text": [
      "\rLSTMTransliterator transform stage 2: 100%|██████████| 50874/50874 [00:00<00:00, 196407.85it/s]"
     ]
    },
    {
     "name": "stderr",
     "output_type": "stream",
     "text": [
      "\n"
     ]
    }
   ],
   "source": [
    "predicted = transform(x_train, x_test, y_train, y_test)"
   ]
  },
  {
   "cell_type": "code",
   "execution_count": 6,
   "metadata": {},
   "outputs": [],
   "source": [
    "predicted = predicted.assign(after_true=y_test)"
   ]
  },
  {
   "cell_type": "code",
   "execution_count": 23,
   "metadata": {
    "collapsed": true
   },
   "outputs": [
    {
     "data": {
      "text/plain": [
       "LETTERS       591377\nVERBATIM      247706\nTRANS          67993\nCARDINAL       64826\nPLAIN          25849\nDASH           16872\nDATE           13707\nMEASURE         4600\nORDINAL          854\nDECIMAL          388\nELECTRONIC       381\nTELEPHONE        231\nDIGIT            217\nMONEY            168\nTIME             148\nFRACTION         144\nPUNCT              0\nName: class, dtype: int64"
      ]
     },
     "execution_count": 23,
     "metadata": {},
     "output_type": "execute_result"
    }
   ],
   "source": [
    "predicted[(predicted[\"after\"] == y_test)]['class'].value_counts()"
   ]
  },
  {
   "cell_type": "code",
   "execution_count": 24,
   "metadata": {},
   "outputs": [
    {
     "data": {
      "text/plain": [
       "TRANS         5558\nCARDINAL      5362\nDATE          3164\nMEASURE       2427\nLETTERS       1976\nDASH          1124\nTELEPHONE      779\nDECIMAL        476\nMONEY          363\nORDINAL        326\nPLAIN          193\nFRACTION       109\nTIME            59\nVERBATIM        53\nELECTRONIC      22\nDIGIT            0\nPUNCT            0\nName: class, dtype: int64"
      ]
     },
     "execution_count": 24,
     "metadata": {},
     "output_type": "execute_result"
    }
   ],
   "source": [
    "predicted[~(predicted[\"after\"] == y_test) & ~(predicted[\"after\"].isnull())]['class'].value_counts()"
   ]
  },
  {
   "cell_type": "code",
   "execution_count": 25,
   "metadata": {
    "collapsed": true
   },
   "outputs": [
    {
     "data": {
      "text/plain": [
       "DASH          0\nMEASURE       0\nDATE          0\nPUNCT         0\nORDINAL       0\nVERBATIM      0\nLETTERS       0\nCARDINAL      0\nTELEPHONE     0\nTRANS         0\nELECTRONIC    0\nDECIMAL       0\nDIGIT         0\nFRACTION      0\nMONEY         0\nTIME          0\nPLAIN         0\nName: class, dtype: int64"
      ]
     },
     "execution_count": 25,
     "metadata": {},
     "output_type": "execute_result"
    }
   ],
   "source": [
    "predicted[(predicted[\"after\"].isnull())]['class'].value_counts()"
   ]
  },
  {
   "cell_type": "code",
   "execution_count": null,
   "metadata": {
    "collapsed": false
   },
   "outputs": [
    {
     "data": {
      "text/html": [
       "<div>\n",
       "<style scoped>\n",
       "    .dataframe tbody tr th:only-of-type {\n",
       "        vertical-align: middle;\n",
       "    }\n",
       "\n",
       "    .dataframe tbody tr th {\n",
       "        vertical-align: top;\n",
       "    }\n",
       "\n",
       "    .dataframe thead th {\n",
       "        text-align: right;\n",
       "    }\n",
       "</style>\n",
       "<table border=\"1\" class=\"dataframe\">\n",
       "  <thead>\n",
       "    <tr style=\"text-align: right;\">\n",
       "      <th></th>\n",
       "      <th>before</th>\n",
       "      <th>prev</th>\n",
       "      <th>next</th>\n",
       "      <th>class</th>\n",
       "      <th>after</th>\n",
       "      <th>after_true</th>\n",
       "    </tr>\n",
       "  </thead>\n",
       "  <tbody>\n",
       "    <tr>\n",
       "      <th>352961</th>\n",
       "      <td>А</td>\n",
       "      <td>«</td>\n",
       "      <td>05</td>\n",
       "      <td>VERBATIM</td>\n",
       "      <td>а</td>\n",
       "      <td>А</td>\n",
       "    </tr>\n",
       "    <tr>\n",
       "      <th>7769658</th>\n",
       "      <td>С</td>\n",
       "      <td>»</td>\n",
       "      <td>1953 года</td>\n",
       "      <td>VERBATIM</td>\n",
       "      <td>с</td>\n",
       "      <td>С</td>\n",
       "    </tr>\n",
       "    <tr>\n",
       "      <th>3327852</th>\n",
       "      <td>З</td>\n",
       "      <td>»</td>\n",
       "      <td>:</td>\n",
       "      <td>VERBATIM</td>\n",
       "      <td>з</td>\n",
       "      <td>З</td>\n",
       "    </tr>\n",
       "    <tr>\n",
       "      <th>7966827</th>\n",
       "      <td>С</td>\n",
       "      <td>2</td>\n",
       "      <td>7</td>\n",
       "      <td>VERBATIM</td>\n",
       "      <td>с</td>\n",
       "      <td>С</td>\n",
       "    </tr>\n",
       "    <tr>\n",
       "      <th>5606412</th>\n",
       "      <td>В</td>\n",
       "      <td>]</td>\n",
       "      <td>10</td>\n",
       "      <td>VERBATIM</td>\n",
       "      <td>в</td>\n",
       "      <td>В</td>\n",
       "    </tr>\n",
       "    <tr>\n",
       "      <th>6953685</th>\n",
       "      <td>С</td>\n",
       "      <td>2</td>\n",
       "      <td>33</td>\n",
       "      <td>VERBATIM</td>\n",
       "      <td>с</td>\n",
       "      <td>С</td>\n",
       "    </tr>\n",
       "    <tr>\n",
       "      <th>7173546</th>\n",
       "      <td>С</td>\n",
       "      <td>?</td>\n",
       "      <td>1895 года</td>\n",
       "      <td>VERBATIM</td>\n",
       "      <td>с</td>\n",
       "      <td>С</td>\n",
       "    </tr>\n",
       "    <tr>\n",
       "      <th>63026</th>\n",
       "      <td>В</td>\n",
       "      <td>»</td>\n",
       "      <td>2003 году</td>\n",
       "      <td>VERBATIM</td>\n",
       "      <td>в</td>\n",
       "      <td>В</td>\n",
       "    </tr>\n",
       "    <tr>\n",
       "      <th>3607392</th>\n",
       "      <td>В</td>\n",
       "      <td>797,5 кг.</td>\n",
       "      <td>1925 году</td>\n",
       "      <td>VERBATIM</td>\n",
       "      <td>в</td>\n",
       "      <td>В</td>\n",
       "    </tr>\n",
       "    <tr>\n",
       "      <th>3974850</th>\n",
       "      <td>С</td>\n",
       "      <td>блокгаузе</td>\n",
       "      <td>»</td>\n",
       "      <td>VERBATIM</td>\n",
       "      <td>с</td>\n",
       "      <td>С</td>\n",
       "    </tr>\n",
       "    <tr>\n",
       "      <th>1241535</th>\n",
       "      <td>В</td>\n",
       "      <td>»</td>\n",
       "      <td>1922 году</td>\n",
       "      <td>VERBATIM</td>\n",
       "      <td>в</td>\n",
       "      <td>В</td>\n",
       "    </tr>\n",
       "    <tr>\n",
       "      <th>4804256</th>\n",
       "      <td>В</td>\n",
       "      <td>14000 акров.</td>\n",
       "      <td>1995 году</td>\n",
       "      <td>VERBATIM</td>\n",
       "      <td>в</td>\n",
       "      <td>В</td>\n",
       "    </tr>\n",
       "    <tr>\n",
       "      <th>10478257</th>\n",
       "      <td>С</td>\n",
       "      <td>у</td>\n",
       "      <td>63</td>\n",
       "      <td>VERBATIM</td>\n",
       "      <td>с</td>\n",
       "      <td>С</td>\n",
       "    </tr>\n",
       "    <tr>\n",
       "      <th>9123309</th>\n",
       "      <td>В</td>\n",
       "      <td>РАН</td>\n",
       "      <td>1980 г.</td>\n",
       "      <td>VERBATIM</td>\n",
       "      <td>в</td>\n",
       "      <td>В</td>\n",
       "    </tr>\n",
       "    <tr>\n",
       "      <th>7380306</th>\n",
       "      <td></td>\n",
       "      <td>Kostrikina</td>\n",
       "      <td>,</td>\n",
       "      <td>VERBATIM</td>\n",
       "      <td></td>\n",
       "      <td>n a</td>\n",
       "    </tr>\n",
       "    <tr>\n",
       "      <th>7714669</th>\n",
       "      <td>В</td>\n",
       "      <td>:</td>\n",
       "      <td>7</td>\n",
       "      <td>VERBATIM</td>\n",
       "      <td>в</td>\n",
       "      <td>В</td>\n",
       "    </tr>\n",
       "    <tr>\n",
       "      <th>8365918</th>\n",
       "      <td>Ґ</td>\n",
       "      <td>Билл</td>\n",
       "      <td>ейтс</td>\n",
       "      <td>VERBATIM</td>\n",
       "      <td>Ґ</td>\n",
       "      <td>г</td>\n",
       "    </tr>\n",
       "    <tr>\n",
       "      <th>9319832</th>\n",
       "      <td>В</td>\n",
       "      <td>?</td>\n",
       "      <td>1839 году</td>\n",
       "      <td>VERBATIM</td>\n",
       "      <td>в</td>\n",
       "      <td>В</td>\n",
       "    </tr>\n",
       "    <tr>\n",
       "      <th>7335534</th>\n",
       "      <td>К</td>\n",
       "      <td>(</td>\n",
       "      <td>157</td>\n",
       "      <td>VERBATIM</td>\n",
       "      <td>к</td>\n",
       "      <td>К</td>\n",
       "    </tr>\n",
       "    <tr>\n",
       "      <th>10292963</th>\n",
       "      <td>В</td>\n",
       "      <td>:</td>\n",
       "      <td>1987 году</td>\n",
       "      <td>VERBATIM</td>\n",
       "      <td>в</td>\n",
       "      <td>В</td>\n",
       "    </tr>\n",
       "  </tbody>\n",
       "</table>\n",
       "</div>"
      ],
      "text/plain": [
       "<div>\n",
       "<style scoped>\n",
       "    .dataframe tbody tr th:only-of-type {\n",
       "        vertical-align: middle;\n",
       "    }\n",
       "\n",
       "    .dataframe tbody tr th {\n",
       "        vertical-align: top;\n",
       "    }\n",
       "\n",
       "    .dataframe thead th {\n",
       "        text-align: right;\n",
       "    }\n",
       "</style>\n",
       "<table border=\"1\" class=\"dataframe\">\n",
       "  <thead>\n",
       "    <tr style=\"text-align: right;\">\n",
       "      <th></th>\n",
       "      <th>before</th>\n",
       "      <th>prev</th>\n",
       "      <th>next</th>\n",
       "      <th>class</th>\n",
       "      <th>after</th>\n",
       "      <th>after_true</th>\n",
       "    </tr>\n",
       "  </thead>\n",
       "  <tbody>\n",
       "    <tr>\n",
       "      <th>352961</th>\n",
       "      <td>А</td>\n",
       "      <td>«</td>\n",
       "      <td>05</td>\n",
       "      <td>VERBATIM</td>\n",
       "      <td>а</td>\n",
       "      <td>А</td>\n",
       "    </tr>\n",
       "    <tr>\n",
       "      <th>7769658</th>\n",
       "      <td>С</td>\n",
       "      <td>»</td>\n",
       "      <td>1953 года</td>\n",
       "      <td>VERBATIM</td>\n",
       "      <td>с</td>\n",
       "      <td>С</td>\n",
       "    </tr>\n",
       "    <tr>\n",
       "      <th>3327852</th>\n",
       "      <td>З</td>\n",
       "      <td>»</td>\n",
       "      <td>:</td>\n",
       "      <td>VERBATIM</td>\n",
       "      <td>з</td>\n",
       "      <td>З</td>\n",
       "    </tr>\n",
       "    <tr>\n",
       "      <th>7966827</th>\n",
       "      <td>С</td>\n",
       "      <td>2</td>\n",
       "      <td>7</td>\n",
       "      <td>VERBATIM</td>\n",
       "      <td>с</td>\n",
       "      <td>С</td>\n",
       "    </tr>\n",
       "    <tr>\n",
       "      <th>5606412</th>\n",
       "      <td>В</td>\n",
       "      <td>]</td>\n",
       "      <td>10</td>\n",
       "      <td>VERBATIM</td>\n",
       "      <td>в</td>\n",
       "      <td>В</td>\n",
       "    </tr>\n",
       "    <tr>\n",
       "      <th>6953685</th>\n",
       "      <td>С</td>\n",
       "      <td>2</td>\n",
       "      <td>33</td>\n",
       "      <td>VERBATIM</td>\n",
       "      <td>с</td>\n",
       "      <td>С</td>\n",
       "    </tr>\n",
       "    <tr>\n",
       "      <th>7173546</th>\n",
       "      <td>С</td>\n",
       "      <td>?</td>\n",
       "      <td>1895 года</td>\n",
       "      <td>VERBATIM</td>\n",
       "      <td>с</td>\n",
       "      <td>С</td>\n",
       "    </tr>\n",
       "    <tr>\n",
       "      <th>63026</th>\n",
       "      <td>В</td>\n",
       "      <td>»</td>\n",
       "      <td>2003 году</td>\n",
       "      <td>VERBATIM</td>\n",
       "      <td>в</td>\n",
       "      <td>В</td>\n",
       "    </tr>\n",
       "    <tr>\n",
       "      <th>3607392</th>\n",
       "      <td>В</td>\n",
       "      <td>797,5 кг.</td>\n",
       "      <td>1925 году</td>\n",
       "      <td>VERBATIM</td>\n",
       "      <td>в</td>\n",
       "      <td>В</td>\n",
       "    </tr>\n",
       "    <tr>\n",
       "      <th>3974850</th>\n",
       "      <td>С</td>\n",
       "      <td>блокгаузе</td>\n",
       "      <td>»</td>\n",
       "      <td>VERBATIM</td>\n",
       "      <td>с</td>\n",
       "      <td>С</td>\n",
       "    </tr>\n",
       "    <tr>\n",
       "      <th>1241535</th>\n",
       "      <td>В</td>\n",
       "      <td>»</td>\n",
       "      <td>1922 году</td>\n",
       "      <td>VERBATIM</td>\n",
       "      <td>в</td>\n",
       "      <td>В</td>\n",
       "    </tr>\n",
       "    <tr>\n",
       "      <th>4804256</th>\n",
       "      <td>В</td>\n",
       "      <td>14000 акров.</td>\n",
       "      <td>1995 году</td>\n",
       "      <td>VERBATIM</td>\n",
       "      <td>в</td>\n",
       "      <td>В</td>\n",
       "    </tr>\n",
       "    <tr>\n",
       "      <th>10478257</th>\n",
       "      <td>С</td>\n",
       "      <td>у</td>\n",
       "      <td>63</td>\n",
       "      <td>VERBATIM</td>\n",
       "      <td>с</td>\n",
       "      <td>С</td>\n",
       "    </tr>\n",
       "    <tr>\n",
       "      <th>9123309</th>\n",
       "      <td>В</td>\n",
       "      <td>РАН</td>\n",
       "      <td>1980 г.</td>\n",
       "      <td>VERBATIM</td>\n",
       "      <td>в</td>\n",
       "      <td>В</td>\n",
       "    </tr>\n",
       "    <tr>\n",
       "      <th>7380306</th>\n",
       "      <td></td>\n",
       "      <td>Kostrikina</td>\n",
       "      <td>,</td>\n",
       "      <td>VERBATIM</td>\n",
       "      <td></td>\n",
       "      <td>n a</td>\n",
       "    </tr>\n",
       "    <tr>\n",
       "      <th>7714669</th>\n",
       "      <td>В</td>\n",
       "      <td>:</td>\n",
       "      <td>7</td>\n",
       "      <td>VERBATIM</td>\n",
       "      <td>в</td>\n",
       "      <td>В</td>\n",
       "    </tr>\n",
       "    <tr>\n",
       "      <th>8365918</th>\n",
       "      <td>Ґ</td>\n",
       "      <td>Билл</td>\n",
       "      <td>ейтс</td>\n",
       "      <td>VERBATIM</td>\n",
       "      <td>Ґ</td>\n",
       "      <td>г</td>\n",
       "    </tr>\n",
       "    <tr>\n",
       "      <th>9319832</th>\n",
       "      <td>В</td>\n",
       "      <td>?</td>\n",
       "      <td>1839 году</td>\n",
       "      <td>VERBATIM</td>\n",
       "      <td>в</td>\n",
       "      <td>В</td>\n",
       "    </tr>\n",
       "    <tr>\n",
       "      <th>7335534</th>\n",
       "      <td>К</td>\n",
       "      <td>(</td>\n",
       "      <td>157</td>\n",
       "      <td>VERBATIM</td>\n",
       "      <td>к</td>\n",
       "      <td>К</td>\n",
       "    </tr>\n",
       "    <tr>\n",
       "      <th>10292963</th>\n",
       "      <td>В</td>\n",
       "      <td>:</td>\n",
       "      <td>1987 году</td>\n",
       "      <td>VERBATIM</td>\n",
       "      <td>в</td>\n",
       "      <td>В</td>\n",
       "    </tr>\n",
       "  </tbody>\n",
       "</table>\n",
       "</div>"
      ]
     },
     "execution_count": 40,
     "metadata": {},
     "output_type": "execute_result"
    }
   ],
   "source": [
    "predicted[~(predicted[\"after\"] == y_test) & ~(predicted[\"after\"].isnull()) & (predicted['class']=='CARDINAL')].sample(20)"
   ]
  },
  {
   "cell_type": "code",
   "execution_count": 115,
   "metadata": {},
   "outputs": [
    {
     "data": {
      "text/html": [
       "<div>\n",
       "<style scoped>\n",
       "    .dataframe tbody tr th:only-of-type {\n",
       "        vertical-align: middle;\n",
       "    }\n",
       "\n",
       "    .dataframe tbody tr th {\n",
       "        vertical-align: top;\n",
       "    }\n",
       "\n",
       "    .dataframe thead th {\n",
       "        text-align: right;\n",
       "    }\n",
       "</style>\n",
       "<table border=\"1\" class=\"dataframe\">\n",
       "  <thead>\n",
       "    <tr style=\"text-align: right;\">\n",
       "      <th></th>\n",
       "      <th>before</th>\n",
       "      <th>prev</th>\n",
       "      <th>next</th>\n",
       "      <th>class</th>\n",
       "      <th>after</th>\n",
       "      <th>after_true</th>\n",
       "    </tr>\n",
       "  </thead>\n",
       "  <tbody>\n",
       "    <tr>\n",
       "      <th>3866770</th>\n",
       "      <td>1995</td>\n",
       "      <td>(</td>\n",
       "      <td>)</td>\n",
       "      <td>CARDINAL</td>\n",
       "      <td>NaN</td>\n",
       "      <td>тысяча девятьсот девяносто пять</td>\n",
       "    </tr>\n",
       "    <tr>\n",
       "      <th>3263532</th>\n",
       "      <td>1</td>\n",
       "      <td>.</td>\n",
       "      <td>бу</td>\n",
       "      <td>CARDINAL</td>\n",
       "      <td>NaN</td>\n",
       "      <td>один</td>\n",
       "    </tr>\n",
       "    <tr>\n",
       "      <th>297333</th>\n",
       "      <td>2011</td>\n",
       "      <td>июнь</td>\n",
       "      <td>)</td>\n",
       "      <td>CARDINAL</td>\n",
       "      <td>NaN</td>\n",
       "      <td>две тысячи одиннадцать</td>\n",
       "    </tr>\n",
       "    <tr>\n",
       "      <th>2958596</th>\n",
       "      <td>258</td>\n",
       "      <td>от</td>\n",
       "      <td>—</td>\n",
       "      <td>CARDINAL</td>\n",
       "      <td>NaN</td>\n",
       "      <td>двухсот пятидесяти восьми</td>\n",
       "    </tr>\n",
       "    <tr>\n",
       "      <th>9669689</th>\n",
       "      <td>1887</td>\n",
       "      <td>,</td>\n",
       "      <td>.</td>\n",
       "      <td>CARDINAL</td>\n",
       "      <td>NaN</td>\n",
       "      <td>тысяча восемьсот восемьдесят семь</td>\n",
       "    </tr>\n",
       "    <tr>\n",
       "      <th>9701672</th>\n",
       "      <td>1920</td>\n",
       "      <td>ноябре</td>\n",
       "      <td>—</td>\n",
       "      <td>CARDINAL</td>\n",
       "      <td>NaN</td>\n",
       "      <td>тысячи девятисот двадцати</td>\n",
       "    </tr>\n",
       "    <tr>\n",
       "      <th>8826540</th>\n",
       "      <td>50</td>\n",
       "      <td>\"</td>\n",
       "      <td>к</td>\n",
       "      <td>CARDINAL</td>\n",
       "      <td>NaN</td>\n",
       "      <td>пятьдесят</td>\n",
       "    </tr>\n",
       "    <tr>\n",
       "      <th>10015457</th>\n",
       "      <td>2</td>\n",
       "      <td>,</td>\n",
       "      <td>деревянных</td>\n",
       "      <td>CARDINAL</td>\n",
       "      <td>NaN</td>\n",
       "      <td>два</td>\n",
       "    </tr>\n",
       "    <tr>\n",
       "      <th>9698322</th>\n",
       "      <td>2000</td>\n",
       "      <td>Гений</td>\n",
       "      <td>—</td>\n",
       "      <td>CARDINAL</td>\n",
       "      <td>NaN</td>\n",
       "      <td>две тысячи</td>\n",
       "    </tr>\n",
       "    <tr>\n",
       "      <th>6025845</th>\n",
       "      <td>1205</td>\n",
       "      <td>(</td>\n",
       "      <td>—</td>\n",
       "      <td>CARDINAL</td>\n",
       "      <td>NaN</td>\n",
       "      <td>тысяча двести пять</td>\n",
       "    </tr>\n",
       "    <tr>\n",
       "      <th>4970835</th>\n",
       "      <td>1</td>\n",
       "      <td>,</td>\n",
       "      <td>ere</td>\n",
       "      <td>CARDINAL</td>\n",
       "      <td>NaN</td>\n",
       "      <td>один</td>\n",
       "    </tr>\n",
       "    <tr>\n",
       "      <th>1075190</th>\n",
       "      <td>2005</td>\n",
       "      <td>,</td>\n",
       "      <td>.</td>\n",
       "      <td>CARDINAL</td>\n",
       "      <td>NaN</td>\n",
       "      <td>две тысячи пять</td>\n",
       "    </tr>\n",
       "    <tr>\n",
       "      <th>5220328</th>\n",
       "      <td>4</td>\n",
       "      <td>от</td>\n",
       "      <td>до</td>\n",
       "      <td>CARDINAL</td>\n",
       "      <td>NaN</td>\n",
       "      <td>четырех</td>\n",
       "    </tr>\n",
       "    <tr>\n",
       "      <th>5685139</th>\n",
       "      <td>14</td>\n",
       "      <td>February</td>\n",
       "      <td>,</td>\n",
       "      <td>CARDINAL</td>\n",
       "      <td>NaN</td>\n",
       "      <td>четырнадцать</td>\n",
       "    </tr>\n",
       "    <tr>\n",
       "      <th>2659229</th>\n",
       "      <td>2</td>\n",
       "      <td>на</td>\n",
       "      <td>стороны</td>\n",
       "      <td>CARDINAL</td>\n",
       "      <td>NaN</td>\n",
       "      <td>две</td>\n",
       "    </tr>\n",
       "    <tr>\n",
       "      <th>5491028</th>\n",
       "      <td>1977</td>\n",
       "      <td>.</td>\n",
       "      <td>—</td>\n",
       "      <td>CARDINAL</td>\n",
       "      <td>NaN</td>\n",
       "      <td>тысяча девятьсот семьдесят семь</td>\n",
       "    </tr>\n",
       "    <tr>\n",
       "      <th>4930381</th>\n",
       "      <td>1818</td>\n",
       "      <td>—</td>\n",
       "      <td>—</td>\n",
       "      <td>CARDINAL</td>\n",
       "      <td>NaN</td>\n",
       "      <td>тысяча восемьсот восемнадцать</td>\n",
       "    </tr>\n",
       "    <tr>\n",
       "      <th>1930858</th>\n",
       "      <td>778</td>\n",
       "      <td>,</td>\n",
       "      <td>жителей</td>\n",
       "      <td>CARDINAL</td>\n",
       "      <td>NaN</td>\n",
       "      <td>семьсот семьдесят восемь</td>\n",
       "    </tr>\n",
       "    <tr>\n",
       "      <th>8446550</th>\n",
       "      <td>243</td>\n",
       "      <td>.</td>\n",
       "      <td>Деревня</td>\n",
       "      <td>CARDINAL</td>\n",
       "      <td>NaN</td>\n",
       "      <td>двести сорок три</td>\n",
       "    </tr>\n",
       "    <tr>\n",
       "      <th>744510</th>\n",
       "      <td>926</td>\n",
       "      <td>В</td>\n",
       "      <td>,</td>\n",
       "      <td>CARDINAL</td>\n",
       "      <td>NaN</td>\n",
       "      <td>девятистах двадцати шести</td>\n",
       "    </tr>\n",
       "    <tr>\n",
       "      <th>3859568</th>\n",
       "      <td>2</td>\n",
       "      <td>N</td>\n",
       "      <td>.</td>\n",
       "      <td>CARDINAL</td>\n",
       "      <td>NaN</td>\n",
       "      <td>два</td>\n",
       "    </tr>\n",
       "    <tr>\n",
       "      <th>7763681</th>\n",
       "      <td>11</td>\n",
       "      <td>-</td>\n",
       "      <td>.</td>\n",
       "      <td>CARDINAL</td>\n",
       "      <td>NaN</td>\n",
       "      <td>одиннадцати</td>\n",
       "    </tr>\n",
       "    <tr>\n",
       "      <th>8608968</th>\n",
       "      <td>13</td>\n",
       "      <td>на</td>\n",
       "      <td>(</td>\n",
       "      <td>CARDINAL</td>\n",
       "      <td>NaN</td>\n",
       "      <td>тринадцать</td>\n",
       "    </tr>\n",
       "    <tr>\n",
       "      <th>985629</th>\n",
       "      <td>25</td>\n",
       "      <td>—</td>\n",
       "      <td>.</td>\n",
       "      <td>CARDINAL</td>\n",
       "      <td>NaN</td>\n",
       "      <td>двадцать пять</td>\n",
       "    </tr>\n",
       "    <tr>\n",
       "      <th>6783839</th>\n",
       "      <td>1936</td>\n",
       "      <td>(</td>\n",
       "      <td>)</td>\n",
       "      <td>CARDINAL</td>\n",
       "      <td>NaN</td>\n",
       "      <td>тысяча девятьсот тридцать шесть</td>\n",
       "    </tr>\n",
       "    <tr>\n",
       "      <th>9050972</th>\n",
       "      <td>2005</td>\n",
       "      <td>,</td>\n",
       "      <td>,</td>\n",
       "      <td>CARDINAL</td>\n",
       "      <td>NaN</td>\n",
       "      <td>две тысячи пять</td>\n",
       "    </tr>\n",
       "    <tr>\n",
       "      <th>9922020</th>\n",
       "      <td>1979</td>\n",
       "      <td>,</td>\n",
       "      <td>.</td>\n",
       "      <td>CARDINAL</td>\n",
       "      <td>NaN</td>\n",
       "      <td>тысяча девятьсот семьдесят девять</td>\n",
       "    </tr>\n",
       "    <tr>\n",
       "      <th>1511475</th>\n",
       "      <td>390</td>\n",
       "      <td>от</td>\n",
       "      <td>-</td>\n",
       "      <td>CARDINAL</td>\n",
       "      <td>NaN</td>\n",
       "      <td>трехсот девяноста</td>\n",
       "    </tr>\n",
       "    <tr>\n",
       "      <th>6372922</th>\n",
       "      <td>14 985</td>\n",
       "      <td>—</td>\n",
       "      <td>чел</td>\n",
       "      <td>CARDINAL</td>\n",
       "      <td>NaN</td>\n",
       "      <td>четырнадцать тысяч девятьсот восемьдесят пять</td>\n",
       "    </tr>\n",
       "    <tr>\n",
       "      <th>1874728</th>\n",
       "      <td>1</td>\n",
       "      <td>том</td>\n",
       "      <td>.</td>\n",
       "      <td>CARDINAL</td>\n",
       "      <td>NaN</td>\n",
       "      <td>один</td>\n",
       "    </tr>\n",
       "    <tr>\n",
       "      <th>...</th>\n",
       "      <td>...</td>\n",
       "      <td>...</td>\n",
       "      <td>...</td>\n",
       "      <td>...</td>\n",
       "      <td>...</td>\n",
       "      <td>...</td>\n",
       "    </tr>\n",
       "    <tr>\n",
       "      <th>1123290</th>\n",
       "      <td>165</td>\n",
       "      <td>.</td>\n",
       "      <td>Административно</td>\n",
       "      <td>CARDINAL</td>\n",
       "      <td>NaN</td>\n",
       "      <td>сто шестьдесят пять</td>\n",
       "    </tr>\n",
       "    <tr>\n",
       "      <th>1758859</th>\n",
       "      <td>27</td>\n",
       "      <td>,</td>\n",
       "      <td>:</td>\n",
       "      <td>CARDINAL</td>\n",
       "      <td>NaN</td>\n",
       "      <td>двадцать семь</td>\n",
       "    </tr>\n",
       "    <tr>\n",
       "      <th>3900531</th>\n",
       "      <td>II</td>\n",
       "      <td>Микулаша</td>\n",
       "      <td>Гассиштейнского</td>\n",
       "      <td>CARDINAL</td>\n",
       "      <td>i i</td>\n",
       "      <td>двух</td>\n",
       "    </tr>\n",
       "    <tr>\n",
       "      <th>978694</th>\n",
       "      <td>5</td>\n",
       "      <td>Т.</td>\n",
       "      <td>-</td>\n",
       "      <td>CARDINAL</td>\n",
       "      <td>NaN</td>\n",
       "      <td>пять</td>\n",
       "    </tr>\n",
       "    <tr>\n",
       "      <th>3447995</th>\n",
       "      <td>1257</td>\n",
       "      <td>Агамемнон</td>\n",
       "      <td>;</td>\n",
       "      <td>CARDINAL</td>\n",
       "      <td>NaN</td>\n",
       "      <td>тысяча двести пятьдесят семь</td>\n",
       "    </tr>\n",
       "    <tr>\n",
       "      <th>5394627</th>\n",
       "      <td>1835</td>\n",
       "      <td>.</td>\n",
       "      <td>—</td>\n",
       "      <td>CARDINAL</td>\n",
       "      <td>NaN</td>\n",
       "      <td>тысяча восемьсот тридцать пять</td>\n",
       "    </tr>\n",
       "    <tr>\n",
       "      <th>2158303</th>\n",
       "      <td>1560</td>\n",
       "      <td>—</td>\n",
       "      <td>человек</td>\n",
       "      <td>CARDINAL</td>\n",
       "      <td>NaN</td>\n",
       "      <td>тысяча пятьсот шестьдесят</td>\n",
       "    </tr>\n",
       "    <tr>\n",
       "      <th>38113</th>\n",
       "      <td>3505</td>\n",
       "      <td>Население</td>\n",
       "      <td>человек</td>\n",
       "      <td>CARDINAL</td>\n",
       "      <td>три тысячи пятьсот пять</td>\n",
       "      <td>трех тысяч пятисот пяти</td>\n",
       "    </tr>\n",
       "    <tr>\n",
       "      <th>4161500</th>\n",
       "      <td>1997</td>\n",
       "      <td>,</td>\n",
       "      <td>.</td>\n",
       "      <td>CARDINAL</td>\n",
       "      <td>NaN</td>\n",
       "      <td>тысяча девятьсот девяносто семь</td>\n",
       "    </tr>\n",
       "    <tr>\n",
       "      <th>10214649</th>\n",
       "      <td>1892</td>\n",
       "      <td>,</td>\n",
       "      <td>—</td>\n",
       "      <td>CARDINAL</td>\n",
       "      <td>NaN</td>\n",
       "      <td>тысяча восемьсот девяносто два</td>\n",
       "    </tr>\n",
       "    <tr>\n",
       "      <th>4802424</th>\n",
       "      <td>2008</td>\n",
       "      <td>В</td>\n",
       "      <td>,</td>\n",
       "      <td>CARDINAL</td>\n",
       "      <td>NaN</td>\n",
       "      <td>двух тысячах восьми</td>\n",
       "    </tr>\n",
       "    <tr>\n",
       "      <th>3058277</th>\n",
       "      <td>2500</td>\n",
       "      <td>—</td>\n",
       "      <td>экз</td>\n",
       "      <td>CARDINAL</td>\n",
       "      <td>NaN</td>\n",
       "      <td>две тысячи пятьсот</td>\n",
       "    </tr>\n",
       "    <tr>\n",
       "      <th>4332244</th>\n",
       "      <td>136</td>\n",
       "      <td>.</td>\n",
       "      <td>Городской</td>\n",
       "      <td>CARDINAL</td>\n",
       "      <td>NaN</td>\n",
       "      <td>сто тридцать шесть</td>\n",
       "    </tr>\n",
       "    <tr>\n",
       "      <th>1348405</th>\n",
       "      <td>1999</td>\n",
       "      <td>(</td>\n",
       "      <td>)</td>\n",
       "      <td>CARDINAL</td>\n",
       "      <td>NaN</td>\n",
       "      <td>тысяча девятьсот девяносто девять</td>\n",
       "    </tr>\n",
       "    <tr>\n",
       "      <th>8503620</th>\n",
       "      <td>3</td>\n",
       "      <td>Часть</td>\n",
       "      <td>.</td>\n",
       "      <td>CARDINAL</td>\n",
       "      <td>NaN</td>\n",
       "      <td>три</td>\n",
       "    </tr>\n",
       "    <tr>\n",
       "      <th>9308266</th>\n",
       "      <td>248</td>\n",
       "      <td>P.</td>\n",
       "      <td>.</td>\n",
       "      <td>CARDINAL</td>\n",
       "      <td>NaN</td>\n",
       "      <td>двести сорок восемь</td>\n",
       "    </tr>\n",
       "    <tr>\n",
       "      <th>8524696</th>\n",
       "      <td>26</td>\n",
       "      <td>January</td>\n",
       "      <td>,</td>\n",
       "      <td>CARDINAL</td>\n",
       "      <td>NaN</td>\n",
       "      <td>двадцать шесть</td>\n",
       "    </tr>\n",
       "    <tr>\n",
       "      <th>5339084</th>\n",
       "      <td>3</td>\n",
       "      <td>выпущена</td>\n",
       "      <td>D</td>\n",
       "      <td>CARDINAL</td>\n",
       "      <td>NaN</td>\n",
       "      <td>три</td>\n",
       "    </tr>\n",
       "    <tr>\n",
       "      <th>3971827</th>\n",
       "      <td>100000</td>\n",
       "      <td>:</td>\n",
       "      <td>экз</td>\n",
       "      <td>CARDINAL</td>\n",
       "      <td>NaN</td>\n",
       "      <td>сто тысяч</td>\n",
       "    </tr>\n",
       "    <tr>\n",
       "      <th>10134692</th>\n",
       "      <td>50</td>\n",
       "      <td>,</td>\n",
       "      <td>женщин</td>\n",
       "      <td>CARDINAL</td>\n",
       "      <td>NaN</td>\n",
       "      <td>пятьдесят</td>\n",
       "    </tr>\n",
       "    <tr>\n",
       "      <th>7918970</th>\n",
       "      <td>11</td>\n",
       "      <td>.</td>\n",
       "      <td>(</td>\n",
       "      <td>CARDINAL</td>\n",
       "      <td>NaN</td>\n",
       "      <td>одиннадцать</td>\n",
       "    </tr>\n",
       "    <tr>\n",
       "      <th>3906756</th>\n",
       "      <td>2009</td>\n",
       "      <td>,</td>\n",
       "      <td>.</td>\n",
       "      <td>CARDINAL</td>\n",
       "      <td>NaN</td>\n",
       "      <td>две тысячи девять</td>\n",
       "    </tr>\n",
       "    <tr>\n",
       "      <th>2468056</th>\n",
       "      <td>31</td>\n",
       "      <td>Проверено</td>\n",
       "      <td>March</td>\n",
       "      <td>CARDINAL</td>\n",
       "      <td>NaN</td>\n",
       "      <td>тридцать один</td>\n",
       "    </tr>\n",
       "    <tr>\n",
       "      <th>6448102</th>\n",
       "      <td>8</td>\n",
       "      <td>от</td>\n",
       "      <td>-</td>\n",
       "      <td>CARDINAL</td>\n",
       "      <td>NaN</td>\n",
       "      <td>восьми</td>\n",
       "    </tr>\n",
       "    <tr>\n",
       "      <th>7732267</th>\n",
       "      <td>1973</td>\n",
       "      <td>(</td>\n",
       "      <td>)</td>\n",
       "      <td>CARDINAL</td>\n",
       "      <td>NaN</td>\n",
       "      <td>тысяча девятьсот семьдесят три</td>\n",
       "    </tr>\n",
       "    <tr>\n",
       "      <th>7826619</th>\n",
       "      <td>4</td>\n",
       "      <td>(</td>\n",
       "      <td>November</td>\n",
       "      <td>CARDINAL</td>\n",
       "      <td>NaN</td>\n",
       "      <td>четыре</td>\n",
       "    </tr>\n",
       "    <tr>\n",
       "      <th>7269904</th>\n",
       "      <td>72</td>\n",
       "      <td>I</td>\n",
       "      <td>,</td>\n",
       "      <td>CARDINAL</td>\n",
       "      <td>NaN</td>\n",
       "      <td>семьдесят два</td>\n",
       "    </tr>\n",
       "    <tr>\n",
       "      <th>8575291</th>\n",
       "      <td>118</td>\n",
       "      <td>-</td>\n",
       "      <td>треста</td>\n",
       "      <td>CARDINAL</td>\n",
       "      <td>NaN</td>\n",
       "      <td>сто восемнадцать</td>\n",
       "    </tr>\n",
       "    <tr>\n",
       "      <th>6514054</th>\n",
       "      <td>884</td>\n",
       "      <td>Inge</td>\n",
       "      <td>TIME</td>\n",
       "      <td>CARDINAL</td>\n",
       "      <td>NaN</td>\n",
       "      <td>восемьсот восемьдесят четыре</td>\n",
       "    </tr>\n",
       "    <tr>\n",
       "      <th>1143433</th>\n",
       "      <td>1896</td>\n",
       "      <td>(</td>\n",
       "      <td>)</td>\n",
       "      <td>CARDINAL</td>\n",
       "      <td>NaN</td>\n",
       "      <td>тысяча восемьсот девяносто шесть</td>\n",
       "    </tr>\n",
       "  </tbody>\n",
       "</table>\n",
       "<p>100 rows × 6 columns</p>\n",
       "</div>"
      ],
      "text/plain": [
       "<div>\n",
       "<style scoped>\n",
       "    .dataframe tbody tr th:only-of-type {\n",
       "        vertical-align: middle;\n",
       "    }\n",
       "\n",
       "    .dataframe tbody tr th {\n",
       "        vertical-align: top;\n",
       "    }\n",
       "\n",
       "    .dataframe thead th {\n",
       "        text-align: right;\n",
       "    }\n",
       "</style>\n",
       "<table border=\"1\" class=\"dataframe\">\n",
       "  <thead>\n",
       "    <tr style=\"text-align: right;\">\n",
       "      <th></th>\n",
       "      <th>before</th>\n",
       "      <th>prev</th>\n",
       "      <th>next</th>\n",
       "      <th>class</th>\n",
       "      <th>after</th>\n",
       "      <th>after_true</th>\n",
       "    </tr>\n",
       "  </thead>\n",
       "  <tbody>\n",
       "    <tr>\n",
       "      <th>3866770</th>\n",
       "      <td>1995</td>\n",
       "      <td>(</td>\n",
       "      <td>)</td>\n",
       "      <td>CARDINAL</td>\n",
       "      <td>NaN</td>\n",
       "      <td>тысяча девятьсот девяносто пять</td>\n",
       "    </tr>\n",
       "    <tr>\n",
       "      <th>3263532</th>\n",
       "      <td>1</td>\n",
       "      <td>.</td>\n",
       "      <td>бу</td>\n",
       "      <td>CARDINAL</td>\n",
       "      <td>NaN</td>\n",
       "      <td>один</td>\n",
       "    </tr>\n",
       "    <tr>\n",
       "      <th>297333</th>\n",
       "      <td>2011</td>\n",
       "      <td>июнь</td>\n",
       "      <td>)</td>\n",
       "      <td>CARDINAL</td>\n",
       "      <td>NaN</td>\n",
       "      <td>две тысячи одиннадцать</td>\n",
       "    </tr>\n",
       "    <tr>\n",
       "      <th>2958596</th>\n",
       "      <td>258</td>\n",
       "      <td>от</td>\n",
       "      <td>—</td>\n",
       "      <td>CARDINAL</td>\n",
       "      <td>NaN</td>\n",
       "      <td>двухсот пятидесяти восьми</td>\n",
       "    </tr>\n",
       "    <tr>\n",
       "      <th>9669689</th>\n",
       "      <td>1887</td>\n",
       "      <td>,</td>\n",
       "      <td>.</td>\n",
       "      <td>CARDINAL</td>\n",
       "      <td>NaN</td>\n",
       "      <td>тысяча восемьсот восемьдесят семь</td>\n",
       "    </tr>\n",
       "    <tr>\n",
       "      <th>9701672</th>\n",
       "      <td>1920</td>\n",
       "      <td>ноябре</td>\n",
       "      <td>—</td>\n",
       "      <td>CARDINAL</td>\n",
       "      <td>NaN</td>\n",
       "      <td>тысячи девятисот двадцати</td>\n",
       "    </tr>\n",
       "    <tr>\n",
       "      <th>8826540</th>\n",
       "      <td>50</td>\n",
       "      <td>\"</td>\n",
       "      <td>к</td>\n",
       "      <td>CARDINAL</td>\n",
       "      <td>NaN</td>\n",
       "      <td>пятьдесят</td>\n",
       "    </tr>\n",
       "    <tr>\n",
       "      <th>10015457</th>\n",
       "      <td>2</td>\n",
       "      <td>,</td>\n",
       "      <td>деревянных</td>\n",
       "      <td>CARDINAL</td>\n",
       "      <td>NaN</td>\n",
       "      <td>два</td>\n",
       "    </tr>\n",
       "    <tr>\n",
       "      <th>9698322</th>\n",
       "      <td>2000</td>\n",
       "      <td>Гений</td>\n",
       "      <td>—</td>\n",
       "      <td>CARDINAL</td>\n",
       "      <td>NaN</td>\n",
       "      <td>две тысячи</td>\n",
       "    </tr>\n",
       "    <tr>\n",
       "      <th>6025845</th>\n",
       "      <td>1205</td>\n",
       "      <td>(</td>\n",
       "      <td>—</td>\n",
       "      <td>CARDINAL</td>\n",
       "      <td>NaN</td>\n",
       "      <td>тысяча двести пять</td>\n",
       "    </tr>\n",
       "    <tr>\n",
       "      <th>4970835</th>\n",
       "      <td>1</td>\n",
       "      <td>,</td>\n",
       "      <td>ere</td>\n",
       "      <td>CARDINAL</td>\n",
       "      <td>NaN</td>\n",
       "      <td>один</td>\n",
       "    </tr>\n",
       "    <tr>\n",
       "      <th>1075190</th>\n",
       "      <td>2005</td>\n",
       "      <td>,</td>\n",
       "      <td>.</td>\n",
       "      <td>CARDINAL</td>\n",
       "      <td>NaN</td>\n",
       "      <td>две тысячи пять</td>\n",
       "    </tr>\n",
       "    <tr>\n",
       "      <th>5220328</th>\n",
       "      <td>4</td>\n",
       "      <td>от</td>\n",
       "      <td>до</td>\n",
       "      <td>CARDINAL</td>\n",
       "      <td>NaN</td>\n",
       "      <td>четырех</td>\n",
       "    </tr>\n",
       "    <tr>\n",
       "      <th>5685139</th>\n",
       "      <td>14</td>\n",
       "      <td>February</td>\n",
       "      <td>,</td>\n",
       "      <td>CARDINAL</td>\n",
       "      <td>NaN</td>\n",
       "      <td>четырнадцать</td>\n",
       "    </tr>\n",
       "    <tr>\n",
       "      <th>2659229</th>\n",
       "      <td>2</td>\n",
       "      <td>на</td>\n",
       "      <td>стороны</td>\n",
       "      <td>CARDINAL</td>\n",
       "      <td>NaN</td>\n",
       "      <td>две</td>\n",
       "    </tr>\n",
       "    <tr>\n",
       "      <th>5491028</th>\n",
       "      <td>1977</td>\n",
       "      <td>.</td>\n",
       "      <td>—</td>\n",
       "      <td>CARDINAL</td>\n",
       "      <td>NaN</td>\n",
       "      <td>тысяча девятьсот семьдесят семь</td>\n",
       "    </tr>\n",
       "    <tr>\n",
       "      <th>4930381</th>\n",
       "      <td>1818</td>\n",
       "      <td>—</td>\n",
       "      <td>—</td>\n",
       "      <td>CARDINAL</td>\n",
       "      <td>NaN</td>\n",
       "      <td>тысяча восемьсот восемнадцать</td>\n",
       "    </tr>\n",
       "    <tr>\n",
       "      <th>1930858</th>\n",
       "      <td>778</td>\n",
       "      <td>,</td>\n",
       "      <td>жителей</td>\n",
       "      <td>CARDINAL</td>\n",
       "      <td>NaN</td>\n",
       "      <td>семьсот семьдесят восемь</td>\n",
       "    </tr>\n",
       "    <tr>\n",
       "      <th>8446550</th>\n",
       "      <td>243</td>\n",
       "      <td>.</td>\n",
       "      <td>Деревня</td>\n",
       "      <td>CARDINAL</td>\n",
       "      <td>NaN</td>\n",
       "      <td>двести сорок три</td>\n",
       "    </tr>\n",
       "    <tr>\n",
       "      <th>744510</th>\n",
       "      <td>926</td>\n",
       "      <td>В</td>\n",
       "      <td>,</td>\n",
       "      <td>CARDINAL</td>\n",
       "      <td>NaN</td>\n",
       "      <td>девятистах двадцати шести</td>\n",
       "    </tr>\n",
       "    <tr>\n",
       "      <th>3859568</th>\n",
       "      <td>2</td>\n",
       "      <td>N</td>\n",
       "      <td>.</td>\n",
       "      <td>CARDINAL</td>\n",
       "      <td>NaN</td>\n",
       "      <td>два</td>\n",
       "    </tr>\n",
       "    <tr>\n",
       "      <th>7763681</th>\n",
       "      <td>11</td>\n",
       "      <td>-</td>\n",
       "      <td>.</td>\n",
       "      <td>CARDINAL</td>\n",
       "      <td>NaN</td>\n",
       "      <td>одиннадцати</td>\n",
       "    </tr>\n",
       "    <tr>\n",
       "      <th>8608968</th>\n",
       "      <td>13</td>\n",
       "      <td>на</td>\n",
       "      <td>(</td>\n",
       "      <td>CARDINAL</td>\n",
       "      <td>NaN</td>\n",
       "      <td>тринадцать</td>\n",
       "    </tr>\n",
       "    <tr>\n",
       "      <th>985629</th>\n",
       "      <td>25</td>\n",
       "      <td>—</td>\n",
       "      <td>.</td>\n",
       "      <td>CARDINAL</td>\n",
       "      <td>NaN</td>\n",
       "      <td>двадцать пять</td>\n",
       "    </tr>\n",
       "    <tr>\n",
       "      <th>6783839</th>\n",
       "      <td>1936</td>\n",
       "      <td>(</td>\n",
       "      <td>)</td>\n",
       "      <td>CARDINAL</td>\n",
       "      <td>NaN</td>\n",
       "      <td>тысяча девятьсот тридцать шесть</td>\n",
       "    </tr>\n",
       "    <tr>\n",
       "      <th>9050972</th>\n",
       "      <td>2005</td>\n",
       "      <td>,</td>\n",
       "      <td>,</td>\n",
       "      <td>CARDINAL</td>\n",
       "      <td>NaN</td>\n",
       "      <td>две тысячи пять</td>\n",
       "    </tr>\n",
       "    <tr>\n",
       "      <th>9922020</th>\n",
       "      <td>1979</td>\n",
       "      <td>,</td>\n",
       "      <td>.</td>\n",
       "      <td>CARDINAL</td>\n",
       "      <td>NaN</td>\n",
       "      <td>тысяча девятьсот семьдесят девять</td>\n",
       "    </tr>\n",
       "    <tr>\n",
       "      <th>1511475</th>\n",
       "      <td>390</td>\n",
       "      <td>от</td>\n",
       "      <td>-</td>\n",
       "      <td>CARDINAL</td>\n",
       "      <td>NaN</td>\n",
       "      <td>трехсот девяноста</td>\n",
       "    </tr>\n",
       "    <tr>\n",
       "      <th>6372922</th>\n",
       "      <td>14 985</td>\n",
       "      <td>—</td>\n",
       "      <td>чел</td>\n",
       "      <td>CARDINAL</td>\n",
       "      <td>NaN</td>\n",
       "      <td>четырнадцать тысяч девятьсот восемьдесят пять</td>\n",
       "    </tr>\n",
       "    <tr>\n",
       "      <th>1874728</th>\n",
       "      <td>1</td>\n",
       "      <td>том</td>\n",
       "      <td>.</td>\n",
       "      <td>CARDINAL</td>\n",
       "      <td>NaN</td>\n",
       "      <td>один</td>\n",
       "    </tr>\n",
       "    <tr>\n",
       "      <th>...</th>\n",
       "      <td>...</td>\n",
       "      <td>...</td>\n",
       "      <td>...</td>\n",
       "      <td>...</td>\n",
       "      <td>...</td>\n",
       "      <td>...</td>\n",
       "    </tr>\n",
       "    <tr>\n",
       "      <th>1123290</th>\n",
       "      <td>165</td>\n",
       "      <td>.</td>\n",
       "      <td>Административно</td>\n",
       "      <td>CARDINAL</td>\n",
       "      <td>NaN</td>\n",
       "      <td>сто шестьдесят пять</td>\n",
       "    </tr>\n",
       "    <tr>\n",
       "      <th>1758859</th>\n",
       "      <td>27</td>\n",
       "      <td>,</td>\n",
       "      <td>:</td>\n",
       "      <td>CARDINAL</td>\n",
       "      <td>NaN</td>\n",
       "      <td>двадцать семь</td>\n",
       "    </tr>\n",
       "    <tr>\n",
       "      <th>3900531</th>\n",
       "      <td>II</td>\n",
       "      <td>Микулаша</td>\n",
       "      <td>Гассиштейнского</td>\n",
       "      <td>CARDINAL</td>\n",
       "      <td>i i</td>\n",
       "      <td>двух</td>\n",
       "    </tr>\n",
       "    <tr>\n",
       "      <th>978694</th>\n",
       "      <td>5</td>\n",
       "      <td>Т.</td>\n",
       "      <td>-</td>\n",
       "      <td>CARDINAL</td>\n",
       "      <td>NaN</td>\n",
       "      <td>пять</td>\n",
       "    </tr>\n",
       "    <tr>\n",
       "      <th>3447995</th>\n",
       "      <td>1257</td>\n",
       "      <td>Агамемнон</td>\n",
       "      <td>;</td>\n",
       "      <td>CARDINAL</td>\n",
       "      <td>NaN</td>\n",
       "      <td>тысяча двести пятьдесят семь</td>\n",
       "    </tr>\n",
       "    <tr>\n",
       "      <th>5394627</th>\n",
       "      <td>1835</td>\n",
       "      <td>.</td>\n",
       "      <td>—</td>\n",
       "      <td>CARDINAL</td>\n",
       "      <td>NaN</td>\n",
       "      <td>тысяча восемьсот тридцать пять</td>\n",
       "    </tr>\n",
       "    <tr>\n",
       "      <th>2158303</th>\n",
       "      <td>1560</td>\n",
       "      <td>—</td>\n",
       "      <td>человек</td>\n",
       "      <td>CARDINAL</td>\n",
       "      <td>NaN</td>\n",
       "      <td>тысяча пятьсот шестьдесят</td>\n",
       "    </tr>\n",
       "    <tr>\n",
       "      <th>38113</th>\n",
       "      <td>3505</td>\n",
       "      <td>Население</td>\n",
       "      <td>человек</td>\n",
       "      <td>CARDINAL</td>\n",
       "      <td>три тысячи пятьсот пять</td>\n",
       "      <td>трех тысяч пятисот пяти</td>\n",
       "    </tr>\n",
       "    <tr>\n",
       "      <th>4161500</th>\n",
       "      <td>1997</td>\n",
       "      <td>,</td>\n",
       "      <td>.</td>\n",
       "      <td>CARDINAL</td>\n",
       "      <td>NaN</td>\n",
       "      <td>тысяча девятьсот девяносто семь</td>\n",
       "    </tr>\n",
       "    <tr>\n",
       "      <th>10214649</th>\n",
       "      <td>1892</td>\n",
       "      <td>,</td>\n",
       "      <td>—</td>\n",
       "      <td>CARDINAL</td>\n",
       "      <td>NaN</td>\n",
       "      <td>тысяча восемьсот девяносто два</td>\n",
       "    </tr>\n",
       "    <tr>\n",
       "      <th>4802424</th>\n",
       "      <td>2008</td>\n",
       "      <td>В</td>\n",
       "      <td>,</td>\n",
       "      <td>CARDINAL</td>\n",
       "      <td>NaN</td>\n",
       "      <td>двух тысячах восьми</td>\n",
       "    </tr>\n",
       "    <tr>\n",
       "      <th>3058277</th>\n",
       "      <td>2500</td>\n",
       "      <td>—</td>\n",
       "      <td>экз</td>\n",
       "      <td>CARDINAL</td>\n",
       "      <td>NaN</td>\n",
       "      <td>две тысячи пятьсот</td>\n",
       "    </tr>\n",
       "    <tr>\n",
       "      <th>4332244</th>\n",
       "      <td>136</td>\n",
       "      <td>.</td>\n",
       "      <td>Городской</td>\n",
       "      <td>CARDINAL</td>\n",
       "      <td>NaN</td>\n",
       "      <td>сто тридцать шесть</td>\n",
       "    </tr>\n",
       "    <tr>\n",
       "      <th>1348405</th>\n",
       "      <td>1999</td>\n",
       "      <td>(</td>\n",
       "      <td>)</td>\n",
       "      <td>CARDINAL</td>\n",
       "      <td>NaN</td>\n",
       "      <td>тысяча девятьсот девяносто девять</td>\n",
       "    </tr>\n",
       "    <tr>\n",
       "      <th>8503620</th>\n",
       "      <td>3</td>\n",
       "      <td>Часть</td>\n",
       "      <td>.</td>\n",
       "      <td>CARDINAL</td>\n",
       "      <td>NaN</td>\n",
       "      <td>три</td>\n",
       "    </tr>\n",
       "    <tr>\n",
       "      <th>9308266</th>\n",
       "      <td>248</td>\n",
       "      <td>P.</td>\n",
       "      <td>.</td>\n",
       "      <td>CARDINAL</td>\n",
       "      <td>NaN</td>\n",
       "      <td>двести сорок восемь</td>\n",
       "    </tr>\n",
       "    <tr>\n",
       "      <th>8524696</th>\n",
       "      <td>26</td>\n",
       "      <td>January</td>\n",
       "      <td>,</td>\n",
       "      <td>CARDINAL</td>\n",
       "      <td>NaN</td>\n",
       "      <td>двадцать шесть</td>\n",
       "    </tr>\n",
       "    <tr>\n",
       "      <th>5339084</th>\n",
       "      <td>3</td>\n",
       "      <td>выпущена</td>\n",
       "      <td>D</td>\n",
       "      <td>CARDINAL</td>\n",
       "      <td>NaN</td>\n",
       "      <td>три</td>\n",
       "    </tr>\n",
       "    <tr>\n",
       "      <th>3971827</th>\n",
       "      <td>100000</td>\n",
       "      <td>:</td>\n",
       "      <td>экз</td>\n",
       "      <td>CARDINAL</td>\n",
       "      <td>NaN</td>\n",
       "      <td>сто тысяч</td>\n",
       "    </tr>\n",
       "    <tr>\n",
       "      <th>10134692</th>\n",
       "      <td>50</td>\n",
       "      <td>,</td>\n",
       "      <td>женщин</td>\n",
       "      <td>CARDINAL</td>\n",
       "      <td>NaN</td>\n",
       "      <td>пятьдесят</td>\n",
       "    </tr>\n",
       "    <tr>\n",
       "      <th>7918970</th>\n",
       "      <td>11</td>\n",
       "      <td>.</td>\n",
       "      <td>(</td>\n",
       "      <td>CARDINAL</td>\n",
       "      <td>NaN</td>\n",
       "      <td>одиннадцать</td>\n",
       "    </tr>\n",
       "    <tr>\n",
       "      <th>3906756</th>\n",
       "      <td>2009</td>\n",
       "      <td>,</td>\n",
       "      <td>.</td>\n",
       "      <td>CARDINAL</td>\n",
       "      <td>NaN</td>\n",
       "      <td>две тысячи девять</td>\n",
       "    </tr>\n",
       "    <tr>\n",
       "      <th>2468056</th>\n",
       "      <td>31</td>\n",
       "      <td>Проверено</td>\n",
       "      <td>March</td>\n",
       "      <td>CARDINAL</td>\n",
       "      <td>NaN</td>\n",
       "      <td>тридцать один</td>\n",
       "    </tr>\n",
       "    <tr>\n",
       "      <th>6448102</th>\n",
       "      <td>8</td>\n",
       "      <td>от</td>\n",
       "      <td>-</td>\n",
       "      <td>CARDINAL</td>\n",
       "      <td>NaN</td>\n",
       "      <td>восьми</td>\n",
       "    </tr>\n",
       "    <tr>\n",
       "      <th>7732267</th>\n",
       "      <td>1973</td>\n",
       "      <td>(</td>\n",
       "      <td>)</td>\n",
       "      <td>CARDINAL</td>\n",
       "      <td>NaN</td>\n",
       "      <td>тысяча девятьсот семьдесят три</td>\n",
       "    </tr>\n",
       "    <tr>\n",
       "      <th>7826619</th>\n",
       "      <td>4</td>\n",
       "      <td>(</td>\n",
       "      <td>November</td>\n",
       "      <td>CARDINAL</td>\n",
       "      <td>NaN</td>\n",
       "      <td>четыре</td>\n",
       "    </tr>\n",
       "    <tr>\n",
       "      <th>7269904</th>\n",
       "      <td>72</td>\n",
       "      <td>I</td>\n",
       "      <td>,</td>\n",
       "      <td>CARDINAL</td>\n",
       "      <td>NaN</td>\n",
       "      <td>семьдесят два</td>\n",
       "    </tr>\n",
       "    <tr>\n",
       "      <th>8575291</th>\n",
       "      <td>118</td>\n",
       "      <td>-</td>\n",
       "      <td>треста</td>\n",
       "      <td>CARDINAL</td>\n",
       "      <td>NaN</td>\n",
       "      <td>сто восемнадцать</td>\n",
       "    </tr>\n",
       "    <tr>\n",
       "      <th>6514054</th>\n",
       "      <td>884</td>\n",
       "      <td>Inge</td>\n",
       "      <td>TIME</td>\n",
       "      <td>CARDINAL</td>\n",
       "      <td>NaN</td>\n",
       "      <td>восемьсот восемьдесят четыре</td>\n",
       "    </tr>\n",
       "    <tr>\n",
       "      <th>1143433</th>\n",
       "      <td>1896</td>\n",
       "      <td>(</td>\n",
       "      <td>)</td>\n",
       "      <td>CARDINAL</td>\n",
       "      <td>NaN</td>\n",
       "      <td>тысяча восемьсот девяносто шесть</td>\n",
       "    </tr>\n",
       "  </tbody>\n",
       "</table>\n",
       "<p>100 rows × 6 columns</p>\n",
       "</div>"
      ]
     },
     "execution_count": 115,
     "metadata": {},
     "output_type": "execute_result"
    }
   ],
   "source": [
    "predicted[(predicted['class']=='CARDINAL') & (predicted['before'] != predicted['after'])].sample(100)"
   ]
  },
  {
   "cell_type": "code",
   "execution_count": 103,
   "metadata": {
    "collapsed": false
   },
   "outputs": [
    {
     "data": {
      "text/html": [
       "<div>\n",
       "<style scoped>\n",
       "    .dataframe tbody tr th:only-of-type {\n",
       "        vertical-align: middle;\n",
       "    }\n",
       "\n",
       "    .dataframe tbody tr th {\n",
       "        vertical-align: top;\n",
       "    }\n",
       "\n",
       "    .dataframe thead th {\n",
       "        text-align: right;\n",
       "    }\n",
       "</style>\n",
       "<table border=\"1\" class=\"dataframe\">\n",
       "  <thead>\n",
       "    <tr style=\"text-align: right;\">\n",
       "      <th></th>\n",
       "      <th>class</th>\n",
       "      <th>before</th>\n",
       "      <th>after</th>\n",
       "      <th>prev</th>\n",
       "      <th>next</th>\n",
       "    </tr>\n",
       "  </thead>\n",
       "  <tbody>\n",
       "    <tr>\n",
       "      <th>40420</th>\n",
       "      <td>FRACTION</td>\n",
       "      <td>7½</td>\n",
       "      <td>семи целых и одной второй</td>\n",
       "      <td>около</td>\n",
       "      <td>фунтов</td>\n",
       "    </tr>\n",
       "    <tr>\n",
       "      <th>157446</th>\n",
       "      <td>FRACTION</td>\n",
       "      <td>3½</td>\n",
       "      <td>три целых и одну вторую</td>\n",
       "      <td>на</td>\n",
       "      <td>очка</td>\n",
       "    </tr>\n",
       "    <tr>\n",
       "      <th>445580</th>\n",
       "      <td>FRACTION</td>\n",
       "      <td>59½</td>\n",
       "      <td>пятидесяти девяти целых и одной второй</td>\n",
       "      <td>139 976 рублей</td>\n",
       "      <td>копейки</td>\n",
       "    </tr>\n",
       "    <tr>\n",
       "      <th>765884</th>\n",
       "      <td>FRACTION</td>\n",
       "      <td>¼</td>\n",
       "      <td>одна четвертая</td>\n",
       "      <td>Второй</td>\n",
       "      <td>финалДата</td>\n",
       "    </tr>\n",
       "    <tr>\n",
       "      <th>803808</th>\n",
       "      <td>FRACTION</td>\n",
       "      <td>½</td>\n",
       "      <td>одна вторая</td>\n",
       "      <td>номиналом</td>\n",
       "      <td>шиллинга</td>\n",
       "    </tr>\n",
       "    <tr>\n",
       "      <th>999135</th>\n",
       "      <td>FRACTION</td>\n",
       "      <td>⅔</td>\n",
       "      <td>две третьих</td>\n",
       "      <td>на</td>\n",
       "      <td>территории</td>\n",
       "    </tr>\n",
       "    <tr>\n",
       "      <th>1253476</th>\n",
       "      <td>FRACTION</td>\n",
       "      <td>½</td>\n",
       "      <td>одна вторая</td>\n",
       "      <td>CrA</td>\n",
       "      <td>gut</td>\n",
       "    </tr>\n",
       "    <tr>\n",
       "      <th>1584453</th>\n",
       "      <td>FRACTION</td>\n",
       "      <td>8½</td>\n",
       "      <td>восемь целых и одна вторая</td>\n",
       "      <td>«</td>\n",
       "      <td>женщин</td>\n",
       "    </tr>\n",
       "    <tr>\n",
       "      <th>1584466</th>\n",
       "      <td>FRACTION</td>\n",
       "      <td>8½</td>\n",
       "      <td>восемь целых и одна вторая</td>\n",
       "      <td>.</td>\n",
       "      <td>Women</td>\n",
       "    </tr>\n",
       "    <tr>\n",
       "      <th>1876892</th>\n",
       "      <td>FRACTION</td>\n",
       "      <td>½</td>\n",
       "      <td>одна вторая</td>\n",
       "      <td>в</td>\n",
       "      <td>,</td>\n",
       "    </tr>\n",
       "    <tr>\n",
       "      <th>1876899</th>\n",
       "      <td>FRACTION</td>\n",
       "      <td>¼</td>\n",
       "      <td>одна четвертая</td>\n",
       "      <td>и</td>\n",
       "      <td>и</td>\n",
       "    </tr>\n",
       "    <tr>\n",
       "      <th>1876901</th>\n",
       "      <td>FRACTION</td>\n",
       "      <td>½</td>\n",
       "      <td>одна вторая</td>\n",
       "      <td>и</td>\n",
       "      <td>рупий</td>\n",
       "    </tr>\n",
       "    <tr>\n",
       "      <th>1921150</th>\n",
       "      <td>FRACTION</td>\n",
       "      <td>5 ½</td>\n",
       "      <td>пять целых и одна вторая</td>\n",
       "      <td>—</td>\n",
       "      <td>обеж</td>\n",
       "    </tr>\n",
       "    <tr>\n",
       "      <th>1949935</th>\n",
       "      <td>FRACTION</td>\n",
       "      <td>½</td>\n",
       "      <td>одна вторая</td>\n",
       "      <td>ничью</td>\n",
       "      <td>очка</td>\n",
       "    </tr>\n",
       "    <tr>\n",
       "      <th>2023480</th>\n",
       "      <td>FRACTION</td>\n",
       "      <td>½</td>\n",
       "      <td>одна вторая</td>\n",
       "      <td>состояло</td>\n",
       "      <td>дес</td>\n",
       "    </tr>\n",
       "    <tr>\n",
       "      <th>2023485</th>\n",
       "      <td>FRACTION</td>\n",
       "      <td>2 ¾</td>\n",
       "      <td>две целых и три четвертых</td>\n",
       "      <td>усадебной</td>\n",
       "      <td>дес</td>\n",
       "    </tr>\n",
       "    <tr>\n",
       "      <th>2271189</th>\n",
       "      <td>FRACTION</td>\n",
       "      <td>282½</td>\n",
       "      <td>двумястами восьмьюдесятью двумя целыми и одной...</td>\n",
       "      <td>выпущено</td>\n",
       "      <td>тысяч</td>\n",
       "    </tr>\n",
       "    <tr>\n",
       "      <th>2315287</th>\n",
       "      <td>FRACTION</td>\n",
       "      <td>6½</td>\n",
       "      <td>шесть целых и одну вторую</td>\n",
       "      <td>набрав</td>\n",
       "      <td>очков</td>\n",
       "    </tr>\n",
       "    <tr>\n",
       "      <th>2496593</th>\n",
       "      <td>FRACTION</td>\n",
       "      <td>8½</td>\n",
       "      <td>восемь целых и одна вторая</td>\n",
       "      <td>матча</td>\n",
       "      <td>:</td>\n",
       "    </tr>\n",
       "    <tr>\n",
       "      <th>2496595</th>\n",
       "      <td>FRACTION</td>\n",
       "      <td>3½</td>\n",
       "      <td>три целых и одна вторая</td>\n",
       "      <td>:</td>\n",
       "      <td>в</td>\n",
       "    </tr>\n",
       "    <tr>\n",
       "      <th>2812456</th>\n",
       "      <td>FRACTION</td>\n",
       "      <td>2½</td>\n",
       "      <td>две целых и одну вторую</td>\n",
       "      <td>на</td>\n",
       "      <td>тысячи</td>\n",
       "    </tr>\n",
       "    <tr>\n",
       "      <th>3172820</th>\n",
       "      <td>FRACTION</td>\n",
       "      <td>¾</td>\n",
       "      <td>три четвертых</td>\n",
       "      <td>в</td>\n",
       "      <td>от</td>\n",
       "    </tr>\n",
       "    <tr>\n",
       "      <th>3220263</th>\n",
       "      <td>FRACTION</td>\n",
       "      <td>2½</td>\n",
       "      <td>две целых и одна вторая</td>\n",
       "      <td>—</td>\n",
       "      <td>:</td>\n",
       "    </tr>\n",
       "    <tr>\n",
       "      <th>3220265</th>\n",
       "      <td>FRACTION</td>\n",
       "      <td>1½</td>\n",
       "      <td>одна целая и одна вторая</td>\n",
       "      <td>:</td>\n",
       "      <td>.</td>\n",
       "    </tr>\n",
       "    <tr>\n",
       "      <th>3250501</th>\n",
       "      <td>FRACTION</td>\n",
       "      <td>1 ½</td>\n",
       "      <td>одна целая и одна вторая</td>\n",
       "      <td>.</td>\n",
       "      <td>роты</td>\n",
       "    </tr>\n",
       "    <tr>\n",
       "      <th>3395752</th>\n",
       "      <td>FRACTION</td>\n",
       "      <td>½</td>\n",
       "      <td>одна вторая</td>\n",
       "      <td>Более</td>\n",
       "      <td>валовой</td>\n",
       "    </tr>\n",
       "    <tr>\n",
       "      <th>3417776</th>\n",
       "      <td>FRACTION</td>\n",
       "      <td>3½</td>\n",
       "      <td>три целых и одна вторая</td>\n",
       "      <td>счетом</td>\n",
       "      <td>:</td>\n",
       "    </tr>\n",
       "    <tr>\n",
       "      <th>3417778</th>\n",
       "      <td>FRACTION</td>\n",
       "      <td>2½</td>\n",
       "      <td>две целых и одна вторая</td>\n",
       "      <td>:</td>\n",
       "      <td>и</td>\n",
       "    </tr>\n",
       "    <tr>\n",
       "      <th>3478079</th>\n",
       "      <td>FRACTION</td>\n",
       "      <td>¼</td>\n",
       "      <td>одна четвертая</td>\n",
       "      <td>в</td>\n",
       "      <td>финала</td>\n",
       "    </tr>\n",
       "    <tr>\n",
       "      <th>3488898</th>\n",
       "      <td>FRACTION</td>\n",
       "      <td>¾</td>\n",
       "      <td>три четвертых</td>\n",
       "      <td>~</td>\n",
       "      <td>)</td>\n",
       "    </tr>\n",
       "    <tr>\n",
       "      <th>...</th>\n",
       "      <td>...</td>\n",
       "      <td>...</td>\n",
       "      <td>...</td>\n",
       "      <td>...</td>\n",
       "      <td>...</td>\n",
       "    </tr>\n",
       "    <tr>\n",
       "      <th>5646924</th>\n",
       "      <td>FRACTION</td>\n",
       "      <td>10½</td>\n",
       "      <td>десяти целых и одной второй</td>\n",
       "      <td>в</td>\n",
       "      <td>главах</td>\n",
       "    </tr>\n",
       "    <tr>\n",
       "      <th>5710816</th>\n",
       "      <td>FRACTION</td>\n",
       "      <td>6½</td>\n",
       "      <td>шесть целых и одна вторая</td>\n",
       "      <td>(</td>\n",
       "      <td>:</td>\n",
       "    </tr>\n",
       "    <tr>\n",
       "      <th>5710818</th>\n",
       "      <td>FRACTION</td>\n",
       "      <td>4½</td>\n",
       "      <td>четыре целых и одна вторая</td>\n",
       "      <td>:</td>\n",
       "      <td>)</td>\n",
       "    </tr>\n",
       "    <tr>\n",
       "      <th>5743241</th>\n",
       "      <td>FRACTION</td>\n",
       "      <td>2½</td>\n",
       "      <td>двух целых и одной второй</td>\n",
       "      <td>и</td>\n",
       "      <td>года</td>\n",
       "    </tr>\n",
       "    <tr>\n",
       "      <th>6011771</th>\n",
       "      <td>FRACTION</td>\n",
       "      <td>4 ½</td>\n",
       "      <td>четыре целых и одну вторую</td>\n",
       "      <td>Invicta</td>\n",
       "      <td>litre</td>\n",
       "    </tr>\n",
       "    <tr>\n",
       "      <th>6260409</th>\n",
       "      <td>FRACTION</td>\n",
       "      <td>1¼</td>\n",
       "      <td>одной целой и одной четвертой</td>\n",
       "      <td>до</td>\n",
       "      <td>аршина</td>\n",
       "    </tr>\n",
       "    <tr>\n",
       "      <th>6452616</th>\n",
       "      <td>FRACTION</td>\n",
       "      <td>9½</td>\n",
       "      <td>девять целых и одна вторая</td>\n",
       "      <td>по</td>\n",
       "      <td>.</td>\n",
       "    </tr>\n",
       "    <tr>\n",
       "      <th>6800651</th>\n",
       "      <td>FRACTION</td>\n",
       "      <td>½</td>\n",
       "      <td>одна вторая</td>\n",
       "      <td>Ранма</td>\n",
       "      <td>»</td>\n",
       "    </tr>\n",
       "    <tr>\n",
       "      <th>7253139</th>\n",
       "      <td>FRACTION</td>\n",
       "      <td>10½</td>\n",
       "      <td>десять целых и одну вторую</td>\n",
       "      <td>по</td>\n",
       "      <td>очков</td>\n",
       "    </tr>\n",
       "    <tr>\n",
       "      <th>7612900</th>\n",
       "      <td>FRACTION</td>\n",
       "      <td>⅔</td>\n",
       "      <td>две третьих</td>\n",
       "      <td>ленивца</td>\n",
       "      <td>веса</td>\n",
       "    </tr>\n",
       "    <tr>\n",
       "      <th>8033344</th>\n",
       "      <td>FRACTION</td>\n",
       "      <td>5¼</td>\n",
       "      <td>пятью целыми и одной четвертой</td>\n",
       "      <td>двусторонними</td>\n",
       "      <td>дюймовыми</td>\n",
       "    </tr>\n",
       "    <tr>\n",
       "      <th>8259581</th>\n",
       "      <td>FRACTION</td>\n",
       "      <td>8½</td>\n",
       "      <td>восьми целым и одной второй</td>\n",
       "      <td>по</td>\n",
       "      <td>очков</td>\n",
       "    </tr>\n",
       "    <tr>\n",
       "      <th>8283325</th>\n",
       "      <td>FRACTION</td>\n",
       "      <td>2½</td>\n",
       "      <td>две целых и одна вторая</td>\n",
       "      <td>—</td>\n",
       "      <td>:</td>\n",
       "    </tr>\n",
       "    <tr>\n",
       "      <th>8283327</th>\n",
       "      <td>FRACTION</td>\n",
       "      <td>1½</td>\n",
       "      <td>одна целая и одна вторая</td>\n",
       "      <td>:</td>\n",
       "      <td>.</td>\n",
       "    </tr>\n",
       "    <tr>\n",
       "      <th>8317226</th>\n",
       "      <td>FRACTION</td>\n",
       "      <td>¼</td>\n",
       "      <td>одна четвертая</td>\n",
       "      <td>занимавшая</td>\n",
       "      <td>часть</td>\n",
       "    </tr>\n",
       "    <tr>\n",
       "      <th>8355301</th>\n",
       "      <td>FRACTION</td>\n",
       "      <td>6½</td>\n",
       "      <td>шесть целых и одну вторую</td>\n",
       "      <td>набрал</td>\n",
       "      <td>очков</td>\n",
       "    </tr>\n",
       "    <tr>\n",
       "      <th>8457757</th>\n",
       "      <td>FRACTION</td>\n",
       "      <td>½</td>\n",
       "      <td>одна вторая</td>\n",
       "      <td>находилась</td>\n",
       "      <td>германской</td>\n",
       "    </tr>\n",
       "    <tr>\n",
       "      <th>8627416</th>\n",
       "      <td>FRACTION</td>\n",
       "      <td>⅔</td>\n",
       "      <td>двух третьих</td>\n",
       "      <td>более</td>\n",
       "      <td>)</td>\n",
       "    </tr>\n",
       "    <tr>\n",
       "      <th>8717346</th>\n",
       "      <td>FRACTION</td>\n",
       "      <td>¼</td>\n",
       "      <td>одна четвертая</td>\n",
       "      <td>составлял</td>\n",
       "      <td>рупии</td>\n",
       "    </tr>\n",
       "    <tr>\n",
       "      <th>8737281</th>\n",
       "      <td>FRACTION</td>\n",
       "      <td>3 ½</td>\n",
       "      <td>три целых и одна вторая</td>\n",
       "      <td>—</td>\n",
       "      <td>октавы</td>\n",
       "    </tr>\n",
       "    <tr>\n",
       "      <th>8984892</th>\n",
       "      <td>FRACTION</td>\n",
       "      <td>½</td>\n",
       "      <td>одной второй</td>\n",
       "      <td>от</td>\n",
       "      <td>-</td>\n",
       "    </tr>\n",
       "    <tr>\n",
       "      <th>8984894</th>\n",
       "      <td>FRACTION</td>\n",
       "      <td>¾</td>\n",
       "      <td>трех четвертых</td>\n",
       "      <td>-</td>\n",
       "      <td>мм</td>\n",
       "    </tr>\n",
       "    <tr>\n",
       "      <th>9080276</th>\n",
       "      <td>FRACTION</td>\n",
       "      <td>9½</td>\n",
       "      <td>девять целых и одна вторая</td>\n",
       "      <td>по</td>\n",
       "      <td>.</td>\n",
       "    </tr>\n",
       "    <tr>\n",
       "      <th>9080375</th>\n",
       "      <td>FRACTION</td>\n",
       "      <td>10½</td>\n",
       "      <td>десять целых и одна вторая</td>\n",
       "      <td>—</td>\n",
       "      <td>.</td>\n",
       "    </tr>\n",
       "    <tr>\n",
       "      <th>9083227</th>\n",
       "      <td>FRACTION</td>\n",
       "      <td>3½</td>\n",
       "      <td>три целых и одна вторая</td>\n",
       "      <td>—</td>\n",
       "      <td>;</td>\n",
       "    </tr>\n",
       "    <tr>\n",
       "      <th>9768976</th>\n",
       "      <td>FRACTION</td>\n",
       "      <td>2½</td>\n",
       "      <td>две целых и одна вторая</td>\n",
       "      <td>«</td>\n",
       "      <td>часа</td>\n",
       "    </tr>\n",
       "    <tr>\n",
       "      <th>9918776</th>\n",
       "      <td>FRACTION</td>\n",
       "      <td>9 ¾</td>\n",
       "      <td>девять целых и три четвертых</td>\n",
       "      <td>платформы</td>\n",
       "      <td>.</td>\n",
       "    </tr>\n",
       "    <tr>\n",
       "      <th>9921668</th>\n",
       "      <td>FRACTION</td>\n",
       "      <td>¾</td>\n",
       "      <td>три четвертых</td>\n",
       "      <td>занимали</td>\n",
       "      <td>длины</td>\n",
       "    </tr>\n",
       "    <tr>\n",
       "      <th>10013235</th>\n",
       "      <td>FRACTION</td>\n",
       "      <td>½</td>\n",
       "      <td>одна вторая</td>\n",
       "      <td>равная</td>\n",
       "      <td>асса</td>\n",
       "    </tr>\n",
       "    <tr>\n",
       "      <th>10277345</th>\n",
       "      <td>FRACTION</td>\n",
       "      <td>6¾</td>\n",
       "      <td>шесть целых и три четвертых</td>\n",
       "      <td>диска</td>\n",
       "      <td>'</td>\n",
       "    </tr>\n",
       "  </tbody>\n",
       "</table>\n",
       "<p>75 rows × 5 columns</p>\n",
       "</div>"
      ],
      "text/plain": [
       "<div>\n",
       "<style scoped>\n",
       "    .dataframe tbody tr th:only-of-type {\n",
       "        vertical-align: middle;\n",
       "    }\n",
       "\n",
       "    .dataframe tbody tr th {\n",
       "        vertical-align: top;\n",
       "    }\n",
       "\n",
       "    .dataframe thead th {\n",
       "        text-align: right;\n",
       "    }\n",
       "</style>\n",
       "<table border=\"1\" class=\"dataframe\">\n",
       "  <thead>\n",
       "    <tr style=\"text-align: right;\">\n",
       "      <th></th>\n",
       "      <th>class</th>\n",
       "      <th>before</th>\n",
       "      <th>after</th>\n",
       "      <th>prev</th>\n",
       "      <th>next</th>\n",
       "    </tr>\n",
       "  </thead>\n",
       "  <tbody>\n",
       "    <tr>\n",
       "      <th>40420</th>\n",
       "      <td>FRACTION</td>\n",
       "      <td>7½</td>\n",
       "      <td>семи целых и одной второй</td>\n",
       "      <td>около</td>\n",
       "      <td>фунтов</td>\n",
       "    </tr>\n",
       "    <tr>\n",
       "      <th>157446</th>\n",
       "      <td>FRACTION</td>\n",
       "      <td>3½</td>\n",
       "      <td>три целых и одну вторую</td>\n",
       "      <td>на</td>\n",
       "      <td>очка</td>\n",
       "    </tr>\n",
       "    <tr>\n",
       "      <th>445580</th>\n",
       "      <td>FRACTION</td>\n",
       "      <td>59½</td>\n",
       "      <td>пятидесяти девяти целых и одной второй</td>\n",
       "      <td>139 976 рублей</td>\n",
       "      <td>копейки</td>\n",
       "    </tr>\n",
       "    <tr>\n",
       "      <th>765884</th>\n",
       "      <td>FRACTION</td>\n",
       "      <td>¼</td>\n",
       "      <td>одна четвертая</td>\n",
       "      <td>Второй</td>\n",
       "      <td>финалДата</td>\n",
       "    </tr>\n",
       "    <tr>\n",
       "      <th>803808</th>\n",
       "      <td>FRACTION</td>\n",
       "      <td>½</td>\n",
       "      <td>одна вторая</td>\n",
       "      <td>номиналом</td>\n",
       "      <td>шиллинга</td>\n",
       "    </tr>\n",
       "    <tr>\n",
       "      <th>999135</th>\n",
       "      <td>FRACTION</td>\n",
       "      <td>⅔</td>\n",
       "      <td>две третьих</td>\n",
       "      <td>на</td>\n",
       "      <td>территории</td>\n",
       "    </tr>\n",
       "    <tr>\n",
       "      <th>1253476</th>\n",
       "      <td>FRACTION</td>\n",
       "      <td>½</td>\n",
       "      <td>одна вторая</td>\n",
       "      <td>CrA</td>\n",
       "      <td>gut</td>\n",
       "    </tr>\n",
       "    <tr>\n",
       "      <th>1584453</th>\n",
       "      <td>FRACTION</td>\n",
       "      <td>8½</td>\n",
       "      <td>восемь целых и одна вторая</td>\n",
       "      <td>«</td>\n",
       "      <td>женщин</td>\n",
       "    </tr>\n",
       "    <tr>\n",
       "      <th>1584466</th>\n",
       "      <td>FRACTION</td>\n",
       "      <td>8½</td>\n",
       "      <td>восемь целых и одна вторая</td>\n",
       "      <td>.</td>\n",
       "      <td>Women</td>\n",
       "    </tr>\n",
       "    <tr>\n",
       "      <th>1876892</th>\n",
       "      <td>FRACTION</td>\n",
       "      <td>½</td>\n",
       "      <td>одна вторая</td>\n",
       "      <td>в</td>\n",
       "      <td>,</td>\n",
       "    </tr>\n",
       "    <tr>\n",
       "      <th>1876899</th>\n",
       "      <td>FRACTION</td>\n",
       "      <td>¼</td>\n",
       "      <td>одна четвертая</td>\n",
       "      <td>и</td>\n",
       "      <td>и</td>\n",
       "    </tr>\n",
       "    <tr>\n",
       "      <th>1876901</th>\n",
       "      <td>FRACTION</td>\n",
       "      <td>½</td>\n",
       "      <td>одна вторая</td>\n",
       "      <td>и</td>\n",
       "      <td>рупий</td>\n",
       "    </tr>\n",
       "    <tr>\n",
       "      <th>1921150</th>\n",
       "      <td>FRACTION</td>\n",
       "      <td>5 ½</td>\n",
       "      <td>пять целых и одна вторая</td>\n",
       "      <td>—</td>\n",
       "      <td>обеж</td>\n",
       "    </tr>\n",
       "    <tr>\n",
       "      <th>1949935</th>\n",
       "      <td>FRACTION</td>\n",
       "      <td>½</td>\n",
       "      <td>одна вторая</td>\n",
       "      <td>ничью</td>\n",
       "      <td>очка</td>\n",
       "    </tr>\n",
       "    <tr>\n",
       "      <th>2023480</th>\n",
       "      <td>FRACTION</td>\n",
       "      <td>½</td>\n",
       "      <td>одна вторая</td>\n",
       "      <td>состояло</td>\n",
       "      <td>дес</td>\n",
       "    </tr>\n",
       "    <tr>\n",
       "      <th>2023485</th>\n",
       "      <td>FRACTION</td>\n",
       "      <td>2 ¾</td>\n",
       "      <td>две целых и три четвертых</td>\n",
       "      <td>усадебной</td>\n",
       "      <td>дес</td>\n",
       "    </tr>\n",
       "    <tr>\n",
       "      <th>2271189</th>\n",
       "      <td>FRACTION</td>\n",
       "      <td>282½</td>\n",
       "      <td>двумястами восьмьюдесятью двумя целыми и одной...</td>\n",
       "      <td>выпущено</td>\n",
       "      <td>тысяч</td>\n",
       "    </tr>\n",
       "    <tr>\n",
       "      <th>2315287</th>\n",
       "      <td>FRACTION</td>\n",
       "      <td>6½</td>\n",
       "      <td>шесть целых и одну вторую</td>\n",
       "      <td>набрав</td>\n",
       "      <td>очков</td>\n",
       "    </tr>\n",
       "    <tr>\n",
       "      <th>2496593</th>\n",
       "      <td>FRACTION</td>\n",
       "      <td>8½</td>\n",
       "      <td>восемь целых и одна вторая</td>\n",
       "      <td>матча</td>\n",
       "      <td>:</td>\n",
       "    </tr>\n",
       "    <tr>\n",
       "      <th>2496595</th>\n",
       "      <td>FRACTION</td>\n",
       "      <td>3½</td>\n",
       "      <td>три целых и одна вторая</td>\n",
       "      <td>:</td>\n",
       "      <td>в</td>\n",
       "    </tr>\n",
       "    <tr>\n",
       "      <th>2812456</th>\n",
       "      <td>FRACTION</td>\n",
       "      <td>2½</td>\n",
       "      <td>две целых и одну вторую</td>\n",
       "      <td>на</td>\n",
       "      <td>тысячи</td>\n",
       "    </tr>\n",
       "    <tr>\n",
       "      <th>3172820</th>\n",
       "      <td>FRACTION</td>\n",
       "      <td>¾</td>\n",
       "      <td>три четвертых</td>\n",
       "      <td>в</td>\n",
       "      <td>от</td>\n",
       "    </tr>\n",
       "    <tr>\n",
       "      <th>3220263</th>\n",
       "      <td>FRACTION</td>\n",
       "      <td>2½</td>\n",
       "      <td>две целых и одна вторая</td>\n",
       "      <td>—</td>\n",
       "      <td>:</td>\n",
       "    </tr>\n",
       "    <tr>\n",
       "      <th>3220265</th>\n",
       "      <td>FRACTION</td>\n",
       "      <td>1½</td>\n",
       "      <td>одна целая и одна вторая</td>\n",
       "      <td>:</td>\n",
       "      <td>.</td>\n",
       "    </tr>\n",
       "    <tr>\n",
       "      <th>3250501</th>\n",
       "      <td>FRACTION</td>\n",
       "      <td>1 ½</td>\n",
       "      <td>одна целая и одна вторая</td>\n",
       "      <td>.</td>\n",
       "      <td>роты</td>\n",
       "    </tr>\n",
       "    <tr>\n",
       "      <th>3395752</th>\n",
       "      <td>FRACTION</td>\n",
       "      <td>½</td>\n",
       "      <td>одна вторая</td>\n",
       "      <td>Более</td>\n",
       "      <td>валовой</td>\n",
       "    </tr>\n",
       "    <tr>\n",
       "      <th>3417776</th>\n",
       "      <td>FRACTION</td>\n",
       "      <td>3½</td>\n",
       "      <td>три целых и одна вторая</td>\n",
       "      <td>счетом</td>\n",
       "      <td>:</td>\n",
       "    </tr>\n",
       "    <tr>\n",
       "      <th>3417778</th>\n",
       "      <td>FRACTION</td>\n",
       "      <td>2½</td>\n",
       "      <td>две целых и одна вторая</td>\n",
       "      <td>:</td>\n",
       "      <td>и</td>\n",
       "    </tr>\n",
       "    <tr>\n",
       "      <th>3478079</th>\n",
       "      <td>FRACTION</td>\n",
       "      <td>¼</td>\n",
       "      <td>одна четвертая</td>\n",
       "      <td>в</td>\n",
       "      <td>финала</td>\n",
       "    </tr>\n",
       "    <tr>\n",
       "      <th>3488898</th>\n",
       "      <td>FRACTION</td>\n",
       "      <td>¾</td>\n",
       "      <td>три четвертых</td>\n",
       "      <td>~</td>\n",
       "      <td>)</td>\n",
       "    </tr>\n",
       "    <tr>\n",
       "      <th>...</th>\n",
       "      <td>...</td>\n",
       "      <td>...</td>\n",
       "      <td>...</td>\n",
       "      <td>...</td>\n",
       "      <td>...</td>\n",
       "    </tr>\n",
       "    <tr>\n",
       "      <th>5646924</th>\n",
       "      <td>FRACTION</td>\n",
       "      <td>10½</td>\n",
       "      <td>десяти целых и одной второй</td>\n",
       "      <td>в</td>\n",
       "      <td>главах</td>\n",
       "    </tr>\n",
       "    <tr>\n",
       "      <th>5710816</th>\n",
       "      <td>FRACTION</td>\n",
       "      <td>6½</td>\n",
       "      <td>шесть целых и одна вторая</td>\n",
       "      <td>(</td>\n",
       "      <td>:</td>\n",
       "    </tr>\n",
       "    <tr>\n",
       "      <th>5710818</th>\n",
       "      <td>FRACTION</td>\n",
       "      <td>4½</td>\n",
       "      <td>четыре целых и одна вторая</td>\n",
       "      <td>:</td>\n",
       "      <td>)</td>\n",
       "    </tr>\n",
       "    <tr>\n",
       "      <th>5743241</th>\n",
       "      <td>FRACTION</td>\n",
       "      <td>2½</td>\n",
       "      <td>двух целых и одной второй</td>\n",
       "      <td>и</td>\n",
       "      <td>года</td>\n",
       "    </tr>\n",
       "    <tr>\n",
       "      <th>6011771</th>\n",
       "      <td>FRACTION</td>\n",
       "      <td>4 ½</td>\n",
       "      <td>четыре целых и одну вторую</td>\n",
       "      <td>Invicta</td>\n",
       "      <td>litre</td>\n",
       "    </tr>\n",
       "    <tr>\n",
       "      <th>6260409</th>\n",
       "      <td>FRACTION</td>\n",
       "      <td>1¼</td>\n",
       "      <td>одной целой и одной четвертой</td>\n",
       "      <td>до</td>\n",
       "      <td>аршина</td>\n",
       "    </tr>\n",
       "    <tr>\n",
       "      <th>6452616</th>\n",
       "      <td>FRACTION</td>\n",
       "      <td>9½</td>\n",
       "      <td>девять целых и одна вторая</td>\n",
       "      <td>по</td>\n",
       "      <td>.</td>\n",
       "    </tr>\n",
       "    <tr>\n",
       "      <th>6800651</th>\n",
       "      <td>FRACTION</td>\n",
       "      <td>½</td>\n",
       "      <td>одна вторая</td>\n",
       "      <td>Ранма</td>\n",
       "      <td>»</td>\n",
       "    </tr>\n",
       "    <tr>\n",
       "      <th>7253139</th>\n",
       "      <td>FRACTION</td>\n",
       "      <td>10½</td>\n",
       "      <td>десять целых и одну вторую</td>\n",
       "      <td>по</td>\n",
       "      <td>очков</td>\n",
       "    </tr>\n",
       "    <tr>\n",
       "      <th>7612900</th>\n",
       "      <td>FRACTION</td>\n",
       "      <td>⅔</td>\n",
       "      <td>две третьих</td>\n",
       "      <td>ленивца</td>\n",
       "      <td>веса</td>\n",
       "    </tr>\n",
       "    <tr>\n",
       "      <th>8033344</th>\n",
       "      <td>FRACTION</td>\n",
       "      <td>5¼</td>\n",
       "      <td>пятью целыми и одной четвертой</td>\n",
       "      <td>двусторонними</td>\n",
       "      <td>дюймовыми</td>\n",
       "    </tr>\n",
       "    <tr>\n",
       "      <th>8259581</th>\n",
       "      <td>FRACTION</td>\n",
       "      <td>8½</td>\n",
       "      <td>восьми целым и одной второй</td>\n",
       "      <td>по</td>\n",
       "      <td>очков</td>\n",
       "    </tr>\n",
       "    <tr>\n",
       "      <th>8283325</th>\n",
       "      <td>FRACTION</td>\n",
       "      <td>2½</td>\n",
       "      <td>две целых и одна вторая</td>\n",
       "      <td>—</td>\n",
       "      <td>:</td>\n",
       "    </tr>\n",
       "    <tr>\n",
       "      <th>8283327</th>\n",
       "      <td>FRACTION</td>\n",
       "      <td>1½</td>\n",
       "      <td>одна целая и одна вторая</td>\n",
       "      <td>:</td>\n",
       "      <td>.</td>\n",
       "    </tr>\n",
       "    <tr>\n",
       "      <th>8317226</th>\n",
       "      <td>FRACTION</td>\n",
       "      <td>¼</td>\n",
       "      <td>одна четвертая</td>\n",
       "      <td>занимавшая</td>\n",
       "      <td>часть</td>\n",
       "    </tr>\n",
       "    <tr>\n",
       "      <th>8355301</th>\n",
       "      <td>FRACTION</td>\n",
       "      <td>6½</td>\n",
       "      <td>шесть целых и одну вторую</td>\n",
       "      <td>набрал</td>\n",
       "      <td>очков</td>\n",
       "    </tr>\n",
       "    <tr>\n",
       "      <th>8457757</th>\n",
       "      <td>FRACTION</td>\n",
       "      <td>½</td>\n",
       "      <td>одна вторая</td>\n",
       "      <td>находилась</td>\n",
       "      <td>германской</td>\n",
       "    </tr>\n",
       "    <tr>\n",
       "      <th>8627416</th>\n",
       "      <td>FRACTION</td>\n",
       "      <td>⅔</td>\n",
       "      <td>двух третьих</td>\n",
       "      <td>более</td>\n",
       "      <td>)</td>\n",
       "    </tr>\n",
       "    <tr>\n",
       "      <th>8717346</th>\n",
       "      <td>FRACTION</td>\n",
       "      <td>¼</td>\n",
       "      <td>одна четвертая</td>\n",
       "      <td>составлял</td>\n",
       "      <td>рупии</td>\n",
       "    </tr>\n",
       "    <tr>\n",
       "      <th>8737281</th>\n",
       "      <td>FRACTION</td>\n",
       "      <td>3 ½</td>\n",
       "      <td>три целых и одна вторая</td>\n",
       "      <td>—</td>\n",
       "      <td>октавы</td>\n",
       "    </tr>\n",
       "    <tr>\n",
       "      <th>8984892</th>\n",
       "      <td>FRACTION</td>\n",
       "      <td>½</td>\n",
       "      <td>одной второй</td>\n",
       "      <td>от</td>\n",
       "      <td>-</td>\n",
       "    </tr>\n",
       "    <tr>\n",
       "      <th>8984894</th>\n",
       "      <td>FRACTION</td>\n",
       "      <td>¾</td>\n",
       "      <td>трех четвертых</td>\n",
       "      <td>-</td>\n",
       "      <td>мм</td>\n",
       "    </tr>\n",
       "    <tr>\n",
       "      <th>9080276</th>\n",
       "      <td>FRACTION</td>\n",
       "      <td>9½</td>\n",
       "      <td>девять целых и одна вторая</td>\n",
       "      <td>по</td>\n",
       "      <td>.</td>\n",
       "    </tr>\n",
       "    <tr>\n",
       "      <th>9080375</th>\n",
       "      <td>FRACTION</td>\n",
       "      <td>10½</td>\n",
       "      <td>десять целых и одна вторая</td>\n",
       "      <td>—</td>\n",
       "      <td>.</td>\n",
       "    </tr>\n",
       "    <tr>\n",
       "      <th>9083227</th>\n",
       "      <td>FRACTION</td>\n",
       "      <td>3½</td>\n",
       "      <td>три целых и одна вторая</td>\n",
       "      <td>—</td>\n",
       "      <td>;</td>\n",
       "    </tr>\n",
       "    <tr>\n",
       "      <th>9768976</th>\n",
       "      <td>FRACTION</td>\n",
       "      <td>2½</td>\n",
       "      <td>две целых и одна вторая</td>\n",
       "      <td>«</td>\n",
       "      <td>часа</td>\n",
       "    </tr>\n",
       "    <tr>\n",
       "      <th>9918776</th>\n",
       "      <td>FRACTION</td>\n",
       "      <td>9 ¾</td>\n",
       "      <td>девять целых и три четвертых</td>\n",
       "      <td>платформы</td>\n",
       "      <td>.</td>\n",
       "    </tr>\n",
       "    <tr>\n",
       "      <th>9921668</th>\n",
       "      <td>FRACTION</td>\n",
       "      <td>¾</td>\n",
       "      <td>три четвертых</td>\n",
       "      <td>занимали</td>\n",
       "      <td>длины</td>\n",
       "    </tr>\n",
       "    <tr>\n",
       "      <th>10013235</th>\n",
       "      <td>FRACTION</td>\n",
       "      <td>½</td>\n",
       "      <td>одна вторая</td>\n",
       "      <td>равная</td>\n",
       "      <td>асса</td>\n",
       "    </tr>\n",
       "    <tr>\n",
       "      <th>10277345</th>\n",
       "      <td>FRACTION</td>\n",
       "      <td>6¾</td>\n",
       "      <td>шесть целых и три четвертых</td>\n",
       "      <td>диска</td>\n",
       "      <td>'</td>\n",
       "    </tr>\n",
       "  </tbody>\n",
       "</table>\n",
       "<p>75 rows × 5 columns</p>\n",
       "</div>"
      ]
     },
     "execution_count": 102,
     "metadata": {},
     "output_type": "execute_result"
    }
   ],
   "source": [
    "df[~(df['before'].str.match('^-?\\d*\\s?\\d*\\s?\\/\\s?\\d+\\s?\\d*$')) & (df['class'] == 'FRACTION')]"
   ]
  },
  {
   "cell_type": "code",
   "execution_count": 30,
   "metadata": {},
   "outputs": [],
   "source": []
  },
  {
   "cell_type": "code",
   "execution_count": null,
   "metadata": {},
   "outputs": [],
   "source": []
  }
 ],
 "metadata": {
  "kernelspec": {
   "display_name": "Python 2",
   "language": "python",
   "name": "python2"
  },
  "language_info": {
   "codemirror_mode": {
    "name": "ipython",
    "version": 2
   },
   "file_extension": ".py",
   "mimetype": "text/x-python",
   "name": "python",
   "nbconvert_exporter": "python",
   "pygments_lexer": "ipython2",
   "version": "2.7.6"
  }
 },
 "nbformat": 4,
 "nbformat_minor": 0
}
