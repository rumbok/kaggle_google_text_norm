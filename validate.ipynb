{
 "cells": [
  {
   "cell_type": "code",
   "execution_count": 1,
   "metadata": {
    "collapsed": true
   },
   "outputs": [
    {
     "name": "stderr",
     "output_type": "stream",
     "text": [
      "Using TensorFlow backend.\n"
     ]
    },
    {
     "name": "stderr",
     "output_type": "stream",
     "text": [
      "\rMorphologyExtractor create index: 0it [00:00, ?it/s]"
     ]
    },
    {
     "name": "stderr",
     "output_type": "stream",
     "text": [
      "\rMorphologyExtractor create index: 14283it [00:00, 142827.07it/s]"
     ]
    },
    {
     "name": "stderr",
     "output_type": "stream",
     "text": [
      "\rMorphologyExtractor create index: 27642it [00:00, 139920.92it/s]"
     ]
    },
    {
     "name": "stderr",
     "output_type": "stream",
     "text": [
      "\rMorphologyExtractor create index: 41768it [00:00, 140317.82it/s]"
     ]
    },
    {
     "name": "stderr",
     "output_type": "stream",
     "text": [
      "\rMorphologyExtractor create index: 56309it [00:00, 141806.78it/s]"
     ]
    },
    {
     "name": "stderr",
     "output_type": "stream",
     "text": [
      "\rMorphologyExtractor create index: 70763it [00:00, 142613.75it/s]"
     ]
    },
    {
     "name": "stderr",
     "output_type": "stream",
     "text": [
      "\rMorphologyExtractor create index: 85935it [00:00, 145227.00it/s]"
     ]
    },
    {
     "name": "stderr",
     "output_type": "stream",
     "text": [
      "\rMorphologyExtractor create index: 101215it [00:00, 147417.30it/s]"
     ]
    },
    {
     "name": "stderr",
     "output_type": "stream",
     "text": [
      "\rMorphologyExtractor create index: 115917it [00:00, 147296.56it/s]"
     ]
    },
    {
     "name": "stderr",
     "output_type": "stream",
     "text": [
      "\rMorphologyExtractor create index: 130079it [00:00, 145543.32it/s]"
     ]
    },
    {
     "name": "stderr",
     "output_type": "stream",
     "text": [
      "\rMorphologyExtractor create index: 145554it [00:01, 148186.93it/s]"
     ]
    },
    {
     "name": "stderr",
     "output_type": "stream",
     "text": [
      "\rMorphologyExtractor create index: 160493it [00:01, 148543.10it/s]"
     ]
    },
    {
     "name": "stderr",
     "output_type": "stream",
     "text": [
      "\rMorphologyExtractor create index: 175240it [00:01, 148219.47it/s]"
     ]
    },
    {
     "name": "stderr",
     "output_type": "stream",
     "text": [
      "\rMorphologyExtractor create index: 190303it [00:01, 148931.90it/s]"
     ]
    },
    {
     "name": "stderr",
     "output_type": "stream",
     "text": [
      "\rMorphologyExtractor create index: 205067it [00:01, 147068.68it/s]"
     ]
    },
    {
     "name": "stderr",
     "output_type": "stream",
     "text": [
      "\rMorphologyExtractor create index: 220441it [00:01, 149006.36it/s]"
     ]
    },
    {
     "name": "stderr",
     "output_type": "stream",
     "text": [
      "\rMorphologyExtractor create index: 236487it [00:01, 152265.70it/s]"
     ]
    },
    {
     "name": "stderr",
     "output_type": "stream",
     "text": [
      "\rMorphologyExtractor create index: 251694it [00:01, 150818.48it/s]"
     ]
    },
    {
     "name": "stderr",
     "output_type": "stream",
     "text": [
      "\rMorphologyExtractor create index: 266765it [00:01, 148884.78it/s]"
     ]
    },
    {
     "name": "stderr",
     "output_type": "stream",
     "text": [
      "\rMorphologyExtractor create index: 281652it [00:01, 146990.13it/s]"
     ]
    },
    {
     "name": "stderr",
     "output_type": "stream",
     "text": [
      "\rMorphologyExtractor create index: 296356it [00:02, 145407.70it/s]"
     ]
    },
    {
     "name": "stderr",
     "output_type": "stream",
     "text": [
      "\rMorphologyExtractor create index: 311281it [00:02, 146539.09it/s]"
     ]
    },
    {
     "name": "stderr",
     "output_type": "stream",
     "text": [
      "\rMorphologyExtractor create index: 326114it [00:02, 147071.43it/s]"
     ]
    },
    {
     "name": "stderr",
     "output_type": "stream",
     "text": [
      "\rMorphologyExtractor create index: 341033it [00:02, 147698.92it/s]"
     ]
    },
    {
     "name": "stderr",
     "output_type": "stream",
     "text": [
      "\rMorphologyExtractor create index: 356528it [00:02, 149799.73it/s]"
     ]
    },
    {
     "name": "stderr",
     "output_type": "stream",
     "text": [
      "\rMorphologyExtractor create index: 371519it [00:02, 149322.90it/s]"
     ]
    },
    {
     "name": "stderr",
     "output_type": "stream",
     "text": [
      "\rMorphologyExtractor create index: 386459it [00:02, 142190.32it/s]"
     ]
    },
    {
     "name": "stderr",
     "output_type": "stream",
     "text": [
      "\rMorphologyExtractor create index: 400755it [00:02, 139589.02it/s]"
     ]
    },
    {
     "name": "stderr",
     "output_type": "stream",
     "text": [
      "\rMorphologyExtractor create index: 414779it [00:02, 135447.50it/s]"
     ]
    },
    {
     "name": "stderr",
     "output_type": "stream",
     "text": [
      "\rMorphologyExtractor create index: 428612it [00:02, 136296.71it/s]"
     ]
    },
    {
     "name": "stderr",
     "output_type": "stream",
     "text": [
      "\rMorphologyExtractor create index: 442855it [00:03, 138078.54it/s]"
     ]
    },
    {
     "name": "stderr",
     "output_type": "stream",
     "text": [
      "\rMorphologyExtractor create index: 456939it [00:03, 138893.81it/s]"
     ]
    },
    {
     "name": "stderr",
     "output_type": "stream",
     "text": [
      "\rMorphologyExtractor create index: 471064it [00:03, 139592.02it/s]"
     ]
    },
    {
     "name": "stderr",
     "output_type": "stream",
     "text": [
      "\rMorphologyExtractor create index: 485046it [00:03, 137215.45it/s]"
     ]
    },
    {
     "name": "stderr",
     "output_type": "stream",
     "text": [
      "\rMorphologyExtractor create index: 498793it [00:03, 137040.37it/s]"
     ]
    },
    {
     "name": "stderr",
     "output_type": "stream",
     "text": [
      "\rMorphologyExtractor create index: 512707it [00:03, 137661.57it/s]"
     ]
    },
    {
     "name": "stderr",
     "output_type": "stream",
     "text": [
      "\rMorphologyExtractor create index: 526486it [00:03, 135445.49it/s]"
     ]
    },
    {
     "name": "stderr",
     "output_type": "stream",
     "text": [
      "\rMorphologyExtractor create index: 541508it [00:03, 139563.08it/s]"
     ]
    },
    {
     "name": "stderr",
     "output_type": "stream",
     "text": [
      "\rMorphologyExtractor create index: 556871it [00:03, 143503.44it/s]"
     ]
    },
    {
     "name": "stderr",
     "output_type": "stream",
     "text": [
      "\rMorphologyExtractor create index: 571604it [00:03, 144628.18it/s]"
     ]
    },
    {
     "name": "stderr",
     "output_type": "stream",
     "text": [
      "\rMorphologyExtractor create index: 587014it [00:04, 147343.09it/s]"
     ]
    },
    {
     "name": "stderr",
     "output_type": "stream",
     "text": [
      "\rMorphologyExtractor create index: 602108it [00:04, 148402.30it/s]"
     ]
    },
    {
     "name": "stderr",
     "output_type": "stream",
     "text": [
      "\rMorphologyExtractor create index: 617270it [00:04, 149353.12it/s]"
     ]
    },
    {
     "name": "stderr",
     "output_type": "stream",
     "text": [
      "\rMorphologyExtractor create index: 632229it [00:04, 148820.32it/s]"
     ]
    },
    {
     "name": "stderr",
     "output_type": "stream",
     "text": [
      "\rMorphologyExtractor create index: 647128it [00:04, 142077.83it/s]"
     ]
    },
    {
     "name": "stderr",
     "output_type": "stream",
     "text": [
      "\rMorphologyExtractor create index: 661793it [00:04, 143419.20it/s]"
     ]
    },
    {
     "name": "stderr",
     "output_type": "stream",
     "text": [
      "\rMorphologyExtractor create index: 676389it [00:04, 144171.23it/s]"
     ]
    },
    {
     "name": "stderr",
     "output_type": "stream",
     "text": [
      "\rMorphologyExtractor create index: 690847it [00:04, 144046.16it/s]"
     ]
    },
    {
     "name": "stderr",
     "output_type": "stream",
     "text": [
      "\rMorphologyExtractor create index: 705280it [00:04, 138785.05it/s]"
     ]
    },
    {
     "name": "stderr",
     "output_type": "stream",
     "text": [
      "\rMorphologyExtractor create index: 719220it [00:05, 135475.09it/s]"
     ]
    },
    {
     "name": "stderr",
     "output_type": "stream",
     "text": [
      "\rMorphologyExtractor create index: 733378it [00:05, 137248.21it/s]"
     ]
    },
    {
     "name": "stderr",
     "output_type": "stream",
     "text": [
      "\rMorphologyExtractor create index: 748024it [00:05, 139887.30it/s]"
     ]
    },
    {
     "name": "stderr",
     "output_type": "stream",
     "text": [
      "\rMorphologyExtractor create index: 762599it [00:05, 141593.07it/s]"
     ]
    },
    {
     "name": "stderr",
     "output_type": "stream",
     "text": [
      "\rMorphologyExtractor create index: 777773it [00:05, 144490.50it/s]"
     ]
    },
    {
     "name": "stderr",
     "output_type": "stream",
     "text": [
      "\rMorphologyExtractor create index: 792263it [00:05, 144363.76it/s]"
     ]
    },
    {
     "name": "stderr",
     "output_type": "stream",
     "text": [
      "\rMorphologyExtractor create index: 807464it [00:05, 146574.35it/s]"
     ]
    },
    {
     "name": "stderr",
     "output_type": "stream",
     "text": [
      "\rMorphologyExtractor create index: 822150it [00:05, 143322.82it/s]"
     ]
    },
    {
     "name": "stderr",
     "output_type": "stream",
     "text": [
      "\rMorphologyExtractor create index: 838143it [00:05, 147930.35it/s]"
     ]
    },
    {
     "name": "stderr",
     "output_type": "stream",
     "text": [
      "\rMorphologyExtractor create index: 853490it [00:05, 149547.64it/s]"
     ]
    },
    {
     "name": "stderr",
     "output_type": "stream",
     "text": [
      "\rMorphologyExtractor create index: 869059it [00:06, 151337.10it/s]"
     ]
    },
    {
     "name": "stderr",
     "output_type": "stream",
     "text": [
      "\rMorphologyExtractor create index: 884878it [00:06, 153328.47it/s]"
     ]
    },
    {
     "name": "stderr",
     "output_type": "stream",
     "text": [
      "\rMorphologyExtractor create index: 900245it [00:06, 152394.95it/s]"
     ]
    },
    {
     "name": "stderr",
     "output_type": "stream",
     "text": [
      "\rMorphologyExtractor create index: 915510it [00:06, 149663.53it/s]"
     ]
    },
    {
     "name": "stderr",
     "output_type": "stream",
     "text": [
      "\rMorphologyExtractor create index: 930505it [00:06, 147500.09it/s]"
     ]
    },
    {
     "name": "stderr",
     "output_type": "stream",
     "text": [
      "\rMorphologyExtractor create index: 945282it [00:06, 146258.41it/s]"
     ]
    },
    {
     "name": "stderr",
     "output_type": "stream",
     "text": [
      "\rMorphologyExtractor create index: 959930it [00:06, 144980.08it/s]"
     ]
    },
    {
     "name": "stderr",
     "output_type": "stream",
     "text": [
      "\rMorphologyExtractor create index: 974446it [00:06, 141330.69it/s]"
     ]
    },
    {
     "name": "stderr",
     "output_type": "stream",
     "text": [
      "\rMorphologyExtractor create index: 988838it [00:06, 142095.48it/s]"
     ]
    },
    {
     "name": "stderr",
     "output_type": "stream",
     "text": [
      "\rMorphologyExtractor create index: 1003114it [00:06, 142291.99it/s]"
     ]
    },
    {
     "name": "stderr",
     "output_type": "stream",
     "text": [
      "\rMorphologyExtractor create index: 1017360it [00:07, 141578.07it/s]"
     ]
    },
    {
     "name": "stderr",
     "output_type": "stream",
     "text": [
      "\rMorphologyExtractor create index: 1031941it [00:07, 142819.57it/s]"
     ]
    },
    {
     "name": "stderr",
     "output_type": "stream",
     "text": [
      "\rMorphologyExtractor create index: 1046514it [00:07, 143679.55it/s]"
     ]
    },
    {
     "name": "stderr",
     "output_type": "stream",
     "text": [
      "\rMorphologyExtractor create index: 1060892it [00:07, 142668.85it/s]"
     ]
    },
    {
     "name": "stderr",
     "output_type": "stream",
     "text": [
      "\rMorphologyExtractor create index: 1075167it [00:07, 141781.11it/s]"
     ]
    },
    {
     "name": "stderr",
     "output_type": "stream",
     "text": [
      "\rMorphologyExtractor create index: 1089353it [00:07, 141257.11it/s]"
     ]
    },
    {
     "name": "stderr",
     "output_type": "stream",
     "text": [
      "\rMorphologyExtractor create index: 1103484it [00:07, 139269.61it/s]"
     ]
    },
    {
     "name": "stderr",
     "output_type": "stream",
     "text": [
      "\rMorphologyExtractor create index: 1117447it [00:07, 139376.28it/s]"
     ]
    },
    {
     "name": "stderr",
     "output_type": "stream",
     "text": [
      "\rMorphologyExtractor create index: 1131392it [00:07, 138899.29it/s]"
     ]
    },
    {
     "name": "stderr",
     "output_type": "stream",
     "text": [
      "\rMorphologyExtractor create index: 1145982it [00:07, 140925.53it/s]"
     ]
    },
    {
     "name": "stderr",
     "output_type": "stream",
     "text": [
      "\rMorphologyExtractor create index: 1160926it [00:08, 143374.10it/s]"
     ]
    },
    {
     "name": "stderr",
     "output_type": "stream",
     "text": [
      "\rMorphologyExtractor create index: 1175282it [00:08, 142351.17it/s]"
     ]
    },
    {
     "name": "stderr",
     "output_type": "stream",
     "text": [
      "\rMorphologyExtractor create index: 1189532it [00:08, 142194.60it/s]"
     ]
    },
    {
     "name": "stderr",
     "output_type": "stream",
     "text": [
      "\rMorphologyExtractor create index: 1204510it [00:08, 144387.44it/s]"
     ]
    },
    {
     "name": "stderr",
     "output_type": "stream",
     "text": [
      "\rMorphologyExtractor create index: 1219427it [00:08, 145786.78it/s]"
     ]
    },
    {
     "name": "stderr",
     "output_type": "stream",
     "text": [
      "\rMorphologyExtractor create index: 1234393it [00:08, 146926.23it/s]"
     ]
    },
    {
     "name": "stderr",
     "output_type": "stream",
     "text": [
      "\rMorphologyExtractor create index: 1249098it [00:08, 144560.90it/s]"
     ]
    },
    {
     "name": "stderr",
     "output_type": "stream",
     "text": [
      "\rMorphologyExtractor create index: 1263571it [00:08, 142287.13it/s]"
     ]
    },
    {
     "name": "stderr",
     "output_type": "stream",
     "text": [
      "\rMorphologyExtractor create index: 1277820it [00:08, 139231.64it/s]"
     ]
    },
    {
     "name": "stderr",
     "output_type": "stream",
     "text": [
      "\rMorphologyExtractor create index: 1292444it [00:08, 141260.87it/s]"
     ]
    },
    {
     "name": "stderr",
     "output_type": "stream",
     "text": [
      "\rMorphologyExtractor create index: 1307626it [00:09, 144269.96it/s]"
     ]
    },
    {
     "name": "stderr",
     "output_type": "stream",
     "text": [
      "\rMorphologyExtractor create index: 1323101it [00:09, 147261.38it/s]"
     ]
    },
    {
     "name": "stderr",
     "output_type": "stream",
     "text": [
      "\rMorphologyExtractor create index: 1337867it [00:09, 147117.79it/s]"
     ]
    },
    {
     "name": "stderr",
     "output_type": "stream",
     "text": [
      "\rMorphologyExtractor create index: 1352758it [00:09, 147650.01it/s]"
     ]
    },
    {
     "name": "stderr",
     "output_type": "stream",
     "text": [
      "\rMorphologyExtractor create index: 1367543it [00:09, 146915.17it/s]"
     ]
    },
    {
     "name": "stderr",
     "output_type": "stream",
     "text": [
      "\rMorphologyExtractor create index: 1382250it [00:09, 146509.68it/s]"
     ]
    },
    {
     "name": "stderr",
     "output_type": "stream",
     "text": [
      "\rMorphologyExtractor create index: 1396999it [00:09, 146801.50it/s]"
     ]
    },
    {
     "name": "stderr",
     "output_type": "stream",
     "text": [
      "\rMorphologyExtractor create index: 1412602it [00:09, 149451.25it/s]"
     ]
    },
    {
     "name": "stderr",
     "output_type": "stream",
     "text": [
      "\rMorphologyExtractor create index: 1428064it [00:09, 150962.42it/s]"
     ]
    },
    {
     "name": "stderr",
     "output_type": "stream",
     "text": [
      "\rMorphologyExtractor create index: 1443605it [00:09, 152268.81it/s]"
     ]
    },
    {
     "name": "stderr",
     "output_type": "stream",
     "text": [
      "\rMorphologyExtractor create index: 1459744it [00:10, 154892.96it/s]"
     ]
    },
    {
     "name": "stderr",
     "output_type": "stream",
     "text": [
      "\rMorphologyExtractor create index: 1475459it [00:10, 155562.73it/s]"
     ]
    },
    {
     "name": "stderr",
     "output_type": "stream",
     "text": [
      "\rMorphologyExtractor create index: 1491209it [00:10, 156137.49it/s]"
     ]
    },
    {
     "name": "stderr",
     "output_type": "stream",
     "text": [
      "\rMorphologyExtractor create index: 1506834it [00:10, 154738.06it/s]"
     ]
    },
    {
     "name": "stderr",
     "output_type": "stream",
     "text": [
      "\rMorphologyExtractor create index: 1522858it [00:10, 156345.44it/s]"
     ]
    },
    {
     "name": "stderr",
     "output_type": "stream",
     "text": [
      "\rMorphologyExtractor create index: 1538504it [00:10, 154778.08it/s]"
     ]
    },
    {
     "name": "stderr",
     "output_type": "stream",
     "text": [
      "\rMorphologyExtractor create index: 1554053it [00:10, 154990.02it/s]"
     ]
    },
    {
     "name": "stderr",
     "output_type": "stream",
     "text": [
      "\rMorphologyExtractor create index: 1569561it [00:10, 153167.43it/s]"
     ]
    },
    {
     "name": "stderr",
     "output_type": "stream",
     "text": [
      "\rMorphologyExtractor create index: 1585236it [00:10, 154221.78it/s]"
     ]
    },
    {
     "name": "stderr",
     "output_type": "stream",
     "text": [
      "\rMorphologyExtractor create index: 1600740it [00:10, 154465.39it/s]"
     ]
    },
    {
     "name": "stderr",
     "output_type": "stream",
     "text": [
      "\rMorphologyExtractor create index: 1616194it [00:11, 154439.23it/s]"
     ]
    },
    {
     "name": "stderr",
     "output_type": "stream",
     "text": [
      "\rMorphologyExtractor create index: 1631953it [00:11, 155369.66it/s]"
     ]
    },
    {
     "name": "stderr",
     "output_type": "stream",
     "text": [
      "\rMorphologyExtractor create index: 1647495it [00:11, 155015.67it/s]"
     ]
    },
    {
     "name": "stderr",
     "output_type": "stream",
     "text": [
      "\rMorphologyExtractor create index: 1663000it [00:11, 153613.59it/s]"
     ]
    },
    {
     "name": "stderr",
     "output_type": "stream",
     "text": [
      "\rMorphologyExtractor create index: 1678367it [00:11, 152503.95it/s]"
     ]
    },
    {
     "name": "stderr",
     "output_type": "stream",
     "text": [
      "\rMorphologyExtractor create index: 1693949it [00:11, 153466.59it/s]"
     ]
    },
    {
     "name": "stderr",
     "output_type": "stream",
     "text": [
      "\rMorphologyExtractor create index: 1709301it [00:11, 152642.08it/s]"
     ]
    },
    {
     "name": "stderr",
     "output_type": "stream",
     "text": [
      "\rMorphologyExtractor create index: 1725128it [00:11, 154286.19it/s]"
     ]
    },
    {
     "name": "stderr",
     "output_type": "stream",
     "text": [
      "\rMorphologyExtractor create index: 1740565it [00:11, 153401.79it/s]"
     ]
    },
    {
     "name": "stderr",
     "output_type": "stream",
     "text": [
      "\rMorphologyExtractor create index: 1755912it [00:12, 151711.47it/s]"
     ]
    },
    {
     "name": "stderr",
     "output_type": "stream",
     "text": [
      "\rMorphologyExtractor create index: 1771092it [00:12, 141023.04it/s]"
     ]
    },
    {
     "name": "stderr",
     "output_type": "stream",
     "text": [
      "\rMorphologyExtractor create index: 1786014it [00:12, 143383.56it/s]"
     ]
    },
    {
     "name": "stderr",
     "output_type": "stream",
     "text": [
      "\rMorphologyExtractor create index: 1801549it [00:12, 146773.70it/s]"
     ]
    },
    {
     "name": "stderr",
     "output_type": "stream",
     "text": [
      "\rMorphologyExtractor create index: 1816666it [00:12, 148065.03it/s]"
     ]
    },
    {
     "name": "stderr",
     "output_type": "stream",
     "text": [
      "\rMorphologyExtractor create index: 1832406it [00:12, 150746.37it/s]"
     ]
    },
    {
     "name": "stderr",
     "output_type": "stream",
     "text": [
      "\rMorphologyExtractor create index: 1847939it [00:12, 152092.31it/s]"
     ]
    },
    {
     "name": "stderr",
     "output_type": "stream",
     "text": [
      "\rMorphologyExtractor create index: 1863197it [00:12, 151160.00it/s]"
     ]
    },
    {
     "name": "stderr",
     "output_type": "stream",
     "text": [
      "\rMorphologyExtractor create index: 1878648it [00:12, 152147.44it/s]"
     ]
    },
    {
     "name": "stderr",
     "output_type": "stream",
     "text": [
      "\rMorphologyExtractor create index: 1893889it [00:12, 150874.34it/s]"
     ]
    },
    {
     "name": "stderr",
     "output_type": "stream",
     "text": [
      "\rMorphologyExtractor create index: 1909557it [00:13, 152567.74it/s]"
     ]
    },
    {
     "name": "stderr",
     "output_type": "stream",
     "text": [
      "\rMorphologyExtractor create index: 1925065it [00:13, 153312.76it/s]"
     ]
    },
    {
     "name": "stderr",
     "output_type": "stream",
     "text": [
      "\rMorphologyExtractor create index: 1940411it [00:13, 152104.70it/s]"
     ]
    },
    {
     "name": "stderr",
     "output_type": "stream",
     "text": [
      "\rMorphologyExtractor create index: 1955634it [00:13, 151898.54it/s]"
     ]
    },
    {
     "name": "stderr",
     "output_type": "stream",
     "text": [
      "\rMorphologyExtractor create index: 1970833it [00:13, 150190.12it/s]"
     ]
    },
    {
     "name": "stderr",
     "output_type": "stream",
     "text": [
      "\rMorphologyExtractor create index: 1986004it [00:13, 150640.25it/s]"
     ]
    },
    {
     "name": "stderr",
     "output_type": "stream",
     "text": [
      "\rMorphologyExtractor create index: 2001199it [00:13, 151027.94it/s]"
     ]
    },
    {
     "name": "stderr",
     "output_type": "stream",
     "text": [
      "\rMorphologyExtractor create index: 2016308it [00:13, 149881.41it/s]"
     ]
    },
    {
     "name": "stderr",
     "output_type": "stream",
     "text": [
      "\rMorphologyExtractor create index: 2031547it [00:13, 150623.08it/s]"
     ]
    },
    {
     "name": "stderr",
     "output_type": "stream",
     "text": [
      "\rMorphologyExtractor create index: 2046615it [00:13, 146356.37it/s]"
     ]
    },
    {
     "name": "stderr",
     "output_type": "stream",
     "text": [
      "\rMorphologyExtractor create index: 2061843it [00:14, 148082.68it/s]"
     ]
    },
    {
     "name": "stderr",
     "output_type": "stream",
     "text": [
      "\rMorphologyExtractor create index: 2077641it [00:14, 150917.56it/s]"
     ]
    },
    {
     "name": "stderr",
     "output_type": "stream",
     "text": [
      "\rMorphologyExtractor create index: 2092765it [00:14, 146811.25it/s]"
     ]
    },
    {
     "name": "stderr",
     "output_type": "stream",
     "text": [
      "\rMorphologyExtractor create index: 2107670it [00:14, 147474.47it/s]"
     ]
    },
    {
     "name": "stderr",
     "output_type": "stream",
     "text": [
      "\rMorphologyExtractor create index: 2122803it [00:14, 148608.50it/s]"
     ]
    },
    {
     "name": "stderr",
     "output_type": "stream",
     "text": [
      "\rMorphologyExtractor create index: 2137739it [00:14, 148832.77it/s]"
     ]
    },
    {
     "name": "stderr",
     "output_type": "stream",
     "text": [
      "\rMorphologyExtractor create index: 2152641it [00:14, 148520.22it/s]"
     ]
    },
    {
     "name": "stderr",
     "output_type": "stream",
     "text": [
      "\rMorphologyExtractor create index: 2167623it [00:14, 148906.02it/s]"
     ]
    },
    {
     "name": "stderr",
     "output_type": "stream",
     "text": [
      "\rMorphologyExtractor create index: 2182819it [00:14, 149806.54it/s]"
     ]
    },
    {
     "name": "stderr",
     "output_type": "stream",
     "text": [
      "\rMorphologyExtractor create index: 2197808it [00:14, 147524.94it/s]"
     ]
    },
    {
     "name": "stderr",
     "output_type": "stream",
     "text": [
      "\rMorphologyExtractor create index: 2212806it [00:15, 148252.60it/s]"
     ]
    },
    {
     "name": "stderr",
     "output_type": "stream",
     "text": [
      "\rMorphologyExtractor create index: 2227814it [00:15, 148794.38it/s]"
     ]
    },
    {
     "name": "stderr",
     "output_type": "stream",
     "text": [
      "\rMorphologyExtractor create index: 2242833it [00:15, 149208.04it/s]"
     ]
    },
    {
     "name": "stderr",
     "output_type": "stream",
     "text": [
      "\rMorphologyExtractor create index: 2258165it [00:15, 150416.64it/s]"
     ]
    },
    {
     "name": "stderr",
     "output_type": "stream",
     "text": [
      "\rMorphologyExtractor create index: 2273213it [00:15, 148366.11it/s]"
     ]
    },
    {
     "name": "stderr",
     "output_type": "stream",
     "text": [
      "\rMorphologyExtractor create index: 2288588it [00:15, 149939.95it/s]"
     ]
    },
    {
     "name": "stderr",
     "output_type": "stream",
     "text": [
      "\rMorphologyExtractor create index: 2303648it [00:15, 150130.55it/s]"
     ]
    },
    {
     "name": "stderr",
     "output_type": "stream",
     "text": [
      "\rMorphologyExtractor create index: 2318670it [00:15, 149455.49it/s]"
     ]
    },
    {
     "name": "stderr",
     "output_type": "stream",
     "text": [
      "\rMorphologyExtractor create index: 2333832it [00:15, 150096.45it/s]"
     ]
    },
    {
     "name": "stderr",
     "output_type": "stream",
     "text": [
      "\rMorphologyExtractor create index: 2349085it [00:15, 150815.27it/s]"
     ]
    },
    {
     "name": "stderr",
     "output_type": "stream",
     "text": [
      "\rMorphologyExtractor create index: 2365184it [00:16, 153728.72it/s]"
     ]
    },
    {
     "name": "stderr",
     "output_type": "stream",
     "text": [
      "\rMorphologyExtractor create index: 2380574it [00:16, 151351.88it/s]"
     ]
    },
    {
     "name": "stderr",
     "output_type": "stream",
     "text": [
      "\rMorphologyExtractor create index: 2396644it [00:16, 154038.76it/s]"
     ]
    },
    {
     "name": "stderr",
     "output_type": "stream",
     "text": [
      "\rMorphologyExtractor create index: 2412074it [00:16, 149233.54it/s]"
     ]
    },
    {
     "name": "stderr",
     "output_type": "stream",
     "text": [
      "\rMorphologyExtractor create index: 2427577it [00:16, 150924.60it/s]"
     ]
    },
    {
     "name": "stderr",
     "output_type": "stream",
     "text": [
      "\rMorphologyExtractor create index: 2443444it [00:16, 153161.97it/s]"
     ]
    },
    {
     "name": "stderr",
     "output_type": "stream",
     "text": [
      "\rMorphologyExtractor create index: 2459175it [00:16, 154379.48it/s]"
     ]
    },
    {
     "name": "stderr",
     "output_type": "stream",
     "text": [
      "\rMorphologyExtractor create index: 2474742it [00:16, 154762.56it/s]"
     ]
    },
    {
     "name": "stderr",
     "output_type": "stream",
     "text": [
      "\rMorphologyExtractor create index: 2490238it [00:16, 154516.91it/s]"
     ]
    },
    {
     "name": "stderr",
     "output_type": "stream",
     "text": [
      "\rMorphologyExtractor create index: 2505704it [00:16, 154153.15it/s]"
     ]
    },
    {
     "name": "stderr",
     "output_type": "stream",
     "text": [
      "\rMorphologyExtractor create index: 2521130it [00:17, 153339.71it/s]"
     ]
    },
    {
     "name": "stderr",
     "output_type": "stream",
     "text": [
      "\rMorphologyExtractor create index: 2536472it [00:17, 150931.74it/s]"
     ]
    },
    {
     "name": "stderr",
     "output_type": "stream",
     "text": [
      "\rMorphologyExtractor create index: 2551580it [00:17, 150168.96it/s]"
     ]
    },
    {
     "name": "stderr",
     "output_type": "stream",
     "text": [
      "\rMorphologyExtractor create index: 2566608it [00:17, 147813.32it/s]"
     ]
    },
    {
     "name": "stderr",
     "output_type": "stream",
     "text": [
      "\rMorphologyExtractor create index: 2581578it [00:17, 148373.41it/s]"
     ]
    },
    {
     "name": "stderr",
     "output_type": "stream",
     "text": [
      "\rMorphologyExtractor create index: 2596427it [00:17, 147897.54it/s]"
     ]
    },
    {
     "name": "stderr",
     "output_type": "stream",
     "text": [
      "\rMorphologyExtractor create index: 2611226it [00:17, 147527.56it/s]"
     ]
    },
    {
     "name": "stderr",
     "output_type": "stream",
     "text": [
      "\rMorphologyExtractor create index: 2625985it [00:17, 143752.78it/s]"
     ]
    },
    {
     "name": "stderr",
     "output_type": "stream",
     "text": [
      "\rMorphologyExtractor create index: 2640563it [00:17, 144352.08it/s]"
     ]
    },
    {
     "name": "stderr",
     "output_type": "stream",
     "text": [
      "\rMorphologyExtractor create index: 2655831it [00:18, 146750.89it/s]"
     ]
    },
    {
     "name": "stderr",
     "output_type": "stream",
     "text": [
      "\rMorphologyExtractor create index: 2671379it [00:18, 149262.83it/s]"
     ]
    },
    {
     "name": "stderr",
     "output_type": "stream",
     "text": [
      "\rMorphologyExtractor create index: 2687061it [00:18, 151451.07it/s]"
     ]
    },
    {
     "name": "stderr",
     "output_type": "stream",
     "text": [
      "\rMorphologyExtractor create index: 2702233it [00:18, 148442.25it/s]"
     ]
    },
    {
     "name": "stderr",
     "output_type": "stream",
     "text": [
      "\rMorphologyExtractor create index: 2717109it [00:18, 146439.40it/s]"
     ]
    },
    {
     "name": "stderr",
     "output_type": "stream",
     "text": [
      "\rMorphologyExtractor create index: 2731782it [00:18, 145836.61it/s]"
     ]
    },
    {
     "name": "stderr",
     "output_type": "stream",
     "text": [
      "\rMorphologyExtractor create index: 2746387it [00:18, 145186.15it/s]"
     ]
    },
    {
     "name": "stderr",
     "output_type": "stream",
     "text": [
      "\rMorphologyExtractor create index: 2760921it [00:18, 144851.84it/s]"
     ]
    },
    {
     "name": "stderr",
     "output_type": "stream",
     "text": [
      "\rMorphologyExtractor create index: 2776269it [00:18, 147333.79it/s]"
     ]
    },
    {
     "name": "stderr",
     "output_type": "stream",
     "text": [
      "\rMorphologyExtractor create index: 2791892it [00:18, 149894.36it/s]"
     ]
    },
    {
     "name": "stderr",
     "output_type": "stream",
     "text": [
      "\rMorphologyExtractor create index: 2806905it [00:19, 148764.39it/s]"
     ]
    },
    {
     "name": "stderr",
     "output_type": "stream",
     "text": [
      "\rMorphologyExtractor create index: 2821800it [00:19, 148037.73it/s]"
     ]
    },
    {
     "name": "stderr",
     "output_type": "stream",
     "text": [
      "\rMorphologyExtractor create index: 2836618it [00:19, 146958.68it/s]"
     ]
    },
    {
     "name": "stderr",
     "output_type": "stream",
     "text": [
      "\rMorphologyExtractor create index: 2851326it [00:19, 145669.82it/s]"
     ]
    },
    {
     "name": "stderr",
     "output_type": "stream",
     "text": [
      "\rMorphologyExtractor create index: 2866284it [00:19, 146819.53it/s]"
     ]
    },
    {
     "name": "stderr",
     "output_type": "stream",
     "text": [
      "\rMorphologyExtractor create index: 2881491it [00:19, 148353.14it/s]"
     ]
    },
    {
     "name": "stderr",
     "output_type": "stream",
     "text": [
      "\rMorphologyExtractor create index: 2896337it [00:19, 147826.81it/s]"
     ]
    },
    {
     "name": "stderr",
     "output_type": "stream",
     "text": [
      "\rMorphologyExtractor create index: 2911412it [00:19, 148689.53it/s]"
     ]
    },
    {
     "name": "stderr",
     "output_type": "stream",
     "text": [
      "\rMorphologyExtractor create index: 2926288it [00:19, 148068.59it/s]"
     ]
    },
    {
     "name": "stderr",
     "output_type": "stream",
     "text": [
      "\rMorphologyExtractor create index: 2941101it [00:19, 143024.90it/s]"
     ]
    },
    {
     "name": "stderr",
     "output_type": "stream",
     "text": [
      "\rMorphologyExtractor create index: 2955445it [00:20, 143043.75it/s]"
     ]
    },
    {
     "name": "stderr",
     "output_type": "stream",
     "text": [
      "\rMorphologyExtractor create index: 2970356it [00:20, 144809.99it/s]"
     ]
    },
    {
     "name": "stderr",
     "output_type": "stream",
     "text": [
      "\rMorphologyExtractor create index: 2984863it [00:20, 142295.66it/s]"
     ]
    },
    {
     "name": "stderr",
     "output_type": "stream",
     "text": [
      "\rMorphologyExtractor create index: 2999202it [00:20, 142621.33it/s]"
     ]
    },
    {
     "name": "stderr",
     "output_type": "stream",
     "text": [
      "\rMorphologyExtractor create index: 3013484it [00:20, 130051.43it/s]"
     ]
    },
    {
     "name": "stderr",
     "output_type": "stream",
     "text": [
      "\rMorphologyExtractor create index: 3027694it [00:20, 133444.74it/s]"
     ]
    },
    {
     "name": "stderr",
     "output_type": "stream",
     "text": [
      "\rMorphologyExtractor create index: 3041451it [00:20, 134656.05it/s]"
     ]
    },
    {
     "name": "stderr",
     "output_type": "stream",
     "text": [
      "\rMorphologyExtractor create index: 3055047it [00:20, 128529.49it/s]"
     ]
    },
    {
     "name": "stderr",
     "output_type": "stream",
     "text": [
      "\rMorphologyExtractor create index: 3068050it [00:20, 127113.51it/s]"
     ]
    },
    {
     "name": "stderr",
     "output_type": "stream",
     "text": [
      "\rMorphologyExtractor create index: 3080870it [00:21, 121792.53it/s]"
     ]
    },
    {
     "name": "stderr",
     "output_type": "stream",
     "text": [
      "\rMorphologyExtractor create index: 3093173it [00:21, 107375.08it/s]"
     ]
    },
    {
     "name": "stderr",
     "output_type": "stream",
     "text": [
      "\rMorphologyExtractor create index: 3104309it [00:21, 108500.00it/s]"
     ]
    },
    {
     "name": "stderr",
     "output_type": "stream",
     "text": [
      "\rMorphologyExtractor create index: 3115441it [00:21, 97156.72it/s] "
     ]
    },
    {
     "name": "stderr",
     "output_type": "stream",
     "text": [
      "\rMorphologyExtractor create index: 3125577it [00:21, 80876.58it/s]"
     ]
    },
    {
     "name": "stderr",
     "output_type": "stream",
     "text": [
      "\rMorphologyExtractor create index: 3134416it [00:21, 81901.24it/s]"
     ]
    },
    {
     "name": "stderr",
     "output_type": "stream",
     "text": [
      "\rMorphologyExtractor create index: 3147131it [00:21, 91688.93it/s]"
     ]
    },
    {
     "name": "stderr",
     "output_type": "stream",
     "text": [
      "\rMorphologyExtractor create index: 3160594it [00:21, 101389.56it/s]"
     ]
    },
    {
     "name": "stderr",
     "output_type": "stream",
     "text": [
      "\rMorphologyExtractor create index: 3172295it [00:22, 105619.20it/s]"
     ]
    },
    {
     "name": "stderr",
     "output_type": "stream",
     "text": [
      "\rMorphologyExtractor create index: 3183493it [00:22, 102332.87it/s]"
     ]
    },
    {
     "name": "stderr",
     "output_type": "stream",
     "text": [
      "\rMorphologyExtractor create index: 3195979it [00:22, 108187.81it/s]"
     ]
    },
    {
     "name": "stderr",
     "output_type": "stream",
     "text": [
      "\rMorphologyExtractor create index: 3209042it [00:22, 114064.13it/s]"
     ]
    },
    {
     "name": "stderr",
     "output_type": "stream",
     "text": [
      "\rMorphologyExtractor create index: 3220826it [00:22, 110963.86it/s]"
     ]
    },
    {
     "name": "stderr",
     "output_type": "stream",
     "text": [
      "\rMorphologyExtractor create index: 3233908it [00:22, 116257.27it/s]"
     ]
    },
    {
     "name": "stderr",
     "output_type": "stream",
     "text": [
      "\rMorphologyExtractor create index: 3245798it [00:22, 110314.37it/s]"
     ]
    },
    {
     "name": "stderr",
     "output_type": "stream",
     "text": [
      "\rMorphologyExtractor create index: 3257078it [00:22, 110071.69it/s]"
     ]
    },
    {
     "name": "stderr",
     "output_type": "stream",
     "text": [
      "\rMorphologyExtractor create index: 3271090it [00:22, 117636.09it/s]"
     ]
    },
    {
     "name": "stderr",
     "output_type": "stream",
     "text": [
      "\rMorphologyExtractor create index: 3284325it [00:22, 121693.89it/s]"
     ]
    },
    {
     "name": "stderr",
     "output_type": "stream",
     "text": [
      "\rMorphologyExtractor create index: 3296717it [00:23, 110746.61it/s]"
     ]
    },
    {
     "name": "stderr",
     "output_type": "stream",
     "text": [
      "\rMorphologyExtractor create index: 3308137it [00:23, 99194.83it/s] "
     ]
    },
    {
     "name": "stderr",
     "output_type": "stream",
     "text": [
      "\rMorphologyExtractor create index: 3320945it [00:23, 106390.98it/s]"
     ]
    },
    {
     "name": "stderr",
     "output_type": "stream",
     "text": [
      "\rMorphologyExtractor create index: 3334545it [00:23, 113823.97it/s]"
     ]
    },
    {
     "name": "stderr",
     "output_type": "stream",
     "text": [
      "\rMorphologyExtractor create index: 3348875it [00:23, 121308.58it/s]"
     ]
    },
    {
     "name": "stderr",
     "output_type": "stream",
     "text": [
      "\rMorphologyExtractor create index: 3363110it [00:23, 126937.50it/s]"
     ]
    },
    {
     "name": "stderr",
     "output_type": "stream",
     "text": [
      "\rMorphologyExtractor create index: 3378521it [00:23, 134025.64it/s]"
     ]
    },
    {
     "name": "stderr",
     "output_type": "stream",
     "text": [
      "\rMorphologyExtractor create index: 3392950it [00:23, 136946.26it/s]"
     ]
    },
    {
     "name": "stderr",
     "output_type": "stream",
     "text": [
      "\rMorphologyExtractor create index: 3407264it [00:23, 138742.21it/s]"
     ]
    },
    {
     "name": "stderr",
     "output_type": "stream",
     "text": [
      "\rMorphologyExtractor create index: 3421457it [00:24, 139682.95it/s]"
     ]
    },
    {
     "name": "stderr",
     "output_type": "stream",
     "text": [
      "\rMorphologyExtractor create index: 3435885it [00:24, 141030.56it/s]"
     ]
    },
    {
     "name": "stderr",
     "output_type": "stream",
     "text": [
      "\rMorphologyExtractor create index: 3450093it [00:24, 140701.26it/s]"
     ]
    },
    {
     "name": "stderr",
     "output_type": "stream",
     "text": [
      "\rMorphologyExtractor create index: 3464237it [00:24, 138712.57it/s]"
     ]
    },
    {
     "name": "stderr",
     "output_type": "stream",
     "text": [
      "\rMorphologyExtractor create index: 3478166it [00:24, 129008.24it/s]"
     ]
    },
    {
     "name": "stderr",
     "output_type": "stream",
     "text": [
      "\rMorphologyExtractor create index: 3491244it [00:24, 125627.80it/s]"
     ]
    },
    {
     "name": "stderr",
     "output_type": "stream",
     "text": [
      "\rMorphologyExtractor create index: 3503950it [00:24, 122585.20it/s]"
     ]
    },
    {
     "name": "stderr",
     "output_type": "stream",
     "text": [
      "\rMorphologyExtractor create index: 3518939it [00:24, 129651.77it/s]"
     ]
    },
    {
     "name": "stderr",
     "output_type": "stream",
     "text": [
      "\rMorphologyExtractor create index: 3532848it [00:24, 132345.63it/s]"
     ]
    },
    {
     "name": "stderr",
     "output_type": "stream",
     "text": [
      "\rMorphologyExtractor create index: 3546231it [00:24, 130478.11it/s]"
     ]
    },
    {
     "name": "stderr",
     "output_type": "stream",
     "text": [
      "\rMorphologyExtractor create index: 3561166it [00:25, 135617.70it/s]"
     ]
    },
    {
     "name": "stderr",
     "output_type": "stream",
     "text": [
      "\rMorphologyExtractor create index: 3575278it [00:25, 137206.43it/s]"
     ]
    },
    {
     "name": "stderr",
     "output_type": "stream",
     "text": [
      "\rMorphologyExtractor create index: 3589094it [00:25, 133157.14it/s]"
     ]
    },
    {
     "name": "stderr",
     "output_type": "stream",
     "text": [
      "\rMorphologyExtractor create index: 3603592it [00:25, 136494.83it/s]"
     ]
    },
    {
     "name": "stderr",
     "output_type": "stream",
     "text": [
      "\rMorphologyExtractor create index: 3618717it [00:25, 140609.56it/s]"
     ]
    },
    {
     "name": "stderr",
     "output_type": "stream",
     "text": [
      "\rMorphologyExtractor create index: 3634609it [00:25, 145643.07it/s]"
     ]
    },
    {
     "name": "stderr",
     "output_type": "stream",
     "text": [
      "\rMorphologyExtractor create index: 3649827it [00:25, 147544.04it/s]"
     ]
    },
    {
     "name": "stderr",
     "output_type": "stream",
     "text": [
      "\rMorphologyExtractor create index: 3664664it [00:25, 145264.37it/s]"
     ]
    },
    {
     "name": "stderr",
     "output_type": "stream",
     "text": [
      "\rMorphologyExtractor create index: 3679257it [00:25, 136343.53it/s]"
     ]
    },
    {
     "name": "stderr",
     "output_type": "stream",
     "text": [
      "\rMorphologyExtractor create index: 3694167it [00:26, 139934.81it/s]"
     ]
    },
    {
     "name": "stderr",
     "output_type": "stream",
     "text": [
      "\rMorphologyExtractor create index: 3709079it [00:26, 142566.82it/s]"
     ]
    },
    {
     "name": "stderr",
     "output_type": "stream",
     "text": [
      "\rMorphologyExtractor create index: 3723442it [00:26, 141625.01it/s]"
     ]
    },
    {
     "name": "stderr",
     "output_type": "stream",
     "text": [
      "\rMorphologyExtractor create index: 3738208it [00:26, 143314.13it/s]"
     ]
    },
    {
     "name": "stderr",
     "output_type": "stream",
     "text": [
      "\rMorphologyExtractor create index: 3753338it [00:26, 145619.49it/s]"
     ]
    },
    {
     "name": "stderr",
     "output_type": "stream",
     "text": [
      "\rMorphologyExtractor create index: 3767950it [00:26, 145313.62it/s]"
     ]
    },
    {
     "name": "stderr",
     "output_type": "stream",
     "text": [
      "\rMorphologyExtractor create index: 3783179it [00:26, 147338.42it/s]"
     ]
    },
    {
     "name": "stderr",
     "output_type": "stream",
     "text": [
      "\rMorphologyExtractor create index: 3798010it [00:26, 147621.98it/s]"
     ]
    },
    {
     "name": "stderr",
     "output_type": "stream",
     "text": [
      "\rMorphologyExtractor create index: 3812795it [00:26, 137560.45it/s]"
     ]
    },
    {
     "name": "stderr",
     "output_type": "stream",
     "text": [
      "\rMorphologyExtractor create index: 3826814it [00:26, 138338.06it/s]"
     ]
    },
    {
     "name": "stderr",
     "output_type": "stream",
     "text": [
      "\rMorphologyExtractor create index: 3840757it [00:27, 137070.70it/s]"
     ]
    },
    {
     "name": "stderr",
     "output_type": "stream",
     "text": [
      "\rMorphologyExtractor create index: 3854543it [00:27, 126492.50it/s]"
     ]
    },
    {
     "name": "stderr",
     "output_type": "stream",
     "text": [
      "\rMorphologyExtractor create index: 3868553it [00:27, 130285.96it/s]"
     ]
    },
    {
     "name": "stderr",
     "output_type": "stream",
     "text": [
      "\rMorphologyExtractor create index: 3883986it [00:27, 136672.86it/s]"
     ]
    },
    {
     "name": "stderr",
     "output_type": "stream",
     "text": [
      "\rMorphologyExtractor create index: 3898439it [00:27, 138938.76it/s]"
     ]
    },
    {
     "name": "stderr",
     "output_type": "stream",
     "text": [
      "\rMorphologyExtractor create index: 3912488it [00:27, 137159.52it/s]"
     ]
    },
    {
     "name": "stderr",
     "output_type": "stream",
     "text": [
      "\rMorphologyExtractor create index: 3926812it [00:27, 138926.01it/s]"
     ]
    },
    {
     "name": "stderr",
     "output_type": "stream",
     "text": [
      "\rMorphologyExtractor create index: 3941150it [00:27, 140230.36it/s]"
     ]
    },
    {
     "name": "stderr",
     "output_type": "stream",
     "text": [
      "\rMorphologyExtractor create index: 3956316it [00:27, 143474.12it/s]"
     ]
    },
    {
     "name": "stderr",
     "output_type": "stream",
     "text": [
      "\rMorphologyExtractor create index: 3971014it [00:28, 144506.92it/s]"
     ]
    },
    {
     "name": "stderr",
     "output_type": "stream",
     "text": [
      "\rMorphologyExtractor create index: 3985913it [00:28, 145821.46it/s]"
     ]
    },
    {
     "name": "stderr",
     "output_type": "stream",
     "text": [
      "\rMorphologyExtractor create index: 4000783it [00:28, 146671.53it/s]"
     ]
    },
    {
     "name": "stderr",
     "output_type": "stream",
     "text": [
      "\rMorphologyExtractor create index: 4015476it [00:28, 143376.99it/s]"
     ]
    },
    {
     "name": "stderr",
     "output_type": "stream",
     "text": [
      "\rMorphologyExtractor create index: 4029893it [00:28, 143613.09it/s]"
     ]
    },
    {
     "name": "stderr",
     "output_type": "stream",
     "text": [
      "\rMorphologyExtractor create index: 4044412it [00:28, 144082.19it/s]"
     ]
    },
    {
     "name": "stderr",
     "output_type": "stream",
     "text": [
      "\rMorphologyExtractor create index: 4059762it [00:28, 146780.94it/s]"
     ]
    },
    {
     "name": "stderr",
     "output_type": "stream",
     "text": [
      "\rMorphologyExtractor create index: 4075147it [00:28, 148829.55it/s]"
     ]
    },
    {
     "name": "stderr",
     "output_type": "stream",
     "text": [
      "\rMorphologyExtractor create index: 4090899it [00:28, 151331.64it/s]"
     ]
    },
    {
     "name": "stderr",
     "output_type": "stream",
     "text": [
      "\rMorphologyExtractor create index: 4106060it [00:28, 150444.12it/s]"
     ]
    },
    {
     "name": "stderr",
     "output_type": "stream",
     "text": [
      "\rMorphologyExtractor create index: 4121154it [00:29, 150589.47it/s]"
     ]
    },
    {
     "name": "stderr",
     "output_type": "stream",
     "text": [
      "\rMorphologyExtractor create index: 4136228it [00:29, 146479.93it/s]"
     ]
    },
    {
     "name": "stderr",
     "output_type": "stream",
     "text": [
      "\rMorphologyExtractor create index: 4151509it [00:29, 148321.90it/s]"
     ]
    },
    {
     "name": "stderr",
     "output_type": "stream",
     "text": [
      "\rMorphologyExtractor create index: 4166371it [00:29, 146970.58it/s]"
     ]
    },
    {
     "name": "stderr",
     "output_type": "stream",
     "text": [
      "\rMorphologyExtractor create index: 4181092it [00:29, 146770.89it/s]"
     ]
    },
    {
     "name": "stderr",
     "output_type": "stream",
     "text": [
      "\rMorphologyExtractor create index: 4195786it [00:29, 145698.29it/s]"
     ]
    },
    {
     "name": "stderr",
     "output_type": "stream",
     "text": [
      "\rMorphologyExtractor create index: 4210370it [00:29, 145365.62it/s]"
     ]
    },
    {
     "name": "stderr",
     "output_type": "stream",
     "text": [
      "\rMorphologyExtractor create index: 4224917it [00:29, 144038.55it/s]"
     ]
    },
    {
     "name": "stderr",
     "output_type": "stream",
     "text": [
      "\rMorphologyExtractor create index: 4239331it [00:29, 143555.46it/s]"
     ]
    },
    {
     "name": "stderr",
     "output_type": "stream",
     "text": [
      "\rMorphologyExtractor create index: 4253694it [00:29, 141206.46it/s]"
     ]
    },
    {
     "name": "stderr",
     "output_type": "stream",
     "text": [
      "\rMorphologyExtractor create index: 4267829it [00:30, 140963.09it/s]"
     ]
    },
    {
     "name": "stderr",
     "output_type": "stream",
     "text": [
      "\rMorphologyExtractor create index: 4283117it [00:30, 144337.97it/s]"
     ]
    },
    {
     "name": "stderr",
     "output_type": "stream",
     "text": [
      "\rMorphologyExtractor create index: 4298071it [00:30, 145858.89it/s]"
     ]
    },
    {
     "name": "stderr",
     "output_type": "stream",
     "text": [
      "\rMorphologyExtractor create index: 4313042it [00:30, 146992.06it/s]"
     ]
    },
    {
     "name": "stderr",
     "output_type": "stream",
     "text": [
      "\rMorphologyExtractor create index: 4327760it [00:30, 146465.76it/s]"
     ]
    },
    {
     "name": "stderr",
     "output_type": "stream",
     "text": [
      "\rMorphologyExtractor create index: 4342794it [00:30, 147606.01it/s]"
     ]
    },
    {
     "name": "stderr",
     "output_type": "stream",
     "text": [
      "\rMorphologyExtractor create index: 4357879it [00:30, 148560.53it/s]"
     ]
    },
    {
     "name": "stderr",
     "output_type": "stream",
     "text": [
      "\rMorphologyExtractor create index: 4372745it [00:30, 147164.16it/s]"
     ]
    },
    {
     "name": "stderr",
     "output_type": "stream",
     "text": [
      "\rMorphologyExtractor create index: 4387471it [00:30, 147132.98it/s]"
     ]
    },
    {
     "name": "stderr",
     "output_type": "stream",
     "text": [
      "\rMorphologyExtractor create index: 4402191it [00:30, 145388.15it/s]"
     ]
    },
    {
     "name": "stderr",
     "output_type": "stream",
     "text": [
      "\rMorphologyExtractor create index: 4416927it [00:31, 145971.91it/s]"
     ]
    },
    {
     "name": "stderr",
     "output_type": "stream",
     "text": [
      "\rMorphologyExtractor create index: 4431532it [00:31, 145660.75it/s]"
     ]
    },
    {
     "name": "stderr",
     "output_type": "stream",
     "text": [
      "\rMorphologyExtractor create index: 4446230it [00:31, 146052.62it/s]"
     ]
    },
    {
     "name": "stderr",
     "output_type": "stream",
     "text": [
      "\rMorphologyExtractor create index: 4460945it [00:31, 146379.84it/s]"
     ]
    },
    {
     "name": "stderr",
     "output_type": "stream",
     "text": [
      "\rMorphologyExtractor create index: 4475586it [00:31, 138401.77it/s]"
     ]
    },
    {
     "name": "stderr",
     "output_type": "stream",
     "text": [
      "\rMorphologyExtractor create index: 4490083it [00:31, 140306.88it/s]"
     ]
    },
    {
     "name": "stderr",
     "output_type": "stream",
     "text": [
      "\rMorphologyExtractor create index: 4504185it [00:31, 135808.20it/s]"
     ]
    },
    {
     "name": "stderr",
     "output_type": "stream",
     "text": [
      "\rMorphologyExtractor create index: 4517847it [00:31, 134799.41it/s]"
     ]
    },
    {
     "name": "stderr",
     "output_type": "stream",
     "text": [
      "\rMorphologyExtractor create index: 4533193it [00:31, 139900.33it/s]"
     ]
    },
    {
     "name": "stderr",
     "output_type": "stream",
     "text": [
      "\rMorphologyExtractor create index: 4548326it [00:31, 143142.91it/s]"
     ]
    },
    {
     "name": "stderr",
     "output_type": "stream",
     "text": [
      "\rMorphologyExtractor create index: 4562722it [00:32, 142842.07it/s]"
     ]
    },
    {
     "name": "stderr",
     "output_type": "stream",
     "text": [
      "\rMorphologyExtractor create index: 4577064it [00:32, 135280.51it/s]"
     ]
    },
    {
     "name": "stderr",
     "output_type": "stream",
     "text": [
      "\rMorphologyExtractor create index: 4590716it [00:32, 134461.15it/s]"
     ]
    },
    {
     "name": "stderr",
     "output_type": "stream",
     "text": [
      "\rMorphologyExtractor create index: 4605391it [00:32, 137924.96it/s]"
     ]
    },
    {
     "name": "stderr",
     "output_type": "stream",
     "text": [
      "\rMorphologyExtractor create index: 4620488it [00:32, 141595.03it/s]"
     ]
    },
    {
     "name": "stderr",
     "output_type": "stream",
     "text": [
      "\rMorphologyExtractor create index: 4635959it [00:32, 145287.16it/s]"
     ]
    },
    {
     "name": "stderr",
     "output_type": "stream",
     "text": [
      "\rMorphologyExtractor create index: 4650570it [00:32, 145410.42it/s]"
     ]
    },
    {
     "name": "stderr",
     "output_type": "stream",
     "text": [
      "\rMorphologyExtractor create index: 4665169it [00:32, 141451.60it/s]"
     ]
    },
    {
     "name": "stderr",
     "output_type": "stream",
     "text": [
      "\rMorphologyExtractor create index: 4680277it [00:32, 144205.83it/s]"
     ]
    },
    {
     "name": "stderr",
     "output_type": "stream",
     "text": [
      "\rMorphologyExtractor create index: 4694867it [00:33, 144708.23it/s]"
     ]
    },
    {
     "name": "stderr",
     "output_type": "stream",
     "text": [
      "\rMorphologyExtractor create index: 4709379it [00:33, 143721.80it/s]"
     ]
    },
    {
     "name": "stderr",
     "output_type": "stream",
     "text": [
      "\rMorphologyExtractor create index: 4724705it [00:33, 146456.17it/s]"
     ]
    },
    {
     "name": "stderr",
     "output_type": "stream",
     "text": [
      "\rMorphologyExtractor create index: 4740217it [00:33, 148948.53it/s]"
     ]
    },
    {
     "name": "stderr",
     "output_type": "stream",
     "text": [
      "\rMorphologyExtractor create index: 4755430it [00:33, 149886.31it/s]"
     ]
    },
    {
     "name": "stderr",
     "output_type": "stream",
     "text": [
      "\rMorphologyExtractor create index: 4770667it [00:33, 150621.96it/s]"
     ]
    },
    {
     "name": "stderr",
     "output_type": "stream",
     "text": [
      "\rMorphologyExtractor create index: 4786708it [00:33, 153427.61it/s]"
     ]
    },
    {
     "name": "stderr",
     "output_type": "stream",
     "text": [
      "\rMorphologyExtractor create index: 4802077it [00:33, 152937.91it/s]"
     ]
    },
    {
     "name": "stderr",
     "output_type": "stream",
     "text": [
      "\rMorphologyExtractor create index: 4817555it [00:33, 153483.67it/s]"
     ]
    },
    {
     "name": "stderr",
     "output_type": "stream",
     "text": [
      "\rMorphologyExtractor create index: 4832917it [00:33, 152671.73it/s]"
     ]
    },
    {
     "name": "stderr",
     "output_type": "stream",
     "text": [
      "\rMorphologyExtractor create index: 4848394it [00:34, 153293.73it/s]"
     ]
    },
    {
     "name": "stderr",
     "output_type": "stream",
     "text": [
      "\rMorphologyExtractor create index: 4863732it [00:34, 151095.75it/s]"
     ]
    },
    {
     "name": "stderr",
     "output_type": "stream",
     "text": [
      "\rMorphologyExtractor create index: 4878855it [00:34, 149569.96it/s]"
     ]
    },
    {
     "name": "stderr",
     "output_type": "stream",
     "text": [
      "\rMorphologyExtractor create index: 4893853it [00:34, 149690.11it/s]"
     ]
    },
    {
     "name": "stderr",
     "output_type": "stream",
     "text": [
      "\rMorphologyExtractor create index: 4909158it [00:34, 150681.57it/s]"
     ]
    },
    {
     "name": "stderr",
     "output_type": "stream",
     "text": [
      "\rMorphologyExtractor create index: 4925173it [00:34, 153400.68it/s]"
     ]
    },
    {
     "name": "stderr",
     "output_type": "stream",
     "text": [
      "\rMorphologyExtractor create index: 4940531it [00:34, 151532.97it/s]"
     ]
    },
    {
     "name": "stderr",
     "output_type": "stream",
     "text": [
      "\rMorphologyExtractor create index: 4955938it [00:34, 152281.65it/s]"
     ]
    },
    {
     "name": "stderr",
     "output_type": "stream",
     "text": [
      "\rMorphologyExtractor create index: 4971732it [00:34, 153934.77it/s]"
     ]
    },
    {
     "name": "stderr",
     "output_type": "stream",
     "text": [
      "\rMorphologyExtractor create index: 4987139it [00:34, 151962.10it/s]"
     ]
    },
    {
     "name": "stderr",
     "output_type": "stream",
     "text": [
      "\rMorphologyExtractor create index: 5002351it [00:35, 151857.74it/s]"
     ]
    },
    {
     "name": "stderr",
     "output_type": "stream",
     "text": [
      "\rMorphologyExtractor create index: 5017815it [00:35, 152679.20it/s]"
     ]
    },
    {
     "name": "stderr",
     "output_type": "stream",
     "text": [
      "\rMorphologyExtractor create index: 5033589it [00:35, 154162.95it/s]"
     ]
    },
    {
     "name": "stderr",
     "output_type": "stream",
     "text": [
      "\rMorphologyExtractor create index: 5050038it [00:35, 157121.80it/s]"
     ]
    },
    {
     "name": "stderr",
     "output_type": "stream",
     "text": [
      "\rMorphologyExtractor create index: 5065919it [00:35, 157621.28it/s]"
     ]
    },
    {
     "name": "stderr",
     "output_type": "stream",
     "text": [
      "\rMorphologyExtractor create index: 5082133it [00:35, 158948.71it/s]"
     ]
    },
    {
     "name": "stderr",
     "output_type": "stream",
     "text": [
      "\rMorphologyExtractor create index: 5096053it [00:35, 143037.07it/s]"
     ]
    },
    {
     "name": "stderr",
     "output_type": "stream",
     "text": [
      "\n"
     ]
    }
   ],
   "source": [
    "import numpy as np\n",
    "from loaders.loading import load_train\n",
    "from sklearn.model_selection import train_test_split\n",
    "from pipeline import transform"
   ]
  },
  {
   "cell_type": "code",
   "execution_count": 2,
   "metadata": {
    "collapsed": true
   },
   "outputs": [],
   "source": [
    "df = load_train(['class', 'before', 'after'], r'../input/norm_challenge_ru')\n",
    "df['prev_prev'] = df['before'].shift(2)\n",
    "df['prev'] = df['before'].shift(1)\n",
    "df['next'] = df['before'].shift(-1)\n",
    "df['next_next'] = df['before'].shift(-2)\n",
    "df = df.fillna('')\n",
    "print(df.info())"
   ]
  },
  {
   "cell_type": "code",
   "execution_count": 3,
   "metadata": {},
   "outputs": [],
   "source": [
    "x_train, x_test, y_train, y_test = train_test_split(df.drop(['after'], axis=1), df['after'], test_size=0.01, random_state=2017)\n",
    "x_test.drop(['class'], axis=1, inplace=True)"
   ]
  },
  {
   "cell_type": "code",
   "execution_count": 4,
   "metadata": {
    "collapsed": false
   },
   "outputs": [
    {
     "name": "stderr",
     "output_type": "stream",
     "text": [
      "\rDictClassTransformer_TRANS fit:   0%|          | 0/10468770 [00:00<?, ?it/s]"
     ]
    },
    {
     "name": "stderr",
     "output_type": "stream",
     "text": [
      "\rDictClassTransformer_TRANS fit:   0%|          | 13925/10468770 [00:01<13:52, 12550.95it/s]"
     ]
    },
    {
     "name": "stderr",
     "output_type": "stream",
     "text": [
      "\rDictClassTransformer_TRANS fit:   0%|          | 47881/10468770 [00:01<09:50, 17650.32it/s]"
     ]
    },
    {
     "name": "stderr",
     "output_type": "stream",
     "text": [
      "\rDictClassTransformer_TRANS fit:   1%|          | 98673/10468770 [00:01<06:57, 24844.73it/s]"
     ]
    },
    {
     "name": "stderr",
     "output_type": "stream",
     "text": [
      "\rDictClassTransformer_TRANS fit:   2%|▏         | 162005/10468770 [00:01<04:55, 34905.61it/s]"
     ]
    },
    {
     "name": "stderr",
     "output_type": "stream",
     "text": [
      "\rDictClassTransformer_TRANS fit:   2%|▏         | 228536/10468770 [00:01<03:29, 48768.52it/s]"
     ]
    },
    {
     "name": "stderr",
     "output_type": "stream",
     "text": [
      "\rDictClassTransformer_TRANS fit:   3%|▎         | 279547/10468770 [00:02<03:26, 49339.45it/s]"
     ]
    },
    {
     "name": "stderr",
     "output_type": "stream",
     "text": [
      "\rDictClassTransformer_TRANS fit:   3%|▎         | 357325/10468770 [00:02<02:27, 68619.37it/s]"
     ]
    },
    {
     "name": "stderr",
     "output_type": "stream",
     "text": [
      "\rDictClassTransformer_TRANS fit:   4%|▍         | 434500/10468770 [00:02<01:46, 94429.27it/s]"
     ]
    },
    {
     "name": "stderr",
     "output_type": "stream",
     "text": [
      "\rDictClassTransformer_TRANS fit:   5%|▍         | 514911/10468770 [00:02<01:17, 128435.00it/s]"
     ]
    },
    {
     "name": "stderr",
     "output_type": "stream",
     "text": [
      "\rDictClassTransformer_TRANS fit:   6%|▌         | 591619/10468770 [00:02<00:57, 171194.05it/s]"
     ]
    },
    {
     "name": "stderr",
     "output_type": "stream",
     "text": [
      "\rDictClassTransformer_TRANS fit:   6%|▋         | 666546/10468770 [00:03<00:44, 222750.82it/s]"
     ]
    },
    {
     "name": "stderr",
     "output_type": "stream",
     "text": [
      "\rDictClassTransformer_TRANS fit:   7%|▋         | 743008/10468770 [00:03<00:34, 282895.04it/s]"
     ]
    },
    {
     "name": "stderr",
     "output_type": "stream",
     "text": [
      "\rDictClassTransformer_TRANS fit:   8%|▊         | 824695/10468770 [00:03<00:27, 351905.50it/s]"
     ]
    },
    {
     "name": "stderr",
     "output_type": "stream",
     "text": [
      "\rDictClassTransformer_TRANS fit:   9%|▊         | 899274/10468770 [00:03<00:23, 406351.55it/s]"
     ]
    },
    {
     "name": "stderr",
     "output_type": "stream",
     "text": [
      "\rDictClassTransformer_TRANS fit:   9%|▉         | 976414/10468770 [00:03<00:20, 473585.72it/s]"
     ]
    },
    {
     "name": "stderr",
     "output_type": "stream",
     "text": [
      "\rDictClassTransformer_TRANS fit:  10%|█         | 1063643/10468770 [00:03<00:17, 548844.30it/s]"
     ]
    },
    {
     "name": "stderr",
     "output_type": "stream",
     "text": [
      "\rDictClassTransformer_TRANS fit:  11%|█         | 1149763/10468770 [00:03<00:15, 615853.72it/s]"
     ]
    },
    {
     "name": "stderr",
     "output_type": "stream",
     "text": [
      "\rDictClassTransformer_TRANS fit:  12%|█▏        | 1241189/10468770 [00:03<00:13, 682700.39it/s]"
     ]
    },
    {
     "name": "stderr",
     "output_type": "stream",
     "text": [
      "\rDictClassTransformer_TRANS fit:  13%|█▎        | 1333891/10468770 [00:03<00:12, 741311.63it/s]"
     ]
    },
    {
     "name": "stderr",
     "output_type": "stream",
     "text": [
      "\rDictClassTransformer_TRANS fit:  14%|█▎        | 1420073/10468770 [00:03<00:12, 731027.20it/s]"
     ]
    },
    {
     "name": "stderr",
     "output_type": "stream",
     "text": [
      "\rDictClassTransformer_TRANS fit:  14%|█▍        | 1501644/10468770 [00:04<00:15, 582722.31it/s]"
     ]
    },
    {
     "name": "stderr",
     "output_type": "stream",
     "text": [
      "\rDictClassTransformer_TRANS fit:  15%|█▌        | 1577698/10468770 [00:04<00:14, 626676.68it/s]"
     ]
    },
    {
     "name": "stderr",
     "output_type": "stream",
     "text": [
      "\rDictClassTransformer_TRANS fit:  16%|█▌        | 1648790/10468770 [00:04<00:13, 636211.10it/s]"
     ]
    },
    {
     "name": "stderr",
     "output_type": "stream",
     "text": [
      "\rDictClassTransformer_TRANS fit:  16%|█▋        | 1718343/10468770 [00:04<00:14, 614928.83it/s]"
     ]
    },
    {
     "name": "stderr",
     "output_type": "stream",
     "text": [
      "\rDictClassTransformer_TRANS fit:  17%|█▋        | 1784142/10468770 [00:04<00:14, 619755.35it/s]"
     ]
    },
    {
     "name": "stderr",
     "output_type": "stream",
     "text": [
      "\rDictClassTransformer_TRANS fit:  18%|█▊        | 1853689/10468770 [00:04<00:13, 640678.76it/s]"
     ]
    },
    {
     "name": "stderr",
     "output_type": "stream",
     "text": [
      "\rDictClassTransformer_TRANS fit:  18%|█▊        | 1936446/10468770 [00:04<00:12, 687238.53it/s]"
     ]
    },
    {
     "name": "stderr",
     "output_type": "stream",
     "text": [
      "\rDictClassTransformer_TRANS fit:  19%|█▉        | 2018255/10468770 [00:04<00:11, 721867.89it/s]"
     ]
    },
    {
     "name": "stderr",
     "output_type": "stream",
     "text": [
      "\rDictClassTransformer_TRANS fit:  20%|██        | 2101361/10468770 [00:04<00:11, 751487.35it/s]"
     ]
    },
    {
     "name": "stderr",
     "output_type": "stream",
     "text": [
      "\rDictClassTransformer_TRANS fit:  21%|██        | 2188857/10468770 [00:05<00:10, 784708.00it/s]"
     ]
    },
    {
     "name": "stderr",
     "output_type": "stream",
     "text": [
      "\rDictClassTransformer_TRANS fit:  22%|██▏       | 2275243/10468770 [00:05<00:10, 806885.61it/s]"
     ]
    },
    {
     "name": "stderr",
     "output_type": "stream",
     "text": [
      "\rDictClassTransformer_TRANS fit:  23%|██▎       | 2364702/10468770 [00:05<00:09, 831336.21it/s]"
     ]
    },
    {
     "name": "stderr",
     "output_type": "stream",
     "text": [
      "\rDictClassTransformer_TRANS fit:  23%|██▎       | 2448967/10468770 [00:05<00:09, 807814.52it/s]"
     ]
    },
    {
     "name": "stderr",
     "output_type": "stream",
     "text": [
      "\rDictClassTransformer_TRANS fit:  24%|██▍       | 2532785/10468770 [00:05<00:09, 816690.27it/s]"
     ]
    },
    {
     "name": "stderr",
     "output_type": "stream",
     "text": [
      "\rDictClassTransformer_TRANS fit:  25%|██▍       | 2615134/10468770 [00:05<00:09, 818649.91it/s]"
     ]
    },
    {
     "name": "stderr",
     "output_type": "stream",
     "text": [
      "\rDictClassTransformer_TRANS fit:  26%|██▌       | 2706583/10468770 [00:05<00:09, 845221.61it/s]"
     ]
    },
    {
     "name": "stderr",
     "output_type": "stream",
     "text": [
      "\rDictClassTransformer_TRANS fit:  27%|██▋       | 2794397/10468770 [00:05<00:08, 854695.43it/s]"
     ]
    },
    {
     "name": "stderr",
     "output_type": "stream",
     "text": [
      "\rDictClassTransformer_TRANS fit:  28%|██▊       | 2880279/10468770 [00:05<00:08, 854832.02it/s]"
     ]
    },
    {
     "name": "stderr",
     "output_type": "stream",
     "text": [
      "\rDictClassTransformer_TRANS fit:  28%|██▊       | 2966051/10468770 [00:06<00:09, 775382.88it/s]"
     ]
    },
    {
     "name": "stderr",
     "output_type": "stream",
     "text": [
      "\rDictClassTransformer_TRANS fit:  29%|██▉       | 3053988/10468770 [00:06<00:09, 803901.42it/s]"
     ]
    },
    {
     "name": "stderr",
     "output_type": "stream",
     "text": [
      "\rDictClassTransformer_TRANS fit:  30%|███       | 3141992/10468770 [00:06<00:08, 825320.26it/s]"
     ]
    },
    {
     "name": "stderr",
     "output_type": "stream",
     "text": [
      "\rDictClassTransformer_TRANS fit:  31%|███       | 3236156/10468770 [00:06<00:08, 857080.59it/s]"
     ]
    },
    {
     "name": "stderr",
     "output_type": "stream",
     "text": [
      "\rDictClassTransformer_TRANS fit:  32%|███▏      | 3330288/10468770 [00:06<00:08, 880721.14it/s]"
     ]
    },
    {
     "name": "stderr",
     "output_type": "stream",
     "text": [
      "\rDictClassTransformer_TRANS fit:  33%|███▎      | 3419292/10468770 [00:06<00:08, 868335.14it/s]"
     ]
    },
    {
     "name": "stderr",
     "output_type": "stream",
     "text": [
      "\rDictClassTransformer_TRANS fit:  34%|███▎      | 3513722/10468770 [00:06<00:07, 889807.99it/s]"
     ]
    },
    {
     "name": "stderr",
     "output_type": "stream",
     "text": [
      "\rDictClassTransformer_TRANS fit:  34%|███▍      | 3611315/10468770 [00:06<00:07, 913989.53it/s]"
     ]
    },
    {
     "name": "stderr",
     "output_type": "stream",
     "text": [
      "\rDictClassTransformer_TRANS fit:  35%|███▌      | 3707237/10468770 [00:06<00:07, 927101.41it/s]"
     ]
    },
    {
     "name": "stderr",
     "output_type": "stream",
     "text": [
      "\rDictClassTransformer_TRANS fit:  36%|███▋      | 3800409/10468770 [00:06<00:07, 926848.04it/s]"
     ]
    },
    {
     "name": "stderr",
     "output_type": "stream",
     "text": [
      "\rDictClassTransformer_TRANS fit:  37%|███▋      | 3894754/10468770 [00:07<00:07, 931766.56it/s]"
     ]
    },
    {
     "name": "stderr",
     "output_type": "stream",
     "text": [
      "\rDictClassTransformer_TRANS fit:  38%|███▊      | 3989860/10468770 [00:07<00:06, 937469.52it/s]"
     ]
    },
    {
     "name": "stderr",
     "output_type": "stream",
     "text": [
      "\rDictClassTransformer_TRANS fit:  39%|███▉      | 4083778/10468770 [00:07<00:06, 932861.78it/s]"
     ]
    },
    {
     "name": "stderr",
     "output_type": "stream",
     "text": [
      "\rDictClassTransformer_TRANS fit:  40%|███▉      | 4182587/10468770 [00:07<00:06, 948767.94it/s]"
     ]
    },
    {
     "name": "stderr",
     "output_type": "stream",
     "text": [
      "\rDictClassTransformer_TRANS fit:  41%|████      | 4277618/10468770 [00:07<00:06, 942342.95it/s]"
     ]
    },
    {
     "name": "stderr",
     "output_type": "stream",
     "text": [
      "\rDictClassTransformer_TRANS fit:  42%|████▏     | 4371970/10468770 [00:07<00:06, 941916.55it/s]"
     ]
    },
    {
     "name": "stderr",
     "output_type": "stream",
     "text": [
      "\rDictClassTransformer_TRANS fit:  43%|████▎     | 4470900/10468770 [00:07<00:06, 955647.65it/s]"
     ]
    },
    {
     "name": "stderr",
     "output_type": "stream",
     "text": [
      "\rDictClassTransformer_TRANS fit:  44%|████▎     | 4568502/10468770 [00:07<00:06, 961667.06it/s]"
     ]
    },
    {
     "name": "stderr",
     "output_type": "stream",
     "text": [
      "\rDictClassTransformer_TRANS fit:  45%|████▍     | 4666212/10468770 [00:07<00:06, 966245.10it/s]"
     ]
    },
    {
     "name": "stderr",
     "output_type": "stream",
     "text": [
      "\rDictClassTransformer_TRANS fit:  45%|████▌     | 4762900/10468770 [00:07<00:05, 958012.74it/s]"
     ]
    },
    {
     "name": "stderr",
     "output_type": "stream",
     "text": [
      "\rDictClassTransformer_TRANS fit:  46%|████▋     | 4859696/10468770 [00:08<00:05, 960974.98it/s]"
     ]
    },
    {
     "name": "stderr",
     "output_type": "stream",
     "text": [
      "\rDictClassTransformer_TRANS fit:  47%|████▋     | 4959219/10468770 [00:08<00:05, 970998.19it/s]"
     ]
    },
    {
     "name": "stderr",
     "output_type": "stream",
     "text": [
      "\rDictClassTransformer_TRANS fit:  48%|████▊     | 5060427/10468770 [00:08<00:05, 982965.77it/s]"
     ]
    },
    {
     "name": "stderr",
     "output_type": "stream",
     "text": [
      "\rDictClassTransformer_TRANS fit:  49%|████▉     | 5160334/10468770 [00:08<00:05, 987741.84it/s]"
     ]
    },
    {
     "name": "stderr",
     "output_type": "stream",
     "text": [
      "\rDictClassTransformer_TRANS fit:  50%|█████     | 5259166/10468770 [00:08<00:05, 985353.26it/s]"
     ]
    },
    {
     "name": "stderr",
     "output_type": "stream",
     "text": [
      "\rDictClassTransformer_TRANS fit:  51%|█████     | 5358782/10468770 [00:08<00:05, 988569.46it/s]"
     ]
    },
    {
     "name": "stderr",
     "output_type": "stream",
     "text": [
      "\rDictClassTransformer_TRANS fit:  52%|█████▏    | 5458581/10468770 [00:08<00:05, 991375.06it/s]"
     ]
    },
    {
     "name": "stderr",
     "output_type": "stream",
     "text": [
      "\rDictClassTransformer_TRANS fit:  53%|█████▎    | 5558053/10468770 [00:08<00:04, 992375.76it/s]"
     ]
    },
    {
     "name": "stderr",
     "output_type": "stream",
     "text": [
      "\rDictClassTransformer_TRANS fit:  54%|█████▍    | 5657308/10468770 [00:08<00:04, 976911.16it/s]"
     ]
    },
    {
     "name": "stderr",
     "output_type": "stream",
     "text": [
      "\rDictClassTransformer_TRANS fit:  55%|█████▍    | 5755066/10468770 [00:08<00:04, 963472.40it/s]"
     ]
    },
    {
     "name": "stderr",
     "output_type": "stream",
     "text": [
      "\rDictClassTransformer_TRANS fit:  56%|█████▌    | 5852701/10468770 [00:09<00:04, 967296.71it/s]"
     ]
    },
    {
     "name": "stderr",
     "output_type": "stream",
     "text": [
      "\rDictClassTransformer_TRANS fit:  57%|█████▋    | 5954411/10468770 [00:09<00:04, 981715.50it/s]"
     ]
    },
    {
     "name": "stderr",
     "output_type": "stream",
     "text": [
      "\rDictClassTransformer_TRANS fit:  58%|█████▊    | 6052681/10468770 [00:09<00:04, 933203.08it/s]"
     ]
    },
    {
     "name": "stderr",
     "output_type": "stream",
     "text": [
      "\rDictClassTransformer_TRANS fit:  59%|█████▊    | 6146572/10468770 [00:09<00:04, 934633.87it/s]"
     ]
    },
    {
     "name": "stderr",
     "output_type": "stream",
     "text": [
      "\rDictClassTransformer_TRANS fit:  60%|█████▉    | 6241413/10468770 [00:09<00:04, 938718.79it/s]"
     ]
    },
    {
     "name": "stderr",
     "output_type": "stream",
     "text": [
      "\rDictClassTransformer_TRANS fit:  61%|██████    | 6338473/10468770 [00:09<00:04, 948053.37it/s]"
     ]
    },
    {
     "name": "stderr",
     "output_type": "stream",
     "text": [
      "\rDictClassTransformer_TRANS fit:  61%|██████▏   | 6434624/10468770 [00:09<00:04, 952050.24it/s]"
     ]
    },
    {
     "name": "stderr",
     "output_type": "stream",
     "text": [
      "\rDictClassTransformer_TRANS fit:  62%|██████▏   | 6535460/10468770 [00:10<00:16, 238976.16it/s]"
     ]
    },
    {
     "name": "stderr",
     "output_type": "stream",
     "text": [
      "\rDictClassTransformer_TRANS fit:  63%|██████▎   | 6624424/10468770 [00:10<00:12, 306149.27it/s]"
     ]
    },
    {
     "name": "stderr",
     "output_type": "stream",
     "text": [
      "\rDictClassTransformer_TRANS fit:  64%|██████▍   | 6718970/10468770 [00:11<00:09, 384057.33it/s]"
     ]
    },
    {
     "name": "stderr",
     "output_type": "stream",
     "text": [
      "\rDictClassTransformer_TRANS fit:  65%|██████▌   | 6814386/10468770 [00:11<00:07, 467933.09it/s]"
     ]
    },
    {
     "name": "stderr",
     "output_type": "stream",
     "text": [
      "\rDictClassTransformer_TRANS fit:  66%|██████▌   | 6906803/10468770 [00:11<00:06, 549281.91it/s]"
     ]
    },
    {
     "name": "stderr",
     "output_type": "stream",
     "text": [
      "\rDictClassTransformer_TRANS fit:  67%|██████▋   | 6998284/10468770 [00:11<00:05, 624091.73it/s]"
     ]
    },
    {
     "name": "stderr",
     "output_type": "stream",
     "text": [
      "\rDictClassTransformer_TRANS fit:  68%|██████▊   | 7092820/10468770 [00:11<00:04, 694940.49it/s]"
     ]
    },
    {
     "name": "stderr",
     "output_type": "stream",
     "text": [
      "\rDictClassTransformer_TRANS fit:  69%|██████▊   | 7183252/10468770 [00:11<00:04, 740795.81it/s]"
     ]
    },
    {
     "name": "stderr",
     "output_type": "stream",
     "text": [
      "\rDictClassTransformer_TRANS fit:  69%|██████▉   | 7274102/10468770 [00:11<00:04, 784217.36it/s]"
     ]
    },
    {
     "name": "stderr",
     "output_type": "stream",
     "text": [
      "\rDictClassTransformer_TRANS fit:  70%|███████   | 7364056/10468770 [00:11<00:03, 810324.16it/s]"
     ]
    },
    {
     "name": "stderr",
     "output_type": "stream",
     "text": [
      "\rDictClassTransformer_TRANS fit:  71%|███████   | 7453381/10468770 [00:11<00:03, 821524.32it/s]"
     ]
    },
    {
     "name": "stderr",
     "output_type": "stream",
     "text": [
      "\rDictClassTransformer_TRANS fit:  72%|███████▏  | 7542110/10468770 [00:11<00:03, 840206.75it/s]"
     ]
    },
    {
     "name": "stderr",
     "output_type": "stream",
     "text": [
      "\rDictClassTransformer_TRANS fit:  73%|███████▎  | 7635888/10468770 [00:12<00:03, 867275.43it/s]"
     ]
    },
    {
     "name": "stderr",
     "output_type": "stream",
     "text": [
      "\rDictClassTransformer_TRANS fit:  74%|███████▍  | 7730504/10468770 [00:12<00:03, 889522.08it/s]"
     ]
    },
    {
     "name": "stderr",
     "output_type": "stream",
     "text": [
      "\rDictClassTransformer_TRANS fit:  75%|███████▍  | 7827372/10468770 [00:12<00:02, 911876.55it/s]"
     ]
    },
    {
     "name": "stderr",
     "output_type": "stream",
     "text": [
      "\rDictClassTransformer_TRANS fit:  76%|███████▌  | 7920345/10468770 [00:12<00:02, 908566.22it/s]"
     ]
    },
    {
     "name": "stderr",
     "output_type": "stream",
     "text": [
      "\rDictClassTransformer_TRANS fit:  77%|███████▋  | 8016023/10468770 [00:12<00:02, 922510.02it/s]"
     ]
    },
    {
     "name": "stderr",
     "output_type": "stream",
     "text": [
      "\rDictClassTransformer_TRANS fit:  78%|███████▊  | 8113963/10468770 [00:12<00:02, 938868.44it/s]"
     ]
    },
    {
     "name": "stderr",
     "output_type": "stream",
     "text": [
      "\rDictClassTransformer_TRANS fit:  78%|███████▊  | 8212992/10468770 [00:12<00:02, 953724.92it/s]"
     ]
    },
    {
     "name": "stderr",
     "output_type": "stream",
     "text": [
      "\rDictClassTransformer_TRANS fit:  79%|███████▉  | 8310831/10468770 [00:12<00:02, 960990.44it/s]"
     ]
    },
    {
     "name": "stderr",
     "output_type": "stream",
     "text": [
      "\rDictClassTransformer_TRANS fit:  80%|████████  | 8407337/10468770 [00:12<00:02, 956431.51it/s]"
     ]
    },
    {
     "name": "stderr",
     "output_type": "stream",
     "text": [
      "\rDictClassTransformer_TRANS fit:  81%|████████  | 8503449/10468770 [00:12<00:02, 957830.79it/s]"
     ]
    },
    {
     "name": "stderr",
     "output_type": "stream",
     "text": [
      "\rDictClassTransformer_TRANS fit:  82%|████████▏ | 8601962/10468770 [00:13<00:01, 965849.11it/s]"
     ]
    },
    {
     "name": "stderr",
     "output_type": "stream",
     "text": [
      "\rDictClassTransformer_TRANS fit:  83%|████████▎ | 8702812/10468770 [00:13<00:01, 978260.31it/s]"
     ]
    },
    {
     "name": "stderr",
     "output_type": "stream",
     "text": [
      "\rDictClassTransformer_TRANS fit:  84%|████████▍ | 8800788/10468770 [00:13<00:01, 967168.41it/s]"
     ]
    },
    {
     "name": "stderr",
     "output_type": "stream",
     "text": [
      "\rDictClassTransformer_TRANS fit:  85%|████████▌ | 8899471/10468770 [00:13<00:01, 972980.97it/s]"
     ]
    },
    {
     "name": "stderr",
     "output_type": "stream",
     "text": [
      "\rDictClassTransformer_TRANS fit:  86%|████████▌ | 8997543/10468770 [00:13<00:01, 975287.33it/s]"
     ]
    },
    {
     "name": "stderr",
     "output_type": "stream",
     "text": [
      "\rDictClassTransformer_TRANS fit:  87%|████████▋ | 9099094/10468770 [00:13<00:01, 987015.13it/s]"
     ]
    },
    {
     "name": "stderr",
     "output_type": "stream",
     "text": [
      "\rDictClassTransformer_TRANS fit:  88%|████████▊ | 9197880/10468770 [00:13<00:01, 977161.40it/s]"
     ]
    },
    {
     "name": "stderr",
     "output_type": "stream",
     "text": [
      "\rDictClassTransformer_TRANS fit:  89%|████████▉ | 9295678/10468770 [00:13<00:01, 968106.13it/s]"
     ]
    },
    {
     "name": "stderr",
     "output_type": "stream",
     "text": [
      "\rDictClassTransformer_TRANS fit:  90%|████████▉ | 9394151/10468770 [00:13<00:01, 973025.39it/s]"
     ]
    },
    {
     "name": "stderr",
     "output_type": "stream",
     "text": [
      "\rDictClassTransformer_TRANS fit:  91%|█████████ | 9491513/10468770 [00:13<00:01, 964474.94it/s]"
     ]
    },
    {
     "name": "stderr",
     "output_type": "stream",
     "text": [
      "\rDictClassTransformer_TRANS fit:  92%|█████████▏| 9593953/10468770 [00:14<00:00, 981700.74it/s]"
     ]
    },
    {
     "name": "stderr",
     "output_type": "stream",
     "text": [
      "\rDictClassTransformer_TRANS fit:  93%|█████████▎| 9697545/10468770 [00:14<00:00, 997360.66it/s]"
     ]
    },
    {
     "name": "stderr",
     "output_type": "stream",
     "text": [
      "\rDictClassTransformer_TRANS fit:  94%|█████████▎| 9800041/10468770 [00:14<00:00, 1005471.41it/s]"
     ]
    },
    {
     "name": "stderr",
     "output_type": "stream",
     "text": [
      "\rDictClassTransformer_TRANS fit:  95%|█████████▍| 9900704/10468770 [00:14<00:00, 1004918.38it/s]"
     ]
    },
    {
     "name": "stderr",
     "output_type": "stream",
     "text": [
      "\rDictClassTransformer_TRANS fit:  96%|█████████▌| 10001277/10468770 [00:14<00:00, 996724.47it/s]"
     ]
    },
    {
     "name": "stderr",
     "output_type": "stream",
     "text": [
      "\rDictClassTransformer_TRANS fit:  96%|█████████▋| 10101643/10468770 [00:14<00:00, 998794.62it/s]"
     ]
    },
    {
     "name": "stderr",
     "output_type": "stream",
     "text": [
      "\rDictClassTransformer_TRANS fit:  97%|█████████▋| 10201574/10468770 [00:14<00:00, 998626.73it/s]"
     ]
    },
    {
     "name": "stderr",
     "output_type": "stream",
     "text": [
      "\rDictClassTransformer_TRANS fit:  98%|█████████▊| 10301473/10468770 [00:14<00:00, 982971.39it/s]"
     ]
    },
    {
     "name": "stderr",
     "output_type": "stream",
     "text": [
      "\rDictClassTransformer_TRANS fit:  99%|█████████▉| 10401282/10468770 [00:14<00:00, 987456.15it/s]"
     ]
    },
    {
     "name": "stderr",
     "output_type": "stream",
     "text": [
      "\rDictClassTransformer_TRANS fit: 100%|██████████| 10468770/10468770 [00:15<00:00, 691682.29it/s]"
     ]
    },
    {
     "name": "stderr",
     "output_type": "stream",
     "text": [
      "\n\rDictClassTransformer_PUNCT fit:   0%|          | 0/10468770 [00:00<?, ?it/s]"
     ]
    },
    {
     "name": "stderr",
     "output_type": "stream",
     "text": [
      "\rDictClassTransformer_PUNCT fit:   1%|          | 84120/10468770 [00:00<00:12, 841198.80it/s]"
     ]
    },
    {
     "name": "stderr",
     "output_type": "stream",
     "text": [
      "\rDictClassTransformer_PUNCT fit:   2%|▏         | 168408/10468770 [00:00<00:12, 841697.28it/s]"
     ]
    },
    {
     "name": "stdout",
     "output_type": "stream",
     "text": [
      "129409\n"
     ]
    },
    {
     "name": "stderr",
     "output_type": "stream",
     "text": [
      "\rDictClassTransformer_PUNCT fit:   2%|▏         | 258560/10468770 [00:00<00:11, 858790.84it/s]"
     ]
    },
    {
     "name": "stderr",
     "output_type": "stream",
     "text": [
      "\rDictClassTransformer_PUNCT fit:   3%|▎         | 347917/10468770 [00:00<00:11, 868935.39it/s]"
     ]
    },
    {
     "name": "stderr",
     "output_type": "stream",
     "text": [
      "\rDictClassTransformer_PUNCT fit:   4%|▍         | 441432/10468770 [00:00<00:11, 887793.47it/s]"
     ]
    },
    {
     "name": "stderr",
     "output_type": "stream",
     "text": [
      "\rDictClassTransformer_PUNCT fit:   5%|▌         | 539792/10468770 [00:00<00:10, 914514.55it/s]"
     ]
    },
    {
     "name": "stderr",
     "output_type": "stream",
     "text": [
      "\rDictClassTransformer_PUNCT fit:   6%|▌         | 643294/10468770 [00:00<00:10, 947612.83it/s]"
     ]
    },
    {
     "name": "stderr",
     "output_type": "stream",
     "text": [
      "\rDictClassTransformer_PUNCT fit:   7%|▋         | 745014/10468770 [00:00<00:10, 967448.85it/s]"
     ]
    },
    {
     "name": "stderr",
     "output_type": "stream",
     "text": [
      "\rDictClassTransformer_PUNCT fit:   8%|▊         | 848425/10468770 [00:00<00:09, 986526.60it/s]"
     ]
    },
    {
     "name": "stderr",
     "output_type": "stream",
     "text": [
      "\rDictClassTransformer_PUNCT fit:   9%|▉         | 949562/10468770 [00:01<00:09, 993848.00it/s]"
     ]
    },
    {
     "name": "stderr",
     "output_type": "stream",
     "text": [
      "\rDictClassTransformer_PUNCT fit:  10%|█         | 1058766/10468770 [00:01<00:09, 1021396.96it/s]"
     ]
    },
    {
     "name": "stderr",
     "output_type": "stream",
     "text": [
      "\rDictClassTransformer_PUNCT fit:  11%|█         | 1164432/10468770 [00:01<00:09, 1031720.76it/s]"
     ]
    },
    {
     "name": "stderr",
     "output_type": "stream",
     "text": [
      "\rDictClassTransformer_PUNCT fit:  12%|█▏        | 1271932/10468770 [00:01<00:08, 1044327.91it/s]"
     ]
    },
    {
     "name": "stderr",
     "output_type": "stream",
     "text": [
      "\rDictClassTransformer_PUNCT fit:  13%|█▎        | 1376841/10468770 [00:01<00:08, 1045745.58it/s]"
     ]
    },
    {
     "name": "stderr",
     "output_type": "stream",
     "text": [
      "\rDictClassTransformer_PUNCT fit:  14%|█▍        | 1481575/10468770 [00:01<00:08, 1046220.71it/s]"
     ]
    },
    {
     "name": "stderr",
     "output_type": "stream",
     "text": [
      "\rDictClassTransformer_PUNCT fit:  15%|█▌        | 1590648/10468770 [00:01<00:08, 1059186.91it/s]"
     ]
    },
    {
     "name": "stderr",
     "output_type": "stream",
     "text": [
      "\rDictClassTransformer_PUNCT fit:  16%|█▋        | 1702715/10468770 [00:01<00:08, 1076908.22it/s]"
     ]
    },
    {
     "name": "stderr",
     "output_type": "stream",
     "text": [
      "\rDictClassTransformer_PUNCT fit:  17%|█▋        | 1810371/10468770 [00:01<00:08, 1044724.99it/s]"
     ]
    },
    {
     "name": "stderr",
     "output_type": "stream",
     "text": [
      "\rDictClassTransformer_PUNCT fit:  18%|█▊        | 1915029/10468770 [00:01<00:08, 1040802.16it/s]"
     ]
    },
    {
     "name": "stderr",
     "output_type": "stream",
     "text": [
      "\rDictClassTransformer_PUNCT fit:  19%|█▉        | 2019243/10468770 [00:02<00:08, 1038991.61it/s]"
     ]
    },
    {
     "name": "stderr",
     "output_type": "stream",
     "text": [
      "\rDictClassTransformer_PUNCT fit:  20%|██        | 2127110/10468770 [00:02<00:07, 1050582.57it/s]"
     ]
    },
    {
     "name": "stderr",
     "output_type": "stream",
     "text": [
      "\rDictClassTransformer_PUNCT fit:  21%|██▏       | 2232265/10468770 [00:02<00:07, 1050277.58it/s]"
     ]
    },
    {
     "name": "stderr",
     "output_type": "stream",
     "text": [
      "\rDictClassTransformer_PUNCT fit:  22%|██▏       | 2341978/10468770 [00:02<00:07, 1063904.29it/s]"
     ]
    },
    {
     "name": "stderr",
     "output_type": "stream",
     "text": [
      "\rDictClassTransformer_PUNCT fit:  23%|██▎       | 2448459/10468770 [00:02<00:07, 1057306.73it/s]"
     ]
    },
    {
     "name": "stderr",
     "output_type": "stream",
     "text": [
      "\rDictClassTransformer_PUNCT fit:  24%|██▍       | 2557825/10468770 [00:02<00:07, 1067953.71it/s]"
     ]
    },
    {
     "name": "stderr",
     "output_type": "stream",
     "text": [
      "\rDictClassTransformer_PUNCT fit:  25%|██▌       | 2664697/10468770 [00:02<00:07, 1062338.20it/s]"
     ]
    },
    {
     "name": "stderr",
     "output_type": "stream",
     "text": [
      "\rDictClassTransformer_PUNCT fit:  26%|██▋       | 2770991/10468770 [00:02<00:07, 1053201.23it/s]"
     ]
    },
    {
     "name": "stderr",
     "output_type": "stream",
     "text": [
      "\rDictClassTransformer_PUNCT fit:  27%|██▋       | 2877246/10468770 [00:02<00:07, 1055985.09it/s]"
     ]
    },
    {
     "name": "stderr",
     "output_type": "stream",
     "text": [
      "\rDictClassTransformer_PUNCT fit:  28%|██▊       | 2982889/10468770 [00:02<00:07, 1048327.47it/s]"
     ]
    },
    {
     "name": "stderr",
     "output_type": "stream",
     "text": [
      "\rDictClassTransformer_PUNCT fit:  30%|██▉       | 3090445/10468770 [00:03<00:06, 1056344.94it/s]"
     ]
    },
    {
     "name": "stderr",
     "output_type": "stream",
     "text": [
      "\rDictClassTransformer_PUNCT fit:  31%|███       | 3196125/10468770 [00:03<00:06, 1056095.84it/s]"
     ]
    },
    {
     "name": "stderr",
     "output_type": "stream",
     "text": [
      "\rDictClassTransformer_PUNCT fit:  32%|███▏      | 3306707/10468770 [00:03<00:06, 1070534.46it/s]"
     ]
    },
    {
     "name": "stderr",
     "output_type": "stream",
     "text": [
      "\rDictClassTransformer_PUNCT fit:  33%|███▎      | 3415662/10468770 [00:03<00:06, 1076162.52it/s]"
     ]
    },
    {
     "name": "stderr",
     "output_type": "stream",
     "text": [
      "\rDictClassTransformer_PUNCT fit:  34%|███▎      | 3523334/10468770 [00:03<00:06, 1056567.64it/s]"
     ]
    },
    {
     "name": "stderr",
     "output_type": "stream",
     "text": [
      "\rDictClassTransformer_PUNCT fit:  35%|███▍      | 3633876/10468770 [00:03<00:06, 1070757.50it/s]"
     ]
    },
    {
     "name": "stderr",
     "output_type": "stream",
     "text": [
      "\rDictClassTransformer_PUNCT fit:  36%|███▌      | 3741081/10468770 [00:03<00:06, 1060383.63it/s]"
     ]
    },
    {
     "name": "stderr",
     "output_type": "stream",
     "text": [
      "\rDictClassTransformer_PUNCT fit:  37%|███▋      | 3852386/10468770 [00:03<00:06, 1075650.01it/s]"
     ]
    },
    {
     "name": "stderr",
     "output_type": "stream",
     "text": [
      "\rDictClassTransformer_PUNCT fit:  38%|███▊      | 3964604/10468770 [00:03<00:05, 1089198.29it/s]"
     ]
    },
    {
     "name": "stderr",
     "output_type": "stream",
     "text": [
      "\rDictClassTransformer_PUNCT fit:  39%|███▉      | 4073658/10468770 [00:03<00:05, 1081454.16it/s]"
     ]
    },
    {
     "name": "stderr",
     "output_type": "stream",
     "text": [
      "\rDictClassTransformer_PUNCT fit:  40%|███▉      | 4183422/10468770 [00:04<00:05, 1086259.10it/s]"
     ]
    },
    {
     "name": "stderr",
     "output_type": "stream",
     "text": [
      "\rDictClassTransformer_PUNCT fit:  41%|████      | 4294636/10468770 [00:04<00:05, 1093892.46it/s]"
     ]
    },
    {
     "name": "stderr",
     "output_type": "stream",
     "text": [
      "\rDictClassTransformer_PUNCT fit:  42%|████▏     | 4404094/10468770 [00:04<00:05, 1094075.48it/s]"
     ]
    },
    {
     "name": "stderr",
     "output_type": "stream",
     "text": [
      "\rDictClassTransformer_PUNCT fit:  43%|████▎     | 4515277/10468770 [00:04<00:05, 1099341.54it/s]"
     ]
    },
    {
     "name": "stderr",
     "output_type": "stream",
     "text": [
      "\rDictClassTransformer_PUNCT fit:  44%|████▍     | 4629485/10468770 [00:04<00:05, 1111820.62it/s]"
     ]
    },
    {
     "name": "stderr",
     "output_type": "stream",
     "text": [
      "\rDictClassTransformer_PUNCT fit:  45%|████▌     | 4740729/10468770 [00:04<00:05, 1086291.03it/s]"
     ]
    },
    {
     "name": "stderr",
     "output_type": "stream",
     "text": [
      "\rDictClassTransformer_PUNCT fit:  46%|████▋     | 4856668/10468770 [00:04<00:05, 1107233.75it/s]"
     ]
    },
    {
     "name": "stderr",
     "output_type": "stream",
     "text": [
      "\rDictClassTransformer_PUNCT fit:  47%|████▋     | 4968724/10468770 [00:04<00:04, 1111195.38it/s]"
     ]
    },
    {
     "name": "stderr",
     "output_type": "stream",
     "text": [
      "\rDictClassTransformer_PUNCT fit:  49%|████▊     | 5080001/10468770 [00:05<00:08, 617083.40it/s] "
     ]
    },
    {
     "name": "stderr",
     "output_type": "stream",
     "text": [
      "\rDictClassTransformer_PUNCT fit:  49%|████▉     | 5168995/10468770 [00:05<00:07, 679589.36it/s]"
     ]
    },
    {
     "name": "stderr",
     "output_type": "stream",
     "text": [
      "\rDictClassTransformer_PUNCT fit:  50%|█████     | 5274156/10468770 [00:05<00:06, 760275.65it/s]"
     ]
    },
    {
     "name": "stderr",
     "output_type": "stream",
     "text": [
      "\rDictClassTransformer_PUNCT fit:  51%|█████▏    | 5382047/10468770 [00:05<00:06, 834179.47it/s]"
     ]
    },
    {
     "name": "stderr",
     "output_type": "stream",
     "text": [
      "\rDictClassTransformer_PUNCT fit:  52%|█████▏    | 5479414/10468770 [00:05<00:05, 869069.23it/s]"
     ]
    },
    {
     "name": "stderr",
     "output_type": "stream",
     "text": [
      "\rDictClassTransformer_PUNCT fit:  53%|█████▎    | 5589207/10468770 [00:05<00:05, 927040.71it/s]"
     ]
    },
    {
     "name": "stderr",
     "output_type": "stream",
     "text": [
      "\rDictClassTransformer_PUNCT fit:  54%|█████▍    | 5697192/10468770 [00:05<00:04, 968138.90it/s]"
     ]
    },
    {
     "name": "stderr",
     "output_type": "stream",
     "text": [
      "\rDictClassTransformer_PUNCT fit:  55%|█████▌    | 5803038/10468770 [00:05<00:04, 993573.76it/s]"
     ]
    },
    {
     "name": "stderr",
     "output_type": "stream",
     "text": [
      "\rDictClassTransformer_PUNCT fit:  56%|█████▋    | 5909295/10468770 [00:05<00:04, 1013309.93it/s]"
     ]
    },
    {
     "name": "stderr",
     "output_type": "stream",
     "text": [
      "\rDictClassTransformer_PUNCT fit:  57%|█████▋    | 6016528/10468770 [00:06<00:04, 1030319.78it/s]"
     ]
    },
    {
     "name": "stderr",
     "output_type": "stream",
     "text": [
      "\rDictClassTransformer_PUNCT fit:  58%|█████▊    | 6124133/10468770 [00:06<00:04, 1043625.02it/s]"
     ]
    },
    {
     "name": "stderr",
     "output_type": "stream",
     "text": [
      "\rDictClassTransformer_PUNCT fit:  60%|█████▉    | 6234002/10468770 [00:06<00:03, 1059552.75it/s]"
     ]
    },
    {
     "name": "stderr",
     "output_type": "stream",
     "text": [
      "\rDictClassTransformer_PUNCT fit:  61%|██████    | 6342091/10468770 [00:06<00:03, 1065862.24it/s]"
     ]
    },
    {
     "name": "stderr",
     "output_type": "stream",
     "text": [
      "\rDictClassTransformer_PUNCT fit:  62%|██████▏   | 6449551/10468770 [00:06<00:03, 1058676.64it/s]"
     ]
    },
    {
     "name": "stderr",
     "output_type": "stream",
     "text": [
      "\rDictClassTransformer_PUNCT fit:  63%|██████▎   | 6560239/10468770 [00:06<00:03, 1072688.30it/s]"
     ]
    },
    {
     "name": "stderr",
     "output_type": "stream",
     "text": [
      "\rDictClassTransformer_PUNCT fit:  64%|██████▎   | 6669998/10468770 [00:06<00:03, 1080038.90it/s]"
     ]
    },
    {
     "name": "stderr",
     "output_type": "stream",
     "text": [
      "\rDictClassTransformer_PUNCT fit:  65%|██████▍   | 6779797/10468770 [00:06<00:03, 1085359.53it/s]"
     ]
    },
    {
     "name": "stderr",
     "output_type": "stream",
     "text": [
      "\rDictClassTransformer_PUNCT fit:  66%|██████▌   | 6888819/10468770 [00:06<00:03, 1086812.65it/s]"
     ]
    },
    {
     "name": "stderr",
     "output_type": "stream",
     "text": [
      "\rDictClassTransformer_PUNCT fit:  67%|██████▋   | 6997871/10468770 [00:06<00:03, 1087918.64it/s]"
     ]
    },
    {
     "name": "stderr",
     "output_type": "stream",
     "text": [
      "\rDictClassTransformer_PUNCT fit:  68%|██████▊   | 7107206/10468770 [00:07<00:03, 1089539.58it/s]"
     ]
    },
    {
     "name": "stderr",
     "output_type": "stream",
     "text": [
      "\rDictClassTransformer_PUNCT fit:  69%|██████▉   | 7216247/10468770 [00:07<00:02, 1087550.17it/s]"
     ]
    },
    {
     "name": "stderr",
     "output_type": "stream",
     "text": [
      "\rDictClassTransformer_PUNCT fit:  70%|██████▉   | 7326617/10468770 [00:07<00:02, 1092341.72it/s]"
     ]
    },
    {
     "name": "stderr",
     "output_type": "stream",
     "text": [
      "\rDictClassTransformer_PUNCT fit:  71%|███████   | 7435900/10468770 [00:07<00:02, 1092134.72it/s]"
     ]
    },
    {
     "name": "stderr",
     "output_type": "stream",
     "text": [
      "\rDictClassTransformer_PUNCT fit:  72%|███████▏  | 7545616/10468770 [00:07<00:02, 1093630.76it/s]"
     ]
    },
    {
     "name": "stderr",
     "output_type": "stream",
     "text": [
      "\rDictClassTransformer_PUNCT fit:  73%|███████▎  | 7655004/10468770 [00:07<00:02, 1091048.28it/s]"
     ]
    },
    {
     "name": "stderr",
     "output_type": "stream",
     "text": [
      "\rDictClassTransformer_PUNCT fit:  74%|███████▍  | 7764128/10468770 [00:07<00:02, 1062436.55it/s]"
     ]
    },
    {
     "name": "stderr",
     "output_type": "stream",
     "text": [
      "\rDictClassTransformer_PUNCT fit:  75%|███████▌  | 7873144/10468770 [00:07<00:02, 1070601.69it/s]"
     ]
    },
    {
     "name": "stderr",
     "output_type": "stream",
     "text": [
      "\rDictClassTransformer_PUNCT fit:  76%|███████▌  | 7980344/10468770 [00:07<00:02, 1067280.91it/s]"
     ]
    },
    {
     "name": "stderr",
     "output_type": "stream",
     "text": [
      "\rDictClassTransformer_PUNCT fit:  77%|███████▋  | 8087173/10468770 [00:07<00:02, 1064720.70it/s]"
     ]
    },
    {
     "name": "stderr",
     "output_type": "stream",
     "text": [
      "\rDictClassTransformer_PUNCT fit:  78%|███████▊  | 8196783/10468770 [00:08<00:02, 1073943.75it/s]"
     ]
    },
    {
     "name": "stderr",
     "output_type": "stream",
     "text": [
      "\rDictClassTransformer_PUNCT fit:  79%|███████▉  | 8305825/10468770 [00:08<00:02, 1078830.60it/s]"
     ]
    },
    {
     "name": "stderr",
     "output_type": "stream",
     "text": [
      "\rDictClassTransformer_PUNCT fit:  80%|████████  | 8415450/10468770 [00:08<00:01, 1083995.25it/s]"
     ]
    },
    {
     "name": "stderr",
     "output_type": "stream",
     "text": [
      "\rDictClassTransformer_PUNCT fit:  81%|████████▏ | 8525647/10468770 [00:08<00:01, 1089325.34it/s]"
     ]
    },
    {
     "name": "stderr",
     "output_type": "stream",
     "text": [
      "\rDictClassTransformer_PUNCT fit:  82%|████████▏ | 8634617/10468770 [00:08<00:01, 1088726.45it/s]"
     ]
    },
    {
     "name": "stderr",
     "output_type": "stream",
     "text": [
      "\rDictClassTransformer_PUNCT fit:  84%|████████▎ | 8745547/10468770 [00:08<00:01, 1094815.15it/s]"
     ]
    },
    {
     "name": "stderr",
     "output_type": "stream",
     "text": [
      "\rDictClassTransformer_PUNCT fit:  85%|████████▍ | 8855055/10468770 [00:08<00:01, 1084613.73it/s]"
     ]
    },
    {
     "name": "stderr",
     "output_type": "stream",
     "text": [
      "\rDictClassTransformer_PUNCT fit:  86%|████████▌ | 8963557/10468770 [00:08<00:01, 1064894.96it/s]"
     ]
    },
    {
     "name": "stderr",
     "output_type": "stream",
     "text": [
      "\rDictClassTransformer_PUNCT fit:  87%|████████▋ | 9073790/10468770 [00:08<00:01, 1075853.05it/s]"
     ]
    },
    {
     "name": "stderr",
     "output_type": "stream",
     "text": [
      "\rDictClassTransformer_PUNCT fit:  88%|████████▊ | 9181478/10468770 [00:08<00:01, 1069003.90it/s]"
     ]
    },
    {
     "name": "stderr",
     "output_type": "stream",
     "text": [
      "\rDictClassTransformer_PUNCT fit:  89%|████████▊ | 9288807/10468770 [00:09<00:01, 1070285.67it/s]"
     ]
    },
    {
     "name": "stderr",
     "output_type": "stream",
     "text": [
      "\rDictClassTransformer_PUNCT fit:  90%|████████▉ | 9400175/10468770 [00:09<00:00, 1082941.98it/s]"
     ]
    },
    {
     "name": "stderr",
     "output_type": "stream",
     "text": [
      "\rDictClassTransformer_PUNCT fit:  91%|█████████ | 9510033/10468770 [00:09<00:00, 1087585.98it/s]"
     ]
    },
    {
     "name": "stderr",
     "output_type": "stream",
     "text": [
      "\rDictClassTransformer_PUNCT fit:  92%|█████████▏| 9618850/10468770 [00:09<00:00, 1078354.34it/s]"
     ]
    },
    {
     "name": "stderr",
     "output_type": "stream",
     "text": [
      "\rDictClassTransformer_PUNCT fit:  93%|█████████▎| 9726745/10468770 [00:09<00:00, 1077515.58it/s]"
     ]
    },
    {
     "name": "stderr",
     "output_type": "stream",
     "text": [
      "\rDictClassTransformer_PUNCT fit:  94%|█████████▍| 9834538/10468770 [00:09<00:00, 1051671.70it/s]"
     ]
    },
    {
     "name": "stderr",
     "output_type": "stream",
     "text": [
      "\rDictClassTransformer_PUNCT fit:  95%|█████████▍| 9943375/10468770 [00:09<00:00, 1062418.23it/s]"
     ]
    },
    {
     "name": "stderr",
     "output_type": "stream",
     "text": [
      "\rDictClassTransformer_PUNCT fit:  96%|█████████▌| 10049760/10468770 [00:09<00:00, 1040716.57it/s]"
     ]
    },
    {
     "name": "stderr",
     "output_type": "stream",
     "text": [
      "\rDictClassTransformer_PUNCT fit:  97%|█████████▋| 10154030/10468770 [00:09<00:00, 994587.79it/s] "
     ]
    },
    {
     "name": "stderr",
     "output_type": "stream",
     "text": [
      "\rDictClassTransformer_PUNCT fit:  98%|█████████▊| 10258706/10468770 [00:09<00:00, 1009681.89it/s]"
     ]
    },
    {
     "name": "stderr",
     "output_type": "stream",
     "text": [
      "\rDictClassTransformer_PUNCT fit:  99%|█████████▉| 10364805/10468770 [00:10<00:00, 1024543.05it/s]"
     ]
    },
    {
     "name": "stderr",
     "output_type": "stream",
     "text": [
      "\rDictClassTransformer_PUNCT fit: 100%|██████████| 10468770/10468770 [00:10<00:00, 1010365.81it/s]"
     ]
    },
    {
     "name": "stderr",
     "output_type": "stream",
     "text": [
      "\n\rDictClassTransformer_VERBATIM fit:   0%|          | 0/10468770 [00:00<?, ?it/s]"
     ]
    },
    {
     "name": "stderr",
     "output_type": "stream",
     "text": [
      "\rDictClassTransformer_VERBATIM fit:   1%|          | 85943/10468770 [00:00<00:12, 859428.77it/s]"
     ]
    },
    {
     "name": "stderr",
     "output_type": "stream",
     "text": [
      "\rDictClassTransformer_VERBATIM fit:   2%|▏         | 184901/10468770 [00:00<00:11, 894729.68it/s]"
     ]
    },
    {
     "name": "stdout",
     "output_type": "stream",
     "text": [
      "22\n"
     ]
    },
    {
     "name": "stderr",
     "output_type": "stream",
     "text": [
      "\rDictClassTransformer_VERBATIM fit:   2%|▏         | 232637/10468770 [00:01<01:47, 95287.49it/s] "
     ]
    },
    {
     "name": "stderr",
     "output_type": "stream",
     "text": [
      "\rDictClassTransformer_VERBATIM fit:   3%|▎         | 328011/10468770 [00:01<01:17, 130535.62it/s]"
     ]
    },
    {
     "name": "stderr",
     "output_type": "stream",
     "text": [
      "\rDictClassTransformer_VERBATIM fit:   4%|▍         | 425231/10468770 [00:01<00:56, 176332.56it/s]"
     ]
    },
    {
     "name": "stderr",
     "output_type": "stream",
     "text": [
      "\rDictClassTransformer_VERBATIM fit:   5%|▍         | 506175/10468770 [00:02<00:43, 230393.58it/s]"
     ]
    },
    {
     "name": "stderr",
     "output_type": "stream",
     "text": [
      "\rDictClassTransformer_VERBATIM fit:   6%|▌         | 618300/10468770 [00:02<00:32, 302494.93it/s]"
     ]
    },
    {
     "name": "stderr",
     "output_type": "stream",
     "text": [
      "\rDictClassTransformer_VERBATIM fit:   7%|▋         | 731819/10468770 [00:02<00:25, 387842.89it/s]"
     ]
    },
    {
     "name": "stderr",
     "output_type": "stream",
     "text": [
      "\rDictClassTransformer_VERBATIM fit:   8%|▊         | 846206/10468770 [00:02<00:19, 483764.27it/s]"
     ]
    },
    {
     "name": "stderr",
     "output_type": "stream",
     "text": [
      "\rDictClassTransformer_VERBATIM fit:   9%|▉         | 966126/10468770 [00:02<00:16, 589221.49it/s]"
     ]
    },
    {
     "name": "stderr",
     "output_type": "stream",
     "text": [
      "\rDictClassTransformer_VERBATIM fit:  10%|█         | 1082083/10468770 [00:02<00:13, 691216.26it/s]"
     ]
    },
    {
     "name": "stderr",
     "output_type": "stream",
     "text": [
      "\rDictClassTransformer_VERBATIM fit:  11%|█▏        | 1201288/10468770 [00:02<00:11, 790903.28it/s]"
     ]
    },
    {
     "name": "stderr",
     "output_type": "stream",
     "text": [
      "\rDictClassTransformer_VERBATIM fit:  13%|█▎        | 1320416/10468770 [00:02<00:10, 879587.85it/s]"
     ]
    },
    {
     "name": "stderr",
     "output_type": "stream",
     "text": [
      "\rDictClassTransformer_VERBATIM fit:  14%|█▎        | 1436873/10468770 [00:02<00:09, 949275.20it/s]"
     ]
    },
    {
     "name": "stderr",
     "output_type": "stream",
     "text": [
      "\rDictClassTransformer_VERBATIM fit:  15%|█▍        | 1554191/10468770 [00:02<00:08, 1006927.35it/s]"
     ]
    },
    {
     "name": "stderr",
     "output_type": "stream",
     "text": [
      "\rDictClassTransformer_VERBATIM fit:  16%|█▌        | 1673351/10468770 [00:03<00:08, 1056023.40it/s]"
     ]
    },
    {
     "name": "stderr",
     "output_type": "stream",
     "text": [
      "\rDictClassTransformer_VERBATIM fit:  17%|█▋        | 1800302/10468770 [00:03<00:07, 1112129.22it/s]"
     ]
    },
    {
     "name": "stderr",
     "output_type": "stream",
     "text": [
      "\rDictClassTransformer_VERBATIM fit:  18%|█▊        | 1933020/10468770 [00:03<00:07, 1168949.53it/s]"
     ]
    },
    {
     "name": "stderr",
     "output_type": "stream",
     "text": [
      "\rDictClassTransformer_VERBATIM fit:  20%|█▉        | 2060257/10468770 [00:03<00:07, 1198163.34it/s]"
     ]
    },
    {
     "name": "stderr",
     "output_type": "stream",
     "text": [
      "\rDictClassTransformer_VERBATIM fit:  21%|██        | 2187239/10468770 [00:03<00:06, 1218796.05it/s]"
     ]
    },
    {
     "name": "stderr",
     "output_type": "stream",
     "text": [
      "\rDictClassTransformer_VERBATIM fit:  22%|██▏       | 2312613/10468770 [00:03<00:06, 1212301.92it/s]"
     ]
    },
    {
     "name": "stderr",
     "output_type": "stream",
     "text": [
      "\rDictClassTransformer_VERBATIM fit:  23%|██▎       | 2438359/10468770 [00:03<00:06, 1225504.56it/s]"
     ]
    },
    {
     "name": "stderr",
     "output_type": "stream",
     "text": [
      "\rDictClassTransformer_VERBATIM fit:  25%|██▍       | 2565140/10468770 [00:03<00:06, 1237893.63it/s]"
     ]
    },
    {
     "name": "stderr",
     "output_type": "stream",
     "text": [
      "\rDictClassTransformer_VERBATIM fit:  26%|██▌       | 2691890/10468770 [00:03<00:06, 1246628.76it/s]"
     ]
    },
    {
     "name": "stderr",
     "output_type": "stream",
     "text": [
      "\rDictClassTransformer_VERBATIM fit:  27%|██▋       | 2817448/10468770 [00:03<00:06, 1221844.67it/s]"
     ]
    },
    {
     "name": "stderr",
     "output_type": "stream",
     "text": [
      "\rDictClassTransformer_VERBATIM fit:  28%|██▊       | 2940369/10468770 [00:04<00:06, 1201838.72it/s]"
     ]
    },
    {
     "name": "stderr",
     "output_type": "stream",
     "text": [
      "\rDictClassTransformer_VERBATIM fit:  29%|██▉       | 3061142/10468770 [00:04<00:06, 1163896.46it/s]"
     ]
    },
    {
     "name": "stderr",
     "output_type": "stream",
     "text": [
      "\rDictClassTransformer_VERBATIM fit:  30%|███       | 3178205/10468770 [00:04<00:06, 1134482.12it/s]"
     ]
    },
    {
     "name": "stderr",
     "output_type": "stream",
     "text": [
      "\rDictClassTransformer_VERBATIM fit:  31%|███▏      | 3292288/10468770 [00:04<00:06, 1101163.69it/s]"
     ]
    },
    {
     "name": "stderr",
     "output_type": "stream",
     "text": [
      "\rDictClassTransformer_VERBATIM fit:  33%|███▎      | 3404774/10468770 [00:04<00:06, 1107901.19it/s]"
     ]
    },
    {
     "name": "stderr",
     "output_type": "stream",
     "text": [
      "\rDictClassTransformer_VERBATIM fit:  34%|███▎      | 3517827/10468770 [00:04<00:06, 1114591.31it/s]"
     ]
    },
    {
     "name": "stderr",
     "output_type": "stream",
     "text": [
      "\rDictClassTransformer_VERBATIM fit:  35%|███▍      | 3631284/10468770 [00:04<00:06, 1120507.80it/s]"
     ]
    },
    {
     "name": "stderr",
     "output_type": "stream",
     "text": [
      "\rDictClassTransformer_VERBATIM fit:  36%|███▌      | 3753318/10468770 [00:04<00:05, 1148698.78it/s]"
     ]
    },
    {
     "name": "stderr",
     "output_type": "stream",
     "text": [
      "\rDictClassTransformer_VERBATIM fit:  37%|███▋      | 3873905/10468770 [00:04<00:05, 1165269.82it/s]"
     ]
    },
    {
     "name": "stderr",
     "output_type": "stream",
     "text": [
      "\rDictClassTransformer_VERBATIM fit:  38%|███▊      | 3999153/10468770 [00:04<00:05, 1190129.97it/s]"
     ]
    },
    {
     "name": "stderr",
     "output_type": "stream",
     "text": [
      "\rDictClassTransformer_VERBATIM fit:  39%|███▉      | 4122503/10468770 [00:05<00:05, 1202814.32it/s]"
     ]
    },
    {
     "name": "stderr",
     "output_type": "stream",
     "text": [
      "\rDictClassTransformer_VERBATIM fit:  41%|████      | 4248779/10468770 [00:05<00:05, 1220188.75it/s]"
     ]
    },
    {
     "name": "stderr",
     "output_type": "stream",
     "text": [
      "\rDictClassTransformer_VERBATIM fit:  42%|████▏     | 4371089/10468770 [00:05<00:04, 1221060.14it/s]"
     ]
    },
    {
     "name": "stderr",
     "output_type": "stream",
     "text": [
      "\rDictClassTransformer_VERBATIM fit:  43%|████▎     | 4494360/10468770 [00:05<00:04, 1224527.91it/s]"
     ]
    },
    {
     "name": "stderr",
     "output_type": "stream",
     "text": [
      "\rDictClassTransformer_VERBATIM fit:  44%|████▍     | 4616938/10468770 [00:05<00:04, 1223920.36it/s]"
     ]
    },
    {
     "name": "stderr",
     "output_type": "stream",
     "text": [
      "\rDictClassTransformer_VERBATIM fit:  45%|████▌     | 4739418/10468770 [00:05<00:04, 1223458.51it/s]"
     ]
    },
    {
     "name": "stderr",
     "output_type": "stream",
     "text": [
      "\rDictClassTransformer_VERBATIM fit:  46%|████▋     | 4867021/10468770 [00:05<00:04, 1238765.47it/s]"
     ]
    },
    {
     "name": "stderr",
     "output_type": "stream",
     "text": [
      "\rDictClassTransformer_VERBATIM fit:  48%|████▊     | 4990987/10468770 [00:05<00:04, 1236916.23it/s]"
     ]
    },
    {
     "name": "stderr",
     "output_type": "stream",
     "text": [
      "\rDictClassTransformer_VERBATIM fit:  49%|████▉     | 5114742/10468770 [00:05<00:04, 1234894.86it/s]"
     ]
    },
    {
     "name": "stderr",
     "output_type": "stream",
     "text": [
      "\rDictClassTransformer_VERBATIM fit:  50%|█████     | 5238277/10468770 [00:05<00:04, 1229760.80it/s]"
     ]
    },
    {
     "name": "stderr",
     "output_type": "stream",
     "text": [
      "\rDictClassTransformer_VERBATIM fit:  51%|█████     | 5361290/10468770 [00:06<00:04, 1200001.32it/s]"
     ]
    },
    {
     "name": "stderr",
     "output_type": "stream",
     "text": [
      "\rDictClassTransformer_VERBATIM fit:  52%|█████▏    | 5484307/10468770 [00:06<00:04, 1208894.89it/s]"
     ]
    },
    {
     "name": "stderr",
     "output_type": "stream",
     "text": [
      "\rDictClassTransformer_VERBATIM fit:  54%|█████▎    | 5612532/10468770 [00:06<00:03, 1230001.73it/s]"
     ]
    },
    {
     "name": "stderr",
     "output_type": "stream",
     "text": [
      "\rDictClassTransformer_VERBATIM fit:  55%|█████▍    | 5735724/10468770 [00:06<00:03, 1213581.40it/s]"
     ]
    },
    {
     "name": "stderr",
     "output_type": "stream",
     "text": [
      "\rDictClassTransformer_VERBATIM fit:  56%|█████▌    | 5857266/10468770 [00:06<00:03, 1198143.05it/s]"
     ]
    },
    {
     "name": "stderr",
     "output_type": "stream",
     "text": [
      "\rDictClassTransformer_VERBATIM fit:  57%|█████▋    | 5977254/10468770 [00:06<00:03, 1185770.20it/s]"
     ]
    },
    {
     "name": "stderr",
     "output_type": "stream",
     "text": [
      "\rDictClassTransformer_VERBATIM fit:  58%|█████▊    | 6100092/10468770 [00:06<00:03, 1198238.99it/s]"
     ]
    },
    {
     "name": "stderr",
     "output_type": "stream",
     "text": [
      "\rDictClassTransformer_VERBATIM fit:  59%|█████▉    | 6222208/10468770 [00:06<00:03, 1205021.37it/s]"
     ]
    },
    {
     "name": "stderr",
     "output_type": "stream",
     "text": [
      "\rDictClassTransformer_VERBATIM fit:  61%|██████    | 6350045/10468770 [00:06<00:03, 1226126.19it/s]"
     ]
    },
    {
     "name": "stderr",
     "output_type": "stream",
     "text": [
      "\rDictClassTransformer_VERBATIM fit:  62%|██████▏   | 6474891/10468770 [00:07<00:03, 1232738.85it/s]"
     ]
    },
    {
     "name": "stderr",
     "output_type": "stream",
     "text": [
      "\rDictClassTransformer_VERBATIM fit:  63%|██████▎   | 6602073/10468770 [00:07<00:03, 1244205.52it/s]"
     ]
    },
    {
     "name": "stderr",
     "output_type": "stream",
     "text": [
      "\rDictClassTransformer_VERBATIM fit:  64%|██████▍   | 6730908/10468770 [00:07<00:02, 1257127.40it/s]"
     ]
    },
    {
     "name": "stderr",
     "output_type": "stream",
     "text": [
      "\rDictClassTransformer_VERBATIM fit:  66%|██████▌   | 6860972/10468770 [00:07<00:02, 1269869.19it/s]"
     ]
    },
    {
     "name": "stderr",
     "output_type": "stream",
     "text": [
      "\rDictClassTransformer_VERBATIM fit:  67%|██████▋   | 6990826/10468770 [00:07<00:02, 1278336.07it/s]"
     ]
    },
    {
     "name": "stderr",
     "output_type": "stream",
     "text": [
      "\rDictClassTransformer_VERBATIM fit:  68%|██████▊   | 7124014/10468770 [00:07<00:02, 1293938.46it/s]"
     ]
    },
    {
     "name": "stderr",
     "output_type": "stream",
     "text": [
      "\rDictClassTransformer_VERBATIM fit:  69%|██████▉   | 7253516/10468770 [00:07<00:02, 1271181.50it/s]"
     ]
    },
    {
     "name": "stderr",
     "output_type": "stream",
     "text": [
      "\rDictClassTransformer_VERBATIM fit:  71%|███████   | 7383754/10468770 [00:07<00:02, 1280379.73it/s]"
     ]
    },
    {
     "name": "stderr",
     "output_type": "stream",
     "text": [
      "\rDictClassTransformer_VERBATIM fit:  72%|███████▏  | 7511924/10468770 [00:07<00:02, 1279597.91it/s]"
     ]
    },
    {
     "name": "stderr",
     "output_type": "stream",
     "text": [
      "\rDictClassTransformer_VERBATIM fit:  73%|███████▎  | 7639976/10468770 [00:07<00:02, 1261892.78it/s]"
     ]
    },
    {
     "name": "stderr",
     "output_type": "stream",
     "text": [
      "\rDictClassTransformer_VERBATIM fit:  74%|███████▍  | 7766286/10468770 [00:08<00:02, 1253745.24it/s]"
     ]
    },
    {
     "name": "stderr",
     "output_type": "stream",
     "text": [
      "\rDictClassTransformer_VERBATIM fit:  75%|███████▌  | 7891757/10468770 [00:08<00:02, 1244904.03it/s]"
     ]
    },
    {
     "name": "stderr",
     "output_type": "stream",
     "text": [
      "\rDictClassTransformer_VERBATIM fit:  77%|███████▋  | 8017333/10468770 [00:08<00:01, 1248140.53it/s]"
     ]
    },
    {
     "name": "stderr",
     "output_type": "stream",
     "text": [
      "\rDictClassTransformer_VERBATIM fit:  78%|███████▊  | 8142527/10468770 [00:08<00:01, 1249274.74it/s]"
     ]
    },
    {
     "name": "stderr",
     "output_type": "stream",
     "text": [
      "\rDictClassTransformer_VERBATIM fit:  79%|███████▉  | 8268989/10468770 [00:08<00:01, 1253838.54it/s]"
     ]
    },
    {
     "name": "stderr",
     "output_type": "stream",
     "text": [
      "\rDictClassTransformer_VERBATIM fit:  80%|████████  | 8394406/10468770 [00:08<00:01, 1245596.39it/s]"
     ]
    },
    {
     "name": "stderr",
     "output_type": "stream",
     "text": [
      "\rDictClassTransformer_VERBATIM fit:  81%|████████▏ | 8519002/10468770 [00:08<00:01, 1169458.62it/s]"
     ]
    },
    {
     "name": "stderr",
     "output_type": "stream",
     "text": [
      "\rDictClassTransformer_VERBATIM fit:  83%|████████▎ | 8645757/10468770 [00:08<00:01, 1197251.13it/s]"
     ]
    },
    {
     "name": "stderr",
     "output_type": "stream",
     "text": [
      "\rDictClassTransformer_VERBATIM fit:  84%|████████▎ | 8766328/10468770 [00:09<00:02, 698826.22it/s] "
     ]
    },
    {
     "name": "stderr",
     "output_type": "stream",
     "text": [
      "\rDictClassTransformer_VERBATIM fit:  85%|████████▍ | 8879885/10468770 [00:09<00:02, 789972.38it/s]"
     ]
    },
    {
     "name": "stderr",
     "output_type": "stream",
     "text": [
      "\rDictClassTransformer_VERBATIM fit:  86%|████████▌ | 9000271/10468770 [00:09<00:01, 880818.65it/s]"
     ]
    },
    {
     "name": "stderr",
     "output_type": "stream",
     "text": [
      "\rDictClassTransformer_VERBATIM fit:  87%|████████▋ | 9124421/10468770 [00:09<00:01, 964916.82it/s]"
     ]
    },
    {
     "name": "stderr",
     "output_type": "stream",
     "text": [
      "\rDictClassTransformer_VERBATIM fit:  88%|████████▊ | 9249881/10468770 [00:09<00:01, 1036727.32it/s]"
     ]
    },
    {
     "name": "stderr",
     "output_type": "stream",
     "text": [
      "\rDictClassTransformer_VERBATIM fit:  90%|████████▉ | 9370969/10468770 [00:09<00:01, 1083474.23it/s]"
     ]
    },
    {
     "name": "stderr",
     "output_type": "stream",
     "text": [
      "\rDictClassTransformer_VERBATIM fit:  91%|█████████ | 9497877/10468770 [00:09<00:00, 1133192.70it/s]"
     ]
    },
    {
     "name": "stderr",
     "output_type": "stream",
     "text": [
      "\rDictClassTransformer_VERBATIM fit:  92%|█████████▏| 9622238/10468770 [00:09<00:00, 1164200.75it/s]"
     ]
    },
    {
     "name": "stderr",
     "output_type": "stream",
     "text": [
      "\rDictClassTransformer_VERBATIM fit:  93%|█████████▎| 9745639/10468770 [00:09<00:00, 1184299.39it/s]"
     ]
    },
    {
     "name": "stderr",
     "output_type": "stream",
     "text": [
      "\rDictClassTransformer_VERBATIM fit:  94%|█████████▍| 9870643/10468770 [00:09<00:00, 1203280.91it/s]"
     ]
    },
    {
     "name": "stderr",
     "output_type": "stream",
     "text": [
      "\rDictClassTransformer_VERBATIM fit:  95%|█████████▌| 9995374/10468770 [00:10<00:00, 1216159.25it/s]"
     ]
    },
    {
     "name": "stderr",
     "output_type": "stream",
     "text": [
      "\rDictClassTransformer_VERBATIM fit:  97%|█████████▋| 10122622/10468770 [00:10<00:00, 1232521.02it/s]"
     ]
    },
    {
     "name": "stderr",
     "output_type": "stream",
     "text": [
      "\rDictClassTransformer_VERBATIM fit:  98%|█████████▊| 10250059/10468770 [00:10<00:00, 1244781.11it/s]"
     ]
    },
    {
     "name": "stderr",
     "output_type": "stream",
     "text": [
      "\rDictClassTransformer_VERBATIM fit:  99%|█████████▉| 10381389/10468770 [00:10<00:00, 1264573.60it/s]"
     ]
    },
    {
     "name": "stderr",
     "output_type": "stream",
     "text": [
      "\rDictClassTransformer_VERBATIM fit: 100%|██████████| 10468770/10468770 [00:10<00:00, 980734.59it/s] "
     ]
    },
    {
     "name": "stderr",
     "output_type": "stream",
     "text": [
      "\n"
     ]
    },
    {
     "name": "stdout",
     "output_type": "stream",
     "text": [
      "2496\n"
     ]
    },
    {
     "name": "stderr",
     "output_type": "stream",
     "text": [
      "\rDictNBHDTransformer fit:   0%|          | 0/10468770 [00:00<?, ?it/s]"
     ]
    },
    {
     "name": "stderr",
     "output_type": "stream",
     "text": [
      "\rDictNBHDTransformer fit:   0%|          | 26858/10468770 [00:00<05:16, 32951.61it/s]"
     ]
    },
    {
     "name": "stderr",
     "output_type": "stream",
     "text": [
      "\rDictNBHDTransformer fit:   1%|          | 74575/10468770 [00:00<03:47, 45720.60it/s]"
     ]
    },
    {
     "name": "stderr",
     "output_type": "stream",
     "text": [
      "\rDictNBHDTransformer fit:   1%|          | 102468/10468770 [00:01<03:57, 43722.16it/s]"
     ]
    },
    {
     "name": "stderr",
     "output_type": "stream",
     "text": [
      "\rDictNBHDTransformer fit:   1%|▏         | 151594/10468770 [00:01<02:51, 60165.34it/s]"
     ]
    },
    {
     "name": "stderr",
     "output_type": "stream",
     "text": [
      "\rDictNBHDTransformer fit:   2%|▏         | 192330/10468770 [00:01<02:07, 80833.84it/s]"
     ]
    },
    {
     "name": "stderr",
     "output_type": "stream",
     "text": [
      "\rDictNBHDTransformer fit:   2%|▏         | 239123/10468770 [00:01<01:35, 107516.43it/s]"
     ]
    },
    {
     "name": "stderr",
     "output_type": "stream",
     "text": [
      "\rDictNBHDTransformer fit:   3%|▎         | 285754/10468770 [00:02<01:12, 139782.18it/s]"
     ]
    },
    {
     "name": "stderr",
     "output_type": "stream",
     "text": [
      "\rDictNBHDTransformer fit:   3%|▎         | 332776/10468770 [00:02<00:57, 177123.09it/s]"
     ]
    },
    {
     "name": "stderr",
     "output_type": "stream",
     "text": [
      "\rDictNBHDTransformer fit:   4%|▎         | 381068/10468770 [00:02<00:46, 218660.58it/s]"
     ]
    },
    {
     "name": "stderr",
     "output_type": "stream",
     "text": [
      "\rDictNBHDTransformer fit:   4%|▍         | 423887/10468770 [00:02<00:40, 249247.35it/s]"
     ]
    },
    {
     "name": "stderr",
     "output_type": "stream",
     "text": [
      "\rDictNBHDTransformer fit:   4%|▍         | 469284/10468770 [00:02<00:34, 288241.23it/s]"
     ]
    },
    {
     "name": "stderr",
     "output_type": "stream",
     "text": [
      "\rDictNBHDTransformer fit:   5%|▍         | 513934/10468770 [00:02<00:30, 322537.48it/s]"
     ]
    },
    {
     "name": "stderr",
     "output_type": "stream",
     "text": [
      "\rDictNBHDTransformer fit:   5%|▌         | 559865/10468770 [00:02<00:27, 354176.67it/s]"
     ]
    },
    {
     "name": "stderr",
     "output_type": "stream",
     "text": [
      "\rDictNBHDTransformer fit:   6%|▌         | 607997/10468770 [00:02<00:25, 384656.67it/s]"
     ]
    },
    {
     "name": "stderr",
     "output_type": "stream",
     "text": [
      "\rDictNBHDTransformer fit:   6%|▌         | 653178/10468770 [00:02<00:24, 399086.23it/s]"
     ]
    },
    {
     "name": "stderr",
     "output_type": "stream",
     "text": [
      "\rDictNBHDTransformer fit:   7%|▋         | 698880/10468770 [00:02<00:23, 414860.85it/s]"
     ]
    },
    {
     "name": "stderr",
     "output_type": "stream",
     "text": [
      "\rDictNBHDTransformer fit:   7%|▋         | 743914/10468770 [00:03<00:23, 421240.33it/s]"
     ]
    },
    {
     "name": "stderr",
     "output_type": "stream",
     "text": [
      "\rDictNBHDTransformer fit:   8%|▊         | 788546/10468770 [00:03<00:22, 424024.14it/s]"
     ]
    },
    {
     "name": "stderr",
     "output_type": "stream",
     "text": [
      "\rDictNBHDTransformer fit:   8%|▊         | 832708/10468770 [00:03<00:26, 365927.27it/s]"
     ]
    },
    {
     "name": "stderr",
     "output_type": "stream",
     "text": [
      "\rDictNBHDTransformer fit:   8%|▊         | 874221/10468770 [00:03<00:25, 379417.15it/s]"
     ]
    },
    {
     "name": "stderr",
     "output_type": "stream",
     "text": [
      "\rDictNBHDTransformer fit:   9%|▊         | 916009/10468770 [00:03<00:24, 390191.29it/s]"
     ]
    },
    {
     "name": "stderr",
     "output_type": "stream",
     "text": [
      "\rDictNBHDTransformer fit:   9%|▉         | 960399/10468770 [00:03<00:23, 404886.63it/s]"
     ]
    },
    {
     "name": "stderr",
     "output_type": "stream",
     "text": [
      "\rDictNBHDTransformer fit:  10%|▉         | 1002051/10468770 [00:03<00:23, 407386.47it/s]"
     ]
    },
    {
     "name": "stderr",
     "output_type": "stream",
     "text": [
      "\rDictNBHDTransformer fit:  10%|▉         | 1043608/10468770 [00:03<00:23, 397822.91it/s]"
     ]
    },
    {
     "name": "stderr",
     "output_type": "stream",
     "text": [
      "\rDictNBHDTransformer fit:  10%|█         | 1086811/10468770 [00:03<00:23, 407493.19it/s]"
     ]
    },
    {
     "name": "stderr",
     "output_type": "stream",
     "text": [
      "\rDictNBHDTransformer fit:  11%|█         | 1128988/10468770 [00:04<00:22, 411672.39it/s]"
     ]
    },
    {
     "name": "stderr",
     "output_type": "stream",
     "text": [
      "\rDictNBHDTransformer fit:  11%|█         | 1173077/10468770 [00:04<00:22, 420021.78it/s]"
     ]
    },
    {
     "name": "stderr",
     "output_type": "stream",
     "text": [
      "\rDictNBHDTransformer fit:  12%|█▏        | 1215572/10468770 [00:04<00:21, 421488.02it/s]"
     ]
    },
    {
     "name": "stderr",
     "output_type": "stream",
     "text": [
      "\rDictNBHDTransformer fit:  12%|█▏        | 1257926/10468770 [00:04<00:22, 418299.61it/s]"
     ]
    },
    {
     "name": "stderr",
     "output_type": "stream",
     "text": [
      "\rDictNBHDTransformer fit:  12%|█▏        | 1302870/10468770 [00:04<00:21, 427176.80it/s]"
     ]
    },
    {
     "name": "stderr",
     "output_type": "stream",
     "text": [
      "\rDictNBHDTransformer fit:  13%|█▎        | 1345739/10468770 [00:05<01:18, 116576.59it/s]"
     ]
    },
    {
     "name": "stderr",
     "output_type": "stream",
     "text": [
      "\rDictNBHDTransformer fit:  13%|█▎        | 1384769/10468770 [00:05<01:01, 147638.71it/s]"
     ]
    },
    {
     "name": "stderr",
     "output_type": "stream",
     "text": [
      "\rDictNBHDTransformer fit:  14%|█▎        | 1425612/10468770 [00:05<00:49, 182620.42it/s]"
     ]
    },
    {
     "name": "stderr",
     "output_type": "stream",
     "text": [
      "\rDictNBHDTransformer fit:  14%|█▍        | 1466599/10468770 [00:05<00:41, 219054.04it/s]"
     ]
    },
    {
     "name": "stderr",
     "output_type": "stream",
     "text": [
      "\rDictNBHDTransformer fit:  14%|█▍        | 1509404/10468770 [00:05<00:34, 256644.49it/s]"
     ]
    },
    {
     "name": "stderr",
     "output_type": "stream",
     "text": [
      "\rDictNBHDTransformer fit:  15%|█▍        | 1551562/10468770 [00:05<00:30, 290771.64it/s]"
     ]
    },
    {
     "name": "stderr",
     "output_type": "stream",
     "text": [
      "\rDictNBHDTransformer fit:  15%|█▌        | 1594602/10468770 [00:06<00:27, 322121.42it/s]"
     ]
    },
    {
     "name": "stderr",
     "output_type": "stream",
     "text": [
      "\rDictNBHDTransformer fit:  16%|█▌        | 1635469/10468770 [00:06<00:25, 340439.90it/s]"
     ]
    },
    {
     "name": "stderr",
     "output_type": "stream",
     "text": [
      "\rDictNBHDTransformer fit:  16%|█▌        | 1676010/10468770 [00:06<00:24, 357625.50it/s]"
     ]
    },
    {
     "name": "stderr",
     "output_type": "stream",
     "text": [
      "\rDictNBHDTransformer fit:  16%|█▋        | 1716440/10468770 [00:06<00:28, 302799.20it/s]"
     ]
    },
    {
     "name": "stderr",
     "output_type": "stream",
     "text": [
      "\rDictNBHDTransformer fit:  17%|█▋        | 1757760/10468770 [00:06<00:26, 329184.33it/s]"
     ]
    },
    {
     "name": "stderr",
     "output_type": "stream",
     "text": [
      "\rDictNBHDTransformer fit:  17%|█▋        | 1797550/10468770 [00:06<00:24, 347168.31it/s]"
     ]
    },
    {
     "name": "stderr",
     "output_type": "stream",
     "text": [
      "\rDictNBHDTransformer fit:  18%|█▊        | 1838917/10468770 [00:06<00:23, 364758.00it/s]"
     ]
    },
    {
     "name": "stderr",
     "output_type": "stream",
     "text": [
      "\rDictNBHDTransformer fit:  18%|█▊        | 1879335/10468770 [00:06<00:22, 375751.65it/s]"
     ]
    },
    {
     "name": "stderr",
     "output_type": "stream",
     "text": [
      "\rDictNBHDTransformer fit:  18%|█▊        | 1918650/10468770 [00:06<00:22, 376392.13it/s]"
     ]
    },
    {
     "name": "stderr",
     "output_type": "stream",
     "text": [
      "\rDictNBHDTransformer fit:  19%|█▊        | 1957507/10468770 [00:07<00:22, 375657.84it/s]"
     ]
    },
    {
     "name": "stderr",
     "output_type": "stream",
     "text": [
      "\rDictNBHDTransformer fit:  19%|█▉        | 1995926/10468770 [00:07<00:22, 376310.72it/s]"
     ]
    },
    {
     "name": "stderr",
     "output_type": "stream",
     "text": [
      "\rDictNBHDTransformer fit:  19%|█▉        | 2034155/10468770 [00:07<00:23, 365244.18it/s]"
     ]
    },
    {
     "name": "stderr",
     "output_type": "stream",
     "text": [
      "\rDictNBHDTransformer fit:  20%|█▉        | 2073216/10468770 [00:07<00:22, 372498.95it/s]"
     ]
    },
    {
     "name": "stderr",
     "output_type": "stream",
     "text": [
      "\rDictNBHDTransformer fit:  20%|██        | 2112307/10468770 [00:07<00:22, 377835.31it/s]"
     ]
    },
    {
     "name": "stderr",
     "output_type": "stream",
     "text": [
      "\rDictNBHDTransformer fit:  21%|██        | 2151592/10468770 [00:07<00:21, 382214.46it/s]"
     ]
    },
    {
     "name": "stderr",
     "output_type": "stream",
     "text": [
      "\rDictNBHDTransformer fit:  21%|██        | 2190024/10468770 [00:07<00:22, 368327.40it/s]"
     ]
    },
    {
     "name": "stderr",
     "output_type": "stream",
     "text": [
      "\rDictNBHDTransformer fit:  21%|██▏       | 2227806/10468770 [00:07<00:22, 371123.52it/s]"
     ]
    },
    {
     "name": "stderr",
     "output_type": "stream",
     "text": [
      "\rDictNBHDTransformer fit:  22%|██▏       | 2267475/10468770 [00:07<00:21, 378438.39it/s]"
     ]
    },
    {
     "name": "stderr",
     "output_type": "stream",
     "text": [
      "\rDictNBHDTransformer fit:  22%|██▏       | 2305483/10468770 [00:07<00:21, 378874.11it/s]"
     ]
    },
    {
     "name": "stderr",
     "output_type": "stream",
     "text": [
      "\rDictNBHDTransformer fit:  22%|██▏       | 2343486/10468770 [00:08<00:21, 372736.99it/s]"
     ]
    },
    {
     "name": "stderr",
     "output_type": "stream",
     "text": [
      "\rDictNBHDTransformer fit:  23%|██▎       | 2381424/10468770 [00:08<00:21, 374705.18it/s]"
     ]
    },
    {
     "name": "stderr",
     "output_type": "stream",
     "text": [
      "\rDictNBHDTransformer fit:  23%|██▎       | 2420198/10468770 [00:08<00:21, 378519.34it/s]"
     ]
    },
    {
     "name": "stderr",
     "output_type": "stream",
     "text": [
      "\rDictNBHDTransformer fit:  23%|██▎       | 2458112/10468770 [00:08<00:21, 378357.27it/s]"
     ]
    },
    {
     "name": "stderr",
     "output_type": "stream",
     "text": [
      "\rDictNBHDTransformer fit:  24%|██▍       | 2498918/10468770 [00:08<00:20, 386801.66it/s]"
     ]
    },
    {
     "name": "stderr",
     "output_type": "stream",
     "text": [
      "\rDictNBHDTransformer fit:  24%|██▍       | 2538371/10468770 [00:08<00:20, 389085.82it/s]"
     ]
    },
    {
     "name": "stderr",
     "output_type": "stream",
     "text": [
      "\rDictNBHDTransformer fit:  25%|██▍       | 2577337/10468770 [00:08<00:20, 380600.61it/s]"
     ]
    },
    {
     "name": "stderr",
     "output_type": "stream",
     "text": [
      "\rDictNBHDTransformer fit:  25%|██▍       | 2615478/10468770 [00:08<00:22, 352497.04it/s]"
     ]
    },
    {
     "name": "stderr",
     "output_type": "stream",
     "text": [
      "\rDictNBHDTransformer fit:  25%|██▌       | 2651198/10468770 [00:08<00:23, 331486.11it/s]"
     ]
    },
    {
     "name": "stderr",
     "output_type": "stream",
     "text": [
      "\rDictNBHDTransformer fit:  26%|██▌       | 2684932/10468770 [00:09<00:24, 319402.77it/s]"
     ]
    },
    {
     "name": "stderr",
     "output_type": "stream",
     "text": [
      "\rDictNBHDTransformer fit:  26%|██▌       | 2722258/10468770 [00:09<00:23, 333853.22it/s]"
     ]
    },
    {
     "name": "stderr",
     "output_type": "stream",
     "text": [
      "\rDictNBHDTransformer fit:  26%|██▋       | 2758137/10468770 [00:09<00:22, 340953.82it/s]"
     ]
    },
    {
     "name": "stderr",
     "output_type": "stream",
     "text": [
      "\rDictNBHDTransformer fit:  27%|██▋       | 2797422/10468770 [00:09<00:21, 355022.54it/s]"
     ]
    },
    {
     "name": "stderr",
     "output_type": "stream",
     "text": [
      "\rDictNBHDTransformer fit:  27%|██▋       | 2837667/10468770 [00:09<00:20, 368027.15it/s]"
     ]
    },
    {
     "name": "stderr",
     "output_type": "stream",
     "text": [
      "\rDictNBHDTransformer fit:  27%|██▋       | 2876890/10468770 [00:09<00:20, 374967.28it/s]"
     ]
    },
    {
     "name": "stderr",
     "output_type": "stream",
     "text": [
      "\rDictNBHDTransformer fit:  28%|██▊       | 2918023/10468770 [00:09<00:19, 385175.01it/s]"
     ]
    },
    {
     "name": "stderr",
     "output_type": "stream",
     "text": [
      "\rDictNBHDTransformer fit:  28%|██▊       | 2959053/10468770 [00:09<00:19, 392378.91it/s]"
     ]
    },
    {
     "name": "stderr",
     "output_type": "stream",
     "text": [
      "\rDictNBHDTransformer fit:  29%|██▊       | 2999697/10468770 [00:09<00:18, 396481.40it/s]"
     ]
    },
    {
     "name": "stderr",
     "output_type": "stream",
     "text": [
      "\rDictNBHDTransformer fit:  29%|██▉       | 3039526/10468770 [00:09<00:18, 395330.34it/s]"
     ]
    },
    {
     "name": "stderr",
     "output_type": "stream",
     "text": [
      "\rDictNBHDTransformer fit:  29%|██▉       | 3079186/10468770 [00:10<00:18, 392880.90it/s]"
     ]
    },
    {
     "name": "stderr",
     "output_type": "stream",
     "text": [
      "\rDictNBHDTransformer fit:  30%|██▉       | 3118567/10468770 [00:10<00:19, 384229.96it/s]"
     ]
    },
    {
     "name": "stderr",
     "output_type": "stream",
     "text": [
      "\rDictNBHDTransformer fit:  30%|███       | 3157097/10468770 [00:10<00:19, 379337.11it/s]"
     ]
    },
    {
     "name": "stderr",
     "output_type": "stream",
     "text": [
      "\rDictNBHDTransformer fit:  31%|███       | 3195120/10468770 [00:10<00:19, 379513.31it/s]"
     ]
    },
    {
     "name": "stderr",
     "output_type": "stream",
     "text": [
      "\rDictNBHDTransformer fit:  31%|███       | 3233134/10468770 [00:10<00:19, 376472.58it/s]"
     ]
    },
    {
     "name": "stderr",
     "output_type": "stream",
     "text": [
      "\rDictNBHDTransformer fit:  31%|███▏      | 3272170/10468770 [00:10<00:18, 380532.71it/s]"
     ]
    },
    {
     "name": "stderr",
     "output_type": "stream",
     "text": [
      "\rDictNBHDTransformer fit:  32%|███▏      | 3310269/10468770 [00:10<00:19, 374030.36it/s]"
     ]
    },
    {
     "name": "stderr",
     "output_type": "stream",
     "text": [
      "\rDictNBHDTransformer fit:  32%|███▏      | 3347729/10468770 [00:10<00:19, 370192.93it/s]"
     ]
    },
    {
     "name": "stderr",
     "output_type": "stream",
     "text": [
      "\rDictNBHDTransformer fit:  32%|███▏      | 3386018/10468770 [00:10<00:18, 373902.93it/s]"
     ]
    },
    {
     "name": "stderr",
     "output_type": "stream",
     "text": [
      "\rDictNBHDTransformer fit:  33%|███▎      | 3424488/10468770 [00:10<00:18, 377075.60it/s]"
     ]
    },
    {
     "name": "stderr",
     "output_type": "stream",
     "text": [
      "\rDictNBHDTransformer fit:  33%|███▎      | 3462232/10468770 [00:12<01:12, 96898.01it/s] "
     ]
    },
    {
     "name": "stderr",
     "output_type": "stream",
     "text": [
      "\rDictNBHDTransformer fit:  33%|███▎      | 3499279/10468770 [00:12<00:55, 124472.71it/s]"
     ]
    },
    {
     "name": "stderr",
     "output_type": "stream",
     "text": [
      "\rDictNBHDTransformer fit:  34%|███▎      | 3529632/10468770 [00:12<01:00, 115324.51it/s]"
     ]
    },
    {
     "name": "stderr",
     "output_type": "stream",
     "text": [
      "\rDictNBHDTransformer fit:  34%|███▍      | 3566524/10468770 [00:12<00:47, 145285.06it/s]"
     ]
    },
    {
     "name": "stderr",
     "output_type": "stream",
     "text": [
      "\rDictNBHDTransformer fit:  34%|███▍      | 3602313/10468770 [00:12<00:38, 176791.34it/s]"
     ]
    },
    {
     "name": "stderr",
     "output_type": "stream",
     "text": [
      "\rDictNBHDTransformer fit:  35%|███▍      | 3637100/10468770 [00:12<00:32, 207386.90it/s]"
     ]
    },
    {
     "name": "stderr",
     "output_type": "stream",
     "text": [
      "\rDictNBHDTransformer fit:  35%|███▌      | 3676970/10468770 [00:12<00:28, 242260.53it/s]"
     ]
    },
    {
     "name": "stderr",
     "output_type": "stream",
     "text": [
      "\rDictNBHDTransformer fit:  36%|███▌      | 3717506/10468770 [00:12<00:24, 275515.90it/s]"
     ]
    },
    {
     "name": "stderr",
     "output_type": "stream",
     "text": [
      "\rDictNBHDTransformer fit:  36%|███▌      | 3756321/10468770 [00:13<00:22, 301787.14it/s]"
     ]
    },
    {
     "name": "stderr",
     "output_type": "stream",
     "text": [
      "\rDictNBHDTransformer fit:  36%|███▋      | 3795812/10468770 [00:13<00:20, 324759.89it/s]"
     ]
    },
    {
     "name": "stderr",
     "output_type": "stream",
     "text": [
      "\rDictNBHDTransformer fit:  37%|███▋      | 3835405/10468770 [00:13<00:19, 343270.25it/s]"
     ]
    },
    {
     "name": "stderr",
     "output_type": "stream",
     "text": [
      "\rDictNBHDTransformer fit:  37%|███▋      | 3873948/10468770 [00:13<00:18, 354914.88it/s]"
     ]
    },
    {
     "name": "stderr",
     "output_type": "stream",
     "text": [
      "\rDictNBHDTransformer fit:  37%|███▋      | 3912805/10468770 [00:13<00:17, 364374.97it/s]"
     ]
    },
    {
     "name": "stderr",
     "output_type": "stream",
     "text": [
      "\rDictNBHDTransformer fit:  38%|███▊      | 3951295/10468770 [00:13<00:17, 369045.51it/s]"
     ]
    },
    {
     "name": "stderr",
     "output_type": "stream",
     "text": [
      "\rDictNBHDTransformer fit:  38%|███▊      | 3990195/10468770 [00:13<00:17, 374813.38it/s]"
     ]
    },
    {
     "name": "stderr",
     "output_type": "stream",
     "text": [
      "\rDictNBHDTransformer fit:  38%|███▊      | 4029337/10468770 [00:13<00:16, 379641.13it/s]"
     ]
    },
    {
     "name": "stderr",
     "output_type": "stream",
     "text": [
      "\rDictNBHDTransformer fit:  39%|███▉      | 4068118/10468770 [00:13<00:16, 382055.27it/s]"
     ]
    },
    {
     "name": "stderr",
     "output_type": "stream",
     "text": [
      "\rDictNBHDTransformer fit:  39%|███▉      | 4106846/10468770 [00:13<00:16, 382375.05it/s]"
     ]
    },
    {
     "name": "stderr",
     "output_type": "stream",
     "text": [
      "\rDictNBHDTransformer fit:  40%|███▉      | 4145450/10468770 [00:14<00:16, 383180.37it/s]"
     ]
    },
    {
     "name": "stderr",
     "output_type": "stream",
     "text": [
      "\rDictNBHDTransformer fit:  40%|███▉      | 4184752/10468770 [00:14<00:16, 386074.28it/s]"
     ]
    },
    {
     "name": "stderr",
     "output_type": "stream",
     "text": [
      "\rDictNBHDTransformer fit:  40%|████      | 4223545/10468770 [00:14<00:16, 369893.89it/s]"
     ]
    },
    {
     "name": "stderr",
     "output_type": "stream",
     "text": [
      "\rDictNBHDTransformer fit:  41%|████      | 4260808/10468770 [00:14<00:16, 370411.97it/s]"
     ]
    },
    {
     "name": "stderr",
     "output_type": "stream",
     "text": [
      "\rDictNBHDTransformer fit:  41%|████      | 4298041/10468770 [00:14<00:17, 362020.86it/s]"
     ]
    },
    {
     "name": "stderr",
     "output_type": "stream",
     "text": [
      "\rDictNBHDTransformer fit:  41%|████▏     | 4336200/10468770 [00:14<00:16, 367676.65it/s]"
     ]
    },
    {
     "name": "stderr",
     "output_type": "stream",
     "text": [
      "\rDictNBHDTransformer fit:  42%|████▏     | 4373113/10468770 [00:14<00:16, 361602.31it/s]"
     ]
    },
    {
     "name": "stderr",
     "output_type": "stream",
     "text": [
      "\rDictNBHDTransformer fit:  42%|████▏     | 4409398/10468770 [00:14<00:17, 345612.54it/s]"
     ]
    },
    {
     "name": "stderr",
     "output_type": "stream",
     "text": [
      "\rDictNBHDTransformer fit:  42%|████▏     | 4444791/10468770 [00:14<00:17, 348065.56it/s]"
     ]
    },
    {
     "name": "stderr",
     "output_type": "stream",
     "text": [
      "\rDictNBHDTransformer fit:  43%|████▎     | 4480177/10468770 [00:14<00:17, 349783.72it/s]"
     ]
    },
    {
     "name": "stderr",
     "output_type": "stream",
     "text": [
      "\rDictNBHDTransformer fit:  43%|████▎     | 4515277/10468770 [00:15<00:17, 346545.63it/s]"
     ]
    },
    {
     "name": "stderr",
     "output_type": "stream",
     "text": [
      "\rDictNBHDTransformer fit:  43%|████▎     | 4550023/10468770 [00:15<00:17, 339852.32it/s]"
     ]
    },
    {
     "name": "stderr",
     "output_type": "stream",
     "text": [
      "\rDictNBHDTransformer fit:  44%|████▍     | 4586398/10468770 [00:15<00:16, 346685.15it/s]"
     ]
    },
    {
     "name": "stderr",
     "output_type": "stream",
     "text": [
      "\rDictNBHDTransformer fit:  44%|████▍     | 4623097/10468770 [00:15<00:16, 352534.86it/s]"
     ]
    },
    {
     "name": "stderr",
     "output_type": "stream",
     "text": [
      "\rDictNBHDTransformer fit:  45%|████▍     | 4659813/10468770 [00:15<00:16, 356796.45it/s]"
     ]
    },
    {
     "name": "stderr",
     "output_type": "stream",
     "text": [
      "\rDictNBHDTransformer fit:  45%|████▍     | 4696993/10468770 [00:15<00:15, 361166.66it/s]"
     ]
    },
    {
     "name": "stderr",
     "output_type": "stream",
     "text": [
      "\rDictNBHDTransformer fit:  45%|████▌     | 4734231/10468770 [00:15<00:15, 364457.93it/s]"
     ]
    },
    {
     "name": "stderr",
     "output_type": "stream",
     "text": [
      "\rDictNBHDTransformer fit:  46%|████▌     | 4772149/10468770 [00:15<00:15, 368750.89it/s]"
     ]
    },
    {
     "name": "stderr",
     "output_type": "stream",
     "text": [
      "\rDictNBHDTransformer fit:  46%|████▌     | 4809075/10468770 [00:15<00:15, 367522.21it/s]"
     ]
    },
    {
     "name": "stderr",
     "output_type": "stream",
     "text": [
      "\rDictNBHDTransformer fit:  46%|████▋     | 4846627/10468770 [00:15<00:15, 369883.31it/s]"
     ]
    },
    {
     "name": "stderr",
     "output_type": "stream",
     "text": [
      "\rDictNBHDTransformer fit:  47%|████▋     | 4883848/10468770 [00:16<00:15, 370574.14it/s]"
     ]
    },
    {
     "name": "stderr",
     "output_type": "stream",
     "text": [
      "\rDictNBHDTransformer fit:  47%|████▋     | 4920926/10468770 [00:16<00:15, 367682.99it/s]"
     ]
    },
    {
     "name": "stderr",
     "output_type": "stream",
     "text": [
      "\rDictNBHDTransformer fit:  47%|████▋     | 4957714/10468770 [00:16<00:15, 361617.85it/s]"
     ]
    },
    {
     "name": "stderr",
     "output_type": "stream",
     "text": [
      "\rDictNBHDTransformer fit:  48%|████▊     | 4993912/10468770 [00:16<00:15, 350499.17it/s]"
     ]
    },
    {
     "name": "stderr",
     "output_type": "stream",
     "text": [
      "\rDictNBHDTransformer fit:  48%|████▊     | 5029309/10468770 [00:16<00:15, 351532.35it/s]"
     ]
    },
    {
     "name": "stderr",
     "output_type": "stream",
     "text": [
      "\rDictNBHDTransformer fit:  48%|████▊     | 5064533/10468770 [00:16<00:15, 346546.27it/s]"
     ]
    },
    {
     "name": "stderr",
     "output_type": "stream",
     "text": [
      "\rDictNBHDTransformer fit:  49%|████▊     | 5100789/10468770 [00:16<00:15, 351198.99it/s]"
     ]
    },
    {
     "name": "stderr",
     "output_type": "stream",
     "text": [
      "\rDictNBHDTransformer fit:  49%|████▉     | 5135970/10468770 [00:16<00:15, 350348.99it/s]"
     ]
    },
    {
     "name": "stderr",
     "output_type": "stream",
     "text": [
      "\rDictNBHDTransformer fit:  49%|████▉     | 5172656/10468770 [00:16<00:14, 355142.98it/s]"
     ]
    },
    {
     "name": "stderr",
     "output_type": "stream",
     "text": [
      "\rDictNBHDTransformer fit:  50%|████▉     | 5209071/10468770 [00:16<00:14, 357796.04it/s]"
     ]
    },
    {
     "name": "stderr",
     "output_type": "stream",
     "text": [
      "\rDictNBHDTransformer fit:  50%|█████     | 5246602/10468770 [00:17<00:14, 362875.00it/s]"
     ]
    },
    {
     "name": "stderr",
     "output_type": "stream",
     "text": [
      "\rDictNBHDTransformer fit:  50%|█████     | 5282933/10468770 [00:17<00:15, 341855.41it/s]"
     ]
    },
    {
     "name": "stderr",
     "output_type": "stream",
     "text": [
      "\rDictNBHDTransformer fit:  51%|█████     | 5318375/10468770 [00:17<00:14, 345527.21it/s]"
     ]
    },
    {
     "name": "stderr",
     "output_type": "stream",
     "text": [
      "\rDictNBHDTransformer fit:  51%|█████     | 5353134/10468770 [00:17<00:14, 344683.27it/s]"
     ]
    },
    {
     "name": "stderr",
     "output_type": "stream",
     "text": [
      "\rDictNBHDTransformer fit:  51%|█████▏    | 5387747/10468770 [00:17<00:14, 340845.25it/s]"
     ]
    },
    {
     "name": "stderr",
     "output_type": "stream",
     "text": [
      "\rDictNBHDTransformer fit:  52%|█████▏    | 5421943/10468770 [00:17<00:14, 338053.47it/s]"
     ]
    },
    {
     "name": "stderr",
     "output_type": "stream",
     "text": [
      "\rDictNBHDTransformer fit:  52%|█████▏    | 5457685/10468770 [00:17<00:14, 343638.33it/s]"
     ]
    },
    {
     "name": "stderr",
     "output_type": "stream",
     "text": [
      "\rDictNBHDTransformer fit:  52%|█████▏    | 5492624/10468770 [00:17<00:14, 345290.73it/s]"
     ]
    },
    {
     "name": "stderr",
     "output_type": "stream",
     "text": [
      "\rDictNBHDTransformer fit:  53%|█████▎    | 5528124/10468770 [00:17<00:14, 348144.21it/s]"
     ]
    },
    {
     "name": "stderr",
     "output_type": "stream",
     "text": [
      "\rDictNBHDTransformer fit:  53%|█████▎    | 5564681/10468770 [00:18<00:13, 353193.86it/s]"
     ]
    },
    {
     "name": "stderr",
     "output_type": "stream",
     "text": [
      "\rDictNBHDTransformer fit:  54%|█████▎    | 5603111/10468770 [00:18<00:13, 361980.73it/s]"
     ]
    },
    {
     "name": "stderr",
     "output_type": "stream",
     "text": [
      "\rDictNBHDTransformer fit:  54%|█████▍    | 5639399/10468770 [00:18<00:13, 361454.47it/s]"
     ]
    },
    {
     "name": "stderr",
     "output_type": "stream",
     "text": [
      "\rDictNBHDTransformer fit:  54%|█████▍    | 5675608/10468770 [00:18<00:13, 357566.18it/s]"
     ]
    },
    {
     "name": "stderr",
     "output_type": "stream",
     "text": [
      "\rDictNBHDTransformer fit:  55%|█████▍    | 5711418/10468770 [00:18<00:13, 353116.40it/s]"
     ]
    },
    {
     "name": "stderr",
     "output_type": "stream",
     "text": [
      "\rDictNBHDTransformer fit:  55%|█████▍    | 5746780/10468770 [00:18<00:13, 351503.75it/s]"
     ]
    },
    {
     "name": "stderr",
     "output_type": "stream",
     "text": [
      "\rDictNBHDTransformer fit:  55%|█████▌    | 5781968/10468770 [00:18<00:13, 335528.57it/s]"
     ]
    },
    {
     "name": "stderr",
     "output_type": "stream",
     "text": [
      "\rDictNBHDTransformer fit:  56%|█████▌    | 5817042/10468770 [00:18<00:13, 339932.87it/s]"
     ]
    },
    {
     "name": "stderr",
     "output_type": "stream",
     "text": [
      "\rDictNBHDTransformer fit:  56%|█████▌    | 5852512/10468770 [00:18<00:13, 344218.27it/s]"
     ]
    },
    {
     "name": "stderr",
     "output_type": "stream",
     "text": [
      "\rDictNBHDTransformer fit:  56%|█████▌    | 5888367/10468770 [00:18<00:13, 348393.95it/s]"
     ]
    },
    {
     "name": "stderr",
     "output_type": "stream",
     "text": [
      "\rDictNBHDTransformer fit:  57%|█████▋    | 5923296/10468770 [00:20<01:15, 60044.30it/s] "
     ]
    },
    {
     "name": "stderr",
     "output_type": "stream",
     "text": [
      "\rDictNBHDTransformer fit:  57%|█████▋    | 5959396/10468770 [00:20<00:56, 80069.81it/s]"
     ]
    },
    {
     "name": "stderr",
     "output_type": "stream",
     "text": [
      "\rDictNBHDTransformer fit:  57%|█████▋    | 5997333/10468770 [00:20<00:42, 104896.88it/s]"
     ]
    },
    {
     "name": "stderr",
     "output_type": "stream",
     "text": [
      "\rDictNBHDTransformer fit:  58%|█████▊    | 6033911/10468770 [00:20<00:33, 133450.73it/s]"
     ]
    },
    {
     "name": "stderr",
     "output_type": "stream",
     "text": [
      "\rDictNBHDTransformer fit:  58%|█████▊    | 6072062/10468770 [00:21<00:26, 165789.46it/s]"
     ]
    },
    {
     "name": "stderr",
     "output_type": "stream",
     "text": [
      "\rDictNBHDTransformer fit:  58%|█████▊    | 6108651/10468770 [00:21<00:21, 198325.93it/s]"
     ]
    },
    {
     "name": "stderr",
     "output_type": "stream",
     "text": [
      "\rDictNBHDTransformer fit:  59%|█████▊    | 6147259/10468770 [00:21<00:18, 232202.51it/s]"
     ]
    },
    {
     "name": "stderr",
     "output_type": "stream",
     "text": [
      "\rDictNBHDTransformer fit:  59%|█████▉    | 6185169/10468770 [00:21<00:16, 262744.83it/s]"
     ]
    },
    {
     "name": "stderr",
     "output_type": "stream",
     "text": [
      "\rDictNBHDTransformer fit:  59%|█████▉    | 6221839/10468770 [00:21<00:14, 286028.85it/s]"
     ]
    },
    {
     "name": "stderr",
     "output_type": "stream",
     "text": [
      "\rDictNBHDTransformer fit:  60%|█████▉    | 6258510/10468770 [00:21<00:13, 306236.47it/s]"
     ]
    },
    {
     "name": "stderr",
     "output_type": "stream",
     "text": [
      "\rDictNBHDTransformer fit:  60%|██████    | 6296854/10468770 [00:21<00:12, 325922.61it/s]"
     ]
    },
    {
     "name": "stderr",
     "output_type": "stream",
     "text": [
      "\rDictNBHDTransformer fit:  61%|██████    | 6335084/10468770 [00:21<00:12, 341008.96it/s]"
     ]
    },
    {
     "name": "stderr",
     "output_type": "stream",
     "text": [
      "\rDictNBHDTransformer fit:  61%|██████    | 6374273/10468770 [00:21<00:11, 354827.78it/s]"
     ]
    },
    {
     "name": "stderr",
     "output_type": "stream",
     "text": [
      "\rDictNBHDTransformer fit:  61%|██████▏   | 6412988/10468770 [00:21<00:11, 363939.39it/s]"
     ]
    },
    {
     "name": "stderr",
     "output_type": "stream",
     "text": [
      "\rDictNBHDTransformer fit:  62%|██████▏   | 6451171/10468770 [00:22<00:10, 365578.29it/s]"
     ]
    },
    {
     "name": "stderr",
     "output_type": "stream",
     "text": [
      "\rDictNBHDTransformer fit:  62%|██████▏   | 6489631/10468770 [00:22<00:10, 371083.08it/s]"
     ]
    },
    {
     "name": "stderr",
     "output_type": "stream",
     "text": [
      "\rDictNBHDTransformer fit:  62%|██████▏   | 6527637/10468770 [00:22<00:10, 370997.30it/s]"
     ]
    },
    {
     "name": "stderr",
     "output_type": "stream",
     "text": [
      "\rDictNBHDTransformer fit:  63%|██████▎   | 6566809/10468770 [00:22<00:10, 376980.02it/s]"
     ]
    },
    {
     "name": "stderr",
     "output_type": "stream",
     "text": [
      "\rDictNBHDTransformer fit:  63%|██████▎   | 6605980/10468770 [00:22<00:10, 381280.15it/s]"
     ]
    },
    {
     "name": "stderr",
     "output_type": "stream",
     "text": [
      "\rDictNBHDTransformer fit:  63%|██████▎   | 6644445/10468770 [00:22<00:10, 380708.58it/s]"
     ]
    },
    {
     "name": "stderr",
     "output_type": "stream",
     "text": [
      "\rDictNBHDTransformer fit:  64%|██████▍   | 6682752/10468770 [00:22<00:10, 376509.57it/s]"
     ]
    },
    {
     "name": "stderr",
     "output_type": "stream",
     "text": [
      "\rDictNBHDTransformer fit:  64%|██████▍   | 6720579/10468770 [00:22<00:10, 368538.56it/s]"
     ]
    },
    {
     "name": "stderr",
     "output_type": "stream",
     "text": [
      "\rDictNBHDTransformer fit:  65%|██████▍   | 6757594/10468770 [00:22<00:10, 366682.54it/s]"
     ]
    },
    {
     "name": "stderr",
     "output_type": "stream",
     "text": [
      "\rDictNBHDTransformer fit:  65%|██████▍   | 6794377/10468770 [00:22<00:10, 366430.39it/s]"
     ]
    },
    {
     "name": "stderr",
     "output_type": "stream",
     "text": [
      "\rDictNBHDTransformer fit:  65%|██████▌   | 6831101/10468770 [00:23<00:09, 365049.10it/s]"
     ]
    },
    {
     "name": "stderr",
     "output_type": "stream",
     "text": [
      "\rDictNBHDTransformer fit:  66%|██████▌   | 6867851/10468770 [00:23<00:09, 365780.00it/s]"
     ]
    },
    {
     "name": "stderr",
     "output_type": "stream",
     "text": [
      "\rDictNBHDTransformer fit:  66%|██████▌   | 6906280/10468770 [00:23<00:09, 371134.41it/s]"
     ]
    },
    {
     "name": "stderr",
     "output_type": "stream",
     "text": [
      "\rDictNBHDTransformer fit:  66%|██████▋   | 6943661/10468770 [00:23<00:09, 371931.84it/s]"
     ]
    },
    {
     "name": "stderr",
     "output_type": "stream",
     "text": [
      "\rDictNBHDTransformer fit:  67%|██████▋   | 6980888/10468770 [00:23<00:09, 367693.26it/s]"
     ]
    },
    {
     "name": "stderr",
     "output_type": "stream",
     "text": [
      "\rDictNBHDTransformer fit:  67%|██████▋   | 7017692/10468770 [00:23<00:09, 367274.37it/s]"
     ]
    },
    {
     "name": "stderr",
     "output_type": "stream",
     "text": [
      "\rDictNBHDTransformer fit:  67%|██████▋   | 7054896/10468770 [00:23<00:09, 368679.01it/s]"
     ]
    },
    {
     "name": "stderr",
     "output_type": "stream",
     "text": [
      "\rDictNBHDTransformer fit:  68%|██████▊   | 7092593/10468770 [00:23<00:09, 371123.42it/s]"
     ]
    },
    {
     "name": "stderr",
     "output_type": "stream",
     "text": [
      "\rDictNBHDTransformer fit:  68%|██████▊   | 7129754/10468770 [00:23<00:08, 371265.92it/s]"
     ]
    },
    {
     "name": "stderr",
     "output_type": "stream",
     "text": [
      "\rDictNBHDTransformer fit:  68%|██████▊   | 7168192/10468770 [00:23<00:08, 375102.96it/s]"
     ]
    },
    {
     "name": "stderr",
     "output_type": "stream",
     "text": [
      "\rDictNBHDTransformer fit:  69%|██████▉   | 7205720/10468770 [00:24<00:08, 372939.43it/s]"
     ]
    },
    {
     "name": "stderr",
     "output_type": "stream",
     "text": [
      "\rDictNBHDTransformer fit:  69%|██████▉   | 7243030/10468770 [00:24<00:08, 371478.96it/s]"
     ]
    },
    {
     "name": "stderr",
     "output_type": "stream",
     "text": [
      "\rDictNBHDTransformer fit:  70%|██████▉   | 7280190/10468770 [00:24<00:09, 343827.38it/s]"
     ]
    },
    {
     "name": "stderr",
     "output_type": "stream",
     "text": [
      "\rDictNBHDTransformer fit:  70%|██████▉   | 7316843/10468770 [00:24<00:08, 350336.17it/s]"
     ]
    },
    {
     "name": "stderr",
     "output_type": "stream",
     "text": [
      "\rDictNBHDTransformer fit:  70%|███████   | 7354169/10468770 [00:24<00:08, 356906.85it/s]"
     ]
    },
    {
     "name": "stderr",
     "output_type": "stream",
     "text": [
      "\rDictNBHDTransformer fit:  71%|███████   | 7391874/10468770 [00:24<00:08, 362718.98it/s]"
     ]
    },
    {
     "name": "stderr",
     "output_type": "stream",
     "text": [
      "\rDictNBHDTransformer fit:  71%|███████   | 7429228/10468770 [00:24<00:08, 365788.27it/s]"
     ]
    },
    {
     "name": "stderr",
     "output_type": "stream",
     "text": [
      "\rDictNBHDTransformer fit:  71%|███████▏  | 7465955/10468770 [00:25<00:21, 136917.47it/s]"
     ]
    },
    {
     "name": "stderr",
     "output_type": "stream",
     "text": [
      "\rDictNBHDTransformer fit:  72%|███████▏  | 7501461/10468770 [00:25<00:17, 167855.71it/s]"
     ]
    },
    {
     "name": "stderr",
     "output_type": "stream",
     "text": [
      "\rDictNBHDTransformer fit:  72%|███████▏  | 7531278/10468770 [00:25<00:15, 191652.52it/s]"
     ]
    },
    {
     "name": "stderr",
     "output_type": "stream",
     "text": [
      "\rDictNBHDTransformer fit:  72%|███████▏  | 7560742/10468770 [00:25<00:13, 213209.84it/s]"
     ]
    },
    {
     "name": "stderr",
     "output_type": "stream",
     "text": [
      "\rDictNBHDTransformer fit:  73%|███████▎  | 7590735/10468770 [00:25<00:12, 233458.51it/s]"
     ]
    },
    {
     "name": "stderr",
     "output_type": "stream",
     "text": [
      "\rDictNBHDTransformer fit:  73%|███████▎  | 7620241/10468770 [00:26<00:15, 180683.06it/s]"
     ]
    },
    {
     "name": "stderr",
     "output_type": "stream",
     "text": [
      "\rDictNBHDTransformer fit:  73%|███████▎  | 7644444/10468770 [00:26<00:16, 175394.13it/s]"
     ]
    },
    {
     "name": "stderr",
     "output_type": "stream",
     "text": [
      "\rDictNBHDTransformer fit:  73%|███████▎  | 7674914/10468770 [00:26<00:13, 200940.70it/s]"
     ]
    },
    {
     "name": "stderr",
     "output_type": "stream",
     "text": [
      "\rDictNBHDTransformer fit:  74%|███████▎  | 7699353/10468770 [00:26<00:14, 185569.11it/s]"
     ]
    },
    {
     "name": "stderr",
     "output_type": "stream",
     "text": [
      "\rDictNBHDTransformer fit:  74%|███████▍  | 7721184/10468770 [00:26<00:14, 189868.41it/s]"
     ]
    },
    {
     "name": "stderr",
     "output_type": "stream",
     "text": [
      "\rDictNBHDTransformer fit:  74%|███████▍  | 7742488/10468770 [00:26<00:16, 165653.42it/s]"
     ]
    },
    {
     "name": "stderr",
     "output_type": "stream",
     "text": [
      "\rDictNBHDTransformer fit:  74%|███████▍  | 7775128/10468770 [00:26<00:13, 194367.28it/s]"
     ]
    },
    {
     "name": "stderr",
     "output_type": "stream",
     "text": [
      "\rDictNBHDTransformer fit:  75%|███████▍  | 7806989/10468770 [00:26<00:12, 220113.85it/s]"
     ]
    },
    {
     "name": "stderr",
     "output_type": "stream",
     "text": [
      "\rDictNBHDTransformer fit:  75%|███████▍  | 7832584/10468770 [00:27<00:13, 200888.04it/s]"
     ]
    },
    {
     "name": "stderr",
     "output_type": "stream",
     "text": [
      "\rDictNBHDTransformer fit:  75%|███████▌  | 7859530/10468770 [00:27<00:11, 217469.04it/s]"
     ]
    },
    {
     "name": "stderr",
     "output_type": "stream",
     "text": [
      "\rDictNBHDTransformer fit:  75%|███████▌  | 7883657/10468770 [00:27<00:11, 217515.89it/s]"
     ]
    },
    {
     "name": "stderr",
     "output_type": "stream",
     "text": [
      "\rDictNBHDTransformer fit:  76%|███████▌  | 7912660/10468770 [00:27<00:10, 235153.56it/s]"
     ]
    },
    {
     "name": "stderr",
     "output_type": "stream",
     "text": [
      "\rDictNBHDTransformer fit:  76%|███████▌  | 7937753/10468770 [00:27<00:11, 223943.61it/s]"
     ]
    },
    {
     "name": "stderr",
     "output_type": "stream",
     "text": [
      "\rDictNBHDTransformer fit:  76%|███████▌  | 7961364/10468770 [00:27<00:11, 208968.52it/s]"
     ]
    },
    {
     "name": "stderr",
     "output_type": "stream",
     "text": [
      "\rDictNBHDTransformer fit:  76%|███████▋  | 7996325/10468770 [00:27<00:10, 237648.96it/s]"
     ]
    },
    {
     "name": "stderr",
     "output_type": "stream",
     "text": [
      "\rDictNBHDTransformer fit:  77%|███████▋  | 8031849/10468770 [00:27<00:09, 263847.23it/s]"
     ]
    },
    {
     "name": "stderr",
     "output_type": "stream",
     "text": [
      "\rDictNBHDTransformer fit:  77%|███████▋  | 8067675/10468770 [00:27<00:08, 286494.19it/s]"
     ]
    },
    {
     "name": "stderr",
     "output_type": "stream",
     "text": [
      "\rDictNBHDTransformer fit:  77%|███████▋  | 8098551/10468770 [00:28<00:08, 290577.93it/s]"
     ]
    },
    {
     "name": "stderr",
     "output_type": "stream",
     "text": [
      "\rDictNBHDTransformer fit:  78%|███████▊  | 8132701/10468770 [00:28<00:07, 304182.10it/s]"
     ]
    },
    {
     "name": "stderr",
     "output_type": "stream",
     "text": [
      "\rDictNBHDTransformer fit:  78%|███████▊  | 8167973/10468770 [00:28<00:07, 317279.68it/s]"
     ]
    },
    {
     "name": "stderr",
     "output_type": "stream",
     "text": [
      "\rDictNBHDTransformer fit:  78%|███████▊  | 8200735/10468770 [00:28<00:07, 319721.75it/s]"
     ]
    },
    {
     "name": "stderr",
     "output_type": "stream",
     "text": [
      "\rDictNBHDTransformer fit:  79%|███████▊  | 8233436/10468770 [00:28<00:06, 321466.60it/s]"
     ]
    },
    {
     "name": "stderr",
     "output_type": "stream",
     "text": [
      "\rDictNBHDTransformer fit:  79%|███████▉  | 8269244/10468770 [00:28<00:06, 331636.14it/s]"
     ]
    },
    {
     "name": "stderr",
     "output_type": "stream",
     "text": [
      "\rDictNBHDTransformer fit:  79%|███████▉  | 8302847/10468770 [00:28<00:07, 301714.50it/s]"
     ]
    },
    {
     "name": "stderr",
     "output_type": "stream",
     "text": [
      "\rDictNBHDTransformer fit:  80%|███████▉  | 8339815/10468770 [00:28<00:06, 319315.37it/s]"
     ]
    },
    {
     "name": "stderr",
     "output_type": "stream",
     "text": [
      "\rDictNBHDTransformer fit:  80%|████████  | 8376503/10468770 [00:28<00:06, 332228.21it/s]"
     ]
    },
    {
     "name": "stderr",
     "output_type": "stream",
     "text": [
      "\rDictNBHDTransformer fit:  80%|████████  | 8410928/10468770 [00:28<00:06, 335745.51it/s]"
     ]
    },
    {
     "name": "stderr",
     "output_type": "stream",
     "text": [
      "\rDictNBHDTransformer fit:  81%|████████  | 8447079/10468770 [00:29<00:05, 343080.22it/s]"
     ]
    },
    {
     "name": "stderr",
     "output_type": "stream",
     "text": [
      "\rDictNBHDTransformer fit:  81%|████████  | 8482344/10468770 [00:29<00:05, 345896.03it/s]"
     ]
    },
    {
     "name": "stderr",
     "output_type": "stream",
     "text": [
      "\rDictNBHDTransformer fit:  81%|████████▏ | 8518818/10468770 [00:29<00:05, 351337.53it/s]"
     ]
    },
    {
     "name": "stderr",
     "output_type": "stream",
     "text": [
      "\rDictNBHDTransformer fit:  82%|████████▏ | 8554176/10468770 [00:29<00:05, 344028.58it/s]"
     ]
    },
    {
     "name": "stderr",
     "output_type": "stream",
     "text": [
      "\rDictNBHDTransformer fit:  82%|████████▏ | 8591176/10468770 [00:29<00:05, 351426.88it/s]"
     ]
    },
    {
     "name": "stderr",
     "output_type": "stream",
     "text": [
      "\rDictNBHDTransformer fit:  82%|████████▏ | 8629172/10468770 [00:29<00:05, 359526.34it/s]"
     ]
    },
    {
     "name": "stderr",
     "output_type": "stream",
     "text": [
      "\rDictNBHDTransformer fit:  83%|████████▎ | 8665292/10468770 [00:29<00:05, 359985.07it/s]"
     ]
    },
    {
     "name": "stderr",
     "output_type": "stream",
     "text": [
      "\rDictNBHDTransformer fit:  83%|████████▎ | 8701408/10468770 [00:29<00:05, 345193.89it/s]"
     ]
    },
    {
     "name": "stderr",
     "output_type": "stream",
     "text": [
      "\rDictNBHDTransformer fit:  83%|████████▎ | 8737578/10468770 [00:29<00:04, 349983.26it/s]"
     ]
    },
    {
     "name": "stderr",
     "output_type": "stream",
     "text": [
      "\rDictNBHDTransformer fit:  84%|████████▍ | 8773151/10468770 [00:29<00:04, 351686.80it/s]"
     ]
    },
    {
     "name": "stderr",
     "output_type": "stream",
     "text": [
      "\rDictNBHDTransformer fit:  84%|████████▍ | 8808437/10468770 [00:31<00:26, 61529.26it/s] "
     ]
    },
    {
     "name": "stderr",
     "output_type": "stream",
     "text": [
      "\rDictNBHDTransformer fit:  84%|████████▍ | 8841216/10468770 [00:31<00:20, 81353.84it/s]"
     ]
    },
    {
     "name": "stderr",
     "output_type": "stream",
     "text": [
      "\rDictNBHDTransformer fit:  85%|████████▍ | 8874285/10468770 [00:31<00:15, 105134.77it/s]"
     ]
    },
    {
     "name": "stderr",
     "output_type": "stream",
     "text": [
      "\rDictNBHDTransformer fit:  85%|████████▌ | 8907665/10468770 [00:31<00:11, 132329.58it/s]"
     ]
    },
    {
     "name": "stderr",
     "output_type": "stream",
     "text": [
      "\rDictNBHDTransformer fit:  85%|████████▌ | 8938130/10468770 [00:32<00:09, 159035.59it/s]"
     ]
    },
    {
     "name": "stderr",
     "output_type": "stream",
     "text": [
      "\rDictNBHDTransformer fit:  86%|████████▌ | 8968473/10468770 [00:32<00:08, 182273.56it/s]"
     ]
    },
    {
     "name": "stderr",
     "output_type": "stream",
     "text": [
      "\rDictNBHDTransformer fit:  86%|████████▌ | 8998010/10468770 [00:32<00:07, 199141.70it/s]"
     ]
    },
    {
     "name": "stderr",
     "output_type": "stream",
     "text": [
      "\rDictNBHDTransformer fit:  86%|████████▌ | 9026306/10468770 [00:32<00:07, 202985.04it/s]"
     ]
    },
    {
     "name": "stderr",
     "output_type": "stream",
     "text": [
      "\rDictNBHDTransformer fit:  86%|████████▋ | 9052490/10468770 [00:32<00:06, 202883.92it/s]"
     ]
    },
    {
     "name": "stderr",
     "output_type": "stream",
     "text": [
      "\rDictNBHDTransformer fit:  87%|████████▋ | 9077905/10468770 [00:32<00:06, 215951.74it/s]"
     ]
    },
    {
     "name": "stderr",
     "output_type": "stream",
     "text": [
      "\rDictNBHDTransformer fit:  87%|████████▋ | 9102615/10468770 [00:32<00:06, 214144.74it/s]"
     ]
    },
    {
     "name": "stderr",
     "output_type": "stream",
     "text": [
      "\rDictNBHDTransformer fit:  87%|████████▋ | 9126214/10468770 [00:32<00:06, 211555.52it/s]"
     ]
    },
    {
     "name": "stderr",
     "output_type": "stream",
     "text": [
      "\rDictNBHDTransformer fit:  88%|████████▊ | 9160249/10468770 [00:32<00:05, 238648.06it/s]"
     ]
    },
    {
     "name": "stderr",
     "output_type": "stream",
     "text": [
      "\rDictNBHDTransformer fit:  88%|████████▊ | 9195140/10468770 [00:33<00:04, 263640.62it/s]"
     ]
    },
    {
     "name": "stderr",
     "output_type": "stream",
     "text": [
      "\rDictNBHDTransformer fit:  88%|████████▊ | 9229926/10468770 [00:33<00:04, 284289.05it/s]"
     ]
    },
    {
     "name": "stderr",
     "output_type": "stream",
     "text": [
      "\rDictNBHDTransformer fit:  88%|████████▊ | 9264299/10468770 [00:33<00:04, 299843.01it/s]"
     ]
    },
    {
     "name": "stderr",
     "output_type": "stream",
     "text": [
      "\rDictNBHDTransformer fit:  89%|████████▉ | 9296944/10468770 [00:33<00:03, 307355.68it/s]"
     ]
    },
    {
     "name": "stderr",
     "output_type": "stream",
     "text": [
      "\rDictNBHDTransformer fit:  89%|████████▉ | 9333055/10468770 [00:33<00:03, 321722.93it/s]"
     ]
    },
    {
     "name": "stderr",
     "output_type": "stream",
     "text": [
      "\rDictNBHDTransformer fit:  89%|████████▉ | 9367486/10468770 [00:33<00:03, 328179.72it/s]"
     ]
    },
    {
     "name": "stderr",
     "output_type": "stream",
     "text": [
      "\rDictNBHDTransformer fit:  90%|████████▉ | 9403724/10468770 [00:33<00:03, 337741.42it/s]"
     ]
    },
    {
     "name": "stderr",
     "output_type": "stream",
     "text": [
      "\rDictNBHDTransformer fit:  90%|█████████ | 9440337/10468770 [00:33<00:02, 345783.90it/s]"
     ]
    },
    {
     "name": "stderr",
     "output_type": "stream",
     "text": [
      "\rDictNBHDTransformer fit:  91%|█████████ | 9475631/10468770 [00:33<00:02, 347896.98it/s]"
     ]
    },
    {
     "name": "stderr",
     "output_type": "stream",
     "text": [
      "\rDictNBHDTransformer fit:  91%|█████████ | 9512644/10468770 [00:33<00:02, 354275.08it/s]"
     ]
    },
    {
     "name": "stderr",
     "output_type": "stream",
     "text": [
      "\rDictNBHDTransformer fit:  91%|█████████ | 9548851/10468770 [00:34<00:02, 356577.18it/s]"
     ]
    },
    {
     "name": "stderr",
     "output_type": "stream",
     "text": [
      "\rDictNBHDTransformer fit:  92%|█████████▏| 9587508/10468770 [00:34<00:02, 365069.37it/s]"
     ]
    },
    {
     "name": "stderr",
     "output_type": "stream",
     "text": [
      "\rDictNBHDTransformer fit:  92%|█████████▏| 9625806/10468770 [00:34<00:02, 370261.96it/s]"
     ]
    },
    {
     "name": "stderr",
     "output_type": "stream",
     "text": [
      "\rDictNBHDTransformer fit:  92%|█████████▏| 9662977/10468770 [00:34<00:02, 362063.94it/s]"
     ]
    },
    {
     "name": "stderr",
     "output_type": "stream",
     "text": [
      "\rDictNBHDTransformer fit:  93%|█████████▎| 9700078/10468770 [00:34<00:02, 364699.92it/s]"
     ]
    },
    {
     "name": "stderr",
     "output_type": "stream",
     "text": [
      "\rDictNBHDTransformer fit:  93%|█████████▎| 9738040/10468770 [00:34<00:01, 369048.10it/s]"
     ]
    },
    {
     "name": "stderr",
     "output_type": "stream",
     "text": [
      "\rDictNBHDTransformer fit:  93%|█████████▎| 9776054/10468770 [00:34<00:01, 372306.95it/s]"
     ]
    },
    {
     "name": "stderr",
     "output_type": "stream",
     "text": [
      "\rDictNBHDTransformer fit:  94%|█████████▎| 9813426/10468770 [00:34<00:01, 372728.78it/s]"
     ]
    },
    {
     "name": "stderr",
     "output_type": "stream",
     "text": [
      "\rDictNBHDTransformer fit:  94%|█████████▍| 9850746/10468770 [00:34<00:01, 371904.58it/s]"
     ]
    },
    {
     "name": "stderr",
     "output_type": "stream",
     "text": [
      "\rDictNBHDTransformer fit:  94%|█████████▍| 9887970/10468770 [00:35<00:01, 337452.94it/s]"
     ]
    },
    {
     "name": "stderr",
     "output_type": "stream",
     "text": [
      "\rDictNBHDTransformer fit:  95%|█████████▍| 9922351/10468770 [00:35<00:01, 274566.02it/s]"
     ]
    },
    {
     "name": "stderr",
     "output_type": "stream",
     "text": [
      "\rDictNBHDTransformer fit:  95%|█████████▌| 9952159/10468770 [00:35<00:02, 253521.56it/s]"
     ]
    },
    {
     "name": "stderr",
     "output_type": "stream",
     "text": [
      "\rDictNBHDTransformer fit:  95%|█████████▌| 9979476/10468770 [00:35<00:02, 242312.32it/s]"
     ]
    },
    {
     "name": "stderr",
     "output_type": "stream",
     "text": [
      "\rDictNBHDTransformer fit:  96%|█████████▌| 10005188/10468770 [00:35<00:01, 239695.97it/s]"
     ]
    },
    {
     "name": "stderr",
     "output_type": "stream",
     "text": [
      "\rDictNBHDTransformer fit:  96%|█████████▌| 10030201/10468770 [00:35<00:02, 213751.54it/s]"
     ]
    },
    {
     "name": "stderr",
     "output_type": "stream",
     "text": [
      "\rDictNBHDTransformer fit:  96%|█████████▌| 10053963/10468770 [00:35<00:01, 220364.94it/s]"
     ]
    },
    {
     "name": "stderr",
     "output_type": "stream",
     "text": [
      "\rDictNBHDTransformer fit:  96%|█████████▋| 10078675/10468770 [00:35<00:01, 227739.97it/s]"
     ]
    },
    {
     "name": "stderr",
     "output_type": "stream",
     "text": [
      "\rDictNBHDTransformer fit:  96%|█████████▋| 10102162/10468770 [00:36<00:01, 228266.97it/s]"
     ]
    },
    {
     "name": "stderr",
     "output_type": "stream",
     "text": [
      "\rDictNBHDTransformer fit:  97%|█████████▋| 10129591/10468770 [00:36<00:01, 240364.51it/s]"
     ]
    },
    {
     "name": "stderr",
     "output_type": "stream",
     "text": [
      "\rDictNBHDTransformer fit:  97%|█████████▋| 10157511/10468770 [00:36<00:01, 250829.99it/s]"
     ]
    },
    {
     "name": "stderr",
     "output_type": "stream",
     "text": [
      "\rDictNBHDTransformer fit:  97%|█████████▋| 10183077/10468770 [00:36<00:01, 251259.33it/s]"
     ]
    },
    {
     "name": "stderr",
     "output_type": "stream",
     "text": [
      "\rDictNBHDTransformer fit:  98%|█████████▊| 10208541/10468770 [00:36<00:01, 248912.31it/s]"
     ]
    },
    {
     "name": "stderr",
     "output_type": "stream",
     "text": [
      "\rDictNBHDTransformer fit:  98%|█████████▊| 10238823/10468770 [00:36<00:00, 262955.05it/s]"
     ]
    },
    {
     "name": "stderr",
     "output_type": "stream",
     "text": [
      "\rDictNBHDTransformer fit:  98%|█████████▊| 10265501/10468770 [00:36<00:00, 257254.12it/s]"
     ]
    },
    {
     "name": "stderr",
     "output_type": "stream",
     "text": [
      "\rDictNBHDTransformer fit:  98%|█████████▊| 10291522/10468770 [00:36<00:00, 224780.30it/s]"
     ]
    },
    {
     "name": "stderr",
     "output_type": "stream",
     "text": [
      "\rDictNBHDTransformer fit:  99%|█████████▊| 10314946/10468770 [00:36<00:00, 206501.90it/s]"
     ]
    },
    {
     "name": "stderr",
     "output_type": "stream",
     "text": [
      "\rDictNBHDTransformer fit:  99%|█████████▊| 10336550/10468770 [00:37<00:00, 199425.10it/s]"
     ]
    },
    {
     "name": "stderr",
     "output_type": "stream",
     "text": [
      "\rDictNBHDTransformer fit:  99%|█████████▉| 10357213/10468770 [00:37<00:00, 173876.09it/s]"
     ]
    },
    {
     "name": "stderr",
     "output_type": "stream",
     "text": [
      "\rDictNBHDTransformer fit:  99%|█████████▉| 10377805/10468770 [00:37<00:00, 182386.02it/s]"
     ]
    },
    {
     "name": "stderr",
     "output_type": "stream",
     "text": [
      "\rDictNBHDTransformer fit:  99%|█████████▉| 10400120/10468770 [00:37<00:00, 192960.69it/s]"
     ]
    },
    {
     "name": "stderr",
     "output_type": "stream",
     "text": [
      "\rDictNBHDTransformer fit: 100%|█████████▉| 10424102/10468770 [00:37<00:00, 204970.78it/s]"
     ]
    },
    {
     "name": "stderr",
     "output_type": "stream",
     "text": [
      "\rDictNBHDTransformer fit: 100%|█████████▉| 10451698/10468770 [00:37<00:00, 222106.59it/s]"
     ]
    },
    {
     "name": "stderr",
     "output_type": "stream",
     "text": [
      "\rDictNBHDTransformer fit: 100%|██████████| 10468770/10468770 [00:37<00:00, 276715.65it/s]"
     ]
    },
    {
     "name": "stderr",
     "output_type": "stream",
     "text": [
      "\n\rDictClassTransformer_DATE fit:   0%|          | 0/10468770 [00:00<?, ?it/s]"
     ]
    },
    {
     "name": "stderr",
     "output_type": "stream",
     "text": [
      "\rDictClassTransformer_DATE fit:   0%|          | 14063/10468770 [00:01<20:21, 8557.05it/s]"
     ]
    },
    {
     "name": "stderr",
     "output_type": "stream",
     "text": [
      "\rDictClassTransformer_DATE fit:   1%|          | 66583/10468770 [00:03<15:55, 10881.46it/s]"
     ]
    },
    {
     "name": "stderr",
     "output_type": "stream",
     "text": [
      "\rDictClassTransformer_DATE fit:   1%|▏         | 137567/10468770 [00:03<11:08, 15443.48it/s]"
     ]
    },
    {
     "name": "stderr",
     "output_type": "stream",
     "text": [
      "\rDictClassTransformer_DATE fit:   2%|▏         | 214823/10468770 [00:03<07:48, 21874.71it/s]"
     ]
    },
    {
     "name": "stderr",
     "output_type": "stream",
     "text": [
      "\rDictClassTransformer_DATE fit:   3%|▎         | 287657/10468770 [00:03<05:29, 30852.46it/s]"
     ]
    },
    {
     "name": "stderr",
     "output_type": "stream",
     "text": [
      "\rDictClassTransformer_DATE fit:   3%|▎         | 363227/10468770 [00:03<03:53, 43317.02it/s]"
     ]
    },
    {
     "name": "stderr",
     "output_type": "stream",
     "text": [
      "\rDictClassTransformer_DATE fit:   4%|▍         | 431085/10468770 [00:03<02:46, 60233.59it/s]"
     ]
    },
    {
     "name": "stderr",
     "output_type": "stream",
     "text": [
      "\rDictClassTransformer_DATE fit:   5%|▍         | 497554/10468770 [00:04<02:00, 82831.09it/s]"
     ]
    },
    {
     "name": "stderr",
     "output_type": "stream",
     "text": [
      "\rDictClassTransformer_DATE fit:   6%|▌         | 582030/10468770 [00:04<01:27, 113557.52it/s]"
     ]
    },
    {
     "name": "stderr",
     "output_type": "stream",
     "text": [
      "\rDictClassTransformer_DATE fit:   6%|▋         | 659072/10468770 [00:04<01:04, 152556.59it/s]"
     ]
    },
    {
     "name": "stderr",
     "output_type": "stream",
     "text": [
      "\rDictClassTransformer_DATE fit:   7%|▋         | 750518/10468770 [00:04<00:47, 203395.72it/s]"
     ]
    },
    {
     "name": "stderr",
     "output_type": "stream",
     "text": [
      "\rDictClassTransformer_DATE fit:   8%|▊         | 849262/10468770 [00:04<00:36, 266995.16it/s]"
     ]
    },
    {
     "name": "stderr",
     "output_type": "stream",
     "text": [
      "\rDictClassTransformer_DATE fit:   9%|▉         | 948966/10468770 [00:04<00:27, 342151.55it/s]"
     ]
    },
    {
     "name": "stderr",
     "output_type": "stream",
     "text": [
      "\rDictClassTransformer_DATE fit:  10%|█         | 1056108/10468770 [00:04<00:21, 429941.77it/s]"
     ]
    },
    {
     "name": "stderr",
     "output_type": "stream",
     "text": [
      "\rDictClassTransformer_DATE fit:  11%|█         | 1168546/10468770 [00:04<00:17, 527720.05it/s]"
     ]
    },
    {
     "name": "stderr",
     "output_type": "stream",
     "text": [
      "\rDictClassTransformer_DATE fit:  12%|█▏        | 1278490/10468770 [00:04<00:14, 625261.81it/s]"
     ]
    },
    {
     "name": "stderr",
     "output_type": "stream",
     "text": [
      "\rDictClassTransformer_DATE fit:  13%|█▎        | 1389543/10468770 [00:04<00:12, 719592.90it/s]"
     ]
    },
    {
     "name": "stderr",
     "output_type": "stream",
     "text": [
      "\rDictClassTransformer_DATE fit:  14%|█▍        | 1494750/10468770 [00:05<00:11, 748618.75it/s]"
     ]
    },
    {
     "name": "stderr",
     "output_type": "stream",
     "text": [
      "\rDictClassTransformer_DATE fit:  15%|█▌        | 1593187/10468770 [00:05<00:12, 731651.14it/s]"
     ]
    },
    {
     "name": "stderr",
     "output_type": "stream",
     "text": [
      "\rDictClassTransformer_DATE fit:  16%|█▌        | 1691655/10468770 [00:05<00:11, 792763.05it/s]"
     ]
    },
    {
     "name": "stderr",
     "output_type": "stream",
     "text": [
      "\rDictClassTransformer_DATE fit:  17%|█▋        | 1803947/10468770 [00:05<00:09, 869451.37it/s]"
     ]
    },
    {
     "name": "stderr",
     "output_type": "stream",
     "text": [
      "\rDictClassTransformer_DATE fit:  18%|█▊        | 1911713/10468770 [00:05<00:09, 922946.22it/s]"
     ]
    },
    {
     "name": "stderr",
     "output_type": "stream",
     "text": [
      "\rDictClassTransformer_DATE fit:  19%|█▉        | 2025143/10468770 [00:05<00:08, 977590.41it/s]"
     ]
    },
    {
     "name": "stderr",
     "output_type": "stream",
     "text": [
      "\rDictClassTransformer_DATE fit:  20%|██        | 2133770/10468770 [00:05<00:08, 1007837.85it/s]"
     ]
    },
    {
     "name": "stderr",
     "output_type": "stream",
     "text": [
      "\rDictClassTransformer_DATE fit:  21%|██▏       | 2247160/10468770 [00:05<00:07, 1042611.37it/s]"
     ]
    },
    {
     "name": "stderr",
     "output_type": "stream",
     "text": [
      "\rDictClassTransformer_DATE fit:  23%|██▎       | 2364267/10468770 [00:05<00:07, 1078086.59it/s]"
     ]
    },
    {
     "name": "stderr",
     "output_type": "stream",
     "text": [
      "\rDictClassTransformer_DATE fit:  24%|██▎       | 2478502/10468770 [00:05<00:07, 1096590.69it/s]"
     ]
    },
    {
     "name": "stderr",
     "output_type": "stream",
     "text": [
      "\rDictClassTransformer_DATE fit:  25%|██▍       | 2593692/10468770 [00:06<00:07, 1112617.17it/s]"
     ]
    },
    {
     "name": "stderr",
     "output_type": "stream",
     "text": [
      "\rDictClassTransformer_DATE fit:  26%|██▌       | 2716610/10468770 [00:06<00:06, 1145194.04it/s]"
     ]
    },
    {
     "name": "stderr",
     "output_type": "stream",
     "text": [
      "\rDictClassTransformer_DATE fit:  27%|██▋       | 2832498/10468770 [00:06<00:06, 1146128.82it/s]"
     ]
    },
    {
     "name": "stderr",
     "output_type": "stream",
     "text": [
      "\rDictClassTransformer_DATE fit:  28%|██▊       | 2950562/10468770 [00:06<00:06, 1156267.97it/s]"
     ]
    },
    {
     "name": "stderr",
     "output_type": "stream",
     "text": [
      "\rDictClassTransformer_DATE fit:  29%|██▉       | 3066881/10468770 [00:06<00:06, 1158332.12it/s]"
     ]
    },
    {
     "name": "stderr",
     "output_type": "stream",
     "text": [
      "\rDictClassTransformer_DATE fit:  30%|███       | 3183200/10468770 [00:06<00:06, 1154559.50it/s]"
     ]
    },
    {
     "name": "stderr",
     "output_type": "stream",
     "text": [
      "\rDictClassTransformer_DATE fit:  32%|███▏      | 3304806/10468770 [00:06<00:06, 1172342.71it/s]"
     ]
    },
    {
     "name": "stderr",
     "output_type": "stream",
     "text": [
      "\rDictClassTransformer_DATE fit:  33%|███▎      | 3426733/10468770 [00:06<00:05, 1186034.20it/s]"
     ]
    },
    {
     "name": "stderr",
     "output_type": "stream",
     "text": [
      "\rDictClassTransformer_DATE fit:  34%|███▍      | 3545589/10468770 [00:06<00:05, 1178701.28it/s]"
     ]
    },
    {
     "name": "stderr",
     "output_type": "stream",
     "text": [
      "\rDictClassTransformer_DATE fit:  35%|███▌      | 3667061/10468770 [00:06<00:05, 1189280.10it/s]"
     ]
    },
    {
     "name": "stderr",
     "output_type": "stream",
     "text": [
      "\rDictClassTransformer_DATE fit:  36%|███▌      | 3786143/10468770 [00:07<00:05, 1166436.90it/s]"
     ]
    },
    {
     "name": "stderr",
     "output_type": "stream",
     "text": [
      "\rDictClassTransformer_DATE fit:  37%|███▋      | 3910517/10468770 [00:07<00:05, 1188596.75it/s]"
     ]
    },
    {
     "name": "stderr",
     "output_type": "stream",
     "text": [
      "\rDictClassTransformer_DATE fit:  38%|███▊      | 4029624/10468770 [00:07<00:05, 1179781.01it/s]"
     ]
    },
    {
     "name": "stderr",
     "output_type": "stream",
     "text": [
      "\rDictClassTransformer_DATE fit:  40%|███▉      | 4149612/10468770 [00:07<00:05, 1185739.15it/s]"
     ]
    },
    {
     "name": "stderr",
     "output_type": "stream",
     "text": [
      "\rDictClassTransformer_DATE fit:  41%|████      | 4268325/10468770 [00:07<00:05, 1068366.13it/s]"
     ]
    },
    {
     "name": "stderr",
     "output_type": "stream",
     "text": [
      "\rDictClassTransformer_DATE fit:  42%|████▏     | 4377461/10468770 [00:07<00:06, 905883.70it/s] "
     ]
    },
    {
     "name": "stderr",
     "output_type": "stream",
     "text": [
      "\rDictClassTransformer_DATE fit:  43%|████▎     | 4473915/10468770 [00:07<00:06, 861982.66it/s]"
     ]
    },
    {
     "name": "stderr",
     "output_type": "stream",
     "text": [
      "\rDictClassTransformer_DATE fit:  44%|████▎     | 4564665/10468770 [00:07<00:07, 815083.51it/s]"
     ]
    },
    {
     "name": "stderr",
     "output_type": "stream",
     "text": [
      "\rDictClassTransformer_DATE fit:  44%|████▍     | 4649888/10468770 [00:08<00:07, 749925.95it/s]"
     ]
    },
    {
     "name": "stderr",
     "output_type": "stream",
     "text": [
      "\rDictClassTransformer_DATE fit:  45%|████▌     | 4728506/10468770 [00:08<00:07, 756330.91it/s]"
     ]
    },
    {
     "name": "stderr",
     "output_type": "stream",
     "text": [
      "\rDictClassTransformer_DATE fit:  46%|████▌     | 4813045/10468770 [00:08<00:07, 781013.79it/s]"
     ]
    },
    {
     "name": "stderr",
     "output_type": "stream",
     "text": [
      "\rDictClassTransformer_DATE fit:  47%|████▋     | 4893135/10468770 [00:08<00:07, 738032.64it/s]"
     ]
    },
    {
     "name": "stderr",
     "output_type": "stream",
     "text": [
      "\rDictClassTransformer_DATE fit:  47%|████▋     | 4968820/10468770 [00:08<00:07, 735754.41it/s]"
     ]
    },
    {
     "name": "stderr",
     "output_type": "stream",
     "text": [
      "\rDictClassTransformer_DATE fit:  48%|████▊     | 5051188/10468770 [00:08<00:07, 760094.05it/s]"
     ]
    },
    {
     "name": "stderr",
     "output_type": "stream",
     "text": [
      "\rDictClassTransformer_DATE fit:  49%|████▉     | 5135098/10468770 [00:08<00:06, 782187.96it/s]"
     ]
    },
    {
     "name": "stderr",
     "output_type": "stream",
     "text": [
      "\rDictClassTransformer_DATE fit:  50%|████▉     | 5214267/10468770 [00:08<00:06, 783764.62it/s]"
     ]
    },
    {
     "name": "stderr",
     "output_type": "stream",
     "text": [
      "\rDictClassTransformer_DATE fit:  51%|█████     | 5293309/10468770 [00:08<00:06, 780354.80it/s]"
     ]
    },
    {
     "name": "stderr",
     "output_type": "stream",
     "text": [
      "\rDictClassTransformer_DATE fit:  51%|█████▏    | 5371814/10468770 [00:09<00:06, 776917.95it/s]"
     ]
    },
    {
     "name": "stderr",
     "output_type": "stream",
     "text": [
      "\rDictClassTransformer_DATE fit:  52%|█████▏    | 5449838/10468770 [00:09<00:06, 742107.90it/s]"
     ]
    },
    {
     "name": "stderr",
     "output_type": "stream",
     "text": [
      "\rDictClassTransformer_DATE fit:  53%|█████▎    | 5529579/10468770 [00:09<00:06, 757875.69it/s]"
     ]
    },
    {
     "name": "stderr",
     "output_type": "stream",
     "text": [
      "\rDictClassTransformer_DATE fit:  54%|█████▎    | 5620929/10468770 [00:09<00:06, 798693.24it/s]"
     ]
    },
    {
     "name": "stderr",
     "output_type": "stream",
     "text": [
      "\rDictClassTransformer_DATE fit:  55%|█████▍    | 5719356/10468770 [00:09<00:05, 846573.55it/s]"
     ]
    },
    {
     "name": "stderr",
     "output_type": "stream",
     "text": [
      "\rDictClassTransformer_DATE fit:  56%|█████▌    | 5814034/10468770 [00:09<00:05, 874333.16it/s]"
     ]
    },
    {
     "name": "stderr",
     "output_type": "stream",
     "text": [
      "\rDictClassTransformer_DATE fit:  57%|█████▋    | 5924703/10468770 [00:09<00:04, 933106.39it/s]"
     ]
    },
    {
     "name": "stderr",
     "output_type": "stream",
     "text": [
      "\rDictClassTransformer_DATE fit:  58%|█████▊    | 6027932/10468770 [00:09<00:04, 960798.54it/s]"
     ]
    },
    {
     "name": "stderr",
     "output_type": "stream",
     "text": [
      "\rDictClassTransformer_DATE fit:  59%|█████▊    | 6125584/10468770 [00:09<00:04, 894663.87it/s]"
     ]
    },
    {
     "name": "stderr",
     "output_type": "stream",
     "text": [
      "\rDictClassTransformer_DATE fit:  60%|█████▉    | 6229209/10468770 [00:09<00:04, 932898.37it/s]"
     ]
    },
    {
     "name": "stderr",
     "output_type": "stream",
     "text": [
      "\rDictClassTransformer_DATE fit:  61%|██████    | 6338960/10468770 [00:10<00:04, 976850.54it/s]"
     ]
    },
    {
     "name": "stderr",
     "output_type": "stream",
     "text": [
      "\rDictClassTransformer_DATE fit:  62%|██████▏   | 6453528/10468770 [00:10<00:03, 1022032.74it/s]"
     ]
    },
    {
     "name": "stderr",
     "output_type": "stream",
     "text": [
      "\rDictClassTransformer_DATE fit:  63%|██████▎   | 6557557/10468770 [00:10<00:03, 1017144.54it/s]"
     ]
    },
    {
     "name": "stderr",
     "output_type": "stream",
     "text": [
      "\rDictClassTransformer_DATE fit:  64%|██████▎   | 6669688/10468770 [00:10<00:03, 1046301.33it/s]"
     ]
    },
    {
     "name": "stderr",
     "output_type": "stream",
     "text": [
      "\rDictClassTransformer_DATE fit:  65%|██████▍   | 6775426/10468770 [00:10<00:03, 1045890.13it/s]"
     ]
    },
    {
     "name": "stderr",
     "output_type": "stream",
     "text": [
      "\rDictClassTransformer_DATE fit:  66%|██████▌   | 6885224/10468770 [00:10<00:03, 1060987.26it/s]"
     ]
    },
    {
     "name": "stderr",
     "output_type": "stream",
     "text": [
      "\rDictClassTransformer_DATE fit:  67%|██████▋   | 6995667/10468770 [00:10<00:03, 1073653.51it/s]"
     ]
    },
    {
     "name": "stderr",
     "output_type": "stream",
     "text": [
      "\rDictClassTransformer_DATE fit:  68%|██████▊   | 7111392/10468770 [00:10<00:03, 1097433.55it/s]"
     ]
    },
    {
     "name": "stderr",
     "output_type": "stream",
     "text": [
      "\rDictClassTransformer_DATE fit:  69%|██████▉   | 7221583/10468770 [00:10<00:02, 1094714.52it/s]"
     ]
    },
    {
     "name": "stderr",
     "output_type": "stream",
     "text": [
      "\rDictClassTransformer_DATE fit:  70%|███████   | 7331369/10468770 [00:10<00:02, 1087693.64it/s]"
     ]
    },
    {
     "name": "stderr",
     "output_type": "stream",
     "text": [
      "\rDictClassTransformer_DATE fit:  71%|███████   | 7440369/10468770 [00:11<00:02, 1017187.74it/s]"
     ]
    },
    {
     "name": "stderr",
     "output_type": "stream",
     "text": [
      "\rDictClassTransformer_DATE fit:  72%|███████▏  | 7543176/10468770 [00:11<00:02, 1005482.24it/s]"
     ]
    },
    {
     "name": "stderr",
     "output_type": "stream",
     "text": [
      "\rDictClassTransformer_DATE fit:  73%|███████▎  | 7648173/10468770 [00:11<00:02, 1018425.09it/s]"
     ]
    },
    {
     "name": "stderr",
     "output_type": "stream",
     "text": [
      "\rDictClassTransformer_DATE fit:  74%|███████▍  | 7750610/10468770 [00:11<00:02, 961700.01it/s] "
     ]
    },
    {
     "name": "stderr",
     "output_type": "stream",
     "text": [
      "\rDictClassTransformer_DATE fit:  75%|███████▍  | 7847849/10468770 [00:11<00:02, 877756.03it/s]"
     ]
    },
    {
     "name": "stderr",
     "output_type": "stream",
     "text": [
      "\rDictClassTransformer_DATE fit:  76%|███████▌  | 7945557/10468770 [00:11<00:02, 905363.46it/s]"
     ]
    },
    {
     "name": "stderr",
     "output_type": "stream",
     "text": [
      "\rDictClassTransformer_DATE fit:  77%|███████▋  | 8038103/10468770 [00:11<00:02, 911297.87it/s]"
     ]
    },
    {
     "name": "stderr",
     "output_type": "stream",
     "text": [
      "\rDictClassTransformer_DATE fit:  78%|███████▊  | 8130458/10468770 [00:11<00:02, 902977.72it/s]"
     ]
    },
    {
     "name": "stderr",
     "output_type": "stream",
     "text": [
      "\rDictClassTransformer_DATE fit:  79%|███████▊  | 8243548/10468770 [00:11<00:02, 961084.46it/s]"
     ]
    },
    {
     "name": "stderr",
     "output_type": "stream",
     "text": [
      "\rDictClassTransformer_DATE fit:  80%|███████▉  | 8355198/10468770 [00:12<00:02, 1002965.75it/s]"
     ]
    },
    {
     "name": "stderr",
     "output_type": "stream",
     "text": [
      "\rDictClassTransformer_DATE fit:  81%|████████  | 8463612/10468770 [00:12<00:01, 1026007.06it/s]"
     ]
    },
    {
     "name": "stderr",
     "output_type": "stream",
     "text": [
      "\rDictClassTransformer_DATE fit:  82%|████████▏ | 8573407/10468770 [00:12<00:01, 1046579.72it/s]"
     ]
    },
    {
     "name": "stderr",
     "output_type": "stream",
     "text": [
      "\rDictClassTransformer_DATE fit:  83%|████████▎ | 8679052/10468770 [00:12<00:01, 1036518.53it/s]"
     ]
    },
    {
     "name": "stderr",
     "output_type": "stream",
     "text": [
      "\rDictClassTransformer_DATE fit:  84%|████████▍ | 8783417/10468770 [00:12<00:01, 968457.90it/s] "
     ]
    },
    {
     "name": "stderr",
     "output_type": "stream",
     "text": [
      "\rDictClassTransformer_DATE fit:  85%|████████▍ | 8881666/10468770 [00:12<00:01, 958685.28it/s]"
     ]
    },
    {
     "name": "stderr",
     "output_type": "stream",
     "text": [
      "\rDictClassTransformer_DATE fit:  86%|████████▌ | 8984693/10468770 [00:12<00:01, 979091.57it/s]"
     ]
    },
    {
     "name": "stderr",
     "output_type": "stream",
     "text": [
      "\rDictClassTransformer_DATE fit:  87%|████████▋ | 9096519/10468770 [00:12<00:01, 1017063.52it/s]"
     ]
    },
    {
     "name": "stderr",
     "output_type": "stream",
     "text": [
      "\rDictClassTransformer_DATE fit:  88%|████████▊ | 9213096/10468770 [00:12<00:01, 1057518.62it/s]"
     ]
    },
    {
     "name": "stderr",
     "output_type": "stream",
     "text": [
      "\rDictClassTransformer_DATE fit:  89%|████████▉ | 9335520/10468770 [00:12<00:01, 1102560.68it/s]"
     ]
    },
    {
     "name": "stderr",
     "output_type": "stream",
     "text": [
      "\rDictClassTransformer_DATE fit:  90%|█████████ | 9463963/10468770 [00:13<00:00, 1151471.02it/s]"
     ]
    },
    {
     "name": "stderr",
     "output_type": "stream",
     "text": [
      "\rDictClassTransformer_DATE fit:  92%|█████████▏| 9588645/10468770 [00:13<00:00, 1178505.64it/s]"
     ]
    },
    {
     "name": "stderr",
     "output_type": "stream",
     "text": [
      "\rDictClassTransformer_DATE fit:  93%|█████████▎| 9707660/10468770 [00:13<00:00, 1093030.94it/s]"
     ]
    },
    {
     "name": "stderr",
     "output_type": "stream",
     "text": [
      "\rDictClassTransformer_DATE fit:  94%|█████████▍| 9819016/10468770 [00:13<00:00, 1005145.34it/s]"
     ]
    },
    {
     "name": "stderr",
     "output_type": "stream",
     "text": [
      "\rDictClassTransformer_DATE fit:  95%|█████████▍| 9922356/10468770 [00:13<00:00, 1000940.47it/s]"
     ]
    },
    {
     "name": "stderr",
     "output_type": "stream",
     "text": [
      "\rDictClassTransformer_DATE fit:  96%|█████████▌| 10024432/10468770 [00:13<00:00, 962104.01it/s]"
     ]
    },
    {
     "name": "stderr",
     "output_type": "stream",
     "text": [
      "\rDictClassTransformer_DATE fit:  97%|█████████▋| 10127510/10468770 [00:13<00:00, 981723.93it/s]"
     ]
    },
    {
     "name": "stderr",
     "output_type": "stream",
     "text": [
      "\rDictClassTransformer_DATE fit:  98%|█████████▊| 10226978/10468770 [00:13<00:00, 983741.85it/s]"
     ]
    },
    {
     "name": "stderr",
     "output_type": "stream",
     "text": [
      "\rDictClassTransformer_DATE fit:  99%|█████████▊| 10332452/10468770 [00:13<00:00, 1004014.54it/s]"
     ]
    },
    {
     "name": "stderr",
     "output_type": "stream",
     "text": [
      "\rDictClassTransformer_DATE fit: 100%|█████████▉| 10436249/10468770 [00:14<00:00, 1013965.17it/s]"
     ]
    },
    {
     "name": "stderr",
     "output_type": "stream",
     "text": [
      "\rDictClassTransformer_DATE fit: 100%|██████████| 10468770/10468770 [00:14<00:00, 727491.29it/s] "
     ]
    },
    {
     "name": "stderr",
     "output_type": "stream",
     "text": [
      "\n"
     ]
    },
    {
     "name": "stdout",
     "output_type": "stream",
     "text": [
      "36928\n"
     ]
    },
    {
     "name": "stderr",
     "output_type": "stream",
     "text": [
      "\rDictClassTransformer_CARDINAL fit:   0%|          | 0/10468770 [00:00<?, ?it/s]"
     ]
    },
    {
     "name": "stderr",
     "output_type": "stream",
     "text": [
      "\rDictClassTransformer_CARDINAL fit:   0%|          | 22218/10468770 [00:01<12:42, 13702.94it/s]"
     ]
    },
    {
     "name": "stderr",
     "output_type": "stream",
     "text": [
      "\rDictClassTransformer_CARDINAL fit:   1%|          | 103261/10468770 [00:01<08:53, 19434.80it/s]"
     ]
    },
    {
     "name": "stderr",
     "output_type": "stream",
     "text": [
      "\rDictClassTransformer_CARDINAL fit:   2%|▏         | 183524/10468770 [00:01<06:14, 27478.80it/s]"
     ]
    },
    {
     "name": "stderr",
     "output_type": "stream",
     "text": [
      "\rDictClassTransformer_CARDINAL fit:   3%|▎         | 262053/10468770 [00:01<04:23, 38675.43it/s]"
     ]
    },
    {
     "name": "stderr",
     "output_type": "stream",
     "text": [
      "\rDictClassTransformer_CARDINAL fit:   3%|▎         | 351754/10468770 [00:02<03:06, 54247.50it/s]"
     ]
    },
    {
     "name": "stderr",
     "output_type": "stream",
     "text": [
      "\rDictClassTransformer_CARDINAL fit:   4%|▍         | 457777/10468770 [00:02<02:12, 75833.53it/s]"
     ]
    },
    {
     "name": "stderr",
     "output_type": "stream",
     "text": [
      "\rDictClassTransformer_CARDINAL fit:   5%|▌         | 570360/10468770 [00:02<01:34, 105294.01it/s]"
     ]
    },
    {
     "name": "stderr",
     "output_type": "stream",
     "text": [
      "\rDictClassTransformer_CARDINAL fit:   7%|▋         | 681819/10468770 [00:02<01:07, 144566.93it/s]"
     ]
    },
    {
     "name": "stderr",
     "output_type": "stream",
     "text": [
      "\rDictClassTransformer_CARDINAL fit:   8%|▊         | 801034/10468770 [00:02<00:49, 196320.97it/s]"
     ]
    },
    {
     "name": "stderr",
     "output_type": "stream",
     "text": [
      "\rDictClassTransformer_CARDINAL fit:   9%|▉         | 922100/10468770 [00:02<00:36, 262233.88it/s]"
     ]
    },
    {
     "name": "stderr",
     "output_type": "stream",
     "text": [
      "\rDictClassTransformer_CARDINAL fit:  10%|█         | 1047833/10468770 [00:02<00:27, 343881.75it/s]"
     ]
    },
    {
     "name": "stderr",
     "output_type": "stream",
     "text": [
      "\rDictClassTransformer_CARDINAL fit:  11%|█         | 1167684/10468770 [00:02<00:21, 437465.03it/s]"
     ]
    },
    {
     "name": "stderr",
     "output_type": "stream",
     "text": [
      "\rDictClassTransformer_CARDINAL fit:  12%|█▏        | 1290109/10468770 [00:02<00:16, 541952.28it/s]"
     ]
    },
    {
     "name": "stderr",
     "output_type": "stream",
     "text": [
      "\rDictClassTransformer_CARDINAL fit:  13%|█▎        | 1409147/10468770 [00:02<00:13, 647816.35it/s]"
     ]
    },
    {
     "name": "stderr",
     "output_type": "stream",
     "text": [
      "\rDictClassTransformer_CARDINAL fit:  15%|█▍        | 1527544/10468770 [00:03<00:11, 749658.84it/s]"
     ]
    },
    {
     "name": "stderr",
     "output_type": "stream",
     "text": [
      "\rDictClassTransformer_CARDINAL fit:  16%|█▌        | 1649632/10468770 [00:03<00:10, 847827.95it/s]"
     ]
    },
    {
     "name": "stderr",
     "output_type": "stream",
     "text": [
      "\rDictClassTransformer_CARDINAL fit:  17%|█▋        | 1773449/10468770 [00:03<00:09, 936388.66it/s]"
     ]
    },
    {
     "name": "stderr",
     "output_type": "stream",
     "text": [
      "\rDictClassTransformer_CARDINAL fit:  18%|█▊        | 1896364/10468770 [00:03<00:08, 1008445.27it/s]"
     ]
    },
    {
     "name": "stderr",
     "output_type": "stream",
     "text": [
      "\rDictClassTransformer_CARDINAL fit:  19%|█▉        | 2021768/10468770 [00:03<00:07, 1071392.25it/s]"
     ]
    },
    {
     "name": "stderr",
     "output_type": "stream",
     "text": [
      "\rDictClassTransformer_CARDINAL fit:  20%|██        | 2144567/10468770 [00:03<00:07, 1114008.47it/s]"
     ]
    },
    {
     "name": "stderr",
     "output_type": "stream",
     "text": [
      "\rDictClassTransformer_CARDINAL fit:  22%|██▏       | 2269924/10468770 [00:03<00:07, 1152500.84it/s]"
     ]
    },
    {
     "name": "stderr",
     "output_type": "stream",
     "text": [
      "\rDictClassTransformer_CARDINAL fit:  23%|██▎       | 2393358/10468770 [00:03<00:07, 1149721.46it/s]"
     ]
    },
    {
     "name": "stderr",
     "output_type": "stream",
     "text": [
      "\rDictClassTransformer_CARDINAL fit:  24%|██▍       | 2514060/10468770 [00:03<00:07, 1125153.32it/s]"
     ]
    },
    {
     "name": "stderr",
     "output_type": "stream",
     "text": [
      "\rDictClassTransformer_CARDINAL fit:  25%|██▌       | 2630703/10468770 [00:03<00:07, 1071809.76it/s]"
     ]
    },
    {
     "name": "stderr",
     "output_type": "stream",
     "text": [
      "\rDictClassTransformer_CARDINAL fit:  26%|██▌       | 2741305/10468770 [00:04<00:07, 1018901.48it/s]"
     ]
    },
    {
     "name": "stderr",
     "output_type": "stream",
     "text": [
      "\rDictClassTransformer_CARDINAL fit:  27%|██▋       | 2846136/10468770 [00:04<00:07, 967896.03it/s] "
     ]
    },
    {
     "name": "stderr",
     "output_type": "stream",
     "text": [
      "\rDictClassTransformer_CARDINAL fit:  28%|██▊       | 2948334/10468770 [00:04<00:07, 983501.94it/s]"
     ]
    },
    {
     "name": "stderr",
     "output_type": "stream",
     "text": [
      "\rDictClassTransformer_CARDINAL fit:  29%|██▉       | 3048560/10468770 [00:04<00:13, 562609.06it/s]"
     ]
    },
    {
     "name": "stderr",
     "output_type": "stream",
     "text": [
      "\rDictClassTransformer_CARDINAL fit:  30%|███       | 3142934/10468770 [00:04<00:11, 640166.38it/s]"
     ]
    },
    {
     "name": "stderr",
     "output_type": "stream",
     "text": [
      "\rDictClassTransformer_CARDINAL fit:  31%|███       | 3226268/10468770 [00:04<00:10, 679679.11it/s]"
     ]
    },
    {
     "name": "stderr",
     "output_type": "stream",
     "text": [
      "\rDictClassTransformer_CARDINAL fit:  32%|███▏      | 3314474/10468770 [00:04<00:09, 729920.19it/s]"
     ]
    },
    {
     "name": "stderr",
     "output_type": "stream",
     "text": [
      "\rDictClassTransformer_CARDINAL fit:  33%|███▎      | 3408319/10468770 [00:05<00:09, 782051.75it/s]"
     ]
    },
    {
     "name": "stderr",
     "output_type": "stream",
     "text": [
      "\rDictClassTransformer_CARDINAL fit:  34%|███▎      | 3517234/10468770 [00:05<00:08, 854315.35it/s]"
     ]
    },
    {
     "name": "stderr",
     "output_type": "stream",
     "text": [
      "\rDictClassTransformer_CARDINAL fit:  35%|███▍      | 3625875/10468770 [00:05<00:07, 912815.66it/s]"
     ]
    },
    {
     "name": "stderr",
     "output_type": "stream",
     "text": [
      "\rDictClassTransformer_CARDINAL fit:  36%|███▌      | 3734734/10468770 [00:05<00:07, 959281.50it/s]"
     ]
    },
    {
     "name": "stderr",
     "output_type": "stream",
     "text": [
      "\rDictClassTransformer_CARDINAL fit:  37%|███▋      | 3844314/10468770 [00:05<00:06, 996521.13it/s]"
     ]
    },
    {
     "name": "stderr",
     "output_type": "stream",
     "text": [
      "\rDictClassTransformer_CARDINAL fit:  38%|███▊      | 3948098/10468770 [00:05<00:06, 965983.53it/s]"
     ]
    },
    {
     "name": "stderr",
     "output_type": "stream",
     "text": [
      "\rDictClassTransformer_CARDINAL fit:  39%|███▊      | 4054911/10468770 [00:05<00:06, 994515.13it/s]"
     ]
    },
    {
     "name": "stderr",
     "output_type": "stream",
     "text": [
      "\rDictClassTransformer_CARDINAL fit:  40%|███▉      | 4165547/10468770 [00:05<00:06, 1025617.47it/s]"
     ]
    },
    {
     "name": "stderr",
     "output_type": "stream",
     "text": [
      "\rDictClassTransformer_CARDINAL fit:  41%|████      | 4270019/10468770 [00:07<00:27, 224608.06it/s] "
     ]
    },
    {
     "name": "stderr",
     "output_type": "stream",
     "text": [
      "\rDictClassTransformer_CARDINAL fit:  42%|████▏     | 4379828/10468770 [00:07<00:20, 295007.53it/s]"
     ]
    },
    {
     "name": "stderr",
     "output_type": "stream",
     "text": [
      "\rDictClassTransformer_CARDINAL fit:  43%|████▎     | 4487822/10468770 [00:07<00:15, 377271.02it/s]"
     ]
    },
    {
     "name": "stderr",
     "output_type": "stream",
     "text": [
      "\rDictClassTransformer_CARDINAL fit:  44%|████▍     | 4603500/10468770 [00:07<00:12, 472864.01it/s]"
     ]
    },
    {
     "name": "stderr",
     "output_type": "stream",
     "text": [
      "\rDictClassTransformer_CARDINAL fit:  45%|████▌     | 4720072/10468770 [00:07<00:09, 575475.62it/s]"
     ]
    },
    {
     "name": "stderr",
     "output_type": "stream",
     "text": [
      "\rDictClassTransformer_CARDINAL fit:  46%|████▌     | 4837121/10468770 [00:07<00:08, 679029.69it/s]"
     ]
    },
    {
     "name": "stderr",
     "output_type": "stream",
     "text": [
      "\rDictClassTransformer_CARDINAL fit:  47%|████▋     | 4948628/10468770 [00:07<00:07, 769275.42it/s]"
     ]
    },
    {
     "name": "stderr",
     "output_type": "stream",
     "text": [
      "\rDictClassTransformer_CARDINAL fit:  48%|████▊     | 5065531/10468770 [00:07<00:06, 857211.67it/s]"
     ]
    },
    {
     "name": "stderr",
     "output_type": "stream",
     "text": [
      "\rDictClassTransformer_CARDINAL fit:  50%|████▉     | 5185582/10468770 [00:07<00:05, 937649.10it/s]"
     ]
    },
    {
     "name": "stderr",
     "output_type": "stream",
     "text": [
      "\rDictClassTransformer_CARDINAL fit:  51%|█████     | 5308961/10468770 [00:07<00:05, 1010405.67it/s]"
     ]
    },
    {
     "name": "stderr",
     "output_type": "stream",
     "text": [
      "\rDictClassTransformer_CARDINAL fit:  52%|█████▏    | 5430727/10468770 [00:08<00:04, 1064772.29it/s]"
     ]
    },
    {
     "name": "stderr",
     "output_type": "stream",
     "text": [
      "\rDictClassTransformer_CARDINAL fit:  53%|█████▎    | 5553456/10468770 [00:08<00:04, 1108818.74it/s]"
     ]
    },
    {
     "name": "stderr",
     "output_type": "stream",
     "text": [
      "\rDictClassTransformer_CARDINAL fit:  54%|█████▍    | 5673121/10468770 [00:08<00:04, 1111420.52it/s]"
     ]
    },
    {
     "name": "stderr",
     "output_type": "stream",
     "text": [
      "\rDictClassTransformer_CARDINAL fit:  55%|█████▌    | 5795030/10468770 [00:08<00:04, 1141669.60it/s]"
     ]
    },
    {
     "name": "stderr",
     "output_type": "stream",
     "text": [
      "\rDictClassTransformer_CARDINAL fit:  56%|█████▋    | 5913707/10468770 [00:08<00:03, 1139286.92it/s]"
     ]
    },
    {
     "name": "stderr",
     "output_type": "stream",
     "text": [
      "\rDictClassTransformer_CARDINAL fit:  58%|█████▊    | 6030794/10468770 [00:08<00:03, 1115361.18it/s]"
     ]
    },
    {
     "name": "stderr",
     "output_type": "stream",
     "text": [
      "\rDictClassTransformer_CARDINAL fit:  59%|█████▉    | 6155148/10468770 [00:08<00:03, 1150948.24it/s]"
     ]
    },
    {
     "name": "stderr",
     "output_type": "stream",
     "text": [
      "\rDictClassTransformer_CARDINAL fit:  60%|█████▉    | 6279806/10468770 [00:08<00:03, 1178054.77it/s]"
     ]
    },
    {
     "name": "stderr",
     "output_type": "stream",
     "text": [
      "\rDictClassTransformer_CARDINAL fit:  61%|██████    | 6400008/10468770 [00:08<00:03, 1185140.39it/s]"
     ]
    },
    {
     "name": "stderr",
     "output_type": "stream",
     "text": [
      "\rDictClassTransformer_CARDINAL fit:  62%|██████▏   | 6521184/10468770 [00:09<00:03, 1193002.15it/s]"
     ]
    },
    {
     "name": "stderr",
     "output_type": "stream",
     "text": [
      "\rDictClassTransformer_CARDINAL fit:  63%|██████▎   | 6641237/10468770 [00:09<00:03, 1138046.95it/s]"
     ]
    },
    {
     "name": "stderr",
     "output_type": "stream",
     "text": [
      "\rDictClassTransformer_CARDINAL fit:  65%|██████▍   | 6756102/10468770 [00:09<00:03, 1006770.61it/s]"
     ]
    },
    {
     "name": "stderr",
     "output_type": "stream",
     "text": [
      "\rDictClassTransformer_CARDINAL fit:  66%|██████▌   | 6868287/10468770 [00:09<00:03, 1038730.78it/s]"
     ]
    },
    {
     "name": "stderr",
     "output_type": "stream",
     "text": [
      "\rDictClassTransformer_CARDINAL fit:  67%|██████▋   | 6976366/10468770 [00:09<00:03, 1051000.33it/s]"
     ]
    },
    {
     "name": "stderr",
     "output_type": "stream",
     "text": [
      "\rDictClassTransformer_CARDINAL fit:  68%|██████▊   | 7083408/10468770 [00:09<00:03, 1012712.73it/s]"
     ]
    },
    {
     "name": "stderr",
     "output_type": "stream",
     "text": [
      "\rDictClassTransformer_CARDINAL fit:  69%|██████▉   | 7203789/10468770 [00:09<00:03, 1063352.50it/s]"
     ]
    },
    {
     "name": "stderr",
     "output_type": "stream",
     "text": [
      "\rDictClassTransformer_CARDINAL fit:  70%|██████▉   | 7324766/10468770 [00:09<00:02, 1103413.59it/s]"
     ]
    },
    {
     "name": "stderr",
     "output_type": "stream",
     "text": [
      "\rDictClassTransformer_CARDINAL fit:  71%|███████   | 7445491/10468770 [00:09<00:02, 1132636.58it/s]"
     ]
    },
    {
     "name": "stderr",
     "output_type": "stream",
     "text": [
      "\rDictClassTransformer_CARDINAL fit:  72%|███████▏  | 7560115/10468770 [00:09<00:02, 1127935.51it/s]"
     ]
    },
    {
     "name": "stderr",
     "output_type": "stream",
     "text": [
      "\rDictClassTransformer_CARDINAL fit:  73%|███████▎  | 7673865/10468770 [00:10<00:02, 1118604.80it/s]"
     ]
    },
    {
     "name": "stderr",
     "output_type": "stream",
     "text": [
      "\rDictClassTransformer_CARDINAL fit:  74%|███████▍  | 7793429/10468770 [00:10<00:02, 1140649.71it/s]"
     ]
    },
    {
     "name": "stderr",
     "output_type": "stream",
     "text": [
      "\rDictClassTransformer_CARDINAL fit:  76%|███████▌  | 7908082/10468770 [00:10<00:02, 1105879.72it/s]"
     ]
    },
    {
     "name": "stderr",
     "output_type": "stream",
     "text": [
      "\rDictClassTransformer_CARDINAL fit:  77%|███████▋  | 8019312/10468770 [00:10<00:02, 1011010.09it/s]"
     ]
    },
    {
     "name": "stderr",
     "output_type": "stream",
     "text": [
      "\rDictClassTransformer_CARDINAL fit:  78%|███████▊  | 8122445/10468770 [00:10<00:02, 913007.14it/s] "
     ]
    },
    {
     "name": "stderr",
     "output_type": "stream",
     "text": [
      "\rDictClassTransformer_CARDINAL fit:  79%|███████▊  | 8223950/10468770 [00:10<00:02, 941393.38it/s]"
     ]
    },
    {
     "name": "stderr",
     "output_type": "stream",
     "text": [
      "\rDictClassTransformer_CARDINAL fit:  79%|███████▉  | 8320573/10468770 [00:10<00:02, 942892.93it/s]"
     ]
    },
    {
     "name": "stderr",
     "output_type": "stream",
     "text": [
      "\rDictClassTransformer_CARDINAL fit:  80%|████████  | 8416601/10468770 [00:10<00:02, 922669.48it/s]"
     ]
    },
    {
     "name": "stderr",
     "output_type": "stream",
     "text": [
      "\rDictClassTransformer_CARDINAL fit:  81%|████████▏ | 8511222/10468770 [00:10<00:02, 929604.72it/s]"
     ]
    },
    {
     "name": "stderr",
     "output_type": "stream",
     "text": [
      "\rDictClassTransformer_CARDINAL fit:  82%|████████▏ | 8611527/10468770 [00:11<00:01, 950465.17it/s]"
     ]
    },
    {
     "name": "stderr",
     "output_type": "stream",
     "text": [
      "\rDictClassTransformer_CARDINAL fit:  83%|████████▎ | 8726103/10468770 [00:11<00:01, 1001686.04it/s]"
     ]
    },
    {
     "name": "stderr",
     "output_type": "stream",
     "text": [
      "\rDictClassTransformer_CARDINAL fit:  84%|████████▍ | 8844199/10468770 [00:11<00:01, 1049478.11it/s]"
     ]
    },
    {
     "name": "stderr",
     "output_type": "stream",
     "text": [
      "\rDictClassTransformer_CARDINAL fit:  86%|████████▌ | 8956182/10468770 [00:11<00:01, 1069637.26it/s]"
     ]
    },
    {
     "name": "stderr",
     "output_type": "stream",
     "text": [
      "\rDictClassTransformer_CARDINAL fit:  87%|████████▋ | 9071034/10468770 [00:11<00:01, 1092137.73it/s]"
     ]
    },
    {
     "name": "stderr",
     "output_type": "stream",
     "text": [
      "\rDictClassTransformer_CARDINAL fit:  88%|████████▊ | 9190589/10468770 [00:11<00:01, 1121232.48it/s]"
     ]
    },
    {
     "name": "stderr",
     "output_type": "stream",
     "text": [
      "\rDictClassTransformer_CARDINAL fit:  89%|████████▉ | 9309276/10468770 [00:11<00:01, 1140145.77it/s]"
     ]
    },
    {
     "name": "stderr",
     "output_type": "stream",
     "text": [
      "\rDictClassTransformer_CARDINAL fit:  90%|█████████ | 9430004/10468770 [00:11<00:00, 1159488.29it/s]"
     ]
    },
    {
     "name": "stderr",
     "output_type": "stream",
     "text": [
      "\rDictClassTransformer_CARDINAL fit:  91%|█████████ | 9547665/10468770 [00:11<00:00, 1164568.46it/s]"
     ]
    },
    {
     "name": "stderr",
     "output_type": "stream",
     "text": [
      "\rDictClassTransformer_CARDINAL fit:  92%|█████████▏| 9666386/10468770 [00:11<00:00, 1171266.75it/s]"
     ]
    },
    {
     "name": "stderr",
     "output_type": "stream",
     "text": [
      "\rDictClassTransformer_CARDINAL fit:  93%|█████████▎| 9783791/10468770 [00:12<00:00, 1156900.33it/s]"
     ]
    },
    {
     "name": "stderr",
     "output_type": "stream",
     "text": [
      "\rDictClassTransformer_CARDINAL fit:  95%|█████████▍| 9900386/10468770 [00:12<00:00, 1159597.47it/s]"
     ]
    },
    {
     "name": "stderr",
     "output_type": "stream",
     "text": [
      "\rDictClassTransformer_CARDINAL fit:  96%|█████████▌| 10016512/10468770 [00:12<00:00, 1157112.96it/s]"
     ]
    },
    {
     "name": "stderr",
     "output_type": "stream",
     "text": [
      "\rDictClassTransformer_CARDINAL fit:  97%|█████████▋| 10132341/10468770 [00:12<00:00, 1152521.93it/s]"
     ]
    },
    {
     "name": "stderr",
     "output_type": "stream",
     "text": [
      "\rDictClassTransformer_CARDINAL fit:  98%|█████████▊| 10247680/10468770 [00:12<00:00, 966031.64it/s] "
     ]
    },
    {
     "name": "stderr",
     "output_type": "stream",
     "text": [
      "\rDictClassTransformer_CARDINAL fit:  99%|█████████▉| 10354474/10468770 [00:12<00:00, 994321.25it/s]"
     ]
    },
    {
     "name": "stderr",
     "output_type": "stream",
     "text": [
      "\rDictClassTransformer_CARDINAL fit: 100%|█████████▉| 10457734/10468770 [00:12<00:00, 981399.07it/s]"
     ]
    },
    {
     "name": "stderr",
     "output_type": "stream",
     "text": [
      "\rDictClassTransformer_CARDINAL fit: 100%|██████████| 10468770/10468770 [00:13<00:00, 801444.68it/s]"
     ]
    },
    {
     "name": "stderr",
     "output_type": "stream",
     "text": [
      "\n\rDictTransformer fit:   0%|          | 0/10468770 [00:00<?, ?it/s]"
     ]
    },
    {
     "name": "stdout",
     "output_type": "stream",
     "text": [
      "10473\n"
     ]
    },
    {
     "name": "stderr",
     "output_type": "stream",
     "text": [
      "\rDictTransformer fit:   0%|          | 365/10468770 [00:01<14:47:47, 196.53it/s]"
     ]
    },
    {
     "name": "stderr",
     "output_type": "stream",
     "text": [
      "\rDictTransformer fit:   0%|          | 6869/10468770 [00:03<10:32:33, 275.65it/s]"
     ]
    },
    {
     "name": "stderr",
     "output_type": "stream",
     "text": [
      "\rDictTransformer fit:   0%|          | 30407/10468770 [00:03<7:22:00, 393.59it/s]"
     ]
    },
    {
     "name": "stderr",
     "output_type": "stream",
     "text": [
      "\rDictTransformer fit:   0%|          | 49785/10468770 [00:03<5:09:06, 561.79it/s]"
     ]
    },
    {
     "name": "stderr",
     "output_type": "stream",
     "text": [
      "\rDictTransformer fit:   1%|          | 68855/10468770 [00:03<3:36:14, 801.54it/s]"
     ]
    },
    {
     "name": "stderr",
     "output_type": "stream",
     "text": [
      "\rDictTransformer fit:   1%|          | 98540/10468770 [00:03<2:31:07, 1143.73it/s]"
     ]
    },
    {
     "name": "stderr",
     "output_type": "stream",
     "text": [
      "\rDictTransformer fit:   1%|          | 126356/10468770 [00:03<1:45:41, 1631.03it/s]"
     ]
    },
    {
     "name": "stderr",
     "output_type": "stream",
     "text": [
      "\rDictTransformer fit:   2%|▏         | 160186/10468770 [00:03<1:13:53, 2325.24it/s]"
     ]
    },
    {
     "name": "stderr",
     "output_type": "stream",
     "text": [
      "\rDictTransformer fit:   2%|▏         | 192662/10468770 [00:03<51:43, 3311.60it/s]  "
     ]
    },
    {
     "name": "stderr",
     "output_type": "stream",
     "text": [
      "\rDictTransformer fit:   2%|▏         | 225102/10468770 [00:04<36:14, 4710.25it/s]"
     ]
    },
    {
     "name": "stderr",
     "output_type": "stream",
     "text": [
      "\rDictTransformer fit:   2%|▏         | 260134/10468770 [00:04<25:25, 6690.38it/s]"
     ]
    },
    {
     "name": "stderr",
     "output_type": "stream",
     "text": [
      "\rDictTransformer fit:   3%|▎         | 294414/10468770 [00:04<17:53, 9478.40it/s]"
     ]
    },
    {
     "name": "stderr",
     "output_type": "stream",
     "text": [
      "\rDictTransformer fit:   3%|▎         | 326145/10468770 [00:08<18:44, 9022.68it/s]"
     ]
    },
    {
     "name": "stderr",
     "output_type": "stream",
     "text": [
      "\rDictTransformer fit:   3%|▎         | 355920/10468770 [00:08<13:14, 12724.28it/s]"
     ]
    },
    {
     "name": "stderr",
     "output_type": "stream",
     "text": [
      "\rDictTransformer fit:   4%|▎         | 386817/10468770 [00:08<09:24, 17862.28it/s]"
     ]
    },
    {
     "name": "stderr",
     "output_type": "stream",
     "text": [
      "\rDictTransformer fit:   4%|▍         | 415869/10468770 [00:08<06:44, 24862.40it/s]"
     ]
    },
    {
     "name": "stderr",
     "output_type": "stream",
     "text": [
      "\rDictTransformer fit:   4%|▍         | 448755/10468770 [00:08<04:51, 34402.97it/s]"
     ]
    },
    {
     "name": "stderr",
     "output_type": "stream",
     "text": [
      "\rDictTransformer fit:   5%|▍         | 483672/10468770 [00:08<03:31, 47155.69it/s]"
     ]
    },
    {
     "name": "stderr",
     "output_type": "stream",
     "text": [
      "\rDictTransformer fit:   5%|▍         | 521811/10468770 [00:08<02:35, 63975.25it/s]"
     ]
    },
    {
     "name": "stderr",
     "output_type": "stream",
     "text": [
      "\rDictTransformer fit:   5%|▌         | 555291/10468770 [00:08<01:57, 84475.02it/s]"
     ]
    },
    {
     "name": "stderr",
     "output_type": "stream",
     "text": [
      "\rDictTransformer fit:   6%|▌         | 593841/10468770 [00:08<01:29, 110318.17it/s]"
     ]
    },
    {
     "name": "stderr",
     "output_type": "stream",
     "text": [
      "\rDictTransformer fit:   6%|▌         | 628590/10468770 [00:09<01:12, 136469.77it/s]"
     ]
    },
    {
     "name": "stderr",
     "output_type": "stream",
     "text": [
      "\rDictTransformer fit:   6%|▋         | 662076/10468770 [00:09<01:01, 158968.67it/s]"
     ]
    },
    {
     "name": "stderr",
     "output_type": "stream",
     "text": [
      "\rDictTransformer fit:   7%|▋         | 693267/10468770 [00:09<00:52, 184616.04it/s]"
     ]
    },
    {
     "name": "stderr",
     "output_type": "stream",
     "text": [
      "\rDictTransformer fit:   7%|▋         | 723983/10468770 [00:09<00:47, 206884.49it/s]"
     ]
    },
    {
     "name": "stderr",
     "output_type": "stream",
     "text": [
      "\rDictTransformer fit:   7%|▋         | 756073/10468770 [00:09<00:41, 231566.75it/s]"
     ]
    },
    {
     "name": "stderr",
     "output_type": "stream",
     "text": [
      "\rDictTransformer fit:   8%|▊         | 791378/10468770 [00:09<00:37, 258218.28it/s]"
     ]
    },
    {
     "name": "stderr",
     "output_type": "stream",
     "text": [
      "\rDictTransformer fit:   8%|▊         | 828479/10468770 [00:09<00:33, 284130.87it/s]"
     ]
    },
    {
     "name": "stderr",
     "output_type": "stream",
     "text": [
      "\rDictTransformer fit:   8%|▊         | 868778/10468770 [00:09<00:30, 311702.66it/s]"
     ]
    },
    {
     "name": "stderr",
     "output_type": "stream",
     "text": [
      "\rDictTransformer fit:   9%|▊         | 904908/10468770 [00:09<00:29, 325089.71it/s]"
     ]
    },
    {
     "name": "stderr",
     "output_type": "stream",
     "text": [
      "\rDictTransformer fit:   9%|▉         | 940672/10468770 [00:10<00:29, 325417.81it/s]"
     ]
    },
    {
     "name": "stderr",
     "output_type": "stream",
     "text": [
      "\rDictTransformer fit:   9%|▉         | 975493/10468770 [00:10<00:34, 279168.76it/s]"
     ]
    },
    {
     "name": "stderr",
     "output_type": "stream",
     "text": [
      "\rDictTransformer fit:  10%|▉         | 1006157/10468770 [00:10<00:35, 266003.83it/s]"
     ]
    },
    {
     "name": "stderr",
     "output_type": "stream",
     "text": [
      "\rDictTransformer fit:  10%|▉         | 1034811/10468770 [00:10<00:36, 259119.36it/s]"
     ]
    },
    {
     "name": "stderr",
     "output_type": "stream",
     "text": [
      "\rDictTransformer fit:  10%|█         | 1062200/10468770 [00:10<00:36, 256874.84it/s]"
     ]
    },
    {
     "name": "stderr",
     "output_type": "stream",
     "text": [
      "\rDictTransformer fit:  10%|█         | 1088926/10468770 [00:10<00:37, 248185.67it/s]"
     ]
    },
    {
     "name": "stderr",
     "output_type": "stream",
     "text": [
      "\rDictTransformer fit:  11%|█         | 1116143/10468770 [00:10<00:36, 254924.29it/s]"
     ]
    },
    {
     "name": "stderr",
     "output_type": "stream",
     "text": [
      "\rDictTransformer fit:  11%|█         | 1142905/10468770 [00:10<00:36, 258600.12it/s]"
     ]
    },
    {
     "name": "stderr",
     "output_type": "stream",
     "text": [
      "\rDictTransformer fit:  11%|█         | 1169197/10468770 [00:11<00:36, 255986.32it/s]"
     ]
    },
    {
     "name": "stderr",
     "output_type": "stream",
     "text": [
      "\rDictTransformer fit:  11%|█▏        | 1197347/10468770 [00:11<00:35, 263140.61it/s]"
     ]
    },
    {
     "name": "stderr",
     "output_type": "stream",
     "text": [
      "\rDictTransformer fit:  12%|█▏        | 1230588/10468770 [00:11<00:32, 280687.89it/s]"
     ]
    },
    {
     "name": "stderr",
     "output_type": "stream",
     "text": [
      "\rDictTransformer fit:  12%|█▏        | 1266208/10468770 [00:11<00:30, 299749.96it/s]"
     ]
    },
    {
     "name": "stderr",
     "output_type": "stream",
     "text": [
      "\rDictTransformer fit:  12%|█▏        | 1296899/10468770 [00:11<00:30, 300856.75it/s]"
     ]
    },
    {
     "name": "stderr",
     "output_type": "stream",
     "text": [
      "\rDictTransformer fit:  13%|█▎        | 1327487/10468770 [00:11<00:31, 286547.64it/s]"
     ]
    },
    {
     "name": "stderr",
     "output_type": "stream",
     "text": [
      "\rDictTransformer fit:  13%|█▎        | 1360050/10468770 [00:11<00:30, 297249.62it/s]"
     ]
    },
    {
     "name": "stderr",
     "output_type": "stream",
     "text": [
      "\rDictTransformer fit:  13%|█▎        | 1390224/10468770 [00:11<00:34, 266121.88it/s]"
     ]
    },
    {
     "name": "stderr",
     "output_type": "stream",
     "text": [
      "\rDictTransformer fit:  14%|█▎        | 1417762/10468770 [00:11<00:36, 250936.69it/s]"
     ]
    },
    {
     "name": "stderr",
     "output_type": "stream",
     "text": [
      "\rDictTransformer fit:  14%|█▍        | 1449998/10468770 [00:11<00:33, 268655.38it/s]"
     ]
    },
    {
     "name": "stderr",
     "output_type": "stream",
     "text": [
      "\rDictTransformer fit:  14%|█▍        | 1477792/10468770 [00:12<00:33, 267883.22it/s]"
     ]
    },
    {
     "name": "stderr",
     "output_type": "stream",
     "text": [
      "\rDictTransformer fit:  14%|█▍        | 1512536/10468770 [00:12<00:31, 287640.55it/s]"
     ]
    },
    {
     "name": "stderr",
     "output_type": "stream",
     "text": [
      "\rDictTransformer fit:  15%|█▍        | 1542733/10468770 [00:12<00:30, 291790.17it/s]"
     ]
    },
    {
     "name": "stderr",
     "output_type": "stream",
     "text": [
      "\rDictTransformer fit:  15%|█▌        | 1576105/10468770 [00:12<00:29, 303216.39it/s]"
     ]
    },
    {
     "name": "stderr",
     "output_type": "stream",
     "text": [
      "\rDictTransformer fit:  15%|█▌        | 1612047/10468770 [00:12<00:27, 318140.07it/s]"
     ]
    },
    {
     "name": "stderr",
     "output_type": "stream",
     "text": [
      "\rDictTransformer fit:  16%|█▌        | 1646314/10468770 [00:12<00:27, 325120.30it/s]"
     ]
    },
    {
     "name": "stderr",
     "output_type": "stream",
     "text": [
      "\rDictTransformer fit:  16%|█▌        | 1679269/10468770 [00:12<00:29, 298188.94it/s]"
     ]
    },
    {
     "name": "stderr",
     "output_type": "stream",
     "text": [
      "\rDictTransformer fit:  16%|█▋        | 1712901/10468770 [00:12<00:28, 308686.68it/s]"
     ]
    },
    {
     "name": "stderr",
     "output_type": "stream",
     "text": [
      "\rDictTransformer fit:  17%|█▋        | 1744386/10468770 [00:12<00:33, 258689.11it/s]"
     ]
    },
    {
     "name": "stderr",
     "output_type": "stream",
     "text": [
      "\rDictTransformer fit:  17%|█▋        | 1772058/10468770 [00:13<00:34, 251715.88it/s]"
     ]
    },
    {
     "name": "stderr",
     "output_type": "stream",
     "text": [
      "\rDictTransformer fit:  17%|█▋        | 1801062/10468770 [00:13<00:33, 262095.71it/s]"
     ]
    },
    {
     "name": "stderr",
     "output_type": "stream",
     "text": [
      "\rDictTransformer fit:  18%|█▊        | 1838248/10468770 [00:13<00:30, 287558.14it/s]"
     ]
    },
    {
     "name": "stderr",
     "output_type": "stream",
     "text": [
      "\rDictTransformer fit:  18%|█▊        | 1868467/10468770 [00:13<00:33, 254334.02it/s]"
     ]
    },
    {
     "name": "stderr",
     "output_type": "stream",
     "text": [
      "\rDictTransformer fit:  18%|█▊        | 1903624/10468770 [00:13<00:30, 277344.90it/s]"
     ]
    },
    {
     "name": "stderr",
     "output_type": "stream",
     "text": [
      "\rDictTransformer fit:  19%|█▊        | 1942873/10468770 [00:13<00:28, 304108.55it/s]"
     ]
    },
    {
     "name": "stderr",
     "output_type": "stream",
     "text": [
      "\rDictTransformer fit:  19%|█▉        | 1978608/10468770 [00:13<00:26, 318331.44it/s]"
     ]
    },
    {
     "name": "stderr",
     "output_type": "stream",
     "text": [
      "\rDictTransformer fit:  19%|█▉        | 2012055/10468770 [00:13<00:27, 311753.21it/s]"
     ]
    },
    {
     "name": "stderr",
     "output_type": "stream",
     "text": [
      "\rDictTransformer fit:  20%|█▉        | 2053600/10468770 [00:13<00:24, 336985.23it/s]"
     ]
    },
    {
     "name": "stderr",
     "output_type": "stream",
     "text": [
      "\rDictTransformer fit:  20%|██        | 2095422/10468770 [00:14<00:23, 357836.25it/s]"
     ]
    },
    {
     "name": "stderr",
     "output_type": "stream",
     "text": [
      "\rDictTransformer fit:  20%|██        | 2137546/10468770 [00:14<00:22, 374756.68it/s]"
     ]
    },
    {
     "name": "stderr",
     "output_type": "stream",
     "text": [
      "\rDictTransformer fit:  21%|██        | 2178291/10468770 [00:14<00:21, 384000.05it/s]"
     ]
    },
    {
     "name": "stderr",
     "output_type": "stream",
     "text": [
      "\rDictTransformer fit:  21%|██        | 2218359/10468770 [00:14<00:21, 388851.62it/s]"
     ]
    },
    {
     "name": "stderr",
     "output_type": "stream",
     "text": [
      "\rDictTransformer fit:  22%|██▏       | 2258186/10468770 [00:14<00:20, 391629.04it/s]"
     ]
    },
    {
     "name": "stderr",
     "output_type": "stream",
     "text": [
      "\rDictTransformer fit:  22%|██▏       | 2300579/10468770 [00:14<00:20, 400788.33it/s]"
     ]
    },
    {
     "name": "stderr",
     "output_type": "stream",
     "text": [
      "\rDictTransformer fit:  22%|██▏       | 2342423/10468770 [00:14<00:20, 405923.04it/s]"
     ]
    },
    {
     "name": "stderr",
     "output_type": "stream",
     "text": [
      "\rDictTransformer fit:  23%|██▎       | 2383281/10468770 [00:14<00:19, 405539.41it/s]"
     ]
    },
    {
     "name": "stderr",
     "output_type": "stream",
     "text": [
      "\rDictTransformer fit:  23%|██▎       | 2424021/10468770 [00:14<00:20, 386351.01it/s]"
     ]
    },
    {
     "name": "stderr",
     "output_type": "stream",
     "text": [
      "\rDictTransformer fit:  24%|██▎       | 2466679/10468770 [00:14<00:20, 397599.12it/s]"
     ]
    },
    {
     "name": "stderr",
     "output_type": "stream",
     "text": [
      "\rDictTransformer fit:  24%|██▍       | 2509044/10468770 [00:15<00:19, 405062.07it/s]"
     ]
    },
    {
     "name": "stderr",
     "output_type": "stream",
     "text": [
      "\rDictTransformer fit:  24%|██▍       | 2552614/10468770 [00:15<00:19, 413790.26it/s]"
     ]
    },
    {
     "name": "stderr",
     "output_type": "stream",
     "text": [
      "\rDictTransformer fit:  25%|██▍       | 2597573/10468770 [00:15<00:18, 423915.87it/s]"
     ]
    },
    {
     "name": "stderr",
     "output_type": "stream",
     "text": [
      "\rDictTransformer fit:  25%|██▌       | 2643011/10468770 [00:15<00:18, 432614.85it/s]"
     ]
    },
    {
     "name": "stderr",
     "output_type": "stream",
     "text": [
      "\rDictTransformer fit:  26%|██▌       | 2686856/10468770 [00:15<00:17, 434346.37it/s]"
     ]
    },
    {
     "name": "stderr",
     "output_type": "stream",
     "text": [
      "\rDictTransformer fit:  26%|██▌       | 2730429/10468770 [00:15<00:17, 433578.02it/s]"
     ]
    },
    {
     "name": "stderr",
     "output_type": "stream",
     "text": [
      "\rDictTransformer fit:  26%|██▋       | 2773884/10468770 [00:15<00:20, 376501.70it/s]"
     ]
    },
    {
     "name": "stderr",
     "output_type": "stream",
     "text": [
      "\rDictTransformer fit:  27%|██▋       | 2813452/10468770 [00:15<00:20, 382054.83it/s]"
     ]
    },
    {
     "name": "stderr",
     "output_type": "stream",
     "text": [
      "\rDictTransformer fit:  27%|██▋       | 2855101/10468770 [00:15<00:19, 391770.02it/s]"
     ]
    },
    {
     "name": "stderr",
     "output_type": "stream",
     "text": [
      "\rDictTransformer fit:  28%|██▊       | 2895044/10468770 [00:16<00:19, 393934.26it/s]"
     ]
    },
    {
     "name": "stderr",
     "output_type": "stream",
     "text": [
      "\rDictTransformer fit:  28%|██▊       | 2934977/10468770 [00:16<00:19, 394459.00it/s]"
     ]
    },
    {
     "name": "stderr",
     "output_type": "stream",
     "text": [
      "\rDictTransformer fit:  28%|██▊       | 2974801/10468770 [00:16<00:19, 387674.44it/s]"
     ]
    },
    {
     "name": "stderr",
     "output_type": "stream",
     "text": [
      "\rDictTransformer fit:  29%|██▉       | 3015501/10468770 [00:16<00:18, 393271.02it/s]"
     ]
    },
    {
     "name": "stderr",
     "output_type": "stream",
     "text": [
      "\rDictTransformer fit:  29%|██▉       | 3058086/10468770 [00:16<00:18, 402506.95it/s]"
     ]
    },
    {
     "name": "stderr",
     "output_type": "stream",
     "text": [
      "\rDictTransformer fit:  30%|██▉       | 3099415/10468770 [00:16<00:18, 405681.01it/s]"
     ]
    },
    {
     "name": "stderr",
     "output_type": "stream",
     "text": [
      "\rDictTransformer fit:  30%|██▉       | 3140136/10468770 [00:16<00:18, 405144.39it/s]"
     ]
    },
    {
     "name": "stderr",
     "output_type": "stream",
     "text": [
      "\rDictTransformer fit:  30%|███       | 3183225/10468770 [00:16<00:17, 412537.83it/s]"
     ]
    },
    {
     "name": "stderr",
     "output_type": "stream",
     "text": [
      "\rDictTransformer fit:  31%|███       | 3224587/10468770 [00:18<02:00, 59903.66it/s] "
     ]
    },
    {
     "name": "stderr",
     "output_type": "stream",
     "text": [
      "\rDictTransformer fit:  31%|███       | 3265788/10468770 [00:18<01:29, 80556.60it/s]"
     ]
    },
    {
     "name": "stderr",
     "output_type": "stream",
     "text": [
      "\rDictTransformer fit:  32%|███▏      | 3303728/10468770 [00:19<01:07, 105482.19it/s]"
     ]
    },
    {
     "name": "stderr",
     "output_type": "stream",
     "text": [
      "\rDictTransformer fit:  32%|███▏      | 3343574/10468770 [00:19<00:52, 135334.42it/s]"
     ]
    },
    {
     "name": "stderr",
     "output_type": "stream",
     "text": [
      "\rDictTransformer fit:  32%|███▏      | 3385907/10468770 [00:19<00:41, 170037.55it/s]"
     ]
    },
    {
     "name": "stderr",
     "output_type": "stream",
     "text": [
      "\rDictTransformer fit:  33%|███▎      | 3428154/10468770 [00:19<00:33, 207172.42it/s]"
     ]
    },
    {
     "name": "stderr",
     "output_type": "stream",
     "text": [
      "\rDictTransformer fit:  33%|███▎      | 3469721/10468770 [00:19<00:28, 243863.46it/s]"
     ]
    },
    {
     "name": "stderr",
     "output_type": "stream",
     "text": [
      "\rDictTransformer fit:  34%|███▎      | 3511621/10468770 [00:19<00:24, 278825.64it/s]"
     ]
    },
    {
     "name": "stderr",
     "output_type": "stream",
     "text": [
      "\rDictTransformer fit:  34%|███▍      | 3554431/10468770 [00:19<00:22, 311399.75it/s]"
     ]
    },
    {
     "name": "stderr",
     "output_type": "stream",
     "text": [
      "\rDictTransformer fit:  34%|███▍      | 3595648/10468770 [00:19<00:20, 333624.04it/s]"
     ]
    },
    {
     "name": "stderr",
     "output_type": "stream",
     "text": [
      "\rDictTransformer fit:  35%|███▍      | 3636509/10468770 [00:19<00:19, 350182.26it/s]"
     ]
    },
    {
     "name": "stderr",
     "output_type": "stream",
     "text": [
      "\rDictTransformer fit:  35%|███▌      | 3676993/10468770 [00:19<00:18, 357889.22it/s]"
     ]
    },
    {
     "name": "stderr",
     "output_type": "stream",
     "text": [
      "\rDictTransformer fit:  36%|███▌      | 3719655/10468770 [00:20<00:17, 376064.20it/s]"
     ]
    },
    {
     "name": "stderr",
     "output_type": "stream",
     "text": [
      "\rDictTransformer fit:  36%|███▌      | 3760720/10468770 [00:20<00:17, 385812.22it/s]"
     ]
    },
    {
     "name": "stderr",
     "output_type": "stream",
     "text": [
      "\rDictTransformer fit:  36%|███▋      | 3801431/10468770 [00:20<00:17, 390718.98it/s]"
     ]
    },
    {
     "name": "stderr",
     "output_type": "stream",
     "text": [
      "\rDictTransformer fit:  37%|███▋      | 3842009/10468770 [00:20<00:17, 389122.33it/s]"
     ]
    },
    {
     "name": "stderr",
     "output_type": "stream",
     "text": [
      "\rDictTransformer fit:  37%|███▋      | 3881977/10468770 [00:20<00:17, 384942.32it/s]"
     ]
    },
    {
     "name": "stderr",
     "output_type": "stream",
     "text": [
      "\rDictTransformer fit:  37%|███▋      | 3921221/10468770 [00:20<00:17, 378383.82it/s]"
     ]
    },
    {
     "name": "stderr",
     "output_type": "stream",
     "text": [
      "\rDictTransformer fit:  38%|███▊      | 3960612/10468770 [00:20<00:16, 382908.53it/s]"
     ]
    },
    {
     "name": "stderr",
     "output_type": "stream",
     "text": [
      "\rDictTransformer fit:  38%|███▊      | 3999301/10468770 [00:20<00:16, 381357.77it/s]"
     ]
    },
    {
     "name": "stderr",
     "output_type": "stream",
     "text": [
      "\rDictTransformer fit:  39%|███▊      | 4038354/10468770 [00:20<00:16, 384063.72it/s]"
     ]
    },
    {
     "name": "stderr",
     "output_type": "stream",
     "text": [
      "\rDictTransformer fit:  39%|███▉      | 4076961/10468770 [00:20<00:16, 377846.09it/s]"
     ]
    },
    {
     "name": "stderr",
     "output_type": "stream",
     "text": [
      "\rDictTransformer fit:  39%|███▉      | 4115697/10468770 [00:21<00:16, 380650.67it/s]"
     ]
    },
    {
     "name": "stderr",
     "output_type": "stream",
     "text": [
      "\rDictTransformer fit:  40%|███▉      | 4153977/10468770 [00:21<00:16, 381291.68it/s]"
     ]
    },
    {
     "name": "stderr",
     "output_type": "stream",
     "text": [
      "\rDictTransformer fit:  40%|████      | 4192190/10468770 [00:21<00:16, 374389.08it/s]"
     ]
    },
    {
     "name": "stderr",
     "output_type": "stream",
     "text": [
      "\rDictTransformer fit:  40%|████      | 4231908/10468770 [00:21<00:16, 380944.66it/s]"
     ]
    },
    {
     "name": "stderr",
     "output_type": "stream",
     "text": [
      "\rDictTransformer fit:  41%|████      | 4272948/10468770 [00:21<00:15, 389314.17it/s]"
     ]
    },
    {
     "name": "stderr",
     "output_type": "stream",
     "text": [
      "\rDictTransformer fit:  41%|████      | 4311987/10468770 [00:21<00:16, 375534.87it/s]"
     ]
    },
    {
     "name": "stderr",
     "output_type": "stream",
     "text": [
      "\rDictTransformer fit:  42%|████▏     | 4351371/10468770 [00:21<00:16, 380844.00it/s]"
     ]
    },
    {
     "name": "stderr",
     "output_type": "stream",
     "text": [
      "\rDictTransformer fit:  42%|████▏     | 4389600/10468770 [00:21<00:16, 374465.78it/s]"
     ]
    },
    {
     "name": "stderr",
     "output_type": "stream",
     "text": [
      "\rDictTransformer fit:  42%|████▏     | 4427172/10468770 [00:21<00:17, 339665.25it/s]"
     ]
    },
    {
     "name": "stderr",
     "output_type": "stream",
     "text": [
      "\rDictTransformer fit:  43%|████▎     | 4467475/10468770 [00:22<00:16, 356478.00it/s]"
     ]
    },
    {
     "name": "stderr",
     "output_type": "stream",
     "text": [
      "\rDictTransformer fit:  43%|████▎     | 4508520/10468770 [00:22<00:16, 371116.91it/s]"
     ]
    },
    {
     "name": "stderr",
     "output_type": "stream",
     "text": [
      "\rDictTransformer fit:  43%|████▎     | 4548647/10468770 [00:22<00:15, 379674.09it/s]"
     ]
    },
    {
     "name": "stderr",
     "output_type": "stream",
     "text": [
      "\rDictTransformer fit:  44%|████▍     | 4591954/10468770 [00:22<00:14, 394256.30it/s]"
     ]
    },
    {
     "name": "stderr",
     "output_type": "stream",
     "text": [
      "\rDictTransformer fit:  44%|████▍     | 4636142/10468770 [00:22<00:14, 407429.37it/s]"
     ]
    },
    {
     "name": "stderr",
     "output_type": "stream",
     "text": [
      "\rDictTransformer fit:  45%|████▍     | 4677346/10468770 [00:22<00:14, 408304.60it/s]"
     ]
    },
    {
     "name": "stderr",
     "output_type": "stream",
     "text": [
      "\rDictTransformer fit:  45%|████▌     | 4720292/10468770 [00:22<00:13, 414426.63it/s]"
     ]
    },
    {
     "name": "stderr",
     "output_type": "stream",
     "text": [
      "\rDictTransformer fit:  45%|████▌     | 4762299/10468770 [00:22<00:13, 416102.30it/s]"
     ]
    },
    {
     "name": "stderr",
     "output_type": "stream",
     "text": [
      "\rDictTransformer fit:  46%|████▌     | 4804227/10468770 [00:22<00:13, 417049.47it/s]"
     ]
    },
    {
     "name": "stderr",
     "output_type": "stream",
     "text": [
      "\rDictTransformer fit:  46%|████▋     | 4846236/10468770 [00:22<00:13, 417954.44it/s]"
     ]
    },
    {
     "name": "stderr",
     "output_type": "stream",
     "text": [
      "\rDictTransformer fit:  47%|████▋     | 4888294/10468770 [00:23<00:13, 418733.41it/s]"
     ]
    },
    {
     "name": "stderr",
     "output_type": "stream",
     "text": [
      "\rDictTransformer fit:  47%|████▋     | 4932140/10468770 [00:23<00:13, 424456.70it/s]"
     ]
    },
    {
     "name": "stderr",
     "output_type": "stream",
     "text": [
      "\rDictTransformer fit:  48%|████▊     | 4974648/10468770 [00:23<00:14, 390473.96it/s]"
     ]
    },
    {
     "name": "stderr",
     "output_type": "stream",
     "text": [
      "\rDictTransformer fit:  48%|████▊     | 5014274/10468770 [00:23<00:14, 387058.33it/s]"
     ]
    },
    {
     "name": "stderr",
     "output_type": "stream",
     "text": [
      "\rDictTransformer fit:  48%|████▊     | 5055757/10468770 [00:23<00:13, 394989.08it/s]"
     ]
    },
    {
     "name": "stderr",
     "output_type": "stream",
     "text": [
      "\rDictTransformer fit:  49%|████▊     | 5098713/10468770 [00:23<00:13, 404759.55it/s]"
     ]
    },
    {
     "name": "stderr",
     "output_type": "stream",
     "text": [
      "\rDictTransformer fit:  49%|████▉     | 5139992/10468770 [00:23<00:13, 407135.51it/s]"
     ]
    },
    {
     "name": "stderr",
     "output_type": "stream",
     "text": [
      "\rDictTransformer fit:  49%|████▉     | 5180912/10468770 [00:23<00:13, 404868.34it/s]"
     ]
    },
    {
     "name": "stderr",
     "output_type": "stream",
     "text": [
      "\rDictTransformer fit:  50%|████▉     | 5221546/10468770 [00:23<00:13, 403445.96it/s]"
     ]
    },
    {
     "name": "stderr",
     "output_type": "stream",
     "text": [
      "\rDictTransformer fit:  50%|█████     | 5261995/10468770 [00:23<00:13, 400451.63it/s]"
     ]
    },
    {
     "name": "stderr",
     "output_type": "stream",
     "text": [
      "\rDictTransformer fit:  51%|█████     | 5302119/10468770 [00:24<00:13, 396075.44it/s]"
     ]
    },
    {
     "name": "stderr",
     "output_type": "stream",
     "text": [
      "\rDictTransformer fit:  51%|█████     | 5341792/10468770 [00:24<00:15, 340429.95it/s]"
     ]
    },
    {
     "name": "stderr",
     "output_type": "stream",
     "text": [
      "\rDictTransformer fit:  51%|█████▏    | 5377255/10468770 [00:24<00:15, 328852.46it/s]"
     ]
    },
    {
     "name": "stderr",
     "output_type": "stream",
     "text": [
      "\rDictTransformer fit:  52%|█████▏    | 5411220/10468770 [00:24<00:15, 317438.78it/s]"
     ]
    },
    {
     "name": "stderr",
     "output_type": "stream",
     "text": [
      "\rDictTransformer fit:  52%|█████▏    | 5445902/10468770 [00:24<00:15, 325714.28it/s]"
     ]
    },
    {
     "name": "stderr",
     "output_type": "stream",
     "text": [
      "\rDictTransformer fit:  52%|█████▏    | 5482976/10468770 [00:24<00:14, 338030.10it/s]"
     ]
    },
    {
     "name": "stderr",
     "output_type": "stream",
     "text": [
      "\rDictTransformer fit:  53%|█████▎    | 5520366/10468770 [00:24<00:14, 348045.02it/s]"
     ]
    },
    {
     "name": "stderr",
     "output_type": "stream",
     "text": [
      "\rDictTransformer fit:  53%|█████▎    | 5555643/10468770 [00:24<00:15, 310871.67it/s]"
     ]
    },
    {
     "name": "stderr",
     "output_type": "stream",
     "text": [
      "\rDictTransformer fit:  53%|█████▎    | 5587803/10468770 [00:25<00:16, 289000.31it/s]"
     ]
    },
    {
     "name": "stderr",
     "output_type": "stream",
     "text": [
      "\rDictTransformer fit:  54%|█████▎    | 5617763/10468770 [00:25<00:17, 272841.71it/s]"
     ]
    },
    {
     "name": "stderr",
     "output_type": "stream",
     "text": [
      "\rDictTransformer fit:  54%|█████▍    | 5645975/10468770 [00:25<00:18, 260836.78it/s]"
     ]
    },
    {
     "name": "stderr",
     "output_type": "stream",
     "text": [
      "\rDictTransformer fit:  54%|█████▍    | 5672820/10468770 [00:25<00:18, 258022.84it/s]"
     ]
    },
    {
     "name": "stderr",
     "output_type": "stream",
     "text": [
      "\rDictTransformer fit:  54%|█████▍    | 5705046/10468770 [00:25<00:17, 274432.56it/s]"
     ]
    },
    {
     "name": "stderr",
     "output_type": "stream",
     "text": [
      "\rDictTransformer fit:  55%|█████▍    | 5733154/10468770 [00:25<00:18, 250245.24it/s]"
     ]
    },
    {
     "name": "stderr",
     "output_type": "stream",
     "text": [
      "\rDictTransformer fit:  55%|█████▌    | 5759056/10468770 [00:25<00:19, 244229.58it/s]"
     ]
    },
    {
     "name": "stderr",
     "output_type": "stream",
     "text": [
      "\rDictTransformer fit:  55%|█████▌    | 5795833/10468770 [00:25<00:17, 271599.50it/s]"
     ]
    },
    {
     "name": "stderr",
     "output_type": "stream",
     "text": [
      "\rDictTransformer fit:  56%|█████▌    | 5833017/10468770 [00:25<00:15, 295496.93it/s]"
     ]
    },
    {
     "name": "stderr",
     "output_type": "stream",
     "text": [
      "\rDictTransformer fit:  56%|█████▌    | 5869415/10468770 [00:26<00:14, 313172.45it/s]"
     ]
    },
    {
     "name": "stderr",
     "output_type": "stream",
     "text": [
      "\rDictTransformer fit:  56%|█████▋    | 5908589/10468770 [00:26<00:13, 333221.05it/s]"
     ]
    },
    {
     "name": "stderr",
     "output_type": "stream",
     "text": [
      "\rDictTransformer fit:  57%|█████▋    | 5949492/10468770 [00:26<00:12, 352838.46it/s]"
     ]
    },
    {
     "name": "stderr",
     "output_type": "stream",
     "text": [
      "\rDictTransformer fit:  57%|█████▋    | 5995808/10468770 [00:26<00:11, 379976.82it/s]"
     ]
    },
    {
     "name": "stderr",
     "output_type": "stream",
     "text": [
      "\rDictTransformer fit:  58%|█████▊    | 6041462/10468770 [00:26<00:11, 400106.41it/s]"
     ]
    },
    {
     "name": "stderr",
     "output_type": "stream",
     "text": [
      "\rDictTransformer fit:  58%|█████▊    | 6084657/10468770 [00:26<00:10, 409154.08it/s]"
     ]
    },
    {
     "name": "stderr",
     "output_type": "stream",
     "text": [
      "\rDictTransformer fit:  59%|█████▊    | 6129538/10468770 [00:26<00:10, 420294.27it/s]"
     ]
    },
    {
     "name": "stderr",
     "output_type": "stream",
     "text": [
      "\rDictTransformer fit:  59%|█████▉    | 6175229/10468770 [00:26<00:09, 430645.11it/s]"
     ]
    },
    {
     "name": "stderr",
     "output_type": "stream",
     "text": [
      "\rDictTransformer fit:  59%|█████▉    | 6218885/10468770 [00:26<00:09, 431433.59it/s]"
     ]
    },
    {
     "name": "stderr",
     "output_type": "stream",
     "text": [
      "\rDictTransformer fit:  60%|█████▉    | 6262443/10468770 [00:26<00:10, 416425.41it/s]"
     ]
    },
    {
     "name": "stderr",
     "output_type": "stream",
     "text": [
      "\rDictTransformer fit:  60%|██████    | 6304489/10468770 [00:27<00:10, 380395.75it/s]"
     ]
    },
    {
     "name": "stderr",
     "output_type": "stream",
     "text": [
      "\rDictTransformer fit:  61%|██████    | 6345245/10468770 [00:27<00:10, 388155.84it/s]"
     ]
    },
    {
     "name": "stderr",
     "output_type": "stream",
     "text": [
      "\rDictTransformer fit:  61%|██████    | 6388804/10468770 [00:27<00:10, 401260.33it/s]"
     ]
    },
    {
     "name": "stderr",
     "output_type": "stream",
     "text": [
      "\rDictTransformer fit:  61%|██████▏   | 6432610/10468770 [00:27<00:09, 411594.53it/s]"
     ]
    },
    {
     "name": "stderr",
     "output_type": "stream",
     "text": [
      "\rDictTransformer fit:  62%|██████▏   | 6475150/10468770 [00:27<00:09, 415640.41it/s]"
     ]
    },
    {
     "name": "stderr",
     "output_type": "stream",
     "text": [
      "\rDictTransformer fit:  62%|██████▏   | 6520662/10468770 [00:27<00:09, 426745.72it/s]"
     ]
    },
    {
     "name": "stderr",
     "output_type": "stream",
     "text": [
      "\rDictTransformer fit:  63%|██████▎   | 6566122/10468770 [00:27<00:08, 434734.33it/s]"
     ]
    },
    {
     "name": "stderr",
     "output_type": "stream",
     "text": [
      "\rDictTransformer fit:  63%|██████▎   | 6611304/10468770 [00:27<00:08, 439710.06it/s]"
     ]
    },
    {
     "name": "stderr",
     "output_type": "stream",
     "text": [
      "\rDictTransformer fit:  64%|██████▎   | 6655466/10468770 [00:27<00:08, 430241.40it/s]"
     ]
    },
    {
     "name": "stderr",
     "output_type": "stream",
     "text": [
      "\rDictTransformer fit:  64%|██████▍   | 6698670/10468770 [00:27<00:08, 420399.90it/s]"
     ]
    },
    {
     "name": "stderr",
     "output_type": "stream",
     "text": [
      "\rDictTransformer fit:  64%|██████▍   | 6740886/10468770 [00:28<00:09, 407865.03it/s]"
     ]
    },
    {
     "name": "stderr",
     "output_type": "stream",
     "text": [
      "\rDictTransformer fit:  65%|██████▍   | 6782262/10468770 [00:28<00:08, 409613.32it/s]"
     ]
    },
    {
     "name": "stderr",
     "output_type": "stream",
     "text": [
      "\rDictTransformer fit:  65%|██████▌   | 6824037/10468770 [00:28<00:08, 412018.35it/s]"
     ]
    },
    {
     "name": "stderr",
     "output_type": "stream",
     "text": [
      "\rDictTransformer fit:  66%|██████▌   | 6865344/10468770 [00:28<00:09, 377265.16it/s]"
     ]
    },
    {
     "name": "stderr",
     "output_type": "stream",
     "text": [
      "\rDictTransformer fit:  66%|██████▌   | 6907633/10468770 [00:28<00:09, 389882.13it/s]"
     ]
    },
    {
     "name": "stderr",
     "output_type": "stream",
     "text": [
      "\rDictTransformer fit:  66%|██████▋   | 6949390/10468770 [00:28<00:08, 397792.79it/s]"
     ]
    },
    {
     "name": "stderr",
     "output_type": "stream",
     "text": [
      "\rDictTransformer fit:  67%|██████▋   | 6995570/10468770 [00:28<00:08, 415050.12it/s]"
     ]
    },
    {
     "name": "stderr",
     "output_type": "stream",
     "text": [
      "\rDictTransformer fit:  67%|██████▋   | 7039212/10468770 [00:28<00:08, 421237.89it/s]"
     ]
    },
    {
     "name": "stderr",
     "output_type": "stream",
     "text": [
      "\rDictTransformer fit:  68%|██████▊   | 7081705/10468770 [00:28<00:08, 414224.19it/s]"
     ]
    },
    {
     "name": "stderr",
     "output_type": "stream",
     "text": [
      "\rDictTransformer fit:  68%|██████▊   | 7123412/10468770 [00:29<00:08, 412551.07it/s]"
     ]
    },
    {
     "name": "stderr",
     "output_type": "stream",
     "text": [
      "\rDictTransformer fit:  68%|██████▊   | 7164868/10468770 [00:29<00:08, 408106.30it/s]"
     ]
    },
    {
     "name": "stderr",
     "output_type": "stream",
     "text": [
      "\rDictTransformer fit:  69%|██████▉   | 7205831/10468770 [00:29<00:08, 407854.72it/s]"
     ]
    },
    {
     "name": "stderr",
     "output_type": "stream",
     "text": [
      "\rDictTransformer fit:  69%|██████▉   | 7247478/10468770 [00:29<00:07, 410399.15it/s]"
     ]
    },
    {
     "name": "stderr",
     "output_type": "stream",
     "text": [
      "\rDictTransformer fit:  70%|██████▉   | 7288596/10468770 [00:29<00:08, 368675.51it/s]"
     ]
    },
    {
     "name": "stderr",
     "output_type": "stream",
     "text": [
      "\rDictTransformer fit:  70%|███████   | 7330467/10468770 [00:29<00:08, 382382.45it/s]"
     ]
    },
    {
     "name": "stderr",
     "output_type": "stream",
     "text": [
      "\rDictTransformer fit:  70%|███████   | 7370761/10468770 [00:29<00:08, 383371.46it/s]"
     ]
    },
    {
     "name": "stderr",
     "output_type": "stream",
     "text": [
      "\rDictTransformer fit:  71%|███████   | 7409874/10468770 [00:29<00:07, 385665.26it/s]"
     ]
    },
    {
     "name": "stderr",
     "output_type": "stream",
     "text": [
      "\rDictTransformer fit:  71%|███████   | 7450073/10468770 [00:29<00:07, 390418.33it/s]"
     ]
    },
    {
     "name": "stderr",
     "output_type": "stream",
     "text": [
      "\rDictTransformer fit:  72%|███████▏  | 7489438/10468770 [00:29<00:07, 385356.75it/s]"
     ]
    },
    {
     "name": "stderr",
     "output_type": "stream",
     "text": [
      "\rDictTransformer fit:  72%|███████▏  | 7528176/10468770 [00:30<00:08, 329983.35it/s]"
     ]
    },
    {
     "name": "stderr",
     "output_type": "stream",
     "text": [
      "\rDictTransformer fit:  72%|███████▏  | 7570829/10468770 [00:30<00:08, 354022.76it/s]"
     ]
    },
    {
     "name": "stderr",
     "output_type": "stream",
     "text": [
      "\rDictTransformer fit:  73%|███████▎  | 7611487/10468770 [00:30<00:07, 368304.80it/s]"
     ]
    },
    {
     "name": "stderr",
     "output_type": "stream",
     "text": [
      "\rDictTransformer fit:  73%|███████▎  | 7651270/10468770 [00:30<00:07, 376690.80it/s]"
     ]
    },
    {
     "name": "stderr",
     "output_type": "stream",
     "text": [
      "\rDictTransformer fit:  73%|███████▎  | 7692741/10468770 [00:30<00:07, 387341.69it/s]"
     ]
    },
    {
     "name": "stderr",
     "output_type": "stream",
     "text": [
      "\rDictTransformer fit:  74%|███████▍  | 7735786/10468770 [00:30<00:06, 399338.27it/s]"
     ]
    },
    {
     "name": "stderr",
     "output_type": "stream",
     "text": [
      "\rDictTransformer fit:  74%|███████▍  | 7777263/10468770 [00:30<00:06, 403839.79it/s]"
     ]
    },
    {
     "name": "stderr",
     "output_type": "stream",
     "text": [
      "\rDictTransformer fit:  75%|███████▍  | 7820595/10468770 [00:30<00:06, 412250.64it/s]"
     ]
    },
    {
     "name": "stderr",
     "output_type": "stream",
     "text": [
      "\rDictTransformer fit:  75%|███████▌  | 7865730/10468770 [00:30<00:06, 423247.74it/s]"
     ]
    },
    {
     "name": "stderr",
     "output_type": "stream",
     "text": [
      "\rDictTransformer fit:  76%|███████▌  | 7911289/10468770 [00:31<00:05, 432442.91it/s]"
     ]
    },
    {
     "name": "stderr",
     "output_type": "stream",
     "text": [
      "\rDictTransformer fit:  76%|███████▌  | 7955746/10468770 [00:31<00:05, 436008.37it/s]"
     ]
    },
    {
     "name": "stderr",
     "output_type": "stream",
     "text": [
      "\rDictTransformer fit:  76%|███████▋  | 8000345/10468770 [00:31<00:05, 438952.04it/s]"
     ]
    },
    {
     "name": "stderr",
     "output_type": "stream",
     "text": [
      "\rDictTransformer fit:  77%|███████▋  | 8045042/10468770 [00:31<00:05, 441322.82it/s]"
     ]
    },
    {
     "name": "stderr",
     "output_type": "stream",
     "text": [
      "\rDictTransformer fit:  77%|███████▋  | 8090677/10468770 [00:31<00:05, 445724.90it/s]"
     ]
    },
    {
     "name": "stderr",
     "output_type": "stream",
     "text": [
      "\rDictTransformer fit:  78%|███████▊  | 8135332/10468770 [00:31<00:05, 443956.87it/s]"
     ]
    },
    {
     "name": "stderr",
     "output_type": "stream",
     "text": [
      "\rDictTransformer fit:  78%|███████▊  | 8180598/10468770 [00:31<00:05, 446529.75it/s]"
     ]
    },
    {
     "name": "stderr",
     "output_type": "stream",
     "text": [
      "\rDictTransformer fit:  79%|███████▊  | 8229305/10468770 [00:31<00:04, 457960.28it/s]"
     ]
    },
    {
     "name": "stderr",
     "output_type": "stream",
     "text": [
      "\rDictTransformer fit:  79%|███████▉  | 8277233/10468770 [00:31<00:04, 464152.87it/s]"
     ]
    },
    {
     "name": "stderr",
     "output_type": "stream",
     "text": [
      "\rDictTransformer fit:  80%|███████▉  | 8323742/10468770 [00:31<00:04, 462627.61it/s]"
     ]
    },
    {
     "name": "stderr",
     "output_type": "stream",
     "text": [
      "\rDictTransformer fit:  80%|███████▉  | 8370071/10468770 [00:32<00:04, 457316.25it/s]"
     ]
    },
    {
     "name": "stderr",
     "output_type": "stream",
     "text": [
      "\rDictTransformer fit:  80%|████████  | 8415879/10468770 [00:32<00:04, 457542.30it/s]"
     ]
    },
    {
     "name": "stderr",
     "output_type": "stream",
     "text": [
      "\rDictTransformer fit:  81%|████████  | 8461676/10468770 [00:32<00:04, 407051.38it/s]"
     ]
    },
    {
     "name": "stderr",
     "output_type": "stream",
     "text": [
      "\rDictTransformer fit:  81%|████████▏ | 8507420/10468770 [00:32<00:04, 420962.36it/s]"
     ]
    },
    {
     "name": "stderr",
     "output_type": "stream",
     "text": [
      "\rDictTransformer fit:  82%|████████▏ | 8553308/10468770 [00:32<00:04, 431623.87it/s]"
     ]
    },
    {
     "name": "stderr",
     "output_type": "stream",
     "text": [
      "\rDictTransformer fit:  82%|████████▏ | 8600110/10468770 [00:32<00:04, 441924.40it/s]"
     ]
    },
    {
     "name": "stderr",
     "output_type": "stream",
     "text": [
      "\rDictTransformer fit:  83%|████████▎ | 8646393/10468770 [00:32<00:04, 447994.87it/s]"
     ]
    },
    {
     "name": "stderr",
     "output_type": "stream",
     "text": [
      "\rDictTransformer fit:  83%|████████▎ | 8693192/10468770 [00:32<00:03, 453808.97it/s]"
     ]
    },
    {
     "name": "stderr",
     "output_type": "stream",
     "text": [
      "\rDictTransformer fit:  83%|████████▎ | 8739308/10468770 [00:32<00:03, 455988.39it/s]"
     ]
    },
    {
     "name": "stderr",
     "output_type": "stream",
     "text": [
      "\rDictTransformer fit:  84%|████████▍ | 8786217/10468770 [00:32<00:03, 459831.84it/s]"
     ]
    },
    {
     "name": "stderr",
     "output_type": "stream",
     "text": [
      "\rDictTransformer fit:  84%|████████▍ | 8832354/10468770 [00:33<00:03, 458108.00it/s]"
     ]
    },
    {
     "name": "stderr",
     "output_type": "stream",
     "text": [
      "\rDictTransformer fit:  85%|████████▍ | 8879038/10468770 [00:33<00:03, 460689.01it/s]"
     ]
    },
    {
     "name": "stderr",
     "output_type": "stream",
     "text": [
      "\rDictTransformer fit:  85%|████████▌ | 8925187/10468770 [00:33<00:03, 459906.37it/s]"
     ]
    },
    {
     "name": "stderr",
     "output_type": "stream",
     "text": [
      "\rDictTransformer fit:  86%|████████▌ | 8972783/10468770 [00:33<00:03, 464607.39it/s]"
     ]
    },
    {
     "name": "stderr",
     "output_type": "stream",
     "text": [
      "\rDictTransformer fit:  86%|████████▌ | 9020432/10468770 [00:33<00:03, 468106.65it/s]"
     ]
    },
    {
     "name": "stderr",
     "output_type": "stream",
     "text": [
      "\rDictTransformer fit:  87%|████████▋ | 9067285/10468770 [00:33<00:02, 467170.46it/s]"
     ]
    },
    {
     "name": "stderr",
     "output_type": "stream",
     "text": [
      "\rDictTransformer fit:  87%|████████▋ | 9114452/10468770 [00:33<00:02, 468509.75it/s]"
     ]
    },
    {
     "name": "stderr",
     "output_type": "stream",
     "text": [
      "\rDictTransformer fit:  88%|████████▊ | 9161325/10468770 [00:33<00:02, 466579.26it/s]"
     ]
    },
    {
     "name": "stderr",
     "output_type": "stream",
     "text": [
      "\rDictTransformer fit:  88%|████████▊ | 9208000/10468770 [00:33<00:02, 464765.17it/s]"
     ]
    },
    {
     "name": "stderr",
     "output_type": "stream",
     "text": [
      "\rDictTransformer fit:  88%|████████▊ | 9254491/10468770 [00:34<00:02, 462664.83it/s]"
     ]
    },
    {
     "name": "stderr",
     "output_type": "stream",
     "text": [
      "\rDictTransformer fit:  89%|████████▉ | 9300770/10468770 [00:34<00:02, 461619.73it/s]"
     ]
    },
    {
     "name": "stderr",
     "output_type": "stream",
     "text": [
      "\rDictTransformer fit:  89%|████████▉ | 9346941/10468770 [00:34<00:02, 461168.06it/s]"
     ]
    },
    {
     "name": "stderr",
     "output_type": "stream",
     "text": [
      "\rDictTransformer fit:  90%|████████▉ | 9393065/10468770 [00:34<00:02, 459358.58it/s]"
     ]
    },
    {
     "name": "stderr",
     "output_type": "stream",
     "text": [
      "\rDictTransformer fit:  90%|█████████ | 9439659/10468770 [00:34<00:02, 461311.90it/s]"
     ]
    },
    {
     "name": "stderr",
     "output_type": "stream",
     "text": [
      "\rDictTransformer fit:  91%|█████████ | 9485797/10468770 [00:34<00:02, 458690.69it/s]"
     ]
    },
    {
     "name": "stderr",
     "output_type": "stream",
     "text": [
      "\rDictTransformer fit:  91%|█████████ | 9532708/10468770 [00:34<00:02, 461766.07it/s]"
     ]
    },
    {
     "name": "stderr",
     "output_type": "stream",
     "text": [
      "\rDictTransformer fit:  92%|█████████▏| 9579855/10468770 [00:34<00:01, 464634.19it/s]"
     ]
    },
    {
     "name": "stderr",
     "output_type": "stream",
     "text": [
      "\rDictTransformer fit:  92%|█████████▏| 9626371/10468770 [00:34<00:01, 464790.28it/s]"
     ]
    },
    {
     "name": "stderr",
     "output_type": "stream",
     "text": [
      "\rDictTransformer fit:  92%|█████████▏| 9672859/10468770 [00:34<00:01, 463098.78it/s]"
     ]
    },
    {
     "name": "stderr",
     "output_type": "stream",
     "text": [
      "\rDictTransformer fit:  93%|█████████▎| 9719176/10468770 [00:36<00:10, 73242.08it/s] "
     ]
    },
    {
     "name": "stderr",
     "output_type": "stream",
     "text": [
      "\rDictTransformer fit:  93%|█████████▎| 9762441/10468770 [00:36<00:07, 97553.84it/s]"
     ]
    },
    {
     "name": "stderr",
     "output_type": "stream",
     "text": [
      "\rDictTransformer fit:  94%|█████████▎| 9806432/10468770 [00:36<00:05, 127267.21it/s]"
     ]
    },
    {
     "name": "stderr",
     "output_type": "stream",
     "text": [
      "\rDictTransformer fit:  94%|█████████▍| 9850822/10468770 [00:37<00:03, 161915.17it/s]"
     ]
    },
    {
     "name": "stderr",
     "output_type": "stream",
     "text": [
      "\rDictTransformer fit:  95%|█████████▍| 9896949/10468770 [00:37<00:02, 201060.17it/s]"
     ]
    },
    {
     "name": "stderr",
     "output_type": "stream",
     "text": [
      "\rDictTransformer fit:  95%|█████████▍| 9943014/10468770 [00:37<00:02, 241966.10it/s]"
     ]
    },
    {
     "name": "stderr",
     "output_type": "stream",
     "text": [
      "\rDictTransformer fit:  95%|█████████▌| 9988933/10468770 [00:37<00:01, 281984.14it/s]"
     ]
    },
    {
     "name": "stderr",
     "output_type": "stream",
     "text": [
      "\rDictTransformer fit:  96%|█████████▌| 10034582/10468770 [00:37<00:01, 318511.42it/s]"
     ]
    },
    {
     "name": "stderr",
     "output_type": "stream",
     "text": [
      "\rDictTransformer fit:  96%|█████████▋| 10079111/10468770 [00:37<00:01, 347787.94it/s]"
     ]
    },
    {
     "name": "stderr",
     "output_type": "stream",
     "text": [
      "\rDictTransformer fit:  97%|█████████▋| 10124601/10468770 [00:37<00:00, 374220.71it/s]"
     ]
    },
    {
     "name": "stderr",
     "output_type": "stream",
     "text": [
      "\rDictTransformer fit:  97%|█████████▋| 10170586/10468770 [00:37<00:00, 396359.57it/s]"
     ]
    },
    {
     "name": "stderr",
     "output_type": "stream",
     "text": [
      "\rDictTransformer fit:  98%|█████████▊| 10215718/10468770 [00:37<00:00, 411385.78it/s]"
     ]
    },
    {
     "name": "stderr",
     "output_type": "stream",
     "text": [
      "\rDictTransformer fit:  98%|█████████▊| 10260848/10468770 [00:37<00:00, 416240.67it/s]"
     ]
    },
    {
     "name": "stderr",
     "output_type": "stream",
     "text": [
      "\rDictTransformer fit:  98%|█████████▊| 10306396/10468770 [00:38<00:00, 427282.99it/s]"
     ]
    },
    {
     "name": "stderr",
     "output_type": "stream",
     "text": [
      "\rDictTransformer fit:  99%|█████████▉| 10352795/10468770 [00:38<00:00, 437654.32it/s]"
     ]
    },
    {
     "name": "stderr",
     "output_type": "stream",
     "text": [
      "\rDictTransformer fit:  99%|█████████▉| 10398439/10468770 [00:38<00:00, 443125.44it/s]"
     ]
    },
    {
     "name": "stderr",
     "output_type": "stream",
     "text": [
      "\rDictTransformer fit: 100%|█████████▉| 10443811/10468770 [00:38<00:00, 442637.65it/s]"
     ]
    },
    {
     "name": "stderr",
     "output_type": "stream",
     "text": [
      "\rDictTransformer fit: 100%|██████████| 10468770/10468770 [00:38<00:00, 270928.31it/s]"
     ]
    },
    {
     "name": "stderr",
     "output_type": "stream",
     "text": [
      "\n"
     ]
    },
    {
     "name": "stderr",
     "output_type": "stream",
     "text": [
      "\rMorphologyExtractor transform:   0%|          | 0/105746 [00:00<?, ?it/s]"
     ]
    },
    {
     "name": "stderr",
     "output_type": "stream",
     "text": [
      "\rMorphologyExtractor transform:   1%|          | 1100/105746 [00:00<00:09, 10997.05it/s]"
     ]
    },
    {
     "name": "stderr",
     "output_type": "stream",
     "text": [
      "\rMorphologyExtractor transform:   3%|▎         | 3442/105746 [00:00<00:07, 13074.71it/s]"
     ]
    },
    {
     "name": "stderr",
     "output_type": "stream",
     "text": [
      "\rMorphologyExtractor transform:   5%|▌         | 5746/105746 [00:00<00:06, 15023.96it/s]"
     ]
    },
    {
     "name": "stderr",
     "output_type": "stream",
     "text": [
      "\rMorphologyExtractor transform:   8%|▊         | 8556/105746 [00:00<00:05, 17461.35it/s]"
     ]
    },
    {
     "name": "stderr",
     "output_type": "stream",
     "text": [
      "\rMorphologyExtractor transform:  11%|█         | 11559/105746 [00:00<00:04, 19965.83it/s]"
     ]
    },
    {
     "name": "stderr",
     "output_type": "stream",
     "text": [
      "\rMorphologyExtractor transform:  13%|█▎        | 13708/105746 [00:00<00:04, 19502.43it/s]"
     ]
    },
    {
     "name": "stderr",
     "output_type": "stream",
     "text": [
      "\rMorphologyExtractor transform:  16%|█▌        | 16749/105746 [00:00<00:04, 21853.08it/s]"
     ]
    },
    {
     "name": "stderr",
     "output_type": "stream",
     "text": [
      "\rMorphologyExtractor transform:  18%|█▊        | 19103/105746 [00:00<00:04, 21449.76it/s]"
     ]
    },
    {
     "name": "stderr",
     "output_type": "stream",
     "text": [
      "\rMorphologyExtractor transform:  20%|██        | 21368/105746 [00:01<00:04, 17137.02it/s]"
     ]
    },
    {
     "name": "stderr",
     "output_type": "stream",
     "text": [
      "\rMorphologyExtractor transform:  23%|██▎       | 24571/105746 [00:01<00:04, 19911.56it/s]"
     ]
    },
    {
     "name": "stderr",
     "output_type": "stream",
     "text": [
      "\rMorphologyExtractor transform:  26%|██▌       | 27250/105746 [00:01<00:03, 21573.23it/s]"
     ]
    },
    {
     "name": "stderr",
     "output_type": "stream",
     "text": [
      "\rMorphologyExtractor transform:  28%|██▊       | 29674/105746 [00:01<00:03, 21599.90it/s]"
     ]
    },
    {
     "name": "stderr",
     "output_type": "stream",
     "text": [
      "\rMorphologyExtractor transform:  31%|███       | 32746/105746 [00:01<00:03, 23706.38it/s]"
     ]
    },
    {
     "name": "stderr",
     "output_type": "stream",
     "text": [
      "\rMorphologyExtractor transform:  34%|███▍      | 36183/105746 [00:01<00:02, 26137.00it/s]"
     ]
    },
    {
     "name": "stderr",
     "output_type": "stream",
     "text": [
      "\rMorphologyExtractor transform:  38%|███▊      | 40118/105746 [00:01<00:02, 29063.79it/s]"
     ]
    },
    {
     "name": "stderr",
     "output_type": "stream",
     "text": [
      "\rMorphologyExtractor transform:  41%|████▏     | 43866/105746 [00:01<00:01, 31157.60it/s]"
     ]
    },
    {
     "name": "stderr",
     "output_type": "stream",
     "text": [
      "\rMorphologyExtractor transform:  45%|████▌     | 47814/105746 [00:01<00:01, 33259.85it/s]"
     ]
    },
    {
     "name": "stderr",
     "output_type": "stream",
     "text": [
      "\rMorphologyExtractor transform:  49%|████▉     | 51796/105746 [00:01<00:01, 34986.64it/s]"
     ]
    },
    {
     "name": "stderr",
     "output_type": "stream",
     "text": [
      "\rMorphologyExtractor transform:  53%|█████▎    | 56550/105746 [00:02<00:01, 37996.00it/s]"
     ]
    },
    {
     "name": "stderr",
     "output_type": "stream",
     "text": [
      "\rMorphologyExtractor transform:  57%|█████▋    | 60536/105746 [00:02<00:01, 37347.06it/s]"
     ]
    },
    {
     "name": "stderr",
     "output_type": "stream",
     "text": [
      "\rMorphologyExtractor transform:  61%|██████▏   | 64815/105746 [00:02<00:01, 38767.97it/s]"
     ]
    },
    {
     "name": "stderr",
     "output_type": "stream",
     "text": [
      "\rMorphologyExtractor transform:  65%|██████▌   | 68799/105746 [00:02<00:00, 37906.11it/s]"
     ]
    },
    {
     "name": "stderr",
     "output_type": "stream",
     "text": [
      "\rMorphologyExtractor transform:  69%|██████▊   | 72669/105746 [00:02<00:00, 36391.73it/s]"
     ]
    },
    {
     "name": "stderr",
     "output_type": "stream",
     "text": [
      "\rMorphologyExtractor transform:  73%|███████▎  | 76888/105746 [00:02<00:00, 37953.72it/s]"
     ]
    },
    {
     "name": "stderr",
     "output_type": "stream",
     "text": [
      "\rMorphologyExtractor transform:  77%|███████▋  | 81382/105746 [00:02<00:00, 39810.16it/s]"
     ]
    },
    {
     "name": "stderr",
     "output_type": "stream",
     "text": [
      "\rMorphologyExtractor transform:  81%|████████▏ | 85942/105746 [00:02<00:00, 41385.61it/s]"
     ]
    },
    {
     "name": "stderr",
     "output_type": "stream",
     "text": [
      "\rMorphologyExtractor transform:  85%|████████▌ | 90274/105746 [00:02<00:00, 41941.57it/s]"
     ]
    },
    {
     "name": "stderr",
     "output_type": "stream",
     "text": [
      "\rMorphologyExtractor transform:  89%|████████▉ | 94599/105746 [00:02<00:00, 42295.49it/s]"
     ]
    },
    {
     "name": "stderr",
     "output_type": "stream",
     "text": [
      "\rMorphologyExtractor transform:  94%|█████████▍| 99583/105746 [00:03<00:00, 44305.62it/s]"
     ]
    },
    {
     "name": "stderr",
     "output_type": "stream",
     "text": [
      "\rMorphologyExtractor transform:  99%|█████████▊| 104345/105746 [00:03<00:00, 45246.59it/s]"
     ]
    },
    {
     "name": "stderr",
     "output_type": "stream",
     "text": [
      "\rMorphologyExtractor transform: 100%|██████████| 105746/105746 [00:04<00:00, 25107.66it/s]"
     ]
    },
    {
     "name": "stderr",
     "output_type": "stream",
     "text": [
      "\n"
     ]
    },
    {
     "name": "stderr",
     "output_type": "stream",
     "text": [
      "\rMorphologyExtractor transform:   0%|          | 0/105746 [00:00<?, ?it/s]"
     ]
    },
    {
     "name": "stderr",
     "output_type": "stream",
     "text": [
      "\rMorphologyExtractor transform:   4%|▍         | 4422/105746 [00:00<00:02, 44173.60it/s]"
     ]
    },
    {
     "name": "stderr",
     "output_type": "stream",
     "text": [
      "\rMorphologyExtractor transform:   8%|▊         | 8969/105746 [00:00<00:02, 44554.45it/s]"
     ]
    },
    {
     "name": "stderr",
     "output_type": "stream",
     "text": [
      "\rMorphologyExtractor transform:  13%|█▎        | 13584/105746 [00:00<00:02, 44999.54it/s]"
     ]
    },
    {
     "name": "stderr",
     "output_type": "stream",
     "text": [
      "\rMorphologyExtractor transform:  17%|█▋        | 18360/105746 [00:00<00:01, 45788.44it/s]"
     ]
    },
    {
     "name": "stderr",
     "output_type": "stream",
     "text": [
      "\rMorphologyExtractor transform:  22%|██▏       | 23533/105746 [00:00<00:01, 47416.22it/s]"
     ]
    },
    {
     "name": "stderr",
     "output_type": "stream",
     "text": [
      "\rMorphologyExtractor transform:  27%|██▋       | 28515/105746 [00:00<00:01, 48098.30it/s]"
     ]
    },
    {
     "name": "stderr",
     "output_type": "stream",
     "text": [
      "\rMorphologyExtractor transform:  32%|███▏      | 33633/105746 [00:00<00:01, 48982.97it/s]"
     ]
    },
    {
     "name": "stderr",
     "output_type": "stream",
     "text": [
      "\rMorphologyExtractor transform:  37%|███▋      | 38827/105746 [00:00<00:01, 49830.81it/s]"
     ]
    },
    {
     "name": "stderr",
     "output_type": "stream",
     "text": [
      "\rMorphologyExtractor transform:  42%|████▏     | 44327/105746 [00:00<00:01, 51229.76it/s]"
     ]
    },
    {
     "name": "stderr",
     "output_type": "stream",
     "text": [
      "\rMorphologyExtractor transform:  47%|████▋     | 49494/105746 [00:01<00:01, 51360.07it/s]"
     ]
    },
    {
     "name": "stderr",
     "output_type": "stream",
     "text": [
      "\rMorphologyExtractor transform:  52%|█████▏    | 54769/105746 [00:01<00:00, 51752.20it/s]"
     ]
    },
    {
     "name": "stderr",
     "output_type": "stream",
     "text": [
      "\rMorphologyExtractor transform:  57%|█████▋    | 60454/105746 [00:01<00:00, 53182.73it/s]"
     ]
    },
    {
     "name": "stderr",
     "output_type": "stream",
     "text": [
      "\rMorphologyExtractor transform:  62%|██████▏   | 66002/105746 [00:01<00:00, 53851.55it/s]"
     ]
    },
    {
     "name": "stderr",
     "output_type": "stream",
     "text": [
      "\rMorphologyExtractor transform:  67%|██████▋   | 71359/105746 [00:01<00:00, 53147.48it/s]"
     ]
    },
    {
     "name": "stderr",
     "output_type": "stream",
     "text": [
      "\rMorphologyExtractor transform:  73%|███████▎  | 76805/105746 [00:01<00:00, 53527.60it/s]"
     ]
    },
    {
     "name": "stderr",
     "output_type": "stream",
     "text": [
      "\rMorphologyExtractor transform:  78%|███████▊  | 82146/105746 [00:01<00:00, 52892.82it/s]"
     ]
    },
    {
     "name": "stderr",
     "output_type": "stream",
     "text": [
      "\rMorphologyExtractor transform:  83%|████████▎ | 87429/105746 [00:01<00:00, 52722.03it/s]"
     ]
    },
    {
     "name": "stderr",
     "output_type": "stream",
     "text": [
      "\rMorphologyExtractor transform:  88%|████████▊ | 93198/105746 [00:01<00:00, 54113.49it/s]"
     ]
    },
    {
     "name": "stderr",
     "output_type": "stream",
     "text": [
      "\rMorphologyExtractor transform:  93%|█████████▎| 98616/105746 [00:01<00:00, 54061.47it/s]"
     ]
    },
    {
     "name": "stderr",
     "output_type": "stream",
     "text": [
      "\rMorphologyExtractor transform:  98%|█████████▊| 104113/105746 [00:02<00:00, 54322.16it/s]"
     ]
    },
    {
     "name": "stderr",
     "output_type": "stream",
     "text": [
      "\rMorphologyExtractor transform: 100%|██████████| 105746/105746 [00:02<00:00, 51781.48it/s]"
     ]
    },
    {
     "name": "stderr",
     "output_type": "stream",
     "text": [
      "\n\rMorphologyExtractor transform:   0%|          | 0/105746 [00:00<?, ?it/s]"
     ]
    },
    {
     "name": "stderr",
     "output_type": "stream",
     "text": [
      "\rMorphologyExtractor transform:   4%|▍         | 4737/105746 [00:00<00:02, 47302.72it/s]"
     ]
    },
    {
     "name": "stderr",
     "output_type": "stream",
     "text": [
      "\rMorphologyExtractor transform:  10%|▉         | 10348/105746 [00:00<00:01, 49087.97it/s]"
     ]
    },
    {
     "name": "stderr",
     "output_type": "stream",
     "text": [
      "\rMorphologyExtractor transform:  15%|█▌        | 16122/105746 [00:00<00:01, 51391.23it/s]"
     ]
    },
    {
     "name": "stderr",
     "output_type": "stream",
     "text": [
      "\rMorphologyExtractor transform:  20%|██        | 21301/105746 [00:00<00:01, 51507.30it/s]"
     ]
    },
    {
     "name": "stderr",
     "output_type": "stream",
     "text": [
      "\rMorphologyExtractor transform:  25%|██▌       | 26844/105746 [00:00<00:01, 52623.52it/s]"
     ]
    },
    {
     "name": "stderr",
     "output_type": "stream",
     "text": [
      "\rMorphologyExtractor transform:  31%|███       | 33009/105746 [00:00<00:01, 55041.02it/s]"
     ]
    },
    {
     "name": "stderr",
     "output_type": "stream",
     "text": [
      "\rMorphologyExtractor transform:  37%|███▋      | 39117/105746 [00:00<00:01, 56722.68it/s]"
     ]
    },
    {
     "name": "stderr",
     "output_type": "stream",
     "text": [
      "\rMorphologyExtractor transform:  43%|████▎     | 45316/105746 [00:00<00:01, 58201.52it/s]"
     ]
    },
    {
     "name": "stderr",
     "output_type": "stream",
     "text": [
      "\rMorphologyExtractor transform:  49%|████▊     | 51454/105746 [00:00<00:00, 59114.47it/s]"
     ]
    },
    {
     "name": "stderr",
     "output_type": "stream",
     "text": [
      "\rMorphologyExtractor transform:  55%|█████▍    | 57648/105746 [00:01<00:00, 59881.70it/s]"
     ]
    },
    {
     "name": "stderr",
     "output_type": "stream",
     "text": [
      "\rMorphologyExtractor transform:  60%|██████    | 63593/105746 [00:01<00:00, 59751.33it/s]"
     ]
    },
    {
     "name": "stderr",
     "output_type": "stream",
     "text": [
      "\rMorphologyExtractor transform:  66%|██████▌   | 69877/105746 [00:01<00:00, 60625.42it/s]"
     ]
    },
    {
     "name": "stderr",
     "output_type": "stream",
     "text": [
      "\rMorphologyExtractor transform:  72%|███████▏  | 75890/105746 [00:01<00:00, 59947.38it/s]"
     ]
    },
    {
     "name": "stderr",
     "output_type": "stream",
     "text": [
      "\rMorphologyExtractor transform:  78%|███████▊  | 82000/105746 [00:01<00:00, 60288.38it/s]"
     ]
    },
    {
     "name": "stderr",
     "output_type": "stream",
     "text": [
      "\rMorphologyExtractor transform:  83%|████████▎ | 88007/105746 [00:01<00:00, 59784.50it/s]"
     ]
    },
    {
     "name": "stderr",
     "output_type": "stream",
     "text": [
      "\rMorphologyExtractor transform:  89%|████████▉ | 94044/105746 [00:01<00:00, 59955.05it/s]"
     ]
    },
    {
     "name": "stderr",
     "output_type": "stream",
     "text": [
      "\rMorphologyExtractor transform:  95%|█████████▌| 100770/105746 [00:01<00:00, 61957.35it/s]"
     ]
    },
    {
     "name": "stderr",
     "output_type": "stream",
     "text": [
      "\rMorphologyExtractor transform: 100%|██████████| 105746/105746 [00:01<00:00, 59059.01it/s]"
     ]
    },
    {
     "name": "stderr",
     "output_type": "stream",
     "text": [
      "\n"
     ]
    },
    {
     "name": "stderr",
     "output_type": "stream",
     "text": [
      "\rDigitTransformer transform:   0%|          | 0/105746 [00:00<?, ?it/s]"
     ]
    },
    {
     "name": "stderr",
     "output_type": "stream",
     "text": [
      "\rDigitTransformer transform:  69%|██████▉   | 73472/105746 [00:00<00:00, 734713.69it/s]"
     ]
    },
    {
     "name": "stderr",
     "output_type": "stream",
     "text": [
      "\rDigitTransformer transform: 100%|██████████| 105746/105746 [00:00<00:00, 718994.01it/s]"
     ]
    },
    {
     "name": "stderr",
     "output_type": "stream",
     "text": [
      "\n"
     ]
    },
    {
     "name": "stderr",
     "output_type": "stream",
     "text": [
      "\rDictClassTransformer_TRANS pre transform:   0%|          | 0/129409 [00:00<?, ?it/s]"
     ]
    },
    {
     "name": "stderr",
     "output_type": "stream",
     "text": [
      "\rDictClassTransformer_TRANS pre transform:  11%|█         | 13608/129409 [00:00<00:00, 136077.53it/s]"
     ]
    },
    {
     "name": "stderr",
     "output_type": "stream",
     "text": [
      "\rDictClassTransformer_TRANS pre transform:  21%|██        | 27425/129409 [00:00<00:00, 136697.76it/s]"
     ]
    },
    {
     "name": "stderr",
     "output_type": "stream",
     "text": [
      "\rDictClassTransformer_TRANS pre transform:  32%|███▏      | 41900/129409 [00:00<00:00, 139013.32it/s]"
     ]
    },
    {
     "name": "stderr",
     "output_type": "stream",
     "text": [
      "\rDictClassTransformer_TRANS pre transform:  43%|████▎     | 55777/129409 [00:00<00:00, 138939.38it/s]"
     ]
    },
    {
     "name": "stderr",
     "output_type": "stream",
     "text": [
      "\rDictClassTransformer_TRANS pre transform:  54%|█████▍    | 70304/129409 [00:00<00:00, 140777.85it/s]"
     ]
    },
    {
     "name": "stderr",
     "output_type": "stream",
     "text": [
      "\rDictClassTransformer_TRANS pre transform:  66%|██████▌   | 84855/129409 [00:00<00:00, 142164.01it/s]"
     ]
    },
    {
     "name": "stderr",
     "output_type": "stream",
     "text": [
      "\rDictClassTransformer_TRANS pre transform:  76%|███████▋  | 98694/129409 [00:00<00:00, 141008.15it/s]"
     ]
    },
    {
     "name": "stderr",
     "output_type": "stream",
     "text": [
      "\rDictClassTransformer_TRANS pre transform:  88%|████████▊ | 113255/129409 [00:00<00:00, 142357.41it/s]"
     ]
    },
    {
     "name": "stderr",
     "output_type": "stream",
     "text": [
      "\rDictClassTransformer_TRANS pre transform:  99%|█████████▉| 128023/129409 [00:00<00:00, 143908.49it/s]"
     ]
    },
    {
     "name": "stderr",
     "output_type": "stream",
     "text": [
      "\rDictClassTransformer_TRANS pre transform: 100%|██████████| 129409/129409 [00:00<00:00, 141862.69it/s]"
     ]
    },
    {
     "name": "stderr",
     "output_type": "stream",
     "text": [
      "\n\rDictClassTransformer_TRANS transform:   0%|          | 0/105746 [00:00<?, ?it/s]"
     ]
    },
    {
     "name": "stderr",
     "output_type": "stream",
     "text": [
      "\rDictClassTransformer_TRANS transform:  77%|███████▋  | 81753/105746 [00:00<00:00, 817522.98it/s]"
     ]
    },
    {
     "name": "stderr",
     "output_type": "stream",
     "text": [
      "\rDictClassTransformer_TRANS transform: 100%|██████████| 105746/105746 [00:00<00:00, 803077.50it/s]"
     ]
    },
    {
     "name": "stderr",
     "output_type": "stream",
     "text": [
      "\n"
     ]
    },
    {
     "name": "stderr",
     "output_type": "stream",
     "text": [
      "\rDashTransformer transform:   0%|          | 0/105746 [00:00<?, ?it/s]"
     ]
    },
    {
     "name": "stderr",
     "output_type": "stream",
     "text": [
      "\rDashTransformer transform:  67%|██████▋   | 71134/105746 [00:00<00:00, 711320.33it/s]"
     ]
    },
    {
     "name": "stderr",
     "output_type": "stream",
     "text": [
      "\rDashTransformer transform: 100%|██████████| 105746/105746 [00:00<00:00, 733096.76it/s]"
     ]
    },
    {
     "name": "stderr",
     "output_type": "stream",
     "text": [
      "\n"
     ]
    },
    {
     "name": "stderr",
     "output_type": "stream",
     "text": [
      "\rDictClassTransformer_PUNCT pre transform:   0%|          | 0/22 [00:00<?, ?it/s]"
     ]
    },
    {
     "name": "stderr",
     "output_type": "stream",
     "text": [
      "\rDictClassTransformer_PUNCT pre transform: 100%|██████████| 22/22 [00:00<00:00, 29108.73it/s]"
     ]
    },
    {
     "name": "stderr",
     "output_type": "stream",
     "text": [
      "\n\rDictClassTransformer_PUNCT transform:   0%|          | 0/105746 [00:00<?, ?it/s]"
     ]
    },
    {
     "name": "stderr",
     "output_type": "stream",
     "text": [
      "\rDictClassTransformer_PUNCT transform:  66%|██████▌   | 69508/105746 [00:00<00:00, 695072.38it/s]"
     ]
    },
    {
     "name": "stderr",
     "output_type": "stream",
     "text": [
      "\rDictClassTransformer_PUNCT transform: 100%|██████████| 105746/105746 [00:00<00:00, 765365.56it/s]"
     ]
    },
    {
     "name": "stderr",
     "output_type": "stream",
     "text": [
      "\n"
     ]
    },
    {
     "name": "stderr",
     "output_type": "stream",
     "text": [
      "\rDictClassTransformer_VERBATIM pre transform:   0%|          | 0/2496 [00:00<?, ?it/s]"
     ]
    },
    {
     "name": "stderr",
     "output_type": "stream",
     "text": [
      "\rDictClassTransformer_VERBATIM pre transform: 100%|██████████| 2496/2496 [00:00<00:00, 142442.89it/s]"
     ]
    },
    {
     "name": "stderr",
     "output_type": "stream",
     "text": [
      "\n\rDictClassTransformer_VERBATIM transform:   0%|          | 0/105746 [00:00<?, ?it/s]"
     ]
    },
    {
     "name": "stderr",
     "output_type": "stream",
     "text": [
      "\rDictClassTransformer_VERBATIM transform:  66%|██████▋   | 70135/105746 [00:00<00:00, 701343.98it/s]"
     ]
    },
    {
     "name": "stderr",
     "output_type": "stream",
     "text": [
      "\rDictClassTransformer_VERBATIM transform: 100%|██████████| 105746/105746 [00:00<00:00, 784466.12it/s]"
     ]
    },
    {
     "name": "stderr",
     "output_type": "stream",
     "text": [
      "\n"
     ]
    },
    {
     "name": "stderr",
     "output_type": "stream",
     "text": [
      "\rLatinTransliterator transform:   0%|          | 0/105746 [00:00<?, ?it/s]"
     ]
    },
    {
     "name": "stderr",
     "output_type": "stream",
     "text": [
      "\rLatinTransliterator transform:  91%|█████████ | 95728/105746 [00:00<00:00, 957278.63it/s]"
     ]
    },
    {
     "name": "stderr",
     "output_type": "stream",
     "text": [
      "\rLatinTransliterator transform: 100%|██████████| 105746/105746 [00:00<00:00, 953466.90it/s]"
     ]
    },
    {
     "name": "stderr",
     "output_type": "stream",
     "text": [
      "\n"
     ]
    },
    {
     "name": "stderr",
     "output_type": "stream",
     "text": [
      "\rMorphologyExtractor transform:   0%|          | 0/105746 [00:00<?, ?it/s]"
     ]
    },
    {
     "name": "stderr",
     "output_type": "stream",
     "text": [
      "\rMorphologyExtractor transform:   1%|          | 1219/105746 [00:00<00:08, 12164.84it/s]"
     ]
    },
    {
     "name": "stderr",
     "output_type": "stream",
     "text": [
      "\rMorphologyExtractor transform:   3%|▎         | 3389/105746 [00:00<00:07, 14007.48it/s]"
     ]
    },
    {
     "name": "stderr",
     "output_type": "stream",
     "text": [
      "\rMorphologyExtractor transform:   5%|▌         | 5727/105746 [00:00<00:06, 15919.98it/s]"
     ]
    },
    {
     "name": "stderr",
     "output_type": "stream",
     "text": [
      "\rMorphologyExtractor transform:   8%|▊         | 8427/105746 [00:00<00:05, 18154.71it/s]"
     ]
    },
    {
     "name": "stderr",
     "output_type": "stream",
     "text": [
      "\rMorphologyExtractor transform:  11%|█         | 11578/105746 [00:00<00:04, 20798.31it/s]"
     ]
    },
    {
     "name": "stderr",
     "output_type": "stream",
     "text": [
      "\rMorphologyExtractor transform:  14%|█▎        | 14359/105746 [00:00<00:04, 22497.31it/s]"
     ]
    },
    {
     "name": "stderr",
     "output_type": "stream",
     "text": [
      "\rMorphologyExtractor transform:  16%|█▌        | 16974/105746 [00:00<00:03, 23481.09it/s]"
     ]
    },
    {
     "name": "stderr",
     "output_type": "stream",
     "text": [
      "\rMorphologyExtractor transform:  19%|█▉        | 20157/105746 [00:00<00:03, 25484.97it/s]"
     ]
    },
    {
     "name": "stderr",
     "output_type": "stream",
     "text": [
      "\rMorphologyExtractor transform:  22%|██▏       | 23353/105746 [00:00<00:03, 27132.57it/s]"
     ]
    },
    {
     "name": "stderr",
     "output_type": "stream",
     "text": [
      "\rMorphologyExtractor transform:  26%|██▌       | 27101/105746 [00:01<00:02, 29580.89it/s]"
     ]
    },
    {
     "name": "stderr",
     "output_type": "stream",
     "text": [
      "\rMorphologyExtractor transform:  29%|██▉       | 30442/105746 [00:01<00:02, 30634.09it/s]"
     ]
    },
    {
     "name": "stderr",
     "output_type": "stream",
     "text": [
      "\rMorphologyExtractor transform:  32%|███▏      | 33612/105746 [00:01<00:02, 30577.06it/s]"
     ]
    },
    {
     "name": "stderr",
     "output_type": "stream",
     "text": [
      "\rMorphologyExtractor transform:  35%|███▍      | 36745/105746 [00:01<00:02, 30065.39it/s]"
     ]
    },
    {
     "name": "stderr",
     "output_type": "stream",
     "text": [
      "\rMorphologyExtractor transform:  39%|███▊      | 40801/105746 [00:01<00:01, 32591.21it/s]"
     ]
    },
    {
     "name": "stderr",
     "output_type": "stream",
     "text": [
      "\rMorphologyExtractor transform:  42%|████▏     | 44828/105746 [00:01<00:01, 34560.78it/s]"
     ]
    },
    {
     "name": "stderr",
     "output_type": "stream",
     "text": [
      "\rMorphologyExtractor transform:  46%|████▋     | 48932/105746 [00:01<00:01, 36275.99it/s]"
     ]
    },
    {
     "name": "stderr",
     "output_type": "stream",
     "text": [
      "\rMorphologyExtractor transform:  50%|█████     | 52919/105746 [00:01<00:01, 37280.94it/s]"
     ]
    },
    {
     "name": "stderr",
     "output_type": "stream",
     "text": [
      "\rMorphologyExtractor transform:  54%|█████▍    | 57363/105746 [00:01<00:01, 39165.46it/s]"
     ]
    },
    {
     "name": "stderr",
     "output_type": "stream",
     "text": [
      "\rMorphologyExtractor transform:  58%|█████▊    | 61356/105746 [00:01<00:01, 39056.32it/s]"
     ]
    },
    {
     "name": "stderr",
     "output_type": "stream",
     "text": [
      "\rMorphologyExtractor transform:  62%|██████▏   | 65543/105746 [00:02<00:01, 39859.07it/s]"
     ]
    },
    {
     "name": "stderr",
     "output_type": "stream",
     "text": [
      "\rMorphologyExtractor transform:  66%|██████▌   | 69748/105746 [00:02<00:00, 40481.50it/s]"
     ]
    },
    {
     "name": "stderr",
     "output_type": "stream",
     "text": [
      "\rMorphologyExtractor transform:  70%|███████   | 74247/105746 [00:02<00:00, 41727.41it/s]"
     ]
    },
    {
     "name": "stderr",
     "output_type": "stream",
     "text": [
      "\rMorphologyExtractor transform:  74%|███████▍  | 78764/105746 [00:02<00:00, 42699.56it/s]"
     ]
    },
    {
     "name": "stderr",
     "output_type": "stream",
     "text": [
      "\rMorphologyExtractor transform:  79%|███████▊  | 83062/105746 [00:02<00:00, 42465.89it/s]"
     ]
    },
    {
     "name": "stderr",
     "output_type": "stream",
     "text": [
      "\rMorphologyExtractor transform:  83%|████████▎ | 87619/105746 [00:02<00:00, 43351.42it/s]"
     ]
    },
    {
     "name": "stderr",
     "output_type": "stream",
     "text": [
      "\rMorphologyExtractor transform:  87%|████████▋ | 92040/105746 [00:02<00:00, 43603.30it/s]"
     ]
    },
    {
     "name": "stderr",
     "output_type": "stream",
     "text": [
      "\rMorphologyExtractor transform:  91%|█████████ | 96457/105746 [00:02<00:00, 43769.46it/s]"
     ]
    },
    {
     "name": "stderr",
     "output_type": "stream",
     "text": [
      "\rMorphologyExtractor transform:  96%|█████████▌| 101299/105746 [00:02<00:00, 45064.90it/s]"
     ]
    },
    {
     "name": "stderr",
     "output_type": "stream",
     "text": [
      "\rMorphologyExtractor transform: 100%|██████████| 105746/105746 [00:02<00:00, 36284.91it/s]"
     ]
    },
    {
     "name": "stderr",
     "output_type": "stream",
     "text": [
      "\n\rMorphologyExtractor transform:   0%|          | 0/105746 [00:00<?, ?it/s]"
     ]
    },
    {
     "name": "stderr",
     "output_type": "stream",
     "text": [
      "\rMorphologyExtractor transform:   4%|▍         | 3993/105746 [00:00<00:02, 39926.80it/s]"
     ]
    },
    {
     "name": "stderr",
     "output_type": "stream",
     "text": [
      "\rMorphologyExtractor transform:   7%|▋         | 7163/105746 [00:00<00:02, 36860.33it/s]"
     ]
    },
    {
     "name": "stderr",
     "output_type": "stream",
     "text": [
      "\rMorphologyExtractor transform:  11%|█         | 11469/105746 [00:00<00:02, 38522.13it/s]"
     ]
    },
    {
     "name": "stderr",
     "output_type": "stream",
     "text": [
      "\rMorphologyExtractor transform:  15%|█▌        | 16074/105746 [00:00<00:02, 40503.07it/s]"
     ]
    },
    {
     "name": "stderr",
     "output_type": "stream",
     "text": [
      "\rMorphologyExtractor transform:  19%|█▉        | 20441/105746 [00:00<00:02, 41400.91it/s]"
     ]
    },
    {
     "name": "stderr",
     "output_type": "stream",
     "text": [
      "\rMorphologyExtractor transform:  24%|██▍       | 25384/105746 [00:00<00:01, 43517.46it/s]"
     ]
    },
    {
     "name": "stderr",
     "output_type": "stream",
     "text": [
      "\rMorphologyExtractor transform:  28%|██▊       | 30096/105746 [00:00<00:01, 44537.41it/s]"
     ]
    },
    {
     "name": "stderr",
     "output_type": "stream",
     "text": [
      "\rMorphologyExtractor transform:  33%|███▎      | 35331/105746 [00:00<00:01, 46622.26it/s]"
     ]
    },
    {
     "name": "stderr",
     "output_type": "stream",
     "text": [
      "\rMorphologyExtractor transform:  38%|███▊      | 40385/105746 [00:00<00:01, 47732.14it/s]"
     ]
    },
    {
     "name": "stderr",
     "output_type": "stream",
     "text": [
      "\rMorphologyExtractor transform:  43%|████▎     | 45062/105746 [00:01<00:01, 47432.26it/s]"
     ]
    },
    {
     "name": "stderr",
     "output_type": "stream",
     "text": [
      "\rMorphologyExtractor transform:  47%|████▋     | 49753/105746 [00:01<00:01, 47269.54it/s]"
     ]
    },
    {
     "name": "stderr",
     "output_type": "stream",
     "text": [
      "\rMorphologyExtractor transform:  52%|█████▏    | 54851/105746 [00:01<00:01, 48323.47it/s]"
     ]
    },
    {
     "name": "stderr",
     "output_type": "stream",
     "text": [
      "\rMorphologyExtractor transform:  57%|█████▋    | 60268/105746 [00:01<00:00, 49936.05it/s]"
     ]
    },
    {
     "name": "stderr",
     "output_type": "stream",
     "text": [
      "\rMorphologyExtractor transform:  62%|██████▏   | 65356/105746 [00:01<00:00, 50181.51it/s]"
     ]
    },
    {
     "name": "stderr",
     "output_type": "stream",
     "text": [
      "\rMorphologyExtractor transform:  67%|██████▋   | 70369/105746 [00:01<00:00, 50071.80it/s]"
     ]
    },
    {
     "name": "stderr",
     "output_type": "stream",
     "text": [
      "\rMorphologyExtractor transform:  71%|███████▏  | 75607/105746 [00:01<00:00, 50742.31it/s]"
     ]
    },
    {
     "name": "stderr",
     "output_type": "stream",
     "text": [
      "\rMorphologyExtractor transform:  77%|███████▋  | 81357/105746 [00:01<00:00, 52590.39it/s]"
     ]
    },
    {
     "name": "stderr",
     "output_type": "stream",
     "text": [
      "\rMorphologyExtractor transform:  82%|████████▏ | 86633/105746 [00:01<00:00, 51737.10it/s]"
     ]
    },
    {
     "name": "stderr",
     "output_type": "stream",
     "text": [
      "\rMorphologyExtractor transform:  87%|████████▋ | 91993/105746 [00:01<00:00, 52280.57it/s]"
     ]
    },
    {
     "name": "stderr",
     "output_type": "stream",
     "text": [
      "\rMorphologyExtractor transform:  92%|█████████▏| 97302/105746 [00:02<00:00, 52517.21it/s]"
     ]
    },
    {
     "name": "stderr",
     "output_type": "stream",
     "text": [
      "\rMorphologyExtractor transform:  97%|█████████▋| 102563/105746 [00:02<00:00, 51934.57it/s]"
     ]
    },
    {
     "name": "stderr",
     "output_type": "stream",
     "text": [
      "\rMorphologyExtractor transform: 100%|██████████| 105746/105746 [00:02<00:00, 48688.11it/s]"
     ]
    },
    {
     "name": "stderr",
     "output_type": "stream",
     "text": [
      "\n\rMorphologyExtractor transform:   0%|          | 0/105746 [00:00<?, ?it/s]"
     ]
    },
    {
     "name": "stderr",
     "output_type": "stream",
     "text": [
      "\rMorphologyExtractor transform:   4%|▍         | 4610/105746 [00:00<00:02, 46054.80it/s]"
     ]
    },
    {
     "name": "stderr",
     "output_type": "stream",
     "text": [
      "\rMorphologyExtractor transform:   9%|▉         | 9492/105746 [00:00<00:02, 46843.62it/s]"
     ]
    },
    {
     "name": "stderr",
     "output_type": "stream",
     "text": [
      "\rMorphologyExtractor transform:  14%|█▍        | 14997/105746 [00:00<00:01, 49032.03it/s]"
     ]
    },
    {
     "name": "stderr",
     "output_type": "stream",
     "text": [
      "\rMorphologyExtractor transform:  19%|█▉        | 20421/105746 [00:00<00:01, 50477.43it/s]"
     ]
    },
    {
     "name": "stderr",
     "output_type": "stream",
     "text": [
      "\rMorphologyExtractor transform:  24%|██▍       | 25569/105746 [00:00<00:01, 50767.29it/s]"
     ]
    },
    {
     "name": "stderr",
     "output_type": "stream",
     "text": [
      "\rMorphologyExtractor transform:  29%|██▉       | 31092/105746 [00:00<00:01, 52025.42it/s]"
     ]
    },
    {
     "name": "stderr",
     "output_type": "stream",
     "text": [
      "\rMorphologyExtractor transform:  35%|███▌      | 37061/105746 [00:00<00:01, 54107.47it/s]"
     ]
    },
    {
     "name": "stderr",
     "output_type": "stream",
     "text": [
      "\rMorphologyExtractor transform:  41%|████      | 43457/105746 [00:00<00:01, 56675.36it/s]"
     ]
    },
    {
     "name": "stderr",
     "output_type": "stream",
     "text": [
      "\rMorphologyExtractor transform:  47%|████▋     | 49496/105746 [00:00<00:00, 57734.92it/s]"
     ]
    },
    {
     "name": "stderr",
     "output_type": "stream",
     "text": [
      "\rMorphologyExtractor transform:  52%|█████▏    | 55254/105746 [00:01<00:00, 57685.57it/s]"
     ]
    },
    {
     "name": "stderr",
     "output_type": "stream",
     "text": [
      "\rMorphologyExtractor transform:  58%|█████▊    | 61143/105746 [00:01<00:00, 58017.00it/s]"
     ]
    },
    {
     "name": "stderr",
     "output_type": "stream",
     "text": [
      "\rMorphologyExtractor transform:  63%|██████▎   | 66877/105746 [00:01<00:00, 56257.41it/s]"
     ]
    },
    {
     "name": "stderr",
     "output_type": "stream",
     "text": [
      "\rMorphologyExtractor transform:  69%|██████▉   | 72870/105746 [00:01<00:00, 57298.20it/s]"
     ]
    },
    {
     "name": "stderr",
     "output_type": "stream",
     "text": [
      "\rMorphologyExtractor transform:  75%|███████▍  | 78897/105746 [00:01<00:00, 58153.30it/s]"
     ]
    },
    {
     "name": "stderr",
     "output_type": "stream",
     "text": [
      "\rMorphologyExtractor transform:  80%|████████  | 84919/105746 [00:01<00:00, 58754.47it/s]"
     ]
    },
    {
     "name": "stderr",
     "output_type": "stream",
     "text": [
      "\rMorphologyExtractor transform:  86%|████████▌ | 90896/105746 [00:01<00:00, 59045.69it/s]"
     ]
    },
    {
     "name": "stderr",
     "output_type": "stream",
     "text": [
      "\rMorphologyExtractor transform:  92%|█████████▏| 96966/105746 [00:01<00:00, 59531.70it/s]"
     ]
    },
    {
     "name": "stderr",
     "output_type": "stream",
     "text": [
      "\rMorphologyExtractor transform:  98%|█████████▊| 103319/105746 [00:01<00:00, 60669.18it/s]"
     ]
    },
    {
     "name": "stderr",
     "output_type": "stream",
     "text": [
      "\rMorphologyExtractor transform: 100%|██████████| 105746/105746 [00:01<00:00, 57174.25it/s]"
     ]
    },
    {
     "name": "stderr",
     "output_type": "stream",
     "text": [
      "\n"
     ]
    },
    {
     "name": "stderr",
     "output_type": "stream",
     "text": [
      "\rRomeTransformer transform:   0%|          | 0/105746 [00:00<?, ?it/s]"
     ]
    },
    {
     "name": "stderr",
     "output_type": "stream",
     "text": [
      "\rRomeTransformer transform:  58%|█████▊    | 61306/105746 [00:00<00:00, 613059.12it/s]"
     ]
    },
    {
     "name": "stderr",
     "output_type": "stream",
     "text": [
      "\rRomeTransformer transform: 100%|██████████| 105746/105746 [00:00<00:00, 569086.78it/s]"
     ]
    },
    {
     "name": "stderr",
     "output_type": "stream",
     "text": [
      "\n"
     ]
    },
    {
     "name": "stderr",
     "output_type": "stream",
     "text": [
      "\rDictNBHDTransformer pre transform:   0%|          | 0/7640906 [00:00<?, ?it/s]"
     ]
    },
    {
     "name": "stderr",
     "output_type": "stream",
     "text": [
      "\rDictNBHDTransformer pre transform:   0%|          | 25868/7640906 [00:00<00:29, 258677.16it/s]"
     ]
    },
    {
     "name": "stderr",
     "output_type": "stream",
     "text": [
      "\rDictNBHDTransformer pre transform:   1%|          | 51090/7640906 [00:00<00:29, 256692.93it/s]"
     ]
    },
    {
     "name": "stderr",
     "output_type": "stream",
     "text": [
      "\rDictNBHDTransformer pre transform:   1%|          | 77090/7640906 [00:00<00:29, 257672.60it/s]"
     ]
    },
    {
     "name": "stderr",
     "output_type": "stream",
     "text": [
      "\rDictNBHDTransformer pre transform:   1%|▏         | 102613/7640906 [00:00<00:29, 256934.82it/s]"
     ]
    },
    {
     "name": "stderr",
     "output_type": "stream",
     "text": [
      "\rDictNBHDTransformer pre transform:   2%|▏         | 129893/7640906 [00:00<00:28, 261492.58it/s]"
     ]
    },
    {
     "name": "stderr",
     "output_type": "stream",
     "text": [
      "\rDictNBHDTransformer pre transform:   2%|▏         | 159244/7640906 [00:00<00:27, 270251.84it/s]"
     ]
    },
    {
     "name": "stderr",
     "output_type": "stream",
     "text": [
      "\rDictNBHDTransformer pre transform:   2%|▏         | 183761/7640906 [00:00<00:28, 261848.43it/s]"
     ]
    },
    {
     "name": "stderr",
     "output_type": "stream",
     "text": [
      "\rDictNBHDTransformer pre transform:   3%|▎         | 207935/7640906 [00:00<00:29, 255062.41it/s]"
     ]
    },
    {
     "name": "stderr",
     "output_type": "stream",
     "text": [
      "\rDictNBHDTransformer pre transform:   3%|▎         | 240114/7640906 [00:00<00:27, 271977.32it/s]"
     ]
    },
    {
     "name": "stderr",
     "output_type": "stream",
     "text": [
      "\rDictNBHDTransformer pre transform:   4%|▎         | 269351/7640906 [00:01<00:26, 277786.91it/s]"
     ]
    },
    {
     "name": "stderr",
     "output_type": "stream",
     "text": [
      "\rDictNBHDTransformer pre transform:   4%|▍         | 299092/7640906 [00:01<00:25, 283394.79it/s]"
     ]
    },
    {
     "name": "stderr",
     "output_type": "stream",
     "text": [
      "\rDictNBHDTransformer pre transform:   4%|▍         | 330020/7640906 [00:01<00:25, 290692.98it/s]"
     ]
    },
    {
     "name": "stderr",
     "output_type": "stream",
     "text": [
      "\rDictNBHDTransformer pre transform:   5%|▍         | 358948/7640906 [00:01<00:26, 275490.41it/s]"
     ]
    },
    {
     "name": "stderr",
     "output_type": "stream",
     "text": [
      "\rDictNBHDTransformer pre transform:   5%|▌         | 390477/7640906 [00:01<00:25, 286333.61it/s]"
     ]
    },
    {
     "name": "stderr",
     "output_type": "stream",
     "text": [
      "\rDictNBHDTransformer pre transform:   6%|▌         | 422922/7640906 [00:01<00:24, 296792.14it/s]"
     ]
    },
    {
     "name": "stderr",
     "output_type": "stream",
     "text": [
      "\rDictNBHDTransformer pre transform:   6%|▌         | 455420/7640906 [00:01<00:23, 304717.34it/s]"
     ]
    },
    {
     "name": "stderr",
     "output_type": "stream",
     "text": [
      "\rDictNBHDTransformer pre transform:   6%|▋         | 488869/7640906 [00:01<00:22, 313070.32it/s]"
     ]
    },
    {
     "name": "stderr",
     "output_type": "stream",
     "text": [
      "\rDictNBHDTransformer pre transform:   7%|▋         | 522926/7640906 [00:01<00:22, 320841.35it/s]"
     ]
    },
    {
     "name": "stderr",
     "output_type": "stream",
     "text": [
      "\rDictNBHDTransformer pre transform:   7%|▋         | 557015/7640906 [00:01<00:21, 326601.06it/s]"
     ]
    },
    {
     "name": "stderr",
     "output_type": "stream",
     "text": [
      "\rDictNBHDTransformer pre transform:   8%|▊         | 589830/7640906 [00:02<00:21, 324042.05it/s]"
     ]
    },
    {
     "name": "stderr",
     "output_type": "stream",
     "text": [
      "\rDictNBHDTransformer pre transform:   8%|▊         | 622347/7640906 [00:02<00:22, 316367.07it/s]"
     ]
    },
    {
     "name": "stderr",
     "output_type": "stream",
     "text": [
      "\rDictNBHDTransformer pre transform:   9%|▊         | 655723/7640906 [00:02<00:21, 321389.68it/s]"
     ]
    },
    {
     "name": "stderr",
     "output_type": "stream",
     "text": [
      "\rDictNBHDTransformer pre transform:   9%|▉         | 687965/7640906 [00:02<00:21, 320709.43it/s]"
     ]
    },
    {
     "name": "stderr",
     "output_type": "stream",
     "text": [
      "\rDictNBHDTransformer pre transform:   9%|▉         | 720109/7640906 [00:02<00:24, 281972.38it/s]"
     ]
    },
    {
     "name": "stderr",
     "output_type": "stream",
     "text": [
      "\rDictNBHDTransformer pre transform:  10%|▉         | 753884/7640906 [00:02<00:23, 296666.60it/s]"
     ]
    },
    {
     "name": "stderr",
     "output_type": "stream",
     "text": [
      "\rDictNBHDTransformer pre transform:  10%|█         | 787305/7640906 [00:02<00:22, 307006.10it/s]"
     ]
    },
    {
     "name": "stderr",
     "output_type": "stream",
     "text": [
      "\rDictNBHDTransformer pre transform:  11%|█         | 821157/7640906 [00:02<00:21, 315819.40it/s]"
     ]
    },
    {
     "name": "stderr",
     "output_type": "stream",
     "text": [
      "\rDictNBHDTransformer pre transform:  11%|█         | 855306/7640906 [00:02<00:21, 323104.11it/s]"
     ]
    },
    {
     "name": "stderr",
     "output_type": "stream",
     "text": [
      "\rDictNBHDTransformer pre transform:  12%|█▏        | 890479/7640906 [00:02<00:20, 331188.69it/s]"
     ]
    },
    {
     "name": "stderr",
     "output_type": "stream",
     "text": [
      "\rDictNBHDTransformer pre transform:  12%|█▏        | 925198/7640906 [00:03<00:19, 335830.98it/s]"
     ]
    },
    {
     "name": "stderr",
     "output_type": "stream",
     "text": [
      "\rDictNBHDTransformer pre transform:  13%|█▎        | 959037/7640906 [00:03<00:20, 333825.18it/s]"
     ]
    },
    {
     "name": "stderr",
     "output_type": "stream",
     "text": [
      "\rDictNBHDTransformer pre transform:  13%|█▎        | 993171/7640906 [00:03<00:19, 336034.81it/s]"
     ]
    },
    {
     "name": "stderr",
     "output_type": "stream",
     "text": [
      "\rDictNBHDTransformer pre transform:  13%|█▎        | 1027423/7640906 [00:03<00:19, 337953.33it/s]"
     ]
    },
    {
     "name": "stderr",
     "output_type": "stream",
     "text": [
      "\rDictNBHDTransformer pre transform:  14%|█▍        | 1061558/7640906 [00:03<00:19, 338960.26it/s]"
     ]
    },
    {
     "name": "stderr",
     "output_type": "stream",
     "text": [
      "\rDictNBHDTransformer pre transform:  14%|█▍        | 1095624/7640906 [00:03<00:19, 339462.44it/s]"
     ]
    },
    {
     "name": "stderr",
     "output_type": "stream",
     "text": [
      "\rDictNBHDTransformer pre transform:  15%|█▍        | 1130123/7640906 [00:03<00:19, 341101.88it/s]"
     ]
    },
    {
     "name": "stderr",
     "output_type": "stream",
     "text": [
      "\rDictNBHDTransformer pre transform:  15%|█▌        | 1164367/7640906 [00:03<00:18, 341501.34it/s]"
     ]
    },
    {
     "name": "stderr",
     "output_type": "stream",
     "text": [
      "\rDictNBHDTransformer pre transform:  16%|█▌        | 1199008/7640906 [00:03<00:18, 342959.12it/s]"
     ]
    },
    {
     "name": "stderr",
     "output_type": "stream",
     "text": [
      "\rDictNBHDTransformer pre transform:  16%|█▌        | 1234172/7640906 [00:03<00:18, 345517.90it/s]"
     ]
    },
    {
     "name": "stderr",
     "output_type": "stream",
     "text": [
      "\rDictNBHDTransformer pre transform:  17%|█▋        | 1268742/7640906 [00:04<00:18, 341825.67it/s]"
     ]
    },
    {
     "name": "stderr",
     "output_type": "stream",
     "text": [
      "\rDictNBHDTransformer pre transform:  17%|█▋        | 1304276/7640906 [00:04<00:18, 345767.76it/s]"
     ]
    },
    {
     "name": "stderr",
     "output_type": "stream",
     "text": [
      "\rDictNBHDTransformer pre transform:  18%|█▊        | 1339223/7640906 [00:04<00:18, 346864.85it/s]"
     ]
    },
    {
     "name": "stderr",
     "output_type": "stream",
     "text": [
      "\rDictNBHDTransformer pre transform:  18%|█▊        | 1374446/7640906 [00:04<00:17, 348456.02it/s]"
     ]
    },
    {
     "name": "stderr",
     "output_type": "stream",
     "text": [
      "\rDictNBHDTransformer pre transform:  18%|█▊        | 1409307/7640906 [00:04<00:23, 264083.80it/s]"
     ]
    },
    {
     "name": "stderr",
     "output_type": "stream",
     "text": [
      "\rDictNBHDTransformer pre transform:  19%|█▉        | 1444991/7640906 [00:04<00:21, 286416.58it/s]"
     ]
    },
    {
     "name": "stderr",
     "output_type": "stream",
     "text": [
      "\rDictNBHDTransformer pre transform:  19%|█▉        | 1481387/7640906 [00:04<00:20, 305971.72it/s]"
     ]
    },
    {
     "name": "stderr",
     "output_type": "stream",
     "text": [
      "\rDictNBHDTransformer pre transform:  20%|█▉        | 1517040/7640906 [00:04<00:19, 319566.59it/s]"
     ]
    },
    {
     "name": "stderr",
     "output_type": "stream",
     "text": [
      "\rDictNBHDTransformer pre transform:  20%|██        | 1553198/7640906 [00:04<00:18, 331104.83it/s]"
     ]
    },
    {
     "name": "stderr",
     "output_type": "stream",
     "text": [
      "\rDictNBHDTransformer pre transform:  21%|██        | 1589692/7640906 [00:05<00:17, 340576.94it/s]"
     ]
    },
    {
     "name": "stderr",
     "output_type": "stream",
     "text": [
      "\rDictNBHDTransformer pre transform:  21%|██▏       | 1624742/7640906 [00:05<00:17, 336915.16it/s]"
     ]
    },
    {
     "name": "stderr",
     "output_type": "stream",
     "text": [
      "\rDictNBHDTransformer pre transform:  22%|██▏       | 1659137/7640906 [00:05<00:18, 315877.28it/s]"
     ]
    },
    {
     "name": "stderr",
     "output_type": "stream",
     "text": [
      "\rDictNBHDTransformer pre transform:  22%|██▏       | 1691485/7640906 [00:05<00:19, 311270.35it/s]"
     ]
    },
    {
     "name": "stderr",
     "output_type": "stream",
     "text": [
      "\rDictNBHDTransformer pre transform:  23%|██▎       | 1728360/7640906 [00:05<00:18, 326540.27it/s]"
     ]
    },
    {
     "name": "stderr",
     "output_type": "stream",
     "text": [
      "\rDictNBHDTransformer pre transform:  23%|██▎       | 1762275/7640906 [00:05<00:17, 330218.89it/s]"
     ]
    },
    {
     "name": "stderr",
     "output_type": "stream",
     "text": [
      "\rDictNBHDTransformer pre transform:  24%|██▎       | 1795714/7640906 [00:05<00:20, 292061.21it/s]"
     ]
    },
    {
     "name": "stderr",
     "output_type": "stream",
     "text": [
      "\rDictNBHDTransformer pre transform:  24%|██▍       | 1830963/7640906 [00:05<00:18, 307893.96it/s]"
     ]
    },
    {
     "name": "stderr",
     "output_type": "stream",
     "text": [
      "\rDictNBHDTransformer pre transform:  24%|██▍       | 1867112/7640906 [00:05<00:17, 322224.59it/s]"
     ]
    },
    {
     "name": "stderr",
     "output_type": "stream",
     "text": [
      "\rDictNBHDTransformer pre transform:  25%|██▍       | 1903697/7640906 [00:06<00:17, 334179.12it/s]"
     ]
    },
    {
     "name": "stderr",
     "output_type": "stream",
     "text": [
      "\rDictNBHDTransformer pre transform:  25%|██▌       | 1941116/7640906 [00:06<00:16, 345252.22it/s]"
     ]
    },
    {
     "name": "stderr",
     "output_type": "stream",
     "text": [
      "\rDictNBHDTransformer pre transform:  26%|██▌       | 1976699/7640906 [00:06<00:16, 348357.07it/s]"
     ]
    },
    {
     "name": "stderr",
     "output_type": "stream",
     "text": [
      "\rDictNBHDTransformer pre transform:  26%|██▋       | 2012265/7640906 [00:06<00:16, 350507.96it/s]"
     ]
    },
    {
     "name": "stderr",
     "output_type": "stream",
     "text": [
      "\rDictNBHDTransformer pre transform:  27%|██▋       | 2047618/7640906 [00:06<00:17, 320956.31it/s]"
     ]
    },
    {
     "name": "stderr",
     "output_type": "stream",
     "text": [
      "\rDictNBHDTransformer pre transform:  27%|██▋       | 2081455/7640906 [00:06<00:17, 325989.14it/s]"
     ]
    },
    {
     "name": "stderr",
     "output_type": "stream",
     "text": [
      "\rDictNBHDTransformer pre transform:  28%|██▊       | 2117726/7640906 [00:06<00:16, 336198.32it/s]"
     ]
    },
    {
     "name": "stderr",
     "output_type": "stream",
     "text": [
      "\rDictNBHDTransformer pre transform:  28%|██▊       | 2154428/7640906 [00:06<00:15, 344882.68it/s]"
     ]
    },
    {
     "name": "stderr",
     "output_type": "stream",
     "text": [
      "\rDictNBHDTransformer pre transform:  29%|██▊       | 2191037/7640906 [00:06<00:15, 350981.46it/s]"
     ]
    },
    {
     "name": "stderr",
     "output_type": "stream",
     "text": [
      "\rDictNBHDTransformer pre transform:  29%|██▉       | 2228555/7640906 [00:07<00:15, 357906.64it/s]"
     ]
    },
    {
     "name": "stderr",
     "output_type": "stream",
     "text": [
      "\rDictNBHDTransformer pre transform:  30%|██▉       | 2264575/7640906 [00:07<00:15, 354592.71it/s]"
     ]
    },
    {
     "name": "stderr",
     "output_type": "stream",
     "text": [
      "\rDictNBHDTransformer pre transform:  30%|███       | 2300202/7640906 [00:07<00:15, 350332.10it/s]"
     ]
    },
    {
     "name": "stderr",
     "output_type": "stream",
     "text": [
      "\rDictNBHDTransformer pre transform:  31%|███       | 2337545/7640906 [00:07<00:14, 356955.63it/s]"
     ]
    },
    {
     "name": "stderr",
     "output_type": "stream",
     "text": [
      "\rDictNBHDTransformer pre transform:  31%|███       | 2374851/7640906 [00:07<00:14, 361637.88it/s]"
     ]
    },
    {
     "name": "stderr",
     "output_type": "stream",
     "text": [
      "\rDictNBHDTransformer pre transform:  32%|███▏      | 2411114/7640906 [00:07<00:15, 336064.89it/s]"
     ]
    },
    {
     "name": "stderr",
     "output_type": "stream",
     "text": [
      "\rDictNBHDTransformer pre transform:  32%|███▏      | 2447952/7640906 [00:07<00:15, 345145.12it/s]"
     ]
    },
    {
     "name": "stderr",
     "output_type": "stream",
     "text": [
      "\rDictNBHDTransformer pre transform:  33%|███▎      | 2486102/7640906 [00:07<00:14, 355293.75it/s]"
     ]
    },
    {
     "name": "stderr",
     "output_type": "stream",
     "text": [
      "\rDictNBHDTransformer pre transform:  33%|███▎      | 2523666/7640906 [00:07<00:14, 361161.48it/s]"
     ]
    },
    {
     "name": "stderr",
     "output_type": "stream",
     "text": [
      "\rDictNBHDTransformer pre transform:  34%|███▎      | 2562171/7640906 [00:07<00:13, 368008.99it/s]"
     ]
    },
    {
     "name": "stderr",
     "output_type": "stream",
     "text": [
      "\rDictNBHDTransformer pre transform:  34%|███▍      | 2599182/7640906 [00:08<00:14, 353436.26it/s]"
     ]
    },
    {
     "name": "stderr",
     "output_type": "stream",
     "text": [
      "\rDictNBHDTransformer pre transform:  34%|███▍      | 2634796/7640906 [00:08<00:14, 349095.84it/s]"
     ]
    },
    {
     "name": "stderr",
     "output_type": "stream",
     "text": [
      "\rDictNBHDTransformer pre transform:  35%|███▍      | 2669907/7640906 [00:08<00:14, 348118.79it/s]"
     ]
    },
    {
     "name": "stderr",
     "output_type": "stream",
     "text": [
      "\rDictNBHDTransformer pre transform:  35%|███▌      | 2705371/7640906 [00:08<00:14, 350045.73it/s]"
     ]
    },
    {
     "name": "stderr",
     "output_type": "stream",
     "text": [
      "\rDictNBHDTransformer pre transform:  36%|███▌      | 2740919/7640906 [00:08<00:13, 351656.34it/s]"
     ]
    },
    {
     "name": "stderr",
     "output_type": "stream",
     "text": [
      "\rDictNBHDTransformer pre transform:  36%|███▋      | 2776211/7640906 [00:08<00:13, 352033.59it/s]"
     ]
    },
    {
     "name": "stderr",
     "output_type": "stream",
     "text": [
      "\rDictNBHDTransformer pre transform:  37%|███▋      | 2811466/7640906 [00:08<00:23, 206886.60it/s]"
     ]
    },
    {
     "name": "stderr",
     "output_type": "stream",
     "text": [
      "\rDictNBHDTransformer pre transform:  37%|███▋      | 2849537/7640906 [00:08<00:19, 239722.01it/s]"
     ]
    },
    {
     "name": "stderr",
     "output_type": "stream",
     "text": [
      "\rDictNBHDTransformer pre transform:  38%|███▊      | 2888869/7640906 [00:09<00:17, 271533.03it/s]"
     ]
    },
    {
     "name": "stderr",
     "output_type": "stream",
     "text": [
      "\rDictNBHDTransformer pre transform:  38%|███▊      | 2927796/7640906 [00:09<00:15, 298629.62it/s]"
     ]
    },
    {
     "name": "stderr",
     "output_type": "stream",
     "text": [
      "\rDictNBHDTransformer pre transform:  39%|███▉      | 2966413/7640906 [00:09<00:14, 320417.16it/s]"
     ]
    },
    {
     "name": "stderr",
     "output_type": "stream",
     "text": [
      "\rDictNBHDTransformer pre transform:  39%|███▉      | 3006007/7640906 [00:09<00:13, 339864.29it/s]"
     ]
    },
    {
     "name": "stderr",
     "output_type": "stream",
     "text": [
      "\rDictNBHDTransformer pre transform:  40%|███▉      | 3047411/7640906 [00:09<00:12, 359167.75it/s]"
     ]
    },
    {
     "name": "stderr",
     "output_type": "stream",
     "text": [
      "\rDictNBHDTransformer pre transform:  40%|████      | 3088744/7640906 [00:09<00:12, 373863.88it/s]"
     ]
    },
    {
     "name": "stderr",
     "output_type": "stream",
     "text": [
      "\rDictNBHDTransformer pre transform:  41%|████      | 3128056/7640906 [00:09<00:12, 374034.21it/s]"
     ]
    },
    {
     "name": "stderr",
     "output_type": "stream",
     "text": [
      "\rDictNBHDTransformer pre transform:  41%|████▏     | 3166808/7640906 [00:09<00:11, 377225.42it/s]"
     ]
    },
    {
     "name": "stderr",
     "output_type": "stream",
     "text": [
      "\rDictNBHDTransformer pre transform:  42%|████▏     | 3207909/7640906 [00:09<00:11, 386761.93it/s]"
     ]
    },
    {
     "name": "stderr",
     "output_type": "stream",
     "text": [
      "\rDictNBHDTransformer pre transform:  43%|████▎     | 3249265/7640906 [00:10<00:11, 394427.15it/s]"
     ]
    },
    {
     "name": "stderr",
     "output_type": "stream",
     "text": [
      "\rDictNBHDTransformer pre transform:  43%|████▎     | 3290281/7640906 [00:10<00:10, 399017.80it/s]"
     ]
    },
    {
     "name": "stderr",
     "output_type": "stream",
     "text": [
      "\rDictNBHDTransformer pre transform:  44%|████▎     | 3331442/7640906 [00:10<00:10, 402713.64it/s]"
     ]
    },
    {
     "name": "stderr",
     "output_type": "stream",
     "text": [
      "\rDictNBHDTransformer pre transform:  44%|████▍     | 3372744/7640906 [00:10<00:10, 405750.11it/s]"
     ]
    },
    {
     "name": "stderr",
     "output_type": "stream",
     "text": [
      "\rDictNBHDTransformer pre transform:  45%|████▍     | 3413524/7640906 [00:10<00:10, 404120.70it/s]"
     ]
    },
    {
     "name": "stderr",
     "output_type": "stream",
     "text": [
      "\rDictNBHDTransformer pre transform:  45%|████▌     | 3454081/7640906 [00:10<00:10, 397635.11it/s]"
     ]
    },
    {
     "name": "stderr",
     "output_type": "stream",
     "text": [
      "\rDictNBHDTransformer pre transform:  46%|████▌     | 3493970/7640906 [00:10<00:10, 397078.80it/s]"
     ]
    },
    {
     "name": "stderr",
     "output_type": "stream",
     "text": [
      "\rDictNBHDTransformer pre transform:  46%|████▋     | 3534869/7640906 [00:10<00:10, 400576.54it/s]"
     ]
    },
    {
     "name": "stderr",
     "output_type": "stream",
     "text": [
      "\rDictNBHDTransformer pre transform:  47%|████▋     | 3574996/7640906 [00:10<00:10, 393604.05it/s]"
     ]
    },
    {
     "name": "stderr",
     "output_type": "stream",
     "text": [
      "\rDictNBHDTransformer pre transform:  47%|████▋     | 3614432/7640906 [00:10<00:10, 391163.43it/s]"
     ]
    },
    {
     "name": "stderr",
     "output_type": "stream",
     "text": [
      "\rDictNBHDTransformer pre transform:  48%|████▊     | 3653605/7640906 [00:11<00:11, 354820.87it/s]"
     ]
    },
    {
     "name": "stderr",
     "output_type": "stream",
     "text": [
      "\rDictNBHDTransformer pre transform:  48%|████▊     | 3693191/7640906 [00:11<00:10, 366209.35it/s]"
     ]
    },
    {
     "name": "stderr",
     "output_type": "stream",
     "text": [
      "\rDictNBHDTransformer pre transform:  49%|████▉     | 3730385/7640906 [00:11<00:11, 353407.09it/s]"
     ]
    },
    {
     "name": "stderr",
     "output_type": "stream",
     "text": [
      "\rDictNBHDTransformer pre transform:  49%|████▉     | 3766224/7640906 [00:11<00:11, 345204.66it/s]"
     ]
    },
    {
     "name": "stderr",
     "output_type": "stream",
     "text": [
      "\rDictNBHDTransformer pre transform:  50%|████▉     | 3801135/7640906 [00:11<00:11, 344000.94it/s]"
     ]
    },
    {
     "name": "stderr",
     "output_type": "stream",
     "text": [
      "\rDictNBHDTransformer pre transform:  50%|█████     | 3837536/7640906 [00:11<00:10, 349766.75it/s]"
     ]
    },
    {
     "name": "stderr",
     "output_type": "stream",
     "text": [
      "\rDictNBHDTransformer pre transform:  51%|█████     | 3877804/7640906 [00:11<00:10, 364119.60it/s]"
     ]
    },
    {
     "name": "stderr",
     "output_type": "stream",
     "text": [
      "\rDictNBHDTransformer pre transform:  51%|█████     | 3915807/7640906 [00:11<00:10, 368748.86it/s]"
     ]
    },
    {
     "name": "stderr",
     "output_type": "stream",
     "text": [
      "\rDictNBHDTransformer pre transform:  52%|█████▏    | 3952909/7640906 [00:11<00:09, 369005.06it/s]"
     ]
    },
    {
     "name": "stderr",
     "output_type": "stream",
     "text": [
      "\rDictNBHDTransformer pre transform:  52%|█████▏    | 3989968/7640906 [00:11<00:09, 368316.73it/s]"
     ]
    },
    {
     "name": "stderr",
     "output_type": "stream",
     "text": [
      "\rDictNBHDTransformer pre transform:  53%|█████▎    | 4029676/7640906 [00:12<00:09, 376497.53it/s]"
     ]
    },
    {
     "name": "stderr",
     "output_type": "stream",
     "text": [
      "\rDictNBHDTransformer pre transform:  53%|█████▎    | 4067449/7640906 [00:12<00:10, 340865.71it/s]"
     ]
    },
    {
     "name": "stderr",
     "output_type": "stream",
     "text": [
      "\rDictNBHDTransformer pre transform:  54%|█████▍    | 4107694/7640906 [00:12<00:09, 357265.72it/s]"
     ]
    },
    {
     "name": "stderr",
     "output_type": "stream",
     "text": [
      "\rDictNBHDTransformer pre transform:  54%|█████▍    | 4148674/7640906 [00:12<00:09, 371553.10it/s]"
     ]
    },
    {
     "name": "stderr",
     "output_type": "stream",
     "text": [
      "\rDictNBHDTransformer pre transform:  55%|█████▍    | 4189272/7640906 [00:12<00:09, 381234.78it/s]"
     ]
    },
    {
     "name": "stderr",
     "output_type": "stream",
     "text": [
      "\rDictNBHDTransformer pre transform:  55%|█████▌    | 4228522/7640906 [00:12<00:08, 384544.62it/s]"
     ]
    },
    {
     "name": "stderr",
     "output_type": "stream",
     "text": [
      "\rDictNBHDTransformer pre transform:  56%|█████▌    | 4267346/7640906 [00:12<00:09, 348063.40it/s]"
     ]
    },
    {
     "name": "stderr",
     "output_type": "stream",
     "text": [
      "\rDictNBHDTransformer pre transform:  56%|█████▋    | 4303072/7640906 [00:12<00:09, 347947.67it/s]"
     ]
    },
    {
     "name": "stderr",
     "output_type": "stream",
     "text": [
      "\rDictNBHDTransformer pre transform:  57%|█████▋    | 4344342/7640906 [00:12<00:09, 365133.64it/s]"
     ]
    },
    {
     "name": "stderr",
     "output_type": "stream",
     "text": [
      "\rDictNBHDTransformer pre transform:  57%|█████▋    | 4385412/7640906 [00:13<00:08, 377579.51it/s]"
     ]
    },
    {
     "name": "stderr",
     "output_type": "stream",
     "text": [
      "\rDictNBHDTransformer pre transform:  58%|█████▊    | 4424792/7640906 [00:13<00:08, 382303.44it/s]"
     ]
    },
    {
     "name": "stderr",
     "output_type": "stream",
     "text": [
      "\rDictNBHDTransformer pre transform:  58%|█████▊    | 4465061/7640906 [00:13<00:08, 388197.02it/s]"
     ]
    },
    {
     "name": "stderr",
     "output_type": "stream",
     "text": [
      "\rDictNBHDTransformer pre transform:  59%|█████▉    | 4505620/7640906 [00:13<00:07, 393255.26it/s]"
     ]
    },
    {
     "name": "stderr",
     "output_type": "stream",
     "text": [
      "\rDictNBHDTransformer pre transform:  59%|█████▉    | 4545183/7640906 [00:13<00:07, 392740.99it/s]"
     ]
    },
    {
     "name": "stderr",
     "output_type": "stream",
     "text": [
      "\rDictNBHDTransformer pre transform:  60%|██████    | 4587760/7640906 [00:13<00:07, 402097.56it/s]"
     ]
    },
    {
     "name": "stderr",
     "output_type": "stream",
     "text": [
      "\rDictNBHDTransformer pre transform:  61%|██████    | 4629304/7640906 [00:13<00:07, 406001.03it/s]"
     ]
    },
    {
     "name": "stderr",
     "output_type": "stream",
     "text": [
      "\rDictNBHDTransformer pre transform:  61%|██████    | 4670034/7640906 [00:13<00:07, 400555.57it/s]"
     ]
    },
    {
     "name": "stderr",
     "output_type": "stream",
     "text": [
      "\rDictNBHDTransformer pre transform:  62%|██████▏   | 4711406/7640906 [00:13<00:07, 404414.78it/s]"
     ]
    },
    {
     "name": "stderr",
     "output_type": "stream",
     "text": [
      "\rDictNBHDTransformer pre transform:  62%|██████▏   | 4751932/7640906 [00:13<00:07, 400799.35it/s]"
     ]
    },
    {
     "name": "stderr",
     "output_type": "stream",
     "text": [
      "\rDictNBHDTransformer pre transform:  63%|██████▎   | 4792542/7640906 [00:14<00:07, 402371.65it/s]"
     ]
    },
    {
     "name": "stderr",
     "output_type": "stream",
     "text": [
      "\rDictNBHDTransformer pre transform:  63%|██████▎   | 4833603/7640906 [00:14<00:06, 404806.92it/s]"
     ]
    },
    {
     "name": "stderr",
     "output_type": "stream",
     "text": [
      "\rDictNBHDTransformer pre transform:  64%|██████▍   | 4874828/7640906 [00:14<00:06, 407004.11it/s]"
     ]
    },
    {
     "name": "stderr",
     "output_type": "stream",
     "text": [
      "\rDictNBHDTransformer pre transform:  64%|██████▍   | 4915914/7640906 [00:14<00:06, 408150.76it/s]"
     ]
    },
    {
     "name": "stderr",
     "output_type": "stream",
     "text": [
      "\rDictNBHDTransformer pre transform:  65%|██████▍   | 4956750/7640906 [00:14<00:06, 407921.38it/s]"
     ]
    },
    {
     "name": "stderr",
     "output_type": "stream",
     "text": [
      "\rDictNBHDTransformer pre transform:  65%|██████▌   | 4999702/7640906 [00:14<00:06, 414169.22it/s]"
     ]
    },
    {
     "name": "stderr",
     "output_type": "stream",
     "text": [
      "\rDictNBHDTransformer pre transform:  66%|██████▌   | 5042610/7640906 [00:14<00:06, 418528.82it/s]"
     ]
    },
    {
     "name": "stderr",
     "output_type": "stream",
     "text": [
      "\rDictNBHDTransformer pre transform:  67%|██████▋   | 5084498/7640906 [00:14<00:06, 417290.41it/s]"
     ]
    },
    {
     "name": "stderr",
     "output_type": "stream",
     "text": [
      "\rDictNBHDTransformer pre transform:  67%|██████▋   | 5126252/7640906 [00:14<00:06, 413046.17it/s]"
     ]
    },
    {
     "name": "stderr",
     "output_type": "stream",
     "text": [
      "\rDictNBHDTransformer pre transform:  68%|██████▊   | 5168635/7640906 [00:14<00:05, 416221.91it/s]"
     ]
    },
    {
     "name": "stderr",
     "output_type": "stream",
     "text": [
      "\rDictNBHDTransformer pre transform:  68%|██████▊   | 5211454/7640906 [00:15<00:05, 419740.14it/s]"
     ]
    },
    {
     "name": "stderr",
     "output_type": "stream",
     "text": [
      "\rDictNBHDTransformer pre transform:  69%|██████▉   | 5253453/7640906 [00:15<00:05, 418012.46it/s]"
     ]
    },
    {
     "name": "stderr",
     "output_type": "stream",
     "text": [
      "\rDictNBHDTransformer pre transform:  69%|██████▉   | 5295274/7640906 [00:15<00:05, 414877.84it/s]"
     ]
    },
    {
     "name": "stderr",
     "output_type": "stream",
     "text": [
      "\rDictNBHDTransformer pre transform:  70%|██████▉   | 5337096/7640906 [00:15<00:05, 415873.50it/s]"
     ]
    },
    {
     "name": "stderr",
     "output_type": "stream",
     "text": [
      "\rDictNBHDTransformer pre transform:  70%|███████   | 5378836/7640906 [00:15<00:05, 416328.91it/s]"
     ]
    },
    {
     "name": "stderr",
     "output_type": "stream",
     "text": [
      "\rDictNBHDTransformer pre transform:  71%|███████   | 5420479/7640906 [00:15<00:05, 412266.29it/s]"
     ]
    },
    {
     "name": "stderr",
     "output_type": "stream",
     "text": [
      "\rDictNBHDTransformer pre transform:  71%|███████▏  | 5462394/7640906 [00:15<00:05, 414302.39it/s]"
     ]
    },
    {
     "name": "stderr",
     "output_type": "stream",
     "text": [
      "\rDictNBHDTransformer pre transform:  72%|███████▏  | 5503838/7640906 [00:15<00:05, 408628.52it/s]"
     ]
    },
    {
     "name": "stderr",
     "output_type": "stream",
     "text": [
      "\rDictNBHDTransformer pre transform:  73%|███████▎  | 5544728/7640906 [00:15<00:05, 372544.67it/s]"
     ]
    },
    {
     "name": "stderr",
     "output_type": "stream",
     "text": [
      "\rDictNBHDTransformer pre transform:  73%|███████▎  | 5584161/7640906 [00:16<00:05, 378822.07it/s]"
     ]
    },
    {
     "name": "stderr",
     "output_type": "stream",
     "text": [
      "\rDictNBHDTransformer pre transform:  74%|███████▎  | 5622514/7640906 [00:16<00:12, 161363.71it/s]"
     ]
    },
    {
     "name": "stderr",
     "output_type": "stream",
     "text": [
      "\rDictNBHDTransformer pre transform:  74%|███████▍  | 5664011/7640906 [00:16<00:10, 197590.54it/s]"
     ]
    },
    {
     "name": "stderr",
     "output_type": "stream",
     "text": [
      "\rDictNBHDTransformer pre transform:  75%|███████▍  | 5705263/7640906 [00:16<00:08, 234195.76it/s]"
     ]
    },
    {
     "name": "stderr",
     "output_type": "stream",
     "text": [
      "\rDictNBHDTransformer pre transform:  75%|███████▌  | 5747026/7640906 [00:16<00:07, 269723.04it/s]"
     ]
    },
    {
     "name": "stderr",
     "output_type": "stream",
     "text": [
      "\rDictNBHDTransformer pre transform:  76%|███████▌  | 5790482/7640906 [00:16<00:06, 304356.34it/s]"
     ]
    },
    {
     "name": "stderr",
     "output_type": "stream",
     "text": [
      "\rDictNBHDTransformer pre transform:  76%|███████▋  | 5832443/7640906 [00:17<00:05, 331686.15it/s]"
     ]
    },
    {
     "name": "stderr",
     "output_type": "stream",
     "text": [
      "\rDictNBHDTransformer pre transform:  77%|███████▋  | 5873348/7640906 [00:17<00:05, 351636.79it/s]"
     ]
    },
    {
     "name": "stderr",
     "output_type": "stream",
     "text": [
      "\rDictNBHDTransformer pre transform:  77%|███████▋  | 5916915/7640906 [00:17<00:04, 373231.94it/s]"
     ]
    },
    {
     "name": "stderr",
     "output_type": "stream",
     "text": [
      "\rDictNBHDTransformer pre transform:  78%|███████▊  | 5963244/7640906 [00:17<00:04, 396343.30it/s]"
     ]
    },
    {
     "name": "stderr",
     "output_type": "stream",
     "text": [
      "\rDictNBHDTransformer pre transform:  79%|███████▊  | 6009536/7640906 [00:17<00:03, 414210.76it/s]"
     ]
    },
    {
     "name": "stderr",
     "output_type": "stream",
     "text": [
      "\rDictNBHDTransformer pre transform:  79%|███████▉  | 6055628/7640906 [00:17<00:03, 427198.16it/s]"
     ]
    },
    {
     "name": "stderr",
     "output_type": "stream",
     "text": [
      "\rDictNBHDTransformer pre transform:  80%|███████▉  | 6101313/7640906 [00:17<00:03, 435678.98it/s]"
     ]
    },
    {
     "name": "stderr",
     "output_type": "stream",
     "text": [
      "\rDictNBHDTransformer pre transform:  80%|████████  | 6147699/7640906 [00:17<00:03, 443766.89it/s]"
     ]
    },
    {
     "name": "stderr",
     "output_type": "stream",
     "text": [
      "\rDictNBHDTransformer pre transform:  81%|████████  | 6193132/7640906 [00:17<00:03, 446878.67it/s]"
     ]
    },
    {
     "name": "stderr",
     "output_type": "stream",
     "text": [
      "\rDictNBHDTransformer pre transform:  82%|████████▏ | 6238483/7640906 [00:17<00:03, 447486.87it/s]"
     ]
    },
    {
     "name": "stderr",
     "output_type": "stream",
     "text": [
      "\rDictNBHDTransformer pre transform:  82%|████████▏ | 6284113/7640906 [00:18<00:03, 450093.39it/s]"
     ]
    },
    {
     "name": "stderr",
     "output_type": "stream",
     "text": [
      "\rDictNBHDTransformer pre transform:  83%|████████▎ | 6331531/7640906 [00:18<00:02, 457057.33it/s]"
     ]
    },
    {
     "name": "stderr",
     "output_type": "stream",
     "text": [
      "\rDictNBHDTransformer pre transform:  83%|████████▎ | 6377493/7640906 [00:18<00:02, 456055.68it/s]"
     ]
    },
    {
     "name": "stderr",
     "output_type": "stream",
     "text": [
      "\rDictNBHDTransformer pre transform:  84%|████████▍ | 6423279/7640906 [00:18<00:02, 455443.01it/s]"
     ]
    },
    {
     "name": "stderr",
     "output_type": "stream",
     "text": [
      "\rDictNBHDTransformer pre transform:  85%|████████▍ | 6468950/7640906 [00:18<00:02, 452247.33it/s]"
     ]
    },
    {
     "name": "stderr",
     "output_type": "stream",
     "text": [
      "\rDictNBHDTransformer pre transform:  85%|████████▌ | 6514269/7640906 [00:18<00:02, 449596.21it/s]"
     ]
    },
    {
     "name": "stderr",
     "output_type": "stream",
     "text": [
      "\rDictNBHDTransformer pre transform:  86%|████████▌ | 6560620/7640906 [00:18<00:02, 453680.38it/s]"
     ]
    },
    {
     "name": "stderr",
     "output_type": "stream",
     "text": [
      "\rDictNBHDTransformer pre transform:  86%|████████▋ | 6606269/7640906 [00:18<00:02, 454518.14it/s]"
     ]
    },
    {
     "name": "stderr",
     "output_type": "stream",
     "text": [
      "\rDictNBHDTransformer pre transform:  87%|████████▋ | 6651762/7640906 [00:18<00:02, 452959.08it/s]"
     ]
    },
    {
     "name": "stderr",
     "output_type": "stream",
     "text": [
      "\rDictNBHDTransformer pre transform:  88%|████████▊ | 6697088/7640906 [00:18<00:02, 448963.76it/s]"
     ]
    },
    {
     "name": "stderr",
     "output_type": "stream",
     "text": [
      "\rDictNBHDTransformer pre transform:  88%|████████▊ | 6742585/7640906 [00:19<00:01, 450747.76it/s]"
     ]
    },
    {
     "name": "stderr",
     "output_type": "stream",
     "text": [
      "\rDictNBHDTransformer pre transform:  89%|████████▉ | 6787682/7640906 [00:19<00:01, 447780.95it/s]"
     ]
    },
    {
     "name": "stderr",
     "output_type": "stream",
     "text": [
      "\rDictNBHDTransformer pre transform:  89%|████████▉ | 6833925/7640906 [00:19<00:01, 452076.14it/s]"
     ]
    },
    {
     "name": "stderr",
     "output_type": "stream",
     "text": [
      "\rDictNBHDTransformer pre transform:  90%|█████████ | 6879157/7640906 [00:19<00:01, 446621.83it/s]"
     ]
    },
    {
     "name": "stderr",
     "output_type": "stream",
     "text": [
      "\rDictNBHDTransformer pre transform:  91%|█████████ | 6924527/7640906 [00:19<00:01, 448720.84it/s]"
     ]
    },
    {
     "name": "stderr",
     "output_type": "stream",
     "text": [
      "\rDictNBHDTransformer pre transform:  91%|█████████ | 6969660/7640906 [00:19<00:01, 449498.94it/s]"
     ]
    },
    {
     "name": "stderr",
     "output_type": "stream",
     "text": [
      "\rDictNBHDTransformer pre transform:  92%|█████████▏| 7015559/7640906 [00:19<00:01, 452303.32it/s]"
     ]
    },
    {
     "name": "stderr",
     "output_type": "stream",
     "text": [
      "\rDictNBHDTransformer pre transform:  92%|█████████▏| 7062650/7640906 [00:19<00:01, 457728.89it/s]"
     ]
    },
    {
     "name": "stderr",
     "output_type": "stream",
     "text": [
      "\rDictNBHDTransformer pre transform:  93%|█████████▎| 7109986/7640906 [00:19<00:01, 462307.58it/s]"
     ]
    },
    {
     "name": "stderr",
     "output_type": "stream",
     "text": [
      "\rDictNBHDTransformer pre transform:  94%|█████████▎| 7156247/7640906 [00:19<00:01, 459826.97it/s]"
     ]
    },
    {
     "name": "stderr",
     "output_type": "stream",
     "text": [
      "\rDictNBHDTransformer pre transform:  94%|█████████▍| 7202254/7640906 [00:20<00:00, 451278.82it/s]"
     ]
    },
    {
     "name": "stderr",
     "output_type": "stream",
     "text": [
      "\rDictNBHDTransformer pre transform:  95%|█████████▍| 7247435/7640906 [00:20<00:00, 448906.91it/s]"
     ]
    },
    {
     "name": "stderr",
     "output_type": "stream",
     "text": [
      "\rDictNBHDTransformer pre transform:  95%|█████████▌| 7294547/7640906 [00:20<00:00, 455345.03it/s]"
     ]
    },
    {
     "name": "stderr",
     "output_type": "stream",
     "text": [
      "\rDictNBHDTransformer pre transform:  96%|█████████▌| 7340863/7640906 [00:20<00:00, 457657.61it/s]"
     ]
    },
    {
     "name": "stderr",
     "output_type": "stream",
     "text": [
      "\rDictNBHDTransformer pre transform:  97%|█████████▋| 7386667/7640906 [00:20<00:00, 456360.50it/s]"
     ]
    },
    {
     "name": "stderr",
     "output_type": "stream",
     "text": [
      "\rDictNBHDTransformer pre transform:  97%|█████████▋| 7433899/7640906 [00:20<00:00, 461031.17it/s]"
     ]
    },
    {
     "name": "stderr",
     "output_type": "stream",
     "text": [
      "\rDictNBHDTransformer pre transform:  98%|█████████▊| 7480233/7640906 [00:20<00:00, 461720.55it/s]"
     ]
    },
    {
     "name": "stderr",
     "output_type": "stream",
     "text": [
      "\rDictNBHDTransformer pre transform:  99%|█████████▊| 7526824/7640906 [00:20<00:00, 462969.25it/s]"
     ]
    },
    {
     "name": "stderr",
     "output_type": "stream",
     "text": [
      "\rDictNBHDTransformer pre transform:  99%|█████████▉| 7573137/7640906 [00:20<00:00, 460994.54it/s]"
     ]
    },
    {
     "name": "stderr",
     "output_type": "stream",
     "text": [
      "\rDictNBHDTransformer pre transform: 100%|█████████▉| 7619726/7640906 [00:21<00:00, 462452.15it/s]"
     ]
    },
    {
     "name": "stderr",
     "output_type": "stream",
     "text": [
      "\rDictNBHDTransformer pre transform: 100%|██████████| 7640906/7640906 [00:21<00:00, 363033.70it/s]"
     ]
    },
    {
     "name": "stderr",
     "output_type": "stream",
     "text": [
      "\n"
     ]
    },
    {
     "name": "stderr",
     "output_type": "stream",
     "text": [
      "\rDictNBHDTransformer transform:   0%|          | 0/105746 [00:00<?, ?it/s]"
     ]
    },
    {
     "name": "stderr",
     "output_type": "stream",
     "text": [
      "\rDictNBHDTransformer transform:  46%|████▋     | 49152/105746 [00:00<00:00, 488850.28it/s]"
     ]
    },
    {
     "name": "stderr",
     "output_type": "stream",
     "text": [
      "\rDictNBHDTransformer transform:  98%|█████████▊| 103786/105746 [00:00<00:00, 504785.20it/s]"
     ]
    },
    {
     "name": "stderr",
     "output_type": "stream",
     "text": [
      "\rDictNBHDTransformer transform: 100%|██████████| 105746/105746 [00:00<00:00, 512034.42it/s]"
     ]
    },
    {
     "name": "stderr",
     "output_type": "stream",
     "text": [
      "\n"
     ]
    },
    {
     "name": "stderr",
     "output_type": "stream",
     "text": [
      "\rDictClassTransformer_DATE pre transform:   0%|          | 0/36928 [00:00<?, ?it/s]"
     ]
    },
    {
     "name": "stderr",
     "output_type": "stream",
     "text": [
      "\rDictClassTransformer_DATE pre transform:  37%|███▋      | 13835/36928 [00:00<00:00, 138341.89it/s]"
     ]
    },
    {
     "name": "stderr",
     "output_type": "stream",
     "text": [
      "\rDictClassTransformer_DATE pre transform:  73%|███████▎  | 26906/36928 [00:00<00:00, 135957.76it/s]"
     ]
    },
    {
     "name": "stderr",
     "output_type": "stream",
     "text": [
      "\rDictClassTransformer_DATE pre transform: 100%|██████████| 36928/36928 [00:00<00:00, 135435.12it/s]"
     ]
    },
    {
     "name": "stderr",
     "output_type": "stream",
     "text": [
      "\n\rDictClassTransformer_DATE transform:   0%|          | 0/105746 [00:00<?, ?it/s]"
     ]
    },
    {
     "name": "stderr",
     "output_type": "stream",
     "text": [
      "\rDictClassTransformer_DATE transform:  74%|███████▍  | 78284/105746 [00:00<00:00, 782838.88it/s]"
     ]
    },
    {
     "name": "stderr",
     "output_type": "stream",
     "text": [
      "\rDictClassTransformer_DATE transform: 100%|██████████| 105746/105746 [00:00<00:00, 865889.02it/s]"
     ]
    },
    {
     "name": "stderr",
     "output_type": "stream",
     "text": [
      "\n"
     ]
    },
    {
     "name": "stderr",
     "output_type": "stream",
     "text": [
      "\rDictClassTransformer_CARDINAL pre transform:   0%|          | 0/10473 [00:00<?, ?it/s]"
     ]
    },
    {
     "name": "stderr",
     "output_type": "stream",
     "text": [
      "\rDictClassTransformer_CARDINAL pre transform: 100%|██████████| 10473/10473 [00:00<00:00, 137248.54it/s]"
     ]
    },
    {
     "name": "stderr",
     "output_type": "stream",
     "text": [
      "\n\rDictClassTransformer_CARDINAL transform:   0%|          | 0/105746 [00:00<?, ?it/s]"
     ]
    },
    {
     "name": "stderr",
     "output_type": "stream",
     "text": [
      "\rDictClassTransformer_CARDINAL transform:  75%|███████▌  | 79424/105746 [00:00<00:00, 794223.72it/s]"
     ]
    },
    {
     "name": "stderr",
     "output_type": "stream",
     "text": [
      "\rDictClassTransformer_CARDINAL transform: 100%|██████████| 105746/105746 [00:00<00:00, 870328.80it/s]"
     ]
    },
    {
     "name": "stderr",
     "output_type": "stream",
     "text": [
      "\n"
     ]
    },
    {
     "name": "stderr",
     "output_type": "stream",
     "text": [
      "\rCardinalTransformer transform:   0%|          | 0/105746 [00:00<?, ?it/s]"
     ]
    },
    {
     "name": "stderr",
     "output_type": "stream",
     "text": [
      "\rCardinalTransformer transform:  67%|██████▋   | 70582/105746 [00:00<00:00, 705812.26it/s]"
     ]
    },
    {
     "name": "stderr",
     "output_type": "stream",
     "text": [
      "\rCardinalTransformer transform: 100%|██████████| 105746/105746 [00:00<00:00, 704507.06it/s]"
     ]
    },
    {
     "name": "stderr",
     "output_type": "stream",
     "text": [
      "\n"
     ]
    },
    {
     "name": "stderr",
     "output_type": "stream",
     "text": [
      "\rLettersTransformer transform:   0%|          | 0/105746 [00:00<?, ?it/s]"
     ]
    },
    {
     "name": "stderr",
     "output_type": "stream",
     "text": [
      "\rLettersTransformer transform:  46%|████▋     | 49010/105746 [00:00<00:00, 490095.79it/s]"
     ]
    },
    {
     "name": "stderr",
     "output_type": "stream",
     "text": [
      "\rLettersTransformer transform:  99%|█████████▉| 104653/105746 [00:00<00:00, 508270.93it/s]"
     ]
    },
    {
     "name": "stderr",
     "output_type": "stream",
     "text": [
      "\rLettersTransformer transform: 100%|██████████| 105746/105746 [00:00<00:00, 511349.05it/s]"
     ]
    },
    {
     "name": "stderr",
     "output_type": "stream",
     "text": [
      "\n"
     ]
    },
    {
     "name": "stderr",
     "output_type": "stream",
     "text": [
      "\rDictTransformer pre transform:   0%|          | 0/796356 [00:00<?, ?it/s]"
     ]
    },
    {
     "name": "stderr",
     "output_type": "stream",
     "text": [
      "\rDictTransformer pre transform:   2%|▏         | 14380/796356 [00:00<00:05, 143792.94it/s]"
     ]
    },
    {
     "name": "stderr",
     "output_type": "stream",
     "text": [
      "\rDictTransformer pre transform:   3%|▎         | 27140/796356 [00:00<00:05, 138518.42it/s]"
     ]
    },
    {
     "name": "stderr",
     "output_type": "stream",
     "text": [
      "\rDictTransformer pre transform:   5%|▍         | 36039/796356 [00:00<00:06, 118696.92it/s]"
     ]
    },
    {
     "name": "stderr",
     "output_type": "stream",
     "text": [
      "\rDictTransformer pre transform:   6%|▌         | 47747/796356 [00:00<00:06, 118206.95it/s]"
     ]
    },
    {
     "name": "stderr",
     "output_type": "stream",
     "text": [
      "\rDictTransformer pre transform:   8%|▊         | 59947/796356 [00:00<00:06, 119319.15it/s]"
     ]
    },
    {
     "name": "stderr",
     "output_type": "stream",
     "text": [
      "\rDictTransformer pre transform:   9%|▉         | 72500/796356 [00:00<00:05, 121115.43it/s]"
     ]
    },
    {
     "name": "stderr",
     "output_type": "stream",
     "text": [
      "\rDictTransformer pre transform:  11%|█         | 86297/796356 [00:00<00:05, 125722.26it/s]"
     ]
    },
    {
     "name": "stderr",
     "output_type": "stream",
     "text": [
      "\rDictTransformer pre transform:  13%|█▎        | 99973/796356 [00:00<00:05, 128839.38it/s]"
     ]
    },
    {
     "name": "stderr",
     "output_type": "stream",
     "text": [
      "\rDictTransformer pre transform:  14%|█▍        | 112172/796356 [00:00<00:05, 120946.26it/s]"
     ]
    },
    {
     "name": "stderr",
     "output_type": "stream",
     "text": [
      "\rDictTransformer pre transform:  16%|█▌        | 123886/796356 [00:01<00:05, 118304.16it/s]"
     ]
    },
    {
     "name": "stderr",
     "output_type": "stream",
     "text": [
      "\rDictTransformer pre transform:  17%|█▋        | 137365/796356 [00:01<00:05, 122807.34it/s]"
     ]
    },
    {
     "name": "stderr",
     "output_type": "stream",
     "text": [
      "\rDictTransformer pre transform:  19%|█▉        | 151037/796356 [00:01<00:05, 126673.74it/s]"
     ]
    },
    {
     "name": "stderr",
     "output_type": "stream",
     "text": [
      "\rDictTransformer pre transform:  21%|██        | 164882/796356 [00:01<00:04, 129988.18it/s]"
     ]
    },
    {
     "name": "stderr",
     "output_type": "stream",
     "text": [
      "\rDictTransformer pre transform:  22%|██▏       | 177859/796356 [00:01<00:05, 118972.38it/s]"
     ]
    },
    {
     "name": "stderr",
     "output_type": "stream",
     "text": [
      "\rDictTransformer pre transform:  24%|██▍       | 190616/796356 [00:01<00:04, 121425.77it/s]"
     ]
    },
    {
     "name": "stderr",
     "output_type": "stream",
     "text": [
      "\rDictTransformer pre transform:  26%|██▌       | 203649/796356 [00:01<00:04, 123964.12it/s]"
     ]
    },
    {
     "name": "stderr",
     "output_type": "stream",
     "text": [
      "\rDictTransformer pre transform:  27%|██▋       | 217345/796356 [00:01<00:04, 127594.92it/s]"
     ]
    },
    {
     "name": "stderr",
     "output_type": "stream",
     "text": [
      "\rDictTransformer pre transform:  29%|██▉       | 230720/796356 [00:01<00:04, 129380.00it/s]"
     ]
    },
    {
     "name": "stderr",
     "output_type": "stream",
     "text": [
      "\rDictTransformer pre transform:  31%|███       | 244783/796356 [00:01<00:04, 132558.72it/s]"
     ]
    },
    {
     "name": "stderr",
     "output_type": "stream",
     "text": [
      "\rDictTransformer pre transform:  32%|███▏      | 258247/796356 [00:02<00:04, 133174.28it/s]"
     ]
    },
    {
     "name": "stderr",
     "output_type": "stream",
     "text": [
      "\rDictTransformer pre transform:  34%|███▍      | 271892/796356 [00:02<00:03, 134139.27it/s]"
     ]
    },
    {
     "name": "stderr",
     "output_type": "stream",
     "text": [
      "\rDictTransformer pre transform:  36%|███▌      | 285344/796356 [00:02<00:03, 132097.78it/s]"
     ]
    },
    {
     "name": "stderr",
     "output_type": "stream",
     "text": [
      "\rDictTransformer pre transform:  37%|███▋      | 298587/796356 [00:02<00:03, 131998.35it/s]"
     ]
    },
    {
     "name": "stderr",
     "output_type": "stream",
     "text": [
      "\rDictTransformer pre transform:  39%|███▉      | 312505/796356 [00:02<00:03, 134071.81it/s]"
     ]
    },
    {
     "name": "stderr",
     "output_type": "stream",
     "text": [
      "\rDictTransformer pre transform:  41%|████      | 326235/796356 [00:02<00:03, 135023.87it/s]"
     ]
    },
    {
     "name": "stderr",
     "output_type": "stream",
     "text": [
      "\rDictTransformer pre transform:  43%|████▎     | 340669/796356 [00:02<00:03, 137689.61it/s]"
     ]
    },
    {
     "name": "stderr",
     "output_type": "stream",
     "text": [
      "\rDictTransformer pre transform:  45%|████▍     | 354464/796356 [00:02<00:03, 132637.72it/s]"
     ]
    },
    {
     "name": "stderr",
     "output_type": "stream",
     "text": [
      "\rDictTransformer pre transform:  46%|████▌     | 368259/796356 [00:02<00:03, 134186.30it/s]"
     ]
    },
    {
     "name": "stderr",
     "output_type": "stream",
     "text": [
      "\rDictTransformer pre transform:  48%|████▊     | 382307/796356 [00:02<00:03, 136014.05it/s]"
     ]
    },
    {
     "name": "stderr",
     "output_type": "stream",
     "text": [
      "\rDictTransformer pre transform:  50%|████▉     | 396563/796356 [00:03<00:02, 137911.49it/s]"
     ]
    },
    {
     "name": "stderr",
     "output_type": "stream",
     "text": [
      "\rDictTransformer pre transform:  52%|█████▏    | 410387/796356 [00:03<00:02, 137043.76it/s]"
     ]
    },
    {
     "name": "stderr",
     "output_type": "stream",
     "text": [
      "\rDictTransformer pre transform:  53%|█████▎    | 424403/796356 [00:03<00:02, 137963.64it/s]"
     ]
    },
    {
     "name": "stderr",
     "output_type": "stream",
     "text": [
      "\rDictTransformer pre transform:  55%|█████▌    | 438218/796356 [00:03<00:02, 137551.47it/s]"
     ]
    },
    {
     "name": "stderr",
     "output_type": "stream",
     "text": [
      "\rDictTransformer pre transform:  57%|█████▋    | 452442/796356 [00:03<00:02, 138923.25it/s]"
     ]
    },
    {
     "name": "stderr",
     "output_type": "stream",
     "text": [
      "\rDictTransformer pre transform:  59%|█████▊    | 466370/796356 [00:03<00:02, 139029.23it/s]"
     ]
    },
    {
     "name": "stderr",
     "output_type": "stream",
     "text": [
      "\rDictTransformer pre transform:  60%|██████    | 480668/796356 [00:03<00:02, 140189.71it/s]"
     ]
    },
    {
     "name": "stderr",
     "output_type": "stream",
     "text": [
      "\rDictTransformer pre transform:  62%|██████▏   | 495420/796356 [00:03<00:02, 142308.73it/s]"
     ]
    },
    {
     "name": "stderr",
     "output_type": "stream",
     "text": [
      "\rDictTransformer pre transform:  64%|██████▍   | 509665/796356 [00:03<00:02, 141687.49it/s]"
     ]
    },
    {
     "name": "stderr",
     "output_type": "stream",
     "text": [
      "\rDictTransformer pre transform:  66%|██████▌   | 523971/796356 [00:03<00:01, 142096.41it/s]"
     ]
    },
    {
     "name": "stderr",
     "output_type": "stream",
     "text": [
      "\rDictTransformer pre transform:  68%|██████▊   | 538189/796356 [00:04<00:01, 141343.39it/s]"
     ]
    },
    {
     "name": "stderr",
     "output_type": "stream",
     "text": [
      "\rDictTransformer pre transform:  69%|██████▉   | 552330/796356 [00:04<00:01, 140685.31it/s]"
     ]
    },
    {
     "name": "stderr",
     "output_type": "stream",
     "text": [
      "\rDictTransformer pre transform:  71%|███████   | 567058/796356 [00:04<00:01, 142598.43it/s]"
     ]
    },
    {
     "name": "stderr",
     "output_type": "stream",
     "text": [
      "\rDictTransformer pre transform:  73%|███████▎  | 581993/796356 [00:04<00:01, 144558.07it/s]"
     ]
    },
    {
     "name": "stderr",
     "output_type": "stream",
     "text": [
      "\rDictTransformer pre transform:  75%|███████▍  | 596806/796356 [00:04<00:01, 145608.91it/s]"
     ]
    },
    {
     "name": "stderr",
     "output_type": "stream",
     "text": [
      "\rDictTransformer pre transform:  77%|███████▋  | 611379/796356 [00:04<00:01, 142913.89it/s]"
     ]
    },
    {
     "name": "stderr",
     "output_type": "stream",
     "text": [
      "\rDictTransformer pre transform:  79%|███████▊  | 625690/796356 [00:04<00:01, 141723.53it/s]"
     ]
    },
    {
     "name": "stderr",
     "output_type": "stream",
     "text": [
      "\rDictTransformer pre transform:  80%|████████  | 640299/796356 [00:04<00:01, 143005.45it/s]"
     ]
    },
    {
     "name": "stderr",
     "output_type": "stream",
     "text": [
      "\rDictTransformer pre transform:  82%|████████▏ | 654614/796356 [00:04<00:00, 141992.33it/s]"
     ]
    },
    {
     "name": "stderr",
     "output_type": "stream",
     "text": [
      "\rDictTransformer pre transform:  84%|████████▍ | 669477/796356 [00:04<00:00, 143920.47it/s]"
     ]
    },
    {
     "name": "stderr",
     "output_type": "stream",
     "text": [
      "\rDictTransformer pre transform:  86%|████████▌ | 683981/796356 [00:05<00:00, 144251.17it/s]"
     ]
    },
    {
     "name": "stderr",
     "output_type": "stream",
     "text": [
      "\rDictTransformer pre transform:  88%|████████▊ | 698417/796356 [00:05<00:00, 144066.02it/s]"
     ]
    },
    {
     "name": "stderr",
     "output_type": "stream",
     "text": [
      "\rDictTransformer pre transform:  90%|████████▉ | 712831/796356 [00:05<00:00, 126491.85it/s]"
     ]
    },
    {
     "name": "stderr",
     "output_type": "stream",
     "text": [
      "\rDictTransformer pre transform:  91%|█████████▏| 727536/796356 [00:05<00:00, 132027.56it/s]"
     ]
    },
    {
     "name": "stderr",
     "output_type": "stream",
     "text": [
      "\rDictTransformer pre transform:  93%|█████████▎| 741481/796356 [00:05<00:00, 134169.65it/s]"
     ]
    },
    {
     "name": "stderr",
     "output_type": "stream",
     "text": [
      "\rDictTransformer pre transform:  95%|█████████▍| 755144/796356 [00:05<00:00, 134229.21it/s]"
     ]
    },
    {
     "name": "stderr",
     "output_type": "stream",
     "text": [
      "\rDictTransformer pre transform:  97%|█████████▋| 769793/796356 [00:05<00:00, 137685.23it/s]"
     ]
    },
    {
     "name": "stderr",
     "output_type": "stream",
     "text": [
      "\rDictTransformer pre transform:  98%|█████████▊| 784378/796356 [00:05<00:00, 140035.83it/s]"
     ]
    },
    {
     "name": "stderr",
     "output_type": "stream",
     "text": [
      "\rDictTransformer pre transform: 100%|██████████| 796356/796356 [00:05<00:00, 134486.61it/s]"
     ]
    },
    {
     "name": "stderr",
     "output_type": "stream",
     "text": [
      "\n\rDictTransformer transform:   0%|          | 0/105746 [00:00<?, ?it/s]"
     ]
    },
    {
     "name": "stderr",
     "output_type": "stream",
     "text": [
      "\rDictTransformer transform:  44%|████▍     | 46758/105746 [00:00<00:00, 467258.49it/s]"
     ]
    },
    {
     "name": "stderr",
     "output_type": "stream",
     "text": [
      "\rDictTransformer transform: 100%|██████████| 105746/105746 [00:00<00:00, 524521.13it/s]"
     ]
    },
    {
     "name": "stderr",
     "output_type": "stream",
     "text": [
      "\n"
     ]
    },
    {
     "name": "stderr",
     "output_type": "stream",
     "text": [
      "\rLSTMTransliterator transform stage 1:   0%|          | 0/5159 [00:00<?, ?it/s]"
     ]
    },
    {
     "name": "stderr",
     "output_type": "stream",
     "text": [
      "\rLSTMTransliterator transform stage 1: 100%|██████████| 5159/5159 [00:00<00:00, 114764.03it/s]"
     ]
    },
    {
     "name": "stderr",
     "output_type": "stream",
     "text": [
      "\n\rLSTMTransliterator transform stage 2:   0%|          | 0/5159 [00:00<?, ?it/s]"
     ]
    },
    {
     "name": "stderr",
     "output_type": "stream",
     "text": [
      "\rLSTMTransliterator transform stage 2: 100%|██████████| 5159/5159 [00:00<00:00, 217990.74it/s]"
     ]
    },
    {
     "name": "stderr",
     "output_type": "stream",
     "text": [
      "\n"
     ]
    }
   ],
   "source": [
    "predicted = transform(x_train, x_test, y_train, y_test)"
   ]
  },
  {
   "cell_type": "code",
   "execution_count": 5,
   "metadata": {},
   "outputs": [],
   "source": [
    "predicted = predicted.assign(after_true=y_test)"
   ]
  },
  {
   "cell_type": "code",
   "execution_count": 6,
   "metadata": {
    "collapsed": false
   },
   "outputs": [
    {
     "data": {
      "text/plain": [
       "LETTERS       58341\nVERBATIM      26635\nTRANS          7417\nCARDINAL       4833\nPLAIN          2256\nDASH           1759\nDATE           1426\nMEASURE         461\nORDINAL          89\nELECTRONIC       30\nDECIMAL          28\nDIGIT            24\nTELEPHONE        20\nTIME             18\nFRACTION         16\nMONEY             7\nPUNCT             0\nName: class, dtype: int64"
      ]
     },
     "execution_count": 6,
     "metadata": {},
     "output_type": "execute_result"
    }
   ],
   "source": [
    "predicted[(predicted[\"after\"] == y_test)]['class'].value_counts()"
   ]
  },
  {
   "cell_type": "code",
   "execution_count": 12,
   "metadata": {},
   "outputs": [
    {
     "data": {
      "text/plain": [
       "TRANS         539\nCARDINAL      521\nDATE          377\nLETTERS       351\nMEASURE       258\nDASH          122\nTELEPHONE      64\nDECIMAL        50\nORDINAL        49\nPLAIN          24\nMONEY          15\nFRACTION        8\nTIME            4\nELECTRONIC      2\nVERBATIM        2\nDIGIT           0\nPUNCT           0\nName: class, dtype: int64"
      ]
     },
     "execution_count": 12,
     "metadata": {},
     "output_type": "execute_result"
    }
   ],
   "source": [
    "predicted[~(predicted[\"after\"] == y_test) & ~(predicted[\"after\"].isnull())]['class'].value_counts()"
   ]
  },
  {
   "cell_type": "code",
   "execution_count": 13,
   "metadata": {
    "collapsed": true
   },
   "outputs": [
    {
     "data": {
      "text/html": [
       "<div>\n",
       "<style scoped>\n",
       "    .dataframe tbody tr th:only-of-type {\n",
       "        vertical-align: middle;\n",
       "    }\n",
       "\n",
       "    .dataframe tbody tr th {\n",
       "        vertical-align: top;\n",
       "    }\n",
       "\n",
       "    .dataframe thead th {\n",
       "        text-align: right;\n",
       "    }\n",
       "</style>\n",
       "<table border=\"1\" class=\"dataframe\">\n",
       "  <thead>\n",
       "    <tr style=\"text-align: right;\">\n",
       "      <th></th>\n",
       "      <th>before</th>\n",
       "      <th>prev_prev</th>\n",
       "      <th>prev</th>\n",
       "      <th>next</th>\n",
       "      <th>next_next</th>\n",
       "      <th>class</th>\n",
       "      <th>after</th>\n",
       "      <th>after_true</th>\n",
       "    </tr>\n",
       "  </thead>\n",
       "  <tbody>\n",
       "    <tr>\n",
       "      <th>9045901</th>\n",
       "      <td>1</td>\n",
       "      <td>бюстов</td>\n",
       "      <td>,</td>\n",
       "      <td>герма</td>\n",
       "      <td>)</td>\n",
       "      <td>CARDINAL</td>\n",
       "      <td>один</td>\n",
       "      <td>одна</td>\n",
       "    </tr>\n",
       "    <tr>\n",
       "      <th>1206649</th>\n",
       "      <td>XV</td>\n",
       "      <td>построенный</td>\n",
       "      <td>в</td>\n",
       "      <td>веке</td>\n",
       "      <td>.</td>\n",
       "      <td>CARDINAL</td>\n",
       "      <td>пятнадцать</td>\n",
       "      <td>пятнадцатом</td>\n",
       "    </tr>\n",
       "    <tr>\n",
       "      <th>10119206</th>\n",
       "      <td>84</td>\n",
       "      <td>видов</td>\n",
       "      <td>и</td>\n",
       "      <td>формы</td>\n",
       "      <td>совок</td>\n",
       "      <td>CARDINAL</td>\n",
       "      <td>восемьдесят четыре</td>\n",
       "      <td>восьмидесяти четырех</td>\n",
       "    </tr>\n",
       "    <tr>\n",
       "      <th>7074808</th>\n",
       "      <td>743</td>\n",
       "      <td>741</td>\n",
       "      <td>или</td>\n",
       "      <td>году</td>\n",
       "      <td>.</td>\n",
       "      <td>CARDINAL</td>\n",
       "      <td>семьсот сорок три</td>\n",
       "      <td>семистах сорока трех</td>\n",
       "    </tr>\n",
       "    <tr>\n",
       "      <th>9298107</th>\n",
       "      <td>1</td>\n",
       "      <td>поражение</td>\n",
       "      <td>:</td>\n",
       "      <td>:</td>\n",
       "      <td>7</td>\n",
       "      <td>CARDINAL</td>\n",
       "      <td>1</td>\n",
       "      <td>один</td>\n",
       "    </tr>\n",
       "    <tr>\n",
       "      <th>836450</th>\n",
       "      <td>XXXIV</td>\n",
       "      <td>Всеобщая</td>\n",
       "      <td>история</td>\n",
       "      <td>2</td>\n",
       "      <td>,</td>\n",
       "      <td>CARDINAL</td>\n",
       "      <td>тридцать четыре</td>\n",
       "      <td>тридцати четырех</td>\n",
       "    </tr>\n",
       "    <tr>\n",
       "      <th>2736199</th>\n",
       "      <td>1637</td>\n",
       "      <td>.</td>\n",
       "      <td>В</td>\n",
       "      <td>обосновался</td>\n",
       "      <td>в</td>\n",
       "      <td>CARDINAL</td>\n",
       "      <td>одна тысяча шестьсот тридцать семь</td>\n",
       "      <td>тысячью шестистах тридцати семи</td>\n",
       "    </tr>\n",
       "    <tr>\n",
       "      <th>3797422</th>\n",
       "      <td>800</td>\n",
       "      <td>вмещавшая</td>\n",
       "      <td>до</td>\n",
       "      <td>прихожан</td>\n",
       "      <td>,</td>\n",
       "      <td>CARDINAL</td>\n",
       "      <td>восемьсот</td>\n",
       "      <td>восьмисот</td>\n",
       "    </tr>\n",
       "    <tr>\n",
       "      <th>5685773</th>\n",
       "      <td>II</td>\n",
       "      <td>приезде</td>\n",
       "      <td>Петра</td>\n",
       "      <td>в</td>\n",
       "      <td>Москву</td>\n",
       "      <td>CARDINAL</td>\n",
       "      <td>два</td>\n",
       "      <td>второго</td>\n",
       "    </tr>\n",
       "    <tr>\n",
       "      <th>9271942</th>\n",
       "      <td>4</td>\n",
       "      <td>фронте</td>\n",
       "      <td>находились</td>\n",
       "      <td>пехотные</td>\n",
       "      <td>и</td>\n",
       "      <td>CARDINAL</td>\n",
       "      <td>четыре</td>\n",
       "      <td>четырьмя</td>\n",
       "    </tr>\n",
       "    <tr>\n",
       "      <th>1365019</th>\n",
       "      <td>455</td>\n",
       "      <td>бургунды</td>\n",
       "      <td>с</td>\n",
       "      <td>года</td>\n",
       "      <td>начинают</td>\n",
       "      <td>CARDINAL</td>\n",
       "      <td>четыреста пятьдесят пять</td>\n",
       "      <td>четырехсот пятидесяти пяти</td>\n",
       "    </tr>\n",
       "    <tr>\n",
       "      <th>2424267</th>\n",
       "      <td>1936</td>\n",
       "      <td>графства</td>\n",
       "      <td>:</td>\n",
       "      <td>:</td>\n",
       "      <td>142 310</td>\n",
       "      <td>CARDINAL</td>\n",
       "      <td>одна тысяча девятьсот тридцать шесть</td>\n",
       "      <td>один девять три шесть</td>\n",
       "    </tr>\n",
       "    <tr>\n",
       "      <th>452803</th>\n",
       "      <td>6781</td>\n",
       "      <td>.</td>\n",
       "      <td>Население</td>\n",
       "      <td>человек</td>\n",
       "      <td>(</td>\n",
       "      <td>CARDINAL</td>\n",
       "      <td>шесть тысяч семьсот восемьдесят один</td>\n",
       "      <td>шести тысяч семисот восьмидесяти одного</td>\n",
       "    </tr>\n",
       "    <tr>\n",
       "      <th>4138215</th>\n",
       "      <td>2</td>\n",
       "      <td>,</td>\n",
       "      <td>от</td>\n",
       "      <td>—</td>\n",
       "      <td>8 см</td>\n",
       "      <td>CARDINAL</td>\n",
       "      <td>двух</td>\n",
       "      <td>два</td>\n",
       "    </tr>\n",
       "    <tr>\n",
       "      <th>4729043</th>\n",
       "      <td>II</td>\n",
       "      <td>Отечественной</td>\n",
       "      <td>войны</td>\n",
       "      <td>степени</td>\n",
       "      <td>.</td>\n",
       "      <td>CARDINAL</td>\n",
       "      <td>два</td>\n",
       "      <td>двух</td>\n",
       "    </tr>\n",
       "    <tr>\n",
       "      <th>9604502</th>\n",
       "      <td>94</td>\n",
       "      <td>ВСК</td>\n",
       "      <td>-</td>\n",
       "      <td>.</td>\n",
       "      <td>Калаш</td>\n",
       "      <td>CARDINAL</td>\n",
       "      <td>девяноста четырех</td>\n",
       "      <td>девяносто четыре</td>\n",
       "    </tr>\n",
       "    <tr>\n",
       "      <th>931903</th>\n",
       "      <td>III</td>\n",
       "      <td>.</td>\n",
       "      <td>Анны</td>\n",
       "      <td>степени</td>\n",
       "      <td>и</td>\n",
       "      <td>CARDINAL</td>\n",
       "      <td>три</td>\n",
       "      <td>третьей</td>\n",
       "    </tr>\n",
       "    <tr>\n",
       "      <th>10509123</th>\n",
       "      <td>21</td>\n",
       "      <td>с</td>\n",
       "      <td>решениями</td>\n",
       "      <td>съезда</td>\n",
       "      <td>КПСС</td>\n",
       "      <td>CARDINAL</td>\n",
       "      <td>двадцать один</td>\n",
       "      <td>двадцати одного</td>\n",
       "    </tr>\n",
       "    <tr>\n",
       "      <th>3616379</th>\n",
       "      <td>1838</td>\n",
       "      <td>)</td>\n",
       "      <td>.</td>\n",
       "      <td>,</td>\n",
       "      <td>1839</td>\n",
       "      <td>CARDINAL</td>\n",
       "      <td>одна тысяча восемьсот тридцать восемь</td>\n",
       "      <td>тысяча восемьсот тридцать восемь</td>\n",
       "    </tr>\n",
       "    <tr>\n",
       "      <th>8049330</th>\n",
       "      <td>1665</td>\n",
       "      <td>.</td>\n",
       "      <td>В</td>\n",
       "      <td>Генри</td>\n",
       "      <td>Ольденбург</td>\n",
       "      <td>CARDINAL</td>\n",
       "      <td>одна тысяча шестьсот шестьдесят пять</td>\n",
       "      <td>тысячью шестистах шестидесяти пяти</td>\n",
       "    </tr>\n",
       "  </tbody>\n",
       "</table>\n",
       "</div>"
      ],
      "text/plain": [
       "<div>\n",
       "<style scoped>\n",
       "    .dataframe tbody tr th:only-of-type {\n",
       "        vertical-align: middle;\n",
       "    }\n",
       "\n",
       "    .dataframe tbody tr th {\n",
       "        vertical-align: top;\n",
       "    }\n",
       "\n",
       "    .dataframe thead th {\n",
       "        text-align: right;\n",
       "    }\n",
       "</style>\n",
       "<table border=\"1\" class=\"dataframe\">\n",
       "  <thead>\n",
       "    <tr style=\"text-align: right;\">\n",
       "      <th></th>\n",
       "      <th>before</th>\n",
       "      <th>prev_prev</th>\n",
       "      <th>prev</th>\n",
       "      <th>next</th>\n",
       "      <th>next_next</th>\n",
       "      <th>class</th>\n",
       "      <th>after</th>\n",
       "      <th>after_true</th>\n",
       "    </tr>\n",
       "  </thead>\n",
       "  <tbody>\n",
       "    <tr>\n",
       "      <th>9045901</th>\n",
       "      <td>1</td>\n",
       "      <td>бюстов</td>\n",
       "      <td>,</td>\n",
       "      <td>герма</td>\n",
       "      <td>)</td>\n",
       "      <td>CARDINAL</td>\n",
       "      <td>один</td>\n",
       "      <td>одна</td>\n",
       "    </tr>\n",
       "    <tr>\n",
       "      <th>1206649</th>\n",
       "      <td>XV</td>\n",
       "      <td>построенный</td>\n",
       "      <td>в</td>\n",
       "      <td>веке</td>\n",
       "      <td>.</td>\n",
       "      <td>CARDINAL</td>\n",
       "      <td>пятнадцать</td>\n",
       "      <td>пятнадцатом</td>\n",
       "    </tr>\n",
       "    <tr>\n",
       "      <th>10119206</th>\n",
       "      <td>84</td>\n",
       "      <td>видов</td>\n",
       "      <td>и</td>\n",
       "      <td>формы</td>\n",
       "      <td>совок</td>\n",
       "      <td>CARDINAL</td>\n",
       "      <td>восемьдесят четыре</td>\n",
       "      <td>восьмидесяти четырех</td>\n",
       "    </tr>\n",
       "    <tr>\n",
       "      <th>7074808</th>\n",
       "      <td>743</td>\n",
       "      <td>741</td>\n",
       "      <td>или</td>\n",
       "      <td>году</td>\n",
       "      <td>.</td>\n",
       "      <td>CARDINAL</td>\n",
       "      <td>семьсот сорок три</td>\n",
       "      <td>семистах сорока трех</td>\n",
       "    </tr>\n",
       "    <tr>\n",
       "      <th>9298107</th>\n",
       "      <td>1</td>\n",
       "      <td>поражение</td>\n",
       "      <td>:</td>\n",
       "      <td>:</td>\n",
       "      <td>7</td>\n",
       "      <td>CARDINAL</td>\n",
       "      <td>1</td>\n",
       "      <td>один</td>\n",
       "    </tr>\n",
       "    <tr>\n",
       "      <th>836450</th>\n",
       "      <td>XXXIV</td>\n",
       "      <td>Всеобщая</td>\n",
       "      <td>история</td>\n",
       "      <td>2</td>\n",
       "      <td>,</td>\n",
       "      <td>CARDINAL</td>\n",
       "      <td>тридцать четыре</td>\n",
       "      <td>тридцати четырех</td>\n",
       "    </tr>\n",
       "    <tr>\n",
       "      <th>2736199</th>\n",
       "      <td>1637</td>\n",
       "      <td>.</td>\n",
       "      <td>В</td>\n",
       "      <td>обосновался</td>\n",
       "      <td>в</td>\n",
       "      <td>CARDINAL</td>\n",
       "      <td>одна тысяча шестьсот тридцать семь</td>\n",
       "      <td>тысячью шестистах тридцати семи</td>\n",
       "    </tr>\n",
       "    <tr>\n",
       "      <th>3797422</th>\n",
       "      <td>800</td>\n",
       "      <td>вмещавшая</td>\n",
       "      <td>до</td>\n",
       "      <td>прихожан</td>\n",
       "      <td>,</td>\n",
       "      <td>CARDINAL</td>\n",
       "      <td>восемьсот</td>\n",
       "      <td>восьмисот</td>\n",
       "    </tr>\n",
       "    <tr>\n",
       "      <th>5685773</th>\n",
       "      <td>II</td>\n",
       "      <td>приезде</td>\n",
       "      <td>Петра</td>\n",
       "      <td>в</td>\n",
       "      <td>Москву</td>\n",
       "      <td>CARDINAL</td>\n",
       "      <td>два</td>\n",
       "      <td>второго</td>\n",
       "    </tr>\n",
       "    <tr>\n",
       "      <th>9271942</th>\n",
       "      <td>4</td>\n",
       "      <td>фронте</td>\n",
       "      <td>находились</td>\n",
       "      <td>пехотные</td>\n",
       "      <td>и</td>\n",
       "      <td>CARDINAL</td>\n",
       "      <td>четыре</td>\n",
       "      <td>четырьмя</td>\n",
       "    </tr>\n",
       "    <tr>\n",
       "      <th>1365019</th>\n",
       "      <td>455</td>\n",
       "      <td>бургунды</td>\n",
       "      <td>с</td>\n",
       "      <td>года</td>\n",
       "      <td>начинают</td>\n",
       "      <td>CARDINAL</td>\n",
       "      <td>четыреста пятьдесят пять</td>\n",
       "      <td>четырехсот пятидесяти пяти</td>\n",
       "    </tr>\n",
       "    <tr>\n",
       "      <th>2424267</th>\n",
       "      <td>1936</td>\n",
       "      <td>графства</td>\n",
       "      <td>:</td>\n",
       "      <td>:</td>\n",
       "      <td>142 310</td>\n",
       "      <td>CARDINAL</td>\n",
       "      <td>одна тысяча девятьсот тридцать шесть</td>\n",
       "      <td>один девять три шесть</td>\n",
       "    </tr>\n",
       "    <tr>\n",
       "      <th>452803</th>\n",
       "      <td>6781</td>\n",
       "      <td>.</td>\n",
       "      <td>Население</td>\n",
       "      <td>человек</td>\n",
       "      <td>(</td>\n",
       "      <td>CARDINAL</td>\n",
       "      <td>шесть тысяч семьсот восемьдесят один</td>\n",
       "      <td>шести тысяч семисот восьмидесяти одного</td>\n",
       "    </tr>\n",
       "    <tr>\n",
       "      <th>4138215</th>\n",
       "      <td>2</td>\n",
       "      <td>,</td>\n",
       "      <td>от</td>\n",
       "      <td>—</td>\n",
       "      <td>8 см</td>\n",
       "      <td>CARDINAL</td>\n",
       "      <td>двух</td>\n",
       "      <td>два</td>\n",
       "    </tr>\n",
       "    <tr>\n",
       "      <th>4729043</th>\n",
       "      <td>II</td>\n",
       "      <td>Отечественной</td>\n",
       "      <td>войны</td>\n",
       "      <td>степени</td>\n",
       "      <td>.</td>\n",
       "      <td>CARDINAL</td>\n",
       "      <td>два</td>\n",
       "      <td>двух</td>\n",
       "    </tr>\n",
       "    <tr>\n",
       "      <th>9604502</th>\n",
       "      <td>94</td>\n",
       "      <td>ВСК</td>\n",
       "      <td>-</td>\n",
       "      <td>.</td>\n",
       "      <td>Калаш</td>\n",
       "      <td>CARDINAL</td>\n",
       "      <td>девяноста четырех</td>\n",
       "      <td>девяносто четыре</td>\n",
       "    </tr>\n",
       "    <tr>\n",
       "      <th>931903</th>\n",
       "      <td>III</td>\n",
       "      <td>.</td>\n",
       "      <td>Анны</td>\n",
       "      <td>степени</td>\n",
       "      <td>и</td>\n",
       "      <td>CARDINAL</td>\n",
       "      <td>три</td>\n",
       "      <td>третьей</td>\n",
       "    </tr>\n",
       "    <tr>\n",
       "      <th>10509123</th>\n",
       "      <td>21</td>\n",
       "      <td>с</td>\n",
       "      <td>решениями</td>\n",
       "      <td>съезда</td>\n",
       "      <td>КПСС</td>\n",
       "      <td>CARDINAL</td>\n",
       "      <td>двадцать один</td>\n",
       "      <td>двадцати одного</td>\n",
       "    </tr>\n",
       "    <tr>\n",
       "      <th>3616379</th>\n",
       "      <td>1838</td>\n",
       "      <td>)</td>\n",
       "      <td>.</td>\n",
       "      <td>,</td>\n",
       "      <td>1839</td>\n",
       "      <td>CARDINAL</td>\n",
       "      <td>одна тысяча восемьсот тридцать восемь</td>\n",
       "      <td>тысяча восемьсот тридцать восемь</td>\n",
       "    </tr>\n",
       "    <tr>\n",
       "      <th>8049330</th>\n",
       "      <td>1665</td>\n",
       "      <td>.</td>\n",
       "      <td>В</td>\n",
       "      <td>Генри</td>\n",
       "      <td>Ольденбург</td>\n",
       "      <td>CARDINAL</td>\n",
       "      <td>одна тысяча шестьсот шестьдесят пять</td>\n",
       "      <td>тысячью шестистах шестидесяти пяти</td>\n",
       "    </tr>\n",
       "  </tbody>\n",
       "</table>\n",
       "</div>"
      ]
     },
     "execution_count": 30,
     "metadata": {},
     "output_type": "execute_result"
    }
   ],
   "source": [
    "predicted[(predicted[\"after\"].isnull())]['class'].value_counts()"
   ]
  },
  {
   "cell_type": "code",
   "execution_count": 30,
   "metadata": {
    "collapsed": true
   },
   "outputs": [
    {
     "data": {
      "text/html": [
       "<div>\n",
       "<style scoped>\n",
       "    .dataframe tbody tr th:only-of-type {\n",
       "        vertical-align: middle;\n",
       "    }\n",
       "\n",
       "    .dataframe tbody tr th {\n",
       "        vertical-align: top;\n",
       "    }\n",
       "\n",
       "    .dataframe thead th {\n",
       "        text-align: right;\n",
       "    }\n",
       "</style>\n",
       "<table border=\"1\" class=\"dataframe\">\n",
       "  <thead>\n",
       "    <tr style=\"text-align: right;\">\n",
       "      <th></th>\n",
       "      <th>before</th>\n",
       "      <th>prev_prev</th>\n",
       "      <th>prev</th>\n",
       "      <th>next</th>\n",
       "      <th>next_next</th>\n",
       "      <th>class</th>\n",
       "      <th>after</th>\n",
       "      <th>after_true</th>\n",
       "    </tr>\n",
       "  </thead>\n",
       "  <tbody>\n",
       "    <tr>\n",
       "      <th>9045901</th>\n",
       "      <td>1</td>\n",
       "      <td>бюстов</td>\n",
       "      <td>,</td>\n",
       "      <td>герма</td>\n",
       "      <td>)</td>\n",
       "      <td>CARDINAL</td>\n",
       "      <td>один</td>\n",
       "      <td>одна</td>\n",
       "    </tr>\n",
       "    <tr>\n",
       "      <th>1206649</th>\n",
       "      <td>XV</td>\n",
       "      <td>построенный</td>\n",
       "      <td>в</td>\n",
       "      <td>веке</td>\n",
       "      <td>.</td>\n",
       "      <td>CARDINAL</td>\n",
       "      <td>пятнадцать</td>\n",
       "      <td>пятнадцатом</td>\n",
       "    </tr>\n",
       "    <tr>\n",
       "      <th>10119206</th>\n",
       "      <td>84</td>\n",
       "      <td>видов</td>\n",
       "      <td>и</td>\n",
       "      <td>формы</td>\n",
       "      <td>совок</td>\n",
       "      <td>CARDINAL</td>\n",
       "      <td>восемьдесят четыре</td>\n",
       "      <td>восьмидесяти четырех</td>\n",
       "    </tr>\n",
       "    <tr>\n",
       "      <th>7074808</th>\n",
       "      <td>743</td>\n",
       "      <td>741</td>\n",
       "      <td>или</td>\n",
       "      <td>году</td>\n",
       "      <td>.</td>\n",
       "      <td>CARDINAL</td>\n",
       "      <td>семьсот сорок три</td>\n",
       "      <td>семистах сорока трех</td>\n",
       "    </tr>\n",
       "    <tr>\n",
       "      <th>9298107</th>\n",
       "      <td>1</td>\n",
       "      <td>поражение</td>\n",
       "      <td>:</td>\n",
       "      <td>:</td>\n",
       "      <td>7</td>\n",
       "      <td>CARDINAL</td>\n",
       "      <td>1</td>\n",
       "      <td>один</td>\n",
       "    </tr>\n",
       "    <tr>\n",
       "      <th>836450</th>\n",
       "      <td>XXXIV</td>\n",
       "      <td>Всеобщая</td>\n",
       "      <td>история</td>\n",
       "      <td>2</td>\n",
       "      <td>,</td>\n",
       "      <td>CARDINAL</td>\n",
       "      <td>тридцать четыре</td>\n",
       "      <td>тридцати четырех</td>\n",
       "    </tr>\n",
       "    <tr>\n",
       "      <th>2736199</th>\n",
       "      <td>1637</td>\n",
       "      <td>.</td>\n",
       "      <td>В</td>\n",
       "      <td>обосновался</td>\n",
       "      <td>в</td>\n",
       "      <td>CARDINAL</td>\n",
       "      <td>одна тысяча шестьсот тридцать семь</td>\n",
       "      <td>тысячью шестистах тридцати семи</td>\n",
       "    </tr>\n",
       "    <tr>\n",
       "      <th>3797422</th>\n",
       "      <td>800</td>\n",
       "      <td>вмещавшая</td>\n",
       "      <td>до</td>\n",
       "      <td>прихожан</td>\n",
       "      <td>,</td>\n",
       "      <td>CARDINAL</td>\n",
       "      <td>восемьсот</td>\n",
       "      <td>восьмисот</td>\n",
       "    </tr>\n",
       "    <tr>\n",
       "      <th>5685773</th>\n",
       "      <td>II</td>\n",
       "      <td>приезде</td>\n",
       "      <td>Петра</td>\n",
       "      <td>в</td>\n",
       "      <td>Москву</td>\n",
       "      <td>CARDINAL</td>\n",
       "      <td>два</td>\n",
       "      <td>второго</td>\n",
       "    </tr>\n",
       "    <tr>\n",
       "      <th>9271942</th>\n",
       "      <td>4</td>\n",
       "      <td>фронте</td>\n",
       "      <td>находились</td>\n",
       "      <td>пехотные</td>\n",
       "      <td>и</td>\n",
       "      <td>CARDINAL</td>\n",
       "      <td>четыре</td>\n",
       "      <td>четырьмя</td>\n",
       "    </tr>\n",
       "    <tr>\n",
       "      <th>1365019</th>\n",
       "      <td>455</td>\n",
       "      <td>бургунды</td>\n",
       "      <td>с</td>\n",
       "      <td>года</td>\n",
       "      <td>начинают</td>\n",
       "      <td>CARDINAL</td>\n",
       "      <td>четыреста пятьдесят пять</td>\n",
       "      <td>четырехсот пятидесяти пяти</td>\n",
       "    </tr>\n",
       "    <tr>\n",
       "      <th>2424267</th>\n",
       "      <td>1936</td>\n",
       "      <td>графства</td>\n",
       "      <td>:</td>\n",
       "      <td>:</td>\n",
       "      <td>142 310</td>\n",
       "      <td>CARDINAL</td>\n",
       "      <td>одна тысяча девятьсот тридцать шесть</td>\n",
       "      <td>один девять три шесть</td>\n",
       "    </tr>\n",
       "    <tr>\n",
       "      <th>452803</th>\n",
       "      <td>6781</td>\n",
       "      <td>.</td>\n",
       "      <td>Население</td>\n",
       "      <td>человек</td>\n",
       "      <td>(</td>\n",
       "      <td>CARDINAL</td>\n",
       "      <td>шесть тысяч семьсот восемьдесят один</td>\n",
       "      <td>шести тысяч семисот восьмидесяти одного</td>\n",
       "    </tr>\n",
       "    <tr>\n",
       "      <th>4138215</th>\n",
       "      <td>2</td>\n",
       "      <td>,</td>\n",
       "      <td>от</td>\n",
       "      <td>—</td>\n",
       "      <td>8 см</td>\n",
       "      <td>CARDINAL</td>\n",
       "      <td>двух</td>\n",
       "      <td>два</td>\n",
       "    </tr>\n",
       "    <tr>\n",
       "      <th>4729043</th>\n",
       "      <td>II</td>\n",
       "      <td>Отечественной</td>\n",
       "      <td>войны</td>\n",
       "      <td>степени</td>\n",
       "      <td>.</td>\n",
       "      <td>CARDINAL</td>\n",
       "      <td>два</td>\n",
       "      <td>двух</td>\n",
       "    </tr>\n",
       "    <tr>\n",
       "      <th>9604502</th>\n",
       "      <td>94</td>\n",
       "      <td>ВСК</td>\n",
       "      <td>-</td>\n",
       "      <td>.</td>\n",
       "      <td>Калаш</td>\n",
       "      <td>CARDINAL</td>\n",
       "      <td>девяноста четырех</td>\n",
       "      <td>девяносто четыре</td>\n",
       "    </tr>\n",
       "    <tr>\n",
       "      <th>931903</th>\n",
       "      <td>III</td>\n",
       "      <td>.</td>\n",
       "      <td>Анны</td>\n",
       "      <td>степени</td>\n",
       "      <td>и</td>\n",
       "      <td>CARDINAL</td>\n",
       "      <td>три</td>\n",
       "      <td>третьей</td>\n",
       "    </tr>\n",
       "    <tr>\n",
       "      <th>10509123</th>\n",
       "      <td>21</td>\n",
       "      <td>с</td>\n",
       "      <td>решениями</td>\n",
       "      <td>съезда</td>\n",
       "      <td>КПСС</td>\n",
       "      <td>CARDINAL</td>\n",
       "      <td>двадцать один</td>\n",
       "      <td>двадцати одного</td>\n",
       "    </tr>\n",
       "    <tr>\n",
       "      <th>3616379</th>\n",
       "      <td>1838</td>\n",
       "      <td>)</td>\n",
       "      <td>.</td>\n",
       "      <td>,</td>\n",
       "      <td>1839</td>\n",
       "      <td>CARDINAL</td>\n",
       "      <td>одна тысяча восемьсот тридцать восемь</td>\n",
       "      <td>тысяча восемьсот тридцать восемь</td>\n",
       "    </tr>\n",
       "    <tr>\n",
       "      <th>8049330</th>\n",
       "      <td>1665</td>\n",
       "      <td>.</td>\n",
       "      <td>В</td>\n",
       "      <td>Генри</td>\n",
       "      <td>Ольденбург</td>\n",
       "      <td>CARDINAL</td>\n",
       "      <td>одна тысяча шестьсот шестьдесят пять</td>\n",
       "      <td>тысячью шестистах шестидесяти пяти</td>\n",
       "    </tr>\n",
       "  </tbody>\n",
       "</table>\n",
       "</div>"
      ],
      "text/plain": [
       "<div>\n",
       "<style scoped>\n",
       "    .dataframe tbody tr th:only-of-type {\n",
       "        vertical-align: middle;\n",
       "    }\n",
       "\n",
       "    .dataframe tbody tr th {\n",
       "        vertical-align: top;\n",
       "    }\n",
       "\n",
       "    .dataframe thead th {\n",
       "        text-align: right;\n",
       "    }\n",
       "</style>\n",
       "<table border=\"1\" class=\"dataframe\">\n",
       "  <thead>\n",
       "    <tr style=\"text-align: right;\">\n",
       "      <th></th>\n",
       "      <th>before</th>\n",
       "      <th>prev_prev</th>\n",
       "      <th>prev</th>\n",
       "      <th>next</th>\n",
       "      <th>next_next</th>\n",
       "      <th>class</th>\n",
       "      <th>after</th>\n",
       "      <th>after_true</th>\n",
       "    </tr>\n",
       "  </thead>\n",
       "  <tbody>\n",
       "    <tr>\n",
       "      <th>9045901</th>\n",
       "      <td>1</td>\n",
       "      <td>бюстов</td>\n",
       "      <td>,</td>\n",
       "      <td>герма</td>\n",
       "      <td>)</td>\n",
       "      <td>CARDINAL</td>\n",
       "      <td>один</td>\n",
       "      <td>одна</td>\n",
       "    </tr>\n",
       "    <tr>\n",
       "      <th>1206649</th>\n",
       "      <td>XV</td>\n",
       "      <td>построенный</td>\n",
       "      <td>в</td>\n",
       "      <td>веке</td>\n",
       "      <td>.</td>\n",
       "      <td>CARDINAL</td>\n",
       "      <td>пятнадцать</td>\n",
       "      <td>пятнадцатом</td>\n",
       "    </tr>\n",
       "    <tr>\n",
       "      <th>10119206</th>\n",
       "      <td>84</td>\n",
       "      <td>видов</td>\n",
       "      <td>и</td>\n",
       "      <td>формы</td>\n",
       "      <td>совок</td>\n",
       "      <td>CARDINAL</td>\n",
       "      <td>восемьдесят четыре</td>\n",
       "      <td>восьмидесяти четырех</td>\n",
       "    </tr>\n",
       "    <tr>\n",
       "      <th>7074808</th>\n",
       "      <td>743</td>\n",
       "      <td>741</td>\n",
       "      <td>или</td>\n",
       "      <td>году</td>\n",
       "      <td>.</td>\n",
       "      <td>CARDINAL</td>\n",
       "      <td>семьсот сорок три</td>\n",
       "      <td>семистах сорока трех</td>\n",
       "    </tr>\n",
       "    <tr>\n",
       "      <th>9298107</th>\n",
       "      <td>1</td>\n",
       "      <td>поражение</td>\n",
       "      <td>:</td>\n",
       "      <td>:</td>\n",
       "      <td>7</td>\n",
       "      <td>CARDINAL</td>\n",
       "      <td>1</td>\n",
       "      <td>один</td>\n",
       "    </tr>\n",
       "    <tr>\n",
       "      <th>836450</th>\n",
       "      <td>XXXIV</td>\n",
       "      <td>Всеобщая</td>\n",
       "      <td>история</td>\n",
       "      <td>2</td>\n",
       "      <td>,</td>\n",
       "      <td>CARDINAL</td>\n",
       "      <td>тридцать четыре</td>\n",
       "      <td>тридцати четырех</td>\n",
       "    </tr>\n",
       "    <tr>\n",
       "      <th>2736199</th>\n",
       "      <td>1637</td>\n",
       "      <td>.</td>\n",
       "      <td>В</td>\n",
       "      <td>обосновался</td>\n",
       "      <td>в</td>\n",
       "      <td>CARDINAL</td>\n",
       "      <td>одна тысяча шестьсот тридцать семь</td>\n",
       "      <td>тысячью шестистах тридцати семи</td>\n",
       "    </tr>\n",
       "    <tr>\n",
       "      <th>3797422</th>\n",
       "      <td>800</td>\n",
       "      <td>вмещавшая</td>\n",
       "      <td>до</td>\n",
       "      <td>прихожан</td>\n",
       "      <td>,</td>\n",
       "      <td>CARDINAL</td>\n",
       "      <td>восемьсот</td>\n",
       "      <td>восьмисот</td>\n",
       "    </tr>\n",
       "    <tr>\n",
       "      <th>5685773</th>\n",
       "      <td>II</td>\n",
       "      <td>приезде</td>\n",
       "      <td>Петра</td>\n",
       "      <td>в</td>\n",
       "      <td>Москву</td>\n",
       "      <td>CARDINAL</td>\n",
       "      <td>два</td>\n",
       "      <td>второго</td>\n",
       "    </tr>\n",
       "    <tr>\n",
       "      <th>9271942</th>\n",
       "      <td>4</td>\n",
       "      <td>фронте</td>\n",
       "      <td>находились</td>\n",
       "      <td>пехотные</td>\n",
       "      <td>и</td>\n",
       "      <td>CARDINAL</td>\n",
       "      <td>четыре</td>\n",
       "      <td>четырьмя</td>\n",
       "    </tr>\n",
       "    <tr>\n",
       "      <th>1365019</th>\n",
       "      <td>455</td>\n",
       "      <td>бургунды</td>\n",
       "      <td>с</td>\n",
       "      <td>года</td>\n",
       "      <td>начинают</td>\n",
       "      <td>CARDINAL</td>\n",
       "      <td>четыреста пятьдесят пять</td>\n",
       "      <td>четырехсот пятидесяти пяти</td>\n",
       "    </tr>\n",
       "    <tr>\n",
       "      <th>2424267</th>\n",
       "      <td>1936</td>\n",
       "      <td>графства</td>\n",
       "      <td>:</td>\n",
       "      <td>:</td>\n",
       "      <td>142 310</td>\n",
       "      <td>CARDINAL</td>\n",
       "      <td>одна тысяча девятьсот тридцать шесть</td>\n",
       "      <td>один девять три шесть</td>\n",
       "    </tr>\n",
       "    <tr>\n",
       "      <th>452803</th>\n",
       "      <td>6781</td>\n",
       "      <td>.</td>\n",
       "      <td>Население</td>\n",
       "      <td>человек</td>\n",
       "      <td>(</td>\n",
       "      <td>CARDINAL</td>\n",
       "      <td>шесть тысяч семьсот восемьдесят один</td>\n",
       "      <td>шести тысяч семисот восьмидесяти одного</td>\n",
       "    </tr>\n",
       "    <tr>\n",
       "      <th>4138215</th>\n",
       "      <td>2</td>\n",
       "      <td>,</td>\n",
       "      <td>от</td>\n",
       "      <td>—</td>\n",
       "      <td>8 см</td>\n",
       "      <td>CARDINAL</td>\n",
       "      <td>двух</td>\n",
       "      <td>два</td>\n",
       "    </tr>\n",
       "    <tr>\n",
       "      <th>4729043</th>\n",
       "      <td>II</td>\n",
       "      <td>Отечественной</td>\n",
       "      <td>войны</td>\n",
       "      <td>степени</td>\n",
       "      <td>.</td>\n",
       "      <td>CARDINAL</td>\n",
       "      <td>два</td>\n",
       "      <td>двух</td>\n",
       "    </tr>\n",
       "    <tr>\n",
       "      <th>9604502</th>\n",
       "      <td>94</td>\n",
       "      <td>ВСК</td>\n",
       "      <td>-</td>\n",
       "      <td>.</td>\n",
       "      <td>Калаш</td>\n",
       "      <td>CARDINAL</td>\n",
       "      <td>девяноста четырех</td>\n",
       "      <td>девяносто четыре</td>\n",
       "    </tr>\n",
       "    <tr>\n",
       "      <th>931903</th>\n",
       "      <td>III</td>\n",
       "      <td>.</td>\n",
       "      <td>Анны</td>\n",
       "      <td>степени</td>\n",
       "      <td>и</td>\n",
       "      <td>CARDINAL</td>\n",
       "      <td>три</td>\n",
       "      <td>третьей</td>\n",
       "    </tr>\n",
       "    <tr>\n",
       "      <th>10509123</th>\n",
       "      <td>21</td>\n",
       "      <td>с</td>\n",
       "      <td>решениями</td>\n",
       "      <td>съезда</td>\n",
       "      <td>КПСС</td>\n",
       "      <td>CARDINAL</td>\n",
       "      <td>двадцать один</td>\n",
       "      <td>двадцати одного</td>\n",
       "    </tr>\n",
       "    <tr>\n",
       "      <th>3616379</th>\n",
       "      <td>1838</td>\n",
       "      <td>)</td>\n",
       "      <td>.</td>\n",
       "      <td>,</td>\n",
       "      <td>1839</td>\n",
       "      <td>CARDINAL</td>\n",
       "      <td>одна тысяча восемьсот тридцать восемь</td>\n",
       "      <td>тысяча восемьсот тридцать восемь</td>\n",
       "    </tr>\n",
       "    <tr>\n",
       "      <th>8049330</th>\n",
       "      <td>1665</td>\n",
       "      <td>.</td>\n",
       "      <td>В</td>\n",
       "      <td>Генри</td>\n",
       "      <td>Ольденбург</td>\n",
       "      <td>CARDINAL</td>\n",
       "      <td>одна тысяча шестьсот шестьдесят пять</td>\n",
       "      <td>тысячью шестистах шестидесяти пяти</td>\n",
       "    </tr>\n",
       "  </tbody>\n",
       "</table>\n",
       "</div>"
      ]
     },
     "execution_count": 30,
     "metadata": {},
     "output_type": "execute_result"
    }
   ],
   "source": [
    "predicted[~(predicted[\"after\"] == y_test) & ~(predicted[\"after\"].isnull()) & (predicted['class']=='CARDINAL')].sample(20)"
   ]
  },
  {
   "cell_type": "code",
   "execution_count": 15,
   "metadata": {
    "collapsed": true
   },
   "outputs": [
    {
     "data": {
      "text/html": [
       "<div>\n",
       "<style scoped>\n",
       "    .dataframe tbody tr th:only-of-type {\n",
       "        vertical-align: middle;\n",
       "    }\n",
       "\n",
       "    .dataframe tbody tr th {\n",
       "        vertical-align: top;\n",
       "    }\n",
       "\n",
       "    .dataframe thead th {\n",
       "        text-align: right;\n",
       "    }\n",
       "</style>\n",
       "<table border=\"1\" class=\"dataframe\">\n",
       "  <thead>\n",
       "    <tr style=\"text-align: right;\">\n",
       "      <th></th>\n",
       "      <th>before</th>\n",
       "      <th>prev_prev</th>\n",
       "      <th>prev</th>\n",
       "      <th>next</th>\n",
       "      <th>next_next</th>\n",
       "      <th>class</th>\n",
       "      <th>case</th>\n",
       "      <th>number</th>\n",
       "      <th>after</th>\n",
       "      <th>after_true</th>\n",
       "    </tr>\n",
       "  </thead>\n",
       "  <tbody>\n",
       "    <tr>\n",
       "      <th>3439716</th>\n",
       "      <td>.</td>\n",
       "      <td>и</td>\n",
       "      <td>CCKB</td>\n",
       "      <td>Первая</td>\n",
       "      <td>бригада</td>\n",
       "      <td>CARDINAL</td>\n",
       "      <td>nomn</td>\n",
       "      <td>sing</td>\n",
       "      <td>None</td>\n",
       "      <td>.</td>\n",
       "    </tr>\n",
       "    <tr>\n",
       "      <th>228056</th>\n",
       "      <td>.</td>\n",
       "      <td>первоисточника</td>\n",
       "      <td>26 апреля 2015</td>\n",
       "      <td>Усадьба</td>\n",
       "      <td>Барсовой</td>\n",
       "      <td>CARDINAL</td>\n",
       "      <td>nomn</td>\n",
       "      <td>sing</td>\n",
       "      <td>None</td>\n",
       "      <td>.</td>\n",
       "    </tr>\n",
       "    <tr>\n",
       "      <th>5254234</th>\n",
       "      <td>.</td>\n",
       "      <td>с</td>\n",
       "      <td>компанией</td>\n",
       "      <td>Тонкий</td>\n",
       "      <td>хвост</td>\n",
       "      <td>CARDINAL</td>\n",
       "      <td>nomn</td>\n",
       "      <td>sing</td>\n",
       "      <td>None</td>\n",
       "      <td>.</td>\n",
       "    </tr>\n",
       "    <tr>\n",
       "      <th>1074310</th>\n",
       "      <td>184</td>\n",
       "      <td>жителей</td>\n",
       "      <td>работали</td>\n",
       "      <td>человека</td>\n",
       "      <td>(</td>\n",
       "      <td>CARDINAL</td>\n",
       "      <td>nomn</td>\n",
       "      <td>sing</td>\n",
       "      <td>сто восемьдесят четыре</td>\n",
       "      <td>сто восемьдесят четыре</td>\n",
       "    </tr>\n",
       "    <tr>\n",
       "      <th>7318781</th>\n",
       "      <td>7</td>\n",
       "      <td>23</td>\n",
       "      <td>.</td>\n",
       "      <td>человек</td>\n",
       "      <td>на</td>\n",
       "      <td>CARDINAL</td>\n",
       "      <td>nomn</td>\n",
       "      <td>none</td>\n",
       "      <td>семь</td>\n",
       "      <td>семь</td>\n",
       "    </tr>\n",
       "    <tr>\n",
       "      <th>3260148</th>\n",
       "      <td>-</td>\n",
       "      <td>украинкой</td>\n",
       "      <td>Ганной</td>\n",
       "      <td>рисовальщицей</td>\n",
       "      <td>»</td>\n",
       "      <td>CARDINAL</td>\n",
       "      <td>nomn</td>\n",
       "      <td>sing</td>\n",
       "      <td>None</td>\n",
       "      <td>-</td>\n",
       "    </tr>\n",
       "    <tr>\n",
       "      <th>268049</th>\n",
       "      <td>.</td>\n",
       "      <td>(</td>\n",
       "      <td>исп</td>\n",
       "      <td>Keiko</td>\n",
       "      <td>Sofia</td>\n",
       "      <td>CARDINAL</td>\n",
       "      <td>nomn</td>\n",
       "      <td>sing</td>\n",
       "      <td>None</td>\n",
       "      <td>.</td>\n",
       "    </tr>\n",
       "    <tr>\n",
       "      <th>8609176</th>\n",
       "      <td>-</td>\n",
       "      <td>и</td>\n",
       "      <td>Сен</td>\n",
       "      <td>Филип</td>\n",
       "      <td>,</td>\n",
       "      <td>CARDINAL</td>\n",
       "      <td>nomn</td>\n",
       "      <td>sing</td>\n",
       "      <td>None</td>\n",
       "      <td>-</td>\n",
       "    </tr>\n",
       "    <tr>\n",
       "      <th>4202194</th>\n",
       "      <td>.</td>\n",
       "      <td>en</td>\n",
       "      <td>Diest</td>\n",
       "      <td>Король</td>\n",
       "      <td>Эдуард</td>\n",
       "      <td>CARDINAL</td>\n",
       "      <td>nomn</td>\n",
       "      <td>sing</td>\n",
       "      <td>None</td>\n",
       "      <td>.</td>\n",
       "    </tr>\n",
       "    <tr>\n",
       "      <th>2757101</th>\n",
       "      <td>779</td>\n",
       "      <td>775</td>\n",
       "      <td>по</td>\n",
       "      <td>.</td>\n",
       "      <td>Нерсе</td>\n",
       "      <td>CARDINAL</td>\n",
       "      <td>nomn</td>\n",
       "      <td>none</td>\n",
       "      <td>семьсот семьдесят девять</td>\n",
       "      <td>семьсот семьдесят девятый</td>\n",
       "    </tr>\n",
       "    <tr>\n",
       "      <th>64429</th>\n",
       "      <td>.</td>\n",
       "      <td>,</td>\n",
       "      <td>1922</td>\n",
       "      <td>Angles</td>\n",
       "      <td>H.</td>\n",
       "      <td>CARDINAL</td>\n",
       "      <td>nomn</td>\n",
       "      <td>sing</td>\n",
       "      <td>None</td>\n",
       "      <td>.</td>\n",
       "    </tr>\n",
       "    <tr>\n",
       "      <th>7704610</th>\n",
       "      <td>.</td>\n",
       "      <td>.</td>\n",
       "      <td>495</td>\n",
       "      <td>Martin</td>\n",
       "      <td>and</td>\n",
       "      <td>CARDINAL</td>\n",
       "      <td>nomn</td>\n",
       "      <td>sing</td>\n",
       "      <td>None</td>\n",
       "      <td>.</td>\n",
       "    </tr>\n",
       "    <tr>\n",
       "      <th>7824686</th>\n",
       "      <td>.</td>\n",
       "      <td>первоисточника</td>\n",
       "      <td>8 апреля 2013</td>\n",
       "      <td>Best</td>\n",
       "      <td>-</td>\n",
       "      <td>CARDINAL</td>\n",
       "      <td>nomn</td>\n",
       "      <td>sing</td>\n",
       "      <td>None</td>\n",
       "      <td>.</td>\n",
       "    </tr>\n",
       "    <tr>\n",
       "      <th>6324313</th>\n",
       "      <td>112</td>\n",
       "      <td>101</td>\n",
       "      <td>-</td>\n",
       "      <td>.</td>\n",
       "      <td>Mikel</td>\n",
       "      <td>CARDINAL</td>\n",
       "      <td>gent</td>\n",
       "      <td>none</td>\n",
       "      <td>сто двенадцати</td>\n",
       "      <td>ста двенадцати</td>\n",
       "    </tr>\n",
       "    <tr>\n",
       "      <th>2745465</th>\n",
       "      <td>-</td>\n",
       "      <td>,</td>\n",
       "      <td>по</td>\n",
       "      <td>прежнему</td>\n",
       "      <td>обсуждается</td>\n",
       "      <td>CARDINAL</td>\n",
       "      <td>nomn</td>\n",
       "      <td>sing</td>\n",
       "      <td>None</td>\n",
       "      <td>-</td>\n",
       "    </tr>\n",
       "    <tr>\n",
       "      <th>5457860</th>\n",
       "      <td>333</td>\n",
       "      <td>331</td>\n",
       "      <td>—</td>\n",
       "      <td>.</td>\n",
       "      <td>Зимин</td>\n",
       "      <td>CARDINAL</td>\n",
       "      <td>accs</td>\n",
       "      <td>sing</td>\n",
       "      <td>триста тридцать три</td>\n",
       "      <td>триста тридцать три</td>\n",
       "    </tr>\n",
       "    <tr>\n",
       "      <th>429987</th>\n",
       "      <td>-</td>\n",
       "      <td>в</td>\n",
       "      <td>Орехово</td>\n",
       "      <td>Зуевском</td>\n",
       "      <td>муниципальном</td>\n",
       "      <td>CARDINAL</td>\n",
       "      <td>nomn</td>\n",
       "      <td>sing</td>\n",
       "      <td>None</td>\n",
       "      <td>-</td>\n",
       "    </tr>\n",
       "    <tr>\n",
       "      <th>5434369</th>\n",
       "      <td>.</td>\n",
       "      <td>московской</td>\n",
       "      <td>теократии</td>\n",
       "      <td>Женевьева</td>\n",
       "      <td>Родис</td>\n",
       "      <td>CARDINAL</td>\n",
       "      <td>nomn</td>\n",
       "      <td>sing</td>\n",
       "      <td>None</td>\n",
       "      <td>.</td>\n",
       "    </tr>\n",
       "    <tr>\n",
       "      <th>2449632</th>\n",
       "      <td>.</td>\n",
       "      <td>-</td>\n",
       "      <td>2012</td>\n",
       "      <td>Ultratop</td>\n",
       "      <td>.</td>\n",
       "      <td>CARDINAL</td>\n",
       "      <td>nomn</td>\n",
       "      <td>sing</td>\n",
       "      <td>None</td>\n",
       "      <td>.</td>\n",
       "    </tr>\n",
       "    <tr>\n",
       "      <th>1837088</th>\n",
       "      <td>2006</td>\n",
       "      <td>рингу</td>\n",
       "      <td>(</td>\n",
       "      <td>)</td>\n",
       "      <td>.</td>\n",
       "      <td>CARDINAL</td>\n",
       "      <td>nomn</td>\n",
       "      <td>sing</td>\n",
       "      <td>две тысячи шесть</td>\n",
       "      <td>две тысячи шесть</td>\n",
       "    </tr>\n",
       "    <tr>\n",
       "      <th>6140572</th>\n",
       "      <td>.</td>\n",
       "      <td>5000</td>\n",
       "      <td>экз</td>\n",
       "      <td>Министерство</td>\n",
       "      <td>здравоохранения</td>\n",
       "      <td>CARDINAL</td>\n",
       "      <td>nomn</td>\n",
       "      <td>sing</td>\n",
       "      <td>None</td>\n",
       "      <td>.</td>\n",
       "    </tr>\n",
       "    <tr>\n",
       "      <th>330087</th>\n",
       "      <td>.</td>\n",
       "      <td>Jorge</td>\n",
       "      <td>Edwards</td>\n",
       "      <td>Основные</td>\n",
       "      <td>теоретики</td>\n",
       "      <td>CARDINAL</td>\n",
       "      <td>nomn</td>\n",
       "      <td>sing</td>\n",
       "      <td>None</td>\n",
       "      <td>.</td>\n",
       "    </tr>\n",
       "    <tr>\n",
       "      <th>5887363</th>\n",
       "      <td>/</td>\n",
       "      <td>(</td>\n",
       "      <td>2006</td>\n",
       "      <td>07</td>\n",
       "      <td>,</td>\n",
       "      <td>CARDINAL</td>\n",
       "      <td>nomn</td>\n",
       "      <td>sing</td>\n",
       "      <td>None</td>\n",
       "      <td>/</td>\n",
       "    </tr>\n",
       "    <tr>\n",
       "      <th>1842620</th>\n",
       "      <td>12</td>\n",
       "      <td>Царском</td>\n",
       "      <td>Селе</td>\n",
       "      <td>(</td>\n",
       "      <td>24</td>\n",
       "      <td>CARDINAL</td>\n",
       "      <td>nomn</td>\n",
       "      <td>none</td>\n",
       "      <td>двенадцать</td>\n",
       "      <td>двенадцать</td>\n",
       "    </tr>\n",
       "    <tr>\n",
       "      <th>9121114</th>\n",
       "      <td>20</td>\n",
       "      <td>большой</td>\n",
       "      <td>за</td>\n",
       "      <td>лет</td>\n",
       "      <td>.</td>\n",
       "      <td>CARDINAL</td>\n",
       "      <td>nomn</td>\n",
       "      <td>none</td>\n",
       "      <td>двадцать</td>\n",
       "      <td>двадцать</td>\n",
       "    </tr>\n",
       "    <tr>\n",
       "      <th>5942303</th>\n",
       "      <td>16</td>\n",
       "      <td>автором</td>\n",
       "      <td>в</td>\n",
       "      <td>лет</td>\n",
       "      <td>.</td>\n",
       "      <td>CARDINAL</td>\n",
       "      <td>nomn</td>\n",
       "      <td>none</td>\n",
       "      <td>шестнадцать</td>\n",
       "      <td>шестнадцать</td>\n",
       "    </tr>\n",
       "    <tr>\n",
       "      <th>4285396</th>\n",
       "      <td>.</td>\n",
       "      <td>И. И.</td>\n",
       "      <td>Соколов</td>\n",
       "      <td>Население</td>\n",
       "      <td>составляет</td>\n",
       "      <td>CARDINAL</td>\n",
       "      <td>nomn</td>\n",
       "      <td>sing</td>\n",
       "      <td>None</td>\n",
       "      <td>.</td>\n",
       "    </tr>\n",
       "    <tr>\n",
       "      <th>5657428</th>\n",
       "      <td>.</td>\n",
       "      <td>воду</td>\n",
       "      <td>16 мая 1818 года</td>\n",
       "      <td>Военные</td>\n",
       "      <td>кампании</td>\n",
       "      <td>CARDINAL</td>\n",
       "      <td>nomn</td>\n",
       "      <td>sing</td>\n",
       "      <td>None</td>\n",
       "      <td>.</td>\n",
       "    </tr>\n",
       "    <tr>\n",
       "      <th>3422143</th>\n",
       "      <td>.</td>\n",
       "      <td>Проверено</td>\n",
       "      <td>21 апреля 2015</td>\n",
       "      <td>Sudhish</td>\n",
       "      <td>Kamath</td>\n",
       "      <td>CARDINAL</td>\n",
       "      <td>nomn</td>\n",
       "      <td>sing</td>\n",
       "      <td>None</td>\n",
       "      <td>.</td>\n",
       "    </tr>\n",
       "    <tr>\n",
       "      <th>3990749</th>\n",
       "      <td>.</td>\n",
       "      <td>с</td>\n",
       "      <td>правдой</td>\n",
       "      <td>В</td>\n",
       "      <td>1955 году</td>\n",
       "      <td>CARDINAL</td>\n",
       "      <td>nomn</td>\n",
       "      <td>sing</td>\n",
       "      <td>None</td>\n",
       "      <td>.</td>\n",
       "    </tr>\n",
       "    <tr>\n",
       "      <th>...</th>\n",
       "      <td>...</td>\n",
       "      <td>...</td>\n",
       "      <td>...</td>\n",
       "      <td>...</td>\n",
       "      <td>...</td>\n",
       "      <td>...</td>\n",
       "      <td>...</td>\n",
       "      <td>...</td>\n",
       "      <td>...</td>\n",
       "      <td>...</td>\n",
       "    </tr>\n",
       "    <tr>\n",
       "      <th>10541187</th>\n",
       "      <td>.</td>\n",
       "      <td>историческое</td>\n",
       "      <td>значение</td>\n",
       "      <td>Автор</td>\n",
       "      <td>сценария</td>\n",
       "      <td>CARDINAL</td>\n",
       "      <td>nomn</td>\n",
       "      <td>sing</td>\n",
       "      <td>None</td>\n",
       "      <td>.</td>\n",
       "    </tr>\n",
       "    <tr>\n",
       "      <th>10527273</th>\n",
       "      <td>.</td>\n",
       "      <td>первоисточника</td>\n",
       "      <td>8 июля 2012</td>\n",
       "      <td>Gendron</td>\n",
       "      <td>,</td>\n",
       "      <td>CARDINAL</td>\n",
       "      <td>nomn</td>\n",
       "      <td>sing</td>\n",
       "      <td>None</td>\n",
       "      <td>.</td>\n",
       "    </tr>\n",
       "    <tr>\n",
       "      <th>7779410</th>\n",
       "      <td>.</td>\n",
       "      <td>первоисточника</td>\n",
       "      <td>18 августа 2012</td>\n",
       "      <td>Linkin</td>\n",
       "      <td>Park</td>\n",
       "      <td>CARDINAL</td>\n",
       "      <td>nomn</td>\n",
       "      <td>sing</td>\n",
       "      <td>None</td>\n",
       "      <td>.</td>\n",
       "    </tr>\n",
       "    <tr>\n",
       "      <th>2751668</th>\n",
       "      <td>.</td>\n",
       "      <td>особенно</td>\n",
       "      <td>женщин</td>\n",
       "      <td>Военная</td>\n",
       "      <td>кампания</td>\n",
       "      <td>CARDINAL</td>\n",
       "      <td>nomn</td>\n",
       "      <td>sing</td>\n",
       "      <td>None</td>\n",
       "      <td>.</td>\n",
       "    </tr>\n",
       "    <tr>\n",
       "      <th>2485600</th>\n",
       "      <td>XII</td>\n",
       "      <td>и</td>\n",
       "      <td>до</td>\n",
       "      <td>века</td>\n",
       "      <td>власть</td>\n",
       "      <td>CARDINAL</td>\n",
       "      <td>nomn</td>\n",
       "      <td>none</td>\n",
       "      <td>None</td>\n",
       "      <td>двенадцатого</td>\n",
       "    </tr>\n",
       "    <tr>\n",
       "      <th>8812525</th>\n",
       "      <td>20</td>\n",
       "      <td>(</td>\n",
       "      <td>до</td>\n",
       "      <td>)</td>\n",
       "      <td>VS</td>\n",
       "      <td>CARDINAL</td>\n",
       "      <td>nomn</td>\n",
       "      <td>none</td>\n",
       "      <td>двадцать</td>\n",
       "      <td>двадцати</td>\n",
       "    </tr>\n",
       "    <tr>\n",
       "      <th>5282690</th>\n",
       "      <td>.</td>\n",
       "      <td>:</td>\n",
       "      <td>ил</td>\n",
       "      <td>В. А.</td>\n",
       "      <td>Возчикова</td>\n",
       "      <td>CARDINAL</td>\n",
       "      <td>nomn</td>\n",
       "      <td>sing</td>\n",
       "      <td>None</td>\n",
       "      <td>.</td>\n",
       "    </tr>\n",
       "    <tr>\n",
       "      <th>2079557</th>\n",
       "      <td>.</td>\n",
       "      <td>доктора</td>\n",
       "      <td>техн</td>\n",
       "      <td>наук</td>\n",
       "      <td>.</td>\n",
       "      <td>CARDINAL</td>\n",
       "      <td>nomn</td>\n",
       "      <td>sing</td>\n",
       "      <td>None</td>\n",
       "      <td>.</td>\n",
       "    </tr>\n",
       "    <tr>\n",
       "      <th>7510534</th>\n",
       "      <td>482</td>\n",
       "      <td>Космос</td>\n",
       "      <td>-</td>\n",
       "      <td>—</td>\n",
       "      <td>автоматическая</td>\n",
       "      <td>CARDINAL</td>\n",
       "      <td>nomn</td>\n",
       "      <td>none</td>\n",
       "      <td>четыреста восемьдесят два</td>\n",
       "      <td>четыреста восемьдесят два</td>\n",
       "    </tr>\n",
       "    <tr>\n",
       "      <th>2480445</th>\n",
       "      <td>69</td>\n",
       "      <td>—</td>\n",
       "      <td>С.</td>\n",
       "      <td>.</td>\n",
       "      <td>London</td>\n",
       "      <td>CARDINAL</td>\n",
       "      <td>nomn</td>\n",
       "      <td>none</td>\n",
       "      <td>шестьдесят девять</td>\n",
       "      <td>шестьдесят девять</td>\n",
       "    </tr>\n",
       "    <tr>\n",
       "      <th>9311043</th>\n",
       "      <td>/</td>\n",
       "      <td>)</td>\n",
       "      <td>/</td>\n",
       "      <td>Крылья</td>\n",
       "      <td>Родины</td>\n",
       "      <td>CARDINAL</td>\n",
       "      <td>nomn</td>\n",
       "      <td>sing</td>\n",
       "      <td>None</td>\n",
       "      <td>/</td>\n",
       "    </tr>\n",
       "    <tr>\n",
       "      <th>8832656</th>\n",
       "      <td>9</td>\n",
       "      <td>территории</td>\n",
       "      <td>Украины</td>\n",
       "      <td>населенных</td>\n",
       "      <td>пунктов</td>\n",
       "      <td>CARDINAL</td>\n",
       "      <td>nomn</td>\n",
       "      <td>none</td>\n",
       "      <td>девять</td>\n",
       "      <td>девять</td>\n",
       "    </tr>\n",
       "    <tr>\n",
       "      <th>40194</th>\n",
       "      <td>1627</td>\n",
       "      <td>Дрезден</td>\n",
       "      <td>,</td>\n",
       "      <td>)</td>\n",
       "      <td>.</td>\n",
       "      <td>CARDINAL</td>\n",
       "      <td>nomn</td>\n",
       "      <td>sing</td>\n",
       "      <td>одна тысяча шестьсот двадцать семь</td>\n",
       "      <td>тысяча шестьсот двадцать семь</td>\n",
       "    </tr>\n",
       "    <tr>\n",
       "      <th>4910763</th>\n",
       "      <td>-</td>\n",
       "      <td>БОЙ</td>\n",
       "      <td>КЛИЧКО</td>\n",
       "      <td>ПОВЕТКИН</td>\n",
       "      <td>НАЗВАН</td>\n",
       "      <td>CARDINAL</td>\n",
       "      <td>nomn</td>\n",
       "      <td>sing</td>\n",
       "      <td>None</td>\n",
       "      <td>-</td>\n",
       "    </tr>\n",
       "    <tr>\n",
       "      <th>6213164</th>\n",
       "      <td>1127</td>\n",
       "      <td>(</td>\n",
       "      <td>с</td>\n",
       "      <td>)</td>\n",
       "      <td>.</td>\n",
       "      <td>CARDINAL</td>\n",
       "      <td>nomn</td>\n",
       "      <td>sing</td>\n",
       "      <td>одна тысяча сто двадцать семь</td>\n",
       "      <td>тысяча сто двадцать семь</td>\n",
       "    </tr>\n",
       "    <tr>\n",
       "      <th>695002</th>\n",
       "      <td>.</td>\n",
       "      <td>,</td>\n",
       "      <td>vol</td>\n",
       "      <td>Ричард</td>\n",
       "      <td>проверяет</td>\n",
       "      <td>CARDINAL</td>\n",
       "      <td>nomn</td>\n",
       "      <td>sing</td>\n",
       "      <td>None</td>\n",
       "      <td>.</td>\n",
       "    </tr>\n",
       "    <tr>\n",
       "      <th>855302</th>\n",
       "      <td>13 842</td>\n",
       "      <td>2000 года</td>\n",
       "      <td>составляет</td>\n",
       "      <td>чел</td>\n",
       "      <td>.</td>\n",
       "      <td>CARDINAL</td>\n",
       "      <td>nomn</td>\n",
       "      <td>plur</td>\n",
       "      <td>None</td>\n",
       "      <td>тринадцать тысяч восемьсот сорок два</td>\n",
       "    </tr>\n",
       "    <tr>\n",
       "      <th>2465111</th>\n",
       "      <td>.</td>\n",
       "      <td>с</td>\n",
       "      <td>вооружения</td>\n",
       "      <td>Облечихино</td>\n",
       "      <td>—</td>\n",
       "      <td>CARDINAL</td>\n",
       "      <td>nomn</td>\n",
       "      <td>sing</td>\n",
       "      <td>None</td>\n",
       "      <td>.</td>\n",
       "    </tr>\n",
       "    <tr>\n",
       "      <th>9463288</th>\n",
       "      <td>1700</td>\n",
       "      <td>1699</td>\n",
       "      <td>—</td>\n",
       "      <td>по</td>\n",
       "      <td>1899</td>\n",
       "      <td>CARDINAL</td>\n",
       "      <td>nomn</td>\n",
       "      <td>sing</td>\n",
       "      <td>одна тысяча семьсот</td>\n",
       "      <td>тысяча семьсот</td>\n",
       "    </tr>\n",
       "    <tr>\n",
       "      <th>5130151</th>\n",
       "      <td>-</td>\n",
       "      <td>государственный</td>\n",
       "      <td>архитектурно</td>\n",
       "      <td>строительный</td>\n",
       "      <td>институт</td>\n",
       "      <td>CARDINAL</td>\n",
       "      <td>nomn</td>\n",
       "      <td>sing</td>\n",
       "      <td>None</td>\n",
       "      <td>-</td>\n",
       "    </tr>\n",
       "    <tr>\n",
       "      <th>9980371</th>\n",
       "      <td>15</td>\n",
       "      <td>7:15</td>\n",
       "      <td>,</td>\n",
       "      <td>:</td>\n",
       "      <td>9</td>\n",
       "      <td>CARDINAL</td>\n",
       "      <td>nomn</td>\n",
       "      <td>none</td>\n",
       "      <td>пятнадцать</td>\n",
       "      <td>пятнадцать</td>\n",
       "    </tr>\n",
       "    <tr>\n",
       "      <th>6955867</th>\n",
       "      <td>.</td>\n",
       "      <td>.</td>\n",
       "      <td>f</td>\n",
       "      <td>belorussicus</td>\n",
       "      <td>Kurl</td>\n",
       "      <td>CARDINAL</td>\n",
       "      <td>nomn</td>\n",
       "      <td>sing</td>\n",
       "      <td>None</td>\n",
       "      <td>.</td>\n",
       "    </tr>\n",
       "    <tr>\n",
       "      <th>5530344</th>\n",
       "      <td>651</td>\n",
       "      <td>p</td>\n",
       "      <td>.</td>\n",
       "      <td>.</td>\n",
       "      <td>Till</td>\n",
       "      <td>CARDINAL</td>\n",
       "      <td>nomn</td>\n",
       "      <td>sing</td>\n",
       "      <td>шестьсот пятьдесят один</td>\n",
       "      <td>шестьсот пятьдесят один</td>\n",
       "    </tr>\n",
       "    <tr>\n",
       "      <th>8965855</th>\n",
       "      <td>1942</td>\n",
       "      <td>животноводства</td>\n",
       "      <td>(</td>\n",
       "      <td>—</td>\n",
       "      <td>1955</td>\n",
       "      <td>CARDINAL</td>\n",
       "      <td>nomn</td>\n",
       "      <td>sing</td>\n",
       "      <td>одна тысяча девятьсот сорок два</td>\n",
       "      <td>тысяча девятьсот сорок два</td>\n",
       "    </tr>\n",
       "    <tr>\n",
       "      <th>1882260</th>\n",
       "      <td>19</td>\n",
       "      <td>на</td>\n",
       "      <td>основании</td>\n",
       "      <td>рецензий</td>\n",
       "      <td>.</td>\n",
       "      <td>CARDINAL</td>\n",
       "      <td>nomn</td>\n",
       "      <td>none</td>\n",
       "      <td>девятнадцать</td>\n",
       "      <td>девятнадцати</td>\n",
       "    </tr>\n",
       "    <tr>\n",
       "      <th>8536813</th>\n",
       "      <td>0</td>\n",
       "      <td>3</td>\n",
       "      <td>:</td>\n",
       "      <td>(</td>\n",
       "      <td>15</td>\n",
       "      <td>CARDINAL</td>\n",
       "      <td>nomn</td>\n",
       "      <td>sing</td>\n",
       "      <td>ноль</td>\n",
       "      <td>ноль</td>\n",
       "    </tr>\n",
       "    <tr>\n",
       "      <th>5853661</th>\n",
       "      <td>.</td>\n",
       "      <td>в</td>\n",
       "      <td>село</td>\n",
       "      <td>Усики</td>\n",
       "      <td>самок</td>\n",
       "      <td>CARDINAL</td>\n",
       "      <td>nomn</td>\n",
       "      <td>sing</td>\n",
       "      <td>None</td>\n",
       "      <td>.</td>\n",
       "    </tr>\n",
       "    <tr>\n",
       "      <th>9375998</th>\n",
       "      <td>249</td>\n",
       "      <td>Карта</td>\n",
       "      <td>С.</td>\n",
       "      <td>.</td>\n",
       "      <td>Якутская</td>\n",
       "      <td>CARDINAL</td>\n",
       "      <td>nomn</td>\n",
       "      <td>plur</td>\n",
       "      <td>двести сорок девять</td>\n",
       "      <td>двести сорок девять</td>\n",
       "    </tr>\n",
       "    <tr>\n",
       "      <th>6697132</th>\n",
       "      <td>-</td>\n",
       "      <td>Монтрейском</td>\n",
       "      <td>поп</td>\n",
       "      <td>фестивале</td>\n",
       "      <td>в</td>\n",
       "      <td>CARDINAL</td>\n",
       "      <td>nomn</td>\n",
       "      <td>sing</td>\n",
       "      <td>None</td>\n",
       "      <td>-</td>\n",
       "    </tr>\n",
       "    <tr>\n",
       "      <th>4371987</th>\n",
       "      <td>-</td>\n",
       "      <td>,</td>\n",
       "      <td>бога</td>\n",
       "      <td>покровителя</td>\n",
       "      <td>города</td>\n",
       "      <td>CARDINAL</td>\n",
       "      <td>nomn</td>\n",
       "      <td>sing</td>\n",
       "      <td>None</td>\n",
       "      <td>-</td>\n",
       "    </tr>\n",
       "  </tbody>\n",
       "</table>\n",
       "<p>100 rows × 10 columns</p>\n",
       "</div>"
      ],
      "text/plain": [
       "<div>\n",
       "<style scoped>\n",
       "    .dataframe tbody tr th:only-of-type {\n",
       "        vertical-align: middle;\n",
       "    }\n",
       "\n",
       "    .dataframe tbody tr th {\n",
       "        vertical-align: top;\n",
       "    }\n",
       "\n",
       "    .dataframe thead th {\n",
       "        text-align: right;\n",
       "    }\n",
       "</style>\n",
       "<table border=\"1\" class=\"dataframe\">\n",
       "  <thead>\n",
       "    <tr style=\"text-align: right;\">\n",
       "      <th></th>\n",
       "      <th>before</th>\n",
       "      <th>prev_prev</th>\n",
       "      <th>prev</th>\n",
       "      <th>next</th>\n",
       "      <th>next_next</th>\n",
       "      <th>class</th>\n",
       "      <th>case</th>\n",
       "      <th>number</th>\n",
       "      <th>after</th>\n",
       "      <th>after_true</th>\n",
       "    </tr>\n",
       "  </thead>\n",
       "  <tbody>\n",
       "    <tr>\n",
       "      <th>3439716</th>\n",
       "      <td>.</td>\n",
       "      <td>и</td>\n",
       "      <td>CCKB</td>\n",
       "      <td>Первая</td>\n",
       "      <td>бригада</td>\n",
       "      <td>CARDINAL</td>\n",
       "      <td>nomn</td>\n",
       "      <td>sing</td>\n",
       "      <td>None</td>\n",
       "      <td>.</td>\n",
       "    </tr>\n",
       "    <tr>\n",
       "      <th>228056</th>\n",
       "      <td>.</td>\n",
       "      <td>первоисточника</td>\n",
       "      <td>26 апреля 2015</td>\n",
       "      <td>Усадьба</td>\n",
       "      <td>Барсовой</td>\n",
       "      <td>CARDINAL</td>\n",
       "      <td>nomn</td>\n",
       "      <td>sing</td>\n",
       "      <td>None</td>\n",
       "      <td>.</td>\n",
       "    </tr>\n",
       "    <tr>\n",
       "      <th>5254234</th>\n",
       "      <td>.</td>\n",
       "      <td>с</td>\n",
       "      <td>компанией</td>\n",
       "      <td>Тонкий</td>\n",
       "      <td>хвост</td>\n",
       "      <td>CARDINAL</td>\n",
       "      <td>nomn</td>\n",
       "      <td>sing</td>\n",
       "      <td>None</td>\n",
       "      <td>.</td>\n",
       "    </tr>\n",
       "    <tr>\n",
       "      <th>1074310</th>\n",
       "      <td>184</td>\n",
       "      <td>жителей</td>\n",
       "      <td>работали</td>\n",
       "      <td>человека</td>\n",
       "      <td>(</td>\n",
       "      <td>CARDINAL</td>\n",
       "      <td>nomn</td>\n",
       "      <td>sing</td>\n",
       "      <td>сто восемьдесят четыре</td>\n",
       "      <td>сто восемьдесят четыре</td>\n",
       "    </tr>\n",
       "    <tr>\n",
       "      <th>7318781</th>\n",
       "      <td>7</td>\n",
       "      <td>23</td>\n",
       "      <td>.</td>\n",
       "      <td>человек</td>\n",
       "      <td>на</td>\n",
       "      <td>CARDINAL</td>\n",
       "      <td>nomn</td>\n",
       "      <td>none</td>\n",
       "      <td>семь</td>\n",
       "      <td>семь</td>\n",
       "    </tr>\n",
       "    <tr>\n",
       "      <th>3260148</th>\n",
       "      <td>-</td>\n",
       "      <td>украинкой</td>\n",
       "      <td>Ганной</td>\n",
       "      <td>рисовальщицей</td>\n",
       "      <td>»</td>\n",
       "      <td>CARDINAL</td>\n",
       "      <td>nomn</td>\n",
       "      <td>sing</td>\n",
       "      <td>None</td>\n",
       "      <td>-</td>\n",
       "    </tr>\n",
       "    <tr>\n",
       "      <th>268049</th>\n",
       "      <td>.</td>\n",
       "      <td>(</td>\n",
       "      <td>исп</td>\n",
       "      <td>Keiko</td>\n",
       "      <td>Sofia</td>\n",
       "      <td>CARDINAL</td>\n",
       "      <td>nomn</td>\n",
       "      <td>sing</td>\n",
       "      <td>None</td>\n",
       "      <td>.</td>\n",
       "    </tr>\n",
       "    <tr>\n",
       "      <th>8609176</th>\n",
       "      <td>-</td>\n",
       "      <td>и</td>\n",
       "      <td>Сен</td>\n",
       "      <td>Филип</td>\n",
       "      <td>,</td>\n",
       "      <td>CARDINAL</td>\n",
       "      <td>nomn</td>\n",
       "      <td>sing</td>\n",
       "      <td>None</td>\n",
       "      <td>-</td>\n",
       "    </tr>\n",
       "    <tr>\n",
       "      <th>4202194</th>\n",
       "      <td>.</td>\n",
       "      <td>en</td>\n",
       "      <td>Diest</td>\n",
       "      <td>Король</td>\n",
       "      <td>Эдуард</td>\n",
       "      <td>CARDINAL</td>\n",
       "      <td>nomn</td>\n",
       "      <td>sing</td>\n",
       "      <td>None</td>\n",
       "      <td>.</td>\n",
       "    </tr>\n",
       "    <tr>\n",
       "      <th>2757101</th>\n",
       "      <td>779</td>\n",
       "      <td>775</td>\n",
       "      <td>по</td>\n",
       "      <td>.</td>\n",
       "      <td>Нерсе</td>\n",
       "      <td>CARDINAL</td>\n",
       "      <td>nomn</td>\n",
       "      <td>none</td>\n",
       "      <td>семьсот семьдесят девять</td>\n",
       "      <td>семьсот семьдесят девятый</td>\n",
       "    </tr>\n",
       "    <tr>\n",
       "      <th>64429</th>\n",
       "      <td>.</td>\n",
       "      <td>,</td>\n",
       "      <td>1922</td>\n",
       "      <td>Angles</td>\n",
       "      <td>H.</td>\n",
       "      <td>CARDINAL</td>\n",
       "      <td>nomn</td>\n",
       "      <td>sing</td>\n",
       "      <td>None</td>\n",
       "      <td>.</td>\n",
       "    </tr>\n",
       "    <tr>\n",
       "      <th>7704610</th>\n",
       "      <td>.</td>\n",
       "      <td>.</td>\n",
       "      <td>495</td>\n",
       "      <td>Martin</td>\n",
       "      <td>and</td>\n",
       "      <td>CARDINAL</td>\n",
       "      <td>nomn</td>\n",
       "      <td>sing</td>\n",
       "      <td>None</td>\n",
       "      <td>.</td>\n",
       "    </tr>\n",
       "    <tr>\n",
       "      <th>7824686</th>\n",
       "      <td>.</td>\n",
       "      <td>первоисточника</td>\n",
       "      <td>8 апреля 2013</td>\n",
       "      <td>Best</td>\n",
       "      <td>-</td>\n",
       "      <td>CARDINAL</td>\n",
       "      <td>nomn</td>\n",
       "      <td>sing</td>\n",
       "      <td>None</td>\n",
       "      <td>.</td>\n",
       "    </tr>\n",
       "    <tr>\n",
       "      <th>6324313</th>\n",
       "      <td>112</td>\n",
       "      <td>101</td>\n",
       "      <td>-</td>\n",
       "      <td>.</td>\n",
       "      <td>Mikel</td>\n",
       "      <td>CARDINAL</td>\n",
       "      <td>gent</td>\n",
       "      <td>none</td>\n",
       "      <td>сто двенадцати</td>\n",
       "      <td>ста двенадцати</td>\n",
       "    </tr>\n",
       "    <tr>\n",
       "      <th>2745465</th>\n",
       "      <td>-</td>\n",
       "      <td>,</td>\n",
       "      <td>по</td>\n",
       "      <td>прежнему</td>\n",
       "      <td>обсуждается</td>\n",
       "      <td>CARDINAL</td>\n",
       "      <td>nomn</td>\n",
       "      <td>sing</td>\n",
       "      <td>None</td>\n",
       "      <td>-</td>\n",
       "    </tr>\n",
       "    <tr>\n",
       "      <th>5457860</th>\n",
       "      <td>333</td>\n",
       "      <td>331</td>\n",
       "      <td>—</td>\n",
       "      <td>.</td>\n",
       "      <td>Зимин</td>\n",
       "      <td>CARDINAL</td>\n",
       "      <td>accs</td>\n",
       "      <td>sing</td>\n",
       "      <td>триста тридцать три</td>\n",
       "      <td>триста тридцать три</td>\n",
       "    </tr>\n",
       "    <tr>\n",
       "      <th>429987</th>\n",
       "      <td>-</td>\n",
       "      <td>в</td>\n",
       "      <td>Орехово</td>\n",
       "      <td>Зуевском</td>\n",
       "      <td>муниципальном</td>\n",
       "      <td>CARDINAL</td>\n",
       "      <td>nomn</td>\n",
       "      <td>sing</td>\n",
       "      <td>None</td>\n",
       "      <td>-</td>\n",
       "    </tr>\n",
       "    <tr>\n",
       "      <th>5434369</th>\n",
       "      <td>.</td>\n",
       "      <td>московской</td>\n",
       "      <td>теократии</td>\n",
       "      <td>Женевьева</td>\n",
       "      <td>Родис</td>\n",
       "      <td>CARDINAL</td>\n",
       "      <td>nomn</td>\n",
       "      <td>sing</td>\n",
       "      <td>None</td>\n",
       "      <td>.</td>\n",
       "    </tr>\n",
       "    <tr>\n",
       "      <th>2449632</th>\n",
       "      <td>.</td>\n",
       "      <td>-</td>\n",
       "      <td>2012</td>\n",
       "      <td>Ultratop</td>\n",
       "      <td>.</td>\n",
       "      <td>CARDINAL</td>\n",
       "      <td>nomn</td>\n",
       "      <td>sing</td>\n",
       "      <td>None</td>\n",
       "      <td>.</td>\n",
       "    </tr>\n",
       "    <tr>\n",
       "      <th>1837088</th>\n",
       "      <td>2006</td>\n",
       "      <td>рингу</td>\n",
       "      <td>(</td>\n",
       "      <td>)</td>\n",
       "      <td>.</td>\n",
       "      <td>CARDINAL</td>\n",
       "      <td>nomn</td>\n",
       "      <td>sing</td>\n",
       "      <td>две тысячи шесть</td>\n",
       "      <td>две тысячи шесть</td>\n",
       "    </tr>\n",
       "    <tr>\n",
       "      <th>6140572</th>\n",
       "      <td>.</td>\n",
       "      <td>5000</td>\n",
       "      <td>экз</td>\n",
       "      <td>Министерство</td>\n",
       "      <td>здравоохранения</td>\n",
       "      <td>CARDINAL</td>\n",
       "      <td>nomn</td>\n",
       "      <td>sing</td>\n",
       "      <td>None</td>\n",
       "      <td>.</td>\n",
       "    </tr>\n",
       "    <tr>\n",
       "      <th>330087</th>\n",
       "      <td>.</td>\n",
       "      <td>Jorge</td>\n",
       "      <td>Edwards</td>\n",
       "      <td>Основные</td>\n",
       "      <td>теоретики</td>\n",
       "      <td>CARDINAL</td>\n",
       "      <td>nomn</td>\n",
       "      <td>sing</td>\n",
       "      <td>None</td>\n",
       "      <td>.</td>\n",
       "    </tr>\n",
       "    <tr>\n",
       "      <th>5887363</th>\n",
       "      <td>/</td>\n",
       "      <td>(</td>\n",
       "      <td>2006</td>\n",
       "      <td>07</td>\n",
       "      <td>,</td>\n",
       "      <td>CARDINAL</td>\n",
       "      <td>nomn</td>\n",
       "      <td>sing</td>\n",
       "      <td>None</td>\n",
       "      <td>/</td>\n",
       "    </tr>\n",
       "    <tr>\n",
       "      <th>1842620</th>\n",
       "      <td>12</td>\n",
       "      <td>Царском</td>\n",
       "      <td>Селе</td>\n",
       "      <td>(</td>\n",
       "      <td>24</td>\n",
       "      <td>CARDINAL</td>\n",
       "      <td>nomn</td>\n",
       "      <td>none</td>\n",
       "      <td>двенадцать</td>\n",
       "      <td>двенадцать</td>\n",
       "    </tr>\n",
       "    <tr>\n",
       "      <th>9121114</th>\n",
       "      <td>20</td>\n",
       "      <td>большой</td>\n",
       "      <td>за</td>\n",
       "      <td>лет</td>\n",
       "      <td>.</td>\n",
       "      <td>CARDINAL</td>\n",
       "      <td>nomn</td>\n",
       "      <td>none</td>\n",
       "      <td>двадцать</td>\n",
       "      <td>двадцать</td>\n",
       "    </tr>\n",
       "    <tr>\n",
       "      <th>5942303</th>\n",
       "      <td>16</td>\n",
       "      <td>автором</td>\n",
       "      <td>в</td>\n",
       "      <td>лет</td>\n",
       "      <td>.</td>\n",
       "      <td>CARDINAL</td>\n",
       "      <td>nomn</td>\n",
       "      <td>none</td>\n",
       "      <td>шестнадцать</td>\n",
       "      <td>шестнадцать</td>\n",
       "    </tr>\n",
       "    <tr>\n",
       "      <th>4285396</th>\n",
       "      <td>.</td>\n",
       "      <td>И. И.</td>\n",
       "      <td>Соколов</td>\n",
       "      <td>Население</td>\n",
       "      <td>составляет</td>\n",
       "      <td>CARDINAL</td>\n",
       "      <td>nomn</td>\n",
       "      <td>sing</td>\n",
       "      <td>None</td>\n",
       "      <td>.</td>\n",
       "    </tr>\n",
       "    <tr>\n",
       "      <th>5657428</th>\n",
       "      <td>.</td>\n",
       "      <td>воду</td>\n",
       "      <td>16 мая 1818 года</td>\n",
       "      <td>Военные</td>\n",
       "      <td>кампании</td>\n",
       "      <td>CARDINAL</td>\n",
       "      <td>nomn</td>\n",
       "      <td>sing</td>\n",
       "      <td>None</td>\n",
       "      <td>.</td>\n",
       "    </tr>\n",
       "    <tr>\n",
       "      <th>3422143</th>\n",
       "      <td>.</td>\n",
       "      <td>Проверено</td>\n",
       "      <td>21 апреля 2015</td>\n",
       "      <td>Sudhish</td>\n",
       "      <td>Kamath</td>\n",
       "      <td>CARDINAL</td>\n",
       "      <td>nomn</td>\n",
       "      <td>sing</td>\n",
       "      <td>None</td>\n",
       "      <td>.</td>\n",
       "    </tr>\n",
       "    <tr>\n",
       "      <th>3990749</th>\n",
       "      <td>.</td>\n",
       "      <td>с</td>\n",
       "      <td>правдой</td>\n",
       "      <td>В</td>\n",
       "      <td>1955 году</td>\n",
       "      <td>CARDINAL</td>\n",
       "      <td>nomn</td>\n",
       "      <td>sing</td>\n",
       "      <td>None</td>\n",
       "      <td>.</td>\n",
       "    </tr>\n",
       "    <tr>\n",
       "      <th>...</th>\n",
       "      <td>...</td>\n",
       "      <td>...</td>\n",
       "      <td>...</td>\n",
       "      <td>...</td>\n",
       "      <td>...</td>\n",
       "      <td>...</td>\n",
       "      <td>...</td>\n",
       "      <td>...</td>\n",
       "      <td>...</td>\n",
       "      <td>...</td>\n",
       "    </tr>\n",
       "    <tr>\n",
       "      <th>10541187</th>\n",
       "      <td>.</td>\n",
       "      <td>историческое</td>\n",
       "      <td>значение</td>\n",
       "      <td>Автор</td>\n",
       "      <td>сценария</td>\n",
       "      <td>CARDINAL</td>\n",
       "      <td>nomn</td>\n",
       "      <td>sing</td>\n",
       "      <td>None</td>\n",
       "      <td>.</td>\n",
       "    </tr>\n",
       "    <tr>\n",
       "      <th>10527273</th>\n",
       "      <td>.</td>\n",
       "      <td>первоисточника</td>\n",
       "      <td>8 июля 2012</td>\n",
       "      <td>Gendron</td>\n",
       "      <td>,</td>\n",
       "      <td>CARDINAL</td>\n",
       "      <td>nomn</td>\n",
       "      <td>sing</td>\n",
       "      <td>None</td>\n",
       "      <td>.</td>\n",
       "    </tr>\n",
       "    <tr>\n",
       "      <th>7779410</th>\n",
       "      <td>.</td>\n",
       "      <td>первоисточника</td>\n",
       "      <td>18 августа 2012</td>\n",
       "      <td>Linkin</td>\n",
       "      <td>Park</td>\n",
       "      <td>CARDINAL</td>\n",
       "      <td>nomn</td>\n",
       "      <td>sing</td>\n",
       "      <td>None</td>\n",
       "      <td>.</td>\n",
       "    </tr>\n",
       "    <tr>\n",
       "      <th>2751668</th>\n",
       "      <td>.</td>\n",
       "      <td>особенно</td>\n",
       "      <td>женщин</td>\n",
       "      <td>Военная</td>\n",
       "      <td>кампания</td>\n",
       "      <td>CARDINAL</td>\n",
       "      <td>nomn</td>\n",
       "      <td>sing</td>\n",
       "      <td>None</td>\n",
       "      <td>.</td>\n",
       "    </tr>\n",
       "    <tr>\n",
       "      <th>2485600</th>\n",
       "      <td>XII</td>\n",
       "      <td>и</td>\n",
       "      <td>до</td>\n",
       "      <td>века</td>\n",
       "      <td>власть</td>\n",
       "      <td>CARDINAL</td>\n",
       "      <td>nomn</td>\n",
       "      <td>none</td>\n",
       "      <td>None</td>\n",
       "      <td>двенадцатого</td>\n",
       "    </tr>\n",
       "    <tr>\n",
       "      <th>8812525</th>\n",
       "      <td>20</td>\n",
       "      <td>(</td>\n",
       "      <td>до</td>\n",
       "      <td>)</td>\n",
       "      <td>VS</td>\n",
       "      <td>CARDINAL</td>\n",
       "      <td>nomn</td>\n",
       "      <td>none</td>\n",
       "      <td>двадцать</td>\n",
       "      <td>двадцати</td>\n",
       "    </tr>\n",
       "    <tr>\n",
       "      <th>5282690</th>\n",
       "      <td>.</td>\n",
       "      <td>:</td>\n",
       "      <td>ил</td>\n",
       "      <td>В. А.</td>\n",
       "      <td>Возчикова</td>\n",
       "      <td>CARDINAL</td>\n",
       "      <td>nomn</td>\n",
       "      <td>sing</td>\n",
       "      <td>None</td>\n",
       "      <td>.</td>\n",
       "    </tr>\n",
       "    <tr>\n",
       "      <th>2079557</th>\n",
       "      <td>.</td>\n",
       "      <td>доктора</td>\n",
       "      <td>техн</td>\n",
       "      <td>наук</td>\n",
       "      <td>.</td>\n",
       "      <td>CARDINAL</td>\n",
       "      <td>nomn</td>\n",
       "      <td>sing</td>\n",
       "      <td>None</td>\n",
       "      <td>.</td>\n",
       "    </tr>\n",
       "    <tr>\n",
       "      <th>7510534</th>\n",
       "      <td>482</td>\n",
       "      <td>Космос</td>\n",
       "      <td>-</td>\n",
       "      <td>—</td>\n",
       "      <td>автоматическая</td>\n",
       "      <td>CARDINAL</td>\n",
       "      <td>nomn</td>\n",
       "      <td>none</td>\n",
       "      <td>четыреста восемьдесят два</td>\n",
       "      <td>четыреста восемьдесят два</td>\n",
       "    </tr>\n",
       "    <tr>\n",
       "      <th>2480445</th>\n",
       "      <td>69</td>\n",
       "      <td>—</td>\n",
       "      <td>С.</td>\n",
       "      <td>.</td>\n",
       "      <td>London</td>\n",
       "      <td>CARDINAL</td>\n",
       "      <td>nomn</td>\n",
       "      <td>none</td>\n",
       "      <td>шестьдесят девять</td>\n",
       "      <td>шестьдесят девять</td>\n",
       "    </tr>\n",
       "    <tr>\n",
       "      <th>9311043</th>\n",
       "      <td>/</td>\n",
       "      <td>)</td>\n",
       "      <td>/</td>\n",
       "      <td>Крылья</td>\n",
       "      <td>Родины</td>\n",
       "      <td>CARDINAL</td>\n",
       "      <td>nomn</td>\n",
       "      <td>sing</td>\n",
       "      <td>None</td>\n",
       "      <td>/</td>\n",
       "    </tr>\n",
       "    <tr>\n",
       "      <th>8832656</th>\n",
       "      <td>9</td>\n",
       "      <td>территории</td>\n",
       "      <td>Украины</td>\n",
       "      <td>населенных</td>\n",
       "      <td>пунктов</td>\n",
       "      <td>CARDINAL</td>\n",
       "      <td>nomn</td>\n",
       "      <td>none</td>\n",
       "      <td>девять</td>\n",
       "      <td>девять</td>\n",
       "    </tr>\n",
       "    <tr>\n",
       "      <th>40194</th>\n",
       "      <td>1627</td>\n",
       "      <td>Дрезден</td>\n",
       "      <td>,</td>\n",
       "      <td>)</td>\n",
       "      <td>.</td>\n",
       "      <td>CARDINAL</td>\n",
       "      <td>nomn</td>\n",
       "      <td>sing</td>\n",
       "      <td>одна тысяча шестьсот двадцать семь</td>\n",
       "      <td>тысяча шестьсот двадцать семь</td>\n",
       "    </tr>\n",
       "    <tr>\n",
       "      <th>4910763</th>\n",
       "      <td>-</td>\n",
       "      <td>БОЙ</td>\n",
       "      <td>КЛИЧКО</td>\n",
       "      <td>ПОВЕТКИН</td>\n",
       "      <td>НАЗВАН</td>\n",
       "      <td>CARDINAL</td>\n",
       "      <td>nomn</td>\n",
       "      <td>sing</td>\n",
       "      <td>None</td>\n",
       "      <td>-</td>\n",
       "    </tr>\n",
       "    <tr>\n",
       "      <th>6213164</th>\n",
       "      <td>1127</td>\n",
       "      <td>(</td>\n",
       "      <td>с</td>\n",
       "      <td>)</td>\n",
       "      <td>.</td>\n",
       "      <td>CARDINAL</td>\n",
       "      <td>nomn</td>\n",
       "      <td>sing</td>\n",
       "      <td>одна тысяча сто двадцать семь</td>\n",
       "      <td>тысяча сто двадцать семь</td>\n",
       "    </tr>\n",
       "    <tr>\n",
       "      <th>695002</th>\n",
       "      <td>.</td>\n",
       "      <td>,</td>\n",
       "      <td>vol</td>\n",
       "      <td>Ричард</td>\n",
       "      <td>проверяет</td>\n",
       "      <td>CARDINAL</td>\n",
       "      <td>nomn</td>\n",
       "      <td>sing</td>\n",
       "      <td>None</td>\n",
       "      <td>.</td>\n",
       "    </tr>\n",
       "    <tr>\n",
       "      <th>855302</th>\n",
       "      <td>13 842</td>\n",
       "      <td>2000 года</td>\n",
       "      <td>составляет</td>\n",
       "      <td>чел</td>\n",
       "      <td>.</td>\n",
       "      <td>CARDINAL</td>\n",
       "      <td>nomn</td>\n",
       "      <td>plur</td>\n",
       "      <td>None</td>\n",
       "      <td>тринадцать тысяч восемьсот сорок два</td>\n",
       "    </tr>\n",
       "    <tr>\n",
       "      <th>2465111</th>\n",
       "      <td>.</td>\n",
       "      <td>с</td>\n",
       "      <td>вооружения</td>\n",
       "      <td>Облечихино</td>\n",
       "      <td>—</td>\n",
       "      <td>CARDINAL</td>\n",
       "      <td>nomn</td>\n",
       "      <td>sing</td>\n",
       "      <td>None</td>\n",
       "      <td>.</td>\n",
       "    </tr>\n",
       "    <tr>\n",
       "      <th>9463288</th>\n",
       "      <td>1700</td>\n",
       "      <td>1699</td>\n",
       "      <td>—</td>\n",
       "      <td>по</td>\n",
       "      <td>1899</td>\n",
       "      <td>CARDINAL</td>\n",
       "      <td>nomn</td>\n",
       "      <td>sing</td>\n",
       "      <td>одна тысяча семьсот</td>\n",
       "      <td>тысяча семьсот</td>\n",
       "    </tr>\n",
       "    <tr>\n",
       "      <th>5130151</th>\n",
       "      <td>-</td>\n",
       "      <td>государственный</td>\n",
       "      <td>архитектурно</td>\n",
       "      <td>строительный</td>\n",
       "      <td>институт</td>\n",
       "      <td>CARDINAL</td>\n",
       "      <td>nomn</td>\n",
       "      <td>sing</td>\n",
       "      <td>None</td>\n",
       "      <td>-</td>\n",
       "    </tr>\n",
       "    <tr>\n",
       "      <th>9980371</th>\n",
       "      <td>15</td>\n",
       "      <td>7:15</td>\n",
       "      <td>,</td>\n",
       "      <td>:</td>\n",
       "      <td>9</td>\n",
       "      <td>CARDINAL</td>\n",
       "      <td>nomn</td>\n",
       "      <td>none</td>\n",
       "      <td>пятнадцать</td>\n",
       "      <td>пятнадцать</td>\n",
       "    </tr>\n",
       "    <tr>\n",
       "      <th>6955867</th>\n",
       "      <td>.</td>\n",
       "      <td>.</td>\n",
       "      <td>f</td>\n",
       "      <td>belorussicus</td>\n",
       "      <td>Kurl</td>\n",
       "      <td>CARDINAL</td>\n",
       "      <td>nomn</td>\n",
       "      <td>sing</td>\n",
       "      <td>None</td>\n",
       "      <td>.</td>\n",
       "    </tr>\n",
       "    <tr>\n",
       "      <th>5530344</th>\n",
       "      <td>651</td>\n",
       "      <td>p</td>\n",
       "      <td>.</td>\n",
       "      <td>.</td>\n",
       "      <td>Till</td>\n",
       "      <td>CARDINAL</td>\n",
       "      <td>nomn</td>\n",
       "      <td>sing</td>\n",
       "      <td>шестьсот пятьдесят один</td>\n",
       "      <td>шестьсот пятьдесят один</td>\n",
       "    </tr>\n",
       "    <tr>\n",
       "      <th>8965855</th>\n",
       "      <td>1942</td>\n",
       "      <td>животноводства</td>\n",
       "      <td>(</td>\n",
       "      <td>—</td>\n",
       "      <td>1955</td>\n",
       "      <td>CARDINAL</td>\n",
       "      <td>nomn</td>\n",
       "      <td>sing</td>\n",
       "      <td>одна тысяча девятьсот сорок два</td>\n",
       "      <td>тысяча девятьсот сорок два</td>\n",
       "    </tr>\n",
       "    <tr>\n",
       "      <th>1882260</th>\n",
       "      <td>19</td>\n",
       "      <td>на</td>\n",
       "      <td>основании</td>\n",
       "      <td>рецензий</td>\n",
       "      <td>.</td>\n",
       "      <td>CARDINAL</td>\n",
       "      <td>nomn</td>\n",
       "      <td>none</td>\n",
       "      <td>девятнадцать</td>\n",
       "      <td>девятнадцати</td>\n",
       "    </tr>\n",
       "    <tr>\n",
       "      <th>8536813</th>\n",
       "      <td>0</td>\n",
       "      <td>3</td>\n",
       "      <td>:</td>\n",
       "      <td>(</td>\n",
       "      <td>15</td>\n",
       "      <td>CARDINAL</td>\n",
       "      <td>nomn</td>\n",
       "      <td>sing</td>\n",
       "      <td>ноль</td>\n",
       "      <td>ноль</td>\n",
       "    </tr>\n",
       "    <tr>\n",
       "      <th>5853661</th>\n",
       "      <td>.</td>\n",
       "      <td>в</td>\n",
       "      <td>село</td>\n",
       "      <td>Усики</td>\n",
       "      <td>самок</td>\n",
       "      <td>CARDINAL</td>\n",
       "      <td>nomn</td>\n",
       "      <td>sing</td>\n",
       "      <td>None</td>\n",
       "      <td>.</td>\n",
       "    </tr>\n",
       "    <tr>\n",
       "      <th>9375998</th>\n",
       "      <td>249</td>\n",
       "      <td>Карта</td>\n",
       "      <td>С.</td>\n",
       "      <td>.</td>\n",
       "      <td>Якутская</td>\n",
       "      <td>CARDINAL</td>\n",
       "      <td>nomn</td>\n",
       "      <td>plur</td>\n",
       "      <td>двести сорок девять</td>\n",
       "      <td>двести сорок девять</td>\n",
       "    </tr>\n",
       "    <tr>\n",
       "      <th>6697132</th>\n",
       "      <td>-</td>\n",
       "      <td>Монтрейском</td>\n",
       "      <td>поп</td>\n",
       "      <td>фестивале</td>\n",
       "      <td>в</td>\n",
       "      <td>CARDINAL</td>\n",
       "      <td>nomn</td>\n",
       "      <td>sing</td>\n",
       "      <td>None</td>\n",
       "      <td>-</td>\n",
       "    </tr>\n",
       "    <tr>\n",
       "      <th>4371987</th>\n",
       "      <td>-</td>\n",
       "      <td>,</td>\n",
       "      <td>бога</td>\n",
       "      <td>покровителя</td>\n",
       "      <td>города</td>\n",
       "      <td>CARDINAL</td>\n",
       "      <td>nomn</td>\n",
       "      <td>sing</td>\n",
       "      <td>None</td>\n",
       "      <td>-</td>\n",
       "    </tr>\n",
       "  </tbody>\n",
       "</table>\n",
       "<p>100 rows × 10 columns</p>\n",
       "</div>"
      ]
     },
     "execution_count": 15,
     "metadata": {},
     "output_type": "execute_result"
    }
   ],
   "source": [
    "predicted[(predicted['class']=='CARDINAL') & (predicted['before'] != predicted['after'])].sample(100)"
   ]
  },
  {
   "cell_type": "code",
   "execution_count": 103,
   "metadata": {
    "collapsed": true
   },
   "outputs": [
    {
     "data": {
      "text/html": [
       "<div>\n",
       "<style scoped>\n",
       "    .dataframe tbody tr th:only-of-type {\n",
       "        vertical-align: middle;\n",
       "    }\n",
       "\n",
       "    .dataframe tbody tr th {\n",
       "        vertical-align: top;\n",
       "    }\n",
       "\n",
       "    .dataframe thead th {\n",
       "        text-align: right;\n",
       "    }\n",
       "</style>\n",
       "<table border=\"1\" class=\"dataframe\">\n",
       "  <thead>\n",
       "    <tr style=\"text-align: right;\">\n",
       "      <th></th>\n",
       "      <th>class</th>\n",
       "      <th>before</th>\n",
       "      <th>after</th>\n",
       "      <th>prev</th>\n",
       "      <th>next</th>\n",
       "    </tr>\n",
       "  </thead>\n",
       "  <tbody>\n",
       "    <tr>\n",
       "      <th>40420</th>\n",
       "      <td>FRACTION</td>\n",
       "      <td>7½</td>\n",
       "      <td>семи целых и одной второй</td>\n",
       "      <td>около</td>\n",
       "      <td>фунтов</td>\n",
       "    </tr>\n",
       "    <tr>\n",
       "      <th>157446</th>\n",
       "      <td>FRACTION</td>\n",
       "      <td>3½</td>\n",
       "      <td>три целых и одну вторую</td>\n",
       "      <td>на</td>\n",
       "      <td>очка</td>\n",
       "    </tr>\n",
       "    <tr>\n",
       "      <th>445580</th>\n",
       "      <td>FRACTION</td>\n",
       "      <td>59½</td>\n",
       "      <td>пятидесяти девяти целых и одной второй</td>\n",
       "      <td>139 976 рублей</td>\n",
       "      <td>копейки</td>\n",
       "    </tr>\n",
       "    <tr>\n",
       "      <th>765884</th>\n",
       "      <td>FRACTION</td>\n",
       "      <td>¼</td>\n",
       "      <td>одна четвертая</td>\n",
       "      <td>Второй</td>\n",
       "      <td>финалДата</td>\n",
       "    </tr>\n",
       "    <tr>\n",
       "      <th>803808</th>\n",
       "      <td>FRACTION</td>\n",
       "      <td>½</td>\n",
       "      <td>одна вторая</td>\n",
       "      <td>номиналом</td>\n",
       "      <td>шиллинга</td>\n",
       "    </tr>\n",
       "    <tr>\n",
       "      <th>999135</th>\n",
       "      <td>FRACTION</td>\n",
       "      <td>⅔</td>\n",
       "      <td>две третьих</td>\n",
       "      <td>на</td>\n",
       "      <td>территории</td>\n",
       "    </tr>\n",
       "    <tr>\n",
       "      <th>1253476</th>\n",
       "      <td>FRACTION</td>\n",
       "      <td>½</td>\n",
       "      <td>одна вторая</td>\n",
       "      <td>CrA</td>\n",
       "      <td>gut</td>\n",
       "    </tr>\n",
       "    <tr>\n",
       "      <th>1584453</th>\n",
       "      <td>FRACTION</td>\n",
       "      <td>8½</td>\n",
       "      <td>восемь целых и одна вторая</td>\n",
       "      <td>«</td>\n",
       "      <td>женщин</td>\n",
       "    </tr>\n",
       "    <tr>\n",
       "      <th>1584466</th>\n",
       "      <td>FRACTION</td>\n",
       "      <td>8½</td>\n",
       "      <td>восемь целых и одна вторая</td>\n",
       "      <td>.</td>\n",
       "      <td>Women</td>\n",
       "    </tr>\n",
       "    <tr>\n",
       "      <th>1876892</th>\n",
       "      <td>FRACTION</td>\n",
       "      <td>½</td>\n",
       "      <td>одна вторая</td>\n",
       "      <td>в</td>\n",
       "      <td>,</td>\n",
       "    </tr>\n",
       "    <tr>\n",
       "      <th>1876899</th>\n",
       "      <td>FRACTION</td>\n",
       "      <td>¼</td>\n",
       "      <td>одна четвертая</td>\n",
       "      <td>и</td>\n",
       "      <td>и</td>\n",
       "    </tr>\n",
       "    <tr>\n",
       "      <th>1876901</th>\n",
       "      <td>FRACTION</td>\n",
       "      <td>½</td>\n",
       "      <td>одна вторая</td>\n",
       "      <td>и</td>\n",
       "      <td>рупий</td>\n",
       "    </tr>\n",
       "    <tr>\n",
       "      <th>1921150</th>\n",
       "      <td>FRACTION</td>\n",
       "      <td>5 ½</td>\n",
       "      <td>пять целых и одна вторая</td>\n",
       "      <td>—</td>\n",
       "      <td>обеж</td>\n",
       "    </tr>\n",
       "    <tr>\n",
       "      <th>1949935</th>\n",
       "      <td>FRACTION</td>\n",
       "      <td>½</td>\n",
       "      <td>одна вторая</td>\n",
       "      <td>ничью</td>\n",
       "      <td>очка</td>\n",
       "    </tr>\n",
       "    <tr>\n",
       "      <th>2023480</th>\n",
       "      <td>FRACTION</td>\n",
       "      <td>½</td>\n",
       "      <td>одна вторая</td>\n",
       "      <td>состояло</td>\n",
       "      <td>дес</td>\n",
       "    </tr>\n",
       "    <tr>\n",
       "      <th>2023485</th>\n",
       "      <td>FRACTION</td>\n",
       "      <td>2 ¾</td>\n",
       "      <td>две целых и три четвертых</td>\n",
       "      <td>усадебной</td>\n",
       "      <td>дес</td>\n",
       "    </tr>\n",
       "    <tr>\n",
       "      <th>2271189</th>\n",
       "      <td>FRACTION</td>\n",
       "      <td>282½</td>\n",
       "      <td>двумястами восьмьюдесятью двумя целыми и одной...</td>\n",
       "      <td>выпущено</td>\n",
       "      <td>тысяч</td>\n",
       "    </tr>\n",
       "    <tr>\n",
       "      <th>2315287</th>\n",
       "      <td>FRACTION</td>\n",
       "      <td>6½</td>\n",
       "      <td>шесть целых и одну вторую</td>\n",
       "      <td>набрав</td>\n",
       "      <td>очков</td>\n",
       "    </tr>\n",
       "    <tr>\n",
       "      <th>2496593</th>\n",
       "      <td>FRACTION</td>\n",
       "      <td>8½</td>\n",
       "      <td>восемь целых и одна вторая</td>\n",
       "      <td>матча</td>\n",
       "      <td>:</td>\n",
       "    </tr>\n",
       "    <tr>\n",
       "      <th>2496595</th>\n",
       "      <td>FRACTION</td>\n",
       "      <td>3½</td>\n",
       "      <td>три целых и одна вторая</td>\n",
       "      <td>:</td>\n",
       "      <td>в</td>\n",
       "    </tr>\n",
       "    <tr>\n",
       "      <th>2812456</th>\n",
       "      <td>FRACTION</td>\n",
       "      <td>2½</td>\n",
       "      <td>две целых и одну вторую</td>\n",
       "      <td>на</td>\n",
       "      <td>тысячи</td>\n",
       "    </tr>\n",
       "    <tr>\n",
       "      <th>3172820</th>\n",
       "      <td>FRACTION</td>\n",
       "      <td>¾</td>\n",
       "      <td>три четвертых</td>\n",
       "      <td>в</td>\n",
       "      <td>от</td>\n",
       "    </tr>\n",
       "    <tr>\n",
       "      <th>3220263</th>\n",
       "      <td>FRACTION</td>\n",
       "      <td>2½</td>\n",
       "      <td>две целых и одна вторая</td>\n",
       "      <td>—</td>\n",
       "      <td>:</td>\n",
       "    </tr>\n",
       "    <tr>\n",
       "      <th>3220265</th>\n",
       "      <td>FRACTION</td>\n",
       "      <td>1½</td>\n",
       "      <td>одна целая и одна вторая</td>\n",
       "      <td>:</td>\n",
       "      <td>.</td>\n",
       "    </tr>\n",
       "    <tr>\n",
       "      <th>3250501</th>\n",
       "      <td>FRACTION</td>\n",
       "      <td>1 ½</td>\n",
       "      <td>одна целая и одна вторая</td>\n",
       "      <td>.</td>\n",
       "      <td>роты</td>\n",
       "    </tr>\n",
       "    <tr>\n",
       "      <th>3395752</th>\n",
       "      <td>FRACTION</td>\n",
       "      <td>½</td>\n",
       "      <td>одна вторая</td>\n",
       "      <td>Более</td>\n",
       "      <td>валовой</td>\n",
       "    </tr>\n",
       "    <tr>\n",
       "      <th>3417776</th>\n",
       "      <td>FRACTION</td>\n",
       "      <td>3½</td>\n",
       "      <td>три целых и одна вторая</td>\n",
       "      <td>счетом</td>\n",
       "      <td>:</td>\n",
       "    </tr>\n",
       "    <tr>\n",
       "      <th>3417778</th>\n",
       "      <td>FRACTION</td>\n",
       "      <td>2½</td>\n",
       "      <td>две целых и одна вторая</td>\n",
       "      <td>:</td>\n",
       "      <td>и</td>\n",
       "    </tr>\n",
       "    <tr>\n",
       "      <th>3478079</th>\n",
       "      <td>FRACTION</td>\n",
       "      <td>¼</td>\n",
       "      <td>одна четвертая</td>\n",
       "      <td>в</td>\n",
       "      <td>финала</td>\n",
       "    </tr>\n",
       "    <tr>\n",
       "      <th>3488898</th>\n",
       "      <td>FRACTION</td>\n",
       "      <td>¾</td>\n",
       "      <td>три четвертых</td>\n",
       "      <td>~</td>\n",
       "      <td>)</td>\n",
       "    </tr>\n",
       "    <tr>\n",
       "      <th>...</th>\n",
       "      <td>...</td>\n",
       "      <td>...</td>\n",
       "      <td>...</td>\n",
       "      <td>...</td>\n",
       "      <td>...</td>\n",
       "    </tr>\n",
       "    <tr>\n",
       "      <th>5646924</th>\n",
       "      <td>FRACTION</td>\n",
       "      <td>10½</td>\n",
       "      <td>десяти целых и одной второй</td>\n",
       "      <td>в</td>\n",
       "      <td>главах</td>\n",
       "    </tr>\n",
       "    <tr>\n",
       "      <th>5710816</th>\n",
       "      <td>FRACTION</td>\n",
       "      <td>6½</td>\n",
       "      <td>шесть целых и одна вторая</td>\n",
       "      <td>(</td>\n",
       "      <td>:</td>\n",
       "    </tr>\n",
       "    <tr>\n",
       "      <th>5710818</th>\n",
       "      <td>FRACTION</td>\n",
       "      <td>4½</td>\n",
       "      <td>четыре целых и одна вторая</td>\n",
       "      <td>:</td>\n",
       "      <td>)</td>\n",
       "    </tr>\n",
       "    <tr>\n",
       "      <th>5743241</th>\n",
       "      <td>FRACTION</td>\n",
       "      <td>2½</td>\n",
       "      <td>двух целых и одной второй</td>\n",
       "      <td>и</td>\n",
       "      <td>года</td>\n",
       "    </tr>\n",
       "    <tr>\n",
       "      <th>6011771</th>\n",
       "      <td>FRACTION</td>\n",
       "      <td>4 ½</td>\n",
       "      <td>четыре целых и одну вторую</td>\n",
       "      <td>Invicta</td>\n",
       "      <td>litre</td>\n",
       "    </tr>\n",
       "    <tr>\n",
       "      <th>6260409</th>\n",
       "      <td>FRACTION</td>\n",
       "      <td>1¼</td>\n",
       "      <td>одной целой и одной четвертой</td>\n",
       "      <td>до</td>\n",
       "      <td>аршина</td>\n",
       "    </tr>\n",
       "    <tr>\n",
       "      <th>6452616</th>\n",
       "      <td>FRACTION</td>\n",
       "      <td>9½</td>\n",
       "      <td>девять целых и одна вторая</td>\n",
       "      <td>по</td>\n",
       "      <td>.</td>\n",
       "    </tr>\n",
       "    <tr>\n",
       "      <th>6800651</th>\n",
       "      <td>FRACTION</td>\n",
       "      <td>½</td>\n",
       "      <td>одна вторая</td>\n",
       "      <td>Ранма</td>\n",
       "      <td>»</td>\n",
       "    </tr>\n",
       "    <tr>\n",
       "      <th>7253139</th>\n",
       "      <td>FRACTION</td>\n",
       "      <td>10½</td>\n",
       "      <td>десять целых и одну вторую</td>\n",
       "      <td>по</td>\n",
       "      <td>очков</td>\n",
       "    </tr>\n",
       "    <tr>\n",
       "      <th>7612900</th>\n",
       "      <td>FRACTION</td>\n",
       "      <td>⅔</td>\n",
       "      <td>две третьих</td>\n",
       "      <td>ленивца</td>\n",
       "      <td>веса</td>\n",
       "    </tr>\n",
       "    <tr>\n",
       "      <th>8033344</th>\n",
       "      <td>FRACTION</td>\n",
       "      <td>5¼</td>\n",
       "      <td>пятью целыми и одной четвертой</td>\n",
       "      <td>двусторонними</td>\n",
       "      <td>дюймовыми</td>\n",
       "    </tr>\n",
       "    <tr>\n",
       "      <th>8259581</th>\n",
       "      <td>FRACTION</td>\n",
       "      <td>8½</td>\n",
       "      <td>восьми целым и одной второй</td>\n",
       "      <td>по</td>\n",
       "      <td>очков</td>\n",
       "    </tr>\n",
       "    <tr>\n",
       "      <th>8283325</th>\n",
       "      <td>FRACTION</td>\n",
       "      <td>2½</td>\n",
       "      <td>две целых и одна вторая</td>\n",
       "      <td>—</td>\n",
       "      <td>:</td>\n",
       "    </tr>\n",
       "    <tr>\n",
       "      <th>8283327</th>\n",
       "      <td>FRACTION</td>\n",
       "      <td>1½</td>\n",
       "      <td>одна целая и одна вторая</td>\n",
       "      <td>:</td>\n",
       "      <td>.</td>\n",
       "    </tr>\n",
       "    <tr>\n",
       "      <th>8317226</th>\n",
       "      <td>FRACTION</td>\n",
       "      <td>¼</td>\n",
       "      <td>одна четвертая</td>\n",
       "      <td>занимавшая</td>\n",
       "      <td>часть</td>\n",
       "    </tr>\n",
       "    <tr>\n",
       "      <th>8355301</th>\n",
       "      <td>FRACTION</td>\n",
       "      <td>6½</td>\n",
       "      <td>шесть целых и одну вторую</td>\n",
       "      <td>набрал</td>\n",
       "      <td>очков</td>\n",
       "    </tr>\n",
       "    <tr>\n",
       "      <th>8457757</th>\n",
       "      <td>FRACTION</td>\n",
       "      <td>½</td>\n",
       "      <td>одна вторая</td>\n",
       "      <td>находилась</td>\n",
       "      <td>германской</td>\n",
       "    </tr>\n",
       "    <tr>\n",
       "      <th>8627416</th>\n",
       "      <td>FRACTION</td>\n",
       "      <td>⅔</td>\n",
       "      <td>двух третьих</td>\n",
       "      <td>более</td>\n",
       "      <td>)</td>\n",
       "    </tr>\n",
       "    <tr>\n",
       "      <th>8717346</th>\n",
       "      <td>FRACTION</td>\n",
       "      <td>¼</td>\n",
       "      <td>одна четвертая</td>\n",
       "      <td>составлял</td>\n",
       "      <td>рупии</td>\n",
       "    </tr>\n",
       "    <tr>\n",
       "      <th>8737281</th>\n",
       "      <td>FRACTION</td>\n",
       "      <td>3 ½</td>\n",
       "      <td>три целых и одна вторая</td>\n",
       "      <td>—</td>\n",
       "      <td>октавы</td>\n",
       "    </tr>\n",
       "    <tr>\n",
       "      <th>8984892</th>\n",
       "      <td>FRACTION</td>\n",
       "      <td>½</td>\n",
       "      <td>одной второй</td>\n",
       "      <td>от</td>\n",
       "      <td>-</td>\n",
       "    </tr>\n",
       "    <tr>\n",
       "      <th>8984894</th>\n",
       "      <td>FRACTION</td>\n",
       "      <td>¾</td>\n",
       "      <td>трех четвертых</td>\n",
       "      <td>-</td>\n",
       "      <td>мм</td>\n",
       "    </tr>\n",
       "    <tr>\n",
       "      <th>9080276</th>\n",
       "      <td>FRACTION</td>\n",
       "      <td>9½</td>\n",
       "      <td>девять целых и одна вторая</td>\n",
       "      <td>по</td>\n",
       "      <td>.</td>\n",
       "    </tr>\n",
       "    <tr>\n",
       "      <th>9080375</th>\n",
       "      <td>FRACTION</td>\n",
       "      <td>10½</td>\n",
       "      <td>десять целых и одна вторая</td>\n",
       "      <td>—</td>\n",
       "      <td>.</td>\n",
       "    </tr>\n",
       "    <tr>\n",
       "      <th>9083227</th>\n",
       "      <td>FRACTION</td>\n",
       "      <td>3½</td>\n",
       "      <td>три целых и одна вторая</td>\n",
       "      <td>—</td>\n",
       "      <td>;</td>\n",
       "    </tr>\n",
       "    <tr>\n",
       "      <th>9768976</th>\n",
       "      <td>FRACTION</td>\n",
       "      <td>2½</td>\n",
       "      <td>две целых и одна вторая</td>\n",
       "      <td>«</td>\n",
       "      <td>часа</td>\n",
       "    </tr>\n",
       "    <tr>\n",
       "      <th>9918776</th>\n",
       "      <td>FRACTION</td>\n",
       "      <td>9 ¾</td>\n",
       "      <td>девять целых и три четвертых</td>\n",
       "      <td>платформы</td>\n",
       "      <td>.</td>\n",
       "    </tr>\n",
       "    <tr>\n",
       "      <th>9921668</th>\n",
       "      <td>FRACTION</td>\n",
       "      <td>¾</td>\n",
       "      <td>три четвертых</td>\n",
       "      <td>занимали</td>\n",
       "      <td>длины</td>\n",
       "    </tr>\n",
       "    <tr>\n",
       "      <th>10013235</th>\n",
       "      <td>FRACTION</td>\n",
       "      <td>½</td>\n",
       "      <td>одна вторая</td>\n",
       "      <td>равная</td>\n",
       "      <td>асса</td>\n",
       "    </tr>\n",
       "    <tr>\n",
       "      <th>10277345</th>\n",
       "      <td>FRACTION</td>\n",
       "      <td>6¾</td>\n",
       "      <td>шесть целых и три четвертых</td>\n",
       "      <td>диска</td>\n",
       "      <td>'</td>\n",
       "    </tr>\n",
       "  </tbody>\n",
       "</table>\n",
       "<p>75 rows × 5 columns</p>\n",
       "</div>"
      ],
      "text/plain": [
       "<div>\n",
       "<style scoped>\n",
       "    .dataframe tbody tr th:only-of-type {\n",
       "        vertical-align: middle;\n",
       "    }\n",
       "\n",
       "    .dataframe tbody tr th {\n",
       "        vertical-align: top;\n",
       "    }\n",
       "\n",
       "    .dataframe thead th {\n",
       "        text-align: right;\n",
       "    }\n",
       "</style>\n",
       "<table border=\"1\" class=\"dataframe\">\n",
       "  <thead>\n",
       "    <tr style=\"text-align: right;\">\n",
       "      <th></th>\n",
       "      <th>class</th>\n",
       "      <th>before</th>\n",
       "      <th>after</th>\n",
       "      <th>prev</th>\n",
       "      <th>next</th>\n",
       "    </tr>\n",
       "  </thead>\n",
       "  <tbody>\n",
       "    <tr>\n",
       "      <th>40420</th>\n",
       "      <td>FRACTION</td>\n",
       "      <td>7½</td>\n",
       "      <td>семи целых и одной второй</td>\n",
       "      <td>около</td>\n",
       "      <td>фунтов</td>\n",
       "    </tr>\n",
       "    <tr>\n",
       "      <th>157446</th>\n",
       "      <td>FRACTION</td>\n",
       "      <td>3½</td>\n",
       "      <td>три целых и одну вторую</td>\n",
       "      <td>на</td>\n",
       "      <td>очка</td>\n",
       "    </tr>\n",
       "    <tr>\n",
       "      <th>445580</th>\n",
       "      <td>FRACTION</td>\n",
       "      <td>59½</td>\n",
       "      <td>пятидесяти девяти целых и одной второй</td>\n",
       "      <td>139 976 рублей</td>\n",
       "      <td>копейки</td>\n",
       "    </tr>\n",
       "    <tr>\n",
       "      <th>765884</th>\n",
       "      <td>FRACTION</td>\n",
       "      <td>¼</td>\n",
       "      <td>одна четвертая</td>\n",
       "      <td>Второй</td>\n",
       "      <td>финалДата</td>\n",
       "    </tr>\n",
       "    <tr>\n",
       "      <th>803808</th>\n",
       "      <td>FRACTION</td>\n",
       "      <td>½</td>\n",
       "      <td>одна вторая</td>\n",
       "      <td>номиналом</td>\n",
       "      <td>шиллинга</td>\n",
       "    </tr>\n",
       "    <tr>\n",
       "      <th>999135</th>\n",
       "      <td>FRACTION</td>\n",
       "      <td>⅔</td>\n",
       "      <td>две третьих</td>\n",
       "      <td>на</td>\n",
       "      <td>территории</td>\n",
       "    </tr>\n",
       "    <tr>\n",
       "      <th>1253476</th>\n",
       "      <td>FRACTION</td>\n",
       "      <td>½</td>\n",
       "      <td>одна вторая</td>\n",
       "      <td>CrA</td>\n",
       "      <td>gut</td>\n",
       "    </tr>\n",
       "    <tr>\n",
       "      <th>1584453</th>\n",
       "      <td>FRACTION</td>\n",
       "      <td>8½</td>\n",
       "      <td>восемь целых и одна вторая</td>\n",
       "      <td>«</td>\n",
       "      <td>женщин</td>\n",
       "    </tr>\n",
       "    <tr>\n",
       "      <th>1584466</th>\n",
       "      <td>FRACTION</td>\n",
       "      <td>8½</td>\n",
       "      <td>восемь целых и одна вторая</td>\n",
       "      <td>.</td>\n",
       "      <td>Women</td>\n",
       "    </tr>\n",
       "    <tr>\n",
       "      <th>1876892</th>\n",
       "      <td>FRACTION</td>\n",
       "      <td>½</td>\n",
       "      <td>одна вторая</td>\n",
       "      <td>в</td>\n",
       "      <td>,</td>\n",
       "    </tr>\n",
       "    <tr>\n",
       "      <th>1876899</th>\n",
       "      <td>FRACTION</td>\n",
       "      <td>¼</td>\n",
       "      <td>одна четвертая</td>\n",
       "      <td>и</td>\n",
       "      <td>и</td>\n",
       "    </tr>\n",
       "    <tr>\n",
       "      <th>1876901</th>\n",
       "      <td>FRACTION</td>\n",
       "      <td>½</td>\n",
       "      <td>одна вторая</td>\n",
       "      <td>и</td>\n",
       "      <td>рупий</td>\n",
       "    </tr>\n",
       "    <tr>\n",
       "      <th>1921150</th>\n",
       "      <td>FRACTION</td>\n",
       "      <td>5 ½</td>\n",
       "      <td>пять целых и одна вторая</td>\n",
       "      <td>—</td>\n",
       "      <td>обеж</td>\n",
       "    </tr>\n",
       "    <tr>\n",
       "      <th>1949935</th>\n",
       "      <td>FRACTION</td>\n",
       "      <td>½</td>\n",
       "      <td>одна вторая</td>\n",
       "      <td>ничью</td>\n",
       "      <td>очка</td>\n",
       "    </tr>\n",
       "    <tr>\n",
       "      <th>2023480</th>\n",
       "      <td>FRACTION</td>\n",
       "      <td>½</td>\n",
       "      <td>одна вторая</td>\n",
       "      <td>состояло</td>\n",
       "      <td>дес</td>\n",
       "    </tr>\n",
       "    <tr>\n",
       "      <th>2023485</th>\n",
       "      <td>FRACTION</td>\n",
       "      <td>2 ¾</td>\n",
       "      <td>две целых и три четвертых</td>\n",
       "      <td>усадебной</td>\n",
       "      <td>дес</td>\n",
       "    </tr>\n",
       "    <tr>\n",
       "      <th>2271189</th>\n",
       "      <td>FRACTION</td>\n",
       "      <td>282½</td>\n",
       "      <td>двумястами восьмьюдесятью двумя целыми и одной...</td>\n",
       "      <td>выпущено</td>\n",
       "      <td>тысяч</td>\n",
       "    </tr>\n",
       "    <tr>\n",
       "      <th>2315287</th>\n",
       "      <td>FRACTION</td>\n",
       "      <td>6½</td>\n",
       "      <td>шесть целых и одну вторую</td>\n",
       "      <td>набрав</td>\n",
       "      <td>очков</td>\n",
       "    </tr>\n",
       "    <tr>\n",
       "      <th>2496593</th>\n",
       "      <td>FRACTION</td>\n",
       "      <td>8½</td>\n",
       "      <td>восемь целых и одна вторая</td>\n",
       "      <td>матча</td>\n",
       "      <td>:</td>\n",
       "    </tr>\n",
       "    <tr>\n",
       "      <th>2496595</th>\n",
       "      <td>FRACTION</td>\n",
       "      <td>3½</td>\n",
       "      <td>три целых и одна вторая</td>\n",
       "      <td>:</td>\n",
       "      <td>в</td>\n",
       "    </tr>\n",
       "    <tr>\n",
       "      <th>2812456</th>\n",
       "      <td>FRACTION</td>\n",
       "      <td>2½</td>\n",
       "      <td>две целых и одну вторую</td>\n",
       "      <td>на</td>\n",
       "      <td>тысячи</td>\n",
       "    </tr>\n",
       "    <tr>\n",
       "      <th>3172820</th>\n",
       "      <td>FRACTION</td>\n",
       "      <td>¾</td>\n",
       "      <td>три четвертых</td>\n",
       "      <td>в</td>\n",
       "      <td>от</td>\n",
       "    </tr>\n",
       "    <tr>\n",
       "      <th>3220263</th>\n",
       "      <td>FRACTION</td>\n",
       "      <td>2½</td>\n",
       "      <td>две целых и одна вторая</td>\n",
       "      <td>—</td>\n",
       "      <td>:</td>\n",
       "    </tr>\n",
       "    <tr>\n",
       "      <th>3220265</th>\n",
       "      <td>FRACTION</td>\n",
       "      <td>1½</td>\n",
       "      <td>одна целая и одна вторая</td>\n",
       "      <td>:</td>\n",
       "      <td>.</td>\n",
       "    </tr>\n",
       "    <tr>\n",
       "      <th>3250501</th>\n",
       "      <td>FRACTION</td>\n",
       "      <td>1 ½</td>\n",
       "      <td>одна целая и одна вторая</td>\n",
       "      <td>.</td>\n",
       "      <td>роты</td>\n",
       "    </tr>\n",
       "    <tr>\n",
       "      <th>3395752</th>\n",
       "      <td>FRACTION</td>\n",
       "      <td>½</td>\n",
       "      <td>одна вторая</td>\n",
       "      <td>Более</td>\n",
       "      <td>валовой</td>\n",
       "    </tr>\n",
       "    <tr>\n",
       "      <th>3417776</th>\n",
       "      <td>FRACTION</td>\n",
       "      <td>3½</td>\n",
       "      <td>три целых и одна вторая</td>\n",
       "      <td>счетом</td>\n",
       "      <td>:</td>\n",
       "    </tr>\n",
       "    <tr>\n",
       "      <th>3417778</th>\n",
       "      <td>FRACTION</td>\n",
       "      <td>2½</td>\n",
       "      <td>две целых и одна вторая</td>\n",
       "      <td>:</td>\n",
       "      <td>и</td>\n",
       "    </tr>\n",
       "    <tr>\n",
       "      <th>3478079</th>\n",
       "      <td>FRACTION</td>\n",
       "      <td>¼</td>\n",
       "      <td>одна четвертая</td>\n",
       "      <td>в</td>\n",
       "      <td>финала</td>\n",
       "    </tr>\n",
       "    <tr>\n",
       "      <th>3488898</th>\n",
       "      <td>FRACTION</td>\n",
       "      <td>¾</td>\n",
       "      <td>три четвертых</td>\n",
       "      <td>~</td>\n",
       "      <td>)</td>\n",
       "    </tr>\n",
       "    <tr>\n",
       "      <th>...</th>\n",
       "      <td>...</td>\n",
       "      <td>...</td>\n",
       "      <td>...</td>\n",
       "      <td>...</td>\n",
       "      <td>...</td>\n",
       "    </tr>\n",
       "    <tr>\n",
       "      <th>5646924</th>\n",
       "      <td>FRACTION</td>\n",
       "      <td>10½</td>\n",
       "      <td>десяти целых и одной второй</td>\n",
       "      <td>в</td>\n",
       "      <td>главах</td>\n",
       "    </tr>\n",
       "    <tr>\n",
       "      <th>5710816</th>\n",
       "      <td>FRACTION</td>\n",
       "      <td>6½</td>\n",
       "      <td>шесть целых и одна вторая</td>\n",
       "      <td>(</td>\n",
       "      <td>:</td>\n",
       "    </tr>\n",
       "    <tr>\n",
       "      <th>5710818</th>\n",
       "      <td>FRACTION</td>\n",
       "      <td>4½</td>\n",
       "      <td>четыре целых и одна вторая</td>\n",
       "      <td>:</td>\n",
       "      <td>)</td>\n",
       "    </tr>\n",
       "    <tr>\n",
       "      <th>5743241</th>\n",
       "      <td>FRACTION</td>\n",
       "      <td>2½</td>\n",
       "      <td>двух целых и одной второй</td>\n",
       "      <td>и</td>\n",
       "      <td>года</td>\n",
       "    </tr>\n",
       "    <tr>\n",
       "      <th>6011771</th>\n",
       "      <td>FRACTION</td>\n",
       "      <td>4 ½</td>\n",
       "      <td>четыре целых и одну вторую</td>\n",
       "      <td>Invicta</td>\n",
       "      <td>litre</td>\n",
       "    </tr>\n",
       "    <tr>\n",
       "      <th>6260409</th>\n",
       "      <td>FRACTION</td>\n",
       "      <td>1¼</td>\n",
       "      <td>одной целой и одной четвертой</td>\n",
       "      <td>до</td>\n",
       "      <td>аршина</td>\n",
       "    </tr>\n",
       "    <tr>\n",
       "      <th>6452616</th>\n",
       "      <td>FRACTION</td>\n",
       "      <td>9½</td>\n",
       "      <td>девять целых и одна вторая</td>\n",
       "      <td>по</td>\n",
       "      <td>.</td>\n",
       "    </tr>\n",
       "    <tr>\n",
       "      <th>6800651</th>\n",
       "      <td>FRACTION</td>\n",
       "      <td>½</td>\n",
       "      <td>одна вторая</td>\n",
       "      <td>Ранма</td>\n",
       "      <td>»</td>\n",
       "    </tr>\n",
       "    <tr>\n",
       "      <th>7253139</th>\n",
       "      <td>FRACTION</td>\n",
       "      <td>10½</td>\n",
       "      <td>десять целых и одну вторую</td>\n",
       "      <td>по</td>\n",
       "      <td>очков</td>\n",
       "    </tr>\n",
       "    <tr>\n",
       "      <th>7612900</th>\n",
       "      <td>FRACTION</td>\n",
       "      <td>⅔</td>\n",
       "      <td>две третьих</td>\n",
       "      <td>ленивца</td>\n",
       "      <td>веса</td>\n",
       "    </tr>\n",
       "    <tr>\n",
       "      <th>8033344</th>\n",
       "      <td>FRACTION</td>\n",
       "      <td>5¼</td>\n",
       "      <td>пятью целыми и одной четвертой</td>\n",
       "      <td>двусторонними</td>\n",
       "      <td>дюймовыми</td>\n",
       "    </tr>\n",
       "    <tr>\n",
       "      <th>8259581</th>\n",
       "      <td>FRACTION</td>\n",
       "      <td>8½</td>\n",
       "      <td>восьми целым и одной второй</td>\n",
       "      <td>по</td>\n",
       "      <td>очков</td>\n",
       "    </tr>\n",
       "    <tr>\n",
       "      <th>8283325</th>\n",
       "      <td>FRACTION</td>\n",
       "      <td>2½</td>\n",
       "      <td>две целых и одна вторая</td>\n",
       "      <td>—</td>\n",
       "      <td>:</td>\n",
       "    </tr>\n",
       "    <tr>\n",
       "      <th>8283327</th>\n",
       "      <td>FRACTION</td>\n",
       "      <td>1½</td>\n",
       "      <td>одна целая и одна вторая</td>\n",
       "      <td>:</td>\n",
       "      <td>.</td>\n",
       "    </tr>\n",
       "    <tr>\n",
       "      <th>8317226</th>\n",
       "      <td>FRACTION</td>\n",
       "      <td>¼</td>\n",
       "      <td>одна четвертая</td>\n",
       "      <td>занимавшая</td>\n",
       "      <td>часть</td>\n",
       "    </tr>\n",
       "    <tr>\n",
       "      <th>8355301</th>\n",
       "      <td>FRACTION</td>\n",
       "      <td>6½</td>\n",
       "      <td>шесть целых и одну вторую</td>\n",
       "      <td>набрал</td>\n",
       "      <td>очков</td>\n",
       "    </tr>\n",
       "    <tr>\n",
       "      <th>8457757</th>\n",
       "      <td>FRACTION</td>\n",
       "      <td>½</td>\n",
       "      <td>одна вторая</td>\n",
       "      <td>находилась</td>\n",
       "      <td>германской</td>\n",
       "    </tr>\n",
       "    <tr>\n",
       "      <th>8627416</th>\n",
       "      <td>FRACTION</td>\n",
       "      <td>⅔</td>\n",
       "      <td>двух третьих</td>\n",
       "      <td>более</td>\n",
       "      <td>)</td>\n",
       "    </tr>\n",
       "    <tr>\n",
       "      <th>8717346</th>\n",
       "      <td>FRACTION</td>\n",
       "      <td>¼</td>\n",
       "      <td>одна четвертая</td>\n",
       "      <td>составлял</td>\n",
       "      <td>рупии</td>\n",
       "    </tr>\n",
       "    <tr>\n",
       "      <th>8737281</th>\n",
       "      <td>FRACTION</td>\n",
       "      <td>3 ½</td>\n",
       "      <td>три целых и одна вторая</td>\n",
       "      <td>—</td>\n",
       "      <td>октавы</td>\n",
       "    </tr>\n",
       "    <tr>\n",
       "      <th>8984892</th>\n",
       "      <td>FRACTION</td>\n",
       "      <td>½</td>\n",
       "      <td>одной второй</td>\n",
       "      <td>от</td>\n",
       "      <td>-</td>\n",
       "    </tr>\n",
       "    <tr>\n",
       "      <th>8984894</th>\n",
       "      <td>FRACTION</td>\n",
       "      <td>¾</td>\n",
       "      <td>трех четвертых</td>\n",
       "      <td>-</td>\n",
       "      <td>мм</td>\n",
       "    </tr>\n",
       "    <tr>\n",
       "      <th>9080276</th>\n",
       "      <td>FRACTION</td>\n",
       "      <td>9½</td>\n",
       "      <td>девять целых и одна вторая</td>\n",
       "      <td>по</td>\n",
       "      <td>.</td>\n",
       "    </tr>\n",
       "    <tr>\n",
       "      <th>9080375</th>\n",
       "      <td>FRACTION</td>\n",
       "      <td>10½</td>\n",
       "      <td>десять целых и одна вторая</td>\n",
       "      <td>—</td>\n",
       "      <td>.</td>\n",
       "    </tr>\n",
       "    <tr>\n",
       "      <th>9083227</th>\n",
       "      <td>FRACTION</td>\n",
       "      <td>3½</td>\n",
       "      <td>три целых и одна вторая</td>\n",
       "      <td>—</td>\n",
       "      <td>;</td>\n",
       "    </tr>\n",
       "    <tr>\n",
       "      <th>9768976</th>\n",
       "      <td>FRACTION</td>\n",
       "      <td>2½</td>\n",
       "      <td>две целых и одна вторая</td>\n",
       "      <td>«</td>\n",
       "      <td>часа</td>\n",
       "    </tr>\n",
       "    <tr>\n",
       "      <th>9918776</th>\n",
       "      <td>FRACTION</td>\n",
       "      <td>9 ¾</td>\n",
       "      <td>девять целых и три четвертых</td>\n",
       "      <td>платформы</td>\n",
       "      <td>.</td>\n",
       "    </tr>\n",
       "    <tr>\n",
       "      <th>9921668</th>\n",
       "      <td>FRACTION</td>\n",
       "      <td>¾</td>\n",
       "      <td>три четвертых</td>\n",
       "      <td>занимали</td>\n",
       "      <td>длины</td>\n",
       "    </tr>\n",
       "    <tr>\n",
       "      <th>10013235</th>\n",
       "      <td>FRACTION</td>\n",
       "      <td>½</td>\n",
       "      <td>одна вторая</td>\n",
       "      <td>равная</td>\n",
       "      <td>асса</td>\n",
       "    </tr>\n",
       "    <tr>\n",
       "      <th>10277345</th>\n",
       "      <td>FRACTION</td>\n",
       "      <td>6¾</td>\n",
       "      <td>шесть целых и три четвертых</td>\n",
       "      <td>диска</td>\n",
       "      <td>'</td>\n",
       "    </tr>\n",
       "  </tbody>\n",
       "</table>\n",
       "<p>75 rows × 5 columns</p>\n",
       "</div>"
      ]
     },
     "execution_count": 102,
     "metadata": {},
     "output_type": "execute_result"
    }
   ],
   "source": [
    "df[~(df['before'].str.match('^-?\\d*\\s?\\d*\\s?\\/\\s?\\d+\\s?\\d*$')) & (df['class'] == 'FRACTION')]"
   ]
  },
  {
   "cell_type": "code",
   "execution_count": 30,
   "metadata": {},
   "outputs": [],
   "source": []
  },
  {
   "cell_type": "code",
   "execution_count": null,
   "metadata": {},
   "outputs": [],
   "source": []
  }
 ],
 "metadata": {
  "kernelspec": {
   "display_name": "Python 2",
   "language": "python",
   "name": "python2"
  },
  "language_info": {
   "codemirror_mode": {
    "name": "ipython",
    "version": 2
   },
   "file_extension": ".py",
   "mimetype": "text/x-python",
   "name": "python",
   "nbconvert_exporter": "python",
   "pygments_lexer": "ipython2",
   "version": "2.7.6"
  }
 },
 "nbformat": 4,
 "nbformat_minor": 0
}
