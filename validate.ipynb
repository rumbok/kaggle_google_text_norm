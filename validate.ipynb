{
 "cells": [
  {
   "cell_type": "code",
   "execution_count": 2,
   "metadata": {
    "collapsed": true
   },
   "outputs": [
    {
     "name": "stderr",
     "output_type": "stream",
     "text": [
      "Using TensorFlow backend.\n"
     ]
    },
    {
     "name": "stderr",
     "output_type": "stream",
     "text": [
      "\rMorphologyExtractor create index: 0it [00:00, ?it/s]"
     ]
    },
    {
     "name": "stderr",
     "output_type": "stream",
     "text": [
      "\rMorphologyExtractor create index: 7891it [00:00, 78907.44it/s]"
     ]
    },
    {
     "name": "stderr",
     "output_type": "stream",
     "text": [
      "\rMorphologyExtractor create index: 16370it [00:00, 80583.12it/s]"
     ]
    },
    {
     "name": "stderr",
     "output_type": "stream",
     "text": [
      "\rMorphologyExtractor create index: 26980it [00:00, 86841.13it/s]"
     ]
    },
    {
     "name": "stderr",
     "output_type": "stream",
     "text": [
      "\rMorphologyExtractor create index: 40688it [00:00, 97566.98it/s]"
     ]
    },
    {
     "name": "stderr",
     "output_type": "stream",
     "text": [
      "\rMorphologyExtractor create index: 53908it [00:00, 105888.28it/s]"
     ]
    },
    {
     "name": "stderr",
     "output_type": "stream",
     "text": [
      "\rMorphologyExtractor create index: 66670it [00:00, 111587.68it/s]"
     ]
    },
    {
     "name": "stderr",
     "output_type": "stream",
     "text": [
      "\rMorphologyExtractor create index: 77390it [00:00, 99815.29it/s] "
     ]
    },
    {
     "name": "stderr",
     "output_type": "stream",
     "text": [
      "\rMorphologyExtractor create index: 87297it [00:00, 82867.59it/s]"
     ]
    },
    {
     "name": "stderr",
     "output_type": "stream",
     "text": [
      "\rMorphologyExtractor create index: 96013it [00:01, 81666.91it/s]"
     ]
    },
    {
     "name": "stderr",
     "output_type": "stream",
     "text": [
      "\rMorphologyExtractor create index: 104484it [00:01, 81174.41it/s]"
     ]
    },
    {
     "name": "stderr",
     "output_type": "stream",
     "text": [
      "\rMorphologyExtractor create index: 113138it [00:01, 82712.19it/s]"
     ]
    },
    {
     "name": "stderr",
     "output_type": "stream",
     "text": [
      "\rMorphologyExtractor create index: 122381it [00:01, 85405.73it/s]"
     ]
    },
    {
     "name": "stderr",
     "output_type": "stream",
     "text": [
      "\rMorphologyExtractor create index: 131054it [00:01, 79863.36it/s]"
     ]
    },
    {
     "name": "stderr",
     "output_type": "stream",
     "text": [
      "\rMorphologyExtractor create index: 139965it [00:01, 82428.42it/s]"
     ]
    },
    {
     "name": "stderr",
     "output_type": "stream",
     "text": [
      "\rMorphologyExtractor create index: 149985it [00:01, 87059.67it/s]"
     ]
    },
    {
     "name": "stderr",
     "output_type": "stream",
     "text": [
      "\rMorphologyExtractor create index: 160774it [00:01, 92411.34it/s]"
     ]
    },
    {
     "name": "stderr",
     "output_type": "stream",
     "text": [
      "\rMorphologyExtractor create index: 170221it [00:01, 92774.98it/s]"
     ]
    },
    {
     "name": "stderr",
     "output_type": "stream",
     "text": [
      "\rMorphologyExtractor create index: 180671it [00:01, 96006.06it/s]"
     ]
    },
    {
     "name": "stderr",
     "output_type": "stream",
     "text": [
      "\rMorphologyExtractor create index: 190402it [00:02, 95063.27it/s]"
     ]
    },
    {
     "name": "stderr",
     "output_type": "stream",
     "text": [
      "\rMorphologyExtractor create index: 200329it [00:02, 96285.93it/s]"
     ]
    },
    {
     "name": "stderr",
     "output_type": "stream",
     "text": [
      "\rMorphologyExtractor create index: 210407it [00:02, 97589.83it/s]"
     ]
    },
    {
     "name": "stderr",
     "output_type": "stream",
     "text": [
      "\rMorphologyExtractor create index: 221284it [00:02, 100692.97it/s]"
     ]
    },
    {
     "name": "stderr",
     "output_type": "stream",
     "text": [
      "\rMorphologyExtractor create index: 234515it [00:02, 108468.08it/s]"
     ]
    },
    {
     "name": "stderr",
     "output_type": "stream",
     "text": [
      "\rMorphologyExtractor create index: 248611it [00:02, 116524.04it/s]"
     ]
    },
    {
     "name": "stderr",
     "output_type": "stream",
     "text": [
      "\rMorphologyExtractor create index: 262803it [00:02, 123134.30it/s]"
     ]
    },
    {
     "name": "stderr",
     "output_type": "stream",
     "text": [
      "\rMorphologyExtractor create index: 275441it [00:02, 121319.37it/s]"
     ]
    },
    {
     "name": "stderr",
     "output_type": "stream",
     "text": [
      "\rMorphologyExtractor create index: 287806it [00:02, 120963.00it/s]"
     ]
    },
    {
     "name": "stderr",
     "output_type": "stream",
     "text": [
      "\rMorphologyExtractor create index: 300066it [00:02, 119037.89it/s]"
     ]
    },
    {
     "name": "stderr",
     "output_type": "stream",
     "text": [
      "\rMorphologyExtractor create index: 313375it [00:03, 122929.68it/s]"
     ]
    },
    {
     "name": "stderr",
     "output_type": "stream",
     "text": [
      "\rMorphologyExtractor create index: 326621it [00:03, 125641.30it/s]"
     ]
    },
    {
     "name": "stderr",
     "output_type": "stream",
     "text": [
      "\rMorphologyExtractor create index: 341041it [00:03, 130685.68it/s]"
     ]
    },
    {
     "name": "stderr",
     "output_type": "stream",
     "text": [
      "\rMorphologyExtractor create index: 355306it [00:03, 134055.42it/s]"
     ]
    },
    {
     "name": "stderr",
     "output_type": "stream",
     "text": [
      "\rMorphologyExtractor create index: 368817it [00:03, 132857.90it/s]"
     ]
    },
    {
     "name": "stderr",
     "output_type": "stream",
     "text": [
      "\rMorphologyExtractor create index: 384127it [00:03, 138343.00it/s]"
     ]
    },
    {
     "name": "stderr",
     "output_type": "stream",
     "text": [
      "\rMorphologyExtractor create index: 398705it [00:03, 140490.71it/s]"
     ]
    },
    {
     "name": "stderr",
     "output_type": "stream",
     "text": [
      "\rMorphologyExtractor create index: 413893it [00:03, 143723.27it/s]"
     ]
    },
    {
     "name": "stderr",
     "output_type": "stream",
     "text": [
      "\rMorphologyExtractor create index: 428866it [00:03, 145471.99it/s]"
     ]
    },
    {
     "name": "stderr",
     "output_type": "stream",
     "text": [
      "\rMorphologyExtractor create index: 443932it [00:03, 146988.68it/s]"
     ]
    },
    {
     "name": "stderr",
     "output_type": "stream",
     "text": [
      "\rMorphologyExtractor create index: 459101it [00:04, 148366.99it/s]"
     ]
    },
    {
     "name": "stderr",
     "output_type": "stream",
     "text": [
      "\rMorphologyExtractor create index: 473973it [00:04, 146455.43it/s]"
     ]
    },
    {
     "name": "stderr",
     "output_type": "stream",
     "text": [
      "\rMorphologyExtractor create index: 489805it [00:04, 149820.89it/s]"
     ]
    },
    {
     "name": "stderr",
     "output_type": "stream",
     "text": [
      "\rMorphologyExtractor create index: 504828it [00:04, 148178.33it/s]"
     ]
    },
    {
     "name": "stderr",
     "output_type": "stream",
     "text": [
      "\rMorphologyExtractor create index: 519679it [00:04, 141267.56it/s]"
     ]
    },
    {
     "name": "stderr",
     "output_type": "stream",
     "text": [
      "\rMorphologyExtractor create index: 533897it [00:04, 137567.99it/s]"
     ]
    },
    {
     "name": "stderr",
     "output_type": "stream",
     "text": [
      "\rMorphologyExtractor create index: 547739it [00:04, 137429.67it/s]"
     ]
    },
    {
     "name": "stderr",
     "output_type": "stream",
     "text": [
      "\rMorphologyExtractor create index: 561569it [00:04, 137676.91it/s]"
     ]
    },
    {
     "name": "stderr",
     "output_type": "stream",
     "text": [
      "\rMorphologyExtractor create index: 576521it [00:04, 141025.71it/s]"
     ]
    },
    {
     "name": "stderr",
     "output_type": "stream",
     "text": [
      "\rMorphologyExtractor create index: 590673it [00:05, 140467.39it/s]"
     ]
    },
    {
     "name": "stderr",
     "output_type": "stream",
     "text": [
      "\rMorphologyExtractor create index: 604755it [00:05, 136480.35it/s]"
     ]
    },
    {
     "name": "stderr",
     "output_type": "stream",
     "text": [
      "\rMorphologyExtractor create index: 618453it [00:05, 134574.16it/s]"
     ]
    },
    {
     "name": "stderr",
     "output_type": "stream",
     "text": [
      "\rMorphologyExtractor create index: 631951it [00:05, 124202.44it/s]"
     ]
    },
    {
     "name": "stderr",
     "output_type": "stream",
     "text": [
      "\rMorphologyExtractor create index: 644558it [00:05, 113777.67it/s]"
     ]
    },
    {
     "name": "stderr",
     "output_type": "stream",
     "text": [
      "\rMorphologyExtractor create index: 656237it [00:05, 107692.88it/s]"
     ]
    },
    {
     "name": "stderr",
     "output_type": "stream",
     "text": [
      "\rMorphologyExtractor create index: 667285it [00:05, 102869.54it/s]"
     ]
    },
    {
     "name": "stderr",
     "output_type": "stream",
     "text": [
      "\rMorphologyExtractor create index: 677813it [00:05, 98431.42it/s] "
     ]
    },
    {
     "name": "stderr",
     "output_type": "stream",
     "text": [
      "\rMorphologyExtractor create index: 687866it [00:05, 87371.64it/s]"
     ]
    },
    {
     "name": "stderr",
     "output_type": "stream",
     "text": [
      "\rMorphologyExtractor create index: 696980it [00:06, 72300.27it/s]"
     ]
    },
    {
     "name": "stderr",
     "output_type": "stream",
     "text": [
      "\rMorphologyExtractor create index: 705795it [00:06, 76421.67it/s]"
     ]
    },
    {
     "name": "stderr",
     "output_type": "stream",
     "text": [
      "\rMorphologyExtractor create index: 713988it [00:06, 74162.24it/s]"
     ]
    },
    {
     "name": "stderr",
     "output_type": "stream",
     "text": [
      "\rMorphologyExtractor create index: 722044it [00:06, 75971.82it/s]"
     ]
    },
    {
     "name": "stderr",
     "output_type": "stream",
     "text": [
      "\rMorphologyExtractor create index: 730004it [00:06, 77023.97it/s]"
     ]
    },
    {
     "name": "stderr",
     "output_type": "stream",
     "text": [
      "\rMorphologyExtractor create index: 738599it [00:06, 79500.61it/s]"
     ]
    },
    {
     "name": "stderr",
     "output_type": "stream",
     "text": [
      "\rMorphologyExtractor create index: 746715it [00:06, 75096.52it/s]"
     ]
    },
    {
     "name": "stderr",
     "output_type": "stream",
     "text": [
      "\rMorphologyExtractor create index: 755372it [00:06, 78203.66it/s]"
     ]
    },
    {
     "name": "stderr",
     "output_type": "stream",
     "text": [
      "\rMorphologyExtractor create index: 764110it [00:07, 80746.94it/s]"
     ]
    },
    {
     "name": "stderr",
     "output_type": "stream",
     "text": [
      "\rMorphologyExtractor create index: 776069it [00:07, 89464.18it/s]"
     ]
    },
    {
     "name": "stderr",
     "output_type": "stream",
     "text": [
      "\rMorphologyExtractor create index: 788950it [00:07, 98488.60it/s]"
     ]
    },
    {
     "name": "stderr",
     "output_type": "stream",
     "text": [
      "\rMorphologyExtractor create index: 801596it [00:07, 105486.00it/s]"
     ]
    },
    {
     "name": "stderr",
     "output_type": "stream",
     "text": [
      "\rMorphologyExtractor create index: 812665it [00:07, 105587.00it/s]"
     ]
    },
    {
     "name": "stderr",
     "output_type": "stream",
     "text": [
      "\rMorphologyExtractor create index: 825994it [00:07, 112606.62it/s]"
     ]
    },
    {
     "name": "stderr",
     "output_type": "stream",
     "text": [
      "\rMorphologyExtractor create index: 838622it [00:07, 116384.70it/s]"
     ]
    },
    {
     "name": "stderr",
     "output_type": "stream",
     "text": [
      "\rMorphologyExtractor create index: 851275it [00:07, 119251.92it/s]"
     ]
    },
    {
     "name": "stderr",
     "output_type": "stream",
     "text": [
      "\rMorphologyExtractor create index: 864666it [00:07, 123296.85it/s]"
     ]
    },
    {
     "name": "stderr",
     "output_type": "stream",
     "text": [
      "\rMorphologyExtractor create index: 880522it [00:07, 132110.09it/s]"
     ]
    },
    {
     "name": "stderr",
     "output_type": "stream",
     "text": [
      "\rMorphologyExtractor create index: 894979it [00:08, 135614.69it/s]"
     ]
    },
    {
     "name": "stderr",
     "output_type": "stream",
     "text": [
      "\rMorphologyExtractor create index: 909311it [00:08, 137835.43it/s]"
     ]
    },
    {
     "name": "stderr",
     "output_type": "stream",
     "text": [
      "\rMorphologyExtractor create index: 923273it [00:08, 136836.73it/s]"
     ]
    },
    {
     "name": "stderr",
     "output_type": "stream",
     "text": [
      "\rMorphologyExtractor create index: 937396it [00:08, 138125.29it/s]"
     ]
    },
    {
     "name": "stderr",
     "output_type": "stream",
     "text": [
      "\rMorphologyExtractor create index: 951300it [00:08, 136558.52it/s]"
     ]
    },
    {
     "name": "stderr",
     "output_type": "stream",
     "text": [
      "\rMorphologyExtractor create index: 965024it [00:08, 135381.73it/s]"
     ]
    },
    {
     "name": "stderr",
     "output_type": "stream",
     "text": [
      "\rMorphologyExtractor create index: 980306it [00:08, 140178.54it/s]"
     ]
    },
    {
     "name": "stderr",
     "output_type": "stream",
     "text": [
      "\rMorphologyExtractor create index: 994403it [00:08, 133614.63it/s]"
     ]
    },
    {
     "name": "stderr",
     "output_type": "stream",
     "text": [
      "\rMorphologyExtractor create index: 1007884it [00:08, 131867.79it/s]"
     ]
    },
    {
     "name": "stderr",
     "output_type": "stream",
     "text": [
      "\rMorphologyExtractor create index: 1022190it [00:08, 135036.74it/s]"
     ]
    },
    {
     "name": "stderr",
     "output_type": "stream",
     "text": [
      "\rMorphologyExtractor create index: 1036372it [00:09, 137002.15it/s]"
     ]
    },
    {
     "name": "stderr",
     "output_type": "stream",
     "text": [
      "\rMorphologyExtractor create index: 1050136it [00:09, 134544.17it/s]"
     ]
    },
    {
     "name": "stderr",
     "output_type": "stream",
     "text": [
      "\rMorphologyExtractor create index: 1065021it [00:09, 138536.62it/s]"
     ]
    },
    {
     "name": "stderr",
     "output_type": "stream",
     "text": [
      "\rMorphologyExtractor create index: 1078943it [00:09, 136923.39it/s]"
     ]
    },
    {
     "name": "stderr",
     "output_type": "stream",
     "text": [
      "\rMorphologyExtractor create index: 1092688it [00:09, 135080.79it/s]"
     ]
    },
    {
     "name": "stderr",
     "output_type": "stream",
     "text": [
      "\rMorphologyExtractor create index: 1107590it [00:09, 138980.78it/s]"
     ]
    },
    {
     "name": "stderr",
     "output_type": "stream",
     "text": [
      "\rMorphologyExtractor create index: 1121546it [00:09, 137242.62it/s]"
     ]
    },
    {
     "name": "stderr",
     "output_type": "stream",
     "text": [
      "\rMorphologyExtractor create index: 1135316it [00:09, 128676.02it/s]"
     ]
    },
    {
     "name": "stderr",
     "output_type": "stream",
     "text": [
      "\rMorphologyExtractor create index: 1150669it [00:09, 135242.40it/s]"
     ]
    },
    {
     "name": "stderr",
     "output_type": "stream",
     "text": [
      "\rMorphologyExtractor create index: 1166190it [00:09, 140670.43it/s]"
     ]
    },
    {
     "name": "stderr",
     "output_type": "stream",
     "text": [
      "\rMorphologyExtractor create index: 1181258it [00:10, 143529.20it/s]"
     ]
    },
    {
     "name": "stderr",
     "output_type": "stream",
     "text": [
      "\rMorphologyExtractor create index: 1196859it [00:10, 147056.07it/s]"
     ]
    },
    {
     "name": "stderr",
     "output_type": "stream",
     "text": [
      "\rMorphologyExtractor create index: 1213125it [00:10, 151411.01it/s]"
     ]
    },
    {
     "name": "stderr",
     "output_type": "stream",
     "text": [
      "\rMorphologyExtractor create index: 1228385it [00:10, 151354.52it/s]"
     ]
    },
    {
     "name": "stderr",
     "output_type": "stream",
     "text": [
      "\rMorphologyExtractor create index: 1243643it [00:10, 151719.16it/s]"
     ]
    },
    {
     "name": "stderr",
     "output_type": "stream",
     "text": [
      "\rMorphologyExtractor create index: 1258966it [00:10, 152163.37it/s]"
     ]
    },
    {
     "name": "stderr",
     "output_type": "stream",
     "text": [
      "\rMorphologyExtractor create index: 1274224it [00:10, 151861.56it/s]"
     ]
    },
    {
     "name": "stderr",
     "output_type": "stream",
     "text": [
      "\rMorphologyExtractor create index: 1289440it [00:10, 150969.09it/s]"
     ]
    },
    {
     "name": "stderr",
     "output_type": "stream",
     "text": [
      "\rMorphologyExtractor create index: 1304559it [00:10, 143715.03it/s]"
     ]
    },
    {
     "name": "stderr",
     "output_type": "stream",
     "text": [
      "\rMorphologyExtractor create index: 1319947it [00:11, 146618.60it/s]"
     ]
    },
    {
     "name": "stderr",
     "output_type": "stream",
     "text": [
      "\rMorphologyExtractor create index: 1334685it [00:11, 142125.41it/s]"
     ]
    },
    {
     "name": "stderr",
     "output_type": "stream",
     "text": [
      "\rMorphologyExtractor create index: 1349908it [00:11, 145012.23it/s]"
     ]
    },
    {
     "name": "stderr",
     "output_type": "stream",
     "text": [
      "\rMorphologyExtractor create index: 1364963it [00:11, 146629.43it/s]"
     ]
    },
    {
     "name": "stderr",
     "output_type": "stream",
     "text": [
      "\rMorphologyExtractor create index: 1379682it [00:11, 145454.65it/s]"
     ]
    },
    {
     "name": "stderr",
     "output_type": "stream",
     "text": [
      "\rMorphologyExtractor create index: 1394959it [00:11, 147572.93it/s]"
     ]
    },
    {
     "name": "stderr",
     "output_type": "stream",
     "text": [
      "\rMorphologyExtractor create index: 1409753it [00:11, 146512.19it/s]"
     ]
    },
    {
     "name": "stderr",
     "output_type": "stream",
     "text": [
      "\rMorphologyExtractor create index: 1424432it [00:11, 145930.42it/s]"
     ]
    },
    {
     "name": "stderr",
     "output_type": "stream",
     "text": [
      "\rMorphologyExtractor create index: 1440652it [00:11, 150456.20it/s]"
     ]
    },
    {
     "name": "stderr",
     "output_type": "stream",
     "text": [
      "\rMorphologyExtractor create index: 1456846it [00:11, 153724.04it/s]"
     ]
    },
    {
     "name": "stderr",
     "output_type": "stream",
     "text": [
      "\rMorphologyExtractor create index: 1472271it [00:12, 150297.39it/s]"
     ]
    },
    {
     "name": "stderr",
     "output_type": "stream",
     "text": [
      "\rMorphologyExtractor create index: 1487354it [00:12, 148220.46it/s]"
     ]
    },
    {
     "name": "stderr",
     "output_type": "stream",
     "text": [
      "\rMorphologyExtractor create index: 1502591it [00:12, 149437.45it/s]"
     ]
    },
    {
     "name": "stderr",
     "output_type": "stream",
     "text": [
      "\rMorphologyExtractor create index: 1517568it [00:12, 148839.72it/s]"
     ]
    },
    {
     "name": "stderr",
     "output_type": "stream",
     "text": [
      "\rMorphologyExtractor create index: 1533767it [00:12, 152554.24it/s]"
     ]
    },
    {
     "name": "stderr",
     "output_type": "stream",
     "text": [
      "\rMorphologyExtractor create index: 1549062it [00:12, 152455.32it/s]"
     ]
    },
    {
     "name": "stderr",
     "output_type": "stream",
     "text": [
      "\rMorphologyExtractor create index: 1564336it [00:12, 151937.54it/s]"
     ]
    },
    {
     "name": "stderr",
     "output_type": "stream",
     "text": [
      "\rMorphologyExtractor create index: 1579550it [00:12, 151560.29it/s]"
     ]
    },
    {
     "name": "stderr",
     "output_type": "stream",
     "text": [
      "\rMorphologyExtractor create index: 1595602it [00:12, 154141.01it/s]"
     ]
    },
    {
     "name": "stderr",
     "output_type": "stream",
     "text": [
      "\rMorphologyExtractor create index: 1612029it [00:12, 157045.15it/s]"
     ]
    },
    {
     "name": "stderr",
     "output_type": "stream",
     "text": [
      "\rMorphologyExtractor create index: 1627762it [00:13, 153994.82it/s]"
     ]
    },
    {
     "name": "stderr",
     "output_type": "stream",
     "text": [
      "\rMorphologyExtractor create index: 1643195it [00:13, 152334.78it/s]"
     ]
    },
    {
     "name": "stderr",
     "output_type": "stream",
     "text": [
      "\rMorphologyExtractor create index: 1659234it [00:13, 154661.83it/s]"
     ]
    },
    {
     "name": "stderr",
     "output_type": "stream",
     "text": [
      "\rMorphologyExtractor create index: 1674728it [00:13, 148311.16it/s]"
     ]
    },
    {
     "name": "stderr",
     "output_type": "stream",
     "text": [
      "\rMorphologyExtractor create index: 1689634it [00:13, 143233.64it/s]"
     ]
    },
    {
     "name": "stderr",
     "output_type": "stream",
     "text": [
      "\rMorphologyExtractor create index: 1704092it [00:13, 143633.62it/s]"
     ]
    },
    {
     "name": "stderr",
     "output_type": "stream",
     "text": [
      "\rMorphologyExtractor create index: 1718931it [00:13, 145026.42it/s]"
     ]
    },
    {
     "name": "stderr",
     "output_type": "stream",
     "text": [
      "\rMorphologyExtractor create index: 1734297it [00:13, 147510.69it/s]"
     ]
    },
    {
     "name": "stderr",
     "output_type": "stream",
     "text": [
      "\rMorphologyExtractor create index: 1749242it [00:13, 148087.12it/s]"
     ]
    },
    {
     "name": "stderr",
     "output_type": "stream",
     "text": [
      "\rMorphologyExtractor create index: 1764998it [00:13, 150805.57it/s]"
     ]
    },
    {
     "name": "stderr",
     "output_type": "stream",
     "text": [
      "\rMorphologyExtractor create index: 1780113it [00:14, 150656.06it/s]"
     ]
    },
    {
     "name": "stderr",
     "output_type": "stream",
     "text": [
      "\rMorphologyExtractor create index: 1795203it [00:14, 150067.68it/s]"
     ]
    },
    {
     "name": "stderr",
     "output_type": "stream",
     "text": [
      "\rMorphologyExtractor create index: 1810499it [00:14, 150922.49it/s]"
     ]
    },
    {
     "name": "stderr",
     "output_type": "stream",
     "text": [
      "\rMorphologyExtractor create index: 1826304it [00:14, 152990.13it/s]"
     ]
    },
    {
     "name": "stderr",
     "output_type": "stream",
     "text": [
      "\rMorphologyExtractor create index: 1841620it [00:14, 150528.61it/s]"
     ]
    },
    {
     "name": "stderr",
     "output_type": "stream",
     "text": [
      "\rMorphologyExtractor create index: 1857344it [00:14, 152479.76it/s]"
     ]
    },
    {
     "name": "stderr",
     "output_type": "stream",
     "text": [
      "\rMorphologyExtractor create index: 1872613it [00:14, 152408.97it/s]"
     ]
    },
    {
     "name": "stderr",
     "output_type": "stream",
     "text": [
      "\rMorphologyExtractor create index: 1888163it [00:14, 153322.37it/s]"
     ]
    },
    {
     "name": "stderr",
     "output_type": "stream",
     "text": [
      "\rMorphologyExtractor create index: 1903507it [00:14, 151760.39it/s]"
     ]
    },
    {
     "name": "stderr",
     "output_type": "stream",
     "text": [
      "\rMorphologyExtractor create index: 1918695it [00:14, 148337.36it/s]"
     ]
    },
    {
     "name": "stderr",
     "output_type": "stream",
     "text": [
      "\rMorphologyExtractor create index: 1933758it [00:15, 149015.51it/s]"
     ]
    },
    {
     "name": "stderr",
     "output_type": "stream",
     "text": [
      "\rMorphologyExtractor create index: 1948864it [00:15, 149620.84it/s]"
     ]
    },
    {
     "name": "stderr",
     "output_type": "stream",
     "text": [
      "\rMorphologyExtractor create index: 1964515it [00:15, 151622.57it/s]"
     ]
    },
    {
     "name": "stderr",
     "output_type": "stream",
     "text": [
      "\rMorphologyExtractor create index: 1980293it [00:15, 153416.01it/s]"
     ]
    },
    {
     "name": "stderr",
     "output_type": "stream",
     "text": [
      "\rMorphologyExtractor create index: 1996111it [00:15, 154814.74it/s]"
     ]
    },
    {
     "name": "stderr",
     "output_type": "stream",
     "text": [
      "\rMorphologyExtractor create index: 2011643it [00:15, 154965.57it/s]"
     ]
    },
    {
     "name": "stderr",
     "output_type": "stream",
     "text": [
      "\rMorphologyExtractor create index: 2027150it [00:15, 152251.68it/s]"
     ]
    },
    {
     "name": "stderr",
     "output_type": "stream",
     "text": [
      "\rMorphologyExtractor create index: 2042393it [00:15, 151655.53it/s]"
     ]
    },
    {
     "name": "stderr",
     "output_type": "stream",
     "text": [
      "\rMorphologyExtractor create index: 2057572it [00:15, 147687.23it/s]"
     ]
    },
    {
     "name": "stderr",
     "output_type": "stream",
     "text": [
      "\rMorphologyExtractor create index: 2072878it [00:16, 149258.98it/s]"
     ]
    },
    {
     "name": "stderr",
     "output_type": "stream",
     "text": [
      "\rMorphologyExtractor create index: 2087831it [00:16, 148723.07it/s]"
     ]
    },
    {
     "name": "stderr",
     "output_type": "stream",
     "text": [
      "\rMorphologyExtractor create index: 2102723it [00:16, 148289.71it/s]"
     ]
    },
    {
     "name": "stderr",
     "output_type": "stream",
     "text": [
      "\rMorphologyExtractor create index: 2117566it [00:16, 147175.78it/s]"
     ]
    },
    {
     "name": "stderr",
     "output_type": "stream",
     "text": [
      "\rMorphologyExtractor create index: 2132404it [00:16, 147532.41it/s]"
     ]
    },
    {
     "name": "stderr",
     "output_type": "stream",
     "text": [
      "\rMorphologyExtractor create index: 2147166it [00:16, 143137.93it/s]"
     ]
    },
    {
     "name": "stderr",
     "output_type": "stream",
     "text": [
      "\rMorphologyExtractor create index: 2161585it [00:16, 143449.84it/s]"
     ]
    },
    {
     "name": "stderr",
     "output_type": "stream",
     "text": [
      "\rMorphologyExtractor create index: 2176499it [00:16, 145109.90it/s]"
     ]
    },
    {
     "name": "stderr",
     "output_type": "stream",
     "text": [
      "\rMorphologyExtractor create index: 2191032it [00:16, 143100.63it/s]"
     ]
    },
    {
     "name": "stderr",
     "output_type": "stream",
     "text": [
      "\rMorphologyExtractor create index: 2206790it [00:16, 147156.28it/s]"
     ]
    },
    {
     "name": "stderr",
     "output_type": "stream",
     "text": [
      "\rMorphologyExtractor create index: 2221997it [00:17, 148596.67it/s]"
     ]
    },
    {
     "name": "stderr",
     "output_type": "stream",
     "text": [
      "\rMorphologyExtractor create index: 2236891it [00:17, 146990.90it/s]"
     ]
    },
    {
     "name": "stderr",
     "output_type": "stream",
     "text": [
      "\rMorphologyExtractor create index: 2252435it [00:17, 149427.53it/s]"
     ]
    },
    {
     "name": "stderr",
     "output_type": "stream",
     "text": [
      "\rMorphologyExtractor create index: 2267686it [00:17, 150338.72it/s]"
     ]
    },
    {
     "name": "stderr",
     "output_type": "stream",
     "text": [
      "\rMorphologyExtractor create index: 2283297it [00:17, 152022.93it/s]"
     ]
    },
    {
     "name": "stderr",
     "output_type": "stream",
     "text": [
      "\rMorphologyExtractor create index: 2299658it [00:17, 155320.81it/s]"
     ]
    },
    {
     "name": "stderr",
     "output_type": "stream",
     "text": [
      "\rMorphologyExtractor create index: 2315670it [00:17, 156727.72it/s]"
     ]
    },
    {
     "name": "stderr",
     "output_type": "stream",
     "text": [
      "\rMorphologyExtractor create index: 2331413it [00:17, 156936.00it/s]"
     ]
    },
    {
     "name": "stderr",
     "output_type": "stream",
     "text": [
      "\rMorphologyExtractor create index: 2347203it [00:17, 157222.55it/s]"
     ]
    },
    {
     "name": "stderr",
     "output_type": "stream",
     "text": [
      "\rMorphologyExtractor create index: 2362938it [00:17, 150603.91it/s]"
     ]
    },
    {
     "name": "stderr",
     "output_type": "stream",
     "text": [
      "\rMorphologyExtractor create index: 2378101it [00:18, 150907.64it/s]"
     ]
    },
    {
     "name": "stderr",
     "output_type": "stream",
     "text": [
      "\rMorphologyExtractor create index: 2393369it [00:18, 151434.09it/s]"
     ]
    },
    {
     "name": "stderr",
     "output_type": "stream",
     "text": [
      "\rMorphologyExtractor create index: 2409426it [00:18, 154061.20it/s]"
     ]
    },
    {
     "name": "stderr",
     "output_type": "stream",
     "text": [
      "\rMorphologyExtractor create index: 2424867it [00:18, 145900.95it/s]"
     ]
    },
    {
     "name": "stderr",
     "output_type": "stream",
     "text": [
      "\rMorphologyExtractor create index: 2439572it [00:18, 141791.99it/s]"
     ]
    },
    {
     "name": "stderr",
     "output_type": "stream",
     "text": [
      "\rMorphologyExtractor create index: 2454825it [00:18, 144849.58it/s]"
     ]
    },
    {
     "name": "stderr",
     "output_type": "stream",
     "text": [
      "\rMorphologyExtractor create index: 2469400it [00:18, 142179.28it/s]"
     ]
    },
    {
     "name": "stderr",
     "output_type": "stream",
     "text": [
      "\rMorphologyExtractor create index: 2483763it [00:18, 142609.63it/s]"
     ]
    },
    {
     "name": "stderr",
     "output_type": "stream",
     "text": [
      "\rMorphologyExtractor create index: 2498925it [00:18, 145197.89it/s]"
     ]
    },
    {
     "name": "stderr",
     "output_type": "stream",
     "text": [
      "\rMorphologyExtractor create index: 2513493it [00:18, 142571.48it/s]"
     ]
    },
    {
     "name": "stderr",
     "output_type": "stream",
     "text": [
      "\rMorphologyExtractor create index: 2528006it [00:19, 143329.45it/s]"
     ]
    },
    {
     "name": "stderr",
     "output_type": "stream",
     "text": [
      "\rMorphologyExtractor create index: 2543041it [00:19, 145364.13it/s]"
     ]
    },
    {
     "name": "stderr",
     "output_type": "stream",
     "text": [
      "\rMorphologyExtractor create index: 2557607it [00:19, 143912.33it/s]"
     ]
    },
    {
     "name": "stderr",
     "output_type": "stream",
     "text": [
      "\rMorphologyExtractor create index: 2573153it [00:19, 147190.64it/s]"
     ]
    },
    {
     "name": "stderr",
     "output_type": "stream",
     "text": [
      "\rMorphologyExtractor create index: 2588544it [00:19, 149141.48it/s]"
     ]
    },
    {
     "name": "stderr",
     "output_type": "stream",
     "text": [
      "\rMorphologyExtractor create index: 2604219it [00:19, 151344.44it/s]"
     ]
    },
    {
     "name": "stderr",
     "output_type": "stream",
     "text": [
      "\rMorphologyExtractor create index: 2619693it [00:19, 152344.61it/s]"
     ]
    },
    {
     "name": "stderr",
     "output_type": "stream",
     "text": [
      "\rMorphologyExtractor create index: 2634950it [00:19, 151026.41it/s]"
     ]
    },
    {
     "name": "stderr",
     "output_type": "stream",
     "text": [
      "\rMorphologyExtractor create index: 2650071it [00:19, 146424.29it/s]"
     ]
    },
    {
     "name": "stderr",
     "output_type": "stream",
     "text": [
      "\rMorphologyExtractor create index: 2664757it [00:20, 142718.23it/s]"
     ]
    },
    {
     "name": "stderr",
     "output_type": "stream",
     "text": [
      "\rMorphologyExtractor create index: 2679648it [00:20, 144518.84it/s]"
     ]
    },
    {
     "name": "stderr",
     "output_type": "stream",
     "text": [
      "\rMorphologyExtractor create index: 2694141it [00:20, 142234.56it/s]"
     ]
    },
    {
     "name": "stderr",
     "output_type": "stream",
     "text": [
      "\rMorphologyExtractor create index: 2709236it [00:20, 144739.71it/s]"
     ]
    },
    {
     "name": "stderr",
     "output_type": "stream",
     "text": [
      "\rMorphologyExtractor create index: 2723747it [00:20, 142211.52it/s]"
     ]
    },
    {
     "name": "stderr",
     "output_type": "stream",
     "text": [
      "\rMorphologyExtractor create index: 2739411it [00:20, 146251.81it/s]"
     ]
    },
    {
     "name": "stderr",
     "output_type": "stream",
     "text": [
      "\rMorphologyExtractor create index: 2754415it [00:20, 147364.55it/s]"
     ]
    },
    {
     "name": "stderr",
     "output_type": "stream",
     "text": [
      "\rMorphologyExtractor create index: 2769479it [00:20, 148330.81it/s]"
     ]
    },
    {
     "name": "stderr",
     "output_type": "stream",
     "text": [
      "\rMorphologyExtractor create index: 2784342it [00:20, 148290.31it/s]"
     ]
    },
    {
     "name": "stderr",
     "output_type": "stream",
     "text": [
      "\rMorphologyExtractor create index: 2799192it [00:20, 147633.22it/s]"
     ]
    },
    {
     "name": "stderr",
     "output_type": "stream",
     "text": [
      "\rMorphologyExtractor create index: 2813971it [00:21, 141993.38it/s]"
     ]
    },
    {
     "name": "stderr",
     "output_type": "stream",
     "text": [
      "\rMorphologyExtractor create index: 2828227it [00:21, 138206.04it/s]"
     ]
    },
    {
     "name": "stderr",
     "output_type": "stream",
     "text": [
      "\rMorphologyExtractor create index: 2843580it [00:21, 142470.55it/s]"
     ]
    },
    {
     "name": "stderr",
     "output_type": "stream",
     "text": [
      "\rMorphologyExtractor create index: 2858361it [00:21, 144030.57it/s]"
     ]
    },
    {
     "name": "stderr",
     "output_type": "stream",
     "text": [
      "\rMorphologyExtractor create index: 2873825it [00:21, 147056.07it/s]"
     ]
    },
    {
     "name": "stderr",
     "output_type": "stream",
     "text": [
      "\rMorphologyExtractor create index: 2888963it [00:21, 148324.95it/s]"
     ]
    },
    {
     "name": "stderr",
     "output_type": "stream",
     "text": [
      "\rMorphologyExtractor create index: 2904082it [00:21, 149170.72it/s]"
     ]
    },
    {
     "name": "stderr",
     "output_type": "stream",
     "text": [
      "\rMorphologyExtractor create index: 2919675it [00:21, 151135.68it/s]"
     ]
    },
    {
     "name": "stderr",
     "output_type": "stream",
     "text": [
      "\rMorphologyExtractor create index: 2934817it [00:21, 150585.20it/s]"
     ]
    },
    {
     "name": "stderr",
     "output_type": "stream",
     "text": [
      "\rMorphologyExtractor create index: 2950364it [00:21, 152016.23it/s]"
     ]
    },
    {
     "name": "stderr",
     "output_type": "stream",
     "text": [
      "\rMorphologyExtractor create index: 2965583it [00:22, 148056.24it/s]"
     ]
    },
    {
     "name": "stderr",
     "output_type": "stream",
     "text": [
      "\rMorphologyExtractor create index: 2980424it [00:22, 141420.41it/s]"
     ]
    },
    {
     "name": "stderr",
     "output_type": "stream",
     "text": [
      "\rMorphologyExtractor create index: 2994654it [00:22, 140937.54it/s]"
     ]
    },
    {
     "name": "stderr",
     "output_type": "stream",
     "text": [
      "\rMorphologyExtractor create index: 3009139it [00:22, 142086.95it/s]"
     ]
    },
    {
     "name": "stderr",
     "output_type": "stream",
     "text": [
      "\rMorphologyExtractor create index: 3023393it [00:22, 141368.57it/s]"
     ]
    },
    {
     "name": "stderr",
     "output_type": "stream",
     "text": [
      "\rMorphologyExtractor create index: 3037563it [00:22, 126142.87it/s]"
     ]
    },
    {
     "name": "stderr",
     "output_type": "stream",
     "text": [
      "\rMorphologyExtractor create index: 3051181it [00:22, 128992.99it/s]"
     ]
    },
    {
     "name": "stderr",
     "output_type": "stream",
     "text": [
      "\rMorphologyExtractor create index: 3064904it [00:22, 131356.06it/s]"
     ]
    },
    {
     "name": "stderr",
     "output_type": "stream",
     "text": [
      "\rMorphologyExtractor create index: 3078556it [00:22, 132863.42it/s]"
     ]
    },
    {
     "name": "stderr",
     "output_type": "stream",
     "text": [
      "\rMorphologyExtractor create index: 3093493it [00:23, 137418.06it/s]"
     ]
    },
    {
     "name": "stderr",
     "output_type": "stream",
     "text": [
      "\rMorphologyExtractor create index: 3107460it [00:23, 138084.75it/s]"
     ]
    },
    {
     "name": "stderr",
     "output_type": "stream",
     "text": [
      "\rMorphologyExtractor create index: 3123193it [00:23, 143344.69it/s]"
     ]
    },
    {
     "name": "stderr",
     "output_type": "stream",
     "text": [
      "\rMorphologyExtractor create index: 3138895it [00:23, 147188.42it/s]"
     ]
    },
    {
     "name": "stderr",
     "output_type": "stream",
     "text": [
      "\rMorphologyExtractor create index: 3153873it [00:23, 147954.17it/s]"
     ]
    },
    {
     "name": "stderr",
     "output_type": "stream",
     "text": [
      "\rMorphologyExtractor create index: 3168772it [00:23, 148263.34it/s]"
     ]
    },
    {
     "name": "stderr",
     "output_type": "stream",
     "text": [
      "\rMorphologyExtractor create index: 3183989it [00:23, 149412.48it/s]"
     ]
    },
    {
     "name": "stderr",
     "output_type": "stream",
     "text": [
      "\rMorphologyExtractor create index: 3199160it [00:23, 150093.91it/s]"
     ]
    },
    {
     "name": "stderr",
     "output_type": "stream",
     "text": [
      "\rMorphologyExtractor create index: 3214198it [00:23, 149571.96it/s]"
     ]
    },
    {
     "name": "stderr",
     "output_type": "stream",
     "text": [
      "\rMorphologyExtractor create index: 3229330it [00:23, 150089.82it/s]"
     ]
    },
    {
     "name": "stderr",
     "output_type": "stream",
     "text": [
      "\rMorphologyExtractor create index: 3245067it [00:24, 152201.35it/s]"
     ]
    },
    {
     "name": "stderr",
     "output_type": "stream",
     "text": [
      "\rMorphologyExtractor create index: 3260305it [00:24, 151555.68it/s]"
     ]
    },
    {
     "name": "stderr",
     "output_type": "stream",
     "text": [
      "\rMorphologyExtractor create index: 3275870it [00:24, 152758.86it/s]"
     ]
    },
    {
     "name": "stderr",
     "output_type": "stream",
     "text": [
      "\rMorphologyExtractor create index: 3291818it [00:24, 154712.32it/s]"
     ]
    },
    {
     "name": "stderr",
     "output_type": "stream",
     "text": [
      "\rMorphologyExtractor create index: 3307304it [00:24, 150865.08it/s]"
     ]
    },
    {
     "name": "stderr",
     "output_type": "stream",
     "text": [
      "\rMorphologyExtractor create index: 3322474it [00:24, 151112.27it/s]"
     ]
    },
    {
     "name": "stderr",
     "output_type": "stream",
     "text": [
      "\rMorphologyExtractor create index: 3337607it [00:24, 149255.44it/s]"
     ]
    },
    {
     "name": "stderr",
     "output_type": "stream",
     "text": [
      "\rMorphologyExtractor create index: 3353004it [00:24, 150638.31it/s]"
     ]
    },
    {
     "name": "stderr",
     "output_type": "stream",
     "text": [
      "\rMorphologyExtractor create index: 3368263it [00:24, 151216.45it/s]"
     ]
    },
    {
     "name": "stderr",
     "output_type": "stream",
     "text": [
      "\rMorphologyExtractor create index: 3383398it [00:24, 149886.73it/s]"
     ]
    },
    {
     "name": "stderr",
     "output_type": "stream",
     "text": [
      "\rMorphologyExtractor create index: 3398399it [00:25, 147373.24it/s]"
     ]
    },
    {
     "name": "stderr",
     "output_type": "stream",
     "text": [
      "\rMorphologyExtractor create index: 3413154it [00:25, 145585.01it/s]"
     ]
    },
    {
     "name": "stderr",
     "output_type": "stream",
     "text": [
      "\rMorphologyExtractor create index: 3427730it [00:25, 132378.62it/s]"
     ]
    },
    {
     "name": "stderr",
     "output_type": "stream",
     "text": [
      "\rMorphologyExtractor create index: 3441211it [00:25, 124007.76it/s]"
     ]
    },
    {
     "name": "stderr",
     "output_type": "stream",
     "text": [
      "\rMorphologyExtractor create index: 3454438it [00:25, 126374.89it/s]"
     ]
    },
    {
     "name": "stderr",
     "output_type": "stream",
     "text": [
      "\rMorphologyExtractor create index: 3469288it [00:25, 132285.71it/s]"
     ]
    },
    {
     "name": "stderr",
     "output_type": "stream",
     "text": [
      "\rMorphologyExtractor create index: 3484035it [00:25, 136500.98it/s]"
     ]
    },
    {
     "name": "stderr",
     "output_type": "stream",
     "text": [
      "\rMorphologyExtractor create index: 3497871it [00:25, 136436.35it/s]"
     ]
    },
    {
     "name": "stderr",
     "output_type": "stream",
     "text": [
      "\rMorphologyExtractor create index: 3511811it [00:25, 137311.29it/s]"
     ]
    },
    {
     "name": "stderr",
     "output_type": "stream",
     "text": [
      "\rMorphologyExtractor create index: 3525635it [00:26, 129831.57it/s]"
     ]
    },
    {
     "name": "stderr",
     "output_type": "stream",
     "text": [
      "\rMorphologyExtractor create index: 3539883it [00:26, 133381.29it/s]"
     ]
    },
    {
     "name": "stderr",
     "output_type": "stream",
     "text": [
      "\rMorphologyExtractor create index: 3555203it [00:26, 138765.18it/s]"
     ]
    },
    {
     "name": "stderr",
     "output_type": "stream",
     "text": [
      "\rMorphologyExtractor create index: 3570571it [00:26, 142925.72it/s]"
     ]
    },
    {
     "name": "stderr",
     "output_type": "stream",
     "text": [
      "\rMorphologyExtractor create index: 3585576it [00:26, 144989.38it/s]"
     ]
    },
    {
     "name": "stderr",
     "output_type": "stream",
     "text": [
      "\rMorphologyExtractor create index: 3600176it [00:26, 143103.62it/s]"
     ]
    },
    {
     "name": "stderr",
     "output_type": "stream",
     "text": [
      "\rMorphologyExtractor create index: 3614563it [00:26, 140838.19it/s]"
     ]
    },
    {
     "name": "stderr",
     "output_type": "stream",
     "text": [
      "\rMorphologyExtractor create index: 3630082it [00:26, 144856.71it/s]"
     ]
    },
    {
     "name": "stderr",
     "output_type": "stream",
     "text": [
      "\rMorphologyExtractor create index: 3644640it [00:26, 144148.49it/s]"
     ]
    },
    {
     "name": "stderr",
     "output_type": "stream",
     "text": [
      "\rMorphologyExtractor create index: 3659644it [00:26, 145865.40it/s]"
     ]
    },
    {
     "name": "stderr",
     "output_type": "stream",
     "text": [
      "\rMorphologyExtractor create index: 3674272it [00:27, 143828.78it/s]"
     ]
    },
    {
     "name": "stderr",
     "output_type": "stream",
     "text": [
      "\rMorphologyExtractor create index: 3688802it [00:27, 144264.39it/s]"
     ]
    },
    {
     "name": "stderr",
     "output_type": "stream",
     "text": [
      "\rMorphologyExtractor create index: 3704381it [00:27, 147535.19it/s]"
     ]
    },
    {
     "name": "stderr",
     "output_type": "stream",
     "text": [
      "\rMorphologyExtractor create index: 3719398it [00:27, 148314.97it/s]"
     ]
    },
    {
     "name": "stderr",
     "output_type": "stream",
     "text": [
      "\rMorphologyExtractor create index: 3734615it [00:27, 149450.01it/s]"
     ]
    },
    {
     "name": "stderr",
     "output_type": "stream",
     "text": [
      "\rMorphologyExtractor create index: 3750008it [00:27, 150764.95it/s]"
     ]
    },
    {
     "name": "stderr",
     "output_type": "stream",
     "text": [
      "\rMorphologyExtractor create index: 3765102it [00:27, 150530.98it/s]"
     ]
    },
    {
     "name": "stderr",
     "output_type": "stream",
     "text": [
      "\rMorphologyExtractor create index: 3780167it [00:27, 150066.26it/s]"
     ]
    },
    {
     "name": "stderr",
     "output_type": "stream",
     "text": [
      "\rMorphologyExtractor create index: 3795183it [00:27, 150010.23it/s]"
     ]
    },
    {
     "name": "stderr",
     "output_type": "stream",
     "text": [
      "\rMorphologyExtractor create index: 3810191it [00:27, 149872.91it/s]"
     ]
    },
    {
     "name": "stderr",
     "output_type": "stream",
     "text": [
      "\rMorphologyExtractor create index: 3825639it [00:28, 151224.06it/s]"
     ]
    },
    {
     "name": "stderr",
     "output_type": "stream",
     "text": [
      "\rMorphologyExtractor create index: 3840768it [00:28, 150025.04it/s]"
     ]
    },
    {
     "name": "stderr",
     "output_type": "stream",
     "text": [
      "\rMorphologyExtractor create index: 3855777it [00:28, 148519.89it/s]"
     ]
    },
    {
     "name": "stderr",
     "output_type": "stream",
     "text": [
      "\rMorphologyExtractor create index: 3870637it [00:28, 144958.52it/s]"
     ]
    },
    {
     "name": "stderr",
     "output_type": "stream",
     "text": [
      "\rMorphologyExtractor create index: 3885158it [00:28, 143556.60it/s]"
     ]
    },
    {
     "name": "stderr",
     "output_type": "stream",
     "text": [
      "\rMorphologyExtractor create index: 3899534it [00:28, 129619.33it/s]"
     ]
    },
    {
     "name": "stderr",
     "output_type": "stream",
     "text": [
      "\rMorphologyExtractor create index: 3912768it [00:28, 126068.71it/s]"
     ]
    },
    {
     "name": "stderr",
     "output_type": "stream",
     "text": [
      "\rMorphologyExtractor create index: 3926218it [00:28, 128483.43it/s]"
     ]
    },
    {
     "name": "stderr",
     "output_type": "stream",
     "text": [
      "\rMorphologyExtractor create index: 3940277it [00:28, 131888.40it/s]"
     ]
    },
    {
     "name": "stderr",
     "output_type": "stream",
     "text": [
      "\rMorphologyExtractor create index: 3953600it [00:29, 123164.71it/s]"
     ]
    },
    {
     "name": "stderr",
     "output_type": "stream",
     "text": [
      "\rMorphologyExtractor create index: 3966127it [00:29, 121977.60it/s]"
     ]
    },
    {
     "name": "stderr",
     "output_type": "stream",
     "text": [
      "\rMorphologyExtractor create index: 3980011it [00:29, 126589.94it/s]"
     ]
    },
    {
     "name": "stderr",
     "output_type": "stream",
     "text": [
      "\rMorphologyExtractor create index: 3995097it [00:29, 133007.28it/s]"
     ]
    },
    {
     "name": "stderr",
     "output_type": "stream",
     "text": [
      "\rMorphologyExtractor create index: 4010028it [00:29, 137510.85it/s]"
     ]
    },
    {
     "name": "stderr",
     "output_type": "stream",
     "text": [
      "\rMorphologyExtractor create index: 4024809it [00:29, 140446.62it/s]"
     ]
    },
    {
     "name": "stderr",
     "output_type": "stream",
     "text": [
      "\rMorphologyExtractor create index: 4039544it [00:29, 142426.92it/s]"
     ]
    },
    {
     "name": "stderr",
     "output_type": "stream",
     "text": [
      "\rMorphologyExtractor create index: 4054058it [00:29, 143226.13it/s]"
     ]
    },
    {
     "name": "stderr",
     "output_type": "stream",
     "text": [
      "\rMorphologyExtractor create index: 4068453it [00:29, 140747.69it/s]"
     ]
    },
    {
     "name": "stderr",
     "output_type": "stream",
     "text": [
      "\rMorphologyExtractor create index: 4082589it [00:29, 131742.09it/s]"
     ]
    },
    {
     "name": "stderr",
     "output_type": "stream",
     "text": [
      "\rMorphologyExtractor create index: 4097334it [00:30, 136090.77it/s]"
     ]
    },
    {
     "name": "stderr",
     "output_type": "stream",
     "text": [
      "\rMorphologyExtractor create index: 4112066it [00:30, 139274.78it/s]"
     ]
    },
    {
     "name": "stderr",
     "output_type": "stream",
     "text": [
      "\rMorphologyExtractor create index: 4126514it [00:30, 140794.12it/s]"
     ]
    },
    {
     "name": "stderr",
     "output_type": "stream",
     "text": [
      "\rMorphologyExtractor create index: 4140683it [00:30, 139882.17it/s]"
     ]
    },
    {
     "name": "stderr",
     "output_type": "stream",
     "text": [
      "\rMorphologyExtractor create index: 4155282it [00:30, 141654.02it/s]"
     ]
    },
    {
     "name": "stderr",
     "output_type": "stream",
     "text": [
      "\rMorphologyExtractor create index: 4170536it [00:30, 144752.26it/s]"
     ]
    },
    {
     "name": "stderr",
     "output_type": "stream",
     "text": [
      "\rMorphologyExtractor create index: 4185674it [00:30, 146678.37it/s]"
     ]
    },
    {
     "name": "stderr",
     "output_type": "stream",
     "text": [
      "\rMorphologyExtractor create index: 4201499it [00:30, 149966.39it/s]"
     ]
    },
    {
     "name": "stderr",
     "output_type": "stream",
     "text": [
      "\rMorphologyExtractor create index: 4216702it [00:30, 150579.29it/s]"
     ]
    },
    {
     "name": "stderr",
     "output_type": "stream",
     "text": [
      "\rMorphologyExtractor create index: 4232444it [00:30, 152566.39it/s]"
     ]
    },
    {
     "name": "stderr",
     "output_type": "stream",
     "text": [
      "\rMorphologyExtractor create index: 4247989it [00:31, 153418.38it/s]"
     ]
    },
    {
     "name": "stderr",
     "output_type": "stream",
     "text": [
      "\rMorphologyExtractor create index: 4263354it [00:31, 148004.62it/s]"
     ]
    },
    {
     "name": "stderr",
     "output_type": "stream",
     "text": [
      "\rMorphologyExtractor create index: 4278855it [00:31, 150038.05it/s]"
     ]
    },
    {
     "name": "stderr",
     "output_type": "stream",
     "text": [
      "\rMorphologyExtractor create index: 4294007it [00:31, 150476.84it/s]"
     ]
    },
    {
     "name": "stderr",
     "output_type": "stream",
     "text": [
      "\rMorphologyExtractor create index: 4309604it [00:31, 152081.12it/s]"
     ]
    },
    {
     "name": "stderr",
     "output_type": "stream",
     "text": [
      "\rMorphologyExtractor create index: 4324840it [00:31, 151788.15it/s]"
     ]
    },
    {
     "name": "stderr",
     "output_type": "stream",
     "text": [
      "\rMorphologyExtractor create index: 4340038it [00:31, 150851.33it/s]"
     ]
    },
    {
     "name": "stderr",
     "output_type": "stream",
     "text": [
      "\rMorphologyExtractor create index: 4355138it [00:31, 150343.81it/s]"
     ]
    },
    {
     "name": "stderr",
     "output_type": "stream",
     "text": [
      "\rMorphologyExtractor create index: 4370493it [00:31, 151291.14it/s]"
     ]
    },
    {
     "name": "stderr",
     "output_type": "stream",
     "text": [
      "\rMorphologyExtractor create index: 4385922it [00:32, 152177.99it/s]"
     ]
    },
    {
     "name": "stderr",
     "output_type": "stream",
     "text": [
      "\rMorphologyExtractor create index: 4401373it [00:32, 152869.67it/s]"
     ]
    },
    {
     "name": "stderr",
     "output_type": "stream",
     "text": [
      "\rMorphologyExtractor create index: 4416666it [00:32, 151084.71it/s]"
     ]
    },
    {
     "name": "stderr",
     "output_type": "stream",
     "text": [
      "\rMorphologyExtractor create index: 4431791it [00:32, 151133.33it/s]"
     ]
    },
    {
     "name": "stderr",
     "output_type": "stream",
     "text": [
      "\rMorphologyExtractor create index: 4447071it [00:32, 151627.82it/s]"
     ]
    },
    {
     "name": "stderr",
     "output_type": "stream",
     "text": [
      "\rMorphologyExtractor create index: 4462626it [00:32, 152783.49it/s]"
     ]
    },
    {
     "name": "stderr",
     "output_type": "stream",
     "text": [
      "\rMorphologyExtractor create index: 4477910it [00:32, 150811.57it/s]"
     ]
    },
    {
     "name": "stderr",
     "output_type": "stream",
     "text": [
      "\rMorphologyExtractor create index: 4493380it [00:32, 151956.93it/s]"
     ]
    },
    {
     "name": "stderr",
     "output_type": "stream",
     "text": [
      "\rMorphologyExtractor create index: 4508585it [00:32, 151889.21it/s]"
     ]
    },
    {
     "name": "stderr",
     "output_type": "stream",
     "text": [
      "\rMorphologyExtractor create index: 4523781it [00:32, 148537.85it/s]"
     ]
    },
    {
     "name": "stderr",
     "output_type": "stream",
     "text": [
      "\rMorphologyExtractor create index: 4538870it [00:33, 149215.75it/s]"
     ]
    },
    {
     "name": "stderr",
     "output_type": "stream",
     "text": [
      "\rMorphologyExtractor create index: 4553831it [00:33, 149331.18it/s]"
     ]
    },
    {
     "name": "stderr",
     "output_type": "stream",
     "text": [
      "\rMorphologyExtractor create index: 4568803it [00:33, 149446.16it/s]"
     ]
    },
    {
     "name": "stderr",
     "output_type": "stream",
     "text": [
      "\rMorphologyExtractor create index: 4583989it [00:33, 150161.30it/s]"
     ]
    },
    {
     "name": "stderr",
     "output_type": "stream",
     "text": [
      "\rMorphologyExtractor create index: 4599496it [00:33, 151600.59it/s]"
     ]
    },
    {
     "name": "stderr",
     "output_type": "stream",
     "text": [
      "\rMorphologyExtractor create index: 4615136it [00:33, 153009.13it/s]"
     ]
    },
    {
     "name": "stderr",
     "output_type": "stream",
     "text": [
      "\rMorphologyExtractor create index: 4630446it [00:33, 150234.59it/s]"
     ]
    },
    {
     "name": "stderr",
     "output_type": "stream",
     "text": [
      "\rMorphologyExtractor create index: 4645967it [00:33, 151691.53it/s]"
     ]
    },
    {
     "name": "stderr",
     "output_type": "stream",
     "text": [
      "\rMorphologyExtractor create index: 4661152it [00:33, 151654.86it/s]"
     ]
    },
    {
     "name": "stderr",
     "output_type": "stream",
     "text": [
      "\rMorphologyExtractor create index: 4676329it [00:33, 150615.94it/s]"
     ]
    },
    {
     "name": "stderr",
     "output_type": "stream",
     "text": [
      "\rMorphologyExtractor create index: 4691400it [00:34, 147618.08it/s]"
     ]
    },
    {
     "name": "stderr",
     "output_type": "stream",
     "text": [
      "\rMorphologyExtractor create index: 4706770it [00:34, 149390.72it/s]"
     ]
    },
    {
     "name": "stderr",
     "output_type": "stream",
     "text": [
      "\rMorphologyExtractor create index: 4721728it [00:34, 145587.20it/s]"
     ]
    },
    {
     "name": "stderr",
     "output_type": "stream",
     "text": [
      "\rMorphologyExtractor create index: 4736759it [00:34, 146970.05it/s]"
     ]
    },
    {
     "name": "stderr",
     "output_type": "stream",
     "text": [
      "\rMorphologyExtractor create index: 4751519it [00:34, 147156.21it/s]"
     ]
    },
    {
     "name": "stderr",
     "output_type": "stream",
     "text": [
      "\rMorphologyExtractor create index: 4766324it [00:34, 147422.31it/s]"
     ]
    },
    {
     "name": "stderr",
     "output_type": "stream",
     "text": [
      "\rMorphologyExtractor create index: 4781105it [00:34, 147535.39it/s]"
     ]
    },
    {
     "name": "stderr",
     "output_type": "stream",
     "text": [
      "\rMorphologyExtractor create index: 4795954it [00:34, 147817.37it/s]"
     ]
    },
    {
     "name": "stderr",
     "output_type": "stream",
     "text": [
      "\rMorphologyExtractor create index: 4811034it [00:34, 148698.37it/s]"
     ]
    },
    {
     "name": "stderr",
     "output_type": "stream",
     "text": [
      "\rMorphologyExtractor create index: 4826316it [00:34, 149909.47it/s]"
     ]
    },
    {
     "name": "stderr",
     "output_type": "stream",
     "text": [
      "\rMorphologyExtractor create index: 4841314it [00:35, 149438.08it/s]"
     ]
    },
    {
     "name": "stderr",
     "output_type": "stream",
     "text": [
      "\rMorphologyExtractor create index: 4857100it [00:35, 151867.97it/s]"
     ]
    },
    {
     "name": "stderr",
     "output_type": "stream",
     "text": [
      "\rMorphologyExtractor create index: 4872300it [00:35, 150556.53it/s]"
     ]
    },
    {
     "name": "stderr",
     "output_type": "stream",
     "text": [
      "\rMorphologyExtractor create index: 4887651it [00:35, 151427.94it/s]"
     ]
    },
    {
     "name": "stderr",
     "output_type": "stream",
     "text": [
      "\rMorphologyExtractor create index: 4902804it [00:35, 150970.09it/s]"
     ]
    },
    {
     "name": "stderr",
     "output_type": "stream",
     "text": [
      "\rMorphologyExtractor create index: 4918464it [00:35, 152612.95it/s]"
     ]
    },
    {
     "name": "stderr",
     "output_type": "stream",
     "text": [
      "\rMorphologyExtractor create index: 4933735it [00:35, 152386.07it/s]"
     ]
    },
    {
     "name": "stderr",
     "output_type": "stream",
     "text": [
      "\rMorphologyExtractor create index: 4948981it [00:35, 151670.95it/s]"
     ]
    },
    {
     "name": "stderr",
     "output_type": "stream",
     "text": [
      "\rMorphologyExtractor create index: 4964154it [00:35, 137490.04it/s]"
     ]
    },
    {
     "name": "stderr",
     "output_type": "stream",
     "text": [
      "\rMorphologyExtractor create index: 4978161it [00:35, 133445.45it/s]"
     ]
    },
    {
     "name": "stderr",
     "output_type": "stream",
     "text": [
      "\rMorphologyExtractor create index: 4991712it [00:36, 125146.03it/s]"
     ]
    },
    {
     "name": "stderr",
     "output_type": "stream",
     "text": [
      "\rMorphologyExtractor create index: 5005242it [00:36, 128028.46it/s]"
     ]
    },
    {
     "name": "stderr",
     "output_type": "stream",
     "text": [
      "\rMorphologyExtractor create index: 5018236it [00:36, 128019.77it/s]"
     ]
    },
    {
     "name": "stderr",
     "output_type": "stream",
     "text": [
      "\rMorphologyExtractor create index: 5033120it [00:36, 133625.59it/s]"
     ]
    },
    {
     "name": "stderr",
     "output_type": "stream",
     "text": [
      "\rMorphologyExtractor create index: 5047778it [00:36, 137263.78it/s]"
     ]
    },
    {
     "name": "stderr",
     "output_type": "stream",
     "text": [
      "\rMorphologyExtractor create index: 5062473it [00:36, 140031.66it/s]"
     ]
    },
    {
     "name": "stderr",
     "output_type": "stream",
     "text": [
      "\rMorphologyExtractor create index: 5076585it [00:36, 128860.53it/s]"
     ]
    },
    {
     "name": "stderr",
     "output_type": "stream",
     "text": [
      "\rMorphologyExtractor create index: 5090980it [00:36, 133042.25it/s]"
     ]
    },
    {
     "name": "stderr",
     "output_type": "stream",
     "text": [
      "\rMorphologyExtractor create index: 5096053it [00:36, 138130.95it/s]"
     ]
    },
    {
     "name": "stderr",
     "output_type": "stream",
     "text": [
      "\n"
     ]
    },
    {
     "name": "stderr",
     "output_type": "stream",
     "text": [
      "\rMorphologyExtractor create index: 0it [00:00, ?it/s]"
     ]
    },
    {
     "name": "stderr",
     "output_type": "stream",
     "text": [
      "\rMorphologyExtractor create index: 13582it [00:00, 135817.22it/s]"
     ]
    },
    {
     "name": "stderr",
     "output_type": "stream",
     "text": [
      "\rMorphologyExtractor create index: 22094it [00:00, 115226.92it/s]"
     ]
    },
    {
     "name": "stderr",
     "output_type": "stream",
     "text": [
      "\rMorphologyExtractor create index: 27500it [00:00, 47724.89it/s] "
     ]
    },
    {
     "name": "stderr",
     "output_type": "stream",
     "text": [
      "\rMorphologyExtractor create index: 31889it [00:00, 44775.93it/s]"
     ]
    },
    {
     "name": "stderr",
     "output_type": "stream",
     "text": [
      "\rMorphologyExtractor create index: 43005it [00:00, 54548.55it/s]"
     ]
    },
    {
     "name": "stderr",
     "output_type": "stream",
     "text": [
      "\rMorphologyExtractor create index: 53158it [00:00, 63341.05it/s]"
     ]
    },
    {
     "name": "stderr",
     "output_type": "stream",
     "text": [
      "\rMorphologyExtractor create index: 60619it [00:00, 64993.72it/s]"
     ]
    },
    {
     "name": "stderr",
     "output_type": "stream",
     "text": [
      "\rMorphologyExtractor create index: 73377it [00:00, 76209.40it/s]"
     ]
    },
    {
     "name": "stderr",
     "output_type": "stream",
     "text": [
      "\rMorphologyExtractor create index: 86053it [00:01, 86564.84it/s]"
     ]
    },
    {
     "name": "stderr",
     "output_type": "stream",
     "text": [
      "\rMorphologyExtractor create index: 99889it [00:01, 97515.58it/s]"
     ]
    },
    {
     "name": "stderr",
     "output_type": "stream",
     "text": [
      "\rMorphologyExtractor create index: 113334it [00:01, 106273.63it/s]"
     ]
    },
    {
     "name": "stderr",
     "output_type": "stream",
     "text": [
      "\rMorphologyExtractor create index: 125202it [00:01, 101744.07it/s]"
     ]
    },
    {
     "name": "stderr",
     "output_type": "stream",
     "text": [
      "\rMorphologyExtractor create index: 136286it [00:01, 95330.38it/s] "
     ]
    },
    {
     "name": "stderr",
     "output_type": "stream",
     "text": [
      "\rMorphologyExtractor create index: 146538it [00:01, 93739.13it/s]"
     ]
    },
    {
     "name": "stderr",
     "output_type": "stream",
     "text": [
      "\rMorphologyExtractor create index: 156421it [00:01, 94106.56it/s]"
     ]
    },
    {
     "name": "stderr",
     "output_type": "stream",
     "text": [
      "\rMorphologyExtractor create index: 166558it [00:01, 96172.82it/s]"
     ]
    },
    {
     "name": "stderr",
     "output_type": "stream",
     "text": [
      "\rMorphologyExtractor create index: 178768it [00:01, 102716.12it/s]"
     ]
    },
    {
     "name": "stderr",
     "output_type": "stream",
     "text": [
      "\rMorphologyExtractor create index: 189346it [00:02, 102271.00it/s]"
     ]
    },
    {
     "name": "stderr",
     "output_type": "stream",
     "text": [
      "\rMorphologyExtractor create index: 200243it [00:02, 104190.84it/s]"
     ]
    },
    {
     "name": "stderr",
     "output_type": "stream",
     "text": [
      "\rMorphologyExtractor create index: 212453it [00:02, 108986.24it/s]"
     ]
    },
    {
     "name": "stderr",
     "output_type": "stream",
     "text": [
      "\rMorphologyExtractor create index: 223521it [00:02, 102843.55it/s]"
     ]
    },
    {
     "name": "stderr",
     "output_type": "stream",
     "text": [
      "\rMorphologyExtractor create index: 237341it [00:02, 111392.48it/s]"
     ]
    },
    {
     "name": "stderr",
     "output_type": "stream",
     "text": [
      "\rMorphologyExtractor create index: 250527it [00:02, 116832.05it/s]"
     ]
    },
    {
     "name": "stderr",
     "output_type": "stream",
     "text": [
      "\rMorphologyExtractor create index: 264732it [00:02, 123393.46it/s]"
     ]
    },
    {
     "name": "stderr",
     "output_type": "stream",
     "text": [
      "\rMorphologyExtractor create index: 279004it [00:02, 128617.10it/s]"
     ]
    },
    {
     "name": "stderr",
     "output_type": "stream",
     "text": [
      "\rMorphologyExtractor create index: 294453it [00:02, 135418.47it/s]"
     ]
    },
    {
     "name": "stderr",
     "output_type": "stream",
     "text": [
      "\rMorphologyExtractor create index: 310059it [00:02, 141013.85it/s]"
     ]
    },
    {
     "name": "stderr",
     "output_type": "stream",
     "text": [
      "\rMorphologyExtractor create index: 325129it [00:03, 143782.79it/s]"
     ]
    },
    {
     "name": "stderr",
     "output_type": "stream",
     "text": [
      "\rMorphologyExtractor create index: 339705it [00:03, 137542.70it/s]"
     ]
    },
    {
     "name": "stderr",
     "output_type": "stream",
     "text": [
      "\rMorphologyExtractor create index: 354513it [00:03, 140540.26it/s]"
     ]
    },
    {
     "name": "stderr",
     "output_type": "stream",
     "text": [
      "\rMorphologyExtractor create index: 368863it [00:03, 141414.43it/s]"
     ]
    },
    {
     "name": "stderr",
     "output_type": "stream",
     "text": [
      "\rMorphologyExtractor create index: 383520it [00:03, 142920.46it/s]"
     ]
    },
    {
     "name": "stderr",
     "output_type": "stream",
     "text": [
      "\rMorphologyExtractor create index: 397892it [00:03, 142433.24it/s]"
     ]
    },
    {
     "name": "stderr",
     "output_type": "stream",
     "text": [
      "\rMorphologyExtractor create index: 412192it [00:03, 141176.07it/s]"
     ]
    },
    {
     "name": "stderr",
     "output_type": "stream",
     "text": [
      "\rMorphologyExtractor create index: 427764it [00:03, 145243.29it/s]"
     ]
    },
    {
     "name": "stderr",
     "output_type": "stream",
     "text": [
      "\rMorphologyExtractor create index: 442347it [00:03, 145111.45it/s]"
     ]
    },
    {
     "name": "stderr",
     "output_type": "stream",
     "text": [
      "\rMorphologyExtractor create index: 457487it [00:04, 146939.86it/s]"
     ]
    },
    {
     "name": "stderr",
     "output_type": "stream",
     "text": [
      "\rMorphologyExtractor create index: 472216it [00:04, 142674.18it/s]"
     ]
    },
    {
     "name": "stderr",
     "output_type": "stream",
     "text": [
      "\rMorphologyExtractor create index: 486535it [00:04, 134975.81it/s]"
     ]
    },
    {
     "name": "stderr",
     "output_type": "stream",
     "text": [
      "\rMorphologyExtractor create index: 500155it [00:04, 121901.52it/s]"
     ]
    },
    {
     "name": "stderr",
     "output_type": "stream",
     "text": [
      "\rMorphologyExtractor create index: 514415it [00:04, 127451.04it/s]"
     ]
    },
    {
     "name": "stderr",
     "output_type": "stream",
     "text": [
      "\rMorphologyExtractor create index: 528320it [00:04, 130720.96it/s]"
     ]
    },
    {
     "name": "stderr",
     "output_type": "stream",
     "text": [
      "\rMorphologyExtractor create index: 541619it [00:04, 130870.92it/s]"
     ]
    },
    {
     "name": "stderr",
     "output_type": "stream",
     "text": [
      "\rMorphologyExtractor create index: 554865it [00:04, 126365.18it/s]"
     ]
    },
    {
     "name": "stderr",
     "output_type": "stream",
     "text": [
      "\rMorphologyExtractor create index: 567647it [00:04, 124915.18it/s]"
     ]
    },
    {
     "name": "stderr",
     "output_type": "stream",
     "text": [
      "\rMorphologyExtractor create index: 580797it [00:05, 126790.71it/s]"
     ]
    },
    {
     "name": "stderr",
     "output_type": "stream",
     "text": [
      "\rMorphologyExtractor create index: 593557it [00:05, 123684.90it/s]"
     ]
    },
    {
     "name": "stderr",
     "output_type": "stream",
     "text": [
      "\rMorphologyExtractor create index: 606393it [00:05, 125048.69it/s]"
     ]
    },
    {
     "name": "stderr",
     "output_type": "stream",
     "text": [
      "\rMorphologyExtractor create index: 620051it [00:05, 128297.32it/s]"
     ]
    },
    {
     "name": "stderr",
     "output_type": "stream",
     "text": [
      "\rMorphologyExtractor create index: 634319it [00:05, 132295.92it/s]"
     ]
    },
    {
     "name": "stderr",
     "output_type": "stream",
     "text": [
      "\rMorphologyExtractor create index: 648645it [00:05, 135393.66it/s]"
     ]
    },
    {
     "name": "stderr",
     "output_type": "stream",
     "text": [
      "\rMorphologyExtractor create index: 662254it [00:05, 133529.82it/s]"
     ]
    },
    {
     "name": "stderr",
     "output_type": "stream",
     "text": [
      "\rMorphologyExtractor create index: 675956it [00:05, 134556.02it/s]"
     ]
    },
    {
     "name": "stderr",
     "output_type": "stream",
     "text": [
      "\rMorphologyExtractor create index: 689878it [00:05, 135919.73it/s]"
     ]
    },
    {
     "name": "stderr",
     "output_type": "stream",
     "text": [
      "\rMorphologyExtractor create index: 703502it [00:05, 135881.31it/s]"
     ]
    },
    {
     "name": "stderr",
     "output_type": "stream",
     "text": [
      "\rMorphologyExtractor create index: 717112it [00:06, 133353.32it/s]"
     ]
    },
    {
     "name": "stderr",
     "output_type": "stream",
     "text": [
      "\rMorphologyExtractor create index: 730474it [00:06, 129750.17it/s]"
     ]
    },
    {
     "name": "stderr",
     "output_type": "stream",
     "text": [
      "\rMorphologyExtractor create index: 744210it [00:06, 131940.49it/s]"
     ]
    },
    {
     "name": "stderr",
     "output_type": "stream",
     "text": [
      "\rMorphologyExtractor create index: 757441it [00:06, 124814.16it/s]"
     ]
    },
    {
     "name": "stderr",
     "output_type": "stream",
     "text": [
      "\rMorphologyExtractor create index: 770759it [00:06, 127208.95it/s]"
     ]
    },
    {
     "name": "stderr",
     "output_type": "stream",
     "text": [
      "\rMorphologyExtractor create index: 783565it [00:06, 122919.80it/s]"
     ]
    },
    {
     "name": "stderr",
     "output_type": "stream",
     "text": [
      "\rMorphologyExtractor create index: 795948it [00:06, 121033.24it/s]"
     ]
    },
    {
     "name": "stderr",
     "output_type": "stream",
     "text": [
      "\rMorphologyExtractor create index: 808987it [00:06, 123683.77it/s]"
     ]
    },
    {
     "name": "stderr",
     "output_type": "stream",
     "text": [
      "\rMorphologyExtractor create index: 822952it [00:06, 128076.30it/s]"
     ]
    },
    {
     "name": "stderr",
     "output_type": "stream",
     "text": [
      "\rMorphologyExtractor create index: 837414it [00:06, 132627.46it/s]"
     ]
    },
    {
     "name": "stderr",
     "output_type": "stream",
     "text": [
      "\rMorphologyExtractor create index: 850777it [00:07, 124783.81it/s]"
     ]
    },
    {
     "name": "stderr",
     "output_type": "stream",
     "text": [
      "\rMorphologyExtractor create index: 863473it [00:07, 125428.56it/s]"
     ]
    },
    {
     "name": "stderr",
     "output_type": "stream",
     "text": [
      "\rMorphologyExtractor create index: 877558it [00:07, 129688.32it/s]"
     ]
    },
    {
     "name": "stderr",
     "output_type": "stream",
     "text": [
      "\rMorphologyExtractor create index: 891615it [00:07, 132770.95it/s]"
     ]
    },
    {
     "name": "stderr",
     "output_type": "stream",
     "text": [
      "\rMorphologyExtractor create index: 906201it [00:07, 136443.76it/s]"
     ]
    },
    {
     "name": "stderr",
     "output_type": "stream",
     "text": [
      "\rMorphologyExtractor create index: 920461it [00:07, 138231.35it/s]"
     ]
    },
    {
     "name": "stderr",
     "output_type": "stream",
     "text": [
      "\rMorphologyExtractor create index: 934357it [00:07, 121888.83it/s]"
     ]
    },
    {
     "name": "stderr",
     "output_type": "stream",
     "text": [
      "\rMorphologyExtractor create index: 948295it [00:07, 126655.91it/s]"
     ]
    },
    {
     "name": "stderr",
     "output_type": "stream",
     "text": [
      "\rMorphologyExtractor create index: 961292it [00:07, 126026.80it/s]"
     ]
    },
    {
     "name": "stderr",
     "output_type": "stream",
     "text": [
      "\rMorphologyExtractor create index: 975464it [00:08, 130356.98it/s]"
     ]
    },
    {
     "name": "stderr",
     "output_type": "stream",
     "text": [
      "\rMorphologyExtractor create index: 988701it [00:08, 120568.86it/s]"
     ]
    },
    {
     "name": "stderr",
     "output_type": "stream",
     "text": [
      "\rMorphologyExtractor create index: 1002702it [00:08, 125808.00it/s]"
     ]
    },
    {
     "name": "stderr",
     "output_type": "stream",
     "text": [
      "\rMorphologyExtractor create index: 1015543it [00:08, 117848.19it/s]"
     ]
    },
    {
     "name": "stderr",
     "output_type": "stream",
     "text": [
      "\rMorphologyExtractor create index: 1028678it [00:08, 121597.96it/s]"
     ]
    },
    {
     "name": "stderr",
     "output_type": "stream",
     "text": [
      "\rMorphologyExtractor create index: 1041067it [00:08, 120816.41it/s]"
     ]
    },
    {
     "name": "stderr",
     "output_type": "stream",
     "text": [
      "\rMorphologyExtractor create index: 1053921it [00:08, 123031.83it/s]"
     ]
    },
    {
     "name": "stderr",
     "output_type": "stream",
     "text": [
      "\rMorphologyExtractor create index: 1066348it [00:08, 115952.95it/s]"
     ]
    },
    {
     "name": "stderr",
     "output_type": "stream",
     "text": [
      "\rMorphologyExtractor create index: 1078114it [00:08, 102065.13it/s]"
     ]
    },
    {
     "name": "stderr",
     "output_type": "stream",
     "text": [
      "\rMorphologyExtractor create index: 1089083it [00:09, 104237.74it/s]"
     ]
    },
    {
     "name": "stderr",
     "output_type": "stream",
     "text": [
      "\rMorphologyExtractor create index: 1100345it [00:09, 106617.57it/s]"
     ]
    },
    {
     "name": "stderr",
     "output_type": "stream",
     "text": [
      "\rMorphologyExtractor create index: 1111675it [00:09, 108532.42it/s]"
     ]
    },
    {
     "name": "stderr",
     "output_type": "stream",
     "text": [
      "\rMorphologyExtractor create index: 1123612it [00:09, 111567.88it/s]"
     ]
    },
    {
     "name": "stderr",
     "output_type": "stream",
     "text": [
      "\rMorphologyExtractor create index: 1134908it [00:09, 104869.42it/s]"
     ]
    },
    {
     "name": "stderr",
     "output_type": "stream",
     "text": [
      "\rMorphologyExtractor create index: 1146670it [00:09, 108393.03it/s]"
     ]
    },
    {
     "name": "stderr",
     "output_type": "stream",
     "text": [
      "\rMorphologyExtractor create index: 1159694it [00:09, 114136.71it/s]"
     ]
    },
    {
     "name": "stderr",
     "output_type": "stream",
     "text": [
      "\rMorphologyExtractor create index: 1172343it [00:09, 117580.79it/s]"
     ]
    },
    {
     "name": "stderr",
     "output_type": "stream",
     "text": [
      "\rMorphologyExtractor create index: 1184430it [00:09, 118542.31it/s]"
     ]
    },
    {
     "name": "stderr",
     "output_type": "stream",
     "text": [
      "\rMorphologyExtractor create index: 1197958it [00:09, 123109.68it/s]"
     ]
    },
    {
     "name": "stderr",
     "output_type": "stream",
     "text": [
      "\rMorphologyExtractor create index: 1210931it [00:10, 125021.52it/s]"
     ]
    },
    {
     "name": "stderr",
     "output_type": "stream",
     "text": [
      "\rMorphologyExtractor create index: 1223528it [00:10, 125109.30it/s]"
     ]
    },
    {
     "name": "stderr",
     "output_type": "stream",
     "text": [
      "\rMorphologyExtractor create index: 1236510it [00:10, 126484.67it/s]"
     ]
    },
    {
     "name": "stderr",
     "output_type": "stream",
     "text": [
      "\rMorphologyExtractor create index: 1250169it [00:10, 129355.30it/s]"
     ]
    },
    {
     "name": "stderr",
     "output_type": "stream",
     "text": [
      "\rMorphologyExtractor create index: 1263156it [00:10, 129275.20it/s]"
     ]
    },
    {
     "name": "stderr",
     "output_type": "stream",
     "text": [
      "\rMorphologyExtractor create index: 1276705it [00:10, 131076.71it/s]"
     ]
    },
    {
     "name": "stderr",
     "output_type": "stream",
     "text": [
      "\rMorphologyExtractor create index: 1290300it [00:10, 132500.36it/s]"
     ]
    },
    {
     "name": "stderr",
     "output_type": "stream",
     "text": [
      "\rMorphologyExtractor create index: 1303930it [00:10, 133615.89it/s]"
     ]
    },
    {
     "name": "stderr",
     "output_type": "stream",
     "text": [
      "\rMorphologyExtractor create index: 1317550it [00:10, 134378.34it/s]"
     ]
    },
    {
     "name": "stderr",
     "output_type": "stream",
     "text": [
      "\rMorphologyExtractor create index: 1331023it [00:10, 134480.42it/s]"
     ]
    },
    {
     "name": "stderr",
     "output_type": "stream",
     "text": [
      "\rMorphologyExtractor create index: 1344482it [00:11, 131995.87it/s]"
     ]
    },
    {
     "name": "stderr",
     "output_type": "stream",
     "text": [
      "\rMorphologyExtractor create index: 1358103it [00:11, 133230.92it/s]"
     ]
    },
    {
     "name": "stderr",
     "output_type": "stream",
     "text": [
      "\rMorphologyExtractor create index: 1372674it [00:11, 136741.94it/s]"
     ]
    },
    {
     "name": "stderr",
     "output_type": "stream",
     "text": [
      "\rMorphologyExtractor create index: 1386817it [00:11, 138113.41it/s]"
     ]
    },
    {
     "name": "stderr",
     "output_type": "stream",
     "text": [
      "\rMorphologyExtractor create index: 1401480it [00:11, 140560.68it/s]"
     ]
    },
    {
     "name": "stderr",
     "output_type": "stream",
     "text": [
      "\rMorphologyExtractor create index: 1415566it [00:11, 138439.50it/s]"
     ]
    },
    {
     "name": "stderr",
     "output_type": "stream",
     "text": [
      "\rMorphologyExtractor create index: 1429761it [00:11, 139473.54it/s]"
     ]
    },
    {
     "name": "stderr",
     "output_type": "stream",
     "text": [
      "\rMorphologyExtractor create index: 1444652it [00:11, 142175.24it/s]"
     ]
    },
    {
     "name": "stderr",
     "output_type": "stream",
     "text": [
      "\rMorphologyExtractor create index: 1458898it [00:11, 141673.58it/s]"
     ]
    },
    {
     "name": "stderr",
     "output_type": "stream",
     "text": [
      "\rMorphologyExtractor create index: 1473289it [00:12, 142335.00it/s]"
     ]
    },
    {
     "name": "stderr",
     "output_type": "stream",
     "text": [
      "\rMorphologyExtractor create index: 1487538it [00:12, 140984.72it/s]"
     ]
    },
    {
     "name": "stderr",
     "output_type": "stream",
     "text": [
      "\rMorphologyExtractor create index: 1502042it [00:12, 142175.54it/s]"
     ]
    },
    {
     "name": "stderr",
     "output_type": "stream",
     "text": [
      "\rMorphologyExtractor create index: 1516660it [00:12, 143350.27it/s]"
     ]
    },
    {
     "name": "stderr",
     "output_type": "stream",
     "text": [
      "\rMorphologyExtractor create index: 1531006it [00:12, 142248.66it/s]"
     ]
    },
    {
     "name": "stderr",
     "output_type": "stream",
     "text": [
      "\rMorphologyExtractor create index: 1545241it [00:12, 142137.13it/s]"
     ]
    },
    {
     "name": "stderr",
     "output_type": "stream",
     "text": [
      "\rMorphologyExtractor create index: 1559547it [00:12, 142411.87it/s]"
     ]
    },
    {
     "name": "stderr",
     "output_type": "stream",
     "text": [
      "\rMorphologyExtractor create index: 1573793it [00:12, 142287.26it/s]"
     ]
    },
    {
     "name": "stderr",
     "output_type": "stream",
     "text": [
      "\rMorphologyExtractor create index: 1588026it [00:12, 139758.49it/s]"
     ]
    },
    {
     "name": "stderr",
     "output_type": "stream",
     "text": [
      "\rMorphologyExtractor create index: 1602689it [00:12, 141751.00it/s]"
     ]
    },
    {
     "name": "stderr",
     "output_type": "stream",
     "text": [
      "\rMorphologyExtractor create index: 1617788it [00:13, 144399.63it/s]"
     ]
    },
    {
     "name": "stderr",
     "output_type": "stream",
     "text": [
      "\rMorphologyExtractor create index: 1632924it [00:13, 146417.09it/s]"
     ]
    },
    {
     "name": "stderr",
     "output_type": "stream",
     "text": [
      "\rMorphologyExtractor create index: 1647762it [00:13, 146999.18it/s]"
     ]
    },
    {
     "name": "stderr",
     "output_type": "stream",
     "text": [
      "\rMorphologyExtractor create index: 1663118it [00:13, 148907.32it/s]"
     ]
    },
    {
     "name": "stderr",
     "output_type": "stream",
     "text": [
      "\rMorphologyExtractor create index: 1678027it [00:13, 148084.49it/s]"
     ]
    },
    {
     "name": "stderr",
     "output_type": "stream",
     "text": [
      "\rMorphologyExtractor create index: 1692849it [00:13, 146396.34it/s]"
     ]
    },
    {
     "name": "stderr",
     "output_type": "stream",
     "text": [
      "\rMorphologyExtractor create index: 1707757it [00:13, 147189.51it/s]"
     ]
    },
    {
     "name": "stderr",
     "output_type": "stream",
     "text": [
      "\rMorphologyExtractor create index: 1722742it [00:13, 147976.47it/s]"
     ]
    },
    {
     "name": "stderr",
     "output_type": "stream",
     "text": [
      "\rMorphologyExtractor create index: 1737707it [00:13, 148471.89it/s]"
     ]
    },
    {
     "name": "stderr",
     "output_type": "stream",
     "text": [
      "\rMorphologyExtractor create index: 1752561it [00:13, 147305.32it/s]"
     ]
    },
    {
     "name": "stderr",
     "output_type": "stream",
     "text": [
      "\rMorphologyExtractor create index: 1767299it [00:14, 146213.54it/s]"
     ]
    },
    {
     "name": "stderr",
     "output_type": "stream",
     "text": [
      "\rMorphologyExtractor create index: 1782662it [00:14, 148361.82it/s]"
     ]
    },
    {
     "name": "stderr",
     "output_type": "stream",
     "text": [
      "\rMorphologyExtractor create index: 1797511it [00:14, 148343.35it/s]"
     ]
    },
    {
     "name": "stderr",
     "output_type": "stream",
     "text": [
      "\rMorphologyExtractor create index: 1812615it [00:14, 149140.85it/s]"
     ]
    },
    {
     "name": "stderr",
     "output_type": "stream",
     "text": [
      "\rMorphologyExtractor create index: 1828247it [00:14, 151221.40it/s]"
     ]
    },
    {
     "name": "stderr",
     "output_type": "stream",
     "text": [
      "\rMorphologyExtractor create index: 1843382it [00:14, 150191.32it/s]"
     ]
    },
    {
     "name": "stderr",
     "output_type": "stream",
     "text": [
      "\rMorphologyExtractor create index: 1858626it [00:14, 150856.73it/s]"
     ]
    },
    {
     "name": "stderr",
     "output_type": "stream",
     "text": [
      "\rMorphologyExtractor create index: 1874233it [00:14, 152381.05it/s]"
     ]
    },
    {
     "name": "stderr",
     "output_type": "stream",
     "text": [
      "\rMorphologyExtractor create index: 1890010it [00:14, 153957.43it/s]"
     ]
    },
    {
     "name": "stderr",
     "output_type": "stream",
     "text": [
      "\rMorphologyExtractor create index: 1905416it [00:14, 152951.17it/s]"
     ]
    },
    {
     "name": "stderr",
     "output_type": "stream",
     "text": [
      "\rMorphologyExtractor create index: 1920720it [00:15, 149684.45it/s]"
     ]
    },
    {
     "name": "stderr",
     "output_type": "stream",
     "text": [
      "\rMorphologyExtractor create index: 1935711it [00:15, 148508.58it/s]"
     ]
    },
    {
     "name": "stderr",
     "output_type": "stream",
     "text": [
      "\rMorphologyExtractor create index: 1950580it [00:15, 146795.33it/s]"
     ]
    },
    {
     "name": "stderr",
     "output_type": "stream",
     "text": [
      "\rMorphologyExtractor create index: 1965277it [00:15, 146613.03it/s]"
     ]
    },
    {
     "name": "stderr",
     "output_type": "stream",
     "text": [
      "\rMorphologyExtractor create index: 1979950it [00:15, 145475.19it/s]"
     ]
    },
    {
     "name": "stderr",
     "output_type": "stream",
     "text": [
      "\rMorphologyExtractor create index: 1995157it [00:15, 147390.27it/s]"
     ]
    },
    {
     "name": "stderr",
     "output_type": "stream",
     "text": [
      "\rMorphologyExtractor create index: 2010523it [00:15, 149215.50it/s]"
     ]
    },
    {
     "name": "stderr",
     "output_type": "stream",
     "text": [
      "\rMorphologyExtractor create index: 2025687it [00:15, 149932.38it/s]"
     ]
    },
    {
     "name": "stderr",
     "output_type": "stream",
     "text": [
      "\rMorphologyExtractor create index: 2040692it [00:15, 149422.92it/s]"
     ]
    },
    {
     "name": "stderr",
     "output_type": "stream",
     "text": [
      "\rMorphologyExtractor create index: 2055876it [00:15, 150138.06it/s]"
     ]
    },
    {
     "name": "stderr",
     "output_type": "stream",
     "text": [
      "\rMorphologyExtractor create index: 2071415it [00:16, 151673.38it/s]"
     ]
    },
    {
     "name": "stderr",
     "output_type": "stream",
     "text": [
      "\rMorphologyExtractor create index: 2086591it [00:16, 148382.00it/s]"
     ]
    },
    {
     "name": "stderr",
     "output_type": "stream",
     "text": [
      "\rMorphologyExtractor create index: 2101451it [00:16, 148096.27it/s]"
     ]
    },
    {
     "name": "stderr",
     "output_type": "stream",
     "text": [
      "\rMorphologyExtractor create index: 2116739it [00:16, 149497.82it/s]"
     ]
    },
    {
     "name": "stderr",
     "output_type": "stream",
     "text": [
      "\rMorphologyExtractor create index: 2131703it [00:16, 148241.42it/s]"
     ]
    },
    {
     "name": "stderr",
     "output_type": "stream",
     "text": [
      "\rMorphologyExtractor create index: 2146739it [00:16, 148867.68it/s]"
     ]
    },
    {
     "name": "stderr",
     "output_type": "stream",
     "text": [
      "\rMorphologyExtractor create index: 2161635it [00:16, 148711.26it/s]"
     ]
    },
    {
     "name": "stderr",
     "output_type": "stream",
     "text": [
      "\rMorphologyExtractor create index: 2176513it [00:16, 147123.15it/s]"
     ]
    },
    {
     "name": "stderr",
     "output_type": "stream",
     "text": [
      "\rMorphologyExtractor create index: 2191236it [00:16, 147152.91it/s]"
     ]
    },
    {
     "name": "stderr",
     "output_type": "stream",
     "text": [
      "\rMorphologyExtractor create index: 2205958it [00:16, 147104.29it/s]"
     ]
    },
    {
     "name": "stderr",
     "output_type": "stream",
     "text": [
      "\rMorphologyExtractor create index: 2220673it [00:17, 146565.49it/s]"
     ]
    },
    {
     "name": "stderr",
     "output_type": "stream",
     "text": [
      "\rMorphologyExtractor create index: 2235333it [00:17, 145807.81it/s]"
     ]
    },
    {
     "name": "stderr",
     "output_type": "stream",
     "text": [
      "\rMorphologyExtractor create index: 2249918it [00:17, 145740.05it/s]"
     ]
    },
    {
     "name": "stderr",
     "output_type": "stream",
     "text": [
      "\rMorphologyExtractor create index: 2264812it [00:17, 146684.61it/s]"
     ]
    },
    {
     "name": "stderr",
     "output_type": "stream",
     "text": [
      "\rMorphologyExtractor create index: 2280034it [00:17, 148302.12it/s]"
     ]
    },
    {
     "name": "stderr",
     "output_type": "stream",
     "text": [
      "\rMorphologyExtractor create index: 2294871it [00:17, 147277.45it/s]"
     ]
    },
    {
     "name": "stderr",
     "output_type": "stream",
     "text": [
      "\rMorphologyExtractor create index: 2310070it [00:17, 148659.04it/s]"
     ]
    },
    {
     "name": "stderr",
     "output_type": "stream",
     "text": [
      "\rMorphologyExtractor create index: 2324977it [00:17, 148780.75it/s]"
     ]
    },
    {
     "name": "stderr",
     "output_type": "stream",
     "text": [
      "\rMorphologyExtractor create index: 2340136it [00:17, 149610.67it/s]"
     ]
    },
    {
     "name": "stderr",
     "output_type": "stream",
     "text": [
      "\rMorphologyExtractor create index: 2355988it [00:17, 152173.94it/s]"
     ]
    },
    {
     "name": "stderr",
     "output_type": "stream",
     "text": [
      "\rMorphologyExtractor create index: 2371716it [00:18, 153668.29it/s]"
     ]
    },
    {
     "name": "stderr",
     "output_type": "stream",
     "text": [
      "\rMorphologyExtractor create index: 2387097it [00:18, 152944.57it/s]"
     ]
    },
    {
     "name": "stderr",
     "output_type": "stream",
     "text": [
      "\rMorphologyExtractor create index: 2402648it [00:18, 153702.59it/s]"
     ]
    },
    {
     "name": "stderr",
     "output_type": "stream",
     "text": [
      "\rMorphologyExtractor create index: 2418062it [00:18, 153830.74it/s]"
     ]
    },
    {
     "name": "stderr",
     "output_type": "stream",
     "text": [
      "\rMorphologyExtractor create index: 2433697it [00:18, 154575.16it/s]"
     ]
    },
    {
     "name": "stderr",
     "output_type": "stream",
     "text": [
      "\rMorphologyExtractor create index: 2449160it [00:18, 153066.08it/s]"
     ]
    },
    {
     "name": "stderr",
     "output_type": "stream",
     "text": [
      "\rMorphologyExtractor create index: 2464578it [00:18, 153397.73it/s]"
     ]
    },
    {
     "name": "stderr",
     "output_type": "stream",
     "text": [
      "\rMorphologyExtractor create index: 2479923it [00:18, 152283.44it/s]"
     ]
    },
    {
     "name": "stderr",
     "output_type": "stream",
     "text": [
      "\rMorphologyExtractor create index: 2495157it [00:18, 151609.11it/s]"
     ]
    },
    {
     "name": "stderr",
     "output_type": "stream",
     "text": [
      "\rMorphologyExtractor create index: 2510323it [00:18, 150664.04it/s]"
     ]
    },
    {
     "name": "stderr",
     "output_type": "stream",
     "text": [
      "\rMorphologyExtractor create index: 2525394it [00:19, 149360.39it/s]"
     ]
    },
    {
     "name": "stderr",
     "output_type": "stream",
     "text": [
      "\rMorphologyExtractor create index: 2540336it [00:19, 147525.71it/s]"
     ]
    },
    {
     "name": "stderr",
     "output_type": "stream",
     "text": [
      "\rMorphologyExtractor create index: 2555098it [00:19, 146406.00it/s]"
     ]
    },
    {
     "name": "stderr",
     "output_type": "stream",
     "text": [
      "\rMorphologyExtractor create index: 2569747it [00:19, 145886.45it/s]"
     ]
    },
    {
     "name": "stderr",
     "output_type": "stream",
     "text": [
      "\rMorphologyExtractor create index: 2584353it [00:19, 145938.41it/s]"
     ]
    },
    {
     "name": "stderr",
     "output_type": "stream",
     "text": [
      "\rMorphologyExtractor create index: 2598952it [00:19, 143550.68it/s]"
     ]
    },
    {
     "name": "stderr",
     "output_type": "stream",
     "text": [
      "\rMorphologyExtractor create index: 2613406it [00:19, 143844.25it/s]"
     ]
    },
    {
     "name": "stderr",
     "output_type": "stream",
     "text": [
      "\rMorphologyExtractor create index: 2627813it [00:19, 143911.02it/s]"
     ]
    },
    {
     "name": "stderr",
     "output_type": "stream",
     "text": [
      "\rMorphologyExtractor create index: 2642450it [00:19, 144636.66it/s]"
     ]
    },
    {
     "name": "stderr",
     "output_type": "stream",
     "text": [
      "\rMorphologyExtractor create index: 2657424it [00:20, 146130.70it/s]"
     ]
    },
    {
     "name": "stderr",
     "output_type": "stream",
     "text": [
      "\rMorphologyExtractor create index: 2672045it [00:20, 144480.73it/s]"
     ]
    },
    {
     "name": "stderr",
     "output_type": "stream",
     "text": [
      "\rMorphologyExtractor create index: 2686826it [00:20, 145463.29it/s]"
     ]
    },
    {
     "name": "stderr",
     "output_type": "stream",
     "text": [
      "\rMorphologyExtractor create index: 2701381it [00:20, 144932.58it/s]"
     ]
    },
    {
     "name": "stderr",
     "output_type": "stream",
     "text": [
      "\rMorphologyExtractor create index: 2716248it [00:20, 146033.86it/s]"
     ]
    },
    {
     "name": "stderr",
     "output_type": "stream",
     "text": [
      "\rMorphologyExtractor create index: 2731624it [00:20, 148268.05it/s]"
     ]
    },
    {
     "name": "stderr",
     "output_type": "stream",
     "text": [
      "\rMorphologyExtractor create index: 2746464it [00:20, 142747.73it/s]"
     ]
    },
    {
     "name": "stderr",
     "output_type": "stream",
     "text": [
      "\rMorphologyExtractor create index: 2760792it [00:20, 141833.68it/s]"
     ]
    },
    {
     "name": "stderr",
     "output_type": "stream",
     "text": [
      "\rMorphologyExtractor create index: 2775108it [00:20, 142226.10it/s]"
     ]
    },
    {
     "name": "stderr",
     "output_type": "stream",
     "text": [
      "\rMorphologyExtractor create index: 2789752it [00:20, 143464.22it/s]"
     ]
    },
    {
     "name": "stderr",
     "output_type": "stream",
     "text": [
      "\rMorphologyExtractor create index: 2804120it [00:21, 139094.82it/s]"
     ]
    },
    {
     "name": "stderr",
     "output_type": "stream",
     "text": [
      "\rMorphologyExtractor create index: 2818074it [00:21, 138983.82it/s]"
     ]
    },
    {
     "name": "stderr",
     "output_type": "stream",
     "text": [
      "\rMorphologyExtractor create index: 2832471it [00:21, 140442.97it/s]"
     ]
    },
    {
     "name": "stderr",
     "output_type": "stream",
     "text": [
      "\rMorphologyExtractor create index: 2847614it [00:21, 143567.60it/s]"
     ]
    },
    {
     "name": "stderr",
     "output_type": "stream",
     "text": [
      "\rMorphologyExtractor create index: 2862006it [00:21, 141530.47it/s]"
     ]
    },
    {
     "name": "stderr",
     "output_type": "stream",
     "text": [
      "\rMorphologyExtractor create index: 2876432it [00:21, 142337.56it/s]"
     ]
    },
    {
     "name": "stderr",
     "output_type": "stream",
     "text": [
      "\rMorphologyExtractor create index: 2890689it [00:21, 140175.87it/s]"
     ]
    },
    {
     "name": "stderr",
     "output_type": "stream",
     "text": [
      "\rMorphologyExtractor create index: 2904730it [00:21, 129040.39it/s]"
     ]
    },
    {
     "name": "stderr",
     "output_type": "stream",
     "text": [
      "\rMorphologyExtractor create index: 2918788it [00:21, 132298.01it/s]"
     ]
    },
    {
     "name": "stderr",
     "output_type": "stream",
     "text": [
      "\rMorphologyExtractor create index: 2932172it [00:21, 132223.32it/s]"
     ]
    },
    {
     "name": "stderr",
     "output_type": "stream",
     "text": [
      "\rMorphologyExtractor create index: 2946871it [00:22, 136330.16it/s]"
     ]
    },
    {
     "name": "stderr",
     "output_type": "stream",
     "text": [
      "\rMorphologyExtractor create index: 2961354it [00:22, 138772.66it/s]"
     ]
    },
    {
     "name": "stderr",
     "output_type": "stream",
     "text": [
      "\rMorphologyExtractor create index: 2975965it [00:22, 140887.57it/s]"
     ]
    },
    {
     "name": "stderr",
     "output_type": "stream",
     "text": [
      "\rMorphologyExtractor create index: 2990333it [00:22, 141710.97it/s]"
     ]
    },
    {
     "name": "stderr",
     "output_type": "stream",
     "text": [
      "\rMorphologyExtractor create index: 3005038it [00:22, 143270.67it/s]"
     ]
    },
    {
     "name": "stderr",
     "output_type": "stream",
     "text": [
      "\rMorphologyExtractor create index: 3019846it [00:22, 144679.47it/s]"
     ]
    },
    {
     "name": "stderr",
     "output_type": "stream",
     "text": [
      "\rMorphologyExtractor create index: 3034344it [00:22, 144363.81it/s]"
     ]
    },
    {
     "name": "stderr",
     "output_type": "stream",
     "text": [
      "\rMorphologyExtractor create index: 3048802it [00:22, 144020.22it/s]"
     ]
    },
    {
     "name": "stderr",
     "output_type": "stream",
     "text": [
      "\rMorphologyExtractor create index: 3063220it [00:22, 140856.97it/s]"
     ]
    },
    {
     "name": "stderr",
     "output_type": "stream",
     "text": [
      "\rMorphologyExtractor create index: 3077917it [00:22, 142634.77it/s]"
     ]
    },
    {
     "name": "stderr",
     "output_type": "stream",
     "text": [
      "\rMorphologyExtractor create index: 3092534it [00:23, 143676.38it/s]"
     ]
    },
    {
     "name": "stderr",
     "output_type": "stream",
     "text": [
      "\rMorphologyExtractor create index: 3107341it [00:23, 144964.35it/s]"
     ]
    },
    {
     "name": "stderr",
     "output_type": "stream",
     "text": [
      "\rMorphologyExtractor create index: 3122545it [00:23, 147014.31it/s]"
     ]
    },
    {
     "name": "stderr",
     "output_type": "stream",
     "text": [
      "\rMorphologyExtractor create index: 3137431it [00:23, 147562.40it/s]"
     ]
    },
    {
     "name": "stderr",
     "output_type": "stream",
     "text": [
      "\rMorphologyExtractor create index: 3152201it [00:23, 147584.92it/s]"
     ]
    },
    {
     "name": "stderr",
     "output_type": "stream",
     "text": [
      "\rMorphologyExtractor create index: 3166969it [00:23, 147117.97it/s]"
     ]
    },
    {
     "name": "stderr",
     "output_type": "stream",
     "text": [
      "\rMorphologyExtractor create index: 3181688it [00:23, 146230.91it/s]"
     ]
    },
    {
     "name": "stderr",
     "output_type": "stream",
     "text": [
      "\rMorphologyExtractor create index: 3196318it [00:23, 144386.25it/s]"
     ]
    },
    {
     "name": "stderr",
     "output_type": "stream",
     "text": [
      "\rMorphologyExtractor create index: 3210767it [00:23, 143646.79it/s]"
     ]
    },
    {
     "name": "stderr",
     "output_type": "stream",
     "text": [
      "\rMorphologyExtractor create index: 3225147it [00:23, 143691.12it/s]"
     ]
    },
    {
     "name": "stderr",
     "output_type": "stream",
     "text": [
      "\rMorphologyExtractor create index: 3240070it [00:24, 145307.85it/s]"
     ]
    },
    {
     "name": "stderr",
     "output_type": "stream",
     "text": [
      "\rMorphologyExtractor create index: 3254609it [00:24, 145104.49it/s]"
     ]
    },
    {
     "name": "stderr",
     "output_type": "stream",
     "text": [
      "\rMorphologyExtractor create index: 3269126it [00:24, 143859.16it/s]"
     ]
    },
    {
     "name": "stderr",
     "output_type": "stream",
     "text": [
      "\rMorphologyExtractor create index: 3284020it [00:24, 145344.14it/s]"
     ]
    },
    {
     "name": "stderr",
     "output_type": "stream",
     "text": [
      "\rMorphologyExtractor create index: 3298575it [00:24, 145403.60it/s]"
     ]
    },
    {
     "name": "stderr",
     "output_type": "stream",
     "text": [
      "\rMorphologyExtractor create index: 3313122it [00:24, 144544.53it/s]"
     ]
    },
    {
     "name": "stderr",
     "output_type": "stream",
     "text": [
      "\rMorphologyExtractor create index: 3328304it [00:24, 146650.29it/s]"
     ]
    },
    {
     "name": "stderr",
     "output_type": "stream",
     "text": [
      "\rMorphologyExtractor create index: 3343507it [00:24, 148221.15it/s]"
     ]
    },
    {
     "name": "stderr",
     "output_type": "stream",
     "text": [
      "\rMorphologyExtractor create index: 3358427it [00:24, 148511.17it/s]"
     ]
    },
    {
     "name": "stderr",
     "output_type": "stream",
     "text": [
      "\rMorphologyExtractor create index: 3373287it [00:25, 147475.14it/s]"
     ]
    },
    {
     "name": "stderr",
     "output_type": "stream",
     "text": [
      "\rMorphologyExtractor create index: 3388043it [00:25, 145589.61it/s]"
     ]
    },
    {
     "name": "stderr",
     "output_type": "stream",
     "text": [
      "\rMorphologyExtractor create index: 3402861it [00:25, 146354.10it/s]"
     ]
    },
    {
     "name": "stderr",
     "output_type": "stream",
     "text": [
      "\rMorphologyExtractor create index: 3417598it [00:25, 146655.14it/s]"
     ]
    },
    {
     "name": "stderr",
     "output_type": "stream",
     "text": [
      "\rMorphologyExtractor create index: 3432654it [00:25, 147803.55it/s]"
     ]
    },
    {
     "name": "stderr",
     "output_type": "stream",
     "text": [
      "\rMorphologyExtractor create index: 3447510it [00:25, 148029.61it/s]"
     ]
    },
    {
     "name": "stderr",
     "output_type": "stream",
     "text": [
      "\rMorphologyExtractor create index: 3462318it [00:25, 146700.53it/s]"
     ]
    },
    {
     "name": "stderr",
     "output_type": "stream",
     "text": [
      "\rMorphologyExtractor create index: 3476994it [00:25, 146417.72it/s]"
     ]
    },
    {
     "name": "stderr",
     "output_type": "stream",
     "text": [
      "\rMorphologyExtractor create index: 3491641it [00:25, 146336.86it/s]"
     ]
    },
    {
     "name": "stderr",
     "output_type": "stream",
     "text": [
      "\rMorphologyExtractor create index: 3506604it [00:25, 147306.51it/s]"
     ]
    },
    {
     "name": "stderr",
     "output_type": "stream",
     "text": [
      "\rMorphologyExtractor create index: 3521514it [00:26, 147838.17it/s]"
     ]
    },
    {
     "name": "stderr",
     "output_type": "stream",
     "text": [
      "\rMorphologyExtractor create index: 3536301it [00:26, 145613.74it/s]"
     ]
    },
    {
     "name": "stderr",
     "output_type": "stream",
     "text": [
      "\rMorphologyExtractor create index: 3551123it [00:26, 146384.64it/s]"
     ]
    },
    {
     "name": "stderr",
     "output_type": "stream",
     "text": [
      "\rMorphologyExtractor create index: 3565770it [00:26, 145649.48it/s]"
     ]
    },
    {
     "name": "stderr",
     "output_type": "stream",
     "text": [
      "\rMorphologyExtractor create index: 3581012it [00:26, 147616.15it/s]"
     ]
    },
    {
     "name": "stderr",
     "output_type": "stream",
     "text": [
      "\rMorphologyExtractor create index: 3595785it [00:26, 145188.92it/s]"
     ]
    },
    {
     "name": "stderr",
     "output_type": "stream",
     "text": [
      "\rMorphologyExtractor create index: 3610321it [00:26, 144169.73it/s]"
     ]
    },
    {
     "name": "stderr",
     "output_type": "stream",
     "text": [
      "\rMorphologyExtractor create index: 3624752it [00:26, 143269.09it/s]"
     ]
    },
    {
     "name": "stderr",
     "output_type": "stream",
     "text": [
      "\rMorphologyExtractor create index: 3639090it [00:26, 143154.71it/s]"
     ]
    },
    {
     "name": "stderr",
     "output_type": "stream",
     "text": [
      "\rMorphologyExtractor create index: 3653413it [00:26, 142753.44it/s]"
     ]
    },
    {
     "name": "stderr",
     "output_type": "stream",
     "text": [
      "\rMorphologyExtractor create index: 3667784it [00:27, 143036.06it/s]"
     ]
    },
    {
     "name": "stderr",
     "output_type": "stream",
     "text": [
      "\rMorphologyExtractor create index: 3682964it [00:27, 145554.66it/s]"
     ]
    },
    {
     "name": "stderr",
     "output_type": "stream",
     "text": [
      "\rMorphologyExtractor create index: 3697534it [00:27, 143695.41it/s]"
     ]
    },
    {
     "name": "stderr",
     "output_type": "stream",
     "text": [
      "\rMorphologyExtractor create index: 3712096it [00:27, 144265.22it/s]"
     ]
    },
    {
     "name": "stderr",
     "output_type": "stream",
     "text": [
      "\rMorphologyExtractor create index: 3726698it [00:27, 144787.15it/s]"
     ]
    },
    {
     "name": "stderr",
     "output_type": "stream",
     "text": [
      "\rMorphologyExtractor create index: 3741261it [00:27, 145038.19it/s]"
     ]
    },
    {
     "name": "stderr",
     "output_type": "stream",
     "text": [
      "\rMorphologyExtractor create index: 3756269it [00:27, 146513.51it/s]"
     ]
    },
    {
     "name": "stderr",
     "output_type": "stream",
     "text": [
      "\rMorphologyExtractor create index: 3770928it [00:27, 146232.55it/s]"
     ]
    },
    {
     "name": "stderr",
     "output_type": "stream",
     "text": [
      "\rMorphologyExtractor create index: 3785557it [00:27, 146167.88it/s]"
     ]
    },
    {
     "name": "stderr",
     "output_type": "stream",
     "text": [
      "\rMorphologyExtractor create index: 3800825it [00:27, 148062.06it/s]"
     ]
    },
    {
     "name": "stderr",
     "output_type": "stream",
     "text": [
      "\rMorphologyExtractor create index: 3815869it [00:28, 148765.66it/s]"
     ]
    },
    {
     "name": "stderr",
     "output_type": "stream",
     "text": [
      "\rMorphologyExtractor create index: 3830753it [00:28, 147159.92it/s]"
     ]
    },
    {
     "name": "stderr",
     "output_type": "stream",
     "text": [
      "\rMorphologyExtractor create index: 3845478it [00:28, 144389.41it/s]"
     ]
    },
    {
     "name": "stderr",
     "output_type": "stream",
     "text": [
      "\rMorphologyExtractor create index: 3859935it [00:28, 144103.95it/s]"
     ]
    },
    {
     "name": "stderr",
     "output_type": "stream",
     "text": [
      "\rMorphologyExtractor create index: 3875126it [00:28, 146357.33it/s]"
     ]
    },
    {
     "name": "stderr",
     "output_type": "stream",
     "text": [
      "\rMorphologyExtractor create index: 3889780it [00:28, 146367.77it/s]"
     ]
    },
    {
     "name": "stderr",
     "output_type": "stream",
     "text": [
      "\rMorphologyExtractor create index: 3904429it [00:28, 146093.36it/s]"
     ]
    },
    {
     "name": "stderr",
     "output_type": "stream",
     "text": [
      "\rMorphologyExtractor create index: 3919047it [00:28, 145046.89it/s]"
     ]
    },
    {
     "name": "stderr",
     "output_type": "stream",
     "text": [
      "\rMorphologyExtractor create index: 3933560it [00:28, 144361.94it/s]"
     ]
    },
    {
     "name": "stderr",
     "output_type": "stream",
     "text": [
      "\rMorphologyExtractor create index: 3948003it [00:28, 143925.68it/s]"
     ]
    },
    {
     "name": "stderr",
     "output_type": "stream",
     "text": [
      "\rMorphologyExtractor create index: 3962479it [00:29, 144173.16it/s]"
     ]
    },
    {
     "name": "stderr",
     "output_type": "stream",
     "text": [
      "\rMorphologyExtractor create index: 3977010it [00:29, 144511.15it/s]"
     ]
    },
    {
     "name": "stderr",
     "output_type": "stream",
     "text": [
      "\rMorphologyExtractor create index: 3991587it [00:29, 144884.70it/s]"
     ]
    },
    {
     "name": "stderr",
     "output_type": "stream",
     "text": [
      "\rMorphologyExtractor create index: 4006610it [00:29, 146447.45it/s]"
     ]
    },
    {
     "name": "stderr",
     "output_type": "stream",
     "text": [
      "\rMorphologyExtractor create index: 4021557it [00:29, 147339.16it/s]"
     ]
    },
    {
     "name": "stderr",
     "output_type": "stream",
     "text": [
      "\rMorphologyExtractor create index: 4036507it [00:29, 147978.56it/s]"
     ]
    },
    {
     "name": "stderr",
     "output_type": "stream",
     "text": [
      "\rMorphologyExtractor create index: 4051496it [00:29, 148543.84it/s]"
     ]
    },
    {
     "name": "stderr",
     "output_type": "stream",
     "text": [
      "\rMorphologyExtractor create index: 4066667it [00:29, 149477.98it/s]"
     ]
    },
    {
     "name": "stderr",
     "output_type": "stream",
     "text": [
      "\rMorphologyExtractor create index: 4081619it [00:29, 149487.10it/s]"
     ]
    },
    {
     "name": "stderr",
     "output_type": "stream",
     "text": [
      "\rMorphologyExtractor create index: 4096849it [00:29, 150316.54it/s]"
     ]
    },
    {
     "name": "stderr",
     "output_type": "stream",
     "text": [
      "\rMorphologyExtractor create index: 4111884it [00:30, 150247.11it/s]"
     ]
    },
    {
     "name": "stderr",
     "output_type": "stream",
     "text": [
      "\rMorphologyExtractor create index: 4127326it [00:30, 151472.80it/s]"
     ]
    },
    {
     "name": "stderr",
     "output_type": "stream",
     "text": [
      "\rMorphologyExtractor create index: 4142864it [00:30, 152621.86it/s]"
     ]
    },
    {
     "name": "stderr",
     "output_type": "stream",
     "text": [
      "\rMorphologyExtractor create index: 4158131it [00:30, 151854.70it/s]"
     ]
    },
    {
     "name": "stderr",
     "output_type": "stream",
     "text": [
      "\rMorphologyExtractor create index: 4173499it [00:30, 152396.90it/s]"
     ]
    },
    {
     "name": "stderr",
     "output_type": "stream",
     "text": [
      "\rMorphologyExtractor create index: 4188743it [00:30, 150804.42it/s]"
     ]
    },
    {
     "name": "stderr",
     "output_type": "stream",
     "text": [
      "\rMorphologyExtractor create index: 4203934it [00:30, 151131.65it/s]"
     ]
    },
    {
     "name": "stderr",
     "output_type": "stream",
     "text": [
      "\rMorphologyExtractor create index: 4219698it [00:30, 153026.10it/s]"
     ]
    },
    {
     "name": "stderr",
     "output_type": "stream",
     "text": [
      "\rMorphologyExtractor create index: 4235010it [00:30, 148689.10it/s]"
     ]
    },
    {
     "name": "stderr",
     "output_type": "stream",
     "text": [
      "\rMorphologyExtractor create index: 4249913it [00:30, 146112.00it/s]"
     ]
    },
    {
     "name": "stderr",
     "output_type": "stream",
     "text": [
      "\rMorphologyExtractor create index: 4264558it [00:31, 144716.07it/s]"
     ]
    },
    {
     "name": "stderr",
     "output_type": "stream",
     "text": [
      "\rMorphologyExtractor create index: 4279056it [00:31, 144165.85it/s]"
     ]
    },
    {
     "name": "stderr",
     "output_type": "stream",
     "text": [
      "\rMorphologyExtractor create index: 4293492it [00:31, 144075.01it/s]"
     ]
    },
    {
     "name": "stderr",
     "output_type": "stream",
     "text": [
      "\rMorphologyExtractor create index: 4307913it [00:31, 143270.65it/s]"
     ]
    },
    {
     "name": "stderr",
     "output_type": "stream",
     "text": [
      "\rMorphologyExtractor create index: 4322251it [00:31, 142739.40it/s]"
     ]
    },
    {
     "name": "stderr",
     "output_type": "stream",
     "text": [
      "\rMorphologyExtractor create index: 4336659it [00:31, 143138.08it/s]"
     ]
    },
    {
     "name": "stderr",
     "output_type": "stream",
     "text": [
      "\rMorphologyExtractor create index: 4351211it [00:31, 143840.60it/s]"
     ]
    },
    {
     "name": "stderr",
     "output_type": "stream",
     "text": [
      "\rMorphologyExtractor create index: 4366076it [00:31, 145249.15it/s]"
     ]
    },
    {
     "name": "stderr",
     "output_type": "stream",
     "text": [
      "\rMorphologyExtractor create index: 4380720it [00:31, 145602.13it/s]"
     ]
    },
    {
     "name": "stderr",
     "output_type": "stream",
     "text": [
      "\rMorphologyExtractor create index: 4395286it [00:31, 143959.93it/s]"
     ]
    },
    {
     "name": "stderr",
     "output_type": "stream",
     "text": [
      "\rMorphologyExtractor create index: 4410401it [00:32, 146042.82it/s]"
     ]
    },
    {
     "name": "stderr",
     "output_type": "stream",
     "text": [
      "\rMorphologyExtractor create index: 4425018it [00:32, 144477.33it/s]"
     ]
    },
    {
     "name": "stderr",
     "output_type": "stream",
     "text": [
      "\rMorphologyExtractor create index: 4439479it [00:32, 143122.55it/s]"
     ]
    },
    {
     "name": "stderr",
     "output_type": "stream",
     "text": [
      "\rMorphologyExtractor create index: 4454148it [00:32, 144172.75it/s]"
     ]
    },
    {
     "name": "stderr",
     "output_type": "stream",
     "text": [
      "\rMorphologyExtractor create index: 4468576it [00:32, 144026.10it/s]"
     ]
    },
    {
     "name": "stderr",
     "output_type": "stream",
     "text": [
      "\rMorphologyExtractor create index: 4482986it [00:32, 143474.25it/s]"
     ]
    },
    {
     "name": "stderr",
     "output_type": "stream",
     "text": [
      "\rMorphologyExtractor create index: 4497945it [00:32, 145254.54it/s]"
     ]
    },
    {
     "name": "stderr",
     "output_type": "stream",
     "text": [
      "\rMorphologyExtractor create index: 4512708it [00:32, 145956.57it/s]"
     ]
    },
    {
     "name": "stderr",
     "output_type": "stream",
     "text": [
      "\rMorphologyExtractor create index: 4527311it [00:32, 142957.76it/s]"
     ]
    },
    {
     "name": "stderr",
     "output_type": "stream",
     "text": [
      "\rMorphologyExtractor create index: 4542587it [00:33, 145763.40it/s]"
     ]
    },
    {
     "name": "stderr",
     "output_type": "stream",
     "text": [
      "\rMorphologyExtractor create index: 4557909it [00:33, 147921.76it/s]"
     ]
    },
    {
     "name": "stderr",
     "output_type": "stream",
     "text": [
      "\rMorphologyExtractor create index: 4572818it [00:33, 148267.60it/s]"
     ]
    },
    {
     "name": "stderr",
     "output_type": "stream",
     "text": [
      "\rMorphologyExtractor create index: 4587664it [00:33, 147287.00it/s]"
     ]
    },
    {
     "name": "stderr",
     "output_type": "stream",
     "text": [
      "\rMorphologyExtractor create index: 4602411it [00:33, 147339.58it/s]"
     ]
    },
    {
     "name": "stderr",
     "output_type": "stream",
     "text": [
      "\rMorphologyExtractor create index: 4617239it [00:33, 147617.86it/s]"
     ]
    },
    {
     "name": "stderr",
     "output_type": "stream",
     "text": [
      "\rMorphologyExtractor create index: 4632009it [00:33, 147021.71it/s]"
     ]
    },
    {
     "name": "stderr",
     "output_type": "stream",
     "text": [
      "\rMorphologyExtractor create index: 4646717it [00:33, 146303.37it/s]"
     ]
    },
    {
     "name": "stderr",
     "output_type": "stream",
     "text": [
      "\rMorphologyExtractor create index: 4661434it [00:33, 146562.22it/s]"
     ]
    },
    {
     "name": "stderr",
     "output_type": "stream",
     "text": [
      "\rMorphologyExtractor create index: 4676094it [00:33, 144257.80it/s]"
     ]
    },
    {
     "name": "stderr",
     "output_type": "stream",
     "text": [
      "\rMorphologyExtractor create index: 4691075it [00:34, 145878.18it/s]"
     ]
    },
    {
     "name": "stderr",
     "output_type": "stream",
     "text": [
      "\rMorphologyExtractor create index: 4705675it [00:34, 144552.11it/s]"
     ]
    },
    {
     "name": "stderr",
     "output_type": "stream",
     "text": [
      "\rMorphologyExtractor create index: 4720758it [00:34, 146376.50it/s]"
     ]
    },
    {
     "name": "stderr",
     "output_type": "stream",
     "text": [
      "\rMorphologyExtractor create index: 4735409it [00:34, 145014.00it/s]"
     ]
    },
    {
     "name": "stderr",
     "output_type": "stream",
     "text": [
      "\rMorphologyExtractor create index: 4749923it [00:34, 145050.47it/s]"
     ]
    },
    {
     "name": "stderr",
     "output_type": "stream",
     "text": [
      "\rMorphologyExtractor create index: 4764437it [00:34, 144568.73it/s]"
     ]
    },
    {
     "name": "stderr",
     "output_type": "stream",
     "text": [
      "\rMorphologyExtractor create index: 4779247it [00:34, 145608.09it/s]"
     ]
    },
    {
     "name": "stderr",
     "output_type": "stream",
     "text": [
      "\rMorphologyExtractor create index: 4794438it [00:34, 147442.60it/s]"
     ]
    },
    {
     "name": "stderr",
     "output_type": "stream",
     "text": [
      "\rMorphologyExtractor create index: 4809941it [00:34, 149639.30it/s]"
     ]
    },
    {
     "name": "stderr",
     "output_type": "stream",
     "text": [
      "\rMorphologyExtractor create index: 4824920it [00:34, 149314.30it/s]"
     ]
    },
    {
     "name": "stderr",
     "output_type": "stream",
     "text": [
      "\rMorphologyExtractor create index: 4839862it [00:35, 147676.91it/s]"
     ]
    },
    {
     "name": "stderr",
     "output_type": "stream",
     "text": [
      "\rMorphologyExtractor create index: 4854642it [00:35, 145815.53it/s]"
     ]
    },
    {
     "name": "stderr",
     "output_type": "stream",
     "text": [
      "\rMorphologyExtractor create index: 4869237it [00:35, 144097.47it/s]"
     ]
    },
    {
     "name": "stderr",
     "output_type": "stream",
     "text": [
      "\rMorphologyExtractor create index: 4884000it [00:35, 145137.96it/s]"
     ]
    },
    {
     "name": "stderr",
     "output_type": "stream",
     "text": [
      "\rMorphologyExtractor create index: 4898603it [00:35, 145403.74it/s]"
     ]
    },
    {
     "name": "stderr",
     "output_type": "stream",
     "text": [
      "\rMorphologyExtractor create index: 4913152it [00:35, 144177.02it/s]"
     ]
    },
    {
     "name": "stderr",
     "output_type": "stream",
     "text": [
      "\rMorphologyExtractor create index: 4928410it [00:35, 146598.33it/s]"
     ]
    },
    {
     "name": "stderr",
     "output_type": "stream",
     "text": [
      "\rMorphologyExtractor create index: 4943738it [00:35, 148539.04it/s]"
     ]
    },
    {
     "name": "stderr",
     "output_type": "stream",
     "text": [
      "\rMorphologyExtractor create index: 4958609it [00:35, 147850.67it/s]"
     ]
    },
    {
     "name": "stderr",
     "output_type": "stream",
     "text": [
      "\rMorphologyExtractor create index: 4973407it [00:35, 146394.11it/s]"
     ]
    },
    {
     "name": "stderr",
     "output_type": "stream",
     "text": [
      "\rMorphologyExtractor create index: 4988470it [00:36, 147639.28it/s]"
     ]
    },
    {
     "name": "stderr",
     "output_type": "stream",
     "text": [
      "\rMorphologyExtractor create index: 5003294it [00:36, 147818.50it/s]"
     ]
    },
    {
     "name": "stderr",
     "output_type": "stream",
     "text": [
      "\rMorphologyExtractor create index: 5018084it [00:36, 146702.10it/s]"
     ]
    },
    {
     "name": "stderr",
     "output_type": "stream",
     "text": [
      "\rMorphologyExtractor create index: 5033605it [00:36, 149152.27it/s]"
     ]
    },
    {
     "name": "stderr",
     "output_type": "stream",
     "text": [
      "\rMorphologyExtractor create index: 5048536it [00:36, 148758.05it/s]"
     ]
    },
    {
     "name": "stderr",
     "output_type": "stream",
     "text": [
      "\rMorphologyExtractor create index: 5063620it [00:36, 149373.97it/s]"
     ]
    },
    {
     "name": "stderr",
     "output_type": "stream",
     "text": [
      "\rMorphologyExtractor create index: 5078736it [00:36, 149902.61it/s]"
     ]
    },
    {
     "name": "stderr",
     "output_type": "stream",
     "text": [
      "\rMorphologyExtractor create index: 5093733it [00:36, 146241.78it/s]"
     ]
    },
    {
     "name": "stderr",
     "output_type": "stream",
     "text": [
      "\rMorphologyExtractor create index: 5096053it [00:36, 138597.38it/s]"
     ]
    },
    {
     "name": "stderr",
     "output_type": "stream",
     "text": [
      "\n"
     ]
    },
    {
     "name": "stderr",
     "output_type": "stream",
     "text": [
      "\rMorphologyExtractor create index: 0it [00:00, ?it/s]"
     ]
    },
    {
     "name": "stderr",
     "output_type": "stream",
     "text": [
      "\rMorphologyExtractor create index: 14002it [00:00, 140007.45it/s]"
     ]
    },
    {
     "name": "stderr",
     "output_type": "stream",
     "text": [
      "\rMorphologyExtractor create index: 27927it [00:00, 139777.78it/s]"
     ]
    },
    {
     "name": "stderr",
     "output_type": "stream",
     "text": [
      "\rMorphologyExtractor create index: 43015it [00:00, 142930.54it/s]"
     ]
    },
    {
     "name": "stderr",
     "output_type": "stream",
     "text": [
      "\rMorphologyExtractor create index: 58247it [00:00, 145623.48it/s]"
     ]
    },
    {
     "name": "stderr",
     "output_type": "stream",
     "text": [
      "\rMorphologyExtractor create index: 73730it [00:00, 148267.21it/s]"
     ]
    },
    {
     "name": "stderr",
     "output_type": "stream",
     "text": [
      "\rMorphologyExtractor create index: 89865it [00:00, 151961.10it/s]"
     ]
    },
    {
     "name": "stderr",
     "output_type": "stream",
     "text": [
      "\rMorphologyExtractor create index: 104812it [00:00, 151204.59it/s]"
     ]
    },
    {
     "name": "stderr",
     "output_type": "stream",
     "text": [
      "\rMorphologyExtractor create index: 120228it [00:00, 152072.10it/s]"
     ]
    },
    {
     "name": "stderr",
     "output_type": "stream",
     "text": [
      "\rMorphologyExtractor create index: 134651it [00:00, 147498.02it/s]"
     ]
    },
    {
     "name": "stderr",
     "output_type": "stream",
     "text": [
      "\rMorphologyExtractor create index: 150488it [00:01, 150597.78it/s]"
     ]
    },
    {
     "name": "stderr",
     "output_type": "stream",
     "text": [
      "\rMorphologyExtractor create index: 165201it [00:01, 120304.41it/s]"
     ]
    },
    {
     "name": "stderr",
     "output_type": "stream",
     "text": [
      "\rMorphologyExtractor create index: 178057it [00:01, 122666.10it/s]"
     ]
    },
    {
     "name": "stderr",
     "output_type": "stream",
     "text": [
      "\rMorphologyExtractor create index: 192747it [00:01, 129050.93it/s]"
     ]
    },
    {
     "name": "stderr",
     "output_type": "stream",
     "text": [
      "\rMorphologyExtractor create index: 207690it [00:01, 134554.76it/s]"
     ]
    },
    {
     "name": "stderr",
     "output_type": "stream",
     "text": [
      "\rMorphologyExtractor create index: 221523it [00:01, 113390.35it/s]"
     ]
    },
    {
     "name": "stderr",
     "output_type": "stream",
     "text": [
      "\rMorphologyExtractor create index: 236484it [00:01, 122269.81it/s]"
     ]
    },
    {
     "name": "stderr",
     "output_type": "stream",
     "text": [
      "\rMorphologyExtractor create index: 250261it [00:01, 126540.14it/s]"
     ]
    },
    {
     "name": "stderr",
     "output_type": "stream",
     "text": [
      "\rMorphologyExtractor create index: 265377it [00:01, 133040.38it/s]"
     ]
    },
    {
     "name": "stderr",
     "output_type": "stream",
     "text": [
      "\rMorphologyExtractor create index: 279205it [00:02, 134565.73it/s]"
     ]
    },
    {
     "name": "stderr",
     "output_type": "stream",
     "text": [
      "\rMorphologyExtractor create index: 293015it [00:02, 124843.71it/s]"
     ]
    },
    {
     "name": "stderr",
     "output_type": "stream",
     "text": [
      "\rMorphologyExtractor create index: 306217it [00:02, 126910.04it/s]"
     ]
    },
    {
     "name": "stderr",
     "output_type": "stream",
     "text": [
      "\rMorphologyExtractor create index: 319188it [00:02, 123789.64it/s]"
     ]
    },
    {
     "name": "stderr",
     "output_type": "stream",
     "text": [
      "\rMorphologyExtractor create index: 331780it [00:02, 120680.28it/s]"
     ]
    },
    {
     "name": "stderr",
     "output_type": "stream",
     "text": [
      "\rMorphologyExtractor create index: 344411it [00:02, 122315.40it/s]"
     ]
    },
    {
     "name": "stderr",
     "output_type": "stream",
     "text": [
      "\rMorphologyExtractor create index: 357096it [00:02, 123639.68it/s]"
     ]
    },
    {
     "name": "stderr",
     "output_type": "stream",
     "text": [
      "\rMorphologyExtractor create index: 369549it [00:02, 123278.09it/s]"
     ]
    },
    {
     "name": "stderr",
     "output_type": "stream",
     "text": [
      "\rMorphologyExtractor create index: 382483it [00:02, 125034.37it/s]"
     ]
    },
    {
     "name": "stderr",
     "output_type": "stream",
     "text": [
      "\rMorphologyExtractor create index: 395036it [00:03, 124446.56it/s]"
     ]
    },
    {
     "name": "stderr",
     "output_type": "stream",
     "text": [
      "\rMorphologyExtractor create index: 407516it [00:03, 114935.79it/s]"
     ]
    },
    {
     "name": "stderr",
     "output_type": "stream",
     "text": [
      "\rMorphologyExtractor create index: 419179it [00:03, 111911.44it/s]"
     ]
    },
    {
     "name": "stderr",
     "output_type": "stream",
     "text": [
      "\rMorphologyExtractor create index: 430506it [00:03, 109251.56it/s]"
     ]
    },
    {
     "name": "stderr",
     "output_type": "stream",
     "text": [
      "\rMorphologyExtractor create index: 444735it [00:03, 117429.40it/s]"
     ]
    },
    {
     "name": "stderr",
     "output_type": "stream",
     "text": [
      "\rMorphologyExtractor create index: 458997it [00:03, 123999.73it/s]"
     ]
    },
    {
     "name": "stderr",
     "output_type": "stream",
     "text": [
      "\rMorphologyExtractor create index: 473053it [00:03, 128542.69it/s]"
     ]
    },
    {
     "name": "stderr",
     "output_type": "stream",
     "text": [
      "\rMorphologyExtractor create index: 487010it [00:03, 131661.91it/s]"
     ]
    },
    {
     "name": "stderr",
     "output_type": "stream",
     "text": [
      "\rMorphologyExtractor create index: 500359it [00:03, 126692.06it/s]"
     ]
    },
    {
     "name": "stderr",
     "output_type": "stream",
     "text": [
      "\rMorphologyExtractor create index: 514463it [00:03, 130678.58it/s]"
     ]
    },
    {
     "name": "stderr",
     "output_type": "stream",
     "text": [
      "\rMorphologyExtractor create index: 528459it [00:04, 133330.35it/s]"
     ]
    },
    {
     "name": "stderr",
     "output_type": "stream",
     "text": [
      "\rMorphologyExtractor create index: 542831it [00:04, 136284.86it/s]"
     ]
    },
    {
     "name": "stderr",
     "output_type": "stream",
     "text": [
      "\rMorphologyExtractor create index: 556558it [00:04, 134049.40it/s]"
     ]
    },
    {
     "name": "stderr",
     "output_type": "stream",
     "text": [
      "\rMorphologyExtractor create index: 570041it [00:04, 132072.03it/s]"
     ]
    },
    {
     "name": "stderr",
     "output_type": "stream",
     "text": [
      "\rMorphologyExtractor create index: 583309it [00:04, 131011.11it/s]"
     ]
    },
    {
     "name": "stderr",
     "output_type": "stream",
     "text": [
      "\rMorphologyExtractor create index: 596462it [00:04, 131164.80it/s]"
     ]
    },
    {
     "name": "stderr",
     "output_type": "stream",
     "text": [
      "\rMorphologyExtractor create index: 610754it [00:04, 134481.68it/s]"
     ]
    },
    {
     "name": "stderr",
     "output_type": "stream",
     "text": [
      "\rMorphologyExtractor create index: 624757it [00:04, 136097.79it/s]"
     ]
    },
    {
     "name": "stderr",
     "output_type": "stream",
     "text": [
      "\rMorphologyExtractor create index: 638634it [00:04, 136885.34it/s]"
     ]
    },
    {
     "name": "stderr",
     "output_type": "stream",
     "text": [
      "\rMorphologyExtractor create index: 652348it [00:04, 133967.06it/s]"
     ]
    },
    {
     "name": "stderr",
     "output_type": "stream",
     "text": [
      "\rMorphologyExtractor create index: 666842it [00:05, 137080.10it/s]"
     ]
    },
    {
     "name": "stderr",
     "output_type": "stream",
     "text": [
      "\rMorphologyExtractor create index: 682017it [00:05, 141171.96it/s]"
     ]
    },
    {
     "name": "stderr",
     "output_type": "stream",
     "text": [
      "\rMorphologyExtractor create index: 697136it [00:05, 144033.51it/s]"
     ]
    },
    {
     "name": "stderr",
     "output_type": "stream",
     "text": [
      "\rMorphologyExtractor create index: 711595it [00:05, 142775.74it/s]"
     ]
    },
    {
     "name": "stderr",
     "output_type": "stream",
     "text": [
      "\rMorphologyExtractor create index: 726803it [00:05, 145444.49it/s]"
     ]
    },
    {
     "name": "stderr",
     "output_type": "stream",
     "text": [
      "\rMorphologyExtractor create index: 741651it [00:05, 146340.73it/s]"
     ]
    },
    {
     "name": "stderr",
     "output_type": "stream",
     "text": [
      "\rMorphologyExtractor create index: 756316it [00:05, 145096.31it/s]"
     ]
    },
    {
     "name": "stderr",
     "output_type": "stream",
     "text": [
      "\rMorphologyExtractor create index: 770850it [00:05, 143933.99it/s]"
     ]
    },
    {
     "name": "stderr",
     "output_type": "stream",
     "text": [
      "\rMorphologyExtractor create index: 785590it [00:05, 144956.08it/s]"
     ]
    },
    {
     "name": "stderr",
     "output_type": "stream",
     "text": [
      "\rMorphologyExtractor create index: 800741it [00:05, 146861.06it/s]"
     ]
    },
    {
     "name": "stderr",
     "output_type": "stream",
     "text": [
      "\rMorphologyExtractor create index: 815806it [00:06, 147975.44it/s]"
     ]
    },
    {
     "name": "stderr",
     "output_type": "stream",
     "text": [
      "\rMorphologyExtractor create index: 831798it [00:06, 151364.13it/s]"
     ]
    },
    {
     "name": "stderr",
     "output_type": "stream",
     "text": [
      "\rMorphologyExtractor create index: 847130it [00:06, 151942.98it/s]"
     ]
    },
    {
     "name": "stderr",
     "output_type": "stream",
     "text": [
      "\rMorphologyExtractor create index: 862345it [00:06, 150106.00it/s]"
     ]
    },
    {
     "name": "stderr",
     "output_type": "stream",
     "text": [
      "\rMorphologyExtractor create index: 877375it [00:06, 148632.05it/s]"
     ]
    },
    {
     "name": "stderr",
     "output_type": "stream",
     "text": [
      "\rMorphologyExtractor create index: 893490it [00:06, 152177.89it/s]"
     ]
    },
    {
     "name": "stderr",
     "output_type": "stream",
     "text": [
      "\rMorphologyExtractor create index: 909587it [00:06, 154712.72it/s]"
     ]
    },
    {
     "name": "stderr",
     "output_type": "stream",
     "text": [
      "\rMorphologyExtractor create index: 925168it [00:06, 155037.90it/s]"
     ]
    },
    {
     "name": "stderr",
     "output_type": "stream",
     "text": [
      "\rMorphologyExtractor create index: 940696it [00:06, 154415.88it/s]"
     ]
    },
    {
     "name": "stderr",
     "output_type": "stream",
     "text": [
      "\rMorphologyExtractor create index: 956264it [00:07, 154790.58it/s]"
     ]
    },
    {
     "name": "stderr",
     "output_type": "stream",
     "text": [
      "\rMorphologyExtractor create index: 971756it [00:07, 154718.16it/s]"
     ]
    },
    {
     "name": "stderr",
     "output_type": "stream",
     "text": [
      "\rMorphologyExtractor create index: 987237it [00:07, 153765.01it/s]"
     ]
    },
    {
     "name": "stderr",
     "output_type": "stream",
     "text": [
      "\rMorphologyExtractor create index: 1002621it [00:07, 152309.73it/s]"
     ]
    },
    {
     "name": "stderr",
     "output_type": "stream",
     "text": [
      "\rMorphologyExtractor create index: 1017953it [00:07, 152608.74it/s]"
     ]
    },
    {
     "name": "stderr",
     "output_type": "stream",
     "text": [
      "\rMorphologyExtractor create index: 1033594it [00:07, 153727.67it/s]"
     ]
    },
    {
     "name": "stderr",
     "output_type": "stream",
     "text": [
      "\rMorphologyExtractor create index: 1049060it [00:07, 154003.93it/s]"
     ]
    },
    {
     "name": "stderr",
     "output_type": "stream",
     "text": [
      "\rMorphologyExtractor create index: 1064465it [00:07, 153112.08it/s]"
     ]
    },
    {
     "name": "stderr",
     "output_type": "stream",
     "text": [
      "\rMorphologyExtractor create index: 1079781it [00:07, 150579.24it/s]"
     ]
    },
    {
     "name": "stderr",
     "output_type": "stream",
     "text": [
      "\rMorphologyExtractor create index: 1095169it [00:07, 151553.58it/s]"
     ]
    },
    {
     "name": "stderr",
     "output_type": "stream",
     "text": [
      "\rMorphologyExtractor create index: 1110335it [00:08, 149914.68it/s]"
     ]
    },
    {
     "name": "stderr",
     "output_type": "stream",
     "text": [
      "\rMorphologyExtractor create index: 1125338it [00:08, 149573.88it/s]"
     ]
    },
    {
     "name": "stderr",
     "output_type": "stream",
     "text": [
      "\rMorphologyExtractor create index: 1140304it [00:08, 148067.38it/s]"
     ]
    },
    {
     "name": "stderr",
     "output_type": "stream",
     "text": [
      "\rMorphologyExtractor create index: 1155209it [00:08, 148357.78it/s]"
     ]
    },
    {
     "name": "stderr",
     "output_type": "stream",
     "text": [
      "\rMorphologyExtractor create index: 1170367it [00:08, 149309.07it/s]"
     ]
    },
    {
     "name": "stderr",
     "output_type": "stream",
     "text": [
      "\rMorphologyExtractor create index: 1185782it [00:08, 150727.37it/s]"
     ]
    },
    {
     "name": "stderr",
     "output_type": "stream",
     "text": [
      "\rMorphologyExtractor create index: 1201594it [00:08, 152869.68it/s]"
     ]
    },
    {
     "name": "stderr",
     "output_type": "stream",
     "text": [
      "\rMorphologyExtractor create index: 1217339it [00:08, 154212.46it/s]"
     ]
    },
    {
     "name": "stderr",
     "output_type": "stream",
     "text": [
      "\rMorphologyExtractor create index: 1232867it [00:08, 154528.36it/s]"
     ]
    },
    {
     "name": "stderr",
     "output_type": "stream",
     "text": [
      "\rMorphologyExtractor create index: 1248353it [00:08, 154625.43it/s]"
     ]
    },
    {
     "name": "stderr",
     "output_type": "stream",
     "text": [
      "\rMorphologyExtractor create index: 1263822it [00:09, 153550.18it/s]"
     ]
    },
    {
     "name": "stderr",
     "output_type": "stream",
     "text": [
      "\rMorphologyExtractor create index: 1279183it [00:09, 152979.43it/s]"
     ]
    },
    {
     "name": "stderr",
     "output_type": "stream",
     "text": [
      "\rMorphologyExtractor create index: 1294486it [00:09, 152642.51it/s]"
     ]
    },
    {
     "name": "stderr",
     "output_type": "stream",
     "text": [
      "\rMorphologyExtractor create index: 1309754it [00:09, 152359.94it/s]"
     ]
    },
    {
     "name": "stderr",
     "output_type": "stream",
     "text": [
      "\rMorphologyExtractor create index: 1324993it [00:09, 151032.57it/s]"
     ]
    },
    {
     "name": "stderr",
     "output_type": "stream",
     "text": [
      "\rMorphologyExtractor create index: 1340283it [00:09, 151584.70it/s]"
     ]
    },
    {
     "name": "stderr",
     "output_type": "stream",
     "text": [
      "\rMorphologyExtractor create index: 1355752it [00:09, 152501.87it/s]"
     ]
    },
    {
     "name": "stderr",
     "output_type": "stream",
     "text": [
      "\rMorphologyExtractor create index: 1371006it [00:09, 152019.90it/s]"
     ]
    },
    {
     "name": "stderr",
     "output_type": "stream",
     "text": [
      "\rMorphologyExtractor create index: 1386211it [00:09, 151543.87it/s]"
     ]
    },
    {
     "name": "stderr",
     "output_type": "stream",
     "text": [
      "\rMorphologyExtractor create index: 1401708it [00:09, 152554.02it/s]"
     ]
    },
    {
     "name": "stderr",
     "output_type": "stream",
     "text": [
      "\rMorphologyExtractor create index: 1416967it [00:10, 150972.04it/s]"
     ]
    },
    {
     "name": "stderr",
     "output_type": "stream",
     "text": [
      "\rMorphologyExtractor create index: 1432549it [00:10, 152393.54it/s]"
     ]
    },
    {
     "name": "stderr",
     "output_type": "stream",
     "text": [
      "\rMorphologyExtractor create index: 1448322it [00:10, 153953.85it/s]"
     ]
    },
    {
     "name": "stderr",
     "output_type": "stream",
     "text": [
      "\rMorphologyExtractor create index: 1463727it [00:10, 151778.50it/s]"
     ]
    },
    {
     "name": "stderr",
     "output_type": "stream",
     "text": [
      "\rMorphologyExtractor create index: 1478954it [00:10, 151923.93it/s]"
     ]
    },
    {
     "name": "stderr",
     "output_type": "stream",
     "text": [
      "\rMorphologyExtractor create index: 1494177it [00:10, 152015.12it/s]"
     ]
    },
    {
     "name": "stderr",
     "output_type": "stream",
     "text": [
      "\rMorphologyExtractor create index: 1509386it [00:10, 149350.12it/s]"
     ]
    },
    {
     "name": "stderr",
     "output_type": "stream",
     "text": [
      "\rMorphologyExtractor create index: 1524543it [00:10, 150006.93it/s]"
     ]
    },
    {
     "name": "stderr",
     "output_type": "stream",
     "text": [
      "\rMorphologyExtractor create index: 1539555it [00:10, 149544.51it/s]"
     ]
    },
    {
     "name": "stderr",
     "output_type": "stream",
     "text": [
      "\rMorphologyExtractor create index: 1554801it [00:10, 150406.04it/s]"
     ]
    },
    {
     "name": "stderr",
     "output_type": "stream",
     "text": [
      "\rMorphologyExtractor create index: 1569849it [00:11, 149669.64it/s]"
     ]
    },
    {
     "name": "stderr",
     "output_type": "stream",
     "text": [
      "\rMorphologyExtractor create index: 1585382it [00:11, 151322.52it/s]"
     ]
    },
    {
     "name": "stderr",
     "output_type": "stream",
     "text": [
      "\rMorphologyExtractor create index: 1600624it [00:11, 151649.17it/s]"
     ]
    },
    {
     "name": "stderr",
     "output_type": "stream",
     "text": [
      "\rMorphologyExtractor create index: 1615795it [00:11, 150055.41it/s]"
     ]
    },
    {
     "name": "stderr",
     "output_type": "stream",
     "text": [
      "\rMorphologyExtractor create index: 1630809it [00:11, 149998.46it/s]"
     ]
    },
    {
     "name": "stderr",
     "output_type": "stream",
     "text": [
      "\rMorphologyExtractor create index: 1646035it [00:11, 150668.49it/s]"
     ]
    },
    {
     "name": "stderr",
     "output_type": "stream",
     "text": [
      "\rMorphologyExtractor create index: 1661448it [00:11, 151689.59it/s]"
     ]
    },
    {
     "name": "stderr",
     "output_type": "stream",
     "text": [
      "\rMorphologyExtractor create index: 1676622it [00:11, 150537.21it/s]"
     ]
    },
    {
     "name": "stderr",
     "output_type": "stream",
     "text": [
      "\rMorphologyExtractor create index: 1691753it [00:11, 150767.83it/s]"
     ]
    },
    {
     "name": "stderr",
     "output_type": "stream",
     "text": [
      "\rMorphologyExtractor create index: 1706834it [00:11, 147977.12it/s]"
     ]
    },
    {
     "name": "stderr",
     "output_type": "stream",
     "text": [
      "\rMorphologyExtractor create index: 1721646it [00:12, 147322.58it/s]"
     ]
    },
    {
     "name": "stderr",
     "output_type": "stream",
     "text": [
      "\rMorphologyExtractor create index: 1736833it [00:12, 148656.22it/s]"
     ]
    },
    {
     "name": "stderr",
     "output_type": "stream",
     "text": [
      "\rMorphologyExtractor create index: 1751735it [00:12, 148762.45it/s]"
     ]
    },
    {
     "name": "stderr",
     "output_type": "stream",
     "text": [
      "\rMorphologyExtractor create index: 1767132it [00:12, 150286.45it/s]"
     ]
    },
    {
     "name": "stderr",
     "output_type": "stream",
     "text": [
      "\rMorphologyExtractor create index: 1782450it [00:12, 151141.20it/s]"
     ]
    },
    {
     "name": "stderr",
     "output_type": "stream",
     "text": [
      "\rMorphologyExtractor create index: 1798315it [00:12, 153316.37it/s]"
     ]
    },
    {
     "name": "stderr",
     "output_type": "stream",
     "text": [
      "\rMorphologyExtractor create index: 1813660it [00:12, 152795.74it/s]"
     ]
    },
    {
     "name": "stderr",
     "output_type": "stream",
     "text": [
      "\rMorphologyExtractor create index: 1828949it [00:12, 149783.73it/s]"
     ]
    },
    {
     "name": "stderr",
     "output_type": "stream",
     "text": [
      "\rMorphologyExtractor create index: 1844310it [00:12, 150908.73it/s]"
     ]
    },
    {
     "name": "stderr",
     "output_type": "stream",
     "text": [
      "\rMorphologyExtractor create index: 1859626it [00:12, 151576.64it/s]"
     ]
    },
    {
     "name": "stderr",
     "output_type": "stream",
     "text": [
      "\rMorphologyExtractor create index: 1875038it [00:13, 152329.54it/s]"
     ]
    },
    {
     "name": "stderr",
     "output_type": "stream",
     "text": [
      "\rMorphologyExtractor create index: 1890411it [00:13, 152744.21it/s]"
     ]
    },
    {
     "name": "stderr",
     "output_type": "stream",
     "text": [
      "\rMorphologyExtractor create index: 1906323it [00:13, 154602.58it/s]"
     ]
    },
    {
     "name": "stderr",
     "output_type": "stream",
     "text": [
      "\rMorphologyExtractor create index: 1921794it [00:13, 153273.57it/s]"
     ]
    },
    {
     "name": "stderr",
     "output_type": "stream",
     "text": [
      "\rMorphologyExtractor create index: 1937519it [00:13, 154444.83it/s]"
     ]
    },
    {
     "name": "stderr",
     "output_type": "stream",
     "text": [
      "\rMorphologyExtractor create index: 1953705it [00:13, 156596.12it/s]"
     ]
    },
    {
     "name": "stderr",
     "output_type": "stream",
     "text": [
      "\rMorphologyExtractor create index: 1969379it [00:13, 153964.35it/s]"
     ]
    },
    {
     "name": "stderr",
     "output_type": "stream",
     "text": [
      "\rMorphologyExtractor create index: 1984795it [00:13, 151909.74it/s]"
     ]
    },
    {
     "name": "stderr",
     "output_type": "stream",
     "text": [
      "\rMorphologyExtractor create index: 2000006it [00:13, 151602.66it/s]"
     ]
    },
    {
     "name": "stderr",
     "output_type": "stream",
     "text": [
      "\rMorphologyExtractor create index: 2015181it [00:14, 148533.21it/s]"
     ]
    },
    {
     "name": "stderr",
     "output_type": "stream",
     "text": [
      "\rMorphologyExtractor create index: 2030058it [00:14, 144369.65it/s]"
     ]
    },
    {
     "name": "stderr",
     "output_type": "stream",
     "text": [
      "\rMorphologyExtractor create index: 2045350it [00:14, 146829.36it/s]"
     ]
    },
    {
     "name": "stderr",
     "output_type": "stream",
     "text": [
      "\rMorphologyExtractor create index: 2060706it [00:14, 148784.88it/s]"
     ]
    },
    {
     "name": "stderr",
     "output_type": "stream",
     "text": [
      "\rMorphologyExtractor create index: 2076246it [00:14, 150708.10it/s]"
     ]
    },
    {
     "name": "stderr",
     "output_type": "stream",
     "text": [
      "\rMorphologyExtractor create index: 2091347it [00:14, 146333.21it/s]"
     ]
    },
    {
     "name": "stderr",
     "output_type": "stream",
     "text": [
      "\rMorphologyExtractor create index: 2106555it [00:14, 148010.86it/s]"
     ]
    },
    {
     "name": "stderr",
     "output_type": "stream",
     "text": [
      "\rMorphologyExtractor create index: 2121395it [00:14, 148113.15it/s]"
     ]
    },
    {
     "name": "stderr",
     "output_type": "stream",
     "text": [
      "\rMorphologyExtractor create index: 2136234it [00:14, 146207.31it/s]"
     ]
    },
    {
     "name": "stderr",
     "output_type": "stream",
     "text": [
      "\rMorphologyExtractor create index: 2150880it [00:14, 135869.46it/s]"
     ]
    },
    {
     "name": "stderr",
     "output_type": "stream",
     "text": [
      "\rMorphologyExtractor create index: 2164631it [00:15, 122734.28it/s]"
     ]
    },
    {
     "name": "stderr",
     "output_type": "stream",
     "text": [
      "\rMorphologyExtractor create index: 2179412it [00:15, 129315.69it/s]"
     ]
    },
    {
     "name": "stderr",
     "output_type": "stream",
     "text": [
      "\rMorphologyExtractor create index: 2194557it [00:15, 135242.94it/s]"
     ]
    },
    {
     "name": "stderr",
     "output_type": "stream",
     "text": [
      "\rMorphologyExtractor create index: 2209273it [00:15, 138608.80it/s]"
     ]
    },
    {
     "name": "stderr",
     "output_type": "stream",
     "text": [
      "\rMorphologyExtractor create index: 2224156it [00:15, 141524.30it/s]"
     ]
    },
    {
     "name": "stderr",
     "output_type": "stream",
     "text": [
      "\rMorphologyExtractor create index: 2238879it [00:15, 143188.97it/s]"
     ]
    },
    {
     "name": "stderr",
     "output_type": "stream",
     "text": [
      "\rMorphologyExtractor create index: 2253577it [00:15, 144301.37it/s]"
     ]
    },
    {
     "name": "stderr",
     "output_type": "stream",
     "text": [
      "\rMorphologyExtractor create index: 2268243it [00:15, 144998.33it/s]"
     ]
    },
    {
     "name": "stderr",
     "output_type": "stream",
     "text": [
      "\rMorphologyExtractor create index: 2282810it [00:15, 143685.98it/s]"
     ]
    },
    {
     "name": "stderr",
     "output_type": "stream",
     "text": [
      "\rMorphologyExtractor create index: 2298233it [00:15, 146693.38it/s]"
     ]
    },
    {
     "name": "stderr",
     "output_type": "stream",
     "text": [
      "\rMorphologyExtractor create index: 2313903it [00:16, 149558.49it/s]"
     ]
    },
    {
     "name": "stderr",
     "output_type": "stream",
     "text": [
      "\rMorphologyExtractor create index: 2329890it [00:16, 152507.38it/s]"
     ]
    },
    {
     "name": "stderr",
     "output_type": "stream",
     "text": [
      "\rMorphologyExtractor create index: 2345875it [00:16, 154637.85it/s]"
     ]
    },
    {
     "name": "stderr",
     "output_type": "stream",
     "text": [
      "\rMorphologyExtractor create index: 2361837it [00:16, 156098.16it/s]"
     ]
    },
    {
     "name": "stderr",
     "output_type": "stream",
     "text": [
      "\rMorphologyExtractor create index: 2377479it [00:16, 156137.63it/s]"
     ]
    },
    {
     "name": "stderr",
     "output_type": "stream",
     "text": [
      "\rMorphologyExtractor create index: 2393318it [00:16, 156804.19it/s]"
     ]
    },
    {
     "name": "stderr",
     "output_type": "stream",
     "text": [
      "\rMorphologyExtractor create index: 2409015it [00:16, 156356.20it/s]"
     ]
    },
    {
     "name": "stderr",
     "output_type": "stream",
     "text": [
      "\rMorphologyExtractor create index: 2424663it [00:16, 154939.20it/s]"
     ]
    },
    {
     "name": "stderr",
     "output_type": "stream",
     "text": [
      "\rMorphologyExtractor create index: 2440169it [00:16, 151525.14it/s]"
     ]
    },
    {
     "name": "stderr",
     "output_type": "stream",
     "text": [
      "\rMorphologyExtractor create index: 2455347it [00:17, 150202.17it/s]"
     ]
    },
    {
     "name": "stderr",
     "output_type": "stream",
     "text": [
      "\rMorphologyExtractor create index: 2470388it [00:17, 148178.18it/s]"
     ]
    },
    {
     "name": "stderr",
     "output_type": "stream",
     "text": [
      "\rMorphologyExtractor create index: 2485226it [00:17, 143188.76it/s]"
     ]
    },
    {
     "name": "stderr",
     "output_type": "stream",
     "text": [
      "\rMorphologyExtractor create index: 2499658it [00:17, 143526.20it/s]"
     ]
    },
    {
     "name": "stderr",
     "output_type": "stream",
     "text": [
      "\rMorphologyExtractor create index: 2515162it [00:17, 146793.85it/s]"
     ]
    },
    {
     "name": "stderr",
     "output_type": "stream",
     "text": [
      "\rMorphologyExtractor create index: 2529885it [00:17, 135031.63it/s]"
     ]
    },
    {
     "name": "stderr",
     "output_type": "stream",
     "text": [
      "\rMorphologyExtractor create index: 2544398it [00:17, 137908.88it/s]"
     ]
    },
    {
     "name": "stderr",
     "output_type": "stream",
     "text": [
      "\rMorphologyExtractor create index: 2558355it [00:17, 123366.51it/s]"
     ]
    },
    {
     "name": "stderr",
     "output_type": "stream",
     "text": [
      "\rMorphologyExtractor create index: 2571095it [00:17, 120986.50it/s]"
     ]
    },
    {
     "name": "stderr",
     "output_type": "stream",
     "text": [
      "\rMorphologyExtractor create index: 2585639it [00:18, 127411.71it/s]"
     ]
    },
    {
     "name": "stderr",
     "output_type": "stream",
     "text": [
      "\rMorphologyExtractor create index: 2600282it [00:18, 132576.28it/s]"
     ]
    },
    {
     "name": "stderr",
     "output_type": "stream",
     "text": [
      "\rMorphologyExtractor create index: 2614572it [00:18, 135508.65it/s]"
     ]
    },
    {
     "name": "stderr",
     "output_type": "stream",
     "text": [
      "\rMorphologyExtractor create index: 2628322it [00:18, 134935.96it/s]"
     ]
    },
    {
     "name": "stderr",
     "output_type": "stream",
     "text": [
      "\rMorphologyExtractor create index: 2641956it [00:18, 132539.22it/s]"
     ]
    },
    {
     "name": "stderr",
     "output_type": "stream",
     "text": [
      "\rMorphologyExtractor create index: 2657063it [00:18, 137600.94it/s]"
     ]
    },
    {
     "name": "stderr",
     "output_type": "stream",
     "text": [
      "\rMorphologyExtractor create index: 2671443it [00:18, 139401.43it/s]"
     ]
    },
    {
     "name": "stderr",
     "output_type": "stream",
     "text": [
      "\rMorphologyExtractor create index: 2687146it [00:18, 144257.87it/s]"
     ]
    },
    {
     "name": "stderr",
     "output_type": "stream",
     "text": [
      "\rMorphologyExtractor create index: 2702027it [00:18, 145591.49it/s]"
     ]
    },
    {
     "name": "stderr",
     "output_type": "stream",
     "text": [
      "\rMorphologyExtractor create index: 2717007it [00:18, 146825.03it/s]"
     ]
    },
    {
     "name": "stderr",
     "output_type": "stream",
     "text": [
      "\rMorphologyExtractor create index: 2732307it [00:19, 148621.59it/s]"
     ]
    },
    {
     "name": "stderr",
     "output_type": "stream",
     "text": [
      "\rMorphologyExtractor create index: 2747331it [00:19, 149099.88it/s]"
     ]
    },
    {
     "name": "stderr",
     "output_type": "stream",
     "text": [
      "\rMorphologyExtractor create index: 2762445it [00:19, 149703.08it/s]"
     ]
    },
    {
     "name": "stderr",
     "output_type": "stream",
     "text": [
      "\rMorphologyExtractor create index: 2777659it [00:19, 150424.15it/s]"
     ]
    },
    {
     "name": "stderr",
     "output_type": "stream",
     "text": [
      "\rMorphologyExtractor create index: 2792719it [00:19, 148967.58it/s]"
     ]
    },
    {
     "name": "stderr",
     "output_type": "stream",
     "text": [
      "\rMorphologyExtractor create index: 2808065it [00:19, 150285.28it/s]"
     ]
    },
    {
     "name": "stderr",
     "output_type": "stream",
     "text": [
      "\rMorphologyExtractor create index: 2823107it [00:19, 149443.03it/s]"
     ]
    },
    {
     "name": "stderr",
     "output_type": "stream",
     "text": [
      "\rMorphologyExtractor create index: 2838062it [00:19, 147882.36it/s]"
     ]
    },
    {
     "name": "stderr",
     "output_type": "stream",
     "text": [
      "\rMorphologyExtractor create index: 2852862it [00:19, 144865.00it/s]"
     ]
    },
    {
     "name": "stderr",
     "output_type": "stream",
     "text": [
      "\rMorphologyExtractor create index: 2867370it [00:19, 144673.52it/s]"
     ]
    },
    {
     "name": "stderr",
     "output_type": "stream",
     "text": [
      "\rMorphologyExtractor create index: 2881853it [00:20, 144566.21it/s]"
     ]
    },
    {
     "name": "stderr",
     "output_type": "stream",
     "text": [
      "\rMorphologyExtractor create index: 2896321it [00:20, 143964.05it/s]"
     ]
    },
    {
     "name": "stderr",
     "output_type": "stream",
     "text": [
      "\rMorphologyExtractor create index: 2911102it [00:20, 145094.66it/s]"
     ]
    },
    {
     "name": "stderr",
     "output_type": "stream",
     "text": [
      "\rMorphologyExtractor create index: 2925712it [00:20, 145393.92it/s]"
     ]
    },
    {
     "name": "stderr",
     "output_type": "stream",
     "text": [
      "\rMorphologyExtractor create index: 2940257it [00:20, 142227.22it/s]"
     ]
    },
    {
     "name": "stderr",
     "output_type": "stream",
     "text": [
      "\rMorphologyExtractor create index: 2954585it [00:20, 142538.02it/s]"
     ]
    },
    {
     "name": "stderr",
     "output_type": "stream",
     "text": [
      "\rMorphologyExtractor create index: 2968853it [00:20, 141503.07it/s]"
     ]
    },
    {
     "name": "stderr",
     "output_type": "stream",
     "text": [
      "\rMorphologyExtractor create index: 2984097it [00:20, 144613.33it/s]"
     ]
    },
    {
     "name": "stderr",
     "output_type": "stream",
     "text": [
      "\rMorphologyExtractor create index: 2998982it [00:20, 145835.63it/s]"
     ]
    },
    {
     "name": "stderr",
     "output_type": "stream",
     "text": [
      "\rMorphologyExtractor create index: 3013951it [00:20, 146969.12it/s]"
     ]
    },
    {
     "name": "stderr",
     "output_type": "stream",
     "text": [
      "\rMorphologyExtractor create index: 3028664it [00:21, 145994.09it/s]"
     ]
    },
    {
     "name": "stderr",
     "output_type": "stream",
     "text": [
      "\rMorphologyExtractor create index: 3043277it [00:21, 145682.29it/s]"
     ]
    },
    {
     "name": "stderr",
     "output_type": "stream",
     "text": [
      "\rMorphologyExtractor create index: 3057855it [00:21, 143356.85it/s]"
     ]
    },
    {
     "name": "stderr",
     "output_type": "stream",
     "text": [
      "\rMorphologyExtractor create index: 3073689it [00:21, 147542.05it/s]"
     ]
    },
    {
     "name": "stderr",
     "output_type": "stream",
     "text": [
      "\rMorphologyExtractor create index: 3088811it [00:21, 148625.09it/s]"
     ]
    },
    {
     "name": "stderr",
     "output_type": "stream",
     "text": [
      "\rMorphologyExtractor create index: 3104792it [00:21, 151811.04it/s]"
     ]
    },
    {
     "name": "stderr",
     "output_type": "stream",
     "text": [
      "\rMorphologyExtractor create index: 3120604it [00:21, 153648.77it/s]"
     ]
    },
    {
     "name": "stderr",
     "output_type": "stream",
     "text": [
      "\rMorphologyExtractor create index: 3136576it [00:21, 155419.75it/s]"
     ]
    },
    {
     "name": "stderr",
     "output_type": "stream",
     "text": [
      "\rMorphologyExtractor create index: 3152452it [00:21, 156405.59it/s]"
     ]
    },
    {
     "name": "stderr",
     "output_type": "stream",
     "text": [
      "\rMorphologyExtractor create index: 3168114it [00:21, 154093.81it/s]"
     ]
    },
    {
     "name": "stderr",
     "output_type": "stream",
     "text": [
      "\rMorphologyExtractor create index: 3183619it [00:22, 154377.60it/s]"
     ]
    },
    {
     "name": "stderr",
     "output_type": "stream",
     "text": [
      "\rMorphologyExtractor create index: 3199073it [00:22, 151351.02it/s]"
     ]
    },
    {
     "name": "stderr",
     "output_type": "stream",
     "text": [
      "\rMorphologyExtractor create index: 3214233it [00:22, 149802.02it/s]"
     ]
    },
    {
     "name": "stderr",
     "output_type": "stream",
     "text": [
      "\rMorphologyExtractor create index: 3229253it [00:22, 149918.02it/s]"
     ]
    },
    {
     "name": "stderr",
     "output_type": "stream",
     "text": [
      "\rMorphologyExtractor create index: 3244260it [00:22, 149375.13it/s]"
     ]
    },
    {
     "name": "stderr",
     "output_type": "stream",
     "text": [
      "\rMorphologyExtractor create index: 3259209it [00:22, 147832.01it/s]"
     ]
    },
    {
     "name": "stderr",
     "output_type": "stream",
     "text": [
      "\rMorphologyExtractor create index: 3274004it [00:22, 147751.25it/s]"
     ]
    },
    {
     "name": "stderr",
     "output_type": "stream",
     "text": [
      "\rMorphologyExtractor create index: 3289397it [00:22, 149550.43it/s]"
     ]
    },
    {
     "name": "stderr",
     "output_type": "stream",
     "text": [
      "\rMorphologyExtractor create index: 3304425it [00:22, 149768.49it/s]"
     ]
    },
    {
     "name": "stderr",
     "output_type": "stream",
     "text": [
      "\rMorphologyExtractor create index: 3319998it [00:22, 151507.56it/s]"
     ]
    },
    {
     "name": "stderr",
     "output_type": "stream",
     "text": [
      "\rMorphologyExtractor create index: 3335159it [00:23, 149715.21it/s]"
     ]
    },
    {
     "name": "stderr",
     "output_type": "stream",
     "text": [
      "\rMorphologyExtractor create index: 3351165it [00:23, 152675.40it/s]"
     ]
    },
    {
     "name": "stderr",
     "output_type": "stream",
     "text": [
      "\rMorphologyExtractor create index: 3366456it [00:23, 152112.57it/s]"
     ]
    },
    {
     "name": "stderr",
     "output_type": "stream",
     "text": [
      "\rMorphologyExtractor create index: 3382547it [00:23, 154647.87it/s]"
     ]
    },
    {
     "name": "stderr",
     "output_type": "stream",
     "text": [
      "\rMorphologyExtractor create index: 3398128it [00:23, 154991.86it/s]"
     ]
    },
    {
     "name": "stderr",
     "output_type": "stream",
     "text": [
      "\rMorphologyExtractor create index: 3414158it [00:23, 156546.96it/s]"
     ]
    },
    {
     "name": "stderr",
     "output_type": "stream",
     "text": [
      "\rMorphologyExtractor create index: 3429828it [00:23, 156531.01it/s]"
     ]
    },
    {
     "name": "stderr",
     "output_type": "stream",
     "text": [
      "\rMorphologyExtractor create index: 3445492it [00:23, 155107.12it/s]"
     ]
    },
    {
     "name": "stderr",
     "output_type": "stream",
     "text": [
      "\rMorphologyExtractor create index: 3461013it [00:23, 154928.90it/s]"
     ]
    },
    {
     "name": "stderr",
     "output_type": "stream",
     "text": [
      "\rMorphologyExtractor create index: 3476513it [00:23, 153041.39it/s]"
     ]
    },
    {
     "name": "stderr",
     "output_type": "stream",
     "text": [
      "\rMorphologyExtractor create index: 3492002it [00:24, 153589.84it/s]"
     ]
    },
    {
     "name": "stderr",
     "output_type": "stream",
     "text": [
      "\rMorphologyExtractor create index: 3507369it [00:24, 151089.31it/s]"
     ]
    },
    {
     "name": "stderr",
     "output_type": "stream",
     "text": [
      "\rMorphologyExtractor create index: 3523017it [00:24, 152666.62it/s]"
     ]
    },
    {
     "name": "stderr",
     "output_type": "stream",
     "text": [
      "\rMorphologyExtractor create index: 3538298it [00:24, 151378.96it/s]"
     ]
    },
    {
     "name": "stderr",
     "output_type": "stream",
     "text": [
      "\rMorphologyExtractor create index: 3553449it [00:24, 150118.47it/s]"
     ]
    },
    {
     "name": "stderr",
     "output_type": "stream",
     "text": [
      "\rMorphologyExtractor create index: 3568972it [00:24, 151614.90it/s]"
     ]
    },
    {
     "name": "stderr",
     "output_type": "stream",
     "text": [
      "\rMorphologyExtractor create index: 3584145it [00:24, 151272.47it/s]"
     ]
    },
    {
     "name": "stderr",
     "output_type": "stream",
     "text": [
      "\rMorphologyExtractor create index: 3599281it [00:24, 149634.42it/s]"
     ]
    },
    {
     "name": "stderr",
     "output_type": "stream",
     "text": [
      "\rMorphologyExtractor create index: 3614255it [00:24, 148098.42it/s]"
     ]
    },
    {
     "name": "stderr",
     "output_type": "stream",
     "text": [
      "\rMorphologyExtractor create index: 3629512it [00:25, 149412.06it/s]"
     ]
    },
    {
     "name": "stderr",
     "output_type": "stream",
     "text": [
      "\rMorphologyExtractor create index: 3644464it [00:25, 148504.48it/s]"
     ]
    },
    {
     "name": "stderr",
     "output_type": "stream",
     "text": [
      "\rMorphologyExtractor create index: 3659323it [00:25, 147542.28it/s]"
     ]
    },
    {
     "name": "stderr",
     "output_type": "stream",
     "text": [
      "\rMorphologyExtractor create index: 3674252it [00:25, 148060.96it/s]"
     ]
    },
    {
     "name": "stderr",
     "output_type": "stream",
     "text": [
      "\rMorphologyExtractor create index: 3689123it [00:25, 148252.90it/s]"
     ]
    },
    {
     "name": "stderr",
     "output_type": "stream",
     "text": [
      "\rMorphologyExtractor create index: 3703953it [00:25, 148249.15it/s]"
     ]
    },
    {
     "name": "stderr",
     "output_type": "stream",
     "text": [
      "\rMorphologyExtractor create index: 3719301it [00:25, 149778.74it/s]"
     ]
    },
    {
     "name": "stderr",
     "output_type": "stream",
     "text": [
      "\rMorphologyExtractor create index: 3734285it [00:25, 149531.99it/s]"
     ]
    },
    {
     "name": "stderr",
     "output_type": "stream",
     "text": [
      "\rMorphologyExtractor create index: 3749243it [00:25, 148872.55it/s]"
     ]
    },
    {
     "name": "stderr",
     "output_type": "stream",
     "text": [
      "\rMorphologyExtractor create index: 3764134it [00:25, 148641.25it/s]"
     ]
    },
    {
     "name": "stderr",
     "output_type": "stream",
     "text": [
      "\rMorphologyExtractor create index: 3779001it [00:26, 148443.76it/s]"
     ]
    },
    {
     "name": "stderr",
     "output_type": "stream",
     "text": [
      "\rMorphologyExtractor create index: 3793848it [00:26, 148215.50it/s]"
     ]
    },
    {
     "name": "stderr",
     "output_type": "stream",
     "text": [
      "\rMorphologyExtractor create index: 3808788it [00:26, 148567.02it/s]"
     ]
    },
    {
     "name": "stderr",
     "output_type": "stream",
     "text": [
      "\rMorphologyExtractor create index: 3824931it [00:26, 152201.54it/s]"
     ]
    },
    {
     "name": "stderr",
     "output_type": "stream",
     "text": [
      "\rMorphologyExtractor create index: 3840463it [00:26, 153121.95it/s]"
     ]
    },
    {
     "name": "stderr",
     "output_type": "stream",
     "text": [
      "\rMorphologyExtractor create index: 3856345it [00:26, 154787.15it/s]"
     ]
    },
    {
     "name": "stderr",
     "output_type": "stream",
     "text": [
      "\rMorphologyExtractor create index: 3871841it [00:26, 154378.47it/s]"
     ]
    },
    {
     "name": "stderr",
     "output_type": "stream",
     "text": [
      "\rMorphologyExtractor create index: 3887291it [00:26, 152747.79it/s]"
     ]
    },
    {
     "name": "stderr",
     "output_type": "stream",
     "text": [
      "\rMorphologyExtractor create index: 3902578it [00:26, 148904.65it/s]"
     ]
    },
    {
     "name": "stderr",
     "output_type": "stream",
     "text": [
      "\rMorphologyExtractor create index: 3917499it [00:26, 147543.19it/s]"
     ]
    },
    {
     "name": "stderr",
     "output_type": "stream",
     "text": [
      "\rMorphologyExtractor create index: 3932278it [00:27, 146347.59it/s]"
     ]
    },
    {
     "name": "stderr",
     "output_type": "stream",
     "text": [
      "\rMorphologyExtractor create index: 3946960it [00:27, 146486.42it/s]"
     ]
    },
    {
     "name": "stderr",
     "output_type": "stream",
     "text": [
      "\rMorphologyExtractor create index: 3961622it [00:27, 142679.06it/s]"
     ]
    },
    {
     "name": "stderr",
     "output_type": "stream",
     "text": [
      "\rMorphologyExtractor create index: 3976440it [00:27, 144285.11it/s]"
     ]
    },
    {
     "name": "stderr",
     "output_type": "stream",
     "text": [
      "\rMorphologyExtractor create index: 3990895it [00:27, 144291.85it/s]"
     ]
    },
    {
     "name": "stderr",
     "output_type": "stream",
     "text": [
      "\rMorphologyExtractor create index: 4005967it [00:27, 146161.10it/s]"
     ]
    },
    {
     "name": "stderr",
     "output_type": "stream",
     "text": [
      "\rMorphologyExtractor create index: 4021370it [00:27, 148434.44it/s]"
     ]
    },
    {
     "name": "stderr",
     "output_type": "stream",
     "text": [
      "\rMorphologyExtractor create index: 4036653it [00:27, 149725.01it/s]"
     ]
    },
    {
     "name": "stderr",
     "output_type": "stream",
     "text": [
      "\rMorphologyExtractor create index: 4052153it [00:27, 151265.03it/s]"
     ]
    },
    {
     "name": "stderr",
     "output_type": "stream",
     "text": [
      "\rMorphologyExtractor create index: 4067971it [00:27, 153273.00it/s]"
     ]
    },
    {
     "name": "stderr",
     "output_type": "stream",
     "text": [
      "\rMorphologyExtractor create index: 4083637it [00:28, 154270.30it/s]"
     ]
    },
    {
     "name": "stderr",
     "output_type": "stream",
     "text": [
      "\rMorphologyExtractor create index: 4099356it [00:28, 155133.05it/s]"
     ]
    },
    {
     "name": "stderr",
     "output_type": "stream",
     "text": [
      "\rMorphologyExtractor create index: 4115193it [00:28, 156088.77it/s]"
     ]
    },
    {
     "name": "stderr",
     "output_type": "stream",
     "text": [
      "\rMorphologyExtractor create index: 4130811it [00:28, 155086.31it/s]"
     ]
    },
    {
     "name": "stderr",
     "output_type": "stream",
     "text": [
      "\rMorphologyExtractor create index: 4146328it [00:28, 154853.81it/s]"
     ]
    },
    {
     "name": "stderr",
     "output_type": "stream",
     "text": [
      "\rMorphologyExtractor create index: 4161960it [00:28, 155290.37it/s]"
     ]
    },
    {
     "name": "stderr",
     "output_type": "stream",
     "text": [
      "\rMorphologyExtractor create index: 4177494it [00:28, 154252.22it/s]"
     ]
    },
    {
     "name": "stderr",
     "output_type": "stream",
     "text": [
      "\rMorphologyExtractor create index: 4193250it [00:28, 155228.17it/s]"
     ]
    },
    {
     "name": "stderr",
     "output_type": "stream",
     "text": [
      "\rMorphologyExtractor create index: 4208778it [00:28, 151848.84it/s]"
     ]
    },
    {
     "name": "stderr",
     "output_type": "stream",
     "text": [
      "\rMorphologyExtractor create index: 4223983it [00:28, 148581.53it/s]"
     ]
    },
    {
     "name": "stderr",
     "output_type": "stream",
     "text": [
      "\rMorphologyExtractor create index: 4238871it [00:29, 146879.25it/s]"
     ]
    },
    {
     "name": "stderr",
     "output_type": "stream",
     "text": [
      "\rMorphologyExtractor create index: 4253584it [00:29, 146879.09it/s]"
     ]
    },
    {
     "name": "stderr",
     "output_type": "stream",
     "text": [
      "\rMorphologyExtractor create index: 4268563it [00:29, 147740.35it/s]"
     ]
    },
    {
     "name": "stderr",
     "output_type": "stream",
     "text": [
      "\rMorphologyExtractor create index: 4283351it [00:29, 147062.31it/s]"
     ]
    },
    {
     "name": "stderr",
     "output_type": "stream",
     "text": [
      "\rMorphologyExtractor create index: 4298373it [00:29, 147995.21it/s]"
     ]
    },
    {
     "name": "stderr",
     "output_type": "stream",
     "text": [
      "\rMorphologyExtractor create index: 4313182it [00:29, 138393.98it/s]"
     ]
    },
    {
     "name": "stderr",
     "output_type": "stream",
     "text": [
      "\rMorphologyExtractor create index: 4327154it [00:29, 138008.57it/s]"
     ]
    },
    {
     "name": "stderr",
     "output_type": "stream",
     "text": [
      "\rMorphologyExtractor create index: 4342191it [00:29, 141490.62it/s]"
     ]
    },
    {
     "name": "stderr",
     "output_type": "stream",
     "text": [
      "\rMorphologyExtractor create index: 4356427it [00:30, 106174.06it/s]"
     ]
    },
    {
     "name": "stderr",
     "output_type": "stream",
     "text": [
      "\rMorphologyExtractor create index: 4368584it [00:30, 110362.44it/s]"
     ]
    },
    {
     "name": "stderr",
     "output_type": "stream",
     "text": [
      "\rMorphologyExtractor create index: 4380616it [00:30, 105591.03it/s]"
     ]
    },
    {
     "name": "stderr",
     "output_type": "stream",
     "text": [
      "\rMorphologyExtractor create index: 4393724it [00:30, 112130.64it/s]"
     ]
    },
    {
     "name": "stderr",
     "output_type": "stream",
     "text": [
      "\rMorphologyExtractor create index: 4406825it [00:30, 117195.38it/s]"
     ]
    },
    {
     "name": "stderr",
     "output_type": "stream",
     "text": [
      "\rMorphologyExtractor create index: 4420782it [00:30, 123115.48it/s]"
     ]
    },
    {
     "name": "stderr",
     "output_type": "stream",
     "text": [
      "\rMorphologyExtractor create index: 4434137it [00:30, 126069.11it/s]"
     ]
    },
    {
     "name": "stderr",
     "output_type": "stream",
     "text": [
      "\rMorphologyExtractor create index: 4449037it [00:30, 132169.59it/s]"
     ]
    },
    {
     "name": "stderr",
     "output_type": "stream",
     "text": [
      "\rMorphologyExtractor create index: 4462555it [00:30, 92983.94it/s] "
     ]
    },
    {
     "name": "stderr",
     "output_type": "stream",
     "text": [
      "\rMorphologyExtractor create index: 4473666it [00:31, 95543.59it/s]"
     ]
    },
    {
     "name": "stderr",
     "output_type": "stream",
     "text": [
      "\rMorphologyExtractor create index: 4486686it [00:31, 103834.74it/s]"
     ]
    },
    {
     "name": "stderr",
     "output_type": "stream",
     "text": [
      "\rMorphologyExtractor create index: 4500664it [00:31, 112513.50it/s]"
     ]
    },
    {
     "name": "stderr",
     "output_type": "stream",
     "text": [
      "\rMorphologyExtractor create index: 4514809it [00:31, 119868.28it/s]"
     ]
    },
    {
     "name": "stderr",
     "output_type": "stream",
     "text": [
      "\rMorphologyExtractor create index: 4529105it [00:31, 125970.59it/s]"
     ]
    },
    {
     "name": "stderr",
     "output_type": "stream",
     "text": [
      "\rMorphologyExtractor create index: 4543594it [00:31, 131105.14it/s]"
     ]
    },
    {
     "name": "stderr",
     "output_type": "stream",
     "text": [
      "\rMorphologyExtractor create index: 4558210it [00:31, 135284.80it/s]"
     ]
    },
    {
     "name": "stderr",
     "output_type": "stream",
     "text": [
      "\rMorphologyExtractor create index: 4572847it [00:31, 138429.53it/s]"
     ]
    },
    {
     "name": "stderr",
     "output_type": "stream",
     "text": [
      "\rMorphologyExtractor create index: 4586984it [00:31, 137442.44it/s]"
     ]
    },
    {
     "name": "stderr",
     "output_type": "stream",
     "text": [
      "\rMorphologyExtractor create index: 4601246it [00:31, 138953.32it/s]"
     ]
    },
    {
     "name": "stderr",
     "output_type": "stream",
     "text": [
      "\rMorphologyExtractor create index: 4615291it [00:32, 139219.92it/s]"
     ]
    },
    {
     "name": "stderr",
     "output_type": "stream",
     "text": [
      "\rMorphologyExtractor create index: 4629636it [00:32, 140461.67it/s]"
     ]
    },
    {
     "name": "stderr",
     "output_type": "stream",
     "text": [
      "\rMorphologyExtractor create index: 4643758it [00:32, 138587.89it/s]"
     ]
    },
    {
     "name": "stderr",
     "output_type": "stream",
     "text": [
      "\rMorphologyExtractor create index: 4658279it [00:32, 140507.34it/s]"
     ]
    },
    {
     "name": "stderr",
     "output_type": "stream",
     "text": [
      "\rMorphologyExtractor create index: 4672382it [00:32, 140662.17it/s]"
     ]
    },
    {
     "name": "stderr",
     "output_type": "stream",
     "text": [
      "\rMorphologyExtractor create index: 4686482it [00:32, 128437.46it/s]"
     ]
    },
    {
     "name": "stderr",
     "output_type": "stream",
     "text": [
      "\rMorphologyExtractor create index: 4701248it [00:32, 133655.14it/s]"
     ]
    },
    {
     "name": "stderr",
     "output_type": "stream",
     "text": [
      "\rMorphologyExtractor create index: 4714831it [00:32, 134296.68it/s]"
     ]
    },
    {
     "name": "stderr",
     "output_type": "stream",
     "text": [
      "\rMorphologyExtractor create index: 4728413it [00:32, 133513.80it/s]"
     ]
    },
    {
     "name": "stderr",
     "output_type": "stream",
     "text": [
      "\rMorphologyExtractor create index: 4742626it [00:33, 135985.39it/s]"
     ]
    },
    {
     "name": "stderr",
     "output_type": "stream",
     "text": [
      "\rMorphologyExtractor create index: 4757239it [00:33, 138876.64it/s]"
     ]
    },
    {
     "name": "stderr",
     "output_type": "stream",
     "text": [
      "\rMorphologyExtractor create index: 4771540it [00:33, 140088.83it/s]"
     ]
    },
    {
     "name": "stderr",
     "output_type": "stream",
     "text": [
      "\rMorphologyExtractor create index: 4785937it [00:33, 141230.27it/s]"
     ]
    },
    {
     "name": "stderr",
     "output_type": "stream",
     "text": [
      "\rMorphologyExtractor create index: 4800485it [00:33, 142477.14it/s]"
     ]
    },
    {
     "name": "stderr",
     "output_type": "stream",
     "text": [
      "\rMorphologyExtractor create index: 4815312it [00:33, 144165.14it/s]"
     ]
    },
    {
     "name": "stderr",
     "output_type": "stream",
     "text": [
      "\rMorphologyExtractor create index: 4830075it [00:33, 145184.89it/s]"
     ]
    },
    {
     "name": "stderr",
     "output_type": "stream",
     "text": [
      "\rMorphologyExtractor create index: 4845770it [00:33, 148524.49it/s]"
     ]
    },
    {
     "name": "stderr",
     "output_type": "stream",
     "text": [
      "\rMorphologyExtractor create index: 4860656it [00:33, 148147.15it/s]"
     ]
    },
    {
     "name": "stderr",
     "output_type": "stream",
     "text": [
      "\rMorphologyExtractor create index: 4875495it [00:33, 147517.11it/s]"
     ]
    },
    {
     "name": "stderr",
     "output_type": "stream",
     "text": [
      "\rMorphologyExtractor create index: 4890371it [00:34, 147887.73it/s]"
     ]
    },
    {
     "name": "stderr",
     "output_type": "stream",
     "text": [
      "\rMorphologyExtractor create index: 4905172it [00:34, 113256.67it/s]"
     ]
    },
    {
     "name": "stderr",
     "output_type": "stream",
     "text": [
      "\rMorphologyExtractor create index: 4918825it [00:34, 119360.01it/s]"
     ]
    },
    {
     "name": "stderr",
     "output_type": "stream",
     "text": [
      "\rMorphologyExtractor create index: 4932971it [00:34, 125222.67it/s]"
     ]
    },
    {
     "name": "stderr",
     "output_type": "stream",
     "text": [
      "\rMorphologyExtractor create index: 4947034it [00:34, 129478.29it/s]"
     ]
    },
    {
     "name": "stderr",
     "output_type": "stream",
     "text": [
      "\rMorphologyExtractor create index: 4961029it [00:34, 132450.35it/s]"
     ]
    },
    {
     "name": "stderr",
     "output_type": "stream",
     "text": [
      "\rMorphologyExtractor create index: 4974680it [00:34, 132964.33it/s]"
     ]
    },
    {
     "name": "stderr",
     "output_type": "stream",
     "text": [
      "\rMorphologyExtractor create index: 4988315it [00:34, 133955.98it/s]"
     ]
    },
    {
     "name": "stderr",
     "output_type": "stream",
     "text": [
      "\rMorphologyExtractor create index: 5003339it [00:34, 138456.93it/s]"
     ]
    },
    {
     "name": "stderr",
     "output_type": "stream",
     "text": [
      "\rMorphologyExtractor create index: 5018140it [00:35, 141189.98it/s]"
     ]
    },
    {
     "name": "stderr",
     "output_type": "stream",
     "text": [
      "\rMorphologyExtractor create index: 5032398it [00:35, 140486.06it/s]"
     ]
    },
    {
     "name": "stderr",
     "output_type": "stream",
     "text": [
      "\rMorphologyExtractor create index: 5046545it [00:35, 139617.36it/s]"
     ]
    },
    {
     "name": "stderr",
     "output_type": "stream",
     "text": [
      "\rMorphologyExtractor create index: 5060919it [00:35, 140826.68it/s]"
     ]
    },
    {
     "name": "stderr",
     "output_type": "stream",
     "text": [
      "\rMorphologyExtractor create index: 5075053it [00:35, 138491.72it/s]"
     ]
    },
    {
     "name": "stderr",
     "output_type": "stream",
     "text": [
      "\rMorphologyExtractor create index: 5089455it [00:35, 140104.77it/s]"
     ]
    },
    {
     "name": "stderr",
     "output_type": "stream",
     "text": [
      "\rMorphologyExtractor create index: 5096053it [00:35, 143187.22it/s]"
     ]
    },
    {
     "name": "stderr",
     "output_type": "stream",
     "text": [
      "\n"
     ]
    },
    {
     "name": "stderr",
     "output_type": "stream",
     "text": [
      "\rMorphologyExtractor create index: 0it [00:00, ?it/s]"
     ]
    },
    {
     "name": "stderr",
     "output_type": "stream",
     "text": [
      "\rMorphologyExtractor create index: 14453it [00:00, 144528.41it/s]"
     ]
    },
    {
     "name": "stderr",
     "output_type": "stream",
     "text": [
      "\rMorphologyExtractor create index: 26096it [00:00, 134768.26it/s]"
     ]
    },
    {
     "name": "stderr",
     "output_type": "stream",
     "text": [
      "\rMorphologyExtractor create index: 40037it [00:00, 136126.32it/s]"
     ]
    },
    {
     "name": "stderr",
     "output_type": "stream",
     "text": [
      "\rMorphologyExtractor create index: 53819it [00:00, 136628.43it/s]"
     ]
    },
    {
     "name": "stderr",
     "output_type": "stream",
     "text": [
      "\rMorphologyExtractor create index: 66616it [00:00, 133909.56it/s]"
     ]
    },
    {
     "name": "stderr",
     "output_type": "stream",
     "text": [
      "\rMorphologyExtractor create index: 80668it [00:00, 135824.43it/s]"
     ]
    },
    {
     "name": "stderr",
     "output_type": "stream",
     "text": [
      "\rMorphologyExtractor create index: 94412it [00:00, 136303.88it/s]"
     ]
    },
    {
     "name": "stderr",
     "output_type": "stream",
     "text": [
      "\rMorphologyExtractor create index: 108873it [00:00, 138692.67it/s]"
     ]
    },
    {
     "name": "stderr",
     "output_type": "stream",
     "text": [
      "\rMorphologyExtractor create index: 123450it [00:00, 140740.15it/s]"
     ]
    },
    {
     "name": "stderr",
     "output_type": "stream",
     "text": [
      "\rMorphologyExtractor create index: 138332it [00:01, 143069.32it/s]"
     ]
    },
    {
     "name": "stderr",
     "output_type": "stream",
     "text": [
      "\rMorphologyExtractor create index: 152262it [00:01, 141623.30it/s]"
     ]
    },
    {
     "name": "stderr",
     "output_type": "stream",
     "text": [
      "\rMorphologyExtractor create index: 166171it [00:01, 140851.57it/s]"
     ]
    },
    {
     "name": "stderr",
     "output_type": "stream",
     "text": [
      "\rMorphologyExtractor create index: 181254it [00:01, 143703.31it/s]"
     ]
    },
    {
     "name": "stderr",
     "output_type": "stream",
     "text": [
      "\rMorphologyExtractor create index: 195512it [00:01, 139057.42it/s]"
     ]
    },
    {
     "name": "stderr",
     "output_type": "stream",
     "text": [
      "\rMorphologyExtractor create index: 209372it [00:01, 134821.67it/s]"
     ]
    },
    {
     "name": "stderr",
     "output_type": "stream",
     "text": [
      "\rMorphologyExtractor create index: 222850it [00:01, 133625.52it/s]"
     ]
    },
    {
     "name": "stderr",
     "output_type": "stream",
     "text": [
      "\rMorphologyExtractor create index: 236212it [00:01, 132698.66it/s]"
     ]
    },
    {
     "name": "stderr",
     "output_type": "stream",
     "text": [
      "\rMorphologyExtractor create index: 250270it [00:01, 134968.35it/s]"
     ]
    },
    {
     "name": "stderr",
     "output_type": "stream",
     "text": [
      "\rMorphologyExtractor create index: 263777it [00:01, 133931.51it/s]"
     ]
    },
    {
     "name": "stderr",
     "output_type": "stream",
     "text": [
      "\rMorphologyExtractor create index: 277180it [00:02, 132698.15it/s]"
     ]
    },
    {
     "name": "stderr",
     "output_type": "stream",
     "text": [
      "\rMorphologyExtractor create index: 290459it [00:02, 127803.29it/s]"
     ]
    },
    {
     "name": "stderr",
     "output_type": "stream",
     "text": [
      "\rMorphologyExtractor create index: 304070it [00:02, 130185.29it/s]"
     ]
    },
    {
     "name": "stderr",
     "output_type": "stream",
     "text": [
      "\rMorphologyExtractor create index: 318597it [00:02, 134370.42it/s]"
     ]
    },
    {
     "name": "stderr",
     "output_type": "stream",
     "text": [
      "\rMorphologyExtractor create index: 333926it [00:02, 139536.65it/s]"
     ]
    },
    {
     "name": "stderr",
     "output_type": "stream",
     "text": [
      "\rMorphologyExtractor create index: 349346it [00:02, 143633.89it/s]"
     ]
    },
    {
     "name": "stderr",
     "output_type": "stream",
     "text": [
      "\rMorphologyExtractor create index: 364591it [00:02, 146166.80it/s]"
     ]
    },
    {
     "name": "stderr",
     "output_type": "stream",
     "text": [
      "\rMorphologyExtractor create index: 379287it [00:02, 138820.57it/s]"
     ]
    },
    {
     "name": "stderr",
     "output_type": "stream",
     "text": [
      "\rMorphologyExtractor create index: 393302it [00:02, 127632.10it/s]"
     ]
    },
    {
     "name": "stderr",
     "output_type": "stream",
     "text": [
      "\rMorphologyExtractor create index: 406335it [00:03, 103794.01it/s]"
     ]
    },
    {
     "name": "stderr",
     "output_type": "stream",
     "text": [
      "\rMorphologyExtractor create index: 417627it [00:03, 85788.76it/s] "
     ]
    },
    {
     "name": "stderr",
     "output_type": "stream",
     "text": [
      "\rMorphologyExtractor create index: 427364it [00:03, 65797.70it/s]"
     ]
    },
    {
     "name": "stderr",
     "output_type": "stream",
     "text": [
      "\rMorphologyExtractor create index: 435459it [00:03, 60922.05it/s]"
     ]
    },
    {
     "name": "stderr",
     "output_type": "stream",
     "text": [
      "\rMorphologyExtractor create index: 444821it [00:03, 68051.49it/s]"
     ]
    },
    {
     "name": "stderr",
     "output_type": "stream",
     "text": [
      "\rMorphologyExtractor create index: 455115it [00:03, 75753.16it/s]"
     ]
    },
    {
     "name": "stderr",
     "output_type": "stream",
     "text": [
      "\rMorphologyExtractor create index: 466569it [00:03, 84243.56it/s]"
     ]
    },
    {
     "name": "stderr",
     "output_type": "stream",
     "text": [
      "\rMorphologyExtractor create index: 479935it [00:04, 94751.95it/s]"
     ]
    },
    {
     "name": "stderr",
     "output_type": "stream",
     "text": [
      "\rMorphologyExtractor create index: 494404it [00:04, 105695.60it/s]"
     ]
    },
    {
     "name": "stderr",
     "output_type": "stream",
     "text": [
      "\rMorphologyExtractor create index: 509054it [00:04, 115332.32it/s]"
     ]
    },
    {
     "name": "stderr",
     "output_type": "stream",
     "text": [
      "\rMorphologyExtractor create index: 523648it [00:04, 123075.79it/s]"
     ]
    },
    {
     "name": "stderr",
     "output_type": "stream",
     "text": [
      "\rMorphologyExtractor create index: 539377it [00:04, 131666.66it/s]"
     ]
    },
    {
     "name": "stderr",
     "output_type": "stream",
     "text": [
      "\rMorphologyExtractor create index: 553836it [00:04, 135293.99it/s]"
     ]
    },
    {
     "name": "stderr",
     "output_type": "stream",
     "text": [
      "\rMorphologyExtractor create index: 569022it [00:04, 139871.22it/s]"
     ]
    },
    {
     "name": "stderr",
     "output_type": "stream",
     "text": [
      "\rMorphologyExtractor create index: 584342it [00:04, 143618.97it/s]"
     ]
    },
    {
     "name": "stderr",
     "output_type": "stream",
     "text": [
      "\rMorphologyExtractor create index: 599075it [00:04, 144712.14it/s]"
     ]
    },
    {
     "name": "stderr",
     "output_type": "stream",
     "text": [
      "\rMorphologyExtractor create index: 614037it [00:04, 146148.55it/s]"
     ]
    },
    {
     "name": "stderr",
     "output_type": "stream",
     "text": [
      "\rMorphologyExtractor create index: 628825it [00:05, 136815.20it/s]"
     ]
    },
    {
     "name": "stderr",
     "output_type": "stream",
     "text": [
      "\rMorphologyExtractor create index: 642749it [00:05, 135058.07it/s]"
     ]
    },
    {
     "name": "stderr",
     "output_type": "stream",
     "text": [
      "\rMorphologyExtractor create index: 657878it [00:05, 139548.51it/s]"
     ]
    },
    {
     "name": "stderr",
     "output_type": "stream",
     "text": [
      "\rMorphologyExtractor create index: 671993it [00:05, 139817.53it/s]"
     ]
    },
    {
     "name": "stderr",
     "output_type": "stream",
     "text": [
      "\rMorphologyExtractor create index: 687609it [00:05, 144347.89it/s]"
     ]
    },
    {
     "name": "stderr",
     "output_type": "stream",
     "text": [
      "\rMorphologyExtractor create index: 702208it [00:05, 144833.69it/s]"
     ]
    },
    {
     "name": "stderr",
     "output_type": "stream",
     "text": [
      "\rMorphologyExtractor create index: 717312it [00:05, 146637.94it/s]"
     ]
    },
    {
     "name": "stderr",
     "output_type": "stream",
     "text": [
      "\rMorphologyExtractor create index: 732279it [00:05, 147531.92it/s]"
     ]
    },
    {
     "name": "stderr",
     "output_type": "stream",
     "text": [
      "\rMorphologyExtractor create index: 747262it [00:05, 148205.56it/s]"
     ]
    },
    {
     "name": "stderr",
     "output_type": "stream",
     "text": [
      "\rMorphologyExtractor create index: 762329it [00:05, 148934.21it/s]"
     ]
    },
    {
     "name": "stderr",
     "output_type": "stream",
     "text": [
      "\rMorphologyExtractor create index: 777246it [00:06, 148177.56it/s]"
     ]
    },
    {
     "name": "stderr",
     "output_type": "stream",
     "text": [
      "\rMorphologyExtractor create index: 792081it [00:06, 145111.03it/s]"
     ]
    },
    {
     "name": "stderr",
     "output_type": "stream",
     "text": [
      "\rMorphologyExtractor create index: 806900it [00:06, 146018.98it/s]"
     ]
    },
    {
     "name": "stderr",
     "output_type": "stream",
     "text": [
      "\rMorphologyExtractor create index: 822280it [00:06, 148268.46it/s]"
     ]
    },
    {
     "name": "stderr",
     "output_type": "stream",
     "text": [
      "\rMorphologyExtractor create index: 837688it [00:06, 149963.63it/s]"
     ]
    },
    {
     "name": "stderr",
     "output_type": "stream",
     "text": [
      "\rMorphologyExtractor create index: 853250it [00:06, 151615.98it/s]"
     ]
    },
    {
     "name": "stderr",
     "output_type": "stream",
     "text": [
      "\rMorphologyExtractor create index: 868645it [00:06, 152305.64it/s]"
     ]
    },
    {
     "name": "stderr",
     "output_type": "stream",
     "text": [
      "\rMorphologyExtractor create index: 883982it [00:06, 152623.00it/s]"
     ]
    },
    {
     "name": "stderr",
     "output_type": "stream",
     "text": [
      "\rMorphologyExtractor create index: 899702it [00:06, 153967.48it/s]"
     ]
    },
    {
     "name": "stderr",
     "output_type": "stream",
     "text": [
      "\rMorphologyExtractor create index: 915153it [00:06, 154129.77it/s]"
     ]
    },
    {
     "name": "stderr",
     "output_type": "stream",
     "text": [
      "\rMorphologyExtractor create index: 930573it [00:07, 152885.42it/s]"
     ]
    },
    {
     "name": "stderr",
     "output_type": "stream",
     "text": [
      "\rMorphologyExtractor create index: 946284it [00:07, 154126.08it/s]"
     ]
    },
    {
     "name": "stderr",
     "output_type": "stream",
     "text": [
      "\rMorphologyExtractor create index: 961704it [00:07, 153336.97it/s]"
     ]
    },
    {
     "name": "stderr",
     "output_type": "stream",
     "text": [
      "\rMorphologyExtractor create index: 977044it [00:07, 152469.67it/s]"
     ]
    },
    {
     "name": "stderr",
     "output_type": "stream",
     "text": [
      "\rMorphologyExtractor create index: 992297it [00:07, 152043.14it/s]"
     ]
    },
    {
     "name": "stderr",
     "output_type": "stream",
     "text": [
      "\rMorphologyExtractor create index: 1007506it [00:07, 150661.81it/s]"
     ]
    },
    {
     "name": "stderr",
     "output_type": "stream",
     "text": [
      "\rMorphologyExtractor create index: 1022851it [00:07, 151486.22it/s]"
     ]
    },
    {
     "name": "stderr",
     "output_type": "stream",
     "text": [
      "\rMorphologyExtractor create index: 1038027it [00:07, 151566.45it/s]"
     ]
    },
    {
     "name": "stderr",
     "output_type": "stream",
     "text": [
      "\rMorphologyExtractor create index: 1053698it [00:07, 153072.37it/s]"
     ]
    },
    {
     "name": "stderr",
     "output_type": "stream",
     "text": [
      "\rMorphologyExtractor create index: 1069012it [00:07, 151359.43it/s]"
     ]
    },
    {
     "name": "stderr",
     "output_type": "stream",
     "text": [
      "\rMorphologyExtractor create index: 1084417it [00:08, 152153.50it/s]"
     ]
    },
    {
     "name": "stderr",
     "output_type": "stream",
     "text": [
      "\rMorphologyExtractor create index: 1100345it [00:08, 154221.27it/s]"
     ]
    },
    {
     "name": "stderr",
     "output_type": "stream",
     "text": [
      "\rMorphologyExtractor create index: 1115779it [00:08, 153540.07it/s]"
     ]
    },
    {
     "name": "stderr",
     "output_type": "stream",
     "text": [
      "\rMorphologyExtractor create index: 1131142it [00:08, 152386.60it/s]"
     ]
    },
    {
     "name": "stderr",
     "output_type": "stream",
     "text": [
      "\rMorphologyExtractor create index: 1147010it [00:08, 154219.68it/s]"
     ]
    },
    {
     "name": "stderr",
     "output_type": "stream",
     "text": [
      "\rMorphologyExtractor create index: 1162443it [00:08, 153694.75it/s]"
     ]
    },
    {
     "name": "stderr",
     "output_type": "stream",
     "text": [
      "\rMorphologyExtractor create index: 1178183it [00:08, 154787.48it/s]"
     ]
    },
    {
     "name": "stderr",
     "output_type": "stream",
     "text": [
      "\rMorphologyExtractor create index: 1193670it [00:08, 152191.46it/s]"
     ]
    },
    {
     "name": "stderr",
     "output_type": "stream",
     "text": [
      "\rMorphologyExtractor create index: 1208905it [00:08, 150258.45it/s]"
     ]
    },
    {
     "name": "stderr",
     "output_type": "stream",
     "text": [
      "\rMorphologyExtractor create index: 1224106it [00:09, 150776.07it/s]"
     ]
    },
    {
     "name": "stderr",
     "output_type": "stream",
     "text": [
      "\rMorphologyExtractor create index: 1239196it [00:09, 133465.16it/s]"
     ]
    },
    {
     "name": "stderr",
     "output_type": "stream",
     "text": [
      "\rMorphologyExtractor create index: 1253335it [00:09, 135746.93it/s]"
     ]
    },
    {
     "name": "stderr",
     "output_type": "stream",
     "text": [
      "\rMorphologyExtractor create index: 1267643it [00:09, 137864.36it/s]"
     ]
    },
    {
     "name": "stderr",
     "output_type": "stream",
     "text": [
      "\rMorphologyExtractor create index: 1282319it [00:09, 140416.90it/s]"
     ]
    },
    {
     "name": "stderr",
     "output_type": "stream",
     "text": [
      "\rMorphologyExtractor create index: 1296511it [00:09, 129152.99it/s]"
     ]
    },
    {
     "name": "stderr",
     "output_type": "stream",
     "text": [
      "\rMorphologyExtractor create index: 1309709it [00:09, 126876.05it/s]"
     ]
    },
    {
     "name": "stderr",
     "output_type": "stream",
     "text": [
      "\rMorphologyExtractor create index: 1325106it [00:09, 133944.67it/s]"
     ]
    },
    {
     "name": "stderr",
     "output_type": "stream",
     "text": [
      "\rMorphologyExtractor create index: 1338751it [00:09, 133734.20it/s]"
     ]
    },
    {
     "name": "stderr",
     "output_type": "stream",
     "text": [
      "\rMorphologyExtractor create index: 1352694it [00:09, 135392.29it/s]"
     ]
    },
    {
     "name": "stderr",
     "output_type": "stream",
     "text": [
      "\rMorphologyExtractor create index: 1366361it [00:10, 134804.43it/s]"
     ]
    },
    {
     "name": "stderr",
     "output_type": "stream",
     "text": [
      "\rMorphologyExtractor create index: 1381219it [00:10, 138660.14it/s]"
     ]
    },
    {
     "name": "stderr",
     "output_type": "stream",
     "text": [
      "\rMorphologyExtractor create index: 1396490it [00:10, 142594.26it/s]"
     ]
    },
    {
     "name": "stderr",
     "output_type": "stream",
     "text": [
      "\rMorphologyExtractor create index: 1410841it [00:10, 140215.71it/s]"
     ]
    },
    {
     "name": "stderr",
     "output_type": "stream",
     "text": [
      "\rMorphologyExtractor create index: 1425162it [00:10, 141100.71it/s]"
     ]
    },
    {
     "name": "stderr",
     "output_type": "stream",
     "text": [
      "\rMorphologyExtractor create index: 1440003it [00:10, 143215.91it/s]"
     ]
    },
    {
     "name": "stderr",
     "output_type": "stream",
     "text": [
      "\rMorphologyExtractor create index: 1454741it [00:10, 144438.95it/s]"
     ]
    },
    {
     "name": "stderr",
     "output_type": "stream",
     "text": [
      "\rMorphologyExtractor create index: 1469219it [00:10, 127335.05it/s]"
     ]
    },
    {
     "name": "stderr",
     "output_type": "stream",
     "text": [
      "\rMorphologyExtractor create index: 1482347it [00:10, 125163.06it/s]"
     ]
    },
    {
     "name": "stderr",
     "output_type": "stream",
     "text": [
      "\rMorphologyExtractor create index: 1495148it [00:11, 123865.82it/s]"
     ]
    },
    {
     "name": "stderr",
     "output_type": "stream",
     "text": [
      "\rMorphologyExtractor create index: 1509306it [00:11, 128696.43it/s]"
     ]
    },
    {
     "name": "stderr",
     "output_type": "stream",
     "text": [
      "\rMorphologyExtractor create index: 1523953it [00:11, 133557.38it/s]"
     ]
    },
    {
     "name": "stderr",
     "output_type": "stream",
     "text": [
      "\rMorphologyExtractor create index: 1538211it [00:11, 136141.51it/s]"
     ]
    },
    {
     "name": "stderr",
     "output_type": "stream",
     "text": [
      "\rMorphologyExtractor create index: 1553338it [00:11, 140350.86it/s]"
     ]
    },
    {
     "name": "stderr",
     "output_type": "stream",
     "text": [
      "\rMorphologyExtractor create index: 1567748it [00:11, 141453.21it/s]"
     ]
    },
    {
     "name": "stderr",
     "output_type": "stream",
     "text": [
      "\rMorphologyExtractor create index: 1582367it [00:11, 142841.34it/s]"
     ]
    },
    {
     "name": "stderr",
     "output_type": "stream",
     "text": [
      "\rMorphologyExtractor create index: 1597179it [00:11, 144384.54it/s]"
     ]
    },
    {
     "name": "stderr",
     "output_type": "stream",
     "text": [
      "\rMorphologyExtractor create index: 1611670it [00:11, 142761.16it/s]"
     ]
    },
    {
     "name": "stderr",
     "output_type": "stream",
     "text": [
      "\rMorphologyExtractor create index: 1625987it [00:11, 141190.91it/s]"
     ]
    },
    {
     "name": "stderr",
     "output_type": "stream",
     "text": [
      "\rMorphologyExtractor create index: 1640139it [00:12, 140696.54it/s]"
     ]
    },
    {
     "name": "stderr",
     "output_type": "stream",
     "text": [
      "\rMorphologyExtractor create index: 1654232it [00:12, 119571.99it/s]"
     ]
    },
    {
     "name": "stderr",
     "output_type": "stream",
     "text": [
      "\rMorphologyExtractor create index: 1667047it [00:12, 122021.63it/s]"
     ]
    },
    {
     "name": "stderr",
     "output_type": "stream",
     "text": [
      "\rMorphologyExtractor create index: 1679657it [00:12, 82444.61it/s] "
     ]
    },
    {
     "name": "stderr",
     "output_type": "stream",
     "text": [
      "\rMorphologyExtractor create index: 1689892it [00:12, 74528.58it/s]"
     ]
    },
    {
     "name": "stderr",
     "output_type": "stream",
     "text": [
      "\rMorphologyExtractor create index: 1698883it [00:12, 61754.03it/s]"
     ]
    },
    {
     "name": "stderr",
     "output_type": "stream",
     "text": [
      "\rMorphologyExtractor create index: 1708029it [00:13, 68420.60it/s]"
     ]
    },
    {
     "name": "stderr",
     "output_type": "stream",
     "text": [
      "\rMorphologyExtractor create index: 1716105it [00:13, 66310.47it/s]"
     ]
    },
    {
     "name": "stderr",
     "output_type": "stream",
     "text": [
      "\rMorphologyExtractor create index: 1730074it [00:13, 78714.88it/s]"
     ]
    },
    {
     "name": "stderr",
     "output_type": "stream",
     "text": [
      "\rMorphologyExtractor create index: 1744115it [00:13, 90665.11it/s]"
     ]
    },
    {
     "name": "stderr",
     "output_type": "stream",
     "text": [
      "\rMorphologyExtractor create index: 1758123it [00:13, 101394.17it/s]"
     ]
    },
    {
     "name": "stderr",
     "output_type": "stream",
     "text": [
      "\rMorphologyExtractor create index: 1771030it [00:13, 108364.98it/s]"
     ]
    },
    {
     "name": "stderr",
     "output_type": "stream",
     "text": [
      "\rMorphologyExtractor create index: 1784098it [00:13, 114214.24it/s]"
     ]
    },
    {
     "name": "stderr",
     "output_type": "stream",
     "text": [
      "\rMorphologyExtractor create index: 1800164it [00:13, 125058.50it/s]"
     ]
    },
    {
     "name": "stderr",
     "output_type": "stream",
     "text": [
      "\rMorphologyExtractor create index: 1815865it [00:13, 133188.38it/s]"
     ]
    },
    {
     "name": "stderr",
     "output_type": "stream",
     "text": [
      "\rMorphologyExtractor create index: 1830026it [00:14, 134310.97it/s]"
     ]
    },
    {
     "name": "stderr",
     "output_type": "stream",
     "text": [
      "\rMorphologyExtractor create index: 1844049it [00:14, 132201.63it/s]"
     ]
    },
    {
     "name": "stderr",
     "output_type": "stream",
     "text": [
      "\rMorphologyExtractor create index: 1857691it [00:14, 133385.49it/s]"
     ]
    },
    {
     "name": "stderr",
     "output_type": "stream",
     "text": [
      "\rMorphologyExtractor create index: 1873468it [00:14, 139868.65it/s]"
     ]
    },
    {
     "name": "stderr",
     "output_type": "stream",
     "text": [
      "\rMorphologyExtractor create index: 1889057it [00:14, 144318.21it/s]"
     ]
    },
    {
     "name": "stderr",
     "output_type": "stream",
     "text": [
      "\rMorphologyExtractor create index: 1903729it [00:14, 144153.38it/s]"
     ]
    },
    {
     "name": "stderr",
     "output_type": "stream",
     "text": [
      "\rMorphologyExtractor create index: 1918502it [00:14, 145206.35it/s]"
     ]
    },
    {
     "name": "stderr",
     "output_type": "stream",
     "text": [
      "\rMorphologyExtractor create index: 1933142it [00:14, 140658.60it/s]"
     ]
    },
    {
     "name": "stderr",
     "output_type": "stream",
     "text": [
      "\rMorphologyExtractor create index: 1947323it [00:14, 136012.59it/s]"
     ]
    },
    {
     "name": "stderr",
     "output_type": "stream",
     "text": [
      "\rMorphologyExtractor create index: 1961417it [00:14, 137453.91it/s]"
     ]
    },
    {
     "name": "stderr",
     "output_type": "stream",
     "text": [
      "\rMorphologyExtractor create index: 1975667it [00:15, 138929.75it/s]"
     ]
    },
    {
     "name": "stderr",
     "output_type": "stream",
     "text": [
      "\rMorphologyExtractor create index: 1990636it [00:15, 141990.31it/s]"
     ]
    },
    {
     "name": "stderr",
     "output_type": "stream",
     "text": [
      "\rMorphologyExtractor create index: 2004895it [00:15, 137130.58it/s]"
     ]
    },
    {
     "name": "stderr",
     "output_type": "stream",
     "text": [
      "\rMorphologyExtractor create index: 2019814it [00:15, 140537.04it/s]"
     ]
    },
    {
     "name": "stderr",
     "output_type": "stream",
     "text": [
      "\rMorphologyExtractor create index: 2034901it [00:15, 143483.18it/s]"
     ]
    },
    {
     "name": "stderr",
     "output_type": "stream",
     "text": [
      "\rMorphologyExtractor create index: 2050327it [00:15, 146552.69it/s]"
     ]
    },
    {
     "name": "stderr",
     "output_type": "stream",
     "text": [
      "\rMorphologyExtractor create index: 2065826it [00:15, 148984.02it/s]"
     ]
    },
    {
     "name": "stderr",
     "output_type": "stream",
     "text": [
      "\rMorphologyExtractor create index: 2081086it [00:15, 150048.10it/s]"
     ]
    },
    {
     "name": "stderr",
     "output_type": "stream",
     "text": [
      "\rMorphologyExtractor create index: 2096292it [00:15, 150643.75it/s]"
     ]
    },
    {
     "name": "stderr",
     "output_type": "stream",
     "text": [
      "\rMorphologyExtractor create index: 2111554it [00:15, 151230.84it/s]"
     ]
    },
    {
     "name": "stderr",
     "output_type": "stream",
     "text": [
      "\rMorphologyExtractor create index: 2127112it [00:16, 152509.46it/s]"
     ]
    },
    {
     "name": "stderr",
     "output_type": "stream",
     "text": [
      "\rMorphologyExtractor create index: 2142380it [00:16, 152102.75it/s]"
     ]
    },
    {
     "name": "stderr",
     "output_type": "stream",
     "text": [
      "\rMorphologyExtractor create index: 2157603it [00:16, 151019.73it/s]"
     ]
    },
    {
     "name": "stderr",
     "output_type": "stream",
     "text": [
      "\rMorphologyExtractor create index: 2172740it [00:16, 151121.88it/s]"
     ]
    },
    {
     "name": "stderr",
     "output_type": "stream",
     "text": [
      "\rMorphologyExtractor create index: 2188020it [00:16, 151619.65it/s]"
     ]
    },
    {
     "name": "stderr",
     "output_type": "stream",
     "text": [
      "\rMorphologyExtractor create index: 2203477it [00:16, 152492.36it/s]"
     ]
    },
    {
     "name": "stderr",
     "output_type": "stream",
     "text": [
      "\rMorphologyExtractor create index: 2218933it [00:16, 153106.32it/s]"
     ]
    },
    {
     "name": "stderr",
     "output_type": "stream",
     "text": [
      "\rMorphologyExtractor create index: 2234248it [00:16, 151630.90it/s]"
     ]
    },
    {
     "name": "stderr",
     "output_type": "stream",
     "text": [
      "\rMorphologyExtractor create index: 2249418it [00:16, 150990.50it/s]"
     ]
    },
    {
     "name": "stderr",
     "output_type": "stream",
     "text": [
      "\rMorphologyExtractor create index: 2264822it [00:16, 151891.36it/s]"
     ]
    },
    {
     "name": "stderr",
     "output_type": "stream",
     "text": [
      "\rMorphologyExtractor create index: 2280016it [00:17, 151594.43it/s]"
     ]
    },
    {
     "name": "stderr",
     "output_type": "stream",
     "text": [
      "\rMorphologyExtractor create index: 2295828it [00:17, 153492.22it/s]"
     ]
    },
    {
     "name": "stderr",
     "output_type": "stream",
     "text": [
      "\rMorphologyExtractor create index: 2311186it [00:17, 152291.36it/s]"
     ]
    },
    {
     "name": "stderr",
     "output_type": "stream",
     "text": [
      "\rMorphologyExtractor create index: 2326481it [00:17, 152488.29it/s]"
     ]
    },
    {
     "name": "stderr",
     "output_type": "stream",
     "text": [
      "\rMorphologyExtractor create index: 2342867it [00:17, 155730.06it/s]"
     ]
    },
    {
     "name": "stderr",
     "output_type": "stream",
     "text": [
      "\rMorphologyExtractor create index: 2358461it [00:17, 154086.58it/s]"
     ]
    },
    {
     "name": "stderr",
     "output_type": "stream",
     "text": [
      "\rMorphologyExtractor create index: 2373974it [00:17, 154396.86it/s]"
     ]
    },
    {
     "name": "stderr",
     "output_type": "stream",
     "text": [
      "\rMorphologyExtractor create index: 2389647it [00:17, 155087.65it/s]"
     ]
    },
    {
     "name": "stderr",
     "output_type": "stream",
     "text": [
      "\rMorphologyExtractor create index: 2405166it [00:17, 153938.82it/s]"
     ]
    },
    {
     "name": "stderr",
     "output_type": "stream",
     "text": [
      "\rMorphologyExtractor create index: 2420569it [00:17, 153923.62it/s]"
     ]
    },
    {
     "name": "stderr",
     "output_type": "stream",
     "text": [
      "\rMorphologyExtractor create index: 2435968it [00:18, 153875.24it/s]"
     ]
    },
    {
     "name": "stderr",
     "output_type": "stream",
     "text": [
      "\rMorphologyExtractor create index: 2451360it [00:18, 152431.53it/s]"
     ]
    },
    {
     "name": "stderr",
     "output_type": "stream",
     "text": [
      "\rMorphologyExtractor create index: 2466688it [00:18, 152683.28it/s]"
     ]
    },
    {
     "name": "stderr",
     "output_type": "stream",
     "text": [
      "\rMorphologyExtractor create index: 2481961it [00:18, 152427.99it/s]"
     ]
    },
    {
     "name": "stderr",
     "output_type": "stream",
     "text": [
      "\rMorphologyExtractor create index: 2497207it [00:18, 150606.20it/s]"
     ]
    },
    {
     "name": "stderr",
     "output_type": "stream",
     "text": [
      "\rMorphologyExtractor create index: 2512275it [00:18, 150494.84it/s]"
     ]
    },
    {
     "name": "stderr",
     "output_type": "stream",
     "text": [
      "\rMorphologyExtractor create index: 2527330it [00:18, 147320.32it/s]"
     ]
    },
    {
     "name": "stderr",
     "output_type": "stream",
     "text": [
      "\rMorphologyExtractor create index: 2542081it [00:18, 145201.11it/s]"
     ]
    },
    {
     "name": "stderr",
     "output_type": "stream",
     "text": [
      "\rMorphologyExtractor create index: 2556621it [00:18, 145038.66it/s]"
     ]
    },
    {
     "name": "stderr",
     "output_type": "stream",
     "text": [
      "\rMorphologyExtractor create index: 2571782it [00:18, 146948.99it/s]"
     ]
    },
    {
     "name": "stderr",
     "output_type": "stream",
     "text": [
      "\rMorphologyExtractor create index: 2587157it [00:19, 148922.22it/s]"
     ]
    },
    {
     "name": "stderr",
     "output_type": "stream",
     "text": [
      "\rMorphologyExtractor create index: 2602067it [00:19, 148945.64it/s]"
     ]
    },
    {
     "name": "stderr",
     "output_type": "stream",
     "text": [
      "\rMorphologyExtractor create index: 2616974it [00:19, 147898.88it/s]"
     ]
    },
    {
     "name": "stderr",
     "output_type": "stream",
     "text": [
      "\rMorphologyExtractor create index: 2631775it [00:19, 147263.74it/s]"
     ]
    },
    {
     "name": "stderr",
     "output_type": "stream",
     "text": [
      "\rMorphologyExtractor create index: 2646510it [00:19, 146813.62it/s]"
     ]
    },
    {
     "name": "stderr",
     "output_type": "stream",
     "text": [
      "\rMorphologyExtractor create index: 2661198it [00:19, 145687.07it/s]"
     ]
    },
    {
     "name": "stderr",
     "output_type": "stream",
     "text": [
      "\rMorphologyExtractor create index: 2676478it [00:19, 147734.64it/s]"
     ]
    },
    {
     "name": "stderr",
     "output_type": "stream",
     "text": [
      "\rMorphologyExtractor create index: 2691263it [00:19, 147135.34it/s]"
     ]
    },
    {
     "name": "stderr",
     "output_type": "stream",
     "text": [
      "\rMorphologyExtractor create index: 2705985it [00:19, 146612.54it/s]"
     ]
    },
    {
     "name": "stderr",
     "output_type": "stream",
     "text": [
      "\rMorphologyExtractor create index: 2720709it [00:20, 146799.84it/s]"
     ]
    },
    {
     "name": "stderr",
     "output_type": "stream",
     "text": [
      "\rMorphologyExtractor create index: 2735484it [00:20, 147082.70it/s]"
     ]
    },
    {
     "name": "stderr",
     "output_type": "stream",
     "text": [
      "\rMorphologyExtractor create index: 2750196it [00:20, 143337.94it/s]"
     ]
    },
    {
     "name": "stderr",
     "output_type": "stream",
     "text": [
      "\rMorphologyExtractor create index: 2764989it [00:20, 144683.26it/s]"
     ]
    },
    {
     "name": "stderr",
     "output_type": "stream",
     "text": [
      "\rMorphologyExtractor create index: 2780877it [00:20, 148666.40it/s]"
     ]
    },
    {
     "name": "stderr",
     "output_type": "stream",
     "text": [
      "\rMorphologyExtractor create index: 2796359it [00:20, 150457.92it/s]"
     ]
    },
    {
     "name": "stderr",
     "output_type": "stream",
     "text": [
      "\rMorphologyExtractor create index: 2811533it [00:20, 150839.34it/s]"
     ]
    },
    {
     "name": "stderr",
     "output_type": "stream",
     "text": [
      "\rMorphologyExtractor create index: 2826884it [00:20, 151630.67it/s]"
     ]
    },
    {
     "name": "stderr",
     "output_type": "stream",
     "text": [
      "\rMorphologyExtractor create index: 2842065it [00:20, 150559.83it/s]"
     ]
    },
    {
     "name": "stderr",
     "output_type": "stream",
     "text": [
      "\rMorphologyExtractor create index: 2858098it [00:20, 153361.26it/s]"
     ]
    },
    {
     "name": "stderr",
     "output_type": "stream",
     "text": [
      "\rMorphologyExtractor create index: 2873457it [00:21, 152044.08it/s]"
     ]
    },
    {
     "name": "stderr",
     "output_type": "stream",
     "text": [
      "\rMorphologyExtractor create index: 2888680it [00:21, 152011.42it/s]"
     ]
    },
    {
     "name": "stderr",
     "output_type": "stream",
     "text": [
      "\rMorphologyExtractor create index: 2904492it [00:21, 153793.79it/s]"
     ]
    },
    {
     "name": "stderr",
     "output_type": "stream",
     "text": [
      "\rMorphologyExtractor create index: 2919886it [00:21, 152533.80it/s]"
     ]
    },
    {
     "name": "stderr",
     "output_type": "stream",
     "text": [
      "\rMorphologyExtractor create index: 2935324it [00:21, 153078.93it/s]"
     ]
    },
    {
     "name": "stderr",
     "output_type": "stream",
     "text": [
      "\rMorphologyExtractor create index: 2950641it [00:21, 150209.03it/s]"
     ]
    },
    {
     "name": "stderr",
     "output_type": "stream",
     "text": [
      "\rMorphologyExtractor create index: 2965807it [00:21, 150638.76it/s]"
     ]
    },
    {
     "name": "stderr",
     "output_type": "stream",
     "text": [
      "\rMorphologyExtractor create index: 2980884it [00:21, 149429.91it/s]"
     ]
    },
    {
     "name": "stderr",
     "output_type": "stream",
     "text": [
      "\rMorphologyExtractor create index: 2996094it [00:21, 150219.60it/s]"
     ]
    },
    {
     "name": "stderr",
     "output_type": "stream",
     "text": [
      "\rMorphologyExtractor create index: 3011321it [00:21, 150826.69it/s]"
     ]
    },
    {
     "name": "stderr",
     "output_type": "stream",
     "text": [
      "\rMorphologyExtractor create index: 3026411it [00:22, 149576.99it/s]"
     ]
    },
    {
     "name": "stderr",
     "output_type": "stream",
     "text": [
      "\rMorphologyExtractor create index: 3041719it [00:22, 150609.60it/s]"
     ]
    },
    {
     "name": "stderr",
     "output_type": "stream",
     "text": [
      "\rMorphologyExtractor create index: 3057090it [00:22, 151524.20it/s]"
     ]
    },
    {
     "name": "stderr",
     "output_type": "stream",
     "text": [
      "\rMorphologyExtractor create index: 3072249it [00:22, 150144.45it/s]"
     ]
    },
    {
     "name": "stderr",
     "output_type": "stream",
     "text": [
      "\rMorphologyExtractor create index: 3087365it [00:22, 150447.18it/s]"
     ]
    },
    {
     "name": "stderr",
     "output_type": "stream",
     "text": [
      "\rMorphologyExtractor create index: 3102479it [00:22, 150652.15it/s]"
     ]
    },
    {
     "name": "stderr",
     "output_type": "stream",
     "text": [
      "\rMorphologyExtractor create index: 3117548it [00:22, 149875.87it/s]"
     ]
    },
    {
     "name": "stderr",
     "output_type": "stream",
     "text": [
      "\rMorphologyExtractor create index: 3132944it [00:22, 151067.94it/s]"
     ]
    },
    {
     "name": "stderr",
     "output_type": "stream",
     "text": [
      "\rMorphologyExtractor create index: 3148538it [00:22, 152494.66it/s]"
     ]
    },
    {
     "name": "stderr",
     "output_type": "stream",
     "text": [
      "\rMorphologyExtractor create index: 3163794it [00:22, 151315.37it/s]"
     ]
    },
    {
     "name": "stderr",
     "output_type": "stream",
     "text": [
      "\rMorphologyExtractor create index: 3178933it [00:23, 151156.01it/s]"
     ]
    },
    {
     "name": "stderr",
     "output_type": "stream",
     "text": [
      "\rMorphologyExtractor create index: 3194366it [00:23, 152093.49it/s]"
     ]
    },
    {
     "name": "stderr",
     "output_type": "stream",
     "text": [
      "\rMorphologyExtractor create index: 3209581it [00:23, 151954.99it/s]"
     ]
    },
    {
     "name": "stderr",
     "output_type": "stream",
     "text": [
      "\rMorphologyExtractor create index: 3224893it [00:23, 152300.72it/s]"
     ]
    },
    {
     "name": "stderr",
     "output_type": "stream",
     "text": [
      "\rMorphologyExtractor create index: 3240427it [00:23, 153197.61it/s]"
     ]
    },
    {
     "name": "stderr",
     "output_type": "stream",
     "text": [
      "\rMorphologyExtractor create index: 3255750it [00:23, 151412.37it/s]"
     ]
    },
    {
     "name": "stderr",
     "output_type": "stream",
     "text": [
      "\rMorphologyExtractor create index: 3270899it [00:23, 149214.76it/s]"
     ]
    },
    {
     "name": "stderr",
     "output_type": "stream",
     "text": [
      "\rMorphologyExtractor create index: 3285833it [00:23, 144905.16it/s]"
     ]
    },
    {
     "name": "stderr",
     "output_type": "stream",
     "text": [
      "\rMorphologyExtractor create index: 3300868it [00:23, 146495.16it/s]"
     ]
    },
    {
     "name": "stderr",
     "output_type": "stream",
     "text": [
      "\rMorphologyExtractor create index: 3316132it [00:23, 148283.80it/s]"
     ]
    },
    {
     "name": "stderr",
     "output_type": "stream",
     "text": [
      "\rMorphologyExtractor create index: 3331657it [00:24, 150305.29it/s]"
     ]
    },
    {
     "name": "stderr",
     "output_type": "stream",
     "text": [
      "\rMorphologyExtractor create index: 3347559it [00:24, 152817.46it/s]"
     ]
    },
    {
     "name": "stderr",
     "output_type": "stream",
     "text": [
      "\rMorphologyExtractor create index: 3362869it [00:24, 151924.35it/s]"
     ]
    },
    {
     "name": "stderr",
     "output_type": "stream",
     "text": [
      "\rMorphologyExtractor create index: 3378293it [00:24, 152609.38it/s]"
     ]
    },
    {
     "name": "stderr",
     "output_type": "stream",
     "text": [
      "\rMorphologyExtractor create index: 3393578it [00:24, 152679.35it/s]"
     ]
    },
    {
     "name": "stderr",
     "output_type": "stream",
     "text": [
      "\rMorphologyExtractor create index: 3408857it [00:24, 148841.32it/s]"
     ]
    },
    {
     "name": "stderr",
     "output_type": "stream",
     "text": [
      "\rMorphologyExtractor create index: 3423770it [00:24, 137013.90it/s]"
     ]
    },
    {
     "name": "stderr",
     "output_type": "stream",
     "text": [
      "\rMorphologyExtractor create index: 3438439it [00:24, 139778.88it/s]"
     ]
    },
    {
     "name": "stderr",
     "output_type": "stream",
     "text": [
      "\rMorphologyExtractor create index: 3453367it [00:24, 142497.65it/s]"
     ]
    },
    {
     "name": "stderr",
     "output_type": "stream",
     "text": [
      "\rMorphologyExtractor create index: 3467873it [00:25, 143254.72it/s]"
     ]
    },
    {
     "name": "stderr",
     "output_type": "stream",
     "text": [
      "\rMorphologyExtractor create index: 3482286it [00:25, 142384.72it/s]"
     ]
    },
    {
     "name": "stderr",
     "output_type": "stream",
     "text": [
      "\rMorphologyExtractor create index: 3497847it [00:25, 146108.06it/s]"
     ]
    },
    {
     "name": "stderr",
     "output_type": "stream",
     "text": [
      "\rMorphologyExtractor create index: 3512837it [00:25, 147224.87it/s]"
     ]
    },
    {
     "name": "stderr",
     "output_type": "stream",
     "text": [
      "\rMorphologyExtractor create index: 3529154it [00:25, 151669.13it/s]"
     ]
    },
    {
     "name": "stderr",
     "output_type": "stream",
     "text": [
      "\rMorphologyExtractor create index: 3544390it [00:25, 151617.42it/s]"
     ]
    },
    {
     "name": "stderr",
     "output_type": "stream",
     "text": [
      "\rMorphologyExtractor create index: 3559600it [00:25, 150691.43it/s]"
     ]
    },
    {
     "name": "stderr",
     "output_type": "stream",
     "text": [
      "\rMorphologyExtractor create index: 3575359it [00:25, 152694.13it/s]"
     ]
    },
    {
     "name": "stderr",
     "output_type": "stream",
     "text": [
      "\rMorphologyExtractor create index: 3590660it [00:25, 151412.15it/s]"
     ]
    },
    {
     "name": "stderr",
     "output_type": "stream",
     "text": [
      "\rMorphologyExtractor create index: 3606448it [00:25, 153290.25it/s]"
     ]
    },
    {
     "name": "stderr",
     "output_type": "stream",
     "text": [
      "\rMorphologyExtractor create index: 3621800it [00:26, 153291.13it/s]"
     ]
    },
    {
     "name": "stderr",
     "output_type": "stream",
     "text": [
      "\rMorphologyExtractor create index: 3637369it [00:26, 154000.31it/s]"
     ]
    },
    {
     "name": "stderr",
     "output_type": "stream",
     "text": [
      "\rMorphologyExtractor create index: 3652781it [00:26, 152086.65it/s]"
     ]
    },
    {
     "name": "stderr",
     "output_type": "stream",
     "text": [
      "\rMorphologyExtractor create index: 3668499it [00:26, 153579.59it/s]"
     ]
    },
    {
     "name": "stderr",
     "output_type": "stream",
     "text": [
      "\rMorphologyExtractor create index: 3684443it [00:26, 155289.31it/s]"
     ]
    },
    {
     "name": "stderr",
     "output_type": "stream",
     "text": [
      "\rMorphologyExtractor create index: 3699986it [00:26, 152651.44it/s]"
     ]
    },
    {
     "name": "stderr",
     "output_type": "stream",
     "text": [
      "\rMorphologyExtractor create index: 3715289it [00:26, 152762.13it/s]"
     ]
    },
    {
     "name": "stderr",
     "output_type": "stream",
     "text": [
      "\rMorphologyExtractor create index: 3730752it [00:26, 153314.95it/s]"
     ]
    },
    {
     "name": "stderr",
     "output_type": "stream",
     "text": [
      "\rMorphologyExtractor create index: 3746094it [00:26, 150913.68it/s]"
     ]
    },
    {
     "name": "stderr",
     "output_type": "stream",
     "text": [
      "\rMorphologyExtractor create index: 3761943it [00:26, 153108.18it/s]"
     ]
    },
    {
     "name": "stderr",
     "output_type": "stream",
     "text": [
      "\rMorphologyExtractor create index: 3777818it [00:27, 154757.78it/s]"
     ]
    },
    {
     "name": "stderr",
     "output_type": "stream",
     "text": [
      "\rMorphologyExtractor create index: 3793982it [00:27, 156757.77it/s]"
     ]
    },
    {
     "name": "stderr",
     "output_type": "stream",
     "text": [
      "\rMorphologyExtractor create index: 3809677it [00:27, 153090.20it/s]"
     ]
    },
    {
     "name": "stderr",
     "output_type": "stream",
     "text": [
      "\rMorphologyExtractor create index: 3825250it [00:27, 153872.30it/s]"
     ]
    },
    {
     "name": "stderr",
     "output_type": "stream",
     "text": [
      "\rMorphologyExtractor create index: 3840661it [00:27, 153625.05it/s]"
     ]
    },
    {
     "name": "stderr",
     "output_type": "stream",
     "text": [
      "\rMorphologyExtractor create index: 3856040it [00:27, 153253.28it/s]"
     ]
    },
    {
     "name": "stderr",
     "output_type": "stream",
     "text": [
      "\rMorphologyExtractor create index: 3871868it [00:27, 154725.65it/s]"
     ]
    },
    {
     "name": "stderr",
     "output_type": "stream",
     "text": [
      "\rMorphologyExtractor create index: 3887698it [00:27, 155778.63it/s]"
     ]
    },
    {
     "name": "stderr",
     "output_type": "stream",
     "text": [
      "\rMorphologyExtractor create index: 3903286it [00:27, 153112.95it/s]"
     ]
    },
    {
     "name": "stderr",
     "output_type": "stream",
     "text": [
      "\rMorphologyExtractor create index: 3918684it [00:27, 153367.93it/s]"
     ]
    },
    {
     "name": "stderr",
     "output_type": "stream",
     "text": [
      "\rMorphologyExtractor create index: 3934033it [00:28, 151546.21it/s]"
     ]
    },
    {
     "name": "stderr",
     "output_type": "stream",
     "text": [
      "\rMorphologyExtractor create index: 3949938it [00:28, 153721.55it/s]"
     ]
    },
    {
     "name": "stderr",
     "output_type": "stream",
     "text": [
      "\rMorphologyExtractor create index: 3965328it [00:28, 153557.80it/s]"
     ]
    },
    {
     "name": "stderr",
     "output_type": "stream",
     "text": [
      "\rMorphologyExtractor create index: 3980696it [00:28, 153111.03it/s]"
     ]
    },
    {
     "name": "stderr",
     "output_type": "stream",
     "text": [
      "\rMorphologyExtractor create index: 3996678it [00:28, 155061.61it/s]"
     ]
    },
    {
     "name": "stderr",
     "output_type": "stream",
     "text": [
      "\rMorphologyExtractor create index: 4012264it [00:28, 155298.43it/s]"
     ]
    },
    {
     "name": "stderr",
     "output_type": "stream",
     "text": [
      "\rMorphologyExtractor create index: 4028450it [00:28, 157207.67it/s]"
     ]
    },
    {
     "name": "stderr",
     "output_type": "stream",
     "text": [
      "\rMorphologyExtractor create index: 4044769it [00:28, 158952.96it/s]"
     ]
    },
    {
     "name": "stderr",
     "output_type": "stream",
     "text": [
      "\rMorphologyExtractor create index: 4060678it [00:28, 147583.31it/s]"
     ]
    },
    {
     "name": "stderr",
     "output_type": "stream",
     "text": [
      "\rMorphologyExtractor create index: 4075886it [00:28, 148902.83it/s]"
     ]
    },
    {
     "name": "stderr",
     "output_type": "stream",
     "text": [
      "\rMorphologyExtractor create index: 4091542it [00:29, 151119.37it/s]"
     ]
    },
    {
     "name": "stderr",
     "output_type": "stream",
     "text": [
      "\rMorphologyExtractor create index: 4107340it [00:29, 153114.11it/s]"
     ]
    },
    {
     "name": "stderr",
     "output_type": "stream",
     "text": [
      "\rMorphologyExtractor create index: 4123191it [00:29, 154692.11it/s]"
     ]
    },
    {
     "name": "stderr",
     "output_type": "stream",
     "text": [
      "\rMorphologyExtractor create index: 4138872it [00:29, 155317.75it/s]"
     ]
    },
    {
     "name": "stderr",
     "output_type": "stream",
     "text": [
      "\rMorphologyExtractor create index: 4154443it [00:29, 154133.48it/s]"
     ]
    },
    {
     "name": "stderr",
     "output_type": "stream",
     "text": [
      "\rMorphologyExtractor create index: 4169886it [00:29, 150667.64it/s]"
     ]
    },
    {
     "name": "stderr",
     "output_type": "stream",
     "text": [
      "\rMorphologyExtractor create index: 4185119it [00:29, 151158.81it/s]"
     ]
    },
    {
     "name": "stderr",
     "output_type": "stream",
     "text": [
      "\rMorphologyExtractor create index: 4201453it [00:29, 154616.61it/s]"
     ]
    },
    {
     "name": "stderr",
     "output_type": "stream",
     "text": [
      "\rMorphologyExtractor create index: 4216953it [00:29, 153443.47it/s]"
     ]
    },
    {
     "name": "stderr",
     "output_type": "stream",
     "text": [
      "\rMorphologyExtractor create index: 4232327it [00:29, 152388.24it/s]"
     ]
    },
    {
     "name": "stderr",
     "output_type": "stream",
     "text": [
      "\rMorphologyExtractor create index: 4247588it [00:30, 150418.35it/s]"
     ]
    },
    {
     "name": "stderr",
     "output_type": "stream",
     "text": [
      "\rMorphologyExtractor create index: 4262989it [00:30, 151475.51it/s]"
     ]
    },
    {
     "name": "stderr",
     "output_type": "stream",
     "text": [
      "\rMorphologyExtractor create index: 4278234it [00:30, 151766.48it/s]"
     ]
    },
    {
     "name": "stderr",
     "output_type": "stream",
     "text": [
      "\rMorphologyExtractor create index: 4293465it [00:30, 151925.60it/s]"
     ]
    },
    {
     "name": "stderr",
     "output_type": "stream",
     "text": [
      "\rMorphologyExtractor create index: 4308666it [00:30, 149339.46it/s]"
     ]
    },
    {
     "name": "stderr",
     "output_type": "stream",
     "text": [
      "\rMorphologyExtractor create index: 4323968it [00:30, 150423.57it/s]"
     ]
    },
    {
     "name": "stderr",
     "output_type": "stream",
     "text": [
      "\rMorphologyExtractor create index: 4339024it [00:30, 149548.83it/s]"
     ]
    },
    {
     "name": "stderr",
     "output_type": "stream",
     "text": [
      "\rMorphologyExtractor create index: 4353990it [00:30, 148634.29it/s]"
     ]
    },
    {
     "name": "stderr",
     "output_type": "stream",
     "text": [
      "\rMorphologyExtractor create index: 4369230it [00:30, 149744.25it/s]"
     ]
    },
    {
     "name": "stderr",
     "output_type": "stream",
     "text": [
      "\rMorphologyExtractor create index: 4384213it [00:31, 149154.06it/s]"
     ]
    },
    {
     "name": "stderr",
     "output_type": "stream",
     "text": [
      "\rMorphologyExtractor create index: 4399213it [00:31, 149406.03it/s]"
     ]
    },
    {
     "name": "stderr",
     "output_type": "stream",
     "text": [
      "\rMorphologyExtractor create index: 4415154it [00:31, 152271.12it/s]"
     ]
    },
    {
     "name": "stderr",
     "output_type": "stream",
     "text": [
      "\rMorphologyExtractor create index: 4430556it [00:31, 152789.69it/s]"
     ]
    },
    {
     "name": "stderr",
     "output_type": "stream",
     "text": [
      "\rMorphologyExtractor create index: 4445851it [00:31, 152837.68it/s]"
     ]
    },
    {
     "name": "stderr",
     "output_type": "stream",
     "text": [
      "\rMorphologyExtractor create index: 4461696it [00:31, 154476.00it/s]"
     ]
    },
    {
     "name": "stderr",
     "output_type": "stream",
     "text": [
      "\rMorphologyExtractor create index: 4477154it [00:31, 152184.36it/s]"
     ]
    },
    {
     "name": "stderr",
     "output_type": "stream",
     "text": [
      "\rMorphologyExtractor create index: 4492388it [00:31, 147698.35it/s]"
     ]
    },
    {
     "name": "stderr",
     "output_type": "stream",
     "text": [
      "\rMorphologyExtractor create index: 4507547it [00:31, 148843.80it/s]"
     ]
    },
    {
     "name": "stderr",
     "output_type": "stream",
     "text": [
      "\rMorphologyExtractor create index: 4522592it [00:31, 149319.87it/s]"
     ]
    },
    {
     "name": "stderr",
     "output_type": "stream",
     "text": [
      "\rMorphologyExtractor create index: 4537856it [00:32, 150300.15it/s]"
     ]
    },
    {
     "name": "stderr",
     "output_type": "stream",
     "text": [
      "\rMorphologyExtractor create index: 4553404it [00:32, 151816.17it/s]"
     ]
    },
    {
     "name": "stderr",
     "output_type": "stream",
     "text": [
      "\rMorphologyExtractor create index: 4569019it [00:32, 153087.77it/s]"
     ]
    },
    {
     "name": "stderr",
     "output_type": "stream",
     "text": [
      "\rMorphologyExtractor create index: 4585104it [00:32, 155335.27it/s]"
     ]
    },
    {
     "name": "stderr",
     "output_type": "stream",
     "text": [
      "\rMorphologyExtractor create index: 4600753it [00:32, 155677.62it/s]"
     ]
    },
    {
     "name": "stderr",
     "output_type": "stream",
     "text": [
      "\rMorphologyExtractor create index: 4617090it [00:32, 157905.82it/s]"
     ]
    },
    {
     "name": "stderr",
     "output_type": "stream",
     "text": [
      "\rMorphologyExtractor create index: 4633029it [00:32, 158346.30it/s]"
     ]
    },
    {
     "name": "stderr",
     "output_type": "stream",
     "text": [
      "\rMorphologyExtractor create index: 4648876it [00:32, 154813.31it/s]"
     ]
    },
    {
     "name": "stderr",
     "output_type": "stream",
     "text": [
      "\rMorphologyExtractor create index: 4664383it [00:32, 153601.85it/s]"
     ]
    },
    {
     "name": "stderr",
     "output_type": "stream",
     "text": [
      "\rMorphologyExtractor create index: 4679764it [00:32, 152943.07it/s]"
     ]
    },
    {
     "name": "stderr",
     "output_type": "stream",
     "text": [
      "\rMorphologyExtractor create index: 4695483it [00:33, 154191.50it/s]"
     ]
    },
    {
     "name": "stderr",
     "output_type": "stream",
     "text": [
      "\rMorphologyExtractor create index: 4711798it [00:33, 156771.80it/s]"
     ]
    },
    {
     "name": "stderr",
     "output_type": "stream",
     "text": [
      "\rMorphologyExtractor create index: 4727495it [00:33, 155539.88it/s]"
     ]
    },
    {
     "name": "stderr",
     "output_type": "stream",
     "text": [
      "\rMorphologyExtractor create index: 4743065it [00:33, 154144.22it/s]"
     ]
    },
    {
     "name": "stderr",
     "output_type": "stream",
     "text": [
      "\rMorphologyExtractor create index: 4758494it [00:33, 154129.25it/s]"
     ]
    },
    {
     "name": "stderr",
     "output_type": "stream",
     "text": [
      "\rMorphologyExtractor create index: 4773917it [00:33, 153872.93it/s]"
     ]
    },
    {
     "name": "stderr",
     "output_type": "stream",
     "text": [
      "\rMorphologyExtractor create index: 4789794it [00:33, 155309.10it/s]"
     ]
    },
    {
     "name": "stderr",
     "output_type": "stream",
     "text": [
      "\rMorphologyExtractor create index: 4805533it [00:33, 155927.06it/s]"
     ]
    },
    {
     "name": "stderr",
     "output_type": "stream",
     "text": [
      "\rMorphologyExtractor create index: 4821132it [00:33, 155889.47it/s]"
     ]
    },
    {
     "name": "stderr",
     "output_type": "stream",
     "text": [
      "\rMorphologyExtractor create index: 4836726it [00:33, 152271.07it/s]"
     ]
    },
    {
     "name": "stderr",
     "output_type": "stream",
     "text": [
      "\rMorphologyExtractor create index: 4852693it [00:34, 154416.28it/s]"
     ]
    },
    {
     "name": "stderr",
     "output_type": "stream",
     "text": [
      "\rMorphologyExtractor create index: 4868445it [00:34, 155331.78it/s]"
     ]
    },
    {
     "name": "stderr",
     "output_type": "stream",
     "text": [
      "\rMorphologyExtractor create index: 4884112it [00:34, 155729.89it/s]"
     ]
    },
    {
     "name": "stderr",
     "output_type": "stream",
     "text": [
      "\rMorphologyExtractor create index: 4899698it [00:34, 155333.90it/s]"
     ]
    },
    {
     "name": "stderr",
     "output_type": "stream",
     "text": [
      "\rMorphologyExtractor create index: 4915241it [00:34, 155057.24it/s]"
     ]
    },
    {
     "name": "stderr",
     "output_type": "stream",
     "text": [
      "\rMorphologyExtractor create index: 4930753it [00:34, 152082.19it/s]"
     ]
    },
    {
     "name": "stderr",
     "output_type": "stream",
     "text": [
      "\rMorphologyExtractor create index: 4946969it [00:34, 154969.22it/s]"
     ]
    },
    {
     "name": "stderr",
     "output_type": "stream",
     "text": [
      "\rMorphologyExtractor create index: 4963077it [00:34, 156752.28it/s]"
     ]
    },
    {
     "name": "stderr",
     "output_type": "stream",
     "text": [
      "\rMorphologyExtractor create index: 4978775it [00:34, 156094.81it/s]"
     ]
    },
    {
     "name": "stderr",
     "output_type": "stream",
     "text": [
      "\rMorphologyExtractor create index: 4994401it [00:34, 152428.81it/s]"
     ]
    },
    {
     "name": "stderr",
     "output_type": "stream",
     "text": [
      "\rMorphologyExtractor create index: 5010405it [00:35, 154634.24it/s]"
     ]
    },
    {
     "name": "stderr",
     "output_type": "stream",
     "text": [
      "\rMorphologyExtractor create index: 5025898it [00:35, 152956.65it/s]"
     ]
    },
    {
     "name": "stderr",
     "output_type": "stream",
     "text": [
      "\rMorphologyExtractor create index: 5041219it [00:35, 150384.25it/s]"
     ]
    },
    {
     "name": "stderr",
     "output_type": "stream",
     "text": [
      "\rMorphologyExtractor create index: 5056531it [00:35, 151192.99it/s]"
     ]
    },
    {
     "name": "stderr",
     "output_type": "stream",
     "text": [
      "\rMorphologyExtractor create index: 5071920it [00:35, 151991.62it/s]"
     ]
    },
    {
     "name": "stderr",
     "output_type": "stream",
     "text": [
      "\rMorphologyExtractor create index: 5088417it [00:35, 155663.27it/s]"
     ]
    },
    {
     "name": "stderr",
     "output_type": "stream",
     "text": [
      "\rMorphologyExtractor create index: 5096053it [00:35, 143038.02it/s]"
     ]
    },
    {
     "name": "stderr",
     "output_type": "stream",
     "text": [
      "\n"
     ]
    }
   ],
   "source": [
    "import numpy as np\n",
    "from loaders.loading import load_train\n",
    "from transformers.dash_transformer import DashTransformer\n",
    "from transformers.dict_nbhd_transformer import DictNBHDTransformer\n",
    "from transformers.dict_transformer import DictTransformer\n",
    "from transformers.digit_transformer import DigitTransformer\n",
    "from transformers.flat_transformer import FlatTransformer\n",
    "from transformers.dict_class_transformer import DictClassTransformer\n",
    "from transformers.letters_transformer import LettersTransformer\n",
    "from transformers.lstm_transliterator import LSTMTransliterator\n",
    "from transformers.scored_chain import ScoredChain\n",
    "from transformers.self_transformer import SelfTransformer\n",
    "from sklearn.model_selection import train_test_split\n",
    "from transformers.simple_transliterator import SimpleTransliterator\n",
    "from transformers.add_class_transformer import AddClassTransformer\n",
    "from pipeline import transform"
   ]
  },
  {
   "cell_type": "code",
   "execution_count": 3,
   "metadata": {
    "collapsed": true
   },
   "outputs": [
    {
     "name": "stdout",
     "output_type": "stream",
     "text": [
      "<class 'pandas.core.frame.DataFrame'>\nRangeIndex: 10574516 entries, 0 to 10574515\nData columns (total 7 columns):\nclass        object\nbefore       object\nafter        object\nprev_prev    object\nprev         object\nnext         object\nnext_next    object\ndtypes: object(7)\nmemory usage: 564.7+ MB\nNone\n"
     ]
    }
   ],
   "source": [
    "df = load_train(['class', 'before', 'after'], r'../input/norm_challenge_ru')\n",
    "df['prev_prev'] = df['before'].shift(2)\n",
    "df['prev'] = df['before'].shift(1)\n",
    "df['next'] = df['before'].shift(-1)\n",
    "df['next_next'] = df['before'].shift(-2)\n",
    "df = df.fillna('')\n",
    "print(df.info())"
   ]
  },
  {
   "cell_type": "code",
   "execution_count": 4,
   "metadata": {},
   "outputs": [],
   "source": [
    "x_train, x_test, y_train, y_test = train_test_split(df.drop(['after'], axis=1), df['after'], test_size=0.01, random_state=2017)\n",
    "x_test.drop(['class'], axis=1, inplace=True)"
   ]
  },
  {
   "cell_type": "code",
   "execution_count": 5,
   "metadata": {
    "collapsed": false
   },
   "outputs": [
    {
     "name": "stderr",
     "output_type": "stream",
     "text": [
      "\rDictClassTransformer_PUNCT fit:   0%|          | 0/10468770 [00:00<?, ?it/s]"
     ]
    },
    {
     "name": "stderr",
     "output_type": "stream",
     "text": [
      "\rDictClassTransformer_PUNCT fit:   0%|          | 36825/10468770 [00:00<00:28, 368245.96it/s]"
     ]
    },
    {
     "name": "stderr",
     "output_type": "stream",
     "text": [
      "\rDictClassTransformer_PUNCT fit:   1%|          | 94362/10468770 [00:00<00:25, 412828.82it/s]"
     ]
    },
    {
     "name": "stderr",
     "output_type": "stream",
     "text": [
      "\rDictClassTransformer_PUNCT fit:   2%|▏         | 169364/10468770 [00:00<00:21, 477187.62it/s]"
     ]
    },
    {
     "name": "stderr",
     "output_type": "stream",
     "text": [
      "\rDictClassTransformer_PUNCT fit:   2%|▏         | 240150/10468770 [00:00<00:19, 528891.91it/s]"
     ]
    },
    {
     "name": "stderr",
     "output_type": "stream",
     "text": [
      "\rDictClassTransformer_PUNCT fit:   3%|▎         | 326223/10468770 [00:00<00:16, 598062.15it/s]"
     ]
    },
    {
     "name": "stderr",
     "output_type": "stream",
     "text": [
      "\rDictClassTransformer_PUNCT fit:   4%|▍         | 418296/10468770 [00:00<00:15, 668324.94it/s]"
     ]
    },
    {
     "name": "stderr",
     "output_type": "stream",
     "text": [
      "\rDictClassTransformer_PUNCT fit:   5%|▍         | 513750/10468770 [00:00<00:13, 734385.50it/s]"
     ]
    },
    {
     "name": "stderr",
     "output_type": "stream",
     "text": [
      "\rDictClassTransformer_PUNCT fit:   6%|▌         | 614490/10468770 [00:00<00:12, 799374.93it/s]"
     ]
    },
    {
     "name": "stderr",
     "output_type": "stream",
     "text": [
      "\rDictClassTransformer_PUNCT fit:   7%|▋         | 716544/10468770 [00:00<00:11, 854958.04it/s]"
     ]
    },
    {
     "name": "stderr",
     "output_type": "stream",
     "text": [
      "\rDictClassTransformer_PUNCT fit:   8%|▊         | 819744/10468770 [00:01<00:10, 901346.12it/s]"
     ]
    },
    {
     "name": "stderr",
     "output_type": "stream",
     "text": [
      "\rDictClassTransformer_PUNCT fit:   9%|▊         | 913530/10468770 [00:01<00:13, 700560.20it/s]"
     ]
    },
    {
     "name": "stderr",
     "output_type": "stream",
     "text": [
      "\rDictClassTransformer_PUNCT fit:   9%|▉         | 993010/10468770 [00:01<00:13, 692510.09it/s]"
     ]
    },
    {
     "name": "stderr",
     "output_type": "stream",
     "text": [
      "\rDictClassTransformer_PUNCT fit:  10%|█         | 1085199/10468770 [00:01<00:12, 748371.64it/s]"
     ]
    },
    {
     "name": "stderr",
     "output_type": "stream",
     "text": [
      "\rDictClassTransformer_PUNCT fit:  11%|█▏        | 1178059/10468770 [00:01<00:11, 794638.48it/s]"
     ]
    },
    {
     "name": "stderr",
     "output_type": "stream",
     "text": [
      "\rDictClassTransformer_PUNCT fit:  12%|█▏        | 1262452/10468770 [00:01<00:12, 737164.53it/s]"
     ]
    },
    {
     "name": "stderr",
     "output_type": "stream",
     "text": [
      "\rDictClassTransformer_PUNCT fit:  13%|█▎        | 1340449/10468770 [00:01<00:12, 711302.35it/s]"
     ]
    },
    {
     "name": "stderr",
     "output_type": "stream",
     "text": [
      "\rDictClassTransformer_PUNCT fit:  14%|█▎        | 1414772/10468770 [00:01<00:15, 574843.04it/s]"
     ]
    },
    {
     "name": "stderr",
     "output_type": "stream",
     "text": [
      "\rDictClassTransformer_PUNCT fit:  14%|█▍        | 1484428/10468770 [00:02<00:14, 606644.35it/s]"
     ]
    },
    {
     "name": "stderr",
     "output_type": "stream",
     "text": [
      "\rDictClassTransformer_PUNCT fit:  15%|█▍        | 1569379/10468770 [00:02<00:13, 663553.62it/s]"
     ]
    },
    {
     "name": "stderr",
     "output_type": "stream",
     "text": [
      "\rDictClassTransformer_PUNCT fit:  16%|█▌        | 1658578/10468770 [00:02<00:12, 699940.80it/s]"
     ]
    },
    {
     "name": "stderr",
     "output_type": "stream",
     "text": [
      "\rDictClassTransformer_PUNCT fit:  17%|█▋        | 1732667/10468770 [00:02<00:12, 676153.89it/s]"
     ]
    },
    {
     "name": "stderr",
     "output_type": "stream",
     "text": [
      "\rDictClassTransformer_PUNCT fit:  17%|█▋        | 1805558/10468770 [00:02<00:12, 691160.80it/s]"
     ]
    },
    {
     "name": "stderr",
     "output_type": "stream",
     "text": [
      "\rDictClassTransformer_PUNCT fit:  18%|█▊        | 1893509/10468770 [00:02<00:11, 738611.52it/s]"
     ]
    },
    {
     "name": "stderr",
     "output_type": "stream",
     "text": [
      "\rDictClassTransformer_PUNCT fit:  19%|█▉        | 1981533/10468770 [00:02<00:10, 776069.70it/s]"
     ]
    },
    {
     "name": "stderr",
     "output_type": "stream",
     "text": [
      "\rDictClassTransformer_PUNCT fit:  20%|█▉        | 2084343/10468770 [00:02<00:10, 837672.65it/s]"
     ]
    },
    {
     "name": "stderr",
     "output_type": "stream",
     "text": [
      "\rDictClassTransformer_PUNCT fit:  21%|██        | 2184273/10468770 [00:02<00:09, 880388.59it/s]"
     ]
    },
    {
     "name": "stderr",
     "output_type": "stream",
     "text": [
      "\rDictClassTransformer_PUNCT fit:  22%|██▏       | 2285874/10468770 [00:02<00:08, 917112.59it/s]"
     ]
    },
    {
     "name": "stderr",
     "output_type": "stream",
     "text": [
      "\rDictClassTransformer_PUNCT fit:  23%|██▎       | 2390182/10468770 [00:03<00:08, 951585.87it/s]"
     ]
    },
    {
     "name": "stderr",
     "output_type": "stream",
     "text": [
      "\rDictClassTransformer_PUNCT fit:  24%|██▍       | 2493484/10468770 [00:03<00:08, 974634.96it/s]"
     ]
    },
    {
     "name": "stderr",
     "output_type": "stream",
     "text": [
      "\rDictClassTransformer_PUNCT fit:  25%|██▍       | 2601583/10468770 [00:03<00:07, 1004274.81it/s]"
     ]
    },
    {
     "name": "stderr",
     "output_type": "stream",
     "text": [
      "\rDictClassTransformer_PUNCT fit:  26%|██▌       | 2710995/10468770 [00:03<00:07, 1029639.49it/s]"
     ]
    },
    {
     "name": "stderr",
     "output_type": "stream",
     "text": [
      "\rDictClassTransformer_PUNCT fit:  27%|██▋       | 2821832/10468770 [00:03<00:07, 1052058.23it/s]"
     ]
    },
    {
     "name": "stderr",
     "output_type": "stream",
     "text": [
      "\rDictClassTransformer_PUNCT fit:  28%|██▊       | 2927885/10468770 [00:03<00:07, 992024.66it/s] "
     ]
    },
    {
     "name": "stderr",
     "output_type": "stream",
     "text": [
      "\rDictClassTransformer_PUNCT fit:  29%|██▉       | 3028386/10468770 [00:03<00:07, 989247.47it/s]"
     ]
    },
    {
     "name": "stderr",
     "output_type": "stream",
     "text": [
      "\rDictClassTransformer_PUNCT fit:  30%|██▉       | 3132809/10468770 [00:03<00:07, 1005118.57it/s]"
     ]
    },
    {
     "name": "stderr",
     "output_type": "stream",
     "text": [
      "\rDictClassTransformer_PUNCT fit:  31%|███       | 3234020/10468770 [00:03<00:07, 951148.99it/s] "
     ]
    },
    {
     "name": "stderr",
     "output_type": "stream",
     "text": [
      "\rDictClassTransformer_PUNCT fit:  32%|███▏      | 3330944/10468770 [00:04<00:07, 956504.58it/s]"
     ]
    },
    {
     "name": "stderr",
     "output_type": "stream",
     "text": [
      "\rDictClassTransformer_PUNCT fit:  33%|███▎      | 3427365/10468770 [00:04<00:07, 907813.67it/s]"
     ]
    },
    {
     "name": "stderr",
     "output_type": "stream",
     "text": [
      "\rDictClassTransformer_PUNCT fit:  34%|███▎      | 3519203/10468770 [00:04<00:07, 892484.09it/s]"
     ]
    },
    {
     "name": "stderr",
     "output_type": "stream",
     "text": [
      "\rDictClassTransformer_PUNCT fit:  34%|███▍      | 3609249/10468770 [00:04<00:08, 792539.21it/s]"
     ]
    },
    {
     "name": "stderr",
     "output_type": "stream",
     "text": [
      "\rDictClassTransformer_PUNCT fit:  35%|███▌      | 3706431/10468770 [00:04<00:08, 838970.77it/s]"
     ]
    },
    {
     "name": "stderr",
     "output_type": "stream",
     "text": [
      "\rDictClassTransformer_PUNCT fit:  36%|███▌      | 3792904/10468770 [00:04<00:07, 835649.30it/s]"
     ]
    },
    {
     "name": "stderr",
     "output_type": "stream",
     "text": [
      "\rDictClassTransformer_PUNCT fit:  37%|███▋      | 3879286/10468770 [00:04<00:07, 843903.56it/s]"
     ]
    },
    {
     "name": "stderr",
     "output_type": "stream",
     "text": [
      "\rDictClassTransformer_PUNCT fit:  38%|███▊      | 3981653/10468770 [00:04<00:07, 890833.38it/s]"
     ]
    },
    {
     "name": "stderr",
     "output_type": "stream",
     "text": [
      "\rDictClassTransformer_PUNCT fit:  39%|███▉      | 4072335/10468770 [00:04<00:07, 884451.25it/s]"
     ]
    },
    {
     "name": "stderr",
     "output_type": "stream",
     "text": [
      "\rDictClassTransformer_PUNCT fit:  40%|███▉      | 4174216/10468770 [00:05<00:06, 920880.08it/s]"
     ]
    },
    {
     "name": "stderr",
     "output_type": "stream",
     "text": [
      "\rDictClassTransformer_PUNCT fit:  41%|████      | 4267482/10468770 [00:05<00:07, 833473.27it/s]"
     ]
    },
    {
     "name": "stderr",
     "output_type": "stream",
     "text": [
      "\rDictClassTransformer_PUNCT fit:  42%|████▏     | 4374453/10468770 [00:05<00:06, 892610.71it/s]"
     ]
    },
    {
     "name": "stderr",
     "output_type": "stream",
     "text": [
      "\rDictClassTransformer_PUNCT fit:  43%|████▎     | 4482997/10468770 [00:05<00:06, 942858.59it/s]"
     ]
    },
    {
     "name": "stderr",
     "output_type": "stream",
     "text": [
      "\rDictClassTransformer_PUNCT fit:  44%|████▍     | 4594311/10468770 [00:05<00:05, 988206.80it/s]"
     ]
    },
    {
     "name": "stderr",
     "output_type": "stream",
     "text": [
      "\rDictClassTransformer_PUNCT fit:  45%|████▍     | 4706389/10468770 [00:05<00:05, 1024563.39it/s]"
     ]
    },
    {
     "name": "stderr",
     "output_type": "stream",
     "text": [
      "\rDictClassTransformer_PUNCT fit:  46%|████▌     | 4819380/10468770 [00:05<00:05, 1054040.07it/s]"
     ]
    },
    {
     "name": "stderr",
     "output_type": "stream",
     "text": [
      "\rDictClassTransformer_PUNCT fit:  47%|████▋     | 4931679/10468770 [00:05<00:05, 1073813.03it/s]"
     ]
    },
    {
     "name": "stderr",
     "output_type": "stream",
     "text": [
      "\rDictClassTransformer_PUNCT fit:  48%|████▊     | 5042982/10468770 [00:05<00:04, 1085282.12it/s]"
     ]
    },
    {
     "name": "stderr",
     "output_type": "stream",
     "text": [
      "\rDictClassTransformer_PUNCT fit:  49%|████▉     | 5152426/10468770 [00:05<00:04, 1067572.52it/s]"
     ]
    },
    {
     "name": "stderr",
     "output_type": "stream",
     "text": [
      "\rDictClassTransformer_PUNCT fit:  50%|█████     | 5262131/10468770 [00:06<00:04, 1076245.36it/s]"
     ]
    },
    {
     "name": "stderr",
     "output_type": "stream",
     "text": [
      "\rDictClassTransformer_PUNCT fit:  51%|█████▏    | 5370267/10468770 [00:06<00:04, 1050391.08it/s]"
     ]
    },
    {
     "name": "stderr",
     "output_type": "stream",
     "text": [
      "\rDictClassTransformer_PUNCT fit:  52%|█████▏    | 5475801/10468770 [00:06<00:05, 945653.13it/s] "
     ]
    },
    {
     "name": "stderr",
     "output_type": "stream",
     "text": [
      "\rDictClassTransformer_PUNCT fit:  53%|█████▎    | 5586586/10468770 [00:06<00:04, 989094.01it/s]"
     ]
    },
    {
     "name": "stderr",
     "output_type": "stream",
     "text": [
      "\rDictClassTransformer_PUNCT fit:  54%|█████▍    | 5687644/10468770 [00:06<00:04, 963673.48it/s]"
     ]
    },
    {
     "name": "stderr",
     "output_type": "stream",
     "text": [
      "\rDictClassTransformer_PUNCT fit:  55%|█████▌    | 5799559/10468770 [00:06<00:04, 1005582.91it/s]"
     ]
    },
    {
     "name": "stderr",
     "output_type": "stream",
     "text": [
      "\rDictClassTransformer_PUNCT fit:  57%|█████▋    | 5916884/10468770 [00:06<00:04, 1050623.41it/s]"
     ]
    },
    {
     "name": "stderr",
     "output_type": "stream",
     "text": [
      "\rDictClassTransformer_PUNCT fit:  58%|█████▊    | 6026463/10468770 [00:06<00:04, 1063774.14it/s]"
     ]
    },
    {
     "name": "stderr",
     "output_type": "stream",
     "text": [
      "\rDictClassTransformer_PUNCT fit:  59%|█████▊    | 6139268/10468770 [00:06<00:04, 1082271.74it/s]"
     ]
    },
    {
     "name": "stderr",
     "output_type": "stream",
     "text": [
      "\rDictClassTransformer_PUNCT fit:  60%|█████▉    | 6248417/10468770 [00:07<00:04, 901696.92it/s] "
     ]
    },
    {
     "name": "stderr",
     "output_type": "stream",
     "text": [
      "\rDictClassTransformer_PUNCT fit:  61%|██████    | 6344292/10468770 [00:07<00:04, 914571.76it/s]"
     ]
    },
    {
     "name": "stderr",
     "output_type": "stream",
     "text": [
      "\rDictClassTransformer_PUNCT fit:  62%|██████▏   | 6439788/10468770 [00:07<00:04, 868441.70it/s]"
     ]
    },
    {
     "name": "stderr",
     "output_type": "stream",
     "text": [
      "\rDictClassTransformer_PUNCT fit:  62%|██████▏   | 6529945/10468770 [00:07<00:04, 877414.12it/s]"
     ]
    },
    {
     "name": "stderr",
     "output_type": "stream",
     "text": [
      "\rDictClassTransformer_PUNCT fit:  63%|██████▎   | 6620028/10468770 [00:07<00:04, 813376.41it/s]"
     ]
    },
    {
     "name": "stderr",
     "output_type": "stream",
     "text": [
      "\rDictClassTransformer_PUNCT fit:  64%|██████▍   | 6720734/10468770 [00:07<00:04, 863179.61it/s]"
     ]
    },
    {
     "name": "stderr",
     "output_type": "stream",
     "text": [
      "\rDictClassTransformer_PUNCT fit:  65%|██████▌   | 6830001/10468770 [00:07<00:03, 920988.99it/s]"
     ]
    },
    {
     "name": "stderr",
     "output_type": "stream",
     "text": [
      "\rDictClassTransformer_PUNCT fit:  66%|██████▋   | 6938510/10468770 [00:07<00:03, 964757.74it/s]"
     ]
    },
    {
     "name": "stderr",
     "output_type": "stream",
     "text": [
      "\rDictClassTransformer_PUNCT fit:  67%|██████▋   | 7044415/10468770 [00:07<00:03, 991230.97it/s]"
     ]
    },
    {
     "name": "stderr",
     "output_type": "stream",
     "text": [
      "\rDictClassTransformer_PUNCT fit:  68%|██████▊   | 7154255/10468770 [00:08<00:03, 1021117.20it/s]"
     ]
    },
    {
     "name": "stderr",
     "output_type": "stream",
     "text": [
      "\rDictClassTransformer_PUNCT fit:  69%|██████▉   | 7268943/10468770 [00:08<00:03, 1055848.28it/s]"
     ]
    },
    {
     "name": "stderr",
     "output_type": "stream",
     "text": [
      "\rDictClassTransformer_PUNCT fit:  70%|███████   | 7379833/10468770 [00:08<00:02, 1071219.63it/s]"
     ]
    },
    {
     "name": "stderr",
     "output_type": "stream",
     "text": [
      "\rDictClassTransformer_PUNCT fit:  72%|███████▏  | 7490289/10468770 [00:08<00:02, 1081005.75it/s]"
     ]
    },
    {
     "name": "stderr",
     "output_type": "stream",
     "text": [
      "\rDictClassTransformer_PUNCT fit:  73%|███████▎  | 7600237/10468770 [00:08<00:02, 1086482.05it/s]"
     ]
    },
    {
     "name": "stderr",
     "output_type": "stream",
     "text": [
      "\rDictClassTransformer_PUNCT fit:  74%|███████▎  | 7718584/10468770 [00:08<00:02, 1113860.75it/s]"
     ]
    },
    {
     "name": "stderr",
     "output_type": "stream",
     "text": [
      "\rDictClassTransformer_PUNCT fit:  75%|███████▍  | 7836735/10468770 [00:08<00:02, 1133325.11it/s]"
     ]
    },
    {
     "name": "stderr",
     "output_type": "stream",
     "text": [
      "\rDictClassTransformer_PUNCT fit:  76%|███████▌  | 7954076/10468770 [00:08<00:02, 1145059.56it/s]"
     ]
    },
    {
     "name": "stderr",
     "output_type": "stream",
     "text": [
      "\rDictClassTransformer_PUNCT fit:  77%|███████▋  | 8074493/10468770 [00:08<00:02, 1162171.35it/s]"
     ]
    },
    {
     "name": "stderr",
     "output_type": "stream",
     "text": [
      "\rDictClassTransformer_PUNCT fit:  78%|███████▊  | 8191022/10468770 [00:08<00:02, 1135410.22it/s]"
     ]
    },
    {
     "name": "stderr",
     "output_type": "stream",
     "text": [
      "\rDictClassTransformer_PUNCT fit:  79%|███████▉  | 8304918/10468770 [00:09<00:01, 1136054.78it/s]"
     ]
    },
    {
     "name": "stderr",
     "output_type": "stream",
     "text": [
      "\rDictClassTransformer_PUNCT fit:  80%|████████  | 8418772/10468770 [00:09<00:01, 1122565.46it/s]"
     ]
    },
    {
     "name": "stderr",
     "output_type": "stream",
     "text": [
      "\rDictClassTransformer_PUNCT fit:  81%|████████▏ | 8531239/10468770 [00:09<00:01, 1115751.52it/s]"
     ]
    },
    {
     "name": "stderr",
     "output_type": "stream",
     "text": [
      "\rDictClassTransformer_PUNCT fit:  83%|████████▎ | 8644724/10468770 [00:09<00:01, 1121412.75it/s]"
     ]
    },
    {
     "name": "stderr",
     "output_type": "stream",
     "text": [
      "\rDictClassTransformer_PUNCT fit:  84%|████████▎ | 8756982/10468770 [00:09<00:01, 1020492.01it/s]"
     ]
    },
    {
     "name": "stderr",
     "output_type": "stream",
     "text": [
      "\rDictClassTransformer_PUNCT fit:  85%|████████▍ | 8867237/10468770 [00:09<00:01, 1043797.18it/s]"
     ]
    },
    {
     "name": "stderr",
     "output_type": "stream",
     "text": [
      "\rDictClassTransformer_PUNCT fit:  86%|████████▌ | 8983431/10468770 [00:09<00:01, 1076637.62it/s]"
     ]
    },
    {
     "name": "stderr",
     "output_type": "stream",
     "text": [
      "\rDictClassTransformer_PUNCT fit:  87%|████████▋ | 9098529/10468770 [00:09<00:01, 1097909.33it/s]"
     ]
    },
    {
     "name": "stderr",
     "output_type": "stream",
     "text": [
      "\rDictClassTransformer_PUNCT fit:  88%|████████▊ | 9209298/10468770 [00:09<00:01, 1083122.38it/s]"
     ]
    },
    {
     "name": "stderr",
     "output_type": "stream",
     "text": [
      "\rDictClassTransformer_PUNCT fit:  89%|████████▉ | 9320181/10468770 [00:09<00:01, 1090705.10it/s]"
     ]
    },
    {
     "name": "stderr",
     "output_type": "stream",
     "text": [
      "\rDictClassTransformer_PUNCT fit:  90%|█████████ | 9434422/10468770 [00:10<00:00, 1105711.79it/s]"
     ]
    },
    {
     "name": "stderr",
     "output_type": "stream",
     "text": [
      "\rDictClassTransformer_PUNCT fit:  91%|█████████ | 9545542/10468770 [00:10<00:00, 1107349.71it/s]"
     ]
    },
    {
     "name": "stderr",
     "output_type": "stream",
     "text": [
      "\rDictClassTransformer_PUNCT fit:  92%|█████████▏| 9660283/10468770 [00:10<00:00, 1119070.50it/s]"
     ]
    },
    {
     "name": "stderr",
     "output_type": "stream",
     "text": [
      "\rDictClassTransformer_PUNCT fit:  93%|█████████▎| 9776330/10468770 [00:10<00:00, 1131176.37it/s]"
     ]
    },
    {
     "name": "stderr",
     "output_type": "stream",
     "text": [
      "\rDictClassTransformer_PUNCT fit:  94%|█████████▍| 9889643/10468770 [00:10<00:00, 1102603.32it/s]"
     ]
    },
    {
     "name": "stderr",
     "output_type": "stream",
     "text": [
      "\rDictClassTransformer_PUNCT fit:  96%|█████████▌| 10000199/10468770 [00:10<00:00, 1071275.57it/s]"
     ]
    },
    {
     "name": "stderr",
     "output_type": "stream",
     "text": [
      "\rDictClassTransformer_PUNCT fit:  97%|█████████▋| 10112616/10468770 [00:10<00:00, 1086217.56it/s]"
     ]
    },
    {
     "name": "stderr",
     "output_type": "stream",
     "text": [
      "\rDictClassTransformer_PUNCT fit:  98%|█████████▊| 10225313/10468770 [00:10<00:00, 1098129.97it/s]"
     ]
    },
    {
     "name": "stderr",
     "output_type": "stream",
     "text": [
      "\rDictClassTransformer_PUNCT fit:  99%|█████████▉| 10339088/10468770 [00:10<00:00, 1109720.40it/s]"
     ]
    },
    {
     "name": "stderr",
     "output_type": "stream",
     "text": [
      "\rDictClassTransformer_PUNCT fit: 100%|█████████▉| 10450274/10468770 [00:11<00:00, 963044.26it/s] "
     ]
    },
    {
     "name": "stderr",
     "output_type": "stream",
     "text": [
      "\rDictClassTransformer_PUNCT fit: 100%|██████████| 10468770/10468770 [00:11<00:00, 929141.64it/s]"
     ]
    },
    {
     "name": "stderr",
     "output_type": "stream",
     "text": [
      "\n\rDictClassTransformer_VERBATIM fit:   0%|          | 0/10468770 [00:00<?, ?it/s]"
     ]
    },
    {
     "name": "stderr",
     "output_type": "stream",
     "text": [
      "\rDictClassTransformer_VERBATIM fit:   1%|          | 95167/10468770 [00:00<00:10, 951664.10it/s]"
     ]
    },
    {
     "name": "stderr",
     "output_type": "stream",
     "text": [
      "\rDictClassTransformer_VERBATIM fit:   2%|▏         | 204231/10468770 [00:00<00:10, 989489.75it/s]"
     ]
    },
    {
     "name": "stderr",
     "output_type": "stream",
     "text": [
      "\rDictClassTransformer_VERBATIM fit:   3%|▎         | 319981/10468770 [00:00<00:09, 1034536.11it/s]"
     ]
    },
    {
     "name": "stderr",
     "output_type": "stream",
     "text": [
      "\rDictClassTransformer_VERBATIM fit:   4%|▍         | 436716/10468770 [00:00<00:09, 1071094.46it/s]"
     ]
    },
    {
     "name": "stderr",
     "output_type": "stream",
     "text": [
      "\rDictClassTransformer_VERBATIM fit:   5%|▍         | 521869/10468770 [00:02<01:08, 144261.86it/s] "
     ]
    },
    {
     "name": "stderr",
     "output_type": "stream",
     "text": [
      "\rDictClassTransformer_VERBATIM fit:   6%|▌         | 610264/10468770 [00:02<00:51, 192616.11it/s]"
     ]
    },
    {
     "name": "stderr",
     "output_type": "stream",
     "text": [
      "\rDictClassTransformer_VERBATIM fit:   7%|▋         | 707609/10468770 [00:02<00:38, 253655.40it/s]"
     ]
    },
    {
     "name": "stderr",
     "output_type": "stream",
     "text": [
      "\rDictClassTransformer_VERBATIM fit:   8%|▊         | 811535/10468770 [00:02<00:29, 328048.92it/s]"
     ]
    },
    {
     "name": "stderr",
     "output_type": "stream",
     "text": [
      "\rDictClassTransformer_VERBATIM fit:   9%|▉         | 919936/10468770 [00:02<00:23, 414837.24it/s]"
     ]
    },
    {
     "name": "stderr",
     "output_type": "stream",
     "text": [
      "\rDictClassTransformer_VERBATIM fit:  10%|▉         | 1021185/10468770 [00:02<00:18, 504104.91it/s]"
     ]
    },
    {
     "name": "stderr",
     "output_type": "stream",
     "text": [
      "\rDictClassTransformer_VERBATIM fit:  11%|█         | 1135030/10468770 [00:02<00:15, 605283.31it/s]"
     ]
    },
    {
     "name": "stderr",
     "output_type": "stream",
     "text": [
      "\rDictClassTransformer_VERBATIM fit:  12%|█▏        | 1235724/10468770 [00:02<00:13, 685048.21it/s]"
     ]
    },
    {
     "name": "stderr",
     "output_type": "stream",
     "text": [
      "\rDictClassTransformer_VERBATIM fit:  13%|█▎        | 1335886/10468770 [00:02<00:12, 738847.19it/s]"
     ]
    },
    {
     "name": "stderr",
     "output_type": "stream",
     "text": [
      "\rDictClassTransformer_VERBATIM fit:  14%|█▎        | 1433138/10468770 [00:03<00:11, 794692.48it/s]"
     ]
    },
    {
     "name": "stderr",
     "output_type": "stream",
     "text": [
      "\rDictClassTransformer_VERBATIM fit:  15%|█▍        | 1530160/10468770 [00:03<00:10, 822796.34it/s]"
     ]
    },
    {
     "name": "stderr",
     "output_type": "stream",
     "text": [
      "\rDictClassTransformer_VERBATIM fit:  16%|█▌        | 1624980/10468770 [00:03<00:10, 845342.17it/s]"
     ]
    },
    {
     "name": "stderr",
     "output_type": "stream",
     "text": [
      "\rDictClassTransformer_VERBATIM fit:  17%|█▋        | 1731529/10468770 [00:03<00:09, 901202.88it/s]"
     ]
    },
    {
     "name": "stderr",
     "output_type": "stream",
     "text": [
      "\rDictClassTransformer_VERBATIM fit:  18%|█▊        | 1833293/10468770 [00:03<00:09, 933234.62it/s]"
     ]
    },
    {
     "name": "stderr",
     "output_type": "stream",
     "text": [
      "\rDictClassTransformer_VERBATIM fit:  19%|█▊        | 1949623/10468770 [00:03<00:08, 992096.22it/s]"
     ]
    },
    {
     "name": "stderr",
     "output_type": "stream",
     "text": [
      "\rDictClassTransformer_VERBATIM fit:  20%|█▉        | 2077014/10468770 [00:03<00:07, 1062615.48it/s]"
     ]
    },
    {
     "name": "stderr",
     "output_type": "stream",
     "text": [
      "\rDictClassTransformer_VERBATIM fit:  21%|██        | 2208470/10468770 [00:03<00:07, 1127439.57it/s]"
     ]
    },
    {
     "name": "stderr",
     "output_type": "stream",
     "text": [
      "\rDictClassTransformer_VERBATIM fit:  22%|██▏       | 2342637/10468770 [00:03<00:06, 1184161.09it/s]"
     ]
    },
    {
     "name": "stderr",
     "output_type": "stream",
     "text": [
      "\rDictClassTransformer_VERBATIM fit:  24%|██▎       | 2485511/10468770 [00:04<00:06, 1248265.98it/s]"
     ]
    },
    {
     "name": "stderr",
     "output_type": "stream",
     "text": [
      "\rDictClassTransformer_VERBATIM fit:  25%|██▌       | 2626856/10468770 [00:04<00:06, 1293616.93it/s]"
     ]
    },
    {
     "name": "stderr",
     "output_type": "stream",
     "text": [
      "\rDictClassTransformer_VERBATIM fit:  26%|██▋       | 2771434/10468770 [00:04<00:05, 1335792.61it/s]"
     ]
    },
    {
     "name": "stderr",
     "output_type": "stream",
     "text": [
      "\rDictClassTransformer_VERBATIM fit:  28%|██▊       | 2918710/10468770 [00:04<00:05, 1374126.84it/s]"
     ]
    },
    {
     "name": "stderr",
     "output_type": "stream",
     "text": [
      "\rDictClassTransformer_VERBATIM fit:  29%|██▉       | 3061635/10468770 [00:04<00:05, 1390208.63it/s]"
     ]
    },
    {
     "name": "stderr",
     "output_type": "stream",
     "text": [
      "\rDictClassTransformer_VERBATIM fit:  31%|███       | 3202075/10468770 [00:04<00:05, 1391592.94it/s]"
     ]
    },
    {
     "name": "stderr",
     "output_type": "stream",
     "text": [
      "\rDictClassTransformer_VERBATIM fit:  32%|███▏      | 3342228/10468770 [00:04<00:05, 1351434.77it/s]"
     ]
    },
    {
     "name": "stderr",
     "output_type": "stream",
     "text": [
      "\rDictClassTransformer_VERBATIM fit:  33%|███▎      | 3478321/10468770 [00:04<00:05, 1344213.37it/s]"
     ]
    },
    {
     "name": "stderr",
     "output_type": "stream",
     "text": [
      "\rDictClassTransformer_VERBATIM fit:  35%|███▍      | 3613416/10468770 [00:04<00:05, 1341115.59it/s]"
     ]
    },
    {
     "name": "stderr",
     "output_type": "stream",
     "text": [
      "\rDictClassTransformer_VERBATIM fit:  36%|███▌      | 3750942/10468770 [00:04<00:04, 1351176.14it/s]"
     ]
    },
    {
     "name": "stderr",
     "output_type": "stream",
     "text": [
      "\rDictClassTransformer_VERBATIM fit:  37%|███▋      | 3893410/10468770 [00:05<00:04, 1372417.83it/s]"
     ]
    },
    {
     "name": "stderr",
     "output_type": "stream",
     "text": [
      "\rDictClassTransformer_VERBATIM fit:  39%|███▊      | 4039872/10468770 [00:05<00:04, 1398832.65it/s]"
     ]
    },
    {
     "name": "stderr",
     "output_type": "stream",
     "text": [
      "\rDictClassTransformer_VERBATIM fit:  40%|████      | 4187577/10468770 [00:05<00:04, 1421413.40it/s]"
     ]
    },
    {
     "name": "stderr",
     "output_type": "stream",
     "text": [
      "\rDictClassTransformer_VERBATIM fit:  41%|████▏     | 4337494/10468770 [00:05<00:04, 1443876.50it/s]"
     ]
    },
    {
     "name": "stderr",
     "output_type": "stream",
     "text": [
      "\rDictClassTransformer_VERBATIM fit:  43%|████▎     | 4482202/10468770 [00:05<00:04, 1416315.40it/s]"
     ]
    },
    {
     "name": "stderr",
     "output_type": "stream",
     "text": [
      "\rDictClassTransformer_VERBATIM fit:  44%|████▍     | 4633968/10468770 [00:05<00:04, 1445267.97it/s]"
     ]
    },
    {
     "name": "stderr",
     "output_type": "stream",
     "text": [
      "\rDictClassTransformer_VERBATIM fit:  46%|████▌     | 4783820/10468770 [00:05<00:03, 1460838.23it/s]"
     ]
    },
    {
     "name": "stderr",
     "output_type": "stream",
     "text": [
      "\rDictClassTransformer_VERBATIM fit:  47%|████▋     | 4930213/10468770 [00:05<00:03, 1447400.09it/s]"
     ]
    },
    {
     "name": "stderr",
     "output_type": "stream",
     "text": [
      "\rDictClassTransformer_VERBATIM fit:  49%|████▊     | 5078671/10468770 [00:05<00:03, 1458352.33it/s]"
     ]
    },
    {
     "name": "stderr",
     "output_type": "stream",
     "text": [
      "\rDictClassTransformer_VERBATIM fit:  50%|████▉     | 5224836/10468770 [00:05<00:03, 1459336.32it/s]"
     ]
    },
    {
     "name": "stderr",
     "output_type": "stream",
     "text": [
      "\rDictClassTransformer_VERBATIM fit:  51%|█████▏    | 5373782/10468770 [00:06<00:03, 1468244.08it/s]"
     ]
    },
    {
     "name": "stderr",
     "output_type": "stream",
     "text": [
      "\rDictClassTransformer_VERBATIM fit:  53%|█████▎    | 5523125/10468770 [00:06<00:03, 1475701.24it/s]"
     ]
    },
    {
     "name": "stderr",
     "output_type": "stream",
     "text": [
      "\rDictClassTransformer_VERBATIM fit:  54%|█████▍    | 5672180/10468770 [00:06<00:03, 1480120.92it/s]"
     ]
    },
    {
     "name": "stderr",
     "output_type": "stream",
     "text": [
      "\rDictClassTransformer_VERBATIM fit:  56%|█████▌    | 5820850/10468770 [00:06<00:03, 1482087.89it/s]"
     ]
    },
    {
     "name": "stderr",
     "output_type": "stream",
     "text": [
      "\rDictClassTransformer_VERBATIM fit:  57%|█████▋    | 5971426/10468770 [00:06<00:03, 1489106.16it/s]"
     ]
    },
    {
     "name": "stderr",
     "output_type": "stream",
     "text": [
      "\rDictClassTransformer_VERBATIM fit:  58%|█████▊    | 6123136/10468770 [00:06<00:02, 1497391.42it/s]"
     ]
    },
    {
     "name": "stderr",
     "output_type": "stream",
     "text": [
      "\rDictClassTransformer_VERBATIM fit:  60%|█████▉    | 6272913/10468770 [00:06<00:02, 1484816.47it/s]"
     ]
    },
    {
     "name": "stderr",
     "output_type": "stream",
     "text": [
      "\rDictClassTransformer_VERBATIM fit:  61%|██████▏   | 6421479/10468770 [00:06<00:02, 1485064.54it/s]"
     ]
    },
    {
     "name": "stderr",
     "output_type": "stream",
     "text": [
      "\rDictClassTransformer_VERBATIM fit:  63%|██████▎   | 6570021/10468770 [00:06<00:02, 1480259.74it/s]"
     ]
    },
    {
     "name": "stderr",
     "output_type": "stream",
     "text": [
      "\rDictClassTransformer_VERBATIM fit:  64%|██████▍   | 6718076/10468770 [00:06<00:02, 1472453.67it/s]"
     ]
    },
    {
     "name": "stderr",
     "output_type": "stream",
     "text": [
      "\rDictClassTransformer_VERBATIM fit:  66%|██████▌   | 6866943/10468770 [00:07<00:02, 1477277.58it/s]"
     ]
    },
    {
     "name": "stderr",
     "output_type": "stream",
     "text": [
      "\rDictClassTransformer_VERBATIM fit:  67%|██████▋   | 7014696/10468770 [00:07<00:02, 1450140.28it/s]"
     ]
    },
    {
     "name": "stderr",
     "output_type": "stream",
     "text": [
      "\rDictClassTransformer_VERBATIM fit:  68%|██████▊   | 7159839/10468770 [00:07<00:02, 1439380.43it/s]"
     ]
    },
    {
     "name": "stderr",
     "output_type": "stream",
     "text": [
      "\rDictClassTransformer_VERBATIM fit:  70%|██████▉   | 7303886/10468770 [00:07<00:02, 1426478.24it/s]"
     ]
    },
    {
     "name": "stderr",
     "output_type": "stream",
     "text": [
      "\rDictClassTransformer_VERBATIM fit:  71%|███████   | 7448988/10468770 [00:07<00:02, 1433749.51it/s]"
     ]
    },
    {
     "name": "stderr",
     "output_type": "stream",
     "text": [
      "\rDictClassTransformer_VERBATIM fit:  73%|███████▎  | 7599191/10468770 [00:07<00:01, 1453572.21it/s]"
     ]
    },
    {
     "name": "stderr",
     "output_type": "stream",
     "text": [
      "\rDictClassTransformer_VERBATIM fit:  74%|███████▍  | 7744671/10468770 [00:07<00:03, 790299.46it/s] "
     ]
    },
    {
     "name": "stderr",
     "output_type": "stream",
     "text": [
      "\rDictClassTransformer_VERBATIM fit:  75%|███████▌  | 7868270/10468770 [00:08<00:02, 886160.87it/s]"
     ]
    },
    {
     "name": "stderr",
     "output_type": "stream",
     "text": [
      "\rDictClassTransformer_VERBATIM fit:  76%|███████▋  | 7994092/10468770 [00:08<00:02, 972423.61it/s]"
     ]
    },
    {
     "name": "stderr",
     "output_type": "stream",
     "text": [
      "\rDictClassTransformer_VERBATIM fit:  78%|███████▊  | 8135784/10468770 [00:08<00:02, 1073447.38it/s]"
     ]
    },
    {
     "name": "stderr",
     "output_type": "stream",
     "text": [
      "\rDictClassTransformer_VERBATIM fit:  79%|███████▉  | 8280580/10468770 [00:08<00:01, 1163744.78it/s]"
     ]
    },
    {
     "name": "stderr",
     "output_type": "stream",
     "text": [
      "\rDictClassTransformer_VERBATIM fit:  80%|████████  | 8416588/10468770 [00:08<00:01, 1216421.28it/s]"
     ]
    },
    {
     "name": "stderr",
     "output_type": "stream",
     "text": [
      "\rDictClassTransformer_VERBATIM fit:  82%|████████▏ | 8558700/10468770 [00:08<00:01, 1271358.94it/s]"
     ]
    },
    {
     "name": "stderr",
     "output_type": "stream",
     "text": [
      "\rDictClassTransformer_VERBATIM fit:  83%|████████▎ | 8694387/10468770 [00:08<00:01, 1278127.69it/s]"
     ]
    },
    {
     "name": "stderr",
     "output_type": "stream",
     "text": [
      "\rDictClassTransformer_VERBATIM fit:  84%|████████▍ | 8829187/10468770 [00:08<00:01, 1298316.26it/s]"
     ]
    },
    {
     "name": "stderr",
     "output_type": "stream",
     "text": [
      "\rDictClassTransformer_VERBATIM fit:  86%|████████▌ | 8963292/10468770 [00:08<00:01, 1308265.91it/s]"
     ]
    },
    {
     "name": "stderr",
     "output_type": "stream",
     "text": [
      "\rDictClassTransformer_VERBATIM fit:  87%|████████▋ | 9107276/10468770 [00:08<00:01, 1345138.82it/s]"
     ]
    },
    {
     "name": "stderr",
     "output_type": "stream",
     "text": [
      "\rDictClassTransformer_VERBATIM fit:  88%|████████▊ | 9254753/10468770 [00:09<00:00, 1381566.27it/s]"
     ]
    },
    {
     "name": "stderr",
     "output_type": "stream",
     "text": [
      "\rDictClassTransformer_VERBATIM fit:  90%|████████▉ | 9404579/10468770 [00:09<00:00, 1414611.85it/s]"
     ]
    },
    {
     "name": "stderr",
     "output_type": "stream",
     "text": [
      "\rDictClassTransformer_VERBATIM fit:  91%|█████████▏| 9556497/10468770 [00:09<00:00, 1444434.41it/s]"
     ]
    },
    {
     "name": "stderr",
     "output_type": "stream",
     "text": [
      "\rDictClassTransformer_VERBATIM fit:  93%|█████████▎| 9705100/10468770 [00:09<00:00, 1456661.81it/s]"
     ]
    },
    {
     "name": "stderr",
     "output_type": "stream",
     "text": [
      "\rDictClassTransformer_VERBATIM fit:  94%|█████████▍| 9851647/10468770 [00:09<00:00, 1434430.42it/s]"
     ]
    },
    {
     "name": "stderr",
     "output_type": "stream",
     "text": [
      "\rDictClassTransformer_VERBATIM fit:  95%|█████████▌| 9995783/10468770 [00:09<00:00, 1429812.44it/s]"
     ]
    },
    {
     "name": "stderr",
     "output_type": "stream",
     "text": [
      "\rDictClassTransformer_VERBATIM fit:  97%|█████████▋| 10139253/10468770 [00:09<00:00, 1398376.83it/s]"
     ]
    },
    {
     "name": "stderr",
     "output_type": "stream",
     "text": [
      "\rDictClassTransformer_VERBATIM fit:  98%|█████████▊| 10279989/10468770 [00:09<00:00, 1401056.12it/s]"
     ]
    },
    {
     "name": "stderr",
     "output_type": "stream",
     "text": [
      "\rDictClassTransformer_VERBATIM fit: 100%|█████████▉| 10424645/10468770 [00:09<00:00, 1414403.24it/s]"
     ]
    },
    {
     "name": "stderr",
     "output_type": "stream",
     "text": [
      "\rDictClassTransformer_VERBATIM fit: 100%|██████████| 10468770/10468770 [00:10<00:00, 1031406.05it/s]"
     ]
    },
    {
     "name": "stderr",
     "output_type": "stream",
     "text": [
      "\n\rDictClassTransformer_DATE fit:   0%|          | 0/10468770 [00:00<?, ?it/s]"
     ]
    },
    {
     "name": "stderr",
     "output_type": "stream",
     "text": [
      "\rDictClassTransformer_DATE fit:   0%|          | 2576/10468770 [00:01<1:09:52, 2496.68it/s]"
     ]
    },
    {
     "name": "stderr",
     "output_type": "stream",
     "text": [
      "\rDictClassTransformer_DATE fit:   1%|          | 87616/10468770 [00:01<48:34, 3562.20it/s] "
     ]
    },
    {
     "name": "stderr",
     "output_type": "stream",
     "text": [
      "\rDictClassTransformer_DATE fit:   2%|▏         | 195032/10468770 [00:01<33:41, 5081.64it/s]"
     ]
    },
    {
     "name": "stderr",
     "output_type": "stream",
     "text": [
      "\rDictClassTransformer_DATE fit:   3%|▎         | 298618/10468770 [00:01<23:23, 7244.26it/s]"
     ]
    },
    {
     "name": "stderr",
     "output_type": "stream",
     "text": [
      "\rDictClassTransformer_DATE fit:   4%|▍         | 401258/10468770 [00:01<16:15, 10317.73it/s]"
     ]
    },
    {
     "name": "stderr",
     "output_type": "stream",
     "text": [
      "\rDictClassTransformer_DATE fit:   5%|▍         | 512031/10468770 [00:01<11:18, 14681.01it/s]"
     ]
    },
    {
     "name": "stderr",
     "output_type": "stream",
     "text": [
      "\rDictClassTransformer_DATE fit:   6%|▌         | 631879/10468770 [00:01<07:51, 20863.34it/s]"
     ]
    },
    {
     "name": "stderr",
     "output_type": "stream",
     "text": [
      "\rDictClassTransformer_DATE fit:   7%|▋         | 728877/10468770 [00:03<06:19, 25689.73it/s]"
     ]
    },
    {
     "name": "stderr",
     "output_type": "stream",
     "text": [
      "\rDictClassTransformer_DATE fit:   8%|▊         | 841502/10468770 [00:03<04:24, 36344.31it/s]"
     ]
    },
    {
     "name": "stderr",
     "output_type": "stream",
     "text": [
      "\rDictClassTransformer_DATE fit:   9%|▉         | 949485/10468770 [00:03<03:05, 51182.16it/s]"
     ]
    },
    {
     "name": "stderr",
     "output_type": "stream",
     "text": [
      "\rDictClassTransformer_DATE fit:  10%|█         | 1073901/10468770 [00:03<02:10, 71850.58it/s]"
     ]
    },
    {
     "name": "stderr",
     "output_type": "stream",
     "text": [
      "\rDictClassTransformer_DATE fit:  11%|█▏        | 1196673/10468770 [00:03<01:32, 100132.21it/s]"
     ]
    },
    {
     "name": "stderr",
     "output_type": "stream",
     "text": [
      "\rDictClassTransformer_DATE fit:  13%|█▎        | 1324035/10468770 [00:03<01:06, 138383.24it/s]"
     ]
    },
    {
     "name": "stderr",
     "output_type": "stream",
     "text": [
      "\rDictClassTransformer_DATE fit:  14%|█▎        | 1437231/10468770 [00:03<00:48, 187180.28it/s]"
     ]
    },
    {
     "name": "stderr",
     "output_type": "stream",
     "text": [
      "\rDictClassTransformer_DATE fit:  15%|█▍        | 1568463/10468770 [00:04<00:35, 251996.10it/s]"
     ]
    },
    {
     "name": "stderr",
     "output_type": "stream",
     "text": [
      "\rDictClassTransformer_DATE fit:  16%|█▌        | 1697664/10468770 [00:04<00:26, 332223.80it/s]"
     ]
    },
    {
     "name": "stderr",
     "output_type": "stream",
     "text": [
      "\rDictClassTransformer_DATE fit:  17%|█▋        | 1830243/10468770 [00:04<00:20, 428578.27it/s]"
     ]
    },
    {
     "name": "stderr",
     "output_type": "stream",
     "text": [
      "\rDictClassTransformer_DATE fit:  19%|█▉        | 1965869/10468770 [00:04<00:15, 539227.10it/s]"
     ]
    },
    {
     "name": "stderr",
     "output_type": "stream",
     "text": [
      "\rDictClassTransformer_DATE fit:  20%|██        | 2103787/10468770 [00:04<00:12, 659771.28it/s]"
     ]
    },
    {
     "name": "stderr",
     "output_type": "stream",
     "text": [
      "\rDictClassTransformer_DATE fit:  21%|██▏       | 2242965/10468770 [00:04<00:10, 783376.53it/s]"
     ]
    },
    {
     "name": "stderr",
     "output_type": "stream",
     "text": [
      "\rDictClassTransformer_DATE fit:  23%|██▎       | 2384644/10468770 [00:04<00:08, 904719.20it/s]"
     ]
    },
    {
     "name": "stderr",
     "output_type": "stream",
     "text": [
      "\rDictClassTransformer_DATE fit:  24%|██▍       | 2527153/10468770 [00:04<00:07, 1016018.50it/s]"
     ]
    },
    {
     "name": "stderr",
     "output_type": "stream",
     "text": [
      "\rDictClassTransformer_DATE fit:  25%|██▌       | 2664960/10468770 [00:04<00:07, 1101582.23it/s]"
     ]
    },
    {
     "name": "stderr",
     "output_type": "stream",
     "text": [
      "\rDictClassTransformer_DATE fit:  27%|██▋       | 2808363/10468770 [00:04<00:06, 1183918.76it/s]"
     ]
    },
    {
     "name": "stderr",
     "output_type": "stream",
     "text": [
      "\rDictClassTransformer_DATE fit:  28%|██▊       | 2947700/10468770 [00:05<00:06, 1238174.78it/s]"
     ]
    },
    {
     "name": "stderr",
     "output_type": "stream",
     "text": [
      "\rDictClassTransformer_DATE fit:  29%|██▉       | 3086829/10468770 [00:05<00:05, 1269323.86it/s]"
     ]
    },
    {
     "name": "stderr",
     "output_type": "stream",
     "text": [
      "\rDictClassTransformer_DATE fit:  31%|███       | 3229616/10468770 [00:05<00:05, 1313060.26it/s]"
     ]
    },
    {
     "name": "stderr",
     "output_type": "stream",
     "text": [
      "\rDictClassTransformer_DATE fit:  32%|███▏      | 3369809/10468770 [00:05<00:05, 1338514.66it/s]"
     ]
    },
    {
     "name": "stderr",
     "output_type": "stream",
     "text": [
      "\rDictClassTransformer_DATE fit:  34%|███▎      | 3514524/10468770 [00:05<00:05, 1369348.97it/s]"
     ]
    },
    {
     "name": "stderr",
     "output_type": "stream",
     "text": [
      "\rDictClassTransformer_DATE fit:  35%|███▍      | 3658614/10468770 [00:05<00:04, 1390053.41it/s]"
     ]
    },
    {
     "name": "stderr",
     "output_type": "stream",
     "text": [
      "\rDictClassTransformer_DATE fit:  36%|███▋      | 3801375/10468770 [00:05<00:04, 1401110.66it/s]"
     ]
    },
    {
     "name": "stderr",
     "output_type": "stream",
     "text": [
      "\rDictClassTransformer_DATE fit:  38%|███▊      | 3948128/10468770 [00:05<00:04, 1420392.96it/s]"
     ]
    },
    {
     "name": "stderr",
     "output_type": "stream",
     "text": [
      "\rDictClassTransformer_DATE fit:  39%|███▉      | 4091721/10468770 [00:05<00:04, 1422240.81it/s]"
     ]
    },
    {
     "name": "stderr",
     "output_type": "stream",
     "text": [
      "\rDictClassTransformer_DATE fit:  40%|████      | 4235033/10468770 [00:05<00:04, 1421064.42it/s]"
     ]
    },
    {
     "name": "stderr",
     "output_type": "stream",
     "text": [
      "\rDictClassTransformer_DATE fit:  42%|████▏     | 4378158/10468770 [00:06<00:04, 1424104.23it/s]"
     ]
    },
    {
     "name": "stderr",
     "output_type": "stream",
     "text": [
      "\rDictClassTransformer_DATE fit:  43%|████▎     | 4522500/10468770 [00:06<00:04, 1429839.80it/s]"
     ]
    },
    {
     "name": "stderr",
     "output_type": "stream",
     "text": [
      "\rDictClassTransformer_DATE fit:  45%|████▍     | 4666981/10468770 [00:06<00:04, 1434294.52it/s]"
     ]
    },
    {
     "name": "stderr",
     "output_type": "stream",
     "text": [
      "\rDictClassTransformer_DATE fit:  46%|████▌     | 4810680/10468770 [00:06<00:03, 1431324.67it/s]"
     ]
    },
    {
     "name": "stderr",
     "output_type": "stream",
     "text": [
      "\rDictClassTransformer_DATE fit:  47%|████▋     | 4954003/10468770 [00:06<00:03, 1419371.95it/s]"
     ]
    },
    {
     "name": "stderr",
     "output_type": "stream",
     "text": [
      "\rDictClassTransformer_DATE fit:  49%|████▊     | 5096096/10468770 [00:06<00:03, 1404484.37it/s]"
     ]
    },
    {
     "name": "stderr",
     "output_type": "stream",
     "text": [
      "\rDictClassTransformer_DATE fit:  50%|█████     | 5237706/10468770 [00:06<00:03, 1407945.40it/s]"
     ]
    },
    {
     "name": "stderr",
     "output_type": "stream",
     "text": [
      "\rDictClassTransformer_DATE fit:  51%|█████▏    | 5382401/10468770 [00:06<00:03, 1419423.58it/s]"
     ]
    },
    {
     "name": "stderr",
     "output_type": "stream",
     "text": [
      "\rDictClassTransformer_DATE fit:  53%|█████▎    | 5524438/10468770 [00:06<00:03, 1417998.58it/s]"
     ]
    },
    {
     "name": "stderr",
     "output_type": "stream",
     "text": [
      "\rDictClassTransformer_DATE fit:  54%|█████▍    | 5668855/10468770 [00:06<00:03, 1425749.26it/s]"
     ]
    },
    {
     "name": "stderr",
     "output_type": "stream",
     "text": [
      "\rDictClassTransformer_DATE fit:  56%|█████▌    | 5811487/10468770 [00:07<00:03, 1422124.76it/s]"
     ]
    },
    {
     "name": "stderr",
     "output_type": "stream",
     "text": [
      "\rDictClassTransformer_DATE fit:  57%|█████▋    | 5953742/10468770 [00:07<00:03, 1398741.86it/s]"
     ]
    },
    {
     "name": "stderr",
     "output_type": "stream",
     "text": [
      "\rDictClassTransformer_DATE fit:  58%|█████▊    | 6093732/10468770 [00:07<00:03, 1381514.81it/s]"
     ]
    },
    {
     "name": "stderr",
     "output_type": "stream",
     "text": [
      "\rDictClassTransformer_DATE fit:  60%|█████▉    | 6236137/10468770 [00:07<00:03, 1394001.66it/s]"
     ]
    },
    {
     "name": "stderr",
     "output_type": "stream",
     "text": [
      "\rDictClassTransformer_DATE fit:  61%|██████    | 6378259/10468770 [00:07<00:02, 1402053.50it/s]"
     ]
    },
    {
     "name": "stderr",
     "output_type": "stream",
     "text": [
      "\rDictClassTransformer_DATE fit:  62%|██████▏   | 6520357/10468770 [00:07<00:02, 1407677.70it/s]"
     ]
    },
    {
     "name": "stderr",
     "output_type": "stream",
     "text": [
      "\rDictClassTransformer_DATE fit:  64%|██████▎   | 6661196/10468770 [00:07<00:02, 1377892.47it/s]"
     ]
    },
    {
     "name": "stderr",
     "output_type": "stream",
     "text": [
      "\rDictClassTransformer_DATE fit:  65%|██████▍   | 6799175/10468770 [00:07<00:02, 1285738.04it/s]"
     ]
    },
    {
     "name": "stderr",
     "output_type": "stream",
     "text": [
      "\rDictClassTransformer_DATE fit:  66%|██████▋   | 6942179/10468770 [00:07<00:02, 1325874.80it/s]"
     ]
    },
    {
     "name": "stderr",
     "output_type": "stream",
     "text": [
      "\rDictClassTransformer_DATE fit:  68%|██████▊   | 7086819/10468770 [00:08<00:02, 1359865.95it/s]"
     ]
    },
    {
     "name": "stderr",
     "output_type": "stream",
     "text": [
      "\rDictClassTransformer_DATE fit:  69%|██████▉   | 7233142/10468770 [00:08<00:02, 1389308.03it/s]"
     ]
    },
    {
     "name": "stderr",
     "output_type": "stream",
     "text": [
      "\rDictClassTransformer_DATE fit:  70%|███████   | 7375398/10468770 [00:08<00:02, 1399115.70it/s]"
     ]
    },
    {
     "name": "stderr",
     "output_type": "stream",
     "text": [
      "\rDictClassTransformer_DATE fit:  72%|███████▏  | 7519543/10468770 [00:08<00:02, 1411551.98it/s]"
     ]
    },
    {
     "name": "stderr",
     "output_type": "stream",
     "text": [
      "\rDictClassTransformer_DATE fit:  73%|███████▎  | 7666287/10468770 [00:08<00:01, 1427862.65it/s]"
     ]
    },
    {
     "name": "stderr",
     "output_type": "stream",
     "text": [
      "\rDictClassTransformer_DATE fit:  75%|███████▍  | 7814668/10468770 [00:08<00:01, 1444198.19it/s]"
     ]
    },
    {
     "name": "stderr",
     "output_type": "stream",
     "text": [
      "\rDictClassTransformer_DATE fit:  76%|███████▌  | 7959408/10468770 [00:08<00:01, 1445027.63it/s]"
     ]
    },
    {
     "name": "stderr",
     "output_type": "stream",
     "text": [
      "\rDictClassTransformer_DATE fit:  77%|███████▋  | 8104135/10468770 [00:08<00:01, 1406926.65it/s]"
     ]
    },
    {
     "name": "stderr",
     "output_type": "stream",
     "text": [
      "\rDictClassTransformer_DATE fit:  79%|███████▉  | 8247030/10468770 [00:08<00:01, 1413457.44it/s]"
     ]
    },
    {
     "name": "stderr",
     "output_type": "stream",
     "text": [
      "\rDictClassTransformer_DATE fit:  80%|████████  | 8395285/10468770 [00:08<00:01, 1433492.88it/s]"
     ]
    },
    {
     "name": "stderr",
     "output_type": "stream",
     "text": [
      "\rDictClassTransformer_DATE fit:  82%|████████▏ | 8538893/10468770 [00:09<00:01, 1430132.93it/s]"
     ]
    },
    {
     "name": "stderr",
     "output_type": "stream",
     "text": [
      "\rDictClassTransformer_DATE fit:  83%|████████▎ | 8682090/10468770 [00:09<00:02, 811920.77it/s] "
     ]
    },
    {
     "name": "stderr",
     "output_type": "stream",
     "text": [
      "\rDictClassTransformer_DATE fit:  84%|████████▍ | 8809050/10468770 [00:09<00:01, 910375.10it/s]"
     ]
    },
    {
     "name": "stderr",
     "output_type": "stream",
     "text": [
      "\rDictClassTransformer_DATE fit:  85%|████████▌ | 8939662/10468770 [00:09<00:01, 1001398.77it/s]"
     ]
    },
    {
     "name": "stderr",
     "output_type": "stream",
     "text": [
      "\rDictClassTransformer_DATE fit:  87%|████████▋ | 9070397/10468770 [00:09<00:01, 1077009.89it/s]"
     ]
    },
    {
     "name": "stderr",
     "output_type": "stream",
     "text": [
      "\rDictClassTransformer_DATE fit:  88%|████████▊ | 9201235/10468770 [00:09<00:01, 1137344.20it/s]"
     ]
    },
    {
     "name": "stderr",
     "output_type": "stream",
     "text": [
      "\rDictClassTransformer_DATE fit:  89%|████████▉ | 9332003/10468770 [00:09<00:00, 1183592.54it/s]"
     ]
    },
    {
     "name": "stderr",
     "output_type": "stream",
     "text": [
      "\rDictClassTransformer_DATE fit:  90%|█████████ | 9459397/10468770 [00:10<00:00, 1156648.97it/s]"
     ]
    },
    {
     "name": "stderr",
     "output_type": "stream",
     "text": [
      "\rDictClassTransformer_DATE fit:  92%|█████████▏| 9588388/10468770 [00:10<00:00, 1193640.05it/s]"
     ]
    },
    {
     "name": "stderr",
     "output_type": "stream",
     "text": [
      "\rDictClassTransformer_DATE fit:  93%|█████████▎| 9727801/10468770 [00:10<00:00, 1247456.34it/s]"
     ]
    },
    {
     "name": "stderr",
     "output_type": "stream",
     "text": [
      "\rDictClassTransformer_DATE fit:  94%|█████████▍| 9866080/10468770 [00:10<00:00, 1285190.32it/s]"
     ]
    },
    {
     "name": "stderr",
     "output_type": "stream",
     "text": [
      "\rDictClassTransformer_DATE fit:  96%|█████████▌| 10004216/10468770 [00:10<00:00, 1312598.44it/s]"
     ]
    },
    {
     "name": "stderr",
     "output_type": "stream",
     "text": [
      "\rDictClassTransformer_DATE fit:  97%|█████████▋| 10144063/10468770 [00:10<00:00, 1337228.53it/s]"
     ]
    },
    {
     "name": "stderr",
     "output_type": "stream",
     "text": [
      "\rDictClassTransformer_DATE fit:  98%|█████████▊| 10288137/10468770 [00:10<00:00, 1366685.27it/s]"
     ]
    },
    {
     "name": "stderr",
     "output_type": "stream",
     "text": [
      "\rDictClassTransformer_DATE fit: 100%|█████████▉| 10433887/10468770 [00:10<00:00, 1392714.38it/s]"
     ]
    },
    {
     "name": "stderr",
     "output_type": "stream",
     "text": [
      "\rDictClassTransformer_DATE fit: 100%|██████████| 10468770/10468770 [00:10<00:00, 956913.09it/s] "
     ]
    },
    {
     "name": "stderr",
     "output_type": "stream",
     "text": [
      "\n\rDictClassTransformer_CARDINAL fit:   0%|          | 0/10468770 [00:00<?, ?it/s]"
     ]
    },
    {
     "name": "stderr",
     "output_type": "stream",
     "text": [
      "\rDictClassTransformer_CARDINAL fit:   0%|          | 7791/10468770 [00:00<21:48, 7996.53it/s]"
     ]
    },
    {
     "name": "stderr",
     "output_type": "stream",
     "text": [
      "\rDictClassTransformer_CARDINAL fit:   1%|          | 100901/10468770 [00:01<15:10, 11381.72it/s]"
     ]
    },
    {
     "name": "stderr",
     "output_type": "stream",
     "text": [
      "\rDictClassTransformer_CARDINAL fit:   2%|▏         | 194548/10468770 [00:01<10:35, 16175.34it/s]"
     ]
    },
    {
     "name": "stderr",
     "output_type": "stream",
     "text": [
      "\rDictClassTransformer_CARDINAL fit:   3%|▎         | 300520/10468770 [00:01<07:22, 22957.45it/s]"
     ]
    },
    {
     "name": "stderr",
     "output_type": "stream",
     "text": [
      "\rDictClassTransformer_CARDINAL fit:   4%|▍         | 421480/10468770 [00:01<05:08, 32531.74it/s]"
     ]
    },
    {
     "name": "stderr",
     "output_type": "stream",
     "text": [
      "\rDictClassTransformer_CARDINAL fit:   5%|▌         | 540097/10468770 [00:01<03:36, 45934.01it/s]"
     ]
    },
    {
     "name": "stderr",
     "output_type": "stream",
     "text": [
      "\rDictClassTransformer_CARDINAL fit:   6%|▋         | 667914/10468770 [00:01<02:31, 64624.68it/s]"
     ]
    },
    {
     "name": "stderr",
     "output_type": "stream",
     "text": [
      "\rDictClassTransformer_CARDINAL fit:   7%|▋         | 771322/10468770 [00:02<02:15, 71341.59it/s]"
     ]
    },
    {
     "name": "stderr",
     "output_type": "stream",
     "text": [
      "\rDictClassTransformer_CARDINAL fit:   8%|▊         | 884803/10468770 [00:02<01:36, 99242.65it/s]"
     ]
    },
    {
     "name": "stderr",
     "output_type": "stream",
     "text": [
      "\rDictClassTransformer_CARDINAL fit:   9%|▉         | 983976/10468770 [00:02<01:09, 135944.79it/s]"
     ]
    },
    {
     "name": "stderr",
     "output_type": "stream",
     "text": [
      "\rDictClassTransformer_CARDINAL fit:  10%|█         | 1090762/10468770 [00:02<00:50, 184159.08it/s]"
     ]
    },
    {
     "name": "stderr",
     "output_type": "stream",
     "text": [
      "\rDictClassTransformer_CARDINAL fit:  11%|█▏        | 1192718/10468770 [00:03<00:37, 244181.67it/s]"
     ]
    },
    {
     "name": "stderr",
     "output_type": "stream",
     "text": [
      "\rDictClassTransformer_CARDINAL fit:  12%|█▏        | 1306890/10468770 [00:03<00:28, 319541.92it/s]"
     ]
    },
    {
     "name": "stderr",
     "output_type": "stream",
     "text": [
      "\rDictClassTransformer_CARDINAL fit:  14%|█▎        | 1435868/10468770 [00:03<00:21, 412671.66it/s]"
     ]
    },
    {
     "name": "stderr",
     "output_type": "stream",
     "text": [
      "\rDictClassTransformer_CARDINAL fit:  15%|█▍        | 1555444/10468770 [00:03<00:17, 513570.32it/s]"
     ]
    },
    {
     "name": "stderr",
     "output_type": "stream",
     "text": [
      "\rDictClassTransformer_CARDINAL fit:  16%|█▌        | 1686924/10468770 [00:03<00:13, 628464.15it/s]"
     ]
    },
    {
     "name": "stderr",
     "output_type": "stream",
     "text": [
      "\rDictClassTransformer_CARDINAL fit:  17%|█▋        | 1811581/10468770 [00:03<00:11, 738286.80it/s]"
     ]
    },
    {
     "name": "stderr",
     "output_type": "stream",
     "text": [
      "\rDictClassTransformer_CARDINAL fit:  18%|█▊        | 1932764/10468770 [00:03<00:10, 836328.35it/s]"
     ]
    },
    {
     "name": "stderr",
     "output_type": "stream",
     "text": [
      "\rDictClassTransformer_CARDINAL fit:  20%|█▉        | 2053426/10468770 [00:03<00:09, 865346.74it/s]"
     ]
    },
    {
     "name": "stderr",
     "output_type": "stream",
     "text": [
      "\rDictClassTransformer_CARDINAL fit:  21%|██        | 2166137/10468770 [00:03<00:08, 926293.25it/s]"
     ]
    },
    {
     "name": "stderr",
     "output_type": "stream",
     "text": [
      "\rDictClassTransformer_CARDINAL fit:  22%|██▏       | 2278288/10468770 [00:04<00:08, 952606.93it/s]"
     ]
    },
    {
     "name": "stderr",
     "output_type": "stream",
     "text": [
      "\rDictClassTransformer_CARDINAL fit:  23%|██▎       | 2405575/10468770 [00:04<00:07, 1030379.63it/s]"
     ]
    },
    {
     "name": "stderr",
     "output_type": "stream",
     "text": [
      "\rDictClassTransformer_CARDINAL fit:  24%|██▍       | 2534857/10468770 [00:04<00:07, 1097196.09it/s]"
     ]
    },
    {
     "name": "stderr",
     "output_type": "stream",
     "text": [
      "\rDictClassTransformer_CARDINAL fit:  25%|██▌       | 2658079/10468770 [00:04<00:06, 1134490.12it/s]"
     ]
    },
    {
     "name": "stderr",
     "output_type": "stream",
     "text": [
      "\rDictClassTransformer_CARDINAL fit:  27%|██▋       | 2778332/10468770 [00:04<00:06, 1130645.12it/s]"
     ]
    },
    {
     "name": "stderr",
     "output_type": "stream",
     "text": [
      "\rDictClassTransformer_CARDINAL fit:  28%|██▊       | 2896162/10468770 [00:04<00:07, 1051320.51it/s]"
     ]
    },
    {
     "name": "stderr",
     "output_type": "stream",
     "text": [
      "\rDictClassTransformer_CARDINAL fit:  29%|██▊       | 3005746/10468770 [00:04<00:07, 946850.73it/s] "
     ]
    },
    {
     "name": "stderr",
     "output_type": "stream",
     "text": [
      "\rDictClassTransformer_CARDINAL fit:  30%|██▉       | 3131366/10468770 [00:04<00:07, 1022061.76it/s]"
     ]
    },
    {
     "name": "stderr",
     "output_type": "stream",
     "text": [
      "\rDictClassTransformer_CARDINAL fit:  31%|███       | 3259651/10468770 [00:04<00:06, 1088441.58it/s]"
     ]
    },
    {
     "name": "stderr",
     "output_type": "stream",
     "text": [
      "\rDictClassTransformer_CARDINAL fit:  32%|███▏      | 3373369/10468770 [00:05<00:06, 1068011.28it/s]"
     ]
    },
    {
     "name": "stderr",
     "output_type": "stream",
     "text": [
      "\rDictClassTransformer_CARDINAL fit:  33%|███▎      | 3483668/10468770 [00:05<00:06, 1033019.93it/s]"
     ]
    },
    {
     "name": "stderr",
     "output_type": "stream",
     "text": [
      "\rDictClassTransformer_CARDINAL fit:  34%|███▍      | 3601135/10468770 [00:05<00:06, 1071790.05it/s]"
     ]
    },
    {
     "name": "stderr",
     "output_type": "stream",
     "text": [
      "\rDictClassTransformer_CARDINAL fit:  36%|███▌      | 3719000/10468770 [00:05<00:06, 1101753.97it/s]"
     ]
    },
    {
     "name": "stderr",
     "output_type": "stream",
     "text": [
      "\rDictClassTransformer_CARDINAL fit:  37%|███▋      | 3836187/10468770 [00:05<00:05, 1121889.68it/s]"
     ]
    },
    {
     "name": "stderr",
     "output_type": "stream",
     "text": [
      "\rDictClassTransformer_CARDINAL fit:  38%|███▊      | 3961531/10468770 [00:05<00:05, 1158360.72it/s]"
     ]
    },
    {
     "name": "stderr",
     "output_type": "stream",
     "text": [
      "\rDictClassTransformer_CARDINAL fit:  39%|███▉      | 4084211/10468770 [00:05<00:05, 1178073.35it/s]"
     ]
    },
    {
     "name": "stderr",
     "output_type": "stream",
     "text": [
      "\rDictClassTransformer_CARDINAL fit:  40%|████      | 4213036/10468770 [00:05<00:05, 1209085.23it/s]"
     ]
    },
    {
     "name": "stderr",
     "output_type": "stream",
     "text": [
      "\rDictClassTransformer_CARDINAL fit:  41%|████▏     | 4344462/10468770 [00:05<00:04, 1238822.83it/s]"
     ]
    },
    {
     "name": "stderr",
     "output_type": "stream",
     "text": [
      "\rDictClassTransformer_CARDINAL fit:  43%|████▎     | 4471696/10468770 [00:05<00:04, 1248687.93it/s]"
     ]
    },
    {
     "name": "stderr",
     "output_type": "stream",
     "text": [
      "\rDictClassTransformer_CARDINAL fit:  44%|████▍     | 4597989/10468770 [00:06<00:04, 1252926.18it/s]"
     ]
    },
    {
     "name": "stderr",
     "output_type": "stream",
     "text": [
      "\rDictClassTransformer_CARDINAL fit:  45%|████▌     | 4723685/10468770 [00:06<00:04, 1220256.80it/s]"
     ]
    },
    {
     "name": "stderr",
     "output_type": "stream",
     "text": [
      "\rDictClassTransformer_CARDINAL fit:  46%|████▋     | 4858854/10468770 [00:06<00:04, 1256921.80it/s]"
     ]
    },
    {
     "name": "stderr",
     "output_type": "stream",
     "text": [
      "\rDictClassTransformer_CARDINAL fit:  48%|████▊     | 5002180/10468770 [00:06<00:04, 1305088.71it/s]"
     ]
    },
    {
     "name": "stderr",
     "output_type": "stream",
     "text": [
      "\rDictClassTransformer_CARDINAL fit:  49%|████▉     | 5140458/10468770 [00:06<00:04, 1327452.23it/s]"
     ]
    },
    {
     "name": "stderr",
     "output_type": "stream",
     "text": [
      "\rDictClassTransformer_CARDINAL fit:  50%|█████     | 5282148/10468770 [00:06<00:03, 1353051.42it/s]"
     ]
    },
    {
     "name": "stderr",
     "output_type": "stream",
     "text": [
      "\rDictClassTransformer_CARDINAL fit:  52%|█████▏    | 5418079/10468770 [00:06<00:04, 1222002.47it/s]"
     ]
    },
    {
     "name": "stderr",
     "output_type": "stream",
     "text": [
      "\rDictClassTransformer_CARDINAL fit:  53%|█████▎    | 5543133/10468770 [00:06<00:04, 1221881.54it/s]"
     ]
    },
    {
     "name": "stderr",
     "output_type": "stream",
     "text": [
      "\rDictClassTransformer_CARDINAL fit:  54%|█████▍    | 5667319/10468770 [00:06<00:03, 1227038.81it/s]"
     ]
    },
    {
     "name": "stderr",
     "output_type": "stream",
     "text": [
      "\rDictClassTransformer_CARDINAL fit:  55%|█████▌    | 5791427/10468770 [00:06<00:03, 1191779.30it/s]"
     ]
    },
    {
     "name": "stderr",
     "output_type": "stream",
     "text": [
      "\rDictClassTransformer_CARDINAL fit:  56%|█████▋    | 5911809/10468770 [00:07<00:04, 1082233.02it/s]"
     ]
    },
    {
     "name": "stderr",
     "output_type": "stream",
     "text": [
      "\rDictClassTransformer_CARDINAL fit:  58%|█████▊    | 6022810/10468770 [00:07<00:04, 1042054.40it/s]"
     ]
    },
    {
     "name": "stderr",
     "output_type": "stream",
     "text": [
      "\rDictClassTransformer_CARDINAL fit:  59%|█████▊    | 6129280/10468770 [00:07<00:05, 845138.45it/s] "
     ]
    },
    {
     "name": "stderr",
     "output_type": "stream",
     "text": [
      "\rDictClassTransformer_CARDINAL fit:  59%|█████▉    | 6221405/10468770 [00:07<00:05, 849066.46it/s]"
     ]
    },
    {
     "name": "stderr",
     "output_type": "stream",
     "text": [
      "\rDictClassTransformer_CARDINAL fit:  60%|██████    | 6311644/10468770 [00:07<00:05, 801461.53it/s]"
     ]
    },
    {
     "name": "stderr",
     "output_type": "stream",
     "text": [
      "\rDictClassTransformer_CARDINAL fit:  61%|██████    | 6396074/10468770 [00:07<00:05, 803364.70it/s]"
     ]
    },
    {
     "name": "stderr",
     "output_type": "stream",
     "text": [
      "\rDictClassTransformer_CARDINAL fit:  62%|██████▏   | 6498856/10468770 [00:07<00:04, 859681.75it/s]"
     ]
    },
    {
     "name": "stderr",
     "output_type": "stream",
     "text": [
      "\rDictClassTransformer_CARDINAL fit:  63%|██████▎   | 6621047/10468770 [00:07<00:04, 943588.39it/s]"
     ]
    },
    {
     "name": "stderr",
     "output_type": "stream",
     "text": [
      "\rDictClassTransformer_CARDINAL fit:  64%|██████▍   | 6733504/10468770 [00:08<00:03, 991453.85it/s]"
     ]
    },
    {
     "name": "stderr",
     "output_type": "stream",
     "text": [
      "\rDictClassTransformer_CARDINAL fit:  65%|██████▌   | 6851078/10468770 [00:08<00:03, 1040374.12it/s]"
     ]
    },
    {
     "name": "stderr",
     "output_type": "stream",
     "text": [
      "\rDictClassTransformer_CARDINAL fit:  66%|██████▋   | 6958513/10468770 [00:08<00:06, 558759.81it/s] "
     ]
    },
    {
     "name": "stderr",
     "output_type": "stream",
     "text": [
      "\rDictClassTransformer_CARDINAL fit:  68%|██████▊   | 7082121/10468770 [00:08<00:05, 668682.74it/s]"
     ]
    },
    {
     "name": "stderr",
     "output_type": "stream",
     "text": [
      "\rDictClassTransformer_CARDINAL fit:  69%|██████▉   | 7212527/10468770 [00:08<00:04, 783153.32it/s]"
     ]
    },
    {
     "name": "stderr",
     "output_type": "stream",
     "text": [
      "\rDictClassTransformer_CARDINAL fit:  70%|███████   | 7346104/10468770 [00:08<00:03, 894113.93it/s]"
     ]
    },
    {
     "name": "stderr",
     "output_type": "stream",
     "text": [
      "\rDictClassTransformer_CARDINAL fit:  71%|███████▏  | 7468113/10468770 [00:08<00:03, 972023.38it/s]"
     ]
    },
    {
     "name": "stderr",
     "output_type": "stream",
     "text": [
      "\rDictClassTransformer_CARDINAL fit:  72%|███████▏  | 7587274/10468770 [00:09<00:02, 1028901.56it/s]"
     ]
    },
    {
     "name": "stderr",
     "output_type": "stream",
     "text": [
      "\rDictClassTransformer_CARDINAL fit:  74%|███████▎  | 7713108/10468770 [00:09<00:02, 1088437.07it/s]"
     ]
    },
    {
     "name": "stderr",
     "output_type": "stream",
     "text": [
      "\rDictClassTransformer_CARDINAL fit:  75%|███████▍  | 7832983/10468770 [00:09<00:02, 1017562.88it/s]"
     ]
    },
    {
     "name": "stderr",
     "output_type": "stream",
     "text": [
      "\rDictClassTransformer_CARDINAL fit:  76%|███████▌  | 7943396/10468770 [00:09<00:02, 1037628.57it/s]"
     ]
    },
    {
     "name": "stderr",
     "output_type": "stream",
     "text": [
      "\rDictClassTransformer_CARDINAL fit:  77%|███████▋  | 8078603/10468770 [00:09<00:02, 1115436.26it/s]"
     ]
    },
    {
     "name": "stderr",
     "output_type": "stream",
     "text": [
      "\rDictClassTransformer_CARDINAL fit:  78%|███████▊  | 8209920/10468770 [00:09<00:01, 1168204.56it/s]"
     ]
    },
    {
     "name": "stderr",
     "output_type": "stream",
     "text": [
      "\rDictClassTransformer_CARDINAL fit:  80%|███████▉  | 8345702/10468770 [00:09<00:01, 1219278.68it/s]"
     ]
    },
    {
     "name": "stderr",
     "output_type": "stream",
     "text": [
      "\rDictClassTransformer_CARDINAL fit:  81%|████████  | 8471589/10468770 [00:09<00:01, 1228047.09it/s]"
     ]
    },
    {
     "name": "stderr",
     "output_type": "stream",
     "text": [
      "\rDictClassTransformer_CARDINAL fit:  82%|████████▏ | 8597180/10468770 [00:09<00:01, 1213103.51it/s]"
     ]
    },
    {
     "name": "stderr",
     "output_type": "stream",
     "text": [
      "\rDictClassTransformer_CARDINAL fit:  83%|████████▎ | 8722905/10468770 [00:09<00:01, 1226014.53it/s]"
     ]
    },
    {
     "name": "stderr",
     "output_type": "stream",
     "text": [
      "\rDictClassTransformer_CARDINAL fit:  85%|████████▍ | 8853179/10468770 [00:10<00:01, 1248063.08it/s]"
     ]
    },
    {
     "name": "stderr",
     "output_type": "stream",
     "text": [
      "\rDictClassTransformer_CARDINAL fit:  86%|████████▌ | 8979081/10468770 [00:10<00:01, 1084710.44it/s]"
     ]
    },
    {
     "name": "stderr",
     "output_type": "stream",
     "text": [
      "\rDictClassTransformer_CARDINAL fit:  87%|████████▋ | 9092141/10468770 [00:10<00:01, 1069120.06it/s]"
     ]
    },
    {
     "name": "stderr",
     "output_type": "stream",
     "text": [
      "\rDictClassTransformer_CARDINAL fit:  88%|████████▊ | 9202316/10468770 [00:10<00:01, 965767.62it/s] "
     ]
    },
    {
     "name": "stderr",
     "output_type": "stream",
     "text": [
      "\rDictClassTransformer_CARDINAL fit:  89%|████████▉ | 9303079/10468770 [00:10<00:01, 825135.29it/s]"
     ]
    },
    {
     "name": "stderr",
     "output_type": "stream",
     "text": [
      "\rDictClassTransformer_CARDINAL fit:  90%|████████▉ | 9408285/10468770 [00:10<00:01, 882221.38it/s]"
     ]
    },
    {
     "name": "stderr",
     "output_type": "stream",
     "text": [
      "\rDictClassTransformer_CARDINAL fit:  91%|█████████ | 9522589/10468770 [00:10<00:00, 947050.39it/s]"
     ]
    },
    {
     "name": "stderr",
     "output_type": "stream",
     "text": [
      "\rDictClassTransformer_CARDINAL fit:  92%|█████████▏| 9639125/10468770 [00:10<00:00, 1003363.54it/s]"
     ]
    },
    {
     "name": "stderr",
     "output_type": "stream",
     "text": [
      "\rDictClassTransformer_CARDINAL fit:  93%|█████████▎| 9745488/10468770 [00:11<00:00, 1020707.95it/s]"
     ]
    },
    {
     "name": "stderr",
     "output_type": "stream",
     "text": [
      "\rDictClassTransformer_CARDINAL fit:  94%|█████████▍| 9875304/10468770 [00:11<00:00, 1090635.25it/s]"
     ]
    },
    {
     "name": "stderr",
     "output_type": "stream",
     "text": [
      "\rDictClassTransformer_CARDINAL fit:  96%|█████████▌| 10007339/10468770 [00:11<00:00, 1150694.25it/s]"
     ]
    },
    {
     "name": "stderr",
     "output_type": "stream",
     "text": [
      "\rDictClassTransformer_CARDINAL fit:  97%|█████████▋| 10145748/10468770 [00:11<00:00, 1212004.13it/s]"
     ]
    },
    {
     "name": "stderr",
     "output_type": "stream",
     "text": [
      "\rDictClassTransformer_CARDINAL fit:  98%|█████████▊| 10288122/10468770 [00:11<00:00, 1268600.50it/s]"
     ]
    },
    {
     "name": "stderr",
     "output_type": "stream",
     "text": [
      "\rDictClassTransformer_CARDINAL fit: 100%|█████████▉| 10424937/10468770 [00:11<00:00, 1296907.12it/s]"
     ]
    },
    {
     "name": "stderr",
     "output_type": "stream",
     "text": [
      "\rDictClassTransformer_CARDINAL fit: 100%|██████████| 10468770/10468770 [00:11<00:00, 884905.43it/s] "
     ]
    },
    {
     "name": "stderr",
     "output_type": "stream",
     "text": [
      "\n"
     ]
    },
    {
     "name": "stderr",
     "output_type": "stream",
     "text": [
      "\rMorphologyExtractor transform:   0%|          | 0/105746 [00:00<?, ?it/s]"
     ]
    },
    {
     "name": "stderr",
     "output_type": "stream",
     "text": [
      "\rMorphologyExtractor transform:   2%|▏         | 2371/105746 [00:00<00:04, 23707.37it/s]"
     ]
    },
    {
     "name": "stderr",
     "output_type": "stream",
     "text": [
      "\rMorphologyExtractor transform:   4%|▎         | 3854/105746 [00:00<00:08, 11412.62it/s]"
     ]
    },
    {
     "name": "stderr",
     "output_type": "stream",
     "text": [
      "\rMorphologyExtractor transform:   7%|▋         | 6880/105746 [00:00<00:07, 14035.09it/s]"
     ]
    },
    {
     "name": "stderr",
     "output_type": "stream",
     "text": [
      "\rMorphologyExtractor transform:  10%|▉         | 10086/105746 [00:00<00:05, 16881.03it/s]"
     ]
    },
    {
     "name": "stderr",
     "output_type": "stream",
     "text": [
      "\rMorphologyExtractor transform:  13%|█▎        | 13413/105746 [00:00<00:04, 19806.57it/s]"
     ]
    },
    {
     "name": "stderr",
     "output_type": "stream",
     "text": [
      "\rMorphologyExtractor transform:  16%|█▋        | 17241/105746 [00:00<00:03, 23158.85it/s]"
     ]
    },
    {
     "name": "stderr",
     "output_type": "stream",
     "text": [
      "\rMorphologyExtractor transform:  20%|█▉        | 21148/105746 [00:00<00:03, 26381.24it/s]"
     ]
    },
    {
     "name": "stderr",
     "output_type": "stream",
     "text": [
      "\rMorphologyExtractor transform:  24%|██▍       | 25232/105746 [00:00<00:02, 29513.16it/s]"
     ]
    },
    {
     "name": "stderr",
     "output_type": "stream",
     "text": [
      "\rMorphologyExtractor transform:  28%|██▊       | 29141/105746 [00:01<00:02, 31854.18it/s]"
     ]
    },
    {
     "name": "stderr",
     "output_type": "stream",
     "text": [
      "\rMorphologyExtractor transform:  31%|███       | 32750/105746 [00:01<00:02, 33013.44it/s]"
     ]
    },
    {
     "name": "stderr",
     "output_type": "stream",
     "text": [
      "\rMorphologyExtractor transform:  35%|███▍      | 36606/105746 [00:01<00:02, 34499.18it/s]"
     ]
    },
    {
     "name": "stderr",
     "output_type": "stream",
     "text": [
      "\rMorphologyExtractor transform:  38%|███▊      | 40501/105746 [00:01<00:01, 35711.54it/s]"
     ]
    },
    {
     "name": "stderr",
     "output_type": "stream",
     "text": [
      "\rMorphologyExtractor transform:  43%|████▎     | 45117/105746 [00:01<00:01, 38311.29it/s]"
     ]
    },
    {
     "name": "stderr",
     "output_type": "stream",
     "text": [
      "\rMorphologyExtractor transform:  47%|████▋     | 49542/105746 [00:01<00:01, 39904.82it/s]"
     ]
    },
    {
     "name": "stderr",
     "output_type": "stream",
     "text": [
      "\rMorphologyExtractor transform:  51%|█████     | 53970/105746 [00:01<00:01, 41120.17it/s]"
     ]
    },
    {
     "name": "stderr",
     "output_type": "stream",
     "text": [
      "\rMorphologyExtractor transform:  56%|█████▌    | 58766/105746 [00:01<00:01, 42956.50it/s]"
     ]
    },
    {
     "name": "stderr",
     "output_type": "stream",
     "text": [
      "\rMorphologyExtractor transform:  60%|█████▉    | 63154/105746 [00:01<00:00, 43041.17it/s]"
     ]
    },
    {
     "name": "stderr",
     "output_type": "stream",
     "text": [
      "\rMorphologyExtractor transform:  64%|██████▍   | 67774/105746 [00:01<00:00, 43930.09it/s]"
     ]
    },
    {
     "name": "stderr",
     "output_type": "stream",
     "text": [
      "\rMorphologyExtractor transform:  69%|██████▊   | 72646/105746 [00:02<00:00, 45256.97it/s]"
     ]
    },
    {
     "name": "stderr",
     "output_type": "stream",
     "text": [
      "\rMorphologyExtractor transform:  73%|███████▎  | 77217/105746 [00:02<00:00, 44492.08it/s]"
     ]
    },
    {
     "name": "stderr",
     "output_type": "stream",
     "text": [
      "\rMorphologyExtractor transform:  78%|███████▊  | 82142/105746 [00:02<00:00, 45813.63it/s]"
     ]
    },
    {
     "name": "stderr",
     "output_type": "stream",
     "text": [
      "\rMorphologyExtractor transform:  82%|████████▏ | 86758/105746 [00:02<00:00, 45873.89it/s]"
     ]
    },
    {
     "name": "stderr",
     "output_type": "stream",
     "text": [
      "\rMorphologyExtractor transform:  87%|████████▋ | 91821/105746 [00:02<00:00, 47204.07it/s]"
     ]
    },
    {
     "name": "stderr",
     "output_type": "stream",
     "text": [
      "\rMorphologyExtractor transform:  91%|█████████▏| 96568/105746 [00:02<00:00, 45635.79it/s]"
     ]
    },
    {
     "name": "stderr",
     "output_type": "stream",
     "text": [
      "\rMorphologyExtractor transform:  96%|█████████▌| 101162/105746 [00:02<00:00, 42594.80it/s]"
     ]
    },
    {
     "name": "stderr",
     "output_type": "stream",
     "text": [
      "\rMorphologyExtractor transform: 100%|██████████| 105746/105746 [00:02<00:00, 37434.34it/s]"
     ]
    },
    {
     "name": "stderr",
     "output_type": "stream",
     "text": [
      "\n"
     ]
    },
    {
     "name": "stderr",
     "output_type": "stream",
     "text": [
      "\rMorphologyExtractor transform:   0%|          | 0/105746 [00:00<?, ?it/s]"
     ]
    },
    {
     "name": "stderr",
     "output_type": "stream",
     "text": [
      "\rMorphologyExtractor transform:   3%|▎         | 3143/105746 [00:00<00:08, 11654.74it/s]"
     ]
    },
    {
     "name": "stderr",
     "output_type": "stream",
     "text": [
      "\rMorphologyExtractor transform:   8%|▊         | 8197/105746 [00:00<00:06, 15152.01it/s]"
     ]
    },
    {
     "name": "stderr",
     "output_type": "stream",
     "text": [
      "\rMorphologyExtractor transform:  13%|█▎        | 13425/105746 [00:00<00:04, 19253.25it/s]"
     ]
    },
    {
     "name": "stderr",
     "output_type": "stream",
     "text": [
      "\rMorphologyExtractor transform:  17%|█▋        | 18173/105746 [00:00<00:03, 23432.27it/s]"
     ]
    },
    {
     "name": "stderr",
     "output_type": "stream",
     "text": [
      "\rMorphologyExtractor transform:  22%|██▏       | 23631/105746 [00:00<00:02, 28269.28it/s]"
     ]
    },
    {
     "name": "stderr",
     "output_type": "stream",
     "text": [
      "\rMorphologyExtractor transform:  27%|██▋       | 28765/105746 [00:00<00:02, 32666.69it/s]"
     ]
    },
    {
     "name": "stderr",
     "output_type": "stream",
     "text": [
      "\rMorphologyExtractor transform:  32%|███▏      | 34144/105746 [00:00<00:01, 37029.07it/s]"
     ]
    },
    {
     "name": "stderr",
     "output_type": "stream",
     "text": [
      "\rMorphologyExtractor transform:  37%|███▋      | 39391/105746 [00:00<00:01, 40607.08it/s]"
     ]
    },
    {
     "name": "stderr",
     "output_type": "stream",
     "text": [
      "\rMorphologyExtractor transform:  42%|████▏     | 44459/105746 [00:01<00:01, 43181.54it/s]"
     ]
    },
    {
     "name": "stderr",
     "output_type": "stream",
     "text": [
      "\rMorphologyExtractor transform:  47%|████▋     | 49504/105746 [00:01<00:01, 45128.46it/s]"
     ]
    },
    {
     "name": "stderr",
     "output_type": "stream",
     "text": [
      "\rMorphologyExtractor transform:  52%|█████▏    | 54950/105746 [00:01<00:01, 47558.13it/s]"
     ]
    },
    {
     "name": "stderr",
     "output_type": "stream",
     "text": [
      "\rMorphologyExtractor transform:  58%|█████▊    | 61035/105746 [00:01<00:00, 50891.46it/s]"
     ]
    },
    {
     "name": "stderr",
     "output_type": "stream",
     "text": [
      "\rMorphologyExtractor transform:  63%|██████▎   | 66821/105746 [00:01<00:00, 52770.00it/s]"
     ]
    },
    {
     "name": "stderr",
     "output_type": "stream",
     "text": [
      "\rMorphologyExtractor transform:  68%|██████▊   | 72327/105746 [00:01<00:00, 53036.31it/s]"
     ]
    },
    {
     "name": "stderr",
     "output_type": "stream",
     "text": [
      "\rMorphologyExtractor transform:  74%|███████▍  | 78294/105746 [00:01<00:00, 54846.99it/s]"
     ]
    },
    {
     "name": "stderr",
     "output_type": "stream",
     "text": [
      "\rMorphologyExtractor transform:  79%|███████▉  | 84062/105746 [00:01<00:00, 55661.91it/s]"
     ]
    },
    {
     "name": "stderr",
     "output_type": "stream",
     "text": [
      "\rMorphologyExtractor transform:  85%|████████▌ | 90038/105746 [00:01<00:00, 56827.16it/s]"
     ]
    },
    {
     "name": "stderr",
     "output_type": "stream",
     "text": [
      "\rMorphologyExtractor transform:  91%|█████████ | 96138/105746 [00:01<00:00, 58014.71it/s]"
     ]
    },
    {
     "name": "stderr",
     "output_type": "stream",
     "text": [
      "\rMorphologyExtractor transform:  96%|█████████▋| 101996/105746 [00:02<00:00, 55264.69it/s]"
     ]
    },
    {
     "name": "stderr",
     "output_type": "stream",
     "text": [
      "\rMorphologyExtractor transform: 100%|██████████| 105746/105746 [00:02<00:00, 49011.23it/s]"
     ]
    },
    {
     "name": "stderr",
     "output_type": "stream",
     "text": [
      "\n"
     ]
    },
    {
     "name": "stderr",
     "output_type": "stream",
     "text": [
      "\rMorphologyExtractor transform:   0%|          | 0/105746 [00:00<?, ?it/s]"
     ]
    },
    {
     "name": "stderr",
     "output_type": "stream",
     "text": [
      "\rMorphologyExtractor transform:   4%|▍         | 4635/105746 [00:00<00:02, 46345.85it/s]"
     ]
    },
    {
     "name": "stderr",
     "output_type": "stream",
     "text": [
      "\rMorphologyExtractor transform:  10%|█         | 10736/105746 [00:00<00:01, 49946.04it/s]"
     ]
    },
    {
     "name": "stderr",
     "output_type": "stream",
     "text": [
      "\rMorphologyExtractor transform:  16%|█▌        | 16642/105746 [00:00<00:01, 52364.97it/s]"
     ]
    },
    {
     "name": "stderr",
     "output_type": "stream",
     "text": [
      "\rMorphologyExtractor transform:  21%|██▏       | 22688/105746 [00:00<00:01, 54553.86it/s]"
     ]
    },
    {
     "name": "stderr",
     "output_type": "stream",
     "text": [
      "\rMorphologyExtractor transform:  27%|██▋       | 29058/105746 [00:00<00:01, 57009.05it/s]"
     ]
    },
    {
     "name": "stderr",
     "output_type": "stream",
     "text": [
      "\rMorphologyExtractor transform:  33%|███▎      | 34690/105746 [00:00<00:01, 56723.66it/s]"
     ]
    },
    {
     "name": "stderr",
     "output_type": "stream",
     "text": [
      "\rMorphologyExtractor transform:  39%|███▊      | 40925/105746 [00:00<00:01, 58295.09it/s]"
     ]
    },
    {
     "name": "stderr",
     "output_type": "stream",
     "text": [
      "\rMorphologyExtractor transform:  45%|████▍     | 47287/105746 [00:00<00:00, 59787.29it/s]"
     ]
    },
    {
     "name": "stderr",
     "output_type": "stream",
     "text": [
      "\rMorphologyExtractor transform:  51%|█████     | 53497/105746 [00:00<00:00, 60428.74it/s]"
     ]
    },
    {
     "name": "stderr",
     "output_type": "stream",
     "text": [
      "\rMorphologyExtractor transform:  57%|█████▋    | 59849/105746 [00:01<00:00, 61320.01it/s]"
     ]
    },
    {
     "name": "stderr",
     "output_type": "stream",
     "text": [
      "\rMorphologyExtractor transform:  62%|██████▏   | 65920/105746 [00:01<00:00, 61134.99it/s]"
     ]
    },
    {
     "name": "stderr",
     "output_type": "stream",
     "text": [
      "\rMorphologyExtractor transform:  69%|██████▉   | 72871/105746 [00:01<00:00, 63421.74it/s]"
     ]
    },
    {
     "name": "stderr",
     "output_type": "stream",
     "text": [
      "\rMorphologyExtractor transform:  75%|███████▌  | 79606/105746 [00:01<00:00, 64548.30it/s]"
     ]
    },
    {
     "name": "stderr",
     "output_type": "stream",
     "text": [
      "\rMorphologyExtractor transform:  82%|████████▏ | 86252/105746 [00:01<00:00, 65080.26it/s]"
     ]
    },
    {
     "name": "stderr",
     "output_type": "stream",
     "text": [
      "\rMorphologyExtractor transform:  88%|████████▊ | 92803/105746 [00:01<00:00, 65205.50it/s]"
     ]
    },
    {
     "name": "stderr",
     "output_type": "stream",
     "text": [
      "\rMorphologyExtractor transform:  94%|█████████▍| 99317/105746 [00:01<00:00, 63859.54it/s]"
     ]
    },
    {
     "name": "stderr",
     "output_type": "stream",
     "text": [
      "\rMorphologyExtractor transform: 100%|█████████▉| 105705/105746 [00:01<00:00, 62873.02it/s]"
     ]
    },
    {
     "name": "stderr",
     "output_type": "stream",
     "text": [
      "\rMorphologyExtractor transform: 100%|██████████| 105746/105746 [00:01<00:00, 61563.05it/s]"
     ]
    },
    {
     "name": "stderr",
     "output_type": "stream",
     "text": [
      "\n"
     ]
    },
    {
     "name": "stderr",
     "output_type": "stream",
     "text": [
      "\rMorphologyExtractor transform:   0%|          | 0/105746 [00:00<?, ?it/s]"
     ]
    },
    {
     "name": "stderr",
     "output_type": "stream",
     "text": [
      "\rMorphologyExtractor transform:   2%|▏         | 2401/105746 [00:00<00:04, 23995.38it/s]"
     ]
    },
    {
     "name": "stderr",
     "output_type": "stream",
     "text": [
      "\rMorphologyExtractor transform:   4%|▍         | 4531/105746 [00:00<00:04, 23104.08it/s]"
     ]
    },
    {
     "name": "stderr",
     "output_type": "stream",
     "text": [
      "\rMorphologyExtractor transform:   7%|▋         | 7149/105746 [00:00<00:04, 23946.10it/s]"
     ]
    },
    {
     "name": "stderr",
     "output_type": "stream",
     "text": [
      "\rMorphologyExtractor transform:  10%|▉         | 10070/105746 [00:00<00:03, 25314.40it/s]"
     ]
    },
    {
     "name": "stderr",
     "output_type": "stream",
     "text": [
      "\rMorphologyExtractor transform:  13%|█▎        | 13300/105746 [00:00<00:03, 27069.59it/s]"
     ]
    },
    {
     "name": "stderr",
     "output_type": "stream",
     "text": [
      "\rMorphologyExtractor transform:  16%|█▌        | 16796/105746 [00:00<00:03, 29034.06it/s]"
     ]
    },
    {
     "name": "stderr",
     "output_type": "stream",
     "text": [
      "\rMorphologyExtractor transform:  19%|█▉        | 20426/105746 [00:00<00:02, 30884.80it/s]"
     ]
    },
    {
     "name": "stderr",
     "output_type": "stream",
     "text": [
      "\rMorphologyExtractor transform:  23%|██▎       | 23961/105746 [00:00<00:02, 32098.55it/s]"
     ]
    },
    {
     "name": "stderr",
     "output_type": "stream",
     "text": [
      "\rMorphologyExtractor transform:  26%|██▌       | 27560/105746 [00:00<00:02, 33164.46it/s]"
     ]
    },
    {
     "name": "stderr",
     "output_type": "stream",
     "text": [
      "\rMorphologyExtractor transform:  30%|██▉       | 31439/105746 [00:01<00:02, 34671.99it/s]"
     ]
    },
    {
     "name": "stderr",
     "output_type": "stream",
     "text": [
      "\rMorphologyExtractor transform:  34%|███▎      | 35452/105746 [00:01<00:01, 36144.32it/s]"
     ]
    },
    {
     "name": "stderr",
     "output_type": "stream",
     "text": [
      "\rMorphologyExtractor transform:  37%|███▋      | 39215/105746 [00:01<00:01, 36573.53it/s]"
     ]
    },
    {
     "name": "stderr",
     "output_type": "stream",
     "text": [
      "\rMorphologyExtractor transform:  41%|████      | 43489/105746 [00:01<00:01, 38222.52it/s]"
     ]
    },
    {
     "name": "stderr",
     "output_type": "stream",
     "text": [
      "\rMorphologyExtractor transform:  45%|████▌     | 47817/105746 [00:01<00:01, 39600.60it/s]"
     ]
    },
    {
     "name": "stderr",
     "output_type": "stream",
     "text": [
      "\rMorphologyExtractor transform:  49%|████▉     | 52154/105746 [00:01<00:01, 40650.38it/s]"
     ]
    },
    {
     "name": "stderr",
     "output_type": "stream",
     "text": [
      "\rMorphologyExtractor transform:  54%|█████▎    | 56755/105746 [00:01<00:01, 42121.59it/s]"
     ]
    },
    {
     "name": "stderr",
     "output_type": "stream",
     "text": [
      "\rMorphologyExtractor transform:  58%|█████▊    | 61001/105746 [00:01<00:01, 40337.85it/s]"
     ]
    },
    {
     "name": "stderr",
     "output_type": "stream",
     "text": [
      "\rMorphologyExtractor transform:  62%|██████▏   | 65353/105746 [00:01<00:00, 41237.96it/s]"
     ]
    },
    {
     "name": "stderr",
     "output_type": "stream",
     "text": [
      "\rMorphologyExtractor transform:  66%|██████▌   | 69510/105746 [00:01<00:00, 40686.18it/s]"
     ]
    },
    {
     "name": "stderr",
     "output_type": "stream",
     "text": [
      "\rMorphologyExtractor transform:  70%|██████▉   | 73858/105746 [00:02<00:00, 41482.33it/s]"
     ]
    },
    {
     "name": "stderr",
     "output_type": "stream",
     "text": [
      "\rMorphologyExtractor transform:  74%|███████▍  | 78028/105746 [00:02<00:00, 40213.78it/s]"
     ]
    },
    {
     "name": "stderr",
     "output_type": "stream",
     "text": [
      "\rMorphologyExtractor transform:  78%|███████▊  | 82371/105746 [00:02<00:00, 41127.48it/s]"
     ]
    },
    {
     "name": "stderr",
     "output_type": "stream",
     "text": [
      "\rMorphologyExtractor transform:  82%|████████▏ | 86705/105746 [00:02<00:00, 41763.90it/s]"
     ]
    },
    {
     "name": "stderr",
     "output_type": "stream",
     "text": [
      "\rMorphologyExtractor transform:  86%|████████▌ | 91094/105746 [00:02<00:00, 42378.19it/s]"
     ]
    },
    {
     "name": "stderr",
     "output_type": "stream",
     "text": [
      "\rMorphologyExtractor transform:  91%|█████████ | 95921/105746 [00:02<00:00, 43987.78it/s]"
     ]
    },
    {
     "name": "stderr",
     "output_type": "stream",
     "text": [
      "\rMorphologyExtractor transform:  95%|█████████▌| 100475/105746 [00:02<00:00, 44441.86it/s]"
     ]
    },
    {
     "name": "stderr",
     "output_type": "stream",
     "text": [
      "\rMorphologyExtractor transform:  99%|█████████▉| 104939/105746 [00:02<00:00, 44284.83it/s]"
     ]
    },
    {
     "name": "stderr",
     "output_type": "stream",
     "text": [
      "\rMorphologyExtractor transform: 100%|██████████| 105746/105746 [00:02<00:00, 38340.88it/s]"
     ]
    },
    {
     "name": "stderr",
     "output_type": "stream",
     "text": [
      "\n"
     ]
    },
    {
     "name": "stderr",
     "output_type": "stream",
     "text": [
      "\rMorphologyExtractor transform:   0%|          | 0/105746 [00:00<?, ?it/s]"
     ]
    },
    {
     "name": "stderr",
     "output_type": "stream",
     "text": [
      "\rMorphologyExtractor transform:   3%|▎         | 3553/105746 [00:00<00:02, 35486.04it/s]"
     ]
    },
    {
     "name": "stderr",
     "output_type": "stream",
     "text": [
      "\rMorphologyExtractor transform:   6%|▌         | 5984/105746 [00:00<00:03, 31184.90it/s]"
     ]
    },
    {
     "name": "stderr",
     "output_type": "stream",
     "text": [
      "\rMorphologyExtractor transform:   8%|▊         | 8918/105746 [00:00<00:03, 30606.00it/s]"
     ]
    },
    {
     "name": "stderr",
     "output_type": "stream",
     "text": [
      "\rMorphologyExtractor transform:  11%|█▏        | 12155/105746 [00:00<00:03, 31109.94it/s]"
     ]
    },
    {
     "name": "stderr",
     "output_type": "stream",
     "text": [
      "\rMorphologyExtractor transform:  14%|█▎        | 14465/105746 [00:00<00:03, 26653.15it/s]"
     ]
    },
    {
     "name": "stderr",
     "output_type": "stream",
     "text": [
      "\rMorphologyExtractor transform:  17%|█▋        | 17858/105746 [00:00<00:03, 28473.73it/s]"
     ]
    },
    {
     "name": "stderr",
     "output_type": "stream",
     "text": [
      "\rMorphologyExtractor transform:  21%|██        | 22376/105746 [00:00<00:02, 32014.22it/s]"
     ]
    },
    {
     "name": "stderr",
     "output_type": "stream",
     "text": [
      "\rMorphologyExtractor transform:  26%|██▌       | 26968/105746 [00:00<00:02, 35212.72it/s]"
     ]
    },
    {
     "name": "stderr",
     "output_type": "stream",
     "text": [
      "\rMorphologyExtractor transform:  30%|██▉       | 31495/105746 [00:00<00:01, 37722.54it/s]"
     ]
    },
    {
     "name": "stderr",
     "output_type": "stream",
     "text": [
      "\rMorphologyExtractor transform:  33%|███▎      | 35361/105746 [00:01<00:01, 36752.28it/s]"
     ]
    },
    {
     "name": "stderr",
     "output_type": "stream",
     "text": [
      "\rMorphologyExtractor transform:  37%|███▋      | 39107/105746 [00:01<00:01, 36506.05it/s]"
     ]
    },
    {
     "name": "stderr",
     "output_type": "stream",
     "text": [
      "\rMorphologyExtractor transform:  41%|████      | 43484/105746 [00:01<00:01, 38418.41it/s]"
     ]
    },
    {
     "name": "stderr",
     "output_type": "stream",
     "text": [
      "\rMorphologyExtractor transform:  46%|████▌     | 48330/105746 [00:01<00:01, 40964.33it/s]"
     ]
    },
    {
     "name": "stderr",
     "output_type": "stream",
     "text": [
      "\rMorphologyExtractor transform:  50%|█████     | 53376/105746 [00:01<00:01, 43413.20it/s]"
     ]
    },
    {
     "name": "stderr",
     "output_type": "stream",
     "text": [
      "\rMorphologyExtractor transform:  55%|█████▍    | 57820/105746 [00:01<00:01, 43669.72it/s]"
     ]
    },
    {
     "name": "stderr",
     "output_type": "stream",
     "text": [
      "\rMorphologyExtractor transform:  60%|█████▉    | 62944/105746 [00:01<00:00, 45681.32it/s]"
     ]
    },
    {
     "name": "stderr",
     "output_type": "stream",
     "text": [
      "\rMorphologyExtractor transform:  64%|██████▍   | 67587/105746 [00:01<00:00, 45769.40it/s]"
     ]
    },
    {
     "name": "stderr",
     "output_type": "stream",
     "text": [
      "\rMorphologyExtractor transform:  68%|██████▊   | 72217/105746 [00:01<00:00, 44102.86it/s]"
     ]
    },
    {
     "name": "stderr",
     "output_type": "stream",
     "text": [
      "\rMorphologyExtractor transform:  73%|███████▎  | 76677/105746 [00:01<00:00, 43428.71it/s]"
     ]
    },
    {
     "name": "stderr",
     "output_type": "stream",
     "text": [
      "\rMorphologyExtractor transform:  77%|███████▋  | 81057/105746 [00:02<00:00, 40400.89it/s]"
     ]
    },
    {
     "name": "stderr",
     "output_type": "stream",
     "text": [
      "\rMorphologyExtractor transform:  81%|████████  | 85166/105746 [00:02<00:00, 33440.57it/s]"
     ]
    },
    {
     "name": "stderr",
     "output_type": "stream",
     "text": [
      "\rMorphologyExtractor transform:  84%|████████▍ | 88758/105746 [00:02<00:00, 30932.40it/s]"
     ]
    },
    {
     "name": "stderr",
     "output_type": "stream",
     "text": [
      "\rMorphologyExtractor transform:  87%|████████▋ | 92062/105746 [00:02<00:00, 28876.47it/s]"
     ]
    },
    {
     "name": "stderr",
     "output_type": "stream",
     "text": [
      "\rMorphologyExtractor transform:  90%|████████▉ | 95125/105746 [00:02<00:00, 26111.89it/s]"
     ]
    },
    {
     "name": "stderr",
     "output_type": "stream",
     "text": [
      "\rMorphologyExtractor transform:  93%|█████████▎| 98207/105746 [00:02<00:00, 27351.38it/s]"
     ]
    },
    {
     "name": "stderr",
     "output_type": "stream",
     "text": [
      "\rMorphologyExtractor transform:  96%|█████████▌| 101475/105746 [00:02<00:00, 28745.52it/s]"
     ]
    },
    {
     "name": "stderr",
     "output_type": "stream",
     "text": [
      "\rMorphologyExtractor transform: 100%|█████████▉| 105346/105746 [00:02<00:00, 31150.46it/s]"
     ]
    },
    {
     "name": "stderr",
     "output_type": "stream",
     "text": [
      "\rMorphologyExtractor transform: 100%|██████████| 105746/105746 [00:02<00:00, 35452.28it/s]"
     ]
    },
    {
     "name": "stderr",
     "output_type": "stream",
     "text": [
      "\n"
     ]
    },
    {
     "name": "stderr",
     "output_type": "stream",
     "text": [
      "\rMorphologyExtractor transform:   0%|          | 0/105746 [00:00<?, ?it/s]"
     ]
    },
    {
     "name": "stderr",
     "output_type": "stream",
     "text": [
      "\rMorphologyExtractor transform:   3%|▎         | 3003/105746 [00:00<00:03, 29955.11it/s]"
     ]
    },
    {
     "name": "stderr",
     "output_type": "stream",
     "text": [
      "\rMorphologyExtractor transform:   6%|▌         | 5943/105746 [00:00<00:03, 29775.24it/s]"
     ]
    },
    {
     "name": "stderr",
     "output_type": "stream",
     "text": [
      "\rMorphologyExtractor transform:  10%|▉         | 10172/105746 [00:00<00:02, 32662.86it/s]"
     ]
    },
    {
     "name": "stderr",
     "output_type": "stream",
     "text": [
      "\rMorphologyExtractor transform:  14%|█▍        | 15273/105746 [00:00<00:02, 36611.67it/s]"
     ]
    },
    {
     "name": "stderr",
     "output_type": "stream",
     "text": [
      "\rMorphologyExtractor transform:  19%|█▉        | 19978/105746 [00:00<00:02, 39209.82it/s]"
     ]
    },
    {
     "name": "stderr",
     "output_type": "stream",
     "text": [
      "\rMorphologyExtractor transform:  24%|██▍       | 25146/105746 [00:00<00:01, 42253.09it/s]"
     ]
    },
    {
     "name": "stderr",
     "output_type": "stream",
     "text": [
      "\rMorphologyExtractor transform:  28%|██▊       | 29725/105746 [00:00<00:01, 43253.11it/s]"
     ]
    },
    {
     "name": "stderr",
     "output_type": "stream",
     "text": [
      "\rMorphologyExtractor transform:  33%|███▎      | 34525/105746 [00:00<00:01, 44571.36it/s]"
     ]
    },
    {
     "name": "stderr",
     "output_type": "stream",
     "text": [
      "\rMorphologyExtractor transform:  38%|███▊      | 39783/105746 [00:00<00:01, 46701.67it/s]"
     ]
    },
    {
     "name": "stderr",
     "output_type": "stream",
     "text": [
      "\rMorphologyExtractor transform:  43%|████▎     | 45368/105746 [00:01<00:01, 49114.96it/s]"
     ]
    },
    {
     "name": "stderr",
     "output_type": "stream",
     "text": [
      "\rMorphologyExtractor transform:  48%|████▊     | 50528/105746 [00:01<00:01, 49824.00it/s]"
     ]
    },
    {
     "name": "stderr",
     "output_type": "stream",
     "text": [
      "\rMorphologyExtractor transform:  53%|█████▎    | 56027/105746 [00:01<00:00, 51233.10it/s]"
     ]
    },
    {
     "name": "stderr",
     "output_type": "stream",
     "text": [
      "\rMorphologyExtractor transform:  58%|█████▊    | 61174/105746 [00:01<00:00, 48357.47it/s]"
     ]
    },
    {
     "name": "stderr",
     "output_type": "stream",
     "text": [
      "\rMorphologyExtractor transform:  63%|██████▎   | 66578/105746 [00:01<00:00, 49929.07it/s]"
     ]
    },
    {
     "name": "stderr",
     "output_type": "stream",
     "text": [
      "\rMorphologyExtractor transform:  68%|██████▊   | 71619/105746 [00:01<00:00, 44546.16it/s]"
     ]
    },
    {
     "name": "stderr",
     "output_type": "stream",
     "text": [
      "\rMorphologyExtractor transform:  72%|███████▏  | 76216/105746 [00:01<00:00, 43401.92it/s]"
     ]
    },
    {
     "name": "stderr",
     "output_type": "stream",
     "text": [
      "\rMorphologyExtractor transform:  77%|███████▋  | 80999/105746 [00:01<00:00, 44634.54it/s]"
     ]
    },
    {
     "name": "stderr",
     "output_type": "stream",
     "text": [
      "\rMorphologyExtractor transform:  81%|████████  | 85839/105746 [00:01<00:00, 45700.43it/s]"
     ]
    },
    {
     "name": "stderr",
     "output_type": "stream",
     "text": [
      "\rMorphologyExtractor transform:  86%|████████▌ | 90474/105746 [00:02<00:00, 27448.71it/s]"
     ]
    },
    {
     "name": "stderr",
     "output_type": "stream",
     "text": [
      "\rMorphologyExtractor transform:  91%|█████████ | 95730/105746 [00:02<00:00, 32040.74it/s]"
     ]
    },
    {
     "name": "stderr",
     "output_type": "stream",
     "text": [
      "\rMorphologyExtractor transform:  96%|█████████▌| 101387/105746 [00:02<00:00, 36822.60it/s]"
     ]
    },
    {
     "name": "stderr",
     "output_type": "stream",
     "text": [
      "\rMorphologyExtractor transform: 100%|██████████| 105746/105746 [00:02<00:00, 42700.27it/s]"
     ]
    },
    {
     "name": "stderr",
     "output_type": "stream",
     "text": [
      "\n"
     ]
    },
    {
     "name": "stderr",
     "output_type": "stream",
     "text": [
      "\rMorphologyExtractor transform:   0%|          | 0/105746 [00:00<?, ?it/s]"
     ]
    },
    {
     "name": "stderr",
     "output_type": "stream",
     "text": [
      "\rMorphologyExtractor transform:   4%|▍         | 4643/105746 [00:00<00:02, 46406.92it/s]"
     ]
    },
    {
     "name": "stderr",
     "output_type": "stream",
     "text": [
      "\rMorphologyExtractor transform:   9%|▊         | 9021/105746 [00:00<00:02, 45570.09it/s]"
     ]
    },
    {
     "name": "stderr",
     "output_type": "stream",
     "text": [
      "\rMorphologyExtractor transform:  13%|█▎        | 13868/105746 [00:00<00:01, 46383.25it/s]"
     ]
    },
    {
     "name": "stderr",
     "output_type": "stream",
     "text": [
      "\rMorphologyExtractor transform:  18%|█▊        | 19340/105746 [00:00<00:01, 48578.49it/s]"
     ]
    },
    {
     "name": "stderr",
     "output_type": "stream",
     "text": [
      "\rMorphologyExtractor transform:  23%|██▎       | 24770/105746 [00:00<00:01, 50163.52it/s]"
     ]
    },
    {
     "name": "stderr",
     "output_type": "stream",
     "text": [
      "\rMorphologyExtractor transform:  29%|██▉       | 30628/105746 [00:00<00:01, 52418.98it/s]"
     ]
    },
    {
     "name": "stderr",
     "output_type": "stream",
     "text": [
      "\rMorphologyExtractor transform:  35%|███▍      | 36952/105746 [00:00<00:01, 55255.32it/s]"
     ]
    },
    {
     "name": "stderr",
     "output_type": "stream",
     "text": [
      "\rMorphologyExtractor transform:  41%|████▏     | 43647/105746 [00:00<00:01, 58305.98it/s]"
     ]
    },
    {
     "name": "stderr",
     "output_type": "stream",
     "text": [
      "\rMorphologyExtractor transform:  48%|████▊     | 50243/105746 [00:00<00:00, 60406.58it/s]"
     ]
    },
    {
     "name": "stderr",
     "output_type": "stream",
     "text": [
      "\rMorphologyExtractor transform:  54%|█████▎    | 56586/105746 [00:01<00:00, 61256.08it/s]"
     ]
    },
    {
     "name": "stderr",
     "output_type": "stream",
     "text": [
      "\rMorphologyExtractor transform:  60%|█████▉    | 63006/105746 [00:01<00:00, 62110.14it/s]"
     ]
    },
    {
     "name": "stderr",
     "output_type": "stream",
     "text": [
      "\rMorphologyExtractor transform:  66%|██████▌   | 69493/105746 [00:01<00:00, 62912.97it/s]"
     ]
    },
    {
     "name": "stderr",
     "output_type": "stream",
     "text": [
      "\rMorphologyExtractor transform:  72%|███████▏  | 75757/105746 [00:01<00:00, 62012.41it/s]"
     ]
    },
    {
     "name": "stderr",
     "output_type": "stream",
     "text": [
      "\rMorphologyExtractor transform:  77%|███████▋  | 81942/105746 [00:01<00:00, 57965.30it/s]"
     ]
    },
    {
     "name": "stderr",
     "output_type": "stream",
     "text": [
      "\rMorphologyExtractor transform:  83%|████████▎ | 87781/105746 [00:01<00:00, 51382.10it/s]"
     ]
    },
    {
     "name": "stderr",
     "output_type": "stream",
     "text": [
      "\rMorphologyExtractor transform:  88%|████████▊ | 93087/105746 [00:01<00:00, 43221.93it/s]"
     ]
    },
    {
     "name": "stderr",
     "output_type": "stream",
     "text": [
      "\rMorphologyExtractor transform:  92%|█████████▏| 97747/105746 [00:01<00:00, 38865.61it/s]"
     ]
    },
    {
     "name": "stderr",
     "output_type": "stream",
     "text": [
      "\rMorphologyExtractor transform:  96%|█████████▋| 101953/105746 [00:02<00:00, 33467.24it/s]"
     ]
    },
    {
     "name": "stderr",
     "output_type": "stream",
     "text": [
      "\rMorphologyExtractor transform: 100%|█████████▉| 105656/105746 [00:02<00:00, 33038.03it/s]"
     ]
    },
    {
     "name": "stderr",
     "output_type": "stream",
     "text": [
      "\rMorphologyExtractor transform: 100%|██████████| 105746/105746 [00:02<00:00, 48415.44it/s]"
     ]
    },
    {
     "name": "stderr",
     "output_type": "stream",
     "text": [
      "\n"
     ]
    },
    {
     "name": "stderr",
     "output_type": "stream",
     "text": [
      "\rMorphologyExtractor transform:   0%|          | 0/105746 [00:00<?, ?it/s]"
     ]
    },
    {
     "name": "stderr",
     "output_type": "stream",
     "text": [
      "\rMorphologyExtractor transform:   4%|▍         | 4250/105746 [00:00<00:02, 42490.32it/s]"
     ]
    },
    {
     "name": "stderr",
     "output_type": "stream",
     "text": [
      "\rMorphologyExtractor transform:   9%|▉         | 9522/105746 [00:00<00:02, 45092.89it/s]"
     ]
    },
    {
     "name": "stderr",
     "output_type": "stream",
     "text": [
      "\rMorphologyExtractor transform:  14%|█▍        | 15288/105746 [00:00<00:01, 48247.22it/s]"
     ]
    },
    {
     "name": "stderr",
     "output_type": "stream",
     "text": [
      "\rMorphologyExtractor transform:  20%|██        | 21177/105746 [00:00<00:01, 51008.61it/s]"
     ]
    },
    {
     "name": "stderr",
     "output_type": "stream",
     "text": [
      "\rMorphologyExtractor transform:  26%|██▋       | 27792/105746 [00:00<00:01, 54751.99it/s]"
     ]
    },
    {
     "name": "stderr",
     "output_type": "stream",
     "text": [
      "\rMorphologyExtractor transform:  32%|███▏      | 34344/105746 [00:00<00:01, 57582.81it/s]"
     ]
    },
    {
     "name": "stderr",
     "output_type": "stream",
     "text": [
      "\rMorphologyExtractor transform:  38%|███▊      | 40662/105746 [00:00<00:01, 59149.50it/s]"
     ]
    },
    {
     "name": "stderr",
     "output_type": "stream",
     "text": [
      "\rMorphologyExtractor transform:  44%|████▍     | 46655/105746 [00:00<00:00, 59380.47it/s]"
     ]
    },
    {
     "name": "stderr",
     "output_type": "stream",
     "text": [
      "\rMorphologyExtractor transform:  50%|████▉     | 52767/105746 [00:00<00:00, 59891.65it/s]"
     ]
    },
    {
     "name": "stderr",
     "output_type": "stream",
     "text": [
      "\rMorphologyExtractor transform:  55%|█████▌    | 58641/105746 [00:01<00:00, 54970.29it/s]"
     ]
    },
    {
     "name": "stderr",
     "output_type": "stream",
     "text": [
      "\rMorphologyExtractor transform:  61%|██████    | 64352/105746 [00:01<00:00, 55594.85it/s]"
     ]
    },
    {
     "name": "stderr",
     "output_type": "stream",
     "text": [
      "\rMorphologyExtractor transform:  66%|██████▌   | 69913/105746 [00:01<00:00, 53149.47it/s]"
     ]
    },
    {
     "name": "stderr",
     "output_type": "stream",
     "text": [
      "\rMorphologyExtractor transform:  72%|███████▏  | 76211/105746 [00:01<00:00, 55760.41it/s]"
     ]
    },
    {
     "name": "stderr",
     "output_type": "stream",
     "text": [
      "\rMorphologyExtractor transform:  78%|███████▊  | 82543/105746 [00:01<00:00, 57831.39it/s]"
     ]
    },
    {
     "name": "stderr",
     "output_type": "stream",
     "text": [
      "\rMorphologyExtractor transform:  84%|████████▍ | 89043/105746 [00:01<00:00, 59809.30it/s]"
     ]
    },
    {
     "name": "stderr",
     "output_type": "stream",
     "text": [
      "\rMorphologyExtractor transform:  90%|█████████ | 95287/105746 [00:01<00:00, 60569.78it/s]"
     ]
    },
    {
     "name": "stderr",
     "output_type": "stream",
     "text": [
      "\rMorphologyExtractor transform:  97%|█████████▋| 102194/105746 [00:01<00:00, 62891.27it/s]"
     ]
    },
    {
     "name": "stderr",
     "output_type": "stream",
     "text": [
      "\rMorphologyExtractor transform: 100%|██████████| 105746/105746 [00:01<00:00, 58833.88it/s]"
     ]
    },
    {
     "name": "stderr",
     "output_type": "stream",
     "text": [
      "\n"
     ]
    },
    {
     "name": "stderr",
     "output_type": "stream",
     "text": [
      "\rMorphologyExtractor transform:   0%|          | 0/105746 [00:00<?, ?it/s]"
     ]
    },
    {
     "name": "stderr",
     "output_type": "stream",
     "text": [
      "\rMorphologyExtractor transform:   2%|▏         | 2577/105746 [00:00<00:04, 25766.89it/s]"
     ]
    },
    {
     "name": "stderr",
     "output_type": "stream",
     "text": [
      "\rMorphologyExtractor transform:   5%|▍         | 5134/105746 [00:00<00:03, 25704.94it/s]"
     ]
    },
    {
     "name": "stderr",
     "output_type": "stream",
     "text": [
      "\rMorphologyExtractor transform:   7%|▋         | 7707/105746 [00:00<00:03, 25710.55it/s]"
     ]
    },
    {
     "name": "stderr",
     "output_type": "stream",
     "text": [
      "\rMorphologyExtractor transform:  10%|█         | 10675/105746 [00:00<00:03, 26782.40it/s]"
     ]
    },
    {
     "name": "stderr",
     "output_type": "stream",
     "text": [
      "\rMorphologyExtractor transform:  13%|█▎        | 14197/105746 [00:00<00:03, 28854.41it/s]"
     ]
    },
    {
     "name": "stderr",
     "output_type": "stream",
     "text": [
      "\rMorphologyExtractor transform:  17%|█▋        | 17580/105746 [00:00<00:02, 30174.52it/s]"
     ]
    },
    {
     "name": "stderr",
     "output_type": "stream",
     "text": [
      "\rMorphologyExtractor transform:  20%|██        | 21264/105746 [00:00<00:02, 31893.04it/s]"
     ]
    },
    {
     "name": "stderr",
     "output_type": "stream",
     "text": [
      "\rMorphologyExtractor transform:  24%|██▎       | 24993/105746 [00:00<00:02, 33340.47it/s]"
     ]
    },
    {
     "name": "stderr",
     "output_type": "stream",
     "text": [
      "\rMorphologyExtractor transform:  27%|██▋       | 28735/105746 [00:00<00:02, 34466.63it/s]"
     ]
    },
    {
     "name": "stderr",
     "output_type": "stream",
     "text": [
      "\rMorphologyExtractor transform:  31%|███       | 32872/105746 [00:01<00:02, 36282.90it/s]"
     ]
    },
    {
     "name": "stderr",
     "output_type": "stream",
     "text": [
      "\rMorphologyExtractor transform:  35%|███▍      | 36674/105746 [00:01<00:01, 36782.66it/s]"
     ]
    },
    {
     "name": "stderr",
     "output_type": "stream",
     "text": [
      "\rMorphologyExtractor transform:  39%|███▉      | 41003/105746 [00:01<00:01, 38518.01it/s]"
     ]
    },
    {
     "name": "stderr",
     "output_type": "stream",
     "text": [
      "\rMorphologyExtractor transform:  43%|████▎     | 45335/105746 [00:01<00:01, 39831.12it/s]"
     ]
    },
    {
     "name": "stderr",
     "output_type": "stream",
     "text": [
      "\rMorphologyExtractor transform:  47%|████▋     | 49734/105746 [00:01<00:01, 40991.63it/s]"
     ]
    },
    {
     "name": "stderr",
     "output_type": "stream",
     "text": [
      "\rMorphologyExtractor transform:  52%|█████▏    | 54499/105746 [00:01<00:01, 42759.51it/s]"
     ]
    },
    {
     "name": "stderr",
     "output_type": "stream",
     "text": [
      "\rMorphologyExtractor transform:  56%|█████▌    | 59134/105746 [00:01<00:01, 43776.10it/s]"
     ]
    },
    {
     "name": "stderr",
     "output_type": "stream",
     "text": [
      "\rMorphologyExtractor transform:  60%|██████    | 63544/105746 [00:01<00:00, 43854.06it/s]"
     ]
    },
    {
     "name": "stderr",
     "output_type": "stream",
     "text": [
      "\rMorphologyExtractor transform:  65%|██████▍   | 68320/105746 [00:01<00:00, 44952.61it/s]"
     ]
    },
    {
     "name": "stderr",
     "output_type": "stream",
     "text": [
      "\rMorphologyExtractor transform:  69%|██████▉   | 72838/105746 [00:01<00:00, 44236.01it/s]"
     ]
    },
    {
     "name": "stderr",
     "output_type": "stream",
     "text": [
      "\rMorphologyExtractor transform:  73%|███████▎  | 77495/105746 [00:02<00:00, 44905.15it/s]"
     ]
    },
    {
     "name": "stderr",
     "output_type": "stream",
     "text": [
      "\rMorphologyExtractor transform:  78%|███████▊  | 82425/105746 [00:02<00:00, 46138.80it/s]"
     ]
    },
    {
     "name": "stderr",
     "output_type": "stream",
     "text": [
      "\rMorphologyExtractor transform:  83%|████████▎ | 87391/105746 [00:02<00:00, 47121.10it/s]"
     ]
    },
    {
     "name": "stderr",
     "output_type": "stream",
     "text": [
      "\rMorphologyExtractor transform:  87%|████████▋ | 92122/105746 [00:02<00:00, 46895.32it/s]"
     ]
    },
    {
     "name": "stderr",
     "output_type": "stream",
     "text": [
      "\rMorphologyExtractor transform:  92%|█████████▏| 96872/105746 [00:02<00:00, 47058.33it/s]"
     ]
    },
    {
     "name": "stderr",
     "output_type": "stream",
     "text": [
      "\rMorphologyExtractor transform:  96%|█████████▋| 101965/105746 [00:02<00:00, 48154.51it/s]"
     ]
    },
    {
     "name": "stderr",
     "output_type": "stream",
     "text": [
      "\rMorphologyExtractor transform: 100%|██████████| 105746/105746 [00:02<00:00, 40860.89it/s]"
     ]
    },
    {
     "name": "stderr",
     "output_type": "stream",
     "text": [
      "\n"
     ]
    },
    {
     "name": "stderr",
     "output_type": "stream",
     "text": [
      "\rMorphologyExtractor transform:   0%|          | 0/105746 [00:00<?, ?it/s]"
     ]
    },
    {
     "name": "stderr",
     "output_type": "stream",
     "text": [
      "\rMorphologyExtractor transform:   4%|▍         | 4447/105746 [00:00<00:02, 44404.30it/s]"
     ]
    },
    {
     "name": "stderr",
     "output_type": "stream",
     "text": [
      "\rMorphologyExtractor transform:   9%|▊         | 9030/105746 [00:00<00:02, 44818.39it/s]"
     ]
    },
    {
     "name": "stderr",
     "output_type": "stream",
     "text": [
      "\rMorphologyExtractor transform:  13%|█▎        | 13965/105746 [00:00<00:01, 46083.87it/s]"
     ]
    },
    {
     "name": "stderr",
     "output_type": "stream",
     "text": [
      "\rMorphologyExtractor transform:  18%|█▊        | 19045/105746 [00:00<00:01, 47403.98it/s]"
     ]
    },
    {
     "name": "stderr",
     "output_type": "stream",
     "text": [
      "\rMorphologyExtractor transform:  23%|██▎       | 24171/105746 [00:00<00:01, 48498.35it/s]"
     ]
    },
    {
     "name": "stderr",
     "output_type": "stream",
     "text": [
      "\rMorphologyExtractor transform:  28%|██▊       | 29474/105746 [00:00<00:01, 49774.36it/s]"
     ]
    },
    {
     "name": "stderr",
     "output_type": "stream",
     "text": [
      "\rMorphologyExtractor transform:  33%|███▎      | 34510/105746 [00:00<00:01, 49945.80it/s]"
     ]
    },
    {
     "name": "stderr",
     "output_type": "stream",
     "text": [
      "\rMorphologyExtractor transform:  37%|███▋      | 39553/105746 [00:00<00:01, 50088.46it/s]"
     ]
    },
    {
     "name": "stderr",
     "output_type": "stream",
     "text": [
      "\rMorphologyExtractor transform:  42%|████▏     | 44317/105746 [00:00<00:01, 48835.35it/s]"
     ]
    },
    {
     "name": "stderr",
     "output_type": "stream",
     "text": [
      "\rMorphologyExtractor transform:  46%|████▋     | 49036/105746 [00:01<00:01, 47617.59it/s]"
     ]
    },
    {
     "name": "stderr",
     "output_type": "stream",
     "text": [
      "\rMorphologyExtractor transform:  52%|█████▏    | 54549/105746 [00:01<00:01, 49647.03it/s]"
     ]
    },
    {
     "name": "stderr",
     "output_type": "stream",
     "text": [
      "\rMorphologyExtractor transform:  56%|█████▋    | 59591/105746 [00:01<00:00, 49874.07it/s]"
     ]
    },
    {
     "name": "stderr",
     "output_type": "stream",
     "text": [
      "\rMorphologyExtractor transform:  62%|██████▏   | 65126/105746 [00:01<00:00, 51381.42it/s]"
     ]
    },
    {
     "name": "stderr",
     "output_type": "stream",
     "text": [
      "\rMorphologyExtractor transform:  67%|██████▋   | 70725/105746 [00:01<00:00, 52664.47it/s]"
     ]
    },
    {
     "name": "stderr",
     "output_type": "stream",
     "text": [
      "\rMorphologyExtractor transform:  72%|███████▏  | 75990/105746 [00:01<00:00, 52455.85it/s]"
     ]
    },
    {
     "name": "stderr",
     "output_type": "stream",
     "text": [
      "\rMorphologyExtractor transform:  77%|███████▋  | 81404/105746 [00:01<00:00, 52945.34it/s]"
     ]
    },
    {
     "name": "stderr",
     "output_type": "stream",
     "text": [
      "\rMorphologyExtractor transform:  82%|████████▏ | 86776/105746 [00:01<00:00, 53168.43it/s]"
     ]
    },
    {
     "name": "stderr",
     "output_type": "stream",
     "text": [
      "\rMorphologyExtractor transform:  87%|████████▋ | 92094/105746 [00:01<00:00, 51328.93it/s]"
     ]
    },
    {
     "name": "stderr",
     "output_type": "stream",
     "text": [
      "\rMorphologyExtractor transform:  92%|█████████▏| 97241/105746 [00:01<00:00, 50945.45it/s]"
     ]
    },
    {
     "name": "stderr",
     "output_type": "stream",
     "text": [
      "\rMorphologyExtractor transform:  97%|█████████▋| 102676/105746 [00:02<00:00, 51919.41it/s]"
     ]
    },
    {
     "name": "stderr",
     "output_type": "stream",
     "text": [
      "\rMorphologyExtractor transform: 100%|██████████| 105746/105746 [00:02<00:00, 50711.86it/s]"
     ]
    },
    {
     "name": "stderr",
     "output_type": "stream",
     "text": [
      "\n"
     ]
    },
    {
     "name": "stderr",
     "output_type": "stream",
     "text": [
      "\rMorphologyExtractor transform:   0%|          | 0/105746 [00:00<?, ?it/s]"
     ]
    },
    {
     "name": "stderr",
     "output_type": "stream",
     "text": [
      "\rMorphologyExtractor transform:   4%|▍         | 4750/105746 [00:00<00:02, 47488.27it/s]"
     ]
    },
    {
     "name": "stderr",
     "output_type": "stream",
     "text": [
      "\rMorphologyExtractor transform:   9%|▉         | 9334/105746 [00:00<00:02, 46917.14it/s]"
     ]
    },
    {
     "name": "stderr",
     "output_type": "stream",
     "text": [
      "\rMorphologyExtractor transform:  13%|█▎        | 13289/105746 [00:00<00:02, 44410.42it/s]"
     ]
    },
    {
     "name": "stderr",
     "output_type": "stream",
     "text": [
      "\rMorphologyExtractor transform:  16%|█▌        | 16491/105746 [00:00<00:02, 39781.80it/s]"
     ]
    },
    {
     "name": "stderr",
     "output_type": "stream",
     "text": [
      "\rMorphologyExtractor transform:  21%|██        | 22104/105746 [00:00<00:01, 43569.08it/s]"
     ]
    },
    {
     "name": "stderr",
     "output_type": "stream",
     "text": [
      "\rMorphologyExtractor transform:  26%|██▌       | 27626/105746 [00:00<00:01, 46478.25it/s]"
     ]
    },
    {
     "name": "stderr",
     "output_type": "stream",
     "text": [
      "\rMorphologyExtractor transform:  30%|███       | 31899/105746 [00:00<00:01, 44097.41it/s]"
     ]
    },
    {
     "name": "stderr",
     "output_type": "stream",
     "text": [
      "\rMorphologyExtractor transform:  34%|███▍      | 36202/105746 [00:00<00:01, 43516.01it/s]"
     ]
    },
    {
     "name": "stderr",
     "output_type": "stream",
     "text": [
      "\rMorphologyExtractor transform:  39%|███▉      | 41569/105746 [00:00<00:01, 46110.28it/s]"
     ]
    },
    {
     "name": "stderr",
     "output_type": "stream",
     "text": [
      "\rMorphologyExtractor transform:  44%|████▍     | 46995/105746 [00:01<00:01, 48283.54it/s]"
     ]
    },
    {
     "name": "stderr",
     "output_type": "stream",
     "text": [
      "\rMorphologyExtractor transform:  50%|████▉     | 52840/105746 [00:01<00:01, 50932.37it/s]"
     ]
    },
    {
     "name": "stderr",
     "output_type": "stream",
     "text": [
      "\rMorphologyExtractor transform:  55%|█████▌    | 58283/105746 [00:01<00:00, 51917.18it/s]"
     ]
    },
    {
     "name": "stderr",
     "output_type": "stream",
     "text": [
      "\rMorphologyExtractor transform:  61%|██████    | 64156/105746 [00:01<00:00, 53785.39it/s]"
     ]
    },
    {
     "name": "stderr",
     "output_type": "stream",
     "text": [
      "\rMorphologyExtractor transform:  66%|██████▌   | 69800/105746 [00:01<00:00, 54550.40it/s]"
     ]
    },
    {
     "name": "stderr",
     "output_type": "stream",
     "text": [
      "\rMorphologyExtractor transform:  72%|███████▏  | 75924/105746 [00:01<00:00, 56395.22it/s]"
     ]
    },
    {
     "name": "stderr",
     "output_type": "stream",
     "text": [
      "\rMorphologyExtractor transform:  77%|███████▋  | 81715/105746 [00:01<00:00, 56838.93it/s]"
     ]
    },
    {
     "name": "stderr",
     "output_type": "stream",
     "text": [
      "\rMorphologyExtractor transform:  83%|████████▎ | 87432/105746 [00:01<00:00, 56937.66it/s]"
     ]
    },
    {
     "name": "stderr",
     "output_type": "stream",
     "text": [
      "\rMorphologyExtractor transform:  89%|████████▉ | 93949/105746 [00:01<00:00, 59174.25it/s]"
     ]
    },
    {
     "name": "stderr",
     "output_type": "stream",
     "text": [
      "\rMorphologyExtractor transform:  94%|█████████▍| 99901/105746 [00:01<00:00, 59173.24it/s]"
     ]
    },
    {
     "name": "stderr",
     "output_type": "stream",
     "text": [
      "\rMorphologyExtractor transform: 100%|██████████| 105746/105746 [00:02<00:00, 51533.44it/s]"
     ]
    },
    {
     "name": "stderr",
     "output_type": "stream",
     "text": [
      "\n"
     ]
    },
    {
     "name": "stderr",
     "output_type": "stream",
     "text": [
      "\rMorphologyExtractor transform:   0%|          | 0/105746 [00:00<?, ?it/s]"
     ]
    },
    {
     "name": "stderr",
     "output_type": "stream",
     "text": [
      "\rMorphologyExtractor transform:   5%|▍         | 4783/105746 [00:00<00:02, 47807.59it/s]"
     ]
    },
    {
     "name": "stderr",
     "output_type": "stream",
     "text": [
      "\rMorphologyExtractor transform:   9%|▉         | 9553/105746 [00:00<00:02, 47774.52it/s]"
     ]
    },
    {
     "name": "stderr",
     "output_type": "stream",
     "text": [
      "\rMorphologyExtractor transform:  13%|█▎        | 13306/105746 [00:00<00:02, 42828.48it/s]"
     ]
    },
    {
     "name": "stderr",
     "output_type": "stream",
     "text": [
      "\rMorphologyExtractor transform:  17%|█▋        | 17655/105746 [00:00<00:02, 43002.85it/s]"
     ]
    },
    {
     "name": "stderr",
     "output_type": "stream",
     "text": [
      "\rMorphologyExtractor transform:  20%|█▉        | 20875/105746 [00:00<00:02, 35839.29it/s]"
     ]
    },
    {
     "name": "stderr",
     "output_type": "stream",
     "text": [
      "\rMorphologyExtractor transform:  23%|██▎       | 23904/105746 [00:00<00:02, 29872.04it/s]"
     ]
    },
    {
     "name": "stderr",
     "output_type": "stream",
     "text": [
      "\rMorphologyExtractor transform:  27%|██▋       | 28618/105746 [00:00<00:02, 33553.76it/s]"
     ]
    },
    {
     "name": "stderr",
     "output_type": "stream",
     "text": [
      "\rMorphologyExtractor transform:  32%|███▏      | 33618/105746 [00:00<00:01, 37225.10it/s]"
     ]
    },
    {
     "name": "stderr",
     "output_type": "stream",
     "text": [
      "\rMorphologyExtractor transform:  37%|███▋      | 39177/105746 [00:00<00:01, 41318.19it/s]"
     ]
    },
    {
     "name": "stderr",
     "output_type": "stream",
     "text": [
      "\rMorphologyExtractor transform:  41%|████      | 43535/105746 [00:01<00:01, 40028.80it/s]"
     ]
    },
    {
     "name": "stderr",
     "output_type": "stream",
     "text": [
      "\rMorphologyExtractor transform:  46%|████▌     | 48868/105746 [00:01<00:01, 43260.03it/s]"
     ]
    },
    {
     "name": "stderr",
     "output_type": "stream",
     "text": [
      "\rMorphologyExtractor transform:  51%|█████▏    | 54400/105746 [00:01<00:01, 46272.19it/s]"
     ]
    },
    {
     "name": "stderr",
     "output_type": "stream",
     "text": [
      "\rMorphologyExtractor transform:  57%|█████▋    | 60393/105746 [00:01<00:00, 49656.34it/s]"
     ]
    },
    {
     "name": "stderr",
     "output_type": "stream",
     "text": [
      "\rMorphologyExtractor transform:  62%|██████▏   | 66069/105746 [00:01<00:00, 51593.17it/s]"
     ]
    },
    {
     "name": "stderr",
     "output_type": "stream",
     "text": [
      "\rMorphologyExtractor transform:  68%|██████▊   | 71391/105746 [00:01<00:00, 51086.09it/s]"
     ]
    },
    {
     "name": "stderr",
     "output_type": "stream",
     "text": [
      "\rMorphologyExtractor transform:  73%|███████▎  | 77106/105746 [00:01<00:00, 52743.53it/s]"
     ]
    },
    {
     "name": "stderr",
     "output_type": "stream",
     "text": [
      "\rMorphologyExtractor transform:  78%|███████▊  | 82475/105746 [00:01<00:00, 52816.60it/s]"
     ]
    },
    {
     "name": "stderr",
     "output_type": "stream",
     "text": [
      "\rMorphologyExtractor transform:  83%|████████▎ | 87823/105746 [00:01<00:00, 51355.44it/s]"
     ]
    },
    {
     "name": "stderr",
     "output_type": "stream",
     "text": [
      "\rMorphologyExtractor transform:  88%|████████▊ | 93014/105746 [00:02<00:00, 46368.66it/s]"
     ]
    },
    {
     "name": "stderr",
     "output_type": "stream",
     "text": [
      "\rMorphologyExtractor transform:  93%|█████████▎| 98258/105746 [00:02<00:00, 48034.09it/s]"
     ]
    },
    {
     "name": "stderr",
     "output_type": "stream",
     "text": [
      "\rMorphologyExtractor transform:  98%|█████████▊| 104019/105746 [00:02<00:00, 50554.92it/s]"
     ]
    },
    {
     "name": "stderr",
     "output_type": "stream",
     "text": [
      "\rMorphologyExtractor transform: 100%|██████████| 105746/105746 [00:02<00:00, 46251.88it/s]"
     ]
    },
    {
     "name": "stderr",
     "output_type": "stream",
     "text": [
      "\n"
     ]
    },
    {
     "name": "stderr",
     "output_type": "stream",
     "text": [
      "\rMorphologyExtractor transform:   0%|          | 0/105746 [00:00<?, ?it/s]"
     ]
    },
    {
     "name": "stderr",
     "output_type": "stream",
     "text": [
      "\rMorphologyExtractor transform:   4%|▍         | 4426/105746 [00:00<00:02, 44167.27it/s]"
     ]
    },
    {
     "name": "stderr",
     "output_type": "stream",
     "text": [
      "\rMorphologyExtractor transform:   9%|▉         | 9611/105746 [00:00<00:02, 46195.12it/s]"
     ]
    },
    {
     "name": "stderr",
     "output_type": "stream",
     "text": [
      "\rMorphologyExtractor transform:  14%|█▍        | 14985/105746 [00:00<00:01, 48225.87it/s]"
     ]
    },
    {
     "name": "stderr",
     "output_type": "stream",
     "text": [
      "\rMorphologyExtractor transform:  19%|█▉        | 20151/105746 [00:00<00:01, 49206.64it/s]"
     ]
    },
    {
     "name": "stderr",
     "output_type": "stream",
     "text": [
      "\rMorphologyExtractor transform:  26%|██▌       | 27206/105746 [00:00<00:01, 54117.34it/s]"
     ]
    },
    {
     "name": "stderr",
     "output_type": "stream",
     "text": [
      "\rMorphologyExtractor transform:  32%|███▏      | 34226/105746 [00:00<00:01, 58110.85it/s]"
     ]
    },
    {
     "name": "stderr",
     "output_type": "stream",
     "text": [
      "\rMorphologyExtractor transform:  38%|███▊      | 39722/105746 [00:01<00:02, 22508.59it/s]"
     ]
    },
    {
     "name": "stderr",
     "output_type": "stream",
     "text": [
      "\rMorphologyExtractor transform:  43%|████▎     | 45571/105746 [00:01<00:02, 27602.64it/s]"
     ]
    },
    {
     "name": "stderr",
     "output_type": "stream",
     "text": [
      "\rMorphologyExtractor transform:  48%|████▊     | 50664/105746 [00:01<00:01, 31999.40it/s]"
     ]
    },
    {
     "name": "stderr",
     "output_type": "stream",
     "text": [
      "\rMorphologyExtractor transform:  53%|█████▎    | 56390/105746 [00:01<00:01, 36860.41it/s]"
     ]
    },
    {
     "name": "stderr",
     "output_type": "stream",
     "text": [
      "\rMorphologyExtractor transform:  58%|█████▊    | 61447/105746 [00:01<00:01, 37338.47it/s]"
     ]
    },
    {
     "name": "stderr",
     "output_type": "stream",
     "text": [
      "\rMorphologyExtractor transform:  63%|██████▎   | 66142/105746 [00:01<00:01, 38196.25it/s]"
     ]
    },
    {
     "name": "stderr",
     "output_type": "stream",
     "text": [
      "\rMorphologyExtractor transform:  67%|██████▋   | 70640/105746 [00:01<00:00, 37933.03it/s]"
     ]
    },
    {
     "name": "stderr",
     "output_type": "stream",
     "text": [
      "\rMorphologyExtractor transform:  72%|███████▏  | 76342/105746 [00:01<00:00, 42164.31it/s]"
     ]
    },
    {
     "name": "stderr",
     "output_type": "stream",
     "text": [
      "\rMorphologyExtractor transform:  78%|███████▊  | 82819/105746 [00:02<00:00, 47089.57it/s]"
     ]
    },
    {
     "name": "stderr",
     "output_type": "stream",
     "text": [
      "\rMorphologyExtractor transform:  85%|████████▍ | 89443/105746 [00:02<00:00, 51557.52it/s]"
     ]
    },
    {
     "name": "stderr",
     "output_type": "stream",
     "text": [
      "\rMorphologyExtractor transform:  90%|█████████ | 95269/105746 [00:02<00:00, 53400.53it/s]"
     ]
    },
    {
     "name": "stderr",
     "output_type": "stream",
     "text": [
      "\rMorphologyExtractor transform:  95%|█████████▌| 100981/105746 [00:02<00:00, 54451.44it/s]"
     ]
    },
    {
     "name": "stderr",
     "output_type": "stream",
     "text": [
      "\rMorphologyExtractor transform: 100%|██████████| 105746/105746 [00:02<00:00, 42684.87it/s]"
     ]
    },
    {
     "name": "stderr",
     "output_type": "stream",
     "text": [
      "\n"
     ]
    },
    {
     "name": "stderr",
     "output_type": "stream",
     "text": [
      "\rDigitTransformer transform:   0%|          | 0/105746 [00:00<?, ?it/s]"
     ]
    },
    {
     "name": "stderr",
     "output_type": "stream",
     "text": [
      "\rDigitTransformer transform:  33%|███▎      | 35085/105746 [00:00<00:00, 350846.99it/s]"
     ]
    },
    {
     "name": "stderr",
     "output_type": "stream",
     "text": [
      "\rDigitTransformer transform:  67%|██████▋   | 70653/105746 [00:00<00:00, 352267.67it/s]"
     ]
    },
    {
     "name": "stderr",
     "output_type": "stream",
     "text": [
      "\rDigitTransformer transform:  86%|████████▌ | 91091/105746 [00:00<00:00, 289434.81it/s]"
     ]
    },
    {
     "name": "stderr",
     "output_type": "stream",
     "text": [
      "\rDigitTransformer transform: 100%|██████████| 105746/105746 [00:00<00:00, 310699.85it/s]"
     ]
    },
    {
     "name": "stderr",
     "output_type": "stream",
     "text": [
      "\n"
     ]
    },
    {
     "name": "stderr",
     "output_type": "stream",
     "text": [
      "\rDashTransformer transform:   0%|          | 0/105746 [00:00<?, ?it/s]"
     ]
    },
    {
     "name": "stderr",
     "output_type": "stream",
     "text": [
      "\rDashTransformer transform:  33%|███▎      | 34826/105746 [00:00<00:00, 348257.01it/s]"
     ]
    },
    {
     "name": "stderr",
     "output_type": "stream",
     "text": [
      "\rDashTransformer transform:  52%|█████▏    | 54925/105746 [00:00<00:00, 164918.49it/s]"
     ]
    },
    {
     "name": "stderr",
     "output_type": "stream",
     "text": [
      "\rDashTransformer transform:  63%|██████▎   | 66491/105746 [00:00<00:00, 145998.11it/s]"
     ]
    },
    {
     "name": "stderr",
     "output_type": "stream",
     "text": [
      "\rDashTransformer transform:  72%|███████▏  | 76620/105746 [00:00<00:00, 85625.26it/s] "
     ]
    },
    {
     "name": "stderr",
     "output_type": "stream",
     "text": [
      "\rDashTransformer transform:  90%|████████▉ | 94974/105746 [00:00<00:00, 97950.85it/s]"
     ]
    },
    {
     "name": "stderr",
     "output_type": "stream",
     "text": [
      "\rDashTransformer transform: 100%|██████████| 105746/105746 [00:00<00:00, 119277.56it/s]"
     ]
    },
    {
     "name": "stderr",
     "output_type": "stream",
     "text": [
      "\n"
     ]
    },
    {
     "name": "stderr",
     "output_type": "stream",
     "text": [
      "\rDictClassTransformer_PUNCT pre transform:   0%|          | 0/22 [00:00<?, ?it/s]"
     ]
    },
    {
     "name": "stderr",
     "output_type": "stream",
     "text": [
      "\rDictClassTransformer_PUNCT pre transform: 100%|██████████| 22/22 [00:00<00:00, 3123.19it/s]"
     ]
    },
    {
     "name": "stderr",
     "output_type": "stream",
     "text": [
      "\n\rDictClassTransformer_PUNCT transform:   0%|          | 0/105746 [00:00<?, ?it/s]"
     ]
    },
    {
     "name": "stderr",
     "output_type": "stream",
     "text": [
      "\rDictClassTransformer_PUNCT transform:  25%|██▍       | 26388/105746 [00:00<00:00, 263879.62it/s]"
     ]
    },
    {
     "name": "stderr",
     "output_type": "stream",
     "text": [
      "\rDictClassTransformer_PUNCT transform:  54%|█████▍    | 57149/105746 [00:00<00:00, 272053.22it/s]"
     ]
    },
    {
     "name": "stderr",
     "output_type": "stream",
     "text": [
      "\rDictClassTransformer_PUNCT transform: 100%|██████████| 105746/105746 [00:00<00:00, 359967.92it/s]"
     ]
    },
    {
     "name": "stderr",
     "output_type": "stream",
     "text": [
      "\n"
     ]
    },
    {
     "name": "stderr",
     "output_type": "stream",
     "text": [
      "\rDictClassTransformer_VERBATIM pre transform:   0%|          | 0/2496 [00:00<?, ?it/s]"
     ]
    },
    {
     "name": "stderr",
     "output_type": "stream",
     "text": [
      "\rDictClassTransformer_VERBATIM pre transform: 100%|██████████| 2496/2496 [00:00<00:00, 152744.90it/s]"
     ]
    },
    {
     "name": "stderr",
     "output_type": "stream",
     "text": [
      "\n\rDictClassTransformer_VERBATIM transform:   0%|          | 0/105746 [00:00<?, ?it/s]"
     ]
    },
    {
     "name": "stderr",
     "output_type": "stream",
     "text": [
      "\rDictClassTransformer_VERBATIM transform:  93%|█████████▎| 97992/105746 [00:00<00:00, 979911.59it/s]"
     ]
    },
    {
     "name": "stderr",
     "output_type": "stream",
     "text": [
      "\rDictClassTransformer_VERBATIM transform: 100%|██████████| 105746/105746 [00:00<00:00, 956761.84it/s]"
     ]
    },
    {
     "name": "stderr",
     "output_type": "stream",
     "text": [
      "\n"
     ]
    },
    {
     "name": "stderr",
     "output_type": "stream",
     "text": [
      "\rLatinTransliterator transform:   0%|          | 0/105746 [00:00<?, ?it/s]"
     ]
    },
    {
     "name": "stderr",
     "output_type": "stream",
     "text": [
      "\rLatinTransliterator transform:  95%|█████████▌| 100576/105746 [00:00<00:00, 1005748.97it/s]"
     ]
    },
    {
     "name": "stderr",
     "output_type": "stream",
     "text": [
      "\rLatinTransliterator transform: 100%|██████████| 105746/105746 [00:00<00:00, 956258.52it/s] "
     ]
    },
    {
     "name": "stderr",
     "output_type": "stream",
     "text": [
      "\n"
     ]
    },
    {
     "name": "stderr",
     "output_type": "stream",
     "text": [
      "\rMorphologyExtractor transform:   0%|          | 0/105746 [00:00<?, ?it/s]"
     ]
    },
    {
     "name": "stderr",
     "output_type": "stream",
     "text": [
      "\rMorphologyExtractor transform:   2%|▏         | 2210/105746 [00:00<00:04, 22099.76it/s]"
     ]
    },
    {
     "name": "stderr",
     "output_type": "stream",
     "text": [
      "\rMorphologyExtractor transform:   4%|▍         | 4555/105746 [00:00<00:04, 22486.34it/s]"
     ]
    },
    {
     "name": "stderr",
     "output_type": "stream",
     "text": [
      "\rMorphologyExtractor transform:   7%|▋         | 7113/105746 [00:00<00:04, 23332.40it/s]"
     ]
    },
    {
     "name": "stderr",
     "output_type": "stream",
     "text": [
      "\rMorphologyExtractor transform:   9%|▉         | 9945/105746 [00:00<00:03, 24632.64it/s]"
     ]
    },
    {
     "name": "stderr",
     "output_type": "stream",
     "text": [
      "\rMorphologyExtractor transform:  12%|█▏        | 12173/105746 [00:00<00:03, 23866.38it/s]"
     ]
    },
    {
     "name": "stderr",
     "output_type": "stream",
     "text": [
      "\rMorphologyExtractor transform:  14%|█▍        | 15265/105746 [00:00<00:03, 25619.47it/s]"
     ]
    },
    {
     "name": "stderr",
     "output_type": "stream",
     "text": [
      "\rMorphologyExtractor transform:  17%|█▋        | 18164/105746 [00:00<00:03, 26541.72it/s]"
     ]
    },
    {
     "name": "stderr",
     "output_type": "stream",
     "text": [
      "\rMorphologyExtractor transform:  20%|█▉        | 21140/105746 [00:00<00:03, 27430.30it/s]"
     ]
    },
    {
     "name": "stderr",
     "output_type": "stream",
     "text": [
      "\rMorphologyExtractor transform:  23%|██▎       | 24110/105746 [00:00<00:02, 28070.50it/s]"
     ]
    },
    {
     "name": "stderr",
     "output_type": "stream",
     "text": [
      "\rMorphologyExtractor transform:  26%|██▌       | 27096/105746 [00:01<00:02, 28580.73it/s]"
     ]
    },
    {
     "name": "stderr",
     "output_type": "stream",
     "text": [
      "\rMorphologyExtractor transform:  29%|██▊       | 30246/105746 [00:01<00:02, 29395.84it/s]"
     ]
    },
    {
     "name": "stderr",
     "output_type": "stream",
     "text": [
      "\rMorphologyExtractor transform:  31%|███▏      | 33246/105746 [00:01<00:02, 29570.15it/s]"
     ]
    },
    {
     "name": "stderr",
     "output_type": "stream",
     "text": [
      "\rMorphologyExtractor transform:  34%|███▍      | 36189/105746 [00:01<00:02, 28900.36it/s]"
     ]
    },
    {
     "name": "stderr",
     "output_type": "stream",
     "text": [
      "\rMorphologyExtractor transform:  37%|███▋      | 39608/105746 [00:01<00:02, 30306.94it/s]"
     ]
    },
    {
     "name": "stderr",
     "output_type": "stream",
     "text": [
      "\rMorphologyExtractor transform:  41%|████      | 43003/105746 [00:01<00:02, 31314.86it/s]"
     ]
    },
    {
     "name": "stderr",
     "output_type": "stream",
     "text": [
      "\rMorphologyExtractor transform:  44%|████▍     | 47007/105746 [00:01<00:01, 33489.33it/s]"
     ]
    },
    {
     "name": "stderr",
     "output_type": "stream",
     "text": [
      "\rMorphologyExtractor transform:  48%|████▊     | 50617/105746 [00:01<00:01, 34229.60it/s]"
     ]
    },
    {
     "name": "stderr",
     "output_type": "stream",
     "text": [
      "\rMorphologyExtractor transform:  52%|█████▏    | 55135/105746 [00:01<00:01, 36912.37it/s]"
     ]
    },
    {
     "name": "stderr",
     "output_type": "stream",
     "text": [
      "\rMorphologyExtractor transform:  56%|█████▌    | 59398/105746 [00:01<00:01, 38449.24it/s]"
     ]
    },
    {
     "name": "stderr",
     "output_type": "stream",
     "text": [
      "\rMorphologyExtractor transform:  60%|██████    | 63657/105746 [00:02<00:01, 39604.21it/s]"
     ]
    },
    {
     "name": "stderr",
     "output_type": "stream",
     "text": [
      "\rMorphologyExtractor transform:  65%|██████▍   | 68224/105746 [00:02<00:00, 41239.47it/s]"
     ]
    },
    {
     "name": "stderr",
     "output_type": "stream",
     "text": [
      "\rMorphologyExtractor transform:  68%|██████▊   | 72411/105746 [00:02<00:00, 41324.77it/s]"
     ]
    },
    {
     "name": "stderr",
     "output_type": "stream",
     "text": [
      "\rMorphologyExtractor transform:  73%|███████▎  | 76715/105746 [00:02<00:00, 41823.14it/s]"
     ]
    },
    {
     "name": "stderr",
     "output_type": "stream",
     "text": [
      "\rMorphologyExtractor transform:  77%|███████▋  | 80930/105746 [00:02<00:00, 41856.06it/s]"
     ]
    },
    {
     "name": "stderr",
     "output_type": "stream",
     "text": [
      "\rMorphologyExtractor transform:  81%|████████  | 85139/105746 [00:02<00:00, 38015.87it/s]"
     ]
    },
    {
     "name": "stderr",
     "output_type": "stream",
     "text": [
      "\rMorphologyExtractor transform:  84%|████████▍ | 89024/105746 [00:02<00:00, 35908.06it/s]"
     ]
    },
    {
     "name": "stderr",
     "output_type": "stream",
     "text": [
      "\rMorphologyExtractor transform:  88%|████████▊ | 92698/105746 [00:02<00:00, 35482.12it/s]"
     ]
    },
    {
     "name": "stderr",
     "output_type": "stream",
     "text": [
      "\rMorphologyExtractor transform:  91%|█████████ | 96306/105746 [00:02<00:00, 34253.75it/s]"
     ]
    },
    {
     "name": "stderr",
     "output_type": "stream",
     "text": [
      "\rMorphologyExtractor transform:  94%|█████████▍| 99782/105746 [00:03<00:00, 32739.33it/s]"
     ]
    },
    {
     "name": "stderr",
     "output_type": "stream",
     "text": [
      "\rMorphologyExtractor transform:  98%|█████████▊| 103900/105746 [00:03<00:00, 34883.36it/s]"
     ]
    },
    {
     "name": "stderr",
     "output_type": "stream",
     "text": [
      "\rMorphologyExtractor transform: 100%|██████████| 105746/105746 [00:03<00:00, 33521.20it/s]"
     ]
    },
    {
     "name": "stderr",
     "output_type": "stream",
     "text": [
      "\n"
     ]
    },
    {
     "name": "stderr",
     "output_type": "stream",
     "text": [
      "\rMorphologyExtractor transform:   0%|          | 0/105746 [00:00<?, ?it/s]"
     ]
    },
    {
     "name": "stderr",
     "output_type": "stream",
     "text": [
      "\rMorphologyExtractor transform:   4%|▍         | 4044/105746 [00:00<00:02, 40418.84it/s]"
     ]
    },
    {
     "name": "stderr",
     "output_type": "stream",
     "text": [
      "\rMorphologyExtractor transform:   7%|▋         | 7582/105746 [00:00<00:02, 38742.03it/s]"
     ]
    },
    {
     "name": "stderr",
     "output_type": "stream",
     "text": [
      "\rMorphologyExtractor transform:  11%|█         | 11699/105746 [00:00<00:02, 39439.68it/s]"
     ]
    },
    {
     "name": "stderr",
     "output_type": "stream",
     "text": [
      "\rMorphologyExtractor transform:  14%|█▍        | 14986/105746 [00:00<00:02, 37206.38it/s]"
     ]
    },
    {
     "name": "stderr",
     "output_type": "stream",
     "text": [
      "\rMorphologyExtractor transform:  17%|█▋        | 18209/105746 [00:00<00:02, 35556.66it/s]"
     ]
    },
    {
     "name": "stderr",
     "output_type": "stream",
     "text": [
      "\rMorphologyExtractor transform:  20%|██        | 21435/105746 [00:00<00:02, 34498.90it/s]"
     ]
    },
    {
     "name": "stderr",
     "output_type": "stream",
     "text": [
      "\rMorphologyExtractor transform:  23%|██▎       | 24752/105746 [00:00<00:02, 34088.01it/s]"
     ]
    },
    {
     "name": "stderr",
     "output_type": "stream",
     "text": [
      "\rMorphologyExtractor transform:  27%|██▋       | 28034/105746 [00:00<00:02, 33683.84it/s]"
     ]
    },
    {
     "name": "stderr",
     "output_type": "stream",
     "text": [
      "\rMorphologyExtractor transform:  30%|██▉       | 31631/105746 [00:00<00:02, 34324.23it/s]"
     ]
    },
    {
     "name": "stderr",
     "output_type": "stream",
     "text": [
      "\rMorphologyExtractor transform:  34%|███▎      | 35467/105746 [00:01<00:01, 35441.02it/s]"
     ]
    },
    {
     "name": "stderr",
     "output_type": "stream",
     "text": [
      "\rMorphologyExtractor transform:  37%|███▋      | 39229/105746 [00:01<00:01, 35612.45it/s]"
     ]
    },
    {
     "name": "stderr",
     "output_type": "stream",
     "text": [
      "\rMorphologyExtractor transform:  40%|████      | 42725/105746 [00:01<00:01, 32980.65it/s]"
     ]
    },
    {
     "name": "stderr",
     "output_type": "stream",
     "text": [
      "\rMorphologyExtractor transform:  45%|████▍     | 47539/105746 [00:01<00:01, 36396.37it/s]"
     ]
    },
    {
     "name": "stderr",
     "output_type": "stream",
     "text": [
      "\rMorphologyExtractor transform:  50%|████▉     | 52511/105746 [00:01<00:01, 39573.77it/s]"
     ]
    },
    {
     "name": "stderr",
     "output_type": "stream",
     "text": [
      "\rMorphologyExtractor transform:  54%|█████▍    | 57080/105746 [00:01<00:01, 41225.69it/s]"
     ]
    },
    {
     "name": "stderr",
     "output_type": "stream",
     "text": [
      "\rMorphologyExtractor transform:  58%|█████▊    | 61408/105746 [00:01<00:01, 41810.33it/s]"
     ]
    },
    {
     "name": "stderr",
     "output_type": "stream",
     "text": [
      "\rMorphologyExtractor transform:  63%|██████▎   | 66560/105746 [00:01<00:00, 44315.57it/s]"
     ]
    },
    {
     "name": "stderr",
     "output_type": "stream",
     "text": [
      "\rMorphologyExtractor transform:  68%|██████▊   | 71805/105746 [00:01<00:00, 46475.97it/s]"
     ]
    },
    {
     "name": "stderr",
     "output_type": "stream",
     "text": [
      "\rMorphologyExtractor transform:  73%|███████▎  | 77124/105746 [00:01<00:00, 48295.33it/s]"
     ]
    },
    {
     "name": "stderr",
     "output_type": "stream",
     "text": [
      "\rMorphologyExtractor transform:  78%|███████▊  | 82268/105746 [00:02<00:00, 49187.69it/s]"
     ]
    },
    {
     "name": "stderr",
     "output_type": "stream",
     "text": [
      "\rMorphologyExtractor transform:  83%|████████▎ | 87405/105746 [00:02<00:00, 49822.40it/s]"
     ]
    },
    {
     "name": "stderr",
     "output_type": "stream",
     "text": [
      "\rMorphologyExtractor transform:  88%|████████▊ | 92830/105746 [00:02<00:00, 51072.87it/s]"
     ]
    },
    {
     "name": "stderr",
     "output_type": "stream",
     "text": [
      "\rMorphologyExtractor transform:  93%|█████████▎| 97979/105746 [00:02<00:00, 51173.47it/s]"
     ]
    },
    {
     "name": "stderr",
     "output_type": "stream",
     "text": [
      "\rMorphologyExtractor transform:  98%|█████████▊| 103517/105746 [00:02<00:00, 52366.32it/s]"
     ]
    },
    {
     "name": "stderr",
     "output_type": "stream",
     "text": [
      "\rMorphologyExtractor transform: 100%|██████████| 105746/105746 [00:02<00:00, 42745.20it/s]"
     ]
    },
    {
     "name": "stderr",
     "output_type": "stream",
     "text": [
      "\n\rMorphologyExtractor transform:   0%|          | 0/105746 [00:00<?, ?it/s]"
     ]
    },
    {
     "name": "stderr",
     "output_type": "stream",
     "text": [
      "\rMorphologyExtractor transform:   4%|▎         | 3772/105746 [00:00<00:02, 37702.24it/s]"
     ]
    },
    {
     "name": "stderr",
     "output_type": "stream",
     "text": [
      "\rMorphologyExtractor transform:   8%|▊         | 8208/105746 [00:00<00:02, 39479.62it/s]"
     ]
    },
    {
     "name": "stderr",
     "output_type": "stream",
     "text": [
      "\rMorphologyExtractor transform:  13%|█▎        | 13308/105746 [00:00<00:02, 42349.12it/s]"
     ]
    },
    {
     "name": "stderr",
     "output_type": "stream",
     "text": [
      "\rMorphologyExtractor transform:  17%|█▋        | 17906/105746 [00:00<00:02, 43371.55it/s]"
     ]
    },
    {
     "name": "stderr",
     "output_type": "stream",
     "text": [
      "\rMorphologyExtractor transform:  22%|██▏       | 23261/105746 [00:00<00:01, 45994.22it/s]"
     ]
    },
    {
     "name": "stderr",
     "output_type": "stream",
     "text": [
      "\rMorphologyExtractor transform:  27%|██▋       | 29017/105746 [00:00<00:01, 48933.38it/s]"
     ]
    },
    {
     "name": "stderr",
     "output_type": "stream",
     "text": [
      "\rMorphologyExtractor transform:  33%|███▎      | 34433/105746 [00:00<00:01, 50386.10it/s]"
     ]
    },
    {
     "name": "stderr",
     "output_type": "stream",
     "text": [
      "\rMorphologyExtractor transform:  38%|███▊      | 40678/105746 [00:00<00:01, 53479.98it/s]"
     ]
    },
    {
     "name": "stderr",
     "output_type": "stream",
     "text": [
      "\rMorphologyExtractor transform:  44%|████▍     | 46934/105746 [00:00<00:01, 55884.35it/s]"
     ]
    },
    {
     "name": "stderr",
     "output_type": "stream",
     "text": [
      "\rMorphologyExtractor transform:  50%|████▉     | 52478/105746 [00:01<00:00, 53841.62it/s]"
     ]
    },
    {
     "name": "stderr",
     "output_type": "stream",
     "text": [
      "\rMorphologyExtractor transform:  55%|█████▍    | 57847/105746 [00:01<00:00, 53477.61it/s]"
     ]
    },
    {
     "name": "stderr",
     "output_type": "stream",
     "text": [
      "\rMorphologyExtractor transform:  60%|█████▉    | 63185/105746 [00:01<00:00, 53217.19it/s]"
     ]
    },
    {
     "name": "stderr",
     "output_type": "stream",
     "text": [
      "\rMorphologyExtractor transform:  65%|██████▌   | 68740/105746 [00:01<00:00, 53895.58it/s]"
     ]
    },
    {
     "name": "stderr",
     "output_type": "stream",
     "text": [
      "\rMorphologyExtractor transform:  70%|███████   | 74127/105746 [00:01<00:00, 50459.97it/s]"
     ]
    },
    {
     "name": "stderr",
     "output_type": "stream",
     "text": [
      "\rMorphologyExtractor transform:  75%|███████▍  | 79216/105746 [00:01<00:00, 42391.18it/s]"
     ]
    },
    {
     "name": "stderr",
     "output_type": "stream",
     "text": [
      "\rMorphologyExtractor transform:  79%|███████▉  | 83705/105746 [00:01<00:00, 37798.83it/s]"
     ]
    },
    {
     "name": "stderr",
     "output_type": "stream",
     "text": [
      "\rMorphologyExtractor transform:  83%|████████▎ | 87752/105746 [00:01<00:00, 34594.69it/s]"
     ]
    },
    {
     "name": "stderr",
     "output_type": "stream",
     "text": [
      "\rMorphologyExtractor transform:  86%|████████▋ | 91452/105746 [00:02<00:00, 32311.96it/s]"
     ]
    },
    {
     "name": "stderr",
     "output_type": "stream",
     "text": [
      "\rMorphologyExtractor transform:  90%|█████████ | 95357/105746 [00:02<00:00, 34070.65it/s]"
     ]
    },
    {
     "name": "stderr",
     "output_type": "stream",
     "text": [
      "\rMorphologyExtractor transform:  95%|█████████▌| 100831/105746 [00:02<00:00, 38394.48it/s]"
     ]
    },
    {
     "name": "stderr",
     "output_type": "stream",
     "text": [
      "\rMorphologyExtractor transform: 100%|██████████| 105746/105746 [00:02<00:00, 45622.43it/s]"
     ]
    },
    {
     "name": "stderr",
     "output_type": "stream",
     "text": [
      "\n"
     ]
    },
    {
     "name": "stderr",
     "output_type": "stream",
     "text": [
      "\rRomeTransformer transform:   0%|          | 0/105746 [00:00<?, ?it/s]"
     ]
    },
    {
     "name": "stderr",
     "output_type": "stream",
     "text": [
      "\rRomeTransformer transform:  52%|█████▏    | 54789/105746 [00:00<00:00, 547883.99it/s]"
     ]
    },
    {
     "name": "stderr",
     "output_type": "stream",
     "text": [
      "\rRomeTransformer transform: 100%|██████████| 105746/105746 [00:00<00:00, 564269.97it/s]"
     ]
    },
    {
     "name": "stderr",
     "output_type": "stream",
     "text": [
      "\n"
     ]
    },
    {
     "name": "stderr",
     "output_type": "stream",
     "text": [
      "\rDictClassTransformer_DATE pre transform:   0%|          | 0/36928 [00:00<?, ?it/s]"
     ]
    },
    {
     "name": "stderr",
     "output_type": "stream",
     "text": [
      "\rDictClassTransformer_DATE pre transform:  35%|███▍      | 12839/36928 [00:00<00:00, 128384.92it/s]"
     ]
    },
    {
     "name": "stderr",
     "output_type": "stream",
     "text": [
      "\rDictClassTransformer_DATE pre transform:  74%|███████▍  | 27263/36928 [00:00<00:00, 132760.47it/s]"
     ]
    },
    {
     "name": "stderr",
     "output_type": "stream",
     "text": [
      "\rDictClassTransformer_DATE pre transform: 100%|██████████| 36928/36928 [00:00<00:00, 138814.48it/s]"
     ]
    },
    {
     "name": "stderr",
     "output_type": "stream",
     "text": [
      "\n\rDictClassTransformer_DATE transform:   0%|          | 0/105746 [00:00<?, ?it/s]"
     ]
    },
    {
     "name": "stderr",
     "output_type": "stream",
     "text": [
      "\rDictClassTransformer_DATE transform: 100%|██████████| 105746/105746 [00:00<00:00, 1040553.84it/s]"
     ]
    },
    {
     "name": "stderr",
     "output_type": "stream",
     "text": [
      "\n"
     ]
    },
    {
     "name": "stderr",
     "output_type": "stream",
     "text": [
      "\rDictClassTransformer_CARDINAL pre transform:   0%|          | 0/10473 [00:00<?, ?it/s]"
     ]
    },
    {
     "name": "stderr",
     "output_type": "stream",
     "text": [
      "\rDictClassTransformer_CARDINAL pre transform: 100%|██████████| 10473/10473 [00:00<00:00, 123649.75it/s]"
     ]
    },
    {
     "name": "stderr",
     "output_type": "stream",
     "text": [
      "\n\rDictClassTransformer_CARDINAL transform:   0%|          | 0/105746 [00:00<?, ?it/s]"
     ]
    },
    {
     "name": "stderr",
     "output_type": "stream",
     "text": [
      "\rDictClassTransformer_CARDINAL transform: 100%|██████████| 105746/105746 [00:00<00:00, 1096732.95it/s]"
     ]
    },
    {
     "name": "stderr",
     "output_type": "stream",
     "text": [
      "\n"
     ]
    },
    {
     "name": "stderr",
     "output_type": "stream",
     "text": [
      "\rCardinalTransformer transform:   0%|          | 0/105746 [00:00<?, ?it/s]"
     ]
    },
    {
     "name": "stderr",
     "output_type": "stream",
     "text": [
      "\rCardinalTransformer transform:  66%|██████▌   | 69991/105746 [00:00<00:00, 699888.97it/s]"
     ]
    },
    {
     "name": "stderr",
     "output_type": "stream",
     "text": [
      "\rCardinalTransformer transform: 100%|██████████| 105746/105746 [00:00<00:00, 709243.14it/s]"
     ]
    },
    {
     "name": "stderr",
     "output_type": "stream",
     "text": [
      "\n"
     ]
    },
    {
     "name": "stderr",
     "output_type": "stream",
     "text": [
      "\rLettersTransformer transform:   0%|          | 0/105746 [00:00<?, ?it/s]"
     ]
    },
    {
     "name": "stderr",
     "output_type": "stream",
     "text": [
      "\rLettersTransformer transform:  53%|█████▎    | 55969/105746 [00:00<00:00, 559685.20it/s]"
     ]
    },
    {
     "name": "stderr",
     "output_type": "stream",
     "text": [
      "\rLettersTransformer transform: 100%|██████████| 105746/105746 [00:00<00:00, 562281.31it/s]"
     ]
    },
    {
     "name": "stderr",
     "output_type": "stream",
     "text": [
      "\n"
     ]
    },
    {
     "name": "stderr",
     "output_type": "stream",
     "text": [
      "\rLSTMTransliterator transform stage 1:   0%|          | 0/5159 [00:00<?, ?it/s]"
     ]
    },
    {
     "name": "stderr",
     "output_type": "stream",
     "text": [
      "\rLSTMTransliterator transform stage 1: 100%|██████████| 5159/5159 [00:00<00:00, 121251.46it/s]"
     ]
    },
    {
     "name": "stderr",
     "output_type": "stream",
     "text": [
      "\n\rLSTMTransliterator transform stage 2:   0%|          | 0/5159 [00:00<?, ?it/s]"
     ]
    },
    {
     "name": "stderr",
     "output_type": "stream",
     "text": [
      "\rLSTMTransliterator transform stage 2: 100%|██████████| 5159/5159 [00:00<00:00, 229218.06it/s]"
     ]
    },
    {
     "name": "stderr",
     "output_type": "stream",
     "text": [
      "\n"
     ]
    }
   ],
   "source": [
    "predicted = transform(x_train, x_test, y_train, y_test)"
   ]
  },
  {
   "cell_type": "code",
   "execution_count": 6,
   "metadata": {},
   "outputs": [],
   "source": [
    "predicted = predicted.assign(after_true=y_test)"
   ]
  },
  {
   "cell_type": "code",
   "execution_count": 7,
   "metadata": {
    "collapsed": true
   },
   "outputs": [
    {
     "data": {
      "text/plain": [
       "LETTERS       57089\nVERBATIM      25124\nTRANS          6985\nCARDINAL       5564\nPLAIN          2218\nDASH           1666\nDATE            552\nELECTRONIC       36\nMEASURE          30\nDIGIT            24\nFRACTION          2\nMONEY             1\nORDINAL           1\nDECIMAL           0\nTIME              0\nPUNCT             0\nTELEPHONE         0\nName: class, dtype: int64"
      ]
     },
     "execution_count": 7,
     "metadata": {},
     "output_type": "execute_result"
    }
   ],
   "source": [
    "predicted[(predicted[\"after\"] == y_test)]['class'].value_counts()"
   ]
  },
  {
   "cell_type": "code",
   "execution_count": 8,
   "metadata": {},
   "outputs": [
    {
     "data": {
      "text/plain": [
       "CARDINAL      1301\nTRANS          989\nLETTERS        150\nDASH           122\nDATE            37\nPLAIN           28\nMEASURE         21\nVERBATIM        15\nORDINAL          3\nMONEY            1\nTELEPHONE        1\nDECIMAL          0\nELECTRONIC       0\nDIGIT            0\nFRACTION         0\nPUNCT            0\nTIME             0\nName: class, dtype: int64"
      ]
     },
     "execution_count": 8,
     "metadata": {},
     "output_type": "execute_result"
    }
   ],
   "source": [
    "predicted[~(predicted[\"after\"] == y_test) & ~(predicted[\"after\"].isnull())]['class'].value_counts()"
   ]
  },
  {
   "cell_type": "code",
   "execution_count": 9,
   "metadata": {
    "collapsed": false
   },
   "outputs": [
    {
     "data": {
      "text/plain": [
       "LETTERS       1429\nDATE          1217\nMEASURE        683\nORDINAL         99\nTELEPHONE       83\nDECIMAL         75\nTRANS           53\nCARDINAL        42\nTIME            22\nFRACTION        22\nPLAIN           21\nMONEY           20\nVERBATIM        18\nELECTRONIC       2\nDIGIT            0\nPUNCT            0\nDASH             0\nName: class, dtype: int64"
      ]
     },
     "execution_count": 9,
     "metadata": {},
     "output_type": "execute_result"
    }
   ],
   "source": [
    "predicted[(predicted[\"after\"].isnull())]['class'].value_counts()"
   ]
  },
  {
   "cell_type": "code",
   "execution_count": 13,
   "metadata": {
    "collapsed": false
   },
   "outputs": [
    {
     "data": {
      "text/html": [
       "<div>\n",
       "<style scoped>\n",
       "    .dataframe tbody tr th:only-of-type {\n",
       "        vertical-align: middle;\n",
       "    }\n",
       "\n",
       "    .dataframe tbody tr th {\n",
       "        vertical-align: top;\n",
       "    }\n",
       "\n",
       "    .dataframe thead th {\n",
       "        text-align: right;\n",
       "    }\n",
       "</style>\n",
       "<table border=\"1\" class=\"dataframe\">\n",
       "  <thead>\n",
       "    <tr style=\"text-align: right;\">\n",
       "      <th></th>\n",
       "      <th>before</th>\n",
       "      <th>prev_prev</th>\n",
       "      <th>prev</th>\n",
       "      <th>next</th>\n",
       "      <th>next_next</th>\n",
       "      <th>class</th>\n",
       "      <th>case</th>\n",
       "      <th>number</th>\n",
       "      <th>after</th>\n",
       "      <th>after_true</th>\n",
       "    </tr>\n",
       "  </thead>\n",
       "  <tbody>\n",
       "    <tr>\n",
       "      <th>7802895</th>\n",
       "      <td>ОАЭ</td>\n",
       "      <td>Бахрейном</td>\n",
       "      <td>и</td>\n",
       "      <td>.</td>\n",
       "      <td>Архивировано</td>\n",
       "      <td>LETTERS</td>\n",
       "      <td>gent</td>\n",
       "      <td>sing</td>\n",
       "      <td>ОАЭ</td>\n",
       "      <td>о а э</td>\n",
       "    </tr>\n",
       "    <tr>\n",
       "      <th>5127537</th>\n",
       "      <td>XX</td>\n",
       "      <td>.</td>\n",
       "      <td>В</td>\n",
       "      <td>веке</td>\n",
       "      <td>бамбара</td>\n",
       "      <td>LETTERS</td>\n",
       "      <td>gent</td>\n",
       "      <td>sing</td>\n",
       "      <td>двадцать</td>\n",
       "      <td>двадцатом</td>\n",
       "    </tr>\n",
       "    <tr>\n",
       "      <th>57605</th>\n",
       "      <td>XX</td>\n",
       "      <td>.</td>\n",
       "      <td>В</td>\n",
       "      <td>веке</td>\n",
       "      <td>особняк</td>\n",
       "      <td>LETTERS</td>\n",
       "      <td>gent</td>\n",
       "      <td>sing</td>\n",
       "      <td>двадцать</td>\n",
       "      <td>двадцатом</td>\n",
       "    </tr>\n",
       "    <tr>\n",
       "      <th>10454559</th>\n",
       "      <td>СУ</td>\n",
       "      <td>София</td>\n",
       "      <td>,</td>\n",
       "      <td>\"</td>\n",
       "      <td>Св</td>\n",
       "      <td>LETTERS</td>\n",
       "      <td>nomn</td>\n",
       "      <td>sing</td>\n",
       "      <td>с у</td>\n",
       "      <td>СУ</td>\n",
       "    </tr>\n",
       "    <tr>\n",
       "      <th>3941956</th>\n",
       "      <td>РЕАЛ</td>\n",
       "      <td>центр</td>\n",
       "      <td>\"</td>\n",
       "      <td>\"</td>\n",
       "      <td>.</td>\n",
       "      <td>LETTERS</td>\n",
       "      <td>nomn</td>\n",
       "      <td>sing</td>\n",
       "      <td>р е а л</td>\n",
       "      <td>РЕАЛ</td>\n",
       "    </tr>\n",
       "    <tr>\n",
       "      <th>8600420</th>\n",
       "      <td>XX</td>\n",
       "      <td>вторая</td>\n",
       "      <td>половина</td>\n",
       "      <td>века</td>\n",
       "      <td>)</td>\n",
       "      <td>LETTERS</td>\n",
       "      <td>gent</td>\n",
       "      <td>sing</td>\n",
       "      <td>двадцать</td>\n",
       "      <td>двадцатого</td>\n",
       "    </tr>\n",
       "    <tr>\n",
       "      <th>1237292</th>\n",
       "      <td>НЕФКО</td>\n",
       "      <td>.</td>\n",
       "      <td>Обычно</td>\n",
       "      <td>напрямую</td>\n",
       "      <td>сотрудничает</td>\n",
       "      <td>LETTERS</td>\n",
       "      <td>gent</td>\n",
       "      <td>sing</td>\n",
       "      <td>н е ф к о</td>\n",
       "      <td>НЕФКО</td>\n",
       "    </tr>\n",
       "    <tr>\n",
       "      <th>7716846</th>\n",
       "      <td>ГУЛ</td>\n",
       "      <td>проекта</td>\n",
       "      <td>\"</td>\n",
       "      <td>\"</td>\n",
       "      <td>(</td>\n",
       "      <td>LETTERS</td>\n",
       "      <td>nomn</td>\n",
       "      <td>sing</td>\n",
       "      <td>г у л</td>\n",
       "      <td>ГУЛ</td>\n",
       "    </tr>\n",
       "    <tr>\n",
       "      <th>2668378</th>\n",
       "      <td>XI</td>\n",
       "      <td>19</td>\n",
       "      <td>.</td>\n",
       "      <td>.</td>\n",
       "      <td>90</td>\n",
       "      <td>LETTERS</td>\n",
       "      <td>nomn</td>\n",
       "      <td>sing</td>\n",
       "      <td>одиннадцать</td>\n",
       "      <td>x i</td>\n",
       "    </tr>\n",
       "    <tr>\n",
       "      <th>2210119</th>\n",
       "      <td>МГИМО</td>\n",
       "      <td>Издательство</td>\n",
       "      <td>«</td>\n",
       "      <td>-</td>\n",
       "      <td>Университет</td>\n",
       "      <td>LETTERS</td>\n",
       "      <td>nomn</td>\n",
       "      <td>sing</td>\n",
       "      <td>м г и м о</td>\n",
       "      <td>МГИМО</td>\n",
       "    </tr>\n",
       "    <tr>\n",
       "      <th>7082581</th>\n",
       "      <td>СМЕРШ</td>\n",
       "      <td>Военная</td>\n",
       "      <td>контрразведка</td>\n",
       "      <td>в</td>\n",
       "      <td>годы</td>\n",
       "      <td>LETTERS</td>\n",
       "      <td>nomn</td>\n",
       "      <td>sing</td>\n",
       "      <td>с м е р ш</td>\n",
       "      <td>СМЕРШ</td>\n",
       "    </tr>\n",
       "    <tr>\n",
       "      <th>6425412</th>\n",
       "      <td>ЖЭТФ</td>\n",
       "      <td>Письма</td>\n",
       "      <td>в</td>\n",
       "      <td>»</td>\n",
       "      <td>.</td>\n",
       "      <td>LETTERS</td>\n",
       "      <td>nomn</td>\n",
       "      <td>sing</td>\n",
       "      <td>ж э т ф</td>\n",
       "      <td>ЖЭТФ</td>\n",
       "    </tr>\n",
       "    <tr>\n",
       "      <th>1605093</th>\n",
       "      <td>СОФАГ</td>\n",
       "      <td>Официальный</td>\n",
       "      <td>сайт</td>\n",
       "      <td>.</td>\n",
       "      <td>Грабен</td>\n",
       "      <td>LETTERS</td>\n",
       "      <td>nomn</td>\n",
       "      <td>sing</td>\n",
       "      <td>с о ф а г</td>\n",
       "      <td>СОФАГ</td>\n",
       "    </tr>\n",
       "    <tr>\n",
       "      <th>6976861</th>\n",
       "      <td>ОС</td>\n",
       "      <td>которых</td>\n",
       "      <td>выполняются</td>\n",
       "      <td>и</td>\n",
       "      <td>приложения</td>\n",
       "      <td>LETTERS</td>\n",
       "      <td>ablt</td>\n",
       "      <td>sing</td>\n",
       "      <td>о с</td>\n",
       "      <td>ОС</td>\n",
       "    </tr>\n",
       "    <tr>\n",
       "      <th>4503577</th>\n",
       "      <td>IV</td>\n",
       "      <td>императоров</td>\n",
       "      <td>в</td>\n",
       "      <td>—</td>\n",
       "      <td>V</td>\n",
       "      <td>LETTERS</td>\n",
       "      <td>gent</td>\n",
       "      <td>sing</td>\n",
       "      <td>четыре</td>\n",
       "      <td>i v</td>\n",
       "    </tr>\n",
       "    <tr>\n",
       "      <th>10570257</th>\n",
       "      <td>ОРБ</td>\n",
       "      <td>Бердичев</td>\n",
       "      <td>.</td>\n",
       "      <td>,</td>\n",
       "      <td>отд</td>\n",
       "      <td>LETTERS</td>\n",
       "      <td>gent</td>\n",
       "      <td>sing</td>\n",
       "      <td>о р б</td>\n",
       "      <td>ОРБ</td>\n",
       "    </tr>\n",
       "    <tr>\n",
       "      <th>560894</th>\n",
       "      <td>МСОП</td>\n",
       "      <td>классификационной</td>\n",
       "      <td>схеме</td>\n",
       "      <td>при</td>\n",
       "      <td>определении</td>\n",
       "      <td>LETTERS</td>\n",
       "      <td>ablt</td>\n",
       "      <td>sing</td>\n",
       "      <td>МСОП</td>\n",
       "      <td>м с о п</td>\n",
       "    </tr>\n",
       "    <tr>\n",
       "      <th>3044995</th>\n",
       "      <td>ООН</td>\n",
       "      <td>Программа</td>\n",
       "      <td>развития</td>\n",
       "      <td>)</td>\n",
       "      <td>.</td>\n",
       "      <td>LETTERS</td>\n",
       "      <td>nomn</td>\n",
       "      <td>sing</td>\n",
       "      <td>о о н</td>\n",
       "      <td>ООН</td>\n",
       "    </tr>\n",
       "    <tr>\n",
       "      <th>5928481</th>\n",
       "      <td>дддзя</td>\n",
       "      <td>вы</td>\n",
       "      <td>су</td>\n",
       "      <td>:</td>\n",
       "      <td>[</td>\n",
       "      <td>LETTERS</td>\n",
       "      <td>gent</td>\n",
       "      <td>sing</td>\n",
       "      <td>дддзя</td>\n",
       "      <td>д д д з я</td>\n",
       "    </tr>\n",
       "    <tr>\n",
       "      <th>4022411</th>\n",
       "      <td>IV</td>\n",
       "      <td>Assassins</td>\n",
       "      <td>Creed</td>\n",
       "      <td>:</td>\n",
       "      <td>Black</td>\n",
       "      <td>LETTERS</td>\n",
       "      <td>nomn</td>\n",
       "      <td>sing</td>\n",
       "      <td>четыре</td>\n",
       "      <td>i v</td>\n",
       "    </tr>\n",
       "  </tbody>\n",
       "</table>\n",
       "</div>"
      ],
      "text/plain": [
       "<div>\n",
       "<style scoped>\n",
       "    .dataframe tbody tr th:only-of-type {\n",
       "        vertical-align: middle;\n",
       "    }\n",
       "\n",
       "    .dataframe tbody tr th {\n",
       "        vertical-align: top;\n",
       "    }\n",
       "\n",
       "    .dataframe thead th {\n",
       "        text-align: right;\n",
       "    }\n",
       "</style>\n",
       "<table border=\"1\" class=\"dataframe\">\n",
       "  <thead>\n",
       "    <tr style=\"text-align: right;\">\n",
       "      <th></th>\n",
       "      <th>before</th>\n",
       "      <th>prev_prev</th>\n",
       "      <th>prev</th>\n",
       "      <th>next</th>\n",
       "      <th>next_next</th>\n",
       "      <th>class</th>\n",
       "      <th>case</th>\n",
       "      <th>number</th>\n",
       "      <th>after</th>\n",
       "      <th>after_true</th>\n",
       "    </tr>\n",
       "  </thead>\n",
       "  <tbody>\n",
       "    <tr>\n",
       "      <th>7802895</th>\n",
       "      <td>ОАЭ</td>\n",
       "      <td>Бахрейном</td>\n",
       "      <td>и</td>\n",
       "      <td>.</td>\n",
       "      <td>Архивировано</td>\n",
       "      <td>LETTERS</td>\n",
       "      <td>gent</td>\n",
       "      <td>sing</td>\n",
       "      <td>ОАЭ</td>\n",
       "      <td>о а э</td>\n",
       "    </tr>\n",
       "    <tr>\n",
       "      <th>5127537</th>\n",
       "      <td>XX</td>\n",
       "      <td>.</td>\n",
       "      <td>В</td>\n",
       "      <td>веке</td>\n",
       "      <td>бамбара</td>\n",
       "      <td>LETTERS</td>\n",
       "      <td>gent</td>\n",
       "      <td>sing</td>\n",
       "      <td>двадцать</td>\n",
       "      <td>двадцатом</td>\n",
       "    </tr>\n",
       "    <tr>\n",
       "      <th>57605</th>\n",
       "      <td>XX</td>\n",
       "      <td>.</td>\n",
       "      <td>В</td>\n",
       "      <td>веке</td>\n",
       "      <td>особняк</td>\n",
       "      <td>LETTERS</td>\n",
       "      <td>gent</td>\n",
       "      <td>sing</td>\n",
       "      <td>двадцать</td>\n",
       "      <td>двадцатом</td>\n",
       "    </tr>\n",
       "    <tr>\n",
       "      <th>10454559</th>\n",
       "      <td>СУ</td>\n",
       "      <td>София</td>\n",
       "      <td>,</td>\n",
       "      <td>\"</td>\n",
       "      <td>Св</td>\n",
       "      <td>LETTERS</td>\n",
       "      <td>nomn</td>\n",
       "      <td>sing</td>\n",
       "      <td>с у</td>\n",
       "      <td>СУ</td>\n",
       "    </tr>\n",
       "    <tr>\n",
       "      <th>3941956</th>\n",
       "      <td>РЕАЛ</td>\n",
       "      <td>центр</td>\n",
       "      <td>\"</td>\n",
       "      <td>\"</td>\n",
       "      <td>.</td>\n",
       "      <td>LETTERS</td>\n",
       "      <td>nomn</td>\n",
       "      <td>sing</td>\n",
       "      <td>р е а л</td>\n",
       "      <td>РЕАЛ</td>\n",
       "    </tr>\n",
       "    <tr>\n",
       "      <th>8600420</th>\n",
       "      <td>XX</td>\n",
       "      <td>вторая</td>\n",
       "      <td>половина</td>\n",
       "      <td>века</td>\n",
       "      <td>)</td>\n",
       "      <td>LETTERS</td>\n",
       "      <td>gent</td>\n",
       "      <td>sing</td>\n",
       "      <td>двадцать</td>\n",
       "      <td>двадцатого</td>\n",
       "    </tr>\n",
       "    <tr>\n",
       "      <th>1237292</th>\n",
       "      <td>НЕФКО</td>\n",
       "      <td>.</td>\n",
       "      <td>Обычно</td>\n",
       "      <td>напрямую</td>\n",
       "      <td>сотрудничает</td>\n",
       "      <td>LETTERS</td>\n",
       "      <td>gent</td>\n",
       "      <td>sing</td>\n",
       "      <td>н е ф к о</td>\n",
       "      <td>НЕФКО</td>\n",
       "    </tr>\n",
       "    <tr>\n",
       "      <th>7716846</th>\n",
       "      <td>ГУЛ</td>\n",
       "      <td>проекта</td>\n",
       "      <td>\"</td>\n",
       "      <td>\"</td>\n",
       "      <td>(</td>\n",
       "      <td>LETTERS</td>\n",
       "      <td>nomn</td>\n",
       "      <td>sing</td>\n",
       "      <td>г у л</td>\n",
       "      <td>ГУЛ</td>\n",
       "    </tr>\n",
       "    <tr>\n",
       "      <th>2668378</th>\n",
       "      <td>XI</td>\n",
       "      <td>19</td>\n",
       "      <td>.</td>\n",
       "      <td>.</td>\n",
       "      <td>90</td>\n",
       "      <td>LETTERS</td>\n",
       "      <td>nomn</td>\n",
       "      <td>sing</td>\n",
       "      <td>одиннадцать</td>\n",
       "      <td>x i</td>\n",
       "    </tr>\n",
       "    <tr>\n",
       "      <th>2210119</th>\n",
       "      <td>МГИМО</td>\n",
       "      <td>Издательство</td>\n",
       "      <td>«</td>\n",
       "      <td>-</td>\n",
       "      <td>Университет</td>\n",
       "      <td>LETTERS</td>\n",
       "      <td>nomn</td>\n",
       "      <td>sing</td>\n",
       "      <td>м г и м о</td>\n",
       "      <td>МГИМО</td>\n",
       "    </tr>\n",
       "    <tr>\n",
       "      <th>7082581</th>\n",
       "      <td>СМЕРШ</td>\n",
       "      <td>Военная</td>\n",
       "      <td>контрразведка</td>\n",
       "      <td>в</td>\n",
       "      <td>годы</td>\n",
       "      <td>LETTERS</td>\n",
       "      <td>nomn</td>\n",
       "      <td>sing</td>\n",
       "      <td>с м е р ш</td>\n",
       "      <td>СМЕРШ</td>\n",
       "    </tr>\n",
       "    <tr>\n",
       "      <th>6425412</th>\n",
       "      <td>ЖЭТФ</td>\n",
       "      <td>Письма</td>\n",
       "      <td>в</td>\n",
       "      <td>»</td>\n",
       "      <td>.</td>\n",
       "      <td>LETTERS</td>\n",
       "      <td>nomn</td>\n",
       "      <td>sing</td>\n",
       "      <td>ж э т ф</td>\n",
       "      <td>ЖЭТФ</td>\n",
       "    </tr>\n",
       "    <tr>\n",
       "      <th>1605093</th>\n",
       "      <td>СОФАГ</td>\n",
       "      <td>Официальный</td>\n",
       "      <td>сайт</td>\n",
       "      <td>.</td>\n",
       "      <td>Грабен</td>\n",
       "      <td>LETTERS</td>\n",
       "      <td>nomn</td>\n",
       "      <td>sing</td>\n",
       "      <td>с о ф а г</td>\n",
       "      <td>СОФАГ</td>\n",
       "    </tr>\n",
       "    <tr>\n",
       "      <th>6976861</th>\n",
       "      <td>ОС</td>\n",
       "      <td>которых</td>\n",
       "      <td>выполняются</td>\n",
       "      <td>и</td>\n",
       "      <td>приложения</td>\n",
       "      <td>LETTERS</td>\n",
       "      <td>ablt</td>\n",
       "      <td>sing</td>\n",
       "      <td>о с</td>\n",
       "      <td>ОС</td>\n",
       "    </tr>\n",
       "    <tr>\n",
       "      <th>4503577</th>\n",
       "      <td>IV</td>\n",
       "      <td>императоров</td>\n",
       "      <td>в</td>\n",
       "      <td>—</td>\n",
       "      <td>V</td>\n",
       "      <td>LETTERS</td>\n",
       "      <td>gent</td>\n",
       "      <td>sing</td>\n",
       "      <td>четыре</td>\n",
       "      <td>i v</td>\n",
       "    </tr>\n",
       "    <tr>\n",
       "      <th>10570257</th>\n",
       "      <td>ОРБ</td>\n",
       "      <td>Бердичев</td>\n",
       "      <td>.</td>\n",
       "      <td>,</td>\n",
       "      <td>отд</td>\n",
       "      <td>LETTERS</td>\n",
       "      <td>gent</td>\n",
       "      <td>sing</td>\n",
       "      <td>о р б</td>\n",
       "      <td>ОРБ</td>\n",
       "    </tr>\n",
       "    <tr>\n",
       "      <th>560894</th>\n",
       "      <td>МСОП</td>\n",
       "      <td>классификационной</td>\n",
       "      <td>схеме</td>\n",
       "      <td>при</td>\n",
       "      <td>определении</td>\n",
       "      <td>LETTERS</td>\n",
       "      <td>ablt</td>\n",
       "      <td>sing</td>\n",
       "      <td>МСОП</td>\n",
       "      <td>м с о п</td>\n",
       "    </tr>\n",
       "    <tr>\n",
       "      <th>3044995</th>\n",
       "      <td>ООН</td>\n",
       "      <td>Программа</td>\n",
       "      <td>развития</td>\n",
       "      <td>)</td>\n",
       "      <td>.</td>\n",
       "      <td>LETTERS</td>\n",
       "      <td>nomn</td>\n",
       "      <td>sing</td>\n",
       "      <td>о о н</td>\n",
       "      <td>ООН</td>\n",
       "    </tr>\n",
       "    <tr>\n",
       "      <th>5928481</th>\n",
       "      <td>дддзя</td>\n",
       "      <td>вы</td>\n",
       "      <td>су</td>\n",
       "      <td>:</td>\n",
       "      <td>[</td>\n",
       "      <td>LETTERS</td>\n",
       "      <td>gent</td>\n",
       "      <td>sing</td>\n",
       "      <td>дддзя</td>\n",
       "      <td>д д д з я</td>\n",
       "    </tr>\n",
       "    <tr>\n",
       "      <th>4022411</th>\n",
       "      <td>IV</td>\n",
       "      <td>Assassins</td>\n",
       "      <td>Creed</td>\n",
       "      <td>:</td>\n",
       "      <td>Black</td>\n",
       "      <td>LETTERS</td>\n",
       "      <td>nomn</td>\n",
       "      <td>sing</td>\n",
       "      <td>четыре</td>\n",
       "      <td>i v</td>\n",
       "    </tr>\n",
       "  </tbody>\n",
       "</table>\n",
       "</div>"
      ]
     },
     "execution_count": 13,
     "metadata": {},
     "output_type": "execute_result"
    }
   ],
   "source": [
    "predicted[~(predicted[\"after\"] == y_test) & ~(predicted[\"after\"].isnull()) & (predicted['class']=='LETTERS')].sample(20)"
   ]
  },
  {
   "cell_type": "code",
   "execution_count": 15,
   "metadata": {},
   "outputs": [
    {
     "data": {
      "text/html": [
       "<div>\n",
       "<style scoped>\n",
       "    .dataframe tbody tr th:only-of-type {\n",
       "        vertical-align: middle;\n",
       "    }\n",
       "\n",
       "    .dataframe tbody tr th {\n",
       "        vertical-align: top;\n",
       "    }\n",
       "\n",
       "    .dataframe thead th {\n",
       "        text-align: right;\n",
       "    }\n",
       "</style>\n",
       "<table border=\"1\" class=\"dataframe\">\n",
       "  <thead>\n",
       "    <tr style=\"text-align: right;\">\n",
       "      <th></th>\n",
       "      <th>before</th>\n",
       "      <th>prev_prev</th>\n",
       "      <th>prev</th>\n",
       "      <th>next</th>\n",
       "      <th>next_next</th>\n",
       "      <th>class</th>\n",
       "      <th>case</th>\n",
       "      <th>number</th>\n",
       "      <th>after</th>\n",
       "      <th>after_true</th>\n",
       "    </tr>\n",
       "  </thead>\n",
       "  <tbody>\n",
       "    <tr>\n",
       "      <th>3439716</th>\n",
       "      <td>.</td>\n",
       "      <td>и</td>\n",
       "      <td>CCKB</td>\n",
       "      <td>Первая</td>\n",
       "      <td>бригада</td>\n",
       "      <td>CARDINAL</td>\n",
       "      <td>nomn</td>\n",
       "      <td>sing</td>\n",
       "      <td>None</td>\n",
       "      <td>.</td>\n",
       "    </tr>\n",
       "    <tr>\n",
       "      <th>228056</th>\n",
       "      <td>.</td>\n",
       "      <td>первоисточника</td>\n",
       "      <td>26 апреля 2015</td>\n",
       "      <td>Усадьба</td>\n",
       "      <td>Барсовой</td>\n",
       "      <td>CARDINAL</td>\n",
       "      <td>nomn</td>\n",
       "      <td>sing</td>\n",
       "      <td>None</td>\n",
       "      <td>.</td>\n",
       "    </tr>\n",
       "    <tr>\n",
       "      <th>5254234</th>\n",
       "      <td>.</td>\n",
       "      <td>с</td>\n",
       "      <td>компанией</td>\n",
       "      <td>Тонкий</td>\n",
       "      <td>хвост</td>\n",
       "      <td>CARDINAL</td>\n",
       "      <td>nomn</td>\n",
       "      <td>sing</td>\n",
       "      <td>None</td>\n",
       "      <td>.</td>\n",
       "    </tr>\n",
       "    <tr>\n",
       "      <th>1074310</th>\n",
       "      <td>184</td>\n",
       "      <td>жителей</td>\n",
       "      <td>работали</td>\n",
       "      <td>человека</td>\n",
       "      <td>(</td>\n",
       "      <td>CARDINAL</td>\n",
       "      <td>nomn</td>\n",
       "      <td>sing</td>\n",
       "      <td>сто восемьдесят четыре</td>\n",
       "      <td>сто восемьдесят четыре</td>\n",
       "    </tr>\n",
       "    <tr>\n",
       "      <th>7318781</th>\n",
       "      <td>7</td>\n",
       "      <td>23</td>\n",
       "      <td>.</td>\n",
       "      <td>человек</td>\n",
       "      <td>на</td>\n",
       "      <td>CARDINAL</td>\n",
       "      <td>nomn</td>\n",
       "      <td>none</td>\n",
       "      <td>семь</td>\n",
       "      <td>семь</td>\n",
       "    </tr>\n",
       "    <tr>\n",
       "      <th>3260148</th>\n",
       "      <td>-</td>\n",
       "      <td>украинкой</td>\n",
       "      <td>Ганной</td>\n",
       "      <td>рисовальщицей</td>\n",
       "      <td>»</td>\n",
       "      <td>CARDINAL</td>\n",
       "      <td>nomn</td>\n",
       "      <td>sing</td>\n",
       "      <td>None</td>\n",
       "      <td>-</td>\n",
       "    </tr>\n",
       "    <tr>\n",
       "      <th>268049</th>\n",
       "      <td>.</td>\n",
       "      <td>(</td>\n",
       "      <td>исп</td>\n",
       "      <td>Keiko</td>\n",
       "      <td>Sofia</td>\n",
       "      <td>CARDINAL</td>\n",
       "      <td>nomn</td>\n",
       "      <td>sing</td>\n",
       "      <td>None</td>\n",
       "      <td>.</td>\n",
       "    </tr>\n",
       "    <tr>\n",
       "      <th>8609176</th>\n",
       "      <td>-</td>\n",
       "      <td>и</td>\n",
       "      <td>Сен</td>\n",
       "      <td>Филип</td>\n",
       "      <td>,</td>\n",
       "      <td>CARDINAL</td>\n",
       "      <td>nomn</td>\n",
       "      <td>sing</td>\n",
       "      <td>None</td>\n",
       "      <td>-</td>\n",
       "    </tr>\n",
       "    <tr>\n",
       "      <th>4202194</th>\n",
       "      <td>.</td>\n",
       "      <td>en</td>\n",
       "      <td>Diest</td>\n",
       "      <td>Король</td>\n",
       "      <td>Эдуард</td>\n",
       "      <td>CARDINAL</td>\n",
       "      <td>nomn</td>\n",
       "      <td>sing</td>\n",
       "      <td>None</td>\n",
       "      <td>.</td>\n",
       "    </tr>\n",
       "    <tr>\n",
       "      <th>2757101</th>\n",
       "      <td>779</td>\n",
       "      <td>775</td>\n",
       "      <td>по</td>\n",
       "      <td>.</td>\n",
       "      <td>Нерсе</td>\n",
       "      <td>CARDINAL</td>\n",
       "      <td>nomn</td>\n",
       "      <td>none</td>\n",
       "      <td>семьсот семьдесят девять</td>\n",
       "      <td>семьсот семьдесят девятый</td>\n",
       "    </tr>\n",
       "    <tr>\n",
       "      <th>64429</th>\n",
       "      <td>.</td>\n",
       "      <td>,</td>\n",
       "      <td>1922</td>\n",
       "      <td>Angles</td>\n",
       "      <td>H.</td>\n",
       "      <td>CARDINAL</td>\n",
       "      <td>nomn</td>\n",
       "      <td>sing</td>\n",
       "      <td>None</td>\n",
       "      <td>.</td>\n",
       "    </tr>\n",
       "    <tr>\n",
       "      <th>7704610</th>\n",
       "      <td>.</td>\n",
       "      <td>.</td>\n",
       "      <td>495</td>\n",
       "      <td>Martin</td>\n",
       "      <td>and</td>\n",
       "      <td>CARDINAL</td>\n",
       "      <td>nomn</td>\n",
       "      <td>sing</td>\n",
       "      <td>None</td>\n",
       "      <td>.</td>\n",
       "    </tr>\n",
       "    <tr>\n",
       "      <th>7824686</th>\n",
       "      <td>.</td>\n",
       "      <td>первоисточника</td>\n",
       "      <td>8 апреля 2013</td>\n",
       "      <td>Best</td>\n",
       "      <td>-</td>\n",
       "      <td>CARDINAL</td>\n",
       "      <td>nomn</td>\n",
       "      <td>sing</td>\n",
       "      <td>None</td>\n",
       "      <td>.</td>\n",
       "    </tr>\n",
       "    <tr>\n",
       "      <th>6324313</th>\n",
       "      <td>112</td>\n",
       "      <td>101</td>\n",
       "      <td>-</td>\n",
       "      <td>.</td>\n",
       "      <td>Mikel</td>\n",
       "      <td>CARDINAL</td>\n",
       "      <td>gent</td>\n",
       "      <td>none</td>\n",
       "      <td>сто двенадцати</td>\n",
       "      <td>ста двенадцати</td>\n",
       "    </tr>\n",
       "    <tr>\n",
       "      <th>2745465</th>\n",
       "      <td>-</td>\n",
       "      <td>,</td>\n",
       "      <td>по</td>\n",
       "      <td>прежнему</td>\n",
       "      <td>обсуждается</td>\n",
       "      <td>CARDINAL</td>\n",
       "      <td>nomn</td>\n",
       "      <td>sing</td>\n",
       "      <td>None</td>\n",
       "      <td>-</td>\n",
       "    </tr>\n",
       "    <tr>\n",
       "      <th>5457860</th>\n",
       "      <td>333</td>\n",
       "      <td>331</td>\n",
       "      <td>—</td>\n",
       "      <td>.</td>\n",
       "      <td>Зимин</td>\n",
       "      <td>CARDINAL</td>\n",
       "      <td>accs</td>\n",
       "      <td>sing</td>\n",
       "      <td>триста тридцать три</td>\n",
       "      <td>триста тридцать три</td>\n",
       "    </tr>\n",
       "    <tr>\n",
       "      <th>429987</th>\n",
       "      <td>-</td>\n",
       "      <td>в</td>\n",
       "      <td>Орехово</td>\n",
       "      <td>Зуевском</td>\n",
       "      <td>муниципальном</td>\n",
       "      <td>CARDINAL</td>\n",
       "      <td>nomn</td>\n",
       "      <td>sing</td>\n",
       "      <td>None</td>\n",
       "      <td>-</td>\n",
       "    </tr>\n",
       "    <tr>\n",
       "      <th>5434369</th>\n",
       "      <td>.</td>\n",
       "      <td>московской</td>\n",
       "      <td>теократии</td>\n",
       "      <td>Женевьева</td>\n",
       "      <td>Родис</td>\n",
       "      <td>CARDINAL</td>\n",
       "      <td>nomn</td>\n",
       "      <td>sing</td>\n",
       "      <td>None</td>\n",
       "      <td>.</td>\n",
       "    </tr>\n",
       "    <tr>\n",
       "      <th>2449632</th>\n",
       "      <td>.</td>\n",
       "      <td>-</td>\n",
       "      <td>2012</td>\n",
       "      <td>Ultratop</td>\n",
       "      <td>.</td>\n",
       "      <td>CARDINAL</td>\n",
       "      <td>nomn</td>\n",
       "      <td>sing</td>\n",
       "      <td>None</td>\n",
       "      <td>.</td>\n",
       "    </tr>\n",
       "    <tr>\n",
       "      <th>1837088</th>\n",
       "      <td>2006</td>\n",
       "      <td>рингу</td>\n",
       "      <td>(</td>\n",
       "      <td>)</td>\n",
       "      <td>.</td>\n",
       "      <td>CARDINAL</td>\n",
       "      <td>nomn</td>\n",
       "      <td>sing</td>\n",
       "      <td>две тысячи шесть</td>\n",
       "      <td>две тысячи шесть</td>\n",
       "    </tr>\n",
       "    <tr>\n",
       "      <th>6140572</th>\n",
       "      <td>.</td>\n",
       "      <td>5000</td>\n",
       "      <td>экз</td>\n",
       "      <td>Министерство</td>\n",
       "      <td>здравоохранения</td>\n",
       "      <td>CARDINAL</td>\n",
       "      <td>nomn</td>\n",
       "      <td>sing</td>\n",
       "      <td>None</td>\n",
       "      <td>.</td>\n",
       "    </tr>\n",
       "    <tr>\n",
       "      <th>330087</th>\n",
       "      <td>.</td>\n",
       "      <td>Jorge</td>\n",
       "      <td>Edwards</td>\n",
       "      <td>Основные</td>\n",
       "      <td>теоретики</td>\n",
       "      <td>CARDINAL</td>\n",
       "      <td>nomn</td>\n",
       "      <td>sing</td>\n",
       "      <td>None</td>\n",
       "      <td>.</td>\n",
       "    </tr>\n",
       "    <tr>\n",
       "      <th>5887363</th>\n",
       "      <td>/</td>\n",
       "      <td>(</td>\n",
       "      <td>2006</td>\n",
       "      <td>07</td>\n",
       "      <td>,</td>\n",
       "      <td>CARDINAL</td>\n",
       "      <td>nomn</td>\n",
       "      <td>sing</td>\n",
       "      <td>None</td>\n",
       "      <td>/</td>\n",
       "    </tr>\n",
       "    <tr>\n",
       "      <th>1842620</th>\n",
       "      <td>12</td>\n",
       "      <td>Царском</td>\n",
       "      <td>Селе</td>\n",
       "      <td>(</td>\n",
       "      <td>24</td>\n",
       "      <td>CARDINAL</td>\n",
       "      <td>nomn</td>\n",
       "      <td>none</td>\n",
       "      <td>двенадцать</td>\n",
       "      <td>двенадцать</td>\n",
       "    </tr>\n",
       "    <tr>\n",
       "      <th>9121114</th>\n",
       "      <td>20</td>\n",
       "      <td>большой</td>\n",
       "      <td>за</td>\n",
       "      <td>лет</td>\n",
       "      <td>.</td>\n",
       "      <td>CARDINAL</td>\n",
       "      <td>nomn</td>\n",
       "      <td>none</td>\n",
       "      <td>двадцать</td>\n",
       "      <td>двадцать</td>\n",
       "    </tr>\n",
       "    <tr>\n",
       "      <th>5942303</th>\n",
       "      <td>16</td>\n",
       "      <td>автором</td>\n",
       "      <td>в</td>\n",
       "      <td>лет</td>\n",
       "      <td>.</td>\n",
       "      <td>CARDINAL</td>\n",
       "      <td>nomn</td>\n",
       "      <td>none</td>\n",
       "      <td>шестнадцать</td>\n",
       "      <td>шестнадцать</td>\n",
       "    </tr>\n",
       "    <tr>\n",
       "      <th>4285396</th>\n",
       "      <td>.</td>\n",
       "      <td>И. И.</td>\n",
       "      <td>Соколов</td>\n",
       "      <td>Население</td>\n",
       "      <td>составляет</td>\n",
       "      <td>CARDINAL</td>\n",
       "      <td>nomn</td>\n",
       "      <td>sing</td>\n",
       "      <td>None</td>\n",
       "      <td>.</td>\n",
       "    </tr>\n",
       "    <tr>\n",
       "      <th>5657428</th>\n",
       "      <td>.</td>\n",
       "      <td>воду</td>\n",
       "      <td>16 мая 1818 года</td>\n",
       "      <td>Военные</td>\n",
       "      <td>кампании</td>\n",
       "      <td>CARDINAL</td>\n",
       "      <td>nomn</td>\n",
       "      <td>sing</td>\n",
       "      <td>None</td>\n",
       "      <td>.</td>\n",
       "    </tr>\n",
       "    <tr>\n",
       "      <th>3422143</th>\n",
       "      <td>.</td>\n",
       "      <td>Проверено</td>\n",
       "      <td>21 апреля 2015</td>\n",
       "      <td>Sudhish</td>\n",
       "      <td>Kamath</td>\n",
       "      <td>CARDINAL</td>\n",
       "      <td>nomn</td>\n",
       "      <td>sing</td>\n",
       "      <td>None</td>\n",
       "      <td>.</td>\n",
       "    </tr>\n",
       "    <tr>\n",
       "      <th>3990749</th>\n",
       "      <td>.</td>\n",
       "      <td>с</td>\n",
       "      <td>правдой</td>\n",
       "      <td>В</td>\n",
       "      <td>1955 году</td>\n",
       "      <td>CARDINAL</td>\n",
       "      <td>nomn</td>\n",
       "      <td>sing</td>\n",
       "      <td>None</td>\n",
       "      <td>.</td>\n",
       "    </tr>\n",
       "    <tr>\n",
       "      <th>...</th>\n",
       "      <td>...</td>\n",
       "      <td>...</td>\n",
       "      <td>...</td>\n",
       "      <td>...</td>\n",
       "      <td>...</td>\n",
       "      <td>...</td>\n",
       "      <td>...</td>\n",
       "      <td>...</td>\n",
       "      <td>...</td>\n",
       "      <td>...</td>\n",
       "    </tr>\n",
       "    <tr>\n",
       "      <th>10541187</th>\n",
       "      <td>.</td>\n",
       "      <td>историческое</td>\n",
       "      <td>значение</td>\n",
       "      <td>Автор</td>\n",
       "      <td>сценария</td>\n",
       "      <td>CARDINAL</td>\n",
       "      <td>nomn</td>\n",
       "      <td>sing</td>\n",
       "      <td>None</td>\n",
       "      <td>.</td>\n",
       "    </tr>\n",
       "    <tr>\n",
       "      <th>10527273</th>\n",
       "      <td>.</td>\n",
       "      <td>первоисточника</td>\n",
       "      <td>8 июля 2012</td>\n",
       "      <td>Gendron</td>\n",
       "      <td>,</td>\n",
       "      <td>CARDINAL</td>\n",
       "      <td>nomn</td>\n",
       "      <td>sing</td>\n",
       "      <td>None</td>\n",
       "      <td>.</td>\n",
       "    </tr>\n",
       "    <tr>\n",
       "      <th>7779410</th>\n",
       "      <td>.</td>\n",
       "      <td>первоисточника</td>\n",
       "      <td>18 августа 2012</td>\n",
       "      <td>Linkin</td>\n",
       "      <td>Park</td>\n",
       "      <td>CARDINAL</td>\n",
       "      <td>nomn</td>\n",
       "      <td>sing</td>\n",
       "      <td>None</td>\n",
       "      <td>.</td>\n",
       "    </tr>\n",
       "    <tr>\n",
       "      <th>2751668</th>\n",
       "      <td>.</td>\n",
       "      <td>особенно</td>\n",
       "      <td>женщин</td>\n",
       "      <td>Военная</td>\n",
       "      <td>кампания</td>\n",
       "      <td>CARDINAL</td>\n",
       "      <td>nomn</td>\n",
       "      <td>sing</td>\n",
       "      <td>None</td>\n",
       "      <td>.</td>\n",
       "    </tr>\n",
       "    <tr>\n",
       "      <th>2485600</th>\n",
       "      <td>XII</td>\n",
       "      <td>и</td>\n",
       "      <td>до</td>\n",
       "      <td>века</td>\n",
       "      <td>власть</td>\n",
       "      <td>CARDINAL</td>\n",
       "      <td>nomn</td>\n",
       "      <td>none</td>\n",
       "      <td>None</td>\n",
       "      <td>двенадцатого</td>\n",
       "    </tr>\n",
       "    <tr>\n",
       "      <th>8812525</th>\n",
       "      <td>20</td>\n",
       "      <td>(</td>\n",
       "      <td>до</td>\n",
       "      <td>)</td>\n",
       "      <td>VS</td>\n",
       "      <td>CARDINAL</td>\n",
       "      <td>nomn</td>\n",
       "      <td>none</td>\n",
       "      <td>двадцать</td>\n",
       "      <td>двадцати</td>\n",
       "    </tr>\n",
       "    <tr>\n",
       "      <th>5282690</th>\n",
       "      <td>.</td>\n",
       "      <td>:</td>\n",
       "      <td>ил</td>\n",
       "      <td>В. А.</td>\n",
       "      <td>Возчикова</td>\n",
       "      <td>CARDINAL</td>\n",
       "      <td>nomn</td>\n",
       "      <td>sing</td>\n",
       "      <td>None</td>\n",
       "      <td>.</td>\n",
       "    </tr>\n",
       "    <tr>\n",
       "      <th>2079557</th>\n",
       "      <td>.</td>\n",
       "      <td>доктора</td>\n",
       "      <td>техн</td>\n",
       "      <td>наук</td>\n",
       "      <td>.</td>\n",
       "      <td>CARDINAL</td>\n",
       "      <td>nomn</td>\n",
       "      <td>sing</td>\n",
       "      <td>None</td>\n",
       "      <td>.</td>\n",
       "    </tr>\n",
       "    <tr>\n",
       "      <th>7510534</th>\n",
       "      <td>482</td>\n",
       "      <td>Космос</td>\n",
       "      <td>-</td>\n",
       "      <td>—</td>\n",
       "      <td>автоматическая</td>\n",
       "      <td>CARDINAL</td>\n",
       "      <td>nomn</td>\n",
       "      <td>none</td>\n",
       "      <td>четыреста восемьдесят два</td>\n",
       "      <td>четыреста восемьдесят два</td>\n",
       "    </tr>\n",
       "    <tr>\n",
       "      <th>2480445</th>\n",
       "      <td>69</td>\n",
       "      <td>—</td>\n",
       "      <td>С.</td>\n",
       "      <td>.</td>\n",
       "      <td>London</td>\n",
       "      <td>CARDINAL</td>\n",
       "      <td>nomn</td>\n",
       "      <td>none</td>\n",
       "      <td>шестьдесят девять</td>\n",
       "      <td>шестьдесят девять</td>\n",
       "    </tr>\n",
       "    <tr>\n",
       "      <th>9311043</th>\n",
       "      <td>/</td>\n",
       "      <td>)</td>\n",
       "      <td>/</td>\n",
       "      <td>Крылья</td>\n",
       "      <td>Родины</td>\n",
       "      <td>CARDINAL</td>\n",
       "      <td>nomn</td>\n",
       "      <td>sing</td>\n",
       "      <td>None</td>\n",
       "      <td>/</td>\n",
       "    </tr>\n",
       "    <tr>\n",
       "      <th>8832656</th>\n",
       "      <td>9</td>\n",
       "      <td>территории</td>\n",
       "      <td>Украины</td>\n",
       "      <td>населенных</td>\n",
       "      <td>пунктов</td>\n",
       "      <td>CARDINAL</td>\n",
       "      <td>nomn</td>\n",
       "      <td>none</td>\n",
       "      <td>девять</td>\n",
       "      <td>девять</td>\n",
       "    </tr>\n",
       "    <tr>\n",
       "      <th>40194</th>\n",
       "      <td>1627</td>\n",
       "      <td>Дрезден</td>\n",
       "      <td>,</td>\n",
       "      <td>)</td>\n",
       "      <td>.</td>\n",
       "      <td>CARDINAL</td>\n",
       "      <td>nomn</td>\n",
       "      <td>sing</td>\n",
       "      <td>одна тысяча шестьсот двадцать семь</td>\n",
       "      <td>тысяча шестьсот двадцать семь</td>\n",
       "    </tr>\n",
       "    <tr>\n",
       "      <th>4910763</th>\n",
       "      <td>-</td>\n",
       "      <td>БОЙ</td>\n",
       "      <td>КЛИЧКО</td>\n",
       "      <td>ПОВЕТКИН</td>\n",
       "      <td>НАЗВАН</td>\n",
       "      <td>CARDINAL</td>\n",
       "      <td>nomn</td>\n",
       "      <td>sing</td>\n",
       "      <td>None</td>\n",
       "      <td>-</td>\n",
       "    </tr>\n",
       "    <tr>\n",
       "      <th>6213164</th>\n",
       "      <td>1127</td>\n",
       "      <td>(</td>\n",
       "      <td>с</td>\n",
       "      <td>)</td>\n",
       "      <td>.</td>\n",
       "      <td>CARDINAL</td>\n",
       "      <td>nomn</td>\n",
       "      <td>sing</td>\n",
       "      <td>одна тысяча сто двадцать семь</td>\n",
       "      <td>тысяча сто двадцать семь</td>\n",
       "    </tr>\n",
       "    <tr>\n",
       "      <th>695002</th>\n",
       "      <td>.</td>\n",
       "      <td>,</td>\n",
       "      <td>vol</td>\n",
       "      <td>Ричард</td>\n",
       "      <td>проверяет</td>\n",
       "      <td>CARDINAL</td>\n",
       "      <td>nomn</td>\n",
       "      <td>sing</td>\n",
       "      <td>None</td>\n",
       "      <td>.</td>\n",
       "    </tr>\n",
       "    <tr>\n",
       "      <th>855302</th>\n",
       "      <td>13 842</td>\n",
       "      <td>2000 года</td>\n",
       "      <td>составляет</td>\n",
       "      <td>чел</td>\n",
       "      <td>.</td>\n",
       "      <td>CARDINAL</td>\n",
       "      <td>nomn</td>\n",
       "      <td>plur</td>\n",
       "      <td>None</td>\n",
       "      <td>тринадцать тысяч восемьсот сорок два</td>\n",
       "    </tr>\n",
       "    <tr>\n",
       "      <th>2465111</th>\n",
       "      <td>.</td>\n",
       "      <td>с</td>\n",
       "      <td>вооружения</td>\n",
       "      <td>Облечихино</td>\n",
       "      <td>—</td>\n",
       "      <td>CARDINAL</td>\n",
       "      <td>nomn</td>\n",
       "      <td>sing</td>\n",
       "      <td>None</td>\n",
       "      <td>.</td>\n",
       "    </tr>\n",
       "    <tr>\n",
       "      <th>9463288</th>\n",
       "      <td>1700</td>\n",
       "      <td>1699</td>\n",
       "      <td>—</td>\n",
       "      <td>по</td>\n",
       "      <td>1899</td>\n",
       "      <td>CARDINAL</td>\n",
       "      <td>nomn</td>\n",
       "      <td>sing</td>\n",
       "      <td>одна тысяча семьсот</td>\n",
       "      <td>тысяча семьсот</td>\n",
       "    </tr>\n",
       "    <tr>\n",
       "      <th>5130151</th>\n",
       "      <td>-</td>\n",
       "      <td>государственный</td>\n",
       "      <td>архитектурно</td>\n",
       "      <td>строительный</td>\n",
       "      <td>институт</td>\n",
       "      <td>CARDINAL</td>\n",
       "      <td>nomn</td>\n",
       "      <td>sing</td>\n",
       "      <td>None</td>\n",
       "      <td>-</td>\n",
       "    </tr>\n",
       "    <tr>\n",
       "      <th>9980371</th>\n",
       "      <td>15</td>\n",
       "      <td>7:15</td>\n",
       "      <td>,</td>\n",
       "      <td>:</td>\n",
       "      <td>9</td>\n",
       "      <td>CARDINAL</td>\n",
       "      <td>nomn</td>\n",
       "      <td>none</td>\n",
       "      <td>пятнадцать</td>\n",
       "      <td>пятнадцать</td>\n",
       "    </tr>\n",
       "    <tr>\n",
       "      <th>6955867</th>\n",
       "      <td>.</td>\n",
       "      <td>.</td>\n",
       "      <td>f</td>\n",
       "      <td>belorussicus</td>\n",
       "      <td>Kurl</td>\n",
       "      <td>CARDINAL</td>\n",
       "      <td>nomn</td>\n",
       "      <td>sing</td>\n",
       "      <td>None</td>\n",
       "      <td>.</td>\n",
       "    </tr>\n",
       "    <tr>\n",
       "      <th>5530344</th>\n",
       "      <td>651</td>\n",
       "      <td>p</td>\n",
       "      <td>.</td>\n",
       "      <td>.</td>\n",
       "      <td>Till</td>\n",
       "      <td>CARDINAL</td>\n",
       "      <td>nomn</td>\n",
       "      <td>sing</td>\n",
       "      <td>шестьсот пятьдесят один</td>\n",
       "      <td>шестьсот пятьдесят один</td>\n",
       "    </tr>\n",
       "    <tr>\n",
       "      <th>8965855</th>\n",
       "      <td>1942</td>\n",
       "      <td>животноводства</td>\n",
       "      <td>(</td>\n",
       "      <td>—</td>\n",
       "      <td>1955</td>\n",
       "      <td>CARDINAL</td>\n",
       "      <td>nomn</td>\n",
       "      <td>sing</td>\n",
       "      <td>одна тысяча девятьсот сорок два</td>\n",
       "      <td>тысяча девятьсот сорок два</td>\n",
       "    </tr>\n",
       "    <tr>\n",
       "      <th>1882260</th>\n",
       "      <td>19</td>\n",
       "      <td>на</td>\n",
       "      <td>основании</td>\n",
       "      <td>рецензий</td>\n",
       "      <td>.</td>\n",
       "      <td>CARDINAL</td>\n",
       "      <td>nomn</td>\n",
       "      <td>none</td>\n",
       "      <td>девятнадцать</td>\n",
       "      <td>девятнадцати</td>\n",
       "    </tr>\n",
       "    <tr>\n",
       "      <th>8536813</th>\n",
       "      <td>0</td>\n",
       "      <td>3</td>\n",
       "      <td>:</td>\n",
       "      <td>(</td>\n",
       "      <td>15</td>\n",
       "      <td>CARDINAL</td>\n",
       "      <td>nomn</td>\n",
       "      <td>sing</td>\n",
       "      <td>ноль</td>\n",
       "      <td>ноль</td>\n",
       "    </tr>\n",
       "    <tr>\n",
       "      <th>5853661</th>\n",
       "      <td>.</td>\n",
       "      <td>в</td>\n",
       "      <td>село</td>\n",
       "      <td>Усики</td>\n",
       "      <td>самок</td>\n",
       "      <td>CARDINAL</td>\n",
       "      <td>nomn</td>\n",
       "      <td>sing</td>\n",
       "      <td>None</td>\n",
       "      <td>.</td>\n",
       "    </tr>\n",
       "    <tr>\n",
       "      <th>9375998</th>\n",
       "      <td>249</td>\n",
       "      <td>Карта</td>\n",
       "      <td>С.</td>\n",
       "      <td>.</td>\n",
       "      <td>Якутская</td>\n",
       "      <td>CARDINAL</td>\n",
       "      <td>nomn</td>\n",
       "      <td>plur</td>\n",
       "      <td>двести сорок девять</td>\n",
       "      <td>двести сорок девять</td>\n",
       "    </tr>\n",
       "    <tr>\n",
       "      <th>6697132</th>\n",
       "      <td>-</td>\n",
       "      <td>Монтрейском</td>\n",
       "      <td>поп</td>\n",
       "      <td>фестивале</td>\n",
       "      <td>в</td>\n",
       "      <td>CARDINAL</td>\n",
       "      <td>nomn</td>\n",
       "      <td>sing</td>\n",
       "      <td>None</td>\n",
       "      <td>-</td>\n",
       "    </tr>\n",
       "    <tr>\n",
       "      <th>4371987</th>\n",
       "      <td>-</td>\n",
       "      <td>,</td>\n",
       "      <td>бога</td>\n",
       "      <td>покровителя</td>\n",
       "      <td>города</td>\n",
       "      <td>CARDINAL</td>\n",
       "      <td>nomn</td>\n",
       "      <td>sing</td>\n",
       "      <td>None</td>\n",
       "      <td>-</td>\n",
       "    </tr>\n",
       "  </tbody>\n",
       "</table>\n",
       "<p>100 rows × 10 columns</p>\n",
       "</div>"
      ],
      "text/plain": [
       "<div>\n",
       "<style scoped>\n",
       "    .dataframe tbody tr th:only-of-type {\n",
       "        vertical-align: middle;\n",
       "    }\n",
       "\n",
       "    .dataframe tbody tr th {\n",
       "        vertical-align: top;\n",
       "    }\n",
       "\n",
       "    .dataframe thead th {\n",
       "        text-align: right;\n",
       "    }\n",
       "</style>\n",
       "<table border=\"1\" class=\"dataframe\">\n",
       "  <thead>\n",
       "    <tr style=\"text-align: right;\">\n",
       "      <th></th>\n",
       "      <th>before</th>\n",
       "      <th>prev_prev</th>\n",
       "      <th>prev</th>\n",
       "      <th>next</th>\n",
       "      <th>next_next</th>\n",
       "      <th>class</th>\n",
       "      <th>case</th>\n",
       "      <th>number</th>\n",
       "      <th>after</th>\n",
       "      <th>after_true</th>\n",
       "    </tr>\n",
       "  </thead>\n",
       "  <tbody>\n",
       "    <tr>\n",
       "      <th>3439716</th>\n",
       "      <td>.</td>\n",
       "      <td>и</td>\n",
       "      <td>CCKB</td>\n",
       "      <td>Первая</td>\n",
       "      <td>бригада</td>\n",
       "      <td>CARDINAL</td>\n",
       "      <td>nomn</td>\n",
       "      <td>sing</td>\n",
       "      <td>None</td>\n",
       "      <td>.</td>\n",
       "    </tr>\n",
       "    <tr>\n",
       "      <th>228056</th>\n",
       "      <td>.</td>\n",
       "      <td>первоисточника</td>\n",
       "      <td>26 апреля 2015</td>\n",
       "      <td>Усадьба</td>\n",
       "      <td>Барсовой</td>\n",
       "      <td>CARDINAL</td>\n",
       "      <td>nomn</td>\n",
       "      <td>sing</td>\n",
       "      <td>None</td>\n",
       "      <td>.</td>\n",
       "    </tr>\n",
       "    <tr>\n",
       "      <th>5254234</th>\n",
       "      <td>.</td>\n",
       "      <td>с</td>\n",
       "      <td>компанией</td>\n",
       "      <td>Тонкий</td>\n",
       "      <td>хвост</td>\n",
       "      <td>CARDINAL</td>\n",
       "      <td>nomn</td>\n",
       "      <td>sing</td>\n",
       "      <td>None</td>\n",
       "      <td>.</td>\n",
       "    </tr>\n",
       "    <tr>\n",
       "      <th>1074310</th>\n",
       "      <td>184</td>\n",
       "      <td>жителей</td>\n",
       "      <td>работали</td>\n",
       "      <td>человека</td>\n",
       "      <td>(</td>\n",
       "      <td>CARDINAL</td>\n",
       "      <td>nomn</td>\n",
       "      <td>sing</td>\n",
       "      <td>сто восемьдесят четыре</td>\n",
       "      <td>сто восемьдесят четыре</td>\n",
       "    </tr>\n",
       "    <tr>\n",
       "      <th>7318781</th>\n",
       "      <td>7</td>\n",
       "      <td>23</td>\n",
       "      <td>.</td>\n",
       "      <td>человек</td>\n",
       "      <td>на</td>\n",
       "      <td>CARDINAL</td>\n",
       "      <td>nomn</td>\n",
       "      <td>none</td>\n",
       "      <td>семь</td>\n",
       "      <td>семь</td>\n",
       "    </tr>\n",
       "    <tr>\n",
       "      <th>3260148</th>\n",
       "      <td>-</td>\n",
       "      <td>украинкой</td>\n",
       "      <td>Ганной</td>\n",
       "      <td>рисовальщицей</td>\n",
       "      <td>»</td>\n",
       "      <td>CARDINAL</td>\n",
       "      <td>nomn</td>\n",
       "      <td>sing</td>\n",
       "      <td>None</td>\n",
       "      <td>-</td>\n",
       "    </tr>\n",
       "    <tr>\n",
       "      <th>268049</th>\n",
       "      <td>.</td>\n",
       "      <td>(</td>\n",
       "      <td>исп</td>\n",
       "      <td>Keiko</td>\n",
       "      <td>Sofia</td>\n",
       "      <td>CARDINAL</td>\n",
       "      <td>nomn</td>\n",
       "      <td>sing</td>\n",
       "      <td>None</td>\n",
       "      <td>.</td>\n",
       "    </tr>\n",
       "    <tr>\n",
       "      <th>8609176</th>\n",
       "      <td>-</td>\n",
       "      <td>и</td>\n",
       "      <td>Сен</td>\n",
       "      <td>Филип</td>\n",
       "      <td>,</td>\n",
       "      <td>CARDINAL</td>\n",
       "      <td>nomn</td>\n",
       "      <td>sing</td>\n",
       "      <td>None</td>\n",
       "      <td>-</td>\n",
       "    </tr>\n",
       "    <tr>\n",
       "      <th>4202194</th>\n",
       "      <td>.</td>\n",
       "      <td>en</td>\n",
       "      <td>Diest</td>\n",
       "      <td>Король</td>\n",
       "      <td>Эдуард</td>\n",
       "      <td>CARDINAL</td>\n",
       "      <td>nomn</td>\n",
       "      <td>sing</td>\n",
       "      <td>None</td>\n",
       "      <td>.</td>\n",
       "    </tr>\n",
       "    <tr>\n",
       "      <th>2757101</th>\n",
       "      <td>779</td>\n",
       "      <td>775</td>\n",
       "      <td>по</td>\n",
       "      <td>.</td>\n",
       "      <td>Нерсе</td>\n",
       "      <td>CARDINAL</td>\n",
       "      <td>nomn</td>\n",
       "      <td>none</td>\n",
       "      <td>семьсот семьдесят девять</td>\n",
       "      <td>семьсот семьдесят девятый</td>\n",
       "    </tr>\n",
       "    <tr>\n",
       "      <th>64429</th>\n",
       "      <td>.</td>\n",
       "      <td>,</td>\n",
       "      <td>1922</td>\n",
       "      <td>Angles</td>\n",
       "      <td>H.</td>\n",
       "      <td>CARDINAL</td>\n",
       "      <td>nomn</td>\n",
       "      <td>sing</td>\n",
       "      <td>None</td>\n",
       "      <td>.</td>\n",
       "    </tr>\n",
       "    <tr>\n",
       "      <th>7704610</th>\n",
       "      <td>.</td>\n",
       "      <td>.</td>\n",
       "      <td>495</td>\n",
       "      <td>Martin</td>\n",
       "      <td>and</td>\n",
       "      <td>CARDINAL</td>\n",
       "      <td>nomn</td>\n",
       "      <td>sing</td>\n",
       "      <td>None</td>\n",
       "      <td>.</td>\n",
       "    </tr>\n",
       "    <tr>\n",
       "      <th>7824686</th>\n",
       "      <td>.</td>\n",
       "      <td>первоисточника</td>\n",
       "      <td>8 апреля 2013</td>\n",
       "      <td>Best</td>\n",
       "      <td>-</td>\n",
       "      <td>CARDINAL</td>\n",
       "      <td>nomn</td>\n",
       "      <td>sing</td>\n",
       "      <td>None</td>\n",
       "      <td>.</td>\n",
       "    </tr>\n",
       "    <tr>\n",
       "      <th>6324313</th>\n",
       "      <td>112</td>\n",
       "      <td>101</td>\n",
       "      <td>-</td>\n",
       "      <td>.</td>\n",
       "      <td>Mikel</td>\n",
       "      <td>CARDINAL</td>\n",
       "      <td>gent</td>\n",
       "      <td>none</td>\n",
       "      <td>сто двенадцати</td>\n",
       "      <td>ста двенадцати</td>\n",
       "    </tr>\n",
       "    <tr>\n",
       "      <th>2745465</th>\n",
       "      <td>-</td>\n",
       "      <td>,</td>\n",
       "      <td>по</td>\n",
       "      <td>прежнему</td>\n",
       "      <td>обсуждается</td>\n",
       "      <td>CARDINAL</td>\n",
       "      <td>nomn</td>\n",
       "      <td>sing</td>\n",
       "      <td>None</td>\n",
       "      <td>-</td>\n",
       "    </tr>\n",
       "    <tr>\n",
       "      <th>5457860</th>\n",
       "      <td>333</td>\n",
       "      <td>331</td>\n",
       "      <td>—</td>\n",
       "      <td>.</td>\n",
       "      <td>Зимин</td>\n",
       "      <td>CARDINAL</td>\n",
       "      <td>accs</td>\n",
       "      <td>sing</td>\n",
       "      <td>триста тридцать три</td>\n",
       "      <td>триста тридцать три</td>\n",
       "    </tr>\n",
       "    <tr>\n",
       "      <th>429987</th>\n",
       "      <td>-</td>\n",
       "      <td>в</td>\n",
       "      <td>Орехово</td>\n",
       "      <td>Зуевском</td>\n",
       "      <td>муниципальном</td>\n",
       "      <td>CARDINAL</td>\n",
       "      <td>nomn</td>\n",
       "      <td>sing</td>\n",
       "      <td>None</td>\n",
       "      <td>-</td>\n",
       "    </tr>\n",
       "    <tr>\n",
       "      <th>5434369</th>\n",
       "      <td>.</td>\n",
       "      <td>московской</td>\n",
       "      <td>теократии</td>\n",
       "      <td>Женевьева</td>\n",
       "      <td>Родис</td>\n",
       "      <td>CARDINAL</td>\n",
       "      <td>nomn</td>\n",
       "      <td>sing</td>\n",
       "      <td>None</td>\n",
       "      <td>.</td>\n",
       "    </tr>\n",
       "    <tr>\n",
       "      <th>2449632</th>\n",
       "      <td>.</td>\n",
       "      <td>-</td>\n",
       "      <td>2012</td>\n",
       "      <td>Ultratop</td>\n",
       "      <td>.</td>\n",
       "      <td>CARDINAL</td>\n",
       "      <td>nomn</td>\n",
       "      <td>sing</td>\n",
       "      <td>None</td>\n",
       "      <td>.</td>\n",
       "    </tr>\n",
       "    <tr>\n",
       "      <th>1837088</th>\n",
       "      <td>2006</td>\n",
       "      <td>рингу</td>\n",
       "      <td>(</td>\n",
       "      <td>)</td>\n",
       "      <td>.</td>\n",
       "      <td>CARDINAL</td>\n",
       "      <td>nomn</td>\n",
       "      <td>sing</td>\n",
       "      <td>две тысячи шесть</td>\n",
       "      <td>две тысячи шесть</td>\n",
       "    </tr>\n",
       "    <tr>\n",
       "      <th>6140572</th>\n",
       "      <td>.</td>\n",
       "      <td>5000</td>\n",
       "      <td>экз</td>\n",
       "      <td>Министерство</td>\n",
       "      <td>здравоохранения</td>\n",
       "      <td>CARDINAL</td>\n",
       "      <td>nomn</td>\n",
       "      <td>sing</td>\n",
       "      <td>None</td>\n",
       "      <td>.</td>\n",
       "    </tr>\n",
       "    <tr>\n",
       "      <th>330087</th>\n",
       "      <td>.</td>\n",
       "      <td>Jorge</td>\n",
       "      <td>Edwards</td>\n",
       "      <td>Основные</td>\n",
       "      <td>теоретики</td>\n",
       "      <td>CARDINAL</td>\n",
       "      <td>nomn</td>\n",
       "      <td>sing</td>\n",
       "      <td>None</td>\n",
       "      <td>.</td>\n",
       "    </tr>\n",
       "    <tr>\n",
       "      <th>5887363</th>\n",
       "      <td>/</td>\n",
       "      <td>(</td>\n",
       "      <td>2006</td>\n",
       "      <td>07</td>\n",
       "      <td>,</td>\n",
       "      <td>CARDINAL</td>\n",
       "      <td>nomn</td>\n",
       "      <td>sing</td>\n",
       "      <td>None</td>\n",
       "      <td>/</td>\n",
       "    </tr>\n",
       "    <tr>\n",
       "      <th>1842620</th>\n",
       "      <td>12</td>\n",
       "      <td>Царском</td>\n",
       "      <td>Селе</td>\n",
       "      <td>(</td>\n",
       "      <td>24</td>\n",
       "      <td>CARDINAL</td>\n",
       "      <td>nomn</td>\n",
       "      <td>none</td>\n",
       "      <td>двенадцать</td>\n",
       "      <td>двенадцать</td>\n",
       "    </tr>\n",
       "    <tr>\n",
       "      <th>9121114</th>\n",
       "      <td>20</td>\n",
       "      <td>большой</td>\n",
       "      <td>за</td>\n",
       "      <td>лет</td>\n",
       "      <td>.</td>\n",
       "      <td>CARDINAL</td>\n",
       "      <td>nomn</td>\n",
       "      <td>none</td>\n",
       "      <td>двадцать</td>\n",
       "      <td>двадцать</td>\n",
       "    </tr>\n",
       "    <tr>\n",
       "      <th>5942303</th>\n",
       "      <td>16</td>\n",
       "      <td>автором</td>\n",
       "      <td>в</td>\n",
       "      <td>лет</td>\n",
       "      <td>.</td>\n",
       "      <td>CARDINAL</td>\n",
       "      <td>nomn</td>\n",
       "      <td>none</td>\n",
       "      <td>шестнадцать</td>\n",
       "      <td>шестнадцать</td>\n",
       "    </tr>\n",
       "    <tr>\n",
       "      <th>4285396</th>\n",
       "      <td>.</td>\n",
       "      <td>И. И.</td>\n",
       "      <td>Соколов</td>\n",
       "      <td>Население</td>\n",
       "      <td>составляет</td>\n",
       "      <td>CARDINAL</td>\n",
       "      <td>nomn</td>\n",
       "      <td>sing</td>\n",
       "      <td>None</td>\n",
       "      <td>.</td>\n",
       "    </tr>\n",
       "    <tr>\n",
       "      <th>5657428</th>\n",
       "      <td>.</td>\n",
       "      <td>воду</td>\n",
       "      <td>16 мая 1818 года</td>\n",
       "      <td>Военные</td>\n",
       "      <td>кампании</td>\n",
       "      <td>CARDINAL</td>\n",
       "      <td>nomn</td>\n",
       "      <td>sing</td>\n",
       "      <td>None</td>\n",
       "      <td>.</td>\n",
       "    </tr>\n",
       "    <tr>\n",
       "      <th>3422143</th>\n",
       "      <td>.</td>\n",
       "      <td>Проверено</td>\n",
       "      <td>21 апреля 2015</td>\n",
       "      <td>Sudhish</td>\n",
       "      <td>Kamath</td>\n",
       "      <td>CARDINAL</td>\n",
       "      <td>nomn</td>\n",
       "      <td>sing</td>\n",
       "      <td>None</td>\n",
       "      <td>.</td>\n",
       "    </tr>\n",
       "    <tr>\n",
       "      <th>3990749</th>\n",
       "      <td>.</td>\n",
       "      <td>с</td>\n",
       "      <td>правдой</td>\n",
       "      <td>В</td>\n",
       "      <td>1955 году</td>\n",
       "      <td>CARDINAL</td>\n",
       "      <td>nomn</td>\n",
       "      <td>sing</td>\n",
       "      <td>None</td>\n",
       "      <td>.</td>\n",
       "    </tr>\n",
       "    <tr>\n",
       "      <th>...</th>\n",
       "      <td>...</td>\n",
       "      <td>...</td>\n",
       "      <td>...</td>\n",
       "      <td>...</td>\n",
       "      <td>...</td>\n",
       "      <td>...</td>\n",
       "      <td>...</td>\n",
       "      <td>...</td>\n",
       "      <td>...</td>\n",
       "      <td>...</td>\n",
       "    </tr>\n",
       "    <tr>\n",
       "      <th>10541187</th>\n",
       "      <td>.</td>\n",
       "      <td>историческое</td>\n",
       "      <td>значение</td>\n",
       "      <td>Автор</td>\n",
       "      <td>сценария</td>\n",
       "      <td>CARDINAL</td>\n",
       "      <td>nomn</td>\n",
       "      <td>sing</td>\n",
       "      <td>None</td>\n",
       "      <td>.</td>\n",
       "    </tr>\n",
       "    <tr>\n",
       "      <th>10527273</th>\n",
       "      <td>.</td>\n",
       "      <td>первоисточника</td>\n",
       "      <td>8 июля 2012</td>\n",
       "      <td>Gendron</td>\n",
       "      <td>,</td>\n",
       "      <td>CARDINAL</td>\n",
       "      <td>nomn</td>\n",
       "      <td>sing</td>\n",
       "      <td>None</td>\n",
       "      <td>.</td>\n",
       "    </tr>\n",
       "    <tr>\n",
       "      <th>7779410</th>\n",
       "      <td>.</td>\n",
       "      <td>первоисточника</td>\n",
       "      <td>18 августа 2012</td>\n",
       "      <td>Linkin</td>\n",
       "      <td>Park</td>\n",
       "      <td>CARDINAL</td>\n",
       "      <td>nomn</td>\n",
       "      <td>sing</td>\n",
       "      <td>None</td>\n",
       "      <td>.</td>\n",
       "    </tr>\n",
       "    <tr>\n",
       "      <th>2751668</th>\n",
       "      <td>.</td>\n",
       "      <td>особенно</td>\n",
       "      <td>женщин</td>\n",
       "      <td>Военная</td>\n",
       "      <td>кампания</td>\n",
       "      <td>CARDINAL</td>\n",
       "      <td>nomn</td>\n",
       "      <td>sing</td>\n",
       "      <td>None</td>\n",
       "      <td>.</td>\n",
       "    </tr>\n",
       "    <tr>\n",
       "      <th>2485600</th>\n",
       "      <td>XII</td>\n",
       "      <td>и</td>\n",
       "      <td>до</td>\n",
       "      <td>века</td>\n",
       "      <td>власть</td>\n",
       "      <td>CARDINAL</td>\n",
       "      <td>nomn</td>\n",
       "      <td>none</td>\n",
       "      <td>None</td>\n",
       "      <td>двенадцатого</td>\n",
       "    </tr>\n",
       "    <tr>\n",
       "      <th>8812525</th>\n",
       "      <td>20</td>\n",
       "      <td>(</td>\n",
       "      <td>до</td>\n",
       "      <td>)</td>\n",
       "      <td>VS</td>\n",
       "      <td>CARDINAL</td>\n",
       "      <td>nomn</td>\n",
       "      <td>none</td>\n",
       "      <td>двадцать</td>\n",
       "      <td>двадцати</td>\n",
       "    </tr>\n",
       "    <tr>\n",
       "      <th>5282690</th>\n",
       "      <td>.</td>\n",
       "      <td>:</td>\n",
       "      <td>ил</td>\n",
       "      <td>В. А.</td>\n",
       "      <td>Возчикова</td>\n",
       "      <td>CARDINAL</td>\n",
       "      <td>nomn</td>\n",
       "      <td>sing</td>\n",
       "      <td>None</td>\n",
       "      <td>.</td>\n",
       "    </tr>\n",
       "    <tr>\n",
       "      <th>2079557</th>\n",
       "      <td>.</td>\n",
       "      <td>доктора</td>\n",
       "      <td>техн</td>\n",
       "      <td>наук</td>\n",
       "      <td>.</td>\n",
       "      <td>CARDINAL</td>\n",
       "      <td>nomn</td>\n",
       "      <td>sing</td>\n",
       "      <td>None</td>\n",
       "      <td>.</td>\n",
       "    </tr>\n",
       "    <tr>\n",
       "      <th>7510534</th>\n",
       "      <td>482</td>\n",
       "      <td>Космос</td>\n",
       "      <td>-</td>\n",
       "      <td>—</td>\n",
       "      <td>автоматическая</td>\n",
       "      <td>CARDINAL</td>\n",
       "      <td>nomn</td>\n",
       "      <td>none</td>\n",
       "      <td>четыреста восемьдесят два</td>\n",
       "      <td>четыреста восемьдесят два</td>\n",
       "    </tr>\n",
       "    <tr>\n",
       "      <th>2480445</th>\n",
       "      <td>69</td>\n",
       "      <td>—</td>\n",
       "      <td>С.</td>\n",
       "      <td>.</td>\n",
       "      <td>London</td>\n",
       "      <td>CARDINAL</td>\n",
       "      <td>nomn</td>\n",
       "      <td>none</td>\n",
       "      <td>шестьдесят девять</td>\n",
       "      <td>шестьдесят девять</td>\n",
       "    </tr>\n",
       "    <tr>\n",
       "      <th>9311043</th>\n",
       "      <td>/</td>\n",
       "      <td>)</td>\n",
       "      <td>/</td>\n",
       "      <td>Крылья</td>\n",
       "      <td>Родины</td>\n",
       "      <td>CARDINAL</td>\n",
       "      <td>nomn</td>\n",
       "      <td>sing</td>\n",
       "      <td>None</td>\n",
       "      <td>/</td>\n",
       "    </tr>\n",
       "    <tr>\n",
       "      <th>8832656</th>\n",
       "      <td>9</td>\n",
       "      <td>территории</td>\n",
       "      <td>Украины</td>\n",
       "      <td>населенных</td>\n",
       "      <td>пунктов</td>\n",
       "      <td>CARDINAL</td>\n",
       "      <td>nomn</td>\n",
       "      <td>none</td>\n",
       "      <td>девять</td>\n",
       "      <td>девять</td>\n",
       "    </tr>\n",
       "    <tr>\n",
       "      <th>40194</th>\n",
       "      <td>1627</td>\n",
       "      <td>Дрезден</td>\n",
       "      <td>,</td>\n",
       "      <td>)</td>\n",
       "      <td>.</td>\n",
       "      <td>CARDINAL</td>\n",
       "      <td>nomn</td>\n",
       "      <td>sing</td>\n",
       "      <td>одна тысяча шестьсот двадцать семь</td>\n",
       "      <td>тысяча шестьсот двадцать семь</td>\n",
       "    </tr>\n",
       "    <tr>\n",
       "      <th>4910763</th>\n",
       "      <td>-</td>\n",
       "      <td>БОЙ</td>\n",
       "      <td>КЛИЧКО</td>\n",
       "      <td>ПОВЕТКИН</td>\n",
       "      <td>НАЗВАН</td>\n",
       "      <td>CARDINAL</td>\n",
       "      <td>nomn</td>\n",
       "      <td>sing</td>\n",
       "      <td>None</td>\n",
       "      <td>-</td>\n",
       "    </tr>\n",
       "    <tr>\n",
       "      <th>6213164</th>\n",
       "      <td>1127</td>\n",
       "      <td>(</td>\n",
       "      <td>с</td>\n",
       "      <td>)</td>\n",
       "      <td>.</td>\n",
       "      <td>CARDINAL</td>\n",
       "      <td>nomn</td>\n",
       "      <td>sing</td>\n",
       "      <td>одна тысяча сто двадцать семь</td>\n",
       "      <td>тысяча сто двадцать семь</td>\n",
       "    </tr>\n",
       "    <tr>\n",
       "      <th>695002</th>\n",
       "      <td>.</td>\n",
       "      <td>,</td>\n",
       "      <td>vol</td>\n",
       "      <td>Ричард</td>\n",
       "      <td>проверяет</td>\n",
       "      <td>CARDINAL</td>\n",
       "      <td>nomn</td>\n",
       "      <td>sing</td>\n",
       "      <td>None</td>\n",
       "      <td>.</td>\n",
       "    </tr>\n",
       "    <tr>\n",
       "      <th>855302</th>\n",
       "      <td>13 842</td>\n",
       "      <td>2000 года</td>\n",
       "      <td>составляет</td>\n",
       "      <td>чел</td>\n",
       "      <td>.</td>\n",
       "      <td>CARDINAL</td>\n",
       "      <td>nomn</td>\n",
       "      <td>plur</td>\n",
       "      <td>None</td>\n",
       "      <td>тринадцать тысяч восемьсот сорок два</td>\n",
       "    </tr>\n",
       "    <tr>\n",
       "      <th>2465111</th>\n",
       "      <td>.</td>\n",
       "      <td>с</td>\n",
       "      <td>вооружения</td>\n",
       "      <td>Облечихино</td>\n",
       "      <td>—</td>\n",
       "      <td>CARDINAL</td>\n",
       "      <td>nomn</td>\n",
       "      <td>sing</td>\n",
       "      <td>None</td>\n",
       "      <td>.</td>\n",
       "    </tr>\n",
       "    <tr>\n",
       "      <th>9463288</th>\n",
       "      <td>1700</td>\n",
       "      <td>1699</td>\n",
       "      <td>—</td>\n",
       "      <td>по</td>\n",
       "      <td>1899</td>\n",
       "      <td>CARDINAL</td>\n",
       "      <td>nomn</td>\n",
       "      <td>sing</td>\n",
       "      <td>одна тысяча семьсот</td>\n",
       "      <td>тысяча семьсот</td>\n",
       "    </tr>\n",
       "    <tr>\n",
       "      <th>5130151</th>\n",
       "      <td>-</td>\n",
       "      <td>государственный</td>\n",
       "      <td>архитектурно</td>\n",
       "      <td>строительный</td>\n",
       "      <td>институт</td>\n",
       "      <td>CARDINAL</td>\n",
       "      <td>nomn</td>\n",
       "      <td>sing</td>\n",
       "      <td>None</td>\n",
       "      <td>-</td>\n",
       "    </tr>\n",
       "    <tr>\n",
       "      <th>9980371</th>\n",
       "      <td>15</td>\n",
       "      <td>7:15</td>\n",
       "      <td>,</td>\n",
       "      <td>:</td>\n",
       "      <td>9</td>\n",
       "      <td>CARDINAL</td>\n",
       "      <td>nomn</td>\n",
       "      <td>none</td>\n",
       "      <td>пятнадцать</td>\n",
       "      <td>пятнадцать</td>\n",
       "    </tr>\n",
       "    <tr>\n",
       "      <th>6955867</th>\n",
       "      <td>.</td>\n",
       "      <td>.</td>\n",
       "      <td>f</td>\n",
       "      <td>belorussicus</td>\n",
       "      <td>Kurl</td>\n",
       "      <td>CARDINAL</td>\n",
       "      <td>nomn</td>\n",
       "      <td>sing</td>\n",
       "      <td>None</td>\n",
       "      <td>.</td>\n",
       "    </tr>\n",
       "    <tr>\n",
       "      <th>5530344</th>\n",
       "      <td>651</td>\n",
       "      <td>p</td>\n",
       "      <td>.</td>\n",
       "      <td>.</td>\n",
       "      <td>Till</td>\n",
       "      <td>CARDINAL</td>\n",
       "      <td>nomn</td>\n",
       "      <td>sing</td>\n",
       "      <td>шестьсот пятьдесят один</td>\n",
       "      <td>шестьсот пятьдесят один</td>\n",
       "    </tr>\n",
       "    <tr>\n",
       "      <th>8965855</th>\n",
       "      <td>1942</td>\n",
       "      <td>животноводства</td>\n",
       "      <td>(</td>\n",
       "      <td>—</td>\n",
       "      <td>1955</td>\n",
       "      <td>CARDINAL</td>\n",
       "      <td>nomn</td>\n",
       "      <td>sing</td>\n",
       "      <td>одна тысяча девятьсот сорок два</td>\n",
       "      <td>тысяча девятьсот сорок два</td>\n",
       "    </tr>\n",
       "    <tr>\n",
       "      <th>1882260</th>\n",
       "      <td>19</td>\n",
       "      <td>на</td>\n",
       "      <td>основании</td>\n",
       "      <td>рецензий</td>\n",
       "      <td>.</td>\n",
       "      <td>CARDINAL</td>\n",
       "      <td>nomn</td>\n",
       "      <td>none</td>\n",
       "      <td>девятнадцать</td>\n",
       "      <td>девятнадцати</td>\n",
       "    </tr>\n",
       "    <tr>\n",
       "      <th>8536813</th>\n",
       "      <td>0</td>\n",
       "      <td>3</td>\n",
       "      <td>:</td>\n",
       "      <td>(</td>\n",
       "      <td>15</td>\n",
       "      <td>CARDINAL</td>\n",
       "      <td>nomn</td>\n",
       "      <td>sing</td>\n",
       "      <td>ноль</td>\n",
       "      <td>ноль</td>\n",
       "    </tr>\n",
       "    <tr>\n",
       "      <th>5853661</th>\n",
       "      <td>.</td>\n",
       "      <td>в</td>\n",
       "      <td>село</td>\n",
       "      <td>Усики</td>\n",
       "      <td>самок</td>\n",
       "      <td>CARDINAL</td>\n",
       "      <td>nomn</td>\n",
       "      <td>sing</td>\n",
       "      <td>None</td>\n",
       "      <td>.</td>\n",
       "    </tr>\n",
       "    <tr>\n",
       "      <th>9375998</th>\n",
       "      <td>249</td>\n",
       "      <td>Карта</td>\n",
       "      <td>С.</td>\n",
       "      <td>.</td>\n",
       "      <td>Якутская</td>\n",
       "      <td>CARDINAL</td>\n",
       "      <td>nomn</td>\n",
       "      <td>plur</td>\n",
       "      <td>двести сорок девять</td>\n",
       "      <td>двести сорок девять</td>\n",
       "    </tr>\n",
       "    <tr>\n",
       "      <th>6697132</th>\n",
       "      <td>-</td>\n",
       "      <td>Монтрейском</td>\n",
       "      <td>поп</td>\n",
       "      <td>фестивале</td>\n",
       "      <td>в</td>\n",
       "      <td>CARDINAL</td>\n",
       "      <td>nomn</td>\n",
       "      <td>sing</td>\n",
       "      <td>None</td>\n",
       "      <td>-</td>\n",
       "    </tr>\n",
       "    <tr>\n",
       "      <th>4371987</th>\n",
       "      <td>-</td>\n",
       "      <td>,</td>\n",
       "      <td>бога</td>\n",
       "      <td>покровителя</td>\n",
       "      <td>города</td>\n",
       "      <td>CARDINAL</td>\n",
       "      <td>nomn</td>\n",
       "      <td>sing</td>\n",
       "      <td>None</td>\n",
       "      <td>-</td>\n",
       "    </tr>\n",
       "  </tbody>\n",
       "</table>\n",
       "<p>100 rows × 10 columns</p>\n",
       "</div>"
      ]
     },
     "execution_count": 15,
     "metadata": {},
     "output_type": "execute_result"
    }
   ],
   "source": [
    "predicted[(predicted['class']=='CARDINAL') & (predicted['before'] != predicted['after'])].sample(100)"
   ]
  },
  {
   "cell_type": "code",
   "execution_count": 103,
   "metadata": {
    "collapsed": false
   },
   "outputs": [
    {
     "data": {
      "text/html": [
       "<div>\n",
       "<style scoped>\n",
       "    .dataframe tbody tr th:only-of-type {\n",
       "        vertical-align: middle;\n",
       "    }\n",
       "\n",
       "    .dataframe tbody tr th {\n",
       "        vertical-align: top;\n",
       "    }\n",
       "\n",
       "    .dataframe thead th {\n",
       "        text-align: right;\n",
       "    }\n",
       "</style>\n",
       "<table border=\"1\" class=\"dataframe\">\n",
       "  <thead>\n",
       "    <tr style=\"text-align: right;\">\n",
       "      <th></th>\n",
       "      <th>class</th>\n",
       "      <th>before</th>\n",
       "      <th>after</th>\n",
       "      <th>prev</th>\n",
       "      <th>next</th>\n",
       "    </tr>\n",
       "  </thead>\n",
       "  <tbody>\n",
       "    <tr>\n",
       "      <th>40420</th>\n",
       "      <td>FRACTION</td>\n",
       "      <td>7½</td>\n",
       "      <td>семи целых и одной второй</td>\n",
       "      <td>около</td>\n",
       "      <td>фунтов</td>\n",
       "    </tr>\n",
       "    <tr>\n",
       "      <th>157446</th>\n",
       "      <td>FRACTION</td>\n",
       "      <td>3½</td>\n",
       "      <td>три целых и одну вторую</td>\n",
       "      <td>на</td>\n",
       "      <td>очка</td>\n",
       "    </tr>\n",
       "    <tr>\n",
       "      <th>445580</th>\n",
       "      <td>FRACTION</td>\n",
       "      <td>59½</td>\n",
       "      <td>пятидесяти девяти целых и одной второй</td>\n",
       "      <td>139 976 рублей</td>\n",
       "      <td>копейки</td>\n",
       "    </tr>\n",
       "    <tr>\n",
       "      <th>765884</th>\n",
       "      <td>FRACTION</td>\n",
       "      <td>¼</td>\n",
       "      <td>одна четвертая</td>\n",
       "      <td>Второй</td>\n",
       "      <td>финалДата</td>\n",
       "    </tr>\n",
       "    <tr>\n",
       "      <th>803808</th>\n",
       "      <td>FRACTION</td>\n",
       "      <td>½</td>\n",
       "      <td>одна вторая</td>\n",
       "      <td>номиналом</td>\n",
       "      <td>шиллинга</td>\n",
       "    </tr>\n",
       "    <tr>\n",
       "      <th>999135</th>\n",
       "      <td>FRACTION</td>\n",
       "      <td>⅔</td>\n",
       "      <td>две третьих</td>\n",
       "      <td>на</td>\n",
       "      <td>территории</td>\n",
       "    </tr>\n",
       "    <tr>\n",
       "      <th>1253476</th>\n",
       "      <td>FRACTION</td>\n",
       "      <td>½</td>\n",
       "      <td>одна вторая</td>\n",
       "      <td>CrA</td>\n",
       "      <td>gut</td>\n",
       "    </tr>\n",
       "    <tr>\n",
       "      <th>1584453</th>\n",
       "      <td>FRACTION</td>\n",
       "      <td>8½</td>\n",
       "      <td>восемь целых и одна вторая</td>\n",
       "      <td>«</td>\n",
       "      <td>женщин</td>\n",
       "    </tr>\n",
       "    <tr>\n",
       "      <th>1584466</th>\n",
       "      <td>FRACTION</td>\n",
       "      <td>8½</td>\n",
       "      <td>восемь целых и одна вторая</td>\n",
       "      <td>.</td>\n",
       "      <td>Women</td>\n",
       "    </tr>\n",
       "    <tr>\n",
       "      <th>1876892</th>\n",
       "      <td>FRACTION</td>\n",
       "      <td>½</td>\n",
       "      <td>одна вторая</td>\n",
       "      <td>в</td>\n",
       "      <td>,</td>\n",
       "    </tr>\n",
       "    <tr>\n",
       "      <th>1876899</th>\n",
       "      <td>FRACTION</td>\n",
       "      <td>¼</td>\n",
       "      <td>одна четвертая</td>\n",
       "      <td>и</td>\n",
       "      <td>и</td>\n",
       "    </tr>\n",
       "    <tr>\n",
       "      <th>1876901</th>\n",
       "      <td>FRACTION</td>\n",
       "      <td>½</td>\n",
       "      <td>одна вторая</td>\n",
       "      <td>и</td>\n",
       "      <td>рупий</td>\n",
       "    </tr>\n",
       "    <tr>\n",
       "      <th>1921150</th>\n",
       "      <td>FRACTION</td>\n",
       "      <td>5 ½</td>\n",
       "      <td>пять целых и одна вторая</td>\n",
       "      <td>—</td>\n",
       "      <td>обеж</td>\n",
       "    </tr>\n",
       "    <tr>\n",
       "      <th>1949935</th>\n",
       "      <td>FRACTION</td>\n",
       "      <td>½</td>\n",
       "      <td>одна вторая</td>\n",
       "      <td>ничью</td>\n",
       "      <td>очка</td>\n",
       "    </tr>\n",
       "    <tr>\n",
       "      <th>2023480</th>\n",
       "      <td>FRACTION</td>\n",
       "      <td>½</td>\n",
       "      <td>одна вторая</td>\n",
       "      <td>состояло</td>\n",
       "      <td>дес</td>\n",
       "    </tr>\n",
       "    <tr>\n",
       "      <th>2023485</th>\n",
       "      <td>FRACTION</td>\n",
       "      <td>2 ¾</td>\n",
       "      <td>две целых и три четвертых</td>\n",
       "      <td>усадебной</td>\n",
       "      <td>дес</td>\n",
       "    </tr>\n",
       "    <tr>\n",
       "      <th>2271189</th>\n",
       "      <td>FRACTION</td>\n",
       "      <td>282½</td>\n",
       "      <td>двумястами восьмьюдесятью двумя целыми и одной...</td>\n",
       "      <td>выпущено</td>\n",
       "      <td>тысяч</td>\n",
       "    </tr>\n",
       "    <tr>\n",
       "      <th>2315287</th>\n",
       "      <td>FRACTION</td>\n",
       "      <td>6½</td>\n",
       "      <td>шесть целых и одну вторую</td>\n",
       "      <td>набрав</td>\n",
       "      <td>очков</td>\n",
       "    </tr>\n",
       "    <tr>\n",
       "      <th>2496593</th>\n",
       "      <td>FRACTION</td>\n",
       "      <td>8½</td>\n",
       "      <td>восемь целых и одна вторая</td>\n",
       "      <td>матча</td>\n",
       "      <td>:</td>\n",
       "    </tr>\n",
       "    <tr>\n",
       "      <th>2496595</th>\n",
       "      <td>FRACTION</td>\n",
       "      <td>3½</td>\n",
       "      <td>три целых и одна вторая</td>\n",
       "      <td>:</td>\n",
       "      <td>в</td>\n",
       "    </tr>\n",
       "    <tr>\n",
       "      <th>2812456</th>\n",
       "      <td>FRACTION</td>\n",
       "      <td>2½</td>\n",
       "      <td>две целых и одну вторую</td>\n",
       "      <td>на</td>\n",
       "      <td>тысячи</td>\n",
       "    </tr>\n",
       "    <tr>\n",
       "      <th>3172820</th>\n",
       "      <td>FRACTION</td>\n",
       "      <td>¾</td>\n",
       "      <td>три четвертых</td>\n",
       "      <td>в</td>\n",
       "      <td>от</td>\n",
       "    </tr>\n",
       "    <tr>\n",
       "      <th>3220263</th>\n",
       "      <td>FRACTION</td>\n",
       "      <td>2½</td>\n",
       "      <td>две целых и одна вторая</td>\n",
       "      <td>—</td>\n",
       "      <td>:</td>\n",
       "    </tr>\n",
       "    <tr>\n",
       "      <th>3220265</th>\n",
       "      <td>FRACTION</td>\n",
       "      <td>1½</td>\n",
       "      <td>одна целая и одна вторая</td>\n",
       "      <td>:</td>\n",
       "      <td>.</td>\n",
       "    </tr>\n",
       "    <tr>\n",
       "      <th>3250501</th>\n",
       "      <td>FRACTION</td>\n",
       "      <td>1 ½</td>\n",
       "      <td>одна целая и одна вторая</td>\n",
       "      <td>.</td>\n",
       "      <td>роты</td>\n",
       "    </tr>\n",
       "    <tr>\n",
       "      <th>3395752</th>\n",
       "      <td>FRACTION</td>\n",
       "      <td>½</td>\n",
       "      <td>одна вторая</td>\n",
       "      <td>Более</td>\n",
       "      <td>валовой</td>\n",
       "    </tr>\n",
       "    <tr>\n",
       "      <th>3417776</th>\n",
       "      <td>FRACTION</td>\n",
       "      <td>3½</td>\n",
       "      <td>три целых и одна вторая</td>\n",
       "      <td>счетом</td>\n",
       "      <td>:</td>\n",
       "    </tr>\n",
       "    <tr>\n",
       "      <th>3417778</th>\n",
       "      <td>FRACTION</td>\n",
       "      <td>2½</td>\n",
       "      <td>две целых и одна вторая</td>\n",
       "      <td>:</td>\n",
       "      <td>и</td>\n",
       "    </tr>\n",
       "    <tr>\n",
       "      <th>3478079</th>\n",
       "      <td>FRACTION</td>\n",
       "      <td>¼</td>\n",
       "      <td>одна четвертая</td>\n",
       "      <td>в</td>\n",
       "      <td>финала</td>\n",
       "    </tr>\n",
       "    <tr>\n",
       "      <th>3488898</th>\n",
       "      <td>FRACTION</td>\n",
       "      <td>¾</td>\n",
       "      <td>три четвертых</td>\n",
       "      <td>~</td>\n",
       "      <td>)</td>\n",
       "    </tr>\n",
       "    <tr>\n",
       "      <th>...</th>\n",
       "      <td>...</td>\n",
       "      <td>...</td>\n",
       "      <td>...</td>\n",
       "      <td>...</td>\n",
       "      <td>...</td>\n",
       "    </tr>\n",
       "    <tr>\n",
       "      <th>5646924</th>\n",
       "      <td>FRACTION</td>\n",
       "      <td>10½</td>\n",
       "      <td>десяти целых и одной второй</td>\n",
       "      <td>в</td>\n",
       "      <td>главах</td>\n",
       "    </tr>\n",
       "    <tr>\n",
       "      <th>5710816</th>\n",
       "      <td>FRACTION</td>\n",
       "      <td>6½</td>\n",
       "      <td>шесть целых и одна вторая</td>\n",
       "      <td>(</td>\n",
       "      <td>:</td>\n",
       "    </tr>\n",
       "    <tr>\n",
       "      <th>5710818</th>\n",
       "      <td>FRACTION</td>\n",
       "      <td>4½</td>\n",
       "      <td>четыре целых и одна вторая</td>\n",
       "      <td>:</td>\n",
       "      <td>)</td>\n",
       "    </tr>\n",
       "    <tr>\n",
       "      <th>5743241</th>\n",
       "      <td>FRACTION</td>\n",
       "      <td>2½</td>\n",
       "      <td>двух целых и одной второй</td>\n",
       "      <td>и</td>\n",
       "      <td>года</td>\n",
       "    </tr>\n",
       "    <tr>\n",
       "      <th>6011771</th>\n",
       "      <td>FRACTION</td>\n",
       "      <td>4 ½</td>\n",
       "      <td>четыре целых и одну вторую</td>\n",
       "      <td>Invicta</td>\n",
       "      <td>litre</td>\n",
       "    </tr>\n",
       "    <tr>\n",
       "      <th>6260409</th>\n",
       "      <td>FRACTION</td>\n",
       "      <td>1¼</td>\n",
       "      <td>одной целой и одной четвертой</td>\n",
       "      <td>до</td>\n",
       "      <td>аршина</td>\n",
       "    </tr>\n",
       "    <tr>\n",
       "      <th>6452616</th>\n",
       "      <td>FRACTION</td>\n",
       "      <td>9½</td>\n",
       "      <td>девять целых и одна вторая</td>\n",
       "      <td>по</td>\n",
       "      <td>.</td>\n",
       "    </tr>\n",
       "    <tr>\n",
       "      <th>6800651</th>\n",
       "      <td>FRACTION</td>\n",
       "      <td>½</td>\n",
       "      <td>одна вторая</td>\n",
       "      <td>Ранма</td>\n",
       "      <td>»</td>\n",
       "    </tr>\n",
       "    <tr>\n",
       "      <th>7253139</th>\n",
       "      <td>FRACTION</td>\n",
       "      <td>10½</td>\n",
       "      <td>десять целых и одну вторую</td>\n",
       "      <td>по</td>\n",
       "      <td>очков</td>\n",
       "    </tr>\n",
       "    <tr>\n",
       "      <th>7612900</th>\n",
       "      <td>FRACTION</td>\n",
       "      <td>⅔</td>\n",
       "      <td>две третьих</td>\n",
       "      <td>ленивца</td>\n",
       "      <td>веса</td>\n",
       "    </tr>\n",
       "    <tr>\n",
       "      <th>8033344</th>\n",
       "      <td>FRACTION</td>\n",
       "      <td>5¼</td>\n",
       "      <td>пятью целыми и одной четвертой</td>\n",
       "      <td>двусторонними</td>\n",
       "      <td>дюймовыми</td>\n",
       "    </tr>\n",
       "    <tr>\n",
       "      <th>8259581</th>\n",
       "      <td>FRACTION</td>\n",
       "      <td>8½</td>\n",
       "      <td>восьми целым и одной второй</td>\n",
       "      <td>по</td>\n",
       "      <td>очков</td>\n",
       "    </tr>\n",
       "    <tr>\n",
       "      <th>8283325</th>\n",
       "      <td>FRACTION</td>\n",
       "      <td>2½</td>\n",
       "      <td>две целых и одна вторая</td>\n",
       "      <td>—</td>\n",
       "      <td>:</td>\n",
       "    </tr>\n",
       "    <tr>\n",
       "      <th>8283327</th>\n",
       "      <td>FRACTION</td>\n",
       "      <td>1½</td>\n",
       "      <td>одна целая и одна вторая</td>\n",
       "      <td>:</td>\n",
       "      <td>.</td>\n",
       "    </tr>\n",
       "    <tr>\n",
       "      <th>8317226</th>\n",
       "      <td>FRACTION</td>\n",
       "      <td>¼</td>\n",
       "      <td>одна четвертая</td>\n",
       "      <td>занимавшая</td>\n",
       "      <td>часть</td>\n",
       "    </tr>\n",
       "    <tr>\n",
       "      <th>8355301</th>\n",
       "      <td>FRACTION</td>\n",
       "      <td>6½</td>\n",
       "      <td>шесть целых и одну вторую</td>\n",
       "      <td>набрал</td>\n",
       "      <td>очков</td>\n",
       "    </tr>\n",
       "    <tr>\n",
       "      <th>8457757</th>\n",
       "      <td>FRACTION</td>\n",
       "      <td>½</td>\n",
       "      <td>одна вторая</td>\n",
       "      <td>находилась</td>\n",
       "      <td>германской</td>\n",
       "    </tr>\n",
       "    <tr>\n",
       "      <th>8627416</th>\n",
       "      <td>FRACTION</td>\n",
       "      <td>⅔</td>\n",
       "      <td>двух третьих</td>\n",
       "      <td>более</td>\n",
       "      <td>)</td>\n",
       "    </tr>\n",
       "    <tr>\n",
       "      <th>8717346</th>\n",
       "      <td>FRACTION</td>\n",
       "      <td>¼</td>\n",
       "      <td>одна четвертая</td>\n",
       "      <td>составлял</td>\n",
       "      <td>рупии</td>\n",
       "    </tr>\n",
       "    <tr>\n",
       "      <th>8737281</th>\n",
       "      <td>FRACTION</td>\n",
       "      <td>3 ½</td>\n",
       "      <td>три целых и одна вторая</td>\n",
       "      <td>—</td>\n",
       "      <td>октавы</td>\n",
       "    </tr>\n",
       "    <tr>\n",
       "      <th>8984892</th>\n",
       "      <td>FRACTION</td>\n",
       "      <td>½</td>\n",
       "      <td>одной второй</td>\n",
       "      <td>от</td>\n",
       "      <td>-</td>\n",
       "    </tr>\n",
       "    <tr>\n",
       "      <th>8984894</th>\n",
       "      <td>FRACTION</td>\n",
       "      <td>¾</td>\n",
       "      <td>трех четвертых</td>\n",
       "      <td>-</td>\n",
       "      <td>мм</td>\n",
       "    </tr>\n",
       "    <tr>\n",
       "      <th>9080276</th>\n",
       "      <td>FRACTION</td>\n",
       "      <td>9½</td>\n",
       "      <td>девять целых и одна вторая</td>\n",
       "      <td>по</td>\n",
       "      <td>.</td>\n",
       "    </tr>\n",
       "    <tr>\n",
       "      <th>9080375</th>\n",
       "      <td>FRACTION</td>\n",
       "      <td>10½</td>\n",
       "      <td>десять целых и одна вторая</td>\n",
       "      <td>—</td>\n",
       "      <td>.</td>\n",
       "    </tr>\n",
       "    <tr>\n",
       "      <th>9083227</th>\n",
       "      <td>FRACTION</td>\n",
       "      <td>3½</td>\n",
       "      <td>три целых и одна вторая</td>\n",
       "      <td>—</td>\n",
       "      <td>;</td>\n",
       "    </tr>\n",
       "    <tr>\n",
       "      <th>9768976</th>\n",
       "      <td>FRACTION</td>\n",
       "      <td>2½</td>\n",
       "      <td>две целых и одна вторая</td>\n",
       "      <td>«</td>\n",
       "      <td>часа</td>\n",
       "    </tr>\n",
       "    <tr>\n",
       "      <th>9918776</th>\n",
       "      <td>FRACTION</td>\n",
       "      <td>9 ¾</td>\n",
       "      <td>девять целых и три четвертых</td>\n",
       "      <td>платформы</td>\n",
       "      <td>.</td>\n",
       "    </tr>\n",
       "    <tr>\n",
       "      <th>9921668</th>\n",
       "      <td>FRACTION</td>\n",
       "      <td>¾</td>\n",
       "      <td>три четвертых</td>\n",
       "      <td>занимали</td>\n",
       "      <td>длины</td>\n",
       "    </tr>\n",
       "    <tr>\n",
       "      <th>10013235</th>\n",
       "      <td>FRACTION</td>\n",
       "      <td>½</td>\n",
       "      <td>одна вторая</td>\n",
       "      <td>равная</td>\n",
       "      <td>асса</td>\n",
       "    </tr>\n",
       "    <tr>\n",
       "      <th>10277345</th>\n",
       "      <td>FRACTION</td>\n",
       "      <td>6¾</td>\n",
       "      <td>шесть целых и три четвертых</td>\n",
       "      <td>диска</td>\n",
       "      <td>'</td>\n",
       "    </tr>\n",
       "  </tbody>\n",
       "</table>\n",
       "<p>75 rows × 5 columns</p>\n",
       "</div>"
      ],
      "text/plain": [
       "<div>\n",
       "<style scoped>\n",
       "    .dataframe tbody tr th:only-of-type {\n",
       "        vertical-align: middle;\n",
       "    }\n",
       "\n",
       "    .dataframe tbody tr th {\n",
       "        vertical-align: top;\n",
       "    }\n",
       "\n",
       "    .dataframe thead th {\n",
       "        text-align: right;\n",
       "    }\n",
       "</style>\n",
       "<table border=\"1\" class=\"dataframe\">\n",
       "  <thead>\n",
       "    <tr style=\"text-align: right;\">\n",
       "      <th></th>\n",
       "      <th>class</th>\n",
       "      <th>before</th>\n",
       "      <th>after</th>\n",
       "      <th>prev</th>\n",
       "      <th>next</th>\n",
       "    </tr>\n",
       "  </thead>\n",
       "  <tbody>\n",
       "    <tr>\n",
       "      <th>40420</th>\n",
       "      <td>FRACTION</td>\n",
       "      <td>7½</td>\n",
       "      <td>семи целых и одной второй</td>\n",
       "      <td>около</td>\n",
       "      <td>фунтов</td>\n",
       "    </tr>\n",
       "    <tr>\n",
       "      <th>157446</th>\n",
       "      <td>FRACTION</td>\n",
       "      <td>3½</td>\n",
       "      <td>три целых и одну вторую</td>\n",
       "      <td>на</td>\n",
       "      <td>очка</td>\n",
       "    </tr>\n",
       "    <tr>\n",
       "      <th>445580</th>\n",
       "      <td>FRACTION</td>\n",
       "      <td>59½</td>\n",
       "      <td>пятидесяти девяти целых и одной второй</td>\n",
       "      <td>139 976 рублей</td>\n",
       "      <td>копейки</td>\n",
       "    </tr>\n",
       "    <tr>\n",
       "      <th>765884</th>\n",
       "      <td>FRACTION</td>\n",
       "      <td>¼</td>\n",
       "      <td>одна четвертая</td>\n",
       "      <td>Второй</td>\n",
       "      <td>финалДата</td>\n",
       "    </tr>\n",
       "    <tr>\n",
       "      <th>803808</th>\n",
       "      <td>FRACTION</td>\n",
       "      <td>½</td>\n",
       "      <td>одна вторая</td>\n",
       "      <td>номиналом</td>\n",
       "      <td>шиллинга</td>\n",
       "    </tr>\n",
       "    <tr>\n",
       "      <th>999135</th>\n",
       "      <td>FRACTION</td>\n",
       "      <td>⅔</td>\n",
       "      <td>две третьих</td>\n",
       "      <td>на</td>\n",
       "      <td>территории</td>\n",
       "    </tr>\n",
       "    <tr>\n",
       "      <th>1253476</th>\n",
       "      <td>FRACTION</td>\n",
       "      <td>½</td>\n",
       "      <td>одна вторая</td>\n",
       "      <td>CrA</td>\n",
       "      <td>gut</td>\n",
       "    </tr>\n",
       "    <tr>\n",
       "      <th>1584453</th>\n",
       "      <td>FRACTION</td>\n",
       "      <td>8½</td>\n",
       "      <td>восемь целых и одна вторая</td>\n",
       "      <td>«</td>\n",
       "      <td>женщин</td>\n",
       "    </tr>\n",
       "    <tr>\n",
       "      <th>1584466</th>\n",
       "      <td>FRACTION</td>\n",
       "      <td>8½</td>\n",
       "      <td>восемь целых и одна вторая</td>\n",
       "      <td>.</td>\n",
       "      <td>Women</td>\n",
       "    </tr>\n",
       "    <tr>\n",
       "      <th>1876892</th>\n",
       "      <td>FRACTION</td>\n",
       "      <td>½</td>\n",
       "      <td>одна вторая</td>\n",
       "      <td>в</td>\n",
       "      <td>,</td>\n",
       "    </tr>\n",
       "    <tr>\n",
       "      <th>1876899</th>\n",
       "      <td>FRACTION</td>\n",
       "      <td>¼</td>\n",
       "      <td>одна четвертая</td>\n",
       "      <td>и</td>\n",
       "      <td>и</td>\n",
       "    </tr>\n",
       "    <tr>\n",
       "      <th>1876901</th>\n",
       "      <td>FRACTION</td>\n",
       "      <td>½</td>\n",
       "      <td>одна вторая</td>\n",
       "      <td>и</td>\n",
       "      <td>рупий</td>\n",
       "    </tr>\n",
       "    <tr>\n",
       "      <th>1921150</th>\n",
       "      <td>FRACTION</td>\n",
       "      <td>5 ½</td>\n",
       "      <td>пять целых и одна вторая</td>\n",
       "      <td>—</td>\n",
       "      <td>обеж</td>\n",
       "    </tr>\n",
       "    <tr>\n",
       "      <th>1949935</th>\n",
       "      <td>FRACTION</td>\n",
       "      <td>½</td>\n",
       "      <td>одна вторая</td>\n",
       "      <td>ничью</td>\n",
       "      <td>очка</td>\n",
       "    </tr>\n",
       "    <tr>\n",
       "      <th>2023480</th>\n",
       "      <td>FRACTION</td>\n",
       "      <td>½</td>\n",
       "      <td>одна вторая</td>\n",
       "      <td>состояло</td>\n",
       "      <td>дес</td>\n",
       "    </tr>\n",
       "    <tr>\n",
       "      <th>2023485</th>\n",
       "      <td>FRACTION</td>\n",
       "      <td>2 ¾</td>\n",
       "      <td>две целых и три четвертых</td>\n",
       "      <td>усадебной</td>\n",
       "      <td>дес</td>\n",
       "    </tr>\n",
       "    <tr>\n",
       "      <th>2271189</th>\n",
       "      <td>FRACTION</td>\n",
       "      <td>282½</td>\n",
       "      <td>двумястами восьмьюдесятью двумя целыми и одной...</td>\n",
       "      <td>выпущено</td>\n",
       "      <td>тысяч</td>\n",
       "    </tr>\n",
       "    <tr>\n",
       "      <th>2315287</th>\n",
       "      <td>FRACTION</td>\n",
       "      <td>6½</td>\n",
       "      <td>шесть целых и одну вторую</td>\n",
       "      <td>набрав</td>\n",
       "      <td>очков</td>\n",
       "    </tr>\n",
       "    <tr>\n",
       "      <th>2496593</th>\n",
       "      <td>FRACTION</td>\n",
       "      <td>8½</td>\n",
       "      <td>восемь целых и одна вторая</td>\n",
       "      <td>матча</td>\n",
       "      <td>:</td>\n",
       "    </tr>\n",
       "    <tr>\n",
       "      <th>2496595</th>\n",
       "      <td>FRACTION</td>\n",
       "      <td>3½</td>\n",
       "      <td>три целых и одна вторая</td>\n",
       "      <td>:</td>\n",
       "      <td>в</td>\n",
       "    </tr>\n",
       "    <tr>\n",
       "      <th>2812456</th>\n",
       "      <td>FRACTION</td>\n",
       "      <td>2½</td>\n",
       "      <td>две целых и одну вторую</td>\n",
       "      <td>на</td>\n",
       "      <td>тысячи</td>\n",
       "    </tr>\n",
       "    <tr>\n",
       "      <th>3172820</th>\n",
       "      <td>FRACTION</td>\n",
       "      <td>¾</td>\n",
       "      <td>три четвертых</td>\n",
       "      <td>в</td>\n",
       "      <td>от</td>\n",
       "    </tr>\n",
       "    <tr>\n",
       "      <th>3220263</th>\n",
       "      <td>FRACTION</td>\n",
       "      <td>2½</td>\n",
       "      <td>две целых и одна вторая</td>\n",
       "      <td>—</td>\n",
       "      <td>:</td>\n",
       "    </tr>\n",
       "    <tr>\n",
       "      <th>3220265</th>\n",
       "      <td>FRACTION</td>\n",
       "      <td>1½</td>\n",
       "      <td>одна целая и одна вторая</td>\n",
       "      <td>:</td>\n",
       "      <td>.</td>\n",
       "    </tr>\n",
       "    <tr>\n",
       "      <th>3250501</th>\n",
       "      <td>FRACTION</td>\n",
       "      <td>1 ½</td>\n",
       "      <td>одна целая и одна вторая</td>\n",
       "      <td>.</td>\n",
       "      <td>роты</td>\n",
       "    </tr>\n",
       "    <tr>\n",
       "      <th>3395752</th>\n",
       "      <td>FRACTION</td>\n",
       "      <td>½</td>\n",
       "      <td>одна вторая</td>\n",
       "      <td>Более</td>\n",
       "      <td>валовой</td>\n",
       "    </tr>\n",
       "    <tr>\n",
       "      <th>3417776</th>\n",
       "      <td>FRACTION</td>\n",
       "      <td>3½</td>\n",
       "      <td>три целых и одна вторая</td>\n",
       "      <td>счетом</td>\n",
       "      <td>:</td>\n",
       "    </tr>\n",
       "    <tr>\n",
       "      <th>3417778</th>\n",
       "      <td>FRACTION</td>\n",
       "      <td>2½</td>\n",
       "      <td>две целых и одна вторая</td>\n",
       "      <td>:</td>\n",
       "      <td>и</td>\n",
       "    </tr>\n",
       "    <tr>\n",
       "      <th>3478079</th>\n",
       "      <td>FRACTION</td>\n",
       "      <td>¼</td>\n",
       "      <td>одна четвертая</td>\n",
       "      <td>в</td>\n",
       "      <td>финала</td>\n",
       "    </tr>\n",
       "    <tr>\n",
       "      <th>3488898</th>\n",
       "      <td>FRACTION</td>\n",
       "      <td>¾</td>\n",
       "      <td>три четвертых</td>\n",
       "      <td>~</td>\n",
       "      <td>)</td>\n",
       "    </tr>\n",
       "    <tr>\n",
       "      <th>...</th>\n",
       "      <td>...</td>\n",
       "      <td>...</td>\n",
       "      <td>...</td>\n",
       "      <td>...</td>\n",
       "      <td>...</td>\n",
       "    </tr>\n",
       "    <tr>\n",
       "      <th>5646924</th>\n",
       "      <td>FRACTION</td>\n",
       "      <td>10½</td>\n",
       "      <td>десяти целых и одной второй</td>\n",
       "      <td>в</td>\n",
       "      <td>главах</td>\n",
       "    </tr>\n",
       "    <tr>\n",
       "      <th>5710816</th>\n",
       "      <td>FRACTION</td>\n",
       "      <td>6½</td>\n",
       "      <td>шесть целых и одна вторая</td>\n",
       "      <td>(</td>\n",
       "      <td>:</td>\n",
       "    </tr>\n",
       "    <tr>\n",
       "      <th>5710818</th>\n",
       "      <td>FRACTION</td>\n",
       "      <td>4½</td>\n",
       "      <td>четыре целых и одна вторая</td>\n",
       "      <td>:</td>\n",
       "      <td>)</td>\n",
       "    </tr>\n",
       "    <tr>\n",
       "      <th>5743241</th>\n",
       "      <td>FRACTION</td>\n",
       "      <td>2½</td>\n",
       "      <td>двух целых и одной второй</td>\n",
       "      <td>и</td>\n",
       "      <td>года</td>\n",
       "    </tr>\n",
       "    <tr>\n",
       "      <th>6011771</th>\n",
       "      <td>FRACTION</td>\n",
       "      <td>4 ½</td>\n",
       "      <td>четыре целых и одну вторую</td>\n",
       "      <td>Invicta</td>\n",
       "      <td>litre</td>\n",
       "    </tr>\n",
       "    <tr>\n",
       "      <th>6260409</th>\n",
       "      <td>FRACTION</td>\n",
       "      <td>1¼</td>\n",
       "      <td>одной целой и одной четвертой</td>\n",
       "      <td>до</td>\n",
       "      <td>аршина</td>\n",
       "    </tr>\n",
       "    <tr>\n",
       "      <th>6452616</th>\n",
       "      <td>FRACTION</td>\n",
       "      <td>9½</td>\n",
       "      <td>девять целых и одна вторая</td>\n",
       "      <td>по</td>\n",
       "      <td>.</td>\n",
       "    </tr>\n",
       "    <tr>\n",
       "      <th>6800651</th>\n",
       "      <td>FRACTION</td>\n",
       "      <td>½</td>\n",
       "      <td>одна вторая</td>\n",
       "      <td>Ранма</td>\n",
       "      <td>»</td>\n",
       "    </tr>\n",
       "    <tr>\n",
       "      <th>7253139</th>\n",
       "      <td>FRACTION</td>\n",
       "      <td>10½</td>\n",
       "      <td>десять целых и одну вторую</td>\n",
       "      <td>по</td>\n",
       "      <td>очков</td>\n",
       "    </tr>\n",
       "    <tr>\n",
       "      <th>7612900</th>\n",
       "      <td>FRACTION</td>\n",
       "      <td>⅔</td>\n",
       "      <td>две третьих</td>\n",
       "      <td>ленивца</td>\n",
       "      <td>веса</td>\n",
       "    </tr>\n",
       "    <tr>\n",
       "      <th>8033344</th>\n",
       "      <td>FRACTION</td>\n",
       "      <td>5¼</td>\n",
       "      <td>пятью целыми и одной четвертой</td>\n",
       "      <td>двусторонними</td>\n",
       "      <td>дюймовыми</td>\n",
       "    </tr>\n",
       "    <tr>\n",
       "      <th>8259581</th>\n",
       "      <td>FRACTION</td>\n",
       "      <td>8½</td>\n",
       "      <td>восьми целым и одной второй</td>\n",
       "      <td>по</td>\n",
       "      <td>очков</td>\n",
       "    </tr>\n",
       "    <tr>\n",
       "      <th>8283325</th>\n",
       "      <td>FRACTION</td>\n",
       "      <td>2½</td>\n",
       "      <td>две целых и одна вторая</td>\n",
       "      <td>—</td>\n",
       "      <td>:</td>\n",
       "    </tr>\n",
       "    <tr>\n",
       "      <th>8283327</th>\n",
       "      <td>FRACTION</td>\n",
       "      <td>1½</td>\n",
       "      <td>одна целая и одна вторая</td>\n",
       "      <td>:</td>\n",
       "      <td>.</td>\n",
       "    </tr>\n",
       "    <tr>\n",
       "      <th>8317226</th>\n",
       "      <td>FRACTION</td>\n",
       "      <td>¼</td>\n",
       "      <td>одна четвертая</td>\n",
       "      <td>занимавшая</td>\n",
       "      <td>часть</td>\n",
       "    </tr>\n",
       "    <tr>\n",
       "      <th>8355301</th>\n",
       "      <td>FRACTION</td>\n",
       "      <td>6½</td>\n",
       "      <td>шесть целых и одну вторую</td>\n",
       "      <td>набрал</td>\n",
       "      <td>очков</td>\n",
       "    </tr>\n",
       "    <tr>\n",
       "      <th>8457757</th>\n",
       "      <td>FRACTION</td>\n",
       "      <td>½</td>\n",
       "      <td>одна вторая</td>\n",
       "      <td>находилась</td>\n",
       "      <td>германской</td>\n",
       "    </tr>\n",
       "    <tr>\n",
       "      <th>8627416</th>\n",
       "      <td>FRACTION</td>\n",
       "      <td>⅔</td>\n",
       "      <td>двух третьих</td>\n",
       "      <td>более</td>\n",
       "      <td>)</td>\n",
       "    </tr>\n",
       "    <tr>\n",
       "      <th>8717346</th>\n",
       "      <td>FRACTION</td>\n",
       "      <td>¼</td>\n",
       "      <td>одна четвертая</td>\n",
       "      <td>составлял</td>\n",
       "      <td>рупии</td>\n",
       "    </tr>\n",
       "    <tr>\n",
       "      <th>8737281</th>\n",
       "      <td>FRACTION</td>\n",
       "      <td>3 ½</td>\n",
       "      <td>три целых и одна вторая</td>\n",
       "      <td>—</td>\n",
       "      <td>октавы</td>\n",
       "    </tr>\n",
       "    <tr>\n",
       "      <th>8984892</th>\n",
       "      <td>FRACTION</td>\n",
       "      <td>½</td>\n",
       "      <td>одной второй</td>\n",
       "      <td>от</td>\n",
       "      <td>-</td>\n",
       "    </tr>\n",
       "    <tr>\n",
       "      <th>8984894</th>\n",
       "      <td>FRACTION</td>\n",
       "      <td>¾</td>\n",
       "      <td>трех четвертых</td>\n",
       "      <td>-</td>\n",
       "      <td>мм</td>\n",
       "    </tr>\n",
       "    <tr>\n",
       "      <th>9080276</th>\n",
       "      <td>FRACTION</td>\n",
       "      <td>9½</td>\n",
       "      <td>девять целых и одна вторая</td>\n",
       "      <td>по</td>\n",
       "      <td>.</td>\n",
       "    </tr>\n",
       "    <tr>\n",
       "      <th>9080375</th>\n",
       "      <td>FRACTION</td>\n",
       "      <td>10½</td>\n",
       "      <td>десять целых и одна вторая</td>\n",
       "      <td>—</td>\n",
       "      <td>.</td>\n",
       "    </tr>\n",
       "    <tr>\n",
       "      <th>9083227</th>\n",
       "      <td>FRACTION</td>\n",
       "      <td>3½</td>\n",
       "      <td>три целых и одна вторая</td>\n",
       "      <td>—</td>\n",
       "      <td>;</td>\n",
       "    </tr>\n",
       "    <tr>\n",
       "      <th>9768976</th>\n",
       "      <td>FRACTION</td>\n",
       "      <td>2½</td>\n",
       "      <td>две целых и одна вторая</td>\n",
       "      <td>«</td>\n",
       "      <td>часа</td>\n",
       "    </tr>\n",
       "    <tr>\n",
       "      <th>9918776</th>\n",
       "      <td>FRACTION</td>\n",
       "      <td>9 ¾</td>\n",
       "      <td>девять целых и три четвертых</td>\n",
       "      <td>платформы</td>\n",
       "      <td>.</td>\n",
       "    </tr>\n",
       "    <tr>\n",
       "      <th>9921668</th>\n",
       "      <td>FRACTION</td>\n",
       "      <td>¾</td>\n",
       "      <td>три четвертых</td>\n",
       "      <td>занимали</td>\n",
       "      <td>длины</td>\n",
       "    </tr>\n",
       "    <tr>\n",
       "      <th>10013235</th>\n",
       "      <td>FRACTION</td>\n",
       "      <td>½</td>\n",
       "      <td>одна вторая</td>\n",
       "      <td>равная</td>\n",
       "      <td>асса</td>\n",
       "    </tr>\n",
       "    <tr>\n",
       "      <th>10277345</th>\n",
       "      <td>FRACTION</td>\n",
       "      <td>6¾</td>\n",
       "      <td>шесть целых и три четвертых</td>\n",
       "      <td>диска</td>\n",
       "      <td>'</td>\n",
       "    </tr>\n",
       "  </tbody>\n",
       "</table>\n",
       "<p>75 rows × 5 columns</p>\n",
       "</div>"
      ]
     },
     "execution_count": 102,
     "metadata": {},
     "output_type": "execute_result"
    }
   ],
   "source": [
    "df[~(df['before'].str.match('^-?\\d*\\s?\\d*\\s?\\/\\s?\\d+\\s?\\d*$')) & (df['class'] == 'FRACTION')]"
   ]
  },
  {
   "cell_type": "code",
   "execution_count": 30,
   "metadata": {},
   "outputs": [],
   "source": []
  },
  {
   "cell_type": "code",
   "execution_count": null,
   "metadata": {},
   "outputs": [],
   "source": []
  }
 ],
 "metadata": {
  "kernelspec": {
   "display_name": "Python 2",
   "language": "python",
   "name": "python2"
  },
  "language_info": {
   "codemirror_mode": {
    "name": "ipython",
    "version": 2
   },
   "file_extension": ".py",
   "mimetype": "text/x-python",
   "name": "python",
   "nbconvert_exporter": "python",
   "pygments_lexer": "ipython2",
   "version": "2.7.6"
  }
 },
 "nbformat": 4,
 "nbformat_minor": 0
}
