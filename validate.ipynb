{
 "cells": [
  {
   "cell_type": "code",
   "execution_count": 1,
   "metadata": {
    "collapsed": false
   },
   "outputs": [
    {
     "name": "stderr",
     "output_type": "stream",
     "text": [
      "Using TensorFlow backend.\n"
     ]
    },
    {
     "name": "stderr",
     "output_type": "stream",
     "text": [
      "\rMorphologyExtractor create index: 0it [00:00, ?it/s]"
     ]
    },
    {
     "name": "stderr",
     "output_type": "stream",
     "text": [
      "\rMorphologyExtractor create index: 13846it [00:00, 138458.81it/s]"
     ]
    },
    {
     "name": "stderr",
     "output_type": "stream",
     "text": [
      "\rMorphologyExtractor create index: 27296it [00:00, 137244.35it/s]"
     ]
    },
    {
     "name": "stderr",
     "output_type": "stream",
     "text": [
      "\rMorphologyExtractor create index: 38935it [00:00, 130242.49it/s]"
     ]
    },
    {
     "name": "stderr",
     "output_type": "stream",
     "text": [
      "\rMorphologyExtractor create index: 52160it [00:00, 130836.87it/s]"
     ]
    },
    {
     "name": "stderr",
     "output_type": "stream",
     "text": [
      "\rMorphologyExtractor create index: 67167it [00:00, 136067.01it/s]"
     ]
    },
    {
     "name": "stderr",
     "output_type": "stream",
     "text": [
      "\rMorphologyExtractor create index: 78539it [00:00, 114326.90it/s]"
     ]
    },
    {
     "name": "stderr",
     "output_type": "stream",
     "text": [
      "\rMorphologyExtractor create index: 88998it [00:00, 108971.78it/s]"
     ]
    },
    {
     "name": "stderr",
     "output_type": "stream",
     "text": [
      "\rMorphologyExtractor create index: 99266it [00:00, 102375.07it/s]"
     ]
    },
    {
     "name": "stderr",
     "output_type": "stream",
     "text": [
      "\rMorphologyExtractor create index: 110475it [00:00, 105107.40it/s]"
     ]
    },
    {
     "name": "stderr",
     "output_type": "stream",
     "text": [
      "\rMorphologyExtractor create index: 125818it [00:01, 116074.64it/s]"
     ]
    },
    {
     "name": "stderr",
     "output_type": "stream",
     "text": [
      "\rMorphologyExtractor create index: 140074it [00:01, 122924.76it/s]"
     ]
    },
    {
     "name": "stderr",
     "output_type": "stream",
     "text": [
      "\rMorphologyExtractor create index: 153178it [00:01, 125251.05it/s]"
     ]
    },
    {
     "name": "stderr",
     "output_type": "stream",
     "text": [
      "\rMorphologyExtractor create index: 167678it [00:01, 130586.43it/s]"
     ]
    },
    {
     "name": "stderr",
     "output_type": "stream",
     "text": [
      "\rMorphologyExtractor create index: 182212it [00:01, 134685.92it/s]"
     ]
    },
    {
     "name": "stderr",
     "output_type": "stream",
     "text": [
      "\rMorphologyExtractor create index: 196644it [00:01, 137436.31it/s]"
     ]
    },
    {
     "name": "stderr",
     "output_type": "stream",
     "text": [
      "\rMorphologyExtractor create index: 212748it [00:01, 143756.33it/s]"
     ]
    },
    {
     "name": "stderr",
     "output_type": "stream",
     "text": [
      "\rMorphologyExtractor create index: 227289it [00:01, 128785.16it/s]"
     ]
    },
    {
     "name": "stderr",
     "output_type": "stream",
     "text": [
      "\rMorphologyExtractor create index: 240874it [00:01, 130826.18it/s]"
     ]
    },
    {
     "name": "stderr",
     "output_type": "stream",
     "text": [
      "\rMorphologyExtractor create index: 256283it [00:01, 137031.31it/s]"
     ]
    },
    {
     "name": "stderr",
     "output_type": "stream",
     "text": [
      "\rMorphologyExtractor create index: 272081it [00:02, 142707.60it/s]"
     ]
    },
    {
     "name": "stderr",
     "output_type": "stream",
     "text": [
      "\rMorphologyExtractor create index: 286735it [00:02, 143835.24it/s]"
     ]
    },
    {
     "name": "stderr",
     "output_type": "stream",
     "text": [
      "\rMorphologyExtractor create index: 301302it [00:02, 144379.92it/s]"
     ]
    },
    {
     "name": "stderr",
     "output_type": "stream",
     "text": [
      "\rMorphologyExtractor create index: 315869it [00:02, 143357.14it/s]"
     ]
    },
    {
     "name": "stderr",
     "output_type": "stream",
     "text": [
      "\rMorphologyExtractor create index: 331121it [00:02, 145984.92it/s]"
     ]
    },
    {
     "name": "stderr",
     "output_type": "stream",
     "text": [
      "\rMorphologyExtractor create index: 345796it [00:02, 145101.11it/s]"
     ]
    },
    {
     "name": "stderr",
     "output_type": "stream",
     "text": [
      "\rMorphologyExtractor create index: 361098it [00:02, 147387.27it/s]"
     ]
    },
    {
     "name": "stderr",
     "output_type": "stream",
     "text": [
      "\rMorphologyExtractor create index: 376280it [00:02, 148688.36it/s]"
     ]
    },
    {
     "name": "stderr",
     "output_type": "stream",
     "text": [
      "\rMorphologyExtractor create index: 391185it [00:02, 148417.10it/s]"
     ]
    },
    {
     "name": "stderr",
     "output_type": "stream",
     "text": [
      "\rMorphologyExtractor create index: 407728it [00:03, 153140.17it/s]"
     ]
    },
    {
     "name": "stderr",
     "output_type": "stream",
     "text": [
      "\rMorphologyExtractor create index: 423098it [00:03, 141677.14it/s]"
     ]
    },
    {
     "name": "stderr",
     "output_type": "stream",
     "text": [
      "\rMorphologyExtractor create index: 438022it [00:03, 143862.52it/s]"
     ]
    },
    {
     "name": "stderr",
     "output_type": "stream",
     "text": [
      "\rMorphologyExtractor create index: 452563it [00:03, 133332.65it/s]"
     ]
    },
    {
     "name": "stderr",
     "output_type": "stream",
     "text": [
      "\rMorphologyExtractor create index: 466803it [00:03, 135928.45it/s]"
     ]
    },
    {
     "name": "stderr",
     "output_type": "stream",
     "text": [
      "\rMorphologyExtractor create index: 481428it [00:03, 138867.45it/s]"
     ]
    },
    {
     "name": "stderr",
     "output_type": "stream",
     "text": [
      "\rMorphologyExtractor create index: 496906it [00:03, 143286.68it/s]"
     ]
    },
    {
     "name": "stderr",
     "output_type": "stream",
     "text": [
      "\rMorphologyExtractor create index: 512168it [00:03, 145962.12it/s]"
     ]
    },
    {
     "name": "stderr",
     "output_type": "stream",
     "text": [
      "\rMorphologyExtractor create index: 526876it [00:03, 144908.50it/s]"
     ]
    },
    {
     "name": "stderr",
     "output_type": "stream",
     "text": [
      "\rMorphologyExtractor create index: 541679it [00:03, 145828.41it/s]"
     ]
    },
    {
     "name": "stderr",
     "output_type": "stream",
     "text": [
      "\rMorphologyExtractor create index: 556962it [00:04, 147859.81it/s]"
     ]
    },
    {
     "name": "stderr",
     "output_type": "stream",
     "text": [
      "\rMorphologyExtractor create index: 572243it [00:04, 149308.19it/s]"
     ]
    },
    {
     "name": "stderr",
     "output_type": "stream",
     "text": [
      "\rMorphologyExtractor create index: 587752it [00:04, 150993.00it/s]"
     ]
    },
    {
     "name": "stderr",
     "output_type": "stream",
     "text": [
      "\rMorphologyExtractor create index: 602882it [00:04, 149521.23it/s]"
     ]
    },
    {
     "name": "stderr",
     "output_type": "stream",
     "text": [
      "\rMorphologyExtractor create index: 618699it [00:04, 152008.46it/s]"
     ]
    },
    {
     "name": "stderr",
     "output_type": "stream",
     "text": [
      "\rMorphologyExtractor create index: 634549it [00:04, 153898.47it/s]"
     ]
    },
    {
     "name": "stderr",
     "output_type": "stream",
     "text": [
      "\rMorphologyExtractor create index: 649964it [00:04, 153478.05it/s]"
     ]
    },
    {
     "name": "stderr",
     "output_type": "stream",
     "text": [
      "\rMorphologyExtractor create index: 665330it [00:04, 153142.46it/s]"
     ]
    },
    {
     "name": "stderr",
     "output_type": "stream",
     "text": [
      "\rMorphologyExtractor create index: 680657it [00:04, 152248.15it/s]"
     ]
    },
    {
     "name": "stderr",
     "output_type": "stream",
     "text": [
      "\rMorphologyExtractor create index: 695892it [00:04, 151258.24it/s]"
     ]
    },
    {
     "name": "stderr",
     "output_type": "stream",
     "text": [
      "\rMorphologyExtractor create index: 711295it [00:05, 152079.17it/s]"
     ]
    },
    {
     "name": "stderr",
     "output_type": "stream",
     "text": [
      "\rMorphologyExtractor create index: 726510it [00:05, 145111.23it/s]"
     ]
    },
    {
     "name": "stderr",
     "output_type": "stream",
     "text": [
      "\rMorphologyExtractor create index: 741094it [00:05, 144332.81it/s]"
     ]
    },
    {
     "name": "stderr",
     "output_type": "stream",
     "text": [
      "\rMorphologyExtractor create index: 755579it [00:05, 143817.89it/s]"
     ]
    },
    {
     "name": "stderr",
     "output_type": "stream",
     "text": [
      "\rMorphologyExtractor create index: 770307it [00:05, 144836.29it/s]"
     ]
    },
    {
     "name": "stderr",
     "output_type": "stream",
     "text": [
      "\rMorphologyExtractor create index: 784818it [00:05, 143287.87it/s]"
     ]
    },
    {
     "name": "stderr",
     "output_type": "stream",
     "text": [
      "\rMorphologyExtractor create index: 799170it [00:05, 126801.94it/s]"
     ]
    },
    {
     "name": "stderr",
     "output_type": "stream",
     "text": [
      "\rMorphologyExtractor create index: 813783it [00:05, 132039.14it/s]"
     ]
    },
    {
     "name": "stderr",
     "output_type": "stream",
     "text": [
      "\rMorphologyExtractor create index: 827299it [00:05, 117661.49it/s]"
     ]
    },
    {
     "name": "stderr",
     "output_type": "stream",
     "text": [
      "\rMorphologyExtractor create index: 840631it [00:06, 121957.72it/s]"
     ]
    },
    {
     "name": "stderr",
     "output_type": "stream",
     "text": [
      "\rMorphologyExtractor create index: 853224it [00:06, 113154.08it/s]"
     ]
    },
    {
     "name": "stderr",
     "output_type": "stream",
     "text": [
      "\rMorphologyExtractor create index: 864944it [00:06, 114169.20it/s]"
     ]
    },
    {
     "name": "stderr",
     "output_type": "stream",
     "text": [
      "\rMorphologyExtractor create index: 876647it [00:06, 61199.18it/s] "
     ]
    },
    {
     "name": "stderr",
     "output_type": "stream",
     "text": [
      "\rMorphologyExtractor create index: 885974it [00:06, 68237.98it/s]"
     ]
    },
    {
     "name": "stderr",
     "output_type": "stream",
     "text": [
      "\rMorphologyExtractor create index: 898719it [00:06, 79287.72it/s]"
     ]
    },
    {
     "name": "stderr",
     "output_type": "stream",
     "text": [
      "\rMorphologyExtractor create index: 910401it [00:07, 87743.62it/s]"
     ]
    },
    {
     "name": "stderr",
     "output_type": "stream",
     "text": [
      "\rMorphologyExtractor create index: 921065it [00:07, 92005.24it/s]"
     ]
    },
    {
     "name": "stderr",
     "output_type": "stream",
     "text": [
      "\rMorphologyExtractor create index: 931643it [00:07, 80799.00it/s]"
     ]
    },
    {
     "name": "stderr",
     "output_type": "stream",
     "text": [
      "\rMorphologyExtractor create index: 940935it [00:07, 81368.18it/s]"
     ]
    },
    {
     "name": "stderr",
     "output_type": "stream",
     "text": [
      "\rMorphologyExtractor create index: 954763it [00:07, 92829.05it/s]"
     ]
    },
    {
     "name": "stderr",
     "output_type": "stream",
     "text": [
      "\rMorphologyExtractor create index: 969236it [00:07, 104019.19it/s]"
     ]
    },
    {
     "name": "stderr",
     "output_type": "stream",
     "text": [
      "\rMorphologyExtractor create index: 980885it [00:07, 92261.13it/s] "
     ]
    },
    {
     "name": "stderr",
     "output_type": "stream",
     "text": [
      "\rMorphologyExtractor create index: 991230it [00:07, 94204.31it/s]"
     ]
    },
    {
     "name": "stderr",
     "output_type": "stream",
     "text": [
      "\rMorphologyExtractor create index: 1002504it [00:07, 99090.50it/s]"
     ]
    },
    {
     "name": "stderr",
     "output_type": "stream",
     "text": [
      "\rMorphologyExtractor create index: 1014940it [00:08, 105521.24it/s]"
     ]
    },
    {
     "name": "stderr",
     "output_type": "stream",
     "text": [
      "\rMorphologyExtractor create index: 1026043it [00:08, 106366.32it/s]"
     ]
    },
    {
     "name": "stderr",
     "output_type": "stream",
     "text": [
      "\rMorphologyExtractor create index: 1040930it [00:08, 116330.02it/s]"
     ]
    },
    {
     "name": "stderr",
     "output_type": "stream",
     "text": [
      "\rMorphologyExtractor create index: 1055151it [00:08, 123047.19it/s]"
     ]
    },
    {
     "name": "stderr",
     "output_type": "stream",
     "text": [
      "\rMorphologyExtractor create index: 1069389it [00:08, 128272.07it/s]"
     ]
    },
    {
     "name": "stderr",
     "output_type": "stream",
     "text": [
      "\rMorphologyExtractor create index: 1083501it [00:08, 131873.15it/s]"
     ]
    },
    {
     "name": "stderr",
     "output_type": "stream",
     "text": [
      "\rMorphologyExtractor create index: 1098102it [00:08, 135816.67it/s]"
     ]
    },
    {
     "name": "stderr",
     "output_type": "stream",
     "text": [
      "\rMorphologyExtractor create index: 1111957it [00:08, 136623.68it/s]"
     ]
    },
    {
     "name": "stderr",
     "output_type": "stream",
     "text": [
      "\rMorphologyExtractor create index: 1126409it [00:08, 138900.41it/s]"
     ]
    },
    {
     "name": "stderr",
     "output_type": "stream",
     "text": [
      "\rMorphologyExtractor create index: 1141224it [00:08, 141550.09it/s]"
     ]
    },
    {
     "name": "stderr",
     "output_type": "stream",
     "text": [
      "\rMorphologyExtractor create index: 1156202it [00:09, 143921.66it/s]"
     ]
    },
    {
     "name": "stderr",
     "output_type": "stream",
     "text": [
      "\rMorphologyExtractor create index: 1172418it [00:09, 148946.11it/s]"
     ]
    },
    {
     "name": "stderr",
     "output_type": "stream",
     "text": [
      "\rMorphologyExtractor create index: 1188479it [00:09, 152261.72it/s]"
     ]
    },
    {
     "name": "stderr",
     "output_type": "stream",
     "text": [
      "\rMorphologyExtractor create index: 1203795it [00:09, 149605.12it/s]"
     ]
    },
    {
     "name": "stderr",
     "output_type": "stream",
     "text": [
      "\rMorphologyExtractor create index: 1219840it [00:09, 152698.81it/s]"
     ]
    },
    {
     "name": "stderr",
     "output_type": "stream",
     "text": [
      "\rMorphologyExtractor create index: 1235177it [00:09, 151991.26it/s]"
     ]
    },
    {
     "name": "stderr",
     "output_type": "stream",
     "text": [
      "\rMorphologyExtractor create index: 1250424it [00:09, 151525.02it/s]"
     ]
    },
    {
     "name": "stderr",
     "output_type": "stream",
     "text": [
      "\rMorphologyExtractor create index: 1266373it [00:09, 153829.33it/s]"
     ]
    },
    {
     "name": "stderr",
     "output_type": "stream",
     "text": [
      "\rMorphologyExtractor create index: 1281788it [00:09, 153547.20it/s]"
     ]
    },
    {
     "name": "stderr",
     "output_type": "stream",
     "text": [
      "\rMorphologyExtractor create index: 1297523it [00:09, 154667.23it/s]"
     ]
    },
    {
     "name": "stderr",
     "output_type": "stream",
     "text": [
      "\rMorphologyExtractor create index: 1313241it [00:10, 155412.52it/s]"
     ]
    },
    {
     "name": "stderr",
     "output_type": "stream",
     "text": [
      "\rMorphologyExtractor create index: 1328796it [00:10, 155311.34it/s]"
     ]
    },
    {
     "name": "stderr",
     "output_type": "stream",
     "text": [
      "\rMorphologyExtractor create index: 1344337it [00:10, 153106.53it/s]"
     ]
    },
    {
     "name": "stderr",
     "output_type": "stream",
     "text": [
      "\rMorphologyExtractor create index: 1359662it [00:10, 152605.60it/s]"
     ]
    },
    {
     "name": "stderr",
     "output_type": "stream",
     "text": [
      "\rMorphologyExtractor create index: 1374933it [00:10, 147686.37it/s]"
     ]
    },
    {
     "name": "stderr",
     "output_type": "stream",
     "text": [
      "\rMorphologyExtractor create index: 1389743it [00:10, 142569.60it/s]"
     ]
    },
    {
     "name": "stderr",
     "output_type": "stream",
     "text": [
      "\rMorphologyExtractor create index: 1404068it [00:10, 140947.80it/s]"
     ]
    },
    {
     "name": "stderr",
     "output_type": "stream",
     "text": [
      "\rMorphologyExtractor create index: 1418253it [00:10, 141216.39it/s]"
     ]
    },
    {
     "name": "stderr",
     "output_type": "stream",
     "text": [
      "\rMorphologyExtractor create index: 1432411it [00:10, 140903.70it/s]"
     ]
    },
    {
     "name": "stderr",
     "output_type": "stream",
     "text": [
      "\rMorphologyExtractor create index: 1446527it [00:11, 137920.89it/s]"
     ]
    },
    {
     "name": "stderr",
     "output_type": "stream",
     "text": [
      "\rMorphologyExtractor create index: 1460351it [00:11, 133445.94it/s]"
     ]
    },
    {
     "name": "stderr",
     "output_type": "stream",
     "text": [
      "\rMorphologyExtractor create index: 1474113it [00:11, 134671.27it/s]"
     ]
    },
    {
     "name": "stderr",
     "output_type": "stream",
     "text": [
      "\rMorphologyExtractor create index: 1487621it [00:11, 133154.18it/s]"
     ]
    },
    {
     "name": "stderr",
     "output_type": "stream",
     "text": [
      "\rMorphologyExtractor create index: 1502669it [00:11, 137916.88it/s]"
     ]
    },
    {
     "name": "stderr",
     "output_type": "stream",
     "text": [
      "\rMorphologyExtractor create index: 1518454it [00:11, 143346.98it/s]"
     ]
    },
    {
     "name": "stderr",
     "output_type": "stream",
     "text": [
      "\rMorphologyExtractor create index: 1534089it [00:11, 147011.65it/s]"
     ]
    },
    {
     "name": "stderr",
     "output_type": "stream",
     "text": [
      "\rMorphologyExtractor create index: 1549641it [00:11, 149463.89it/s]"
     ]
    },
    {
     "name": "stderr",
     "output_type": "stream",
     "text": [
      "\rMorphologyExtractor create index: 1564838it [00:11, 150205.66it/s]"
     ]
    },
    {
     "name": "stderr",
     "output_type": "stream",
     "text": [
      "\rMorphologyExtractor create index: 1580066it [00:11, 150818.95it/s]"
     ]
    },
    {
     "name": "stderr",
     "output_type": "stream",
     "text": [
      "\rMorphologyExtractor create index: 1595503it [00:12, 151864.79it/s]"
     ]
    },
    {
     "name": "stderr",
     "output_type": "stream",
     "text": [
      "\rMorphologyExtractor create index: 1611877it [00:12, 155240.30it/s]"
     ]
    },
    {
     "name": "stderr",
     "output_type": "stream",
     "text": [
      "\rMorphologyExtractor create index: 1627451it [00:12, 155386.70it/s]"
     ]
    },
    {
     "name": "stderr",
     "output_type": "stream",
     "text": [
      "\rMorphologyExtractor create index: 1643017it [00:12, 152824.11it/s]"
     ]
    },
    {
     "name": "stderr",
     "output_type": "stream",
     "text": [
      "\rMorphologyExtractor create index: 1659197it [00:12, 155410.48it/s]"
     ]
    },
    {
     "name": "stderr",
     "output_type": "stream",
     "text": [
      "\rMorphologyExtractor create index: 1675245it [00:12, 156896.55it/s]"
     ]
    },
    {
     "name": "stderr",
     "output_type": "stream",
     "text": [
      "\rMorphologyExtractor create index: 1690960it [00:12, 156511.51it/s]"
     ]
    },
    {
     "name": "stderr",
     "output_type": "stream",
     "text": [
      "\rMorphologyExtractor create index: 1706629it [00:12, 155932.18it/s]"
     ]
    },
    {
     "name": "stderr",
     "output_type": "stream",
     "text": [
      "\rMorphologyExtractor create index: 1722723it [00:12, 157399.23it/s]"
     ]
    },
    {
     "name": "stderr",
     "output_type": "stream",
     "text": [
      "\rMorphologyExtractor create index: 1738476it [00:12, 155511.86it/s]"
     ]
    },
    {
     "name": "stderr",
     "output_type": "stream",
     "text": [
      "\rMorphologyExtractor create index: 1754838it [00:13, 157857.71it/s]"
     ]
    },
    {
     "name": "stderr",
     "output_type": "stream",
     "text": [
      "\rMorphologyExtractor create index: 1770642it [00:13, 154849.24it/s]"
     ]
    },
    {
     "name": "stderr",
     "output_type": "stream",
     "text": [
      "\rMorphologyExtractor create index: 1786491it [00:13, 155923.39it/s]"
     ]
    },
    {
     "name": "stderr",
     "output_type": "stream",
     "text": [
      "\rMorphologyExtractor create index: 1802103it [00:13, 155930.77it/s]"
     ]
    },
    {
     "name": "stderr",
     "output_type": "stream",
     "text": [
      "\rMorphologyExtractor create index: 1817710it [00:13, 155887.87it/s]"
     ]
    },
    {
     "name": "stderr",
     "output_type": "stream",
     "text": [
      "\rMorphologyExtractor create index: 1834056it [00:13, 158083.98it/s]"
     ]
    },
    {
     "name": "stderr",
     "output_type": "stream",
     "text": [
      "\rMorphologyExtractor create index: 1849952it [00:13, 158343.78it/s]"
     ]
    },
    {
     "name": "stderr",
     "output_type": "stream",
     "text": [
      "\rMorphologyExtractor create index: 1865879it [00:13, 158617.74it/s]"
     ]
    },
    {
     "name": "stderr",
     "output_type": "stream",
     "text": [
      "\rMorphologyExtractor create index: 1881748it [00:13, 158105.97it/s]"
     ]
    },
    {
     "name": "stderr",
     "output_type": "stream",
     "text": [
      "\rMorphologyExtractor create index: 1897564it [00:13, 157118.90it/s]"
     ]
    },
    {
     "name": "stderr",
     "output_type": "stream",
     "text": [
      "\rMorphologyExtractor create index: 1913716it [00:14, 158409.22it/s]"
     ]
    },
    {
     "name": "stderr",
     "output_type": "stream",
     "text": [
      "\rMorphologyExtractor create index: 1929564it [00:14, 158135.37it/s]"
     ]
    },
    {
     "name": "stderr",
     "output_type": "stream",
     "text": [
      "\rMorphologyExtractor create index: 1945382it [00:14, 157070.83it/s]"
     ]
    },
    {
     "name": "stderr",
     "output_type": "stream",
     "text": [
      "\rMorphologyExtractor create index: 1961094it [00:14, 155957.77it/s]"
     ]
    },
    {
     "name": "stderr",
     "output_type": "stream",
     "text": [
      "\rMorphologyExtractor create index: 1976700it [00:14, 155988.36it/s]"
     ]
    },
    {
     "name": "stderr",
     "output_type": "stream",
     "text": [
      "\rMorphologyExtractor create index: 1992303it [00:14, 154812.64it/s]"
     ]
    },
    {
     "name": "stderr",
     "output_type": "stream",
     "text": [
      "\rMorphologyExtractor create index: 2007789it [00:14, 153622.00it/s]"
     ]
    },
    {
     "name": "stderr",
     "output_type": "stream",
     "text": [
      "\rMorphologyExtractor create index: 2023157it [00:14, 152588.70it/s]"
     ]
    },
    {
     "name": "stderr",
     "output_type": "stream",
     "text": [
      "\rMorphologyExtractor create index: 2038811it [00:14, 153752.05it/s]"
     ]
    },
    {
     "name": "stderr",
     "output_type": "stream",
     "text": [
      "\rMorphologyExtractor create index: 2054794it [00:14, 155525.95it/s]"
     ]
    },
    {
     "name": "stderr",
     "output_type": "stream",
     "text": [
      "\rMorphologyExtractor create index: 2071053it [00:15, 157578.38it/s]"
     ]
    },
    {
     "name": "stderr",
     "output_type": "stream",
     "text": [
      "\rMorphologyExtractor create index: 2086824it [00:15, 157211.07it/s]"
     ]
    },
    {
     "name": "stderr",
     "output_type": "stream",
     "text": [
      "\rMorphologyExtractor create index: 2102722it [00:15, 157734.85it/s]"
     ]
    },
    {
     "name": "stderr",
     "output_type": "stream",
     "text": [
      "\rMorphologyExtractor create index: 2118503it [00:15, 157135.32it/s]"
     ]
    },
    {
     "name": "stderr",
     "output_type": "stream",
     "text": [
      "\rMorphologyExtractor create index: 2134907it [00:15, 159142.09it/s]"
     ]
    },
    {
     "name": "stderr",
     "output_type": "stream",
     "text": [
      "\rMorphologyExtractor create index: 2150832it [00:15, 157157.61it/s]"
     ]
    },
    {
     "name": "stderr",
     "output_type": "stream",
     "text": [
      "\rMorphologyExtractor create index: 2166561it [00:15, 155333.47it/s]"
     ]
    },
    {
     "name": "stderr",
     "output_type": "stream",
     "text": [
      "\rMorphologyExtractor create index: 2182163it [00:15, 155535.51it/s]"
     ]
    },
    {
     "name": "stderr",
     "output_type": "stream",
     "text": [
      "\rMorphologyExtractor create index: 2197727it [00:15, 154929.89it/s]"
     ]
    },
    {
     "name": "stderr",
     "output_type": "stream",
     "text": [
      "\rMorphologyExtractor create index: 2213228it [00:15, 153768.76it/s]"
     ]
    },
    {
     "name": "stderr",
     "output_type": "stream",
     "text": [
      "\rMorphologyExtractor create index: 2229293it [00:16, 155769.93it/s]"
     ]
    },
    {
     "name": "stderr",
     "output_type": "stream",
     "text": [
      "\rMorphologyExtractor create index: 2244882it [00:16, 153772.22it/s]"
     ]
    },
    {
     "name": "stderr",
     "output_type": "stream",
     "text": [
      "\rMorphologyExtractor create index: 2260273it [00:16, 153028.62it/s]"
     ]
    },
    {
     "name": "stderr",
     "output_type": "stream",
     "text": [
      "\rMorphologyExtractor create index: 2275775it [00:16, 153619.16it/s]"
     ]
    },
    {
     "name": "stderr",
     "output_type": "stream",
     "text": [
      "\rMorphologyExtractor create index: 2291636it [00:16, 155080.88it/s]"
     ]
    },
    {
     "name": "stderr",
     "output_type": "stream",
     "text": [
      "\rMorphologyExtractor create index: 2307963it [00:16, 157449.22it/s]"
     ]
    },
    {
     "name": "stderr",
     "output_type": "stream",
     "text": [
      "\rMorphologyExtractor create index: 2323723it [00:16, 156443.78it/s]"
     ]
    },
    {
     "name": "stderr",
     "output_type": "stream",
     "text": [
      "\rMorphologyExtractor create index: 2339380it [00:16, 156170.76it/s]"
     ]
    },
    {
     "name": "stderr",
     "output_type": "stream",
     "text": [
      "\rMorphologyExtractor create index: 2355006it [00:16, 144179.13it/s]"
     ]
    },
    {
     "name": "stderr",
     "output_type": "stream",
     "text": [
      "\rMorphologyExtractor create index: 2369613it [00:17, 143502.98it/s]"
     ]
    },
    {
     "name": "stderr",
     "output_type": "stream",
     "text": [
      "\rMorphologyExtractor create index: 2385277it [00:17, 147204.61it/s]"
     ]
    },
    {
     "name": "stderr",
     "output_type": "stream",
     "text": [
      "\rMorphologyExtractor create index: 2401492it [00:17, 151388.23it/s]"
     ]
    },
    {
     "name": "stderr",
     "output_type": "stream",
     "text": [
      "\rMorphologyExtractor create index: 2417661it [00:17, 154336.49it/s]"
     ]
    },
    {
     "name": "stderr",
     "output_type": "stream",
     "text": [
      "\rMorphologyExtractor create index: 2433890it [00:17, 156638.54it/s]"
     ]
    },
    {
     "name": "stderr",
     "output_type": "stream",
     "text": [
      "\rMorphologyExtractor create index: 2450396it [00:17, 159072.95it/s]"
     ]
    },
    {
     "name": "stderr",
     "output_type": "stream",
     "text": [
      "\rMorphologyExtractor create index: 2466537it [00:17, 159765.50it/s]"
     ]
    },
    {
     "name": "stderr",
     "output_type": "stream",
     "text": [
      "\rMorphologyExtractor create index: 2483315it [00:17, 162086.88it/s]"
     ]
    },
    {
     "name": "stderr",
     "output_type": "stream",
     "text": [
      "\rMorphologyExtractor create index: 2499562it [00:17, 160154.36it/s]"
     ]
    },
    {
     "name": "stderr",
     "output_type": "stream",
     "text": [
      "\rMorphologyExtractor create index: 2516050it [00:17, 161542.61it/s]"
     ]
    },
    {
     "name": "stderr",
     "output_type": "stream",
     "text": [
      "\rMorphologyExtractor create index: 2532230it [00:18, 153317.60it/s]"
     ]
    },
    {
     "name": "stderr",
     "output_type": "stream",
     "text": [
      "\rMorphologyExtractor create index: 2547667it [00:18, 152180.05it/s]"
     ]
    },
    {
     "name": "stderr",
     "output_type": "stream",
     "text": [
      "\rMorphologyExtractor create index: 2562961it [00:18, 152378.61it/s]"
     ]
    },
    {
     "name": "stderr",
     "output_type": "stream",
     "text": [
      "\rMorphologyExtractor create index: 2578252it [00:18, 144676.21it/s]"
     ]
    },
    {
     "name": "stderr",
     "output_type": "stream",
     "text": [
      "\rMorphologyExtractor create index: 2593624it [00:18, 147274.23it/s]"
     ]
    },
    {
     "name": "stderr",
     "output_type": "stream",
     "text": [
      "\rMorphologyExtractor create index: 2608544it [00:18, 147845.82it/s]"
     ]
    },
    {
     "name": "stderr",
     "output_type": "stream",
     "text": [
      "\rMorphologyExtractor create index: 2623396it [00:18, 146746.74it/s]"
     ]
    },
    {
     "name": "stderr",
     "output_type": "stream",
     "text": [
      "\rMorphologyExtractor create index: 2638293it [00:18, 147405.93it/s]"
     ]
    },
    {
     "name": "stderr",
     "output_type": "stream",
     "text": [
      "\rMorphologyExtractor create index: 2653069it [00:18, 146797.55it/s]"
     ]
    },
    {
     "name": "stderr",
     "output_type": "stream",
     "text": [
      "\rMorphologyExtractor create index: 2668403it [00:18, 148700.84it/s]"
     ]
    },
    {
     "name": "stderr",
     "output_type": "stream",
     "text": [
      "\rMorphologyExtractor create index: 2683420it [00:19, 149137.23it/s]"
     ]
    },
    {
     "name": "stderr",
     "output_type": "stream",
     "text": [
      "\rMorphologyExtractor create index: 2699164it [00:19, 151534.15it/s]"
     ]
    },
    {
     "name": "stderr",
     "output_type": "stream",
     "text": [
      "\rMorphologyExtractor create index: 2714361it [00:19, 151662.31it/s]"
     ]
    },
    {
     "name": "stderr",
     "output_type": "stream",
     "text": [
      "\rMorphologyExtractor create index: 2729970it [00:19, 152962.12it/s]"
     ]
    },
    {
     "name": "stderr",
     "output_type": "stream",
     "text": [
      "\rMorphologyExtractor create index: 2745491it [00:19, 153628.79it/s]"
     ]
    },
    {
     "name": "stderr",
     "output_type": "stream",
     "text": [
      "\rMorphologyExtractor create index: 2761236it [00:19, 154755.15it/s]"
     ]
    },
    {
     "name": "stderr",
     "output_type": "stream",
     "text": [
      "\rMorphologyExtractor create index: 2776839it [00:19, 155132.59it/s]"
     ]
    },
    {
     "name": "stderr",
     "output_type": "stream",
     "text": [
      "\rMorphologyExtractor create index: 2792546it [00:19, 155707.49it/s]"
     ]
    },
    {
     "name": "stderr",
     "output_type": "stream",
     "text": [
      "\rMorphologyExtractor create index: 2808122it [00:19, 155444.39it/s]"
     ]
    },
    {
     "name": "stderr",
     "output_type": "stream",
     "text": [
      "\rMorphologyExtractor create index: 2824291it [00:19, 157265.44it/s]"
     ]
    },
    {
     "name": "stderr",
     "output_type": "stream",
     "text": [
      "\rMorphologyExtractor create index: 2840171it [00:20, 157722.17it/s]"
     ]
    },
    {
     "name": "stderr",
     "output_type": "stream",
     "text": [
      "\rMorphologyExtractor create index: 2855949it [00:20, 155725.15it/s]"
     ]
    },
    {
     "name": "stderr",
     "output_type": "stream",
     "text": [
      "\rMorphologyExtractor create index: 2871532it [00:20, 153102.66it/s]"
     ]
    },
    {
     "name": "stderr",
     "output_type": "stream",
     "text": [
      "\rMorphologyExtractor create index: 2886859it [00:20, 149584.76it/s]"
     ]
    },
    {
     "name": "stderr",
     "output_type": "stream",
     "text": [
      "\rMorphologyExtractor create index: 2902608it [00:20, 151871.25it/s]"
     ]
    },
    {
     "name": "stderr",
     "output_type": "stream",
     "text": [
      "\rMorphologyExtractor create index: 2918398it [00:20, 153629.63it/s]"
     ]
    },
    {
     "name": "stderr",
     "output_type": "stream",
     "text": [
      "\rMorphologyExtractor create index: 2934111it [00:20, 154662.43it/s]"
     ]
    },
    {
     "name": "stderr",
     "output_type": "stream",
     "text": [
      "\rMorphologyExtractor create index: 2949597it [00:20, 152476.31it/s]"
     ]
    },
    {
     "name": "stderr",
     "output_type": "stream",
     "text": [
      "\rMorphologyExtractor create index: 2964866it [00:20, 151786.60it/s]"
     ]
    },
    {
     "name": "stderr",
     "output_type": "stream",
     "text": [
      "\rMorphologyExtractor create index: 2980060it [00:21, 142426.66it/s]"
     ]
    },
    {
     "name": "stderr",
     "output_type": "stream",
     "text": [
      "\rMorphologyExtractor create index: 2994431it [00:21, 136842.82it/s]"
     ]
    },
    {
     "name": "stderr",
     "output_type": "stream",
     "text": [
      "\rMorphologyExtractor create index: 3008252it [00:21, 130863.69it/s]"
     ]
    },
    {
     "name": "stderr",
     "output_type": "stream",
     "text": [
      "\rMorphologyExtractor create index: 3021719it [00:21, 131980.15it/s]"
     ]
    },
    {
     "name": "stderr",
     "output_type": "stream",
     "text": [
      "\rMorphologyExtractor create index: 3035025it [00:21, 126597.39it/s]"
     ]
    },
    {
     "name": "stderr",
     "output_type": "stream",
     "text": [
      "\rMorphologyExtractor create index: 3048054it [00:21, 127682.60it/s]"
     ]
    },
    {
     "name": "stderr",
     "output_type": "stream",
     "text": [
      "\rMorphologyExtractor create index: 3061786it [00:21, 130426.81it/s]"
     ]
    },
    {
     "name": "stderr",
     "output_type": "stream",
     "text": [
      "\rMorphologyExtractor create index: 3075525it [00:21, 132440.09it/s]"
     ]
    },
    {
     "name": "stderr",
     "output_type": "stream",
     "text": [
      "\rMorphologyExtractor create index: 3088830it [00:21, 132419.72it/s]"
     ]
    },
    {
     "name": "stderr",
     "output_type": "stream",
     "text": [
      "\rMorphologyExtractor create index: 3102115it [00:21, 131041.55it/s]"
     ]
    },
    {
     "name": "stderr",
     "output_type": "stream",
     "text": [
      "\rMorphologyExtractor create index: 3117172it [00:22, 136345.91it/s]"
     ]
    },
    {
     "name": "stderr",
     "output_type": "stream",
     "text": [
      "\rMorphologyExtractor create index: 3133702it [00:22, 143906.81it/s]"
     ]
    },
    {
     "name": "stderr",
     "output_type": "stream",
     "text": [
      "\rMorphologyExtractor create index: 3148260it [00:22, 144115.70it/s]"
     ]
    },
    {
     "name": "stderr",
     "output_type": "stream",
     "text": [
      "\rMorphologyExtractor create index: 3162789it [00:22, 136630.14it/s]"
     ]
    },
    {
     "name": "stderr",
     "output_type": "stream",
     "text": [
      "\rMorphologyExtractor create index: 3177851it [00:22, 140544.38it/s]"
     ]
    },
    {
     "name": "stderr",
     "output_type": "stream",
     "text": [
      "\rMorphologyExtractor create index: 3193248it [00:22, 144318.11it/s]"
     ]
    },
    {
     "name": "stderr",
     "output_type": "stream",
     "text": [
      "\rMorphologyExtractor create index: 3208892it [00:22, 147750.18it/s]"
     ]
    },
    {
     "name": "stderr",
     "output_type": "stream",
     "text": [
      "\rMorphologyExtractor create index: 3224322it [00:22, 149655.09it/s]"
     ]
    },
    {
     "name": "stderr",
     "output_type": "stream",
     "text": [
      "\rMorphologyExtractor create index: 3240653it [00:22, 153502.99it/s]"
     ]
    },
    {
     "name": "stderr",
     "output_type": "stream",
     "text": [
      "\rMorphologyExtractor create index: 3256085it [00:22, 152836.29it/s]"
     ]
    },
    {
     "name": "stderr",
     "output_type": "stream",
     "text": [
      "\rMorphologyExtractor create index: 3271428it [00:23, 153012.98it/s]"
     ]
    },
    {
     "name": "stderr",
     "output_type": "stream",
     "text": [
      "\rMorphologyExtractor create index: 3286905it [00:23, 153532.23it/s]"
     ]
    },
    {
     "name": "stderr",
     "output_type": "stream",
     "text": [
      "\rMorphologyExtractor create index: 3302357it [00:23, 153825.85it/s]"
     ]
    },
    {
     "name": "stderr",
     "output_type": "stream",
     "text": [
      "\rMorphologyExtractor create index: 3317760it [00:23, 150638.88it/s]"
     ]
    },
    {
     "name": "stderr",
     "output_type": "stream",
     "text": [
      "\rMorphologyExtractor create index: 3332853it [00:23, 149564.66it/s]"
     ]
    },
    {
     "name": "stderr",
     "output_type": "stream",
     "text": [
      "\rMorphologyExtractor create index: 3348542it [00:23, 151687.15it/s]"
     ]
    },
    {
     "name": "stderr",
     "output_type": "stream",
     "text": [
      "\rMorphologyExtractor create index: 3364678it [00:23, 154462.83it/s]"
     ]
    },
    {
     "name": "stderr",
     "output_type": "stream",
     "text": [
      "\rMorphologyExtractor create index: 3380153it [00:23, 153569.19it/s]"
     ]
    },
    {
     "name": "stderr",
     "output_type": "stream",
     "text": [
      "\rMorphologyExtractor create index: 3395640it [00:23, 153957.07it/s]"
     ]
    },
    {
     "name": "stderr",
     "output_type": "stream",
     "text": [
      "\rMorphologyExtractor create index: 3411421it [00:24, 155091.24it/s]"
     ]
    },
    {
     "name": "stderr",
     "output_type": "stream",
     "text": [
      "\rMorphologyExtractor create index: 3427370it [00:24, 156381.93it/s]"
     ]
    },
    {
     "name": "stderr",
     "output_type": "stream",
     "text": [
      "\rMorphologyExtractor create index: 3443035it [00:24, 156461.29it/s]"
     ]
    },
    {
     "name": "stderr",
     "output_type": "stream",
     "text": [
      "\rMorphologyExtractor create index: 3458690it [00:24, 144798.22it/s]"
     ]
    },
    {
     "name": "stderr",
     "output_type": "stream",
     "text": [
      "\rMorphologyExtractor create index: 3473419it [00:24, 145534.23it/s]"
     ]
    },
    {
     "name": "stderr",
     "output_type": "stream",
     "text": [
      "\rMorphologyExtractor create index: 3489044it [00:24, 148589.31it/s]"
     ]
    },
    {
     "name": "stderr",
     "output_type": "stream",
     "text": [
      "\rMorphologyExtractor create index: 3505252it [00:24, 152390.81it/s]"
     ]
    },
    {
     "name": "stderr",
     "output_type": "stream",
     "text": [
      "\rMorphologyExtractor create index: 3520600it [00:24, 152713.16it/s]"
     ]
    },
    {
     "name": "stderr",
     "output_type": "stream",
     "text": [
      "\rMorphologyExtractor create index: 3535940it [00:24, 152242.88it/s]"
     ]
    },
    {
     "name": "stderr",
     "output_type": "stream",
     "text": [
      "\rMorphologyExtractor create index: 3551560it [00:24, 153407.01it/s]"
     ]
    },
    {
     "name": "stderr",
     "output_type": "stream",
     "text": [
      "\rMorphologyExtractor create index: 3567434it [00:25, 154968.40it/s]"
     ]
    },
    {
     "name": "stderr",
     "output_type": "stream",
     "text": [
      "\rMorphologyExtractor create index: 3583228it [00:25, 155846.25it/s]"
     ]
    },
    {
     "name": "stderr",
     "output_type": "stream",
     "text": [
      "\rMorphologyExtractor create index: 3599380it [00:25, 157503.92it/s]"
     ]
    },
    {
     "name": "stderr",
     "output_type": "stream",
     "text": [
      "\rMorphologyExtractor create index: 3615150it [00:25, 154387.65it/s]"
     ]
    },
    {
     "name": "stderr",
     "output_type": "stream",
     "text": [
      "\rMorphologyExtractor create index: 3630616it [00:25, 149062.76it/s]"
     ]
    },
    {
     "name": "stderr",
     "output_type": "stream",
     "text": [
      "\rMorphologyExtractor create index: 3645581it [00:25, 147529.54it/s]"
     ]
    },
    {
     "name": "stderr",
     "output_type": "stream",
     "text": [
      "\rMorphologyExtractor create index: 3660484it [00:25, 147973.49it/s]"
     ]
    },
    {
     "name": "stderr",
     "output_type": "stream",
     "text": [
      "\rMorphologyExtractor create index: 3675662it [00:25, 149094.34it/s]"
     ]
    },
    {
     "name": "stderr",
     "output_type": "stream",
     "text": [
      "\rMorphologyExtractor create index: 3690685it [00:25, 149430.62it/s]"
     ]
    },
    {
     "name": "stderr",
     "output_type": "stream",
     "text": [
      "\rMorphologyExtractor create index: 3705646it [00:25, 148582.91it/s]"
     ]
    },
    {
     "name": "stderr",
     "output_type": "stream",
     "text": [
      "\rMorphologyExtractor create index: 3721674it [00:26, 151908.29it/s]"
     ]
    },
    {
     "name": "stderr",
     "output_type": "stream",
     "text": [
      "\rMorphologyExtractor create index: 3736893it [00:26, 150821.00it/s]"
     ]
    },
    {
     "name": "stderr",
     "output_type": "stream",
     "text": [
      "\rMorphologyExtractor create index: 3752569it [00:26, 152553.57it/s]"
     ]
    },
    {
     "name": "stderr",
     "output_type": "stream",
     "text": [
      "\rMorphologyExtractor create index: 3767844it [00:26, 146805.57it/s]"
     ]
    },
    {
     "name": "stderr",
     "output_type": "stream",
     "text": [
      "\rMorphologyExtractor create index: 3782671it [00:26, 147240.11it/s]"
     ]
    },
    {
     "name": "stderr",
     "output_type": "stream",
     "text": [
      "\rMorphologyExtractor create index: 3798785it [00:26, 151149.82it/s]"
     ]
    },
    {
     "name": "stderr",
     "output_type": "stream",
     "text": [
      "\rMorphologyExtractor create index: 3814518it [00:26, 152950.41it/s]"
     ]
    },
    {
     "name": "stderr",
     "output_type": "stream",
     "text": [
      "\rMorphologyExtractor create index: 3829858it [00:26, 145097.32it/s]"
     ]
    },
    {
     "name": "stderr",
     "output_type": "stream",
     "text": [
      "\rMorphologyExtractor create index: 3844483it [00:26, 137995.61it/s]"
     ]
    },
    {
     "name": "stderr",
     "output_type": "stream",
     "text": [
      "\rMorphologyExtractor create index: 3858436it [00:27, 134789.33it/s]"
     ]
    },
    {
     "name": "stderr",
     "output_type": "stream",
     "text": [
      "\rMorphologyExtractor create index: 3872850it [00:27, 137462.59it/s]"
     ]
    },
    {
     "name": "stderr",
     "output_type": "stream",
     "text": [
      "\rMorphologyExtractor create index: 3888269it [00:27, 142084.98it/s]"
     ]
    },
    {
     "name": "stderr",
     "output_type": "stream",
     "text": [
      "\rMorphologyExtractor create index: 3902810it [00:27, 143059.60it/s]"
     ]
    },
    {
     "name": "stderr",
     "output_type": "stream",
     "text": [
      "\rMorphologyExtractor create index: 3917354it [00:27, 143760.36it/s]"
     ]
    },
    {
     "name": "stderr",
     "output_type": "stream",
     "text": [
      "\rMorphologyExtractor create index: 3931786it [00:27, 143147.01it/s]"
     ]
    },
    {
     "name": "stderr",
     "output_type": "stream",
     "text": [
      "\rMorphologyExtractor create index: 3946141it [00:27, 141985.96it/s]"
     ]
    },
    {
     "name": "stderr",
     "output_type": "stream",
     "text": [
      "\rMorphologyExtractor create index: 3960868it [00:27, 143528.76it/s]"
     ]
    },
    {
     "name": "stderr",
     "output_type": "stream",
     "text": [
      "\rMorphologyExtractor create index: 3976582it [00:27, 147355.90it/s]"
     ]
    },
    {
     "name": "stderr",
     "output_type": "stream",
     "text": [
      "\rMorphologyExtractor create index: 3991361it [00:27, 146573.60it/s]"
     ]
    },
    {
     "name": "stderr",
     "output_type": "stream",
     "text": [
      "\rMorphologyExtractor create index: 4007272it [00:28, 150119.99it/s]"
     ]
    },
    {
     "name": "stderr",
     "output_type": "stream",
     "text": [
      "\rMorphologyExtractor create index: 4023249it [00:28, 152890.27it/s]"
     ]
    },
    {
     "name": "stderr",
     "output_type": "stream",
     "text": [
      "\rMorphologyExtractor create index: 4038975it [00:28, 154174.98it/s]"
     ]
    },
    {
     "name": "stderr",
     "output_type": "stream",
     "text": [
      "\rMorphologyExtractor create index: 4055009it [00:28, 155973.63it/s]"
     ]
    },
    {
     "name": "stderr",
     "output_type": "stream",
     "text": [
      "\rMorphologyExtractor create index: 4071302it [00:28, 157995.54it/s]"
     ]
    },
    {
     "name": "stderr",
     "output_type": "stream",
     "text": [
      "\rMorphologyExtractor create index: 4087128it [00:28, 157855.37it/s]"
     ]
    },
    {
     "name": "stderr",
     "output_type": "stream",
     "text": [
      "\rMorphologyExtractor create index: 4102938it [00:28, 157927.71it/s]"
     ]
    },
    {
     "name": "stderr",
     "output_type": "stream",
     "text": [
      "\rMorphologyExtractor create index: 4119618it [00:28, 160487.73it/s]"
     ]
    },
    {
     "name": "stderr",
     "output_type": "stream",
     "text": [
      "\rMorphologyExtractor create index: 4135686it [00:28, 157914.54it/s]"
     ]
    },
    {
     "name": "stderr",
     "output_type": "stream",
     "text": [
      "\rMorphologyExtractor create index: 4151500it [00:28, 154831.43it/s]"
     ]
    },
    {
     "name": "stderr",
     "output_type": "stream",
     "text": [
      "\rMorphologyExtractor create index: 4167013it [00:29, 153928.08it/s]"
     ]
    },
    {
     "name": "stderr",
     "output_type": "stream",
     "text": [
      "\rMorphologyExtractor create index: 4182526it [00:29, 154286.30it/s]"
     ]
    },
    {
     "name": "stderr",
     "output_type": "stream",
     "text": [
      "\rMorphologyExtractor create index: 4199121it [00:29, 157608.09it/s]"
     ]
    },
    {
     "name": "stderr",
     "output_type": "stream",
     "text": [
      "\rMorphologyExtractor create index: 4214961it [00:29, 157842.06it/s]"
     ]
    },
    {
     "name": "stderr",
     "output_type": "stream",
     "text": [
      "\rMorphologyExtractor create index: 4231259it [00:29, 159346.25it/s]"
     ]
    },
    {
     "name": "stderr",
     "output_type": "stream",
     "text": [
      "\rMorphologyExtractor create index: 4247211it [00:29, 157570.27it/s]"
     ]
    },
    {
     "name": "stderr",
     "output_type": "stream",
     "text": [
      "\rMorphologyExtractor create index: 4263077it [00:29, 157892.85it/s]"
     ]
    },
    {
     "name": "stderr",
     "output_type": "stream",
     "text": [
      "\rMorphologyExtractor create index: 4278879it [00:29, 156468.22it/s]"
     ]
    },
    {
     "name": "stderr",
     "output_type": "stream",
     "text": [
      "\rMorphologyExtractor create index: 4294538it [00:29, 155836.59it/s]"
     ]
    },
    {
     "name": "stderr",
     "output_type": "stream",
     "text": [
      "\rMorphologyExtractor create index: 4310131it [00:29, 154047.27it/s]"
     ]
    },
    {
     "name": "stderr",
     "output_type": "stream",
     "text": [
      "\rMorphologyExtractor create index: 4325654it [00:30, 154398.81it/s]"
     ]
    },
    {
     "name": "stderr",
     "output_type": "stream",
     "text": [
      "\rMorphologyExtractor create index: 4341301it [00:30, 155013.44it/s]"
     ]
    },
    {
     "name": "stderr",
     "output_type": "stream",
     "text": [
      "\rMorphologyExtractor create index: 4357304it [00:30, 156482.82it/s]"
     ]
    },
    {
     "name": "stderr",
     "output_type": "stream",
     "text": [
      "\rMorphologyExtractor create index: 4372960it [00:30, 156433.19it/s]"
     ]
    },
    {
     "name": "stderr",
     "output_type": "stream",
     "text": [
      "\rMorphologyExtractor create index: 4389537it [00:30, 159120.20it/s]"
     ]
    },
    {
     "name": "stderr",
     "output_type": "stream",
     "text": [
      "\rMorphologyExtractor create index: 4405549it [00:30, 159416.49it/s]"
     ]
    },
    {
     "name": "stderr",
     "output_type": "stream",
     "text": [
      "\rMorphologyExtractor create index: 4421502it [00:30, 156509.03it/s]"
     ]
    },
    {
     "name": "stderr",
     "output_type": "stream",
     "text": [
      "\rMorphologyExtractor create index: 4437173it [00:30, 154051.39it/s]"
     ]
    },
    {
     "name": "stderr",
     "output_type": "stream",
     "text": [
      "\rMorphologyExtractor create index: 4452601it [00:30, 153831.75it/s]"
     ]
    },
    {
     "name": "stderr",
     "output_type": "stream",
     "text": [
      "\rMorphologyExtractor create index: 4469157it [00:30, 157171.47it/s]"
     ]
    },
    {
     "name": "stderr",
     "output_type": "stream",
     "text": [
      "\rMorphologyExtractor create index: 4485673it [00:31, 159484.31it/s]"
     ]
    },
    {
     "name": "stderr",
     "output_type": "stream",
     "text": [
      "\rMorphologyExtractor create index: 4501650it [00:31, 158158.80it/s]"
     ]
    },
    {
     "name": "stderr",
     "output_type": "stream",
     "text": [
      "\rMorphologyExtractor create index: 4517761it [00:31, 159029.87it/s]"
     ]
    },
    {
     "name": "stderr",
     "output_type": "stream",
     "text": [
      "\rMorphologyExtractor create index: 4533681it [00:31, 154058.95it/s]"
     ]
    },
    {
     "name": "stderr",
     "output_type": "stream",
     "text": [
      "\rMorphologyExtractor create index: 4549430it [00:31, 155070.98it/s]"
     ]
    },
    {
     "name": "stderr",
     "output_type": "stream",
     "text": [
      "\rMorphologyExtractor create index: 4564971it [00:31, 154145.26it/s]"
     ]
    },
    {
     "name": "stderr",
     "output_type": "stream",
     "text": [
      "\rMorphologyExtractor create index: 4580885it [00:31, 155608.10it/s]"
     ]
    },
    {
     "name": "stderr",
     "output_type": "stream",
     "text": [
      "\rMorphologyExtractor create index: 4597141it [00:31, 157629.49it/s]"
     ]
    },
    {
     "name": "stderr",
     "output_type": "stream",
     "text": [
      "\rMorphologyExtractor create index: 4613015it [00:31, 157959.14it/s]"
     ]
    },
    {
     "name": "stderr",
     "output_type": "stream",
     "text": [
      "\rMorphologyExtractor create index: 4628826it [00:31, 157940.06it/s]"
     ]
    },
    {
     "name": "stderr",
     "output_type": "stream",
     "text": [
      "\rMorphologyExtractor create index: 4644631it [00:32, 143712.31it/s]"
     ]
    },
    {
     "name": "stderr",
     "output_type": "stream",
     "text": [
      "\rMorphologyExtractor create index: 4659710it [00:32, 145762.78it/s]"
     ]
    },
    {
     "name": "stderr",
     "output_type": "stream",
     "text": [
      "\rMorphologyExtractor create index: 4674472it [00:32, 144976.07it/s]"
     ]
    },
    {
     "name": "stderr",
     "output_type": "stream",
     "text": [
      "\rMorphologyExtractor create index: 4689942it [00:32, 147761.56it/s]"
     ]
    },
    {
     "name": "stderr",
     "output_type": "stream",
     "text": [
      "\rMorphologyExtractor create index: 4704872it [00:32, 148218.00it/s]"
     ]
    },
    {
     "name": "stderr",
     "output_type": "stream",
     "text": [
      "\rMorphologyExtractor create index: 4719768it [00:32, 147439.21it/s]"
     ]
    },
    {
     "name": "stderr",
     "output_type": "stream",
     "text": [
      "\rMorphologyExtractor create index: 4734565it [00:32, 146639.14it/s]"
     ]
    },
    {
     "name": "stderr",
     "output_type": "stream",
     "text": [
      "\rMorphologyExtractor create index: 4749544it [00:32, 147569.08it/s]"
     ]
    },
    {
     "name": "stderr",
     "output_type": "stream",
     "text": [
      "\rMorphologyExtractor create index: 4764565it [00:32, 148350.65it/s]"
     ]
    },
    {
     "name": "stderr",
     "output_type": "stream",
     "text": [
      "\rMorphologyExtractor create index: 4779953it [00:33, 149965.12it/s]"
     ]
    },
    {
     "name": "stderr",
     "output_type": "stream",
     "text": [
      "\rMorphologyExtractor create index: 4794969it [00:33, 149987.03it/s]"
     ]
    },
    {
     "name": "stderr",
     "output_type": "stream",
     "text": [
      "\rMorphologyExtractor create index: 4810507it [00:33, 151564.29it/s]"
     ]
    },
    {
     "name": "stderr",
     "output_type": "stream",
     "text": [
      "\rMorphologyExtractor create index: 4825677it [00:33, 146062.79it/s]"
     ]
    },
    {
     "name": "stderr",
     "output_type": "stream",
     "text": [
      "\rMorphologyExtractor create index: 4840891it [00:33, 147832.96it/s]"
     ]
    },
    {
     "name": "stderr",
     "output_type": "stream",
     "text": [
      "\rMorphologyExtractor create index: 4856424it [00:33, 150002.42it/s]"
     ]
    },
    {
     "name": "stderr",
     "output_type": "stream",
     "text": [
      "\rMorphologyExtractor create index: 4871802it [00:33, 151113.77it/s]"
     ]
    },
    {
     "name": "stderr",
     "output_type": "stream",
     "text": [
      "\rMorphologyExtractor create index: 4887577it [00:33, 153044.88it/s]"
     ]
    },
    {
     "name": "stderr",
     "output_type": "stream",
     "text": [
      "\rMorphologyExtractor create index: 4903624it [00:33, 155197.90it/s]"
     ]
    },
    {
     "name": "stderr",
     "output_type": "stream",
     "text": [
      "\rMorphologyExtractor create index: 4919910it [00:33, 157417.94it/s]"
     ]
    },
    {
     "name": "stderr",
     "output_type": "stream",
     "text": [
      "\rMorphologyExtractor create index: 4935874it [00:34, 158077.52it/s]"
     ]
    },
    {
     "name": "stderr",
     "output_type": "stream",
     "text": [
      "\rMorphologyExtractor create index: 4951701it [00:34, 157449.45it/s]"
     ]
    },
    {
     "name": "stderr",
     "output_type": "stream",
     "text": [
      "\rMorphologyExtractor create index: 4967552it [00:34, 157764.14it/s]"
     ]
    },
    {
     "name": "stderr",
     "output_type": "stream",
     "text": [
      "\rMorphologyExtractor create index: 4983541it [00:34, 158393.07it/s]"
     ]
    },
    {
     "name": "stderr",
     "output_type": "stream",
     "text": [
      "\rMorphologyExtractor create index: 4999388it [00:34, 155587.72it/s]"
     ]
    },
    {
     "name": "stderr",
     "output_type": "stream",
     "text": [
      "\rMorphologyExtractor create index: 5015397it [00:34, 156911.19it/s]"
     ]
    },
    {
     "name": "stderr",
     "output_type": "stream",
     "text": [
      "\rMorphologyExtractor create index: 5031124it [00:34, 157018.15it/s]"
     ]
    },
    {
     "name": "stderr",
     "output_type": "stream",
     "text": [
      "\rMorphologyExtractor create index: 5046836it [00:34, 156468.72it/s]"
     ]
    },
    {
     "name": "stderr",
     "output_type": "stream",
     "text": [
      "\rMorphologyExtractor create index: 5063103it [00:34, 158276.61it/s]"
     ]
    },
    {
     "name": "stderr",
     "output_type": "stream",
     "text": [
      "\rMorphologyExtractor create index: 5079418it [00:34, 159705.93it/s]"
     ]
    },
    {
     "name": "stderr",
     "output_type": "stream",
     "text": [
      "\rMorphologyExtractor create index: 5095399it [00:35, 159407.25it/s]"
     ]
    },
    {
     "name": "stderr",
     "output_type": "stream",
     "text": [
      "\rMorphologyExtractor create index: 5096053it [00:35, 145401.48it/s]"
     ]
    },
    {
     "name": "stderr",
     "output_type": "stream",
     "text": [
      "\n"
     ]
    },
    {
     "name": "stderr",
     "output_type": "stream",
     "text": [
      "\rMorphologyExtractor create index: 0it [00:00, ?it/s]"
     ]
    },
    {
     "name": "stderr",
     "output_type": "stream",
     "text": [
      "\rMorphologyExtractor create index: 14667it [00:00, 146669.79it/s]"
     ]
    },
    {
     "name": "stderr",
     "output_type": "stream",
     "text": [
      "\rMorphologyExtractor create index: 28156it [00:00, 142920.83it/s]"
     ]
    },
    {
     "name": "stderr",
     "output_type": "stream",
     "text": [
      "\rMorphologyExtractor create index: 43195it [00:00, 145080.84it/s]"
     ]
    },
    {
     "name": "stderr",
     "output_type": "stream",
     "text": [
      "\rMorphologyExtractor create index: 57157it [00:00, 143396.40it/s]"
     ]
    },
    {
     "name": "stderr",
     "output_type": "stream",
     "text": [
      "\rMorphologyExtractor create index: 73402it [00:00, 148624.06it/s]"
     ]
    },
    {
     "name": "stderr",
     "output_type": "stream",
     "text": [
      "\rMorphologyExtractor create index: 89427it [00:00, 151930.41it/s]"
     ]
    },
    {
     "name": "stderr",
     "output_type": "stream",
     "text": [
      "\rMorphologyExtractor create index: 105232it [00:00, 153713.63it/s]"
     ]
    },
    {
     "name": "stderr",
     "output_type": "stream",
     "text": [
      "\rMorphologyExtractor create index: 121993it [00:00, 157632.66it/s]"
     ]
    },
    {
     "name": "stderr",
     "output_type": "stream",
     "text": [
      "\rMorphologyExtractor create index: 138444it [00:00, 159632.33it/s]"
     ]
    },
    {
     "name": "stderr",
     "output_type": "stream",
     "text": [
      "\rMorphologyExtractor create index: 154282it [00:01, 159254.03it/s]"
     ]
    },
    {
     "name": "stderr",
     "output_type": "stream",
     "text": [
      "\rMorphologyExtractor create index: 170683it [00:01, 160650.75it/s]"
     ]
    },
    {
     "name": "stderr",
     "output_type": "stream",
     "text": [
      "\rMorphologyExtractor create index: 186485it [00:01, 158306.21it/s]"
     ]
    },
    {
     "name": "stderr",
     "output_type": "stream",
     "text": [
      "\rMorphologyExtractor create index: 202945it [00:01, 160143.16it/s]"
     ]
    },
    {
     "name": "stderr",
     "output_type": "stream",
     "text": [
      "\rMorphologyExtractor create index: 219309it [00:01, 161174.08it/s]"
     ]
    },
    {
     "name": "stderr",
     "output_type": "stream",
     "text": [
      "\rMorphologyExtractor create index: 235345it [00:01, 159018.29it/s]"
     ]
    },
    {
     "name": "stderr",
     "output_type": "stream",
     "text": [
      "\rMorphologyExtractor create index: 251523it [00:01, 159834.98it/s]"
     ]
    },
    {
     "name": "stderr",
     "output_type": "stream",
     "text": [
      "\rMorphologyExtractor create index: 267473it [00:01, 158403.21it/s]"
     ]
    },
    {
     "name": "stderr",
     "output_type": "stream",
     "text": [
      "\rMorphologyExtractor create index: 284040it [00:01, 160514.90it/s]"
     ]
    },
    {
     "name": "stderr",
     "output_type": "stream",
     "text": [
      "\rMorphologyExtractor create index: 300221it [00:01, 160899.81it/s]"
     ]
    },
    {
     "name": "stderr",
     "output_type": "stream",
     "text": [
      "\rMorphologyExtractor create index: 316724it [00:02, 162116.47it/s]"
     ]
    },
    {
     "name": "stderr",
     "output_type": "stream",
     "text": [
      "\rMorphologyExtractor create index: 332935it [00:02, 159713.50it/s]"
     ]
    },
    {
     "name": "stderr",
     "output_type": "stream",
     "text": [
      "\rMorphologyExtractor create index: 349334it [00:02, 160972.78it/s]"
     ]
    },
    {
     "name": "stderr",
     "output_type": "stream",
     "text": [
      "\rMorphologyExtractor create index: 365439it [00:02, 160063.23it/s]"
     ]
    },
    {
     "name": "stderr",
     "output_type": "stream",
     "text": [
      "\rMorphologyExtractor create index: 381452it [00:02, 158052.98it/s]"
     ]
    },
    {
     "name": "stderr",
     "output_type": "stream",
     "text": [
      "\rMorphologyExtractor create index: 397365it [00:02, 158372.34it/s]"
     ]
    },
    {
     "name": "stderr",
     "output_type": "stream",
     "text": [
      "\rMorphologyExtractor create index: 413210it [00:02, 157410.75it/s]"
     ]
    },
    {
     "name": "stderr",
     "output_type": "stream",
     "text": [
      "\rMorphologyExtractor create index: 429210it [00:02, 158178.17it/s]"
     ]
    },
    {
     "name": "stderr",
     "output_type": "stream",
     "text": [
      "\rMorphologyExtractor create index: 445034it [00:02, 157019.52it/s]"
     ]
    },
    {
     "name": "stderr",
     "output_type": "stream",
     "text": [
      "\rMorphologyExtractor create index: 461335it [00:02, 158768.41it/s]"
     ]
    },
    {
     "name": "stderr",
     "output_type": "stream",
     "text": [
      "\rMorphologyExtractor create index: 477221it [00:03, 158462.27it/s]"
     ]
    },
    {
     "name": "stderr",
     "output_type": "stream",
     "text": [
      "\rMorphologyExtractor create index: 493743it [00:03, 160429.08it/s]"
     ]
    },
    {
     "name": "stderr",
     "output_type": "stream",
     "text": [
      "\rMorphologyExtractor create index: 509797it [00:03, 159162.26it/s]"
     ]
    },
    {
     "name": "stderr",
     "output_type": "stream",
     "text": [
      "\rMorphologyExtractor create index: 525819it [00:03, 159474.87it/s]"
     ]
    },
    {
     "name": "stderr",
     "output_type": "stream",
     "text": [
      "\rMorphologyExtractor create index: 541774it [00:03, 157798.91it/s]"
     ]
    },
    {
     "name": "stderr",
     "output_type": "stream",
     "text": [
      "\rMorphologyExtractor create index: 557997it [00:03, 159101.32it/s]"
     ]
    },
    {
     "name": "stderr",
     "output_type": "stream",
     "text": [
      "\rMorphologyExtractor create index: 573916it [00:03, 156813.28it/s]"
     ]
    },
    {
     "name": "stderr",
     "output_type": "stream",
     "text": [
      "\rMorphologyExtractor create index: 590171it [00:03, 158488.50it/s]"
     ]
    },
    {
     "name": "stderr",
     "output_type": "stream",
     "text": [
      "\rMorphologyExtractor create index: 606280it [00:03, 159259.11it/s]"
     ]
    },
    {
     "name": "stderr",
     "output_type": "stream",
     "text": [
      "\rMorphologyExtractor create index: 622435it [00:03, 159938.55it/s]"
     ]
    },
    {
     "name": "stderr",
     "output_type": "stream",
     "text": [
      "\rMorphologyExtractor create index: 638437it [00:04, 158641.35it/s]"
     ]
    },
    {
     "name": "stderr",
     "output_type": "stream",
     "text": [
      "\rMorphologyExtractor create index: 654828it [00:04, 160185.97it/s]"
     ]
    },
    {
     "name": "stderr",
     "output_type": "stream",
     "text": [
      "\rMorphologyExtractor create index: 670856it [00:04, 157646.65it/s]"
     ]
    },
    {
     "name": "stderr",
     "output_type": "stream",
     "text": [
      "\rMorphologyExtractor create index: 686637it [00:04, 157473.71it/s]"
     ]
    },
    {
     "name": "stderr",
     "output_type": "stream",
     "text": [
      "\rMorphologyExtractor create index: 702557it [00:04, 157987.14it/s]"
     ]
    },
    {
     "name": "stderr",
     "output_type": "stream",
     "text": [
      "\rMorphologyExtractor create index: 718364it [00:04, 157928.70it/s]"
     ]
    },
    {
     "name": "stderr",
     "output_type": "stream",
     "text": [
      "\rMorphologyExtractor create index: 734163it [00:04, 156300.72it/s]"
     ]
    },
    {
     "name": "stderr",
     "output_type": "stream",
     "text": [
      "\rMorphologyExtractor create index: 749801it [00:04, 153842.01it/s]"
     ]
    },
    {
     "name": "stderr",
     "output_type": "stream",
     "text": [
      "\rMorphologyExtractor create index: 765200it [00:04, 153059.45it/s]"
     ]
    },
    {
     "name": "stderr",
     "output_type": "stream",
     "text": [
      "\rMorphologyExtractor create index: 781184it [00:04, 155030.54it/s]"
     ]
    },
    {
     "name": "stderr",
     "output_type": "stream",
     "text": [
      "\rMorphologyExtractor create index: 796931it [00:05, 155752.13it/s]"
     ]
    },
    {
     "name": "stderr",
     "output_type": "stream",
     "text": [
      "\rMorphologyExtractor create index: 812517it [00:05, 155731.19it/s]"
     ]
    },
    {
     "name": "stderr",
     "output_type": "stream",
     "text": [
      "\rMorphologyExtractor create index: 828408it [00:05, 156670.89it/s]"
     ]
    },
    {
     "name": "stderr",
     "output_type": "stream",
     "text": [
      "\rMorphologyExtractor create index: 844082it [00:05, 156241.44it/s]"
     ]
    },
    {
     "name": "stderr",
     "output_type": "stream",
     "text": [
      "\rMorphologyExtractor create index: 860298it [00:05, 157968.76it/s]"
     ]
    },
    {
     "name": "stderr",
     "output_type": "stream",
     "text": [
      "\rMorphologyExtractor create index: 876206it [00:05, 158298.18it/s]"
     ]
    },
    {
     "name": "stderr",
     "output_type": "stream",
     "text": [
      "\rMorphologyExtractor create index: 892070it [00:05, 158398.69it/s]"
     ]
    },
    {
     "name": "stderr",
     "output_type": "stream",
     "text": [
      "\rMorphologyExtractor create index: 907914it [00:05, 157844.37it/s]"
     ]
    },
    {
     "name": "stderr",
     "output_type": "stream",
     "text": [
      "\rMorphologyExtractor create index: 923702it [00:05, 157087.03it/s]"
     ]
    },
    {
     "name": "stderr",
     "output_type": "stream",
     "text": [
      "\rMorphologyExtractor create index: 940408it [00:05, 159949.91it/s]"
     ]
    },
    {
     "name": "stderr",
     "output_type": "stream",
     "text": [
      "\rMorphologyExtractor create index: 956833it [00:06, 161215.59it/s]"
     ]
    },
    {
     "name": "stderr",
     "output_type": "stream",
     "text": [
      "\rMorphologyExtractor create index: 972968it [00:06, 158154.16it/s]"
     ]
    },
    {
     "name": "stderr",
     "output_type": "stream",
     "text": [
      "\rMorphologyExtractor create index: 988949it [00:06, 158646.33it/s]"
     ]
    },
    {
     "name": "stderr",
     "output_type": "stream",
     "text": [
      "\rMorphologyExtractor create index: 1004830it [00:06, 155990.19it/s]"
     ]
    },
    {
     "name": "stderr",
     "output_type": "stream",
     "text": [
      "\rMorphologyExtractor create index: 1020451it [00:06, 153568.05it/s]"
     ]
    },
    {
     "name": "stderr",
     "output_type": "stream",
     "text": [
      "\rMorphologyExtractor create index: 1036017it [00:06, 154187.34it/s]"
     ]
    },
    {
     "name": "stderr",
     "output_type": "stream",
     "text": [
      "\rMorphologyExtractor create index: 1051453it [00:06, 152314.31it/s]"
     ]
    },
    {
     "name": "stderr",
     "output_type": "stream",
     "text": [
      "\rMorphologyExtractor create index: 1067275it [00:06, 154038.82it/s]"
     ]
    },
    {
     "name": "stderr",
     "output_type": "stream",
     "text": [
      "\rMorphologyExtractor create index: 1082696it [00:06, 154013.12it/s]"
     ]
    },
    {
     "name": "stderr",
     "output_type": "stream",
     "text": [
      "\rMorphologyExtractor create index: 1098691it [00:06, 155746.46it/s]"
     ]
    },
    {
     "name": "stderr",
     "output_type": "stream",
     "text": [
      "\rMorphologyExtractor create index: 1114779it [00:07, 157250.29it/s]"
     ]
    },
    {
     "name": "stderr",
     "output_type": "stream",
     "text": [
      "\rMorphologyExtractor create index: 1130517it [00:07, 157057.95it/s]"
     ]
    },
    {
     "name": "stderr",
     "output_type": "stream",
     "text": [
      "\rMorphologyExtractor create index: 1146358it [00:07, 157460.62it/s]"
     ]
    },
    {
     "name": "stderr",
     "output_type": "stream",
     "text": [
      "\rMorphologyExtractor create index: 1162692it [00:07, 159174.89it/s]"
     ]
    },
    {
     "name": "stderr",
     "output_type": "stream",
     "text": [
      "\rMorphologyExtractor create index: 1178619it [00:07, 156598.13it/s]"
     ]
    },
    {
     "name": "stderr",
     "output_type": "stream",
     "text": [
      "\rMorphologyExtractor create index: 1194295it [00:07, 155506.45it/s]"
     ]
    },
    {
     "name": "stderr",
     "output_type": "stream",
     "text": [
      "\rMorphologyExtractor create index: 1209915it [00:07, 155710.13it/s]"
     ]
    },
    {
     "name": "stderr",
     "output_type": "stream",
     "text": [
      "\rMorphologyExtractor create index: 1225969it [00:07, 157126.48it/s]"
     ]
    },
    {
     "name": "stderr",
     "output_type": "stream",
     "text": [
      "\rMorphologyExtractor create index: 1242035it [00:07, 158169.59it/s]"
     ]
    },
    {
     "name": "stderr",
     "output_type": "stream",
     "text": [
      "\rMorphologyExtractor create index: 1258167it [00:07, 159101.20it/s]"
     ]
    },
    {
     "name": "stderr",
     "output_type": "stream",
     "text": [
      "\rMorphologyExtractor create index: 1274085it [00:08, 158324.31it/s]"
     ]
    },
    {
     "name": "stderr",
     "output_type": "stream",
     "text": [
      "\rMorphologyExtractor create index: 1289924it [00:08, 157052.49it/s]"
     ]
    },
    {
     "name": "stderr",
     "output_type": "stream",
     "text": [
      "\rMorphologyExtractor create index: 1305636it [00:08, 156330.54it/s]"
     ]
    },
    {
     "name": "stderr",
     "output_type": "stream",
     "text": [
      "\rMorphologyExtractor create index: 1321568it [00:08, 157213.58it/s]"
     ]
    },
    {
     "name": "stderr",
     "output_type": "stream",
     "text": [
      "\rMorphologyExtractor create index: 1337739it [00:08, 158535.63it/s]"
     ]
    },
    {
     "name": "stderr",
     "output_type": "stream",
     "text": [
      "\rMorphologyExtractor create index: 1353599it [00:08, 157085.00it/s]"
     ]
    },
    {
     "name": "stderr",
     "output_type": "stream",
     "text": [
      "\rMorphologyExtractor create index: 1369315it [00:08, 153775.12it/s]"
     ]
    },
    {
     "name": "stderr",
     "output_type": "stream",
     "text": [
      "\rMorphologyExtractor create index: 1385076it [00:08, 154905.34it/s]"
     ]
    },
    {
     "name": "stderr",
     "output_type": "stream",
     "text": [
      "\rMorphologyExtractor create index: 1400583it [00:08, 153650.22it/s]"
     ]
    },
    {
     "name": "stderr",
     "output_type": "stream",
     "text": [
      "\rMorphologyExtractor create index: 1415962it [00:09, 152665.09it/s]"
     ]
    },
    {
     "name": "stderr",
     "output_type": "stream",
     "text": [
      "\rMorphologyExtractor create index: 1431293it [00:09, 152857.93it/s]"
     ]
    },
    {
     "name": "stderr",
     "output_type": "stream",
     "text": [
      "\rMorphologyExtractor create index: 1447347it [00:09, 155081.91it/s]"
     ]
    },
    {
     "name": "stderr",
     "output_type": "stream",
     "text": [
      "\rMorphologyExtractor create index: 1462869it [00:09, 154787.33it/s]"
     ]
    },
    {
     "name": "stderr",
     "output_type": "stream",
     "text": [
      "\rMorphologyExtractor create index: 1478922it [00:09, 156465.26it/s]"
     ]
    },
    {
     "name": "stderr",
     "output_type": "stream",
     "text": [
      "\rMorphologyExtractor create index: 1494892it [00:09, 157420.33it/s]"
     ]
    },
    {
     "name": "stderr",
     "output_type": "stream",
     "text": [
      "\rMorphologyExtractor create index: 1510644it [00:09, 155349.79it/s]"
     ]
    },
    {
     "name": "stderr",
     "output_type": "stream",
     "text": [
      "\rMorphologyExtractor create index: 1526192it [00:09, 154660.74it/s]"
     ]
    },
    {
     "name": "stderr",
     "output_type": "stream",
     "text": [
      "\rMorphologyExtractor create index: 1541761it [00:09, 154966.59it/s]"
     ]
    },
    {
     "name": "stderr",
     "output_type": "stream",
     "text": [
      "\rMorphologyExtractor create index: 1557265it [00:09, 154691.23it/s]"
     ]
    },
    {
     "name": "stderr",
     "output_type": "stream",
     "text": [
      "\rMorphologyExtractor create index: 1573096it [00:10, 155756.56it/s]"
     ]
    },
    {
     "name": "stderr",
     "output_type": "stream",
     "text": [
      "\rMorphologyExtractor create index: 1589579it [00:10, 158371.44it/s]"
     ]
    },
    {
     "name": "stderr",
     "output_type": "stream",
     "text": [
      "\rMorphologyExtractor create index: 1605431it [00:10, 154505.19it/s]"
     ]
    },
    {
     "name": "stderr",
     "output_type": "stream",
     "text": [
      "\rMorphologyExtractor create index: 1620913it [00:10, 153647.65it/s]"
     ]
    },
    {
     "name": "stderr",
     "output_type": "stream",
     "text": [
      "\rMorphologyExtractor create index: 1636301it [00:10, 152674.90it/s]"
     ]
    },
    {
     "name": "stderr",
     "output_type": "stream",
     "text": [
      "\rMorphologyExtractor create index: 1652222it [00:10, 154574.89it/s]"
     ]
    },
    {
     "name": "stderr",
     "output_type": "stream",
     "text": [
      "\rMorphologyExtractor create index: 1668076it [00:10, 155742.94it/s]"
     ]
    },
    {
     "name": "stderr",
     "output_type": "stream",
     "text": [
      "\rMorphologyExtractor create index: 1683665it [00:10, 153681.05it/s]"
     ]
    },
    {
     "name": "stderr",
     "output_type": "stream",
     "text": [
      "\rMorphologyExtractor create index: 1699050it [00:10, 152749.97it/s]"
     ]
    },
    {
     "name": "stderr",
     "output_type": "stream",
     "text": [
      "\rMorphologyExtractor create index: 1714338it [00:10, 151768.77it/s]"
     ]
    },
    {
     "name": "stderr",
     "output_type": "stream",
     "text": [
      "\rMorphologyExtractor create index: 1729570it [00:11, 151931.48it/s]"
     ]
    },
    {
     "name": "stderr",
     "output_type": "stream",
     "text": [
      "\rMorphologyExtractor create index: 1745513it [00:11, 154102.87it/s]"
     ]
    },
    {
     "name": "stderr",
     "output_type": "stream",
     "text": [
      "\rMorphologyExtractor create index: 1761239it [00:11, 155034.26it/s]"
     ]
    },
    {
     "name": "stderr",
     "output_type": "stream",
     "text": [
      "\rMorphologyExtractor create index: 1776968it [00:11, 155702.77it/s]"
     ]
    },
    {
     "name": "stderr",
     "output_type": "stream",
     "text": [
      "\rMorphologyExtractor create index: 1793507it [00:11, 158487.26it/s]"
     ]
    },
    {
     "name": "stderr",
     "output_type": "stream",
     "text": [
      "\rMorphologyExtractor create index: 1809850it [00:11, 159936.88it/s]"
     ]
    },
    {
     "name": "stderr",
     "output_type": "stream",
     "text": [
      "\rMorphologyExtractor create index: 1825860it [00:11, 158796.13it/s]"
     ]
    },
    {
     "name": "stderr",
     "output_type": "stream",
     "text": [
      "\rMorphologyExtractor create index: 1841753it [00:11, 156841.99it/s]"
     ]
    },
    {
     "name": "stderr",
     "output_type": "stream",
     "text": [
      "\rMorphologyExtractor create index: 1857964it [00:11, 158383.37it/s]"
     ]
    },
    {
     "name": "stderr",
     "output_type": "stream",
     "text": [
      "\rMorphologyExtractor create index: 1873816it [00:11, 154033.75it/s]"
     ]
    },
    {
     "name": "stderr",
     "output_type": "stream",
     "text": [
      "\rMorphologyExtractor create index: 1889256it [00:12, 142081.14it/s]"
     ]
    },
    {
     "name": "stderr",
     "output_type": "stream",
     "text": [
      "\rMorphologyExtractor create index: 1904629it [00:12, 145382.72it/s]"
     ]
    },
    {
     "name": "stderr",
     "output_type": "stream",
     "text": [
      "\rMorphologyExtractor create index: 1920997it [00:12, 150426.32it/s]"
     ]
    },
    {
     "name": "stderr",
     "output_type": "stream",
     "text": [
      "\rMorphologyExtractor create index: 1936232it [00:12, 150995.99it/s]"
     ]
    },
    {
     "name": "stderr",
     "output_type": "stream",
     "text": [
      "\rMorphologyExtractor create index: 1951632it [00:12, 151884.32it/s]"
     ]
    },
    {
     "name": "stderr",
     "output_type": "stream",
     "text": [
      "\rMorphologyExtractor create index: 1966916it [00:12, 152168.84it/s]"
     ]
    },
    {
     "name": "stderr",
     "output_type": "stream",
     "text": [
      "\rMorphologyExtractor create index: 1982499it [00:12, 153245.91it/s]"
     ]
    },
    {
     "name": "stderr",
     "output_type": "stream",
     "text": [
      "\rMorphologyExtractor create index: 1998121it [00:12, 154124.26it/s]"
     ]
    },
    {
     "name": "stderr",
     "output_type": "stream",
     "text": [
      "\rMorphologyExtractor create index: 2013564it [00:12, 149878.03it/s]"
     ]
    },
    {
     "name": "stderr",
     "output_type": "stream",
     "text": [
      "\rMorphologyExtractor create index: 2029091it [00:12, 151453.28it/s]"
     ]
    },
    {
     "name": "stderr",
     "output_type": "stream",
     "text": [
      "\rMorphologyExtractor create index: 2044975it [00:13, 153596.08it/s]"
     ]
    },
    {
     "name": "stderr",
     "output_type": "stream",
     "text": [
      "\rMorphologyExtractor create index: 2060368it [00:13, 148906.50it/s]"
     ]
    },
    {
     "name": "stderr",
     "output_type": "stream",
     "text": [
      "\rMorphologyExtractor create index: 2076762it [00:13, 153111.12it/s]"
     ]
    },
    {
     "name": "stderr",
     "output_type": "stream",
     "text": [
      "\rMorphologyExtractor create index: 2092141it [00:13, 152467.30it/s]"
     ]
    },
    {
     "name": "stderr",
     "output_type": "stream",
     "text": [
      "\rMorphologyExtractor create index: 2107436it [00:13, 146742.15it/s]"
     ]
    },
    {
     "name": "stderr",
     "output_type": "stream",
     "text": [
      "\rMorphologyExtractor create index: 2123687it [00:13, 151139.12it/s]"
     ]
    },
    {
     "name": "stderr",
     "output_type": "stream",
     "text": [
      "\rMorphologyExtractor create index: 2139216it [00:13, 152359.97it/s]"
     ]
    },
    {
     "name": "stderr",
     "output_type": "stream",
     "text": [
      "\rMorphologyExtractor create index: 2154517it [00:13, 152188.37it/s]"
     ]
    },
    {
     "name": "stderr",
     "output_type": "stream",
     "text": [
      "\rMorphologyExtractor create index: 2169782it [00:13, 149494.57it/s]"
     ]
    },
    {
     "name": "stderr",
     "output_type": "stream",
     "text": [
      "\rMorphologyExtractor create index: 2184774it [00:14, 143984.16it/s]"
     ]
    },
    {
     "name": "stderr",
     "output_type": "stream",
     "text": [
      "\rMorphologyExtractor create index: 2199246it [00:14, 143315.63it/s]"
     ]
    },
    {
     "name": "stderr",
     "output_type": "stream",
     "text": [
      "\rMorphologyExtractor create index: 2213630it [00:14, 141760.45it/s]"
     ]
    },
    {
     "name": "stderr",
     "output_type": "stream",
     "text": [
      "\rMorphologyExtractor create index: 2227847it [00:14, 136466.26it/s]"
     ]
    },
    {
     "name": "stderr",
     "output_type": "stream",
     "text": [
      "\rMorphologyExtractor create index: 2243003it [00:14, 140668.56it/s]"
     ]
    },
    {
     "name": "stderr",
     "output_type": "stream",
     "text": [
      "\rMorphologyExtractor create index: 2258406it [00:14, 144425.97it/s]"
     ]
    },
    {
     "name": "stderr",
     "output_type": "stream",
     "text": [
      "\rMorphologyExtractor create index: 2273950it [00:14, 147562.67it/s]"
     ]
    },
    {
     "name": "stderr",
     "output_type": "stream",
     "text": [
      "\rMorphologyExtractor create index: 2290813it [00:14, 153307.37it/s]"
     ]
    },
    {
     "name": "stderr",
     "output_type": "stream",
     "text": [
      "\rMorphologyExtractor create index: 2306860it [00:14, 155385.46it/s]"
     ]
    },
    {
     "name": "stderr",
     "output_type": "stream",
     "text": [
      "\rMorphologyExtractor create index: 2322482it [00:14, 155102.65it/s]"
     ]
    },
    {
     "name": "stderr",
     "output_type": "stream",
     "text": [
      "\rMorphologyExtractor create index: 2338440it [00:15, 156417.10it/s]"
     ]
    },
    {
     "name": "stderr",
     "output_type": "stream",
     "text": [
      "\rMorphologyExtractor create index: 2354126it [00:15, 156115.91it/s]"
     ]
    },
    {
     "name": "stderr",
     "output_type": "stream",
     "text": [
      "\rMorphologyExtractor create index: 2370551it [00:15, 158468.45it/s]"
     ]
    },
    {
     "name": "stderr",
     "output_type": "stream",
     "text": [
      "\rMorphologyExtractor create index: 2386449it [00:15, 158620.26it/s]"
     ]
    },
    {
     "name": "stderr",
     "output_type": "stream",
     "text": [
      "\rMorphologyExtractor create index: 2402657it [00:15, 159641.61it/s]"
     ]
    },
    {
     "name": "stderr",
     "output_type": "stream",
     "text": [
      "\rMorphologyExtractor create index: 2418992it [00:15, 160733.43it/s]"
     ]
    },
    {
     "name": "stderr",
     "output_type": "stream",
     "text": [
      "\rMorphologyExtractor create index: 2435284it [00:15, 161382.23it/s]"
     ]
    },
    {
     "name": "stderr",
     "output_type": "stream",
     "text": [
      "\rMorphologyExtractor create index: 2451536it [00:15, 161721.35it/s]"
     ]
    },
    {
     "name": "stderr",
     "output_type": "stream",
     "text": [
      "\rMorphologyExtractor create index: 2467961it [00:15, 162470.75it/s]"
     ]
    },
    {
     "name": "stderr",
     "output_type": "stream",
     "text": [
      "\rMorphologyExtractor create index: 2484623it [00:15, 163691.64it/s]"
     ]
    },
    {
     "name": "stderr",
     "output_type": "stream",
     "text": [
      "\rMorphologyExtractor create index: 2501009it [00:16, 163739.23it/s]"
     ]
    },
    {
     "name": "stderr",
     "output_type": "stream",
     "text": [
      "\rMorphologyExtractor create index: 2517388it [00:16, 159360.92it/s]"
     ]
    },
    {
     "name": "stderr",
     "output_type": "stream",
     "text": [
      "\rMorphologyExtractor create index: 2533353it [00:16, 155469.33it/s]"
     ]
    },
    {
     "name": "stderr",
     "output_type": "stream",
     "text": [
      "\rMorphologyExtractor create index: 2549194it [00:16, 156338.17it/s]"
     ]
    },
    {
     "name": "stderr",
     "output_type": "stream",
     "text": [
      "\rMorphologyExtractor create index: 2564858it [00:16, 153574.22it/s]"
     ]
    },
    {
     "name": "stderr",
     "output_type": "stream",
     "text": [
      "\rMorphologyExtractor create index: 2580248it [00:16, 153144.78it/s]"
     ]
    },
    {
     "name": "stderr",
     "output_type": "stream",
     "text": [
      "\rMorphologyExtractor create index: 2595586it [00:16, 153153.16it/s]"
     ]
    },
    {
     "name": "stderr",
     "output_type": "stream",
     "text": [
      "\rMorphologyExtractor create index: 2611993it [00:16, 156271.12it/s]"
     ]
    },
    {
     "name": "stderr",
     "output_type": "stream",
     "text": [
      "\rMorphologyExtractor create index: 2627647it [00:16, 155886.89it/s]"
     ]
    },
    {
     "name": "stderr",
     "output_type": "stream",
     "text": [
      "\rMorphologyExtractor create index: 2643551it [00:16, 156817.78it/s]"
     ]
    },
    {
     "name": "stderr",
     "output_type": "stream",
     "text": [
      "\rMorphologyExtractor create index: 2659248it [00:17, 156636.63it/s]"
     ]
    },
    {
     "name": "stderr",
     "output_type": "stream",
     "text": [
      "\rMorphologyExtractor create index: 2674922it [00:17, 156576.11it/s]"
     ]
    },
    {
     "name": "stderr",
     "output_type": "stream",
     "text": [
      "\rMorphologyExtractor create index: 2690587it [00:17, 155909.15it/s]"
     ]
    },
    {
     "name": "stderr",
     "output_type": "stream",
     "text": [
      "\rMorphologyExtractor create index: 2706184it [00:17, 155445.27it/s]"
     ]
    },
    {
     "name": "stderr",
     "output_type": "stream",
     "text": [
      "\rMorphologyExtractor create index: 2721733it [00:17, 152257.83it/s]"
     ]
    },
    {
     "name": "stderr",
     "output_type": "stream",
     "text": [
      "\rMorphologyExtractor create index: 2736997it [00:17, 152371.78it/s]"
     ]
    },
    {
     "name": "stderr",
     "output_type": "stream",
     "text": [
      "\rMorphologyExtractor create index: 2752835it [00:17, 154125.34it/s]"
     ]
    },
    {
     "name": "stderr",
     "output_type": "stream",
     "text": [
      "\rMorphologyExtractor create index: 2768261it [00:17, 150287.49it/s]"
     ]
    },
    {
     "name": "stderr",
     "output_type": "stream",
     "text": [
      "\rMorphologyExtractor create index: 2783321it [00:17, 143142.13it/s]"
     ]
    },
    {
     "name": "stderr",
     "output_type": "stream",
     "text": [
      "\rMorphologyExtractor create index: 2798060it [00:18, 144388.47it/s]"
     ]
    },
    {
     "name": "stderr",
     "output_type": "stream",
     "text": [
      "\rMorphologyExtractor create index: 2812567it [00:18, 139456.53it/s]"
     ]
    },
    {
     "name": "stderr",
     "output_type": "stream",
     "text": [
      "\rMorphologyExtractor create index: 2827296it [00:18, 141714.88it/s]"
     ]
    },
    {
     "name": "stderr",
     "output_type": "stream",
     "text": [
      "\rMorphologyExtractor create index: 2842860it [00:18, 145623.11it/s]"
     ]
    },
    {
     "name": "stderr",
     "output_type": "stream",
     "text": [
      "\rMorphologyExtractor create index: 2858212it [00:18, 147903.34it/s]"
     ]
    },
    {
     "name": "stderr",
     "output_type": "stream",
     "text": [
      "\rMorphologyExtractor create index: 2873744it [00:18, 150052.41it/s]"
     ]
    },
    {
     "name": "stderr",
     "output_type": "stream",
     "text": [
      "\rMorphologyExtractor create index: 2888961it [00:18, 150678.31it/s]"
     ]
    },
    {
     "name": "stderr",
     "output_type": "stream",
     "text": [
      "\rMorphologyExtractor create index: 2904379it [00:18, 151710.76it/s]"
     ]
    },
    {
     "name": "stderr",
     "output_type": "stream",
     "text": [
      "\rMorphologyExtractor create index: 2920626it [00:18, 154785.81it/s]"
     ]
    },
    {
     "name": "stderr",
     "output_type": "stream",
     "text": [
      "\rMorphologyExtractor create index: 2936660it [00:18, 156409.43it/s]"
     ]
    },
    {
     "name": "stderr",
     "output_type": "stream",
     "text": [
      "\rMorphologyExtractor create index: 2953197it [00:19, 158991.26it/s]"
     ]
    },
    {
     "name": "stderr",
     "output_type": "stream",
     "text": [
      "\rMorphologyExtractor create index: 2969126it [00:19, 157873.59it/s]"
     ]
    },
    {
     "name": "stderr",
     "output_type": "stream",
     "text": [
      "\rMorphologyExtractor create index: 2984937it [00:19, 157067.55it/s]"
     ]
    },
    {
     "name": "stderr",
     "output_type": "stream",
     "text": [
      "\rMorphologyExtractor create index: 3000663it [00:19, 157123.37it/s]"
     ]
    },
    {
     "name": "stderr",
     "output_type": "stream",
     "text": [
      "\rMorphologyExtractor create index: 3016538it [00:19, 157607.78it/s]"
     ]
    },
    {
     "name": "stderr",
     "output_type": "stream",
     "text": [
      "\rMorphologyExtractor create index: 3032495it [00:19, 158189.05it/s]"
     ]
    },
    {
     "name": "stderr",
     "output_type": "stream",
     "text": [
      "\rMorphologyExtractor create index: 3048592it [00:19, 159011.33it/s]"
     ]
    },
    {
     "name": "stderr",
     "output_type": "stream",
     "text": [
      "\rMorphologyExtractor create index: 3064716it [00:19, 159672.46it/s]"
     ]
    },
    {
     "name": "stderr",
     "output_type": "stream",
     "text": [
      "\rMorphologyExtractor create index: 3080827it [00:19, 160100.16it/s]"
     ]
    },
    {
     "name": "stderr",
     "output_type": "stream",
     "text": [
      "\rMorphologyExtractor create index: 3096841it [00:19, 156677.20it/s]"
     ]
    },
    {
     "name": "stderr",
     "output_type": "stream",
     "text": [
      "\rMorphologyExtractor create index: 3113114it [00:20, 158444.72it/s]"
     ]
    },
    {
     "name": "stderr",
     "output_type": "stream",
     "text": [
      "\rMorphologyExtractor create index: 3128977it [00:20, 157794.13it/s]"
     ]
    },
    {
     "name": "stderr",
     "output_type": "stream",
     "text": [
      "\rMorphologyExtractor create index: 3145317it [00:20, 159435.02it/s]"
     ]
    },
    {
     "name": "stderr",
     "output_type": "stream",
     "text": [
      "\rMorphologyExtractor create index: 3161333it [00:20, 159651.30it/s]"
     ]
    },
    {
     "name": "stderr",
     "output_type": "stream",
     "text": [
      "\rMorphologyExtractor create index: 3177894it [00:20, 161391.08it/s]"
     ]
    },
    {
     "name": "stderr",
     "output_type": "stream",
     "text": [
      "\rMorphologyExtractor create index: 3194597it [00:20, 163039.45it/s]"
     ]
    },
    {
     "name": "stderr",
     "output_type": "stream",
     "text": [
      "\rMorphologyExtractor create index: 3210913it [00:20, 162846.65it/s]"
     ]
    },
    {
     "name": "stderr",
     "output_type": "stream",
     "text": [
      "\rMorphologyExtractor create index: 3227464it [00:20, 163635.27it/s]"
     ]
    },
    {
     "name": "stderr",
     "output_type": "stream",
     "text": [
      "\rMorphologyExtractor create index: 3243835it [00:20, 162123.15it/s]"
     ]
    },
    {
     "name": "stderr",
     "output_type": "stream",
     "text": [
      "\rMorphologyExtractor create index: 3260056it [00:20, 160555.54it/s]"
     ]
    },
    {
     "name": "stderr",
     "output_type": "stream",
     "text": [
      "\rMorphologyExtractor create index: 3276121it [00:21, 159859.06it/s]"
     ]
    },
    {
     "name": "stderr",
     "output_type": "stream",
     "text": [
      "\rMorphologyExtractor create index: 3292114it [00:21, 156314.14it/s]"
     ]
    },
    {
     "name": "stderr",
     "output_type": "stream",
     "text": [
      "\rMorphologyExtractor create index: 3307768it [00:21, 156181.89it/s]"
     ]
    },
    {
     "name": "stderr",
     "output_type": "stream",
     "text": [
      "\rMorphologyExtractor create index: 3323402it [00:21, 155336.13it/s]"
     ]
    },
    {
     "name": "stderr",
     "output_type": "stream",
     "text": [
      "\rMorphologyExtractor create index: 3339967it [00:21, 158290.21it/s]"
     ]
    },
    {
     "name": "stderr",
     "output_type": "stream",
     "text": [
      "\rMorphologyExtractor create index: 3356646it [00:21, 160746.82it/s]"
     ]
    },
    {
     "name": "stderr",
     "output_type": "stream",
     "text": [
      "\rMorphologyExtractor create index: 3373283it [00:21, 162391.45it/s]"
     ]
    },
    {
     "name": "stderr",
     "output_type": "stream",
     "text": [
      "\rMorphologyExtractor create index: 3389544it [00:21, 162456.89it/s]"
     ]
    },
    {
     "name": "stderr",
     "output_type": "stream",
     "text": [
      "\rMorphologyExtractor create index: 3405844it [00:21, 162618.44it/s]"
     ]
    },
    {
     "name": "stderr",
     "output_type": "stream",
     "text": [
      "\rMorphologyExtractor create index: 3422117it [00:21, 160150.37it/s]"
     ]
    },
    {
     "name": "stderr",
     "output_type": "stream",
     "text": [
      "\rMorphologyExtractor create index: 3438409it [00:22, 160970.46it/s]"
     ]
    },
    {
     "name": "stderr",
     "output_type": "stream",
     "text": [
      "\rMorphologyExtractor create index: 3454519it [00:22, 160164.04it/s]"
     ]
    },
    {
     "name": "stderr",
     "output_type": "stream",
     "text": [
      "\rMorphologyExtractor create index: 3471259it [00:22, 162266.86it/s]"
     ]
    },
    {
     "name": "stderr",
     "output_type": "stream",
     "text": [
      "\rMorphologyExtractor create index: 3487722it [00:22, 162968.58it/s]"
     ]
    },
    {
     "name": "stderr",
     "output_type": "stream",
     "text": [
      "\rMorphologyExtractor create index: 3504305it [00:22, 163815.12it/s]"
     ]
    },
    {
     "name": "stderr",
     "output_type": "stream",
     "text": [
      "\rMorphologyExtractor create index: 3520695it [00:22, 162834.12it/s]"
     ]
    },
    {
     "name": "stderr",
     "output_type": "stream",
     "text": [
      "\rMorphologyExtractor create index: 3537373it [00:22, 163997.26it/s]"
     ]
    },
    {
     "name": "stderr",
     "output_type": "stream",
     "text": [
      "\rMorphologyExtractor create index: 3553780it [00:22, 163493.41it/s]"
     ]
    },
    {
     "name": "stderr",
     "output_type": "stream",
     "text": [
      "\rMorphologyExtractor create index: 3570336it [00:22, 164107.53it/s]"
     ]
    },
    {
     "name": "stderr",
     "output_type": "stream",
     "text": [
      "\rMorphologyExtractor create index: 3586751it [00:22, 162981.14it/s]"
     ]
    },
    {
     "name": "stderr",
     "output_type": "stream",
     "text": [
      "\rMorphologyExtractor create index: 3603570it [00:23, 164507.23it/s]"
     ]
    },
    {
     "name": "stderr",
     "output_type": "stream",
     "text": [
      "\rMorphologyExtractor create index: 3620028it [00:23, 163158.88it/s]"
     ]
    },
    {
     "name": "stderr",
     "output_type": "stream",
     "text": [
      "\rMorphologyExtractor create index: 3636352it [00:23, 162234.50it/s]"
     ]
    },
    {
     "name": "stderr",
     "output_type": "stream",
     "text": [
      "\rMorphologyExtractor create index: 3652598it [00:23, 162299.23it/s]"
     ]
    },
    {
     "name": "stderr",
     "output_type": "stream",
     "text": [
      "\rMorphologyExtractor create index: 3668833it [00:23, 161459.64it/s]"
     ]
    },
    {
     "name": "stderr",
     "output_type": "stream",
     "text": [
      "\rMorphologyExtractor create index: 3685184it [00:23, 162067.54it/s]"
     ]
    },
    {
     "name": "stderr",
     "output_type": "stream",
     "text": [
      "\rMorphologyExtractor create index: 3701860it [00:23, 163444.84it/s]"
     ]
    },
    {
     "name": "stderr",
     "output_type": "stream",
     "text": [
      "\rMorphologyExtractor create index: 3718210it [00:23, 162786.74it/s]"
     ]
    },
    {
     "name": "stderr",
     "output_type": "stream",
     "text": [
      "\rMorphologyExtractor create index: 3734686it [00:23, 163371.23it/s]"
     ]
    },
    {
     "name": "stderr",
     "output_type": "stream",
     "text": [
      "\rMorphologyExtractor create index: 3751527it [00:23, 164849.58it/s]"
     ]
    },
    {
     "name": "stderr",
     "output_type": "stream",
     "text": [
      "\rMorphologyExtractor create index: 3768207it [00:24, 165427.95it/s]"
     ]
    },
    {
     "name": "stderr",
     "output_type": "stream",
     "text": [
      "\rMorphologyExtractor create index: 3784755it [00:24, 164027.15it/s]"
     ]
    },
    {
     "name": "stderr",
     "output_type": "stream",
     "text": [
      "\rMorphologyExtractor create index: 3801815it [00:24, 165942.82it/s]"
     ]
    },
    {
     "name": "stderr",
     "output_type": "stream",
     "text": [
      "\rMorphologyExtractor create index: 3818419it [00:24, 164156.36it/s]"
     ]
    },
    {
     "name": "stderr",
     "output_type": "stream",
     "text": [
      "\rMorphologyExtractor create index: 3835457it [00:24, 165972.80it/s]"
     ]
    },
    {
     "name": "stderr",
     "output_type": "stream",
     "text": [
      "\rMorphologyExtractor create index: 3852216it [00:24, 166451.65it/s]"
     ]
    },
    {
     "name": "stderr",
     "output_type": "stream",
     "text": [
      "\rMorphologyExtractor create index: 3868933it [00:24, 166664.53it/s]"
     ]
    },
    {
     "name": "stderr",
     "output_type": "stream",
     "text": [
      "\rMorphologyExtractor create index: 3885606it [00:24, 165131.01it/s]"
     ]
    },
    {
     "name": "stderr",
     "output_type": "stream",
     "text": [
      "\rMorphologyExtractor create index: 3902127it [00:24, 164577.31it/s]"
     ]
    },
    {
     "name": "stderr",
     "output_type": "stream",
     "text": [
      "\rMorphologyExtractor create index: 3918591it [00:25, 163884.24it/s]"
     ]
    },
    {
     "name": "stderr",
     "output_type": "stream",
     "text": [
      "\rMorphologyExtractor create index: 3934985it [00:25, 162229.91it/s]"
     ]
    },
    {
     "name": "stderr",
     "output_type": "stream",
     "text": [
      "\rMorphologyExtractor create index: 3951216it [00:25, 160365.26it/s]"
     ]
    },
    {
     "name": "stderr",
     "output_type": "stream",
     "text": [
      "\rMorphologyExtractor create index: 3967937it [00:25, 162358.59it/s]"
     ]
    },
    {
     "name": "stderr",
     "output_type": "stream",
     "text": [
      "\rMorphologyExtractor create index: 3984186it [00:25, 160039.59it/s]"
     ]
    },
    {
     "name": "stderr",
     "output_type": "stream",
     "text": [
      "\rMorphologyExtractor create index: 4000932it [00:25, 162195.66it/s]"
     ]
    },
    {
     "name": "stderr",
     "output_type": "stream",
     "text": [
      "\rMorphologyExtractor create index: 4017860it [00:25, 164255.45it/s]"
     ]
    },
    {
     "name": "stderr",
     "output_type": "stream",
     "text": [
      "\rMorphologyExtractor create index: 4034305it [00:25, 164129.77it/s]"
     ]
    },
    {
     "name": "stderr",
     "output_type": "stream",
     "text": [
      "\rMorphologyExtractor create index: 4050732it [00:25, 163770.56it/s]"
     ]
    },
    {
     "name": "stderr",
     "output_type": "stream",
     "text": [
      "\rMorphologyExtractor create index: 4067510it [00:25, 164950.73it/s]"
     ]
    },
    {
     "name": "stderr",
     "output_type": "stream",
     "text": [
      "\rMorphologyExtractor create index: 4084014it [00:26, 164630.43it/s]"
     ]
    },
    {
     "name": "stderr",
     "output_type": "stream",
     "text": [
      "\rMorphologyExtractor create index: 4100484it [00:26, 163696.91it/s]"
     ]
    },
    {
     "name": "stderr",
     "output_type": "stream",
     "text": [
      "\rMorphologyExtractor create index: 4116860it [00:26, 162377.59it/s]"
     ]
    },
    {
     "name": "stderr",
     "output_type": "stream",
     "text": [
      "\rMorphologyExtractor create index: 4133105it [00:26, 158755.51it/s]"
     ]
    },
    {
     "name": "stderr",
     "output_type": "stream",
     "text": [
      "\rMorphologyExtractor create index: 4149003it [00:26, 151288.80it/s]"
     ]
    },
    {
     "name": "stderr",
     "output_type": "stream",
     "text": [
      "\rMorphologyExtractor create index: 4164222it [00:26, 110756.09it/s]"
     ]
    },
    {
     "name": "stderr",
     "output_type": "stream",
     "text": [
      "\rMorphologyExtractor create index: 4179745it [00:26, 121169.39it/s]"
     ]
    },
    {
     "name": "stderr",
     "output_type": "stream",
     "text": [
      "\rMorphologyExtractor create index: 4195711it [00:26, 130615.04it/s]"
     ]
    },
    {
     "name": "stderr",
     "output_type": "stream",
     "text": [
      "\rMorphologyExtractor create index: 4211408it [00:26, 137541.23it/s]"
     ]
    },
    {
     "name": "stderr",
     "output_type": "stream",
     "text": [
      "\rMorphologyExtractor create index: 4226107it [00:27, 126579.57it/s]"
     ]
    },
    {
     "name": "stderr",
     "output_type": "stream",
     "text": [
      "\rMorphologyExtractor create index: 4239773it [00:27, 129443.61it/s]"
     ]
    },
    {
     "name": "stderr",
     "output_type": "stream",
     "text": [
      "\rMorphologyExtractor create index: 4254953it [00:27, 135427.08it/s]"
     ]
    },
    {
     "name": "stderr",
     "output_type": "stream",
     "text": [
      "\rMorphologyExtractor create index: 4268988it [00:27, 132981.63it/s]"
     ]
    },
    {
     "name": "stderr",
     "output_type": "stream",
     "text": [
      "\rMorphologyExtractor create index: 4283581it [00:27, 136615.65it/s]"
     ]
    },
    {
     "name": "stderr",
     "output_type": "stream",
     "text": [
      "\rMorphologyExtractor create index: 4298795it [00:27, 140926.28it/s]"
     ]
    },
    {
     "name": "stderr",
     "output_type": "stream",
     "text": [
      "\rMorphologyExtractor create index: 4314713it [00:27, 145946.34it/s]"
     ]
    },
    {
     "name": "stderr",
     "output_type": "stream",
     "text": [
      "\rMorphologyExtractor create index: 4330957it [00:27, 150529.14it/s]"
     ]
    },
    {
     "name": "stderr",
     "output_type": "stream",
     "text": [
      "\rMorphologyExtractor create index: 4346189it [00:27, 148657.74it/s]"
     ]
    },
    {
     "name": "stderr",
     "output_type": "stream",
     "text": [
      "\rMorphologyExtractor create index: 4361428it [00:28, 149756.44it/s]"
     ]
    },
    {
     "name": "stderr",
     "output_type": "stream",
     "text": [
      "\rMorphologyExtractor create index: 4376497it [00:28, 147232.96it/s]"
     ]
    },
    {
     "name": "stderr",
     "output_type": "stream",
     "text": [
      "\rMorphologyExtractor create index: 4392334it [00:28, 150405.69it/s]"
     ]
    },
    {
     "name": "stderr",
     "output_type": "stream",
     "text": [
      "\rMorphologyExtractor create index: 4408357it [00:28, 153221.12it/s]"
     ]
    },
    {
     "name": "stderr",
     "output_type": "stream",
     "text": [
      "\rMorphologyExtractor create index: 4423866it [00:28, 153775.12it/s]"
     ]
    },
    {
     "name": "stderr",
     "output_type": "stream",
     "text": [
      "\rMorphologyExtractor create index: 4439287it [00:28, 149303.28it/s]"
     ]
    },
    {
     "name": "stderr",
     "output_type": "stream",
     "text": [
      "\rMorphologyExtractor create index: 4455251it [00:28, 152258.72it/s]"
     ]
    },
    {
     "name": "stderr",
     "output_type": "stream",
     "text": [
      "\rMorphologyExtractor create index: 4470533it [00:28, 150753.98it/s]"
     ]
    },
    {
     "name": "stderr",
     "output_type": "stream",
     "text": [
      "\rMorphologyExtractor create index: 4486346it [00:28, 152890.91it/s]"
     ]
    },
    {
     "name": "stderr",
     "output_type": "stream",
     "text": [
      "\rMorphologyExtractor create index: 4502735it [00:28, 156030.14it/s]"
     ]
    },
    {
     "name": "stderr",
     "output_type": "stream",
     "text": [
      "\rMorphologyExtractor create index: 4519363it [00:29, 158968.11it/s]"
     ]
    },
    {
     "name": "stderr",
     "output_type": "stream",
     "text": [
      "\rMorphologyExtractor create index: 4535386it [00:29, 159342.59it/s]"
     ]
    },
    {
     "name": "stderr",
     "output_type": "stream",
     "text": [
      "\rMorphologyExtractor create index: 4552412it [00:29, 162465.64it/s]"
     ]
    },
    {
     "name": "stderr",
     "output_type": "stream",
     "text": [
      "\rMorphologyExtractor create index: 4568974it [00:29, 163396.30it/s]"
     ]
    },
    {
     "name": "stderr",
     "output_type": "stream",
     "text": [
      "\rMorphologyExtractor create index: 4585618it [00:29, 164296.20it/s]"
     ]
    },
    {
     "name": "stderr",
     "output_type": "stream",
     "text": [
      "\rMorphologyExtractor create index: 4602068it [00:29, 164032.74it/s]"
     ]
    },
    {
     "name": "stderr",
     "output_type": "stream",
     "text": [
      "\rMorphologyExtractor create index: 4618839it [00:29, 165117.53it/s]"
     ]
    },
    {
     "name": "stderr",
     "output_type": "stream",
     "text": [
      "\rMorphologyExtractor create index: 4635775it [00:29, 166367.71it/s]"
     ]
    },
    {
     "name": "stderr",
     "output_type": "stream",
     "text": [
      "\rMorphologyExtractor create index: 4652423it [00:29, 165111.59it/s]"
     ]
    },
    {
     "name": "stderr",
     "output_type": "stream",
     "text": [
      "\rMorphologyExtractor create index: 4669260it [00:29, 166075.72it/s]"
     ]
    },
    {
     "name": "stderr",
     "output_type": "stream",
     "text": [
      "\rMorphologyExtractor create index: 4685876it [00:30, 165286.08it/s]"
     ]
    },
    {
     "name": "stderr",
     "output_type": "stream",
     "text": [
      "\rMorphologyExtractor create index: 4702411it [00:30, 161908.01it/s]"
     ]
    },
    {
     "name": "stderr",
     "output_type": "stream",
     "text": [
      "\rMorphologyExtractor create index: 4718622it [00:30, 161942.80it/s]"
     ]
    },
    {
     "name": "stderr",
     "output_type": "stream",
     "text": [
      "\rMorphologyExtractor create index: 4735353it [00:30, 163515.47it/s]"
     ]
    },
    {
     "name": "stderr",
     "output_type": "stream",
     "text": [
      "\rMorphologyExtractor create index: 4752161it [00:30, 164857.59it/s]"
     ]
    },
    {
     "name": "stderr",
     "output_type": "stream",
     "text": [
      "\rMorphologyExtractor create index: 4768702it [00:30, 165021.44it/s]"
     ]
    },
    {
     "name": "stderr",
     "output_type": "stream",
     "text": [
      "\rMorphologyExtractor create index: 4785213it [00:30, 163396.70it/s]"
     ]
    },
    {
     "name": "stderr",
     "output_type": "stream",
     "text": [
      "\rMorphologyExtractor create index: 4801563it [00:30, 161937.00it/s]"
     ]
    },
    {
     "name": "stderr",
     "output_type": "stream",
     "text": [
      "\rMorphologyExtractor create index: 4818236it [00:30, 163344.39it/s]"
     ]
    },
    {
     "name": "stderr",
     "output_type": "stream",
     "text": [
      "\rMorphologyExtractor create index: 4834581it [00:30, 163035.75it/s]"
     ]
    },
    {
     "name": "stderr",
     "output_type": "stream",
     "text": [
      "\rMorphologyExtractor create index: 4850892it [00:31, 160595.87it/s]"
     ]
    },
    {
     "name": "stderr",
     "output_type": "stream",
     "text": [
      "\rMorphologyExtractor create index: 4866965it [00:31, 153345.49it/s]"
     ]
    },
    {
     "name": "stderr",
     "output_type": "stream",
     "text": [
      "\rMorphologyExtractor create index: 4882378it [00:31, 141864.53it/s]"
     ]
    },
    {
     "name": "stderr",
     "output_type": "stream",
     "text": [
      "\rMorphologyExtractor create index: 4898022it [00:31, 145942.67it/s]"
     ]
    },
    {
     "name": "stderr",
     "output_type": "stream",
     "text": [
      "\rMorphologyExtractor create index: 4914776it [00:31, 151813.24it/s]"
     ]
    },
    {
     "name": "stderr",
     "output_type": "stream",
     "text": [
      "\rMorphologyExtractor create index: 4931796it [00:31, 156897.79it/s]"
     ]
    },
    {
     "name": "stderr",
     "output_type": "stream",
     "text": [
      "\rMorphologyExtractor create index: 4948009it [00:31, 158430.70it/s]"
     ]
    },
    {
     "name": "stderr",
     "output_type": "stream",
     "text": [
      "\rMorphologyExtractor create index: 4963980it [00:31, 158743.17it/s]"
     ]
    },
    {
     "name": "stderr",
     "output_type": "stream",
     "text": [
      "\rMorphologyExtractor create index: 4980694it [00:31, 161169.87it/s]"
     ]
    },
    {
     "name": "stderr",
     "output_type": "stream",
     "text": [
      "\rMorphologyExtractor create index: 4997691it [00:32, 163710.96it/s]"
     ]
    },
    {
     "name": "stderr",
     "output_type": "stream",
     "text": [
      "\rMorphologyExtractor create index: 5014122it [00:32, 148636.70it/s]"
     ]
    },
    {
     "name": "stderr",
     "output_type": "stream",
     "text": [
      "\rMorphologyExtractor create index: 5029295it [00:32, 138084.53it/s]"
     ]
    },
    {
     "name": "stderr",
     "output_type": "stream",
     "text": [
      "\rMorphologyExtractor create index: 5043470it [00:32, 126978.23it/s]"
     ]
    },
    {
     "name": "stderr",
     "output_type": "stream",
     "text": [
      "\rMorphologyExtractor create index: 5058663it [00:32, 133557.88it/s]"
     ]
    },
    {
     "name": "stderr",
     "output_type": "stream",
     "text": [
      "\rMorphologyExtractor create index: 5074934it [00:32, 141143.18it/s]"
     ]
    },
    {
     "name": "stderr",
     "output_type": "stream",
     "text": [
      "\rMorphologyExtractor create index: 5090926it [00:32, 146294.85it/s]"
     ]
    },
    {
     "name": "stderr",
     "output_type": "stream",
     "text": [
      "\rMorphologyExtractor create index: 5096053it [00:32, 155652.66it/s]"
     ]
    },
    {
     "name": "stderr",
     "output_type": "stream",
     "text": [
      "\n"
     ]
    },
    {
     "name": "stdout",
     "output_type": "stream",
     "text": [
      "[INFO] Compiling model...\n"
     ]
    },
    {
     "name": "stdout",
     "output_type": "stream",
     "text": [
      "[INFO] Compiling model...\n"
     ]
    }
   ],
   "source": [
    "import numpy as np\n",
    "from loaders.loading import load_train\n",
    "from sklearn.model_selection import train_test_split\n",
    "from pipeline import transform"
   ]
  },
  {
   "cell_type": "code",
   "execution_count": 3,
   "metadata": {
    "collapsed": true
   },
   "outputs": [
    {
     "name": "stdout",
     "output_type": "stream",
     "text": [
      "<class 'pandas.core.frame.DataFrame'>\nRangeIndex: 10574516 entries, 0 to 10574515\nData columns (total 7 columns):\nclass        object\nbefore       object\nafter        object\nprev_prev    object\nprev         object\nnext         object\nnext_next    object\ndtypes: object(7)\nmemory usage: 564.7+ MB\nNone\n"
     ]
    }
   ],
   "source": [
    "df = load_train(['class', 'before', 'after'], r'../input/norm_challenge_ru')\n",
    "df['prev_prev'] = df['before'].shift(2)\n",
    "df['prev'] = df['before'].shift(1)\n",
    "df['next'] = df['before'].shift(-1)\n",
    "df['next_next'] = df['before'].shift(-2)\n",
    "df = df.fillna('')\n",
    "print(df.info())"
   ]
  },
  {
   "cell_type": "code",
   "execution_count": 4,
   "metadata": {},
   "outputs": [],
   "source": [
    "x_train, x_test, y_train, y_test = train_test_split(df.drop(['after'], axis=1), df['after'], test_size=0.01, random_state=2017)\n",
    "x_test.drop(['class'], axis=1, inplace=True)"
   ]
  },
  {
   "cell_type": "code",
   "execution_count": 5,
   "metadata": {
    "collapsed": false
   },
   "outputs": [
    {
     "name": "stderr",
     "output_type": "stream",
     "text": [
      "\rDictClassTransformer_TRANS fit:   0%|          | 0/10468770 [00:00<?, ?it/s]"
     ]
    },
    {
     "name": "stderr",
     "output_type": "stream",
     "text": [
      "\rDictClassTransformer_TRANS fit:   0%|          | 14021/10468770 [00:01<23:47, 7321.74it/s]"
     ]
    },
    {
     "name": "stderr",
     "output_type": "stream",
     "text": [
      "\rDictClassTransformer_TRANS fit:   1%|          | 66242/10468770 [00:02<16:40, 10397.15it/s]"
     ]
    },
    {
     "name": "stderr",
     "output_type": "stream",
     "text": [
      "\rDictClassTransformer_TRANS fit:   1%|▏         | 135944/10468770 [00:02<11:40, 14758.71it/s]"
     ]
    },
    {
     "name": "stderr",
     "output_type": "stream",
     "text": [
      "\rDictClassTransformer_TRANS fit:   2%|▏         | 207741/10468770 [00:02<08:10, 20899.75it/s]"
     ]
    },
    {
     "name": "stderr",
     "output_type": "stream",
     "text": [
      "\rDictClassTransformer_TRANS fit:   3%|▎         | 279628/10468770 [00:03<06:24, 26508.78it/s]"
     ]
    },
    {
     "name": "stderr",
     "output_type": "stream",
     "text": [
      "\rDictClassTransformer_TRANS fit:   3%|▎         | 358712/10468770 [00:03<04:30, 37333.37it/s]"
     ]
    },
    {
     "name": "stderr",
     "output_type": "stream",
     "text": [
      "\rDictClassTransformer_TRANS fit:   4%|▍         | 436449/10468770 [00:03<03:11, 52257.79it/s]"
     ]
    },
    {
     "name": "stderr",
     "output_type": "stream",
     "text": [
      "\rDictClassTransformer_TRANS fit:   5%|▍         | 519997/10468770 [00:03<02:16, 72704.97it/s]"
     ]
    },
    {
     "name": "stderr",
     "output_type": "stream",
     "text": [
      "\rDictClassTransformer_TRANS fit:   6%|▌         | 610096/10468770 [00:03<01:38, 100392.30it/s]"
     ]
    },
    {
     "name": "stderr",
     "output_type": "stream",
     "text": [
      "\rDictClassTransformer_TRANS fit:   7%|▋         | 702934/10468770 [00:03<01:11, 137065.30it/s]"
     ]
    },
    {
     "name": "stderr",
     "output_type": "stream",
     "text": [
      "\rDictClassTransformer_TRANS fit:   8%|▊         | 796857/10468770 [00:03<00:52, 184282.00it/s]"
     ]
    },
    {
     "name": "stderr",
     "output_type": "stream",
     "text": [
      "\rDictClassTransformer_TRANS fit:   9%|▊         | 892346/10468770 [00:03<00:39, 243149.02it/s]"
     ]
    },
    {
     "name": "stderr",
     "output_type": "stream",
     "text": [
      "\rDictClassTransformer_TRANS fit:   9%|▉         | 986969/10468770 [00:04<00:30, 312896.66it/s]"
     ]
    },
    {
     "name": "stderr",
     "output_type": "stream",
     "text": [
      "\rDictClassTransformer_TRANS fit:  10%|█         | 1080339/10468770 [00:04<00:24, 390859.65it/s]"
     ]
    },
    {
     "name": "stderr",
     "output_type": "stream",
     "text": [
      "\rDictClassTransformer_TRANS fit:  11%|█         | 1175486/10468770 [00:04<00:19, 474782.13it/s]"
     ]
    },
    {
     "name": "stderr",
     "output_type": "stream",
     "text": [
      "\rDictClassTransformer_TRANS fit:  12%|█▏        | 1271143/10468770 [00:04<00:16, 559288.05it/s]"
     ]
    },
    {
     "name": "stderr",
     "output_type": "stream",
     "text": [
      "\rDictClassTransformer_TRANS fit:  13%|█▎        | 1364105/10468770 [00:04<00:14, 634141.95it/s]"
     ]
    },
    {
     "name": "stderr",
     "output_type": "stream",
     "text": [
      "\rDictClassTransformer_TRANS fit:  14%|█▍        | 1458879/10468770 [00:04<00:12, 704027.51it/s]"
     ]
    },
    {
     "name": "stderr",
     "output_type": "stream",
     "text": [
      "\rDictClassTransformer_TRANS fit:  15%|█▍        | 1559463/10468770 [00:04<00:11, 773670.41it/s]"
     ]
    },
    {
     "name": "stderr",
     "output_type": "stream",
     "text": [
      "\rDictClassTransformer_TRANS fit:  16%|█▌        | 1655810/10468770 [00:04<00:10, 822263.46it/s]"
     ]
    },
    {
     "name": "stderr",
     "output_type": "stream",
     "text": [
      "\rDictClassTransformer_TRANS fit:  17%|█▋        | 1752950/10468770 [00:04<00:10, 861962.02it/s]"
     ]
    },
    {
     "name": "stderr",
     "output_type": "stream",
     "text": [
      "\rDictClassTransformer_TRANS fit:  18%|█▊        | 1849402/10468770 [00:04<00:09, 890363.55it/s]"
     ]
    },
    {
     "name": "stderr",
     "output_type": "stream",
     "text": [
      "\rDictClassTransformer_TRANS fit:  19%|█▊        | 1947862/10468770 [00:05<00:09, 916682.22it/s]"
     ]
    },
    {
     "name": "stderr",
     "output_type": "stream",
     "text": [
      "\rDictClassTransformer_TRANS fit:  20%|█▉        | 2044783/10468770 [00:05<00:09, 929607.81it/s]"
     ]
    },
    {
     "name": "stderr",
     "output_type": "stream",
     "text": [
      "\rDictClassTransformer_TRANS fit:  20%|██        | 2144690/10468770 [00:05<00:08, 949407.70it/s]"
     ]
    },
    {
     "name": "stderr",
     "output_type": "stream",
     "text": [
      "\rDictClassTransformer_TRANS fit:  21%|██▏       | 2242339/10468770 [00:05<00:08, 953233.17it/s]"
     ]
    },
    {
     "name": "stderr",
     "output_type": "stream",
     "text": [
      "\rDictClassTransformer_TRANS fit:  22%|██▏       | 2341271/10468770 [00:05<00:08, 963757.17it/s]"
     ]
    },
    {
     "name": "stderr",
     "output_type": "stream",
     "text": [
      "\rDictClassTransformer_TRANS fit:  23%|██▎       | 2439004/10468770 [00:05<00:08, 961658.81it/s]"
     ]
    },
    {
     "name": "stderr",
     "output_type": "stream",
     "text": [
      "\rDictClassTransformer_TRANS fit:  24%|██▍       | 2540252/10468770 [00:05<00:08, 976358.18it/s]"
     ]
    },
    {
     "name": "stderr",
     "output_type": "stream",
     "text": [
      "\rDictClassTransformer_TRANS fit:  25%|██▌       | 2640510/10468770 [00:05<00:07, 984073.62it/s]"
     ]
    },
    {
     "name": "stderr",
     "output_type": "stream",
     "text": [
      "\rDictClassTransformer_TRANS fit:  26%|██▌       | 2739984/10468770 [00:05<00:07, 987249.02it/s]"
     ]
    },
    {
     "name": "stderr",
     "output_type": "stream",
     "text": [
      "\rDictClassTransformer_TRANS fit:  27%|██▋       | 2842088/10468770 [00:05<00:07, 997141.04it/s]"
     ]
    },
    {
     "name": "stderr",
     "output_type": "stream",
     "text": [
      "\rDictClassTransformer_TRANS fit:  28%|██▊       | 2942082/10468770 [00:06<00:07, 992265.95it/s]"
     ]
    },
    {
     "name": "stderr",
     "output_type": "stream",
     "text": [
      "\rDictClassTransformer_TRANS fit:  29%|██▉       | 3044814/10468770 [00:06<00:07, 1002525.17it/s]"
     ]
    },
    {
     "name": "stderr",
     "output_type": "stream",
     "text": [
      "\rDictClassTransformer_TRANS fit:  30%|███       | 3145233/10468770 [00:06<00:07, 979877.88it/s] "
     ]
    },
    {
     "name": "stderr",
     "output_type": "stream",
     "text": [
      "\rDictClassTransformer_TRANS fit:  31%|███       | 3243451/10468770 [00:06<00:07, 970734.85it/s]"
     ]
    },
    {
     "name": "stderr",
     "output_type": "stream",
     "text": [
      "\rDictClassTransformer_TRANS fit:  32%|███▏      | 3341693/10468770 [00:06<00:07, 974210.69it/s]"
     ]
    },
    {
     "name": "stderr",
     "output_type": "stream",
     "text": [
      "\rDictClassTransformer_TRANS fit:  33%|███▎      | 3439244/10468770 [00:06<00:07, 938767.85it/s]"
     ]
    },
    {
     "name": "stderr",
     "output_type": "stream",
     "text": [
      "\rDictClassTransformer_TRANS fit:  34%|███▍      | 3537661/10468770 [00:06<00:07, 951939.45it/s]"
     ]
    },
    {
     "name": "stderr",
     "output_type": "stream",
     "text": [
      "\rDictClassTransformer_TRANS fit:  35%|███▍      | 3637693/10468770 [00:06<00:07, 965952.59it/s]"
     ]
    },
    {
     "name": "stderr",
     "output_type": "stream",
     "text": [
      "\rDictClassTransformer_TRANS fit:  36%|███▌      | 3738274/10468770 [00:06<00:06, 977571.70it/s]"
     ]
    },
    {
     "name": "stderr",
     "output_type": "stream",
     "text": [
      "\rDictClassTransformer_TRANS fit:  37%|███▋      | 3836943/10468770 [00:06<00:06, 980286.24it/s]"
     ]
    },
    {
     "name": "stderr",
     "output_type": "stream",
     "text": [
      "\rDictClassTransformer_TRANS fit:  38%|███▊      | 3938209/10468770 [00:07<00:06, 989776.43it/s]"
     ]
    },
    {
     "name": "stderr",
     "output_type": "stream",
     "text": [
      "\rDictClassTransformer_TRANS fit:  39%|███▊      | 4038432/10468770 [00:07<00:06, 993479.46it/s]"
     ]
    },
    {
     "name": "stderr",
     "output_type": "stream",
     "text": [
      "\rDictClassTransformer_TRANS fit:  40%|███▉      | 4141475/10468770 [00:07<00:06, 1004280.82it/s]"
     ]
    },
    {
     "name": "stderr",
     "output_type": "stream",
     "text": [
      "\rDictClassTransformer_TRANS fit:  41%|████      | 4243263/10468770 [00:07<00:06, 1008321.84it/s]"
     ]
    },
    {
     "name": "stderr",
     "output_type": "stream",
     "text": [
      "\rDictClassTransformer_TRANS fit:  41%|████▏     | 4344165/10468770 [00:07<00:06, 994501.03it/s] "
     ]
    },
    {
     "name": "stderr",
     "output_type": "stream",
     "text": [
      "\rDictClassTransformer_TRANS fit:  42%|████▏     | 4444139/10468770 [00:07<00:06, 996060.84it/s]"
     ]
    },
    {
     "name": "stderr",
     "output_type": "stream",
     "text": [
      "\rDictClassTransformer_TRANS fit:  43%|████▎     | 4543810/10468770 [00:07<00:05, 992570.74it/s]"
     ]
    },
    {
     "name": "stderr",
     "output_type": "stream",
     "text": [
      "\rDictClassTransformer_TRANS fit:  44%|████▍     | 4644040/10468770 [00:07<00:05, 995467.08it/s]"
     ]
    },
    {
     "name": "stderr",
     "output_type": "stream",
     "text": [
      "\rDictClassTransformer_TRANS fit:  45%|████▌     | 4744846/10468770 [00:07<00:05, 999209.25it/s]"
     ]
    },
    {
     "name": "stderr",
     "output_type": "stream",
     "text": [
      "\rDictClassTransformer_TRANS fit:  46%|████▋     | 4844796/10468770 [00:07<00:05, 996954.76it/s]"
     ]
    },
    {
     "name": "stderr",
     "output_type": "stream",
     "text": [
      "\rDictClassTransformer_TRANS fit:  47%|████▋     | 4947608/10468770 [00:08<00:05, 1006101.59it/s]"
     ]
    },
    {
     "name": "stderr",
     "output_type": "stream",
     "text": [
      "\rDictClassTransformer_TRANS fit:  48%|████▊     | 5049922/10468770 [00:08<00:05, 1011150.65it/s]"
     ]
    },
    {
     "name": "stderr",
     "output_type": "stream",
     "text": [
      "\rDictClassTransformer_TRANS fit:  49%|████▉     | 5151068/10468770 [00:08<00:05, 1003947.45it/s]"
     ]
    },
    {
     "name": "stderr",
     "output_type": "stream",
     "text": [
      "\rDictClassTransformer_TRANS fit:  50%|█████     | 5252958/10468770 [00:08<00:05, 1008383.65it/s]"
     ]
    },
    {
     "name": "stderr",
     "output_type": "stream",
     "text": [
      "\rDictClassTransformer_TRANS fit:  51%|█████     | 5353825/10468770 [00:08<00:05, 1001533.33it/s]"
     ]
    },
    {
     "name": "stderr",
     "output_type": "stream",
     "text": [
      "\rDictClassTransformer_TRANS fit:  52%|█████▏    | 5454345/10468770 [00:08<00:05, 1002630.09it/s]"
     ]
    },
    {
     "name": "stderr",
     "output_type": "stream",
     "text": [
      "\rDictClassTransformer_TRANS fit:  53%|█████▎    | 5558155/10468770 [00:08<00:04, 1013011.37it/s]"
     ]
    },
    {
     "name": "stderr",
     "output_type": "stream",
     "text": [
      "\rDictClassTransformer_TRANS fit:  54%|█████▍    | 5660140/10468770 [00:08<00:04, 1015052.88it/s]"
     ]
    },
    {
     "name": "stderr",
     "output_type": "stream",
     "text": [
      "\rDictClassTransformer_TRANS fit:  55%|█████▌    | 5762458/10468770 [00:08<00:04, 1017474.82it/s]"
     ]
    },
    {
     "name": "stderr",
     "output_type": "stream",
     "text": [
      "\rDictClassTransformer_TRANS fit:  56%|█████▌    | 5864385/10468770 [00:08<00:04, 1018009.36it/s]"
     ]
    },
    {
     "name": "stderr",
     "output_type": "stream",
     "text": [
      "\rDictClassTransformer_TRANS fit:  57%|█████▋    | 5966825/10468770 [00:09<00:04, 1019917.73it/s]"
     ]
    },
    {
     "name": "stderr",
     "output_type": "stream",
     "text": [
      "\rDictClassTransformer_TRANS fit:  58%|█████▊    | 6068829/10468770 [00:09<00:04, 928472.59it/s] "
     ]
    },
    {
     "name": "stderr",
     "output_type": "stream",
     "text": [
      "\rDictClassTransformer_TRANS fit:  59%|█████▉    | 6165763/10468770 [00:09<00:04, 940363.35it/s]"
     ]
    },
    {
     "name": "stderr",
     "output_type": "stream",
     "text": [
      "\rDictClassTransformer_TRANS fit:  60%|█████▉    | 6265866/10468770 [00:09<00:04, 957760.83it/s]"
     ]
    },
    {
     "name": "stderr",
     "output_type": "stream",
     "text": [
      "\rDictClassTransformer_TRANS fit:  61%|██████    | 6365584/10468770 [00:09<00:04, 969252.99it/s]"
     ]
    },
    {
     "name": "stderr",
     "output_type": "stream",
     "text": [
      "\rDictClassTransformer_TRANS fit:  62%|██████▏   | 6463449/10468770 [00:09<00:04, 971519.84it/s]"
     ]
    },
    {
     "name": "stderr",
     "output_type": "stream",
     "text": [
      "\rDictClassTransformer_TRANS fit:  63%|██████▎   | 6567931/10468770 [00:09<00:03, 992406.36it/s]"
     ]
    },
    {
     "name": "stderr",
     "output_type": "stream",
     "text": [
      "\rDictClassTransformer_TRANS fit:  64%|██████▎   | 6669739/10468770 [00:09<00:03, 999969.63it/s]"
     ]
    },
    {
     "name": "stderr",
     "output_type": "stream",
     "text": [
      "\rDictClassTransformer_TRANS fit:  65%|██████▍   | 6771777/10468770 [00:09<00:03, 1006005.35it/s]"
     ]
    },
    {
     "name": "stderr",
     "output_type": "stream",
     "text": [
      "\rDictClassTransformer_TRANS fit:  66%|██████▌   | 6872607/10468770 [00:10<00:03, 1001972.62it/s]"
     ]
    },
    {
     "name": "stderr",
     "output_type": "stream",
     "text": [
      "\rDictClassTransformer_TRANS fit:  67%|██████▋   | 6977951/10468770 [00:10<00:03, 1016874.40it/s]"
     ]
    },
    {
     "name": "stderr",
     "output_type": "stream",
     "text": [
      "\rDictClassTransformer_TRANS fit:  68%|██████▊   | 7079807/10468770 [00:10<00:03, 1011884.89it/s]"
     ]
    },
    {
     "name": "stderr",
     "output_type": "stream",
     "text": [
      "\rDictClassTransformer_TRANS fit:  69%|██████▊   | 7181120/10468770 [00:10<00:03, 1008956.02it/s]"
     ]
    },
    {
     "name": "stderr",
     "output_type": "stream",
     "text": [
      "\rDictClassTransformer_TRANS fit:  70%|██████▉   | 7282287/10468770 [00:10<00:03, 1009766.09it/s]"
     ]
    },
    {
     "name": "stderr",
     "output_type": "stream",
     "text": [
      "\rDictClassTransformer_TRANS fit:  71%|███████   | 7383326/10468770 [00:10<00:03, 1000232.23it/s]"
     ]
    },
    {
     "name": "stderr",
     "output_type": "stream",
     "text": [
      "\rDictClassTransformer_TRANS fit:  72%|███████▏  | 7485686/10468770 [00:10<00:02, 1007127.21it/s]"
     ]
    },
    {
     "name": "stderr",
     "output_type": "stream",
     "text": [
      "\rDictClassTransformer_TRANS fit:  72%|███████▏  | 7586455/10468770 [00:10<00:02, 1005829.21it/s]"
     ]
    },
    {
     "name": "stderr",
     "output_type": "stream",
     "text": [
      "\rDictClassTransformer_TRANS fit:  73%|███████▎  | 7687764/10468770 [00:10<00:02, 1007993.20it/s]"
     ]
    },
    {
     "name": "stderr",
     "output_type": "stream",
     "text": [
      "\rDictClassTransformer_TRANS fit:  74%|███████▍  | 7788593/10468770 [00:10<00:02, 1006608.29it/s]"
     ]
    },
    {
     "name": "stderr",
     "output_type": "stream",
     "text": [
      "\rDictClassTransformer_TRANS fit:  75%|███████▌  | 7889275/10468770 [00:11<00:02, 1002131.94it/s]"
     ]
    },
    {
     "name": "stderr",
     "output_type": "stream",
     "text": [
      "\rDictClassTransformer_TRANS fit:  76%|███████▋  | 7989508/10468770 [00:11<00:02, 998242.34it/s] "
     ]
    },
    {
     "name": "stderr",
     "output_type": "stream",
     "text": [
      "\rDictClassTransformer_TRANS fit:  77%|███████▋  | 8090549/10468770 [00:11<00:02, 1001859.20it/s]"
     ]
    },
    {
     "name": "stderr",
     "output_type": "stream",
     "text": [
      "\rDictClassTransformer_TRANS fit:  78%|███████▊  | 8190750/10468770 [00:11<00:02, 999783.24it/s] "
     ]
    },
    {
     "name": "stderr",
     "output_type": "stream",
     "text": [
      "\rDictClassTransformer_TRANS fit:  79%|███████▉  | 8291217/10468770 [00:11<00:02, 1001232.42it/s]"
     ]
    },
    {
     "name": "stderr",
     "output_type": "stream",
     "text": [
      "\rDictClassTransformer_TRANS fit:  80%|████████  | 8391539/10468770 [00:11<00:02, 1001827.44it/s]"
     ]
    },
    {
     "name": "stderr",
     "output_type": "stream",
     "text": [
      "\rDictClassTransformer_TRANS fit:  81%|████████  | 8493434/10468770 [00:11<00:01, 1006900.20it/s]"
     ]
    },
    {
     "name": "stderr",
     "output_type": "stream",
     "text": [
      "\rDictClassTransformer_TRANS fit:  82%|████████▏ | 8598319/10468770 [00:11<00:01, 1019125.97it/s]"
     ]
    },
    {
     "name": "stderr",
     "output_type": "stream",
     "text": [
      "\rDictClassTransformer_TRANS fit:  83%|████████▎ | 8700605/10468770 [00:11<00:01, 1020242.88it/s]"
     ]
    },
    {
     "name": "stderr",
     "output_type": "stream",
     "text": [
      "\rDictClassTransformer_TRANS fit:  84%|████████▍ | 8803371/10468770 [00:11<00:01, 1022453.40it/s]"
     ]
    },
    {
     "name": "stderr",
     "output_type": "stream",
     "text": [
      "\rDictClassTransformer_TRANS fit:  85%|████████▌ | 8905639/10468770 [00:12<00:01, 1019201.63it/s]"
     ]
    },
    {
     "name": "stderr",
     "output_type": "stream",
     "text": [
      "\rDictClassTransformer_TRANS fit:  86%|████████▌ | 9007578/10468770 [00:12<00:01, 1015966.28it/s]"
     ]
    },
    {
     "name": "stderr",
     "output_type": "stream",
     "text": [
      "\rDictClassTransformer_TRANS fit:  87%|████████▋ | 9112950/10468770 [00:12<00:01, 1027002.67it/s]"
     ]
    },
    {
     "name": "stderr",
     "output_type": "stream",
     "text": [
      "\rDictClassTransformer_TRANS fit:  88%|████████▊ | 9218972/10468770 [00:12<00:01, 1036746.81it/s]"
     ]
    },
    {
     "name": "stderr",
     "output_type": "stream",
     "text": [
      "\rDictClassTransformer_TRANS fit:  89%|████████▉ | 9322697/10468770 [00:12<00:01, 1019813.33it/s]"
     ]
    },
    {
     "name": "stderr",
     "output_type": "stream",
     "text": [
      "\rDictClassTransformer_TRANS fit:  90%|█████████ | 9424776/10468770 [00:12<00:01, 1015245.86it/s]"
     ]
    },
    {
     "name": "stderr",
     "output_type": "stream",
     "text": [
      "\rDictClassTransformer_TRANS fit:  91%|█████████ | 9526374/10468770 [00:12<00:00, 1011302.67it/s]"
     ]
    },
    {
     "name": "stderr",
     "output_type": "stream",
     "text": [
      "\rDictClassTransformer_TRANS fit:  92%|█████████▏| 9627559/10468770 [00:12<00:00, 997907.95it/s] "
     ]
    },
    {
     "name": "stderr",
     "output_type": "stream",
     "text": [
      "\rDictClassTransformer_TRANS fit:  93%|█████████▎| 9727428/10468770 [00:12<00:00, 997849.54it/s]"
     ]
    },
    {
     "name": "stderr",
     "output_type": "stream",
     "text": [
      "\rDictClassTransformer_TRANS fit:  94%|█████████▍| 9829718/10468770 [00:12<00:00, 1005229.53it/s]"
     ]
    },
    {
     "name": "stderr",
     "output_type": "stream",
     "text": [
      "\rDictClassTransformer_TRANS fit:  95%|█████████▍| 9930293/10468770 [00:13<00:00, 1003258.31it/s]"
     ]
    },
    {
     "name": "stderr",
     "output_type": "stream",
     "text": [
      "\rDictClassTransformer_TRANS fit:  96%|█████████▌| 10035267/10468770 [00:13<00:00, 1016758.72it/s]"
     ]
    },
    {
     "name": "stderr",
     "output_type": "stream",
     "text": [
      "\rDictClassTransformer_TRANS fit:  97%|█████████▋| 10141159/10468770 [00:13<00:00, 1029047.03it/s]"
     ]
    },
    {
     "name": "stderr",
     "output_type": "stream",
     "text": [
      "\rDictClassTransformer_TRANS fit:  98%|█████████▊| 10246298/10468770 [00:13<00:00, 1035646.95it/s]"
     ]
    },
    {
     "name": "stderr",
     "output_type": "stream",
     "text": [
      "\rDictClassTransformer_TRANS fit:  99%|█████████▉| 10349932/10468770 [00:13<00:00, 1026888.23it/s]"
     ]
    },
    {
     "name": "stderr",
     "output_type": "stream",
     "text": [
      "\rDictClassTransformer_TRANS fit: 100%|█████████▉| 10452687/10468770 [00:13<00:00, 1025703.21it/s]"
     ]
    },
    {
     "name": "stderr",
     "output_type": "stream",
     "text": [
      "\rDictClassTransformer_TRANS fit: 100%|██████████| 10468770/10468770 [00:13<00:00, 761275.33it/s] "
     ]
    },
    {
     "name": "stderr",
     "output_type": "stream",
     "text": [
      "\n\rDictClassTransformer_PUNCT fit:   0%|          | 0/10468770 [00:00<?, ?it/s]"
     ]
    },
    {
     "name": "stderr",
     "output_type": "stream",
     "text": [
      "\rDictClassTransformer_PUNCT fit:   1%|          | 85930/10468770 [00:00<00:12, 859292.62it/s]"
     ]
    },
    {
     "name": "stderr",
     "output_type": "stream",
     "text": [
      "\rDictClassTransformer_PUNCT fit:   2%|▏         | 176727/10468770 [00:00<00:11, 873338.49it/s]"
     ]
    },
    {
     "name": "stderr",
     "output_type": "stream",
     "text": [
      "\rDictClassTransformer_PUNCT fit:   3%|▎         | 272492/10468770 [00:00<00:11, 897028.71it/s]"
     ]
    },
    {
     "name": "stderr",
     "output_type": "stream",
     "text": [
      "\rDictClassTransformer_PUNCT fit:   4%|▎         | 370070/10468770 [00:00<00:10, 919285.91it/s]"
     ]
    },
    {
     "name": "stderr",
     "output_type": "stream",
     "text": [
      "\rDictClassTransformer_PUNCT fit:   4%|▍         | 467414/10468770 [00:00<00:10, 934886.42it/s]"
     ]
    },
    {
     "name": "stderr",
     "output_type": "stream",
     "text": [
      "\rDictClassTransformer_PUNCT fit:   5%|▌         | 568651/10468770 [00:00<00:10, 956851.29it/s]"
     ]
    },
    {
     "name": "stderr",
     "output_type": "stream",
     "text": [
      "\rDictClassTransformer_PUNCT fit:   6%|▋         | 672211/10468770 [00:00<00:10, 979186.65it/s]"
     ]
    },
    {
     "name": "stderr",
     "output_type": "stream",
     "text": [
      "\rDictClassTransformer_PUNCT fit:   7%|▋         | 777532/10468770 [00:00<00:09, 1000277.16it/s]"
     ]
    },
    {
     "name": "stderr",
     "output_type": "stream",
     "text": [
      "\rDictClassTransformer_PUNCT fit:   8%|▊         | 880739/10468770 [00:00<00:09, 1009601.35it/s]"
     ]
    },
    {
     "name": "stderr",
     "output_type": "stream",
     "text": [
      "\rDictClassTransformer_PUNCT fit:   9%|▉         | 990329/10468770 [00:01<00:09, 1034026.80it/s]"
     ]
    },
    {
     "name": "stderr",
     "output_type": "stream",
     "text": [
      "\rDictClassTransformer_PUNCT fit:  10%|█         | 1098252/10468770 [00:01<00:08, 1047184.66it/s]"
     ]
    },
    {
     "name": "stderr",
     "output_type": "stream",
     "text": [
      "\rDictClassTransformer_PUNCT fit:  12%|█▏        | 1208718/10468770 [00:01<00:08, 1063785.95it/s]"
     ]
    },
    {
     "name": "stderr",
     "output_type": "stream",
     "text": [
      "\rDictClassTransformer_PUNCT fit:  13%|█▎        | 1314163/10468770 [00:01<00:08, 1058537.23it/s]"
     ]
    },
    {
     "name": "stderr",
     "output_type": "stream",
     "text": [
      "\rDictClassTransformer_PUNCT fit:  14%|█▎        | 1422299/10468770 [00:01<00:08, 1065275.81it/s]"
     ]
    },
    {
     "name": "stderr",
     "output_type": "stream",
     "text": [
      "\rDictClassTransformer_PUNCT fit:  15%|█▍        | 1531967/10468770 [00:01<00:08, 1074503.87it/s]"
     ]
    },
    {
     "name": "stderr",
     "output_type": "stream",
     "text": [
      "\rDictClassTransformer_PUNCT fit:  16%|█▌        | 1641825/10468770 [00:01<00:08, 1081614.71it/s]"
     ]
    },
    {
     "name": "stderr",
     "output_type": "stream",
     "text": [
      "\rDictClassTransformer_PUNCT fit:  17%|█▋        | 1749794/10468770 [00:01<00:08, 1067144.65it/s]"
     ]
    },
    {
     "name": "stderr",
     "output_type": "stream",
     "text": [
      "\rDictClassTransformer_PUNCT fit:  18%|█▊        | 1858983/10468770 [00:01<00:08, 1074447.72it/s]"
     ]
    },
    {
     "name": "stderr",
     "output_type": "stream",
     "text": [
      "\rDictClassTransformer_PUNCT fit:  19%|█▉        | 1966376/10468770 [00:01<00:07, 1074133.57it/s]"
     ]
    },
    {
     "name": "stderr",
     "output_type": "stream",
     "text": [
      "\rDictClassTransformer_PUNCT fit:  20%|█▉        | 2075759/10468770 [00:02<00:07, 1079967.16it/s]"
     ]
    },
    {
     "name": "stderr",
     "output_type": "stream",
     "text": [
      "\rDictClassTransformer_PUNCT fit:  21%|██        | 2183738/10468770 [00:02<00:07, 1074466.43it/s]"
     ]
    },
    {
     "name": "stderr",
     "output_type": "stream",
     "text": [
      "\rDictClassTransformer_PUNCT fit:  22%|██▏       | 2295569/10468770 [00:02<00:07, 1087253.78it/s]"
     ]
    },
    {
     "name": "stderr",
     "output_type": "stream",
     "text": [
      "\rDictClassTransformer_PUNCT fit:  23%|██▎       | 2408522/10468770 [00:02<00:07, 1099597.83it/s]"
     ]
    },
    {
     "name": "stderr",
     "output_type": "stream",
     "text": [
      "\rDictClassTransformer_PUNCT fit:  24%|██▍       | 2518538/10468770 [00:02<00:07, 1086295.63it/s]"
     ]
    },
    {
     "name": "stderr",
     "output_type": "stream",
     "text": [
      "\rDictClassTransformer_PUNCT fit:  25%|██▌       | 2628434/10468770 [00:02<00:07, 1090061.40it/s]"
     ]
    },
    {
     "name": "stderr",
     "output_type": "stream",
     "text": [
      "\rDictClassTransformer_PUNCT fit:  26%|██▌       | 2741519/10468770 [00:02<00:07, 1101982.11it/s]"
     ]
    },
    {
     "name": "stderr",
     "output_type": "stream",
     "text": [
      "\rDictClassTransformer_PUNCT fit:  27%|██▋       | 2852025/10468770 [00:02<00:06, 1102900.06it/s]"
     ]
    },
    {
     "name": "stderr",
     "output_type": "stream",
     "text": [
      "\rDictClassTransformer_PUNCT fit:  28%|██▊       | 2962365/10468770 [00:02<00:06, 1101217.23it/s]"
     ]
    },
    {
     "name": "stderr",
     "output_type": "stream",
     "text": [
      "\rDictClassTransformer_PUNCT fit:  29%|██▉       | 3072523/10468770 [00:02<00:06, 1095477.74it/s]"
     ]
    },
    {
     "name": "stderr",
     "output_type": "stream",
     "text": [
      "\rDictClassTransformer_PUNCT fit:  30%|███       | 3182103/10468770 [00:03<00:06, 1089821.62it/s]"
     ]
    },
    {
     "name": "stderr",
     "output_type": "stream",
     "text": [
      "\rDictClassTransformer_PUNCT fit:  31%|███▏      | 3292267/10468770 [00:03<00:06, 1093337.63it/s]"
     ]
    },
    {
     "name": "stderr",
     "output_type": "stream",
     "text": [
      "\rDictClassTransformer_PUNCT fit:  33%|███▎      | 3404286/10468770 [00:03<00:06, 1101256.72it/s]"
     ]
    },
    {
     "name": "stderr",
     "output_type": "stream",
     "text": [
      "\rDictClassTransformer_PUNCT fit:  34%|███▎      | 3514442/10468770 [00:03<00:06, 1099468.86it/s]"
     ]
    },
    {
     "name": "stderr",
     "output_type": "stream",
     "text": [
      "\rDictClassTransformer_PUNCT fit:  35%|███▍      | 3625487/10468770 [00:03<00:06, 1102736.73it/s]"
     ]
    },
    {
     "name": "stderr",
     "output_type": "stream",
     "text": [
      "\rDictClassTransformer_PUNCT fit:  36%|███▌      | 3735778/10468770 [00:03<00:06, 1102680.19it/s]"
     ]
    },
    {
     "name": "stderr",
     "output_type": "stream",
     "text": [
      "\rDictClassTransformer_PUNCT fit:  37%|███▋      | 3847739/10468770 [00:03<00:05, 1107702.31it/s]"
     ]
    },
    {
     "name": "stderr",
     "output_type": "stream",
     "text": [
      "\rDictClassTransformer_PUNCT fit:  38%|███▊      | 3958524/10468770 [00:03<00:05, 1101734.88it/s]"
     ]
    },
    {
     "name": "stderr",
     "output_type": "stream",
     "text": [
      "\rDictClassTransformer_PUNCT fit:  39%|███▉      | 4069238/10468770 [00:03<00:05, 1103350.39it/s]"
     ]
    },
    {
     "name": "stderr",
     "output_type": "stream",
     "text": [
      "\rDictClassTransformer_PUNCT fit:  40%|███▉      | 4181135/10468770 [00:03<00:05, 1107987.47it/s]"
     ]
    },
    {
     "name": "stderr",
     "output_type": "stream",
     "text": [
      "\rDictClassTransformer_PUNCT fit:  41%|████      | 4291948/10468770 [00:04<00:05, 1078810.93it/s]"
     ]
    },
    {
     "name": "stderr",
     "output_type": "stream",
     "text": [
      "\rDictClassTransformer_PUNCT fit:  42%|████▏     | 4402019/10468770 [00:04<00:05, 1085288.15it/s]"
     ]
    },
    {
     "name": "stderr",
     "output_type": "stream",
     "text": [
      "\rDictClassTransformer_PUNCT fit:  43%|████▎     | 4510682/10468770 [00:04<00:05, 1079638.63it/s]"
     ]
    },
    {
     "name": "stderr",
     "output_type": "stream",
     "text": [
      "\rDictClassTransformer_PUNCT fit:  44%|████▍     | 4618747/10468770 [00:04<00:05, 1076482.67it/s]"
     ]
    },
    {
     "name": "stderr",
     "output_type": "stream",
     "text": [
      "\rDictClassTransformer_PUNCT fit:  45%|████▌     | 4726468/10468770 [00:04<00:05, 1073989.16it/s]"
     ]
    },
    {
     "name": "stderr",
     "output_type": "stream",
     "text": [
      "\rDictClassTransformer_PUNCT fit:  46%|████▌     | 4840275/10468770 [00:04<00:05, 1092439.97it/s]"
     ]
    },
    {
     "name": "stderr",
     "output_type": "stream",
     "text": [
      "\rDictClassTransformer_PUNCT fit:  47%|████▋     | 4949633/10468770 [00:04<00:05, 1072077.96it/s]"
     ]
    },
    {
     "name": "stderr",
     "output_type": "stream",
     "text": [
      "\rDictClassTransformer_PUNCT fit:  48%|████▊     | 5057990/10468770 [00:04<00:05, 1075494.09it/s]"
     ]
    },
    {
     "name": "stderr",
     "output_type": "stream",
     "text": [
      "\rDictClassTransformer_PUNCT fit:  49%|████▉     | 5165658/10468770 [00:04<00:04, 1065276.17it/s]"
     ]
    },
    {
     "name": "stderr",
     "output_type": "stream",
     "text": [
      "\rDictClassTransformer_PUNCT fit:  50%|█████     | 5272713/10468770 [00:04<00:04, 1066850.11it/s]"
     ]
    },
    {
     "name": "stderr",
     "output_type": "stream",
     "text": [
      "\rDictClassTransformer_PUNCT fit:  51%|█████▏    | 5379472/10468770 [00:05<00:04, 1059731.78it/s]"
     ]
    },
    {
     "name": "stderr",
     "output_type": "stream",
     "text": [
      "\rDictClassTransformer_PUNCT fit:  52%|█████▏    | 5487974/10468770 [00:05<00:04, 1067193.15it/s]"
     ]
    },
    {
     "name": "stderr",
     "output_type": "stream",
     "text": [
      "\rDictClassTransformer_PUNCT fit:  53%|█████▎    | 5596291/10468770 [00:05<00:04, 1071933.01it/s]"
     ]
    },
    {
     "name": "stderr",
     "output_type": "stream",
     "text": [
      "\rDictClassTransformer_PUNCT fit:  54%|█████▍    | 5704136/10468770 [00:05<00:04, 1073877.07it/s]"
     ]
    },
    {
     "name": "stderr",
     "output_type": "stream",
     "text": [
      "\rDictClassTransformer_PUNCT fit:  56%|█████▌    | 5811556/10468770 [00:05<00:07, 645301.69it/s] "
     ]
    },
    {
     "name": "stderr",
     "output_type": "stream",
     "text": [
      "\rDictClassTransformer_PUNCT fit:  56%|█████▋    | 5913183/10468770 [00:05<00:06, 724656.42it/s]"
     ]
    },
    {
     "name": "stderr",
     "output_type": "stream",
     "text": [
      "\rDictClassTransformer_PUNCT fit:  57%|█████▋    | 6015385/10468770 [00:05<00:05, 793954.91it/s]"
     ]
    },
    {
     "name": "stderr",
     "output_type": "stream",
     "text": [
      "\rDictClassTransformer_PUNCT fit:  58%|█████▊    | 6121203/10468770 [00:05<00:05, 858235.22it/s]"
     ]
    },
    {
     "name": "stderr",
     "output_type": "stream",
     "text": [
      "\rDictClassTransformer_PUNCT fit:  60%|█████▉    | 6230285/10468770 [00:06<00:04, 916879.96it/s]"
     ]
    },
    {
     "name": "stderr",
     "output_type": "stream",
     "text": [
      "\rDictClassTransformer_PUNCT fit:  60%|██████    | 6333472/10468770 [00:06<00:04, 948590.65it/s]"
     ]
    },
    {
     "name": "stderr",
     "output_type": "stream",
     "text": [
      "\rDictClassTransformer_PUNCT fit:  61%|██████▏   | 6437974/10468770 [00:06<00:04, 975595.32it/s]"
     ]
    },
    {
     "name": "stderr",
     "output_type": "stream",
     "text": [
      "\rDictClassTransformer_PUNCT fit:  62%|██████▏   | 6541429/10468770 [00:06<00:03, 992563.53it/s]"
     ]
    },
    {
     "name": "stderr",
     "output_type": "stream",
     "text": [
      "\rDictClassTransformer_PUNCT fit:  63%|██████▎   | 6646547/10468770 [00:06<00:03, 1009449.97it/s]"
     ]
    },
    {
     "name": "stderr",
     "output_type": "stream",
     "text": [
      "\rDictClassTransformer_PUNCT fit:  65%|██████▍   | 6754141/10468770 [00:06<00:03, 1028494.89it/s]"
     ]
    },
    {
     "name": "stderr",
     "output_type": "stream",
     "text": [
      "\rDictClassTransformer_PUNCT fit:  66%|██████▌   | 6860454/10468770 [00:06<00:03, 1038643.52it/s]"
     ]
    },
    {
     "name": "stderr",
     "output_type": "stream",
     "text": [
      "\rDictClassTransformer_PUNCT fit:  67%|██████▋   | 6971066/10468770 [00:06<00:03, 1058004.05it/s]"
     ]
    },
    {
     "name": "stderr",
     "output_type": "stream",
     "text": [
      "\rDictClassTransformer_PUNCT fit:  68%|██████▊   | 7077878/10468770 [00:06<00:03, 1040296.67it/s]"
     ]
    },
    {
     "name": "stderr",
     "output_type": "stream",
     "text": [
      "\rDictClassTransformer_PUNCT fit:  69%|██████▊   | 7182906/10468770 [00:06<00:03, 1043268.28it/s]"
     ]
    },
    {
     "name": "stderr",
     "output_type": "stream",
     "text": [
      "\rDictClassTransformer_PUNCT fit:  70%|██████▉   | 7291658/10468770 [00:07<00:03, 1056157.61it/s]"
     ]
    },
    {
     "name": "stderr",
     "output_type": "stream",
     "text": [
      "\rDictClassTransformer_PUNCT fit:  71%|███████   | 7403078/10468770 [00:07<00:02, 1072921.89it/s]"
     ]
    },
    {
     "name": "stderr",
     "output_type": "stream",
     "text": [
      "\rDictClassTransformer_PUNCT fit:  72%|███████▏  | 7511765/10468770 [00:07<00:02, 1077065.84it/s]"
     ]
    },
    {
     "name": "stderr",
     "output_type": "stream",
     "text": [
      "\rDictClassTransformer_PUNCT fit:  73%|███████▎  | 7619726/10468770 [00:07<00:02, 1076337.85it/s]"
     ]
    },
    {
     "name": "stderr",
     "output_type": "stream",
     "text": [
      "\rDictClassTransformer_PUNCT fit:  74%|███████▍  | 7727971/10468770 [00:07<00:02, 1078163.77it/s]"
     ]
    },
    {
     "name": "stderr",
     "output_type": "stream",
     "text": [
      "\rDictClassTransformer_PUNCT fit:  75%|███████▍  | 7836544/10468770 [00:07<00:02, 1080419.78it/s]"
     ]
    },
    {
     "name": "stderr",
     "output_type": "stream",
     "text": [
      "\rDictClassTransformer_PUNCT fit:  76%|███████▌  | 7946935/10468770 [00:07<00:02, 1087357.68it/s]"
     ]
    },
    {
     "name": "stderr",
     "output_type": "stream",
     "text": [
      "\rDictClassTransformer_PUNCT fit:  77%|███████▋  | 8055744/10468770 [00:07<00:02, 1078877.97it/s]"
     ]
    },
    {
     "name": "stderr",
     "output_type": "stream",
     "text": [
      "\rDictClassTransformer_PUNCT fit:  78%|███████▊  | 8163698/10468770 [00:07<00:02, 1077729.16it/s]"
     ]
    },
    {
     "name": "stderr",
     "output_type": "stream",
     "text": [
      "\rDictClassTransformer_PUNCT fit:  79%|███████▉  | 8272247/10468770 [00:07<00:02, 1080045.28it/s]"
     ]
    },
    {
     "name": "stderr",
     "output_type": "stream",
     "text": [
      "\rDictClassTransformer_PUNCT fit:  80%|████████  | 8383507/10468770 [00:08<00:01, 1089606.37it/s]"
     ]
    },
    {
     "name": "stderr",
     "output_type": "stream",
     "text": [
      "\rDictClassTransformer_PUNCT fit:  81%|████████  | 8494824/10468770 [00:08<00:01, 1096567.26it/s]"
     ]
    },
    {
     "name": "stderr",
     "output_type": "stream",
     "text": [
      "\rDictClassTransformer_PUNCT fit:  82%|████████▏ | 8604522/10468770 [00:08<00:01, 1072416.72it/s]"
     ]
    },
    {
     "name": "stderr",
     "output_type": "stream",
     "text": [
      "\rDictClassTransformer_PUNCT fit:  83%|████████▎ | 8712707/10468770 [00:08<00:01, 1075225.87it/s]"
     ]
    },
    {
     "name": "stderr",
     "output_type": "stream",
     "text": [
      "\rDictClassTransformer_PUNCT fit:  84%|████████▍ | 8821119/10468770 [00:08<00:01, 1077875.99it/s]"
     ]
    },
    {
     "name": "stderr",
     "output_type": "stream",
     "text": [
      "\rDictClassTransformer_PUNCT fit:  85%|████████▌ | 8928982/10468770 [00:08<00:01, 1071659.19it/s]"
     ]
    },
    {
     "name": "stderr",
     "output_type": "stream",
     "text": [
      "\rDictClassTransformer_PUNCT fit:  86%|████████▋ | 9038427/10468770 [00:08<00:01, 1078393.40it/s]"
     ]
    },
    {
     "name": "stderr",
     "output_type": "stream",
     "text": [
      "\rDictClassTransformer_PUNCT fit:  87%|████████▋ | 9148914/10468770 [00:08<00:01, 1086201.72it/s]"
     ]
    },
    {
     "name": "stderr",
     "output_type": "stream",
     "text": [
      "\rDictClassTransformer_PUNCT fit:  88%|████████▊ | 9257585/10468770 [00:08<00:01, 1070823.77it/s]"
     ]
    },
    {
     "name": "stderr",
     "output_type": "stream",
     "text": [
      "\rDictClassTransformer_PUNCT fit:  89%|████████▉ | 9364752/10468770 [00:08<00:01, 1067565.74it/s]"
     ]
    },
    {
     "name": "stderr",
     "output_type": "stream",
     "text": [
      "\rDictClassTransformer_PUNCT fit:  90%|█████████ | 9471570/10468770 [00:09<00:00, 1051811.37it/s]"
     ]
    },
    {
     "name": "stderr",
     "output_type": "stream",
     "text": [
      "\rDictClassTransformer_PUNCT fit:  92%|█████████▏| 9582589/10468770 [00:09<00:00, 1068666.58it/s]"
     ]
    },
    {
     "name": "stderr",
     "output_type": "stream",
     "text": [
      "\rDictClassTransformer_PUNCT fit:  93%|█████████▎| 9689588/10468770 [00:09<00:00, 1060081.03it/s]"
     ]
    },
    {
     "name": "stderr",
     "output_type": "stream",
     "text": [
      "\rDictClassTransformer_PUNCT fit:  94%|█████████▎| 9800181/10468770 [00:09<00:00, 1073428.85it/s]"
     ]
    },
    {
     "name": "stderr",
     "output_type": "stream",
     "text": [
      "\rDictClassTransformer_PUNCT fit:  95%|█████████▍| 9910457/10468770 [00:09<00:00, 1082062.59it/s]"
     ]
    },
    {
     "name": "stderr",
     "output_type": "stream",
     "text": [
      "\rDictClassTransformer_PUNCT fit:  96%|█████████▌| 10018762/10468770 [00:09<00:00, 1073440.67it/s]"
     ]
    },
    {
     "name": "stderr",
     "output_type": "stream",
     "text": [
      "\rDictClassTransformer_PUNCT fit:  97%|█████████▋| 10126191/10468770 [00:09<00:00, 1005609.98it/s]"
     ]
    },
    {
     "name": "stderr",
     "output_type": "stream",
     "text": [
      "\rDictClassTransformer_PUNCT fit:  98%|█████████▊| 10233718/10468770 [00:09<00:00, 1025538.99it/s]"
     ]
    },
    {
     "name": "stderr",
     "output_type": "stream",
     "text": [
      "\rDictClassTransformer_PUNCT fit:  99%|█████████▉| 10340871/10468770 [00:09<00:00, 1038915.92it/s]"
     ]
    },
    {
     "name": "stderr",
     "output_type": "stream",
     "text": [
      "\rDictClassTransformer_PUNCT fit: 100%|█████████▉| 10449025/10468770 [00:10<00:00, 1051339.87it/s]"
     ]
    },
    {
     "name": "stderr",
     "output_type": "stream",
     "text": [
      "\rDictClassTransformer_PUNCT fit: 100%|██████████| 10468770/10468770 [00:10<00:00, 1022482.13it/s]"
     ]
    },
    {
     "name": "stderr",
     "output_type": "stream",
     "text": [
      "\n"
     ]
    },
    {
     "name": "stderr",
     "output_type": "stream",
     "text": [
      "\rDictClassTransformer_VERBATIM fit:   0%|          | 0/10468770 [00:00<?, ?it/s]"
     ]
    },
    {
     "name": "stderr",
     "output_type": "stream",
     "text": [
      "\rDictClassTransformer_VERBATIM fit:   1%|          | 99820/10468770 [00:00<00:10, 998193.81it/s]"
     ]
    },
    {
     "name": "stderr",
     "output_type": "stream",
     "text": [
      "\rDictClassTransformer_VERBATIM fit:   2%|▏         | 199818/10468770 [00:00<00:10, 998728.57it/s]"
     ]
    },
    {
     "name": "stderr",
     "output_type": "stream",
     "text": [
      "\rDictClassTransformer_VERBATIM fit:   3%|▎         | 304893/10468770 [00:01<00:51, 196420.05it/s]"
     ]
    },
    {
     "name": "stderr",
     "output_type": "stream",
     "text": [
      "\rDictClassTransformer_VERBATIM fit:   4%|▍         | 405057/10468770 [00:01<00:38, 258845.87it/s]"
     ]
    },
    {
     "name": "stderr",
     "output_type": "stream",
     "text": [
      "\rDictClassTransformer_VERBATIM fit:   5%|▍         | 515022/10468770 [00:01<00:29, 335894.06it/s]"
     ]
    },
    {
     "name": "stderr",
     "output_type": "stream",
     "text": [
      "\rDictClassTransformer_VERBATIM fit:   6%|▌         | 632650/10468770 [00:02<00:23, 427526.49it/s]"
     ]
    },
    {
     "name": "stderr",
     "output_type": "stream",
     "text": [
      "\rDictClassTransformer_VERBATIM fit:   7%|▋         | 749889/10468770 [00:02<00:18, 528201.98it/s]"
     ]
    },
    {
     "name": "stderr",
     "output_type": "stream",
     "text": [
      "\rDictClassTransformer_VERBATIM fit:   8%|▊         | 868926/10468770 [00:02<00:15, 634005.47it/s]"
     ]
    },
    {
     "name": "stderr",
     "output_type": "stream",
     "text": [
      "\rDictClassTransformer_VERBATIM fit:   9%|▉         | 991437/10468770 [00:02<00:12, 741306.60it/s]"
     ]
    },
    {
     "name": "stderr",
     "output_type": "stream",
     "text": [
      "\rDictClassTransformer_VERBATIM fit:  11%|█         | 1111625/10468770 [00:02<00:11, 837588.68it/s]"
     ]
    },
    {
     "name": "stderr",
     "output_type": "stream",
     "text": [
      "\rDictClassTransformer_VERBATIM fit:  12%|█▏        | 1237275/10468770 [00:02<00:09, 930671.57it/s]"
     ]
    },
    {
     "name": "stderr",
     "output_type": "stream",
     "text": [
      "\rDictClassTransformer_VERBATIM fit:  13%|█▎        | 1365261/10468770 [00:02<00:08, 1013637.47it/s]"
     ]
    },
    {
     "name": "stderr",
     "output_type": "stream",
     "text": [
      "\rDictClassTransformer_VERBATIM fit:  14%|█▍        | 1490265/10468770 [00:02<00:08, 1074603.24it/s]"
     ]
    },
    {
     "name": "stderr",
     "output_type": "stream",
     "text": [
      "\rDictClassTransformer_VERBATIM fit:  15%|█▌        | 1618622/10468770 [00:02<00:07, 1129781.79it/s]"
     ]
    },
    {
     "name": "stderr",
     "output_type": "stream",
     "text": [
      "\rDictClassTransformer_VERBATIM fit:  17%|█▋        | 1743758/10468770 [00:02<00:07, 1163697.44it/s]"
     ]
    },
    {
     "name": "stderr",
     "output_type": "stream",
     "text": [
      "\rDictClassTransformer_VERBATIM fit:  18%|█▊        | 1870962/10468770 [00:03<00:07, 1194211.08it/s]"
     ]
    },
    {
     "name": "stderr",
     "output_type": "stream",
     "text": [
      "\rDictClassTransformer_VERBATIM fit:  19%|█▉        | 2002321/10468770 [00:03<00:06, 1227679.63it/s]"
     ]
    },
    {
     "name": "stderr",
     "output_type": "stream",
     "text": [
      "\rDictClassTransformer_VERBATIM fit:  20%|██        | 2132636/10468770 [00:03<00:06, 1249386.13it/s]"
     ]
    },
    {
     "name": "stderr",
     "output_type": "stream",
     "text": [
      "\rDictClassTransformer_VERBATIM fit:  22%|██▏       | 2263800/10468770 [00:03<00:06, 1267428.81it/s]"
     ]
    },
    {
     "name": "stderr",
     "output_type": "stream",
     "text": [
      "\rDictClassTransformer_VERBATIM fit:  23%|██▎       | 2398337/10468770 [00:03<00:06, 1289842.98it/s]"
     ]
    },
    {
     "name": "stderr",
     "output_type": "stream",
     "text": [
      "\rDictClassTransformer_VERBATIM fit:  24%|██▍       | 2528904/10468770 [00:03<00:06, 1286407.15it/s]"
     ]
    },
    {
     "name": "stderr",
     "output_type": "stream",
     "text": [
      "\rDictClassTransformer_VERBATIM fit:  25%|██▌       | 2661823/10468770 [00:03<00:06, 1298945.82it/s]"
     ]
    },
    {
     "name": "stderr",
     "output_type": "stream",
     "text": [
      "\rDictClassTransformer_VERBATIM fit:  27%|██▋       | 2796053/10468770 [00:03<00:05, 1311651.84it/s]"
     ]
    },
    {
     "name": "stderr",
     "output_type": "stream",
     "text": [
      "\rDictClassTransformer_VERBATIM fit:  28%|██▊       | 2927944/10468770 [00:03<00:05, 1313820.33it/s]"
     ]
    },
    {
     "name": "stderr",
     "output_type": "stream",
     "text": [
      "\rDictClassTransformer_VERBATIM fit:  29%|██▉       | 3059743/10468770 [00:03<00:05, 1299801.89it/s]"
     ]
    },
    {
     "name": "stderr",
     "output_type": "stream",
     "text": [
      "\rDictClassTransformer_VERBATIM fit:  30%|███       | 3190049/10468770 [00:04<00:05, 1281799.30it/s]"
     ]
    },
    {
     "name": "stderr",
     "output_type": "stream",
     "text": [
      "\rDictClassTransformer_VERBATIM fit:  32%|███▏      | 3318514/10468770 [00:04<00:05, 1260698.34it/s]"
     ]
    },
    {
     "name": "stderr",
     "output_type": "stream",
     "text": [
      "\rDictClassTransformer_VERBATIM fit:  33%|███▎      | 3444861/10468770 [00:04<00:05, 1245592.65it/s]"
     ]
    },
    {
     "name": "stderr",
     "output_type": "stream",
     "text": [
      "\rDictClassTransformer_VERBATIM fit:  34%|███▍      | 3569656/10468770 [00:04<00:05, 1239166.75it/s]"
     ]
    },
    {
     "name": "stderr",
     "output_type": "stream",
     "text": [
      "\rDictClassTransformer_VERBATIM fit:  35%|███▌      | 3694946/10468770 [00:04<00:05, 1243254.48it/s]"
     ]
    },
    {
     "name": "stderr",
     "output_type": "stream",
     "text": [
      "\rDictClassTransformer_VERBATIM fit:  37%|███▋      | 3823562/10468770 [00:04<00:05, 1255819.37it/s]"
     ]
    },
    {
     "name": "stderr",
     "output_type": "stream",
     "text": [
      "\rDictClassTransformer_VERBATIM fit:  38%|███▊      | 3952019/10468770 [00:04<00:05, 1264304.42it/s]"
     ]
    },
    {
     "name": "stderr",
     "output_type": "stream",
     "text": [
      "\rDictClassTransformer_VERBATIM fit:  39%|███▉      | 4078545/10468770 [00:04<00:05, 1258223.01it/s]"
     ]
    },
    {
     "name": "stderr",
     "output_type": "stream",
     "text": [
      "\rDictClassTransformer_VERBATIM fit:  40%|████      | 4204441/10468770 [00:04<00:05, 1250713.90it/s]"
     ]
    },
    {
     "name": "stderr",
     "output_type": "stream",
     "text": [
      "\rDictClassTransformer_VERBATIM fit:  41%|████▏     | 4331530/10468770 [00:04<00:04, 1256695.94it/s]"
     ]
    },
    {
     "name": "stderr",
     "output_type": "stream",
     "text": [
      "\rDictClassTransformer_VERBATIM fit:  43%|████▎     | 4462138/10468770 [00:05<00:04, 1271111.35it/s]"
     ]
    },
    {
     "name": "stderr",
     "output_type": "stream",
     "text": [
      "\rDictClassTransformer_VERBATIM fit:  44%|████▍     | 4593867/10468770 [00:05<00:04, 1284618.15it/s]"
     ]
    },
    {
     "name": "stderr",
     "output_type": "stream",
     "text": [
      "\rDictClassTransformer_VERBATIM fit:  45%|████▌     | 4722416/10468770 [00:05<00:04, 1283528.30it/s]"
     ]
    },
    {
     "name": "stderr",
     "output_type": "stream",
     "text": [
      "\rDictClassTransformer_VERBATIM fit:  46%|████▋     | 4854095/10468770 [00:05<00:04, 1293324.85it/s]"
     ]
    },
    {
     "name": "stderr",
     "output_type": "stream",
     "text": [
      "\rDictClassTransformer_VERBATIM fit:  48%|████▊     | 4983488/10468770 [00:05<00:04, 1277184.81it/s]"
     ]
    },
    {
     "name": "stderr",
     "output_type": "stream",
     "text": [
      "\rDictClassTransformer_VERBATIM fit:  49%|████▉     | 5114203/10468770 [00:05<00:04, 1286024.95it/s]"
     ]
    },
    {
     "name": "stderr",
     "output_type": "stream",
     "text": [
      "\rDictClassTransformer_VERBATIM fit:  50%|█████     | 5244235/10468770 [00:05<00:04, 1290277.06it/s]"
     ]
    },
    {
     "name": "stderr",
     "output_type": "stream",
     "text": [
      "\rDictClassTransformer_VERBATIM fit:  51%|█████▏    | 5373320/10468770 [00:05<00:03, 1288200.84it/s]"
     ]
    },
    {
     "name": "stderr",
     "output_type": "stream",
     "text": [
      "\rDictClassTransformer_VERBATIM fit:  53%|█████▎    | 5502573/10468770 [00:05<00:03, 1289493.22it/s]"
     ]
    },
    {
     "name": "stderr",
     "output_type": "stream",
     "text": [
      "\rDictClassTransformer_VERBATIM fit:  54%|█████▍    | 5639330/10468770 [00:05<00:03, 1311963.32it/s]"
     ]
    },
    {
     "name": "stderr",
     "output_type": "stream",
     "text": [
      "\rDictClassTransformer_VERBATIM fit:  55%|█████▌    | 5773976/10468770 [00:06<00:03, 1322121.95it/s]"
     ]
    },
    {
     "name": "stderr",
     "output_type": "stream",
     "text": [
      "\rDictClassTransformer_VERBATIM fit:  56%|█████▋    | 5906288/10468770 [00:06<00:03, 1312093.41it/s]"
     ]
    },
    {
     "name": "stderr",
     "output_type": "stream",
     "text": [
      "\rDictClassTransformer_VERBATIM fit:  58%|█████▊    | 6038215/10468770 [00:06<00:03, 1314234.80it/s]"
     ]
    },
    {
     "name": "stderr",
     "output_type": "stream",
     "text": [
      "\rDictClassTransformer_VERBATIM fit:  59%|█████▉    | 6169701/10468770 [00:06<00:03, 1314063.76it/s]"
     ]
    },
    {
     "name": "stderr",
     "output_type": "stream",
     "text": [
      "\rDictClassTransformer_VERBATIM fit:  60%|██████    | 6301151/10468770 [00:06<00:03, 1260981.18it/s]"
     ]
    },
    {
     "name": "stderr",
     "output_type": "stream",
     "text": [
      "\rDictClassTransformer_VERBATIM fit:  61%|██████▏   | 6427737/10468770 [00:06<00:03, 1252175.61it/s]"
     ]
    },
    {
     "name": "stderr",
     "output_type": "stream",
     "text": [
      "\rDictClassTransformer_VERBATIM fit:  63%|██████▎   | 6553310/10468770 [00:06<00:03, 1245947.06it/s]"
     ]
    },
    {
     "name": "stderr",
     "output_type": "stream",
     "text": [
      "\rDictClassTransformer_VERBATIM fit:  64%|██████▍   | 6678161/10468770 [00:06<00:03, 1232773.66it/s]"
     ]
    },
    {
     "name": "stderr",
     "output_type": "stream",
     "text": [
      "\rDictClassTransformer_VERBATIM fit:  65%|██████▍   | 6801901/10468770 [00:06<00:02, 1234157.39it/s]"
     ]
    },
    {
     "name": "stderr",
     "output_type": "stream",
     "text": [
      "\rDictClassTransformer_VERBATIM fit:  66%|██████▌   | 6931060/10468770 [00:06<00:02, 1250839.63it/s]"
     ]
    },
    {
     "name": "stderr",
     "output_type": "stream",
     "text": [
      "\rDictClassTransformer_VERBATIM fit:  67%|██████▋   | 7059057/10468770 [00:07<00:02, 1259435.37it/s]"
     ]
    },
    {
     "name": "stderr",
     "output_type": "stream",
     "text": [
      "\rDictClassTransformer_VERBATIM fit:  69%|██████▊   | 7185126/10468770 [00:07<00:02, 1252918.94it/s]"
     ]
    },
    {
     "name": "stderr",
     "output_type": "stream",
     "text": [
      "\rDictClassTransformer_VERBATIM fit:  70%|██████▉   | 7314034/10468770 [00:07<00:02, 1263548.35it/s]"
     ]
    },
    {
     "name": "stderr",
     "output_type": "stream",
     "text": [
      "\rDictClassTransformer_VERBATIM fit:  71%|███████   | 7440477/10468770 [00:07<00:02, 1253473.68it/s]"
     ]
    },
    {
     "name": "stderr",
     "output_type": "stream",
     "text": [
      "\rDictClassTransformer_VERBATIM fit:  72%|███████▏  | 7574487/10468770 [00:07<00:02, 1278259.25it/s]"
     ]
    },
    {
     "name": "stderr",
     "output_type": "stream",
     "text": [
      "\rDictClassTransformer_VERBATIM fit:  74%|███████▎  | 7702489/10468770 [00:07<00:02, 1277924.40it/s]"
     ]
    },
    {
     "name": "stderr",
     "output_type": "stream",
     "text": [
      "\rDictClassTransformer_VERBATIM fit:  75%|███████▍  | 7830405/10468770 [00:07<00:02, 1270562.19it/s]"
     ]
    },
    {
     "name": "stderr",
     "output_type": "stream",
     "text": [
      "\rDictClassTransformer_VERBATIM fit:  76%|███████▌  | 7957558/10468770 [00:07<00:02, 1248562.69it/s]"
     ]
    },
    {
     "name": "stderr",
     "output_type": "stream",
     "text": [
      "\rDictClassTransformer_VERBATIM fit:  77%|███████▋  | 8082567/10468770 [00:07<00:01, 1211434.55it/s]"
     ]
    },
    {
     "name": "stderr",
     "output_type": "stream",
     "text": [
      "\rDictClassTransformer_VERBATIM fit:  78%|███████▊  | 8209174/10468770 [00:08<00:01, 1227319.66it/s]"
     ]
    },
    {
     "name": "stderr",
     "output_type": "stream",
     "text": [
      "\rDictClassTransformer_VERBATIM fit:  80%|███████▉  | 8332200/10468770 [00:08<00:01, 1221359.71it/s]"
     ]
    },
    {
     "name": "stderr",
     "output_type": "stream",
     "text": [
      "\rDictClassTransformer_VERBATIM fit:  81%|████████  | 8455402/10468770 [00:08<00:01, 1224534.37it/s]"
     ]
    },
    {
     "name": "stderr",
     "output_type": "stream",
     "text": [
      "\rDictClassTransformer_VERBATIM fit:  82%|████████▏ | 8578006/10468770 [00:08<00:01, 1218513.37it/s]"
     ]
    },
    {
     "name": "stderr",
     "output_type": "stream",
     "text": [
      "\rDictClassTransformer_VERBATIM fit:  83%|████████▎ | 8702445/10468770 [00:08<00:01, 1226162.13it/s]"
     ]
    },
    {
     "name": "stderr",
     "output_type": "stream",
     "text": [
      "\rDictClassTransformer_VERBATIM fit:  84%|████████▍ | 8827883/10468770 [00:08<00:01, 1234490.15it/s]"
     ]
    },
    {
     "name": "stderr",
     "output_type": "stream",
     "text": [
      "\rDictClassTransformer_VERBATIM fit:  86%|████████▌ | 8954332/10468770 [00:08<00:01, 1243336.42it/s]"
     ]
    },
    {
     "name": "stderr",
     "output_type": "stream",
     "text": [
      "\rDictClassTransformer_VERBATIM fit:  87%|████████▋ | 9085598/10468770 [00:08<00:01, 1263351.77it/s]"
     ]
    },
    {
     "name": "stderr",
     "output_type": "stream",
     "text": [
      "\rDictClassTransformer_VERBATIM fit:  88%|████████▊ | 9216225/10468770 [00:08<00:00, 1275920.50it/s]"
     ]
    },
    {
     "name": "stderr",
     "output_type": "stream",
     "text": [
      "\rDictClassTransformer_VERBATIM fit:  89%|████████▉ | 9343936/10468770 [00:08<00:00, 1274104.51it/s]"
     ]
    },
    {
     "name": "stderr",
     "output_type": "stream",
     "text": [
      "\rDictClassTransformer_VERBATIM fit:  90%|█████████ | 9471430/10468770 [00:09<00:01, 740964.90it/s] "
     ]
    },
    {
     "name": "stderr",
     "output_type": "stream",
     "text": [
      "\rDictClassTransformer_VERBATIM fit:  92%|█████████▏| 9587585/10468770 [00:09<00:01, 831260.78it/s]"
     ]
    },
    {
     "name": "stderr",
     "output_type": "stream",
     "text": [
      "\rDictClassTransformer_VERBATIM fit:  93%|█████████▎| 9711066/10468770 [00:09<00:00, 921619.03it/s]"
     ]
    },
    {
     "name": "stderr",
     "output_type": "stream",
     "text": [
      "\rDictClassTransformer_VERBATIM fit:  94%|█████████▍| 9827495/10468770 [00:09<00:00, 983088.03it/s]"
     ]
    },
    {
     "name": "stderr",
     "output_type": "stream",
     "text": [
      "\rDictClassTransformer_VERBATIM fit:  95%|█████████▍| 9945048/10468770 [00:09<00:00, 1033847.08it/s]"
     ]
    },
    {
     "name": "stderr",
     "output_type": "stream",
     "text": [
      "\rDictClassTransformer_VERBATIM fit:  96%|█████████▋| 10078177/10468770 [00:09<00:00, 1108119.19it/s]"
     ]
    },
    {
     "name": "stderr",
     "output_type": "stream",
     "text": [
      "\rDictClassTransformer_VERBATIM fit:  98%|█████████▊| 10208736/10468770 [00:09<00:00, 1160787.47it/s]"
     ]
    },
    {
     "name": "stderr",
     "output_type": "stream",
     "text": [
      "\rDictClassTransformer_VERBATIM fit:  99%|█████████▊| 10331694/10468770 [00:09<00:00, 1173631.52it/s]"
     ]
    },
    {
     "name": "stderr",
     "output_type": "stream",
     "text": [
      "\rDictClassTransformer_VERBATIM fit: 100%|█████████▉| 10453907/10468770 [00:10<00:00, 1187626.23it/s]"
     ]
    },
    {
     "name": "stderr",
     "output_type": "stream",
     "text": [
      "\rDictClassTransformer_VERBATIM fit: 100%|██████████| 10468770/10468770 [00:10<00:00, 1016960.38it/s]"
     ]
    },
    {
     "name": "stderr",
     "output_type": "stream",
     "text": [
      "\n"
     ]
    },
    {
     "name": "stderr",
     "output_type": "stream",
     "text": [
      "\rDictNBHDTransformer fit:   0%|          | 0/10468770 [00:00<?, ?it/s]"
     ]
    },
    {
     "name": "stderr",
     "output_type": "stream",
     "text": [
      "\rDictNBHDTransformer fit:   0%|          | 31200/10468770 [00:00<04:43, 36819.05it/s]"
     ]
    },
    {
     "name": "stderr",
     "output_type": "stream",
     "text": [
      "\rDictNBHDTransformer fit:   1%|          | 70759/10468770 [00:00<03:25, 50581.01it/s]"
     ]
    },
    {
     "name": "stderr",
     "output_type": "stream",
     "text": [
      "\rDictNBHDTransformer fit:   1%|          | 83400/10468770 [00:01<06:01, 28765.86it/s]"
     ]
    },
    {
     "name": "stderr",
     "output_type": "stream",
     "text": [
      "\rDictNBHDTransformer fit:   1%|          | 130110/10468770 [00:01<04:18, 40037.37it/s]"
     ]
    },
    {
     "name": "stderr",
     "output_type": "stream",
     "text": [
      "\rDictNBHDTransformer fit:   2%|▏         | 179674/10468770 [00:02<03:06, 55282.37it/s]"
     ]
    },
    {
     "name": "stderr",
     "output_type": "stream",
     "text": [
      "\rDictNBHDTransformer fit:   2%|▏         | 224305/10468770 [00:02<02:16, 74993.75it/s]"
     ]
    },
    {
     "name": "stderr",
     "output_type": "stream",
     "text": [
      "\rDictNBHDTransformer fit:   3%|▎         | 272277/10468770 [00:02<01:41, 100406.83it/s]"
     ]
    },
    {
     "name": "stderr",
     "output_type": "stream",
     "text": [
      "\rDictNBHDTransformer fit:   3%|▎         | 320409/10468770 [00:02<01:17, 131666.58it/s]"
     ]
    },
    {
     "name": "stderr",
     "output_type": "stream",
     "text": [
      "\rDictNBHDTransformer fit:   4%|▎         | 367623/10468770 [00:02<01:00, 168014.40it/s]"
     ]
    },
    {
     "name": "stderr",
     "output_type": "stream",
     "text": [
      "\rDictNBHDTransformer fit:   4%|▍         | 410556/10468770 [00:02<00:50, 198051.25it/s]"
     ]
    },
    {
     "name": "stderr",
     "output_type": "stream",
     "text": [
      "\rDictNBHDTransformer fit:   4%|▍         | 458121/10468770 [00:02<00:41, 240087.08it/s]"
     ]
    },
    {
     "name": "stderr",
     "output_type": "stream",
     "text": [
      "\rDictNBHDTransformer fit:   5%|▍         | 505007/10468770 [00:02<00:35, 281257.23it/s]"
     ]
    },
    {
     "name": "stderr",
     "output_type": "stream",
     "text": [
      "\rDictNBHDTransformer fit:   5%|▌         | 553588/10468770 [00:02<00:30, 321921.11it/s]"
     ]
    },
    {
     "name": "stderr",
     "output_type": "stream",
     "text": [
      "\rDictNBHDTransformer fit:   6%|▌         | 604856/10468770 [00:02<00:27, 362369.89it/s]"
     ]
    },
    {
     "name": "stderr",
     "output_type": "stream",
     "text": [
      "\rDictNBHDTransformer fit:   6%|▋         | 654621/10468770 [00:03<00:24, 394543.70it/s]"
     ]
    },
    {
     "name": "stderr",
     "output_type": "stream",
     "text": [
      "\rDictNBHDTransformer fit:   7%|▋         | 702473/10468770 [00:03<00:23, 415585.65it/s]"
     ]
    },
    {
     "name": "stderr",
     "output_type": "stream",
     "text": [
      "\rDictNBHDTransformer fit:   7%|▋         | 750209/10468770 [00:03<00:23, 419715.38it/s]"
     ]
    },
    {
     "name": "stderr",
     "output_type": "stream",
     "text": [
      "\rDictNBHDTransformer fit:   8%|▊         | 796515/10468770 [00:03<00:22, 422386.26it/s]"
     ]
    },
    {
     "name": "stderr",
     "output_type": "stream",
     "text": [
      "\rDictNBHDTransformer fit:   8%|▊         | 841792/10468770 [00:03<00:26, 368106.85it/s]"
     ]
    },
    {
     "name": "stderr",
     "output_type": "stream",
     "text": [
      "\rDictNBHDTransformer fit:   8%|▊         | 885229/10468770 [00:03<00:24, 385759.11it/s]"
     ]
    },
    {
     "name": "stderr",
     "output_type": "stream",
     "text": [
      "\rDictNBHDTransformer fit:   9%|▉         | 934100/10468770 [00:03<00:23, 411776.41it/s]"
     ]
    },
    {
     "name": "stderr",
     "output_type": "stream",
     "text": [
      "\rDictNBHDTransformer fit:   9%|▉         | 981038/10468770 [00:03<00:22, 427515.47it/s]"
     ]
    },
    {
     "name": "stderr",
     "output_type": "stream",
     "text": [
      "\rDictNBHDTransformer fit:  10%|▉         | 1029276/10468770 [00:03<00:21, 442617.93it/s]"
     ]
    },
    {
     "name": "stderr",
     "output_type": "stream",
     "text": [
      "\rDictNBHDTransformer fit:  10%|█         | 1075213/10468770 [00:04<00:20, 447512.41it/s]"
     ]
    },
    {
     "name": "stderr",
     "output_type": "stream",
     "text": [
      "\rDictNBHDTransformer fit:  11%|█         | 1122083/10468770 [00:04<00:20, 453654.23it/s]"
     ]
    },
    {
     "name": "stderr",
     "output_type": "stream",
     "text": [
      "\rDictNBHDTransformer fit:  11%|█         | 1169342/10468770 [00:04<00:20, 459164.25it/s]"
     ]
    },
    {
     "name": "stderr",
     "output_type": "stream",
     "text": [
      "\rDictNBHDTransformer fit:  12%|█▏        | 1215765/10468770 [00:04<00:20, 457335.20it/s]"
     ]
    },
    {
     "name": "stderr",
     "output_type": "stream",
     "text": [
      "\rDictNBHDTransformer fit:  12%|█▏        | 1261855/10468770 [00:04<00:20, 456335.97it/s]"
     ]
    },
    {
     "name": "stderr",
     "output_type": "stream",
     "text": [
      "\rDictNBHDTransformer fit:  12%|█▏        | 1307739/10468770 [00:04<00:20, 454569.75it/s]"
     ]
    },
    {
     "name": "stderr",
     "output_type": "stream",
     "text": [
      "\rDictNBHDTransformer fit:  13%|█▎        | 1353373/10468770 [00:04<00:20, 454225.35it/s]"
     ]
    },
    {
     "name": "stderr",
     "output_type": "stream",
     "text": [
      "\rDictNBHDTransformer fit:  13%|█▎        | 1398920/10468770 [00:04<00:19, 454311.13it/s]"
     ]
    },
    {
     "name": "stderr",
     "output_type": "stream",
     "text": [
      "\rDictNBHDTransformer fit:  14%|█▍        | 1444438/10468770 [00:04<00:19, 453969.08it/s]"
     ]
    },
    {
     "name": "stderr",
     "output_type": "stream",
     "text": [
      "\rDictNBHDTransformer fit:  14%|█▍        | 1490218/10468770 [00:04<00:19, 455108.82it/s]"
     ]
    },
    {
     "name": "stderr",
     "output_type": "stream",
     "text": [
      "\rDictNBHDTransformer fit:  15%|█▍        | 1536926/10468770 [00:05<00:19, 458634.09it/s]"
     ]
    },
    {
     "name": "stderr",
     "output_type": "stream",
     "text": [
      "\rDictNBHDTransformer fit:  15%|█▌        | 1582827/10468770 [00:05<00:19, 454963.86it/s]"
     ]
    },
    {
     "name": "stderr",
     "output_type": "stream",
     "text": [
      "\rDictNBHDTransformer fit:  16%|█▌        | 1628356/10468770 [00:05<00:19, 448353.17it/s]"
     ]
    },
    {
     "name": "stderr",
     "output_type": "stream",
     "text": [
      "\rDictNBHDTransformer fit:  16%|█▌        | 1673236/10468770 [00:05<00:19, 439856.60it/s]"
     ]
    },
    {
     "name": "stderr",
     "output_type": "stream",
     "text": [
      "\rDictNBHDTransformer fit:  16%|█▋        | 1717289/10468770 [00:05<00:24, 357824.75it/s]"
     ]
    },
    {
     "name": "stderr",
     "output_type": "stream",
     "text": [
      "\rDictNBHDTransformer fit:  17%|█▋        | 1760048/10468770 [00:05<00:23, 376237.21it/s]"
     ]
    },
    {
     "name": "stderr",
     "output_type": "stream",
     "text": [
      "\rDictNBHDTransformer fit:  17%|█▋        | 1802726/10468770 [00:05<00:22, 390095.83it/s]"
     ]
    },
    {
     "name": "stderr",
     "output_type": "stream",
     "text": [
      "\rDictNBHDTransformer fit:  18%|█▊        | 1845865/10468770 [00:05<00:21, 401626.07it/s]"
     ]
    },
    {
     "name": "stderr",
     "output_type": "stream",
     "text": [
      "\rDictNBHDTransformer fit:  18%|█▊        | 1890018/10468770 [00:05<00:20, 412817.54it/s]"
     ]
    },
    {
     "name": "stderr",
     "output_type": "stream",
     "text": [
      "\rDictNBHDTransformer fit:  18%|█▊        | 1934545/10468770 [00:06<00:20, 422025.28it/s]"
     ]
    },
    {
     "name": "stderr",
     "output_type": "stream",
     "text": [
      "\rDictNBHDTransformer fit:  19%|█▉        | 1978106/10468770 [00:06<00:19, 426003.56it/s]"
     ]
    },
    {
     "name": "stderr",
     "output_type": "stream",
     "text": [
      "\rDictNBHDTransformer fit:  19%|█▉        | 2022530/10468770 [00:06<00:19, 431307.65it/s]"
     ]
    },
    {
     "name": "stderr",
     "output_type": "stream",
     "text": [
      "\rDictNBHDTransformer fit:  20%|█▉        | 2066754/10468770 [00:06<00:19, 434490.61it/s]"
     ]
    },
    {
     "name": "stderr",
     "output_type": "stream",
     "text": [
      "\rDictNBHDTransformer fit:  20%|██        | 2110457/10468770 [00:06<00:19, 433044.46it/s]"
     ]
    },
    {
     "name": "stderr",
     "output_type": "stream",
     "text": [
      "\rDictNBHDTransformer fit:  21%|██        | 2154032/10468770 [00:06<00:19, 433851.17it/s]"
     ]
    },
    {
     "name": "stderr",
     "output_type": "stream",
     "text": [
      "\rDictNBHDTransformer fit:  21%|██        | 2197543/10468770 [00:06<00:19, 433410.51it/s]"
     ]
    },
    {
     "name": "stderr",
     "output_type": "stream",
     "text": [
      "\rDictNBHDTransformer fit:  21%|██▏       | 2240972/10468770 [00:06<00:19, 432911.61it/s]"
     ]
    },
    {
     "name": "stderr",
     "output_type": "stream",
     "text": [
      "\rDictNBHDTransformer fit:  22%|██▏       | 2284325/10468770 [00:06<00:18, 431449.26it/s]"
     ]
    },
    {
     "name": "stderr",
     "output_type": "stream",
     "text": [
      "\rDictNBHDTransformer fit:  22%|██▏       | 2327515/10468770 [00:06<00:18, 429440.87it/s]"
     ]
    },
    {
     "name": "stderr",
     "output_type": "stream",
     "text": [
      "\rDictNBHDTransformer fit:  23%|██▎       | 2372073/10468770 [00:07<00:18, 434157.41it/s]"
     ]
    },
    {
     "name": "stderr",
     "output_type": "stream",
     "text": [
      "\rDictNBHDTransformer fit:  23%|██▎       | 2415525/10468770 [00:07<00:19, 417752.85it/s]"
     ]
    },
    {
     "name": "stderr",
     "output_type": "stream",
     "text": [
      "\rDictNBHDTransformer fit:  23%|██▎       | 2457967/10468770 [00:07<00:19, 419725.67it/s]"
     ]
    },
    {
     "name": "stderr",
     "output_type": "stream",
     "text": [
      "\rDictNBHDTransformer fit:  24%|██▍       | 2500053/10468770 [00:07<00:19, 409251.19it/s]"
     ]
    },
    {
     "name": "stderr",
     "output_type": "stream",
     "text": [
      "\rDictNBHDTransformer fit:  24%|██▍       | 2542661/10468770 [00:07<00:19, 414157.25it/s]"
     ]
    },
    {
     "name": "stderr",
     "output_type": "stream",
     "text": [
      "\rDictNBHDTransformer fit:  25%|██▍       | 2585255/10468770 [00:07<00:18, 417619.36it/s]"
     ]
    },
    {
     "name": "stderr",
     "output_type": "stream",
     "text": [
      "\rDictNBHDTransformer fit:  25%|██▌       | 2627101/10468770 [00:07<00:18, 416740.23it/s]"
     ]
    },
    {
     "name": "stderr",
     "output_type": "stream",
     "text": [
      "\rDictNBHDTransformer fit:  25%|██▌       | 2668835/10468770 [00:07<00:18, 416666.44it/s]"
     ]
    },
    {
     "name": "stderr",
     "output_type": "stream",
     "text": [
      "\rDictNBHDTransformer fit:  26%|██▌       | 2710931/10468770 [00:07<00:18, 417943.02it/s]"
     ]
    },
    {
     "name": "stderr",
     "output_type": "stream",
     "text": [
      "\rDictNBHDTransformer fit:  26%|██▋       | 2753462/10468770 [00:07<00:18, 420123.63it/s]"
     ]
    },
    {
     "name": "stderr",
     "output_type": "stream",
     "text": [
      "\rDictNBHDTransformer fit:  27%|██▋       | 2795498/10468770 [00:08<00:18, 415884.29it/s]"
     ]
    },
    {
     "name": "stderr",
     "output_type": "stream",
     "text": [
      "\rDictNBHDTransformer fit:  27%|██▋       | 2837113/10468770 [00:08<00:18, 413268.60it/s]"
     ]
    },
    {
     "name": "stderr",
     "output_type": "stream",
     "text": [
      "\rDictNBHDTransformer fit:  27%|██▋       | 2878463/10468770 [00:08<00:18, 400516.64it/s]"
     ]
    },
    {
     "name": "stderr",
     "output_type": "stream",
     "text": [
      "\rDictNBHDTransformer fit:  28%|██▊       | 2919582/10468770 [00:08<00:18, 403657.58it/s]"
     ]
    },
    {
     "name": "stderr",
     "output_type": "stream",
     "text": [
      "\rDictNBHDTransformer fit:  28%|██▊       | 2960765/10468770 [00:08<00:18, 406074.87it/s]"
     ]
    },
    {
     "name": "stderr",
     "output_type": "stream",
     "text": [
      "\rDictNBHDTransformer fit:  29%|██▊       | 3003333/10468770 [00:08<00:18, 411760.55it/s]"
     ]
    },
    {
     "name": "stderr",
     "output_type": "stream",
     "text": [
      "\rDictNBHDTransformer fit:  29%|██▉       | 3044569/10468770 [00:08<00:18, 410018.44it/s]"
     ]
    },
    {
     "name": "stderr",
     "output_type": "stream",
     "text": [
      "\rDictNBHDTransformer fit:  29%|██▉       | 3087186/10468770 [00:08<00:17, 414733.71it/s]"
     ]
    },
    {
     "name": "stderr",
     "output_type": "stream",
     "text": [
      "\rDictNBHDTransformer fit:  30%|██▉       | 3128751/10468770 [00:08<00:17, 415007.10it/s]"
     ]
    },
    {
     "name": "stderr",
     "output_type": "stream",
     "text": [
      "\rDictNBHDTransformer fit:  30%|███       | 3170282/10468770 [00:08<00:17, 410317.03it/s]"
     ]
    },
    {
     "name": "stderr",
     "output_type": "stream",
     "text": [
      "\rDictNBHDTransformer fit:  31%|███       | 3212314/10468770 [00:09<00:17, 413266.52it/s]"
     ]
    },
    {
     "name": "stderr",
     "output_type": "stream",
     "text": [
      "\rDictNBHDTransformer fit:  31%|███       | 3253669/10468770 [00:09<00:17, 410696.22it/s]"
     ]
    },
    {
     "name": "stderr",
     "output_type": "stream",
     "text": [
      "\rDictNBHDTransformer fit:  31%|███▏      | 3294763/10468770 [00:10<01:19, 89873.94it/s] "
     ]
    },
    {
     "name": "stderr",
     "output_type": "stream",
     "text": [
      "\rDictNBHDTransformer fit:  32%|███▏      | 3324484/10468770 [00:10<01:02, 113660.31it/s]"
     ]
    },
    {
     "name": "stderr",
     "output_type": "stream",
     "text": [
      "\rDictNBHDTransformer fit:  32%|███▏      | 3362904/10468770 [00:10<00:49, 144101.48it/s]"
     ]
    },
    {
     "name": "stderr",
     "output_type": "stream",
     "text": [
      "\rDictNBHDTransformer fit:  33%|███▎      | 3403481/10468770 [00:10<00:39, 178664.07it/s]"
     ]
    },
    {
     "name": "stderr",
     "output_type": "stream",
     "text": [
      "\rDictNBHDTransformer fit:  33%|███▎      | 3442199/10468770 [00:10<00:32, 213091.98it/s]"
     ]
    },
    {
     "name": "stderr",
     "output_type": "stream",
     "text": [
      "\rDictNBHDTransformer fit:  33%|███▎      | 3483181/10468770 [00:10<00:28, 248939.53it/s]"
     ]
    },
    {
     "name": "stderr",
     "output_type": "stream",
     "text": [
      "\rDictNBHDTransformer fit:  34%|███▎      | 3520668/10468770 [00:11<00:37, 184042.87it/s]"
     ]
    },
    {
     "name": "stderr",
     "output_type": "stream",
     "text": [
      "\rDictNBHDTransformer fit:  34%|███▍      | 3561148/10468770 [00:11<00:31, 220042.59it/s]"
     ]
    },
    {
     "name": "stderr",
     "output_type": "stream",
     "text": [
      "\rDictNBHDTransformer fit:  34%|███▍      | 3602167/10468770 [00:11<00:26, 255585.00it/s]"
     ]
    },
    {
     "name": "stderr",
     "output_type": "stream",
     "text": [
      "\rDictNBHDTransformer fit:  35%|███▍      | 3642692/10468770 [00:11<00:23, 287430.68it/s]"
     ]
    },
    {
     "name": "stderr",
     "output_type": "stream",
     "text": [
      "\rDictNBHDTransformer fit:  35%|███▌      | 3683385/10468770 [00:11<00:21, 315195.56it/s]"
     ]
    },
    {
     "name": "stderr",
     "output_type": "stream",
     "text": [
      "\rDictNBHDTransformer fit:  36%|███▌      | 3724591/10468770 [00:11<00:19, 339108.81it/s]"
     ]
    },
    {
     "name": "stderr",
     "output_type": "stream",
     "text": [
      "\rDictNBHDTransformer fit:  36%|███▌      | 3764795/10468770 [00:11<00:18, 355815.68it/s]"
     ]
    },
    {
     "name": "stderr",
     "output_type": "stream",
     "text": [
      "\rDictNBHDTransformer fit:  36%|███▋      | 3805302/10468770 [00:12<00:18, 369280.49it/s]"
     ]
    },
    {
     "name": "stderr",
     "output_type": "stream",
     "text": [
      "\rDictNBHDTransformer fit:  37%|███▋      | 3846559/10468770 [00:12<00:17, 381280.31it/s]"
     ]
    },
    {
     "name": "stderr",
     "output_type": "stream",
     "text": [
      "\rDictNBHDTransformer fit:  37%|███▋      | 3886725/10468770 [00:12<00:17, 387003.59it/s]"
     ]
    },
    {
     "name": "stderr",
     "output_type": "stream",
     "text": [
      "\rDictNBHDTransformer fit:  38%|███▊      | 3927239/10468770 [00:12<00:16, 392268.27it/s]"
     ]
    },
    {
     "name": "stderr",
     "output_type": "stream",
     "text": [
      "\rDictNBHDTransformer fit:  38%|███▊      | 3967496/10468770 [00:12<00:16, 391344.05it/s]"
     ]
    },
    {
     "name": "stderr",
     "output_type": "stream",
     "text": [
      "\rDictNBHDTransformer fit:  38%|███▊      | 4008609/10468770 [00:12<00:16, 397072.11it/s]"
     ]
    },
    {
     "name": "stderr",
     "output_type": "stream",
     "text": [
      "\rDictNBHDTransformer fit:  39%|███▊      | 4048842/10468770 [00:12<00:16, 398401.89it/s]"
     ]
    },
    {
     "name": "stderr",
     "output_type": "stream",
     "text": [
      "\rDictNBHDTransformer fit:  39%|███▉      | 4089051/10468770 [00:12<00:16, 394014.30it/s]"
     ]
    },
    {
     "name": "stderr",
     "output_type": "stream",
     "text": [
      "\rDictNBHDTransformer fit:  39%|███▉      | 4129511/10468770 [00:12<00:15, 397121.75it/s]"
     ]
    },
    {
     "name": "stderr",
     "output_type": "stream",
     "text": [
      "\rDictNBHDTransformer fit:  40%|███▉      | 4170196/10468770 [00:12<00:15, 399988.88it/s]"
     ]
    },
    {
     "name": "stderr",
     "output_type": "stream",
     "text": [
      "\rDictNBHDTransformer fit:  40%|████      | 4210336/10468770 [00:13<00:15, 398567.12it/s]"
     ]
    },
    {
     "name": "stderr",
     "output_type": "stream",
     "text": [
      "\rDictNBHDTransformer fit:  41%|████      | 4250293/10468770 [00:13<00:15, 396823.33it/s]"
     ]
    },
    {
     "name": "stderr",
     "output_type": "stream",
     "text": [
      "\rDictNBHDTransformer fit:  41%|████      | 4290047/10468770 [00:13<00:15, 394156.34it/s]"
     ]
    },
    {
     "name": "stderr",
     "output_type": "stream",
     "text": [
      "\rDictNBHDTransformer fit:  41%|████▏     | 4330485/10468770 [00:13<00:15, 397167.46it/s]"
     ]
    },
    {
     "name": "stderr",
     "output_type": "stream",
     "text": [
      "\rDictNBHDTransformer fit:  42%|████▏     | 4370246/10468770 [00:13<00:15, 391658.77it/s]"
     ]
    },
    {
     "name": "stderr",
     "output_type": "stream",
     "text": [
      "\rDictNBHDTransformer fit:  42%|████▏     | 4411502/10468770 [00:13<00:15, 397682.33it/s]"
     ]
    },
    {
     "name": "stderr",
     "output_type": "stream",
     "text": [
      "\rDictNBHDTransformer fit:  43%|████▎     | 4451435/10468770 [00:13<00:15, 398167.08it/s]"
     ]
    },
    {
     "name": "stderr",
     "output_type": "stream",
     "text": [
      "\rDictNBHDTransformer fit:  43%|████▎     | 4491291/10468770 [00:13<00:15, 393335.50it/s]"
     ]
    },
    {
     "name": "stderr",
     "output_type": "stream",
     "text": [
      "\rDictNBHDTransformer fit:  43%|████▎     | 4530765/10468770 [00:13<00:15, 393755.63it/s]"
     ]
    },
    {
     "name": "stderr",
     "output_type": "stream",
     "text": [
      "\rDictNBHDTransformer fit:  44%|████▎     | 4572457/10468770 [00:13<00:14, 400429.09it/s]"
     ]
    },
    {
     "name": "stderr",
     "output_type": "stream",
     "text": [
      "\rDictNBHDTransformer fit:  44%|████▍     | 4613744/10468770 [00:14<00:14, 404080.62it/s]"
     ]
    },
    {
     "name": "stderr",
     "output_type": "stream",
     "text": [
      "\rDictNBHDTransformer fit:  44%|████▍     | 4654194/10468770 [00:14<00:14, 402702.28it/s]"
     ]
    },
    {
     "name": "stderr",
     "output_type": "stream",
     "text": [
      "\rDictNBHDTransformer fit:  45%|████▍     | 4694495/10468770 [00:14<00:14, 396357.90it/s]"
     ]
    },
    {
     "name": "stderr",
     "output_type": "stream",
     "text": [
      "\rDictNBHDTransformer fit:  45%|████▌     | 4735130/10468770 [00:14<00:14, 399259.60it/s]"
     ]
    },
    {
     "name": "stderr",
     "output_type": "stream",
     "text": [
      "\rDictNBHDTransformer fit:  46%|████▌     | 4776300/10468770 [00:14<00:14, 402900.32it/s]"
     ]
    },
    {
     "name": "stderr",
     "output_type": "stream",
     "text": [
      "\rDictNBHDTransformer fit:  46%|████▌     | 4816703/10468770 [00:14<00:14, 403237.24it/s]"
     ]
    },
    {
     "name": "stderr",
     "output_type": "stream",
     "text": [
      "\rDictNBHDTransformer fit:  46%|████▋     | 4857050/10468770 [00:14<00:13, 400949.33it/s]"
     ]
    },
    {
     "name": "stderr",
     "output_type": "stream",
     "text": [
      "\rDictNBHDTransformer fit:  47%|████▋     | 4897165/10468770 [00:14<00:14, 397323.01it/s]"
     ]
    },
    {
     "name": "stderr",
     "output_type": "stream",
     "text": [
      "\rDictNBHDTransformer fit:  47%|████▋     | 4936919/10468770 [00:14<00:14, 393337.65it/s]"
     ]
    },
    {
     "name": "stderr",
     "output_type": "stream",
     "text": [
      "\rDictNBHDTransformer fit:  48%|████▊     | 4977233/10468770 [00:14<00:13, 396225.82it/s]"
     ]
    },
    {
     "name": "stderr",
     "output_type": "stream",
     "text": [
      "\rDictNBHDTransformer fit:  48%|████▊     | 5016878/10468770 [00:15<00:13, 394354.73it/s]"
     ]
    },
    {
     "name": "stderr",
     "output_type": "stream",
     "text": [
      "\rDictNBHDTransformer fit:  48%|████▊     | 5056331/10468770 [00:15<00:13, 388105.74it/s]"
     ]
    },
    {
     "name": "stderr",
     "output_type": "stream",
     "text": [
      "\rDictNBHDTransformer fit:  49%|████▊     | 5096953/10468770 [00:15<00:13, 393366.84it/s]"
     ]
    },
    {
     "name": "stderr",
     "output_type": "stream",
     "text": [
      "\rDictNBHDTransformer fit:  49%|████▉     | 5136331/10468770 [00:15<00:13, 390776.57it/s]"
     ]
    },
    {
     "name": "stderr",
     "output_type": "stream",
     "text": [
      "\rDictNBHDTransformer fit:  49%|████▉     | 5177261/10468770 [00:15<00:13, 396154.97it/s]"
     ]
    },
    {
     "name": "stderr",
     "output_type": "stream",
     "text": [
      "\rDictNBHDTransformer fit:  50%|████▉     | 5217704/10468770 [00:15<00:13, 398600.69it/s]"
     ]
    },
    {
     "name": "stderr",
     "output_type": "stream",
     "text": [
      "\rDictNBHDTransformer fit:  50%|█████     | 5257597/10468770 [00:15<00:13, 396141.02it/s]"
     ]
    },
    {
     "name": "stderr",
     "output_type": "stream",
     "text": [
      "\rDictNBHDTransformer fit:  51%|█████     | 5297238/10468770 [00:15<00:13, 395797.91it/s]"
     ]
    },
    {
     "name": "stderr",
     "output_type": "stream",
     "text": [
      "\rDictNBHDTransformer fit:  51%|█████     | 5338647/10468770 [00:15<00:12, 401108.96it/s]"
     ]
    },
    {
     "name": "stderr",
     "output_type": "stream",
     "text": [
      "\rDictNBHDTransformer fit:  51%|█████▏    | 5378788/10468770 [00:15<00:12, 396592.48it/s]"
     ]
    },
    {
     "name": "stderr",
     "output_type": "stream",
     "text": [
      "\rDictNBHDTransformer fit:  52%|█████▏    | 5418480/10468770 [00:16<00:13, 387776.62it/s]"
     ]
    },
    {
     "name": "stderr",
     "output_type": "stream",
     "text": [
      "\rDictNBHDTransformer fit:  52%|█████▏    | 5459219/10468770 [00:16<00:12, 393448.13it/s]"
     ]
    },
    {
     "name": "stderr",
     "output_type": "stream",
     "text": [
      "\rDictNBHDTransformer fit:  53%|█████▎    | 5498889/10468770 [00:16<00:12, 394415.66it/s]"
     ]
    },
    {
     "name": "stderr",
     "output_type": "stream",
     "text": [
      "\rDictNBHDTransformer fit:  53%|█████▎    | 5541253/10468770 [00:16<00:12, 402726.39it/s]"
     ]
    },
    {
     "name": "stderr",
     "output_type": "stream",
     "text": [
      "\rDictNBHDTransformer fit:  53%|█████▎    | 5582812/10468770 [00:16<00:12, 406498.92it/s]"
     ]
    },
    {
     "name": "stderr",
     "output_type": "stream",
     "text": [
      "\rDictNBHDTransformer fit:  54%|█████▎    | 5623524/10468770 [00:16<00:11, 406368.39it/s]"
     ]
    },
    {
     "name": "stderr",
     "output_type": "stream",
     "text": [
      "\rDictNBHDTransformer fit:  54%|█████▍    | 5664204/10468770 [00:16<00:11, 400451.09it/s]"
     ]
    },
    {
     "name": "stderr",
     "output_type": "stream",
     "text": [
      "\rDictNBHDTransformer fit:  54%|█████▍    | 5704299/10468770 [00:16<00:11, 398123.22it/s]"
     ]
    },
    {
     "name": "stderr",
     "output_type": "stream",
     "text": [
      "\rDictNBHDTransformer fit:  55%|█████▍    | 5745573/10468770 [00:16<00:11, 402392.32it/s]"
     ]
    },
    {
     "name": "stderr",
     "output_type": "stream",
     "text": [
      "\rDictNBHDTransformer fit:  55%|█████▌    | 5785901/10468770 [00:16<00:11, 402646.25it/s]"
     ]
    },
    {
     "name": "stderr",
     "output_type": "stream",
     "text": [
      "\rDictNBHDTransformer fit:  56%|█████▌    | 5827100/10468770 [00:17<00:11, 405403.26it/s]"
     ]
    },
    {
     "name": "stderr",
     "output_type": "stream",
     "text": [
      "\rDictNBHDTransformer fit:  56%|█████▌    | 5867664/10468770 [00:17<00:11, 403274.43it/s]"
     ]
    },
    {
     "name": "stderr",
     "output_type": "stream",
     "text": [
      "\rDictNBHDTransformer fit:  56%|█████▋    | 5908011/10468770 [00:17<00:11, 399677.29it/s]"
     ]
    },
    {
     "name": "stderr",
     "output_type": "stream",
     "text": [
      "\rDictNBHDTransformer fit:  57%|█████▋    | 5948000/10468770 [00:17<00:11, 398028.27it/s]"
     ]
    },
    {
     "name": "stderr",
     "output_type": "stream",
     "text": [
      "\rDictNBHDTransformer fit:  57%|█████▋    | 5987819/10468770 [00:17<00:11, 397280.62it/s]"
     ]
    },
    {
     "name": "stderr",
     "output_type": "stream",
     "text": [
      "\rDictNBHDTransformer fit:  58%|█████▊    | 6027727/10468770 [00:17<00:11, 397815.15it/s]"
     ]
    },
    {
     "name": "stderr",
     "output_type": "stream",
     "text": [
      "\rDictNBHDTransformer fit:  58%|█████▊    | 6067517/10468770 [00:17<00:11, 392587.17it/s]"
     ]
    },
    {
     "name": "stderr",
     "output_type": "stream",
     "text": [
      "\rDictNBHDTransformer fit:  58%|█████▊    | 6107292/10468770 [00:17<00:11, 394120.60it/s]"
     ]
    },
    {
     "name": "stderr",
     "output_type": "stream",
     "text": [
      "\rDictNBHDTransformer fit:  59%|█████▊    | 6148670/10468770 [00:17<00:10, 399818.44it/s]"
     ]
    },
    {
     "name": "stderr",
     "output_type": "stream",
     "text": [
      "\rDictNBHDTransformer fit:  59%|█████▉    | 6188684/10468770 [00:17<00:10, 399663.27it/s]"
     ]
    },
    {
     "name": "stderr",
     "output_type": "stream",
     "text": [
      "\rDictNBHDTransformer fit:  60%|█████▉    | 6229297/10468770 [00:18<00:10, 401579.12it/s]"
     ]
    },
    {
     "name": "stderr",
     "output_type": "stream",
     "text": [
      "\rDictNBHDTransformer fit:  60%|█████▉    | 6269473/10468770 [00:18<00:10, 394964.61it/s]"
     ]
    },
    {
     "name": "stderr",
     "output_type": "stream",
     "text": [
      "\rDictNBHDTransformer fit:  60%|██████    | 6309007/10468770 [00:18<00:10, 394472.74it/s]"
     ]
    },
    {
     "name": "stderr",
     "output_type": "stream",
     "text": [
      "\rDictNBHDTransformer fit:  61%|██████    | 6348481/10468770 [00:18<00:10, 393508.43it/s]"
     ]
    },
    {
     "name": "stderr",
     "output_type": "stream",
     "text": [
      "\rDictNBHDTransformer fit:  61%|██████    | 6387851/10468770 [00:18<00:10, 387846.65it/s]"
     ]
    },
    {
     "name": "stderr",
     "output_type": "stream",
     "text": [
      "\rDictNBHDTransformer fit:  61%|██████▏   | 6427840/10468770 [00:18<00:10, 391371.39it/s]"
     ]
    },
    {
     "name": "stderr",
     "output_type": "stream",
     "text": [
      "\rDictNBHDTransformer fit:  62%|██████▏   | 6467007/10468770 [00:18<00:10, 386052.95it/s]"
     ]
    },
    {
     "name": "stderr",
     "output_type": "stream",
     "text": [
      "\rDictNBHDTransformer fit:  62%|██████▏   | 6505650/10468770 [00:18<00:10, 384053.48it/s]"
     ]
    },
    {
     "name": "stderr",
     "output_type": "stream",
     "text": [
      "\rDictNBHDTransformer fit:  63%|██████▎   | 6544084/10468770 [00:18<00:10, 383444.61it/s]"
     ]
    },
    {
     "name": "stderr",
     "output_type": "stream",
     "text": [
      "\rDictNBHDTransformer fit:  63%|██████▎   | 6583456/10468770 [00:19<00:10, 386469.76it/s]"
     ]
    },
    {
     "name": "stderr",
     "output_type": "stream",
     "text": [
      "\rDictNBHDTransformer fit:  63%|██████▎   | 6622123/10468770 [00:19<00:10, 382699.66it/s]"
     ]
    },
    {
     "name": "stderr",
     "output_type": "stream",
     "text": [
      "\rDictNBHDTransformer fit:  64%|██████▎   | 6660962/10468770 [00:19<00:09, 384383.57it/s]"
     ]
    },
    {
     "name": "stderr",
     "output_type": "stream",
     "text": [
      "\rDictNBHDTransformer fit:  64%|██████▍   | 6700270/10468770 [00:19<00:09, 386950.85it/s]"
     ]
    },
    {
     "name": "stderr",
     "output_type": "stream",
     "text": [
      "\rDictNBHDTransformer fit:  64%|██████▍   | 6738982/10468770 [00:19<00:09, 384752.64it/s]"
     ]
    },
    {
     "name": "stderr",
     "output_type": "stream",
     "text": [
      "\rDictNBHDTransformer fit:  65%|██████▍   | 6777788/10468770 [00:19<00:09, 385736.56it/s]"
     ]
    },
    {
     "name": "stderr",
     "output_type": "stream",
     "text": [
      "\rDictNBHDTransformer fit:  65%|██████▌   | 6816892/10468770 [00:19<00:09, 387309.24it/s]"
     ]
    },
    {
     "name": "stderr",
     "output_type": "stream",
     "text": [
      "\rDictNBHDTransformer fit:  65%|██████▌   | 6855632/10468770 [00:19<00:09, 384832.73it/s]"
     ]
    },
    {
     "name": "stderr",
     "output_type": "stream",
     "text": [
      "\rDictNBHDTransformer fit:  66%|██████▌   | 6894425/10468770 [00:19<00:09, 385756.54it/s]"
     ]
    },
    {
     "name": "stderr",
     "output_type": "stream",
     "text": [
      "\rDictNBHDTransformer fit:  66%|██████▌   | 6933009/10468770 [00:19<00:09, 381822.32it/s]"
     ]
    },
    {
     "name": "stderr",
     "output_type": "stream",
     "text": [
      "\rDictNBHDTransformer fit:  67%|██████▋   | 6972880/10468770 [00:20<00:09, 386735.25it/s]"
     ]
    },
    {
     "name": "stderr",
     "output_type": "stream",
     "text": [
      "\rDictNBHDTransformer fit:  67%|██████▋   | 7011579/10468770 [00:20<00:08, 385298.10it/s]"
     ]
    },
    {
     "name": "stderr",
     "output_type": "stream",
     "text": [
      "\rDictNBHDTransformer fit:  67%|██████▋   | 7050128/10468770 [00:20<00:08, 382946.24it/s]"
     ]
    },
    {
     "name": "stderr",
     "output_type": "stream",
     "text": [
      "\rDictNBHDTransformer fit:  68%|██████▊   | 7088440/10468770 [00:20<00:08, 381756.19it/s]"
     ]
    },
    {
     "name": "stderr",
     "output_type": "stream",
     "text": [
      "\rDictNBHDTransformer fit:  68%|██████▊   | 7126629/10468770 [00:20<00:08, 379468.51it/s]"
     ]
    },
    {
     "name": "stderr",
     "output_type": "stream",
     "text": [
      "\rDictNBHDTransformer fit:  68%|██████▊   | 7164588/10468770 [00:20<00:08, 376681.59it/s]"
     ]
    },
    {
     "name": "stderr",
     "output_type": "stream",
     "text": [
      "\rDictNBHDTransformer fit:  69%|██████▉   | 7203194/10468770 [00:20<00:08, 379445.69it/s]"
     ]
    },
    {
     "name": "stderr",
     "output_type": "stream",
     "text": [
      "\rDictNBHDTransformer fit:  69%|██████▉   | 7241153/10468770 [00:20<00:08, 379431.02it/s]"
     ]
    },
    {
     "name": "stderr",
     "output_type": "stream",
     "text": [
      "\rDictNBHDTransformer fit:  70%|██████▉   | 7280940/10468770 [00:20<00:08, 384779.51it/s]"
     ]
    },
    {
     "name": "stderr",
     "output_type": "stream",
     "text": [
      "\rDictNBHDTransformer fit:  70%|██████▉   | 7319443/10468770 [00:20<00:08, 381121.01it/s]"
     ]
    },
    {
     "name": "stderr",
     "output_type": "stream",
     "text": [
      "\rDictNBHDTransformer fit:  70%|███████   | 7358726/10468770 [00:21<00:08, 384558.51it/s]"
     ]
    },
    {
     "name": "stderr",
     "output_type": "stream",
     "text": [
      "\rDictNBHDTransformer fit:  71%|███████   | 7397430/10468770 [00:21<00:07, 385298.62it/s]"
     ]
    },
    {
     "name": "stderr",
     "output_type": "stream",
     "text": [
      "\rDictNBHDTransformer fit:  71%|███████   | 7435978/10468770 [00:21<00:07, 382215.47it/s]"
     ]
    },
    {
     "name": "stderr",
     "output_type": "stream",
     "text": [
      "\rDictNBHDTransformer fit:  71%|███████▏  | 7474218/10468770 [00:21<00:18, 159200.62it/s]"
     ]
    },
    {
     "name": "stderr",
     "output_type": "stream",
     "text": [
      "\rDictNBHDTransformer fit:  72%|███████▏  | 7511261/10468770 [00:21<00:15, 192055.12it/s]"
     ]
    },
    {
     "name": "stderr",
     "output_type": "stream",
     "text": [
      "\rDictNBHDTransformer fit:  72%|███████▏  | 7549180/10468770 [00:21<00:12, 225430.65it/s]"
     ]
    },
    {
     "name": "stderr",
     "output_type": "stream",
     "text": [
      "\rDictNBHDTransformer fit:  72%|███████▏  | 7588238/10468770 [00:22<00:11, 258180.14it/s]"
     ]
    },
    {
     "name": "stderr",
     "output_type": "stream",
     "text": [
      "\rDictNBHDTransformer fit:  73%|███████▎  | 7625941/10468770 [00:22<00:09, 285140.61it/s]"
     ]
    },
    {
     "name": "stderr",
     "output_type": "stream",
     "text": [
      "\rDictNBHDTransformer fit:  73%|███████▎  | 7662076/10468770 [00:22<00:09, 304395.48it/s]"
     ]
    },
    {
     "name": "stderr",
     "output_type": "stream",
     "text": [
      "\rDictNBHDTransformer fit:  74%|███████▎  | 7697984/10468770 [00:22<00:08, 313913.93it/s]"
     ]
    },
    {
     "name": "stderr",
     "output_type": "stream",
     "text": [
      "\rDictNBHDTransformer fit:  74%|███████▍  | 7737870/10468770 [00:22<00:08, 335338.59it/s]"
     ]
    },
    {
     "name": "stderr",
     "output_type": "stream",
     "text": [
      "\rDictNBHDTransformer fit:  74%|███████▍  | 7774542/10468770 [00:22<00:07, 343577.42it/s]"
     ]
    },
    {
     "name": "stderr",
     "output_type": "stream",
     "text": [
      "\rDictNBHDTransformer fit:  75%|███████▍  | 7813510/10468770 [00:22<00:07, 356218.63it/s]"
     ]
    },
    {
     "name": "stderr",
     "output_type": "stream",
     "text": [
      "\rDictNBHDTransformer fit:  75%|███████▍  | 7850823/10468770 [00:22<00:07, 360695.50it/s]"
     ]
    },
    {
     "name": "stderr",
     "output_type": "stream",
     "text": [
      "\rDictNBHDTransformer fit:  75%|███████▌  | 7888182/10468770 [00:22<00:07, 364466.20it/s]"
     ]
    },
    {
     "name": "stderr",
     "output_type": "stream",
     "text": [
      "\rDictNBHDTransformer fit:  76%|███████▌  | 7925815/10468770 [00:23<00:06, 367943.84it/s]"
     ]
    },
    {
     "name": "stderr",
     "output_type": "stream",
     "text": [
      "\rDictNBHDTransformer fit:  76%|███████▌  | 7964241/10468770 [00:23<00:06, 372685.99it/s]"
     ]
    },
    {
     "name": "stderr",
     "output_type": "stream",
     "text": [
      "\rDictNBHDTransformer fit:  76%|███████▋  | 8002427/10468770 [00:23<00:06, 375384.03it/s]"
     ]
    },
    {
     "name": "stderr",
     "output_type": "stream",
     "text": [
      "\rDictNBHDTransformer fit:  77%|███████▋  | 8041152/10468770 [00:23<00:06, 378866.60it/s]"
     ]
    },
    {
     "name": "stderr",
     "output_type": "stream",
     "text": [
      "\rDictNBHDTransformer fit:  77%|███████▋  | 8079708/10468770 [00:23<00:06, 380845.62it/s]"
     ]
    },
    {
     "name": "stderr",
     "output_type": "stream",
     "text": [
      "\rDictNBHDTransformer fit:  78%|███████▊  | 8118156/10468770 [00:23<00:06, 381928.54it/s]"
     ]
    },
    {
     "name": "stderr",
     "output_type": "stream",
     "text": [
      "\rDictNBHDTransformer fit:  78%|███████▊  | 8156462/10468770 [00:23<00:06, 381603.87it/s]"
     ]
    },
    {
     "name": "stderr",
     "output_type": "stream",
     "text": [
      "\rDictNBHDTransformer fit:  78%|███████▊  | 8194702/10468770 [00:23<00:05, 380052.60it/s]"
     ]
    },
    {
     "name": "stderr",
     "output_type": "stream",
     "text": [
      "\rDictNBHDTransformer fit:  79%|███████▊  | 8233038/10468770 [00:23<00:05, 381037.84it/s]"
     ]
    },
    {
     "name": "stderr",
     "output_type": "stream",
     "text": [
      "\rDictNBHDTransformer fit:  79%|███████▉  | 8271182/10468770 [00:23<00:05, 379815.03it/s]"
     ]
    },
    {
     "name": "stderr",
     "output_type": "stream",
     "text": [
      "\rDictNBHDTransformer fit:  79%|███████▉  | 8310614/10468770 [00:24<00:05, 384053.06it/s]"
     ]
    },
    {
     "name": "stderr",
     "output_type": "stream",
     "text": [
      "\rDictNBHDTransformer fit:  80%|███████▉  | 8349308/10468770 [00:24<00:05, 384912.25it/s]"
     ]
    },
    {
     "name": "stderr",
     "output_type": "stream",
     "text": [
      "\rDictNBHDTransformer fit:  80%|████████  | 8387822/10468770 [00:24<00:05, 382948.02it/s]"
     ]
    },
    {
     "name": "stderr",
     "output_type": "stream",
     "text": [
      "\rDictNBHDTransformer fit:  80%|████████  | 8426135/10468770 [00:24<00:05, 380262.28it/s]"
     ]
    },
    {
     "name": "stderr",
     "output_type": "stream",
     "text": [
      "\rDictNBHDTransformer fit:  81%|████████  | 8465231/10468770 [00:24<00:05, 383408.38it/s]"
     ]
    },
    {
     "name": "stderr",
     "output_type": "stream",
     "text": [
      "\rDictNBHDTransformer fit:  81%|████████  | 8503590/10468770 [00:24<00:05, 377499.90it/s]"
     ]
    },
    {
     "name": "stderr",
     "output_type": "stream",
     "text": [
      "\rDictNBHDTransformer fit:  82%|████████▏ | 8541374/10468770 [00:24<00:05, 375718.52it/s]"
     ]
    },
    {
     "name": "stderr",
     "output_type": "stream",
     "text": [
      "\rDictNBHDTransformer fit:  82%|████████▏ | 8579237/10468770 [00:24<00:05, 376586.29it/s]"
     ]
    },
    {
     "name": "stderr",
     "output_type": "stream",
     "text": [
      "\rDictNBHDTransformer fit:  82%|████████▏ | 8616914/10468770 [00:24<00:05, 312760.52it/s]"
     ]
    },
    {
     "name": "stderr",
     "output_type": "stream",
     "text": [
      "\rDictNBHDTransformer fit:  83%|████████▎ | 8650012/10468770 [00:25<00:06, 289691.60it/s]"
     ]
    },
    {
     "name": "stderr",
     "output_type": "stream",
     "text": [
      "\rDictNBHDTransformer fit:  83%|████████▎ | 8680595/10468770 [00:25<00:08, 217811.29it/s]"
     ]
    },
    {
     "name": "stderr",
     "output_type": "stream",
     "text": [
      "\rDictNBHDTransformer fit:  83%|████████▎ | 8706142/10468770 [00:25<00:07, 227727.10it/s]"
     ]
    },
    {
     "name": "stderr",
     "output_type": "stream",
     "text": [
      "\rDictNBHDTransformer fit:  83%|████████▎ | 8740690/10468770 [00:25<00:06, 253663.57it/s]"
     ]
    },
    {
     "name": "stderr",
     "output_type": "stream",
     "text": [
      "\rDictNBHDTransformer fit:  84%|████████▍ | 8776385/10468770 [00:25<00:06, 277775.95it/s]"
     ]
    },
    {
     "name": "stderr",
     "output_type": "stream",
     "text": [
      "\rDictNBHDTransformer fit:  84%|████████▍ | 8809351/10468770 [00:25<00:05, 291539.77it/s]"
     ]
    },
    {
     "name": "stderr",
     "output_type": "stream",
     "text": [
      "\rDictNBHDTransformer fit:  84%|████████▍ | 8840571/10468770 [00:25<00:05, 296143.94it/s]"
     ]
    },
    {
     "name": "stderr",
     "output_type": "stream",
     "text": [
      "\rDictNBHDTransformer fit:  85%|████████▍ | 8878889/10468770 [00:25<00:05, 317798.89it/s]"
     ]
    },
    {
     "name": "stderr",
     "output_type": "stream",
     "text": [
      "\rDictNBHDTransformer fit:  85%|████████▌ | 8916787/10468770 [00:25<00:04, 333970.03it/s]"
     ]
    },
    {
     "name": "stderr",
     "output_type": "stream",
     "text": [
      "\rDictNBHDTransformer fit:  86%|████████▌ | 8955076/10468770 [00:26<00:04, 347279.21it/s]"
     ]
    },
    {
     "name": "stderr",
     "output_type": "stream",
     "text": [
      "\rDictNBHDTransformer fit:  86%|████████▌ | 8993230/10468770 [00:26<00:04, 356890.49it/s]"
     ]
    },
    {
     "name": "stderr",
     "output_type": "stream",
     "text": [
      "\rDictNBHDTransformer fit:  86%|████████▋ | 9031589/10468770 [00:26<00:03, 364501.61it/s]"
     ]
    },
    {
     "name": "stderr",
     "output_type": "stream",
     "text": [
      "\rDictNBHDTransformer fit:  87%|████████▋ | 9069576/10468770 [00:26<00:03, 368978.00it/s]"
     ]
    },
    {
     "name": "stderr",
     "output_type": "stream",
     "text": [
      "\rDictNBHDTransformer fit:  87%|████████▋ | 9108151/10468770 [00:26<00:03, 373852.21it/s]"
     ]
    },
    {
     "name": "stderr",
     "output_type": "stream",
     "text": [
      "\rDictNBHDTransformer fit:  87%|████████▋ | 9145846/10468770 [00:28<00:20, 65315.25it/s] "
     ]
    },
    {
     "name": "stderr",
     "output_type": "stream",
     "text": [
      "\rDictNBHDTransformer fit:  88%|████████▊ | 9181951/10468770 [00:28<00:14, 86593.80it/s]"
     ]
    },
    {
     "name": "stderr",
     "output_type": "stream",
     "text": [
      "\rDictNBHDTransformer fit:  88%|████████▊ | 9218364/10468770 [00:28<00:11, 112263.56it/s]"
     ]
    },
    {
     "name": "stderr",
     "output_type": "stream",
     "text": [
      "\rDictNBHDTransformer fit:  88%|████████▊ | 9252833/10468770 [00:28<00:08, 140732.41it/s]"
     ]
    },
    {
     "name": "stderr",
     "output_type": "stream",
     "text": [
      "\rDictNBHDTransformer fit:  89%|████████▊ | 9289531/10468770 [00:28<00:06, 172667.47it/s]"
     ]
    },
    {
     "name": "stderr",
     "output_type": "stream",
     "text": [
      "\rDictNBHDTransformer fit:  89%|████████▉ | 9328063/10468770 [00:28<00:05, 206925.94it/s]"
     ]
    },
    {
     "name": "stderr",
     "output_type": "stream",
     "text": [
      "\rDictNBHDTransformer fit:  89%|████████▉ | 9363765/10468770 [00:28<00:04, 236789.56it/s]"
     ]
    },
    {
     "name": "stderr",
     "output_type": "stream",
     "text": [
      "\rDictNBHDTransformer fit:  90%|████████▉ | 9401271/10468770 [00:28<00:04, 266234.28it/s]"
     ]
    },
    {
     "name": "stderr",
     "output_type": "stream",
     "text": [
      "\rDictNBHDTransformer fit:  90%|█████████ | 9437953/10468770 [00:28<00:03, 290098.57it/s]"
     ]
    },
    {
     "name": "stderr",
     "output_type": "stream",
     "text": [
      "\rDictNBHDTransformer fit:  91%|█████████ | 9474849/10468770 [00:29<00:03, 309973.15it/s]"
     ]
    },
    {
     "name": "stderr",
     "output_type": "stream",
     "text": [
      "\rDictNBHDTransformer fit:  91%|█████████ | 9511364/10468770 [00:29<00:02, 324689.77it/s]"
     ]
    },
    {
     "name": "stderr",
     "output_type": "stream",
     "text": [
      "\rDictNBHDTransformer fit:  91%|█████████ | 9548954/10468770 [00:29<00:02, 338523.45it/s]"
     ]
    },
    {
     "name": "stderr",
     "output_type": "stream",
     "text": [
      "\rDictNBHDTransformer fit:  92%|█████████▏| 9586944/10468770 [00:29<00:02, 349955.18it/s]"
     ]
    },
    {
     "name": "stderr",
     "output_type": "stream",
     "text": [
      "\rDictNBHDTransformer fit:  92%|█████████▏| 9625287/10468770 [00:29<00:02, 359365.33it/s]"
     ]
    },
    {
     "name": "stderr",
     "output_type": "stream",
     "text": [
      "\rDictNBHDTransformer fit:  92%|█████████▏| 9663998/10468770 [00:29<00:02, 367261.82it/s]"
     ]
    },
    {
     "name": "stderr",
     "output_type": "stream",
     "text": [
      "\rDictNBHDTransformer fit:  93%|█████████▎| 9702137/10468770 [00:29<00:02, 371388.20it/s]"
     ]
    },
    {
     "name": "stderr",
     "output_type": "stream",
     "text": [
      "\rDictNBHDTransformer fit:  93%|█████████▎| 9740292/10468770 [00:29<00:01, 374372.72it/s]"
     ]
    },
    {
     "name": "stderr",
     "output_type": "stream",
     "text": [
      "\rDictNBHDTransformer fit:  93%|█████████▎| 9779748/10468770 [00:29<00:01, 380207.42it/s]"
     ]
    },
    {
     "name": "stderr",
     "output_type": "stream",
     "text": [
      "\rDictNBHDTransformer fit:  94%|█████████▍| 9818192/10468770 [00:29<00:01, 380726.56it/s]"
     ]
    },
    {
     "name": "stderr",
     "output_type": "stream",
     "text": [
      "\rDictNBHDTransformer fit:  94%|█████████▍| 9857358/10468770 [00:30<00:01, 383940.99it/s]"
     ]
    },
    {
     "name": "stderr",
     "output_type": "stream",
     "text": [
      "\rDictNBHDTransformer fit:  95%|█████████▍| 9895967/10468770 [00:30<00:01, 383349.32it/s]"
     ]
    },
    {
     "name": "stderr",
     "output_type": "stream",
     "text": [
      "\rDictNBHDTransformer fit:  95%|█████████▍| 9934452/10468770 [00:30<00:01, 369662.73it/s]"
     ]
    },
    {
     "name": "stderr",
     "output_type": "stream",
     "text": [
      "\rDictNBHDTransformer fit:  95%|█████████▌| 9971629/10468770 [00:30<00:01, 361339.59it/s]"
     ]
    },
    {
     "name": "stderr",
     "output_type": "stream",
     "text": [
      "\rDictNBHDTransformer fit:  96%|█████████▌| 10007952/10468770 [00:30<00:01, 360208.72it/s]"
     ]
    },
    {
     "name": "stderr",
     "output_type": "stream",
     "text": [
      "\rDictNBHDTransformer fit:  96%|█████████▌| 10044106/10468770 [00:30<00:01, 356325.08it/s]"
     ]
    },
    {
     "name": "stderr",
     "output_type": "stream",
     "text": [
      "\rDictNBHDTransformer fit:  96%|█████████▋| 10079842/10468770 [00:30<00:01, 352004.26it/s]"
     ]
    },
    {
     "name": "stderr",
     "output_type": "stream",
     "text": [
      "\rDictNBHDTransformer fit:  97%|█████████▋| 10115537/10468770 [00:30<00:00, 353468.63it/s]"
     ]
    },
    {
     "name": "stderr",
     "output_type": "stream",
     "text": [
      "\rDictNBHDTransformer fit:  97%|█████████▋| 10153520/10468770 [00:30<00:00, 360983.78it/s]"
     ]
    },
    {
     "name": "stderr",
     "output_type": "stream",
     "text": [
      "\rDictNBHDTransformer fit:  97%|█████████▋| 10191187/10468770 [00:30<00:00, 365546.26it/s]"
     ]
    },
    {
     "name": "stderr",
     "output_type": "stream",
     "text": [
      "\rDictNBHDTransformer fit:  98%|█████████▊| 10227813/10468770 [00:31<00:00, 360932.00it/s]"
     ]
    },
    {
     "name": "stderr",
     "output_type": "stream",
     "text": [
      "\rDictNBHDTransformer fit:  98%|█████████▊| 10263969/10468770 [00:31<00:00, 350263.10it/s]"
     ]
    },
    {
     "name": "stderr",
     "output_type": "stream",
     "text": [
      "\rDictNBHDTransformer fit:  98%|█████████▊| 10299339/10468770 [00:31<00:00, 351285.99it/s]"
     ]
    },
    {
     "name": "stderr",
     "output_type": "stream",
     "text": [
      "\rDictNBHDTransformer fit:  99%|█████████▊| 10335910/10468770 [00:31<00:00, 355489.18it/s]"
     ]
    },
    {
     "name": "stderr",
     "output_type": "stream",
     "text": [
      "\rDictNBHDTransformer fit:  99%|█████████▉| 10373673/10468770 [00:31<00:00, 361853.04it/s]"
     ]
    },
    {
     "name": "stderr",
     "output_type": "stream",
     "text": [
      "\rDictNBHDTransformer fit:  99%|█████████▉| 10409934/10468770 [00:31<00:00, 360960.53it/s]"
     ]
    },
    {
     "name": "stderr",
     "output_type": "stream",
     "text": [
      "\rDictNBHDTransformer fit: 100%|█████████▉| 10446084/10468770 [00:31<00:00, 352373.91it/s]"
     ]
    },
    {
     "name": "stderr",
     "output_type": "stream",
     "text": [
      "\rDictNBHDTransformer fit: 100%|██████████| 10468770/10468770 [00:31<00:00, 328333.96it/s]"
     ]
    },
    {
     "name": "stderr",
     "output_type": "stream",
     "text": [
      "\n"
     ]
    },
    {
     "name": "stderr",
     "output_type": "stream",
     "text": [
      "\rDictClassTransformer_DATE fit:   0%|          | 0/10468770 [00:00<?, ?it/s]"
     ]
    },
    {
     "name": "stderr",
     "output_type": "stream",
     "text": [
      "\rDictClassTransformer_DATE fit:   0%|          | 29290/10468770 [00:01<06:36, 26356.35it/s]"
     ]
    },
    {
     "name": "stderr",
     "output_type": "stream",
     "text": [
      "\rDictClassTransformer_DATE fit:   1%|          | 113854/10468770 [00:01<04:38, 37155.62it/s]"
     ]
    },
    {
     "name": "stderr",
     "output_type": "stream",
     "text": [
      "\rDictClassTransformer_DATE fit:   2%|▏         | 202851/10468770 [00:01<03:16, 52146.41it/s]"
     ]
    },
    {
     "name": "stderr",
     "output_type": "stream",
     "text": [
      "\rDictClassTransformer_DATE fit:   3%|▎         | 304159/10468770 [00:01<02:19, 72886.98it/s]"
     ]
    },
    {
     "name": "stderr",
     "output_type": "stream",
     "text": [
      "\rDictClassTransformer_DATE fit:   4%|▍         | 404167/10468770 [00:01<01:39, 100970.46it/s]"
     ]
    },
    {
     "name": "stderr",
     "output_type": "stream",
     "text": [
      "\rDictClassTransformer_DATE fit:   5%|▍         | 509260/10468770 [00:01<01:11, 138538.97it/s]"
     ]
    },
    {
     "name": "stderr",
     "output_type": "stream",
     "text": [
      "\rDictClassTransformer_DATE fit:   6%|▌         | 620692/10468770 [00:01<00:52, 187900.89it/s]"
     ]
    },
    {
     "name": "stderr",
     "output_type": "stream",
     "text": [
      "\rDictClassTransformer_DATE fit:   7%|▋         | 729678/10468770 [00:01<00:38, 249960.42it/s]"
     ]
    },
    {
     "name": "stderr",
     "output_type": "stream",
     "text": [
      "\rDictClassTransformer_DATE fit:   8%|▊         | 835994/10468770 [00:01<00:29, 324399.01it/s]"
     ]
    },
    {
     "name": "stderr",
     "output_type": "stream",
     "text": [
      "\rDictClassTransformer_DATE fit:   9%|▉         | 935558/10468770 [00:02<00:23, 403375.08it/s]"
     ]
    },
    {
     "name": "stderr",
     "output_type": "stream",
     "text": [
      "\rDictClassTransformer_DATE fit:  10%|▉         | 1033269/10468770 [00:03<00:53, 176901.98it/s]"
     ]
    },
    {
     "name": "stderr",
     "output_type": "stream",
     "text": [
      "\rDictClassTransformer_DATE fit:  11%|█         | 1141294/10468770 [00:03<00:39, 236143.71it/s]"
     ]
    },
    {
     "name": "stderr",
     "output_type": "stream",
     "text": [
      "\rDictClassTransformer_DATE fit:  12%|█▏        | 1253926/10468770 [00:03<00:29, 309535.12it/s]"
     ]
    },
    {
     "name": "stderr",
     "output_type": "stream",
     "text": [
      "\rDictClassTransformer_DATE fit:  13%|█▎        | 1369199/10468770 [00:03<00:22, 396556.24it/s]"
     ]
    },
    {
     "name": "stderr",
     "output_type": "stream",
     "text": [
      "\rDictClassTransformer_DATE fit:  14%|█▍        | 1484727/10468770 [00:03<00:18, 493857.20it/s]"
     ]
    },
    {
     "name": "stderr",
     "output_type": "stream",
     "text": [
      "\rDictClassTransformer_DATE fit:  15%|█▌        | 1601807/10468770 [00:03<00:14, 597496.77it/s]"
     ]
    },
    {
     "name": "stderr",
     "output_type": "stream",
     "text": [
      "\rDictClassTransformer_DATE fit:  16%|█▋        | 1713771/10468770 [00:03<00:12, 694685.65it/s]"
     ]
    },
    {
     "name": "stderr",
     "output_type": "stream",
     "text": [
      "\rDictClassTransformer_DATE fit:  18%|█▊        | 1832388/10468770 [00:03<00:10, 793293.42it/s]"
     ]
    },
    {
     "name": "stderr",
     "output_type": "stream",
     "text": [
      "\rDictClassTransformer_DATE fit:  19%|█▊        | 1945524/10468770 [00:04<00:09, 871410.10it/s]"
     ]
    },
    {
     "name": "stderr",
     "output_type": "stream",
     "text": [
      "\rDictClassTransformer_DATE fit:  20%|█▉        | 2057734/10468770 [00:04<00:09, 918386.32it/s]"
     ]
    },
    {
     "name": "stderr",
     "output_type": "stream",
     "text": [
      "\rDictClassTransformer_DATE fit:  21%|██        | 2175128/10468770 [00:04<00:08, 982553.26it/s]"
     ]
    },
    {
     "name": "stderr",
     "output_type": "stream",
     "text": [
      "\rDictClassTransformer_DATE fit:  22%|██▏       | 2296771/10468770 [00:04<00:07, 1042693.70it/s]"
     ]
    },
    {
     "name": "stderr",
     "output_type": "stream",
     "text": [
      "\rDictClassTransformer_DATE fit:  23%|██▎       | 2419151/10468770 [00:04<00:07, 1091133.32it/s]"
     ]
    },
    {
     "name": "stderr",
     "output_type": "stream",
     "text": [
      "\rDictClassTransformer_DATE fit:  24%|██▍       | 2536591/10468770 [00:04<00:07, 1114846.14it/s]"
     ]
    },
    {
     "name": "stderr",
     "output_type": "stream",
     "text": [
      "\rDictClassTransformer_DATE fit:  25%|██▌       | 2658224/10468770 [00:04<00:06, 1143463.99it/s]"
     ]
    },
    {
     "name": "stderr",
     "output_type": "stream",
     "text": [
      "\rDictClassTransformer_DATE fit:  27%|██▋       | 2776837/10468770 [00:04<00:07, 991951.66it/s] "
     ]
    },
    {
     "name": "stderr",
     "output_type": "stream",
     "text": [
      "\rDictClassTransformer_DATE fit:  28%|██▊       | 2882597/10468770 [00:04<00:08, 945668.19it/s]"
     ]
    },
    {
     "name": "stderr",
     "output_type": "stream",
     "text": [
      "\rDictClassTransformer_DATE fit:  29%|██▊       | 2996428/10468770 [00:05<00:07, 996247.81it/s]"
     ]
    },
    {
     "name": "stderr",
     "output_type": "stream",
     "text": [
      "\rDictClassTransformer_DATE fit:  30%|██▉       | 3100309/10468770 [00:05<00:08, 893798.86it/s]"
     ]
    },
    {
     "name": "stderr",
     "output_type": "stream",
     "text": [
      "\rDictClassTransformer_DATE fit:  31%|███       | 3218802/10468770 [00:05<00:07, 964919.15it/s]"
     ]
    },
    {
     "name": "stderr",
     "output_type": "stream",
     "text": [
      "\rDictClassTransformer_DATE fit:  32%|███▏      | 3331937/10468770 [00:05<00:07, 1009463.98it/s]"
     ]
    },
    {
     "name": "stderr",
     "output_type": "stream",
     "text": [
      "\rDictClassTransformer_DATE fit:  33%|███▎      | 3453332/10468770 [00:05<00:06, 1063188.94it/s]"
     ]
    },
    {
     "name": "stderr",
     "output_type": "stream",
     "text": [
      "\rDictClassTransformer_DATE fit:  34%|███▍      | 3574096/10468770 [00:05<00:06, 1102760.31it/s]"
     ]
    },
    {
     "name": "stderr",
     "output_type": "stream",
     "text": [
      "\rDictClassTransformer_DATE fit:  35%|███▌      | 3695094/10468770 [00:05<00:05, 1132873.78it/s]"
     ]
    },
    {
     "name": "stderr",
     "output_type": "stream",
     "text": [
      "\rDictClassTransformer_DATE fit:  36%|███▋      | 3815720/10468770 [00:05<00:05, 1153934.16it/s]"
     ]
    },
    {
     "name": "stderr",
     "output_type": "stream",
     "text": [
      "\rDictClassTransformer_DATE fit:  38%|███▊      | 3940203/10468770 [00:05<00:05, 1179777.43it/s]"
     ]
    },
    {
     "name": "stderr",
     "output_type": "stream",
     "text": [
      "\rDictClassTransformer_DATE fit:  39%|███▉      | 4062755/10468770 [00:06<00:05, 1193134.61it/s]"
     ]
    },
    {
     "name": "stderr",
     "output_type": "stream",
     "text": [
      "\rDictClassTransformer_DATE fit:  40%|████      | 4188267/10468770 [00:06<00:05, 1211077.20it/s]"
     ]
    },
    {
     "name": "stderr",
     "output_type": "stream",
     "text": [
      "\rDictClassTransformer_DATE fit:  41%|████      | 4310108/10468770 [00:06<00:05, 1178423.84it/s]"
     ]
    },
    {
     "name": "stderr",
     "output_type": "stream",
     "text": [
      "\rDictClassTransformer_DATE fit:  42%|████▏     | 4428657/10468770 [00:06<00:05, 1153995.16it/s]"
     ]
    },
    {
     "name": "stderr",
     "output_type": "stream",
     "text": [
      "\rDictClassTransformer_DATE fit:  43%|████▎     | 4545194/10468770 [00:06<00:05, 1157382.09it/s]"
     ]
    },
    {
     "name": "stderr",
     "output_type": "stream",
     "text": [
      "\rDictClassTransformer_DATE fit:  45%|████▍     | 4661360/10468770 [00:06<00:05, 1139948.77it/s]"
     ]
    },
    {
     "name": "stderr",
     "output_type": "stream",
     "text": [
      "\rDictClassTransformer_DATE fit:  46%|████▌     | 4778312/10468770 [00:06<00:04, 1148659.01it/s]"
     ]
    },
    {
     "name": "stderr",
     "output_type": "stream",
     "text": [
      "\rDictClassTransformer_DATE fit:  47%|████▋     | 4894709/10468770 [00:06<00:04, 1153182.39it/s]"
     ]
    },
    {
     "name": "stderr",
     "output_type": "stream",
     "text": [
      "\rDictClassTransformer_DATE fit:  48%|████▊     | 5013620/10468770 [00:06<00:04, 1163727.70it/s]"
     ]
    },
    {
     "name": "stderr",
     "output_type": "stream",
     "text": [
      "\rDictClassTransformer_DATE fit:  49%|████▉     | 5139183/10468770 [00:06<00:04, 1189853.62it/s]"
     ]
    },
    {
     "name": "stderr",
     "output_type": "stream",
     "text": [
      "\rDictClassTransformer_DATE fit:  50%|█████     | 5258423/10468770 [00:07<00:04, 1089177.86it/s]"
     ]
    },
    {
     "name": "stderr",
     "output_type": "stream",
     "text": [
      "\rDictClassTransformer_DATE fit:  51%|█████▏    | 5370237/10468770 [00:07<00:04, 1097707.27it/s]"
     ]
    },
    {
     "name": "stderr",
     "output_type": "stream",
     "text": [
      "\rDictClassTransformer_DATE fit:  52%|█████▏    | 5481311/10468770 [00:07<00:08, 573243.25it/s] "
     ]
    },
    {
     "name": "stderr",
     "output_type": "stream",
     "text": [
      "\rDictClassTransformer_DATE fit:  53%|█████▎    | 5591332/10468770 [00:07<00:07, 669433.52it/s]"
     ]
    },
    {
     "name": "stderr",
     "output_type": "stream",
     "text": [
      "\rDictClassTransformer_DATE fit:  54%|█████▍    | 5701751/10468770 [00:07<00:06, 759096.87it/s]"
     ]
    },
    {
     "name": "stderr",
     "output_type": "stream",
     "text": [
      "\rDictClassTransformer_DATE fit:  56%|█████▌    | 5817211/10468770 [00:07<00:05, 846038.68it/s]"
     ]
    },
    {
     "name": "stderr",
     "output_type": "stream",
     "text": [
      "\rDictClassTransformer_DATE fit:  57%|█████▋    | 5936834/10468770 [00:07<00:04, 927492.37it/s]"
     ]
    },
    {
     "name": "stderr",
     "output_type": "stream",
     "text": [
      "\rDictClassTransformer_DATE fit:  58%|█████▊    | 6057203/10468770 [00:08<00:04, 996056.68it/s]"
     ]
    },
    {
     "name": "stderr",
     "output_type": "stream",
     "text": [
      "\rDictClassTransformer_DATE fit:  59%|█████▉    | 6169128/10468770 [00:08<00:04, 1022787.48it/s]"
     ]
    },
    {
     "name": "stderr",
     "output_type": "stream",
     "text": [
      "\rDictClassTransformer_DATE fit:  60%|██████    | 6286367/10468770 [00:08<00:03, 1063497.28it/s]"
     ]
    },
    {
     "name": "stderr",
     "output_type": "stream",
     "text": [
      "\rDictClassTransformer_DATE fit:  61%|██████    | 6407400/10468770 [00:08<00:03, 1103664.60it/s]"
     ]
    },
    {
     "name": "stderr",
     "output_type": "stream",
     "text": [
      "\rDictClassTransformer_DATE fit:  62%|██████▏   | 6525401/10468770 [00:08<00:03, 1125506.87it/s]"
     ]
    },
    {
     "name": "stderr",
     "output_type": "stream",
     "text": [
      "\rDictClassTransformer_DATE fit:  63%|██████▎   | 6641553/10468770 [00:08<00:03, 1135178.63it/s]"
     ]
    },
    {
     "name": "stderr",
     "output_type": "stream",
     "text": [
      "\rDictClassTransformer_DATE fit:  65%|██████▍   | 6760366/10468770 [00:08<00:03, 1150558.09it/s]"
     ]
    },
    {
     "name": "stderr",
     "output_type": "stream",
     "text": [
      "\rDictClassTransformer_DATE fit:  66%|██████▌   | 6880956/10468770 [00:08<00:03, 1166616.95it/s]"
     ]
    },
    {
     "name": "stderr",
     "output_type": "stream",
     "text": [
      "\rDictClassTransformer_DATE fit:  67%|██████▋   | 7006842/10468770 [00:08<00:02, 1192834.83it/s]"
     ]
    },
    {
     "name": "stderr",
     "output_type": "stream",
     "text": [
      "\rDictClassTransformer_DATE fit:  68%|██████▊   | 7127205/10468770 [00:08<00:02, 1192546.79it/s]"
     ]
    },
    {
     "name": "stderr",
     "output_type": "stream",
     "text": [
      "\rDictClassTransformer_DATE fit:  69%|██████▉   | 7247215/10468770 [00:09<00:03, 843805.57it/s] "
     ]
    },
    {
     "name": "stderr",
     "output_type": "stream",
     "text": [
      "\rDictClassTransformer_DATE fit:  70%|███████   | 7346269/10468770 [00:09<00:04, 625688.31it/s]"
     ]
    },
    {
     "name": "stderr",
     "output_type": "stream",
     "text": [
      "\rDictClassTransformer_DATE fit:  71%|███████   | 7427316/10468770 [00:09<00:05, 530288.30it/s]"
     ]
    },
    {
     "name": "stderr",
     "output_type": "stream",
     "text": [
      "\rDictClassTransformer_DATE fit:  72%|███████▏  | 7511832/10468770 [00:09<00:04, 597015.09it/s]"
     ]
    },
    {
     "name": "stderr",
     "output_type": "stream",
     "text": [
      "\rDictClassTransformer_DATE fit:  73%|███████▎  | 7620086/10468770 [00:09<00:04, 689832.11it/s]"
     ]
    },
    {
     "name": "stderr",
     "output_type": "stream",
     "text": [
      "\rDictClassTransformer_DATE fit:  74%|███████▍  | 7730257/10468770 [00:09<00:03, 776974.21it/s]"
     ]
    },
    {
     "name": "stderr",
     "output_type": "stream",
     "text": [
      "\rDictClassTransformer_DATE fit:  75%|███████▍  | 7842078/10468770 [00:10<00:03, 855271.28it/s]"
     ]
    },
    {
     "name": "stderr",
     "output_type": "stream",
     "text": [
      "\rDictClassTransformer_DATE fit:  76%|███████▌  | 7956407/10468770 [00:10<00:02, 925191.55it/s]"
     ]
    },
    {
     "name": "stderr",
     "output_type": "stream",
     "text": [
      "\rDictClassTransformer_DATE fit:  77%|███████▋  | 8063956/10468770 [00:10<00:02, 965674.99it/s]"
     ]
    },
    {
     "name": "stderr",
     "output_type": "stream",
     "text": [
      "\rDictClassTransformer_DATE fit:  78%|███████▊  | 8176477/10468770 [00:10<00:02, 1008574.04it/s]"
     ]
    },
    {
     "name": "stderr",
     "output_type": "stream",
     "text": [
      "\rDictClassTransformer_DATE fit:  79%|███████▉  | 8298913/10468770 [00:10<00:02, 1064875.10it/s]"
     ]
    },
    {
     "name": "stderr",
     "output_type": "stream",
     "text": [
      "\rDictClassTransformer_DATE fit:  80%|████████  | 8427284/10468770 [00:10<00:01, 1122266.77it/s]"
     ]
    },
    {
     "name": "stderr",
     "output_type": "stream",
     "text": [
      "\rDictClassTransformer_DATE fit:  82%|████████▏ | 8551658/10468770 [00:10<00:01, 1156139.33it/s]"
     ]
    },
    {
     "name": "stderr",
     "output_type": "stream",
     "text": [
      "\rDictClassTransformer_DATE fit:  83%|████████▎ | 8677499/10468770 [00:10<00:01, 1185027.82it/s]"
     ]
    },
    {
     "name": "stderr",
     "output_type": "stream",
     "text": [
      "\rDictClassTransformer_DATE fit:  84%|████████▍ | 8801606/10468770 [00:10<00:01, 1201298.74it/s]"
     ]
    },
    {
     "name": "stderr",
     "output_type": "stream",
     "text": [
      "\rDictClassTransformer_DATE fit:  85%|████████▌ | 8932871/10468770 [00:10<00:01, 1232668.19it/s]"
     ]
    },
    {
     "name": "stderr",
     "output_type": "stream",
     "text": [
      "\rDictClassTransformer_DATE fit:  87%|████████▋ | 9058820/10468770 [00:11<00:01, 1240590.87it/s]"
     ]
    },
    {
     "name": "stderr",
     "output_type": "stream",
     "text": [
      "\rDictClassTransformer_DATE fit:  88%|████████▊ | 9184496/10468770 [00:11<00:01, 1245397.22it/s]"
     ]
    },
    {
     "name": "stderr",
     "output_type": "stream",
     "text": [
      "\rDictClassTransformer_DATE fit:  89%|████████▉ | 9312703/10468770 [00:11<00:00, 1256172.81it/s]"
     ]
    },
    {
     "name": "stderr",
     "output_type": "stream",
     "text": [
      "\rDictClassTransformer_DATE fit:  90%|█████████ | 9439245/10468770 [00:11<00:00, 1258928.62it/s]"
     ]
    },
    {
     "name": "stderr",
     "output_type": "stream",
     "text": [
      "\rDictClassTransformer_DATE fit:  91%|█████████▏| 9572416/10468770 [00:11<00:00, 1279910.63it/s]"
     ]
    },
    {
     "name": "stderr",
     "output_type": "stream",
     "text": [
      "\rDictClassTransformer_DATE fit:  93%|█████████▎| 9701137/10468770 [00:11<00:00, 1282091.19it/s]"
     ]
    },
    {
     "name": "stderr",
     "output_type": "stream",
     "text": [
      "\rDictClassTransformer_DATE fit:  94%|█████████▍| 9829588/10468770 [00:11<00:00, 1273067.81it/s]"
     ]
    },
    {
     "name": "stderr",
     "output_type": "stream",
     "text": [
      "\rDictClassTransformer_DATE fit:  95%|█████████▌| 9959065/10468770 [00:11<00:00, 1279493.91it/s]"
     ]
    },
    {
     "name": "stderr",
     "output_type": "stream",
     "text": [
      "\rDictClassTransformer_DATE fit:  96%|█████████▋| 10088915/10468770 [00:11<00:00, 1285091.94it/s]"
     ]
    },
    {
     "name": "stderr",
     "output_type": "stream",
     "text": [
      "\rDictClassTransformer_DATE fit:  98%|█████████▊| 10217526/10468770 [00:12<00:00, 1231764.82it/s]"
     ]
    },
    {
     "name": "stderr",
     "output_type": "stream",
     "text": [
      "\rDictClassTransformer_DATE fit:  99%|█████████▉| 10342608/10468770 [00:12<00:00, 1237416.98it/s]"
     ]
    },
    {
     "name": "stderr",
     "output_type": "stream",
     "text": [
      "\rDictClassTransformer_DATE fit: 100%|█████████▉| 10466735/10468770 [00:12<00:00, 1220799.13it/s]"
     ]
    },
    {
     "name": "stderr",
     "output_type": "stream",
     "text": [
      "\rDictClassTransformer_DATE fit: 100%|██████████| 10468770/10468770 [00:12<00:00, 840929.23it/s] "
     ]
    },
    {
     "name": "stderr",
     "output_type": "stream",
     "text": [
      "\n\rDictClassTransformer_CARDINAL fit:   0%|          | 0/10468770 [00:00<?, ?it/s]"
     ]
    },
    {
     "name": "stderr",
     "output_type": "stream",
     "text": [
      "\rDictClassTransformer_CARDINAL fit:   1%|          | 58584/10468770 [00:01<03:30, 49445.91it/s]"
     ]
    },
    {
     "name": "stderr",
     "output_type": "stream",
     "text": [
      "\rDictClassTransformer_CARDINAL fit:   1%|          | 109015/10468770 [00:01<02:32, 67788.50it/s]"
     ]
    },
    {
     "name": "stderr",
     "output_type": "stream",
     "text": [
      "\rDictClassTransformer_CARDINAL fit:   2%|▏         | 174670/10468770 [00:01<01:51, 92737.11it/s]"
     ]
    },
    {
     "name": "stderr",
     "output_type": "stream",
     "text": [
      "\rDictClassTransformer_CARDINAL fit:   2%|▏         | 242132/10468770 [00:01<01:21, 125110.77it/s]"
     ]
    },
    {
     "name": "stderr",
     "output_type": "stream",
     "text": [
      "\rDictClassTransformer_CARDINAL fit:   3%|▎         | 310784/10468770 [00:01<01:01, 165781.61it/s]"
     ]
    },
    {
     "name": "stderr",
     "output_type": "stream",
     "text": [
      "\rDictClassTransformer_CARDINAL fit:   4%|▍         | 397621/10468770 [00:01<00:46, 218918.92it/s]"
     ]
    },
    {
     "name": "stderr",
     "output_type": "stream",
     "text": [
      "\rDictClassTransformer_CARDINAL fit:   5%|▍         | 501341/10468770 [00:01<00:34, 286798.09it/s]"
     ]
    },
    {
     "name": "stderr",
     "output_type": "stream",
     "text": [
      "\rDictClassTransformer_CARDINAL fit:   6%|▌         | 614205/10468770 [00:01<00:26, 369474.26it/s]"
     ]
    },
    {
     "name": "stderr",
     "output_type": "stream",
     "text": [
      "\rDictClassTransformer_CARDINAL fit:   7%|▋         | 730230/10468770 [00:01<00:20, 464435.58it/s]"
     ]
    },
    {
     "name": "stderr",
     "output_type": "stream",
     "text": [
      "\rDictClassTransformer_CARDINAL fit:   8%|▊         | 852459/10468770 [00:02<00:16, 570565.52it/s]"
     ]
    },
    {
     "name": "stderr",
     "output_type": "stream",
     "text": [
      "\rDictClassTransformer_CARDINAL fit:   9%|▉         | 964225/10468770 [00:02<00:14, 668774.10it/s]"
     ]
    },
    {
     "name": "stderr",
     "output_type": "stream",
     "text": [
      "\rDictClassTransformer_CARDINAL fit:  10%|█         | 1087773/10468770 [00:02<00:12, 775487.04it/s]"
     ]
    },
    {
     "name": "stderr",
     "output_type": "stream",
     "text": [
      "\rDictClassTransformer_CARDINAL fit:  11%|█▏        | 1201878/10468770 [00:02<00:10, 857942.21it/s]"
     ]
    },
    {
     "name": "stderr",
     "output_type": "stream",
     "text": [
      "\rDictClassTransformer_CARDINAL fit:  13%|█▎        | 1314664/10468770 [00:02<00:09, 924300.57it/s]"
     ]
    },
    {
     "name": "stderr",
     "output_type": "stream",
     "text": [
      "\rDictClassTransformer_CARDINAL fit:  14%|█▎        | 1429517/10468770 [00:02<00:09, 981802.20it/s]"
     ]
    },
    {
     "name": "stderr",
     "output_type": "stream",
     "text": [
      "\rDictClassTransformer_CARDINAL fit:  15%|█▍        | 1544583/10468770 [00:02<00:08, 1027015.78it/s]"
     ]
    },
    {
     "name": "stderr",
     "output_type": "stream",
     "text": [
      "\rDictClassTransformer_CARDINAL fit:  16%|█▌        | 1660907/10468770 [00:02<00:08, 1064408.45it/s]"
     ]
    },
    {
     "name": "stderr",
     "output_type": "stream",
     "text": [
      "\rDictClassTransformer_CARDINAL fit:  17%|█▋        | 1782964/10468770 [00:02<00:07, 1106890.44it/s]"
     ]
    },
    {
     "name": "stderr",
     "output_type": "stream",
     "text": [
      "\rDictClassTransformer_CARDINAL fit:  18%|█▊        | 1899676/10468770 [00:02<00:07, 1118513.54it/s]"
     ]
    },
    {
     "name": "stderr",
     "output_type": "stream",
     "text": [
      "\rDictClassTransformer_CARDINAL fit:  19%|█▉        | 2021426/10468770 [00:03<00:07, 1146476.70it/s]"
     ]
    },
    {
     "name": "stderr",
     "output_type": "stream",
     "text": [
      "\rDictClassTransformer_CARDINAL fit:  20%|██        | 2139219/10468770 [00:03<00:07, 1141250.84it/s]"
     ]
    },
    {
     "name": "stderr",
     "output_type": "stream",
     "text": [
      "\rDictClassTransformer_CARDINAL fit:  22%|██▏       | 2255551/10468770 [00:04<00:30, 266052.91it/s] "
     ]
    },
    {
     "name": "stderr",
     "output_type": "stream",
     "text": [
      "\rDictClassTransformer_CARDINAL fit:  23%|██▎       | 2362496/10468770 [00:04<00:23, 343451.24it/s]"
     ]
    },
    {
     "name": "stderr",
     "output_type": "stream",
     "text": [
      "\rDictClassTransformer_CARDINAL fit:  24%|██▎       | 2471619/10468770 [00:04<00:18, 432328.27it/s]"
     ]
    },
    {
     "name": "stderr",
     "output_type": "stream",
     "text": [
      "\rDictClassTransformer_CARDINAL fit:  25%|██▍       | 2579604/10468770 [00:04<00:14, 527158.67it/s]"
     ]
    },
    {
     "name": "stderr",
     "output_type": "stream",
     "text": [
      "\rDictClassTransformer_CARDINAL fit:  26%|██▌       | 2679546/10468770 [00:04<00:12, 611987.52it/s]"
     ]
    },
    {
     "name": "stderr",
     "output_type": "stream",
     "text": [
      "\rDictClassTransformer_CARDINAL fit:  27%|██▋       | 2778903/10468770 [00:04<00:11, 688958.85it/s]"
     ]
    },
    {
     "name": "stderr",
     "output_type": "stream",
     "text": [
      "\rDictClassTransformer_CARDINAL fit:  27%|██▋       | 2877707/10468770 [00:05<00:10, 717625.06it/s]"
     ]
    },
    {
     "name": "stderr",
     "output_type": "stream",
     "text": [
      "\rDictClassTransformer_CARDINAL fit:  29%|██▊       | 2984868/10468770 [00:05<00:09, 796561.78it/s]"
     ]
    },
    {
     "name": "stderr",
     "output_type": "stream",
     "text": [
      "\rDictClassTransformer_CARDINAL fit:  30%|██▉       | 3096649/10468770 [00:05<00:08, 871717.21it/s]"
     ]
    },
    {
     "name": "stderr",
     "output_type": "stream",
     "text": [
      "\rDictClassTransformer_CARDINAL fit:  31%|███       | 3219488/10468770 [00:05<00:07, 954895.36it/s]"
     ]
    },
    {
     "name": "stderr",
     "output_type": "stream",
     "text": [
      "\rDictClassTransformer_CARDINAL fit:  32%|███▏      | 3337647/10468770 [00:05<00:07, 1013210.89it/s]"
     ]
    },
    {
     "name": "stderr",
     "output_type": "stream",
     "text": [
      "\rDictClassTransformer_CARDINAL fit:  33%|███▎      | 3448680/10468770 [00:05<00:06, 1020370.92it/s]"
     ]
    },
    {
     "name": "stderr",
     "output_type": "stream",
     "text": [
      "\rDictClassTransformer_CARDINAL fit:  34%|███▍      | 3557528/10468770 [00:05<00:07, 944100.94it/s] "
     ]
    },
    {
     "name": "stderr",
     "output_type": "stream",
     "text": [
      "\rDictClassTransformer_CARDINAL fit:  35%|███▌      | 3667739/10468770 [00:05<00:06, 986530.30it/s]"
     ]
    },
    {
     "name": "stderr",
     "output_type": "stream",
     "text": [
      "\rDictClassTransformer_CARDINAL fit:  36%|███▌      | 3771019/10468770 [00:05<00:07, 889617.21it/s]"
     ]
    },
    {
     "name": "stderr",
     "output_type": "stream",
     "text": [
      "\rDictClassTransformer_CARDINAL fit:  37%|███▋      | 3865689/10468770 [00:06<00:07, 906000.60it/s]"
     ]
    },
    {
     "name": "stderr",
     "output_type": "stream",
     "text": [
      "\rDictClassTransformer_CARDINAL fit:  38%|███▊      | 3964806/10468770 [00:06<00:06, 929971.01it/s]"
     ]
    },
    {
     "name": "stderr",
     "output_type": "stream",
     "text": [
      "\rDictClassTransformer_CARDINAL fit:  39%|███▉      | 4060485/10468770 [00:06<00:06, 937477.21it/s]"
     ]
    },
    {
     "name": "stderr",
     "output_type": "stream",
     "text": [
      "\rDictClassTransformer_CARDINAL fit:  40%|███▉      | 4156125/10468770 [00:06<00:07, 886305.26it/s]"
     ]
    },
    {
     "name": "stderr",
     "output_type": "stream",
     "text": [
      "\rDictClassTransformer_CARDINAL fit:  41%|████      | 4246658/10468770 [00:06<00:12, 508867.56it/s]"
     ]
    },
    {
     "name": "stderr",
     "output_type": "stream",
     "text": [
      "\rDictClassTransformer_CARDINAL fit:  42%|████▏     | 4347173/10468770 [00:06<00:10, 597347.71it/s]"
     ]
    },
    {
     "name": "stderr",
     "output_type": "stream",
     "text": [
      "\rDictClassTransformer_CARDINAL fit:  43%|████▎     | 4457738/10468770 [00:06<00:08, 692912.64it/s]"
     ]
    },
    {
     "name": "stderr",
     "output_type": "stream",
     "text": [
      "\rDictClassTransformer_CARDINAL fit:  44%|████▎     | 4567888/10468770 [00:07<00:07, 779674.46it/s]"
     ]
    },
    {
     "name": "stderr",
     "output_type": "stream",
     "text": [
      "\rDictClassTransformer_CARDINAL fit:  45%|████▍     | 4679051/10468770 [00:07<00:06, 856395.37it/s]"
     ]
    },
    {
     "name": "stderr",
     "output_type": "stream",
     "text": [
      "\rDictClassTransformer_CARDINAL fit:  46%|████▌     | 4798653/10468770 [00:07<00:06, 936142.40it/s]"
     ]
    },
    {
     "name": "stderr",
     "output_type": "stream",
     "text": [
      "\rDictClassTransformer_CARDINAL fit:  47%|████▋     | 4919529/10468770 [00:07<00:05, 1004076.71it/s]"
     ]
    },
    {
     "name": "stderr",
     "output_type": "stream",
     "text": [
      "\rDictClassTransformer_CARDINAL fit:  48%|████▊     | 5036672/10468770 [00:07<00:05, 1049036.69it/s]"
     ]
    },
    {
     "name": "stderr",
     "output_type": "stream",
     "text": [
      "\rDictClassTransformer_CARDINAL fit:  49%|████▉     | 5158259/10468770 [00:07<00:04, 1094070.51it/s]"
     ]
    },
    {
     "name": "stderr",
     "output_type": "stream",
     "text": [
      "\rDictClassTransformer_CARDINAL fit:  50%|█████     | 5273452/10468770 [00:07<00:04, 1090411.81it/s]"
     ]
    },
    {
     "name": "stderr",
     "output_type": "stream",
     "text": [
      "\rDictClassTransformer_CARDINAL fit:  52%|█████▏    | 5394544/10468770 [00:07<00:04, 1123965.60it/s]"
     ]
    },
    {
     "name": "stderr",
     "output_type": "stream",
     "text": [
      "\rDictClassTransformer_CARDINAL fit:  53%|█████▎    | 5510038/10468770 [00:07<00:04, 1015978.37it/s]"
     ]
    },
    {
     "name": "stderr",
     "output_type": "stream",
     "text": [
      "\rDictClassTransformer_CARDINAL fit:  54%|█████▍    | 5628812/10468770 [00:07<00:04, 1062051.02it/s]"
     ]
    },
    {
     "name": "stderr",
     "output_type": "stream",
     "text": [
      "\rDictClassTransformer_CARDINAL fit:  55%|█████▍    | 5738464/10468770 [00:08<00:04, 1035602.07it/s]"
     ]
    },
    {
     "name": "stderr",
     "output_type": "stream",
     "text": [
      "\rDictClassTransformer_CARDINAL fit:  56%|█████▌    | 5844583/10468770 [00:08<00:04, 995372.15it/s] "
     ]
    },
    {
     "name": "stderr",
     "output_type": "stream",
     "text": [
      "\rDictClassTransformer_CARDINAL fit:  57%|█████▋    | 5946246/10468770 [00:08<00:04, 990669.15it/s]"
     ]
    },
    {
     "name": "stderr",
     "output_type": "stream",
     "text": [
      "\rDictClassTransformer_CARDINAL fit:  58%|█████▊    | 6046806/10468770 [00:08<00:04, 988854.61it/s]"
     ]
    },
    {
     "name": "stderr",
     "output_type": "stream",
     "text": [
      "\rDictClassTransformer_CARDINAL fit:  59%|█████▊    | 6146738/10468770 [00:08<00:04, 981955.67it/s]"
     ]
    },
    {
     "name": "stderr",
     "output_type": "stream",
     "text": [
      "\rDictClassTransformer_CARDINAL fit:  60%|█████▉    | 6245677/10468770 [00:08<00:04, 980204.88it/s]"
     ]
    },
    {
     "name": "stderr",
     "output_type": "stream",
     "text": [
      "\rDictClassTransformer_CARDINAL fit:  61%|██████    | 6350575/10468770 [00:08<00:04, 999871.09it/s]"
     ]
    },
    {
     "name": "stderr",
     "output_type": "stream",
     "text": [
      "\rDictClassTransformer_CARDINAL fit:  62%|██████▏   | 6453972/10468770 [00:08<00:03, 1009859.71it/s]"
     ]
    },
    {
     "name": "stderr",
     "output_type": "stream",
     "text": [
      "\rDictClassTransformer_CARDINAL fit:  63%|██████▎   | 6555305/10468770 [00:08<00:03, 994987.61it/s] "
     ]
    },
    {
     "name": "stderr",
     "output_type": "stream",
     "text": [
      "\rDictClassTransformer_CARDINAL fit:  64%|██████▎   | 6655096/10468770 [00:09<00:04, 830811.33it/s]"
     ]
    },
    {
     "name": "stderr",
     "output_type": "stream",
     "text": [
      "\rDictClassTransformer_CARDINAL fit:  64%|██████▍   | 6751980/10468770 [00:09<00:04, 867903.97it/s]"
     ]
    },
    {
     "name": "stderr",
     "output_type": "stream",
     "text": [
      "\rDictClassTransformer_CARDINAL fit:  65%|██████▌   | 6842540/10468770 [00:09<00:05, 704854.68it/s]"
     ]
    },
    {
     "name": "stderr",
     "output_type": "stream",
     "text": [
      "\rDictClassTransformer_CARDINAL fit:  66%|██████▋   | 6947928/10468770 [00:09<00:04, 782606.89it/s]"
     ]
    },
    {
     "name": "stderr",
     "output_type": "stream",
     "text": [
      "\rDictClassTransformer_CARDINAL fit:  67%|██████▋   | 7056039/10468770 [00:09<00:03, 853283.01it/s]"
     ]
    },
    {
     "name": "stderr",
     "output_type": "stream",
     "text": [
      "\rDictClassTransformer_CARDINAL fit:  68%|██████▊   | 7166513/10468770 [00:09<00:03, 915817.20it/s]"
     ]
    },
    {
     "name": "stderr",
     "output_type": "stream",
     "text": [
      "\rDictClassTransformer_CARDINAL fit:  69%|██████▉   | 7271706/10468770 [00:09<00:03, 952800.91it/s]"
     ]
    },
    {
     "name": "stderr",
     "output_type": "stream",
     "text": [
      "\rDictClassTransformer_CARDINAL fit:  70%|███████   | 7371950/10468770 [00:09<00:03, 964914.27it/s]"
     ]
    },
    {
     "name": "stderr",
     "output_type": "stream",
     "text": [
      "\rDictClassTransformer_CARDINAL fit:  71%|███████▏  | 7473727/10468770 [00:09<00:03, 980182.99it/s]"
     ]
    },
    {
     "name": "stderr",
     "output_type": "stream",
     "text": [
      "\rDictClassTransformer_CARDINAL fit:  72%|███████▏  | 7578372/10468770 [00:10<00:02, 999164.38it/s]"
     ]
    },
    {
     "name": "stderr",
     "output_type": "stream",
     "text": [
      "\rDictClassTransformer_CARDINAL fit:  73%|███████▎  | 7687587/10468770 [00:10<00:02, 1025351.48it/s]"
     ]
    },
    {
     "name": "stderr",
     "output_type": "stream",
     "text": [
      "\rDictClassTransformer_CARDINAL fit:  74%|███████▍  | 7795592/10468770 [00:10<00:02, 1041169.90it/s]"
     ]
    },
    {
     "name": "stderr",
     "output_type": "stream",
     "text": [
      "\rDictClassTransformer_CARDINAL fit:  76%|███████▌  | 7905090/10468770 [00:10<00:02, 1056745.95it/s]"
     ]
    },
    {
     "name": "stderr",
     "output_type": "stream",
     "text": [
      "\rDictClassTransformer_CARDINAL fit:  77%|███████▋  | 8015068/10468770 [00:10<00:02, 1069294.92it/s]"
     ]
    },
    {
     "name": "stderr",
     "output_type": "stream",
     "text": [
      "\rDictClassTransformer_CARDINAL fit:  78%|███████▊  | 8124860/10468770 [00:10<00:02, 1077721.76it/s]"
     ]
    },
    {
     "name": "stderr",
     "output_type": "stream",
     "text": [
      "\rDictClassTransformer_CARDINAL fit:  79%|███████▉  | 8248786/10468770 [00:10<00:01, 1121580.95it/s]"
     ]
    },
    {
     "name": "stderr",
     "output_type": "stream",
     "text": [
      "\rDictClassTransformer_CARDINAL fit:  80%|███████▉  | 8368585/10468770 [00:10<00:01, 1143457.47it/s]"
     ]
    },
    {
     "name": "stderr",
     "output_type": "stream",
     "text": [
      "\rDictClassTransformer_CARDINAL fit:  81%|████████  | 8493665/10468770 [00:10<00:01, 1173672.53it/s]"
     ]
    },
    {
     "name": "stderr",
     "output_type": "stream",
     "text": [
      "\rDictClassTransformer_CARDINAL fit:  82%|████████▏ | 8616277/10468770 [00:10<00:01, 1188926.55it/s]"
     ]
    },
    {
     "name": "stderr",
     "output_type": "stream",
     "text": [
      "\rDictClassTransformer_CARDINAL fit:  84%|████████▎ | 8744275/10468770 [00:11<00:01, 1214852.21it/s]"
     ]
    },
    {
     "name": "stderr",
     "output_type": "stream",
     "text": [
      "\rDictClassTransformer_CARDINAL fit:  85%|████████▍ | 8871819/10468770 [00:11<00:01, 1232412.34it/s]"
     ]
    },
    {
     "name": "stderr",
     "output_type": "stream",
     "text": [
      "\rDictClassTransformer_CARDINAL fit:  86%|████████▌ | 8995465/10468770 [00:11<00:01, 1198040.74it/s]"
     ]
    },
    {
     "name": "stderr",
     "output_type": "stream",
     "text": [
      "\rDictClassTransformer_CARDINAL fit:  87%|████████▋ | 9121681/10468770 [00:11<00:01, 1216578.87it/s]"
     ]
    },
    {
     "name": "stderr",
     "output_type": "stream",
     "text": [
      "\rDictClassTransformer_CARDINAL fit:  88%|████████▊ | 9243754/10468770 [00:11<00:01, 1215118.99it/s]"
     ]
    },
    {
     "name": "stderr",
     "output_type": "stream",
     "text": [
      "\rDictClassTransformer_CARDINAL fit:  90%|████████▉ | 9371830/10468770 [00:11<00:00, 1234093.27it/s]"
     ]
    },
    {
     "name": "stderr",
     "output_type": "stream",
     "text": [
      "\rDictClassTransformer_CARDINAL fit:  91%|█████████ | 9500667/10468770 [00:11<00:00, 1249885.97it/s]"
     ]
    },
    {
     "name": "stderr",
     "output_type": "stream",
     "text": [
      "\rDictClassTransformer_CARDINAL fit:  92%|█████████▏| 9628331/10468770 [00:11<00:00, 1257790.50it/s]"
     ]
    },
    {
     "name": "stderr",
     "output_type": "stream",
     "text": [
      "\rDictClassTransformer_CARDINAL fit:  93%|█████████▎| 9754291/10468770 [00:11<00:00, 1225182.96it/s]"
     ]
    },
    {
     "name": "stderr",
     "output_type": "stream",
     "text": [
      "\rDictClassTransformer_CARDINAL fit:  94%|█████████▍| 9877122/10468770 [00:11<00:00, 1138941.00it/s]"
     ]
    },
    {
     "name": "stderr",
     "output_type": "stream",
     "text": [
      "\rDictClassTransformer_CARDINAL fit:  95%|█████████▌| 9992452/10468770 [00:12<00:00, 1103652.64it/s]"
     ]
    },
    {
     "name": "stderr",
     "output_type": "stream",
     "text": [
      "\rDictClassTransformer_CARDINAL fit:  97%|█████████▋| 10104060/10468770 [00:12<00:00, 1093123.23it/s]"
     ]
    },
    {
     "name": "stderr",
     "output_type": "stream",
     "text": [
      "\rDictClassTransformer_CARDINAL fit:  98%|█████████▊| 10214495/10468770 [00:12<00:00, 1096466.75it/s]"
     ]
    },
    {
     "name": "stderr",
     "output_type": "stream",
     "text": [
      "\rDictClassTransformer_CARDINAL fit:  99%|█████████▊| 10324770/10468770 [00:12<00:00, 1058569.06it/s]"
     ]
    },
    {
     "name": "stderr",
     "output_type": "stream",
     "text": [
      "\rDictClassTransformer_CARDINAL fit: 100%|█████████▉| 10432374/10468770 [00:12<00:00, 1063750.03it/s]"
     ]
    },
    {
     "name": "stderr",
     "output_type": "stream",
     "text": [
      "\rDictClassTransformer_CARDINAL fit: 100%|██████████| 10468770/10468770 [00:12<00:00, 817360.92it/s] "
     ]
    },
    {
     "name": "stderr",
     "output_type": "stream",
     "text": [
      "\n"
     ]
    },
    {
     "name": "stderr",
     "output_type": "stream",
     "text": [
      "\rDictClassTransformer_MEASURE fit:   0%|          | 0/10468770 [00:00<?, ?it/s]"
     ]
    },
    {
     "name": "stderr",
     "output_type": "stream",
     "text": [
      "\rDictClassTransformer_MEASURE fit:   1%|          | 85718/10468770 [00:00<00:12, 857084.78it/s]"
     ]
    },
    {
     "name": "stderr",
     "output_type": "stream",
     "text": [
      "\rDictClassTransformer_MEASURE fit:   2%|▏         | 178974/10468770 [00:00<00:11, 878409.92it/s]"
     ]
    },
    {
     "name": "stderr",
     "output_type": "stream",
     "text": [
      "\rDictClassTransformer_MEASURE fit:   2%|▏         | 224950/10468770 [00:01<01:19, 129174.36it/s]"
     ]
    },
    {
     "name": "stderr",
     "output_type": "stream",
     "text": [
      "\rDictClassTransformer_MEASURE fit:   3%|▎         | 320280/10468770 [00:01<00:58, 174406.48it/s]"
     ]
    },
    {
     "name": "stderr",
     "output_type": "stream",
     "text": [
      "\rDictClassTransformer_MEASURE fit:   4%|▍         | 419293/10468770 [00:01<00:43, 231663.56it/s]"
     ]
    },
    {
     "name": "stderr",
     "output_type": "stream",
     "text": [
      "\rDictClassTransformer_MEASURE fit:   5%|▌         | 536982/10468770 [00:01<00:32, 305200.67it/s]"
     ]
    },
    {
     "name": "stderr",
     "output_type": "stream",
     "text": [
      "\rDictClassTransformer_MEASURE fit:   6%|▌         | 649507/10468770 [00:01<00:25, 390597.13it/s]"
     ]
    },
    {
     "name": "stderr",
     "output_type": "stream",
     "text": [
      "\rDictClassTransformer_MEASURE fit:   7%|▋         | 766037/10468770 [00:01<00:19, 487906.58it/s]"
     ]
    },
    {
     "name": "stderr",
     "output_type": "stream",
     "text": [
      "\rDictClassTransformer_MEASURE fit:   8%|▊         | 864608/10468770 [00:03<00:52, 182249.93it/s]"
     ]
    },
    {
     "name": "stderr",
     "output_type": "stream",
     "text": [
      "\rDictClassTransformer_MEASURE fit:   9%|▉         | 952124/10468770 [00:03<00:39, 239024.20it/s]"
     ]
    },
    {
     "name": "stderr",
     "output_type": "stream",
     "text": [
      "\rDictClassTransformer_MEASURE fit:  10%|█         | 1053069/10468770 [00:03<00:30, 310003.91it/s]"
     ]
    },
    {
     "name": "stderr",
     "output_type": "stream",
     "text": [
      "\rDictClassTransformer_MEASURE fit:  11%|█         | 1164067/10468770 [00:03<00:23, 395520.47it/s]"
     ]
    },
    {
     "name": "stderr",
     "output_type": "stream",
     "text": [
      "\rDictClassTransformer_MEASURE fit:  12%|█▏        | 1285324/10468770 [00:03<00:18, 495729.19it/s]"
     ]
    },
    {
     "name": "stderr",
     "output_type": "stream",
     "text": [
      "\rDictClassTransformer_MEASURE fit:  13%|█▎        | 1410185/10468770 [00:03<00:14, 605206.42it/s]"
     ]
    },
    {
     "name": "stderr",
     "output_type": "stream",
     "text": [
      "\rDictClassTransformer_MEASURE fit:  15%|█▍        | 1539341/10468770 [00:03<00:12, 719989.08it/s]"
     ]
    },
    {
     "name": "stderr",
     "output_type": "stream",
     "text": [
      "\rDictClassTransformer_MEASURE fit:  16%|█▌        | 1664143/10468770 [00:03<00:10, 824660.79it/s]"
     ]
    },
    {
     "name": "stderr",
     "output_type": "stream",
     "text": [
      "\rDictClassTransformer_MEASURE fit:  17%|█▋        | 1786417/10468770 [00:03<00:09, 913922.39it/s]"
     ]
    },
    {
     "name": "stderr",
     "output_type": "stream",
     "text": [
      "\rDictClassTransformer_MEASURE fit:  18%|█▊        | 1913393/10468770 [00:03<00:08, 997808.29it/s]"
     ]
    },
    {
     "name": "stderr",
     "output_type": "stream",
     "text": [
      "\rDictClassTransformer_MEASURE fit:  19%|█▉        | 2036889/10468770 [00:04<00:07, 1058805.24it/s]"
     ]
    },
    {
     "name": "stderr",
     "output_type": "stream",
     "text": [
      "\rDictClassTransformer_MEASURE fit:  21%|██        | 2166489/10468770 [00:04<00:07, 1120314.43it/s]"
     ]
    },
    {
     "name": "stderr",
     "output_type": "stream",
     "text": [
      "\rDictClassTransformer_MEASURE fit:  22%|██▏       | 2292840/10468770 [00:04<00:07, 1159742.41it/s]"
     ]
    },
    {
     "name": "stderr",
     "output_type": "stream",
     "text": [
      "\rDictClassTransformer_MEASURE fit:  23%|██▎       | 2420694/10468770 [00:04<00:06, 1192996.70it/s]"
     ]
    },
    {
     "name": "stderr",
     "output_type": "stream",
     "text": [
      "\rDictClassTransformer_MEASURE fit:  24%|██▍       | 2551122/10468770 [00:04<00:06, 1224332.43it/s]"
     ]
    },
    {
     "name": "stderr",
     "output_type": "stream",
     "text": [
      "\rDictClassTransformer_MEASURE fit:  26%|██▌       | 2684773/10468770 [00:04<00:06, 1255946.75it/s]"
     ]
    },
    {
     "name": "stderr",
     "output_type": "stream",
     "text": [
      "\rDictClassTransformer_MEASURE fit:  27%|██▋       | 2813887/10468770 [00:04<00:06, 1245087.38it/s]"
     ]
    },
    {
     "name": "stderr",
     "output_type": "stream",
     "text": [
      "\rDictClassTransformer_MEASURE fit:  28%|██▊       | 2943006/10468770 [00:04<00:05, 1258565.58it/s]"
     ]
    },
    {
     "name": "stderr",
     "output_type": "stream",
     "text": [
      "\rDictClassTransformer_MEASURE fit:  29%|██▉       | 3071874/10468770 [00:04<00:05, 1267450.54it/s]"
     ]
    },
    {
     "name": "stderr",
     "output_type": "stream",
     "text": [
      "\rDictClassTransformer_MEASURE fit:  31%|███       | 3199876/10468770 [00:05<00:05, 1253596.68it/s]"
     ]
    },
    {
     "name": "stderr",
     "output_type": "stream",
     "text": [
      "\rDictClassTransformer_MEASURE fit:  32%|███▏      | 3326150/10468770 [00:05<00:05, 1243336.55it/s]"
     ]
    },
    {
     "name": "stderr",
     "output_type": "stream",
     "text": [
      "\rDictClassTransformer_MEASURE fit:  33%|███▎      | 3451143/10468770 [00:05<00:05, 1195637.19it/s]"
     ]
    },
    {
     "name": "stderr",
     "output_type": "stream",
     "text": [
      "\rDictClassTransformer_MEASURE fit:  34%|███▍      | 3571561/10468770 [00:05<00:05, 1195664.55it/s]"
     ]
    },
    {
     "name": "stderr",
     "output_type": "stream",
     "text": [
      "\rDictClassTransformer_MEASURE fit:  35%|███▌      | 3692473/10468770 [00:05<00:05, 1199665.72it/s]"
     ]
    },
    {
     "name": "stderr",
     "output_type": "stream",
     "text": [
      "\rDictClassTransformer_MEASURE fit:  36%|███▋      | 3819755/10468770 [00:05<00:05, 1220710.56it/s]"
     ]
    },
    {
     "name": "stderr",
     "output_type": "stream",
     "text": [
      "\rDictClassTransformer_MEASURE fit:  38%|███▊      | 3948305/10468770 [00:05<00:05, 1239450.62it/s]"
     ]
    },
    {
     "name": "stderr",
     "output_type": "stream",
     "text": [
      "\rDictClassTransformer_MEASURE fit:  39%|███▉      | 4075257/10468770 [00:05<00:05, 1248317.64it/s]"
     ]
    },
    {
     "name": "stderr",
     "output_type": "stream",
     "text": [
      "\rDictClassTransformer_MEASURE fit:  40%|████      | 4200342/10468770 [00:05<00:05, 1219138.18it/s]"
     ]
    },
    {
     "name": "stderr",
     "output_type": "stream",
     "text": [
      "\rDictClassTransformer_MEASURE fit:  41%|████▏     | 4322584/10468770 [00:05<00:05, 1210227.62it/s]"
     ]
    },
    {
     "name": "stderr",
     "output_type": "stream",
     "text": [
      "\rDictClassTransformer_MEASURE fit:  43%|████▎     | 4452123/10468770 [00:06<00:04, 1234573.90it/s]"
     ]
    },
    {
     "name": "stderr",
     "output_type": "stream",
     "text": [
      "\rDictClassTransformer_MEASURE fit:  44%|████▍     | 4583864/10468770 [00:06<00:04, 1258305.95it/s]"
     ]
    },
    {
     "name": "stderr",
     "output_type": "stream",
     "text": [
      "\rDictClassTransformer_MEASURE fit:  45%|████▍     | 4710010/10468770 [00:06<00:07, 741521.83it/s] "
     ]
    },
    {
     "name": "stderr",
     "output_type": "stream",
     "text": [
      "\rDictClassTransformer_MEASURE fit:  46%|████▌     | 4820851/10468770 [00:06<00:06, 823271.91it/s]"
     ]
    },
    {
     "name": "stderr",
     "output_type": "stream",
     "text": [
      "\rDictClassTransformer_MEASURE fit:  47%|████▋     | 4934236/10468770 [00:06<00:06, 896978.42it/s]"
     ]
    },
    {
     "name": "stderr",
     "output_type": "stream",
     "text": [
      "\rDictClassTransformer_MEASURE fit:  48%|████▊     | 5055263/10468770 [00:06<00:05, 972499.17it/s]"
     ]
    },
    {
     "name": "stderr",
     "output_type": "stream",
     "text": [
      "\rDictClassTransformer_MEASURE fit:  49%|████▉     | 5181002/10468770 [00:06<00:05, 1043422.27it/s]"
     ]
    },
    {
     "name": "stderr",
     "output_type": "stream",
     "text": [
      "\rDictClassTransformer_MEASURE fit:  51%|█████     | 5308017/10468770 [00:06<00:04, 1102458.12it/s]"
     ]
    },
    {
     "name": "stderr",
     "output_type": "stream",
     "text": [
      "\rDictClassTransformer_MEASURE fit:  52%|█████▏    | 5441586/10468770 [00:07<00:04, 1163400.59it/s]"
     ]
    },
    {
     "name": "stderr",
     "output_type": "stream",
     "text": [
      "\rDictClassTransformer_MEASURE fit:  53%|█████▎    | 5574049/10468770 [00:07<00:04, 1207489.29it/s]"
     ]
    },
    {
     "name": "stderr",
     "output_type": "stream",
     "text": [
      "\rDictClassTransformer_MEASURE fit:  54%|█████▍    | 5700001/10468770 [00:07<00:03, 1220108.02it/s]"
     ]
    },
    {
     "name": "stderr",
     "output_type": "stream",
     "text": [
      "\rDictClassTransformer_MEASURE fit:  56%|█████▌    | 5826886/10468770 [00:07<00:03, 1234332.31it/s]"
     ]
    },
    {
     "name": "stderr",
     "output_type": "stream",
     "text": [
      "\rDictClassTransformer_MEASURE fit:  57%|█████▋    | 5955265/10468770 [00:07<00:03, 1248761.69it/s]"
     ]
    },
    {
     "name": "stderr",
     "output_type": "stream",
     "text": [
      "\rDictClassTransformer_MEASURE fit:  58%|█████▊    | 6082010/10468770 [00:07<00:03, 1194332.04it/s]"
     ]
    },
    {
     "name": "stderr",
     "output_type": "stream",
     "text": [
      "\rDictClassTransformer_MEASURE fit:  59%|█████▉    | 6207607/10468770 [00:07<00:03, 1212174.85it/s]"
     ]
    },
    {
     "name": "stderr",
     "output_type": "stream",
     "text": [
      "\rDictClassTransformer_MEASURE fit:  61%|██████    | 6337061/10468770 [00:07<00:03, 1235759.44it/s]"
     ]
    },
    {
     "name": "stderr",
     "output_type": "stream",
     "text": [
      "\rDictClassTransformer_MEASURE fit:  62%|██████▏   | 6468052/10468770 [00:07<00:03, 1257104.81it/s]"
     ]
    },
    {
     "name": "stderr",
     "output_type": "stream",
     "text": [
      "\rDictClassTransformer_MEASURE fit:  63%|██████▎   | 6602082/10468770 [00:07<00:03, 1280957.80it/s]"
     ]
    },
    {
     "name": "stderr",
     "output_type": "stream",
     "text": [
      "\rDictClassTransformer_MEASURE fit:  64%|██████▍   | 6734400/10468770 [00:08<00:02, 1293334.63it/s]"
     ]
    },
    {
     "name": "stderr",
     "output_type": "stream",
     "text": [
      "\rDictClassTransformer_MEASURE fit:  66%|██████▌   | 6864242/10468770 [00:08<00:02, 1280558.77it/s]"
     ]
    },
    {
     "name": "stderr",
     "output_type": "stream",
     "text": [
      "\rDictClassTransformer_MEASURE fit:  67%|██████▋   | 6992683/10468770 [00:08<00:02, 1277760.36it/s]"
     ]
    },
    {
     "name": "stderr",
     "output_type": "stream",
     "text": [
      "\rDictClassTransformer_MEASURE fit:  68%|██████▊   | 7131169/10468770 [00:08<00:02, 1308109.05it/s]"
     ]
    },
    {
     "name": "stderr",
     "output_type": "stream",
     "text": [
      "\rDictClassTransformer_MEASURE fit:  69%|██████▉   | 7267171/10468770 [00:08<00:02, 1323258.10it/s]"
     ]
    },
    {
     "name": "stderr",
     "output_type": "stream",
     "text": [
      "\rDictClassTransformer_MEASURE fit:  71%|███████   | 7399797/10468770 [00:08<00:02, 1309798.97it/s]"
     ]
    },
    {
     "name": "stderr",
     "output_type": "stream",
     "text": [
      "\rDictClassTransformer_MEASURE fit:  72%|███████▏  | 7531018/10468770 [00:08<00:02, 1229068.32it/s]"
     ]
    },
    {
     "name": "stderr",
     "output_type": "stream",
     "text": [
      "\rDictClassTransformer_MEASURE fit:  73%|███████▎  | 7655109/10468770 [00:08<00:02, 1205434.36it/s]"
     ]
    },
    {
     "name": "stderr",
     "output_type": "stream",
     "text": [
      "\rDictClassTransformer_MEASURE fit:  74%|███████▍  | 7779240/10468770 [00:08<00:02, 1215974.34it/s]"
     ]
    },
    {
     "name": "stderr",
     "output_type": "stream",
     "text": [
      "\rDictClassTransformer_MEASURE fit:  76%|███████▌  | 7910773/10468770 [00:09<00:02, 1244167.94it/s]"
     ]
    },
    {
     "name": "stderr",
     "output_type": "stream",
     "text": [
      "\rDictClassTransformer_MEASURE fit:  77%|███████▋  | 8039570/10468770 [00:09<00:01, 1256988.47it/s]"
     ]
    },
    {
     "name": "stderr",
     "output_type": "stream",
     "text": [
      "\rDictClassTransformer_MEASURE fit:  78%|███████▊  | 8165744/10468770 [00:09<00:01, 1244808.04it/s]"
     ]
    },
    {
     "name": "stderr",
     "output_type": "stream",
     "text": [
      "\rDictClassTransformer_MEASURE fit:  79%|███████▉  | 8292479/10468770 [00:09<00:01, 1251485.45it/s]"
     ]
    },
    {
     "name": "stderr",
     "output_type": "stream",
     "text": [
      "\rDictClassTransformer_MEASURE fit:  80%|████████  | 8424382/10468770 [00:09<00:01, 1271004.48it/s]"
     ]
    },
    {
     "name": "stderr",
     "output_type": "stream",
     "text": [
      "\rDictClassTransformer_MEASURE fit:  82%|████████▏ | 8556085/10468770 [00:09<00:01, 1284467.56it/s]"
     ]
    },
    {
     "name": "stderr",
     "output_type": "stream",
     "text": [
      "\rDictClassTransformer_MEASURE fit:  83%|████████▎ | 8690317/10468770 [00:09<00:01, 1301292.28it/s]"
     ]
    },
    {
     "name": "stderr",
     "output_type": "stream",
     "text": [
      "\rDictClassTransformer_MEASURE fit:  84%|████████▍ | 8822485/10468770 [00:09<00:01, 1307338.92it/s]"
     ]
    },
    {
     "name": "stderr",
     "output_type": "stream",
     "text": [
      "\rDictClassTransformer_MEASURE fit:  86%|████████▌ | 8956311/10468770 [00:09<00:01, 1316463.61it/s]"
     ]
    },
    {
     "name": "stderr",
     "output_type": "stream",
     "text": [
      "\rDictClassTransformer_MEASURE fit:  87%|████████▋ | 9088077/10468770 [00:09<00:01, 1310175.29it/s]"
     ]
    },
    {
     "name": "stderr",
     "output_type": "stream",
     "text": [
      "\rDictClassTransformer_MEASURE fit:  88%|████████▊ | 9219185/10468770 [00:10<00:00, 1306173.89it/s]"
     ]
    },
    {
     "name": "stderr",
     "output_type": "stream",
     "text": [
      "\rDictClassTransformer_MEASURE fit:  89%|████████▉ | 9349869/10468770 [00:10<00:00, 1301517.30it/s]"
     ]
    },
    {
     "name": "stderr",
     "output_type": "stream",
     "text": [
      "\rDictClassTransformer_MEASURE fit:  91%|█████████ | 9480071/10468770 [00:10<00:00, 1188550.08it/s]"
     ]
    },
    {
     "name": "stderr",
     "output_type": "stream",
     "text": [
      "\rDictClassTransformer_MEASURE fit:  92%|█████████▏| 9600864/10468770 [00:10<00:00, 1192921.16it/s]"
     ]
    },
    {
     "name": "stderr",
     "output_type": "stream",
     "text": [
      "\rDictClassTransformer_MEASURE fit:  93%|█████████▎| 9724892/10468770 [00:10<00:00, 1206744.16it/s]"
     ]
    },
    {
     "name": "stderr",
     "output_type": "stream",
     "text": [
      "\rDictClassTransformer_MEASURE fit:  94%|█████████▍| 9847263/10468770 [00:10<00:00, 1211679.95it/s]"
     ]
    },
    {
     "name": "stderr",
     "output_type": "stream",
     "text": [
      "\rDictClassTransformer_MEASURE fit:  95%|█████████▌| 9971935/10468770 [00:10<00:00, 1221979.45it/s]"
     ]
    },
    {
     "name": "stderr",
     "output_type": "stream",
     "text": [
      "\rDictClassTransformer_MEASURE fit:  96%|█████████▋| 10096427/10468770 [00:10<00:00, 1228724.98it/s]"
     ]
    },
    {
     "name": "stderr",
     "output_type": "stream",
     "text": [
      "\rDictClassTransformer_MEASURE fit:  98%|█████████▊| 10221208/10468770 [00:10<00:00, 1234385.76it/s]"
     ]
    },
    {
     "name": "stderr",
     "output_type": "stream",
     "text": [
      "\rDictClassTransformer_MEASURE fit:  99%|█████████▉| 10351276/10468770 [00:10<00:00, 1253550.33it/s]"
     ]
    },
    {
     "name": "stderr",
     "output_type": "stream",
     "text": [
      "\rDictClassTransformer_MEASURE fit: 100%|██████████| 10468770/10468770 [00:11<00:00, 927184.93it/s] "
     ]
    },
    {
     "name": "stderr",
     "output_type": "stream",
     "text": [
      "\n"
     ]
    },
    {
     "name": "stderr",
     "output_type": "stream",
     "text": [
      "\rDictTransformer fit:   0%|          | 0/10468770 [00:00<?, ?it/s]"
     ]
    },
    {
     "name": "stderr",
     "output_type": "stream",
     "text": [
      "\rDictTransformer fit:   0%|          | 893/10468770 [00:00<3:00:35, 966.11it/s]"
     ]
    },
    {
     "name": "stderr",
     "output_type": "stream",
     "text": [
      "\rDictTransformer fit:   0%|          | 6107/10468770 [00:01<2:16:29, 1277.63it/s]"
     ]
    },
    {
     "name": "stderr",
     "output_type": "stream",
     "text": [
      "\rDictTransformer fit:   0%|          | 30140/10468770 [00:02<1:35:32, 1821.04it/s]"
     ]
    },
    {
     "name": "stderr",
     "output_type": "stream",
     "text": [
      "\rDictTransformer fit:   1%|          | 57963/10468770 [00:02<1:06:53, 2594.21it/s]"
     ]
    },
    {
     "name": "stderr",
     "output_type": "stream",
     "text": [
      "\rDictTransformer fit:   1%|          | 88129/10468770 [00:02<46:51, 3692.41it/s]  "
     ]
    },
    {
     "name": "stderr",
     "output_type": "stream",
     "text": [
      "\rDictTransformer fit:   1%|          | 118409/10468770 [00:02<32:52, 5247.44it/s]"
     ]
    },
    {
     "name": "stderr",
     "output_type": "stream",
     "text": [
      "\rDictTransformer fit:   1%|▏         | 150508/10468770 [00:02<23:06, 7444.19it/s]"
     ]
    },
    {
     "name": "stderr",
     "output_type": "stream",
     "text": [
      "\rDictTransformer fit:   2%|▏         | 183074/10468770 [00:02<16:16, 10531.38it/s]"
     ]
    },
    {
     "name": "stderr",
     "output_type": "stream",
     "text": [
      "\rDictTransformer fit:   2%|▏         | 218251/10468770 [00:02<11:30, 14854.24it/s]"
     ]
    },
    {
     "name": "stderr",
     "output_type": "stream",
     "text": [
      "\rDictTransformer fit:   2%|▏         | 254637/10468770 [00:02<08:09, 20855.45it/s]"
     ]
    },
    {
     "name": "stderr",
     "output_type": "stream",
     "text": [
      "\rDictTransformer fit:   3%|▎         | 290451/10468770 [00:02<05:50, 29067.89it/s]"
     ]
    },
    {
     "name": "stderr",
     "output_type": "stream",
     "text": [
      "\rDictTransformer fit:   3%|▎         | 326628/10468770 [00:02<04:12, 40143.20it/s]"
     ]
    },
    {
     "name": "stderr",
     "output_type": "stream",
     "text": [
      "\rDictTransformer fit:   3%|▎         | 364761/10468770 [00:03<03:04, 54871.74it/s]"
     ]
    },
    {
     "name": "stderr",
     "output_type": "stream",
     "text": [
      "\rDictTransformer fit:   4%|▍         | 402406/10468770 [00:03<02:16, 73779.20it/s]"
     ]
    },
    {
     "name": "stderr",
     "output_type": "stream",
     "text": [
      "\rDictTransformer fit:   4%|▍         | 439495/10468770 [00:03<01:43, 97118.79it/s]"
     ]
    },
    {
     "name": "stderr",
     "output_type": "stream",
     "text": [
      "\rDictTransformer fit:   5%|▍         | 478328/10468770 [00:03<01:19, 125308.72it/s]"
     ]
    },
    {
     "name": "stderr",
     "output_type": "stream",
     "text": [
      "\rDictTransformer fit:   5%|▍         | 516084/10468770 [00:03<01:03, 156718.92it/s]"
     ]
    },
    {
     "name": "stderr",
     "output_type": "stream",
     "text": [
      "\rDictTransformer fit:   5%|▌         | 553333/10468770 [00:03<00:52, 187952.76it/s]"
     ]
    },
    {
     "name": "stderr",
     "output_type": "stream",
     "text": [
      "\rDictTransformer fit:   6%|▌         | 590794/10468770 [00:03<00:44, 220985.60it/s]"
     ]
    },
    {
     "name": "stderr",
     "output_type": "stream",
     "text": [
      "\rDictTransformer fit:   6%|▌         | 629387/10468770 [00:03<00:38, 253486.31it/s]"
     ]
    },
    {
     "name": "stderr",
     "output_type": "stream",
     "text": [
      "\rDictTransformer fit:   6%|▋         | 668816/10468770 [00:03<00:34, 283899.99it/s]"
     ]
    },
    {
     "name": "stderr",
     "output_type": "stream",
     "text": [
      "\rDictTransformer fit:   7%|▋         | 709269/10468770 [00:03<00:31, 311791.64it/s]"
     ]
    },
    {
     "name": "stderr",
     "output_type": "stream",
     "text": [
      "\rDictTransformer fit:   7%|▋         | 749122/10468770 [00:04<00:29, 333571.66it/s]"
     ]
    },
    {
     "name": "stderr",
     "output_type": "stream",
     "text": [
      "\rDictTransformer fit:   8%|▊         | 790664/10468770 [00:04<00:27, 354525.06it/s]"
     ]
    },
    {
     "name": "stderr",
     "output_type": "stream",
     "text": [
      "\rDictTransformer fit:   8%|▊         | 830476/10468770 [00:04<00:27, 352329.55it/s]"
     ]
    },
    {
     "name": "stderr",
     "output_type": "stream",
     "text": [
      "\rDictTransformer fit:   8%|▊         | 869437/10468770 [00:04<00:26, 362740.59it/s]"
     ]
    },
    {
     "name": "stderr",
     "output_type": "stream",
     "text": [
      "\rDictTransformer fit:   9%|▊         | 907927/10468770 [00:04<00:26, 364364.79it/s]"
     ]
    },
    {
     "name": "stderr",
     "output_type": "stream",
     "text": [
      "\rDictTransformer fit:   9%|▉         | 945916/10468770 [00:04<00:27, 352531.04it/s]"
     ]
    },
    {
     "name": "stderr",
     "output_type": "stream",
     "text": [
      "\rDictTransformer fit:   9%|▉         | 982340/10468770 [00:04<00:26, 354417.63it/s]"
     ]
    },
    {
     "name": "stderr",
     "output_type": "stream",
     "text": [
      "\rDictTransformer fit:  10%|▉         | 1021549/10468770 [00:04<00:25, 364935.55it/s]"
     ]
    },
    {
     "name": "stderr",
     "output_type": "stream",
     "text": [
      "\rDictTransformer fit:  10%|█         | 1061321/10468770 [00:04<00:25, 374186.81it/s]"
     ]
    },
    {
     "name": "stderr",
     "output_type": "stream",
     "text": [
      "\rDictTransformer fit:  11%|█         | 1099256/10468770 [00:04<00:25, 373923.23it/s]"
     ]
    },
    {
     "name": "stderr",
     "output_type": "stream",
     "text": [
      "\rDictTransformer fit:  11%|█         | 1140322/10468770 [00:05<00:24, 384227.22it/s]"
     ]
    },
    {
     "name": "stderr",
     "output_type": "stream",
     "text": [
      "\rDictTransformer fit:  11%|█▏        | 1182267/10468770 [00:05<00:23, 394156.18it/s]"
     ]
    },
    {
     "name": "stderr",
     "output_type": "stream",
     "text": [
      "\rDictTransformer fit:  12%|█▏        | 1223397/10468770 [00:05<00:23, 399146.09it/s]"
     ]
    },
    {
     "name": "stderr",
     "output_type": "stream",
     "text": [
      "\rDictTransformer fit:  12%|█▏        | 1263530/10468770 [00:05<00:23, 396771.33it/s]"
     ]
    },
    {
     "name": "stderr",
     "output_type": "stream",
     "text": [
      "\rDictTransformer fit:  12%|█▏        | 1303364/10468770 [00:05<00:23, 384496.42it/s]"
     ]
    },
    {
     "name": "stderr",
     "output_type": "stream",
     "text": [
      "\rDictTransformer fit:  13%|█▎        | 1342006/10468770 [00:05<00:23, 382603.07it/s]"
     ]
    },
    {
     "name": "stderr",
     "output_type": "stream",
     "text": [
      "\rDictTransformer fit:  13%|█▎        | 1381774/10468770 [00:05<00:23, 387003.76it/s]"
     ]
    },
    {
     "name": "stderr",
     "output_type": "stream",
     "text": [
      "\rDictTransformer fit:  14%|█▎        | 1423725/10468770 [00:05<00:22, 396213.94it/s]"
     ]
    },
    {
     "name": "stderr",
     "output_type": "stream",
     "text": [
      "\rDictTransformer fit:  14%|█▍        | 1467416/10468770 [00:05<00:22, 407601.77it/s]"
     ]
    },
    {
     "name": "stderr",
     "output_type": "stream",
     "text": [
      "\rDictTransformer fit:  14%|█▍        | 1508989/10468770 [00:05<00:21, 410005.34it/s]"
     ]
    },
    {
     "name": "stderr",
     "output_type": "stream",
     "text": [
      "\rDictTransformer fit:  15%|█▍        | 1552055/10468770 [00:06<00:21, 415989.64it/s]"
     ]
    },
    {
     "name": "stderr",
     "output_type": "stream",
     "text": [
      "\rDictTransformer fit:  15%|█▌        | 1593762/10468770 [00:06<00:23, 379672.45it/s]"
     ]
    },
    {
     "name": "stderr",
     "output_type": "stream",
     "text": [
      "\rDictTransformer fit:  16%|█▌        | 1634542/10468770 [00:06<00:22, 387694.54it/s]"
     ]
    },
    {
     "name": "stderr",
     "output_type": "stream",
     "text": [
      "\rDictTransformer fit:  16%|█▌        | 1673837/10468770 [00:06<00:23, 371993.20it/s]"
     ]
    },
    {
     "name": "stderr",
     "output_type": "stream",
     "text": [
      "\rDictTransformer fit:  16%|█▋        | 1711540/10468770 [00:06<00:29, 294492.74it/s]"
     ]
    },
    {
     "name": "stderr",
     "output_type": "stream",
     "text": [
      "\rDictTransformer fit:  17%|█▋        | 1746824/10468770 [00:06<00:28, 309864.05it/s]"
     ]
    },
    {
     "name": "stderr",
     "output_type": "stream",
     "text": [
      "\rDictTransformer fit:  17%|█▋        | 1781747/10468770 [00:06<00:27, 320704.82it/s]"
     ]
    },
    {
     "name": "stderr",
     "output_type": "stream",
     "text": [
      "\rDictTransformer fit:  17%|█▋        | 1819460/10468770 [00:06<00:25, 335774.57it/s]"
     ]
    },
    {
     "name": "stderr",
     "output_type": "stream",
     "text": [
      "\rDictTransformer fit:  18%|█▊        | 1859055/10468770 [00:07<00:24, 351813.02it/s]"
     ]
    },
    {
     "name": "stderr",
     "output_type": "stream",
     "text": [
      "\rDictTransformer fit:  18%|█▊        | 1899887/10468770 [00:07<00:23, 367050.71it/s]"
     ]
    },
    {
     "name": "stderr",
     "output_type": "stream",
     "text": [
      "\rDictTransformer fit:  19%|█▊        | 1941959/10468770 [00:07<00:22, 381655.66it/s]"
     ]
    },
    {
     "name": "stderr",
     "output_type": "stream",
     "text": [
      "\rDictTransformer fit:  19%|█▉        | 1982763/10468770 [00:07<00:21, 389205.45it/s]"
     ]
    },
    {
     "name": "stderr",
     "output_type": "stream",
     "text": [
      "\rDictTransformer fit:  19%|█▉        | 2023626/10468770 [00:07<00:21, 394834.85it/s]"
     ]
    },
    {
     "name": "stderr",
     "output_type": "stream",
     "text": [
      "\rDictTransformer fit:  20%|█▉        | 2063562/10468770 [00:07<00:21, 394835.25it/s]"
     ]
    },
    {
     "name": "stderr",
     "output_type": "stream",
     "text": [
      "\rDictTransformer fit:  20%|██        | 2103503/10468770 [00:07<00:21, 396195.34it/s]"
     ]
    },
    {
     "name": "stderr",
     "output_type": "stream",
     "text": [
      "\rDictTransformer fit:  21%|██        | 2146260/10468770 [00:07<00:20, 405112.12it/s]"
     ]
    },
    {
     "name": "stderr",
     "output_type": "stream",
     "text": [
      "\rDictTransformer fit:  21%|██        | 2189527/10468770 [00:07<00:20, 413002.69it/s]"
     ]
    },
    {
     "name": "stderr",
     "output_type": "stream",
     "text": [
      "\rDictTransformer fit:  21%|██▏       | 2231009/10468770 [00:08<00:33, 247335.34it/s]"
     ]
    },
    {
     "name": "stderr",
     "output_type": "stream",
     "text": [
      "\rDictTransformer fit:  22%|██▏       | 2270748/10468770 [00:08<00:29, 278932.82it/s]"
     ]
    },
    {
     "name": "stderr",
     "output_type": "stream",
     "text": [
      "\rDictTransformer fit:  22%|██▏       | 2313189/10468770 [00:08<00:26, 310903.10it/s]"
     ]
    },
    {
     "name": "stderr",
     "output_type": "stream",
     "text": [
      "\rDictTransformer fit:  22%|██▏       | 2353678/10468770 [00:08<00:24, 334173.92it/s]"
     ]
    },
    {
     "name": "stderr",
     "output_type": "stream",
     "text": [
      "\rDictTransformer fit:  23%|██▎       | 2395512/10468770 [00:08<00:22, 355639.18it/s]"
     ]
    },
    {
     "name": "stderr",
     "output_type": "stream",
     "text": [
      "\rDictTransformer fit:  23%|██▎       | 2439250/10468770 [00:08<00:21, 376760.16it/s]"
     ]
    },
    {
     "name": "stderr",
     "output_type": "stream",
     "text": [
      "\rDictTransformer fit:  24%|██▎       | 2479862/10468770 [00:10<02:15, 59066.00it/s] "
     ]
    },
    {
     "name": "stderr",
     "output_type": "stream",
     "text": [
      "\rDictTransformer fit:  24%|██▍       | 2520496/10468770 [00:10<01:40, 79431.51it/s]"
     ]
    },
    {
     "name": "stderr",
     "output_type": "stream",
     "text": [
      "\rDictTransformer fit:  24%|██▍       | 2562726/10468770 [00:10<01:15, 105008.70it/s]"
     ]
    },
    {
     "name": "stderr",
     "output_type": "stream",
     "text": [
      "\rDictTransformer fit:  25%|██▍       | 2604068/10468770 [00:10<00:58, 135285.48it/s]"
     ]
    },
    {
     "name": "stderr",
     "output_type": "stream",
     "text": [
      "\rDictTransformer fit:  25%|██▌       | 2644729/10468770 [00:11<00:46, 169145.60it/s]"
     ]
    },
    {
     "name": "stderr",
     "output_type": "stream",
     "text": [
      "\rDictTransformer fit:  26%|██▌       | 2685899/10468770 [00:11<00:37, 205459.53it/s]"
     ]
    },
    {
     "name": "stderr",
     "output_type": "stream",
     "text": [
      "\rDictTransformer fit:  26%|██▌       | 2729236/10468770 [00:11<00:31, 243947.23it/s]"
     ]
    },
    {
     "name": "stderr",
     "output_type": "stream",
     "text": [
      "\rDictTransformer fit:  26%|██▋       | 2769715/10468770 [00:11<00:27, 276962.08it/s]"
     ]
    },
    {
     "name": "stderr",
     "output_type": "stream",
     "text": [
      "\rDictTransformer fit:  27%|██▋       | 2810127/10468770 [00:11<00:25, 295687.71it/s]"
     ]
    },
    {
     "name": "stderr",
     "output_type": "stream",
     "text": [
      "\rDictTransformer fit:  27%|██▋       | 2854067/10468770 [00:11<00:23, 327856.04it/s]"
     ]
    },
    {
     "name": "stderr",
     "output_type": "stream",
     "text": [
      "\rDictTransformer fit:  28%|██▊       | 2897047/10468770 [00:11<00:21, 352970.85it/s]"
     ]
    },
    {
     "name": "stderr",
     "output_type": "stream",
     "text": [
      "\rDictTransformer fit:  28%|██▊       | 2940329/10468770 [00:11<00:20, 373649.77it/s]"
     ]
    },
    {
     "name": "stderr",
     "output_type": "stream",
     "text": [
      "\rDictTransformer fit:  29%|██▊       | 2985077/10468770 [00:11<00:19, 393105.42it/s]"
     ]
    },
    {
     "name": "stderr",
     "output_type": "stream",
     "text": [
      "\rDictTransformer fit:  29%|██▉       | 3028299/10468770 [00:12<00:18, 404074.46it/s]"
     ]
    },
    {
     "name": "stderr",
     "output_type": "stream",
     "text": [
      "\rDictTransformer fit:  29%|██▉       | 3071137/10468770 [00:12<00:18, 410797.28it/s]"
     ]
    },
    {
     "name": "stderr",
     "output_type": "stream",
     "text": [
      "\rDictTransformer fit:  30%|██▉       | 3114704/10468770 [00:12<00:17, 417953.23it/s]"
     ]
    },
    {
     "name": "stderr",
     "output_type": "stream",
     "text": [
      "\rDictTransformer fit:  30%|███       | 3158261/10468770 [00:12<00:17, 423084.27it/s]"
     ]
    },
    {
     "name": "stderr",
     "output_type": "stream",
     "text": [
      "\rDictTransformer fit:  31%|███       | 3202759/10468770 [00:12<00:16, 429421.98it/s]"
     ]
    },
    {
     "name": "stderr",
     "output_type": "stream",
     "text": [
      "\rDictTransformer fit:  31%|███       | 3246343/10468770 [00:12<00:17, 420717.96it/s]"
     ]
    },
    {
     "name": "stderr",
     "output_type": "stream",
     "text": [
      "\rDictTransformer fit:  31%|███▏      | 3289783/10468770 [00:12<00:16, 424729.85it/s]"
     ]
    },
    {
     "name": "stderr",
     "output_type": "stream",
     "text": [
      "\rDictTransformer fit:  32%|███▏      | 3333600/10468770 [00:12<00:16, 428671.93it/s]"
     ]
    },
    {
     "name": "stderr",
     "output_type": "stream",
     "text": [
      "\rDictTransformer fit:  32%|███▏      | 3378266/10468770 [00:12<00:16, 433914.18it/s]"
     ]
    },
    {
     "name": "stderr",
     "output_type": "stream",
     "text": [
      "\rDictTransformer fit:  33%|███▎      | 3421851/10468770 [00:12<00:16, 430272.64it/s]"
     ]
    },
    {
     "name": "stderr",
     "output_type": "stream",
     "text": [
      "\rDictTransformer fit:  33%|███▎      | 3465316/10468770 [00:13<00:16, 431569.94it/s]"
     ]
    },
    {
     "name": "stderr",
     "output_type": "stream",
     "text": [
      "\rDictTransformer fit:  34%|███▎      | 3508705/10468770 [00:13<00:16, 432261.93it/s]"
     ]
    },
    {
     "name": "stderr",
     "output_type": "stream",
     "text": [
      "\rDictTransformer fit:  34%|███▍      | 3552002/10468770 [00:13<00:17, 400898.52it/s]"
     ]
    },
    {
     "name": "stderr",
     "output_type": "stream",
     "text": [
      "\rDictTransformer fit:  34%|███▍      | 3596445/10468770 [00:13<00:16, 413034.18it/s]"
     ]
    },
    {
     "name": "stderr",
     "output_type": "stream",
     "text": [
      "\rDictTransformer fit:  35%|███▍      | 3639811/10468770 [00:13<00:16, 418987.28it/s]"
     ]
    },
    {
     "name": "stderr",
     "output_type": "stream",
     "text": [
      "\rDictTransformer fit:  35%|███▌      | 3682904/10468770 [00:13<00:16, 422497.46it/s]"
     ]
    },
    {
     "name": "stderr",
     "output_type": "stream",
     "text": [
      "\rDictTransformer fit:  36%|███▌      | 3727441/10468770 [00:13<00:15, 429106.44it/s]"
     ]
    },
    {
     "name": "stderr",
     "output_type": "stream",
     "text": [
      "\rDictTransformer fit:  36%|███▌      | 3772558/10468770 [00:13<00:15, 435491.76it/s]"
     ]
    },
    {
     "name": "stderr",
     "output_type": "stream",
     "text": [
      "\rDictTransformer fit:  36%|███▋      | 3816704/10468770 [00:13<00:15, 437263.79it/s]"
     ]
    },
    {
     "name": "stderr",
     "output_type": "stream",
     "text": [
      "\rDictTransformer fit:  37%|███▋      | 3860722/10468770 [00:13<00:15, 438133.16it/s]"
     ]
    },
    {
     "name": "stderr",
     "output_type": "stream",
     "text": [
      "\rDictTransformer fit:  37%|███▋      | 3904982/10468770 [00:14<00:14, 439461.03it/s]"
     ]
    },
    {
     "name": "stderr",
     "output_type": "stream",
     "text": [
      "\rDictTransformer fit:  38%|███▊      | 3950520/10468770 [00:14<00:14, 444117.50it/s]"
     ]
    },
    {
     "name": "stderr",
     "output_type": "stream",
     "text": [
      "\rDictTransformer fit:  38%|███▊      | 3995839/10468770 [00:14<00:14, 446795.65it/s]"
     ]
    },
    {
     "name": "stderr",
     "output_type": "stream",
     "text": [
      "\rDictTransformer fit:  39%|███▊      | 4040559/10468770 [00:14<00:14, 444888.12it/s]"
     ]
    },
    {
     "name": "stderr",
     "output_type": "stream",
     "text": [
      "\rDictTransformer fit:  39%|███▉      | 4085078/10468770 [00:14<00:14, 444712.98it/s]"
     ]
    },
    {
     "name": "stderr",
     "output_type": "stream",
     "text": [
      "\rDictTransformer fit:  39%|███▉      | 4129571/10468770 [00:14<00:14, 430536.35it/s]"
     ]
    },
    {
     "name": "stderr",
     "output_type": "stream",
     "text": [
      "\rDictTransformer fit:  40%|███▉      | 4174408/10468770 [00:14<00:14, 435733.38it/s]"
     ]
    },
    {
     "name": "stderr",
     "output_type": "stream",
     "text": [
      "\rDictTransformer fit:  40%|████      | 4218920/10468770 [00:14<00:14, 438504.88it/s]"
     ]
    },
    {
     "name": "stderr",
     "output_type": "stream",
     "text": [
      "\rDictTransformer fit:  41%|████      | 4262841/10468770 [00:14<00:14, 438017.81it/s]"
     ]
    },
    {
     "name": "stderr",
     "output_type": "stream",
     "text": [
      "\rDictTransformer fit:  41%|████      | 4306692/10468770 [00:14<00:14, 435146.94it/s]"
     ]
    },
    {
     "name": "stderr",
     "output_type": "stream",
     "text": [
      "\rDictTransformer fit:  42%|████▏     | 4350706/10468770 [00:15<00:14, 436619.73it/s]"
     ]
    },
    {
     "name": "stderr",
     "output_type": "stream",
     "text": [
      "\rDictTransformer fit:  42%|████▏     | 4394911/10468770 [00:15<00:13, 438229.59it/s]"
     ]
    },
    {
     "name": "stderr",
     "output_type": "stream",
     "text": [
      "\rDictTransformer fit:  42%|████▏     | 4438756/10468770 [00:15<00:14, 427579.97it/s]"
     ]
    },
    {
     "name": "stderr",
     "output_type": "stream",
     "text": [
      "\rDictTransformer fit:  43%|████▎     | 4481586/10468770 [00:15<00:14, 425089.06it/s]"
     ]
    },
    {
     "name": "stderr",
     "output_type": "stream",
     "text": [
      "\rDictTransformer fit:  43%|████▎     | 4524149/10468770 [00:15<00:13, 425073.01it/s]"
     ]
    },
    {
     "name": "stderr",
     "output_type": "stream",
     "text": [
      "\rDictTransformer fit:  44%|████▎     | 4566694/10468770 [00:15<00:14, 420607.18it/s]"
     ]
    },
    {
     "name": "stderr",
     "output_type": "stream",
     "text": [
      "\rDictTransformer fit:  44%|████▍     | 4608792/10468770 [00:15<00:14, 405648.00it/s]"
     ]
    },
    {
     "name": "stderr",
     "output_type": "stream",
     "text": [
      "\rDictTransformer fit:  44%|████▍     | 4649498/10468770 [00:15<00:14, 395805.22it/s]"
     ]
    },
    {
     "name": "stderr",
     "output_type": "stream",
     "text": [
      "\rDictTransformer fit:  45%|████▍     | 4692061/10468770 [00:15<00:14, 404304.19it/s]"
     ]
    },
    {
     "name": "stderr",
     "output_type": "stream",
     "text": [
      "\rDictTransformer fit:  45%|████▌     | 4735886/10468770 [00:16<00:13, 413920.23it/s]"
     ]
    },
    {
     "name": "stderr",
     "output_type": "stream",
     "text": [
      "\rDictTransformer fit:  46%|████▌     | 4777440/10468770 [00:16<00:15, 370812.25it/s]"
     ]
    },
    {
     "name": "stderr",
     "output_type": "stream",
     "text": [
      "\rDictTransformer fit:  46%|████▌     | 4815478/10468770 [00:16<00:15, 355548.97it/s]"
     ]
    },
    {
     "name": "stderr",
     "output_type": "stream",
     "text": [
      "\rDictTransformer fit:  46%|████▋     | 4851836/10468770 [00:16<00:17, 314468.74it/s]"
     ]
    },
    {
     "name": "stderr",
     "output_type": "stream",
     "text": [
      "\rDictTransformer fit:  47%|████▋     | 4884718/10468770 [00:16<00:18, 308309.27it/s]"
     ]
    },
    {
     "name": "stderr",
     "output_type": "stream",
     "text": [
      "\rDictTransformer fit:  47%|████▋     | 4920283/10468770 [00:16<00:17, 321132.38it/s]"
     ]
    },
    {
     "name": "stderr",
     "output_type": "stream",
     "text": [
      "\rDictTransformer fit:  47%|████▋     | 4962862/10468770 [00:16<00:15, 346696.54it/s]"
     ]
    },
    {
     "name": "stderr",
     "output_type": "stream",
     "text": [
      "\rDictTransformer fit:  48%|████▊     | 5007239/10468770 [00:16<00:14, 371044.22it/s]"
     ]
    },
    {
     "name": "stderr",
     "output_type": "stream",
     "text": [
      "\rDictTransformer fit:  48%|████▊     | 5047362/10468770 [00:16<00:14, 379610.86it/s]"
     ]
    },
    {
     "name": "stderr",
     "output_type": "stream",
     "text": [
      "\rDictTransformer fit:  49%|████▊     | 5088240/10468770 [00:17<00:13, 387914.00it/s]"
     ]
    },
    {
     "name": "stderr",
     "output_type": "stream",
     "text": [
      "\rDictTransformer fit:  49%|████▉     | 5132106/10468770 [00:17<00:13, 401855.24it/s]"
     ]
    },
    {
     "name": "stderr",
     "output_type": "stream",
     "text": [
      "\rDictTransformer fit:  49%|████▉     | 5176065/10468770 [00:17<00:12, 412477.30it/s]"
     ]
    },
    {
     "name": "stderr",
     "output_type": "stream",
     "text": [
      "\rDictTransformer fit:  50%|████▉     | 5219448/10468770 [00:17<00:12, 418652.86it/s]"
     ]
    },
    {
     "name": "stderr",
     "output_type": "stream",
     "text": [
      "\rDictTransformer fit:  50%|█████     | 5263298/10468770 [00:17<00:12, 424412.35it/s]"
     ]
    },
    {
     "name": "stderr",
     "output_type": "stream",
     "text": [
      "\rDictTransformer fit:  51%|█████     | 5306899/10468770 [00:17<00:12, 427823.76it/s]"
     ]
    },
    {
     "name": "stderr",
     "output_type": "stream",
     "text": [
      "\rDictTransformer fit:  51%|█████     | 5350858/10468770 [00:17<00:11, 431285.57it/s]"
     ]
    },
    {
     "name": "stderr",
     "output_type": "stream",
     "text": [
      "\rDictTransformer fit:  52%|█████▏    | 5394981/10468770 [00:17<00:11, 434220.10it/s]"
     ]
    },
    {
     "name": "stderr",
     "output_type": "stream",
     "text": [
      "\rDictTransformer fit:  52%|█████▏    | 5438865/10468770 [00:17<00:11, 435594.71it/s]"
     ]
    },
    {
     "name": "stderr",
     "output_type": "stream",
     "text": [
      "\rDictTransformer fit:  52%|█████▏    | 5482503/10468770 [00:17<00:11, 432545.86it/s]"
     ]
    },
    {
     "name": "stderr",
     "output_type": "stream",
     "text": [
      "\rDictTransformer fit:  53%|█████▎    | 5526933/10468770 [00:18<00:11, 436003.65it/s]"
     ]
    },
    {
     "name": "stderr",
     "output_type": "stream",
     "text": [
      "\rDictTransformer fit:  53%|█████▎    | 5570627/10468770 [00:18<00:11, 436281.45it/s]"
     ]
    },
    {
     "name": "stderr",
     "output_type": "stream",
     "text": [
      "\rDictTransformer fit:  54%|█████▎    | 5614965/10468770 [00:18<00:11, 438385.61it/s]"
     ]
    },
    {
     "name": "stderr",
     "output_type": "stream",
     "text": [
      "\rDictTransformer fit:  54%|█████▍    | 5660194/10468770 [00:18<00:10, 442463.97it/s]"
     ]
    },
    {
     "name": "stderr",
     "output_type": "stream",
     "text": [
      "\rDictTransformer fit:  54%|█████▍    | 5704468/10468770 [00:18<00:10, 440709.62it/s]"
     ]
    },
    {
     "name": "stderr",
     "output_type": "stream",
     "text": [
      "\rDictTransformer fit:  55%|█████▍    | 5748560/10468770 [00:18<00:10, 437965.74it/s]"
     ]
    },
    {
     "name": "stderr",
     "output_type": "stream",
     "text": [
      "\rDictTransformer fit:  55%|█████▌    | 5792376/10468770 [00:18<00:10, 435881.39it/s]"
     ]
    },
    {
     "name": "stderr",
     "output_type": "stream",
     "text": [
      "\rDictTransformer fit:  56%|█████▌    | 5835980/10468770 [00:18<00:10, 434840.17it/s]"
     ]
    },
    {
     "name": "stderr",
     "output_type": "stream",
     "text": [
      "\rDictTransformer fit:  56%|█████▌    | 5881196/10468770 [00:18<00:10, 439892.54it/s]"
     ]
    },
    {
     "name": "stderr",
     "output_type": "stream",
     "text": [
      "\rDictTransformer fit:  57%|█████▋    | 5925208/10468770 [00:18<00:10, 438106.78it/s]"
     ]
    },
    {
     "name": "stderr",
     "output_type": "stream",
     "text": [
      "\rDictTransformer fit:  57%|█████▋    | 5969585/10468770 [00:19<00:10, 439782.84it/s]"
     ]
    },
    {
     "name": "stderr",
     "output_type": "stream",
     "text": [
      "\rDictTransformer fit:  57%|█████▋    | 6013577/10468770 [00:19<00:10, 436927.73it/s]"
     ]
    },
    {
     "name": "stderr",
     "output_type": "stream",
     "text": [
      "\rDictTransformer fit:  58%|█████▊    | 6058180/10468770 [00:19<00:10, 439614.32it/s]"
     ]
    },
    {
     "name": "stderr",
     "output_type": "stream",
     "text": [
      "\rDictTransformer fit:  58%|█████▊    | 6102231/10468770 [00:19<00:09, 439879.94it/s]"
     ]
    },
    {
     "name": "stderr",
     "output_type": "stream",
     "text": [
      "\rDictTransformer fit:  59%|█████▊    | 6147493/10468770 [00:19<00:09, 443613.08it/s]"
     ]
    },
    {
     "name": "stderr",
     "output_type": "stream",
     "text": [
      "\rDictTransformer fit:  59%|█████▉    | 6192372/10468770 [00:19<00:09, 445150.85it/s]"
     ]
    },
    {
     "name": "stderr",
     "output_type": "stream",
     "text": [
      "\rDictTransformer fit:  60%|█████▉    | 6237825/10468770 [00:19<00:09, 447923.51it/s]"
     ]
    },
    {
     "name": "stderr",
     "output_type": "stream",
     "text": [
      "\rDictTransformer fit:  60%|██████    | 6282701/10468770 [00:19<00:09, 448172.98it/s]"
     ]
    },
    {
     "name": "stderr",
     "output_type": "stream",
     "text": [
      "\rDictTransformer fit:  60%|██████    | 6328032/10468770 [00:19<00:09, 449701.63it/s]"
     ]
    },
    {
     "name": "stderr",
     "output_type": "stream",
     "text": [
      "\rDictTransformer fit:  61%|██████    | 6373515/10468770 [00:19<00:09, 451225.20it/s]"
     ]
    },
    {
     "name": "stderr",
     "output_type": "stream",
     "text": [
      "\rDictTransformer fit:  61%|██████▏   | 6418650/10468770 [00:20<00:08, 451261.15it/s]"
     ]
    },
    {
     "name": "stderr",
     "output_type": "stream",
     "text": [
      "\rDictTransformer fit:  62%|██████▏   | 6463781/10468770 [00:20<00:08, 451239.14it/s]"
     ]
    },
    {
     "name": "stderr",
     "output_type": "stream",
     "text": [
      "\rDictTransformer fit:  62%|██████▏   | 6508991/10468770 [00:20<00:08, 451493.31it/s]"
     ]
    },
    {
     "name": "stderr",
     "output_type": "stream",
     "text": [
      "\rDictTransformer fit:  63%|██████▎   | 6554796/10468770 [00:20<00:08, 453417.22it/s]"
     ]
    },
    {
     "name": "stderr",
     "output_type": "stream",
     "text": [
      "\rDictTransformer fit:  63%|██████▎   | 6600142/10468770 [00:20<00:08, 446145.42it/s]"
     ]
    },
    {
     "name": "stderr",
     "output_type": "stream",
     "text": [
      "\rDictTransformer fit:  63%|██████▎   | 6644786/10468770 [00:20<00:08, 437733.62it/s]"
     ]
    },
    {
     "name": "stderr",
     "output_type": "stream",
     "text": [
      "\rDictTransformer fit:  64%|██████▍   | 6690903/10468770 [00:20<00:08, 444506.68it/s]"
     ]
    },
    {
     "name": "stderr",
     "output_type": "stream",
     "text": [
      "\rDictTransformer fit:  64%|██████▍   | 6735418/10468770 [00:20<00:08, 437050.16it/s]"
     ]
    },
    {
     "name": "stderr",
     "output_type": "stream",
     "text": [
      "\rDictTransformer fit:  65%|██████▍   | 6779265/10468770 [00:20<00:08, 437472.46it/s]"
     ]
    },
    {
     "name": "stderr",
     "output_type": "stream",
     "text": [
      "\rDictTransformer fit:  65%|██████▌   | 6824046/10468770 [00:20<00:08, 440521.83it/s]"
     ]
    },
    {
     "name": "stderr",
     "output_type": "stream",
     "text": [
      "\rDictTransformer fit:  66%|██████▌   | 6868196/10468770 [00:21<00:08, 440812.12it/s]"
     ]
    },
    {
     "name": "stderr",
     "output_type": "stream",
     "text": [
      "\rDictTransformer fit:  66%|██████▌   | 6912343/10468770 [00:21<00:08, 441006.57it/s]"
     ]
    },
    {
     "name": "stderr",
     "output_type": "stream",
     "text": [
      "\rDictTransformer fit:  66%|██████▋   | 6957979/10468770 [00:21<00:07, 445500.97it/s]"
     ]
    },
    {
     "name": "stderr",
     "output_type": "stream",
     "text": [
      "\rDictTransformer fit:  67%|██████▋   | 7002979/10468770 [00:21<00:07, 446839.74it/s]"
     ]
    },
    {
     "name": "stderr",
     "output_type": "stream",
     "text": [
      "\rDictTransformer fit:  67%|██████▋   | 7048726/10468770 [00:21<00:07, 449973.86it/s]"
     ]
    },
    {
     "name": "stderr",
     "output_type": "stream",
     "text": [
      "\rDictTransformer fit:  68%|██████▊   | 7095226/10468770 [00:21<00:07, 454378.55it/s]"
     ]
    },
    {
     "name": "stderr",
     "output_type": "stream",
     "text": [
      "\rDictTransformer fit:  68%|██████▊   | 7141304/10468770 [00:21<00:07, 456277.45it/s]"
     ]
    },
    {
     "name": "stderr",
     "output_type": "stream",
     "text": [
      "\rDictTransformer fit:  69%|██████▊   | 7186950/10468770 [00:21<00:07, 440042.64it/s]"
     ]
    },
    {
     "name": "stderr",
     "output_type": "stream",
     "text": [
      "\rDictTransformer fit:  69%|██████▉   | 7231092/10468770 [00:21<00:07, 438114.36it/s]"
     ]
    },
    {
     "name": "stderr",
     "output_type": "stream",
     "text": [
      "\rDictTransformer fit:  70%|██████▉   | 7277507/10468770 [00:21<00:07, 445611.70it/s]"
     ]
    },
    {
     "name": "stderr",
     "output_type": "stream",
     "text": [
      "\rDictTransformer fit:  70%|██████▉   | 7322168/10468770 [00:22<00:07, 445702.69it/s]"
     ]
    },
    {
     "name": "stderr",
     "output_type": "stream",
     "text": [
      "\rDictTransformer fit:  70%|███████   | 7366809/10468770 [00:22<00:06, 443303.07it/s]"
     ]
    },
    {
     "name": "stderr",
     "output_type": "stream",
     "text": [
      "\rDictTransformer fit:  71%|███████   | 7411545/10468770 [00:22<00:06, 444508.74it/s]"
     ]
    },
    {
     "name": "stderr",
     "output_type": "stream",
     "text": [
      "\rDictTransformer fit:  71%|███████   | 7456033/10468770 [00:22<00:06, 438560.85it/s]"
     ]
    },
    {
     "name": "stderr",
     "output_type": "stream",
     "text": [
      "\rDictTransformer fit:  72%|███████▏  | 7499934/10468770 [00:22<00:07, 421279.89it/s]"
     ]
    },
    {
     "name": "stderr",
     "output_type": "stream",
     "text": [
      "\rDictTransformer fit:  72%|███████▏  | 7542239/10468770 [00:22<00:07, 415800.86it/s]"
     ]
    },
    {
     "name": "stderr",
     "output_type": "stream",
     "text": [
      "\rDictTransformer fit:  72%|███████▏  | 7585980/10468770 [00:22<00:06, 422053.54it/s]"
     ]
    },
    {
     "name": "stderr",
     "output_type": "stream",
     "text": [
      "\rDictTransformer fit:  73%|███████▎  | 7628358/10468770 [00:22<00:06, 422567.41it/s]"
     ]
    },
    {
     "name": "stderr",
     "output_type": "stream",
     "text": [
      "\rDictTransformer fit:  73%|███████▎  | 7671203/10468770 [00:22<00:06, 424313.77it/s]"
     ]
    },
    {
     "name": "stderr",
     "output_type": "stream",
     "text": [
      "\rDictTransformer fit:  74%|███████▎  | 7718298/10468770 [00:22<00:06, 437303.79it/s]"
     ]
    },
    {
     "name": "stderr",
     "output_type": "stream",
     "text": [
      "\rDictTransformer fit:  74%|███████▍  | 7765121/10468770 [00:23<00:06, 446140.50it/s]"
     ]
    },
    {
     "name": "stderr",
     "output_type": "stream",
     "text": [
      "\rDictTransformer fit:  75%|███████▍  | 7811613/10468770 [00:23<00:05, 451610.40it/s]"
     ]
    },
    {
     "name": "stderr",
     "output_type": "stream",
     "text": [
      "\rDictTransformer fit:  75%|███████▌  | 7856891/10468770 [00:23<00:05, 447233.11it/s]"
     ]
    },
    {
     "name": "stderr",
     "output_type": "stream",
     "text": [
      "\rDictTransformer fit:  75%|███████▌  | 7901706/10468770 [00:23<00:05, 439769.19it/s]"
     ]
    },
    {
     "name": "stderr",
     "output_type": "stream",
     "text": [
      "\rDictTransformer fit:  76%|███████▌  | 7947243/10468770 [00:23<00:05, 444334.60it/s]"
     ]
    },
    {
     "name": "stderr",
     "output_type": "stream",
     "text": [
      "\rDictTransformer fit:  76%|███████▋  | 7992299/10468770 [00:23<00:05, 446182.63it/s]"
     ]
    },
    {
     "name": "stderr",
     "output_type": "stream",
     "text": [
      "\rDictTransformer fit:  77%|███████▋  | 8036973/10468770 [00:23<00:05, 445691.15it/s]"
     ]
    },
    {
     "name": "stderr",
     "output_type": "stream",
     "text": [
      "\rDictTransformer fit:  77%|███████▋  | 8081583/10468770 [00:23<00:05, 445811.31it/s]"
     ]
    },
    {
     "name": "stderr",
     "output_type": "stream",
     "text": [
      "\rDictTransformer fit:  78%|███████▊  | 8128174/10468770 [00:23<00:05, 451649.69it/s]"
     ]
    },
    {
     "name": "stderr",
     "output_type": "stream",
     "text": [
      "\rDictTransformer fit:  78%|███████▊  | 8173377/10468770 [00:24<00:05, 445084.67it/s]"
     ]
    },
    {
     "name": "stderr",
     "output_type": "stream",
     "text": [
      "\rDictTransformer fit:  79%|███████▊  | 8219553/10468770 [00:24<00:04, 449959.24it/s]"
     ]
    },
    {
     "name": "stderr",
     "output_type": "stream",
     "text": [
      "\rDictTransformer fit:  79%|███████▉  | 8264596/10468770 [00:24<00:05, 414289.96it/s]"
     ]
    },
    {
     "name": "stderr",
     "output_type": "stream",
     "text": [
      "\rDictTransformer fit:  79%|███████▉  | 8306615/10468770 [00:24<00:05, 408358.35it/s]"
     ]
    },
    {
     "name": "stderr",
     "output_type": "stream",
     "text": [
      "\rDictTransformer fit:  80%|███████▉  | 8348163/10468770 [00:24<00:05, 410443.67it/s]"
     ]
    },
    {
     "name": "stderr",
     "output_type": "stream",
     "text": [
      "\rDictTransformer fit:  80%|████████  | 8389512/10468770 [00:24<00:05, 391258.89it/s]"
     ]
    },
    {
     "name": "stderr",
     "output_type": "stream",
     "text": [
      "\rDictTransformer fit:  81%|████████  | 8432009/10468770 [00:24<00:05, 400794.63it/s]"
     ]
    },
    {
     "name": "stderr",
     "output_type": "stream",
     "text": [
      "\rDictTransformer fit:  81%|████████  | 8472428/10468770 [00:24<00:05, 359785.57it/s]"
     ]
    },
    {
     "name": "stderr",
     "output_type": "stream",
     "text": [
      "\rDictTransformer fit:  81%|████████▏ | 8513500/10468770 [00:24<00:05, 373687.30it/s]"
     ]
    },
    {
     "name": "stderr",
     "output_type": "stream",
     "text": [
      "\rDictTransformer fit:  82%|████████▏ | 8555310/10468770 [00:24<00:04, 385982.52it/s]"
     ]
    },
    {
     "name": "stderr",
     "output_type": "stream",
     "text": [
      "\rDictTransformer fit:  82%|████████▏ | 8598714/10468770 [00:25<00:04, 399235.93it/s]"
     ]
    },
    {
     "name": "stderr",
     "output_type": "stream",
     "text": [
      "\rDictTransformer fit:  83%|████████▎ | 8641074/10468770 [00:25<00:04, 406243.86it/s]"
     ]
    },
    {
     "name": "stderr",
     "output_type": "stream",
     "text": [
      "\rDictTransformer fit:  83%|████████▎ | 8685360/10468770 [00:25<00:04, 416575.48it/s]"
     ]
    },
    {
     "name": "stderr",
     "output_type": "stream",
     "text": [
      "\rDictTransformer fit:  83%|████████▎ | 8733345/10468770 [00:25<00:04, 433733.35it/s]"
     ]
    },
    {
     "name": "stderr",
     "output_type": "stream",
     "text": [
      "\rDictTransformer fit:  84%|████████▍ | 8778006/10468770 [00:25<00:03, 437516.29it/s]"
     ]
    },
    {
     "name": "stderr",
     "output_type": "stream",
     "text": [
      "\rDictTransformer fit:  84%|████████▍ | 8823949/10468770 [00:25<00:03, 443866.61it/s]"
     ]
    },
    {
     "name": "stderr",
     "output_type": "stream",
     "text": [
      "\rDictTransformer fit:  85%|████████▍ | 8868585/10468770 [00:25<00:03, 434487.29it/s]"
     ]
    },
    {
     "name": "stderr",
     "output_type": "stream",
     "text": [
      "\rDictTransformer fit:  85%|████████▌ | 8912252/10468770 [00:25<00:03, 429008.52it/s]"
     ]
    },
    {
     "name": "stderr",
     "output_type": "stream",
     "text": [
      "\rDictTransformer fit:  86%|████████▌ | 8955322/10468770 [00:25<00:03, 418854.22it/s]"
     ]
    },
    {
     "name": "stderr",
     "output_type": "stream",
     "text": [
      "\rDictTransformer fit:  86%|████████▌ | 8998360/10468770 [00:26<00:03, 422122.61it/s]"
     ]
    },
    {
     "name": "stderr",
     "output_type": "stream",
     "text": [
      "\rDictTransformer fit:  86%|████████▋ | 9043866/10468770 [00:26<00:03, 431489.55it/s]"
     ]
    },
    {
     "name": "stderr",
     "output_type": "stream",
     "text": [
      "\rDictTransformer fit:  87%|████████▋ | 9089200/10468770 [00:26<00:03, 437817.68it/s]"
     ]
    },
    {
     "name": "stderr",
     "output_type": "stream",
     "text": [
      "\rDictTransformer fit:  87%|████████▋ | 9135844/10468770 [00:26<00:02, 446027.22it/s]"
     ]
    },
    {
     "name": "stderr",
     "output_type": "stream",
     "text": [
      "\rDictTransformer fit:  88%|████████▊ | 9182882/10468770 [00:26<00:02, 453060.48it/s]"
     ]
    },
    {
     "name": "stderr",
     "output_type": "stream",
     "text": [
      "\rDictTransformer fit:  88%|████████▊ | 9228700/10468770 [00:26<00:02, 454580.22it/s]"
     ]
    },
    {
     "name": "stderr",
     "output_type": "stream",
     "text": [
      "\rDictTransformer fit:  89%|████████▊ | 9275433/10468770 [00:26<00:02, 458328.74it/s]"
     ]
    },
    {
     "name": "stderr",
     "output_type": "stream",
     "text": [
      "\rDictTransformer fit:  89%|████████▉ | 9321329/10468770 [00:26<00:02, 453103.61it/s]"
     ]
    },
    {
     "name": "stderr",
     "output_type": "stream",
     "text": [
      "\rDictTransformer fit:  89%|████████▉ | 9366698/10468770 [00:26<00:02, 444508.87it/s]"
     ]
    },
    {
     "name": "stderr",
     "output_type": "stream",
     "text": [
      "\rDictTransformer fit:  90%|████████▉ | 9411226/10468770 [00:26<00:02, 435387.22it/s]"
     ]
    },
    {
     "name": "stderr",
     "output_type": "stream",
     "text": [
      "\rDictTransformer fit:  90%|█████████ | 9454861/10468770 [00:27<00:02, 428552.39it/s]"
     ]
    },
    {
     "name": "stderr",
     "output_type": "stream",
     "text": [
      "\rDictTransformer fit:  91%|█████████ | 9499629/10468770 [00:27<00:02, 434114.24it/s]"
     ]
    },
    {
     "name": "stderr",
     "output_type": "stream",
     "text": [
      "\rDictTransformer fit:  91%|█████████ | 9544192/10468770 [00:27<00:02, 437503.34it/s]"
     ]
    },
    {
     "name": "stderr",
     "output_type": "stream",
     "text": [
      "\rDictTransformer fit:  92%|█████████▏| 9588798/10468770 [00:27<00:01, 440034.24it/s]"
     ]
    },
    {
     "name": "stderr",
     "output_type": "stream",
     "text": [
      "\rDictTransformer fit:  92%|█████████▏| 9632849/10468770 [00:27<00:01, 438634.57it/s]"
     ]
    },
    {
     "name": "stderr",
     "output_type": "stream",
     "text": [
      "\rDictTransformer fit:  92%|█████████▏| 9677243/10468770 [00:27<00:01, 440210.47it/s]"
     ]
    },
    {
     "name": "stderr",
     "output_type": "stream",
     "text": [
      "\rDictTransformer fit:  93%|█████████▎| 9722505/10468770 [00:27<00:01, 443858.61it/s]"
     ]
    },
    {
     "name": "stderr",
     "output_type": "stream",
     "text": [
      "\rDictTransformer fit:  93%|█████████▎| 9769474/10468770 [00:27<00:01, 451302.02it/s]"
     ]
    },
    {
     "name": "stderr",
     "output_type": "stream",
     "text": [
      "\rDictTransformer fit:  94%|█████████▍| 9817039/10468770 [00:27<00:01, 458339.15it/s]"
     ]
    },
    {
     "name": "stderr",
     "output_type": "stream",
     "text": [
      "\rDictTransformer fit:  94%|█████████▍| 9862933/10468770 [00:27<00:01, 445882.28it/s]"
     ]
    },
    {
     "name": "stderr",
     "output_type": "stream",
     "text": [
      "\rDictTransformer fit:  95%|█████████▍| 9910170/10468770 [00:28<00:01, 453509.92it/s]"
     ]
    },
    {
     "name": "stderr",
     "output_type": "stream",
     "text": [
      "\rDictTransformer fit:  95%|█████████▌| 9955635/10468770 [00:28<00:01, 447523.15it/s]"
     ]
    },
    {
     "name": "stderr",
     "output_type": "stream",
     "text": [
      "\rDictTransformer fit:  96%|█████████▌| 10000485/10468770 [00:28<00:01, 445284.24it/s]"
     ]
    },
    {
     "name": "stderr",
     "output_type": "stream",
     "text": [
      "\rDictTransformer fit:  96%|█████████▌| 10045084/10468770 [00:28<00:01, 400775.65it/s]"
     ]
    },
    {
     "name": "stderr",
     "output_type": "stream",
     "text": [
      "\rDictTransformer fit:  96%|█████████▋| 10086053/10468770 [00:28<00:00, 397927.53it/s]"
     ]
    },
    {
     "name": "stderr",
     "output_type": "stream",
     "text": [
      "\rDictTransformer fit:  97%|█████████▋| 10128022/10468770 [00:28<00:00, 404214.55it/s]"
     ]
    },
    {
     "name": "stderr",
     "output_type": "stream",
     "text": [
      "\rDictTransformer fit:  97%|█████████▋| 10174452/10468770 [00:28<00:00, 420534.63it/s]"
     ]
    },
    {
     "name": "stderr",
     "output_type": "stream",
     "text": [
      "\rDictTransformer fit:  98%|█████████▊| 10217614/10468770 [00:28<00:00, 423797.43it/s]"
     ]
    },
    {
     "name": "stderr",
     "output_type": "stream",
     "text": [
      "\rDictTransformer fit:  98%|█████████▊| 10263741/10468770 [00:28<00:00, 434382.90it/s]"
     ]
    },
    {
     "name": "stderr",
     "output_type": "stream",
     "text": [
      "\rDictTransformer fit:  98%|█████████▊| 10308041/10468770 [00:28<00:00, 436931.20it/s]"
     ]
    },
    {
     "name": "stderr",
     "output_type": "stream",
     "text": [
      "\rDictTransformer fit:  99%|█████████▉| 10354389/10468770 [00:29<00:00, 444565.84it/s]"
     ]
    },
    {
     "name": "stderr",
     "output_type": "stream",
     "text": [
      "\rDictTransformer fit:  99%|█████████▉| 10401136/10468770 [00:29<00:00, 451196.78it/s]"
     ]
    },
    {
     "name": "stderr",
     "output_type": "stream",
     "text": [
      "\rDictTransformer fit: 100%|█████████▉| 10447133/10468770 [00:29<00:00, 453780.09it/s]"
     ]
    },
    {
     "name": "stderr",
     "output_type": "stream",
     "text": [
      "\rDictTransformer fit: 100%|██████████| 10468770/10468770 [00:29<00:00, 353426.68it/s]"
     ]
    },
    {
     "name": "stderr",
     "output_type": "stream",
     "text": [
      "\n"
     ]
    },
    {
     "name": "stderr",
     "output_type": "stream",
     "text": [
      "\rMorphologyExtractor transform:   0%|          | 0/105746 [00:00<?, ?it/s]"
     ]
    },
    {
     "name": "stderr",
     "output_type": "stream",
     "text": [
      "\rMorphologyExtractor transform:   2%|▏         | 2308/105746 [00:00<00:04, 23078.43it/s]"
     ]
    },
    {
     "name": "stderr",
     "output_type": "stream",
     "text": [
      "\rMorphologyExtractor transform:   5%|▍         | 5159/105746 [00:00<00:04, 24469.03it/s]"
     ]
    },
    {
     "name": "stderr",
     "output_type": "stream",
     "text": [
      "\rMorphologyExtractor transform:   8%|▊         | 8063/105746 [00:00<00:03, 25675.56it/s]"
     ]
    },
    {
     "name": "stderr",
     "output_type": "stream",
     "text": [
      "\rMorphologyExtractor transform:  11%|█         | 11190/105746 [00:00<00:03, 27130.07it/s]"
     ]
    },
    {
     "name": "stderr",
     "output_type": "stream",
     "text": [
      "\rMorphologyExtractor transform:  14%|█▎        | 14536/105746 [00:00<00:03, 28757.63it/s]"
     ]
    },
    {
     "name": "stderr",
     "output_type": "stream",
     "text": [
      "\rMorphologyExtractor transform:  17%|█▋        | 17824/105746 [00:00<00:02, 29880.50it/s]"
     ]
    },
    {
     "name": "stderr",
     "output_type": "stream",
     "text": [
      "\rMorphologyExtractor transform:  20%|██        | 21419/105746 [00:00<00:02, 31465.82it/s]"
     ]
    },
    {
     "name": "stderr",
     "output_type": "stream",
     "text": [
      "\rMorphologyExtractor transform:  24%|██▎       | 25094/105746 [00:00<00:02, 32876.04it/s]"
     ]
    },
    {
     "name": "stderr",
     "output_type": "stream",
     "text": [
      "\rMorphologyExtractor transform:  27%|██▋       | 28844/105746 [00:00<00:02, 34136.72it/s]"
     ]
    },
    {
     "name": "stderr",
     "output_type": "stream",
     "text": [
      "\rMorphologyExtractor transform:  31%|███       | 32716/105746 [00:01<00:02, 35391.95it/s]"
     ]
    },
    {
     "name": "stderr",
     "output_type": "stream",
     "text": [
      "\rMorphologyExtractor transform:  35%|███▍      | 36657/105746 [00:01<00:01, 36508.10it/s]"
     ]
    },
    {
     "name": "stderr",
     "output_type": "stream",
     "text": [
      "\rMorphologyExtractor transform:  38%|███▊      | 40567/105746 [00:01<00:01, 37234.48it/s]"
     ]
    },
    {
     "name": "stderr",
     "output_type": "stream",
     "text": [
      "\rMorphologyExtractor transform:  42%|████▏     | 44565/105746 [00:01<00:01, 37855.64it/s]"
     ]
    },
    {
     "name": "stderr",
     "output_type": "stream",
     "text": [
      "\rMorphologyExtractor transform:  46%|████▌     | 48731/105746 [00:01<00:01, 38905.15it/s]"
     ]
    },
    {
     "name": "stderr",
     "output_type": "stream",
     "text": [
      "\rMorphologyExtractor transform:  50%|████▉     | 52703/105746 [00:01<00:01, 39140.37it/s]"
     ]
    },
    {
     "name": "stderr",
     "output_type": "stream",
     "text": [
      "\rMorphologyExtractor transform:  54%|█████▍    | 57446/105746 [00:01<00:01, 41304.25it/s]"
     ]
    },
    {
     "name": "stderr",
     "output_type": "stream",
     "text": [
      "\rMorphologyExtractor transform:  58%|█████▊    | 61614/105746 [00:01<00:01, 41331.85it/s]"
     ]
    },
    {
     "name": "stderr",
     "output_type": "stream",
     "text": [
      "\rMorphologyExtractor transform:  62%|██████▏   | 65774/105746 [00:01<00:00, 41399.56it/s]"
     ]
    },
    {
     "name": "stderr",
     "output_type": "stream",
     "text": [
      "\rMorphologyExtractor transform:  66%|██████▌   | 70011/105746 [00:01<00:00, 41684.77it/s]"
     ]
    },
    {
     "name": "stderr",
     "output_type": "stream",
     "text": [
      "\rMorphologyExtractor transform:  70%|███████   | 74333/105746 [00:02<00:00, 42108.76it/s]"
     ]
    },
    {
     "name": "stderr",
     "output_type": "stream",
     "text": [
      "\rMorphologyExtractor transform:  75%|███████▍  | 78848/105746 [00:02<00:00, 42976.86it/s]"
     ]
    },
    {
     "name": "stderr",
     "output_type": "stream",
     "text": [
      "\rMorphologyExtractor transform:  79%|███████▉  | 83321/105746 [00:02<00:00, 43471.43it/s]"
     ]
    },
    {
     "name": "stderr",
     "output_type": "stream",
     "text": [
      "\rMorphologyExtractor transform:  83%|████████▎ | 87778/105746 [00:02<00:00, 43771.78it/s]"
     ]
    },
    {
     "name": "stderr",
     "output_type": "stream",
     "text": [
      "\rMorphologyExtractor transform:  87%|████████▋ | 92163/105746 [00:02<00:00, 43461.63it/s]"
     ]
    },
    {
     "name": "stderr",
     "output_type": "stream",
     "text": [
      "\rMorphologyExtractor transform:  92%|█████████▏| 96890/105746 [00:02<00:00, 44528.82it/s]"
     ]
    },
    {
     "name": "stderr",
     "output_type": "stream",
     "text": [
      "\rMorphologyExtractor transform:  97%|█████████▋| 102144/105746 [00:02<00:00, 46663.22it/s]"
     ]
    },
    {
     "name": "stderr",
     "output_type": "stream",
     "text": [
      "\rMorphologyExtractor transform: 100%|██████████| 105746/105746 [00:02<00:00, 39313.92it/s]"
     ]
    },
    {
     "name": "stderr",
     "output_type": "stream",
     "text": [
      "\n\rMorphologyExtractor transform:   0%|          | 0/105746 [00:00<?, ?it/s]"
     ]
    },
    {
     "name": "stderr",
     "output_type": "stream",
     "text": [
      "\rMorphologyExtractor transform:   4%|▍         | 4530/105746 [00:00<00:02, 45251.60it/s]"
     ]
    },
    {
     "name": "stderr",
     "output_type": "stream",
     "text": [
      "\rMorphologyExtractor transform:   8%|▊         | 8743/105746 [00:00<00:02, 44265.66it/s]"
     ]
    },
    {
     "name": "stderr",
     "output_type": "stream",
     "text": [
      "\rMorphologyExtractor transform:  13%|█▎        | 13831/105746 [00:00<00:01, 46057.42it/s]"
     ]
    },
    {
     "name": "stderr",
     "output_type": "stream",
     "text": [
      "\rMorphologyExtractor transform:  17%|█▋        | 18492/105746 [00:00<00:01, 46220.58it/s]"
     ]
    },
    {
     "name": "stderr",
     "output_type": "stream",
     "text": [
      "\rMorphologyExtractor transform:  22%|██▏       | 23332/105746 [00:00<00:01, 46849.18it/s]"
     ]
    },
    {
     "name": "stderr",
     "output_type": "stream",
     "text": [
      "\rMorphologyExtractor transform:  27%|██▋       | 28745/105746 [00:00<00:01, 48814.76it/s]"
     ]
    },
    {
     "name": "stderr",
     "output_type": "stream",
     "text": [
      "\rMorphologyExtractor transform:  32%|███▏      | 33523/105746 [00:00<00:01, 48475.32it/s]"
     ]
    },
    {
     "name": "stderr",
     "output_type": "stream",
     "text": [
      "\rMorphologyExtractor transform:  37%|███▋      | 38643/105746 [00:00<00:01, 49261.35it/s]"
     ]
    },
    {
     "name": "stderr",
     "output_type": "stream",
     "text": [
      "\rMorphologyExtractor transform:  41%|████▏     | 43839/105746 [00:00<00:01, 50036.27it/s]"
     ]
    },
    {
     "name": "stderr",
     "output_type": "stream",
     "text": [
      "\rMorphologyExtractor transform:  46%|████▋     | 49001/105746 [00:01<00:01, 50496.83it/s]"
     ]
    },
    {
     "name": "stderr",
     "output_type": "stream",
     "text": [
      "\rMorphologyExtractor transform:  51%|█████     | 54181/105746 [00:01<00:01, 50870.92it/s]"
     ]
    },
    {
     "name": "stderr",
     "output_type": "stream",
     "text": [
      "\rMorphologyExtractor transform:  57%|█████▋    | 59833/105746 [00:01<00:00, 52421.68it/s]"
     ]
    },
    {
     "name": "stderr",
     "output_type": "stream",
     "text": [
      "\rMorphologyExtractor transform:  62%|██████▏   | 65265/105746 [00:01<00:00, 52972.46it/s]"
     ]
    },
    {
     "name": "stderr",
     "output_type": "stream",
     "text": [
      "\rMorphologyExtractor transform:  67%|██████▋   | 70669/105746 [00:01<00:00, 53287.79it/s]"
     ]
    },
    {
     "name": "stderr",
     "output_type": "stream",
     "text": [
      "\rMorphologyExtractor transform:  72%|███████▏  | 76216/105746 [00:01<00:00, 53924.07it/s]"
     ]
    },
    {
     "name": "stderr",
     "output_type": "stream",
     "text": [
      "\rMorphologyExtractor transform:  77%|███████▋  | 81768/105746 [00:01<00:00, 54388.16it/s]"
     ]
    },
    {
     "name": "stderr",
     "output_type": "stream",
     "text": [
      "\rMorphologyExtractor transform:  82%|████████▏ | 87200/105746 [00:01<00:00, 54316.30it/s]"
     ]
    },
    {
     "name": "stderr",
     "output_type": "stream",
     "text": [
      "\rMorphologyExtractor transform:  88%|████████▊ | 92726/105746 [00:01<00:00, 54564.48it/s]"
     ]
    },
    {
     "name": "stderr",
     "output_type": "stream",
     "text": [
      "\rMorphologyExtractor transform:  93%|█████████▎| 98179/105746 [00:01<00:00, 54128.02it/s]"
     ]
    },
    {
     "name": "stderr",
     "output_type": "stream",
     "text": [
      "\rMorphologyExtractor transform:  98%|█████████▊| 103591/105746 [00:02<00:00, 53971.93it/s]"
     ]
    },
    {
     "name": "stderr",
     "output_type": "stream",
     "text": [
      "\rMorphologyExtractor transform: 100%|██████████| 105746/105746 [00:02<00:00, 51694.90it/s]"
     ]
    },
    {
     "name": "stderr",
     "output_type": "stream",
     "text": [
      "\n"
     ]
    },
    {
     "name": "stderr",
     "output_type": "stream",
     "text": [
      "\rMorphologyExtractor transform:   0%|          | 0/105746 [00:00<?, ?it/s]"
     ]
    },
    {
     "name": "stderr",
     "output_type": "stream",
     "text": [
      "\rMorphologyExtractor transform:   5%|▍         | 5276/105746 [00:00<00:01, 52731.13it/s]"
     ]
    },
    {
     "name": "stderr",
     "output_type": "stream",
     "text": [
      "\rMorphologyExtractor transform:  10%|█         | 10611/105746 [00:00<00:01, 52915.11it/s]"
     ]
    },
    {
     "name": "stderr",
     "output_type": "stream",
     "text": [
      "\rMorphologyExtractor transform:  15%|█▌        | 16122/105746 [00:00<00:01, 53534.84it/s]"
     ]
    },
    {
     "name": "stderr",
     "output_type": "stream",
     "text": [
      "\rMorphologyExtractor transform:  20%|█▉        | 20693/105746 [00:00<00:01, 50914.42it/s]"
     ]
    },
    {
     "name": "stderr",
     "output_type": "stream",
     "text": [
      "\rMorphologyExtractor transform:  25%|██▍       | 26200/105746 [00:00<00:01, 52090.94it/s]"
     ]
    },
    {
     "name": "stderr",
     "output_type": "stream",
     "text": [
      "\rMorphologyExtractor transform:  30%|███       | 32143/105746 [00:00<00:01, 54086.12it/s]"
     ]
    },
    {
     "name": "stderr",
     "output_type": "stream",
     "text": [
      "\rMorphologyExtractor transform:  36%|███▌      | 38048/105746 [00:00<00:01, 55483.84it/s]"
     ]
    },
    {
     "name": "stderr",
     "output_type": "stream",
     "text": [
      "\rMorphologyExtractor transform:  42%|████▏     | 44446/105746 [00:00<00:01, 57785.75it/s]"
     ]
    },
    {
     "name": "stderr",
     "output_type": "stream",
     "text": [
      "\rMorphologyExtractor transform:  48%|████▊     | 50570/105746 [00:00<00:00, 58774.69it/s]"
     ]
    },
    {
     "name": "stderr",
     "output_type": "stream",
     "text": [
      "\rMorphologyExtractor transform:  53%|█████▎    | 56336/105746 [00:01<00:00, 58434.53it/s]"
     ]
    },
    {
     "name": "stderr",
     "output_type": "stream",
     "text": [
      "\rMorphologyExtractor transform:  59%|█████▉    | 62380/105746 [00:01<00:00, 59021.75it/s]"
     ]
    },
    {
     "name": "stderr",
     "output_type": "stream",
     "text": [
      "\rMorphologyExtractor transform:  65%|██████▍   | 68477/105746 [00:01<00:00, 59576.92it/s]"
     ]
    },
    {
     "name": "stderr",
     "output_type": "stream",
     "text": [
      "\rMorphologyExtractor transform:  71%|███████   | 74739/105746 [00:01<00:00, 60452.71it/s]"
     ]
    },
    {
     "name": "stderr",
     "output_type": "stream",
     "text": [
      "\rMorphologyExtractor transform:  76%|███████▋  | 80748/105746 [00:01<00:00, 56171.70it/s]"
     ]
    },
    {
     "name": "stderr",
     "output_type": "stream",
     "text": [
      "\rMorphologyExtractor transform:  82%|████████▏ | 87125/105746 [00:01<00:00, 58247.79it/s]"
     ]
    },
    {
     "name": "stderr",
     "output_type": "stream",
     "text": [
      "\rMorphologyExtractor transform:  88%|████████▊ | 93386/105746 [00:01<00:00, 59490.92it/s]"
     ]
    },
    {
     "name": "stderr",
     "output_type": "stream",
     "text": [
      "\rMorphologyExtractor transform:  95%|█████████▍| 100245/105746 [00:01<00:00, 61955.15it/s]"
     ]
    },
    {
     "name": "stderr",
     "output_type": "stream",
     "text": [
      "\rMorphologyExtractor transform: 100%|██████████| 105746/105746 [00:01<00:00, 58269.39it/s]"
     ]
    },
    {
     "name": "stderr",
     "output_type": "stream",
     "text": [
      "\n"
     ]
    },
    {
     "name": "stderr",
     "output_type": "stream",
     "text": [
      "\rDigitTransformer transform:   0%|          | 0/105746 [00:00<?, ?it/s]"
     ]
    },
    {
     "name": "stderr",
     "output_type": "stream",
     "text": [
      "\rDigitTransformer transform:  63%|██████▎   | 66104/105746 [00:00<00:00, 661039.05it/s]"
     ]
    },
    {
     "name": "stderr",
     "output_type": "stream",
     "text": [
      "\rDigitTransformer transform: 100%|██████████| 105746/105746 [00:00<00:00, 689420.15it/s]"
     ]
    },
    {
     "name": "stderr",
     "output_type": "stream",
     "text": [
      "\n"
     ]
    },
    {
     "name": "stderr",
     "output_type": "stream",
     "text": [
      "\rDictClassTransformer_TRANS pre transform:   0%|          | 0/129409 [00:00<?, ?it/s]"
     ]
    },
    {
     "name": "stderr",
     "output_type": "stream",
     "text": [
      "\rDictClassTransformer_TRANS pre transform:  11%|█▏        | 14677/129409 [00:00<00:00, 146758.24it/s]"
     ]
    },
    {
     "name": "stderr",
     "output_type": "stream",
     "text": [
      "\rDictClassTransformer_TRANS pre transform:  22%|██▏       | 29071/129409 [00:00<00:00, 145900.76it/s]"
     ]
    },
    {
     "name": "stderr",
     "output_type": "stream",
     "text": [
      "\rDictClassTransformer_TRANS pre transform:  33%|███▎      | 43243/129409 [00:00<00:00, 144619.53it/s]"
     ]
    },
    {
     "name": "stderr",
     "output_type": "stream",
     "text": [
      "\rDictClassTransformer_TRANS pre transform:  45%|████▍     | 58172/129409 [00:00<00:00, 145989.23it/s]"
     ]
    },
    {
     "name": "stderr",
     "output_type": "stream",
     "text": [
      "\rDictClassTransformer_TRANS pre transform:  56%|█████▋    | 73071/129409 [00:00<00:00, 146875.07it/s]"
     ]
    },
    {
     "name": "stderr",
     "output_type": "stream",
     "text": [
      "\rDictClassTransformer_TRANS pre transform:  68%|██████▊   | 87445/129409 [00:00<00:00, 145913.12it/s]"
     ]
    },
    {
     "name": "stderr",
     "output_type": "stream",
     "text": [
      "\rDictClassTransformer_TRANS pre transform:  80%|███████▉  | 102959/129409 [00:00<00:00, 148560.03it/s]"
     ]
    },
    {
     "name": "stderr",
     "output_type": "stream",
     "text": [
      "\rDictClassTransformer_TRANS pre transform:  92%|█████████▏| 118437/129409 [00:00<00:00, 150371.99it/s]"
     ]
    },
    {
     "name": "stderr",
     "output_type": "stream",
     "text": [
      "\rDictClassTransformer_TRANS pre transform: 100%|██████████| 129409/129409 [00:00<00:00, 148330.64it/s]"
     ]
    },
    {
     "name": "stderr",
     "output_type": "stream",
     "text": [
      "\n\rDictClassTransformer_TRANS transform:   0%|          | 0/105746 [00:00<?, ?it/s]"
     ]
    },
    {
     "name": "stderr",
     "output_type": "stream",
     "text": [
      "\rDictClassTransformer_TRANS transform:  94%|█████████▍| 99664/105746 [00:00<00:00, 996629.07it/s]"
     ]
    },
    {
     "name": "stderr",
     "output_type": "stream",
     "text": [
      "\rDictClassTransformer_TRANS transform: 100%|██████████| 105746/105746 [00:00<00:00, 979075.23it/s]"
     ]
    },
    {
     "name": "stderr",
     "output_type": "stream",
     "text": [
      "\n"
     ]
    },
    {
     "name": "stderr",
     "output_type": "stream",
     "text": [
      "\rDashTransformer transform:   0%|          | 0/105746 [00:00<?, ?it/s]"
     ]
    },
    {
     "name": "stderr",
     "output_type": "stream",
     "text": [
      "\rDashTransformer transform:  69%|██████▊   | 72664/105746 [00:00<00:00, 726638.96it/s]"
     ]
    },
    {
     "name": "stderr",
     "output_type": "stream",
     "text": [
      "\rDashTransformer transform: 100%|██████████| 105746/105746 [00:00<00:00, 743804.91it/s]"
     ]
    },
    {
     "name": "stderr",
     "output_type": "stream",
     "text": [
      "\n"
     ]
    },
    {
     "name": "stderr",
     "output_type": "stream",
     "text": [
      "\rDictClassTransformer_PUNCT pre transform:   0%|          | 0/22 [00:00<?, ?it/s]"
     ]
    },
    {
     "name": "stderr",
     "output_type": "stream",
     "text": [
      "\rDictClassTransformer_PUNCT pre transform: 100%|██████████| 22/22 [00:00<00:00, 92459.61it/s]"
     ]
    },
    {
     "name": "stderr",
     "output_type": "stream",
     "text": [
      "\n\rDictClassTransformer_PUNCT transform:   0%|          | 0/105746 [00:00<?, ?it/s]"
     ]
    },
    {
     "name": "stderr",
     "output_type": "stream",
     "text": [
      "\rDictClassTransformer_PUNCT transform:  89%|████████▉ | 94503/105746 [00:00<00:00, 945028.65it/s]"
     ]
    },
    {
     "name": "stderr",
     "output_type": "stream",
     "text": [
      "\rDictClassTransformer_PUNCT transform: 100%|██████████| 105746/105746 [00:00<00:00, 938197.24it/s]"
     ]
    },
    {
     "name": "stderr",
     "output_type": "stream",
     "text": [
      "\n"
     ]
    },
    {
     "name": "stderr",
     "output_type": "stream",
     "text": [
      "\rDictClassTransformer_VERBATIM pre transform:   0%|          | 0/2496 [00:00<?, ?it/s]"
     ]
    },
    {
     "name": "stderr",
     "output_type": "stream",
     "text": [
      "\rDictClassTransformer_VERBATIM pre transform: 100%|██████████| 2496/2496 [00:00<00:00, 80549.84it/s]"
     ]
    },
    {
     "name": "stderr",
     "output_type": "stream",
     "text": [
      "\n\rDictClassTransformer_VERBATIM transform:   0%|          | 0/105746 [00:00<?, ?it/s]"
     ]
    },
    {
     "name": "stderr",
     "output_type": "stream",
     "text": [
      "\rDictClassTransformer_VERBATIM transform:  59%|█████▊    | 61940/105746 [00:00<00:00, 619399.11it/s]"
     ]
    },
    {
     "name": "stderr",
     "output_type": "stream",
     "text": [
      "\rDictClassTransformer_VERBATIM transform: 100%|██████████| 105746/105746 [00:00<00:00, 724107.21it/s]"
     ]
    },
    {
     "name": "stderr",
     "output_type": "stream",
     "text": [
      "\n"
     ]
    },
    {
     "name": "stderr",
     "output_type": "stream",
     "text": [
      "\rLatinTransliterator transform:   0%|          | 0/105746 [00:00<?, ?it/s]"
     ]
    },
    {
     "name": "stderr",
     "output_type": "stream",
     "text": [
      "\rLatinTransliterator transform: 100%|██████████| 105746/105746 [00:00<00:00, 1125136.02it/s]"
     ]
    },
    {
     "name": "stderr",
     "output_type": "stream",
     "text": [
      "\n"
     ]
    },
    {
     "name": "stderr",
     "output_type": "stream",
     "text": [
      "\rMorphologyExtractor transform:   0%|          | 0/105746 [00:00<?, ?it/s]"
     ]
    },
    {
     "name": "stderr",
     "output_type": "stream",
     "text": [
      "\rMorphologyExtractor transform:   2%|▏         | 1702/105746 [00:00<00:06, 17017.95it/s]"
     ]
    },
    {
     "name": "stderr",
     "output_type": "stream",
     "text": [
      "\rMorphologyExtractor transform:   4%|▍         | 4109/105746 [00:00<00:05, 18652.06it/s]"
     ]
    },
    {
     "name": "stderr",
     "output_type": "stream",
     "text": [
      "\rMorphologyExtractor transform:   6%|▋         | 6801/105746 [00:00<00:04, 20542.93it/s]"
     ]
    },
    {
     "name": "stderr",
     "output_type": "stream",
     "text": [
      "\rMorphologyExtractor transform:   9%|▉         | 9614/105746 [00:00<00:04, 22350.43it/s]"
     ]
    },
    {
     "name": "stderr",
     "output_type": "stream",
     "text": [
      "\rMorphologyExtractor transform:  12%|█▏        | 12778/105746 [00:00<00:03, 24508.47it/s]"
     ]
    },
    {
     "name": "stderr",
     "output_type": "stream",
     "text": [
      "\rMorphologyExtractor transform:  15%|█▌        | 16062/105746 [00:00<00:03, 26524.86it/s]"
     ]
    },
    {
     "name": "stderr",
     "output_type": "stream",
     "text": [
      "\rMorphologyExtractor transform:  18%|█▊        | 19333/105746 [00:00<00:03, 28119.94it/s]"
     ]
    },
    {
     "name": "stderr",
     "output_type": "stream",
     "text": [
      "\rMorphologyExtractor transform:  21%|██        | 22285/105746 [00:00<00:02, 28525.65it/s]"
     ]
    },
    {
     "name": "stderr",
     "output_type": "stream",
     "text": [
      "\rMorphologyExtractor transform:  24%|██▍       | 25836/105746 [00:00<00:02, 30314.22it/s]"
     ]
    },
    {
     "name": "stderr",
     "output_type": "stream",
     "text": [
      "\rMorphologyExtractor transform:  28%|██▊       | 29846/105746 [00:01<00:02, 32708.51it/s]"
     ]
    },
    {
     "name": "stderr",
     "output_type": "stream",
     "text": [
      "\rMorphologyExtractor transform:  32%|███▏      | 33977/105746 [00:01<00:02, 34886.22it/s]"
     ]
    },
    {
     "name": "stderr",
     "output_type": "stream",
     "text": [
      "\rMorphologyExtractor transform:  36%|███▌      | 37662/105746 [00:01<00:01, 35452.81it/s]"
     ]
    },
    {
     "name": "stderr",
     "output_type": "stream",
     "text": [
      "\rMorphologyExtractor transform:  39%|███▉      | 41273/105746 [00:01<00:01, 35620.64it/s]"
     ]
    },
    {
     "name": "stderr",
     "output_type": "stream",
     "text": [
      "\rMorphologyExtractor transform:  43%|████▎     | 45603/105746 [00:01<00:01, 37619.64it/s]"
     ]
    },
    {
     "name": "stderr",
     "output_type": "stream",
     "text": [
      "\rMorphologyExtractor transform:  47%|████▋     | 50028/105746 [00:01<00:01, 39385.99it/s]"
     ]
    },
    {
     "name": "stderr",
     "output_type": "stream",
     "text": [
      "\rMorphologyExtractor transform:  52%|█████▏    | 54524/105746 [00:01<00:01, 40903.54it/s]"
     ]
    },
    {
     "name": "stderr",
     "output_type": "stream",
     "text": [
      "\rMorphologyExtractor transform:  56%|█████▌    | 59075/105746 [00:01<00:01, 42170.42it/s]"
     ]
    },
    {
     "name": "stderr",
     "output_type": "stream",
     "text": [
      "\rMorphologyExtractor transform:  60%|█████▉    | 63345/105746 [00:01<00:01, 42253.50it/s]"
     ]
    },
    {
     "name": "stderr",
     "output_type": "stream",
     "text": [
      "\rMorphologyExtractor transform:  64%|██████▍   | 68113/105746 [00:01<00:00, 43743.80it/s]"
     ]
    },
    {
     "name": "stderr",
     "output_type": "stream",
     "text": [
      "\rMorphologyExtractor transform:  69%|██████▊   | 72527/105746 [00:02<00:00, 42892.32it/s]"
     ]
    },
    {
     "name": "stderr",
     "output_type": "stream",
     "text": [
      "\rMorphologyExtractor transform:  73%|███████▎  | 76897/105746 [00:02<00:00, 43130.97it/s]"
     ]
    },
    {
     "name": "stderr",
     "output_type": "stream",
     "text": [
      "\rMorphologyExtractor transform:  77%|███████▋  | 81643/105746 [00:02<00:00, 44313.37it/s]"
     ]
    },
    {
     "name": "stderr",
     "output_type": "stream",
     "text": [
      "\rMorphologyExtractor transform:  82%|████████▏ | 86281/105746 [00:02<00:00, 44899.81it/s]"
     ]
    },
    {
     "name": "stderr",
     "output_type": "stream",
     "text": [
      "\rMorphologyExtractor transform:  86%|████████▌ | 90812/105746 [00:02<00:00, 44990.73it/s]"
     ]
    },
    {
     "name": "stderr",
     "output_type": "stream",
     "text": [
      "\rMorphologyExtractor transform:  90%|█████████ | 95671/105746 [00:02<00:00, 46011.83it/s]"
     ]
    },
    {
     "name": "stderr",
     "output_type": "stream",
     "text": [
      "\rMorphologyExtractor transform:  95%|█████████▌| 100637/105746 [00:02<00:00, 47022.93it/s]"
     ]
    },
    {
     "name": "stderr",
     "output_type": "stream",
     "text": [
      "\rMorphologyExtractor transform: 100%|█████████▉| 105356/105746 [00:02<00:00, 46822.56it/s]"
     ]
    },
    {
     "name": "stderr",
     "output_type": "stream",
     "text": [
      "\rMorphologyExtractor transform: 100%|██████████| 105746/105746 [00:02<00:00, 38801.34it/s]"
     ]
    },
    {
     "name": "stderr",
     "output_type": "stream",
     "text": [
      "\n\rMorphologyExtractor transform:   0%|          | 0/105746 [00:00<?, ?it/s]"
     ]
    },
    {
     "name": "stderr",
     "output_type": "stream",
     "text": [
      "\rMorphologyExtractor transform:   4%|▍         | 4515/105746 [00:00<00:02, 45131.43it/s]"
     ]
    },
    {
     "name": "stderr",
     "output_type": "stream",
     "text": [
      "\rMorphologyExtractor transform:   8%|▊         | 8826/105746 [00:00<00:02, 44498.45it/s]"
     ]
    },
    {
     "name": "stderr",
     "output_type": "stream",
     "text": [
      "\rMorphologyExtractor transform:  13%|█▎        | 13663/105746 [00:00<00:02, 45589.78it/s]"
     ]
    },
    {
     "name": "stderr",
     "output_type": "stream",
     "text": [
      "\rMorphologyExtractor transform:  17%|█▋        | 18433/105746 [00:00<00:01, 46200.27it/s]"
     ]
    },
    {
     "name": "stderr",
     "output_type": "stream",
     "text": [
      "\rMorphologyExtractor transform:  22%|██▏       | 23298/105746 [00:00<00:01, 46906.18it/s]"
     ]
    },
    {
     "name": "stderr",
     "output_type": "stream",
     "text": [
      "\rMorphologyExtractor transform:  27%|██▋       | 28550/105746 [00:00<00:01, 48459.19it/s]"
     ]
    },
    {
     "name": "stderr",
     "output_type": "stream",
     "text": [
      "\rMorphologyExtractor transform:  32%|███▏      | 33361/105746 [00:00<00:01, 48348.39it/s]"
     ]
    },
    {
     "name": "stderr",
     "output_type": "stream",
     "text": [
      "\rMorphologyExtractor transform:  36%|███▌      | 38244/105746 [00:00<00:01, 48481.18it/s]"
     ]
    },
    {
     "name": "stderr",
     "output_type": "stream",
     "text": [
      "\rMorphologyExtractor transform:  41%|████      | 42842/105746 [00:00<00:01, 46707.21it/s]"
     ]
    },
    {
     "name": "stderr",
     "output_type": "stream",
     "text": [
      "\rMorphologyExtractor transform:  45%|████▌     | 48090/105746 [00:01<00:01, 48301.00it/s]"
     ]
    },
    {
     "name": "stderr",
     "output_type": "stream",
     "text": [
      "\rMorphologyExtractor transform:  50%|█████     | 52901/105746 [00:01<00:01, 48242.24it/s]"
     ]
    },
    {
     "name": "stderr",
     "output_type": "stream",
     "text": [
      "\rMorphologyExtractor transform:  55%|█████▍    | 57785/105746 [00:01<00:00, 48419.59it/s]"
     ]
    },
    {
     "name": "stderr",
     "output_type": "stream",
     "text": [
      "\rMorphologyExtractor transform:  60%|█████▉    | 62948/105746 [00:01<00:00, 49335.39it/s]"
     ]
    },
    {
     "name": "stderr",
     "output_type": "stream",
     "text": [
      "\rMorphologyExtractor transform:  64%|██████▍   | 67852/105746 [00:01<00:00, 49184.13it/s]"
     ]
    },
    {
     "name": "stderr",
     "output_type": "stream",
     "text": [
      "\rMorphologyExtractor transform:  69%|██████▉   | 72750/105746 [00:01<00:00, 48828.61it/s]"
     ]
    },
    {
     "name": "stderr",
     "output_type": "stream",
     "text": [
      "\rMorphologyExtractor transform:  74%|███████▍  | 78387/105746 [00:01<00:00, 50869.06it/s]"
     ]
    },
    {
     "name": "stderr",
     "output_type": "stream",
     "text": [
      "\rMorphologyExtractor transform:  79%|███████▉  | 83693/105746 [00:01<00:00, 51497.54it/s]"
     ]
    },
    {
     "name": "stderr",
     "output_type": "stream",
     "text": [
      "\rMorphologyExtractor transform:  84%|████████▍ | 88854/105746 [00:01<00:00, 47754.66it/s]"
     ]
    },
    {
     "name": "stderr",
     "output_type": "stream",
     "text": [
      "\rMorphologyExtractor transform:  89%|████████▉ | 94343/105746 [00:01<00:00, 49686.09it/s]"
     ]
    },
    {
     "name": "stderr",
     "output_type": "stream",
     "text": [
      "\rMorphologyExtractor transform:  94%|█████████▍| 99375/105746 [00:02<00:00, 46169.51it/s]"
     ]
    },
    {
     "name": "stderr",
     "output_type": "stream",
     "text": [
      "\rMorphologyExtractor transform:  98%|█████████▊| 104087/105746 [00:02<00:00, 41368.16it/s]"
     ]
    },
    {
     "name": "stderr",
     "output_type": "stream",
     "text": [
      "\rMorphologyExtractor transform: 100%|██████████| 105746/105746 [00:02<00:00, 47252.51it/s]"
     ]
    },
    {
     "name": "stderr",
     "output_type": "stream",
     "text": [
      "\n\rMorphologyExtractor transform:   0%|          | 0/105746 [00:00<?, ?it/s]"
     ]
    },
    {
     "name": "stderr",
     "output_type": "stream",
     "text": [
      "\rMorphologyExtractor transform:   5%|▍         | 5042/105746 [00:00<00:01, 50415.96it/s]"
     ]
    },
    {
     "name": "stderr",
     "output_type": "stream",
     "text": [
      "\rMorphologyExtractor transform:  10%|▉         | 10293/105746 [00:00<00:01, 51016.47it/s]"
     ]
    },
    {
     "name": "stderr",
     "output_type": "stream",
     "text": [
      "\rMorphologyExtractor transform:  14%|█▍        | 14865/105746 [00:00<00:01, 49302.68it/s]"
     ]
    },
    {
     "name": "stderr",
     "output_type": "stream",
     "text": [
      "\rMorphologyExtractor transform:  19%|█▉        | 19966/105746 [00:00<00:01, 49798.21it/s]"
     ]
    },
    {
     "name": "stderr",
     "output_type": "stream",
     "text": [
      "\rMorphologyExtractor transform:  24%|██▍       | 25456/105746 [00:00<00:01, 51225.90it/s]"
     ]
    },
    {
     "name": "stderr",
     "output_type": "stream",
     "text": [
      "\rMorphologyExtractor transform:  29%|██▉       | 30892/105746 [00:00<00:01, 52124.31it/s]"
     ]
    },
    {
     "name": "stderr",
     "output_type": "stream",
     "text": [
      "\rMorphologyExtractor transform:  35%|███▌      | 37171/105746 [00:00<00:01, 54901.44it/s]"
     ]
    },
    {
     "name": "stderr",
     "output_type": "stream",
     "text": [
      "\rMorphologyExtractor transform:  40%|███▉      | 42297/105746 [00:00<00:01, 52464.36it/s]"
     ]
    },
    {
     "name": "stderr",
     "output_type": "stream",
     "text": [
      "\rMorphologyExtractor transform:  46%|████▌     | 48162/105746 [00:00<00:01, 54174.69it/s]"
     ]
    },
    {
     "name": "stderr",
     "output_type": "stream",
     "text": [
      "\rMorphologyExtractor transform:  51%|█████     | 53432/105746 [00:01<00:01, 47464.66it/s]"
     ]
    },
    {
     "name": "stderr",
     "output_type": "stream",
     "text": [
      "\rMorphologyExtractor transform:  55%|█████▌    | 58225/105746 [00:01<00:01, 47284.09it/s]"
     ]
    },
    {
     "name": "stderr",
     "output_type": "stream",
     "text": [
      "\rMorphologyExtractor transform:  60%|█████▉    | 62987/105746 [00:01<00:01, 37458.41it/s]"
     ]
    },
    {
     "name": "stderr",
     "output_type": "stream",
     "text": [
      "\rMorphologyExtractor transform:  63%|██████▎   | 67077/105746 [00:01<00:01, 38042.99it/s]"
     ]
    },
    {
     "name": "stderr",
     "output_type": "stream",
     "text": [
      "\rMorphologyExtractor transform:  69%|██████▉   | 72743/105746 [00:01<00:00, 42202.58it/s]"
     ]
    },
    {
     "name": "stderr",
     "output_type": "stream",
     "text": [
      "\rMorphologyExtractor transform:  74%|███████▍  | 78533/105746 [00:01<00:00, 45931.76it/s]"
     ]
    },
    {
     "name": "stderr",
     "output_type": "stream",
     "text": [
      "\rMorphologyExtractor transform:  80%|████████  | 84843/105746 [00:01<00:00, 50010.75it/s]"
     ]
    },
    {
     "name": "stderr",
     "output_type": "stream",
     "text": [
      "\rMorphologyExtractor transform:  86%|████████▌ | 91177/105746 [00:01<00:00, 53367.54it/s]"
     ]
    },
    {
     "name": "stderr",
     "output_type": "stream",
     "text": [
      "\rMorphologyExtractor transform:  92%|█████████▏| 96986/105746 [00:01<00:00, 54701.47it/s]"
     ]
    },
    {
     "name": "stderr",
     "output_type": "stream",
     "text": [
      "\rMorphologyExtractor transform:  98%|█████████▊| 103305/105746 [00:02<00:00, 56995.11it/s]"
     ]
    },
    {
     "name": "stderr",
     "output_type": "stream",
     "text": [
      "\rMorphologyExtractor transform: 100%|██████████| 105746/105746 [00:02<00:00, 50631.37it/s]"
     ]
    },
    {
     "name": "stderr",
     "output_type": "stream",
     "text": [
      "\n"
     ]
    },
    {
     "name": "stderr",
     "output_type": "stream",
     "text": [
      "\rDictNBHDTransformer pre transform:   0%|          | 0/7640906 [00:00<?, ?it/s]"
     ]
    },
    {
     "name": "stderr",
     "output_type": "stream",
     "text": [
      "\rDictNBHDTransformer pre transform:   0%|          | 24308/7640906 [00:00<00:31, 243075.02it/s]"
     ]
    },
    {
     "name": "stderr",
     "output_type": "stream",
     "text": [
      "\rDictNBHDTransformer pre transform:   1%|          | 49196/7640906 [00:00<00:31, 244787.26it/s]"
     ]
    },
    {
     "name": "stderr",
     "output_type": "stream",
     "text": [
      "\rDictNBHDTransformer pre transform:   1%|          | 78229/7640906 [00:00<00:29, 256871.74it/s]"
     ]
    },
    {
     "name": "stderr",
     "output_type": "stream",
     "text": [
      "\rDictNBHDTransformer pre transform:   1%|▏         | 106005/7640906 [00:00<00:28, 262799.19it/s]"
     ]
    },
    {
     "name": "stderr",
     "output_type": "stream",
     "text": [
      "\rDictNBHDTransformer pre transform:   2%|▏         | 133725/7640906 [00:00<00:28, 266948.51it/s]"
     ]
    },
    {
     "name": "stderr",
     "output_type": "stream",
     "text": [
      "\rDictNBHDTransformer pre transform:   2%|▏         | 163357/7640906 [00:00<00:27, 275128.27it/s]"
     ]
    },
    {
     "name": "stderr",
     "output_type": "stream",
     "text": [
      "\rDictNBHDTransformer pre transform:   3%|▎         | 192304/7640906 [00:00<00:26, 279278.63it/s]"
     ]
    },
    {
     "name": "stderr",
     "output_type": "stream",
     "text": [
      "\rDictNBHDTransformer pre transform:   3%|▎         | 218347/7640906 [00:00<00:29, 253243.57it/s]"
     ]
    },
    {
     "name": "stderr",
     "output_type": "stream",
     "text": [
      "\rDictNBHDTransformer pre transform:   3%|▎         | 243796/7640906 [00:00<00:29, 253614.84it/s]"
     ]
    },
    {
     "name": "stderr",
     "output_type": "stream",
     "text": [
      "\rDictNBHDTransformer pre transform:   4%|▎         | 268560/7640906 [00:01<00:30, 244456.29it/s]"
     ]
    },
    {
     "name": "stderr",
     "output_type": "stream",
     "text": [
      "\rDictNBHDTransformer pre transform:   4%|▍         | 292659/7640906 [00:01<00:31, 229720.00it/s]"
     ]
    },
    {
     "name": "stderr",
     "output_type": "stream",
     "text": [
      "\rDictNBHDTransformer pre transform:   4%|▍         | 315570/7640906 [00:01<00:33, 216981.37it/s]"
     ]
    },
    {
     "name": "stderr",
     "output_type": "stream",
     "text": [
      "\rDictNBHDTransformer pre transform:   4%|▍         | 340875/7640906 [00:01<00:32, 226672.28it/s]"
     ]
    },
    {
     "name": "stderr",
     "output_type": "stream",
     "text": [
      "\rDictNBHDTransformer pre transform:   5%|▍         | 363728/7640906 [00:01<00:37, 191550.04it/s]"
     ]
    },
    {
     "name": "stderr",
     "output_type": "stream",
     "text": [
      "\rDictNBHDTransformer pre transform:   5%|▌         | 389025/7640906 [00:01<00:35, 206597.34it/s]"
     ]
    },
    {
     "name": "stderr",
     "output_type": "stream",
     "text": [
      "\rDictNBHDTransformer pre transform:   5%|▌         | 415260/7640906 [00:01<00:32, 220660.61it/s]"
     ]
    },
    {
     "name": "stderr",
     "output_type": "stream",
     "text": [
      "\rDictNBHDTransformer pre transform:   6%|▌         | 441868/7640906 [00:01<00:30, 232566.26it/s]"
     ]
    },
    {
     "name": "stderr",
     "output_type": "stream",
     "text": [
      "\rDictNBHDTransformer pre transform:   6%|▌         | 469091/7640906 [00:01<00:29, 243189.09it/s]"
     ]
    },
    {
     "name": "stderr",
     "output_type": "stream",
     "text": [
      "\rDictNBHDTransformer pre transform:   6%|▋         | 494158/7640906 [00:02<00:30, 235201.78it/s]"
     ]
    },
    {
     "name": "stderr",
     "output_type": "stream",
     "text": [
      "\rDictNBHDTransformer pre transform:   7%|▋         | 520932/7640906 [00:02<00:29, 244100.68it/s]"
     ]
    },
    {
     "name": "stderr",
     "output_type": "stream",
     "text": [
      "\rDictNBHDTransformer pre transform:   7%|▋         | 548379/7640906 [00:02<00:28, 252480.16it/s]"
     ]
    },
    {
     "name": "stderr",
     "output_type": "stream",
     "text": [
      "\rDictNBHDTransformer pre transform:   8%|▊         | 574045/7640906 [00:02<00:27, 252388.02it/s]"
     ]
    },
    {
     "name": "stderr",
     "output_type": "stream",
     "text": [
      "\rDictNBHDTransformer pre transform:   8%|▊         | 600755/7640906 [00:02<00:27, 256628.47it/s]"
     ]
    },
    {
     "name": "stderr",
     "output_type": "stream",
     "text": [
      "\rDictNBHDTransformer pre transform:   8%|▊         | 629653/7640906 [00:02<00:26, 265546.47it/s]"
     ]
    },
    {
     "name": "stderr",
     "output_type": "stream",
     "text": [
      "\rDictNBHDTransformer pre transform:   9%|▊         | 658257/7640906 [00:02<00:25, 271379.31it/s]"
     ]
    },
    {
     "name": "stderr",
     "output_type": "stream",
     "text": [
      "\rDictNBHDTransformer pre transform:   9%|▉         | 689602/7640906 [00:02<00:24, 282764.13it/s]"
     ]
    },
    {
     "name": "stderr",
     "output_type": "stream",
     "text": [
      "\rDictNBHDTransformer pre transform:   9%|▉         | 718139/7640906 [00:02<00:28, 242300.23it/s]"
     ]
    },
    {
     "name": "stderr",
     "output_type": "stream",
     "text": [
      "\rDictNBHDTransformer pre transform:  10%|▉         | 747285/7640906 [00:03<00:27, 255212.74it/s]"
     ]
    },
    {
     "name": "stderr",
     "output_type": "stream",
     "text": [
      "\rDictNBHDTransformer pre transform:  10%|█         | 779743/7640906 [00:03<00:25, 272696.35it/s]"
     ]
    },
    {
     "name": "stderr",
     "output_type": "stream",
     "text": [
      "\rDictNBHDTransformer pre transform:  11%|█         | 809803/7640906 [00:03<00:24, 280504.81it/s]"
     ]
    },
    {
     "name": "stderr",
     "output_type": "stream",
     "text": [
      "\rDictNBHDTransformer pre transform:  11%|█         | 842881/7640906 [00:03<00:23, 293901.43it/s]"
     ]
    },
    {
     "name": "stderr",
     "output_type": "stream",
     "text": [
      "\rDictNBHDTransformer pre transform:  11%|█▏        | 875687/7640906 [00:03<00:22, 303372.88it/s]"
     ]
    },
    {
     "name": "stderr",
     "output_type": "stream",
     "text": [
      "\rDictNBHDTransformer pre transform:  12%|█▏        | 909306/7640906 [00:03<00:21, 312524.25it/s]"
     ]
    },
    {
     "name": "stderr",
     "output_type": "stream",
     "text": [
      "\rDictNBHDTransformer pre transform:  12%|█▏        | 942084/7640906 [00:03<00:21, 316943.05it/s]"
     ]
    },
    {
     "name": "stderr",
     "output_type": "stream",
     "text": [
      "\rDictNBHDTransformer pre transform:  13%|█▎        | 977351/7640906 [00:03<00:20, 326876.48it/s]"
     ]
    },
    {
     "name": "stderr",
     "output_type": "stream",
     "text": [
      "\rDictNBHDTransformer pre transform:  13%|█▎        | 1014699/7640906 [00:03<00:19, 339587.16it/s]"
     ]
    },
    {
     "name": "stderr",
     "output_type": "stream",
     "text": [
      "\rDictNBHDTransformer pre transform:  14%|█▍        | 1050923/7640906 [00:03<00:19, 346062.67it/s]"
     ]
    },
    {
     "name": "stderr",
     "output_type": "stream",
     "text": [
      "\rDictNBHDTransformer pre transform:  14%|█▍        | 1087873/7640906 [00:04<00:18, 352774.51it/s]"
     ]
    },
    {
     "name": "stderr",
     "output_type": "stream",
     "text": [
      "\rDictNBHDTransformer pre transform:  15%|█▍        | 1123377/7640906 [00:04<00:19, 342495.35it/s]"
     ]
    },
    {
     "name": "stderr",
     "output_type": "stream",
     "text": [
      "\rDictNBHDTransformer pre transform:  15%|█▌        | 1159119/7640906 [00:04<00:18, 346837.18it/s]"
     ]
    },
    {
     "name": "stderr",
     "output_type": "stream",
     "text": [
      "\rDictNBHDTransformer pre transform:  16%|█▌        | 1193973/7640906 [00:04<00:19, 325889.86it/s]"
     ]
    },
    {
     "name": "stderr",
     "output_type": "stream",
     "text": [
      "\rDictNBHDTransformer pre transform:  16%|█▌        | 1226940/7640906 [00:04<00:21, 300330.48it/s]"
     ]
    },
    {
     "name": "stderr",
     "output_type": "stream",
     "text": [
      "\rDictNBHDTransformer pre transform:  16%|█▋        | 1257633/7640906 [00:04<00:21, 292071.75it/s]"
     ]
    },
    {
     "name": "stderr",
     "output_type": "stream",
     "text": [
      "\rDictNBHDTransformer pre transform:  17%|█▋        | 1287352/7640906 [00:04<00:22, 285904.98it/s]"
     ]
    },
    {
     "name": "stderr",
     "output_type": "stream",
     "text": [
      "\rDictNBHDTransformer pre transform:  17%|█▋        | 1320152/7640906 [00:04<00:21, 297352.08it/s]"
     ]
    },
    {
     "name": "stderr",
     "output_type": "stream",
     "text": [
      "\rDictNBHDTransformer pre transform:  18%|█▊        | 1351494/7640906 [00:04<00:20, 301992.27it/s]"
     ]
    },
    {
     "name": "stderr",
     "output_type": "stream",
     "text": [
      "\rDictNBHDTransformer pre transform:  18%|█▊        | 1384140/7640906 [00:04<00:20, 308937.88it/s]"
     ]
    },
    {
     "name": "stderr",
     "output_type": "stream",
     "text": [
      "\rDictNBHDTransformer pre transform:  19%|█▊        | 1415276/7640906 [00:05<00:26, 238943.42it/s]"
     ]
    },
    {
     "name": "stderr",
     "output_type": "stream",
     "text": [
      "\rDictNBHDTransformer pre transform:  19%|█▉        | 1450169/7640906 [00:05<00:23, 263897.31it/s]"
     ]
    },
    {
     "name": "stderr",
     "output_type": "stream",
     "text": [
      "\rDictNBHDTransformer pre transform:  19%|█▉        | 1485080/7640906 [00:05<00:21, 284747.59it/s]"
     ]
    },
    {
     "name": "stderr",
     "output_type": "stream",
     "text": [
      "\rDictNBHDTransformer pre transform:  20%|█▉        | 1522293/7640906 [00:05<00:19, 306322.90it/s]"
     ]
    },
    {
     "name": "stderr",
     "output_type": "stream",
     "text": [
      "\rDictNBHDTransformer pre transform:  20%|██        | 1560786/7640906 [00:05<00:18, 326313.11it/s]"
     ]
    },
    {
     "name": "stderr",
     "output_type": "stream",
     "text": [
      "\rDictNBHDTransformer pre transform:  21%|██        | 1600302/7640906 [00:05<00:17, 344304.70it/s]"
     ]
    },
    {
     "name": "stderr",
     "output_type": "stream",
     "text": [
      "\rDictNBHDTransformer pre transform:  21%|██▏       | 1638682/7640906 [00:05<00:16, 355271.51it/s]"
     ]
    },
    {
     "name": "stderr",
     "output_type": "stream",
     "text": [
      "\rDictNBHDTransformer pre transform:  22%|██▏       | 1675951/7640906 [00:05<00:16, 360322.77it/s]"
     ]
    },
    {
     "name": "stderr",
     "output_type": "stream",
     "text": [
      "\rDictNBHDTransformer pre transform:  22%|██▏       | 1714565/7640906 [00:05<00:16, 367682.61it/s]"
     ]
    },
    {
     "name": "stderr",
     "output_type": "stream",
     "text": [
      "\rDictNBHDTransformer pre transform:  23%|██▎       | 1751952/7640906 [00:06<00:16, 366342.25it/s]"
     ]
    },
    {
     "name": "stderr",
     "output_type": "stream",
     "text": [
      "\rDictNBHDTransformer pre transform:  23%|██▎       | 1789358/7640906 [00:06<00:15, 368621.69it/s]"
     ]
    },
    {
     "name": "stderr",
     "output_type": "stream",
     "text": [
      "\rDictNBHDTransformer pre transform:  24%|██▍       | 1827680/7640906 [00:06<00:15, 372882.12it/s]"
     ]
    },
    {
     "name": "stderr",
     "output_type": "stream",
     "text": [
      "\rDictNBHDTransformer pre transform:  24%|██▍       | 1865195/7640906 [00:06<00:16, 343958.13it/s]"
     ]
    },
    {
     "name": "stderr",
     "output_type": "stream",
     "text": [
      "\rDictNBHDTransformer pre transform:  25%|██▍       | 1905035/7640906 [00:06<00:15, 358661.00it/s]"
     ]
    },
    {
     "name": "stderr",
     "output_type": "stream",
     "text": [
      "\rDictNBHDTransformer pre transform:  25%|██▌       | 1943195/7640906 [00:06<00:15, 365247.66it/s]"
     ]
    },
    {
     "name": "stderr",
     "output_type": "stream",
     "text": [
      "\rDictNBHDTransformer pre transform:  26%|██▌       | 1984132/7640906 [00:06<00:14, 377450.18it/s]"
     ]
    },
    {
     "name": "stderr",
     "output_type": "stream",
     "text": [
      "\rDictNBHDTransformer pre transform:  26%|██▋       | 2024519/7640906 [00:06<00:14, 385004.71it/s]"
     ]
    },
    {
     "name": "stderr",
     "output_type": "stream",
     "text": [
      "\rDictNBHDTransformer pre transform:  27%|██▋       | 2065921/7640906 [00:06<00:14, 393270.81it/s]"
     ]
    },
    {
     "name": "stderr",
     "output_type": "stream",
     "text": [
      "\rDictNBHDTransformer pre transform:  28%|██▊       | 2107298/7640906 [00:07<00:13, 399202.81it/s]"
     ]
    },
    {
     "name": "stderr",
     "output_type": "stream",
     "text": [
      "\rDictNBHDTransformer pre transform:  28%|██▊       | 2147430/7640906 [00:07<00:13, 393264.01it/s]"
     ]
    },
    {
     "name": "stderr",
     "output_type": "stream",
     "text": [
      "\rDictNBHDTransformer pre transform:  29%|██▊       | 2186924/7640906 [00:07<00:14, 388625.31it/s]"
     ]
    },
    {
     "name": "stderr",
     "output_type": "stream",
     "text": [
      "\rDictNBHDTransformer pre transform:  29%|██▉       | 2225917/7640906 [00:07<00:14, 384686.70it/s]"
     ]
    },
    {
     "name": "stderr",
     "output_type": "stream",
     "text": [
      "\rDictNBHDTransformer pre transform:  30%|██▉       | 2264486/7640906 [00:07<00:14, 382042.26it/s]"
     ]
    },
    {
     "name": "stderr",
     "output_type": "stream",
     "text": [
      "\rDictNBHDTransformer pre transform:  30%|███       | 2304492/7640906 [00:07<00:13, 387274.68it/s]"
     ]
    },
    {
     "name": "stderr",
     "output_type": "stream",
     "text": [
      "\rDictNBHDTransformer pre transform:  31%|███       | 2344974/7640906 [00:07<00:13, 392374.14it/s]"
     ]
    },
    {
     "name": "stderr",
     "output_type": "stream",
     "text": [
      "\rDictNBHDTransformer pre transform:  31%|███       | 2386280/7640906 [00:07<00:13, 398358.04it/s]"
     ]
    },
    {
     "name": "stderr",
     "output_type": "stream",
     "text": [
      "\rDictNBHDTransformer pre transform:  32%|███▏      | 2426338/7640906 [00:07<00:13, 399021.87it/s]"
     ]
    },
    {
     "name": "stderr",
     "output_type": "stream",
     "text": [
      "\rDictNBHDTransformer pre transform:  32%|███▏      | 2467903/7640906 [00:07<00:12, 403866.78it/s]"
     ]
    },
    {
     "name": "stderr",
     "output_type": "stream",
     "text": [
      "\rDictNBHDTransformer pre transform:  33%|███▎      | 2508655/7640906 [00:08<00:12, 404952.23it/s]"
     ]
    },
    {
     "name": "stderr",
     "output_type": "stream",
     "text": [
      "\rDictNBHDTransformer pre transform:  33%|███▎      | 2549185/7640906 [00:08<00:12, 401589.99it/s]"
     ]
    },
    {
     "name": "stderr",
     "output_type": "stream",
     "text": [
      "\rDictNBHDTransformer pre transform:  34%|███▍      | 2590801/7640906 [00:08<00:12, 405851.71it/s]"
     ]
    },
    {
     "name": "stderr",
     "output_type": "stream",
     "text": [
      "\rDictNBHDTransformer pre transform:  34%|███▍      | 2633055/7640906 [00:08<00:12, 410714.24it/s]"
     ]
    },
    {
     "name": "stderr",
     "output_type": "stream",
     "text": [
      "\rDictNBHDTransformer pre transform:  35%|███▍      | 2674163/7640906 [00:08<00:12, 410346.79it/s]"
     ]
    },
    {
     "name": "stderr",
     "output_type": "stream",
     "text": [
      "\rDictNBHDTransformer pre transform:  36%|███▌      | 2715224/7640906 [00:08<00:12, 409065.33it/s]"
     ]
    },
    {
     "name": "stderr",
     "output_type": "stream",
     "text": [
      "\rDictNBHDTransformer pre transform:  36%|███▌      | 2757122/7640906 [00:08<00:11, 411989.94it/s]"
     ]
    },
    {
     "name": "stderr",
     "output_type": "stream",
     "text": [
      "\rDictNBHDTransformer pre transform:  37%|███▋      | 2798340/7640906 [00:08<00:19, 246157.53it/s]"
     ]
    },
    {
     "name": "stderr",
     "output_type": "stream",
     "text": [
      "\rDictNBHDTransformer pre transform:  37%|███▋      | 2840520/7640906 [00:09<00:17, 281297.69it/s]"
     ]
    },
    {
     "name": "stderr",
     "output_type": "stream",
     "text": [
      "\rDictNBHDTransformer pre transform:  38%|███▊      | 2881299/7640906 [00:09<00:15, 310158.80it/s]"
     ]
    },
    {
     "name": "stderr",
     "output_type": "stream",
     "text": [
      "\rDictNBHDTransformer pre transform:  38%|███▊      | 2923165/7640906 [00:09<00:14, 336306.13it/s]"
     ]
    },
    {
     "name": "stderr",
     "output_type": "stream",
     "text": [
      "\rDictNBHDTransformer pre transform:  39%|███▉      | 2965776/7640906 [00:09<00:13, 359000.68it/s]"
     ]
    },
    {
     "name": "stderr",
     "output_type": "stream",
     "text": [
      "\rDictNBHDTransformer pre transform:  39%|███▉      | 3005611/7640906 [00:09<00:12, 369963.41it/s]"
     ]
    },
    {
     "name": "stderr",
     "output_type": "stream",
     "text": [
      "\rDictNBHDTransformer pre transform:  40%|███▉      | 3045388/7640906 [00:09<00:12, 371462.16it/s]"
     ]
    },
    {
     "name": "stderr",
     "output_type": "stream",
     "text": [
      "\rDictNBHDTransformer pre transform:  40%|████      | 3085641/7640906 [00:09<00:11, 380259.42it/s]"
     ]
    },
    {
     "name": "stderr",
     "output_type": "stream",
     "text": [
      "\rDictNBHDTransformer pre transform:  41%|████      | 3129999/7640906 [00:09<00:11, 397271.32it/s]"
     ]
    },
    {
     "name": "stderr",
     "output_type": "stream",
     "text": [
      "\rDictNBHDTransformer pre transform:  42%|████▏     | 3171354/7640906 [00:09<00:11, 402018.02it/s]"
     ]
    },
    {
     "name": "stderr",
     "output_type": "stream",
     "text": [
      "\rDictNBHDTransformer pre transform:  42%|████▏     | 3215552/7640906 [00:09<00:10, 413225.42it/s]"
     ]
    },
    {
     "name": "stderr",
     "output_type": "stream",
     "text": [
      "\rDictNBHDTransformer pre transform:  43%|████▎     | 3259935/7640906 [00:10<00:10, 421952.94it/s]"
     ]
    },
    {
     "name": "stderr",
     "output_type": "stream",
     "text": [
      "\rDictNBHDTransformer pre transform:  43%|████▎     | 3303206/7640906 [00:10<00:10, 425118.52it/s]"
     ]
    },
    {
     "name": "stderr",
     "output_type": "stream",
     "text": [
      "\rDictNBHDTransformer pre transform:  44%|████▍     | 3348182/7640906 [00:10<00:09, 432222.53it/s]"
     ]
    },
    {
     "name": "stderr",
     "output_type": "stream",
     "text": [
      "\rDictNBHDTransformer pre transform:  44%|████▍     | 3392648/7640906 [00:10<00:09, 435877.47it/s]"
     ]
    },
    {
     "name": "stderr",
     "output_type": "stream",
     "text": [
      "\rDictNBHDTransformer pre transform:  45%|████▍     | 3436443/7640906 [00:10<00:09, 433750.55it/s]"
     ]
    },
    {
     "name": "stderr",
     "output_type": "stream",
     "text": [
      "\rDictNBHDTransformer pre transform:  46%|████▌     | 3479966/7640906 [00:10<00:09, 431317.36it/s]"
     ]
    },
    {
     "name": "stderr",
     "output_type": "stream",
     "text": [
      "\rDictNBHDTransformer pre transform:  46%|████▌     | 3523204/7640906 [00:10<00:09, 424048.94it/s]"
     ]
    },
    {
     "name": "stderr",
     "output_type": "stream",
     "text": [
      "\rDictNBHDTransformer pre transform:  47%|████▋     | 3565711/7640906 [00:10<00:09, 421476.81it/s]"
     ]
    },
    {
     "name": "stderr",
     "output_type": "stream",
     "text": [
      "\rDictNBHDTransformer pre transform:  47%|████▋     | 3607934/7640906 [00:10<00:09, 415212.15it/s]"
     ]
    },
    {
     "name": "stderr",
     "output_type": "stream",
     "text": [
      "\rDictNBHDTransformer pre transform:  48%|████▊     | 3649529/7640906 [00:10<00:09, 412544.32it/s]"
     ]
    },
    {
     "name": "stderr",
     "output_type": "stream",
     "text": [
      "\rDictNBHDTransformer pre transform:  48%|████▊     | 3690839/7640906 [00:11<00:09, 401631.40it/s]"
     ]
    },
    {
     "name": "stderr",
     "output_type": "stream",
     "text": [
      "\rDictNBHDTransformer pre transform:  49%|████▉     | 3733887/7640906 [00:11<00:09, 409871.49it/s]"
     ]
    },
    {
     "name": "stderr",
     "output_type": "stream",
     "text": [
      "\rDictNBHDTransformer pre transform:  49%|████▉     | 3775696/7640906 [00:11<00:09, 412299.55it/s]"
     ]
    },
    {
     "name": "stderr",
     "output_type": "stream",
     "text": [
      "\rDictNBHDTransformer pre transform:  50%|████▉     | 3817009/7640906 [00:11<00:09, 399285.16it/s]"
     ]
    },
    {
     "name": "stderr",
     "output_type": "stream",
     "text": [
      "\rDictNBHDTransformer pre transform:  50%|█████     | 3858371/7640906 [00:11<00:09, 403474.39it/s]"
     ]
    },
    {
     "name": "stderr",
     "output_type": "stream",
     "text": [
      "\rDictNBHDTransformer pre transform:  51%|█████     | 3898832/7640906 [00:11<00:09, 389668.99it/s]"
     ]
    },
    {
     "name": "stderr",
     "output_type": "stream",
     "text": [
      "\rDictNBHDTransformer pre transform:  52%|█████▏    | 3939983/7640906 [00:11<00:09, 395972.67it/s]"
     ]
    },
    {
     "name": "stderr",
     "output_type": "stream",
     "text": [
      "\rDictNBHDTransformer pre transform:  52%|█████▏    | 3979733/7640906 [00:11<00:09, 392557.31it/s]"
     ]
    },
    {
     "name": "stderr",
     "output_type": "stream",
     "text": [
      "\rDictNBHDTransformer pre transform:  53%|█████▎    | 4023607/7640906 [00:11<00:08, 405357.80it/s]"
     ]
    },
    {
     "name": "stderr",
     "output_type": "stream",
     "text": [
      "\rDictNBHDTransformer pre transform:  53%|█████▎    | 4066877/7640906 [00:12<00:08, 413189.60it/s]"
     ]
    },
    {
     "name": "stderr",
     "output_type": "stream",
     "text": [
      "\rDictNBHDTransformer pre transform:  54%|█████▍    | 4109525/7640906 [00:12<00:08, 417084.96it/s]"
     ]
    },
    {
     "name": "stderr",
     "output_type": "stream",
     "text": [
      "\rDictNBHDTransformer pre transform:  54%|█████▍    | 4151359/7640906 [00:12<00:09, 381519.36it/s]"
     ]
    },
    {
     "name": "stderr",
     "output_type": "stream",
     "text": [
      "\rDictNBHDTransformer pre transform:  55%|█████▍    | 4191427/7640906 [00:12<00:08, 387057.74it/s]"
     ]
    },
    {
     "name": "stderr",
     "output_type": "stream",
     "text": [
      "\rDictNBHDTransformer pre transform:  55%|█████▌    | 4230627/7640906 [00:12<00:10, 339437.38it/s]"
     ]
    },
    {
     "name": "stderr",
     "output_type": "stream",
     "text": [
      "\rDictNBHDTransformer pre transform:  56%|█████▌    | 4265979/7640906 [00:12<00:10, 314635.45it/s]"
     ]
    },
    {
     "name": "stderr",
     "output_type": "stream",
     "text": [
      "\rDictNBHDTransformer pre transform:  56%|█████▋    | 4302571/7640906 [00:12<00:10, 328444.40it/s]"
     ]
    },
    {
     "name": "stderr",
     "output_type": "stream",
     "text": [
      "\rDictNBHDTransformer pre transform:  57%|█████▋    | 4340936/7640906 [00:12<00:09, 343259.62it/s]"
     ]
    },
    {
     "name": "stderr",
     "output_type": "stream",
     "text": [
      "\rDictNBHDTransformer pre transform:  57%|█████▋    | 4379127/7640906 [00:12<00:09, 354006.51it/s]"
     ]
    },
    {
     "name": "stderr",
     "output_type": "stream",
     "text": [
      "\rDictNBHDTransformer pre transform:  58%|█████▊    | 4417128/7640906 [00:13<00:08, 361415.83it/s]"
     ]
    },
    {
     "name": "stderr",
     "output_type": "stream",
     "text": [
      "\rDictNBHDTransformer pre transform:  58%|█████▊    | 4457920/7640906 [00:13<00:08, 374212.20it/s]"
     ]
    },
    {
     "name": "stderr",
     "output_type": "stream",
     "text": [
      "\rDictNBHDTransformer pre transform:  59%|█████▉    | 4498094/7640906 [00:13<00:08, 382060.76it/s]"
     ]
    },
    {
     "name": "stderr",
     "output_type": "stream",
     "text": [
      "\rDictNBHDTransformer pre transform:  59%|█████▉    | 4542962/7640906 [00:13<00:07, 399871.30it/s]"
     ]
    },
    {
     "name": "stderr",
     "output_type": "stream",
     "text": [
      "\rDictNBHDTransformer pre transform:  60%|██████    | 4589551/7640906 [00:13<00:07, 417621.73it/s]"
     ]
    },
    {
     "name": "stderr",
     "output_type": "stream",
     "text": [
      "\rDictNBHDTransformer pre transform:  61%|██████    | 4634864/7640906 [00:13<00:07, 427675.65it/s]"
     ]
    },
    {
     "name": "stderr",
     "output_type": "stream",
     "text": [
      "\rDictNBHDTransformer pre transform:  61%|██████    | 4679185/7640906 [00:13<00:06, 432219.01it/s]"
     ]
    },
    {
     "name": "stderr",
     "output_type": "stream",
     "text": [
      "\rDictNBHDTransformer pre transform:  62%|██████▏   | 4722731/7640906 [00:13<00:07, 410530.69it/s]"
     ]
    },
    {
     "name": "stderr",
     "output_type": "stream",
     "text": [
      "\rDictNBHDTransformer pre transform:  62%|██████▏   | 4764238/7640906 [00:13<00:07, 399986.36it/s]"
     ]
    },
    {
     "name": "stderr",
     "output_type": "stream",
     "text": [
      "\rDictNBHDTransformer pre transform:  63%|██████▎   | 4806099/7640906 [00:13<00:06, 405391.32it/s]"
     ]
    },
    {
     "name": "stderr",
     "output_type": "stream",
     "text": [
      "\rDictNBHDTransformer pre transform:  63%|██████▎   | 4848251/7640906 [00:14<00:06, 410096.36it/s]"
     ]
    },
    {
     "name": "stderr",
     "output_type": "stream",
     "text": [
      "\rDictNBHDTransformer pre transform:  64%|██████▍   | 4892701/7640906 [00:14<00:06, 419842.54it/s]"
     ]
    },
    {
     "name": "stderr",
     "output_type": "stream",
     "text": [
      "\rDictNBHDTransformer pre transform:  65%|██████▍   | 4936174/7640906 [00:14<00:06, 424199.24it/s]"
     ]
    },
    {
     "name": "stderr",
     "output_type": "stream",
     "text": [
      "\rDictNBHDTransformer pre transform:  65%|██████▌   | 4978748/7640906 [00:14<00:06, 422086.32it/s]"
     ]
    },
    {
     "name": "stderr",
     "output_type": "stream",
     "text": [
      "\rDictNBHDTransformer pre transform:  66%|██████▌   | 5021067/7640906 [00:14<00:06, 418399.81it/s]"
     ]
    },
    {
     "name": "stderr",
     "output_type": "stream",
     "text": [
      "\rDictNBHDTransformer pre transform:  66%|██████▋   | 5062992/7640906 [00:14<00:06, 418214.93it/s]"
     ]
    },
    {
     "name": "stderr",
     "output_type": "stream",
     "text": [
      "\rDictNBHDTransformer pre transform:  67%|██████▋   | 5104873/7640906 [00:14<00:06, 415322.16it/s]"
     ]
    },
    {
     "name": "stderr",
     "output_type": "stream",
     "text": [
      "\rDictNBHDTransformer pre transform:  67%|██████▋   | 5148191/7640906 [00:14<00:05, 420520.46it/s]"
     ]
    },
    {
     "name": "stderr",
     "output_type": "stream",
     "text": [
      "\rDictNBHDTransformer pre transform:  68%|██████▊   | 5190291/7640906 [00:14<00:05, 410662.05it/s]"
     ]
    },
    {
     "name": "stderr",
     "output_type": "stream",
     "text": [
      "\rDictNBHDTransformer pre transform:  68%|██████▊   | 5231442/7640906 [00:14<00:05, 410752.19it/s]"
     ]
    },
    {
     "name": "stderr",
     "output_type": "stream",
     "text": [
      "\rDictNBHDTransformer pre transform:  69%|██████▉   | 5272886/7640906 [00:15<00:05, 411849.11it/s]"
     ]
    },
    {
     "name": "stderr",
     "output_type": "stream",
     "text": [
      "\rDictNBHDTransformer pre transform:  70%|██████▉   | 5316670/7640906 [00:15<00:05, 419316.33it/s]"
     ]
    },
    {
     "name": "stderr",
     "output_type": "stream",
     "text": [
      "\rDictNBHDTransformer pre transform:  70%|███████   | 5358665/7640906 [00:15<00:05, 389303.46it/s]"
     ]
    },
    {
     "name": "stderr",
     "output_type": "stream",
     "text": [
      "\rDictNBHDTransformer pre transform:  71%|███████   | 5400248/7640906 [00:15<00:05, 396897.89it/s]"
     ]
    },
    {
     "name": "stderr",
     "output_type": "stream",
     "text": [
      "\rDictNBHDTransformer pre transform:  71%|███████   | 5440306/7640906 [00:15<00:05, 390832.01it/s]"
     ]
    },
    {
     "name": "stderr",
     "output_type": "stream",
     "text": [
      "\rDictNBHDTransformer pre transform:  72%|███████▏  | 5479668/7640906 [00:15<00:05, 387833.18it/s]"
     ]
    },
    {
     "name": "stderr",
     "output_type": "stream",
     "text": [
      "\rDictNBHDTransformer pre transform:  72%|███████▏  | 5520635/7640906 [00:15<00:05, 394123.72it/s]"
     ]
    },
    {
     "name": "stderr",
     "output_type": "stream",
     "text": [
      "\rDictNBHDTransformer pre transform:  73%|███████▎  | 5560819/7640906 [00:15<00:05, 396406.30it/s]"
     ]
    },
    {
     "name": "stderr",
     "output_type": "stream",
     "text": [
      "\rDictNBHDTransformer pre transform:  73%|███████▎  | 5600579/7640906 [00:16<00:12, 165736.86it/s]"
     ]
    },
    {
     "name": "stderr",
     "output_type": "stream",
     "text": [
      "\rDictNBHDTransformer pre transform:  74%|███████▍  | 5642385/7640906 [00:16<00:09, 202381.19it/s]"
     ]
    },
    {
     "name": "stderr",
     "output_type": "stream",
     "text": [
      "\rDictNBHDTransformer pre transform:  74%|███████▍  | 5680249/7640906 [00:16<00:08, 235230.74it/s]"
     ]
    },
    {
     "name": "stderr",
     "output_type": "stream",
     "text": [
      "\rDictNBHDTransformer pre transform:  75%|███████▍  | 5723094/7640906 [00:16<00:07, 272033.89it/s]"
     ]
    },
    {
     "name": "stderr",
     "output_type": "stream",
     "text": [
      "\rDictNBHDTransformer pre transform:  75%|███████▌  | 5760314/7640906 [00:16<00:07, 265295.02it/s]"
     ]
    },
    {
     "name": "stderr",
     "output_type": "stream",
     "text": [
      "\rDictNBHDTransformer pre transform:  76%|███████▌  | 5805665/7640906 [00:16<00:06, 303021.81it/s]"
     ]
    },
    {
     "name": "stderr",
     "output_type": "stream",
     "text": [
      "\rDictNBHDTransformer pre transform:  77%|███████▋  | 5848903/7640906 [00:17<00:05, 332899.11it/s]"
     ]
    },
    {
     "name": "stderr",
     "output_type": "stream",
     "text": [
      "\rDictNBHDTransformer pre transform:  77%|███████▋  | 5889407/7640906 [00:17<00:04, 351690.67it/s]"
     ]
    },
    {
     "name": "stderr",
     "output_type": "stream",
     "text": [
      "\rDictNBHDTransformer pre transform:  78%|███████▊  | 5929111/7640906 [00:17<00:04, 364167.08it/s]"
     ]
    },
    {
     "name": "stderr",
     "output_type": "stream",
     "text": [
      "\rDictNBHDTransformer pre transform:  78%|███████▊  | 5974878/7640906 [00:17<00:04, 387942.64it/s]"
     ]
    },
    {
     "name": "stderr",
     "output_type": "stream",
     "text": [
      "\rDictNBHDTransformer pre transform:  79%|███████▉  | 6019988/7640906 [00:17<00:04, 404948.23it/s]"
     ]
    },
    {
     "name": "stderr",
     "output_type": "stream",
     "text": [
      "\rDictNBHDTransformer pre transform:  79%|███████▉  | 6067705/7640906 [00:17<00:03, 424207.73it/s]"
     ]
    },
    {
     "name": "stderr",
     "output_type": "stream",
     "text": [
      "\rDictNBHDTransformer pre transform:  80%|████████  | 6115772/7640906 [00:17<00:03, 439700.26it/s]"
     ]
    },
    {
     "name": "stderr",
     "output_type": "stream",
     "text": [
      "\rDictNBHDTransformer pre transform:  81%|████████  | 6163128/7640906 [00:17<00:03, 449336.01it/s]"
     ]
    },
    {
     "name": "stderr",
     "output_type": "stream",
     "text": [
      "\rDictNBHDTransformer pre transform:  81%|████████▏ | 6210900/7640906 [00:17<00:03, 457488.24it/s]"
     ]
    },
    {
     "name": "stderr",
     "output_type": "stream",
     "text": [
      "\rDictNBHDTransformer pre transform:  82%|████████▏ | 6257652/7640906 [00:17<00:03, 460450.78it/s]"
     ]
    },
    {
     "name": "stderr",
     "output_type": "stream",
     "text": [
      "\rDictNBHDTransformer pre transform:  83%|████████▎ | 6304197/7640906 [00:18<00:02, 446083.70it/s]"
     ]
    },
    {
     "name": "stderr",
     "output_type": "stream",
     "text": [
      "\rDictNBHDTransformer pre transform:  83%|████████▎ | 6353612/7640906 [00:18<00:02, 459491.13it/s]"
     ]
    },
    {
     "name": "stderr",
     "output_type": "stream",
     "text": [
      "\rDictNBHDTransformer pre transform:  84%|████████▍ | 6399976/7640906 [00:18<00:02, 429833.41it/s]"
     ]
    },
    {
     "name": "stderr",
     "output_type": "stream",
     "text": [
      "\rDictNBHDTransformer pre transform:  84%|████████▍ | 6446144/7640906 [00:18<00:02, 438915.25it/s]"
     ]
    },
    {
     "name": "stderr",
     "output_type": "stream",
     "text": [
      "\rDictNBHDTransformer pre transform:  85%|████████▍ | 6491991/7640906 [00:18<00:02, 444589.88it/s]"
     ]
    },
    {
     "name": "stderr",
     "output_type": "stream",
     "text": [
      "\rDictNBHDTransformer pre transform:  86%|████████▌ | 6536833/7640906 [00:18<00:02, 404572.81it/s]"
     ]
    },
    {
     "name": "stderr",
     "output_type": "stream",
     "text": [
      "\rDictNBHDTransformer pre transform:  86%|████████▌ | 6578253/7640906 [00:18<00:02, 401528.64it/s]"
     ]
    },
    {
     "name": "stderr",
     "output_type": "stream",
     "text": [
      "\rDictNBHDTransformer pre transform:  87%|████████▋ | 6619085/7640906 [00:18<00:02, 397175.02it/s]"
     ]
    },
    {
     "name": "stderr",
     "output_type": "stream",
     "text": [
      "\rDictNBHDTransformer pre transform:  87%|████████▋ | 6659289/7640906 [00:18<00:02, 377494.56it/s]"
     ]
    },
    {
     "name": "stderr",
     "output_type": "stream",
     "text": [
      "\rDictNBHDTransformer pre transform:  88%|████████▊ | 6700568/7640906 [00:19<00:02, 387432.59it/s]"
     ]
    },
    {
     "name": "stderr",
     "output_type": "stream",
     "text": [
      "\rDictNBHDTransformer pre transform:  88%|████████▊ | 6743398/7640906 [00:19<00:02, 398848.83it/s]"
     ]
    },
    {
     "name": "stderr",
     "output_type": "stream",
     "text": [
      "\rDictNBHDTransformer pre transform:  89%|████████▉ | 6786727/7640906 [00:19<00:02, 408592.07it/s]"
     ]
    },
    {
     "name": "stderr",
     "output_type": "stream",
     "text": [
      "\rDictNBHDTransformer pre transform:  89%|████████▉ | 6833796/7640906 [00:19<00:01, 425417.57it/s]"
     ]
    },
    {
     "name": "stderr",
     "output_type": "stream",
     "text": [
      "\rDictNBHDTransformer pre transform:  90%|█████████ | 6880076/7640906 [00:19<00:01, 435982.27it/s]"
     ]
    },
    {
     "name": "stderr",
     "output_type": "stream",
     "text": [
      "\rDictNBHDTransformer pre transform:  91%|█████████ | 6928061/7640906 [00:19<00:01, 448275.58it/s]"
     ]
    },
    {
     "name": "stderr",
     "output_type": "stream",
     "text": [
      "\rDictNBHDTransformer pre transform:  91%|█████████▏| 6974809/7640906 [00:19<00:01, 453868.98it/s]"
     ]
    },
    {
     "name": "stderr",
     "output_type": "stream",
     "text": [
      "\rDictNBHDTransformer pre transform:  92%|█████████▏| 7020448/7640906 [00:19<00:01, 451054.32it/s]"
     ]
    },
    {
     "name": "stderr",
     "output_type": "stream",
     "text": [
      "\rDictNBHDTransformer pre transform:  92%|█████████▏| 7065734/7640906 [00:19<00:01, 451435.57it/s]"
     ]
    },
    {
     "name": "stderr",
     "output_type": "stream",
     "text": [
      "\rDictNBHDTransformer pre transform:  93%|█████████▎| 7111004/7640906 [00:19<00:01, 448341.41it/s]"
     ]
    },
    {
     "name": "stderr",
     "output_type": "stream",
     "text": [
      "\rDictNBHDTransformer pre transform:  94%|█████████▎| 7159877/7640906 [00:20<00:01, 459735.66it/s]"
     ]
    },
    {
     "name": "stderr",
     "output_type": "stream",
     "text": [
      "\rDictNBHDTransformer pre transform:  94%|█████████▍| 7207605/7640906 [00:20<00:00, 464859.24it/s]"
     ]
    },
    {
     "name": "stderr",
     "output_type": "stream",
     "text": [
      "\rDictNBHDTransformer pre transform:  95%|█████████▍| 7254286/7640906 [00:20<00:00, 465441.22it/s]"
     ]
    },
    {
     "name": "stderr",
     "output_type": "stream",
     "text": [
      "\rDictNBHDTransformer pre transform:  96%|█████████▌| 7300907/7640906 [00:20<00:00, 456790.90it/s]"
     ]
    },
    {
     "name": "stderr",
     "output_type": "stream",
     "text": [
      "\rDictNBHDTransformer pre transform:  96%|█████████▌| 7346676/7640906 [00:20<00:00, 446394.94it/s]"
     ]
    },
    {
     "name": "stderr",
     "output_type": "stream",
     "text": [
      "\rDictNBHDTransformer pre transform:  97%|█████████▋| 7395404/7640906 [00:20<00:00, 457920.05it/s]"
     ]
    },
    {
     "name": "stderr",
     "output_type": "stream",
     "text": [
      "\rDictNBHDTransformer pre transform:  97%|█████████▋| 7445411/7640906 [00:20<00:00, 469781.11it/s]"
     ]
    },
    {
     "name": "stderr",
     "output_type": "stream",
     "text": [
      "\rDictNBHDTransformer pre transform:  98%|█████████▊| 7495660/7640906 [00:20<00:00, 479136.25it/s]"
     ]
    },
    {
     "name": "stderr",
     "output_type": "stream",
     "text": [
      "\rDictNBHDTransformer pre transform:  99%|█████████▊| 7543749/7640906 [00:20<00:00, 475980.82it/s]"
     ]
    },
    {
     "name": "stderr",
     "output_type": "stream",
     "text": [
      "\rDictNBHDTransformer pre transform:  99%|█████████▉| 7591475/7640906 [00:20<00:00, 444107.83it/s]"
     ]
    },
    {
     "name": "stderr",
     "output_type": "stream",
     "text": [
      "\rDictNBHDTransformer pre transform: 100%|█████████▉| 7636793/7640906 [00:21<00:00, 446775.17it/s]"
     ]
    },
    {
     "name": "stderr",
     "output_type": "stream",
     "text": [
      "\rDictNBHDTransformer pre transform: 100%|██████████| 7640906/7640906 [00:21<00:00, 362236.71it/s]"
     ]
    },
    {
     "name": "stderr",
     "output_type": "stream",
     "text": [
      "\n"
     ]
    },
    {
     "name": "stderr",
     "output_type": "stream",
     "text": [
      "\rDictNBHDTransformer transform:   0%|          | 0/105746 [00:00<?, ?it/s]"
     ]
    },
    {
     "name": "stderr",
     "output_type": "stream",
     "text": [
      "\rDictNBHDTransformer transform:  53%|█████▎    | 56541/105746 [00:00<00:00, 565403.80it/s]"
     ]
    },
    {
     "name": "stderr",
     "output_type": "stream",
     "text": [
      "\rDictNBHDTransformer transform:  96%|█████████▋| 101908/105746 [00:00<00:00, 526500.75it/s]"
     ]
    },
    {
     "name": "stderr",
     "output_type": "stream",
     "text": [
      "\rDictNBHDTransformer transform: 100%|██████████| 105746/105746 [00:00<00:00, 492636.92it/s]"
     ]
    },
    {
     "name": "stderr",
     "output_type": "stream",
     "text": [
      "\n"
     ]
    },
    {
     "name": "stderr",
     "output_type": "stream",
     "text": [
      "\rDictClassTransformer_DATE pre transform:   0%|          | 0/36928 [00:00<?, ?it/s]"
     ]
    },
    {
     "name": "stderr",
     "output_type": "stream",
     "text": [
      "\rDictClassTransformer_DATE pre transform:  41%|████      | 15049/36928 [00:00<00:00, 150484.04it/s]"
     ]
    },
    {
     "name": "stderr",
     "output_type": "stream",
     "text": [
      "\rDictClassTransformer_DATE pre transform:  79%|███████▉  | 29284/36928 [00:00<00:00, 147946.04it/s]"
     ]
    },
    {
     "name": "stderr",
     "output_type": "stream",
     "text": [
      "\rDictClassTransformer_DATE pre transform: 100%|██████████| 36928/36928 [00:00<00:00, 144181.36it/s]"
     ]
    },
    {
     "name": "stderr",
     "output_type": "stream",
     "text": [
      "\n\rDictClassTransformer_DATE transform:   0%|          | 0/105746 [00:00<?, ?it/s]"
     ]
    },
    {
     "name": "stderr",
     "output_type": "stream",
     "text": [
      "\rDictClassTransformer_DATE transform: 100%|██████████| 105746/105746 [00:00<00:00, 1078491.90it/s]"
     ]
    },
    {
     "name": "stderr",
     "output_type": "stream",
     "text": [
      "\n"
     ]
    },
    {
     "name": "stdout",
     "output_type": "stream",
     "text": [
      "Max len 24\n"
     ]
    },
    {
     "name": "stderr",
     "output_type": "stream",
     "text": [
      "\rDictClassTransformer_CARDINAL pre transform:   0%|          | 0/10473 [00:00<?, ?it/s]"
     ]
    },
    {
     "name": "stderr",
     "output_type": "stream",
     "text": [
      "\rDictClassTransformer_CARDINAL pre transform: 100%|██████████| 10473/10473 [00:00<00:00, 146201.41it/s]"
     ]
    },
    {
     "name": "stderr",
     "output_type": "stream",
     "text": [
      "\n\rDictClassTransformer_CARDINAL transform:   0%|          | 0/105746 [00:00<?, ?it/s]"
     ]
    },
    {
     "name": "stderr",
     "output_type": "stream",
     "text": [
      "\rDictClassTransformer_CARDINAL transform: 100%|██████████| 105746/105746 [00:00<00:00, 1139997.56it/s]"
     ]
    },
    {
     "name": "stderr",
     "output_type": "stream",
     "text": [
      "\n"
     ]
    },
    {
     "name": "stdout",
     "output_type": "stream",
     "text": [
      "Max len 16\n"
     ]
    },
    {
     "name": "stderr",
     "output_type": "stream",
     "text": [
      "\rDictClassTransformer_MEASURE pre transform:   0%|          | 0/15272 [00:00<?, ?it/s]"
     ]
    },
    {
     "name": "stderr",
     "output_type": "stream",
     "text": [
      "\rDictClassTransformer_MEASURE pre transform:  43%|████▎     | 6494/15272 [00:00<00:00, 64939.60it/s]"
     ]
    },
    {
     "name": "stderr",
     "output_type": "stream",
     "text": [
      "\rDictClassTransformer_MEASURE pre transform:  95%|█████████▍| 14440/15272 [00:00<00:00, 68701.35it/s]"
     ]
    },
    {
     "name": "stderr",
     "output_type": "stream",
     "text": [
      "\rDictClassTransformer_MEASURE pre transform: 100%|██████████| 15272/15272 [00:00<00:00, 71679.05it/s]"
     ]
    },
    {
     "name": "stderr",
     "output_type": "stream",
     "text": [
      "\n\rDictClassTransformer_MEASURE transform:   0%|          | 0/105746 [00:00<?, ?it/s]"
     ]
    },
    {
     "name": "stderr",
     "output_type": "stream",
     "text": [
      "\rDictClassTransformer_MEASURE transform:  77%|███████▋  | 81267/105746 [00:00<00:00, 812653.34it/s]"
     ]
    },
    {
     "name": "stderr",
     "output_type": "stream",
     "text": [
      "\rDictClassTransformer_MEASURE transform: 100%|██████████| 105746/105746 [00:00<00:00, 835375.40it/s]"
     ]
    },
    {
     "name": "stderr",
     "output_type": "stream",
     "text": [
      "\n"
     ]
    },
    {
     "name": "stderr",
     "output_type": "stream",
     "text": [
      "\rLettersTransformer transform:   0%|          | 0/105746 [00:00<?, ?it/s]"
     ]
    },
    {
     "name": "stderr",
     "output_type": "stream",
     "text": [
      "\rLettersTransformer transform:  45%|████▍     | 47362/105746 [00:00<00:00, 473614.81it/s]"
     ]
    },
    {
     "name": "stderr",
     "output_type": "stream",
     "text": [
      "\rLettersTransformer transform:  92%|█████████▏| 97629/105746 [00:00<00:00, 481971.27it/s]"
     ]
    },
    {
     "name": "stderr",
     "output_type": "stream",
     "text": [
      "\rLettersTransformer transform: 100%|██████████| 105746/105746 [00:00<00:00, 478998.30it/s]"
     ]
    },
    {
     "name": "stderr",
     "output_type": "stream",
     "text": [
      "\n"
     ]
    },
    {
     "name": "stderr",
     "output_type": "stream",
     "text": [
      "\rDictTransformer pre transform:   0%|          | 0/796356 [00:00<?, ?it/s]"
     ]
    },
    {
     "name": "stderr",
     "output_type": "stream",
     "text": [
      "\rDictTransformer pre transform:   1%|          | 6839/796356 [00:00<00:11, 68386.64it/s]"
     ]
    },
    {
     "name": "stderr",
     "output_type": "stream",
     "text": [
      "\rDictTransformer pre transform:   2%|▏         | 13788/796356 [00:00<00:11, 68712.12it/s]"
     ]
    },
    {
     "name": "stderr",
     "output_type": "stream",
     "text": [
      "\rDictTransformer pre transform:   3%|▎         | 21300/796356 [00:00<00:10, 70516.28it/s]"
     ]
    },
    {
     "name": "stderr",
     "output_type": "stream",
     "text": [
      "\rDictTransformer pre transform:   3%|▎         | 26018/796356 [00:00<00:14, 54431.23it/s]"
     ]
    },
    {
     "name": "stderr",
     "output_type": "stream",
     "text": [
      "\rDictTransformer pre transform:   4%|▍         | 31609/796356 [00:00<00:13, 54865.98it/s]"
     ]
    },
    {
     "name": "stderr",
     "output_type": "stream",
     "text": [
      "\rDictTransformer pre transform:   5%|▍         | 39693/796356 [00:00<00:12, 60718.40it/s]"
     ]
    },
    {
     "name": "stderr",
     "output_type": "stream",
     "text": [
      "\rDictTransformer pre transform:   6%|▌         | 48879/796356 [00:00<00:11, 67590.71it/s]"
     ]
    },
    {
     "name": "stderr",
     "output_type": "stream",
     "text": [
      "\rDictTransformer pre transform:   7%|▋         | 57414/796356 [00:00<00:10, 72088.61it/s]"
     ]
    },
    {
     "name": "stderr",
     "output_type": "stream",
     "text": [
      "\rDictTransformer pre transform:   8%|▊         | 65174/796356 [00:00<00:09, 73655.96it/s]"
     ]
    },
    {
     "name": "stderr",
     "output_type": "stream",
     "text": [
      "\rDictTransformer pre transform:   9%|▉         | 74870/796356 [00:01<00:09, 79378.59it/s]"
     ]
    },
    {
     "name": "stderr",
     "output_type": "stream",
     "text": [
      "\rDictTransformer pre transform:  11%|█         | 85477/796356 [00:01<00:08, 85857.83it/s]"
     ]
    },
    {
     "name": "stderr",
     "output_type": "stream",
     "text": [
      "\rDictTransformer pre transform:  12%|█▏        | 95948/796356 [00:01<00:07, 90758.63it/s]"
     ]
    },
    {
     "name": "stderr",
     "output_type": "stream",
     "text": [
      "\rDictTransformer pre transform:  13%|█▎        | 106901/796356 [00:01<00:07, 95677.56it/s]"
     ]
    },
    {
     "name": "stderr",
     "output_type": "stream",
     "text": [
      "\rDictTransformer pre transform:  15%|█▍        | 118173/796356 [00:01<00:06, 100221.34it/s]"
     ]
    },
    {
     "name": "stderr",
     "output_type": "stream",
     "text": [
      "\rDictTransformer pre transform:  16%|█▋        | 130369/796356 [00:01<00:06, 105883.22it/s]"
     ]
    },
    {
     "name": "stderr",
     "output_type": "stream",
     "text": [
      "\rDictTransformer pre transform:  18%|█▊        | 141211/796356 [00:01<00:06, 105355.36it/s]"
     ]
    },
    {
     "name": "stderr",
     "output_type": "stream",
     "text": [
      "\rDictTransformer pre transform:  19%|█▉        | 152863/796356 [00:01<00:05, 108470.73it/s]"
     ]
    },
    {
     "name": "stderr",
     "output_type": "stream",
     "text": [
      "\rDictTransformer pre transform:  21%|██        | 164604/796356 [00:01<00:05, 111004.92it/s]"
     ]
    },
    {
     "name": "stderr",
     "output_type": "stream",
     "text": [
      "\rDictTransformer pre transform:  22%|██▏       | 175823/796356 [00:01<00:05, 109068.83it/s]"
     ]
    },
    {
     "name": "stderr",
     "output_type": "stream",
     "text": [
      "\rDictTransformer pre transform:  24%|██▎       | 187534/796356 [00:02<00:05, 111362.14it/s]"
     ]
    },
    {
     "name": "stderr",
     "output_type": "stream",
     "text": [
      "\rDictTransformer pre transform:  25%|██▍       | 198746/796356 [00:02<00:05, 104136.15it/s]"
     ]
    },
    {
     "name": "stderr",
     "output_type": "stream",
     "text": [
      "\rDictTransformer pre transform:  26%|██▋       | 210749/796356 [00:02<00:05, 108442.26it/s]"
     ]
    },
    {
     "name": "stderr",
     "output_type": "stream",
     "text": [
      "\rDictTransformer pre transform:  28%|██▊       | 224386/796356 [00:02<00:04, 115539.72it/s]"
     ]
    },
    {
     "name": "stderr",
     "output_type": "stream",
     "text": [
      "\rDictTransformer pre transform:  30%|██▉       | 237517/796356 [00:02<00:04, 119858.15it/s]"
     ]
    },
    {
     "name": "stderr",
     "output_type": "stream",
     "text": [
      "\rDictTransformer pre transform:  32%|███▏      | 251541/796356 [00:02<00:04, 125320.63it/s]"
     ]
    },
    {
     "name": "stderr",
     "output_type": "stream",
     "text": [
      "\rDictTransformer pre transform:  33%|███▎      | 264281/796356 [00:02<00:04, 123614.98it/s]"
     ]
    },
    {
     "name": "stderr",
     "output_type": "stream",
     "text": [
      "\rDictTransformer pre transform:  35%|███▍      | 278282/796356 [00:02<00:04, 128113.83it/s]"
     ]
    },
    {
     "name": "stderr",
     "output_type": "stream",
     "text": [
      "\rDictTransformer pre transform:  37%|███▋      | 292501/796356 [00:02<00:03, 132034.78it/s]"
     ]
    },
    {
     "name": "stderr",
     "output_type": "stream",
     "text": [
      "\rDictTransformer pre transform:  39%|███▊      | 306860/796356 [00:02<00:03, 135300.18it/s]"
     ]
    },
    {
     "name": "stderr",
     "output_type": "stream",
     "text": [
      "\rDictTransformer pre transform:  40%|████      | 321371/796356 [00:03<00:03, 138099.79it/s]"
     ]
    },
    {
     "name": "stderr",
     "output_type": "stream",
     "text": [
      "\rDictTransformer pre transform:  42%|████▏     | 335275/796356 [00:03<00:03, 137635.44it/s]"
     ]
    },
    {
     "name": "stderr",
     "output_type": "stream",
     "text": [
      "\rDictTransformer pre transform:  44%|████▍     | 349526/796356 [00:03<00:03, 130358.56it/s]"
     ]
    },
    {
     "name": "stderr",
     "output_type": "stream",
     "text": [
      "\rDictTransformer pre transform:  46%|████▌     | 362688/796356 [00:03<00:03, 130380.65it/s]"
     ]
    },
    {
     "name": "stderr",
     "output_type": "stream",
     "text": [
      "\rDictTransformer pre transform:  47%|████▋     | 375815/796356 [00:03<00:03, 130138.00it/s]"
     ]
    },
    {
     "name": "stderr",
     "output_type": "stream",
     "text": [
      "\rDictTransformer pre transform:  49%|████▉     | 389469/796356 [00:03<00:03, 131993.88it/s]"
     ]
    },
    {
     "name": "stderr",
     "output_type": "stream",
     "text": [
      "\rDictTransformer pre transform:  51%|█████     | 402719/796356 [00:03<00:03, 129257.14it/s]"
     ]
    },
    {
     "name": "stderr",
     "output_type": "stream",
     "text": [
      "\rDictTransformer pre transform:  52%|█████▏    | 416912/796356 [00:03<00:02, 132805.17it/s]"
     ]
    },
    {
     "name": "stderr",
     "output_type": "stream",
     "text": [
      "\rDictTransformer pre transform:  54%|█████▍    | 430250/796356 [00:03<00:02, 132902.74it/s]"
     ]
    },
    {
     "name": "stderr",
     "output_type": "stream",
     "text": [
      "\rDictTransformer pre transform:  56%|█████▌    | 444763/796356 [00:04<00:02, 136348.92it/s]"
     ]
    },
    {
     "name": "stderr",
     "output_type": "stream",
     "text": [
      "\rDictTransformer pre transform:  58%|█████▊    | 458449/796356 [00:04<00:02, 132288.34it/s]"
     ]
    },
    {
     "name": "stderr",
     "output_type": "stream",
     "text": [
      "\rDictTransformer pre transform:  59%|█████▉    | 471740/796356 [00:04<00:02, 130366.95it/s]"
     ]
    },
    {
     "name": "stderr",
     "output_type": "stream",
     "text": [
      "\rDictTransformer pre transform:  61%|██████    | 484909/796356 [00:04<00:02, 130760.26it/s]"
     ]
    },
    {
     "name": "stderr",
     "output_type": "stream",
     "text": [
      "\rDictTransformer pre transform:  63%|██████▎   | 498906/796356 [00:04<00:02, 133393.31it/s]"
     ]
    },
    {
     "name": "stderr",
     "output_type": "stream",
     "text": [
      "\rDictTransformer pre transform:  64%|██████▍   | 513041/796356 [00:04<00:02, 135684.03it/s]"
     ]
    },
    {
     "name": "stderr",
     "output_type": "stream",
     "text": [
      "\rDictTransformer pre transform:  66%|██████▌   | 527281/796356 [00:04<00:01, 137627.68it/s]"
     ]
    },
    {
     "name": "stderr",
     "output_type": "stream",
     "text": [
      "\rDictTransformer pre transform:  68%|██████▊   | 541076/796356 [00:04<00:01, 133173.93it/s]"
     ]
    },
    {
     "name": "stderr",
     "output_type": "stream",
     "text": [
      "\rDictTransformer pre transform:  70%|██████▉   | 554857/796356 [00:04<00:01, 134528.14it/s]"
     ]
    },
    {
     "name": "stderr",
     "output_type": "stream",
     "text": [
      "\rDictTransformer pre transform:  71%|███████▏  | 569343/796356 [00:04<00:01, 137468.29it/s]"
     ]
    },
    {
     "name": "stderr",
     "output_type": "stream",
     "text": [
      "\rDictTransformer pre transform:  73%|███████▎  | 584085/796356 [00:05<00:01, 140309.37it/s]"
     ]
    },
    {
     "name": "stderr",
     "output_type": "stream",
     "text": [
      "\rDictTransformer pre transform:  75%|███████▌  | 598348/796356 [00:05<00:01, 140993.05it/s]"
     ]
    },
    {
     "name": "stderr",
     "output_type": "stream",
     "text": [
      "\rDictTransformer pre transform:  77%|███████▋  | 612480/796356 [00:05<00:01, 139768.16it/s]"
     ]
    },
    {
     "name": "stderr",
     "output_type": "stream",
     "text": [
      "\rDictTransformer pre transform:  79%|███████▊  | 627079/796356 [00:05<00:01, 141575.79it/s]"
     ]
    },
    {
     "name": "stderr",
     "output_type": "stream",
     "text": [
      "\rDictTransformer pre transform:  81%|████████  | 641260/796356 [00:05<00:01, 139218.45it/s]"
     ]
    },
    {
     "name": "stderr",
     "output_type": "stream",
     "text": [
      "\rDictTransformer pre transform:  82%|████████▏ | 655207/796356 [00:05<00:01, 139134.14it/s]"
     ]
    },
    {
     "name": "stderr",
     "output_type": "stream",
     "text": [
      "\rDictTransformer pre transform:  84%|████████▍ | 669376/796356 [00:05<00:00, 139889.43it/s]"
     ]
    },
    {
     "name": "stderr",
     "output_type": "stream",
     "text": [
      "\rDictTransformer pre transform:  86%|████████▌ | 683379/796356 [00:05<00:00, 139262.81it/s]"
     ]
    },
    {
     "name": "stderr",
     "output_type": "stream",
     "text": [
      "\rDictTransformer pre transform:  88%|████████▊ | 697316/796356 [00:05<00:00, 138103.17it/s]"
     ]
    },
    {
     "name": "stderr",
     "output_type": "stream",
     "text": [
      "\rDictTransformer pre transform:  89%|████████▉ | 711136/796356 [00:06<00:00, 114394.51it/s]"
     ]
    },
    {
     "name": "stderr",
     "output_type": "stream",
     "text": [
      "\rDictTransformer pre transform:  91%|█████████ | 725644/796356 [00:06<00:00, 122143.06it/s]"
     ]
    },
    {
     "name": "stderr",
     "output_type": "stream",
     "text": [
      "\rDictTransformer pre transform:  93%|█████████▎| 739257/796356 [00:06<00:00, 126027.03it/s]"
     ]
    },
    {
     "name": "stderr",
     "output_type": "stream",
     "text": [
      "\rDictTransformer pre transform:  95%|█████████▍| 752703/796356 [00:06<00:00, 128442.71it/s]"
     ]
    },
    {
     "name": "stderr",
     "output_type": "stream",
     "text": [
      "\rDictTransformer pre transform:  96%|█████████▌| 766279/796356 [00:06<00:00, 130551.86it/s]"
     ]
    },
    {
     "name": "stderr",
     "output_type": "stream",
     "text": [
      "\rDictTransformer pre transform:  98%|█████████▊| 780512/796356 [00:06<00:00, 133875.09it/s]"
     ]
    },
    {
     "name": "stderr",
     "output_type": "stream",
     "text": [
      "\rDictTransformer pre transform: 100%|█████████▉| 795151/796356 [00:06<00:00, 137397.16it/s]"
     ]
    },
    {
     "name": "stderr",
     "output_type": "stream",
     "text": [
      "\rDictTransformer pre transform: 100%|██████████| 796356/796356 [00:06<00:00, 120117.44it/s]"
     ]
    },
    {
     "name": "stderr",
     "output_type": "stream",
     "text": [
      "\n\rDictTransformer transform:   0%|          | 0/105746 [00:00<?, ?it/s]"
     ]
    },
    {
     "name": "stderr",
     "output_type": "stream",
     "text": [
      "\rDictTransformer transform:  40%|███▉      | 42091/105746 [00:00<00:00, 420909.40it/s]"
     ]
    },
    {
     "name": "stderr",
     "output_type": "stream",
     "text": [
      "\rDictTransformer transform:  71%|███████▏  | 75486/105746 [00:00<00:00, 390408.10it/s]"
     ]
    },
    {
     "name": "stderr",
     "output_type": "stream",
     "text": [
      "\rDictTransformer transform: 100%|██████████| 105746/105746 [00:00<00:00, 366705.97it/s]"
     ]
    },
    {
     "name": "stderr",
     "output_type": "stream",
     "text": [
      "\n"
     ]
    },
    {
     "name": "stderr",
     "output_type": "stream",
     "text": [
      "\rLSTMTransliterator transform stage 1:   0%|          | 0/5159 [00:00<?, ?it/s]"
     ]
    },
    {
     "name": "stderr",
     "output_type": "stream",
     "text": [
      "\rLSTMTransliterator transform stage 1: 100%|██████████| 5159/5159 [00:00<00:00, 106388.26it/s]"
     ]
    },
    {
     "name": "stderr",
     "output_type": "stream",
     "text": [
      "\n\rLSTMTransliterator transform stage 2:   0%|          | 0/5159 [00:00<?, ?it/s]"
     ]
    },
    {
     "name": "stderr",
     "output_type": "stream",
     "text": [
      "\rLSTMTransliterator transform stage 2: 100%|██████████| 5159/5159 [00:00<00:00, 229565.81it/s]"
     ]
    },
    {
     "name": "stderr",
     "output_type": "stream",
     "text": [
      "\n"
     ]
    },
    {
     "name": "stderr",
     "output_type": "stream",
     "text": [
      "\rLettersTransformer transform:   0%|          | 0/105746 [00:00<?, ?it/s]"
     ]
    },
    {
     "name": "stderr",
     "output_type": "stream",
     "text": [
      "\rLettersTransformer transform:  28%|██▊       | 29657/105746 [00:00<00:00, 296569.58it/s]"
     ]
    },
    {
     "name": "stderr",
     "output_type": "stream",
     "text": [
      "\rLettersTransformer transform:  61%|██████    | 64134/105746 [00:00<00:00, 309550.93it/s]"
     ]
    },
    {
     "name": "stderr",
     "output_type": "stream",
     "text": [
      "\rLettersTransformer transform:  94%|█████████▍| 99139/105746 [00:00<00:00, 320679.50it/s]"
     ]
    },
    {
     "name": "stderr",
     "output_type": "stream",
     "text": [
      "\rLettersTransformer transform: 100%|██████████| 105746/105746 [00:00<00:00, 329308.55it/s]"
     ]
    },
    {
     "name": "stderr",
     "output_type": "stream",
     "text": [
      "\n"
     ]
    }
   ],
   "source": [
    "predicted = transform(x_train, x_test, y_train, y_test)"
   ]
  },
  {
   "cell_type": "code",
   "execution_count": 6,
   "metadata": {},
   "outputs": [],
   "source": [
    "predicted = predicted.assign(after_true=y_test)"
   ]
  },
  {
   "cell_type": "code",
   "execution_count": 7,
   "metadata": {
    "collapsed": false
   },
   "outputs": [
    {
     "data": {
      "text/plain": [
       "LETTERS       58180\nVERBATIM      24586\nTRANS          7503\nCARDINAL       7248\nPLAIN          2343\nDATE           1704\nDASH           1646\nMEASURE         469\nORDINAL         100\nELECTRONIC       34\nDECIMAL          27\nDIGIT            24\nTELEPHONE        20\nTIME             18\nFRACTION         16\nMONEY             7\nPUNCT             0\nName: class, dtype: int64"
      ]
     },
     "execution_count": 7,
     "metadata": {},
     "output_type": "execute_result"
    }
   ],
   "source": [
    "predicted[(predicted[\"after\"] == y_test)]['class'].value_counts()"
   ]
  },
  {
   "cell_type": "code",
   "execution_count": 8,
   "metadata": {
    "collapsed": true
   },
   "outputs": [
    {
     "data": {
      "text/plain": [
       "TRANS         539\nLETTERS       327\nCARDINAL      288\nMEASURE       239\nDASH          122\nDATE          104\nTELEPHONE      64\nDECIMAL        46\nORDINAL        43\nPLAIN          18\nMONEY          15\nFRACTION        8\nTIME            4\nELECTRONIC      2\nVERBATIM        2\nDIGIT           0\nPUNCT           0\nName: class, dtype: int64"
      ]
     },
     "execution_count": 8,
     "metadata": {},
     "output_type": "execute_result"
    }
   ],
   "source": [
    "predicted[~(predicted[\"after\"] == y_test) & ~(predicted[\"after\"].isnull())]['class'].value_counts()"
   ]
  },
  {
   "cell_type": "code",
   "execution_count": 9,
   "metadata": {
    "collapsed": true
   },
   "outputs": [
    {
     "data": {
      "text/plain": [
       "DASH          0\nMEASURE       0\nDATE          0\nPUNCT         0\nORDINAL       0\nVERBATIM      0\nLETTERS       0\nCARDINAL      0\nTELEPHONE     0\nTRANS         0\nELECTRONIC    0\nDECIMAL       0\nDIGIT         0\nFRACTION      0\nMONEY         0\nTIME          0\nPLAIN         0\nName: class, dtype: int64"
      ]
     },
     "execution_count": 9,
     "metadata": {},
     "output_type": "execute_result"
    }
   ],
   "source": [
    "predicted[(predicted[\"after\"].isnull())]['class'].value_counts()"
   ]
  },
  {
   "cell_type": "code",
   "execution_count": 13,
   "metadata": {
    "collapsed": true
   },
   "outputs": [
    {
     "data": {
      "text/html": [
       "<div>\n",
       "<style scoped>\n",
       "    .dataframe tbody tr th:only-of-type {\n",
       "        vertical-align: middle;\n",
       "    }\n",
       "\n",
       "    .dataframe tbody tr th {\n",
       "        vertical-align: top;\n",
       "    }\n",
       "\n",
       "    .dataframe thead th {\n",
       "        text-align: right;\n",
       "    }\n",
       "</style>\n",
       "<table border=\"1\" class=\"dataframe\">\n",
       "  <thead>\n",
       "    <tr style=\"text-align: right;\">\n",
       "      <th></th>\n",
       "      <th>before</th>\n",
       "      <th>prev_prev</th>\n",
       "      <th>prev</th>\n",
       "      <th>next</th>\n",
       "      <th>next_next</th>\n",
       "      <th>class</th>\n",
       "      <th>after</th>\n",
       "      <th>after_true</th>\n",
       "    </tr>\n",
       "  </thead>\n",
       "  <tbody>\n",
       "    <tr>\n",
       "      <th>5926416</th>\n",
       "      <td>6</td>\n",
       "      <td>P.</td>\n",
       "      <td>от</td>\n",
       "      <td>—</td>\n",
       "      <td>7</td>\n",
       "      <td>CARDINAL</td>\n",
       "      <td>шести</td>\n",
       "      <td>шесть</td>\n",
       "    </tr>\n",
       "    <tr>\n",
       "      <th>216710</th>\n",
       "      <td>III</td>\n",
       "      <td>князя</td>\n",
       "      <td>Владимира</td>\n",
       "      <td>и</td>\n",
       "      <td>II</td>\n",
       "      <td>CARDINAL</td>\n",
       "      <td>три</td>\n",
       "      <td>третьего</td>\n",
       "    </tr>\n",
       "    <tr>\n",
       "      <th>5193939</th>\n",
       "      <td>40</td>\n",
       "      <td>более</td>\n",
       "      <td>чем</td>\n",
       "      <td>яхт</td>\n",
       "      <td>.</td>\n",
       "      <td>CARDINAL</td>\n",
       "      <td>сорока</td>\n",
       "      <td>сорок</td>\n",
       "    </tr>\n",
       "    <tr>\n",
       "      <th>7255155</th>\n",
       "      <td>700</td>\n",
       "      <td>500</td>\n",
       "      <td>—</td>\n",
       "      <td>летними</td>\n",
       "      <td>деревьями</td>\n",
       "      <td>CARDINAL</td>\n",
       "      <td>семьсот</td>\n",
       "      <td>семисот</td>\n",
       "    </tr>\n",
       "    <tr>\n",
       "      <th>2564251</th>\n",
       "      <td>-963</td>\n",
       "      <td>эсминец</td>\n",
       "      <td>DD</td>\n",
       "      <td>«</td>\n",
       "      <td>Спрюэнс</td>\n",
       "      <td>CARDINAL</td>\n",
       "      <td>минус восемьдесят шестьдесят три</td>\n",
       "      <td>минус девятьсот шестьдесят три</td>\n",
       "    </tr>\n",
       "    <tr>\n",
       "      <th>2608024</th>\n",
       "      <td>2008</td>\n",
       "      <td>Mandriva</td>\n",
       "      <td>Linux</td>\n",
       "      <td>.</td>\n",
       "      <td>1</td>\n",
       "      <td>CARDINAL</td>\n",
       "      <td>две тысяч восемьдесят</td>\n",
       "      <td>две тысячи восемь</td>\n",
       "    </tr>\n",
       "    <tr>\n",
       "      <th>1315902</th>\n",
       "      <td>XXI</td>\n",
       "      <td>«</td>\n",
       "      <td>Пираты</td>\n",
       "      <td>века</td>\n",
       "      <td>»</td>\n",
       "      <td>CARDINAL</td>\n",
       "      <td>двадцать один</td>\n",
       "      <td>двадцать первого</td>\n",
       "    </tr>\n",
       "    <tr>\n",
       "      <th>461472</th>\n",
       "      <td>8187812559</td>\n",
       "      <td>—</td>\n",
       "      <td>ISBN</td>\n",
       "      <td>.</td>\n",
       "      <td>Jiva</td>\n",
       "      <td>CARDINAL</td>\n",
       "      <td>пять миллиардов триста двадцать миллионов милл...</td>\n",
       "      <td>восемь миллиардов сто восемьдесят семь миллион...</td>\n",
       "    </tr>\n",
       "    <tr>\n",
       "      <th>9775244</th>\n",
       "      <td>1649</td>\n",
       "      <td>французами</td>\n",
       "      <td>в</td>\n",
       "      <td>и</td>\n",
       "      <td>1657 годах</td>\n",
       "      <td>CARDINAL</td>\n",
       "      <td>тысячу шестьсот сорок девять</td>\n",
       "      <td>тысячью шестистах сорока девяти</td>\n",
       "    </tr>\n",
       "    <tr>\n",
       "      <th>10538032</th>\n",
       "      <td>148</td>\n",
       "      <td>сент</td>\n",
       "      <td>.</td>\n",
       "      <td>.</td>\n",
       "      <td>Слава</td>\n",
       "      <td>CARDINAL</td>\n",
       "      <td>ста сорока восемь</td>\n",
       "      <td>сто сорок восемь</td>\n",
       "    </tr>\n",
       "    <tr>\n",
       "      <th>10300836</th>\n",
       "      <td>-1</td>\n",
       "      <td>.</td>\n",
       "      <td>STS</td>\n",
       "      <td>—</td>\n",
       "      <td>первый</td>\n",
       "      <td>CARDINAL</td>\n",
       "      <td>одиннадцать</td>\n",
       "      <td>минус один</td>\n",
       "    </tr>\n",
       "    <tr>\n",
       "      <th>1884387</th>\n",
       "      <td>45</td>\n",
       "      <td>22</td>\n",
       "      <td>.</td>\n",
       "      <td>Эрик</td>\n",
       "      <td>скончался</td>\n",
       "      <td>CARDINAL</td>\n",
       "      <td>сорока пяти</td>\n",
       "      <td>сорок пять</td>\n",
       "    </tr>\n",
       "    <tr>\n",
       "      <th>2691928</th>\n",
       "      <td>193</td>\n",
       "      <td>жертв</td>\n",
       "      <td>оказались</td>\n",
       "      <td>подданных</td>\n",
       "      <td>Нидерландов</td>\n",
       "      <td>CARDINAL</td>\n",
       "      <td>ста девяноста три</td>\n",
       "      <td>сто девяносто три</td>\n",
       "    </tr>\n",
       "    <tr>\n",
       "      <th>5527277</th>\n",
       "      <td>1822084401</td>\n",
       "      <td>КОАТУУ</td>\n",
       "      <td>—</td>\n",
       "      <td>.</td>\n",
       "      <td>Население</td>\n",
       "      <td>CARDINAL</td>\n",
       "      <td>миллиард двести двадцать один миллиона четырес...</td>\n",
       "      <td>миллиард восемьсот двадцать два миллиона восем...</td>\n",
       "    </tr>\n",
       "    <tr>\n",
       "      <th>4437281</th>\n",
       "      <td>4</td>\n",
       "      <td>1917 г.</td>\n",
       "      <td>окончил</td>\n",
       "      <td>классное</td>\n",
       "      <td>земское</td>\n",
       "      <td>CARDINAL</td>\n",
       "      <td>четыре</td>\n",
       "      <td>четырех</td>\n",
       "    </tr>\n",
       "    <tr>\n",
       "      <th>9786511</th>\n",
       "      <td>1252</td>\n",
       "      <td>(</td>\n",
       "      <td>с</td>\n",
       "      <td>,</td>\n",
       "      <td>развод</td>\n",
       "      <td>CARDINAL</td>\n",
       "      <td>тысячей двести пятьюдесятью двумя</td>\n",
       "      <td>тысячей двумястами пятьюдесятью двумя</td>\n",
       "    </tr>\n",
       "    <tr>\n",
       "      <th>5575497</th>\n",
       "      <td>1614</td>\n",
       "      <td>селе</td>\n",
       "      <td>проживало</td>\n",
       "      <td>человек</td>\n",
       "      <td>(</td>\n",
       "      <td>CARDINAL</td>\n",
       "      <td>тысяча шестьсот четырнадцать</td>\n",
       "      <td>тысячу шестьсот четырнадцать</td>\n",
       "    </tr>\n",
       "    <tr>\n",
       "      <th>10150803</th>\n",
       "      <td>1927</td>\n",
       "      <td>соответственно</td>\n",
       "      <td>с</td>\n",
       "      <td>и</td>\n",
       "      <td>1938 г.</td>\n",
       "      <td>CARDINAL</td>\n",
       "      <td>тысячи девятьюстами двадцати семью</td>\n",
       "      <td>тысячей девятьюстами двадцатью семью</td>\n",
       "    </tr>\n",
       "    <tr>\n",
       "      <th>5442485</th>\n",
       "      <td>2</td>\n",
       "      <td>ЦПКБ</td>\n",
       "      <td>-</td>\n",
       "      <td>)</td>\n",
       "      <td>Красногорского</td>\n",
       "      <td>CARDINAL</td>\n",
       "      <td>двух</td>\n",
       "      <td>два</td>\n",
       "    </tr>\n",
       "    <tr>\n",
       "      <th>6455313</th>\n",
       "      <td>1986</td>\n",
       "      <td>1985</td>\n",
       "      <td>по</td>\n",
       "      <td>.</td>\n",
       "      <td>13 июня 2009</td>\n",
       "      <td>CARDINAL</td>\n",
       "      <td>тысячью девятьсот восемьдесят шесть</td>\n",
       "      <td>тысяча девятьсот восемьдесят шестой</td>\n",
       "    </tr>\n",
       "  </tbody>\n",
       "</table>\n",
       "</div>"
      ],
      "text/plain": [
       "<div>\n",
       "<style scoped>\n",
       "    .dataframe tbody tr th:only-of-type {\n",
       "        vertical-align: middle;\n",
       "    }\n",
       "\n",
       "    .dataframe tbody tr th {\n",
       "        vertical-align: top;\n",
       "    }\n",
       "\n",
       "    .dataframe thead th {\n",
       "        text-align: right;\n",
       "    }\n",
       "</style>\n",
       "<table border=\"1\" class=\"dataframe\">\n",
       "  <thead>\n",
       "    <tr style=\"text-align: right;\">\n",
       "      <th></th>\n",
       "      <th>before</th>\n",
       "      <th>prev_prev</th>\n",
       "      <th>prev</th>\n",
       "      <th>next</th>\n",
       "      <th>next_next</th>\n",
       "      <th>class</th>\n",
       "      <th>after</th>\n",
       "      <th>after_true</th>\n",
       "    </tr>\n",
       "  </thead>\n",
       "  <tbody>\n",
       "    <tr>\n",
       "      <th>5926416</th>\n",
       "      <td>6</td>\n",
       "      <td>P.</td>\n",
       "      <td>от</td>\n",
       "      <td>—</td>\n",
       "      <td>7</td>\n",
       "      <td>CARDINAL</td>\n",
       "      <td>шести</td>\n",
       "      <td>шесть</td>\n",
       "    </tr>\n",
       "    <tr>\n",
       "      <th>216710</th>\n",
       "      <td>III</td>\n",
       "      <td>князя</td>\n",
       "      <td>Владимира</td>\n",
       "      <td>и</td>\n",
       "      <td>II</td>\n",
       "      <td>CARDINAL</td>\n",
       "      <td>три</td>\n",
       "      <td>третьего</td>\n",
       "    </tr>\n",
       "    <tr>\n",
       "      <th>5193939</th>\n",
       "      <td>40</td>\n",
       "      <td>более</td>\n",
       "      <td>чем</td>\n",
       "      <td>яхт</td>\n",
       "      <td>.</td>\n",
       "      <td>CARDINAL</td>\n",
       "      <td>сорока</td>\n",
       "      <td>сорок</td>\n",
       "    </tr>\n",
       "    <tr>\n",
       "      <th>7255155</th>\n",
       "      <td>700</td>\n",
       "      <td>500</td>\n",
       "      <td>—</td>\n",
       "      <td>летними</td>\n",
       "      <td>деревьями</td>\n",
       "      <td>CARDINAL</td>\n",
       "      <td>семьсот</td>\n",
       "      <td>семисот</td>\n",
       "    </tr>\n",
       "    <tr>\n",
       "      <th>2564251</th>\n",
       "      <td>-963</td>\n",
       "      <td>эсминец</td>\n",
       "      <td>DD</td>\n",
       "      <td>«</td>\n",
       "      <td>Спрюэнс</td>\n",
       "      <td>CARDINAL</td>\n",
       "      <td>минус восемьдесят шестьдесят три</td>\n",
       "      <td>минус девятьсот шестьдесят три</td>\n",
       "    </tr>\n",
       "    <tr>\n",
       "      <th>2608024</th>\n",
       "      <td>2008</td>\n",
       "      <td>Mandriva</td>\n",
       "      <td>Linux</td>\n",
       "      <td>.</td>\n",
       "      <td>1</td>\n",
       "      <td>CARDINAL</td>\n",
       "      <td>две тысяч восемьдесят</td>\n",
       "      <td>две тысячи восемь</td>\n",
       "    </tr>\n",
       "    <tr>\n",
       "      <th>1315902</th>\n",
       "      <td>XXI</td>\n",
       "      <td>«</td>\n",
       "      <td>Пираты</td>\n",
       "      <td>века</td>\n",
       "      <td>»</td>\n",
       "      <td>CARDINAL</td>\n",
       "      <td>двадцать один</td>\n",
       "      <td>двадцать первого</td>\n",
       "    </tr>\n",
       "    <tr>\n",
       "      <th>461472</th>\n",
       "      <td>8187812559</td>\n",
       "      <td>—</td>\n",
       "      <td>ISBN</td>\n",
       "      <td>.</td>\n",
       "      <td>Jiva</td>\n",
       "      <td>CARDINAL</td>\n",
       "      <td>пять миллиардов триста двадцать миллионов милл...</td>\n",
       "      <td>восемь миллиардов сто восемьдесят семь миллион...</td>\n",
       "    </tr>\n",
       "    <tr>\n",
       "      <th>9775244</th>\n",
       "      <td>1649</td>\n",
       "      <td>французами</td>\n",
       "      <td>в</td>\n",
       "      <td>и</td>\n",
       "      <td>1657 годах</td>\n",
       "      <td>CARDINAL</td>\n",
       "      <td>тысячу шестьсот сорок девять</td>\n",
       "      <td>тысячью шестистах сорока девяти</td>\n",
       "    </tr>\n",
       "    <tr>\n",
       "      <th>10538032</th>\n",
       "      <td>148</td>\n",
       "      <td>сент</td>\n",
       "      <td>.</td>\n",
       "      <td>.</td>\n",
       "      <td>Слава</td>\n",
       "      <td>CARDINAL</td>\n",
       "      <td>ста сорока восемь</td>\n",
       "      <td>сто сорок восемь</td>\n",
       "    </tr>\n",
       "    <tr>\n",
       "      <th>10300836</th>\n",
       "      <td>-1</td>\n",
       "      <td>.</td>\n",
       "      <td>STS</td>\n",
       "      <td>—</td>\n",
       "      <td>первый</td>\n",
       "      <td>CARDINAL</td>\n",
       "      <td>одиннадцать</td>\n",
       "      <td>минус один</td>\n",
       "    </tr>\n",
       "    <tr>\n",
       "      <th>1884387</th>\n",
       "      <td>45</td>\n",
       "      <td>22</td>\n",
       "      <td>.</td>\n",
       "      <td>Эрик</td>\n",
       "      <td>скончался</td>\n",
       "      <td>CARDINAL</td>\n",
       "      <td>сорока пяти</td>\n",
       "      <td>сорок пять</td>\n",
       "    </tr>\n",
       "    <tr>\n",
       "      <th>2691928</th>\n",
       "      <td>193</td>\n",
       "      <td>жертв</td>\n",
       "      <td>оказались</td>\n",
       "      <td>подданных</td>\n",
       "      <td>Нидерландов</td>\n",
       "      <td>CARDINAL</td>\n",
       "      <td>ста девяноста три</td>\n",
       "      <td>сто девяносто три</td>\n",
       "    </tr>\n",
       "    <tr>\n",
       "      <th>5527277</th>\n",
       "      <td>1822084401</td>\n",
       "      <td>КОАТУУ</td>\n",
       "      <td>—</td>\n",
       "      <td>.</td>\n",
       "      <td>Население</td>\n",
       "      <td>CARDINAL</td>\n",
       "      <td>миллиард двести двадцать один миллиона четырес...</td>\n",
       "      <td>миллиард восемьсот двадцать два миллиона восем...</td>\n",
       "    </tr>\n",
       "    <tr>\n",
       "      <th>4437281</th>\n",
       "      <td>4</td>\n",
       "      <td>1917 г.</td>\n",
       "      <td>окончил</td>\n",
       "      <td>классное</td>\n",
       "      <td>земское</td>\n",
       "      <td>CARDINAL</td>\n",
       "      <td>четыре</td>\n",
       "      <td>четырех</td>\n",
       "    </tr>\n",
       "    <tr>\n",
       "      <th>9786511</th>\n",
       "      <td>1252</td>\n",
       "      <td>(</td>\n",
       "      <td>с</td>\n",
       "      <td>,</td>\n",
       "      <td>развод</td>\n",
       "      <td>CARDINAL</td>\n",
       "      <td>тысячей двести пятьюдесятью двумя</td>\n",
       "      <td>тысячей двумястами пятьюдесятью двумя</td>\n",
       "    </tr>\n",
       "    <tr>\n",
       "      <th>5575497</th>\n",
       "      <td>1614</td>\n",
       "      <td>селе</td>\n",
       "      <td>проживало</td>\n",
       "      <td>человек</td>\n",
       "      <td>(</td>\n",
       "      <td>CARDINAL</td>\n",
       "      <td>тысяча шестьсот четырнадцать</td>\n",
       "      <td>тысячу шестьсот четырнадцать</td>\n",
       "    </tr>\n",
       "    <tr>\n",
       "      <th>10150803</th>\n",
       "      <td>1927</td>\n",
       "      <td>соответственно</td>\n",
       "      <td>с</td>\n",
       "      <td>и</td>\n",
       "      <td>1938 г.</td>\n",
       "      <td>CARDINAL</td>\n",
       "      <td>тысячи девятьюстами двадцати семью</td>\n",
       "      <td>тысячей девятьюстами двадцатью семью</td>\n",
       "    </tr>\n",
       "    <tr>\n",
       "      <th>5442485</th>\n",
       "      <td>2</td>\n",
       "      <td>ЦПКБ</td>\n",
       "      <td>-</td>\n",
       "      <td>)</td>\n",
       "      <td>Красногорского</td>\n",
       "      <td>CARDINAL</td>\n",
       "      <td>двух</td>\n",
       "      <td>два</td>\n",
       "    </tr>\n",
       "    <tr>\n",
       "      <th>6455313</th>\n",
       "      <td>1986</td>\n",
       "      <td>1985</td>\n",
       "      <td>по</td>\n",
       "      <td>.</td>\n",
       "      <td>13 июня 2009</td>\n",
       "      <td>CARDINAL</td>\n",
       "      <td>тысячью девятьсот восемьдесят шесть</td>\n",
       "      <td>тысяча девятьсот восемьдесят шестой</td>\n",
       "    </tr>\n",
       "  </tbody>\n",
       "</table>\n",
       "</div>"
      ]
     },
     "execution_count": 13,
     "metadata": {},
     "output_type": "execute_result"
    }
   ],
   "source": [
    "predicted[~(predicted[\"after\"] == y_test) & ~(predicted[\"after\"].isnull()) & (predicted['class']=='CARDINAL')].sample(20)"
   ]
  },
  {
   "cell_type": "code",
   "execution_count": 10,
   "metadata": {
    "collapsed": true
   },
   "outputs": [
    {
     "data": {
      "text/html": [
       "<div>\n",
       "<style scoped>\n",
       "    .dataframe tbody tr th:only-of-type {\n",
       "        vertical-align: middle;\n",
       "    }\n",
       "\n",
       "    .dataframe tbody tr th {\n",
       "        vertical-align: top;\n",
       "    }\n",
       "\n",
       "    .dataframe thead th {\n",
       "        text-align: right;\n",
       "    }\n",
       "</style>\n",
       "<table border=\"1\" class=\"dataframe\">\n",
       "  <thead>\n",
       "    <tr style=\"text-align: right;\">\n",
       "      <th></th>\n",
       "      <th>before</th>\n",
       "      <th>prev_prev</th>\n",
       "      <th>prev</th>\n",
       "      <th>next</th>\n",
       "      <th>next_next</th>\n",
       "      <th>class</th>\n",
       "      <th>after</th>\n",
       "      <th>after_true</th>\n",
       "    </tr>\n",
       "  </thead>\n",
       "  <tbody>\n",
       "    <tr>\n",
       "      <th>2002263</th>\n",
       "      <td>32 619 408</td>\n",
       "      <td>ОКТМО</td>\n",
       "      <td>—</td>\n",
       "      <td>)</td>\n",
       "      <td>с</td>\n",
       "      <td>CARDINAL</td>\n",
       "      <td>три миллиона миллиона сто одна тысяч четыреста...</td>\n",
       "      <td>тридцать два миллиона шестьсот девятнадцать ты...</td>\n",
       "    </tr>\n",
       "    <tr>\n",
       "      <th>4112545</th>\n",
       "      <td>12</td>\n",
       "      <td>1921 год</td>\n",
       "      <td>—</td>\n",
       "      <td>дворов</td>\n",
       "      <td>.</td>\n",
       "      <td>CARDINAL</td>\n",
       "      <td>двенадцать</td>\n",
       "      <td>двенадцать</td>\n",
       "    </tr>\n",
       "    <tr>\n",
       "      <th>4897630</th>\n",
       "      <td>1960</td>\n",
       "      <td>Евскин</td>\n",
       "      <td>(</td>\n",
       "      <td>—</td>\n",
       "      <td>1996</td>\n",
       "      <td>CARDINAL</td>\n",
       "      <td>тысяча девятьсот шестьдесят</td>\n",
       "      <td>тысяча девятьсот шестьдесят</td>\n",
       "    </tr>\n",
       "    <tr>\n",
       "      <th>4143603</th>\n",
       "      <td>38024</td>\n",
       "      <td>INSEE</td>\n",
       "      <td>—</td>\n",
       "      <td>.</td>\n",
       "      <td>Население</td>\n",
       "      <td>CARDINAL</td>\n",
       "      <td>тридцать восемь тысяч двадцать четыре</td>\n",
       "      <td>тридцать восемь тысяч двадцать четыре</td>\n",
       "    </tr>\n",
       "    <tr>\n",
       "      <th>1585149</th>\n",
       "      <td>12</td>\n",
       "      <td>—</td>\n",
       "      <td>от</td>\n",
       "      <td>-</td>\n",
       "      <td>16 метров.</td>\n",
       "      <td>CARDINAL</td>\n",
       "      <td>двенадцати</td>\n",
       "      <td>один два</td>\n",
       "    </tr>\n",
       "    <tr>\n",
       "      <th>7104248</th>\n",
       "      <td>1918</td>\n",
       "      <td>КП</td>\n",
       "      <td>с</td>\n",
       "      <td>.</td>\n",
       "      <td>Депутат</td>\n",
       "      <td>CARDINAL</td>\n",
       "      <td>тысячей девятьюстами восемнадцатью</td>\n",
       "      <td>тысячей девятьюстами восемнадцатью</td>\n",
       "    </tr>\n",
       "    <tr>\n",
       "      <th>5074646</th>\n",
       "      <td>1951</td>\n",
       "      <td>)</td>\n",
       "      <td>.</td>\n",
       "      <td>—</td>\n",
       "      <td>1952</td>\n",
       "      <td>CARDINAL</td>\n",
       "      <td>тысяча девятьсот пятьдесят один</td>\n",
       "      <td>тысяча девятьсот пятьдесят один</td>\n",
       "    </tr>\n",
       "    <tr>\n",
       "      <th>7980790</th>\n",
       "      <td>33</td>\n",
       "      <td>грампластинка</td>\n",
       "      <td>(</td>\n",
       "      <td>Д</td>\n",
       "      <td>21819</td>\n",
       "      <td>CARDINAL</td>\n",
       "      <td>тридцать три</td>\n",
       "      <td>тридцать три</td>\n",
       "    </tr>\n",
       "    <tr>\n",
       "      <th>5970995</th>\n",
       "      <td>1500</td>\n",
       "      <td>состоявшую</td>\n",
       "      <td>из</td>\n",
       "      <td>партизан</td>\n",
       "      <td>,</td>\n",
       "      <td>CARDINAL</td>\n",
       "      <td>тысячи пятисот</td>\n",
       "      <td>тысячи пятисот</td>\n",
       "    </tr>\n",
       "    <tr>\n",
       "      <th>1770056</th>\n",
       "      <td>22</td>\n",
       "      <td>в</td>\n",
       "      <td>список</td>\n",
       "      <td>лучших</td>\n",
       "      <td>игроков</td>\n",
       "      <td>CARDINAL</td>\n",
       "      <td>двадцати двух</td>\n",
       "      <td>двадцати двух</td>\n",
       "    </tr>\n",
       "    <tr>\n",
       "      <th>8665855</th>\n",
       "      <td>1941</td>\n",
       "      <td>р</td>\n",
       "      <td>.</td>\n",
       "      <td>)</td>\n",
       "      <td>,</td>\n",
       "      <td>CARDINAL</td>\n",
       "      <td>тысяча девятьсот сорок один</td>\n",
       "      <td>тысяча девятьсот сорок один</td>\n",
       "    </tr>\n",
       "    <tr>\n",
       "      <th>9243951</th>\n",
       "      <td>1997</td>\n",
       "      <td>Индрик</td>\n",
       "      <td>,</td>\n",
       "      <td>.</td>\n",
       "      <td>Русские</td>\n",
       "      <td>CARDINAL</td>\n",
       "      <td>тысяча девятьсот девяносто семь</td>\n",
       "      <td>тысяча девятьсот девяносто семь</td>\n",
       "    </tr>\n",
       "    <tr>\n",
       "      <th>9081772</th>\n",
       "      <td>20</td>\n",
       "      <td>представляет</td>\n",
       "      <td>собой</td>\n",
       "      <td>метровый</td>\n",
       "      <td>гранитный</td>\n",
       "      <td>CARDINAL</td>\n",
       "      <td>двадцати</td>\n",
       "      <td>двадцати</td>\n",
       "    </tr>\n",
       "    <tr>\n",
       "      <th>3302075</th>\n",
       "      <td>7</td>\n",
       "      <td>Совета</td>\n",
       "      <td>СССР</td>\n",
       "      <td>,</td>\n",
       "      <td>8</td>\n",
       "      <td>CARDINAL</td>\n",
       "      <td>семь</td>\n",
       "      <td>семь</td>\n",
       "    </tr>\n",
       "    <tr>\n",
       "      <th>4649432</th>\n",
       "      <td>-55</td>\n",
       "      <td>.</td>\n",
       "      <td>WASP</td>\n",
       "      <td>представляет</td>\n",
       "      <td>собой</td>\n",
       "      <td>CARDINAL</td>\n",
       "      <td>пятьдесят пять</td>\n",
       "      <td>минус пятьдесят пять</td>\n",
       "    </tr>\n",
       "    <tr>\n",
       "      <th>2238994</th>\n",
       "      <td>1993</td>\n",
       "      <td>Лимб</td>\n",
       "      <td>,</td>\n",
       "      <td>.</td>\n",
       "      <td>Румянцев</td>\n",
       "      <td>CARDINAL</td>\n",
       "      <td>тысяча девятьсот девяносто три</td>\n",
       "      <td>тысяча девятьсот девяносто три</td>\n",
       "    </tr>\n",
       "    <tr>\n",
       "      <th>2293459</th>\n",
       "      <td>2013</td>\n",
       "      <td>14</td>\n",
       "      <td>,</td>\n",
       "      <td>.</td>\n",
       "      <td>Roberts</td>\n",
       "      <td>CARDINAL</td>\n",
       "      <td>две тысячи тринадцать</td>\n",
       "      <td>две тысячи тринадцать</td>\n",
       "    </tr>\n",
       "    <tr>\n",
       "      <th>9324720</th>\n",
       "      <td>447</td>\n",
       "      <td>—</td>\n",
       "      <td>С.</td>\n",
       "      <td>.</td>\n",
       "      <td>Петербургский</td>\n",
       "      <td>CARDINAL</td>\n",
       "      <td>четыреста сорок семь</td>\n",
       "      <td>четыреста сорок семь</td>\n",
       "    </tr>\n",
       "    <tr>\n",
       "      <th>2689188</th>\n",
       "      <td>1867</td>\n",
       "      <td>1814</td>\n",
       "      <td>—</td>\n",
       "      <td>)</td>\n",
       "      <td>.</td>\n",
       "      <td>CARDINAL</td>\n",
       "      <td>тысяча восемьсот шестьдесят семь</td>\n",
       "      <td>тысяча восемьсот шестьдесят семь</td>\n",
       "    </tr>\n",
       "    <tr>\n",
       "      <th>9979206</th>\n",
       "      <td>16</td>\n",
       "      <td>состоящее</td>\n",
       "      <td>из</td>\n",
       "      <td>4</td>\n",
       "      <td>дюймовых</td>\n",
       "      <td>CARDINAL</td>\n",
       "      <td>ста шестидесяти четырех</td>\n",
       "      <td>шестнадцати</td>\n",
       "    </tr>\n",
       "    <tr>\n",
       "      <th>5584394</th>\n",
       "      <td>1955</td>\n",
       "      <td>ГИХЛ</td>\n",
       "      <td>,</td>\n",
       "      <td>.</td>\n",
       "      <td>—</td>\n",
       "      <td>CARDINAL</td>\n",
       "      <td>тысяча девятьсот пятьдесят пять</td>\n",
       "      <td>тысяча девятьсот пятьдесят пять</td>\n",
       "    </tr>\n",
       "    <tr>\n",
       "      <th>2587295</th>\n",
       "      <td>1822</td>\n",
       "      <td>»</td>\n",
       "      <td>.</td>\n",
       "      <td>—</td>\n",
       "      <td>проведение</td>\n",
       "      <td>CARDINAL</td>\n",
       "      <td>тысяча восемьсот двадцать два</td>\n",
       "      <td>тысяча восемьсот двадцать два</td>\n",
       "    </tr>\n",
       "    <tr>\n",
       "      <th>2732785</th>\n",
       "      <td>1</td>\n",
       "      <td>чешуекрылые</td>\n",
       "      <td>Ч.</td>\n",
       "      <td>.</td>\n",
       "      <td>/</td>\n",
       "      <td>CARDINAL</td>\n",
       "      <td>один</td>\n",
       "      <td>один</td>\n",
       "    </tr>\n",
       "    <tr>\n",
       "      <th>2003206</th>\n",
       "      <td>15</td>\n",
       "      <td>мужчин</td>\n",
       "      <td>и</td>\n",
       "      <td>женщин</td>\n",
       "      <td>)</td>\n",
       "      <td>CARDINAL</td>\n",
       "      <td>пятнадцати</td>\n",
       "      <td>пятнадцати</td>\n",
       "    </tr>\n",
       "    <tr>\n",
       "      <th>9094503</th>\n",
       "      <td>51</td>\n",
       "      <td>шарнира</td>\n",
       "      <td>—</td>\n",
       "      <td>HRСэ</td>\n",
       "      <td>;</td>\n",
       "      <td>CARDINAL</td>\n",
       "      <td>пятьдесят один</td>\n",
       "      <td>пятьдесят один</td>\n",
       "    </tr>\n",
       "    <tr>\n",
       "      <th>3469673</th>\n",
       "      <td>131</td>\n",
       "      <td>.</td>\n",
       "      <td>С.</td>\n",
       "      <td>Геродот</td>\n",
       "      <td>.</td>\n",
       "      <td>CARDINAL</td>\n",
       "      <td>сто тридцать один</td>\n",
       "      <td>сто тридцать один</td>\n",
       "    </tr>\n",
       "    <tr>\n",
       "      <th>8646766</th>\n",
       "      <td>50</td>\n",
       "      <td>128</td>\n",
       "      <td>x</td>\n",
       "      <td>«</td>\n",
       "      <td>точек</td>\n",
       "      <td>CARDINAL</td>\n",
       "      <td>пятьдесят</td>\n",
       "      <td>ноль</td>\n",
       "    </tr>\n",
       "    <tr>\n",
       "      <th>4205899</th>\n",
       "      <td>1998</td>\n",
       "      <td>Магнитогорск</td>\n",
       "      <td>,</td>\n",
       "      <td>.</td>\n",
       "      <td>—</td>\n",
       "      <td>CARDINAL</td>\n",
       "      <td>тысяча девятьсот девяносто восемь</td>\n",
       "      <td>тысяча девятьсот девяносто восемь</td>\n",
       "    </tr>\n",
       "    <tr>\n",
       "      <th>2019694</th>\n",
       "      <td>177</td>\n",
       "      <td>176</td>\n",
       "      <td>—</td>\n",
       "      <td>Коломиец</td>\n",
       "      <td>М. В.</td>\n",
       "      <td>CARDINAL</td>\n",
       "      <td>сто семьдесят семь</td>\n",
       "      <td>сто семьдесят семь</td>\n",
       "    </tr>\n",
       "    <tr>\n",
       "      <th>10268986</th>\n",
       "      <td>529</td>\n",
       "      <td>,</td>\n",
       "      <td>проживали</td>\n",
       "      <td>человек</td>\n",
       "      <td>;</td>\n",
       "      <td>CARDINAL</td>\n",
       "      <td>пятьсот двадцать девять</td>\n",
       "      <td>пятьсот двадцать девять</td>\n",
       "    </tr>\n",
       "    <tr>\n",
       "      <th>...</th>\n",
       "      <td>...</td>\n",
       "      <td>...</td>\n",
       "      <td>...</td>\n",
       "      <td>...</td>\n",
       "      <td>...</td>\n",
       "      <td>...</td>\n",
       "      <td>...</td>\n",
       "      <td>...</td>\n",
       "    </tr>\n",
       "    <tr>\n",
       "      <th>1379358</th>\n",
       "      <td>197</td>\n",
       "      <td>.</td>\n",
       "      <td>Ф.</td>\n",
       "      <td>.</td>\n",
       "      <td>Оп</td>\n",
       "      <td>CARDINAL</td>\n",
       "      <td>сто девяносто семь</td>\n",
       "      <td>сто девяносто семь</td>\n",
       "    </tr>\n",
       "    <tr>\n",
       "      <th>7696864</th>\n",
       "      <td>7000</td>\n",
       "      <td>736 с.</td>\n",
       "      <td>Тираж</td>\n",
       "      <td>экз</td>\n",
       "      <td>.</td>\n",
       "      <td>CARDINAL</td>\n",
       "      <td>семь тысяч</td>\n",
       "      <td>семь тысяч</td>\n",
       "    </tr>\n",
       "    <tr>\n",
       "      <th>351504</th>\n",
       "      <td>2000</td>\n",
       "      <td>1995</td>\n",
       "      <td>,</td>\n",
       "      <td>и</td>\n",
       "      <td>2010</td>\n",
       "      <td>CARDINAL</td>\n",
       "      <td>две тысячи</td>\n",
       "      <td>две тысячи</td>\n",
       "    </tr>\n",
       "    <tr>\n",
       "      <th>9291448</th>\n",
       "      <td>2005</td>\n",
       "      <td>.</td>\n",
       "      <td>В</td>\n",
       "      <td>-7</td>\n",
       "      <td>гг</td>\n",
       "      <td>CARDINAL</td>\n",
       "      <td>двадцати тысяч пятисот семи</td>\n",
       "      <td>двух тысячах пяти</td>\n",
       "    </tr>\n",
       "    <tr>\n",
       "      <th>224919</th>\n",
       "      <td>2010</td>\n",
       "      <td>чемпионате</td>\n",
       "      <td>России</td>\n",
       "      <td>Джанаев</td>\n",
       "      <td>вновь</td>\n",
       "      <td>CARDINAL</td>\n",
       "      <td>две тысячи десять</td>\n",
       "      <td>две тысячи десять</td>\n",
       "    </tr>\n",
       "    <tr>\n",
       "      <th>340067</th>\n",
       "      <td>II</td>\n",
       "      <td>антикороля</td>\n",
       "      <td>Вильгельма</td>\n",
       "      <td>и</td>\n",
       "      <td>Елизаветы</td>\n",
       "      <td>CARDINAL</td>\n",
       "      <td>два</td>\n",
       "      <td>второго</td>\n",
       "    </tr>\n",
       "    <tr>\n",
       "      <th>9205519</th>\n",
       "      <td>1</td>\n",
       "      <td>—</td>\n",
       "      <td>Т.</td>\n",
       "      <td>.</td>\n",
       "      <td>:</td>\n",
       "      <td>CARDINAL</td>\n",
       "      <td>один</td>\n",
       "      <td>один</td>\n",
       "    </tr>\n",
       "    <tr>\n",
       "      <th>7664140</th>\n",
       "      <td>1997</td>\n",
       "      <td>М.</td>\n",
       "      <td>,</td>\n",
       "      <td>(</td>\n",
       "      <td>Комментарии</td>\n",
       "      <td>CARDINAL</td>\n",
       "      <td>тысяча девятьсот девяносто семь</td>\n",
       "      <td>тысяча девятьсот девяносто семь</td>\n",
       "    </tr>\n",
       "    <tr>\n",
       "      <th>9756444</th>\n",
       "      <td>222</td>\n",
       "      <td>221</td>\n",
       "      <td>—</td>\n",
       "      <td>.</td>\n",
       "      <td>Published</td>\n",
       "      <td>CARDINAL</td>\n",
       "      <td>двести двадцать два</td>\n",
       "      <td>двести двадцать два</td>\n",
       "    </tr>\n",
       "    <tr>\n",
       "      <th>10003801</th>\n",
       "      <td>5</td>\n",
       "      <td>БЧ</td>\n",
       "      <td>-</td>\n",
       "      <td>)</td>\n",
       "      <td>.</td>\n",
       "      <td>CARDINAL</td>\n",
       "      <td>пять</td>\n",
       "      <td>пять</td>\n",
       "    </tr>\n",
       "    <tr>\n",
       "      <th>6207358</th>\n",
       "      <td>2005</td>\n",
       "      <td>Press</td>\n",
       "      <td>,</td>\n",
       "      <td>.</td>\n",
       "      <td>—</td>\n",
       "      <td>CARDINAL</td>\n",
       "      <td>две тысячи пять</td>\n",
       "      <td>две тысячи пять</td>\n",
       "    </tr>\n",
       "    <tr>\n",
       "      <th>5472781</th>\n",
       "      <td>-45</td>\n",
       "      <td>карты</td>\n",
       "      <td>N</td>\n",
       "      <td>-</td>\n",
       "      <td>XVII</td>\n",
       "      <td>CARDINAL</td>\n",
       "      <td>минус сорок пять</td>\n",
       "      <td>минус сорок пять</td>\n",
       "    </tr>\n",
       "    <tr>\n",
       "      <th>8044376</th>\n",
       "      <td>1994</td>\n",
       "      <td>Украины</td>\n",
       "      <td>(</td>\n",
       "      <td>)</td>\n",
       "      <td>.</td>\n",
       "      <td>CARDINAL</td>\n",
       "      <td>тысяча девятьсот девяносто четыре</td>\n",
       "      <td>тысяча девятьсот девяносто четыре</td>\n",
       "    </tr>\n",
       "    <tr>\n",
       "      <th>4946366</th>\n",
       "      <td>1880</td>\n",
       "      <td>пединститута</td>\n",
       "      <td>.</td>\n",
       "      <td>и</td>\n",
       "      <td>1885</td>\n",
       "      <td>CARDINAL</td>\n",
       "      <td>тысяча восемьсот восемьдесят</td>\n",
       "      <td>тысяча восемьсот восемьдесят</td>\n",
       "    </tr>\n",
       "    <tr>\n",
       "      <th>9494329</th>\n",
       "      <td>2006</td>\n",
       "      <td>12</td>\n",
       "      <td>May</td>\n",
       "      <td>)</td>\n",
       "      <td>.</td>\n",
       "      <td>CARDINAL</td>\n",
       "      <td>две тысячи шесть</td>\n",
       "      <td>две тысячи шесть</td>\n",
       "    </tr>\n",
       "    <tr>\n",
       "      <th>6311742</th>\n",
       "      <td>28</td>\n",
       "      <td>терактов</td>\n",
       "      <td>погибло</td>\n",
       "      <td>человек</td>\n",
       "      <td>,</td>\n",
       "      <td>CARDINAL</td>\n",
       "      <td>двадцать восемь</td>\n",
       "      <td>двадцать восемь</td>\n",
       "    </tr>\n",
       "    <tr>\n",
       "      <th>9933972</th>\n",
       "      <td>130</td>\n",
       "      <td>достигает</td>\n",
       "      <td>от</td>\n",
       "      <td>—</td>\n",
       "      <td>132 см</td>\n",
       "      <td>CARDINAL</td>\n",
       "      <td>ста тридцати</td>\n",
       "      <td>ста тридцати</td>\n",
       "    </tr>\n",
       "    <tr>\n",
       "      <th>7627013</th>\n",
       "      <td>1984</td>\n",
       "      <td>шприца</td>\n",
       "      <td>.</td>\n",
       "      <td>.</td>\n",
       "      <td>Холст</td>\n",
       "      <td>CARDINAL</td>\n",
       "      <td>тысяча девятьсот восемьдесят четыре</td>\n",
       "      <td>тысяча девятьсот восемьдесят четыре</td>\n",
       "    </tr>\n",
       "    <tr>\n",
       "      <th>2585750</th>\n",
       "      <td>9</td>\n",
       "      <td>1</td>\n",
       "      <td>-</td>\n",
       "      <td>.</td>\n",
       "      <td>Eosialis</td>\n",
       "      <td>CARDINAL</td>\n",
       "      <td>девяти</td>\n",
       "      <td>девяти</td>\n",
       "    </tr>\n",
       "    <tr>\n",
       "      <th>9873904</th>\n",
       "      <td>1900</td>\n",
       "      <td>Просвещение</td>\n",
       "      <td>,</td>\n",
       "      <td>—</td>\n",
       "      <td>1909</td>\n",
       "      <td>CARDINAL</td>\n",
       "      <td>тысяча девятьсот</td>\n",
       "      <td>тысяча девятьсот</td>\n",
       "    </tr>\n",
       "    <tr>\n",
       "      <th>8831399</th>\n",
       "      <td>1944</td>\n",
       "      <td>Михайловская</td>\n",
       "      <td>—</td>\n",
       "      <td>)</td>\n",
       "      <td>—</td>\n",
       "      <td>CARDINAL</td>\n",
       "      <td>тысяча девятьсот сорок четыре</td>\n",
       "      <td>тысяча девятьсот сорок четыре</td>\n",
       "    </tr>\n",
       "    <tr>\n",
       "      <th>7719343</th>\n",
       "      <td>1998</td>\n",
       "      <td>Rogers</td>\n",
       "      <td>,</td>\n",
       "      <td>]</td>\n",
       "      <td>Inocybe</td>\n",
       "      <td>CARDINAL</td>\n",
       "      <td>тысяча девятьсот девяносто восемь</td>\n",
       "      <td>тысяча девятьсот девяносто восемь</td>\n",
       "    </tr>\n",
       "    <tr>\n",
       "      <th>7801849</th>\n",
       "      <td>-21</td>\n",
       "      <td>(</td>\n",
       "      <td>U</td>\n",
       "      <td>)</td>\n",
       "      <td>сборную</td>\n",
       "      <td>CARDINAL</td>\n",
       "      <td>минус двадцать один</td>\n",
       "      <td>минус двадцать один</td>\n",
       "    </tr>\n",
       "    <tr>\n",
       "      <th>3846584</th>\n",
       "      <td>52</td>\n",
       "      <td>судостроения</td>\n",
       "      <td>—</td>\n",
       "      <td>(</td>\n",
       "      <td>позднее</td>\n",
       "      <td>CARDINAL</td>\n",
       "      <td>пятьдесят два</td>\n",
       "      <td>пятьдесят два</td>\n",
       "    </tr>\n",
       "    <tr>\n",
       "      <th>7241821</th>\n",
       "      <td>71</td>\n",
       "      <td>.</td>\n",
       "      <td>P.</td>\n",
       "      <td>)</td>\n",
       "      <td>.</td>\n",
       "      <td>CARDINAL</td>\n",
       "      <td>семьдесят один</td>\n",
       "      <td>семьдесят один</td>\n",
       "    </tr>\n",
       "    <tr>\n",
       "      <th>4213924</th>\n",
       "      <td>25</td>\n",
       "      <td>18</td>\n",
       "      <td>,</td>\n",
       "      <td>:</td>\n",
       "      <td>15</td>\n",
       "      <td>CARDINAL</td>\n",
       "      <td>двадцать пять</td>\n",
       "      <td>двадцать пять</td>\n",
       "    </tr>\n",
       "    <tr>\n",
       "      <th>899253</th>\n",
       "      <td>1947</td>\n",
       "      <td>БССР</td>\n",
       "      <td>,</td>\n",
       "      <td>.</td>\n",
       "      <td>—</td>\n",
       "      <td>CARDINAL</td>\n",
       "      <td>тысяча девятьсот сорок семь</td>\n",
       "      <td>тысяча девятьсот сорок семь</td>\n",
       "    </tr>\n",
       "    <tr>\n",
       "      <th>1431423</th>\n",
       "      <td>1980</td>\n",
       "      <td>вокал</td>\n",
       "      <td>(</td>\n",
       "      <td>—</td>\n",
       "      <td>1981</td>\n",
       "      <td>CARDINAL</td>\n",
       "      <td>тысяча девятьсот восемьдесят</td>\n",
       "      <td>тысяча девятьсот восемьдесят</td>\n",
       "    </tr>\n",
       "    <tr>\n",
       "      <th>7437341</th>\n",
       "      <td>8</td>\n",
       "      <td>разбиты</td>\n",
       "      <td>на</td>\n",
       "      <td>групп</td>\n",
       "      <td>.</td>\n",
       "      <td>CARDINAL</td>\n",
       "      <td>восемь</td>\n",
       "      <td>восемь</td>\n",
       "    </tr>\n",
       "    <tr>\n",
       "      <th>3977100</th>\n",
       "      <td>34</td>\n",
       "      <td>2012 год</td>\n",
       "      <td>известно</td>\n",
       "      <td>изотопа</td>\n",
       "      <td>франция</td>\n",
       "      <td>CARDINAL</td>\n",
       "      <td>тридцать четыре</td>\n",
       "      <td>тридцать четыре</td>\n",
       "    </tr>\n",
       "  </tbody>\n",
       "</table>\n",
       "<p>100 rows × 8 columns</p>\n",
       "</div>"
      ],
      "text/plain": [
       "<div>\n",
       "<style scoped>\n",
       "    .dataframe tbody tr th:only-of-type {\n",
       "        vertical-align: middle;\n",
       "    }\n",
       "\n",
       "    .dataframe tbody tr th {\n",
       "        vertical-align: top;\n",
       "    }\n",
       "\n",
       "    .dataframe thead th {\n",
       "        text-align: right;\n",
       "    }\n",
       "</style>\n",
       "<table border=\"1\" class=\"dataframe\">\n",
       "  <thead>\n",
       "    <tr style=\"text-align: right;\">\n",
       "      <th></th>\n",
       "      <th>before</th>\n",
       "      <th>prev_prev</th>\n",
       "      <th>prev</th>\n",
       "      <th>next</th>\n",
       "      <th>next_next</th>\n",
       "      <th>class</th>\n",
       "      <th>after</th>\n",
       "      <th>after_true</th>\n",
       "    </tr>\n",
       "  </thead>\n",
       "  <tbody>\n",
       "    <tr>\n",
       "      <th>2002263</th>\n",
       "      <td>32 619 408</td>\n",
       "      <td>ОКТМО</td>\n",
       "      <td>—</td>\n",
       "      <td>)</td>\n",
       "      <td>с</td>\n",
       "      <td>CARDINAL</td>\n",
       "      <td>три миллиона миллиона сто одна тысяч четыреста...</td>\n",
       "      <td>тридцать два миллиона шестьсот девятнадцать ты...</td>\n",
       "    </tr>\n",
       "    <tr>\n",
       "      <th>4112545</th>\n",
       "      <td>12</td>\n",
       "      <td>1921 год</td>\n",
       "      <td>—</td>\n",
       "      <td>дворов</td>\n",
       "      <td>.</td>\n",
       "      <td>CARDINAL</td>\n",
       "      <td>двенадцать</td>\n",
       "      <td>двенадцать</td>\n",
       "    </tr>\n",
       "    <tr>\n",
       "      <th>4897630</th>\n",
       "      <td>1960</td>\n",
       "      <td>Евскин</td>\n",
       "      <td>(</td>\n",
       "      <td>—</td>\n",
       "      <td>1996</td>\n",
       "      <td>CARDINAL</td>\n",
       "      <td>тысяча девятьсот шестьдесят</td>\n",
       "      <td>тысяча девятьсот шестьдесят</td>\n",
       "    </tr>\n",
       "    <tr>\n",
       "      <th>4143603</th>\n",
       "      <td>38024</td>\n",
       "      <td>INSEE</td>\n",
       "      <td>—</td>\n",
       "      <td>.</td>\n",
       "      <td>Население</td>\n",
       "      <td>CARDINAL</td>\n",
       "      <td>тридцать восемь тысяч двадцать четыре</td>\n",
       "      <td>тридцать восемь тысяч двадцать четыре</td>\n",
       "    </tr>\n",
       "    <tr>\n",
       "      <th>1585149</th>\n",
       "      <td>12</td>\n",
       "      <td>—</td>\n",
       "      <td>от</td>\n",
       "      <td>-</td>\n",
       "      <td>16 метров.</td>\n",
       "      <td>CARDINAL</td>\n",
       "      <td>двенадцати</td>\n",
       "      <td>один два</td>\n",
       "    </tr>\n",
       "    <tr>\n",
       "      <th>7104248</th>\n",
       "      <td>1918</td>\n",
       "      <td>КП</td>\n",
       "      <td>с</td>\n",
       "      <td>.</td>\n",
       "      <td>Депутат</td>\n",
       "      <td>CARDINAL</td>\n",
       "      <td>тысячей девятьюстами восемнадцатью</td>\n",
       "      <td>тысячей девятьюстами восемнадцатью</td>\n",
       "    </tr>\n",
       "    <tr>\n",
       "      <th>5074646</th>\n",
       "      <td>1951</td>\n",
       "      <td>)</td>\n",
       "      <td>.</td>\n",
       "      <td>—</td>\n",
       "      <td>1952</td>\n",
       "      <td>CARDINAL</td>\n",
       "      <td>тысяча девятьсот пятьдесят один</td>\n",
       "      <td>тысяча девятьсот пятьдесят один</td>\n",
       "    </tr>\n",
       "    <tr>\n",
       "      <th>7980790</th>\n",
       "      <td>33</td>\n",
       "      <td>грампластинка</td>\n",
       "      <td>(</td>\n",
       "      <td>Д</td>\n",
       "      <td>21819</td>\n",
       "      <td>CARDINAL</td>\n",
       "      <td>тридцать три</td>\n",
       "      <td>тридцать три</td>\n",
       "    </tr>\n",
       "    <tr>\n",
       "      <th>5970995</th>\n",
       "      <td>1500</td>\n",
       "      <td>состоявшую</td>\n",
       "      <td>из</td>\n",
       "      <td>партизан</td>\n",
       "      <td>,</td>\n",
       "      <td>CARDINAL</td>\n",
       "      <td>тысячи пятисот</td>\n",
       "      <td>тысячи пятисот</td>\n",
       "    </tr>\n",
       "    <tr>\n",
       "      <th>1770056</th>\n",
       "      <td>22</td>\n",
       "      <td>в</td>\n",
       "      <td>список</td>\n",
       "      <td>лучших</td>\n",
       "      <td>игроков</td>\n",
       "      <td>CARDINAL</td>\n",
       "      <td>двадцати двух</td>\n",
       "      <td>двадцати двух</td>\n",
       "    </tr>\n",
       "    <tr>\n",
       "      <th>8665855</th>\n",
       "      <td>1941</td>\n",
       "      <td>р</td>\n",
       "      <td>.</td>\n",
       "      <td>)</td>\n",
       "      <td>,</td>\n",
       "      <td>CARDINAL</td>\n",
       "      <td>тысяча девятьсот сорок один</td>\n",
       "      <td>тысяча девятьсот сорок один</td>\n",
       "    </tr>\n",
       "    <tr>\n",
       "      <th>9243951</th>\n",
       "      <td>1997</td>\n",
       "      <td>Индрик</td>\n",
       "      <td>,</td>\n",
       "      <td>.</td>\n",
       "      <td>Русские</td>\n",
       "      <td>CARDINAL</td>\n",
       "      <td>тысяча девятьсот девяносто семь</td>\n",
       "      <td>тысяча девятьсот девяносто семь</td>\n",
       "    </tr>\n",
       "    <tr>\n",
       "      <th>9081772</th>\n",
       "      <td>20</td>\n",
       "      <td>представляет</td>\n",
       "      <td>собой</td>\n",
       "      <td>метровый</td>\n",
       "      <td>гранитный</td>\n",
       "      <td>CARDINAL</td>\n",
       "      <td>двадцати</td>\n",
       "      <td>двадцати</td>\n",
       "    </tr>\n",
       "    <tr>\n",
       "      <th>3302075</th>\n",
       "      <td>7</td>\n",
       "      <td>Совета</td>\n",
       "      <td>СССР</td>\n",
       "      <td>,</td>\n",
       "      <td>8</td>\n",
       "      <td>CARDINAL</td>\n",
       "      <td>семь</td>\n",
       "      <td>семь</td>\n",
       "    </tr>\n",
       "    <tr>\n",
       "      <th>4649432</th>\n",
       "      <td>-55</td>\n",
       "      <td>.</td>\n",
       "      <td>WASP</td>\n",
       "      <td>представляет</td>\n",
       "      <td>собой</td>\n",
       "      <td>CARDINAL</td>\n",
       "      <td>пятьдесят пять</td>\n",
       "      <td>минус пятьдесят пять</td>\n",
       "    </tr>\n",
       "    <tr>\n",
       "      <th>2238994</th>\n",
       "      <td>1993</td>\n",
       "      <td>Лимб</td>\n",
       "      <td>,</td>\n",
       "      <td>.</td>\n",
       "      <td>Румянцев</td>\n",
       "      <td>CARDINAL</td>\n",
       "      <td>тысяча девятьсот девяносто три</td>\n",
       "      <td>тысяча девятьсот девяносто три</td>\n",
       "    </tr>\n",
       "    <tr>\n",
       "      <th>2293459</th>\n",
       "      <td>2013</td>\n",
       "      <td>14</td>\n",
       "      <td>,</td>\n",
       "      <td>.</td>\n",
       "      <td>Roberts</td>\n",
       "      <td>CARDINAL</td>\n",
       "      <td>две тысячи тринадцать</td>\n",
       "      <td>две тысячи тринадцать</td>\n",
       "    </tr>\n",
       "    <tr>\n",
       "      <th>9324720</th>\n",
       "      <td>447</td>\n",
       "      <td>—</td>\n",
       "      <td>С.</td>\n",
       "      <td>.</td>\n",
       "      <td>Петербургский</td>\n",
       "      <td>CARDINAL</td>\n",
       "      <td>четыреста сорок семь</td>\n",
       "      <td>четыреста сорок семь</td>\n",
       "    </tr>\n",
       "    <tr>\n",
       "      <th>2689188</th>\n",
       "      <td>1867</td>\n",
       "      <td>1814</td>\n",
       "      <td>—</td>\n",
       "      <td>)</td>\n",
       "      <td>.</td>\n",
       "      <td>CARDINAL</td>\n",
       "      <td>тысяча восемьсот шестьдесят семь</td>\n",
       "      <td>тысяча восемьсот шестьдесят семь</td>\n",
       "    </tr>\n",
       "    <tr>\n",
       "      <th>9979206</th>\n",
       "      <td>16</td>\n",
       "      <td>состоящее</td>\n",
       "      <td>из</td>\n",
       "      <td>4</td>\n",
       "      <td>дюймовых</td>\n",
       "      <td>CARDINAL</td>\n",
       "      <td>ста шестидесяти четырех</td>\n",
       "      <td>шестнадцати</td>\n",
       "    </tr>\n",
       "    <tr>\n",
       "      <th>5584394</th>\n",
       "      <td>1955</td>\n",
       "      <td>ГИХЛ</td>\n",
       "      <td>,</td>\n",
       "      <td>.</td>\n",
       "      <td>—</td>\n",
       "      <td>CARDINAL</td>\n",
       "      <td>тысяча девятьсот пятьдесят пять</td>\n",
       "      <td>тысяча девятьсот пятьдесят пять</td>\n",
       "    </tr>\n",
       "    <tr>\n",
       "      <th>2587295</th>\n",
       "      <td>1822</td>\n",
       "      <td>»</td>\n",
       "      <td>.</td>\n",
       "      <td>—</td>\n",
       "      <td>проведение</td>\n",
       "      <td>CARDINAL</td>\n",
       "      <td>тысяча восемьсот двадцать два</td>\n",
       "      <td>тысяча восемьсот двадцать два</td>\n",
       "    </tr>\n",
       "    <tr>\n",
       "      <th>2732785</th>\n",
       "      <td>1</td>\n",
       "      <td>чешуекрылые</td>\n",
       "      <td>Ч.</td>\n",
       "      <td>.</td>\n",
       "      <td>/</td>\n",
       "      <td>CARDINAL</td>\n",
       "      <td>один</td>\n",
       "      <td>один</td>\n",
       "    </tr>\n",
       "    <tr>\n",
       "      <th>2003206</th>\n",
       "      <td>15</td>\n",
       "      <td>мужчин</td>\n",
       "      <td>и</td>\n",
       "      <td>женщин</td>\n",
       "      <td>)</td>\n",
       "      <td>CARDINAL</td>\n",
       "      <td>пятнадцати</td>\n",
       "      <td>пятнадцати</td>\n",
       "    </tr>\n",
       "    <tr>\n",
       "      <th>9094503</th>\n",
       "      <td>51</td>\n",
       "      <td>шарнира</td>\n",
       "      <td>—</td>\n",
       "      <td>HRСэ</td>\n",
       "      <td>;</td>\n",
       "      <td>CARDINAL</td>\n",
       "      <td>пятьдесят один</td>\n",
       "      <td>пятьдесят один</td>\n",
       "    </tr>\n",
       "    <tr>\n",
       "      <th>3469673</th>\n",
       "      <td>131</td>\n",
       "      <td>.</td>\n",
       "      <td>С.</td>\n",
       "      <td>Геродот</td>\n",
       "      <td>.</td>\n",
       "      <td>CARDINAL</td>\n",
       "      <td>сто тридцать один</td>\n",
       "      <td>сто тридцать один</td>\n",
       "    </tr>\n",
       "    <tr>\n",
       "      <th>8646766</th>\n",
       "      <td>50</td>\n",
       "      <td>128</td>\n",
       "      <td>x</td>\n",
       "      <td>«</td>\n",
       "      <td>точек</td>\n",
       "      <td>CARDINAL</td>\n",
       "      <td>пятьдесят</td>\n",
       "      <td>ноль</td>\n",
       "    </tr>\n",
       "    <tr>\n",
       "      <th>4205899</th>\n",
       "      <td>1998</td>\n",
       "      <td>Магнитогорск</td>\n",
       "      <td>,</td>\n",
       "      <td>.</td>\n",
       "      <td>—</td>\n",
       "      <td>CARDINAL</td>\n",
       "      <td>тысяча девятьсот девяносто восемь</td>\n",
       "      <td>тысяча девятьсот девяносто восемь</td>\n",
       "    </tr>\n",
       "    <tr>\n",
       "      <th>2019694</th>\n",
       "      <td>177</td>\n",
       "      <td>176</td>\n",
       "      <td>—</td>\n",
       "      <td>Коломиец</td>\n",
       "      <td>М. В.</td>\n",
       "      <td>CARDINAL</td>\n",
       "      <td>сто семьдесят семь</td>\n",
       "      <td>сто семьдесят семь</td>\n",
       "    </tr>\n",
       "    <tr>\n",
       "      <th>10268986</th>\n",
       "      <td>529</td>\n",
       "      <td>,</td>\n",
       "      <td>проживали</td>\n",
       "      <td>человек</td>\n",
       "      <td>;</td>\n",
       "      <td>CARDINAL</td>\n",
       "      <td>пятьсот двадцать девять</td>\n",
       "      <td>пятьсот двадцать девять</td>\n",
       "    </tr>\n",
       "    <tr>\n",
       "      <th>...</th>\n",
       "      <td>...</td>\n",
       "      <td>...</td>\n",
       "      <td>...</td>\n",
       "      <td>...</td>\n",
       "      <td>...</td>\n",
       "      <td>...</td>\n",
       "      <td>...</td>\n",
       "      <td>...</td>\n",
       "    </tr>\n",
       "    <tr>\n",
       "      <th>1379358</th>\n",
       "      <td>197</td>\n",
       "      <td>.</td>\n",
       "      <td>Ф.</td>\n",
       "      <td>.</td>\n",
       "      <td>Оп</td>\n",
       "      <td>CARDINAL</td>\n",
       "      <td>сто девяносто семь</td>\n",
       "      <td>сто девяносто семь</td>\n",
       "    </tr>\n",
       "    <tr>\n",
       "      <th>7696864</th>\n",
       "      <td>7000</td>\n",
       "      <td>736 с.</td>\n",
       "      <td>Тираж</td>\n",
       "      <td>экз</td>\n",
       "      <td>.</td>\n",
       "      <td>CARDINAL</td>\n",
       "      <td>семь тысяч</td>\n",
       "      <td>семь тысяч</td>\n",
       "    </tr>\n",
       "    <tr>\n",
       "      <th>351504</th>\n",
       "      <td>2000</td>\n",
       "      <td>1995</td>\n",
       "      <td>,</td>\n",
       "      <td>и</td>\n",
       "      <td>2010</td>\n",
       "      <td>CARDINAL</td>\n",
       "      <td>две тысячи</td>\n",
       "      <td>две тысячи</td>\n",
       "    </tr>\n",
       "    <tr>\n",
       "      <th>9291448</th>\n",
       "      <td>2005</td>\n",
       "      <td>.</td>\n",
       "      <td>В</td>\n",
       "      <td>-7</td>\n",
       "      <td>гг</td>\n",
       "      <td>CARDINAL</td>\n",
       "      <td>двадцати тысяч пятисот семи</td>\n",
       "      <td>двух тысячах пяти</td>\n",
       "    </tr>\n",
       "    <tr>\n",
       "      <th>224919</th>\n",
       "      <td>2010</td>\n",
       "      <td>чемпионате</td>\n",
       "      <td>России</td>\n",
       "      <td>Джанаев</td>\n",
       "      <td>вновь</td>\n",
       "      <td>CARDINAL</td>\n",
       "      <td>две тысячи десять</td>\n",
       "      <td>две тысячи десять</td>\n",
       "    </tr>\n",
       "    <tr>\n",
       "      <th>340067</th>\n",
       "      <td>II</td>\n",
       "      <td>антикороля</td>\n",
       "      <td>Вильгельма</td>\n",
       "      <td>и</td>\n",
       "      <td>Елизаветы</td>\n",
       "      <td>CARDINAL</td>\n",
       "      <td>два</td>\n",
       "      <td>второго</td>\n",
       "    </tr>\n",
       "    <tr>\n",
       "      <th>9205519</th>\n",
       "      <td>1</td>\n",
       "      <td>—</td>\n",
       "      <td>Т.</td>\n",
       "      <td>.</td>\n",
       "      <td>:</td>\n",
       "      <td>CARDINAL</td>\n",
       "      <td>один</td>\n",
       "      <td>один</td>\n",
       "    </tr>\n",
       "    <tr>\n",
       "      <th>7664140</th>\n",
       "      <td>1997</td>\n",
       "      <td>М.</td>\n",
       "      <td>,</td>\n",
       "      <td>(</td>\n",
       "      <td>Комментарии</td>\n",
       "      <td>CARDINAL</td>\n",
       "      <td>тысяча девятьсот девяносто семь</td>\n",
       "      <td>тысяча девятьсот девяносто семь</td>\n",
       "    </tr>\n",
       "    <tr>\n",
       "      <th>9756444</th>\n",
       "      <td>222</td>\n",
       "      <td>221</td>\n",
       "      <td>—</td>\n",
       "      <td>.</td>\n",
       "      <td>Published</td>\n",
       "      <td>CARDINAL</td>\n",
       "      <td>двести двадцать два</td>\n",
       "      <td>двести двадцать два</td>\n",
       "    </tr>\n",
       "    <tr>\n",
       "      <th>10003801</th>\n",
       "      <td>5</td>\n",
       "      <td>БЧ</td>\n",
       "      <td>-</td>\n",
       "      <td>)</td>\n",
       "      <td>.</td>\n",
       "      <td>CARDINAL</td>\n",
       "      <td>пять</td>\n",
       "      <td>пять</td>\n",
       "    </tr>\n",
       "    <tr>\n",
       "      <th>6207358</th>\n",
       "      <td>2005</td>\n",
       "      <td>Press</td>\n",
       "      <td>,</td>\n",
       "      <td>.</td>\n",
       "      <td>—</td>\n",
       "      <td>CARDINAL</td>\n",
       "      <td>две тысячи пять</td>\n",
       "      <td>две тысячи пять</td>\n",
       "    </tr>\n",
       "    <tr>\n",
       "      <th>5472781</th>\n",
       "      <td>-45</td>\n",
       "      <td>карты</td>\n",
       "      <td>N</td>\n",
       "      <td>-</td>\n",
       "      <td>XVII</td>\n",
       "      <td>CARDINAL</td>\n",
       "      <td>минус сорок пять</td>\n",
       "      <td>минус сорок пять</td>\n",
       "    </tr>\n",
       "    <tr>\n",
       "      <th>8044376</th>\n",
       "      <td>1994</td>\n",
       "      <td>Украины</td>\n",
       "      <td>(</td>\n",
       "      <td>)</td>\n",
       "      <td>.</td>\n",
       "      <td>CARDINAL</td>\n",
       "      <td>тысяча девятьсот девяносто четыре</td>\n",
       "      <td>тысяча девятьсот девяносто четыре</td>\n",
       "    </tr>\n",
       "    <tr>\n",
       "      <th>4946366</th>\n",
       "      <td>1880</td>\n",
       "      <td>пединститута</td>\n",
       "      <td>.</td>\n",
       "      <td>и</td>\n",
       "      <td>1885</td>\n",
       "      <td>CARDINAL</td>\n",
       "      <td>тысяча восемьсот восемьдесят</td>\n",
       "      <td>тысяча восемьсот восемьдесят</td>\n",
       "    </tr>\n",
       "    <tr>\n",
       "      <th>9494329</th>\n",
       "      <td>2006</td>\n",
       "      <td>12</td>\n",
       "      <td>May</td>\n",
       "      <td>)</td>\n",
       "      <td>.</td>\n",
       "      <td>CARDINAL</td>\n",
       "      <td>две тысячи шесть</td>\n",
       "      <td>две тысячи шесть</td>\n",
       "    </tr>\n",
       "    <tr>\n",
       "      <th>6311742</th>\n",
       "      <td>28</td>\n",
       "      <td>терактов</td>\n",
       "      <td>погибло</td>\n",
       "      <td>человек</td>\n",
       "      <td>,</td>\n",
       "      <td>CARDINAL</td>\n",
       "      <td>двадцать восемь</td>\n",
       "      <td>двадцать восемь</td>\n",
       "    </tr>\n",
       "    <tr>\n",
       "      <th>9933972</th>\n",
       "      <td>130</td>\n",
       "      <td>достигает</td>\n",
       "      <td>от</td>\n",
       "      <td>—</td>\n",
       "      <td>132 см</td>\n",
       "      <td>CARDINAL</td>\n",
       "      <td>ста тридцати</td>\n",
       "      <td>ста тридцати</td>\n",
       "    </tr>\n",
       "    <tr>\n",
       "      <th>7627013</th>\n",
       "      <td>1984</td>\n",
       "      <td>шприца</td>\n",
       "      <td>.</td>\n",
       "      <td>.</td>\n",
       "      <td>Холст</td>\n",
       "      <td>CARDINAL</td>\n",
       "      <td>тысяча девятьсот восемьдесят четыре</td>\n",
       "      <td>тысяча девятьсот восемьдесят четыре</td>\n",
       "    </tr>\n",
       "    <tr>\n",
       "      <th>2585750</th>\n",
       "      <td>9</td>\n",
       "      <td>1</td>\n",
       "      <td>-</td>\n",
       "      <td>.</td>\n",
       "      <td>Eosialis</td>\n",
       "      <td>CARDINAL</td>\n",
       "      <td>девяти</td>\n",
       "      <td>девяти</td>\n",
       "    </tr>\n",
       "    <tr>\n",
       "      <th>9873904</th>\n",
       "      <td>1900</td>\n",
       "      <td>Просвещение</td>\n",
       "      <td>,</td>\n",
       "      <td>—</td>\n",
       "      <td>1909</td>\n",
       "      <td>CARDINAL</td>\n",
       "      <td>тысяча девятьсот</td>\n",
       "      <td>тысяча девятьсот</td>\n",
       "    </tr>\n",
       "    <tr>\n",
       "      <th>8831399</th>\n",
       "      <td>1944</td>\n",
       "      <td>Михайловская</td>\n",
       "      <td>—</td>\n",
       "      <td>)</td>\n",
       "      <td>—</td>\n",
       "      <td>CARDINAL</td>\n",
       "      <td>тысяча девятьсот сорок четыре</td>\n",
       "      <td>тысяча девятьсот сорок четыре</td>\n",
       "    </tr>\n",
       "    <tr>\n",
       "      <th>7719343</th>\n",
       "      <td>1998</td>\n",
       "      <td>Rogers</td>\n",
       "      <td>,</td>\n",
       "      <td>]</td>\n",
       "      <td>Inocybe</td>\n",
       "      <td>CARDINAL</td>\n",
       "      <td>тысяча девятьсот девяносто восемь</td>\n",
       "      <td>тысяча девятьсот девяносто восемь</td>\n",
       "    </tr>\n",
       "    <tr>\n",
       "      <th>7801849</th>\n",
       "      <td>-21</td>\n",
       "      <td>(</td>\n",
       "      <td>U</td>\n",
       "      <td>)</td>\n",
       "      <td>сборную</td>\n",
       "      <td>CARDINAL</td>\n",
       "      <td>минус двадцать один</td>\n",
       "      <td>минус двадцать один</td>\n",
       "    </tr>\n",
       "    <tr>\n",
       "      <th>3846584</th>\n",
       "      <td>52</td>\n",
       "      <td>судостроения</td>\n",
       "      <td>—</td>\n",
       "      <td>(</td>\n",
       "      <td>позднее</td>\n",
       "      <td>CARDINAL</td>\n",
       "      <td>пятьдесят два</td>\n",
       "      <td>пятьдесят два</td>\n",
       "    </tr>\n",
       "    <tr>\n",
       "      <th>7241821</th>\n",
       "      <td>71</td>\n",
       "      <td>.</td>\n",
       "      <td>P.</td>\n",
       "      <td>)</td>\n",
       "      <td>.</td>\n",
       "      <td>CARDINAL</td>\n",
       "      <td>семьдесят один</td>\n",
       "      <td>семьдесят один</td>\n",
       "    </tr>\n",
       "    <tr>\n",
       "      <th>4213924</th>\n",
       "      <td>25</td>\n",
       "      <td>18</td>\n",
       "      <td>,</td>\n",
       "      <td>:</td>\n",
       "      <td>15</td>\n",
       "      <td>CARDINAL</td>\n",
       "      <td>двадцать пять</td>\n",
       "      <td>двадцать пять</td>\n",
       "    </tr>\n",
       "    <tr>\n",
       "      <th>899253</th>\n",
       "      <td>1947</td>\n",
       "      <td>БССР</td>\n",
       "      <td>,</td>\n",
       "      <td>.</td>\n",
       "      <td>—</td>\n",
       "      <td>CARDINAL</td>\n",
       "      <td>тысяча девятьсот сорок семь</td>\n",
       "      <td>тысяча девятьсот сорок семь</td>\n",
       "    </tr>\n",
       "    <tr>\n",
       "      <th>1431423</th>\n",
       "      <td>1980</td>\n",
       "      <td>вокал</td>\n",
       "      <td>(</td>\n",
       "      <td>—</td>\n",
       "      <td>1981</td>\n",
       "      <td>CARDINAL</td>\n",
       "      <td>тысяча девятьсот восемьдесят</td>\n",
       "      <td>тысяча девятьсот восемьдесят</td>\n",
       "    </tr>\n",
       "    <tr>\n",
       "      <th>7437341</th>\n",
       "      <td>8</td>\n",
       "      <td>разбиты</td>\n",
       "      <td>на</td>\n",
       "      <td>групп</td>\n",
       "      <td>.</td>\n",
       "      <td>CARDINAL</td>\n",
       "      <td>восемь</td>\n",
       "      <td>восемь</td>\n",
       "    </tr>\n",
       "    <tr>\n",
       "      <th>3977100</th>\n",
       "      <td>34</td>\n",
       "      <td>2012 год</td>\n",
       "      <td>известно</td>\n",
       "      <td>изотопа</td>\n",
       "      <td>франция</td>\n",
       "      <td>CARDINAL</td>\n",
       "      <td>тридцать четыре</td>\n",
       "      <td>тридцать четыре</td>\n",
       "    </tr>\n",
       "  </tbody>\n",
       "</table>\n",
       "<p>100 rows × 8 columns</p>\n",
       "</div>"
      ]
     },
     "execution_count": 10,
     "metadata": {},
     "output_type": "execute_result"
    }
   ],
   "source": [
    "predicted[(predicted['class']=='CARDINAL') & (predicted['before'] != predicted['after'])].sample(100)"
   ]
  },
  {
   "cell_type": "code",
   "execution_count": 103,
   "metadata": {
    "collapsed": true
   },
   "outputs": [
    {
     "data": {
      "text/html": [
       "<div>\n",
       "<style scoped>\n",
       "    .dataframe tbody tr th:only-of-type {\n",
       "        vertical-align: middle;\n",
       "    }\n",
       "\n",
       "    .dataframe tbody tr th {\n",
       "        vertical-align: top;\n",
       "    }\n",
       "\n",
       "    .dataframe thead th {\n",
       "        text-align: right;\n",
       "    }\n",
       "</style>\n",
       "<table border=\"1\" class=\"dataframe\">\n",
       "  <thead>\n",
       "    <tr style=\"text-align: right;\">\n",
       "      <th></th>\n",
       "      <th>class</th>\n",
       "      <th>before</th>\n",
       "      <th>after</th>\n",
       "      <th>prev</th>\n",
       "      <th>next</th>\n",
       "    </tr>\n",
       "  </thead>\n",
       "  <tbody>\n",
       "    <tr>\n",
       "      <th>40420</th>\n",
       "      <td>FRACTION</td>\n",
       "      <td>7½</td>\n",
       "      <td>семи целых и одной второй</td>\n",
       "      <td>около</td>\n",
       "      <td>фунтов</td>\n",
       "    </tr>\n",
       "    <tr>\n",
       "      <th>157446</th>\n",
       "      <td>FRACTION</td>\n",
       "      <td>3½</td>\n",
       "      <td>три целых и одну вторую</td>\n",
       "      <td>на</td>\n",
       "      <td>очка</td>\n",
       "    </tr>\n",
       "    <tr>\n",
       "      <th>445580</th>\n",
       "      <td>FRACTION</td>\n",
       "      <td>59½</td>\n",
       "      <td>пятидесяти девяти целых и одной второй</td>\n",
       "      <td>139 976 рублей</td>\n",
       "      <td>копейки</td>\n",
       "    </tr>\n",
       "    <tr>\n",
       "      <th>765884</th>\n",
       "      <td>FRACTION</td>\n",
       "      <td>¼</td>\n",
       "      <td>одна четвертая</td>\n",
       "      <td>Второй</td>\n",
       "      <td>финалДата</td>\n",
       "    </tr>\n",
       "    <tr>\n",
       "      <th>803808</th>\n",
       "      <td>FRACTION</td>\n",
       "      <td>½</td>\n",
       "      <td>одна вторая</td>\n",
       "      <td>номиналом</td>\n",
       "      <td>шиллинга</td>\n",
       "    </tr>\n",
       "    <tr>\n",
       "      <th>999135</th>\n",
       "      <td>FRACTION</td>\n",
       "      <td>⅔</td>\n",
       "      <td>две третьих</td>\n",
       "      <td>на</td>\n",
       "      <td>территории</td>\n",
       "    </tr>\n",
       "    <tr>\n",
       "      <th>1253476</th>\n",
       "      <td>FRACTION</td>\n",
       "      <td>½</td>\n",
       "      <td>одна вторая</td>\n",
       "      <td>CrA</td>\n",
       "      <td>gut</td>\n",
       "    </tr>\n",
       "    <tr>\n",
       "      <th>1584453</th>\n",
       "      <td>FRACTION</td>\n",
       "      <td>8½</td>\n",
       "      <td>восемь целых и одна вторая</td>\n",
       "      <td>«</td>\n",
       "      <td>женщин</td>\n",
       "    </tr>\n",
       "    <tr>\n",
       "      <th>1584466</th>\n",
       "      <td>FRACTION</td>\n",
       "      <td>8½</td>\n",
       "      <td>восемь целых и одна вторая</td>\n",
       "      <td>.</td>\n",
       "      <td>Women</td>\n",
       "    </tr>\n",
       "    <tr>\n",
       "      <th>1876892</th>\n",
       "      <td>FRACTION</td>\n",
       "      <td>½</td>\n",
       "      <td>одна вторая</td>\n",
       "      <td>в</td>\n",
       "      <td>,</td>\n",
       "    </tr>\n",
       "    <tr>\n",
       "      <th>1876899</th>\n",
       "      <td>FRACTION</td>\n",
       "      <td>¼</td>\n",
       "      <td>одна четвертая</td>\n",
       "      <td>и</td>\n",
       "      <td>и</td>\n",
       "    </tr>\n",
       "    <tr>\n",
       "      <th>1876901</th>\n",
       "      <td>FRACTION</td>\n",
       "      <td>½</td>\n",
       "      <td>одна вторая</td>\n",
       "      <td>и</td>\n",
       "      <td>рупий</td>\n",
       "    </tr>\n",
       "    <tr>\n",
       "      <th>1921150</th>\n",
       "      <td>FRACTION</td>\n",
       "      <td>5 ½</td>\n",
       "      <td>пять целых и одна вторая</td>\n",
       "      <td>—</td>\n",
       "      <td>обеж</td>\n",
       "    </tr>\n",
       "    <tr>\n",
       "      <th>1949935</th>\n",
       "      <td>FRACTION</td>\n",
       "      <td>½</td>\n",
       "      <td>одна вторая</td>\n",
       "      <td>ничью</td>\n",
       "      <td>очка</td>\n",
       "    </tr>\n",
       "    <tr>\n",
       "      <th>2023480</th>\n",
       "      <td>FRACTION</td>\n",
       "      <td>½</td>\n",
       "      <td>одна вторая</td>\n",
       "      <td>состояло</td>\n",
       "      <td>дес</td>\n",
       "    </tr>\n",
       "    <tr>\n",
       "      <th>2023485</th>\n",
       "      <td>FRACTION</td>\n",
       "      <td>2 ¾</td>\n",
       "      <td>две целых и три четвертых</td>\n",
       "      <td>усадебной</td>\n",
       "      <td>дес</td>\n",
       "    </tr>\n",
       "    <tr>\n",
       "      <th>2271189</th>\n",
       "      <td>FRACTION</td>\n",
       "      <td>282½</td>\n",
       "      <td>двумястами восьмьюдесятью двумя целыми и одной...</td>\n",
       "      <td>выпущено</td>\n",
       "      <td>тысяч</td>\n",
       "    </tr>\n",
       "    <tr>\n",
       "      <th>2315287</th>\n",
       "      <td>FRACTION</td>\n",
       "      <td>6½</td>\n",
       "      <td>шесть целых и одну вторую</td>\n",
       "      <td>набрав</td>\n",
       "      <td>очков</td>\n",
       "    </tr>\n",
       "    <tr>\n",
       "      <th>2496593</th>\n",
       "      <td>FRACTION</td>\n",
       "      <td>8½</td>\n",
       "      <td>восемь целых и одна вторая</td>\n",
       "      <td>матча</td>\n",
       "      <td>:</td>\n",
       "    </tr>\n",
       "    <tr>\n",
       "      <th>2496595</th>\n",
       "      <td>FRACTION</td>\n",
       "      <td>3½</td>\n",
       "      <td>три целых и одна вторая</td>\n",
       "      <td>:</td>\n",
       "      <td>в</td>\n",
       "    </tr>\n",
       "    <tr>\n",
       "      <th>2812456</th>\n",
       "      <td>FRACTION</td>\n",
       "      <td>2½</td>\n",
       "      <td>две целых и одну вторую</td>\n",
       "      <td>на</td>\n",
       "      <td>тысячи</td>\n",
       "    </tr>\n",
       "    <tr>\n",
       "      <th>3172820</th>\n",
       "      <td>FRACTION</td>\n",
       "      <td>¾</td>\n",
       "      <td>три четвертых</td>\n",
       "      <td>в</td>\n",
       "      <td>от</td>\n",
       "    </tr>\n",
       "    <tr>\n",
       "      <th>3220263</th>\n",
       "      <td>FRACTION</td>\n",
       "      <td>2½</td>\n",
       "      <td>две целых и одна вторая</td>\n",
       "      <td>—</td>\n",
       "      <td>:</td>\n",
       "    </tr>\n",
       "    <tr>\n",
       "      <th>3220265</th>\n",
       "      <td>FRACTION</td>\n",
       "      <td>1½</td>\n",
       "      <td>одна целая и одна вторая</td>\n",
       "      <td>:</td>\n",
       "      <td>.</td>\n",
       "    </tr>\n",
       "    <tr>\n",
       "      <th>3250501</th>\n",
       "      <td>FRACTION</td>\n",
       "      <td>1 ½</td>\n",
       "      <td>одна целая и одна вторая</td>\n",
       "      <td>.</td>\n",
       "      <td>роты</td>\n",
       "    </tr>\n",
       "    <tr>\n",
       "      <th>3395752</th>\n",
       "      <td>FRACTION</td>\n",
       "      <td>½</td>\n",
       "      <td>одна вторая</td>\n",
       "      <td>Более</td>\n",
       "      <td>валовой</td>\n",
       "    </tr>\n",
       "    <tr>\n",
       "      <th>3417776</th>\n",
       "      <td>FRACTION</td>\n",
       "      <td>3½</td>\n",
       "      <td>три целых и одна вторая</td>\n",
       "      <td>счетом</td>\n",
       "      <td>:</td>\n",
       "    </tr>\n",
       "    <tr>\n",
       "      <th>3417778</th>\n",
       "      <td>FRACTION</td>\n",
       "      <td>2½</td>\n",
       "      <td>две целых и одна вторая</td>\n",
       "      <td>:</td>\n",
       "      <td>и</td>\n",
       "    </tr>\n",
       "    <tr>\n",
       "      <th>3478079</th>\n",
       "      <td>FRACTION</td>\n",
       "      <td>¼</td>\n",
       "      <td>одна четвертая</td>\n",
       "      <td>в</td>\n",
       "      <td>финала</td>\n",
       "    </tr>\n",
       "    <tr>\n",
       "      <th>3488898</th>\n",
       "      <td>FRACTION</td>\n",
       "      <td>¾</td>\n",
       "      <td>три четвертых</td>\n",
       "      <td>~</td>\n",
       "      <td>)</td>\n",
       "    </tr>\n",
       "    <tr>\n",
       "      <th>...</th>\n",
       "      <td>...</td>\n",
       "      <td>...</td>\n",
       "      <td>...</td>\n",
       "      <td>...</td>\n",
       "      <td>...</td>\n",
       "    </tr>\n",
       "    <tr>\n",
       "      <th>5646924</th>\n",
       "      <td>FRACTION</td>\n",
       "      <td>10½</td>\n",
       "      <td>десяти целых и одной второй</td>\n",
       "      <td>в</td>\n",
       "      <td>главах</td>\n",
       "    </tr>\n",
       "    <tr>\n",
       "      <th>5710816</th>\n",
       "      <td>FRACTION</td>\n",
       "      <td>6½</td>\n",
       "      <td>шесть целых и одна вторая</td>\n",
       "      <td>(</td>\n",
       "      <td>:</td>\n",
       "    </tr>\n",
       "    <tr>\n",
       "      <th>5710818</th>\n",
       "      <td>FRACTION</td>\n",
       "      <td>4½</td>\n",
       "      <td>четыре целых и одна вторая</td>\n",
       "      <td>:</td>\n",
       "      <td>)</td>\n",
       "    </tr>\n",
       "    <tr>\n",
       "      <th>5743241</th>\n",
       "      <td>FRACTION</td>\n",
       "      <td>2½</td>\n",
       "      <td>двух целых и одной второй</td>\n",
       "      <td>и</td>\n",
       "      <td>года</td>\n",
       "    </tr>\n",
       "    <tr>\n",
       "      <th>6011771</th>\n",
       "      <td>FRACTION</td>\n",
       "      <td>4 ½</td>\n",
       "      <td>четыре целых и одну вторую</td>\n",
       "      <td>Invicta</td>\n",
       "      <td>litre</td>\n",
       "    </tr>\n",
       "    <tr>\n",
       "      <th>6260409</th>\n",
       "      <td>FRACTION</td>\n",
       "      <td>1¼</td>\n",
       "      <td>одной целой и одной четвертой</td>\n",
       "      <td>до</td>\n",
       "      <td>аршина</td>\n",
       "    </tr>\n",
       "    <tr>\n",
       "      <th>6452616</th>\n",
       "      <td>FRACTION</td>\n",
       "      <td>9½</td>\n",
       "      <td>девять целых и одна вторая</td>\n",
       "      <td>по</td>\n",
       "      <td>.</td>\n",
       "    </tr>\n",
       "    <tr>\n",
       "      <th>6800651</th>\n",
       "      <td>FRACTION</td>\n",
       "      <td>½</td>\n",
       "      <td>одна вторая</td>\n",
       "      <td>Ранма</td>\n",
       "      <td>»</td>\n",
       "    </tr>\n",
       "    <tr>\n",
       "      <th>7253139</th>\n",
       "      <td>FRACTION</td>\n",
       "      <td>10½</td>\n",
       "      <td>десять целых и одну вторую</td>\n",
       "      <td>по</td>\n",
       "      <td>очков</td>\n",
       "    </tr>\n",
       "    <tr>\n",
       "      <th>7612900</th>\n",
       "      <td>FRACTION</td>\n",
       "      <td>⅔</td>\n",
       "      <td>две третьих</td>\n",
       "      <td>ленивца</td>\n",
       "      <td>веса</td>\n",
       "    </tr>\n",
       "    <tr>\n",
       "      <th>8033344</th>\n",
       "      <td>FRACTION</td>\n",
       "      <td>5¼</td>\n",
       "      <td>пятью целыми и одной четвертой</td>\n",
       "      <td>двусторонними</td>\n",
       "      <td>дюймовыми</td>\n",
       "    </tr>\n",
       "    <tr>\n",
       "      <th>8259581</th>\n",
       "      <td>FRACTION</td>\n",
       "      <td>8½</td>\n",
       "      <td>восьми целым и одной второй</td>\n",
       "      <td>по</td>\n",
       "      <td>очков</td>\n",
       "    </tr>\n",
       "    <tr>\n",
       "      <th>8283325</th>\n",
       "      <td>FRACTION</td>\n",
       "      <td>2½</td>\n",
       "      <td>две целых и одна вторая</td>\n",
       "      <td>—</td>\n",
       "      <td>:</td>\n",
       "    </tr>\n",
       "    <tr>\n",
       "      <th>8283327</th>\n",
       "      <td>FRACTION</td>\n",
       "      <td>1½</td>\n",
       "      <td>одна целая и одна вторая</td>\n",
       "      <td>:</td>\n",
       "      <td>.</td>\n",
       "    </tr>\n",
       "    <tr>\n",
       "      <th>8317226</th>\n",
       "      <td>FRACTION</td>\n",
       "      <td>¼</td>\n",
       "      <td>одна четвертая</td>\n",
       "      <td>занимавшая</td>\n",
       "      <td>часть</td>\n",
       "    </tr>\n",
       "    <tr>\n",
       "      <th>8355301</th>\n",
       "      <td>FRACTION</td>\n",
       "      <td>6½</td>\n",
       "      <td>шесть целых и одну вторую</td>\n",
       "      <td>набрал</td>\n",
       "      <td>очков</td>\n",
       "    </tr>\n",
       "    <tr>\n",
       "      <th>8457757</th>\n",
       "      <td>FRACTION</td>\n",
       "      <td>½</td>\n",
       "      <td>одна вторая</td>\n",
       "      <td>находилась</td>\n",
       "      <td>германской</td>\n",
       "    </tr>\n",
       "    <tr>\n",
       "      <th>8627416</th>\n",
       "      <td>FRACTION</td>\n",
       "      <td>⅔</td>\n",
       "      <td>двух третьих</td>\n",
       "      <td>более</td>\n",
       "      <td>)</td>\n",
       "    </tr>\n",
       "    <tr>\n",
       "      <th>8717346</th>\n",
       "      <td>FRACTION</td>\n",
       "      <td>¼</td>\n",
       "      <td>одна четвертая</td>\n",
       "      <td>составлял</td>\n",
       "      <td>рупии</td>\n",
       "    </tr>\n",
       "    <tr>\n",
       "      <th>8737281</th>\n",
       "      <td>FRACTION</td>\n",
       "      <td>3 ½</td>\n",
       "      <td>три целых и одна вторая</td>\n",
       "      <td>—</td>\n",
       "      <td>октавы</td>\n",
       "    </tr>\n",
       "    <tr>\n",
       "      <th>8984892</th>\n",
       "      <td>FRACTION</td>\n",
       "      <td>½</td>\n",
       "      <td>одной второй</td>\n",
       "      <td>от</td>\n",
       "      <td>-</td>\n",
       "    </tr>\n",
       "    <tr>\n",
       "      <th>8984894</th>\n",
       "      <td>FRACTION</td>\n",
       "      <td>¾</td>\n",
       "      <td>трех четвертых</td>\n",
       "      <td>-</td>\n",
       "      <td>мм</td>\n",
       "    </tr>\n",
       "    <tr>\n",
       "      <th>9080276</th>\n",
       "      <td>FRACTION</td>\n",
       "      <td>9½</td>\n",
       "      <td>девять целых и одна вторая</td>\n",
       "      <td>по</td>\n",
       "      <td>.</td>\n",
       "    </tr>\n",
       "    <tr>\n",
       "      <th>9080375</th>\n",
       "      <td>FRACTION</td>\n",
       "      <td>10½</td>\n",
       "      <td>десять целых и одна вторая</td>\n",
       "      <td>—</td>\n",
       "      <td>.</td>\n",
       "    </tr>\n",
       "    <tr>\n",
       "      <th>9083227</th>\n",
       "      <td>FRACTION</td>\n",
       "      <td>3½</td>\n",
       "      <td>три целых и одна вторая</td>\n",
       "      <td>—</td>\n",
       "      <td>;</td>\n",
       "    </tr>\n",
       "    <tr>\n",
       "      <th>9768976</th>\n",
       "      <td>FRACTION</td>\n",
       "      <td>2½</td>\n",
       "      <td>две целых и одна вторая</td>\n",
       "      <td>«</td>\n",
       "      <td>часа</td>\n",
       "    </tr>\n",
       "    <tr>\n",
       "      <th>9918776</th>\n",
       "      <td>FRACTION</td>\n",
       "      <td>9 ¾</td>\n",
       "      <td>девять целых и три четвертых</td>\n",
       "      <td>платформы</td>\n",
       "      <td>.</td>\n",
       "    </tr>\n",
       "    <tr>\n",
       "      <th>9921668</th>\n",
       "      <td>FRACTION</td>\n",
       "      <td>¾</td>\n",
       "      <td>три четвертых</td>\n",
       "      <td>занимали</td>\n",
       "      <td>длины</td>\n",
       "    </tr>\n",
       "    <tr>\n",
       "      <th>10013235</th>\n",
       "      <td>FRACTION</td>\n",
       "      <td>½</td>\n",
       "      <td>одна вторая</td>\n",
       "      <td>равная</td>\n",
       "      <td>асса</td>\n",
       "    </tr>\n",
       "    <tr>\n",
       "      <th>10277345</th>\n",
       "      <td>FRACTION</td>\n",
       "      <td>6¾</td>\n",
       "      <td>шесть целых и три четвертых</td>\n",
       "      <td>диска</td>\n",
       "      <td>'</td>\n",
       "    </tr>\n",
       "  </tbody>\n",
       "</table>\n",
       "<p>75 rows × 5 columns</p>\n",
       "</div>"
      ],
      "text/plain": [
       "<div>\n",
       "<style scoped>\n",
       "    .dataframe tbody tr th:only-of-type {\n",
       "        vertical-align: middle;\n",
       "    }\n",
       "\n",
       "    .dataframe tbody tr th {\n",
       "        vertical-align: top;\n",
       "    }\n",
       "\n",
       "    .dataframe thead th {\n",
       "        text-align: right;\n",
       "    }\n",
       "</style>\n",
       "<table border=\"1\" class=\"dataframe\">\n",
       "  <thead>\n",
       "    <tr style=\"text-align: right;\">\n",
       "      <th></th>\n",
       "      <th>class</th>\n",
       "      <th>before</th>\n",
       "      <th>after</th>\n",
       "      <th>prev</th>\n",
       "      <th>next</th>\n",
       "    </tr>\n",
       "  </thead>\n",
       "  <tbody>\n",
       "    <tr>\n",
       "      <th>40420</th>\n",
       "      <td>FRACTION</td>\n",
       "      <td>7½</td>\n",
       "      <td>семи целых и одной второй</td>\n",
       "      <td>около</td>\n",
       "      <td>фунтов</td>\n",
       "    </tr>\n",
       "    <tr>\n",
       "      <th>157446</th>\n",
       "      <td>FRACTION</td>\n",
       "      <td>3½</td>\n",
       "      <td>три целых и одну вторую</td>\n",
       "      <td>на</td>\n",
       "      <td>очка</td>\n",
       "    </tr>\n",
       "    <tr>\n",
       "      <th>445580</th>\n",
       "      <td>FRACTION</td>\n",
       "      <td>59½</td>\n",
       "      <td>пятидесяти девяти целых и одной второй</td>\n",
       "      <td>139 976 рублей</td>\n",
       "      <td>копейки</td>\n",
       "    </tr>\n",
       "    <tr>\n",
       "      <th>765884</th>\n",
       "      <td>FRACTION</td>\n",
       "      <td>¼</td>\n",
       "      <td>одна четвертая</td>\n",
       "      <td>Второй</td>\n",
       "      <td>финалДата</td>\n",
       "    </tr>\n",
       "    <tr>\n",
       "      <th>803808</th>\n",
       "      <td>FRACTION</td>\n",
       "      <td>½</td>\n",
       "      <td>одна вторая</td>\n",
       "      <td>номиналом</td>\n",
       "      <td>шиллинга</td>\n",
       "    </tr>\n",
       "    <tr>\n",
       "      <th>999135</th>\n",
       "      <td>FRACTION</td>\n",
       "      <td>⅔</td>\n",
       "      <td>две третьих</td>\n",
       "      <td>на</td>\n",
       "      <td>территории</td>\n",
       "    </tr>\n",
       "    <tr>\n",
       "      <th>1253476</th>\n",
       "      <td>FRACTION</td>\n",
       "      <td>½</td>\n",
       "      <td>одна вторая</td>\n",
       "      <td>CrA</td>\n",
       "      <td>gut</td>\n",
       "    </tr>\n",
       "    <tr>\n",
       "      <th>1584453</th>\n",
       "      <td>FRACTION</td>\n",
       "      <td>8½</td>\n",
       "      <td>восемь целых и одна вторая</td>\n",
       "      <td>«</td>\n",
       "      <td>женщин</td>\n",
       "    </tr>\n",
       "    <tr>\n",
       "      <th>1584466</th>\n",
       "      <td>FRACTION</td>\n",
       "      <td>8½</td>\n",
       "      <td>восемь целых и одна вторая</td>\n",
       "      <td>.</td>\n",
       "      <td>Women</td>\n",
       "    </tr>\n",
       "    <tr>\n",
       "      <th>1876892</th>\n",
       "      <td>FRACTION</td>\n",
       "      <td>½</td>\n",
       "      <td>одна вторая</td>\n",
       "      <td>в</td>\n",
       "      <td>,</td>\n",
       "    </tr>\n",
       "    <tr>\n",
       "      <th>1876899</th>\n",
       "      <td>FRACTION</td>\n",
       "      <td>¼</td>\n",
       "      <td>одна четвертая</td>\n",
       "      <td>и</td>\n",
       "      <td>и</td>\n",
       "    </tr>\n",
       "    <tr>\n",
       "      <th>1876901</th>\n",
       "      <td>FRACTION</td>\n",
       "      <td>½</td>\n",
       "      <td>одна вторая</td>\n",
       "      <td>и</td>\n",
       "      <td>рупий</td>\n",
       "    </tr>\n",
       "    <tr>\n",
       "      <th>1921150</th>\n",
       "      <td>FRACTION</td>\n",
       "      <td>5 ½</td>\n",
       "      <td>пять целых и одна вторая</td>\n",
       "      <td>—</td>\n",
       "      <td>обеж</td>\n",
       "    </tr>\n",
       "    <tr>\n",
       "      <th>1949935</th>\n",
       "      <td>FRACTION</td>\n",
       "      <td>½</td>\n",
       "      <td>одна вторая</td>\n",
       "      <td>ничью</td>\n",
       "      <td>очка</td>\n",
       "    </tr>\n",
       "    <tr>\n",
       "      <th>2023480</th>\n",
       "      <td>FRACTION</td>\n",
       "      <td>½</td>\n",
       "      <td>одна вторая</td>\n",
       "      <td>состояло</td>\n",
       "      <td>дес</td>\n",
       "    </tr>\n",
       "    <tr>\n",
       "      <th>2023485</th>\n",
       "      <td>FRACTION</td>\n",
       "      <td>2 ¾</td>\n",
       "      <td>две целых и три четвертых</td>\n",
       "      <td>усадебной</td>\n",
       "      <td>дес</td>\n",
       "    </tr>\n",
       "    <tr>\n",
       "      <th>2271189</th>\n",
       "      <td>FRACTION</td>\n",
       "      <td>282½</td>\n",
       "      <td>двумястами восьмьюдесятью двумя целыми и одной...</td>\n",
       "      <td>выпущено</td>\n",
       "      <td>тысяч</td>\n",
       "    </tr>\n",
       "    <tr>\n",
       "      <th>2315287</th>\n",
       "      <td>FRACTION</td>\n",
       "      <td>6½</td>\n",
       "      <td>шесть целых и одну вторую</td>\n",
       "      <td>набрав</td>\n",
       "      <td>очков</td>\n",
       "    </tr>\n",
       "    <tr>\n",
       "      <th>2496593</th>\n",
       "      <td>FRACTION</td>\n",
       "      <td>8½</td>\n",
       "      <td>восемь целых и одна вторая</td>\n",
       "      <td>матча</td>\n",
       "      <td>:</td>\n",
       "    </tr>\n",
       "    <tr>\n",
       "      <th>2496595</th>\n",
       "      <td>FRACTION</td>\n",
       "      <td>3½</td>\n",
       "      <td>три целых и одна вторая</td>\n",
       "      <td>:</td>\n",
       "      <td>в</td>\n",
       "    </tr>\n",
       "    <tr>\n",
       "      <th>2812456</th>\n",
       "      <td>FRACTION</td>\n",
       "      <td>2½</td>\n",
       "      <td>две целых и одну вторую</td>\n",
       "      <td>на</td>\n",
       "      <td>тысячи</td>\n",
       "    </tr>\n",
       "    <tr>\n",
       "      <th>3172820</th>\n",
       "      <td>FRACTION</td>\n",
       "      <td>¾</td>\n",
       "      <td>три четвертых</td>\n",
       "      <td>в</td>\n",
       "      <td>от</td>\n",
       "    </tr>\n",
       "    <tr>\n",
       "      <th>3220263</th>\n",
       "      <td>FRACTION</td>\n",
       "      <td>2½</td>\n",
       "      <td>две целых и одна вторая</td>\n",
       "      <td>—</td>\n",
       "      <td>:</td>\n",
       "    </tr>\n",
       "    <tr>\n",
       "      <th>3220265</th>\n",
       "      <td>FRACTION</td>\n",
       "      <td>1½</td>\n",
       "      <td>одна целая и одна вторая</td>\n",
       "      <td>:</td>\n",
       "      <td>.</td>\n",
       "    </tr>\n",
       "    <tr>\n",
       "      <th>3250501</th>\n",
       "      <td>FRACTION</td>\n",
       "      <td>1 ½</td>\n",
       "      <td>одна целая и одна вторая</td>\n",
       "      <td>.</td>\n",
       "      <td>роты</td>\n",
       "    </tr>\n",
       "    <tr>\n",
       "      <th>3395752</th>\n",
       "      <td>FRACTION</td>\n",
       "      <td>½</td>\n",
       "      <td>одна вторая</td>\n",
       "      <td>Более</td>\n",
       "      <td>валовой</td>\n",
       "    </tr>\n",
       "    <tr>\n",
       "      <th>3417776</th>\n",
       "      <td>FRACTION</td>\n",
       "      <td>3½</td>\n",
       "      <td>три целых и одна вторая</td>\n",
       "      <td>счетом</td>\n",
       "      <td>:</td>\n",
       "    </tr>\n",
       "    <tr>\n",
       "      <th>3417778</th>\n",
       "      <td>FRACTION</td>\n",
       "      <td>2½</td>\n",
       "      <td>две целых и одна вторая</td>\n",
       "      <td>:</td>\n",
       "      <td>и</td>\n",
       "    </tr>\n",
       "    <tr>\n",
       "      <th>3478079</th>\n",
       "      <td>FRACTION</td>\n",
       "      <td>¼</td>\n",
       "      <td>одна четвертая</td>\n",
       "      <td>в</td>\n",
       "      <td>финала</td>\n",
       "    </tr>\n",
       "    <tr>\n",
       "      <th>3488898</th>\n",
       "      <td>FRACTION</td>\n",
       "      <td>¾</td>\n",
       "      <td>три четвертых</td>\n",
       "      <td>~</td>\n",
       "      <td>)</td>\n",
       "    </tr>\n",
       "    <tr>\n",
       "      <th>...</th>\n",
       "      <td>...</td>\n",
       "      <td>...</td>\n",
       "      <td>...</td>\n",
       "      <td>...</td>\n",
       "      <td>...</td>\n",
       "    </tr>\n",
       "    <tr>\n",
       "      <th>5646924</th>\n",
       "      <td>FRACTION</td>\n",
       "      <td>10½</td>\n",
       "      <td>десяти целых и одной второй</td>\n",
       "      <td>в</td>\n",
       "      <td>главах</td>\n",
       "    </tr>\n",
       "    <tr>\n",
       "      <th>5710816</th>\n",
       "      <td>FRACTION</td>\n",
       "      <td>6½</td>\n",
       "      <td>шесть целых и одна вторая</td>\n",
       "      <td>(</td>\n",
       "      <td>:</td>\n",
       "    </tr>\n",
       "    <tr>\n",
       "      <th>5710818</th>\n",
       "      <td>FRACTION</td>\n",
       "      <td>4½</td>\n",
       "      <td>четыре целых и одна вторая</td>\n",
       "      <td>:</td>\n",
       "      <td>)</td>\n",
       "    </tr>\n",
       "    <tr>\n",
       "      <th>5743241</th>\n",
       "      <td>FRACTION</td>\n",
       "      <td>2½</td>\n",
       "      <td>двух целых и одной второй</td>\n",
       "      <td>и</td>\n",
       "      <td>года</td>\n",
       "    </tr>\n",
       "    <tr>\n",
       "      <th>6011771</th>\n",
       "      <td>FRACTION</td>\n",
       "      <td>4 ½</td>\n",
       "      <td>четыре целых и одну вторую</td>\n",
       "      <td>Invicta</td>\n",
       "      <td>litre</td>\n",
       "    </tr>\n",
       "    <tr>\n",
       "      <th>6260409</th>\n",
       "      <td>FRACTION</td>\n",
       "      <td>1¼</td>\n",
       "      <td>одной целой и одной четвертой</td>\n",
       "      <td>до</td>\n",
       "      <td>аршина</td>\n",
       "    </tr>\n",
       "    <tr>\n",
       "      <th>6452616</th>\n",
       "      <td>FRACTION</td>\n",
       "      <td>9½</td>\n",
       "      <td>девять целых и одна вторая</td>\n",
       "      <td>по</td>\n",
       "      <td>.</td>\n",
       "    </tr>\n",
       "    <tr>\n",
       "      <th>6800651</th>\n",
       "      <td>FRACTION</td>\n",
       "      <td>½</td>\n",
       "      <td>одна вторая</td>\n",
       "      <td>Ранма</td>\n",
       "      <td>»</td>\n",
       "    </tr>\n",
       "    <tr>\n",
       "      <th>7253139</th>\n",
       "      <td>FRACTION</td>\n",
       "      <td>10½</td>\n",
       "      <td>десять целых и одну вторую</td>\n",
       "      <td>по</td>\n",
       "      <td>очков</td>\n",
       "    </tr>\n",
       "    <tr>\n",
       "      <th>7612900</th>\n",
       "      <td>FRACTION</td>\n",
       "      <td>⅔</td>\n",
       "      <td>две третьих</td>\n",
       "      <td>ленивца</td>\n",
       "      <td>веса</td>\n",
       "    </tr>\n",
       "    <tr>\n",
       "      <th>8033344</th>\n",
       "      <td>FRACTION</td>\n",
       "      <td>5¼</td>\n",
       "      <td>пятью целыми и одной четвертой</td>\n",
       "      <td>двусторонними</td>\n",
       "      <td>дюймовыми</td>\n",
       "    </tr>\n",
       "    <tr>\n",
       "      <th>8259581</th>\n",
       "      <td>FRACTION</td>\n",
       "      <td>8½</td>\n",
       "      <td>восьми целым и одной второй</td>\n",
       "      <td>по</td>\n",
       "      <td>очков</td>\n",
       "    </tr>\n",
       "    <tr>\n",
       "      <th>8283325</th>\n",
       "      <td>FRACTION</td>\n",
       "      <td>2½</td>\n",
       "      <td>две целых и одна вторая</td>\n",
       "      <td>—</td>\n",
       "      <td>:</td>\n",
       "    </tr>\n",
       "    <tr>\n",
       "      <th>8283327</th>\n",
       "      <td>FRACTION</td>\n",
       "      <td>1½</td>\n",
       "      <td>одна целая и одна вторая</td>\n",
       "      <td>:</td>\n",
       "      <td>.</td>\n",
       "    </tr>\n",
       "    <tr>\n",
       "      <th>8317226</th>\n",
       "      <td>FRACTION</td>\n",
       "      <td>¼</td>\n",
       "      <td>одна четвертая</td>\n",
       "      <td>занимавшая</td>\n",
       "      <td>часть</td>\n",
       "    </tr>\n",
       "    <tr>\n",
       "      <th>8355301</th>\n",
       "      <td>FRACTION</td>\n",
       "      <td>6½</td>\n",
       "      <td>шесть целых и одну вторую</td>\n",
       "      <td>набрал</td>\n",
       "      <td>очков</td>\n",
       "    </tr>\n",
       "    <tr>\n",
       "      <th>8457757</th>\n",
       "      <td>FRACTION</td>\n",
       "      <td>½</td>\n",
       "      <td>одна вторая</td>\n",
       "      <td>находилась</td>\n",
       "      <td>германской</td>\n",
       "    </tr>\n",
       "    <tr>\n",
       "      <th>8627416</th>\n",
       "      <td>FRACTION</td>\n",
       "      <td>⅔</td>\n",
       "      <td>двух третьих</td>\n",
       "      <td>более</td>\n",
       "      <td>)</td>\n",
       "    </tr>\n",
       "    <tr>\n",
       "      <th>8717346</th>\n",
       "      <td>FRACTION</td>\n",
       "      <td>¼</td>\n",
       "      <td>одна четвертая</td>\n",
       "      <td>составлял</td>\n",
       "      <td>рупии</td>\n",
       "    </tr>\n",
       "    <tr>\n",
       "      <th>8737281</th>\n",
       "      <td>FRACTION</td>\n",
       "      <td>3 ½</td>\n",
       "      <td>три целых и одна вторая</td>\n",
       "      <td>—</td>\n",
       "      <td>октавы</td>\n",
       "    </tr>\n",
       "    <tr>\n",
       "      <th>8984892</th>\n",
       "      <td>FRACTION</td>\n",
       "      <td>½</td>\n",
       "      <td>одной второй</td>\n",
       "      <td>от</td>\n",
       "      <td>-</td>\n",
       "    </tr>\n",
       "    <tr>\n",
       "      <th>8984894</th>\n",
       "      <td>FRACTION</td>\n",
       "      <td>¾</td>\n",
       "      <td>трех четвертых</td>\n",
       "      <td>-</td>\n",
       "      <td>мм</td>\n",
       "    </tr>\n",
       "    <tr>\n",
       "      <th>9080276</th>\n",
       "      <td>FRACTION</td>\n",
       "      <td>9½</td>\n",
       "      <td>девять целых и одна вторая</td>\n",
       "      <td>по</td>\n",
       "      <td>.</td>\n",
       "    </tr>\n",
       "    <tr>\n",
       "      <th>9080375</th>\n",
       "      <td>FRACTION</td>\n",
       "      <td>10½</td>\n",
       "      <td>десять целых и одна вторая</td>\n",
       "      <td>—</td>\n",
       "      <td>.</td>\n",
       "    </tr>\n",
       "    <tr>\n",
       "      <th>9083227</th>\n",
       "      <td>FRACTION</td>\n",
       "      <td>3½</td>\n",
       "      <td>три целых и одна вторая</td>\n",
       "      <td>—</td>\n",
       "      <td>;</td>\n",
       "    </tr>\n",
       "    <tr>\n",
       "      <th>9768976</th>\n",
       "      <td>FRACTION</td>\n",
       "      <td>2½</td>\n",
       "      <td>две целых и одна вторая</td>\n",
       "      <td>«</td>\n",
       "      <td>часа</td>\n",
       "    </tr>\n",
       "    <tr>\n",
       "      <th>9918776</th>\n",
       "      <td>FRACTION</td>\n",
       "      <td>9 ¾</td>\n",
       "      <td>девять целых и три четвертых</td>\n",
       "      <td>платформы</td>\n",
       "      <td>.</td>\n",
       "    </tr>\n",
       "    <tr>\n",
       "      <th>9921668</th>\n",
       "      <td>FRACTION</td>\n",
       "      <td>¾</td>\n",
       "      <td>три четвертых</td>\n",
       "      <td>занимали</td>\n",
       "      <td>длины</td>\n",
       "    </tr>\n",
       "    <tr>\n",
       "      <th>10013235</th>\n",
       "      <td>FRACTION</td>\n",
       "      <td>½</td>\n",
       "      <td>одна вторая</td>\n",
       "      <td>равная</td>\n",
       "      <td>асса</td>\n",
       "    </tr>\n",
       "    <tr>\n",
       "      <th>10277345</th>\n",
       "      <td>FRACTION</td>\n",
       "      <td>6¾</td>\n",
       "      <td>шесть целых и три четвертых</td>\n",
       "      <td>диска</td>\n",
       "      <td>'</td>\n",
       "    </tr>\n",
       "  </tbody>\n",
       "</table>\n",
       "<p>75 rows × 5 columns</p>\n",
       "</div>"
      ]
     },
     "execution_count": 102,
     "metadata": {},
     "output_type": "execute_result"
    }
   ],
   "source": [
    "df[~(df['before'].str.match('^-?\\d*\\s?\\d*\\s?\\/\\s?\\d+\\s?\\d*$')) & (df['class'] == 'FRACTION')]"
   ]
  },
  {
   "cell_type": "code",
   "execution_count": 30,
   "metadata": {},
   "outputs": [],
   "source": []
  },
  {
   "cell_type": "code",
   "execution_count": null,
   "metadata": {},
   "outputs": [],
   "source": []
  }
 ],
 "metadata": {
  "kernelspec": {
   "display_name": "Python 2",
   "language": "python",
   "name": "python2"
  },
  "language_info": {
   "codemirror_mode": {
    "name": "ipython",
    "version": 2
   },
   "file_extension": ".py",
   "mimetype": "text/x-python",
   "name": "python",
   "nbconvert_exporter": "python",
   "pygments_lexer": "ipython2",
   "version": "2.7.6"
  }
 },
 "nbformat": 4,
 "nbformat_minor": 0
}
