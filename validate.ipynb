{
 "cells": [
  {
   "cell_type": "code",
   "execution_count": 1,
   "metadata": {
    "collapsed": false
   },
   "outputs": [
    {
     "name": "stderr",
     "output_type": "stream",
     "text": [
      "Using TensorFlow backend.\n"
     ]
    },
    {
     "name": "stderr",
     "output_type": "stream",
     "text": [
      "\rMorphologyExtractor create index: 0it [00:00, ?it/s]"
     ]
    },
    {
     "name": "stderr",
     "output_type": "stream",
     "text": [
      "\rMorphologyExtractor create index: 13921it [00:00, 139207.15it/s]"
     ]
    },
    {
     "name": "stderr",
     "output_type": "stream",
     "text": [
      "\rMorphologyExtractor create index: 27837it [00:00, 139191.35it/s]"
     ]
    },
    {
     "name": "stderr",
     "output_type": "stream",
     "text": [
      "\rMorphologyExtractor create index: 41427it [00:00, 138187.26it/s]"
     ]
    },
    {
     "name": "stderr",
     "output_type": "stream",
     "text": [
      "\rMorphologyExtractor create index: 57238it [00:00, 143615.48it/s]"
     ]
    },
    {
     "name": "stderr",
     "output_type": "stream",
     "text": [
      "\rMorphologyExtractor create index: 73620it [00:00, 149132.60it/s]"
     ]
    },
    {
     "name": "stderr",
     "output_type": "stream",
     "text": [
      "\rMorphologyExtractor create index: 89344it [00:00, 151473.82it/s]"
     ]
    },
    {
     "name": "stderr",
     "output_type": "stream",
     "text": [
      "\rMorphologyExtractor create index: 105285it [00:00, 153768.79it/s]"
     ]
    },
    {
     "name": "stderr",
     "output_type": "stream",
     "text": [
      "\rMorphologyExtractor create index: 120839it [00:00, 154294.52it/s]"
     ]
    },
    {
     "name": "stderr",
     "output_type": "stream",
     "text": [
      "\rMorphologyExtractor create index: 135509it [00:00, 148341.13it/s]"
     ]
    },
    {
     "name": "stderr",
     "output_type": "stream",
     "text": [
      "\rMorphologyExtractor create index: 152101it [00:01, 153206.53it/s]"
     ]
    },
    {
     "name": "stderr",
     "output_type": "stream",
     "text": [
      "\rMorphologyExtractor create index: 168089it [00:01, 155147.22it/s]"
     ]
    },
    {
     "name": "stderr",
     "output_type": "stream",
     "text": [
      "\rMorphologyExtractor create index: 184791it [00:01, 158526.06it/s]"
     ]
    },
    {
     "name": "stderr",
     "output_type": "stream",
     "text": [
      "\rMorphologyExtractor create index: 201332it [00:01, 160529.36it/s]"
     ]
    },
    {
     "name": "stderr",
     "output_type": "stream",
     "text": [
      "\rMorphologyExtractor create index: 217366it [00:01, 160471.98it/s]"
     ]
    },
    {
     "name": "stderr",
     "output_type": "stream",
     "text": [
      "\rMorphologyExtractor create index: 233629it [00:01, 161111.57it/s]"
     ]
    },
    {
     "name": "stderr",
     "output_type": "stream",
     "text": [
      "\rMorphologyExtractor create index: 249702it [00:01, 160166.62it/s]"
     ]
    },
    {
     "name": "stderr",
     "output_type": "stream",
     "text": [
      "\rMorphologyExtractor create index: 265693it [00:01, 158129.36it/s]"
     ]
    },
    {
     "name": "stderr",
     "output_type": "stream",
     "text": [
      "\rMorphologyExtractor create index: 281494it [00:01, 157743.63it/s]"
     ]
    },
    {
     "name": "stderr",
     "output_type": "stream",
     "text": [
      "\rMorphologyExtractor create index: 297261it [00:01, 146771.31it/s]"
     ]
    },
    {
     "name": "stderr",
     "output_type": "stream",
     "text": [
      "\rMorphologyExtractor create index: 312314it [00:02, 147878.68it/s]"
     ]
    },
    {
     "name": "stderr",
     "output_type": "stream",
     "text": [
      "\rMorphologyExtractor create index: 328797it [00:02, 152586.27it/s]"
     ]
    },
    {
     "name": "stderr",
     "output_type": "stream",
     "text": [
      "\rMorphologyExtractor create index: 344168it [00:02, 151705.09it/s]"
     ]
    },
    {
     "name": "stderr",
     "output_type": "stream",
     "text": [
      "\rMorphologyExtractor create index: 360677it [00:02, 155486.51it/s]"
     ]
    },
    {
     "name": "stderr",
     "output_type": "stream",
     "text": [
      "\rMorphologyExtractor create index: 376432it [00:02, 156098.91it/s]"
     ]
    },
    {
     "name": "stderr",
     "output_type": "stream",
     "text": [
      "\rMorphologyExtractor create index: 392469it [00:02, 157356.09it/s]"
     ]
    },
    {
     "name": "stderr",
     "output_type": "stream",
     "text": [
      "\rMorphologyExtractor create index: 408616it [00:02, 158566.34it/s]"
     ]
    },
    {
     "name": "stderr",
     "output_type": "stream",
     "text": [
      "\rMorphologyExtractor create index: 424550it [00:02, 158796.68it/s]"
     ]
    },
    {
     "name": "stderr",
     "output_type": "stream",
     "text": [
      "\rMorphologyExtractor create index: 440452it [00:02, 158094.58it/s]"
     ]
    },
    {
     "name": "stderr",
     "output_type": "stream",
     "text": [
      "\rMorphologyExtractor create index: 456708it [00:02, 159407.27it/s]"
     ]
    },
    {
     "name": "stderr",
     "output_type": "stream",
     "text": [
      "\rMorphologyExtractor create index: 472663it [00:03, 156589.48it/s]"
     ]
    },
    {
     "name": "stderr",
     "output_type": "stream",
     "text": [
      "\rMorphologyExtractor create index: 488404it [00:03, 156833.21it/s]"
     ]
    },
    {
     "name": "stderr",
     "output_type": "stream",
     "text": [
      "\rMorphologyExtractor create index: 504103it [00:03, 156453.42it/s]"
     ]
    },
    {
     "name": "stderr",
     "output_type": "stream",
     "text": [
      "\rMorphologyExtractor create index: 519759it [00:03, 156183.84it/s]"
     ]
    },
    {
     "name": "stderr",
     "output_type": "stream",
     "text": [
      "\rMorphologyExtractor create index: 535385it [00:03, 150739.86it/s]"
     ]
    },
    {
     "name": "stderr",
     "output_type": "stream",
     "text": [
      "\rMorphologyExtractor create index: 551489it [00:03, 153688.37it/s]"
     ]
    },
    {
     "name": "stderr",
     "output_type": "stream",
     "text": [
      "\rMorphologyExtractor create index: 567598it [00:03, 155834.11it/s]"
     ]
    },
    {
     "name": "stderr",
     "output_type": "stream",
     "text": [
      "\rMorphologyExtractor create index: 583232it [00:03, 155982.80it/s]"
     ]
    },
    {
     "name": "stderr",
     "output_type": "stream",
     "text": [
      "\rMorphologyExtractor create index: 598859it [00:03, 155623.00it/s]"
     ]
    },
    {
     "name": "stderr",
     "output_type": "stream",
     "text": [
      "\rMorphologyExtractor create index: 614441it [00:03, 155102.40it/s]"
     ]
    },
    {
     "name": "stderr",
     "output_type": "stream",
     "text": [
      "\rMorphologyExtractor create index: 629966it [00:04, 154767.69it/s]"
     ]
    },
    {
     "name": "stderr",
     "output_type": "stream",
     "text": [
      "\rMorphologyExtractor create index: 645453it [00:04, 151033.56it/s]"
     ]
    },
    {
     "name": "stderr",
     "output_type": "stream",
     "text": [
      "\rMorphologyExtractor create index: 661315it [00:04, 153232.12it/s]"
     ]
    },
    {
     "name": "stderr",
     "output_type": "stream",
     "text": [
      "\rMorphologyExtractor create index: 677046it [00:04, 154432.61it/s]"
     ]
    },
    {
     "name": "stderr",
     "output_type": "stream",
     "text": [
      "\rMorphologyExtractor create index: 692684it [00:04, 155011.32it/s]"
     ]
    },
    {
     "name": "stderr",
     "output_type": "stream",
     "text": [
      "\rMorphologyExtractor create index: 708201it [00:04, 153946.62it/s]"
     ]
    },
    {
     "name": "stderr",
     "output_type": "stream",
     "text": [
      "\rMorphologyExtractor create index: 723608it [00:04, 152080.27it/s]"
     ]
    },
    {
     "name": "stderr",
     "output_type": "stream",
     "text": [
      "\rMorphologyExtractor create index: 738830it [00:04, 151916.75it/s]"
     ]
    },
    {
     "name": "stderr",
     "output_type": "stream",
     "text": [
      "\rMorphologyExtractor create index: 754722it [00:04, 153951.13it/s]"
     ]
    },
    {
     "name": "stderr",
     "output_type": "stream",
     "text": [
      "\rMorphologyExtractor create index: 770131it [00:04, 153886.66it/s]"
     ]
    },
    {
     "name": "stderr",
     "output_type": "stream",
     "text": [
      "\rMorphologyExtractor create index: 785772it [00:05, 154632.71it/s]"
     ]
    },
    {
     "name": "stderr",
     "output_type": "stream",
     "text": [
      "\rMorphologyExtractor create index: 801243it [00:05, 147047.59it/s]"
     ]
    },
    {
     "name": "stderr",
     "output_type": "stream",
     "text": [
      "\rMorphologyExtractor create index: 817186it [00:05, 150553.34it/s]"
     ]
    },
    {
     "name": "stderr",
     "output_type": "stream",
     "text": [
      "\rMorphologyExtractor create index: 833072it [00:05, 152950.61it/s]"
     ]
    },
    {
     "name": "stderr",
     "output_type": "stream",
     "text": [
      "\rMorphologyExtractor create index: 849116it [00:05, 155122.90it/s]"
     ]
    },
    {
     "name": "stderr",
     "output_type": "stream",
     "text": [
      "\rMorphologyExtractor create index: 865382it [00:05, 157308.72it/s]"
     ]
    },
    {
     "name": "stderr",
     "output_type": "stream",
     "text": [
      "\rMorphologyExtractor create index: 881833it [00:05, 159399.31it/s]"
     ]
    },
    {
     "name": "stderr",
     "output_type": "stream",
     "text": [
      "\rMorphologyExtractor create index: 897811it [00:05, 158349.98it/s]"
     ]
    },
    {
     "name": "stderr",
     "output_type": "stream",
     "text": [
      "\rMorphologyExtractor create index: 913674it [00:05, 157731.48it/s]"
     ]
    },
    {
     "name": "stderr",
     "output_type": "stream",
     "text": [
      "\rMorphologyExtractor create index: 929468it [00:06, 155662.31it/s]"
     ]
    },
    {
     "name": "stderr",
     "output_type": "stream",
     "text": [
      "\rMorphologyExtractor create index: 945387it [00:06, 156702.15it/s]"
     ]
    },
    {
     "name": "stderr",
     "output_type": "stream",
     "text": [
      "\rMorphologyExtractor create index: 961444it [00:06, 157841.40it/s]"
     ]
    },
    {
     "name": "stderr",
     "output_type": "stream",
     "text": [
      "\rMorphologyExtractor create index: 977242it [00:06, 156318.10it/s]"
     ]
    },
    {
     "name": "stderr",
     "output_type": "stream",
     "text": [
      "\rMorphologyExtractor create index: 993492it [00:06, 158121.87it/s]"
     ]
    },
    {
     "name": "stderr",
     "output_type": "stream",
     "text": [
      "\rMorphologyExtractor create index: 1009318it [00:06, 157266.92it/s]"
     ]
    },
    {
     "name": "stderr",
     "output_type": "stream",
     "text": [
      "\rMorphologyExtractor create index: 1025222it [00:06, 157794.61it/s]"
     ]
    },
    {
     "name": "stderr",
     "output_type": "stream",
     "text": [
      "\rMorphologyExtractor create index: 1041010it [00:06, 157451.02it/s]"
     ]
    },
    {
     "name": "stderr",
     "output_type": "stream",
     "text": [
      "\rMorphologyExtractor create index: 1057051it [00:06, 158326.22it/s]"
     ]
    },
    {
     "name": "stderr",
     "output_type": "stream",
     "text": [
      "\rMorphologyExtractor create index: 1072889it [00:06, 155441.61it/s]"
     ]
    },
    {
     "name": "stderr",
     "output_type": "stream",
     "text": [
      "\rMorphologyExtractor create index: 1088491it [00:07, 155613.72it/s]"
     ]
    },
    {
     "name": "stderr",
     "output_type": "stream",
     "text": [
      "\rMorphologyExtractor create index: 1104266it [00:07, 156245.78it/s]"
     ]
    },
    {
     "name": "stderr",
     "output_type": "stream",
     "text": [
      "\rMorphologyExtractor create index: 1119955it [00:07, 156436.19it/s]"
     ]
    },
    {
     "name": "stderr",
     "output_type": "stream",
     "text": [
      "\rMorphologyExtractor create index: 1135605it [00:07, 155288.46it/s]"
     ]
    },
    {
     "name": "stderr",
     "output_type": "stream",
     "text": [
      "\rMorphologyExtractor create index: 1151140it [00:07, 152837.61it/s]"
     ]
    },
    {
     "name": "stderr",
     "output_type": "stream",
     "text": [
      "\rMorphologyExtractor create index: 1167031it [00:07, 154609.97it/s]"
     ]
    },
    {
     "name": "stderr",
     "output_type": "stream",
     "text": [
      "\rMorphologyExtractor create index: 1182506it [00:07, 153461.70it/s]"
     ]
    },
    {
     "name": "stderr",
     "output_type": "stream",
     "text": [
      "\rMorphologyExtractor create index: 1197955it [00:07, 153765.18it/s]"
     ]
    },
    {
     "name": "stderr",
     "output_type": "stream",
     "text": [
      "\rMorphologyExtractor create index: 1213340it [00:07, 149371.17it/s]"
     ]
    },
    {
     "name": "stderr",
     "output_type": "stream",
     "text": [
      "\rMorphologyExtractor create index: 1228311it [00:07, 149413.70it/s]"
     ]
    },
    {
     "name": "stderr",
     "output_type": "stream",
     "text": [
      "\rMorphologyExtractor create index: 1243933it [00:08, 151390.22it/s]"
     ]
    },
    {
     "name": "stderr",
     "output_type": "stream",
     "text": [
      "\rMorphologyExtractor create index: 1259095it [00:08, 149491.56it/s]"
     ]
    },
    {
     "name": "stderr",
     "output_type": "stream",
     "text": [
      "\rMorphologyExtractor create index: 1274644it [00:08, 151241.02it/s]"
     ]
    },
    {
     "name": "stderr",
     "output_type": "stream",
     "text": [
      "\rMorphologyExtractor create index: 1289820it [00:08, 151393.58it/s]"
     ]
    },
    {
     "name": "stderr",
     "output_type": "stream",
     "text": [
      "\rMorphologyExtractor create index: 1305201it [00:08, 152101.07it/s]"
     ]
    },
    {
     "name": "stderr",
     "output_type": "stream",
     "text": [
      "\rMorphologyExtractor create index: 1320422it [00:08, 150250.17it/s]"
     ]
    },
    {
     "name": "stderr",
     "output_type": "stream",
     "text": [
      "\rMorphologyExtractor create index: 1335460it [00:08, 149620.79it/s]"
     ]
    },
    {
     "name": "stderr",
     "output_type": "stream",
     "text": [
      "\rMorphologyExtractor create index: 1350683it [00:08, 150393.20it/s]"
     ]
    },
    {
     "name": "stderr",
     "output_type": "stream",
     "text": [
      "\rMorphologyExtractor create index: 1366309it [00:08, 152105.55it/s]"
     ]
    },
    {
     "name": "stderr",
     "output_type": "stream",
     "text": [
      "\rMorphologyExtractor create index: 1381532it [00:08, 152141.60it/s]"
     ]
    },
    {
     "name": "stderr",
     "output_type": "stream",
     "text": [
      "\rMorphologyExtractor create index: 1396901it [00:09, 152602.77it/s]"
     ]
    },
    {
     "name": "stderr",
     "output_type": "stream",
     "text": [
      "\rMorphologyExtractor create index: 1412167it [00:09, 151497.56it/s]"
     ]
    },
    {
     "name": "stderr",
     "output_type": "stream",
     "text": [
      "\rMorphologyExtractor create index: 1427323it [00:09, 143780.28it/s]"
     ]
    },
    {
     "name": "stderr",
     "output_type": "stream",
     "text": [
      "\rMorphologyExtractor create index: 1441787it [00:09, 140958.86it/s]"
     ]
    },
    {
     "name": "stderr",
     "output_type": "stream",
     "text": [
      "\rMorphologyExtractor create index: 1456778it [00:09, 143527.89it/s]"
     ]
    },
    {
     "name": "stderr",
     "output_type": "stream",
     "text": [
      "\rMorphologyExtractor create index: 1471501it [00:09, 144617.14it/s]"
     ]
    },
    {
     "name": "stderr",
     "output_type": "stream",
     "text": [
      "\rMorphologyExtractor create index: 1486356it [00:09, 145772.34it/s]"
     ]
    },
    {
     "name": "stderr",
     "output_type": "stream",
     "text": [
      "\rMorphologyExtractor create index: 1502304it [00:09, 149629.40it/s]"
     ]
    },
    {
     "name": "stderr",
     "output_type": "stream",
     "text": [
      "\rMorphologyExtractor create index: 1518031it [00:09, 151840.31it/s]"
     ]
    },
    {
     "name": "stderr",
     "output_type": "stream",
     "text": [
      "\rMorphologyExtractor create index: 1534585it [00:09, 155704.44it/s]"
     ]
    },
    {
     "name": "stderr",
     "output_type": "stream",
     "text": [
      "\rMorphologyExtractor create index: 1550388it [00:10, 156391.06it/s]"
     ]
    },
    {
     "name": "stderr",
     "output_type": "stream",
     "text": [
      "\rMorphologyExtractor create index: 1566066it [00:10, 156395.24it/s]"
     ]
    },
    {
     "name": "stderr",
     "output_type": "stream",
     "text": [
      "\rMorphologyExtractor create index: 1581771it [00:10, 156588.24it/s]"
     ]
    },
    {
     "name": "stderr",
     "output_type": "stream",
     "text": [
      "\rMorphologyExtractor create index: 1597449it [00:10, 156348.66it/s]"
     ]
    },
    {
     "name": "stderr",
     "output_type": "stream",
     "text": [
      "\rMorphologyExtractor create index: 1613098it [00:10, 155802.39it/s]"
     ]
    },
    {
     "name": "stderr",
     "output_type": "stream",
     "text": [
      "\rMorphologyExtractor create index: 1628689it [00:10, 153560.89it/s]"
     ]
    },
    {
     "name": "stderr",
     "output_type": "stream",
     "text": [
      "\rMorphologyExtractor create index: 1644833it [00:10, 155840.99it/s]"
     ]
    },
    {
     "name": "stderr",
     "output_type": "stream",
     "text": [
      "\rMorphologyExtractor create index: 1660436it [00:10, 155884.88it/s]"
     ]
    },
    {
     "name": "stderr",
     "output_type": "stream",
     "text": [
      "\rMorphologyExtractor create index: 1676038it [00:10, 153681.10it/s]"
     ]
    },
    {
     "name": "stderr",
     "output_type": "stream",
     "text": [
      "\rMorphologyExtractor create index: 1691423it [00:10, 151963.83it/s]"
     ]
    },
    {
     "name": "stderr",
     "output_type": "stream",
     "text": [
      "\rMorphologyExtractor create index: 1707036it [00:11, 153188.36it/s]"
     ]
    },
    {
     "name": "stderr",
     "output_type": "stream",
     "text": [
      "\rMorphologyExtractor create index: 1722594it [00:11, 153895.86it/s]"
     ]
    },
    {
     "name": "stderr",
     "output_type": "stream",
     "text": [
      "\rMorphologyExtractor create index: 1738870it [00:11, 156451.54it/s]"
     ]
    },
    {
     "name": "stderr",
     "output_type": "stream",
     "text": [
      "\rMorphologyExtractor create index: 1754533it [00:11, 154951.82it/s]"
     ]
    },
    {
     "name": "stderr",
     "output_type": "stream",
     "text": [
      "\rMorphologyExtractor create index: 1770044it [00:11, 154591.34it/s]"
     ]
    },
    {
     "name": "stderr",
     "output_type": "stream",
     "text": [
      "\rMorphologyExtractor create index: 1786178it [00:11, 156554.10it/s]"
     ]
    },
    {
     "name": "stderr",
     "output_type": "stream",
     "text": [
      "\rMorphologyExtractor create index: 1802301it [00:11, 157925.31it/s]"
     ]
    },
    {
     "name": "stderr",
     "output_type": "stream",
     "text": [
      "\rMorphologyExtractor create index: 1818106it [00:11, 157542.78it/s]"
     ]
    },
    {
     "name": "stderr",
     "output_type": "stream",
     "text": [
      "\rMorphologyExtractor create index: 1833870it [00:11, 157282.20it/s]"
     ]
    },
    {
     "name": "stderr",
     "output_type": "stream",
     "text": [
      "\rMorphologyExtractor create index: 1849605it [00:12, 155976.27it/s]"
     ]
    },
    {
     "name": "stderr",
     "output_type": "stream",
     "text": [
      "\rMorphologyExtractor create index: 1865210it [00:12, 152987.17it/s]"
     ]
    },
    {
     "name": "stderr",
     "output_type": "stream",
     "text": [
      "\rMorphologyExtractor create index: 1881096it [00:12, 154700.70it/s]"
     ]
    },
    {
     "name": "stderr",
     "output_type": "stream",
     "text": [
      "\rMorphologyExtractor create index: 1896895it [00:12, 155671.08it/s]"
     ]
    },
    {
     "name": "stderr",
     "output_type": "stream",
     "text": [
      "\rMorphologyExtractor create index: 1912476it [00:12, 154160.24it/s]"
     ]
    },
    {
     "name": "stderr",
     "output_type": "stream",
     "text": [
      "\rMorphologyExtractor create index: 1928022it [00:12, 154546.93it/s]"
     ]
    },
    {
     "name": "stderr",
     "output_type": "stream",
     "text": [
      "\rMorphologyExtractor create index: 1943529it [00:12, 154701.21it/s]"
     ]
    },
    {
     "name": "stderr",
     "output_type": "stream",
     "text": [
      "\rMorphologyExtractor create index: 1959019it [00:12, 154760.28it/s]"
     ]
    },
    {
     "name": "stderr",
     "output_type": "stream",
     "text": [
      "\rMorphologyExtractor create index: 1974664it [00:12, 155261.97it/s]"
     ]
    },
    {
     "name": "stderr",
     "output_type": "stream",
     "text": [
      "\rMorphologyExtractor create index: 1990383it [00:12, 155834.00it/s]"
     ]
    },
    {
     "name": "stderr",
     "output_type": "stream",
     "text": [
      "\rMorphologyExtractor create index: 2006755it [00:13, 158118.58it/s]"
     ]
    },
    {
     "name": "stderr",
     "output_type": "stream",
     "text": [
      "\rMorphologyExtractor create index: 2022578it [00:13, 157097.11it/s]"
     ]
    },
    {
     "name": "stderr",
     "output_type": "stream",
     "text": [
      "\rMorphologyExtractor create index: 2038297it [00:13, 155179.66it/s]"
     ]
    },
    {
     "name": "stderr",
     "output_type": "stream",
     "text": [
      "\rMorphologyExtractor create index: 2053827it [00:13, 154233.51it/s]"
     ]
    },
    {
     "name": "stderr",
     "output_type": "stream",
     "text": [
      "\rMorphologyExtractor create index: 2069348it [00:13, 154522.35it/s]"
     ]
    },
    {
     "name": "stderr",
     "output_type": "stream",
     "text": [
      "\rMorphologyExtractor create index: 2084807it [00:13, 154325.08it/s]"
     ]
    },
    {
     "name": "stderr",
     "output_type": "stream",
     "text": [
      "\rMorphologyExtractor create index: 2100454it [00:13, 154961.85it/s]"
     ]
    },
    {
     "name": "stderr",
     "output_type": "stream",
     "text": [
      "\rMorphologyExtractor create index: 2115955it [00:13, 153301.14it/s]"
     ]
    },
    {
     "name": "stderr",
     "output_type": "stream",
     "text": [
      "\rMorphologyExtractor create index: 2131292it [00:13, 152497.28it/s]"
     ]
    },
    {
     "name": "stderr",
     "output_type": "stream",
     "text": [
      "\rMorphologyExtractor create index: 2146573it [00:13, 152590.46it/s]"
     ]
    },
    {
     "name": "stderr",
     "output_type": "stream",
     "text": [
      "\rMorphologyExtractor create index: 2162063it [00:14, 153275.56it/s]"
     ]
    },
    {
     "name": "stderr",
     "output_type": "stream",
     "text": [
      "\rMorphologyExtractor create index: 2177395it [00:14, 152436.70it/s]"
     ]
    },
    {
     "name": "stderr",
     "output_type": "stream",
     "text": [
      "\rMorphologyExtractor create index: 2192643it [00:14, 149119.76it/s]"
     ]
    },
    {
     "name": "stderr",
     "output_type": "stream",
     "text": [
      "\rMorphologyExtractor create index: 2207574it [00:14, 148364.78it/s]"
     ]
    },
    {
     "name": "stderr",
     "output_type": "stream",
     "text": [
      "\rMorphologyExtractor create index: 2222425it [00:14, 148299.82it/s]"
     ]
    },
    {
     "name": "stderr",
     "output_type": "stream",
     "text": [
      "\rMorphologyExtractor create index: 2238295it [00:14, 151272.99it/s]"
     ]
    },
    {
     "name": "stderr",
     "output_type": "stream",
     "text": [
      "\rMorphologyExtractor create index: 2253444it [00:14, 150852.48it/s]"
     ]
    },
    {
     "name": "stderr",
     "output_type": "stream",
     "text": [
      "\rMorphologyExtractor create index: 2268545it [00:14, 146197.49it/s]"
     ]
    },
    {
     "name": "stderr",
     "output_type": "stream",
     "text": [
      "\rMorphologyExtractor create index: 2283273it [00:14, 146517.90it/s]"
     ]
    },
    {
     "name": "stderr",
     "output_type": "stream",
     "text": [
      "\rMorphologyExtractor create index: 2298545it [00:14, 148324.92it/s]"
     ]
    },
    {
     "name": "stderr",
     "output_type": "stream",
     "text": [
      "\rMorphologyExtractor create index: 2314057it [00:15, 150298.89it/s]"
     ]
    },
    {
     "name": "stderr",
     "output_type": "stream",
     "text": [
      "\rMorphologyExtractor create index: 2329547it [00:15, 151648.40it/s]"
     ]
    },
    {
     "name": "stderr",
     "output_type": "stream",
     "text": [
      "\rMorphologyExtractor create index: 2344824it [00:15, 151982.76it/s]"
     ]
    },
    {
     "name": "stderr",
     "output_type": "stream",
     "text": [
      "\rMorphologyExtractor create index: 2360037it [00:15, 148191.06it/s]"
     ]
    },
    {
     "name": "stderr",
     "output_type": "stream",
     "text": [
      "\rMorphologyExtractor create index: 2375791it [00:15, 150876.65it/s]"
     ]
    },
    {
     "name": "stderr",
     "output_type": "stream",
     "text": [
      "\rMorphologyExtractor create index: 2391288it [00:15, 152081.38it/s]"
     ]
    },
    {
     "name": "stderr",
     "output_type": "stream",
     "text": [
      "\rMorphologyExtractor create index: 2407495it [00:15, 154945.34it/s]"
     ]
    },
    {
     "name": "stderr",
     "output_type": "stream",
     "text": [
      "\rMorphologyExtractor create index: 2423843it [00:15, 157410.29it/s]"
     ]
    },
    {
     "name": "stderr",
     "output_type": "stream",
     "text": [
      "\rMorphologyExtractor create index: 2439840it [00:15, 158167.82it/s]"
     ]
    },
    {
     "name": "stderr",
     "output_type": "stream",
     "text": [
      "\rMorphologyExtractor create index: 2456000it [00:15, 159181.10it/s]"
     ]
    },
    {
     "name": "stderr",
     "output_type": "stream",
     "text": [
      "\rMorphologyExtractor create index: 2472269it [00:16, 160217.71it/s]"
     ]
    },
    {
     "name": "stderr",
     "output_type": "stream",
     "text": [
      "\rMorphologyExtractor create index: 2488305it [00:16, 158790.75it/s]"
     ]
    },
    {
     "name": "stderr",
     "output_type": "stream",
     "text": [
      "\rMorphologyExtractor create index: 2504197it [00:16, 154367.35it/s]"
     ]
    },
    {
     "name": "stderr",
     "output_type": "stream",
     "text": [
      "\rMorphologyExtractor create index: 2519670it [00:16, 150049.84it/s]"
     ]
    },
    {
     "name": "stderr",
     "output_type": "stream",
     "text": [
      "\rMorphologyExtractor create index: 2534727it [00:16, 147390.35it/s]"
     ]
    },
    {
     "name": "stderr",
     "output_type": "stream",
     "text": [
      "\rMorphologyExtractor create index: 2550712it [00:16, 150918.94it/s]"
     ]
    },
    {
     "name": "stderr",
     "output_type": "stream",
     "text": [
      "\rMorphologyExtractor create index: 2565858it [00:16, 150372.70it/s]"
     ]
    },
    {
     "name": "stderr",
     "output_type": "stream",
     "text": [
      "\rMorphologyExtractor create index: 2581066it [00:16, 150878.65it/s]"
     ]
    },
    {
     "name": "stderr",
     "output_type": "stream",
     "text": [
      "\rMorphologyExtractor create index: 2596432it [00:16, 151701.93it/s]"
     ]
    },
    {
     "name": "stderr",
     "output_type": "stream",
     "text": [
      "\rMorphologyExtractor create index: 2612572it [00:16, 154485.51it/s]"
     ]
    },
    {
     "name": "stderr",
     "output_type": "stream",
     "text": [
      "\rMorphologyExtractor create index: 2628198it [00:17, 155012.11it/s]"
     ]
    },
    {
     "name": "stderr",
     "output_type": "stream",
     "text": [
      "\rMorphologyExtractor create index: 2643719it [00:17, 154151.09it/s]"
     ]
    },
    {
     "name": "stderr",
     "output_type": "stream",
     "text": [
      "\rMorphologyExtractor create index: 2659461it [00:17, 155116.04it/s]"
     ]
    },
    {
     "name": "stderr",
     "output_type": "stream",
     "text": [
      "\rMorphologyExtractor create index: 2674985it [00:17, 153186.09it/s]"
     ]
    },
    {
     "name": "stderr",
     "output_type": "stream",
     "text": [
      "\rMorphologyExtractor create index: 2690385it [00:17, 153428.96it/s]"
     ]
    },
    {
     "name": "stderr",
     "output_type": "stream",
     "text": [
      "\rMorphologyExtractor create index: 2705738it [00:17, 151688.49it/s]"
     ]
    },
    {
     "name": "stderr",
     "output_type": "stream",
     "text": [
      "\rMorphologyExtractor create index: 2721433it [00:17, 153228.07it/s]"
     ]
    },
    {
     "name": "stderr",
     "output_type": "stream",
     "text": [
      "\rMorphologyExtractor create index: 2736768it [00:17, 152849.90it/s]"
     ]
    },
    {
     "name": "stderr",
     "output_type": "stream",
     "text": [
      "\rMorphologyExtractor create index: 2752604it [00:17, 154460.45it/s]"
     ]
    },
    {
     "name": "stderr",
     "output_type": "stream",
     "text": [
      "\rMorphologyExtractor create index: 2768060it [00:18, 150876.28it/s]"
     ]
    },
    {
     "name": "stderr",
     "output_type": "stream",
     "text": [
      "\rMorphologyExtractor create index: 2783512it [00:18, 151950.73it/s]"
     ]
    },
    {
     "name": "stderr",
     "output_type": "stream",
     "text": [
      "\rMorphologyExtractor create index: 2799363it [00:18, 153857.74it/s]"
     ]
    },
    {
     "name": "stderr",
     "output_type": "stream",
     "text": [
      "\rMorphologyExtractor create index: 2815617it [00:18, 156360.69it/s]"
     ]
    },
    {
     "name": "stderr",
     "output_type": "stream",
     "text": [
      "\rMorphologyExtractor create index: 2831277it [00:18, 155006.31it/s]"
     ]
    },
    {
     "name": "stderr",
     "output_type": "stream",
     "text": [
      "\rMorphologyExtractor create index: 2846797it [00:18, 154900.91it/s]"
     ]
    },
    {
     "name": "stderr",
     "output_type": "stream",
     "text": [
      "\rMorphologyExtractor create index: 2862424it [00:18, 155308.72it/s]"
     ]
    },
    {
     "name": "stderr",
     "output_type": "stream",
     "text": [
      "\rMorphologyExtractor create index: 2878048it [00:18, 155586.87it/s]"
     ]
    },
    {
     "name": "stderr",
     "output_type": "stream",
     "text": [
      "\rMorphologyExtractor create index: 2893614it [00:18, 154658.93it/s]"
     ]
    },
    {
     "name": "stderr",
     "output_type": "stream",
     "text": [
      "\rMorphologyExtractor create index: 2909401it [00:18, 155607.61it/s]"
     ]
    },
    {
     "name": "stderr",
     "output_type": "stream",
     "text": [
      "\rMorphologyExtractor create index: 2924968it [00:19, 155010.76it/s]"
     ]
    },
    {
     "name": "stderr",
     "output_type": "stream",
     "text": [
      "\rMorphologyExtractor create index: 2940474it [00:19, 149807.22it/s]"
     ]
    },
    {
     "name": "stderr",
     "output_type": "stream",
     "text": [
      "\rMorphologyExtractor create index: 2955496it [00:19, 149199.45it/s]"
     ]
    },
    {
     "name": "stderr",
     "output_type": "stream",
     "text": [
      "\rMorphologyExtractor create index: 2970446it [00:19, 149044.47it/s]"
     ]
    },
    {
     "name": "stderr",
     "output_type": "stream",
     "text": [
      "\rMorphologyExtractor create index: 2986019it [00:19, 150987.33it/s]"
     ]
    },
    {
     "name": "stderr",
     "output_type": "stream",
     "text": [
      "\rMorphologyExtractor create index: 3001569it [00:19, 152312.90it/s]"
     ]
    },
    {
     "name": "stderr",
     "output_type": "stream",
     "text": [
      "\rMorphologyExtractor create index: 3016818it [00:19, 149475.10it/s]"
     ]
    },
    {
     "name": "stderr",
     "output_type": "stream",
     "text": [
      "\rMorphologyExtractor create index: 3031790it [00:19, 147739.19it/s]"
     ]
    },
    {
     "name": "stderr",
     "output_type": "stream",
     "text": [
      "\rMorphologyExtractor create index: 3047280it [00:19, 149815.63it/s]"
     ]
    },
    {
     "name": "stderr",
     "output_type": "stream",
     "text": [
      "\rMorphologyExtractor create index: 3062284it [00:19, 147160.86it/s]"
     ]
    },
    {
     "name": "stderr",
     "output_type": "stream",
     "text": [
      "\rMorphologyExtractor create index: 3077026it [00:20, 146692.99it/s]"
     ]
    },
    {
     "name": "stderr",
     "output_type": "stream",
     "text": [
      "\rMorphologyExtractor create index: 3092799it [00:20, 149837.25it/s]"
     ]
    },
    {
     "name": "stderr",
     "output_type": "stream",
     "text": [
      "\rMorphologyExtractor create index: 3108583it [00:20, 152147.50it/s]"
     ]
    },
    {
     "name": "stderr",
     "output_type": "stream",
     "text": [
      "\rMorphologyExtractor create index: 3124684it [00:20, 154699.90it/s]"
     ]
    },
    {
     "name": "stderr",
     "output_type": "stream",
     "text": [
      "\rMorphologyExtractor create index: 3140793it [00:20, 156562.56it/s]"
     ]
    },
    {
     "name": "stderr",
     "output_type": "stream",
     "text": [
      "\rMorphologyExtractor create index: 3156477it [00:20, 153779.28it/s]"
     ]
    },
    {
     "name": "stderr",
     "output_type": "stream",
     "text": [
      "\rMorphologyExtractor create index: 3171885it [00:20, 149169.76it/s]"
     ]
    },
    {
     "name": "stderr",
     "output_type": "stream",
     "text": [
      "\rMorphologyExtractor create index: 3187038it [00:20, 149869.59it/s]"
     ]
    },
    {
     "name": "stderr",
     "output_type": "stream",
     "text": [
      "\rMorphologyExtractor create index: 3202573it [00:20, 151471.88it/s]"
     ]
    },
    {
     "name": "stderr",
     "output_type": "stream",
     "text": [
      "\rMorphologyExtractor create index: 3217951it [00:20, 152155.65it/s]"
     ]
    },
    {
     "name": "stderr",
     "output_type": "stream",
     "text": [
      "\rMorphologyExtractor create index: 3233526it [00:21, 153215.49it/s]"
     ]
    },
    {
     "name": "stderr",
     "output_type": "stream",
     "text": [
      "\rMorphologyExtractor create index: 3248865it [00:21, 149884.24it/s]"
     ]
    },
    {
     "name": "stderr",
     "output_type": "stream",
     "text": [
      "\rMorphologyExtractor create index: 3264181it [00:21, 150850.93it/s]"
     ]
    },
    {
     "name": "stderr",
     "output_type": "stream",
     "text": [
      "\rMorphologyExtractor create index: 3279540it [00:21, 151660.98it/s]"
     ]
    },
    {
     "name": "stderr",
     "output_type": "stream",
     "text": [
      "\rMorphologyExtractor create index: 3295210it [00:21, 153137.84it/s]"
     ]
    },
    {
     "name": "stderr",
     "output_type": "stream",
     "text": [
      "\rMorphologyExtractor create index: 3310913it [00:21, 154283.28it/s]"
     ]
    },
    {
     "name": "stderr",
     "output_type": "stream",
     "text": [
      "\rMorphologyExtractor create index: 3326641it [00:21, 155169.73it/s]"
     ]
    },
    {
     "name": "stderr",
     "output_type": "stream",
     "text": [
      "\rMorphologyExtractor create index: 3342221it [00:21, 155355.44it/s]"
     ]
    },
    {
     "name": "stderr",
     "output_type": "stream",
     "text": [
      "\rMorphologyExtractor create index: 3357968it [00:21, 155981.98it/s]"
     ]
    },
    {
     "name": "stderr",
     "output_type": "stream",
     "text": [
      "\rMorphologyExtractor create index: 3373572it [00:21, 155908.68it/s]"
     ]
    },
    {
     "name": "stderr",
     "output_type": "stream",
     "text": [
      "\rMorphologyExtractor create index: 3389167it [00:22, 155092.07it/s]"
     ]
    },
    {
     "name": "stderr",
     "output_type": "stream",
     "text": [
      "\rMorphologyExtractor create index: 3404775it [00:22, 155384.41it/s]"
     ]
    },
    {
     "name": "stderr",
     "output_type": "stream",
     "text": [
      "\rMorphologyExtractor create index: 3420317it [00:22, 155183.72it/s]"
     ]
    },
    {
     "name": "stderr",
     "output_type": "stream",
     "text": [
      "\rMorphologyExtractor create index: 3436053it [00:22, 155827.87it/s]"
     ]
    },
    {
     "name": "stderr",
     "output_type": "stream",
     "text": [
      "\rMorphologyExtractor create index: 3451638it [00:22, 155107.29it/s]"
     ]
    },
    {
     "name": "stderr",
     "output_type": "stream",
     "text": [
      "\rMorphologyExtractor create index: 3467200it [00:22, 155256.92it/s]"
     ]
    },
    {
     "name": "stderr",
     "output_type": "stream",
     "text": [
      "\rMorphologyExtractor create index: 3482728it [00:22, 154963.65it/s]"
     ]
    },
    {
     "name": "stderr",
     "output_type": "stream",
     "text": [
      "\rMorphologyExtractor create index: 3498226it [00:22, 154590.59it/s]"
     ]
    },
    {
     "name": "stderr",
     "output_type": "stream",
     "text": [
      "\rMorphologyExtractor create index: 3514067it [00:22, 155715.22it/s]"
     ]
    },
    {
     "name": "stderr",
     "output_type": "stream",
     "text": [
      "\rMorphologyExtractor create index: 3529642it [00:22, 155456.10it/s]"
     ]
    },
    {
     "name": "stderr",
     "output_type": "stream",
     "text": [
      "\rMorphologyExtractor create index: 3545410it [00:23, 156115.71it/s]"
     ]
    },
    {
     "name": "stderr",
     "output_type": "stream",
     "text": [
      "\rMorphologyExtractor create index: 3561024it [00:23, 154842.00it/s]"
     ]
    },
    {
     "name": "stderr",
     "output_type": "stream",
     "text": [
      "\rMorphologyExtractor create index: 3576703it [00:23, 155420.90it/s]"
     ]
    },
    {
     "name": "stderr",
     "output_type": "stream",
     "text": [
      "\rMorphologyExtractor create index: 3592515it [00:23, 156220.40it/s]"
     ]
    },
    {
     "name": "stderr",
     "output_type": "stream",
     "text": [
      "\rMorphologyExtractor create index: 3608141it [00:23, 154945.42it/s]"
     ]
    },
    {
     "name": "stderr",
     "output_type": "stream",
     "text": [
      "\rMorphologyExtractor create index: 3623725it [00:23, 155210.44it/s]"
     ]
    },
    {
     "name": "stderr",
     "output_type": "stream",
     "text": [
      "\rMorphologyExtractor create index: 3639250it [00:23, 152363.26it/s]"
     ]
    },
    {
     "name": "stderr",
     "output_type": "stream",
     "text": [
      "\rMorphologyExtractor create index: 3654501it [00:23, 150287.75it/s]"
     ]
    },
    {
     "name": "stderr",
     "output_type": "stream",
     "text": [
      "\rMorphologyExtractor create index: 3669546it [00:23, 148468.53it/s]"
     ]
    },
    {
     "name": "stderr",
     "output_type": "stream",
     "text": [
      "\rMorphologyExtractor create index: 3684410it [00:23, 148126.06it/s]"
     ]
    },
    {
     "name": "stderr",
     "output_type": "stream",
     "text": [
      "\rMorphologyExtractor create index: 3699235it [00:24, 147743.35it/s]"
     ]
    },
    {
     "name": "stderr",
     "output_type": "stream",
     "text": [
      "\rMorphologyExtractor create index: 3714716it [00:24, 149794.18it/s]"
     ]
    },
    {
     "name": "stderr",
     "output_type": "stream",
     "text": [
      "\rMorphologyExtractor create index: 3729993it [00:24, 150672.39it/s]"
     ]
    },
    {
     "name": "stderr",
     "output_type": "stream",
     "text": [
      "\rMorphologyExtractor create index: 3745071it [00:24, 146602.39it/s]"
     ]
    },
    {
     "name": "stderr",
     "output_type": "stream",
     "text": [
      "\rMorphologyExtractor create index: 3759763it [00:24, 143463.29it/s]"
     ]
    },
    {
     "name": "stderr",
     "output_type": "stream",
     "text": [
      "\rMorphologyExtractor create index: 3774147it [00:24, 140827.00it/s]"
     ]
    },
    {
     "name": "stderr",
     "output_type": "stream",
     "text": [
      "\rMorphologyExtractor create index: 3788267it [00:24, 138213.82it/s]"
     ]
    },
    {
     "name": "stderr",
     "output_type": "stream",
     "text": [
      "\rMorphologyExtractor create index: 3802125it [00:24, 135848.03it/s]"
     ]
    },
    {
     "name": "stderr",
     "output_type": "stream",
     "text": [
      "\rMorphologyExtractor create index: 3816515it [00:24, 138164.68it/s]"
     ]
    },
    {
     "name": "stderr",
     "output_type": "stream",
     "text": [
      "\rMorphologyExtractor create index: 3831626it [00:25, 141807.56it/s]"
     ]
    },
    {
     "name": "stderr",
     "output_type": "stream",
     "text": [
      "\rMorphologyExtractor create index: 3846761it [00:25, 144539.98it/s]"
     ]
    },
    {
     "name": "stderr",
     "output_type": "stream",
     "text": [
      "\rMorphologyExtractor create index: 3862342it [00:25, 147743.03it/s]"
     ]
    },
    {
     "name": "stderr",
     "output_type": "stream",
     "text": [
      "\rMorphologyExtractor create index: 3877781it [00:25, 149673.17it/s]"
     ]
    },
    {
     "name": "stderr",
     "output_type": "stream",
     "text": [
      "\rMorphologyExtractor create index: 3893816it [00:25, 152722.26it/s]"
     ]
    },
    {
     "name": "stderr",
     "output_type": "stream",
     "text": [
      "\rMorphologyExtractor create index: 3909382it [00:25, 153590.94it/s]"
     ]
    },
    {
     "name": "stderr",
     "output_type": "stream",
     "text": [
      "\rMorphologyExtractor create index: 3925340it [00:25, 155337.58it/s]"
     ]
    },
    {
     "name": "stderr",
     "output_type": "stream",
     "text": [
      "\rMorphologyExtractor create index: 3940901it [00:25, 151578.72it/s]"
     ]
    },
    {
     "name": "stderr",
     "output_type": "stream",
     "text": [
      "\rMorphologyExtractor create index: 3956152it [00:25, 151854.79it/s]"
     ]
    },
    {
     "name": "stderr",
     "output_type": "stream",
     "text": [
      "\rMorphologyExtractor create index: 3971365it [00:25, 150823.25it/s]"
     ]
    },
    {
     "name": "stderr",
     "output_type": "stream",
     "text": [
      "\rMorphologyExtractor create index: 3986469it [00:26, 149564.99it/s]"
     ]
    },
    {
     "name": "stderr",
     "output_type": "stream",
     "text": [
      "\rMorphologyExtractor create index: 4002303it [00:26, 152093.58it/s]"
     ]
    },
    {
     "name": "stderr",
     "output_type": "stream",
     "text": [
      "\rMorphologyExtractor create index: 4017808it [00:26, 152966.81it/s]"
     ]
    },
    {
     "name": "stderr",
     "output_type": "stream",
     "text": [
      "\rMorphologyExtractor create index: 4033545it [00:26, 154261.18it/s]"
     ]
    },
    {
     "name": "stderr",
     "output_type": "stream",
     "text": [
      "\rMorphologyExtractor create index: 4049617it [00:26, 156142.18it/s]"
     ]
    },
    {
     "name": "stderr",
     "output_type": "stream",
     "text": [
      "\rMorphologyExtractor create index: 4065247it [00:26, 146462.30it/s]"
     ]
    },
    {
     "name": "stderr",
     "output_type": "stream",
     "text": [
      "\rMorphologyExtractor create index: 4080189it [00:26, 147335.10it/s]"
     ]
    },
    {
     "name": "stderr",
     "output_type": "stream",
     "text": [
      "\rMorphologyExtractor create index: 4095125it [00:26, 147934.20it/s]"
     ]
    },
    {
     "name": "stderr",
     "output_type": "stream",
     "text": [
      "\rMorphologyExtractor create index: 4111050it [00:26, 151154.61it/s]"
     ]
    },
    {
     "name": "stderr",
     "output_type": "stream",
     "text": [
      "\rMorphologyExtractor create index: 4126248it [00:26, 151399.92it/s]"
     ]
    },
    {
     "name": "stderr",
     "output_type": "stream",
     "text": [
      "\rMorphologyExtractor create index: 4142174it [00:27, 153674.77it/s]"
     ]
    },
    {
     "name": "stderr",
     "output_type": "stream",
     "text": [
      "\rMorphologyExtractor create index: 4157655it [00:27, 154013.08it/s]"
     ]
    },
    {
     "name": "stderr",
     "output_type": "stream",
     "text": [
      "\rMorphologyExtractor create index: 4173085it [00:27, 153638.70it/s]"
     ]
    },
    {
     "name": "stderr",
     "output_type": "stream",
     "text": [
      "\rMorphologyExtractor create index: 4188658it [00:27, 154259.45it/s]"
     ]
    },
    {
     "name": "stderr",
     "output_type": "stream",
     "text": [
      "\rMorphologyExtractor create index: 4204821it [00:27, 156394.44it/s]"
     ]
    },
    {
     "name": "stderr",
     "output_type": "stream",
     "text": [
      "\rMorphologyExtractor create index: 4220478it [00:27, 155423.51it/s]"
     ]
    },
    {
     "name": "stderr",
     "output_type": "stream",
     "text": [
      "\rMorphologyExtractor create index: 4236034it [00:27, 154837.69it/s]"
     ]
    },
    {
     "name": "stderr",
     "output_type": "stream",
     "text": [
      "\rMorphologyExtractor create index: 4251528it [00:27, 153193.49it/s]"
     ]
    },
    {
     "name": "stderr",
     "output_type": "stream",
     "text": [
      "\rMorphologyExtractor create index: 4267476it [00:27, 155023.70it/s]"
     ]
    },
    {
     "name": "stderr",
     "output_type": "stream",
     "text": [
      "\rMorphologyExtractor create index: 4282992it [00:27, 152548.10it/s]"
     ]
    },
    {
     "name": "stderr",
     "output_type": "stream",
     "text": [
      "\rMorphologyExtractor create index: 4298687it [00:28, 153840.19it/s]"
     ]
    },
    {
     "name": "stderr",
     "output_type": "stream",
     "text": [
      "\rMorphologyExtractor create index: 4314087it [00:28, 151012.14it/s]"
     ]
    },
    {
     "name": "stderr",
     "output_type": "stream",
     "text": [
      "\rMorphologyExtractor create index: 4329211it [00:28, 150744.85it/s]"
     ]
    },
    {
     "name": "stderr",
     "output_type": "stream",
     "text": [
      "\rMorphologyExtractor create index: 4344604it [00:28, 151685.98it/s]"
     ]
    },
    {
     "name": "stderr",
     "output_type": "stream",
     "text": [
      "\rMorphologyExtractor create index: 4359785it [00:28, 151391.72it/s]"
     ]
    },
    {
     "name": "stderr",
     "output_type": "stream",
     "text": [
      "\rMorphologyExtractor create index: 4374933it [00:28, 150220.49it/s]"
     ]
    },
    {
     "name": "stderr",
     "output_type": "stream",
     "text": [
      "\rMorphologyExtractor create index: 4390525it [00:28, 151884.35it/s]"
     ]
    },
    {
     "name": "stderr",
     "output_type": "stream",
     "text": [
      "\rMorphologyExtractor create index: 4405724it [00:28, 150370.42it/s]"
     ]
    },
    {
     "name": "stderr",
     "output_type": "stream",
     "text": [
      "\rMorphologyExtractor create index: 4420772it [00:28, 150091.40it/s]"
     ]
    },
    {
     "name": "stderr",
     "output_type": "stream",
     "text": [
      "\rMorphologyExtractor create index: 4436029it [00:29, 150824.29it/s]"
     ]
    },
    {
     "name": "stderr",
     "output_type": "stream",
     "text": [
      "\rMorphologyExtractor create index: 4451118it [00:29, 147259.55it/s]"
     ]
    },
    {
     "name": "stderr",
     "output_type": "stream",
     "text": [
      "\rMorphologyExtractor create index: 4467130it [00:29, 150894.54it/s]"
     ]
    },
    {
     "name": "stderr",
     "output_type": "stream",
     "text": [
      "\rMorphologyExtractor create index: 4482258it [00:29, 149688.51it/s]"
     ]
    },
    {
     "name": "stderr",
     "output_type": "stream",
     "text": [
      "\rMorphologyExtractor create index: 4498373it [00:29, 152950.21it/s]"
     ]
    },
    {
     "name": "stderr",
     "output_type": "stream",
     "text": [
      "\rMorphologyExtractor create index: 4513706it [00:29, 151658.76it/s]"
     ]
    },
    {
     "name": "stderr",
     "output_type": "stream",
     "text": [
      "\rMorphologyExtractor create index: 4529326it [00:29, 152991.27it/s]"
     ]
    },
    {
     "name": "stderr",
     "output_type": "stream",
     "text": [
      "\rMorphologyExtractor create index: 4545447it [00:29, 155366.61it/s]"
     ]
    },
    {
     "name": "stderr",
     "output_type": "stream",
     "text": [
      "\rMorphologyExtractor create index: 4561129it [00:29, 155797.07it/s]"
     ]
    },
    {
     "name": "stderr",
     "output_type": "stream",
     "text": [
      "\rMorphologyExtractor create index: 4576727it [00:29, 155638.72it/s]"
     ]
    },
    {
     "name": "stderr",
     "output_type": "stream",
     "text": [
      "\rMorphologyExtractor create index: 4592450it [00:30, 156111.31it/s]"
     ]
    },
    {
     "name": "stderr",
     "output_type": "stream",
     "text": [
      "\rMorphologyExtractor create index: 4608691it [00:30, 157947.63it/s]"
     ]
    },
    {
     "name": "stderr",
     "output_type": "stream",
     "text": [
      "\rMorphologyExtractor create index: 4624936it [00:30, 159269.17it/s]"
     ]
    },
    {
     "name": "stderr",
     "output_type": "stream",
     "text": [
      "\rMorphologyExtractor create index: 4640874it [00:30, 149963.19it/s]"
     ]
    },
    {
     "name": "stderr",
     "output_type": "stream",
     "text": [
      "\rMorphologyExtractor create index: 4656083it [00:30, 150593.61it/s]"
     ]
    },
    {
     "name": "stderr",
     "output_type": "stream",
     "text": [
      "\rMorphologyExtractor create index: 4671618it [00:30, 151986.09it/s]"
     ]
    },
    {
     "name": "stderr",
     "output_type": "stream",
     "text": [
      "\rMorphologyExtractor create index: 4686935it [00:30, 152338.95it/s]"
     ]
    },
    {
     "name": "stderr",
     "output_type": "stream",
     "text": [
      "\rMorphologyExtractor create index: 4702213it [00:30, 151704.47it/s]"
     ]
    },
    {
     "name": "stderr",
     "output_type": "stream",
     "text": [
      "\rMorphologyExtractor create index: 4717415it [00:30, 146176.08it/s]"
     ]
    },
    {
     "name": "stderr",
     "output_type": "stream",
     "text": [
      "\rMorphologyExtractor create index: 4732098it [00:30, 145313.40it/s]"
     ]
    },
    {
     "name": "stderr",
     "output_type": "stream",
     "text": [
      "\rMorphologyExtractor create index: 4746677it [00:31, 144944.61it/s]"
     ]
    },
    {
     "name": "stderr",
     "output_type": "stream",
     "text": [
      "\rMorphologyExtractor create index: 4762045it [00:31, 147458.78it/s]"
     ]
    },
    {
     "name": "stderr",
     "output_type": "stream",
     "text": [
      "\rMorphologyExtractor create index: 4777486it [00:31, 149477.05it/s]"
     ]
    },
    {
     "name": "stderr",
     "output_type": "stream",
     "text": [
      "\rMorphologyExtractor create index: 4793604it [00:31, 152803.28it/s]"
     ]
    },
    {
     "name": "stderr",
     "output_type": "stream",
     "text": [
      "\rMorphologyExtractor create index: 4809361it [00:31, 154198.68it/s]"
     ]
    },
    {
     "name": "stderr",
     "output_type": "stream",
     "text": [
      "\rMorphologyExtractor create index: 4825627it [00:31, 156642.68it/s]"
     ]
    },
    {
     "name": "stderr",
     "output_type": "stream",
     "text": [
      "\rMorphologyExtractor create index: 4841651it [00:31, 157701.63it/s]"
     ]
    },
    {
     "name": "stderr",
     "output_type": "stream",
     "text": [
      "\rMorphologyExtractor create index: 4857938it [00:31, 159214.96it/s]"
     ]
    },
    {
     "name": "stderr",
     "output_type": "stream",
     "text": [
      "\rMorphologyExtractor create index: 4873880it [00:31, 158637.88it/s]"
     ]
    },
    {
     "name": "stderr",
     "output_type": "stream",
     "text": [
      "\rMorphologyExtractor create index: 4890296it [00:31, 160253.37it/s]"
     ]
    },
    {
     "name": "stderr",
     "output_type": "stream",
     "text": [
      "\rMorphologyExtractor create index: 4906410it [00:32, 160517.80it/s]"
     ]
    },
    {
     "name": "stderr",
     "output_type": "stream",
     "text": [
      "\rMorphologyExtractor create index: 4922472it [00:32, 159630.81it/s]"
     ]
    },
    {
     "name": "stderr",
     "output_type": "stream",
     "text": [
      "\rMorphologyExtractor create index: 4938444it [00:32, 159197.30it/s]"
     ]
    },
    {
     "name": "stderr",
     "output_type": "stream",
     "text": [
      "\rMorphologyExtractor create index: 4954386it [00:32, 159263.98it/s]"
     ]
    },
    {
     "name": "stderr",
     "output_type": "stream",
     "text": [
      "\rMorphologyExtractor create index: 4970317it [00:32, 156287.06it/s]"
     ]
    },
    {
     "name": "stderr",
     "output_type": "stream",
     "text": [
      "\rMorphologyExtractor create index: 4985962it [00:32, 155287.55it/s]"
     ]
    },
    {
     "name": "stderr",
     "output_type": "stream",
     "text": [
      "\rMorphologyExtractor create index: 5001951it [00:32, 156639.82it/s]"
     ]
    },
    {
     "name": "stderr",
     "output_type": "stream",
     "text": [
      "\rMorphologyExtractor create index: 5017627it [00:32, 154876.75it/s]"
     ]
    },
    {
     "name": "stderr",
     "output_type": "stream",
     "text": [
      "\rMorphologyExtractor create index: 5033128it [00:32, 153064.14it/s]"
     ]
    },
    {
     "name": "stderr",
     "output_type": "stream",
     "text": [
      "\rMorphologyExtractor create index: 5049385it [00:32, 155796.71it/s]"
     ]
    },
    {
     "name": "stderr",
     "output_type": "stream",
     "text": [
      "\rMorphologyExtractor create index: 5066261it [00:33, 159471.15it/s]"
     ]
    },
    {
     "name": "stderr",
     "output_type": "stream",
     "text": [
      "\rMorphologyExtractor create index: 5082352it [00:33, 159899.12it/s]"
     ]
    },
    {
     "name": "stderr",
     "output_type": "stream",
     "text": [
      "\rMorphologyExtractor create index: 5096053it [00:33, 153188.66it/s]"
     ]
    },
    {
     "name": "stderr",
     "output_type": "stream",
     "text": [
      "\n"
     ]
    },
    {
     "name": "stderr",
     "output_type": "stream",
     "text": [
      "\rMorphologyExtractor create index: 0it [00:00, ?it/s]"
     ]
    },
    {
     "name": "stderr",
     "output_type": "stream",
     "text": [
      "\rMorphologyExtractor create index: 15357it [00:00, 153562.46it/s]"
     ]
    },
    {
     "name": "stderr",
     "output_type": "stream",
     "text": [
      "\rMorphologyExtractor create index: 30802it [00:00, 153824.84it/s]"
     ]
    },
    {
     "name": "stderr",
     "output_type": "stream",
     "text": [
      "\rMorphologyExtractor create index: 46366it [00:00, 154363.55it/s]"
     ]
    },
    {
     "name": "stderr",
     "output_type": "stream",
     "text": [
      "\rMorphologyExtractor create index: 62183it [00:00, 155485.17it/s]"
     ]
    },
    {
     "name": "stderr",
     "output_type": "stream",
     "text": [
      "\rMorphologyExtractor create index: 77526it [00:00, 154861.00it/s]"
     ]
    },
    {
     "name": "stderr",
     "output_type": "stream",
     "text": [
      "\rMorphologyExtractor create index: 93177it [00:00, 155350.32it/s]"
     ]
    },
    {
     "name": "stderr",
     "output_type": "stream",
     "text": [
      "\rMorphologyExtractor create index: 108079it [00:00, 153394.95it/s]"
     ]
    },
    {
     "name": "stderr",
     "output_type": "stream",
     "text": [
      "\rMorphologyExtractor create index: 123996it [00:00, 155082.48it/s]"
     ]
    },
    {
     "name": "stderr",
     "output_type": "stream",
     "text": [
      "\rMorphologyExtractor create index: 139077it [00:00, 153773.11it/s]"
     ]
    },
    {
     "name": "stderr",
     "output_type": "stream",
     "text": [
      "\rMorphologyExtractor create index: 155371it [00:01, 156410.37it/s]"
     ]
    },
    {
     "name": "stderr",
     "output_type": "stream",
     "text": [
      "\rMorphologyExtractor create index: 171567it [00:01, 158032.20it/s]"
     ]
    },
    {
     "name": "stderr",
     "output_type": "stream",
     "text": [
      "\rMorphologyExtractor create index: 187617it [00:01, 158764.02it/s]"
     ]
    },
    {
     "name": "stderr",
     "output_type": "stream",
     "text": [
      "\rMorphologyExtractor create index: 203293it [00:01, 157360.11it/s]"
     ]
    },
    {
     "name": "stderr",
     "output_type": "stream",
     "text": [
      "\rMorphologyExtractor create index: 219029it [00:01, 157357.64it/s]"
     ]
    },
    {
     "name": "stderr",
     "output_type": "stream",
     "text": [
      "\rMorphologyExtractor create index: 235139it [00:01, 158461.45it/s]"
     ]
    },
    {
     "name": "stderr",
     "output_type": "stream",
     "text": [
      "\rMorphologyExtractor create index: 250920it [00:01, 157722.21it/s]"
     ]
    },
    {
     "name": "stderr",
     "output_type": "stream",
     "text": [
      "\rMorphologyExtractor create index: 267271it [00:01, 159415.00it/s]"
     ]
    },
    {
     "name": "stderr",
     "output_type": "stream",
     "text": [
      "\rMorphologyExtractor create index: 283186it [00:01, 158271.11it/s]"
     ]
    },
    {
     "name": "stderr",
     "output_type": "stream",
     "text": [
      "\rMorphologyExtractor create index: 298996it [00:01, 157886.50it/s]"
     ]
    },
    {
     "name": "stderr",
     "output_type": "stream",
     "text": [
      "\rMorphologyExtractor create index: 314773it [00:02, 157742.65it/s]"
     ]
    },
    {
     "name": "stderr",
     "output_type": "stream",
     "text": [
      "\rMorphologyExtractor create index: 330711it [00:02, 158230.24it/s]"
     ]
    },
    {
     "name": "stderr",
     "output_type": "stream",
     "text": [
      "\rMorphologyExtractor create index: 346666it [00:02, 158623.80it/s]"
     ]
    },
    {
     "name": "stderr",
     "output_type": "stream",
     "text": [
      "\rMorphologyExtractor create index: 362537it [00:02, 158647.20it/s]"
     ]
    },
    {
     "name": "stderr",
     "output_type": "stream",
     "text": [
      "\rMorphologyExtractor create index: 378400it [00:02, 158188.90it/s]"
     ]
    },
    {
     "name": "stderr",
     "output_type": "stream",
     "text": [
      "\rMorphologyExtractor create index: 394218it [00:02, 158079.09it/s]"
     ]
    },
    {
     "name": "stderr",
     "output_type": "stream",
     "text": [
      "\rMorphologyExtractor create index: 410415it [00:02, 159222.83it/s]"
     ]
    },
    {
     "name": "stderr",
     "output_type": "stream",
     "text": [
      "\rMorphologyExtractor create index: 426339it [00:02, 159190.79it/s]"
     ]
    },
    {
     "name": "stderr",
     "output_type": "stream",
     "text": [
      "\rMorphologyExtractor create index: 442259it [00:02, 157658.02it/s]"
     ]
    },
    {
     "name": "stderr",
     "output_type": "stream",
     "text": [
      "\rMorphologyExtractor create index: 458029it [00:02, 155650.07it/s]"
     ]
    },
    {
     "name": "stderr",
     "output_type": "stream",
     "text": [
      "\rMorphologyExtractor create index: 473603it [00:03, 155376.14it/s]"
     ]
    },
    {
     "name": "stderr",
     "output_type": "stream",
     "text": [
      "\rMorphologyExtractor create index: 489549it [00:03, 156579.10it/s]"
     ]
    },
    {
     "name": "stderr",
     "output_type": "stream",
     "text": [
      "\rMorphologyExtractor create index: 505349it [00:03, 156999.82it/s]"
     ]
    },
    {
     "name": "stderr",
     "output_type": "stream",
     "text": [
      "\rMorphologyExtractor create index: 521054it [00:03, 156445.26it/s]"
     ]
    },
    {
     "name": "stderr",
     "output_type": "stream",
     "text": [
      "\rMorphologyExtractor create index: 536703it [00:03, 155561.87it/s]"
     ]
    },
    {
     "name": "stderr",
     "output_type": "stream",
     "text": [
      "\rMorphologyExtractor create index: 552264it [00:03, 149866.77it/s]"
     ]
    },
    {
     "name": "stderr",
     "output_type": "stream",
     "text": [
      "\rMorphologyExtractor create index: 567629it [00:03, 150979.42it/s]"
     ]
    },
    {
     "name": "stderr",
     "output_type": "stream",
     "text": [
      "\rMorphologyExtractor create index: 583759it [00:03, 153932.36it/s]"
     ]
    },
    {
     "name": "stderr",
     "output_type": "stream",
     "text": [
      "\rMorphologyExtractor create index: 599482it [00:03, 154906.53it/s]"
     ]
    },
    {
     "name": "stderr",
     "output_type": "stream",
     "text": [
      "\rMorphologyExtractor create index: 615593it [00:03, 156716.43it/s]"
     ]
    },
    {
     "name": "stderr",
     "output_type": "stream",
     "text": [
      "\rMorphologyExtractor create index: 631734it [00:04, 158092.31it/s]"
     ]
    },
    {
     "name": "stderr",
     "output_type": "stream",
     "text": [
      "\rMorphologyExtractor create index: 647564it [00:04, 158077.34it/s]"
     ]
    },
    {
     "name": "stderr",
     "output_type": "stream",
     "text": [
      "\rMorphologyExtractor create index: 663387it [00:04, 156502.03it/s]"
     ]
    },
    {
     "name": "stderr",
     "output_type": "stream",
     "text": [
      "\rMorphologyExtractor create index: 679107it [00:04, 156708.91it/s]"
     ]
    },
    {
     "name": "stderr",
     "output_type": "stream",
     "text": [
      "\rMorphologyExtractor create index: 695105it [00:04, 157668.70it/s]"
     ]
    },
    {
     "name": "stderr",
     "output_type": "stream",
     "text": [
      "\rMorphologyExtractor create index: 710890it [00:04, 157722.08it/s]"
     ]
    },
    {
     "name": "stderr",
     "output_type": "stream",
     "text": [
      "\rMorphologyExtractor create index: 726668it [00:04, 155877.83it/s]"
     ]
    },
    {
     "name": "stderr",
     "output_type": "stream",
     "text": [
      "\rMorphologyExtractor create index: 742265it [00:04, 155620.46it/s]"
     ]
    },
    {
     "name": "stderr",
     "output_type": "stream",
     "text": [
      "\rMorphologyExtractor create index: 757834it [00:04, 153986.91it/s]"
     ]
    },
    {
     "name": "stderr",
     "output_type": "stream",
     "text": [
      "\rMorphologyExtractor create index: 773242it [00:04, 152082.06it/s]"
     ]
    },
    {
     "name": "stderr",
     "output_type": "stream",
     "text": [
      "\rMorphologyExtractor create index: 789133it [00:05, 154067.53it/s]"
     ]
    },
    {
     "name": "stderr",
     "output_type": "stream",
     "text": [
      "\rMorphologyExtractor create index: 804554it [00:05, 151605.40it/s]"
     ]
    },
    {
     "name": "stderr",
     "output_type": "stream",
     "text": [
      "\rMorphologyExtractor create index: 820012it [00:05, 152485.62it/s]"
     ]
    },
    {
     "name": "stderr",
     "output_type": "stream",
     "text": [
      "\rMorphologyExtractor create index: 835275it [00:05, 152139.42it/s]"
     ]
    },
    {
     "name": "stderr",
     "output_type": "stream",
     "text": [
      "\rMorphologyExtractor create index: 850912it [00:05, 153382.58it/s]"
     ]
    },
    {
     "name": "stderr",
     "output_type": "stream",
     "text": [
      "\rMorphologyExtractor create index: 866618it [00:05, 154467.09it/s]"
     ]
    },
    {
     "name": "stderr",
     "output_type": "stream",
     "text": [
      "\rMorphologyExtractor create index: 882591it [00:05, 156008.69it/s]"
     ]
    },
    {
     "name": "stderr",
     "output_type": "stream",
     "text": [
      "\rMorphologyExtractor create index: 898202it [00:05, 154485.79it/s]"
     ]
    },
    {
     "name": "stderr",
     "output_type": "stream",
     "text": [
      "\rMorphologyExtractor create index: 914015it [00:05, 155558.16it/s]"
     ]
    },
    {
     "name": "stderr",
     "output_type": "stream",
     "text": [
      "\rMorphologyExtractor create index: 930576it [00:05, 158442.72it/s]"
     ]
    },
    {
     "name": "stderr",
     "output_type": "stream",
     "text": [
      "\rMorphologyExtractor create index: 946710it [00:06, 159298.60it/s]"
     ]
    },
    {
     "name": "stderr",
     "output_type": "stream",
     "text": [
      "\rMorphologyExtractor create index: 962655it [00:06, 150417.25it/s]"
     ]
    },
    {
     "name": "stderr",
     "output_type": "stream",
     "text": [
      "\rMorphologyExtractor create index: 977810it [00:06, 146631.02it/s]"
     ]
    },
    {
     "name": "stderr",
     "output_type": "stream",
     "text": [
      "\rMorphologyExtractor create index: 993010it [00:06, 148199.74it/s]"
     ]
    },
    {
     "name": "stderr",
     "output_type": "stream",
     "text": [
      "\rMorphologyExtractor create index: 1008848it [00:06, 151111.89it/s]"
     ]
    },
    {
     "name": "stderr",
     "output_type": "stream",
     "text": [
      "\rMorphologyExtractor create index: 1024425it [00:06, 152477.61it/s]"
     ]
    },
    {
     "name": "stderr",
     "output_type": "stream",
     "text": [
      "\rMorphologyExtractor create index: 1040324it [00:06, 154374.12it/s]"
     ]
    },
    {
     "name": "stderr",
     "output_type": "stream",
     "text": [
      "\rMorphologyExtractor create index: 1055914it [00:06, 154826.47it/s]"
     ]
    },
    {
     "name": "stderr",
     "output_type": "stream",
     "text": [
      "\rMorphologyExtractor create index: 1071425it [00:06, 154030.34it/s]"
     ]
    },
    {
     "name": "stderr",
     "output_type": "stream",
     "text": [
      "\rMorphologyExtractor create index: 1086849it [00:06, 153805.05it/s]"
     ]
    },
    {
     "name": "stderr",
     "output_type": "stream",
     "text": [
      "\rMorphologyExtractor create index: 1102245it [00:07, 151117.03it/s]"
     ]
    },
    {
     "name": "stderr",
     "output_type": "stream",
     "text": [
      "\rMorphologyExtractor create index: 1117378it [00:07, 150724.25it/s]"
     ]
    },
    {
     "name": "stderr",
     "output_type": "stream",
     "text": [
      "\rMorphologyExtractor create index: 1132466it [00:07, 147926.15it/s]"
     ]
    },
    {
     "name": "stderr",
     "output_type": "stream",
     "text": [
      "\rMorphologyExtractor create index: 1147281it [00:07, 146644.48it/s]"
     ]
    },
    {
     "name": "stderr",
     "output_type": "stream",
     "text": [
      "\rMorphologyExtractor create index: 1162829it [00:07, 149186.27it/s]"
     ]
    },
    {
     "name": "stderr",
     "output_type": "stream",
     "text": [
      "\rMorphologyExtractor create index: 1178599it [00:07, 151639.50it/s]"
     ]
    },
    {
     "name": "stderr",
     "output_type": "stream",
     "text": [
      "\rMorphologyExtractor create index: 1193790it [00:07, 150771.49it/s]"
     ]
    },
    {
     "name": "stderr",
     "output_type": "stream",
     "text": [
      "\rMorphologyExtractor create index: 1209460it [00:07, 152501.17it/s]"
     ]
    },
    {
     "name": "stderr",
     "output_type": "stream",
     "text": [
      "\rMorphologyExtractor create index: 1224729it [00:07, 147612.78it/s]"
     ]
    },
    {
     "name": "stderr",
     "output_type": "stream",
     "text": [
      "\rMorphologyExtractor create index: 1240009it [00:08, 149131.52it/s]"
     ]
    },
    {
     "name": "stderr",
     "output_type": "stream",
     "text": [
      "\rMorphologyExtractor create index: 1254959it [00:08, 148830.98it/s]"
     ]
    },
    {
     "name": "stderr",
     "output_type": "stream",
     "text": [
      "\rMorphologyExtractor create index: 1270030it [00:08, 149386.29it/s]"
     ]
    },
    {
     "name": "stderr",
     "output_type": "stream",
     "text": [
      "\rMorphologyExtractor create index: 1285358it [00:08, 150532.99it/s]"
     ]
    },
    {
     "name": "stderr",
     "output_type": "stream",
     "text": [
      "\rMorphologyExtractor create index: 1301055it [00:08, 152406.11it/s]"
     ]
    },
    {
     "name": "stderr",
     "output_type": "stream",
     "text": [
      "\rMorphologyExtractor create index: 1316348it [00:08, 152561.63it/s]"
     ]
    },
    {
     "name": "stderr",
     "output_type": "stream",
     "text": [
      "\rMorphologyExtractor create index: 1331616it [00:08, 152466.81it/s]"
     ]
    },
    {
     "name": "stderr",
     "output_type": "stream",
     "text": [
      "\rMorphologyExtractor create index: 1346871it [00:08, 151981.30it/s]"
     ]
    },
    {
     "name": "stderr",
     "output_type": "stream",
     "text": [
      "\rMorphologyExtractor create index: 1362076it [00:08, 151435.42it/s]"
     ]
    },
    {
     "name": "stderr",
     "output_type": "stream",
     "text": [
      "\rMorphologyExtractor create index: 1377498it [00:08, 152259.68it/s]"
     ]
    },
    {
     "name": "stderr",
     "output_type": "stream",
     "text": [
      "\rMorphologyExtractor create index: 1392729it [00:09, 152238.68it/s]"
     ]
    },
    {
     "name": "stderr",
     "output_type": "stream",
     "text": [
      "\rMorphologyExtractor create index: 1408871it [00:09, 154879.42it/s]"
     ]
    },
    {
     "name": "stderr",
     "output_type": "stream",
     "text": [
      "\rMorphologyExtractor create index: 1424386it [00:09, 154959.54it/s]"
     ]
    },
    {
     "name": "stderr",
     "output_type": "stream",
     "text": [
      "\rMorphologyExtractor create index: 1439892it [00:09, 151995.73it/s]"
     ]
    },
    {
     "name": "stderr",
     "output_type": "stream",
     "text": [
      "\rMorphologyExtractor create index: 1455717it [00:09, 153818.56it/s]"
     ]
    },
    {
     "name": "stderr",
     "output_type": "stream",
     "text": [
      "\rMorphologyExtractor create index: 1471118it [00:09, 152385.15it/s]"
     ]
    },
    {
     "name": "stderr",
     "output_type": "stream",
     "text": [
      "\rMorphologyExtractor create index: 1486373it [00:09, 150428.84it/s]"
     ]
    },
    {
     "name": "stderr",
     "output_type": "stream",
     "text": [
      "\rMorphologyExtractor create index: 1501433it [00:09, 150448.15it/s]"
     ]
    },
    {
     "name": "stderr",
     "output_type": "stream",
     "text": [
      "\rMorphologyExtractor create index: 1516490it [00:09, 149835.10it/s]"
     ]
    },
    {
     "name": "stderr",
     "output_type": "stream",
     "text": [
      "\rMorphologyExtractor create index: 1531906it [00:09, 151105.44it/s]"
     ]
    },
    {
     "name": "stderr",
     "output_type": "stream",
     "text": [
      "\rMorphologyExtractor create index: 1547196it [00:10, 151636.72it/s]"
     ]
    },
    {
     "name": "stderr",
     "output_type": "stream",
     "text": [
      "\rMorphologyExtractor create index: 1562947it [00:10, 153350.42it/s]"
     ]
    },
    {
     "name": "stderr",
     "output_type": "stream",
     "text": [
      "\rMorphologyExtractor create index: 1578292it [00:10, 149202.51it/s]"
     ]
    },
    {
     "name": "stderr",
     "output_type": "stream",
     "text": [
      "\rMorphologyExtractor create index: 1593505it [00:10, 150068.37it/s]"
     ]
    },
    {
     "name": "stderr",
     "output_type": "stream",
     "text": [
      "\rMorphologyExtractor create index: 1609255it [00:10, 152222.26it/s]"
     ]
    },
    {
     "name": "stderr",
     "output_type": "stream",
     "text": [
      "\rMorphologyExtractor create index: 1624501it [00:10, 150718.12it/s]"
     ]
    },
    {
     "name": "stderr",
     "output_type": "stream",
     "text": [
      "\rMorphologyExtractor create index: 1640455it [00:10, 153257.93it/s]"
     ]
    },
    {
     "name": "stderr",
     "output_type": "stream",
     "text": [
      "\rMorphologyExtractor create index: 1656992it [00:10, 156691.66it/s]"
     ]
    },
    {
     "name": "stderr",
     "output_type": "stream",
     "text": [
      "\rMorphologyExtractor create index: 1673296it [00:10, 158540.04it/s]"
     ]
    },
    {
     "name": "stderr",
     "output_type": "stream",
     "text": [
      "\rMorphologyExtractor create index: 1689181it [00:10, 157995.78it/s]"
     ]
    },
    {
     "name": "stderr",
     "output_type": "stream",
     "text": [
      "\rMorphologyExtractor create index: 1705176it [00:11, 158576.05it/s]"
     ]
    },
    {
     "name": "stderr",
     "output_type": "stream",
     "text": [
      "\rMorphologyExtractor create index: 1721050it [00:11, 155609.40it/s]"
     ]
    },
    {
     "name": "stderr",
     "output_type": "stream",
     "text": [
      "\rMorphologyExtractor create index: 1736635it [00:11, 153703.71it/s]"
     ]
    },
    {
     "name": "stderr",
     "output_type": "stream",
     "text": [
      "\rMorphologyExtractor create index: 1752136it [00:11, 154091.35it/s]"
     ]
    },
    {
     "name": "stderr",
     "output_type": "stream",
     "text": [
      "\rMorphologyExtractor create index: 1767561it [00:11, 151807.98it/s]"
     ]
    },
    {
     "name": "stderr",
     "output_type": "stream",
     "text": [
      "\rMorphologyExtractor create index: 1782761it [00:11, 151637.36it/s]"
     ]
    },
    {
     "name": "stderr",
     "output_type": "stream",
     "text": [
      "\rMorphologyExtractor create index: 1797938it [00:11, 149667.78it/s]"
     ]
    },
    {
     "name": "stderr",
     "output_type": "stream",
     "text": [
      "\rMorphologyExtractor create index: 1812920it [00:11, 149560.06it/s]"
     ]
    },
    {
     "name": "stderr",
     "output_type": "stream",
     "text": [
      "\rMorphologyExtractor create index: 1827887it [00:11, 146812.61it/s]"
     ]
    },
    {
     "name": "stderr",
     "output_type": "stream",
     "text": [
      "\rMorphologyExtractor create index: 1842587it [00:11, 145559.83it/s]"
     ]
    },
    {
     "name": "stderr",
     "output_type": "stream",
     "text": [
      "\rMorphologyExtractor create index: 1858197it [00:12, 148569.18it/s]"
     ]
    },
    {
     "name": "stderr",
     "output_type": "stream",
     "text": [
      "\rMorphologyExtractor create index: 1873695it [00:12, 150434.82it/s]"
     ]
    },
    {
     "name": "stderr",
     "output_type": "stream",
     "text": [
      "\rMorphologyExtractor create index: 1889097it [00:12, 151491.81it/s]"
     ]
    },
    {
     "name": "stderr",
     "output_type": "stream",
     "text": [
      "\rMorphologyExtractor create index: 1904291it [00:12, 151625.93it/s]"
     ]
    },
    {
     "name": "stderr",
     "output_type": "stream",
     "text": [
      "\rMorphologyExtractor create index: 1919784it [00:12, 152599.61it/s]"
     ]
    },
    {
     "name": "stderr",
     "output_type": "stream",
     "text": [
      "\rMorphologyExtractor create index: 1936032it [00:12, 155433.34it/s]"
     ]
    },
    {
     "name": "stderr",
     "output_type": "stream",
     "text": [
      "\rMorphologyExtractor create index: 1951827it [00:12, 156178.48it/s]"
     ]
    },
    {
     "name": "stderr",
     "output_type": "stream",
     "text": [
      "\rMorphologyExtractor create index: 1967460it [00:12, 155864.22it/s]"
     ]
    },
    {
     "name": "stderr",
     "output_type": "stream",
     "text": [
      "\rMorphologyExtractor create index: 1983058it [00:12, 155823.79it/s]"
     ]
    },
    {
     "name": "stderr",
     "output_type": "stream",
     "text": [
      "\rMorphologyExtractor create index: 1998918it [00:12, 156643.67it/s]"
     ]
    },
    {
     "name": "stderr",
     "output_type": "stream",
     "text": [
      "\rMorphologyExtractor create index: 2014589it [00:13, 154952.01it/s]"
     ]
    },
    {
     "name": "stderr",
     "output_type": "stream",
     "text": [
      "\rMorphologyExtractor create index: 2030680it [00:13, 156690.75it/s]"
     ]
    },
    {
     "name": "stderr",
     "output_type": "stream",
     "text": [
      "\rMorphologyExtractor create index: 2046619it [00:13, 157487.58it/s]"
     ]
    },
    {
     "name": "stderr",
     "output_type": "stream",
     "text": [
      "\rMorphologyExtractor create index: 2062377it [00:13, 154836.24it/s]"
     ]
    },
    {
     "name": "stderr",
     "output_type": "stream",
     "text": [
      "\rMorphologyExtractor create index: 2077877it [00:13, 154305.82it/s]"
     ]
    },
    {
     "name": "stderr",
     "output_type": "stream",
     "text": [
      "\rMorphologyExtractor create index: 2093320it [00:13, 154161.70it/s]"
     ]
    },
    {
     "name": "stderr",
     "output_type": "stream",
     "text": [
      "\rMorphologyExtractor create index: 2108745it [00:13, 151063.19it/s]"
     ]
    },
    {
     "name": "stderr",
     "output_type": "stream",
     "text": [
      "\rMorphologyExtractor create index: 2123926it [00:13, 151283.38it/s]"
     ]
    },
    {
     "name": "stderr",
     "output_type": "stream",
     "text": [
      "\rMorphologyExtractor create index: 2139546it [00:13, 152725.17it/s]"
     ]
    },
    {
     "name": "stderr",
     "output_type": "stream",
     "text": [
      "\rMorphologyExtractor create index: 2155161it [00:14, 153736.24it/s]"
     ]
    },
    {
     "name": "stderr",
     "output_type": "stream",
     "text": [
      "\rMorphologyExtractor create index: 2170546it [00:14, 152595.41it/s]"
     ]
    },
    {
     "name": "stderr",
     "output_type": "stream",
     "text": [
      "\rMorphologyExtractor create index: 2185815it [00:14, 152564.70it/s]"
     ]
    },
    {
     "name": "stderr",
     "output_type": "stream",
     "text": [
      "\rMorphologyExtractor create index: 2201275it [00:14, 153168.27it/s]"
     ]
    },
    {
     "name": "stderr",
     "output_type": "stream",
     "text": [
      "\rMorphologyExtractor create index: 2216762it [00:14, 153674.78it/s]"
     ]
    },
    {
     "name": "stderr",
     "output_type": "stream",
     "text": [
      "\rMorphologyExtractor create index: 2232236it [00:14, 153991.86it/s]"
     ]
    },
    {
     "name": "stderr",
     "output_type": "stream",
     "text": [
      "\rMorphologyExtractor create index: 2247899it [00:14, 154771.67it/s]"
     ]
    },
    {
     "name": "stderr",
     "output_type": "stream",
     "text": [
      "\rMorphologyExtractor create index: 2263380it [00:14, 154313.87it/s]"
     ]
    },
    {
     "name": "stderr",
     "output_type": "stream",
     "text": [
      "\rMorphologyExtractor create index: 2279276it [00:14, 155677.02it/s]"
     ]
    },
    {
     "name": "stderr",
     "output_type": "stream",
     "text": [
      "\rMorphologyExtractor create index: 2295248it [00:14, 156866.87it/s]"
     ]
    },
    {
     "name": "stderr",
     "output_type": "stream",
     "text": [
      "\rMorphologyExtractor create index: 2311556it [00:15, 158679.69it/s]"
     ]
    },
    {
     "name": "stderr",
     "output_type": "stream",
     "text": [
      "\rMorphologyExtractor create index: 2327868it [00:15, 159985.22it/s]"
     ]
    },
    {
     "name": "stderr",
     "output_type": "stream",
     "text": [
      "\rMorphologyExtractor create index: 2344071it [00:15, 160590.76it/s]"
     ]
    },
    {
     "name": "stderr",
     "output_type": "stream",
     "text": [
      "\rMorphologyExtractor create index: 2360137it [00:15, 159901.77it/s]"
     ]
    },
    {
     "name": "stderr",
     "output_type": "stream",
     "text": [
      "\rMorphologyExtractor create index: 2376133it [00:15, 159735.84it/s]"
     ]
    },
    {
     "name": "stderr",
     "output_type": "stream",
     "text": [
      "\rMorphologyExtractor create index: 2392291it [00:15, 160284.24it/s]"
     ]
    },
    {
     "name": "stderr",
     "output_type": "stream",
     "text": [
      "\rMorphologyExtractor create index: 2408323it [00:15, 158563.35it/s]"
     ]
    },
    {
     "name": "stderr",
     "output_type": "stream",
     "text": [
      "\rMorphologyExtractor create index: 2424186it [00:15, 157394.80it/s]"
     ]
    },
    {
     "name": "stderr",
     "output_type": "stream",
     "text": [
      "\rMorphologyExtractor create index: 2439932it [00:15, 156910.85it/s]"
     ]
    },
    {
     "name": "stderr",
     "output_type": "stream",
     "text": [
      "\rMorphologyExtractor create index: 2455895it [00:15, 157715.53it/s]"
     ]
    },
    {
     "name": "stderr",
     "output_type": "stream",
     "text": [
      "\rMorphologyExtractor create index: 2471671it [00:16, 155931.94it/s]"
     ]
    },
    {
     "name": "stderr",
     "output_type": "stream",
     "text": [
      "\rMorphologyExtractor create index: 2487272it [00:16, 155856.21it/s]"
     ]
    },
    {
     "name": "stderr",
     "output_type": "stream",
     "text": [
      "\rMorphologyExtractor create index: 2503174it [00:16, 156786.46it/s]"
     ]
    },
    {
     "name": "stderr",
     "output_type": "stream",
     "text": [
      "\rMorphologyExtractor create index: 2518858it [00:16, 144962.84it/s]"
     ]
    },
    {
     "name": "stderr",
     "output_type": "stream",
     "text": [
      "\rMorphologyExtractor create index: 2533535it [00:16, 142790.04it/s]"
     ]
    },
    {
     "name": "stderr",
     "output_type": "stream",
     "text": [
      "\rMorphologyExtractor create index: 2547948it [00:16, 136279.25it/s]"
     ]
    },
    {
     "name": "stderr",
     "output_type": "stream",
     "text": [
      "\rMorphologyExtractor create index: 2561733it [00:16, 129410.79it/s]"
     ]
    },
    {
     "name": "stderr",
     "output_type": "stream",
     "text": [
      "\rMorphologyExtractor create index: 2574856it [00:16, 128952.07it/s]"
     ]
    },
    {
     "name": "stderr",
     "output_type": "stream",
     "text": [
      "\rMorphologyExtractor create index: 2589107it [00:16, 132739.86it/s]"
     ]
    },
    {
     "name": "stderr",
     "output_type": "stream",
     "text": [
      "\rMorphologyExtractor create index: 2603767it [00:16, 136614.36it/s]"
     ]
    },
    {
     "name": "stderr",
     "output_type": "stream",
     "text": [
      "\rMorphologyExtractor create index: 2618463it [00:17, 139561.75it/s]"
     ]
    },
    {
     "name": "stderr",
     "output_type": "stream",
     "text": [
      "\rMorphologyExtractor create index: 2633813it [00:17, 143467.64it/s]"
     ]
    },
    {
     "name": "stderr",
     "output_type": "stream",
     "text": [
      "\rMorphologyExtractor create index: 2648709it [00:17, 145071.48it/s]"
     ]
    },
    {
     "name": "stderr",
     "output_type": "stream",
     "text": [
      "\rMorphologyExtractor create index: 2664200it [00:17, 147888.09it/s]"
     ]
    },
    {
     "name": "stderr",
     "output_type": "stream",
     "text": [
      "\rMorphologyExtractor create index: 2679051it [00:17, 146730.25it/s]"
     ]
    },
    {
     "name": "stderr",
     "output_type": "stream",
     "text": [
      "\rMorphologyExtractor create index: 2693770it [00:17, 144755.93it/s]"
     ]
    },
    {
     "name": "stderr",
     "output_type": "stream",
     "text": [
      "\rMorphologyExtractor create index: 2709316it [00:17, 147806.94it/s]"
     ]
    },
    {
     "name": "stderr",
     "output_type": "stream",
     "text": [
      "\rMorphologyExtractor create index: 2724934it [00:17, 150222.16it/s]"
     ]
    },
    {
     "name": "stderr",
     "output_type": "stream",
     "text": [
      "\rMorphologyExtractor create index: 2740256it [00:17, 151109.06it/s]"
     ]
    },
    {
     "name": "stderr",
     "output_type": "stream",
     "text": [
      "\rMorphologyExtractor create index: 2755730it [00:17, 152178.65it/s]"
     ]
    },
    {
     "name": "stderr",
     "output_type": "stream",
     "text": [
      "\rMorphologyExtractor create index: 2770970it [00:18, 149743.89it/s]"
     ]
    },
    {
     "name": "stderr",
     "output_type": "stream",
     "text": [
      "\rMorphologyExtractor create index: 2786507it [00:18, 151386.72it/s]"
     ]
    },
    {
     "name": "stderr",
     "output_type": "stream",
     "text": [
      "\rMorphologyExtractor create index: 2801667it [00:18, 150675.28it/s]"
     ]
    },
    {
     "name": "stderr",
     "output_type": "stream",
     "text": [
      "\rMorphologyExtractor create index: 2816751it [00:18, 150564.36it/s]"
     ]
    },
    {
     "name": "stderr",
     "output_type": "stream",
     "text": [
      "\rMorphologyExtractor create index: 2832160it [00:18, 151603.22it/s]"
     ]
    },
    {
     "name": "stderr",
     "output_type": "stream",
     "text": [
      "\rMorphologyExtractor create index: 2847330it [00:18, 148861.47it/s]"
     ]
    },
    {
     "name": "stderr",
     "output_type": "stream",
     "text": [
      "\rMorphologyExtractor create index: 2863353it [00:18, 152098.48it/s]"
     ]
    },
    {
     "name": "stderr",
     "output_type": "stream",
     "text": [
      "\rMorphologyExtractor create index: 2878926it [00:18, 153168.13it/s]"
     ]
    },
    {
     "name": "stderr",
     "output_type": "stream",
     "text": [
      "\rMorphologyExtractor create index: 2894759it [00:18, 154680.61it/s]"
     ]
    },
    {
     "name": "stderr",
     "output_type": "stream",
     "text": [
      "\rMorphologyExtractor create index: 2910871it [00:19, 156555.92it/s]"
     ]
    },
    {
     "name": "stderr",
     "output_type": "stream",
     "text": [
      "\rMorphologyExtractor create index: 2926950it [00:19, 157800.60it/s]"
     ]
    },
    {
     "name": "stderr",
     "output_type": "stream",
     "text": [
      "\rMorphologyExtractor create index: 2943391it [00:19, 159726.09it/s]"
     ]
    },
    {
     "name": "stderr",
     "output_type": "stream",
     "text": [
      "\rMorphologyExtractor create index: 2959381it [00:19, 159166.48it/s]"
     ]
    },
    {
     "name": "stderr",
     "output_type": "stream",
     "text": [
      "\rMorphologyExtractor create index: 2975310it [00:19, 158459.44it/s]"
     ]
    },
    {
     "name": "stderr",
     "output_type": "stream",
     "text": [
      "\rMorphologyExtractor create index: 2991166it [00:19, 157390.39it/s]"
     ]
    },
    {
     "name": "stderr",
     "output_type": "stream",
     "text": [
      "\rMorphologyExtractor create index: 3006914it [00:19, 156667.27it/s]"
     ]
    },
    {
     "name": "stderr",
     "output_type": "stream",
     "text": [
      "\rMorphologyExtractor create index: 3022588it [00:19, 155825.08it/s]"
     ]
    },
    {
     "name": "stderr",
     "output_type": "stream",
     "text": [
      "\rMorphologyExtractor create index: 3038177it [00:19, 153988.48it/s]"
     ]
    },
    {
     "name": "stderr",
     "output_type": "stream",
     "text": [
      "\rMorphologyExtractor create index: 3053585it [00:19, 153201.81it/s]"
     ]
    },
    {
     "name": "stderr",
     "output_type": "stream",
     "text": [
      "\rMorphologyExtractor create index: 3068913it [00:20, 152751.19it/s]"
     ]
    },
    {
     "name": "stderr",
     "output_type": "stream",
     "text": [
      "\rMorphologyExtractor create index: 3084336it [00:20, 153189.93it/s]"
     ]
    },
    {
     "name": "stderr",
     "output_type": "stream",
     "text": [
      "\rMorphologyExtractor create index: 3099913it [00:20, 153953.67it/s]"
     ]
    },
    {
     "name": "stderr",
     "output_type": "stream",
     "text": [
      "\rMorphologyExtractor create index: 3115313it [00:20, 153334.71it/s]"
     ]
    },
    {
     "name": "stderr",
     "output_type": "stream",
     "text": [
      "\rMorphologyExtractor create index: 3130650it [00:20, 152011.58it/s]"
     ]
    },
    {
     "name": "stderr",
     "output_type": "stream",
     "text": [
      "\rMorphologyExtractor create index: 3146045it [00:20, 152587.03it/s]"
     ]
    },
    {
     "name": "stderr",
     "output_type": "stream",
     "text": [
      "\rMorphologyExtractor create index: 3161308it [00:20, 150726.95it/s]"
     ]
    },
    {
     "name": "stderr",
     "output_type": "stream",
     "text": [
      "\rMorphologyExtractor create index: 3176389it [00:20, 148221.83it/s]"
     ]
    },
    {
     "name": "stderr",
     "output_type": "stream",
     "text": [
      "\rMorphologyExtractor create index: 3191711it [00:20, 149686.64it/s]"
     ]
    },
    {
     "name": "stderr",
     "output_type": "stream",
     "text": [
      "\rMorphologyExtractor create index: 3206694it [00:20, 148493.77it/s]"
     ]
    },
    {
     "name": "stderr",
     "output_type": "stream",
     "text": [
      "\rMorphologyExtractor create index: 3221556it [00:21, 148476.47it/s]"
     ]
    },
    {
     "name": "stderr",
     "output_type": "stream",
     "text": [
      "\rMorphologyExtractor create index: 3236881it [00:21, 149876.53it/s]"
     ]
    },
    {
     "name": "stderr",
     "output_type": "stream",
     "text": [
      "\rMorphologyExtractor create index: 3252100it [00:21, 150561.38it/s]"
     ]
    },
    {
     "name": "stderr",
     "output_type": "stream",
     "text": [
      "\rMorphologyExtractor create index: 3267164it [00:21, 137547.42it/s]"
     ]
    },
    {
     "name": "stderr",
     "output_type": "stream",
     "text": [
      "\rMorphologyExtractor create index: 3281865it [00:21, 140254.56it/s]"
     ]
    },
    {
     "name": "stderr",
     "output_type": "stream",
     "text": [
      "\rMorphologyExtractor create index: 3297609it [00:21, 145000.95it/s]"
     ]
    },
    {
     "name": "stderr",
     "output_type": "stream",
     "text": [
      "\rMorphologyExtractor create index: 3312475it [00:21, 146078.32it/s]"
     ]
    },
    {
     "name": "stderr",
     "output_type": "stream",
     "text": [
      "\rMorphologyExtractor create index: 3327623it [00:21, 147655.40it/s]"
     ]
    },
    {
     "name": "stderr",
     "output_type": "stream",
     "text": [
      "\rMorphologyExtractor create index: 3342803it [00:21, 148874.76it/s]"
     ]
    },
    {
     "name": "stderr",
     "output_type": "stream",
     "text": [
      "\rMorphologyExtractor create index: 3358249it [00:21, 150506.13it/s]"
     ]
    },
    {
     "name": "stderr",
     "output_type": "stream",
     "text": [
      "\rMorphologyExtractor create index: 3373583it [00:22, 151342.93it/s]"
     ]
    },
    {
     "name": "stderr",
     "output_type": "stream",
     "text": [
      "\rMorphologyExtractor create index: 3388752it [00:22, 146551.73it/s]"
     ]
    },
    {
     "name": "stderr",
     "output_type": "stream",
     "text": [
      "\rMorphologyExtractor create index: 3404525it [00:22, 149733.45it/s]"
     ]
    },
    {
     "name": "stderr",
     "output_type": "stream",
     "text": [
      "\rMorphologyExtractor create index: 3419555it [00:22, 149544.14it/s]"
     ]
    },
    {
     "name": "stderr",
     "output_type": "stream",
     "text": [
      "\rMorphologyExtractor create index: 3435425it [00:22, 152175.34it/s]"
     ]
    },
    {
     "name": "stderr",
     "output_type": "stream",
     "text": [
      "\rMorphologyExtractor create index: 3450682it [00:22, 151570.58it/s]"
     ]
    },
    {
     "name": "stderr",
     "output_type": "stream",
     "text": [
      "\rMorphologyExtractor create index: 3466423it [00:22, 153274.63it/s]"
     ]
    },
    {
     "name": "stderr",
     "output_type": "stream",
     "text": [
      "\rMorphologyExtractor create index: 3481829it [00:22, 153506.71it/s]"
     ]
    },
    {
     "name": "stderr",
     "output_type": "stream",
     "text": [
      "\rMorphologyExtractor create index: 3497197it [00:22, 153189.41it/s]"
     ]
    },
    {
     "name": "stderr",
     "output_type": "stream",
     "text": [
      "\rMorphologyExtractor create index: 3512528it [00:22, 152874.48it/s]"
     ]
    },
    {
     "name": "stderr",
     "output_type": "stream",
     "text": [
      "\rMorphologyExtractor create index: 3527825it [00:23, 152348.11it/s]"
     ]
    },
    {
     "name": "stderr",
     "output_type": "stream",
     "text": [
      "\rMorphologyExtractor create index: 3543067it [00:23, 143788.35it/s]"
     ]
    },
    {
     "name": "stderr",
     "output_type": "stream",
     "text": [
      "\rMorphologyExtractor create index: 3557550it [00:23, 142841.56it/s]"
     ]
    },
    {
     "name": "stderr",
     "output_type": "stream",
     "text": [
      "\rMorphologyExtractor create index: 3573185it [00:23, 146640.84it/s]"
     ]
    },
    {
     "name": "stderr",
     "output_type": "stream",
     "text": [
      "\rMorphologyExtractor create index: 3588488it [00:23, 148499.97it/s]"
     ]
    },
    {
     "name": "stderr",
     "output_type": "stream",
     "text": [
      "\rMorphologyExtractor create index: 3604580it [00:23, 152019.84it/s]"
     ]
    },
    {
     "name": "stderr",
     "output_type": "stream",
     "text": [
      "\rMorphologyExtractor create index: 3619845it [00:23, 151248.36it/s]"
     ]
    },
    {
     "name": "stderr",
     "output_type": "stream",
     "text": [
      "\rMorphologyExtractor create index: 3635585it [00:23, 153041.85it/s]"
     ]
    },
    {
     "name": "stderr",
     "output_type": "stream",
     "text": [
      "\rMorphologyExtractor create index: 3651372it [00:23, 154458.50it/s]"
     ]
    },
    {
     "name": "stderr",
     "output_type": "stream",
     "text": [
      "\rMorphologyExtractor create index: 3666880it [00:24, 154643.48it/s]"
     ]
    },
    {
     "name": "stderr",
     "output_type": "stream",
     "text": [
      "\rMorphologyExtractor create index: 3682365it [00:24, 153188.43it/s]"
     ]
    },
    {
     "name": "stderr",
     "output_type": "stream",
     "text": [
      "\rMorphologyExtractor create index: 3698225it [00:24, 154772.23it/s]"
     ]
    },
    {
     "name": "stderr",
     "output_type": "stream",
     "text": [
      "\rMorphologyExtractor create index: 3713719it [00:24, 153332.81it/s]"
     ]
    },
    {
     "name": "stderr",
     "output_type": "stream",
     "text": [
      "\rMorphologyExtractor create index: 3729067it [00:24, 151619.16it/s]"
     ]
    },
    {
     "name": "stderr",
     "output_type": "stream",
     "text": [
      "\rMorphologyExtractor create index: 3744244it [00:24, 148862.16it/s]"
     ]
    },
    {
     "name": "stderr",
     "output_type": "stream",
     "text": [
      "\rMorphologyExtractor create index: 3759294it [00:24, 149348.95it/s]"
     ]
    },
    {
     "name": "stderr",
     "output_type": "stream",
     "text": [
      "\rMorphologyExtractor create index: 3774712it [00:24, 150763.47it/s]"
     ]
    },
    {
     "name": "stderr",
     "output_type": "stream",
     "text": [
      "\rMorphologyExtractor create index: 3790095it [00:24, 151669.60it/s]"
     ]
    },
    {
     "name": "stderr",
     "output_type": "stream",
     "text": [
      "\rMorphologyExtractor create index: 3805751it [00:24, 153100.84it/s]"
     ]
    },
    {
     "name": "stderr",
     "output_type": "stream",
     "text": [
      "\rMorphologyExtractor create index: 3822189it [00:25, 156316.88it/s]"
     ]
    },
    {
     "name": "stderr",
     "output_type": "stream",
     "text": [
      "\rMorphologyExtractor create index: 3837845it [00:25, 155648.92it/s]"
     ]
    },
    {
     "name": "stderr",
     "output_type": "stream",
     "text": [
      "\rMorphologyExtractor create index: 3853428it [00:25, 154940.08it/s]"
     ]
    },
    {
     "name": "stderr",
     "output_type": "stream",
     "text": [
      "\rMorphologyExtractor create index: 3868936it [00:25, 151615.08it/s]"
     ]
    },
    {
     "name": "stderr",
     "output_type": "stream",
     "text": [
      "\rMorphologyExtractor create index: 3884641it [00:25, 153205.15it/s]"
     ]
    },
    {
     "name": "stderr",
     "output_type": "stream",
     "text": [
      "\rMorphologyExtractor create index: 3899984it [00:25, 151025.87it/s]"
     ]
    },
    {
     "name": "stderr",
     "output_type": "stream",
     "text": [
      "\rMorphologyExtractor create index: 3915691it [00:25, 152786.55it/s]"
     ]
    },
    {
     "name": "stderr",
     "output_type": "stream",
     "text": [
      "\rMorphologyExtractor create index: 3930991it [00:25, 152074.36it/s]"
     ]
    },
    {
     "name": "stderr",
     "output_type": "stream",
     "text": [
      "\rMorphologyExtractor create index: 3946214it [00:25, 150218.40it/s]"
     ]
    },
    {
     "name": "stderr",
     "output_type": "stream",
     "text": [
      "\rMorphologyExtractor create index: 3961411it [00:25, 150739.35it/s]"
     ]
    },
    {
     "name": "stderr",
     "output_type": "stream",
     "text": [
      "\rMorphologyExtractor create index: 3976497it [00:26, 147988.83it/s]"
     ]
    },
    {
     "name": "stderr",
     "output_type": "stream",
     "text": [
      "\rMorphologyExtractor create index: 3991316it [00:26, 147959.51it/s]"
     ]
    },
    {
     "name": "stderr",
     "output_type": "stream",
     "text": [
      "\rMorphologyExtractor create index: 4006126it [00:26, 147648.86it/s]"
     ]
    },
    {
     "name": "stderr",
     "output_type": "stream",
     "text": [
      "\rMorphologyExtractor create index: 4020901it [00:26, 143657.50it/s]"
     ]
    },
    {
     "name": "stderr",
     "output_type": "stream",
     "text": [
      "\rMorphologyExtractor create index: 4036156it [00:26, 146211.49it/s]"
     ]
    },
    {
     "name": "stderr",
     "output_type": "stream",
     "text": [
      "\rMorphologyExtractor create index: 4052029it [00:26, 149754.22it/s]"
     ]
    },
    {
     "name": "stderr",
     "output_type": "stream",
     "text": [
      "\rMorphologyExtractor create index: 4067356it [00:26, 150791.09it/s]"
     ]
    },
    {
     "name": "stderr",
     "output_type": "stream",
     "text": [
      "\rMorphologyExtractor create index: 4082551it [00:26, 151134.58it/s]"
     ]
    },
    {
     "name": "stderr",
     "output_type": "stream",
     "text": [
      "\rMorphologyExtractor create index: 4097688it [00:26, 151203.23it/s]"
     ]
    },
    {
     "name": "stderr",
     "output_type": "stream",
     "text": [
      "\rMorphologyExtractor create index: 4112825it [00:26, 149483.20it/s]"
     ]
    },
    {
     "name": "stderr",
     "output_type": "stream",
     "text": [
      "\rMorphologyExtractor create index: 4128554it [00:27, 151740.07it/s]"
     ]
    },
    {
     "name": "stderr",
     "output_type": "stream",
     "text": [
      "\rMorphologyExtractor create index: 4143882it [00:27, 152196.02it/s]"
     ]
    },
    {
     "name": "stderr",
     "output_type": "stream",
     "text": [
      "\rMorphologyExtractor create index: 4159116it [00:27, 151527.31it/s]"
     ]
    },
    {
     "name": "stderr",
     "output_type": "stream",
     "text": [
      "\rMorphologyExtractor create index: 4175074it [00:27, 153853.44it/s]"
     ]
    },
    {
     "name": "stderr",
     "output_type": "stream",
     "text": [
      "\rMorphologyExtractor create index: 4191534it [00:27, 156924.81it/s]"
     ]
    },
    {
     "name": "stderr",
     "output_type": "stream",
     "text": [
      "\rMorphologyExtractor create index: 4207253it [00:27, 154659.71it/s]"
     ]
    },
    {
     "name": "stderr",
     "output_type": "stream",
     "text": [
      "\rMorphologyExtractor create index: 4222745it [00:27, 154129.38it/s]"
     ]
    },
    {
     "name": "stderr",
     "output_type": "stream",
     "text": [
      "\rMorphologyExtractor create index: 4238326it [00:27, 154628.36it/s]"
     ]
    },
    {
     "name": "stderr",
     "output_type": "stream",
     "text": [
      "\rMorphologyExtractor create index: 4254099it [00:27, 155543.16it/s]"
     ]
    },
    {
     "name": "stderr",
     "output_type": "stream",
     "text": [
      "\rMorphologyExtractor create index: 4269664it [00:27, 153801.02it/s]"
     ]
    },
    {
     "name": "stderr",
     "output_type": "stream",
     "text": [
      "\rMorphologyExtractor create index: 4285056it [00:28, 152464.74it/s]"
     ]
    },
    {
     "name": "stderr",
     "output_type": "stream",
     "text": [
      "\rMorphologyExtractor create index: 4300375it [00:28, 152679.36it/s]"
     ]
    },
    {
     "name": "stderr",
     "output_type": "stream",
     "text": [
      "\rMorphologyExtractor create index: 4316232it [00:28, 154398.72it/s]"
     ]
    },
    {
     "name": "stderr",
     "output_type": "stream",
     "text": [
      "\rMorphologyExtractor create index: 4331724it [00:28, 154554.67it/s]"
     ]
    },
    {
     "name": "stderr",
     "output_type": "stream",
     "text": [
      "\rMorphologyExtractor create index: 4347256it [00:28, 154782.53it/s]"
     ]
    },
    {
     "name": "stderr",
     "output_type": "stream",
     "text": [
      "\rMorphologyExtractor create index: 4362805it [00:28, 154992.81it/s]"
     ]
    },
    {
     "name": "stderr",
     "output_type": "stream",
     "text": [
      "\rMorphologyExtractor create index: 4378308it [00:28, 154740.75it/s]"
     ]
    },
    {
     "name": "stderr",
     "output_type": "stream",
     "text": [
      "\rMorphologyExtractor create index: 4393785it [00:28, 154700.78it/s]"
     ]
    },
    {
     "name": "stderr",
     "output_type": "stream",
     "text": [
      "\rMorphologyExtractor create index: 4409257it [00:28, 154241.07it/s]"
     ]
    },
    {
     "name": "stderr",
     "output_type": "stream",
     "text": [
      "\rMorphologyExtractor create index: 4425276it [00:28, 155978.01it/s]"
     ]
    },
    {
     "name": "stderr",
     "output_type": "stream",
     "text": [
      "\rMorphologyExtractor create index: 4440880it [00:29, 155592.89it/s]"
     ]
    },
    {
     "name": "stderr",
     "output_type": "stream",
     "text": [
      "\rMorphologyExtractor create index: 4457089it [00:29, 157484.30it/s]"
     ]
    },
    {
     "name": "stderr",
     "output_type": "stream",
     "text": [
      "\rMorphologyExtractor create index: 4472846it [00:29, 156235.60it/s]"
     ]
    },
    {
     "name": "stderr",
     "output_type": "stream",
     "text": [
      "\rMorphologyExtractor create index: 4488478it [00:29, 153363.92it/s]"
     ]
    },
    {
     "name": "stderr",
     "output_type": "stream",
     "text": [
      "\rMorphologyExtractor create index: 4503832it [00:29, 146694.02it/s]"
     ]
    },
    {
     "name": "stderr",
     "output_type": "stream",
     "text": [
      "\rMorphologyExtractor create index: 4519391it [00:29, 149252.54it/s]"
     ]
    },
    {
     "name": "stderr",
     "output_type": "stream",
     "text": [
      "\rMorphologyExtractor create index: 4535021it [00:29, 151297.39it/s]"
     ]
    },
    {
     "name": "stderr",
     "output_type": "stream",
     "text": [
      "\rMorphologyExtractor create index: 4551053it [00:29, 153895.64it/s]"
     ]
    },
    {
     "name": "stderr",
     "output_type": "stream",
     "text": [
      "\rMorphologyExtractor create index: 4566489it [00:29, 153641.46it/s]"
     ]
    },
    {
     "name": "stderr",
     "output_type": "stream",
     "text": [
      "\rMorphologyExtractor create index: 4581886it [00:30, 152901.69it/s]"
     ]
    },
    {
     "name": "stderr",
     "output_type": "stream",
     "text": [
      "\rMorphologyExtractor create index: 4597200it [00:30, 151869.09it/s]"
     ]
    },
    {
     "name": "stderr",
     "output_type": "stream",
     "text": [
      "\rMorphologyExtractor create index: 4613033it [00:30, 153748.58it/s]"
     ]
    },
    {
     "name": "stderr",
     "output_type": "stream",
     "text": [
      "\rMorphologyExtractor create index: 4628439it [00:30, 153840.93it/s]"
     ]
    },
    {
     "name": "stderr",
     "output_type": "stream",
     "text": [
      "\rMorphologyExtractor create index: 4643875it [00:30, 153994.35it/s]"
     ]
    },
    {
     "name": "stderr",
     "output_type": "stream",
     "text": [
      "\rMorphologyExtractor create index: 4659284it [00:30, 148482.43it/s]"
     ]
    },
    {
     "name": "stderr",
     "output_type": "stream",
     "text": [
      "\rMorphologyExtractor create index: 4674182it [00:30, 146875.55it/s]"
     ]
    },
    {
     "name": "stderr",
     "output_type": "stream",
     "text": [
      "\rMorphologyExtractor create index: 4688968it [00:30, 147167.35it/s]"
     ]
    },
    {
     "name": "stderr",
     "output_type": "stream",
     "text": [
      "\rMorphologyExtractor create index: 4703712it [00:30, 145830.79it/s]"
     ]
    },
    {
     "name": "stderr",
     "output_type": "stream",
     "text": [
      "\rMorphologyExtractor create index: 4718994it [00:30, 147859.02it/s]"
     ]
    },
    {
     "name": "stderr",
     "output_type": "stream",
     "text": [
      "\rMorphologyExtractor create index: 4734125it [00:31, 148877.61it/s]"
     ]
    },
    {
     "name": "stderr",
     "output_type": "stream",
     "text": [
      "\rMorphologyExtractor create index: 4750110it [00:31, 152006.64it/s]"
     ]
    },
    {
     "name": "stderr",
     "output_type": "stream",
     "text": [
      "\rMorphologyExtractor create index: 4765393it [00:31, 152251.35it/s]"
     ]
    },
    {
     "name": "stderr",
     "output_type": "stream",
     "text": [
      "\rMorphologyExtractor create index: 4780941it [00:31, 153194.91it/s]"
     ]
    },
    {
     "name": "stderr",
     "output_type": "stream",
     "text": [
      "\rMorphologyExtractor create index: 4796433it [00:31, 153707.13it/s]"
     ]
    },
    {
     "name": "stderr",
     "output_type": "stream",
     "text": [
      "\rMorphologyExtractor create index: 4811822it [00:31, 153759.57it/s]"
     ]
    },
    {
     "name": "stderr",
     "output_type": "stream",
     "text": [
      "\rMorphologyExtractor create index: 4827218it [00:31, 153818.26it/s]"
     ]
    },
    {
     "name": "stderr",
     "output_type": "stream",
     "text": [
      "\rMorphologyExtractor create index: 4843057it [00:31, 155161.00it/s]"
     ]
    },
    {
     "name": "stderr",
     "output_type": "stream",
     "text": [
      "\rMorphologyExtractor create index: 4858804it [00:31, 155843.74it/s]"
     ]
    },
    {
     "name": "stderr",
     "output_type": "stream",
     "text": [
      "\rMorphologyExtractor create index: 4874436it [00:31, 155983.57it/s]"
     ]
    },
    {
     "name": "stderr",
     "output_type": "stream",
     "text": [
      "\rMorphologyExtractor create index: 4890039it [00:32, 152755.40it/s]"
     ]
    },
    {
     "name": "stderr",
     "output_type": "stream",
     "text": [
      "\rMorphologyExtractor create index: 4905507it [00:32, 153325.50it/s]"
     ]
    },
    {
     "name": "stderr",
     "output_type": "stream",
     "text": [
      "\rMorphologyExtractor create index: 4920956it [00:32, 153671.51it/s]"
     ]
    },
    {
     "name": "stderr",
     "output_type": "stream",
     "text": [
      "\rMorphologyExtractor create index: 4936333it [00:32, 153509.14it/s]"
     ]
    },
    {
     "name": "stderr",
     "output_type": "stream",
     "text": [
      "\rMorphologyExtractor create index: 4952432it [00:32, 155676.18it/s]"
     ]
    },
    {
     "name": "stderr",
     "output_type": "stream",
     "text": [
      "\rMorphologyExtractor create index: 4968012it [00:32, 155327.27it/s]"
     ]
    },
    {
     "name": "stderr",
     "output_type": "stream",
     "text": [
      "\rMorphologyExtractor create index: 4983699it [00:32, 155785.94it/s]"
     ]
    },
    {
     "name": "stderr",
     "output_type": "stream",
     "text": [
      "\rMorphologyExtractor create index: 4999425it [00:32, 156220.19it/s]"
     ]
    },
    {
     "name": "stderr",
     "output_type": "stream",
     "text": [
      "\rMorphologyExtractor create index: 5015052it [00:32, 156065.65it/s]"
     ]
    },
    {
     "name": "stderr",
     "output_type": "stream",
     "text": [
      "\rMorphologyExtractor create index: 5030662it [00:32, 155555.37it/s]"
     ]
    },
    {
     "name": "stderr",
     "output_type": "stream",
     "text": [
      "\rMorphologyExtractor create index: 5046221it [00:33, 153725.04it/s]"
     ]
    },
    {
     "name": "stderr",
     "output_type": "stream",
     "text": [
      "\rMorphologyExtractor create index: 5061903it [00:33, 154638.38it/s]"
     ]
    },
    {
     "name": "stderr",
     "output_type": "stream",
     "text": [
      "\rMorphologyExtractor create index: 5077818it [00:33, 155964.27it/s]"
     ]
    },
    {
     "name": "stderr",
     "output_type": "stream",
     "text": [
      "\rMorphologyExtractor create index: 5093489it [00:33, 156185.84it/s]"
     ]
    },
    {
     "name": "stderr",
     "output_type": "stream",
     "text": [
      "\rMorphologyExtractor create index: 5096053it [00:33, 152696.35it/s]"
     ]
    },
    {
     "name": "stderr",
     "output_type": "stream",
     "text": [
      "\n"
     ]
    }
   ],
   "source": [
    "import numpy as np\n",
    "from loaders.loading import load_train\n",
    "from sklearn.model_selection import train_test_split\n",
    "from pipeline import transform"
   ]
  },
  {
   "cell_type": "code",
   "execution_count": 2,
   "metadata": {
    "collapsed": true
   },
   "outputs": [
    {
     "name": "stdout",
     "output_type": "stream",
     "text": [
      "<class 'pandas.core.frame.DataFrame'>\nRangeIndex: 10574516 entries, 0 to 10574515\nData columns (total 7 columns):\nclass        object\nbefore       object\nafter        object\nprev_prev    object\nprev         object\nnext         object\nnext_next    object\ndtypes: object(7)\nmemory usage: 564.7+ MB\nNone\n"
     ]
    }
   ],
   "source": [
    "df = load_train(['class', 'before', 'after'], r'../input/norm_challenge_ru')\n",
    "df['prev_prev'] = df['before'].shift(2)\n",
    "df['prev'] = df['before'].shift(1)\n",
    "df['next'] = df['before'].shift(-1)\n",
    "df['next_next'] = df['before'].shift(-2)\n",
    "df = df.fillna('')\n",
    "print(df.info())"
   ]
  },
  {
   "cell_type": "code",
   "execution_count": 3,
   "metadata": {},
   "outputs": [],
   "source": [
    "x_train, x_test, y_train, y_test = train_test_split(df.drop(['after'], axis=1), df['after'], test_size=0.01, random_state=2017)\n",
    "x_test.drop(['class'], axis=1, inplace=True)"
   ]
  },
  {
   "cell_type": "code",
   "execution_count": 4,
   "metadata": {
    "collapsed": false
   },
   "outputs": [
    {
     "name": "stderr",
     "output_type": "stream",
     "text": [
      "\rDictClassTransformer_TRANS fit:   0%|          | 0/10468770 [00:00<?, ?it/s]"
     ]
    },
    {
     "name": "stderr",
     "output_type": "stream",
     "text": [
      "\rDictClassTransformer_TRANS fit:   0%|          | 14064/10468770 [00:01<16:02, 10867.52it/s]"
     ]
    },
    {
     "name": "stderr",
     "output_type": "stream",
     "text": [
      "\rDictClassTransformer_TRANS fit:   1%|          | 63554/10468770 [00:01<11:16, 15380.29it/s]"
     ]
    },
    {
     "name": "stderr",
     "output_type": "stream",
     "text": [
      "\rDictClassTransformer_TRANS fit:   1%|          | 123293/10468770 [00:01<07:56, 21732.05it/s]"
     ]
    },
    {
     "name": "stderr",
     "output_type": "stream",
     "text": [
      "\rDictClassTransformer_TRANS fit:   2%|▏         | 188418/10468770 [00:01<05:35, 30608.03it/s]"
     ]
    },
    {
     "name": "stderr",
     "output_type": "stream",
     "text": [
      "\rDictClassTransformer_TRANS fit:   2%|▏         | 260272/10468770 [00:01<03:57, 42941.79it/s]"
     ]
    },
    {
     "name": "stderr",
     "output_type": "stream",
     "text": [
      "\rDictClassTransformer_TRANS fit:   3%|▎         | 309456/10468770 [00:02<03:56, 43039.42it/s]"
     ]
    },
    {
     "name": "stderr",
     "output_type": "stream",
     "text": [
      "\rDictClassTransformer_TRANS fit:   4%|▎         | 387384/10468770 [00:02<02:47, 60063.20it/s]"
     ]
    },
    {
     "name": "stderr",
     "output_type": "stream",
     "text": [
      "\rDictClassTransformer_TRANS fit:   4%|▍         | 461799/10468770 [00:03<02:00, 82935.67it/s]"
     ]
    },
    {
     "name": "stderr",
     "output_type": "stream",
     "text": [
      "\rDictClassTransformer_TRANS fit:   5%|▌         | 541870/10468770 [00:03<01:27, 113443.70it/s]"
     ]
    },
    {
     "name": "stderr",
     "output_type": "stream",
     "text": [
      "\rDictClassTransformer_TRANS fit:   6%|▌         | 625598/10468770 [00:03<01:04, 153168.26it/s]"
     ]
    },
    {
     "name": "stderr",
     "output_type": "stream",
     "text": [
      "\rDictClassTransformer_TRANS fit:   7%|▋         | 710671/10468770 [00:03<00:48, 203137.41it/s]"
     ]
    },
    {
     "name": "stderr",
     "output_type": "stream",
     "text": [
      "\rDictClassTransformer_TRANS fit:   8%|▊         | 796951/10468770 [00:03<00:36, 263598.22it/s]"
     ]
    },
    {
     "name": "stderr",
     "output_type": "stream",
     "text": [
      "\rDictClassTransformer_TRANS fit:   8%|▊         | 874740/10468770 [00:03<00:30, 319161.88it/s]"
     ]
    },
    {
     "name": "stderr",
     "output_type": "stream",
     "text": [
      "\rDictClassTransformer_TRANS fit:   9%|▉         | 961286/10468770 [00:03<00:24, 393718.15it/s]"
     ]
    },
    {
     "name": "stderr",
     "output_type": "stream",
     "text": [
      "\rDictClassTransformer_TRANS fit:  10%|▉         | 1046607/10468770 [00:03<00:20, 469585.44it/s]"
     ]
    },
    {
     "name": "stderr",
     "output_type": "stream",
     "text": [
      "\rDictClassTransformer_TRANS fit:  11%|█         | 1126292/10468770 [00:03<00:17, 520881.89it/s]"
     ]
    },
    {
     "name": "stderr",
     "output_type": "stream",
     "text": [
      "\rDictClassTransformer_TRANS fit:  12%|█▏        | 1213025/10468770 [00:03<00:15, 591798.51it/s]"
     ]
    },
    {
     "name": "stderr",
     "output_type": "stream",
     "text": [
      "\rDictClassTransformer_TRANS fit:  12%|█▏        | 1292771/10468770 [00:04<00:15, 593705.91it/s]"
     ]
    },
    {
     "name": "stderr",
     "output_type": "stream",
     "text": [
      "\rDictClassTransformer_TRANS fit:  13%|█▎        | 1366540/10468770 [00:04<00:14, 611458.20it/s]"
     ]
    },
    {
     "name": "stderr",
     "output_type": "stream",
     "text": [
      "\rDictClassTransformer_TRANS fit:  14%|█▍        | 1451596/10468770 [00:04<00:13, 667772.05it/s]"
     ]
    },
    {
     "name": "stderr",
     "output_type": "stream",
     "text": [
      "\rDictClassTransformer_TRANS fit:  15%|█▍        | 1536834/10468770 [00:04<00:12, 714172.74it/s]"
     ]
    },
    {
     "name": "stderr",
     "output_type": "stream",
     "text": [
      "\rDictClassTransformer_TRANS fit:  15%|█▌        | 1622476/10468770 [00:04<00:11, 751621.55it/s]"
     ]
    },
    {
     "name": "stderr",
     "output_type": "stream",
     "text": [
      "\rDictClassTransformer_TRANS fit:  16%|█▋        | 1713984/10468770 [00:04<00:11, 794178.51it/s]"
     ]
    },
    {
     "name": "stderr",
     "output_type": "stream",
     "text": [
      "\rDictClassTransformer_TRANS fit:  17%|█▋        | 1805013/10468770 [00:04<00:10, 825773.38it/s]"
     ]
    },
    {
     "name": "stderr",
     "output_type": "stream",
     "text": [
      "\rDictClassTransformer_TRANS fit:  18%|█▊        | 1893374/10468770 [00:04<00:10, 842313.11it/s]"
     ]
    },
    {
     "name": "stderr",
     "output_type": "stream",
     "text": [
      "\rDictClassTransformer_TRANS fit:  19%|█▉        | 1984925/10468770 [00:04<00:09, 863010.91it/s]"
     ]
    },
    {
     "name": "stderr",
     "output_type": "stream",
     "text": [
      "\rDictClassTransformer_TRANS fit:  20%|█▉        | 2076350/10468770 [00:05<00:09, 877768.90it/s]"
     ]
    },
    {
     "name": "stderr",
     "output_type": "stream",
     "text": [
      "\rDictClassTransformer_TRANS fit:  21%|██        | 2166694/10468770 [00:05<00:09, 885307.92it/s]"
     ]
    },
    {
     "name": "stderr",
     "output_type": "stream",
     "text": [
      "\rDictClassTransformer_TRANS fit:  22%|██▏       | 2258427/10468770 [00:05<00:09, 894676.94it/s]"
     ]
    },
    {
     "name": "stderr",
     "output_type": "stream",
     "text": [
      "\rDictClassTransformer_TRANS fit:  22%|██▏       | 2348598/10468770 [00:05<00:09, 838767.44it/s]"
     ]
    },
    {
     "name": "stderr",
     "output_type": "stream",
     "text": [
      "\rDictClassTransformer_TRANS fit:  23%|██▎       | 2433679/10468770 [00:05<00:10, 801376.01it/s]"
     ]
    },
    {
     "name": "stderr",
     "output_type": "stream",
     "text": [
      "\rDictClassTransformer_TRANS fit:  24%|██▍       | 2515012/10468770 [00:05<00:10, 778647.46it/s]"
     ]
    },
    {
     "name": "stderr",
     "output_type": "stream",
     "text": [
      "\rDictClassTransformer_TRANS fit:  25%|██▍       | 2599952/10468770 [00:05<00:09, 798597.11it/s]"
     ]
    },
    {
     "name": "stderr",
     "output_type": "stream",
     "text": [
      "\rDictClassTransformer_TRANS fit:  26%|██▌       | 2693858/10468770 [00:05<00:09, 836112.50it/s]"
     ]
    },
    {
     "name": "stderr",
     "output_type": "stream",
     "text": [
      "\rDictClassTransformer_TRANS fit:  27%|██▋       | 2788068/10468770 [00:05<00:08, 865315.26it/s]"
     ]
    },
    {
     "name": "stderr",
     "output_type": "stream",
     "text": [
      "\rDictClassTransformer_TRANS fit:  28%|██▊       | 2886033/10468770 [00:05<00:08, 896711.42it/s]"
     ]
    },
    {
     "name": "stderr",
     "output_type": "stream",
     "text": [
      "\rDictClassTransformer_TRANS fit:  28%|██▊       | 2981923/10468770 [00:06<00:08, 914501.35it/s]"
     ]
    },
    {
     "name": "stderr",
     "output_type": "stream",
     "text": [
      "\rDictClassTransformer_TRANS fit:  29%|██▉       | 3079451/10468770 [00:06<00:07, 931922.08it/s]"
     ]
    },
    {
     "name": "stderr",
     "output_type": "stream",
     "text": [
      "\rDictClassTransformer_TRANS fit:  30%|███       | 3177682/10468770 [00:06<00:07, 946484.85it/s]"
     ]
    },
    {
     "name": "stderr",
     "output_type": "stream",
     "text": [
      "\rDictClassTransformer_TRANS fit:  31%|███▏      | 3275694/10468770 [00:06<00:07, 956330.07it/s]"
     ]
    },
    {
     "name": "stderr",
     "output_type": "stream",
     "text": [
      "\rDictClassTransformer_TRANS fit:  32%|███▏      | 3372161/10468770 [00:06<00:07, 958814.42it/s]"
     ]
    },
    {
     "name": "stderr",
     "output_type": "stream",
     "text": [
      "\rDictClassTransformer_TRANS fit:  33%|███▎      | 3468301/10468770 [00:06<00:07, 956115.94it/s]"
     ]
    },
    {
     "name": "stderr",
     "output_type": "stream",
     "text": [
      "\rDictClassTransformer_TRANS fit:  34%|███▍      | 3564096/10468770 [00:06<00:07, 953210.25it/s]"
     ]
    },
    {
     "name": "stderr",
     "output_type": "stream",
     "text": [
      "\rDictClassTransformer_TRANS fit:  35%|███▍      | 3662068/10468770 [00:06<00:07, 961010.90it/s]"
     ]
    },
    {
     "name": "stderr",
     "output_type": "stream",
     "text": [
      "\rDictClassTransformer_TRANS fit:  36%|███▌      | 3758276/10468770 [00:06<00:06, 959852.63it/s]"
     ]
    },
    {
     "name": "stderr",
     "output_type": "stream",
     "text": [
      "\rDictClassTransformer_TRANS fit:  37%|███▋      | 3854336/10468770 [00:06<00:06, 957641.92it/s]"
     ]
    },
    {
     "name": "stderr",
     "output_type": "stream",
     "text": [
      "\rDictClassTransformer_TRANS fit:  38%|███▊      | 3951749/10468770 [00:07<00:06, 962526.31it/s]"
     ]
    },
    {
     "name": "stderr",
     "output_type": "stream",
     "text": [
      "\rDictClassTransformer_TRANS fit:  39%|███▊      | 4053770/10468770 [00:07<00:06, 979131.59it/s]"
     ]
    },
    {
     "name": "stderr",
     "output_type": "stream",
     "text": [
      "\rDictClassTransformer_TRANS fit:  40%|███▉      | 4151784/10468770 [00:07<00:06, 976364.35it/s]"
     ]
    },
    {
     "name": "stderr",
     "output_type": "stream",
     "text": [
      "\rDictClassTransformer_TRANS fit:  41%|████      | 4254277/10468770 [00:07<00:06, 990441.35it/s]"
     ]
    },
    {
     "name": "stderr",
     "output_type": "stream",
     "text": [
      "\rDictClassTransformer_TRANS fit:  42%|████▏     | 4354053/10468770 [00:07<00:06, 992625.22it/s]"
     ]
    },
    {
     "name": "stderr",
     "output_type": "stream",
     "text": [
      "\rDictClassTransformer_TRANS fit:  43%|████▎     | 4453387/10468770 [00:07<00:06, 976152.90it/s]"
     ]
    },
    {
     "name": "stderr",
     "output_type": "stream",
     "text": [
      "\rDictClassTransformer_TRANS fit:  44%|████▎     | 4554611/10468770 [00:07<00:05, 986702.78it/s]"
     ]
    },
    {
     "name": "stderr",
     "output_type": "stream",
     "text": [
      "\rDictClassTransformer_TRANS fit:  44%|████▍     | 4654001/10468770 [00:07<00:05, 988847.74it/s]"
     ]
    },
    {
     "name": "stderr",
     "output_type": "stream",
     "text": [
      "\rDictClassTransformer_TRANS fit:  45%|████▌     | 4753228/10468770 [00:07<00:05, 989868.69it/s]"
     ]
    },
    {
     "name": "stderr",
     "output_type": "stream",
     "text": [
      "\rDictClassTransformer_TRANS fit:  46%|████▋     | 4852268/10468770 [00:07<00:05, 974978.67it/s]"
     ]
    },
    {
     "name": "stderr",
     "output_type": "stream",
     "text": [
      "\rDictClassTransformer_TRANS fit:  47%|████▋     | 4949854/10468770 [00:08<00:05, 971692.54it/s]"
     ]
    },
    {
     "name": "stderr",
     "output_type": "stream",
     "text": [
      "\rDictClassTransformer_TRANS fit:  48%|████▊     | 5047087/10468770 [00:08<00:05, 959727.70it/s]"
     ]
    },
    {
     "name": "stderr",
     "output_type": "stream",
     "text": [
      "\rDictClassTransformer_TRANS fit:  49%|████▉     | 5143138/10468770 [00:08<00:05, 950396.06it/s]"
     ]
    },
    {
     "name": "stderr",
     "output_type": "stream",
     "text": [
      "\rDictClassTransformer_TRANS fit:  50%|█████     | 5238253/10468770 [00:08<00:05, 935881.13it/s]"
     ]
    },
    {
     "name": "stderr",
     "output_type": "stream",
     "text": [
      "\rDictClassTransformer_TRANS fit:  51%|█████     | 5336655/10468770 [00:08<00:05, 949818.52it/s]"
     ]
    },
    {
     "name": "stderr",
     "output_type": "stream",
     "text": [
      "\rDictClassTransformer_TRANS fit:  52%|█████▏    | 5433649/10468770 [00:08<00:05, 955763.66it/s]"
     ]
    },
    {
     "name": "stderr",
     "output_type": "stream",
     "text": [
      "\rDictClassTransformer_TRANS fit:  53%|█████▎    | 5530222/10468770 [00:08<00:05, 958728.76it/s]"
     ]
    },
    {
     "name": "stderr",
     "output_type": "stream",
     "text": [
      "\rDictClassTransformer_TRANS fit:  54%|█████▎    | 5626163/10468770 [00:08<00:05, 943194.70it/s]"
     ]
    },
    {
     "name": "stderr",
     "output_type": "stream",
     "text": [
      "\rDictClassTransformer_TRANS fit:  55%|█████▍    | 5720587/10468770 [00:08<00:05, 914458.66it/s]"
     ]
    },
    {
     "name": "stderr",
     "output_type": "stream",
     "text": [
      "\rDictClassTransformer_TRANS fit:  56%|█████▌    | 5812297/10468770 [00:09<00:05, 899027.25it/s]"
     ]
    },
    {
     "name": "stderr",
     "output_type": "stream",
     "text": [
      "\rDictClassTransformer_TRANS fit:  56%|█████▋    | 5903704/10468770 [00:09<00:05, 903486.17it/s]"
     ]
    },
    {
     "name": "stderr",
     "output_type": "stream",
     "text": [
      "\rDictClassTransformer_TRANS fit:  57%|█████▋    | 5994228/10468770 [00:09<00:04, 903086.20it/s]"
     ]
    },
    {
     "name": "stderr",
     "output_type": "stream",
     "text": [
      "\rDictClassTransformer_TRANS fit:  58%|█████▊    | 6084660/10468770 [00:09<00:04, 896227.19it/s]"
     ]
    },
    {
     "name": "stderr",
     "output_type": "stream",
     "text": [
      "\rDictClassTransformer_TRANS fit:  59%|█████▉    | 6180551/10468770 [00:09<00:04, 914152.10it/s]"
     ]
    },
    {
     "name": "stderr",
     "output_type": "stream",
     "text": [
      "\rDictClassTransformer_TRANS fit:  60%|█████▉    | 6275885/10468770 [00:09<00:04, 925565.58it/s]"
     ]
    },
    {
     "name": "stderr",
     "output_type": "stream",
     "text": [
      "\rDictClassTransformer_TRANS fit:  61%|██████    | 6369052/10468770 [00:09<00:04, 927382.81it/s]"
     ]
    },
    {
     "name": "stderr",
     "output_type": "stream",
     "text": [
      "\rDictClassTransformer_TRANS fit:  62%|██████▏   | 6464653/10468770 [00:09<00:04, 935787.62it/s]"
     ]
    },
    {
     "name": "stderr",
     "output_type": "stream",
     "text": [
      "\rDictClassTransformer_TRANS fit:  63%|██████▎   | 6558321/10468770 [00:10<00:17, 218775.28it/s]"
     ]
    },
    {
     "name": "stderr",
     "output_type": "stream",
     "text": [
      "\rDictClassTransformer_TRANS fit:  64%|██████▎   | 6650576/10468770 [00:11<00:13, 283702.73it/s]"
     ]
    },
    {
     "name": "stderr",
     "output_type": "stream",
     "text": [
      "\rDictClassTransformer_TRANS fit:  64%|██████▍   | 6740207/10468770 [00:11<00:10, 356877.76it/s]"
     ]
    },
    {
     "name": "stderr",
     "output_type": "stream",
     "text": [
      "\rDictClassTransformer_TRANS fit:  65%|██████▌   | 6834279/10468770 [00:11<00:08, 438527.04it/s]"
     ]
    },
    {
     "name": "stderr",
     "output_type": "stream",
     "text": [
      "\rDictClassTransformer_TRANS fit:  66%|██████▌   | 6931162/10468770 [00:11<00:06, 524684.50it/s]"
     ]
    },
    {
     "name": "stderr",
     "output_type": "stream",
     "text": [
      "\rDictClassTransformer_TRANS fit:  67%|██████▋   | 7022109/10468770 [00:11<00:05, 600962.26it/s]"
     ]
    },
    {
     "name": "stderr",
     "output_type": "stream",
     "text": [
      "\rDictClassTransformer_TRANS fit:  68%|██████▊   | 7112575/10468770 [00:11<00:05, 668260.83it/s]"
     ]
    },
    {
     "name": "stderr",
     "output_type": "stream",
     "text": [
      "\rDictClassTransformer_TRANS fit:  69%|██████▉   | 7203161/10468770 [00:11<00:04, 725333.67it/s]"
     ]
    },
    {
     "name": "stderr",
     "output_type": "stream",
     "text": [
      "\rDictClassTransformer_TRANS fit:  70%|██████▉   | 7292818/10468770 [00:11<00:04, 767100.39it/s]"
     ]
    },
    {
     "name": "stderr",
     "output_type": "stream",
     "text": [
      "\rDictClassTransformer_TRANS fit:  71%|███████   | 7382163/10468770 [00:11<00:03, 799711.95it/s]"
     ]
    },
    {
     "name": "stderr",
     "output_type": "stream",
     "text": [
      "\rDictClassTransformer_TRANS fit:  71%|███████▏  | 7476879/10468770 [00:11<00:03, 838887.47it/s]"
     ]
    },
    {
     "name": "stderr",
     "output_type": "stream",
     "text": [
      "\rDictClassTransformer_TRANS fit:  72%|███████▏  | 7571914/10468770 [00:12<00:03, 869478.74it/s]"
     ]
    },
    {
     "name": "stderr",
     "output_type": "stream",
     "text": [
      "\rDictClassTransformer_TRANS fit:  73%|███████▎  | 7666585/10468770 [00:12<00:03, 891291.48it/s]"
     ]
    },
    {
     "name": "stderr",
     "output_type": "stream",
     "text": [
      "\rDictClassTransformer_TRANS fit:  74%|███████▍  | 7762377/10468770 [00:12<00:02, 910283.85it/s]"
     ]
    },
    {
     "name": "stderr",
     "output_type": "stream",
     "text": [
      "\rDictClassTransformer_TRANS fit:  75%|███████▌  | 7860925/10468770 [00:12<00:02, 931609.15it/s]"
     ]
    },
    {
     "name": "stderr",
     "output_type": "stream",
     "text": [
      "\rDictClassTransformer_TRANS fit:  76%|███████▌  | 7957826/10468770 [00:12<00:02, 942520.35it/s]"
     ]
    },
    {
     "name": "stderr",
     "output_type": "stream",
     "text": [
      "\rDictClassTransformer_TRANS fit:  77%|███████▋  | 8057350/10468770 [00:12<00:02, 957739.92it/s]"
     ]
    },
    {
     "name": "stderr",
     "output_type": "stream",
     "text": [
      "\rDictClassTransformer_TRANS fit:  78%|███████▊  | 8154198/10468770 [00:12<00:02, 956257.21it/s]"
     ]
    },
    {
     "name": "stderr",
     "output_type": "stream",
     "text": [
      "\rDictClassTransformer_TRANS fit:  79%|███████▉  | 8254285/10468770 [00:12<00:02, 969217.38it/s]"
     ]
    },
    {
     "name": "stderr",
     "output_type": "stream",
     "text": [
      "\rDictClassTransformer_TRANS fit:  80%|███████▉  | 8351776/10468770 [00:12<00:02, 924082.70it/s]"
     ]
    },
    {
     "name": "stderr",
     "output_type": "stream",
     "text": [
      "\rDictClassTransformer_TRANS fit:  81%|████████  | 8445036/10468770 [00:12<00:02, 926618.48it/s]"
     ]
    },
    {
     "name": "stderr",
     "output_type": "stream",
     "text": [
      "\rDictClassTransformer_TRANS fit:  82%|████████▏ | 8543531/10468770 [00:13<00:02, 943373.80it/s]"
     ]
    },
    {
     "name": "stderr",
     "output_type": "stream",
     "text": [
      "\rDictClassTransformer_TRANS fit:  83%|████████▎ | 8639881/10468770 [00:13<00:01, 949320.41it/s]"
     ]
    },
    {
     "name": "stderr",
     "output_type": "stream",
     "text": [
      "\rDictClassTransformer_TRANS fit:  83%|████████▎ | 8735163/10468770 [00:13<00:01, 943773.53it/s]"
     ]
    },
    {
     "name": "stderr",
     "output_type": "stream",
     "text": [
      "\rDictClassTransformer_TRANS fit:  84%|████████▍ | 8829876/10468770 [00:13<00:01, 944769.48it/s]"
     ]
    },
    {
     "name": "stderr",
     "output_type": "stream",
     "text": [
      "\rDictClassTransformer_TRANS fit:  85%|████████▌ | 8926582/10468770 [00:13<00:01, 951345.58it/s]"
     ]
    },
    {
     "name": "stderr",
     "output_type": "stream",
     "text": [
      "\rDictClassTransformer_TRANS fit:  86%|████████▌ | 9024788/10468770 [00:13<00:01, 960353.18it/s]"
     ]
    },
    {
     "name": "stderr",
     "output_type": "stream",
     "text": [
      "\rDictClassTransformer_TRANS fit:  87%|████████▋ | 9121665/10468770 [00:13<00:01, 962860.36it/s]"
     ]
    },
    {
     "name": "stderr",
     "output_type": "stream",
     "text": [
      "\rDictClassTransformer_TRANS fit:  88%|████████▊ | 9218033/10468770 [00:13<00:01, 953166.82it/s]"
     ]
    },
    {
     "name": "stderr",
     "output_type": "stream",
     "text": [
      "\rDictClassTransformer_TRANS fit:  89%|████████▉ | 9313430/10468770 [00:13<00:01, 941589.95it/s]"
     ]
    },
    {
     "name": "stderr",
     "output_type": "stream",
     "text": [
      "\rDictClassTransformer_TRANS fit:  90%|████████▉ | 9408472/10468770 [00:13<00:01, 944218.60it/s]"
     ]
    },
    {
     "name": "stderr",
     "output_type": "stream",
     "text": [
      "\rDictClassTransformer_TRANS fit:  91%|█████████ | 9502957/10468770 [00:14<00:01, 943680.92it/s]"
     ]
    },
    {
     "name": "stderr",
     "output_type": "stream",
     "text": [
      "\rDictClassTransformer_TRANS fit:  92%|█████████▏| 9600274/10468770 [00:14<00:00, 952335.87it/s]"
     ]
    },
    {
     "name": "stderr",
     "output_type": "stream",
     "text": [
      "\rDictClassTransformer_TRANS fit:  93%|█████████▎| 9697722/10468770 [00:14<00:00, 958856.11it/s]"
     ]
    },
    {
     "name": "stderr",
     "output_type": "stream",
     "text": [
      "\rDictClassTransformer_TRANS fit:  94%|█████████▎| 9795347/10468770 [00:14<00:00, 964000.27it/s]"
     ]
    },
    {
     "name": "stderr",
     "output_type": "stream",
     "text": [
      "\rDictClassTransformer_TRANS fit:  94%|█████████▍| 9891786/10468770 [00:14<00:00, 957210.58it/s]"
     ]
    },
    {
     "name": "stderr",
     "output_type": "stream",
     "text": [
      "\rDictClassTransformer_TRANS fit:  95%|█████████▌| 9987545/10468770 [00:14<00:00, 945320.30it/s]"
     ]
    },
    {
     "name": "stderr",
     "output_type": "stream",
     "text": [
      "\rDictClassTransformer_TRANS fit:  96%|█████████▋| 10082138/10468770 [00:14<00:00, 940127.05it/s]"
     ]
    },
    {
     "name": "stderr",
     "output_type": "stream",
     "text": [
      "\rDictClassTransformer_TRANS fit:  97%|█████████▋| 10176200/10468770 [00:14<00:00, 887095.61it/s]"
     ]
    },
    {
     "name": "stderr",
     "output_type": "stream",
     "text": [
      "\rDictClassTransformer_TRANS fit:  98%|█████████▊| 10274184/10468770 [00:14<00:00, 913019.38it/s]"
     ]
    },
    {
     "name": "stderr",
     "output_type": "stream",
     "text": [
      "\rDictClassTransformer_TRANS fit:  99%|█████████▉| 10370293/10468770 [00:14<00:00, 926927.58it/s]"
     ]
    },
    {
     "name": "stderr",
     "output_type": "stream",
     "text": [
      "\rDictClassTransformer_TRANS fit: 100%|█████████▉| 10463515/10468770 [00:15<00:00, 928500.65it/s]"
     ]
    },
    {
     "name": "stderr",
     "output_type": "stream",
     "text": [
      "\rDictClassTransformer_TRANS fit: 100%|██████████| 10468770/10468770 [00:15<00:00, 685110.40it/s]"
     ]
    },
    {
     "name": "stderr",
     "output_type": "stream",
     "text": [
      "\n\rDictClassTransformer_PUNCT fit:   0%|          | 0/10468770 [00:00<?, ?it/s]"
     ]
    },
    {
     "name": "stderr",
     "output_type": "stream",
     "text": [
      "\rDictClassTransformer_PUNCT fit:   1%|          | 77127/10468770 [00:00<00:13, 771268.90it/s]"
     ]
    },
    {
     "name": "stderr",
     "output_type": "stream",
     "text": [
      "\rDictClassTransformer_PUNCT fit:   2%|▏         | 166797/10468770 [00:00<00:12, 805049.92it/s]"
     ]
    },
    {
     "name": "stderr",
     "output_type": "stream",
     "text": [
      "\rDictClassTransformer_PUNCT fit:   2%|▏         | 254013/10468770 [00:00<00:12, 824070.34it/s]"
     ]
    },
    {
     "name": "stderr",
     "output_type": "stream",
     "text": [
      "\rDictClassTransformer_PUNCT fit:   3%|▎         | 342329/10468770 [00:00<00:12, 840947.93it/s]"
     ]
    },
    {
     "name": "stderr",
     "output_type": "stream",
     "text": [
      "\rDictClassTransformer_PUNCT fit:   4%|▍         | 436720/10468770 [00:00<00:11, 869397.88it/s]"
     ]
    },
    {
     "name": "stderr",
     "output_type": "stream",
     "text": [
      "\rDictClassTransformer_PUNCT fit:   5%|▌         | 534580/10468770 [00:00<00:11, 899508.71it/s]"
     ]
    },
    {
     "name": "stderr",
     "output_type": "stream",
     "text": [
      "\rDictClassTransformer_PUNCT fit:   6%|▌         | 629918/10468770 [00:00<00:10, 914983.02it/s]"
     ]
    },
    {
     "name": "stderr",
     "output_type": "stream",
     "text": [
      "\rDictClassTransformer_PUNCT fit:   7%|▋         | 727265/10468770 [00:00<00:10, 931774.71it/s]"
     ]
    },
    {
     "name": "stderr",
     "output_type": "stream",
     "text": [
      "\rDictClassTransformer_PUNCT fit:   8%|▊         | 816415/10468770 [00:00<00:10, 878866.82it/s]"
     ]
    },
    {
     "name": "stderr",
     "output_type": "stream",
     "text": [
      "\rDictClassTransformer_PUNCT fit:   9%|▊         | 906907/10468770 [00:01<00:10, 886521.65it/s]"
     ]
    },
    {
     "name": "stderr",
     "output_type": "stream",
     "text": [
      "\rDictClassTransformer_PUNCT fit:  10%|▉         | 1011048/10468770 [00:01<00:10, 927921.84it/s]"
     ]
    },
    {
     "name": "stderr",
     "output_type": "stream",
     "text": [
      "\rDictClassTransformer_PUNCT fit:  11%|█         | 1119151/10468770 [00:01<00:09, 969095.51it/s]"
     ]
    },
    {
     "name": "stderr",
     "output_type": "stream",
     "text": [
      "\rDictClassTransformer_PUNCT fit:  12%|█▏        | 1226810/10468770 [00:01<00:09, 999017.94it/s]"
     ]
    },
    {
     "name": "stderr",
     "output_type": "stream",
     "text": [
      "\rDictClassTransformer_PUNCT fit:  13%|█▎        | 1331984/10468770 [00:01<00:09, 1014267.86it/s]"
     ]
    },
    {
     "name": "stderr",
     "output_type": "stream",
     "text": [
      "\rDictClassTransformer_PUNCT fit:  14%|█▎        | 1439443/10468770 [00:01<00:08, 1031637.96it/s]"
     ]
    },
    {
     "name": "stderr",
     "output_type": "stream",
     "text": [
      "\rDictClassTransformer_PUNCT fit:  15%|█▍        | 1550279/10468770 [00:01<00:08, 1053513.79it/s]"
     ]
    },
    {
     "name": "stderr",
     "output_type": "stream",
     "text": [
      "\rDictClassTransformer_PUNCT fit:  16%|█▌        | 1655923/10468770 [00:01<00:08, 1053074.68it/s]"
     ]
    },
    {
     "name": "stderr",
     "output_type": "stream",
     "text": [
      "\rDictClassTransformer_PUNCT fit:  17%|█▋        | 1761435/10468770 [00:01<00:08, 1034125.08it/s]"
     ]
    },
    {
     "name": "stderr",
     "output_type": "stream",
     "text": [
      "\rDictClassTransformer_PUNCT fit:  18%|█▊        | 1869762/10468770 [00:01<00:08, 1048393.45it/s]"
     ]
    },
    {
     "name": "stderr",
     "output_type": "stream",
     "text": [
      "\rDictClassTransformer_PUNCT fit:  19%|█▉        | 1976934/10468770 [00:02<00:08, 1055281.42it/s]"
     ]
    },
    {
     "name": "stderr",
     "output_type": "stream",
     "text": [
      "\rDictClassTransformer_PUNCT fit:  20%|█▉        | 2088352/10468770 [00:02<00:07, 1072286.17it/s]"
     ]
    },
    {
     "name": "stderr",
     "output_type": "stream",
     "text": [
      "\rDictClassTransformer_PUNCT fit:  21%|██        | 2200834/10468770 [00:02<00:07, 1087521.04it/s]"
     ]
    },
    {
     "name": "stderr",
     "output_type": "stream",
     "text": [
      "\rDictClassTransformer_PUNCT fit:  22%|██▏       | 2309760/10468770 [00:02<00:07, 1087035.16it/s]"
     ]
    },
    {
     "name": "stderr",
     "output_type": "stream",
     "text": [
      "\rDictClassTransformer_PUNCT fit:  23%|██▎       | 2418585/10468770 [00:02<00:07, 1064176.59it/s]"
     ]
    },
    {
     "name": "stderr",
     "output_type": "stream",
     "text": [
      "\rDictClassTransformer_PUNCT fit:  24%|██▍       | 2525195/10468770 [00:02<00:07, 1052298.82it/s]"
     ]
    },
    {
     "name": "stderr",
     "output_type": "stream",
     "text": [
      "\rDictClassTransformer_PUNCT fit:  25%|██▌       | 2630590/10468770 [00:02<00:07, 1048917.92it/s]"
     ]
    },
    {
     "name": "stderr",
     "output_type": "stream",
     "text": [
      "\rDictClassTransformer_PUNCT fit:  26%|██▌       | 2737848/10468770 [00:02<00:07, 1055905.75it/s]"
     ]
    },
    {
     "name": "stderr",
     "output_type": "stream",
     "text": [
      "\rDictClassTransformer_PUNCT fit:  27%|██▋       | 2850076/10468770 [00:02<00:07, 1074972.44it/s]"
     ]
    },
    {
     "name": "stderr",
     "output_type": "stream",
     "text": [
      "\rDictClassTransformer_PUNCT fit:  28%|██▊       | 2959994/10468770 [00:02<00:06, 1082119.26it/s]"
     ]
    },
    {
     "name": "stderr",
     "output_type": "stream",
     "text": [
      "\rDictClassTransformer_PUNCT fit:  29%|██▉       | 3068322/10468770 [00:03<00:06, 1081640.35it/s]"
     ]
    },
    {
     "name": "stderr",
     "output_type": "stream",
     "text": [
      "\rDictClassTransformer_PUNCT fit:  30%|███       | 3178427/10468770 [00:03<00:06, 1087389.78it/s]"
     ]
    },
    {
     "name": "stderr",
     "output_type": "stream",
     "text": [
      "\rDictClassTransformer_PUNCT fit:  31%|███▏      | 3289078/10468770 [00:03<00:06, 1093053.32it/s]"
     ]
    },
    {
     "name": "stderr",
     "output_type": "stream",
     "text": [
      "\rDictClassTransformer_PUNCT fit:  33%|███▎      | 3404357/10468770 [00:03<00:06, 1110310.48it/s]"
     ]
    },
    {
     "name": "stderr",
     "output_type": "stream",
     "text": [
      "\rDictClassTransformer_PUNCT fit:  34%|███▎      | 3515491/10468770 [00:03<00:06, 1100706.08it/s]"
     ]
    },
    {
     "name": "stderr",
     "output_type": "stream",
     "text": [
      "\rDictClassTransformer_PUNCT fit:  35%|███▍      | 3628066/10468770 [00:03<00:06, 1108101.00it/s]"
     ]
    },
    {
     "name": "stderr",
     "output_type": "stream",
     "text": [
      "\rDictClassTransformer_PUNCT fit:  36%|███▌      | 3738952/10468770 [00:03<00:06, 1097426.60it/s]"
     ]
    },
    {
     "name": "stderr",
     "output_type": "stream",
     "text": [
      "\rDictClassTransformer_PUNCT fit:  37%|███▋      | 3849128/10468770 [00:03<00:06, 1097259.00it/s]"
     ]
    },
    {
     "name": "stderr",
     "output_type": "stream",
     "text": [
      "\rDictClassTransformer_PUNCT fit:  38%|███▊      | 3958908/10468770 [00:03<00:06, 1078912.58it/s]"
     ]
    },
    {
     "name": "stderr",
     "output_type": "stream",
     "text": [
      "\rDictClassTransformer_PUNCT fit:  39%|███▉      | 4066906/10468770 [00:03<00:05, 1074218.33it/s]"
     ]
    },
    {
     "name": "stderr",
     "output_type": "stream",
     "text": [
      "\rDictClassTransformer_PUNCT fit:  40%|███▉      | 4174407/10468770 [00:04<00:05, 1071781.97it/s]"
     ]
    },
    {
     "name": "stderr",
     "output_type": "stream",
     "text": [
      "\rDictClassTransformer_PUNCT fit:  41%|████      | 4281642/10468770 [00:04<00:05, 1067091.04it/s]"
     ]
    },
    {
     "name": "stderr",
     "output_type": "stream",
     "text": [
      "\rDictClassTransformer_PUNCT fit:  42%|████▏     | 4388396/10468770 [00:04<00:05, 1064852.65it/s]"
     ]
    },
    {
     "name": "stderr",
     "output_type": "stream",
     "text": [
      "\rDictClassTransformer_PUNCT fit:  43%|████▎     | 4494914/10468770 [00:04<00:05, 1009742.47it/s]"
     ]
    },
    {
     "name": "stderr",
     "output_type": "stream",
     "text": [
      "\rDictClassTransformer_PUNCT fit:  44%|████▍     | 4598642/10468770 [00:04<00:05, 1017845.69it/s]"
     ]
    },
    {
     "name": "stderr",
     "output_type": "stream",
     "text": [
      "\rDictClassTransformer_PUNCT fit:  45%|████▍     | 4705913/10468770 [00:04<00:05, 1033704.67it/s]"
     ]
    },
    {
     "name": "stderr",
     "output_type": "stream",
     "text": [
      "\rDictClassTransformer_PUNCT fit:  46%|████▌     | 4812404/10468770 [00:04<00:05, 1042872.10it/s]"
     ]
    },
    {
     "name": "stderr",
     "output_type": "stream",
     "text": [
      "\rDictClassTransformer_PUNCT fit:  47%|████▋     | 4916972/10468770 [00:05<00:08, 617894.16it/s] "
     ]
    },
    {
     "name": "stderr",
     "output_type": "stream",
     "text": [
      "\rDictClassTransformer_PUNCT fit:  48%|████▊     | 5016007/10468770 [00:05<00:07, 696472.61it/s]"
     ]
    },
    {
     "name": "stderr",
     "output_type": "stream",
     "text": [
      "\rDictClassTransformer_PUNCT fit:  49%|████▉     | 5114834/10468770 [00:05<00:07, 764156.98it/s]"
     ]
    },
    {
     "name": "stderr",
     "output_type": "stream",
     "text": [
      "\rDictClassTransformer_PUNCT fit:  50%|████▉     | 5213904/10468770 [00:05<00:06, 820436.68it/s]"
     ]
    },
    {
     "name": "stderr",
     "output_type": "stream",
     "text": [
      "\rDictClassTransformer_PUNCT fit:  51%|█████     | 5318159/10468770 [00:05<00:05, 876454.48it/s]"
     ]
    },
    {
     "name": "stderr",
     "output_type": "stream",
     "text": [
      "\rDictClassTransformer_PUNCT fit:  52%|█████▏    | 5414814/10468770 [00:05<00:05, 891935.55it/s]"
     ]
    },
    {
     "name": "stderr",
     "output_type": "stream",
     "text": [
      "\rDictClassTransformer_PUNCT fit:  53%|█████▎    | 5522221/10468770 [00:05<00:05, 939734.93it/s]"
     ]
    },
    {
     "name": "stderr",
     "output_type": "stream",
     "text": [
      "\rDictClassTransformer_PUNCT fit:  54%|█████▍    | 5628478/10468770 [00:05<00:04, 973494.03it/s]"
     ]
    },
    {
     "name": "stderr",
     "output_type": "stream",
     "text": [
      "\rDictClassTransformer_PUNCT fit:  55%|█████▍    | 5733725/10468770 [00:05<00:04, 995911.22it/s]"
     ]
    },
    {
     "name": "stderr",
     "output_type": "stream",
     "text": [
      "\rDictClassTransformer_PUNCT fit:  56%|█████▌    | 5841942/10468770 [00:05<00:04, 1020309.19it/s]"
     ]
    },
    {
     "name": "stderr",
     "output_type": "stream",
     "text": [
      "\rDictClassTransformer_PUNCT fit:  57%|█████▋    | 5948034/10468770 [00:06<00:04, 1032158.88it/s]"
     ]
    },
    {
     "name": "stderr",
     "output_type": "stream",
     "text": [
      "\rDictClassTransformer_PUNCT fit:  58%|█████▊    | 6055430/10468770 [00:06<00:04, 1044350.90it/s]"
     ]
    },
    {
     "name": "stderr",
     "output_type": "stream",
     "text": [
      "\rDictClassTransformer_PUNCT fit:  59%|█████▉    | 6166906/10468770 [00:06<00:04, 1064519.08it/s]"
     ]
    },
    {
     "name": "stderr",
     "output_type": "stream",
     "text": [
      "\rDictClassTransformer_PUNCT fit:  60%|█████▉    | 6274232/10468770 [00:06<00:03, 1063383.27it/s]"
     ]
    },
    {
     "name": "stderr",
     "output_type": "stream",
     "text": [
      "\rDictClassTransformer_PUNCT fit:  61%|██████    | 6382681/10468770 [00:06<00:03, 1069628.06it/s]"
     ]
    },
    {
     "name": "stderr",
     "output_type": "stream",
     "text": [
      "\rDictClassTransformer_PUNCT fit:  62%|██████▏   | 6490081/10468770 [00:06<00:03, 1054880.16it/s]"
     ]
    },
    {
     "name": "stderr",
     "output_type": "stream",
     "text": [
      "\rDictClassTransformer_PUNCT fit:  63%|██████▎   | 6600683/10468770 [00:06<00:03, 1069718.12it/s]"
     ]
    },
    {
     "name": "stderr",
     "output_type": "stream",
     "text": [
      "\rDictClassTransformer_PUNCT fit:  64%|██████▍   | 6707952/10468770 [00:06<00:03, 1069420.37it/s]"
     ]
    },
    {
     "name": "stderr",
     "output_type": "stream",
     "text": [
      "\rDictClassTransformer_PUNCT fit:  65%|██████▌   | 6821114/10468770 [00:06<00:03, 1087349.82it/s]"
     ]
    },
    {
     "name": "stderr",
     "output_type": "stream",
     "text": [
      "\rDictClassTransformer_PUNCT fit:  66%|██████▌   | 6930646/10468770 [00:06<00:03, 1089726.66it/s]"
     ]
    },
    {
     "name": "stderr",
     "output_type": "stream",
     "text": [
      "\rDictClassTransformer_PUNCT fit:  67%|██████▋   | 7043455/10468770 [00:07<00:03, 1100957.63it/s]"
     ]
    },
    {
     "name": "stderr",
     "output_type": "stream",
     "text": [
      "\rDictClassTransformer_PUNCT fit:  68%|██████▊   | 7153687/10468770 [00:07<00:03, 1090890.17it/s]"
     ]
    },
    {
     "name": "stderr",
     "output_type": "stream",
     "text": [
      "\rDictClassTransformer_PUNCT fit:  69%|██████▉   | 7266074/10468770 [00:07<00:02, 1100576.30it/s]"
     ]
    },
    {
     "name": "stderr",
     "output_type": "stream",
     "text": [
      "\rDictClassTransformer_PUNCT fit:  70%|███████   | 7376234/10468770 [00:07<00:02, 1098929.19it/s]"
     ]
    },
    {
     "name": "stderr",
     "output_type": "stream",
     "text": [
      "\rDictClassTransformer_PUNCT fit:  72%|███████▏  | 7486199/10468770 [00:07<00:02, 1065520.36it/s]"
     ]
    },
    {
     "name": "stderr",
     "output_type": "stream",
     "text": [
      "\rDictClassTransformer_PUNCT fit:  73%|███████▎  | 7597593/10468770 [00:07<00:02, 1079597.98it/s]"
     ]
    },
    {
     "name": "stderr",
     "output_type": "stream",
     "text": [
      "\rDictClassTransformer_PUNCT fit:  74%|███████▎  | 7711501/10468770 [00:07<00:02, 1096777.21it/s]"
     ]
    },
    {
     "name": "stderr",
     "output_type": "stream",
     "text": [
      "\rDictClassTransformer_PUNCT fit:  75%|███████▍  | 7821410/10468770 [00:07<00:02, 1088771.30it/s]"
     ]
    },
    {
     "name": "stderr",
     "output_type": "stream",
     "text": [
      "\rDictClassTransformer_PUNCT fit:  76%|███████▌  | 7930462/10468770 [00:07<00:02, 1078478.28it/s]"
     ]
    },
    {
     "name": "stderr",
     "output_type": "stream",
     "text": [
      "\rDictClassTransformer_PUNCT fit:  77%|███████▋  | 8038455/10468770 [00:07<00:02, 1060843.80it/s]"
     ]
    },
    {
     "name": "stderr",
     "output_type": "stream",
     "text": [
      "\rDictClassTransformer_PUNCT fit:  78%|███████▊  | 8145154/10468770 [00:08<00:02, 1062679.76it/s]"
     ]
    },
    {
     "name": "stderr",
     "output_type": "stream",
     "text": [
      "\rDictClassTransformer_PUNCT fit:  79%|███████▉  | 8255020/10468770 [00:08<00:02, 1073221.23it/s]"
     ]
    },
    {
     "name": "stderr",
     "output_type": "stream",
     "text": [
      "\rDictClassTransformer_PUNCT fit:  80%|███████▉  | 8367785/10468770 [00:08<00:01, 1088989.60it/s]"
     ]
    },
    {
     "name": "stderr",
     "output_type": "stream",
     "text": [
      "\rDictClassTransformer_PUNCT fit:  81%|████████  | 8477444/10468770 [00:08<00:01, 1091255.84it/s]"
     ]
    },
    {
     "name": "stderr",
     "output_type": "stream",
     "text": [
      "\rDictClassTransformer_PUNCT fit:  82%|████████▏ | 8589578/10468770 [00:08<00:01, 1100109.76it/s]"
     ]
    },
    {
     "name": "stderr",
     "output_type": "stream",
     "text": [
      "\rDictClassTransformer_PUNCT fit:  83%|████████▎ | 8704764/10468770 [00:08<00:01, 1115133.26it/s]"
     ]
    },
    {
     "name": "stderr",
     "output_type": "stream",
     "text": [
      "\rDictClassTransformer_PUNCT fit:  84%|████████▍ | 8816385/10468770 [00:08<00:01, 1112321.48it/s]"
     ]
    },
    {
     "name": "stderr",
     "output_type": "stream",
     "text": [
      "\rDictClassTransformer_PUNCT fit:  85%|████████▌ | 8927694/10468770 [00:08<00:01, 1097977.19it/s]"
     ]
    },
    {
     "name": "stderr",
     "output_type": "stream",
     "text": [
      "\rDictClassTransformer_PUNCT fit:  86%|████████▋ | 9038139/10468770 [00:08<00:01, 1099907.45it/s]"
     ]
    },
    {
     "name": "stderr",
     "output_type": "stream",
     "text": [
      "\rDictClassTransformer_PUNCT fit:  87%|████████▋ | 9149415/10468770 [00:08<00:01, 1103729.11it/s]"
     ]
    },
    {
     "name": "stderr",
     "output_type": "stream",
     "text": [
      "\rDictClassTransformer_PUNCT fit:  88%|████████▊ | 9259839/10468770 [00:09<00:01, 1100765.05it/s]"
     ]
    },
    {
     "name": "stderr",
     "output_type": "stream",
     "text": [
      "\rDictClassTransformer_PUNCT fit:  90%|████████▉ | 9372602/10468770 [00:09<00:00, 1108688.69it/s]"
     ]
    },
    {
     "name": "stderr",
     "output_type": "stream",
     "text": [
      "\rDictClassTransformer_PUNCT fit:  91%|█████████ | 9483885/10468770 [00:09<00:00, 1109921.03it/s]"
     ]
    },
    {
     "name": "stderr",
     "output_type": "stream",
     "text": [
      "\rDictClassTransformer_PUNCT fit:  92%|█████████▏| 9597579/10468770 [00:09<00:00, 1117887.30it/s]"
     ]
    },
    {
     "name": "stderr",
     "output_type": "stream",
     "text": [
      "\rDictClassTransformer_PUNCT fit:  93%|█████████▎| 9710085/10468770 [00:09<00:00, 1120026.62it/s]"
     ]
    },
    {
     "name": "stderr",
     "output_type": "stream",
     "text": [
      "\rDictClassTransformer_PUNCT fit:  94%|█████████▍| 9822112/10468770 [00:09<00:00, 1117859.93it/s]"
     ]
    },
    {
     "name": "stderr",
     "output_type": "stream",
     "text": [
      "\rDictClassTransformer_PUNCT fit:  95%|█████████▍| 9937634/10468770 [00:09<00:00, 1128808.89it/s]"
     ]
    },
    {
     "name": "stderr",
     "output_type": "stream",
     "text": [
      "\rDictClassTransformer_PUNCT fit:  96%|█████████▌| 10050554/10468770 [00:09<00:00, 1118220.41it/s]"
     ]
    },
    {
     "name": "stderr",
     "output_type": "stream",
     "text": [
      "\rDictClassTransformer_PUNCT fit:  97%|█████████▋| 10162853/10468770 [00:09<00:00, 1119643.35it/s]"
     ]
    },
    {
     "name": "stderr",
     "output_type": "stream",
     "text": [
      "\rDictClassTransformer_PUNCT fit:  98%|█████████▊| 10274853/10468770 [00:09<00:00, 1103317.80it/s]"
     ]
    },
    {
     "name": "stderr",
     "output_type": "stream",
     "text": [
      "\rDictClassTransformer_PUNCT fit:  99%|█████████▉| 10387674/10468770 [00:10<00:00, 1110666.54it/s]"
     ]
    },
    {
     "name": "stderr",
     "output_type": "stream",
     "text": [
      "\rDictClassTransformer_PUNCT fit: 100%|██████████| 10468770/10468770 [00:10<00:00, 1014573.87it/s]"
     ]
    },
    {
     "name": "stderr",
     "output_type": "stream",
     "text": [
      "\n\rDictClassTransformer_VERBATIM fit:   0%|          | 0/10468770 [00:00<?, ?it/s]"
     ]
    },
    {
     "name": "stderr",
     "output_type": "stream",
     "text": [
      "\rDictClassTransformer_VERBATIM fit:   1%|          | 90743/10468770 [00:00<00:11, 907422.21it/s]"
     ]
    },
    {
     "name": "stderr",
     "output_type": "stream",
     "text": [
      "\rDictClassTransformer_VERBATIM fit:   2%|▏         | 183132/10468770 [00:00<00:11, 912300.19it/s]"
     ]
    },
    {
     "name": "stderr",
     "output_type": "stream",
     "text": [
      "\rDictClassTransformer_VERBATIM fit:   2%|▏         | 242590/10468770 [00:01<01:22, 124169.08it/s]"
     ]
    },
    {
     "name": "stderr",
     "output_type": "stream",
     "text": [
      "\rDictClassTransformer_VERBATIM fit:   3%|▎         | 341277/10468770 [00:01<01:00, 168308.56it/s]"
     ]
    },
    {
     "name": "stderr",
     "output_type": "stream",
     "text": [
      "\rDictClassTransformer_VERBATIM fit:   4%|▍         | 440620/10468770 [00:01<00:44, 224164.37it/s]"
     ]
    },
    {
     "name": "stderr",
     "output_type": "stream",
     "text": [
      "\rDictClassTransformer_VERBATIM fit:   5%|▌         | 548410/10468770 [00:01<00:33, 294028.58it/s]"
     ]
    },
    {
     "name": "stderr",
     "output_type": "stream",
     "text": [
      "\rDictClassTransformer_VERBATIM fit:   6%|▋         | 659599/10468770 [00:02<00:25, 377282.72it/s]"
     ]
    },
    {
     "name": "stderr",
     "output_type": "stream",
     "text": [
      "\rDictClassTransformer_VERBATIM fit:   7%|▋         | 774220/10468770 [00:02<00:20, 472342.56it/s]"
     ]
    },
    {
     "name": "stderr",
     "output_type": "stream",
     "text": [
      "\rDictClassTransformer_VERBATIM fit:   8%|▊         | 889509/10468770 [00:02<00:16, 573989.16it/s]"
     ]
    },
    {
     "name": "stderr",
     "output_type": "stream",
     "text": [
      "\rDictClassTransformer_VERBATIM fit:  10%|▉         | 1007741/10468770 [00:02<00:13, 678760.37it/s]"
     ]
    },
    {
     "name": "stderr",
     "output_type": "stream",
     "text": [
      "\rDictClassTransformer_VERBATIM fit:  11%|█         | 1127720/10468770 [00:02<00:11, 780432.57it/s]"
     ]
    },
    {
     "name": "stderr",
     "output_type": "stream",
     "text": [
      "\rDictClassTransformer_VERBATIM fit:  12%|█▏        | 1250715/10468770 [00:02<00:10, 876536.73it/s]"
     ]
    },
    {
     "name": "stderr",
     "output_type": "stream",
     "text": [
      "\rDictClassTransformer_VERBATIM fit:  13%|█▎        | 1371204/10468770 [00:02<00:09, 954576.50it/s]"
     ]
    },
    {
     "name": "stderr",
     "output_type": "stream",
     "text": [
      "\rDictClassTransformer_VERBATIM fit:  14%|█▍        | 1499015/10468770 [00:02<00:08, 1033024.34it/s]"
     ]
    },
    {
     "name": "stderr",
     "output_type": "stream",
     "text": [
      "\rDictClassTransformer_VERBATIM fit:  15%|█▌        | 1621739/10468770 [00:02<00:08, 1084511.12it/s]"
     ]
    },
    {
     "name": "stderr",
     "output_type": "stream",
     "text": [
      "\rDictClassTransformer_VERBATIM fit:  17%|█▋        | 1752823/10468770 [00:02<00:07, 1143752.58it/s]"
     ]
    },
    {
     "name": "stderr",
     "output_type": "stream",
     "text": [
      "\rDictClassTransformer_VERBATIM fit:  18%|█▊        | 1882949/10468770 [00:03<00:07, 1186849.82it/s]"
     ]
    },
    {
     "name": "stderr",
     "output_type": "stream",
     "text": [
      "\rDictClassTransformer_VERBATIM fit:  19%|█▉        | 2011810/10468770 [00:03<00:06, 1215646.43it/s]"
     ]
    },
    {
     "name": "stderr",
     "output_type": "stream",
     "text": [
      "\rDictClassTransformer_VERBATIM fit:  20%|██        | 2140364/10468770 [00:03<00:06, 1235802.75it/s]"
     ]
    },
    {
     "name": "stderr",
     "output_type": "stream",
     "text": [
      "\rDictClassTransformer_VERBATIM fit:  22%|██▏       | 2269307/10468770 [00:03<00:06, 1251413.51it/s]"
     ]
    },
    {
     "name": "stderr",
     "output_type": "stream",
     "text": [
      "\rDictClassTransformer_VERBATIM fit:  23%|██▎       | 2399547/10468770 [00:03<00:06, 1266284.78it/s]"
     ]
    },
    {
     "name": "stderr",
     "output_type": "stream",
     "text": [
      "\rDictClassTransformer_VERBATIM fit:  24%|██▍       | 2528032/10468770 [00:03<00:06, 1267720.63it/s]"
     ]
    },
    {
     "name": "stderr",
     "output_type": "stream",
     "text": [
      "\rDictClassTransformer_VERBATIM fit:  25%|██▌       | 2658498/10468770 [00:03<00:06, 1278578.60it/s]"
     ]
    },
    {
     "name": "stderr",
     "output_type": "stream",
     "text": [
      "\rDictClassTransformer_VERBATIM fit:  27%|██▋       | 2787288/10468770 [00:03<00:06, 1265562.77it/s]"
     ]
    },
    {
     "name": "stderr",
     "output_type": "stream",
     "text": [
      "\rDictClassTransformer_VERBATIM fit:  28%|██▊       | 2914527/10468770 [00:03<00:05, 1267013.14it/s]"
     ]
    },
    {
     "name": "stderr",
     "output_type": "stream",
     "text": [
      "\rDictClassTransformer_VERBATIM fit:  29%|██▉       | 3044526/10468770 [00:03<00:05, 1276725.95it/s]"
     ]
    },
    {
     "name": "stderr",
     "output_type": "stream",
     "text": [
      "\rDictClassTransformer_VERBATIM fit:  30%|███       | 3174071/10468770 [00:04<00:05, 1282285.54it/s]"
     ]
    },
    {
     "name": "stderr",
     "output_type": "stream",
     "text": [
      "\rDictClassTransformer_VERBATIM fit:  32%|███▏      | 3303816/10468770 [00:04<00:05, 1286793.33it/s]"
     ]
    },
    {
     "name": "stderr",
     "output_type": "stream",
     "text": [
      "\rDictClassTransformer_VERBATIM fit:  33%|███▎      | 3433921/10468770 [00:04<00:05, 1291034.12it/s]"
     ]
    },
    {
     "name": "stderr",
     "output_type": "stream",
     "text": [
      "\rDictClassTransformer_VERBATIM fit:  34%|███▍      | 3564661/10468770 [00:04<00:05, 1295900.15it/s]"
     ]
    },
    {
     "name": "stderr",
     "output_type": "stream",
     "text": [
      "\rDictClassTransformer_VERBATIM fit:  35%|███▌      | 3694347/10468770 [00:04<00:05, 1291930.61it/s]"
     ]
    },
    {
     "name": "stderr",
     "output_type": "stream",
     "text": [
      "\rDictClassTransformer_VERBATIM fit:  37%|███▋      | 3826508/10468770 [00:04<00:05, 1300692.96it/s]"
     ]
    },
    {
     "name": "stderr",
     "output_type": "stream",
     "text": [
      "\rDictClassTransformer_VERBATIM fit:  38%|███▊      | 3960113/10468770 [00:04<00:04, 1311101.45it/s]"
     ]
    },
    {
     "name": "stderr",
     "output_type": "stream",
     "text": [
      "\rDictClassTransformer_VERBATIM fit:  39%|███▉      | 4091287/10468770 [00:04<00:04, 1300784.39it/s]"
     ]
    },
    {
     "name": "stderr",
     "output_type": "stream",
     "text": [
      "\rDictClassTransformer_VERBATIM fit:  40%|████      | 4221429/10468770 [00:04<00:04, 1295168.06it/s]"
     ]
    },
    {
     "name": "stderr",
     "output_type": "stream",
     "text": [
      "\rDictClassTransformer_VERBATIM fit:  42%|████▏     | 4350996/10468770 [00:04<00:04, 1257846.58it/s]"
     ]
    },
    {
     "name": "stderr",
     "output_type": "stream",
     "text": [
      "\rDictClassTransformer_VERBATIM fit:  43%|████▎     | 4477051/10468770 [00:05<00:04, 1232346.47it/s]"
     ]
    },
    {
     "name": "stderr",
     "output_type": "stream",
     "text": [
      "\rDictClassTransformer_VERBATIM fit:  44%|████▍     | 4606307/10468770 [00:05<00:04, 1249812.60it/s]"
     ]
    },
    {
     "name": "stderr",
     "output_type": "stream",
     "text": [
      "\rDictClassTransformer_VERBATIM fit:  45%|████▌     | 4735879/10468770 [00:05<00:04, 1263232.01it/s]"
     ]
    },
    {
     "name": "stderr",
     "output_type": "stream",
     "text": [
      "\rDictClassTransformer_VERBATIM fit:  46%|████▋     | 4866233/10468770 [00:05<00:04, 1275053.43it/s]"
     ]
    },
    {
     "name": "stderr",
     "output_type": "stream",
     "text": [
      "\rDictClassTransformer_VERBATIM fit:  48%|████▊     | 4993923/10468770 [00:05<00:04, 1273903.23it/s]"
     ]
    },
    {
     "name": "stderr",
     "output_type": "stream",
     "text": [
      "\rDictClassTransformer_VERBATIM fit:  49%|████▉     | 5121443/10468770 [00:05<00:04, 1265180.79it/s]"
     ]
    },
    {
     "name": "stderr",
     "output_type": "stream",
     "text": [
      "\rDictClassTransformer_VERBATIM fit:  50%|█████     | 5251201/10468770 [00:05<00:04, 1274728.85it/s]"
     ]
    },
    {
     "name": "stderr",
     "output_type": "stream",
     "text": [
      "\rDictClassTransformer_VERBATIM fit:  51%|█████▏    | 5381024/10468770 [00:05<00:03, 1281685.20it/s]"
     ]
    },
    {
     "name": "stderr",
     "output_type": "stream",
     "text": [
      "\rDictClassTransformer_VERBATIM fit:  53%|█████▎    | 5511225/10468770 [00:05<00:03, 1287707.87it/s]"
     ]
    },
    {
     "name": "stderr",
     "output_type": "stream",
     "text": [
      "\rDictClassTransformer_VERBATIM fit:  54%|█████▍    | 5640823/10468770 [00:05<00:03, 1290171.41it/s]"
     ]
    },
    {
     "name": "stderr",
     "output_type": "stream",
     "text": [
      "\rDictClassTransformer_VERBATIM fit:  55%|█████▌    | 5769882/10468770 [00:06<00:03, 1281529.09it/s]"
     ]
    },
    {
     "name": "stderr",
     "output_type": "stream",
     "text": [
      "\rDictClassTransformer_VERBATIM fit:  56%|█████▋    | 5898077/10468770 [00:06<00:03, 1273364.03it/s]"
     ]
    },
    {
     "name": "stderr",
     "output_type": "stream",
     "text": [
      "\rDictClassTransformer_VERBATIM fit:  58%|█████▊    | 6025455/10468770 [00:06<00:03, 1254199.31it/s]"
     ]
    },
    {
     "name": "stderr",
     "output_type": "stream",
     "text": [
      "\rDictClassTransformer_VERBATIM fit:  59%|█████▉    | 6154967/10468770 [00:06<00:03, 1266198.22it/s]"
     ]
    },
    {
     "name": "stderr",
     "output_type": "stream",
     "text": [
      "\rDictClassTransformer_VERBATIM fit:  60%|██████    | 6283190/10468770 [00:06<00:03, 1270962.26it/s]"
     ]
    },
    {
     "name": "stderr",
     "output_type": "stream",
     "text": [
      "\rDictClassTransformer_VERBATIM fit:  61%|██████▏   | 6412952/10468770 [00:06<00:03, 1278840.62it/s]"
     ]
    },
    {
     "name": "stderr",
     "output_type": "stream",
     "text": [
      "\rDictClassTransformer_VERBATIM fit:  63%|██████▎   | 6543710/10468770 [00:06<00:03, 1287324.73it/s]"
     ]
    },
    {
     "name": "stderr",
     "output_type": "stream",
     "text": [
      "\rDictClassTransformer_VERBATIM fit:  64%|██████▍   | 6678418/10468770 [00:06<00:02, 1304683.91it/s]"
     ]
    },
    {
     "name": "stderr",
     "output_type": "stream",
     "text": [
      "\rDictClassTransformer_VERBATIM fit:  65%|██████▌   | 6809915/10468770 [00:06<00:02, 1307749.45it/s]"
     ]
    },
    {
     "name": "stderr",
     "output_type": "stream",
     "text": [
      "\rDictClassTransformer_VERBATIM fit:  66%|██████▋   | 6940759/10468770 [00:06<00:02, 1304372.87it/s]"
     ]
    },
    {
     "name": "stderr",
     "output_type": "stream",
     "text": [
      "\rDictClassTransformer_VERBATIM fit:  68%|██████▊   | 7072629/10468770 [00:07<00:02, 1308637.66it/s]"
     ]
    },
    {
     "name": "stderr",
     "output_type": "stream",
     "text": [
      "\rDictClassTransformer_VERBATIM fit:  69%|██████▉   | 7203531/10468770 [00:07<00:02, 1304074.08it/s]"
     ]
    },
    {
     "name": "stderr",
     "output_type": "stream",
     "text": [
      "\rDictClassTransformer_VERBATIM fit:  70%|███████   | 7335109/10468770 [00:07<00:02, 1307563.37it/s]"
     ]
    },
    {
     "name": "stderr",
     "output_type": "stream",
     "text": [
      "\rDictClassTransformer_VERBATIM fit:  71%|███████▏  | 7465889/10468770 [00:07<00:02, 1300469.61it/s]"
     ]
    },
    {
     "name": "stderr",
     "output_type": "stream",
     "text": [
      "\rDictClassTransformer_VERBATIM fit:  73%|███████▎  | 7598501/10468770 [00:07<00:02, 1308056.61it/s]"
     ]
    },
    {
     "name": "stderr",
     "output_type": "stream",
     "text": [
      "\rDictClassTransformer_VERBATIM fit:  74%|███████▍  | 7730932/10468770 [00:07<00:02, 1312890.02it/s]"
     ]
    },
    {
     "name": "stderr",
     "output_type": "stream",
     "text": [
      "\rDictClassTransformer_VERBATIM fit:  75%|███████▌  | 7862245/10468770 [00:07<00:01, 1307470.79it/s]"
     ]
    },
    {
     "name": "stderr",
     "output_type": "stream",
     "text": [
      "\rDictClassTransformer_VERBATIM fit:  76%|███████▋  | 7996202/10468770 [00:07<00:01, 1316933.60it/s]"
     ]
    },
    {
     "name": "stderr",
     "output_type": "stream",
     "text": [
      "\rDictClassTransformer_VERBATIM fit:  78%|███████▊  | 8127927/10468770 [00:07<00:01, 1316645.66it/s]"
     ]
    },
    {
     "name": "stderr",
     "output_type": "stream",
     "text": [
      "\rDictClassTransformer_VERBATIM fit:  79%|███████▉  | 8259614/10468770 [00:07<00:01, 1309485.38it/s]"
     ]
    },
    {
     "name": "stderr",
     "output_type": "stream",
     "text": [
      "\rDictClassTransformer_VERBATIM fit:  80%|████████  | 8391052/10468770 [00:08<00:01, 1310949.37it/s]"
     ]
    },
    {
     "name": "stderr",
     "output_type": "stream",
     "text": [
      "\rDictClassTransformer_VERBATIM fit:  81%|████████▏ | 8522165/10468770 [00:08<00:01, 1299288.15it/s]"
     ]
    },
    {
     "name": "stderr",
     "output_type": "stream",
     "text": [
      "\rDictClassTransformer_VERBATIM fit:  83%|████████▎ | 8652326/10468770 [00:08<00:01, 1299979.56it/s]"
     ]
    },
    {
     "name": "stderr",
     "output_type": "stream",
     "text": [
      "\rDictClassTransformer_VERBATIM fit:  84%|████████▍ | 8782350/10468770 [00:08<00:01, 1293751.66it/s]"
     ]
    },
    {
     "name": "stderr",
     "output_type": "stream",
     "text": [
      "\rDictClassTransformer_VERBATIM fit:  85%|████████▌ | 8911750/10468770 [00:08<00:01, 1270483.71it/s]"
     ]
    },
    {
     "name": "stderr",
     "output_type": "stream",
     "text": [
      "\rDictClassTransformer_VERBATIM fit:  86%|████████▋ | 9038910/10468770 [00:08<00:01, 1263582.08it/s]"
     ]
    },
    {
     "name": "stderr",
     "output_type": "stream",
     "text": [
      "\rDictClassTransformer_VERBATIM fit:  88%|████████▊ | 9167775/10468770 [00:08<00:01, 1270992.64it/s]"
     ]
    },
    {
     "name": "stderr",
     "output_type": "stream",
     "text": [
      "\rDictClassTransformer_VERBATIM fit:  89%|████████▉ | 9297652/10468770 [00:08<00:00, 1279197.04it/s]"
     ]
    },
    {
     "name": "stderr",
     "output_type": "stream",
     "text": [
      "\rDictClassTransformer_VERBATIM fit:  90%|█████████ | 9425634/10468770 [00:09<00:01, 775803.41it/s] "
     ]
    },
    {
     "name": "stderr",
     "output_type": "stream",
     "text": [
      "\rDictClassTransformer_VERBATIM fit:  91%|█████████ | 9545383/10468770 [00:09<00:01, 867442.01it/s]"
     ]
    },
    {
     "name": "stderr",
     "output_type": "stream",
     "text": [
      "\rDictClassTransformer_VERBATIM fit:  92%|█████████▏| 9669657/10468770 [00:09<00:00, 953857.61it/s]"
     ]
    },
    {
     "name": "stderr",
     "output_type": "stream",
     "text": [
      "\rDictClassTransformer_VERBATIM fit:  94%|█████████▎| 9794413/10468770 [00:09<00:00, 1026344.31it/s]"
     ]
    },
    {
     "name": "stderr",
     "output_type": "stream",
     "text": [
      "\rDictClassTransformer_VERBATIM fit:  95%|█████████▍| 9917986/10468770 [00:09<00:00, 1081308.67it/s]"
     ]
    },
    {
     "name": "stderr",
     "output_type": "stream",
     "text": [
      "\rDictClassTransformer_VERBATIM fit:  96%|█████████▌| 10040942/10468770 [00:09<00:00, 1121888.26it/s]"
     ]
    },
    {
     "name": "stderr",
     "output_type": "stream",
     "text": [
      "\rDictClassTransformer_VERBATIM fit:  97%|█████████▋| 10164373/10468770 [00:09<00:00, 1153400.55it/s]"
     ]
    },
    {
     "name": "stderr",
     "output_type": "stream",
     "text": [
      "\rDictClassTransformer_VERBATIM fit:  98%|█████████▊| 10289609/10468770 [00:09<00:00, 1181403.52it/s]"
     ]
    },
    {
     "name": "stderr",
     "output_type": "stream",
     "text": [
      "\rDictClassTransformer_VERBATIM fit: 100%|█████████▉| 10417253/10468770 [00:09<00:00, 1208394.09it/s]"
     ]
    },
    {
     "name": "stderr",
     "output_type": "stream",
     "text": [
      "\rDictClassTransformer_VERBATIM fit: 100%|██████████| 10468770/10468770 [00:10<00:00, 1030323.23it/s]"
     ]
    },
    {
     "name": "stderr",
     "output_type": "stream",
     "text": [
      "\n"
     ]
    },
    {
     "name": "stderr",
     "output_type": "stream",
     "text": [
      "\rDictNBHDTransformer fit:   0%|          | 0/10468770 [00:00<?, ?it/s]"
     ]
    },
    {
     "name": "stderr",
     "output_type": "stream",
     "text": [
      "\rDictNBHDTransformer fit:   0%|          | 27614/10468770 [00:00<04:11, 41471.36it/s]"
     ]
    },
    {
     "name": "stderr",
     "output_type": "stream",
     "text": [
      "\rDictNBHDTransformer fit:   1%|          | 78853/10468770 [00:00<03:01, 57258.63it/s]"
     ]
    },
    {
     "name": "stderr",
     "output_type": "stream",
     "text": [
      "\rDictNBHDTransformer fit:   1%|          | 102895/10468770 [00:01<03:34, 48240.58it/s]"
     ]
    },
    {
     "name": "stderr",
     "output_type": "stream",
     "text": [
      "\rDictNBHDTransformer fit:   1%|▏         | 151407/10468770 [00:01<02:36, 66097.18it/s]"
     ]
    },
    {
     "name": "stderr",
     "output_type": "stream",
     "text": [
      "\rDictNBHDTransformer fit:   2%|▏         | 193793/10468770 [00:01<01:56, 88509.19it/s]"
     ]
    },
    {
     "name": "stderr",
     "output_type": "stream",
     "text": [
      "\rDictNBHDTransformer fit:   2%|▏         | 242458/10468770 [00:01<01:27, 117298.54it/s]"
     ]
    },
    {
     "name": "stderr",
     "output_type": "stream",
     "text": [
      "\rDictNBHDTransformer fit:   3%|▎         | 292844/10468770 [00:01<01:06, 152367.42it/s]"
     ]
    },
    {
     "name": "stderr",
     "output_type": "stream",
     "text": [
      "\rDictNBHDTransformer fit:   3%|▎         | 343400/10468770 [00:01<00:52, 192768.21it/s]"
     ]
    },
    {
     "name": "stderr",
     "output_type": "stream",
     "text": [
      "\rDictNBHDTransformer fit:   4%|▎         | 390911/10468770 [00:02<00:44, 228590.65it/s]"
     ]
    },
    {
     "name": "stderr",
     "output_type": "stream",
     "text": [
      "\rDictNBHDTransformer fit:   4%|▍         | 438862/10468770 [00:02<00:36, 271157.04it/s]"
     ]
    },
    {
     "name": "stderr",
     "output_type": "stream",
     "text": [
      "\rDictNBHDTransformer fit:   5%|▍         | 488142/10468770 [00:02<00:31, 313445.87it/s]"
     ]
    },
    {
     "name": "stderr",
     "output_type": "stream",
     "text": [
      "\rDictNBHDTransformer fit:   5%|▌         | 536900/10468770 [00:02<00:28, 351058.34it/s]"
     ]
    },
    {
     "name": "stderr",
     "output_type": "stream",
     "text": [
      "\rDictNBHDTransformer fit:   6%|▌         | 586059/10468770 [00:02<00:25, 383989.77it/s]"
     ]
    },
    {
     "name": "stderr",
     "output_type": "stream",
     "text": [
      "\rDictNBHDTransformer fit:   6%|▌         | 634263/10468770 [00:02<00:24, 408931.84it/s]"
     ]
    },
    {
     "name": "stderr",
     "output_type": "stream",
     "text": [
      "\rDictNBHDTransformer fit:   7%|▋         | 682226/10468770 [00:02<00:22, 427849.55it/s]"
     ]
    },
    {
     "name": "stderr",
     "output_type": "stream",
     "text": [
      "\rDictNBHDTransformer fit:   7%|▋         | 730382/10468770 [00:02<00:21, 442660.07it/s]"
     ]
    },
    {
     "name": "stderr",
     "output_type": "stream",
     "text": [
      "\rDictNBHDTransformer fit:   7%|▋         | 778201/10468770 [00:02<00:21, 448475.30it/s]"
     ]
    },
    {
     "name": "stderr",
     "output_type": "stream",
     "text": [
      "\rDictNBHDTransformer fit:   8%|▊         | 825554/10468770 [00:03<00:24, 389957.32it/s]"
     ]
    },
    {
     "name": "stderr",
     "output_type": "stream",
     "text": [
      "\rDictNBHDTransformer fit:   8%|▊         | 870871/10468770 [00:03<00:23, 406987.63it/s]"
     ]
    },
    {
     "name": "stderr",
     "output_type": "stream",
     "text": [
      "\rDictNBHDTransformer fit:   9%|▉         | 917766/10468770 [00:03<00:22, 423785.10it/s]"
     ]
    },
    {
     "name": "stderr",
     "output_type": "stream",
     "text": [
      "\rDictNBHDTransformer fit:   9%|▉         | 965488/10468770 [00:03<00:21, 438515.26it/s]"
     ]
    },
    {
     "name": "stderr",
     "output_type": "stream",
     "text": [
      "\rDictNBHDTransformer fit:  10%|▉         | 1011450/10468770 [00:03<00:21, 444638.92it/s]"
     ]
    },
    {
     "name": "stderr",
     "output_type": "stream",
     "text": [
      "\rDictNBHDTransformer fit:  10%|█         | 1059274/10468770 [00:03<00:20, 454211.69it/s]"
     ]
    },
    {
     "name": "stderr",
     "output_type": "stream",
     "text": [
      "\rDictNBHDTransformer fit:  11%|█         | 1107134/10468770 [00:03<00:20, 461262.96it/s]"
     ]
    },
    {
     "name": "stderr",
     "output_type": "stream",
     "text": [
      "\rDictNBHDTransformer fit:  11%|█         | 1153820/10468770 [00:03<00:20, 456270.60it/s]"
     ]
    },
    {
     "name": "stderr",
     "output_type": "stream",
     "text": [
      "\rDictNBHDTransformer fit:  11%|█▏        | 1200318/10468770 [00:03<00:20, 458847.48it/s]"
     ]
    },
    {
     "name": "stderr",
     "output_type": "stream",
     "text": [
      "\rDictNBHDTransformer fit:  12%|█▏        | 1246489/10468770 [00:03<00:20, 457425.29it/s]"
     ]
    },
    {
     "name": "stderr",
     "output_type": "stream",
     "text": [
      "\rDictNBHDTransformer fit:  12%|█▏        | 1292433/10468770 [00:04<00:20, 457797.84it/s]"
     ]
    },
    {
     "name": "stderr",
     "output_type": "stream",
     "text": [
      "\rDictNBHDTransformer fit:  13%|█▎        | 1338354/10468770 [00:04<01:10, 129642.85it/s]"
     ]
    },
    {
     "name": "stderr",
     "output_type": "stream",
     "text": [
      "\rDictNBHDTransformer fit:  13%|█▎        | 1380455/10468770 [00:05<00:55, 163611.65it/s]"
     ]
    },
    {
     "name": "stderr",
     "output_type": "stream",
     "text": [
      "\rDictNBHDTransformer fit:  14%|█▎        | 1423760/10468770 [00:05<00:44, 201158.72it/s]"
     ]
    },
    {
     "name": "stderr",
     "output_type": "stream",
     "text": [
      "\rDictNBHDTransformer fit:  14%|█▍        | 1468744/10468770 [00:05<00:37, 241152.79it/s]"
     ]
    },
    {
     "name": "stderr",
     "output_type": "stream",
     "text": [
      "\rDictNBHDTransformer fit:  14%|█▍        | 1513131/10468770 [00:05<00:32, 279438.99it/s]"
     ]
    },
    {
     "name": "stderr",
     "output_type": "stream",
     "text": [
      "\rDictNBHDTransformer fit:  15%|█▍        | 1557274/10468770 [00:05<00:28, 314007.00it/s]"
     ]
    },
    {
     "name": "stderr",
     "output_type": "stream",
     "text": [
      "\rDictNBHDTransformer fit:  15%|█▌        | 1601843/10468770 [00:05<00:25, 344546.12it/s]"
     ]
    },
    {
     "name": "stderr",
     "output_type": "stream",
     "text": [
      "\rDictNBHDTransformer fit:  16%|█▌        | 1645133/10468770 [00:05<00:24, 367017.38it/s]"
     ]
    },
    {
     "name": "stderr",
     "output_type": "stream",
     "text": [
      "\rDictNBHDTransformer fit:  16%|█▌        | 1688213/10468770 [00:05<00:27, 318325.55it/s]"
     ]
    },
    {
     "name": "stderr",
     "output_type": "stream",
     "text": [
      "\rDictNBHDTransformer fit:  17%|█▋        | 1731679/10468770 [00:05<00:25, 346115.71it/s]"
     ]
    },
    {
     "name": "stderr",
     "output_type": "stream",
     "text": [
      "\rDictNBHDTransformer fit:  17%|█▋        | 1777313/10468770 [00:06<00:23, 373152.52it/s]"
     ]
    },
    {
     "name": "stderr",
     "output_type": "stream",
     "text": [
      "\rDictNBHDTransformer fit:  17%|█▋        | 1821365/10468770 [00:06<00:22, 391094.10it/s]"
     ]
    },
    {
     "name": "stderr",
     "output_type": "stream",
     "text": [
      "\rDictNBHDTransformer fit:  18%|█▊        | 1867082/10468770 [00:06<00:21, 408819.24it/s]"
     ]
    },
    {
     "name": "stderr",
     "output_type": "stream",
     "text": [
      "\rDictNBHDTransformer fit:  18%|█▊        | 1910220/10468770 [00:06<00:21, 391087.30it/s]"
     ]
    },
    {
     "name": "stderr",
     "output_type": "stream",
     "text": [
      "\rDictNBHDTransformer fit:  19%|█▊        | 1954438/10468770 [00:06<00:21, 405128.55it/s]"
     ]
    },
    {
     "name": "stderr",
     "output_type": "stream",
     "text": [
      "\rDictNBHDTransformer fit:  19%|█▉        | 1998898/10468770 [00:06<00:20, 416210.44it/s]"
     ]
    },
    {
     "name": "stderr",
     "output_type": "stream",
     "text": [
      "\rDictNBHDTransformer fit:  20%|█▉        | 2044314/10468770 [00:06<00:19, 426908.65it/s]"
     ]
    },
    {
     "name": "stderr",
     "output_type": "stream",
     "text": [
      "\rDictNBHDTransformer fit:  20%|█▉        | 2088736/10468770 [00:06<00:19, 431957.32it/s]"
     ]
    },
    {
     "name": "stderr",
     "output_type": "stream",
     "text": [
      "\rDictNBHDTransformer fit:  20%|██        | 2132494/10468770 [00:06<00:19, 431711.34it/s]"
     ]
    },
    {
     "name": "stderr",
     "output_type": "stream",
     "text": [
      "\rDictNBHDTransformer fit:  21%|██        | 2177044/10468770 [00:06<00:19, 435756.38it/s]"
     ]
    },
    {
     "name": "stderr",
     "output_type": "stream",
     "text": [
      "\rDictNBHDTransformer fit:  21%|██        | 2221008/10468770 [00:07<00:18, 436914.06it/s]"
     ]
    },
    {
     "name": "stderr",
     "output_type": "stream",
     "text": [
      "\rDictNBHDTransformer fit:  22%|██▏       | 2264900/10468770 [00:07<00:18, 434443.86it/s]"
     ]
    },
    {
     "name": "stderr",
     "output_type": "stream",
     "text": [
      "\rDictNBHDTransformer fit:  22%|██▏       | 2310137/10468770 [00:07<00:18, 439669.63it/s]"
     ]
    },
    {
     "name": "stderr",
     "output_type": "stream",
     "text": [
      "\rDictNBHDTransformer fit:  22%|██▏       | 2354220/10468770 [00:07<00:18, 429110.28it/s]"
     ]
    },
    {
     "name": "stderr",
     "output_type": "stream",
     "text": [
      "\rDictNBHDTransformer fit:  23%|██▎       | 2398284/10468770 [00:07<00:18, 432501.82it/s]"
     ]
    },
    {
     "name": "stderr",
     "output_type": "stream",
     "text": [
      "\rDictNBHDTransformer fit:  23%|██▎       | 2441691/10468770 [00:07<00:18, 432969.66it/s]"
     ]
    },
    {
     "name": "stderr",
     "output_type": "stream",
     "text": [
      "\rDictNBHDTransformer fit:  24%|██▎       | 2485060/10468770 [00:07<00:18, 428965.33it/s]"
     ]
    },
    {
     "name": "stderr",
     "output_type": "stream",
     "text": [
      "\rDictNBHDTransformer fit:  24%|██▍       | 2528016/10468770 [00:07<00:18, 424513.78it/s]"
     ]
    },
    {
     "name": "stderr",
     "output_type": "stream",
     "text": [
      "\rDictNBHDTransformer fit:  25%|██▍       | 2570519/10468770 [00:07<00:18, 424444.17it/s]"
     ]
    },
    {
     "name": "stderr",
     "output_type": "stream",
     "text": [
      "\rDictNBHDTransformer fit:  25%|██▍       | 2613616/10468770 [00:07<00:18, 426380.89it/s]"
     ]
    },
    {
     "name": "stderr",
     "output_type": "stream",
     "text": [
      "\rDictNBHDTransformer fit:  25%|██▌       | 2656282/10468770 [00:08<00:18, 424998.97it/s]"
     ]
    },
    {
     "name": "stderr",
     "output_type": "stream",
     "text": [
      "\rDictNBHDTransformer fit:  26%|██▌       | 2698803/10468770 [00:08<00:18, 420881.81it/s]"
     ]
    },
    {
     "name": "stderr",
     "output_type": "stream",
     "text": [
      "\rDictNBHDTransformer fit:  26%|██▌       | 2741092/10468770 [00:08<00:18, 421473.37it/s]"
     ]
    },
    {
     "name": "stderr",
     "output_type": "stream",
     "text": [
      "\rDictNBHDTransformer fit:  27%|██▋       | 2783499/10468770 [00:08<00:18, 422246.42it/s]"
     ]
    },
    {
     "name": "stderr",
     "output_type": "stream",
     "text": [
      "\rDictNBHDTransformer fit:  27%|██▋       | 2825826/10468770 [00:08<00:18, 422551.59it/s]"
     ]
    },
    {
     "name": "stderr",
     "output_type": "stream",
     "text": [
      "\rDictNBHDTransformer fit:  27%|██▋       | 2868090/10468770 [00:08<00:18, 415074.39it/s]"
     ]
    },
    {
     "name": "stderr",
     "output_type": "stream",
     "text": [
      "\rDictNBHDTransformer fit:  28%|██▊       | 2910794/10468770 [00:08<00:18, 418592.01it/s]"
     ]
    },
    {
     "name": "stderr",
     "output_type": "stream",
     "text": [
      "\rDictNBHDTransformer fit:  28%|██▊       | 2952686/10468770 [00:08<00:18, 415779.15it/s]"
     ]
    },
    {
     "name": "stderr",
     "output_type": "stream",
     "text": [
      "\rDictNBHDTransformer fit:  29%|██▊       | 2994291/10468770 [00:08<00:18, 413075.62it/s]"
     ]
    },
    {
     "name": "stderr",
     "output_type": "stream",
     "text": [
      "\rDictNBHDTransformer fit:  29%|██▉       | 3036018/10468770 [00:09<00:17, 414324.87it/s]"
     ]
    },
    {
     "name": "stderr",
     "output_type": "stream",
     "text": [
      "\rDictNBHDTransformer fit:  29%|██▉       | 3077468/10468770 [00:09<00:17, 413187.75it/s]"
     ]
    },
    {
     "name": "stderr",
     "output_type": "stream",
     "text": [
      "\rDictNBHDTransformer fit:  30%|██▉       | 3119307/10468770 [00:09<00:17, 414729.61it/s]"
     ]
    },
    {
     "name": "stderr",
     "output_type": "stream",
     "text": [
      "\rDictNBHDTransformer fit:  30%|███       | 3162708/10468770 [00:09<00:17, 420330.09it/s]"
     ]
    },
    {
     "name": "stderr",
     "output_type": "stream",
     "text": [
      "\rDictNBHDTransformer fit:  31%|███       | 3204767/10468770 [00:09<00:17, 418900.81it/s]"
     ]
    },
    {
     "name": "stderr",
     "output_type": "stream",
     "text": [
      "\rDictNBHDTransformer fit:  31%|███       | 3247446/10468770 [00:09<00:17, 421236.59it/s]"
     ]
    },
    {
     "name": "stderr",
     "output_type": "stream",
     "text": [
      "\rDictNBHDTransformer fit:  31%|███▏      | 3289586/10468770 [00:09<00:17, 416151.97it/s]"
     ]
    },
    {
     "name": "stderr",
     "output_type": "stream",
     "text": [
      "\rDictNBHDTransformer fit:  32%|███▏      | 3332580/10468770 [00:09<00:16, 420185.93it/s]"
     ]
    },
    {
     "name": "stderr",
     "output_type": "stream",
     "text": [
      "\rDictNBHDTransformer fit:  32%|███▏      | 3374721/10468770 [00:09<00:16, 420552.22it/s]"
     ]
    },
    {
     "name": "stderr",
     "output_type": "stream",
     "text": [
      "\rDictNBHDTransformer fit:  33%|███▎      | 3416796/10468770 [00:09<00:16, 419618.84it/s]"
     ]
    },
    {
     "name": "stderr",
     "output_type": "stream",
     "text": [
      "\rDictNBHDTransformer fit:  33%|███▎      | 3458772/10468770 [00:10<01:05, 107298.42it/s]"
     ]
    },
    {
     "name": "stderr",
     "output_type": "stream",
     "text": [
      "\rDictNBHDTransformer fit:  33%|███▎      | 3496299/10468770 [00:11<00:51, 136550.57it/s]"
     ]
    },
    {
     "name": "stderr",
     "output_type": "stream",
     "text": [
      "\rDictNBHDTransformer fit:  34%|███▎      | 3528949/10468770 [00:11<00:54, 127283.61it/s]"
     ]
    },
    {
     "name": "stderr",
     "output_type": "stream",
     "text": [
      "\rDictNBHDTransformer fit:  34%|███▍      | 3567668/10468770 [00:11<00:43, 159379.06it/s]"
     ]
    },
    {
     "name": "stderr",
     "output_type": "stream",
     "text": [
      "\rDictNBHDTransformer fit:  34%|███▍      | 3606346/10468770 [00:11<00:35, 193510.27it/s]"
     ]
    },
    {
     "name": "stderr",
     "output_type": "stream",
     "text": [
      "\rDictNBHDTransformer fit:  35%|███▍      | 3645404/10468770 [00:11<00:29, 228025.13it/s]"
     ]
    },
    {
     "name": "stderr",
     "output_type": "stream",
     "text": [
      "\rDictNBHDTransformer fit:  35%|███▌      | 3685301/10468770 [00:11<00:25, 261658.20it/s]"
     ]
    },
    {
     "name": "stderr",
     "output_type": "stream",
     "text": [
      "\rDictNBHDTransformer fit:  36%|███▌      | 3725285/10468770 [00:11<00:23, 291924.18it/s]"
     ]
    },
    {
     "name": "stderr",
     "output_type": "stream",
     "text": [
      "\rDictNBHDTransformer fit:  36%|███▌      | 3766807/10468770 [00:11<00:20, 320471.80it/s]"
     ]
    },
    {
     "name": "stderr",
     "output_type": "stream",
     "text": [
      "\rDictNBHDTransformer fit:  36%|███▋      | 3808302/10468770 [00:12<00:19, 343964.94it/s]"
     ]
    },
    {
     "name": "stderr",
     "output_type": "stream",
     "text": [
      "\rDictNBHDTransformer fit:  37%|███▋      | 3849807/10468770 [00:12<00:18, 362593.35it/s]"
     ]
    },
    {
     "name": "stderr",
     "output_type": "stream",
     "text": [
      "\rDictNBHDTransformer fit:  37%|███▋      | 3891016/10468770 [00:12<00:17, 376144.36it/s]"
     ]
    },
    {
     "name": "stderr",
     "output_type": "stream",
     "text": [
      "\rDictNBHDTransformer fit:  38%|███▊      | 3931418/10468770 [00:12<00:17, 382648.57it/s]"
     ]
    },
    {
     "name": "stderr",
     "output_type": "stream",
     "text": [
      "\rDictNBHDTransformer fit:  38%|███▊      | 3972359/10468770 [00:12<00:16, 390302.14it/s]"
     ]
    },
    {
     "name": "stderr",
     "output_type": "stream",
     "text": [
      "\rDictNBHDTransformer fit:  38%|███▊      | 4012812/10468770 [00:12<00:16, 392013.53it/s]"
     ]
    },
    {
     "name": "stderr",
     "output_type": "stream",
     "text": [
      "\rDictNBHDTransformer fit:  39%|███▊      | 4053011/10468770 [00:12<00:16, 390320.84it/s]"
     ]
    },
    {
     "name": "stderr",
     "output_type": "stream",
     "text": [
      "\rDictNBHDTransformer fit:  39%|███▉      | 4093395/10468770 [00:12<00:16, 394278.49it/s]"
     ]
    },
    {
     "name": "stderr",
     "output_type": "stream",
     "text": [
      "\rDictNBHDTransformer fit:  39%|███▉      | 4133461/10468770 [00:12<00:15, 396170.21it/s]"
     ]
    },
    {
     "name": "stderr",
     "output_type": "stream",
     "text": [
      "\rDictNBHDTransformer fit:  40%|███▉      | 4173430/10468770 [00:12<00:15, 395888.09it/s]"
     ]
    },
    {
     "name": "stderr",
     "output_type": "stream",
     "text": [
      "\rDictNBHDTransformer fit:  40%|████      | 4215127/10468770 [00:13<00:15, 401983.00it/s]"
     ]
    },
    {
     "name": "stderr",
     "output_type": "stream",
     "text": [
      "\rDictNBHDTransformer fit:  41%|████      | 4256409/10468770 [00:13<00:15, 405172.57it/s]"
     ]
    },
    {
     "name": "stderr",
     "output_type": "stream",
     "text": [
      "\rDictNBHDTransformer fit:  41%|████      | 4297809/10468770 [00:13<00:15, 407780.85it/s]"
     ]
    },
    {
     "name": "stderr",
     "output_type": "stream",
     "text": [
      "\rDictNBHDTransformer fit:  41%|████▏     | 4338746/10468770 [00:13<00:15, 408255.25it/s]"
     ]
    },
    {
     "name": "stderr",
     "output_type": "stream",
     "text": [
      "\rDictNBHDTransformer fit:  42%|████▏     | 4379869/10468770 [00:13<00:14, 409140.64it/s]"
     ]
    },
    {
     "name": "stderr",
     "output_type": "stream",
     "text": [
      "\rDictNBHDTransformer fit:  42%|████▏     | 4421972/10468770 [00:13<00:14, 412636.17it/s]"
     ]
    },
    {
     "name": "stderr",
     "output_type": "stream",
     "text": [
      "\rDictNBHDTransformer fit:  43%|████▎     | 4463279/10468770 [00:13<00:14, 412725.34it/s]"
     ]
    },
    {
     "name": "stderr",
     "output_type": "stream",
     "text": [
      "\rDictNBHDTransformer fit:  43%|████▎     | 4504582/10468770 [00:13<00:14, 407572.76it/s]"
     ]
    },
    {
     "name": "stderr",
     "output_type": "stream",
     "text": [
      "\rDictNBHDTransformer fit:  43%|████▎     | 4545375/10468770 [00:13<00:14, 406500.25it/s]"
     ]
    },
    {
     "name": "stderr",
     "output_type": "stream",
     "text": [
      "\rDictNBHDTransformer fit:  44%|████▍     | 4587065/10468770 [00:14<00:14, 409562.81it/s]"
     ]
    },
    {
     "name": "stderr",
     "output_type": "stream",
     "text": [
      "\rDictNBHDTransformer fit:  44%|████▍     | 4628712/10468770 [00:14<00:14, 411609.45it/s]"
     ]
    },
    {
     "name": "stderr",
     "output_type": "stream",
     "text": [
      "\rDictNBHDTransformer fit:  45%|████▍     | 4669892/10468770 [00:14<00:14, 409925.95it/s]"
     ]
    },
    {
     "name": "stderr",
     "output_type": "stream",
     "text": [
      "\rDictNBHDTransformer fit:  45%|████▍     | 4710900/10468770 [00:14<00:14, 408682.64it/s]"
     ]
    },
    {
     "name": "stderr",
     "output_type": "stream",
     "text": [
      "\rDictNBHDTransformer fit:  45%|████▌     | 4751868/10468770 [00:14<00:13, 408977.66it/s]"
     ]
    },
    {
     "name": "stderr",
     "output_type": "stream",
     "text": [
      "\rDictNBHDTransformer fit:  46%|████▌     | 4793182/10468770 [00:14<00:13, 410216.19it/s]"
     ]
    },
    {
     "name": "stderr",
     "output_type": "stream",
     "text": [
      "\rDictNBHDTransformer fit:  46%|████▌     | 4834211/10468770 [00:14<00:13, 403238.82it/s]"
     ]
    },
    {
     "name": "stderr",
     "output_type": "stream",
     "text": [
      "\rDictNBHDTransformer fit:  47%|████▋     | 4875292/10468770 [00:14<00:13, 405467.66it/s]"
     ]
    },
    {
     "name": "stderr",
     "output_type": "stream",
     "text": [
      "\rDictNBHDTransformer fit:  47%|████▋     | 4915864/10468770 [00:14<00:13, 400505.02it/s]"
     ]
    },
    {
     "name": "stderr",
     "output_type": "stream",
     "text": [
      "\rDictNBHDTransformer fit:  47%|████▋     | 4955946/10468770 [00:14<00:13, 397522.83it/s]"
     ]
    },
    {
     "name": "stderr",
     "output_type": "stream",
     "text": [
      "\rDictNBHDTransformer fit:  48%|████▊     | 4995726/10468770 [00:15<00:13, 394308.18it/s]"
     ]
    },
    {
     "name": "stderr",
     "output_type": "stream",
     "text": [
      "\rDictNBHDTransformer fit:  48%|████▊     | 5035182/10468770 [00:15<00:13, 391245.39it/s]"
     ]
    },
    {
     "name": "stderr",
     "output_type": "stream",
     "text": [
      "\rDictNBHDTransformer fit:  48%|████▊     | 5074375/10468770 [00:15<00:13, 391448.12it/s]"
     ]
    },
    {
     "name": "stderr",
     "output_type": "stream",
     "text": [
      "\rDictNBHDTransformer fit:  49%|████▉     | 5114219/10468770 [00:15<00:13, 393518.78it/s]"
     ]
    },
    {
     "name": "stderr",
     "output_type": "stream",
     "text": [
      "\rDictNBHDTransformer fit:  49%|████▉     | 5154647/10468770 [00:15<00:13, 396685.51it/s]"
     ]
    },
    {
     "name": "stderr",
     "output_type": "stream",
     "text": [
      "\rDictNBHDTransformer fit:  50%|████▉     | 5194332/10468770 [00:15<00:13, 392144.49it/s]"
     ]
    },
    {
     "name": "stderr",
     "output_type": "stream",
     "text": [
      "\rDictNBHDTransformer fit:  50%|████▉     | 5233570/10468770 [00:15<00:13, 391743.85it/s]"
     ]
    },
    {
     "name": "stderr",
     "output_type": "stream",
     "text": [
      "\rDictNBHDTransformer fit:  50%|█████     | 5274157/10468770 [00:15<00:13, 395874.98it/s]"
     ]
    },
    {
     "name": "stderr",
     "output_type": "stream",
     "text": [
      "\rDictNBHDTransformer fit:  51%|█████     | 5313767/10468770 [00:15<00:13, 395623.23it/s]"
     ]
    },
    {
     "name": "stderr",
     "output_type": "stream",
     "text": [
      "\rDictNBHDTransformer fit:  51%|█████     | 5354424/10468770 [00:15<00:12, 398842.45it/s]"
     ]
    },
    {
     "name": "stderr",
     "output_type": "stream",
     "text": [
      "\rDictNBHDTransformer fit:  52%|█████▏    | 5394730/10468770 [00:16<00:12, 400097.40it/s]"
     ]
    },
    {
     "name": "stderr",
     "output_type": "stream",
     "text": [
      "\rDictNBHDTransformer fit:  52%|█████▏    | 5434935/10468770 [00:16<00:12, 400676.44it/s]"
     ]
    },
    {
     "name": "stderr",
     "output_type": "stream",
     "text": [
      "\rDictNBHDTransformer fit:  52%|█████▏    | 5476134/10468770 [00:16<00:12, 404000.02it/s]"
     ]
    },
    {
     "name": "stderr",
     "output_type": "stream",
     "text": [
      "\rDictNBHDTransformer fit:  53%|█████▎    | 5516547/10468770 [00:16<00:12, 403890.09it/s]"
     ]
    },
    {
     "name": "stderr",
     "output_type": "stream",
     "text": [
      "\rDictNBHDTransformer fit:  53%|█████▎    | 5556946/10468770 [00:16<00:12, 402309.03it/s]"
     ]
    },
    {
     "name": "stderr",
     "output_type": "stream",
     "text": [
      "\rDictNBHDTransformer fit:  53%|█████▎    | 5599294/10468770 [00:16<00:11, 408431.12it/s]"
     ]
    },
    {
     "name": "stderr",
     "output_type": "stream",
     "text": [
      "\rDictNBHDTransformer fit:  54%|█████▍    | 5640310/10468770 [00:16<00:11, 408948.08it/s]"
     ]
    },
    {
     "name": "stderr",
     "output_type": "stream",
     "text": [
      "\rDictNBHDTransformer fit:  54%|█████▍    | 5681225/10468770 [00:16<00:11, 399970.56it/s]"
     ]
    },
    {
     "name": "stderr",
     "output_type": "stream",
     "text": [
      "\rDictNBHDTransformer fit:  55%|█████▍    | 5721866/10468770 [00:16<00:11, 401880.69it/s]"
     ]
    },
    {
     "name": "stderr",
     "output_type": "stream",
     "text": [
      "\rDictNBHDTransformer fit:  55%|█████▌    | 5762097/10468770 [00:16<00:11, 399058.10it/s]"
     ]
    },
    {
     "name": "stderr",
     "output_type": "stream",
     "text": [
      "\rDictNBHDTransformer fit:  55%|█████▌    | 5802038/10468770 [00:17<00:11, 398370.37it/s]"
     ]
    },
    {
     "name": "stderr",
     "output_type": "stream",
     "text": [
      "\rDictNBHDTransformer fit:  56%|█████▌    | 5841900/10468770 [00:17<00:11, 393692.20it/s]"
     ]
    },
    {
     "name": "stderr",
     "output_type": "stream",
     "text": [
      "\rDictNBHDTransformer fit:  56%|█████▌    | 5881299/10468770 [00:17<00:11, 393219.12it/s]"
     ]
    },
    {
     "name": "stderr",
     "output_type": "stream",
     "text": [
      "\rDictNBHDTransformer fit:  57%|█████▋    | 5920642/10468770 [00:18<00:49, 91230.69it/s] "
     ]
    },
    {
     "name": "stderr",
     "output_type": "stream",
     "text": [
      "\rDictNBHDTransformer fit:  57%|█████▋    | 5957317/10468770 [00:18<00:38, 117773.58it/s]"
     ]
    },
    {
     "name": "stderr",
     "output_type": "stream",
     "text": [
      "\rDictNBHDTransformer fit:  57%|█████▋    | 5988284/10468770 [00:18<00:31, 143308.96it/s]"
     ]
    },
    {
     "name": "stderr",
     "output_type": "stream",
     "text": [
      "\rDictNBHDTransformer fit:  58%|█████▊    | 6024707/10468770 [00:18<00:25, 175186.32it/s]"
     ]
    },
    {
     "name": "stderr",
     "output_type": "stream",
     "text": [
      "\rDictNBHDTransformer fit:  58%|█████▊    | 6062800/10468770 [00:18<00:21, 209059.43it/s]"
     ]
    },
    {
     "name": "stderr",
     "output_type": "stream",
     "text": [
      "\rDictNBHDTransformer fit:  58%|█████▊    | 6100694/10468770 [00:18<00:18, 241545.11it/s]"
     ]
    },
    {
     "name": "stderr",
     "output_type": "stream",
     "text": [
      "\rDictNBHDTransformer fit:  59%|█████▊    | 6138919/10468770 [00:19<00:15, 271528.13it/s]"
     ]
    },
    {
     "name": "stderr",
     "output_type": "stream",
     "text": [
      "\rDictNBHDTransformer fit:  59%|█████▉    | 6179198/10468770 [00:19<00:14, 300949.01it/s]"
     ]
    },
    {
     "name": "stderr",
     "output_type": "stream",
     "text": [
      "\rDictNBHDTransformer fit:  59%|█████▉    | 6216782/10468770 [00:19<00:13, 320080.00it/s]"
     ]
    },
    {
     "name": "stderr",
     "output_type": "stream",
     "text": [
      "\rDictNBHDTransformer fit:  60%|█████▉    | 6254480/10468770 [00:19<00:12, 335259.08it/s]"
     ]
    },
    {
     "name": "stderr",
     "output_type": "stream",
     "text": [
      "\rDictNBHDTransformer fit:  60%|██████    | 6292336/10468770 [00:19<00:12, 347169.42it/s]"
     ]
    },
    {
     "name": "stderr",
     "output_type": "stream",
     "text": [
      "\rDictNBHDTransformer fit:  60%|██████    | 6329938/10468770 [00:19<00:11, 353836.85it/s]"
     ]
    },
    {
     "name": "stderr",
     "output_type": "stream",
     "text": [
      "\rDictNBHDTransformer fit:  61%|██████    | 6367373/10468770 [00:19<00:11, 359437.62it/s]"
     ]
    },
    {
     "name": "stderr",
     "output_type": "stream",
     "text": [
      "\rDictNBHDTransformer fit:  61%|██████    | 6404899/10468770 [00:19<00:11, 364039.26it/s]"
     ]
    },
    {
     "name": "stderr",
     "output_type": "stream",
     "text": [
      "\rDictNBHDTransformer fit:  62%|██████▏   | 6443178/10468770 [00:19<00:10, 369459.13it/s]"
     ]
    },
    {
     "name": "stderr",
     "output_type": "stream",
     "text": [
      "\rDictNBHDTransformer fit:  62%|██████▏   | 6483280/10468770 [00:19<00:10, 378392.24it/s]"
     ]
    },
    {
     "name": "stderr",
     "output_type": "stream",
     "text": [
      "\rDictNBHDTransformer fit:  62%|██████▏   | 6522746/10468770 [00:20<00:10, 383126.64it/s]"
     ]
    },
    {
     "name": "stderr",
     "output_type": "stream",
     "text": [
      "\rDictNBHDTransformer fit:  63%|██████▎   | 6562918/10468770 [00:20<00:10, 388511.27it/s]"
     ]
    },
    {
     "name": "stderr",
     "output_type": "stream",
     "text": [
      "\rDictNBHDTransformer fit:  63%|██████▎   | 6604398/10468770 [00:20<00:09, 396041.07it/s]"
     ]
    },
    {
     "name": "stderr",
     "output_type": "stream",
     "text": [
      "\rDictNBHDTransformer fit:  63%|██████▎   | 6644255/10468770 [00:20<00:09, 396249.66it/s]"
     ]
    },
    {
     "name": "stderr",
     "output_type": "stream",
     "text": [
      "\rDictNBHDTransformer fit:  64%|██████▍   | 6684057/10468770 [00:20<00:09, 395248.36it/s]"
     ]
    },
    {
     "name": "stderr",
     "output_type": "stream",
     "text": [
      "\rDictNBHDTransformer fit:  64%|██████▍   | 6724597/10468770 [00:20<00:09, 398237.66it/s]"
     ]
    },
    {
     "name": "stderr",
     "output_type": "stream",
     "text": [
      "\rDictNBHDTransformer fit:  65%|██████▍   | 6764514/10468770 [00:20<00:09, 395280.02it/s]"
     ]
    },
    {
     "name": "stderr",
     "output_type": "stream",
     "text": [
      "\rDictNBHDTransformer fit:  65%|██████▍   | 6804112/10468770 [00:20<00:09, 392225.32it/s]"
     ]
    },
    {
     "name": "stderr",
     "output_type": "stream",
     "text": [
      "\rDictNBHDTransformer fit:  65%|██████▌   | 6843389/10468770 [00:20<00:09, 388553.84it/s]"
     ]
    },
    {
     "name": "stderr",
     "output_type": "stream",
     "text": [
      "\rDictNBHDTransformer fit:  66%|██████▌   | 6882291/10468770 [00:20<00:09, 385903.53it/s]"
     ]
    },
    {
     "name": "stderr",
     "output_type": "stream",
     "text": [
      "\rDictNBHDTransformer fit:  66%|██████▌   | 6920918/10468770 [00:21<00:09, 384215.51it/s]"
     ]
    },
    {
     "name": "stderr",
     "output_type": "stream",
     "text": [
      "\rDictNBHDTransformer fit:  66%|██████▋   | 6960886/10468770 [00:21<00:09, 388725.40it/s]"
     ]
    },
    {
     "name": "stderr",
     "output_type": "stream",
     "text": [
      "\rDictNBHDTransformer fit:  67%|██████▋   | 7000691/10468770 [00:21<00:08, 391469.81it/s]"
     ]
    },
    {
     "name": "stderr",
     "output_type": "stream",
     "text": [
      "\rDictNBHDTransformer fit:  67%|██████▋   | 7040219/10468770 [00:21<00:08, 392601.62it/s]"
     ]
    },
    {
     "name": "stderr",
     "output_type": "stream",
     "text": [
      "\rDictNBHDTransformer fit:  68%|██████▊   | 7079499/10468770 [00:21<00:09, 363407.43it/s]"
     ]
    },
    {
     "name": "stderr",
     "output_type": "stream",
     "text": [
      "\rDictNBHDTransformer fit:  68%|██████▊   | 7116286/10468770 [00:21<00:09, 364248.49it/s]"
     ]
    },
    {
     "name": "stderr",
     "output_type": "stream",
     "text": [
      "\rDictNBHDTransformer fit:  68%|██████▊   | 7154822/10468770 [00:21<00:08, 370329.76it/s]"
     ]
    },
    {
     "name": "stderr",
     "output_type": "stream",
     "text": [
      "\rDictNBHDTransformer fit:  69%|██████▊   | 7192099/10468770 [00:21<00:09, 360929.28it/s]"
     ]
    },
    {
     "name": "stderr",
     "output_type": "stream",
     "text": [
      "\rDictNBHDTransformer fit:  69%|██████▉   | 7228878/10468770 [00:21<00:08, 362959.29it/s]"
     ]
    },
    {
     "name": "stderr",
     "output_type": "stream",
     "text": [
      "\rDictNBHDTransformer fit:  69%|██████▉   | 7267269/10468770 [00:22<00:08, 368998.23it/s]"
     ]
    },
    {
     "name": "stderr",
     "output_type": "stream",
     "text": [
      "\rDictNBHDTransformer fit:  70%|██████▉   | 7304305/10468770 [00:22<00:08, 368873.70it/s]"
     ]
    },
    {
     "name": "stderr",
     "output_type": "stream",
     "text": [
      "\rDictNBHDTransformer fit:  70%|███████   | 7341311/10468770 [00:22<00:08, 369228.63it/s]"
     ]
    },
    {
     "name": "stderr",
     "output_type": "stream",
     "text": [
      "\rDictNBHDTransformer fit:  70%|███████   | 7378778/10468770 [00:22<00:08, 370842.12it/s]"
     ]
    },
    {
     "name": "stderr",
     "output_type": "stream",
     "text": [
      "\rDictNBHDTransformer fit:  71%|███████   | 7415911/10468770 [00:22<00:08, 363508.85it/s]"
     ]
    },
    {
     "name": "stderr",
     "output_type": "stream",
     "text": [
      "\rDictNBHDTransformer fit:  71%|███████   | 7452328/10468770 [00:22<00:19, 158533.92it/s]"
     ]
    },
    {
     "name": "stderr",
     "output_type": "stream",
     "text": [
      "\rDictNBHDTransformer fit:  72%|███████▏  | 7489559/10468770 [00:23<00:15, 191524.81it/s]"
     ]
    },
    {
     "name": "stderr",
     "output_type": "stream",
     "text": [
      "\rDictNBHDTransformer fit:  72%|███████▏  | 7527438/10468770 [00:23<00:13, 224876.80it/s]"
     ]
    },
    {
     "name": "stderr",
     "output_type": "stream",
     "text": [
      "\rDictNBHDTransformer fit:  72%|███████▏  | 7563981/10468770 [00:23<00:11, 254207.72it/s]"
     ]
    },
    {
     "name": "stderr",
     "output_type": "stream",
     "text": [
      "\rDictNBHDTransformer fit:  73%|███████▎  | 7601327/10468770 [00:23<00:10, 281138.24it/s]"
     ]
    },
    {
     "name": "stderr",
     "output_type": "stream",
     "text": [
      "\rDictNBHDTransformer fit:  73%|███████▎  | 7638943/10468770 [00:23<00:09, 304186.39it/s]"
     ]
    },
    {
     "name": "stderr",
     "output_type": "stream",
     "text": [
      "\rDictNBHDTransformer fit:  73%|███████▎  | 7677474/10468770 [00:23<00:08, 324694.76it/s]"
     ]
    },
    {
     "name": "stderr",
     "output_type": "stream",
     "text": [
      "\rDictNBHDTransformer fit:  74%|███████▎  | 7717114/10468770 [00:23<00:08, 343322.63it/s]"
     ]
    },
    {
     "name": "stderr",
     "output_type": "stream",
     "text": [
      "\rDictNBHDTransformer fit:  74%|███████▍  | 7754594/10468770 [00:23<00:07, 351022.68it/s]"
     ]
    },
    {
     "name": "stderr",
     "output_type": "stream",
     "text": [
      "\rDictNBHDTransformer fit:  74%|███████▍  | 7791942/10468770 [00:23<00:07, 355421.94it/s]"
     ]
    },
    {
     "name": "stderr",
     "output_type": "stream",
     "text": [
      "\rDictNBHDTransformer fit:  75%|███████▍  | 7830259/10468770 [00:23<00:07, 363313.87it/s]"
     ]
    },
    {
     "name": "stderr",
     "output_type": "stream",
     "text": [
      "\rDictNBHDTransformer fit:  75%|███████▌  | 7868323/10468770 [00:24<00:07, 368341.61it/s]"
     ]
    },
    {
     "name": "stderr",
     "output_type": "stream",
     "text": [
      "\rDictNBHDTransformer fit:  76%|███████▌  | 7905981/10468770 [00:24<00:06, 369210.14it/s]"
     ]
    },
    {
     "name": "stderr",
     "output_type": "stream",
     "text": [
      "\rDictNBHDTransformer fit:  76%|███████▌  | 7944024/10468770 [00:24<00:06, 372502.70it/s]"
     ]
    },
    {
     "name": "stderr",
     "output_type": "stream",
     "text": [
      "\rDictNBHDTransformer fit:  76%|███████▌  | 7981686/10468770 [00:24<00:06, 372929.14it/s]"
     ]
    },
    {
     "name": "stderr",
     "output_type": "stream",
     "text": [
      "\rDictNBHDTransformer fit:  77%|███████▋  | 8019267/10468770 [00:24<00:06, 369271.16it/s]"
     ]
    },
    {
     "name": "stderr",
     "output_type": "stream",
     "text": [
      "\rDictNBHDTransformer fit:  77%|███████▋  | 8058534/10468770 [00:24<00:06, 375991.75it/s]"
     ]
    },
    {
     "name": "stderr",
     "output_type": "stream",
     "text": [
      "\rDictNBHDTransformer fit:  77%|███████▋  | 8097469/10468770 [00:24<00:06, 379901.82it/s]"
     ]
    },
    {
     "name": "stderr",
     "output_type": "stream",
     "text": [
      "\rDictNBHDTransformer fit:  78%|███████▊  | 8135619/10468770 [00:24<00:06, 380377.53it/s]"
     ]
    },
    {
     "name": "stderr",
     "output_type": "stream",
     "text": [
      "\rDictNBHDTransformer fit:  78%|███████▊  | 8174174/10468770 [00:24<00:06, 381913.40it/s]"
     ]
    },
    {
     "name": "stderr",
     "output_type": "stream",
     "text": [
      "\rDictNBHDTransformer fit:  78%|███████▊  | 8212500/10468770 [00:24<00:05, 382314.04it/s]"
     ]
    },
    {
     "name": "stderr",
     "output_type": "stream",
     "text": [
      "\rDictNBHDTransformer fit:  79%|███████▉  | 8251085/10468770 [00:25<00:05, 383364.57it/s]"
     ]
    },
    {
     "name": "stderr",
     "output_type": "stream",
     "text": [
      "\rDictNBHDTransformer fit:  79%|███████▉  | 8289455/10468770 [00:25<00:05, 379931.69it/s]"
     ]
    },
    {
     "name": "stderr",
     "output_type": "stream",
     "text": [
      "\rDictNBHDTransformer fit:  80%|███████▉  | 8327933/10468770 [00:25<00:05, 381373.14it/s]"
     ]
    },
    {
     "name": "stderr",
     "output_type": "stream",
     "text": [
      "\rDictNBHDTransformer fit:  80%|███████▉  | 8366977/10468770 [00:25<00:05, 384043.11it/s]"
     ]
    },
    {
     "name": "stderr",
     "output_type": "stream",
     "text": [
      "\rDictNBHDTransformer fit:  80%|████████  | 8405402/10468770 [00:25<00:05, 379904.56it/s]"
     ]
    },
    {
     "name": "stderr",
     "output_type": "stream",
     "text": [
      "\rDictNBHDTransformer fit:  81%|████████  | 8443417/10468770 [00:25<00:05, 375728.16it/s]"
     ]
    },
    {
     "name": "stderr",
     "output_type": "stream",
     "text": [
      "\rDictNBHDTransformer fit:  81%|████████  | 8481018/10468770 [00:25<00:05, 368107.65it/s]"
     ]
    },
    {
     "name": "stderr",
     "output_type": "stream",
     "text": [
      "\rDictNBHDTransformer fit:  81%|████████▏ | 8520025/10468770 [00:25<00:05, 374431.03it/s]"
     ]
    },
    {
     "name": "stderr",
     "output_type": "stream",
     "text": [
      "\rDictNBHDTransformer fit:  82%|████████▏ | 8557533/10468770 [00:25<00:05, 369848.05it/s]"
     ]
    },
    {
     "name": "stderr",
     "output_type": "stream",
     "text": [
      "\rDictNBHDTransformer fit:  82%|████████▏ | 8594875/10468770 [00:25<00:05, 370908.33it/s]"
     ]
    },
    {
     "name": "stderr",
     "output_type": "stream",
     "text": [
      "\rDictNBHDTransformer fit:  82%|████████▏ | 8633559/10468770 [00:26<00:04, 375539.30it/s]"
     ]
    },
    {
     "name": "stderr",
     "output_type": "stream",
     "text": [
      "\rDictNBHDTransformer fit:  83%|████████▎ | 8672268/10468770 [00:26<00:04, 378929.46it/s]"
     ]
    },
    {
     "name": "stderr",
     "output_type": "stream",
     "text": [
      "\rDictNBHDTransformer fit:  83%|████████▎ | 8711951/10468770 [00:26<00:04, 384125.44it/s]"
     ]
    },
    {
     "name": "stderr",
     "output_type": "stream",
     "text": [
      "\rDictNBHDTransformer fit:  84%|████████▎ | 8750729/10468770 [00:26<00:04, 385207.55it/s]"
     ]
    },
    {
     "name": "stderr",
     "output_type": "stream",
     "text": [
      "\rDictNBHDTransformer fit:  84%|████████▍ | 8789281/10468770 [00:26<00:04, 374916.78it/s]"
     ]
    },
    {
     "name": "stderr",
     "output_type": "stream",
     "text": [
      "\rDictNBHDTransformer fit:  84%|████████▍ | 8827478/10468770 [00:26<00:04, 377004.55it/s]"
     ]
    },
    {
     "name": "stderr",
     "output_type": "stream",
     "text": [
      "\rDictNBHDTransformer fit:  85%|████████▍ | 8866087/10468770 [00:26<00:04, 379684.01it/s]"
     ]
    },
    {
     "name": "stderr",
     "output_type": "stream",
     "text": [
      "\rDictNBHDTransformer fit:  85%|████████▌ | 8904103/10468770 [00:28<00:20, 77774.68it/s] "
     ]
    },
    {
     "name": "stderr",
     "output_type": "stream",
     "text": [
      "\rDictNBHDTransformer fit:  85%|████████▌ | 8940510/10468770 [00:28<00:15, 101787.63it/s]"
     ]
    },
    {
     "name": "stderr",
     "output_type": "stream",
     "text": [
      "\rDictNBHDTransformer fit:  86%|████████▌ | 8976985/10468770 [00:28<00:11, 129877.65it/s]"
     ]
    },
    {
     "name": "stderr",
     "output_type": "stream",
     "text": [
      "\rDictNBHDTransformer fit:  86%|████████▌ | 9015843/10468770 [00:28<00:08, 162291.97it/s]"
     ]
    },
    {
     "name": "stderr",
     "output_type": "stream",
     "text": [
      "\rDictNBHDTransformer fit:  86%|████████▋ | 9053407/10468770 [00:28<00:07, 195623.81it/s]"
     ]
    },
    {
     "name": "stderr",
     "output_type": "stream",
     "text": [
      "\rDictNBHDTransformer fit:  87%|████████▋ | 9092589/10468770 [00:28<00:05, 230204.66it/s]"
     ]
    },
    {
     "name": "stderr",
     "output_type": "stream",
     "text": [
      "\rDictNBHDTransformer fit:  87%|████████▋ | 9131939/10468770 [00:28<00:05, 262938.57it/s]"
     ]
    },
    {
     "name": "stderr",
     "output_type": "stream",
     "text": [
      "\rDictNBHDTransformer fit:  88%|████████▊ | 9170944/10468770 [00:28<00:04, 291429.06it/s]"
     ]
    },
    {
     "name": "stderr",
     "output_type": "stream",
     "text": [
      "\rDictNBHDTransformer fit:  88%|████████▊ | 9210476/10468770 [00:28<00:03, 316369.75it/s]"
     ]
    },
    {
     "name": "stderr",
     "output_type": "stream",
     "text": [
      "\rDictNBHDTransformer fit:  88%|████████▊ | 9249519/10468770 [00:28<00:03, 335459.52it/s]"
     ]
    },
    {
     "name": "stderr",
     "output_type": "stream",
     "text": [
      "\rDictNBHDTransformer fit:  89%|████████▊ | 9288042/10468770 [00:29<00:03, 348907.30it/s]"
     ]
    },
    {
     "name": "stderr",
     "output_type": "stream",
     "text": [
      "\rDictNBHDTransformer fit:  89%|████████▉ | 9326555/10468770 [00:29<00:03, 356716.50it/s]"
     ]
    },
    {
     "name": "stderr",
     "output_type": "stream",
     "text": [
      "\rDictNBHDTransformer fit:  89%|████████▉ | 9365550/10468770 [00:29<00:03, 366075.27it/s]"
     ]
    },
    {
     "name": "stderr",
     "output_type": "stream",
     "text": [
      "\rDictNBHDTransformer fit:  90%|████████▉ | 9404327/10468770 [00:29<00:02, 372323.52it/s]"
     ]
    },
    {
     "name": "stderr",
     "output_type": "stream",
     "text": [
      "\rDictNBHDTransformer fit:  90%|█████████ | 9443185/10468770 [00:29<00:02, 377054.63it/s]"
     ]
    },
    {
     "name": "stderr",
     "output_type": "stream",
     "text": [
      "\rDictNBHDTransformer fit:  91%|█████████ | 9482297/10468770 [00:29<00:02, 381164.57it/s]"
     ]
    },
    {
     "name": "stderr",
     "output_type": "stream",
     "text": [
      "\rDictNBHDTransformer fit:  91%|█████████ | 9521262/10468770 [00:29<00:02, 383665.58it/s]"
     ]
    },
    {
     "name": "stderr",
     "output_type": "stream",
     "text": [
      "\rDictNBHDTransformer fit:  91%|█████████▏| 9561485/10468770 [00:29<00:02, 389049.32it/s]"
     ]
    },
    {
     "name": "stderr",
     "output_type": "stream",
     "text": [
      "\rDictNBHDTransformer fit:  92%|█████████▏| 9600741/10468770 [00:29<00:02, 389710.17it/s]"
     ]
    },
    {
     "name": "stderr",
     "output_type": "stream",
     "text": [
      "\rDictNBHDTransformer fit:  92%|█████████▏| 9639958/10468770 [00:29<00:02, 386500.38it/s]"
     ]
    },
    {
     "name": "stderr",
     "output_type": "stream",
     "text": [
      "\rDictNBHDTransformer fit:  92%|█████████▏| 9678787/10468770 [00:30<00:02, 380947.04it/s]"
     ]
    },
    {
     "name": "stderr",
     "output_type": "stream",
     "text": [
      "\rDictNBHDTransformer fit:  93%|█████████▎| 9717025/10468770 [00:30<00:01, 379930.76it/s]"
     ]
    },
    {
     "name": "stderr",
     "output_type": "stream",
     "text": [
      "\rDictNBHDTransformer fit:  93%|█████████▎| 9755119/10468770 [00:30<00:01, 377055.82it/s]"
     ]
    },
    {
     "name": "stderr",
     "output_type": "stream",
     "text": [
      "\rDictNBHDTransformer fit:  94%|█████████▎| 9793676/10468770 [00:30<00:01, 379558.14it/s]"
     ]
    },
    {
     "name": "stderr",
     "output_type": "stream",
     "text": [
      "\rDictNBHDTransformer fit:  94%|█████████▍| 9832865/10468770 [00:30<00:01, 383173.12it/s]"
     ]
    },
    {
     "name": "stderr",
     "output_type": "stream",
     "text": [
      "\rDictNBHDTransformer fit:  94%|█████████▍| 9872165/10468770 [00:30<00:01, 386067.95it/s]"
     ]
    },
    {
     "name": "stderr",
     "output_type": "stream",
     "text": [
      "\rDictNBHDTransformer fit:  95%|█████████▍| 9910811/10468770 [00:30<00:01, 384377.57it/s]"
     ]
    },
    {
     "name": "stderr",
     "output_type": "stream",
     "text": [
      "\rDictNBHDTransformer fit:  95%|█████████▌| 9949278/10468770 [00:30<00:01, 380695.01it/s]"
     ]
    },
    {
     "name": "stderr",
     "output_type": "stream",
     "text": [
      "\rDictNBHDTransformer fit:  95%|█████████▌| 9987376/10468770 [00:30<00:01, 377573.38it/s]"
     ]
    },
    {
     "name": "stderr",
     "output_type": "stream",
     "text": [
      "\rDictNBHDTransformer fit:  96%|█████████▌| 10025159/10468770 [00:31<00:01, 373805.92it/s]"
     ]
    },
    {
     "name": "stderr",
     "output_type": "stream",
     "text": [
      "\rDictNBHDTransformer fit:  96%|█████████▌| 10062567/10468770 [00:31<00:01, 365736.89it/s]"
     ]
    },
    {
     "name": "stderr",
     "output_type": "stream",
     "text": [
      "\rDictNBHDTransformer fit:  96%|█████████▋| 10099980/10468770 [00:31<00:01, 368055.26it/s]"
     ]
    },
    {
     "name": "stderr",
     "output_type": "stream",
     "text": [
      "\rDictNBHDTransformer fit:  97%|█████████▋| 10136830/10468770 [00:31<00:00, 364292.14it/s]"
     ]
    },
    {
     "name": "stderr",
     "output_type": "stream",
     "text": [
      "\rDictNBHDTransformer fit:  97%|█████████▋| 10173483/10468770 [00:31<00:00, 364959.69it/s]"
     ]
    },
    {
     "name": "stderr",
     "output_type": "stream",
     "text": [
      "\rDictNBHDTransformer fit:  98%|█████████▊| 10211865/10468770 [00:31<00:00, 370420.09it/s]"
     ]
    },
    {
     "name": "stderr",
     "output_type": "stream",
     "text": [
      "\rDictNBHDTransformer fit:  98%|█████████▊| 10250340/10468770 [00:31<00:00, 374603.48it/s]"
     ]
    },
    {
     "name": "stderr",
     "output_type": "stream",
     "text": [
      "\rDictNBHDTransformer fit:  98%|█████████▊| 10287840/10468770 [00:31<00:00, 370169.47it/s]"
     ]
    },
    {
     "name": "stderr",
     "output_type": "stream",
     "text": [
      "\rDictNBHDTransformer fit:  99%|█████████▊| 10324896/10468770 [00:31<00:00, 368991.21it/s]"
     ]
    },
    {
     "name": "stderr",
     "output_type": "stream",
     "text": [
      "\rDictNBHDTransformer fit:  99%|█████████▉| 10361824/10468770 [00:31<00:00, 368220.05it/s]"
     ]
    },
    {
     "name": "stderr",
     "output_type": "stream",
     "text": [
      "\rDictNBHDTransformer fit:  99%|█████████▉| 10398667/10468770 [00:32<00:00, 364751.03it/s]"
     ]
    },
    {
     "name": "stderr",
     "output_type": "stream",
     "text": [
      "\rDictNBHDTransformer fit: 100%|█████████▉| 10435460/10468770 [00:32<00:00, 365696.70it/s]"
     ]
    },
    {
     "name": "stderr",
     "output_type": "stream",
     "text": [
      "\rDictNBHDTransformer fit: 100%|██████████| 10468770/10468770 [00:32<00:00, 323767.48it/s]"
     ]
    },
    {
     "name": "stderr",
     "output_type": "stream",
     "text": [
      "\n"
     ]
    },
    {
     "name": "stderr",
     "output_type": "stream",
     "text": [
      "\rDictClassTransformer_DATE fit:   0%|          | 0/10468770 [00:00<?, ?it/s]"
     ]
    },
    {
     "name": "stderr",
     "output_type": "stream",
     "text": [
      "\rDictClassTransformer_DATE fit:   0%|          | 15320/10468770 [00:00<10:36, 16436.20it/s]"
     ]
    },
    {
     "name": "stderr",
     "output_type": "stream",
     "text": [
      "\rDictClassTransformer_DATE fit:   1%|          | 68699/10468770 [00:01<08:20, 20800.10it/s]"
     ]
    },
    {
     "name": "stderr",
     "output_type": "stream",
     "text": [
      "\rDictClassTransformer_DATE fit:   1%|▏         | 149828/10468770 [00:02<05:51, 29391.48it/s]"
     ]
    },
    {
     "name": "stderr",
     "output_type": "stream",
     "text": [
      "\rDictClassTransformer_DATE fit:   2%|▏         | 236201/10468770 [00:02<04:07, 41384.28it/s]"
     ]
    },
    {
     "name": "stderr",
     "output_type": "stream",
     "text": [
      "\rDictClassTransformer_DATE fit:   3%|▎         | 330766/10468770 [00:02<02:54, 58031.97it/s]"
     ]
    },
    {
     "name": "stderr",
     "output_type": "stream",
     "text": [
      "\rDictClassTransformer_DATE fit:   4%|▍         | 433452/10468770 [00:02<02:03, 80942.36it/s]"
     ]
    },
    {
     "name": "stderr",
     "output_type": "stream",
     "text": [
      "\rDictClassTransformer_DATE fit:   5%|▌         | 536235/10468770 [00:02<01:28, 111856.74it/s]"
     ]
    },
    {
     "name": "stderr",
     "output_type": "stream",
     "text": [
      "\rDictClassTransformer_DATE fit:   6%|▌         | 645815/10468770 [00:02<01:04, 153097.61it/s]"
     ]
    },
    {
     "name": "stderr",
     "output_type": "stream",
     "text": [
      "\rDictClassTransformer_DATE fit:   7%|▋         | 759211/10468770 [00:02<00:46, 206747.91it/s]"
     ]
    },
    {
     "name": "stderr",
     "output_type": "stream",
     "text": [
      "\rDictClassTransformer_DATE fit:   8%|▊         | 877774/10468770 [00:02<00:34, 274816.03it/s]"
     ]
    },
    {
     "name": "stderr",
     "output_type": "stream",
     "text": [
      "\rDictClassTransformer_DATE fit:  10%|▉         | 1001014/10468770 [00:02<00:26, 358347.63it/s]"
     ]
    },
    {
     "name": "stderr",
     "output_type": "stream",
     "text": [
      "\rDictClassTransformer_DATE fit:  11%|█         | 1124609/10468770 [00:02<00:20, 455344.21it/s]"
     ]
    },
    {
     "name": "stderr",
     "output_type": "stream",
     "text": [
      "\rDictClassTransformer_DATE fit:  12%|█▏        | 1240630/10468770 [00:03<00:16, 556832.31it/s]"
     ]
    },
    {
     "name": "stderr",
     "output_type": "stream",
     "text": [
      "\rDictClassTransformer_DATE fit:  13%|█▎        | 1358682/10468770 [00:03<00:13, 661707.62it/s]"
     ]
    },
    {
     "name": "stderr",
     "output_type": "stream",
     "text": [
      "\rDictClassTransformer_DATE fit:  14%|█▍        | 1474137/10468770 [00:03<00:12, 743487.73it/s]"
     ]
    },
    {
     "name": "stderr",
     "output_type": "stream",
     "text": [
      "\rDictClassTransformer_DATE fit:  15%|█▌        | 1590727/10468770 [00:03<00:10, 834151.75it/s]"
     ]
    },
    {
     "name": "stderr",
     "output_type": "stream",
     "text": [
      "\rDictClassTransformer_DATE fit:  16%|█▋        | 1716740/10468770 [00:03<00:09, 928290.87it/s]"
     ]
    },
    {
     "name": "stderr",
     "output_type": "stream",
     "text": [
      "\rDictClassTransformer_DATE fit:  18%|█▊        | 1843587/10468770 [00:03<00:08, 1009509.86it/s]"
     ]
    },
    {
     "name": "stderr",
     "output_type": "stream",
     "text": [
      "\rDictClassTransformer_DATE fit:  19%|█▉        | 1971078/10468770 [00:03<00:07, 1076752.47it/s]"
     ]
    },
    {
     "name": "stderr",
     "output_type": "stream",
     "text": [
      "\rDictClassTransformer_DATE fit:  20%|██        | 2095016/10468770 [00:03<00:07, 1120875.37it/s]"
     ]
    },
    {
     "name": "stderr",
     "output_type": "stream",
     "text": [
      "\rDictClassTransformer_DATE fit:  21%|██        | 2221327/10468770 [00:03<00:07, 1160058.13it/s]"
     ]
    },
    {
     "name": "stderr",
     "output_type": "stream",
     "text": [
      "\rDictClassTransformer_DATE fit:  22%|██▏       | 2345191/10468770 [00:03<00:07, 1149525.83it/s]"
     ]
    },
    {
     "name": "stderr",
     "output_type": "stream",
     "text": [
      "\rDictClassTransformer_DATE fit:  24%|██▎       | 2471434/10468770 [00:04<00:06, 1181217.68it/s]"
     ]
    },
    {
     "name": "stderr",
     "output_type": "stream",
     "text": [
      "\rDictClassTransformer_DATE fit:  25%|██▍       | 2593711/10468770 [00:04<00:06, 1193380.79it/s]"
     ]
    },
    {
     "name": "stderr",
     "output_type": "stream",
     "text": [
      "\rDictClassTransformer_DATE fit:  26%|██▌       | 2719019/10468770 [00:04<00:06, 1210681.60it/s]"
     ]
    },
    {
     "name": "stderr",
     "output_type": "stream",
     "text": [
      "\rDictClassTransformer_DATE fit:  27%|██▋       | 2843301/10468770 [00:04<00:06, 1220146.72it/s]"
     ]
    },
    {
     "name": "stderr",
     "output_type": "stream",
     "text": [
      "\rDictClassTransformer_DATE fit:  28%|██▊       | 2967301/10468770 [00:04<00:06, 1226031.64it/s]"
     ]
    },
    {
     "name": "stderr",
     "output_type": "stream",
     "text": [
      "\rDictClassTransformer_DATE fit:  30%|██▉       | 3094839/10468770 [00:04<00:05, 1240427.35it/s]"
     ]
    },
    {
     "name": "stderr",
     "output_type": "stream",
     "text": [
      "\rDictClassTransformer_DATE fit:  31%|███       | 3222093/10468770 [00:04<00:05, 1249887.39it/s]"
     ]
    },
    {
     "name": "stderr",
     "output_type": "stream",
     "text": [
      "\rDictClassTransformer_DATE fit:  32%|███▏      | 3350498/10468770 [00:04<00:05, 1259943.23it/s]"
     ]
    },
    {
     "name": "stderr",
     "output_type": "stream",
     "text": [
      "\rDictClassTransformer_DATE fit:  33%|███▎      | 3476900/10468770 [00:04<00:05, 1245914.33it/s]"
     ]
    },
    {
     "name": "stderr",
     "output_type": "stream",
     "text": [
      "\rDictClassTransformer_DATE fit:  34%|███▍      | 3603546/10468770 [00:04<00:05, 1252003.62it/s]"
     ]
    },
    {
     "name": "stderr",
     "output_type": "stream",
     "text": [
      "\rDictClassTransformer_DATE fit:  36%|███▌      | 3728978/10468770 [00:05<00:05, 1230884.46it/s]"
     ]
    },
    {
     "name": "stderr",
     "output_type": "stream",
     "text": [
      "\rDictClassTransformer_DATE fit:  37%|███▋      | 3853040/10468770 [00:05<00:05, 1233785.01it/s]"
     ]
    },
    {
     "name": "stderr",
     "output_type": "stream",
     "text": [
      "\rDictClassTransformer_DATE fit:  38%|███▊      | 3978083/10468770 [00:05<00:05, 1238728.63it/s]"
     ]
    },
    {
     "name": "stderr",
     "output_type": "stream",
     "text": [
      "\rDictClassTransformer_DATE fit:  39%|███▉      | 4102081/10468770 [00:05<00:05, 1237267.36it/s]"
     ]
    },
    {
     "name": "stderr",
     "output_type": "stream",
     "text": [
      "\rDictClassTransformer_DATE fit:  40%|████      | 4228449/10468770 [00:05<00:05, 1245066.94it/s]"
     ]
    },
    {
     "name": "stderr",
     "output_type": "stream",
     "text": [
      "\rDictClassTransformer_DATE fit:  42%|████▏     | 4355056/10468770 [00:05<00:04, 1251290.26it/s]"
     ]
    },
    {
     "name": "stderr",
     "output_type": "stream",
     "text": [
      "\rDictClassTransformer_DATE fit:  43%|████▎     | 4481017/10468770 [00:05<00:04, 1253771.40it/s]"
     ]
    },
    {
     "name": "stderr",
     "output_type": "stream",
     "text": [
      "\rDictClassTransformer_DATE fit:  44%|████▍     | 4606437/10468770 [00:05<00:04, 1247118.21it/s]"
     ]
    },
    {
     "name": "stderr",
     "output_type": "stream",
     "text": [
      "\rDictClassTransformer_DATE fit:  45%|████▌     | 4731187/10468770 [00:05<00:04, 1239064.50it/s]"
     ]
    },
    {
     "name": "stderr",
     "output_type": "stream",
     "text": [
      "\rDictClassTransformer_DATE fit:  46%|████▋     | 4857546/10468770 [00:05<00:04, 1246319.32it/s]"
     ]
    },
    {
     "name": "stderr",
     "output_type": "stream",
     "text": [
      "\rDictClassTransformer_DATE fit:  48%|████▊     | 4984141/10468770 [00:06<00:04, 1252136.68it/s]"
     ]
    },
    {
     "name": "stderr",
     "output_type": "stream",
     "text": [
      "\rDictClassTransformer_DATE fit:  49%|████▉     | 5109387/10468770 [00:06<00:04, 1241892.85it/s]"
     ]
    },
    {
     "name": "stderr",
     "output_type": "stream",
     "text": [
      "\rDictClassTransformer_DATE fit:  50%|█████     | 5238859/10468770 [00:06<00:04, 1257278.73it/s]"
     ]
    },
    {
     "name": "stderr",
     "output_type": "stream",
     "text": [
      "\rDictClassTransformer_DATE fit:  51%|█████▏    | 5365646/10468770 [00:06<00:04, 1260434.26it/s]"
     ]
    },
    {
     "name": "stderr",
     "output_type": "stream",
     "text": [
      "\rDictClassTransformer_DATE fit:  52%|█████▏    | 5493718/10468770 [00:06<00:03, 1266449.85it/s]"
     ]
    },
    {
     "name": "stderr",
     "output_type": "stream",
     "text": [
      "\rDictClassTransformer_DATE fit:  54%|█████▎    | 5620408/10468770 [00:06<00:03, 1266125.29it/s]"
     ]
    },
    {
     "name": "stderr",
     "output_type": "stream",
     "text": [
      "\rDictClassTransformer_DATE fit:  55%|█████▍    | 5747052/10468770 [00:06<00:03, 1263786.19it/s]"
     ]
    },
    {
     "name": "stderr",
     "output_type": "stream",
     "text": [
      "\rDictClassTransformer_DATE fit:  56%|█████▌    | 5873454/10468770 [00:06<00:03, 1257102.25it/s]"
     ]
    },
    {
     "name": "stderr",
     "output_type": "stream",
     "text": [
      "\rDictClassTransformer_DATE fit:  57%|█████▋    | 6002405/10468770 [00:06<00:03, 1266648.14it/s]"
     ]
    },
    {
     "name": "stderr",
     "output_type": "stream",
     "text": [
      "\rDictClassTransformer_DATE fit:  59%|█████▊    | 6129104/10468770 [00:06<00:03, 1266101.86it/s]"
     ]
    },
    {
     "name": "stderr",
     "output_type": "stream",
     "text": [
      "\rDictClassTransformer_DATE fit:  60%|█████▉    | 6255739/10468770 [00:07<00:03, 1257029.59it/s]"
     ]
    },
    {
     "name": "stderr",
     "output_type": "stream",
     "text": [
      "\rDictClassTransformer_DATE fit:  61%|██████    | 6381474/10468770 [00:07<00:03, 1244197.82it/s]"
     ]
    },
    {
     "name": "stderr",
     "output_type": "stream",
     "text": [
      "\rDictClassTransformer_DATE fit:  62%|██████▏   | 6508903/10468770 [00:07<00:03, 1253071.13it/s]"
     ]
    },
    {
     "name": "stderr",
     "output_type": "stream",
     "text": [
      "\rDictClassTransformer_DATE fit:  63%|██████▎   | 6634262/10468770 [00:07<00:03, 1253095.39it/s]"
     ]
    },
    {
     "name": "stderr",
     "output_type": "stream",
     "text": [
      "\rDictClassTransformer_DATE fit:  65%|██████▍   | 6760451/10468770 [00:07<00:02, 1255720.34it/s]"
     ]
    },
    {
     "name": "stderr",
     "output_type": "stream",
     "text": [
      "\rDictClassTransformer_DATE fit:  66%|██████▌   | 6886050/10468770 [00:07<00:04, 798990.44it/s] "
     ]
    },
    {
     "name": "stderr",
     "output_type": "stream",
     "text": [
      "\rDictClassTransformer_DATE fit:  67%|██████▋   | 7000634/10468770 [00:07<00:03, 878792.44it/s]"
     ]
    },
    {
     "name": "stderr",
     "output_type": "stream",
     "text": [
      "\rDictClassTransformer_DATE fit:  68%|██████▊   | 7115492/10468770 [00:07<00:03, 945410.20it/s]"
     ]
    },
    {
     "name": "stderr",
     "output_type": "stream",
     "text": [
      "\rDictClassTransformer_DATE fit:  69%|██████▉   | 7235099/10468770 [00:08<00:03, 1008836.26it/s]"
     ]
    },
    {
     "name": "stderr",
     "output_type": "stream",
     "text": [
      "\rDictClassTransformer_DATE fit:  70%|███████   | 7356312/10468770 [00:08<00:02, 1062281.89it/s]"
     ]
    },
    {
     "name": "stderr",
     "output_type": "stream",
     "text": [
      "\rDictClassTransformer_DATE fit:  71%|███████▏  | 7479922/10468770 [00:08<00:02, 1109065.88it/s]"
     ]
    },
    {
     "name": "stderr",
     "output_type": "stream",
     "text": [
      "\rDictClassTransformer_DATE fit:  73%|███████▎  | 7605077/10468770 [00:08<00:02, 1148283.74it/s]"
     ]
    },
    {
     "name": "stderr",
     "output_type": "stream",
     "text": [
      "\rDictClassTransformer_DATE fit:  74%|███████▍  | 7727654/10468770 [00:08<00:02, 1170479.02it/s]"
     ]
    },
    {
     "name": "stderr",
     "output_type": "stream",
     "text": [
      "\rDictClassTransformer_DATE fit:  75%|███████▌  | 7852849/10468770 [00:08<00:02, 1193784.29it/s]"
     ]
    },
    {
     "name": "stderr",
     "output_type": "stream",
     "text": [
      "\rDictClassTransformer_DATE fit:  76%|███████▌  | 7974728/10468770 [00:08<00:02, 1168793.49it/s]"
     ]
    },
    {
     "name": "stderr",
     "output_type": "stream",
     "text": [
      "\rDictClassTransformer_DATE fit:  77%|███████▋  | 8097742/10468770 [00:08<00:01, 1186544.74it/s]"
     ]
    },
    {
     "name": "stderr",
     "output_type": "stream",
     "text": [
      "\rDictClassTransformer_DATE fit:  79%|███████▊  | 8220887/10468770 [00:08<00:01, 1199665.63it/s]"
     ]
    },
    {
     "name": "stderr",
     "output_type": "stream",
     "text": [
      "\rDictClassTransformer_DATE fit:  80%|███████▉  | 8346613/10468770 [00:08<00:01, 1216379.98it/s]"
     ]
    },
    {
     "name": "stderr",
     "output_type": "stream",
     "text": [
      "\rDictClassTransformer_DATE fit:  81%|████████  | 8469613/10468770 [00:09<00:01, 1220433.69it/s]"
     ]
    },
    {
     "name": "stderr",
     "output_type": "stream",
     "text": [
      "\rDictClassTransformer_DATE fit:  82%|████████▏ | 8592595/10468770 [00:09<00:01, 1223223.54it/s]"
     ]
    },
    {
     "name": "stderr",
     "output_type": "stream",
     "text": [
      "\rDictClassTransformer_DATE fit:  83%|████████▎ | 8717170/10468770 [00:09<00:01, 1229888.00it/s]"
     ]
    },
    {
     "name": "stderr",
     "output_type": "stream",
     "text": [
      "\rDictClassTransformer_DATE fit:  84%|████████▍ | 8840429/10468770 [00:09<00:01, 1221568.12it/s]"
     ]
    },
    {
     "name": "stderr",
     "output_type": "stream",
     "text": [
      "\rDictClassTransformer_DATE fit:  86%|████████▌ | 8962788/10468770 [00:09<00:01, 1211570.11it/s]"
     ]
    },
    {
     "name": "stderr",
     "output_type": "stream",
     "text": [
      "\rDictClassTransformer_DATE fit:  87%|████████▋ | 9084105/10468770 [00:09<00:01, 1202273.84it/s]"
     ]
    },
    {
     "name": "stderr",
     "output_type": "stream",
     "text": [
      "\rDictClassTransformer_DATE fit:  88%|████████▊ | 9211667/10468770 [00:09<00:01, 1223376.01it/s]"
     ]
    },
    {
     "name": "stderr",
     "output_type": "stream",
     "text": [
      "\rDictClassTransformer_DATE fit:  89%|████████▉ | 9337659/10468770 [00:09<00:00, 1234110.68it/s]"
     ]
    },
    {
     "name": "stderr",
     "output_type": "stream",
     "text": [
      "\rDictClassTransformer_DATE fit:  90%|█████████ | 9464375/10468770 [00:09<00:00, 1243839.89it/s]"
     ]
    },
    {
     "name": "stderr",
     "output_type": "stream",
     "text": [
      "\rDictClassTransformer_DATE fit:  92%|█████████▏| 9589872/10468770 [00:09<00:00, 1247157.61it/s]"
     ]
    },
    {
     "name": "stderr",
     "output_type": "stream",
     "text": [
      "\rDictClassTransformer_DATE fit:  93%|█████████▎| 9719890/10468770 [00:10<00:00, 1262597.08it/s]"
     ]
    },
    {
     "name": "stderr",
     "output_type": "stream",
     "text": [
      "\rDictClassTransformer_DATE fit:  94%|█████████▍| 9847337/10468770 [00:10<00:00, 1266127.92it/s]"
     ]
    },
    {
     "name": "stderr",
     "output_type": "stream",
     "text": [
      "\rDictClassTransformer_DATE fit:  95%|█████████▌| 9974028/10468770 [00:10<00:00, 1263325.31it/s]"
     ]
    },
    {
     "name": "stderr",
     "output_type": "stream",
     "text": [
      "\rDictClassTransformer_DATE fit:  96%|█████████▋| 10100417/10468770 [00:10<00:00, 1256418.49it/s]"
     ]
    },
    {
     "name": "stderr",
     "output_type": "stream",
     "text": [
      "\rDictClassTransformer_DATE fit:  98%|█████████▊| 10227953/10468770 [00:10<00:00, 1262038.39it/s]"
     ]
    },
    {
     "name": "stderr",
     "output_type": "stream",
     "text": [
      "\rDictClassTransformer_DATE fit:  99%|█████████▉| 10356826/10468770 [00:10<00:00, 1269928.51it/s]"
     ]
    },
    {
     "name": "stderr",
     "output_type": "stream",
     "text": [
      "\rDictClassTransformer_DATE fit: 100%|██████████| 10468770/10468770 [00:10<00:00, 964844.39it/s] "
     ]
    },
    {
     "name": "stderr",
     "output_type": "stream",
     "text": [
      "\n"
     ]
    },
    {
     "name": "stderr",
     "output_type": "stream",
     "text": [
      "\rDictClassTransformer_CARDINAL fit:   0%|          | 0/10468770 [00:00<?, ?it/s]"
     ]
    },
    {
     "name": "stderr",
     "output_type": "stream",
     "text": [
      "\rDictClassTransformer_CARDINAL fit:   0%|          | 26367/10468770 [00:00<06:03, 28732.74it/s]"
     ]
    },
    {
     "name": "stderr",
     "output_type": "stream",
     "text": [
      "\rDictClassTransformer_CARDINAL fit:   1%|          | 106395/10468770 [00:01<04:16, 40424.75it/s]"
     ]
    },
    {
     "name": "stderr",
     "output_type": "stream",
     "text": [
      "\rDictClassTransformer_CARDINAL fit:   2%|▏         | 196143/10468770 [00:01<03:01, 56655.95it/s]"
     ]
    },
    {
     "name": "stderr",
     "output_type": "stream",
     "text": [
      "\rDictClassTransformer_CARDINAL fit:   3%|▎         | 294655/10468770 [00:01<02:08, 78990.12it/s]"
     ]
    },
    {
     "name": "stderr",
     "output_type": "stream",
     "text": [
      "\rDictClassTransformer_CARDINAL fit:   4%|▍         | 394949/10468770 [00:01<01:32, 109158.52it/s]"
     ]
    },
    {
     "name": "stderr",
     "output_type": "stream",
     "text": [
      "\rDictClassTransformer_CARDINAL fit:   5%|▍         | 501939/10468770 [00:01<01:06, 149407.65it/s]"
     ]
    },
    {
     "name": "stderr",
     "output_type": "stream",
     "text": [
      "\rDictClassTransformer_CARDINAL fit:   6%|▌         | 610093/10468770 [00:01<00:48, 201508.06it/s]"
     ]
    },
    {
     "name": "stderr",
     "output_type": "stream",
     "text": [
      "\rDictClassTransformer_CARDINAL fit:   7%|▋         | 724490/10468770 [00:01<00:36, 267662.13it/s]"
     ]
    },
    {
     "name": "stderr",
     "output_type": "stream",
     "text": [
      "\rDictClassTransformer_CARDINAL fit:   8%|▊         | 846249/10468770 [00:01<00:27, 349451.66it/s]"
     ]
    },
    {
     "name": "stderr",
     "output_type": "stream",
     "text": [
      "\rDictClassTransformer_CARDINAL fit:   9%|▉         | 964545/10468770 [00:01<00:21, 443116.75it/s]"
     ]
    },
    {
     "name": "stderr",
     "output_type": "stream",
     "text": [
      "\rDictClassTransformer_CARDINAL fit:  10%|█         | 1088423/10468770 [00:01<00:17, 548879.59it/s]"
     ]
    },
    {
     "name": "stderr",
     "output_type": "stream",
     "text": [
      "\rDictClassTransformer_CARDINAL fit:  11%|█▏        | 1203829/10468770 [00:02<00:14, 651347.28it/s]"
     ]
    },
    {
     "name": "stderr",
     "output_type": "stream",
     "text": [
      "\rDictClassTransformer_CARDINAL fit:  13%|█▎        | 1324825/10468770 [00:02<00:12, 756064.81it/s]"
     ]
    },
    {
     "name": "stderr",
     "output_type": "stream",
     "text": [
      "\rDictClassTransformer_CARDINAL fit:  14%|█▍        | 1447568/10468770 [00:02<00:10, 854510.94it/s]"
     ]
    },
    {
     "name": "stderr",
     "output_type": "stream",
     "text": [
      "\rDictClassTransformer_CARDINAL fit:  15%|█▍        | 1568632/10468770 [00:02<00:09, 937218.57it/s]"
     ]
    },
    {
     "name": "stderr",
     "output_type": "stream",
     "text": [
      "\rDictClassTransformer_CARDINAL fit:  16%|█▌        | 1693842/10468770 [00:02<00:08, 1013696.36it/s]"
     ]
    },
    {
     "name": "stderr",
     "output_type": "stream",
     "text": [
      "\rDictClassTransformer_CARDINAL fit:  17%|█▋        | 1814690/10468770 [00:02<00:08, 1065164.75it/s]"
     ]
    },
    {
     "name": "stderr",
     "output_type": "stream",
     "text": [
      "\rDictClassTransformer_CARDINAL fit:  19%|█▊        | 1943193/10468770 [00:02<00:07, 1122794.51it/s]"
     ]
    },
    {
     "name": "stderr",
     "output_type": "stream",
     "text": [
      "\rDictClassTransformer_CARDINAL fit:  20%|█▉        | 2069003/10468770 [00:02<00:07, 1160227.94it/s]"
     ]
    },
    {
     "name": "stderr",
     "output_type": "stream",
     "text": [
      "\rDictClassTransformer_CARDINAL fit:  21%|██        | 2193012/10468770 [00:02<00:06, 1183082.32it/s]"
     ]
    },
    {
     "name": "stderr",
     "output_type": "stream",
     "text": [
      "\rDictClassTransformer_CARDINAL fit:  22%|██▏       | 2322165/10468770 [00:02<00:06, 1213651.97it/s]"
     ]
    },
    {
     "name": "stderr",
     "output_type": "stream",
     "text": [
      "\rDictClassTransformer_CARDINAL fit:  23%|██▎       | 2448222/10468770 [00:03<00:06, 1227356.01it/s]"
     ]
    },
    {
     "name": "stderr",
     "output_type": "stream",
     "text": [
      "\rDictClassTransformer_CARDINAL fit:  25%|██▍       | 2575137/10468770 [00:03<00:06, 1239599.18it/s]"
     ]
    },
    {
     "name": "stderr",
     "output_type": "stream",
     "text": [
      "\rDictClassTransformer_CARDINAL fit:  26%|██▌       | 2705669/10468770 [00:03<00:06, 1258609.37it/s]"
     ]
    },
    {
     "name": "stderr",
     "output_type": "stream",
     "text": [
      "\rDictClassTransformer_CARDINAL fit:  27%|██▋       | 2833382/10468770 [00:03<00:06, 1264108.37it/s]"
     ]
    },
    {
     "name": "stderr",
     "output_type": "stream",
     "text": [
      "\rDictClassTransformer_CARDINAL fit:  28%|██▊       | 2960873/10468770 [00:03<00:05, 1252250.91it/s]"
     ]
    },
    {
     "name": "stderr",
     "output_type": "stream",
     "text": [
      "\rDictClassTransformer_CARDINAL fit:  29%|██▉       | 3086879/10468770 [00:03<00:06, 1182394.15it/s]"
     ]
    },
    {
     "name": "stderr",
     "output_type": "stream",
     "text": [
      "\rDictClassTransformer_CARDINAL fit:  31%|███       | 3206969/10468770 [00:03<00:06, 1187881.87it/s]"
     ]
    },
    {
     "name": "stderr",
     "output_type": "stream",
     "text": [
      "\rDictClassTransformer_CARDINAL fit:  32%|███▏      | 3335402/10468770 [00:03<00:05, 1215257.29it/s]"
     ]
    },
    {
     "name": "stderr",
     "output_type": "stream",
     "text": [
      "\rDictClassTransformer_CARDINAL fit:  33%|███▎      | 3459624/10468770 [00:03<00:05, 1223219.30it/s]"
     ]
    },
    {
     "name": "stderr",
     "output_type": "stream",
     "text": [
      "\rDictClassTransformer_CARDINAL fit:  34%|███▍      | 3587336/10468770 [00:03<00:05, 1238901.70it/s]"
     ]
    },
    {
     "name": "stderr",
     "output_type": "stream",
     "text": [
      "\rDictClassTransformer_CARDINAL fit:  35%|███▌      | 3712931/10468770 [00:04<00:05, 1243964.22it/s]"
     ]
    },
    {
     "name": "stderr",
     "output_type": "stream",
     "text": [
      "\rDictClassTransformer_CARDINAL fit:  37%|███▋      | 3840453/10468770 [00:04<00:05, 1253178.36it/s]"
     ]
    },
    {
     "name": "stderr",
     "output_type": "stream",
     "text": [
      "\rDictClassTransformer_CARDINAL fit:  38%|███▊      | 3970577/10468770 [00:04<00:05, 1267216.71it/s]"
     ]
    },
    {
     "name": "stderr",
     "output_type": "stream",
     "text": [
      "\rDictClassTransformer_CARDINAL fit:  39%|███▉      | 4097508/10468770 [00:04<00:05, 1254737.75it/s]"
     ]
    },
    {
     "name": "stderr",
     "output_type": "stream",
     "text": [
      "\rDictClassTransformer_CARDINAL fit:  40%|████      | 4225123/10468770 [00:04<00:04, 1261082.39it/s]"
     ]
    },
    {
     "name": "stderr",
     "output_type": "stream",
     "text": [
      "\rDictClassTransformer_CARDINAL fit:  42%|████▏     | 4351361/10468770 [00:05<00:18, 335311.75it/s] "
     ]
    },
    {
     "name": "stderr",
     "output_type": "stream",
     "text": [
      "\rDictClassTransformer_CARDINAL fit:  43%|████▎     | 4462916/10468770 [00:05<00:14, 424351.29it/s]"
     ]
    },
    {
     "name": "stderr",
     "output_type": "stream",
     "text": [
      "\rDictClassTransformer_CARDINAL fit:  44%|████▎     | 4579693/10468770 [00:05<00:11, 524526.70it/s]"
     ]
    },
    {
     "name": "stderr",
     "output_type": "stream",
     "text": [
      "\rDictClassTransformer_CARDINAL fit:  45%|████▍     | 4701375/10468770 [00:05<00:09, 632478.64it/s]"
     ]
    },
    {
     "name": "stderr",
     "output_type": "stream",
     "text": [
      "\rDictClassTransformer_CARDINAL fit:  46%|████▌     | 4827717/10468770 [00:05<00:07, 743931.34it/s]"
     ]
    },
    {
     "name": "stderr",
     "output_type": "stream",
     "text": [
      "\rDictClassTransformer_CARDINAL fit:  47%|████▋     | 4953258/10468770 [00:05<00:06, 847518.78it/s]"
     ]
    },
    {
     "name": "stderr",
     "output_type": "stream",
     "text": [
      "\rDictClassTransformer_CARDINAL fit:  49%|████▊     | 5080433/10468770 [00:06<00:05, 941764.88it/s]"
     ]
    },
    {
     "name": "stderr",
     "output_type": "stream",
     "text": [
      "\rDictClassTransformer_CARDINAL fit:  50%|████▉     | 5208868/10468770 [00:06<00:05, 1023679.23it/s]"
     ]
    },
    {
     "name": "stderr",
     "output_type": "stream",
     "text": [
      "\rDictClassTransformer_CARDINAL fit:  51%|█████     | 5339896/10468770 [00:06<00:04, 1095567.90it/s]"
     ]
    },
    {
     "name": "stderr",
     "output_type": "stream",
     "text": [
      "\rDictClassTransformer_CARDINAL fit:  52%|█████▏    | 5469005/10468770 [00:06<00:04, 1147710.10it/s]"
     ]
    },
    {
     "name": "stderr",
     "output_type": "stream",
     "text": [
      "\rDictClassTransformer_CARDINAL fit:  53%|█████▎    | 5599451/10468770 [00:06<00:04, 1190628.05it/s]"
     ]
    },
    {
     "name": "stderr",
     "output_type": "stream",
     "text": [
      "\rDictClassTransformer_CARDINAL fit:  55%|█████▍    | 5729158/10468770 [00:06<00:03, 1220677.03it/s]"
     ]
    },
    {
     "name": "stderr",
     "output_type": "stream",
     "text": [
      "\rDictClassTransformer_CARDINAL fit:  56%|█████▌    | 5857425/10468770 [00:06<00:03, 1171053.48it/s]"
     ]
    },
    {
     "name": "stderr",
     "output_type": "stream",
     "text": [
      "\rDictClassTransformer_CARDINAL fit:  57%|█████▋    | 5987372/10468770 [00:06<00:03, 1206831.55it/s]"
     ]
    },
    {
     "name": "stderr",
     "output_type": "stream",
     "text": [
      "\rDictClassTransformer_CARDINAL fit:  58%|█████▊    | 6111887/10468770 [00:06<00:03, 1218073.22it/s]"
     ]
    },
    {
     "name": "stderr",
     "output_type": "stream",
     "text": [
      "\rDictClassTransformer_CARDINAL fit:  60%|█████▉    | 6238406/10468770 [00:06<00:03, 1231832.52it/s]"
     ]
    },
    {
     "name": "stderr",
     "output_type": "stream",
     "text": [
      "\rDictClassTransformer_CARDINAL fit:  61%|██████    | 6369485/10468770 [00:07<00:03, 1254502.08it/s]"
     ]
    },
    {
     "name": "stderr",
     "output_type": "stream",
     "text": [
      "\rDictClassTransformer_CARDINAL fit:  62%|██████▏   | 6498716/10468770 [00:07<00:03, 1265609.59it/s]"
     ]
    },
    {
     "name": "stderr",
     "output_type": "stream",
     "text": [
      "\rDictClassTransformer_CARDINAL fit:  63%|██████▎   | 6626266/10468770 [00:07<00:03, 1251894.23it/s]"
     ]
    },
    {
     "name": "stderr",
     "output_type": "stream",
     "text": [
      "\rDictClassTransformer_CARDINAL fit:  65%|██████▍   | 6755934/10468770 [00:07<00:02, 1264998.54it/s]"
     ]
    },
    {
     "name": "stderr",
     "output_type": "stream",
     "text": [
      "\rDictClassTransformer_CARDINAL fit:  66%|██████▌   | 6884537/10468770 [00:07<00:02, 1271234.86it/s]"
     ]
    },
    {
     "name": "stderr",
     "output_type": "stream",
     "text": [
      "\rDictClassTransformer_CARDINAL fit:  67%|██████▋   | 7017989/10468770 [00:07<00:02, 1289580.54it/s]"
     ]
    },
    {
     "name": "stderr",
     "output_type": "stream",
     "text": [
      "\rDictClassTransformer_CARDINAL fit:  68%|██████▊   | 7149638/10468770 [00:07<00:02, 1297533.86it/s]"
     ]
    },
    {
     "name": "stderr",
     "output_type": "stream",
     "text": [
      "\rDictClassTransformer_CARDINAL fit:  70%|██████▉   | 7279637/10468770 [00:07<00:02, 1270192.47it/s]"
     ]
    },
    {
     "name": "stderr",
     "output_type": "stream",
     "text": [
      "\rDictClassTransformer_CARDINAL fit:  71%|███████   | 7406957/10468770 [00:07<00:02, 1270963.82it/s]"
     ]
    },
    {
     "name": "stderr",
     "output_type": "stream",
     "text": [
      "\rDictClassTransformer_CARDINAL fit:  72%|███████▏  | 7534264/10468770 [00:07<00:02, 1271469.04it/s]"
     ]
    },
    {
     "name": "stderr",
     "output_type": "stream",
     "text": [
      "\rDictClassTransformer_CARDINAL fit:  73%|███████▎  | 7661559/10468770 [00:08<00:02, 1271664.31it/s]"
     ]
    },
    {
     "name": "stderr",
     "output_type": "stream",
     "text": [
      "\rDictClassTransformer_CARDINAL fit:  74%|███████▍  | 7788829/10468770 [00:08<00:02, 1262955.12it/s]"
     ]
    },
    {
     "name": "stderr",
     "output_type": "stream",
     "text": [
      "\rDictClassTransformer_CARDINAL fit:  76%|███████▌  | 7915211/10468770 [00:08<00:02, 1262004.03it/s]"
     ]
    },
    {
     "name": "stderr",
     "output_type": "stream",
     "text": [
      "\rDictClassTransformer_CARDINAL fit:  77%|███████▋  | 8041472/10468770 [00:08<00:03, 767046.41it/s] "
     ]
    },
    {
     "name": "stderr",
     "output_type": "stream",
     "text": [
      "\rDictClassTransformer_CARDINAL fit:  78%|███████▊  | 8155800/10468770 [00:08<00:02, 851054.50it/s]"
     ]
    },
    {
     "name": "stderr",
     "output_type": "stream",
     "text": [
      "\rDictClassTransformer_CARDINAL fit:  79%|███████▉  | 8276796/10468770 [00:08<00:02, 934185.29it/s]"
     ]
    },
    {
     "name": "stderr",
     "output_type": "stream",
     "text": [
      "\rDictClassTransformer_CARDINAL fit:  80%|████████  | 8396783/10468770 [00:08<00:02, 1000655.18it/s]"
     ]
    },
    {
     "name": "stderr",
     "output_type": "stream",
     "text": [
      "\rDictClassTransformer_CARDINAL fit:  81%|████████▏ | 8517525/10468770 [00:09<00:01, 1054845.98it/s]"
     ]
    },
    {
     "name": "stderr",
     "output_type": "stream",
     "text": [
      "\rDictClassTransformer_CARDINAL fit:  82%|████████▏ | 8636647/10468770 [00:09<00:01, 1092359.67it/s]"
     ]
    },
    {
     "name": "stderr",
     "output_type": "stream",
     "text": [
      "\rDictClassTransformer_CARDINAL fit:  84%|████████▎ | 8762404/10468770 [00:09<00:01, 1137174.51it/s]"
     ]
    },
    {
     "name": "stderr",
     "output_type": "stream",
     "text": [
      "\rDictClassTransformer_CARDINAL fit:  85%|████████▍ | 8883995/10468770 [00:09<00:01, 1159696.47it/s]"
     ]
    },
    {
     "name": "stderr",
     "output_type": "stream",
     "text": [
      "\rDictClassTransformer_CARDINAL fit:  86%|████████▌ | 9010261/10468770 [00:09<00:01, 1188774.44it/s]"
     ]
    },
    {
     "name": "stderr",
     "output_type": "stream",
     "text": [
      "\rDictClassTransformer_CARDINAL fit:  87%|████████▋ | 9132048/10468770 [00:09<00:01, 1192191.29it/s]"
     ]
    },
    {
     "name": "stderr",
     "output_type": "stream",
     "text": [
      "\rDictClassTransformer_CARDINAL fit:  88%|████████▊ | 9255273/10468770 [00:09<00:01, 1203925.50it/s]"
     ]
    },
    {
     "name": "stderr",
     "output_type": "stream",
     "text": [
      "\rDictClassTransformer_CARDINAL fit:  90%|████████▉ | 9377120/10468770 [00:09<00:00, 1200996.83it/s]"
     ]
    },
    {
     "name": "stderr",
     "output_type": "stream",
     "text": [
      "\rDictClassTransformer_CARDINAL fit:  91%|█████████ | 9500943/10468770 [00:09<00:00, 1211929.02it/s]"
     ]
    },
    {
     "name": "stderr",
     "output_type": "stream",
     "text": [
      "\rDictClassTransformer_CARDINAL fit:  92%|█████████▏| 9624419/10468770 [00:09<00:00, 1218686.07it/s]"
     ]
    },
    {
     "name": "stderr",
     "output_type": "stream",
     "text": [
      "\rDictClassTransformer_CARDINAL fit:  93%|█████████▎| 9750580/10468770 [00:10<00:00, 1231250.31it/s]"
     ]
    },
    {
     "name": "stderr",
     "output_type": "stream",
     "text": [
      "\rDictClassTransformer_CARDINAL fit:  94%|█████████▍| 9874104/10468770 [00:10<00:00, 1230124.67it/s]"
     ]
    },
    {
     "name": "stderr",
     "output_type": "stream",
     "text": [
      "\rDictClassTransformer_CARDINAL fit:  96%|█████████▌| 10000313/10468770 [00:10<00:00, 1239539.81it/s]"
     ]
    },
    {
     "name": "stderr",
     "output_type": "stream",
     "text": [
      "\rDictClassTransformer_CARDINAL fit:  97%|█████████▋| 10127027/10468770 [00:10<00:00, 1247692.27it/s]"
     ]
    },
    {
     "name": "stderr",
     "output_type": "stream",
     "text": [
      "\rDictClassTransformer_CARDINAL fit:  98%|█████████▊| 10252665/10468770 [00:10<00:00, 1250283.63it/s]"
     ]
    },
    {
     "name": "stderr",
     "output_type": "stream",
     "text": [
      "\rDictClassTransformer_CARDINAL fit:  99%|█████████▉| 10379584/10468770 [00:10<00:00, 1255894.71it/s]"
     ]
    },
    {
     "name": "stderr",
     "output_type": "stream",
     "text": [
      "\rDictClassTransformer_CARDINAL fit: 100%|██████████| 10468770/10468770 [00:10<00:00, 971722.45it/s] "
     ]
    },
    {
     "name": "stderr",
     "output_type": "stream",
     "text": [
      "\n"
     ]
    },
    {
     "name": "stdout",
     "output_type": "stream",
     "text": [
      "[INFO] Compiling model...\n"
     ]
    },
    {
     "name": "stderr",
     "output_type": "stream",
     "text": [
      "\rMorphologyExtractor transform:   0%|          | 0/105746 [00:00<?, ?it/s]"
     ]
    },
    {
     "name": "stderr",
     "output_type": "stream",
     "text": [
      "\rMorphologyExtractor transform:   2%|▏         | 2250/105746 [00:00<00:04, 22499.65it/s]"
     ]
    },
    {
     "name": "stderr",
     "output_type": "stream",
     "text": [
      "\rMorphologyExtractor transform:   5%|▍         | 5233/105746 [00:00<00:04, 24290.24it/s]"
     ]
    },
    {
     "name": "stderr",
     "output_type": "stream",
     "text": [
      "\rMorphologyExtractor transform:   8%|▊         | 8225/105746 [00:00<00:03, 25737.70it/s]"
     ]
    },
    {
     "name": "stderr",
     "output_type": "stream",
     "text": [
      "\rMorphologyExtractor transform:  11%|█         | 11717/105746 [00:00<00:03, 27936.68it/s]"
     ]
    },
    {
     "name": "stderr",
     "output_type": "stream",
     "text": [
      "\rMorphologyExtractor transform:  14%|█▍        | 15214/105746 [00:00<00:03, 29724.56it/s]"
     ]
    },
    {
     "name": "stderr",
     "output_type": "stream",
     "text": [
      "\rMorphologyExtractor transform:  18%|█▊        | 18671/105746 [00:00<00:02, 31023.70it/s]"
     ]
    },
    {
     "name": "stderr",
     "output_type": "stream",
     "text": [
      "\rMorphologyExtractor transform:  21%|██▏       | 22482/105746 [00:00<00:02, 32846.68it/s]"
     ]
    },
    {
     "name": "stderr",
     "output_type": "stream",
     "text": [
      "\rMorphologyExtractor transform:  25%|██▍       | 26241/105746 [00:00<00:02, 34135.50it/s]"
     ]
    },
    {
     "name": "stderr",
     "output_type": "stream",
     "text": [
      "\rMorphologyExtractor transform:  28%|██▊       | 29947/105746 [00:00<00:02, 34961.92it/s]"
     ]
    },
    {
     "name": "stderr",
     "output_type": "stream",
     "text": [
      "\rMorphologyExtractor transform:  32%|███▏      | 34185/105746 [00:01<00:01, 36897.25it/s]"
     ]
    },
    {
     "name": "stderr",
     "output_type": "stream",
     "text": [
      "\rMorphologyExtractor transform:  36%|███▋      | 38431/105746 [00:01<00:01, 38397.51it/s]"
     ]
    },
    {
     "name": "stderr",
     "output_type": "stream",
     "text": [
      "\rMorphologyExtractor transform:  40%|████      | 42455/105746 [00:01<00:01, 38896.94it/s]"
     ]
    },
    {
     "name": "stderr",
     "output_type": "stream",
     "text": [
      "\rMorphologyExtractor transform:  44%|████▍     | 46584/105746 [00:01<00:01, 39572.47it/s]"
     ]
    },
    {
     "name": "stderr",
     "output_type": "stream",
     "text": [
      "\rMorphologyExtractor transform:  48%|████▊     | 51043/105746 [00:01<00:01, 40946.42it/s]"
     ]
    },
    {
     "name": "stderr",
     "output_type": "stream",
     "text": [
      "\rMorphologyExtractor transform:  53%|█████▎    | 55658/105746 [00:01<00:01, 42378.81it/s]"
     ]
    },
    {
     "name": "stderr",
     "output_type": "stream",
     "text": [
      "\rMorphologyExtractor transform:  57%|█████▋    | 60014/105746 [00:01<00:01, 42724.36it/s]"
     ]
    },
    {
     "name": "stderr",
     "output_type": "stream",
     "text": [
      "\rMorphologyExtractor transform:  61%|██████    | 64432/105746 [00:01<00:00, 43148.21it/s]"
     ]
    },
    {
     "name": "stderr",
     "output_type": "stream",
     "text": [
      "\rMorphologyExtractor transform:  65%|██████▌   | 68999/105746 [00:01<00:00, 43864.02it/s]"
     ]
    },
    {
     "name": "stderr",
     "output_type": "stream",
     "text": [
      "\rMorphologyExtractor transform:  69%|██████▉   | 73399/105746 [00:01<00:00, 43613.17it/s]"
     ]
    },
    {
     "name": "stderr",
     "output_type": "stream",
     "text": [
      "\rMorphologyExtractor transform:  74%|███████▍  | 78364/105746 [00:02<00:00, 45249.65it/s]"
     ]
    },
    {
     "name": "stderr",
     "output_type": "stream",
     "text": [
      "\rMorphologyExtractor transform:  79%|███████▊  | 83179/105746 [00:02<00:00, 46070.52it/s]"
     ]
    },
    {
     "name": "stderr",
     "output_type": "stream",
     "text": [
      "\rMorphologyExtractor transform:  83%|████████▎ | 87806/105746 [00:02<00:00, 45566.37it/s]"
     ]
    },
    {
     "name": "stderr",
     "output_type": "stream",
     "text": [
      "\rMorphologyExtractor transform:  87%|████████▋ | 92378/105746 [00:02<00:00, 44599.19it/s]"
     ]
    },
    {
     "name": "stderr",
     "output_type": "stream",
     "text": [
      "\rMorphologyExtractor transform:  92%|█████████▏| 97078/105746 [00:02<00:00, 45288.05it/s]"
     ]
    },
    {
     "name": "stderr",
     "output_type": "stream",
     "text": [
      "\rMorphologyExtractor transform:  97%|█████████▋| 102406/105746 [00:02<00:00, 47422.01it/s]"
     ]
    },
    {
     "name": "stderr",
     "output_type": "stream",
     "text": [
      "\rMorphologyExtractor transform: 100%|██████████| 105746/105746 [00:02<00:00, 40816.38it/s]"
     ]
    },
    {
     "name": "stderr",
     "output_type": "stream",
     "text": [
      "\n"
     ]
    },
    {
     "name": "stderr",
     "output_type": "stream",
     "text": [
      "\rMorphologyExtractor transform:   0%|          | 0/105746 [00:00<?, ?it/s]"
     ]
    },
    {
     "name": "stderr",
     "output_type": "stream",
     "text": [
      "\rMorphologyExtractor transform:   4%|▍         | 4499/105746 [00:00<00:02, 44966.56it/s]"
     ]
    },
    {
     "name": "stderr",
     "output_type": "stream",
     "text": [
      "\rMorphologyExtractor transform:   9%|▊         | 9017/105746 [00:00<00:02, 45026.64it/s]"
     ]
    },
    {
     "name": "stderr",
     "output_type": "stream",
     "text": [
      "\rMorphologyExtractor transform:  13%|█▎        | 13998/105746 [00:00<00:01, 46357.27it/s]"
     ]
    },
    {
     "name": "stderr",
     "output_type": "stream",
     "text": [
      "\rMorphologyExtractor transform:  18%|█▊        | 18768/105746 [00:00<00:01, 46745.74it/s]"
     ]
    },
    {
     "name": "stderr",
     "output_type": "stream",
     "text": [
      "\rMorphologyExtractor transform:  21%|██        | 22371/105746 [00:01<00:08, 10181.10it/s]"
     ]
    },
    {
     "name": "stderr",
     "output_type": "stream",
     "text": [
      "\rMorphologyExtractor transform:  25%|██▌       | 26502/105746 [00:01<00:06, 13152.83it/s]"
     ]
    },
    {
     "name": "stderr",
     "output_type": "stream",
     "text": [
      "\rMorphologyExtractor transform:  30%|██▉       | 31283/105746 [00:01<00:04, 16805.97it/s]"
     ]
    },
    {
     "name": "stderr",
     "output_type": "stream",
     "text": [
      "\rMorphologyExtractor transform:  34%|███▍      | 36403/105746 [00:01<00:03, 21044.95it/s]"
     ]
    },
    {
     "name": "stderr",
     "output_type": "stream",
     "text": [
      "\rMorphologyExtractor transform:  39%|███▉      | 41551/105746 [00:01<00:02, 25569.79it/s]"
     ]
    },
    {
     "name": "stderr",
     "output_type": "stream",
     "text": [
      "\rMorphologyExtractor transform:  44%|████▍     | 46647/105746 [00:01<00:01, 30063.35it/s]"
     ]
    },
    {
     "name": "stderr",
     "output_type": "stream",
     "text": [
      "\rMorphologyExtractor transform:  49%|████▊     | 51420/105746 [00:02<00:01, 33818.55it/s]"
     ]
    },
    {
     "name": "stderr",
     "output_type": "stream",
     "text": [
      "\rMorphologyExtractor transform:  54%|█████▎    | 56819/105746 [00:02<00:01, 38084.02it/s]"
     ]
    },
    {
     "name": "stderr",
     "output_type": "stream",
     "text": [
      "\rMorphologyExtractor transform:  59%|█████▊    | 62051/105746 [00:02<00:01, 41467.51it/s]"
     ]
    },
    {
     "name": "stderr",
     "output_type": "stream",
     "text": [
      "\rMorphologyExtractor transform:  64%|██████▍   | 67541/105746 [00:02<00:00, 44723.86it/s]"
     ]
    },
    {
     "name": "stderr",
     "output_type": "stream",
     "text": [
      "\rMorphologyExtractor transform:  69%|██████▊   | 72669/105746 [00:02<00:00, 46503.99it/s]"
     ]
    },
    {
     "name": "stderr",
     "output_type": "stream",
     "text": [
      "\rMorphologyExtractor transform:  74%|███████▍  | 78171/105746 [00:02<00:00, 48768.12it/s]"
     ]
    },
    {
     "name": "stderr",
     "output_type": "stream",
     "text": [
      "\rMorphologyExtractor transform:  79%|███████▉  | 83674/105746 [00:02<00:00, 50485.22it/s]"
     ]
    },
    {
     "name": "stderr",
     "output_type": "stream",
     "text": [
      "\rMorphologyExtractor transform:  84%|████████▍ | 89062/105746 [00:02<00:00, 51455.63it/s]"
     ]
    },
    {
     "name": "stderr",
     "output_type": "stream",
     "text": [
      "\rMorphologyExtractor transform:  90%|████████▉ | 94873/105746 [00:02<00:00, 53281.56it/s]"
     ]
    },
    {
     "name": "stderr",
     "output_type": "stream",
     "text": [
      "\rMorphologyExtractor transform:  95%|█████████▍| 100353/105746 [00:02<00:00, 52736.12it/s]"
     ]
    },
    {
     "name": "stderr",
     "output_type": "stream",
     "text": [
      "\rMorphologyExtractor transform: 100%|██████████| 105746/105746 [00:03<00:00, 35162.33it/s]"
     ]
    },
    {
     "name": "stderr",
     "output_type": "stream",
     "text": [
      "\n\rMorphologyExtractor transform:   0%|          | 0/105746 [00:00<?, ?it/s]"
     ]
    },
    {
     "name": "stderr",
     "output_type": "stream",
     "text": [
      "\rMorphologyExtractor transform:   5%|▌         | 5343/105746 [00:00<00:01, 53429.54it/s]"
     ]
    },
    {
     "name": "stderr",
     "output_type": "stream",
     "text": [
      "\rMorphologyExtractor transform:  10%|█         | 10755/105746 [00:00<00:01, 53619.37it/s]"
     ]
    },
    {
     "name": "stderr",
     "output_type": "stream",
     "text": [
      "\rMorphologyExtractor transform:  16%|█▌        | 16882/105746 [00:00<00:01, 55702.16it/s]"
     ]
    },
    {
     "name": "stderr",
     "output_type": "stream",
     "text": [
      "\rMorphologyExtractor transform:  21%|██        | 22175/105746 [00:00<00:01, 54834.86it/s]"
     ]
    },
    {
     "name": "stderr",
     "output_type": "stream",
     "text": [
      "\rMorphologyExtractor transform:  27%|██▋       | 28135/105746 [00:00<00:01, 56179.08it/s]"
     ]
    },
    {
     "name": "stderr",
     "output_type": "stream",
     "text": [
      "\rMorphologyExtractor transform:  32%|███▏      | 34167/105746 [00:00<00:01, 57345.01it/s]"
     ]
    },
    {
     "name": "stderr",
     "output_type": "stream",
     "text": [
      "\rMorphologyExtractor transform:  38%|███▊      | 40444/105746 [00:00<00:01, 58864.65it/s]"
     ]
    },
    {
     "name": "stderr",
     "output_type": "stream",
     "text": [
      "\rMorphologyExtractor transform:  44%|████▍     | 47029/105746 [00:00<00:00, 60797.18it/s]"
     ]
    },
    {
     "name": "stderr",
     "output_type": "stream",
     "text": [
      "\rMorphologyExtractor transform:  50%|████▉     | 52855/105746 [00:00<00:00, 60009.95it/s]"
     ]
    },
    {
     "name": "stderr",
     "output_type": "stream",
     "text": [
      "\rMorphologyExtractor transform:  56%|█████▌    | 59128/105746 [00:01<00:00, 60796.63it/s]"
     ]
    },
    {
     "name": "stderr",
     "output_type": "stream",
     "text": [
      "\rMorphologyExtractor transform:  62%|██████▏   | 65077/105746 [00:01<00:00, 60211.97it/s]"
     ]
    },
    {
     "name": "stderr",
     "output_type": "stream",
     "text": [
      "\rMorphologyExtractor transform:  68%|██████▊   | 71600/105746 [00:01<00:00, 61629.00it/s]"
     ]
    },
    {
     "name": "stderr",
     "output_type": "stream",
     "text": [
      "\rMorphologyExtractor transform:  74%|███████▎  | 77886/105746 [00:01<00:00, 61966.43it/s]"
     ]
    },
    {
     "name": "stderr",
     "output_type": "stream",
     "text": [
      "\rMorphologyExtractor transform:  80%|███████▉  | 84423/105746 [00:01<00:00, 62936.97it/s]"
     ]
    },
    {
     "name": "stderr",
     "output_type": "stream",
     "text": [
      "\rMorphologyExtractor transform:  86%|████████▌ | 90703/105746 [00:01<00:00, 62892.05it/s]"
     ]
    },
    {
     "name": "stderr",
     "output_type": "stream",
     "text": [
      "\rMorphologyExtractor transform:  92%|█████████▏| 97142/105746 [00:01<00:00, 63324.73it/s]"
     ]
    },
    {
     "name": "stderr",
     "output_type": "stream",
     "text": [
      "\rMorphologyExtractor transform:  98%|█████████▊| 103954/105746 [00:01<00:00, 64683.35it/s]"
     ]
    },
    {
     "name": "stderr",
     "output_type": "stream",
     "text": [
      "\rMorphologyExtractor transform: 100%|██████████| 105746/105746 [00:01<00:00, 60914.79it/s]"
     ]
    },
    {
     "name": "stderr",
     "output_type": "stream",
     "text": [
      "\n"
     ]
    },
    {
     "name": "stderr",
     "output_type": "stream",
     "text": [
      "\rDigitTransformer transform:   0%|          | 0/105746 [00:00<?, ?it/s]"
     ]
    },
    {
     "name": "stderr",
     "output_type": "stream",
     "text": [
      "\rDigitTransformer transform:  58%|█████▊    | 61082/105746 [00:00<00:00, 610819.13it/s]"
     ]
    },
    {
     "name": "stderr",
     "output_type": "stream",
     "text": [
      "\rDigitTransformer transform: 100%|██████████| 105746/105746 [00:00<00:00, 626788.02it/s]"
     ]
    },
    {
     "name": "stderr",
     "output_type": "stream",
     "text": [
      "\n"
     ]
    },
    {
     "name": "stderr",
     "output_type": "stream",
     "text": [
      "\rDictClassTransformer_TRANS pre transform:   0%|          | 0/129409 [00:00<?, ?it/s]"
     ]
    },
    {
     "name": "stderr",
     "output_type": "stream",
     "text": [
      "\rDictClassTransformer_TRANS pre transform:  10%|█         | 13279/129409 [00:00<00:00, 132781.90it/s]"
     ]
    },
    {
     "name": "stderr",
     "output_type": "stream",
     "text": [
      "\rDictClassTransformer_TRANS pre transform:  20%|█▉        | 25848/129409 [00:00<00:00, 130570.86it/s]"
     ]
    },
    {
     "name": "stderr",
     "output_type": "stream",
     "text": [
      "\rDictClassTransformer_TRANS pre transform:  30%|███       | 39422/129409 [00:00<00:00, 132077.89it/s]"
     ]
    },
    {
     "name": "stderr",
     "output_type": "stream",
     "text": [
      "\rDictClassTransformer_TRANS pre transform:  41%|████      | 52952/129409 [00:00<00:00, 133026.27it/s]"
     ]
    },
    {
     "name": "stderr",
     "output_type": "stream",
     "text": [
      "\rDictClassTransformer_TRANS pre transform:  51%|█████▏    | 66437/129409 [00:00<00:00, 133567.85it/s]"
     ]
    },
    {
     "name": "stderr",
     "output_type": "stream",
     "text": [
      "\rDictClassTransformer_TRANS pre transform:  62%|██████▏   | 80397/129409 [00:00<00:00, 135320.01it/s]"
     ]
    },
    {
     "name": "stderr",
     "output_type": "stream",
     "text": [
      "\rDictClassTransformer_TRANS pre transform:  72%|███████▏  | 92997/129409 [00:00<00:00, 132379.93it/s]"
     ]
    },
    {
     "name": "stderr",
     "output_type": "stream",
     "text": [
      "\rDictClassTransformer_TRANS pre transform:  83%|████████▎ | 107095/129409 [00:00<00:00, 134845.37it/s]"
     ]
    },
    {
     "name": "stderr",
     "output_type": "stream",
     "text": [
      "\rDictClassTransformer_TRANS pre transform:  94%|█████████▎| 121068/129409 [00:00<00:00, 136272.94it/s]"
     ]
    },
    {
     "name": "stderr",
     "output_type": "stream",
     "text": [
      "\rDictClassTransformer_TRANS pre transform: 100%|██████████| 129409/129409 [00:00<00:00, 134851.47it/s]"
     ]
    },
    {
     "name": "stderr",
     "output_type": "stream",
     "text": [
      "\n\rDictClassTransformer_TRANS transform:   0%|          | 0/105746 [00:00<?, ?it/s]"
     ]
    },
    {
     "name": "stderr",
     "output_type": "stream",
     "text": [
      "\rDictClassTransformer_TRANS transform:  73%|███████▎  | 77527/105746 [00:00<00:00, 775268.89it/s]"
     ]
    },
    {
     "name": "stderr",
     "output_type": "stream",
     "text": [
      "\rDictClassTransformer_TRANS transform: 100%|██████████| 105746/105746 [00:00<00:00, 813073.66it/s]"
     ]
    },
    {
     "name": "stderr",
     "output_type": "stream",
     "text": [
      "\n"
     ]
    },
    {
     "name": "stderr",
     "output_type": "stream",
     "text": [
      "\rDashTransformer transform:   0%|          | 0/105746 [00:00<?, ?it/s]"
     ]
    },
    {
     "name": "stderr",
     "output_type": "stream",
     "text": [
      "\rDashTransformer transform:  61%|██████    | 64258/105746 [00:00<00:00, 642579.08it/s]"
     ]
    },
    {
     "name": "stderr",
     "output_type": "stream",
     "text": [
      "\rDashTransformer transform: 100%|██████████| 105746/105746 [00:00<00:00, 654275.69it/s]"
     ]
    },
    {
     "name": "stderr",
     "output_type": "stream",
     "text": [
      "\n"
     ]
    },
    {
     "name": "stderr",
     "output_type": "stream",
     "text": [
      "\rDictClassTransformer_PUNCT pre transform:   0%|          | 0/22 [00:00<?, ?it/s]"
     ]
    },
    {
     "name": "stderr",
     "output_type": "stream",
     "text": [
      "\rDictClassTransformer_PUNCT pre transform: 100%|██████████| 22/22 [00:00<00:00, 53031.43it/s]"
     ]
    },
    {
     "name": "stderr",
     "output_type": "stream",
     "text": [
      "\n\rDictClassTransformer_PUNCT transform:   0%|          | 0/105746 [00:00<?, ?it/s]"
     ]
    },
    {
     "name": "stderr",
     "output_type": "stream",
     "text": [
      "\rDictClassTransformer_PUNCT transform:  84%|████████▍ | 88747/105746 [00:00<00:00, 887460.27it/s]"
     ]
    },
    {
     "name": "stderr",
     "output_type": "stream",
     "text": [
      "\rDictClassTransformer_PUNCT transform: 100%|██████████| 105746/105746 [00:00<00:00, 902652.35it/s]"
     ]
    },
    {
     "name": "stderr",
     "output_type": "stream",
     "text": [
      "\n"
     ]
    },
    {
     "name": "stderr",
     "output_type": "stream",
     "text": [
      "\rDictClassTransformer_VERBATIM pre transform:   0%|          | 0/2496 [00:00<?, ?it/s]"
     ]
    },
    {
     "name": "stderr",
     "output_type": "stream",
     "text": [
      "\rDictClassTransformer_VERBATIM pre transform: 100%|██████████| 2496/2496 [00:00<00:00, 120672.96it/s]"
     ]
    },
    {
     "name": "stderr",
     "output_type": "stream",
     "text": [
      "\n\rDictClassTransformer_VERBATIM transform:   0%|          | 0/105746 [00:00<?, ?it/s]"
     ]
    },
    {
     "name": "stderr",
     "output_type": "stream",
     "text": [
      "\rDictClassTransformer_VERBATIM transform:  80%|███████▉  | 84545/105746 [00:00<00:00, 845448.79it/s]"
     ]
    },
    {
     "name": "stderr",
     "output_type": "stream",
     "text": [
      "\rDictClassTransformer_VERBATIM transform: 100%|██████████| 105746/105746 [00:00<00:00, 848077.32it/s]"
     ]
    },
    {
     "name": "stderr",
     "output_type": "stream",
     "text": [
      "\n"
     ]
    },
    {
     "name": "stderr",
     "output_type": "stream",
     "text": [
      "\rLatinTransliterator transform:   0%|          | 0/105746 [00:00<?, ?it/s]"
     ]
    },
    {
     "name": "stderr",
     "output_type": "stream",
     "text": [
      "\rLatinTransliterator transform:  81%|████████  | 85603/105746 [00:00<00:00, 856028.78it/s]"
     ]
    },
    {
     "name": "stderr",
     "output_type": "stream",
     "text": [
      "\rLatinTransliterator transform: 100%|██████████| 105746/105746 [00:00<00:00, 888003.02it/s]"
     ]
    },
    {
     "name": "stderr",
     "output_type": "stream",
     "text": [
      "\n"
     ]
    },
    {
     "name": "stderr",
     "output_type": "stream",
     "text": [
      "\rMorphologyExtractor transform:   0%|          | 0/105746 [00:00<?, ?it/s]"
     ]
    },
    {
     "name": "stderr",
     "output_type": "stream",
     "text": [
      "\rMorphologyExtractor transform:   2%|▏         | 1840/105746 [00:00<00:05, 18398.53it/s]"
     ]
    },
    {
     "name": "stderr",
     "output_type": "stream",
     "text": [
      "\rMorphologyExtractor transform:   4%|▍         | 4338/105746 [00:00<00:05, 19976.72it/s]"
     ]
    },
    {
     "name": "stderr",
     "output_type": "stream",
     "text": [
      "\rMorphologyExtractor transform:   7%|▋         | 6903/105746 [00:00<00:04, 21394.27it/s]"
     ]
    },
    {
     "name": "stderr",
     "output_type": "stream",
     "text": [
      "\rMorphologyExtractor transform:  10%|▉         | 10070/105746 [00:00<00:04, 23699.64it/s]"
     ]
    },
    {
     "name": "stderr",
     "output_type": "stream",
     "text": [
      "\rMorphologyExtractor transform:  12%|█▏        | 13135/105746 [00:00<00:03, 25423.33it/s]"
     ]
    },
    {
     "name": "stderr",
     "output_type": "stream",
     "text": [
      "\rMorphologyExtractor transform:  15%|█▌        | 16320/105746 [00:00<00:03, 27053.01it/s]"
     ]
    },
    {
     "name": "stderr",
     "output_type": "stream",
     "text": [
      "\rMorphologyExtractor transform:  19%|█▊        | 19604/105746 [00:00<00:03, 28560.54it/s]"
     ]
    },
    {
     "name": "stderr",
     "output_type": "stream",
     "text": [
      "\rMorphologyExtractor transform:  22%|██▏       | 22830/105746 [00:00<00:02, 29575.19it/s]"
     ]
    },
    {
     "name": "stderr",
     "output_type": "stream",
     "text": [
      "\rMorphologyExtractor transform:  24%|██▍       | 25761/105746 [00:00<00:02, 28084.22it/s]"
     ]
    },
    {
     "name": "stderr",
     "output_type": "stream",
     "text": [
      "\rMorphologyExtractor transform:  28%|██▊       | 29498/105746 [00:01<00:02, 30345.79it/s]"
     ]
    },
    {
     "name": "stderr",
     "output_type": "stream",
     "text": [
      "\rMorphologyExtractor transform:  32%|███▏      | 33353/105746 [00:01<00:02, 32412.12it/s]"
     ]
    },
    {
     "name": "stderr",
     "output_type": "stream",
     "text": [
      "\rMorphologyExtractor transform:  35%|███▌      | 37047/105746 [00:01<00:02, 33636.06it/s]"
     ]
    },
    {
     "name": "stderr",
     "output_type": "stream",
     "text": [
      "\rMorphologyExtractor transform:  39%|███▉      | 41004/105746 [00:01<00:01, 35217.84it/s]"
     ]
    },
    {
     "name": "stderr",
     "output_type": "stream",
     "text": [
      "\rMorphologyExtractor transform:  43%|████▎     | 45040/105746 [00:01<00:01, 36617.26it/s]"
     ]
    },
    {
     "name": "stderr",
     "output_type": "stream",
     "text": [
      "\rMorphologyExtractor transform:  46%|████▋     | 49120/105746 [00:01<00:01, 37770.35it/s]"
     ]
    },
    {
     "name": "stderr",
     "output_type": "stream",
     "text": [
      "\rMorphologyExtractor transform:  50%|█████     | 53389/105746 [00:01<00:01, 39121.83it/s]"
     ]
    },
    {
     "name": "stderr",
     "output_type": "stream",
     "text": [
      "\rMorphologyExtractor transform:  55%|█████▍    | 57842/105746 [00:01<00:01, 40588.60it/s]"
     ]
    },
    {
     "name": "stderr",
     "output_type": "stream",
     "text": [
      "\rMorphologyExtractor transform:  59%|█████▊    | 61949/105746 [00:01<00:01, 40484.89it/s]"
     ]
    },
    {
     "name": "stderr",
     "output_type": "stream",
     "text": [
      "\rMorphologyExtractor transform:  63%|██████▎   | 66134/105746 [00:01<00:00, 40879.93it/s]"
     ]
    },
    {
     "name": "stderr",
     "output_type": "stream",
     "text": [
      "\rMorphologyExtractor transform:  66%|██████▋   | 70247/105746 [00:02<00:00, 40418.05it/s]"
     ]
    },
    {
     "name": "stderr",
     "output_type": "stream",
     "text": [
      "\rMorphologyExtractor transform:  70%|███████   | 74416/105746 [00:02<00:00, 40787.22it/s]"
     ]
    },
    {
     "name": "stderr",
     "output_type": "stream",
     "text": [
      "\rMorphologyExtractor transform:  74%|███████▍  | 78778/105746 [00:02<00:00, 41597.41it/s]"
     ]
    },
    {
     "name": "stderr",
     "output_type": "stream",
     "text": [
      "\rMorphologyExtractor transform:  79%|███████▊  | 83234/105746 [00:02<00:00, 42439.74it/s]"
     ]
    },
    {
     "name": "stderr",
     "output_type": "stream",
     "text": [
      "\rMorphologyExtractor transform:  83%|████████▎ | 87611/105746 [00:02<00:00, 42813.27it/s]"
     ]
    },
    {
     "name": "stderr",
     "output_type": "stream",
     "text": [
      "\rMorphologyExtractor transform:  87%|████████▋ | 91930/105746 [00:02<00:00, 42889.67it/s]"
     ]
    },
    {
     "name": "stderr",
     "output_type": "stream",
     "text": [
      "\rMorphologyExtractor transform:  91%|█████████ | 96456/105746 [00:02<00:00, 43559.95it/s]"
     ]
    },
    {
     "name": "stderr",
     "output_type": "stream",
     "text": [
      "\rMorphologyExtractor transform:  96%|█████████▌| 101116/105746 [00:02<00:00, 44423.65it/s]"
     ]
    },
    {
     "name": "stderr",
     "output_type": "stream",
     "text": [
      "\rMorphologyExtractor transform: 100%|█████████▉| 105579/105746 [00:02<00:00, 44481.79it/s]"
     ]
    },
    {
     "name": "stderr",
     "output_type": "stream",
     "text": [
      "\rMorphologyExtractor transform: 100%|██████████| 105746/105746 [00:02<00:00, 37325.28it/s]"
     ]
    },
    {
     "name": "stderr",
     "output_type": "stream",
     "text": [
      "\n\rMorphologyExtractor transform:   0%|          | 0/105746 [00:00<?, ?it/s]"
     ]
    },
    {
     "name": "stderr",
     "output_type": "stream",
     "text": [
      "\rMorphologyExtractor transform:   4%|▍         | 4377/105746 [00:00<00:02, 43762.95it/s]"
     ]
    },
    {
     "name": "stderr",
     "output_type": "stream",
     "text": [
      "\rMorphologyExtractor transform:   8%|▊         | 8501/105746 [00:00<00:02, 42971.30it/s]"
     ]
    },
    {
     "name": "stderr",
     "output_type": "stream",
     "text": [
      "\rMorphologyExtractor transform:  13%|█▎        | 13393/105746 [00:00<00:02, 44586.75it/s]"
     ]
    },
    {
     "name": "stderr",
     "output_type": "stream",
     "text": [
      "\rMorphologyExtractor transform:  17%|█▋        | 18058/105746 [00:00<00:01, 45180.65it/s]"
     ]
    },
    {
     "name": "stderr",
     "output_type": "stream",
     "text": [
      "\rMorphologyExtractor transform:  21%|██        | 22391/105746 [00:00<00:01, 44596.80it/s]"
     ]
    },
    {
     "name": "stderr",
     "output_type": "stream",
     "text": [
      "\rMorphologyExtractor transform:  26%|██▌       | 27139/105746 [00:00<00:01, 45423.92it/s]"
     ]
    },
    {
     "name": "stderr",
     "output_type": "stream",
     "text": [
      "\rMorphologyExtractor transform:  30%|███       | 32097/105746 [00:00<00:01, 46588.60it/s]"
     ]
    },
    {
     "name": "stderr",
     "output_type": "stream",
     "text": [
      "\rMorphologyExtractor transform:  35%|███▌      | 37015/105746 [00:00<00:01, 47333.90it/s]"
     ]
    },
    {
     "name": "stderr",
     "output_type": "stream",
     "text": [
      "\rMorphologyExtractor transform:  40%|███▉      | 41882/105746 [00:00<00:01, 47723.76it/s]"
     ]
    },
    {
     "name": "stderr",
     "output_type": "stream",
     "text": [
      "\rMorphologyExtractor transform:  44%|████▍     | 46489/105746 [00:01<00:01, 47004.27it/s]"
     ]
    },
    {
     "name": "stderr",
     "output_type": "stream",
     "text": [
      "\rMorphologyExtractor transform:  48%|████▊     | 51076/105746 [00:01<00:01, 46359.39it/s]"
     ]
    },
    {
     "name": "stderr",
     "output_type": "stream",
     "text": [
      "\rMorphologyExtractor transform:  53%|█████▎    | 56329/105746 [00:01<00:01, 48034.48it/s]"
     ]
    },
    {
     "name": "stderr",
     "output_type": "stream",
     "text": [
      "\rMorphologyExtractor transform:  58%|█████▊    | 61584/105746 [00:01<00:00, 49292.84it/s]"
     ]
    },
    {
     "name": "stderr",
     "output_type": "stream",
     "text": [
      "\rMorphologyExtractor transform:  63%|██████▎   | 66934/105746 [00:01<00:00, 50473.42it/s]"
     ]
    },
    {
     "name": "stderr",
     "output_type": "stream",
     "text": [
      "\rMorphologyExtractor transform:  68%|██████▊   | 72127/105746 [00:01<00:00, 50901.72it/s]"
     ]
    },
    {
     "name": "stderr",
     "output_type": "stream",
     "text": [
      "\rMorphologyExtractor transform:  73%|███████▎  | 77709/105746 [00:01<00:00, 52272.40it/s]"
     ]
    },
    {
     "name": "stderr",
     "output_type": "stream",
     "text": [
      "\rMorphologyExtractor transform:  79%|███████▉  | 83344/105746 [00:01<00:00, 53431.74it/s]"
     ]
    },
    {
     "name": "stderr",
     "output_type": "stream",
     "text": [
      "\rMorphologyExtractor transform:  84%|████████▍ | 88699/105746 [00:01<00:00, 51118.62it/s]"
     ]
    },
    {
     "name": "stderr",
     "output_type": "stream",
     "text": [
      "\rMorphologyExtractor transform:  89%|████████▉ | 94127/105746 [00:01<00:00, 52022.41it/s]"
     ]
    },
    {
     "name": "stderr",
     "output_type": "stream",
     "text": [
      "\rMorphologyExtractor transform:  94%|█████████▍| 99354/105746 [00:02<00:00, 51642.16it/s]"
     ]
    },
    {
     "name": "stderr",
     "output_type": "stream",
     "text": [
      "\rMorphologyExtractor transform:  99%|█████████▉| 104791/105746 [00:02<00:00, 52431.31it/s]"
     ]
    },
    {
     "name": "stderr",
     "output_type": "stream",
     "text": [
      "\rMorphologyExtractor transform: 100%|██████████| 105746/105746 [00:02<00:00, 49375.27it/s]"
     ]
    },
    {
     "name": "stderr",
     "output_type": "stream",
     "text": [
      "\n\rMorphologyExtractor transform:   0%|          | 0/105746 [00:00<?, ?it/s]"
     ]
    },
    {
     "name": "stderr",
     "output_type": "stream",
     "text": [
      "\rMorphologyExtractor transform:   5%|▍         | 4863/105746 [00:00<00:02, 48621.24it/s]"
     ]
    },
    {
     "name": "stderr",
     "output_type": "stream",
     "text": [
      "\rMorphologyExtractor transform:  10%|▉         | 10194/105746 [00:00<00:01, 49935.99it/s]"
     ]
    },
    {
     "name": "stderr",
     "output_type": "stream",
     "text": [
      "\rMorphologyExtractor transform:  15%|█▌        | 16034/105746 [00:00<00:01, 52201.55it/s]"
     ]
    },
    {
     "name": "stderr",
     "output_type": "stream",
     "text": [
      "\rMorphologyExtractor transform:  20%|██        | 21552/105746 [00:00<00:01, 53052.21it/s]"
     ]
    },
    {
     "name": "stderr",
     "output_type": "stream",
     "text": [
      "\rMorphologyExtractor transform:  26%|██▌       | 27055/105746 [00:00<00:01, 53617.91it/s]"
     ]
    },
    {
     "name": "stderr",
     "output_type": "stream",
     "text": [
      "\rMorphologyExtractor transform:  31%|███       | 32432/105746 [00:00<00:01, 53660.74it/s]"
     ]
    },
    {
     "name": "stderr",
     "output_type": "stream",
     "text": [
      "\rMorphologyExtractor transform:  36%|███▌      | 38011/105746 [00:00<00:01, 54269.77it/s]"
     ]
    },
    {
     "name": "stderr",
     "output_type": "stream",
     "text": [
      "\rMorphologyExtractor transform:  42%|████▏     | 44138/105746 [00:00<00:01, 56194.54it/s]"
     ]
    },
    {
     "name": "stderr",
     "output_type": "stream",
     "text": [
      "\rMorphologyExtractor transform:  47%|████▋     | 49550/105746 [00:00<00:01, 55544.34it/s]"
     ]
    },
    {
     "name": "stderr",
     "output_type": "stream",
     "text": [
      "\rMorphologyExtractor transform:  52%|█████▏    | 55443/105746 [00:01<00:00, 56517.02it/s]"
     ]
    },
    {
     "name": "stderr",
     "output_type": "stream",
     "text": [
      "\rMorphologyExtractor transform:  58%|█████▊    | 61628/105746 [00:01<00:00, 58015.15it/s]"
     ]
    },
    {
     "name": "stderr",
     "output_type": "stream",
     "text": [
      "\rMorphologyExtractor transform:  64%|██████▍   | 67674/105746 [00:01<00:00, 58726.55it/s]"
     ]
    },
    {
     "name": "stderr",
     "output_type": "stream",
     "text": [
      "\rMorphologyExtractor transform:  70%|██████▉   | 73498/105746 [00:01<00:00, 57826.95it/s]"
     ]
    },
    {
     "name": "stderr",
     "output_type": "stream",
     "text": [
      "\rMorphologyExtractor transform:  75%|███████▌  | 79591/105746 [00:01<00:00, 58722.81it/s]"
     ]
    },
    {
     "name": "stderr",
     "output_type": "stream",
     "text": [
      "\rMorphologyExtractor transform:  81%|████████  | 85538/105746 [00:01<00:00, 58944.63it/s]"
     ]
    },
    {
     "name": "stderr",
     "output_type": "stream",
     "text": [
      "\rMorphologyExtractor transform:  86%|████████▋ | 91420/105746 [00:01<00:00, 58840.56it/s]"
     ]
    },
    {
     "name": "stderr",
     "output_type": "stream",
     "text": [
      "\rMorphologyExtractor transform:  92%|█████████▏| 97296/105746 [00:01<00:00, 57868.42it/s]"
     ]
    },
    {
     "name": "stderr",
     "output_type": "stream",
     "text": [
      "\rMorphologyExtractor transform:  98%|█████████▊| 103137/105746 [00:01<00:00, 58020.57it/s]"
     ]
    },
    {
     "name": "stderr",
     "output_type": "stream",
     "text": [
      "\rMorphologyExtractor transform: 100%|██████████| 105746/105746 [00:01<00:00, 56850.97it/s]"
     ]
    },
    {
     "name": "stderr",
     "output_type": "stream",
     "text": [
      "\n"
     ]
    },
    {
     "name": "stderr",
     "output_type": "stream",
     "text": [
      "\rRomeTransformer transform:   0%|          | 0/105746 [00:00<?, ?it/s]"
     ]
    },
    {
     "name": "stderr",
     "output_type": "stream",
     "text": [
      "\rRomeTransformer transform:  52%|█████▏    | 55488/105746 [00:00<00:00, 554764.13it/s]"
     ]
    },
    {
     "name": "stderr",
     "output_type": "stream",
     "text": [
      "\rRomeTransformer transform: 100%|██████████| 105746/105746 [00:00<00:00, 539110.92it/s]"
     ]
    },
    {
     "name": "stderr",
     "output_type": "stream",
     "text": [
      "\n"
     ]
    },
    {
     "name": "stderr",
     "output_type": "stream",
     "text": [
      "\rDictNBHDTransformer pre transform:   0%|          | 0/7640906 [00:00<?, ?it/s]"
     ]
    },
    {
     "name": "stderr",
     "output_type": "stream",
     "text": [
      "\rDictNBHDTransformer pre transform:   0%|          | 24061/7640906 [00:00<00:31, 240593.59it/s]"
     ]
    },
    {
     "name": "stderr",
     "output_type": "stream",
     "text": [
      "\rDictNBHDTransformer pre transform:   1%|          | 48060/7640906 [00:00<00:31, 240410.72it/s]"
     ]
    },
    {
     "name": "stderr",
     "output_type": "stream",
     "text": [
      "\rDictNBHDTransformer pre transform:   1%|          | 77281/7640906 [00:00<00:29, 253912.55it/s]"
     ]
    },
    {
     "name": "stderr",
     "output_type": "stream",
     "text": [
      "\rDictNBHDTransformer pre transform:   1%|▏         | 105201/7640906 [00:00<00:28, 261003.06it/s]"
     ]
    },
    {
     "name": "stderr",
     "output_type": "stream",
     "text": [
      "\rDictNBHDTransformer pre transform:   2%|▏         | 131736/7640906 [00:00<00:28, 262290.52it/s]"
     ]
    },
    {
     "name": "stderr",
     "output_type": "stream",
     "text": [
      "\rDictNBHDTransformer pre transform:   2%|▏         | 161848/7640906 [00:00<00:27, 272841.04it/s]"
     ]
    },
    {
     "name": "stderr",
     "output_type": "stream",
     "text": [
      "\rDictNBHDTransformer pre transform:   2%|▏         | 188932/7640906 [00:00<00:27, 272231.64it/s]"
     ]
    },
    {
     "name": "stderr",
     "output_type": "stream",
     "text": [
      "\rDictNBHDTransformer pre transform:   3%|▎         | 220579/7640906 [00:00<00:26, 284143.92it/s]"
     ]
    },
    {
     "name": "stderr",
     "output_type": "stream",
     "text": [
      "\rDictNBHDTransformer pre transform:   3%|▎         | 251905/7640906 [00:00<00:25, 292293.24it/s]"
     ]
    },
    {
     "name": "stderr",
     "output_type": "stream",
     "text": [
      "\rDictNBHDTransformer pre transform:   4%|▎         | 285146/7640906 [00:01<00:24, 303272.65it/s]"
     ]
    },
    {
     "name": "stderr",
     "output_type": "stream",
     "text": [
      "\rDictNBHDTransformer pre transform:   4%|▍         | 318273/7640906 [00:01<00:23, 311161.07it/s]"
     ]
    },
    {
     "name": "stderr",
     "output_type": "stream",
     "text": [
      "\rDictNBHDTransformer pre transform:   5%|▍         | 349526/7640906 [00:01<00:24, 297475.15it/s]"
     ]
    },
    {
     "name": "stderr",
     "output_type": "stream",
     "text": [
      "\rDictNBHDTransformer pre transform:   5%|▌         | 382764/7640906 [00:01<00:23, 307149.24it/s]"
     ]
    },
    {
     "name": "stderr",
     "output_type": "stream",
     "text": [
      "\rDictNBHDTransformer pre transform:   5%|▌         | 413530/7640906 [00:01<00:24, 289342.12it/s]"
     ]
    },
    {
     "name": "stderr",
     "output_type": "stream",
     "text": [
      "\rDictNBHDTransformer pre transform:   6%|▌         | 448391/7640906 [00:01<00:23, 304890.34it/s]"
     ]
    },
    {
     "name": "stderr",
     "output_type": "stream",
     "text": [
      "\rDictNBHDTransformer pre transform:   6%|▋         | 483160/7640906 [00:01<00:22, 316580.48it/s]"
     ]
    },
    {
     "name": "stderr",
     "output_type": "stream",
     "text": [
      "\rDictNBHDTransformer pre transform:   7%|▋         | 517101/7640906 [00:01<00:22, 323056.98it/s]"
     ]
    },
    {
     "name": "stderr",
     "output_type": "stream",
     "text": [
      "\rDictNBHDTransformer pre transform:   7%|▋         | 550311/7640906 [00:01<00:21, 325716.93it/s]"
     ]
    },
    {
     "name": "stderr",
     "output_type": "stream",
     "text": [
      "\rDictNBHDTransformer pre transform:   8%|▊         | 585685/7640906 [00:01<00:21, 333641.44it/s]"
     ]
    },
    {
     "name": "stderr",
     "output_type": "stream",
     "text": [
      "\rDictNBHDTransformer pre transform:   8%|▊         | 619718/7640906 [00:02<00:20, 335620.10it/s]"
     ]
    },
    {
     "name": "stderr",
     "output_type": "stream",
     "text": [
      "\rDictNBHDTransformer pre transform:   9%|▊         | 653931/7640906 [00:02<00:20, 337545.81it/s]"
     ]
    },
    {
     "name": "stderr",
     "output_type": "stream",
     "text": [
      "\rDictNBHDTransformer pre transform:   9%|▉         | 688835/7640906 [00:02<00:20, 340912.22it/s]"
     ]
    },
    {
     "name": "stderr",
     "output_type": "stream",
     "text": [
      "\rDictNBHDTransformer pre transform:   9%|▉         | 723007/7640906 [00:02<00:23, 295820.47it/s]"
     ]
    },
    {
     "name": "stderr",
     "output_type": "stream",
     "text": [
      "\rDictNBHDTransformer pre transform:  10%|▉         | 757764/7640906 [00:02<00:22, 309649.94it/s]"
     ]
    },
    {
     "name": "stderr",
     "output_type": "stream",
     "text": [
      "\rDictNBHDTransformer pre transform:  10%|█         | 791216/7640906 [00:02<00:21, 316712.83it/s]"
     ]
    },
    {
     "name": "stderr",
     "output_type": "stream",
     "text": [
      "\rDictNBHDTransformer pre transform:  11%|█         | 826823/7640906 [00:02<00:20, 327569.58it/s]"
     ]
    },
    {
     "name": "stderr",
     "output_type": "stream",
     "text": [
      "\rDictNBHDTransformer pre transform:  11%|█▏        | 862957/7640906 [00:02<00:20, 337017.99it/s]"
     ]
    },
    {
     "name": "stderr",
     "output_type": "stream",
     "text": [
      "\rDictNBHDTransformer pre transform:  12%|█▏        | 898553/7640906 [00:02<00:19, 342483.45it/s]"
     ]
    },
    {
     "name": "stderr",
     "output_type": "stream",
     "text": [
      "\rDictNBHDTransformer pre transform:  12%|█▏        | 933838/7640906 [00:02<00:19, 345526.81it/s]"
     ]
    },
    {
     "name": "stderr",
     "output_type": "stream",
     "text": [
      "\rDictNBHDTransformer pre transform:  13%|█▎        | 970899/7640906 [00:03<00:18, 352685.81it/s]"
     ]
    },
    {
     "name": "stderr",
     "output_type": "stream",
     "text": [
      "\rDictNBHDTransformer pre transform:  13%|█▎        | 1008010/7640906 [00:03<00:18, 358016.20it/s]"
     ]
    },
    {
     "name": "stderr",
     "output_type": "stream",
     "text": [
      "\rDictNBHDTransformer pre transform:  14%|█▎        | 1044713/7640906 [00:03<00:18, 360673.35it/s]"
     ]
    },
    {
     "name": "stderr",
     "output_type": "stream",
     "text": [
      "\rDictNBHDTransformer pre transform:  14%|█▍        | 1082106/7640906 [00:03<00:17, 364543.07it/s]"
     ]
    },
    {
     "name": "stderr",
     "output_type": "stream",
     "text": [
      "\rDictNBHDTransformer pre transform:  15%|█▍        | 1119806/7640906 [00:03<00:17, 368191.66it/s]"
     ]
    },
    {
     "name": "stderr",
     "output_type": "stream",
     "text": [
      "\rDictNBHDTransformer pre transform:  15%|█▌        | 1156994/7640906 [00:03<00:17, 369288.46it/s]"
     ]
    },
    {
     "name": "stderr",
     "output_type": "stream",
     "text": [
      "\rDictNBHDTransformer pre transform:  16%|█▌        | 1194995/7640906 [00:03<00:17, 372438.61it/s]"
     ]
    },
    {
     "name": "stderr",
     "output_type": "stream",
     "text": [
      "\rDictNBHDTransformer pre transform:  16%|█▌        | 1232430/7640906 [00:03<00:17, 373002.11it/s]"
     ]
    },
    {
     "name": "stderr",
     "output_type": "stream",
     "text": [
      "\rDictNBHDTransformer pre transform:  17%|█▋        | 1269762/7640906 [00:03<00:17, 371594.61it/s]"
     ]
    },
    {
     "name": "stderr",
     "output_type": "stream",
     "text": [
      "\rDictNBHDTransformer pre transform:  17%|█▋        | 1307739/7640906 [00:03<00:16, 374007.76it/s]"
     ]
    },
    {
     "name": "stderr",
     "output_type": "stream",
     "text": [
      "\rDictNBHDTransformer pre transform:  18%|█▊        | 1345971/7640906 [00:04<00:16, 376460.95it/s]"
     ]
    },
    {
     "name": "stderr",
     "output_type": "stream",
     "text": [
      "\rDictNBHDTransformer pre transform:  18%|█▊        | 1384002/7640906 [00:04<00:16, 377606.50it/s]"
     ]
    },
    {
     "name": "stderr",
     "output_type": "stream",
     "text": [
      "\rDictNBHDTransformer pre transform:  19%|█▊        | 1421776/7640906 [00:04<00:21, 286921.30it/s]"
     ]
    },
    {
     "name": "stderr",
     "output_type": "stream",
     "text": [
      "\rDictNBHDTransformer pre transform:  19%|█▉        | 1459545/7640906 [00:04<00:19, 309212.91it/s]"
     ]
    },
    {
     "name": "stderr",
     "output_type": "stream",
     "text": [
      "\rDictNBHDTransformer pre transform:  20%|█▉        | 1498122/7640906 [00:04<00:18, 328782.41it/s]"
     ]
    },
    {
     "name": "stderr",
     "output_type": "stream",
     "text": [
      "\rDictNBHDTransformer pre transform:  20%|██        | 1538000/7640906 [00:04<00:17, 347056.21it/s]"
     ]
    },
    {
     "name": "stderr",
     "output_type": "stream",
     "text": [
      "\rDictNBHDTransformer pre transform:  21%|██        | 1576683/7640906 [00:04<00:16, 358101.12it/s]"
     ]
    },
    {
     "name": "stderr",
     "output_type": "stream",
     "text": [
      "\rDictNBHDTransformer pre transform:  21%|██        | 1613892/7640906 [00:04<00:16, 359370.68it/s]"
     ]
    },
    {
     "name": "stderr",
     "output_type": "stream",
     "text": [
      "\rDictNBHDTransformer pre transform:  22%|██▏       | 1650810/7640906 [00:04<00:16, 360210.88it/s]"
     ]
    },
    {
     "name": "stderr",
     "output_type": "stream",
     "text": [
      "\rDictNBHDTransformer pre transform:  22%|██▏       | 1687719/7640906 [00:05<00:16, 362822.13it/s]"
     ]
    },
    {
     "name": "stderr",
     "output_type": "stream",
     "text": [
      "\rDictNBHDTransformer pre transform:  23%|██▎       | 1727210/7640906 [00:05<00:15, 371885.14it/s]"
     ]
    },
    {
     "name": "stderr",
     "output_type": "stream",
     "text": [
      "\rDictNBHDTransformer pre transform:  23%|██▎       | 1766318/7640906 [00:05<00:15, 377442.64it/s]"
     ]
    },
    {
     "name": "stderr",
     "output_type": "stream",
     "text": [
      "\rDictNBHDTransformer pre transform:  24%|██▎       | 1804360/7640906 [00:05<00:15, 377730.26it/s]"
     ]
    },
    {
     "name": "stderr",
     "output_type": "stream",
     "text": [
      "\rDictNBHDTransformer pre transform:  24%|██▍       | 1842342/7640906 [00:05<00:15, 377568.54it/s]"
     ]
    },
    {
     "name": "stderr",
     "output_type": "stream",
     "text": [
      "\rDictNBHDTransformer pre transform:  25%|██▍       | 1880245/7640906 [00:05<00:15, 375291.64it/s]"
     ]
    },
    {
     "name": "stderr",
     "output_type": "stream",
     "text": [
      "\rDictNBHDTransformer pre transform:  25%|██▌       | 1917939/7640906 [00:05<00:15, 375784.47it/s]"
     ]
    },
    {
     "name": "stderr",
     "output_type": "stream",
     "text": [
      "\rDictNBHDTransformer pre transform:  26%|██▌       | 1955592/7640906 [00:05<00:15, 374759.22it/s]"
     ]
    },
    {
     "name": "stderr",
     "output_type": "stream",
     "text": [
      "\rDictNBHDTransformer pre transform:  26%|██▌       | 1994106/7640906 [00:05<00:14, 377813.00it/s]"
     ]
    },
    {
     "name": "stderr",
     "output_type": "stream",
     "text": [
      "\rDictNBHDTransformer pre transform:  27%|██▋       | 2033664/7640906 [00:06<00:14, 382972.28it/s]"
     ]
    },
    {
     "name": "stderr",
     "output_type": "stream",
     "text": [
      "\rDictNBHDTransformer pre transform:  27%|██▋       | 2072058/7640906 [00:06<00:14, 383261.92it/s]"
     ]
    },
    {
     "name": "stderr",
     "output_type": "stream",
     "text": [
      "\rDictNBHDTransformer pre transform:  28%|██▊       | 2110417/7640906 [00:06<00:14, 383257.93it/s]"
     ]
    },
    {
     "name": "stderr",
     "output_type": "stream",
     "text": [
      "\rDictNBHDTransformer pre transform:  28%|██▊       | 2149619/7640906 [00:06<00:14, 385833.58it/s]"
     ]
    },
    {
     "name": "stderr",
     "output_type": "stream",
     "text": [
      "\rDictNBHDTransformer pre transform:  29%|██▊       | 2189647/7640906 [00:06<00:13, 390055.84it/s]"
     ]
    },
    {
     "name": "stderr",
     "output_type": "stream",
     "text": [
      "\rDictNBHDTransformer pre transform:  29%|██▉       | 2228678/7640906 [00:06<00:14, 385494.34it/s]"
     ]
    },
    {
     "name": "stderr",
     "output_type": "stream",
     "text": [
      "\rDictNBHDTransformer pre transform:  30%|██▉       | 2268374/7640906 [00:06<00:13, 388862.90it/s]"
     ]
    },
    {
     "name": "stderr",
     "output_type": "stream",
     "text": [
      "\rDictNBHDTransformer pre transform:  30%|███       | 2307810/7640906 [00:06<00:13, 390494.88it/s]"
     ]
    },
    {
     "name": "stderr",
     "output_type": "stream",
     "text": [
      "\rDictNBHDTransformer pre transform:  31%|███       | 2348191/7640906 [00:06<00:13, 394393.92it/s]"
     ]
    },
    {
     "name": "stderr",
     "output_type": "stream",
     "text": [
      "\rDictNBHDTransformer pre transform:  31%|███       | 2387655/7640906 [00:06<00:13, 390798.48it/s]"
     ]
    },
    {
     "name": "stderr",
     "output_type": "stream",
     "text": [
      "\rDictNBHDTransformer pre transform:  32%|███▏      | 2426760/7640906 [00:07<00:13, 385420.87it/s]"
     ]
    },
    {
     "name": "stderr",
     "output_type": "stream",
     "text": [
      "\rDictNBHDTransformer pre transform:  32%|███▏      | 2466831/7640906 [00:07<00:13, 389879.45it/s]"
     ]
    },
    {
     "name": "stderr",
     "output_type": "stream",
     "text": [
      "\rDictNBHDTransformer pre transform:  33%|███▎      | 2507700/7640906 [00:07<00:12, 395331.26it/s]"
     ]
    },
    {
     "name": "stderr",
     "output_type": "stream",
     "text": [
      "\rDictNBHDTransformer pre transform:  33%|███▎      | 2547277/7640906 [00:07<00:12, 393775.15it/s]"
     ]
    },
    {
     "name": "stderr",
     "output_type": "stream",
     "text": [
      "\rDictNBHDTransformer pre transform:  34%|███▍      | 2588267/7640906 [00:07<00:12, 398477.64it/s]"
     ]
    },
    {
     "name": "stderr",
     "output_type": "stream",
     "text": [
      "\rDictNBHDTransformer pre transform:  34%|███▍      | 2628151/7640906 [00:07<00:12, 395637.61it/s]"
     ]
    },
    {
     "name": "stderr",
     "output_type": "stream",
     "text": [
      "\rDictNBHDTransformer pre transform:  35%|███▍      | 2667745/7640906 [00:07<00:12, 394526.35it/s]"
     ]
    },
    {
     "name": "stderr",
     "output_type": "stream",
     "text": [
      "\rDictNBHDTransformer pre transform:  35%|███▌      | 2707220/7640906 [00:07<00:12, 393875.15it/s]"
     ]
    },
    {
     "name": "stderr",
     "output_type": "stream",
     "text": [
      "\rDictNBHDTransformer pre transform:  36%|███▌      | 2747572/7640906 [00:07<00:12, 396719.68it/s]"
     ]
    },
    {
     "name": "stderr",
     "output_type": "stream",
     "text": [
      "\rDictNBHDTransformer pre transform:  36%|███▋      | 2787260/7640906 [00:07<00:12, 395475.26it/s]"
     ]
    },
    {
     "name": "stderr",
     "output_type": "stream",
     "text": [
      "\rDictNBHDTransformer pre transform:  37%|███▋      | 2826820/7640906 [00:08<00:20, 240698.05it/s]"
     ]
    },
    {
     "name": "stderr",
     "output_type": "stream",
     "text": [
      "\rDictNBHDTransformer pre transform:  38%|███▊      | 2868364/7640906 [00:08<00:17, 275456.28it/s]"
     ]
    },
    {
     "name": "stderr",
     "output_type": "stream",
     "text": [
      "\rDictNBHDTransformer pre transform:  38%|███▊      | 2907622/7640906 [00:08<00:15, 302533.90it/s]"
     ]
    },
    {
     "name": "stderr",
     "output_type": "stream",
     "text": [
      "\rDictNBHDTransformer pre transform:  39%|███▊      | 2947942/7640906 [00:08<00:14, 327027.77it/s]"
     ]
    },
    {
     "name": "stderr",
     "output_type": "stream",
     "text": [
      "\rDictNBHDTransformer pre transform:  39%|███▉      | 2987575/7640906 [00:08<00:13, 345131.75it/s]"
     ]
    },
    {
     "name": "stderr",
     "output_type": "stream",
     "text": [
      "\rDictNBHDTransformer pre transform:  40%|███▉      | 3029058/7640906 [00:08<00:12, 363449.53it/s]"
     ]
    },
    {
     "name": "stderr",
     "output_type": "stream",
     "text": [
      "\rDictNBHDTransformer pre transform:  40%|████      | 3069636/7640906 [00:08<00:12, 375155.26it/s]"
     ]
    },
    {
     "name": "stderr",
     "output_type": "stream",
     "text": [
      "\rDictNBHDTransformer pre transform:  41%|████      | 3112060/7640906 [00:08<00:11, 388641.97it/s]"
     ]
    },
    {
     "name": "stderr",
     "output_type": "stream",
     "text": [
      "\rDictNBHDTransformer pre transform:  41%|████▏     | 3155567/7640906 [00:09<00:11, 401494.30it/s]"
     ]
    },
    {
     "name": "stderr",
     "output_type": "stream",
     "text": [
      "\rDictNBHDTransformer pre transform:  42%|████▏     | 3198526/7640906 [00:09<00:10, 409528.41it/s]"
     ]
    },
    {
     "name": "stderr",
     "output_type": "stream",
     "text": [
      "\rDictNBHDTransformer pre transform:  42%|████▏     | 3240328/7640906 [00:09<00:10, 407801.95it/s]"
     ]
    },
    {
     "name": "stderr",
     "output_type": "stream",
     "text": [
      "\rDictNBHDTransformer pre transform:  43%|████▎     | 3282200/7640906 [00:09<00:10, 411014.63it/s]"
     ]
    },
    {
     "name": "stderr",
     "output_type": "stream",
     "text": [
      "\rDictNBHDTransformer pre transform:  44%|████▎     | 3324177/7640906 [00:09<00:10, 413596.94it/s]"
     ]
    },
    {
     "name": "stderr",
     "output_type": "stream",
     "text": [
      "\rDictNBHDTransformer pre transform:  44%|████▍     | 3366065/7640906 [00:09<00:10, 415166.46it/s]"
     ]
    },
    {
     "name": "stderr",
     "output_type": "stream",
     "text": [
      "\rDictNBHDTransformer pre transform:  45%|████▍     | 3408031/7640906 [00:09<00:10, 416504.21it/s]"
     ]
    },
    {
     "name": "stderr",
     "output_type": "stream",
     "text": [
      "\rDictNBHDTransformer pre transform:  45%|████▌     | 3450513/7640906 [00:09<00:10, 418963.20it/s]"
     ]
    },
    {
     "name": "stderr",
     "output_type": "stream",
     "text": [
      "\rDictNBHDTransformer pre transform:  46%|████▌     | 3493595/7640906 [00:09<00:09, 422448.59it/s]"
     ]
    },
    {
     "name": "stderr",
     "output_type": "stream",
     "text": [
      "\rDictNBHDTransformer pre transform:  46%|████▋     | 3535923/7640906 [00:09<00:09, 422477.51it/s]"
     ]
    },
    {
     "name": "stderr",
     "output_type": "stream",
     "text": [
      "\rDictNBHDTransformer pre transform:  47%|████▋     | 3578229/7640906 [00:10<00:09, 420489.44it/s]"
     ]
    },
    {
     "name": "stderr",
     "output_type": "stream",
     "text": [
      "\rDictNBHDTransformer pre transform:  47%|████▋     | 3621534/7640906 [00:10<00:09, 424177.87it/s]"
     ]
    },
    {
     "name": "stderr",
     "output_type": "stream",
     "text": [
      "\rDictNBHDTransformer pre transform:  48%|████▊     | 3666435/7640906 [00:10<00:09, 431330.52it/s]"
     ]
    },
    {
     "name": "stderr",
     "output_type": "stream",
     "text": [
      "\rDictNBHDTransformer pre transform:  49%|████▊     | 3710542/7640906 [00:10<00:09, 434204.27it/s]"
     ]
    },
    {
     "name": "stderr",
     "output_type": "stream",
     "text": [
      "\rDictNBHDTransformer pre transform:  49%|████▉     | 3754039/7640906 [00:10<00:08, 434433.52it/s]"
     ]
    },
    {
     "name": "stderr",
     "output_type": "stream",
     "text": [
      "\rDictNBHDTransformer pre transform:  50%|████▉     | 3797513/7640906 [00:10<00:08, 432413.54it/s]"
     ]
    },
    {
     "name": "stderr",
     "output_type": "stream",
     "text": [
      "\rDictNBHDTransformer pre transform:  50%|█████     | 3841388/7640906 [00:10<00:08, 434290.38it/s]"
     ]
    },
    {
     "name": "stderr",
     "output_type": "stream",
     "text": [
      "\rDictNBHDTransformer pre transform:  51%|█████     | 3884836/7640906 [00:10<00:08, 433326.74it/s]"
     ]
    },
    {
     "name": "stderr",
     "output_type": "stream",
     "text": [
      "\rDictNBHDTransformer pre transform:  51%|█████▏    | 3928183/7640906 [00:10<00:08, 428359.13it/s]"
     ]
    },
    {
     "name": "stderr",
     "output_type": "stream",
     "text": [
      "\rDictNBHDTransformer pre transform:  52%|█████▏    | 3971042/7640906 [00:10<00:08, 425998.22it/s]"
     ]
    },
    {
     "name": "stderr",
     "output_type": "stream",
     "text": [
      "\rDictNBHDTransformer pre transform:  53%|█████▎    | 4014391/7640906 [00:11<00:08, 428217.33it/s]"
     ]
    },
    {
     "name": "stderr",
     "output_type": "stream",
     "text": [
      "\rDictNBHDTransformer pre transform:  53%|█████▎    | 4057887/7640906 [00:11<00:08, 430210.29it/s]"
     ]
    },
    {
     "name": "stderr",
     "output_type": "stream",
     "text": [
      "\rDictNBHDTransformer pre transform:  54%|█████▎    | 4101802/7640906 [00:11<00:08, 432810.24it/s]"
     ]
    },
    {
     "name": "stderr",
     "output_type": "stream",
     "text": [
      "\rDictNBHDTransformer pre transform:  54%|█████▍    | 4145096/7640906 [00:11<00:08, 429433.52it/s]"
     ]
    },
    {
     "name": "stderr",
     "output_type": "stream",
     "text": [
      "\rDictNBHDTransformer pre transform:  55%|█████▍    | 4188055/7640906 [00:11<00:08, 426736.38it/s]"
     ]
    },
    {
     "name": "stderr",
     "output_type": "stream",
     "text": [
      "\rDictNBHDTransformer pre transform:  55%|█████▌    | 4231446/7640906 [00:11<00:07, 428861.13it/s]"
     ]
    },
    {
     "name": "stderr",
     "output_type": "stream",
     "text": [
      "\rDictNBHDTransformer pre transform:  56%|█████▌    | 4274498/7640906 [00:11<00:07, 429354.81it/s]"
     ]
    },
    {
     "name": "stderr",
     "output_type": "stream",
     "text": [
      "\rDictNBHDTransformer pre transform:  57%|█████▋    | 4317727/7640906 [00:11<00:07, 430223.34it/s]"
     ]
    },
    {
     "name": "stderr",
     "output_type": "stream",
     "text": [
      "\rDictNBHDTransformer pre transform:  57%|█████▋    | 4360757/7640906 [00:11<00:07, 417975.98it/s]"
     ]
    },
    {
     "name": "stderr",
     "output_type": "stream",
     "text": [
      "\rDictNBHDTransformer pre transform:  58%|█████▊    | 4404202/7640906 [00:11<00:07, 422782.97it/s]"
     ]
    },
    {
     "name": "stderr",
     "output_type": "stream",
     "text": [
      "\rDictNBHDTransformer pre transform:  58%|█████▊    | 4447469/7640906 [00:12<00:07, 425698.73it/s]"
     ]
    },
    {
     "name": "stderr",
     "output_type": "stream",
     "text": [
      "\rDictNBHDTransformer pre transform:  59%|█████▉    | 4491531/7640906 [00:12<00:07, 430063.22it/s]"
     ]
    },
    {
     "name": "stderr",
     "output_type": "stream",
     "text": [
      "\rDictNBHDTransformer pre transform:  59%|█████▉    | 4534664/7640906 [00:12<00:07, 430438.60it/s]"
     ]
    },
    {
     "name": "stderr",
     "output_type": "stream",
     "text": [
      "\rDictNBHDTransformer pre transform:  60%|█████▉    | 4578667/7640906 [00:12<00:07, 433270.73it/s]"
     ]
    },
    {
     "name": "stderr",
     "output_type": "stream",
     "text": [
      "\rDictNBHDTransformer pre transform:  61%|██████    | 4623252/7640906 [00:12<00:06, 436967.93it/s]"
     ]
    },
    {
     "name": "stderr",
     "output_type": "stream",
     "text": [
      "\rDictNBHDTransformer pre transform:  61%|██████    | 4667102/7640906 [00:12<00:06, 437426.24it/s]"
     ]
    },
    {
     "name": "stderr",
     "output_type": "stream",
     "text": [
      "\rDictNBHDTransformer pre transform:  62%|██████▏   | 4711761/7640906 [00:12<00:06, 440134.52it/s]"
     ]
    },
    {
     "name": "stderr",
     "output_type": "stream",
     "text": [
      "\rDictNBHDTransformer pre transform:  62%|██████▏   | 4756280/7640906 [00:12<00:06, 441638.88it/s]"
     ]
    },
    {
     "name": "stderr",
     "output_type": "stream",
     "text": [
      "\rDictNBHDTransformer pre transform:  63%|██████▎   | 4800458/7640906 [00:12<00:06, 437721.72it/s]"
     ]
    },
    {
     "name": "stderr",
     "output_type": "stream",
     "text": [
      "\rDictNBHDTransformer pre transform:  63%|██████▎   | 4844248/7640906 [00:12<00:06, 432494.76it/s]"
     ]
    },
    {
     "name": "stderr",
     "output_type": "stream",
     "text": [
      "\rDictNBHDTransformer pre transform:  64%|██████▍   | 4887524/7640906 [00:13<00:06, 431677.24it/s]"
     ]
    },
    {
     "name": "stderr",
     "output_type": "stream",
     "text": [
      "\rDictNBHDTransformer pre transform:  65%|██████▍   | 4931793/7640906 [00:13<00:06, 434920.48it/s]"
     ]
    },
    {
     "name": "stderr",
     "output_type": "stream",
     "text": [
      "\rDictNBHDTransformer pre transform:  65%|██████▌   | 4976393/7640906 [00:13<00:06, 438183.45it/s]"
     ]
    },
    {
     "name": "stderr",
     "output_type": "stream",
     "text": [
      "\rDictNBHDTransformer pre transform:  66%|██████▌   | 5020578/7640906 [00:13<00:05, 439275.89it/s]"
     ]
    },
    {
     "name": "stderr",
     "output_type": "stream",
     "text": [
      "\rDictNBHDTransformer pre transform:  66%|██████▋   | 5064765/7640906 [00:13<00:05, 440050.73it/s]"
     ]
    },
    {
     "name": "stderr",
     "output_type": "stream",
     "text": [
      "\rDictNBHDTransformer pre transform:  67%|██████▋   | 5110311/7640906 [00:13<00:05, 444562.10it/s]"
     ]
    },
    {
     "name": "stderr",
     "output_type": "stream",
     "text": [
      "\rDictNBHDTransformer pre transform:  67%|██████▋   | 5155890/7640906 [00:13<00:05, 447869.25it/s]"
     ]
    },
    {
     "name": "stderr",
     "output_type": "stream",
     "text": [
      "\rDictNBHDTransformer pre transform:  68%|██████▊   | 5201070/7640906 [00:13<00:05, 449041.08it/s]"
     ]
    },
    {
     "name": "stderr",
     "output_type": "stream",
     "text": [
      "\rDictNBHDTransformer pre transform:  69%|██████▊   | 5245988/7640906 [00:13<00:05, 448360.51it/s]"
     ]
    },
    {
     "name": "stderr",
     "output_type": "stream",
     "text": [
      "\rDictNBHDTransformer pre transform:  69%|██████▉   | 5291206/7640906 [00:13<00:05, 449498.42it/s]"
     ]
    },
    {
     "name": "stderr",
     "output_type": "stream",
     "text": [
      "\rDictNBHDTransformer pre transform:  70%|██████▉   | 5336164/7640906 [00:14<00:05, 444280.09it/s]"
     ]
    },
    {
     "name": "stderr",
     "output_type": "stream",
     "text": [
      "\rDictNBHDTransformer pre transform:  70%|███████   | 5380612/7640906 [00:14<00:05, 441715.86it/s]"
     ]
    },
    {
     "name": "stderr",
     "output_type": "stream",
     "text": [
      "\rDictNBHDTransformer pre transform:  71%|███████   | 5427106/7640906 [00:14<00:04, 448433.12it/s]"
     ]
    },
    {
     "name": "stderr",
     "output_type": "stream",
     "text": [
      "\rDictNBHDTransformer pre transform:  72%|███████▏  | 5471986/7640906 [00:14<00:04, 442746.00it/s]"
     ]
    },
    {
     "name": "stderr",
     "output_type": "stream",
     "text": [
      "\rDictNBHDTransformer pre transform:  72%|███████▏  | 5516892/7640906 [00:14<00:04, 444614.68it/s]"
     ]
    },
    {
     "name": "stderr",
     "output_type": "stream",
     "text": [
      "\rDictNBHDTransformer pre transform:  73%|███████▎  | 5561385/7640906 [00:14<00:04, 441457.12it/s]"
     ]
    },
    {
     "name": "stderr",
     "output_type": "stream",
     "text": [
      "\rDictNBHDTransformer pre transform:  73%|███████▎  | 5605558/7640906 [00:15<00:13, 152633.82it/s]"
     ]
    },
    {
     "name": "stderr",
     "output_type": "stream",
     "text": [
      "\rDictNBHDTransformer pre transform:  74%|███████▍  | 5647520/7640906 [00:15<00:10, 188641.05it/s]"
     ]
    },
    {
     "name": "stderr",
     "output_type": "stream",
     "text": [
      "\rDictNBHDTransformer pre transform:  74%|███████▍  | 5683022/7640906 [00:15<00:08, 218321.32it/s]"
     ]
    },
    {
     "name": "stderr",
     "output_type": "stream",
     "text": [
      "\rDictNBHDTransformer pre transform:  75%|███████▍  | 5721286/7640906 [00:15<00:07, 250606.08it/s]"
     ]
    },
    {
     "name": "stderr",
     "output_type": "stream",
     "text": [
      "\rDictNBHDTransformer pre transform:  75%|███████▌  | 5767138/7640906 [00:15<00:06, 290063.00it/s]"
     ]
    },
    {
     "name": "stderr",
     "output_type": "stream",
     "text": [
      "\rDictNBHDTransformer pre transform:  76%|███████▌  | 5812146/7640906 [00:15<00:05, 324692.50it/s]"
     ]
    },
    {
     "name": "stderr",
     "output_type": "stream",
     "text": [
      "\rDictNBHDTransformer pre transform:  77%|███████▋  | 5858054/7640906 [00:15<00:05, 355950.40it/s]"
     ]
    },
    {
     "name": "stderr",
     "output_type": "stream",
     "text": [
      "\rDictNBHDTransformer pre transform:  77%|███████▋  | 5904642/7640906 [00:16<00:04, 383066.05it/s]"
     ]
    },
    {
     "name": "stderr",
     "output_type": "stream",
     "text": [
      "\rDictNBHDTransformer pre transform:  78%|███████▊  | 5948981/7640906 [00:16<00:04, 399365.46it/s]"
     ]
    },
    {
     "name": "stderr",
     "output_type": "stream",
     "text": [
      "\rDictNBHDTransformer pre transform:  78%|███████▊  | 5994288/7640906 [00:16<00:03, 414089.46it/s]"
     ]
    },
    {
     "name": "stderr",
     "output_type": "stream",
     "text": [
      "\rDictNBHDTransformer pre transform:  79%|███████▉  | 6039538/7640906 [00:16<00:03, 424846.51it/s]"
     ]
    },
    {
     "name": "stderr",
     "output_type": "stream",
     "text": [
      "\rDictNBHDTransformer pre transform:  80%|███████▉  | 6086527/7640906 [00:16<00:03, 437424.62it/s]"
     ]
    },
    {
     "name": "stderr",
     "output_type": "stream",
     "text": [
      "\rDictNBHDTransformer pre transform:  80%|████████  | 6133255/7640906 [00:16<00:03, 445972.04it/s]"
     ]
    },
    {
     "name": "stderr",
     "output_type": "stream",
     "text": [
      "\rDictNBHDTransformer pre transform:  81%|████████  | 6178977/7640906 [00:16<00:03, 410590.02it/s]"
     ]
    },
    {
     "name": "stderr",
     "output_type": "stream",
     "text": [
      "\rDictNBHDTransformer pre transform:  82%|████████▏ | 6227433/7640906 [00:16<00:03, 430295.76it/s]"
     ]
    },
    {
     "name": "stderr",
     "output_type": "stream",
     "text": [
      "\rDictNBHDTransformer pre transform:  82%|████████▏ | 6274801/7640906 [00:16<00:03, 442445.45it/s]"
     ]
    },
    {
     "name": "stderr",
     "output_type": "stream",
     "text": [
      "\rDictNBHDTransformer pre transform:  83%|████████▎ | 6322312/7640906 [00:16<00:02, 451761.86it/s]"
     ]
    },
    {
     "name": "stderr",
     "output_type": "stream",
     "text": [
      "\rDictNBHDTransformer pre transform:  83%|████████▎ | 6369150/7640906 [00:17<00:02, 456621.01it/s]"
     ]
    },
    {
     "name": "stderr",
     "output_type": "stream",
     "text": [
      "\rDictNBHDTransformer pre transform:  84%|████████▍ | 6415658/7640906 [00:17<00:02, 459126.02it/s]"
     ]
    },
    {
     "name": "stderr",
     "output_type": "stream",
     "text": [
      "\rDictNBHDTransformer pre transform:  85%|████████▍ | 6463667/7640906 [00:17<00:02, 465218.94it/s]"
     ]
    },
    {
     "name": "stderr",
     "output_type": "stream",
     "text": [
      "\rDictNBHDTransformer pre transform:  85%|████████▌ | 6512282/7640906 [00:17<00:02, 471303.72it/s]"
     ]
    },
    {
     "name": "stderr",
     "output_type": "stream",
     "text": [
      "\rDictNBHDTransformer pre transform:  86%|████████▌ | 6560410/7640906 [00:17<00:02, 474250.03it/s]"
     ]
    },
    {
     "name": "stderr",
     "output_type": "stream",
     "text": [
      "\rDictNBHDTransformer pre transform:  86%|████████▋ | 6608244/7640906 [00:17<00:02, 475468.44it/s]"
     ]
    },
    {
     "name": "stderr",
     "output_type": "stream",
     "text": [
      "\rDictNBHDTransformer pre transform:  87%|████████▋ | 6655895/7640906 [00:17<00:02, 463609.95it/s]"
     ]
    },
    {
     "name": "stderr",
     "output_type": "stream",
     "text": [
      "\rDictNBHDTransformer pre transform:  88%|████████▊ | 6702394/7640906 [00:17<00:02, 462890.97it/s]"
     ]
    },
    {
     "name": "stderr",
     "output_type": "stream",
     "text": [
      "\rDictNBHDTransformer pre transform:  88%|████████▊ | 6749043/7640906 [00:17<00:01, 463963.32it/s]"
     ]
    },
    {
     "name": "stderr",
     "output_type": "stream",
     "text": [
      "\rDictNBHDTransformer pre transform:  89%|████████▉ | 6797165/7640906 [00:17<00:01, 469007.45it/s]"
     ]
    },
    {
     "name": "stderr",
     "output_type": "stream",
     "text": [
      "\rDictNBHDTransformer pre transform:  90%|████████▉ | 6844285/7640906 [00:18<00:01, 469662.87it/s]"
     ]
    },
    {
     "name": "stderr",
     "output_type": "stream",
     "text": [
      "\rDictNBHDTransformer pre transform:  90%|█████████ | 6891295/7640906 [00:18<00:01, 467917.05it/s]"
     ]
    },
    {
     "name": "stderr",
     "output_type": "stream",
     "text": [
      "\rDictNBHDTransformer pre transform:  91%|█████████ | 6938241/7640906 [00:18<00:01, 468377.33it/s]"
     ]
    },
    {
     "name": "stderr",
     "output_type": "stream",
     "text": [
      "\rDictNBHDTransformer pre transform:  91%|█████████▏| 6985593/7640906 [00:18<00:01, 469905.50it/s]"
     ]
    },
    {
     "name": "stderr",
     "output_type": "stream",
     "text": [
      "\rDictNBHDTransformer pre transform:  92%|█████████▏| 7032601/7640906 [00:18<00:01, 465437.60it/s]"
     ]
    },
    {
     "name": "stderr",
     "output_type": "stream",
     "text": [
      "\rDictNBHDTransformer pre transform:  93%|█████████▎| 7080469/7640906 [00:18<00:01, 469328.60it/s]"
     ]
    },
    {
     "name": "stderr",
     "output_type": "stream",
     "text": [
      "\rDictNBHDTransformer pre transform:  93%|█████████▎| 7128417/7640906 [00:18<00:01, 472328.40it/s]"
     ]
    },
    {
     "name": "stderr",
     "output_type": "stream",
     "text": [
      "\rDictNBHDTransformer pre transform:  94%|█████████▍| 7175671/7640906 [00:18<00:00, 469227.11it/s]"
     ]
    },
    {
     "name": "stderr",
     "output_type": "stream",
     "text": [
      "\rDictNBHDTransformer pre transform:  95%|█████████▍| 7223523/7640906 [00:18<00:00, 471976.65it/s]"
     ]
    },
    {
     "name": "stderr",
     "output_type": "stream",
     "text": [
      "\rDictNBHDTransformer pre transform:  95%|█████████▌| 7273680/7640906 [00:18<00:00, 480480.19it/s]"
     ]
    },
    {
     "name": "stderr",
     "output_type": "stream",
     "text": [
      "\rDictNBHDTransformer pre transform:  96%|█████████▌| 7321778/7640906 [00:19<00:00, 480606.81it/s]"
     ]
    },
    {
     "name": "stderr",
     "output_type": "stream",
     "text": [
      "\rDictNBHDTransformer pre transform:  96%|█████████▋| 7369874/7640906 [00:19<00:00, 475130.79it/s]"
     ]
    },
    {
     "name": "stderr",
     "output_type": "stream",
     "text": [
      "\rDictNBHDTransformer pre transform:  97%|█████████▋| 7418232/7640906 [00:19<00:00, 477627.43it/s]"
     ]
    },
    {
     "name": "stderr",
     "output_type": "stream",
     "text": [
      "\rDictNBHDTransformer pre transform:  98%|█████████▊| 7466025/7640906 [00:19<00:00, 476288.13it/s]"
     ]
    },
    {
     "name": "stderr",
     "output_type": "stream",
     "text": [
      "\rDictNBHDTransformer pre transform:  98%|█████████▊| 7514050/7640906 [00:19<00:00, 477467.23it/s]"
     ]
    },
    {
     "name": "stderr",
     "output_type": "stream",
     "text": [
      "\rDictNBHDTransformer pre transform:  99%|█████████▉| 7563240/7640906 [00:19<00:00, 481705.79it/s]"
     ]
    },
    {
     "name": "stderr",
     "output_type": "stream",
     "text": [
      "\rDictNBHDTransformer pre transform: 100%|█████████▉| 7611772/7640906 [00:19<00:00, 482781.43it/s]"
     ]
    },
    {
     "name": "stderr",
     "output_type": "stream",
     "text": [
      "\rDictNBHDTransformer pre transform: 100%|██████████| 7640906/7640906 [00:19<00:00, 387236.10it/s]"
     ]
    },
    {
     "name": "stderr",
     "output_type": "stream",
     "text": [
      "\n"
     ]
    },
    {
     "name": "stderr",
     "output_type": "stream",
     "text": [
      "\rDictNBHDTransformer transform:   0%|          | 0/105746 [00:00<?, ?it/s]"
     ]
    },
    {
     "name": "stderr",
     "output_type": "stream",
     "text": [
      "\rDictNBHDTransformer transform:  47%|████▋     | 49794/105746 [00:00<00:00, 85127.38it/s]"
     ]
    },
    {
     "name": "stderr",
     "output_type": "stream",
     "text": [
      "\rDictNBHDTransformer transform:  95%|█████████▌| 100898/105746 [00:00<00:00, 113507.19it/s]"
     ]
    },
    {
     "name": "stderr",
     "output_type": "stream",
     "text": [
      "\rDictNBHDTransformer transform: 100%|██████████| 105746/105746 [00:00<00:00, 152186.62it/s]"
     ]
    },
    {
     "name": "stderr",
     "output_type": "stream",
     "text": [
      "\n"
     ]
    },
    {
     "name": "stderr",
     "output_type": "stream",
     "text": [
      "\rDictClassTransformer_DATE pre transform:   0%|          | 0/36928 [00:00<?, ?it/s]"
     ]
    },
    {
     "name": "stderr",
     "output_type": "stream",
     "text": [
      "\rDictClassTransformer_DATE pre transform:  40%|████      | 14776/36928 [00:00<00:00, 147758.73it/s]"
     ]
    },
    {
     "name": "stderr",
     "output_type": "stream",
     "text": [
      "\rDictClassTransformer_DATE pre transform:  80%|████████  | 29552/36928 [00:00<00:00, 147758.63it/s]"
     ]
    },
    {
     "name": "stderr",
     "output_type": "stream",
     "text": [
      "\rDictClassTransformer_DATE pre transform: 100%|██████████| 36928/36928 [00:00<00:00, 149890.94it/s]"
     ]
    },
    {
     "name": "stderr",
     "output_type": "stream",
     "text": [
      "\n\rDictClassTransformer_DATE transform:   0%|          | 0/105746 [00:00<?, ?it/s]"
     ]
    },
    {
     "name": "stderr",
     "output_type": "stream",
     "text": [
      "\rDictClassTransformer_DATE transform:  91%|█████████▏| 96495/105746 [00:00<00:00, 964948.62it/s]"
     ]
    },
    {
     "name": "stderr",
     "output_type": "stream",
     "text": [
      "\rDictClassTransformer_DATE transform: 100%|██████████| 105746/105746 [00:00<00:00, 966932.28it/s]"
     ]
    },
    {
     "name": "stderr",
     "output_type": "stream",
     "text": [
      "\n"
     ]
    },
    {
     "name": "stderr",
     "output_type": "stream",
     "text": [
      "\rDictClassTransformer_CARDINAL pre transform:   0%|          | 0/10473 [00:00<?, ?it/s]"
     ]
    },
    {
     "name": "stderr",
     "output_type": "stream",
     "text": [
      "\rDictClassTransformer_CARDINAL pre transform: 100%|██████████| 10473/10473 [00:00<00:00, 136194.91it/s]"
     ]
    },
    {
     "name": "stderr",
     "output_type": "stream",
     "text": [
      "\n\rDictClassTransformer_CARDINAL transform:   0%|          | 0/105746 [00:00<?, ?it/s]"
     ]
    },
    {
     "name": "stderr",
     "output_type": "stream",
     "text": [
      "\rDictClassTransformer_CARDINAL transform:  91%|█████████ | 95722/105746 [00:00<00:00, 957200.37it/s]"
     ]
    },
    {
     "name": "stderr",
     "output_type": "stream",
     "text": [
      "\rDictClassTransformer_CARDINAL transform: 100%|██████████| 105746/105746 [00:00<00:00, 954051.42it/s]"
     ]
    },
    {
     "name": "stderr",
     "output_type": "stream",
     "text": [
      "\n"
     ]
    }
   ],
   "source": [
    "predicted = transform(x_train, x_test, y_train, y_test)"
   ]
  },
  {
   "cell_type": "code",
   "execution_count": 5,
   "metadata": {},
   "outputs": [],
   "source": [
    "predicted = predicted.assign(after_true=y_test)"
   ]
  },
  {
   "cell_type": "code",
   "execution_count": 6,
   "metadata": {
    "collapsed": true
   },
   "outputs": [
    {
     "data": {
      "text/plain": [
       "LETTERS       57127\nVERBATIM      25808\nTRANS          6941\nCARDINAL       5746\nPLAIN          2178\nDASH           1667\nDATE           1094\nMEASURE         245\nORDINAL          54\nELECTRONIC       31\nDIGIT            24\nTELEPHONE        14\nTIME             13\nDECIMAL           6\nFRACTION          5\nMONEY             0\nPUNCT             0\nName: class, dtype: int64"
      ]
     },
     "execution_count": 6,
     "metadata": {},
     "output_type": "execute_result"
    }
   ],
   "source": [
    "predicted[(predicted[\"after\"] == y_test)]['class'].value_counts()"
   ]
  },
  {
   "cell_type": "code",
   "execution_count": 7,
   "metadata": {
    "collapsed": true
   },
   "outputs": [
    {
     "data": {
      "text/plain": [
       "CARDINAL      571\nLETTERS       342\nDASH          122\nDATE           48\nMEASURE        29\nPLAIN          17\nFRACTION        1\nVERBATIM        1\nTELEPHONE       1\nDECIMAL         0\nELECTRONIC      0\nTRANS           0\nDIGIT           0\nMONEY           0\nORDINAL         0\nPUNCT           0\nTIME            0\nName: class, dtype: int64"
      ]
     },
     "execution_count": 7,
     "metadata": {},
     "output_type": "execute_result"
    }
   ],
   "source": [
    "predicted[~(predicted[\"after\"] == y_test) & ~(predicted[\"after\"].isnull())]['class'].value_counts()"
   ]
  },
  {
   "cell_type": "code",
   "execution_count": 8,
   "metadata": {
    "collapsed": true
   },
   "outputs": [
    {
     "data": {
      "text/plain": [
       "LETTERS       1362\nTRANS          920\nDATE           664\nMEASURE        461\nTELEPHONE       69\nDECIMAL         67\nORDINAL         50\nMONEY           21\nFRACTION        18\nPLAIN           17\nTIME             9\nELECTRONIC       2\nVERBATIM         1\nCARDINAL         0\nDIGIT            0\nPUNCT            0\nDASH             0\nName: class, dtype: int64"
      ]
     },
     "execution_count": 8,
     "metadata": {},
     "output_type": "execute_result"
    }
   ],
   "source": [
    "predicted[(predicted[\"after\"].isnull())]['class'].value_counts()"
   ]
  },
  {
   "cell_type": "code",
   "execution_count": 14,
   "metadata": {
    "collapsed": false
   },
   "outputs": [
    {
     "data": {
      "text/html": [
       "<div>\n",
       "<style scoped>\n",
       "    .dataframe tbody tr th:only-of-type {\n",
       "        vertical-align: middle;\n",
       "    }\n",
       "\n",
       "    .dataframe tbody tr th {\n",
       "        vertical-align: top;\n",
       "    }\n",
       "\n",
       "    .dataframe thead th {\n",
       "        text-align: right;\n",
       "    }\n",
       "</style>\n",
       "<table border=\"1\" class=\"dataframe\">\n",
       "  <thead>\n",
       "    <tr style=\"text-align: right;\">\n",
       "      <th></th>\n",
       "      <th>before</th>\n",
       "      <th>prev_prev</th>\n",
       "      <th>prev</th>\n",
       "      <th>next</th>\n",
       "      <th>next_next</th>\n",
       "      <th>class</th>\n",
       "      <th>after</th>\n",
       "      <th>after_true</th>\n",
       "    </tr>\n",
       "  </thead>\n",
       "  <tbody>\n",
       "    <tr>\n",
       "      <th>9623361</th>\n",
       "      <td>3000</td>\n",
       "      <td>стволов</td>\n",
       "      <td>с</td>\n",
       "      <td>до</td>\n",
       "      <td>4500</td>\n",
       "      <td>CARDINAL</td>\n",
       "      <td>пять тысяч</td>\n",
       "      <td>трех тысяч</td>\n",
       "    </tr>\n",
       "    <tr>\n",
       "      <th>10119206</th>\n",
       "      <td>84</td>\n",
       "      <td>видов</td>\n",
       "      <td>и</td>\n",
       "      <td>формы</td>\n",
       "      <td>совок</td>\n",
       "      <td>CARDINAL</td>\n",
       "      <td>восьмидесяти четыре</td>\n",
       "      <td>восьмидесяти четырех</td>\n",
       "    </tr>\n",
       "    <tr>\n",
       "      <th>640339</th>\n",
       "      <td>XIX</td>\n",
       "      <td>в</td>\n",
       "      <td>конце</td>\n",
       "      <td>в</td>\n",
       "      <td>.</td>\n",
       "      <td>CARDINAL</td>\n",
       "      <td>девятнадцать</td>\n",
       "      <td>девятнадцати</td>\n",
       "    </tr>\n",
       "    <tr>\n",
       "      <th>2399834</th>\n",
       "      <td>1922</td>\n",
       "      <td>В</td>\n",
       "      <td>декабре</td>\n",
       "      <td>за</td>\n",
       "      <td>антисоветскую</td>\n",
       "      <td>CARDINAL</td>\n",
       "      <td>тысяча девятьсот двадцать два</td>\n",
       "      <td>тысячи девятисот двадцати двух</td>\n",
       "    </tr>\n",
       "    <tr>\n",
       "      <th>2037105</th>\n",
       "      <td>1905</td>\n",
       "      <td>30 апр.</td>\n",
       "      <td>декабрь</td>\n",
       "      <td>произошло</td>\n",
       "      <td>вооруженное</td>\n",
       "      <td>CARDINAL</td>\n",
       "      <td>тысяча девятьсот пять</td>\n",
       "      <td>тысячи девятисот пяти</td>\n",
       "    </tr>\n",
       "    <tr>\n",
       "      <th>1144575</th>\n",
       "      <td>30</td>\n",
       "      <td>существовали</td>\n",
       "      <td>еще</td>\n",
       "      <td>лет</td>\n",
       "      <td>после</td>\n",
       "      <td>CARDINAL</td>\n",
       "      <td>тридцать</td>\n",
       "      <td>тридцати</td>\n",
       "    </tr>\n",
       "    <tr>\n",
       "      <th>400453</th>\n",
       "      <td>1114</td>\n",
       "      <td>Дуванка</td>\n",
       "      <td>—</td>\n",
       "      <td>жит</td>\n",
       "      <td>.</td>\n",
       "      <td>CARDINAL</td>\n",
       "      <td>тысяча сто девятнадцать</td>\n",
       "      <td>тысяча сто четырнадцать</td>\n",
       "    </tr>\n",
       "    <tr>\n",
       "      <th>5069980</th>\n",
       "      <td>-35</td>\n",
       "      <td>карты</td>\n",
       "      <td>P</td>\n",
       "      <td>-133,134</td>\n",
       "      <td>.</td>\n",
       "      <td>CARDINAL</td>\n",
       "      <td>триста три пять</td>\n",
       "      <td>минус три пять</td>\n",
       "    </tr>\n",
       "    <tr>\n",
       "      <th>8787715</th>\n",
       "      <td>359</td>\n",
       "      <td>веру</td>\n",
       "      <td>»</td>\n",
       "      <td>года</td>\n",
       "      <td>.</td>\n",
       "      <td>CARDINAL</td>\n",
       "      <td>двести сорок девять</td>\n",
       "      <td>трехсот пятидесяти девяти</td>\n",
       "    </tr>\n",
       "    <tr>\n",
       "      <th>9632837</th>\n",
       "      <td>-1</td>\n",
       "      <td>устаревающие</td>\n",
       "      <td>Mk</td>\n",
       "      <td>были</td>\n",
       "      <td>сняты</td>\n",
       "      <td>CARDINAL</td>\n",
       "      <td>один</td>\n",
       "      <td>минус один</td>\n",
       "    </tr>\n",
       "    <tr>\n",
       "      <th>7939867</th>\n",
       "      <td>-28</td>\n",
       "      <td>в</td>\n",
       "      <td>1920</td>\n",
       "      <td>—</td>\n",
       "      <td>в</td>\n",
       "      <td>CARDINAL</td>\n",
       "      <td>двадцать восемь</td>\n",
       "      <td>двадцать восьмом</td>\n",
       "    </tr>\n",
       "    <tr>\n",
       "      <th>1149792</th>\n",
       "      <td>II</td>\n",
       "      <td>королю</td>\n",
       "      <td>Фредерику</td>\n",
       "      <td>за</td>\n",
       "      <td>30</td>\n",
       "      <td>CARDINAL</td>\n",
       "      <td>два</td>\n",
       "      <td>двух</td>\n",
       "    </tr>\n",
       "    <tr>\n",
       "      <th>883735</th>\n",
       "      <td>582</td>\n",
       "      <td>.</td>\n",
       "      <td>С.</td>\n",
       "      <td>Справочник</td>\n",
       "      <td>«</td>\n",
       "      <td>CARDINAL</td>\n",
       "      <td>триста восемьдесят два</td>\n",
       "      <td>пятьсот восемьдесят два</td>\n",
       "    </tr>\n",
       "    <tr>\n",
       "      <th>8637090</th>\n",
       "      <td>122</td>\n",
       "      <td>95</td>\n",
       "      <td>-</td>\n",
       "      <td>.</td>\n",
       "      <td>73</td>\n",
       "      <td>CARDINAL</td>\n",
       "      <td>ста двадцать два</td>\n",
       "      <td>ста двадцати двух</td>\n",
       "    </tr>\n",
       "    <tr>\n",
       "      <th>4485419</th>\n",
       "      <td>5</td>\n",
       "      <td>надельной</td>\n",
       "      <td>и</td>\n",
       "      <td>десятин</td>\n",
       "      <td>приобретенной</td>\n",
       "      <td>CARDINAL</td>\n",
       "      <td>пять</td>\n",
       "      <td>пяти</td>\n",
       "    </tr>\n",
       "    <tr>\n",
       "      <th>2599938</th>\n",
       "      <td>158</td>\n",
       "      <td>p</td>\n",
       "      <td>.</td>\n",
       "      <td>Мадонна</td>\n",
       "      <td>.</td>\n",
       "      <td>CARDINAL</td>\n",
       "      <td>сто тридцать восемь</td>\n",
       "      <td>сто пятьдесят восемь</td>\n",
       "    </tr>\n",
       "    <tr>\n",
       "      <th>3643907</th>\n",
       "      <td>143</td>\n",
       "      <td>101</td>\n",
       "      <td>(</td>\n",
       "      <td>)</td>\n",
       "      <td>,</td>\n",
       "      <td>CARDINAL</td>\n",
       "      <td>пятнадцать</td>\n",
       "      <td>сто сорок три</td>\n",
       "    </tr>\n",
       "    <tr>\n",
       "      <th>8867171</th>\n",
       "      <td>16</td>\n",
       "      <td>на</td>\n",
       "      <td>Солнечной</td>\n",
       "      <td>владений</td>\n",
       "      <td>на</td>\n",
       "      <td>CARDINAL</td>\n",
       "      <td>шестнадцать</td>\n",
       "      <td>шестнадцати</td>\n",
       "    </tr>\n",
       "    <tr>\n",
       "      <th>9786511</th>\n",
       "      <td>1252</td>\n",
       "      <td>(</td>\n",
       "      <td>с</td>\n",
       "      <td>,</td>\n",
       "      <td>развод</td>\n",
       "      <td>CARDINAL</td>\n",
       "      <td>тысяча двести пятьдесят два</td>\n",
       "      <td>тысячей двумястами пятьюдесятью двумя</td>\n",
       "    </tr>\n",
       "    <tr>\n",
       "      <th>9843067</th>\n",
       "      <td>57</td>\n",
       "      <td>было</td>\n",
       "      <td>забито</td>\n",
       "      <td>мячей</td>\n",
       "      <td>(</td>\n",
       "      <td>CARDINAL</td>\n",
       "      <td>тридцать семь</td>\n",
       "      <td>пятьдесят семь</td>\n",
       "    </tr>\n",
       "  </tbody>\n",
       "</table>\n",
       "</div>"
      ],
      "text/plain": [
       "<div>\n",
       "<style scoped>\n",
       "    .dataframe tbody tr th:only-of-type {\n",
       "        vertical-align: middle;\n",
       "    }\n",
       "\n",
       "    .dataframe tbody tr th {\n",
       "        vertical-align: top;\n",
       "    }\n",
       "\n",
       "    .dataframe thead th {\n",
       "        text-align: right;\n",
       "    }\n",
       "</style>\n",
       "<table border=\"1\" class=\"dataframe\">\n",
       "  <thead>\n",
       "    <tr style=\"text-align: right;\">\n",
       "      <th></th>\n",
       "      <th>before</th>\n",
       "      <th>prev_prev</th>\n",
       "      <th>prev</th>\n",
       "      <th>next</th>\n",
       "      <th>next_next</th>\n",
       "      <th>class</th>\n",
       "      <th>after</th>\n",
       "      <th>after_true</th>\n",
       "    </tr>\n",
       "  </thead>\n",
       "  <tbody>\n",
       "    <tr>\n",
       "      <th>9623361</th>\n",
       "      <td>3000</td>\n",
       "      <td>стволов</td>\n",
       "      <td>с</td>\n",
       "      <td>до</td>\n",
       "      <td>4500</td>\n",
       "      <td>CARDINAL</td>\n",
       "      <td>пять тысяч</td>\n",
       "      <td>трех тысяч</td>\n",
       "    </tr>\n",
       "    <tr>\n",
       "      <th>10119206</th>\n",
       "      <td>84</td>\n",
       "      <td>видов</td>\n",
       "      <td>и</td>\n",
       "      <td>формы</td>\n",
       "      <td>совок</td>\n",
       "      <td>CARDINAL</td>\n",
       "      <td>восьмидесяти четыре</td>\n",
       "      <td>восьмидесяти четырех</td>\n",
       "    </tr>\n",
       "    <tr>\n",
       "      <th>640339</th>\n",
       "      <td>XIX</td>\n",
       "      <td>в</td>\n",
       "      <td>конце</td>\n",
       "      <td>в</td>\n",
       "      <td>.</td>\n",
       "      <td>CARDINAL</td>\n",
       "      <td>девятнадцать</td>\n",
       "      <td>девятнадцати</td>\n",
       "    </tr>\n",
       "    <tr>\n",
       "      <th>2399834</th>\n",
       "      <td>1922</td>\n",
       "      <td>В</td>\n",
       "      <td>декабре</td>\n",
       "      <td>за</td>\n",
       "      <td>антисоветскую</td>\n",
       "      <td>CARDINAL</td>\n",
       "      <td>тысяча девятьсот двадцать два</td>\n",
       "      <td>тысячи девятисот двадцати двух</td>\n",
       "    </tr>\n",
       "    <tr>\n",
       "      <th>2037105</th>\n",
       "      <td>1905</td>\n",
       "      <td>30 апр.</td>\n",
       "      <td>декабрь</td>\n",
       "      <td>произошло</td>\n",
       "      <td>вооруженное</td>\n",
       "      <td>CARDINAL</td>\n",
       "      <td>тысяча девятьсот пять</td>\n",
       "      <td>тысячи девятисот пяти</td>\n",
       "    </tr>\n",
       "    <tr>\n",
       "      <th>1144575</th>\n",
       "      <td>30</td>\n",
       "      <td>существовали</td>\n",
       "      <td>еще</td>\n",
       "      <td>лет</td>\n",
       "      <td>после</td>\n",
       "      <td>CARDINAL</td>\n",
       "      <td>тридцать</td>\n",
       "      <td>тридцати</td>\n",
       "    </tr>\n",
       "    <tr>\n",
       "      <th>400453</th>\n",
       "      <td>1114</td>\n",
       "      <td>Дуванка</td>\n",
       "      <td>—</td>\n",
       "      <td>жит</td>\n",
       "      <td>.</td>\n",
       "      <td>CARDINAL</td>\n",
       "      <td>тысяча сто девятнадцать</td>\n",
       "      <td>тысяча сто четырнадцать</td>\n",
       "    </tr>\n",
       "    <tr>\n",
       "      <th>5069980</th>\n",
       "      <td>-35</td>\n",
       "      <td>карты</td>\n",
       "      <td>P</td>\n",
       "      <td>-133,134</td>\n",
       "      <td>.</td>\n",
       "      <td>CARDINAL</td>\n",
       "      <td>триста три пять</td>\n",
       "      <td>минус три пять</td>\n",
       "    </tr>\n",
       "    <tr>\n",
       "      <th>8787715</th>\n",
       "      <td>359</td>\n",
       "      <td>веру</td>\n",
       "      <td>»</td>\n",
       "      <td>года</td>\n",
       "      <td>.</td>\n",
       "      <td>CARDINAL</td>\n",
       "      <td>двести сорок девять</td>\n",
       "      <td>трехсот пятидесяти девяти</td>\n",
       "    </tr>\n",
       "    <tr>\n",
       "      <th>9632837</th>\n",
       "      <td>-1</td>\n",
       "      <td>устаревающие</td>\n",
       "      <td>Mk</td>\n",
       "      <td>были</td>\n",
       "      <td>сняты</td>\n",
       "      <td>CARDINAL</td>\n",
       "      <td>один</td>\n",
       "      <td>минус один</td>\n",
       "    </tr>\n",
       "    <tr>\n",
       "      <th>7939867</th>\n",
       "      <td>-28</td>\n",
       "      <td>в</td>\n",
       "      <td>1920</td>\n",
       "      <td>—</td>\n",
       "      <td>в</td>\n",
       "      <td>CARDINAL</td>\n",
       "      <td>двадцать восемь</td>\n",
       "      <td>двадцать восьмом</td>\n",
       "    </tr>\n",
       "    <tr>\n",
       "      <th>1149792</th>\n",
       "      <td>II</td>\n",
       "      <td>королю</td>\n",
       "      <td>Фредерику</td>\n",
       "      <td>за</td>\n",
       "      <td>30</td>\n",
       "      <td>CARDINAL</td>\n",
       "      <td>два</td>\n",
       "      <td>двух</td>\n",
       "    </tr>\n",
       "    <tr>\n",
       "      <th>883735</th>\n",
       "      <td>582</td>\n",
       "      <td>.</td>\n",
       "      <td>С.</td>\n",
       "      <td>Справочник</td>\n",
       "      <td>«</td>\n",
       "      <td>CARDINAL</td>\n",
       "      <td>триста восемьдесят два</td>\n",
       "      <td>пятьсот восемьдесят два</td>\n",
       "    </tr>\n",
       "    <tr>\n",
       "      <th>8637090</th>\n",
       "      <td>122</td>\n",
       "      <td>95</td>\n",
       "      <td>-</td>\n",
       "      <td>.</td>\n",
       "      <td>73</td>\n",
       "      <td>CARDINAL</td>\n",
       "      <td>ста двадцать два</td>\n",
       "      <td>ста двадцати двух</td>\n",
       "    </tr>\n",
       "    <tr>\n",
       "      <th>4485419</th>\n",
       "      <td>5</td>\n",
       "      <td>надельной</td>\n",
       "      <td>и</td>\n",
       "      <td>десятин</td>\n",
       "      <td>приобретенной</td>\n",
       "      <td>CARDINAL</td>\n",
       "      <td>пять</td>\n",
       "      <td>пяти</td>\n",
       "    </tr>\n",
       "    <tr>\n",
       "      <th>2599938</th>\n",
       "      <td>158</td>\n",
       "      <td>p</td>\n",
       "      <td>.</td>\n",
       "      <td>Мадонна</td>\n",
       "      <td>.</td>\n",
       "      <td>CARDINAL</td>\n",
       "      <td>сто тридцать восемь</td>\n",
       "      <td>сто пятьдесят восемь</td>\n",
       "    </tr>\n",
       "    <tr>\n",
       "      <th>3643907</th>\n",
       "      <td>143</td>\n",
       "      <td>101</td>\n",
       "      <td>(</td>\n",
       "      <td>)</td>\n",
       "      <td>,</td>\n",
       "      <td>CARDINAL</td>\n",
       "      <td>пятнадцать</td>\n",
       "      <td>сто сорок три</td>\n",
       "    </tr>\n",
       "    <tr>\n",
       "      <th>8867171</th>\n",
       "      <td>16</td>\n",
       "      <td>на</td>\n",
       "      <td>Солнечной</td>\n",
       "      <td>владений</td>\n",
       "      <td>на</td>\n",
       "      <td>CARDINAL</td>\n",
       "      <td>шестнадцать</td>\n",
       "      <td>шестнадцати</td>\n",
       "    </tr>\n",
       "    <tr>\n",
       "      <th>9786511</th>\n",
       "      <td>1252</td>\n",
       "      <td>(</td>\n",
       "      <td>с</td>\n",
       "      <td>,</td>\n",
       "      <td>развод</td>\n",
       "      <td>CARDINAL</td>\n",
       "      <td>тысяча двести пятьдесят два</td>\n",
       "      <td>тысячей двумястами пятьюдесятью двумя</td>\n",
       "    </tr>\n",
       "    <tr>\n",
       "      <th>9843067</th>\n",
       "      <td>57</td>\n",
       "      <td>было</td>\n",
       "      <td>забито</td>\n",
       "      <td>мячей</td>\n",
       "      <td>(</td>\n",
       "      <td>CARDINAL</td>\n",
       "      <td>тридцать семь</td>\n",
       "      <td>пятьдесят семь</td>\n",
       "    </tr>\n",
       "  </tbody>\n",
       "</table>\n",
       "</div>"
      ]
     },
     "execution_count": 14,
     "metadata": {},
     "output_type": "execute_result"
    }
   ],
   "source": [
    "predicted[~(predicted[\"after\"] == y_test) & ~(predicted[\"after\"].isnull()) & (predicted['class']=='CARDINAL')].sample(20)"
   ]
  },
  {
   "cell_type": "code",
   "execution_count": 15,
   "metadata": {
    "collapsed": false
   },
   "outputs": [
    {
     "data": {
      "text/html": [
       "<div>\n",
       "<style scoped>\n",
       "    .dataframe tbody tr th:only-of-type {\n",
       "        vertical-align: middle;\n",
       "    }\n",
       "\n",
       "    .dataframe tbody tr th {\n",
       "        vertical-align: top;\n",
       "    }\n",
       "\n",
       "    .dataframe thead th {\n",
       "        text-align: right;\n",
       "    }\n",
       "</style>\n",
       "<table border=\"1\" class=\"dataframe\">\n",
       "  <thead>\n",
       "    <tr style=\"text-align: right;\">\n",
       "      <th></th>\n",
       "      <th>before</th>\n",
       "      <th>prev_prev</th>\n",
       "      <th>prev</th>\n",
       "      <th>next</th>\n",
       "      <th>next_next</th>\n",
       "      <th>class</th>\n",
       "      <th>case</th>\n",
       "      <th>number</th>\n",
       "      <th>after</th>\n",
       "      <th>after_true</th>\n",
       "    </tr>\n",
       "  </thead>\n",
       "  <tbody>\n",
       "    <tr>\n",
       "      <th>3439716</th>\n",
       "      <td>.</td>\n",
       "      <td>и</td>\n",
       "      <td>CCKB</td>\n",
       "      <td>Первая</td>\n",
       "      <td>бригада</td>\n",
       "      <td>CARDINAL</td>\n",
       "      <td>nomn</td>\n",
       "      <td>sing</td>\n",
       "      <td>None</td>\n",
       "      <td>.</td>\n",
       "    </tr>\n",
       "    <tr>\n",
       "      <th>228056</th>\n",
       "      <td>.</td>\n",
       "      <td>первоисточника</td>\n",
       "      <td>26 апреля 2015</td>\n",
       "      <td>Усадьба</td>\n",
       "      <td>Барсовой</td>\n",
       "      <td>CARDINAL</td>\n",
       "      <td>nomn</td>\n",
       "      <td>sing</td>\n",
       "      <td>None</td>\n",
       "      <td>.</td>\n",
       "    </tr>\n",
       "    <tr>\n",
       "      <th>5254234</th>\n",
       "      <td>.</td>\n",
       "      <td>с</td>\n",
       "      <td>компанией</td>\n",
       "      <td>Тонкий</td>\n",
       "      <td>хвост</td>\n",
       "      <td>CARDINAL</td>\n",
       "      <td>nomn</td>\n",
       "      <td>sing</td>\n",
       "      <td>None</td>\n",
       "      <td>.</td>\n",
       "    </tr>\n",
       "    <tr>\n",
       "      <th>1074310</th>\n",
       "      <td>184</td>\n",
       "      <td>жителей</td>\n",
       "      <td>работали</td>\n",
       "      <td>человека</td>\n",
       "      <td>(</td>\n",
       "      <td>CARDINAL</td>\n",
       "      <td>nomn</td>\n",
       "      <td>sing</td>\n",
       "      <td>сто восемьдесят четыре</td>\n",
       "      <td>сто восемьдесят четыре</td>\n",
       "    </tr>\n",
       "    <tr>\n",
       "      <th>7318781</th>\n",
       "      <td>7</td>\n",
       "      <td>23</td>\n",
       "      <td>.</td>\n",
       "      <td>человек</td>\n",
       "      <td>на</td>\n",
       "      <td>CARDINAL</td>\n",
       "      <td>nomn</td>\n",
       "      <td>none</td>\n",
       "      <td>семь</td>\n",
       "      <td>семь</td>\n",
       "    </tr>\n",
       "    <tr>\n",
       "      <th>3260148</th>\n",
       "      <td>-</td>\n",
       "      <td>украинкой</td>\n",
       "      <td>Ганной</td>\n",
       "      <td>рисовальщицей</td>\n",
       "      <td>»</td>\n",
       "      <td>CARDINAL</td>\n",
       "      <td>nomn</td>\n",
       "      <td>sing</td>\n",
       "      <td>None</td>\n",
       "      <td>-</td>\n",
       "    </tr>\n",
       "    <tr>\n",
       "      <th>268049</th>\n",
       "      <td>.</td>\n",
       "      <td>(</td>\n",
       "      <td>исп</td>\n",
       "      <td>Keiko</td>\n",
       "      <td>Sofia</td>\n",
       "      <td>CARDINAL</td>\n",
       "      <td>nomn</td>\n",
       "      <td>sing</td>\n",
       "      <td>None</td>\n",
       "      <td>.</td>\n",
       "    </tr>\n",
       "    <tr>\n",
       "      <th>8609176</th>\n",
       "      <td>-</td>\n",
       "      <td>и</td>\n",
       "      <td>Сен</td>\n",
       "      <td>Филип</td>\n",
       "      <td>,</td>\n",
       "      <td>CARDINAL</td>\n",
       "      <td>nomn</td>\n",
       "      <td>sing</td>\n",
       "      <td>None</td>\n",
       "      <td>-</td>\n",
       "    </tr>\n",
       "    <tr>\n",
       "      <th>4202194</th>\n",
       "      <td>.</td>\n",
       "      <td>en</td>\n",
       "      <td>Diest</td>\n",
       "      <td>Король</td>\n",
       "      <td>Эдуард</td>\n",
       "      <td>CARDINAL</td>\n",
       "      <td>nomn</td>\n",
       "      <td>sing</td>\n",
       "      <td>None</td>\n",
       "      <td>.</td>\n",
       "    </tr>\n",
       "    <tr>\n",
       "      <th>2757101</th>\n",
       "      <td>779</td>\n",
       "      <td>775</td>\n",
       "      <td>по</td>\n",
       "      <td>.</td>\n",
       "      <td>Нерсе</td>\n",
       "      <td>CARDINAL</td>\n",
       "      <td>nomn</td>\n",
       "      <td>none</td>\n",
       "      <td>семьсот семьдесят девять</td>\n",
       "      <td>семьсот семьдесят девятый</td>\n",
       "    </tr>\n",
       "    <tr>\n",
       "      <th>64429</th>\n",
       "      <td>.</td>\n",
       "      <td>,</td>\n",
       "      <td>1922</td>\n",
       "      <td>Angles</td>\n",
       "      <td>H.</td>\n",
       "      <td>CARDINAL</td>\n",
       "      <td>nomn</td>\n",
       "      <td>sing</td>\n",
       "      <td>None</td>\n",
       "      <td>.</td>\n",
       "    </tr>\n",
       "    <tr>\n",
       "      <th>7704610</th>\n",
       "      <td>.</td>\n",
       "      <td>.</td>\n",
       "      <td>495</td>\n",
       "      <td>Martin</td>\n",
       "      <td>and</td>\n",
       "      <td>CARDINAL</td>\n",
       "      <td>nomn</td>\n",
       "      <td>sing</td>\n",
       "      <td>None</td>\n",
       "      <td>.</td>\n",
       "    </tr>\n",
       "    <tr>\n",
       "      <th>7824686</th>\n",
       "      <td>.</td>\n",
       "      <td>первоисточника</td>\n",
       "      <td>8 апреля 2013</td>\n",
       "      <td>Best</td>\n",
       "      <td>-</td>\n",
       "      <td>CARDINAL</td>\n",
       "      <td>nomn</td>\n",
       "      <td>sing</td>\n",
       "      <td>None</td>\n",
       "      <td>.</td>\n",
       "    </tr>\n",
       "    <tr>\n",
       "      <th>6324313</th>\n",
       "      <td>112</td>\n",
       "      <td>101</td>\n",
       "      <td>-</td>\n",
       "      <td>.</td>\n",
       "      <td>Mikel</td>\n",
       "      <td>CARDINAL</td>\n",
       "      <td>gent</td>\n",
       "      <td>none</td>\n",
       "      <td>сто двенадцати</td>\n",
       "      <td>ста двенадцати</td>\n",
       "    </tr>\n",
       "    <tr>\n",
       "      <th>2745465</th>\n",
       "      <td>-</td>\n",
       "      <td>,</td>\n",
       "      <td>по</td>\n",
       "      <td>прежнему</td>\n",
       "      <td>обсуждается</td>\n",
       "      <td>CARDINAL</td>\n",
       "      <td>nomn</td>\n",
       "      <td>sing</td>\n",
       "      <td>None</td>\n",
       "      <td>-</td>\n",
       "    </tr>\n",
       "    <tr>\n",
       "      <th>5457860</th>\n",
       "      <td>333</td>\n",
       "      <td>331</td>\n",
       "      <td>—</td>\n",
       "      <td>.</td>\n",
       "      <td>Зимин</td>\n",
       "      <td>CARDINAL</td>\n",
       "      <td>accs</td>\n",
       "      <td>sing</td>\n",
       "      <td>триста тридцать три</td>\n",
       "      <td>триста тридцать три</td>\n",
       "    </tr>\n",
       "    <tr>\n",
       "      <th>429987</th>\n",
       "      <td>-</td>\n",
       "      <td>в</td>\n",
       "      <td>Орехово</td>\n",
       "      <td>Зуевском</td>\n",
       "      <td>муниципальном</td>\n",
       "      <td>CARDINAL</td>\n",
       "      <td>nomn</td>\n",
       "      <td>sing</td>\n",
       "      <td>None</td>\n",
       "      <td>-</td>\n",
       "    </tr>\n",
       "    <tr>\n",
       "      <th>5434369</th>\n",
       "      <td>.</td>\n",
       "      <td>московской</td>\n",
       "      <td>теократии</td>\n",
       "      <td>Женевьева</td>\n",
       "      <td>Родис</td>\n",
       "      <td>CARDINAL</td>\n",
       "      <td>nomn</td>\n",
       "      <td>sing</td>\n",
       "      <td>None</td>\n",
       "      <td>.</td>\n",
       "    </tr>\n",
       "    <tr>\n",
       "      <th>2449632</th>\n",
       "      <td>.</td>\n",
       "      <td>-</td>\n",
       "      <td>2012</td>\n",
       "      <td>Ultratop</td>\n",
       "      <td>.</td>\n",
       "      <td>CARDINAL</td>\n",
       "      <td>nomn</td>\n",
       "      <td>sing</td>\n",
       "      <td>None</td>\n",
       "      <td>.</td>\n",
       "    </tr>\n",
       "    <tr>\n",
       "      <th>1837088</th>\n",
       "      <td>2006</td>\n",
       "      <td>рингу</td>\n",
       "      <td>(</td>\n",
       "      <td>)</td>\n",
       "      <td>.</td>\n",
       "      <td>CARDINAL</td>\n",
       "      <td>nomn</td>\n",
       "      <td>sing</td>\n",
       "      <td>две тысячи шесть</td>\n",
       "      <td>две тысячи шесть</td>\n",
       "    </tr>\n",
       "    <tr>\n",
       "      <th>6140572</th>\n",
       "      <td>.</td>\n",
       "      <td>5000</td>\n",
       "      <td>экз</td>\n",
       "      <td>Министерство</td>\n",
       "      <td>здравоохранения</td>\n",
       "      <td>CARDINAL</td>\n",
       "      <td>nomn</td>\n",
       "      <td>sing</td>\n",
       "      <td>None</td>\n",
       "      <td>.</td>\n",
       "    </tr>\n",
       "    <tr>\n",
       "      <th>330087</th>\n",
       "      <td>.</td>\n",
       "      <td>Jorge</td>\n",
       "      <td>Edwards</td>\n",
       "      <td>Основные</td>\n",
       "      <td>теоретики</td>\n",
       "      <td>CARDINAL</td>\n",
       "      <td>nomn</td>\n",
       "      <td>sing</td>\n",
       "      <td>None</td>\n",
       "      <td>.</td>\n",
       "    </tr>\n",
       "    <tr>\n",
       "      <th>5887363</th>\n",
       "      <td>/</td>\n",
       "      <td>(</td>\n",
       "      <td>2006</td>\n",
       "      <td>07</td>\n",
       "      <td>,</td>\n",
       "      <td>CARDINAL</td>\n",
       "      <td>nomn</td>\n",
       "      <td>sing</td>\n",
       "      <td>None</td>\n",
       "      <td>/</td>\n",
       "    </tr>\n",
       "    <tr>\n",
       "      <th>1842620</th>\n",
       "      <td>12</td>\n",
       "      <td>Царском</td>\n",
       "      <td>Селе</td>\n",
       "      <td>(</td>\n",
       "      <td>24</td>\n",
       "      <td>CARDINAL</td>\n",
       "      <td>nomn</td>\n",
       "      <td>none</td>\n",
       "      <td>двенадцать</td>\n",
       "      <td>двенадцать</td>\n",
       "    </tr>\n",
       "    <tr>\n",
       "      <th>9121114</th>\n",
       "      <td>20</td>\n",
       "      <td>большой</td>\n",
       "      <td>за</td>\n",
       "      <td>лет</td>\n",
       "      <td>.</td>\n",
       "      <td>CARDINAL</td>\n",
       "      <td>nomn</td>\n",
       "      <td>none</td>\n",
       "      <td>двадцать</td>\n",
       "      <td>двадцать</td>\n",
       "    </tr>\n",
       "    <tr>\n",
       "      <th>5942303</th>\n",
       "      <td>16</td>\n",
       "      <td>автором</td>\n",
       "      <td>в</td>\n",
       "      <td>лет</td>\n",
       "      <td>.</td>\n",
       "      <td>CARDINAL</td>\n",
       "      <td>nomn</td>\n",
       "      <td>none</td>\n",
       "      <td>шестнадцать</td>\n",
       "      <td>шестнадцать</td>\n",
       "    </tr>\n",
       "    <tr>\n",
       "      <th>4285396</th>\n",
       "      <td>.</td>\n",
       "      <td>И. И.</td>\n",
       "      <td>Соколов</td>\n",
       "      <td>Население</td>\n",
       "      <td>составляет</td>\n",
       "      <td>CARDINAL</td>\n",
       "      <td>nomn</td>\n",
       "      <td>sing</td>\n",
       "      <td>None</td>\n",
       "      <td>.</td>\n",
       "    </tr>\n",
       "    <tr>\n",
       "      <th>5657428</th>\n",
       "      <td>.</td>\n",
       "      <td>воду</td>\n",
       "      <td>16 мая 1818 года</td>\n",
       "      <td>Военные</td>\n",
       "      <td>кампании</td>\n",
       "      <td>CARDINAL</td>\n",
       "      <td>nomn</td>\n",
       "      <td>sing</td>\n",
       "      <td>None</td>\n",
       "      <td>.</td>\n",
       "    </tr>\n",
       "    <tr>\n",
       "      <th>3422143</th>\n",
       "      <td>.</td>\n",
       "      <td>Проверено</td>\n",
       "      <td>21 апреля 2015</td>\n",
       "      <td>Sudhish</td>\n",
       "      <td>Kamath</td>\n",
       "      <td>CARDINAL</td>\n",
       "      <td>nomn</td>\n",
       "      <td>sing</td>\n",
       "      <td>None</td>\n",
       "      <td>.</td>\n",
       "    </tr>\n",
       "    <tr>\n",
       "      <th>3990749</th>\n",
       "      <td>.</td>\n",
       "      <td>с</td>\n",
       "      <td>правдой</td>\n",
       "      <td>В</td>\n",
       "      <td>1955 году</td>\n",
       "      <td>CARDINAL</td>\n",
       "      <td>nomn</td>\n",
       "      <td>sing</td>\n",
       "      <td>None</td>\n",
       "      <td>.</td>\n",
       "    </tr>\n",
       "    <tr>\n",
       "      <th>...</th>\n",
       "      <td>...</td>\n",
       "      <td>...</td>\n",
       "      <td>...</td>\n",
       "      <td>...</td>\n",
       "      <td>...</td>\n",
       "      <td>...</td>\n",
       "      <td>...</td>\n",
       "      <td>...</td>\n",
       "      <td>...</td>\n",
       "      <td>...</td>\n",
       "    </tr>\n",
       "    <tr>\n",
       "      <th>10541187</th>\n",
       "      <td>.</td>\n",
       "      <td>историческое</td>\n",
       "      <td>значение</td>\n",
       "      <td>Автор</td>\n",
       "      <td>сценария</td>\n",
       "      <td>CARDINAL</td>\n",
       "      <td>nomn</td>\n",
       "      <td>sing</td>\n",
       "      <td>None</td>\n",
       "      <td>.</td>\n",
       "    </tr>\n",
       "    <tr>\n",
       "      <th>10527273</th>\n",
       "      <td>.</td>\n",
       "      <td>первоисточника</td>\n",
       "      <td>8 июля 2012</td>\n",
       "      <td>Gendron</td>\n",
       "      <td>,</td>\n",
       "      <td>CARDINAL</td>\n",
       "      <td>nomn</td>\n",
       "      <td>sing</td>\n",
       "      <td>None</td>\n",
       "      <td>.</td>\n",
       "    </tr>\n",
       "    <tr>\n",
       "      <th>7779410</th>\n",
       "      <td>.</td>\n",
       "      <td>первоисточника</td>\n",
       "      <td>18 августа 2012</td>\n",
       "      <td>Linkin</td>\n",
       "      <td>Park</td>\n",
       "      <td>CARDINAL</td>\n",
       "      <td>nomn</td>\n",
       "      <td>sing</td>\n",
       "      <td>None</td>\n",
       "      <td>.</td>\n",
       "    </tr>\n",
       "    <tr>\n",
       "      <th>2751668</th>\n",
       "      <td>.</td>\n",
       "      <td>особенно</td>\n",
       "      <td>женщин</td>\n",
       "      <td>Военная</td>\n",
       "      <td>кампания</td>\n",
       "      <td>CARDINAL</td>\n",
       "      <td>nomn</td>\n",
       "      <td>sing</td>\n",
       "      <td>None</td>\n",
       "      <td>.</td>\n",
       "    </tr>\n",
       "    <tr>\n",
       "      <th>2485600</th>\n",
       "      <td>XII</td>\n",
       "      <td>и</td>\n",
       "      <td>до</td>\n",
       "      <td>века</td>\n",
       "      <td>власть</td>\n",
       "      <td>CARDINAL</td>\n",
       "      <td>nomn</td>\n",
       "      <td>none</td>\n",
       "      <td>None</td>\n",
       "      <td>двенадцатого</td>\n",
       "    </tr>\n",
       "    <tr>\n",
       "      <th>8812525</th>\n",
       "      <td>20</td>\n",
       "      <td>(</td>\n",
       "      <td>до</td>\n",
       "      <td>)</td>\n",
       "      <td>VS</td>\n",
       "      <td>CARDINAL</td>\n",
       "      <td>nomn</td>\n",
       "      <td>none</td>\n",
       "      <td>двадцать</td>\n",
       "      <td>двадцати</td>\n",
       "    </tr>\n",
       "    <tr>\n",
       "      <th>5282690</th>\n",
       "      <td>.</td>\n",
       "      <td>:</td>\n",
       "      <td>ил</td>\n",
       "      <td>В. А.</td>\n",
       "      <td>Возчикова</td>\n",
       "      <td>CARDINAL</td>\n",
       "      <td>nomn</td>\n",
       "      <td>sing</td>\n",
       "      <td>None</td>\n",
       "      <td>.</td>\n",
       "    </tr>\n",
       "    <tr>\n",
       "      <th>2079557</th>\n",
       "      <td>.</td>\n",
       "      <td>доктора</td>\n",
       "      <td>техн</td>\n",
       "      <td>наук</td>\n",
       "      <td>.</td>\n",
       "      <td>CARDINAL</td>\n",
       "      <td>nomn</td>\n",
       "      <td>sing</td>\n",
       "      <td>None</td>\n",
       "      <td>.</td>\n",
       "    </tr>\n",
       "    <tr>\n",
       "      <th>7510534</th>\n",
       "      <td>482</td>\n",
       "      <td>Космос</td>\n",
       "      <td>-</td>\n",
       "      <td>—</td>\n",
       "      <td>автоматическая</td>\n",
       "      <td>CARDINAL</td>\n",
       "      <td>nomn</td>\n",
       "      <td>none</td>\n",
       "      <td>четыреста восемьдесят два</td>\n",
       "      <td>четыреста восемьдесят два</td>\n",
       "    </tr>\n",
       "    <tr>\n",
       "      <th>2480445</th>\n",
       "      <td>69</td>\n",
       "      <td>—</td>\n",
       "      <td>С.</td>\n",
       "      <td>.</td>\n",
       "      <td>London</td>\n",
       "      <td>CARDINAL</td>\n",
       "      <td>nomn</td>\n",
       "      <td>none</td>\n",
       "      <td>шестьдесят девять</td>\n",
       "      <td>шестьдесят девять</td>\n",
       "    </tr>\n",
       "    <tr>\n",
       "      <th>9311043</th>\n",
       "      <td>/</td>\n",
       "      <td>)</td>\n",
       "      <td>/</td>\n",
       "      <td>Крылья</td>\n",
       "      <td>Родины</td>\n",
       "      <td>CARDINAL</td>\n",
       "      <td>nomn</td>\n",
       "      <td>sing</td>\n",
       "      <td>None</td>\n",
       "      <td>/</td>\n",
       "    </tr>\n",
       "    <tr>\n",
       "      <th>8832656</th>\n",
       "      <td>9</td>\n",
       "      <td>территории</td>\n",
       "      <td>Украины</td>\n",
       "      <td>населенных</td>\n",
       "      <td>пунктов</td>\n",
       "      <td>CARDINAL</td>\n",
       "      <td>nomn</td>\n",
       "      <td>none</td>\n",
       "      <td>девять</td>\n",
       "      <td>девять</td>\n",
       "    </tr>\n",
       "    <tr>\n",
       "      <th>40194</th>\n",
       "      <td>1627</td>\n",
       "      <td>Дрезден</td>\n",
       "      <td>,</td>\n",
       "      <td>)</td>\n",
       "      <td>.</td>\n",
       "      <td>CARDINAL</td>\n",
       "      <td>nomn</td>\n",
       "      <td>sing</td>\n",
       "      <td>одна тысяча шестьсот двадцать семь</td>\n",
       "      <td>тысяча шестьсот двадцать семь</td>\n",
       "    </tr>\n",
       "    <tr>\n",
       "      <th>4910763</th>\n",
       "      <td>-</td>\n",
       "      <td>БОЙ</td>\n",
       "      <td>КЛИЧКО</td>\n",
       "      <td>ПОВЕТКИН</td>\n",
       "      <td>НАЗВАН</td>\n",
       "      <td>CARDINAL</td>\n",
       "      <td>nomn</td>\n",
       "      <td>sing</td>\n",
       "      <td>None</td>\n",
       "      <td>-</td>\n",
       "    </tr>\n",
       "    <tr>\n",
       "      <th>6213164</th>\n",
       "      <td>1127</td>\n",
       "      <td>(</td>\n",
       "      <td>с</td>\n",
       "      <td>)</td>\n",
       "      <td>.</td>\n",
       "      <td>CARDINAL</td>\n",
       "      <td>nomn</td>\n",
       "      <td>sing</td>\n",
       "      <td>одна тысяча сто двадцать семь</td>\n",
       "      <td>тысяча сто двадцать семь</td>\n",
       "    </tr>\n",
       "    <tr>\n",
       "      <th>695002</th>\n",
       "      <td>.</td>\n",
       "      <td>,</td>\n",
       "      <td>vol</td>\n",
       "      <td>Ричард</td>\n",
       "      <td>проверяет</td>\n",
       "      <td>CARDINAL</td>\n",
       "      <td>nomn</td>\n",
       "      <td>sing</td>\n",
       "      <td>None</td>\n",
       "      <td>.</td>\n",
       "    </tr>\n",
       "    <tr>\n",
       "      <th>855302</th>\n",
       "      <td>13 842</td>\n",
       "      <td>2000 года</td>\n",
       "      <td>составляет</td>\n",
       "      <td>чел</td>\n",
       "      <td>.</td>\n",
       "      <td>CARDINAL</td>\n",
       "      <td>nomn</td>\n",
       "      <td>plur</td>\n",
       "      <td>None</td>\n",
       "      <td>тринадцать тысяч восемьсот сорок два</td>\n",
       "    </tr>\n",
       "    <tr>\n",
       "      <th>2465111</th>\n",
       "      <td>.</td>\n",
       "      <td>с</td>\n",
       "      <td>вооружения</td>\n",
       "      <td>Облечихино</td>\n",
       "      <td>—</td>\n",
       "      <td>CARDINAL</td>\n",
       "      <td>nomn</td>\n",
       "      <td>sing</td>\n",
       "      <td>None</td>\n",
       "      <td>.</td>\n",
       "    </tr>\n",
       "    <tr>\n",
       "      <th>9463288</th>\n",
       "      <td>1700</td>\n",
       "      <td>1699</td>\n",
       "      <td>—</td>\n",
       "      <td>по</td>\n",
       "      <td>1899</td>\n",
       "      <td>CARDINAL</td>\n",
       "      <td>nomn</td>\n",
       "      <td>sing</td>\n",
       "      <td>одна тысяча семьсот</td>\n",
       "      <td>тысяча семьсот</td>\n",
       "    </tr>\n",
       "    <tr>\n",
       "      <th>5130151</th>\n",
       "      <td>-</td>\n",
       "      <td>государственный</td>\n",
       "      <td>архитектурно</td>\n",
       "      <td>строительный</td>\n",
       "      <td>институт</td>\n",
       "      <td>CARDINAL</td>\n",
       "      <td>nomn</td>\n",
       "      <td>sing</td>\n",
       "      <td>None</td>\n",
       "      <td>-</td>\n",
       "    </tr>\n",
       "    <tr>\n",
       "      <th>9980371</th>\n",
       "      <td>15</td>\n",
       "      <td>7:15</td>\n",
       "      <td>,</td>\n",
       "      <td>:</td>\n",
       "      <td>9</td>\n",
       "      <td>CARDINAL</td>\n",
       "      <td>nomn</td>\n",
       "      <td>none</td>\n",
       "      <td>пятнадцать</td>\n",
       "      <td>пятнадцать</td>\n",
       "    </tr>\n",
       "    <tr>\n",
       "      <th>6955867</th>\n",
       "      <td>.</td>\n",
       "      <td>.</td>\n",
       "      <td>f</td>\n",
       "      <td>belorussicus</td>\n",
       "      <td>Kurl</td>\n",
       "      <td>CARDINAL</td>\n",
       "      <td>nomn</td>\n",
       "      <td>sing</td>\n",
       "      <td>None</td>\n",
       "      <td>.</td>\n",
       "    </tr>\n",
       "    <tr>\n",
       "      <th>5530344</th>\n",
       "      <td>651</td>\n",
       "      <td>p</td>\n",
       "      <td>.</td>\n",
       "      <td>.</td>\n",
       "      <td>Till</td>\n",
       "      <td>CARDINAL</td>\n",
       "      <td>nomn</td>\n",
       "      <td>sing</td>\n",
       "      <td>шестьсот пятьдесят один</td>\n",
       "      <td>шестьсот пятьдесят один</td>\n",
       "    </tr>\n",
       "    <tr>\n",
       "      <th>8965855</th>\n",
       "      <td>1942</td>\n",
       "      <td>животноводства</td>\n",
       "      <td>(</td>\n",
       "      <td>—</td>\n",
       "      <td>1955</td>\n",
       "      <td>CARDINAL</td>\n",
       "      <td>nomn</td>\n",
       "      <td>sing</td>\n",
       "      <td>одна тысяча девятьсот сорок два</td>\n",
       "      <td>тысяча девятьсот сорок два</td>\n",
       "    </tr>\n",
       "    <tr>\n",
       "      <th>1882260</th>\n",
       "      <td>19</td>\n",
       "      <td>на</td>\n",
       "      <td>основании</td>\n",
       "      <td>рецензий</td>\n",
       "      <td>.</td>\n",
       "      <td>CARDINAL</td>\n",
       "      <td>nomn</td>\n",
       "      <td>none</td>\n",
       "      <td>девятнадцать</td>\n",
       "      <td>девятнадцати</td>\n",
       "    </tr>\n",
       "    <tr>\n",
       "      <th>8536813</th>\n",
       "      <td>0</td>\n",
       "      <td>3</td>\n",
       "      <td>:</td>\n",
       "      <td>(</td>\n",
       "      <td>15</td>\n",
       "      <td>CARDINAL</td>\n",
       "      <td>nomn</td>\n",
       "      <td>sing</td>\n",
       "      <td>ноль</td>\n",
       "      <td>ноль</td>\n",
       "    </tr>\n",
       "    <tr>\n",
       "      <th>5853661</th>\n",
       "      <td>.</td>\n",
       "      <td>в</td>\n",
       "      <td>село</td>\n",
       "      <td>Усики</td>\n",
       "      <td>самок</td>\n",
       "      <td>CARDINAL</td>\n",
       "      <td>nomn</td>\n",
       "      <td>sing</td>\n",
       "      <td>None</td>\n",
       "      <td>.</td>\n",
       "    </tr>\n",
       "    <tr>\n",
       "      <th>9375998</th>\n",
       "      <td>249</td>\n",
       "      <td>Карта</td>\n",
       "      <td>С.</td>\n",
       "      <td>.</td>\n",
       "      <td>Якутская</td>\n",
       "      <td>CARDINAL</td>\n",
       "      <td>nomn</td>\n",
       "      <td>plur</td>\n",
       "      <td>двести сорок девять</td>\n",
       "      <td>двести сорок девять</td>\n",
       "    </tr>\n",
       "    <tr>\n",
       "      <th>6697132</th>\n",
       "      <td>-</td>\n",
       "      <td>Монтрейском</td>\n",
       "      <td>поп</td>\n",
       "      <td>фестивале</td>\n",
       "      <td>в</td>\n",
       "      <td>CARDINAL</td>\n",
       "      <td>nomn</td>\n",
       "      <td>sing</td>\n",
       "      <td>None</td>\n",
       "      <td>-</td>\n",
       "    </tr>\n",
       "    <tr>\n",
       "      <th>4371987</th>\n",
       "      <td>-</td>\n",
       "      <td>,</td>\n",
       "      <td>бога</td>\n",
       "      <td>покровителя</td>\n",
       "      <td>города</td>\n",
       "      <td>CARDINAL</td>\n",
       "      <td>nomn</td>\n",
       "      <td>sing</td>\n",
       "      <td>None</td>\n",
       "      <td>-</td>\n",
       "    </tr>\n",
       "  </tbody>\n",
       "</table>\n",
       "<p>100 rows × 10 columns</p>\n",
       "</div>"
      ],
      "text/plain": [
       "<div>\n",
       "<style scoped>\n",
       "    .dataframe tbody tr th:only-of-type {\n",
       "        vertical-align: middle;\n",
       "    }\n",
       "\n",
       "    .dataframe tbody tr th {\n",
       "        vertical-align: top;\n",
       "    }\n",
       "\n",
       "    .dataframe thead th {\n",
       "        text-align: right;\n",
       "    }\n",
       "</style>\n",
       "<table border=\"1\" class=\"dataframe\">\n",
       "  <thead>\n",
       "    <tr style=\"text-align: right;\">\n",
       "      <th></th>\n",
       "      <th>before</th>\n",
       "      <th>prev_prev</th>\n",
       "      <th>prev</th>\n",
       "      <th>next</th>\n",
       "      <th>next_next</th>\n",
       "      <th>class</th>\n",
       "      <th>case</th>\n",
       "      <th>number</th>\n",
       "      <th>after</th>\n",
       "      <th>after_true</th>\n",
       "    </tr>\n",
       "  </thead>\n",
       "  <tbody>\n",
       "    <tr>\n",
       "      <th>3439716</th>\n",
       "      <td>.</td>\n",
       "      <td>и</td>\n",
       "      <td>CCKB</td>\n",
       "      <td>Первая</td>\n",
       "      <td>бригада</td>\n",
       "      <td>CARDINAL</td>\n",
       "      <td>nomn</td>\n",
       "      <td>sing</td>\n",
       "      <td>None</td>\n",
       "      <td>.</td>\n",
       "    </tr>\n",
       "    <tr>\n",
       "      <th>228056</th>\n",
       "      <td>.</td>\n",
       "      <td>первоисточника</td>\n",
       "      <td>26 апреля 2015</td>\n",
       "      <td>Усадьба</td>\n",
       "      <td>Барсовой</td>\n",
       "      <td>CARDINAL</td>\n",
       "      <td>nomn</td>\n",
       "      <td>sing</td>\n",
       "      <td>None</td>\n",
       "      <td>.</td>\n",
       "    </tr>\n",
       "    <tr>\n",
       "      <th>5254234</th>\n",
       "      <td>.</td>\n",
       "      <td>с</td>\n",
       "      <td>компанией</td>\n",
       "      <td>Тонкий</td>\n",
       "      <td>хвост</td>\n",
       "      <td>CARDINAL</td>\n",
       "      <td>nomn</td>\n",
       "      <td>sing</td>\n",
       "      <td>None</td>\n",
       "      <td>.</td>\n",
       "    </tr>\n",
       "    <tr>\n",
       "      <th>1074310</th>\n",
       "      <td>184</td>\n",
       "      <td>жителей</td>\n",
       "      <td>работали</td>\n",
       "      <td>человека</td>\n",
       "      <td>(</td>\n",
       "      <td>CARDINAL</td>\n",
       "      <td>nomn</td>\n",
       "      <td>sing</td>\n",
       "      <td>сто восемьдесят четыре</td>\n",
       "      <td>сто восемьдесят четыре</td>\n",
       "    </tr>\n",
       "    <tr>\n",
       "      <th>7318781</th>\n",
       "      <td>7</td>\n",
       "      <td>23</td>\n",
       "      <td>.</td>\n",
       "      <td>человек</td>\n",
       "      <td>на</td>\n",
       "      <td>CARDINAL</td>\n",
       "      <td>nomn</td>\n",
       "      <td>none</td>\n",
       "      <td>семь</td>\n",
       "      <td>семь</td>\n",
       "    </tr>\n",
       "    <tr>\n",
       "      <th>3260148</th>\n",
       "      <td>-</td>\n",
       "      <td>украинкой</td>\n",
       "      <td>Ганной</td>\n",
       "      <td>рисовальщицей</td>\n",
       "      <td>»</td>\n",
       "      <td>CARDINAL</td>\n",
       "      <td>nomn</td>\n",
       "      <td>sing</td>\n",
       "      <td>None</td>\n",
       "      <td>-</td>\n",
       "    </tr>\n",
       "    <tr>\n",
       "      <th>268049</th>\n",
       "      <td>.</td>\n",
       "      <td>(</td>\n",
       "      <td>исп</td>\n",
       "      <td>Keiko</td>\n",
       "      <td>Sofia</td>\n",
       "      <td>CARDINAL</td>\n",
       "      <td>nomn</td>\n",
       "      <td>sing</td>\n",
       "      <td>None</td>\n",
       "      <td>.</td>\n",
       "    </tr>\n",
       "    <tr>\n",
       "      <th>8609176</th>\n",
       "      <td>-</td>\n",
       "      <td>и</td>\n",
       "      <td>Сен</td>\n",
       "      <td>Филип</td>\n",
       "      <td>,</td>\n",
       "      <td>CARDINAL</td>\n",
       "      <td>nomn</td>\n",
       "      <td>sing</td>\n",
       "      <td>None</td>\n",
       "      <td>-</td>\n",
       "    </tr>\n",
       "    <tr>\n",
       "      <th>4202194</th>\n",
       "      <td>.</td>\n",
       "      <td>en</td>\n",
       "      <td>Diest</td>\n",
       "      <td>Король</td>\n",
       "      <td>Эдуард</td>\n",
       "      <td>CARDINAL</td>\n",
       "      <td>nomn</td>\n",
       "      <td>sing</td>\n",
       "      <td>None</td>\n",
       "      <td>.</td>\n",
       "    </tr>\n",
       "    <tr>\n",
       "      <th>2757101</th>\n",
       "      <td>779</td>\n",
       "      <td>775</td>\n",
       "      <td>по</td>\n",
       "      <td>.</td>\n",
       "      <td>Нерсе</td>\n",
       "      <td>CARDINAL</td>\n",
       "      <td>nomn</td>\n",
       "      <td>none</td>\n",
       "      <td>семьсот семьдесят девять</td>\n",
       "      <td>семьсот семьдесят девятый</td>\n",
       "    </tr>\n",
       "    <tr>\n",
       "      <th>64429</th>\n",
       "      <td>.</td>\n",
       "      <td>,</td>\n",
       "      <td>1922</td>\n",
       "      <td>Angles</td>\n",
       "      <td>H.</td>\n",
       "      <td>CARDINAL</td>\n",
       "      <td>nomn</td>\n",
       "      <td>sing</td>\n",
       "      <td>None</td>\n",
       "      <td>.</td>\n",
       "    </tr>\n",
       "    <tr>\n",
       "      <th>7704610</th>\n",
       "      <td>.</td>\n",
       "      <td>.</td>\n",
       "      <td>495</td>\n",
       "      <td>Martin</td>\n",
       "      <td>and</td>\n",
       "      <td>CARDINAL</td>\n",
       "      <td>nomn</td>\n",
       "      <td>sing</td>\n",
       "      <td>None</td>\n",
       "      <td>.</td>\n",
       "    </tr>\n",
       "    <tr>\n",
       "      <th>7824686</th>\n",
       "      <td>.</td>\n",
       "      <td>первоисточника</td>\n",
       "      <td>8 апреля 2013</td>\n",
       "      <td>Best</td>\n",
       "      <td>-</td>\n",
       "      <td>CARDINAL</td>\n",
       "      <td>nomn</td>\n",
       "      <td>sing</td>\n",
       "      <td>None</td>\n",
       "      <td>.</td>\n",
       "    </tr>\n",
       "    <tr>\n",
       "      <th>6324313</th>\n",
       "      <td>112</td>\n",
       "      <td>101</td>\n",
       "      <td>-</td>\n",
       "      <td>.</td>\n",
       "      <td>Mikel</td>\n",
       "      <td>CARDINAL</td>\n",
       "      <td>gent</td>\n",
       "      <td>none</td>\n",
       "      <td>сто двенадцати</td>\n",
       "      <td>ста двенадцати</td>\n",
       "    </tr>\n",
       "    <tr>\n",
       "      <th>2745465</th>\n",
       "      <td>-</td>\n",
       "      <td>,</td>\n",
       "      <td>по</td>\n",
       "      <td>прежнему</td>\n",
       "      <td>обсуждается</td>\n",
       "      <td>CARDINAL</td>\n",
       "      <td>nomn</td>\n",
       "      <td>sing</td>\n",
       "      <td>None</td>\n",
       "      <td>-</td>\n",
       "    </tr>\n",
       "    <tr>\n",
       "      <th>5457860</th>\n",
       "      <td>333</td>\n",
       "      <td>331</td>\n",
       "      <td>—</td>\n",
       "      <td>.</td>\n",
       "      <td>Зимин</td>\n",
       "      <td>CARDINAL</td>\n",
       "      <td>accs</td>\n",
       "      <td>sing</td>\n",
       "      <td>триста тридцать три</td>\n",
       "      <td>триста тридцать три</td>\n",
       "    </tr>\n",
       "    <tr>\n",
       "      <th>429987</th>\n",
       "      <td>-</td>\n",
       "      <td>в</td>\n",
       "      <td>Орехово</td>\n",
       "      <td>Зуевском</td>\n",
       "      <td>муниципальном</td>\n",
       "      <td>CARDINAL</td>\n",
       "      <td>nomn</td>\n",
       "      <td>sing</td>\n",
       "      <td>None</td>\n",
       "      <td>-</td>\n",
       "    </tr>\n",
       "    <tr>\n",
       "      <th>5434369</th>\n",
       "      <td>.</td>\n",
       "      <td>московской</td>\n",
       "      <td>теократии</td>\n",
       "      <td>Женевьева</td>\n",
       "      <td>Родис</td>\n",
       "      <td>CARDINAL</td>\n",
       "      <td>nomn</td>\n",
       "      <td>sing</td>\n",
       "      <td>None</td>\n",
       "      <td>.</td>\n",
       "    </tr>\n",
       "    <tr>\n",
       "      <th>2449632</th>\n",
       "      <td>.</td>\n",
       "      <td>-</td>\n",
       "      <td>2012</td>\n",
       "      <td>Ultratop</td>\n",
       "      <td>.</td>\n",
       "      <td>CARDINAL</td>\n",
       "      <td>nomn</td>\n",
       "      <td>sing</td>\n",
       "      <td>None</td>\n",
       "      <td>.</td>\n",
       "    </tr>\n",
       "    <tr>\n",
       "      <th>1837088</th>\n",
       "      <td>2006</td>\n",
       "      <td>рингу</td>\n",
       "      <td>(</td>\n",
       "      <td>)</td>\n",
       "      <td>.</td>\n",
       "      <td>CARDINAL</td>\n",
       "      <td>nomn</td>\n",
       "      <td>sing</td>\n",
       "      <td>две тысячи шесть</td>\n",
       "      <td>две тысячи шесть</td>\n",
       "    </tr>\n",
       "    <tr>\n",
       "      <th>6140572</th>\n",
       "      <td>.</td>\n",
       "      <td>5000</td>\n",
       "      <td>экз</td>\n",
       "      <td>Министерство</td>\n",
       "      <td>здравоохранения</td>\n",
       "      <td>CARDINAL</td>\n",
       "      <td>nomn</td>\n",
       "      <td>sing</td>\n",
       "      <td>None</td>\n",
       "      <td>.</td>\n",
       "    </tr>\n",
       "    <tr>\n",
       "      <th>330087</th>\n",
       "      <td>.</td>\n",
       "      <td>Jorge</td>\n",
       "      <td>Edwards</td>\n",
       "      <td>Основные</td>\n",
       "      <td>теоретики</td>\n",
       "      <td>CARDINAL</td>\n",
       "      <td>nomn</td>\n",
       "      <td>sing</td>\n",
       "      <td>None</td>\n",
       "      <td>.</td>\n",
       "    </tr>\n",
       "    <tr>\n",
       "      <th>5887363</th>\n",
       "      <td>/</td>\n",
       "      <td>(</td>\n",
       "      <td>2006</td>\n",
       "      <td>07</td>\n",
       "      <td>,</td>\n",
       "      <td>CARDINAL</td>\n",
       "      <td>nomn</td>\n",
       "      <td>sing</td>\n",
       "      <td>None</td>\n",
       "      <td>/</td>\n",
       "    </tr>\n",
       "    <tr>\n",
       "      <th>1842620</th>\n",
       "      <td>12</td>\n",
       "      <td>Царском</td>\n",
       "      <td>Селе</td>\n",
       "      <td>(</td>\n",
       "      <td>24</td>\n",
       "      <td>CARDINAL</td>\n",
       "      <td>nomn</td>\n",
       "      <td>none</td>\n",
       "      <td>двенадцать</td>\n",
       "      <td>двенадцать</td>\n",
       "    </tr>\n",
       "    <tr>\n",
       "      <th>9121114</th>\n",
       "      <td>20</td>\n",
       "      <td>большой</td>\n",
       "      <td>за</td>\n",
       "      <td>лет</td>\n",
       "      <td>.</td>\n",
       "      <td>CARDINAL</td>\n",
       "      <td>nomn</td>\n",
       "      <td>none</td>\n",
       "      <td>двадцать</td>\n",
       "      <td>двадцать</td>\n",
       "    </tr>\n",
       "    <tr>\n",
       "      <th>5942303</th>\n",
       "      <td>16</td>\n",
       "      <td>автором</td>\n",
       "      <td>в</td>\n",
       "      <td>лет</td>\n",
       "      <td>.</td>\n",
       "      <td>CARDINAL</td>\n",
       "      <td>nomn</td>\n",
       "      <td>none</td>\n",
       "      <td>шестнадцать</td>\n",
       "      <td>шестнадцать</td>\n",
       "    </tr>\n",
       "    <tr>\n",
       "      <th>4285396</th>\n",
       "      <td>.</td>\n",
       "      <td>И. И.</td>\n",
       "      <td>Соколов</td>\n",
       "      <td>Население</td>\n",
       "      <td>составляет</td>\n",
       "      <td>CARDINAL</td>\n",
       "      <td>nomn</td>\n",
       "      <td>sing</td>\n",
       "      <td>None</td>\n",
       "      <td>.</td>\n",
       "    </tr>\n",
       "    <tr>\n",
       "      <th>5657428</th>\n",
       "      <td>.</td>\n",
       "      <td>воду</td>\n",
       "      <td>16 мая 1818 года</td>\n",
       "      <td>Военные</td>\n",
       "      <td>кампании</td>\n",
       "      <td>CARDINAL</td>\n",
       "      <td>nomn</td>\n",
       "      <td>sing</td>\n",
       "      <td>None</td>\n",
       "      <td>.</td>\n",
       "    </tr>\n",
       "    <tr>\n",
       "      <th>3422143</th>\n",
       "      <td>.</td>\n",
       "      <td>Проверено</td>\n",
       "      <td>21 апреля 2015</td>\n",
       "      <td>Sudhish</td>\n",
       "      <td>Kamath</td>\n",
       "      <td>CARDINAL</td>\n",
       "      <td>nomn</td>\n",
       "      <td>sing</td>\n",
       "      <td>None</td>\n",
       "      <td>.</td>\n",
       "    </tr>\n",
       "    <tr>\n",
       "      <th>3990749</th>\n",
       "      <td>.</td>\n",
       "      <td>с</td>\n",
       "      <td>правдой</td>\n",
       "      <td>В</td>\n",
       "      <td>1955 году</td>\n",
       "      <td>CARDINAL</td>\n",
       "      <td>nomn</td>\n",
       "      <td>sing</td>\n",
       "      <td>None</td>\n",
       "      <td>.</td>\n",
       "    </tr>\n",
       "    <tr>\n",
       "      <th>...</th>\n",
       "      <td>...</td>\n",
       "      <td>...</td>\n",
       "      <td>...</td>\n",
       "      <td>...</td>\n",
       "      <td>...</td>\n",
       "      <td>...</td>\n",
       "      <td>...</td>\n",
       "      <td>...</td>\n",
       "      <td>...</td>\n",
       "      <td>...</td>\n",
       "    </tr>\n",
       "    <tr>\n",
       "      <th>10541187</th>\n",
       "      <td>.</td>\n",
       "      <td>историческое</td>\n",
       "      <td>значение</td>\n",
       "      <td>Автор</td>\n",
       "      <td>сценария</td>\n",
       "      <td>CARDINAL</td>\n",
       "      <td>nomn</td>\n",
       "      <td>sing</td>\n",
       "      <td>None</td>\n",
       "      <td>.</td>\n",
       "    </tr>\n",
       "    <tr>\n",
       "      <th>10527273</th>\n",
       "      <td>.</td>\n",
       "      <td>первоисточника</td>\n",
       "      <td>8 июля 2012</td>\n",
       "      <td>Gendron</td>\n",
       "      <td>,</td>\n",
       "      <td>CARDINAL</td>\n",
       "      <td>nomn</td>\n",
       "      <td>sing</td>\n",
       "      <td>None</td>\n",
       "      <td>.</td>\n",
       "    </tr>\n",
       "    <tr>\n",
       "      <th>7779410</th>\n",
       "      <td>.</td>\n",
       "      <td>первоисточника</td>\n",
       "      <td>18 августа 2012</td>\n",
       "      <td>Linkin</td>\n",
       "      <td>Park</td>\n",
       "      <td>CARDINAL</td>\n",
       "      <td>nomn</td>\n",
       "      <td>sing</td>\n",
       "      <td>None</td>\n",
       "      <td>.</td>\n",
       "    </tr>\n",
       "    <tr>\n",
       "      <th>2751668</th>\n",
       "      <td>.</td>\n",
       "      <td>особенно</td>\n",
       "      <td>женщин</td>\n",
       "      <td>Военная</td>\n",
       "      <td>кампания</td>\n",
       "      <td>CARDINAL</td>\n",
       "      <td>nomn</td>\n",
       "      <td>sing</td>\n",
       "      <td>None</td>\n",
       "      <td>.</td>\n",
       "    </tr>\n",
       "    <tr>\n",
       "      <th>2485600</th>\n",
       "      <td>XII</td>\n",
       "      <td>и</td>\n",
       "      <td>до</td>\n",
       "      <td>века</td>\n",
       "      <td>власть</td>\n",
       "      <td>CARDINAL</td>\n",
       "      <td>nomn</td>\n",
       "      <td>none</td>\n",
       "      <td>None</td>\n",
       "      <td>двенадцатого</td>\n",
       "    </tr>\n",
       "    <tr>\n",
       "      <th>8812525</th>\n",
       "      <td>20</td>\n",
       "      <td>(</td>\n",
       "      <td>до</td>\n",
       "      <td>)</td>\n",
       "      <td>VS</td>\n",
       "      <td>CARDINAL</td>\n",
       "      <td>nomn</td>\n",
       "      <td>none</td>\n",
       "      <td>двадцать</td>\n",
       "      <td>двадцати</td>\n",
       "    </tr>\n",
       "    <tr>\n",
       "      <th>5282690</th>\n",
       "      <td>.</td>\n",
       "      <td>:</td>\n",
       "      <td>ил</td>\n",
       "      <td>В. А.</td>\n",
       "      <td>Возчикова</td>\n",
       "      <td>CARDINAL</td>\n",
       "      <td>nomn</td>\n",
       "      <td>sing</td>\n",
       "      <td>None</td>\n",
       "      <td>.</td>\n",
       "    </tr>\n",
       "    <tr>\n",
       "      <th>2079557</th>\n",
       "      <td>.</td>\n",
       "      <td>доктора</td>\n",
       "      <td>техн</td>\n",
       "      <td>наук</td>\n",
       "      <td>.</td>\n",
       "      <td>CARDINAL</td>\n",
       "      <td>nomn</td>\n",
       "      <td>sing</td>\n",
       "      <td>None</td>\n",
       "      <td>.</td>\n",
       "    </tr>\n",
       "    <tr>\n",
       "      <th>7510534</th>\n",
       "      <td>482</td>\n",
       "      <td>Космос</td>\n",
       "      <td>-</td>\n",
       "      <td>—</td>\n",
       "      <td>автоматическая</td>\n",
       "      <td>CARDINAL</td>\n",
       "      <td>nomn</td>\n",
       "      <td>none</td>\n",
       "      <td>четыреста восемьдесят два</td>\n",
       "      <td>четыреста восемьдесят два</td>\n",
       "    </tr>\n",
       "    <tr>\n",
       "      <th>2480445</th>\n",
       "      <td>69</td>\n",
       "      <td>—</td>\n",
       "      <td>С.</td>\n",
       "      <td>.</td>\n",
       "      <td>London</td>\n",
       "      <td>CARDINAL</td>\n",
       "      <td>nomn</td>\n",
       "      <td>none</td>\n",
       "      <td>шестьдесят девять</td>\n",
       "      <td>шестьдесят девять</td>\n",
       "    </tr>\n",
       "    <tr>\n",
       "      <th>9311043</th>\n",
       "      <td>/</td>\n",
       "      <td>)</td>\n",
       "      <td>/</td>\n",
       "      <td>Крылья</td>\n",
       "      <td>Родины</td>\n",
       "      <td>CARDINAL</td>\n",
       "      <td>nomn</td>\n",
       "      <td>sing</td>\n",
       "      <td>None</td>\n",
       "      <td>/</td>\n",
       "    </tr>\n",
       "    <tr>\n",
       "      <th>8832656</th>\n",
       "      <td>9</td>\n",
       "      <td>территории</td>\n",
       "      <td>Украины</td>\n",
       "      <td>населенных</td>\n",
       "      <td>пунктов</td>\n",
       "      <td>CARDINAL</td>\n",
       "      <td>nomn</td>\n",
       "      <td>none</td>\n",
       "      <td>девять</td>\n",
       "      <td>девять</td>\n",
       "    </tr>\n",
       "    <tr>\n",
       "      <th>40194</th>\n",
       "      <td>1627</td>\n",
       "      <td>Дрезден</td>\n",
       "      <td>,</td>\n",
       "      <td>)</td>\n",
       "      <td>.</td>\n",
       "      <td>CARDINAL</td>\n",
       "      <td>nomn</td>\n",
       "      <td>sing</td>\n",
       "      <td>одна тысяча шестьсот двадцать семь</td>\n",
       "      <td>тысяча шестьсот двадцать семь</td>\n",
       "    </tr>\n",
       "    <tr>\n",
       "      <th>4910763</th>\n",
       "      <td>-</td>\n",
       "      <td>БОЙ</td>\n",
       "      <td>КЛИЧКО</td>\n",
       "      <td>ПОВЕТКИН</td>\n",
       "      <td>НАЗВАН</td>\n",
       "      <td>CARDINAL</td>\n",
       "      <td>nomn</td>\n",
       "      <td>sing</td>\n",
       "      <td>None</td>\n",
       "      <td>-</td>\n",
       "    </tr>\n",
       "    <tr>\n",
       "      <th>6213164</th>\n",
       "      <td>1127</td>\n",
       "      <td>(</td>\n",
       "      <td>с</td>\n",
       "      <td>)</td>\n",
       "      <td>.</td>\n",
       "      <td>CARDINAL</td>\n",
       "      <td>nomn</td>\n",
       "      <td>sing</td>\n",
       "      <td>одна тысяча сто двадцать семь</td>\n",
       "      <td>тысяча сто двадцать семь</td>\n",
       "    </tr>\n",
       "    <tr>\n",
       "      <th>695002</th>\n",
       "      <td>.</td>\n",
       "      <td>,</td>\n",
       "      <td>vol</td>\n",
       "      <td>Ричард</td>\n",
       "      <td>проверяет</td>\n",
       "      <td>CARDINAL</td>\n",
       "      <td>nomn</td>\n",
       "      <td>sing</td>\n",
       "      <td>None</td>\n",
       "      <td>.</td>\n",
       "    </tr>\n",
       "    <tr>\n",
       "      <th>855302</th>\n",
       "      <td>13 842</td>\n",
       "      <td>2000 года</td>\n",
       "      <td>составляет</td>\n",
       "      <td>чел</td>\n",
       "      <td>.</td>\n",
       "      <td>CARDINAL</td>\n",
       "      <td>nomn</td>\n",
       "      <td>plur</td>\n",
       "      <td>None</td>\n",
       "      <td>тринадцать тысяч восемьсот сорок два</td>\n",
       "    </tr>\n",
       "    <tr>\n",
       "      <th>2465111</th>\n",
       "      <td>.</td>\n",
       "      <td>с</td>\n",
       "      <td>вооружения</td>\n",
       "      <td>Облечихино</td>\n",
       "      <td>—</td>\n",
       "      <td>CARDINAL</td>\n",
       "      <td>nomn</td>\n",
       "      <td>sing</td>\n",
       "      <td>None</td>\n",
       "      <td>.</td>\n",
       "    </tr>\n",
       "    <tr>\n",
       "      <th>9463288</th>\n",
       "      <td>1700</td>\n",
       "      <td>1699</td>\n",
       "      <td>—</td>\n",
       "      <td>по</td>\n",
       "      <td>1899</td>\n",
       "      <td>CARDINAL</td>\n",
       "      <td>nomn</td>\n",
       "      <td>sing</td>\n",
       "      <td>одна тысяча семьсот</td>\n",
       "      <td>тысяча семьсот</td>\n",
       "    </tr>\n",
       "    <tr>\n",
       "      <th>5130151</th>\n",
       "      <td>-</td>\n",
       "      <td>государственный</td>\n",
       "      <td>архитектурно</td>\n",
       "      <td>строительный</td>\n",
       "      <td>институт</td>\n",
       "      <td>CARDINAL</td>\n",
       "      <td>nomn</td>\n",
       "      <td>sing</td>\n",
       "      <td>None</td>\n",
       "      <td>-</td>\n",
       "    </tr>\n",
       "    <tr>\n",
       "      <th>9980371</th>\n",
       "      <td>15</td>\n",
       "      <td>7:15</td>\n",
       "      <td>,</td>\n",
       "      <td>:</td>\n",
       "      <td>9</td>\n",
       "      <td>CARDINAL</td>\n",
       "      <td>nomn</td>\n",
       "      <td>none</td>\n",
       "      <td>пятнадцать</td>\n",
       "      <td>пятнадцать</td>\n",
       "    </tr>\n",
       "    <tr>\n",
       "      <th>6955867</th>\n",
       "      <td>.</td>\n",
       "      <td>.</td>\n",
       "      <td>f</td>\n",
       "      <td>belorussicus</td>\n",
       "      <td>Kurl</td>\n",
       "      <td>CARDINAL</td>\n",
       "      <td>nomn</td>\n",
       "      <td>sing</td>\n",
       "      <td>None</td>\n",
       "      <td>.</td>\n",
       "    </tr>\n",
       "    <tr>\n",
       "      <th>5530344</th>\n",
       "      <td>651</td>\n",
       "      <td>p</td>\n",
       "      <td>.</td>\n",
       "      <td>.</td>\n",
       "      <td>Till</td>\n",
       "      <td>CARDINAL</td>\n",
       "      <td>nomn</td>\n",
       "      <td>sing</td>\n",
       "      <td>шестьсот пятьдесят один</td>\n",
       "      <td>шестьсот пятьдесят один</td>\n",
       "    </tr>\n",
       "    <tr>\n",
       "      <th>8965855</th>\n",
       "      <td>1942</td>\n",
       "      <td>животноводства</td>\n",
       "      <td>(</td>\n",
       "      <td>—</td>\n",
       "      <td>1955</td>\n",
       "      <td>CARDINAL</td>\n",
       "      <td>nomn</td>\n",
       "      <td>sing</td>\n",
       "      <td>одна тысяча девятьсот сорок два</td>\n",
       "      <td>тысяча девятьсот сорок два</td>\n",
       "    </tr>\n",
       "    <tr>\n",
       "      <th>1882260</th>\n",
       "      <td>19</td>\n",
       "      <td>на</td>\n",
       "      <td>основании</td>\n",
       "      <td>рецензий</td>\n",
       "      <td>.</td>\n",
       "      <td>CARDINAL</td>\n",
       "      <td>nomn</td>\n",
       "      <td>none</td>\n",
       "      <td>девятнадцать</td>\n",
       "      <td>девятнадцати</td>\n",
       "    </tr>\n",
       "    <tr>\n",
       "      <th>8536813</th>\n",
       "      <td>0</td>\n",
       "      <td>3</td>\n",
       "      <td>:</td>\n",
       "      <td>(</td>\n",
       "      <td>15</td>\n",
       "      <td>CARDINAL</td>\n",
       "      <td>nomn</td>\n",
       "      <td>sing</td>\n",
       "      <td>ноль</td>\n",
       "      <td>ноль</td>\n",
       "    </tr>\n",
       "    <tr>\n",
       "      <th>5853661</th>\n",
       "      <td>.</td>\n",
       "      <td>в</td>\n",
       "      <td>село</td>\n",
       "      <td>Усики</td>\n",
       "      <td>самок</td>\n",
       "      <td>CARDINAL</td>\n",
       "      <td>nomn</td>\n",
       "      <td>sing</td>\n",
       "      <td>None</td>\n",
       "      <td>.</td>\n",
       "    </tr>\n",
       "    <tr>\n",
       "      <th>9375998</th>\n",
       "      <td>249</td>\n",
       "      <td>Карта</td>\n",
       "      <td>С.</td>\n",
       "      <td>.</td>\n",
       "      <td>Якутская</td>\n",
       "      <td>CARDINAL</td>\n",
       "      <td>nomn</td>\n",
       "      <td>plur</td>\n",
       "      <td>двести сорок девять</td>\n",
       "      <td>двести сорок девять</td>\n",
       "    </tr>\n",
       "    <tr>\n",
       "      <th>6697132</th>\n",
       "      <td>-</td>\n",
       "      <td>Монтрейском</td>\n",
       "      <td>поп</td>\n",
       "      <td>фестивале</td>\n",
       "      <td>в</td>\n",
       "      <td>CARDINAL</td>\n",
       "      <td>nomn</td>\n",
       "      <td>sing</td>\n",
       "      <td>None</td>\n",
       "      <td>-</td>\n",
       "    </tr>\n",
       "    <tr>\n",
       "      <th>4371987</th>\n",
       "      <td>-</td>\n",
       "      <td>,</td>\n",
       "      <td>бога</td>\n",
       "      <td>покровителя</td>\n",
       "      <td>города</td>\n",
       "      <td>CARDINAL</td>\n",
       "      <td>nomn</td>\n",
       "      <td>sing</td>\n",
       "      <td>None</td>\n",
       "      <td>-</td>\n",
       "    </tr>\n",
       "  </tbody>\n",
       "</table>\n",
       "<p>100 rows × 10 columns</p>\n",
       "</div>"
      ]
     },
     "execution_count": 15,
     "metadata": {},
     "output_type": "execute_result"
    }
   ],
   "source": [
    "predicted[(predicted['class']=='CARDINAL') & (predicted['before'] != predicted['after'])].sample(100)"
   ]
  },
  {
   "cell_type": "code",
   "execution_count": 103,
   "metadata": {
    "collapsed": true
   },
   "outputs": [
    {
     "data": {
      "text/html": [
       "<div>\n",
       "<style scoped>\n",
       "    .dataframe tbody tr th:only-of-type {\n",
       "        vertical-align: middle;\n",
       "    }\n",
       "\n",
       "    .dataframe tbody tr th {\n",
       "        vertical-align: top;\n",
       "    }\n",
       "\n",
       "    .dataframe thead th {\n",
       "        text-align: right;\n",
       "    }\n",
       "</style>\n",
       "<table border=\"1\" class=\"dataframe\">\n",
       "  <thead>\n",
       "    <tr style=\"text-align: right;\">\n",
       "      <th></th>\n",
       "      <th>class</th>\n",
       "      <th>before</th>\n",
       "      <th>after</th>\n",
       "      <th>prev</th>\n",
       "      <th>next</th>\n",
       "    </tr>\n",
       "  </thead>\n",
       "  <tbody>\n",
       "    <tr>\n",
       "      <th>40420</th>\n",
       "      <td>FRACTION</td>\n",
       "      <td>7½</td>\n",
       "      <td>семи целых и одной второй</td>\n",
       "      <td>около</td>\n",
       "      <td>фунтов</td>\n",
       "    </tr>\n",
       "    <tr>\n",
       "      <th>157446</th>\n",
       "      <td>FRACTION</td>\n",
       "      <td>3½</td>\n",
       "      <td>три целых и одну вторую</td>\n",
       "      <td>на</td>\n",
       "      <td>очка</td>\n",
       "    </tr>\n",
       "    <tr>\n",
       "      <th>445580</th>\n",
       "      <td>FRACTION</td>\n",
       "      <td>59½</td>\n",
       "      <td>пятидесяти девяти целых и одной второй</td>\n",
       "      <td>139 976 рублей</td>\n",
       "      <td>копейки</td>\n",
       "    </tr>\n",
       "    <tr>\n",
       "      <th>765884</th>\n",
       "      <td>FRACTION</td>\n",
       "      <td>¼</td>\n",
       "      <td>одна четвертая</td>\n",
       "      <td>Второй</td>\n",
       "      <td>финалДата</td>\n",
       "    </tr>\n",
       "    <tr>\n",
       "      <th>803808</th>\n",
       "      <td>FRACTION</td>\n",
       "      <td>½</td>\n",
       "      <td>одна вторая</td>\n",
       "      <td>номиналом</td>\n",
       "      <td>шиллинга</td>\n",
       "    </tr>\n",
       "    <tr>\n",
       "      <th>999135</th>\n",
       "      <td>FRACTION</td>\n",
       "      <td>⅔</td>\n",
       "      <td>две третьих</td>\n",
       "      <td>на</td>\n",
       "      <td>территории</td>\n",
       "    </tr>\n",
       "    <tr>\n",
       "      <th>1253476</th>\n",
       "      <td>FRACTION</td>\n",
       "      <td>½</td>\n",
       "      <td>одна вторая</td>\n",
       "      <td>CrA</td>\n",
       "      <td>gut</td>\n",
       "    </tr>\n",
       "    <tr>\n",
       "      <th>1584453</th>\n",
       "      <td>FRACTION</td>\n",
       "      <td>8½</td>\n",
       "      <td>восемь целых и одна вторая</td>\n",
       "      <td>«</td>\n",
       "      <td>женщин</td>\n",
       "    </tr>\n",
       "    <tr>\n",
       "      <th>1584466</th>\n",
       "      <td>FRACTION</td>\n",
       "      <td>8½</td>\n",
       "      <td>восемь целых и одна вторая</td>\n",
       "      <td>.</td>\n",
       "      <td>Women</td>\n",
       "    </tr>\n",
       "    <tr>\n",
       "      <th>1876892</th>\n",
       "      <td>FRACTION</td>\n",
       "      <td>½</td>\n",
       "      <td>одна вторая</td>\n",
       "      <td>в</td>\n",
       "      <td>,</td>\n",
       "    </tr>\n",
       "    <tr>\n",
       "      <th>1876899</th>\n",
       "      <td>FRACTION</td>\n",
       "      <td>¼</td>\n",
       "      <td>одна четвертая</td>\n",
       "      <td>и</td>\n",
       "      <td>и</td>\n",
       "    </tr>\n",
       "    <tr>\n",
       "      <th>1876901</th>\n",
       "      <td>FRACTION</td>\n",
       "      <td>½</td>\n",
       "      <td>одна вторая</td>\n",
       "      <td>и</td>\n",
       "      <td>рупий</td>\n",
       "    </tr>\n",
       "    <tr>\n",
       "      <th>1921150</th>\n",
       "      <td>FRACTION</td>\n",
       "      <td>5 ½</td>\n",
       "      <td>пять целых и одна вторая</td>\n",
       "      <td>—</td>\n",
       "      <td>обеж</td>\n",
       "    </tr>\n",
       "    <tr>\n",
       "      <th>1949935</th>\n",
       "      <td>FRACTION</td>\n",
       "      <td>½</td>\n",
       "      <td>одна вторая</td>\n",
       "      <td>ничью</td>\n",
       "      <td>очка</td>\n",
       "    </tr>\n",
       "    <tr>\n",
       "      <th>2023480</th>\n",
       "      <td>FRACTION</td>\n",
       "      <td>½</td>\n",
       "      <td>одна вторая</td>\n",
       "      <td>состояло</td>\n",
       "      <td>дес</td>\n",
       "    </tr>\n",
       "    <tr>\n",
       "      <th>2023485</th>\n",
       "      <td>FRACTION</td>\n",
       "      <td>2 ¾</td>\n",
       "      <td>две целых и три четвертых</td>\n",
       "      <td>усадебной</td>\n",
       "      <td>дес</td>\n",
       "    </tr>\n",
       "    <tr>\n",
       "      <th>2271189</th>\n",
       "      <td>FRACTION</td>\n",
       "      <td>282½</td>\n",
       "      <td>двумястами восьмьюдесятью двумя целыми и одной...</td>\n",
       "      <td>выпущено</td>\n",
       "      <td>тысяч</td>\n",
       "    </tr>\n",
       "    <tr>\n",
       "      <th>2315287</th>\n",
       "      <td>FRACTION</td>\n",
       "      <td>6½</td>\n",
       "      <td>шесть целых и одну вторую</td>\n",
       "      <td>набрав</td>\n",
       "      <td>очков</td>\n",
       "    </tr>\n",
       "    <tr>\n",
       "      <th>2496593</th>\n",
       "      <td>FRACTION</td>\n",
       "      <td>8½</td>\n",
       "      <td>восемь целых и одна вторая</td>\n",
       "      <td>матча</td>\n",
       "      <td>:</td>\n",
       "    </tr>\n",
       "    <tr>\n",
       "      <th>2496595</th>\n",
       "      <td>FRACTION</td>\n",
       "      <td>3½</td>\n",
       "      <td>три целых и одна вторая</td>\n",
       "      <td>:</td>\n",
       "      <td>в</td>\n",
       "    </tr>\n",
       "    <tr>\n",
       "      <th>2812456</th>\n",
       "      <td>FRACTION</td>\n",
       "      <td>2½</td>\n",
       "      <td>две целых и одну вторую</td>\n",
       "      <td>на</td>\n",
       "      <td>тысячи</td>\n",
       "    </tr>\n",
       "    <tr>\n",
       "      <th>3172820</th>\n",
       "      <td>FRACTION</td>\n",
       "      <td>¾</td>\n",
       "      <td>три четвертых</td>\n",
       "      <td>в</td>\n",
       "      <td>от</td>\n",
       "    </tr>\n",
       "    <tr>\n",
       "      <th>3220263</th>\n",
       "      <td>FRACTION</td>\n",
       "      <td>2½</td>\n",
       "      <td>две целых и одна вторая</td>\n",
       "      <td>—</td>\n",
       "      <td>:</td>\n",
       "    </tr>\n",
       "    <tr>\n",
       "      <th>3220265</th>\n",
       "      <td>FRACTION</td>\n",
       "      <td>1½</td>\n",
       "      <td>одна целая и одна вторая</td>\n",
       "      <td>:</td>\n",
       "      <td>.</td>\n",
       "    </tr>\n",
       "    <tr>\n",
       "      <th>3250501</th>\n",
       "      <td>FRACTION</td>\n",
       "      <td>1 ½</td>\n",
       "      <td>одна целая и одна вторая</td>\n",
       "      <td>.</td>\n",
       "      <td>роты</td>\n",
       "    </tr>\n",
       "    <tr>\n",
       "      <th>3395752</th>\n",
       "      <td>FRACTION</td>\n",
       "      <td>½</td>\n",
       "      <td>одна вторая</td>\n",
       "      <td>Более</td>\n",
       "      <td>валовой</td>\n",
       "    </tr>\n",
       "    <tr>\n",
       "      <th>3417776</th>\n",
       "      <td>FRACTION</td>\n",
       "      <td>3½</td>\n",
       "      <td>три целых и одна вторая</td>\n",
       "      <td>счетом</td>\n",
       "      <td>:</td>\n",
       "    </tr>\n",
       "    <tr>\n",
       "      <th>3417778</th>\n",
       "      <td>FRACTION</td>\n",
       "      <td>2½</td>\n",
       "      <td>две целых и одна вторая</td>\n",
       "      <td>:</td>\n",
       "      <td>и</td>\n",
       "    </tr>\n",
       "    <tr>\n",
       "      <th>3478079</th>\n",
       "      <td>FRACTION</td>\n",
       "      <td>¼</td>\n",
       "      <td>одна четвертая</td>\n",
       "      <td>в</td>\n",
       "      <td>финала</td>\n",
       "    </tr>\n",
       "    <tr>\n",
       "      <th>3488898</th>\n",
       "      <td>FRACTION</td>\n",
       "      <td>¾</td>\n",
       "      <td>три четвертых</td>\n",
       "      <td>~</td>\n",
       "      <td>)</td>\n",
       "    </tr>\n",
       "    <tr>\n",
       "      <th>...</th>\n",
       "      <td>...</td>\n",
       "      <td>...</td>\n",
       "      <td>...</td>\n",
       "      <td>...</td>\n",
       "      <td>...</td>\n",
       "    </tr>\n",
       "    <tr>\n",
       "      <th>5646924</th>\n",
       "      <td>FRACTION</td>\n",
       "      <td>10½</td>\n",
       "      <td>десяти целых и одной второй</td>\n",
       "      <td>в</td>\n",
       "      <td>главах</td>\n",
       "    </tr>\n",
       "    <tr>\n",
       "      <th>5710816</th>\n",
       "      <td>FRACTION</td>\n",
       "      <td>6½</td>\n",
       "      <td>шесть целых и одна вторая</td>\n",
       "      <td>(</td>\n",
       "      <td>:</td>\n",
       "    </tr>\n",
       "    <tr>\n",
       "      <th>5710818</th>\n",
       "      <td>FRACTION</td>\n",
       "      <td>4½</td>\n",
       "      <td>четыре целых и одна вторая</td>\n",
       "      <td>:</td>\n",
       "      <td>)</td>\n",
       "    </tr>\n",
       "    <tr>\n",
       "      <th>5743241</th>\n",
       "      <td>FRACTION</td>\n",
       "      <td>2½</td>\n",
       "      <td>двух целых и одной второй</td>\n",
       "      <td>и</td>\n",
       "      <td>года</td>\n",
       "    </tr>\n",
       "    <tr>\n",
       "      <th>6011771</th>\n",
       "      <td>FRACTION</td>\n",
       "      <td>4 ½</td>\n",
       "      <td>четыре целых и одну вторую</td>\n",
       "      <td>Invicta</td>\n",
       "      <td>litre</td>\n",
       "    </tr>\n",
       "    <tr>\n",
       "      <th>6260409</th>\n",
       "      <td>FRACTION</td>\n",
       "      <td>1¼</td>\n",
       "      <td>одной целой и одной четвертой</td>\n",
       "      <td>до</td>\n",
       "      <td>аршина</td>\n",
       "    </tr>\n",
       "    <tr>\n",
       "      <th>6452616</th>\n",
       "      <td>FRACTION</td>\n",
       "      <td>9½</td>\n",
       "      <td>девять целых и одна вторая</td>\n",
       "      <td>по</td>\n",
       "      <td>.</td>\n",
       "    </tr>\n",
       "    <tr>\n",
       "      <th>6800651</th>\n",
       "      <td>FRACTION</td>\n",
       "      <td>½</td>\n",
       "      <td>одна вторая</td>\n",
       "      <td>Ранма</td>\n",
       "      <td>»</td>\n",
       "    </tr>\n",
       "    <tr>\n",
       "      <th>7253139</th>\n",
       "      <td>FRACTION</td>\n",
       "      <td>10½</td>\n",
       "      <td>десять целых и одну вторую</td>\n",
       "      <td>по</td>\n",
       "      <td>очков</td>\n",
       "    </tr>\n",
       "    <tr>\n",
       "      <th>7612900</th>\n",
       "      <td>FRACTION</td>\n",
       "      <td>⅔</td>\n",
       "      <td>две третьих</td>\n",
       "      <td>ленивца</td>\n",
       "      <td>веса</td>\n",
       "    </tr>\n",
       "    <tr>\n",
       "      <th>8033344</th>\n",
       "      <td>FRACTION</td>\n",
       "      <td>5¼</td>\n",
       "      <td>пятью целыми и одной четвертой</td>\n",
       "      <td>двусторонними</td>\n",
       "      <td>дюймовыми</td>\n",
       "    </tr>\n",
       "    <tr>\n",
       "      <th>8259581</th>\n",
       "      <td>FRACTION</td>\n",
       "      <td>8½</td>\n",
       "      <td>восьми целым и одной второй</td>\n",
       "      <td>по</td>\n",
       "      <td>очков</td>\n",
       "    </tr>\n",
       "    <tr>\n",
       "      <th>8283325</th>\n",
       "      <td>FRACTION</td>\n",
       "      <td>2½</td>\n",
       "      <td>две целых и одна вторая</td>\n",
       "      <td>—</td>\n",
       "      <td>:</td>\n",
       "    </tr>\n",
       "    <tr>\n",
       "      <th>8283327</th>\n",
       "      <td>FRACTION</td>\n",
       "      <td>1½</td>\n",
       "      <td>одна целая и одна вторая</td>\n",
       "      <td>:</td>\n",
       "      <td>.</td>\n",
       "    </tr>\n",
       "    <tr>\n",
       "      <th>8317226</th>\n",
       "      <td>FRACTION</td>\n",
       "      <td>¼</td>\n",
       "      <td>одна четвертая</td>\n",
       "      <td>занимавшая</td>\n",
       "      <td>часть</td>\n",
       "    </tr>\n",
       "    <tr>\n",
       "      <th>8355301</th>\n",
       "      <td>FRACTION</td>\n",
       "      <td>6½</td>\n",
       "      <td>шесть целых и одну вторую</td>\n",
       "      <td>набрал</td>\n",
       "      <td>очков</td>\n",
       "    </tr>\n",
       "    <tr>\n",
       "      <th>8457757</th>\n",
       "      <td>FRACTION</td>\n",
       "      <td>½</td>\n",
       "      <td>одна вторая</td>\n",
       "      <td>находилась</td>\n",
       "      <td>германской</td>\n",
       "    </tr>\n",
       "    <tr>\n",
       "      <th>8627416</th>\n",
       "      <td>FRACTION</td>\n",
       "      <td>⅔</td>\n",
       "      <td>двух третьих</td>\n",
       "      <td>более</td>\n",
       "      <td>)</td>\n",
       "    </tr>\n",
       "    <tr>\n",
       "      <th>8717346</th>\n",
       "      <td>FRACTION</td>\n",
       "      <td>¼</td>\n",
       "      <td>одна четвертая</td>\n",
       "      <td>составлял</td>\n",
       "      <td>рупии</td>\n",
       "    </tr>\n",
       "    <tr>\n",
       "      <th>8737281</th>\n",
       "      <td>FRACTION</td>\n",
       "      <td>3 ½</td>\n",
       "      <td>три целых и одна вторая</td>\n",
       "      <td>—</td>\n",
       "      <td>октавы</td>\n",
       "    </tr>\n",
       "    <tr>\n",
       "      <th>8984892</th>\n",
       "      <td>FRACTION</td>\n",
       "      <td>½</td>\n",
       "      <td>одной второй</td>\n",
       "      <td>от</td>\n",
       "      <td>-</td>\n",
       "    </tr>\n",
       "    <tr>\n",
       "      <th>8984894</th>\n",
       "      <td>FRACTION</td>\n",
       "      <td>¾</td>\n",
       "      <td>трех четвертых</td>\n",
       "      <td>-</td>\n",
       "      <td>мм</td>\n",
       "    </tr>\n",
       "    <tr>\n",
       "      <th>9080276</th>\n",
       "      <td>FRACTION</td>\n",
       "      <td>9½</td>\n",
       "      <td>девять целых и одна вторая</td>\n",
       "      <td>по</td>\n",
       "      <td>.</td>\n",
       "    </tr>\n",
       "    <tr>\n",
       "      <th>9080375</th>\n",
       "      <td>FRACTION</td>\n",
       "      <td>10½</td>\n",
       "      <td>десять целых и одна вторая</td>\n",
       "      <td>—</td>\n",
       "      <td>.</td>\n",
       "    </tr>\n",
       "    <tr>\n",
       "      <th>9083227</th>\n",
       "      <td>FRACTION</td>\n",
       "      <td>3½</td>\n",
       "      <td>три целых и одна вторая</td>\n",
       "      <td>—</td>\n",
       "      <td>;</td>\n",
       "    </tr>\n",
       "    <tr>\n",
       "      <th>9768976</th>\n",
       "      <td>FRACTION</td>\n",
       "      <td>2½</td>\n",
       "      <td>две целых и одна вторая</td>\n",
       "      <td>«</td>\n",
       "      <td>часа</td>\n",
       "    </tr>\n",
       "    <tr>\n",
       "      <th>9918776</th>\n",
       "      <td>FRACTION</td>\n",
       "      <td>9 ¾</td>\n",
       "      <td>девять целых и три четвертых</td>\n",
       "      <td>платформы</td>\n",
       "      <td>.</td>\n",
       "    </tr>\n",
       "    <tr>\n",
       "      <th>9921668</th>\n",
       "      <td>FRACTION</td>\n",
       "      <td>¾</td>\n",
       "      <td>три четвертых</td>\n",
       "      <td>занимали</td>\n",
       "      <td>длины</td>\n",
       "    </tr>\n",
       "    <tr>\n",
       "      <th>10013235</th>\n",
       "      <td>FRACTION</td>\n",
       "      <td>½</td>\n",
       "      <td>одна вторая</td>\n",
       "      <td>равная</td>\n",
       "      <td>асса</td>\n",
       "    </tr>\n",
       "    <tr>\n",
       "      <th>10277345</th>\n",
       "      <td>FRACTION</td>\n",
       "      <td>6¾</td>\n",
       "      <td>шесть целых и три четвертых</td>\n",
       "      <td>диска</td>\n",
       "      <td>'</td>\n",
       "    </tr>\n",
       "  </tbody>\n",
       "</table>\n",
       "<p>75 rows × 5 columns</p>\n",
       "</div>"
      ],
      "text/plain": [
       "<div>\n",
       "<style scoped>\n",
       "    .dataframe tbody tr th:only-of-type {\n",
       "        vertical-align: middle;\n",
       "    }\n",
       "\n",
       "    .dataframe tbody tr th {\n",
       "        vertical-align: top;\n",
       "    }\n",
       "\n",
       "    .dataframe thead th {\n",
       "        text-align: right;\n",
       "    }\n",
       "</style>\n",
       "<table border=\"1\" class=\"dataframe\">\n",
       "  <thead>\n",
       "    <tr style=\"text-align: right;\">\n",
       "      <th></th>\n",
       "      <th>class</th>\n",
       "      <th>before</th>\n",
       "      <th>after</th>\n",
       "      <th>prev</th>\n",
       "      <th>next</th>\n",
       "    </tr>\n",
       "  </thead>\n",
       "  <tbody>\n",
       "    <tr>\n",
       "      <th>40420</th>\n",
       "      <td>FRACTION</td>\n",
       "      <td>7½</td>\n",
       "      <td>семи целых и одной второй</td>\n",
       "      <td>около</td>\n",
       "      <td>фунтов</td>\n",
       "    </tr>\n",
       "    <tr>\n",
       "      <th>157446</th>\n",
       "      <td>FRACTION</td>\n",
       "      <td>3½</td>\n",
       "      <td>три целых и одну вторую</td>\n",
       "      <td>на</td>\n",
       "      <td>очка</td>\n",
       "    </tr>\n",
       "    <tr>\n",
       "      <th>445580</th>\n",
       "      <td>FRACTION</td>\n",
       "      <td>59½</td>\n",
       "      <td>пятидесяти девяти целых и одной второй</td>\n",
       "      <td>139 976 рублей</td>\n",
       "      <td>копейки</td>\n",
       "    </tr>\n",
       "    <tr>\n",
       "      <th>765884</th>\n",
       "      <td>FRACTION</td>\n",
       "      <td>¼</td>\n",
       "      <td>одна четвертая</td>\n",
       "      <td>Второй</td>\n",
       "      <td>финалДата</td>\n",
       "    </tr>\n",
       "    <tr>\n",
       "      <th>803808</th>\n",
       "      <td>FRACTION</td>\n",
       "      <td>½</td>\n",
       "      <td>одна вторая</td>\n",
       "      <td>номиналом</td>\n",
       "      <td>шиллинга</td>\n",
       "    </tr>\n",
       "    <tr>\n",
       "      <th>999135</th>\n",
       "      <td>FRACTION</td>\n",
       "      <td>⅔</td>\n",
       "      <td>две третьих</td>\n",
       "      <td>на</td>\n",
       "      <td>территории</td>\n",
       "    </tr>\n",
       "    <tr>\n",
       "      <th>1253476</th>\n",
       "      <td>FRACTION</td>\n",
       "      <td>½</td>\n",
       "      <td>одна вторая</td>\n",
       "      <td>CrA</td>\n",
       "      <td>gut</td>\n",
       "    </tr>\n",
       "    <tr>\n",
       "      <th>1584453</th>\n",
       "      <td>FRACTION</td>\n",
       "      <td>8½</td>\n",
       "      <td>восемь целых и одна вторая</td>\n",
       "      <td>«</td>\n",
       "      <td>женщин</td>\n",
       "    </tr>\n",
       "    <tr>\n",
       "      <th>1584466</th>\n",
       "      <td>FRACTION</td>\n",
       "      <td>8½</td>\n",
       "      <td>восемь целых и одна вторая</td>\n",
       "      <td>.</td>\n",
       "      <td>Women</td>\n",
       "    </tr>\n",
       "    <tr>\n",
       "      <th>1876892</th>\n",
       "      <td>FRACTION</td>\n",
       "      <td>½</td>\n",
       "      <td>одна вторая</td>\n",
       "      <td>в</td>\n",
       "      <td>,</td>\n",
       "    </tr>\n",
       "    <tr>\n",
       "      <th>1876899</th>\n",
       "      <td>FRACTION</td>\n",
       "      <td>¼</td>\n",
       "      <td>одна четвертая</td>\n",
       "      <td>и</td>\n",
       "      <td>и</td>\n",
       "    </tr>\n",
       "    <tr>\n",
       "      <th>1876901</th>\n",
       "      <td>FRACTION</td>\n",
       "      <td>½</td>\n",
       "      <td>одна вторая</td>\n",
       "      <td>и</td>\n",
       "      <td>рупий</td>\n",
       "    </tr>\n",
       "    <tr>\n",
       "      <th>1921150</th>\n",
       "      <td>FRACTION</td>\n",
       "      <td>5 ½</td>\n",
       "      <td>пять целых и одна вторая</td>\n",
       "      <td>—</td>\n",
       "      <td>обеж</td>\n",
       "    </tr>\n",
       "    <tr>\n",
       "      <th>1949935</th>\n",
       "      <td>FRACTION</td>\n",
       "      <td>½</td>\n",
       "      <td>одна вторая</td>\n",
       "      <td>ничью</td>\n",
       "      <td>очка</td>\n",
       "    </tr>\n",
       "    <tr>\n",
       "      <th>2023480</th>\n",
       "      <td>FRACTION</td>\n",
       "      <td>½</td>\n",
       "      <td>одна вторая</td>\n",
       "      <td>состояло</td>\n",
       "      <td>дес</td>\n",
       "    </tr>\n",
       "    <tr>\n",
       "      <th>2023485</th>\n",
       "      <td>FRACTION</td>\n",
       "      <td>2 ¾</td>\n",
       "      <td>две целых и три четвертых</td>\n",
       "      <td>усадебной</td>\n",
       "      <td>дес</td>\n",
       "    </tr>\n",
       "    <tr>\n",
       "      <th>2271189</th>\n",
       "      <td>FRACTION</td>\n",
       "      <td>282½</td>\n",
       "      <td>двумястами восьмьюдесятью двумя целыми и одной...</td>\n",
       "      <td>выпущено</td>\n",
       "      <td>тысяч</td>\n",
       "    </tr>\n",
       "    <tr>\n",
       "      <th>2315287</th>\n",
       "      <td>FRACTION</td>\n",
       "      <td>6½</td>\n",
       "      <td>шесть целых и одну вторую</td>\n",
       "      <td>набрав</td>\n",
       "      <td>очков</td>\n",
       "    </tr>\n",
       "    <tr>\n",
       "      <th>2496593</th>\n",
       "      <td>FRACTION</td>\n",
       "      <td>8½</td>\n",
       "      <td>восемь целых и одна вторая</td>\n",
       "      <td>матча</td>\n",
       "      <td>:</td>\n",
       "    </tr>\n",
       "    <tr>\n",
       "      <th>2496595</th>\n",
       "      <td>FRACTION</td>\n",
       "      <td>3½</td>\n",
       "      <td>три целых и одна вторая</td>\n",
       "      <td>:</td>\n",
       "      <td>в</td>\n",
       "    </tr>\n",
       "    <tr>\n",
       "      <th>2812456</th>\n",
       "      <td>FRACTION</td>\n",
       "      <td>2½</td>\n",
       "      <td>две целых и одну вторую</td>\n",
       "      <td>на</td>\n",
       "      <td>тысячи</td>\n",
       "    </tr>\n",
       "    <tr>\n",
       "      <th>3172820</th>\n",
       "      <td>FRACTION</td>\n",
       "      <td>¾</td>\n",
       "      <td>три четвертых</td>\n",
       "      <td>в</td>\n",
       "      <td>от</td>\n",
       "    </tr>\n",
       "    <tr>\n",
       "      <th>3220263</th>\n",
       "      <td>FRACTION</td>\n",
       "      <td>2½</td>\n",
       "      <td>две целых и одна вторая</td>\n",
       "      <td>—</td>\n",
       "      <td>:</td>\n",
       "    </tr>\n",
       "    <tr>\n",
       "      <th>3220265</th>\n",
       "      <td>FRACTION</td>\n",
       "      <td>1½</td>\n",
       "      <td>одна целая и одна вторая</td>\n",
       "      <td>:</td>\n",
       "      <td>.</td>\n",
       "    </tr>\n",
       "    <tr>\n",
       "      <th>3250501</th>\n",
       "      <td>FRACTION</td>\n",
       "      <td>1 ½</td>\n",
       "      <td>одна целая и одна вторая</td>\n",
       "      <td>.</td>\n",
       "      <td>роты</td>\n",
       "    </tr>\n",
       "    <tr>\n",
       "      <th>3395752</th>\n",
       "      <td>FRACTION</td>\n",
       "      <td>½</td>\n",
       "      <td>одна вторая</td>\n",
       "      <td>Более</td>\n",
       "      <td>валовой</td>\n",
       "    </tr>\n",
       "    <tr>\n",
       "      <th>3417776</th>\n",
       "      <td>FRACTION</td>\n",
       "      <td>3½</td>\n",
       "      <td>три целых и одна вторая</td>\n",
       "      <td>счетом</td>\n",
       "      <td>:</td>\n",
       "    </tr>\n",
       "    <tr>\n",
       "      <th>3417778</th>\n",
       "      <td>FRACTION</td>\n",
       "      <td>2½</td>\n",
       "      <td>две целых и одна вторая</td>\n",
       "      <td>:</td>\n",
       "      <td>и</td>\n",
       "    </tr>\n",
       "    <tr>\n",
       "      <th>3478079</th>\n",
       "      <td>FRACTION</td>\n",
       "      <td>¼</td>\n",
       "      <td>одна четвертая</td>\n",
       "      <td>в</td>\n",
       "      <td>финала</td>\n",
       "    </tr>\n",
       "    <tr>\n",
       "      <th>3488898</th>\n",
       "      <td>FRACTION</td>\n",
       "      <td>¾</td>\n",
       "      <td>три четвертых</td>\n",
       "      <td>~</td>\n",
       "      <td>)</td>\n",
       "    </tr>\n",
       "    <tr>\n",
       "      <th>...</th>\n",
       "      <td>...</td>\n",
       "      <td>...</td>\n",
       "      <td>...</td>\n",
       "      <td>...</td>\n",
       "      <td>...</td>\n",
       "    </tr>\n",
       "    <tr>\n",
       "      <th>5646924</th>\n",
       "      <td>FRACTION</td>\n",
       "      <td>10½</td>\n",
       "      <td>десяти целых и одной второй</td>\n",
       "      <td>в</td>\n",
       "      <td>главах</td>\n",
       "    </tr>\n",
       "    <tr>\n",
       "      <th>5710816</th>\n",
       "      <td>FRACTION</td>\n",
       "      <td>6½</td>\n",
       "      <td>шесть целых и одна вторая</td>\n",
       "      <td>(</td>\n",
       "      <td>:</td>\n",
       "    </tr>\n",
       "    <tr>\n",
       "      <th>5710818</th>\n",
       "      <td>FRACTION</td>\n",
       "      <td>4½</td>\n",
       "      <td>четыре целых и одна вторая</td>\n",
       "      <td>:</td>\n",
       "      <td>)</td>\n",
       "    </tr>\n",
       "    <tr>\n",
       "      <th>5743241</th>\n",
       "      <td>FRACTION</td>\n",
       "      <td>2½</td>\n",
       "      <td>двух целых и одной второй</td>\n",
       "      <td>и</td>\n",
       "      <td>года</td>\n",
       "    </tr>\n",
       "    <tr>\n",
       "      <th>6011771</th>\n",
       "      <td>FRACTION</td>\n",
       "      <td>4 ½</td>\n",
       "      <td>четыре целых и одну вторую</td>\n",
       "      <td>Invicta</td>\n",
       "      <td>litre</td>\n",
       "    </tr>\n",
       "    <tr>\n",
       "      <th>6260409</th>\n",
       "      <td>FRACTION</td>\n",
       "      <td>1¼</td>\n",
       "      <td>одной целой и одной четвертой</td>\n",
       "      <td>до</td>\n",
       "      <td>аршина</td>\n",
       "    </tr>\n",
       "    <tr>\n",
       "      <th>6452616</th>\n",
       "      <td>FRACTION</td>\n",
       "      <td>9½</td>\n",
       "      <td>девять целых и одна вторая</td>\n",
       "      <td>по</td>\n",
       "      <td>.</td>\n",
       "    </tr>\n",
       "    <tr>\n",
       "      <th>6800651</th>\n",
       "      <td>FRACTION</td>\n",
       "      <td>½</td>\n",
       "      <td>одна вторая</td>\n",
       "      <td>Ранма</td>\n",
       "      <td>»</td>\n",
       "    </tr>\n",
       "    <tr>\n",
       "      <th>7253139</th>\n",
       "      <td>FRACTION</td>\n",
       "      <td>10½</td>\n",
       "      <td>десять целых и одну вторую</td>\n",
       "      <td>по</td>\n",
       "      <td>очков</td>\n",
       "    </tr>\n",
       "    <tr>\n",
       "      <th>7612900</th>\n",
       "      <td>FRACTION</td>\n",
       "      <td>⅔</td>\n",
       "      <td>две третьих</td>\n",
       "      <td>ленивца</td>\n",
       "      <td>веса</td>\n",
       "    </tr>\n",
       "    <tr>\n",
       "      <th>8033344</th>\n",
       "      <td>FRACTION</td>\n",
       "      <td>5¼</td>\n",
       "      <td>пятью целыми и одной четвертой</td>\n",
       "      <td>двусторонними</td>\n",
       "      <td>дюймовыми</td>\n",
       "    </tr>\n",
       "    <tr>\n",
       "      <th>8259581</th>\n",
       "      <td>FRACTION</td>\n",
       "      <td>8½</td>\n",
       "      <td>восьми целым и одной второй</td>\n",
       "      <td>по</td>\n",
       "      <td>очков</td>\n",
       "    </tr>\n",
       "    <tr>\n",
       "      <th>8283325</th>\n",
       "      <td>FRACTION</td>\n",
       "      <td>2½</td>\n",
       "      <td>две целых и одна вторая</td>\n",
       "      <td>—</td>\n",
       "      <td>:</td>\n",
       "    </tr>\n",
       "    <tr>\n",
       "      <th>8283327</th>\n",
       "      <td>FRACTION</td>\n",
       "      <td>1½</td>\n",
       "      <td>одна целая и одна вторая</td>\n",
       "      <td>:</td>\n",
       "      <td>.</td>\n",
       "    </tr>\n",
       "    <tr>\n",
       "      <th>8317226</th>\n",
       "      <td>FRACTION</td>\n",
       "      <td>¼</td>\n",
       "      <td>одна четвертая</td>\n",
       "      <td>занимавшая</td>\n",
       "      <td>часть</td>\n",
       "    </tr>\n",
       "    <tr>\n",
       "      <th>8355301</th>\n",
       "      <td>FRACTION</td>\n",
       "      <td>6½</td>\n",
       "      <td>шесть целых и одну вторую</td>\n",
       "      <td>набрал</td>\n",
       "      <td>очков</td>\n",
       "    </tr>\n",
       "    <tr>\n",
       "      <th>8457757</th>\n",
       "      <td>FRACTION</td>\n",
       "      <td>½</td>\n",
       "      <td>одна вторая</td>\n",
       "      <td>находилась</td>\n",
       "      <td>германской</td>\n",
       "    </tr>\n",
       "    <tr>\n",
       "      <th>8627416</th>\n",
       "      <td>FRACTION</td>\n",
       "      <td>⅔</td>\n",
       "      <td>двух третьих</td>\n",
       "      <td>более</td>\n",
       "      <td>)</td>\n",
       "    </tr>\n",
       "    <tr>\n",
       "      <th>8717346</th>\n",
       "      <td>FRACTION</td>\n",
       "      <td>¼</td>\n",
       "      <td>одна четвертая</td>\n",
       "      <td>составлял</td>\n",
       "      <td>рупии</td>\n",
       "    </tr>\n",
       "    <tr>\n",
       "      <th>8737281</th>\n",
       "      <td>FRACTION</td>\n",
       "      <td>3 ½</td>\n",
       "      <td>три целых и одна вторая</td>\n",
       "      <td>—</td>\n",
       "      <td>октавы</td>\n",
       "    </tr>\n",
       "    <tr>\n",
       "      <th>8984892</th>\n",
       "      <td>FRACTION</td>\n",
       "      <td>½</td>\n",
       "      <td>одной второй</td>\n",
       "      <td>от</td>\n",
       "      <td>-</td>\n",
       "    </tr>\n",
       "    <tr>\n",
       "      <th>8984894</th>\n",
       "      <td>FRACTION</td>\n",
       "      <td>¾</td>\n",
       "      <td>трех четвертых</td>\n",
       "      <td>-</td>\n",
       "      <td>мм</td>\n",
       "    </tr>\n",
       "    <tr>\n",
       "      <th>9080276</th>\n",
       "      <td>FRACTION</td>\n",
       "      <td>9½</td>\n",
       "      <td>девять целых и одна вторая</td>\n",
       "      <td>по</td>\n",
       "      <td>.</td>\n",
       "    </tr>\n",
       "    <tr>\n",
       "      <th>9080375</th>\n",
       "      <td>FRACTION</td>\n",
       "      <td>10½</td>\n",
       "      <td>десять целых и одна вторая</td>\n",
       "      <td>—</td>\n",
       "      <td>.</td>\n",
       "    </tr>\n",
       "    <tr>\n",
       "      <th>9083227</th>\n",
       "      <td>FRACTION</td>\n",
       "      <td>3½</td>\n",
       "      <td>три целых и одна вторая</td>\n",
       "      <td>—</td>\n",
       "      <td>;</td>\n",
       "    </tr>\n",
       "    <tr>\n",
       "      <th>9768976</th>\n",
       "      <td>FRACTION</td>\n",
       "      <td>2½</td>\n",
       "      <td>две целых и одна вторая</td>\n",
       "      <td>«</td>\n",
       "      <td>часа</td>\n",
       "    </tr>\n",
       "    <tr>\n",
       "      <th>9918776</th>\n",
       "      <td>FRACTION</td>\n",
       "      <td>9 ¾</td>\n",
       "      <td>девять целых и три четвертых</td>\n",
       "      <td>платформы</td>\n",
       "      <td>.</td>\n",
       "    </tr>\n",
       "    <tr>\n",
       "      <th>9921668</th>\n",
       "      <td>FRACTION</td>\n",
       "      <td>¾</td>\n",
       "      <td>три четвертых</td>\n",
       "      <td>занимали</td>\n",
       "      <td>длины</td>\n",
       "    </tr>\n",
       "    <tr>\n",
       "      <th>10013235</th>\n",
       "      <td>FRACTION</td>\n",
       "      <td>½</td>\n",
       "      <td>одна вторая</td>\n",
       "      <td>равная</td>\n",
       "      <td>асса</td>\n",
       "    </tr>\n",
       "    <tr>\n",
       "      <th>10277345</th>\n",
       "      <td>FRACTION</td>\n",
       "      <td>6¾</td>\n",
       "      <td>шесть целых и три четвертых</td>\n",
       "      <td>диска</td>\n",
       "      <td>'</td>\n",
       "    </tr>\n",
       "  </tbody>\n",
       "</table>\n",
       "<p>75 rows × 5 columns</p>\n",
       "</div>"
      ]
     },
     "execution_count": 102,
     "metadata": {},
     "output_type": "execute_result"
    }
   ],
   "source": [
    "df[~(df['before'].str.match('^-?\\d*\\s?\\d*\\s?\\/\\s?\\d+\\s?\\d*$')) & (df['class'] == 'FRACTION')]"
   ]
  },
  {
   "cell_type": "code",
   "execution_count": 30,
   "metadata": {},
   "outputs": [],
   "source": []
  },
  {
   "cell_type": "code",
   "execution_count": null,
   "metadata": {},
   "outputs": [],
   "source": []
  }
 ],
 "metadata": {
  "kernelspec": {
   "display_name": "Python 2",
   "language": "python",
   "name": "python2"
  },
  "language_info": {
   "codemirror_mode": {
    "name": "ipython",
    "version": 2
   },
   "file_extension": ".py",
   "mimetype": "text/x-python",
   "name": "python",
   "nbconvert_exporter": "python",
   "pygments_lexer": "ipython2",
   "version": "2.7.6"
  }
 },
 "nbformat": 4,
 "nbformat_minor": 0
}
