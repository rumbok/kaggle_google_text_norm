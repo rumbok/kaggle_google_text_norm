{
 "cells": [
  {
   "cell_type": "code",
   "execution_count": 1,
   "metadata": {
    "collapsed": false
   },
   "outputs": [
    {
     "name": "stderr",
     "output_type": "stream",
     "text": [
      "Using TensorFlow backend.\n"
     ]
    },
    {
     "name": "stderr",
     "output_type": "stream",
     "text": [
      "\rMorphologyExtractor create index: 0it [00:00, ?it/s]"
     ]
    },
    {
     "name": "stderr",
     "output_type": "stream",
     "text": [
      "\rMorphologyExtractor create index: 13248it [00:00, 132475.07it/s]"
     ]
    },
    {
     "name": "stderr",
     "output_type": "stream",
     "text": [
      "\rMorphologyExtractor create index: 27427it [00:00, 135138.03it/s]"
     ]
    },
    {
     "name": "stderr",
     "output_type": "stream",
     "text": [
      "\rMorphologyExtractor create index: 42977it [00:00, 140663.02it/s]"
     ]
    },
    {
     "name": "stderr",
     "output_type": "stream",
     "text": [
      "\rMorphologyExtractor create index: 58852it [00:00, 145639.85it/s]"
     ]
    },
    {
     "name": "stderr",
     "output_type": "stream",
     "text": [
      "\rMorphologyExtractor create index: 74018it [00:00, 147392.89it/s]"
     ]
    },
    {
     "name": "stderr",
     "output_type": "stream",
     "text": [
      "\rMorphologyExtractor create index: 89187it [00:00, 148653.26it/s]"
     ]
    },
    {
     "name": "stderr",
     "output_type": "stream",
     "text": [
      "\rMorphologyExtractor create index: 104920it [00:00, 151154.04it/s]"
     ]
    },
    {
     "name": "stderr",
     "output_type": "stream",
     "text": [
      "\rMorphologyExtractor create index: 120640it [00:00, 152917.09it/s]"
     ]
    },
    {
     "name": "stderr",
     "output_type": "stream",
     "text": [
      "\rMorphologyExtractor create index: 136848it [00:00, 155554.38it/s]"
     ]
    },
    {
     "name": "stderr",
     "output_type": "stream",
     "text": [
      "\rMorphologyExtractor create index: 152501it [00:01, 155842.17it/s]"
     ]
    },
    {
     "name": "stderr",
     "output_type": "stream",
     "text": [
      "\rMorphologyExtractor create index: 167738it [00:01, 154694.93it/s]"
     ]
    },
    {
     "name": "stderr",
     "output_type": "stream",
     "text": [
      "\rMorphologyExtractor create index: 183703it [00:01, 156147.47it/s]"
     ]
    },
    {
     "name": "stderr",
     "output_type": "stream",
     "text": [
      "\rMorphologyExtractor create index: 199152it [00:01, 154244.18it/s]"
     ]
    },
    {
     "name": "stderr",
     "output_type": "stream",
     "text": [
      "\rMorphologyExtractor create index: 214856it [00:01, 155070.92it/s]"
     ]
    },
    {
     "name": "stderr",
     "output_type": "stream",
     "text": [
      "\rMorphologyExtractor create index: 230287it [00:01, 154603.56it/s]"
     ]
    },
    {
     "name": "stderr",
     "output_type": "stream",
     "text": [
      "\rMorphologyExtractor create index: 246131it [00:01, 155734.34it/s]"
     ]
    },
    {
     "name": "stderr",
     "output_type": "stream",
     "text": [
      "\rMorphologyExtractor create index: 262596it [00:01, 158304.17it/s]"
     ]
    },
    {
     "name": "stderr",
     "output_type": "stream",
     "text": [
      "\rMorphologyExtractor create index: 278615it [00:01, 158862.81it/s]"
     ]
    },
    {
     "name": "stderr",
     "output_type": "stream",
     "text": [
      "\rMorphologyExtractor create index: 294492it [00:01, 157574.65it/s]"
     ]
    },
    {
     "name": "stderr",
     "output_type": "stream",
     "text": [
      "\rMorphologyExtractor create index: 310246it [00:02, 154542.30it/s]"
     ]
    },
    {
     "name": "stderr",
     "output_type": "stream",
     "text": [
      "\rMorphologyExtractor create index: 325711it [00:02, 153530.05it/s]"
     ]
    },
    {
     "name": "stderr",
     "output_type": "stream",
     "text": [
      "\rMorphologyExtractor create index: 341219it [00:02, 153989.52it/s]"
     ]
    },
    {
     "name": "stderr",
     "output_type": "stream",
     "text": [
      "\rMorphologyExtractor create index: 357031it [00:02, 155203.58it/s]"
     ]
    },
    {
     "name": "stderr",
     "output_type": "stream",
     "text": [
      "\rMorphologyExtractor create index: 372559it [00:02, 154412.41it/s]"
     ]
    },
    {
     "name": "stderr",
     "output_type": "stream",
     "text": [
      "\rMorphologyExtractor create index: 388774it [00:02, 156651.49it/s]"
     ]
    },
    {
     "name": "stderr",
     "output_type": "stream",
     "text": [
      "\rMorphologyExtractor create index: 405073it [00:02, 158498.84it/s]"
     ]
    },
    {
     "name": "stderr",
     "output_type": "stream",
     "text": [
      "\rMorphologyExtractor create index: 420937it [00:02, 158169.46it/s]"
     ]
    },
    {
     "name": "stderr",
     "output_type": "stream",
     "text": [
      "\rMorphologyExtractor create index: 436833it [00:02, 158405.28it/s]"
     ]
    },
    {
     "name": "stderr",
     "output_type": "stream",
     "text": [
      "\rMorphologyExtractor create index: 453302it [00:02, 160238.79it/s]"
     ]
    },
    {
     "name": "stderr",
     "output_type": "stream",
     "text": [
      "\rMorphologyExtractor create index: 469336it [00:03, 159561.45it/s]"
     ]
    },
    {
     "name": "stderr",
     "output_type": "stream",
     "text": [
      "\rMorphologyExtractor create index: 485300it [00:03, 157729.29it/s]"
     ]
    },
    {
     "name": "stderr",
     "output_type": "stream",
     "text": [
      "\rMorphologyExtractor create index: 501083it [00:03, 155933.12it/s]"
     ]
    },
    {
     "name": "stderr",
     "output_type": "stream",
     "text": [
      "\rMorphologyExtractor create index: 516689it [00:03, 153118.01it/s]"
     ]
    },
    {
     "name": "stderr",
     "output_type": "stream",
     "text": [
      "\rMorphologyExtractor create index: 532021it [00:03, 152146.59it/s]"
     ]
    },
    {
     "name": "stderr",
     "output_type": "stream",
     "text": [
      "\rMorphologyExtractor create index: 547251it [00:03, 150069.58it/s]"
     ]
    },
    {
     "name": "stderr",
     "output_type": "stream",
     "text": [
      "\rMorphologyExtractor create index: 562675it [00:03, 151295.50it/s]"
     ]
    },
    {
     "name": "stderr",
     "output_type": "stream",
     "text": [
      "\rMorphologyExtractor create index: 577993it [00:03, 151851.91it/s]"
     ]
    },
    {
     "name": "stderr",
     "output_type": "stream",
     "text": [
      "\rMorphologyExtractor create index: 593813it [00:03, 153699.89it/s]"
     ]
    },
    {
     "name": "stderr",
     "output_type": "stream",
     "text": [
      "\rMorphologyExtractor create index: 609196it [00:03, 152775.17it/s]"
     ]
    },
    {
     "name": "stderr",
     "output_type": "stream",
     "text": [
      "\rMorphologyExtractor create index: 624484it [00:04, 152388.52it/s]"
     ]
    },
    {
     "name": "stderr",
     "output_type": "stream",
     "text": [
      "\rMorphologyExtractor create index: 639731it [00:04, 151012.71it/s]"
     ]
    },
    {
     "name": "stderr",
     "output_type": "stream",
     "text": [
      "\rMorphologyExtractor create index: 654856it [00:04, 151082.46it/s]"
     ]
    },
    {
     "name": "stderr",
     "output_type": "stream",
     "text": [
      "\rMorphologyExtractor create index: 670103it [00:04, 151322.85it/s]"
     ]
    },
    {
     "name": "stderr",
     "output_type": "stream",
     "text": [
      "\rMorphologyExtractor create index: 685240it [00:04, 151183.73it/s]"
     ]
    },
    {
     "name": "stderr",
     "output_type": "stream",
     "text": [
      "\rMorphologyExtractor create index: 700362it [00:04, 146435.90it/s]"
     ]
    },
    {
     "name": "stderr",
     "output_type": "stream",
     "text": [
      "\rMorphologyExtractor create index: 715040it [00:04, 145449.89it/s]"
     ]
    },
    {
     "name": "stderr",
     "output_type": "stream",
     "text": [
      "\rMorphologyExtractor create index: 730084it [00:04, 146911.45it/s]"
     ]
    },
    {
     "name": "stderr",
     "output_type": "stream",
     "text": [
      "\rMorphologyExtractor create index: 744797it [00:04, 145833.60it/s]"
     ]
    },
    {
     "name": "stderr",
     "output_type": "stream",
     "text": [
      "\rMorphologyExtractor create index: 759728it [00:04, 146858.10it/s]"
     ]
    },
    {
     "name": "stderr",
     "output_type": "stream",
     "text": [
      "\rMorphologyExtractor create index: 775148it [00:05, 148985.42it/s]"
     ]
    },
    {
     "name": "stderr",
     "output_type": "stream",
     "text": [
      "\rMorphologyExtractor create index: 790360it [00:05, 149909.01it/s]"
     ]
    },
    {
     "name": "stderr",
     "output_type": "stream",
     "text": [
      "\rMorphologyExtractor create index: 806000it [00:05, 151798.12it/s]"
     ]
    },
    {
     "name": "stderr",
     "output_type": "stream",
     "text": [
      "\rMorphologyExtractor create index: 821195it [00:05, 151673.71it/s]"
     ]
    },
    {
     "name": "stderr",
     "output_type": "stream",
     "text": [
      "\rMorphologyExtractor create index: 836373it [00:05, 151615.01it/s]"
     ]
    },
    {
     "name": "stderr",
     "output_type": "stream",
     "text": [
      "\rMorphologyExtractor create index: 851623it [00:05, 151876.76it/s]"
     ]
    },
    {
     "name": "stderr",
     "output_type": "stream",
     "text": [
      "\rMorphologyExtractor create index: 866816it [00:05, 150398.73it/s]"
     ]
    },
    {
     "name": "stderr",
     "output_type": "stream",
     "text": [
      "\rMorphologyExtractor create index: 883042it [00:05, 153770.46it/s]"
     ]
    },
    {
     "name": "stderr",
     "output_type": "stream",
     "text": [
      "\rMorphologyExtractor create index: 898713it [00:05, 154637.89it/s]"
     ]
    },
    {
     "name": "stderr",
     "output_type": "stream",
     "text": [
      "\rMorphologyExtractor create index: 914843it [00:05, 156577.51it/s]"
     ]
    },
    {
     "name": "stderr",
     "output_type": "stream",
     "text": [
      "\rMorphologyExtractor create index: 930519it [00:06, 156212.27it/s]"
     ]
    },
    {
     "name": "stderr",
     "output_type": "stream",
     "text": [
      "\rMorphologyExtractor create index: 946504it [00:06, 157283.80it/s]"
     ]
    },
    {
     "name": "stderr",
     "output_type": "stream",
     "text": [
      "\rMorphologyExtractor create index: 962244it [00:06, 157246.41it/s]"
     ]
    },
    {
     "name": "stderr",
     "output_type": "stream",
     "text": [
      "\rMorphologyExtractor create index: 977977it [00:06, 154783.90it/s]"
     ]
    },
    {
     "name": "stderr",
     "output_type": "stream",
     "text": [
      "\rMorphologyExtractor create index: 993470it [00:06, 153741.36it/s]"
     ]
    },
    {
     "name": "stderr",
     "output_type": "stream",
     "text": [
      "\rMorphologyExtractor create index: 1009169it [00:06, 154699.83it/s]"
     ]
    },
    {
     "name": "stderr",
     "output_type": "stream",
     "text": [
      "\rMorphologyExtractor create index: 1024649it [00:06, 152770.60it/s]"
     ]
    },
    {
     "name": "stderr",
     "output_type": "stream",
     "text": [
      "\rMorphologyExtractor create index: 1041042it [00:06, 155954.65it/s]"
     ]
    },
    {
     "name": "stderr",
     "output_type": "stream",
     "text": [
      "\rMorphologyExtractor create index: 1056663it [00:06, 151529.93it/s]"
     ]
    },
    {
     "name": "stderr",
     "output_type": "stream",
     "text": [
      "\rMorphologyExtractor create index: 1071861it [00:06, 148199.96it/s]"
     ]
    },
    {
     "name": "stderr",
     "output_type": "stream",
     "text": [
      "\rMorphologyExtractor create index: 1087495it [00:07, 150549.94it/s]"
     ]
    },
    {
     "name": "stderr",
     "output_type": "stream",
     "text": [
      "\rMorphologyExtractor create index: 1103029it [00:07, 151945.81it/s]"
     ]
    },
    {
     "name": "stderr",
     "output_type": "stream",
     "text": [
      "\rMorphologyExtractor create index: 1119124it [00:07, 154538.67it/s]"
     ]
    },
    {
     "name": "stderr",
     "output_type": "stream",
     "text": [
      "\rMorphologyExtractor create index: 1135037it [00:07, 155887.07it/s]"
     ]
    },
    {
     "name": "stderr",
     "output_type": "stream",
     "text": [
      "\rMorphologyExtractor create index: 1150653it [00:07, 155878.25it/s]"
     ]
    },
    {
     "name": "stderr",
     "output_type": "stream",
     "text": [
      "\rMorphologyExtractor create index: 1166376it [00:07, 156280.37it/s]"
     ]
    },
    {
     "name": "stderr",
     "output_type": "stream",
     "text": [
      "\rMorphologyExtractor create index: 1182018it [00:07, 154994.11it/s]"
     ]
    },
    {
     "name": "stderr",
     "output_type": "stream",
     "text": [
      "\rMorphologyExtractor create index: 1197636it [00:07, 155345.15it/s]"
     ]
    },
    {
     "name": "stderr",
     "output_type": "stream",
     "text": [
      "\rMorphologyExtractor create index: 1213869it [00:07, 157373.87it/s]"
     ]
    },
    {
     "name": "stderr",
     "output_type": "stream",
     "text": [
      "\rMorphologyExtractor create index: 1229672it [00:08, 157569.62it/s]"
     ]
    },
    {
     "name": "stderr",
     "output_type": "stream",
     "text": [
      "\rMorphologyExtractor create index: 1245438it [00:08, 156255.26it/s]"
     ]
    },
    {
     "name": "stderr",
     "output_type": "stream",
     "text": [
      "\rMorphologyExtractor create index: 1261073it [00:08, 155195.01it/s]"
     ]
    },
    {
     "name": "stderr",
     "output_type": "stream",
     "text": [
      "\rMorphologyExtractor create index: 1276601it [00:08, 155085.59it/s]"
     ]
    },
    {
     "name": "stderr",
     "output_type": "stream",
     "text": [
      "\rMorphologyExtractor create index: 1292138it [00:08, 155168.86it/s]"
     ]
    },
    {
     "name": "stderr",
     "output_type": "stream",
     "text": [
      "\rMorphologyExtractor create index: 1307659it [00:08, 153788.16it/s]"
     ]
    },
    {
     "name": "stderr",
     "output_type": "stream",
     "text": [
      "\rMorphologyExtractor create index: 1323134it [00:08, 154071.77it/s]"
     ]
    },
    {
     "name": "stderr",
     "output_type": "stream",
     "text": [
      "\rMorphologyExtractor create index: 1338546it [00:08, 153586.88it/s]"
     ]
    },
    {
     "name": "stderr",
     "output_type": "stream",
     "text": [
      "\rMorphologyExtractor create index: 1353908it [00:08, 152867.24it/s]"
     ]
    },
    {
     "name": "stderr",
     "output_type": "stream",
     "text": [
      "\rMorphologyExtractor create index: 1369198it [00:08, 151456.36it/s]"
     ]
    },
    {
     "name": "stderr",
     "output_type": "stream",
     "text": [
      "\rMorphologyExtractor create index: 1384349it [00:09, 151137.02it/s]"
     ]
    },
    {
     "name": "stderr",
     "output_type": "stream",
     "text": [
      "\rMorphologyExtractor create index: 1399645it [00:09, 151678.41it/s]"
     ]
    },
    {
     "name": "stderr",
     "output_type": "stream",
     "text": [
      "\rMorphologyExtractor create index: 1415153it [00:09, 152682.19it/s]"
     ]
    },
    {
     "name": "stderr",
     "output_type": "stream",
     "text": [
      "\rMorphologyExtractor create index: 1430588it [00:09, 153177.80it/s]"
     ]
    },
    {
     "name": "stderr",
     "output_type": "stream",
     "text": [
      "\rMorphologyExtractor create index: 1445909it [00:09, 151884.60it/s]"
     ]
    },
    {
     "name": "stderr",
     "output_type": "stream",
     "text": [
      "\rMorphologyExtractor create index: 1461265it [00:09, 152382.01it/s]"
     ]
    },
    {
     "name": "stderr",
     "output_type": "stream",
     "text": [
      "\rMorphologyExtractor create index: 1476726it [00:09, 153041.40it/s]"
     ]
    },
    {
     "name": "stderr",
     "output_type": "stream",
     "text": [
      "\rMorphologyExtractor create index: 1492034it [00:09, 150483.28it/s]"
     ]
    },
    {
     "name": "stderr",
     "output_type": "stream",
     "text": [
      "\rMorphologyExtractor create index: 1507632it [00:09, 152091.12it/s]"
     ]
    },
    {
     "name": "stderr",
     "output_type": "stream",
     "text": [
      "\rMorphologyExtractor create index: 1523134it [00:09, 152955.87it/s]"
     ]
    },
    {
     "name": "stderr",
     "output_type": "stream",
     "text": [
      "\rMorphologyExtractor create index: 1538759it [00:10, 153928.50it/s]"
     ]
    },
    {
     "name": "stderr",
     "output_type": "stream",
     "text": [
      "\rMorphologyExtractor create index: 1554396it [00:10, 154651.97it/s]"
     ]
    },
    {
     "name": "stderr",
     "output_type": "stream",
     "text": [
      "\rMorphologyExtractor create index: 1569868it [00:10, 153483.86it/s]"
     ]
    },
    {
     "name": "stderr",
     "output_type": "stream",
     "text": [
      "\rMorphologyExtractor create index: 1585224it [00:10, 152270.47it/s]"
     ]
    },
    {
     "name": "stderr",
     "output_type": "stream",
     "text": [
      "\rMorphologyExtractor create index: 1600458it [00:10, 148306.16it/s]"
     ]
    },
    {
     "name": "stderr",
     "output_type": "stream",
     "text": [
      "\rMorphologyExtractor create index: 1615791it [00:10, 149777.19it/s]"
     ]
    },
    {
     "name": "stderr",
     "output_type": "stream",
     "text": [
      "\rMorphologyExtractor create index: 1631166it [00:10, 150945.97it/s]"
     ]
    },
    {
     "name": "stderr",
     "output_type": "stream",
     "text": [
      "\rMorphologyExtractor create index: 1646692it [00:10, 152212.49it/s]"
     ]
    },
    {
     "name": "stderr",
     "output_type": "stream",
     "text": [
      "\rMorphologyExtractor create index: 1661929it [00:10, 152005.96it/s]"
     ]
    },
    {
     "name": "stderr",
     "output_type": "stream",
     "text": [
      "\rMorphologyExtractor create index: 1678077it [00:10, 154728.44it/s]"
     ]
    },
    {
     "name": "stderr",
     "output_type": "stream",
     "text": [
      "\rMorphologyExtractor create index: 1693570it [00:11, 153164.63it/s]"
     ]
    },
    {
     "name": "stderr",
     "output_type": "stream",
     "text": [
      "\rMorphologyExtractor create index: 1708974it [00:11, 153424.71it/s]"
     ]
    },
    {
     "name": "stderr",
     "output_type": "stream",
     "text": [
      "\rMorphologyExtractor create index: 1725121it [00:11, 155750.19it/s]"
     ]
    },
    {
     "name": "stderr",
     "output_type": "stream",
     "text": [
      "\rMorphologyExtractor create index: 1741198it [00:11, 157221.96it/s]"
     ]
    },
    {
     "name": "stderr",
     "output_type": "stream",
     "text": [
      "\rMorphologyExtractor create index: 1756936it [00:11, 157251.52it/s]"
     ]
    },
    {
     "name": "stderr",
     "output_type": "stream",
     "text": [
      "\rMorphologyExtractor create index: 1772672it [00:11, 156738.83it/s]"
     ]
    },
    {
     "name": "stderr",
     "output_type": "stream",
     "text": [
      "\rMorphologyExtractor create index: 1788957it [00:11, 158520.32it/s]"
     ]
    },
    {
     "name": "stderr",
     "output_type": "stream",
     "text": [
      "\rMorphologyExtractor create index: 1804820it [00:11, 158175.67it/s]"
     ]
    },
    {
     "name": "stderr",
     "output_type": "stream",
     "text": [
      "\rMorphologyExtractor create index: 1820645it [00:11, 156697.43it/s]"
     ]
    },
    {
     "name": "stderr",
     "output_type": "stream",
     "text": [
      "\rMorphologyExtractor create index: 1836324it [00:11, 155128.13it/s]"
     ]
    },
    {
     "name": "stderr",
     "output_type": "stream",
     "text": [
      "\rMorphologyExtractor create index: 1852234it [00:12, 156298.20it/s]"
     ]
    },
    {
     "name": "stderr",
     "output_type": "stream",
     "text": [
      "\rMorphologyExtractor create index: 1868149it [00:12, 157140.67it/s]"
     ]
    },
    {
     "name": "stderr",
     "output_type": "stream",
     "text": [
      "\rMorphologyExtractor create index: 1883871it [00:12, 156794.43it/s]"
     ]
    },
    {
     "name": "stderr",
     "output_type": "stream",
     "text": [
      "\rMorphologyExtractor create index: 1899556it [00:12, 153354.53it/s]"
     ]
    },
    {
     "name": "stderr",
     "output_type": "stream",
     "text": [
      "\rMorphologyExtractor create index: 1914912it [00:12, 152843.96it/s]"
     ]
    },
    {
     "name": "stderr",
     "output_type": "stream",
     "text": [
      "\rMorphologyExtractor create index: 1930212it [00:12, 152125.86it/s]"
     ]
    },
    {
     "name": "stderr",
     "output_type": "stream",
     "text": [
      "\rMorphologyExtractor create index: 1945837it [00:12, 153339.13it/s]"
     ]
    },
    {
     "name": "stderr",
     "output_type": "stream",
     "text": [
      "\rMorphologyExtractor create index: 1961181it [00:12, 152228.64it/s]"
     ]
    },
    {
     "name": "stderr",
     "output_type": "stream",
     "text": [
      "\rMorphologyExtractor create index: 1976413it [00:12, 149199.32it/s]"
     ]
    },
    {
     "name": "stderr",
     "output_type": "stream",
     "text": [
      "\rMorphologyExtractor create index: 1991778it [00:12, 150505.57it/s]"
     ]
    },
    {
     "name": "stderr",
     "output_type": "stream",
     "text": [
      "\rMorphologyExtractor create index: 2006846it [00:13, 148887.32it/s]"
     ]
    },
    {
     "name": "stderr",
     "output_type": "stream",
     "text": [
      "\rMorphologyExtractor create index: 2021905it [00:13, 149391.35it/s]"
     ]
    },
    {
     "name": "stderr",
     "output_type": "stream",
     "text": [
      "\rMorphologyExtractor create index: 2037698it [00:13, 151854.34it/s]"
     ]
    },
    {
     "name": "stderr",
     "output_type": "stream",
     "text": [
      "\rMorphologyExtractor create index: 2052902it [00:13, 150619.65it/s]"
     ]
    },
    {
     "name": "stderr",
     "output_type": "stream",
     "text": [
      "\rMorphologyExtractor create index: 2067979it [00:13, 149572.49it/s]"
     ]
    },
    {
     "name": "stderr",
     "output_type": "stream",
     "text": [
      "\rMorphologyExtractor create index: 2083268it [00:13, 150548.12it/s]"
     ]
    },
    {
     "name": "stderr",
     "output_type": "stream",
     "text": [
      "\rMorphologyExtractor create index: 2098758it [00:13, 151825.17it/s]"
     ]
    },
    {
     "name": "stderr",
     "output_type": "stream",
     "text": [
      "\rMorphologyExtractor create index: 2113951it [00:13, 151201.37it/s]"
     ]
    },
    {
     "name": "stderr",
     "output_type": "stream",
     "text": [
      "\rMorphologyExtractor create index: 2129997it [00:13, 153862.62it/s]"
     ]
    },
    {
     "name": "stderr",
     "output_type": "stream",
     "text": [
      "\rMorphologyExtractor create index: 2145717it [00:13, 154848.36it/s]"
     ]
    },
    {
     "name": "stderr",
     "output_type": "stream",
     "text": [
      "\rMorphologyExtractor create index: 2161215it [00:14, 152925.44it/s]"
     ]
    },
    {
     "name": "stderr",
     "output_type": "stream",
     "text": [
      "\rMorphologyExtractor create index: 2176523it [00:14, 138433.30it/s]"
     ]
    },
    {
     "name": "stderr",
     "output_type": "stream",
     "text": [
      "\rMorphologyExtractor create index: 2191401it [00:14, 141382.25it/s]"
     ]
    },
    {
     "name": "stderr",
     "output_type": "stream",
     "text": [
      "\rMorphologyExtractor create index: 2205892it [00:14, 142419.75it/s]"
     ]
    },
    {
     "name": "stderr",
     "output_type": "stream",
     "text": [
      "\rMorphologyExtractor create index: 2221528it [00:14, 146332.13it/s]"
     ]
    },
    {
     "name": "stderr",
     "output_type": "stream",
     "text": [
      "\rMorphologyExtractor create index: 2236532it [00:14, 147424.62it/s]"
     ]
    },
    {
     "name": "stderr",
     "output_type": "stream",
     "text": [
      "\rMorphologyExtractor create index: 2251377it [00:14, 147729.42it/s]"
     ]
    },
    {
     "name": "stderr",
     "output_type": "stream",
     "text": [
      "\rMorphologyExtractor create index: 2266215it [00:14, 146093.30it/s]"
     ]
    },
    {
     "name": "stderr",
     "output_type": "stream",
     "text": [
      "\rMorphologyExtractor create index: 2282252it [00:14, 150099.92it/s]"
     ]
    },
    {
     "name": "stderr",
     "output_type": "stream",
     "text": [
      "\rMorphologyExtractor create index: 2297338it [00:15, 150323.64it/s]"
     ]
    },
    {
     "name": "stderr",
     "output_type": "stream",
     "text": [
      "\rMorphologyExtractor create index: 2312414it [00:15, 149627.34it/s]"
     ]
    },
    {
     "name": "stderr",
     "output_type": "stream",
     "text": [
      "\rMorphologyExtractor create index: 2327582it [00:15, 150235.09it/s]"
     ]
    },
    {
     "name": "stderr",
     "output_type": "stream",
     "text": [
      "\rMorphologyExtractor create index: 2342856it [00:15, 150976.97it/s]"
     ]
    },
    {
     "name": "stderr",
     "output_type": "stream",
     "text": [
      "\rMorphologyExtractor create index: 2358059it [00:15, 151290.42it/s]"
     ]
    },
    {
     "name": "stderr",
     "output_type": "stream",
     "text": [
      "\rMorphologyExtractor create index: 2373510it [00:15, 152242.05it/s]"
     ]
    },
    {
     "name": "stderr",
     "output_type": "stream",
     "text": [
      "\rMorphologyExtractor create index: 2388744it [00:15, 150548.28it/s]"
     ]
    },
    {
     "name": "stderr",
     "output_type": "stream",
     "text": [
      "\rMorphologyExtractor create index: 2403810it [00:15, 141814.97it/s]"
     ]
    },
    {
     "name": "stderr",
     "output_type": "stream",
     "text": [
      "\rMorphologyExtractor create index: 2419014it [00:15, 144733.56it/s]"
     ]
    },
    {
     "name": "stderr",
     "output_type": "stream",
     "text": [
      "\rMorphologyExtractor create index: 2433581it [00:15, 144732.75it/s]"
     ]
    },
    {
     "name": "stderr",
     "output_type": "stream",
     "text": [
      "\rMorphologyExtractor create index: 2448963it [00:16, 147343.69it/s]"
     ]
    },
    {
     "name": "stderr",
     "output_type": "stream",
     "text": [
      "\rMorphologyExtractor create index: 2464820it [00:16, 150538.44it/s]"
     ]
    },
    {
     "name": "stderr",
     "output_type": "stream",
     "text": [
      "\rMorphologyExtractor create index: 2480436it [00:16, 152181.56it/s]"
     ]
    },
    {
     "name": "stderr",
     "output_type": "stream",
     "text": [
      "\rMorphologyExtractor create index: 2495699it [00:16, 152128.12it/s]"
     ]
    },
    {
     "name": "stderr",
     "output_type": "stream",
     "text": [
      "\rMorphologyExtractor create index: 2511491it [00:16, 153819.23it/s]"
     ]
    },
    {
     "name": "stderr",
     "output_type": "stream",
     "text": [
      "\rMorphologyExtractor create index: 2526900it [00:16, 153198.99it/s]"
     ]
    },
    {
     "name": "stderr",
     "output_type": "stream",
     "text": [
      "\rMorphologyExtractor create index: 2542239it [00:16, 153164.02it/s]"
     ]
    },
    {
     "name": "stderr",
     "output_type": "stream",
     "text": [
      "\rMorphologyExtractor create index: 2557648it [00:16, 153438.83it/s]"
     ]
    },
    {
     "name": "stderr",
     "output_type": "stream",
     "text": [
      "\rMorphologyExtractor create index: 2573002it [00:16, 151732.48it/s]"
     ]
    },
    {
     "name": "stderr",
     "output_type": "stream",
     "text": [
      "\rMorphologyExtractor create index: 2588187it [00:16, 151705.84it/s]"
     ]
    },
    {
     "name": "stderr",
     "output_type": "stream",
     "text": [
      "\rMorphologyExtractor create index: 2603602it [00:17, 152429.44it/s]"
     ]
    },
    {
     "name": "stderr",
     "output_type": "stream",
     "text": [
      "\rMorphologyExtractor create index: 2618852it [00:17, 151494.81it/s]"
     ]
    },
    {
     "name": "stderr",
     "output_type": "stream",
     "text": [
      "\rMorphologyExtractor create index: 2634578it [00:17, 153177.18it/s]"
     ]
    },
    {
     "name": "stderr",
     "output_type": "stream",
     "text": [
      "\rMorphologyExtractor create index: 2649905it [00:17, 153066.41it/s]"
     ]
    },
    {
     "name": "stderr",
     "output_type": "stream",
     "text": [
      "\rMorphologyExtractor create index: 2665218it [00:17, 152882.74it/s]"
     ]
    },
    {
     "name": "stderr",
     "output_type": "stream",
     "text": [
      "\rMorphologyExtractor create index: 2680511it [00:17, 152183.92it/s]"
     ]
    },
    {
     "name": "stderr",
     "output_type": "stream",
     "text": [
      "\rMorphologyExtractor create index: 2695734it [00:17, 150540.16it/s]"
     ]
    },
    {
     "name": "stderr",
     "output_type": "stream",
     "text": [
      "\rMorphologyExtractor create index: 2710907it [00:17, 150893.37it/s]"
     ]
    },
    {
     "name": "stderr",
     "output_type": "stream",
     "text": [
      "\rMorphologyExtractor create index: 2726002it [00:17, 148877.38it/s]"
     ]
    },
    {
     "name": "stderr",
     "output_type": "stream",
     "text": [
      "\rMorphologyExtractor create index: 2740900it [00:17, 148244.01it/s]"
     ]
    },
    {
     "name": "stderr",
     "output_type": "stream",
     "text": [
      "\rMorphologyExtractor create index: 2755732it [00:18, 148147.67it/s]"
     ]
    },
    {
     "name": "stderr",
     "output_type": "stream",
     "text": [
      "\rMorphologyExtractor create index: 2770552it [00:18, 146111.60it/s]"
     ]
    },
    {
     "name": "stderr",
     "output_type": "stream",
     "text": [
      "\rMorphologyExtractor create index: 2785174it [00:18, 145103.40it/s]"
     ]
    },
    {
     "name": "stderr",
     "output_type": "stream",
     "text": [
      "\rMorphologyExtractor create index: 2799693it [00:18, 144705.34it/s]"
     ]
    },
    {
     "name": "stderr",
     "output_type": "stream",
     "text": [
      "\rMorphologyExtractor create index: 2814170it [00:18, 143806.94it/s]"
     ]
    },
    {
     "name": "stderr",
     "output_type": "stream",
     "text": [
      "\rMorphologyExtractor create index: 2829451it [00:18, 146391.50it/s]"
     ]
    },
    {
     "name": "stderr",
     "output_type": "stream",
     "text": [
      "\rMorphologyExtractor create index: 2844106it [00:18, 146342.93it/s]"
     ]
    },
    {
     "name": "stderr",
     "output_type": "stream",
     "text": [
      "\rMorphologyExtractor create index: 2858841it [00:18, 146642.39it/s]"
     ]
    },
    {
     "name": "stderr",
     "output_type": "stream",
     "text": [
      "\rMorphologyExtractor create index: 2873586it [00:18, 146880.54it/s]"
     ]
    },
    {
     "name": "stderr",
     "output_type": "stream",
     "text": [
      "\rMorphologyExtractor create index: 2889432it [00:18, 150169.79it/s]"
     ]
    },
    {
     "name": "stderr",
     "output_type": "stream",
     "text": [
      "\rMorphologyExtractor create index: 2904908it [00:19, 151515.82it/s]"
     ]
    },
    {
     "name": "stderr",
     "output_type": "stream",
     "text": [
      "\rMorphologyExtractor create index: 2920078it [00:19, 150716.29it/s]"
     ]
    },
    {
     "name": "stderr",
     "output_type": "stream",
     "text": [
      "\rMorphologyExtractor create index: 2935164it [00:19, 150145.33it/s]"
     ]
    },
    {
     "name": "stderr",
     "output_type": "stream",
     "text": [
      "\rMorphologyExtractor create index: 2950843it [00:19, 152076.98it/s]"
     ]
    },
    {
     "name": "stderr",
     "output_type": "stream",
     "text": [
      "\rMorphologyExtractor create index: 2966064it [00:19, 143263.00it/s]"
     ]
    },
    {
     "name": "stderr",
     "output_type": "stream",
     "text": [
      "\rMorphologyExtractor create index: 2980505it [00:19, 143265.08it/s]"
     ]
    },
    {
     "name": "stderr",
     "output_type": "stream",
     "text": [
      "\rMorphologyExtractor create index: 2994962it [00:19, 143652.79it/s]"
     ]
    },
    {
     "name": "stderr",
     "output_type": "stream",
     "text": [
      "\rMorphologyExtractor create index: 3009390it [00:19, 143837.86it/s]"
     ]
    },
    {
     "name": "stderr",
     "output_type": "stream",
     "text": [
      "\rMorphologyExtractor create index: 3025113it [00:19, 147608.43it/s]"
     ]
    },
    {
     "name": "stderr",
     "output_type": "stream",
     "text": [
      "\rMorphologyExtractor create index: 3040382it [00:20, 149094.88it/s]"
     ]
    },
    {
     "name": "stderr",
     "output_type": "stream",
     "text": [
      "\rMorphologyExtractor create index: 3055332it [00:20, 147303.27it/s]"
     ]
    },
    {
     "name": "stderr",
     "output_type": "stream",
     "text": [
      "\rMorphologyExtractor create index: 3070096it [00:20, 146640.05it/s]"
     ]
    },
    {
     "name": "stderr",
     "output_type": "stream",
     "text": [
      "\rMorphologyExtractor create index: 3085222it [00:20, 147994.41it/s]"
     ]
    },
    {
     "name": "stderr",
     "output_type": "stream",
     "text": [
      "\rMorphologyExtractor create index: 3100326it [00:20, 148893.68it/s]"
     ]
    },
    {
     "name": "stderr",
     "output_type": "stream",
     "text": [
      "\rMorphologyExtractor create index: 3115937it [00:20, 150986.33it/s]"
     ]
    },
    {
     "name": "stderr",
     "output_type": "stream",
     "text": [
      "\rMorphologyExtractor create index: 3131247it [00:20, 151613.35it/s]"
     ]
    },
    {
     "name": "stderr",
     "output_type": "stream",
     "text": [
      "\rMorphologyExtractor create index: 3147040it [00:20, 153452.02it/s]"
     ]
    },
    {
     "name": "stderr",
     "output_type": "stream",
     "text": [
      "\rMorphologyExtractor create index: 3162400it [00:20, 152225.46it/s]"
     ]
    },
    {
     "name": "stderr",
     "output_type": "stream",
     "text": [
      "\rMorphologyExtractor create index: 3177635it [00:20, 150402.62it/s]"
     ]
    },
    {
     "name": "stderr",
     "output_type": "stream",
     "text": [
      "\rMorphologyExtractor create index: 3193143it [00:21, 151775.03it/s]"
     ]
    },
    {
     "name": "stderr",
     "output_type": "stream",
     "text": [
      "\rMorphologyExtractor create index: 3208521it [00:21, 152369.65it/s]"
     ]
    },
    {
     "name": "stderr",
     "output_type": "stream",
     "text": [
      "\rMorphologyExtractor create index: 3223768it [00:21, 151094.13it/s]"
     ]
    },
    {
     "name": "stderr",
     "output_type": "stream",
     "text": [
      "\rMorphologyExtractor create index: 3238887it [00:21, 150662.01it/s]"
     ]
    },
    {
     "name": "stderr",
     "output_type": "stream",
     "text": [
      "\rMorphologyExtractor create index: 3254446it [00:21, 152106.83it/s]"
     ]
    },
    {
     "name": "stderr",
     "output_type": "stream",
     "text": [
      "\rMorphologyExtractor create index: 3269665it [00:21, 149178.19it/s]"
     ]
    },
    {
     "name": "stderr",
     "output_type": "stream",
     "text": [
      "\rMorphologyExtractor create index: 3284711it [00:21, 149558.14it/s]"
     ]
    },
    {
     "name": "stderr",
     "output_type": "stream",
     "text": [
      "\rMorphologyExtractor create index: 3299795it [00:21, 149939.49it/s]"
     ]
    },
    {
     "name": "stderr",
     "output_type": "stream",
     "text": [
      "\rMorphologyExtractor create index: 3314841it [00:21, 150093.16it/s]"
     ]
    },
    {
     "name": "stderr",
     "output_type": "stream",
     "text": [
      "\rMorphologyExtractor create index: 3329857it [00:21, 147854.42it/s]"
     ]
    },
    {
     "name": "stderr",
     "output_type": "stream",
     "text": [
      "\rMorphologyExtractor create index: 3344900it [00:22, 148615.10it/s]"
     ]
    },
    {
     "name": "stderr",
     "output_type": "stream",
     "text": [
      "\rMorphologyExtractor create index: 3359868it [00:22, 148931.21it/s]"
     ]
    },
    {
     "name": "stderr",
     "output_type": "stream",
     "text": [
      "\rMorphologyExtractor create index: 3375043it [00:22, 149763.62it/s]"
     ]
    },
    {
     "name": "stderr",
     "output_type": "stream",
     "text": [
      "\rMorphologyExtractor create index: 3390335it [00:22, 150695.32it/s]"
     ]
    },
    {
     "name": "stderr",
     "output_type": "stream",
     "text": [
      "\rMorphologyExtractor create index: 3405410it [00:22, 150384.32it/s]"
     ]
    },
    {
     "name": "stderr",
     "output_type": "stream",
     "text": [
      "\rMorphologyExtractor create index: 3420829it [00:22, 151505.34it/s]"
     ]
    },
    {
     "name": "stderr",
     "output_type": "stream",
     "text": [
      "\rMorphologyExtractor create index: 3435985it [00:22, 149555.30it/s]"
     ]
    },
    {
     "name": "stderr",
     "output_type": "stream",
     "text": [
      "\rMorphologyExtractor create index: 3450950it [00:22, 148756.22it/s]"
     ]
    },
    {
     "name": "stderr",
     "output_type": "stream",
     "text": [
      "\rMorphologyExtractor create index: 3466590it [00:22, 150968.84it/s]"
     ]
    },
    {
     "name": "stderr",
     "output_type": "stream",
     "text": [
      "\rMorphologyExtractor create index: 3482012it [00:22, 151927.50it/s]"
     ]
    },
    {
     "name": "stderr",
     "output_type": "stream",
     "text": [
      "\rMorphologyExtractor create index: 3497216it [00:23, 150169.64it/s]"
     ]
    },
    {
     "name": "stderr",
     "output_type": "stream",
     "text": [
      "\rMorphologyExtractor create index: 3512704it [00:23, 151551.48it/s]"
     ]
    },
    {
     "name": "stderr",
     "output_type": "stream",
     "text": [
      "\rMorphologyExtractor create index: 3528104it [00:23, 152275.60it/s]"
     ]
    },
    {
     "name": "stderr",
     "output_type": "stream",
     "text": [
      "\rMorphologyExtractor create index: 3543341it [00:23, 150803.05it/s]"
     ]
    },
    {
     "name": "stderr",
     "output_type": "stream",
     "text": [
      "\rMorphologyExtractor create index: 3558431it [00:23, 150336.25it/s]"
     ]
    },
    {
     "name": "stderr",
     "output_type": "stream",
     "text": [
      "\rMorphologyExtractor create index: 3573672it [00:23, 150950.22it/s]"
     ]
    },
    {
     "name": "stderr",
     "output_type": "stream",
     "text": [
      "\rMorphologyExtractor create index: 3588773it [00:23, 149705.45it/s]"
     ]
    },
    {
     "name": "stderr",
     "output_type": "stream",
     "text": [
      "\rMorphologyExtractor create index: 3604005it [00:23, 150479.54it/s]"
     ]
    },
    {
     "name": "stderr",
     "output_type": "stream",
     "text": [
      "\rMorphologyExtractor create index: 3619059it [00:23, 150386.74it/s]"
     ]
    },
    {
     "name": "stderr",
     "output_type": "stream",
     "text": [
      "\rMorphologyExtractor create index: 3634913it [00:23, 152741.54it/s]"
     ]
    },
    {
     "name": "stderr",
     "output_type": "stream",
     "text": [
      "\rMorphologyExtractor create index: 3650199it [00:24, 149916.51it/s]"
     ]
    },
    {
     "name": "stderr",
     "output_type": "stream",
     "text": [
      "\rMorphologyExtractor create index: 3665348it [00:24, 150384.73it/s]"
     ]
    },
    {
     "name": "stderr",
     "output_type": "stream",
     "text": [
      "\rMorphologyExtractor create index: 3680477it [00:24, 150652.96it/s]"
     ]
    },
    {
     "name": "stderr",
     "output_type": "stream",
     "text": [
      "\rMorphologyExtractor create index: 3695553it [00:24, 150436.88it/s]"
     ]
    },
    {
     "name": "stderr",
     "output_type": "stream",
     "text": [
      "\rMorphologyExtractor create index: 3711453it [00:24, 152907.00it/s]"
     ]
    },
    {
     "name": "stderr",
     "output_type": "stream",
     "text": [
      "\rMorphologyExtractor create index: 3726759it [00:24, 151212.50it/s]"
     ]
    },
    {
     "name": "stderr",
     "output_type": "stream",
     "text": [
      "\rMorphologyExtractor create index: 3741895it [00:24, 150136.95it/s]"
     ]
    },
    {
     "name": "stderr",
     "output_type": "stream",
     "text": [
      "\rMorphologyExtractor create index: 3757374it [00:24, 151500.93it/s]"
     ]
    },
    {
     "name": "stderr",
     "output_type": "stream",
     "text": [
      "\rMorphologyExtractor create index: 3772574it [00:24, 151649.81it/s]"
     ]
    },
    {
     "name": "stderr",
     "output_type": "stream",
     "text": [
      "\rMorphologyExtractor create index: 3787962it [00:24, 152309.72it/s]"
     ]
    },
    {
     "name": "stderr",
     "output_type": "stream",
     "text": [
      "\rMorphologyExtractor create index: 3804089it [00:25, 154890.57it/s]"
     ]
    },
    {
     "name": "stderr",
     "output_type": "stream",
     "text": [
      "\rMorphologyExtractor create index: 3819706it [00:25, 155271.35it/s]"
     ]
    },
    {
     "name": "stderr",
     "output_type": "stream",
     "text": [
      "\rMorphologyExtractor create index: 3835264it [00:25, 155362.42it/s]"
     ]
    },
    {
     "name": "stderr",
     "output_type": "stream",
     "text": [
      "\rMorphologyExtractor create index: 3850808it [00:25, 154826.24it/s]"
     ]
    },
    {
     "name": "stderr",
     "output_type": "stream",
     "text": [
      "\rMorphologyExtractor create index: 3866613it [00:25, 155776.78it/s]"
     ]
    },
    {
     "name": "stderr",
     "output_type": "stream",
     "text": [
      "\rMorphologyExtractor create index: 3882229it [00:25, 155891.48it/s]"
     ]
    },
    {
     "name": "stderr",
     "output_type": "stream",
     "text": [
      "\rMorphologyExtractor create index: 3897822it [00:25, 153935.54it/s]"
     ]
    },
    {
     "name": "stderr",
     "output_type": "stream",
     "text": [
      "\rMorphologyExtractor create index: 3913224it [00:25, 153264.52it/s]"
     ]
    },
    {
     "name": "stderr",
     "output_type": "stream",
     "text": [
      "\rMorphologyExtractor create index: 3928557it [00:25, 151942.11it/s]"
     ]
    },
    {
     "name": "stderr",
     "output_type": "stream",
     "text": [
      "\rMorphologyExtractor create index: 3944380it [00:25, 153774.03it/s]"
     ]
    },
    {
     "name": "stderr",
     "output_type": "stream",
     "text": [
      "\rMorphologyExtractor create index: 3959768it [00:26, 152410.07it/s]"
     ]
    },
    {
     "name": "stderr",
     "output_type": "stream",
     "text": [
      "\rMorphologyExtractor create index: 3975019it [00:26, 151733.02it/s]"
     ]
    },
    {
     "name": "stderr",
     "output_type": "stream",
     "text": [
      "\rMorphologyExtractor create index: 3990668it [00:26, 153124.58it/s]"
     ]
    },
    {
     "name": "stderr",
     "output_type": "stream",
     "text": [
      "\rMorphologyExtractor create index: 4006125it [00:26, 153553.55it/s]"
     ]
    },
    {
     "name": "stderr",
     "output_type": "stream",
     "text": [
      "\rMorphologyExtractor create index: 4021729it [00:26, 154289.20it/s]"
     ]
    },
    {
     "name": "stderr",
     "output_type": "stream",
     "text": [
      "\rMorphologyExtractor create index: 4037164it [00:26, 150060.26it/s]"
     ]
    },
    {
     "name": "stderr",
     "output_type": "stream",
     "text": [
      "\rMorphologyExtractor create index: 4052200it [00:26, 149682.89it/s]"
     ]
    },
    {
     "name": "stderr",
     "output_type": "stream",
     "text": [
      "\rMorphologyExtractor create index: 4067547it [00:26, 150798.34it/s]"
     ]
    },
    {
     "name": "stderr",
     "output_type": "stream",
     "text": [
      "\rMorphologyExtractor create index: 4082776it [00:26, 151241.84it/s]"
     ]
    },
    {
     "name": "stderr",
     "output_type": "stream",
     "text": [
      "\rMorphologyExtractor create index: 4098153it [00:26, 151991.02it/s]"
     ]
    },
    {
     "name": "stderr",
     "output_type": "stream",
     "text": [
      "\rMorphologyExtractor create index: 4113362it [00:27, 151692.14it/s]"
     ]
    },
    {
     "name": "stderr",
     "output_type": "stream",
     "text": [
      "\rMorphologyExtractor create index: 4129032it [00:27, 153158.90it/s]"
     ]
    },
    {
     "name": "stderr",
     "output_type": "stream",
     "text": [
      "\rMorphologyExtractor create index: 4145269it [00:27, 155810.21it/s]"
     ]
    },
    {
     "name": "stderr",
     "output_type": "stream",
     "text": [
      "\rMorphologyExtractor create index: 4160867it [00:27, 155477.45it/s]"
     ]
    },
    {
     "name": "stderr",
     "output_type": "stream",
     "text": [
      "\rMorphologyExtractor create index: 4177164it [00:27, 157651.47it/s]"
     ]
    },
    {
     "name": "stderr",
     "output_type": "stream",
     "text": [
      "\rMorphologyExtractor create index: 4192945it [00:27, 156549.77it/s]"
     ]
    },
    {
     "name": "stderr",
     "output_type": "stream",
     "text": [
      "\rMorphologyExtractor create index: 4208613it [00:27, 155753.93it/s]"
     ]
    },
    {
     "name": "stderr",
     "output_type": "stream",
     "text": [
      "\rMorphologyExtractor create index: 4224199it [00:27, 152858.26it/s]"
     ]
    },
    {
     "name": "stderr",
     "output_type": "stream",
     "text": [
      "\rMorphologyExtractor create index: 4239504it [00:27, 151173.00it/s]"
     ]
    },
    {
     "name": "stderr",
     "output_type": "stream",
     "text": [
      "\rMorphologyExtractor create index: 4254928it [00:28, 152078.11it/s]"
     ]
    },
    {
     "name": "stderr",
     "output_type": "stream",
     "text": [
      "\rMorphologyExtractor create index: 4270150it [00:28, 150411.57it/s]"
     ]
    },
    {
     "name": "stderr",
     "output_type": "stream",
     "text": [
      "\rMorphologyExtractor create index: 4285314it [00:28, 150776.22it/s]"
     ]
    },
    {
     "name": "stderr",
     "output_type": "stream",
     "text": [
      "\rMorphologyExtractor create index: 4300419it [00:28, 150856.89it/s]"
     ]
    },
    {
     "name": "stderr",
     "output_type": "stream",
     "text": [
      "\rMorphologyExtractor create index: 4315512it [00:28, 149343.43it/s]"
     ]
    },
    {
     "name": "stderr",
     "output_type": "stream",
     "text": [
      "\rMorphologyExtractor create index: 4330455it [00:28, 148445.12it/s]"
     ]
    },
    {
     "name": "stderr",
     "output_type": "stream",
     "text": [
      "\rMorphologyExtractor create index: 4345307it [00:28, 147018.35it/s]"
     ]
    },
    {
     "name": "stderr",
     "output_type": "stream",
     "text": [
      "\rMorphologyExtractor create index: 4360562it [00:28, 148634.37it/s]"
     ]
    },
    {
     "name": "stderr",
     "output_type": "stream",
     "text": [
      "\rMorphologyExtractor create index: 4375436it [00:28, 147834.54it/s]"
     ]
    },
    {
     "name": "stderr",
     "output_type": "stream",
     "text": [
      "\rMorphologyExtractor create index: 4390228it [00:28, 147484.19it/s]"
     ]
    },
    {
     "name": "stderr",
     "output_type": "stream",
     "text": [
      "\rMorphologyExtractor create index: 4405321it [00:29, 148499.88it/s]"
     ]
    },
    {
     "name": "stderr",
     "output_type": "stream",
     "text": [
      "\rMorphologyExtractor create index: 4420177it [00:29, 148283.94it/s]"
     ]
    },
    {
     "name": "stderr",
     "output_type": "stream",
     "text": [
      "\rMorphologyExtractor create index: 4435230it [00:29, 148949.89it/s]"
     ]
    },
    {
     "name": "stderr",
     "output_type": "stream",
     "text": [
      "\rMorphologyExtractor create index: 4450129it [00:29, 139009.01it/s]"
     ]
    },
    {
     "name": "stderr",
     "output_type": "stream",
     "text": [
      "\rMorphologyExtractor create index: 4465493it [00:29, 143095.81it/s]"
     ]
    },
    {
     "name": "stderr",
     "output_type": "stream",
     "text": [
      "\rMorphologyExtractor create index: 4481041it [00:29, 146596.81it/s]"
     ]
    },
    {
     "name": "stderr",
     "output_type": "stream",
     "text": [
      "\rMorphologyExtractor create index: 4496837it [00:29, 149829.45it/s]"
     ]
    },
    {
     "name": "stderr",
     "output_type": "stream",
     "text": [
      "\rMorphologyExtractor create index: 4512348it [00:29, 151375.09it/s]"
     ]
    },
    {
     "name": "stderr",
     "output_type": "stream",
     "text": [
      "\rMorphologyExtractor create index: 4528179it [00:29, 153388.20it/s]"
     ]
    },
    {
     "name": "stderr",
     "output_type": "stream",
     "text": [
      "\rMorphologyExtractor create index: 4543802it [00:29, 154229.00it/s]"
     ]
    },
    {
     "name": "stderr",
     "output_type": "stream",
     "text": [
      "\rMorphologyExtractor create index: 4559887it [00:30, 156154.57it/s]"
     ]
    },
    {
     "name": "stderr",
     "output_type": "stream",
     "text": [
      "\rMorphologyExtractor create index: 4575537it [00:30, 156133.09it/s]"
     ]
    },
    {
     "name": "stderr",
     "output_type": "stream",
     "text": [
      "\rMorphologyExtractor create index: 4591174it [00:30, 155359.95it/s]"
     ]
    },
    {
     "name": "stderr",
     "output_type": "stream",
     "text": [
      "\rMorphologyExtractor create index: 4607259it [00:30, 156967.14it/s]"
     ]
    },
    {
     "name": "stderr",
     "output_type": "stream",
     "text": [
      "\rMorphologyExtractor create index: 4623428it [00:30, 158352.93it/s]"
     ]
    },
    {
     "name": "stderr",
     "output_type": "stream",
     "text": [
      "\rMorphologyExtractor create index: 4639278it [00:30, 154968.19it/s]"
     ]
    },
    {
     "name": "stderr",
     "output_type": "stream",
     "text": [
      "\rMorphologyExtractor create index: 4654801it [00:30, 153719.19it/s]"
     ]
    },
    {
     "name": "stderr",
     "output_type": "stream",
     "text": [
      "\rMorphologyExtractor create index: 4670194it [00:30, 153298.13it/s]"
     ]
    },
    {
     "name": "stderr",
     "output_type": "stream",
     "text": [
      "\rMorphologyExtractor create index: 4685539it [00:30, 153025.20it/s]"
     ]
    },
    {
     "name": "stderr",
     "output_type": "stream",
     "text": [
      "\rMorphologyExtractor create index: 4700852it [00:30, 152114.15it/s]"
     ]
    },
    {
     "name": "stderr",
     "output_type": "stream",
     "text": [
      "\rMorphologyExtractor create index: 4716072it [00:31, 151304.58it/s]"
     ]
    },
    {
     "name": "stderr",
     "output_type": "stream",
     "text": [
      "\rMorphologyExtractor create index: 4731920it [00:31, 153385.85it/s]"
     ]
    },
    {
     "name": "stderr",
     "output_type": "stream",
     "text": [
      "\rMorphologyExtractor create index: 4747511it [00:31, 154131.14it/s]"
     ]
    },
    {
     "name": "stderr",
     "output_type": "stream",
     "text": [
      "\rMorphologyExtractor create index: 4762934it [00:31, 151818.63it/s]"
     ]
    },
    {
     "name": "stderr",
     "output_type": "stream",
     "text": [
      "\rMorphologyExtractor create index: 4778131it [00:31, 151801.23it/s]"
     ]
    },
    {
     "name": "stderr",
     "output_type": "stream",
     "text": [
      "\rMorphologyExtractor create index: 4793322it [00:31, 151691.07it/s]"
     ]
    },
    {
     "name": "stderr",
     "output_type": "stream",
     "text": [
      "\rMorphologyExtractor create index: 4808645it [00:31, 152147.27it/s]"
     ]
    },
    {
     "name": "stderr",
     "output_type": "stream",
     "text": [
      "\rMorphologyExtractor create index: 4824608it [00:31, 154316.03it/s]"
     ]
    },
    {
     "name": "stderr",
     "output_type": "stream",
     "text": [
      "\rMorphologyExtractor create index: 4840640it [00:31, 156068.21it/s]"
     ]
    },
    {
     "name": "stderr",
     "output_type": "stream",
     "text": [
      "\rMorphologyExtractor create index: 4856460it [00:31, 156699.29it/s]"
     ]
    },
    {
     "name": "stderr",
     "output_type": "stream",
     "text": [
      "\rMorphologyExtractor create index: 4872466it [00:32, 157689.86it/s]"
     ]
    },
    {
     "name": "stderr",
     "output_type": "stream",
     "text": [
      "\rMorphologyExtractor create index: 4888318it [00:32, 157936.46it/s]"
     ]
    },
    {
     "name": "stderr",
     "output_type": "stream",
     "text": [
      "\rMorphologyExtractor create index: 4904118it [00:32, 155459.31it/s]"
     ]
    },
    {
     "name": "stderr",
     "output_type": "stream",
     "text": [
      "\rMorphologyExtractor create index: 4919677it [00:32, 155059.71it/s]"
     ]
    },
    {
     "name": "stderr",
     "output_type": "stream",
     "text": [
      "\rMorphologyExtractor create index: 4935561it [00:32, 156172.95it/s]"
     ]
    },
    {
     "name": "stderr",
     "output_type": "stream",
     "text": [
      "\rMorphologyExtractor create index: 4951187it [00:32, 155708.81it/s]"
     ]
    },
    {
     "name": "stderr",
     "output_type": "stream",
     "text": [
      "\rMorphologyExtractor create index: 4966765it [00:32, 153939.79it/s]"
     ]
    },
    {
     "name": "stderr",
     "output_type": "stream",
     "text": [
      "\rMorphologyExtractor create index: 4982957it [00:32, 156248.66it/s]"
     ]
    },
    {
     "name": "stderr",
     "output_type": "stream",
     "text": [
      "\rMorphologyExtractor create index: 4998597it [00:32, 155090.20it/s]"
     ]
    },
    {
     "name": "stderr",
     "output_type": "stream",
     "text": [
      "\rMorphologyExtractor create index: 5014262it [00:32, 155554.36it/s]"
     ]
    },
    {
     "name": "stderr",
     "output_type": "stream",
     "text": [
      "\rMorphologyExtractor create index: 5029827it [00:33, 155269.70it/s]"
     ]
    },
    {
     "name": "stderr",
     "output_type": "stream",
     "text": [
      "\rMorphologyExtractor create index: 5045742it [00:33, 156412.83it/s]"
     ]
    },
    {
     "name": "stderr",
     "output_type": "stream",
     "text": [
      "\rMorphologyExtractor create index: 5061652it [00:33, 157208.00it/s]"
     ]
    },
    {
     "name": "stderr",
     "output_type": "stream",
     "text": [
      "\rMorphologyExtractor create index: 5077379it [00:33, 157066.93it/s]"
     ]
    },
    {
     "name": "stderr",
     "output_type": "stream",
     "text": [
      "\rMorphologyExtractor create index: 5093678it [00:33, 158795.43it/s]"
     ]
    },
    {
     "name": "stderr",
     "output_type": "stream",
     "text": [
      "\rMorphologyExtractor create index: 5096053it [00:33, 152094.69it/s]"
     ]
    },
    {
     "name": "stderr",
     "output_type": "stream",
     "text": [
      "\n"
     ]
    },
    {
     "name": "stderr",
     "output_type": "stream",
     "text": [
      "\rMorphologyExtractor create index: 0it [00:00, ?it/s]"
     ]
    },
    {
     "name": "stderr",
     "output_type": "stream",
     "text": [
      "\rMorphologyExtractor create index: 13008it [00:00, 130077.33it/s]"
     ]
    },
    {
     "name": "stderr",
     "output_type": "stream",
     "text": [
      "\rMorphologyExtractor create index: 27244it [00:00, 133531.11it/s]"
     ]
    },
    {
     "name": "stderr",
     "output_type": "stream",
     "text": [
      "\rMorphologyExtractor create index: 41908it [00:00, 137208.65it/s]"
     ]
    },
    {
     "name": "stderr",
     "output_type": "stream",
     "text": [
      "\rMorphologyExtractor create index: 56206it [00:00, 138889.32it/s]"
     ]
    },
    {
     "name": "stderr",
     "output_type": "stream",
     "text": [
      "\rMorphologyExtractor create index: 71507it [00:00, 142842.77it/s]"
     ]
    },
    {
     "name": "stderr",
     "output_type": "stream",
     "text": [
      "\rMorphologyExtractor create index: 86060it [00:00, 143635.56it/s]"
     ]
    },
    {
     "name": "stderr",
     "output_type": "stream",
     "text": [
      "\rMorphologyExtractor create index: 100698it [00:00, 144447.15it/s]"
     ]
    },
    {
     "name": "stderr",
     "output_type": "stream",
     "text": [
      "\rMorphologyExtractor create index: 115096it [00:00, 144304.04it/s]"
     ]
    },
    {
     "name": "stderr",
     "output_type": "stream",
     "text": [
      "\rMorphologyExtractor create index: 128968it [00:00, 142581.28it/s]"
     ]
    },
    {
     "name": "stderr",
     "output_type": "stream",
     "text": [
      "\rMorphologyExtractor create index: 144861it [00:01, 147118.99it/s]"
     ]
    },
    {
     "name": "stderr",
     "output_type": "stream",
     "text": [
      "\rMorphologyExtractor create index: 160430it [00:01, 149586.50it/s]"
     ]
    },
    {
     "name": "stderr",
     "output_type": "stream",
     "text": [
      "\rMorphologyExtractor create index: 176225it [00:01, 152000.57it/s]"
     ]
    },
    {
     "name": "stderr",
     "output_type": "stream",
     "text": [
      "\rMorphologyExtractor create index: 191622it [00:01, 152583.43it/s]"
     ]
    },
    {
     "name": "stderr",
     "output_type": "stream",
     "text": [
      "\rMorphologyExtractor create index: 206986it [00:01, 152898.80it/s]"
     ]
    },
    {
     "name": "stderr",
     "output_type": "stream",
     "text": [
      "\rMorphologyExtractor create index: 223213it [00:01, 155594.02it/s]"
     ]
    },
    {
     "name": "stderr",
     "output_type": "stream",
     "text": [
      "\rMorphologyExtractor create index: 238977it [00:01, 156197.06it/s]"
     ]
    },
    {
     "name": "stderr",
     "output_type": "stream",
     "text": [
      "\rMorphologyExtractor create index: 254573it [00:01, 155135.85it/s]"
     ]
    },
    {
     "name": "stderr",
     "output_type": "stream",
     "text": [
      "\rMorphologyExtractor create index: 270072it [00:01, 154573.25it/s]"
     ]
    },
    {
     "name": "stderr",
     "output_type": "stream",
     "text": [
      "\rMorphologyExtractor create index: 285519it [00:01, 154315.71it/s]"
     ]
    },
    {
     "name": "stderr",
     "output_type": "stream",
     "text": [
      "\rMorphologyExtractor create index: 300944it [00:02, 153989.97it/s]"
     ]
    },
    {
     "name": "stderr",
     "output_type": "stream",
     "text": [
      "\rMorphologyExtractor create index: 316878it [00:02, 155555.50it/s]"
     ]
    },
    {
     "name": "stderr",
     "output_type": "stream",
     "text": [
      "\rMorphologyExtractor create index: 333287it [00:02, 158019.24it/s]"
     ]
    },
    {
     "name": "stderr",
     "output_type": "stream",
     "text": [
      "\rMorphologyExtractor create index: 349185it [00:02, 158303.36it/s]"
     ]
    },
    {
     "name": "stderr",
     "output_type": "stream",
     "text": [
      "\rMorphologyExtractor create index: 365023it [00:02, 156259.76it/s]"
     ]
    },
    {
     "name": "stderr",
     "output_type": "stream",
     "text": [
      "\rMorphologyExtractor create index: 380660it [00:02, 154924.25it/s]"
     ]
    },
    {
     "name": "stderr",
     "output_type": "stream",
     "text": [
      "\rMorphologyExtractor create index: 396501it [00:02, 155952.82it/s]"
     ]
    },
    {
     "name": "stderr",
     "output_type": "stream",
     "text": [
      "\rMorphologyExtractor create index: 412106it [00:02, 155203.39it/s]"
     ]
    },
    {
     "name": "stderr",
     "output_type": "stream",
     "text": [
      "\rMorphologyExtractor create index: 428014it [00:02, 156345.00it/s]"
     ]
    },
    {
     "name": "stderr",
     "output_type": "stream",
     "text": [
      "\rMorphologyExtractor create index: 443833it [00:02, 156891.23it/s]"
     ]
    },
    {
     "name": "stderr",
     "output_type": "stream",
     "text": [
      "\rMorphologyExtractor create index: 459561it [00:03, 157004.90it/s]"
     ]
    },
    {
     "name": "stderr",
     "output_type": "stream",
     "text": [
      "\rMorphologyExtractor create index: 475266it [00:03, 151053.70it/s]"
     ]
    },
    {
     "name": "stderr",
     "output_type": "stream",
     "text": [
      "\rMorphologyExtractor create index: 490423it [00:03, 148805.62it/s]"
     ]
    },
    {
     "name": "stderr",
     "output_type": "stream",
     "text": [
      "\rMorphologyExtractor create index: 505347it [00:03, 148826.08it/s]"
     ]
    },
    {
     "name": "stderr",
     "output_type": "stream",
     "text": [
      "\rMorphologyExtractor create index: 520260it [00:03, 147581.54it/s]"
     ]
    },
    {
     "name": "stderr",
     "output_type": "stream",
     "text": [
      "\rMorphologyExtractor create index: 535599it [00:03, 149275.53it/s]"
     ]
    },
    {
     "name": "stderr",
     "output_type": "stream",
     "text": [
      "\rMorphologyExtractor create index: 551230it [00:03, 151316.32it/s]"
     ]
    },
    {
     "name": "stderr",
     "output_type": "stream",
     "text": [
      "\rMorphologyExtractor create index: 566562it [00:03, 151909.69it/s]"
     ]
    },
    {
     "name": "stderr",
     "output_type": "stream",
     "text": [
      "\rMorphologyExtractor create index: 582288it [00:03, 153474.38it/s]"
     ]
    },
    {
     "name": "stderr",
     "output_type": "stream",
     "text": [
      "\rMorphologyExtractor create index: 597651it [00:03, 152436.66it/s]"
     ]
    },
    {
     "name": "stderr",
     "output_type": "stream",
     "text": [
      "\rMorphologyExtractor create index: 612907it [00:04, 150651.94it/s]"
     ]
    },
    {
     "name": "stderr",
     "output_type": "stream",
     "text": [
      "\rMorphologyExtractor create index: 627986it [00:04, 150063.94it/s]"
     ]
    },
    {
     "name": "stderr",
     "output_type": "stream",
     "text": [
      "\rMorphologyExtractor create index: 643088it [00:04, 150348.67it/s]"
     ]
    },
    {
     "name": "stderr",
     "output_type": "stream",
     "text": [
      "\rMorphologyExtractor create index: 658130it [00:04, 148467.87it/s]"
     ]
    },
    {
     "name": "stderr",
     "output_type": "stream",
     "text": [
      "\rMorphologyExtractor create index: 673459it [00:04, 149881.14it/s]"
     ]
    },
    {
     "name": "stderr",
     "output_type": "stream",
     "text": [
      "\rMorphologyExtractor create index: 688512it [00:04, 150073.43it/s]"
     ]
    },
    {
     "name": "stderr",
     "output_type": "stream",
     "text": [
      "\rMorphologyExtractor create index: 703527it [00:04, 146802.36it/s]"
     ]
    },
    {
     "name": "stderr",
     "output_type": "stream",
     "text": [
      "\rMorphologyExtractor create index: 718317it [00:04, 147128.09it/s]"
     ]
    },
    {
     "name": "stderr",
     "output_type": "stream",
     "text": [
      "\rMorphologyExtractor create index: 733237it [00:04, 147743.12it/s]"
     ]
    },
    {
     "name": "stderr",
     "output_type": "stream",
     "text": [
      "\rMorphologyExtractor create index: 748520it [00:04, 149232.89it/s]"
     ]
    },
    {
     "name": "stderr",
     "output_type": "stream",
     "text": [
      "\rMorphologyExtractor create index: 763506it [00:05, 149420.41it/s]"
     ]
    },
    {
     "name": "stderr",
     "output_type": "stream",
     "text": [
      "\rMorphologyExtractor create index: 778851it [00:05, 150603.86it/s]"
     ]
    },
    {
     "name": "stderr",
     "output_type": "stream",
     "text": [
      "\rMorphologyExtractor create index: 794118it [00:05, 151217.74it/s]"
     ]
    },
    {
     "name": "stderr",
     "output_type": "stream",
     "text": [
      "\rMorphologyExtractor create index: 809298it [00:05, 151391.56it/s]"
     ]
    },
    {
     "name": "stderr",
     "output_type": "stream",
     "text": [
      "\rMorphologyExtractor create index: 824983it [00:05, 152986.16it/s]"
     ]
    },
    {
     "name": "stderr",
     "output_type": "stream",
     "text": [
      "\rMorphologyExtractor create index: 840410it [00:05, 153366.71it/s]"
     ]
    },
    {
     "name": "stderr",
     "output_type": "stream",
     "text": [
      "\rMorphologyExtractor create index: 855752it [00:05, 153055.92it/s]"
     ]
    },
    {
     "name": "stderr",
     "output_type": "stream",
     "text": [
      "\rMorphologyExtractor create index: 871062it [00:05, 152239.39it/s]"
     ]
    },
    {
     "name": "stderr",
     "output_type": "stream",
     "text": [
      "\rMorphologyExtractor create index: 886828it [00:05, 153824.68it/s]"
     ]
    },
    {
     "name": "stderr",
     "output_type": "stream",
     "text": [
      "\rMorphologyExtractor create index: 902217it [00:05, 152661.13it/s]"
     ]
    },
    {
     "name": "stderr",
     "output_type": "stream",
     "text": [
      "\rMorphologyExtractor create index: 917490it [00:06, 149267.51it/s]"
     ]
    },
    {
     "name": "stderr",
     "output_type": "stream",
     "text": [
      "\rMorphologyExtractor create index: 933236it [00:06, 151633.01it/s]"
     ]
    },
    {
     "name": "stderr",
     "output_type": "stream",
     "text": [
      "\rMorphologyExtractor create index: 948809it [00:06, 152837.51it/s]"
     ]
    },
    {
     "name": "stderr",
     "output_type": "stream",
     "text": [
      "\rMorphologyExtractor create index: 964769it [00:06, 154803.10it/s]"
     ]
    },
    {
     "name": "stderr",
     "output_type": "stream",
     "text": [
      "\rMorphologyExtractor create index: 980269it [00:06, 151885.76it/s]"
     ]
    },
    {
     "name": "stderr",
     "output_type": "stream",
     "text": [
      "\rMorphologyExtractor create index: 995878it [00:06, 153121.17it/s]"
     ]
    },
    {
     "name": "stderr",
     "output_type": "stream",
     "text": [
      "\rMorphologyExtractor create index: 1011693it [00:06, 154593.26it/s]"
     ]
    },
    {
     "name": "stderr",
     "output_type": "stream",
     "text": [
      "\rMorphologyExtractor create index: 1027171it [00:06, 154316.55it/s]"
     ]
    },
    {
     "name": "stderr",
     "output_type": "stream",
     "text": [
      "\rMorphologyExtractor create index: 1043125it [00:06, 155845.18it/s]"
     ]
    },
    {
     "name": "stderr",
     "output_type": "stream",
     "text": [
      "\rMorphologyExtractor create index: 1058748it [00:06, 155959.47it/s]"
     ]
    },
    {
     "name": "stderr",
     "output_type": "stream",
     "text": [
      "\rMorphologyExtractor create index: 1074353it [00:07, 153191.33it/s]"
     ]
    },
    {
     "name": "stderr",
     "output_type": "stream",
     "text": [
      "\rMorphologyExtractor create index: 1089690it [00:07, 152615.38it/s]"
     ]
    },
    {
     "name": "stderr",
     "output_type": "stream",
     "text": [
      "\rMorphologyExtractor create index: 1104965it [00:07, 152071.18it/s]"
     ]
    },
    {
     "name": "stderr",
     "output_type": "stream",
     "text": [
      "\rMorphologyExtractor create index: 1120404it [00:07, 152759.41it/s]"
     ]
    },
    {
     "name": "stderr",
     "output_type": "stream",
     "text": [
      "\rMorphologyExtractor create index: 1135688it [00:07, 149913.59it/s]"
     ]
    },
    {
     "name": "stderr",
     "output_type": "stream",
     "text": [
      "\rMorphologyExtractor create index: 1150697it [00:07, 149472.24it/s]"
     ]
    },
    {
     "name": "stderr",
     "output_type": "stream",
     "text": [
      "\rMorphologyExtractor create index: 1165984it [00:07, 150474.69it/s]"
     ]
    },
    {
     "name": "stderr",
     "output_type": "stream",
     "text": [
      "\rMorphologyExtractor create index: 1181395it [00:07, 151546.76it/s]"
     ]
    },
    {
     "name": "stderr",
     "output_type": "stream",
     "text": [
      "\rMorphologyExtractor create index: 1197286it [00:07, 153682.16it/s]"
     ]
    },
    {
     "name": "stderr",
     "output_type": "stream",
     "text": [
      "\rMorphologyExtractor create index: 1212668it [00:08, 149324.01it/s]"
     ]
    },
    {
     "name": "stderr",
     "output_type": "stream",
     "text": [
      "\rMorphologyExtractor create index: 1227965it [00:08, 150396.82it/s]"
     ]
    },
    {
     "name": "stderr",
     "output_type": "stream",
     "text": [
      "\rMorphologyExtractor create index: 1243033it [00:08, 149589.69it/s]"
     ]
    },
    {
     "name": "stderr",
     "output_type": "stream",
     "text": [
      "\rMorphologyExtractor create index: 1258013it [00:08, 148185.81it/s]"
     ]
    },
    {
     "name": "stderr",
     "output_type": "stream",
     "text": [
      "\rMorphologyExtractor create index: 1272849it [00:08, 146996.75it/s]"
     ]
    },
    {
     "name": "stderr",
     "output_type": "stream",
     "text": [
      "\rMorphologyExtractor create index: 1287959it [00:08, 148200.64it/s]"
     ]
    },
    {
     "name": "stderr",
     "output_type": "stream",
     "text": [
      "\rMorphologyExtractor create index: 1302792it [00:08, 147553.36it/s]"
     ]
    },
    {
     "name": "stderr",
     "output_type": "stream",
     "text": [
      "\rMorphologyExtractor create index: 1317967it [00:08, 148785.10it/s]"
     ]
    },
    {
     "name": "stderr",
     "output_type": "stream",
     "text": [
      "\rMorphologyExtractor create index: 1332855it [00:08, 146911.78it/s]"
     ]
    },
    {
     "name": "stderr",
     "output_type": "stream",
     "text": [
      "\rMorphologyExtractor create index: 1347704it [00:08, 147379.55it/s]"
     ]
    },
    {
     "name": "stderr",
     "output_type": "stream",
     "text": [
      "\rMorphologyExtractor create index: 1362451it [00:09, 147215.37it/s]"
     ]
    },
    {
     "name": "stderr",
     "output_type": "stream",
     "text": [
      "\rMorphologyExtractor create index: 1377386it [00:09, 147847.17it/s]"
     ]
    },
    {
     "name": "stderr",
     "output_type": "stream",
     "text": [
      "\rMorphologyExtractor create index: 1392509it [00:09, 148839.88it/s]"
     ]
    },
    {
     "name": "stderr",
     "output_type": "stream",
     "text": [
      "\rMorphologyExtractor create index: 1407398it [00:09, 147177.46it/s]"
     ]
    },
    {
     "name": "stderr",
     "output_type": "stream",
     "text": [
      "\rMorphologyExtractor create index: 1422124it [00:09, 146643.21it/s]"
     ]
    },
    {
     "name": "stderr",
     "output_type": "stream",
     "text": [
      "\rMorphologyExtractor create index: 1436925it [00:09, 147048.86it/s]"
     ]
    },
    {
     "name": "stderr",
     "output_type": "stream",
     "text": [
      "\rMorphologyExtractor create index: 1452515it [00:09, 149596.78it/s]"
     ]
    },
    {
     "name": "stderr",
     "output_type": "stream",
     "text": [
      "\rMorphologyExtractor create index: 1468305it [00:09, 151991.59it/s]"
     ]
    },
    {
     "name": "stderr",
     "output_type": "stream",
     "text": [
      "\rMorphologyExtractor create index: 1483524it [00:09, 149432.63it/s]"
     ]
    },
    {
     "name": "stderr",
     "output_type": "stream",
     "text": [
      "\rMorphologyExtractor create index: 1498491it [00:09, 149293.89it/s]"
     ]
    },
    {
     "name": "stderr",
     "output_type": "stream",
     "text": [
      "\rMorphologyExtractor create index: 1513437it [00:10, 147897.93it/s]"
     ]
    },
    {
     "name": "stderr",
     "output_type": "stream",
     "text": [
      "\rMorphologyExtractor create index: 1528242it [00:10, 146315.70it/s]"
     ]
    },
    {
     "name": "stderr",
     "output_type": "stream",
     "text": [
      "\rMorphologyExtractor create index: 1542953it [00:10, 146552.19it/s]"
     ]
    },
    {
     "name": "stderr",
     "output_type": "stream",
     "text": [
      "\rMorphologyExtractor create index: 1558525it [00:10, 149185.04it/s]"
     ]
    },
    {
     "name": "stderr",
     "output_type": "stream",
     "text": [
      "\rMorphologyExtractor create index: 1573462it [00:10, 148503.37it/s]"
     ]
    },
    {
     "name": "stderr",
     "output_type": "stream",
     "text": [
      "\rMorphologyExtractor create index: 1588686it [00:10, 149602.79it/s]"
     ]
    },
    {
     "name": "stderr",
     "output_type": "stream",
     "text": [
      "\rMorphologyExtractor create index: 1603984it [00:10, 150598.43it/s]"
     ]
    },
    {
     "name": "stderr",
     "output_type": "stream",
     "text": [
      "\rMorphologyExtractor create index: 1619054it [00:10, 150365.56it/s]"
     ]
    },
    {
     "name": "stderr",
     "output_type": "stream",
     "text": [
      "\rMorphologyExtractor create index: 1634098it [00:10, 139659.79it/s]"
     ]
    },
    {
     "name": "stderr",
     "output_type": "stream",
     "text": [
      "\rMorphologyExtractor create index: 1649499it [00:10, 143673.44it/s]"
     ]
    },
    {
     "name": "stderr",
     "output_type": "stream",
     "text": [
      "\rMorphologyExtractor create index: 1665150it [00:11, 147296.49it/s]"
     ]
    },
    {
     "name": "stderr",
     "output_type": "stream",
     "text": [
      "\rMorphologyExtractor create index: 1680000it [00:11, 146837.74it/s]"
     ]
    },
    {
     "name": "stderr",
     "output_type": "stream",
     "text": [
      "\rMorphologyExtractor create index: 1695569it [00:11, 149384.08it/s]"
     ]
    },
    {
     "name": "stderr",
     "output_type": "stream",
     "text": [
      "\rMorphologyExtractor create index: 1710578it [00:11, 148665.20it/s]"
     ]
    },
    {
     "name": "stderr",
     "output_type": "stream",
     "text": [
      "\rMorphologyExtractor create index: 1725495it [00:11, 148749.99it/s]"
     ]
    },
    {
     "name": "stderr",
     "output_type": "stream",
     "text": [
      "\rMorphologyExtractor create index: 1740405it [00:11, 148128.18it/s]"
     ]
    },
    {
     "name": "stderr",
     "output_type": "stream",
     "text": [
      "\rMorphologyExtractor create index: 1755957it [00:11, 150266.98it/s]"
     ]
    },
    {
     "name": "stderr",
     "output_type": "stream",
     "text": [
      "\rMorphologyExtractor create index: 1771541it [00:11, 151894.29it/s]"
     ]
    },
    {
     "name": "stderr",
     "output_type": "stream",
     "text": [
      "\rMorphologyExtractor create index: 1786861it [00:11, 152283.60it/s]"
     ]
    },
    {
     "name": "stderr",
     "output_type": "stream",
     "text": [
      "\rMorphologyExtractor create index: 1802213it [00:11, 152650.08it/s]"
     ]
    },
    {
     "name": "stderr",
     "output_type": "stream",
     "text": [
      "\rMorphologyExtractor create index: 1817489it [00:12, 150037.69it/s]"
     ]
    },
    {
     "name": "stderr",
     "output_type": "stream",
     "text": [
      "\rMorphologyExtractor create index: 1832511it [00:12, 147405.61it/s]"
     ]
    },
    {
     "name": "stderr",
     "output_type": "stream",
     "text": [
      "\rMorphologyExtractor create index: 1848047it [00:12, 149704.69it/s]"
     ]
    },
    {
     "name": "stderr",
     "output_type": "stream",
     "text": [
      "\rMorphologyExtractor create index: 1863786it [00:12, 151927.62it/s]"
     ]
    },
    {
     "name": "stderr",
     "output_type": "stream",
     "text": [
      "\rMorphologyExtractor create index: 1879771it [00:12, 154219.83it/s]"
     ]
    },
    {
     "name": "stderr",
     "output_type": "stream",
     "text": [
      "\rMorphologyExtractor create index: 1895219it [00:12, 152656.48it/s]"
     ]
    },
    {
     "name": "stderr",
     "output_type": "stream",
     "text": [
      "\rMorphologyExtractor create index: 1910507it [00:12, 152019.21it/s]"
     ]
    },
    {
     "name": "stderr",
     "output_type": "stream",
     "text": [
      "\rMorphologyExtractor create index: 1925725it [00:12, 152001.95it/s]"
     ]
    },
    {
     "name": "stderr",
     "output_type": "stream",
     "text": [
      "\rMorphologyExtractor create index: 1941389it [00:12, 153362.48it/s]"
     ]
    },
    {
     "name": "stderr",
     "output_type": "stream",
     "text": [
      "\rMorphologyExtractor create index: 1957666it [00:12, 156066.34it/s]"
     ]
    },
    {
     "name": "stderr",
     "output_type": "stream",
     "text": [
      "\rMorphologyExtractor create index: 1973328it [00:13, 156231.51it/s]"
     ]
    },
    {
     "name": "stderr",
     "output_type": "stream",
     "text": [
      "\rMorphologyExtractor create index: 1989298it [00:13, 157253.30it/s]"
     ]
    },
    {
     "name": "stderr",
     "output_type": "stream",
     "text": [
      "\rMorphologyExtractor create index: 2005355it [00:13, 158232.54it/s]"
     ]
    },
    {
     "name": "stderr",
     "output_type": "stream",
     "text": [
      "\rMorphologyExtractor create index: 2021188it [00:13, 157138.35it/s]"
     ]
    },
    {
     "name": "stderr",
     "output_type": "stream",
     "text": [
      "\rMorphologyExtractor create index: 2036910it [00:13, 154836.59it/s]"
     ]
    },
    {
     "name": "stderr",
     "output_type": "stream",
     "text": [
      "\rMorphologyExtractor create index: 2052407it [00:13, 153673.67it/s]"
     ]
    },
    {
     "name": "stderr",
     "output_type": "stream",
     "text": [
      "\rMorphologyExtractor create index: 2067869it [00:13, 153953.65it/s]"
     ]
    },
    {
     "name": "stderr",
     "output_type": "stream",
     "text": [
      "\rMorphologyExtractor create index: 2083273it [00:13, 153093.96it/s]"
     ]
    },
    {
     "name": "stderr",
     "output_type": "stream",
     "text": [
      "\rMorphologyExtractor create index: 2098590it [00:13, 152399.16it/s]"
     ]
    },
    {
     "name": "stderr",
     "output_type": "stream",
     "text": [
      "\rMorphologyExtractor create index: 2113836it [00:14, 150556.92it/s]"
     ]
    },
    {
     "name": "stderr",
     "output_type": "stream",
     "text": [
      "\rMorphologyExtractor create index: 2128901it [00:14, 149886.40it/s]"
     ]
    },
    {
     "name": "stderr",
     "output_type": "stream",
     "text": [
      "\rMorphologyExtractor create index: 2143897it [00:14, 149429.96it/s]"
     ]
    },
    {
     "name": "stderr",
     "output_type": "stream",
     "text": [
      "\rMorphologyExtractor create index: 2158846it [00:14, 148832.35it/s]"
     ]
    },
    {
     "name": "stderr",
     "output_type": "stream",
     "text": [
      "\rMorphologyExtractor create index: 2174351it [00:14, 150642.07it/s]"
     ]
    },
    {
     "name": "stderr",
     "output_type": "stream",
     "text": [
      "\rMorphologyExtractor create index: 2189660it [00:14, 151366.84it/s]"
     ]
    },
    {
     "name": "stderr",
     "output_type": "stream",
     "text": [
      "\rMorphologyExtractor create index: 2204804it [00:14, 150487.99it/s]"
     ]
    },
    {
     "name": "stderr",
     "output_type": "stream",
     "text": [
      "\rMorphologyExtractor create index: 2219859it [00:14, 150217.05it/s]"
     ]
    },
    {
     "name": "stderr",
     "output_type": "stream",
     "text": [
      "\rMorphologyExtractor create index: 2235301it [00:14, 151453.22it/s]"
     ]
    },
    {
     "name": "stderr",
     "output_type": "stream",
     "text": [
      "\rMorphologyExtractor create index: 2250518it [00:14, 151666.18it/s]"
     ]
    },
    {
     "name": "stderr",
     "output_type": "stream",
     "text": [
      "\rMorphologyExtractor create index: 2265689it [00:15, 150963.84it/s]"
     ]
    },
    {
     "name": "stderr",
     "output_type": "stream",
     "text": [
      "\rMorphologyExtractor create index: 2281574it [00:15, 153244.36it/s]"
     ]
    },
    {
     "name": "stderr",
     "output_type": "stream",
     "text": [
      "\rMorphologyExtractor create index: 2296910it [00:15, 152190.78it/s]"
     ]
    },
    {
     "name": "stderr",
     "output_type": "stream",
     "text": [
      "\rMorphologyExtractor create index: 2313117it [00:15, 155023.43it/s]"
     ]
    },
    {
     "name": "stderr",
     "output_type": "stream",
     "text": [
      "\rMorphologyExtractor create index: 2328639it [00:15, 154295.34it/s]"
     ]
    },
    {
     "name": "stderr",
     "output_type": "stream",
     "text": [
      "\rMorphologyExtractor create index: 2344083it [00:15, 154184.24it/s]"
     ]
    },
    {
     "name": "stderr",
     "output_type": "stream",
     "text": [
      "\rMorphologyExtractor create index: 2359989it [00:15, 155613.59it/s]"
     ]
    },
    {
     "name": "stderr",
     "output_type": "stream",
     "text": [
      "\rMorphologyExtractor create index: 2375561it [00:15, 155563.80it/s]"
     ]
    },
    {
     "name": "stderr",
     "output_type": "stream",
     "text": [
      "\rMorphologyExtractor create index: 2391125it [00:15, 155478.97it/s]"
     ]
    },
    {
     "name": "stderr",
     "output_type": "stream",
     "text": [
      "\rMorphologyExtractor create index: 2406678it [00:15, 148920.78it/s]"
     ]
    },
    {
     "name": "stderr",
     "output_type": "stream",
     "text": [
      "\rMorphologyExtractor create index: 2422260it [00:16, 150925.47it/s]"
     ]
    },
    {
     "name": "stderr",
     "output_type": "stream",
     "text": [
      "\rMorphologyExtractor create index: 2437447it [00:16, 151204.95it/s]"
     ]
    },
    {
     "name": "stderr",
     "output_type": "stream",
     "text": [
      "\rMorphologyExtractor create index: 2453080it [00:16, 152705.91it/s]"
     ]
    },
    {
     "name": "stderr",
     "output_type": "stream",
     "text": [
      "\rMorphologyExtractor create index: 2468379it [00:16, 149330.25it/s]"
     ]
    },
    {
     "name": "stderr",
     "output_type": "stream",
     "text": [
      "\rMorphologyExtractor create index: 2483349it [00:16, 146944.43it/s]"
     ]
    },
    {
     "name": "stderr",
     "output_type": "stream",
     "text": [
      "\rMorphologyExtractor create index: 2498078it [00:16, 146417.83it/s]"
     ]
    },
    {
     "name": "stderr",
     "output_type": "stream",
     "text": [
      "\rMorphologyExtractor create index: 2512745it [00:16, 144455.98it/s]"
     ]
    },
    {
     "name": "stderr",
     "output_type": "stream",
     "text": [
      "\rMorphologyExtractor create index: 2527214it [00:16, 142670.61it/s]"
     ]
    },
    {
     "name": "stderr",
     "output_type": "stream",
     "text": [
      "\rMorphologyExtractor create index: 2541503it [00:16, 141618.11it/s]"
     ]
    },
    {
     "name": "stderr",
     "output_type": "stream",
     "text": [
      "\rMorphologyExtractor create index: 2555871it [00:16, 142228.76it/s]"
     ]
    },
    {
     "name": "stderr",
     "output_type": "stream",
     "text": [
      "\rMorphologyExtractor create index: 2570107it [00:17, 141996.94it/s]"
     ]
    },
    {
     "name": "stderr",
     "output_type": "stream",
     "text": [
      "\rMorphologyExtractor create index: 2584316it [00:17, 140901.80it/s]"
     ]
    },
    {
     "name": "stderr",
     "output_type": "stream",
     "text": [
      "\rMorphologyExtractor create index: 2598415it [00:17, 140201.78it/s]"
     ]
    },
    {
     "name": "stderr",
     "output_type": "stream",
     "text": [
      "\rMorphologyExtractor create index: 2612519it [00:17, 140448.93it/s]"
     ]
    },
    {
     "name": "stderr",
     "output_type": "stream",
     "text": [
      "\rMorphologyExtractor create index: 2626587it [00:17, 140517.71it/s]"
     ]
    },
    {
     "name": "stderr",
     "output_type": "stream",
     "text": [
      "\rMorphologyExtractor create index: 2640642it [00:17, 139385.99it/s]"
     ]
    },
    {
     "name": "stderr",
     "output_type": "stream",
     "text": [
      "\rMorphologyExtractor create index: 2654585it [00:17, 139252.15it/s]"
     ]
    },
    {
     "name": "stderr",
     "output_type": "stream",
     "text": [
      "\rMorphologyExtractor create index: 2669553it [00:17, 142223.09it/s]"
     ]
    },
    {
     "name": "stderr",
     "output_type": "stream",
     "text": [
      "\rMorphologyExtractor create index: 2684404it [00:17, 144051.19it/s]"
     ]
    },
    {
     "name": "stderr",
     "output_type": "stream",
     "text": [
      "\rMorphologyExtractor create index: 2699423it [00:17, 145839.12it/s]"
     ]
    },
    {
     "name": "stderr",
     "output_type": "stream",
     "text": [
      "\rMorphologyExtractor create index: 2714025it [00:18, 132089.07it/s]"
     ]
    },
    {
     "name": "stderr",
     "output_type": "stream",
     "text": [
      "\rMorphologyExtractor create index: 2728650it [00:18, 136038.93it/s]"
     ]
    },
    {
     "name": "stderr",
     "output_type": "stream",
     "text": [
      "\rMorphologyExtractor create index: 2743511it [00:18, 139579.94it/s]"
     ]
    },
    {
     "name": "stderr",
     "output_type": "stream",
     "text": [
      "\rMorphologyExtractor create index: 2758700it [00:18, 143057.39it/s]"
     ]
    },
    {
     "name": "stderr",
     "output_type": "stream",
     "text": [
      "\rMorphologyExtractor create index: 2773148it [00:18, 142517.04it/s]"
     ]
    },
    {
     "name": "stderr",
     "output_type": "stream",
     "text": [
      "\rMorphologyExtractor create index: 2787984it [00:18, 144218.16it/s]"
     ]
    },
    {
     "name": "stderr",
     "output_type": "stream",
     "text": [
      "\rMorphologyExtractor create index: 2803136it [00:18, 146331.95it/s]"
     ]
    },
    {
     "name": "stderr",
     "output_type": "stream",
     "text": [
      "\rMorphologyExtractor create index: 2817829it [00:18, 141633.77it/s]"
     ]
    },
    {
     "name": "stderr",
     "output_type": "stream",
     "text": [
      "\rMorphologyExtractor create index: 2832067it [00:18, 140305.88it/s]"
     ]
    },
    {
     "name": "stderr",
     "output_type": "stream",
     "text": [
      "\rMorphologyExtractor create index: 2846153it [00:19, 135104.39it/s]"
     ]
    },
    {
     "name": "stderr",
     "output_type": "stream",
     "text": [
      "\rMorphologyExtractor create index: 2859764it [00:19, 135402.14it/s]"
     ]
    },
    {
     "name": "stderr",
     "output_type": "stream",
     "text": [
      "\rMorphologyExtractor create index: 2873727it [00:19, 136642.55it/s]"
     ]
    },
    {
     "name": "stderr",
     "output_type": "stream",
     "text": [
      "\rMorphologyExtractor create index: 2887434it [00:19, 136719.31it/s]"
     ]
    },
    {
     "name": "stderr",
     "output_type": "stream",
     "text": [
      "\rMorphologyExtractor create index: 2901136it [00:19, 134407.04it/s]"
     ]
    },
    {
     "name": "stderr",
     "output_type": "stream",
     "text": [
      "\rMorphologyExtractor create index: 2915052it [00:19, 135797.29it/s]"
     ]
    },
    {
     "name": "stderr",
     "output_type": "stream",
     "text": [
      "\rMorphologyExtractor create index: 2930515it [00:19, 140945.64it/s]"
     ]
    },
    {
     "name": "stderr",
     "output_type": "stream",
     "text": [
      "\rMorphologyExtractor create index: 2944783it [00:19, 141461.44it/s]"
     ]
    },
    {
     "name": "stderr",
     "output_type": "stream",
     "text": [
      "\rMorphologyExtractor create index: 2959583it [00:19, 143359.89it/s]"
     ]
    },
    {
     "name": "stderr",
     "output_type": "stream",
     "text": [
      "\rMorphologyExtractor create index: 2974300it [00:19, 144481.17it/s]"
     ]
    },
    {
     "name": "stderr",
     "output_type": "stream",
     "text": [
      "\rMorphologyExtractor create index: 2989045it [00:20, 145358.82it/s]"
     ]
    },
    {
     "name": "stderr",
     "output_type": "stream",
     "text": [
      "\rMorphologyExtractor create index: 3003603it [00:20, 143447.25it/s]"
     ]
    },
    {
     "name": "stderr",
     "output_type": "stream",
     "text": [
      "\rMorphologyExtractor create index: 3018976it [00:20, 146383.12it/s]"
     ]
    },
    {
     "name": "stderr",
     "output_type": "stream",
     "text": [
      "\rMorphologyExtractor create index: 3034010it [00:20, 147547.67it/s]"
     ]
    },
    {
     "name": "stderr",
     "output_type": "stream",
     "text": [
      "\rMorphologyExtractor create index: 3049408it [00:20, 149419.75it/s]"
     ]
    },
    {
     "name": "stderr",
     "output_type": "stream",
     "text": [
      "\rMorphologyExtractor create index: 3064372it [00:20, 146003.62it/s]"
     ]
    },
    {
     "name": "stderr",
     "output_type": "stream",
     "text": [
      "\rMorphologyExtractor create index: 3079239it [00:20, 146791.82it/s]"
     ]
    },
    {
     "name": "stderr",
     "output_type": "stream",
     "text": [
      "\rMorphologyExtractor create index: 3094380it [00:20, 148146.94it/s]"
     ]
    },
    {
     "name": "stderr",
     "output_type": "stream",
     "text": [
      "\rMorphologyExtractor create index: 3109440it [00:20, 148872.58it/s]"
     ]
    },
    {
     "name": "stderr",
     "output_type": "stream",
     "text": [
      "\rMorphologyExtractor create index: 3124342it [00:20, 147942.81it/s]"
     ]
    },
    {
     "name": "stderr",
     "output_type": "stream",
     "text": [
      "\rMorphologyExtractor create index: 3139148it [00:21, 145722.58it/s]"
     ]
    },
    {
     "name": "stderr",
     "output_type": "stream",
     "text": [
      "\rMorphologyExtractor create index: 3153736it [00:21, 144590.38it/s]"
     ]
    },
    {
     "name": "stderr",
     "output_type": "stream",
     "text": [
      "\rMorphologyExtractor create index: 3168882it [00:21, 146582.44it/s]"
     ]
    },
    {
     "name": "stderr",
     "output_type": "stream",
     "text": [
      "\rMorphologyExtractor create index: 3183556it [00:21, 146613.26it/s]"
     ]
    },
    {
     "name": "stderr",
     "output_type": "stream",
     "text": [
      "\rMorphologyExtractor create index: 3198229it [00:21, 146180.15it/s]"
     ]
    },
    {
     "name": "stderr",
     "output_type": "stream",
     "text": [
      "\rMorphologyExtractor create index: 3213586it [00:21, 148318.20it/s]"
     ]
    },
    {
     "name": "stderr",
     "output_type": "stream",
     "text": [
      "\rMorphologyExtractor create index: 3229222it [00:21, 150642.15it/s]"
     ]
    },
    {
     "name": "stderr",
     "output_type": "stream",
     "text": [
      "\rMorphologyExtractor create index: 3244305it [00:21, 150151.90it/s]"
     ]
    },
    {
     "name": "stderr",
     "output_type": "stream",
     "text": [
      "\rMorphologyExtractor create index: 3259436it [00:21, 150496.11it/s]"
     ]
    },
    {
     "name": "stderr",
     "output_type": "stream",
     "text": [
      "\rMorphologyExtractor create index: 3274495it [00:21, 148298.94it/s]"
     ]
    },
    {
     "name": "stderr",
     "output_type": "stream",
     "text": [
      "\rMorphologyExtractor create index: 3289339it [00:22, 147359.18it/s]"
     ]
    },
    {
     "name": "stderr",
     "output_type": "stream",
     "text": [
      "\rMorphologyExtractor create index: 3304086it [00:22, 146805.16it/s]"
     ]
    },
    {
     "name": "stderr",
     "output_type": "stream",
     "text": [
      "\rMorphologyExtractor create index: 3318775it [00:22, 144077.99it/s]"
     ]
    },
    {
     "name": "stderr",
     "output_type": "stream",
     "text": [
      "\rMorphologyExtractor create index: 3333439it [00:22, 144834.21it/s]"
     ]
    },
    {
     "name": "stderr",
     "output_type": "stream",
     "text": [
      "\rMorphologyExtractor create index: 3348950it [00:22, 147768.52it/s]"
     ]
    },
    {
     "name": "stderr",
     "output_type": "stream",
     "text": [
      "\rMorphologyExtractor create index: 3363751it [00:22, 145760.06it/s]"
     ]
    },
    {
     "name": "stderr",
     "output_type": "stream",
     "text": [
      "\rMorphologyExtractor create index: 3378350it [00:22, 145612.62it/s]"
     ]
    },
    {
     "name": "stderr",
     "output_type": "stream",
     "text": [
      "\rMorphologyExtractor create index: 3393419it [00:22, 147093.42it/s]"
     ]
    },
    {
     "name": "stderr",
     "output_type": "stream",
     "text": [
      "\rMorphologyExtractor create index: 3408144it [00:22, 143361.53it/s]"
     ]
    },
    {
     "name": "stderr",
     "output_type": "stream",
     "text": [
      "\rMorphologyExtractor create index: 3422512it [00:22, 141642.78it/s]"
     ]
    },
    {
     "name": "stderr",
     "output_type": "stream",
     "text": [
      "\rMorphologyExtractor create index: 3436703it [00:23, 141641.33it/s]"
     ]
    },
    {
     "name": "stderr",
     "output_type": "stream",
     "text": [
      "\rMorphologyExtractor create index: 3450886it [00:23, 141143.69it/s]"
     ]
    },
    {
     "name": "stderr",
     "output_type": "stream",
     "text": [
      "\rMorphologyExtractor create index: 3465014it [00:23, 141014.66it/s]"
     ]
    },
    {
     "name": "stderr",
     "output_type": "stream",
     "text": [
      "\rMorphologyExtractor create index: 3479125it [00:23, 140589.59it/s]"
     ]
    },
    {
     "name": "stderr",
     "output_type": "stream",
     "text": [
      "\rMorphologyExtractor create index: 3493239it [00:23, 140732.82it/s]"
     ]
    },
    {
     "name": "stderr",
     "output_type": "stream",
     "text": [
      "\rMorphologyExtractor create index: 3507318it [00:23, 138486.39it/s]"
     ]
    },
    {
     "name": "stderr",
     "output_type": "stream",
     "text": [
      "\rMorphologyExtractor create index: 3521721it [00:23, 140100.09it/s]"
     ]
    },
    {
     "name": "stderr",
     "output_type": "stream",
     "text": [
      "\rMorphologyExtractor create index: 3536419it [00:23, 142092.96it/s]"
     ]
    },
    {
     "name": "stderr",
     "output_type": "stream",
     "text": [
      "\rMorphologyExtractor create index: 3550644it [00:23, 141406.35it/s]"
     ]
    },
    {
     "name": "stderr",
     "output_type": "stream",
     "text": [
      "\rMorphologyExtractor create index: 3564899it [00:24, 141745.34it/s]"
     ]
    },
    {
     "name": "stderr",
     "output_type": "stream",
     "text": [
      "\rMorphologyExtractor create index: 3579143it [00:24, 141951.85it/s]"
     ]
    },
    {
     "name": "stderr",
     "output_type": "stream",
     "text": [
      "\rMorphologyExtractor create index: 3593345it [00:24, 141401.90it/s]"
     ]
    },
    {
     "name": "stderr",
     "output_type": "stream",
     "text": [
      "\rMorphologyExtractor create index: 3607490it [00:24, 141048.32it/s]"
     ]
    },
    {
     "name": "stderr",
     "output_type": "stream",
     "text": [
      "\rMorphologyExtractor create index: 3622491it [00:24, 143619.83it/s]"
     ]
    },
    {
     "name": "stderr",
     "output_type": "stream",
     "text": [
      "\rMorphologyExtractor create index: 3637284it [00:24, 144885.10it/s]"
     ]
    },
    {
     "name": "stderr",
     "output_type": "stream",
     "text": [
      "\rMorphologyExtractor create index: 3651875it [00:24, 145190.16it/s]"
     ]
    },
    {
     "name": "stderr",
     "output_type": "stream",
     "text": [
      "\rMorphologyExtractor create index: 3666429it [00:24, 145294.05it/s]"
     ]
    },
    {
     "name": "stderr",
     "output_type": "stream",
     "text": [
      "\rMorphologyExtractor create index: 3680965it [00:24, 132644.87it/s]"
     ]
    },
    {
     "name": "stderr",
     "output_type": "stream",
     "text": [
      "\rMorphologyExtractor create index: 3694512it [00:24, 133478.02it/s]"
     ]
    },
    {
     "name": "stderr",
     "output_type": "stream",
     "text": [
      "\rMorphologyExtractor create index: 3708014it [00:25, 132730.19it/s]"
     ]
    },
    {
     "name": "stderr",
     "output_type": "stream",
     "text": [
      "\rMorphologyExtractor create index: 3721396it [00:25, 105765.85it/s]"
     ]
    },
    {
     "name": "stderr",
     "output_type": "stream",
     "text": [
      "\rMorphologyExtractor create index: 3732916it [00:25, 100224.38it/s]"
     ]
    },
    {
     "name": "stderr",
     "output_type": "stream",
     "text": [
      "\rMorphologyExtractor create index: 3746854it [00:25, 109448.21it/s]"
     ]
    },
    {
     "name": "stderr",
     "output_type": "stream",
     "text": [
      "\rMorphologyExtractor create index: 3760442it [00:25, 116229.35it/s]"
     ]
    },
    {
     "name": "stderr",
     "output_type": "stream",
     "text": [
      "\rMorphologyExtractor create index: 3772710it [00:25, 116665.00it/s]"
     ]
    },
    {
     "name": "stderr",
     "output_type": "stream",
     "text": [
      "\rMorphologyExtractor create index: 3786396it [00:25, 122068.05it/s]"
     ]
    },
    {
     "name": "stderr",
     "output_type": "stream",
     "text": [
      "\rMorphologyExtractor create index: 3800470it [00:25, 127124.77it/s]"
     ]
    },
    {
     "name": "stderr",
     "output_type": "stream",
     "text": [
      "\rMorphologyExtractor create index: 3813504it [00:25, 126603.21it/s]"
     ]
    },
    {
     "name": "stderr",
     "output_type": "stream",
     "text": [
      "\rMorphologyExtractor create index: 3829493it [00:26, 135036.99it/s]"
     ]
    },
    {
     "name": "stderr",
     "output_type": "stream",
     "text": [
      "\rMorphologyExtractor create index: 3845082it [00:26, 140681.47it/s]"
     ]
    },
    {
     "name": "stderr",
     "output_type": "stream",
     "text": [
      "\rMorphologyExtractor create index: 3860796it [00:26, 145243.97it/s]"
     ]
    },
    {
     "name": "stderr",
     "output_type": "stream",
     "text": [
      "\rMorphologyExtractor create index: 3875707it [00:26, 146380.96it/s]"
     ]
    },
    {
     "name": "stderr",
     "output_type": "stream",
     "text": [
      "\rMorphologyExtractor create index: 3890737it [00:26, 147531.88it/s]"
     ]
    },
    {
     "name": "stderr",
     "output_type": "stream",
     "text": [
      "\rMorphologyExtractor create index: 3906556it [00:26, 150571.96it/s]"
     ]
    },
    {
     "name": "stderr",
     "output_type": "stream",
     "text": [
      "\rMorphologyExtractor create index: 3922213it [00:26, 152319.95it/s]"
     ]
    },
    {
     "name": "stderr",
     "output_type": "stream",
     "text": [
      "\rMorphologyExtractor create index: 3937774it [00:26, 153289.50it/s]"
     ]
    },
    {
     "name": "stderr",
     "output_type": "stream",
     "text": [
      "\rMorphologyExtractor create index: 3953362it [00:26, 154055.32it/s]"
     ]
    },
    {
     "name": "stderr",
     "output_type": "stream",
     "text": [
      "\rMorphologyExtractor create index: 3968806it [00:26, 153285.90it/s]"
     ]
    },
    {
     "name": "stderr",
     "output_type": "stream",
     "text": [
      "\rMorphologyExtractor create index: 3984351it [00:27, 153927.08it/s]"
     ]
    },
    {
     "name": "stderr",
     "output_type": "stream",
     "text": [
      "\rMorphologyExtractor create index: 4000470it [00:27, 156034.50it/s]"
     ]
    },
    {
     "name": "stderr",
     "output_type": "stream",
     "text": [
      "\rMorphologyExtractor create index: 4016095it [00:27, 153002.03it/s]"
     ]
    },
    {
     "name": "stderr",
     "output_type": "stream",
     "text": [
      "\rMorphologyExtractor create index: 4031423it [00:27, 150667.48it/s]"
     ]
    },
    {
     "name": "stderr",
     "output_type": "stream",
     "text": [
      "\rMorphologyExtractor create index: 4047249it [00:27, 152867.14it/s]"
     ]
    },
    {
     "name": "stderr",
     "output_type": "stream",
     "text": [
      "\rMorphologyExtractor create index: 4063692it [00:27, 156159.80it/s]"
     ]
    },
    {
     "name": "stderr",
     "output_type": "stream",
     "text": [
      "\rMorphologyExtractor create index: 4079345it [00:27, 153898.32it/s]"
     ]
    },
    {
     "name": "stderr",
     "output_type": "stream",
     "text": [
      "\rMorphologyExtractor create index: 4094768it [00:27, 153494.77it/s]"
     ]
    },
    {
     "name": "stderr",
     "output_type": "stream",
     "text": [
      "\rMorphologyExtractor create index: 4110989it [00:27, 156009.01it/s]"
     ]
    },
    {
     "name": "stderr",
     "output_type": "stream",
     "text": [
      "\rMorphologyExtractor create index: 4126617it [00:27, 154021.23it/s]"
     ]
    },
    {
     "name": "stderr",
     "output_type": "stream",
     "text": [
      "\rMorphologyExtractor create index: 4142357it [00:28, 155017.83it/s]"
     ]
    },
    {
     "name": "stderr",
     "output_type": "stream",
     "text": [
      "\rMorphologyExtractor create index: 4157878it [00:28, 153189.12it/s]"
     ]
    },
    {
     "name": "stderr",
     "output_type": "stream",
     "text": [
      "\rMorphologyExtractor create index: 4173425it [00:28, 153865.39it/s]"
     ]
    },
    {
     "name": "stderr",
     "output_type": "stream",
     "text": [
      "\rMorphologyExtractor create index: 4188961it [00:28, 154308.05it/s]"
     ]
    },
    {
     "name": "stderr",
     "output_type": "stream",
     "text": [
      "\rMorphologyExtractor create index: 4204402it [00:28, 153332.12it/s]"
     ]
    },
    {
     "name": "stderr",
     "output_type": "stream",
     "text": [
      "\rMorphologyExtractor create index: 4219744it [00:28, 153081.29it/s]"
     ]
    },
    {
     "name": "stderr",
     "output_type": "stream",
     "text": [
      "\rMorphologyExtractor create index: 4235058it [00:28, 151629.03it/s]"
     ]
    },
    {
     "name": "stderr",
     "output_type": "stream",
     "text": [
      "\rMorphologyExtractor create index: 4250229it [00:28, 150226.09it/s]"
     ]
    },
    {
     "name": "stderr",
     "output_type": "stream",
     "text": [
      "\rMorphologyExtractor create index: 4265820it [00:28, 151886.78it/s]"
     ]
    },
    {
     "name": "stderr",
     "output_type": "stream",
     "text": [
      "\rMorphologyExtractor create index: 4281351it [00:29, 152896.55it/s]"
     ]
    },
    {
     "name": "stderr",
     "output_type": "stream",
     "text": [
      "\rMorphologyExtractor create index: 4296650it [00:29, 152525.17it/s]"
     ]
    },
    {
     "name": "stderr",
     "output_type": "stream",
     "text": [
      "\rMorphologyExtractor create index: 4311940it [00:29, 152636.05it/s]"
     ]
    },
    {
     "name": "stderr",
     "output_type": "stream",
     "text": [
      "\rMorphologyExtractor create index: 4327633it [00:29, 153898.43it/s]"
     ]
    },
    {
     "name": "stderr",
     "output_type": "stream",
     "text": [
      "\rMorphologyExtractor create index: 4343029it [00:29, 151164.51it/s]"
     ]
    },
    {
     "name": "stderr",
     "output_type": "stream",
     "text": [
      "\rMorphologyExtractor create index: 4358161it [00:29, 150765.05it/s]"
     ]
    },
    {
     "name": "stderr",
     "output_type": "stream",
     "text": [
      "\rMorphologyExtractor create index: 4373461it [00:29, 151426.01it/s]"
     ]
    },
    {
     "name": "stderr",
     "output_type": "stream",
     "text": [
      "\rMorphologyExtractor create index: 4389435it [00:29, 153827.41it/s]"
     ]
    },
    {
     "name": "stderr",
     "output_type": "stream",
     "text": [
      "\rMorphologyExtractor create index: 4405864it [00:29, 156821.76it/s]"
     ]
    },
    {
     "name": "stderr",
     "output_type": "stream",
     "text": [
      "\rMorphologyExtractor create index: 4421597it [00:29, 156971.58it/s]"
     ]
    },
    {
     "name": "stderr",
     "output_type": "stream",
     "text": [
      "\rMorphologyExtractor create index: 4437803it [00:30, 158462.73it/s]"
     ]
    },
    {
     "name": "stderr",
     "output_type": "stream",
     "text": [
      "\rMorphologyExtractor create index: 4453665it [00:30, 158448.20it/s]"
     ]
    },
    {
     "name": "stderr",
     "output_type": "stream",
     "text": [
      "\rMorphologyExtractor create index: 4469521it [00:30, 157909.42it/s]"
     ]
    },
    {
     "name": "stderr",
     "output_type": "stream",
     "text": [
      "\rMorphologyExtractor create index: 4485320it [00:30, 156419.76it/s]"
     ]
    },
    {
     "name": "stderr",
     "output_type": "stream",
     "text": [
      "\rMorphologyExtractor create index: 4501210it [00:30, 157153.82it/s]"
     ]
    },
    {
     "name": "stderr",
     "output_type": "stream",
     "text": [
      "\rMorphologyExtractor create index: 4517273it [00:30, 158177.47it/s]"
     ]
    },
    {
     "name": "stderr",
     "output_type": "stream",
     "text": [
      "\rMorphologyExtractor create index: 4533098it [00:30, 156939.65it/s]"
     ]
    },
    {
     "name": "stderr",
     "output_type": "stream",
     "text": [
      "\rMorphologyExtractor create index: 4548799it [00:30, 156020.79it/s]"
     ]
    },
    {
     "name": "stderr",
     "output_type": "stream",
     "text": [
      "\rMorphologyExtractor create index: 4564408it [00:30, 153576.52it/s]"
     ]
    },
    {
     "name": "stderr",
     "output_type": "stream",
     "text": [
      "\rMorphologyExtractor create index: 4579779it [00:30, 148677.12it/s]"
     ]
    },
    {
     "name": "stderr",
     "output_type": "stream",
     "text": [
      "\rMorphologyExtractor create index: 4595681it [00:31, 151635.43it/s]"
     ]
    },
    {
     "name": "stderr",
     "output_type": "stream",
     "text": [
      "\rMorphologyExtractor create index: 4611617it [00:31, 153871.14it/s]"
     ]
    },
    {
     "name": "stderr",
     "output_type": "stream",
     "text": [
      "\rMorphologyExtractor create index: 4627198it [00:31, 154445.57it/s]"
     ]
    },
    {
     "name": "stderr",
     "output_type": "stream",
     "text": [
      "\rMorphologyExtractor create index: 4642671it [00:31, 151121.40it/s]"
     ]
    },
    {
     "name": "stderr",
     "output_type": "stream",
     "text": [
      "\rMorphologyExtractor create index: 4657819it [00:31, 148446.32it/s]"
     ]
    },
    {
     "name": "stderr",
     "output_type": "stream",
     "text": [
      "\rMorphologyExtractor create index: 4672997it [00:31, 149430.67it/s]"
     ]
    },
    {
     "name": "stderr",
     "output_type": "stream",
     "text": [
      "\rMorphologyExtractor create index: 4687967it [00:31, 148926.71it/s]"
     ]
    },
    {
     "name": "stderr",
     "output_type": "stream",
     "text": [
      "\rMorphologyExtractor create index: 4703590it [00:31, 151044.50it/s]"
     ]
    },
    {
     "name": "stderr",
     "output_type": "stream",
     "text": [
      "\rMorphologyExtractor create index: 4718715it [00:31, 148461.18it/s]"
     ]
    },
    {
     "name": "stderr",
     "output_type": "stream",
     "text": [
      "\rMorphologyExtractor create index: 4734502it [00:31, 151163.04it/s]"
     ]
    },
    {
     "name": "stderr",
     "output_type": "stream",
     "text": [
      "\rMorphologyExtractor create index: 4749766it [00:32, 151602.19it/s]"
     ]
    },
    {
     "name": "stderr",
     "output_type": "stream",
     "text": [
      "\rMorphologyExtractor create index: 4765498it [00:32, 153271.21it/s]"
     ]
    },
    {
     "name": "stderr",
     "output_type": "stream",
     "text": [
      "\rMorphologyExtractor create index: 4781197it [00:32, 154368.15it/s]"
     ]
    },
    {
     "name": "stderr",
     "output_type": "stream",
     "text": [
      "\rMorphologyExtractor create index: 4796830it [00:32, 154951.12it/s]"
     ]
    },
    {
     "name": "stderr",
     "output_type": "stream",
     "text": [
      "\rMorphologyExtractor create index: 4812544it [00:32, 155600.41it/s]"
     ]
    },
    {
     "name": "stderr",
     "output_type": "stream",
     "text": [
      "\rMorphologyExtractor create index: 4828183it [00:32, 155834.16it/s]"
     ]
    },
    {
     "name": "stderr",
     "output_type": "stream",
     "text": [
      "\rMorphologyExtractor create index: 4844082it [00:32, 156765.29it/s]"
     ]
    },
    {
     "name": "stderr",
     "output_type": "stream",
     "text": [
      "\rMorphologyExtractor create index: 4860300it [00:32, 158350.40it/s]"
     ]
    },
    {
     "name": "stderr",
     "output_type": "stream",
     "text": [
      "\rMorphologyExtractor create index: 4876143it [00:32, 158222.95it/s]"
     ]
    },
    {
     "name": "stderr",
     "output_type": "stream",
     "text": [
      "\rMorphologyExtractor create index: 4891971it [00:32, 157382.55it/s]"
     ]
    },
    {
     "name": "stderr",
     "output_type": "stream",
     "text": [
      "\rMorphologyExtractor create index: 4907715it [00:33, 156604.18it/s]"
     ]
    },
    {
     "name": "stderr",
     "output_type": "stream",
     "text": [
      "\rMorphologyExtractor create index: 4923428it [00:33, 156759.14it/s]"
     ]
    },
    {
     "name": "stderr",
     "output_type": "stream",
     "text": [
      "\rMorphologyExtractor create index: 4939216it [00:33, 157093.32it/s]"
     ]
    },
    {
     "name": "stderr",
     "output_type": "stream",
     "text": [
      "\rMorphologyExtractor create index: 4954928it [00:33, 155376.33it/s]"
     ]
    },
    {
     "name": "stderr",
     "output_type": "stream",
     "text": [
      "\rMorphologyExtractor create index: 4970601it [00:33, 155778.13it/s]"
     ]
    },
    {
     "name": "stderr",
     "output_type": "stream",
     "text": [
      "\rMorphologyExtractor create index: 4986184it [00:33, 149380.56it/s]"
     ]
    },
    {
     "name": "stderr",
     "output_type": "stream",
     "text": [
      "\rMorphologyExtractor create index: 5001182it [00:33, 145579.72it/s]"
     ]
    },
    {
     "name": "stderr",
     "output_type": "stream",
     "text": [
      "\rMorphologyExtractor create index: 5015803it [00:33, 144002.77it/s]"
     ]
    },
    {
     "name": "stderr",
     "output_type": "stream",
     "text": [
      "\rMorphologyExtractor create index: 5030251it [00:33, 143506.12it/s]"
     ]
    },
    {
     "name": "stderr",
     "output_type": "stream",
     "text": [
      "\rMorphologyExtractor create index: 5044636it [00:33, 142789.29it/s]"
     ]
    },
    {
     "name": "stderr",
     "output_type": "stream",
     "text": [
      "\rMorphologyExtractor create index: 5059010it [00:34, 143073.12it/s]"
     ]
    },
    {
     "name": "stderr",
     "output_type": "stream",
     "text": [
      "\rMorphologyExtractor create index: 5073987it [00:34, 144994.79it/s]"
     ]
    },
    {
     "name": "stderr",
     "output_type": "stream",
     "text": [
      "\rMorphologyExtractor create index: 5089093it [00:34, 146761.00it/s]"
     ]
    },
    {
     "name": "stderr",
     "output_type": "stream",
     "text": [
      "\rMorphologyExtractor create index: 5096053it [00:34, 148381.38it/s]"
     ]
    },
    {
     "name": "stderr",
     "output_type": "stream",
     "text": [
      "\n"
     ]
    }
   ],
   "source": [
    "import numpy as np\n",
    "from loaders.loading import load_train\n",
    "from sklearn.model_selection import train_test_split\n",
    "from pipeline import transform"
   ]
  },
  {
   "cell_type": "code",
   "execution_count": 3,
   "metadata": {
    "collapsed": true
   },
   "outputs": [
    {
     "name": "stdout",
     "output_type": "stream",
     "text": [
      "<class 'pandas.core.frame.DataFrame'>\nRangeIndex: 10574516 entries, 0 to 10574515\nData columns (total 7 columns):\nclass        object\nbefore       object\nafter        object\nprev_prev    object\nprev         object\nnext         object\nnext_next    object\ndtypes: object(7)\nmemory usage: 564.7+ MB\nNone\n"
     ]
    }
   ],
   "source": [
    "df = load_train(['class', 'before', 'after'], r'../input/norm_challenge_ru')\n",
    "df['prev_prev'] = df['before'].shift(2)\n",
    "df['prev'] = df['before'].shift(1)\n",
    "df['next'] = df['before'].shift(-1)\n",
    "df['next_next'] = df['before'].shift(-2)\n",
    "df = df.fillna('')\n",
    "print(df.info())"
   ]
  },
  {
   "cell_type": "code",
   "execution_count": 5,
   "metadata": {},
   "outputs": [],
   "source": [
    "x_train, x_test, y_train, y_test = train_test_split(df.drop(['after'], axis=1), df['after'], test_size=0.01, random_state=2017)\n",
    "x_test.drop(['class'], axis=1, inplace=True)"
   ]
  },
  {
   "cell_type": "code",
   "execution_count": 6,
   "metadata": {
    "collapsed": false
   },
   "outputs": [
    {
     "name": "stdout",
     "output_type": "stream",
     "text": [
      "[INFO] Compiling model...\n"
     ]
    },
    {
     "name": "stderr",
     "output_type": "stream",
     "text": [
      "\rMorphologyExtractor transform:   0%|          | 0/105746 [00:00<?, ?it/s]"
     ]
    },
    {
     "name": "stderr",
     "output_type": "stream",
     "text": [
      "\rMorphologyExtractor transform:   2%|▏         | 2232/105746 [00:00<00:04, 22288.08it/s]"
     ]
    },
    {
     "name": "stderr",
     "output_type": "stream",
     "text": [
      "\rMorphologyExtractor transform:   5%|▍         | 4770/105746 [00:00<00:04, 23128.38it/s]"
     ]
    },
    {
     "name": "stderr",
     "output_type": "stream",
     "text": [
      "\rMorphologyExtractor transform:   7%|▋         | 7575/105746 [00:00<00:04, 24413.31it/s]"
     ]
    },
    {
     "name": "stderr",
     "output_type": "stream",
     "text": [
      "\rMorphologyExtractor transform:  10%|▉         | 10437/105746 [00:00<00:03, 25535.25it/s]"
     ]
    },
    {
     "name": "stderr",
     "output_type": "stream",
     "text": [
      "\rMorphologyExtractor transform:  13%|█▎        | 13671/105746 [00:00<00:03, 27255.66it/s]"
     ]
    },
    {
     "name": "stderr",
     "output_type": "stream",
     "text": [
      "\rMorphologyExtractor transform:  16%|█▌        | 16969/105746 [00:00<00:03, 28751.07it/s]"
     ]
    },
    {
     "name": "stderr",
     "output_type": "stream",
     "text": [
      "\rMorphologyExtractor transform:  19%|█▉        | 20606/105746 [00:00<00:02, 30658.59it/s]"
     ]
    },
    {
     "name": "stderr",
     "output_type": "stream",
     "text": [
      "\rMorphologyExtractor transform:  23%|██▎       | 24176/105746 [00:00<00:02, 32014.19it/s]"
     ]
    },
    {
     "name": "stderr",
     "output_type": "stream",
     "text": [
      "\rMorphologyExtractor transform:  26%|██▋       | 27945/105746 [00:00<00:02, 33524.39it/s]"
     ]
    },
    {
     "name": "stderr",
     "output_type": "stream",
     "text": [
      "\rMorphologyExtractor transform:  30%|██▉       | 31530/105746 [00:01<00:02, 34187.42it/s]"
     ]
    },
    {
     "name": "stderr",
     "output_type": "stream",
     "text": [
      "\rMorphologyExtractor transform:  33%|███▎      | 35362/105746 [00:01<00:01, 35324.52it/s]"
     ]
    },
    {
     "name": "stderr",
     "output_type": "stream",
     "text": [
      "\rMorphologyExtractor transform:  37%|███▋      | 39394/105746 [00:01<00:01, 36669.64it/s]"
     ]
    },
    {
     "name": "stderr",
     "output_type": "stream",
     "text": [
      "\rMorphologyExtractor transform:  41%|████      | 43283/105746 [00:01<00:01, 37308.54it/s]"
     ]
    },
    {
     "name": "stderr",
     "output_type": "stream",
     "text": [
      "\rMorphologyExtractor transform:  44%|████▍     | 47027/105746 [00:01<00:01, 36443.89it/s]"
     ]
    },
    {
     "name": "stderr",
     "output_type": "stream",
     "text": [
      "\rMorphologyExtractor transform:  49%|████▊     | 51486/105746 [00:01<00:01, 38554.27it/s]"
     ]
    },
    {
     "name": "stderr",
     "output_type": "stream",
     "text": [
      "\rMorphologyExtractor transform:  53%|█████▎    | 55884/105746 [00:01<00:01, 40018.13it/s]"
     ]
    },
    {
     "name": "stderr",
     "output_type": "stream",
     "text": [
      "\rMorphologyExtractor transform:  57%|█████▋    | 60032/105746 [00:01<00:01, 40443.26it/s]"
     ]
    },
    {
     "name": "stderr",
     "output_type": "stream",
     "text": [
      "\rMorphologyExtractor transform:  61%|██████    | 64568/105746 [00:01<00:00, 41797.96it/s]"
     ]
    },
    {
     "name": "stderr",
     "output_type": "stream",
     "text": [
      "\rMorphologyExtractor transform:  65%|██████▌   | 69055/105746 [00:01<00:00, 42671.70it/s]"
     ]
    },
    {
     "name": "stderr",
     "output_type": "stream",
     "text": [
      "\rMorphologyExtractor transform:  69%|██████▉   | 73351/105746 [00:02<00:00, 42675.71it/s]"
     ]
    },
    {
     "name": "stderr",
     "output_type": "stream",
     "text": [
      "\rMorphologyExtractor transform:  74%|███████▎  | 77850/105746 [00:02<00:00, 43344.35it/s]"
     ]
    },
    {
     "name": "stderr",
     "output_type": "stream",
     "text": [
      "\rMorphologyExtractor transform:  78%|███████▊  | 82401/105746 [00:02<00:00, 43952.23it/s]"
     ]
    },
    {
     "name": "stderr",
     "output_type": "stream",
     "text": [
      "\rMorphologyExtractor transform:  82%|████████▏ | 86997/105746 [00:02<00:00, 44529.15it/s]"
     ]
    },
    {
     "name": "stderr",
     "output_type": "stream",
     "text": [
      "\rMorphologyExtractor transform:  87%|████████▋ | 91597/105746 [00:02<00:00, 44936.45it/s]"
     ]
    },
    {
     "name": "stderr",
     "output_type": "stream",
     "text": [
      "\rMorphologyExtractor transform:  91%|█████████ | 96287/105746 [00:02<00:00, 45486.45it/s]"
     ]
    },
    {
     "name": "stderr",
     "output_type": "stream",
     "text": [
      "\rMorphologyExtractor transform:  96%|█████████▌| 101076/105746 [00:02<00:00, 46141.87it/s]"
     ]
    },
    {
     "name": "stderr",
     "output_type": "stream",
     "text": [
      "\rMorphologyExtractor transform: 100%|██████████| 105746/105746 [00:02<00:00, 39013.38it/s]"
     ]
    },
    {
     "name": "stderr",
     "output_type": "stream",
     "text": [
      "\n\rMorphologyExtractor transform:   0%|          | 0/105746 [00:00<?, ?it/s]"
     ]
    },
    {
     "name": "stderr",
     "output_type": "stream",
     "text": [
      "\rMorphologyExtractor transform:   4%|▎         | 3951/105746 [00:00<00:02, 39444.21it/s]"
     ]
    },
    {
     "name": "stderr",
     "output_type": "stream",
     "text": [
      "\rMorphologyExtractor transform:   8%|▊         | 8227/105746 [00:00<00:02, 40381.93it/s]"
     ]
    },
    {
     "name": "stderr",
     "output_type": "stream",
     "text": [
      "\rMorphologyExtractor transform:  13%|█▎        | 13225/105746 [00:00<00:02, 42824.94it/s]"
     ]
    },
    {
     "name": "stderr",
     "output_type": "stream",
     "text": [
      "\rMorphologyExtractor transform:  17%|█▋        | 17800/105746 [00:00<00:02, 43653.43it/s]"
     ]
    },
    {
     "name": "stderr",
     "output_type": "stream",
     "text": [
      "\rMorphologyExtractor transform:  21%|██▏       | 22624/105746 [00:00<00:01, 44926.20it/s]"
     ]
    },
    {
     "name": "stderr",
     "output_type": "stream",
     "text": [
      "\rMorphologyExtractor transform:  26%|██▋       | 27801/105746 [00:00<00:01, 46775.04it/s]"
     ]
    },
    {
     "name": "stderr",
     "output_type": "stream",
     "text": [
      "\rMorphologyExtractor transform:  31%|███▏      | 33149/105746 [00:00<00:01, 48602.45it/s]"
     ]
    },
    {
     "name": "stderr",
     "output_type": "stream",
     "text": [
      "\rMorphologyExtractor transform:  36%|███▌      | 38286/105746 [00:00<00:01, 49397.61it/s]"
     ]
    },
    {
     "name": "stderr",
     "output_type": "stream",
     "text": [
      "\rMorphologyExtractor transform:  41%|████      | 43416/105746 [00:00<00:01, 49929.15it/s]"
     ]
    },
    {
     "name": "stderr",
     "output_type": "stream",
     "text": [
      "\rMorphologyExtractor transform:  46%|████▌     | 48586/105746 [00:01<00:01, 50444.70it/s]"
     ]
    },
    {
     "name": "stderr",
     "output_type": "stream",
     "text": [
      "\rMorphologyExtractor transform:  51%|█████     | 54034/105746 [00:01<00:01, 51590.83it/s]"
     ]
    },
    {
     "name": "stderr",
     "output_type": "stream",
     "text": [
      "\rMorphologyExtractor transform:  56%|█████▋    | 59578/105746 [00:01<00:00, 52685.85it/s]"
     ]
    },
    {
     "name": "stderr",
     "output_type": "stream",
     "text": [
      "\rMorphologyExtractor transform:  61%|██████▏   | 65023/105746 [00:01<00:00, 53202.50it/s]"
     ]
    },
    {
     "name": "stderr",
     "output_type": "stream",
     "text": [
      "\rMorphologyExtractor transform:  66%|██████▋   | 70321/105746 [00:01<00:01, 33309.04it/s]"
     ]
    },
    {
     "name": "stderr",
     "output_type": "stream",
     "text": [
      "\rMorphologyExtractor transform:  72%|███████▏  | 76004/105746 [00:01<00:00, 38026.05it/s]"
     ]
    },
    {
     "name": "stderr",
     "output_type": "stream",
     "text": [
      "\rMorphologyExtractor transform:  77%|███████▋  | 81479/105746 [00:01<00:00, 41855.98it/s]"
     ]
    },
    {
     "name": "stderr",
     "output_type": "stream",
     "text": [
      "\rMorphologyExtractor transform:  82%|████████▏ | 86628/105746 [00:01<00:00, 44340.91it/s]"
     ]
    },
    {
     "name": "stderr",
     "output_type": "stream",
     "text": [
      "\rMorphologyExtractor transform:  87%|████████▋ | 92078/105746 [00:01<00:00, 46961.69it/s]"
     ]
    },
    {
     "name": "stderr",
     "output_type": "stream",
     "text": [
      "\rMorphologyExtractor transform:  92%|█████████▏| 97692/105746 [00:02<00:00, 49367.14it/s]"
     ]
    },
    {
     "name": "stderr",
     "output_type": "stream",
     "text": [
      "\rMorphologyExtractor transform:  97%|█████████▋| 103025/105746 [00:02<00:00, 50431.73it/s]"
     ]
    },
    {
     "name": "stderr",
     "output_type": "stream",
     "text": [
      "\rMorphologyExtractor transform: 100%|██████████| 105746/105746 [00:02<00:00, 46971.37it/s]"
     ]
    },
    {
     "name": "stderr",
     "output_type": "stream",
     "text": [
      "\n\rMorphologyExtractor transform:   0%|          | 0/105746 [00:00<?, ?it/s]"
     ]
    },
    {
     "name": "stderr",
     "output_type": "stream",
     "text": [
      "\rMorphologyExtractor transform:   4%|▍         | 4265/105746 [00:00<00:02, 42649.13it/s]"
     ]
    },
    {
     "name": "stderr",
     "output_type": "stream",
     "text": [
      "\rMorphologyExtractor transform:   9%|▉         | 9412/105746 [00:00<00:02, 44956.49it/s]"
     ]
    },
    {
     "name": "stderr",
     "output_type": "stream",
     "text": [
      "\rMorphologyExtractor transform:  14%|█▍        | 14994/105746 [00:00<00:01, 47741.59it/s]"
     ]
    },
    {
     "name": "stderr",
     "output_type": "stream",
     "text": [
      "\rMorphologyExtractor transform:  20%|█▉        | 20701/105746 [00:00<00:01, 50183.26it/s]"
     ]
    },
    {
     "name": "stderr",
     "output_type": "stream",
     "text": [
      "\rMorphologyExtractor transform:  25%|██▍       | 26307/105746 [00:00<00:01, 51795.19it/s]"
     ]
    },
    {
     "name": "stderr",
     "output_type": "stream",
     "text": [
      "\rMorphologyExtractor transform:  30%|███       | 32143/105746 [00:00<00:01, 53582.44it/s]"
     ]
    },
    {
     "name": "stderr",
     "output_type": "stream",
     "text": [
      "\rMorphologyExtractor transform:  36%|███▌      | 38315/105746 [00:00<00:01, 55788.81it/s]"
     ]
    },
    {
     "name": "stderr",
     "output_type": "stream",
     "text": [
      "\rMorphologyExtractor transform:  42%|████▏     | 44770/105746 [00:00<00:01, 58156.82it/s]"
     ]
    },
    {
     "name": "stderr",
     "output_type": "stream",
     "text": [
      "\rMorphologyExtractor transform:  48%|████▊     | 50687/105746 [00:00<00:00, 58438.22it/s]"
     ]
    },
    {
     "name": "stderr",
     "output_type": "stream",
     "text": [
      "\rMorphologyExtractor transform:  53%|█████▎    | 56449/105746 [00:01<00:00, 58187.36it/s]"
     ]
    },
    {
     "name": "stderr",
     "output_type": "stream",
     "text": [
      "\rMorphologyExtractor transform:  59%|█████▉    | 62383/105746 [00:01<00:00, 58517.66it/s]"
     ]
    },
    {
     "name": "stderr",
     "output_type": "stream",
     "text": [
      "\rMorphologyExtractor transform:  65%|██████▍   | 68436/105746 [00:01<00:00, 59100.96it/s]"
     ]
    },
    {
     "name": "stderr",
     "output_type": "stream",
     "text": [
      "\rMorphologyExtractor transform:  71%|███████   | 74795/105746 [00:01<00:00, 60378.47it/s]"
     ]
    },
    {
     "name": "stderr",
     "output_type": "stream",
     "text": [
      "\rMorphologyExtractor transform:  77%|███████▋  | 81096/105746 [00:01<00:00, 61133.33it/s]"
     ]
    },
    {
     "name": "stderr",
     "output_type": "stream",
     "text": [
      "\rMorphologyExtractor transform:  82%|████████▏ | 87214/105746 [00:01<00:00, 61145.50it/s]"
     ]
    },
    {
     "name": "stderr",
     "output_type": "stream",
     "text": [
      "\rMorphologyExtractor transform:  88%|████████▊ | 93527/105746 [00:01<00:00, 61701.02it/s]"
     ]
    },
    {
     "name": "stderr",
     "output_type": "stream",
     "text": [
      "\rMorphologyExtractor transform:  94%|█████████▍| 99861/105746 [00:01<00:00, 62181.00it/s]"
     ]
    },
    {
     "name": "stderr",
     "output_type": "stream",
     "text": [
      "\rMorphologyExtractor transform: 100%|██████████| 105746/105746 [00:01<00:00, 58861.94it/s]"
     ]
    },
    {
     "name": "stderr",
     "output_type": "stream",
     "text": [
      "\n"
     ]
    },
    {
     "name": "stderr",
     "output_type": "stream",
     "text": [
      "\rMorphologyExtractor transform:   0%|          | 0/105746 [00:00<?, ?it/s]"
     ]
    },
    {
     "name": "stderr",
     "output_type": "stream",
     "text": [
      "\rMorphologyExtractor transform:   2%|▏         | 2403/105746 [00:00<00:04, 24012.73it/s]"
     ]
    },
    {
     "name": "stderr",
     "output_type": "stream",
     "text": [
      "\rMorphologyExtractor transform:   5%|▍         | 4930/105746 [00:00<00:04, 24373.84it/s]"
     ]
    },
    {
     "name": "stderr",
     "output_type": "stream",
     "text": [
      "\rMorphologyExtractor transform:   7%|▋         | 7747/105746 [00:00<00:03, 25400.59it/s]"
     ]
    },
    {
     "name": "stderr",
     "output_type": "stream",
     "text": [
      "\rMorphologyExtractor transform:  10%|█         | 10711/105746 [00:00<00:03, 26537.88it/s]"
     ]
    },
    {
     "name": "stderr",
     "output_type": "stream",
     "text": [
      "\rMorphologyExtractor transform:  13%|█▎        | 14062/105746 [00:00<00:03, 28301.31it/s]"
     ]
    },
    {
     "name": "stderr",
     "output_type": "stream",
     "text": [
      "\rMorphologyExtractor transform:  16%|█▌        | 17167/105746 [00:00<00:03, 29041.28it/s]"
     ]
    },
    {
     "name": "stderr",
     "output_type": "stream",
     "text": [
      "\rMorphologyExtractor transform:  20%|█▉        | 20722/105746 [00:00<00:02, 30715.71it/s]"
     ]
    },
    {
     "name": "stderr",
     "output_type": "stream",
     "text": [
      "\rMorphologyExtractor transform:  23%|██▎       | 24186/105746 [00:00<00:02, 31793.39it/s]"
     ]
    },
    {
     "name": "stderr",
     "output_type": "stream",
     "text": [
      "\rMorphologyExtractor transform:  26%|██▋       | 27828/105746 [00:00<00:02, 33045.05it/s]"
     ]
    },
    {
     "name": "stderr",
     "output_type": "stream",
     "text": [
      "\rMorphologyExtractor transform:  30%|███       | 31874/105746 [00:01<00:02, 34965.56it/s]"
     ]
    },
    {
     "name": "stderr",
     "output_type": "stream",
     "text": [
      "\rMorphologyExtractor transform:  34%|███▍      | 35795/105746 [00:01<00:01, 36130.46it/s]"
     ]
    },
    {
     "name": "stderr",
     "output_type": "stream",
     "text": [
      "\rMorphologyExtractor transform:  38%|███▊      | 40029/105746 [00:01<00:01, 37793.09it/s]"
     ]
    },
    {
     "name": "stderr",
     "output_type": "stream",
     "text": [
      "\rMorphologyExtractor transform:  42%|████▏     | 44244/105746 [00:01<00:01, 39002.34it/s]"
     ]
    },
    {
     "name": "stderr",
     "output_type": "stream",
     "text": [
      "\rMorphologyExtractor transform:  46%|████▌     | 48423/105746 [00:01<00:01, 39798.67it/s]"
     ]
    },
    {
     "name": "stderr",
     "output_type": "stream",
     "text": [
      "\rMorphologyExtractor transform:  50%|████▉     | 52703/105746 [00:01<00:01, 40648.38it/s]"
     ]
    },
    {
     "name": "stderr",
     "output_type": "stream",
     "text": [
      "\rMorphologyExtractor transform:  54%|█████▍    | 57446/105746 [00:01<00:01, 42466.34it/s]"
     ]
    },
    {
     "name": "stderr",
     "output_type": "stream",
     "text": [
      "\rMorphologyExtractor transform:  58%|█████▊    | 61728/105746 [00:01<00:01, 41379.00it/s]"
     ]
    },
    {
     "name": "stderr",
     "output_type": "stream",
     "text": [
      "\rMorphologyExtractor transform:  62%|██████▏   | 66062/105746 [00:01<00:00, 41946.68it/s]"
     ]
    },
    {
     "name": "stderr",
     "output_type": "stream",
     "text": [
      "\rMorphologyExtractor transform:  66%|██████▋   | 70321/105746 [00:01<00:00, 42126.28it/s]"
     ]
    },
    {
     "name": "stderr",
     "output_type": "stream",
     "text": [
      "\rMorphologyExtractor transform:  71%|███████   | 75034/105746 [00:02<00:00, 43511.09it/s]"
     ]
    },
    {
     "name": "stderr",
     "output_type": "stream",
     "text": [
      "\rMorphologyExtractor transform:  75%|███████▌  | 79478/105746 [00:02<00:00, 43773.24it/s]"
     ]
    },
    {
     "name": "stderr",
     "output_type": "stream",
     "text": [
      "\rMorphologyExtractor transform:  80%|███████▉  | 84239/105746 [00:02<00:00, 44856.20it/s]"
     ]
    },
    {
     "name": "stderr",
     "output_type": "stream",
     "text": [
      "\rMorphologyExtractor transform:  84%|████████▍ | 89006/105746 [00:02<00:00, 45646.17it/s]"
     ]
    },
    {
     "name": "stderr",
     "output_type": "stream",
     "text": [
      "\rMorphologyExtractor transform:  89%|████████▊ | 93587/105746 [00:02<00:00, 43226.46it/s]"
     ]
    },
    {
     "name": "stderr",
     "output_type": "stream",
     "text": [
      "\rMorphologyExtractor transform:  93%|█████████▎| 98503/105746 [00:02<00:00, 44849.35it/s]"
     ]
    },
    {
     "name": "stderr",
     "output_type": "stream",
     "text": [
      "\rMorphologyExtractor transform:  98%|█████████▊| 103569/105746 [00:02<00:00, 46447.55it/s]"
     ]
    },
    {
     "name": "stderr",
     "output_type": "stream",
     "text": [
      "\rMorphologyExtractor transform: 100%|██████████| 105746/105746 [00:02<00:00, 39420.40it/s]"
     ]
    },
    {
     "name": "stderr",
     "output_type": "stream",
     "text": [
      "\n"
     ]
    },
    {
     "name": "stderr",
     "output_type": "stream",
     "text": [
      "\rMorphologyExtractor transform:   0%|          | 0/105746 [00:00<?, ?it/s]"
     ]
    },
    {
     "name": "stderr",
     "output_type": "stream",
     "text": [
      "\rMorphologyExtractor transform:   4%|▍         | 4430/105746 [00:00<00:02, 44278.72it/s]"
     ]
    },
    {
     "name": "stderr",
     "output_type": "stream",
     "text": [
      "\rMorphologyExtractor transform:   8%|▊         | 8394/105746 [00:00<00:02, 42758.84it/s]"
     ]
    },
    {
     "name": "stderr",
     "output_type": "stream",
     "text": [
      "\rMorphologyExtractor transform:  13%|█▎        | 13333/105746 [00:00<00:02, 44542.38it/s]"
     ]
    },
    {
     "name": "stderr",
     "output_type": "stream",
     "text": [
      "\rMorphologyExtractor transform:  17%|█▋        | 18032/105746 [00:00<00:01, 45243.71it/s]"
     ]
    },
    {
     "name": "stderr",
     "output_type": "stream",
     "text": [
      "\rMorphologyExtractor transform:  21%|██▏       | 22637/105746 [00:00<00:01, 45475.72it/s]"
     ]
    },
    {
     "name": "stderr",
     "output_type": "stream",
     "text": [
      "\rMorphologyExtractor transform:  26%|██▋       | 27793/105746 [00:00<00:01, 47141.35it/s]"
     ]
    },
    {
     "name": "stderr",
     "output_type": "stream",
     "text": [
      "\rMorphologyExtractor transform:  31%|███       | 32869/105746 [00:00<00:01, 48160.62it/s]"
     ]
    },
    {
     "name": "stderr",
     "output_type": "stream",
     "text": [
      "\rMorphologyExtractor transform:  36%|███▌      | 38170/105746 [00:00<00:01, 49519.26it/s]"
     ]
    },
    {
     "name": "stderr",
     "output_type": "stream",
     "text": [
      "\rMorphologyExtractor transform:  41%|████      | 43469/105746 [00:00<00:01, 50509.46it/s]"
     ]
    },
    {
     "name": "stderr",
     "output_type": "stream",
     "text": [
      "\rMorphologyExtractor transform:  46%|████▌     | 48485/105746 [00:01<00:01, 50395.50it/s]"
     ]
    },
    {
     "name": "stderr",
     "output_type": "stream",
     "text": [
      "\rMorphologyExtractor transform:  51%|█████     | 53881/105746 [00:01<00:01, 51393.54it/s]"
     ]
    },
    {
     "name": "stderr",
     "output_type": "stream",
     "text": [
      "\rMorphologyExtractor transform:  56%|█████▌    | 59166/105746 [00:01<00:00, 51821.34it/s]"
     ]
    },
    {
     "name": "stderr",
     "output_type": "stream",
     "text": [
      "\rMorphologyExtractor transform:  61%|██████    | 64589/105746 [00:01<00:00, 52515.73it/s]"
     ]
    },
    {
     "name": "stderr",
     "output_type": "stream",
     "text": [
      "\rMorphologyExtractor transform:  66%|██████▌   | 69997/105746 [00:01<00:00, 52974.03it/s]"
     ]
    },
    {
     "name": "stderr",
     "output_type": "stream",
     "text": [
      "\rMorphologyExtractor transform:  72%|███████▏  | 75686/105746 [00:01<00:00, 54090.89it/s]"
     ]
    },
    {
     "name": "stderr",
     "output_type": "stream",
     "text": [
      "\rMorphologyExtractor transform:  77%|███████▋  | 81086/105746 [00:01<00:00, 53495.42it/s]"
     ]
    },
    {
     "name": "stderr",
     "output_type": "stream",
     "text": [
      "\rMorphologyExtractor transform:  82%|████████▏ | 86431/105746 [00:01<00:00, 52958.65it/s]"
     ]
    },
    {
     "name": "stderr",
     "output_type": "stream",
     "text": [
      "\rMorphologyExtractor transform:  87%|████████▋ | 92322/105746 [00:01<00:00, 54611.15it/s]"
     ]
    },
    {
     "name": "stderr",
     "output_type": "stream",
     "text": [
      "\rMorphologyExtractor transform:  92%|█████████▏| 97795/105746 [00:01<00:00, 54202.99it/s]"
     ]
    },
    {
     "name": "stderr",
     "output_type": "stream",
     "text": [
      "\rMorphologyExtractor transform:  98%|█████████▊| 103224/105746 [00:02<00:00, 54102.26it/s]"
     ]
    },
    {
     "name": "stderr",
     "output_type": "stream",
     "text": [
      "\rMorphologyExtractor transform: 100%|██████████| 105746/105746 [00:02<00:00, 51401.63it/s]"
     ]
    },
    {
     "name": "stderr",
     "output_type": "stream",
     "text": [
      "\n\rMorphologyExtractor transform:   0%|          | 0/105746 [00:00<?, ?it/s]"
     ]
    },
    {
     "name": "stderr",
     "output_type": "stream",
     "text": [
      "\rMorphologyExtractor transform:   4%|▍         | 4388/105746 [00:00<00:02, 43879.10it/s]"
     ]
    },
    {
     "name": "stderr",
     "output_type": "stream",
     "text": [
      "\rMorphologyExtractor transform:   9%|▉         | 9664/105746 [00:00<00:02, 46208.59it/s]"
     ]
    },
    {
     "name": "stderr",
     "output_type": "stream",
     "text": [
      "\rMorphologyExtractor transform:  15%|█▍        | 15538/105746 [00:00<00:01, 49355.17it/s]"
     ]
    },
    {
     "name": "stderr",
     "output_type": "stream",
     "text": [
      "\rMorphologyExtractor transform:  20%|██        | 21351/105746 [00:00<00:01, 51679.77it/s]"
     ]
    },
    {
     "name": "stderr",
     "output_type": "stream",
     "text": [
      "\rMorphologyExtractor transform:  25%|██▌       | 26776/105746 [00:00<00:01, 52423.83it/s]"
     ]
    },
    {
     "name": "stderr",
     "output_type": "stream",
     "text": [
      "\rMorphologyExtractor transform:  31%|███       | 32717/105746 [00:00<00:01, 54335.64it/s]"
     ]
    },
    {
     "name": "stderr",
     "output_type": "stream",
     "text": [
      "\rMorphologyExtractor transform:  36%|███▋      | 38568/105746 [00:00<00:01, 55506.16it/s]"
     ]
    },
    {
     "name": "stderr",
     "output_type": "stream",
     "text": [
      "\rMorphologyExtractor transform:  42%|████▏     | 44550/105746 [00:00<00:01, 56691.63it/s]"
     ]
    },
    {
     "name": "stderr",
     "output_type": "stream",
     "text": [
      "\rMorphologyExtractor transform:  47%|████▋     | 50008/105746 [00:00<00:01, 55342.78it/s]"
     ]
    },
    {
     "name": "stderr",
     "output_type": "stream",
     "text": [
      "\rMorphologyExtractor transform:  53%|█████▎    | 55812/105746 [00:01<00:00, 56101.63it/s]"
     ]
    },
    {
     "name": "stderr",
     "output_type": "stream",
     "text": [
      "\rMorphologyExtractor transform:  58%|█████▊    | 61326/105746 [00:01<00:00, 55074.52it/s]"
     ]
    },
    {
     "name": "stderr",
     "output_type": "stream",
     "text": [
      "\rMorphologyExtractor transform:  63%|██████▎   | 66970/105746 [00:01<00:00, 55467.48it/s]"
     ]
    },
    {
     "name": "stderr",
     "output_type": "stream",
     "text": [
      "\rMorphologyExtractor transform:  69%|██████▉   | 72795/105746 [00:01<00:00, 56273.78it/s]"
     ]
    },
    {
     "name": "stderr",
     "output_type": "stream",
     "text": [
      "\rMorphologyExtractor transform:  74%|███████▍  | 78504/105746 [00:01<00:00, 56510.64it/s]"
     ]
    },
    {
     "name": "stderr",
     "output_type": "stream",
     "text": [
      "\rMorphologyExtractor transform:  80%|███████▉  | 84556/105746 [00:01<00:00, 57644.34it/s]"
     ]
    },
    {
     "name": "stderr",
     "output_type": "stream",
     "text": [
      "\rMorphologyExtractor transform:  86%|████████▌ | 90564/105746 [00:01<00:00, 58349.97it/s]"
     ]
    },
    {
     "name": "stderr",
     "output_type": "stream",
     "text": [
      "\rMorphologyExtractor transform:  91%|█████████ | 96396/105746 [00:01<00:00, 58173.00it/s]"
     ]
    },
    {
     "name": "stderr",
     "output_type": "stream",
     "text": [
      "\rMorphologyExtractor transform:  97%|█████████▋| 102735/105746 [00:01<00:00, 59637.08it/s]"
     ]
    },
    {
     "name": "stderr",
     "output_type": "stream",
     "text": [
      "\rMorphologyExtractor transform: 100%|██████████| 105746/105746 [00:01<00:00, 56839.42it/s]"
     ]
    },
    {
     "name": "stderr",
     "output_type": "stream",
     "text": [
      "\n"
     ]
    }
   ],
   "source": [
    "predicted = transform(x_train, x_test, y_train, y_test)"
   ]
  },
  {
   "cell_type": "code",
   "execution_count": 7,
   "metadata": {},
   "outputs": [],
   "source": [
    "predicted = predicted.assign(after_true=y_test)"
   ]
  },
  {
   "cell_type": "code",
   "execution_count": 8,
   "metadata": {
    "collapsed": false
   },
   "outputs": [
    {
     "data": {
      "text/plain": [
       "LETTERS       56248\nVERBATIM      23035\nCARDINAL       5875\nTRANS          2525\nPLAIN          2156\nDASH           1790\nELECTRONIC       38\nMEASURE           2\nORDINAL           2\nFRACTION          1\nDATE              1\nDECIMAL           0\nDIGIT             0\nMONEY             0\nTIME              0\nPUNCT             0\nTELEPHONE         0\nName: class, dtype: int64"
      ]
     },
     "execution_count": 8,
     "metadata": {},
     "output_type": "execute_result"
    }
   ],
   "source": [
    "predicted[(predicted[\"after\"] == y_test)]['class'].value_counts()"
   ]
  },
  {
   "cell_type": "code",
   "execution_count": 9,
   "metadata": {
    "collapsed": true
   },
   "outputs": [
    {
     "data": {
      "text/plain": [
       "CARDINAL      1775\nLETTERS        140\nVERBATIM        13\nDASH             2\nPLAIN            2\nMEASURE          1\nDIGIT            0\nDECIMAL          0\nELECTRONIC       0\nTRANS            0\nFRACTION         0\nMONEY            0\nTIME             0\nORDINAL          0\nPUNCT            0\nDATE             0\nTELEPHONE        0\nName: class, dtype: int64"
      ]
     },
     "execution_count": 9,
     "metadata": {},
     "output_type": "execute_result"
    }
   ],
   "source": [
    "predicted[~(predicted[\"after\"] == y_test) & ~(predicted[\"after\"].isnull())]['class'].value_counts()"
   ]
  },
  {
   "cell_type": "code",
   "execution_count": 13,
   "metadata": {
    "collapsed": true
   },
   "outputs": [
    {
     "data": {
      "text/html": [
       "<div>\n",
       "<style scoped>\n",
       "    .dataframe tbody tr th:only-of-type {\n",
       "        vertical-align: middle;\n",
       "    }\n",
       "\n",
       "    .dataframe tbody tr th {\n",
       "        vertical-align: top;\n",
       "    }\n",
       "\n",
       "    .dataframe thead th {\n",
       "        text-align: right;\n",
       "    }\n",
       "</style>\n",
       "<table border=\"1\" class=\"dataframe\">\n",
       "  <thead>\n",
       "    <tr style=\"text-align: right;\">\n",
       "      <th></th>\n",
       "      <th>before</th>\n",
       "      <th>prev_prev</th>\n",
       "      <th>prev</th>\n",
       "      <th>next</th>\n",
       "      <th>next_next</th>\n",
       "      <th>class</th>\n",
       "      <th>after</th>\n",
       "      <th>after_true</th>\n",
       "    </tr>\n",
       "  </thead>\n",
       "  <tbody>\n",
       "    <tr>\n",
       "      <th>9045901</th>\n",
       "      <td>1</td>\n",
       "      <td>бюстов</td>\n",
       "      <td>,</td>\n",
       "      <td>герма</td>\n",
       "      <td>)</td>\n",
       "      <td>CARDINAL</td>\n",
       "      <td>один</td>\n",
       "      <td>одна</td>\n",
       "    </tr>\n",
       "    <tr>\n",
       "      <th>1206649</th>\n",
       "      <td>XV</td>\n",
       "      <td>построенный</td>\n",
       "      <td>в</td>\n",
       "      <td>веке</td>\n",
       "      <td>.</td>\n",
       "      <td>CARDINAL</td>\n",
       "      <td>пятнадцать</td>\n",
       "      <td>пятнадцатом</td>\n",
       "    </tr>\n",
       "    <tr>\n",
       "      <th>10119206</th>\n",
       "      <td>84</td>\n",
       "      <td>видов</td>\n",
       "      <td>и</td>\n",
       "      <td>формы</td>\n",
       "      <td>совок</td>\n",
       "      <td>CARDINAL</td>\n",
       "      <td>восемьдесят четыре</td>\n",
       "      <td>восьмидесяти четырех</td>\n",
       "    </tr>\n",
       "    <tr>\n",
       "      <th>7074808</th>\n",
       "      <td>743</td>\n",
       "      <td>741</td>\n",
       "      <td>или</td>\n",
       "      <td>году</td>\n",
       "      <td>.</td>\n",
       "      <td>CARDINAL</td>\n",
       "      <td>семьсот сорок три</td>\n",
       "      <td>семистах сорока трех</td>\n",
       "    </tr>\n",
       "    <tr>\n",
       "      <th>9298107</th>\n",
       "      <td>1</td>\n",
       "      <td>поражение</td>\n",
       "      <td>:</td>\n",
       "      <td>:</td>\n",
       "      <td>7</td>\n",
       "      <td>CARDINAL</td>\n",
       "      <td>1</td>\n",
       "      <td>один</td>\n",
       "    </tr>\n",
       "    <tr>\n",
       "      <th>836450</th>\n",
       "      <td>XXXIV</td>\n",
       "      <td>Всеобщая</td>\n",
       "      <td>история</td>\n",
       "      <td>2</td>\n",
       "      <td>,</td>\n",
       "      <td>CARDINAL</td>\n",
       "      <td>тридцать четыре</td>\n",
       "      <td>тридцати четырех</td>\n",
       "    </tr>\n",
       "    <tr>\n",
       "      <th>2736199</th>\n",
       "      <td>1637</td>\n",
       "      <td>.</td>\n",
       "      <td>В</td>\n",
       "      <td>обосновался</td>\n",
       "      <td>в</td>\n",
       "      <td>CARDINAL</td>\n",
       "      <td>одна тысяча шестьсот тридцать семь</td>\n",
       "      <td>тысячью шестистах тридцати семи</td>\n",
       "    </tr>\n",
       "    <tr>\n",
       "      <th>3797422</th>\n",
       "      <td>800</td>\n",
       "      <td>вмещавшая</td>\n",
       "      <td>до</td>\n",
       "      <td>прихожан</td>\n",
       "      <td>,</td>\n",
       "      <td>CARDINAL</td>\n",
       "      <td>восемьсот</td>\n",
       "      <td>восьмисот</td>\n",
       "    </tr>\n",
       "    <tr>\n",
       "      <th>5685773</th>\n",
       "      <td>II</td>\n",
       "      <td>приезде</td>\n",
       "      <td>Петра</td>\n",
       "      <td>в</td>\n",
       "      <td>Москву</td>\n",
       "      <td>CARDINAL</td>\n",
       "      <td>два</td>\n",
       "      <td>второго</td>\n",
       "    </tr>\n",
       "    <tr>\n",
       "      <th>9271942</th>\n",
       "      <td>4</td>\n",
       "      <td>фронте</td>\n",
       "      <td>находились</td>\n",
       "      <td>пехотные</td>\n",
       "      <td>и</td>\n",
       "      <td>CARDINAL</td>\n",
       "      <td>четыре</td>\n",
       "      <td>четырьмя</td>\n",
       "    </tr>\n",
       "    <tr>\n",
       "      <th>1365019</th>\n",
       "      <td>455</td>\n",
       "      <td>бургунды</td>\n",
       "      <td>с</td>\n",
       "      <td>года</td>\n",
       "      <td>начинают</td>\n",
       "      <td>CARDINAL</td>\n",
       "      <td>четыреста пятьдесят пять</td>\n",
       "      <td>четырехсот пятидесяти пяти</td>\n",
       "    </tr>\n",
       "    <tr>\n",
       "      <th>2424267</th>\n",
       "      <td>1936</td>\n",
       "      <td>графства</td>\n",
       "      <td>:</td>\n",
       "      <td>:</td>\n",
       "      <td>142 310</td>\n",
       "      <td>CARDINAL</td>\n",
       "      <td>одна тысяча девятьсот тридцать шесть</td>\n",
       "      <td>один девять три шесть</td>\n",
       "    </tr>\n",
       "    <tr>\n",
       "      <th>452803</th>\n",
       "      <td>6781</td>\n",
       "      <td>.</td>\n",
       "      <td>Население</td>\n",
       "      <td>человек</td>\n",
       "      <td>(</td>\n",
       "      <td>CARDINAL</td>\n",
       "      <td>шесть тысяч семьсот восемьдесят один</td>\n",
       "      <td>шести тысяч семисот восьмидесяти одного</td>\n",
       "    </tr>\n",
       "    <tr>\n",
       "      <th>4138215</th>\n",
       "      <td>2</td>\n",
       "      <td>,</td>\n",
       "      <td>от</td>\n",
       "      <td>—</td>\n",
       "      <td>8 см</td>\n",
       "      <td>CARDINAL</td>\n",
       "      <td>двух</td>\n",
       "      <td>два</td>\n",
       "    </tr>\n",
       "    <tr>\n",
       "      <th>4729043</th>\n",
       "      <td>II</td>\n",
       "      <td>Отечественной</td>\n",
       "      <td>войны</td>\n",
       "      <td>степени</td>\n",
       "      <td>.</td>\n",
       "      <td>CARDINAL</td>\n",
       "      <td>два</td>\n",
       "      <td>двух</td>\n",
       "    </tr>\n",
       "    <tr>\n",
       "      <th>9604502</th>\n",
       "      <td>94</td>\n",
       "      <td>ВСК</td>\n",
       "      <td>-</td>\n",
       "      <td>.</td>\n",
       "      <td>Калаш</td>\n",
       "      <td>CARDINAL</td>\n",
       "      <td>девяноста четырех</td>\n",
       "      <td>девяносто четыре</td>\n",
       "    </tr>\n",
       "    <tr>\n",
       "      <th>931903</th>\n",
       "      <td>III</td>\n",
       "      <td>.</td>\n",
       "      <td>Анны</td>\n",
       "      <td>степени</td>\n",
       "      <td>и</td>\n",
       "      <td>CARDINAL</td>\n",
       "      <td>три</td>\n",
       "      <td>третьей</td>\n",
       "    </tr>\n",
       "    <tr>\n",
       "      <th>10509123</th>\n",
       "      <td>21</td>\n",
       "      <td>с</td>\n",
       "      <td>решениями</td>\n",
       "      <td>съезда</td>\n",
       "      <td>КПСС</td>\n",
       "      <td>CARDINAL</td>\n",
       "      <td>двадцать один</td>\n",
       "      <td>двадцати одного</td>\n",
       "    </tr>\n",
       "    <tr>\n",
       "      <th>3616379</th>\n",
       "      <td>1838</td>\n",
       "      <td>)</td>\n",
       "      <td>.</td>\n",
       "      <td>,</td>\n",
       "      <td>1839</td>\n",
       "      <td>CARDINAL</td>\n",
       "      <td>одна тысяча восемьсот тридцать восемь</td>\n",
       "      <td>тысяча восемьсот тридцать восемь</td>\n",
       "    </tr>\n",
       "    <tr>\n",
       "      <th>8049330</th>\n",
       "      <td>1665</td>\n",
       "      <td>.</td>\n",
       "      <td>В</td>\n",
       "      <td>Генри</td>\n",
       "      <td>Ольденбург</td>\n",
       "      <td>CARDINAL</td>\n",
       "      <td>одна тысяча шестьсот шестьдесят пять</td>\n",
       "      <td>тысячью шестистах шестидесяти пяти</td>\n",
       "    </tr>\n",
       "  </tbody>\n",
       "</table>\n",
       "</div>"
      ],
      "text/plain": [
       "<div>\n",
       "<style scoped>\n",
       "    .dataframe tbody tr th:only-of-type {\n",
       "        vertical-align: middle;\n",
       "    }\n",
       "\n",
       "    .dataframe tbody tr th {\n",
       "        vertical-align: top;\n",
       "    }\n",
       "\n",
       "    .dataframe thead th {\n",
       "        text-align: right;\n",
       "    }\n",
       "</style>\n",
       "<table border=\"1\" class=\"dataframe\">\n",
       "  <thead>\n",
       "    <tr style=\"text-align: right;\">\n",
       "      <th></th>\n",
       "      <th>before</th>\n",
       "      <th>prev_prev</th>\n",
       "      <th>prev</th>\n",
       "      <th>next</th>\n",
       "      <th>next_next</th>\n",
       "      <th>class</th>\n",
       "      <th>after</th>\n",
       "      <th>after_true</th>\n",
       "    </tr>\n",
       "  </thead>\n",
       "  <tbody>\n",
       "    <tr>\n",
       "      <th>9045901</th>\n",
       "      <td>1</td>\n",
       "      <td>бюстов</td>\n",
       "      <td>,</td>\n",
       "      <td>герма</td>\n",
       "      <td>)</td>\n",
       "      <td>CARDINAL</td>\n",
       "      <td>один</td>\n",
       "      <td>одна</td>\n",
       "    </tr>\n",
       "    <tr>\n",
       "      <th>1206649</th>\n",
       "      <td>XV</td>\n",
       "      <td>построенный</td>\n",
       "      <td>в</td>\n",
       "      <td>веке</td>\n",
       "      <td>.</td>\n",
       "      <td>CARDINAL</td>\n",
       "      <td>пятнадцать</td>\n",
       "      <td>пятнадцатом</td>\n",
       "    </tr>\n",
       "    <tr>\n",
       "      <th>10119206</th>\n",
       "      <td>84</td>\n",
       "      <td>видов</td>\n",
       "      <td>и</td>\n",
       "      <td>формы</td>\n",
       "      <td>совок</td>\n",
       "      <td>CARDINAL</td>\n",
       "      <td>восемьдесят четыре</td>\n",
       "      <td>восьмидесяти четырех</td>\n",
       "    </tr>\n",
       "    <tr>\n",
       "      <th>7074808</th>\n",
       "      <td>743</td>\n",
       "      <td>741</td>\n",
       "      <td>или</td>\n",
       "      <td>году</td>\n",
       "      <td>.</td>\n",
       "      <td>CARDINAL</td>\n",
       "      <td>семьсот сорок три</td>\n",
       "      <td>семистах сорока трех</td>\n",
       "    </tr>\n",
       "    <tr>\n",
       "      <th>9298107</th>\n",
       "      <td>1</td>\n",
       "      <td>поражение</td>\n",
       "      <td>:</td>\n",
       "      <td>:</td>\n",
       "      <td>7</td>\n",
       "      <td>CARDINAL</td>\n",
       "      <td>1</td>\n",
       "      <td>один</td>\n",
       "    </tr>\n",
       "    <tr>\n",
       "      <th>836450</th>\n",
       "      <td>XXXIV</td>\n",
       "      <td>Всеобщая</td>\n",
       "      <td>история</td>\n",
       "      <td>2</td>\n",
       "      <td>,</td>\n",
       "      <td>CARDINAL</td>\n",
       "      <td>тридцать четыре</td>\n",
       "      <td>тридцати четырех</td>\n",
       "    </tr>\n",
       "    <tr>\n",
       "      <th>2736199</th>\n",
       "      <td>1637</td>\n",
       "      <td>.</td>\n",
       "      <td>В</td>\n",
       "      <td>обосновался</td>\n",
       "      <td>в</td>\n",
       "      <td>CARDINAL</td>\n",
       "      <td>одна тысяча шестьсот тридцать семь</td>\n",
       "      <td>тысячью шестистах тридцати семи</td>\n",
       "    </tr>\n",
       "    <tr>\n",
       "      <th>3797422</th>\n",
       "      <td>800</td>\n",
       "      <td>вмещавшая</td>\n",
       "      <td>до</td>\n",
       "      <td>прихожан</td>\n",
       "      <td>,</td>\n",
       "      <td>CARDINAL</td>\n",
       "      <td>восемьсот</td>\n",
       "      <td>восьмисот</td>\n",
       "    </tr>\n",
       "    <tr>\n",
       "      <th>5685773</th>\n",
       "      <td>II</td>\n",
       "      <td>приезде</td>\n",
       "      <td>Петра</td>\n",
       "      <td>в</td>\n",
       "      <td>Москву</td>\n",
       "      <td>CARDINAL</td>\n",
       "      <td>два</td>\n",
       "      <td>второго</td>\n",
       "    </tr>\n",
       "    <tr>\n",
       "      <th>9271942</th>\n",
       "      <td>4</td>\n",
       "      <td>фронте</td>\n",
       "      <td>находились</td>\n",
       "      <td>пехотные</td>\n",
       "      <td>и</td>\n",
       "      <td>CARDINAL</td>\n",
       "      <td>четыре</td>\n",
       "      <td>четырьмя</td>\n",
       "    </tr>\n",
       "    <tr>\n",
       "      <th>1365019</th>\n",
       "      <td>455</td>\n",
       "      <td>бургунды</td>\n",
       "      <td>с</td>\n",
       "      <td>года</td>\n",
       "      <td>начинают</td>\n",
       "      <td>CARDINAL</td>\n",
       "      <td>четыреста пятьдесят пять</td>\n",
       "      <td>четырехсот пятидесяти пяти</td>\n",
       "    </tr>\n",
       "    <tr>\n",
       "      <th>2424267</th>\n",
       "      <td>1936</td>\n",
       "      <td>графства</td>\n",
       "      <td>:</td>\n",
       "      <td>:</td>\n",
       "      <td>142 310</td>\n",
       "      <td>CARDINAL</td>\n",
       "      <td>одна тысяча девятьсот тридцать шесть</td>\n",
       "      <td>один девять три шесть</td>\n",
       "    </tr>\n",
       "    <tr>\n",
       "      <th>452803</th>\n",
       "      <td>6781</td>\n",
       "      <td>.</td>\n",
       "      <td>Население</td>\n",
       "      <td>человек</td>\n",
       "      <td>(</td>\n",
       "      <td>CARDINAL</td>\n",
       "      <td>шесть тысяч семьсот восемьдесят один</td>\n",
       "      <td>шести тысяч семисот восьмидесяти одного</td>\n",
       "    </tr>\n",
       "    <tr>\n",
       "      <th>4138215</th>\n",
       "      <td>2</td>\n",
       "      <td>,</td>\n",
       "      <td>от</td>\n",
       "      <td>—</td>\n",
       "      <td>8 см</td>\n",
       "      <td>CARDINAL</td>\n",
       "      <td>двух</td>\n",
       "      <td>два</td>\n",
       "    </tr>\n",
       "    <tr>\n",
       "      <th>4729043</th>\n",
       "      <td>II</td>\n",
       "      <td>Отечественной</td>\n",
       "      <td>войны</td>\n",
       "      <td>степени</td>\n",
       "      <td>.</td>\n",
       "      <td>CARDINAL</td>\n",
       "      <td>два</td>\n",
       "      <td>двух</td>\n",
       "    </tr>\n",
       "    <tr>\n",
       "      <th>9604502</th>\n",
       "      <td>94</td>\n",
       "      <td>ВСК</td>\n",
       "      <td>-</td>\n",
       "      <td>.</td>\n",
       "      <td>Калаш</td>\n",
       "      <td>CARDINAL</td>\n",
       "      <td>девяноста четырех</td>\n",
       "      <td>девяносто четыре</td>\n",
       "    </tr>\n",
       "    <tr>\n",
       "      <th>931903</th>\n",
       "      <td>III</td>\n",
       "      <td>.</td>\n",
       "      <td>Анны</td>\n",
       "      <td>степени</td>\n",
       "      <td>и</td>\n",
       "      <td>CARDINAL</td>\n",
       "      <td>три</td>\n",
       "      <td>третьей</td>\n",
       "    </tr>\n",
       "    <tr>\n",
       "      <th>10509123</th>\n",
       "      <td>21</td>\n",
       "      <td>с</td>\n",
       "      <td>решениями</td>\n",
       "      <td>съезда</td>\n",
       "      <td>КПСС</td>\n",
       "      <td>CARDINAL</td>\n",
       "      <td>двадцать один</td>\n",
       "      <td>двадцати одного</td>\n",
       "    </tr>\n",
       "    <tr>\n",
       "      <th>3616379</th>\n",
       "      <td>1838</td>\n",
       "      <td>)</td>\n",
       "      <td>.</td>\n",
       "      <td>,</td>\n",
       "      <td>1839</td>\n",
       "      <td>CARDINAL</td>\n",
       "      <td>одна тысяча восемьсот тридцать восемь</td>\n",
       "      <td>тысяча восемьсот тридцать восемь</td>\n",
       "    </tr>\n",
       "    <tr>\n",
       "      <th>8049330</th>\n",
       "      <td>1665</td>\n",
       "      <td>.</td>\n",
       "      <td>В</td>\n",
       "      <td>Генри</td>\n",
       "      <td>Ольденбург</td>\n",
       "      <td>CARDINAL</td>\n",
       "      <td>одна тысяча шестьсот шестьдесят пять</td>\n",
       "      <td>тысячью шестистах шестидесяти пяти</td>\n",
       "    </tr>\n",
       "  </tbody>\n",
       "</table>\n",
       "</div>"
      ]
     },
     "execution_count": 30,
     "metadata": {},
     "output_type": "execute_result"
    }
   ],
   "source": [
    "predicted[(predicted[\"after\"].isnull())]['class'].value_counts()"
   ]
  },
  {
   "cell_type": "code",
   "execution_count": 11,
   "metadata": {
    "collapsed": false
   },
   "outputs": [
    {
     "data": {
      "text/html": [
       "<div>\n",
       "<style scoped>\n",
       "    .dataframe tbody tr th:only-of-type {\n",
       "        vertical-align: middle;\n",
       "    }\n",
       "\n",
       "    .dataframe tbody tr th {\n",
       "        vertical-align: top;\n",
       "    }\n",
       "\n",
       "    .dataframe thead th {\n",
       "        text-align: right;\n",
       "    }\n",
       "</style>\n",
       "<table border=\"1\" class=\"dataframe\">\n",
       "  <thead>\n",
       "    <tr style=\"text-align: right;\">\n",
       "      <th></th>\n",
       "      <th>before</th>\n",
       "      <th>prev_prev</th>\n",
       "      <th>prev</th>\n",
       "      <th>next</th>\n",
       "      <th>next_next</th>\n",
       "      <th>class</th>\n",
       "      <th>after</th>\n",
       "      <th>after_true</th>\n",
       "    </tr>\n",
       "  </thead>\n",
       "  <tbody>\n",
       "    <tr>\n",
       "      <th>1353993</th>\n",
       "      <td>13</td>\n",
       "      <td>Chamberlains</td>\n",
       "      <td>#</td>\n",
       "      <td>jersey</td>\n",
       "      <td>is</td>\n",
       "      <td>CARDINAL</td>\n",
       "      <td>семьсот</td>\n",
       "      <td>тринадцать</td>\n",
       "    </tr>\n",
       "    <tr>\n",
       "      <th>1911929</th>\n",
       "      <td>1772</td>\n",
       "      <td>1738</td>\n",
       "      <td>—</td>\n",
       "      <td>)</td>\n",
       "      <td>—</td>\n",
       "      <td>CARDINAL</td>\n",
       "      <td>тысяча тринадцать семьдесят три</td>\n",
       "      <td>тысяча семьсот семьдесят два</td>\n",
       "    </tr>\n",
       "    <tr>\n",
       "      <th>4668248</th>\n",
       "      <td>1893</td>\n",
       "      <td>Владимирович</td>\n",
       "      <td>(</td>\n",
       "      <td>—</td>\n",
       "      <td>1938</td>\n",
       "      <td>CARDINAL</td>\n",
       "      <td>тысяча восемьсот девяносто два</td>\n",
       "      <td>тысяча восемьсот девяносто три</td>\n",
       "    </tr>\n",
       "    <tr>\n",
       "      <th>478747</th>\n",
       "      <td>27</td>\n",
       "      <td>FC</td>\n",
       "      <td>(</td>\n",
       "      <td>February</td>\n",
       "      <td>2012</td>\n",
       "      <td>CARDINAL</td>\n",
       "      <td>двести шестьдесят три</td>\n",
       "      <td>двадцать семь</td>\n",
       "    </tr>\n",
       "    <tr>\n",
       "      <th>4787389</th>\n",
       "      <td>III</td>\n",
       "      <td>послание</td>\n",
       "      <td>Алексею</td>\n",
       "      <td>.</td>\n",
       "      <td>2 мая 2015 года</td>\n",
       "      <td>CARDINAL</td>\n",
       "      <td>двух</td>\n",
       "      <td>трех</td>\n",
       "    </tr>\n",
       "    <tr>\n",
       "      <th>2925004</th>\n",
       "      <td>XIX</td>\n",
       "      <td>XVIII</td>\n",
       "      <td>и</td>\n",
       "      <td>вв</td>\n",
       "      <td>.</td>\n",
       "      <td>CARDINAL</td>\n",
       "      <td>восемь</td>\n",
       "      <td>девятнадцать</td>\n",
       "    </tr>\n",
       "    <tr>\n",
       "      <th>7223719</th>\n",
       "      <td>1932</td>\n",
       "      <td>.</td>\n",
       "      <td>в</td>\n",
       "      <td>-33</td>\n",
       "      <td>годах</td>\n",
       "      <td>CARDINAL</td>\n",
       "      <td>тысячью семидесяти тридцати двух</td>\n",
       "      <td>тысяча девятьсот тридцать втором</td>\n",
       "    </tr>\n",
       "    <tr>\n",
       "      <th>725503</th>\n",
       "      <td>1782</td>\n",
       "      <td>Ghislain</td>\n",
       "      <td>Parmentier</td>\n",
       "      <td>—</td>\n",
       "      <td>1847</td>\n",
       "      <td>CARDINAL</td>\n",
       "      <td>тысяча тринадцать восемьдесят три</td>\n",
       "      <td>тысяча семьсот восемьдесят два</td>\n",
       "    </tr>\n",
       "    <tr>\n",
       "      <th>3480868</th>\n",
       "      <td>18</td>\n",
       "      <td>5</td>\n",
       "      <td>(</td>\n",
       "      <td>)</td>\n",
       "      <td>декабря</td>\n",
       "      <td>CARDINAL</td>\n",
       "      <td>семнадцать</td>\n",
       "      <td>восемнадцать</td>\n",
       "    </tr>\n",
       "    <tr>\n",
       "      <th>3158128</th>\n",
       "      <td>1962</td>\n",
       "      <td>роль</td>\n",
       "      <td>)</td>\n",
       "      <td>—</td>\n",
       "      <td>Ева</td>\n",
       "      <td>CARDINAL</td>\n",
       "      <td>тысяча девятьсот шестьдесят три</td>\n",
       "      <td>тысяча девятьсот шестьдесят два</td>\n",
       "    </tr>\n",
       "    <tr>\n",
       "      <th>1464663</th>\n",
       "      <td>1963</td>\n",
       "      <td>.</td>\n",
       "      <td>Население</td>\n",
       "      <td>человека</td>\n",
       "      <td>(</td>\n",
       "      <td>CARDINAL</td>\n",
       "      <td>тысяча девятьсот шестьдесят два</td>\n",
       "      <td>тысячи девятисот шестидесяти трех</td>\n",
       "    </tr>\n",
       "    <tr>\n",
       "      <th>8448865</th>\n",
       "      <td>6</td>\n",
       "      <td>на</td>\n",
       "      <td>старт</td>\n",
       "      <td>гонок</td>\n",
       "      <td>в</td>\n",
       "      <td>CARDINAL</td>\n",
       "      <td>семь</td>\n",
       "      <td>шесть</td>\n",
       "    </tr>\n",
       "    <tr>\n",
       "      <th>6740647</th>\n",
       "      <td>4</td>\n",
       "      <td>82 т.</td>\n",
       "      <td>и</td>\n",
       "      <td>доп</td>\n",
       "      <td>.</td>\n",
       "      <td>CARDINAL</td>\n",
       "      <td>четырех</td>\n",
       "      <td>четыре</td>\n",
       "    </tr>\n",
       "    <tr>\n",
       "      <th>4060657</th>\n",
       "      <td>172</td>\n",
       "      <td>С.</td>\n",
       "      <td>от</td>\n",
       "      <td>—</td>\n",
       "      <td>173</td>\n",
       "      <td>CARDINAL</td>\n",
       "      <td>сто семьдесят три</td>\n",
       "      <td>ста семидесяти двух</td>\n",
       "    </tr>\n",
       "    <tr>\n",
       "      <th>9822326</th>\n",
       "      <td>1940</td>\n",
       "      <td>Пермь</td>\n",
       "      <td>с</td>\n",
       "      <td>по</td>\n",
       "      <td>1957</td>\n",
       "      <td>CARDINAL</td>\n",
       "      <td>шестнадцати девятисот сорока</td>\n",
       "      <td>тысяча девятьсот сорокового</td>\n",
       "    </tr>\n",
       "    <tr>\n",
       "      <th>2615871</th>\n",
       "      <td>2007</td>\n",
       "      <td>человек</td>\n",
       "      <td>(</td>\n",
       "      <td>)</td>\n",
       "      <td>.</td>\n",
       "      <td>CARDINAL</td>\n",
       "      <td>две тысячи шесть</td>\n",
       "      <td>две тысячи семь</td>\n",
       "    </tr>\n",
       "    <tr>\n",
       "      <th>3529564</th>\n",
       "      <td>2007</td>\n",
       "      <td>(</td>\n",
       "      <td>Kaldellis</td>\n",
       "      <td>,</td>\n",
       "      <td>p</td>\n",
       "      <td>CARDINAL</td>\n",
       "      <td>две тысячи шесть</td>\n",
       "      <td>две тысячи семь</td>\n",
       "    </tr>\n",
       "    <tr>\n",
       "      <th>1657585</th>\n",
       "      <td>2003</td>\n",
       "      <td>Польши</td>\n",
       "      <td>.</td>\n",
       "      <td>,</td>\n",
       "      <td>17 февраля</td>\n",
       "      <td>CARDINAL</td>\n",
       "      <td>две тысячи два</td>\n",
       "      <td>две тысячи три</td>\n",
       "    </tr>\n",
       "    <tr>\n",
       "      <th>7255155</th>\n",
       "      <td>700</td>\n",
       "      <td>500</td>\n",
       "      <td>—</td>\n",
       "      <td>летними</td>\n",
       "      <td>деревьями</td>\n",
       "      <td>CARDINAL</td>\n",
       "      <td>тринадцать</td>\n",
       "      <td>семисот</td>\n",
       "    </tr>\n",
       "    <tr>\n",
       "      <th>2850445</th>\n",
       "      <td>36</td>\n",
       "      <td>Schizophrenia</td>\n",
       "      <td>Bulletin</td>\n",
       "      <td>(</td>\n",
       "      <td>1</td>\n",
       "      <td>CARDINAL</td>\n",
       "      <td>триста шестьдесят</td>\n",
       "      <td>тридцать шесть</td>\n",
       "    </tr>\n",
       "  </tbody>\n",
       "</table>\n",
       "</div>"
      ],
      "text/plain": [
       "<div>\n",
       "<style scoped>\n",
       "    .dataframe tbody tr th:only-of-type {\n",
       "        vertical-align: middle;\n",
       "    }\n",
       "\n",
       "    .dataframe tbody tr th {\n",
       "        vertical-align: top;\n",
       "    }\n",
       "\n",
       "    .dataframe thead th {\n",
       "        text-align: right;\n",
       "    }\n",
       "</style>\n",
       "<table border=\"1\" class=\"dataframe\">\n",
       "  <thead>\n",
       "    <tr style=\"text-align: right;\">\n",
       "      <th></th>\n",
       "      <th>before</th>\n",
       "      <th>prev_prev</th>\n",
       "      <th>prev</th>\n",
       "      <th>next</th>\n",
       "      <th>next_next</th>\n",
       "      <th>class</th>\n",
       "      <th>after</th>\n",
       "      <th>after_true</th>\n",
       "    </tr>\n",
       "  </thead>\n",
       "  <tbody>\n",
       "    <tr>\n",
       "      <th>1353993</th>\n",
       "      <td>13</td>\n",
       "      <td>Chamberlains</td>\n",
       "      <td>#</td>\n",
       "      <td>jersey</td>\n",
       "      <td>is</td>\n",
       "      <td>CARDINAL</td>\n",
       "      <td>семьсот</td>\n",
       "      <td>тринадцать</td>\n",
       "    </tr>\n",
       "    <tr>\n",
       "      <th>1911929</th>\n",
       "      <td>1772</td>\n",
       "      <td>1738</td>\n",
       "      <td>—</td>\n",
       "      <td>)</td>\n",
       "      <td>—</td>\n",
       "      <td>CARDINAL</td>\n",
       "      <td>тысяча тринадцать семьдесят три</td>\n",
       "      <td>тысяча семьсот семьдесят два</td>\n",
       "    </tr>\n",
       "    <tr>\n",
       "      <th>4668248</th>\n",
       "      <td>1893</td>\n",
       "      <td>Владимирович</td>\n",
       "      <td>(</td>\n",
       "      <td>—</td>\n",
       "      <td>1938</td>\n",
       "      <td>CARDINAL</td>\n",
       "      <td>тысяча восемьсот девяносто два</td>\n",
       "      <td>тысяча восемьсот девяносто три</td>\n",
       "    </tr>\n",
       "    <tr>\n",
       "      <th>478747</th>\n",
       "      <td>27</td>\n",
       "      <td>FC</td>\n",
       "      <td>(</td>\n",
       "      <td>February</td>\n",
       "      <td>2012</td>\n",
       "      <td>CARDINAL</td>\n",
       "      <td>двести шестьдесят три</td>\n",
       "      <td>двадцать семь</td>\n",
       "    </tr>\n",
       "    <tr>\n",
       "      <th>4787389</th>\n",
       "      <td>III</td>\n",
       "      <td>послание</td>\n",
       "      <td>Алексею</td>\n",
       "      <td>.</td>\n",
       "      <td>2 мая 2015 года</td>\n",
       "      <td>CARDINAL</td>\n",
       "      <td>двух</td>\n",
       "      <td>трех</td>\n",
       "    </tr>\n",
       "    <tr>\n",
       "      <th>2925004</th>\n",
       "      <td>XIX</td>\n",
       "      <td>XVIII</td>\n",
       "      <td>и</td>\n",
       "      <td>вв</td>\n",
       "      <td>.</td>\n",
       "      <td>CARDINAL</td>\n",
       "      <td>восемь</td>\n",
       "      <td>девятнадцать</td>\n",
       "    </tr>\n",
       "    <tr>\n",
       "      <th>7223719</th>\n",
       "      <td>1932</td>\n",
       "      <td>.</td>\n",
       "      <td>в</td>\n",
       "      <td>-33</td>\n",
       "      <td>годах</td>\n",
       "      <td>CARDINAL</td>\n",
       "      <td>тысячью семидесяти тридцати двух</td>\n",
       "      <td>тысяча девятьсот тридцать втором</td>\n",
       "    </tr>\n",
       "    <tr>\n",
       "      <th>725503</th>\n",
       "      <td>1782</td>\n",
       "      <td>Ghislain</td>\n",
       "      <td>Parmentier</td>\n",
       "      <td>—</td>\n",
       "      <td>1847</td>\n",
       "      <td>CARDINAL</td>\n",
       "      <td>тысяча тринадцать восемьдесят три</td>\n",
       "      <td>тысяча семьсот восемьдесят два</td>\n",
       "    </tr>\n",
       "    <tr>\n",
       "      <th>3480868</th>\n",
       "      <td>18</td>\n",
       "      <td>5</td>\n",
       "      <td>(</td>\n",
       "      <td>)</td>\n",
       "      <td>декабря</td>\n",
       "      <td>CARDINAL</td>\n",
       "      <td>семнадцать</td>\n",
       "      <td>восемнадцать</td>\n",
       "    </tr>\n",
       "    <tr>\n",
       "      <th>3158128</th>\n",
       "      <td>1962</td>\n",
       "      <td>роль</td>\n",
       "      <td>)</td>\n",
       "      <td>—</td>\n",
       "      <td>Ева</td>\n",
       "      <td>CARDINAL</td>\n",
       "      <td>тысяча девятьсот шестьдесят три</td>\n",
       "      <td>тысяча девятьсот шестьдесят два</td>\n",
       "    </tr>\n",
       "    <tr>\n",
       "      <th>1464663</th>\n",
       "      <td>1963</td>\n",
       "      <td>.</td>\n",
       "      <td>Население</td>\n",
       "      <td>человека</td>\n",
       "      <td>(</td>\n",
       "      <td>CARDINAL</td>\n",
       "      <td>тысяча девятьсот шестьдесят два</td>\n",
       "      <td>тысячи девятисот шестидесяти трех</td>\n",
       "    </tr>\n",
       "    <tr>\n",
       "      <th>8448865</th>\n",
       "      <td>6</td>\n",
       "      <td>на</td>\n",
       "      <td>старт</td>\n",
       "      <td>гонок</td>\n",
       "      <td>в</td>\n",
       "      <td>CARDINAL</td>\n",
       "      <td>семь</td>\n",
       "      <td>шесть</td>\n",
       "    </tr>\n",
       "    <tr>\n",
       "      <th>6740647</th>\n",
       "      <td>4</td>\n",
       "      <td>82 т.</td>\n",
       "      <td>и</td>\n",
       "      <td>доп</td>\n",
       "      <td>.</td>\n",
       "      <td>CARDINAL</td>\n",
       "      <td>четырех</td>\n",
       "      <td>четыре</td>\n",
       "    </tr>\n",
       "    <tr>\n",
       "      <th>4060657</th>\n",
       "      <td>172</td>\n",
       "      <td>С.</td>\n",
       "      <td>от</td>\n",
       "      <td>—</td>\n",
       "      <td>173</td>\n",
       "      <td>CARDINAL</td>\n",
       "      <td>сто семьдесят три</td>\n",
       "      <td>ста семидесяти двух</td>\n",
       "    </tr>\n",
       "    <tr>\n",
       "      <th>9822326</th>\n",
       "      <td>1940</td>\n",
       "      <td>Пермь</td>\n",
       "      <td>с</td>\n",
       "      <td>по</td>\n",
       "      <td>1957</td>\n",
       "      <td>CARDINAL</td>\n",
       "      <td>шестнадцати девятисот сорока</td>\n",
       "      <td>тысяча девятьсот сорокового</td>\n",
       "    </tr>\n",
       "    <tr>\n",
       "      <th>2615871</th>\n",
       "      <td>2007</td>\n",
       "      <td>человек</td>\n",
       "      <td>(</td>\n",
       "      <td>)</td>\n",
       "      <td>.</td>\n",
       "      <td>CARDINAL</td>\n",
       "      <td>две тысячи шесть</td>\n",
       "      <td>две тысячи семь</td>\n",
       "    </tr>\n",
       "    <tr>\n",
       "      <th>3529564</th>\n",
       "      <td>2007</td>\n",
       "      <td>(</td>\n",
       "      <td>Kaldellis</td>\n",
       "      <td>,</td>\n",
       "      <td>p</td>\n",
       "      <td>CARDINAL</td>\n",
       "      <td>две тысячи шесть</td>\n",
       "      <td>две тысячи семь</td>\n",
       "    </tr>\n",
       "    <tr>\n",
       "      <th>1657585</th>\n",
       "      <td>2003</td>\n",
       "      <td>Польши</td>\n",
       "      <td>.</td>\n",
       "      <td>,</td>\n",
       "      <td>17 февраля</td>\n",
       "      <td>CARDINAL</td>\n",
       "      <td>две тысячи два</td>\n",
       "      <td>две тысячи три</td>\n",
       "    </tr>\n",
       "    <tr>\n",
       "      <th>7255155</th>\n",
       "      <td>700</td>\n",
       "      <td>500</td>\n",
       "      <td>—</td>\n",
       "      <td>летними</td>\n",
       "      <td>деревьями</td>\n",
       "      <td>CARDINAL</td>\n",
       "      <td>тринадцать</td>\n",
       "      <td>семисот</td>\n",
       "    </tr>\n",
       "    <tr>\n",
       "      <th>2850445</th>\n",
       "      <td>36</td>\n",
       "      <td>Schizophrenia</td>\n",
       "      <td>Bulletin</td>\n",
       "      <td>(</td>\n",
       "      <td>1</td>\n",
       "      <td>CARDINAL</td>\n",
       "      <td>триста шестьдесят</td>\n",
       "      <td>тридцать шесть</td>\n",
       "    </tr>\n",
       "  </tbody>\n",
       "</table>\n",
       "</div>"
      ]
     },
     "execution_count": 11,
     "metadata": {},
     "output_type": "execute_result"
    }
   ],
   "source": [
    "predicted[~(predicted[\"after\"] == y_test) & ~(predicted[\"after\"].isnull()) & (predicted['class']=='CARDINAL')].sample(20)"
   ]
  },
  {
   "cell_type": "code",
   "execution_count": 15,
   "metadata": {
    "collapsed": false
   },
   "outputs": [
    {
     "data": {
      "text/html": [
       "<div>\n",
       "<style scoped>\n",
       "    .dataframe tbody tr th:only-of-type {\n",
       "        vertical-align: middle;\n",
       "    }\n",
       "\n",
       "    .dataframe tbody tr th {\n",
       "        vertical-align: top;\n",
       "    }\n",
       "\n",
       "    .dataframe thead th {\n",
       "        text-align: right;\n",
       "    }\n",
       "</style>\n",
       "<table border=\"1\" class=\"dataframe\">\n",
       "  <thead>\n",
       "    <tr style=\"text-align: right;\">\n",
       "      <th></th>\n",
       "      <th>before</th>\n",
       "      <th>prev_prev</th>\n",
       "      <th>prev</th>\n",
       "      <th>next</th>\n",
       "      <th>next_next</th>\n",
       "      <th>class</th>\n",
       "      <th>case</th>\n",
       "      <th>number</th>\n",
       "      <th>after</th>\n",
       "      <th>after_true</th>\n",
       "    </tr>\n",
       "  </thead>\n",
       "  <tbody>\n",
       "    <tr>\n",
       "      <th>3439716</th>\n",
       "      <td>.</td>\n",
       "      <td>и</td>\n",
       "      <td>CCKB</td>\n",
       "      <td>Первая</td>\n",
       "      <td>бригада</td>\n",
       "      <td>CARDINAL</td>\n",
       "      <td>nomn</td>\n",
       "      <td>sing</td>\n",
       "      <td>None</td>\n",
       "      <td>.</td>\n",
       "    </tr>\n",
       "    <tr>\n",
       "      <th>228056</th>\n",
       "      <td>.</td>\n",
       "      <td>первоисточника</td>\n",
       "      <td>26 апреля 2015</td>\n",
       "      <td>Усадьба</td>\n",
       "      <td>Барсовой</td>\n",
       "      <td>CARDINAL</td>\n",
       "      <td>nomn</td>\n",
       "      <td>sing</td>\n",
       "      <td>None</td>\n",
       "      <td>.</td>\n",
       "    </tr>\n",
       "    <tr>\n",
       "      <th>5254234</th>\n",
       "      <td>.</td>\n",
       "      <td>с</td>\n",
       "      <td>компанией</td>\n",
       "      <td>Тонкий</td>\n",
       "      <td>хвост</td>\n",
       "      <td>CARDINAL</td>\n",
       "      <td>nomn</td>\n",
       "      <td>sing</td>\n",
       "      <td>None</td>\n",
       "      <td>.</td>\n",
       "    </tr>\n",
       "    <tr>\n",
       "      <th>1074310</th>\n",
       "      <td>184</td>\n",
       "      <td>жителей</td>\n",
       "      <td>работали</td>\n",
       "      <td>человека</td>\n",
       "      <td>(</td>\n",
       "      <td>CARDINAL</td>\n",
       "      <td>nomn</td>\n",
       "      <td>sing</td>\n",
       "      <td>сто восемьдесят четыре</td>\n",
       "      <td>сто восемьдесят четыре</td>\n",
       "    </tr>\n",
       "    <tr>\n",
       "      <th>7318781</th>\n",
       "      <td>7</td>\n",
       "      <td>23</td>\n",
       "      <td>.</td>\n",
       "      <td>человек</td>\n",
       "      <td>на</td>\n",
       "      <td>CARDINAL</td>\n",
       "      <td>nomn</td>\n",
       "      <td>none</td>\n",
       "      <td>семь</td>\n",
       "      <td>семь</td>\n",
       "    </tr>\n",
       "    <tr>\n",
       "      <th>3260148</th>\n",
       "      <td>-</td>\n",
       "      <td>украинкой</td>\n",
       "      <td>Ганной</td>\n",
       "      <td>рисовальщицей</td>\n",
       "      <td>»</td>\n",
       "      <td>CARDINAL</td>\n",
       "      <td>nomn</td>\n",
       "      <td>sing</td>\n",
       "      <td>None</td>\n",
       "      <td>-</td>\n",
       "    </tr>\n",
       "    <tr>\n",
       "      <th>268049</th>\n",
       "      <td>.</td>\n",
       "      <td>(</td>\n",
       "      <td>исп</td>\n",
       "      <td>Keiko</td>\n",
       "      <td>Sofia</td>\n",
       "      <td>CARDINAL</td>\n",
       "      <td>nomn</td>\n",
       "      <td>sing</td>\n",
       "      <td>None</td>\n",
       "      <td>.</td>\n",
       "    </tr>\n",
       "    <tr>\n",
       "      <th>8609176</th>\n",
       "      <td>-</td>\n",
       "      <td>и</td>\n",
       "      <td>Сен</td>\n",
       "      <td>Филип</td>\n",
       "      <td>,</td>\n",
       "      <td>CARDINAL</td>\n",
       "      <td>nomn</td>\n",
       "      <td>sing</td>\n",
       "      <td>None</td>\n",
       "      <td>-</td>\n",
       "    </tr>\n",
       "    <tr>\n",
       "      <th>4202194</th>\n",
       "      <td>.</td>\n",
       "      <td>en</td>\n",
       "      <td>Diest</td>\n",
       "      <td>Король</td>\n",
       "      <td>Эдуард</td>\n",
       "      <td>CARDINAL</td>\n",
       "      <td>nomn</td>\n",
       "      <td>sing</td>\n",
       "      <td>None</td>\n",
       "      <td>.</td>\n",
       "    </tr>\n",
       "    <tr>\n",
       "      <th>2757101</th>\n",
       "      <td>779</td>\n",
       "      <td>775</td>\n",
       "      <td>по</td>\n",
       "      <td>.</td>\n",
       "      <td>Нерсе</td>\n",
       "      <td>CARDINAL</td>\n",
       "      <td>nomn</td>\n",
       "      <td>none</td>\n",
       "      <td>семьсот семьдесят девять</td>\n",
       "      <td>семьсот семьдесят девятый</td>\n",
       "    </tr>\n",
       "    <tr>\n",
       "      <th>64429</th>\n",
       "      <td>.</td>\n",
       "      <td>,</td>\n",
       "      <td>1922</td>\n",
       "      <td>Angles</td>\n",
       "      <td>H.</td>\n",
       "      <td>CARDINAL</td>\n",
       "      <td>nomn</td>\n",
       "      <td>sing</td>\n",
       "      <td>None</td>\n",
       "      <td>.</td>\n",
       "    </tr>\n",
       "    <tr>\n",
       "      <th>7704610</th>\n",
       "      <td>.</td>\n",
       "      <td>.</td>\n",
       "      <td>495</td>\n",
       "      <td>Martin</td>\n",
       "      <td>and</td>\n",
       "      <td>CARDINAL</td>\n",
       "      <td>nomn</td>\n",
       "      <td>sing</td>\n",
       "      <td>None</td>\n",
       "      <td>.</td>\n",
       "    </tr>\n",
       "    <tr>\n",
       "      <th>7824686</th>\n",
       "      <td>.</td>\n",
       "      <td>первоисточника</td>\n",
       "      <td>8 апреля 2013</td>\n",
       "      <td>Best</td>\n",
       "      <td>-</td>\n",
       "      <td>CARDINAL</td>\n",
       "      <td>nomn</td>\n",
       "      <td>sing</td>\n",
       "      <td>None</td>\n",
       "      <td>.</td>\n",
       "    </tr>\n",
       "    <tr>\n",
       "      <th>6324313</th>\n",
       "      <td>112</td>\n",
       "      <td>101</td>\n",
       "      <td>-</td>\n",
       "      <td>.</td>\n",
       "      <td>Mikel</td>\n",
       "      <td>CARDINAL</td>\n",
       "      <td>gent</td>\n",
       "      <td>none</td>\n",
       "      <td>сто двенадцати</td>\n",
       "      <td>ста двенадцати</td>\n",
       "    </tr>\n",
       "    <tr>\n",
       "      <th>2745465</th>\n",
       "      <td>-</td>\n",
       "      <td>,</td>\n",
       "      <td>по</td>\n",
       "      <td>прежнему</td>\n",
       "      <td>обсуждается</td>\n",
       "      <td>CARDINAL</td>\n",
       "      <td>nomn</td>\n",
       "      <td>sing</td>\n",
       "      <td>None</td>\n",
       "      <td>-</td>\n",
       "    </tr>\n",
       "    <tr>\n",
       "      <th>5457860</th>\n",
       "      <td>333</td>\n",
       "      <td>331</td>\n",
       "      <td>—</td>\n",
       "      <td>.</td>\n",
       "      <td>Зимин</td>\n",
       "      <td>CARDINAL</td>\n",
       "      <td>accs</td>\n",
       "      <td>sing</td>\n",
       "      <td>триста тридцать три</td>\n",
       "      <td>триста тридцать три</td>\n",
       "    </tr>\n",
       "    <tr>\n",
       "      <th>429987</th>\n",
       "      <td>-</td>\n",
       "      <td>в</td>\n",
       "      <td>Орехово</td>\n",
       "      <td>Зуевском</td>\n",
       "      <td>муниципальном</td>\n",
       "      <td>CARDINAL</td>\n",
       "      <td>nomn</td>\n",
       "      <td>sing</td>\n",
       "      <td>None</td>\n",
       "      <td>-</td>\n",
       "    </tr>\n",
       "    <tr>\n",
       "      <th>5434369</th>\n",
       "      <td>.</td>\n",
       "      <td>московской</td>\n",
       "      <td>теократии</td>\n",
       "      <td>Женевьева</td>\n",
       "      <td>Родис</td>\n",
       "      <td>CARDINAL</td>\n",
       "      <td>nomn</td>\n",
       "      <td>sing</td>\n",
       "      <td>None</td>\n",
       "      <td>.</td>\n",
       "    </tr>\n",
       "    <tr>\n",
       "      <th>2449632</th>\n",
       "      <td>.</td>\n",
       "      <td>-</td>\n",
       "      <td>2012</td>\n",
       "      <td>Ultratop</td>\n",
       "      <td>.</td>\n",
       "      <td>CARDINAL</td>\n",
       "      <td>nomn</td>\n",
       "      <td>sing</td>\n",
       "      <td>None</td>\n",
       "      <td>.</td>\n",
       "    </tr>\n",
       "    <tr>\n",
       "      <th>1837088</th>\n",
       "      <td>2006</td>\n",
       "      <td>рингу</td>\n",
       "      <td>(</td>\n",
       "      <td>)</td>\n",
       "      <td>.</td>\n",
       "      <td>CARDINAL</td>\n",
       "      <td>nomn</td>\n",
       "      <td>sing</td>\n",
       "      <td>две тысячи шесть</td>\n",
       "      <td>две тысячи шесть</td>\n",
       "    </tr>\n",
       "    <tr>\n",
       "      <th>6140572</th>\n",
       "      <td>.</td>\n",
       "      <td>5000</td>\n",
       "      <td>экз</td>\n",
       "      <td>Министерство</td>\n",
       "      <td>здравоохранения</td>\n",
       "      <td>CARDINAL</td>\n",
       "      <td>nomn</td>\n",
       "      <td>sing</td>\n",
       "      <td>None</td>\n",
       "      <td>.</td>\n",
       "    </tr>\n",
       "    <tr>\n",
       "      <th>330087</th>\n",
       "      <td>.</td>\n",
       "      <td>Jorge</td>\n",
       "      <td>Edwards</td>\n",
       "      <td>Основные</td>\n",
       "      <td>теоретики</td>\n",
       "      <td>CARDINAL</td>\n",
       "      <td>nomn</td>\n",
       "      <td>sing</td>\n",
       "      <td>None</td>\n",
       "      <td>.</td>\n",
       "    </tr>\n",
       "    <tr>\n",
       "      <th>5887363</th>\n",
       "      <td>/</td>\n",
       "      <td>(</td>\n",
       "      <td>2006</td>\n",
       "      <td>07</td>\n",
       "      <td>,</td>\n",
       "      <td>CARDINAL</td>\n",
       "      <td>nomn</td>\n",
       "      <td>sing</td>\n",
       "      <td>None</td>\n",
       "      <td>/</td>\n",
       "    </tr>\n",
       "    <tr>\n",
       "      <th>1842620</th>\n",
       "      <td>12</td>\n",
       "      <td>Царском</td>\n",
       "      <td>Селе</td>\n",
       "      <td>(</td>\n",
       "      <td>24</td>\n",
       "      <td>CARDINAL</td>\n",
       "      <td>nomn</td>\n",
       "      <td>none</td>\n",
       "      <td>двенадцать</td>\n",
       "      <td>двенадцать</td>\n",
       "    </tr>\n",
       "    <tr>\n",
       "      <th>9121114</th>\n",
       "      <td>20</td>\n",
       "      <td>большой</td>\n",
       "      <td>за</td>\n",
       "      <td>лет</td>\n",
       "      <td>.</td>\n",
       "      <td>CARDINAL</td>\n",
       "      <td>nomn</td>\n",
       "      <td>none</td>\n",
       "      <td>двадцать</td>\n",
       "      <td>двадцать</td>\n",
       "    </tr>\n",
       "    <tr>\n",
       "      <th>5942303</th>\n",
       "      <td>16</td>\n",
       "      <td>автором</td>\n",
       "      <td>в</td>\n",
       "      <td>лет</td>\n",
       "      <td>.</td>\n",
       "      <td>CARDINAL</td>\n",
       "      <td>nomn</td>\n",
       "      <td>none</td>\n",
       "      <td>шестнадцать</td>\n",
       "      <td>шестнадцать</td>\n",
       "    </tr>\n",
       "    <tr>\n",
       "      <th>4285396</th>\n",
       "      <td>.</td>\n",
       "      <td>И. И.</td>\n",
       "      <td>Соколов</td>\n",
       "      <td>Население</td>\n",
       "      <td>составляет</td>\n",
       "      <td>CARDINAL</td>\n",
       "      <td>nomn</td>\n",
       "      <td>sing</td>\n",
       "      <td>None</td>\n",
       "      <td>.</td>\n",
       "    </tr>\n",
       "    <tr>\n",
       "      <th>5657428</th>\n",
       "      <td>.</td>\n",
       "      <td>воду</td>\n",
       "      <td>16 мая 1818 года</td>\n",
       "      <td>Военные</td>\n",
       "      <td>кампании</td>\n",
       "      <td>CARDINAL</td>\n",
       "      <td>nomn</td>\n",
       "      <td>sing</td>\n",
       "      <td>None</td>\n",
       "      <td>.</td>\n",
       "    </tr>\n",
       "    <tr>\n",
       "      <th>3422143</th>\n",
       "      <td>.</td>\n",
       "      <td>Проверено</td>\n",
       "      <td>21 апреля 2015</td>\n",
       "      <td>Sudhish</td>\n",
       "      <td>Kamath</td>\n",
       "      <td>CARDINAL</td>\n",
       "      <td>nomn</td>\n",
       "      <td>sing</td>\n",
       "      <td>None</td>\n",
       "      <td>.</td>\n",
       "    </tr>\n",
       "    <tr>\n",
       "      <th>3990749</th>\n",
       "      <td>.</td>\n",
       "      <td>с</td>\n",
       "      <td>правдой</td>\n",
       "      <td>В</td>\n",
       "      <td>1955 году</td>\n",
       "      <td>CARDINAL</td>\n",
       "      <td>nomn</td>\n",
       "      <td>sing</td>\n",
       "      <td>None</td>\n",
       "      <td>.</td>\n",
       "    </tr>\n",
       "    <tr>\n",
       "      <th>...</th>\n",
       "      <td>...</td>\n",
       "      <td>...</td>\n",
       "      <td>...</td>\n",
       "      <td>...</td>\n",
       "      <td>...</td>\n",
       "      <td>...</td>\n",
       "      <td>...</td>\n",
       "      <td>...</td>\n",
       "      <td>...</td>\n",
       "      <td>...</td>\n",
       "    </tr>\n",
       "    <tr>\n",
       "      <th>10541187</th>\n",
       "      <td>.</td>\n",
       "      <td>историческое</td>\n",
       "      <td>значение</td>\n",
       "      <td>Автор</td>\n",
       "      <td>сценария</td>\n",
       "      <td>CARDINAL</td>\n",
       "      <td>nomn</td>\n",
       "      <td>sing</td>\n",
       "      <td>None</td>\n",
       "      <td>.</td>\n",
       "    </tr>\n",
       "    <tr>\n",
       "      <th>10527273</th>\n",
       "      <td>.</td>\n",
       "      <td>первоисточника</td>\n",
       "      <td>8 июля 2012</td>\n",
       "      <td>Gendron</td>\n",
       "      <td>,</td>\n",
       "      <td>CARDINAL</td>\n",
       "      <td>nomn</td>\n",
       "      <td>sing</td>\n",
       "      <td>None</td>\n",
       "      <td>.</td>\n",
       "    </tr>\n",
       "    <tr>\n",
       "      <th>7779410</th>\n",
       "      <td>.</td>\n",
       "      <td>первоисточника</td>\n",
       "      <td>18 августа 2012</td>\n",
       "      <td>Linkin</td>\n",
       "      <td>Park</td>\n",
       "      <td>CARDINAL</td>\n",
       "      <td>nomn</td>\n",
       "      <td>sing</td>\n",
       "      <td>None</td>\n",
       "      <td>.</td>\n",
       "    </tr>\n",
       "    <tr>\n",
       "      <th>2751668</th>\n",
       "      <td>.</td>\n",
       "      <td>особенно</td>\n",
       "      <td>женщин</td>\n",
       "      <td>Военная</td>\n",
       "      <td>кампания</td>\n",
       "      <td>CARDINAL</td>\n",
       "      <td>nomn</td>\n",
       "      <td>sing</td>\n",
       "      <td>None</td>\n",
       "      <td>.</td>\n",
       "    </tr>\n",
       "    <tr>\n",
       "      <th>2485600</th>\n",
       "      <td>XII</td>\n",
       "      <td>и</td>\n",
       "      <td>до</td>\n",
       "      <td>века</td>\n",
       "      <td>власть</td>\n",
       "      <td>CARDINAL</td>\n",
       "      <td>nomn</td>\n",
       "      <td>none</td>\n",
       "      <td>None</td>\n",
       "      <td>двенадцатого</td>\n",
       "    </tr>\n",
       "    <tr>\n",
       "      <th>8812525</th>\n",
       "      <td>20</td>\n",
       "      <td>(</td>\n",
       "      <td>до</td>\n",
       "      <td>)</td>\n",
       "      <td>VS</td>\n",
       "      <td>CARDINAL</td>\n",
       "      <td>nomn</td>\n",
       "      <td>none</td>\n",
       "      <td>двадцать</td>\n",
       "      <td>двадцати</td>\n",
       "    </tr>\n",
       "    <tr>\n",
       "      <th>5282690</th>\n",
       "      <td>.</td>\n",
       "      <td>:</td>\n",
       "      <td>ил</td>\n",
       "      <td>В. А.</td>\n",
       "      <td>Возчикова</td>\n",
       "      <td>CARDINAL</td>\n",
       "      <td>nomn</td>\n",
       "      <td>sing</td>\n",
       "      <td>None</td>\n",
       "      <td>.</td>\n",
       "    </tr>\n",
       "    <tr>\n",
       "      <th>2079557</th>\n",
       "      <td>.</td>\n",
       "      <td>доктора</td>\n",
       "      <td>техн</td>\n",
       "      <td>наук</td>\n",
       "      <td>.</td>\n",
       "      <td>CARDINAL</td>\n",
       "      <td>nomn</td>\n",
       "      <td>sing</td>\n",
       "      <td>None</td>\n",
       "      <td>.</td>\n",
       "    </tr>\n",
       "    <tr>\n",
       "      <th>7510534</th>\n",
       "      <td>482</td>\n",
       "      <td>Космос</td>\n",
       "      <td>-</td>\n",
       "      <td>—</td>\n",
       "      <td>автоматическая</td>\n",
       "      <td>CARDINAL</td>\n",
       "      <td>nomn</td>\n",
       "      <td>none</td>\n",
       "      <td>четыреста восемьдесят два</td>\n",
       "      <td>четыреста восемьдесят два</td>\n",
       "    </tr>\n",
       "    <tr>\n",
       "      <th>2480445</th>\n",
       "      <td>69</td>\n",
       "      <td>—</td>\n",
       "      <td>С.</td>\n",
       "      <td>.</td>\n",
       "      <td>London</td>\n",
       "      <td>CARDINAL</td>\n",
       "      <td>nomn</td>\n",
       "      <td>none</td>\n",
       "      <td>шестьдесят девять</td>\n",
       "      <td>шестьдесят девять</td>\n",
       "    </tr>\n",
       "    <tr>\n",
       "      <th>9311043</th>\n",
       "      <td>/</td>\n",
       "      <td>)</td>\n",
       "      <td>/</td>\n",
       "      <td>Крылья</td>\n",
       "      <td>Родины</td>\n",
       "      <td>CARDINAL</td>\n",
       "      <td>nomn</td>\n",
       "      <td>sing</td>\n",
       "      <td>None</td>\n",
       "      <td>/</td>\n",
       "    </tr>\n",
       "    <tr>\n",
       "      <th>8832656</th>\n",
       "      <td>9</td>\n",
       "      <td>территории</td>\n",
       "      <td>Украины</td>\n",
       "      <td>населенных</td>\n",
       "      <td>пунктов</td>\n",
       "      <td>CARDINAL</td>\n",
       "      <td>nomn</td>\n",
       "      <td>none</td>\n",
       "      <td>девять</td>\n",
       "      <td>девять</td>\n",
       "    </tr>\n",
       "    <tr>\n",
       "      <th>40194</th>\n",
       "      <td>1627</td>\n",
       "      <td>Дрезден</td>\n",
       "      <td>,</td>\n",
       "      <td>)</td>\n",
       "      <td>.</td>\n",
       "      <td>CARDINAL</td>\n",
       "      <td>nomn</td>\n",
       "      <td>sing</td>\n",
       "      <td>одна тысяча шестьсот двадцать семь</td>\n",
       "      <td>тысяча шестьсот двадцать семь</td>\n",
       "    </tr>\n",
       "    <tr>\n",
       "      <th>4910763</th>\n",
       "      <td>-</td>\n",
       "      <td>БОЙ</td>\n",
       "      <td>КЛИЧКО</td>\n",
       "      <td>ПОВЕТКИН</td>\n",
       "      <td>НАЗВАН</td>\n",
       "      <td>CARDINAL</td>\n",
       "      <td>nomn</td>\n",
       "      <td>sing</td>\n",
       "      <td>None</td>\n",
       "      <td>-</td>\n",
       "    </tr>\n",
       "    <tr>\n",
       "      <th>6213164</th>\n",
       "      <td>1127</td>\n",
       "      <td>(</td>\n",
       "      <td>с</td>\n",
       "      <td>)</td>\n",
       "      <td>.</td>\n",
       "      <td>CARDINAL</td>\n",
       "      <td>nomn</td>\n",
       "      <td>sing</td>\n",
       "      <td>одна тысяча сто двадцать семь</td>\n",
       "      <td>тысяча сто двадцать семь</td>\n",
       "    </tr>\n",
       "    <tr>\n",
       "      <th>695002</th>\n",
       "      <td>.</td>\n",
       "      <td>,</td>\n",
       "      <td>vol</td>\n",
       "      <td>Ричард</td>\n",
       "      <td>проверяет</td>\n",
       "      <td>CARDINAL</td>\n",
       "      <td>nomn</td>\n",
       "      <td>sing</td>\n",
       "      <td>None</td>\n",
       "      <td>.</td>\n",
       "    </tr>\n",
       "    <tr>\n",
       "      <th>855302</th>\n",
       "      <td>13 842</td>\n",
       "      <td>2000 года</td>\n",
       "      <td>составляет</td>\n",
       "      <td>чел</td>\n",
       "      <td>.</td>\n",
       "      <td>CARDINAL</td>\n",
       "      <td>nomn</td>\n",
       "      <td>plur</td>\n",
       "      <td>None</td>\n",
       "      <td>тринадцать тысяч восемьсот сорок два</td>\n",
       "    </tr>\n",
       "    <tr>\n",
       "      <th>2465111</th>\n",
       "      <td>.</td>\n",
       "      <td>с</td>\n",
       "      <td>вооружения</td>\n",
       "      <td>Облечихино</td>\n",
       "      <td>—</td>\n",
       "      <td>CARDINAL</td>\n",
       "      <td>nomn</td>\n",
       "      <td>sing</td>\n",
       "      <td>None</td>\n",
       "      <td>.</td>\n",
       "    </tr>\n",
       "    <tr>\n",
       "      <th>9463288</th>\n",
       "      <td>1700</td>\n",
       "      <td>1699</td>\n",
       "      <td>—</td>\n",
       "      <td>по</td>\n",
       "      <td>1899</td>\n",
       "      <td>CARDINAL</td>\n",
       "      <td>nomn</td>\n",
       "      <td>sing</td>\n",
       "      <td>одна тысяча семьсот</td>\n",
       "      <td>тысяча семьсот</td>\n",
       "    </tr>\n",
       "    <tr>\n",
       "      <th>5130151</th>\n",
       "      <td>-</td>\n",
       "      <td>государственный</td>\n",
       "      <td>архитектурно</td>\n",
       "      <td>строительный</td>\n",
       "      <td>институт</td>\n",
       "      <td>CARDINAL</td>\n",
       "      <td>nomn</td>\n",
       "      <td>sing</td>\n",
       "      <td>None</td>\n",
       "      <td>-</td>\n",
       "    </tr>\n",
       "    <tr>\n",
       "      <th>9980371</th>\n",
       "      <td>15</td>\n",
       "      <td>7:15</td>\n",
       "      <td>,</td>\n",
       "      <td>:</td>\n",
       "      <td>9</td>\n",
       "      <td>CARDINAL</td>\n",
       "      <td>nomn</td>\n",
       "      <td>none</td>\n",
       "      <td>пятнадцать</td>\n",
       "      <td>пятнадцать</td>\n",
       "    </tr>\n",
       "    <tr>\n",
       "      <th>6955867</th>\n",
       "      <td>.</td>\n",
       "      <td>.</td>\n",
       "      <td>f</td>\n",
       "      <td>belorussicus</td>\n",
       "      <td>Kurl</td>\n",
       "      <td>CARDINAL</td>\n",
       "      <td>nomn</td>\n",
       "      <td>sing</td>\n",
       "      <td>None</td>\n",
       "      <td>.</td>\n",
       "    </tr>\n",
       "    <tr>\n",
       "      <th>5530344</th>\n",
       "      <td>651</td>\n",
       "      <td>p</td>\n",
       "      <td>.</td>\n",
       "      <td>.</td>\n",
       "      <td>Till</td>\n",
       "      <td>CARDINAL</td>\n",
       "      <td>nomn</td>\n",
       "      <td>sing</td>\n",
       "      <td>шестьсот пятьдесят один</td>\n",
       "      <td>шестьсот пятьдесят один</td>\n",
       "    </tr>\n",
       "    <tr>\n",
       "      <th>8965855</th>\n",
       "      <td>1942</td>\n",
       "      <td>животноводства</td>\n",
       "      <td>(</td>\n",
       "      <td>—</td>\n",
       "      <td>1955</td>\n",
       "      <td>CARDINAL</td>\n",
       "      <td>nomn</td>\n",
       "      <td>sing</td>\n",
       "      <td>одна тысяча девятьсот сорок два</td>\n",
       "      <td>тысяча девятьсот сорок два</td>\n",
       "    </tr>\n",
       "    <tr>\n",
       "      <th>1882260</th>\n",
       "      <td>19</td>\n",
       "      <td>на</td>\n",
       "      <td>основании</td>\n",
       "      <td>рецензий</td>\n",
       "      <td>.</td>\n",
       "      <td>CARDINAL</td>\n",
       "      <td>nomn</td>\n",
       "      <td>none</td>\n",
       "      <td>девятнадцать</td>\n",
       "      <td>девятнадцати</td>\n",
       "    </tr>\n",
       "    <tr>\n",
       "      <th>8536813</th>\n",
       "      <td>0</td>\n",
       "      <td>3</td>\n",
       "      <td>:</td>\n",
       "      <td>(</td>\n",
       "      <td>15</td>\n",
       "      <td>CARDINAL</td>\n",
       "      <td>nomn</td>\n",
       "      <td>sing</td>\n",
       "      <td>ноль</td>\n",
       "      <td>ноль</td>\n",
       "    </tr>\n",
       "    <tr>\n",
       "      <th>5853661</th>\n",
       "      <td>.</td>\n",
       "      <td>в</td>\n",
       "      <td>село</td>\n",
       "      <td>Усики</td>\n",
       "      <td>самок</td>\n",
       "      <td>CARDINAL</td>\n",
       "      <td>nomn</td>\n",
       "      <td>sing</td>\n",
       "      <td>None</td>\n",
       "      <td>.</td>\n",
       "    </tr>\n",
       "    <tr>\n",
       "      <th>9375998</th>\n",
       "      <td>249</td>\n",
       "      <td>Карта</td>\n",
       "      <td>С.</td>\n",
       "      <td>.</td>\n",
       "      <td>Якутская</td>\n",
       "      <td>CARDINAL</td>\n",
       "      <td>nomn</td>\n",
       "      <td>plur</td>\n",
       "      <td>двести сорок девять</td>\n",
       "      <td>двести сорок девять</td>\n",
       "    </tr>\n",
       "    <tr>\n",
       "      <th>6697132</th>\n",
       "      <td>-</td>\n",
       "      <td>Монтрейском</td>\n",
       "      <td>поп</td>\n",
       "      <td>фестивале</td>\n",
       "      <td>в</td>\n",
       "      <td>CARDINAL</td>\n",
       "      <td>nomn</td>\n",
       "      <td>sing</td>\n",
       "      <td>None</td>\n",
       "      <td>-</td>\n",
       "    </tr>\n",
       "    <tr>\n",
       "      <th>4371987</th>\n",
       "      <td>-</td>\n",
       "      <td>,</td>\n",
       "      <td>бога</td>\n",
       "      <td>покровителя</td>\n",
       "      <td>города</td>\n",
       "      <td>CARDINAL</td>\n",
       "      <td>nomn</td>\n",
       "      <td>sing</td>\n",
       "      <td>None</td>\n",
       "      <td>-</td>\n",
       "    </tr>\n",
       "  </tbody>\n",
       "</table>\n",
       "<p>100 rows × 10 columns</p>\n",
       "</div>"
      ],
      "text/plain": [
       "<div>\n",
       "<style scoped>\n",
       "    .dataframe tbody tr th:only-of-type {\n",
       "        vertical-align: middle;\n",
       "    }\n",
       "\n",
       "    .dataframe tbody tr th {\n",
       "        vertical-align: top;\n",
       "    }\n",
       "\n",
       "    .dataframe thead th {\n",
       "        text-align: right;\n",
       "    }\n",
       "</style>\n",
       "<table border=\"1\" class=\"dataframe\">\n",
       "  <thead>\n",
       "    <tr style=\"text-align: right;\">\n",
       "      <th></th>\n",
       "      <th>before</th>\n",
       "      <th>prev_prev</th>\n",
       "      <th>prev</th>\n",
       "      <th>next</th>\n",
       "      <th>next_next</th>\n",
       "      <th>class</th>\n",
       "      <th>case</th>\n",
       "      <th>number</th>\n",
       "      <th>after</th>\n",
       "      <th>after_true</th>\n",
       "    </tr>\n",
       "  </thead>\n",
       "  <tbody>\n",
       "    <tr>\n",
       "      <th>3439716</th>\n",
       "      <td>.</td>\n",
       "      <td>и</td>\n",
       "      <td>CCKB</td>\n",
       "      <td>Первая</td>\n",
       "      <td>бригада</td>\n",
       "      <td>CARDINAL</td>\n",
       "      <td>nomn</td>\n",
       "      <td>sing</td>\n",
       "      <td>None</td>\n",
       "      <td>.</td>\n",
       "    </tr>\n",
       "    <tr>\n",
       "      <th>228056</th>\n",
       "      <td>.</td>\n",
       "      <td>первоисточника</td>\n",
       "      <td>26 апреля 2015</td>\n",
       "      <td>Усадьба</td>\n",
       "      <td>Барсовой</td>\n",
       "      <td>CARDINAL</td>\n",
       "      <td>nomn</td>\n",
       "      <td>sing</td>\n",
       "      <td>None</td>\n",
       "      <td>.</td>\n",
       "    </tr>\n",
       "    <tr>\n",
       "      <th>5254234</th>\n",
       "      <td>.</td>\n",
       "      <td>с</td>\n",
       "      <td>компанией</td>\n",
       "      <td>Тонкий</td>\n",
       "      <td>хвост</td>\n",
       "      <td>CARDINAL</td>\n",
       "      <td>nomn</td>\n",
       "      <td>sing</td>\n",
       "      <td>None</td>\n",
       "      <td>.</td>\n",
       "    </tr>\n",
       "    <tr>\n",
       "      <th>1074310</th>\n",
       "      <td>184</td>\n",
       "      <td>жителей</td>\n",
       "      <td>работали</td>\n",
       "      <td>человека</td>\n",
       "      <td>(</td>\n",
       "      <td>CARDINAL</td>\n",
       "      <td>nomn</td>\n",
       "      <td>sing</td>\n",
       "      <td>сто восемьдесят четыре</td>\n",
       "      <td>сто восемьдесят четыре</td>\n",
       "    </tr>\n",
       "    <tr>\n",
       "      <th>7318781</th>\n",
       "      <td>7</td>\n",
       "      <td>23</td>\n",
       "      <td>.</td>\n",
       "      <td>человек</td>\n",
       "      <td>на</td>\n",
       "      <td>CARDINAL</td>\n",
       "      <td>nomn</td>\n",
       "      <td>none</td>\n",
       "      <td>семь</td>\n",
       "      <td>семь</td>\n",
       "    </tr>\n",
       "    <tr>\n",
       "      <th>3260148</th>\n",
       "      <td>-</td>\n",
       "      <td>украинкой</td>\n",
       "      <td>Ганной</td>\n",
       "      <td>рисовальщицей</td>\n",
       "      <td>»</td>\n",
       "      <td>CARDINAL</td>\n",
       "      <td>nomn</td>\n",
       "      <td>sing</td>\n",
       "      <td>None</td>\n",
       "      <td>-</td>\n",
       "    </tr>\n",
       "    <tr>\n",
       "      <th>268049</th>\n",
       "      <td>.</td>\n",
       "      <td>(</td>\n",
       "      <td>исп</td>\n",
       "      <td>Keiko</td>\n",
       "      <td>Sofia</td>\n",
       "      <td>CARDINAL</td>\n",
       "      <td>nomn</td>\n",
       "      <td>sing</td>\n",
       "      <td>None</td>\n",
       "      <td>.</td>\n",
       "    </tr>\n",
       "    <tr>\n",
       "      <th>8609176</th>\n",
       "      <td>-</td>\n",
       "      <td>и</td>\n",
       "      <td>Сен</td>\n",
       "      <td>Филип</td>\n",
       "      <td>,</td>\n",
       "      <td>CARDINAL</td>\n",
       "      <td>nomn</td>\n",
       "      <td>sing</td>\n",
       "      <td>None</td>\n",
       "      <td>-</td>\n",
       "    </tr>\n",
       "    <tr>\n",
       "      <th>4202194</th>\n",
       "      <td>.</td>\n",
       "      <td>en</td>\n",
       "      <td>Diest</td>\n",
       "      <td>Король</td>\n",
       "      <td>Эдуард</td>\n",
       "      <td>CARDINAL</td>\n",
       "      <td>nomn</td>\n",
       "      <td>sing</td>\n",
       "      <td>None</td>\n",
       "      <td>.</td>\n",
       "    </tr>\n",
       "    <tr>\n",
       "      <th>2757101</th>\n",
       "      <td>779</td>\n",
       "      <td>775</td>\n",
       "      <td>по</td>\n",
       "      <td>.</td>\n",
       "      <td>Нерсе</td>\n",
       "      <td>CARDINAL</td>\n",
       "      <td>nomn</td>\n",
       "      <td>none</td>\n",
       "      <td>семьсот семьдесят девять</td>\n",
       "      <td>семьсот семьдесят девятый</td>\n",
       "    </tr>\n",
       "    <tr>\n",
       "      <th>64429</th>\n",
       "      <td>.</td>\n",
       "      <td>,</td>\n",
       "      <td>1922</td>\n",
       "      <td>Angles</td>\n",
       "      <td>H.</td>\n",
       "      <td>CARDINAL</td>\n",
       "      <td>nomn</td>\n",
       "      <td>sing</td>\n",
       "      <td>None</td>\n",
       "      <td>.</td>\n",
       "    </tr>\n",
       "    <tr>\n",
       "      <th>7704610</th>\n",
       "      <td>.</td>\n",
       "      <td>.</td>\n",
       "      <td>495</td>\n",
       "      <td>Martin</td>\n",
       "      <td>and</td>\n",
       "      <td>CARDINAL</td>\n",
       "      <td>nomn</td>\n",
       "      <td>sing</td>\n",
       "      <td>None</td>\n",
       "      <td>.</td>\n",
       "    </tr>\n",
       "    <tr>\n",
       "      <th>7824686</th>\n",
       "      <td>.</td>\n",
       "      <td>первоисточника</td>\n",
       "      <td>8 апреля 2013</td>\n",
       "      <td>Best</td>\n",
       "      <td>-</td>\n",
       "      <td>CARDINAL</td>\n",
       "      <td>nomn</td>\n",
       "      <td>sing</td>\n",
       "      <td>None</td>\n",
       "      <td>.</td>\n",
       "    </tr>\n",
       "    <tr>\n",
       "      <th>6324313</th>\n",
       "      <td>112</td>\n",
       "      <td>101</td>\n",
       "      <td>-</td>\n",
       "      <td>.</td>\n",
       "      <td>Mikel</td>\n",
       "      <td>CARDINAL</td>\n",
       "      <td>gent</td>\n",
       "      <td>none</td>\n",
       "      <td>сто двенадцати</td>\n",
       "      <td>ста двенадцати</td>\n",
       "    </tr>\n",
       "    <tr>\n",
       "      <th>2745465</th>\n",
       "      <td>-</td>\n",
       "      <td>,</td>\n",
       "      <td>по</td>\n",
       "      <td>прежнему</td>\n",
       "      <td>обсуждается</td>\n",
       "      <td>CARDINAL</td>\n",
       "      <td>nomn</td>\n",
       "      <td>sing</td>\n",
       "      <td>None</td>\n",
       "      <td>-</td>\n",
       "    </tr>\n",
       "    <tr>\n",
       "      <th>5457860</th>\n",
       "      <td>333</td>\n",
       "      <td>331</td>\n",
       "      <td>—</td>\n",
       "      <td>.</td>\n",
       "      <td>Зимин</td>\n",
       "      <td>CARDINAL</td>\n",
       "      <td>accs</td>\n",
       "      <td>sing</td>\n",
       "      <td>триста тридцать три</td>\n",
       "      <td>триста тридцать три</td>\n",
       "    </tr>\n",
       "    <tr>\n",
       "      <th>429987</th>\n",
       "      <td>-</td>\n",
       "      <td>в</td>\n",
       "      <td>Орехово</td>\n",
       "      <td>Зуевском</td>\n",
       "      <td>муниципальном</td>\n",
       "      <td>CARDINAL</td>\n",
       "      <td>nomn</td>\n",
       "      <td>sing</td>\n",
       "      <td>None</td>\n",
       "      <td>-</td>\n",
       "    </tr>\n",
       "    <tr>\n",
       "      <th>5434369</th>\n",
       "      <td>.</td>\n",
       "      <td>московской</td>\n",
       "      <td>теократии</td>\n",
       "      <td>Женевьева</td>\n",
       "      <td>Родис</td>\n",
       "      <td>CARDINAL</td>\n",
       "      <td>nomn</td>\n",
       "      <td>sing</td>\n",
       "      <td>None</td>\n",
       "      <td>.</td>\n",
       "    </tr>\n",
       "    <tr>\n",
       "      <th>2449632</th>\n",
       "      <td>.</td>\n",
       "      <td>-</td>\n",
       "      <td>2012</td>\n",
       "      <td>Ultratop</td>\n",
       "      <td>.</td>\n",
       "      <td>CARDINAL</td>\n",
       "      <td>nomn</td>\n",
       "      <td>sing</td>\n",
       "      <td>None</td>\n",
       "      <td>.</td>\n",
       "    </tr>\n",
       "    <tr>\n",
       "      <th>1837088</th>\n",
       "      <td>2006</td>\n",
       "      <td>рингу</td>\n",
       "      <td>(</td>\n",
       "      <td>)</td>\n",
       "      <td>.</td>\n",
       "      <td>CARDINAL</td>\n",
       "      <td>nomn</td>\n",
       "      <td>sing</td>\n",
       "      <td>две тысячи шесть</td>\n",
       "      <td>две тысячи шесть</td>\n",
       "    </tr>\n",
       "    <tr>\n",
       "      <th>6140572</th>\n",
       "      <td>.</td>\n",
       "      <td>5000</td>\n",
       "      <td>экз</td>\n",
       "      <td>Министерство</td>\n",
       "      <td>здравоохранения</td>\n",
       "      <td>CARDINAL</td>\n",
       "      <td>nomn</td>\n",
       "      <td>sing</td>\n",
       "      <td>None</td>\n",
       "      <td>.</td>\n",
       "    </tr>\n",
       "    <tr>\n",
       "      <th>330087</th>\n",
       "      <td>.</td>\n",
       "      <td>Jorge</td>\n",
       "      <td>Edwards</td>\n",
       "      <td>Основные</td>\n",
       "      <td>теоретики</td>\n",
       "      <td>CARDINAL</td>\n",
       "      <td>nomn</td>\n",
       "      <td>sing</td>\n",
       "      <td>None</td>\n",
       "      <td>.</td>\n",
       "    </tr>\n",
       "    <tr>\n",
       "      <th>5887363</th>\n",
       "      <td>/</td>\n",
       "      <td>(</td>\n",
       "      <td>2006</td>\n",
       "      <td>07</td>\n",
       "      <td>,</td>\n",
       "      <td>CARDINAL</td>\n",
       "      <td>nomn</td>\n",
       "      <td>sing</td>\n",
       "      <td>None</td>\n",
       "      <td>/</td>\n",
       "    </tr>\n",
       "    <tr>\n",
       "      <th>1842620</th>\n",
       "      <td>12</td>\n",
       "      <td>Царском</td>\n",
       "      <td>Селе</td>\n",
       "      <td>(</td>\n",
       "      <td>24</td>\n",
       "      <td>CARDINAL</td>\n",
       "      <td>nomn</td>\n",
       "      <td>none</td>\n",
       "      <td>двенадцать</td>\n",
       "      <td>двенадцать</td>\n",
       "    </tr>\n",
       "    <tr>\n",
       "      <th>9121114</th>\n",
       "      <td>20</td>\n",
       "      <td>большой</td>\n",
       "      <td>за</td>\n",
       "      <td>лет</td>\n",
       "      <td>.</td>\n",
       "      <td>CARDINAL</td>\n",
       "      <td>nomn</td>\n",
       "      <td>none</td>\n",
       "      <td>двадцать</td>\n",
       "      <td>двадцать</td>\n",
       "    </tr>\n",
       "    <tr>\n",
       "      <th>5942303</th>\n",
       "      <td>16</td>\n",
       "      <td>автором</td>\n",
       "      <td>в</td>\n",
       "      <td>лет</td>\n",
       "      <td>.</td>\n",
       "      <td>CARDINAL</td>\n",
       "      <td>nomn</td>\n",
       "      <td>none</td>\n",
       "      <td>шестнадцать</td>\n",
       "      <td>шестнадцать</td>\n",
       "    </tr>\n",
       "    <tr>\n",
       "      <th>4285396</th>\n",
       "      <td>.</td>\n",
       "      <td>И. И.</td>\n",
       "      <td>Соколов</td>\n",
       "      <td>Население</td>\n",
       "      <td>составляет</td>\n",
       "      <td>CARDINAL</td>\n",
       "      <td>nomn</td>\n",
       "      <td>sing</td>\n",
       "      <td>None</td>\n",
       "      <td>.</td>\n",
       "    </tr>\n",
       "    <tr>\n",
       "      <th>5657428</th>\n",
       "      <td>.</td>\n",
       "      <td>воду</td>\n",
       "      <td>16 мая 1818 года</td>\n",
       "      <td>Военные</td>\n",
       "      <td>кампании</td>\n",
       "      <td>CARDINAL</td>\n",
       "      <td>nomn</td>\n",
       "      <td>sing</td>\n",
       "      <td>None</td>\n",
       "      <td>.</td>\n",
       "    </tr>\n",
       "    <tr>\n",
       "      <th>3422143</th>\n",
       "      <td>.</td>\n",
       "      <td>Проверено</td>\n",
       "      <td>21 апреля 2015</td>\n",
       "      <td>Sudhish</td>\n",
       "      <td>Kamath</td>\n",
       "      <td>CARDINAL</td>\n",
       "      <td>nomn</td>\n",
       "      <td>sing</td>\n",
       "      <td>None</td>\n",
       "      <td>.</td>\n",
       "    </tr>\n",
       "    <tr>\n",
       "      <th>3990749</th>\n",
       "      <td>.</td>\n",
       "      <td>с</td>\n",
       "      <td>правдой</td>\n",
       "      <td>В</td>\n",
       "      <td>1955 году</td>\n",
       "      <td>CARDINAL</td>\n",
       "      <td>nomn</td>\n",
       "      <td>sing</td>\n",
       "      <td>None</td>\n",
       "      <td>.</td>\n",
       "    </tr>\n",
       "    <tr>\n",
       "      <th>...</th>\n",
       "      <td>...</td>\n",
       "      <td>...</td>\n",
       "      <td>...</td>\n",
       "      <td>...</td>\n",
       "      <td>...</td>\n",
       "      <td>...</td>\n",
       "      <td>...</td>\n",
       "      <td>...</td>\n",
       "      <td>...</td>\n",
       "      <td>...</td>\n",
       "    </tr>\n",
       "    <tr>\n",
       "      <th>10541187</th>\n",
       "      <td>.</td>\n",
       "      <td>историческое</td>\n",
       "      <td>значение</td>\n",
       "      <td>Автор</td>\n",
       "      <td>сценария</td>\n",
       "      <td>CARDINAL</td>\n",
       "      <td>nomn</td>\n",
       "      <td>sing</td>\n",
       "      <td>None</td>\n",
       "      <td>.</td>\n",
       "    </tr>\n",
       "    <tr>\n",
       "      <th>10527273</th>\n",
       "      <td>.</td>\n",
       "      <td>первоисточника</td>\n",
       "      <td>8 июля 2012</td>\n",
       "      <td>Gendron</td>\n",
       "      <td>,</td>\n",
       "      <td>CARDINAL</td>\n",
       "      <td>nomn</td>\n",
       "      <td>sing</td>\n",
       "      <td>None</td>\n",
       "      <td>.</td>\n",
       "    </tr>\n",
       "    <tr>\n",
       "      <th>7779410</th>\n",
       "      <td>.</td>\n",
       "      <td>первоисточника</td>\n",
       "      <td>18 августа 2012</td>\n",
       "      <td>Linkin</td>\n",
       "      <td>Park</td>\n",
       "      <td>CARDINAL</td>\n",
       "      <td>nomn</td>\n",
       "      <td>sing</td>\n",
       "      <td>None</td>\n",
       "      <td>.</td>\n",
       "    </tr>\n",
       "    <tr>\n",
       "      <th>2751668</th>\n",
       "      <td>.</td>\n",
       "      <td>особенно</td>\n",
       "      <td>женщин</td>\n",
       "      <td>Военная</td>\n",
       "      <td>кампания</td>\n",
       "      <td>CARDINAL</td>\n",
       "      <td>nomn</td>\n",
       "      <td>sing</td>\n",
       "      <td>None</td>\n",
       "      <td>.</td>\n",
       "    </tr>\n",
       "    <tr>\n",
       "      <th>2485600</th>\n",
       "      <td>XII</td>\n",
       "      <td>и</td>\n",
       "      <td>до</td>\n",
       "      <td>века</td>\n",
       "      <td>власть</td>\n",
       "      <td>CARDINAL</td>\n",
       "      <td>nomn</td>\n",
       "      <td>none</td>\n",
       "      <td>None</td>\n",
       "      <td>двенадцатого</td>\n",
       "    </tr>\n",
       "    <tr>\n",
       "      <th>8812525</th>\n",
       "      <td>20</td>\n",
       "      <td>(</td>\n",
       "      <td>до</td>\n",
       "      <td>)</td>\n",
       "      <td>VS</td>\n",
       "      <td>CARDINAL</td>\n",
       "      <td>nomn</td>\n",
       "      <td>none</td>\n",
       "      <td>двадцать</td>\n",
       "      <td>двадцати</td>\n",
       "    </tr>\n",
       "    <tr>\n",
       "      <th>5282690</th>\n",
       "      <td>.</td>\n",
       "      <td>:</td>\n",
       "      <td>ил</td>\n",
       "      <td>В. А.</td>\n",
       "      <td>Возчикова</td>\n",
       "      <td>CARDINAL</td>\n",
       "      <td>nomn</td>\n",
       "      <td>sing</td>\n",
       "      <td>None</td>\n",
       "      <td>.</td>\n",
       "    </tr>\n",
       "    <tr>\n",
       "      <th>2079557</th>\n",
       "      <td>.</td>\n",
       "      <td>доктора</td>\n",
       "      <td>техн</td>\n",
       "      <td>наук</td>\n",
       "      <td>.</td>\n",
       "      <td>CARDINAL</td>\n",
       "      <td>nomn</td>\n",
       "      <td>sing</td>\n",
       "      <td>None</td>\n",
       "      <td>.</td>\n",
       "    </tr>\n",
       "    <tr>\n",
       "      <th>7510534</th>\n",
       "      <td>482</td>\n",
       "      <td>Космос</td>\n",
       "      <td>-</td>\n",
       "      <td>—</td>\n",
       "      <td>автоматическая</td>\n",
       "      <td>CARDINAL</td>\n",
       "      <td>nomn</td>\n",
       "      <td>none</td>\n",
       "      <td>четыреста восемьдесят два</td>\n",
       "      <td>четыреста восемьдесят два</td>\n",
       "    </tr>\n",
       "    <tr>\n",
       "      <th>2480445</th>\n",
       "      <td>69</td>\n",
       "      <td>—</td>\n",
       "      <td>С.</td>\n",
       "      <td>.</td>\n",
       "      <td>London</td>\n",
       "      <td>CARDINAL</td>\n",
       "      <td>nomn</td>\n",
       "      <td>none</td>\n",
       "      <td>шестьдесят девять</td>\n",
       "      <td>шестьдесят девять</td>\n",
       "    </tr>\n",
       "    <tr>\n",
       "      <th>9311043</th>\n",
       "      <td>/</td>\n",
       "      <td>)</td>\n",
       "      <td>/</td>\n",
       "      <td>Крылья</td>\n",
       "      <td>Родины</td>\n",
       "      <td>CARDINAL</td>\n",
       "      <td>nomn</td>\n",
       "      <td>sing</td>\n",
       "      <td>None</td>\n",
       "      <td>/</td>\n",
       "    </tr>\n",
       "    <tr>\n",
       "      <th>8832656</th>\n",
       "      <td>9</td>\n",
       "      <td>территории</td>\n",
       "      <td>Украины</td>\n",
       "      <td>населенных</td>\n",
       "      <td>пунктов</td>\n",
       "      <td>CARDINAL</td>\n",
       "      <td>nomn</td>\n",
       "      <td>none</td>\n",
       "      <td>девять</td>\n",
       "      <td>девять</td>\n",
       "    </tr>\n",
       "    <tr>\n",
       "      <th>40194</th>\n",
       "      <td>1627</td>\n",
       "      <td>Дрезден</td>\n",
       "      <td>,</td>\n",
       "      <td>)</td>\n",
       "      <td>.</td>\n",
       "      <td>CARDINAL</td>\n",
       "      <td>nomn</td>\n",
       "      <td>sing</td>\n",
       "      <td>одна тысяча шестьсот двадцать семь</td>\n",
       "      <td>тысяча шестьсот двадцать семь</td>\n",
       "    </tr>\n",
       "    <tr>\n",
       "      <th>4910763</th>\n",
       "      <td>-</td>\n",
       "      <td>БОЙ</td>\n",
       "      <td>КЛИЧКО</td>\n",
       "      <td>ПОВЕТКИН</td>\n",
       "      <td>НАЗВАН</td>\n",
       "      <td>CARDINAL</td>\n",
       "      <td>nomn</td>\n",
       "      <td>sing</td>\n",
       "      <td>None</td>\n",
       "      <td>-</td>\n",
       "    </tr>\n",
       "    <tr>\n",
       "      <th>6213164</th>\n",
       "      <td>1127</td>\n",
       "      <td>(</td>\n",
       "      <td>с</td>\n",
       "      <td>)</td>\n",
       "      <td>.</td>\n",
       "      <td>CARDINAL</td>\n",
       "      <td>nomn</td>\n",
       "      <td>sing</td>\n",
       "      <td>одна тысяча сто двадцать семь</td>\n",
       "      <td>тысяча сто двадцать семь</td>\n",
       "    </tr>\n",
       "    <tr>\n",
       "      <th>695002</th>\n",
       "      <td>.</td>\n",
       "      <td>,</td>\n",
       "      <td>vol</td>\n",
       "      <td>Ричард</td>\n",
       "      <td>проверяет</td>\n",
       "      <td>CARDINAL</td>\n",
       "      <td>nomn</td>\n",
       "      <td>sing</td>\n",
       "      <td>None</td>\n",
       "      <td>.</td>\n",
       "    </tr>\n",
       "    <tr>\n",
       "      <th>855302</th>\n",
       "      <td>13 842</td>\n",
       "      <td>2000 года</td>\n",
       "      <td>составляет</td>\n",
       "      <td>чел</td>\n",
       "      <td>.</td>\n",
       "      <td>CARDINAL</td>\n",
       "      <td>nomn</td>\n",
       "      <td>plur</td>\n",
       "      <td>None</td>\n",
       "      <td>тринадцать тысяч восемьсот сорок два</td>\n",
       "    </tr>\n",
       "    <tr>\n",
       "      <th>2465111</th>\n",
       "      <td>.</td>\n",
       "      <td>с</td>\n",
       "      <td>вооружения</td>\n",
       "      <td>Облечихино</td>\n",
       "      <td>—</td>\n",
       "      <td>CARDINAL</td>\n",
       "      <td>nomn</td>\n",
       "      <td>sing</td>\n",
       "      <td>None</td>\n",
       "      <td>.</td>\n",
       "    </tr>\n",
       "    <tr>\n",
       "      <th>9463288</th>\n",
       "      <td>1700</td>\n",
       "      <td>1699</td>\n",
       "      <td>—</td>\n",
       "      <td>по</td>\n",
       "      <td>1899</td>\n",
       "      <td>CARDINAL</td>\n",
       "      <td>nomn</td>\n",
       "      <td>sing</td>\n",
       "      <td>одна тысяча семьсот</td>\n",
       "      <td>тысяча семьсот</td>\n",
       "    </tr>\n",
       "    <tr>\n",
       "      <th>5130151</th>\n",
       "      <td>-</td>\n",
       "      <td>государственный</td>\n",
       "      <td>архитектурно</td>\n",
       "      <td>строительный</td>\n",
       "      <td>институт</td>\n",
       "      <td>CARDINAL</td>\n",
       "      <td>nomn</td>\n",
       "      <td>sing</td>\n",
       "      <td>None</td>\n",
       "      <td>-</td>\n",
       "    </tr>\n",
       "    <tr>\n",
       "      <th>9980371</th>\n",
       "      <td>15</td>\n",
       "      <td>7:15</td>\n",
       "      <td>,</td>\n",
       "      <td>:</td>\n",
       "      <td>9</td>\n",
       "      <td>CARDINAL</td>\n",
       "      <td>nomn</td>\n",
       "      <td>none</td>\n",
       "      <td>пятнадцать</td>\n",
       "      <td>пятнадцать</td>\n",
       "    </tr>\n",
       "    <tr>\n",
       "      <th>6955867</th>\n",
       "      <td>.</td>\n",
       "      <td>.</td>\n",
       "      <td>f</td>\n",
       "      <td>belorussicus</td>\n",
       "      <td>Kurl</td>\n",
       "      <td>CARDINAL</td>\n",
       "      <td>nomn</td>\n",
       "      <td>sing</td>\n",
       "      <td>None</td>\n",
       "      <td>.</td>\n",
       "    </tr>\n",
       "    <tr>\n",
       "      <th>5530344</th>\n",
       "      <td>651</td>\n",
       "      <td>p</td>\n",
       "      <td>.</td>\n",
       "      <td>.</td>\n",
       "      <td>Till</td>\n",
       "      <td>CARDINAL</td>\n",
       "      <td>nomn</td>\n",
       "      <td>sing</td>\n",
       "      <td>шестьсот пятьдесят один</td>\n",
       "      <td>шестьсот пятьдесят один</td>\n",
       "    </tr>\n",
       "    <tr>\n",
       "      <th>8965855</th>\n",
       "      <td>1942</td>\n",
       "      <td>животноводства</td>\n",
       "      <td>(</td>\n",
       "      <td>—</td>\n",
       "      <td>1955</td>\n",
       "      <td>CARDINAL</td>\n",
       "      <td>nomn</td>\n",
       "      <td>sing</td>\n",
       "      <td>одна тысяча девятьсот сорок два</td>\n",
       "      <td>тысяча девятьсот сорок два</td>\n",
       "    </tr>\n",
       "    <tr>\n",
       "      <th>1882260</th>\n",
       "      <td>19</td>\n",
       "      <td>на</td>\n",
       "      <td>основании</td>\n",
       "      <td>рецензий</td>\n",
       "      <td>.</td>\n",
       "      <td>CARDINAL</td>\n",
       "      <td>nomn</td>\n",
       "      <td>none</td>\n",
       "      <td>девятнадцать</td>\n",
       "      <td>девятнадцати</td>\n",
       "    </tr>\n",
       "    <tr>\n",
       "      <th>8536813</th>\n",
       "      <td>0</td>\n",
       "      <td>3</td>\n",
       "      <td>:</td>\n",
       "      <td>(</td>\n",
       "      <td>15</td>\n",
       "      <td>CARDINAL</td>\n",
       "      <td>nomn</td>\n",
       "      <td>sing</td>\n",
       "      <td>ноль</td>\n",
       "      <td>ноль</td>\n",
       "    </tr>\n",
       "    <tr>\n",
       "      <th>5853661</th>\n",
       "      <td>.</td>\n",
       "      <td>в</td>\n",
       "      <td>село</td>\n",
       "      <td>Усики</td>\n",
       "      <td>самок</td>\n",
       "      <td>CARDINAL</td>\n",
       "      <td>nomn</td>\n",
       "      <td>sing</td>\n",
       "      <td>None</td>\n",
       "      <td>.</td>\n",
       "    </tr>\n",
       "    <tr>\n",
       "      <th>9375998</th>\n",
       "      <td>249</td>\n",
       "      <td>Карта</td>\n",
       "      <td>С.</td>\n",
       "      <td>.</td>\n",
       "      <td>Якутская</td>\n",
       "      <td>CARDINAL</td>\n",
       "      <td>nomn</td>\n",
       "      <td>plur</td>\n",
       "      <td>двести сорок девять</td>\n",
       "      <td>двести сорок девять</td>\n",
       "    </tr>\n",
       "    <tr>\n",
       "      <th>6697132</th>\n",
       "      <td>-</td>\n",
       "      <td>Монтрейском</td>\n",
       "      <td>поп</td>\n",
       "      <td>фестивале</td>\n",
       "      <td>в</td>\n",
       "      <td>CARDINAL</td>\n",
       "      <td>nomn</td>\n",
       "      <td>sing</td>\n",
       "      <td>None</td>\n",
       "      <td>-</td>\n",
       "    </tr>\n",
       "    <tr>\n",
       "      <th>4371987</th>\n",
       "      <td>-</td>\n",
       "      <td>,</td>\n",
       "      <td>бога</td>\n",
       "      <td>покровителя</td>\n",
       "      <td>города</td>\n",
       "      <td>CARDINAL</td>\n",
       "      <td>nomn</td>\n",
       "      <td>sing</td>\n",
       "      <td>None</td>\n",
       "      <td>-</td>\n",
       "    </tr>\n",
       "  </tbody>\n",
       "</table>\n",
       "<p>100 rows × 10 columns</p>\n",
       "</div>"
      ]
     },
     "execution_count": 15,
     "metadata": {},
     "output_type": "execute_result"
    }
   ],
   "source": [
    "predicted[(predicted['class']=='CARDINAL') & (predicted['before'] != predicted['after'])].sample(100)"
   ]
  },
  {
   "cell_type": "code",
   "execution_count": 103,
   "metadata": {
    "collapsed": true
   },
   "outputs": [
    {
     "data": {
      "text/html": [
       "<div>\n",
       "<style scoped>\n",
       "    .dataframe tbody tr th:only-of-type {\n",
       "        vertical-align: middle;\n",
       "    }\n",
       "\n",
       "    .dataframe tbody tr th {\n",
       "        vertical-align: top;\n",
       "    }\n",
       "\n",
       "    .dataframe thead th {\n",
       "        text-align: right;\n",
       "    }\n",
       "</style>\n",
       "<table border=\"1\" class=\"dataframe\">\n",
       "  <thead>\n",
       "    <tr style=\"text-align: right;\">\n",
       "      <th></th>\n",
       "      <th>class</th>\n",
       "      <th>before</th>\n",
       "      <th>after</th>\n",
       "      <th>prev</th>\n",
       "      <th>next</th>\n",
       "    </tr>\n",
       "  </thead>\n",
       "  <tbody>\n",
       "    <tr>\n",
       "      <th>40420</th>\n",
       "      <td>FRACTION</td>\n",
       "      <td>7½</td>\n",
       "      <td>семи целых и одной второй</td>\n",
       "      <td>около</td>\n",
       "      <td>фунтов</td>\n",
       "    </tr>\n",
       "    <tr>\n",
       "      <th>157446</th>\n",
       "      <td>FRACTION</td>\n",
       "      <td>3½</td>\n",
       "      <td>три целых и одну вторую</td>\n",
       "      <td>на</td>\n",
       "      <td>очка</td>\n",
       "    </tr>\n",
       "    <tr>\n",
       "      <th>445580</th>\n",
       "      <td>FRACTION</td>\n",
       "      <td>59½</td>\n",
       "      <td>пятидесяти девяти целых и одной второй</td>\n",
       "      <td>139 976 рублей</td>\n",
       "      <td>копейки</td>\n",
       "    </tr>\n",
       "    <tr>\n",
       "      <th>765884</th>\n",
       "      <td>FRACTION</td>\n",
       "      <td>¼</td>\n",
       "      <td>одна четвертая</td>\n",
       "      <td>Второй</td>\n",
       "      <td>финалДата</td>\n",
       "    </tr>\n",
       "    <tr>\n",
       "      <th>803808</th>\n",
       "      <td>FRACTION</td>\n",
       "      <td>½</td>\n",
       "      <td>одна вторая</td>\n",
       "      <td>номиналом</td>\n",
       "      <td>шиллинга</td>\n",
       "    </tr>\n",
       "    <tr>\n",
       "      <th>999135</th>\n",
       "      <td>FRACTION</td>\n",
       "      <td>⅔</td>\n",
       "      <td>две третьих</td>\n",
       "      <td>на</td>\n",
       "      <td>территории</td>\n",
       "    </tr>\n",
       "    <tr>\n",
       "      <th>1253476</th>\n",
       "      <td>FRACTION</td>\n",
       "      <td>½</td>\n",
       "      <td>одна вторая</td>\n",
       "      <td>CrA</td>\n",
       "      <td>gut</td>\n",
       "    </tr>\n",
       "    <tr>\n",
       "      <th>1584453</th>\n",
       "      <td>FRACTION</td>\n",
       "      <td>8½</td>\n",
       "      <td>восемь целых и одна вторая</td>\n",
       "      <td>«</td>\n",
       "      <td>женщин</td>\n",
       "    </tr>\n",
       "    <tr>\n",
       "      <th>1584466</th>\n",
       "      <td>FRACTION</td>\n",
       "      <td>8½</td>\n",
       "      <td>восемь целых и одна вторая</td>\n",
       "      <td>.</td>\n",
       "      <td>Women</td>\n",
       "    </tr>\n",
       "    <tr>\n",
       "      <th>1876892</th>\n",
       "      <td>FRACTION</td>\n",
       "      <td>½</td>\n",
       "      <td>одна вторая</td>\n",
       "      <td>в</td>\n",
       "      <td>,</td>\n",
       "    </tr>\n",
       "    <tr>\n",
       "      <th>1876899</th>\n",
       "      <td>FRACTION</td>\n",
       "      <td>¼</td>\n",
       "      <td>одна четвертая</td>\n",
       "      <td>и</td>\n",
       "      <td>и</td>\n",
       "    </tr>\n",
       "    <tr>\n",
       "      <th>1876901</th>\n",
       "      <td>FRACTION</td>\n",
       "      <td>½</td>\n",
       "      <td>одна вторая</td>\n",
       "      <td>и</td>\n",
       "      <td>рупий</td>\n",
       "    </tr>\n",
       "    <tr>\n",
       "      <th>1921150</th>\n",
       "      <td>FRACTION</td>\n",
       "      <td>5 ½</td>\n",
       "      <td>пять целых и одна вторая</td>\n",
       "      <td>—</td>\n",
       "      <td>обеж</td>\n",
       "    </tr>\n",
       "    <tr>\n",
       "      <th>1949935</th>\n",
       "      <td>FRACTION</td>\n",
       "      <td>½</td>\n",
       "      <td>одна вторая</td>\n",
       "      <td>ничью</td>\n",
       "      <td>очка</td>\n",
       "    </tr>\n",
       "    <tr>\n",
       "      <th>2023480</th>\n",
       "      <td>FRACTION</td>\n",
       "      <td>½</td>\n",
       "      <td>одна вторая</td>\n",
       "      <td>состояло</td>\n",
       "      <td>дес</td>\n",
       "    </tr>\n",
       "    <tr>\n",
       "      <th>2023485</th>\n",
       "      <td>FRACTION</td>\n",
       "      <td>2 ¾</td>\n",
       "      <td>две целых и три четвертых</td>\n",
       "      <td>усадебной</td>\n",
       "      <td>дес</td>\n",
       "    </tr>\n",
       "    <tr>\n",
       "      <th>2271189</th>\n",
       "      <td>FRACTION</td>\n",
       "      <td>282½</td>\n",
       "      <td>двумястами восьмьюдесятью двумя целыми и одной...</td>\n",
       "      <td>выпущено</td>\n",
       "      <td>тысяч</td>\n",
       "    </tr>\n",
       "    <tr>\n",
       "      <th>2315287</th>\n",
       "      <td>FRACTION</td>\n",
       "      <td>6½</td>\n",
       "      <td>шесть целых и одну вторую</td>\n",
       "      <td>набрав</td>\n",
       "      <td>очков</td>\n",
       "    </tr>\n",
       "    <tr>\n",
       "      <th>2496593</th>\n",
       "      <td>FRACTION</td>\n",
       "      <td>8½</td>\n",
       "      <td>восемь целых и одна вторая</td>\n",
       "      <td>матча</td>\n",
       "      <td>:</td>\n",
       "    </tr>\n",
       "    <tr>\n",
       "      <th>2496595</th>\n",
       "      <td>FRACTION</td>\n",
       "      <td>3½</td>\n",
       "      <td>три целых и одна вторая</td>\n",
       "      <td>:</td>\n",
       "      <td>в</td>\n",
       "    </tr>\n",
       "    <tr>\n",
       "      <th>2812456</th>\n",
       "      <td>FRACTION</td>\n",
       "      <td>2½</td>\n",
       "      <td>две целых и одну вторую</td>\n",
       "      <td>на</td>\n",
       "      <td>тысячи</td>\n",
       "    </tr>\n",
       "    <tr>\n",
       "      <th>3172820</th>\n",
       "      <td>FRACTION</td>\n",
       "      <td>¾</td>\n",
       "      <td>три четвертых</td>\n",
       "      <td>в</td>\n",
       "      <td>от</td>\n",
       "    </tr>\n",
       "    <tr>\n",
       "      <th>3220263</th>\n",
       "      <td>FRACTION</td>\n",
       "      <td>2½</td>\n",
       "      <td>две целых и одна вторая</td>\n",
       "      <td>—</td>\n",
       "      <td>:</td>\n",
       "    </tr>\n",
       "    <tr>\n",
       "      <th>3220265</th>\n",
       "      <td>FRACTION</td>\n",
       "      <td>1½</td>\n",
       "      <td>одна целая и одна вторая</td>\n",
       "      <td>:</td>\n",
       "      <td>.</td>\n",
       "    </tr>\n",
       "    <tr>\n",
       "      <th>3250501</th>\n",
       "      <td>FRACTION</td>\n",
       "      <td>1 ½</td>\n",
       "      <td>одна целая и одна вторая</td>\n",
       "      <td>.</td>\n",
       "      <td>роты</td>\n",
       "    </tr>\n",
       "    <tr>\n",
       "      <th>3395752</th>\n",
       "      <td>FRACTION</td>\n",
       "      <td>½</td>\n",
       "      <td>одна вторая</td>\n",
       "      <td>Более</td>\n",
       "      <td>валовой</td>\n",
       "    </tr>\n",
       "    <tr>\n",
       "      <th>3417776</th>\n",
       "      <td>FRACTION</td>\n",
       "      <td>3½</td>\n",
       "      <td>три целых и одна вторая</td>\n",
       "      <td>счетом</td>\n",
       "      <td>:</td>\n",
       "    </tr>\n",
       "    <tr>\n",
       "      <th>3417778</th>\n",
       "      <td>FRACTION</td>\n",
       "      <td>2½</td>\n",
       "      <td>две целых и одна вторая</td>\n",
       "      <td>:</td>\n",
       "      <td>и</td>\n",
       "    </tr>\n",
       "    <tr>\n",
       "      <th>3478079</th>\n",
       "      <td>FRACTION</td>\n",
       "      <td>¼</td>\n",
       "      <td>одна четвертая</td>\n",
       "      <td>в</td>\n",
       "      <td>финала</td>\n",
       "    </tr>\n",
       "    <tr>\n",
       "      <th>3488898</th>\n",
       "      <td>FRACTION</td>\n",
       "      <td>¾</td>\n",
       "      <td>три четвертых</td>\n",
       "      <td>~</td>\n",
       "      <td>)</td>\n",
       "    </tr>\n",
       "    <tr>\n",
       "      <th>...</th>\n",
       "      <td>...</td>\n",
       "      <td>...</td>\n",
       "      <td>...</td>\n",
       "      <td>...</td>\n",
       "      <td>...</td>\n",
       "    </tr>\n",
       "    <tr>\n",
       "      <th>5646924</th>\n",
       "      <td>FRACTION</td>\n",
       "      <td>10½</td>\n",
       "      <td>десяти целых и одной второй</td>\n",
       "      <td>в</td>\n",
       "      <td>главах</td>\n",
       "    </tr>\n",
       "    <tr>\n",
       "      <th>5710816</th>\n",
       "      <td>FRACTION</td>\n",
       "      <td>6½</td>\n",
       "      <td>шесть целых и одна вторая</td>\n",
       "      <td>(</td>\n",
       "      <td>:</td>\n",
       "    </tr>\n",
       "    <tr>\n",
       "      <th>5710818</th>\n",
       "      <td>FRACTION</td>\n",
       "      <td>4½</td>\n",
       "      <td>четыре целых и одна вторая</td>\n",
       "      <td>:</td>\n",
       "      <td>)</td>\n",
       "    </tr>\n",
       "    <tr>\n",
       "      <th>5743241</th>\n",
       "      <td>FRACTION</td>\n",
       "      <td>2½</td>\n",
       "      <td>двух целых и одной второй</td>\n",
       "      <td>и</td>\n",
       "      <td>года</td>\n",
       "    </tr>\n",
       "    <tr>\n",
       "      <th>6011771</th>\n",
       "      <td>FRACTION</td>\n",
       "      <td>4 ½</td>\n",
       "      <td>четыре целых и одну вторую</td>\n",
       "      <td>Invicta</td>\n",
       "      <td>litre</td>\n",
       "    </tr>\n",
       "    <tr>\n",
       "      <th>6260409</th>\n",
       "      <td>FRACTION</td>\n",
       "      <td>1¼</td>\n",
       "      <td>одной целой и одной четвертой</td>\n",
       "      <td>до</td>\n",
       "      <td>аршина</td>\n",
       "    </tr>\n",
       "    <tr>\n",
       "      <th>6452616</th>\n",
       "      <td>FRACTION</td>\n",
       "      <td>9½</td>\n",
       "      <td>девять целых и одна вторая</td>\n",
       "      <td>по</td>\n",
       "      <td>.</td>\n",
       "    </tr>\n",
       "    <tr>\n",
       "      <th>6800651</th>\n",
       "      <td>FRACTION</td>\n",
       "      <td>½</td>\n",
       "      <td>одна вторая</td>\n",
       "      <td>Ранма</td>\n",
       "      <td>»</td>\n",
       "    </tr>\n",
       "    <tr>\n",
       "      <th>7253139</th>\n",
       "      <td>FRACTION</td>\n",
       "      <td>10½</td>\n",
       "      <td>десять целых и одну вторую</td>\n",
       "      <td>по</td>\n",
       "      <td>очков</td>\n",
       "    </tr>\n",
       "    <tr>\n",
       "      <th>7612900</th>\n",
       "      <td>FRACTION</td>\n",
       "      <td>⅔</td>\n",
       "      <td>две третьих</td>\n",
       "      <td>ленивца</td>\n",
       "      <td>веса</td>\n",
       "    </tr>\n",
       "    <tr>\n",
       "      <th>8033344</th>\n",
       "      <td>FRACTION</td>\n",
       "      <td>5¼</td>\n",
       "      <td>пятью целыми и одной четвертой</td>\n",
       "      <td>двусторонними</td>\n",
       "      <td>дюймовыми</td>\n",
       "    </tr>\n",
       "    <tr>\n",
       "      <th>8259581</th>\n",
       "      <td>FRACTION</td>\n",
       "      <td>8½</td>\n",
       "      <td>восьми целым и одной второй</td>\n",
       "      <td>по</td>\n",
       "      <td>очков</td>\n",
       "    </tr>\n",
       "    <tr>\n",
       "      <th>8283325</th>\n",
       "      <td>FRACTION</td>\n",
       "      <td>2½</td>\n",
       "      <td>две целых и одна вторая</td>\n",
       "      <td>—</td>\n",
       "      <td>:</td>\n",
       "    </tr>\n",
       "    <tr>\n",
       "      <th>8283327</th>\n",
       "      <td>FRACTION</td>\n",
       "      <td>1½</td>\n",
       "      <td>одна целая и одна вторая</td>\n",
       "      <td>:</td>\n",
       "      <td>.</td>\n",
       "    </tr>\n",
       "    <tr>\n",
       "      <th>8317226</th>\n",
       "      <td>FRACTION</td>\n",
       "      <td>¼</td>\n",
       "      <td>одна четвертая</td>\n",
       "      <td>занимавшая</td>\n",
       "      <td>часть</td>\n",
       "    </tr>\n",
       "    <tr>\n",
       "      <th>8355301</th>\n",
       "      <td>FRACTION</td>\n",
       "      <td>6½</td>\n",
       "      <td>шесть целых и одну вторую</td>\n",
       "      <td>набрал</td>\n",
       "      <td>очков</td>\n",
       "    </tr>\n",
       "    <tr>\n",
       "      <th>8457757</th>\n",
       "      <td>FRACTION</td>\n",
       "      <td>½</td>\n",
       "      <td>одна вторая</td>\n",
       "      <td>находилась</td>\n",
       "      <td>германской</td>\n",
       "    </tr>\n",
       "    <tr>\n",
       "      <th>8627416</th>\n",
       "      <td>FRACTION</td>\n",
       "      <td>⅔</td>\n",
       "      <td>двух третьих</td>\n",
       "      <td>более</td>\n",
       "      <td>)</td>\n",
       "    </tr>\n",
       "    <tr>\n",
       "      <th>8717346</th>\n",
       "      <td>FRACTION</td>\n",
       "      <td>¼</td>\n",
       "      <td>одна четвертая</td>\n",
       "      <td>составлял</td>\n",
       "      <td>рупии</td>\n",
       "    </tr>\n",
       "    <tr>\n",
       "      <th>8737281</th>\n",
       "      <td>FRACTION</td>\n",
       "      <td>3 ½</td>\n",
       "      <td>три целых и одна вторая</td>\n",
       "      <td>—</td>\n",
       "      <td>октавы</td>\n",
       "    </tr>\n",
       "    <tr>\n",
       "      <th>8984892</th>\n",
       "      <td>FRACTION</td>\n",
       "      <td>½</td>\n",
       "      <td>одной второй</td>\n",
       "      <td>от</td>\n",
       "      <td>-</td>\n",
       "    </tr>\n",
       "    <tr>\n",
       "      <th>8984894</th>\n",
       "      <td>FRACTION</td>\n",
       "      <td>¾</td>\n",
       "      <td>трех четвертых</td>\n",
       "      <td>-</td>\n",
       "      <td>мм</td>\n",
       "    </tr>\n",
       "    <tr>\n",
       "      <th>9080276</th>\n",
       "      <td>FRACTION</td>\n",
       "      <td>9½</td>\n",
       "      <td>девять целых и одна вторая</td>\n",
       "      <td>по</td>\n",
       "      <td>.</td>\n",
       "    </tr>\n",
       "    <tr>\n",
       "      <th>9080375</th>\n",
       "      <td>FRACTION</td>\n",
       "      <td>10½</td>\n",
       "      <td>десять целых и одна вторая</td>\n",
       "      <td>—</td>\n",
       "      <td>.</td>\n",
       "    </tr>\n",
       "    <tr>\n",
       "      <th>9083227</th>\n",
       "      <td>FRACTION</td>\n",
       "      <td>3½</td>\n",
       "      <td>три целых и одна вторая</td>\n",
       "      <td>—</td>\n",
       "      <td>;</td>\n",
       "    </tr>\n",
       "    <tr>\n",
       "      <th>9768976</th>\n",
       "      <td>FRACTION</td>\n",
       "      <td>2½</td>\n",
       "      <td>две целых и одна вторая</td>\n",
       "      <td>«</td>\n",
       "      <td>часа</td>\n",
       "    </tr>\n",
       "    <tr>\n",
       "      <th>9918776</th>\n",
       "      <td>FRACTION</td>\n",
       "      <td>9 ¾</td>\n",
       "      <td>девять целых и три четвертых</td>\n",
       "      <td>платформы</td>\n",
       "      <td>.</td>\n",
       "    </tr>\n",
       "    <tr>\n",
       "      <th>9921668</th>\n",
       "      <td>FRACTION</td>\n",
       "      <td>¾</td>\n",
       "      <td>три четвертых</td>\n",
       "      <td>занимали</td>\n",
       "      <td>длины</td>\n",
       "    </tr>\n",
       "    <tr>\n",
       "      <th>10013235</th>\n",
       "      <td>FRACTION</td>\n",
       "      <td>½</td>\n",
       "      <td>одна вторая</td>\n",
       "      <td>равная</td>\n",
       "      <td>асса</td>\n",
       "    </tr>\n",
       "    <tr>\n",
       "      <th>10277345</th>\n",
       "      <td>FRACTION</td>\n",
       "      <td>6¾</td>\n",
       "      <td>шесть целых и три четвертых</td>\n",
       "      <td>диска</td>\n",
       "      <td>'</td>\n",
       "    </tr>\n",
       "  </tbody>\n",
       "</table>\n",
       "<p>75 rows × 5 columns</p>\n",
       "</div>"
      ],
      "text/plain": [
       "<div>\n",
       "<style scoped>\n",
       "    .dataframe tbody tr th:only-of-type {\n",
       "        vertical-align: middle;\n",
       "    }\n",
       "\n",
       "    .dataframe tbody tr th {\n",
       "        vertical-align: top;\n",
       "    }\n",
       "\n",
       "    .dataframe thead th {\n",
       "        text-align: right;\n",
       "    }\n",
       "</style>\n",
       "<table border=\"1\" class=\"dataframe\">\n",
       "  <thead>\n",
       "    <tr style=\"text-align: right;\">\n",
       "      <th></th>\n",
       "      <th>class</th>\n",
       "      <th>before</th>\n",
       "      <th>after</th>\n",
       "      <th>prev</th>\n",
       "      <th>next</th>\n",
       "    </tr>\n",
       "  </thead>\n",
       "  <tbody>\n",
       "    <tr>\n",
       "      <th>40420</th>\n",
       "      <td>FRACTION</td>\n",
       "      <td>7½</td>\n",
       "      <td>семи целых и одной второй</td>\n",
       "      <td>около</td>\n",
       "      <td>фунтов</td>\n",
       "    </tr>\n",
       "    <tr>\n",
       "      <th>157446</th>\n",
       "      <td>FRACTION</td>\n",
       "      <td>3½</td>\n",
       "      <td>три целых и одну вторую</td>\n",
       "      <td>на</td>\n",
       "      <td>очка</td>\n",
       "    </tr>\n",
       "    <tr>\n",
       "      <th>445580</th>\n",
       "      <td>FRACTION</td>\n",
       "      <td>59½</td>\n",
       "      <td>пятидесяти девяти целых и одной второй</td>\n",
       "      <td>139 976 рублей</td>\n",
       "      <td>копейки</td>\n",
       "    </tr>\n",
       "    <tr>\n",
       "      <th>765884</th>\n",
       "      <td>FRACTION</td>\n",
       "      <td>¼</td>\n",
       "      <td>одна четвертая</td>\n",
       "      <td>Второй</td>\n",
       "      <td>финалДата</td>\n",
       "    </tr>\n",
       "    <tr>\n",
       "      <th>803808</th>\n",
       "      <td>FRACTION</td>\n",
       "      <td>½</td>\n",
       "      <td>одна вторая</td>\n",
       "      <td>номиналом</td>\n",
       "      <td>шиллинга</td>\n",
       "    </tr>\n",
       "    <tr>\n",
       "      <th>999135</th>\n",
       "      <td>FRACTION</td>\n",
       "      <td>⅔</td>\n",
       "      <td>две третьих</td>\n",
       "      <td>на</td>\n",
       "      <td>территории</td>\n",
       "    </tr>\n",
       "    <tr>\n",
       "      <th>1253476</th>\n",
       "      <td>FRACTION</td>\n",
       "      <td>½</td>\n",
       "      <td>одна вторая</td>\n",
       "      <td>CrA</td>\n",
       "      <td>gut</td>\n",
       "    </tr>\n",
       "    <tr>\n",
       "      <th>1584453</th>\n",
       "      <td>FRACTION</td>\n",
       "      <td>8½</td>\n",
       "      <td>восемь целых и одна вторая</td>\n",
       "      <td>«</td>\n",
       "      <td>женщин</td>\n",
       "    </tr>\n",
       "    <tr>\n",
       "      <th>1584466</th>\n",
       "      <td>FRACTION</td>\n",
       "      <td>8½</td>\n",
       "      <td>восемь целых и одна вторая</td>\n",
       "      <td>.</td>\n",
       "      <td>Women</td>\n",
       "    </tr>\n",
       "    <tr>\n",
       "      <th>1876892</th>\n",
       "      <td>FRACTION</td>\n",
       "      <td>½</td>\n",
       "      <td>одна вторая</td>\n",
       "      <td>в</td>\n",
       "      <td>,</td>\n",
       "    </tr>\n",
       "    <tr>\n",
       "      <th>1876899</th>\n",
       "      <td>FRACTION</td>\n",
       "      <td>¼</td>\n",
       "      <td>одна четвертая</td>\n",
       "      <td>и</td>\n",
       "      <td>и</td>\n",
       "    </tr>\n",
       "    <tr>\n",
       "      <th>1876901</th>\n",
       "      <td>FRACTION</td>\n",
       "      <td>½</td>\n",
       "      <td>одна вторая</td>\n",
       "      <td>и</td>\n",
       "      <td>рупий</td>\n",
       "    </tr>\n",
       "    <tr>\n",
       "      <th>1921150</th>\n",
       "      <td>FRACTION</td>\n",
       "      <td>5 ½</td>\n",
       "      <td>пять целых и одна вторая</td>\n",
       "      <td>—</td>\n",
       "      <td>обеж</td>\n",
       "    </tr>\n",
       "    <tr>\n",
       "      <th>1949935</th>\n",
       "      <td>FRACTION</td>\n",
       "      <td>½</td>\n",
       "      <td>одна вторая</td>\n",
       "      <td>ничью</td>\n",
       "      <td>очка</td>\n",
       "    </tr>\n",
       "    <tr>\n",
       "      <th>2023480</th>\n",
       "      <td>FRACTION</td>\n",
       "      <td>½</td>\n",
       "      <td>одна вторая</td>\n",
       "      <td>состояло</td>\n",
       "      <td>дес</td>\n",
       "    </tr>\n",
       "    <tr>\n",
       "      <th>2023485</th>\n",
       "      <td>FRACTION</td>\n",
       "      <td>2 ¾</td>\n",
       "      <td>две целых и три четвертых</td>\n",
       "      <td>усадебной</td>\n",
       "      <td>дес</td>\n",
       "    </tr>\n",
       "    <tr>\n",
       "      <th>2271189</th>\n",
       "      <td>FRACTION</td>\n",
       "      <td>282½</td>\n",
       "      <td>двумястами восьмьюдесятью двумя целыми и одной...</td>\n",
       "      <td>выпущено</td>\n",
       "      <td>тысяч</td>\n",
       "    </tr>\n",
       "    <tr>\n",
       "      <th>2315287</th>\n",
       "      <td>FRACTION</td>\n",
       "      <td>6½</td>\n",
       "      <td>шесть целых и одну вторую</td>\n",
       "      <td>набрав</td>\n",
       "      <td>очков</td>\n",
       "    </tr>\n",
       "    <tr>\n",
       "      <th>2496593</th>\n",
       "      <td>FRACTION</td>\n",
       "      <td>8½</td>\n",
       "      <td>восемь целых и одна вторая</td>\n",
       "      <td>матча</td>\n",
       "      <td>:</td>\n",
       "    </tr>\n",
       "    <tr>\n",
       "      <th>2496595</th>\n",
       "      <td>FRACTION</td>\n",
       "      <td>3½</td>\n",
       "      <td>три целых и одна вторая</td>\n",
       "      <td>:</td>\n",
       "      <td>в</td>\n",
       "    </tr>\n",
       "    <tr>\n",
       "      <th>2812456</th>\n",
       "      <td>FRACTION</td>\n",
       "      <td>2½</td>\n",
       "      <td>две целых и одну вторую</td>\n",
       "      <td>на</td>\n",
       "      <td>тысячи</td>\n",
       "    </tr>\n",
       "    <tr>\n",
       "      <th>3172820</th>\n",
       "      <td>FRACTION</td>\n",
       "      <td>¾</td>\n",
       "      <td>три четвертых</td>\n",
       "      <td>в</td>\n",
       "      <td>от</td>\n",
       "    </tr>\n",
       "    <tr>\n",
       "      <th>3220263</th>\n",
       "      <td>FRACTION</td>\n",
       "      <td>2½</td>\n",
       "      <td>две целых и одна вторая</td>\n",
       "      <td>—</td>\n",
       "      <td>:</td>\n",
       "    </tr>\n",
       "    <tr>\n",
       "      <th>3220265</th>\n",
       "      <td>FRACTION</td>\n",
       "      <td>1½</td>\n",
       "      <td>одна целая и одна вторая</td>\n",
       "      <td>:</td>\n",
       "      <td>.</td>\n",
       "    </tr>\n",
       "    <tr>\n",
       "      <th>3250501</th>\n",
       "      <td>FRACTION</td>\n",
       "      <td>1 ½</td>\n",
       "      <td>одна целая и одна вторая</td>\n",
       "      <td>.</td>\n",
       "      <td>роты</td>\n",
       "    </tr>\n",
       "    <tr>\n",
       "      <th>3395752</th>\n",
       "      <td>FRACTION</td>\n",
       "      <td>½</td>\n",
       "      <td>одна вторая</td>\n",
       "      <td>Более</td>\n",
       "      <td>валовой</td>\n",
       "    </tr>\n",
       "    <tr>\n",
       "      <th>3417776</th>\n",
       "      <td>FRACTION</td>\n",
       "      <td>3½</td>\n",
       "      <td>три целых и одна вторая</td>\n",
       "      <td>счетом</td>\n",
       "      <td>:</td>\n",
       "    </tr>\n",
       "    <tr>\n",
       "      <th>3417778</th>\n",
       "      <td>FRACTION</td>\n",
       "      <td>2½</td>\n",
       "      <td>две целых и одна вторая</td>\n",
       "      <td>:</td>\n",
       "      <td>и</td>\n",
       "    </tr>\n",
       "    <tr>\n",
       "      <th>3478079</th>\n",
       "      <td>FRACTION</td>\n",
       "      <td>¼</td>\n",
       "      <td>одна четвертая</td>\n",
       "      <td>в</td>\n",
       "      <td>финала</td>\n",
       "    </tr>\n",
       "    <tr>\n",
       "      <th>3488898</th>\n",
       "      <td>FRACTION</td>\n",
       "      <td>¾</td>\n",
       "      <td>три четвертых</td>\n",
       "      <td>~</td>\n",
       "      <td>)</td>\n",
       "    </tr>\n",
       "    <tr>\n",
       "      <th>...</th>\n",
       "      <td>...</td>\n",
       "      <td>...</td>\n",
       "      <td>...</td>\n",
       "      <td>...</td>\n",
       "      <td>...</td>\n",
       "    </tr>\n",
       "    <tr>\n",
       "      <th>5646924</th>\n",
       "      <td>FRACTION</td>\n",
       "      <td>10½</td>\n",
       "      <td>десяти целых и одной второй</td>\n",
       "      <td>в</td>\n",
       "      <td>главах</td>\n",
       "    </tr>\n",
       "    <tr>\n",
       "      <th>5710816</th>\n",
       "      <td>FRACTION</td>\n",
       "      <td>6½</td>\n",
       "      <td>шесть целых и одна вторая</td>\n",
       "      <td>(</td>\n",
       "      <td>:</td>\n",
       "    </tr>\n",
       "    <tr>\n",
       "      <th>5710818</th>\n",
       "      <td>FRACTION</td>\n",
       "      <td>4½</td>\n",
       "      <td>четыре целых и одна вторая</td>\n",
       "      <td>:</td>\n",
       "      <td>)</td>\n",
       "    </tr>\n",
       "    <tr>\n",
       "      <th>5743241</th>\n",
       "      <td>FRACTION</td>\n",
       "      <td>2½</td>\n",
       "      <td>двух целых и одной второй</td>\n",
       "      <td>и</td>\n",
       "      <td>года</td>\n",
       "    </tr>\n",
       "    <tr>\n",
       "      <th>6011771</th>\n",
       "      <td>FRACTION</td>\n",
       "      <td>4 ½</td>\n",
       "      <td>четыре целых и одну вторую</td>\n",
       "      <td>Invicta</td>\n",
       "      <td>litre</td>\n",
       "    </tr>\n",
       "    <tr>\n",
       "      <th>6260409</th>\n",
       "      <td>FRACTION</td>\n",
       "      <td>1¼</td>\n",
       "      <td>одной целой и одной четвертой</td>\n",
       "      <td>до</td>\n",
       "      <td>аршина</td>\n",
       "    </tr>\n",
       "    <tr>\n",
       "      <th>6452616</th>\n",
       "      <td>FRACTION</td>\n",
       "      <td>9½</td>\n",
       "      <td>девять целых и одна вторая</td>\n",
       "      <td>по</td>\n",
       "      <td>.</td>\n",
       "    </tr>\n",
       "    <tr>\n",
       "      <th>6800651</th>\n",
       "      <td>FRACTION</td>\n",
       "      <td>½</td>\n",
       "      <td>одна вторая</td>\n",
       "      <td>Ранма</td>\n",
       "      <td>»</td>\n",
       "    </tr>\n",
       "    <tr>\n",
       "      <th>7253139</th>\n",
       "      <td>FRACTION</td>\n",
       "      <td>10½</td>\n",
       "      <td>десять целых и одну вторую</td>\n",
       "      <td>по</td>\n",
       "      <td>очков</td>\n",
       "    </tr>\n",
       "    <tr>\n",
       "      <th>7612900</th>\n",
       "      <td>FRACTION</td>\n",
       "      <td>⅔</td>\n",
       "      <td>две третьих</td>\n",
       "      <td>ленивца</td>\n",
       "      <td>веса</td>\n",
       "    </tr>\n",
       "    <tr>\n",
       "      <th>8033344</th>\n",
       "      <td>FRACTION</td>\n",
       "      <td>5¼</td>\n",
       "      <td>пятью целыми и одной четвертой</td>\n",
       "      <td>двусторонними</td>\n",
       "      <td>дюймовыми</td>\n",
       "    </tr>\n",
       "    <tr>\n",
       "      <th>8259581</th>\n",
       "      <td>FRACTION</td>\n",
       "      <td>8½</td>\n",
       "      <td>восьми целым и одной второй</td>\n",
       "      <td>по</td>\n",
       "      <td>очков</td>\n",
       "    </tr>\n",
       "    <tr>\n",
       "      <th>8283325</th>\n",
       "      <td>FRACTION</td>\n",
       "      <td>2½</td>\n",
       "      <td>две целых и одна вторая</td>\n",
       "      <td>—</td>\n",
       "      <td>:</td>\n",
       "    </tr>\n",
       "    <tr>\n",
       "      <th>8283327</th>\n",
       "      <td>FRACTION</td>\n",
       "      <td>1½</td>\n",
       "      <td>одна целая и одна вторая</td>\n",
       "      <td>:</td>\n",
       "      <td>.</td>\n",
       "    </tr>\n",
       "    <tr>\n",
       "      <th>8317226</th>\n",
       "      <td>FRACTION</td>\n",
       "      <td>¼</td>\n",
       "      <td>одна четвертая</td>\n",
       "      <td>занимавшая</td>\n",
       "      <td>часть</td>\n",
       "    </tr>\n",
       "    <tr>\n",
       "      <th>8355301</th>\n",
       "      <td>FRACTION</td>\n",
       "      <td>6½</td>\n",
       "      <td>шесть целых и одну вторую</td>\n",
       "      <td>набрал</td>\n",
       "      <td>очков</td>\n",
       "    </tr>\n",
       "    <tr>\n",
       "      <th>8457757</th>\n",
       "      <td>FRACTION</td>\n",
       "      <td>½</td>\n",
       "      <td>одна вторая</td>\n",
       "      <td>находилась</td>\n",
       "      <td>германской</td>\n",
       "    </tr>\n",
       "    <tr>\n",
       "      <th>8627416</th>\n",
       "      <td>FRACTION</td>\n",
       "      <td>⅔</td>\n",
       "      <td>двух третьих</td>\n",
       "      <td>более</td>\n",
       "      <td>)</td>\n",
       "    </tr>\n",
       "    <tr>\n",
       "      <th>8717346</th>\n",
       "      <td>FRACTION</td>\n",
       "      <td>¼</td>\n",
       "      <td>одна четвертая</td>\n",
       "      <td>составлял</td>\n",
       "      <td>рупии</td>\n",
       "    </tr>\n",
       "    <tr>\n",
       "      <th>8737281</th>\n",
       "      <td>FRACTION</td>\n",
       "      <td>3 ½</td>\n",
       "      <td>три целых и одна вторая</td>\n",
       "      <td>—</td>\n",
       "      <td>октавы</td>\n",
       "    </tr>\n",
       "    <tr>\n",
       "      <th>8984892</th>\n",
       "      <td>FRACTION</td>\n",
       "      <td>½</td>\n",
       "      <td>одной второй</td>\n",
       "      <td>от</td>\n",
       "      <td>-</td>\n",
       "    </tr>\n",
       "    <tr>\n",
       "      <th>8984894</th>\n",
       "      <td>FRACTION</td>\n",
       "      <td>¾</td>\n",
       "      <td>трех четвертых</td>\n",
       "      <td>-</td>\n",
       "      <td>мм</td>\n",
       "    </tr>\n",
       "    <tr>\n",
       "      <th>9080276</th>\n",
       "      <td>FRACTION</td>\n",
       "      <td>9½</td>\n",
       "      <td>девять целых и одна вторая</td>\n",
       "      <td>по</td>\n",
       "      <td>.</td>\n",
       "    </tr>\n",
       "    <tr>\n",
       "      <th>9080375</th>\n",
       "      <td>FRACTION</td>\n",
       "      <td>10½</td>\n",
       "      <td>десять целых и одна вторая</td>\n",
       "      <td>—</td>\n",
       "      <td>.</td>\n",
       "    </tr>\n",
       "    <tr>\n",
       "      <th>9083227</th>\n",
       "      <td>FRACTION</td>\n",
       "      <td>3½</td>\n",
       "      <td>три целых и одна вторая</td>\n",
       "      <td>—</td>\n",
       "      <td>;</td>\n",
       "    </tr>\n",
       "    <tr>\n",
       "      <th>9768976</th>\n",
       "      <td>FRACTION</td>\n",
       "      <td>2½</td>\n",
       "      <td>две целых и одна вторая</td>\n",
       "      <td>«</td>\n",
       "      <td>часа</td>\n",
       "    </tr>\n",
       "    <tr>\n",
       "      <th>9918776</th>\n",
       "      <td>FRACTION</td>\n",
       "      <td>9 ¾</td>\n",
       "      <td>девять целых и три четвертых</td>\n",
       "      <td>платформы</td>\n",
       "      <td>.</td>\n",
       "    </tr>\n",
       "    <tr>\n",
       "      <th>9921668</th>\n",
       "      <td>FRACTION</td>\n",
       "      <td>¾</td>\n",
       "      <td>три четвертых</td>\n",
       "      <td>занимали</td>\n",
       "      <td>длины</td>\n",
       "    </tr>\n",
       "    <tr>\n",
       "      <th>10013235</th>\n",
       "      <td>FRACTION</td>\n",
       "      <td>½</td>\n",
       "      <td>одна вторая</td>\n",
       "      <td>равная</td>\n",
       "      <td>асса</td>\n",
       "    </tr>\n",
       "    <tr>\n",
       "      <th>10277345</th>\n",
       "      <td>FRACTION</td>\n",
       "      <td>6¾</td>\n",
       "      <td>шесть целых и три четвертых</td>\n",
       "      <td>диска</td>\n",
       "      <td>'</td>\n",
       "    </tr>\n",
       "  </tbody>\n",
       "</table>\n",
       "<p>75 rows × 5 columns</p>\n",
       "</div>"
      ]
     },
     "execution_count": 102,
     "metadata": {},
     "output_type": "execute_result"
    }
   ],
   "source": [
    "df[~(df['before'].str.match('^-?\\d*\\s?\\d*\\s?\\/\\s?\\d+\\s?\\d*$')) & (df['class'] == 'FRACTION')]"
   ]
  },
  {
   "cell_type": "code",
   "execution_count": 30,
   "metadata": {},
   "outputs": [],
   "source": []
  },
  {
   "cell_type": "code",
   "execution_count": null,
   "metadata": {},
   "outputs": [],
   "source": []
  }
 ],
 "metadata": {
  "kernelspec": {
   "display_name": "Python 2",
   "language": "python",
   "name": "python2"
  },
  "language_info": {
   "codemirror_mode": {
    "name": "ipython",
    "version": 2
   },
   "file_extension": ".py",
   "mimetype": "text/x-python",
   "name": "python",
   "nbconvert_exporter": "python",
   "pygments_lexer": "ipython2",
   "version": "2.7.6"
  }
 },
 "nbformat": 4,
 "nbformat_minor": 0
}
