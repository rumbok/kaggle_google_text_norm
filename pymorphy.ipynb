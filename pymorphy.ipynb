{
 "cells": [
  {
   "cell_type": "code",
   "execution_count": 1,
   "metadata": {
    "collapsed": true
   },
   "outputs": [],
   "source": [
    "import pymorphy2\n",
    "import pandas as pd\n",
    "import numpy as np\n",
    "import os"
   ]
  },
  {
   "cell_type": "code",
   "execution_count": 2,
   "metadata": {},
   "outputs": [],
   "source": [
    "morph = pymorphy2.MorphAnalyzer()\n",
    "INPUT_PATH = r'../input/norm_challenge_ru'\n"
   ]
  },
  {
   "cell_type": "code",
   "execution_count": 3,
   "metadata": {},
   "outputs": [
    {
     "name": "stdout",
     "output_type": "stream",
     "text": [
      "[Parse(word='один', tag=OpencorporaTag('ADJF,Apro masc,sing,nomn'), normal_form='один', score=0.629629, methods_stack=((<DictionaryAnalyzer>, 'один', 2198, 0),)), Parse(word='один', tag=OpencorporaTag('ADJF,Apro inan,masc,sing,accs'), normal_form='один', score=0.37037, methods_stack=((<DictionaryAnalyzer>, 'один', 2198, 3),))]\n[Parse(word='одно', tag=OpencorporaTag('ADJF,Apro neut,sing,accs'), normal_form='один', score=0.714285, methods_stack=((<DictionaryAnalyzer>, 'одно', 2198, 16),)), Parse(word='одно', tag=OpencorporaTag('ADJF,Apro neut,sing,nomn'), normal_form='один', score=0.285714, methods_stack=((<DictionaryAnalyzer>, 'одно', 2198, 13),))]\n"
     ]
    }
   ],
   "source": [
    "print(morph.parse('один'))\n",
    "print(morph.parse('одно'))\n"
   ]
  },
  {
   "cell_type": "code",
   "execution_count": null,
   "metadata": {},
   "outputs": [],
   "source": [
    "\n",
    "train = pd.read_csv(os.path.join(INPUT_PATH, 'ru_train.csv'), encoding='utf-8', index_col=False)\n",
    "#train['before'] = train['before'].str.lower()\n",
    "#train['after'] = train['after'].str.lower()\n",
    "train['after_wc'] = train['after'].map(lambda x: len(str(x).split()))\n",
    "train['prevprev'] = train['before'].shift(2)\n",
    "train['prev'] = train['before'].shift(1)\n",
    "train['next'] = train['before'].shift(-1)\n",
    "train['nextnext'] = train['before'].shift(-2)\n",
    "#train = train[~(train['before'] == train['after'])]\n",
    "\n",
    "#train[~(train['class'] == 'LETTERS') & (train['after_c'] > 4)]\n",
    "#train = train.groupby(['before', 'after'], as_index=False)['sentence_id'].count()\n",
    "#train = train.sort_values(['sentence_id','before'], ascending=[False, True])\n",
    "#train = train.drop_duplicates(['before'])\n",
    "#d = {key: value for (key, value) in train[['before', 'after']].values}\n"
   ]
  },
  {
   "cell_type": "code",
   "execution_count": 3,
   "metadata": {},
   "outputs": [
    {
     "data": {
      "text/html": [
       "<div>\n",
       "<style>\n",
       "    .dataframe thead tr:only-child th {\n",
       "        text-align: right;\n",
       "    }\n",
       "\n",
       "    .dataframe thead th {\n",
       "        text-align: left;\n",
       "    }\n",
       "\n",
       "    .dataframe tbody tr th {\n",
       "        vertical-align: top;\n",
       "    }\n",
       "</style>\n",
       "<table border=\"1\" class=\"dataframe\">\n",
       "  <thead>\n",
       "    <tr style=\"text-align: right;\">\n",
       "      <th></th>\n",
       "      <th>sentence_id</th>\n",
       "      <th>token_id</th>\n",
       "      <th>class</th>\n",
       "      <th>before</th>\n",
       "      <th>after</th>\n",
       "      <th>after_wc</th>\n",
       "      <th>prevprev</th>\n",
       "      <th>prev</th>\n",
       "      <th>next</th>\n",
       "      <th>nextnext</th>\n",
       "    </tr>\n",
       "  </thead>\n",
       "  <tbody>\n",
       "    <tr>\n",
       "      <th>0</th>\n",
       "      <td>0</td>\n",
       "      <td>0</td>\n",
       "      <td>PLAIN</td>\n",
       "      <td>По</td>\n",
       "      <td>По</td>\n",
       "      <td>1</td>\n",
       "      <td>NaN</td>\n",
       "      <td>NaN</td>\n",
       "      <td>состоянию</td>\n",
       "      <td>на</td>\n",
       "    </tr>\n",
       "    <tr>\n",
       "      <th>1</th>\n",
       "      <td>0</td>\n",
       "      <td>1</td>\n",
       "      <td>PLAIN</td>\n",
       "      <td>состоянию</td>\n",
       "      <td>состоянию</td>\n",
       "      <td>1</td>\n",
       "      <td>NaN</td>\n",
       "      <td>По</td>\n",
       "      <td>на</td>\n",
       "      <td>1862 год</td>\n",
       "    </tr>\n",
       "    <tr>\n",
       "      <th>2</th>\n",
       "      <td>0</td>\n",
       "      <td>2</td>\n",
       "      <td>PLAIN</td>\n",
       "      <td>на</td>\n",
       "      <td>на</td>\n",
       "      <td>1</td>\n",
       "      <td>По</td>\n",
       "      <td>состоянию</td>\n",
       "      <td>1862 год</td>\n",
       "      <td>.</td>\n",
       "    </tr>\n",
       "    <tr>\n",
       "      <th>3</th>\n",
       "      <td>0</td>\n",
       "      <td>3</td>\n",
       "      <td>DATE</td>\n",
       "      <td>1862 год</td>\n",
       "      <td>тысяча восемьсот шестьдесят второй год</td>\n",
       "      <td>5</td>\n",
       "      <td>состоянию</td>\n",
       "      <td>на</td>\n",
       "      <td>.</td>\n",
       "      <td>Оснащались</td>\n",
       "    </tr>\n",
       "    <tr>\n",
       "      <th>4</th>\n",
       "      <td>0</td>\n",
       "      <td>4</td>\n",
       "      <td>PUNCT</td>\n",
       "      <td>.</td>\n",
       "      <td>.</td>\n",
       "      <td>1</td>\n",
       "      <td>на</td>\n",
       "      <td>1862 год</td>\n",
       "      <td>Оснащались</td>\n",
       "      <td>латными</td>\n",
       "    </tr>\n",
       "  </tbody>\n",
       "</table>\n",
       "</div>"
      ],
      "text/plain": [
       "<div>\n",
       "<style>\n",
       "    .dataframe thead tr:only-child th {\n",
       "        text-align: right;\n",
       "    }\n",
       "\n",
       "    .dataframe thead th {\n",
       "        text-align: left;\n",
       "    }\n",
       "\n",
       "    .dataframe tbody tr th {\n",
       "        vertical-align: top;\n",
       "    }\n",
       "</style>\n",
       "<table border=\"1\" class=\"dataframe\">\n",
       "  <thead>\n",
       "    <tr style=\"text-align: right;\">\n",
       "      <th></th>\n",
       "      <th>sentence_id</th>\n",
       "      <th>token_id</th>\n",
       "      <th>class</th>\n",
       "      <th>before</th>\n",
       "      <th>after</th>\n",
       "      <th>after_wc</th>\n",
       "      <th>prevprev</th>\n",
       "      <th>prev</th>\n",
       "      <th>next</th>\n",
       "      <th>nextnext</th>\n",
       "    </tr>\n",
       "  </thead>\n",
       "  <tbody>\n",
       "    <tr>\n",
       "      <th>0</th>\n",
       "      <td>0</td>\n",
       "      <td>0</td>\n",
       "      <td>PLAIN</td>\n",
       "      <td>По</td>\n",
       "      <td>По</td>\n",
       "      <td>1</td>\n",
       "      <td>NaN</td>\n",
       "      <td>NaN</td>\n",
       "      <td>состоянию</td>\n",
       "      <td>на</td>\n",
       "    </tr>\n",
       "    <tr>\n",
       "      <th>1</th>\n",
       "      <td>0</td>\n",
       "      <td>1</td>\n",
       "      <td>PLAIN</td>\n",
       "      <td>состоянию</td>\n",
       "      <td>состоянию</td>\n",
       "      <td>1</td>\n",
       "      <td>NaN</td>\n",
       "      <td>По</td>\n",
       "      <td>на</td>\n",
       "      <td>1862 год</td>\n",
       "    </tr>\n",
       "    <tr>\n",
       "      <th>2</th>\n",
       "      <td>0</td>\n",
       "      <td>2</td>\n",
       "      <td>PLAIN</td>\n",
       "      <td>на</td>\n",
       "      <td>на</td>\n",
       "      <td>1</td>\n",
       "      <td>По</td>\n",
       "      <td>состоянию</td>\n",
       "      <td>1862 год</td>\n",
       "      <td>.</td>\n",
       "    </tr>\n",
       "    <tr>\n",
       "      <th>3</th>\n",
       "      <td>0</td>\n",
       "      <td>3</td>\n",
       "      <td>DATE</td>\n",
       "      <td>1862 год</td>\n",
       "      <td>тысяча восемьсот шестьдесят второй год</td>\n",
       "      <td>5</td>\n",
       "      <td>состоянию</td>\n",
       "      <td>на</td>\n",
       "      <td>.</td>\n",
       "      <td>Оснащались</td>\n",
       "    </tr>\n",
       "    <tr>\n",
       "      <th>4</th>\n",
       "      <td>0</td>\n",
       "      <td>4</td>\n",
       "      <td>PUNCT</td>\n",
       "      <td>.</td>\n",
       "      <td>.</td>\n",
       "      <td>1</td>\n",
       "      <td>на</td>\n",
       "      <td>1862 год</td>\n",
       "      <td>Оснащались</td>\n",
       "      <td>латными</td>\n",
       "    </tr>\n",
       "  </tbody>\n",
       "</table>\n",
       "</div>"
      ]
     },
     "execution_count": 3,
     "metadata": {},
     "output_type": "execute_result"
    }
   ],
   "source": [
    "train.head()"
   ]
  },
  {
   "cell_type": "code",
   "execution_count": 4,
   "metadata": {},
   "outputs": [
    {
     "data": {
      "text/plain": [
       "PLAIN         6816337\nPUNCT         2288640\nVERBATIM       144968\nMEASURE           614\nCARDINAL          508\nORDINAL           203\nELECTRONIC        155\nDECIMAL           104\nDATE              100\nMONEY              67\nTIME               50\nLETTERS            47\nFRACTION           25\nName: class, dtype: int64"
      ]
     },
     "execution_count": 4,
     "metadata": {},
     "output_type": "execute_result"
    }
   ],
   "source": [
    "train[(train['before'] == train['after'])]['class'].value_counts()"
   ]
  },
  {
   "cell_type": "code",
   "execution_count": 5,
   "metadata": {},
   "outputs": [
    {
     "data": {
      "text/plain": [
       "PLAIN         544102\nCARDINAL      271934\nLETTERS       189481\nDATE          185859\nORDINAL        46535\nMEASURE        39920\nVERBATIM       12944\nTELEPHONE      10088\nDECIMAL         7193\nELECTRONIC      5677\nMONEY           2623\nFRACTION        2435\nDIGIT           2012\nTIME            1895\nName: class, dtype: int64"
      ]
     },
     "execution_count": 5,
     "metadata": {},
     "output_type": "execute_result"
    }
   ],
   "source": [
    "train[~(train['before'] == train['after'])]['class'].value_counts()"
   ]
  },
  {
   "cell_type": "code",
   "execution_count": null,
   "metadata": {},
   "outputs": [],
   "source": [
    "train[(train['class']=='VERBATIM') & (train['before'].fillna('').str.contains('\\d'))]['after'].head(10)\n",
    "\n"
   ]
  },
  {
   "cell_type": "code",
   "execution_count": null,
   "metadata": {},
   "outputs": [],
   "source": [
    "train[(train['class'] == 'VERBATIM') & ~(train['before'] == train['after'])]['after'].value_counts()\n"
   ]
  },
  {
   "cell_type": "code",
   "execution_count": 12,
   "metadata": {},
   "outputs": [
    {
     "data": {
      "text/plain": [
       "[Parse(word='века', tag=OpencorporaTag('NOUN,inan,masc sing,gent'), normal_form='век', score=0.625, methods_stack=((<DictionaryAnalyzer>, 'века', 666, 1),)),\n Parse(word='века', tag=OpencorporaTag('NOUN,inan,neut sing,gent'), normal_form='веко', score=0.125, methods_stack=((<DictionaryAnalyzer>, 'века', 556, 1),)),\n Parse(word='века', tag=OpencorporaTag('NOUN,inan,masc plur,nomn'), normal_form='век', score=0.125, methods_stack=((<DictionaryAnalyzer>, 'века', 666, 7),)),\n Parse(word='века', tag=OpencorporaTag('NOUN,inan,masc plur,accs'), normal_form='век', score=0.125, methods_stack=((<DictionaryAnalyzer>, 'века', 666, 10),))]"
      ]
     },
     "execution_count": 12,
     "metadata": {},
     "output_type": "execute_result"
    }
   ],
   "source": [
    "context = morph.parse('века')\n",
    "context"
   ]
  },
  {
   "cell_type": "code",
   "execution_count": 10,
   "metadata": {},
   "outputs": [
    {
     "data": {
      "text/plain": [
       "OpencorporaTag('NOUN,inan,masc sing,gent')"
      ]
     },
     "execution_count": 10,
     "metadata": {},
     "output_type": "execute_result"
    }
   ],
   "source": [
    "context[0].tag"
   ]
  },
  {
   "cell_type": "code",
   "execution_count": 46,
   "metadata": {},
   "outputs": [
    {
     "data": {
      "text/plain": [
       "[Parse(word='девятнадцатого', tag=OpencorporaTag('ADJF,Anum masc,sing,gent'), normal_form='девятнадцать', score=0.3333333333333333, methods_stack=((<DictionaryAnalyzer>, 'девятнадцатого', 889, 7),)),\n Parse(word='девятнадцатого', tag=OpencorporaTag('ADJF,Anum anim,masc,sing,accs'), normal_form='девятнадцать', score=0.3333333333333333, methods_stack=((<DictionaryAnalyzer>, 'девятнадцатого', 889, 10),)),\n Parse(word='девятнадцатого', tag=OpencorporaTag('ADJF,Anum neut,sing,gent'), normal_form='девятнадцать', score=0.3333333333333333, methods_stack=((<DictionaryAnalyzer>, 'девятнадцатого', 889, 20),))]"
      ]
     },
     "execution_count": 46,
     "metadata": {},
     "output_type": "execute_result"
    }
   ],
   "source": [
    "morph.parse('девятнадцатого')"
   ]
  },
  {
   "cell_type": "code",
   "execution_count": null,
   "metadata": {},
   "outputs": [],
   "source": [
    "test = pd.read_csv('../input/ru_test.csv')\n",
    "test['id'] = test['sentence_id'].astype(str) + '_' + test['token_id'].astype(str)\n",
    "test['before_l'] = test['before'].str.lower()\n",
    "test['after'] = test['before_l'].map(lambda x: d[x] if x in d else x) #should use same case as original before :)\n",
    "\n",
    "\n",
    "def fcase(obefore, lbefore, after):\n",
    "    if lbefore == after:\n",
    "        return obefore\n",
    "    else:\n",
    "        return after\n",
    "test['after'] = test.apply(lambda r: fcase(r['before'],r['before_l'],r['after']), axis=1)\n",
    "\n",
    "test[['id','after']].to_csv('submission.csv', index=False)"
   ]
  }
 ],
 "metadata": {
  "kernelspec": {
   "display_name": "Python 2",
   "language": "python",
   "name": "python2"
  },
  "language_info": {
   "codemirror_mode": {
    "name": "ipython",
    "version": 2
   },
   "file_extension": ".py",
   "mimetype": "text/x-python",
   "name": "python",
   "nbconvert_exporter": "python",
   "pygments_lexer": "ipython2",
   "version": "2.7.6"
  }
 },
 "nbformat": 4,
 "nbformat_minor": 0
}
