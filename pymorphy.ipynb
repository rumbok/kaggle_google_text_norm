{
 "cells": [
  {
   "cell_type": "code",
   "execution_count": 1,
   "metadata": {
    "collapsed": true
   },
   "outputs": [],
   "source": [
    "import pymorphy2\n",
    "import pandas as pd\n",
    "import numpy as np\n",
    "import os"
   ]
  },
  {
   "cell_type": "code",
   "execution_count": 2,
   "metadata": {},
   "outputs": [],
   "source": [
    "morph = pymorphy2.MorphAnalyzer()\n",
    "INPUT_PATH = r'../input/norm_challenge_ru'\n"
   ]
  },
  {
   "cell_type": "code",
   "execution_count": 3,
   "metadata": {},
   "outputs": [
    {
     "name": "stdout",
     "output_type": "stream",
     "text": [
      "[Parse(word='пять', tag=OpencorporaTag('NUMR nomn'), normal_form='пять', score=0.5, methods_stack=((<DictionaryAnalyzer>, 'пять', 889, 0),)), Parse(word='пять', tag=OpencorporaTag('NUMR accs'), normal_form='пять', score=0.5, methods_stack=((<DictionaryAnalyzer>, 'пять', 889, 3),))]\n[Parse(word='пяти', tag=OpencorporaTag('NUMR gent'), normal_form='пять', score=0.3333333333333333, methods_stack=((<DictionaryAnalyzer>, 'пяти', 889, 1),)), Parse(word='пяти', tag=OpencorporaTag('NUMR datv'), normal_form='пять', score=0.3333333333333333, methods_stack=((<DictionaryAnalyzer>, 'пяти', 889, 2),)), Parse(word='пяти', tag=OpencorporaTag('NUMR loct'), normal_form='пять', score=0.3333333333333333, methods_stack=((<DictionaryAnalyzer>, 'пяти', 889, 5),))]\n[Parse(word='пятью', tag=OpencorporaTag('NUMR ablt'), normal_form='пять', score=1.0, methods_stack=((<DictionaryAnalyzer>, 'пятью', 889, 4),))]\n[Parse(word='пятого', tag=OpencorporaTag('ADJF,Anum neut,sing,gent'), normal_form='пять', score=0.6, methods_stack=((<DictionaryAnalyzer>, 'пятого', 889, 20),)), Parse(word='пятого', tag=OpencorporaTag('ADJF,Anum masc,sing,gent'), normal_form='пять', score=0.2, methods_stack=((<DictionaryAnalyzer>, 'пятого', 889, 7),)), Parse(word='пятого', tag=OpencorporaTag('ADJF,Anum anim,masc,sing,accs'), normal_form='пять', score=0.2, methods_stack=((<DictionaryAnalyzer>, 'пятого', 889, 10),))]\n[Parse(word='пятерых', tag=OpencorporaTag('NUMR,Coll anim,accs'), normal_form='пятеро', score=0.5, methods_stack=((<DictionaryAnalyzer>, 'пятерых', 910, 4),)), Parse(word='пятерых', tag=OpencorporaTag('NUMR,Coll gent'), normal_form='пятеро', score=0.4, methods_stack=((<DictionaryAnalyzer>, 'пятерых', 910, 1),)), Parse(word='пятерых', tag=OpencorporaTag('NUMR,Coll loct'), normal_form='пятеро', score=0.1, methods_stack=((<DictionaryAnalyzer>, 'пятерых', 910, 6),))]\n[Parse(word='пятый', tag=OpencorporaTag('ADJF,Anum masc,sing,nomn'), normal_form='пять', score=0.5, methods_stack=((<DictionaryAnalyzer>, 'пятый', 889, 6),)), Parse(word='пятый', tag=OpencorporaTag('ADJF,Anum inan,masc,sing,accs'), normal_form='пять', score=0.5, methods_stack=((<DictionaryAnalyzer>, 'пятый', 889, 9),))]\n[Parse(word='пятых', tag=OpencorporaTag('ADJF,Anum plur,gent'), normal_form='пять', score=0.3333333333333333, methods_stack=((<DictionaryAnalyzer>, 'пятых', 889, 26),)), Parse(word='пятых', tag=OpencorporaTag('ADJF,Anum anim,plur,accs'), normal_form='пять', score=0.3333333333333333, methods_stack=((<DictionaryAnalyzer>, 'пятых', 889, 29),)), Parse(word='пятых', tag=OpencorporaTag('ADJF,Anum plur,loct'), normal_form='пять', score=0.3333333333333333, methods_stack=((<DictionaryAnalyzer>, 'пятых', 889, 31),))]\n"
     ]
    }
   ],
   "source": [
    "print(morph.parse('пять'))\n",
    "print(morph.parse('пяти'))\n",
    "print(morph.parse('пятью'))\n",
    "print(morph.parse('пятого'))\n",
    "print(morph.parse('пятерых'))\n",
    "print(morph.parse('пятый'))\n",
    "print(morph.parse('пятых'))\n",
    "# print(morph.parse('ста'), morph.parse('двадцати'))\n",
    "# print(morph.parse('сорока одного'))\n",
    "# print(morph.parse('двадцати'), morph.parse('двух'))\n",
    "# print(morph.parse('девяноста'))"
   ]
  },
  {
   "cell_type": "code",
   "execution_count": null,
   "metadata": {},
   "outputs": [],
   "source": [
    "\n",
    "train = pd.read_csv(os.path.join(INPUT_PATH, 'ru_train.csv'), encoding='utf-8', index_col=False)\n",
    "#train['before'] = train['before'].str.lower()\n",
    "#train['after'] = train['after'].str.lower()\n",
    "train['after_wc'] = train['after'].map(lambda x: len(str(x).split()))\n",
    "train['before_prevprev'] = train['before'].shift(2)\n",
    "train['before_prev'] = train['before'].shift(1)\n",
    "train['before_next'] = train['before'].shift(-1)\n",
    "train['before_nextnext'] = train['before'].shift(-2)\n",
    "#train = train[~(train['before'] == train['after'])]\n",
    "\n",
    "#train[~(train['class'] == 'LETTERS') & (train['after_c'] > 4)]\n",
    "#train = train.groupby(['before', 'after'], as_index=False)['sentence_id'].count()\n",
    "#train = train.sort_values(['sentence_id','before'], ascending=[False, True])\n",
    "#train = train.drop_duplicates(['before'])\n",
    "#d = {key: value for (key, value) in train[['before', 'after']].values}\n"
   ]
  },
  {
   "cell_type": "code",
   "execution_count": 3,
   "metadata": {},
   "outputs": [
    {
     "data": {
      "text/html": [
       "<div>\n",
       "<style>\n",
       "    .dataframe thead tr:only-child th {\n",
       "        text-align: right;\n",
       "    }\n",
       "\n",
       "    .dataframe thead th {\n",
       "        text-align: left;\n",
       "    }\n",
       "\n",
       "    .dataframe tbody tr th {\n",
       "        vertical-align: top;\n",
       "    }\n",
       "</style>\n",
       "<table border=\"1\" class=\"dataframe\">\n",
       "  <thead>\n",
       "    <tr style=\"text-align: right;\">\n",
       "      <th></th>\n",
       "      <th>sentence_id</th>\n",
       "      <th>token_id</th>\n",
       "      <th>class</th>\n",
       "      <th>before</th>\n",
       "      <th>after</th>\n",
       "      <th>after_wc</th>\n",
       "      <th>before_prevprev</th>\n",
       "      <th>before_prev</th>\n",
       "      <th>before_next</th>\n",
       "      <th>before_nextnext</th>\n",
       "    </tr>\n",
       "  </thead>\n",
       "  <tbody>\n",
       "    <tr>\n",
       "      <th>0</th>\n",
       "      <td>0</td>\n",
       "      <td>0</td>\n",
       "      <td>PLAIN</td>\n",
       "      <td>По</td>\n",
       "      <td>По</td>\n",
       "      <td>1</td>\n",
       "      <td>NaN</td>\n",
       "      <td>NaN</td>\n",
       "      <td>состоянию</td>\n",
       "      <td>на</td>\n",
       "    </tr>\n",
       "    <tr>\n",
       "      <th>1</th>\n",
       "      <td>0</td>\n",
       "      <td>1</td>\n",
       "      <td>PLAIN</td>\n",
       "      <td>состоянию</td>\n",
       "      <td>состоянию</td>\n",
       "      <td>1</td>\n",
       "      <td>NaN</td>\n",
       "      <td>По</td>\n",
       "      <td>на</td>\n",
       "      <td>1862 год</td>\n",
       "    </tr>\n",
       "    <tr>\n",
       "      <th>2</th>\n",
       "      <td>0</td>\n",
       "      <td>2</td>\n",
       "      <td>PLAIN</td>\n",
       "      <td>на</td>\n",
       "      <td>на</td>\n",
       "      <td>1</td>\n",
       "      <td>По</td>\n",
       "      <td>состоянию</td>\n",
       "      <td>1862 год</td>\n",
       "      <td>.</td>\n",
       "    </tr>\n",
       "    <tr>\n",
       "      <th>3</th>\n",
       "      <td>0</td>\n",
       "      <td>3</td>\n",
       "      <td>DATE</td>\n",
       "      <td>1862 год</td>\n",
       "      <td>тысяча восемьсот шестьдесят второй год</td>\n",
       "      <td>5</td>\n",
       "      <td>состоянию</td>\n",
       "      <td>на</td>\n",
       "      <td>.</td>\n",
       "      <td>Оснащались</td>\n",
       "    </tr>\n",
       "    <tr>\n",
       "      <th>4</th>\n",
       "      <td>0</td>\n",
       "      <td>4</td>\n",
       "      <td>PUNCT</td>\n",
       "      <td>.</td>\n",
       "      <td>.</td>\n",
       "      <td>1</td>\n",
       "      <td>на</td>\n",
       "      <td>1862 год</td>\n",
       "      <td>Оснащались</td>\n",
       "      <td>латными</td>\n",
       "    </tr>\n",
       "  </tbody>\n",
       "</table>\n",
       "</div>"
      ],
      "text/plain": [
       "<div>\n",
       "<style>\n",
       "    .dataframe thead tr:only-child th {\n",
       "        text-align: right;\n",
       "    }\n",
       "\n",
       "    .dataframe thead th {\n",
       "        text-align: left;\n",
       "    }\n",
       "\n",
       "    .dataframe tbody tr th {\n",
       "        vertical-align: top;\n",
       "    }\n",
       "</style>\n",
       "<table border=\"1\" class=\"dataframe\">\n",
       "  <thead>\n",
       "    <tr style=\"text-align: right;\">\n",
       "      <th></th>\n",
       "      <th>sentence_id</th>\n",
       "      <th>token_id</th>\n",
       "      <th>class</th>\n",
       "      <th>before</th>\n",
       "      <th>after</th>\n",
       "      <th>after_wc</th>\n",
       "      <th>before_prevprev</th>\n",
       "      <th>before_prev</th>\n",
       "      <th>before_next</th>\n",
       "      <th>before_nextnext</th>\n",
       "    </tr>\n",
       "  </thead>\n",
       "  <tbody>\n",
       "    <tr>\n",
       "      <th>0</th>\n",
       "      <td>0</td>\n",
       "      <td>0</td>\n",
       "      <td>PLAIN</td>\n",
       "      <td>По</td>\n",
       "      <td>По</td>\n",
       "      <td>1</td>\n",
       "      <td>NaN</td>\n",
       "      <td>NaN</td>\n",
       "      <td>состоянию</td>\n",
       "      <td>на</td>\n",
       "    </tr>\n",
       "    <tr>\n",
       "      <th>1</th>\n",
       "      <td>0</td>\n",
       "      <td>1</td>\n",
       "      <td>PLAIN</td>\n",
       "      <td>состоянию</td>\n",
       "      <td>состоянию</td>\n",
       "      <td>1</td>\n",
       "      <td>NaN</td>\n",
       "      <td>По</td>\n",
       "      <td>на</td>\n",
       "      <td>1862 год</td>\n",
       "    </tr>\n",
       "    <tr>\n",
       "      <th>2</th>\n",
       "      <td>0</td>\n",
       "      <td>2</td>\n",
       "      <td>PLAIN</td>\n",
       "      <td>на</td>\n",
       "      <td>на</td>\n",
       "      <td>1</td>\n",
       "      <td>По</td>\n",
       "      <td>состоянию</td>\n",
       "      <td>1862 год</td>\n",
       "      <td>.</td>\n",
       "    </tr>\n",
       "    <tr>\n",
       "      <th>3</th>\n",
       "      <td>0</td>\n",
       "      <td>3</td>\n",
       "      <td>DATE</td>\n",
       "      <td>1862 год</td>\n",
       "      <td>тысяча восемьсот шестьдесят второй год</td>\n",
       "      <td>5</td>\n",
       "      <td>состоянию</td>\n",
       "      <td>на</td>\n",
       "      <td>.</td>\n",
       "      <td>Оснащались</td>\n",
       "    </tr>\n",
       "    <tr>\n",
       "      <th>4</th>\n",
       "      <td>0</td>\n",
       "      <td>4</td>\n",
       "      <td>PUNCT</td>\n",
       "      <td>.</td>\n",
       "      <td>.</td>\n",
       "      <td>1</td>\n",
       "      <td>на</td>\n",
       "      <td>1862 год</td>\n",
       "      <td>Оснащались</td>\n",
       "      <td>латными</td>\n",
       "    </tr>\n",
       "  </tbody>\n",
       "</table>\n",
       "</div>"
      ]
     },
     "execution_count": 3,
     "metadata": {},
     "output_type": "execute_result"
    }
   ],
   "source": [
    "train.head()"
   ]
  },
  {
   "cell_type": "code",
   "execution_count": 4,
   "metadata": {},
   "outputs": [
    {
     "data": {
      "text/plain": [
       "PLAIN         6816337\nPUNCT         2288640\nVERBATIM       144968\nMEASURE           614\nCARDINAL          508\nORDINAL           203\nELECTRONIC        155\nDECIMAL           104\nDATE              100\nMONEY              67\nTIME               50\nLETTERS            47\nFRACTION           25\nName: class, dtype: int64"
      ]
     },
     "execution_count": 4,
     "metadata": {},
     "output_type": "execute_result"
    }
   ],
   "source": [
    "train[(train['before'] == train['after'])]['class'].value_counts()"
   ]
  },
  {
   "cell_type": "code",
   "execution_count": 5,
   "metadata": {},
   "outputs": [
    {
     "data": {
      "text/plain": [
       "PLAIN         544102\nCARDINAL      271934\nLETTERS       189481\nDATE          185859\nORDINAL        46535\nMEASURE        39920\nVERBATIM       12944\nTELEPHONE      10088\nDECIMAL         7193\nELECTRONIC      5677\nMONEY           2623\nFRACTION        2435\nDIGIT           2012\nTIME            1895\nName: class, dtype: int64"
      ]
     },
     "execution_count": 5,
     "metadata": {},
     "output_type": "execute_result"
    }
   ],
   "source": [
    "train[~(train['before'] == train['after'])]['class'].value_counts()"
   ]
  },
  {
   "cell_type": "code",
   "execution_count": null,
   "metadata": {},
   "outputs": [],
   "source": [
    "train[(train['class']=='VERBATIM') & (train['before'].fillna('').str.contains('\\d'))]['after'].head(10)\n",
    "\n"
   ]
  },
  {
   "cell_type": "code",
   "execution_count": null,
   "metadata": {},
   "outputs": [],
   "source": [
    "train[(train['class'] == 'VERBATIM') & ~(train['before'] == train['after'])]['after'].value_counts()\n"
   ]
  },
  {
   "cell_type": "code",
   "execution_count": 12,
   "metadata": {},
   "outputs": [
    {
     "data": {
      "text/plain": [
       "[Parse(word='века', tag=OpencorporaTag('NOUN,inan,masc sing,gent'), normal_form='век', score=0.625, methods_stack=((<DictionaryAnalyzer>, 'века', 666, 1),)),\n Parse(word='века', tag=OpencorporaTag('NOUN,inan,neut sing,gent'), normal_form='веко', score=0.125, methods_stack=((<DictionaryAnalyzer>, 'века', 556, 1),)),\n Parse(word='века', tag=OpencorporaTag('NOUN,inan,masc plur,nomn'), normal_form='век', score=0.125, methods_stack=((<DictionaryAnalyzer>, 'века', 666, 7),)),\n Parse(word='века', tag=OpencorporaTag('NOUN,inan,masc plur,accs'), normal_form='век', score=0.125, methods_stack=((<DictionaryAnalyzer>, 'века', 666, 10),))]"
      ]
     },
     "execution_count": 12,
     "metadata": {},
     "output_type": "execute_result"
    }
   ],
   "source": [
    "context = morph.parse('века')\n",
    "context"
   ]
  },
  {
   "cell_type": "code",
   "execution_count": 10,
   "metadata": {},
   "outputs": [
    {
     "data": {
      "text/plain": [
       "OpencorporaTag('NOUN,inan,masc sing,gent')"
      ]
     },
     "execution_count": 10,
     "metadata": {},
     "output_type": "execute_result"
    }
   ],
   "source": [
    "context[0].tag"
   ]
  },
  {
   "cell_type": "code",
   "execution_count": 46,
   "metadata": {},
   "outputs": [
    {
     "data": {
      "text/plain": [
       "[Parse(word='девятнадцатого', tag=OpencorporaTag('ADJF,Anum masc,sing,gent'), normal_form='девятнадцать', score=0.3333333333333333, methods_stack=((<DictionaryAnalyzer>, 'девятнадцатого', 889, 7),)),\n Parse(word='девятнадцатого', tag=OpencorporaTag('ADJF,Anum anim,masc,sing,accs'), normal_form='девятнадцать', score=0.3333333333333333, methods_stack=((<DictionaryAnalyzer>, 'девятнадцатого', 889, 10),)),\n Parse(word='девятнадцатого', tag=OpencorporaTag('ADJF,Anum neut,sing,gent'), normal_form='девятнадцать', score=0.3333333333333333, methods_stack=((<DictionaryAnalyzer>, 'девятнадцатого', 889, 20),))]"
      ]
     },
     "execution_count": 46,
     "metadata": {},
     "output_type": "execute_result"
    }
   ],
   "source": [
    "morph.parse('девятнадцатого')"
   ]
  },
  {
   "cell_type": "code",
   "execution_count": null,
   "metadata": {},
   "outputs": [],
   "source": [
    "test = pd.read_csv('../input/ru_test.csv')\n",
    "test['id'] = test['sentence_id'].astype(str) + '_' + test['token_id'].astype(str)\n",
    "test['before_l'] = test['before'].str.lower()\n",
    "test['after'] = test['before_l'].map(lambda x: d[x] if x in d else x) #should use same case as original before :)\n",
    "\n",
    "\n",
    "def fcase(obefore, lbefore, after):\n",
    "    if lbefore == after:\n",
    "        return obefore\n",
    "    else:\n",
    "        return after\n",
    "test['after'] = test.apply(lambda r: fcase(r['before'],r['before_l'],r['after']), axis=1)\n",
    "\n",
    "test[['id','after']].to_csv('submission.csv', index=False)"
   ]
  }
 ],
 "metadata": {
  "kernelspec": {
   "display_name": "Python 2",
   "language": "python",
   "name": "python2"
  },
  "language_info": {
   "codemirror_mode": {
    "name": "ipython",
    "version": 2
   },
   "file_extension": ".py",
   "mimetype": "text/x-python",
   "name": "python",
   "nbconvert_exporter": "python",
   "pygments_lexer": "ipython2",
   "version": "2.7.6"
  }
 },
 "nbformat": 4,
 "nbformat_minor": 0
}
