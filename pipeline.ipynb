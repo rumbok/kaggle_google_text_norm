{
 "cells": [
  {
   "cell_type": "code",
   "execution_count": 4,
   "metadata": {
    "collapsed": true
   },
   "outputs": [],
   "source": [
    "import numpy as np\n",
    "from loaders.loading import load_train\n",
    "from transformers.dash_transformer import DashTransformer\n",
    "from transformers.dict_nbhd_transformer import DictNBHDTransformer\n",
    "from transformers.dict_transformer import DictTransformer\n",
    "from transformers.digit_transformer import DigitTransformer\n",
    "from transformers.flat_transformer import FlatTransformer\n",
    "from transformers.dict_class_transformer import DictClassTransformer\n",
    "from transformers.letters_transformer import LettersTransformer\n",
    "from transformers.scored_chain import ScoredChain\n",
    "from transformers.self_transformer import SelfTransformer\n",
    "from sklearn.model_selection import train_test_split\n",
    "from transformers.simple_transliterator import SimpleTransliterator\n",
    "from transformers.add_class_transformer import AddClassTransformer"
   ]
  },
  {
   "cell_type": "code",
   "execution_count": 2,
   "metadata": {
    "collapsed": true
   },
   "outputs": [
    {
     "name": "stdout",
     "output_type": "stream",
     "text": [
      "<class 'pandas.core.frame.DataFrame'>\nRangeIndex: 10574516 entries, 0 to 10574515\nData columns (total 5 columns):\nclass          object\nbefore         object\nafter          object\nbefore_prev    object\nbefore_next    object\ndtypes: object(5)\nmemory usage: 403.4+ MB\nNone\n"
     ]
    }
   ],
   "source": [
    "df = load_train(['class', 'before', 'after'], r'../input/norm_challenge_ru')\n",
    "df['before_prev'] = df['before'].shift(1)\n",
    "df['before_next'] = df['before'].shift(-1)\n",
    "df = df.fillna('')\n",
    "print(df.info())"
   ]
  },
  {
   "cell_type": "code",
   "execution_count": 9,
   "metadata": {},
   "outputs": [],
   "source": [
    "x_train, x_test, y_train, y_test = train_test_split(df.drop(['after'], axis=1), df['after'], test_size=0.1, random_state=2017)\n",
    "#x_test.drop(['class'], axis=1, inplace=True)"
   ]
  },
  {
   "cell_type": "code",
   "execution_count": 26,
   "metadata": {
    "collapsed": false
   },
   "outputs": [
    {
     "name": "stderr",
     "output_type": "stream",
     "text": [
      "\rMorphologyExtractor create index: 0it [00:00, ?it/s]"
     ]
    },
    {
     "name": "stderr",
     "output_type": "stream",
     "text": [
      "\rMorphologyExtractor create index: 12124it [00:00, 121202.55it/s]"
     ]
    },
    {
     "name": "stderr",
     "output_type": "stream",
     "text": [
      "\rMorphologyExtractor create index: 19075it [00:00, 95357.47it/s] "
     ]
    },
    {
     "name": "stderr",
     "output_type": "stream",
     "text": [
      "\rMorphologyExtractor create index: 29464it [00:00, 98199.22it/s]"
     ]
    },
    {
     "name": "stderr",
     "output_type": "stream",
     "text": [
      "\rMorphologyExtractor create index: 37356it [00:00, 93379.46it/s]"
     ]
    },
    {
     "name": "stderr",
     "output_type": "stream",
     "text": [
      "\rMorphologyExtractor create index: 49061it [00:00, 98114.75it/s]"
     ]
    },
    {
     "name": "stderr",
     "output_type": "stream",
     "text": [
      "\rMorphologyExtractor create index: 61989it [00:00, 103308.12it/s]"
     ]
    },
    {
     "name": "stderr",
     "output_type": "stream",
     "text": [
      "\rMorphologyExtractor create index: 75015it [00:00, 107156.94it/s]"
     ]
    },
    {
     "name": "stderr",
     "output_type": "stream",
     "text": [
      "\rMorphologyExtractor create index: 89465it [00:00, 111824.26it/s]"
     ]
    },
    {
     "name": "stderr",
     "output_type": "stream",
     "text": [
      "\rMorphologyExtractor create index: 102799it [00:00, 114211.33it/s]"
     ]
    },
    {
     "name": "stderr",
     "output_type": "stream",
     "text": [
      "\rMorphologyExtractor create index: 115597it [00:01, 115588.32it/s]"
     ]
    },
    {
     "name": "stderr",
     "output_type": "stream",
     "text": [
      "\rMorphologyExtractor create index: 129213it [00:01, 117458.58it/s]"
     ]
    },
    {
     "name": "stderr",
     "output_type": "stream",
     "text": [
      "\rMorphologyExtractor create index: 144045it [00:01, 120029.70it/s]"
     ]
    },
    {
     "name": "stderr",
     "output_type": "stream",
     "text": [
      "\rMorphologyExtractor create index: 158581it [00:01, 121977.22it/s]"
     ]
    },
    {
     "name": "stderr",
     "output_type": "stream",
     "text": [
      "\rMorphologyExtractor create index: 172632it [00:01, 123301.00it/s]"
     ]
    },
    {
     "name": "stderr",
     "output_type": "stream",
     "text": [
      "\rMorphologyExtractor create index: 186465it [00:01, 123399.31it/s]"
     ]
    },
    {
     "name": "stderr",
     "output_type": "stream",
     "text": [
      "\rMorphologyExtractor create index: 199888it [00:01, 123288.03it/s]"
     ]
    },
    {
     "name": "stderr",
     "output_type": "stream",
     "text": [
      "\rMorphologyExtractor create index: 212937it [00:01, 122641.33it/s]"
     ]
    },
    {
     "name": "stderr",
     "output_type": "stream",
     "text": [
      "\rMorphologyExtractor create index: 226841it [00:01, 123521.14it/s]"
     ]
    },
    {
     "name": "stderr",
     "output_type": "stream",
     "text": [
      "\rMorphologyExtractor create index: 239786it [00:01, 123518.52it/s]"
     ]
    },
    {
     "name": "stderr",
     "output_type": "stream",
     "text": [
      "\rMorphologyExtractor create index: 252553it [00:02, 123544.43it/s]"
     ]
    },
    {
     "name": "stderr",
     "output_type": "stream",
     "text": [
      "\rMorphologyExtractor create index: 265213it [00:02, 123264.40it/s]"
     ]
    },
    {
     "name": "stderr",
     "output_type": "stream",
     "text": [
      "\rMorphologyExtractor create index: 279714it [00:02, 124229.27it/s]"
     ]
    },
    {
     "name": "stderr",
     "output_type": "stream",
     "text": [
      "\rMorphologyExtractor create index: 294742it [00:02, 125337.65it/s]"
     ]
    },
    {
     "name": "stderr",
     "output_type": "stream",
     "text": [
      "\rMorphologyExtractor create index: 309563it [00:02, 126270.66it/s]"
     ]
    },
    {
     "name": "stderr",
     "output_type": "stream",
     "text": [
      "\rMorphologyExtractor create index: 323563it [00:02, 126805.99it/s]"
     ]
    },
    {
     "name": "stderr",
     "output_type": "stream",
     "text": [
      "\rMorphologyExtractor create index: 337553it [00:02, 127033.73it/s]"
     ]
    },
    {
     "name": "stderr",
     "output_type": "stream",
     "text": [
      "\rMorphologyExtractor create index: 351847it [00:02, 127610.02it/s]"
     ]
    },
    {
     "name": "stderr",
     "output_type": "stream",
     "text": [
      "\rMorphologyExtractor create index: 365772it [00:02, 125726.48it/s]"
     ]
    },
    {
     "name": "stderr",
     "output_type": "stream",
     "text": [
      "\rMorphologyExtractor create index: 378267it [00:03, 124926.60it/s]"
     ]
    },
    {
     "name": "stderr",
     "output_type": "stream",
     "text": [
      "\rMorphologyExtractor create index: 392425it [00:03, 125458.61it/s]"
     ]
    },
    {
     "name": "stderr",
     "output_type": "stream",
     "text": [
      "\rMorphologyExtractor create index: 406098it [00:03, 125804.96it/s]"
     ]
    },
    {
     "name": "stderr",
     "output_type": "stream",
     "text": [
      "\rMorphologyExtractor create index: 419007it [00:03, 122178.85it/s]"
     ]
    },
    {
     "name": "stderr",
     "output_type": "stream",
     "text": [
      "\rMorphologyExtractor create index: 429965it [00:03, 121155.02it/s]"
     ]
    },
    {
     "name": "stderr",
     "output_type": "stream",
     "text": [
      "\rMorphologyExtractor create index: 444843it [00:03, 121912.04it/s]"
     ]
    },
    {
     "name": "stderr",
     "output_type": "stream",
     "text": [
      "\rMorphologyExtractor create index: 459478it [00:03, 122563.72it/s]"
     ]
    },
    {
     "name": "stderr",
     "output_type": "stream",
     "text": [
      "\rMorphologyExtractor create index: 473176it [00:03, 122937.31it/s]"
     ]
    },
    {
     "name": "stderr",
     "output_type": "stream",
     "text": [
      "\rMorphologyExtractor create index: 487781it [00:03, 123523.20it/s]"
     ]
    },
    {
     "name": "stderr",
     "output_type": "stream",
     "text": [
      "\rMorphologyExtractor create index: 502870it [00:04, 124198.98it/s]"
     ]
    },
    {
     "name": "stderr",
     "output_type": "stream",
     "text": [
      "\rMorphologyExtractor create index: 517532it [00:04, 124739.27it/s]"
     ]
    },
    {
     "name": "stderr",
     "output_type": "stream",
     "text": [
      "\rMorphologyExtractor create index: 531951it [00:04, 125196.79it/s]"
     ]
    },
    {
     "name": "stderr",
     "output_type": "stream",
     "text": [
      "\rMorphologyExtractor create index: 546185it [00:04, 125380.26it/s]"
     ]
    },
    {
     "name": "stderr",
     "output_type": "stream",
     "text": [
      "\rMorphologyExtractor create index: 560146it [00:04, 125334.37it/s]"
     ]
    },
    {
     "name": "stderr",
     "output_type": "stream",
     "text": [
      "\rMorphologyExtractor create index: 574470it [00:04, 125726.10it/s]"
     ]
    },
    {
     "name": "stderr",
     "output_type": "stream",
     "text": [
      "\rMorphologyExtractor create index: 588192it [00:04, 125501.28it/s]"
     ]
    },
    {
     "name": "stderr",
     "output_type": "stream",
     "text": [
      "\rMorphologyExtractor create index: 601301it [00:04, 124895.78it/s]"
     ]
    },
    {
     "name": "stderr",
     "output_type": "stream",
     "text": [
      "\rMorphologyExtractor create index: 613557it [00:04, 124749.86it/s]"
     ]
    },
    {
     "name": "stderr",
     "output_type": "stream",
     "text": [
      "\rMorphologyExtractor create index: 627671it [00:05, 125076.07it/s]"
     ]
    },
    {
     "name": "stderr",
     "output_type": "stream",
     "text": [
      "\rMorphologyExtractor create index: 642716it [00:05, 125572.16it/s]"
     ]
    },
    {
     "name": "stderr",
     "output_type": "stream",
     "text": [
      "\rMorphologyExtractor create index: 657958it [00:05, 126086.34it/s]"
     ]
    },
    {
     "name": "stderr",
     "output_type": "stream",
     "text": [
      "\rMorphologyExtractor create index: 673567it [00:05, 126650.40it/s]"
     ]
    },
    {
     "name": "stderr",
     "output_type": "stream",
     "text": [
      "\rMorphologyExtractor create index: 688935it [00:05, 127149.19it/s]"
     ]
    },
    {
     "name": "stderr",
     "output_type": "stream",
     "text": [
      "\rMorphologyExtractor create index: 704377it [00:05, 127643.17it/s]"
     ]
    },
    {
     "name": "stderr",
     "output_type": "stream",
     "text": [
      "\rMorphologyExtractor create index: 720207it [00:05, 128188.87it/s]"
     ]
    },
    {
     "name": "stderr",
     "output_type": "stream",
     "text": [
      "\rMorphologyExtractor create index: 735861it [00:05, 128684.56it/s]"
     ]
    },
    {
     "name": "stderr",
     "output_type": "stream",
     "text": [
      "\rMorphologyExtractor create index: 751204it [00:05, 128645.87it/s]"
     ]
    },
    {
     "name": "stderr",
     "output_type": "stream",
     "text": [
      "\rMorphologyExtractor create index: 766192it [00:05, 129003.41it/s]"
     ]
    },
    {
     "name": "stderr",
     "output_type": "stream",
     "text": [
      "\rMorphologyExtractor create index: 781513it [00:06, 129404.01it/s]"
     ]
    },
    {
     "name": "stderr",
     "output_type": "stream",
     "text": [
      "\rMorphologyExtractor create index: 796384it [00:06, 129140.31it/s]"
     ]
    },
    {
     "name": "stderr",
     "output_type": "stream",
     "text": [
      "\rMorphologyExtractor create index: 810514it [00:06, 129334.98it/s]"
     ]
    },
    {
     "name": "stderr",
     "output_type": "stream",
     "text": [
      "\rMorphologyExtractor create index: 824490it [00:06, 128198.69it/s]"
     ]
    },
    {
     "name": "stderr",
     "output_type": "stream",
     "text": [
      "\rMorphologyExtractor create index: 836821it [00:06, 126446.99it/s]"
     ]
    },
    {
     "name": "stderr",
     "output_type": "stream",
     "text": [
      "\rMorphologyExtractor create index: 847435it [00:06, 125218.82it/s]"
     ]
    },
    {
     "name": "stderr",
     "output_type": "stream",
     "text": [
      "\rMorphologyExtractor create index: 859749it [00:06, 125188.62it/s]"
     ]
    },
    {
     "name": "stderr",
     "output_type": "stream",
     "text": [
      "\rMorphologyExtractor create index: 874885it [00:06, 125564.18it/s]"
     ]
    },
    {
     "name": "stderr",
     "output_type": "stream",
     "text": [
      "\rMorphologyExtractor create index: 889953it [00:07, 125919.29it/s]"
     ]
    },
    {
     "name": "stderr",
     "output_type": "stream",
     "text": [
      "\rMorphologyExtractor create index: 904461it [00:07, 126186.51it/s]"
     ]
    },
    {
     "name": "stderr",
     "output_type": "stream",
     "text": [
      "\rMorphologyExtractor create index: 918516it [00:07, 126384.10it/s]"
     ]
    },
    {
     "name": "stderr",
     "output_type": "stream",
     "text": [
      "\rMorphologyExtractor create index: 933672it [00:07, 126725.79it/s]"
     ]
    },
    {
     "name": "stderr",
     "output_type": "stream",
     "text": [
      "\rMorphologyExtractor create index: 949745it [00:07, 127181.04it/s]"
     ]
    },
    {
     "name": "stderr",
     "output_type": "stream",
     "text": [
      "\rMorphologyExtractor create index: 965587it [00:07, 127593.83it/s]"
     ]
    },
    {
     "name": "stderr",
     "output_type": "stream",
     "text": [
      "\rMorphologyExtractor create index: 980914it [00:07, 127928.69it/s]"
     ]
    },
    {
     "name": "stderr",
     "output_type": "stream",
     "text": [
      "\rMorphologyExtractor create index: 997131it [00:07, 128369.40it/s]"
     ]
    },
    {
     "name": "stderr",
     "output_type": "stream",
     "text": [
      "\rMorphologyExtractor create index: 1012563it [00:07, 128673.43it/s]"
     ]
    },
    {
     "name": "stderr",
     "output_type": "stream",
     "text": [
      "\rMorphologyExtractor create index: 1027923it [00:07, 128977.54it/s]"
     ]
    },
    {
     "name": "stderr",
     "output_type": "stream",
     "text": [
      "\rMorphologyExtractor create index: 1043375it [00:08, 129294.03it/s]"
     ]
    },
    {
     "name": "stderr",
     "output_type": "stream",
     "text": [
      "\rMorphologyExtractor create index: 1059102it [00:08, 129636.41it/s]"
     ]
    },
    {
     "name": "stderr",
     "output_type": "stream",
     "text": [
      "\rMorphologyExtractor create index: 1074623it [00:08, 129945.47it/s]"
     ]
    },
    {
     "name": "stderr",
     "output_type": "stream",
     "text": [
      "\rMorphologyExtractor create index: 1090308it [00:08, 130266.94it/s]"
     ]
    },
    {
     "name": "stderr",
     "output_type": "stream",
     "text": [
      "\rMorphologyExtractor create index: 1105857it [00:08, 130508.87it/s]"
     ]
    },
    {
     "name": "stderr",
     "output_type": "stream",
     "text": [
      "\rMorphologyExtractor create index: 1121323it [00:08, 130790.68it/s]"
     ]
    },
    {
     "name": "stderr",
     "output_type": "stream",
     "text": [
      "\rMorphologyExtractor create index: 1136733it [00:08, 130959.60it/s]"
     ]
    },
    {
     "name": "stderr",
     "output_type": "stream",
     "text": [
      "\rMorphologyExtractor create index: 1151857it [00:08, 131110.90it/s]"
     ]
    },
    {
     "name": "stderr",
     "output_type": "stream",
     "text": [
      "\rMorphologyExtractor create index: 1167606it [00:08, 131407.51it/s]"
     ]
    },
    {
     "name": "stderr",
     "output_type": "stream",
     "text": [
      "\rMorphologyExtractor create index: 1183842it [00:08, 131752.02it/s]"
     ]
    },
    {
     "name": "stderr",
     "output_type": "stream",
     "text": [
      "\rMorphologyExtractor create index: 1199318it [00:09, 131909.28it/s]"
     ]
    },
    {
     "name": "stderr",
     "output_type": "stream",
     "text": [
      "\rMorphologyExtractor create index: 1214506it [00:09, 132082.23it/s]"
     ]
    },
    {
     "name": "stderr",
     "output_type": "stream",
     "text": [
      "\rMorphologyExtractor create index: 1229558it [00:09, 131946.99it/s]"
     ]
    },
    {
     "name": "stderr",
     "output_type": "stream",
     "text": [
      "\rMorphologyExtractor create index: 1245467it [00:09, 132235.09it/s]"
     ]
    },
    {
     "name": "stderr",
     "output_type": "stream",
     "text": [
      "\rMorphologyExtractor create index: 1260175it [00:09, 132242.23it/s]"
     ]
    },
    {
     "name": "stderr",
     "output_type": "stream",
     "text": [
      "\rMorphologyExtractor create index: 1274456it [00:09, 132336.02it/s]"
     ]
    },
    {
     "name": "stderr",
     "output_type": "stream",
     "text": [
      "\rMorphologyExtractor create index: 1289654it [00:09, 132537.84it/s]"
     ]
    },
    {
     "name": "stderr",
     "output_type": "stream",
     "text": [
      "\rMorphologyExtractor create index: 1304579it [00:09, 132707.79it/s]"
     ]
    },
    {
     "name": "stderr",
     "output_type": "stream",
     "text": [
      "\rMorphologyExtractor create index: 1320717it [00:09, 132996.52it/s]"
     ]
    },
    {
     "name": "stderr",
     "output_type": "stream",
     "text": [
      "\rMorphologyExtractor create index: 1336631it [00:10, 133257.26it/s]"
     ]
    },
    {
     "name": "stderr",
     "output_type": "stream",
     "text": [
      "\rMorphologyExtractor create index: 1351969it [00:10, 133418.93it/s]"
     ]
    },
    {
     "name": "stderr",
     "output_type": "stream",
     "text": [
      "\rMorphologyExtractor create index: 1367439it [00:10, 133626.90it/s]"
     ]
    },
    {
     "name": "stderr",
     "output_type": "stream",
     "text": [
      "\rMorphologyExtractor create index: 1382729it [00:10, 133801.69it/s]"
     ]
    },
    {
     "name": "stderr",
     "output_type": "stream",
     "text": [
      "\rMorphologyExtractor create index: 1398100it [00:10, 133992.44it/s]"
     ]
    },
    {
     "name": "stderr",
     "output_type": "stream",
     "text": [
      "\rMorphologyExtractor create index: 1413912it [00:10, 134221.43it/s]"
     ]
    },
    {
     "name": "stderr",
     "output_type": "stream",
     "text": [
      "\rMorphologyExtractor create index: 1429356it [00:10, 134405.27it/s]"
     ]
    },
    {
     "name": "stderr",
     "output_type": "stream",
     "text": [
      "\rMorphologyExtractor create index: 1444777it [00:10, 134512.08it/s]"
     ]
    },
    {
     "name": "stderr",
     "output_type": "stream",
     "text": [
      "\rMorphologyExtractor create index: 1459929it [00:10, 134491.08it/s]"
     ]
    },
    {
     "name": "stderr",
     "output_type": "stream",
     "text": [
      "\rMorphologyExtractor create index: 1474809it [00:10, 134621.71it/s]"
     ]
    },
    {
     "name": "stderr",
     "output_type": "stream",
     "text": [
      "\rMorphologyExtractor create index: 1490645it [00:11, 134836.32it/s]"
     ]
    },
    {
     "name": "stderr",
     "output_type": "stream",
     "text": [
      "\rMorphologyExtractor create index: 1506015it [00:11, 135005.43it/s]"
     ]
    },
    {
     "name": "stderr",
     "output_type": "stream",
     "text": [
      "\rMorphologyExtractor create index: 1521543it [00:11, 135185.49it/s]"
     ]
    },
    {
     "name": "stderr",
     "output_type": "stream",
     "text": [
      "\rMorphologyExtractor create index: 1537249it [00:11, 135378.07it/s]"
     ]
    },
    {
     "name": "stderr",
     "output_type": "stream",
     "text": [
      "\rMorphologyExtractor create index: 1552952it [00:11, 135566.84it/s]"
     ]
    },
    {
     "name": "stderr",
     "output_type": "stream",
     "text": [
      "\rMorphologyExtractor create index: 1568431it [00:11, 135666.45it/s]"
     ]
    },
    {
     "name": "stderr",
     "output_type": "stream",
     "text": [
      "\rMorphologyExtractor create index: 1583660it [00:11, 135803.58it/s]"
     ]
    },
    {
     "name": "stderr",
     "output_type": "stream",
     "text": [
      "\rMorphologyExtractor create index: 1598868it [00:11, 135938.87it/s]"
     ]
    },
    {
     "name": "stderr",
     "output_type": "stream",
     "text": [
      "\rMorphologyExtractor create index: 1614746it [00:11, 136131.42it/s]"
     ]
    },
    {
     "name": "stderr",
     "output_type": "stream",
     "text": [
      "\rMorphologyExtractor create index: 1631415it [00:11, 136386.87it/s]"
     ]
    },
    {
     "name": "stderr",
     "output_type": "stream",
     "text": [
      "\rMorphologyExtractor create index: 1647292it [00:12, 136572.41it/s]"
     ]
    },
    {
     "name": "stderr",
     "output_type": "stream",
     "text": [
      "\rMorphologyExtractor create index: 1663388it [00:12, 136772.89it/s]"
     ]
    },
    {
     "name": "stderr",
     "output_type": "stream",
     "text": [
      "\rMorphologyExtractor create index: 1679685it [00:12, 136986.52it/s]"
     ]
    },
    {
     "name": "stderr",
     "output_type": "stream",
     "text": [
      "\rMorphologyExtractor create index: 1695790it [00:12, 137181.14it/s]"
     ]
    },
    {
     "name": "stderr",
     "output_type": "stream",
     "text": [
      "\rMorphologyExtractor create index: 1712327it [00:12, 137407.36it/s]"
     ]
    },
    {
     "name": "stderr",
     "output_type": "stream",
     "text": [
      "\rMorphologyExtractor create index: 1728518it [00:12, 137584.22it/s]"
     ]
    },
    {
     "name": "stderr",
     "output_type": "stream",
     "text": [
      "\rMorphologyExtractor create index: 1744848it [00:12, 137787.33it/s]"
     ]
    },
    {
     "name": "stderr",
     "output_type": "stream",
     "text": [
      "\rMorphologyExtractor create index: 1761026it [00:12, 137955.62it/s]"
     ]
    },
    {
     "name": "stderr",
     "output_type": "stream",
     "text": [
      "\rMorphologyExtractor create index: 1778050it [00:12, 138206.50it/s]"
     ]
    },
    {
     "name": "stderr",
     "output_type": "stream",
     "text": [
      "\rMorphologyExtractor create index: 1794421it [00:12, 138365.01it/s]"
     ]
    },
    {
     "name": "stderr",
     "output_type": "stream",
     "text": [
      "\rMorphologyExtractor create index: 1810818it [00:13, 138560.96it/s]"
     ]
    },
    {
     "name": "stderr",
     "output_type": "stream",
     "text": [
      "\rMorphologyExtractor create index: 1827078it [00:13, 138681.65it/s]"
     ]
    },
    {
     "name": "stderr",
     "output_type": "stream",
     "text": [
      "\rMorphologyExtractor create index: 1843068it [00:13, 138769.06it/s]"
     ]
    },
    {
     "name": "stderr",
     "output_type": "stream",
     "text": [
      "\rMorphologyExtractor create index: 1858747it [00:13, 138783.49it/s]"
     ]
    },
    {
     "name": "stderr",
     "output_type": "stream",
     "text": [
      "\rMorphologyExtractor create index: 1873938it [00:13, 138872.09it/s]"
     ]
    },
    {
     "name": "stderr",
     "output_type": "stream",
     "text": [
      "\rMorphologyExtractor create index: 1889091it [00:13, 138937.74it/s]"
     ]
    },
    {
     "name": "stderr",
     "output_type": "stream",
     "text": [
      "\rMorphologyExtractor create index: 1904780it [00:13, 139068.77it/s]"
     ]
    },
    {
     "name": "stderr",
     "output_type": "stream",
     "text": [
      "\rMorphologyExtractor create index: 1920367it [00:13, 139190.63it/s]"
     ]
    },
    {
     "name": "stderr",
     "output_type": "stream",
     "text": [
      "\rMorphologyExtractor create index: 1935705it [00:13, 139291.45it/s]"
     ]
    },
    {
     "name": "stderr",
     "output_type": "stream",
     "text": [
      "\rMorphologyExtractor create index: 1951886it [00:13, 139452.31it/s]"
     ]
    },
    {
     "name": "stderr",
     "output_type": "stream",
     "text": [
      "\rMorphologyExtractor create index: 1968351it [00:14, 139630.97it/s]"
     ]
    },
    {
     "name": "stderr",
     "output_type": "stream",
     "text": [
      "\rMorphologyExtractor create index: 1984201it [00:14, 139599.23it/s]"
     ]
    },
    {
     "name": "stderr",
     "output_type": "stream",
     "text": [
      "\rMorphologyExtractor create index: 2000070it [00:14, 139732.58it/s]"
     ]
    },
    {
     "name": "stderr",
     "output_type": "stream",
     "text": [
      "\rMorphologyExtractor create index: 2016180it [00:14, 139880.76it/s]"
     ]
    },
    {
     "name": "stderr",
     "output_type": "stream",
     "text": [
      "\rMorphologyExtractor create index: 2032066it [00:14, 140011.51it/s]"
     ]
    },
    {
     "name": "stderr",
     "output_type": "stream",
     "text": [
      "\rMorphologyExtractor create index: 2048357it [00:14, 140168.18it/s]"
     ]
    },
    {
     "name": "stderr",
     "output_type": "stream",
     "text": [
      "\rMorphologyExtractor create index: 2064648it [00:14, 140322.68it/s]"
     ]
    },
    {
     "name": "stderr",
     "output_type": "stream",
     "text": [
      "\rMorphologyExtractor create index: 2080916it [00:14, 140473.56it/s]"
     ]
    },
    {
     "name": "stderr",
     "output_type": "stream",
     "text": [
      "\rMorphologyExtractor create index: 2098099it [00:14, 140683.77it/s]"
     ]
    },
    {
     "name": "stderr",
     "output_type": "stream",
     "text": [
      "\rMorphologyExtractor create index: 2114507it [00:15, 140592.91it/s]"
     ]
    },
    {
     "name": "stderr",
     "output_type": "stream",
     "text": [
      "\rMorphologyExtractor create index: 2129889it [00:15, 140534.25it/s]"
     ]
    },
    {
     "name": "stderr",
     "output_type": "stream",
     "text": [
      "\rMorphologyExtractor create index: 2144658it [00:15, 140581.33it/s]"
     ]
    },
    {
     "name": "stderr",
     "output_type": "stream",
     "text": [
      "\rMorphologyExtractor create index: 2160307it [00:15, 140684.87it/s]"
     ]
    },
    {
     "name": "stderr",
     "output_type": "stream",
     "text": [
      "\rMorphologyExtractor create index: 2175333it [00:15, 140574.35it/s]"
     ]
    },
    {
     "name": "stderr",
     "output_type": "stream",
     "text": [
      "\rMorphologyExtractor create index: 2189641it [00:15, 140588.38it/s]"
     ]
    },
    {
     "name": "stderr",
     "output_type": "stream",
     "text": [
      "\rMorphologyExtractor create index: 2203939it [00:15, 140581.15it/s]"
     ]
    },
    {
     "name": "stderr",
     "output_type": "stream",
     "text": [
      "\rMorphologyExtractor create index: 2218133it [00:15, 140564.96it/s]"
     ]
    },
    {
     "name": "stderr",
     "output_type": "stream",
     "text": [
      "\rMorphologyExtractor create index: 2232640it [00:15, 140593.40it/s]"
     ]
    },
    {
     "name": "stderr",
     "output_type": "stream",
     "text": [
      "\rMorphologyExtractor create index: 2247817it [00:15, 140663.31it/s]"
     ]
    },
    {
     "name": "stderr",
     "output_type": "stream",
     "text": [
      "\rMorphologyExtractor create index: 2263142it [00:16, 140741.56it/s]"
     ]
    },
    {
     "name": "stderr",
     "output_type": "stream",
     "text": [
      "\rMorphologyExtractor create index: 2280108it [00:16, 140920.29it/s]"
     ]
    },
    {
     "name": "stderr",
     "output_type": "stream",
     "text": [
      "\rMorphologyExtractor create index: 2296649it [00:16, 141070.66it/s]"
     ]
    },
    {
     "name": "stderr",
     "output_type": "stream",
     "text": [
      "\rMorphologyExtractor create index: 2313605it [00:16, 141244.55it/s]"
     ]
    },
    {
     "name": "stderr",
     "output_type": "stream",
     "text": [
      "\rMorphologyExtractor create index: 2329717it [00:16, 141305.79it/s]"
     ]
    },
    {
     "name": "stderr",
     "output_type": "stream",
     "text": [
      "\rMorphologyExtractor create index: 2345517it [00:16, 141284.39it/s]"
     ]
    },
    {
     "name": "stderr",
     "output_type": "stream",
     "text": [
      "\rMorphologyExtractor create index: 2360723it [00:16, 141346.59it/s]"
     ]
    },
    {
     "name": "stderr",
     "output_type": "stream",
     "text": [
      "\rMorphologyExtractor create index: 2375916it [00:16, 141377.36it/s]"
     ]
    },
    {
     "name": "stderr",
     "output_type": "stream",
     "text": [
      "\rMorphologyExtractor create index: 2391457it [00:16, 141461.31it/s]"
     ]
    },
    {
     "name": "stderr",
     "output_type": "stream",
     "text": [
      "\rMorphologyExtractor create index: 2407559it [00:17, 141576.33it/s]"
     ]
    },
    {
     "name": "stderr",
     "output_type": "stream",
     "text": [
      "\rMorphologyExtractor create index: 2423423it [00:17, 141676.05it/s]"
     ]
    },
    {
     "name": "stderr",
     "output_type": "stream",
     "text": [
      "\rMorphologyExtractor create index: 2439320it [00:17, 141776.53it/s]"
     ]
    },
    {
     "name": "stderr",
     "output_type": "stream",
     "text": [
      "\rMorphologyExtractor create index: 2455321it [00:17, 141881.86it/s]"
     ]
    },
    {
     "name": "stderr",
     "output_type": "stream",
     "text": [
      "\rMorphologyExtractor create index: 2472678it [00:17, 142063.91it/s]"
     ]
    },
    {
     "name": "stderr",
     "output_type": "stream",
     "text": [
      "\rMorphologyExtractor create index: 2488926it [00:17, 142174.60it/s]"
     ]
    },
    {
     "name": "stderr",
     "output_type": "stream",
     "text": [
      "\rMorphologyExtractor create index: 2505637it [00:17, 142316.18it/s]"
     ]
    },
    {
     "name": "stderr",
     "output_type": "stream",
     "text": [
      "\rMorphologyExtractor create index: 2522158it [00:17, 142445.45it/s]"
     ]
    },
    {
     "name": "stderr",
     "output_type": "stream",
     "text": [
      "\rMorphologyExtractor create index: 2538568it [00:17, 142448.27it/s]"
     ]
    },
    {
     "name": "stderr",
     "output_type": "stream",
     "text": [
      "\rMorphologyExtractor create index: 2554342it [00:17, 142470.81it/s]"
     ]
    },
    {
     "name": "stderr",
     "output_type": "stream",
     "text": [
      "\rMorphologyExtractor create index: 2569770it [00:18, 142475.29it/s]"
     ]
    },
    {
     "name": "stderr",
     "output_type": "stream",
     "text": [
      "\rMorphologyExtractor create index: 2584866it [00:18, 142471.89it/s]"
     ]
    },
    {
     "name": "stderr",
     "output_type": "stream",
     "text": [
      "\rMorphologyExtractor create index: 2599690it [00:18, 142482.06it/s]"
     ]
    },
    {
     "name": "stderr",
     "output_type": "stream",
     "text": [
      "\rMorphologyExtractor create index: 2614396it [00:18, 142477.52it/s]"
     ]
    },
    {
     "name": "stderr",
     "output_type": "stream",
     "text": [
      "\rMorphologyExtractor create index: 2630271it [00:18, 142565.75it/s]"
     ]
    },
    {
     "name": "stderr",
     "output_type": "stream",
     "text": [
      "\rMorphologyExtractor create index: 2645215it [00:18, 142552.77it/s]"
     ]
    },
    {
     "name": "stderr",
     "output_type": "stream",
     "text": [
      "\rMorphologyExtractor create index: 2659898it [00:18, 142573.85it/s]"
     ]
    },
    {
     "name": "stderr",
     "output_type": "stream",
     "text": [
      "\rMorphologyExtractor create index: 2675005it [00:18, 142619.21it/s]"
     ]
    },
    {
     "name": "stderr",
     "output_type": "stream",
     "text": [
      "\rMorphologyExtractor create index: 2691567it [00:18, 142741.14it/s]"
     ]
    },
    {
     "name": "stderr",
     "output_type": "stream",
     "text": [
      "\rMorphologyExtractor create index: 2706891it [00:18, 142693.73it/s]"
     ]
    },
    {
     "name": "stderr",
     "output_type": "stream",
     "text": [
      "\rMorphologyExtractor create index: 2721663it [00:19, 142716.19it/s]"
     ]
    },
    {
     "name": "stderr",
     "output_type": "stream",
     "text": [
      "\rMorphologyExtractor create index: 2736412it [00:19, 142695.64it/s]"
     ]
    },
    {
     "name": "stderr",
     "output_type": "stream",
     "text": [
      "\rMorphologyExtractor create index: 2750907it [00:19, 142686.56it/s]"
     ]
    },
    {
     "name": "stderr",
     "output_type": "stream",
     "text": [
      "\rMorphologyExtractor create index: 2765375it [00:19, 142696.59it/s]"
     ]
    },
    {
     "name": "stderr",
     "output_type": "stream",
     "text": [
      "\rMorphologyExtractor create index: 2779778it [00:19, 142697.95it/s]"
     ]
    },
    {
     "name": "stderr",
     "output_type": "stream",
     "text": [
      "\rMorphologyExtractor create index: 2794148it [00:19, 142672.42it/s]"
     ]
    },
    {
     "name": "stderr",
     "output_type": "stream",
     "text": [
      "\rMorphologyExtractor create index: 2808581it [00:19, 142680.83it/s]"
     ]
    },
    {
     "name": "stderr",
     "output_type": "stream",
     "text": [
      "\rMorphologyExtractor create index: 2824521it [00:19, 142765.35it/s]"
     ]
    },
    {
     "name": "stderr",
     "output_type": "stream",
     "text": [
      "\rMorphologyExtractor create index: 2840290it [00:19, 142840.37it/s]"
     ]
    },
    {
     "name": "stderr",
     "output_type": "stream",
     "text": [
      "\rMorphologyExtractor create index: 2856380it [00:19, 142930.73it/s]"
     ]
    },
    {
     "name": "stderr",
     "output_type": "stream",
     "text": [
      "\rMorphologyExtractor create index: 2871755it [00:20, 142983.06it/s]"
     ]
    },
    {
     "name": "stderr",
     "output_type": "stream",
     "text": [
      "\rMorphologyExtractor create index: 2887121it [00:20, 142971.27it/s]"
     ]
    },
    {
     "name": "stderr",
     "output_type": "stream",
     "text": [
      "\rMorphologyExtractor create index: 2902250it [00:20, 143011.58it/s]"
     ]
    },
    {
     "name": "stderr",
     "output_type": "stream",
     "text": [
      "\rMorphologyExtractor create index: 2917772it [00:20, 143072.14it/s]"
     ]
    },
    {
     "name": "stderr",
     "output_type": "stream",
     "text": [
      "\rMorphologyExtractor create index: 2933893it [00:20, 143160.49it/s]"
     ]
    },
    {
     "name": "stderr",
     "output_type": "stream",
     "text": [
      "\rMorphologyExtractor create index: 2949351it [00:20, 143176.83it/s]"
     ]
    },
    {
     "name": "stderr",
     "output_type": "stream",
     "text": [
      "\rMorphologyExtractor create index: 2964562it [00:20, 143088.56it/s]"
     ]
    },
    {
     "name": "stderr",
     "output_type": "stream",
     "text": [
      "\rMorphologyExtractor create index: 2979044it [00:20, 143045.60it/s]"
     ]
    },
    {
     "name": "stderr",
     "output_type": "stream",
     "text": [
      "\rMorphologyExtractor create index: 2993224it [00:20, 143002.75it/s]"
     ]
    },
    {
     "name": "stderr",
     "output_type": "stream",
     "text": [
      "\rMorphologyExtractor create index: 3008318it [00:21, 143040.37it/s]"
     ]
    },
    {
     "name": "stderr",
     "output_type": "stream",
     "text": [
      "\rMorphologyExtractor create index: 3023476it [00:21, 143080.83it/s]"
     ]
    },
    {
     "name": "stderr",
     "output_type": "stream",
     "text": [
      "\rMorphologyExtractor create index: 3038035it [00:21, 143079.44it/s]"
     ]
    },
    {
     "name": "stderr",
     "output_type": "stream",
     "text": [
      "\rMorphologyExtractor create index: 3052510it [00:21, 143073.59it/s]"
     ]
    },
    {
     "name": "stderr",
     "output_type": "stream",
     "text": [
      "\rMorphologyExtractor create index: 3066899it [00:21, 143009.43it/s]"
     ]
    },
    {
     "name": "stderr",
     "output_type": "stream",
     "text": [
      "\rMorphologyExtractor create index: 3080889it [00:21, 142929.42it/s]"
     ]
    },
    {
     "name": "stderr",
     "output_type": "stream",
     "text": [
      "\rMorphologyExtractor create index: 3096881it [00:21, 143007.91it/s]"
     ]
    },
    {
     "name": "stderr",
     "output_type": "stream",
     "text": [
      "\rMorphologyExtractor create index: 3113430it [00:21, 143111.17it/s]"
     ]
    },
    {
     "name": "stderr",
     "output_type": "stream",
     "text": [
      "\rMorphologyExtractor create index: 3129953it [00:21, 143212.35it/s]"
     ]
    },
    {
     "name": "stderr",
     "output_type": "stream",
     "text": [
      "\rMorphologyExtractor create index: 3145866it [00:21, 143284.81it/s]"
     ]
    },
    {
     "name": "stderr",
     "output_type": "stream",
     "text": [
      "\rMorphologyExtractor create index: 3161654it [00:22, 143350.98it/s]"
     ]
    },
    {
     "name": "stderr",
     "output_type": "stream",
     "text": [
      "\rMorphologyExtractor create index: 3177708it [00:22, 143428.22it/s]"
     ]
    },
    {
     "name": "stderr",
     "output_type": "stream",
     "text": [
      "\rMorphologyExtractor create index: 3193479it [00:22, 143440.22it/s]"
     ]
    },
    {
     "name": "stderr",
     "output_type": "stream",
     "text": [
      "\rMorphologyExtractor create index: 3208894it [00:22, 143450.15it/s]"
     ]
    },
    {
     "name": "stderr",
     "output_type": "stream",
     "text": [
      "\rMorphologyExtractor create index: 3224050it [00:22, 143430.50it/s]"
     ]
    },
    {
     "name": "stderr",
     "output_type": "stream",
     "text": [
      "\rMorphologyExtractor create index: 3239089it [00:22, 143460.52it/s]"
     ]
    },
    {
     "name": "stderr",
     "output_type": "stream",
     "text": [
      "\rMorphologyExtractor create index: 3253955it [00:22, 143319.18it/s]"
     ]
    },
    {
     "name": "stderr",
     "output_type": "stream",
     "text": [
      "\rMorphologyExtractor create index: 3268279it [00:22, 143319.09it/s]"
     ]
    },
    {
     "name": "stderr",
     "output_type": "stream",
     "text": [
      "\rMorphologyExtractor create index: 3283232it [00:22, 143346.19it/s]"
     ]
    },
    {
     "name": "stderr",
     "output_type": "stream",
     "text": [
      "\rMorphologyExtractor create index: 3297558it [00:23, 143340.69it/s]"
     ]
    },
    {
     "name": "stderr",
     "output_type": "stream",
     "text": [
      "\rMorphologyExtractor create index: 3311850it [00:23, 143297.40it/s]"
     ]
    },
    {
     "name": "stderr",
     "output_type": "stream",
     "text": [
      "\rMorphologyExtractor create index: 3325874it [00:23, 143262.04it/s]"
     ]
    },
    {
     "name": "stderr",
     "output_type": "stream",
     "text": [
      "\rMorphologyExtractor create index: 3340123it [00:23, 143257.18it/s]"
     ]
    },
    {
     "name": "stderr",
     "output_type": "stream",
     "text": [
      "\rMorphologyExtractor create index: 3354794it [00:23, 143273.43it/s]"
     ]
    },
    {
     "name": "stderr",
     "output_type": "stream",
     "text": [
      "\rMorphologyExtractor create index: 3368987it [00:23, 143228.13it/s]"
     ]
    },
    {
     "name": "stderr",
     "output_type": "stream",
     "text": [
      "\rMorphologyExtractor create index: 3382921it [00:23, 143206.22it/s]"
     ]
    },
    {
     "name": "stderr",
     "output_type": "stream",
     "text": [
      "\rMorphologyExtractor create index: 3396937it [00:23, 143193.33it/s]"
     ]
    },
    {
     "name": "stderr",
     "output_type": "stream",
     "text": [
      "\rMorphologyExtractor create index: 3410989it [00:23, 143182.07it/s]"
     ]
    },
    {
     "name": "stderr",
     "output_type": "stream",
     "text": [
      "\rMorphologyExtractor create index: 3425613it [00:23, 143194.82it/s]"
     ]
    },
    {
     "name": "stderr",
     "output_type": "stream",
     "text": [
      "\rMorphologyExtractor create index: 3440837it [00:24, 143232.46it/s]"
     ]
    },
    {
     "name": "stderr",
     "output_type": "stream",
     "text": [
      "\rMorphologyExtractor create index: 3455374it [00:24, 143241.32it/s]"
     ]
    },
    {
     "name": "stderr",
     "output_type": "stream",
     "text": [
      "\rMorphologyExtractor create index: 3469873it [00:24, 143239.92it/s]"
     ]
    },
    {
     "name": "stderr",
     "output_type": "stream",
     "text": [
      "\rMorphologyExtractor create index: 3484762it [00:24, 143263.13it/s]"
     ]
    },
    {
     "name": "stderr",
     "output_type": "stream",
     "text": [
      "\rMorphologyExtractor create index: 3499334it [00:24, 143258.20it/s]"
     ]
    },
    {
     "name": "stderr",
     "output_type": "stream",
     "text": [
      "\rMorphologyExtractor create index: 3514425it [00:24, 143288.83it/s]"
     ]
    },
    {
     "name": "stderr",
     "output_type": "stream",
     "text": [
      "\rMorphologyExtractor create index: 3529689it [00:24, 143327.32it/s]"
     ]
    },
    {
     "name": "stderr",
     "output_type": "stream",
     "text": [
      "\rMorphologyExtractor create index: 3544633it [00:24, 143352.00it/s]"
     ]
    },
    {
     "name": "stderr",
     "output_type": "stream",
     "text": [
      "\rMorphologyExtractor create index: 3559848it [00:24, 143387.43it/s]"
     ]
    },
    {
     "name": "stderr",
     "output_type": "stream",
     "text": [
      "\rMorphologyExtractor create index: 3574820it [00:24, 143396.90it/s]"
     ]
    },
    {
     "name": "stderr",
     "output_type": "stream",
     "text": [
      "\rMorphologyExtractor create index: 3589671it [00:25, 143414.48it/s]"
     ]
    },
    {
     "name": "stderr",
     "output_type": "stream",
     "text": [
      "\rMorphologyExtractor create index: 3604502it [00:25, 142811.62it/s]"
     ]
    },
    {
     "name": "stderr",
     "output_type": "stream",
     "text": [
      "\rMorphologyExtractor create index: 3617007it [00:25, 142358.81it/s]"
     ]
    },
    {
     "name": "stderr",
     "output_type": "stream",
     "text": [
      "\rMorphologyExtractor create index: 3628819it [00:25, 142263.00it/s]"
     ]
    },
    {
     "name": "stderr",
     "output_type": "stream",
     "text": [
      "\rMorphologyExtractor create index: 3640738it [00:25, 142173.45it/s]"
     ]
    },
    {
     "name": "stderr",
     "output_type": "stream",
     "text": [
      "\rMorphologyExtractor create index: 3654636it [00:25, 142161.00it/s]"
     ]
    },
    {
     "name": "stderr",
     "output_type": "stream",
     "text": [
      "\rMorphologyExtractor create index: 3669358it [00:25, 142180.60it/s]"
     ]
    },
    {
     "name": "stderr",
     "output_type": "stream",
     "text": [
      "\rMorphologyExtractor create index: 3683731it [00:25, 142186.56it/s]"
     ]
    },
    {
     "name": "stderr",
     "output_type": "stream",
     "text": [
      "\rMorphologyExtractor create index: 3699714it [00:26, 142254.38it/s]"
     ]
    },
    {
     "name": "stderr",
     "output_type": "stream",
     "text": [
      "\rMorphologyExtractor create index: 3715596it [00:26, 142317.73it/s]"
     ]
    },
    {
     "name": "stderr",
     "output_type": "stream",
     "text": [
      "\rMorphologyExtractor create index: 3730593it [00:26, 142346.97it/s]"
     ]
    },
    {
     "name": "stderr",
     "output_type": "stream",
     "text": [
      "\rMorphologyExtractor create index: 3745363it [00:26, 142335.90it/s]"
     ]
    },
    {
     "name": "stderr",
     "output_type": "stream",
     "text": [
      "\rMorphologyExtractor create index: 3761182it [00:26, 142395.93it/s]"
     ]
    },
    {
     "name": "stderr",
     "output_type": "stream",
     "text": [
      "\rMorphologyExtractor create index: 3776097it [00:26, 142366.57it/s]"
     ]
    },
    {
     "name": "stderr",
     "output_type": "stream",
     "text": [
      "\rMorphologyExtractor create index: 3791955it [00:26, 142427.50it/s]"
     ]
    },
    {
     "name": "stderr",
     "output_type": "stream",
     "text": [
      "\rMorphologyExtractor create index: 3808025it [00:26, 142495.93it/s]"
     ]
    },
    {
     "name": "stderr",
     "output_type": "stream",
     "text": [
      "\rMorphologyExtractor create index: 3824730it [00:26, 142587.47it/s]"
     ]
    },
    {
     "name": "stderr",
     "output_type": "stream",
     "text": [
      "\rMorphologyExtractor create index: 3840699it [00:26, 142650.99it/s]"
     ]
    },
    {
     "name": "stderr",
     "output_type": "stream",
     "text": [
      "\rMorphologyExtractor create index: 3856586it [00:27, 142710.98it/s]"
     ]
    },
    {
     "name": "stderr",
     "output_type": "stream",
     "text": [
      "\rMorphologyExtractor create index: 3872701it [00:27, 142778.95it/s]"
     ]
    },
    {
     "name": "stderr",
     "output_type": "stream",
     "text": [
      "\rMorphologyExtractor create index: 3888668it [00:27, 142840.95it/s]"
     ]
    },
    {
     "name": "stderr",
     "output_type": "stream",
     "text": [
      "\rMorphologyExtractor create index: 3904916it [00:27, 142912.81it/s]"
     ]
    },
    {
     "name": "stderr",
     "output_type": "stream",
     "text": [
      "\rMorphologyExtractor create index: 3921024it [00:27, 142979.03it/s]"
     ]
    },
    {
     "name": "stderr",
     "output_type": "stream",
     "text": [
      "\rMorphologyExtractor create index: 3937069it [00:27, 143033.39it/s]"
     ]
    },
    {
     "name": "stderr",
     "output_type": "stream",
     "text": [
      "\rMorphologyExtractor create index: 3953031it [00:27, 143087.88it/s]"
     ]
    },
    {
     "name": "stderr",
     "output_type": "stream",
     "text": [
      "\rMorphologyExtractor create index: 3968943it [00:27, 143119.00it/s]"
     ]
    },
    {
     "name": "stderr",
     "output_type": "stream",
     "text": [
      "\rMorphologyExtractor create index: 3984756it [00:27, 143173.62it/s]"
     ]
    },
    {
     "name": "stderr",
     "output_type": "stream",
     "text": [
      "\rMorphologyExtractor create index: 4000478it [00:27, 143209.80it/s]"
     ]
    },
    {
     "name": "stderr",
     "output_type": "stream",
     "text": [
      "\rMorphologyExtractor create index: 4016301it [00:28, 143263.27it/s]"
     ]
    },
    {
     "name": "stderr",
     "output_type": "stream",
     "text": [
      "\rMorphologyExtractor create index: 4032686it [00:28, 143336.55it/s]"
     ]
    },
    {
     "name": "stderr",
     "output_type": "stream",
     "text": [
      "\rMorphologyExtractor create index: 4048965it [00:28, 143405.41it/s]"
     ]
    },
    {
     "name": "stderr",
     "output_type": "stream",
     "text": [
      "\rMorphologyExtractor create index: 4065760it [00:28, 143492.03it/s]"
     ]
    },
    {
     "name": "stderr",
     "output_type": "stream",
     "text": [
      "\rMorphologyExtractor create index: 4081998it [00:28, 143554.76it/s]"
     ]
    },
    {
     "name": "stderr",
     "output_type": "stream",
     "text": [
      "\rMorphologyExtractor create index: 4098214it [00:28, 143619.91it/s]"
     ]
    },
    {
     "name": "stderr",
     "output_type": "stream",
     "text": [
      "\rMorphologyExtractor create index: 4114421it [00:28, 143679.24it/s]"
     ]
    },
    {
     "name": "stderr",
     "output_type": "stream",
     "text": [
      "\rMorphologyExtractor create index: 4130874it [00:28, 143751.77it/s]"
     ]
    },
    {
     "name": "stderr",
     "output_type": "stream",
     "text": [
      "\rMorphologyExtractor create index: 4147605it [00:28, 143833.45it/s]"
     ]
    },
    {
     "name": "stderr",
     "output_type": "stream",
     "text": [
      "\rMorphologyExtractor create index: 4164005it [00:28, 143903.13it/s]"
     ]
    },
    {
     "name": "stderr",
     "output_type": "stream",
     "text": [
      "\rMorphologyExtractor create index: 4180542it [00:29, 143977.03it/s]"
     ]
    },
    {
     "name": "stderr",
     "output_type": "stream",
     "text": [
      "\rMorphologyExtractor create index: 4196979it [00:29, 144037.09it/s]"
     ]
    },
    {
     "name": "stderr",
     "output_type": "stream",
     "text": [
      "\rMorphologyExtractor create index: 4213768it [00:29, 144118.64it/s]"
     ]
    },
    {
     "name": "stderr",
     "output_type": "stream",
     "text": [
      "\rMorphologyExtractor create index: 4230456it [00:29, 144196.21it/s]"
     ]
    },
    {
     "name": "stderr",
     "output_type": "stream",
     "text": [
      "\rMorphologyExtractor create index: 4246995it [00:29, 144258.01it/s]"
     ]
    },
    {
     "name": "stderr",
     "output_type": "stream",
     "text": [
      "\rMorphologyExtractor create index: 4263433it [00:29, 144317.43it/s]"
     ]
    },
    {
     "name": "stderr",
     "output_type": "stream",
     "text": [
      "\rMorphologyExtractor create index: 4280025it [00:29, 144390.28it/s]"
     ]
    },
    {
     "name": "stderr",
     "output_type": "stream",
     "text": [
      "\rMorphologyExtractor create index: 4296665it [00:29, 144464.25it/s]"
     ]
    },
    {
     "name": "stderr",
     "output_type": "stream",
     "text": [
      "\rMorphologyExtractor create index: 4313259it [00:29, 144536.21it/s]"
     ]
    },
    {
     "name": "stderr",
     "output_type": "stream",
     "text": [
      "\rMorphologyExtractor create index: 4329779it [00:29, 144562.35it/s]"
     ]
    },
    {
     "name": "stderr",
     "output_type": "stream",
     "text": [
      "\rMorphologyExtractor create index: 4345897it [00:30, 144551.74it/s]"
     ]
    },
    {
     "name": "stderr",
     "output_type": "stream",
     "text": [
      "\rMorphologyExtractor create index: 4361431it [00:30, 144574.60it/s]"
     ]
    },
    {
     "name": "stderr",
     "output_type": "stream",
     "text": [
      "\rMorphologyExtractor create index: 4376955it [00:30, 144609.76it/s]"
     ]
    },
    {
     "name": "stderr",
     "output_type": "stream",
     "text": [
      "\rMorphologyExtractor create index: 4392400it [00:30, 144640.94it/s]"
     ]
    },
    {
     "name": "stderr",
     "output_type": "stream",
     "text": [
      "\rMorphologyExtractor create index: 4408128it [00:30, 144682.38it/s]"
     ]
    },
    {
     "name": "stderr",
     "output_type": "stream",
     "text": [
      "\rMorphologyExtractor create index: 4423649it [00:30, 144714.55it/s]"
     ]
    },
    {
     "name": "stderr",
     "output_type": "stream",
     "text": [
      "\rMorphologyExtractor create index: 4439354it [00:30, 144754.74it/s]"
     ]
    },
    {
     "name": "stderr",
     "output_type": "stream",
     "text": [
      "\rMorphologyExtractor create index: 4454915it [00:30, 144786.09it/s]"
     ]
    },
    {
     "name": "stderr",
     "output_type": "stream",
     "text": [
      "\rMorphologyExtractor create index: 4470586it [00:30, 144824.77it/s]"
     ]
    },
    {
     "name": "stderr",
     "output_type": "stream",
     "text": [
      "\rMorphologyExtractor create index: 4486153it [00:30, 144856.58it/s]"
     ]
    },
    {
     "name": "stderr",
     "output_type": "stream",
     "text": [
      "\rMorphologyExtractor create index: 4502153it [00:31, 144905.32it/s]"
     ]
    },
    {
     "name": "stderr",
     "output_type": "stream",
     "text": [
      "\rMorphologyExtractor create index: 4518258it [00:31, 144957.06it/s]"
     ]
    },
    {
     "name": "stderr",
     "output_type": "stream",
     "text": [
      "\rMorphologyExtractor create index: 4534744it [00:31, 145020.75it/s]"
     ]
    },
    {
     "name": "stderr",
     "output_type": "stream",
     "text": [
      "\rMorphologyExtractor create index: 4551235it [00:31, 145084.13it/s]"
     ]
    },
    {
     "name": "stderr",
     "output_type": "stream",
     "text": [
      "\rMorphologyExtractor create index: 4568398it [00:31, 145168.46it/s]"
     ]
    },
    {
     "name": "stderr",
     "output_type": "stream",
     "text": [
      "\rMorphologyExtractor create index: 4584854it [00:31, 145169.94it/s]"
     ]
    },
    {
     "name": "stderr",
     "output_type": "stream",
     "text": [
      "\rMorphologyExtractor create index: 4601282it [00:31, 145230.23it/s]"
     ]
    },
    {
     "name": "stderr",
     "output_type": "stream",
     "text": [
      "\rMorphologyExtractor create index: 4617380it [00:31, 145279.76it/s]"
     ]
    },
    {
     "name": "stderr",
     "output_type": "stream",
     "text": [
      "\rMorphologyExtractor create index: 4633444it [00:31, 145300.21it/s]"
     ]
    },
    {
     "name": "stderr",
     "output_type": "stream",
     "text": [
      "\rMorphologyExtractor create index: 4649232it [00:31, 145335.60it/s]"
     ]
    },
    {
     "name": "stderr",
     "output_type": "stream",
     "text": [
      "\rMorphologyExtractor create index: 4665304it [00:32, 145383.53it/s]"
     ]
    },
    {
     "name": "stderr",
     "output_type": "stream",
     "text": [
      "\rMorphologyExtractor create index: 4681149it [00:32, 145411.37it/s]"
     ]
    },
    {
     "name": "stderr",
     "output_type": "stream",
     "text": [
      "\rMorphologyExtractor create index: 4696863it [00:32, 145446.88it/s]"
     ]
    },
    {
     "name": "stderr",
     "output_type": "stream",
     "text": [
      "\rMorphologyExtractor create index: 4712681it [00:32, 145486.14it/s]"
     ]
    },
    {
     "name": "stderr",
     "output_type": "stream",
     "text": [
      "\rMorphologyExtractor create index: 4728421it [00:32, 145497.56it/s]"
     ]
    },
    {
     "name": "stderr",
     "output_type": "stream",
     "text": [
      "\rMorphologyExtractor create index: 4743909it [00:32, 145481.32it/s]"
     ]
    },
    {
     "name": "stderr",
     "output_type": "stream",
     "text": [
      "\rMorphologyExtractor create index: 4758971it [00:32, 145455.24it/s]"
     ]
    },
    {
     "name": "stderr",
     "output_type": "stream",
     "text": [
      "\rMorphologyExtractor create index: 4773645it [00:32, 145450.98it/s]"
     ]
    },
    {
     "name": "stderr",
     "output_type": "stream",
     "text": [
      "\rMorphologyExtractor create index: 4788240it [00:32, 145322.74it/s]"
     ]
    },
    {
     "name": "stderr",
     "output_type": "stream",
     "text": [
      "\rMorphologyExtractor create index: 4801840it [00:33, 145247.42it/s]"
     ]
    },
    {
     "name": "stderr",
     "output_type": "stream",
     "text": [
      "\rMorphologyExtractor create index: 4816950it [00:33, 145265.02it/s]"
     ]
    },
    {
     "name": "stderr",
     "output_type": "stream",
     "text": [
      "\rMorphologyExtractor create index: 4832414it [00:33, 145293.19it/s]"
     ]
    },
    {
     "name": "stderr",
     "output_type": "stream",
     "text": [
      "\rMorphologyExtractor create index: 4846697it [00:33, 145252.88it/s]"
     ]
    },
    {
     "name": "stderr",
     "output_type": "stream",
     "text": [
      "\rMorphologyExtractor create index: 4862592it [00:33, 145293.67it/s]"
     ]
    },
    {
     "name": "stderr",
     "output_type": "stream",
     "text": [
      "\rMorphologyExtractor create index: 4877146it [00:33, 145254.56it/s]"
     ]
    },
    {
     "name": "stderr",
     "output_type": "stream",
     "text": [
      "\rMorphologyExtractor create index: 4891333it [00:33, 145237.78it/s]"
     ]
    },
    {
     "name": "stderr",
     "output_type": "stream",
     "text": [
      "\rMorphologyExtractor create index: 4905781it [00:33, 145235.41it/s]"
     ]
    },
    {
     "name": "stderr",
     "output_type": "stream",
     "text": [
      "\rMorphologyExtractor create index: 4920000it [00:33, 145173.32it/s]"
     ]
    },
    {
     "name": "stderr",
     "output_type": "stream",
     "text": [
      "\rMorphologyExtractor create index: 4935237it [00:33, 145194.49it/s]"
     ]
    },
    {
     "name": "stderr",
     "output_type": "stream",
     "text": [
      "\rMorphologyExtractor create index: 4951834it [00:34, 145255.40it/s]"
     ]
    },
    {
     "name": "stderr",
     "output_type": "stream",
     "text": [
      "\rMorphologyExtractor create index: 4967144it [00:34, 145278.33it/s]"
     ]
    },
    {
     "name": "stderr",
     "output_type": "stream",
     "text": [
      "\rMorphologyExtractor create index: 4982178it [00:34, 145284.80it/s]"
     ]
    },
    {
     "name": "stderr",
     "output_type": "stream",
     "text": [
      "\rMorphologyExtractor create index: 4997126it [00:34, 145239.21it/s]"
     ]
    },
    {
     "name": "stderr",
     "output_type": "stream",
     "text": [
      "\rMorphologyExtractor create index: 5011534it [00:34, 145195.40it/s]"
     ]
    },
    {
     "name": "stderr",
     "output_type": "stream",
     "text": [
      "\rMorphologyExtractor create index: 5026453it [00:34, 145206.88it/s]"
     ]
    },
    {
     "name": "stderr",
     "output_type": "stream",
     "text": [
      "\rMorphologyExtractor create index: 5041537it [00:34, 145223.17it/s]"
     ]
    },
    {
     "name": "stderr",
     "output_type": "stream",
     "text": [
      "\rMorphologyExtractor create index: 5056541it [00:34, 145236.99it/s]"
     ]
    },
    {
     "name": "stderr",
     "output_type": "stream",
     "text": [
      "\rMorphologyExtractor create index: 5071375it [00:34, 145245.86it/s]"
     ]
    },
    {
     "name": "stderr",
     "output_type": "stream",
     "text": [
      "\rMorphologyExtractor create index: 5087693it [00:35, 145297.05it/s]"
     ]
    },
    {
     "name": "stderr",
     "output_type": "stream",
     "text": [
      "\rMorphologyExtractor create index: 5096053it [00:35, 145311.80it/s]"
     ]
    },
    {
     "name": "stderr",
     "output_type": "stream",
     "text": [
      "\n\rDictClassTransformer_PUNCT fit stage 1:   0%|          | 0/9517064 [00:00<?, ?it/s]"
     ]
    },
    {
     "name": "stderr",
     "output_type": "stream",
     "text": [
      "\rDictClassTransformer_PUNCT fit stage 1:   1%|          | 95684/9517064 [00:00<00:09, 956592.32it/s]"
     ]
    },
    {
     "name": "stderr",
     "output_type": "stream",
     "text": [
      "\rDictClassTransformer_PUNCT fit stage 1:   2%|▏         | 191799/9517064 [00:00<00:09, 958204.32it/s]"
     ]
    },
    {
     "name": "stderr",
     "output_type": "stream",
     "text": [
      "\rDictClassTransformer_PUNCT fit stage 1:   3%|▎         | 300387/9517064 [00:00<00:09, 1001159.67it/s]"
     ]
    },
    {
     "name": "stderr",
     "output_type": "stream",
     "text": [
      "\rDictClassTransformer_PUNCT fit stage 1:   4%|▍         | 403057/9517064 [00:00<00:09, 1007552.18it/s]"
     ]
    },
    {
     "name": "stderr",
     "output_type": "stream",
     "text": [
      "\rDictClassTransformer_PUNCT fit stage 1:   5%|▌         | 496979/9517064 [00:00<00:09, 993878.38it/s] "
     ]
    },
    {
     "name": "stderr",
     "output_type": "stream",
     "text": [
      "\rDictClassTransformer_PUNCT fit stage 1:   6%|▋         | 601863/9517064 [00:00<00:08, 1003044.97it/s]"
     ]
    },
    {
     "name": "stderr",
     "output_type": "stream",
     "text": [
      "\rDictClassTransformer_PUNCT fit stage 1:   8%|▊         | 721881/9517064 [00:00<00:08, 1031192.12it/s]"
     ]
    },
    {
     "name": "stderr",
     "output_type": "stream",
     "text": [
      "\rDictClassTransformer_PUNCT fit stage 1:   9%|▉         | 835944/9517064 [00:00<00:08, 1044884.60it/s]"
     ]
    },
    {
     "name": "stderr",
     "output_type": "stream",
     "text": [
      "\rDictClassTransformer_PUNCT fit stage 1:  10%|█         | 952566/9517064 [00:00<00:08, 1058366.46it/s]"
     ]
    },
    {
     "name": "stderr",
     "output_type": "stream",
     "text": [
      "\rDictClassTransformer_PUNCT fit stage 1:  11%|█         | 1067419/9517064 [00:01<00:07, 1067320.77it/s]"
     ]
    },
    {
     "name": "stderr",
     "output_type": "stream",
     "text": [
      "\rDictClassTransformer_PUNCT fit stage 1:  13%|█▎        | 1190313/9517064 [00:01<00:07, 1082063.42it/s]"
     ]
    },
    {
     "name": "stderr",
     "output_type": "stream",
     "text": [
      "\rDictClassTransformer_PUNCT fit stage 1:  14%|█▍        | 1315351/9517064 [00:01<00:07, 1096084.85it/s]"
     ]
    },
    {
     "name": "stderr",
     "output_type": "stream",
     "text": [
      "\rDictClassTransformer_PUNCT fit stage 1:  15%|█▌        | 1432315/9517064 [00:01<00:07, 1096248.10it/s]"
     ]
    },
    {
     "name": "stderr",
     "output_type": "stream",
     "text": [
      "\rDictClassTransformer_PUNCT fit stage 1:  16%|█▋        | 1553591/9517064 [00:01<00:07, 1104533.13it/s]"
     ]
    },
    {
     "name": "stderr",
     "output_type": "stream",
     "text": [
      "\rDictClassTransformer_PUNCT fit stage 1:  18%|█▊        | 1672916/9517064 [00:01<00:07, 1110427.18it/s]"
     ]
    },
    {
     "name": "stderr",
     "output_type": "stream",
     "text": [
      "\rDictClassTransformer_PUNCT fit stage 1:  19%|█▉        | 1790443/9517064 [00:01<00:07, 1088644.94it/s]"
     ]
    },
    {
     "name": "stderr",
     "output_type": "stream",
     "text": [
      "\rDictClassTransformer_PUNCT fit stage 1:  20%|█▉        | 1903229/9517064 [00:01<00:06, 1090891.99it/s]"
     ]
    },
    {
     "name": "stderr",
     "output_type": "stream",
     "text": [
      "\rDictClassTransformer_PUNCT fit stage 1:  21%|██        | 2012525/9517064 [00:01<00:06, 1084656.62it/s]"
     ]
    },
    {
     "name": "stderr",
     "output_type": "stream",
     "text": [
      "\rDictClassTransformer_PUNCT fit stage 1:  22%|██▏       | 2118636/9517064 [00:01<00:06, 1078566.08it/s]"
     ]
    },
    {
     "name": "stderr",
     "output_type": "stream",
     "text": [
      "\rDictClassTransformer_PUNCT fit stage 1:  24%|██▎       | 2237503/9517064 [00:02<00:06, 1083902.45it/s]"
     ]
    },
    {
     "name": "stderr",
     "output_type": "stream",
     "text": [
      "\rDictClassTransformer_PUNCT fit stage 1:  25%|██▍       | 2355096/9517064 [00:02<00:06, 1088150.01it/s]"
     ]
    },
    {
     "name": "stderr",
     "output_type": "stream",
     "text": [
      "\rDictClassTransformer_PUNCT fit stage 1:  26%|██▌       | 2466607/9517064 [00:02<00:06, 1089339.67it/s]"
     ]
    },
    {
     "name": "stderr",
     "output_type": "stream",
     "text": [
      "\rDictClassTransformer_PUNCT fit stage 1:  27%|██▋       | 2583981/9517064 [00:02<00:06, 1092908.92it/s]"
     ]
    },
    {
     "name": "stderr",
     "output_type": "stream",
     "text": [
      "\rDictClassTransformer_PUNCT fit stage 1:  28%|██▊       | 2709067/9517064 [00:02<00:06, 1099318.93it/s]"
     ]
    },
    {
     "name": "stderr",
     "output_type": "stream",
     "text": [
      "\rDictClassTransformer_PUNCT fit stage 1:  30%|██▉       | 2834387/9517064 [00:02<00:06, 1105320.76it/s]"
     ]
    },
    {
     "name": "stderr",
     "output_type": "stream",
     "text": [
      "\rDictClassTransformer_PUNCT fit stage 1:  31%|███       | 2956524/9517064 [00:02<00:05, 1109675.60it/s]"
     ]
    },
    {
     "name": "stderr",
     "output_type": "stream",
     "text": [
      "\rDictClassTransformer_PUNCT fit stage 1:  32%|███▏      | 3079729/9517064 [00:02<00:05, 1114101.71it/s]"
     ]
    },
    {
     "name": "stderr",
     "output_type": "stream",
     "text": [
      "\rDictClassTransformer_PUNCT fit stage 1:  34%|███▎      | 3205323/9517064 [00:02<00:05, 1119053.19it/s]"
     ]
    },
    {
     "name": "stderr",
     "output_type": "stream",
     "text": [
      "\rDictClassTransformer_PUNCT fit stage 1:  35%|███▍      | 3329671/9517064 [00:02<00:05, 1123250.26it/s]"
     ]
    },
    {
     "name": "stderr",
     "output_type": "stream",
     "text": [
      "\rDictClassTransformer_PUNCT fit stage 1:  36%|███▋      | 3456363/9517064 [00:03<00:05, 1127938.77it/s]"
     ]
    },
    {
     "name": "stderr",
     "output_type": "stream",
     "text": [
      "\rDictClassTransformer_PUNCT fit stage 1:  38%|███▊      | 3585250/9517064 [00:03<00:05, 1133024.53it/s]"
     ]
    },
    {
     "name": "stderr",
     "output_type": "stream",
     "text": [
      "\rDictClassTransformer_PUNCT fit stage 1:  39%|███▉      | 3713018/9517064 [00:03<00:05, 1137455.64it/s]"
     ]
    },
    {
     "name": "stderr",
     "output_type": "stream",
     "text": [
      "\rDictClassTransformer_PUNCT fit stage 1:  40%|████      | 3842193/9517064 [00:03<00:04, 1142041.47it/s]"
     ]
    },
    {
     "name": "stderr",
     "output_type": "stream",
     "text": [
      "\rDictClassTransformer_PUNCT fit stage 1:  42%|████▏     | 3969289/9517064 [00:03<00:04, 1144645.70it/s]"
     ]
    },
    {
     "name": "stderr",
     "output_type": "stream",
     "text": [
      "\rDictClassTransformer_PUNCT fit stage 1:  43%|████▎     | 4096351/9517064 [00:03<00:04, 1148176.32it/s]"
     ]
    },
    {
     "name": "stderr",
     "output_type": "stream",
     "text": [
      "\rDictClassTransformer_PUNCT fit stage 1:  44%|████▍     | 4222653/9517064 [00:03<00:04, 1151310.41it/s]"
     ]
    },
    {
     "name": "stderr",
     "output_type": "stream",
     "text": [
      "\rDictClassTransformer_PUNCT fit stage 1:  46%|████▌     | 4350229/9517064 [00:03<00:04, 1154613.14it/s]"
     ]
    },
    {
     "name": "stderr",
     "output_type": "stream",
     "text": [
      "\rDictClassTransformer_PUNCT fit stage 1:  47%|████▋     | 4477058/9517064 [00:03<00:04, 1157551.09it/s]"
     ]
    },
    {
     "name": "stderr",
     "output_type": "stream",
     "text": [
      "\rDictClassTransformer_PUNCT fit stage 1:  48%|████▊     | 4603756/9517064 [00:03<00:04, 1157832.49it/s]"
     ]
    },
    {
     "name": "stderr",
     "output_type": "stream",
     "text": [
      "\rDictClassTransformer_PUNCT fit stage 1:  50%|████▉     | 4732268/9517064 [00:04<00:04, 1160950.88it/s]"
     ]
    },
    {
     "name": "stderr",
     "output_type": "stream",
     "text": [
      "\rDictClassTransformer_PUNCT fit stage 1:  51%|█████     | 4857427/9517064 [00:04<00:04, 1163007.88it/s]"
     ]
    },
    {
     "name": "stderr",
     "output_type": "stream",
     "text": [
      "\rDictClassTransformer_PUNCT fit stage 1:  52%|█████▏    | 4987349/9517064 [00:04<00:03, 1166193.80it/s]"
     ]
    },
    {
     "name": "stderr",
     "output_type": "stream",
     "text": [
      "\rDictClassTransformer_PUNCT fit stage 1:  54%|█████▎    | 5113830/9517064 [00:04<00:03, 1166814.66it/s]"
     ]
    },
    {
     "name": "stderr",
     "output_type": "stream",
     "text": [
      "\rDictClassTransformer_PUNCT fit stage 1:  55%|█████▌    | 5244772/9517064 [00:04<00:03, 1169992.48it/s]"
     ]
    },
    {
     "name": "stderr",
     "output_type": "stream",
     "text": [
      "\rDictClassTransformer_PUNCT fit stage 1:  56%|█████▋    | 5373951/9517064 [00:04<00:03, 1172654.09it/s]"
     ]
    },
    {
     "name": "stderr",
     "output_type": "stream",
     "text": [
      "\rDictClassTransformer_PUNCT fit stage 1:  58%|█████▊    | 5501106/9517064 [00:04<00:03, 1174502.87it/s]"
     ]
    },
    {
     "name": "stderr",
     "output_type": "stream",
     "text": [
      "\rDictClassTransformer_PUNCT fit stage 1:  59%|█████▉    | 5630134/9517064 [00:04<00:03, 1176923.57it/s]"
     ]
    },
    {
     "name": "stderr",
     "output_type": "stream",
     "text": [
      "\rDictClassTransformer_PUNCT fit stage 1:  60%|██████    | 5757574/9517064 [00:04<00:03, 1178524.66it/s]"
     ]
    },
    {
     "name": "stderr",
     "output_type": "stream",
     "text": [
      "\rDictClassTransformer_PUNCT fit stage 1:  62%|██████▏   | 5884400/9517064 [00:04<00:03, 1179714.37it/s]"
     ]
    },
    {
     "name": "stderr",
     "output_type": "stream",
     "text": [
      "\rDictClassTransformer_PUNCT fit stage 1:  63%|██████▎   | 6011376/9517064 [00:05<00:02, 1181488.81it/s]"
     ]
    },
    {
     "name": "stderr",
     "output_type": "stream",
     "text": [
      "\rDictClassTransformer_PUNCT fit stage 1:  65%|██████▍   | 6143323/9517064 [00:05<00:02, 1184148.20it/s]"
     ]
    },
    {
     "name": "stderr",
     "output_type": "stream",
     "text": [
      "\rDictClassTransformer_PUNCT fit stage 1:  66%|██████▌   | 6276043/9517064 [00:05<00:02, 1186852.12it/s]"
     ]
    },
    {
     "name": "stderr",
     "output_type": "stream",
     "text": [
      "\rDictClassTransformer_PUNCT fit stage 1:  67%|██████▋   | 6405409/9517064 [00:05<00:02, 1188019.06it/s]"
     ]
    },
    {
     "name": "stderr",
     "output_type": "stream",
     "text": [
      "\rDictClassTransformer_PUNCT fit stage 1:  69%|██████▊   | 6533392/9517064 [00:05<00:02, 1187018.00it/s]"
     ]
    },
    {
     "name": "stderr",
     "output_type": "stream",
     "text": [
      "\rDictClassTransformer_PUNCT fit stage 1:  70%|██████▉   | 6659263/9517064 [00:05<00:02, 1188301.71it/s]"
     ]
    },
    {
     "name": "stderr",
     "output_type": "stream",
     "text": [
      "\rDictClassTransformer_PUNCT fit stage 1:  71%|███████▏  | 6783657/9517064 [00:05<00:02, 1188805.69it/s]"
     ]
    },
    {
     "name": "stderr",
     "output_type": "stream",
     "text": [
      "\rDictClassTransformer_PUNCT fit stage 1:  73%|███████▎  | 6908137/9517064 [00:05<00:02, 1189768.03it/s]"
     ]
    },
    {
     "name": "stderr",
     "output_type": "stream",
     "text": [
      "\rDictClassTransformer_PUNCT fit stage 1:  74%|███████▍  | 7034868/9517064 [00:05<00:02, 1191084.34it/s]"
     ]
    },
    {
     "name": "stderr",
     "output_type": "stream",
     "text": [
      "\rDictClassTransformer_PUNCT fit stage 1:  75%|███████▌  | 7160701/9517064 [00:06<00:01, 1192202.72it/s]"
     ]
    },
    {
     "name": "stderr",
     "output_type": "stream",
     "text": [
      "\rDictClassTransformer_PUNCT fit stage 1:  77%|███████▋  | 7293817/9517064 [00:06<00:01, 1194479.55it/s]"
     ]
    },
    {
     "name": "stderr",
     "output_type": "stream",
     "text": [
      "\rDictClassTransformer_PUNCT fit stage 1:  78%|███████▊  | 7426294/9517064 [00:06<00:01, 1196578.67it/s]"
     ]
    },
    {
     "name": "stderr",
     "output_type": "stream",
     "text": [
      "\rDictClassTransformer_PUNCT fit stage 1:  79%|███████▉  | 7555264/9517064 [00:06<00:01, 1197245.02it/s]"
     ]
    },
    {
     "name": "stderr",
     "output_type": "stream",
     "text": [
      "\rDictClassTransformer_PUNCT fit stage 1:  81%|████████  | 7682656/9517064 [00:06<00:01, 1197996.59it/s]"
     ]
    },
    {
     "name": "stderr",
     "output_type": "stream",
     "text": [
      "\rDictClassTransformer_PUNCT fit stage 1:  82%|████████▏ | 7809414/9517064 [00:06<00:01, 1199064.95it/s]"
     ]
    },
    {
     "name": "stderr",
     "output_type": "stream",
     "text": [
      "\rDictClassTransformer_PUNCT fit stage 1:  83%|████████▎ | 7935992/9517064 [00:06<00:01, 1199966.36it/s]"
     ]
    },
    {
     "name": "stderr",
     "output_type": "stream",
     "text": [
      "\rDictClassTransformer_PUNCT fit stage 1:  85%|████████▍ | 8065842/9517064 [00:06<00:01, 1201434.41it/s]"
     ]
    },
    {
     "name": "stderr",
     "output_type": "stream",
     "text": [
      "\rDictClassTransformer_PUNCT fit stage 1:  86%|████████▌ | 8196486/9517064 [00:06<00:01, 1202975.57it/s]"
     ]
    },
    {
     "name": "stderr",
     "output_type": "stream",
     "text": [
      "\rDictClassTransformer_PUNCT fit stage 1:  87%|████████▋ | 8324886/9517064 [00:06<00:00, 1204147.18it/s]"
     ]
    },
    {
     "name": "stderr",
     "output_type": "stream",
     "text": [
      "\rDictClassTransformer_PUNCT fit stage 1:  89%|████████▉ | 8453269/9517064 [00:07<00:00, 1204985.41it/s]"
     ]
    },
    {
     "name": "stderr",
     "output_type": "stream",
     "text": [
      "\rDictClassTransformer_PUNCT fit stage 1:  90%|█████████ | 8584782/9517064 [00:07<00:00, 1206552.92it/s]"
     ]
    },
    {
     "name": "stderr",
     "output_type": "stream",
     "text": [
      "\rDictClassTransformer_PUNCT fit stage 1:  92%|█████████▏| 8713676/9517064 [00:07<00:00, 1207537.11it/s]"
     ]
    },
    {
     "name": "stderr",
     "output_type": "stream",
     "text": [
      "\rDictClassTransformer_PUNCT fit stage 1:  93%|█████████▎| 8844179/9517064 [00:07<00:00, 1208869.52it/s]"
     ]
    },
    {
     "name": "stderr",
     "output_type": "stream",
     "text": [
      "\rDictClassTransformer_PUNCT fit stage 1:  94%|█████████▍| 8973303/9517064 [00:07<00:00, 1209666.28it/s]"
     ]
    },
    {
     "name": "stderr",
     "output_type": "stream",
     "text": [
      "\rDictClassTransformer_PUNCT fit stage 1:  96%|█████████▌| 9102019/9517064 [00:07<00:00, 1210695.42it/s]"
     ]
    },
    {
     "name": "stderr",
     "output_type": "stream",
     "text": [
      "\rDictClassTransformer_PUNCT fit stage 1:  97%|█████████▋| 9231500/9517064 [00:07<00:00, 1211801.45it/s]"
     ]
    },
    {
     "name": "stderr",
     "output_type": "stream",
     "text": [
      "\rDictClassTransformer_PUNCT fit stage 1:  98%|█████████▊| 9360288/9517064 [00:07<00:00, 1212391.96it/s]"
     ]
    },
    {
     "name": "stderr",
     "output_type": "stream",
     "text": [
      "\rDictClassTransformer_PUNCT fit stage 1: 100%|█████████▉| 9489740/9517064 [00:07<00:00, 1213422.57it/s]"
     ]
    },
    {
     "name": "stderr",
     "output_type": "stream",
     "text": [
      "\rDictClassTransformer_PUNCT fit stage 1: 100%|██████████| 9517064/9517064 [00:08<00:00, 1186242.56it/s]"
     ]
    },
    {
     "name": "stderr",
     "output_type": "stream",
     "text": [
      "\n"
     ]
    },
    {
     "name": "stderr",
     "output_type": "stream",
     "text": [
      "\rDictClassTransformer_PUNCT fit stage 2:   0%|          | 0/22 [00:00<?, ?it/s]"
     ]
    },
    {
     "name": "stderr",
     "output_type": "stream",
     "text": [
      "\rDictClassTransformer_PUNCT fit stage 2: 100%|██████████| 22/22 [00:00<00:00, 56854.40it/s]"
     ]
    },
    {
     "name": "stderr",
     "output_type": "stream",
     "text": [
      "\n\rDictClassTransformer_VERBATIM fit stage 1:   0%|          | 0/9517064 [00:00<?, ?it/s]"
     ]
    },
    {
     "name": "stderr",
     "output_type": "stream",
     "text": [
      "\rDictClassTransformer_VERBATIM fit stage 1:   1%|          | 110275/9517064 [00:00<00:08, 1102454.04it/s]"
     ]
    },
    {
     "name": "stderr",
     "output_type": "stream",
     "text": [
      "\rDictClassTransformer_VERBATIM fit stage 1:   2%|▏         | 222194/9517064 [00:01<00:53, 175224.53it/s] "
     ]
    },
    {
     "name": "stderr",
     "output_type": "stream",
     "text": [
      "\rDictClassTransformer_VERBATIM fit stage 1:   3%|▎         | 318696/9517064 [00:01<00:39, 232958.29it/s]"
     ]
    },
    {
     "name": "stderr",
     "output_type": "stream",
     "text": [
      "\rDictClassTransformer_VERBATIM fit stage 1:   4%|▍         | 421370/9517064 [00:01<00:31, 287025.84it/s]"
     ]
    },
    {
     "name": "stderr",
     "output_type": "stream",
     "text": [
      "\rDictClassTransformer_VERBATIM fit stage 1:   5%|▌         | 513019/9517064 [00:01<00:27, 327169.42it/s]"
     ]
    },
    {
     "name": "stderr",
     "output_type": "stream",
     "text": [
      "\rDictClassTransformer_VERBATIM fit stage 1:   7%|▋         | 631492/9517064 [00:01<00:23, 378581.89it/s]"
     ]
    },
    {
     "name": "stderr",
     "output_type": "stream",
     "text": [
      "\rDictClassTransformer_VERBATIM fit stage 1:   8%|▊         | 752885/9517064 [00:01<00:20, 425825.78it/s]"
     ]
    },
    {
     "name": "stderr",
     "output_type": "stream",
     "text": [
      "\rDictClassTransformer_VERBATIM fit stage 1:   9%|▉         | 849546/9517064 [00:01<00:19, 451213.44it/s]"
     ]
    },
    {
     "name": "stderr",
     "output_type": "stream",
     "text": [
      "\rDictClassTransformer_VERBATIM fit stage 1:  10%|▉         | 942485/9517064 [00:02<00:18, 468920.71it/s]"
     ]
    },
    {
     "name": "stderr",
     "output_type": "stream",
     "text": [
      "\rDictClassTransformer_VERBATIM fit stage 1:  11%|█         | 1044010/9517064 [00:02<00:17, 494813.80it/s]"
     ]
    },
    {
     "name": "stderr",
     "output_type": "stream",
     "text": [
      "\rDictClassTransformer_VERBATIM fit stage 1:  12%|█▏        | 1172978/9517064 [00:02<00:15, 530783.32it/s]"
     ]
    },
    {
     "name": "stderr",
     "output_type": "stream",
     "text": [
      "\rDictClassTransformer_VERBATIM fit stage 1:  14%|█▎        | 1287524/9517064 [00:02<00:14, 557394.05it/s]"
     ]
    },
    {
     "name": "stderr",
     "output_type": "stream",
     "text": [
      "\rDictClassTransformer_VERBATIM fit stage 1:  15%|█▍        | 1420020/9517064 [00:02<00:13, 589244.09it/s]"
     ]
    },
    {
     "name": "stderr",
     "output_type": "stream",
     "text": [
      "\rDictClassTransformer_VERBATIM fit stage 1:  16%|█▋        | 1560702/9517064 [00:02<00:12, 621818.14it/s]"
     ]
    },
    {
     "name": "stderr",
     "output_type": "stream",
     "text": [
      "\rDictClassTransformer_VERBATIM fit stage 1:  18%|█▊        | 1698085/9517064 [00:02<00:12, 650631.02it/s]"
     ]
    },
    {
     "name": "stderr",
     "output_type": "stream",
     "text": [
      "\rDictClassTransformer_VERBATIM fit stage 1:  19%|█▉        | 1848400/9517064 [00:02<00:11, 682090.89it/s]"
     ]
    },
    {
     "name": "stderr",
     "output_type": "stream",
     "text": [
      "\rDictClassTransformer_VERBATIM fit stage 1:  21%|██        | 1986963/9517064 [00:02<00:10, 707128.46it/s]"
     ]
    },
    {
     "name": "stderr",
     "output_type": "stream",
     "text": [
      "\rDictClassTransformer_VERBATIM fit stage 1:  22%|██▏       | 2130692/9517064 [00:02<00:10, 732220.00it/s]"
     ]
    },
    {
     "name": "stderr",
     "output_type": "stream",
     "text": [
      "\rDictClassTransformer_VERBATIM fit stage 1:  24%|██▍       | 2268451/9517064 [00:03<00:09, 753530.06it/s]"
     ]
    },
    {
     "name": "stderr",
     "output_type": "stream",
     "text": [
      "\rDictClassTransformer_VERBATIM fit stage 1:  25%|██▌       | 2417787/9517064 [00:03<00:09, 777315.76it/s]"
     ]
    },
    {
     "name": "stderr",
     "output_type": "stream",
     "text": [
      "\rDictClassTransformer_VERBATIM fit stage 1:  27%|██▋       | 2565615/9517064 [00:03<00:08, 799148.68it/s]"
     ]
    },
    {
     "name": "stderr",
     "output_type": "stream",
     "text": [
      "\rDictClassTransformer_VERBATIM fit stage 1:  29%|██▊       | 2714514/9517064 [00:03<00:08, 819989.57it/s]"
     ]
    },
    {
     "name": "stderr",
     "output_type": "stream",
     "text": [
      "\rDictClassTransformer_VERBATIM fit stage 1:  30%|███       | 2867077/9517064 [00:03<00:07, 840679.81it/s]"
     ]
    },
    {
     "name": "stderr",
     "output_type": "stream",
     "text": [
      "\rDictClassTransformer_VERBATIM fit stage 1:  32%|███▏      | 3016641/9517064 [00:03<00:07, 859335.88it/s]"
     ]
    },
    {
     "name": "stderr",
     "output_type": "stream",
     "text": [
      "\rDictClassTransformer_VERBATIM fit stage 1:  33%|███▎      | 3169581/9517064 [00:03<00:07, 877896.46it/s]"
     ]
    },
    {
     "name": "stderr",
     "output_type": "stream",
     "text": [
      "\rDictClassTransformer_VERBATIM fit stage 1:  35%|███▍      | 3330012/9517064 [00:03<00:06, 897466.79it/s]"
     ]
    },
    {
     "name": "stderr",
     "output_type": "stream",
     "text": [
      "\rDictClassTransformer_VERBATIM fit stage 1:  37%|███▋      | 3482720/9517064 [00:03<00:06, 911225.17it/s]"
     ]
    },
    {
     "name": "stderr",
     "output_type": "stream",
     "text": [
      "\rDictClassTransformer_VERBATIM fit stage 1:  38%|███▊      | 3632297/9517064 [00:03<00:06, 926130.55it/s]"
     ]
    },
    {
     "name": "stderr",
     "output_type": "stream",
     "text": [
      "\rDictClassTransformer_VERBATIM fit stage 1:  40%|███▉      | 3783650/9517064 [00:04<00:06, 940716.28it/s]"
     ]
    },
    {
     "name": "stderr",
     "output_type": "stream",
     "text": [
      "\rDictClassTransformer_VERBATIM fit stage 1:  41%|████▏     | 3932964/9517064 [00:04<00:05, 954040.69it/s]"
     ]
    },
    {
     "name": "stderr",
     "output_type": "stream",
     "text": [
      "\rDictClassTransformer_VERBATIM fit stage 1:  43%|████▎     | 4082095/9517064 [00:04<00:05, 965085.41it/s]"
     ]
    },
    {
     "name": "stderr",
     "output_type": "stream",
     "text": [
      "\rDictClassTransformer_VERBATIM fit stage 1:  44%|████▍     | 4233966/9517064 [00:04<00:05, 977871.88it/s]"
     ]
    },
    {
     "name": "stderr",
     "output_type": "stream",
     "text": [
      "\rDictClassTransformer_VERBATIM fit stage 1:  46%|████▌     | 4381778/9517064 [00:04<00:05, 989038.59it/s]"
     ]
    },
    {
     "name": "stderr",
     "output_type": "stream",
     "text": [
      "\rDictClassTransformer_VERBATIM fit stage 1:  48%|████▊     | 4534292/9517064 [00:04<00:04, 1000872.14it/s]"
     ]
    },
    {
     "name": "stderr",
     "output_type": "stream",
     "text": [
      "\rDictClassTransformer_VERBATIM fit stage 1:  49%|████▉     | 4695291/9517064 [00:04<00:04, 1014027.45it/s]"
     ]
    },
    {
     "name": "stderr",
     "output_type": "stream",
     "text": [
      "\rDictClassTransformer_VERBATIM fit stage 1:  51%|█████     | 4849097/9517064 [00:04<00:04, 1025104.76it/s]"
     ]
    },
    {
     "name": "stderr",
     "output_type": "stream",
     "text": [
      "\rDictClassTransformer_VERBATIM fit stage 1:  53%|█████▎    | 5002081/9517064 [00:04<00:04, 1034849.57it/s]"
     ]
    },
    {
     "name": "stderr",
     "output_type": "stream",
     "text": [
      "\rDictClassTransformer_VERBATIM fit stage 1:  54%|█████▍    | 5155399/9517064 [00:04<00:04, 1044950.07it/s]"
     ]
    },
    {
     "name": "stderr",
     "output_type": "stream",
     "text": [
      "\rDictClassTransformer_VERBATIM fit stage 1:  56%|█████▌    | 5311519/9517064 [00:05<00:03, 1055209.00it/s]"
     ]
    },
    {
     "name": "stderr",
     "output_type": "stream",
     "text": [
      "\rDictClassTransformer_VERBATIM fit stage 1:  57%|█████▋    | 5466804/9517064 [00:05<00:03, 1064902.99it/s]"
     ]
    },
    {
     "name": "stderr",
     "output_type": "stream",
     "text": [
      "\rDictClassTransformer_VERBATIM fit stage 1:  59%|█████▉    | 5626027/9517064 [00:05<00:03, 1074978.58it/s]"
     ]
    },
    {
     "name": "stderr",
     "output_type": "stream",
     "text": [
      "\rDictClassTransformer_VERBATIM fit stage 1:  61%|██████    | 5781512/9517064 [00:05<00:03, 1082653.77it/s]"
     ]
    },
    {
     "name": "stderr",
     "output_type": "stream",
     "text": [
      "\rDictClassTransformer_VERBATIM fit stage 1:  62%|██████▏   | 5939916/9517064 [00:05<00:03, 1091870.42it/s]"
     ]
    },
    {
     "name": "stderr",
     "output_type": "stream",
     "text": [
      "\rDictClassTransformer_VERBATIM fit stage 1:  64%|██████▍   | 6097056/9517064 [00:05<00:03, 1100528.00it/s]"
     ]
    },
    {
     "name": "stderr",
     "output_type": "stream",
     "text": [
      "\rDictClassTransformer_VERBATIM fit stage 1:  66%|██████▌   | 6256439/9517064 [00:05<00:02, 1109274.28it/s]"
     ]
    },
    {
     "name": "stderr",
     "output_type": "stream",
     "text": [
      "\rDictClassTransformer_VERBATIM fit stage 1:  67%|██████▋   | 6417615/9517064 [00:05<00:02, 1118003.10it/s]"
     ]
    },
    {
     "name": "stderr",
     "output_type": "stream",
     "text": [
      "\rDictClassTransformer_VERBATIM fit stage 1:  69%|██████▉   | 6575486/9517064 [00:05<00:02, 1124844.39it/s]"
     ]
    },
    {
     "name": "stderr",
     "output_type": "stream",
     "text": [
      "\rDictClassTransformer_VERBATIM fit stage 1:  71%|███████   | 6730920/9517064 [00:05<00:02, 1128814.34it/s]"
     ]
    },
    {
     "name": "stderr",
     "output_type": "stream",
     "text": [
      "\rDictClassTransformer_VERBATIM fit stage 1:  72%|███████▏  | 6890001/9517064 [00:06<00:02, 1136435.03it/s]"
     ]
    },
    {
     "name": "stderr",
     "output_type": "stream",
     "text": [
      "\rDictClassTransformer_VERBATIM fit stage 1:  74%|███████▍  | 7049403/9517064 [00:06<00:02, 1143858.65it/s]"
     ]
    },
    {
     "name": "stderr",
     "output_type": "stream",
     "text": [
      "\rDictClassTransformer_VERBATIM fit stage 1:  76%|███████▌  | 7210988/9517064 [00:06<00:02, 1151395.41it/s]"
     ]
    },
    {
     "name": "stderr",
     "output_type": "stream",
     "text": [
      "\rDictClassTransformer_VERBATIM fit stage 1:  77%|███████▋  | 7374960/9517064 [00:06<00:01, 1159069.91it/s]"
     ]
    },
    {
     "name": "stderr",
     "output_type": "stream",
     "text": [
      "\rDictClassTransformer_VERBATIM fit stage 1:  79%|███████▉  | 7533556/9517064 [00:06<00:01, 1164767.78it/s]"
     ]
    },
    {
     "name": "stderr",
     "output_type": "stream",
     "text": [
      "\rDictClassTransformer_VERBATIM fit stage 1:  81%|████████  | 7689880/9517064 [00:06<00:01, 1170014.99it/s]"
     ]
    },
    {
     "name": "stderr",
     "output_type": "stream",
     "text": [
      "\rDictClassTransformer_VERBATIM fit stage 1:  82%|████████▏ | 7844182/9517064 [00:06<00:01, 1175604.47it/s]"
     ]
    },
    {
     "name": "stderr",
     "output_type": "stream",
     "text": [
      "\rDictClassTransformer_VERBATIM fit stage 1:  84%|████████▍ | 7999475/9517064 [00:06<00:01, 1181176.28it/s]"
     ]
    },
    {
     "name": "stderr",
     "output_type": "stream",
     "text": [
      "\rDictClassTransformer_VERBATIM fit stage 1:  86%|████████▌ | 8157335/9517064 [00:06<00:01, 1186959.51it/s]"
     ]
    },
    {
     "name": "stderr",
     "output_type": "stream",
     "text": [
      "\rDictClassTransformer_VERBATIM fit stage 1:  87%|████████▋ | 8318798/9517064 [00:06<00:01, 1193093.84it/s]"
     ]
    },
    {
     "name": "stderr",
     "output_type": "stream",
     "text": [
      "\rDictClassTransformer_VERBATIM fit stage 1:  89%|████████▉ | 8476129/9517064 [00:07<00:00, 1198416.50it/s]"
     ]
    },
    {
     "name": "stderr",
     "output_type": "stream",
     "text": [
      "\rDictClassTransformer_VERBATIM fit stage 1:  91%|█████████ | 8638523/9517064 [00:07<00:00, 1204349.80it/s]"
     ]
    },
    {
     "name": "stderr",
     "output_type": "stream",
     "text": [
      "\rDictClassTransformer_VERBATIM fit stage 1:  92%|█████████▏| 8797272/9517064 [00:07<00:00, 1208288.04it/s]"
     ]
    },
    {
     "name": "stderr",
     "output_type": "stream",
     "text": [
      "\rDictClassTransformer_VERBATIM fit stage 1:  94%|█████████▍| 8952497/9517064 [00:07<00:00, 1211610.75it/s]"
     ]
    },
    {
     "name": "stderr",
     "output_type": "stream",
     "text": [
      "\rDictClassTransformer_VERBATIM fit stage 1:  96%|█████████▌| 9104215/9517064 [00:07<00:00, 1214258.83it/s]"
     ]
    },
    {
     "name": "stderr",
     "output_type": "stream",
     "text": [
      "\rDictClassTransformer_VERBATIM fit stage 1:  97%|█████████▋| 9252239/9517064 [00:07<00:00, 1217387.70it/s]"
     ]
    },
    {
     "name": "stderr",
     "output_type": "stream",
     "text": [
      "\rDictClassTransformer_VERBATIM fit stage 1:  99%|█████████▉| 9405611/9517064 [00:07<00:00, 1221493.35it/s]"
     ]
    },
    {
     "name": "stderr",
     "output_type": "stream",
     "text": [
      "\rDictClassTransformer_VERBATIM fit stage 1: 100%|██████████| 9517064/9517064 [00:07<00:00, 1192266.87it/s]"
     ]
    },
    {
     "name": "stderr",
     "output_type": "stream",
     "text": [
      "\n\rDictClassTransformer_VERBATIM fit stage 2:   0%|          | 0/2406 [00:00<?, ?it/s]"
     ]
    },
    {
     "name": "stderr",
     "output_type": "stream",
     "text": [
      "\rDictClassTransformer_VERBATIM fit stage 2: 100%|██████████| 2406/2406 [00:00<00:00, 131648.23it/s]"
     ]
    },
    {
     "name": "stderr",
     "output_type": "stream",
     "text": [
      "\n\rDictNBHDTransformer fit stage 1:   0%|          | 0/9517064 [00:00<?, ?it/s]"
     ]
    },
    {
     "name": "stderr",
     "output_type": "stream",
     "text": [
      "\rDictNBHDTransformer fit stage 1:   0%|          | 674/9517064 [00:01<6:10:13, 428.40it/s]"
     ]
    },
    {
     "name": "stderr",
     "output_type": "stream",
     "text": [
      "\rDictNBHDTransformer fit stage 1:   0%|          | 7113/9517064 [00:03<1:11:29, 2216.99it/s]"
     ]
    },
    {
     "name": "stderr",
     "output_type": "stream",
     "text": [
      "\rDictNBHDTransformer fit stage 1:   0%|          | 22174/9517064 [00:03<23:36, 6702.32it/s] "
     ]
    },
    {
     "name": "stderr",
     "output_type": "stream",
     "text": [
      "\rDictNBHDTransformer fit stage 1:   0%|          | 36646/9517064 [00:03<14:41, 10751.63it/s]"
     ]
    },
    {
     "name": "stderr",
     "output_type": "stream",
     "text": [
      "\rDictNBHDTransformer fit stage 1:   1%|          | 50701/9517064 [00:03<10:55, 14451.25it/s]"
     ]
    },
    {
     "name": "stderr",
     "output_type": "stream",
     "text": [
      "\rDictNBHDTransformer fit stage 1:   1%|          | 65621/9517064 [00:03<08:39, 18185.52it/s]"
     ]
    },
    {
     "name": "stderr",
     "output_type": "stream",
     "text": [
      "\rDictNBHDTransformer fit stage 1:   1%|          | 82055/9517064 [00:03<07:06, 22126.64it/s]"
     ]
    },
    {
     "name": "stderr",
     "output_type": "stream",
     "text": [
      "\rDictNBHDTransformer fit stage 1:   1%|          | 96845/9517064 [00:03<06:10, 25429.12it/s]"
     ]
    },
    {
     "name": "stderr",
     "output_type": "stream",
     "text": [
      "\rDictNBHDTransformer fit stage 1:   1%|          | 112949/9517064 [00:03<05:25, 28898.80it/s]"
     ]
    },
    {
     "name": "stderr",
     "output_type": "stream",
     "text": [
      "\rDictNBHDTransformer fit stage 1:   1%|▏         | 129016/9517064 [00:04<04:51, 32186.10it/s]"
     ]
    },
    {
     "name": "stderr",
     "output_type": "stream",
     "text": [
      "\rDictNBHDTransformer fit stage 1:   2%|▏         | 144540/9517064 [00:04<04:26, 35181.23it/s]"
     ]
    },
    {
     "name": "stderr",
     "output_type": "stream",
     "text": [
      "\rDictNBHDTransformer fit stage 1:   2%|▏         | 160706/9517064 [00:04<04:05, 38186.52it/s]"
     ]
    },
    {
     "name": "stderr",
     "output_type": "stream",
     "text": [
      "\rDictNBHDTransformer fit stage 1:   2%|▏         | 176989/9517064 [00:04<03:47, 41079.50it/s]"
     ]
    },
    {
     "name": "stderr",
     "output_type": "stream",
     "text": [
      "\rDictNBHDTransformer fit stage 1:   2%|▏         | 192607/9517064 [00:04<03:33, 43670.99it/s]"
     ]
    },
    {
     "name": "stderr",
     "output_type": "stream",
     "text": [
      "\rDictNBHDTransformer fit stage 1:   2%|▏         | 209870/9517064 [00:04<03:20, 46530.17it/s]"
     ]
    },
    {
     "name": "stderr",
     "output_type": "stream",
     "text": [
      "\rDictNBHDTransformer fit stage 1:   2%|▏         | 226644/9517064 [00:04<03:08, 49159.18it/s]"
     ]
    },
    {
     "name": "stderr",
     "output_type": "stream",
     "text": [
      "\rDictNBHDTransformer fit stage 1:   3%|▎         | 243333/9517064 [00:04<02:59, 51658.53it/s]"
     ]
    },
    {
     "name": "stderr",
     "output_type": "stream",
     "text": [
      "\rDictNBHDTransformer fit stage 1:   3%|▎         | 259726/9517064 [00:04<02:51, 53965.64it/s]"
     ]
    },
    {
     "name": "stderr",
     "output_type": "stream",
     "text": [
      "\rDictNBHDTransformer fit stage 1:   3%|▎         | 276005/9517064 [00:06<03:46, 40838.40it/s]"
     ]
    },
    {
     "name": "stderr",
     "output_type": "stream",
     "text": [
      "\rDictNBHDTransformer fit stage 1:   3%|▎         | 290843/9517064 [00:06<03:37, 42406.37it/s]"
     ]
    },
    {
     "name": "stderr",
     "output_type": "stream",
     "text": [
      "\rDictNBHDTransformer fit stage 1:   3%|▎         | 306283/9517064 [00:06<03:29, 44015.82it/s]"
     ]
    },
    {
     "name": "stderr",
     "output_type": "stream",
     "text": [
      "\rDictNBHDTransformer fit stage 1:   3%|▎         | 321078/9517064 [00:07<03:22, 45488.30it/s]"
     ]
    },
    {
     "name": "stderr",
     "output_type": "stream",
     "text": [
      "\rDictNBHDTransformer fit stage 1:   4%|▎         | 337005/9517064 [00:07<03:14, 47077.72it/s]"
     ]
    },
    {
     "name": "stderr",
     "output_type": "stream",
     "text": [
      "\rDictNBHDTransformer fit stage 1:   4%|▎         | 352728/9517064 [00:07<03:08, 48595.24it/s]"
     ]
    },
    {
     "name": "stderr",
     "output_type": "stream",
     "text": [
      "\rDictNBHDTransformer fit stage 1:   4%|▍         | 367579/9517064 [00:07<03:03, 49952.78it/s]"
     ]
    },
    {
     "name": "stderr",
     "output_type": "stream",
     "text": [
      "\rDictNBHDTransformer fit stage 1:   4%|▍         | 383469/9517064 [00:07<02:57, 51413.48it/s]"
     ]
    },
    {
     "name": "stderr",
     "output_type": "stream",
     "text": [
      "\rDictNBHDTransformer fit stage 1:   4%|▍         | 398631/9517064 [00:07<02:53, 52640.20it/s]"
     ]
    },
    {
     "name": "stderr",
     "output_type": "stream",
     "text": [
      "\rDictNBHDTransformer fit stage 1:   4%|▍         | 414825/9517064 [00:07<02:48, 54064.72it/s]"
     ]
    },
    {
     "name": "stderr",
     "output_type": "stream",
     "text": [
      "\rDictNBHDTransformer fit stage 1:   5%|▍         | 430859/9517064 [00:07<02:43, 55431.98it/s]"
     ]
    },
    {
     "name": "stderr",
     "output_type": "stream",
     "text": [
      "\rDictNBHDTransformer fit stage 1:   5%|▍         | 446222/9517064 [00:07<02:40, 56540.62it/s]"
     ]
    },
    {
     "name": "stderr",
     "output_type": "stream",
     "text": [
      "\rDictNBHDTransformer fit stage 1:   5%|▍         | 460889/9517064 [00:07<02:37, 57668.27it/s]"
     ]
    },
    {
     "name": "stderr",
     "output_type": "stream",
     "text": [
      "\rDictNBHDTransformer fit stage 1:   5%|▍         | 475521/9517064 [00:08<02:33, 58739.95it/s]"
     ]
    },
    {
     "name": "stderr",
     "output_type": "stream",
     "text": [
      "\rDictNBHDTransformer fit stage 1:   5%|▌         | 491250/9517064 [00:08<02:30, 59941.44it/s]"
     ]
    },
    {
     "name": "stderr",
     "output_type": "stream",
     "text": [
      "\rDictNBHDTransformer fit stage 1:   5%|▌         | 506819/9517064 [00:08<02:27, 61096.92it/s]"
     ]
    },
    {
     "name": "stderr",
     "output_type": "stream",
     "text": [
      "\rDictNBHDTransformer fit stage 1:   5%|▌         | 522857/9517064 [00:08<02:24, 62279.49it/s]"
     ]
    },
    {
     "name": "stderr",
     "output_type": "stream",
     "text": [
      "\rDictNBHDTransformer fit stage 1:   6%|▌         | 539695/9517064 [00:08<02:21, 63528.40it/s]"
     ]
    },
    {
     "name": "stderr",
     "output_type": "stream",
     "text": [
      "\rDictNBHDTransformer fit stage 1:   6%|▌         | 555662/9517064 [00:08<02:18, 64646.86it/s]"
     ]
    },
    {
     "name": "stderr",
     "output_type": "stream",
     "text": [
      "\rDictNBHDTransformer fit stage 1:   6%|▌         | 572013/9517064 [00:08<02:15, 65783.81it/s]"
     ]
    },
    {
     "name": "stderr",
     "output_type": "stream",
     "text": [
      "\rDictNBHDTransformer fit stage 1:   6%|▌         | 588017/9517064 [00:08<02:13, 66849.26it/s]"
     ]
    },
    {
     "name": "stderr",
     "output_type": "stream",
     "text": [
      "\rDictNBHDTransformer fit stage 1:   6%|▋         | 604651/9517064 [00:08<02:11, 67967.61it/s]"
     ]
    },
    {
     "name": "stderr",
     "output_type": "stream",
     "text": [
      "\rDictNBHDTransformer fit stage 1:   7%|▋         | 621492/9517064 [00:08<02:08, 69084.09it/s]"
     ]
    },
    {
     "name": "stderr",
     "output_type": "stream",
     "text": [
      "\rDictNBHDTransformer fit stage 1:   7%|▋         | 638723/9517064 [00:09<02:06, 70218.88it/s]"
     ]
    },
    {
     "name": "stderr",
     "output_type": "stream",
     "text": [
      "\rDictNBHDTransformer fit stage 1:   7%|▋         | 655593/9517064 [00:09<02:04, 71289.72it/s]"
     ]
    },
    {
     "name": "stderr",
     "output_type": "stream",
     "text": [
      "\rDictNBHDTransformer fit stage 1:   7%|▋         | 672293/9517064 [00:11<02:27, 59872.11it/s]"
     ]
    },
    {
     "name": "stderr",
     "output_type": "stream",
     "text": [
      "\rDictNBHDTransformer fit stage 1:   7%|▋         | 688649/9517064 [00:11<02:25, 60787.34it/s]"
     ]
    },
    {
     "name": "stderr",
     "output_type": "stream",
     "text": [
      "\rDictNBHDTransformer fit stage 1:   7%|▋         | 704340/9517064 [00:11<02:22, 61628.37it/s]"
     ]
    },
    {
     "name": "stderr",
     "output_type": "stream",
     "text": [
      "\rDictNBHDTransformer fit stage 1:   8%|▊         | 721927/9517064 [00:11<02:20, 62619.28it/s]"
     ]
    },
    {
     "name": "stderr",
     "output_type": "stream",
     "text": [
      "\rDictNBHDTransformer fit stage 1:   8%|▊         | 737812/9517064 [00:11<02:18, 63446.79it/s]"
     ]
    },
    {
     "name": "stderr",
     "output_type": "stream",
     "text": [
      "\rDictNBHDTransformer fit stage 1:   8%|▊         | 754029/9517064 [00:11<02:16, 64288.47it/s]"
     ]
    },
    {
     "name": "stderr",
     "output_type": "stream",
     "text": [
      "\rDictNBHDTransformer fit stage 1:   8%|▊         | 771633/9517064 [00:11<02:14, 65233.21it/s]"
     ]
    },
    {
     "name": "stderr",
     "output_type": "stream",
     "text": [
      "\rDictNBHDTransformer fit stage 1:   8%|▊         | 788941/9517064 [00:11<02:11, 66137.28it/s]"
     ]
    },
    {
     "name": "stderr",
     "output_type": "stream",
     "text": [
      "\rDictNBHDTransformer fit stage 1:   8%|▊         | 805467/9517064 [00:12<02:10, 66949.80it/s]"
     ]
    },
    {
     "name": "stderr",
     "output_type": "stream",
     "text": [
      "\rDictNBHDTransformer fit stage 1:   9%|▊         | 821893/9517064 [00:12<02:09, 67365.10it/s]"
     ]
    },
    {
     "name": "stderr",
     "output_type": "stream",
     "text": [
      "\rDictNBHDTransformer fit stage 1:   9%|▉         | 838765/9517064 [00:12<02:07, 68189.08it/s]"
     ]
    },
    {
     "name": "stderr",
     "output_type": "stream",
     "text": [
      "\rDictNBHDTransformer fit stage 1:   9%|▉         | 855767/9517064 [00:12<02:05, 69010.22it/s]"
     ]
    },
    {
     "name": "stderr",
     "output_type": "stream",
     "text": [
      "\rDictNBHDTransformer fit stage 1:   9%|▉         | 872684/9517064 [00:12<02:03, 69811.43it/s]"
     ]
    },
    {
     "name": "stderr",
     "output_type": "stream",
     "text": [
      "\rDictNBHDTransformer fit stage 1:   9%|▉         | 889763/9517064 [00:12<02:02, 70612.82it/s]"
     ]
    },
    {
     "name": "stderr",
     "output_type": "stream",
     "text": [
      "\rDictNBHDTransformer fit stage 1:  10%|▉         | 907051/9517064 [00:12<02:00, 71418.00it/s]"
     ]
    },
    {
     "name": "stderr",
     "output_type": "stream",
     "text": [
      "\rDictNBHDTransformer fit stage 1:  10%|▉         | 924229/9517064 [00:12<01:59, 72202.03it/s]"
     ]
    },
    {
     "name": "stderr",
     "output_type": "stream",
     "text": [
      "\rDictNBHDTransformer fit stage 1:  10%|▉         | 941460/9517064 [00:12<01:57, 72978.01it/s]"
     ]
    },
    {
     "name": "stderr",
     "output_type": "stream",
     "text": [
      "\rDictNBHDTransformer fit stage 1:  10%|█         | 958393/9517064 [00:13<01:56, 73701.40it/s]"
     ]
    },
    {
     "name": "stderr",
     "output_type": "stream",
     "text": [
      "\rDictNBHDTransformer fit stage 1:  10%|█         | 975172/9517064 [00:13<01:54, 74415.63it/s]"
     ]
    },
    {
     "name": "stderr",
     "output_type": "stream",
     "text": [
      "\rDictNBHDTransformer fit stage 1:  10%|█         | 991918/9517064 [00:13<01:53, 75097.71it/s]"
     ]
    },
    {
     "name": "stderr",
     "output_type": "stream",
     "text": [
      "\rDictNBHDTransformer fit stage 1:  11%|█         | 1008473/9517064 [00:13<01:52, 75769.16it/s]"
     ]
    },
    {
     "name": "stderr",
     "output_type": "stream",
     "text": [
      "\rDictNBHDTransformer fit stage 1:  11%|█         | 1025149/9517064 [00:13<01:51, 76447.72it/s]"
     ]
    },
    {
     "name": "stderr",
     "output_type": "stream",
     "text": [
      "\rDictNBHDTransformer fit stage 1:  11%|█         | 1042015/9517064 [00:13<01:49, 77130.27it/s]"
     ]
    },
    {
     "name": "stderr",
     "output_type": "stream",
     "text": [
      "\rDictNBHDTransformer fit stage 1:  11%|█         | 1058654/9517064 [00:13<01:48, 77772.31it/s]"
     ]
    },
    {
     "name": "stderr",
     "output_type": "stream",
     "text": [
      "\rDictNBHDTransformer fit stage 1:  11%|█▏        | 1075562/9517064 [00:13<01:47, 78436.49it/s]"
     ]
    },
    {
     "name": "stderr",
     "output_type": "stream",
     "text": [
      "\rDictNBHDTransformer fit stage 1:  11%|█▏        | 1092198/9517064 [00:13<01:46, 79045.38it/s]"
     ]
    },
    {
     "name": "stderr",
     "output_type": "stream",
     "text": [
      "\rDictNBHDTransformer fit stage 1:  12%|█▏        | 1109087/9517064 [00:13<01:45, 79690.98it/s]"
     ]
    },
    {
     "name": "stderr",
     "output_type": "stream",
     "text": [
      "\rDictNBHDTransformer fit stage 1:  12%|█▏        | 1125648/9517064 [00:14<01:44, 80303.95it/s]"
     ]
    },
    {
     "name": "stderr",
     "output_type": "stream",
     "text": [
      "\rDictNBHDTransformer fit stage 1:  12%|█▏        | 1142503/9517064 [00:14<01:43, 80928.84it/s]"
     ]
    },
    {
     "name": "stderr",
     "output_type": "stream",
     "text": [
      "\rDictNBHDTransformer fit stage 1:  12%|█▏        | 1159352/9517064 [00:14<01:42, 81544.66it/s]"
     ]
    },
    {
     "name": "stderr",
     "output_type": "stream",
     "text": [
      "\rDictNBHDTransformer fit stage 1:  12%|█▏        | 1176053/9517064 [00:16<01:56, 71346.77it/s]"
     ]
    },
    {
     "name": "stderr",
     "output_type": "stream",
     "text": [
      "\rDictNBHDTransformer fit stage 1:  13%|█▎        | 1191917/9517064 [00:16<01:55, 71873.12it/s]"
     ]
    },
    {
     "name": "stderr",
     "output_type": "stream",
     "text": [
      "\rDictNBHDTransformer fit stage 1:  13%|█▎        | 1206082/9517064 [00:16<01:54, 72291.30it/s]"
     ]
    },
    {
     "name": "stderr",
     "output_type": "stream",
     "text": [
      "\rDictNBHDTransformer fit stage 1:  13%|█▎        | 1221069/9517064 [00:16<01:54, 72753.57it/s]"
     ]
    },
    {
     "name": "stderr",
     "output_type": "stream",
     "text": [
      "\rDictNBHDTransformer fit stage 1:  13%|█▎        | 1234958/9517064 [00:16<01:53, 72997.05it/s]"
     ]
    },
    {
     "name": "stderr",
     "output_type": "stream",
     "text": [
      "\rDictNBHDTransformer fit stage 1:  13%|█▎        | 1247783/9517064 [00:17<01:52, 73316.70it/s]"
     ]
    },
    {
     "name": "stderr",
     "output_type": "stream",
     "text": [
      "\rDictNBHDTransformer fit stage 1:  13%|█▎        | 1260564/9517064 [00:17<01:52, 73589.71it/s]"
     ]
    },
    {
     "name": "stderr",
     "output_type": "stream",
     "text": [
      "\rDictNBHDTransformer fit stage 1:  13%|█▎        | 1272979/9517064 [00:17<01:51, 73658.16it/s]"
     ]
    },
    {
     "name": "stderr",
     "output_type": "stream",
     "text": [
      "\rDictNBHDTransformer fit stage 1:  13%|█▎        | 1284111/9517064 [00:17<01:51, 73855.87it/s]"
     ]
    },
    {
     "name": "stderr",
     "output_type": "stream",
     "text": [
      "\rDictNBHDTransformer fit stage 1:  14%|█▎        | 1300075/9517064 [00:17<01:50, 74346.36it/s]"
     ]
    },
    {
     "name": "stderr",
     "output_type": "stream",
     "text": [
      "\rDictNBHDTransformer fit stage 1:  14%|█▍        | 1312556/9517064 [00:17<01:50, 74384.86it/s]"
     ]
    },
    {
     "name": "stderr",
     "output_type": "stream",
     "text": [
      "\rDictNBHDTransformer fit stage 1:  14%|█▍        | 1323652/9517064 [00:17<01:49, 74586.94it/s]"
     ]
    },
    {
     "name": "stderr",
     "output_type": "stream",
     "text": [
      "\rDictNBHDTransformer fit stage 1:  14%|█▍        | 1339755/9517064 [00:17<01:48, 75071.34it/s]"
     ]
    },
    {
     "name": "stderr",
     "output_type": "stream",
     "text": [
      "\rDictNBHDTransformer fit stage 1:  14%|█▍        | 1352331/9517064 [00:17<01:48, 75351.65it/s]"
     ]
    },
    {
     "name": "stderr",
     "output_type": "stream",
     "text": [
      "\rDictNBHDTransformer fit stage 1:  14%|█▍        | 1364888/9517064 [00:18<01:47, 75579.19it/s]"
     ]
    },
    {
     "name": "stderr",
     "output_type": "stream",
     "text": [
      "\rDictNBHDTransformer fit stage 1:  14%|█▍        | 1378548/9517064 [00:18<01:47, 75915.07it/s]"
     ]
    },
    {
     "name": "stderr",
     "output_type": "stream",
     "text": [
      "\rDictNBHDTransformer fit stage 1:  15%|█▍        | 1392796/9517064 [00:18<01:46, 76279.63it/s]"
     ]
    },
    {
     "name": "stderr",
     "output_type": "stream",
     "text": [
      "\rDictNBHDTransformer fit stage 1:  15%|█▍        | 1405892/9517064 [00:18<01:45, 76574.32it/s]"
     ]
    },
    {
     "name": "stderr",
     "output_type": "stream",
     "text": [
      "\rDictNBHDTransformer fit stage 1:  15%|█▍        | 1419570/9517064 [00:18<01:45, 76900.44it/s]"
     ]
    },
    {
     "name": "stderr",
     "output_type": "stream",
     "text": [
      "\rDictNBHDTransformer fit stage 1:  15%|█▌        | 1433264/9517064 [00:18<01:44, 77223.88it/s]"
     ]
    },
    {
     "name": "stderr",
     "output_type": "stream",
     "text": [
      "\rDictNBHDTransformer fit stage 1:  15%|█▌        | 1446647/9517064 [00:18<01:44, 77446.41it/s]"
     ]
    },
    {
     "name": "stderr",
     "output_type": "stream",
     "text": [
      "\rDictNBHDTransformer fit stage 1:  15%|█▌        | 1459376/9517064 [00:18<01:43, 77618.50it/s]"
     ]
    },
    {
     "name": "stderr",
     "output_type": "stream",
     "text": [
      "\rDictNBHDTransformer fit stage 1:  15%|█▌        | 1471402/9517064 [00:18<01:43, 77835.87it/s]"
     ]
    },
    {
     "name": "stderr",
     "output_type": "stream",
     "text": [
      "\rDictNBHDTransformer fit stage 1:  16%|█▌        | 1483366/9517064 [00:19<01:42, 78054.55it/s]"
     ]
    },
    {
     "name": "stderr",
     "output_type": "stream",
     "text": [
      "\rDictNBHDTransformer fit stage 1:  16%|█▌        | 1495323/9517064 [00:19<01:42, 78252.50it/s]"
     ]
    },
    {
     "name": "stderr",
     "output_type": "stream",
     "text": [
      "\rDictNBHDTransformer fit stage 1:  16%|█▌        | 1507438/9517064 [00:19<01:42, 78477.96it/s]"
     ]
    },
    {
     "name": "stderr",
     "output_type": "stream",
     "text": [
      "\rDictNBHDTransformer fit stage 1:  16%|█▌        | 1520280/9517064 [00:19<01:41, 78736.21it/s]"
     ]
    },
    {
     "name": "stderr",
     "output_type": "stream",
     "text": [
      "\rDictNBHDTransformer fit stage 1:  16%|█▌        | 1532458/9517064 [00:19<01:41, 78954.57it/s]"
     ]
    },
    {
     "name": "stderr",
     "output_type": "stream",
     "text": [
      "\rDictNBHDTransformer fit stage 1:  16%|█▌        | 1544604/9517064 [00:19<01:40, 79171.86it/s]"
     ]
    },
    {
     "name": "stderr",
     "output_type": "stream",
     "text": [
      "\rDictNBHDTransformer fit stage 1:  16%|█▋        | 1556746/9517064 [00:19<01:40, 79362.73it/s]"
     ]
    },
    {
     "name": "stderr",
     "output_type": "stream",
     "text": [
      "\rDictNBHDTransformer fit stage 1:  17%|█▋        | 1572612/9517064 [00:19<01:39, 79764.44it/s]"
     ]
    },
    {
     "name": "stderr",
     "output_type": "stream",
     "text": [
      "\rDictNBHDTransformer fit stage 1:  17%|█▋        | 1589195/9517064 [00:19<01:38, 80199.32it/s]"
     ]
    },
    {
     "name": "stderr",
     "output_type": "stream",
     "text": [
      "\rDictNBHDTransformer fit stage 1:  17%|█▋        | 1603349/9517064 [00:19<01:38, 80505.52it/s]"
     ]
    },
    {
     "name": "stderr",
     "output_type": "stream",
     "text": [
      "\rDictNBHDTransformer fit stage 1:  17%|█▋        | 1619775/9517064 [00:20<01:37, 80923.86it/s]"
     ]
    },
    {
     "name": "stderr",
     "output_type": "stream",
     "text": [
      "\rDictNBHDTransformer fit stage 1:  17%|█▋        | 1634597/9517064 [00:20<01:37, 81190.51it/s]"
     ]
    },
    {
     "name": "stderr",
     "output_type": "stream",
     "text": [
      "\rDictNBHDTransformer fit stage 1:  17%|█▋        | 1650064/9517064 [00:20<01:36, 81553.66it/s]"
     ]
    },
    {
     "name": "stderr",
     "output_type": "stream",
     "text": [
      "\rDictNBHDTransformer fit stage 1:  18%|█▊        | 1665879/9517064 [00:20<01:35, 81930.36it/s]"
     ]
    },
    {
     "name": "stderr",
     "output_type": "stream",
     "text": [
      "\rDictNBHDTransformer fit stage 1:  18%|█▊        | 1680821/9517064 [00:20<01:36, 81483.02it/s]"
     ]
    },
    {
     "name": "stderr",
     "output_type": "stream",
     "text": [
      "\rDictNBHDTransformer fit stage 1:  18%|█▊        | 1696438/9517064 [00:20<01:35, 81843.38it/s]"
     ]
    },
    {
     "name": "stderr",
     "output_type": "stream",
     "text": [
      "\rDictNBHDTransformer fit stage 1:  18%|█▊        | 1711531/9517064 [00:20<01:34, 82175.05it/s]"
     ]
    },
    {
     "name": "stderr",
     "output_type": "stream",
     "text": [
      "\rDictNBHDTransformer fit stage 1:  18%|█▊        | 1727534/9517064 [00:20<01:34, 82547.05it/s]"
     ]
    },
    {
     "name": "stderr",
     "output_type": "stream",
     "text": [
      "\rDictNBHDTransformer fit stage 1:  18%|█▊        | 1743656/9517064 [00:21<01:33, 82921.19it/s]"
     ]
    },
    {
     "name": "stderr",
     "output_type": "stream",
     "text": [
      "\rDictNBHDTransformer fit stage 1:  18%|█▊        | 1760400/9517064 [00:21<01:33, 83321.20it/s]"
     ]
    },
    {
     "name": "stderr",
     "output_type": "stream",
     "text": [
      "\rDictNBHDTransformer fit stage 1:  19%|█▊        | 1777226/9517064 [00:21<01:32, 83721.24it/s]"
     ]
    },
    {
     "name": "stderr",
     "output_type": "stream",
     "text": [
      "\rDictNBHDTransformer fit stage 1:  19%|█▉        | 1793090/9517064 [00:21<01:31, 84034.12it/s]"
     ]
    },
    {
     "name": "stderr",
     "output_type": "stream",
     "text": [
      "\rDictNBHDTransformer fit stage 1:  19%|█▉        | 1810415/9517064 [00:21<01:31, 84449.72it/s]"
     ]
    },
    {
     "name": "stderr",
     "output_type": "stream",
     "text": [
      "\rDictNBHDTransformer fit stage 1:  19%|█▉        | 1827626/9517064 [00:21<01:30, 84856.72it/s]"
     ]
    },
    {
     "name": "stderr",
     "output_type": "stream",
     "text": [
      "\rDictNBHDTransformer fit stage 1:  19%|█▉        | 1843989/9517064 [00:21<01:30, 85212.58it/s]"
     ]
    },
    {
     "name": "stderr",
     "output_type": "stream",
     "text": [
      "\rDictNBHDTransformer fit stage 1:  20%|█▉        | 1860253/9517064 [00:24<01:39, 77193.40it/s]"
     ]
    },
    {
     "name": "stderr",
     "output_type": "stream",
     "text": [
      "\rDictNBHDTransformer fit stage 1:  20%|█▉        | 1875993/9517064 [00:24<01:38, 77524.82it/s]"
     ]
    },
    {
     "name": "stderr",
     "output_type": "stream",
     "text": [
      "\rDictNBHDTransformer fit stage 1:  20%|█▉        | 1888823/9517064 [00:24<01:38, 77723.63it/s]"
     ]
    },
    {
     "name": "stderr",
     "output_type": "stream",
     "text": [
      "\rDictNBHDTransformer fit stage 1:  20%|█▉        | 1903354/9517064 [00:24<01:37, 78000.58it/s]"
     ]
    },
    {
     "name": "stderr",
     "output_type": "stream",
     "text": [
      "\rDictNBHDTransformer fit stage 1:  20%|██        | 1918828/9517064 [00:24<01:37, 78313.85it/s]"
     ]
    },
    {
     "name": "stderr",
     "output_type": "stream",
     "text": [
      "\rDictNBHDTransformer fit stage 1:  20%|██        | 1935144/9517064 [00:24<01:36, 78658.71it/s]"
     ]
    },
    {
     "name": "stderr",
     "output_type": "stream",
     "text": [
      "\rDictNBHDTransformer fit stage 1:  21%|██        | 1951986/9517064 [00:24<01:35, 79022.06it/s]"
     ]
    },
    {
     "name": "stderr",
     "output_type": "stream",
     "text": [
      "\rDictNBHDTransformer fit stage 1:  21%|██        | 1968943/9517064 [00:24<01:35, 79387.12it/s]"
     ]
    },
    {
     "name": "stderr",
     "output_type": "stream",
     "text": [
      "\rDictNBHDTransformer fit stage 1:  21%|██        | 1986498/9517064 [00:24<01:34, 79773.30it/s]"
     ]
    },
    {
     "name": "stderr",
     "output_type": "stream",
     "text": [
      "\rDictNBHDTransformer fit stage 1:  21%|██        | 2003770/9517064 [00:25<01:33, 80145.05it/s]"
     ]
    },
    {
     "name": "stderr",
     "output_type": "stream",
     "text": [
      "\rDictNBHDTransformer fit stage 1:  21%|██        | 2020379/9517064 [00:25<01:33, 80419.53it/s]"
     ]
    },
    {
     "name": "stderr",
     "output_type": "stream",
     "text": [
      "\rDictNBHDTransformer fit stage 1:  21%|██▏       | 2036717/9517064 [00:25<01:32, 80748.44it/s]"
     ]
    },
    {
     "name": "stderr",
     "output_type": "stream",
     "text": [
      "\rDictNBHDTransformer fit stage 1:  22%|██▏       | 2053701/9517064 [00:25<01:32, 81100.25it/s]"
     ]
    },
    {
     "name": "stderr",
     "output_type": "stream",
     "text": [
      "\rDictNBHDTransformer fit stage 1:  22%|██▏       | 2070458/9517064 [00:25<01:31, 81440.37it/s]"
     ]
    },
    {
     "name": "stderr",
     "output_type": "stream",
     "text": [
      "\rDictNBHDTransformer fit stage 1:  22%|██▏       | 2086852/9517064 [00:25<01:30, 81750.02it/s]"
     ]
    },
    {
     "name": "stderr",
     "output_type": "stream",
     "text": [
      "\rDictNBHDTransformer fit stage 1:  22%|██▏       | 2104096/9517064 [00:25<01:30, 82103.09it/s]"
     ]
    },
    {
     "name": "stderr",
     "output_type": "stream",
     "text": [
      "\rDictNBHDTransformer fit stage 1:  22%|██▏       | 2121065/9517064 [00:25<01:29, 82443.58it/s]"
     ]
    },
    {
     "name": "stderr",
     "output_type": "stream",
     "text": [
      "\rDictNBHDTransformer fit stage 1:  22%|██▏       | 2138024/9517064 [00:25<01:29, 82780.99it/s]"
     ]
    },
    {
     "name": "stderr",
     "output_type": "stream",
     "text": [
      "\rDictNBHDTransformer fit stage 1:  23%|██▎       | 2155274/9517064 [00:25<01:28, 83127.02it/s]"
     ]
    },
    {
     "name": "stderr",
     "output_type": "stream",
     "text": [
      "\rDictNBHDTransformer fit stage 1:  23%|██▎       | 2173020/9517064 [00:26<01:27, 83489.40it/s]"
     ]
    },
    {
     "name": "stderr",
     "output_type": "stream",
     "text": [
      "\rDictNBHDTransformer fit stage 1:  23%|██▎       | 2190166/9517064 [00:26<01:27, 83824.38it/s]"
     ]
    },
    {
     "name": "stderr",
     "output_type": "stream",
     "text": [
      "\rDictNBHDTransformer fit stage 1:  23%|██▎       | 2207761/9517064 [00:26<01:26, 84175.64it/s]"
     ]
    },
    {
     "name": "stderr",
     "output_type": "stream",
     "text": [
      "\rDictNBHDTransformer fit stage 1:  23%|██▎       | 2225023/9517064 [00:26<01:26, 84430.72it/s]"
     ]
    },
    {
     "name": "stderr",
     "output_type": "stream",
     "text": [
      "\rDictNBHDTransformer fit stage 1:  24%|██▎       | 2241242/9517064 [00:26<01:25, 84717.04it/s]"
     ]
    },
    {
     "name": "stderr",
     "output_type": "stream",
     "text": [
      "\rDictNBHDTransformer fit stage 1:  24%|██▎       | 2257348/9517064 [00:26<01:25, 84913.81it/s]"
     ]
    },
    {
     "name": "stderr",
     "output_type": "stream",
     "text": [
      "\rDictNBHDTransformer fit stage 1:  24%|██▍       | 2272387/9517064 [00:26<01:25, 85059.17it/s]"
     ]
    },
    {
     "name": "stderr",
     "output_type": "stream",
     "text": [
      "\rDictNBHDTransformer fit stage 1:  24%|██▍       | 2286348/9517064 [00:26<01:24, 85233.85it/s]"
     ]
    },
    {
     "name": "stderr",
     "output_type": "stream",
     "text": [
      "\rDictNBHDTransformer fit stage 1:  24%|██▍       | 2299962/9517064 [00:26<01:24, 85325.69it/s]"
     ]
    },
    {
     "name": "stderr",
     "output_type": "stream",
     "text": [
      "\rDictNBHDTransformer fit stage 1:  24%|██▍       | 2312618/9517064 [00:27<01:24, 85437.56it/s]"
     ]
    },
    {
     "name": "stderr",
     "output_type": "stream",
     "text": [
      "\rDictNBHDTransformer fit stage 1:  24%|██▍       | 2328329/9517064 [00:27<01:23, 85701.35it/s]"
     ]
    },
    {
     "name": "stderr",
     "output_type": "stream",
     "text": [
      "\rDictNBHDTransformer fit stage 1:  25%|██▍       | 2344523/9517064 [00:27<01:23, 85980.92it/s]"
     ]
    },
    {
     "name": "stderr",
     "output_type": "stream",
     "text": [
      "\rDictNBHDTransformer fit stage 1:  25%|██▍       | 2361057/9517064 [00:27<01:22, 86270.88it/s]"
     ]
    },
    {
     "name": "stderr",
     "output_type": "stream",
     "text": [
      "\rDictNBHDTransformer fit stage 1:  25%|██▍       | 2376132/9517064 [00:27<01:22, 86505.55it/s]"
     ]
    },
    {
     "name": "stderr",
     "output_type": "stream",
     "text": [
      "\rDictNBHDTransformer fit stage 1:  25%|██▌       | 2393066/9517064 [00:27<01:22, 86806.07it/s]"
     ]
    },
    {
     "name": "stderr",
     "output_type": "stream",
     "text": [
      "\rDictNBHDTransformer fit stage 1:  25%|██▌       | 2410737/9517064 [00:27<01:21, 87131.01it/s]"
     ]
    },
    {
     "name": "stderr",
     "output_type": "stream",
     "text": [
      "\rDictNBHDTransformer fit stage 1:  26%|██▌       | 2427389/9517064 [00:27<01:21, 87416.86it/s]"
     ]
    },
    {
     "name": "stderr",
     "output_type": "stream",
     "text": [
      "\rDictNBHDTransformer fit stage 1:  26%|██▌       | 2444701/9517064 [00:27<01:20, 87724.38it/s]"
     ]
    },
    {
     "name": "stderr",
     "output_type": "stream",
     "text": [
      "\rDictNBHDTransformer fit stage 1:  26%|██▌       | 2463060/9517064 [00:27<01:20, 88067.00it/s]"
     ]
    },
    {
     "name": "stderr",
     "output_type": "stream",
     "text": [
      "\rDictNBHDTransformer fit stage 1:  26%|██▌       | 2480374/9517064 [00:28<01:19, 88370.19it/s]"
     ]
    },
    {
     "name": "stderr",
     "output_type": "stream",
     "text": [
      "\rDictNBHDTransformer fit stage 1:  26%|██▌       | 2497947/9517064 [00:28<01:19, 88680.33it/s]"
     ]
    },
    {
     "name": "stderr",
     "output_type": "stream",
     "text": [
      "\rDictNBHDTransformer fit stage 1:  26%|██▋       | 2515252/9517064 [00:28<01:18, 88971.84it/s]"
     ]
    },
    {
     "name": "stderr",
     "output_type": "stream",
     "text": [
      "\rDictNBHDTransformer fit stage 1:  27%|██▋       | 2532445/9517064 [00:28<01:18, 89262.22it/s]"
     ]
    },
    {
     "name": "stderr",
     "output_type": "stream",
     "text": [
      "\rDictNBHDTransformer fit stage 1:  27%|██▋       | 2549613/9517064 [00:28<01:17, 89546.90it/s]"
     ]
    },
    {
     "name": "stderr",
     "output_type": "stream",
     "text": [
      "\rDictNBHDTransformer fit stage 1:  27%|██▋       | 2566696/9517064 [00:28<01:17, 89818.80it/s]"
     ]
    },
    {
     "name": "stderr",
     "output_type": "stream",
     "text": [
      "\rDictNBHDTransformer fit stage 1:  27%|██▋       | 2584261/9517064 [00:28<01:16, 90118.09it/s]"
     ]
    },
    {
     "name": "stderr",
     "output_type": "stream",
     "text": [
      "\rDictNBHDTransformer fit stage 1:  27%|██▋       | 2601351/9517064 [00:28<01:16, 90389.45it/s]"
     ]
    },
    {
     "name": "stderr",
     "output_type": "stream",
     "text": [
      "\rDictNBHDTransformer fit stage 1:  28%|██▊       | 2618293/9517064 [00:28<01:16, 90661.85it/s]"
     ]
    },
    {
     "name": "stderr",
     "output_type": "stream",
     "text": [
      "\rDictNBHDTransformer fit stage 1:  28%|██▊       | 2635215/9517064 [00:28<01:15, 90916.33it/s]"
     ]
    },
    {
     "name": "stderr",
     "output_type": "stream",
     "text": [
      "\rDictNBHDTransformer fit stage 1:  28%|██▊       | 2651882/9517064 [00:29<01:15, 91159.95it/s]"
     ]
    },
    {
     "name": "stderr",
     "output_type": "stream",
     "text": [
      "\rDictNBHDTransformer fit stage 1:  28%|██▊       | 2668294/9517064 [00:29<01:14, 91400.46it/s]"
     ]
    },
    {
     "name": "stderr",
     "output_type": "stream",
     "text": [
      "\rDictNBHDTransformer fit stage 1:  28%|██▊       | 2686167/9517064 [00:29<01:14, 91698.56it/s]"
     ]
    },
    {
     "name": "stderr",
     "output_type": "stream",
     "text": [
      "\rDictNBHDTransformer fit stage 1:  28%|██▊       | 2702916/9517064 [00:32<01:21, 83445.36it/s]"
     ]
    },
    {
     "name": "stderr",
     "output_type": "stream",
     "text": [
      "\rDictNBHDTransformer fit stage 1:  29%|██▊       | 2719258/9517064 [00:32<01:21, 83691.49it/s]"
     ]
    },
    {
     "name": "stderr",
     "output_type": "stream",
     "text": [
      "\rDictNBHDTransformer fit stage 1:  29%|██▊       | 2734890/9517064 [00:32<01:20, 83914.30it/s]"
     ]
    },
    {
     "name": "stderr",
     "output_type": "stream",
     "text": [
      "\rDictNBHDTransformer fit stage 1:  29%|██▉       | 2751077/9517064 [00:32<01:20, 84152.76it/s]"
     ]
    },
    {
     "name": "stderr",
     "output_type": "stream",
     "text": [
      "\rDictNBHDTransformer fit stage 1:  29%|██▉       | 2766572/9517064 [00:32<01:20, 84368.66it/s]"
     ]
    },
    {
     "name": "stderr",
     "output_type": "stream",
     "text": [
      "\rDictNBHDTransformer fit stage 1:  29%|██▉       | 2782469/9517064 [00:32<01:19, 84595.44it/s]"
     ]
    },
    {
     "name": "stderr",
     "output_type": "stream",
     "text": [
      "\rDictNBHDTransformer fit stage 1:  29%|██▉       | 2799064/9517064 [00:32<01:19, 84841.92it/s]"
     ]
    },
    {
     "name": "stderr",
     "output_type": "stream",
     "text": [
      "\rDictNBHDTransformer fit stage 1:  30%|██▉       | 2815737/9517064 [00:33<01:18, 85089.35it/s]"
     ]
    },
    {
     "name": "stderr",
     "output_type": "stream",
     "text": [
      "\rDictNBHDTransformer fit stage 1:  30%|██▉       | 2831664/9517064 [00:33<01:18, 85268.78it/s]"
     ]
    },
    {
     "name": "stderr",
     "output_type": "stream",
     "text": [
      "\rDictNBHDTransformer fit stage 1:  30%|██▉       | 2846891/9517064 [00:33<01:18, 85440.25it/s]"
     ]
    },
    {
     "name": "stderr",
     "output_type": "stream",
     "text": [
      "\rDictNBHDTransformer fit stage 1:  30%|███       | 2863557/9517064 [00:33<01:17, 85683.23it/s]"
     ]
    },
    {
     "name": "stderr",
     "output_type": "stream",
     "text": [
      "\rDictNBHDTransformer fit stage 1:  30%|███       | 2879836/9517064 [00:33<01:17, 85913.30it/s]"
     ]
    },
    {
     "name": "stderr",
     "output_type": "stream",
     "text": [
      "\rDictNBHDTransformer fit stage 1:  30%|███       | 2895449/9517064 [00:33<01:16, 86115.22it/s]"
     ]
    },
    {
     "name": "stderr",
     "output_type": "stream",
     "text": [
      "\rDictNBHDTransformer fit stage 1:  31%|███       | 2911629/9517064 [00:33<01:16, 86339.61it/s]"
     ]
    },
    {
     "name": "stderr",
     "output_type": "stream",
     "text": [
      "\rDictNBHDTransformer fit stage 1:  31%|███       | 2927326/9517064 [00:33<01:16, 86511.81it/s]"
     ]
    },
    {
     "name": "stderr",
     "output_type": "stream",
     "text": [
      "\rDictNBHDTransformer fit stage 1:  31%|███       | 2943883/9517064 [00:33<01:15, 86744.76it/s]"
     ]
    },
    {
     "name": "stderr",
     "output_type": "stream",
     "text": [
      "\rDictNBHDTransformer fit stage 1:  31%|███       | 2959956/9517064 [00:34<01:15, 86961.99it/s]"
     ]
    },
    {
     "name": "stderr",
     "output_type": "stream",
     "text": [
      "\rDictNBHDTransformer fit stage 1:  31%|███▏      | 2975657/9517064 [00:34<01:15, 87161.42it/s]"
     ]
    },
    {
     "name": "stderr",
     "output_type": "stream",
     "text": [
      "\rDictNBHDTransformer fit stage 1:  31%|███▏      | 2991877/9517064 [00:34<01:14, 87380.59it/s]"
     ]
    },
    {
     "name": "stderr",
     "output_type": "stream",
     "text": [
      "\rDictNBHDTransformer fit stage 1:  32%|███▏      | 3007660/9517064 [00:34<01:14, 87583.68it/s]"
     ]
    },
    {
     "name": "stderr",
     "output_type": "stream",
     "text": [
      "\rDictNBHDTransformer fit stage 1:  32%|███▏      | 3023411/9517064 [00:34<01:14, 87735.26it/s]"
     ]
    },
    {
     "name": "stderr",
     "output_type": "stream",
     "text": [
      "\rDictNBHDTransformer fit stage 1:  32%|███▏      | 3038626/9517064 [00:34<01:13, 87921.65it/s]"
     ]
    },
    {
     "name": "stderr",
     "output_type": "stream",
     "text": [
      "\rDictNBHDTransformer fit stage 1:  32%|███▏      | 3055636/9517064 [00:34<01:13, 88158.74it/s]"
     ]
    },
    {
     "name": "stderr",
     "output_type": "stream",
     "text": [
      "\rDictNBHDTransformer fit stage 1:  32%|███▏      | 3071498/9517064 [00:34<01:12, 88361.26it/s]"
     ]
    },
    {
     "name": "stderr",
     "output_type": "stream",
     "text": [
      "\rDictNBHDTransformer fit stage 1:  32%|███▏      | 3088126/9517064 [00:34<01:12, 88584.71it/s]"
     ]
    },
    {
     "name": "stderr",
     "output_type": "stream",
     "text": [
      "\rDictNBHDTransformer fit stage 1:  33%|███▎      | 3104100/9517064 [00:34<01:12, 88692.17it/s]"
     ]
    },
    {
     "name": "stderr",
     "output_type": "stream",
     "text": [
      "\rDictNBHDTransformer fit stage 1:  33%|███▎      | 3118757/9517064 [00:35<01:12, 88754.59it/s]"
     ]
    },
    {
     "name": "stderr",
     "output_type": "stream",
     "text": [
      "\rDictNBHDTransformer fit stage 1:  33%|███▎      | 3134990/9517064 [00:35<01:11, 88963.24it/s]"
     ]
    },
    {
     "name": "stderr",
     "output_type": "stream",
     "text": [
      "\rDictNBHDTransformer fit stage 1:  33%|███▎      | 3150191/9517064 [00:35<01:11, 89141.72it/s]"
     ]
    },
    {
     "name": "stderr",
     "output_type": "stream",
     "text": [
      "\rDictNBHDTransformer fit stage 1:  33%|███▎      | 3167950/9517064 [00:35<01:11, 89390.45it/s]"
     ]
    },
    {
     "name": "stderr",
     "output_type": "stream",
     "text": [
      "\rDictNBHDTransformer fit stage 1:  33%|███▎      | 3183657/9517064 [00:35<01:10, 89580.89it/s]"
     ]
    },
    {
     "name": "stderr",
     "output_type": "stream",
     "text": [
      "\rDictNBHDTransformer fit stage 1:  34%|███▎      | 3199206/9517064 [00:35<01:10, 89716.09it/s]"
     ]
    },
    {
     "name": "stderr",
     "output_type": "stream",
     "text": [
      "\rDictNBHDTransformer fit stage 1:  34%|███▍      | 3213986/9517064 [00:35<01:10, 89825.29it/s]"
     ]
    },
    {
     "name": "stderr",
     "output_type": "stream",
     "text": [
      "\rDictNBHDTransformer fit stage 1:  34%|███▍      | 3230034/9517064 [00:35<01:09, 90022.20it/s]"
     ]
    },
    {
     "name": "stderr",
     "output_type": "stream",
     "text": [
      "\rDictNBHDTransformer fit stage 1:  34%|███▍      | 3244652/9517064 [00:35<01:09, 90157.31it/s]"
     ]
    },
    {
     "name": "stderr",
     "output_type": "stream",
     "text": [
      "\rDictNBHDTransformer fit stage 1:  34%|███▍      | 3258931/9517064 [00:36<01:09, 90286.32it/s]"
     ]
    },
    {
     "name": "stderr",
     "output_type": "stream",
     "text": [
      "\rDictNBHDTransformer fit stage 1:  34%|███▍      | 3272941/9517064 [00:36<01:09, 90359.33it/s]"
     ]
    },
    {
     "name": "stderr",
     "output_type": "stream",
     "text": [
      "\rDictNBHDTransformer fit stage 1:  35%|███▍      | 3286087/9517064 [00:36<01:08, 90426.88it/s]"
     ]
    },
    {
     "name": "stderr",
     "output_type": "stream",
     "text": [
      "\rDictNBHDTransformer fit stage 1:  35%|███▍      | 3298622/9517064 [00:36<01:08, 90521.37it/s]"
     ]
    },
    {
     "name": "stderr",
     "output_type": "stream",
     "text": [
      "\rDictNBHDTransformer fit stage 1:  35%|███▍      | 3312026/9517064 [00:36<01:08, 90640.01it/s]"
     ]
    },
    {
     "name": "stderr",
     "output_type": "stream",
     "text": [
      "\rDictNBHDTransformer fit stage 1:  35%|███▍      | 3324807/9517064 [00:36<01:08, 90702.14it/s]"
     ]
    },
    {
     "name": "stderr",
     "output_type": "stream",
     "text": [
      "\rDictNBHDTransformer fit stage 1:  35%|███▌      | 3337505/9517064 [00:36<01:08, 90800.82it/s]"
     ]
    },
    {
     "name": "stderr",
     "output_type": "stream",
     "text": [
      "\rDictNBHDTransformer fit stage 1:  35%|███▌      | 3349909/9517064 [00:36<01:07, 90890.99it/s]"
     ]
    },
    {
     "name": "stderr",
     "output_type": "stream",
     "text": [
      "\rDictNBHDTransformer fit stage 1:  35%|███▌      | 3362300/9517064 [00:36<01:07, 90972.56it/s]"
     ]
    },
    {
     "name": "stderr",
     "output_type": "stream",
     "text": [
      "\rDictNBHDTransformer fit stage 1:  35%|███▌      | 3374577/9517064 [00:37<01:07, 91054.05it/s]"
     ]
    },
    {
     "name": "stderr",
     "output_type": "stream",
     "text": [
      "\rDictNBHDTransformer fit stage 1:  36%|███▌      | 3387365/9517064 [00:37<01:07, 91153.45it/s]"
     ]
    },
    {
     "name": "stderr",
     "output_type": "stream",
     "text": [
      "\rDictNBHDTransformer fit stage 1:  36%|███▌      | 3400145/9517064 [00:37<01:07, 91251.80it/s]"
     ]
    },
    {
     "name": "stderr",
     "output_type": "stream",
     "text": [
      "\rDictNBHDTransformer fit stage 1:  36%|███▌      | 3415544/9517064 [00:37<01:06, 91419.71it/s]"
     ]
    },
    {
     "name": "stderr",
     "output_type": "stream",
     "text": [
      "\rDictNBHDTransformer fit stage 1:  36%|███▌      | 3429822/9517064 [00:37<01:06, 91556.68it/s]"
     ]
    },
    {
     "name": "stderr",
     "output_type": "stream",
     "text": [
      "\rDictNBHDTransformer fit stage 1:  36%|███▌      | 3444320/9517064 [00:37<01:06, 91698.89it/s]"
     ]
    },
    {
     "name": "stderr",
     "output_type": "stream",
     "text": [
      "\rDictNBHDTransformer fit stage 1:  36%|███▋      | 3459078/9517064 [00:37<01:05, 91847.23it/s]"
     ]
    },
    {
     "name": "stderr",
     "output_type": "stream",
     "text": [
      "\rDictNBHDTransformer fit stage 1:  36%|███▋      | 3473579/9517064 [00:37<01:05, 91988.05it/s]"
     ]
    },
    {
     "name": "stderr",
     "output_type": "stream",
     "text": [
      "\rDictNBHDTransformer fit stage 1:  37%|███▋      | 3490401/9517064 [00:37<01:05, 92189.38it/s]"
     ]
    },
    {
     "name": "stderr",
     "output_type": "stream",
     "text": [
      "\rDictNBHDTransformer fit stage 1:  37%|███▋      | 3506140/9517064 [00:37<01:05, 92361.13it/s]"
     ]
    },
    {
     "name": "stderr",
     "output_type": "stream",
     "text": [
      "\rDictNBHDTransformer fit stage 1:  37%|███▋      | 3521382/9517064 [00:38<01:05, 91887.17it/s]"
     ]
    },
    {
     "name": "stderr",
     "output_type": "stream",
     "text": [
      "\rDictNBHDTransformer fit stage 1:  37%|███▋      | 3537016/9517064 [00:38<01:04, 92054.91it/s]"
     ]
    },
    {
     "name": "stderr",
     "output_type": "stream",
     "text": [
      "\rDictNBHDTransformer fit stage 1:  37%|███▋      | 3552891/9517064 [00:38<01:04, 92228.04it/s]"
     ]
    },
    {
     "name": "stderr",
     "output_type": "stream",
     "text": [
      "\rDictNBHDTransformer fit stage 1:  37%|███▋      | 3566784/9517064 [00:38<01:04, 92337.85it/s]"
     ]
    },
    {
     "name": "stderr",
     "output_type": "stream",
     "text": [
      "\rDictNBHDTransformer fit stage 1:  38%|███▊      | 3582728/9517064 [00:38<01:04, 92511.10it/s]"
     ]
    },
    {
     "name": "stderr",
     "output_type": "stream",
     "text": [
      "\rDictNBHDTransformer fit stage 1:  38%|███▊      | 3599243/9517064 [00:38<01:03, 92698.20it/s]"
     ]
    },
    {
     "name": "stderr",
     "output_type": "stream",
     "text": [
      "\rDictNBHDTransformer fit stage 1:  38%|███▊      | 3614263/9517064 [00:38<01:03, 92844.31it/s]"
     ]
    },
    {
     "name": "stderr",
     "output_type": "stream",
     "text": [
      "\rDictNBHDTransformer fit stage 1:  38%|███▊      | 3631544/9517064 [00:39<01:03, 93049.20it/s]"
     ]
    },
    {
     "name": "stderr",
     "output_type": "stream",
     "text": [
      "\rDictNBHDTransformer fit stage 1:  38%|███▊      | 3648277/9517064 [00:39<01:02, 93239.01it/s]"
     ]
    },
    {
     "name": "stderr",
     "output_type": "stream",
     "text": [
      "\rDictNBHDTransformer fit stage 1:  39%|███▊      | 3664549/9517064 [00:39<01:02, 93416.05it/s]"
     ]
    },
    {
     "name": "stderr",
     "output_type": "stream",
     "text": [
      "\rDictNBHDTransformer fit stage 1:  39%|███▊      | 3680625/9517064 [00:39<01:02, 93584.30it/s]"
     ]
    },
    {
     "name": "stderr",
     "output_type": "stream",
     "text": [
      "\rDictNBHDTransformer fit stage 1:  39%|███▉      | 3696641/9517064 [00:39<01:02, 93705.84it/s]"
     ]
    },
    {
     "name": "stderr",
     "output_type": "stream",
     "text": [
      "\rDictNBHDTransformer fit stage 1:  39%|███▉      | 3711860/9517064 [00:39<01:01, 93804.54it/s]"
     ]
    },
    {
     "name": "stderr",
     "output_type": "stream",
     "text": [
      "\rDictNBHDTransformer fit stage 1:  39%|███▉      | 3726946/9517064 [00:39<01:01, 93948.37it/s]"
     ]
    },
    {
     "name": "stderr",
     "output_type": "stream",
     "text": [
      "\rDictNBHDTransformer fit stage 1:  39%|███▉      | 3744536/9517064 [00:39<01:01, 94154.43it/s]"
     ]
    },
    {
     "name": "stderr",
     "output_type": "stream",
     "text": [
      "\rDictNBHDTransformer fit stage 1:  40%|███▉      | 3760539/9517064 [00:39<01:01, 94319.64it/s]"
     ]
    },
    {
     "name": "stderr",
     "output_type": "stream",
     "text": [
      "\rDictNBHDTransformer fit stage 1:  40%|███▉      | 3776266/9517064 [00:39<01:00, 94477.13it/s]"
     ]
    },
    {
     "name": "stderr",
     "output_type": "stream",
     "text": [
      "\rDictNBHDTransformer fit stage 1:  40%|███▉      | 3791949/9517064 [00:40<01:00, 94608.53it/s]"
     ]
    },
    {
     "name": "stderr",
     "output_type": "stream",
     "text": [
      "\rDictNBHDTransformer fit stage 1:  40%|████      | 3807195/9517064 [00:42<01:04, 88786.55it/s]"
     ]
    },
    {
     "name": "stderr",
     "output_type": "stream",
     "text": [
      "\rDictNBHDTransformer fit stage 1:  40%|████      | 3818548/9517064 [00:42<01:04, 88843.58it/s]"
     ]
    },
    {
     "name": "stderr",
     "output_type": "stream",
     "text": [
      "\rDictNBHDTransformer fit stage 1:  40%|████      | 3831970/9517064 [00:43<01:03, 88948.91it/s]"
     ]
    },
    {
     "name": "stderr",
     "output_type": "stream",
     "text": [
      "\rDictNBHDTransformer fit stage 1:  40%|████      | 3846505/9517064 [00:43<01:03, 89079.47it/s]"
     ]
    },
    {
     "name": "stderr",
     "output_type": "stream",
     "text": [
      "\rDictNBHDTransformer fit stage 1:  41%|████      | 3862156/9517064 [00:43<01:03, 89235.10it/s]"
     ]
    },
    {
     "name": "stderr",
     "output_type": "stream",
     "text": [
      "\rDictNBHDTransformer fit stage 1:  41%|████      | 3875731/9517064 [00:43<01:03, 89342.28it/s]"
     ]
    },
    {
     "name": "stderr",
     "output_type": "stream",
     "text": [
      "\rDictNBHDTransformer fit stage 1:  41%|████      | 3889241/9517064 [00:43<01:02, 89424.58it/s]"
     ]
    },
    {
     "name": "stderr",
     "output_type": "stream",
     "text": [
      "\rDictNBHDTransformer fit stage 1:  41%|████      | 3902345/9517064 [00:43<01:02, 89488.37it/s]"
     ]
    },
    {
     "name": "stderr",
     "output_type": "stream",
     "text": [
      "\rDictNBHDTransformer fit stage 1:  41%|████      | 3914923/9517064 [00:43<01:02, 89567.29it/s]"
     ]
    },
    {
     "name": "stderr",
     "output_type": "stream",
     "text": [
      "\rDictNBHDTransformer fit stage 1:  41%|████▏     | 3928075/9517064 [00:43<01:02, 89663.06it/s]"
     ]
    },
    {
     "name": "stderr",
     "output_type": "stream",
     "text": [
      "\rDictNBHDTransformer fit stage 1:  41%|████▏     | 3944713/9517064 [00:43<01:02, 89837.77it/s]"
     ]
    },
    {
     "name": "stderr",
     "output_type": "stream",
     "text": [
      "\rDictNBHDTransformer fit stage 1:  42%|████▏     | 3960507/9517064 [00:44<01:01, 89992.52it/s]"
     ]
    },
    {
     "name": "stderr",
     "output_type": "stream",
     "text": [
      "\rDictNBHDTransformer fit stage 1:  42%|████▏     | 3977428/9517064 [00:44<01:01, 90172.11it/s]"
     ]
    },
    {
     "name": "stderr",
     "output_type": "stream",
     "text": [
      "\rDictNBHDTransformer fit stage 1:  42%|████▏     | 3994635/9517064 [00:44<01:01, 90357.34it/s]"
     ]
    },
    {
     "name": "stderr",
     "output_type": "stream",
     "text": [
      "\rDictNBHDTransformer fit stage 1:  42%|████▏     | 4011077/9517064 [00:44<01:00, 90524.48it/s]"
     ]
    },
    {
     "name": "stderr",
     "output_type": "stream",
     "text": [
      "\rDictNBHDTransformer fit stage 1:  42%|████▏     | 4029376/9517064 [00:44<01:00, 90732.56it/s]"
     ]
    },
    {
     "name": "stderr",
     "output_type": "stream",
     "text": [
      "\rDictNBHDTransformer fit stage 1:  43%|████▎     | 4046866/9517064 [00:44<01:00, 90921.66it/s]"
     ]
    },
    {
     "name": "stderr",
     "output_type": "stream",
     "text": [
      "\rDictNBHDTransformer fit stage 1:  43%|████▎     | 4063789/9517064 [00:44<00:59, 91094.96it/s]"
     ]
    },
    {
     "name": "stderr",
     "output_type": "stream",
     "text": [
      "\rDictNBHDTransformer fit stage 1:  43%|████▎     | 4081379/9517064 [00:44<00:59, 91284.64it/s]"
     ]
    },
    {
     "name": "stderr",
     "output_type": "stream",
     "text": [
      "\rDictNBHDTransformer fit stage 1:  43%|████▎     | 4099426/9517064 [00:44<00:59, 91483.66it/s]"
     ]
    },
    {
     "name": "stderr",
     "output_type": "stream",
     "text": [
      "\rDictNBHDTransformer fit stage 1:  43%|████▎     | 4117284/9517064 [00:44<00:58, 91677.58it/s]"
     ]
    },
    {
     "name": "stderr",
     "output_type": "stream",
     "text": [
      "\rDictNBHDTransformer fit stage 1:  43%|████▎     | 4134803/9517064 [00:45<00:58, 91839.23it/s]"
     ]
    },
    {
     "name": "stderr",
     "output_type": "stream",
     "text": [
      "\rDictNBHDTransformer fit stage 1:  44%|████▎     | 4151771/9517064 [00:45<00:58, 91933.07it/s]"
     ]
    },
    {
     "name": "stderr",
     "output_type": "stream",
     "text": [
      "\rDictNBHDTransformer fit stage 1:  44%|████▍     | 4167321/9517064 [00:45<00:58, 92045.74it/s]"
     ]
    },
    {
     "name": "stderr",
     "output_type": "stream",
     "text": [
      "\rDictNBHDTransformer fit stage 1:  44%|████▍     | 4184344/9517064 [00:45<00:57, 92218.03it/s]"
     ]
    },
    {
     "name": "stderr",
     "output_type": "stream",
     "text": [
      "\rDictNBHDTransformer fit stage 1:  44%|████▍     | 4199944/9517064 [00:45<00:57, 92314.00it/s]"
     ]
    },
    {
     "name": "stderr",
     "output_type": "stream",
     "text": [
      "\rDictNBHDTransformer fit stage 1:  44%|████▍     | 4214706/9517064 [00:45<00:57, 92368.73it/s]"
     ]
    },
    {
     "name": "stderr",
     "output_type": "stream",
     "text": [
      "\rDictNBHDTransformer fit stage 1:  44%|████▍     | 4228373/9517064 [00:45<00:57, 92448.08it/s]"
     ]
    },
    {
     "name": "stderr",
     "output_type": "stream",
     "text": [
      "\rDictNBHDTransformer fit stage 1:  45%|████▍     | 4241713/9517064 [00:45<00:57, 92504.04it/s]"
     ]
    },
    {
     "name": "stderr",
     "output_type": "stream",
     "text": [
      "\rDictNBHDTransformer fit stage 1:  45%|████▍     | 4254485/9517064 [00:45<00:56, 92560.24it/s]"
     ]
    },
    {
     "name": "stderr",
     "output_type": "stream",
     "text": [
      "\rDictNBHDTransformer fit stage 1:  45%|████▍     | 4266905/9517064 [00:46<00:56, 92616.42it/s]"
     ]
    },
    {
     "name": "stderr",
     "output_type": "stream",
     "text": [
      "\rDictNBHDTransformer fit stage 1:  45%|████▍     | 4279107/9517064 [00:46<00:56, 92672.29it/s]"
     ]
    },
    {
     "name": "stderr",
     "output_type": "stream",
     "text": [
      "\rDictNBHDTransformer fit stage 1:  45%|████▌     | 4291173/9517064 [00:46<00:56, 92725.70it/s]"
     ]
    },
    {
     "name": "stderr",
     "output_type": "stream",
     "text": [
      "\rDictNBHDTransformer fit stage 1:  45%|████▌     | 4305075/9517064 [00:46<00:56, 92825.55it/s]"
     ]
    },
    {
     "name": "stderr",
     "output_type": "stream",
     "text": [
      "\rDictNBHDTransformer fit stage 1:  45%|████▌     | 4320964/9517064 [00:46<00:55, 92967.70it/s]"
     ]
    },
    {
     "name": "stderr",
     "output_type": "stream",
     "text": [
      "\rDictNBHDTransformer fit stage 1:  46%|████▌     | 4334502/9517064 [00:46<00:55, 93006.10it/s]"
     ]
    },
    {
     "name": "stderr",
     "output_type": "stream",
     "text": [
      "\rDictNBHDTransformer fit stage 1:  46%|████▌     | 4347193/9517064 [00:46<00:55, 93048.88it/s]"
     ]
    },
    {
     "name": "stderr",
     "output_type": "stream",
     "text": [
      "\rDictNBHDTransformer fit stage 1:  46%|████▌     | 4361734/9517064 [00:46<00:55, 93160.62it/s]"
     ]
    },
    {
     "name": "stderr",
     "output_type": "stream",
     "text": [
      "\rDictNBHDTransformer fit stage 1:  46%|████▌     | 4375186/9517064 [00:46<00:55, 93248.77it/s]"
     ]
    },
    {
     "name": "stderr",
     "output_type": "stream",
     "text": [
      "\rDictNBHDTransformer fit stage 1:  46%|████▌     | 4388250/9517064 [00:47<00:54, 93322.62it/s]"
     ]
    },
    {
     "name": "stderr",
     "output_type": "stream",
     "text": [
      "\rDictNBHDTransformer fit stage 1:  46%|████▋     | 4403216/9517064 [00:47<00:54, 93442.14it/s]"
     ]
    },
    {
     "name": "stderr",
     "output_type": "stream",
     "text": [
      "\rDictNBHDTransformer fit stage 1:  46%|████▋     | 4417972/9517064 [00:47<00:54, 93557.00it/s]"
     ]
    },
    {
     "name": "stderr",
     "output_type": "stream",
     "text": [
      "\rDictNBHDTransformer fit stage 1:  47%|████▋     | 4433208/9517064 [00:47<00:54, 93681.27it/s]"
     ]
    },
    {
     "name": "stderr",
     "output_type": "stream",
     "text": [
      "\rDictNBHDTransformer fit stage 1:  47%|████▋     | 4450119/9517064 [00:47<00:53, 93840.33it/s]"
     ]
    },
    {
     "name": "stderr",
     "output_type": "stream",
     "text": [
      "\rDictNBHDTransformer fit stage 1:  47%|████▋     | 4467466/9517064 [00:47<00:53, 94007.88it/s]"
     ]
    },
    {
     "name": "stderr",
     "output_type": "stream",
     "text": [
      "\rDictNBHDTransformer fit stage 1:  47%|████▋     | 4483236/9517064 [00:47<00:53, 94140.35it/s]"
     ]
    },
    {
     "name": "stderr",
     "output_type": "stream",
     "text": [
      "\rDictNBHDTransformer fit stage 1:  47%|████▋     | 4500395/9517064 [00:47<00:53, 94302.63it/s]"
     ]
    },
    {
     "name": "stderr",
     "output_type": "stream",
     "text": [
      "\rDictNBHDTransformer fit stage 1:  47%|████▋     | 4516561/9517064 [00:47<00:52, 94424.89it/s]"
     ]
    },
    {
     "name": "stderr",
     "output_type": "stream",
     "text": [
      "\rDictNBHDTransformer fit stage 1:  48%|████▊     | 4532310/9517064 [00:47<00:52, 94514.03it/s]"
     ]
    },
    {
     "name": "stderr",
     "output_type": "stream",
     "text": [
      "\rDictNBHDTransformer fit stage 1:  48%|████▊     | 4547223/9517064 [00:48<00:52, 94603.02it/s]"
     ]
    },
    {
     "name": "stderr",
     "output_type": "stream",
     "text": [
      "\rDictNBHDTransformer fit stage 1:  48%|████▊     | 4561638/9517064 [00:48<00:52, 94683.78it/s]"
     ]
    },
    {
     "name": "stderr",
     "output_type": "stream",
     "text": [
      "\rDictNBHDTransformer fit stage 1:  48%|████▊     | 4575616/9517064 [00:48<00:52, 94776.20it/s]"
     ]
    },
    {
     "name": "stderr",
     "output_type": "stream",
     "text": [
      "\rDictNBHDTransformer fit stage 1:  48%|████▊     | 4589573/9517064 [00:48<00:51, 94855.82it/s]"
     ]
    },
    {
     "name": "stderr",
     "output_type": "stream",
     "text": [
      "\rDictNBHDTransformer fit stage 1:  48%|████▊     | 4603924/9517064 [00:48<00:51, 94956.17it/s]"
     ]
    },
    {
     "name": "stderr",
     "output_type": "stream",
     "text": [
      "\rDictNBHDTransformer fit stage 1:  49%|████▊     | 4620613/9517064 [00:48<00:51, 95104.18it/s]"
     ]
    },
    {
     "name": "stderr",
     "output_type": "stream",
     "text": [
      "\rDictNBHDTransformer fit stage 1:  49%|████▊     | 4638610/9517064 [00:48<00:51, 95278.54it/s]"
     ]
    },
    {
     "name": "stderr",
     "output_type": "stream",
     "text": [
      "\rDictNBHDTransformer fit stage 1:  49%|████▉     | 4654457/9517064 [00:48<00:50, 95408.07it/s]"
     ]
    },
    {
     "name": "stderr",
     "output_type": "stream",
     "text": [
      "\rDictNBHDTransformer fit stage 1:  49%|████▉     | 4670209/9517064 [00:48<00:50, 95518.34it/s]"
     ]
    },
    {
     "name": "stderr",
     "output_type": "stream",
     "text": [
      "\rDictNBHDTransformer fit stage 1:  49%|████▉     | 4685588/9517064 [00:49<00:50, 95607.16it/s]"
     ]
    },
    {
     "name": "stderr",
     "output_type": "stream",
     "text": [
      "\rDictNBHDTransformer fit stage 1:  49%|████▉     | 4700350/9517064 [00:49<00:50, 95700.18it/s]"
     ]
    },
    {
     "name": "stderr",
     "output_type": "stream",
     "text": [
      "\rDictNBHDTransformer fit stage 1:  50%|████▉     | 4716196/9517064 [00:49<00:50, 95827.67it/s]"
     ]
    },
    {
     "name": "stderr",
     "output_type": "stream",
     "text": [
      "\rDictNBHDTransformer fit stage 1:  50%|████▉     | 4733599/9517064 [00:49<00:49, 95986.26it/s]"
     ]
    },
    {
     "name": "stderr",
     "output_type": "stream",
     "text": [
      "\rDictNBHDTransformer fit stage 1:  50%|████▉     | 4751468/9517064 [00:49<00:49, 96153.62it/s]"
     ]
    },
    {
     "name": "stderr",
     "output_type": "stream",
     "text": [
      "\rDictNBHDTransformer fit stage 1:  50%|█████     | 4768706/9517064 [00:49<00:49, 96307.11it/s]"
     ]
    },
    {
     "name": "stderr",
     "output_type": "stream",
     "text": [
      "\rDictNBHDTransformer fit stage 1:  50%|█████     | 4785317/9517064 [00:49<00:49, 96448.18it/s]"
     ]
    },
    {
     "name": "stderr",
     "output_type": "stream",
     "text": [
      "\rDictNBHDTransformer fit stage 1:  50%|█████     | 4803248/9517064 [00:49<00:48, 96614.85it/s]"
     ]
    },
    {
     "name": "stderr",
     "output_type": "stream",
     "text": [
      "\rDictNBHDTransformer fit stage 1:  51%|█████     | 4820244/9517064 [00:49<00:48, 96760.02it/s]"
     ]
    },
    {
     "name": "stderr",
     "output_type": "stream",
     "text": [
      "\rDictNBHDTransformer fit stage 1:  51%|█████     | 4837187/9517064 [00:49<00:48, 96895.09it/s]"
     ]
    },
    {
     "name": "stderr",
     "output_type": "stream",
     "text": [
      "\rDictNBHDTransformer fit stage 1:  51%|█████     | 4854375/9517064 [00:50<00:48, 97044.98it/s]"
     ]
    },
    {
     "name": "stderr",
     "output_type": "stream",
     "text": [
      "\rDictNBHDTransformer fit stage 1:  51%|█████     | 4871209/9517064 [00:50<00:47, 97178.47it/s]"
     ]
    },
    {
     "name": "stderr",
     "output_type": "stream",
     "text": [
      "\rDictNBHDTransformer fit stage 1:  51%|█████▏    | 4887825/9517064 [00:50<00:47, 97271.23it/s]"
     ]
    },
    {
     "name": "stderr",
     "output_type": "stream",
     "text": [
      "\rDictNBHDTransformer fit stage 1:  52%|█████▏    | 4903508/9517064 [00:50<00:47, 97353.16it/s]"
     ]
    },
    {
     "name": "stderr",
     "output_type": "stream",
     "text": [
      "\rDictNBHDTransformer fit stage 1:  52%|█████▏    | 4918447/9517064 [00:50<00:47, 97445.56it/s]"
     ]
    },
    {
     "name": "stderr",
     "output_type": "stream",
     "text": [
      "\rDictNBHDTransformer fit stage 1:  52%|█████▏    | 4935586/9517064 [00:50<00:46, 97591.75it/s]"
     ]
    },
    {
     "name": "stderr",
     "output_type": "stream",
     "text": [
      "\rDictNBHDTransformer fit stage 1:  52%|█████▏    | 4952624/9517064 [00:50<00:46, 97735.40it/s]"
     ]
    },
    {
     "name": "stderr",
     "output_type": "stream",
     "text": [
      "\rDictNBHDTransformer fit stage 1:  52%|█████▏    | 4971605/9517064 [00:50<00:46, 97916.74it/s]"
     ]
    },
    {
     "name": "stderr",
     "output_type": "stream",
     "text": [
      "\rDictNBHDTransformer fit stage 1:  52%|█████▏    | 4989321/9517064 [00:50<00:46, 98072.49it/s]"
     ]
    },
    {
     "name": "stderr",
     "output_type": "stream",
     "text": [
      "\rDictNBHDTransformer fit stage 1:  53%|█████▎    | 5007399/9517064 [00:50<00:45, 98234.50it/s]"
     ]
    },
    {
     "name": "stderr",
     "output_type": "stream",
     "text": [
      "\rDictNBHDTransformer fit stage 1:  53%|█████▎    | 5025874/9517064 [00:51<00:45, 98404.06it/s]"
     ]
    },
    {
     "name": "stderr",
     "output_type": "stream",
     "text": [
      "\rDictNBHDTransformer fit stage 1:  53%|█████▎    | 5043590/9517064 [00:51<00:45, 98544.73it/s]"
     ]
    },
    {
     "name": "stderr",
     "output_type": "stream",
     "text": [
      "\rDictNBHDTransformer fit stage 1:  53%|█████▎    | 5060965/9517064 [00:51<00:45, 98609.21it/s]"
     ]
    },
    {
     "name": "stderr",
     "output_type": "stream",
     "text": [
      "\rDictNBHDTransformer fit stage 1:  53%|█████▎    | 5076779/9517064 [00:51<00:45, 98653.86it/s]"
     ]
    },
    {
     "name": "stderr",
     "output_type": "stream",
     "text": [
      "\rDictNBHDTransformer fit stage 1:  53%|█████▎    | 5091311/9517064 [00:51<00:44, 98706.12it/s]"
     ]
    },
    {
     "name": "stderr",
     "output_type": "stream",
     "text": [
      "\rDictNBHDTransformer fit stage 1:  54%|█████▎    | 5105119/9517064 [00:51<00:44, 98738.34it/s]"
     ]
    },
    {
     "name": "stderr",
     "output_type": "stream",
     "text": [
      "\rDictNBHDTransformer fit stage 1:  54%|█████▍    | 5118936/9517064 [00:51<00:44, 98814.47it/s]"
     ]
    },
    {
     "name": "stderr",
     "output_type": "stream",
     "text": [
      "\rDictNBHDTransformer fit stage 1:  54%|█████▍    | 5135573/9517064 [00:51<00:44, 98944.63it/s]"
     ]
    },
    {
     "name": "stderr",
     "output_type": "stream",
     "text": [
      "\rDictNBHDTransformer fit stage 1:  54%|█████▍    | 5150069/9517064 [00:52<00:44, 99033.02it/s]"
     ]
    },
    {
     "name": "stderr",
     "output_type": "stream",
     "text": [
      "\rDictNBHDTransformer fit stage 1:  54%|█████▍    | 5164411/9517064 [00:52<00:43, 99086.59it/s]"
     ]
    },
    {
     "name": "stderr",
     "output_type": "stream",
     "text": [
      "\rDictNBHDTransformer fit stage 1:  54%|█████▍    | 5178140/9517064 [00:52<00:43, 99141.49it/s]"
     ]
    },
    {
     "name": "stderr",
     "output_type": "stream",
     "text": [
      "\rDictNBHDTransformer fit stage 1:  55%|█████▍    | 5191508/9517064 [00:52<00:43, 99200.63it/s]"
     ]
    },
    {
     "name": "stderr",
     "output_type": "stream",
     "text": [
      "\rDictNBHDTransformer fit stage 1:  55%|█████▍    | 5206354/9517064 [00:52<00:43, 99294.56it/s]"
     ]
    },
    {
     "name": "stderr",
     "output_type": "stream",
     "text": [
      "\rDictNBHDTransformer fit stage 1:  55%|█████▍    | 5220067/9517064 [00:55<00:46, 93271.50it/s]"
     ]
    },
    {
     "name": "stderr",
     "output_type": "stream",
     "text": [
      "\rDictNBHDTransformer fit stage 1:  55%|█████▌    | 5236311/9517064 [00:56<00:45, 93394.96it/s]"
     ]
    },
    {
     "name": "stderr",
     "output_type": "stream",
     "text": [
      "\rDictNBHDTransformer fit stage 1:  55%|█████▌    | 5252233/9517064 [00:56<00:45, 93512.12it/s]"
     ]
    },
    {
     "name": "stderr",
     "output_type": "stream",
     "text": [
      "\rDictNBHDTransformer fit stage 1:  55%|█████▌    | 5268630/9517064 [00:56<00:45, 93637.34it/s]"
     ]
    },
    {
     "name": "stderr",
     "output_type": "stream",
     "text": [
      "\rDictNBHDTransformer fit stage 1:  56%|█████▌    | 5286033/9517064 [00:56<00:45, 93779.96it/s]"
     ]
    },
    {
     "name": "stderr",
     "output_type": "stream",
     "text": [
      "\rDictNBHDTransformer fit stage 1:  56%|█████▌    | 5302322/9517064 [00:56<00:44, 93902.35it/s]"
     ]
    },
    {
     "name": "stderr",
     "output_type": "stream",
     "text": [
      "\rDictNBHDTransformer fit stage 1:  56%|█████▌    | 5317715/9517064 [00:56<00:44, 93952.74it/s]"
     ]
    },
    {
     "name": "stderr",
     "output_type": "stream",
     "text": [
      "\rDictNBHDTransformer fit stage 1:  56%|█████▌    | 5331948/9517064 [00:56<00:44, 93991.51it/s]"
     ]
    },
    {
     "name": "stderr",
     "output_type": "stream",
     "text": [
      "\rDictNBHDTransformer fit stage 1:  56%|█████▌    | 5345364/9517064 [00:56<00:44, 94062.18it/s]"
     ]
    },
    {
     "name": "stderr",
     "output_type": "stream",
     "text": [
      "\rDictNBHDTransformer fit stage 1:  56%|█████▋    | 5358789/9517064 [00:56<00:44, 94132.78it/s]"
     ]
    },
    {
     "name": "stderr",
     "output_type": "stream",
     "text": [
      "\rDictNBHDTransformer fit stage 1:  56%|█████▋    | 5372149/9517064 [00:57<00:44, 94201.06it/s]"
     ]
    },
    {
     "name": "stderr",
     "output_type": "stream",
     "text": [
      "\rDictNBHDTransformer fit stage 1:  57%|█████▋    | 5386725/9517064 [00:57<00:43, 94291.31it/s]"
     ]
    },
    {
     "name": "stderr",
     "output_type": "stream",
     "text": [
      "\rDictNBHDTransformer fit stage 1:  57%|█████▋    | 5401525/9517064 [00:57<00:43, 94385.14it/s]"
     ]
    },
    {
     "name": "stderr",
     "output_type": "stream",
     "text": [
      "\rDictNBHDTransformer fit stage 1:  57%|█████▋    | 5416546/9517064 [00:57<00:43, 94482.53it/s]"
     ]
    },
    {
     "name": "stderr",
     "output_type": "stream",
     "text": [
      "\rDictNBHDTransformer fit stage 1:  57%|█████▋    | 5433131/9517064 [00:57<00:43, 94606.79it/s]"
     ]
    },
    {
     "name": "stderr",
     "output_type": "stream",
     "text": [
      "\rDictNBHDTransformer fit stage 1:  57%|█████▋    | 5449423/9517064 [00:57<00:42, 94725.52it/s]"
     ]
    },
    {
     "name": "stderr",
     "output_type": "stream",
     "text": [
      "\rDictNBHDTransformer fit stage 1:  57%|█████▋    | 5466258/9517064 [00:57<00:42, 94853.28it/s]"
     ]
    },
    {
     "name": "stderr",
     "output_type": "stream",
     "text": [
      "\rDictNBHDTransformer fit stage 1:  58%|█████▊    | 5482999/9517064 [00:57<00:42, 94978.91it/s]"
     ]
    },
    {
     "name": "stderr",
     "output_type": "stream",
     "text": [
      "\rDictNBHDTransformer fit stage 1:  58%|█████▊    | 5500289/9517064 [00:57<00:42, 95113.69it/s]"
     ]
    },
    {
     "name": "stderr",
     "output_type": "stream",
     "text": [
      "\rDictNBHDTransformer fit stage 1:  58%|█████▊    | 5516924/9517064 [00:57<00:42, 95236.65it/s]"
     ]
    },
    {
     "name": "stderr",
     "output_type": "stream",
     "text": [
      "\rDictNBHDTransformer fit stage 1:  58%|█████▊    | 5533434/9517064 [00:58<00:41, 95356.38it/s]"
     ]
    },
    {
     "name": "stderr",
     "output_type": "stream",
     "text": [
      "\rDictNBHDTransformer fit stage 1:  58%|█████▊    | 5550920/9517064 [00:58<00:41, 95493.18it/s]"
     ]
    },
    {
     "name": "stderr",
     "output_type": "stream",
     "text": [
      "\rDictNBHDTransformer fit stage 1:  59%|█████▊    | 5568137/9517064 [00:58<00:41, 95624.85it/s]"
     ]
    },
    {
     "name": "stderr",
     "output_type": "stream",
     "text": [
      "\rDictNBHDTransformer fit stage 1:  59%|█████▊    | 5586082/9517064 [00:58<00:41, 95768.55it/s]"
     ]
    },
    {
     "name": "stderr",
     "output_type": "stream",
     "text": [
      "\rDictNBHDTransformer fit stage 1:  59%|█████▉    | 5603791/9517064 [00:58<00:40, 95907.73it/s]"
     ]
    },
    {
     "name": "stderr",
     "output_type": "stream",
     "text": [
      "\rDictNBHDTransformer fit stage 1:  59%|█████▉    | 5621162/9517064 [00:58<00:40, 96019.61it/s]"
     ]
    },
    {
     "name": "stderr",
     "output_type": "stream",
     "text": [
      "\rDictNBHDTransformer fit stage 1:  59%|█████▉    | 5638537/9517064 [00:58<00:40, 96152.16it/s]"
     ]
    },
    {
     "name": "stderr",
     "output_type": "stream",
     "text": [
      "\rDictNBHDTransformer fit stage 1:  59%|█████▉    | 5655760/9517064 [00:58<00:40, 96281.66it/s]"
     ]
    },
    {
     "name": "stderr",
     "output_type": "stream",
     "text": [
      "\rDictNBHDTransformer fit stage 1:  60%|█████▉    | 5672797/9517064 [00:58<00:39, 96402.68it/s]"
     ]
    },
    {
     "name": "stderr",
     "output_type": "stream",
     "text": [
      "\rDictNBHDTransformer fit stage 1:  60%|█████▉    | 5690658/9517064 [00:58<00:39, 96542.15it/s]"
     ]
    },
    {
     "name": "stderr",
     "output_type": "stream",
     "text": [
      "\rDictNBHDTransformer fit stage 1:  60%|█████▉    | 5708819/9517064 [00:59<00:39, 96686.22it/s]"
     ]
    },
    {
     "name": "stderr",
     "output_type": "stream",
     "text": [
      "\rDictNBHDTransformer fit stage 1:  60%|██████    | 5726294/9517064 [00:59<00:39, 96812.34it/s]"
     ]
    },
    {
     "name": "stderr",
     "output_type": "stream",
     "text": [
      "\rDictNBHDTransformer fit stage 1:  60%|██████    | 5744131/9517064 [00:59<00:38, 96949.97it/s]"
     ]
    },
    {
     "name": "stderr",
     "output_type": "stream",
     "text": [
      "\rDictNBHDTransformer fit stage 1:  61%|██████    | 5761588/9517064 [00:59<00:38, 97080.41it/s]"
     ]
    },
    {
     "name": "stderr",
     "output_type": "stream",
     "text": [
      "\rDictNBHDTransformer fit stage 1:  61%|██████    | 5780053/9517064 [00:59<00:38, 97227.71it/s]"
     ]
    },
    {
     "name": "stderr",
     "output_type": "stream",
     "text": [
      "\rDictNBHDTransformer fit stage 1:  61%|██████    | 5797950/9517064 [00:59<00:38, 97364.97it/s]"
     ]
    },
    {
     "name": "stderr",
     "output_type": "stream",
     "text": [
      "\rDictNBHDTransformer fit stage 1:  61%|██████    | 5815951/9517064 [00:59<00:37, 97503.51it/s]"
     ]
    },
    {
     "name": "stderr",
     "output_type": "stream",
     "text": [
      "\rDictNBHDTransformer fit stage 1:  61%|██████▏   | 5833808/9517064 [00:59<00:37, 97636.13it/s]"
     ]
    },
    {
     "name": "stderr",
     "output_type": "stream",
     "text": [
      "\rDictNBHDTransformer fit stage 1:  61%|██████▏   | 5851566/9517064 [00:59<00:37, 97767.34it/s]"
     ]
    },
    {
     "name": "stderr",
     "output_type": "stream",
     "text": [
      "\rDictNBHDTransformer fit stage 1:  62%|██████▏   | 5869637/9517064 [00:59<00:37, 97905.68it/s]"
     ]
    },
    {
     "name": "stderr",
     "output_type": "stream",
     "text": [
      "\rDictNBHDTransformer fit stage 1:  62%|██████▏   | 5887436/9517064 [01:00<00:37, 98035.55it/s]"
     ]
    },
    {
     "name": "stderr",
     "output_type": "stream",
     "text": [
      "\rDictNBHDTransformer fit stage 1:  62%|██████▏   | 5905124/9517064 [01:00<00:36, 98165.52it/s]"
     ]
    },
    {
     "name": "stderr",
     "output_type": "stream",
     "text": [
      "\rDictNBHDTransformer fit stage 1:  62%|██████▏   | 5922776/9517064 [01:00<00:36, 98281.20it/s]"
     ]
    },
    {
     "name": "stderr",
     "output_type": "stream",
     "text": [
      "\rDictNBHDTransformer fit stage 1:  62%|██████▏   | 5940078/9517064 [01:00<00:36, 98405.00it/s]"
     ]
    },
    {
     "name": "stderr",
     "output_type": "stream",
     "text": [
      "\rDictNBHDTransformer fit stage 1:  63%|██████▎   | 5957325/9517064 [01:00<00:36, 98526.79it/s]"
     ]
    },
    {
     "name": "stderr",
     "output_type": "stream",
     "text": [
      "\rDictNBHDTransformer fit stage 1:  63%|██████▎   | 5975192/9517064 [01:00<00:35, 98659.11it/s]"
     ]
    },
    {
     "name": "stderr",
     "output_type": "stream",
     "text": [
      "\rDictNBHDTransformer fit stage 1:  63%|██████▎   | 5992838/9517064 [01:00<00:35, 98787.36it/s]"
     ]
    },
    {
     "name": "stderr",
     "output_type": "stream",
     "text": [
      "\rDictNBHDTransformer fit stage 1:  63%|██████▎   | 6010630/9517064 [01:00<00:35, 98917.58it/s]"
     ]
    },
    {
     "name": "stderr",
     "output_type": "stream",
     "text": [
      "\rDictNBHDTransformer fit stage 1:  63%|██████▎   | 6028208/9517064 [01:00<00:35, 99036.16it/s]"
     ]
    },
    {
     "name": "stderr",
     "output_type": "stream",
     "text": [
      "\rDictNBHDTransformer fit stage 1:  64%|██████▎   | 6045555/9517064 [01:00<00:35, 99151.83it/s]"
     ]
    },
    {
     "name": "stderr",
     "output_type": "stream",
     "text": [
      "\rDictNBHDTransformer fit stage 1:  64%|██████▎   | 6063308/9517064 [01:01<00:34, 99280.14it/s]"
     ]
    },
    {
     "name": "stderr",
     "output_type": "stream",
     "text": [
      "\rDictNBHDTransformer fit stage 1:  64%|██████▍   | 6080920/9517064 [01:01<00:34, 99405.77it/s]"
     ]
    },
    {
     "name": "stderr",
     "output_type": "stream",
     "text": [
      "\rDictNBHDTransformer fit stage 1:  64%|██████▍   | 6098331/9517064 [01:01<00:34, 99508.10it/s]"
     ]
    },
    {
     "name": "stderr",
     "output_type": "stream",
     "text": [
      "\rDictNBHDTransformer fit stage 1:  64%|██████▍   | 6115357/9517064 [01:01<00:34, 99623.35it/s]"
     ]
    },
    {
     "name": "stderr",
     "output_type": "stream",
     "text": [
      "\rDictNBHDTransformer fit stage 1:  64%|██████▍   | 6133275/9517064 [01:01<00:33, 99752.73it/s]"
     ]
    },
    {
     "name": "stderr",
     "output_type": "stream",
     "text": [
      "\rDictNBHDTransformer fit stage 1:  65%|██████▍   | 6150482/9517064 [01:01<00:33, 99861.97it/s]"
     ]
    },
    {
     "name": "stderr",
     "output_type": "stream",
     "text": [
      "\rDictNBHDTransformer fit stage 1:  65%|██████▍   | 6167442/9517064 [01:01<00:33, 99969.50it/s]"
     ]
    },
    {
     "name": "stderr",
     "output_type": "stream",
     "text": [
      "\rDictNBHDTransformer fit stage 1:  65%|██████▍   | 6185544/9517064 [01:01<00:33, 100100.68it/s]"
     ]
    },
    {
     "name": "stderr",
     "output_type": "stream",
     "text": [
      "\rDictNBHDTransformer fit stage 1:  65%|██████▌   | 6203005/9517064 [01:01<00:33, 100221.05it/s]"
     ]
    },
    {
     "name": "stderr",
     "output_type": "stream",
     "text": [
      "\rDictNBHDTransformer fit stage 1:  65%|██████▌   | 6220317/9517064 [01:01<00:32, 100338.62it/s]"
     ]
    },
    {
     "name": "stderr",
     "output_type": "stream",
     "text": [
      "\rDictNBHDTransformer fit stage 1:  66%|██████▌   | 6237598/9517064 [01:02<00:32, 100454.44it/s]"
     ]
    },
    {
     "name": "stderr",
     "output_type": "stream",
     "text": [
      "\rDictNBHDTransformer fit stage 1:  66%|██████▌   | 6255193/9517064 [01:02<00:32, 100575.82it/s]"
     ]
    },
    {
     "name": "stderr",
     "output_type": "stream",
     "text": [
      "\rDictNBHDTransformer fit stage 1:  66%|██████▌   | 6272875/9517064 [01:02<00:32, 100698.21it/s]"
     ]
    },
    {
     "name": "stderr",
     "output_type": "stream",
     "text": [
      "\rDictNBHDTransformer fit stage 1:  66%|██████▌   | 6290328/9517064 [01:02<00:32, 100810.43it/s]"
     ]
    },
    {
     "name": "stderr",
     "output_type": "stream",
     "text": [
      "\rDictNBHDTransformer fit stage 1:  66%|██████▋   | 6307590/9517064 [01:02<00:31, 100917.28it/s]"
     ]
    },
    {
     "name": "stderr",
     "output_type": "stream",
     "text": [
      "\rDictNBHDTransformer fit stage 1:  66%|██████▋   | 6324863/9517064 [01:02<00:31, 101032.00it/s]"
     ]
    },
    {
     "name": "stderr",
     "output_type": "stream",
     "text": [
      "\rDictNBHDTransformer fit stage 1:  67%|██████▋   | 6343003/9517064 [01:02<00:31, 101160.18it/s]"
     ]
    },
    {
     "name": "stderr",
     "output_type": "stream",
     "text": [
      "\rDictNBHDTransformer fit stage 1:  67%|██████▋   | 6360584/9517064 [01:02<00:31, 101278.99it/s]"
     ]
    },
    {
     "name": "stderr",
     "output_type": "stream",
     "text": [
      "\rDictNBHDTransformer fit stage 1:  67%|██████▋   | 6378043/9517064 [01:02<00:30, 101393.83it/s]"
     ]
    },
    {
     "name": "stderr",
     "output_type": "stream",
     "text": [
      "\rDictNBHDTransformer fit stage 1:  67%|██████▋   | 6395447/9517064 [01:03<00:30, 101503.38it/s]"
     ]
    },
    {
     "name": "stderr",
     "output_type": "stream",
     "text": [
      "\rDictNBHDTransformer fit stage 1:  67%|██████▋   | 6412711/9517064 [01:03<00:30, 101616.09it/s]"
     ]
    },
    {
     "name": "stderr",
     "output_type": "stream",
     "text": [
      "\rDictNBHDTransformer fit stage 1:  68%|██████▊   | 6429947/9517064 [01:03<00:30, 101716.23it/s]"
     ]
    },
    {
     "name": "stderr",
     "output_type": "stream",
     "text": [
      "\rDictNBHDTransformer fit stage 1:  68%|██████▊   | 6446830/9517064 [01:03<00:30, 101810.21it/s]"
     ]
    },
    {
     "name": "stderr",
     "output_type": "stream",
     "text": [
      "\rDictNBHDTransformer fit stage 1:  68%|██████▊   | 6463495/9517064 [01:03<00:29, 101912.46it/s]"
     ]
    },
    {
     "name": "stderr",
     "output_type": "stream",
     "text": [
      "\rDictNBHDTransformer fit stage 1:  68%|██████▊   | 6480980/9517064 [01:03<00:29, 102027.27it/s]"
     ]
    },
    {
     "name": "stderr",
     "output_type": "stream",
     "text": [
      "\rDictNBHDTransformer fit stage 1:  68%|██████▊   | 6498364/9517064 [01:03<00:29, 102140.13it/s]"
     ]
    },
    {
     "name": "stderr",
     "output_type": "stream",
     "text": [
      "\rDictNBHDTransformer fit stage 1:  68%|██████▊   | 6515371/9517064 [01:03<00:29, 102241.83it/s]"
     ]
    },
    {
     "name": "stderr",
     "output_type": "stream",
     "text": [
      "\rDictNBHDTransformer fit stage 1:  69%|██████▊   | 6532227/9517064 [01:03<00:29, 102344.59it/s]"
     ]
    },
    {
     "name": "stderr",
     "output_type": "stream",
     "text": [
      "\rDictNBHDTransformer fit stage 1:  69%|██████▉   | 6549048/9517064 [01:03<00:28, 102436.36it/s]"
     ]
    },
    {
     "name": "stderr",
     "output_type": "stream",
     "text": [
      "\rDictNBHDTransformer fit stage 1:  69%|██████▉   | 6566668/9517064 [01:04<00:28, 102551.55it/s]"
     ]
    },
    {
     "name": "stderr",
     "output_type": "stream",
     "text": [
      "\rDictNBHDTransformer fit stage 1:  69%|██████▉   | 6583934/9517064 [01:04<00:28, 102660.88it/s]"
     ]
    },
    {
     "name": "stderr",
     "output_type": "stream",
     "text": [
      "\rDictNBHDTransformer fit stage 1:  69%|██████▉   | 6600894/9517064 [01:04<00:28, 102762.77it/s]"
     ]
    },
    {
     "name": "stderr",
     "output_type": "stream",
     "text": [
      "\rDictNBHDTransformer fit stage 1:  70%|██████▉   | 6619578/9517064 [01:04<00:28, 102893.46it/s]"
     ]
    },
    {
     "name": "stderr",
     "output_type": "stream",
     "text": [
      "\rDictNBHDTransformer fit stage 1:  70%|██████▉   | 6638450/9517064 [01:04<00:27, 103026.64it/s]"
     ]
    },
    {
     "name": "stderr",
     "output_type": "stream",
     "text": [
      "\rDictNBHDTransformer fit stage 1:  70%|██████▉   | 6656310/9517064 [01:04<00:27, 103143.57it/s]"
     ]
    },
    {
     "name": "stderr",
     "output_type": "stream",
     "text": [
      "\rDictNBHDTransformer fit stage 1:  70%|███████   | 6674293/9517064 [01:04<00:27, 103262.21it/s]"
     ]
    },
    {
     "name": "stderr",
     "output_type": "stream",
     "text": [
      "\rDictNBHDTransformer fit stage 1:  70%|███████   | 6692379/9517064 [01:04<00:27, 103382.00it/s]"
     ]
    },
    {
     "name": "stderr",
     "output_type": "stream",
     "text": [
      "\rDictNBHDTransformer fit stage 1:  71%|███████   | 6710913/9517064 [01:04<00:27, 103508.42it/s]"
     ]
    },
    {
     "name": "stderr",
     "output_type": "stream",
     "text": [
      "\rDictNBHDTransformer fit stage 1:  71%|███████   | 6729037/9517064 [01:04<00:26, 103626.89it/s]"
     ]
    },
    {
     "name": "stderr",
     "output_type": "stream",
     "text": [
      "\rDictNBHDTransformer fit stage 1:  71%|███████   | 6747119/9517064 [01:05<00:26, 103739.85it/s]"
     ]
    },
    {
     "name": "stderr",
     "output_type": "stream",
     "text": [
      "\rDictNBHDTransformer fit stage 1:  71%|███████   | 6765014/9517064 [01:05<00:26, 103836.61it/s]"
     ]
    },
    {
     "name": "stderr",
     "output_type": "stream",
     "text": [
      "\rDictNBHDTransformer fit stage 1:  71%|███████▏  | 6782345/9517064 [01:05<00:26, 103921.69it/s]"
     ]
    },
    {
     "name": "stderr",
     "output_type": "stream",
     "text": [
      "\rDictNBHDTransformer fit stage 1:  71%|███████▏  | 6799984/9517064 [01:05<00:26, 104032.57it/s]"
     ]
    },
    {
     "name": "stderr",
     "output_type": "stream",
     "text": [
      "\rDictNBHDTransformer fit stage 1:  72%|███████▏  | 6816977/9517064 [01:05<00:25, 104132.15it/s]"
     ]
    },
    {
     "name": "stderr",
     "output_type": "stream",
     "text": [
      "\rDictNBHDTransformer fit stage 1:  72%|███████▏  | 6834958/9517064 [01:05<00:25, 104247.58it/s]"
     ]
    },
    {
     "name": "stderr",
     "output_type": "stream",
     "text": [
      "\rDictNBHDTransformer fit stage 1:  72%|███████▏  | 6852776/9517064 [01:05<00:25, 104360.16it/s]"
     ]
    },
    {
     "name": "stderr",
     "output_type": "stream",
     "text": [
      "\rDictNBHDTransformer fit stage 1:  72%|███████▏  | 6870207/9517064 [01:05<00:25, 104465.91it/s]"
     ]
    },
    {
     "name": "stderr",
     "output_type": "stream",
     "text": [
      "\rDictNBHDTransformer fit stage 1:  72%|███████▏  | 6887618/9517064 [01:05<00:25, 104568.28it/s]"
     ]
    },
    {
     "name": "stderr",
     "output_type": "stream",
     "text": [
      "\rDictNBHDTransformer fit stage 1:  73%|███████▎  | 6906216/9517064 [01:05<00:24, 104691.67it/s]"
     ]
    },
    {
     "name": "stderr",
     "output_type": "stream",
     "text": [
      "\rDictNBHDTransformer fit stage 1:  73%|███████▎  | 6923907/9517064 [01:06<00:24, 104796.59it/s]"
     ]
    },
    {
     "name": "stderr",
     "output_type": "stream",
     "text": [
      "\rDictNBHDTransformer fit stage 1:  73%|███████▎  | 6942196/9517064 [01:06<00:24, 104914.62it/s]"
     ]
    },
    {
     "name": "stderr",
     "output_type": "stream",
     "text": [
      "\rDictNBHDTransformer fit stage 1:  73%|███████▎  | 6959967/9517064 [01:06<00:24, 105016.48it/s]"
     ]
    },
    {
     "name": "stderr",
     "output_type": "stream",
     "text": [
      "\rDictNBHDTransformer fit stage 1:  73%|███████▎  | 6977622/9517064 [01:06<00:24, 105124.23it/s]"
     ]
    },
    {
     "name": "stderr",
     "output_type": "stream",
     "text": [
      "\rDictNBHDTransformer fit stage 1:  74%|███████▎  | 6995179/9517064 [01:06<00:23, 105225.97it/s]"
     ]
    },
    {
     "name": "stderr",
     "output_type": "stream",
     "text": [
      "\rDictNBHDTransformer fit stage 1:  74%|███████▎  | 7012599/9517064 [01:06<00:23, 105321.44it/s]"
     ]
    },
    {
     "name": "stderr",
     "output_type": "stream",
     "text": [
      "\rDictNBHDTransformer fit stage 1:  74%|███████▍  | 7029764/9517064 [01:06<00:23, 105334.96it/s]"
     ]
    },
    {
     "name": "stderr",
     "output_type": "stream",
     "text": [
      "\rDictNBHDTransformer fit stage 1:  74%|███████▍  | 7045115/9517064 [01:09<00:24, 100659.54it/s]"
     ]
    },
    {
     "name": "stderr",
     "output_type": "stream",
     "text": [
      "\rDictNBHDTransformer fit stage 1:  74%|███████▍  | 7060348/9517064 [01:10<00:24, 100733.25it/s]"
     ]
    },
    {
     "name": "stderr",
     "output_type": "stream",
     "text": [
      "\rDictNBHDTransformer fit stage 1:  74%|███████▍  | 7077074/9517064 [01:10<00:24, 100828.03it/s]"
     ]
    },
    {
     "name": "stderr",
     "output_type": "stream",
     "text": [
      "\rDictNBHDTransformer fit stage 1:  75%|███████▍  | 7092636/9517064 [01:10<00:24, 100905.94it/s]"
     ]
    },
    {
     "name": "stderr",
     "output_type": "stream",
     "text": [
      "\rDictNBHDTransformer fit stage 1:  75%|███████▍  | 7109173/9517064 [01:10<00:23, 100997.55it/s]"
     ]
    },
    {
     "name": "stderr",
     "output_type": "stream",
     "text": [
      "\rDictNBHDTransformer fit stage 1:  75%|███████▍  | 7126789/9517064 [01:10<00:23, 101104.18it/s]"
     ]
    },
    {
     "name": "stderr",
     "output_type": "stream",
     "text": [
      "\rDictNBHDTransformer fit stage 1:  75%|███████▌  | 7144057/9517064 [01:10<00:23, 101205.57it/s]"
     ]
    },
    {
     "name": "stderr",
     "output_type": "stream",
     "text": [
      "\rDictNBHDTransformer fit stage 1:  75%|███████▌  | 7162059/9517064 [01:10<00:23, 101317.06it/s]"
     ]
    },
    {
     "name": "stderr",
     "output_type": "stream",
     "text": [
      "\rDictNBHDTransformer fit stage 1:  75%|███████▌  | 7179742/9517064 [01:10<00:23, 101423.73it/s]"
     ]
    },
    {
     "name": "stderr",
     "output_type": "stream",
     "text": [
      "\rDictNBHDTransformer fit stage 1:  76%|███████▌  | 7197581/9517064 [01:10<00:22, 101532.29it/s]"
     ]
    },
    {
     "name": "stderr",
     "output_type": "stream",
     "text": [
      "\rDictNBHDTransformer fit stage 1:  76%|███████▌  | 7215767/9517064 [01:10<00:22, 101645.43it/s]"
     ]
    },
    {
     "name": "stderr",
     "output_type": "stream",
     "text": [
      "\rDictNBHDTransformer fit stage 1:  76%|███████▌  | 7233821/9517064 [01:11<00:22, 101756.41it/s]"
     ]
    },
    {
     "name": "stderr",
     "output_type": "stream",
     "text": [
      "\rDictNBHDTransformer fit stage 1:  76%|███████▌  | 7251512/9517064 [01:11<00:22, 101852.87it/s]"
     ]
    },
    {
     "name": "stderr",
     "output_type": "stream",
     "text": [
      "\rDictNBHDTransformer fit stage 1:  76%|███████▋  | 7269859/9517064 [01:11<00:22, 101967.34it/s]"
     ]
    },
    {
     "name": "stderr",
     "output_type": "stream",
     "text": [
      "\rDictNBHDTransformer fit stage 1:  77%|███████▋  | 7288488/9517064 [01:11<00:21, 102085.46it/s]"
     ]
    },
    {
     "name": "stderr",
     "output_type": "stream",
     "text": [
      "\rDictNBHDTransformer fit stage 1:  77%|███████▋  | 7306800/9517064 [01:11<00:21, 102198.80it/s]"
     ]
    },
    {
     "name": "stderr",
     "output_type": "stream",
     "text": [
      "\rDictNBHDTransformer fit stage 1:  77%|███████▋  | 7324862/9517064 [01:11<00:21, 102297.78it/s]"
     ]
    },
    {
     "name": "stderr",
     "output_type": "stream",
     "text": [
      "\rDictNBHDTransformer fit stage 1:  77%|███████▋  | 7342552/9517064 [01:11<00:21, 102367.43it/s]"
     ]
    },
    {
     "name": "stderr",
     "output_type": "stream",
     "text": [
      "\rDictNBHDTransformer fit stage 1:  77%|███████▋  | 7359212/9517064 [01:11<00:21, 102449.23it/s]"
     ]
    },
    {
     "name": "stderr",
     "output_type": "stream",
     "text": [
      "\rDictNBHDTransformer fit stage 1:  78%|███████▊  | 7376040/9517064 [01:11<00:20, 102540.71it/s]"
     ]
    },
    {
     "name": "stderr",
     "output_type": "stream",
     "text": [
      "\rDictNBHDTransformer fit stage 1:  78%|███████▊  | 7392748/9517064 [01:12<00:20, 102630.34it/s]"
     ]
    },
    {
     "name": "stderr",
     "output_type": "stream",
     "text": [
      "\rDictNBHDTransformer fit stage 1:  78%|███████▊  | 7409408/9517064 [01:12<00:20, 102719.01it/s]"
     ]
    },
    {
     "name": "stderr",
     "output_type": "stream",
     "text": [
      "\rDictNBHDTransformer fit stage 1:  78%|███████▊  | 7426016/9517064 [01:12<00:20, 102803.20it/s]"
     ]
    },
    {
     "name": "stderr",
     "output_type": "stream",
     "text": [
      "\rDictNBHDTransformer fit stage 1:  78%|███████▊  | 7442504/9517064 [01:12<00:20, 102885.60it/s]"
     ]
    },
    {
     "name": "stderr",
     "output_type": "stream",
     "text": [
      "\rDictNBHDTransformer fit stage 1:  78%|███████▊  | 7458883/9517064 [01:13<00:20, 101981.36it/s]"
     ]
    },
    {
     "name": "stderr",
     "output_type": "stream",
     "text": [
      "\rDictNBHDTransformer fit stage 1:  79%|███████▊  | 7474881/9517064 [01:13<00:20, 102060.53it/s]"
     ]
    },
    {
     "name": "stderr",
     "output_type": "stream",
     "text": [
      "\rDictNBHDTransformer fit stage 1:  79%|███████▊  | 7489687/9517064 [01:13<00:19, 102123.26it/s]"
     ]
    },
    {
     "name": "stderr",
     "output_type": "stream",
     "text": [
      "\rDictNBHDTransformer fit stage 1:  79%|███████▉  | 7506547/9517064 [01:13<00:19, 102213.77it/s]"
     ]
    },
    {
     "name": "stderr",
     "output_type": "stream",
     "text": [
      "\rDictNBHDTransformer fit stage 1:  79%|███████▉  | 7521209/9517064 [01:13<00:19, 102252.79it/s]"
     ]
    },
    {
     "name": "stderr",
     "output_type": "stream",
     "text": [
      "\rDictNBHDTransformer fit stage 1:  79%|███████▉  | 7535558/9517064 [01:13<00:19, 102308.76it/s]"
     ]
    },
    {
     "name": "stderr",
     "output_type": "stream",
     "text": [
      "\rDictNBHDTransformer fit stage 1:  79%|███████▉  | 7551302/9517064 [01:13<00:19, 102383.50it/s]"
     ]
    },
    {
     "name": "stderr",
     "output_type": "stream",
     "text": [
      "\rDictNBHDTransformer fit stage 1:  79%|███████▉  | 7565936/9517064 [01:13<00:19, 102442.89it/s]"
     ]
    },
    {
     "name": "stderr",
     "output_type": "stream",
     "text": [
      "\rDictNBHDTransformer fit stage 1:  80%|███████▉  | 7580566/9517064 [01:13<00:18, 102497.24it/s]"
     ]
    },
    {
     "name": "stderr",
     "output_type": "stream",
     "text": [
      "\rDictNBHDTransformer fit stage 1:  80%|███████▉  | 7595045/9517064 [01:14<00:18, 102534.14it/s]"
     ]
    },
    {
     "name": "stderr",
     "output_type": "stream",
     "text": [
      "\rDictNBHDTransformer fit stage 1:  80%|███████▉  | 7608971/9517064 [01:14<00:18, 102445.24it/s]"
     ]
    },
    {
     "name": "stderr",
     "output_type": "stream",
     "text": [
      "\rDictNBHDTransformer fit stage 1:  80%|████████  | 7620806/9517064 [01:14<00:18, 102441.39it/s]"
     ]
    },
    {
     "name": "stderr",
     "output_type": "stream",
     "text": [
      "\rDictNBHDTransformer fit stage 1:  80%|████████  | 7632699/9517064 [01:14<00:18, 102463.52it/s]"
     ]
    },
    {
     "name": "stderr",
     "output_type": "stream",
     "text": [
      "\rDictNBHDTransformer fit stage 1:  80%|████████  | 7645994/9517064 [01:14<00:18, 102504.38it/s]"
     ]
    },
    {
     "name": "stderr",
     "output_type": "stream",
     "text": [
      "\rDictNBHDTransformer fit stage 1:  81%|████████  | 7661879/9517064 [01:14<00:18, 102579.81it/s]"
     ]
    },
    {
     "name": "stderr",
     "output_type": "stream",
     "text": [
      "\rDictNBHDTransformer fit stage 1:  81%|████████  | 7677995/9517064 [01:14<00:17, 102658.14it/s]"
     ]
    },
    {
     "name": "stderr",
     "output_type": "stream",
     "text": [
      "\rDictNBHDTransformer fit stage 1:  81%|████████  | 7694962/9517064 [01:14<00:17, 102747.61it/s]"
     ]
    },
    {
     "name": "stderr",
     "output_type": "stream",
     "text": [
      "\rDictNBHDTransformer fit stage 1:  81%|████████  | 7711936/9517064 [01:14<00:17, 102836.94it/s]"
     ]
    },
    {
     "name": "stderr",
     "output_type": "stream",
     "text": [
      "\rDictNBHDTransformer fit stage 1:  81%|████████  | 7729039/9517064 [01:15<00:17, 102927.75it/s]"
     ]
    },
    {
     "name": "stderr",
     "output_type": "stream",
     "text": [
      "\rDictNBHDTransformer fit stage 1:  81%|████████▏ | 7745999/9517064 [01:15<00:17, 103016.41it/s]"
     ]
    },
    {
     "name": "stderr",
     "output_type": "stream",
     "text": [
      "\rDictNBHDTransformer fit stage 1:  82%|████████▏ | 7762295/9517064 [01:15<00:17, 103090.08it/s]"
     ]
    },
    {
     "name": "stderr",
     "output_type": "stream",
     "text": [
      "\rDictNBHDTransformer fit stage 1:  82%|████████▏ | 7779301/9517064 [01:15<00:16, 103178.90it/s]"
     ]
    },
    {
     "name": "stderr",
     "output_type": "stream",
     "text": [
      "\rDictNBHDTransformer fit stage 1:  82%|████████▏ | 7796050/9517064 [01:15<00:16, 103264.08it/s]"
     ]
    },
    {
     "name": "stderr",
     "output_type": "stream",
     "text": [
      "\rDictNBHDTransformer fit stage 1:  82%|████████▏ | 7813763/9517064 [01:15<00:16, 103361.79it/s]"
     ]
    },
    {
     "name": "stderr",
     "output_type": "stream",
     "text": [
      "\rDictNBHDTransformer fit stage 1:  82%|████████▏ | 7831004/9517064 [01:15<00:16, 103452.99it/s]"
     ]
    },
    {
     "name": "stderr",
     "output_type": "stream",
     "text": [
      "\rDictNBHDTransformer fit stage 1:  82%|████████▏ | 7847972/9517064 [01:15<00:16, 103525.39it/s]"
     ]
    },
    {
     "name": "stderr",
     "output_type": "stream",
     "text": [
      "\rDictNBHDTransformer fit stage 1:  83%|████████▎ | 7865978/9517064 [01:15<00:15, 103626.21it/s]"
     ]
    },
    {
     "name": "stderr",
     "output_type": "stream",
     "text": [
      "\rDictNBHDTransformer fit stage 1:  83%|████████▎ | 7883853/9517064 [01:16<00:15, 103725.04it/s]"
     ]
    },
    {
     "name": "stderr",
     "output_type": "stream",
     "text": [
      "\rDictNBHDTransformer fit stage 1:  83%|████████▎ | 7901544/9517064 [01:16<00:15, 103821.20it/s]"
     ]
    },
    {
     "name": "stderr",
     "output_type": "stream",
     "text": [
      "\rDictNBHDTransformer fit stage 1:  83%|████████▎ | 7919565/9517064 [01:16<00:15, 103921.42it/s]"
     ]
    },
    {
     "name": "stderr",
     "output_type": "stream",
     "text": [
      "\rDictNBHDTransformer fit stage 1:  83%|████████▎ | 7937120/9517064 [01:16<00:15, 104007.04it/s]"
     ]
    },
    {
     "name": "stderr",
     "output_type": "stream",
     "text": [
      "\rDictNBHDTransformer fit stage 1:  84%|████████▎ | 7954448/9517064 [01:16<00:15, 104097.63it/s]"
     ]
    },
    {
     "name": "stderr",
     "output_type": "stream",
     "text": [
      "\rDictNBHDTransformer fit stage 1:  84%|████████▍ | 7972377/9517064 [01:16<00:14, 104195.92it/s]"
     ]
    },
    {
     "name": "stderr",
     "output_type": "stream",
     "text": [
      "\rDictNBHDTransformer fit stage 1:  84%|████████▍ | 7989848/9517064 [01:16<00:14, 104253.88it/s]"
     ]
    },
    {
     "name": "stderr",
     "output_type": "stream",
     "text": [
      "\rDictNBHDTransformer fit stage 1:  84%|████████▍ | 8006270/9517064 [01:16<00:14, 104330.94it/s]"
     ]
    },
    {
     "name": "stderr",
     "output_type": "stream",
     "text": [
      "\rDictNBHDTransformer fit stage 1:  84%|████████▍ | 8023919/9517064 [01:16<00:14, 104424.84it/s]"
     ]
    },
    {
     "name": "stderr",
     "output_type": "stream",
     "text": [
      "\rDictNBHDTransformer fit stage 1:  84%|████████▍ | 8041852/9517064 [01:16<00:14, 104522.19it/s]"
     ]
    },
    {
     "name": "stderr",
     "output_type": "stream",
     "text": [
      "\rDictNBHDTransformer fit stage 1:  85%|████████▍ | 8059514/9517064 [01:17<00:13, 104615.77it/s]"
     ]
    },
    {
     "name": "stderr",
     "output_type": "stream",
     "text": [
      "\rDictNBHDTransformer fit stage 1:  85%|████████▍ | 8076891/9517064 [01:17<00:13, 104705.41it/s]"
     ]
    },
    {
     "name": "stderr",
     "output_type": "stream",
     "text": [
      "\rDictNBHDTransformer fit stage 1:  85%|████████▌ | 8094583/9517064 [01:17<00:13, 104798.89it/s]"
     ]
    },
    {
     "name": "stderr",
     "output_type": "stream",
     "text": [
      "\rDictNBHDTransformer fit stage 1:  85%|████████▌ | 8112006/9517064 [01:17<00:13, 104886.55it/s]"
     ]
    },
    {
     "name": "stderr",
     "output_type": "stream",
     "text": [
      "\rDictNBHDTransformer fit stage 1:  85%|████████▌ | 8129349/9517064 [01:17<00:13, 104970.02it/s]"
     ]
    },
    {
     "name": "stderr",
     "output_type": "stream",
     "text": [
      "\rDictNBHDTransformer fit stage 1:  86%|████████▌ | 8146511/9517064 [01:17<00:13, 105052.58it/s]"
     ]
    },
    {
     "name": "stderr",
     "output_type": "stream",
     "text": [
      "\rDictNBHDTransformer fit stage 1:  86%|████████▌ | 8163550/9517064 [01:17<00:12, 105130.02it/s]"
     ]
    },
    {
     "name": "stderr",
     "output_type": "stream",
     "text": [
      "\rDictNBHDTransformer fit stage 1:  86%|████████▌ | 8180484/9517064 [01:17<00:12, 105212.62it/s]"
     ]
    },
    {
     "name": "stderr",
     "output_type": "stream",
     "text": [
      "\rDictNBHDTransformer fit stage 1:  86%|████████▌ | 8197551/9517064 [01:17<00:12, 105296.70it/s]"
     ]
    },
    {
     "name": "stderr",
     "output_type": "stream",
     "text": [
      "\rDictNBHDTransformer fit stage 1:  86%|████████▋ | 8214455/9517064 [01:17<00:12, 105371.22it/s]"
     ]
    },
    {
     "name": "stderr",
     "output_type": "stream",
     "text": [
      "\rDictNBHDTransformer fit stage 1:  86%|████████▋ | 8231101/9517064 [01:18<00:12, 105439.56it/s]"
     ]
    },
    {
     "name": "stderr",
     "output_type": "stream",
     "text": [
      "\rDictNBHDTransformer fit stage 1:  87%|████████▋ | 8247937/9517064 [01:18<00:12, 105520.04it/s]"
     ]
    },
    {
     "name": "stderr",
     "output_type": "stream",
     "text": [
      "\rDictNBHDTransformer fit stage 1:  87%|████████▋ | 8264401/9517064 [01:18<00:11, 105588.33it/s]"
     ]
    },
    {
     "name": "stderr",
     "output_type": "stream",
     "text": [
      "\rDictNBHDTransformer fit stage 1:  87%|████████▋ | 8280613/9517064 [01:18<00:11, 105659.33it/s]"
     ]
    },
    {
     "name": "stderr",
     "output_type": "stream",
     "text": [
      "\rDictNBHDTransformer fit stage 1:  87%|████████▋ | 8296785/9517064 [01:18<00:11, 105729.53it/s]"
     ]
    },
    {
     "name": "stderr",
     "output_type": "stream",
     "text": [
      "\rDictNBHDTransformer fit stage 1:  87%|████████▋ | 8312912/9517064 [01:18<00:11, 105796.48it/s]"
     ]
    },
    {
     "name": "stderr",
     "output_type": "stream",
     "text": [
      "\rDictNBHDTransformer fit stage 1:  88%|████████▊ | 8328909/9517064 [01:18<00:11, 105861.12it/s]"
     ]
    },
    {
     "name": "stderr",
     "output_type": "stream",
     "text": [
      "\rDictNBHDTransformer fit stage 1:  88%|████████▊ | 8344761/9517064 [01:18<00:11, 105902.52it/s]"
     ]
    },
    {
     "name": "stderr",
     "output_type": "stream",
     "text": [
      "\rDictNBHDTransformer fit stage 1:  88%|████████▊ | 8359856/9517064 [01:18<00:10, 105933.53it/s]"
     ]
    },
    {
     "name": "stderr",
     "output_type": "stream",
     "text": [
      "\rDictNBHDTransformer fit stage 1:  88%|████████▊ | 8374214/9517064 [01:19<00:10, 105944.01it/s]"
     ]
    },
    {
     "name": "stderr",
     "output_type": "stream",
     "text": [
      "\rDictNBHDTransformer fit stage 1:  88%|████████▊ | 8389634/9517064 [01:19<00:10, 106004.96it/s]"
     ]
    },
    {
     "name": "stderr",
     "output_type": "stream",
     "text": [
      "\rDictNBHDTransformer fit stage 1:  88%|████████▊ | 8404939/9517064 [01:19<00:10, 106064.34it/s]"
     ]
    },
    {
     "name": "stderr",
     "output_type": "stream",
     "text": [
      "\rDictNBHDTransformer fit stage 1:  88%|████████▊ | 8420470/9517064 [01:19<00:10, 106126.40it/s]"
     ]
    },
    {
     "name": "stderr",
     "output_type": "stream",
     "text": [
      "\rDictNBHDTransformer fit stage 1:  89%|████████▊ | 8436460/9517064 [01:19<00:10, 106194.08it/s]"
     ]
    },
    {
     "name": "stderr",
     "output_type": "stream",
     "text": [
      "\rDictNBHDTransformer fit stage 1:  89%|████████▉ | 8451578/9517064 [01:19<00:10, 106208.52it/s]"
     ]
    },
    {
     "name": "stderr",
     "output_type": "stream",
     "text": [
      "\rDictNBHDTransformer fit stage 1:  89%|████████▉ | 8465609/9517064 [01:19<00:09, 106223.90it/s]"
     ]
    },
    {
     "name": "stderr",
     "output_type": "stream",
     "text": [
      "\rDictNBHDTransformer fit stage 1:  89%|████████▉ | 8478922/9517064 [01:19<00:09, 106249.76it/s]"
     ]
    },
    {
     "name": "stderr",
     "output_type": "stream",
     "text": [
      "\rDictNBHDTransformer fit stage 1:  89%|████████▉ | 8492012/9517064 [01:19<00:09, 106271.30it/s]"
     ]
    },
    {
     "name": "stderr",
     "output_type": "stream",
     "text": [
      "\rDictNBHDTransformer fit stage 1:  89%|████████▉ | 8505368/9517064 [01:20<00:09, 106305.16it/s]"
     ]
    },
    {
     "name": "stderr",
     "output_type": "stream",
     "text": [
      "\rDictNBHDTransformer fit stage 1:  90%|████████▉ | 8518359/9517064 [01:20<00:09, 106272.49it/s]"
     ]
    },
    {
     "name": "stderr",
     "output_type": "stream",
     "text": [
      "\rDictNBHDTransformer fit stage 1:  90%|████████▉ | 8530877/9517064 [01:20<00:09, 106296.08it/s]"
     ]
    },
    {
     "name": "stderr",
     "output_type": "stream",
     "text": [
      "\rDictNBHDTransformer fit stage 1:  90%|████████▉ | 8543193/9517064 [01:20<00:09, 106317.03it/s]"
     ]
    },
    {
     "name": "stderr",
     "output_type": "stream",
     "text": [
      "\rDictNBHDTransformer fit stage 1:  90%|████████▉ | 8556145/9517064 [01:20<00:09, 106345.88it/s]"
     ]
    },
    {
     "name": "stderr",
     "output_type": "stream",
     "text": [
      "\rDictNBHDTransformer fit stage 1:  90%|█████████ | 8569579/9517064 [01:20<00:08, 106380.62it/s]"
     ]
    },
    {
     "name": "stderr",
     "output_type": "stream",
     "text": [
      "\rDictNBHDTransformer fit stage 1:  90%|█████████ | 8583846/9517064 [01:20<00:08, 106425.61it/s]"
     ]
    },
    {
     "name": "stderr",
     "output_type": "stream",
     "text": [
      "\rDictNBHDTransformer fit stage 1:  90%|█████████ | 8600608/9517064 [01:20<00:08, 106501.38it/s]"
     ]
    },
    {
     "name": "stderr",
     "output_type": "stream",
     "text": [
      "\rDictNBHDTransformer fit stage 1:  91%|█████████ | 8614840/9517064 [01:20<00:08, 106544.70it/s]"
     ]
    },
    {
     "name": "stderr",
     "output_type": "stream",
     "text": [
      "\rDictNBHDTransformer fit stage 1:  91%|█████████ | 8629042/9517064 [01:20<00:08, 106581.20it/s]"
     ]
    },
    {
     "name": "stderr",
     "output_type": "stream",
     "text": [
      "\rDictNBHDTransformer fit stage 1:  91%|█████████ | 8645247/9517064 [01:21<00:08, 106649.62it/s]"
     ]
    },
    {
     "name": "stderr",
     "output_type": "stream",
     "text": [
      "\rDictNBHDTransformer fit stage 1:  91%|█████████ | 8661197/9517064 [01:21<00:08, 106714.74it/s]"
     ]
    },
    {
     "name": "stderr",
     "output_type": "stream",
     "text": [
      "\rDictNBHDTransformer fit stage 1:  91%|█████████ | 8676287/9517064 [01:21<00:07, 106769.11it/s]"
     ]
    },
    {
     "name": "stderr",
     "output_type": "stream",
     "text": [
      "\rDictNBHDTransformer fit stage 1:  91%|█████████▏| 8693790/9517064 [01:21<00:07, 106853.01it/s]"
     ]
    },
    {
     "name": "stderr",
     "output_type": "stream",
     "text": [
      "\rDictNBHDTransformer fit stage 1:  92%|█████████▏| 8709578/9517064 [01:21<00:07, 106913.66it/s]"
     ]
    },
    {
     "name": "stderr",
     "output_type": "stream",
     "text": [
      "\rDictNBHDTransformer fit stage 1:  92%|█████████▏| 8725296/9517064 [01:21<00:07, 106958.01it/s]"
     ]
    },
    {
     "name": "stderr",
     "output_type": "stream",
     "text": [
      "\rDictNBHDTransformer fit stage 1:  92%|█████████▏| 8740465/9517064 [01:21<00:07, 106966.85it/s]"
     ]
    },
    {
     "name": "stderr",
     "output_type": "stream",
     "text": [
      "\rDictNBHDTransformer fit stage 1:  92%|█████████▏| 8754774/9517064 [01:21<00:07, 107011.00it/s]"
     ]
    },
    {
     "name": "stderr",
     "output_type": "stream",
     "text": [
      "\rDictNBHDTransformer fit stage 1:  92%|█████████▏| 8768944/9517064 [01:21<00:06, 107053.34it/s]"
     ]
    },
    {
     "name": "stderr",
     "output_type": "stream",
     "text": [
      "\rDictNBHDTransformer fit stage 1:  92%|█████████▏| 8783962/9517064 [01:22<00:06, 107105.93it/s]"
     ]
    },
    {
     "name": "stderr",
     "output_type": "stream",
     "text": [
      "\rDictNBHDTransformer fit stage 1:  92%|█████████▏| 8798344/9517064 [01:22<00:06, 107142.54it/s]"
     ]
    },
    {
     "name": "stderr",
     "output_type": "stream",
     "text": [
      "\rDictNBHDTransformer fit stage 1:  93%|█████████▎| 8813397/9517064 [01:22<00:06, 107195.30it/s]"
     ]
    },
    {
     "name": "stderr",
     "output_type": "stream",
     "text": [
      "\rDictNBHDTransformer fit stage 1:  93%|█████████▎| 8827862/9517064 [01:22<00:06, 107240.79it/s]"
     ]
    },
    {
     "name": "stderr",
     "output_type": "stream",
     "text": [
      "\rDictNBHDTransformer fit stage 1:  93%|█████████▎| 8842866/9517064 [01:22<00:06, 107292.72it/s]"
     ]
    },
    {
     "name": "stderr",
     "output_type": "stream",
     "text": [
      "\rDictNBHDTransformer fit stage 1:  93%|█████████▎| 8857464/9517064 [01:22<00:06, 107332.62it/s]"
     ]
    },
    {
     "name": "stderr",
     "output_type": "stream",
     "text": [
      "\rDictNBHDTransformer fit stage 1:  93%|█████████▎| 8872782/9517064 [01:22<00:05, 107388.31it/s]"
     ]
    },
    {
     "name": "stderr",
     "output_type": "stream",
     "text": [
      "\rDictNBHDTransformer fit stage 1:  93%|█████████▎| 8887445/9517064 [01:22<00:05, 107415.21it/s]"
     ]
    },
    {
     "name": "stderr",
     "output_type": "stream",
     "text": [
      "\rDictNBHDTransformer fit stage 1:  94%|█████████▎| 8901507/9517064 [01:22<00:05, 107435.85it/s]"
     ]
    },
    {
     "name": "stderr",
     "output_type": "stream",
     "text": [
      "\rDictNBHDTransformer fit stage 1:  94%|█████████▎| 8915019/9517064 [01:22<00:05, 107467.64it/s]"
     ]
    },
    {
     "name": "stderr",
     "output_type": "stream",
     "text": [
      "\rDictNBHDTransformer fit stage 1:  94%|█████████▍| 8928770/9517064 [01:23<00:05, 107503.84it/s]"
     ]
    },
    {
     "name": "stderr",
     "output_type": "stream",
     "text": [
      "\rDictNBHDTransformer fit stage 1:  94%|█████████▍| 8944434/9517064 [01:23<00:05, 107562.87it/s]"
     ]
    },
    {
     "name": "stderr",
     "output_type": "stream",
     "text": [
      "\rDictNBHDTransformer fit stage 1:  94%|█████████▍| 8958618/9517064 [01:23<00:05, 107596.18it/s]"
     ]
    },
    {
     "name": "stderr",
     "output_type": "stream",
     "text": [
      "\rDictNBHDTransformer fit stage 1:  94%|█████████▍| 8972712/9517064 [01:23<00:05, 107636.02it/s]"
     ]
    },
    {
     "name": "stderr",
     "output_type": "stream",
     "text": [
      "\rDictNBHDTransformer fit stage 1:  94%|█████████▍| 8988945/9517064 [01:23<00:04, 107701.72it/s]"
     ]
    },
    {
     "name": "stderr",
     "output_type": "stream",
     "text": [
      "\rDictNBHDTransformer fit stage 1:  95%|█████████▍| 9006677/9517064 [01:23<00:04, 107785.03it/s]"
     ]
    },
    {
     "name": "stderr",
     "output_type": "stream",
     "text": [
      "\rDictNBHDTransformer fit stage 1:  95%|█████████▍| 9022980/9517064 [01:23<00:04, 107851.06it/s]"
     ]
    },
    {
     "name": "stderr",
     "output_type": "stream",
     "text": [
      "\rDictNBHDTransformer fit stage 1:  95%|█████████▍| 9038898/9517064 [01:23<00:04, 107912.34it/s]"
     ]
    },
    {
     "name": "stderr",
     "output_type": "stream",
     "text": [
      "\rDictNBHDTransformer fit stage 1:  95%|█████████▌| 9056653/9517064 [01:23<00:04, 107995.37it/s]"
     ]
    },
    {
     "name": "stderr",
     "output_type": "stream",
     "text": [
      "\rDictNBHDTransformer fit stage 1:  95%|█████████▌| 9073244/9517064 [01:23<00:04, 108064.34it/s]"
     ]
    },
    {
     "name": "stderr",
     "output_type": "stream",
     "text": [
      "\rDictNBHDTransformer fit stage 1:  96%|█████████▌| 9089708/9517064 [01:24<00:03, 108127.20it/s]"
     ]
    },
    {
     "name": "stderr",
     "output_type": "stream",
     "text": [
      "\rDictNBHDTransformer fit stage 1:  96%|█████████▌| 9106486/9517064 [01:24<00:03, 108197.91it/s]"
     ]
    },
    {
     "name": "stderr",
     "output_type": "stream",
     "text": [
      "\rDictNBHDTransformer fit stage 1:  96%|█████████▌| 9124176/9517064 [01:24<00:03, 108279.59it/s]"
     ]
    },
    {
     "name": "stderr",
     "output_type": "stream",
     "text": [
      "\rDictNBHDTransformer fit stage 1:  96%|█████████▌| 9140993/9517064 [01:24<00:03, 108340.20it/s]"
     ]
    },
    {
     "name": "stderr",
     "output_type": "stream",
     "text": [
      "\rDictNBHDTransformer fit stage 1:  96%|█████████▌| 9157438/9517064 [01:24<00:03, 108402.97it/s]"
     ]
    },
    {
     "name": "stderr",
     "output_type": "stream",
     "text": [
      "\rDictNBHDTransformer fit stage 1:  96%|█████████▋| 9174088/9517064 [01:24<00:03, 108471.51it/s]"
     ]
    },
    {
     "name": "stderr",
     "output_type": "stream",
     "text": [
      "\rDictNBHDTransformer fit stage 1:  97%|█████████▋| 9190495/9517064 [01:24<00:03, 108533.05it/s]"
     ]
    },
    {
     "name": "stderr",
     "output_type": "stream",
     "text": [
      "\rDictNBHDTransformer fit stage 1:  97%|█████████▋| 9207174/9517064 [01:24<00:02, 108601.76it/s]"
     ]
    },
    {
     "name": "stderr",
     "output_type": "stream",
     "text": [
      "\rDictNBHDTransformer fit stage 1:  97%|█████████▋| 9224153/9517064 [01:24<00:02, 108673.84it/s]"
     ]
    },
    {
     "name": "stderr",
     "output_type": "stream",
     "text": [
      "\rDictNBHDTransformer fit stage 1:  97%|█████████▋| 9240925/9517064 [01:24<00:02, 108743.30it/s]"
     ]
    },
    {
     "name": "stderr",
     "output_type": "stream",
     "text": [
      "\rDictNBHDTransformer fit stage 1:  97%|█████████▋| 9258417/9517064 [01:25<00:02, 108821.09it/s]"
     ]
    },
    {
     "name": "stderr",
     "output_type": "stream",
     "text": [
      "\rDictNBHDTransformer fit stage 1:  97%|█████████▋| 9275747/9517064 [01:25<00:02, 108896.78it/s]"
     ]
    },
    {
     "name": "stderr",
     "output_type": "stream",
     "text": [
      "\rDictNBHDTransformer fit stage 1:  98%|█████████▊| 9293756/9517064 [01:25<00:02, 108980.21it/s]"
     ]
    },
    {
     "name": "stderr",
     "output_type": "stream",
     "text": [
      "\rDictNBHDTransformer fit stage 1:  98%|█████████▊| 9311672/9517064 [01:25<00:01, 109062.41it/s]"
     ]
    },
    {
     "name": "stderr",
     "output_type": "stream",
     "text": [
      "\rDictNBHDTransformer fit stage 1:  98%|█████████▊| 9329166/9517064 [01:25<00:01, 109135.10it/s]"
     ]
    },
    {
     "name": "stderr",
     "output_type": "stream",
     "text": [
      "\rDictNBHDTransformer fit stage 1:  98%|█████████▊| 9346486/9517064 [01:25<00:01, 109207.44it/s]"
     ]
    },
    {
     "name": "stderr",
     "output_type": "stream",
     "text": [
      "\rDictNBHDTransformer fit stage 1:  98%|█████████▊| 9364237/9517064 [01:25<00:01, 109287.16it/s]"
     ]
    },
    {
     "name": "stderr",
     "output_type": "stream",
     "text": [
      "\rDictNBHDTransformer fit stage 1:  99%|█████████▊| 9382348/9517064 [01:25<00:01, 109370.88it/s]"
     ]
    },
    {
     "name": "stderr",
     "output_type": "stream",
     "text": [
      "\rDictNBHDTransformer fit stage 1:  99%|█████████▉| 9399947/9517064 [01:29<00:01, 104856.50it/s]"
     ]
    },
    {
     "name": "stderr",
     "output_type": "stream",
     "text": [
      "\rDictNBHDTransformer fit stage 1:  99%|█████████▉| 9414699/9517064 [01:29<00:00, 104904.03it/s]"
     ]
    },
    {
     "name": "stderr",
     "output_type": "stream",
     "text": [
      "\rDictNBHDTransformer fit stage 1:  99%|█████████▉| 9429850/9517064 [01:29<00:00, 104955.91it/s]"
     ]
    },
    {
     "name": "stderr",
     "output_type": "stream",
     "text": [
      "\rDictNBHDTransformer fit stage 1:  99%|█████████▉| 9445429/9517064 [01:29<00:00, 105012.41it/s]"
     ]
    },
    {
     "name": "stderr",
     "output_type": "stream",
     "text": [
      "\rDictNBHDTransformer fit stage 1:  99%|█████████▉| 9459725/9517064 [01:30<00:00, 105042.74it/s]"
     ]
    },
    {
     "name": "stderr",
     "output_type": "stream",
     "text": [
      "\rDictNBHDTransformer fit stage 1: 100%|█████████▉| 9474514/9517064 [01:30<00:00, 105090.27it/s]"
     ]
    },
    {
     "name": "stderr",
     "output_type": "stream",
     "text": [
      "\rDictNBHDTransformer fit stage 1: 100%|█████████▉| 9491778/9517064 [01:30<00:00, 105165.11it/s]"
     ]
    },
    {
     "name": "stderr",
     "output_type": "stream",
     "text": [
      "\rDictNBHDTransformer fit stage 1: 100%|█████████▉| 9509234/9517064 [01:30<00:00, 105241.90it/s]"
     ]
    },
    {
     "name": "stderr",
     "output_type": "stream",
     "text": [
      "\rDictNBHDTransformer fit stage 1: 100%|██████████| 9517064/9517064 [01:30<00:00, 105044.01it/s]"
     ]
    },
    {
     "name": "stderr",
     "output_type": "stream",
     "text": [
      "\n\rDictNBHDTransformer fit stage 2:   0%|          | 0/7002961 [00:00<?, ?it/s]"
     ]
    },
    {
     "name": "stderr",
     "output_type": "stream",
     "text": [
      "\rDictNBHDTransformer fit stage 2:   0%|          | 15622/7002961 [00:00<00:44, 156182.17it/s]"
     ]
    },
    {
     "name": "stderr",
     "output_type": "stream",
     "text": [
      "\rDictNBHDTransformer fit stage 2:   0%|          | 30126/7002961 [00:00<00:46, 150601.96it/s]"
     ]
    },
    {
     "name": "stderr",
     "output_type": "stream",
     "text": [
      "\rDictNBHDTransformer fit stage 2:   1%|          | 44603/7002961 [00:00<00:46, 148661.33it/s]"
     ]
    },
    {
     "name": "stderr",
     "output_type": "stream",
     "text": [
      "\rDictNBHDTransformer fit stage 2:   1%|          | 60313/7002961 [00:00<00:46, 150770.06it/s]"
     ]
    },
    {
     "name": "stderr",
     "output_type": "stream",
     "text": [
      "\rDictNBHDTransformer fit stage 2:   1%|          | 75756/7002961 [00:00<00:45, 151499.86it/s]"
     ]
    },
    {
     "name": "stderr",
     "output_type": "stream",
     "text": [
      "\rDictNBHDTransformer fit stage 2:   1%|▏         | 89469/7002961 [00:00<00:46, 149103.11it/s]"
     ]
    },
    {
     "name": "stderr",
     "output_type": "stream",
     "text": [
      "\rDictNBHDTransformer fit stage 2:   2%|▏         | 105286/7002961 [00:00<00:45, 150390.94it/s]"
     ]
    },
    {
     "name": "stderr",
     "output_type": "stream",
     "text": [
      "\rDictNBHDTransformer fit stage 2:   2%|▏         | 119606/7002961 [00:00<00:46, 149496.99it/s]"
     ]
    },
    {
     "name": "stderr",
     "output_type": "stream",
     "text": [
      "\rDictNBHDTransformer fit stage 2:   2%|▏         | 134892/7002961 [00:00<00:45, 149870.18it/s]"
     ]
    },
    {
     "name": "stderr",
     "output_type": "stream",
     "text": [
      "\rDictNBHDTransformer fit stage 2:   2%|▏         | 149427/7002961 [00:01<00:45, 149409.65it/s]"
     ]
    },
    {
     "name": "stderr",
     "output_type": "stream",
     "text": [
      "\rDictNBHDTransformer fit stage 2:   2%|▏         | 163846/7002961 [00:01<00:46, 147759.59it/s]"
     ]
    },
    {
     "name": "stderr",
     "output_type": "stream",
     "text": [
      "\rDictNBHDTransformer fit stage 2:   3%|▎         | 177922/7002961 [00:01<00:46, 146729.97it/s]"
     ]
    },
    {
     "name": "stderr",
     "output_type": "stream",
     "text": [
      "\rDictNBHDTransformer fit stage 2:   3%|▎         | 193116/7002961 [00:01<00:46, 147124.78it/s]"
     ]
    },
    {
     "name": "stderr",
     "output_type": "stream",
     "text": [
      "\rDictNBHDTransformer fit stage 2:   3%|▎         | 207713/7002961 [00:01<00:46, 147038.45it/s]"
     ]
    },
    {
     "name": "stderr",
     "output_type": "stream",
     "text": [
      "\rDictNBHDTransformer fit stage 2:   3%|▎         | 223997/7002961 [00:01<00:45, 148086.03it/s]"
     ]
    },
    {
     "name": "stderr",
     "output_type": "stream",
     "text": [
      "\rDictNBHDTransformer fit stage 2:   3%|▎         | 239861/7002961 [00:01<00:45, 148739.75it/s]"
     ]
    },
    {
     "name": "stderr",
     "output_type": "stream",
     "text": [
      "\rDictNBHDTransformer fit stage 2:   4%|▎         | 256359/7002961 [00:01<00:45, 149686.88it/s]"
     ]
    },
    {
     "name": "stderr",
     "output_type": "stream",
     "text": [
      "\rDictNBHDTransformer fit stage 2:   4%|▍         | 272845/7002961 [00:01<00:44, 150524.46it/s]"
     ]
    },
    {
     "name": "stderr",
     "output_type": "stream",
     "text": [
      "\rDictNBHDTransformer fit stage 2:   4%|▍         | 288843/7002961 [00:01<00:44, 151018.67it/s]"
     ]
    },
    {
     "name": "stderr",
     "output_type": "stream",
     "text": [
      "\rDictNBHDTransformer fit stage 2:   4%|▍         | 304754/7002961 [00:02<00:44, 150929.14it/s]"
     ]
    },
    {
     "name": "stderr",
     "output_type": "stream",
     "text": [
      "\rDictNBHDTransformer fit stage 2:   5%|▍         | 321031/7002961 [00:02<00:44, 151488.88it/s]"
     ]
    },
    {
     "name": "stderr",
     "output_type": "stream",
     "text": [
      "\rDictNBHDTransformer fit stage 2:   5%|▍         | 336847/7002961 [00:02<00:43, 151768.17it/s]"
     ]
    },
    {
     "name": "stderr",
     "output_type": "stream",
     "text": [
      "\rDictNBHDTransformer fit stage 2:   5%|▌         | 352649/7002961 [00:02<00:44, 149154.08it/s]"
     ]
    },
    {
     "name": "stderr",
     "output_type": "stream",
     "text": [
      "\rDictNBHDTransformer fit stage 2:   5%|▌         | 367760/7002961 [00:02<00:44, 149233.26it/s]"
     ]
    },
    {
     "name": "stderr",
     "output_type": "stream",
     "text": [
      "\rDictNBHDTransformer fit stage 2:   5%|▌         | 382715/7002961 [00:02<00:44, 149245.50it/s]"
     ]
    },
    {
     "name": "stderr",
     "output_type": "stream",
     "text": [
      "\rDictNBHDTransformer fit stage 2:   6%|▌         | 398141/7002961 [00:02<00:44, 149433.70it/s]"
     ]
    },
    {
     "name": "stderr",
     "output_type": "stream",
     "text": [
      "\rDictNBHDTransformer fit stage 2:   6%|▌         | 414475/7002961 [00:02<00:43, 149936.44it/s]"
     ]
    },
    {
     "name": "stderr",
     "output_type": "stream",
     "text": [
      "\rDictNBHDTransformer fit stage 2:   6%|▌         | 430855/7002961 [00:02<00:43, 150420.07it/s]"
     ]
    },
    {
     "name": "stderr",
     "output_type": "stream",
     "text": [
      "\rDictNBHDTransformer fit stage 2:   6%|▋         | 446503/7002961 [00:02<00:43, 150188.38it/s]"
     ]
    },
    {
     "name": "stderr",
     "output_type": "stream",
     "text": [
      "\rDictNBHDTransformer fit stage 2:   7%|▋         | 461780/7002961 [00:03<00:43, 149920.68it/s]"
     ]
    },
    {
     "name": "stderr",
     "output_type": "stream",
     "text": [
      "\rDictNBHDTransformer fit stage 2:   7%|▋         | 477446/7002961 [00:03<00:43, 150131.85it/s]"
     ]
    },
    {
     "name": "stderr",
     "output_type": "stream",
     "text": [
      "\rDictNBHDTransformer fit stage 2:   7%|▋         | 492623/7002961 [00:03<00:43, 150042.50it/s]"
     ]
    },
    {
     "name": "stderr",
     "output_type": "stream",
     "text": [
      "\rDictNBHDTransformer fit stage 2:   7%|▋         | 507666/7002961 [00:03<00:43, 150003.54it/s]"
     ]
    },
    {
     "name": "stderr",
     "output_type": "stream",
     "text": [
      "\rDictNBHDTransformer fit stage 2:   7%|▋         | 522966/7002961 [00:03<00:43, 150089.24it/s]"
     ]
    },
    {
     "name": "stderr",
     "output_type": "stream",
     "text": [
      "\rDictNBHDTransformer fit stage 2:   8%|▊         | 538125/7002961 [00:03<00:43, 150131.28it/s]"
     ]
    },
    {
     "name": "stderr",
     "output_type": "stream",
     "text": [
      "\rDictNBHDTransformer fit stage 2:   8%|▊         | 553863/7002961 [00:03<00:42, 150327.98it/s]"
     ]
    },
    {
     "name": "stderr",
     "output_type": "stream",
     "text": [
      "\rDictNBHDTransformer fit stage 2:   8%|▊         | 569972/7002961 [00:03<00:42, 150612.20it/s]"
     ]
    },
    {
     "name": "stderr",
     "output_type": "stream",
     "text": [
      "\rDictNBHDTransformer fit stage 2:   8%|▊         | 585512/7002961 [00:03<00:42, 150225.18it/s]"
     ]
    },
    {
     "name": "stderr",
     "output_type": "stream",
     "text": [
      "\rDictNBHDTransformer fit stage 2:   9%|▊         | 600509/7002961 [00:04<00:42, 149075.82it/s]"
     ]
    },
    {
     "name": "stderr",
     "output_type": "stream",
     "text": [
      "\rDictNBHDTransformer fit stage 2:   9%|▉         | 614451/7002961 [00:04<00:42, 148693.60it/s]"
     ]
    },
    {
     "name": "stderr",
     "output_type": "stream",
     "text": [
      "\rDictNBHDTransformer fit stage 2:   9%|▉         | 628846/7002961 [00:04<00:42, 148581.30it/s]"
     ]
    },
    {
     "name": "stderr",
     "output_type": "stream",
     "text": [
      "\rDictNBHDTransformer fit stage 2:   9%|▉         | 642808/7002961 [00:04<00:43, 147302.52it/s]"
     ]
    },
    {
     "name": "stderr",
     "output_type": "stream",
     "text": [
      "\rDictNBHDTransformer fit stage 2:   9%|▉         | 655766/7002961 [00:04<00:43, 144698.90it/s]"
     ]
    },
    {
     "name": "stderr",
     "output_type": "stream",
     "text": [
      "\rDictNBHDTransformer fit stage 2:  10%|▉         | 667150/7002961 [00:04<00:44, 143451.15it/s]"
     ]
    },
    {
     "name": "stderr",
     "output_type": "stream",
     "text": [
      "\rDictNBHDTransformer fit stage 2:  10%|▉         | 679109/7002961 [00:04<00:44, 142948.98it/s]"
     ]
    },
    {
     "name": "stderr",
     "output_type": "stream",
     "text": [
      "\rDictNBHDTransformer fit stage 2:  10%|▉         | 691619/7002961 [00:04<00:44, 142580.86it/s]"
     ]
    },
    {
     "name": "stderr",
     "output_type": "stream",
     "text": [
      "\rDictNBHDTransformer fit stage 2:  10%|█         | 703197/7002961 [00:04<00:44, 141645.53it/s]"
     ]
    },
    {
     "name": "stderr",
     "output_type": "stream",
     "text": [
      "\rDictNBHDTransformer fit stage 2:  10%|█         | 716260/7002961 [00:05<00:44, 141427.81it/s]"
     ]
    },
    {
     "name": "stderr",
     "output_type": "stream",
     "text": [
      "\rDictNBHDTransformer fit stage 2:  10%|█         | 729380/7002961 [00:05<00:44, 141229.66it/s]"
     ]
    },
    {
     "name": "stderr",
     "output_type": "stream",
     "text": [
      "\rDictNBHDTransformer fit stage 2:  11%|█         | 743049/7002961 [00:05<00:44, 141143.35it/s]"
     ]
    },
    {
     "name": "stderr",
     "output_type": "stream",
     "text": [
      "\rDictNBHDTransformer fit stage 2:  11%|█         | 758294/7002961 [00:05<00:44, 141354.00it/s]"
     ]
    },
    {
     "name": "stderr",
     "output_type": "stream",
     "text": [
      "\rDictNBHDTransformer fit stage 2:  11%|█         | 773673/7002961 [00:05<00:43, 141581.41it/s]"
     ]
    },
    {
     "name": "stderr",
     "output_type": "stream",
     "text": [
      "\rDictNBHDTransformer fit stage 2:  11%|█▏        | 788505/7002961 [00:05<00:43, 141702.53it/s]"
     ]
    },
    {
     "name": "stderr",
     "output_type": "stream",
     "text": [
      "\rDictNBHDTransformer fit stage 2:  11%|█▏        | 802748/7002961 [00:05<00:43, 141639.68it/s]"
     ]
    },
    {
     "name": "stderr",
     "output_type": "stream",
     "text": [
      "\rDictNBHDTransformer fit stage 2:  12%|█▏        | 816867/7002961 [00:05<00:43, 140831.95it/s]"
     ]
    },
    {
     "name": "stderr",
     "output_type": "stream",
     "text": [
      "\rDictNBHDTransformer fit stage 2:  12%|█▏        | 829940/7002961 [00:05<00:43, 140302.34it/s]"
     ]
    },
    {
     "name": "stderr",
     "output_type": "stream",
     "text": [
      "\rDictNBHDTransformer fit stage 2:  12%|█▏        | 842500/7002961 [00:06<00:44, 139390.78it/s]"
     ]
    },
    {
     "name": "stderr",
     "output_type": "stream",
     "text": [
      "\rDictNBHDTransformer fit stage 2:  12%|█▏        | 854218/7002961 [00:06<00:44, 138839.96it/s]"
     ]
    },
    {
     "name": "stderr",
     "output_type": "stream",
     "text": [
      "\rDictNBHDTransformer fit stage 2:  12%|█▏        | 866353/7002961 [00:06<00:44, 138559.95it/s]"
     ]
    },
    {
     "name": "stderr",
     "output_type": "stream",
     "text": [
      "\rDictNBHDTransformer fit stage 2:  13%|█▎        | 878130/7002961 [00:06<00:44, 138232.74it/s]"
     ]
    },
    {
     "name": "stderr",
     "output_type": "stream",
     "text": [
      "\rDictNBHDTransformer fit stage 2:  13%|█▎        | 889902/7002961 [00:06<00:44, 137914.76it/s]"
     ]
    },
    {
     "name": "stderr",
     "output_type": "stream",
     "text": [
      "\rDictNBHDTransformer fit stage 2:  13%|█▎        | 902698/7002961 [00:06<00:44, 137762.77it/s]"
     ]
    },
    {
     "name": "stderr",
     "output_type": "stream",
     "text": [
      "\rDictNBHDTransformer fit stage 2:  13%|█▎        | 915496/7002961 [00:06<00:44, 137615.56it/s]"
     ]
    },
    {
     "name": "stderr",
     "output_type": "stream",
     "text": [
      "\rDictNBHDTransformer fit stage 2:  13%|█▎        | 929651/7002961 [00:06<00:44, 137673.56it/s]"
     ]
    },
    {
     "name": "stderr",
     "output_type": "stream",
     "text": [
      "\rDictNBHDTransformer fit stage 2:  13%|█▎        | 943751/7002961 [00:06<00:43, 137722.08it/s]"
     ]
    },
    {
     "name": "stderr",
     "output_type": "stream",
     "text": [
      "\rDictNBHDTransformer fit stage 2:  14%|█▎        | 957028/7002961 [00:06<00:43, 137650.32it/s]"
     ]
    },
    {
     "name": "stderr",
     "output_type": "stream",
     "text": [
      "\rDictNBHDTransformer fit stage 2:  14%|█▍        | 970260/7002961 [00:07<00:43, 137165.31it/s]"
     ]
    },
    {
     "name": "stderr",
     "output_type": "stream",
     "text": [
      "\rDictNBHDTransformer fit stage 2:  14%|█▍        | 982802/7002961 [00:07<00:44, 136768.99it/s]"
     ]
    },
    {
     "name": "stderr",
     "output_type": "stream",
     "text": [
      "\rDictNBHDTransformer fit stage 2:  14%|█▍        | 995303/7002961 [00:07<00:43, 136607.63it/s]"
     ]
    },
    {
     "name": "stderr",
     "output_type": "stream",
     "text": [
      "\rDictNBHDTransformer fit stage 2:  14%|█▍        | 1008390/7002961 [00:07<00:43, 136529.56it/s]"
     ]
    },
    {
     "name": "stderr",
     "output_type": "stream",
     "text": [
      "\rDictNBHDTransformer fit stage 2:  15%|█▍        | 1022767/7002961 [00:07<00:43, 136626.52it/s]"
     ]
    },
    {
     "name": "stderr",
     "output_type": "stream",
     "text": [
      "\rDictNBHDTransformer fit stage 2:  15%|█▍        | 1038276/7002961 [00:07<00:43, 136869.77it/s]"
     ]
    },
    {
     "name": "stderr",
     "output_type": "stream",
     "text": [
      "\rDictNBHDTransformer fit stage 2:  15%|█▌        | 1052071/7002961 [00:07<00:43, 136521.27it/s]"
     ]
    },
    {
     "name": "stderr",
     "output_type": "stream",
     "text": [
      "\rDictNBHDTransformer fit stage 2:  15%|█▌        | 1066208/7002961 [00:07<00:43, 136583.49it/s]"
     ]
    },
    {
     "name": "stderr",
     "output_type": "stream",
     "text": [
      "\rDictNBHDTransformer fit stage 2:  15%|█▌        | 1081088/7002961 [00:07<00:43, 136737.90it/s]"
     ]
    },
    {
     "name": "stderr",
     "output_type": "stream",
     "text": [
      "\rDictNBHDTransformer fit stage 2:  16%|█▌        | 1094937/7002961 [00:08<00:43, 136727.23it/s]"
     ]
    },
    {
     "name": "stderr",
     "output_type": "stream",
     "text": [
      "\rDictNBHDTransformer fit stage 2:  16%|█▌        | 1108708/7002961 [00:08<00:43, 136622.21it/s]"
     ]
    },
    {
     "name": "stderr",
     "output_type": "stream",
     "text": [
      "\rDictNBHDTransformer fit stage 2:  16%|█▌        | 1122211/7002961 [00:08<00:43, 136574.77it/s]"
     ]
    },
    {
     "name": "stderr",
     "output_type": "stream",
     "text": [
      "\rDictNBHDTransformer fit stage 2:  16%|█▌        | 1137383/7002961 [00:08<00:42, 136756.81it/s]"
     ]
    },
    {
     "name": "stderr",
     "output_type": "stream",
     "text": [
      "\rDictNBHDTransformer fit stage 2:  16%|█▋        | 1152379/7002961 [00:08<00:42, 136913.45it/s]"
     ]
    },
    {
     "name": "stderr",
     "output_type": "stream",
     "text": [
      "\rDictNBHDTransformer fit stage 2:  17%|█▋        | 1166647/7002961 [00:08<00:42, 136759.72it/s]"
     ]
    },
    {
     "name": "stderr",
     "output_type": "stream",
     "text": [
      "\rDictNBHDTransformer fit stage 2:  17%|█▋        | 1181171/7002961 [00:08<00:42, 136858.04it/s]"
     ]
    },
    {
     "name": "stderr",
     "output_type": "stream",
     "text": [
      "\rDictNBHDTransformer fit stage 2:  17%|█▋        | 1196107/7002961 [00:08<00:42, 137001.13it/s]"
     ]
    },
    {
     "name": "stderr",
     "output_type": "stream",
     "text": [
      "\rDictNBHDTransformer fit stage 2:  17%|█▋        | 1210375/7002961 [00:08<00:42, 137061.74it/s]"
     ]
    },
    {
     "name": "stderr",
     "output_type": "stream",
     "text": [
      "\rDictNBHDTransformer fit stage 2:  17%|█▋        | 1224633/7002961 [00:08<00:42, 136753.86it/s]"
     ]
    },
    {
     "name": "stderr",
     "output_type": "stream",
     "text": [
      "\rDictNBHDTransformer fit stage 2:  18%|█▊        | 1238059/7002961 [00:09<00:44, 128405.19it/s]"
     ]
    },
    {
     "name": "stderr",
     "output_type": "stream",
     "text": [
      "\rDictNBHDTransformer fit stage 2:  18%|█▊        | 1253220/7002961 [00:09<00:44, 128643.41it/s]"
     ]
    },
    {
     "name": "stderr",
     "output_type": "stream",
     "text": [
      "\rDictNBHDTransformer fit stage 2:  18%|█▊        | 1268445/7002961 [00:09<00:44, 128883.19it/s]"
     ]
    },
    {
     "name": "stderr",
     "output_type": "stream",
     "text": [
      "\rDictNBHDTransformer fit stage 2:  18%|█▊        | 1284053/7002961 [00:09<00:44, 129156.68it/s]"
     ]
    },
    {
     "name": "stderr",
     "output_type": "stream",
     "text": [
      "\rDictNBHDTransformer fit stage 2:  19%|█▊        | 1298406/7002961 [00:10<00:44, 129299.82it/s]"
     ]
    },
    {
     "name": "stderr",
     "output_type": "stream",
     "text": [
      "\rDictNBHDTransformer fit stage 2:  19%|█▉        | 1313830/7002961 [00:10<00:43, 129545.69it/s]"
     ]
    },
    {
     "name": "stderr",
     "output_type": "stream",
     "text": [
      "\rDictNBHDTransformer fit stage 2:  19%|█▉        | 1328643/7002961 [00:10<00:43, 129726.29it/s]"
     ]
    },
    {
     "name": "stderr",
     "output_type": "stream",
     "text": [
      "\rDictNBHDTransformer fit stage 2:  19%|█▉        | 1343479/7002961 [00:10<00:43, 129907.09it/s]"
     ]
    },
    {
     "name": "stderr",
     "output_type": "stream",
     "text": [
      "\rDictNBHDTransformer fit stage 2:  19%|█▉        | 1358484/7002961 [00:10<00:43, 130099.90it/s]"
     ]
    },
    {
     "name": "stderr",
     "output_type": "stream",
     "text": [
      "\rDictNBHDTransformer fit stage 2:  20%|█▉        | 1373174/7002961 [00:10<00:43, 130242.09it/s]"
     ]
    },
    {
     "name": "stderr",
     "output_type": "stream",
     "text": [
      "\rDictNBHDTransformer fit stage 2:  20%|█▉        | 1388094/7002961 [00:10<00:43, 130420.21it/s]"
     ]
    },
    {
     "name": "stderr",
     "output_type": "stream",
     "text": [
      "\rDictNBHDTransformer fit stage 2:  20%|██        | 1402811/7002961 [00:10<00:43, 129441.62it/s]"
     ]
    },
    {
     "name": "stderr",
     "output_type": "stream",
     "text": [
      "\rDictNBHDTransformer fit stage 2:  20%|██        | 1415387/7002961 [00:10<00:43, 129293.49it/s]"
     ]
    },
    {
     "name": "stderr",
     "output_type": "stream",
     "text": [
      "\rDictNBHDTransformer fit stage 2:  20%|██        | 1427630/7002961 [00:11<00:43, 128986.90it/s]"
     ]
    },
    {
     "name": "stderr",
     "output_type": "stream",
     "text": [
      "\rDictNBHDTransformer fit stage 2:  21%|██        | 1441675/7002961 [00:11<00:43, 129085.80it/s]"
     ]
    },
    {
     "name": "stderr",
     "output_type": "stream",
     "text": [
      "\rDictNBHDTransformer fit stage 2:  21%|██        | 1454009/7002961 [00:11<00:43, 129017.68it/s]"
     ]
    },
    {
     "name": "stderr",
     "output_type": "stream",
     "text": [
      "\rDictNBHDTransformer fit stage 2:  21%|██        | 1466282/7002961 [00:11<00:43, 128567.10it/s]"
     ]
    },
    {
     "name": "stderr",
     "output_type": "stream",
     "text": [
      "\rDictNBHDTransformer fit stage 2:  21%|██        | 1477601/7002961 [00:11<00:43, 128113.19it/s]"
     ]
    },
    {
     "name": "stderr",
     "output_type": "stream",
     "text": [
      "\rDictNBHDTransformer fit stage 2:  21%|██▏       | 1490549/7002961 [00:11<00:43, 128125.18it/s]"
     ]
    },
    {
     "name": "stderr",
     "output_type": "stream",
     "text": [
      "\rDictNBHDTransformer fit stage 2:  21%|██▏       | 1501997/7002961 [00:11<00:42, 128007.99it/s]"
     ]
    },
    {
     "name": "stderr",
     "output_type": "stream",
     "text": [
      "\rDictNBHDTransformer fit stage 2:  22%|██▏       | 1514754/7002961 [00:11<00:42, 128004.97it/s]"
     ]
    },
    {
     "name": "stderr",
     "output_type": "stream",
     "text": [
      "\rDictNBHDTransformer fit stage 2:  22%|██▏       | 1527184/7002961 [00:11<00:42, 127973.45it/s]"
     ]
    },
    {
     "name": "stderr",
     "output_type": "stream",
     "text": [
      "\rDictNBHDTransformer fit stage 2:  22%|██▏       | 1539967/7002961 [00:12<00:42, 127972.62it/s]"
     ]
    },
    {
     "name": "stderr",
     "output_type": "stream",
     "text": [
      "\rDictNBHDTransformer fit stage 2:  22%|██▏       | 1553641/7002961 [00:12<00:42, 128044.81it/s]"
     ]
    },
    {
     "name": "stderr",
     "output_type": "stream",
     "text": [
      "\rDictNBHDTransformer fit stage 2:  22%|██▏       | 1567771/7002961 [00:12<00:42, 128152.98it/s]"
     ]
    },
    {
     "name": "stderr",
     "output_type": "stream",
     "text": [
      "\rDictNBHDTransformer fit stage 2:  23%|██▎       | 1581143/7002961 [00:12<00:42, 128198.16it/s]"
     ]
    },
    {
     "name": "stderr",
     "output_type": "stream",
     "text": [
      "\rDictNBHDTransformer fit stage 2:  23%|██▎       | 1594318/7002961 [00:12<00:42, 127995.97it/s]"
     ]
    },
    {
     "name": "stderr",
     "output_type": "stream",
     "text": [
      "\rDictNBHDTransformer fit stage 2:  23%|██▎       | 1606770/7002961 [00:12<00:42, 127802.04it/s]"
     ]
    },
    {
     "name": "stderr",
     "output_type": "stream",
     "text": [
      "\rDictNBHDTransformer fit stage 2:  23%|██▎       | 1620319/7002961 [00:12<00:42, 127862.71it/s]"
     ]
    },
    {
     "name": "stderr",
     "output_type": "stream",
     "text": [
      "\rDictNBHDTransformer fit stage 2:  23%|██▎       | 1635434/7002961 [00:12<00:41, 128045.00it/s]"
     ]
    },
    {
     "name": "stderr",
     "output_type": "stream",
     "text": [
      "\rDictNBHDTransformer fit stage 2:  24%|██▎       | 1649000/7002961 [00:12<00:41, 128104.11it/s]"
     ]
    },
    {
     "name": "stderr",
     "output_type": "stream",
     "text": [
      "\rDictNBHDTransformer fit stage 2:  24%|██▎       | 1662327/7002961 [00:12<00:41, 128033.43it/s]"
     ]
    },
    {
     "name": "stderr",
     "output_type": "stream",
     "text": [
      "\rDictNBHDTransformer fit stage 2:  24%|██▍       | 1675252/7002961 [00:13<00:41, 127956.59it/s]"
     ]
    },
    {
     "name": "stderr",
     "output_type": "stream",
     "text": [
      "\rDictNBHDTransformer fit stage 2:  24%|██▍       | 1687863/7002961 [00:13<00:41, 127895.38it/s]"
     ]
    },
    {
     "name": "stderr",
     "output_type": "stream",
     "text": [
      "\rDictNBHDTransformer fit stage 2:  24%|██▍       | 1700299/7002961 [00:13<00:41, 127702.55it/s]"
     ]
    },
    {
     "name": "stderr",
     "output_type": "stream",
     "text": [
      "\rDictNBHDTransformer fit stage 2:  24%|██▍       | 1713497/7002961 [00:13<00:41, 127734.35it/s]"
     ]
    },
    {
     "name": "stderr",
     "output_type": "stream",
     "text": [
      "\rDictNBHDTransformer fit stage 2:  25%|██▍       | 1725776/7002961 [00:13<00:41, 127596.37it/s]"
     ]
    },
    {
     "name": "stderr",
     "output_type": "stream",
     "text": [
      "\rDictNBHDTransformer fit stage 2:  25%|██▍       | 1738602/7002961 [00:13<00:41, 127601.07it/s]"
     ]
    },
    {
     "name": "stderr",
     "output_type": "stream",
     "text": [
      "\rDictNBHDTransformer fit stage 2:  25%|██▌       | 1751370/7002961 [00:13<00:41, 127601.05it/s]"
     ]
    },
    {
     "name": "stderr",
     "output_type": "stream",
     "text": [
      "\rDictNBHDTransformer fit stage 2:  25%|██▌       | 1766020/7002961 [00:13<00:40, 127738.32it/s]"
     ]
    },
    {
     "name": "stderr",
     "output_type": "stream",
     "text": [
      "\rDictNBHDTransformer fit stage 2:  25%|██▌       | 1779372/7002961 [00:13<00:40, 127779.78it/s]"
     ]
    },
    {
     "name": "stderr",
     "output_type": "stream",
     "text": [
      "\rDictNBHDTransformer fit stage 2:  26%|██▌       | 1793579/7002961 [00:14<00:40, 127881.62it/s]"
     ]
    },
    {
     "name": "stderr",
     "output_type": "stream",
     "text": [
      "\rDictNBHDTransformer fit stage 2:  26%|██▌       | 1808708/7002961 [00:14<00:40, 128047.20it/s]"
     ]
    },
    {
     "name": "stderr",
     "output_type": "stream",
     "text": [
      "\rDictNBHDTransformer fit stage 2:  26%|██▌       | 1822669/7002961 [00:14<00:40, 128109.31it/s]"
     ]
    },
    {
     "name": "stderr",
     "output_type": "stream",
     "text": [
      "\rDictNBHDTransformer fit stage 2:  26%|██▌       | 1836816/7002961 [00:14<00:40, 128202.49it/s]"
     ]
    },
    {
     "name": "stderr",
     "output_type": "stream",
     "text": [
      "\rDictNBHDTransformer fit stage 2:  26%|██▋       | 1851254/7002961 [00:14<00:40, 128314.68it/s]"
     ]
    },
    {
     "name": "stderr",
     "output_type": "stream",
     "text": [
      "\rDictNBHDTransformer fit stage 2:  27%|██▋       | 1865354/7002961 [00:14<00:40, 128391.31it/s]"
     ]
    },
    {
     "name": "stderr",
     "output_type": "stream",
     "text": [
      "\rDictNBHDTransformer fit stage 2:  27%|██▋       | 1879960/7002961 [00:14<00:39, 128512.10it/s]"
     ]
    },
    {
     "name": "stderr",
     "output_type": "stream",
     "text": [
      "\rDictNBHDTransformer fit stage 2:  27%|██▋       | 1894177/7002961 [00:14<00:39, 128575.16it/s]"
     ]
    },
    {
     "name": "stderr",
     "output_type": "stream",
     "text": [
      "\rDictNBHDTransformer fit stage 2:  27%|██▋       | 1909237/7002961 [00:14<00:39, 128723.63it/s]"
     ]
    },
    {
     "name": "stderr",
     "output_type": "stream",
     "text": [
      "\rDictNBHDTransformer fit stage 2:  27%|██▋       | 1923609/7002961 [00:14<00:39, 128786.57it/s]"
     ]
    },
    {
     "name": "stderr",
     "output_type": "stream",
     "text": [
      "\rDictNBHDTransformer fit stage 2:  28%|██▊       | 1938067/7002961 [00:15<00:39, 128891.58it/s]"
     ]
    },
    {
     "name": "stderr",
     "output_type": "stream",
     "text": [
      "\rDictNBHDTransformer fit stage 2:  28%|██▊       | 1952498/7002961 [00:15<00:39, 128992.96it/s]"
     ]
    },
    {
     "name": "stderr",
     "output_type": "stream",
     "text": [
      "\rDictNBHDTransformer fit stage 2:  28%|██▊       | 1966818/7002961 [00:15<00:39, 129074.98it/s]"
     ]
    },
    {
     "name": "stderr",
     "output_type": "stream",
     "text": [
      "\rDictNBHDTransformer fit stage 2:  28%|██▊       | 1981435/7002961 [00:15<00:38, 129186.49it/s]"
     ]
    },
    {
     "name": "stderr",
     "output_type": "stream",
     "text": [
      "\rDictNBHDTransformer fit stage 2:  28%|██▊       | 1995803/7002961 [00:15<00:38, 129258.40it/s]"
     ]
    },
    {
     "name": "stderr",
     "output_type": "stream",
     "text": [
      "\rDictNBHDTransformer fit stage 2:  29%|██▊       | 2010061/7002961 [00:15<00:38, 129329.57it/s]"
     ]
    },
    {
     "name": "stderr",
     "output_type": "stream",
     "text": [
      "\rDictNBHDTransformer fit stage 2:  29%|██▉       | 2024308/7002961 [00:15<00:38, 129413.78it/s]"
     ]
    },
    {
     "name": "stderr",
     "output_type": "stream",
     "text": [
      "\rDictNBHDTransformer fit stage 2:  29%|██▉       | 2039068/7002961 [00:15<00:38, 129529.24it/s]"
     ]
    },
    {
     "name": "stderr",
     "output_type": "stream",
     "text": [
      "\rDictNBHDTransformer fit stage 2:  29%|██▉       | 2053439/7002961 [00:15<00:38, 129543.93it/s]"
     ]
    },
    {
     "name": "stderr",
     "output_type": "stream",
     "text": [
      "\rDictNBHDTransformer fit stage 2:  30%|██▉       | 2067684/7002961 [00:15<00:38, 129624.72it/s]"
     ]
    },
    {
     "name": "stderr",
     "output_type": "stream",
     "text": [
      "\rDictNBHDTransformer fit stage 2:  30%|██▉       | 2081764/7002961 [00:16<00:38, 129432.86it/s]"
     ]
    },
    {
     "name": "stderr",
     "output_type": "stream",
     "text": [
      "\rDictNBHDTransformer fit stage 2:  30%|██▉       | 2095790/7002961 [00:16<00:37, 129499.76it/s]"
     ]
    },
    {
     "name": "stderr",
     "output_type": "stream",
     "text": [
      "\rDictNBHDTransformer fit stage 2:  30%|███       | 2110052/7002961 [00:16<00:37, 129580.29it/s]"
     ]
    },
    {
     "name": "stderr",
     "output_type": "stream",
     "text": [
      "\rDictNBHDTransformer fit stage 2:  30%|███       | 2124880/7002961 [00:16<00:37, 129694.38it/s]"
     ]
    },
    {
     "name": "stderr",
     "output_type": "stream",
     "text": [
      "\rDictNBHDTransformer fit stage 2:  31%|███       | 2139311/7002961 [00:16<00:37, 129783.02it/s]"
     ]
    },
    {
     "name": "stderr",
     "output_type": "stream",
     "text": [
      "\rDictNBHDTransformer fit stage 2:  31%|███       | 2154625/7002961 [00:16<00:37, 129923.85it/s]"
     ]
    },
    {
     "name": "stderr",
     "output_type": "stream",
     "text": [
      "\rDictNBHDTransformer fit stage 2:  31%|███       | 2169363/7002961 [00:16<00:37, 130028.13it/s]"
     ]
    },
    {
     "name": "stderr",
     "output_type": "stream",
     "text": [
      "\rDictNBHDTransformer fit stage 2:  31%|███       | 2184562/7002961 [00:16<00:37, 130158.80it/s]"
     ]
    },
    {
     "name": "stderr",
     "output_type": "stream",
     "text": [
      "\rDictNBHDTransformer fit stage 2:  31%|███▏      | 2199430/7002961 [00:16<00:36, 130268.62it/s]"
     ]
    },
    {
     "name": "stderr",
     "output_type": "stream",
     "text": [
      "\rDictNBHDTransformer fit stage 2:  32%|███▏      | 2214213/7002961 [00:16<00:36, 130353.24it/s]"
     ]
    },
    {
     "name": "stderr",
     "output_type": "stream",
     "text": [
      "\rDictNBHDTransformer fit stage 2:  32%|███▏      | 2229654/7002961 [00:17<00:36, 130494.01it/s]"
     ]
    },
    {
     "name": "stderr",
     "output_type": "stream",
     "text": [
      "\rDictNBHDTransformer fit stage 2:  32%|███▏      | 2244560/7002961 [00:17<00:36, 130596.52it/s]"
     ]
    },
    {
     "name": "stderr",
     "output_type": "stream",
     "text": [
      "\rDictNBHDTransformer fit stage 2:  32%|███▏      | 2259434/7002961 [00:17<00:36, 130687.30it/s]"
     ]
    },
    {
     "name": "stderr",
     "output_type": "stream",
     "text": [
      "\rDictNBHDTransformer fit stage 2:  32%|███▏      | 2274292/7002961 [00:17<00:36, 130790.18it/s]"
     ]
    },
    {
     "name": "stderr",
     "output_type": "stream",
     "text": [
      "\rDictNBHDTransformer fit stage 2:  33%|███▎      | 2289517/7002961 [00:17<00:36, 130912.83it/s]"
     ]
    },
    {
     "name": "stderr",
     "output_type": "stream",
     "text": [
      "\rDictNBHDTransformer fit stage 2:  33%|███▎      | 2304453/7002961 [00:17<00:35, 131005.65it/s]"
     ]
    },
    {
     "name": "stderr",
     "output_type": "stream",
     "text": [
      "\rDictNBHDTransformer fit stage 2:  33%|███▎      | 2319318/7002961 [00:17<00:35, 131085.22it/s]"
     ]
    },
    {
     "name": "stderr",
     "output_type": "stream",
     "text": [
      "\rDictNBHDTransformer fit stage 2:  33%|███▎      | 2335133/7002961 [00:17<00:35, 131237.29it/s]"
     ]
    },
    {
     "name": "stderr",
     "output_type": "stream",
     "text": [
      "\rDictNBHDTransformer fit stage 2:  34%|███▎      | 2350200/7002961 [00:17<00:35, 131302.05it/s]"
     ]
    },
    {
     "name": "stderr",
     "output_type": "stream",
     "text": [
      "\rDictNBHDTransformer fit stage 2:  34%|███▍      | 2365013/7002961 [00:18<00:35, 131325.59it/s]"
     ]
    },
    {
     "name": "stderr",
     "output_type": "stream",
     "text": [
      "\rDictNBHDTransformer fit stage 2:  34%|███▍      | 2380699/7002961 [00:18<00:35, 131466.60it/s]"
     ]
    },
    {
     "name": "stderr",
     "output_type": "stream",
     "text": [
      "\rDictNBHDTransformer fit stage 2:  34%|███▍      | 2395502/7002961 [00:18<00:35, 131533.89it/s]"
     ]
    },
    {
     "name": "stderr",
     "output_type": "stream",
     "text": [
      "\rDictNBHDTransformer fit stage 2:  34%|███▍      | 2410586/7002961 [00:18<00:34, 131639.27it/s]"
     ]
    },
    {
     "name": "stderr",
     "output_type": "stream",
     "text": [
      "\rDictNBHDTransformer fit stage 2:  35%|███▍      | 2425375/7002961 [00:18<00:34, 131710.42it/s]"
     ]
    },
    {
     "name": "stderr",
     "output_type": "stream",
     "text": [
      "\rDictNBHDTransformer fit stage 2:  35%|███▍      | 2440060/7002961 [00:18<00:34, 131780.16it/s]"
     ]
    },
    {
     "name": "stderr",
     "output_type": "stream",
     "text": [
      "\rDictNBHDTransformer fit stage 2:  35%|███▌      | 2454798/7002961 [00:18<00:34, 131864.03it/s]"
     ]
    },
    {
     "name": "stderr",
     "output_type": "stream",
     "text": [
      "\rDictNBHDTransformer fit stage 2:  35%|███▌      | 2469765/7002961 [00:18<00:34, 131959.13it/s]"
     ]
    },
    {
     "name": "stderr",
     "output_type": "stream",
     "text": [
      "\rDictNBHDTransformer fit stage 2:  35%|███▌      | 2484510/7002961 [00:18<00:34, 131942.86it/s]"
     ]
    },
    {
     "name": "stderr",
     "output_type": "stream",
     "text": [
      "\rDictNBHDTransformer fit stage 2:  36%|███▌      | 2498710/7002961 [00:18<00:34, 131857.24it/s]"
     ]
    },
    {
     "name": "stderr",
     "output_type": "stream",
     "text": [
      "\rDictNBHDTransformer fit stage 2:  36%|███▌      | 2512204/7002961 [00:19<00:34, 131768.65it/s]"
     ]
    },
    {
     "name": "stderr",
     "output_type": "stream",
     "text": [
      "\rDictNBHDTransformer fit stage 2:  36%|███▌      | 2525165/7002961 [00:19<00:34, 131574.14it/s]"
     ]
    },
    {
     "name": "stderr",
     "output_type": "stream",
     "text": [
      "\rDictNBHDTransformer fit stage 2:  36%|███▌      | 2537731/7002961 [00:19<00:33, 131543.44it/s]"
     ]
    },
    {
     "name": "stderr",
     "output_type": "stream",
     "text": [
      "\rDictNBHDTransformer fit stage 2:  36%|███▋      | 2550983/7002961 [00:19<00:33, 131548.44it/s]"
     ]
    },
    {
     "name": "stderr",
     "output_type": "stream",
     "text": [
      "\rDictNBHDTransformer fit stage 2:  37%|███▋      | 2563547/7002961 [00:19<00:33, 131402.00it/s]"
     ]
    },
    {
     "name": "stderr",
     "output_type": "stream",
     "text": [
      "\rDictNBHDTransformer fit stage 2:  37%|███▋      | 2576755/7002961 [00:19<00:33, 131405.47it/s]"
     ]
    },
    {
     "name": "stderr",
     "output_type": "stream",
     "text": [
      "\rDictNBHDTransformer fit stage 2:  37%|███▋      | 2592552/7002961 [00:19<00:33, 131540.12it/s]"
     ]
    },
    {
     "name": "stderr",
     "output_type": "stream",
     "text": [
      "\rDictNBHDTransformer fit stage 2:  37%|███▋      | 2606973/7002961 [00:19<00:33, 131604.09it/s]"
     ]
    },
    {
     "name": "stderr",
     "output_type": "stream",
     "text": [
      "\rDictNBHDTransformer fit stage 2:  37%|███▋      | 2622806/7002961 [00:19<00:33, 131738.24it/s]"
     ]
    },
    {
     "name": "stderr",
     "output_type": "stream",
     "text": [
      "\rDictNBHDTransformer fit stage 2:  38%|███▊      | 2637867/7002961 [00:20<00:33, 131832.57it/s]"
     ]
    },
    {
     "name": "stderr",
     "output_type": "stream",
     "text": [
      "\rDictNBHDTransformer fit stage 2:  38%|███▊      | 2652884/7002961 [00:20<00:32, 131923.75it/s]"
     ]
    },
    {
     "name": "stderr",
     "output_type": "stream",
     "text": [
      "\rDictNBHDTransformer fit stage 2:  38%|███▊      | 2667867/7002961 [00:20<00:32, 132012.27it/s]"
     ]
    },
    {
     "name": "stderr",
     "output_type": "stream",
     "text": [
      "\rDictNBHDTransformer fit stage 2:  38%|███▊      | 2682963/7002961 [00:20<00:32, 132105.59it/s]"
     ]
    },
    {
     "name": "stderr",
     "output_type": "stream",
     "text": [
      "\rDictNBHDTransformer fit stage 2:  39%|███▊      | 2698208/7002961 [00:20<00:32, 132205.22it/s]"
     ]
    },
    {
     "name": "stderr",
     "output_type": "stream",
     "text": [
      "\rDictNBHDTransformer fit stage 2:  39%|███▊      | 2713195/7002961 [00:20<00:32, 132226.12it/s]"
     ]
    },
    {
     "name": "stderr",
     "output_type": "stream",
     "text": [
      "\rDictNBHDTransformer fit stage 2:  39%|███▉      | 2727769/7002961 [00:20<00:32, 132267.64it/s]"
     ]
    },
    {
     "name": "stderr",
     "output_type": "stream",
     "text": [
      "\rDictNBHDTransformer fit stage 2:  39%|███▉      | 2742185/7002961 [00:20<00:32, 132285.62it/s]"
     ]
    },
    {
     "name": "stderr",
     "output_type": "stream",
     "text": [
      "\rDictNBHDTransformer fit stage 2:  39%|███▉      | 2756350/7002961 [00:20<00:32, 132261.56it/s]"
     ]
    },
    {
     "name": "stderr",
     "output_type": "stream",
     "text": [
      "\rDictNBHDTransformer fit stage 2:  40%|███▉      | 2770908/7002961 [00:20<00:31, 132325.18it/s]"
     ]
    },
    {
     "name": "stderr",
     "output_type": "stream",
     "text": [
      "\rDictNBHDTransformer fit stage 2:  40%|███▉      | 2784899/7002961 [00:21<00:31, 132253.33it/s]"
     ]
    },
    {
     "name": "stderr",
     "output_type": "stream",
     "text": [
      "\rDictNBHDTransformer fit stage 2:  40%|███▉      | 2798276/7002961 [00:21<00:32, 130134.11it/s]"
     ]
    },
    {
     "name": "stderr",
     "output_type": "stream",
     "text": [
      "\rDictNBHDTransformer fit stage 2:  40%|████      | 2810819/7002961 [00:21<00:32, 130112.35it/s]"
     ]
    },
    {
     "name": "stderr",
     "output_type": "stream",
     "text": [
      "\rDictNBHDTransformer fit stage 2:  40%|████      | 2823910/7002961 [00:21<00:32, 130115.96it/s]"
     ]
    },
    {
     "name": "stderr",
     "output_type": "stream",
     "text": [
      "\rDictNBHDTransformer fit stage 2:  41%|████      | 2836982/7002961 [00:21<00:32, 130118.75it/s]"
     ]
    },
    {
     "name": "stderr",
     "output_type": "stream",
     "text": [
      "\rDictNBHDTransformer fit stage 2:  41%|████      | 2850391/7002961 [00:21<00:31, 130136.88it/s]"
     ]
    },
    {
     "name": "stderr",
     "output_type": "stream",
     "text": [
      "\rDictNBHDTransformer fit stage 2:  41%|████      | 2862839/7002961 [00:22<00:31, 130075.01it/s]"
     ]
    },
    {
     "name": "stderr",
     "output_type": "stream",
     "text": [
      "\rDictNBHDTransformer fit stage 2:  41%|████      | 2875817/7002961 [00:22<00:31, 130073.71it/s]"
     ]
    },
    {
     "name": "stderr",
     "output_type": "stream",
     "text": [
      "\rDictNBHDTransformer fit stage 2:  41%|████▏     | 2890488/7002961 [00:22<00:31, 130148.58it/s]"
     ]
    },
    {
     "name": "stderr",
     "output_type": "stream",
     "text": [
      "\rDictNBHDTransformer fit stage 2:  41%|████▏     | 2905125/7002961 [00:22<00:31, 130221.28it/s]"
     ]
    },
    {
     "name": "stderr",
     "output_type": "stream",
     "text": [
      "\rDictNBHDTransformer fit stage 2:  42%|████▏     | 2919456/7002961 [00:22<00:31, 130279.66it/s]"
     ]
    },
    {
     "name": "stderr",
     "output_type": "stream",
     "text": [
      "\rDictNBHDTransformer fit stage 2:  42%|████▏     | 2933258/7002961 [00:22<00:31, 130249.05it/s]"
     ]
    },
    {
     "name": "stderr",
     "output_type": "stream",
     "text": [
      "\rDictNBHDTransformer fit stage 2:  42%|████▏     | 2946661/7002961 [00:22<00:31, 130012.79it/s]"
     ]
    },
    {
     "name": "stderr",
     "output_type": "stream",
     "text": [
      "\rDictNBHDTransformer fit stage 2:  42%|████▏     | 2960283/7002961 [00:22<00:31, 130040.03it/s]"
     ]
    },
    {
     "name": "stderr",
     "output_type": "stream",
     "text": [
      "\rDictNBHDTransformer fit stage 2:  42%|████▏     | 2974183/7002961 [00:22<00:30, 130079.21it/s]"
     ]
    },
    {
     "name": "stderr",
     "output_type": "stream",
     "text": [
      "\rDictNBHDTransformer fit stage 2:  43%|████▎     | 2988366/7002961 [00:22<00:30, 130130.17it/s]"
     ]
    },
    {
     "name": "stderr",
     "output_type": "stream",
     "text": [
      "\rDictNBHDTransformer fit stage 2:  43%|████▎     | 3002671/7002961 [00:23<00:30, 130186.34it/s]"
     ]
    },
    {
     "name": "stderr",
     "output_type": "stream",
     "text": [
      "\rDictNBHDTransformer fit stage 2:  43%|████▎     | 3017316/7002961 [00:23<00:30, 130256.50it/s]"
     ]
    },
    {
     "name": "stderr",
     "output_type": "stream",
     "text": [
      "\rDictNBHDTransformer fit stage 2:  43%|████▎     | 3031254/7002961 [00:23<00:30, 130229.54it/s]"
     ]
    },
    {
     "name": "stderr",
     "output_type": "stream",
     "text": [
      "\rDictNBHDTransformer fit stage 2:  43%|████▎     | 3044750/7002961 [00:23<00:30, 130226.79it/s]"
     ]
    },
    {
     "name": "stderr",
     "output_type": "stream",
     "text": [
      "\rDictNBHDTransformer fit stage 2:  44%|████▎     | 3058313/7002961 [00:23<00:30, 130249.75it/s]"
     ]
    },
    {
     "name": "stderr",
     "output_type": "stream",
     "text": [
      "\rDictNBHDTransformer fit stage 2:  44%|████▍     | 3071717/7002961 [00:23<00:30, 130261.67it/s]"
     ]
    },
    {
     "name": "stderr",
     "output_type": "stream",
     "text": [
      "\rDictNBHDTransformer fit stage 2:  44%|████▍     | 3085639/7002961 [00:23<00:30, 130299.47it/s]"
     ]
    },
    {
     "name": "stderr",
     "output_type": "stream",
     "text": [
      "\rDictNBHDTransformer fit stage 2:  44%|████▍     | 3099177/7002961 [00:23<00:29, 130300.35it/s]"
     ]
    },
    {
     "name": "stderr",
     "output_type": "stream",
     "text": [
      "\rDictNBHDTransformer fit stage 2:  44%|████▍     | 3112569/7002961 [00:23<00:29, 130263.65it/s]"
     ]
    },
    {
     "name": "stderr",
     "output_type": "stream",
     "text": [
      "\rDictNBHDTransformer fit stage 2:  45%|████▍     | 3126841/7002961 [00:23<00:29, 130315.49it/s]"
     ]
    },
    {
     "name": "stderr",
     "output_type": "stream",
     "text": [
      "\rDictNBHDTransformer fit stage 2:  45%|████▍     | 3141939/7002961 [00:24<00:29, 130401.30it/s]"
     ]
    },
    {
     "name": "stderr",
     "output_type": "stream",
     "text": [
      "\rDictNBHDTransformer fit stage 2:  45%|████▌     | 3156951/7002961 [00:24<00:29, 130482.79it/s]"
     ]
    },
    {
     "name": "stderr",
     "output_type": "stream",
     "text": [
      "\rDictNBHDTransformer fit stage 2:  45%|████▌     | 3172117/7002961 [00:24<00:29, 130569.93it/s]"
     ]
    },
    {
     "name": "stderr",
     "output_type": "stream",
     "text": [
      "\rDictNBHDTransformer fit stage 2:  46%|████▌     | 3187359/7002961 [00:24<00:29, 130659.49it/s]"
     ]
    },
    {
     "name": "stderr",
     "output_type": "stream",
     "text": [
      "\rDictNBHDTransformer fit stage 2:  46%|████▌     | 3202549/7002961 [00:24<00:29, 130746.20it/s]"
     ]
    },
    {
     "name": "stderr",
     "output_type": "stream",
     "text": [
      "\rDictNBHDTransformer fit stage 2:  46%|████▌     | 3217423/7002961 [00:24<00:28, 130813.60it/s]"
     ]
    },
    {
     "name": "stderr",
     "output_type": "stream",
     "text": [
      "\rDictNBHDTransformer fit stage 2:  46%|████▌     | 3232249/7002961 [00:24<00:28, 130830.56it/s]"
     ]
    },
    {
     "name": "stderr",
     "output_type": "stream",
     "text": [
      "\rDictNBHDTransformer fit stage 2:  46%|████▋     | 3246666/7002961 [00:24<00:28, 130805.16it/s]"
     ]
    },
    {
     "name": "stderr",
     "output_type": "stream",
     "text": [
      "\rDictNBHDTransformer fit stage 2:  47%|████▋     | 3260519/7002961 [00:24<00:28, 130787.12it/s]"
     ]
    },
    {
     "name": "stderr",
     "output_type": "stream",
     "text": [
      "\rDictNBHDTransformer fit stage 2:  47%|████▋     | 3274017/7002961 [00:25<00:28, 130749.69it/s]"
     ]
    },
    {
     "name": "stderr",
     "output_type": "stream",
     "text": [
      "\rDictNBHDTransformer fit stage 2:  47%|████▋     | 3287821/7002961 [00:25<00:28, 130778.68it/s]"
     ]
    },
    {
     "name": "stderr",
     "output_type": "stream",
     "text": [
      "\rDictNBHDTransformer fit stage 2:  47%|████▋     | 3301546/7002961 [00:25<00:28, 130804.24it/s]"
     ]
    },
    {
     "name": "stderr",
     "output_type": "stream",
     "text": [
      "\rDictNBHDTransformer fit stage 2:  47%|████▋     | 3316086/7002961 [00:25<00:28, 130861.88it/s]"
     ]
    },
    {
     "name": "stderr",
     "output_type": "stream",
     "text": [
      "\rDictNBHDTransformer fit stage 2:  48%|████▊     | 3331304/7002961 [00:25<00:28, 130945.67it/s]"
     ]
    },
    {
     "name": "stderr",
     "output_type": "stream",
     "text": [
      "\rDictNBHDTransformer fit stage 2:  48%|████▊     | 3345623/7002961 [00:25<00:27, 130993.58it/s]"
     ]
    },
    {
     "name": "stderr",
     "output_type": "stream",
     "text": [
      "\rDictNBHDTransformer fit stage 2:  48%|████▊     | 3361049/7002961 [00:25<00:27, 131084.32it/s]"
     ]
    },
    {
     "name": "stderr",
     "output_type": "stream",
     "text": [
      "\rDictNBHDTransformer fit stage 2:  48%|████▊     | 3376461/7002961 [00:25<00:27, 131173.80it/s]"
     ]
    },
    {
     "name": "stderr",
     "output_type": "stream",
     "text": [
      "\rDictNBHDTransformer fit stage 2:  48%|████▊     | 3391534/7002961 [00:25<00:27, 131249.46it/s]"
     ]
    },
    {
     "name": "stderr",
     "output_type": "stream",
     "text": [
      "\rDictNBHDTransformer fit stage 2:  49%|████▊     | 3406445/7002961 [00:25<00:27, 131318.25it/s]"
     ]
    },
    {
     "name": "stderr",
     "output_type": "stream",
     "text": [
      "\rDictNBHDTransformer fit stage 2:  49%|████▉     | 3421355/7002961 [00:26<00:27, 131226.74it/s]"
     ]
    },
    {
     "name": "stderr",
     "output_type": "stream",
     "text": [
      "\rDictNBHDTransformer fit stage 2:  49%|████▉     | 3435969/7002961 [00:26<00:27, 131283.73it/s]"
     ]
    },
    {
     "name": "stderr",
     "output_type": "stream",
     "text": [
      "\rDictNBHDTransformer fit stage 2:  49%|████▉     | 3450138/7002961 [00:26<00:27, 131323.31it/s]"
     ]
    },
    {
     "name": "stderr",
     "output_type": "stream",
     "text": [
      "\rDictNBHDTransformer fit stage 2:  49%|████▉     | 3464714/7002961 [00:26<00:26, 131378.02it/s]"
     ]
    },
    {
     "name": "stderr",
     "output_type": "stream",
     "text": [
      "\rDictNBHDTransformer fit stage 2:  50%|████▉     | 3479837/7002961 [00:26<00:26, 131453.03it/s]"
     ]
    },
    {
     "name": "stderr",
     "output_type": "stream",
     "text": [
      "\rDictNBHDTransformer fit stage 2:  50%|████▉     | 3494343/7002961 [00:26<00:26, 131353.14it/s]"
     ]
    },
    {
     "name": "stderr",
     "output_type": "stream",
     "text": [
      "\rDictNBHDTransformer fit stage 2:  50%|█████     | 3507831/7002961 [00:26<00:26, 131306.01it/s]"
     ]
    },
    {
     "name": "stderr",
     "output_type": "stream",
     "text": [
      "\rDictNBHDTransformer fit stage 2:  50%|█████     | 3521186/7002961 [00:26<00:26, 131314.35it/s]"
     ]
    },
    {
     "name": "stderr",
     "output_type": "stream",
     "text": [
      "\rDictNBHDTransformer fit stage 2:  50%|█████     | 3534553/7002961 [00:26<00:26, 131323.08it/s]"
     ]
    },
    {
     "name": "stderr",
     "output_type": "stream",
     "text": [
      "\rDictNBHDTransformer fit stage 2:  51%|█████     | 3548462/7002961 [00:27<00:26, 131351.81it/s]"
     ]
    },
    {
     "name": "stderr",
     "output_type": "stream",
     "text": [
      "\rDictNBHDTransformer fit stage 2:  51%|█████     | 3563225/7002961 [00:27<00:26, 131411.84it/s]"
     ]
    },
    {
     "name": "stderr",
     "output_type": "stream",
     "text": [
      "\rDictNBHDTransformer fit stage 2:  51%|█████     | 3578634/7002961 [00:27<00:26, 131495.15it/s]"
     ]
    },
    {
     "name": "stderr",
     "output_type": "stream",
     "text": [
      "\rDictNBHDTransformer fit stage 2:  51%|█████▏    | 3593810/7002961 [00:27<00:25, 131569.34it/s]"
     ]
    },
    {
     "name": "stderr",
     "output_type": "stream",
     "text": [
      "\rDictNBHDTransformer fit stage 2:  52%|█████▏    | 3609020/7002961 [00:27<00:25, 131644.22it/s]"
     ]
    },
    {
     "name": "stderr",
     "output_type": "stream",
     "text": [
      "\rDictNBHDTransformer fit stage 2:  52%|█████▏    | 3623878/7002961 [00:27<00:25, 131705.76it/s]"
     ]
    },
    {
     "name": "stderr",
     "output_type": "stream",
     "text": [
      "\rDictNBHDTransformer fit stage 2:  52%|█████▏    | 3638897/7002961 [00:27<00:25, 131772.69it/s]"
     ]
    },
    {
     "name": "stderr",
     "output_type": "stream",
     "text": [
      "\rDictNBHDTransformer fit stage 2:  52%|█████▏    | 3654062/7002961 [00:27<00:25, 131844.40it/s]"
     ]
    },
    {
     "name": "stderr",
     "output_type": "stream",
     "text": [
      "\rDictNBHDTransformer fit stage 2:  52%|█████▏    | 3669011/7002961 [00:27<00:25, 131902.85it/s]"
     ]
    },
    {
     "name": "stderr",
     "output_type": "stream",
     "text": [
      "\rDictNBHDTransformer fit stage 2:  53%|█████▎    | 3683914/7002961 [00:27<00:25, 131954.12it/s]"
     ]
    },
    {
     "name": "stderr",
     "output_type": "stream",
     "text": [
      "\rDictNBHDTransformer fit stage 2:  53%|█████▎    | 3698724/7002961 [00:28<00:25, 131972.29it/s]"
     ]
    },
    {
     "name": "stderr",
     "output_type": "stream",
     "text": [
      "\rDictNBHDTransformer fit stage 2:  53%|█████▎    | 3713941/7002961 [00:28<00:24, 132044.01it/s]"
     ]
    },
    {
     "name": "stderr",
     "output_type": "stream",
     "text": [
      "\rDictNBHDTransformer fit stage 2:  53%|█████▎    | 3729220/7002961 [00:28<00:24, 132117.55it/s]"
     ]
    },
    {
     "name": "stderr",
     "output_type": "stream",
     "text": [
      "\rDictNBHDTransformer fit stage 2:  53%|█████▎    | 3744088/7002961 [00:28<00:24, 132074.49it/s]"
     ]
    },
    {
     "name": "stderr",
     "output_type": "stream",
     "text": [
      "\rDictNBHDTransformer fit stage 2:  54%|█████▎    | 3759172/7002961 [00:28<00:24, 132140.43it/s]"
     ]
    },
    {
     "name": "stderr",
     "output_type": "stream",
     "text": [
      "\rDictNBHDTransformer fit stage 2:  54%|█████▍    | 3774172/7002961 [00:28<00:24, 132202.97it/s]"
     ]
    },
    {
     "name": "stderr",
     "output_type": "stream",
     "text": [
      "\rDictNBHDTransformer fit stage 2:  54%|█████▍    | 3788806/7002961 [00:28<00:24, 132252.32it/s]"
     ]
    },
    {
     "name": "stderr",
     "output_type": "stream",
     "text": [
      "\rDictNBHDTransformer fit stage 2:  54%|█████▍    | 3803847/7002961 [00:28<00:24, 132315.46it/s]"
     ]
    },
    {
     "name": "stderr",
     "output_type": "stream",
     "text": [
      "\rDictNBHDTransformer fit stage 2:  55%|█████▍    | 3818568/7002961 [00:28<00:24, 132335.48it/s]"
     ]
    },
    {
     "name": "stderr",
     "output_type": "stream",
     "text": [
      "\rDictNBHDTransformer fit stage 2:  55%|█████▍    | 3833004/7002961 [00:28<00:23, 132237.54it/s]"
     ]
    },
    {
     "name": "stderr",
     "output_type": "stream",
     "text": [
      "\rDictNBHDTransformer fit stage 2:  55%|█████▍    | 3846427/7002961 [00:29<00:23, 132215.87it/s]"
     ]
    },
    {
     "name": "stderr",
     "output_type": "stream",
     "text": [
      "\rDictNBHDTransformer fit stage 2:  55%|█████▌    | 3859613/7002961 [00:29<00:23, 132181.18it/s]"
     ]
    },
    {
     "name": "stderr",
     "output_type": "stream",
     "text": [
      "\rDictNBHDTransformer fit stage 2:  55%|█████▌    | 3872527/7002961 [00:29<00:23, 132153.46it/s]"
     ]
    },
    {
     "name": "stderr",
     "output_type": "stream",
     "text": [
      "\rDictNBHDTransformer fit stage 2:  55%|█████▌    | 3885297/7002961 [00:29<00:23, 132106.45it/s]"
     ]
    },
    {
     "name": "stderr",
     "output_type": "stream",
     "text": [
      "\rDictNBHDTransformer fit stage 2:  56%|█████▌    | 3898535/7002961 [00:29<00:23, 132107.32it/s]"
     ]
    },
    {
     "name": "stderr",
     "output_type": "stream",
     "text": [
      "\rDictNBHDTransformer fit stage 2:  56%|█████▌    | 3913835/7002961 [00:29<00:23, 132177.90it/s]"
     ]
    },
    {
     "name": "stderr",
     "output_type": "stream",
     "text": [
      "\rDictNBHDTransformer fit stage 2:  56%|█████▌    | 3928363/7002961 [00:29<00:23, 132222.00it/s]"
     ]
    },
    {
     "name": "stderr",
     "output_type": "stream",
     "text": [
      "\rDictNBHDTransformer fit stage 2:  56%|█████▋    | 3943021/7002961 [00:29<00:23, 132270.13it/s]"
     ]
    },
    {
     "name": "stderr",
     "output_type": "stream",
     "text": [
      "\rDictNBHDTransformer fit stage 2:  57%|█████▋    | 3957086/7002961 [00:29<00:23, 132295.23it/s]"
     ]
    },
    {
     "name": "stderr",
     "output_type": "stream",
     "text": [
      "\rDictNBHDTransformer fit stage 2:  57%|█████▋    | 3971125/7002961 [00:30<00:22, 132294.29it/s]"
     ]
    },
    {
     "name": "stderr",
     "output_type": "stream",
     "text": [
      "\rDictNBHDTransformer fit stage 2:  57%|█████▋    | 3985416/7002961 [00:30<00:22, 132329.53it/s]"
     ]
    },
    {
     "name": "stderr",
     "output_type": "stream",
     "text": [
      "\rDictNBHDTransformer fit stage 2:  57%|█████▋    | 4000973/7002961 [00:30<00:22, 132406.48it/s]"
     ]
    },
    {
     "name": "stderr",
     "output_type": "stream",
     "text": [
      "\rDictNBHDTransformer fit stage 2:  57%|█████▋    | 4015762/7002961 [00:30<00:22, 132457.54it/s]"
     ]
    },
    {
     "name": "stderr",
     "output_type": "stream",
     "text": [
      "\rDictNBHDTransformer fit stage 2:  58%|█████▊    | 4030590/7002961 [00:30<00:22, 132509.48it/s]"
     ]
    },
    {
     "name": "stderr",
     "output_type": "stream",
     "text": [
      "\rDictNBHDTransformer fit stage 2:  58%|█████▊    | 4045212/7002961 [00:30<00:22, 132548.34it/s]"
     ]
    },
    {
     "name": "stderr",
     "output_type": "stream",
     "text": [
      "\rDictNBHDTransformer fit stage 2:  58%|█████▊    | 4060169/7002961 [00:30<00:22, 132603.93it/s]"
     ]
    },
    {
     "name": "stderr",
     "output_type": "stream",
     "text": [
      "\rDictNBHDTransformer fit stage 2:  58%|█████▊    | 4075340/7002961 [00:30<00:22, 132666.10it/s]"
     ]
    },
    {
     "name": "stderr",
     "output_type": "stream",
     "text": [
      "\rDictNBHDTransformer fit stage 2:  58%|█████▊    | 4090167/7002961 [00:30<00:21, 132712.61it/s]"
     ]
    },
    {
     "name": "stderr",
     "output_type": "stream",
     "text": [
      "\rDictNBHDTransformer fit stage 2:  59%|█████▊    | 4105485/7002961 [00:30<00:21, 132778.75it/s]"
     ]
    },
    {
     "name": "stderr",
     "output_type": "stream",
     "text": [
      "\rDictNBHDTransformer fit stage 2:  59%|█████▉    | 4120430/7002961 [00:31<00:21, 132804.33it/s]"
     ]
    },
    {
     "name": "stderr",
     "output_type": "stream",
     "text": [
      "\rDictNBHDTransformer fit stage 2:  59%|█████▉    | 4135201/7002961 [00:31<00:21, 132852.20it/s]"
     ]
    },
    {
     "name": "stderr",
     "output_type": "stream",
     "text": [
      "\rDictNBHDTransformer fit stage 2:  59%|█████▉    | 4150354/7002961 [00:31<00:21, 132912.05it/s]"
     ]
    },
    {
     "name": "stderr",
     "output_type": "stream",
     "text": [
      "\rDictNBHDTransformer fit stage 2:  59%|█████▉    | 4165189/7002961 [00:31<00:21, 132931.70it/s]"
     ]
    },
    {
     "name": "stderr",
     "output_type": "stream",
     "text": [
      "\rDictNBHDTransformer fit stage 2:  60%|█████▉    | 4180094/7002961 [00:31<00:21, 132982.90it/s]"
     ]
    },
    {
     "name": "stderr",
     "output_type": "stream",
     "text": [
      "\rDictNBHDTransformer fit stage 2:  60%|█████▉    | 4194747/7002961 [00:31<00:21, 133022.01it/s]"
     ]
    },
    {
     "name": "stderr",
     "output_type": "stream",
     "text": [
      "\rDictNBHDTransformer fit stage 2:  60%|██████    | 4209649/7002961 [00:31<00:20, 133072.58it/s]"
     ]
    },
    {
     "name": "stderr",
     "output_type": "stream",
     "text": [
      "\rDictNBHDTransformer fit stage 2:  60%|██████    | 4224349/7002961 [00:31<00:20, 133109.41it/s]"
     ]
    },
    {
     "name": "stderr",
     "output_type": "stream",
     "text": [
      "\rDictNBHDTransformer fit stage 2:  61%|██████    | 4239706/7002961 [00:31<00:20, 133173.61it/s]"
     ]
    },
    {
     "name": "stderr",
     "output_type": "stream",
     "text": [
      "\rDictNBHDTransformer fit stage 2:  61%|██████    | 4254552/7002961 [00:31<00:20, 133197.67it/s]"
     ]
    },
    {
     "name": "stderr",
     "output_type": "stream",
     "text": [
      "\rDictNBHDTransformer fit stage 2:  61%|██████    | 4269921/7002961 [00:32<00:20, 133261.65it/s]"
     ]
    },
    {
     "name": "stderr",
     "output_type": "stream",
     "text": [
      "\rDictNBHDTransformer fit stage 2:  61%|██████    | 4284756/7002961 [00:32<00:20, 133286.62it/s]"
     ]
    },
    {
     "name": "stderr",
     "output_type": "stream",
     "text": [
      "\rDictNBHDTransformer fit stage 2:  61%|██████▏   | 4299699/7002961 [00:32<00:20, 133336.64it/s]"
     ]
    },
    {
     "name": "stderr",
     "output_type": "stream",
     "text": [
      "\rDictNBHDTransformer fit stage 2:  62%|██████▏   | 4314570/7002961 [00:32<00:20, 133384.21it/s]"
     ]
    },
    {
     "name": "stderr",
     "output_type": "stream",
     "text": [
      "\rDictNBHDTransformer fit stage 2:  62%|██████▏   | 4329329/7002961 [00:32<00:20, 133423.65it/s]"
     ]
    },
    {
     "name": "stderr",
     "output_type": "stream",
     "text": [
      "\rDictNBHDTransformer fit stage 2:  62%|██████▏   | 4344442/7002961 [00:32<00:19, 133478.03it/s]"
     ]
    },
    {
     "name": "stderr",
     "output_type": "stream",
     "text": [
      "\rDictNBHDTransformer fit stage 2:  62%|██████▏   | 4359454/7002961 [00:32<00:19, 133528.99it/s]"
     ]
    },
    {
     "name": "stderr",
     "output_type": "stream",
     "text": [
      "\rDictNBHDTransformer fit stage 2:  62%|██████▏   | 4374341/7002961 [00:32<00:19, 133508.77it/s]"
     ]
    },
    {
     "name": "stderr",
     "output_type": "stream",
     "text": [
      "\rDictNBHDTransformer fit stage 2:  63%|██████▎   | 4388597/7002961 [00:32<00:19, 133444.04it/s]"
     ]
    },
    {
     "name": "stderr",
     "output_type": "stream",
     "text": [
      "\rDictNBHDTransformer fit stage 2:  63%|██████▎   | 4402166/7002961 [00:32<00:19, 133450.83it/s]"
     ]
    },
    {
     "name": "stderr",
     "output_type": "stream",
     "text": [
      "\rDictNBHDTransformer fit stage 2:  63%|██████▎   | 4415662/7002961 [00:33<00:19, 133418.79it/s]"
     ]
    },
    {
     "name": "stderr",
     "output_type": "stream",
     "text": [
      "\rDictNBHDTransformer fit stage 2:  63%|██████▎   | 4429555/7002961 [00:33<00:19, 133435.38it/s]"
     ]
    },
    {
     "name": "stderr",
     "output_type": "stream",
     "text": [
      "\rDictNBHDTransformer fit stage 2:  63%|██████▎   | 4443886/7002961 [00:33<00:19, 133465.05it/s]"
     ]
    },
    {
     "name": "stderr",
     "output_type": "stream",
     "text": [
      "\rDictNBHDTransformer fit stage 2:  64%|██████▎   | 4457551/7002961 [00:33<00:19, 133460.67it/s]"
     ]
    },
    {
     "name": "stderr",
     "output_type": "stream",
     "text": [
      "\rDictNBHDTransformer fit stage 2:  64%|██████▍   | 4471802/7002961 [00:33<00:18, 133487.62it/s]"
     ]
    },
    {
     "name": "stderr",
     "output_type": "stream",
     "text": [
      "\rDictNBHDTransformer fit stage 2:  64%|██████▍   | 4485737/7002961 [00:33<00:18, 133505.09it/s]"
     ]
    },
    {
     "name": "stderr",
     "output_type": "stream",
     "text": [
      "\rDictNBHDTransformer fit stage 2:  64%|██████▍   | 4500294/7002961 [00:33<00:18, 133540.88it/s]"
     ]
    },
    {
     "name": "stderr",
     "output_type": "stream",
     "text": [
      "\rDictNBHDTransformer fit stage 2:  64%|██████▍   | 4514894/7002961 [00:33<00:18, 133577.71it/s]"
     ]
    },
    {
     "name": "stderr",
     "output_type": "stream",
     "text": [
      "\rDictNBHDTransformer fit stage 2:  65%|██████▍   | 4529968/7002961 [00:33<00:18, 133628.31it/s]"
     ]
    },
    {
     "name": "stderr",
     "output_type": "stream",
     "text": [
      "\rDictNBHDTransformer fit stage 2:  65%|██████▍   | 4544430/7002961 [00:34<00:18, 133658.59it/s]"
     ]
    },
    {
     "name": "stderr",
     "output_type": "stream",
     "text": [
      "\rDictNBHDTransformer fit stage 2:  65%|██████▌   | 4559966/7002961 [00:34<00:18, 133722.21it/s]"
     ]
    },
    {
     "name": "stderr",
     "output_type": "stream",
     "text": [
      "\rDictNBHDTransformer fit stage 2:  65%|██████▌   | 4574734/7002961 [00:34<00:18, 133762.96it/s]"
     ]
    },
    {
     "name": "stderr",
     "output_type": "stream",
     "text": [
      "\rDictNBHDTransformer fit stage 2:  66%|██████▌   | 4589502/7002961 [00:34<00:18, 133800.27it/s]"
     ]
    },
    {
     "name": "stderr",
     "output_type": "stream",
     "text": [
      "\rDictNBHDTransformer fit stage 2:  66%|██████▌   | 4604721/7002961 [00:34<00:17, 133853.74it/s]"
     ]
    },
    {
     "name": "stderr",
     "output_type": "stream",
     "text": [
      "\rDictNBHDTransformer fit stage 2:  66%|██████▌   | 4619599/7002961 [00:34<00:17, 133828.16it/s]"
     ]
    },
    {
     "name": "stderr",
     "output_type": "stream",
     "text": [
      "\rDictNBHDTransformer fit stage 2:  66%|██████▌   | 4633804/7002961 [00:34<00:17, 133842.58it/s]"
     ]
    },
    {
     "name": "stderr",
     "output_type": "stream",
     "text": [
      "\rDictNBHDTransformer fit stage 2:  66%|██████▋   | 4648558/7002961 [00:34<00:17, 133882.03it/s]"
     ]
    },
    {
     "name": "stderr",
     "output_type": "stream",
     "text": [
      "\rDictNBHDTransformer fit stage 2:  67%|██████▋   | 4662891/7002961 [00:34<00:17, 133909.14it/s]"
     ]
    },
    {
     "name": "stderr",
     "output_type": "stream",
     "text": [
      "\rDictNBHDTransformer fit stage 2:  67%|██████▋   | 4677201/7002961 [00:34<00:17, 133935.21it/s]"
     ]
    },
    {
     "name": "stderr",
     "output_type": "stream",
     "text": [
      "\rDictNBHDTransformer fit stage 2:  67%|██████▋   | 4692209/7002961 [00:35<00:17, 133981.27it/s]"
     ]
    },
    {
     "name": "stderr",
     "output_type": "stream",
     "text": [
      "\rDictNBHDTransformer fit stage 2:  67%|██████▋   | 4706726/7002961 [00:35<00:17, 133964.09it/s]"
     ]
    },
    {
     "name": "stderr",
     "output_type": "stream",
     "text": [
      "\rDictNBHDTransformer fit stage 2:  67%|██████▋   | 4720748/7002961 [00:35<00:17, 133892.90it/s]"
     ]
    },
    {
     "name": "stderr",
     "output_type": "stream",
     "text": [
      "\rDictNBHDTransformer fit stage 2:  68%|██████▊   | 4734179/7002961 [00:35<00:16, 133894.04it/s]"
     ]
    },
    {
     "name": "stderr",
     "output_type": "stream",
     "text": [
      "\rDictNBHDTransformer fit stage 2:  68%|██████▊   | 4748835/7002961 [00:35<00:16, 133929.75it/s]"
     ]
    },
    {
     "name": "stderr",
     "output_type": "stream",
     "text": [
      "\rDictNBHDTransformer fit stage 2:  68%|██████▊   | 4763001/7002961 [00:35<00:16, 133951.46it/s]"
     ]
    },
    {
     "name": "stderr",
     "output_type": "stream",
     "text": [
      "\rDictNBHDTransformer fit stage 2:  68%|██████▊   | 4776838/7002961 [00:35<00:16, 133938.20it/s]"
     ]
    },
    {
     "name": "stderr",
     "output_type": "stream",
     "text": [
      "\rDictNBHDTransformer fit stage 2:  68%|██████▊   | 4790410/7002961 [00:35<00:16, 133849.86it/s]"
     ]
    },
    {
     "name": "stderr",
     "output_type": "stream",
     "text": [
      "\rDictNBHDTransformer fit stage 2:  69%|██████▊   | 4803170/7002961 [00:35<00:16, 133813.03it/s]"
     ]
    },
    {
     "name": "stderr",
     "output_type": "stream",
     "text": [
      "\rDictNBHDTransformer fit stage 2:  69%|██████▉   | 4815740/7002961 [00:36<00:16, 133766.97it/s]"
     ]
    },
    {
     "name": "stderr",
     "output_type": "stream",
     "text": [
      "\rDictNBHDTransformer fit stage 2:  69%|██████▉   | 4828086/7002961 [00:36<00:16, 133729.51it/s]"
     ]
    },
    {
     "name": "stderr",
     "output_type": "stream",
     "text": [
      "\rDictNBHDTransformer fit stage 2:  69%|██████▉   | 4841634/7002961 [00:36<00:16, 133734.30it/s]"
     ]
    },
    {
     "name": "stderr",
     "output_type": "stream",
     "text": [
      "\rDictNBHDTransformer fit stage 2:  69%|██████▉   | 4854312/7002961 [00:36<00:16, 133715.12it/s]"
     ]
    },
    {
     "name": "stderr",
     "output_type": "stream",
     "text": [
      "\rDictNBHDTransformer fit stage 2:  69%|██████▉   | 4866967/7002961 [00:36<00:15, 133674.25it/s]"
     ]
    },
    {
     "name": "stderr",
     "output_type": "stream",
     "text": [
      "\rDictNBHDTransformer fit stage 2:  70%|██████▉   | 4879419/7002961 [00:36<00:15, 133643.67it/s]"
     ]
    },
    {
     "name": "stderr",
     "output_type": "stream",
     "text": [
      "\rDictNBHDTransformer fit stage 2:  70%|██████▉   | 4891812/7002961 [00:36<00:15, 133557.74it/s]"
     ]
    },
    {
     "name": "stderr",
     "output_type": "stream",
     "text": [
      "\rDictNBHDTransformer fit stage 2:  70%|███████   | 4903684/7002961 [00:36<00:15, 133504.16it/s]"
     ]
    },
    {
     "name": "stderr",
     "output_type": "stream",
     "text": [
      "\rDictNBHDTransformer fit stage 2:  70%|███████   | 4915432/7002961 [00:36<00:15, 133449.36it/s]"
     ]
    },
    {
     "name": "stderr",
     "output_type": "stream",
     "text": [
      "\rDictNBHDTransformer fit stage 2:  70%|███████   | 4927536/7002961 [00:36<00:15, 133415.53it/s]"
     ]
    },
    {
     "name": "stderr",
     "output_type": "stream",
     "text": [
      "\rDictNBHDTransformer fit stage 2:  71%|███████   | 4941594/7002961 [00:37<00:15, 133435.55it/s]"
     ]
    },
    {
     "name": "stderr",
     "output_type": "stream",
     "text": [
      "\rDictNBHDTransformer fit stage 2:  71%|███████   | 4954816/7002961 [00:37<00:15, 133432.27it/s]"
     ]
    },
    {
     "name": "stderr",
     "output_type": "stream",
     "text": [
      "\rDictNBHDTransformer fit stage 2:  71%|███████   | 4969435/7002961 [00:37<00:15, 133466.51it/s]"
     ]
    },
    {
     "name": "stderr",
     "output_type": "stream",
     "text": [
      "\rDictNBHDTransformer fit stage 2:  71%|███████   | 4984123/7002961 [00:37<00:15, 133502.33it/s]"
     ]
    },
    {
     "name": "stderr",
     "output_type": "stream",
     "text": [
      "\rDictNBHDTransformer fit stage 2:  71%|███████▏  | 4997818/7002961 [00:37<00:15, 133511.51it/s]"
     ]
    },
    {
     "name": "stderr",
     "output_type": "stream",
     "text": [
      "\rDictNBHDTransformer fit stage 2:  72%|███████▏  | 5011513/7002961 [00:37<00:14, 133500.66it/s]"
     ]
    },
    {
     "name": "stderr",
     "output_type": "stream",
     "text": [
      "\rDictNBHDTransformer fit stage 2:  72%|███████▏  | 5024989/7002961 [00:37<00:14, 133463.50it/s]"
     ]
    },
    {
     "name": "stderr",
     "output_type": "stream",
     "text": [
      "\rDictNBHDTransformer fit stage 2:  72%|███████▏  | 5038051/7002961 [00:37<00:14, 133422.62it/s]"
     ]
    },
    {
     "name": "stderr",
     "output_type": "stream",
     "text": [
      "\rDictNBHDTransformer fit stage 2:  72%|███████▏  | 5050776/7002961 [00:37<00:14, 133391.66it/s]"
     ]
    },
    {
     "name": "stderr",
     "output_type": "stream",
     "text": [
      "\rDictNBHDTransformer fit stage 2:  72%|███████▏  | 5063460/7002961 [00:37<00:14, 133374.43it/s]"
     ]
    },
    {
     "name": "stderr",
     "output_type": "stream",
     "text": [
      "\rDictNBHDTransformer fit stage 2:  73%|███████▎  | 5078030/7002961 [00:38<00:14, 133406.80it/s]"
     ]
    },
    {
     "name": "stderr",
     "output_type": "stream",
     "text": [
      "\rDictNBHDTransformer fit stage 2:  73%|███████▎  | 5092852/7002961 [00:38<00:14, 133445.60it/s]"
     ]
    },
    {
     "name": "stderr",
     "output_type": "stream",
     "text": [
      "\rDictNBHDTransformer fit stage 2:  73%|███████▎  | 5107934/7002961 [00:38<00:14, 133491.00it/s]"
     ]
    },
    {
     "name": "stderr",
     "output_type": "stream",
     "text": [
      "\rDictNBHDTransformer fit stage 2:  73%|███████▎  | 5122346/7002961 [00:38<00:14, 133518.70it/s]"
     ]
    },
    {
     "name": "stderr",
     "output_type": "stream",
     "text": [
      "\rDictNBHDTransformer fit stage 2:  73%|███████▎  | 5137651/7002961 [00:38<00:13, 133569.47it/s]"
     ]
    },
    {
     "name": "stderr",
     "output_type": "stream",
     "text": [
      "\rDictNBHDTransformer fit stage 2:  74%|███████▎  | 5152180/7002961 [00:38<00:13, 133579.48it/s]"
     ]
    },
    {
     "name": "stderr",
     "output_type": "stream",
     "text": [
      "\rDictNBHDTransformer fit stage 2:  74%|███████▍  | 5166467/7002961 [00:38<00:13, 133537.53it/s]"
     ]
    },
    {
     "name": "stderr",
     "output_type": "stream",
     "text": [
      "\rDictNBHDTransformer fit stage 2:  74%|███████▍  | 5180066/7002961 [00:38<00:13, 133496.38it/s]"
     ]
    },
    {
     "name": "stderr",
     "output_type": "stream",
     "text": [
      "\rDictNBHDTransformer fit stage 2:  74%|███████▍  | 5193171/7002961 [00:38<00:13, 133337.80it/s]"
     ]
    },
    {
     "name": "stderr",
     "output_type": "stream",
     "text": [
      "\rDictNBHDTransformer fit stage 2:  74%|███████▍  | 5205067/7002961 [00:39<00:13, 133254.68it/s]"
     ]
    },
    {
     "name": "stderr",
     "output_type": "stream",
     "text": [
      "\rDictNBHDTransformer fit stage 2:  75%|███████▍  | 5218224/7002961 [00:39<00:13, 133250.38it/s]"
     ]
    },
    {
     "name": "stderr",
     "output_type": "stream",
     "text": [
      "\rDictNBHDTransformer fit stage 2:  75%|███████▍  | 5232626/7002961 [00:39<00:13, 133277.76it/s]"
     ]
    },
    {
     "name": "stderr",
     "output_type": "stream",
     "text": [
      "\rDictNBHDTransformer fit stage 2:  75%|███████▍  | 5245330/7002961 [00:39<00:13, 133207.75it/s]"
     ]
    },
    {
     "name": "stderr",
     "output_type": "stream",
     "text": [
      "\rDictNBHDTransformer fit stage 2:  75%|███████▌  | 5257508/7002961 [00:39<00:13, 133150.61it/s]"
     ]
    },
    {
     "name": "stderr",
     "output_type": "stream",
     "text": [
      "\rDictNBHDTransformer fit stage 2:  75%|███████▌  | 5269404/7002961 [00:39<00:13, 133092.11it/s]"
     ]
    },
    {
     "name": "stderr",
     "output_type": "stream",
     "text": [
      "\rDictNBHDTransformer fit stage 2:  75%|███████▌  | 5281226/7002961 [00:39<00:12, 133054.66it/s]"
     ]
    },
    {
     "name": "stderr",
     "output_type": "stream",
     "text": [
      "\rDictNBHDTransformer fit stage 2:  76%|███████▌  | 5292943/7002961 [00:39<00:12, 132997.59it/s]"
     ]
    },
    {
     "name": "stderr",
     "output_type": "stream",
     "text": [
      "\rDictNBHDTransformer fit stage 2:  76%|███████▌  | 5304492/7002961 [00:39<00:12, 132950.88it/s]"
     ]
    },
    {
     "name": "stderr",
     "output_type": "stream",
     "text": [
      "\rDictNBHDTransformer fit stage 2:  76%|███████▌  | 5316008/7002961 [00:39<00:12, 132905.77it/s]"
     ]
    },
    {
     "name": "stderr",
     "output_type": "stream",
     "text": [
      "\rDictNBHDTransformer fit stage 2:  76%|███████▌  | 5328296/7002961 [00:40<00:12, 132881.26it/s]"
     ]
    },
    {
     "name": "stderr",
     "output_type": "stream",
     "text": [
      "\rDictNBHDTransformer fit stage 2:  76%|███████▋  | 5340538/7002961 [00:40<00:12, 132855.21it/s]"
     ]
    },
    {
     "name": "stderr",
     "output_type": "stream",
     "text": [
      "\rDictNBHDTransformer fit stage 2:  76%|███████▋  | 5352434/7002961 [00:40<00:12, 132794.59it/s]"
     ]
    },
    {
     "name": "stderr",
     "output_type": "stream",
     "text": [
      "\rDictNBHDTransformer fit stage 2:  77%|███████▋  | 5364619/7002961 [00:40<00:12, 132767.52it/s]"
     ]
    },
    {
     "name": "stderr",
     "output_type": "stream",
     "text": [
      "\rDictNBHDTransformer fit stage 2:  77%|███████▋  | 5378649/7002961 [00:40<00:12, 132786.13it/s]"
     ]
    },
    {
     "name": "stderr",
     "output_type": "stream",
     "text": [
      "\rDictNBHDTransformer fit stage 2:  77%|███████▋  | 5391118/7002961 [00:40<00:12, 132752.71it/s]"
     ]
    },
    {
     "name": "stderr",
     "output_type": "stream",
     "text": [
      "\rDictNBHDTransformer fit stage 2:  77%|███████▋  | 5403439/7002961 [00:40<00:12, 132698.44it/s]"
     ]
    },
    {
     "name": "stderr",
     "output_type": "stream",
     "text": [
      "\rDictNBHDTransformer fit stage 2:  77%|███████▋  | 5415441/7002961 [00:40<00:11, 132629.93it/s]"
     ]
    },
    {
     "name": "stderr",
     "output_type": "stream",
     "text": [
      "\rDictNBHDTransformer fit stage 2:  77%|███████▋  | 5427071/7002961 [00:40<00:11, 132570.38it/s]"
     ]
    },
    {
     "name": "stderr",
     "output_type": "stream",
     "text": [
      "\rDictNBHDTransformer fit stage 2:  78%|███████▊  | 5438875/7002961 [00:41<00:11, 132534.93it/s]"
     ]
    },
    {
     "name": "stderr",
     "output_type": "stream",
     "text": [
      "\rDictNBHDTransformer fit stage 2:  78%|███████▊  | 5452439/7002961 [00:41<00:11, 132542.49it/s]"
     ]
    },
    {
     "name": "stderr",
     "output_type": "stream",
     "text": [
      "\rDictNBHDTransformer fit stage 2:  78%|███████▊  | 5464588/7002961 [00:41<00:11, 132515.61it/s]"
     ]
    },
    {
     "name": "stderr",
     "output_type": "stream",
     "text": [
      "\rDictNBHDTransformer fit stage 2:  78%|███████▊  | 5476737/7002961 [00:41<00:11, 132470.93it/s]"
     ]
    },
    {
     "name": "stderr",
     "output_type": "stream",
     "text": [
      "\rDictNBHDTransformer fit stage 2:  78%|███████▊  | 5488692/7002961 [00:41<00:11, 132414.27it/s]"
     ]
    },
    {
     "name": "stderr",
     "output_type": "stream",
     "text": [
      "\rDictNBHDTransformer fit stage 2:  79%|███████▊  | 5501822/7002961 [00:41<00:11, 132411.58it/s]"
     ]
    },
    {
     "name": "stderr",
     "output_type": "stream",
     "text": [
      "\rDictNBHDTransformer fit stage 2:  79%|███████▉  | 5515861/7002961 [00:41<00:11, 132430.65it/s]"
     ]
    },
    {
     "name": "stderr",
     "output_type": "stream",
     "text": [
      "\rDictNBHDTransformer fit stage 2:  79%|███████▉  | 5528558/7002961 [00:41<00:11, 132394.02it/s]"
     ]
    },
    {
     "name": "stderr",
     "output_type": "stream",
     "text": [
      "\rDictNBHDTransformer fit stage 2:  79%|███████▉  | 5541317/7002961 [00:41<00:11, 132382.51it/s]"
     ]
    },
    {
     "name": "stderr",
     "output_type": "stream",
     "text": [
      "\rDictNBHDTransformer fit stage 2:  79%|███████▉  | 5554276/7002961 [00:41<00:10, 132375.79it/s]"
     ]
    },
    {
     "name": "stderr",
     "output_type": "stream",
     "text": [
      "\rDictNBHDTransformer fit stage 2:  79%|███████▉  | 5566935/7002961 [00:42<00:10, 132357.94it/s]"
     ]
    },
    {
     "name": "stderr",
     "output_type": "stream",
     "text": [
      "\rDictNBHDTransformer fit stage 2:  80%|███████▉  | 5579545/7002961 [00:42<00:10, 132335.07it/s]"
     ]
    },
    {
     "name": "stderr",
     "output_type": "stream",
     "text": [
      "\rDictNBHDTransformer fit stage 2:  80%|███████▉  | 5592061/7002961 [00:42<00:10, 132283.13it/s]"
     ]
    },
    {
     "name": "stderr",
     "output_type": "stream",
     "text": [
      "\rDictNBHDTransformer fit stage 2:  80%|████████  | 5604200/7002961 [00:43<00:10, 129807.66it/s]"
     ]
    },
    {
     "name": "stderr",
     "output_type": "stream",
     "text": [
      "\rDictNBHDTransformer fit stage 2:  80%|████████  | 5617084/7002961 [00:43<00:10, 129805.43it/s]"
     ]
    },
    {
     "name": "stderr",
     "output_type": "stream",
     "text": [
      "\rDictNBHDTransformer fit stage 2:  80%|████████  | 5630315/7002961 [00:43<00:10, 129811.19it/s]"
     ]
    },
    {
     "name": "stderr",
     "output_type": "stream",
     "text": [
      "\rDictNBHDTransformer fit stage 2:  81%|████████  | 5644493/7002961 [00:43<00:10, 129838.69it/s]"
     ]
    },
    {
     "name": "stderr",
     "output_type": "stream",
     "text": [
      "\rDictNBHDTransformer fit stage 2:  81%|████████  | 5660462/7002961 [00:43<00:10, 129907.20it/s]"
     ]
    },
    {
     "name": "stderr",
     "output_type": "stream",
     "text": [
      "\rDictNBHDTransformer fit stage 2:  81%|████████  | 5673953/7002961 [00:43<00:10, 129918.64it/s]"
     ]
    },
    {
     "name": "stderr",
     "output_type": "stream",
     "text": [
      "\rDictNBHDTransformer fit stage 2:  81%|████████  | 5688294/7002961 [00:43<00:10, 129949.46it/s]"
     ]
    },
    {
     "name": "stderr",
     "output_type": "stream",
     "text": [
      "\rDictNBHDTransformer fit stage 2:  81%|████████▏ | 5703353/7002961 [00:43<00:09, 129996.49it/s]"
     ]
    },
    {
     "name": "stderr",
     "output_type": "stream",
     "text": [
      "\rDictNBHDTransformer fit stage 2:  82%|████████▏ | 5718618/7002961 [00:43<00:09, 130047.98it/s]"
     ]
    },
    {
     "name": "stderr",
     "output_type": "stream",
     "text": [
      "\rDictNBHDTransformer fit stage 2:  82%|████████▏ | 5733020/7002961 [00:44<00:09, 130029.94it/s]"
     ]
    },
    {
     "name": "stderr",
     "output_type": "stream",
     "text": [
      "\rDictNBHDTransformer fit stage 2:  82%|████████▏ | 5746799/7002961 [00:44<00:09, 129995.75it/s]"
     ]
    },
    {
     "name": "stderr",
     "output_type": "stream",
     "text": [
      "\rDictNBHDTransformer fit stage 2:  82%|████████▏ | 5760545/7002961 [00:44<00:09, 130012.60it/s]"
     ]
    },
    {
     "name": "stderr",
     "output_type": "stream",
     "text": [
      "\rDictNBHDTransformer fit stage 2:  82%|████████▏ | 5775785/7002961 [00:44<00:09, 130063.00it/s]"
     ]
    },
    {
     "name": "stderr",
     "output_type": "stream",
     "text": [
      "\rDictNBHDTransformer fit stage 2:  83%|████████▎ | 5789692/7002961 [00:44<00:09, 130062.48it/s]"
     ]
    },
    {
     "name": "stderr",
     "output_type": "stream",
     "text": [
      "\rDictNBHDTransformer fit stage 2:  83%|████████▎ | 5803323/7002961 [00:44<00:09, 130064.00it/s]"
     ]
    },
    {
     "name": "stderr",
     "output_type": "stream",
     "text": [
      "\rDictNBHDTransformer fit stage 2:  83%|████████▎ | 5816786/7002961 [00:44<00:09, 130048.40it/s]"
     ]
    },
    {
     "name": "stderr",
     "output_type": "stream",
     "text": [
      "\rDictNBHDTransformer fit stage 2:  83%|████████▎ | 5829920/7002961 [00:44<00:09, 130017.24it/s]"
     ]
    },
    {
     "name": "stderr",
     "output_type": "stream",
     "text": [
      "\rDictNBHDTransformer fit stage 2:  83%|████████▎ | 5842641/7002961 [00:44<00:08, 129971.24it/s]"
     ]
    },
    {
     "name": "stderr",
     "output_type": "stream",
     "text": [
      "\rDictNBHDTransformer fit stage 2:  84%|████████▎ | 5854900/7002961 [00:45<00:08, 129915.03it/s]"
     ]
    },
    {
     "name": "stderr",
     "output_type": "stream",
     "text": [
      "\rDictNBHDTransformer fit stage 2:  84%|████████▍ | 5866713/7002961 [00:45<00:08, 129868.32it/s]"
     ]
    },
    {
     "name": "stderr",
     "output_type": "stream",
     "text": [
      "\rDictNBHDTransformer fit stage 2:  84%|████████▍ | 5879729/7002961 [00:45<00:08, 129868.71it/s]"
     ]
    },
    {
     "name": "stderr",
     "output_type": "stream",
     "text": [
      "\rDictNBHDTransformer fit stage 2:  84%|████████▍ | 5893628/7002961 [00:45<00:08, 129888.83it/s]"
     ]
    },
    {
     "name": "stderr",
     "output_type": "stream",
     "text": [
      "\rDictNBHDTransformer fit stage 2:  84%|████████▍ | 5906201/7002961 [00:45<00:08, 129874.49it/s]"
     ]
    },
    {
     "name": "stderr",
     "output_type": "stream",
     "text": [
      "\rDictNBHDTransformer fit stage 2:  85%|████████▍ | 5918707/7002961 [00:45<00:08, 129862.22it/s]"
     ]
    },
    {
     "name": "stderr",
     "output_type": "stream",
     "text": [
      "\rDictNBHDTransformer fit stage 2:  85%|████████▍ | 5931191/7002961 [00:45<00:08, 129819.71it/s]"
     ]
    },
    {
     "name": "stderr",
     "output_type": "stream",
     "text": [
      "\rDictNBHDTransformer fit stage 2:  85%|████████▍ | 5943676/7002961 [00:45<00:08, 129808.85it/s]"
     ]
    },
    {
     "name": "stderr",
     "output_type": "stream",
     "text": [
      "\rDictNBHDTransformer fit stage 2:  85%|████████▌ | 5955899/7002961 [00:45<00:08, 129780.28it/s]"
     ]
    },
    {
     "name": "stderr",
     "output_type": "stream",
     "text": [
      "\rDictNBHDTransformer fit stage 2:  85%|████████▌ | 5967972/7002961 [00:45<00:07, 129759.36it/s]"
     ]
    },
    {
     "name": "stderr",
     "output_type": "stream",
     "text": [
      "\rDictNBHDTransformer fit stage 2:  85%|████████▌ | 5980030/7002961 [00:46<00:07, 129721.80it/s]"
     ]
    },
    {
     "name": "stderr",
     "output_type": "stream",
     "text": [
      "\rDictNBHDTransformer fit stage 2:  86%|████████▌ | 5992679/7002961 [00:46<00:07, 129714.79it/s]"
     ]
    },
    {
     "name": "stderr",
     "output_type": "stream",
     "text": [
      "\rDictNBHDTransformer fit stage 2:  86%|████████▌ | 6005664/7002961 [00:46<00:07, 129715.11it/s]"
     ]
    },
    {
     "name": "stderr",
     "output_type": "stream",
     "text": [
      "\rDictNBHDTransformer fit stage 2:  86%|████████▌ | 6019569/7002961 [00:46<00:07, 129735.21it/s]"
     ]
    },
    {
     "name": "stderr",
     "output_type": "stream",
     "text": [
      "\rDictNBHDTransformer fit stage 2:  86%|████████▌ | 6033693/7002961 [00:46<00:07, 129759.96it/s]"
     ]
    },
    {
     "name": "stderr",
     "output_type": "stream",
     "text": [
      "\rDictNBHDTransformer fit stage 2:  86%|████████▋ | 6046905/7002961 [00:46<00:07, 129735.17it/s]"
     ]
    },
    {
     "name": "stderr",
     "output_type": "stream",
     "text": [
      "\rDictNBHDTransformer fit stage 2:  87%|████████▋ | 6059733/7002961 [00:46<00:07, 129716.07it/s]"
     ]
    },
    {
     "name": "stderr",
     "output_type": "stream",
     "text": [
      "\rDictNBHDTransformer fit stage 2:  87%|████████▋ | 6072550/7002961 [00:46<00:07, 129712.40it/s]"
     ]
    },
    {
     "name": "stderr",
     "output_type": "stream",
     "text": [
      "\rDictNBHDTransformer fit stage 2:  87%|████████▋ | 6085653/7002961 [00:46<00:07, 129712.96it/s]"
     ]
    },
    {
     "name": "stderr",
     "output_type": "stream",
     "text": [
      "\rDictNBHDTransformer fit stage 2:  87%|████████▋ | 6099382/7002961 [00:47<00:06, 129729.11it/s]"
     ]
    },
    {
     "name": "stderr",
     "output_type": "stream",
     "text": [
      "\rDictNBHDTransformer fit stage 2:  87%|████████▋ | 6112440/7002961 [00:47<00:06, 129721.04it/s]"
     ]
    },
    {
     "name": "stderr",
     "output_type": "stream",
     "text": [
      "\rDictNBHDTransformer fit stage 2:  87%|████████▋ | 6125363/7002961 [00:47<00:06, 129690.18it/s]"
     ]
    },
    {
     "name": "stderr",
     "output_type": "stream",
     "text": [
      "\rDictNBHDTransformer fit stage 2:  88%|████████▊ | 6137906/7002961 [00:47<00:06, 129623.42it/s]"
     ]
    },
    {
     "name": "stderr",
     "output_type": "stream",
     "text": [
      "\rDictNBHDTransformer fit stage 2:  88%|████████▊ | 6149999/7002961 [00:47<00:06, 129605.11it/s]"
     ]
    },
    {
     "name": "stderr",
     "output_type": "stream",
     "text": [
      "\rDictNBHDTransformer fit stage 2:  88%|████████▊ | 6163564/7002961 [00:47<00:06, 129617.81it/s]"
     ]
    },
    {
     "name": "stderr",
     "output_type": "stream",
     "text": [
      "\rDictNBHDTransformer fit stage 2:  88%|████████▊ | 6178340/7002961 [00:47<00:06, 129655.89it/s]"
     ]
    },
    {
     "name": "stderr",
     "output_type": "stream",
     "text": [
      "\rDictNBHDTransformer fit stage 2:  88%|████████▊ | 6193573/7002961 [00:47<00:06, 129703.36it/s]"
     ]
    },
    {
     "name": "stderr",
     "output_type": "stream",
     "text": [
      "\rDictNBHDTransformer fit stage 2:  89%|████████▊ | 6209025/7002961 [00:47<00:06, 129755.23it/s]"
     ]
    },
    {
     "name": "stderr",
     "output_type": "stream",
     "text": [
      "\rDictNBHDTransformer fit stage 2:  89%|████████▉ | 6224758/7002961 [00:47<00:05, 129812.72it/s]"
     ]
    },
    {
     "name": "stderr",
     "output_type": "stream",
     "text": [
      "\rDictNBHDTransformer fit stage 2:  89%|████████▉ | 6239468/7002961 [00:48<00:05, 129806.70it/s]"
     ]
    },
    {
     "name": "stderr",
     "output_type": "stream",
     "text": [
      "\rDictNBHDTransformer fit stage 2:  89%|████████▉ | 6253584/7002961 [00:48<00:05, 129784.91it/s]"
     ]
    },
    {
     "name": "stderr",
     "output_type": "stream",
     "text": [
      "\rDictNBHDTransformer fit stage 2:  89%|████████▉ | 6267091/7002961 [00:48<00:05, 129782.97it/s]"
     ]
    },
    {
     "name": "stderr",
     "output_type": "stream",
     "text": [
      "\rDictNBHDTransformer fit stage 2:  90%|████████▉ | 6280412/7002961 [00:48<00:05, 129766.32it/s]"
     ]
    },
    {
     "name": "stderr",
     "output_type": "stream",
     "text": [
      "\rDictNBHDTransformer fit stage 2:  90%|████████▉ | 6293409/7002961 [00:48<00:05, 129766.69it/s]"
     ]
    },
    {
     "name": "stderr",
     "output_type": "stream",
     "text": [
      "\rDictNBHDTransformer fit stage 2:  90%|█████████ | 6307870/7002961 [00:48<00:05, 129797.21it/s]"
     ]
    },
    {
     "name": "stderr",
     "output_type": "stream",
     "text": [
      "\rDictNBHDTransformer fit stage 2:  90%|█████████ | 6321774/7002961 [00:48<00:05, 129816.18it/s]"
     ]
    },
    {
     "name": "stderr",
     "output_type": "stream",
     "text": [
      "\rDictNBHDTransformer fit stage 2:  90%|█████████ | 6336459/7002961 [00:48<00:05, 129851.07it/s]"
     ]
    },
    {
     "name": "stderr",
     "output_type": "stream",
     "text": [
      "\rDictNBHDTransformer fit stage 2:  91%|█████████ | 6351989/7002961 [00:48<00:05, 129903.11it/s]"
     ]
    },
    {
     "name": "stderr",
     "output_type": "stream",
     "text": [
      "\rDictNBHDTransformer fit stage 2:  91%|█████████ | 6367410/7002961 [00:48<00:04, 129952.71it/s]"
     ]
    },
    {
     "name": "stderr",
     "output_type": "stream",
     "text": [
      "\rDictNBHDTransformer fit stage 2:  91%|█████████ | 6382113/7002961 [00:49<00:04, 129976.04it/s]"
     ]
    },
    {
     "name": "stderr",
     "output_type": "stream",
     "text": [
      "\rDictNBHDTransformer fit stage 2:  91%|█████████▏| 6396634/7002961 [00:49<00:04, 129961.57it/s]"
     ]
    },
    {
     "name": "stderr",
     "output_type": "stream",
     "text": [
      "\rDictNBHDTransformer fit stage 2:  92%|█████████▏| 6410515/7002961 [00:49<00:04, 129937.36it/s]"
     ]
    },
    {
     "name": "stderr",
     "output_type": "stream",
     "text": [
      "\rDictNBHDTransformer fit stage 2:  92%|█████████▏| 6424819/7002961 [00:49<00:04, 129963.77it/s]"
     ]
    },
    {
     "name": "stderr",
     "output_type": "stream",
     "text": [
      "\rDictNBHDTransformer fit stage 2:  92%|█████████▏| 6439029/7002961 [00:49<00:04, 129988.33it/s]"
     ]
    },
    {
     "name": "stderr",
     "output_type": "stream",
     "text": [
      "\rDictNBHDTransformer fit stage 2:  92%|█████████▏| 6454745/7002961 [00:49<00:04, 130043.07it/s]"
     ]
    },
    {
     "name": "stderr",
     "output_type": "stream",
     "text": [
      "\rDictNBHDTransformer fit stage 2:  92%|█████████▏| 6469806/7002961 [00:49<00:04, 130084.41it/s]"
     ]
    },
    {
     "name": "stderr",
     "output_type": "stream",
     "text": [
      "\rDictNBHDTransformer fit stage 2:  93%|█████████▎| 6484380/7002961 [00:49<00:03, 130091.42it/s]"
     ]
    },
    {
     "name": "stderr",
     "output_type": "stream",
     "text": [
      "\rDictNBHDTransformer fit stage 2:  93%|█████████▎| 6498583/7002961 [00:49<00:03, 130075.11it/s]"
     ]
    },
    {
     "name": "stderr",
     "output_type": "stream",
     "text": [
      "\rDictNBHDTransformer fit stage 2:  93%|█████████▎| 6512214/7002961 [00:50<00:03, 130060.88it/s]"
     ]
    },
    {
     "name": "stderr",
     "output_type": "stream",
     "text": [
      "\rDictNBHDTransformer fit stage 2:  93%|█████████▎| 6525539/7002961 [00:50<00:03, 130067.19it/s]"
     ]
    },
    {
     "name": "stderr",
     "output_type": "stream",
     "text": [
      "\rDictNBHDTransformer fit stage 2:  93%|█████████▎| 6539964/7002961 [00:50<00:03, 130095.43it/s]"
     ]
    },
    {
     "name": "stderr",
     "output_type": "stream",
     "text": [
      "\rDictNBHDTransformer fit stage 2:  94%|█████████▎| 6555213/7002961 [00:50<00:03, 130139.88it/s]"
     ]
    },
    {
     "name": "stderr",
     "output_type": "stream",
     "text": [
      "\rDictNBHDTransformer fit stage 2:  94%|█████████▍| 6569321/7002961 [00:50<00:03, 130122.76it/s]"
     ]
    },
    {
     "name": "stderr",
     "output_type": "stream",
     "text": [
      "\rDictNBHDTransformer fit stage 2:  94%|█████████▍| 6583885/7002961 [00:50<00:03, 130153.43it/s]"
     ]
    },
    {
     "name": "stderr",
     "output_type": "stream",
     "text": [
      "\rDictNBHDTransformer fit stage 2:  94%|█████████▍| 6598103/7002961 [00:50<00:03, 130177.13it/s]"
     ]
    },
    {
     "name": "stderr",
     "output_type": "stream",
     "text": [
      "\rDictNBHDTransformer fit stage 2:  94%|█████████▍| 6612068/7002961 [00:50<00:03, 130134.43it/s]"
     ]
    },
    {
     "name": "stderr",
     "output_type": "stream",
     "text": [
      "\rDictNBHDTransformer fit stage 2:  95%|█████████▍| 6625224/7002961 [00:50<00:02, 130099.38it/s]"
     ]
    },
    {
     "name": "stderr",
     "output_type": "stream",
     "text": [
      "\rDictNBHDTransformer fit stage 2:  95%|█████████▍| 6638187/7002961 [00:51<00:02, 130098.44it/s]"
     ]
    },
    {
     "name": "stderr",
     "output_type": "stream",
     "text": [
      "\rDictNBHDTransformer fit stage 2:  95%|█████████▍| 6650929/7002961 [00:51<00:02, 130075.36it/s]"
     ]
    },
    {
     "name": "stderr",
     "output_type": "stream",
     "text": [
      "\rDictNBHDTransformer fit stage 2:  95%|█████████▌| 6664134/7002961 [00:51<00:02, 130079.21it/s]"
     ]
    },
    {
     "name": "stderr",
     "output_type": "stream",
     "text": [
      "\rDictNBHDTransformer fit stage 2:  95%|█████████▌| 6678492/7002961 [00:51<00:02, 130105.48it/s]"
     ]
    },
    {
     "name": "stderr",
     "output_type": "stream",
     "text": [
      "\rDictNBHDTransformer fit stage 2:  96%|█████████▌| 6692960/7002961 [00:51<00:02, 130133.84it/s]"
     ]
    },
    {
     "name": "stderr",
     "output_type": "stream",
     "text": [
      "\rDictNBHDTransformer fit stage 2:  96%|█████████▌| 6707005/7002961 [00:51<00:02, 130153.86it/s]"
     ]
    },
    {
     "name": "stderr",
     "output_type": "stream",
     "text": [
      "\rDictNBHDTransformer fit stage 2:  96%|█████████▌| 6721598/7002961 [00:51<00:02, 130184.40it/s]"
     ]
    },
    {
     "name": "stderr",
     "output_type": "stream",
     "text": [
      "\rDictNBHDTransformer fit stage 2:  96%|█████████▌| 6736365/7002961 [00:51<00:02, 130218.14it/s]"
     ]
    },
    {
     "name": "stderr",
     "output_type": "stream",
     "text": [
      "\rDictNBHDTransformer fit stage 2:  96%|█████████▋| 6750582/7002961 [00:51<00:01, 130223.17it/s]"
     ]
    },
    {
     "name": "stderr",
     "output_type": "stream",
     "text": [
      "\rDictNBHDTransformer fit stage 2:  97%|█████████▋| 6764513/7002961 [00:51<00:01, 130148.31it/s]"
     ]
    },
    {
     "name": "stderr",
     "output_type": "stream",
     "text": [
      "\rDictNBHDTransformer fit stage 2:  97%|█████████▋| 6777319/7002961 [00:52<00:01, 130093.76it/s]"
     ]
    },
    {
     "name": "stderr",
     "output_type": "stream",
     "text": [
      "\rDictNBHDTransformer fit stage 2:  97%|█████████▋| 6789479/7002961 [00:52<00:01, 130063.30it/s]"
     ]
    },
    {
     "name": "stderr",
     "output_type": "stream",
     "text": [
      "\rDictNBHDTransformer fit stage 2:  97%|█████████▋| 6802230/7002961 [00:52<00:01, 130058.37it/s]"
     ]
    },
    {
     "name": "stderr",
     "output_type": "stream",
     "text": [
      "\rDictNBHDTransformer fit stage 2:  97%|█████████▋| 6814430/7002961 [00:52<00:01, 130025.68it/s]"
     ]
    },
    {
     "name": "stderr",
     "output_type": "stream",
     "text": [
      "\rDictNBHDTransformer fit stage 2:  97%|█████████▋| 6826391/7002961 [00:52<00:01, 129990.63it/s]"
     ]
    },
    {
     "name": "stderr",
     "output_type": "stream",
     "text": [
      "\rDictNBHDTransformer fit stage 2:  98%|█████████▊| 6839182/7002961 [00:52<00:01, 129986.67it/s]"
     ]
    },
    {
     "name": "stderr",
     "output_type": "stream",
     "text": [
      "\rDictNBHDTransformer fit stage 2:  98%|█████████▊| 6852021/7002961 [00:52<00:01, 129983.60it/s]"
     ]
    },
    {
     "name": "stderr",
     "output_type": "stream",
     "text": [
      "\rDictNBHDTransformer fit stage 2:  98%|█████████▊| 6866224/7002961 [00:52<00:01, 130006.39it/s]"
     ]
    },
    {
     "name": "stderr",
     "output_type": "stream",
     "text": [
      "\rDictNBHDTransformer fit stage 2:  98%|█████████▊| 6879721/7002961 [00:52<00:00, 130015.77it/s]"
     ]
    },
    {
     "name": "stderr",
     "output_type": "stream",
     "text": [
      "\rDictNBHDTransformer fit stage 2:  98%|█████████▊| 6892778/7002961 [00:53<00:00, 129966.71it/s]"
     ]
    },
    {
     "name": "stderr",
     "output_type": "stream",
     "text": [
      "\rDictNBHDTransformer fit stage 2:  99%|█████████▊| 6905170/7002961 [00:53<00:00, 129933.34it/s]"
     ]
    },
    {
     "name": "stderr",
     "output_type": "stream",
     "text": [
      "\rDictNBHDTransformer fit stage 2:  99%|█████████▉| 6918206/7002961 [00:53<00:00, 129934.15it/s]"
     ]
    },
    {
     "name": "stderr",
     "output_type": "stream",
     "text": [
      "\rDictNBHDTransformer fit stage 2:  99%|█████████▉| 6932109/7002961 [00:53<00:00, 129951.17it/s]"
     ]
    },
    {
     "name": "stderr",
     "output_type": "stream",
     "text": [
      "\rDictNBHDTransformer fit stage 2:  99%|█████████▉| 6946312/7002961 [00:53<00:00, 129973.77it/s]"
     ]
    },
    {
     "name": "stderr",
     "output_type": "stream",
     "text": [
      "\rDictNBHDTransformer fit stage 2:  99%|█████████▉| 6960084/7002961 [00:53<00:00, 129988.22it/s]"
     ]
    },
    {
     "name": "stderr",
     "output_type": "stream",
     "text": [
      "\rDictNBHDTransformer fit stage 2: 100%|█████████▉| 6973485/7002961 [00:53<00:00, 129986.91it/s]"
     ]
    },
    {
     "name": "stderr",
     "output_type": "stream",
     "text": [
      "\rDictNBHDTransformer fit stage 2: 100%|█████████▉| 6987027/7002961 [00:53<00:00, 129997.05it/s]"
     ]
    },
    {
     "name": "stderr",
     "output_type": "stream",
     "text": [
      "\rDictNBHDTransformer fit stage 2: 100%|█████████▉| 7000372/7002961 [00:53<00:00, 130003.07it/s]"
     ]
    },
    {
     "name": "stderr",
     "output_type": "stream",
     "text": [
      "\rDictNBHDTransformer fit stage 2: 100%|██████████| 7002961/7002961 [00:53<00:00, 130004.13it/s]"
     ]
    },
    {
     "name": "stderr",
     "output_type": "stream",
     "text": [
      "\n"
     ]
    },
    {
     "name": "stderr",
     "output_type": "stream",
     "text": [
      "\rDictClassTransformer_DATE fit stage 1:   0%|          | 0/9517064 [00:00<?, ?it/s]"
     ]
    },
    {
     "name": "stderr",
     "output_type": "stream",
     "text": [
      "\rDictClassTransformer_DATE fit stage 1:   0%|          | 4284/9517064 [00:00<33:21, 4753.89it/s]"
     ]
    },
    {
     "name": "stderr",
     "output_type": "stream",
     "text": [
      "\rDictClassTransformer_DATE fit stage 1:   1%|          | 86501/9517064 [00:01<01:49, 86409.84it/s]"
     ]
    },
    {
     "name": "stderr",
     "output_type": "stream",
     "text": [
      "\rDictClassTransformer_DATE fit stage 1:   2%|▏         | 179722/9517064 [00:01<00:57, 163227.70it/s]"
     ]
    },
    {
     "name": "stderr",
     "output_type": "stream",
     "text": [
      "\rDictClassTransformer_DATE fit stage 1:   3%|▎         | 272558/9517064 [00:02<01:13, 125338.28it/s]"
     ]
    },
    {
     "name": "stderr",
     "output_type": "stream",
     "text": [
      "\rDictClassTransformer_DATE fit stage 1:   4%|▍         | 392081/9517064 [00:02<00:52, 172375.72it/s]"
     ]
    },
    {
     "name": "stderr",
     "output_type": "stream",
     "text": [
      "\rDictClassTransformer_DATE fit stage 1:   5%|▌         | 503643/9517064 [00:02<00:42, 212098.09it/s]"
     ]
    },
    {
     "name": "stderr",
     "output_type": "stream",
     "text": [
      "\rDictClassTransformer_DATE fit stage 1:   6%|▋         | 615271/9517064 [00:02<00:35, 248636.63it/s]"
     ]
    },
    {
     "name": "stderr",
     "output_type": "stream",
     "text": [
      "\rDictClassTransformer_DATE fit stage 1:   8%|▊         | 731221/9517064 [00:02<00:30, 284016.10it/s]"
     ]
    },
    {
     "name": "stderr",
     "output_type": "stream",
     "text": [
      "\rDictClassTransformer_DATE fit stage 1:   9%|▉         | 867375/9517064 [00:02<00:26, 324303.50it/s]"
     ]
    },
    {
     "name": "stderr",
     "output_type": "stream",
     "text": [
      "\rDictClassTransformer_DATE fit stage 1:  11%|█         | 1004758/9517064 [00:02<00:23, 362130.01it/s]"
     ]
    },
    {
     "name": "stderr",
     "output_type": "stream",
     "text": [
      "\rDictClassTransformer_DATE fit stage 1:  12%|█▏        | 1148702/9517064 [00:02<00:20, 399607.04it/s]"
     ]
    },
    {
     "name": "stderr",
     "output_type": "stream",
     "text": [
      "\rDictClassTransformer_DATE fit stage 1:  14%|█▎        | 1297291/9517064 [00:02<00:18, 436125.90it/s]"
     ]
    },
    {
     "name": "stderr",
     "output_type": "stream",
     "text": [
      "\rDictClassTransformer_DATE fit stage 1:  15%|█▌        | 1431086/9517064 [00:03<00:17, 465455.09it/s]"
     ]
    },
    {
     "name": "stderr",
     "output_type": "stream",
     "text": [
      "\rDictClassTransformer_DATE fit stage 1:  16%|█▋        | 1565710/9517064 [00:03<00:16, 493201.01it/s]"
     ]
    },
    {
     "name": "stderr",
     "output_type": "stream",
     "text": [
      "\rDictClassTransformer_DATE fit stage 1:  18%|█▊        | 1710769/9517064 [00:03<00:14, 522438.72it/s]"
     ]
    },
    {
     "name": "stderr",
     "output_type": "stream",
     "text": [
      "\rDictClassTransformer_DATE fit stage 1:  19%|█▉        | 1847453/9517064 [00:03<00:14, 545627.45it/s]"
     ]
    },
    {
     "name": "stderr",
     "output_type": "stream",
     "text": [
      "\rDictClassTransformer_DATE fit stage 1:  21%|██        | 1979959/9517064 [00:03<00:13, 567232.62it/s]"
     ]
    },
    {
     "name": "stderr",
     "output_type": "stream",
     "text": [
      "\rDictClassTransformer_DATE fit stage 1:  22%|██▏       | 2115214/9517064 [00:03<00:12, 589102.88it/s]"
     ]
    },
    {
     "name": "stderr",
     "output_type": "stream",
     "text": [
      "\rDictClassTransformer_DATE fit stage 1:  24%|██▎       | 2249548/9517064 [00:03<00:11, 609540.57it/s]"
     ]
    },
    {
     "name": "stderr",
     "output_type": "stream",
     "text": [
      "\rDictClassTransformer_DATE fit stage 1:  25%|██▌       | 2392441/9517064 [00:03<00:11, 631157.82it/s]"
     ]
    },
    {
     "name": "stderr",
     "output_type": "stream",
     "text": [
      "\rDictClassTransformer_DATE fit stage 1:  27%|██▋       | 2533290/9517064 [00:03<00:10, 651137.80it/s]"
     ]
    },
    {
     "name": "stderr",
     "output_type": "stream",
     "text": [
      "\rDictClassTransformer_DATE fit stage 1:  28%|██▊       | 2676518/9517064 [00:03<00:10, 670712.21it/s]"
     ]
    },
    {
     "name": "stderr",
     "output_type": "stream",
     "text": [
      "\rDictClassTransformer_DATE fit stage 1:  30%|██▉       | 2819250/9517064 [00:04<00:09, 689208.62it/s]"
     ]
    },
    {
     "name": "stderr",
     "output_type": "stream",
     "text": [
      "\rDictClassTransformer_DATE fit stage 1:  31%|███       | 2961695/9517064 [00:04<00:09, 706753.29it/s]"
     ]
    },
    {
     "name": "stderr",
     "output_type": "stream",
     "text": [
      "\rDictClassTransformer_DATE fit stage 1:  33%|███▎      | 3104673/9517064 [00:04<00:08, 723605.34it/s]"
     ]
    },
    {
     "name": "stderr",
     "output_type": "stream",
     "text": [
      "\rDictClassTransformer_DATE fit stage 1:  34%|███▍      | 3246170/9517064 [00:04<00:08, 738547.26it/s]"
     ]
    },
    {
     "name": "stderr",
     "output_type": "stream",
     "text": [
      "\rDictClassTransformer_DATE fit stage 1:  36%|███▌      | 3385734/9517064 [00:04<00:08, 751147.12it/s]"
     ]
    },
    {
     "name": "stderr",
     "output_type": "stream",
     "text": [
      "\rDictClassTransformer_DATE fit stage 1:  37%|███▋      | 3529030/9517064 [00:04<00:07, 765945.57it/s]"
     ]
    },
    {
     "name": "stderr",
     "output_type": "stream",
     "text": [
      "\rDictClassTransformer_DATE fit stage 1:  39%|███▊      | 3682388/9517064 [00:04<00:07, 782251.83it/s]"
     ]
    },
    {
     "name": "stderr",
     "output_type": "stream",
     "text": [
      "\rDictClassTransformer_DATE fit stage 1:  40%|████      | 3835078/9517064 [00:04<00:07, 797740.38it/s]"
     ]
    },
    {
     "name": "stderr",
     "output_type": "stream",
     "text": [
      "\rDictClassTransformer_DATE fit stage 1:  42%|████▏     | 3988724/9517064 [00:04<00:06, 812794.52it/s]"
     ]
    },
    {
     "name": "stderr",
     "output_type": "stream",
     "text": [
      "\rDictClassTransformer_DATE fit stage 1:  44%|████▎     | 4144319/9517064 [00:05<00:06, 827635.58it/s]"
     ]
    },
    {
     "name": "stderr",
     "output_type": "stream",
     "text": [
      "\rDictClassTransformer_DATE fit stage 1:  45%|████▌     | 4294509/9517064 [00:07<00:09, 554687.39it/s]"
     ]
    },
    {
     "name": "stderr",
     "output_type": "stream",
     "text": [
      "\rDictClassTransformer_DATE fit stage 1:  47%|████▋     | 4433343/9517064 [00:07<00:08, 565317.63it/s]"
     ]
    },
    {
     "name": "stderr",
     "output_type": "stream",
     "text": [
      "\rDictClassTransformer_DATE fit stage 1:  48%|████▊     | 4565297/9517064 [00:07<00:08, 574813.63it/s]"
     ]
    },
    {
     "name": "stderr",
     "output_type": "stream",
     "text": [
      "\rDictClassTransformer_DATE fit stage 1:  49%|████▉     | 4686360/9517064 [00:08<00:08, 582543.17it/s]"
     ]
    },
    {
     "name": "stderr",
     "output_type": "stream",
     "text": [
      "\rDictClassTransformer_DATE fit stage 1:  51%|█████     | 4806608/9517064 [00:08<00:07, 589000.19it/s]"
     ]
    },
    {
     "name": "stderr",
     "output_type": "stream",
     "text": [
      "\rDictClassTransformer_DATE fit stage 1:  52%|█████▏    | 4940797/9517064 [00:08<00:07, 598114.70it/s]"
     ]
    },
    {
     "name": "stderr",
     "output_type": "stream",
     "text": [
      "\rDictClassTransformer_DATE fit stage 1:  53%|█████▎    | 5069129/9517064 [00:08<00:07, 606310.09it/s]"
     ]
    },
    {
     "name": "stderr",
     "output_type": "stream",
     "text": [
      "\rDictClassTransformer_DATE fit stage 1:  55%|█████▍    | 5201095/9517064 [00:08<00:07, 614741.65it/s]"
     ]
    },
    {
     "name": "stderr",
     "output_type": "stream",
     "text": [
      "\rDictClassTransformer_DATE fit stage 1:  56%|█████▌    | 5333032/9517064 [00:08<00:06, 622972.54it/s]"
     ]
    },
    {
     "name": "stderr",
     "output_type": "stream",
     "text": [
      "\rDictClassTransformer_DATE fit stage 1:  58%|█████▊    | 5476951/9517064 [00:08<00:06, 632396.90it/s]"
     ]
    },
    {
     "name": "stderr",
     "output_type": "stream",
     "text": [
      "\rDictClassTransformer_DATE fit stage 1:  59%|█████▉    | 5621446/9517064 [00:08<00:06, 641671.95it/s]"
     ]
    },
    {
     "name": "stderr",
     "output_type": "stream",
     "text": [
      "\rDictClassTransformer_DATE fit stage 1:  61%|██████    | 5770865/9517064 [00:08<00:05, 651293.50it/s]"
     ]
    },
    {
     "name": "stderr",
     "output_type": "stream",
     "text": [
      "\rDictClassTransformer_DATE fit stage 1:  62%|██████▏   | 5920516/9517064 [00:08<00:05, 660726.00it/s]"
     ]
    },
    {
     "name": "stderr",
     "output_type": "stream",
     "text": [
      "\rDictClassTransformer_DATE fit stage 1:  64%|██████▎   | 6063485/9517064 [00:09<00:05, 668870.79it/s]"
     ]
    },
    {
     "name": "stderr",
     "output_type": "stream",
     "text": [
      "\rDictClassTransformer_DATE fit stage 1:  65%|██████▌   | 6208540/9517064 [00:09<00:04, 677400.77it/s]"
     ]
    },
    {
     "name": "stderr",
     "output_type": "stream",
     "text": [
      "\rDictClassTransformer_DATE fit stage 1:  67%|██████▋   | 6360774/9517064 [00:09<00:04, 686521.64it/s]"
     ]
    },
    {
     "name": "stderr",
     "output_type": "stream",
     "text": [
      "\rDictClassTransformer_DATE fit stage 1:  68%|██████▊   | 6512356/9517064 [00:09<00:04, 695376.42it/s]"
     ]
    },
    {
     "name": "stderr",
     "output_type": "stream",
     "text": [
      "\rDictClassTransformer_DATE fit stage 1:  70%|██████▉   | 6659514/9517064 [00:09<00:04, 702737.88it/s]"
     ]
    },
    {
     "name": "stderr",
     "output_type": "stream",
     "text": [
      "\rDictClassTransformer_DATE fit stage 1:  71%|███████▏  | 6802304/9517064 [00:09<00:03, 710310.41it/s]"
     ]
    },
    {
     "name": "stderr",
     "output_type": "stream",
     "text": [
      "\rDictClassTransformer_DATE fit stage 1:  73%|███████▎  | 6945015/9517064 [00:09<00:03, 717134.69it/s]"
     ]
    },
    {
     "name": "stderr",
     "output_type": "stream",
     "text": [
      "\rDictClassTransformer_DATE fit stage 1:  74%|███████▍  | 7089491/9517064 [00:09<00:03, 724570.16it/s]"
     ]
    },
    {
     "name": "stderr",
     "output_type": "stream",
     "text": [
      "\rDictClassTransformer_DATE fit stage 1:  76%|███████▌  | 7236261/9517064 [00:09<00:03, 732089.64it/s]"
     ]
    },
    {
     "name": "stderr",
     "output_type": "stream",
     "text": [
      "\rDictClassTransformer_DATE fit stage 1:  78%|███████▊  | 7379031/9517064 [00:09<00:02, 738918.22it/s]"
     ]
    },
    {
     "name": "stderr",
     "output_type": "stream",
     "text": [
      "\rDictClassTransformer_DATE fit stage 1:  79%|███████▉  | 7521015/9517064 [00:10<00:02, 745604.83it/s]"
     ]
    },
    {
     "name": "stderr",
     "output_type": "stream",
     "text": [
      "\rDictClassTransformer_DATE fit stage 1:  81%|████████  | 7668406/9517064 [00:10<00:02, 752753.94it/s]"
     ]
    },
    {
     "name": "stderr",
     "output_type": "stream",
     "text": [
      "\rDictClassTransformer_DATE fit stage 1:  82%|████████▏ | 7819292/9517064 [00:10<00:02, 760103.95it/s]"
     ]
    },
    {
     "name": "stderr",
     "output_type": "stream",
     "text": [
      "\rDictClassTransformer_DATE fit stage 1:  84%|████████▎ | 7964902/9517064 [00:10<00:02, 766800.52it/s]"
     ]
    },
    {
     "name": "stderr",
     "output_type": "stream",
     "text": [
      "\rDictClassTransformer_DATE fit stage 1:  85%|████████▌ | 8115957/9517064 [00:10<00:01, 773892.57it/s]"
     ]
    },
    {
     "name": "stderr",
     "output_type": "stream",
     "text": [
      "\rDictClassTransformer_DATE fit stage 1:  87%|████████▋ | 8263185/9517064 [00:10<00:01, 780047.25it/s]"
     ]
    },
    {
     "name": "stderr",
     "output_type": "stream",
     "text": [
      "\rDictClassTransformer_DATE fit stage 1:  88%|████████▊ | 8415171/9517064 [00:10<00:01, 786965.29it/s]"
     ]
    },
    {
     "name": "stderr",
     "output_type": "stream",
     "text": [
      "\rDictClassTransformer_DATE fit stage 1:  90%|████████▉ | 8562080/9517064 [00:10<00:01, 793125.35it/s]"
     ]
    },
    {
     "name": "stderr",
     "output_type": "stream",
     "text": [
      "\rDictClassTransformer_DATE fit stage 1:  91%|█████████▏| 8708046/9517064 [00:10<00:01, 799062.15it/s]"
     ]
    },
    {
     "name": "stderr",
     "output_type": "stream",
     "text": [
      "\rDictClassTransformer_DATE fit stage 1:  93%|█████████▎| 8852965/9517064 [00:11<00:00, 804656.85it/s]"
     ]
    },
    {
     "name": "stderr",
     "output_type": "stream",
     "text": [
      "\rDictClassTransformer_DATE fit stage 1:  95%|█████████▍| 9000991/9517064 [00:11<00:00, 810740.27it/s]"
     ]
    },
    {
     "name": "stderr",
     "output_type": "stream",
     "text": [
      "\rDictClassTransformer_DATE fit stage 1:  96%|█████████▌| 9145574/9517064 [00:11<00:00, 816295.42it/s]"
     ]
    },
    {
     "name": "stderr",
     "output_type": "stream",
     "text": [
      "\rDictClassTransformer_DATE fit stage 1:  98%|█████████▊| 9290223/9517064 [00:11<00:00, 821870.59it/s]"
     ]
    },
    {
     "name": "stderr",
     "output_type": "stream",
     "text": [
      "\rDictClassTransformer_DATE fit stage 1:  99%|█████████▉| 9447649/9517064 [00:11<00:00, 828468.33it/s]"
     ]
    },
    {
     "name": "stderr",
     "output_type": "stream",
     "text": [
      "\rDictClassTransformer_DATE fit stage 1: 100%|██████████| 9517064/9517064 [00:11<00:00, 815345.69it/s]"
     ]
    },
    {
     "name": "stderr",
     "output_type": "stream",
     "text": [
      "\n\rDictClassTransformer_DATE fit stage 2:   0%|          | 0/34547 [00:00<?, ?it/s]"
     ]
    },
    {
     "name": "stderr",
     "output_type": "stream",
     "text": [
      "\rDictClassTransformer_DATE fit stage 2:  40%|███▉      | 13713/34547 [00:00<00:00, 137088.95it/s]"
     ]
    },
    {
     "name": "stderr",
     "output_type": "stream",
     "text": [
      "\rDictClassTransformer_DATE fit stage 2:  81%|████████  | 27924/34547 [00:00<00:00, 139601.83it/s]"
     ]
    },
    {
     "name": "stderr",
     "output_type": "stream",
     "text": [
      "\rDictClassTransformer_DATE fit stage 2: 100%|██████████| 34547/34547 [00:00<00:00, 135849.77it/s]"
     ]
    },
    {
     "name": "stderr",
     "output_type": "stream",
     "text": [
      "\n"
     ]
    },
    {
     "name": "stderr",
     "output_type": "stream",
     "text": [
      "\rDictClassTransformer_CARDINAL fit stage 1:   0%|          | 0/9517064 [00:00<?, ?it/s]"
     ]
    },
    {
     "name": "stderr",
     "output_type": "stream",
     "text": [
      "\rDictClassTransformer_CARDINAL fit stage 1:   1%|          | 83343/9517064 [00:00<01:52, 83987.50it/s]"
     ]
    },
    {
     "name": "stderr",
     "output_type": "stream",
     "text": [
      "\rDictClassTransformer_CARDINAL fit stage 1:   2%|▏         | 192732/9517064 [00:01<00:52, 176443.73it/s]"
     ]
    },
    {
     "name": "stderr",
     "output_type": "stream",
     "text": [
      "\rDictClassTransformer_CARDINAL fit stage 1:   3%|▎         | 272355/9517064 [00:02<01:24, 109965.50it/s]"
     ]
    },
    {
     "name": "stderr",
     "output_type": "stream",
     "text": [
      "\rDictClassTransformer_CARDINAL fit stage 1:   4%|▍         | 381446/9517064 [00:02<01:01, 148034.67it/s]"
     ]
    },
    {
     "name": "stderr",
     "output_type": "stream",
     "text": [
      "\rDictClassTransformer_CARDINAL fit stage 1:   5%|▍         | 472814/9517064 [00:02<00:51, 176637.85it/s]"
     ]
    },
    {
     "name": "stderr",
     "output_type": "stream",
     "text": [
      "\rDictClassTransformer_CARDINAL fit stage 1:   6%|▌         | 567822/9517064 [00:02<00:43, 204492.45it/s]"
     ]
    },
    {
     "name": "stderr",
     "output_type": "stream",
     "text": [
      "\rDictClassTransformer_CARDINAL fit stage 1:   7%|▋         | 684055/9517064 [00:02<00:37, 237788.64it/s]"
     ]
    },
    {
     "name": "stderr",
     "output_type": "stream",
     "text": [
      "\rDictClassTransformer_CARDINAL fit stage 1:   8%|▊         | 803185/9517064 [00:02<00:32, 269820.61it/s]"
     ]
    },
    {
     "name": "stderr",
     "output_type": "stream",
     "text": [
      "\rDictClassTransformer_CARDINAL fit stage 1:  10%|▉         | 908453/9517064 [00:03<00:29, 295262.96it/s]"
     ]
    },
    {
     "name": "stderr",
     "output_type": "stream",
     "text": [
      "\rDictClassTransformer_CARDINAL fit stage 1:  11%|█         | 1009195/9517064 [00:03<00:26, 317680.79it/s]"
     ]
    },
    {
     "name": "stderr",
     "output_type": "stream",
     "text": [
      "\rDictClassTransformer_CARDINAL fit stage 1:  12%|█▏        | 1108430/9517064 [00:03<00:24, 336443.09it/s]"
     ]
    },
    {
     "name": "stderr",
     "output_type": "stream",
     "text": [
      "\rDictClassTransformer_CARDINAL fit stage 1:  13%|█▎        | 1221381/9517064 [00:03<00:23, 359806.85it/s]"
     ]
    },
    {
     "name": "stderr",
     "output_type": "stream",
     "text": [
      "\rDictClassTransformer_CARDINAL fit stage 1:  14%|█▍        | 1321739/9517064 [00:03<00:21, 378227.46it/s]"
     ]
    },
    {
     "name": "stderr",
     "output_type": "stream",
     "text": [
      "\rDictClassTransformer_CARDINAL fit stage 1:  15%|█▍        | 1422093/9517064 [00:03<00:20, 395625.17it/s]"
     ]
    },
    {
     "name": "stderr",
     "output_type": "stream",
     "text": [
      "\rDictClassTransformer_CARDINAL fit stage 1:  16%|█▌        | 1523935/9517064 [00:03<00:19, 412482.32it/s]"
     ]
    },
    {
     "name": "stderr",
     "output_type": "stream",
     "text": [
      "\rDictClassTransformer_CARDINAL fit stage 1:  17%|█▋        | 1624684/9517064 [00:03<00:18, 427549.31it/s]"
     ]
    },
    {
     "name": "stderr",
     "output_type": "stream",
     "text": [
      "\rDictClassTransformer_CARDINAL fit stage 1:  18%|█▊        | 1728399/9517064 [00:03<00:17, 443179.30it/s]"
     ]
    },
    {
     "name": "stderr",
     "output_type": "stream",
     "text": [
      "\rDictClassTransformer_CARDINAL fit stage 1:  19%|█▉        | 1831954/9517064 [00:03<00:16, 457994.21it/s]"
     ]
    },
    {
     "name": "stderr",
     "output_type": "stream",
     "text": [
      "\rDictClassTransformer_CARDINAL fit stage 1:  20%|██        | 1935119/9517064 [00:04<00:16, 471984.02it/s]"
     ]
    },
    {
     "name": "stderr",
     "output_type": "stream",
     "text": [
      "\rDictClassTransformer_CARDINAL fit stage 1:  22%|██▏       | 2046579/9517064 [00:04<00:15, 487285.77it/s]"
     ]
    },
    {
     "name": "stderr",
     "output_type": "stream",
     "text": [
      "\rDictClassTransformer_CARDINAL fit stage 1:  23%|██▎       | 2151393/9517064 [00:04<00:14, 498036.56it/s]"
     ]
    },
    {
     "name": "stderr",
     "output_type": "stream",
     "text": [
      "\rDictClassTransformer_CARDINAL fit stage 1:  24%|██▎       | 2251014/9517064 [00:04<00:14, 508451.94it/s]"
     ]
    },
    {
     "name": "stderr",
     "output_type": "stream",
     "text": [
      "\rDictClassTransformer_CARDINAL fit stage 1:  25%|██▍       | 2364804/9517064 [00:04<00:13, 522361.43it/s]"
     ]
    },
    {
     "name": "stderr",
     "output_type": "stream",
     "text": [
      "\rDictClassTransformer_CARDINAL fit stage 1:  26%|██▌       | 2481110/9517064 [00:04<00:13, 536206.59it/s]"
     ]
    },
    {
     "name": "stderr",
     "output_type": "stream",
     "text": [
      "\rDictClassTransformer_CARDINAL fit stage 1:  27%|██▋       | 2610181/9517064 [00:04<00:12, 552168.43it/s]"
     ]
    },
    {
     "name": "stderr",
     "output_type": "stream",
     "text": [
      "\rDictClassTransformer_CARDINAL fit stage 1:  29%|██▉       | 2742662/9517064 [00:04<00:11, 568174.03it/s]"
     ]
    },
    {
     "name": "stderr",
     "output_type": "stream",
     "text": [
      "\rDictClassTransformer_CARDINAL fit stage 1:  30%|███       | 2866849/9517064 [00:04<00:11, 581846.10it/s]"
     ]
    },
    {
     "name": "stderr",
     "output_type": "stream",
     "text": [
      "\rDictClassTransformer_CARDINAL fit stage 1:  31%|███▏      | 2992415/9517064 [00:05<00:10, 595248.29it/s]"
     ]
    },
    {
     "name": "stderr",
     "output_type": "stream",
     "text": [
      "\rDictClassTransformer_CARDINAL fit stage 1:  33%|███▎      | 3114512/9517064 [00:05<00:10, 607387.62it/s]"
     ]
    },
    {
     "name": "stderr",
     "output_type": "stream",
     "text": [
      "\rDictClassTransformer_CARDINAL fit stage 1:  34%|███▍      | 3236403/9517064 [00:05<00:10, 618894.10it/s]"
     ]
    },
    {
     "name": "stderr",
     "output_type": "stream",
     "text": [
      "\rDictClassTransformer_CARDINAL fit stage 1:  35%|███▌      | 3368436/9517064 [00:05<00:09, 632055.46it/s]"
     ]
    },
    {
     "name": "stderr",
     "output_type": "stream",
     "text": [
      "\rDictClassTransformer_CARDINAL fit stage 1:  37%|███▋      | 3499112/9517064 [00:05<00:09, 644482.80it/s]"
     ]
    },
    {
     "name": "stderr",
     "output_type": "stream",
     "text": [
      "\rDictClassTransformer_CARDINAL fit stage 1:  38%|███▊      | 3641664/9517064 [00:05<00:08, 658607.69it/s]"
     ]
    },
    {
     "name": "stderr",
     "output_type": "stream",
     "text": [
      "\rDictClassTransformer_CARDINAL fit stage 1:  40%|███▉      | 3778450/9517064 [00:05<00:08, 671207.26it/s]"
     ]
    },
    {
     "name": "stderr",
     "output_type": "stream",
     "text": [
      "\rDictClassTransformer_CARDINAL fit stage 1:  41%|████      | 3911344/9517064 [00:05<00:08, 681331.31it/s]"
     ]
    },
    {
     "name": "stderr",
     "output_type": "stream",
     "text": [
      "\rDictClassTransformer_CARDINAL fit stage 1:  43%|████▎     | 4052038/9517064 [00:05<00:07, 693753.60it/s]"
     ]
    },
    {
     "name": "stderr",
     "output_type": "stream",
     "text": [
      "\rDictClassTransformer_CARDINAL fit stage 1:  44%|████▍     | 4195214/9517064 [00:05<00:07, 706176.63it/s]"
     ]
    },
    {
     "name": "stderr",
     "output_type": "stream",
     "text": [
      "\rDictClassTransformer_CARDINAL fit stage 1:  46%|████▌     | 4330832/9517064 [00:06<00:07, 715213.79it/s]"
     ]
    },
    {
     "name": "stderr",
     "output_type": "stream",
     "text": [
      "\rDictClassTransformer_CARDINAL fit stage 1:  47%|████▋     | 4461279/9517064 [00:06<00:07, 722193.27it/s]"
     ]
    },
    {
     "name": "stderr",
     "output_type": "stream",
     "text": [
      "\rDictClassTransformer_CARDINAL fit stage 1:  48%|████▊     | 4584643/9517064 [00:06<00:06, 727774.93it/s]"
     ]
    },
    {
     "name": "stderr",
     "output_type": "stream",
     "text": [
      "\rDictClassTransformer_CARDINAL fit stage 1:  49%|████▉     | 4701309/9517064 [00:06<00:06, 733684.76it/s]"
     ]
    },
    {
     "name": "stderr",
     "output_type": "stream",
     "text": [
      "\rDictClassTransformer_CARDINAL fit stage 1:  51%|█████     | 4815294/9517064 [00:06<00:06, 738553.67it/s]"
     ]
    },
    {
     "name": "stderr",
     "output_type": "stream",
     "text": [
      "\rDictClassTransformer_CARDINAL fit stage 1:  52%|█████▏    | 4925589/9517064 [00:06<00:06, 743008.24it/s]"
     ]
    },
    {
     "name": "stderr",
     "output_type": "stream",
     "text": [
      "\rDictClassTransformer_CARDINAL fit stage 1:  53%|█████▎    | 5033053/9517064 [00:06<00:05, 747781.55it/s]"
     ]
    },
    {
     "name": "stderr",
     "output_type": "stream",
     "text": [
      "\rDictClassTransformer_CARDINAL fit stage 1:  54%|█████▍    | 5140075/9517064 [00:06<00:05, 751459.76it/s]"
     ]
    },
    {
     "name": "stderr",
     "output_type": "stream",
     "text": [
      "\rDictClassTransformer_CARDINAL fit stage 1:  55%|█████▌    | 5244320/9517064 [00:06<00:05, 755242.58it/s]"
     ]
    },
    {
     "name": "stderr",
     "output_type": "stream",
     "text": [
      "\rDictClassTransformer_CARDINAL fit stage 1:  56%|█████▌    | 5350110/9517064 [00:07<00:05, 759538.86it/s]"
     ]
    },
    {
     "name": "stderr",
     "output_type": "stream",
     "text": [
      "\rDictClassTransformer_CARDINAL fit stage 1:  57%|█████▋    | 5454029/9517064 [00:07<00:05, 763340.05it/s]"
     ]
    },
    {
     "name": "stderr",
     "output_type": "stream",
     "text": [
      "\rDictClassTransformer_CARDINAL fit stage 1:  58%|█████▊    | 5557610/9517064 [00:07<00:05, 766554.17it/s]"
     ]
    },
    {
     "name": "stderr",
     "output_type": "stream",
     "text": [
      "\rDictClassTransformer_CARDINAL fit stage 1:  59%|█████▉    | 5659679/9517064 [00:07<00:05, 743347.47it/s]"
     ]
    },
    {
     "name": "stderr",
     "output_type": "stream",
     "text": [
      "\rDictClassTransformer_CARDINAL fit stage 1:  61%|██████    | 5769518/9517064 [00:07<00:05, 747949.31it/s]"
     ]
    },
    {
     "name": "stderr",
     "output_type": "stream",
     "text": [
      "\rDictClassTransformer_CARDINAL fit stage 1:  62%|██████▏   | 5867316/9517064 [00:07<00:04, 750894.08it/s]"
     ]
    },
    {
     "name": "stderr",
     "output_type": "stream",
     "text": [
      "\rDictClassTransformer_CARDINAL fit stage 1:  63%|██████▎   | 5970842/9517064 [00:07<00:04, 754487.57it/s]"
     ]
    },
    {
     "name": "stderr",
     "output_type": "stream",
     "text": [
      "\rDictClassTransformer_CARDINAL fit stage 1:  64%|██████▍   | 6081733/9517064 [00:08<00:04, 758910.05it/s]"
     ]
    },
    {
     "name": "stderr",
     "output_type": "stream",
     "text": [
      "\rDictClassTransformer_CARDINAL fit stage 1:  65%|██████▌   | 6190617/9517064 [00:08<00:04, 762976.24it/s]"
     ]
    },
    {
     "name": "stderr",
     "output_type": "stream",
     "text": [
      "\rDictClassTransformer_CARDINAL fit stage 1:  66%|██████▌   | 6303930/9517064 [00:08<00:04, 767481.90it/s]"
     ]
    },
    {
     "name": "stderr",
     "output_type": "stream",
     "text": [
      "\rDictClassTransformer_CARDINAL fit stage 1:  67%|██████▋   | 6416867/9517064 [00:08<00:04, 771834.98it/s]"
     ]
    },
    {
     "name": "stderr",
     "output_type": "stream",
     "text": [
      "\rDictClassTransformer_CARDINAL fit stage 1:  69%|██████▉   | 6544049/9517064 [00:08<00:03, 777776.87it/s]"
     ]
    },
    {
     "name": "stderr",
     "output_type": "stream",
     "text": [
      "\rDictClassTransformer_CARDINAL fit stage 1:  70%|███████   | 6663155/9517064 [00:08<00:03, 782631.14it/s]"
     ]
    },
    {
     "name": "stderr",
     "output_type": "stream",
     "text": [
      "\rDictClassTransformer_CARDINAL fit stage 1:  71%|███████   | 6778483/9517064 [00:08<00:03, 786677.57it/s]"
     ]
    },
    {
     "name": "stderr",
     "output_type": "stream",
     "text": [
      "\rDictClassTransformer_CARDINAL fit stage 1:  73%|███████▎  | 6900843/9517064 [00:08<00:03, 791684.94it/s]"
     ]
    },
    {
     "name": "stderr",
     "output_type": "stream",
     "text": [
      "\rDictClassTransformer_CARDINAL fit stage 1:  74%|███████▎  | 7018126/9517064 [00:08<00:03, 796013.26it/s]"
     ]
    },
    {
     "name": "stderr",
     "output_type": "stream",
     "text": [
      "\rDictClassTransformer_CARDINAL fit stage 1:  75%|███████▌  | 7140489/9517064 [00:08<00:02, 800805.69it/s]"
     ]
    },
    {
     "name": "stderr",
     "output_type": "stream",
     "text": [
      "\rDictClassTransformer_CARDINAL fit stage 1:  76%|███████▋  | 7259042/9517064 [00:09<00:02, 804722.94it/s]"
     ]
    },
    {
     "name": "stderr",
     "output_type": "stream",
     "text": [
      "\rDictClassTransformer_CARDINAL fit stage 1:  78%|███████▊  | 7376254/9517064 [00:09<00:02, 807486.43it/s]"
     ]
    },
    {
     "name": "stderr",
     "output_type": "stream",
     "text": [
      "\rDictClassTransformer_CARDINAL fit stage 1:  79%|███████▊  | 7490980/9517064 [00:09<00:02, 811165.70it/s]"
     ]
    },
    {
     "name": "stderr",
     "output_type": "stream",
     "text": [
      "\rDictClassTransformer_CARDINAL fit stage 1:  80%|███████▉  | 7604367/9517064 [00:09<00:02, 813854.00it/s]"
     ]
    },
    {
     "name": "stderr",
     "output_type": "stream",
     "text": [
      "\rDictClassTransformer_CARDINAL fit stage 1:  81%|████████  | 7715003/9517064 [00:09<00:02, 815989.33it/s]"
     ]
    },
    {
     "name": "stderr",
     "output_type": "stream",
     "text": [
      "\rDictClassTransformer_CARDINAL fit stage 1:  82%|████████▏ | 7824189/9517064 [00:09<00:02, 818876.92it/s]"
     ]
    },
    {
     "name": "stderr",
     "output_type": "stream",
     "text": [
      "\rDictClassTransformer_CARDINAL fit stage 1:  83%|████████▎ | 7939683/9517064 [00:09<00:01, 822357.21it/s]"
     ]
    },
    {
     "name": "stderr",
     "output_type": "stream",
     "text": [
      "\rDictClassTransformer_CARDINAL fit stage 1:  85%|████████▍ | 8049841/9517064 [00:09<00:01, 825148.65it/s]"
     ]
    },
    {
     "name": "stderr",
     "output_type": "stream",
     "text": [
      "\rDictClassTransformer_CARDINAL fit stage 1:  86%|████████▌ | 8175982/9517064 [00:09<00:01, 829575.02it/s]"
     ]
    },
    {
     "name": "stderr",
     "output_type": "stream",
     "text": [
      "\rDictClassTransformer_CARDINAL fit stage 1:  87%|████████▋ | 8312714/9517064 [00:09<00:01, 834976.34it/s]"
     ]
    },
    {
     "name": "stderr",
     "output_type": "stream",
     "text": [
      "\rDictClassTransformer_CARDINAL fit stage 1:  89%|████████▉ | 8450536/9517064 [00:10<00:01, 840378.56it/s]"
     ]
    },
    {
     "name": "stderr",
     "output_type": "stream",
     "text": [
      "\rDictClassTransformer_CARDINAL fit stage 1:  90%|█████████ | 8590860/9517064 [00:10<00:01, 845919.75it/s]"
     ]
    },
    {
     "name": "stderr",
     "output_type": "stream",
     "text": [
      "\rDictClassTransformer_CARDINAL fit stage 1:  92%|█████████▏| 8726120/9517064 [00:10<00:00, 850860.42it/s]"
     ]
    },
    {
     "name": "stderr",
     "output_type": "stream",
     "text": [
      "\rDictClassTransformer_CARDINAL fit stage 1:  93%|█████████▎| 8873083/9517064 [00:10<00:00, 856836.61it/s]"
     ]
    },
    {
     "name": "stderr",
     "output_type": "stream",
     "text": [
      "\rDictClassTransformer_CARDINAL fit stage 1:  95%|█████████▍| 9018713/9517064 [00:10<00:00, 862569.51it/s]"
     ]
    },
    {
     "name": "stderr",
     "output_type": "stream",
     "text": [
      "\rDictClassTransformer_CARDINAL fit stage 1:  96%|█████████▌| 9159187/9517064 [00:10<00:00, 867706.06it/s]"
     ]
    },
    {
     "name": "stderr",
     "output_type": "stream",
     "text": [
      "\rDictClassTransformer_CARDINAL fit stage 1:  98%|█████████▊| 9311510/9517064 [00:10<00:00, 873857.72it/s]"
     ]
    },
    {
     "name": "stderr",
     "output_type": "stream",
     "text": [
      "\rDictClassTransformer_CARDINAL fit stage 1:  99%|█████████▉| 9454912/9517064 [00:10<00:00, 878879.19it/s]"
     ]
    },
    {
     "name": "stderr",
     "output_type": "stream",
     "text": [
      "\rDictClassTransformer_CARDINAL fit stage 1: 100%|██████████| 9517064/9517064 [00:11<00:00, 858280.50it/s]"
     ]
    },
    {
     "name": "stderr",
     "output_type": "stream",
     "text": [
      "\n\rDictClassTransformer_CARDINAL fit stage 2:   0%|          | 0/9847 [00:00<?, ?it/s]"
     ]
    },
    {
     "name": "stderr",
     "output_type": "stream",
     "text": [
      "\rDictClassTransformer_CARDINAL fit stage 2: 100%|██████████| 9847/9847 [00:00<00:00, 99074.32it/s]"
     ]
    },
    {
     "name": "stderr",
     "output_type": "stream",
     "text": [
      "\n"
     ]
    },
    {
     "name": "stderr",
     "output_type": "stream",
     "text": [
      "\rDigitTransformer transform:   0%|          | 0/1057452 [00:00<?, ?it/s]"
     ]
    },
    {
     "name": "stderr",
     "output_type": "stream",
     "text": [
      "\rDigitTransformer transform:   2%|▏         | 23764/1057452 [00:00<00:04, 237566.03it/s]"
     ]
    },
    {
     "name": "stderr",
     "output_type": "stream",
     "text": [
      "\rDigitTransformer transform:   8%|▊         | 82820/1057452 [00:00<00:02, 414000.21it/s]"
     ]
    },
    {
     "name": "stderr",
     "output_type": "stream",
     "text": [
      "\rDigitTransformer transform:  14%|█▍        | 146698/1057452 [00:00<00:01, 488946.00it/s]"
     ]
    },
    {
     "name": "stderr",
     "output_type": "stream",
     "text": [
      "\rDigitTransformer transform:  20%|██        | 211967/1057452 [00:00<00:01, 529868.10it/s]"
     ]
    },
    {
     "name": "stderr",
     "output_type": "stream",
     "text": [
      "\rDigitTransformer transform:  27%|██▋       | 290335/1057452 [00:00<00:01, 580615.18it/s]"
     ]
    },
    {
     "name": "stderr",
     "output_type": "stream",
     "text": [
      "\rDigitTransformer transform:  36%|███▌      | 378169/1057452 [00:00<00:01, 630241.45it/s]"
     ]
    },
    {
     "name": "stderr",
     "output_type": "stream",
     "text": [
      "\rDigitTransformer transform:  44%|████▎     | 460355/1057452 [00:00<00:00, 657602.92it/s]"
     ]
    },
    {
     "name": "stderr",
     "output_type": "stream",
     "text": [
      "\rDigitTransformer transform:  51%|█████     | 538750/1057452 [00:00<00:00, 673393.59it/s]"
     ]
    },
    {
     "name": "stderr",
     "output_type": "stream",
     "text": [
      "\rDigitTransformer transform:  58%|█████▊    | 611096/1057452 [00:00<00:00, 677930.33it/s]"
     ]
    },
    {
     "name": "stderr",
     "output_type": "stream",
     "text": [
      "\rDigitTransformer transform:  65%|██████▍   | 683151/1057452 [00:01<00:00, 681115.76it/s]"
     ]
    },
    {
     "name": "stderr",
     "output_type": "stream",
     "text": [
      "\rDigitTransformer transform:  72%|███████▏  | 761541/1057452 [00:01<00:00, 690428.26it/s]"
     ]
    },
    {
     "name": "stderr",
     "output_type": "stream",
     "text": [
      "\rDigitTransformer transform:  79%|███████▉  | 836451/1057452 [00:01<00:00, 695308.75it/s]"
     ]
    },
    {
     "name": "stderr",
     "output_type": "stream",
     "text": [
      "\rDigitTransformer transform:  87%|████████▋ | 919129/1057452 [00:01<00:00, 705392.17it/s]"
     ]
    },
    {
     "name": "stderr",
     "output_type": "stream",
     "text": [
      "\rDigitTransformer transform:  94%|█████████▍| 997579/1057452 [00:01<00:00, 711035.87it/s]"
     ]
    },
    {
     "name": "stderr",
     "output_type": "stream",
     "text": [
      "\rDigitTransformer transform: 100%|██████████| 1057452/1057452 [00:01<00:00, 710886.77it/s]"
     ]
    },
    {
     "name": "stderr",
     "output_type": "stream",
     "text": [
      "\n"
     ]
    },
    {
     "name": "stderr",
     "output_type": "stream",
     "text": [
      "\rDashTransformer transform:   0%|          | 0/1057452 [00:00<?, ?it/s]"
     ]
    },
    {
     "name": "stderr",
     "output_type": "stream",
     "text": [
      "\rDashTransformer transform:   4%|▍         | 43755/1057452 [00:00<00:02, 437414.84it/s]"
     ]
    },
    {
     "name": "stderr",
     "output_type": "stream",
     "text": [
      "\rDashTransformer transform:  10%|▉         | 102665/1057452 [00:00<00:01, 513201.91it/s]"
     ]
    },
    {
     "name": "stderr",
     "output_type": "stream",
     "text": [
      "\rDashTransformer transform:  16%|█▋        | 172622/1057452 [00:00<00:01, 575332.23it/s]"
     ]
    },
    {
     "name": "stderr",
     "output_type": "stream",
     "text": [
      "\rDashTransformer transform:  23%|██▎       | 242283/1057452 [00:00<00:01, 605643.82it/s]"
     ]
    },
    {
     "name": "stderr",
     "output_type": "stream",
     "text": [
      "\rDashTransformer transform:  29%|██▉       | 311781/1057452 [00:00<00:01, 623508.48it/s]"
     ]
    },
    {
     "name": "stderr",
     "output_type": "stream",
     "text": [
      "\rDashTransformer transform:  36%|███▋      | 383868/1057452 [00:00<00:01, 639727.99it/s]"
     ]
    },
    {
     "name": "stderr",
     "output_type": "stream",
     "text": [
      "\rDashTransformer transform:  43%|████▎     | 457558/1057452 [00:00<00:00, 653611.28it/s]"
     ]
    },
    {
     "name": "stderr",
     "output_type": "stream",
     "text": [
      "\rDashTransformer transform:  51%|█████     | 539371/1057452 [00:00<00:00, 674172.60it/s]"
     ]
    },
    {
     "name": "stderr",
     "output_type": "stream",
     "text": [
      "\rDashTransformer transform:  59%|█████▉    | 621629/1057452 [00:00<00:00, 690660.58it/s]"
     ]
    },
    {
     "name": "stderr",
     "output_type": "stream",
     "text": [
      "\rDashTransformer transform:  66%|██████▌   | 694936/1057452 [00:01<00:00, 694603.30it/s]"
     ]
    },
    {
     "name": "stderr",
     "output_type": "stream",
     "text": [
      "\rDashTransformer transform:  73%|███████▎  | 776763/1057452 [00:01<00:00, 705837.53it/s]"
     ]
    },
    {
     "name": "stderr",
     "output_type": "stream",
     "text": [
      "\rDashTransformer transform:  82%|████████▏ | 862074/1057452 [00:01<00:00, 718105.34it/s]"
     ]
    },
    {
     "name": "stderr",
     "output_type": "stream",
     "text": [
      "\rDashTransformer transform:  89%|████████▉ | 940725/1057452 [00:01<00:00, 710472.91it/s]"
     ]
    },
    {
     "name": "stderr",
     "output_type": "stream",
     "text": [
      "\rDashTransformer transform:  96%|█████████▌| 1014874/1057452 [00:01<00:00, 710213.13it/s]"
     ]
    },
    {
     "name": "stderr",
     "output_type": "stream",
     "text": [
      "\rDashTransformer transform: 100%|██████████| 1057452/1057452 [00:01<00:00, 705164.48it/s]"
     ]
    },
    {
     "name": "stderr",
     "output_type": "stream",
     "text": [
      "\n"
     ]
    },
    {
     "name": "stderr",
     "output_type": "stream",
     "text": [
      "\rDictClassTransformer transform:   0%|          | 0/1057452 [00:00<?, ?it/s]"
     ]
    },
    {
     "name": "stderr",
     "output_type": "stream",
     "text": [
      "\rDictClassTransformer transform:   5%|▌         | 56784/1057452 [00:00<00:01, 567663.24it/s]"
     ]
    },
    {
     "name": "stderr",
     "output_type": "stream",
     "text": [
      "\rDictClassTransformer transform:  15%|█▍        | 156648/1057452 [00:00<00:01, 783082.05it/s]"
     ]
    },
    {
     "name": "stderr",
     "output_type": "stream",
     "text": [
      "\rDictClassTransformer transform:  25%|██▍       | 260208/1057452 [00:00<00:00, 867264.33it/s]"
     ]
    },
    {
     "name": "stderr",
     "output_type": "stream",
     "text": [
      "\rDictClassTransformer transform:  35%|███▍      | 365931/1057452 [00:00<00:00, 914754.22it/s]"
     ]
    },
    {
     "name": "stderr",
     "output_type": "stream",
     "text": [
      "\rDictClassTransformer transform:  45%|████▌     | 480273/1057452 [00:00<00:00, 960478.68it/s]"
     ]
    },
    {
     "name": "stderr",
     "output_type": "stream",
     "text": [
      "\rDictClassTransformer transform:  57%|█████▋    | 606197/1057452 [00:00<00:00, 1010243.79it/s]"
     ]
    },
    {
     "name": "stderr",
     "output_type": "stream",
     "text": [
      "\rDictClassTransformer transform:  69%|██████▉   | 727175/1057452 [00:00<00:00, 1038757.32it/s]"
     ]
    },
    {
     "name": "stderr",
     "output_type": "stream",
     "text": [
      "\rDictClassTransformer transform:  81%|████████  | 856698/1057452 [00:00<00:00, 1070816.08it/s]"
     ]
    },
    {
     "name": "stderr",
     "output_type": "stream",
     "text": [
      "\rDictClassTransformer transform:  92%|█████████▏| 972757/1057452 [00:00<00:00, 1080791.75it/s]"
     ]
    },
    {
     "name": "stderr",
     "output_type": "stream",
     "text": [
      "\rDictClassTransformer transform: 100%|██████████| 1057452/1057452 [00:00<00:00, 1075931.86it/s]"
     ]
    },
    {
     "name": "stderr",
     "output_type": "stream",
     "text": [
      "\n"
     ]
    },
    {
     "name": "stderr",
     "output_type": "stream",
     "text": [
      "\rDictClassTransformer transform:   0%|          | 0/1057452 [00:00<?, ?it/s]"
     ]
    },
    {
     "name": "stderr",
     "output_type": "stream",
     "text": [
      "\rDictClassTransformer transform:   6%|▌         | 59886/1057452 [00:00<00:01, 598675.02it/s]"
     ]
    },
    {
     "name": "stderr",
     "output_type": "stream",
     "text": [
      "\rDictClassTransformer transform:  15%|█▌        | 163027/1057452 [00:00<00:01, 815000.73it/s]"
     ]
    },
    {
     "name": "stderr",
     "output_type": "stream",
     "text": [
      "\rDictClassTransformer transform:  26%|██▌       | 276627/1057452 [00:00<00:00, 921979.51it/s]"
     ]
    },
    {
     "name": "stderr",
     "output_type": "stream",
     "text": [
      "\rDictClassTransformer transform:  38%|███▊      | 401702/1057452 [00:00<00:00, 1004152.41it/s]"
     ]
    },
    {
     "name": "stderr",
     "output_type": "stream",
     "text": [
      "\rDictClassTransformer transform:  50%|████▉     | 525311/1057452 [00:00<00:00, 1050546.86it/s]"
     ]
    },
    {
     "name": "stderr",
     "output_type": "stream",
     "text": [
      "\rDictClassTransformer transform:  62%|██████▏   | 656856/1057452 [00:00<00:00, 1094691.01it/s]"
     ]
    },
    {
     "name": "stderr",
     "output_type": "stream",
     "text": [
      "\rDictClassTransformer transform:  75%|███████▍  | 788701/1057452 [00:00<00:00, 1126656.54it/s]"
     ]
    },
    {
     "name": "stderr",
     "output_type": "stream",
     "text": [
      "\rDictClassTransformer transform:  87%|████████▋ | 921807/1057452 [00:00<00:00, 1152199.76it/s]"
     ]
    },
    {
     "name": "stderr",
     "output_type": "stream",
     "text": [
      "\rDictClassTransformer transform: 100%|██████████| 1057452/1057452 [00:00<00:00, 1149611.90it/s]"
     ]
    },
    {
     "name": "stderr",
     "output_type": "stream",
     "text": [
      "\n"
     ]
    },
    {
     "name": "stderr",
     "output_type": "stream",
     "text": [
      "\rMorphologyExtractor transform:   0%|          | 0/1057452 [00:00<?, ?it/s]"
     ]
    },
    {
     "name": "stderr",
     "output_type": "stream",
     "text": [
      "\rMorphologyExtractor transform:   0%|          | 1031/1057452 [00:00<01:42, 10300.60it/s]"
     ]
    },
    {
     "name": "stderr",
     "output_type": "stream",
     "text": [
      "\rMorphologyExtractor transform:   0%|          | 3502/1057452 [00:00<01:00, 17497.38it/s]"
     ]
    },
    {
     "name": "stderr",
     "output_type": "stream",
     "text": [
      "\rMorphologyExtractor transform:   0%|          | 4974/1057452 [00:00<01:05, 15960.56it/s]"
     ]
    },
    {
     "name": "stderr",
     "output_type": "stream",
     "text": [
      "\rMorphologyExtractor transform:   1%|          | 7809/1057452 [00:00<00:55, 18968.52it/s]"
     ]
    },
    {
     "name": "stderr",
     "output_type": "stream",
     "text": [
      "\rMorphologyExtractor transform:   1%|          | 10690/1057452 [00:00<00:50, 20889.63it/s]"
     ]
    },
    {
     "name": "stderr",
     "output_type": "stream",
     "text": [
      "\rMorphologyExtractor transform:   1%|▏         | 13880/1057452 [00:00<00:45, 22687.03it/s]"
     ]
    },
    {
     "name": "stderr",
     "output_type": "stream",
     "text": [
      "\rMorphologyExtractor transform:   2%|▏         | 17377/1057452 [00:00<00:42, 24412.20it/s]"
     ]
    },
    {
     "name": "stderr",
     "output_type": "stream",
     "text": [
      "\rMorphologyExtractor transform:   2%|▏         | 20847/1057452 [00:00<00:40, 25677.15it/s]"
     ]
    },
    {
     "name": "stderr",
     "output_type": "stream",
     "text": [
      "\rMorphologyExtractor transform:   2%|▏         | 24602/1057452 [00:00<00:38, 26979.01it/s]"
     ]
    },
    {
     "name": "stderr",
     "output_type": "stream",
     "text": [
      "\rMorphologyExtractor transform:   3%|▎         | 28735/1057452 [00:01<00:36, 28396.70it/s]"
     ]
    },
    {
     "name": "stderr",
     "output_type": "stream",
     "text": [
      "\rMorphologyExtractor transform:   3%|▎         | 32715/1057452 [00:01<00:34, 29422.18it/s]"
     ]
    },
    {
     "name": "stderr",
     "output_type": "stream",
     "text": [
      "\rMorphologyExtractor transform:   3%|▎         | 36791/1057452 [00:01<00:33, 30357.71it/s]"
     ]
    },
    {
     "name": "stderr",
     "output_type": "stream",
     "text": [
      "\rMorphologyExtractor transform:   4%|▍         | 41197/1057452 [00:01<00:32, 31400.63it/s]"
     ]
    },
    {
     "name": "stderr",
     "output_type": "stream",
     "text": [
      "\rMorphologyExtractor transform:   4%|▍         | 45146/1057452 [00:01<00:31, 31920.21it/s]"
     ]
    },
    {
     "name": "stderr",
     "output_type": "stream",
     "text": [
      "\rMorphologyExtractor transform:   5%|▍         | 49119/1057452 [00:01<00:31, 32435.11it/s]"
     ]
    },
    {
     "name": "stderr",
     "output_type": "stream",
     "text": [
      "\rMorphologyExtractor transform:   5%|▌         | 53056/1057452 [00:01<00:31, 32122.62it/s]"
     ]
    },
    {
     "name": "stderr",
     "output_type": "stream",
     "text": [
      "\rMorphologyExtractor transform:   5%|▌         | 56672/1057452 [00:01<00:31, 32131.01it/s]"
     ]
    },
    {
     "name": "stderr",
     "output_type": "stream",
     "text": [
      "\rMorphologyExtractor transform:   6%|▌         | 60171/1057452 [00:01<00:31, 31525.29it/s]"
     ]
    },
    {
     "name": "stderr",
     "output_type": "stream",
     "text": [
      "\rMorphologyExtractor transform:   6%|▌         | 63345/1057452 [00:02<00:31, 31468.16it/s]"
     ]
    },
    {
     "name": "stderr",
     "output_type": "stream",
     "text": [
      "\rMorphologyExtractor transform:   6%|▋         | 66528/1057452 [00:02<00:31, 31479.69it/s]"
     ]
    },
    {
     "name": "stderr",
     "output_type": "stream",
     "text": [
      "\rMorphologyExtractor transform:   7%|▋         | 69674/1057452 [00:02<00:31, 31460.06it/s]"
     ]
    },
    {
     "name": "stderr",
     "output_type": "stream",
     "text": [
      "\rMorphologyExtractor transform:   7%|▋         | 73455/1057452 [00:02<00:31, 31733.83it/s]"
     ]
    },
    {
     "name": "stderr",
     "output_type": "stream",
     "text": [
      "\rMorphologyExtractor transform:   7%|▋         | 77205/1057452 [00:02<00:30, 31971.05it/s]"
     ]
    },
    {
     "name": "stderr",
     "output_type": "stream",
     "text": [
      "\rMorphologyExtractor transform:   8%|▊         | 82277/1057452 [00:02<00:29, 32716.37it/s]"
     ]
    },
    {
     "name": "stderr",
     "output_type": "stream",
     "text": [
      "\rMorphologyExtractor transform:   8%|▊         | 86742/1057452 [00:02<00:29, 33170.25it/s]"
     ]
    },
    {
     "name": "stderr",
     "output_type": "stream",
     "text": [
      "\rMorphologyExtractor transform:   9%|▊         | 90836/1057452 [00:02<00:28, 33413.50it/s]"
     ]
    },
    {
     "name": "stderr",
     "output_type": "stream",
     "text": [
      "\rMorphologyExtractor transform:   9%|▉         | 95627/1057452 [00:02<00:28, 33926.71it/s]"
     ]
    },
    {
     "name": "stderr",
     "output_type": "stream",
     "text": [
      "\rMorphologyExtractor transform:   9%|▉         | 100372/1057452 [00:02<00:27, 34389.97it/s]"
     ]
    },
    {
     "name": "stderr",
     "output_type": "stream",
     "text": [
      "\rMorphologyExtractor transform:  10%|▉         | 105285/1057452 [00:03<00:27, 34874.90it/s]"
     ]
    },
    {
     "name": "stderr",
     "output_type": "stream",
     "text": [
      "\rMorphologyExtractor transform:  10%|█         | 110271/1057452 [00:03<00:26, 35355.27it/s]"
     ]
    },
    {
     "name": "stderr",
     "output_type": "stream",
     "text": [
      "\rMorphologyExtractor transform:  11%|█         | 115599/1057452 [00:03<00:26, 35912.05it/s]"
     ]
    },
    {
     "name": "stderr",
     "output_type": "stream",
     "text": [
      "\rMorphologyExtractor transform:  11%|█▏        | 120911/1057452 [00:03<00:25, 36429.09it/s]"
     ]
    },
    {
     "name": "stderr",
     "output_type": "stream",
     "text": [
      "\rMorphologyExtractor transform:  12%|█▏        | 125919/1057452 [00:03<00:25, 36731.36it/s]"
     ]
    },
    {
     "name": "stderr",
     "output_type": "stream",
     "text": [
      "\rMorphologyExtractor transform:  12%|█▏        | 130804/1057452 [00:03<00:25, 37011.00it/s]"
     ]
    },
    {
     "name": "stderr",
     "output_type": "stream",
     "text": [
      "\rMorphologyExtractor transform:  13%|█▎        | 135817/1057452 [00:03<00:24, 37371.84it/s]"
     ]
    },
    {
     "name": "stderr",
     "output_type": "stream",
     "text": [
      "\rMorphologyExtractor transform:  13%|█▎        | 140680/1057452 [00:03<00:24, 37621.79it/s]"
     ]
    },
    {
     "name": "stderr",
     "output_type": "stream",
     "text": [
      "\rMorphologyExtractor transform:  14%|█▍        | 145472/1057452 [00:03<00:24, 37870.40it/s]"
     ]
    },
    {
     "name": "stderr",
     "output_type": "stream",
     "text": [
      "\rMorphologyExtractor transform:  14%|█▍        | 150236/1057452 [00:03<00:24, 37568.47it/s]"
     ]
    },
    {
     "name": "stderr",
     "output_type": "stream",
     "text": [
      "\rMorphologyExtractor transform:  15%|█▍        | 155003/1057452 [00:04<00:23, 37814.68it/s]"
     ]
    },
    {
     "name": "stderr",
     "output_type": "stream",
     "text": [
      "\rMorphologyExtractor transform:  15%|█▌        | 160458/1057452 [00:04<00:23, 38213.17it/s]"
     ]
    },
    {
     "name": "stderr",
     "output_type": "stream",
     "text": [
      "\rMorphologyExtractor transform:  16%|█▌        | 165788/1057452 [00:04<00:23, 38564.08it/s]"
     ]
    },
    {
     "name": "stderr",
     "output_type": "stream",
     "text": [
      "\rMorphologyExtractor transform:  16%|█▌        | 171220/1057452 [00:04<00:22, 38921.85it/s]"
     ]
    },
    {
     "name": "stderr",
     "output_type": "stream",
     "text": [
      "\rMorphologyExtractor transform:  17%|█▋        | 176689/1057452 [00:04<00:22, 39272.09it/s]"
     ]
    },
    {
     "name": "stderr",
     "output_type": "stream",
     "text": [
      "\rMorphologyExtractor transform:  17%|█▋        | 181871/1057452 [00:04<00:22, 39441.36it/s]"
     ]
    },
    {
     "name": "stderr",
     "output_type": "stream",
     "text": [
      "\rMorphologyExtractor transform:  18%|█▊        | 186886/1057452 [00:04<00:21, 39667.29it/s]"
     ]
    },
    {
     "name": "stderr",
     "output_type": "stream",
     "text": [
      "\rMorphologyExtractor transform:  18%|█▊        | 192046/1057452 [00:04<00:21, 39915.19it/s]"
     ]
    },
    {
     "name": "stderr",
     "output_type": "stream",
     "text": [
      "\rMorphologyExtractor transform:  19%|█▊        | 197594/1057452 [00:04<00:21, 40231.72it/s]"
     ]
    },
    {
     "name": "stderr",
     "output_type": "stream",
     "text": [
      "\rMorphologyExtractor transform:  19%|█▉        | 202797/1057452 [00:05<00:21, 40444.83it/s]"
     ]
    },
    {
     "name": "stderr",
     "output_type": "stream",
     "text": [
      "\rMorphologyExtractor transform:  20%|█▉        | 207958/1057452 [00:05<00:20, 40660.91it/s]"
     ]
    },
    {
     "name": "stderr",
     "output_type": "stream",
     "text": [
      "\rMorphologyExtractor transform:  20%|██        | 213776/1057452 [00:05<00:20, 40996.85it/s]"
     ]
    },
    {
     "name": "stderr",
     "output_type": "stream",
     "text": [
      "\rMorphologyExtractor transform:  21%|██        | 219398/1057452 [00:05<00:20, 41283.11it/s]"
     ]
    },
    {
     "name": "stderr",
     "output_type": "stream",
     "text": [
      "\rMorphologyExtractor transform:  21%|██▏       | 224986/1057452 [00:05<00:20, 41551.20it/s]"
     ]
    },
    {
     "name": "stderr",
     "output_type": "stream",
     "text": [
      "\rMorphologyExtractor transform:  22%|██▏       | 230795/1057452 [00:05<00:19, 41851.11it/s]"
     ]
    },
    {
     "name": "stderr",
     "output_type": "stream",
     "text": [
      "\rMorphologyExtractor transform:  22%|██▏       | 236675/1057452 [00:05<00:19, 42152.37it/s]"
     ]
    },
    {
     "name": "stderr",
     "output_type": "stream",
     "text": [
      "\rMorphologyExtractor transform:  23%|██▎       | 242588/1057452 [00:05<00:19, 42448.77it/s]"
     ]
    },
    {
     "name": "stderr",
     "output_type": "stream",
     "text": [
      "\rMorphologyExtractor transform:  23%|██▎       | 248457/1057452 [00:05<00:18, 42727.63it/s]"
     ]
    },
    {
     "name": "stderr",
     "output_type": "stream",
     "text": [
      "\rMorphologyExtractor transform:  24%|██▍       | 254452/1057452 [00:05<00:18, 43018.40it/s]"
     ]
    },
    {
     "name": "stderr",
     "output_type": "stream",
     "text": [
      "\rMorphologyExtractor transform:  25%|██▍       | 260615/1057452 [00:06<00:18, 43327.58it/s]"
     ]
    },
    {
     "name": "stderr",
     "output_type": "stream",
     "text": [
      "\rMorphologyExtractor transform:  25%|██▌       | 266553/1057452 [00:06<00:18, 43586.17it/s]"
     ]
    },
    {
     "name": "stderr",
     "output_type": "stream",
     "text": [
      "\rMorphologyExtractor transform:  26%|██▌       | 272493/1057452 [00:06<00:17, 43840.56it/s]"
     ]
    },
    {
     "name": "stderr",
     "output_type": "stream",
     "text": [
      "\rMorphologyExtractor transform:  26%|██▋       | 278714/1057452 [00:06<00:17, 44131.26it/s]"
     ]
    },
    {
     "name": "stderr",
     "output_type": "stream",
     "text": [
      "\rMorphologyExtractor transform:  27%|██▋       | 284732/1057452 [00:06<00:17, 44340.86it/s]"
     ]
    },
    {
     "name": "stderr",
     "output_type": "stream",
     "text": [
      "\rMorphologyExtractor transform:  27%|██▋       | 290651/1057452 [00:06<00:17, 44514.50it/s]"
     ]
    },
    {
     "name": "stderr",
     "output_type": "stream",
     "text": [
      "\rMorphologyExtractor transform:  28%|██▊       | 296915/1057452 [00:06<00:16, 44787.09it/s]"
     ]
    },
    {
     "name": "stderr",
     "output_type": "stream",
     "text": [
      "\rMorphologyExtractor transform:  29%|██▊       | 302844/1057452 [00:06<00:16, 44986.59it/s]"
     ]
    },
    {
     "name": "stderr",
     "output_type": "stream",
     "text": [
      "\rMorphologyExtractor transform:  29%|██▉       | 308836/1057452 [00:06<00:16, 45205.10it/s]"
     ]
    },
    {
     "name": "stderr",
     "output_type": "stream",
     "text": [
      "\rMorphologyExtractor transform:  30%|██▉       | 314891/1057452 [00:06<00:16, 45426.46it/s]"
     ]
    },
    {
     "name": "stderr",
     "output_type": "stream",
     "text": [
      "\rMorphologyExtractor transform:  30%|███       | 320851/1057452 [00:07<00:16, 45516.54it/s]"
     ]
    },
    {
     "name": "stderr",
     "output_type": "stream",
     "text": [
      "\rMorphologyExtractor transform:  31%|███       | 326896/1057452 [00:07<00:15, 45724.54it/s]"
     ]
    },
    {
     "name": "stderr",
     "output_type": "stream",
     "text": [
      "\rMorphologyExtractor transform:  32%|███▏      | 333481/1057452 [00:07<00:15, 46000.98it/s]"
     ]
    },
    {
     "name": "stderr",
     "output_type": "stream",
     "text": [
      "\rMorphologyExtractor transform:  32%|███▏      | 339756/1057452 [00:07<00:15, 46228.37it/s]"
     ]
    },
    {
     "name": "stderr",
     "output_type": "stream",
     "text": [
      "\rMorphologyExtractor transform:  33%|███▎      | 345859/1057452 [00:07<00:15, 46375.33it/s]"
     ]
    },
    {
     "name": "stderr",
     "output_type": "stream",
     "text": [
      "\rMorphologyExtractor transform:  33%|███▎      | 351822/1057452 [00:07<00:15, 46534.78it/s]"
     ]
    },
    {
     "name": "stderr",
     "output_type": "stream",
     "text": [
      "\rMorphologyExtractor transform:  34%|███▍      | 357792/1057452 [00:07<00:14, 46706.52it/s]"
     ]
    },
    {
     "name": "stderr",
     "output_type": "stream",
     "text": [
      "\rMorphologyExtractor transform:  34%|███▍      | 363725/1057452 [00:07<00:14, 46807.96it/s]"
     ]
    },
    {
     "name": "stderr",
     "output_type": "stream",
     "text": [
      "\rMorphologyExtractor transform:  35%|███▍      | 369618/1057452 [00:07<00:14, 46961.42it/s]"
     ]
    },
    {
     "name": "stderr",
     "output_type": "stream",
     "text": [
      "\rMorphologyExtractor transform:  36%|███▌      | 376098/1057452 [00:07<00:14, 47185.09it/s]"
     ]
    },
    {
     "name": "stderr",
     "output_type": "stream",
     "text": [
      "\rMorphologyExtractor transform:  36%|███▌      | 382690/1057452 [00:08<00:14, 47417.07it/s]"
     ]
    },
    {
     "name": "stderr",
     "output_type": "stream",
     "text": [
      "\rMorphologyExtractor transform:  37%|███▋      | 388872/1057452 [00:08<00:14, 47588.80it/s]"
     ]
    },
    {
     "name": "stderr",
     "output_type": "stream",
     "text": [
      "\rMorphologyExtractor transform:  37%|███▋      | 395040/1057452 [00:08<00:13, 47698.52it/s]"
     ]
    },
    {
     "name": "stderr",
     "output_type": "stream",
     "text": [
      "\rMorphologyExtractor transform:  38%|███▊      | 401032/1057452 [00:08<00:13, 47783.82it/s]"
     ]
    },
    {
     "name": "stderr",
     "output_type": "stream",
     "text": [
      "\rMorphologyExtractor transform:  38%|███▊      | 406852/1057452 [00:08<00:13, 47864.04it/s]"
     ]
    },
    {
     "name": "stderr",
     "output_type": "stream",
     "text": [
      "\rMorphologyExtractor transform:  39%|███▉      | 412550/1057452 [00:08<00:13, 47927.62it/s]"
     ]
    },
    {
     "name": "stderr",
     "output_type": "stream",
     "text": [
      "\rMorphologyExtractor transform:  40%|███▉      | 418397/1057452 [00:08<00:13, 48048.26it/s]"
     ]
    },
    {
     "name": "stderr",
     "output_type": "stream",
     "text": [
      "\rMorphologyExtractor transform:  40%|████      | 424054/1057452 [00:08<00:13, 48129.33it/s]"
     ]
    },
    {
     "name": "stderr",
     "output_type": "stream",
     "text": [
      "\rMorphologyExtractor transform:  41%|████      | 430125/1057452 [00:08<00:12, 48270.26it/s]"
     ]
    },
    {
     "name": "stderr",
     "output_type": "stream",
     "text": [
      "\rMorphologyExtractor transform:  41%|████      | 435872/1057452 [00:09<00:12, 48328.06it/s]"
     ]
    },
    {
     "name": "stderr",
     "output_type": "stream",
     "text": [
      "\rMorphologyExtractor transform:  42%|████▏     | 442775/1057452 [00:09<00:12, 48555.15it/s]"
     ]
    },
    {
     "name": "stderr",
     "output_type": "stream",
     "text": [
      "\rMorphologyExtractor transform:  43%|████▎     | 449555/1057452 [00:09<00:12, 48763.90it/s]"
     ]
    },
    {
     "name": "stderr",
     "output_type": "stream",
     "text": [
      "\rMorphologyExtractor transform:  43%|████▎     | 456134/1057452 [00:09<00:12, 48946.40it/s]"
     ]
    },
    {
     "name": "stderr",
     "output_type": "stream",
     "text": [
      "\rMorphologyExtractor transform:  44%|████▍     | 462886/1057452 [00:09<00:12, 49143.18it/s]"
     ]
    },
    {
     "name": "stderr",
     "output_type": "stream",
     "text": [
      "\rMorphologyExtractor transform:  44%|████▍     | 469347/1057452 [00:09<00:11, 49274.41it/s]"
     ]
    },
    {
     "name": "stderr",
     "output_type": "stream",
     "text": [
      "\rMorphologyExtractor transform:  45%|████▍     | 475698/1057452 [00:09<00:11, 49385.27it/s]"
     ]
    },
    {
     "name": "stderr",
     "output_type": "stream",
     "text": [
      "\rMorphologyExtractor transform:  46%|████▌     | 481921/1057452 [00:09<00:11, 49468.91it/s]"
     ]
    },
    {
     "name": "stderr",
     "output_type": "stream",
     "text": [
      "\rMorphologyExtractor transform:  46%|████▌     | 487982/1057452 [00:09<00:11, 49424.98it/s]"
     ]
    },
    {
     "name": "stderr",
     "output_type": "stream",
     "text": [
      "\rMorphologyExtractor transform:  47%|████▋     | 495063/1057452 [00:09<00:11, 49639.39it/s]"
     ]
    },
    {
     "name": "stderr",
     "output_type": "stream",
     "text": [
      "\rMorphologyExtractor transform:  47%|████▋     | 501592/1057452 [00:10<00:11, 49794.74it/s]"
     ]
    },
    {
     "name": "stderr",
     "output_type": "stream",
     "text": [
      "\rMorphologyExtractor transform:  48%|████▊     | 508363/1057452 [00:10<00:10, 49970.03it/s]"
     ]
    },
    {
     "name": "stderr",
     "output_type": "stream",
     "text": [
      "\rMorphologyExtractor transform:  49%|████▉     | 515866/1057452 [00:10<00:10, 50213.45it/s]"
     ]
    },
    {
     "name": "stderr",
     "output_type": "stream",
     "text": [
      "\rMorphologyExtractor transform:  49%|████▉     | 522574/1057452 [00:10<00:10, 50330.74it/s]"
     ]
    },
    {
     "name": "stderr",
     "output_type": "stream",
     "text": [
      "\rMorphologyExtractor transform:  50%|█████     | 529111/1057452 [00:10<00:10, 50319.76it/s]"
     ]
    },
    {
     "name": "stderr",
     "output_type": "stream",
     "text": [
      "\rMorphologyExtractor transform:  51%|█████     | 535170/1057452 [00:10<00:10, 50402.44it/s]"
     ]
    },
    {
     "name": "stderr",
     "output_type": "stream",
     "text": [
      "\rMorphologyExtractor transform:  51%|█████     | 541177/1057452 [00:10<00:10, 50475.31it/s]"
     ]
    },
    {
     "name": "stderr",
     "output_type": "stream",
     "text": [
      "\rMorphologyExtractor transform:  52%|█████▏    | 547121/1057452 [00:10<00:10, 50505.52it/s]"
     ]
    },
    {
     "name": "stderr",
     "output_type": "stream",
     "text": [
      "\rMorphologyExtractor transform:  52%|█████▏    | 552884/1057452 [00:10<00:10, 50344.33it/s]"
     ]
    },
    {
     "name": "stderr",
     "output_type": "stream",
     "text": [
      "\rMorphologyExtractor transform:  53%|█████▎    | 558077/1057452 [00:11<00:09, 50322.59it/s]"
     ]
    },
    {
     "name": "stderr",
     "output_type": "stream",
     "text": [
      "\rMorphologyExtractor transform:  53%|█████▎    | 564124/1057452 [00:11<00:09, 50412.66it/s]"
     ]
    },
    {
     "name": "stderr",
     "output_type": "stream",
     "text": [
      "\rMorphologyExtractor transform:  54%|█████▍    | 569879/1057452 [00:11<00:09, 50475.63it/s]"
     ]
    },
    {
     "name": "stderr",
     "output_type": "stream",
     "text": [
      "\rMorphologyExtractor transform:  54%|█████▍    | 575433/1057452 [00:11<00:09, 50520.11it/s]"
     ]
    },
    {
     "name": "stderr",
     "output_type": "stream",
     "text": [
      "\rMorphologyExtractor transform:  55%|█████▍    | 580937/1057452 [00:11<00:09, 50100.66it/s]"
     ]
    },
    {
     "name": "stderr",
     "output_type": "stream",
     "text": [
      "\rMorphologyExtractor transform:  55%|█████▌    | 585883/1057452 [00:11<00:09, 50095.19it/s]"
     ]
    },
    {
     "name": "stderr",
     "output_type": "stream",
     "text": [
      "\rMorphologyExtractor transform:  56%|█████▌    | 592044/1057452 [00:11<00:09, 50192.76it/s]"
     ]
    },
    {
     "name": "stderr",
     "output_type": "stream",
     "text": [
      "\rMorphologyExtractor transform:  56%|█████▋    | 597361/1057452 [00:11<00:09, 50217.58it/s]"
     ]
    },
    {
     "name": "stderr",
     "output_type": "stream",
     "text": [
      "\rMorphologyExtractor transform:  57%|█████▋    | 603358/1057452 [00:11<00:09, 50298.87it/s]"
     ]
    },
    {
     "name": "stderr",
     "output_type": "stream",
     "text": [
      "\rMorphologyExtractor transform:  58%|█████▊    | 609818/1057452 [00:12<00:08, 50417.08it/s]"
     ]
    },
    {
     "name": "stderr",
     "output_type": "stream",
     "text": [
      "\rMorphologyExtractor transform:  58%|█████▊    | 616944/1057452 [00:12<00:08, 50587.34it/s]"
     ]
    },
    {
     "name": "stderr",
     "output_type": "stream",
     "text": [
      "\rMorphologyExtractor transform:  59%|█████▉    | 623925/1057452 [00:12<00:08, 50743.79it/s]"
     ]
    },
    {
     "name": "stderr",
     "output_type": "stream",
     "text": [
      "\rMorphologyExtractor transform:  60%|█████▉    | 630851/1057452 [00:12<00:08, 50892.62it/s]"
     ]
    },
    {
     "name": "stderr",
     "output_type": "stream",
     "text": [
      "\rMorphologyExtractor transform:  60%|██████    | 638360/1057452 [00:12<00:08, 51085.87it/s]"
     ]
    },
    {
     "name": "stderr",
     "output_type": "stream",
     "text": [
      "\rMorphologyExtractor transform:  61%|██████    | 645590/1057452 [00:12<00:08, 51253.63it/s]"
     ]
    },
    {
     "name": "stderr",
     "output_type": "stream",
     "text": [
      "\rMorphologyExtractor transform:  62%|██████▏   | 652852/1057452 [00:12<00:07, 51421.83it/s]"
     ]
    },
    {
     "name": "stderr",
     "output_type": "stream",
     "text": [
      "\rMorphologyExtractor transform:  62%|██████▏   | 659899/1057452 [00:12<00:07, 51544.15it/s]"
     ]
    },
    {
     "name": "stderr",
     "output_type": "stream",
     "text": [
      "\rMorphologyExtractor transform:  63%|██████▎   | 666967/1057452 [00:12<00:07, 51692.28it/s]"
     ]
    },
    {
     "name": "stderr",
     "output_type": "stream",
     "text": [
      "\rMorphologyExtractor transform:  64%|██████▎   | 673928/1057452 [00:13<00:07, 51825.78it/s]"
     ]
    },
    {
     "name": "stderr",
     "output_type": "stream",
     "text": [
      "\rMorphologyExtractor transform:  64%|██████▍   | 680867/1057452 [00:13<00:07, 51940.16it/s]"
     ]
    },
    {
     "name": "stderr",
     "output_type": "stream",
     "text": [
      "\rMorphologyExtractor transform:  65%|██████▌   | 687708/1057452 [00:13<00:07, 52038.86it/s]"
     ]
    },
    {
     "name": "stderr",
     "output_type": "stream",
     "text": [
      "\rMorphologyExtractor transform:  66%|██████▌   | 694691/1057452 [00:13<00:06, 52172.14it/s]"
     ]
    },
    {
     "name": "stderr",
     "output_type": "stream",
     "text": [
      "\rMorphologyExtractor transform:  66%|██████▋   | 701736/1057452 [00:13<00:06, 52308.05it/s]"
     ]
    },
    {
     "name": "stderr",
     "output_type": "stream",
     "text": [
      "\rMorphologyExtractor transform:  67%|██████▋   | 708603/1057452 [00:13<00:06, 52425.79it/s]"
     ]
    },
    {
     "name": "stderr",
     "output_type": "stream",
     "text": [
      "\rMorphologyExtractor transform:  68%|██████▊   | 715730/1057452 [00:13<00:06, 52563.95it/s]"
     ]
    },
    {
     "name": "stderr",
     "output_type": "stream",
     "text": [
      "\rMorphologyExtractor transform:  68%|██████▊   | 723231/1057452 [00:13<00:06, 52727.45it/s]"
     ]
    },
    {
     "name": "stderr",
     "output_type": "stream",
     "text": [
      "\rMorphologyExtractor transform:  69%|██████▉   | 730903/1057452 [00:13<00:06, 52900.87it/s]"
     ]
    },
    {
     "name": "stderr",
     "output_type": "stream",
     "text": [
      "\rMorphologyExtractor transform:  70%|██████▉   | 738175/1057452 [00:13<00:06, 53002.10it/s]"
     ]
    },
    {
     "name": "stderr",
     "output_type": "stream",
     "text": [
      "\rMorphologyExtractor transform:  70%|███████   | 745234/1057452 [00:14<00:05, 53088.32it/s]"
     ]
    },
    {
     "name": "stderr",
     "output_type": "stream",
     "text": [
      "\rMorphologyExtractor transform:  71%|███████   | 752095/1057452 [00:14<00:05, 53146.22it/s]"
     ]
    },
    {
     "name": "stderr",
     "output_type": "stream",
     "text": [
      "\rMorphologyExtractor transform:  72%|███████▏  | 759206/1057452 [00:14<00:05, 53272.30it/s]"
     ]
    },
    {
     "name": "stderr",
     "output_type": "stream",
     "text": [
      "\rMorphologyExtractor transform:  72%|███████▏  | 765967/1057452 [00:14<00:05, 53351.15it/s]"
     ]
    },
    {
     "name": "stderr",
     "output_type": "stream",
     "text": [
      "\rMorphologyExtractor transform:  73%|███████▎  | 772622/1057452 [00:14<00:05, 53375.93it/s]"
     ]
    },
    {
     "name": "stderr",
     "output_type": "stream",
     "text": [
      "\rMorphologyExtractor transform:  74%|███████▎  | 778971/1057452 [00:14<00:05, 53363.74it/s]"
     ]
    },
    {
     "name": "stderr",
     "output_type": "stream",
     "text": [
      "\rMorphologyExtractor transform:  74%|███████▍  | 784974/1057452 [00:14<00:05, 53390.90it/s]"
     ]
    },
    {
     "name": "stderr",
     "output_type": "stream",
     "text": [
      "\rMorphologyExtractor transform:  75%|███████▍  | 793083/1057452 [00:14<00:04, 53578.00it/s]"
     ]
    },
    {
     "name": "stderr",
     "output_type": "stream",
     "text": [
      "\rMorphologyExtractor transform:  76%|███████▌  | 799779/1057452 [00:14<00:04, 53667.76it/s]"
     ]
    },
    {
     "name": "stderr",
     "output_type": "stream",
     "text": [
      "\rMorphologyExtractor transform:  76%|███████▋  | 807275/1057452 [00:15<00:04, 53809.48it/s]"
     ]
    },
    {
     "name": "stderr",
     "output_type": "stream",
     "text": [
      "\rMorphologyExtractor transform:  77%|███████▋  | 815402/1057452 [00:15<00:04, 53991.04it/s]"
     ]
    },
    {
     "name": "stderr",
     "output_type": "stream",
     "text": [
      "\rMorphologyExtractor transform:  78%|███████▊  | 823109/1057452 [00:15<00:04, 54142.78it/s]"
     ]
    },
    {
     "name": "stderr",
     "output_type": "stream",
     "text": [
      "\rMorphologyExtractor transform:  79%|███████▊  | 831427/1057452 [00:15<00:04, 54332.17it/s]"
     ]
    },
    {
     "name": "stderr",
     "output_type": "stream",
     "text": [
      "\rMorphologyExtractor transform:  79%|███████▉  | 839195/1057452 [00:15<00:04, 54483.74it/s]"
     ]
    },
    {
     "name": "stderr",
     "output_type": "stream",
     "text": [
      "\rMorphologyExtractor transform:  80%|████████  | 846890/1057452 [00:15<00:03, 54625.49it/s]"
     ]
    },
    {
     "name": "stderr",
     "output_type": "stream",
     "text": [
      "\rMorphologyExtractor transform:  81%|████████  | 855063/1057452 [00:15<00:03, 54798.89it/s]"
     ]
    },
    {
     "name": "stderr",
     "output_type": "stream",
     "text": [
      "\rMorphologyExtractor transform:  82%|████████▏ | 862933/1057452 [00:15<00:03, 54951.10it/s]"
     ]
    },
    {
     "name": "stderr",
     "output_type": "stream",
     "text": [
      "\rMorphologyExtractor transform:  82%|████████▏ | 870770/1057452 [00:15<00:03, 55022.51it/s]"
     ]
    },
    {
     "name": "stderr",
     "output_type": "stream",
     "text": [
      "\rMorphologyExtractor transform:  83%|████████▎ | 878182/1057452 [00:15<00:03, 55040.47it/s]"
     ]
    },
    {
     "name": "stderr",
     "output_type": "stream",
     "text": [
      "\rMorphologyExtractor transform:  84%|████████▎ | 885576/1057452 [00:16<00:03, 55157.83it/s]"
     ]
    },
    {
     "name": "stderr",
     "output_type": "stream",
     "text": [
      "\rMorphologyExtractor transform:  84%|████████▍ | 893293/1057452 [00:16<00:02, 55293.95it/s]"
     ]
    },
    {
     "name": "stderr",
     "output_type": "stream",
     "text": [
      "\rMorphologyExtractor transform:  85%|████████▌ | 901886/1057452 [00:16<00:02, 55482.26it/s]"
     ]
    },
    {
     "name": "stderr",
     "output_type": "stream",
     "text": [
      "\rMorphologyExtractor transform:  86%|████████▌ | 909604/1057452 [00:16<00:02, 55614.02it/s]"
     ]
    },
    {
     "name": "stderr",
     "output_type": "stream",
     "text": [
      "\rMorphologyExtractor transform:  87%|████████▋ | 917371/1057452 [00:16<00:02, 55747.40it/s]"
     ]
    },
    {
     "name": "stderr",
     "output_type": "stream",
     "text": [
      "\rMorphologyExtractor transform:  87%|████████▋ | 925063/1057452 [00:16<00:02, 55869.10it/s]"
     ]
    },
    {
     "name": "stderr",
     "output_type": "stream",
     "text": [
      "\rMorphologyExtractor transform:  88%|████████▊ | 933002/1057452 [00:16<00:02, 56010.11it/s]"
     ]
    },
    {
     "name": "stderr",
     "output_type": "stream",
     "text": [
      "\rMorphologyExtractor transform:  89%|████████▉ | 940738/1057452 [00:16<00:02, 56124.48it/s]"
     ]
    },
    {
     "name": "stderr",
     "output_type": "stream",
     "text": [
      "\rMorphologyExtractor transform:  90%|████████▉ | 948387/1057452 [00:16<00:01, 56129.84it/s]"
     ]
    },
    {
     "name": "stderr",
     "output_type": "stream",
     "text": [
      "\rMorphologyExtractor transform:  90%|█████████ | 956867/1057452 [00:16<00:01, 56298.37it/s]"
     ]
    },
    {
     "name": "stderr",
     "output_type": "stream",
     "text": [
      "\rMorphologyExtractor transform:  91%|█████████ | 964786/1057452 [00:17<00:01, 56432.24it/s]"
     ]
    },
    {
     "name": "stderr",
     "output_type": "stream",
     "text": [
      "\rMorphologyExtractor transform:  92%|█████████▏| 972400/1057452 [00:17<00:01, 56545.59it/s]"
     ]
    },
    {
     "name": "stderr",
     "output_type": "stream",
     "text": [
      "\rMorphologyExtractor transform:  93%|█████████▎| 980113/1057452 [00:17<00:01, 56664.48it/s]"
     ]
    },
    {
     "name": "stderr",
     "output_type": "stream",
     "text": [
      "\rMorphologyExtractor transform:  93%|█████████▎| 987750/1057452 [00:17<00:01, 56773.52it/s]"
     ]
    },
    {
     "name": "stderr",
     "output_type": "stream",
     "text": [
      "\rMorphologyExtractor transform:  94%|█████████▍| 995358/1057452 [00:17<00:01, 56807.24it/s]"
     ]
    },
    {
     "name": "stderr",
     "output_type": "stream",
     "text": [
      "\rMorphologyExtractor transform:  95%|█████████▍| 1002530/1057452 [00:17<00:00, 56886.45it/s]"
     ]
    },
    {
     "name": "stderr",
     "output_type": "stream",
     "text": [
      "\rMorphologyExtractor transform:  95%|█████████▌| 1009667/1057452 [00:17<00:00, 56965.58it/s]"
     ]
    },
    {
     "name": "stderr",
     "output_type": "stream",
     "text": [
      "\rMorphologyExtractor transform:  96%|█████████▌| 1017168/1057452 [00:17<00:00, 57066.77it/s]"
     ]
    },
    {
     "name": "stderr",
     "output_type": "stream",
     "text": [
      "\rMorphologyExtractor transform:  97%|█████████▋| 1024402/1057452 [00:17<00:00, 57116.35it/s]"
     ]
    },
    {
     "name": "stderr",
     "output_type": "stream",
     "text": [
      "\rMorphologyExtractor transform:  98%|█████████▊| 1031418/1057452 [00:18<00:00, 57131.93it/s]"
     ]
    },
    {
     "name": "stderr",
     "output_type": "stream",
     "text": [
      "\rMorphologyExtractor transform:  98%|█████████▊| 1038114/1057452 [00:18<00:00, 57154.03it/s]"
     ]
    },
    {
     "name": "stderr",
     "output_type": "stream",
     "text": [
      "\rMorphologyExtractor transform:  99%|█████████▉| 1044625/1057452 [00:18<00:00, 57191.82it/s]"
     ]
    },
    {
     "name": "stderr",
     "output_type": "stream",
     "text": [
      "\rMorphologyExtractor transform:  99%|█████████▉| 1051855/1057452 [00:18<00:00, 57274.06it/s]"
     ]
    },
    {
     "name": "stderr",
     "output_type": "stream",
     "text": [
      "\rMorphologyExtractor transform: 100%|██████████| 1057452/1057452 [00:18<00:00, 57271.67it/s]"
     ]
    },
    {
     "name": "stderr",
     "output_type": "stream",
     "text": [
      "\n"
     ]
    },
    {
     "name": "stderr",
     "output_type": "stream",
     "text": [
      "\rMorphologyExtractor transform:   0%|          | 0/1057452 [00:00<?, ?it/s]"
     ]
    },
    {
     "name": "stderr",
     "output_type": "stream",
     "text": [
      "\rMorphologyExtractor transform:   0%|          | 3626/1057452 [00:00<00:42, 24640.96it/s]"
     ]
    },
    {
     "name": "stderr",
     "output_type": "stream",
     "text": [
      "\rMorphologyExtractor transform:   1%|          | 11790/1057452 [00:00<00:21, 47692.56it/s]"
     ]
    },
    {
     "name": "stderr",
     "output_type": "stream",
     "text": [
      "\rMorphologyExtractor transform:   2%|▏         | 19484/1057452 [00:00<00:18, 56038.52it/s]"
     ]
    },
    {
     "name": "stderr",
     "output_type": "stream",
     "text": [
      "\rMorphologyExtractor transform:   2%|▏         | 25743/1057452 [00:00<00:17, 57502.97it/s]"
     ]
    },
    {
     "name": "stderr",
     "output_type": "stream",
     "text": [
      "\rMorphologyExtractor transform:   3%|▎         | 31737/1057452 [00:00<00:17, 57946.34it/s]"
     ]
    },
    {
     "name": "stderr",
     "output_type": "stream",
     "text": [
      "\rMorphologyExtractor transform:   4%|▍         | 39837/1057452 [00:00<00:16, 61501.49it/s]"
     ]
    },
    {
     "name": "stderr",
     "output_type": "stream",
     "text": [
      "\rMorphologyExtractor transform:   5%|▍         | 47836/1057452 [00:00<00:15, 63972.82it/s]"
     ]
    },
    {
     "name": "stderr",
     "output_type": "stream",
     "text": [
      "\rMorphologyExtractor transform:   5%|▌         | 55755/1057452 [00:00<00:15, 65768.51it/s]"
     ]
    },
    {
     "name": "stderr",
     "output_type": "stream",
     "text": [
      "\rMorphologyExtractor transform:   6%|▌         | 63725/1057452 [00:00<00:14, 67234.49it/s]"
     ]
    },
    {
     "name": "stderr",
     "output_type": "stream",
     "text": [
      "\rMorphologyExtractor transform:   7%|▋         | 72036/1057452 [00:01<00:14, 68748.57it/s]"
     ]
    },
    {
     "name": "stderr",
     "output_type": "stream",
     "text": [
      "\rMorphologyExtractor transform:   8%|▊         | 81005/1057452 [00:01<00:13, 70562.27it/s]"
     ]
    },
    {
     "name": "stderr",
     "output_type": "stream",
     "text": [
      "\rMorphologyExtractor transform:   8%|▊         | 89255/1057452 [00:01<00:13, 71504.67it/s]"
     ]
    },
    {
     "name": "stderr",
     "output_type": "stream",
     "text": [
      "\rMorphologyExtractor transform:   9%|▉         | 97338/1057452 [00:01<00:13, 71347.46it/s]"
     ]
    },
    {
     "name": "stderr",
     "output_type": "stream",
     "text": [
      "\rMorphologyExtractor transform:  10%|▉         | 105086/1057452 [00:01<00:13, 70128.11it/s]"
     ]
    },
    {
     "name": "stderr",
     "output_type": "stream",
     "text": [
      "\rMorphologyExtractor transform:  11%|█         | 112242/1057452 [00:01<00:13, 69906.91it/s]"
     ]
    },
    {
     "name": "stderr",
     "output_type": "stream",
     "text": [
      "\rMorphologyExtractor transform:  11%|█▏        | 119492/1057452 [00:01<00:13, 70057.10it/s]"
     ]
    },
    {
     "name": "stderr",
     "output_type": "stream",
     "text": [
      "\rMorphologyExtractor transform:  12%|█▏        | 126955/1057452 [00:01<00:13, 70306.11it/s]"
     ]
    },
    {
     "name": "stderr",
     "output_type": "stream",
     "text": [
      "\rMorphologyExtractor transform:  13%|█▎        | 134150/1057452 [00:01<00:13, 70020.92it/s]"
     ]
    },
    {
     "name": "stderr",
     "output_type": "stream",
     "text": [
      "\rMorphologyExtractor transform:  13%|█▎        | 142342/1057452 [00:02<00:12, 70610.34it/s]"
     ]
    },
    {
     "name": "stderr",
     "output_type": "stream",
     "text": [
      "\rMorphologyExtractor transform:  14%|█▍        | 149697/1057452 [00:02<00:12, 70570.77it/s]"
     ]
    },
    {
     "name": "stderr",
     "output_type": "stream",
     "text": [
      "\rMorphologyExtractor transform:  15%|█▍        | 156940/1057452 [00:02<00:12, 69410.59it/s]"
     ]
    },
    {
     "name": "stderr",
     "output_type": "stream",
     "text": [
      "\rMorphologyExtractor transform:  15%|█▌        | 163565/1057452 [00:02<00:13, 68545.75it/s]"
     ]
    },
    {
     "name": "stderr",
     "output_type": "stream",
     "text": [
      "\rMorphologyExtractor transform:  16%|█▌        | 169790/1057452 [00:02<00:13, 67969.20it/s]"
     ]
    },
    {
     "name": "stderr",
     "output_type": "stream",
     "text": [
      "\rMorphologyExtractor transform:  17%|█▋        | 175818/1057452 [00:02<00:13, 67593.34it/s]"
     ]
    },
    {
     "name": "stderr",
     "output_type": "stream",
     "text": [
      "\rMorphologyExtractor transform:  17%|█▋        | 183049/1057452 [00:02<00:12, 67767.88it/s]"
     ]
    },
    {
     "name": "stderr",
     "output_type": "stream",
     "text": [
      "\rMorphologyExtractor transform:  18%|█▊        | 190651/1057452 [00:02<00:12, 68062.49it/s]"
     ]
    },
    {
     "name": "stderr",
     "output_type": "stream",
     "text": [
      "\rMorphologyExtractor transform:  19%|█▊        | 197378/1057452 [00:02<00:12, 68030.11it/s]"
     ]
    },
    {
     "name": "stderr",
     "output_type": "stream",
     "text": [
      "\rMorphologyExtractor transform:  19%|█▉        | 204101/1057452 [00:03<00:12, 67489.43it/s]"
     ]
    },
    {
     "name": "stderr",
     "output_type": "stream",
     "text": [
      "\rMorphologyExtractor transform:  20%|█▉        | 210449/1057452 [00:03<00:12, 67145.85it/s]"
     ]
    },
    {
     "name": "stderr",
     "output_type": "stream",
     "text": [
      "\rMorphologyExtractor transform:  21%|██        | 217230/1057452 [00:03<00:12, 67166.59it/s]"
     ]
    },
    {
     "name": "stderr",
     "output_type": "stream",
     "text": [
      "\rMorphologyExtractor transform:  21%|██▏       | 226226/1057452 [00:03<00:12, 67850.16it/s]"
     ]
    },
    {
     "name": "stderr",
     "output_type": "stream",
     "text": [
      "\rMorphologyExtractor transform:  22%|██▏       | 233375/1057452 [00:03<00:12, 67296.15it/s]"
     ]
    },
    {
     "name": "stderr",
     "output_type": "stream",
     "text": [
      "\rMorphologyExtractor transform:  23%|██▎       | 241297/1057452 [00:03<00:12, 67630.18it/s]"
     ]
    },
    {
     "name": "stderr",
     "output_type": "stream",
     "text": [
      "\rMorphologyExtractor transform:  24%|██▎       | 248893/1057452 [00:03<00:11, 67851.88it/s]"
     ]
    },
    {
     "name": "stderr",
     "output_type": "stream",
     "text": [
      "\rMorphologyExtractor transform:  24%|██▍       | 256068/1057452 [00:03<00:11, 67415.32it/s]"
     ]
    },
    {
     "name": "stderr",
     "output_type": "stream",
     "text": [
      "\rMorphologyExtractor transform:  25%|██▍       | 262744/1057452 [00:03<00:11, 66991.24it/s]"
     ]
    },
    {
     "name": "stderr",
     "output_type": "stream",
     "text": [
      "\rMorphologyExtractor transform:  26%|██▌       | 270585/1057452 [00:04<00:11, 67274.64it/s]"
     ]
    },
    {
     "name": "stderr",
     "output_type": "stream",
     "text": [
      "\rMorphologyExtractor transform:  26%|██▋       | 278730/1057452 [00:04<00:11, 67617.48it/s]"
     ]
    },
    {
     "name": "stderr",
     "output_type": "stream",
     "text": [
      "\rMorphologyExtractor transform:  27%|██▋       | 287529/1057452 [00:04<00:11, 68099.70it/s]"
     ]
    },
    {
     "name": "stderr",
     "output_type": "stream",
     "text": [
      "\rMorphologyExtractor transform:  28%|██▊       | 295188/1057452 [00:04<00:11, 68284.27it/s]"
     ]
    },
    {
     "name": "stderr",
     "output_type": "stream",
     "text": [
      "\rMorphologyExtractor transform:  29%|██▊       | 302830/1057452 [00:04<00:11, 68019.14it/s]"
     ]
    },
    {
     "name": "stderr",
     "output_type": "stream",
     "text": [
      "\rMorphologyExtractor transform:  29%|██▉       | 309954/1057452 [00:04<00:11, 67896.77it/s]"
     ]
    },
    {
     "name": "stderr",
     "output_type": "stream",
     "text": [
      "\rMorphologyExtractor transform:  30%|███       | 317339/1057452 [00:04<00:10, 68023.10it/s]"
     ]
    },
    {
     "name": "stderr",
     "output_type": "stream",
     "text": [
      "\rMorphologyExtractor transform:  31%|███       | 324910/1057452 [00:04<00:10, 68182.95it/s]"
     ]
    },
    {
     "name": "stderr",
     "output_type": "stream",
     "text": [
      "\rMorphologyExtractor transform:  31%|███▏      | 332177/1057452 [00:04<00:10, 68275.18it/s]"
     ]
    },
    {
     "name": "stderr",
     "output_type": "stream",
     "text": [
      "\rMorphologyExtractor transform:  32%|███▏      | 339390/1057452 [00:04<00:10, 68281.34it/s]"
     ]
    },
    {
     "name": "stderr",
     "output_type": "stream",
     "text": [
      "\rMorphologyExtractor transform:  33%|███▎      | 346710/1057452 [00:05<00:10, 68378.11it/s]"
     ]
    },
    {
     "name": "stderr",
     "output_type": "stream",
     "text": [
      "\rMorphologyExtractor transform:  33%|███▎      | 353880/1057452 [00:05<00:10, 68348.95it/s]"
     ]
    },
    {
     "name": "stderr",
     "output_type": "stream",
     "text": [
      "\rMorphologyExtractor transform:  34%|███▍      | 361140/1057452 [00:05<00:10, 68429.05it/s]"
     ]
    },
    {
     "name": "stderr",
     "output_type": "stream",
     "text": [
      "\rMorphologyExtractor transform:  35%|███▍      | 368510/1057452 [00:05<00:10, 68527.10it/s]"
     ]
    },
    {
     "name": "stderr",
     "output_type": "stream",
     "text": [
      "\rMorphologyExtractor transform:  36%|███▌      | 376891/1057452 [00:05<00:09, 68805.76it/s]"
     ]
    },
    {
     "name": "stderr",
     "output_type": "stream",
     "text": [
      "\rMorphologyExtractor transform:  36%|███▋      | 385717/1057452 [00:05<00:09, 69154.38it/s]"
     ]
    },
    {
     "name": "stderr",
     "output_type": "stream",
     "text": [
      "\rMorphologyExtractor transform:  37%|███▋      | 395038/1057452 [00:05<00:09, 69578.05it/s]"
     ]
    },
    {
     "name": "stderr",
     "output_type": "stream",
     "text": [
      "\rMorphologyExtractor transform:  38%|███▊      | 403959/1057452 [00:05<00:09, 69916.51it/s]"
     ]
    },
    {
     "name": "stderr",
     "output_type": "stream",
     "text": [
      "\rMorphologyExtractor transform:  39%|███▉      | 413192/1057452 [00:05<00:09, 70297.81it/s]"
     ]
    },
    {
     "name": "stderr",
     "output_type": "stream",
     "text": [
      "\rMorphologyExtractor transform:  40%|███▉      | 422484/1057452 [00:05<00:08, 70675.99it/s]"
     ]
    },
    {
     "name": "stderr",
     "output_type": "stream",
     "text": [
      "\rMorphologyExtractor transform:  41%|████      | 432226/1057452 [00:06<00:08, 71115.52it/s]"
     ]
    },
    {
     "name": "stderr",
     "output_type": "stream",
     "text": [
      "\rMorphologyExtractor transform:  42%|████▏     | 441376/1057452 [00:06<00:08, 71438.41it/s]"
     ]
    },
    {
     "name": "stderr",
     "output_type": "stream",
     "text": [
      "\rMorphologyExtractor transform:  43%|████▎     | 451474/1057452 [00:06<00:08, 71907.90it/s]"
     ]
    },
    {
     "name": "stderr",
     "output_type": "stream",
     "text": [
      "\rMorphologyExtractor transform:  44%|████▎     | 461749/1057452 [00:06<00:08, 72391.33it/s]"
     ]
    },
    {
     "name": "stderr",
     "output_type": "stream",
     "text": [
      "\rMorphologyExtractor transform:  45%|████▍     | 471426/1057452 [00:06<00:08, 72604.82it/s]"
     ]
    },
    {
     "name": "stderr",
     "output_type": "stream",
     "text": [
      "\rMorphologyExtractor transform:  45%|████▌     | 481047/1057452 [00:06<00:07, 72961.76it/s]"
     ]
    },
    {
     "name": "stderr",
     "output_type": "stream",
     "text": [
      "\rMorphologyExtractor transform:  46%|████▋     | 490447/1057452 [00:06<00:07, 73255.14it/s]"
     ]
    },
    {
     "name": "stderr",
     "output_type": "stream",
     "text": [
      "\rMorphologyExtractor transform:  47%|████▋     | 499794/1057452 [00:06<00:07, 73405.89it/s]"
     ]
    },
    {
     "name": "stderr",
     "output_type": "stream",
     "text": [
      "\rMorphologyExtractor transform:  48%|████▊     | 508806/1057452 [00:06<00:07, 73417.50it/s]"
     ]
    },
    {
     "name": "stderr",
     "output_type": "stream",
     "text": [
      "\rMorphologyExtractor transform:  49%|████▉     | 517336/1057452 [00:07<00:07, 73316.64it/s]"
     ]
    },
    {
     "name": "stderr",
     "output_type": "stream",
     "text": [
      "\rMorphologyExtractor transform:  50%|████▉     | 526155/1057452 [00:07<00:07, 73522.09it/s]"
     ]
    },
    {
     "name": "stderr",
     "output_type": "stream",
     "text": [
      "\rMorphologyExtractor transform:  51%|█████     | 534398/1057452 [00:07<00:07, 73600.96it/s]"
     ]
    },
    {
     "name": "stderr",
     "output_type": "stream",
     "text": [
      "\rMorphologyExtractor transform:  51%|█████▏    | 543145/1057452 [00:07<00:06, 73789.35it/s]"
     ]
    },
    {
     "name": "stderr",
     "output_type": "stream",
     "text": [
      "\rMorphologyExtractor transform:  52%|█████▏    | 551468/1057452 [00:07<00:06, 73752.48it/s]"
     ]
    },
    {
     "name": "stderr",
     "output_type": "stream",
     "text": [
      "\rMorphologyExtractor transform:  53%|█████▎    | 560654/1057452 [00:07<00:06, 73990.97it/s]"
     ]
    },
    {
     "name": "stderr",
     "output_type": "stream",
     "text": [
      "\rMorphologyExtractor transform:  54%|█████▍    | 569428/1057452 [00:07<00:06, 74169.98it/s]"
     ]
    },
    {
     "name": "stderr",
     "output_type": "stream",
     "text": [
      "\rMorphologyExtractor transform:  55%|█████▍    | 578218/1057452 [00:07<00:06, 74345.44it/s]"
     ]
    },
    {
     "name": "stderr",
     "output_type": "stream",
     "text": [
      "\rMorphologyExtractor transform:  56%|█████▌    | 588121/1057452 [00:07<00:06, 74658.03it/s]"
     ]
    },
    {
     "name": "stderr",
     "output_type": "stream",
     "text": [
      "\rMorphologyExtractor transform:  56%|█████▋    | 597081/1057452 [00:07<00:06, 74804.05it/s]"
     ]
    },
    {
     "name": "stderr",
     "output_type": "stream",
     "text": [
      "\rMorphologyExtractor transform:  57%|█████▋    | 605928/1057452 [00:08<00:06, 74698.38it/s]"
     ]
    },
    {
     "name": "stderr",
     "output_type": "stream",
     "text": [
      "\rMorphologyExtractor transform:  58%|█████▊    | 614167/1057452 [00:08<00:05, 74379.08it/s]"
     ]
    },
    {
     "name": "stderr",
     "output_type": "stream",
     "text": [
      "\rMorphologyExtractor transform:  59%|█████▉    | 621632/1057452 [00:08<00:05, 73998.28it/s]"
     ]
    },
    {
     "name": "stderr",
     "output_type": "stream",
     "text": [
      "\rMorphologyExtractor transform:  59%|█████▉    | 628420/1057452 [00:08<00:05, 73748.67it/s]"
     ]
    },
    {
     "name": "stderr",
     "output_type": "stream",
     "text": [
      "\rMorphologyExtractor transform:  60%|██████    | 637311/1057452 [00:08<00:05, 73924.09it/s]"
     ]
    },
    {
     "name": "stderr",
     "output_type": "stream",
     "text": [
      "\rMorphologyExtractor transform:  61%|██████    | 644486/1057452 [00:08<00:05, 73835.20it/s]"
     ]
    },
    {
     "name": "stderr",
     "output_type": "stream",
     "text": [
      "\rMorphologyExtractor transform:  62%|██████▏   | 653984/1057452 [00:08<00:05, 74075.75it/s]"
     ]
    },
    {
     "name": "stderr",
     "output_type": "stream",
     "text": [
      "\rMorphologyExtractor transform:  63%|██████▎   | 662396/1057452 [00:08<00:05, 74187.56it/s]"
     ]
    },
    {
     "name": "stderr",
     "output_type": "stream",
     "text": [
      "\rMorphologyExtractor transform:  64%|██████▎   | 671524/1057452 [00:09<00:05, 74374.30it/s]"
     ]
    },
    {
     "name": "stderr",
     "output_type": "stream",
     "text": [
      "\rMorphologyExtractor transform:  64%|██████▍   | 679826/1057452 [00:09<00:05, 74375.13it/s]"
     ]
    },
    {
     "name": "stderr",
     "output_type": "stream",
     "text": [
      "\rMorphologyExtractor transform:  65%|██████▌   | 689107/1057452 [00:09<00:04, 74573.82it/s]"
     ]
    },
    {
     "name": "stderr",
     "output_type": "stream",
     "text": [
      "\rMorphologyExtractor transform:  66%|██████▌   | 697520/1057452 [00:09<00:04, 74654.32it/s]"
     ]
    },
    {
     "name": "stderr",
     "output_type": "stream",
     "text": [
      "\rMorphologyExtractor transform:  67%|██████▋   | 707278/1057452 [00:09<00:04, 74897.16it/s]"
     ]
    },
    {
     "name": "stderr",
     "output_type": "stream",
     "text": [
      "\rMorphologyExtractor transform:  68%|██████▊   | 716048/1057452 [00:09<00:04, 74999.11it/s]"
     ]
    },
    {
     "name": "stderr",
     "output_type": "stream",
     "text": [
      "\rMorphologyExtractor transform:  69%|██████▊   | 725666/1057452 [00:09<00:04, 75218.37it/s]"
     ]
    },
    {
     "name": "stderr",
     "output_type": "stream",
     "text": [
      "\rMorphologyExtractor transform:  69%|██████▉   | 734618/1057452 [00:09<00:04, 74873.58it/s]"
     ]
    },
    {
     "name": "stderr",
     "output_type": "stream",
     "text": [
      "\rMorphologyExtractor transform:  70%|███████   | 742522/1057452 [00:09<00:04, 74625.53it/s]"
     ]
    },
    {
     "name": "stderr",
     "output_type": "stream",
     "text": [
      "\rMorphologyExtractor transform:  71%|███████   | 749766/1057452 [00:10<00:04, 74532.99it/s]"
     ]
    },
    {
     "name": "stderr",
     "output_type": "stream",
     "text": [
      "\rMorphologyExtractor transform:  72%|███████▏  | 757463/1057452 [00:10<00:04, 74556.16it/s]"
     ]
    },
    {
     "name": "stderr",
     "output_type": "stream",
     "text": [
      "\rMorphologyExtractor transform:  72%|███████▏  | 766147/1057452 [00:10<00:03, 74675.76it/s]"
     ]
    },
    {
     "name": "stderr",
     "output_type": "stream",
     "text": [
      "\rMorphologyExtractor transform:  73%|███████▎  | 774388/1057452 [00:10<00:03, 74750.43it/s]"
     ]
    },
    {
     "name": "stderr",
     "output_type": "stream",
     "text": [
      "\rMorphologyExtractor transform:  74%|███████▍  | 782234/1057452 [00:10<00:03, 74711.60it/s]"
     ]
    },
    {
     "name": "stderr",
     "output_type": "stream",
     "text": [
      "\rMorphologyExtractor transform:  75%|███████▍  | 789858/1057452 [00:10<00:03, 74715.60it/s]"
     ]
    },
    {
     "name": "stderr",
     "output_type": "stream",
     "text": [
      "\rMorphologyExtractor transform:  76%|███████▌  | 798651/1057452 [00:10<00:03, 74839.52it/s]"
     ]
    },
    {
     "name": "stderr",
     "output_type": "stream",
     "text": [
      "\rMorphologyExtractor transform:  76%|███████▋  | 807372/1057452 [00:10<00:03, 74953.58it/s]"
     ]
    },
    {
     "name": "stderr",
     "output_type": "stream",
     "text": [
      "\rMorphologyExtractor transform:  77%|███████▋  | 815759/1057452 [00:10<00:03, 75035.59it/s]"
     ]
    },
    {
     "name": "stderr",
     "output_type": "stream",
     "text": [
      "\rMorphologyExtractor transform:  78%|███████▊  | 824001/1057452 [00:11<00:03, 74882.54it/s]"
     ]
    },
    {
     "name": "stderr",
     "output_type": "stream",
     "text": [
      "\rMorphologyExtractor transform:  79%|███████▊  | 831640/1057452 [00:11<00:03, 74706.55it/s]"
     ]
    },
    {
     "name": "stderr",
     "output_type": "stream",
     "text": [
      "\rMorphologyExtractor transform:  79%|███████▉  | 839557/1057452 [00:11<00:02, 74746.20it/s]"
     ]
    },
    {
     "name": "stderr",
     "output_type": "stream",
     "text": [
      "\rMorphologyExtractor transform:  80%|████████  | 847781/1057452 [00:11<00:02, 74812.31it/s]"
     ]
    },
    {
     "name": "stderr",
     "output_type": "stream",
     "text": [
      "\rMorphologyExtractor transform:  81%|████████  | 855407/1057452 [00:11<00:02, 74816.94it/s]"
     ]
    },
    {
     "name": "stderr",
     "output_type": "stream",
     "text": [
      "\rMorphologyExtractor transform:  82%|████████▏ | 863117/1057452 [00:11<00:02, 74836.81it/s]"
     ]
    },
    {
     "name": "stderr",
     "output_type": "stream",
     "text": [
      "\rMorphologyExtractor transform:  82%|████████▏ | 871608/1057452 [00:11<00:02, 74923.21it/s]"
     ]
    },
    {
     "name": "stderr",
     "output_type": "stream",
     "text": [
      "\rMorphologyExtractor transform:  83%|████████▎ | 880873/1057452 [00:11<00:02, 75074.26it/s]"
     ]
    },
    {
     "name": "stderr",
     "output_type": "stream",
     "text": [
      "\rMorphologyExtractor transform:  84%|████████▍ | 889175/1057452 [00:11<00:02, 75057.71it/s]"
     ]
    },
    {
     "name": "stderr",
     "output_type": "stream",
     "text": [
      "\rMorphologyExtractor transform:  85%|████████▍ | 897187/1057452 [00:11<00:02, 74940.31it/s]"
     ]
    },
    {
     "name": "stderr",
     "output_type": "stream",
     "text": [
      "\rMorphologyExtractor transform:  86%|████████▌ | 904711/1057452 [00:12<00:02, 74899.57it/s]"
     ]
    },
    {
     "name": "stderr",
     "output_type": "stream",
     "text": [
      "\rMorphologyExtractor transform:  86%|████████▋ | 912821/1057452 [00:12<00:01, 74949.85it/s]"
     ]
    },
    {
     "name": "stderr",
     "output_type": "stream",
     "text": [
      "\rMorphologyExtractor transform:  87%|████████▋ | 922031/1057452 [00:12<00:01, 75089.44it/s]"
     ]
    },
    {
     "name": "stderr",
     "output_type": "stream",
     "text": [
      "\rMorphologyExtractor transform:  88%|████████▊ | 930110/1057452 [00:12<00:01, 75092.23it/s]"
     ]
    },
    {
     "name": "stderr",
     "output_type": "stream",
     "text": [
      "\rMorphologyExtractor transform:  89%|████████▊ | 938028/1057452 [00:12<00:01, 74920.87it/s]"
     ]
    },
    {
     "name": "stderr",
     "output_type": "stream",
     "text": [
      "\rMorphologyExtractor transform:  89%|████████▉ | 945343/1057452 [00:12<00:01, 74811.15it/s]"
     ]
    },
    {
     "name": "stderr",
     "output_type": "stream",
     "text": [
      "\rMorphologyExtractor transform:  90%|█████████ | 953523/1057452 [00:12<00:01, 74865.26it/s]"
     ]
    },
    {
     "name": "stderr",
     "output_type": "stream",
     "text": [
      "\rMorphologyExtractor transform:  91%|█████████ | 960881/1057452 [00:12<00:01, 74808.99it/s]"
     ]
    },
    {
     "name": "stderr",
     "output_type": "stream",
     "text": [
      "\rMorphologyExtractor transform:  92%|█████████▏| 970152/1057452 [00:12<00:01, 74947.08it/s]"
     ]
    },
    {
     "name": "stderr",
     "output_type": "stream",
     "text": [
      "\rMorphologyExtractor transform:  92%|█████████▏| 977969/1057452 [00:13<00:01, 74883.10it/s]"
     ]
    },
    {
     "name": "stderr",
     "output_type": "stream",
     "text": [
      "\rMorphologyExtractor transform:  93%|█████████▎| 985473/1057452 [00:13<00:00, 74843.84it/s]"
     ]
    },
    {
     "name": "stderr",
     "output_type": "stream",
     "text": [
      "\rMorphologyExtractor transform:  94%|█████████▍| 993026/1057452 [00:13<00:00, 74848.84it/s]"
     ]
    },
    {
     "name": "stderr",
     "output_type": "stream",
     "text": [
      "\rMorphologyExtractor transform:  95%|█████████▍| 1000609/1057452 [00:13<00:00, 74855.60it/s]"
     ]
    },
    {
     "name": "stderr",
     "output_type": "stream",
     "text": [
      "\rMorphologyExtractor transform:  95%|█████████▌| 1008071/1057452 [00:13<00:00, 74798.66it/s]"
     ]
    },
    {
     "name": "stderr",
     "output_type": "stream",
     "text": [
      "\rMorphologyExtractor transform:  96%|█████████▌| 1015331/1057452 [00:13<00:00, 74759.18it/s]"
     ]
    },
    {
     "name": "stderr",
     "output_type": "stream",
     "text": [
      "\rMorphologyExtractor transform:  97%|█████████▋| 1023815/1057452 [00:13<00:00, 74832.78it/s]"
     ]
    },
    {
     "name": "stderr",
     "output_type": "stream",
     "text": [
      "\rMorphologyExtractor transform:  98%|█████████▊| 1031927/1057452 [00:13<00:00, 74877.73it/s]"
     ]
    },
    {
     "name": "stderr",
     "output_type": "stream",
     "text": [
      "\rMorphologyExtractor transform:  98%|█████████▊| 1040837/1057452 [00:13<00:00, 74980.17it/s]"
     ]
    },
    {
     "name": "stderr",
     "output_type": "stream",
     "text": [
      "\rMorphologyExtractor transform:  99%|█████████▉| 1050494/1057452 [00:13<00:00, 75134.27it/s]"
     ]
    },
    {
     "name": "stderr",
     "output_type": "stream",
     "text": [
      "\rMorphologyExtractor transform: 100%|██████████| 1057452/1057452 [00:14<00:00, 75108.30it/s]"
     ]
    },
    {
     "name": "stderr",
     "output_type": "stream",
     "text": [
      "\n"
     ]
    },
    {
     "name": "stderr",
     "output_type": "stream",
     "text": [
      "\rMorphologyExtractor transform:   0%|          | 0/1057452 [00:00<?, ?it/s]"
     ]
    },
    {
     "name": "stderr",
     "output_type": "stream",
     "text": [
      "\rMorphologyExtractor transform:   0%|          | 4429/1057452 [00:00<00:23, 44183.86it/s]"
     ]
    },
    {
     "name": "stderr",
     "output_type": "stream",
     "text": [
      "\rMorphologyExtractor transform:   1%|          | 11562/1057452 [00:00<00:20, 50573.41it/s]"
     ]
    },
    {
     "name": "stderr",
     "output_type": "stream",
     "text": [
      "\rMorphologyExtractor transform:   2%|▏         | 21492/1057452 [00:00<00:15, 65398.36it/s]"
     ]
    },
    {
     "name": "stderr",
     "output_type": "stream",
     "text": [
      "\rMorphologyExtractor transform:   3%|▎         | 31920/1057452 [00:00<00:13, 74460.24it/s]"
     ]
    },
    {
     "name": "stderr",
     "output_type": "stream",
     "text": [
      "\rMorphologyExtractor transform:   4%|▍         | 43078/1057452 [00:00<00:12, 81481.54it/s]"
     ]
    },
    {
     "name": "stderr",
     "output_type": "stream",
     "text": [
      "\rMorphologyExtractor transform:   5%|▌         | 53675/1057452 [00:00<00:11, 85376.33it/s]"
     ]
    },
    {
     "name": "stderr",
     "output_type": "stream",
     "text": [
      "\rMorphologyExtractor transform:   6%|▌         | 64151/1057452 [00:00<00:11, 88036.54it/s]"
     ]
    },
    {
     "name": "stderr",
     "output_type": "stream",
     "text": [
      "\rMorphologyExtractor transform:   7%|▋         | 75885/1057452 [00:00<00:10, 91557.19it/s]"
     ]
    },
    {
     "name": "stderr",
     "output_type": "stream",
     "text": [
      "\rMorphologyExtractor transform:   8%|▊         | 86483/1057452 [00:00<00:10, 93108.40it/s]"
     ]
    },
    {
     "name": "stderr",
     "output_type": "stream",
     "text": [
      "\rMorphologyExtractor transform:   9%|▉         | 96769/1057452 [00:01<00:10, 94055.58it/s]"
     ]
    },
    {
     "name": "stderr",
     "output_type": "stream",
     "text": [
      "\rMorphologyExtractor transform:  10%|█         | 107799/1057452 [00:01<00:09, 95494.85it/s]"
     ]
    },
    {
     "name": "stderr",
     "output_type": "stream",
     "text": [
      "\rMorphologyExtractor transform:  11%|█         | 118249/1057452 [00:01<00:09, 95404.10it/s]"
     ]
    },
    {
     "name": "stderr",
     "output_type": "stream",
     "text": [
      "\rMorphologyExtractor transform:  12%|█▏        | 128398/1057452 [00:01<00:09, 95544.03it/s]"
     ]
    },
    {
     "name": "stderr",
     "output_type": "stream",
     "text": [
      "\rMorphologyExtractor transform:  13%|█▎        | 139878/1057452 [00:01<00:09, 96872.77it/s]"
     ]
    },
    {
     "name": "stderr",
     "output_type": "stream",
     "text": [
      "\rMorphologyExtractor transform:  14%|█▍        | 150334/1057452 [00:01<00:09, 94990.69it/s]"
     ]
    },
    {
     "name": "stderr",
     "output_type": "stream",
     "text": [
      "\rMorphologyExtractor transform:  15%|█▌        | 161015/1057452 [00:01<00:09, 95693.01it/s]"
     ]
    },
    {
     "name": "stderr",
     "output_type": "stream",
     "text": [
      "\rMorphologyExtractor transform:  16%|█▌        | 171581/1057452 [00:01<00:09, 96244.63it/s]"
     ]
    },
    {
     "name": "stderr",
     "output_type": "stream",
     "text": [
      "\rMorphologyExtractor transform:  17%|█▋        | 182353/1057452 [00:01<00:09, 96853.77it/s]"
     ]
    },
    {
     "name": "stderr",
     "output_type": "stream",
     "text": [
      "\rMorphologyExtractor transform:  18%|█▊        | 193745/1057452 [00:01<00:08, 97714.20it/s]"
     ]
    },
    {
     "name": "stderr",
     "output_type": "stream",
     "text": [
      "\rMorphologyExtractor transform:  19%|█▉        | 204375/1057452 [00:02<00:08, 98105.15it/s]"
     ]
    },
    {
     "name": "stderr",
     "output_type": "stream",
     "text": [
      "\rMorphologyExtractor transform:  20%|██        | 215428/1057452 [00:02<00:08, 98673.61it/s]"
     ]
    },
    {
     "name": "stderr",
     "output_type": "stream",
     "text": [
      "\rMorphologyExtractor transform:  21%|██▏       | 226175/1057452 [00:02<00:08, 98717.23it/s]"
     ]
    },
    {
     "name": "stderr",
     "output_type": "stream",
     "text": [
      "\rMorphologyExtractor transform:  22%|██▏       | 237412/1057452 [00:02<00:08, 99286.45it/s]"
     ]
    },
    {
     "name": "stderr",
     "output_type": "stream",
     "text": [
      "\rMorphologyExtractor transform:  23%|██▎       | 248141/1057452 [00:02<00:08, 99441.00it/s]"
     ]
    },
    {
     "name": "stderr",
     "output_type": "stream",
     "text": [
      "\rMorphologyExtractor transform:  25%|██▍       | 259148/1057452 [00:02<00:07, 99848.30it/s]"
     ]
    },
    {
     "name": "stderr",
     "output_type": "stream",
     "text": [
      "\rMorphologyExtractor transform:  26%|██▌       | 269868/1057452 [00:02<00:07, 99713.60it/s]"
     ]
    },
    {
     "name": "stderr",
     "output_type": "stream",
     "text": [
      "\rMorphologyExtractor transform:  27%|██▋       | 280269/1057452 [00:02<00:07, 98439.30it/s]"
     ]
    },
    {
     "name": "stderr",
     "output_type": "stream",
     "text": [
      "\rMorphologyExtractor transform:  27%|██▋       | 289767/1057452 [00:02<00:07, 98143.09it/s]"
     ]
    },
    {
     "name": "stderr",
     "output_type": "stream",
     "text": [
      "\rMorphologyExtractor transform:  28%|██▊       | 300375/1057452 [00:03<00:07, 98399.30it/s]"
     ]
    },
    {
     "name": "stderr",
     "output_type": "stream",
     "text": [
      "\rMorphologyExtractor transform:  29%|██▉       | 310105/1057452 [00:03<00:07, 98318.65it/s]"
     ]
    },
    {
     "name": "stderr",
     "output_type": "stream",
     "text": [
      "\rMorphologyExtractor transform:  30%|███       | 321118/1057452 [00:03<00:07, 98679.47it/s]"
     ]
    },
    {
     "name": "stderr",
     "output_type": "stream",
     "text": [
      "\rMorphologyExtractor transform:  31%|███▏      | 332216/1057452 [00:03<00:07, 99046.13it/s]"
     ]
    },
    {
     "name": "stderr",
     "output_type": "stream",
     "text": [
      "\rMorphologyExtractor transform:  32%|███▏      | 343594/1057452 [00:03<00:07, 99468.22it/s]"
     ]
    },
    {
     "name": "stderr",
     "output_type": "stream",
     "text": [
      "\rMorphologyExtractor transform:  34%|███▎      | 355198/1057452 [00:03<00:07, 99934.08it/s]"
     ]
    },
    {
     "name": "stderr",
     "output_type": "stream",
     "text": [
      "\rMorphologyExtractor transform:  35%|███▍      | 367557/1057452 [00:03<00:06, 100580.92it/s]"
     ]
    },
    {
     "name": "stderr",
     "output_type": "stream",
     "text": [
      "\rMorphologyExtractor transform:  36%|███▌      | 380317/1057452 [00:03<00:06, 101299.66it/s]"
     ]
    },
    {
     "name": "stderr",
     "output_type": "stream",
     "text": [
      "\rMorphologyExtractor transform:  37%|███▋      | 392107/1057452 [00:03<00:06, 101545.17it/s]"
     ]
    },
    {
     "name": "stderr",
     "output_type": "stream",
     "text": [
      "\rMorphologyExtractor transform:  38%|███▊      | 403665/1057452 [00:03<00:06, 101405.53it/s]"
     ]
    },
    {
     "name": "stderr",
     "output_type": "stream",
     "text": [
      "\rMorphologyExtractor transform:  39%|███▉      | 415330/1057452 [00:04<00:06, 101778.63it/s]"
     ]
    },
    {
     "name": "stderr",
     "output_type": "stream",
     "text": [
      "\rMorphologyExtractor transform:  40%|████      | 426552/1057452 [00:04<00:06, 102026.06it/s]"
     ]
    },
    {
     "name": "stderr",
     "output_type": "stream",
     "text": [
      "\rMorphologyExtractor transform:  41%|████▏     | 437754/1057452 [00:04<00:06, 102113.09it/s]"
     ]
    },
    {
     "name": "stderr",
     "output_type": "stream",
     "text": [
      "\rMorphologyExtractor transform:  42%|████▏     | 449415/1057452 [00:04<00:05, 102439.34it/s]"
     ]
    },
    {
     "name": "stderr",
     "output_type": "stream",
     "text": [
      "\rMorphologyExtractor transform:  44%|████▎     | 460618/1057452 [00:04<00:05, 102477.63it/s]"
     ]
    },
    {
     "name": "stderr",
     "output_type": "stream",
     "text": [
      "\rMorphologyExtractor transform:  45%|████▍     | 471577/1057452 [00:04<00:05, 102545.05it/s]"
     ]
    },
    {
     "name": "stderr",
     "output_type": "stream",
     "text": [
      "\rMorphologyExtractor transform:  46%|████▌     | 482412/1057452 [00:04<00:05, 102449.73it/s]"
     ]
    },
    {
     "name": "stderr",
     "output_type": "stream",
     "text": [
      "\rMorphologyExtractor transform:  47%|████▋     | 492951/1057452 [00:04<00:05, 102241.32it/s]"
     ]
    },
    {
     "name": "stderr",
     "output_type": "stream",
     "text": [
      "\rMorphologyExtractor transform:  48%|████▊     | 503134/1057452 [00:04<00:05, 102119.62it/s]"
     ]
    },
    {
     "name": "stderr",
     "output_type": "stream",
     "text": [
      "\rMorphologyExtractor transform:  49%|████▊     | 513159/1057452 [00:05<00:05, 101853.27it/s]"
     ]
    },
    {
     "name": "stderr",
     "output_type": "stream",
     "text": [
      "\rMorphologyExtractor transform:  50%|████▉     | 523933/1057452 [00:05<00:05, 101967.48it/s]"
     ]
    },
    {
     "name": "stderr",
     "output_type": "stream",
     "text": [
      "\rMorphologyExtractor transform:  51%|█████     | 534111/1057452 [00:05<00:05, 101963.77it/s]"
     ]
    },
    {
     "name": "stderr",
     "output_type": "stream",
     "text": [
      "\rMorphologyExtractor transform:  51%|█████▏    | 544189/1057452 [00:05<00:05, 101889.10it/s]"
     ]
    },
    {
     "name": "stderr",
     "output_type": "stream",
     "text": [
      "\rMorphologyExtractor transform:  52%|█████▏    | 554193/1057452 [00:05<00:04, 101703.73it/s]"
     ]
    },
    {
     "name": "stderr",
     "output_type": "stream",
     "text": [
      "\rMorphologyExtractor transform:  53%|█████▎    | 563966/1057452 [00:05<00:04, 101452.66it/s]"
     ]
    },
    {
     "name": "stderr",
     "output_type": "stream",
     "text": [
      "\rMorphologyExtractor transform:  54%|█████▍    | 573477/1057452 [00:05<00:04, 101306.33it/s]"
     ]
    },
    {
     "name": "stderr",
     "output_type": "stream",
     "text": [
      "\rMorphologyExtractor transform:  55%|█████▌    | 584196/1057452 [00:05<00:04, 101408.23it/s]"
     ]
    },
    {
     "name": "stderr",
     "output_type": "stream",
     "text": [
      "\rMorphologyExtractor transform:  56%|█████▋    | 595498/1057452 [00:05<00:04, 101605.92it/s]"
     ]
    },
    {
     "name": "stderr",
     "output_type": "stream",
     "text": [
      "\rMorphologyExtractor transform:  57%|█████▋    | 606862/1057452 [00:05<00:04, 101806.10it/s]"
     ]
    },
    {
     "name": "stderr",
     "output_type": "stream",
     "text": [
      "\rMorphologyExtractor transform:  58%|█████▊    | 617888/1057452 [00:06<00:04, 101945.53it/s]"
     ]
    },
    {
     "name": "stderr",
     "output_type": "stream",
     "text": [
      "\rMorphologyExtractor transform:  59%|█████▉    | 628745/1057452 [00:06<00:04, 102052.66it/s]"
     ]
    },
    {
     "name": "stderr",
     "output_type": "stream",
     "text": [
      "\rMorphologyExtractor transform:  61%|██████    | 640748/1057452 [00:06<00:04, 102339.69it/s]"
     ]
    },
    {
     "name": "stderr",
     "output_type": "stream",
     "text": [
      "\rMorphologyExtractor transform:  62%|██████▏   | 651884/1057452 [00:06<00:03, 102354.27it/s]"
     ]
    },
    {
     "name": "stderr",
     "output_type": "stream",
     "text": [
      "\rMorphologyExtractor transform:  63%|██████▎   | 663842/1057452 [00:06<00:03, 102618.03it/s]"
     ]
    },
    {
     "name": "stderr",
     "output_type": "stream",
     "text": [
      "\rMorphologyExtractor transform:  64%|██████▍   | 675048/1057452 [00:06<00:03, 102723.94it/s]"
     ]
    },
    {
     "name": "stderr",
     "output_type": "stream",
     "text": [
      "\rMorphologyExtractor transform:  65%|██████▍   | 686883/1057452 [00:06<00:03, 102957.74it/s]"
     ]
    },
    {
     "name": "stderr",
     "output_type": "stream",
     "text": [
      "\rMorphologyExtractor transform:  66%|██████▌   | 698278/1057452 [00:06<00:03, 103119.81it/s]"
     ]
    },
    {
     "name": "stderr",
     "output_type": "stream",
     "text": [
      "\rMorphologyExtractor transform:  67%|██████▋   | 709907/1057452 [00:06<00:03, 103311.31it/s]"
     ]
    },
    {
     "name": "stderr",
     "output_type": "stream",
     "text": [
      "\rMorphologyExtractor transform:  68%|██████▊   | 722617/1057452 [00:06<00:03, 103650.35it/s]"
     ]
    },
    {
     "name": "stderr",
     "output_type": "stream",
     "text": [
      "\rMorphologyExtractor transform:  69%|██████▉   | 734430/1057452 [00:07<00:03, 103744.30it/s]"
     ]
    },
    {
     "name": "stderr",
     "output_type": "stream",
     "text": [
      "\rMorphologyExtractor transform:  71%|███████   | 745995/1057452 [00:07<00:03, 103802.52it/s]"
     ]
    },
    {
     "name": "stderr",
     "output_type": "stream",
     "text": [
      "\rMorphologyExtractor transform:  72%|███████▏  | 757319/1057452 [00:07<00:02, 103739.30it/s]"
     ]
    },
    {
     "name": "stderr",
     "output_type": "stream",
     "text": [
      "\rMorphologyExtractor transform:  73%|███████▎  | 768690/1057452 [00:07<00:02, 103872.94it/s]"
     ]
    },
    {
     "name": "stderr",
     "output_type": "stream",
     "text": [
      "\rMorphologyExtractor transform:  74%|███████▍  | 780591/1057452 [00:07<00:02, 104073.68it/s]"
     ]
    },
    {
     "name": "stderr",
     "output_type": "stream",
     "text": [
      "\rMorphologyExtractor transform:  75%|███████▍  | 792608/1057452 [00:07<00:02, 104285.43it/s]"
     ]
    },
    {
     "name": "stderr",
     "output_type": "stream",
     "text": [
      "\rMorphologyExtractor transform:  76%|███████▌  | 805342/1057452 [00:07<00:02, 104583.38it/s]"
     ]
    },
    {
     "name": "stderr",
     "output_type": "stream",
     "text": [
      "\rMorphologyExtractor transform:  77%|███████▋  | 817221/1057452 [00:07<00:02, 104676.93it/s]"
     ]
    },
    {
     "name": "stderr",
     "output_type": "stream",
     "text": [
      "\rMorphologyExtractor transform:  78%|███████▊  | 829336/1057452 [00:07<00:02, 104885.20it/s]"
     ]
    },
    {
     "name": "stderr",
     "output_type": "stream",
     "text": [
      "\rMorphologyExtractor transform:  80%|███████▉  | 841132/1057452 [00:08<00:02, 105044.02it/s]"
     ]
    },
    {
     "name": "stderr",
     "output_type": "stream",
     "text": [
      "\rMorphologyExtractor transform:  81%|████████  | 852915/1057452 [00:08<00:01, 105128.89it/s]"
     ]
    },
    {
     "name": "stderr",
     "output_type": "stream",
     "text": [
      "\rMorphologyExtractor transform:  82%|████████▏ | 864511/1057452 [00:08<00:01, 105217.87it/s]"
     ]
    },
    {
     "name": "stderr",
     "output_type": "stream",
     "text": [
      "\rMorphologyExtractor transform:  83%|████████▎ | 875994/1057452 [00:08<00:01, 105183.05it/s]"
     ]
    },
    {
     "name": "stderr",
     "output_type": "stream",
     "text": [
      "\rMorphologyExtractor transform:  84%|████████▍ | 887182/1057452 [00:08<00:01, 105262.49it/s]"
     ]
    },
    {
     "name": "stderr",
     "output_type": "stream",
     "text": [
      "\rMorphologyExtractor transform:  85%|████████▌ | 899236/1057452 [00:08<00:01, 105440.50it/s]"
     ]
    },
    {
     "name": "stderr",
     "output_type": "stream",
     "text": [
      "\rMorphologyExtractor transform:  86%|████████▌ | 911416/1057452 [00:08<00:01, 105628.76it/s]"
     ]
    },
    {
     "name": "stderr",
     "output_type": "stream",
     "text": [
      "\rMorphologyExtractor transform:  87%|████████▋ | 923053/1057452 [00:08<00:01, 105733.47it/s]"
     ]
    },
    {
     "name": "stderr",
     "output_type": "stream",
     "text": [
      "\rMorphologyExtractor transform:  88%|████████▊ | 934878/1057452 [00:08<00:01, 105874.88it/s]"
     ]
    },
    {
     "name": "stderr",
     "output_type": "stream",
     "text": [
      "\rMorphologyExtractor transform:  90%|████████▉ | 946535/1057452 [00:08<00:01, 105989.88it/s]"
     ]
    },
    {
     "name": "stderr",
     "output_type": "stream",
     "text": [
      "\rMorphologyExtractor transform:  91%|█████████ | 958178/1057452 [00:09<00:00, 106065.91it/s]"
     ]
    },
    {
     "name": "stderr",
     "output_type": "stream",
     "text": [
      "\rMorphologyExtractor transform:  92%|█████████▏| 969707/1057452 [00:09<00:00, 106064.66it/s]"
     ]
    },
    {
     "name": "stderr",
     "output_type": "stream",
     "text": [
      "\rMorphologyExtractor transform:  93%|█████████▎| 980956/1057452 [00:09<00:00, 106118.32it/s]"
     ]
    },
    {
     "name": "stderr",
     "output_type": "stream",
     "text": [
      "\rMorphologyExtractor transform:  94%|█████████▍| 992159/1057452 [00:09<00:00, 106098.18it/s]"
     ]
    },
    {
     "name": "stderr",
     "output_type": "stream",
     "text": [
      "\rMorphologyExtractor transform:  95%|█████████▍| 1003162/1057452 [00:09<00:00, 106139.56it/s]"
     ]
    },
    {
     "name": "stderr",
     "output_type": "stream",
     "text": [
      "\rMorphologyExtractor transform:  96%|█████████▌| 1016657/1057452 [00:09<00:00, 106440.14it/s]"
     ]
    },
    {
     "name": "stderr",
     "output_type": "stream",
     "text": [
      "\rMorphologyExtractor transform:  97%|█████████▋| 1028389/1057452 [00:09<00:00, 106536.86it/s]"
     ]
    },
    {
     "name": "stderr",
     "output_type": "stream",
     "text": [
      "\rMorphologyExtractor transform:  98%|█████████▊| 1040614/1057452 [00:09<00:00, 106697.89it/s]"
     ]
    },
    {
     "name": "stderr",
     "output_type": "stream",
     "text": [
      "\rMorphologyExtractor transform: 100%|█████████▉| 1052459/1057452 [00:09<00:00, 106798.30it/s]"
     ]
    },
    {
     "name": "stderr",
     "output_type": "stream",
     "text": [
      "\rMorphologyExtractor transform: 100%|██████████| 1057452/1057452 [00:09<00:00, 106634.41it/s]"
     ]
    },
    {
     "name": "stderr",
     "output_type": "stream",
     "text": [
      "\n"
     ]
    },
    {
     "name": "stderr",
     "output_type": "stream",
     "text": [
      "\rDictNBHDTransformer transform:   0%|          | 0/1057452 [00:00<?, ?it/s]"
     ]
    },
    {
     "name": "stderr",
     "output_type": "stream",
     "text": [
      "\rDictNBHDTransformer transform:   2%|▏         | 20225/1057452 [00:00<00:05, 202187.53it/s]"
     ]
    },
    {
     "name": "stderr",
     "output_type": "stream",
     "text": [
      "\rDictNBHDTransformer transform:   4%|▍         | 43106/1057452 [00:00<00:04, 215494.75it/s]"
     ]
    },
    {
     "name": "stderr",
     "output_type": "stream",
     "text": [
      "\rDictNBHDTransformer transform:   6%|▋         | 68245/1057452 [00:00<00:04, 227456.98it/s]"
     ]
    },
    {
     "name": "stderr",
     "output_type": "stream",
     "text": [
      "\rDictNBHDTransformer transform:   9%|▉         | 94348/1057452 [00:00<00:04, 235842.39it/s]"
     ]
    },
    {
     "name": "stderr",
     "output_type": "stream",
     "text": [
      "\rDictNBHDTransformer transform:  11%|█▏        | 121261/1057452 [00:00<00:03, 242497.83it/s]"
     ]
    },
    {
     "name": "stderr",
     "output_type": "stream",
     "text": [
      "\rDictNBHDTransformer transform:  14%|█▍        | 149862/1057452 [00:00<00:03, 249748.41it/s]"
     ]
    },
    {
     "name": "stderr",
     "output_type": "stream",
     "text": [
      "\rDictNBHDTransformer transform:  17%|█▋        | 179025/1057452 [00:00<00:03, 255727.42it/s]"
     ]
    },
    {
     "name": "stderr",
     "output_type": "stream",
     "text": [
      "\rDictNBHDTransformer transform:  20%|█▉        | 209675/1057452 [00:00<00:03, 262072.21it/s]"
     ]
    },
    {
     "name": "stderr",
     "output_type": "stream",
     "text": [
      "\rDictNBHDTransformer transform:  23%|██▎       | 242759/1057452 [00:00<00:03, 269711.26it/s]"
     ]
    },
    {
     "name": "stderr",
     "output_type": "stream",
     "text": [
      "\rDictNBHDTransformer transform:  26%|██▋       | 278098/1057452 [00:01<00:02, 278077.18it/s]"
     ]
    },
    {
     "name": "stderr",
     "output_type": "stream",
     "text": [
      "\rDictNBHDTransformer transform:  29%|██▉       | 311536/1057452 [00:01<00:02, 283191.68it/s]"
     ]
    },
    {
     "name": "stderr",
     "output_type": "stream",
     "text": [
      "\rDictNBHDTransformer transform:  33%|███▎      | 348571/1057452 [00:01<00:02, 290454.07it/s]"
     ]
    },
    {
     "name": "stderr",
     "output_type": "stream",
     "text": [
      "\rDictNBHDTransformer transform:  36%|███▋      | 385735/1057452 [00:01<00:02, 296698.24it/s]"
     ]
    },
    {
     "name": "stderr",
     "output_type": "stream",
     "text": [
      "\rDictNBHDTransformer transform:  40%|███▉      | 422366/1057452 [00:01<00:02, 301665.68it/s]"
     ]
    },
    {
     "name": "stderr",
     "output_type": "stream",
     "text": [
      "\rDictNBHDTransformer transform:  44%|████▎     | 460995/1057452 [00:01<00:01, 307309.34it/s]"
     ]
    },
    {
     "name": "stderr",
     "output_type": "stream",
     "text": [
      "\rDictNBHDTransformer transform:  47%|████▋     | 500410/1057452 [00:01<00:01, 312736.32it/s]"
     ]
    },
    {
     "name": "stderr",
     "output_type": "stream",
     "text": [
      "\rDictNBHDTransformer transform:  51%|█████     | 541763/1057452 [00:01<00:01, 318662.57it/s]"
     ]
    },
    {
     "name": "stderr",
     "output_type": "stream",
     "text": [
      "\rDictNBHDTransformer transform:  55%|█████▌    | 583967/1057452 [00:01<00:01, 324405.97it/s]"
     ]
    },
    {
     "name": "stderr",
     "output_type": "stream",
     "text": [
      "\rDictNBHDTransformer transform:  59%|█████▉    | 626665/1057452 [00:01<00:01, 329803.93it/s]"
     ]
    },
    {
     "name": "stderr",
     "output_type": "stream",
     "text": [
      "\rDictNBHDTransformer transform:  63%|██████▎   | 670017/1057452 [00:02<00:01, 334988.73it/s]"
     ]
    },
    {
     "name": "stderr",
     "output_type": "stream",
     "text": [
      "\rDictNBHDTransformer transform:  68%|██████▊   | 714938/1057452 [00:02<00:01, 340427.43it/s]"
     ]
    },
    {
     "name": "stderr",
     "output_type": "stream",
     "text": [
      "\rDictNBHDTransformer transform:  72%|███████▏  | 760094/1057452 [00:02<00:00, 345478.13it/s]"
     ]
    },
    {
     "name": "stderr",
     "output_type": "stream",
     "text": [
      "\rDictNBHDTransformer transform:  76%|███████▋  | 807502/1057452 [00:02<00:00, 351069.24it/s]"
     ]
    },
    {
     "name": "stderr",
     "output_type": "stream",
     "text": [
      "\rDictNBHDTransformer transform:  81%|████████  | 853824/1057452 [00:02<00:00, 355741.79it/s]"
     ]
    },
    {
     "name": "stderr",
     "output_type": "stream",
     "text": [
      "\rDictNBHDTransformer transform:  85%|████████▌ | 898901/1057452 [00:02<00:00, 359542.43it/s]"
     ]
    },
    {
     "name": "stderr",
     "output_type": "stream",
     "text": [
      "\rDictNBHDTransformer transform:  89%|████████▉ | 943951/1057452 [00:02<00:00, 362790.62it/s]"
     ]
    },
    {
     "name": "stderr",
     "output_type": "stream",
     "text": [
      "\rDictNBHDTransformer transform:  94%|█████████▎| 990644/1057452 [00:02<00:00, 366645.43it/s]"
     ]
    },
    {
     "name": "stderr",
     "output_type": "stream",
     "text": [
      "\rDictNBHDTransformer transform:  98%|█████████▊| 1036021/1057452 [00:02<00:00, 369725.49it/s]"
     ]
    },
    {
     "name": "stderr",
     "output_type": "stream",
     "text": [
      "\rDictNBHDTransformer transform: 100%|██████████| 1057452/1057452 [00:02<00:00, 368233.61it/s]"
     ]
    },
    {
     "name": "stderr",
     "output_type": "stream",
     "text": [
      "\n"
     ]
    },
    {
     "name": "stderr",
     "output_type": "stream",
     "text": [
      "\rLettersTransformer transform:   0%|          | 0/1057452 [00:00<?, ?it/s]"
     ]
    },
    {
     "name": "stderr",
     "output_type": "stream",
     "text": [
      "\rLettersTransformer transform:   2%|▏         | 23325/1057452 [00:00<00:04, 233145.16it/s]"
     ]
    },
    {
     "name": "stderr",
     "output_type": "stream",
     "text": [
      "\rLettersTransformer transform:   8%|▊         | 81026/1057452 [00:00<00:02, 405064.72it/s]"
     ]
    },
    {
     "name": "stderr",
     "output_type": "stream",
     "text": [
      "\rLettersTransformer transform:  14%|█▎        | 144227/1057452 [00:00<00:01, 480708.61it/s]"
     ]
    },
    {
     "name": "stderr",
     "output_type": "stream",
     "text": [
      "\rLettersTransformer transform:  20%|██        | 211570/1057452 [00:00<00:01, 528878.85it/s]"
     ]
    },
    {
     "name": "stderr",
     "output_type": "stream",
     "text": [
      "\rLettersTransformer transform:  26%|██▌       | 276549/1057452 [00:00<00:01, 553064.77it/s]"
     ]
    },
    {
     "name": "stderr",
     "output_type": "stream",
     "text": [
      "\rLettersTransformer transform:  32%|███▏      | 343561/1057452 [00:00<00:01, 572570.13it/s]"
     ]
    },
    {
     "name": "stderr",
     "output_type": "stream",
     "text": [
      "\rLettersTransformer transform:  39%|███▉      | 414084/1057452 [00:00<00:01, 591515.49it/s]"
     ]
    },
    {
     "name": "stderr",
     "output_type": "stream",
     "text": [
      "\rLettersTransformer transform:  45%|████▌     | 478983/1057452 [00:00<00:00, 598698.81it/s]"
     ]
    },
    {
     "name": "stderr",
     "output_type": "stream",
     "text": [
      "\rLettersTransformer transform:  51%|█████     | 540999/1057452 [00:00<00:00, 601083.98it/s]"
     ]
    },
    {
     "name": "stderr",
     "output_type": "stream",
     "text": [
      "\rLettersTransformer transform:  57%|█████▋    | 605533/1057452 [00:01<00:00, 605505.14it/s]"
     ]
    },
    {
     "name": "stderr",
     "output_type": "stream",
     "text": [
      "\rLettersTransformer transform:  64%|██████▎   | 671706/1057452 [00:01<00:00, 610618.45it/s]"
     ]
    },
    {
     "name": "stderr",
     "output_type": "stream",
     "text": [
      "\rLettersTransformer transform:  70%|███████   | 742415/1057452 [00:01<00:00, 618651.73it/s]"
     ]
    },
    {
     "name": "stderr",
     "output_type": "stream",
     "text": [
      "\rLettersTransformer transform:  76%|███████▋  | 808150/1057452 [00:01<00:00, 616673.97it/s]"
     ]
    },
    {
     "name": "stderr",
     "output_type": "stream",
     "text": [
      "\rLettersTransformer transform:  82%|████████▏ | 872019/1057452 [00:01<00:00, 615513.58it/s]"
     ]
    },
    {
     "name": "stderr",
     "output_type": "stream",
     "text": [
      "\rLettersTransformer transform:  88%|████████▊ | 934764/1057452 [00:01<00:00, 613834.99it/s]"
     ]
    },
    {
     "name": "stderr",
     "output_type": "stream",
     "text": [
      "\rLettersTransformer transform:  95%|█████████▌| 1007025/1057452 [00:01<00:00, 620530.18it/s]"
     ]
    },
    {
     "name": "stderr",
     "output_type": "stream",
     "text": [
      "\rLettersTransformer transform: 100%|██████████| 1057452/1057452 [00:01<00:00, 614172.44it/s]"
     ]
    },
    {
     "name": "stderr",
     "output_type": "stream",
     "text": [
      "\n"
     ]
    },
    {
     "name": "stderr",
     "output_type": "stream",
     "text": [
      "\rDictClassTransformer transform:   0%|          | 0/1057452 [00:00<?, ?it/s]"
     ]
    },
    {
     "name": "stderr",
     "output_type": "stream",
     "text": [
      "\rDictClassTransformer transform:   4%|▍         | 41439/1057452 [00:00<00:02, 414253.11it/s]"
     ]
    },
    {
     "name": "stderr",
     "output_type": "stream",
     "text": [
      "\rDictClassTransformer transform:  13%|█▎        | 134968/1057452 [00:00<00:01, 674732.06it/s]"
     ]
    },
    {
     "name": "stderr",
     "output_type": "stream",
     "text": [
      "\rDictClassTransformer transform:  23%|██▎       | 242462/1057452 [00:00<00:01, 808101.47it/s]"
     ]
    },
    {
     "name": "stderr",
     "output_type": "stream",
     "text": [
      "\rDictClassTransformer transform:  34%|███▍      | 357760/1057452 [00:00<00:00, 894308.64it/s]"
     ]
    },
    {
     "name": "stderr",
     "output_type": "stream",
     "text": [
      "\rDictClassTransformer transform:  44%|████▍     | 467533/1057452 [00:00<00:00, 934998.68it/s]"
     ]
    },
    {
     "name": "stderr",
     "output_type": "stream",
     "text": [
      "\rDictClassTransformer transform:  54%|█████▍    | 569301/1057452 [00:00<00:00, 948771.81it/s]"
     ]
    },
    {
     "name": "stderr",
     "output_type": "stream",
     "text": [
      "\rDictClassTransformer transform:  63%|██████▎   | 670597/1057452 [00:00<00:00, 957938.23it/s]"
     ]
    },
    {
     "name": "stderr",
     "output_type": "stream",
     "text": [
      "\rDictClassTransformer transform:  72%|███████▏  | 764279/1057452 [00:00<00:00, 951946.65it/s]"
     ]
    },
    {
     "name": "stderr",
     "output_type": "stream",
     "text": [
      "\rDictClassTransformer transform:  81%|████████  | 857831/1057452 [00:00<00:00, 950085.45it/s]"
     ]
    },
    {
     "name": "stderr",
     "output_type": "stream",
     "text": [
      "\rDictClassTransformer transform:  90%|████████▉ | 950936/1057452 [00:01<00:00, 948093.73it/s]"
     ]
    },
    {
     "name": "stderr",
     "output_type": "stream",
     "text": [
      "\rDictClassTransformer transform:  99%|█████████▉| 1048171/1057452 [00:01<00:00, 950298.69it/s]"
     ]
    },
    {
     "name": "stderr",
     "output_type": "stream",
     "text": [
      "\rDictClassTransformer transform: 100%|██████████| 1057452/1057452 [00:01<00:00, 913135.65it/s]"
     ]
    },
    {
     "name": "stderr",
     "output_type": "stream",
     "text": [
      "\n"
     ]
    },
    {
     "name": "stderr",
     "output_type": "stream",
     "text": [
      "\rDictClassTransformer transform:   0%|          | 0/1057452 [00:00<?, ?it/s]"
     ]
    },
    {
     "name": "stderr",
     "output_type": "stream",
     "text": [
      "\rDictClassTransformer transform:   4%|▍         | 45057/1057452 [00:00<00:02, 450429.75it/s]"
     ]
    },
    {
     "name": "stderr",
     "output_type": "stream",
     "text": [
      "\rDictClassTransformer transform:  14%|█▍        | 147740/1057452 [00:00<00:01, 738581.84it/s]"
     ]
    },
    {
     "name": "stderr",
     "output_type": "stream",
     "text": [
      "\rDictClassTransformer transform:  24%|██▍       | 258621/1057452 [00:00<00:00, 861961.22it/s]"
     ]
    },
    {
     "name": "stderr",
     "output_type": "stream",
     "text": [
      "\rDictClassTransformer transform:  36%|███▌      | 376963/1057452 [00:00<00:00, 942329.76it/s]"
     ]
    },
    {
     "name": "stderr",
     "output_type": "stream",
     "text": [
      "\rDictClassTransformer transform:  48%|████▊     | 505014/1057452 [00:00<00:00, 1009957.69it/s]"
     ]
    },
    {
     "name": "stderr",
     "output_type": "stream",
     "text": [
      "\rDictClassTransformer transform:  59%|█████▉    | 625047/1057452 [00:00<00:00, 1041681.01it/s]"
     ]
    },
    {
     "name": "stderr",
     "output_type": "stream",
     "text": [
      "\rDictClassTransformer transform:  70%|███████   | 740893/1057452 [00:00<00:00, 1058349.29it/s]"
     ]
    },
    {
     "name": "stderr",
     "output_type": "stream",
     "text": [
      "\rDictClassTransformer transform:  81%|████████  | 851691/1057452 [00:00<00:00, 1064552.58it/s]"
     ]
    },
    {
     "name": "stderr",
     "output_type": "stream",
     "text": [
      "\rDictClassTransformer transform:  93%|█████████▎| 982900/1057452 [00:00<00:00, 1092060.08it/s]"
     ]
    },
    {
     "name": "stderr",
     "output_type": "stream",
     "text": [
      "\rDictClassTransformer transform: 100%|██████████| 1057452/1057452 [00:00<00:00, 1080586.31it/s]"
     ]
    },
    {
     "name": "stderr",
     "output_type": "stream",
     "text": [
      "\n"
     ]
    },
    {
     "name": "stderr",
     "output_type": "stream",
     "text": [
      "\rSimpleTransliterator transform:   0%|          | 0/1057452 [00:00<?, ?it/s]"
     ]
    },
    {
     "name": "stderr",
     "output_type": "stream",
     "text": [
      "\rSimpleTransliterator transform:   2%|▏         | 22518/1057452 [00:00<00:04, 225123.86it/s]"
     ]
    },
    {
     "name": "stderr",
     "output_type": "stream",
     "text": [
      "\rSimpleTransliterator transform:   6%|▌         | 60929/1057452 [00:00<00:03, 304584.29it/s]"
     ]
    },
    {
     "name": "stderr",
     "output_type": "stream",
     "text": [
      "\rSimpleTransliterator transform:  10%|▉         | 102557/1057452 [00:00<00:02, 341798.59it/s]"
     ]
    },
    {
     "name": "stderr",
     "output_type": "stream",
     "text": [
      "\rSimpleTransliterator transform:  14%|█▎        | 144474/1057452 [00:00<00:02, 361120.99it/s]"
     ]
    },
    {
     "name": "stderr",
     "output_type": "stream",
     "text": [
      "\rSimpleTransliterator transform:  17%|█▋        | 182268/1057452 [00:00<00:02, 364486.47it/s]"
     ]
    },
    {
     "name": "stderr",
     "output_type": "stream",
     "text": [
      "\rSimpleTransliterator transform:  21%|██        | 220727/1057452 [00:00<00:02, 367831.18it/s]"
     ]
    },
    {
     "name": "stderr",
     "output_type": "stream",
     "text": [
      "\rSimpleTransliterator transform:  25%|██▌       | 265782/1057452 [00:00<00:02, 379650.14it/s]"
     ]
    },
    {
     "name": "stderr",
     "output_type": "stream",
     "text": [
      "\rSimpleTransliterator transform:  30%|██▉       | 313044/1057452 [00:00<00:01, 391264.91it/s]"
     ]
    },
    {
     "name": "stderr",
     "output_type": "stream",
     "text": [
      "\rSimpleTransliterator transform:  34%|███▍      | 356952/1057452 [00:00<00:01, 396575.89it/s]"
     ]
    },
    {
     "name": "stderr",
     "output_type": "stream",
     "text": [
      "\rSimpleTransliterator transform:  38%|███▊      | 401653/1057452 [00:01<00:01, 401613.26it/s]"
     ]
    },
    {
     "name": "stderr",
     "output_type": "stream",
     "text": [
      "\rSimpleTransliterator transform:  42%|████▏     | 446707/1057452 [00:01<00:01, 406060.08it/s]"
     ]
    },
    {
     "name": "stderr",
     "output_type": "stream",
     "text": [
      "\rSimpleTransliterator transform:  47%|████▋     | 492988/1057452 [00:01<00:01, 410786.75it/s]"
     ]
    },
    {
     "name": "stderr",
     "output_type": "stream",
     "text": [
      "\rSimpleTransliterator transform:  51%|█████     | 537076/1057452 [00:01<00:01, 412735.35it/s]"
     ]
    },
    {
     "name": "stderr",
     "output_type": "stream",
     "text": [
      "\rSimpleTransliterator transform:  55%|█████▍    | 581015/1057452 [00:01<00:01, 409762.24it/s]"
     ]
    },
    {
     "name": "stderr",
     "output_type": "stream",
     "text": [
      "\rSimpleTransliterator transform:  59%|█████▉    | 623070/1057452 [00:01<00:01, 405629.29it/s]"
     ]
    },
    {
     "name": "stderr",
     "output_type": "stream",
     "text": [
      "\rSimpleTransliterator transform:  63%|██████▎   | 663191/1057452 [00:01<00:00, 402802.31it/s]"
     ]
    },
    {
     "name": "stderr",
     "output_type": "stream",
     "text": [
      "\rSimpleTransliterator transform:  67%|██████▋   | 703388/1057452 [00:01<00:00, 402749.07it/s]"
     ]
    },
    {
     "name": "stderr",
     "output_type": "stream",
     "text": [
      "\rSimpleTransliterator transform:  70%|███████   | 742735/1057452 [00:01<00:00, 401668.38it/s]"
     ]
    },
    {
     "name": "stderr",
     "output_type": "stream",
     "text": [
      "\rSimpleTransliterator transform:  74%|███████▍  | 781789/1057452 [00:01<00:00, 401019.85it/s]"
     ]
    },
    {
     "name": "stderr",
     "output_type": "stream",
     "text": [
      "\rSimpleTransliterator transform:  78%|███████▊  | 825262/1057452 [00:02<00:00, 402665.28it/s]"
     ]
    },
    {
     "name": "stderr",
     "output_type": "stream",
     "text": [
      "\rSimpleTransliterator transform:  82%|████████▏ | 871676/1057452 [00:02<00:00, 405523.36it/s]"
     ]
    },
    {
     "name": "stderr",
     "output_type": "stream",
     "text": [
      "\rSimpleTransliterator transform:  86%|████████▋ | 913838/1057452 [00:02<00:00, 405969.59it/s]"
     ]
    },
    {
     "name": "stderr",
     "output_type": "stream",
     "text": [
      "\rSimpleTransliterator transform:  91%|█████████ | 962741/1057452 [00:02<00:00, 409502.59it/s]"
     ]
    },
    {
     "name": "stderr",
     "output_type": "stream",
     "text": [
      "\rSimpleTransliterator transform:  96%|█████████▌| 1010779/1057452 [00:02<00:00, 412393.17it/s]"
     ]
    },
    {
     "name": "stderr",
     "output_type": "stream",
     "text": [
      "\rSimpleTransliterator transform: 100%|██████████| 1057452/1057452 [00:02<00:00, 411227.75it/s]"
     ]
    },
    {
     "name": "stderr",
     "output_type": "stream",
     "text": [
      "\n"
     ]
    },
    {
     "name": "stdout",
     "output_type": "stream",
     "text": [
      "pipeline test TP 0.9504497603673736\npipeline test FP 0.036147267204563426\n"
     ]
    }
   ],
   "source": [
    "transform_chain = ScoredChain([\n",
    "    # ('class', AddClassTransformer('models/class.model.train_1190428_0.00101_0.3_500_6')),\n",
    "    ('digit', DigitTransformer()),\n",
    "    ('dash', DashTransformer()),\n",
    "    ('punсt', DictClassTransformer(u'PUNCT', 1.0)),\n",
    "    ('verbatim', DictClassTransformer(u'VERBATIM', 1.0)),\n",
    "    ('self', SelfTransformer(threshold=0.5, modelpath='models/self.model.train_9517064_0.00117_0.3_500_6')),\n",
    "    ('dict_nbhd', DictNBHDTransformer(0.5)),\n",
    "    ('letters', LettersTransformer()),\n",
    "    ('date', DictClassTransformer(u'DATE', 0.5)),\n",
    "    ('cardinal', DictClassTransformer(u'CARDINAL', 0.5)),\n",
    "    # ('dict', DictTransformer(0.5)),\n",
    "    ('translit', SimpleTransliterator('cyrtranslit')),\n",
    "    # ('flat', FlatTransformer())\n",
    "], metrics=[\n",
    "    ('tp', lambda X: np.mean((X[\"after\"] == y_test)) if 'after' in X.columns else 0.0),\n",
    "    ('fp', lambda X: np.mean((X[\"after\"].notnull()) & ~(X[\"after\"] == y_test)) if 'after' in X.columns else 0.0)\n",
    "])\n",
    "predicted_val = transform_chain.fit(x_train, y_train)\n",
    "predicted = transform_chain.transform(x_test)\n",
    "tp = np.mean((predicted[\"after\"] == y_test))\n",
    "fp = np.mean((predicted[\"after\"].notnull()) & ~(predicted[\"after\"] == y_test))\n",
    "print(f'pipeline test TP {tp}')\n",
    "print(f'pipeline test FP {fp}')"
   ]
  },
  {
   "cell_type": "code",
   "execution_count": 20,
   "metadata": {
    "collapsed": true
   },
   "outputs": [
    {
     "data": {
      "text/plain": [
       "PLAIN         702076\nPUNCT         228102\nCARDINAL       23132\nLETTERS        16812\nVERBATIM       15712\nDATE           14807\nORDINAL         2317\nMEASURE         1219\nDIGIT            217\nELECTRONIC       181\nTELEPHONE        163\nTIME              90\nDECIMAL           76\nFRACTION          25\nMONEY              7\nName: class, dtype: int64"
      ]
     },
     "execution_count": 20,
     "metadata": {},
     "output_type": "execute_result"
    }
   ],
   "source": [
    "predicted[(predicted[\"after\"] == y_test)]['class'].value_counts()"
   ]
  },
  {
   "cell_type": "code",
   "execution_count": 21,
   "metadata": {},
   "outputs": [
    {
     "data": {
      "text/plain": [
       "PLAIN         30044\nCARDINAL       3299\nLETTERS        1604\nPUNCT          1091\nDATE            836\nORDINAL         726\nELECTRONIC      331\nMEASURE          91\nVERBATIM         35\nMONEY            29\nTELEPHONE        11\nFRACTION          5\nTIME              4\nDECIMAL           2\nName: class, dtype: int64"
      ]
     },
     "execution_count": 21,
     "metadata": {},
     "output_type": "execute_result"
    }
   ],
   "source": [
    "predicted[~(predicted[\"after\"] == y_test) & ~(predicted[\"after\"].isnull())]['class'].value_counts()"
   ]
  },
  {
   "cell_type": "code",
   "execution_count": 22,
   "metadata": {},
   "outputs": [
    {
     "data": {
      "text/plain": [
       "PLAIN         3331\nDATE          3096\nMEASURE       2650\nORDINAL       1635\nCARDINAL      1082\nTELEPHONE      831\nDECIMAL        656\nLETTERS        498\nMONEY          228\nFRACTION       220\nTIME           113\nELECTRONIC      67\nVERBATIM         1\nName: class, dtype: int64"
      ]
     },
     "execution_count": 22,
     "metadata": {},
     "output_type": "execute_result"
    }
   ],
   "source": [
    "predicted[(predicted[\"after\"].isnull())]['class'].value_counts()"
   ]
  },
  {
   "cell_type": "code",
   "execution_count": 25,
   "metadata": {
    "collapsed": false
   },
   "outputs": [
    {
     "data": {
      "text/html": [
       "<div>\n",
       "<style scoped>\n",
       "    .dataframe tbody tr th:only-of-type {\n",
       "        vertical-align: middle;\n",
       "    }\n",
       "\n",
       "    .dataframe tbody tr th {\n",
       "        vertical-align: top;\n",
       "    }\n",
       "\n",
       "    .dataframe thead th {\n",
       "        text-align: right;\n",
       "    }\n",
       "</style>\n",
       "<table border=\"1\" class=\"dataframe\">\n",
       "  <thead>\n",
       "    <tr style=\"text-align: right;\">\n",
       "      <th></th>\n",
       "      <th>class</th>\n",
       "      <th>before</th>\n",
       "      <th>before_prev</th>\n",
       "      <th>before_next</th>\n",
       "      <th>after</th>\n",
       "      <th>after_true</th>\n",
       "    </tr>\n",
       "  </thead>\n",
       "  <tbody>\n",
       "    <tr>\n",
       "      <th>1964976</th>\n",
       "      <td>LETTERS</td>\n",
       "      <td>СССР</td>\n",
       "      <td>границ</td>\n",
       "      <td>до</td>\n",
       "      <td>СССР</td>\n",
       "      <td>с с с р</td>\n",
       "    </tr>\n",
       "    <tr>\n",
       "      <th>5103044</th>\n",
       "      <td>LETTERS</td>\n",
       "      <td>РФ</td>\n",
       "      <td>ФСБ</td>\n",
       "      <td>задержала</td>\n",
       "      <td>РФ</td>\n",
       "      <td>р ф</td>\n",
       "    </tr>\n",
       "    <tr>\n",
       "      <th>870096</th>\n",
       "      <td>LETTERS</td>\n",
       "      <td>СССР</td>\n",
       "      <td>ущерб</td>\n",
       "      <td>,</td>\n",
       "      <td>СССР</td>\n",
       "      <td>с с с р</td>\n",
       "    </tr>\n",
       "    <tr>\n",
       "      <th>2181932</th>\n",
       "      <td>LETTERS</td>\n",
       "      <td>СССР</td>\n",
       "      <td>АН</td>\n",
       "      <td>,</td>\n",
       "      <td>СССР</td>\n",
       "      <td>с с с р</td>\n",
       "    </tr>\n",
       "    <tr>\n",
       "      <th>10054206</th>\n",
       "      <td>LETTERS</td>\n",
       "      <td>рф</td>\n",
       "      <td>.</td>\n",
       "      <td>готовы</td>\n",
       "      <td>рф</td>\n",
       "      <td>р ф</td>\n",
       "    </tr>\n",
       "    <tr>\n",
       "      <th>10033995</th>\n",
       "      <td>LETTERS</td>\n",
       "      <td>СССР</td>\n",
       "      <td>комитета</td>\n",
       "      <td>по</td>\n",
       "      <td>СССР</td>\n",
       "      <td>с с с р</td>\n",
       "    </tr>\n",
       "    <tr>\n",
       "      <th>7965248</th>\n",
       "      <td>LETTERS</td>\n",
       "      <td>СССР</td>\n",
       "      <td>народов</td>\n",
       "      <td>.</td>\n",
       "      <td>СССР</td>\n",
       "      <td>с с с р</td>\n",
       "    </tr>\n",
       "    <tr>\n",
       "      <th>1983284</th>\n",
       "      <td>LETTERS</td>\n",
       "      <td>СССР</td>\n",
       "      <td>вод</td>\n",
       "      <td>:</td>\n",
       "      <td>СССР</td>\n",
       "      <td>с с с р</td>\n",
       "    </tr>\n",
       "    <tr>\n",
       "      <th>798254</th>\n",
       "      <td>LETTERS</td>\n",
       "      <td>СССР</td>\n",
       "      <td>спорта</td>\n",
       "      <td>международного</td>\n",
       "      <td>СССР</td>\n",
       "      <td>с с с р</td>\n",
       "    </tr>\n",
       "    <tr>\n",
       "      <th>3442057</th>\n",
       "      <td>LETTERS</td>\n",
       "      <td>Флайнн</td>\n",
       "      <td>мак</td>\n",
       "      <td>скончался</td>\n",
       "      <td>Флайнн</td>\n",
       "      <td>ф л а й н н</td>\n",
       "    </tr>\n",
       "    <tr>\n",
       "      <th>5903871</th>\n",
       "      <td>LETTERS</td>\n",
       "      <td>СССР</td>\n",
       "      <td>территорию</td>\n",
       "      <td>.</td>\n",
       "      <td>СССР</td>\n",
       "      <td>с с с р</td>\n",
       "    </tr>\n",
       "    <tr>\n",
       "      <th>4441897</th>\n",
       "      <td>LETTERS</td>\n",
       "      <td>РСФСР</td>\n",
       "      <td>Совета</td>\n",
       "      <td>19 сентября 1990 года</td>\n",
       "      <td>РСФСР</td>\n",
       "      <td>р с ф с р</td>\n",
       "    </tr>\n",
       "    <tr>\n",
       "      <th>9210779</th>\n",
       "      <td>LETTERS</td>\n",
       "      <td>СССР</td>\n",
       "      <td>Азербайджанской</td>\n",
       "      <td>(</td>\n",
       "      <td>СССР</td>\n",
       "      <td>с с с р</td>\n",
       "    </tr>\n",
       "    <tr>\n",
       "      <th>2931277</th>\n",
       "      <td>LETTERS</td>\n",
       "      <td>Аст</td>\n",
       "      <td>Издательство</td>\n",
       "      <td>,</td>\n",
       "      <td>Аст</td>\n",
       "      <td>а с т</td>\n",
       "    </tr>\n",
       "    <tr>\n",
       "      <th>2626339</th>\n",
       "      <td>LETTERS</td>\n",
       "      <td>СССР</td>\n",
       "      <td>покинул</td>\n",
       "      <td>в</td>\n",
       "      <td>СССР</td>\n",
       "      <td>с с с р</td>\n",
       "    </tr>\n",
       "    <tr>\n",
       "      <th>471289</th>\n",
       "      <td>LETTERS</td>\n",
       "      <td>СССР</td>\n",
       "      <td>бывшего</td>\n",
       "      <td>и</td>\n",
       "      <td>СССР</td>\n",
       "      <td>с с с р</td>\n",
       "    </tr>\n",
       "    <tr>\n",
       "      <th>8286248</th>\n",
       "      <td>LETTERS</td>\n",
       "      <td>РФ</td>\n",
       "      <td>президента</td>\n",
       "      <td>в</td>\n",
       "      <td>РФ</td>\n",
       "      <td>р ф</td>\n",
       "    </tr>\n",
       "    <tr>\n",
       "      <th>6655758</th>\n",
       "      <td>LETTERS</td>\n",
       "      <td>СССР</td>\n",
       "      <td>В</td>\n",
       "      <td>имя</td>\n",
       "      <td>СССР</td>\n",
       "      <td>с с с р</td>\n",
       "    </tr>\n",
       "    <tr>\n",
       "      <th>1807076</th>\n",
       "      <td>LETTERS</td>\n",
       "      <td>СССР</td>\n",
       "      <td>художеств</td>\n",
       "      <td>.</td>\n",
       "      <td>СССР</td>\n",
       "      <td>с с с р</td>\n",
       "    </tr>\n",
       "    <tr>\n",
       "      <th>4592178</th>\n",
       "      <td>LETTERS</td>\n",
       "      <td>Аджба</td>\n",
       "      <td>Кучович</td>\n",
       "      <td>(</td>\n",
       "      <td>Аджба</td>\n",
       "      <td>а д ж б а</td>\n",
       "    </tr>\n",
       "  </tbody>\n",
       "</table>\n",
       "</div>"
      ],
      "text/plain": [
       "<div>\n",
       "<style scoped>\n",
       "    .dataframe tbody tr th:only-of-type {\n",
       "        vertical-align: middle;\n",
       "    }\n",
       "\n",
       "    .dataframe tbody tr th {\n",
       "        vertical-align: top;\n",
       "    }\n",
       "\n",
       "    .dataframe thead th {\n",
       "        text-align: right;\n",
       "    }\n",
       "</style>\n",
       "<table border=\"1\" class=\"dataframe\">\n",
       "  <thead>\n",
       "    <tr style=\"text-align: right;\">\n",
       "      <th></th>\n",
       "      <th>class</th>\n",
       "      <th>before</th>\n",
       "      <th>before_prev</th>\n",
       "      <th>before_next</th>\n",
       "      <th>after</th>\n",
       "      <th>after_true</th>\n",
       "    </tr>\n",
       "  </thead>\n",
       "  <tbody>\n",
       "    <tr>\n",
       "      <th>1964976</th>\n",
       "      <td>LETTERS</td>\n",
       "      <td>СССР</td>\n",
       "      <td>границ</td>\n",
       "      <td>до</td>\n",
       "      <td>СССР</td>\n",
       "      <td>с с с р</td>\n",
       "    </tr>\n",
       "    <tr>\n",
       "      <th>5103044</th>\n",
       "      <td>LETTERS</td>\n",
       "      <td>РФ</td>\n",
       "      <td>ФСБ</td>\n",
       "      <td>задержала</td>\n",
       "      <td>РФ</td>\n",
       "      <td>р ф</td>\n",
       "    </tr>\n",
       "    <tr>\n",
       "      <th>870096</th>\n",
       "      <td>LETTERS</td>\n",
       "      <td>СССР</td>\n",
       "      <td>ущерб</td>\n",
       "      <td>,</td>\n",
       "      <td>СССР</td>\n",
       "      <td>с с с р</td>\n",
       "    </tr>\n",
       "    <tr>\n",
       "      <th>2181932</th>\n",
       "      <td>LETTERS</td>\n",
       "      <td>СССР</td>\n",
       "      <td>АН</td>\n",
       "      <td>,</td>\n",
       "      <td>СССР</td>\n",
       "      <td>с с с р</td>\n",
       "    </tr>\n",
       "    <tr>\n",
       "      <th>10054206</th>\n",
       "      <td>LETTERS</td>\n",
       "      <td>рф</td>\n",
       "      <td>.</td>\n",
       "      <td>готовы</td>\n",
       "      <td>рф</td>\n",
       "      <td>р ф</td>\n",
       "    </tr>\n",
       "    <tr>\n",
       "      <th>10033995</th>\n",
       "      <td>LETTERS</td>\n",
       "      <td>СССР</td>\n",
       "      <td>комитета</td>\n",
       "      <td>по</td>\n",
       "      <td>СССР</td>\n",
       "      <td>с с с р</td>\n",
       "    </tr>\n",
       "    <tr>\n",
       "      <th>7965248</th>\n",
       "      <td>LETTERS</td>\n",
       "      <td>СССР</td>\n",
       "      <td>народов</td>\n",
       "      <td>.</td>\n",
       "      <td>СССР</td>\n",
       "      <td>с с с р</td>\n",
       "    </tr>\n",
       "    <tr>\n",
       "      <th>1983284</th>\n",
       "      <td>LETTERS</td>\n",
       "      <td>СССР</td>\n",
       "      <td>вод</td>\n",
       "      <td>:</td>\n",
       "      <td>СССР</td>\n",
       "      <td>с с с р</td>\n",
       "    </tr>\n",
       "    <tr>\n",
       "      <th>798254</th>\n",
       "      <td>LETTERS</td>\n",
       "      <td>СССР</td>\n",
       "      <td>спорта</td>\n",
       "      <td>международного</td>\n",
       "      <td>СССР</td>\n",
       "      <td>с с с р</td>\n",
       "    </tr>\n",
       "    <tr>\n",
       "      <th>3442057</th>\n",
       "      <td>LETTERS</td>\n",
       "      <td>Флайнн</td>\n",
       "      <td>мак</td>\n",
       "      <td>скончался</td>\n",
       "      <td>Флайнн</td>\n",
       "      <td>ф л а й н н</td>\n",
       "    </tr>\n",
       "    <tr>\n",
       "      <th>5903871</th>\n",
       "      <td>LETTERS</td>\n",
       "      <td>СССР</td>\n",
       "      <td>территорию</td>\n",
       "      <td>.</td>\n",
       "      <td>СССР</td>\n",
       "      <td>с с с р</td>\n",
       "    </tr>\n",
       "    <tr>\n",
       "      <th>4441897</th>\n",
       "      <td>LETTERS</td>\n",
       "      <td>РСФСР</td>\n",
       "      <td>Совета</td>\n",
       "      <td>19 сентября 1990 года</td>\n",
       "      <td>РСФСР</td>\n",
       "      <td>р с ф с р</td>\n",
       "    </tr>\n",
       "    <tr>\n",
       "      <th>9210779</th>\n",
       "      <td>LETTERS</td>\n",
       "      <td>СССР</td>\n",
       "      <td>Азербайджанской</td>\n",
       "      <td>(</td>\n",
       "      <td>СССР</td>\n",
       "      <td>с с с р</td>\n",
       "    </tr>\n",
       "    <tr>\n",
       "      <th>2931277</th>\n",
       "      <td>LETTERS</td>\n",
       "      <td>Аст</td>\n",
       "      <td>Издательство</td>\n",
       "      <td>,</td>\n",
       "      <td>Аст</td>\n",
       "      <td>а с т</td>\n",
       "    </tr>\n",
       "    <tr>\n",
       "      <th>2626339</th>\n",
       "      <td>LETTERS</td>\n",
       "      <td>СССР</td>\n",
       "      <td>покинул</td>\n",
       "      <td>в</td>\n",
       "      <td>СССР</td>\n",
       "      <td>с с с р</td>\n",
       "    </tr>\n",
       "    <tr>\n",
       "      <th>471289</th>\n",
       "      <td>LETTERS</td>\n",
       "      <td>СССР</td>\n",
       "      <td>бывшего</td>\n",
       "      <td>и</td>\n",
       "      <td>СССР</td>\n",
       "      <td>с с с р</td>\n",
       "    </tr>\n",
       "    <tr>\n",
       "      <th>8286248</th>\n",
       "      <td>LETTERS</td>\n",
       "      <td>РФ</td>\n",
       "      <td>президента</td>\n",
       "      <td>в</td>\n",
       "      <td>РФ</td>\n",
       "      <td>р ф</td>\n",
       "    </tr>\n",
       "    <tr>\n",
       "      <th>6655758</th>\n",
       "      <td>LETTERS</td>\n",
       "      <td>СССР</td>\n",
       "      <td>В</td>\n",
       "      <td>имя</td>\n",
       "      <td>СССР</td>\n",
       "      <td>с с с р</td>\n",
       "    </tr>\n",
       "    <tr>\n",
       "      <th>1807076</th>\n",
       "      <td>LETTERS</td>\n",
       "      <td>СССР</td>\n",
       "      <td>художеств</td>\n",
       "      <td>.</td>\n",
       "      <td>СССР</td>\n",
       "      <td>с с с р</td>\n",
       "    </tr>\n",
       "    <tr>\n",
       "      <th>4592178</th>\n",
       "      <td>LETTERS</td>\n",
       "      <td>Аджба</td>\n",
       "      <td>Кучович</td>\n",
       "      <td>(</td>\n",
       "      <td>Аджба</td>\n",
       "      <td>а д ж б а</td>\n",
       "    </tr>\n",
       "  </tbody>\n",
       "</table>\n",
       "</div>"
      ]
     },
     "execution_count": 25,
     "metadata": {},
     "output_type": "execute_result"
    }
   ],
   "source": [
    "predicted[~(predicted[\"after\"] == y_test) & ~(predicted[\"after\"].isnull()) & (predicted['class']=='LETTERS')].assign(after_true=y_test).sample(20)"
   ]
  },
  {
   "cell_type": "code",
   "execution_count": 17,
   "metadata": {
    "collapsed": false
   },
   "outputs": [
    {
     "data": {
      "text/html": [
       "<div>\n",
       "<style scoped>\n",
       "    .dataframe tbody tr th:only-of-type {\n",
       "        vertical-align: middle;\n",
       "    }\n",
       "\n",
       "    .dataframe tbody tr th {\n",
       "        vertical-align: top;\n",
       "    }\n",
       "\n",
       "    .dataframe thead th {\n",
       "        text-align: right;\n",
       "    }\n",
       "</style>\n",
       "<table border=\"1\" class=\"dataframe\">\n",
       "  <thead>\n",
       "    <tr style=\"text-align: right;\">\n",
       "      <th></th>\n",
       "      <th>class</th>\n",
       "      <th>before</th>\n",
       "      <th>after</th>\n",
       "      <th>before_prev</th>\n",
       "      <th>before_next</th>\n",
       "    </tr>\n",
       "  </thead>\n",
       "  <tbody>\n",
       "    <tr>\n",
       "      <th>40420</th>\n",
       "      <td>FRACTION</td>\n",
       "      <td>7½</td>\n",
       "      <td>семи целых и одной второй</td>\n",
       "      <td>около</td>\n",
       "      <td>фунтов</td>\n",
       "    </tr>\n",
       "    <tr>\n",
       "      <th>157446</th>\n",
       "      <td>FRACTION</td>\n",
       "      <td>3½</td>\n",
       "      <td>три целых и одну вторую</td>\n",
       "      <td>на</td>\n",
       "      <td>очка</td>\n",
       "    </tr>\n",
       "    <tr>\n",
       "      <th>445580</th>\n",
       "      <td>FRACTION</td>\n",
       "      <td>59½</td>\n",
       "      <td>пятидесяти девяти целых и одной второй</td>\n",
       "      <td>139 976 рублей</td>\n",
       "      <td>копейки</td>\n",
       "    </tr>\n",
       "    <tr>\n",
       "      <th>765884</th>\n",
       "      <td>FRACTION</td>\n",
       "      <td>¼</td>\n",
       "      <td>одна четвертая</td>\n",
       "      <td>Второй</td>\n",
       "      <td>финалДата</td>\n",
       "    </tr>\n",
       "    <tr>\n",
       "      <th>803808</th>\n",
       "      <td>FRACTION</td>\n",
       "      <td>½</td>\n",
       "      <td>одна вторая</td>\n",
       "      <td>номиналом</td>\n",
       "      <td>шиллинга</td>\n",
       "    </tr>\n",
       "    <tr>\n",
       "      <th>999135</th>\n",
       "      <td>FRACTION</td>\n",
       "      <td>⅔</td>\n",
       "      <td>две третьих</td>\n",
       "      <td>на</td>\n",
       "      <td>территории</td>\n",
       "    </tr>\n",
       "    <tr>\n",
       "      <th>1253476</th>\n",
       "      <td>FRACTION</td>\n",
       "      <td>½</td>\n",
       "      <td>одна вторая</td>\n",
       "      <td>CrA</td>\n",
       "      <td>gut</td>\n",
       "    </tr>\n",
       "    <tr>\n",
       "      <th>1584453</th>\n",
       "      <td>FRACTION</td>\n",
       "      <td>8½</td>\n",
       "      <td>восемь целых и одна вторая</td>\n",
       "      <td>«</td>\n",
       "      <td>женщин</td>\n",
       "    </tr>\n",
       "    <tr>\n",
       "      <th>1584466</th>\n",
       "      <td>FRACTION</td>\n",
       "      <td>8½</td>\n",
       "      <td>восемь целых и одна вторая</td>\n",
       "      <td>.</td>\n",
       "      <td>Women</td>\n",
       "    </tr>\n",
       "    <tr>\n",
       "      <th>1876892</th>\n",
       "      <td>FRACTION</td>\n",
       "      <td>½</td>\n",
       "      <td>одна вторая</td>\n",
       "      <td>в</td>\n",
       "      <td>,</td>\n",
       "    </tr>\n",
       "    <tr>\n",
       "      <th>1876899</th>\n",
       "      <td>FRACTION</td>\n",
       "      <td>¼</td>\n",
       "      <td>одна четвертая</td>\n",
       "      <td>и</td>\n",
       "      <td>и</td>\n",
       "    </tr>\n",
       "    <tr>\n",
       "      <th>1876901</th>\n",
       "      <td>FRACTION</td>\n",
       "      <td>½</td>\n",
       "      <td>одна вторая</td>\n",
       "      <td>и</td>\n",
       "      <td>рупий</td>\n",
       "    </tr>\n",
       "    <tr>\n",
       "      <th>1921150</th>\n",
       "      <td>FRACTION</td>\n",
       "      <td>5 ½</td>\n",
       "      <td>пять целых и одна вторая</td>\n",
       "      <td>—</td>\n",
       "      <td>обеж</td>\n",
       "    </tr>\n",
       "    <tr>\n",
       "      <th>1949935</th>\n",
       "      <td>FRACTION</td>\n",
       "      <td>½</td>\n",
       "      <td>одна вторая</td>\n",
       "      <td>ничью</td>\n",
       "      <td>очка</td>\n",
       "    </tr>\n",
       "    <tr>\n",
       "      <th>2023480</th>\n",
       "      <td>FRACTION</td>\n",
       "      <td>½</td>\n",
       "      <td>одна вторая</td>\n",
       "      <td>состояло</td>\n",
       "      <td>дес</td>\n",
       "    </tr>\n",
       "    <tr>\n",
       "      <th>2023485</th>\n",
       "      <td>FRACTION</td>\n",
       "      <td>2 ¾</td>\n",
       "      <td>две целых и три четвертых</td>\n",
       "      <td>усадебной</td>\n",
       "      <td>дес</td>\n",
       "    </tr>\n",
       "    <tr>\n",
       "      <th>2271189</th>\n",
       "      <td>FRACTION</td>\n",
       "      <td>282½</td>\n",
       "      <td>двумястами восьмьюдесятью двумя целыми и одной...</td>\n",
       "      <td>выпущено</td>\n",
       "      <td>тысяч</td>\n",
       "    </tr>\n",
       "    <tr>\n",
       "      <th>2315287</th>\n",
       "      <td>FRACTION</td>\n",
       "      <td>6½</td>\n",
       "      <td>шесть целых и одну вторую</td>\n",
       "      <td>набрав</td>\n",
       "      <td>очков</td>\n",
       "    </tr>\n",
       "    <tr>\n",
       "      <th>2496593</th>\n",
       "      <td>FRACTION</td>\n",
       "      <td>8½</td>\n",
       "      <td>восемь целых и одна вторая</td>\n",
       "      <td>матча</td>\n",
       "      <td>:</td>\n",
       "    </tr>\n",
       "    <tr>\n",
       "      <th>2496595</th>\n",
       "      <td>FRACTION</td>\n",
       "      <td>3½</td>\n",
       "      <td>три целых и одна вторая</td>\n",
       "      <td>:</td>\n",
       "      <td>в</td>\n",
       "    </tr>\n",
       "    <tr>\n",
       "      <th>2812456</th>\n",
       "      <td>FRACTION</td>\n",
       "      <td>2½</td>\n",
       "      <td>две целых и одну вторую</td>\n",
       "      <td>на</td>\n",
       "      <td>тысячи</td>\n",
       "    </tr>\n",
       "    <tr>\n",
       "      <th>3172820</th>\n",
       "      <td>FRACTION</td>\n",
       "      <td>¾</td>\n",
       "      <td>три четвертых</td>\n",
       "      <td>в</td>\n",
       "      <td>от</td>\n",
       "    </tr>\n",
       "    <tr>\n",
       "      <th>3220263</th>\n",
       "      <td>FRACTION</td>\n",
       "      <td>2½</td>\n",
       "      <td>две целых и одна вторая</td>\n",
       "      <td>—</td>\n",
       "      <td>:</td>\n",
       "    </tr>\n",
       "    <tr>\n",
       "      <th>3220265</th>\n",
       "      <td>FRACTION</td>\n",
       "      <td>1½</td>\n",
       "      <td>одна целая и одна вторая</td>\n",
       "      <td>:</td>\n",
       "      <td>.</td>\n",
       "    </tr>\n",
       "    <tr>\n",
       "      <th>3250501</th>\n",
       "      <td>FRACTION</td>\n",
       "      <td>1 ½</td>\n",
       "      <td>одна целая и одна вторая</td>\n",
       "      <td>.</td>\n",
       "      <td>роты</td>\n",
       "    </tr>\n",
       "    <tr>\n",
       "      <th>3395752</th>\n",
       "      <td>FRACTION</td>\n",
       "      <td>½</td>\n",
       "      <td>одна вторая</td>\n",
       "      <td>Более</td>\n",
       "      <td>валовой</td>\n",
       "    </tr>\n",
       "    <tr>\n",
       "      <th>3417776</th>\n",
       "      <td>FRACTION</td>\n",
       "      <td>3½</td>\n",
       "      <td>три целых и одна вторая</td>\n",
       "      <td>счетом</td>\n",
       "      <td>:</td>\n",
       "    </tr>\n",
       "    <tr>\n",
       "      <th>3417778</th>\n",
       "      <td>FRACTION</td>\n",
       "      <td>2½</td>\n",
       "      <td>две целых и одна вторая</td>\n",
       "      <td>:</td>\n",
       "      <td>и</td>\n",
       "    </tr>\n",
       "    <tr>\n",
       "      <th>3478079</th>\n",
       "      <td>FRACTION</td>\n",
       "      <td>¼</td>\n",
       "      <td>одна четвертая</td>\n",
       "      <td>в</td>\n",
       "      <td>финала</td>\n",
       "    </tr>\n",
       "    <tr>\n",
       "      <th>3488898</th>\n",
       "      <td>FRACTION</td>\n",
       "      <td>¾</td>\n",
       "      <td>три четвертых</td>\n",
       "      <td>~</td>\n",
       "      <td>)</td>\n",
       "    </tr>\n",
       "    <tr>\n",
       "      <th>...</th>\n",
       "      <td>...</td>\n",
       "      <td>...</td>\n",
       "      <td>...</td>\n",
       "      <td>...</td>\n",
       "      <td>...</td>\n",
       "    </tr>\n",
       "    <tr>\n",
       "      <th>5646924</th>\n",
       "      <td>FRACTION</td>\n",
       "      <td>10½</td>\n",
       "      <td>десяти целых и одной второй</td>\n",
       "      <td>в</td>\n",
       "      <td>главах</td>\n",
       "    </tr>\n",
       "    <tr>\n",
       "      <th>5710816</th>\n",
       "      <td>FRACTION</td>\n",
       "      <td>6½</td>\n",
       "      <td>шесть целых и одна вторая</td>\n",
       "      <td>(</td>\n",
       "      <td>:</td>\n",
       "    </tr>\n",
       "    <tr>\n",
       "      <th>5710818</th>\n",
       "      <td>FRACTION</td>\n",
       "      <td>4½</td>\n",
       "      <td>четыре целых и одна вторая</td>\n",
       "      <td>:</td>\n",
       "      <td>)</td>\n",
       "    </tr>\n",
       "    <tr>\n",
       "      <th>5743241</th>\n",
       "      <td>FRACTION</td>\n",
       "      <td>2½</td>\n",
       "      <td>двух целых и одной второй</td>\n",
       "      <td>и</td>\n",
       "      <td>года</td>\n",
       "    </tr>\n",
       "    <tr>\n",
       "      <th>6011771</th>\n",
       "      <td>FRACTION</td>\n",
       "      <td>4 ½</td>\n",
       "      <td>четыре целых и одну вторую</td>\n",
       "      <td>Invicta</td>\n",
       "      <td>litre</td>\n",
       "    </tr>\n",
       "    <tr>\n",
       "      <th>6260409</th>\n",
       "      <td>FRACTION</td>\n",
       "      <td>1¼</td>\n",
       "      <td>одной целой и одной четвертой</td>\n",
       "      <td>до</td>\n",
       "      <td>аршина</td>\n",
       "    </tr>\n",
       "    <tr>\n",
       "      <th>6452616</th>\n",
       "      <td>FRACTION</td>\n",
       "      <td>9½</td>\n",
       "      <td>девять целых и одна вторая</td>\n",
       "      <td>по</td>\n",
       "      <td>.</td>\n",
       "    </tr>\n",
       "    <tr>\n",
       "      <th>6800651</th>\n",
       "      <td>FRACTION</td>\n",
       "      <td>½</td>\n",
       "      <td>одна вторая</td>\n",
       "      <td>Ранма</td>\n",
       "      <td>»</td>\n",
       "    </tr>\n",
       "    <tr>\n",
       "      <th>7253139</th>\n",
       "      <td>FRACTION</td>\n",
       "      <td>10½</td>\n",
       "      <td>десять целых и одну вторую</td>\n",
       "      <td>по</td>\n",
       "      <td>очков</td>\n",
       "    </tr>\n",
       "    <tr>\n",
       "      <th>7612900</th>\n",
       "      <td>FRACTION</td>\n",
       "      <td>⅔</td>\n",
       "      <td>две третьих</td>\n",
       "      <td>ленивца</td>\n",
       "      <td>веса</td>\n",
       "    </tr>\n",
       "    <tr>\n",
       "      <th>8033344</th>\n",
       "      <td>FRACTION</td>\n",
       "      <td>5¼</td>\n",
       "      <td>пятью целыми и одной четвертой</td>\n",
       "      <td>двусторонними</td>\n",
       "      <td>дюймовыми</td>\n",
       "    </tr>\n",
       "    <tr>\n",
       "      <th>8259581</th>\n",
       "      <td>FRACTION</td>\n",
       "      <td>8½</td>\n",
       "      <td>восьми целым и одной второй</td>\n",
       "      <td>по</td>\n",
       "      <td>очков</td>\n",
       "    </tr>\n",
       "    <tr>\n",
       "      <th>8283325</th>\n",
       "      <td>FRACTION</td>\n",
       "      <td>2½</td>\n",
       "      <td>две целых и одна вторая</td>\n",
       "      <td>—</td>\n",
       "      <td>:</td>\n",
       "    </tr>\n",
       "    <tr>\n",
       "      <th>8283327</th>\n",
       "      <td>FRACTION</td>\n",
       "      <td>1½</td>\n",
       "      <td>одна целая и одна вторая</td>\n",
       "      <td>:</td>\n",
       "      <td>.</td>\n",
       "    </tr>\n",
       "    <tr>\n",
       "      <th>8317226</th>\n",
       "      <td>FRACTION</td>\n",
       "      <td>¼</td>\n",
       "      <td>одна четвертая</td>\n",
       "      <td>занимавшая</td>\n",
       "      <td>часть</td>\n",
       "    </tr>\n",
       "    <tr>\n",
       "      <th>8355301</th>\n",
       "      <td>FRACTION</td>\n",
       "      <td>6½</td>\n",
       "      <td>шесть целых и одну вторую</td>\n",
       "      <td>набрал</td>\n",
       "      <td>очков</td>\n",
       "    </tr>\n",
       "    <tr>\n",
       "      <th>8457757</th>\n",
       "      <td>FRACTION</td>\n",
       "      <td>½</td>\n",
       "      <td>одна вторая</td>\n",
       "      <td>находилась</td>\n",
       "      <td>германской</td>\n",
       "    </tr>\n",
       "    <tr>\n",
       "      <th>8627416</th>\n",
       "      <td>FRACTION</td>\n",
       "      <td>⅔</td>\n",
       "      <td>двух третьих</td>\n",
       "      <td>более</td>\n",
       "      <td>)</td>\n",
       "    </tr>\n",
       "    <tr>\n",
       "      <th>8717346</th>\n",
       "      <td>FRACTION</td>\n",
       "      <td>¼</td>\n",
       "      <td>одна четвертая</td>\n",
       "      <td>составлял</td>\n",
       "      <td>рупии</td>\n",
       "    </tr>\n",
       "    <tr>\n",
       "      <th>8737281</th>\n",
       "      <td>FRACTION</td>\n",
       "      <td>3 ½</td>\n",
       "      <td>три целых и одна вторая</td>\n",
       "      <td>—</td>\n",
       "      <td>октавы</td>\n",
       "    </tr>\n",
       "    <tr>\n",
       "      <th>8984892</th>\n",
       "      <td>FRACTION</td>\n",
       "      <td>½</td>\n",
       "      <td>одной второй</td>\n",
       "      <td>от</td>\n",
       "      <td>-</td>\n",
       "    </tr>\n",
       "    <tr>\n",
       "      <th>8984894</th>\n",
       "      <td>FRACTION</td>\n",
       "      <td>¾</td>\n",
       "      <td>трех четвертых</td>\n",
       "      <td>-</td>\n",
       "      <td>мм</td>\n",
       "    </tr>\n",
       "    <tr>\n",
       "      <th>9080276</th>\n",
       "      <td>FRACTION</td>\n",
       "      <td>9½</td>\n",
       "      <td>девять целых и одна вторая</td>\n",
       "      <td>по</td>\n",
       "      <td>.</td>\n",
       "    </tr>\n",
       "    <tr>\n",
       "      <th>9080375</th>\n",
       "      <td>FRACTION</td>\n",
       "      <td>10½</td>\n",
       "      <td>десять целых и одна вторая</td>\n",
       "      <td>—</td>\n",
       "      <td>.</td>\n",
       "    </tr>\n",
       "    <tr>\n",
       "      <th>9083227</th>\n",
       "      <td>FRACTION</td>\n",
       "      <td>3½</td>\n",
       "      <td>три целых и одна вторая</td>\n",
       "      <td>—</td>\n",
       "      <td>;</td>\n",
       "    </tr>\n",
       "    <tr>\n",
       "      <th>9768976</th>\n",
       "      <td>FRACTION</td>\n",
       "      <td>2½</td>\n",
       "      <td>две целых и одна вторая</td>\n",
       "      <td>«</td>\n",
       "      <td>часа</td>\n",
       "    </tr>\n",
       "    <tr>\n",
       "      <th>9918776</th>\n",
       "      <td>FRACTION</td>\n",
       "      <td>9 ¾</td>\n",
       "      <td>девять целых и три четвертых</td>\n",
       "      <td>платформы</td>\n",
       "      <td>.</td>\n",
       "    </tr>\n",
       "    <tr>\n",
       "      <th>9921668</th>\n",
       "      <td>FRACTION</td>\n",
       "      <td>¾</td>\n",
       "      <td>три четвертых</td>\n",
       "      <td>занимали</td>\n",
       "      <td>длины</td>\n",
       "    </tr>\n",
       "    <tr>\n",
       "      <th>10013235</th>\n",
       "      <td>FRACTION</td>\n",
       "      <td>½</td>\n",
       "      <td>одна вторая</td>\n",
       "      <td>равная</td>\n",
       "      <td>асса</td>\n",
       "    </tr>\n",
       "    <tr>\n",
       "      <th>10277345</th>\n",
       "      <td>FRACTION</td>\n",
       "      <td>6¾</td>\n",
       "      <td>шесть целых и три четвертых</td>\n",
       "      <td>диска</td>\n",
       "      <td>'</td>\n",
       "    </tr>\n",
       "  </tbody>\n",
       "</table>\n",
       "<p>75 rows × 5 columns</p>\n",
       "</div>"
      ],
      "text/plain": [
       "<div>\n",
       "<style scoped>\n",
       "    .dataframe tbody tr th:only-of-type {\n",
       "        vertical-align: middle;\n",
       "    }\n",
       "\n",
       "    .dataframe tbody tr th {\n",
       "        vertical-align: top;\n",
       "    }\n",
       "\n",
       "    .dataframe thead th {\n",
       "        text-align: right;\n",
       "    }\n",
       "</style>\n",
       "<table border=\"1\" class=\"dataframe\">\n",
       "  <thead>\n",
       "    <tr style=\"text-align: right;\">\n",
       "      <th></th>\n",
       "      <th>class</th>\n",
       "      <th>before</th>\n",
       "      <th>after</th>\n",
       "      <th>before_prev</th>\n",
       "      <th>before_next</th>\n",
       "    </tr>\n",
       "  </thead>\n",
       "  <tbody>\n",
       "    <tr>\n",
       "      <th>40420</th>\n",
       "      <td>FRACTION</td>\n",
       "      <td>7½</td>\n",
       "      <td>семи целых и одной второй</td>\n",
       "      <td>около</td>\n",
       "      <td>фунтов</td>\n",
       "    </tr>\n",
       "    <tr>\n",
       "      <th>157446</th>\n",
       "      <td>FRACTION</td>\n",
       "      <td>3½</td>\n",
       "      <td>три целых и одну вторую</td>\n",
       "      <td>на</td>\n",
       "      <td>очка</td>\n",
       "    </tr>\n",
       "    <tr>\n",
       "      <th>445580</th>\n",
       "      <td>FRACTION</td>\n",
       "      <td>59½</td>\n",
       "      <td>пятидесяти девяти целых и одной второй</td>\n",
       "      <td>139 976 рублей</td>\n",
       "      <td>копейки</td>\n",
       "    </tr>\n",
       "    <tr>\n",
       "      <th>765884</th>\n",
       "      <td>FRACTION</td>\n",
       "      <td>¼</td>\n",
       "      <td>одна четвертая</td>\n",
       "      <td>Второй</td>\n",
       "      <td>финалДата</td>\n",
       "    </tr>\n",
       "    <tr>\n",
       "      <th>803808</th>\n",
       "      <td>FRACTION</td>\n",
       "      <td>½</td>\n",
       "      <td>одна вторая</td>\n",
       "      <td>номиналом</td>\n",
       "      <td>шиллинга</td>\n",
       "    </tr>\n",
       "    <tr>\n",
       "      <th>999135</th>\n",
       "      <td>FRACTION</td>\n",
       "      <td>⅔</td>\n",
       "      <td>две третьих</td>\n",
       "      <td>на</td>\n",
       "      <td>территории</td>\n",
       "    </tr>\n",
       "    <tr>\n",
       "      <th>1253476</th>\n",
       "      <td>FRACTION</td>\n",
       "      <td>½</td>\n",
       "      <td>одна вторая</td>\n",
       "      <td>CrA</td>\n",
       "      <td>gut</td>\n",
       "    </tr>\n",
       "    <tr>\n",
       "      <th>1584453</th>\n",
       "      <td>FRACTION</td>\n",
       "      <td>8½</td>\n",
       "      <td>восемь целых и одна вторая</td>\n",
       "      <td>«</td>\n",
       "      <td>женщин</td>\n",
       "    </tr>\n",
       "    <tr>\n",
       "      <th>1584466</th>\n",
       "      <td>FRACTION</td>\n",
       "      <td>8½</td>\n",
       "      <td>восемь целых и одна вторая</td>\n",
       "      <td>.</td>\n",
       "      <td>Women</td>\n",
       "    </tr>\n",
       "    <tr>\n",
       "      <th>1876892</th>\n",
       "      <td>FRACTION</td>\n",
       "      <td>½</td>\n",
       "      <td>одна вторая</td>\n",
       "      <td>в</td>\n",
       "      <td>,</td>\n",
       "    </tr>\n",
       "    <tr>\n",
       "      <th>1876899</th>\n",
       "      <td>FRACTION</td>\n",
       "      <td>¼</td>\n",
       "      <td>одна четвертая</td>\n",
       "      <td>и</td>\n",
       "      <td>и</td>\n",
       "    </tr>\n",
       "    <tr>\n",
       "      <th>1876901</th>\n",
       "      <td>FRACTION</td>\n",
       "      <td>½</td>\n",
       "      <td>одна вторая</td>\n",
       "      <td>и</td>\n",
       "      <td>рупий</td>\n",
       "    </tr>\n",
       "    <tr>\n",
       "      <th>1921150</th>\n",
       "      <td>FRACTION</td>\n",
       "      <td>5 ½</td>\n",
       "      <td>пять целых и одна вторая</td>\n",
       "      <td>—</td>\n",
       "      <td>обеж</td>\n",
       "    </tr>\n",
       "    <tr>\n",
       "      <th>1949935</th>\n",
       "      <td>FRACTION</td>\n",
       "      <td>½</td>\n",
       "      <td>одна вторая</td>\n",
       "      <td>ничью</td>\n",
       "      <td>очка</td>\n",
       "    </tr>\n",
       "    <tr>\n",
       "      <th>2023480</th>\n",
       "      <td>FRACTION</td>\n",
       "      <td>½</td>\n",
       "      <td>одна вторая</td>\n",
       "      <td>состояло</td>\n",
       "      <td>дес</td>\n",
       "    </tr>\n",
       "    <tr>\n",
       "      <th>2023485</th>\n",
       "      <td>FRACTION</td>\n",
       "      <td>2 ¾</td>\n",
       "      <td>две целых и три четвертых</td>\n",
       "      <td>усадебной</td>\n",
       "      <td>дес</td>\n",
       "    </tr>\n",
       "    <tr>\n",
       "      <th>2271189</th>\n",
       "      <td>FRACTION</td>\n",
       "      <td>282½</td>\n",
       "      <td>двумястами восьмьюдесятью двумя целыми и одной...</td>\n",
       "      <td>выпущено</td>\n",
       "      <td>тысяч</td>\n",
       "    </tr>\n",
       "    <tr>\n",
       "      <th>2315287</th>\n",
       "      <td>FRACTION</td>\n",
       "      <td>6½</td>\n",
       "      <td>шесть целых и одну вторую</td>\n",
       "      <td>набрав</td>\n",
       "      <td>очков</td>\n",
       "    </tr>\n",
       "    <tr>\n",
       "      <th>2496593</th>\n",
       "      <td>FRACTION</td>\n",
       "      <td>8½</td>\n",
       "      <td>восемь целых и одна вторая</td>\n",
       "      <td>матча</td>\n",
       "      <td>:</td>\n",
       "    </tr>\n",
       "    <tr>\n",
       "      <th>2496595</th>\n",
       "      <td>FRACTION</td>\n",
       "      <td>3½</td>\n",
       "      <td>три целых и одна вторая</td>\n",
       "      <td>:</td>\n",
       "      <td>в</td>\n",
       "    </tr>\n",
       "    <tr>\n",
       "      <th>2812456</th>\n",
       "      <td>FRACTION</td>\n",
       "      <td>2½</td>\n",
       "      <td>две целых и одну вторую</td>\n",
       "      <td>на</td>\n",
       "      <td>тысячи</td>\n",
       "    </tr>\n",
       "    <tr>\n",
       "      <th>3172820</th>\n",
       "      <td>FRACTION</td>\n",
       "      <td>¾</td>\n",
       "      <td>три четвертых</td>\n",
       "      <td>в</td>\n",
       "      <td>от</td>\n",
       "    </tr>\n",
       "    <tr>\n",
       "      <th>3220263</th>\n",
       "      <td>FRACTION</td>\n",
       "      <td>2½</td>\n",
       "      <td>две целых и одна вторая</td>\n",
       "      <td>—</td>\n",
       "      <td>:</td>\n",
       "    </tr>\n",
       "    <tr>\n",
       "      <th>3220265</th>\n",
       "      <td>FRACTION</td>\n",
       "      <td>1½</td>\n",
       "      <td>одна целая и одна вторая</td>\n",
       "      <td>:</td>\n",
       "      <td>.</td>\n",
       "    </tr>\n",
       "    <tr>\n",
       "      <th>3250501</th>\n",
       "      <td>FRACTION</td>\n",
       "      <td>1 ½</td>\n",
       "      <td>одна целая и одна вторая</td>\n",
       "      <td>.</td>\n",
       "      <td>роты</td>\n",
       "    </tr>\n",
       "    <tr>\n",
       "      <th>3395752</th>\n",
       "      <td>FRACTION</td>\n",
       "      <td>½</td>\n",
       "      <td>одна вторая</td>\n",
       "      <td>Более</td>\n",
       "      <td>валовой</td>\n",
       "    </tr>\n",
       "    <tr>\n",
       "      <th>3417776</th>\n",
       "      <td>FRACTION</td>\n",
       "      <td>3½</td>\n",
       "      <td>три целых и одна вторая</td>\n",
       "      <td>счетом</td>\n",
       "      <td>:</td>\n",
       "    </tr>\n",
       "    <tr>\n",
       "      <th>3417778</th>\n",
       "      <td>FRACTION</td>\n",
       "      <td>2½</td>\n",
       "      <td>две целых и одна вторая</td>\n",
       "      <td>:</td>\n",
       "      <td>и</td>\n",
       "    </tr>\n",
       "    <tr>\n",
       "      <th>3478079</th>\n",
       "      <td>FRACTION</td>\n",
       "      <td>¼</td>\n",
       "      <td>одна четвертая</td>\n",
       "      <td>в</td>\n",
       "      <td>финала</td>\n",
       "    </tr>\n",
       "    <tr>\n",
       "      <th>3488898</th>\n",
       "      <td>FRACTION</td>\n",
       "      <td>¾</td>\n",
       "      <td>три четвертых</td>\n",
       "      <td>~</td>\n",
       "      <td>)</td>\n",
       "    </tr>\n",
       "    <tr>\n",
       "      <th>...</th>\n",
       "      <td>...</td>\n",
       "      <td>...</td>\n",
       "      <td>...</td>\n",
       "      <td>...</td>\n",
       "      <td>...</td>\n",
       "    </tr>\n",
       "    <tr>\n",
       "      <th>5646924</th>\n",
       "      <td>FRACTION</td>\n",
       "      <td>10½</td>\n",
       "      <td>десяти целых и одной второй</td>\n",
       "      <td>в</td>\n",
       "      <td>главах</td>\n",
       "    </tr>\n",
       "    <tr>\n",
       "      <th>5710816</th>\n",
       "      <td>FRACTION</td>\n",
       "      <td>6½</td>\n",
       "      <td>шесть целых и одна вторая</td>\n",
       "      <td>(</td>\n",
       "      <td>:</td>\n",
       "    </tr>\n",
       "    <tr>\n",
       "      <th>5710818</th>\n",
       "      <td>FRACTION</td>\n",
       "      <td>4½</td>\n",
       "      <td>четыре целых и одна вторая</td>\n",
       "      <td>:</td>\n",
       "      <td>)</td>\n",
       "    </tr>\n",
       "    <tr>\n",
       "      <th>5743241</th>\n",
       "      <td>FRACTION</td>\n",
       "      <td>2½</td>\n",
       "      <td>двух целых и одной второй</td>\n",
       "      <td>и</td>\n",
       "      <td>года</td>\n",
       "    </tr>\n",
       "    <tr>\n",
       "      <th>6011771</th>\n",
       "      <td>FRACTION</td>\n",
       "      <td>4 ½</td>\n",
       "      <td>четыре целых и одну вторую</td>\n",
       "      <td>Invicta</td>\n",
       "      <td>litre</td>\n",
       "    </tr>\n",
       "    <tr>\n",
       "      <th>6260409</th>\n",
       "      <td>FRACTION</td>\n",
       "      <td>1¼</td>\n",
       "      <td>одной целой и одной четвертой</td>\n",
       "      <td>до</td>\n",
       "      <td>аршина</td>\n",
       "    </tr>\n",
       "    <tr>\n",
       "      <th>6452616</th>\n",
       "      <td>FRACTION</td>\n",
       "      <td>9½</td>\n",
       "      <td>девять целых и одна вторая</td>\n",
       "      <td>по</td>\n",
       "      <td>.</td>\n",
       "    </tr>\n",
       "    <tr>\n",
       "      <th>6800651</th>\n",
       "      <td>FRACTION</td>\n",
       "      <td>½</td>\n",
       "      <td>одна вторая</td>\n",
       "      <td>Ранма</td>\n",
       "      <td>»</td>\n",
       "    </tr>\n",
       "    <tr>\n",
       "      <th>7253139</th>\n",
       "      <td>FRACTION</td>\n",
       "      <td>10½</td>\n",
       "      <td>десять целых и одну вторую</td>\n",
       "      <td>по</td>\n",
       "      <td>очков</td>\n",
       "    </tr>\n",
       "    <tr>\n",
       "      <th>7612900</th>\n",
       "      <td>FRACTION</td>\n",
       "      <td>⅔</td>\n",
       "      <td>две третьих</td>\n",
       "      <td>ленивца</td>\n",
       "      <td>веса</td>\n",
       "    </tr>\n",
       "    <tr>\n",
       "      <th>8033344</th>\n",
       "      <td>FRACTION</td>\n",
       "      <td>5¼</td>\n",
       "      <td>пятью целыми и одной четвертой</td>\n",
       "      <td>двусторонними</td>\n",
       "      <td>дюймовыми</td>\n",
       "    </tr>\n",
       "    <tr>\n",
       "      <th>8259581</th>\n",
       "      <td>FRACTION</td>\n",
       "      <td>8½</td>\n",
       "      <td>восьми целым и одной второй</td>\n",
       "      <td>по</td>\n",
       "      <td>очков</td>\n",
       "    </tr>\n",
       "    <tr>\n",
       "      <th>8283325</th>\n",
       "      <td>FRACTION</td>\n",
       "      <td>2½</td>\n",
       "      <td>две целых и одна вторая</td>\n",
       "      <td>—</td>\n",
       "      <td>:</td>\n",
       "    </tr>\n",
       "    <tr>\n",
       "      <th>8283327</th>\n",
       "      <td>FRACTION</td>\n",
       "      <td>1½</td>\n",
       "      <td>одна целая и одна вторая</td>\n",
       "      <td>:</td>\n",
       "      <td>.</td>\n",
       "    </tr>\n",
       "    <tr>\n",
       "      <th>8317226</th>\n",
       "      <td>FRACTION</td>\n",
       "      <td>¼</td>\n",
       "      <td>одна четвертая</td>\n",
       "      <td>занимавшая</td>\n",
       "      <td>часть</td>\n",
       "    </tr>\n",
       "    <tr>\n",
       "      <th>8355301</th>\n",
       "      <td>FRACTION</td>\n",
       "      <td>6½</td>\n",
       "      <td>шесть целых и одну вторую</td>\n",
       "      <td>набрал</td>\n",
       "      <td>очков</td>\n",
       "    </tr>\n",
       "    <tr>\n",
       "      <th>8457757</th>\n",
       "      <td>FRACTION</td>\n",
       "      <td>½</td>\n",
       "      <td>одна вторая</td>\n",
       "      <td>находилась</td>\n",
       "      <td>германской</td>\n",
       "    </tr>\n",
       "    <tr>\n",
       "      <th>8627416</th>\n",
       "      <td>FRACTION</td>\n",
       "      <td>⅔</td>\n",
       "      <td>двух третьих</td>\n",
       "      <td>более</td>\n",
       "      <td>)</td>\n",
       "    </tr>\n",
       "    <tr>\n",
       "      <th>8717346</th>\n",
       "      <td>FRACTION</td>\n",
       "      <td>¼</td>\n",
       "      <td>одна четвертая</td>\n",
       "      <td>составлял</td>\n",
       "      <td>рупии</td>\n",
       "    </tr>\n",
       "    <tr>\n",
       "      <th>8737281</th>\n",
       "      <td>FRACTION</td>\n",
       "      <td>3 ½</td>\n",
       "      <td>три целых и одна вторая</td>\n",
       "      <td>—</td>\n",
       "      <td>октавы</td>\n",
       "    </tr>\n",
       "    <tr>\n",
       "      <th>8984892</th>\n",
       "      <td>FRACTION</td>\n",
       "      <td>½</td>\n",
       "      <td>одной второй</td>\n",
       "      <td>от</td>\n",
       "      <td>-</td>\n",
       "    </tr>\n",
       "    <tr>\n",
       "      <th>8984894</th>\n",
       "      <td>FRACTION</td>\n",
       "      <td>¾</td>\n",
       "      <td>трех четвертых</td>\n",
       "      <td>-</td>\n",
       "      <td>мм</td>\n",
       "    </tr>\n",
       "    <tr>\n",
       "      <th>9080276</th>\n",
       "      <td>FRACTION</td>\n",
       "      <td>9½</td>\n",
       "      <td>девять целых и одна вторая</td>\n",
       "      <td>по</td>\n",
       "      <td>.</td>\n",
       "    </tr>\n",
       "    <tr>\n",
       "      <th>9080375</th>\n",
       "      <td>FRACTION</td>\n",
       "      <td>10½</td>\n",
       "      <td>десять целых и одна вторая</td>\n",
       "      <td>—</td>\n",
       "      <td>.</td>\n",
       "    </tr>\n",
       "    <tr>\n",
       "      <th>9083227</th>\n",
       "      <td>FRACTION</td>\n",
       "      <td>3½</td>\n",
       "      <td>три целых и одна вторая</td>\n",
       "      <td>—</td>\n",
       "      <td>;</td>\n",
       "    </tr>\n",
       "    <tr>\n",
       "      <th>9768976</th>\n",
       "      <td>FRACTION</td>\n",
       "      <td>2½</td>\n",
       "      <td>две целых и одна вторая</td>\n",
       "      <td>«</td>\n",
       "      <td>часа</td>\n",
       "    </tr>\n",
       "    <tr>\n",
       "      <th>9918776</th>\n",
       "      <td>FRACTION</td>\n",
       "      <td>9 ¾</td>\n",
       "      <td>девять целых и три четвертых</td>\n",
       "      <td>платформы</td>\n",
       "      <td>.</td>\n",
       "    </tr>\n",
       "    <tr>\n",
       "      <th>9921668</th>\n",
       "      <td>FRACTION</td>\n",
       "      <td>¾</td>\n",
       "      <td>три четвертых</td>\n",
       "      <td>занимали</td>\n",
       "      <td>длины</td>\n",
       "    </tr>\n",
       "    <tr>\n",
       "      <th>10013235</th>\n",
       "      <td>FRACTION</td>\n",
       "      <td>½</td>\n",
       "      <td>одна вторая</td>\n",
       "      <td>равная</td>\n",
       "      <td>асса</td>\n",
       "    </tr>\n",
       "    <tr>\n",
       "      <th>10277345</th>\n",
       "      <td>FRACTION</td>\n",
       "      <td>6¾</td>\n",
       "      <td>шесть целых и три четвертых</td>\n",
       "      <td>диска</td>\n",
       "      <td>'</td>\n",
       "    </tr>\n",
       "  </tbody>\n",
       "</table>\n",
       "<p>75 rows × 5 columns</p>\n",
       "</div>"
      ]
     },
     "execution_count": 17,
     "metadata": {},
     "output_type": "execute_result"
    }
   ],
   "source": [
    "df[~(df['before'].str.match('^-?\\d*\\s?\\d*\\s?\\/\\s?\\d+\\s?\\d*$')) & (df['class'] == 'FRACTION')]"
   ]
  },
  {
   "cell_type": "code",
   "execution_count": 30,
   "metadata": {},
   "outputs": [],
   "source": []
  },
  {
   "cell_type": "code",
   "execution_count": null,
   "metadata": {},
   "outputs": [],
   "source": []
  }
 ],
 "metadata": {
  "kernelspec": {
   "display_name": "Python 2",
   "language": "python",
   "name": "python2"
  },
  "language_info": {
   "codemirror_mode": {
    "name": "ipython",
    "version": 2
   },
   "file_extension": ".py",
   "mimetype": "text/x-python",
   "name": "python",
   "nbconvert_exporter": "python",
   "pygments_lexer": "ipython2",
   "version": "2.7.6"
  }
 },
 "nbformat": 4,
 "nbformat_minor": 0
}
