{
 "cells": [
  {
   "cell_type": "code",
   "execution_count": 1,
   "metadata": {
    "collapsed": true
   },
   "outputs": [],
   "source": [
    "import os\n",
    "import numpy as np\n",
    "import pandas as pd\n",
    "from loaders.loading import load_train\n",
    "from transformers.dash_transformer import DashTransformer\n",
    "from transformers.dict_nbhd_transformer import DictNBHDTransformer\n",
    "from transformers.dict_transformer import DictTransformer\n",
    "from transformers.digit_transformer import DigitTransformer\n",
    "from transformers.flat_transformer import FlatTransformer\n",
    "from transformers.dict_class_transformer import DictClassTransformer\n",
    "from sklearn.pipeline import Pipeline\n",
    "from transformers.letters_transformer import LettersTransformer\n",
    "from transformers.scored_chain import ScoredChain\n",
    "from transformers.self_transformer import SelfTransformer\n",
    "from time import gmtime, strftime\n",
    "from transformers.simple_transliterator import SimpleTransliterator"
   ]
  },
  {
   "cell_type": "code",
   "execution_count": 2,
   "metadata": {
    "collapsed": true
   },
   "outputs": [
    {
     "name": "stdout",
     "output_type": "stream",
     "text": [
      "<class 'pandas.core.frame.DataFrame'>\nRangeIndex: 10574516 entries, 0 to 10574515\nData columns (total 5 columns):\nclass          object\nbefore         object\nafter          object\nbefore_prev    object\nbefore_next    object\ndtypes: object(5)\nmemory usage: 403.4+ MB\nNone\n"
     ]
    }
   ],
   "source": [
    "df = load_train(['class', 'before', 'after'], r'../input/norm_challenge_ru')\n",
    "df['before_prev'] = df['before'].shift(1)\n",
    "df['before_next'] = df['before'].shift(-1)\n",
    "df = df.fillna('')\n",
    "print(df.info())\n",
    "\n",
    "classes = ['PLAIN', 'DATE', 'PUNCT', 'ORDINAL', 'VERBATIM', 'LETTERS', 'CARDINAL', 'MEASURE', 'TELEPHONE', 'ELECTRONIC',\n",
    "           'DECIMAL', 'DIGIT', 'FRACTION', 'MONEY', 'TIME']"
   ]
  },
  {
   "cell_type": "code",
   "execution_count": 3,
   "metadata": {},
   "outputs": [],
   "source": [
    "test_size = int(len(df.index)*0.1)\n",
    "x_train = df.drop(['after'], axis=1).head(len(df.index)-test_size)\n",
    "y_train = df['after'].head(len(df.index)-test_size)\n",
    "x_test = df.drop(['after'], axis=1).tail(test_size)\n",
    "y_test = df['after'].tail(test_size)"
   ]
  },
  {
   "cell_type": "code",
   "execution_count": 4,
   "metadata": {
    "collapsed": false
   },
   "outputs": [
    {
     "name": "stderr",
     "output_type": "stream",
     "text": [
      "\rMorphologyExtractor create index: 0it [00:00, ?it/s]"
     ]
    },
    {
     "name": "stderr",
     "output_type": "stream",
     "text": [
      "\rMorphologyExtractor create index: 10918it [00:00, 109065.43it/s]"
     ]
    },
    {
     "name": "stderr",
     "output_type": "stream",
     "text": [
      "\rMorphologyExtractor create index: 14194it [00:00, 60870.61it/s] "
     ]
    },
    {
     "name": "stderr",
     "output_type": "stream",
     "text": [
      "\rMorphologyExtractor create index: 17288it [00:00, 51862.34it/s]"
     ]
    },
    {
     "name": "stderr",
     "output_type": "stream",
     "text": [
      "\rMorphologyExtractor create index: 22712it [00:00, 52410.77it/s]"
     ]
    },
    {
     "name": "stderr",
     "output_type": "stream",
     "text": [
      "\rMorphologyExtractor create index: 26473it [00:00, 49398.96it/s]"
     ]
    },
    {
     "name": "stderr",
     "output_type": "stream",
     "text": [
      "\rMorphologyExtractor create index: 30214it [00:00, 39638.05it/s]"
     ]
    },
    {
     "name": "stderr",
     "output_type": "stream",
     "text": [
      "\rMorphologyExtractor create index: 35040it [00:00, 40637.86it/s]"
     ]
    },
    {
     "name": "stderr",
     "output_type": "stream",
     "text": [
      "\rMorphologyExtractor create index: 47243it [00:00, 49096.53it/s]"
     ]
    },
    {
     "name": "stderr",
     "output_type": "stream",
     "text": [
      "\rMorphologyExtractor create index: 60176it [00:01, 56649.62it/s]"
     ]
    },
    {
     "name": "stderr",
     "output_type": "stream",
     "text": [
      "\rMorphologyExtractor create index: 73651it [00:01, 63369.21it/s]"
     ]
    },
    {
     "name": "stderr",
     "output_type": "stream",
     "text": [
      "\rMorphologyExtractor create index: 87374it [00:01, 69220.34it/s]"
     ]
    },
    {
     "name": "stderr",
     "output_type": "stream",
     "text": [
      "\rMorphologyExtractor create index: 100512it [00:01, 73783.16it/s]"
     ]
    },
    {
     "name": "stderr",
     "output_type": "stream",
     "text": [
      "\rMorphologyExtractor create index: 114219it [00:01, 78111.00it/s]"
     ]
    },
    {
     "name": "stderr",
     "output_type": "stream",
     "text": [
      "\rMorphologyExtractor create index: 127730it [00:01, 81758.50it/s]"
     ]
    },
    {
     "name": "stderr",
     "output_type": "stream",
     "text": [
      "\rMorphologyExtractor create index: 140899it [00:01, 84761.88it/s]"
     ]
    },
    {
     "name": "stderr",
     "output_type": "stream",
     "text": [
      "\rMorphologyExtractor create index: 154205it [00:01, 87502.81it/s]"
     ]
    },
    {
     "name": "stderr",
     "output_type": "stream",
     "text": [
      "\rMorphologyExtractor create index: 168202it [00:01, 90320.02it/s]"
     ]
    },
    {
     "name": "stderr",
     "output_type": "stream",
     "text": [
      "\rMorphologyExtractor create index: 182265it [00:01, 92883.34it/s]"
     ]
    },
    {
     "name": "stderr",
     "output_type": "stream",
     "text": [
      "\rMorphologyExtractor create index: 195766it [00:02, 94386.71it/s]"
     ]
    },
    {
     "name": "stderr",
     "output_type": "stream",
     "text": [
      "\rMorphologyExtractor create index: 208840it [00:02, 95596.88it/s]"
     ]
    },
    {
     "name": "stderr",
     "output_type": "stream",
     "text": [
      "\rMorphologyExtractor create index: 221541it [00:02, 96642.23it/s]"
     ]
    },
    {
     "name": "stderr",
     "output_type": "stream",
     "text": [
      "\rMorphologyExtractor create index: 233967it [00:02, 97311.57it/s]"
     ]
    },
    {
     "name": "stderr",
     "output_type": "stream",
     "text": [
      "\rMorphologyExtractor create index: 245996it [00:02, 96937.21it/s]"
     ]
    },
    {
     "name": "stderr",
     "output_type": "stream",
     "text": [
      "\rMorphologyExtractor create index: 259070it [00:02, 98218.51it/s]"
     ]
    },
    {
     "name": "stderr",
     "output_type": "stream",
     "text": [
      "\rMorphologyExtractor create index: 272705it [00:02, 99610.73it/s]"
     ]
    },
    {
     "name": "stderr",
     "output_type": "stream",
     "text": [
      "\rMorphologyExtractor create index: 286438it [00:02, 100939.84it/s]"
     ]
    },
    {
     "name": "stderr",
     "output_type": "stream",
     "text": [
      "\rMorphologyExtractor create index: 301597it [00:02, 102663.80it/s]"
     ]
    },
    {
     "name": "stderr",
     "output_type": "stream",
     "text": [
      "\rMorphologyExtractor create index: 315810it [00:03, 103962.77it/s]"
     ]
    },
    {
     "name": "stderr",
     "output_type": "stream",
     "text": [
      "\rMorphologyExtractor create index: 330867it [00:03, 105448.15it/s]"
     ]
    },
    {
     "name": "stderr",
     "output_type": "stream",
     "text": [
      "\rMorphologyExtractor create index: 345872it [00:03, 106825.52it/s]"
     ]
    },
    {
     "name": "stderr",
     "output_type": "stream",
     "text": [
      "\rMorphologyExtractor create index: 360631it [00:03, 108046.75it/s]"
     ]
    },
    {
     "name": "stderr",
     "output_type": "stream",
     "text": [
      "\rMorphologyExtractor create index: 375115it [00:03, 109109.60it/s]"
     ]
    },
    {
     "name": "stderr",
     "output_type": "stream",
     "text": [
      "\rMorphologyExtractor create index: 389589it [00:03, 110110.15it/s]"
     ]
    },
    {
     "name": "stderr",
     "output_type": "stream",
     "text": [
      "\rMorphologyExtractor create index: 405458it [00:03, 111445.10it/s]"
     ]
    },
    {
     "name": "stderr",
     "output_type": "stream",
     "text": [
      "\rMorphologyExtractor create index: 420344it [00:03, 112296.47it/s]"
     ]
    },
    {
     "name": "stderr",
     "output_type": "stream",
     "text": [
      "\rMorphologyExtractor create index: 435019it [00:03, 113132.93it/s]"
     ]
    },
    {
     "name": "stderr",
     "output_type": "stream",
     "text": [
      "\rMorphologyExtractor create index: 449606it [00:03, 113890.50it/s]"
     ]
    },
    {
     "name": "stderr",
     "output_type": "stream",
     "text": [
      "\rMorphologyExtractor create index: 464433it [00:04, 114742.64it/s]"
     ]
    },
    {
     "name": "stderr",
     "output_type": "stream",
     "text": [
      "\rMorphologyExtractor create index: 479337it [00:04, 115569.81it/s]"
     ]
    },
    {
     "name": "stderr",
     "output_type": "stream",
     "text": [
      "\rMorphologyExtractor create index: 494019it [00:04, 116292.22it/s]"
     ]
    },
    {
     "name": "stderr",
     "output_type": "stream",
     "text": [
      "\rMorphologyExtractor create index: 508981it [00:04, 117058.71it/s]"
     ]
    },
    {
     "name": "stderr",
     "output_type": "stream",
     "text": [
      "\rMorphologyExtractor create index: 523732it [00:04, 117663.05it/s]"
     ]
    },
    {
     "name": "stderr",
     "output_type": "stream",
     "text": [
      "\rMorphologyExtractor create index: 538682it [00:04, 118362.15it/s]"
     ]
    },
    {
     "name": "stderr",
     "output_type": "stream",
     "text": [
      "\rMorphologyExtractor create index: 553696it [00:04, 119045.39it/s]"
     ]
    },
    {
     "name": "stderr",
     "output_type": "stream",
     "text": [
      "\rMorphologyExtractor create index: 568901it [00:04, 119740.22it/s]"
     ]
    },
    {
     "name": "stderr",
     "output_type": "stream",
     "text": [
      "\rMorphologyExtractor create index: 584194it [00:04, 120424.14it/s]"
     ]
    },
    {
     "name": "stderr",
     "output_type": "stream",
     "text": [
      "\rMorphologyExtractor create index: 599231it [00:04, 121007.63it/s]"
     ]
    },
    {
     "name": "stderr",
     "output_type": "stream",
     "text": [
      "\rMorphologyExtractor create index: 614229it [00:05, 121506.31it/s]"
     ]
    },
    {
     "name": "stderr",
     "output_type": "stream",
     "text": [
      "\rMorphologyExtractor create index: 629751it [00:05, 122160.27it/s]"
     ]
    },
    {
     "name": "stderr",
     "output_type": "stream",
     "text": [
      "\rMorphologyExtractor create index: 644811it [00:05, 122647.03it/s]"
     ]
    },
    {
     "name": "stderr",
     "output_type": "stream",
     "text": [
      "\rMorphologyExtractor create index: 659892it [00:05, 123172.68it/s]"
     ]
    },
    {
     "name": "stderr",
     "output_type": "stream",
     "text": [
      "\rMorphologyExtractor create index: 674887it [00:05, 123644.90it/s]"
     ]
    },
    {
     "name": "stderr",
     "output_type": "stream",
     "text": [
      "\rMorphologyExtractor create index: 690135it [00:05, 124163.74it/s]"
     ]
    },
    {
     "name": "stderr",
     "output_type": "stream",
     "text": [
      "\rMorphologyExtractor create index: 705181it [00:05, 124587.46it/s]"
     ]
    },
    {
     "name": "stderr",
     "output_type": "stream",
     "text": [
      "\rMorphologyExtractor create index: 720145it [00:05, 124821.16it/s]"
     ]
    },
    {
     "name": "stderr",
     "output_type": "stream",
     "text": [
      "\rMorphologyExtractor create index: 734727it [00:05, 124990.96it/s]"
     ]
    },
    {
     "name": "stderr",
     "output_type": "stream",
     "text": [
      "\rMorphologyExtractor create index: 748955it [00:05, 125187.45it/s]"
     ]
    },
    {
     "name": "stderr",
     "output_type": "stream",
     "text": [
      "\rMorphologyExtractor create index: 763002it [00:06, 125334.30it/s]"
     ]
    },
    {
     "name": "stderr",
     "output_type": "stream",
     "text": [
      "\rMorphologyExtractor create index: 776847it [00:06, 125527.76it/s]"
     ]
    },
    {
     "name": "stderr",
     "output_type": "stream",
     "text": [
      "\rMorphologyExtractor create index: 790654it [00:06, 125686.59it/s]"
     ]
    },
    {
     "name": "stderr",
     "output_type": "stream",
     "text": [
      "\rMorphologyExtractor create index: 804378it [00:06, 125502.37it/s]"
     ]
    },
    {
     "name": "stderr",
     "output_type": "stream",
     "text": [
      "\rMorphologyExtractor create index: 817526it [00:06, 125594.17it/s]"
     ]
    },
    {
     "name": "stderr",
     "output_type": "stream",
     "text": [
      "\rMorphologyExtractor create index: 832717it [00:06, 125992.20it/s]"
     ]
    },
    {
     "name": "stderr",
     "output_type": "stream",
     "text": [
      "\rMorphologyExtractor create index: 847436it [00:06, 126308.00it/s]"
     ]
    },
    {
     "name": "stderr",
     "output_type": "stream",
     "text": [
      "\rMorphologyExtractor create index: 862379it [00:06, 126647.67it/s]"
     ]
    },
    {
     "name": "stderr",
     "output_type": "stream",
     "text": [
      "\rMorphologyExtractor create index: 877410it [00:06, 126990.00it/s]"
     ]
    },
    {
     "name": "stderr",
     "output_type": "stream",
     "text": [
      "\rMorphologyExtractor create index: 891949it [00:07, 127252.37it/s]"
     ]
    },
    {
     "name": "stderr",
     "output_type": "stream",
     "text": [
      "\rMorphologyExtractor create index: 906474it [00:07, 127398.27it/s]"
     ]
    },
    {
     "name": "stderr",
     "output_type": "stream",
     "text": [
      "\rMorphologyExtractor create index: 920754it [00:07, 127508.35it/s]"
     ]
    },
    {
     "name": "stderr",
     "output_type": "stream",
     "text": [
      "\rMorphologyExtractor create index: 935133it [00:07, 127730.35it/s]"
     ]
    },
    {
     "name": "stderr",
     "output_type": "stream",
     "text": [
      "\rMorphologyExtractor create index: 949611it [00:07, 127960.19it/s]"
     ]
    },
    {
     "name": "stderr",
     "output_type": "stream",
     "text": [
      "\rMorphologyExtractor create index: 963923it [00:07, 128161.75it/s]"
     ]
    },
    {
     "name": "stderr",
     "output_type": "stream",
     "text": [
      "\rMorphologyExtractor create index: 978790it [00:07, 128430.85it/s]"
     ]
    },
    {
     "name": "stderr",
     "output_type": "stream",
     "text": [
      "\rMorphologyExtractor create index: 993326it [00:07, 128650.02it/s]"
     ]
    },
    {
     "name": "stderr",
     "output_type": "stream",
     "text": [
      "\rMorphologyExtractor create index: 1007798it [00:07, 128852.05it/s]"
     ]
    },
    {
     "name": "stderr",
     "output_type": "stream",
     "text": [
      "\rMorphologyExtractor create index: 1022928it [00:07, 129135.35it/s]"
     ]
    },
    {
     "name": "stderr",
     "output_type": "stream",
     "text": [
      "\rMorphologyExtractor create index: 1038009it [00:08, 129405.43it/s]"
     ]
    },
    {
     "name": "stderr",
     "output_type": "stream",
     "text": [
      "\rMorphologyExtractor create index: 1052872it [00:08, 129642.10it/s]"
     ]
    },
    {
     "name": "stderr",
     "output_type": "stream",
     "text": [
      "\rMorphologyExtractor create index: 1068183it [00:08, 129927.50it/s]"
     ]
    },
    {
     "name": "stderr",
     "output_type": "stream",
     "text": [
      "\rMorphologyExtractor create index: 1083144it [00:08, 130033.52it/s]"
     ]
    },
    {
     "name": "stderr",
     "output_type": "stream",
     "text": [
      "\rMorphologyExtractor create index: 1098442it [00:08, 130305.90it/s]"
     ]
    },
    {
     "name": "stderr",
     "output_type": "stream",
     "text": [
      "\rMorphologyExtractor create index: 1113262it [00:08, 130474.23it/s]"
     ]
    },
    {
     "name": "stderr",
     "output_type": "stream",
     "text": [
      "\rMorphologyExtractor create index: 1127965it [00:08, 130512.60it/s]"
     ]
    },
    {
     "name": "stderr",
     "output_type": "stream",
     "text": [
      "\rMorphologyExtractor create index: 1142262it [00:08, 130644.34it/s]"
     ]
    },
    {
     "name": "stderr",
     "output_type": "stream",
     "text": [
      "\rMorphologyExtractor create index: 1156528it [00:08, 130746.75it/s]"
     ]
    },
    {
     "name": "stderr",
     "output_type": "stream",
     "text": [
      "\rMorphologyExtractor create index: 1171361it [00:08, 130943.11it/s]"
     ]
    },
    {
     "name": "stderr",
     "output_type": "stream",
     "text": [
      "\rMorphologyExtractor create index: 1186337it [00:09, 131151.19it/s]"
     ]
    },
    {
     "name": "stderr",
     "output_type": "stream",
     "text": [
      "\rMorphologyExtractor create index: 1200889it [00:09, 131298.25it/s]"
     ]
    },
    {
     "name": "stderr",
     "output_type": "stream",
     "text": [
      "\rMorphologyExtractor create index: 1215411it [00:09, 131379.18it/s]"
     ]
    },
    {
     "name": "stderr",
     "output_type": "stream",
     "text": [
      "\rMorphologyExtractor create index: 1229857it [00:09, 131519.02it/s]"
     ]
    },
    {
     "name": "stderr",
     "output_type": "stream",
     "text": [
      "\rMorphologyExtractor create index: 1244709it [00:09, 131698.99it/s]"
     ]
    },
    {
     "name": "stderr",
     "output_type": "stream",
     "text": [
      "\rMorphologyExtractor create index: 1259215it [00:09, 131825.76it/s]"
     ]
    },
    {
     "name": "stderr",
     "output_type": "stream",
     "text": [
      "\rMorphologyExtractor create index: 1273784it [00:09, 131969.38it/s]"
     ]
    },
    {
     "name": "stderr",
     "output_type": "stream",
     "text": [
      "\rMorphologyExtractor create index: 1288547it [00:09, 132129.91it/s]"
     ]
    },
    {
     "name": "stderr",
     "output_type": "stream",
     "text": [
      "\rMorphologyExtractor create index: 1303123it [00:09, 132228.63it/s]"
     ]
    },
    {
     "name": "stderr",
     "output_type": "stream",
     "text": [
      "\rMorphologyExtractor create index: 1317574it [00:09, 132324.79it/s]"
     ]
    },
    {
     "name": "stderr",
     "output_type": "stream",
     "text": [
      "\rMorphologyExtractor create index: 1332058it [00:10, 132449.18it/s]"
     ]
    },
    {
     "name": "stderr",
     "output_type": "stream",
     "text": [
      "\rMorphologyExtractor create index: 1346810it [00:10, 132597.50it/s]"
     ]
    },
    {
     "name": "stderr",
     "output_type": "stream",
     "text": [
      "\rMorphologyExtractor create index: 1361489it [00:10, 132735.97it/s]"
     ]
    },
    {
     "name": "stderr",
     "output_type": "stream",
     "text": [
      "\rMorphologyExtractor create index: 1376047it [00:10, 132842.26it/s]"
     ]
    },
    {
     "name": "stderr",
     "output_type": "stream",
     "text": [
      "\rMorphologyExtractor create index: 1390546it [00:10, 132956.79it/s]"
     ]
    },
    {
     "name": "stderr",
     "output_type": "stream",
     "text": [
      "\rMorphologyExtractor create index: 1405039it [00:10, 133040.74it/s]"
     ]
    },
    {
     "name": "stderr",
     "output_type": "stream",
     "text": [
      "\rMorphologyExtractor create index: 1419433it [00:10, 133110.36it/s]"
     ]
    },
    {
     "name": "stderr",
     "output_type": "stream",
     "text": [
      "\rMorphologyExtractor create index: 1434038it [00:10, 133230.58it/s]"
     ]
    },
    {
     "name": "stderr",
     "output_type": "stream",
     "text": [
      "\rMorphologyExtractor create index: 1448558it [00:10, 133340.82it/s]"
     ]
    },
    {
     "name": "stderr",
     "output_type": "stream",
     "text": [
      "\rMorphologyExtractor create index: 1463711it [00:10, 133506.70it/s]"
     ]
    },
    {
     "name": "stderr",
     "output_type": "stream",
     "text": [
      "\rMorphologyExtractor create index: 1478644it [00:11, 133649.68it/s]"
     ]
    },
    {
     "name": "stderr",
     "output_type": "stream",
     "text": [
      "\rMorphologyExtractor create index: 1493748it [00:11, 133805.43it/s]"
     ]
    },
    {
     "name": "stderr",
     "output_type": "stream",
     "text": [
      "\rMorphologyExtractor create index: 1508924it [00:11, 133964.75it/s]"
     ]
    },
    {
     "name": "stderr",
     "output_type": "stream",
     "text": [
      "\rMorphologyExtractor create index: 1523866it [00:11, 134089.31it/s]"
     ]
    },
    {
     "name": "stderr",
     "output_type": "stream",
     "text": [
      "\rMorphologyExtractor create index: 1539417it [00:11, 134276.02it/s]"
     ]
    },
    {
     "name": "stderr",
     "output_type": "stream",
     "text": [
      "\rMorphologyExtractor create index: 1554511it [00:11, 134388.86it/s]"
     ]
    },
    {
     "name": "stderr",
     "output_type": "stream",
     "text": [
      "\rMorphologyExtractor create index: 1569487it [00:11, 134345.18it/s]"
     ]
    },
    {
     "name": "stderr",
     "output_type": "stream",
     "text": [
      "\rMorphologyExtractor create index: 1583980it [00:11, 134434.99it/s]"
     ]
    },
    {
     "name": "stderr",
     "output_type": "stream",
     "text": [
      "\rMorphologyExtractor create index: 1598778it [00:11, 134548.85it/s]"
     ]
    },
    {
     "name": "stderr",
     "output_type": "stream",
     "text": [
      "\rMorphologyExtractor create index: 1613308it [00:11, 134624.98it/s]"
     ]
    },
    {
     "name": "stderr",
     "output_type": "stream",
     "text": [
      "\rMorphologyExtractor create index: 1627939it [00:12, 134721.58it/s]"
     ]
    },
    {
     "name": "stderr",
     "output_type": "stream",
     "text": [
      "\rMorphologyExtractor create index: 1643090it [00:12, 134859.38it/s]"
     ]
    },
    {
     "name": "stderr",
     "output_type": "stream",
     "text": [
      "\rMorphologyExtractor create index: 1657802it [00:12, 134957.79it/s]"
     ]
    },
    {
     "name": "stderr",
     "output_type": "stream",
     "text": [
      "\rMorphologyExtractor create index: 1672566it [00:12, 135060.12it/s]"
     ]
    },
    {
     "name": "stderr",
     "output_type": "stream",
     "text": [
      "\rMorphologyExtractor create index: 1687932it [00:12, 135209.09it/s]"
     ]
    },
    {
     "name": "stderr",
     "output_type": "stream",
     "text": [
      "\rMorphologyExtractor create index: 1703536it [00:12, 135374.56it/s]"
     ]
    },
    {
     "name": "stderr",
     "output_type": "stream",
     "text": [
      "\rMorphologyExtractor create index: 1718659it [00:12, 135385.41it/s]"
     ]
    },
    {
     "name": "stderr",
     "output_type": "stream",
     "text": [
      "\rMorphologyExtractor create index: 1733650it [00:12, 135498.84it/s]"
     ]
    },
    {
     "name": "stderr",
     "output_type": "stream",
     "text": [
      "\rMorphologyExtractor create index: 1748758it [00:12, 135619.44it/s]"
     ]
    },
    {
     "name": "stderr",
     "output_type": "stream",
     "text": [
      "\rMorphologyExtractor create index: 1763634it [00:12, 135676.47it/s]"
     ]
    },
    {
     "name": "stderr",
     "output_type": "stream",
     "text": [
      "\rMorphologyExtractor create index: 1778715it [00:13, 135791.91it/s]"
     ]
    },
    {
     "name": "stderr",
     "output_type": "stream",
     "text": [
      "\rMorphologyExtractor create index: 1793690it [00:13, 135897.75it/s]"
     ]
    },
    {
     "name": "stderr",
     "output_type": "stream",
     "text": [
      "\rMorphologyExtractor create index: 1808550it [00:13, 135929.87it/s]"
     ]
    },
    {
     "name": "stderr",
     "output_type": "stream",
     "text": [
      "\rMorphologyExtractor create index: 1823150it [00:13, 135912.17it/s]"
     ]
    },
    {
     "name": "stderr",
     "output_type": "stream",
     "text": [
      "\rMorphologyExtractor create index: 1838136it [00:13, 136015.20it/s]"
     ]
    },
    {
     "name": "stderr",
     "output_type": "stream",
     "text": [
      "\rMorphologyExtractor create index: 1853651it [00:13, 136155.74it/s]"
     ]
    },
    {
     "name": "stderr",
     "output_type": "stream",
     "text": [
      "\rMorphologyExtractor create index: 1868426it [00:13, 136194.95it/s]"
     ]
    },
    {
     "name": "stderr",
     "output_type": "stream",
     "text": [
      "\rMorphologyExtractor create index: 1883978it [00:13, 136334.74it/s]"
     ]
    },
    {
     "name": "stderr",
     "output_type": "stream",
     "text": [
      "\rMorphologyExtractor create index: 1898851it [00:13, 136410.88it/s]"
     ]
    },
    {
     "name": "stderr",
     "output_type": "stream",
     "text": [
      "\rMorphologyExtractor create index: 1913666it [00:14, 136493.44it/s]"
     ]
    },
    {
     "name": "stderr",
     "output_type": "stream",
     "text": [
      "\rMorphologyExtractor create index: 1928695it [00:14, 136591.11it/s]"
     ]
    },
    {
     "name": "stderr",
     "output_type": "stream",
     "text": [
      "\rMorphologyExtractor create index: 1944397it [00:14, 136734.77it/s]"
     ]
    },
    {
     "name": "stderr",
     "output_type": "stream",
     "text": [
      "\rMorphologyExtractor create index: 1959521it [00:14, 136793.71it/s]"
     ]
    },
    {
     "name": "stderr",
     "output_type": "stream",
     "text": [
      "\rMorphologyExtractor create index: 1974830it [00:14, 136906.52it/s]"
     ]
    },
    {
     "name": "stderr",
     "output_type": "stream",
     "text": [
      "\rMorphologyExtractor create index: 1990208it [00:14, 137022.76it/s]"
     ]
    },
    {
     "name": "stderr",
     "output_type": "stream",
     "text": [
      "\rMorphologyExtractor create index: 2006154it [00:14, 137176.17it/s]"
     ]
    },
    {
     "name": "stderr",
     "output_type": "stream",
     "text": [
      "\rMorphologyExtractor create index: 2021539it [00:14, 137269.29it/s]"
     ]
    },
    {
     "name": "stderr",
     "output_type": "stream",
     "text": [
      "\rMorphologyExtractor create index: 2036931it [00:14, 137381.49it/s]"
     ]
    },
    {
     "name": "stderr",
     "output_type": "stream",
     "text": [
      "\rMorphologyExtractor create index: 2052545it [00:14, 137507.17it/s]"
     ]
    },
    {
     "name": "stderr",
     "output_type": "stream",
     "text": [
      "\rMorphologyExtractor create index: 2067952it [00:15, 137581.99it/s]"
     ]
    },
    {
     "name": "stderr",
     "output_type": "stream",
     "text": [
      "\rMorphologyExtractor create index: 2083188it [00:15, 137658.25it/s]"
     ]
    },
    {
     "name": "stderr",
     "output_type": "stream",
     "text": [
      "\rMorphologyExtractor create index: 2098319it [00:15, 137710.68it/s]"
     ]
    },
    {
     "name": "stderr",
     "output_type": "stream",
     "text": [
      "\rMorphologyExtractor create index: 2113271it [00:15, 137742.32it/s]"
     ]
    },
    {
     "name": "stderr",
     "output_type": "stream",
     "text": [
      "\rMorphologyExtractor create index: 2128008it [00:15, 137788.89it/s]"
     ]
    },
    {
     "name": "stderr",
     "output_type": "stream",
     "text": [
      "\rMorphologyExtractor create index: 2142668it [00:15, 137839.91it/s]"
     ]
    },
    {
     "name": "stderr",
     "output_type": "stream",
     "text": [
      "\rMorphologyExtractor create index: 2157300it [00:15, 137855.43it/s]"
     ]
    },
    {
     "name": "stderr",
     "output_type": "stream",
     "text": [
      "\rMorphologyExtractor create index: 2172273it [00:15, 137930.76it/s]"
     ]
    },
    {
     "name": "stderr",
     "output_type": "stream",
     "text": [
      "\rMorphologyExtractor create index: 2187091it [00:15, 137995.52it/s]"
     ]
    },
    {
     "name": "stderr",
     "output_type": "stream",
     "text": [
      "\rMorphologyExtractor create index: 2201760it [00:15, 138012.77it/s]"
     ]
    },
    {
     "name": "stderr",
     "output_type": "stream",
     "text": [
      "\rMorphologyExtractor create index: 2216248it [00:16, 138017.91it/s]"
     ]
    },
    {
     "name": "stderr",
     "output_type": "stream",
     "text": [
      "\rMorphologyExtractor create index: 2230554it [00:16, 138025.12it/s]"
     ]
    },
    {
     "name": "stderr",
     "output_type": "stream",
     "text": [
      "\rMorphologyExtractor create index: 2245241it [00:16, 138080.72it/s]"
     ]
    },
    {
     "name": "stderr",
     "output_type": "stream",
     "text": [
      "\rMorphologyExtractor create index: 2259583it [00:16, 138099.34it/s]"
     ]
    },
    {
     "name": "stderr",
     "output_type": "stream",
     "text": [
      "\rMorphologyExtractor create index: 2273855it [00:16, 138115.62it/s]"
     ]
    },
    {
     "name": "stderr",
     "output_type": "stream",
     "text": [
      "\rMorphologyExtractor create index: 2288650it [00:16, 138175.01it/s]"
     ]
    },
    {
     "name": "stderr",
     "output_type": "stream",
     "text": [
      "\rMorphologyExtractor create index: 2303100it [00:16, 138213.01it/s]"
     ]
    },
    {
     "name": "stderr",
     "output_type": "stream",
     "text": [
      "\rMorphologyExtractor create index: 2317989it [00:16, 138276.66it/s]"
     ]
    },
    {
     "name": "stderr",
     "output_type": "stream",
     "text": [
      "\rMorphologyExtractor create index: 2332890it [00:16, 138340.29it/s]"
     ]
    },
    {
     "name": "stderr",
     "output_type": "stream",
     "text": [
      "\rMorphologyExtractor create index: 2348086it [00:16, 138420.58it/s]"
     ]
    },
    {
     "name": "stderr",
     "output_type": "stream",
     "text": [
      "\rMorphologyExtractor create index: 2363239it [00:17, 138497.34it/s]"
     ]
    },
    {
     "name": "stderr",
     "output_type": "stream",
     "text": [
      "\rMorphologyExtractor create index: 2378409it [00:17, 138574.22it/s]"
     ]
    },
    {
     "name": "stderr",
     "output_type": "stream",
     "text": [
      "\rMorphologyExtractor create index: 2394025it [00:17, 138676.05it/s]"
     ]
    },
    {
     "name": "stderr",
     "output_type": "stream",
     "text": [
      "\rMorphologyExtractor create index: 2409206it [00:17, 138717.36it/s]"
     ]
    },
    {
     "name": "stderr",
     "output_type": "stream",
     "text": [
      "\rMorphologyExtractor create index: 2424199it [00:17, 138772.64it/s]"
     ]
    },
    {
     "name": "stderr",
     "output_type": "stream",
     "text": [
      "\rMorphologyExtractor create index: 2439602it [00:17, 138859.53it/s]"
     ]
    },
    {
     "name": "stderr",
     "output_type": "stream",
     "text": [
      "\rMorphologyExtractor create index: 2454683it [00:17, 138914.86it/s]"
     ]
    },
    {
     "name": "stderr",
     "output_type": "stream",
     "text": [
      "\rMorphologyExtractor create index: 2469840it [00:17, 138986.04it/s]"
     ]
    },
    {
     "name": "stderr",
     "output_type": "stream",
     "text": [
      "\rMorphologyExtractor create index: 2485063it [00:17, 139060.13it/s]"
     ]
    },
    {
     "name": "stderr",
     "output_type": "stream",
     "text": [
      "\rMorphologyExtractor create index: 2500169it [00:17, 139112.70it/s]"
     ]
    },
    {
     "name": "stderr",
     "output_type": "stream",
     "text": [
      "\rMorphologyExtractor create index: 2515367it [00:18, 139183.88it/s]"
     ]
    },
    {
     "name": "stderr",
     "output_type": "stream",
     "text": [
      "\rMorphologyExtractor create index: 2530444it [00:18, 139226.14it/s]"
     ]
    },
    {
     "name": "stderr",
     "output_type": "stream",
     "text": [
      "\rMorphologyExtractor create index: 2545818it [00:18, 139305.55it/s]"
     ]
    },
    {
     "name": "stderr",
     "output_type": "stream",
     "text": [
      "\rMorphologyExtractor create index: 2561367it [00:18, 139393.60it/s]"
     ]
    },
    {
     "name": "stderr",
     "output_type": "stream",
     "text": [
      "\rMorphologyExtractor create index: 2576587it [00:18, 139449.28it/s]"
     ]
    },
    {
     "name": "stderr",
     "output_type": "stream",
     "text": [
      "\rMorphologyExtractor create index: 2591727it [00:18, 139481.64it/s]"
     ]
    },
    {
     "name": "stderr",
     "output_type": "stream",
     "text": [
      "\rMorphologyExtractor create index: 2606686it [00:18, 139512.52it/s]"
     ]
    },
    {
     "name": "stderr",
     "output_type": "stream",
     "text": [
      "\rMorphologyExtractor create index: 2621505it [00:18, 139525.27it/s]"
     ]
    },
    {
     "name": "stderr",
     "output_type": "stream",
     "text": [
      "\rMorphologyExtractor create index: 2636740it [00:18, 139593.05it/s]"
     ]
    },
    {
     "name": "stderr",
     "output_type": "stream",
     "text": [
      "\rMorphologyExtractor create index: 2651550it [00:18, 139626.38it/s]"
     ]
    },
    {
     "name": "stderr",
     "output_type": "stream",
     "text": [
      "\rMorphologyExtractor create index: 2666291it [00:19, 139655.94it/s]"
     ]
    },
    {
     "name": "stderr",
     "output_type": "stream",
     "text": [
      "\rMorphologyExtractor create index: 2681360it [00:19, 139713.43it/s]"
     ]
    },
    {
     "name": "stderr",
     "output_type": "stream",
     "text": [
      "\rMorphologyExtractor create index: 2696153it [00:19, 139737.56it/s]"
     ]
    },
    {
     "name": "stderr",
     "output_type": "stream",
     "text": [
      "\rMorphologyExtractor create index: 2711528it [00:19, 139809.81it/s]"
     ]
    },
    {
     "name": "stderr",
     "output_type": "stream",
     "text": [
      "\rMorphologyExtractor create index: 2726419it [00:19, 139855.06it/s]"
     ]
    },
    {
     "name": "stderr",
     "output_type": "stream",
     "text": [
      "\rMorphologyExtractor create index: 2741301it [00:19, 139859.94it/s]"
     ]
    },
    {
     "name": "stderr",
     "output_type": "stream",
     "text": [
      "\rMorphologyExtractor create index: 2755942it [00:19, 139853.52it/s]"
     ]
    },
    {
     "name": "stderr",
     "output_type": "stream",
     "text": [
      "\rMorphologyExtractor create index: 2770350it [00:19, 139868.30it/s]"
     ]
    },
    {
     "name": "stderr",
     "output_type": "stream",
     "text": [
      "\rMorphologyExtractor create index: 2785082it [00:19, 139905.72it/s]"
     ]
    },
    {
     "name": "stderr",
     "output_type": "stream",
     "text": [
      "\rMorphologyExtractor create index: 2799560it [00:20, 139928.63it/s]"
     ]
    },
    {
     "name": "stderr",
     "output_type": "stream",
     "text": [
      "\rMorphologyExtractor create index: 2814291it [00:20, 139965.32it/s]"
     ]
    },
    {
     "name": "stderr",
     "output_type": "stream",
     "text": [
      "\rMorphologyExtractor create index: 2828933it [00:20, 139997.18it/s]"
     ]
    },
    {
     "name": "stderr",
     "output_type": "stream",
     "text": [
      "\rMorphologyExtractor create index: 2843601it [00:20, 140030.06it/s]"
     ]
    },
    {
     "name": "stderr",
     "output_type": "stream",
     "text": [
      "\rMorphologyExtractor create index: 2858204it [00:20, 140054.07it/s]"
     ]
    },
    {
     "name": "stderr",
     "output_type": "stream",
     "text": [
      "\rMorphologyExtractor create index: 2872773it [00:20, 140075.93it/s]"
     ]
    },
    {
     "name": "stderr",
     "output_type": "stream",
     "text": [
      "\rMorphologyExtractor create index: 2887852it [00:20, 140127.94it/s]"
     ]
    },
    {
     "name": "stderr",
     "output_type": "stream",
     "text": [
      "\rMorphologyExtractor create index: 2902549it [00:20, 140130.69it/s]"
     ]
    },
    {
     "name": "stderr",
     "output_type": "stream",
     "text": [
      "\rMorphologyExtractor create index: 2917058it [00:20, 140151.60it/s]"
     ]
    },
    {
     "name": "stderr",
     "output_type": "stream",
     "text": [
      "\rMorphologyExtractor create index: 2932019it [00:20, 140197.50it/s]"
     ]
    },
    {
     "name": "stderr",
     "output_type": "stream",
     "text": [
      "\rMorphologyExtractor create index: 2946654it [00:21, 140202.63it/s]"
     ]
    },
    {
     "name": "stderr",
     "output_type": "stream",
     "text": [
      "\rMorphologyExtractor create index: 2961136it [00:21, 140218.97it/s]"
     ]
    },
    {
     "name": "stderr",
     "output_type": "stream",
     "text": [
      "\rMorphologyExtractor create index: 2976529it [00:21, 140283.64it/s]"
     ]
    },
    {
     "name": "stderr",
     "output_type": "stream",
     "text": [
      "\rMorphologyExtractor create index: 2991259it [00:21, 140277.86it/s]"
     ]
    },
    {
     "name": "stderr",
     "output_type": "stream",
     "text": [
      "\rMorphologyExtractor create index: 3005964it [00:21, 140309.38it/s]"
     ]
    },
    {
     "name": "stderr",
     "output_type": "stream",
     "text": [
      "\rMorphologyExtractor create index: 3020515it [00:21, 140318.20it/s]"
     ]
    },
    {
     "name": "stderr",
     "output_type": "stream",
     "text": [
      "\rMorphologyExtractor create index: 3035120it [00:21, 140344.74it/s]"
     ]
    },
    {
     "name": "stderr",
     "output_type": "stream",
     "text": [
      "\rMorphologyExtractor create index: 3049617it [00:21, 140346.54it/s]"
     ]
    },
    {
     "name": "stderr",
     "output_type": "stream",
     "text": [
      "\rMorphologyExtractor create index: 3064703it [00:21, 140394.00it/s]"
     ]
    },
    {
     "name": "stderr",
     "output_type": "stream",
     "text": [
      "\rMorphologyExtractor create index: 3079419it [00:21, 140425.57it/s]"
     ]
    },
    {
     "name": "stderr",
     "output_type": "stream",
     "text": [
      "\rMorphologyExtractor create index: 3094043it [00:22, 140438.29it/s]"
     ]
    },
    {
     "name": "stderr",
     "output_type": "stream",
     "text": [
      "\rMorphologyExtractor create index: 3108929it [00:22, 140476.32it/s]"
     ]
    },
    {
     "name": "stderr",
     "output_type": "stream",
     "text": [
      "\rMorphologyExtractor create index: 3124039it [00:22, 140524.08it/s]"
     ]
    },
    {
     "name": "stderr",
     "output_type": "stream",
     "text": [
      "\rMorphologyExtractor create index: 3138932it [00:22, 140561.70it/s]"
     ]
    },
    {
     "name": "stderr",
     "output_type": "stream",
     "text": [
      "\rMorphologyExtractor create index: 3153998it [00:22, 140606.69it/s]"
     ]
    },
    {
     "name": "stderr",
     "output_type": "stream",
     "text": [
      "\rMorphologyExtractor create index: 3168887it [00:22, 140627.58it/s]"
     ]
    },
    {
     "name": "stderr",
     "output_type": "stream",
     "text": [
      "\rMorphologyExtractor create index: 3183666it [00:22, 140625.06it/s]"
     ]
    },
    {
     "name": "stderr",
     "output_type": "stream",
     "text": [
      "\rMorphologyExtractor create index: 3198532it [00:22, 140659.73it/s]"
     ]
    },
    {
     "name": "stderr",
     "output_type": "stream",
     "text": [
      "\rMorphologyExtractor create index: 3213601it [00:22, 140704.24it/s]"
     ]
    },
    {
     "name": "stderr",
     "output_type": "stream",
     "text": [
      "\rMorphologyExtractor create index: 3228372it [00:22, 140710.16it/s]"
     ]
    },
    {
     "name": "stderr",
     "output_type": "stream",
     "text": [
      "\rMorphologyExtractor create index: 3243242it [00:23, 140744.84it/s]"
     ]
    },
    {
     "name": "stderr",
     "output_type": "stream",
     "text": [
      "\rMorphologyExtractor create index: 3257923it [00:23, 140761.25it/s]"
     ]
    },
    {
     "name": "stderr",
     "output_type": "stream",
     "text": [
      "\rMorphologyExtractor create index: 3272535it [00:23, 140760.22it/s]"
     ]
    },
    {
     "name": "stderr",
     "output_type": "stream",
     "text": [
      "\rMorphologyExtractor create index: 3287167it [00:23, 140783.94it/s]"
     ]
    },
    {
     "name": "stderr",
     "output_type": "stream",
     "text": [
      "\rMorphologyExtractor create index: 3301723it [00:23, 140804.17it/s]"
     ]
    },
    {
     "name": "stderr",
     "output_type": "stream",
     "text": [
      "\rMorphologyExtractor create index: 3316896it [00:23, 140850.57it/s]"
     ]
    },
    {
     "name": "stderr",
     "output_type": "stream",
     "text": [
      "\rMorphologyExtractor create index: 3331609it [00:23, 140825.19it/s]"
     ]
    },
    {
     "name": "stderr",
     "output_type": "stream",
     "text": [
      "\rMorphologyExtractor create index: 3346307it [00:23, 140850.87it/s]"
     ]
    },
    {
     "name": "stderr",
     "output_type": "stream",
     "text": [
      "\rMorphologyExtractor create index: 3361792it [00:23, 140909.64it/s]"
     ]
    },
    {
     "name": "stderr",
     "output_type": "stream",
     "text": [
      "\rMorphologyExtractor create index: 3376560it [00:23, 140936.73it/s]"
     ]
    },
    {
     "name": "stderr",
     "output_type": "stream",
     "text": [
      "\rMorphologyExtractor create index: 3391319it [00:24, 140953.58it/s]"
     ]
    },
    {
     "name": "stderr",
     "output_type": "stream",
     "text": [
      "\rMorphologyExtractor create index: 3406003it [00:24, 140944.15it/s]"
     ]
    },
    {
     "name": "stderr",
     "output_type": "stream",
     "text": [
      "\rMorphologyExtractor create index: 3420749it [00:24, 140970.99it/s]"
     ]
    },
    {
     "name": "stderr",
     "output_type": "stream",
     "text": [
      "\rMorphologyExtractor create index: 3435418it [00:24, 140994.47it/s]"
     ]
    },
    {
     "name": "stderr",
     "output_type": "stream",
     "text": [
      "\rMorphologyExtractor create index: 3449990it [00:24, 141009.77it/s]"
     ]
    },
    {
     "name": "stderr",
     "output_type": "stream",
     "text": [
      "\rMorphologyExtractor create index: 3464593it [00:24, 141030.20it/s]"
     ]
    },
    {
     "name": "stderr",
     "output_type": "stream",
     "text": [
      "\rMorphologyExtractor create index: 3479154it [00:24, 141030.42it/s]"
     ]
    },
    {
     "name": "stderr",
     "output_type": "stream",
     "text": [
      "\rMorphologyExtractor create index: 3493649it [00:24, 141046.23it/s]"
     ]
    },
    {
     "name": "stderr",
     "output_type": "stream",
     "text": [
      "\rMorphologyExtractor create index: 3508099it [00:24, 141060.17it/s]"
     ]
    },
    {
     "name": "stderr",
     "output_type": "stream",
     "text": [
      "\rMorphologyExtractor create index: 3523425it [00:24, 141109.02it/s]"
     ]
    },
    {
     "name": "stderr",
     "output_type": "stream",
     "text": [
      "\rMorphologyExtractor create index: 3538136it [00:25, 141094.94it/s]"
     ]
    },
    {
     "name": "stderr",
     "output_type": "stream",
     "text": [
      "\rMorphologyExtractor create index: 3552795it [00:25, 141116.76it/s]"
     ]
    },
    {
     "name": "stderr",
     "output_type": "stream",
     "text": [
      "\rMorphologyExtractor create index: 3567296it [00:25, 141095.69it/s]"
     ]
    },
    {
     "name": "stderr",
     "output_type": "stream",
     "text": [
      "\rMorphologyExtractor create index: 3582193it [00:25, 141127.26it/s]"
     ]
    },
    {
     "name": "stderr",
     "output_type": "stream",
     "text": [
      "\rMorphologyExtractor create index: 3596629it [00:25, 141119.10it/s]"
     ]
    },
    {
     "name": "stderr",
     "output_type": "stream",
     "text": [
      "\rMorphologyExtractor create index: 3610990it [00:25, 141128.78it/s]"
     ]
    },
    {
     "name": "stderr",
     "output_type": "stream",
     "text": [
      "\rMorphologyExtractor create index: 3625293it [00:25, 141096.04it/s]"
     ]
    },
    {
     "name": "stderr",
     "output_type": "stream",
     "text": [
      "\rMorphologyExtractor create index: 3639304it [00:25, 141065.10it/s]"
     ]
    },
    {
     "name": "stderr",
     "output_type": "stream",
     "text": [
      "\rMorphologyExtractor create index: 3653116it [00:25, 141021.45it/s]"
     ]
    },
    {
     "name": "stderr",
     "output_type": "stream",
     "text": [
      "\rMorphologyExtractor create index: 3666697it [00:26, 140953.47it/s]"
     ]
    },
    {
     "name": "stderr",
     "output_type": "stream",
     "text": [
      "\rMorphologyExtractor create index: 3680066it [00:26, 140925.66it/s]"
     ]
    },
    {
     "name": "stderr",
     "output_type": "stream",
     "text": [
      "\rMorphologyExtractor create index: 3693369it [00:26, 140895.47it/s]"
     ]
    },
    {
     "name": "stderr",
     "output_type": "stream",
     "text": [
      "\rMorphologyExtractor create index: 3707831it [00:26, 140909.65it/s]"
     ]
    },
    {
     "name": "stderr",
     "output_type": "stream",
     "text": [
      "\rMorphologyExtractor create index: 3722334it [00:26, 140925.25it/s]"
     ]
    },
    {
     "name": "stderr",
     "output_type": "stream",
     "text": [
      "\rMorphologyExtractor create index: 3736235it [00:26, 140917.67it/s]"
     ]
    },
    {
     "name": "stderr",
     "output_type": "stream",
     "text": [
      "\rMorphologyExtractor create index: 3750446it [00:26, 140922.12it/s]"
     ]
    },
    {
     "name": "stderr",
     "output_type": "stream",
     "text": [
      "\rMorphologyExtractor create index: 3764438it [00:26, 140858.68it/s]"
     ]
    },
    {
     "name": "stderr",
     "output_type": "stream",
     "text": [
      "\rMorphologyExtractor create index: 3778003it [00:26, 140831.59it/s]"
     ]
    },
    {
     "name": "stderr",
     "output_type": "stream",
     "text": [
      "\rMorphologyExtractor create index: 3792190it [00:26, 140835.32it/s]"
     ]
    },
    {
     "name": "stderr",
     "output_type": "stream",
     "text": [
      "\rMorphologyExtractor create index: 3807229it [00:27, 140870.73it/s]"
     ]
    },
    {
     "name": "stderr",
     "output_type": "stream",
     "text": [
      "\rMorphologyExtractor create index: 3822596it [00:27, 140917.88it/s]"
     ]
    },
    {
     "name": "stderr",
     "output_type": "stream",
     "text": [
      "\rMorphologyExtractor create index: 3837924it [00:27, 140963.29it/s]"
     ]
    },
    {
     "name": "stderr",
     "output_type": "stream",
     "text": [
      "\rMorphologyExtractor create index: 3852663it [00:27, 140979.56it/s]"
     ]
    },
    {
     "name": "stderr",
     "output_type": "stream",
     "text": [
      "\rMorphologyExtractor create index: 3867341it [00:27, 140991.15it/s]"
     ]
    },
    {
     "name": "stderr",
     "output_type": "stream",
     "text": [
      "\rMorphologyExtractor create index: 3882292it [00:27, 141022.11it/s]"
     ]
    },
    {
     "name": "stderr",
     "output_type": "stream",
     "text": [
      "\rMorphologyExtractor create index: 3896996it [00:27, 141038.27it/s]"
     ]
    },
    {
     "name": "stderr",
     "output_type": "stream",
     "text": [
      "\rMorphologyExtractor create index: 3911653it [00:27, 141023.02it/s]"
     ]
    },
    {
     "name": "stderr",
     "output_type": "stream",
     "text": [
      "\rMorphologyExtractor create index: 3926025it [00:27, 141032.63it/s]"
     ]
    },
    {
     "name": "stderr",
     "output_type": "stream",
     "text": [
      "\rMorphologyExtractor create index: 3940779it [00:27, 141055.95it/s]"
     ]
    },
    {
     "name": "stderr",
     "output_type": "stream",
     "text": [
      "\rMorphologyExtractor create index: 3955266it [00:28, 141066.72it/s]"
     ]
    },
    {
     "name": "stderr",
     "output_type": "stream",
     "text": [
      "\rMorphologyExtractor create index: 3970423it [00:28, 141104.03it/s]"
     ]
    },
    {
     "name": "stderr",
     "output_type": "stream",
     "text": [
      "\rMorphologyExtractor create index: 3985546it [00:28, 141139.86it/s]"
     ]
    },
    {
     "name": "stderr",
     "output_type": "stream",
     "text": [
      "\rMorphologyExtractor create index: 4000435it [00:28, 141167.17it/s]"
     ]
    },
    {
     "name": "stderr",
     "output_type": "stream",
     "text": [
      "\rMorphologyExtractor create index: 4015490it [00:28, 141200.17it/s]"
     ]
    },
    {
     "name": "stderr",
     "output_type": "stream",
     "text": [
      "\rMorphologyExtractor create index: 4030388it [00:28, 141210.02it/s]"
     ]
    },
    {
     "name": "stderr",
     "output_type": "stream",
     "text": [
      "\rMorphologyExtractor create index: 4045559it [00:28, 141246.56it/s]"
     ]
    },
    {
     "name": "stderr",
     "output_type": "stream",
     "text": [
      "\rMorphologyExtractor create index: 4060433it [00:28, 141194.37it/s]"
     ]
    },
    {
     "name": "stderr",
     "output_type": "stream",
     "text": [
      "\rMorphologyExtractor create index: 4074693it [00:28, 141171.25it/s]"
     ]
    },
    {
     "name": "stderr",
     "output_type": "stream",
     "text": [
      "\rMorphologyExtractor create index: 4089521it [00:28, 141195.72it/s]"
     ]
    },
    {
     "name": "stderr",
     "output_type": "stream",
     "text": [
      "\rMorphologyExtractor create index: 4103938it [00:29, 141205.98it/s]"
     ]
    },
    {
     "name": "stderr",
     "output_type": "stream",
     "text": [
      "\rMorphologyExtractor create index: 4118779it [00:29, 141230.68it/s]"
     ]
    },
    {
     "name": "stderr",
     "output_type": "stream",
     "text": [
      "\rMorphologyExtractor create index: 4133251it [00:29, 141228.42it/s]"
     ]
    },
    {
     "name": "stderr",
     "output_type": "stream",
     "text": [
      "\rMorphologyExtractor create index: 4148004it [00:29, 141249.86it/s]"
     ]
    },
    {
     "name": "stderr",
     "output_type": "stream",
     "text": [
      "\rMorphologyExtractor create index: 4162473it [00:29, 141257.77it/s]"
     ]
    },
    {
     "name": "stderr",
     "output_type": "stream",
     "text": [
      "\rMorphologyExtractor create index: 4177164it [00:29, 141276.88it/s]"
     ]
    },
    {
     "name": "stderr",
     "output_type": "stream",
     "text": [
      "\rMorphologyExtractor create index: 4192708it [00:29, 141324.57it/s]"
     ]
    },
    {
     "name": "stderr",
     "output_type": "stream",
     "text": [
      "\rMorphologyExtractor create index: 4207664it [00:29, 141352.20it/s]"
     ]
    },
    {
     "name": "stderr",
     "output_type": "stream",
     "text": [
      "\rMorphologyExtractor create index: 4223252it [00:29, 141400.84it/s]"
     ]
    },
    {
     "name": "stderr",
     "output_type": "stream",
     "text": [
      "\rMorphologyExtractor create index: 4238452it [00:29, 141436.20it/s]"
     ]
    },
    {
     "name": "stderr",
     "output_type": "stream",
     "text": [
      "\rMorphologyExtractor create index: 4254394it [00:30, 141496.03it/s]"
     ]
    },
    {
     "name": "stderr",
     "output_type": "stream",
     "text": [
      "\rMorphologyExtractor create index: 4269758it [00:30, 141528.81it/s]"
     ]
    },
    {
     "name": "stderr",
     "output_type": "stream",
     "text": [
      "\rMorphologyExtractor create index: 4285050it [00:30, 141549.67it/s]"
     ]
    },
    {
     "name": "stderr",
     "output_type": "stream",
     "text": [
      "\rMorphologyExtractor create index: 4300634it [00:30, 141596.53it/s]"
     ]
    },
    {
     "name": "stderr",
     "output_type": "stream",
     "text": [
      "\rMorphologyExtractor create index: 4315903it [00:30, 141615.79it/s]"
     ]
    },
    {
     "name": "stderr",
     "output_type": "stream",
     "text": [
      "\rMorphologyExtractor create index: 4331007it [00:30, 141633.80it/s]"
     ]
    },
    {
     "name": "stderr",
     "output_type": "stream",
     "text": [
      "\rMorphologyExtractor create index: 4345990it [00:30, 141654.88it/s]"
     ]
    },
    {
     "name": "stderr",
     "output_type": "stream",
     "text": [
      "\rMorphologyExtractor create index: 4360919it [00:30, 141674.66it/s]"
     ]
    },
    {
     "name": "stderr",
     "output_type": "stream",
     "text": [
      "\rMorphologyExtractor create index: 4375975it [00:30, 141703.42it/s]"
     ]
    },
    {
     "name": "stderr",
     "output_type": "stream",
     "text": [
      "\rMorphologyExtractor create index: 4390908it [00:30, 141724.88it/s]"
     ]
    },
    {
     "name": "stderr",
     "output_type": "stream",
     "text": [
      "\rMorphologyExtractor create index: 4406297it [00:31, 141764.01it/s]"
     ]
    },
    {
     "name": "stderr",
     "output_type": "stream",
     "text": [
      "\rMorphologyExtractor create index: 4421346it [00:31, 141766.77it/s]"
     ]
    },
    {
     "name": "stderr",
     "output_type": "stream",
     "text": [
      "\rMorphologyExtractor create index: 4436158it [00:31, 141775.66it/s]"
     ]
    },
    {
     "name": "stderr",
     "output_type": "stream",
     "text": [
      "\rMorphologyExtractor create index: 4450860it [00:31, 141781.92it/s]"
     ]
    },
    {
     "name": "stderr",
     "output_type": "stream",
     "text": [
      "\rMorphologyExtractor create index: 4466069it [00:31, 141814.66it/s]"
     ]
    },
    {
     "name": "stderr",
     "output_type": "stream",
     "text": [
      "\rMorphologyExtractor create index: 4480854it [00:31, 141821.08it/s]"
     ]
    },
    {
     "name": "stderr",
     "output_type": "stream",
     "text": [
      "\rMorphologyExtractor create index: 4495618it [00:31, 141839.45it/s]"
     ]
    },
    {
     "name": "stderr",
     "output_type": "stream",
     "text": [
      "\rMorphologyExtractor create index: 4510630it [00:31, 141865.47it/s]"
     ]
    },
    {
     "name": "stderr",
     "output_type": "stream",
     "text": [
      "\rMorphologyExtractor create index: 4525743it [00:31, 141894.51it/s]"
     ]
    },
    {
     "name": "stderr",
     "output_type": "stream",
     "text": [
      "\rMorphologyExtractor create index: 4541076it [00:31, 141930.21it/s]"
     ]
    },
    {
     "name": "stderr",
     "output_type": "stream",
     "text": [
      "\rMorphologyExtractor create index: 4556844it [00:32, 141979.29it/s]"
     ]
    },
    {
     "name": "stderr",
     "output_type": "stream",
     "text": [
      "\rMorphologyExtractor create index: 4572865it [00:32, 142035.87it/s]"
     ]
    },
    {
     "name": "stderr",
     "output_type": "stream",
     "text": [
      "\rMorphologyExtractor create index: 4588342it [00:32, 142068.99it/s]"
     ]
    },
    {
     "name": "stderr",
     "output_type": "stream",
     "text": [
      "\rMorphologyExtractor create index: 4603949it [00:32, 142112.14it/s]"
     ]
    },
    {
     "name": "stderr",
     "output_type": "stream",
     "text": [
      "\rMorphologyExtractor create index: 4619419it [00:32, 142121.72it/s]"
     ]
    },
    {
     "name": "stderr",
     "output_type": "stream",
     "text": [
      "\rMorphologyExtractor create index: 4634599it [00:32, 142136.80it/s]"
     ]
    },
    {
     "name": "stderr",
     "output_type": "stream",
     "text": [
      "\rMorphologyExtractor create index: 4649631it [00:32, 142115.94it/s]"
     ]
    },
    {
     "name": "stderr",
     "output_type": "stream",
     "text": [
      "\rMorphologyExtractor create index: 4664308it [00:32, 142130.08it/s]"
     ]
    },
    {
     "name": "stderr",
     "output_type": "stream",
     "text": [
      "\rMorphologyExtractor create index: 4679148it [00:32, 142149.07it/s]"
     ]
    },
    {
     "name": "stderr",
     "output_type": "stream",
     "text": [
      "\rMorphologyExtractor create index: 4693837it [00:33, 142157.18it/s]"
     ]
    },
    {
     "name": "stderr",
     "output_type": "stream",
     "text": [
      "\rMorphologyExtractor create index: 4708463it [00:33, 142166.06it/s]"
     ]
    },
    {
     "name": "stderr",
     "output_type": "stream",
     "text": [
      "\rMorphologyExtractor create index: 4723928it [00:33, 142203.61it/s]"
     ]
    },
    {
     "name": "stderr",
     "output_type": "stream",
     "text": [
      "\rMorphologyExtractor create index: 4738781it [00:33, 142205.99it/s]"
     ]
    },
    {
     "name": "stderr",
     "output_type": "stream",
     "text": [
      "\rMorphologyExtractor create index: 4753565it [00:33, 142222.87it/s]"
     ]
    },
    {
     "name": "stderr",
     "output_type": "stream",
     "text": [
      "\rMorphologyExtractor create index: 4768292it [00:33, 142237.91it/s]"
     ]
    },
    {
     "name": "stderr",
     "output_type": "stream",
     "text": [
      "\rMorphologyExtractor create index: 4783247it [00:33, 142259.66it/s]"
     ]
    },
    {
     "name": "stderr",
     "output_type": "stream",
     "text": [
      "\rMorphologyExtractor create index: 4798288it [00:33, 142283.78it/s]"
     ]
    },
    {
     "name": "stderr",
     "output_type": "stream",
     "text": [
      "\rMorphologyExtractor create index: 4813190it [00:33, 142303.71it/s]"
     ]
    },
    {
     "name": "stderr",
     "output_type": "stream",
     "text": [
      "\rMorphologyExtractor create index: 4828066it [00:33, 142315.23it/s]"
     ]
    },
    {
     "name": "stderr",
     "output_type": "stream",
     "text": [
      "\rMorphologyExtractor create index: 4843584it [00:34, 142353.00it/s]"
     ]
    },
    {
     "name": "stderr",
     "output_type": "stream",
     "text": [
      "\rMorphologyExtractor create index: 4858806it [00:34, 142381.93it/s]"
     ]
    },
    {
     "name": "stderr",
     "output_type": "stream",
     "text": [
      "\rMorphologyExtractor create index: 4873882it [00:34, 142378.69it/s]"
     ]
    },
    {
     "name": "stderr",
     "output_type": "stream",
     "text": [
      "\rMorphologyExtractor create index: 4889562it [00:34, 142420.68it/s]"
     ]
    },
    {
     "name": "stderr",
     "output_type": "stream",
     "text": [
      "\rMorphologyExtractor create index: 4904622it [00:34, 142432.83it/s]"
     ]
    },
    {
     "name": "stderr",
     "output_type": "stream",
     "text": [
      "\rMorphologyExtractor create index: 4919559it [00:34, 142452.04it/s]"
     ]
    },
    {
     "name": "stderr",
     "output_type": "stream",
     "text": [
      "\rMorphologyExtractor create index: 4934487it [00:34, 142466.80it/s]"
     ]
    },
    {
     "name": "stderr",
     "output_type": "stream",
     "text": [
      "\rMorphologyExtractor create index: 4949684it [00:34, 142494.15it/s]"
     ]
    },
    {
     "name": "stderr",
     "output_type": "stream",
     "text": [
      "\rMorphologyExtractor create index: 4964724it [00:34, 142516.83it/s]"
     ]
    },
    {
     "name": "stderr",
     "output_type": "stream",
     "text": [
      "\rMorphologyExtractor create index: 4980578it [00:34, 142562.68it/s]"
     ]
    },
    {
     "name": "stderr",
     "output_type": "stream",
     "text": [
      "\rMorphologyExtractor create index: 4995828it [00:35, 142580.25it/s]"
     ]
    },
    {
     "name": "stderr",
     "output_type": "stream",
     "text": [
      "\rMorphologyExtractor create index: 5010960it [00:35, 142604.65it/s]"
     ]
    },
    {
     "name": "stderr",
     "output_type": "stream",
     "text": [
      "\rMorphologyExtractor create index: 5026576it [00:35, 142642.80it/s]"
     ]
    },
    {
     "name": "stderr",
     "output_type": "stream",
     "text": [
      "\rMorphologyExtractor create index: 5041846it [00:35, 142650.81it/s]"
     ]
    },
    {
     "name": "stderr",
     "output_type": "stream",
     "text": [
      "\rMorphologyExtractor create index: 5056896it [00:35, 142656.90it/s]"
     ]
    },
    {
     "name": "stderr",
     "output_type": "stream",
     "text": [
      "\rMorphologyExtractor create index: 5071925it [00:35, 142678.35it/s]"
     ]
    },
    {
     "name": "stderr",
     "output_type": "stream",
     "text": [
      "\rMorphologyExtractor create index: 5087491it [00:35, 142714.81it/s]"
     ]
    },
    {
     "name": "stderr",
     "output_type": "stream",
     "text": [
      "\rMorphologyExtractor create index: 5096053it [00:35, 142738.58it/s]"
     ]
    },
    {
     "name": "stderr",
     "output_type": "stream",
     "text": [
      "\n"
     ]
    },
    {
     "name": "stderr",
     "output_type": "stream",
     "text": [
      "\rDictClassTransformer_PUNCT fit stage 1:   0%|          | 0/9517065 [00:00<?, ?it/s]"
     ]
    },
    {
     "name": "stderr",
     "output_type": "stream",
     "text": [
      "\rDictClassTransformer_PUNCT fit stage 1:   1%|          | 100425/9517065 [00:00<00:09, 1003990.04it/s]"
     ]
    },
    {
     "name": "stderr",
     "output_type": "stream",
     "text": [
      "\rDictClassTransformer_PUNCT fit stage 1:   2%|▏         | 200849/9517065 [00:00<00:09, 1004120.27it/s]"
     ]
    },
    {
     "name": "stderr",
     "output_type": "stream",
     "text": [
      "\rDictClassTransformer_PUNCT fit stage 1:   3%|▎         | 310438/9517065 [00:00<00:08, 1034693.18it/s]"
     ]
    },
    {
     "name": "stderr",
     "output_type": "stream",
     "text": [
      "\rDictClassTransformer_PUNCT fit stage 1:   5%|▍         | 430428/9517065 [00:00<00:08, 1075988.93it/s]"
     ]
    },
    {
     "name": "stderr",
     "output_type": "stream",
     "text": [
      "\rDictClassTransformer_PUNCT fit stage 1:   6%|▌         | 549764/9517065 [00:00<00:08, 1099455.13it/s]"
     ]
    },
    {
     "name": "stderr",
     "output_type": "stream",
     "text": [
      "\rDictClassTransformer_PUNCT fit stage 1:   7%|▋         | 677587/9517065 [00:00<00:07, 1129247.68it/s]"
     ]
    },
    {
     "name": "stderr",
     "output_type": "stream",
     "text": [
      "\rDictClassTransformer_PUNCT fit stage 1:   9%|▊         | 812101/9517065 [00:00<00:07, 1160071.11it/s]"
     ]
    },
    {
     "name": "stderr",
     "output_type": "stream",
     "text": [
      "\rDictClassTransformer_PUNCT fit stage 1:  10%|▉         | 942870/9517065 [00:00<00:07, 1178531.72it/s]"
     ]
    },
    {
     "name": "stderr",
     "output_type": "stream",
     "text": [
      "\rDictClassTransformer_PUNCT fit stage 1:  11%|█▏        | 1074108/9517065 [00:00<00:07, 1193401.68it/s]"
     ]
    },
    {
     "name": "stderr",
     "output_type": "stream",
     "text": [
      "\rDictClassTransformer_PUNCT fit stage 1:  13%|█▎        | 1213579/9517065 [00:01<00:06, 1213536.47it/s]"
     ]
    },
    {
     "name": "stderr",
     "output_type": "stream",
     "text": [
      "\rDictClassTransformer_PUNCT fit stage 1:  14%|█▍        | 1352937/9517065 [00:01<00:06, 1229892.19it/s]"
     ]
    },
    {
     "name": "stderr",
     "output_type": "stream",
     "text": [
      "\rDictClassTransformer_PUNCT fit stage 1:  16%|█▌        | 1489096/9517065 [00:01<00:06, 1240873.10it/s]"
     ]
    },
    {
     "name": "stderr",
     "output_type": "stream",
     "text": [
      "\rDictClassTransformer_PUNCT fit stage 1:  17%|█▋        | 1628209/9517065 [00:01<00:06, 1252430.84it/s]"
     ]
    },
    {
     "name": "stderr",
     "output_type": "stream",
     "text": [
      "\rDictClassTransformer_PUNCT fit stage 1:  19%|█▊        | 1766832/9517065 [00:01<00:06, 1261987.74it/s]"
     ]
    },
    {
     "name": "stderr",
     "output_type": "stream",
     "text": [
      "\rDictClassTransformer_PUNCT fit stage 1:  20%|█▉        | 1902621/9517065 [00:01<00:06, 1265305.57it/s]"
     ]
    },
    {
     "name": "stderr",
     "output_type": "stream",
     "text": [
      "\rDictClassTransformer_PUNCT fit stage 1:  21%|██▏       | 2040809/9517065 [00:01<00:05, 1272568.37it/s]"
     ]
    },
    {
     "name": "stderr",
     "output_type": "stream",
     "text": [
      "\rDictClassTransformer_PUNCT fit stage 1:  23%|██▎       | 2182051/9517065 [00:01<00:05, 1280786.14it/s]"
     ]
    },
    {
     "name": "stderr",
     "output_type": "stream",
     "text": [
      "\rDictClassTransformer_PUNCT fit stage 1:  24%|██▍       | 2319748/9517065 [00:01<00:05, 1286114.43it/s]"
     ]
    },
    {
     "name": "stderr",
     "output_type": "stream",
     "text": [
      "\rDictClassTransformer_PUNCT fit stage 1:  26%|██▌       | 2457116/9517065 [00:01<00:05, 1288363.82it/s]"
     ]
    },
    {
     "name": "stderr",
     "output_type": "stream",
     "text": [
      "\rDictClassTransformer_PUNCT fit stage 1:  27%|██▋       | 2595751/9517065 [00:02<00:05, 1293190.87it/s]"
     ]
    },
    {
     "name": "stderr",
     "output_type": "stream",
     "text": [
      "\rDictClassTransformer_PUNCT fit stage 1:  29%|██▉       | 2736160/9517065 [00:02<00:05, 1298495.56it/s]"
     ]
    },
    {
     "name": "stderr",
     "output_type": "stream",
     "text": [
      "\rDictClassTransformer_PUNCT fit stage 1:  30%|███       | 2877452/9517065 [00:02<00:05, 1303680.38it/s]"
     ]
    },
    {
     "name": "stderr",
     "output_type": "stream",
     "text": [
      "\rDictClassTransformer_PUNCT fit stage 1:  32%|███▏      | 3022016/9517065 [00:02<00:04, 1309832.71it/s]"
     ]
    },
    {
     "name": "stderr",
     "output_type": "stream",
     "text": [
      "\rDictClassTransformer_PUNCT fit stage 1:  33%|███▎      | 3164985/9517065 [00:02<00:04, 1314810.76it/s]"
     ]
    },
    {
     "name": "stderr",
     "output_type": "stream",
     "text": [
      "\rDictClassTransformer_PUNCT fit stage 1:  35%|███▍      | 3307596/9517065 [00:02<00:04, 1319248.40it/s]"
     ]
    },
    {
     "name": "stderr",
     "output_type": "stream",
     "text": [
      "\rDictClassTransformer_PUNCT fit stage 1:  36%|███▌      | 3449826/9517065 [00:02<00:04, 1323202.02it/s]"
     ]
    },
    {
     "name": "stderr",
     "output_type": "stream",
     "text": [
      "\rDictClassTransformer_PUNCT fit stage 1:  38%|███▊      | 3591683/9517065 [00:02<00:04, 1326619.93it/s]"
     ]
    },
    {
     "name": "stderr",
     "output_type": "stream",
     "text": [
      "\rDictClassTransformer_PUNCT fit stage 1:  39%|███▉      | 3733455/9517065 [00:02<00:04, 1328561.70it/s]"
     ]
    },
    {
     "name": "stderr",
     "output_type": "stream",
     "text": [
      "\rDictClassTransformer_PUNCT fit stage 1:  41%|████      | 3874086/9517065 [00:02<00:04, 1328771.79it/s]"
     ]
    },
    {
     "name": "stderr",
     "output_type": "stream",
     "text": [
      "\rDictClassTransformer_PUNCT fit stage 1:  42%|████▏     | 4012563/9517065 [00:03<00:04, 1329967.62it/s]"
     ]
    },
    {
     "name": "stderr",
     "output_type": "stream",
     "text": [
      "\rDictClassTransformer_PUNCT fit stage 1:  44%|████▎     | 4150424/9517065 [00:03<00:04, 1330373.64it/s]"
     ]
    },
    {
     "name": "stderr",
     "output_type": "stream",
     "text": [
      "\rDictClassTransformer_PUNCT fit stage 1:  45%|████▌     | 4288630/9517065 [00:03<00:03, 1331981.54it/s]"
     ]
    },
    {
     "name": "stderr",
     "output_type": "stream",
     "text": [
      "\rDictClassTransformer_PUNCT fit stage 1:  47%|████▋     | 4428675/9517065 [00:03<00:03, 1334043.18it/s]"
     ]
    },
    {
     "name": "stderr",
     "output_type": "stream",
     "text": [
      "\rDictClassTransformer_PUNCT fit stage 1:  48%|████▊     | 4566730/9517065 [00:03<00:03, 1333283.63it/s]"
     ]
    },
    {
     "name": "stderr",
     "output_type": "stream",
     "text": [
      "\rDictClassTransformer_PUNCT fit stage 1:  49%|████▉     | 4703768/9517065 [00:03<00:03, 1334337.52it/s]"
     ]
    },
    {
     "name": "stderr",
     "output_type": "stream",
     "text": [
      "\rDictClassTransformer_PUNCT fit stage 1:  51%|█████     | 4846362/9517065 [00:03<00:03, 1336865.90it/s]"
     ]
    },
    {
     "name": "stderr",
     "output_type": "stream",
     "text": [
      "\rDictClassTransformer_PUNCT fit stage 1:  52%|█████▏    | 4985822/9517065 [00:03<00:03, 1338416.03it/s]"
     ]
    },
    {
     "name": "stderr",
     "output_type": "stream",
     "text": [
      "\rDictClassTransformer_PUNCT fit stage 1:  54%|█████▍    | 5127100/9517065 [00:03<00:03, 1340361.56it/s]"
     ]
    },
    {
     "name": "stderr",
     "output_type": "stream",
     "text": [
      "\rDictClassTransformer_PUNCT fit stage 1:  55%|█████▌    | 5269458/9517065 [00:03<00:03, 1342480.98it/s]"
     ]
    },
    {
     "name": "stderr",
     "output_type": "stream",
     "text": [
      "\rDictClassTransformer_PUNCT fit stage 1:  57%|█████▋    | 5410945/9517065 [00:04<00:03, 1344277.36it/s]"
     ]
    },
    {
     "name": "stderr",
     "output_type": "stream",
     "text": [
      "\rDictClassTransformer_PUNCT fit stage 1:  58%|█████▊    | 5558182/9517065 [00:04<00:02, 1347384.48it/s]"
     ]
    },
    {
     "name": "stderr",
     "output_type": "stream",
     "text": [
      "\rDictClassTransformer_PUNCT fit stage 1:  60%|█████▉    | 5700795/9517065 [00:04<00:02, 1348831.98it/s]"
     ]
    },
    {
     "name": "stderr",
     "output_type": "stream",
     "text": [
      "\rDictClassTransformer_PUNCT fit stage 1:  61%|██████▏   | 5842861/9517065 [00:04<00:02, 1349625.83it/s]"
     ]
    },
    {
     "name": "stderr",
     "output_type": "stream",
     "text": [
      "\rDictClassTransformer_PUNCT fit stage 1:  63%|██████▎   | 5983779/9517065 [00:04<00:02, 1350410.93it/s]"
     ]
    },
    {
     "name": "stderr",
     "output_type": "stream",
     "text": [
      "\rDictClassTransformer_PUNCT fit stage 1:  64%|██████▍   | 6123935/9517065 [00:04<00:02, 1350776.31it/s]"
     ]
    },
    {
     "name": "stderr",
     "output_type": "stream",
     "text": [
      "\rDictClassTransformer_PUNCT fit stage 1:  66%|██████▌   | 6263045/9517065 [00:04<00:02, 1350678.48it/s]"
     ]
    },
    {
     "name": "stderr",
     "output_type": "stream",
     "text": [
      "\rDictClassTransformer_PUNCT fit stage 1:  67%|██████▋   | 6400809/9517065 [00:04<00:02, 1351196.60it/s]"
     ]
    },
    {
     "name": "stderr",
     "output_type": "stream",
     "text": [
      "\rDictClassTransformer_PUNCT fit stage 1:  69%|██████▊   | 6538503/9517065 [00:04<00:02, 1351475.97it/s]"
     ]
    },
    {
     "name": "stderr",
     "output_type": "stream",
     "text": [
      "\rDictClassTransformer_PUNCT fit stage 1:  70%|███████   | 6675823/9517065 [00:04<00:02, 1351867.69it/s]"
     ]
    },
    {
     "name": "stderr",
     "output_type": "stream",
     "text": [
      "\rDictClassTransformer_PUNCT fit stage 1:  72%|███████▏  | 6815111/9517065 [00:05<00:01, 1352682.00it/s]"
     ]
    },
    {
     "name": "stderr",
     "output_type": "stream",
     "text": [
      "\rDictClassTransformer_PUNCT fit stage 1:  73%|███████▎  | 6952971/9517065 [00:05<00:01, 1353102.43it/s]"
     ]
    },
    {
     "name": "stderr",
     "output_type": "stream",
     "text": [
      "\rDictClassTransformer_PUNCT fit stage 1:  75%|███████▍  | 7093835/9517065 [00:05<00:01, 1354162.87it/s]"
     ]
    },
    {
     "name": "stderr",
     "output_type": "stream",
     "text": [
      "\rDictClassTransformer_PUNCT fit stage 1:  76%|███████▌  | 7234980/9517065 [00:05<00:01, 1355236.17it/s]"
     ]
    },
    {
     "name": "stderr",
     "output_type": "stream",
     "text": [
      "\rDictClassTransformer_PUNCT fit stage 1:  77%|███████▋  | 7374393/9517065 [00:05<00:01, 1355828.42it/s]"
     ]
    },
    {
     "name": "stderr",
     "output_type": "stream",
     "text": [
      "\rDictClassTransformer_PUNCT fit stage 1:  79%|███████▉  | 7513602/9517065 [00:05<00:01, 1356144.25it/s]"
     ]
    },
    {
     "name": "stderr",
     "output_type": "stream",
     "text": [
      "\rDictClassTransformer_PUNCT fit stage 1:  80%|████████  | 7654810/9517065 [00:05<00:01, 1357136.71it/s]"
     ]
    },
    {
     "name": "stderr",
     "output_type": "stream",
     "text": [
      "\rDictClassTransformer_PUNCT fit stage 1:  82%|████████▏ | 7796737/9517065 [00:05<00:01, 1358218.61it/s]"
     ]
    },
    {
     "name": "stderr",
     "output_type": "stream",
     "text": [
      "\rDictClassTransformer_PUNCT fit stage 1:  83%|████████▎ | 7936903/9517065 [00:05<00:01, 1358696.93it/s]"
     ]
    },
    {
     "name": "stderr",
     "output_type": "stream",
     "text": [
      "\rDictClassTransformer_PUNCT fit stage 1:  85%|████████▍ | 8076597/9517065 [00:05<00:01, 1359288.41it/s]"
     ]
    },
    {
     "name": "stderr",
     "output_type": "stream",
     "text": [
      "\rDictClassTransformer_PUNCT fit stage 1:  86%|████████▋ | 8216195/9517065 [00:06<00:00, 1358751.93it/s]"
     ]
    },
    {
     "name": "stderr",
     "output_type": "stream",
     "text": [
      "\rDictClassTransformer_PUNCT fit stage 1:  88%|████████▊ | 8353772/9517065 [00:06<00:00, 1358941.89it/s]"
     ]
    },
    {
     "name": "stderr",
     "output_type": "stream",
     "text": [
      "\rDictClassTransformer_PUNCT fit stage 1:  89%|████████▉ | 8492007/9517065 [00:06<00:00, 1359317.91it/s]"
     ]
    },
    {
     "name": "stderr",
     "output_type": "stream",
     "text": [
      "\rDictClassTransformer_PUNCT fit stage 1:  91%|█████████ | 8636538/9517065 [00:06<00:00, 1360671.18it/s]"
     ]
    },
    {
     "name": "stderr",
     "output_type": "stream",
     "text": [
      "\rDictClassTransformer_PUNCT fit stage 1:  92%|█████████▏| 8776258/9517065 [00:06<00:00, 1361012.96it/s]"
     ]
    },
    {
     "name": "stderr",
     "output_type": "stream",
     "text": [
      "\rDictClassTransformer_PUNCT fit stage 1:  94%|█████████▎| 8915546/9517065 [00:06<00:00, 1360778.50it/s]"
     ]
    },
    {
     "name": "stderr",
     "output_type": "stream",
     "text": [
      "\rDictClassTransformer_PUNCT fit stage 1:  95%|█████████▌| 9053426/9517065 [00:06<00:00, 1360920.13it/s]"
     ]
    },
    {
     "name": "stderr",
     "output_type": "stream",
     "text": [
      "\rDictClassTransformer_PUNCT fit stage 1:  97%|█████████▋| 9193527/9517065 [00:06<00:00, 1361514.25it/s]"
     ]
    },
    {
     "name": "stderr",
     "output_type": "stream",
     "text": [
      "\rDictClassTransformer_PUNCT fit stage 1:  98%|█████████▊| 9332980/9517065 [00:06<00:00, 1361996.03it/s]"
     ]
    },
    {
     "name": "stderr",
     "output_type": "stream",
     "text": [
      "\rDictClassTransformer_PUNCT fit stage 1: 100%|█████████▉| 9471671/9517065 [00:06<00:00, 1362072.27it/s]"
     ]
    },
    {
     "name": "stderr",
     "output_type": "stream",
     "text": [
      "\rDictClassTransformer_PUNCT fit stage 1: 100%|██████████| 9517065/9517065 [00:07<00:00, 1348067.23it/s]"
     ]
    },
    {
     "name": "stderr",
     "output_type": "stream",
     "text": [
      "\n\rDictClassTransformer_PUNCT fit stage 2:   0%|          | 0/22 [00:00<?, ?it/s]"
     ]
    },
    {
     "name": "stderr",
     "output_type": "stream",
     "text": [
      "\rDictClassTransformer_PUNCT fit stage 2: 100%|██████████| 22/22 [00:00<00:00, 21419.38it/s]"
     ]
    },
    {
     "name": "stderr",
     "output_type": "stream",
     "text": [
      "\n"
     ]
    },
    {
     "name": "stderr",
     "output_type": "stream",
     "text": [
      "\rDictClassTransformer_VERBATIM fit stage 1:   0%|          | 0/9517065 [00:00<?, ?it/s]"
     ]
    },
    {
     "name": "stderr",
     "output_type": "stream",
     "text": [
      "\rDictClassTransformer_VERBATIM fit stage 1:   1%|          | 94764/9517065 [00:00<00:09, 947405.99it/s]"
     ]
    },
    {
     "name": "stderr",
     "output_type": "stream",
     "text": [
      "\rDictClassTransformer_VERBATIM fit stage 1:   1%|▏         | 123194/9517065 [00:00<00:46, 200396.01it/s]"
     ]
    },
    {
     "name": "stderr",
     "output_type": "stream",
     "text": [
      "\rDictClassTransformer_VERBATIM fit stage 1:   3%|▎         | 242277/9517065 [00:00<00:27, 338997.87it/s]"
     ]
    },
    {
     "name": "stderr",
     "output_type": "stream",
     "text": [
      "\rDictClassTransformer_VERBATIM fit stage 1:   4%|▍         | 364816/9517065 [00:00<00:20, 447792.02it/s]"
     ]
    },
    {
     "name": "stderr",
     "output_type": "stream",
     "text": [
      "\rDictClassTransformer_VERBATIM fit stage 1:   5%|▌         | 498347/9517065 [00:00<00:16, 544829.23it/s]"
     ]
    },
    {
     "name": "stderr",
     "output_type": "stream",
     "text": [
      "\rDictClassTransformer_VERBATIM fit stage 1:   7%|▋         | 647684/9517065 [00:01<00:13, 638310.46it/s]"
     ]
    },
    {
     "name": "stderr",
     "output_type": "stream",
     "text": [
      "\rDictClassTransformer_VERBATIM fit stage 1:   8%|▊         | 799541/9517065 [00:01<00:12, 717276.05it/s]"
     ]
    },
    {
     "name": "stderr",
     "output_type": "stream",
     "text": [
      "\rDictClassTransformer_VERBATIM fit stage 1:  10%|█         | 954481/9517065 [00:01<00:10, 785782.35it/s]"
     ]
    },
    {
     "name": "stderr",
     "output_type": "stream",
     "text": [
      "\rDictClassTransformer_VERBATIM fit stage 1:  12%|█▏        | 1111996/9517065 [00:01<00:09, 845824.58it/s]"
     ]
    },
    {
     "name": "stderr",
     "output_type": "stream",
     "text": [
      "\rDictClassTransformer_VERBATIM fit stage 1:  13%|█▎        | 1271510/9517065 [00:01<00:09, 898789.48it/s]"
     ]
    },
    {
     "name": "stderr",
     "output_type": "stream",
     "text": [
      "\rDictClassTransformer_VERBATIM fit stage 1:  15%|█▌        | 1435876/9517065 [00:01<00:08, 947966.51it/s]"
     ]
    },
    {
     "name": "stderr",
     "output_type": "stream",
     "text": [
      "\rDictClassTransformer_VERBATIM fit stage 1:  17%|█▋        | 1586919/9517065 [00:02<00:10, 753633.47it/s]"
     ]
    },
    {
     "name": "stderr",
     "output_type": "stream",
     "text": [
      "\rDictClassTransformer_VERBATIM fit stage 1:  18%|█▊        | 1740592/9517065 [00:02<00:09, 789137.65it/s]"
     ]
    },
    {
     "name": "stderr",
     "output_type": "stream",
     "text": [
      "\rDictClassTransformer_VERBATIM fit stage 1:  20%|█▉        | 1897058/9517065 [00:02<00:09, 822773.19it/s]"
     ]
    },
    {
     "name": "stderr",
     "output_type": "stream",
     "text": [
      "\rDictClassTransformer_VERBATIM fit stage 1:  22%|██▏       | 2062053/9517065 [00:02<00:08, 857155.57it/s]"
     ]
    },
    {
     "name": "stderr",
     "output_type": "stream",
     "text": [
      "\rDictClassTransformer_VERBATIM fit stage 1:  23%|██▎       | 2224493/9517065 [00:02<00:08, 887774.64it/s]"
     ]
    },
    {
     "name": "stderr",
     "output_type": "stream",
     "text": [
      "\rDictClassTransformer_VERBATIM fit stage 1:  25%|██▌       | 2389037/9517065 [00:02<00:07, 916851.54it/s]"
     ]
    },
    {
     "name": "stderr",
     "output_type": "stream",
     "text": [
      "\rDictClassTransformer_VERBATIM fit stage 1:  27%|██▋       | 2555210/9517065 [00:02<00:07, 944382.16it/s]"
     ]
    },
    {
     "name": "stderr",
     "output_type": "stream",
     "text": [
      "\rDictClassTransformer_VERBATIM fit stage 1:  29%|██▊       | 2721056/9517065 [00:02<00:07, 969832.22it/s]"
     ]
    },
    {
     "name": "stderr",
     "output_type": "stream",
     "text": [
      "\rDictClassTransformer_VERBATIM fit stage 1:  30%|███       | 2890785/9517065 [00:02<00:06, 994868.47it/s]"
     ]
    },
    {
     "name": "stderr",
     "output_type": "stream",
     "text": [
      "\rDictClassTransformer_VERBATIM fit stage 1:  32%|███▏      | 3060603/9517065 [00:03<00:06, 1018267.06it/s]"
     ]
    },
    {
     "name": "stderr",
     "output_type": "stream",
     "text": [
      "\rDictClassTransformer_VERBATIM fit stage 1:  34%|███▍      | 3231226/9517065 [00:03<00:06, 1040418.02it/s]"
     ]
    },
    {
     "name": "stderr",
     "output_type": "stream",
     "text": [
      "\rDictClassTransformer_VERBATIM fit stage 1:  36%|███▌      | 3402111/9517065 [00:03<00:05, 1061270.43it/s]"
     ]
    },
    {
     "name": "stderr",
     "output_type": "stream",
     "text": [
      "\rDictClassTransformer_VERBATIM fit stage 1:  38%|███▊      | 3573923/9517065 [00:03<00:05, 1081139.29it/s]"
     ]
    },
    {
     "name": "stderr",
     "output_type": "stream",
     "text": [
      "\rDictClassTransformer_VERBATIM fit stage 1:  39%|███▉      | 3750010/9517065 [00:03<00:05, 1101096.94it/s]"
     ]
    },
    {
     "name": "stderr",
     "output_type": "stream",
     "text": [
      "\rDictClassTransformer_VERBATIM fit stage 1:  41%|████      | 3923437/9517065 [00:03<00:04, 1119159.49it/s]"
     ]
    },
    {
     "name": "stderr",
     "output_type": "stream",
     "text": [
      "\rDictClassTransformer_VERBATIM fit stage 1:  43%|████▎     | 4096201/9517065 [00:03<00:04, 1136033.98it/s]"
     ]
    },
    {
     "name": "stderr",
     "output_type": "stream",
     "text": [
      "\rDictClassTransformer_VERBATIM fit stage 1:  45%|████▍     | 4272188/9517065 [00:03<00:04, 1152868.50it/s]"
     ]
    },
    {
     "name": "stderr",
     "output_type": "stream",
     "text": [
      "\rDictClassTransformer_VERBATIM fit stage 1:  47%|████▋     | 4445482/9517065 [00:03<00:04, 1167752.30it/s]"
     ]
    },
    {
     "name": "stderr",
     "output_type": "stream",
     "text": [
      "\rDictClassTransformer_VERBATIM fit stage 1:  49%|████▊     | 4623477/9517065 [00:03<00:04, 1183422.89it/s]"
     ]
    },
    {
     "name": "stderr",
     "output_type": "stream",
     "text": [
      "\rDictClassTransformer_VERBATIM fit stage 1:  50%|█████     | 4797763/9517065 [00:04<00:03, 1197193.11it/s]"
     ]
    },
    {
     "name": "stderr",
     "output_type": "stream",
     "text": [
      "\rDictClassTransformer_VERBATIM fit stage 1:  52%|█████▏    | 4971721/9517065 [00:04<00:03, 1210082.67it/s]"
     ]
    },
    {
     "name": "stderr",
     "output_type": "stream",
     "text": [
      "\rDictClassTransformer_VERBATIM fit stage 1:  54%|█████▍    | 5145129/9517065 [00:04<00:03, 1220191.86it/s]"
     ]
    },
    {
     "name": "stderr",
     "output_type": "stream",
     "text": [
      "\rDictClassTransformer_VERBATIM fit stage 1:  56%|█████▌    | 5317296/9517065 [00:04<00:03, 1231804.00it/s]"
     ]
    },
    {
     "name": "stderr",
     "output_type": "stream",
     "text": [
      "\rDictClassTransformer_VERBATIM fit stage 1:  58%|█████▊    | 5487606/9517065 [00:04<00:03, 1242075.25it/s]"
     ]
    },
    {
     "name": "stderr",
     "output_type": "stream",
     "text": [
      "\rDictClassTransformer_VERBATIM fit stage 1:  59%|█████▉    | 5657417/9517065 [00:04<00:03, 1252167.87it/s]"
     ]
    },
    {
     "name": "stderr",
     "output_type": "stream",
     "text": [
      "\rDictClassTransformer_VERBATIM fit stage 1:  61%|██████    | 5828408/9517065 [00:04<00:02, 1262078.97it/s]"
     ]
    },
    {
     "name": "stderr",
     "output_type": "stream",
     "text": [
      "\rDictClassTransformer_VERBATIM fit stage 1:  63%|██████▎   | 6002454/9517065 [00:04<00:02, 1272219.87it/s]"
     ]
    },
    {
     "name": "stderr",
     "output_type": "stream",
     "text": [
      "\rDictClassTransformer_VERBATIM fit stage 1:  65%|██████▍   | 6175709/9517065 [00:04<00:02, 1281773.27it/s]"
     ]
    },
    {
     "name": "stderr",
     "output_type": "stream",
     "text": [
      "\rDictClassTransformer_VERBATIM fit stage 1:  67%|██████▋   | 6347562/9517065 [00:04<00:02, 1290474.91it/s]"
     ]
    },
    {
     "name": "stderr",
     "output_type": "stream",
     "text": [
      "\rDictClassTransformer_VERBATIM fit stage 1:  69%|██████▊   | 6521195/9517065 [00:05<00:02, 1299350.65it/s]"
     ]
    },
    {
     "name": "stderr",
     "output_type": "stream",
     "text": [
      "\rDictClassTransformer_VERBATIM fit stage 1:  70%|███████   | 6698201/9517065 [00:05<00:02, 1308545.07it/s]"
     ]
    },
    {
     "name": "stderr",
     "output_type": "stream",
     "text": [
      "\rDictClassTransformer_VERBATIM fit stage 1:  72%|███████▏  | 6871802/9517065 [00:05<00:02, 1315822.41it/s]"
     ]
    },
    {
     "name": "stderr",
     "output_type": "stream",
     "text": [
      "\rDictClassTransformer_VERBATIM fit stage 1:  74%|███████▍  | 7043702/9517065 [00:05<00:01, 1323396.71it/s]"
     ]
    },
    {
     "name": "stderr",
     "output_type": "stream",
     "text": [
      "\rDictClassTransformer_VERBATIM fit stage 1:  76%|███████▌  | 7222141/9517065 [00:05<00:01, 1331902.77it/s]"
     ]
    },
    {
     "name": "stderr",
     "output_type": "stream",
     "text": [
      "\rDictClassTransformer_VERBATIM fit stage 1:  78%|███████▊  | 7397046/9517065 [00:05<00:01, 1339453.25it/s]"
     ]
    },
    {
     "name": "stderr",
     "output_type": "stream",
     "text": [
      "\rDictClassTransformer_VERBATIM fit stage 1:  80%|███████▉  | 7571171/9517065 [00:05<00:01, 1345759.67it/s]"
     ]
    },
    {
     "name": "stderr",
     "output_type": "stream",
     "text": [
      "\rDictClassTransformer_VERBATIM fit stage 1:  81%|████████▏ | 7744960/9517065 [00:05<00:01, 1352607.27it/s]"
     ]
    },
    {
     "name": "stderr",
     "output_type": "stream",
     "text": [
      "\rDictClassTransformer_VERBATIM fit stage 1:  83%|████████▎ | 7917748/9517065 [00:05<00:01, 1357623.50it/s]"
     ]
    },
    {
     "name": "stderr",
     "output_type": "stream",
     "text": [
      "\rDictClassTransformer_VERBATIM fit stage 1:  85%|████████▌ | 8090664/9517065 [00:05<00:01, 1363885.73it/s]"
     ]
    },
    {
     "name": "stderr",
     "output_type": "stream",
     "text": [
      "\rDictClassTransformer_VERBATIM fit stage 1:  87%|████████▋ | 8262249/9517065 [00:06<00:00, 1369722.91it/s]"
     ]
    },
    {
     "name": "stderr",
     "output_type": "stream",
     "text": [
      "\rDictClassTransformer_VERBATIM fit stage 1:  89%|████████▊ | 8433238/9517065 [00:06<00:00, 1374203.29it/s]"
     ]
    },
    {
     "name": "stderr",
     "output_type": "stream",
     "text": [
      "\rDictClassTransformer_VERBATIM fit stage 1:  90%|█████████ | 8604881/9517065 [00:06<00:00, 1379714.40it/s]"
     ]
    },
    {
     "name": "stderr",
     "output_type": "stream",
     "text": [
      "\rDictClassTransformer_VERBATIM fit stage 1:  92%|█████████▏| 8781205/9517065 [00:06<00:00, 1385769.68it/s]"
     ]
    },
    {
     "name": "stderr",
     "output_type": "stream",
     "text": [
      "\rDictClassTransformer_VERBATIM fit stage 1:  94%|█████████▍| 8952818/9517065 [00:06<00:00, 1389790.62it/s]"
     ]
    },
    {
     "name": "stderr",
     "output_type": "stream",
     "text": [
      "\rDictClassTransformer_VERBATIM fit stage 1:  96%|█████████▌| 9124143/9517065 [00:06<00:00, 1394733.79it/s]"
     ]
    },
    {
     "name": "stderr",
     "output_type": "stream",
     "text": [
      "\rDictClassTransformer_VERBATIM fit stage 1:  98%|█████████▊| 9303739/9517065 [00:06<00:00, 1400777.60it/s]"
     ]
    },
    {
     "name": "stderr",
     "output_type": "stream",
     "text": [
      "\rDictClassTransformer_VERBATIM fit stage 1: 100%|█████████▉| 9477264/9517065 [00:06<00:00, 1405731.46it/s]"
     ]
    },
    {
     "name": "stderr",
     "output_type": "stream",
     "text": [
      "\rDictClassTransformer_VERBATIM fit stage 1: 100%|██████████| 9517065/9517065 [00:06<00:00, 1391553.90it/s]"
     ]
    },
    {
     "name": "stderr",
     "output_type": "stream",
     "text": [
      "\n\rDictClassTransformer_VERBATIM fit stage 2:   0%|          | 0/2402 [00:00<?, ?it/s]"
     ]
    },
    {
     "name": "stderr",
     "output_type": "stream",
     "text": [
      "\rDictClassTransformer_VERBATIM fit stage 2: 100%|██████████| 2402/2402 [00:00<00:00, 131912.93it/s]"
     ]
    },
    {
     "name": "stderr",
     "output_type": "stream",
     "text": [
      "\n"
     ]
    },
    {
     "name": "stderr",
     "output_type": "stream",
     "text": [
      "\rDictNBHDTransformer fit stage 1:   0%|          | 0/9517065 [00:00<?, ?it/s]"
     ]
    },
    {
     "name": "stderr",
     "output_type": "stream",
     "text": [
      "\rDictNBHDTransformer fit stage 1:   0%|          | 669/9517065 [00:00<3:34:00, 741.11it/s]"
     ]
    },
    {
     "name": "stderr",
     "output_type": "stream",
     "text": [
      "\rDictNBHDTransformer fit stage 1:   0%|          | 4950/9517065 [00:01<58:02, 2731.01it/s]"
     ]
    },
    {
     "name": "stderr",
     "output_type": "stream",
     "text": [
      "\rDictNBHDTransformer fit stage 1:   0%|          | 14410/9517065 [00:02<30:50, 5133.94it/s]"
     ]
    },
    {
     "name": "stderr",
     "output_type": "stream",
     "text": [
      "\rDictNBHDTransformer fit stage 1:   0%|          | 27618/9517065 [00:02<16:38, 9501.10it/s]"
     ]
    },
    {
     "name": "stderr",
     "output_type": "stream",
     "text": [
      "\rDictNBHDTransformer fit stage 1:   0%|          | 41658/9517065 [00:03<11:23, 13854.45it/s]"
     ]
    },
    {
     "name": "stderr",
     "output_type": "stream",
     "text": [
      "\rDictNBHDTransformer fit stage 1:   1%|          | 56595/9517065 [00:03<08:39, 18216.30it/s]"
     ]
    },
    {
     "name": "stderr",
     "output_type": "stream",
     "text": [
      "\rDictNBHDTransformer fit stage 1:   1%|          | 71425/9517065 [00:03<07:04, 22272.75it/s]"
     ]
    },
    {
     "name": "stderr",
     "output_type": "stream",
     "text": [
      "\rDictNBHDTransformer fit stage 1:   1%|          | 87110/9517065 [00:03<05:57, 26342.33it/s]"
     ]
    },
    {
     "name": "stderr",
     "output_type": "stream",
     "text": [
      "\rDictNBHDTransformer fit stage 1:   1%|          | 102121/9517065 [00:03<05:14, 29975.20it/s]"
     ]
    },
    {
     "name": "stderr",
     "output_type": "stream",
     "text": [
      "\rDictNBHDTransformer fit stage 1:   1%|          | 115686/9517065 [00:04<05:58, 26201.73it/s]"
     ]
    },
    {
     "name": "stderr",
     "output_type": "stream",
     "text": [
      "\rDictNBHDTransformer fit stage 1:   1%|▏         | 131111/9517065 [00:04<05:23, 29037.64it/s]"
     ]
    },
    {
     "name": "stderr",
     "output_type": "stream",
     "text": [
      "\rDictNBHDTransformer fit stage 1:   2%|▏         | 147259/9517065 [00:04<04:53, 31907.31it/s]"
     ]
    },
    {
     "name": "stderr",
     "output_type": "stream",
     "text": [
      "\rDictNBHDTransformer fit stage 1:   2%|▏         | 162927/9517065 [00:04<04:30, 34553.48it/s]"
     ]
    },
    {
     "name": "stderr",
     "output_type": "stream",
     "text": [
      "\rDictNBHDTransformer fit stage 1:   2%|▏         | 178545/9517065 [00:04<04:11, 37079.33it/s]"
     ]
    },
    {
     "name": "stderr",
     "output_type": "stream",
     "text": [
      "\rDictNBHDTransformer fit stage 1:   2%|▏         | 192912/9517065 [00:04<03:57, 39212.20it/s]"
     ]
    },
    {
     "name": "stderr",
     "output_type": "stream",
     "text": [
      "\rDictNBHDTransformer fit stage 1:   2%|▏         | 208731/9517065 [00:05<03:43, 41582.48it/s]"
     ]
    },
    {
     "name": "stderr",
     "output_type": "stream",
     "text": [
      "\rDictNBHDTransformer fit stage 1:   2%|▏         | 223352/9517065 [00:06<04:11, 36979.60it/s]"
     ]
    },
    {
     "name": "stderr",
     "output_type": "stream",
     "text": [
      "\rDictNBHDTransformer fit stage 1:   3%|▎         | 238471/9517065 [00:06<03:58, 38839.72it/s]"
     ]
    },
    {
     "name": "stderr",
     "output_type": "stream",
     "text": [
      "\rDictNBHDTransformer fit stage 1:   3%|▎         | 254488/9517065 [00:06<03:47, 40784.06it/s]"
     ]
    },
    {
     "name": "stderr",
     "output_type": "stream",
     "text": [
      "\rDictNBHDTransformer fit stage 1:   3%|▎         | 269483/9517065 [00:06<03:37, 42505.90it/s]"
     ]
    },
    {
     "name": "stderr",
     "output_type": "stream",
     "text": [
      "\rDictNBHDTransformer fit stage 1:   3%|▎         | 285546/9517065 [00:06<03:28, 44340.13it/s]"
     ]
    },
    {
     "name": "stderr",
     "output_type": "stream",
     "text": [
      "\rDictNBHDTransformer fit stage 1:   3%|▎         | 301261/9517065 [00:06<03:20, 46065.05it/s]"
     ]
    },
    {
     "name": "stderr",
     "output_type": "stream",
     "text": [
      "\rDictNBHDTransformer fit stage 1:   3%|▎         | 317350/9517065 [00:06<03:12, 47794.34it/s]"
     ]
    },
    {
     "name": "stderr",
     "output_type": "stream",
     "text": [
      "\rDictNBHDTransformer fit stage 1:   3%|▎         | 332551/9517065 [00:07<03:32, 43235.75it/s]"
     ]
    },
    {
     "name": "stderr",
     "output_type": "stream",
     "text": [
      "\rDictNBHDTransformer fit stage 1:   4%|▎         | 348280/9517065 [00:07<03:25, 44699.53it/s]"
     ]
    },
    {
     "name": "stderr",
     "output_type": "stream",
     "text": [
      "\rDictNBHDTransformer fit stage 1:   4%|▍         | 362984/9517065 [00:07<03:19, 45996.35it/s]"
     ]
    },
    {
     "name": "stderr",
     "output_type": "stream",
     "text": [
      "\rDictNBHDTransformer fit stage 1:   4%|▍         | 378597/9517065 [00:07<03:12, 47374.44it/s]"
     ]
    },
    {
     "name": "stderr",
     "output_type": "stream",
     "text": [
      "\rDictNBHDTransformer fit stage 1:   4%|▍         | 394297/9517065 [00:08<03:07, 48729.23it/s]"
     ]
    },
    {
     "name": "stderr",
     "output_type": "stream",
     "text": [
      "\rDictNBHDTransformer fit stage 1:   4%|▍         | 408725/9517065 [00:08<03:02, 49776.06it/s]"
     ]
    },
    {
     "name": "stderr",
     "output_type": "stream",
     "text": [
      "\rDictNBHDTransformer fit stage 1:   4%|▍         | 425163/9517065 [00:08<02:57, 51154.91it/s]"
     ]
    },
    {
     "name": "stderr",
     "output_type": "stream",
     "text": [
      "\rDictNBHDTransformer fit stage 1:   5%|▍         | 441557/9517065 [00:08<02:52, 52495.80it/s]"
     ]
    },
    {
     "name": "stderr",
     "output_type": "stream",
     "text": [
      "\rDictNBHDTransformer fit stage 1:   5%|▍         | 456648/9517065 [00:09<03:07, 48291.17it/s]"
     ]
    },
    {
     "name": "stderr",
     "output_type": "stream",
     "text": [
      "\rDictNBHDTransformer fit stage 1:   5%|▍         | 472322/9517065 [00:09<03:02, 49426.01it/s]"
     ]
    },
    {
     "name": "stderr",
     "output_type": "stream",
     "text": [
      "\rDictNBHDTransformer fit stage 1:   5%|▌         | 488099/9517065 [00:09<02:58, 50547.29it/s]"
     ]
    },
    {
     "name": "stderr",
     "output_type": "stream",
     "text": [
      "\rDictNBHDTransformer fit stage 1:   5%|▌         | 503715/9517065 [00:09<02:54, 51629.77it/s]"
     ]
    },
    {
     "name": "stderr",
     "output_type": "stream",
     "text": [
      "\rDictNBHDTransformer fit stage 1:   5%|▌         | 519442/9517065 [00:09<02:50, 52701.57it/s]"
     ]
    },
    {
     "name": "stderr",
     "output_type": "stream",
     "text": [
      "\rDictNBHDTransformer fit stage 1:   6%|▌         | 536022/9517065 [00:09<02:46, 53837.42it/s]"
     ]
    },
    {
     "name": "stderr",
     "output_type": "stream",
     "text": [
      "\rDictNBHDTransformer fit stage 1:   6%|▌         | 552170/9517065 [00:10<02:43, 54907.85it/s]"
     ]
    },
    {
     "name": "stderr",
     "output_type": "stream",
     "text": [
      "\rDictNBHDTransformer fit stage 1:   6%|▌         | 568303/9517065 [00:10<02:39, 55955.69it/s]"
     ]
    },
    {
     "name": "stderr",
     "output_type": "stream",
     "text": [
      "\rDictNBHDTransformer fit stage 1:   6%|▌         | 583968/9517065 [00:10<02:37, 56797.15it/s]"
     ]
    },
    {
     "name": "stderr",
     "output_type": "stream",
     "text": [
      "\rDictNBHDTransformer fit stage 1:   6%|▋         | 599451/9517065 [00:11<02:48, 52874.04it/s]"
     ]
    },
    {
     "name": "stderr",
     "output_type": "stream",
     "text": [
      "\rDictNBHDTransformer fit stage 1:   6%|▋         | 615123/9517065 [00:11<02:45, 53782.02it/s]"
     ]
    },
    {
     "name": "stderr",
     "output_type": "stream",
     "text": [
      "\rDictNBHDTransformer fit stage 1:   7%|▋         | 631461/9517065 [00:11<02:42, 54731.94it/s]"
     ]
    },
    {
     "name": "stderr",
     "output_type": "stream",
     "text": [
      "\rDictNBHDTransformer fit stage 1:   7%|▋         | 647678/9517065 [00:11<02:39, 55655.10it/s]"
     ]
    },
    {
     "name": "stderr",
     "output_type": "stream",
     "text": [
      "\rDictNBHDTransformer fit stage 1:   7%|▋         | 663772/9517065 [00:11<02:36, 56552.06it/s]"
     ]
    },
    {
     "name": "stderr",
     "output_type": "stream",
     "text": [
      "\rDictNBHDTransformer fit stage 1:   7%|▋         | 680189/9517065 [00:11<02:33, 57461.19it/s]"
     ]
    },
    {
     "name": "stderr",
     "output_type": "stream",
     "text": [
      "\rDictNBHDTransformer fit stage 1:   7%|▋         | 696740/9517065 [00:11<02:31, 58366.34it/s]"
     ]
    },
    {
     "name": "stderr",
     "output_type": "stream",
     "text": [
      "\rDictNBHDTransformer fit stage 1:   7%|▋         | 712887/9517065 [00:12<02:28, 59222.83it/s]"
     ]
    },
    {
     "name": "stderr",
     "output_type": "stream",
     "text": [
      "\rDictNBHDTransformer fit stage 1:   8%|▊         | 729371/9517065 [00:12<02:26, 60092.99it/s]"
     ]
    },
    {
     "name": "stderr",
     "output_type": "stream",
     "text": [
      "\rDictNBHDTransformer fit stage 1:   8%|▊         | 745619/9517065 [00:12<02:23, 60929.63it/s]"
     ]
    },
    {
     "name": "stderr",
     "output_type": "stream",
     "text": [
      "\rDictNBHDTransformer fit stage 1:   8%|▊         | 762406/9517065 [00:12<02:21, 61796.41it/s]"
     ]
    },
    {
     "name": "stderr",
     "output_type": "stream",
     "text": [
      "\rDictNBHDTransformer fit stage 1:   8%|▊         | 778703/9517065 [00:12<02:19, 62591.29it/s]"
     ]
    },
    {
     "name": "stderr",
     "output_type": "stream",
     "text": [
      "\rDictNBHDTransformer fit stage 1:   8%|▊         | 794827/9517065 [00:13<02:28, 58787.64it/s]"
     ]
    },
    {
     "name": "stderr",
     "output_type": "stream",
     "text": [
      "\rDictNBHDTransformer fit stage 1:   9%|▊         | 810628/9517065 [00:13<02:26, 59516.07it/s]"
     ]
    },
    {
     "name": "stderr",
     "output_type": "stream",
     "text": [
      "\rDictNBHDTransformer fit stage 1:   9%|▊         | 823582/9517065 [00:13<02:25, 59879.63it/s]"
     ]
    },
    {
     "name": "stderr",
     "output_type": "stream",
     "text": [
      "\rDictNBHDTransformer fit stage 1:   9%|▉         | 839824/9517065 [00:13<02:23, 60619.72it/s]"
     ]
    },
    {
     "name": "stderr",
     "output_type": "stream",
     "text": [
      "\rDictNBHDTransformer fit stage 1:   9%|▉         | 856687/9517065 [00:13<02:21, 61393.77it/s]"
     ]
    },
    {
     "name": "stderr",
     "output_type": "stream",
     "text": [
      "\rDictNBHDTransformer fit stage 1:   9%|▉         | 872754/9517065 [00:14<02:19, 62100.12it/s]"
     ]
    },
    {
     "name": "stderr",
     "output_type": "stream",
     "text": [
      "\rDictNBHDTransformer fit stage 1:   9%|▉         | 889502/9517065 [00:14<02:17, 62844.63it/s]"
     ]
    },
    {
     "name": "stderr",
     "output_type": "stream",
     "text": [
      "\rDictNBHDTransformer fit stage 1:  10%|▉         | 905744/9517065 [00:14<02:15, 63543.16it/s]"
     ]
    },
    {
     "name": "stderr",
     "output_type": "stream",
     "text": [
      "\rDictNBHDTransformer fit stage 1:  10%|▉         | 922531/9517065 [00:14<02:13, 64269.99it/s]"
     ]
    },
    {
     "name": "stderr",
     "output_type": "stream",
     "text": [
      "\rDictNBHDTransformer fit stage 1:  10%|▉         | 939115/9517065 [00:14<02:12, 64972.67it/s]"
     ]
    },
    {
     "name": "stderr",
     "output_type": "stream",
     "text": [
      "\rDictNBHDTransformer fit stage 1:  10%|█         | 956162/9517065 [00:14<02:10, 65697.53it/s]"
     ]
    },
    {
     "name": "stderr",
     "output_type": "stream",
     "text": [
      "\rDictNBHDTransformer fit stage 1:  10%|█         | 973020/9517065 [00:14<02:08, 66399.56it/s]"
     ]
    },
    {
     "name": "stderr",
     "output_type": "stream",
     "text": [
      "\rDictNBHDTransformer fit stage 1:  10%|█         | 989753/9517065 [00:14<02:07, 67083.62it/s]"
     ]
    },
    {
     "name": "stderr",
     "output_type": "stream",
     "text": [
      "\rDictNBHDTransformer fit stage 1:  11%|█         | 1006955/9517065 [00:14<02:05, 67790.09it/s]"
     ]
    },
    {
     "name": "stderr",
     "output_type": "stream",
     "text": [
      "\rDictNBHDTransformer fit stage 1:  11%|█         | 1023746/9517065 [00:14<02:04, 68450.52it/s]"
     ]
    },
    {
     "name": "stderr",
     "output_type": "stream",
     "text": [
      "\rDictNBHDTransformer fit stage 1:  11%|█         | 1040439/9517065 [00:15<02:02, 69092.18it/s]"
     ]
    },
    {
     "name": "stderr",
     "output_type": "stream",
     "text": [
      "\rDictNBHDTransformer fit stage 1:  11%|█         | 1057001/9517065 [00:16<02:09, 65319.17it/s]"
     ]
    },
    {
     "name": "stderr",
     "output_type": "stream",
     "text": [
      "\rDictNBHDTransformer fit stage 1:  11%|█▏        | 1073419/9517065 [00:16<02:08, 65926.32it/s]"
     ]
    },
    {
     "name": "stderr",
     "output_type": "stream",
     "text": [
      "\rDictNBHDTransformer fit stage 1:  11%|█▏        | 1090602/9517065 [00:16<02:06, 66572.77it/s]"
     ]
    },
    {
     "name": "stderr",
     "output_type": "stream",
     "text": [
      "\rDictNBHDTransformer fit stage 1:  12%|█▏        | 1106367/9517065 [00:16<02:05, 67125.33it/s]"
     ]
    },
    {
     "name": "stderr",
     "output_type": "stream",
     "text": [
      "\rDictNBHDTransformer fit stage 1:  12%|█▏        | 1122681/9517065 [00:16<02:03, 67704.34it/s]"
     ]
    },
    {
     "name": "stderr",
     "output_type": "stream",
     "text": [
      "\rDictNBHDTransformer fit stage 1:  12%|█▏        | 1139222/9517065 [00:16<02:02, 68290.03it/s]"
     ]
    },
    {
     "name": "stderr",
     "output_type": "stream",
     "text": [
      "\rDictNBHDTransformer fit stage 1:  12%|█▏        | 1156050/9517065 [00:16<02:01, 68885.81it/s]"
     ]
    },
    {
     "name": "stderr",
     "output_type": "stream",
     "text": [
      "\rDictNBHDTransformer fit stage 1:  12%|█▏        | 1172581/9517065 [00:16<02:00, 69456.95it/s]"
     ]
    },
    {
     "name": "stderr",
     "output_type": "stream",
     "text": [
      "\rDictNBHDTransformer fit stage 1:  12%|█▏        | 1188757/9517065 [00:16<01:58, 69988.29it/s]"
     ]
    },
    {
     "name": "stderr",
     "output_type": "stream",
     "text": [
      "\rDictNBHDTransformer fit stage 1:  13%|█▎        | 1206294/9517065 [00:17<01:57, 70605.07it/s]"
     ]
    },
    {
     "name": "stderr",
     "output_type": "stream",
     "text": [
      "\rDictNBHDTransformer fit stage 1:  13%|█▎        | 1223263/9517065 [00:17<01:56, 71181.63it/s]"
     ]
    },
    {
     "name": "stderr",
     "output_type": "stream",
     "text": [
      "\rDictNBHDTransformer fit stage 1:  13%|█▎        | 1240323/9517065 [00:17<01:55, 71756.78it/s]"
     ]
    },
    {
     "name": "stderr",
     "output_type": "stream",
     "text": [
      "\rDictNBHDTransformer fit stage 1:  13%|█▎        | 1257083/9517065 [00:17<01:54, 72290.60it/s]"
     ]
    },
    {
     "name": "stderr",
     "output_type": "stream",
     "text": [
      "\rDictNBHDTransformer fit stage 1:  13%|█▎        | 1274109/9517065 [00:17<01:53, 72850.26it/s]"
     ]
    },
    {
     "name": "stderr",
     "output_type": "stream",
     "text": [
      "\rDictNBHDTransformer fit stage 1:  14%|█▎        | 1291144/9517065 [00:17<01:52, 73405.08it/s]"
     ]
    },
    {
     "name": "stderr",
     "output_type": "stream",
     "text": [
      "\rDictNBHDTransformer fit stage 1:  14%|█▎        | 1308232/9517065 [00:17<01:50, 73956.11it/s]"
     ]
    },
    {
     "name": "stderr",
     "output_type": "stream",
     "text": [
      "\rDictNBHDTransformer fit stage 1:  14%|█▍        | 1325598/9517065 [00:17<01:49, 74516.57it/s]"
     ]
    },
    {
     "name": "stderr",
     "output_type": "stream",
     "text": [
      "\rDictNBHDTransformer fit stage 1:  14%|█▍        | 1342628/9517065 [00:17<01:48, 75037.32it/s]"
     ]
    },
    {
     "name": "stderr",
     "output_type": "stream",
     "text": [
      "\rDictNBHDTransformer fit stage 1:  14%|█▍        | 1359614/9517065 [00:19<01:54, 71383.92it/s]"
     ]
    },
    {
     "name": "stderr",
     "output_type": "stream",
     "text": [
      "\rDictNBHDTransformer fit stage 1:  14%|█▍        | 1376061/9517065 [00:19<01:53, 71870.09it/s]"
     ]
    },
    {
     "name": "stderr",
     "output_type": "stream",
     "text": [
      "\rDictNBHDTransformer fit stage 1:  15%|█▍        | 1392794/9517065 [00:19<01:52, 72366.06it/s]"
     ]
    },
    {
     "name": "stderr",
     "output_type": "stream",
     "text": [
      "\rDictNBHDTransformer fit stage 1:  15%|█▍        | 1409340/9517065 [00:19<01:51, 72847.22it/s]"
     ]
    },
    {
     "name": "stderr",
     "output_type": "stream",
     "text": [
      "\rDictNBHDTransformer fit stage 1:  15%|█▍        | 1426869/9517065 [00:19<01:50, 73374.01it/s]"
     ]
    },
    {
     "name": "stderr",
     "output_type": "stream",
     "text": [
      "\rDictNBHDTransformer fit stage 1:  15%|█▌        | 1443476/9517065 [00:19<01:49, 73848.23it/s]"
     ]
    },
    {
     "name": "stderr",
     "output_type": "stream",
     "text": [
      "\rDictNBHDTransformer fit stage 1:  15%|█▌        | 1460741/9517065 [00:19<01:48, 74351.10it/s]"
     ]
    },
    {
     "name": "stderr",
     "output_type": "stream",
     "text": [
      "\rDictNBHDTransformer fit stage 1:  16%|█▌        | 1477751/9517065 [00:19<01:47, 74835.96it/s]"
     ]
    },
    {
     "name": "stderr",
     "output_type": "stream",
     "text": [
      "\rDictNBHDTransformer fit stage 1:  16%|█▌        | 1494349/9517065 [00:19<01:46, 75289.52it/s]"
     ]
    },
    {
     "name": "stderr",
     "output_type": "stream",
     "text": [
      "\rDictNBHDTransformer fit stage 1:  16%|█▌        | 1512074/9517065 [00:19<01:45, 75800.65it/s]"
     ]
    },
    {
     "name": "stderr",
     "output_type": "stream",
     "text": [
      "\rDictNBHDTransformer fit stage 1:  16%|█▌        | 1528959/9517065 [00:20<01:44, 76264.72it/s]"
     ]
    },
    {
     "name": "stderr",
     "output_type": "stream",
     "text": [
      "\rDictNBHDTransformer fit stage 1:  16%|█▌        | 1545843/9517065 [00:20<01:43, 76715.15it/s]"
     ]
    },
    {
     "name": "stderr",
     "output_type": "stream",
     "text": [
      "\rDictNBHDTransformer fit stage 1:  16%|█▋        | 1563495/9517065 [00:20<01:43, 77207.97it/s]"
     ]
    },
    {
     "name": "stderr",
     "output_type": "stream",
     "text": [
      "\rDictNBHDTransformer fit stage 1:  17%|█▋        | 1580527/9517065 [00:20<01:42, 77665.00it/s]"
     ]
    },
    {
     "name": "stderr",
     "output_type": "stream",
     "text": [
      "\rDictNBHDTransformer fit stage 1:  17%|█▋        | 1597830/9517065 [00:20<01:41, 78131.30it/s]"
     ]
    },
    {
     "name": "stderr",
     "output_type": "stream",
     "text": [
      "\rDictNBHDTransformer fit stage 1:  17%|█▋        | 1615032/9517065 [00:20<01:40, 78588.15it/s]"
     ]
    },
    {
     "name": "stderr",
     "output_type": "stream",
     "text": [
      "\rDictNBHDTransformer fit stage 1:  17%|█▋        | 1632305/9517065 [00:20<01:39, 79044.03it/s]"
     ]
    },
    {
     "name": "stderr",
     "output_type": "stream",
     "text": [
      "\rDictNBHDTransformer fit stage 1:  17%|█▋        | 1649483/9517065 [00:20<01:38, 79474.81it/s]"
     ]
    },
    {
     "name": "stderr",
     "output_type": "stream",
     "text": [
      "\rDictNBHDTransformer fit stage 1:  18%|█▊        | 1666453/9517065 [00:20<01:38, 79907.42it/s]"
     ]
    },
    {
     "name": "stderr",
     "output_type": "stream",
     "text": [
      "\rDictNBHDTransformer fit stage 1:  18%|█▊        | 1683423/9517065 [00:20<01:37, 80323.16it/s]"
     ]
    },
    {
     "name": "stderr",
     "output_type": "stream",
     "text": [
      "\rDictNBHDTransformer fit stage 1:  18%|█▊        | 1700229/9517065 [00:21<01:37, 80294.76it/s]"
     ]
    },
    {
     "name": "stderr",
     "output_type": "stream",
     "text": [
      "\rDictNBHDTransformer fit stage 1:  18%|█▊        | 1717484/9517065 [00:21<01:36, 80728.38it/s]"
     ]
    },
    {
     "name": "stderr",
     "output_type": "stream",
     "text": [
      "\rDictNBHDTransformer fit stage 1:  18%|█▊        | 1735439/9517065 [00:21<01:35, 81190.69it/s]"
     ]
    },
    {
     "name": "stderr",
     "output_type": "stream",
     "text": [
      "\rDictNBHDTransformer fit stage 1:  18%|█▊        | 1752900/9517065 [00:21<01:35, 81625.70it/s]"
     ]
    },
    {
     "name": "stderr",
     "output_type": "stream",
     "text": [
      "\rDictNBHDTransformer fit stage 1:  19%|█▊        | 1769278/9517065 [00:22<01:39, 78155.74it/s]"
     ]
    },
    {
     "name": "stderr",
     "output_type": "stream",
     "text": [
      "\rDictNBHDTransformer fit stage 1:  19%|█▉        | 1785888/9517065 [00:22<01:38, 78542.51it/s]"
     ]
    },
    {
     "name": "stderr",
     "output_type": "stream",
     "text": [
      "\rDictNBHDTransformer fit stage 1:  19%|█▉        | 1801847/9517065 [00:22<01:37, 78897.36it/s]"
     ]
    },
    {
     "name": "stderr",
     "output_type": "stream",
     "text": [
      "\rDictNBHDTransformer fit stage 1:  19%|█▉        | 1819083/9517065 [00:22<01:37, 79304.79it/s]"
     ]
    },
    {
     "name": "stderr",
     "output_type": "stream",
     "text": [
      "\rDictNBHDTransformer fit stage 1:  19%|█▉        | 1835475/9517065 [00:23<01:36, 79672.08it/s]"
     ]
    },
    {
     "name": "stderr",
     "output_type": "stream",
     "text": [
      "\rDictNBHDTransformer fit stage 1:  19%|█▉        | 1852089/9517065 [00:23<01:35, 80045.78it/s]"
     ]
    },
    {
     "name": "stderr",
     "output_type": "stream",
     "text": [
      "\rDictNBHDTransformer fit stage 1:  20%|█▉        | 1868592/9517065 [00:23<01:35, 80411.46it/s]"
     ]
    },
    {
     "name": "stderr",
     "output_type": "stream",
     "text": [
      "\rDictNBHDTransformer fit stage 1:  20%|█▉        | 1886092/9517065 [00:23<01:34, 80816.74it/s]"
     ]
    },
    {
     "name": "stderr",
     "output_type": "stream",
     "text": [
      "\rDictNBHDTransformer fit stage 1:  20%|██        | 1903802/9517065 [00:23<01:33, 81227.54it/s]"
     ]
    },
    {
     "name": "stderr",
     "output_type": "stream",
     "text": [
      "\rDictNBHDTransformer fit stage 1:  20%|██        | 1920868/9517065 [00:23<01:33, 81607.48it/s]"
     ]
    },
    {
     "name": "stderr",
     "output_type": "stream",
     "text": [
      "\rDictNBHDTransformer fit stage 1:  20%|██        | 1938027/9517065 [00:23<01:32, 81988.12it/s]"
     ]
    },
    {
     "name": "stderr",
     "output_type": "stream",
     "text": [
      "\rDictNBHDTransformer fit stage 1:  21%|██        | 1955006/9517065 [00:23<01:31, 82356.77it/s]"
     ]
    },
    {
     "name": "stderr",
     "output_type": "stream",
     "text": [
      "\rDictNBHDTransformer fit stage 1:  21%|██        | 1971967/9517065 [00:23<01:31, 82721.26it/s]"
     ]
    },
    {
     "name": "stderr",
     "output_type": "stream",
     "text": [
      "\rDictNBHDTransformer fit stage 1:  21%|██        | 1989045/9517065 [00:23<01:30, 83089.10it/s]"
     ]
    },
    {
     "name": "stderr",
     "output_type": "stream",
     "text": [
      "\rDictNBHDTransformer fit stage 1:  21%|██        | 2006234/9517065 [00:24<01:29, 83458.49it/s]"
     ]
    },
    {
     "name": "stderr",
     "output_type": "stream",
     "text": [
      "\rDictNBHDTransformer fit stage 1:  21%|██▏       | 2024001/9517065 [00:24<01:29, 83848.76it/s]"
     ]
    },
    {
     "name": "stderr",
     "output_type": "stream",
     "text": [
      "\rDictNBHDTransformer fit stage 1:  21%|██▏       | 2041323/9517065 [00:24<01:28, 84217.46it/s]"
     ]
    },
    {
     "name": "stderr",
     "output_type": "stream",
     "text": [
      "\rDictNBHDTransformer fit stage 1:  22%|██▏       | 2058653/9517065 [00:24<01:28, 84583.46it/s]"
     ]
    },
    {
     "name": "stderr",
     "output_type": "stream",
     "text": [
      "\rDictNBHDTransformer fit stage 1:  22%|██▏       | 2075947/9517065 [00:24<01:27, 84944.78it/s]"
     ]
    },
    {
     "name": "stderr",
     "output_type": "stream",
     "text": [
      "\rDictNBHDTransformer fit stage 1:  22%|██▏       | 2093791/9517065 [00:24<01:26, 85325.78it/s]"
     ]
    },
    {
     "name": "stderr",
     "output_type": "stream",
     "text": [
      "\rDictNBHDTransformer fit stage 1:  22%|██▏       | 2111438/9517065 [00:24<01:26, 85695.70it/s]"
     ]
    },
    {
     "name": "stderr",
     "output_type": "stream",
     "text": [
      "\rDictNBHDTransformer fit stage 1:  22%|██▏       | 2128952/9517065 [00:24<01:25, 86050.70it/s]"
     ]
    },
    {
     "name": "stderr",
     "output_type": "stream",
     "text": [
      "\rDictNBHDTransformer fit stage 1:  23%|██▎       | 2146592/9517065 [00:24<01:25, 86414.38it/s]"
     ]
    },
    {
     "name": "stderr",
     "output_type": "stream",
     "text": [
      "\rDictNBHDTransformer fit stage 1:  23%|██▎       | 2164193/9517065 [00:24<01:24, 86773.64it/s]"
     ]
    },
    {
     "name": "stderr",
     "output_type": "stream",
     "text": [
      "\rDictNBHDTransformer fit stage 1:  23%|██▎       | 2181712/9517065 [00:25<01:24, 87116.85it/s]"
     ]
    },
    {
     "name": "stderr",
     "output_type": "stream",
     "text": [
      "\rDictNBHDTransformer fit stage 1:  23%|██▎       | 2199087/9517065 [00:25<01:23, 87449.77it/s]"
     ]
    },
    {
     "name": "stderr",
     "output_type": "stream",
     "text": [
      "\rDictNBHDTransformer fit stage 1:  23%|██▎       | 2216679/9517065 [00:25<01:23, 87800.20it/s]"
     ]
    },
    {
     "name": "stderr",
     "output_type": "stream",
     "text": [
      "\rDictNBHDTransformer fit stage 1:  23%|██▎       | 2234123/9517065 [00:25<01:22, 88141.98it/s]"
     ]
    },
    {
     "name": "stderr",
     "output_type": "stream",
     "text": [
      "\rDictNBHDTransformer fit stage 1:  24%|██▎       | 2251779/9517065 [00:25<01:22, 88489.44it/s]"
     ]
    },
    {
     "name": "stderr",
     "output_type": "stream",
     "text": [
      "\rDictNBHDTransformer fit stage 1:  24%|██▍       | 2269227/9517065 [00:25<01:21, 88819.00it/s]"
     ]
    },
    {
     "name": "stderr",
     "output_type": "stream",
     "text": [
      "\rDictNBHDTransformer fit stage 1:  24%|██▍       | 2286571/9517065 [00:26<01:24, 85428.36it/s]"
     ]
    },
    {
     "name": "stderr",
     "output_type": "stream",
     "text": [
      "\rDictNBHDTransformer fit stage 1:  24%|██▍       | 2302986/9517065 [00:26<01:24, 85721.38it/s]"
     ]
    },
    {
     "name": "stderr",
     "output_type": "stream",
     "text": [
      "\rDictNBHDTransformer fit stage 1:  24%|██▍       | 2320041/9517065 [00:26<01:23, 86035.95it/s]"
     ]
    },
    {
     "name": "stderr",
     "output_type": "stream",
     "text": [
      "\rDictNBHDTransformer fit stage 1:  25%|██▍       | 2337547/9517065 [00:27<01:23, 86364.84it/s]"
     ]
    },
    {
     "name": "stderr",
     "output_type": "stream",
     "text": [
      "\rDictNBHDTransformer fit stage 1:  25%|██▍       | 2354933/9517065 [00:27<01:22, 86686.91it/s]"
     ]
    },
    {
     "name": "stderr",
     "output_type": "stream",
     "text": [
      "\rDictNBHDTransformer fit stage 1:  25%|██▍       | 2372153/9517065 [00:27<01:22, 87000.51it/s]"
     ]
    },
    {
     "name": "stderr",
     "output_type": "stream",
     "text": [
      "\rDictNBHDTransformer fit stage 1:  25%|██▌       | 2389791/9517065 [00:27<01:21, 87327.11it/s]"
     ]
    },
    {
     "name": "stderr",
     "output_type": "stream",
     "text": [
      "\rDictNBHDTransformer fit stage 1:  25%|██▌       | 2407190/9517065 [00:27<01:21, 87642.64it/s]"
     ]
    },
    {
     "name": "stderr",
     "output_type": "stream",
     "text": [
      "\rDictNBHDTransformer fit stage 1:  25%|██▌       | 2424350/9517065 [00:27<01:20, 87947.18it/s]"
     ]
    },
    {
     "name": "stderr",
     "output_type": "stream",
     "text": [
      "\rDictNBHDTransformer fit stage 1:  26%|██▌       | 2441383/9517065 [00:27<01:20, 88243.79it/s]"
     ]
    },
    {
     "name": "stderr",
     "output_type": "stream",
     "text": [
      "\rDictNBHDTransformer fit stage 1:  26%|██▌       | 2459146/9517065 [00:27<01:19, 88565.70it/s]"
     ]
    },
    {
     "name": "stderr",
     "output_type": "stream",
     "text": [
      "\rDictNBHDTransformer fit stage 1:  26%|██▌       | 2476385/9517065 [00:27<01:19, 88859.18it/s]"
     ]
    },
    {
     "name": "stderr",
     "output_type": "stream",
     "text": [
      "\rDictNBHDTransformer fit stage 1:  26%|██▌       | 2493510/9517065 [00:27<01:18, 89150.59it/s]"
     ]
    },
    {
     "name": "stderr",
     "output_type": "stream",
     "text": [
      "\rDictNBHDTransformer fit stage 1:  26%|██▋       | 2510584/9517065 [00:28<01:18, 89440.39it/s]"
     ]
    },
    {
     "name": "stderr",
     "output_type": "stream",
     "text": [
      "\rDictNBHDTransformer fit stage 1:  27%|██▋       | 2527644/9517065 [00:28<01:17, 89722.10it/s]"
     ]
    },
    {
     "name": "stderr",
     "output_type": "stream",
     "text": [
      "\rDictNBHDTransformer fit stage 1:  27%|██▋       | 2544907/9517065 [00:28<01:17, 90015.34it/s]"
     ]
    },
    {
     "name": "stderr",
     "output_type": "stream",
     "text": [
      "\rDictNBHDTransformer fit stage 1:  27%|██▋       | 2562207/9517065 [00:28<01:17, 90307.84it/s]"
     ]
    },
    {
     "name": "stderr",
     "output_type": "stream",
     "text": [
      "\rDictNBHDTransformer fit stage 1:  27%|██▋       | 2579333/9517065 [00:28<01:16, 90583.01it/s]"
     ]
    },
    {
     "name": "stderr",
     "output_type": "stream",
     "text": [
      "\rDictNBHDTransformer fit stage 1:  27%|██▋       | 2596736/9517065 [00:28<01:16, 90875.06it/s]"
     ]
    },
    {
     "name": "stderr",
     "output_type": "stream",
     "text": [
      "\rDictNBHDTransformer fit stage 1:  27%|██▋       | 2613845/9517065 [00:28<01:15, 91136.42it/s]"
     ]
    },
    {
     "name": "stderr",
     "output_type": "stream",
     "text": [
      "\rDictNBHDTransformer fit stage 1:  28%|██▊       | 2630713/9517065 [00:28<01:15, 91405.84it/s]"
     ]
    },
    {
     "name": "stderr",
     "output_type": "stream",
     "text": [
      "\rDictNBHDTransformer fit stage 1:  28%|██▊       | 2647554/9517065 [00:28<01:14, 91664.40it/s]"
     ]
    },
    {
     "name": "stderr",
     "output_type": "stream",
     "text": [
      "\rDictNBHDTransformer fit stage 1:  28%|██▊       | 2664741/9517065 [00:28<01:14, 91938.52it/s]"
     ]
    },
    {
     "name": "stderr",
     "output_type": "stream",
     "text": [
      "\rDictNBHDTransformer fit stage 1:  28%|██▊       | 2681577/9517065 [00:29<01:14, 92201.31it/s]"
     ]
    },
    {
     "name": "stderr",
     "output_type": "stream",
     "text": [
      "\rDictNBHDTransformer fit stage 1:  28%|██▊       | 2699366/9517065 [00:29<01:13, 92494.91it/s]"
     ]
    },
    {
     "name": "stderr",
     "output_type": "stream",
     "text": [
      "\rDictNBHDTransformer fit stage 1:  29%|██▊       | 2716478/9517065 [00:29<01:13, 92760.91it/s]"
     ]
    },
    {
     "name": "stderr",
     "output_type": "stream",
     "text": [
      "\rDictNBHDTransformer fit stage 1:  29%|██▊       | 2733627/9517065 [00:29<01:12, 93028.81it/s]"
     ]
    },
    {
     "name": "stderr",
     "output_type": "stream",
     "text": [
      "\rDictNBHDTransformer fit stage 1:  29%|██▉       | 2751659/9517065 [00:29<01:12, 93324.87it/s]"
     ]
    },
    {
     "name": "stderr",
     "output_type": "stream",
     "text": [
      "\rDictNBHDTransformer fit stage 1:  29%|██▉       | 2769493/9517065 [00:29<01:12, 93612.23it/s]"
     ]
    },
    {
     "name": "stderr",
     "output_type": "stream",
     "text": [
      "\rDictNBHDTransformer fit stage 1:  29%|██▉       | 2787007/9517065 [00:29<01:11, 93886.44it/s]"
     ]
    },
    {
     "name": "stderr",
     "output_type": "stream",
     "text": [
      "\rDictNBHDTransformer fit stage 1:  29%|██▉       | 2804514/9517065 [00:29<01:11, 94154.05it/s]"
     ]
    },
    {
     "name": "stderr",
     "output_type": "stream",
     "text": [
      "\rDictNBHDTransformer fit stage 1:  30%|██▉       | 2821941/9517065 [00:29<01:10, 94418.53it/s]"
     ]
    },
    {
     "name": "stderr",
     "output_type": "stream",
     "text": [
      "\rDictNBHDTransformer fit stage 1:  30%|██▉       | 2839309/9517065 [00:29<01:10, 94677.55it/s]"
     ]
    },
    {
     "name": "stderr",
     "output_type": "stream",
     "text": [
      "\rDictNBHDTransformer fit stage 1:  30%|███       | 2856592/9517065 [00:30<01:10, 94929.43it/s]"
     ]
    },
    {
     "name": "stderr",
     "output_type": "stream",
     "text": [
      "\rDictNBHDTransformer fit stage 1:  30%|███       | 2873749/9517065 [00:30<01:09, 95167.27it/s]"
     ]
    },
    {
     "name": "stderr",
     "output_type": "stream",
     "text": [
      "\rDictNBHDTransformer fit stage 1:  30%|███       | 2890657/9517065 [00:30<01:09, 95396.26it/s]"
     ]
    },
    {
     "name": "stderr",
     "output_type": "stream",
     "text": [
      "\rDictNBHDTransformer fit stage 1:  31%|███       | 2907777/9517065 [00:30<01:09, 95645.57it/s]"
     ]
    },
    {
     "name": "stderr",
     "output_type": "stream",
     "text": [
      "\rDictNBHDTransformer fit stage 1:  31%|███       | 2924588/9517065 [00:31<01:11, 92327.50it/s]"
     ]
    },
    {
     "name": "stderr",
     "output_type": "stream",
     "text": [
      "\rDictNBHDTransformer fit stage 1:  31%|███       | 2941542/9517065 [00:31<01:11, 92570.48it/s]"
     ]
    },
    {
     "name": "stderr",
     "output_type": "stream",
     "text": [
      "\rDictNBHDTransformer fit stage 1:  31%|███       | 2958861/9517065 [00:31<01:10, 92823.39it/s]"
     ]
    },
    {
     "name": "stderr",
     "output_type": "stream",
     "text": [
      "\rDictNBHDTransformer fit stage 1:  31%|███▏      | 2975268/9517065 [00:31<01:10, 93045.99it/s]"
     ]
    },
    {
     "name": "stderr",
     "output_type": "stream",
     "text": [
      "\rDictNBHDTransformer fit stage 1:  31%|███▏      | 2992479/9517065 [00:32<01:09, 93292.48it/s]"
     ]
    },
    {
     "name": "stderr",
     "output_type": "stream",
     "text": [
      "\rDictNBHDTransformer fit stage 1:  32%|███▏      | 3009211/9517065 [00:32<01:09, 93522.52it/s]"
     ]
    },
    {
     "name": "stderr",
     "output_type": "stream",
     "text": [
      "\rDictNBHDTransformer fit stage 1:  32%|███▏      | 3026625/9517065 [00:32<01:09, 93772.30it/s]"
     ]
    },
    {
     "name": "stderr",
     "output_type": "stream",
     "text": [
      "\rDictNBHDTransformer fit stage 1:  32%|███▏      | 3044013/9517065 [00:32<01:08, 94019.71it/s]"
     ]
    },
    {
     "name": "stderr",
     "output_type": "stream",
     "text": [
      "\rDictNBHDTransformer fit stage 1:  32%|███▏      | 3060771/9517065 [00:32<01:08, 94243.17it/s]"
     ]
    },
    {
     "name": "stderr",
     "output_type": "stream",
     "text": [
      "\rDictNBHDTransformer fit stage 1:  32%|███▏      | 3078068/9517065 [00:32<01:08, 94484.82it/s]"
     ]
    },
    {
     "name": "stderr",
     "output_type": "stream",
     "text": [
      "\rDictNBHDTransformer fit stage 1:  33%|███▎      | 3095044/9517065 [00:32<01:07, 94715.17it/s]"
     ]
    },
    {
     "name": "stderr",
     "output_type": "stream",
     "text": [
      "\rDictNBHDTransformer fit stage 1:  33%|███▎      | 3112406/9517065 [00:32<01:07, 94955.89it/s]"
     ]
    },
    {
     "name": "stderr",
     "output_type": "stream",
     "text": [
      "\rDictNBHDTransformer fit stage 1:  33%|███▎      | 3129452/9517065 [00:32<01:07, 95181.21it/s]"
     ]
    },
    {
     "name": "stderr",
     "output_type": "stream",
     "text": [
      "\rDictNBHDTransformer fit stage 1:  33%|███▎      | 3146424/9517065 [00:32<01:06, 95405.19it/s]"
     ]
    },
    {
     "name": "stderr",
     "output_type": "stream",
     "text": [
      "\rDictNBHDTransformer fit stage 1:  33%|███▎      | 3163360/9517065 [00:33<01:06, 95620.71it/s]"
     ]
    },
    {
     "name": "stderr",
     "output_type": "stream",
     "text": [
      "\rDictNBHDTransformer fit stage 1:  33%|███▎      | 3180986/9517065 [00:33<01:06, 95863.73it/s]"
     ]
    },
    {
     "name": "stderr",
     "output_type": "stream",
     "text": [
      "\rDictNBHDTransformer fit stage 1:  34%|███▎      | 3198033/9517065 [00:33<01:05, 96074.32it/s]"
     ]
    },
    {
     "name": "stderr",
     "output_type": "stream",
     "text": [
      "\rDictNBHDTransformer fit stage 1:  34%|███▍      | 3215363/9517065 [00:33<01:05, 96305.57it/s]"
     ]
    },
    {
     "name": "stderr",
     "output_type": "stream",
     "text": [
      "\rDictNBHDTransformer fit stage 1:  34%|███▍      | 3232334/9517065 [00:33<01:05, 96518.98it/s]"
     ]
    },
    {
     "name": "stderr",
     "output_type": "stream",
     "text": [
      "\rDictNBHDTransformer fit stage 1:  34%|███▍      | 3249414/9517065 [00:33<01:04, 96740.11it/s]"
     ]
    },
    {
     "name": "stderr",
     "output_type": "stream",
     "text": [
      "\rDictNBHDTransformer fit stage 1:  34%|███▍      | 3266347/9517065 [00:33<01:04, 96945.53it/s]"
     ]
    },
    {
     "name": "stderr",
     "output_type": "stream",
     "text": [
      "\rDictNBHDTransformer fit stage 1:  35%|███▍      | 3283764/9517065 [00:33<01:04, 97173.99it/s]"
     ]
    },
    {
     "name": "stderr",
     "output_type": "stream",
     "text": [
      "\rDictNBHDTransformer fit stage 1:  35%|███▍      | 3301253/9517065 [00:33<01:03, 97403.32it/s]"
     ]
    },
    {
     "name": "stderr",
     "output_type": "stream",
     "text": [
      "\rDictNBHDTransformer fit stage 1:  35%|███▍      | 3318370/9517065 [00:33<01:03, 97610.45it/s]"
     ]
    },
    {
     "name": "stderr",
     "output_type": "stream",
     "text": [
      "\rDictNBHDTransformer fit stage 1:  35%|███▌      | 3335908/9517065 [00:34<01:03, 97838.50it/s]"
     ]
    },
    {
     "name": "stderr",
     "output_type": "stream",
     "text": [
      "\rDictNBHDTransformer fit stage 1:  35%|███▌      | 3353366/9517065 [00:34<01:02, 98062.93it/s]"
     ]
    },
    {
     "name": "stderr",
     "output_type": "stream",
     "text": [
      "\rDictNBHDTransformer fit stage 1:  35%|███▌      | 3370590/9517065 [00:34<01:02, 98267.27it/s]"
     ]
    },
    {
     "name": "stderr",
     "output_type": "stream",
     "text": [
      "\rDictNBHDTransformer fit stage 1:  36%|███▌      | 3388529/9517065 [00:34<01:02, 98503.04it/s]"
     ]
    },
    {
     "name": "stderr",
     "output_type": "stream",
     "text": [
      "\rDictNBHDTransformer fit stage 1:  36%|███▌      | 3405823/9517065 [00:34<01:01, 98715.07it/s]"
     ]
    },
    {
     "name": "stderr",
     "output_type": "stream",
     "text": [
      "\rDictNBHDTransformer fit stage 1:  36%|███▌      | 3423819/9517065 [00:34<01:01, 98949.87it/s]"
     ]
    },
    {
     "name": "stderr",
     "output_type": "stream",
     "text": [
      "\rDictNBHDTransformer fit stage 1:  36%|███▌      | 3441569/9517065 [00:34<01:01, 99176.22it/s]"
     ]
    },
    {
     "name": "stderr",
     "output_type": "stream",
     "text": [
      "\rDictNBHDTransformer fit stage 1:  36%|███▋      | 3459114/9517065 [00:34<01:00, 99376.72it/s]"
     ]
    },
    {
     "name": "stderr",
     "output_type": "stream",
     "text": [
      "\rDictNBHDTransformer fit stage 1:  37%|███▋      | 3476620/9517065 [00:34<01:00, 99593.55it/s]"
     ]
    },
    {
     "name": "stderr",
     "output_type": "stream",
     "text": [
      "\rDictNBHDTransformer fit stage 1:  37%|███▋      | 3493928/9517065 [00:35<01:00, 99790.33it/s]"
     ]
    },
    {
     "name": "stderr",
     "output_type": "stream",
     "text": [
      "\rDictNBHDTransformer fit stage 1:  37%|███▋      | 3511750/9517065 [00:35<01:00, 100013.66it/s]"
     ]
    },
    {
     "name": "stderr",
     "output_type": "stream",
     "text": [
      "\rDictNBHDTransformer fit stage 1:  37%|███▋      | 3529142/9517065 [00:35<00:59, 100223.58it/s]"
     ]
    },
    {
     "name": "stderr",
     "output_type": "stream",
     "text": [
      "\rDictNBHDTransformer fit stage 1:  37%|███▋      | 3546471/9517065 [00:35<00:59, 99818.97it/s] "
     ]
    },
    {
     "name": "stderr",
     "output_type": "stream",
     "text": [
      "\rDictNBHDTransformer fit stage 1:  37%|███▋      | 3563374/9517065 [00:35<00:59, 100013.22it/s]"
     ]
    },
    {
     "name": "stderr",
     "output_type": "stream",
     "text": [
      "\rDictNBHDTransformer fit stage 1:  38%|███▊      | 3580050/9517065 [00:35<00:59, 100200.03it/s]"
     ]
    },
    {
     "name": "stderr",
     "output_type": "stream",
     "text": [
      "\rDictNBHDTransformer fit stage 1:  38%|███▊      | 3597182/9517065 [00:35<00:58, 100398.51it/s]"
     ]
    },
    {
     "name": "stderr",
     "output_type": "stream",
     "text": [
      "\rDictNBHDTransformer fit stage 1:  38%|███▊      | 3614443/9517065 [00:35<00:58, 100599.47it/s]"
     ]
    },
    {
     "name": "stderr",
     "output_type": "stream",
     "text": [
      "\rDictNBHDTransformer fit stage 1:  38%|███▊      | 3630717/9517065 [00:36<00:58, 100771.08it/s]"
     ]
    },
    {
     "name": "stderr",
     "output_type": "stream",
     "text": [
      "\rDictNBHDTransformer fit stage 1:  38%|███▊      | 3646976/9517065 [00:36<00:58, 100937.63it/s]"
     ]
    },
    {
     "name": "stderr",
     "output_type": "stream",
     "text": [
      "\rDictNBHDTransformer fit stage 1:  38%|███▊      | 3663636/9517065 [00:36<00:57, 101118.85it/s]"
     ]
    },
    {
     "name": "stderr",
     "output_type": "stream",
     "text": [
      "\rDictNBHDTransformer fit stage 1:  39%|███▊      | 3680477/9517065 [00:36<00:57, 101304.06it/s]"
     ]
    },
    {
     "name": "stderr",
     "output_type": "stream",
     "text": [
      "\rDictNBHDTransformer fit stage 1:  39%|███▉      | 3697812/9517065 [00:36<00:57, 101501.81it/s]"
     ]
    },
    {
     "name": "stderr",
     "output_type": "stream",
     "text": [
      "\rDictNBHDTransformer fit stage 1:  39%|███▉      | 3714579/9517065 [00:36<00:57, 101682.93it/s]"
     ]
    },
    {
     "name": "stderr",
     "output_type": "stream",
     "text": [
      "\rDictNBHDTransformer fit stage 1:  39%|███▉      | 3731324/9517065 [00:36<00:56, 101861.96it/s]"
     ]
    },
    {
     "name": "stderr",
     "output_type": "stream",
     "text": [
      "\rDictNBHDTransformer fit stage 1:  39%|███▉      | 3748060/9517065 [00:37<00:58, 98687.14it/s] "
     ]
    },
    {
     "name": "stderr",
     "output_type": "stream",
     "text": [
      "\rDictNBHDTransformer fit stage 1:  40%|███▉      | 3764161/9517065 [00:38<00:58, 98850.81it/s]"
     ]
    },
    {
     "name": "stderr",
     "output_type": "stream",
     "text": [
      "\rDictNBHDTransformer fit stage 1:  40%|███▉      | 3781408/9517065 [00:38<00:57, 99043.62it/s]"
     ]
    },
    {
     "name": "stderr",
     "output_type": "stream",
     "text": [
      "\rDictNBHDTransformer fit stage 1:  40%|███▉      | 3798290/9517065 [00:38<00:57, 99225.90it/s]"
     ]
    },
    {
     "name": "stderr",
     "output_type": "stream",
     "text": [
      "\rDictNBHDTransformer fit stage 1:  40%|████      | 3816372/9517065 [00:38<00:57, 99438.48it/s]"
     ]
    },
    {
     "name": "stderr",
     "output_type": "stream",
     "text": [
      "\rDictNBHDTransformer fit stage 1:  40%|████      | 3833670/9517065 [00:38<00:57, 99629.58it/s]"
     ]
    },
    {
     "name": "stderr",
     "output_type": "stream",
     "text": [
      "\rDictNBHDTransformer fit stage 1:  40%|████      | 3851528/9517065 [00:38<00:56, 99834.22it/s]"
     ]
    },
    {
     "name": "stderr",
     "output_type": "stream",
     "text": [
      "\rDictNBHDTransformer fit stage 1:  41%|████      | 3869303/9517065 [00:38<00:56, 100035.64it/s]"
     ]
    },
    {
     "name": "stderr",
     "output_type": "stream",
     "text": [
      "\rDictNBHDTransformer fit stage 1:  41%|████      | 3886616/9517065 [00:38<00:56, 100224.11it/s]"
     ]
    },
    {
     "name": "stderr",
     "output_type": "stream",
     "text": [
      "\rDictNBHDTransformer fit stage 1:  41%|████      | 3903804/9517065 [00:38<00:55, 100401.01it/s]"
     ]
    },
    {
     "name": "stderr",
     "output_type": "stream",
     "text": [
      "\rDictNBHDTransformer fit stage 1:  41%|████      | 3921612/9517065 [00:38<00:55, 100600.28it/s]"
     ]
    },
    {
     "name": "stderr",
     "output_type": "stream",
     "text": [
      "\rDictNBHDTransformer fit stage 1:  41%|████▏     | 3938886/9517065 [00:39<00:55, 100778.07it/s]"
     ]
    },
    {
     "name": "stderr",
     "output_type": "stream",
     "text": [
      "\rDictNBHDTransformer fit stage 1:  42%|████▏     | 3956433/9517065 [00:39<00:55, 100968.68it/s]"
     ]
    },
    {
     "name": "stderr",
     "output_type": "stream",
     "text": [
      "\rDictNBHDTransformer fit stage 1:  42%|████▏     | 3973961/9517065 [00:39<00:54, 101157.84it/s]"
     ]
    },
    {
     "name": "stderr",
     "output_type": "stream",
     "text": [
      "\rDictNBHDTransformer fit stage 1:  42%|████▏     | 3991798/9517065 [00:39<00:54, 101353.87it/s]"
     ]
    },
    {
     "name": "stderr",
     "output_type": "stream",
     "text": [
      "\rDictNBHDTransformer fit stage 1:  42%|████▏     | 4009596/9517065 [00:39<00:54, 101547.93it/s]"
     ]
    },
    {
     "name": "stderr",
     "output_type": "stream",
     "text": [
      "\rDictNBHDTransformer fit stage 1:  42%|████▏     | 4027179/9517065 [00:39<00:53, 101730.36it/s]"
     ]
    },
    {
     "name": "stderr",
     "output_type": "stream",
     "text": [
      "\rDictNBHDTransformer fit stage 1:  42%|████▏     | 4044708/9517065 [00:39<00:53, 101915.71it/s]"
     ]
    },
    {
     "name": "stderr",
     "output_type": "stream",
     "text": [
      "\rDictNBHDTransformer fit stage 1:  43%|████▎     | 4062390/9517065 [00:39<00:53, 102103.96it/s]"
     ]
    },
    {
     "name": "stderr",
     "output_type": "stream",
     "text": [
      "\rDictNBHDTransformer fit stage 1:  43%|████▎     | 4079940/9517065 [00:39<00:53, 102286.78it/s]"
     ]
    },
    {
     "name": "stderr",
     "output_type": "stream",
     "text": [
      "\rDictNBHDTransformer fit stage 1:  43%|████▎     | 4097577/9517065 [00:39<00:52, 102472.05it/s]"
     ]
    },
    {
     "name": "stderr",
     "output_type": "stream",
     "text": [
      "\rDictNBHDTransformer fit stage 1:  43%|████▎     | 4115486/9517065 [00:40<00:52, 102663.17it/s]"
     ]
    },
    {
     "name": "stderr",
     "output_type": "stream",
     "text": [
      "\rDictNBHDTransformer fit stage 1:  43%|████▎     | 4133339/9517065 [00:40<00:52, 102851.94it/s]"
     ]
    },
    {
     "name": "stderr",
     "output_type": "stream",
     "text": [
      "\rDictNBHDTransformer fit stage 1:  44%|████▎     | 4151060/9517065 [00:40<00:52, 103033.39it/s]"
     ]
    },
    {
     "name": "stderr",
     "output_type": "stream",
     "text": [
      "\rDictNBHDTransformer fit stage 1:  44%|████▍     | 4168717/9517065 [00:40<00:51, 103212.20it/s]"
     ]
    },
    {
     "name": "stderr",
     "output_type": "stream",
     "text": [
      "\rDictNBHDTransformer fit stage 1:  44%|████▍     | 4187021/9517065 [00:40<00:51, 103409.38it/s]"
     ]
    },
    {
     "name": "stderr",
     "output_type": "stream",
     "text": [
      "\rDictNBHDTransformer fit stage 1:  44%|████▍     | 4205214/9517065 [00:40<00:51, 103602.82it/s]"
     ]
    },
    {
     "name": "stderr",
     "output_type": "stream",
     "text": [
      "\rDictNBHDTransformer fit stage 1:  44%|████▍     | 4223135/9517065 [00:40<00:51, 103776.89it/s]"
     ]
    },
    {
     "name": "stderr",
     "output_type": "stream",
     "text": [
      "\rDictNBHDTransformer fit stage 1:  45%|████▍     | 4240820/9517065 [00:40<00:50, 103951.86it/s]"
     ]
    },
    {
     "name": "stderr",
     "output_type": "stream",
     "text": [
      "\rDictNBHDTransformer fit stage 1:  45%|████▍     | 4258421/9517065 [00:40<00:50, 104123.83it/s]"
     ]
    },
    {
     "name": "stderr",
     "output_type": "stream",
     "text": [
      "\rDictNBHDTransformer fit stage 1:  45%|████▍     | 4275935/9517065 [00:40<00:50, 104295.31it/s]"
     ]
    },
    {
     "name": "stderr",
     "output_type": "stream",
     "text": [
      "\rDictNBHDTransformer fit stage 1:  45%|████▌     | 4293685/9517065 [00:41<00:49, 104473.41it/s]"
     ]
    },
    {
     "name": "stderr",
     "output_type": "stream",
     "text": [
      "\rDictNBHDTransformer fit stage 1:  45%|████▌     | 4311245/9517065 [00:41<00:49, 104607.05it/s]"
     ]
    },
    {
     "name": "stderr",
     "output_type": "stream",
     "text": [
      "\rDictNBHDTransformer fit stage 1:  45%|████▌     | 4328104/9517065 [00:41<00:49, 104761.92it/s]"
     ]
    },
    {
     "name": "stderr",
     "output_type": "stream",
     "text": [
      "\rDictNBHDTransformer fit stage 1:  46%|████▌     | 4345543/9517065 [00:41<00:49, 104930.03it/s]"
     ]
    },
    {
     "name": "stderr",
     "output_type": "stream",
     "text": [
      "\rDictNBHDTransformer fit stage 1:  46%|████▌     | 4362696/9517065 [00:41<00:49, 105090.46it/s]"
     ]
    },
    {
     "name": "stderr",
     "output_type": "stream",
     "text": [
      "\rDictNBHDTransformer fit stage 1:  46%|████▌     | 4380716/9517065 [00:41<00:48, 105270.93it/s]"
     ]
    },
    {
     "name": "stderr",
     "output_type": "stream",
     "text": [
      "\rDictNBHDTransformer fit stage 1:  46%|████▌     | 4398467/9517065 [00:41<00:48, 105444.10it/s]"
     ]
    },
    {
     "name": "stderr",
     "output_type": "stream",
     "text": [
      "\rDictNBHDTransformer fit stage 1:  46%|████▋     | 4416533/9517065 [00:41<00:48, 105623.98it/s]"
     ]
    },
    {
     "name": "stderr",
     "output_type": "stream",
     "text": [
      "\rDictNBHDTransformer fit stage 1:  47%|████▋     | 4434242/9517065 [00:41<00:48, 105794.45it/s]"
     ]
    },
    {
     "name": "stderr",
     "output_type": "stream",
     "text": [
      "\rDictNBHDTransformer fit stage 1:  47%|████▋     | 4452096/9517065 [00:42<00:47, 105967.60it/s]"
     ]
    },
    {
     "name": "stderr",
     "output_type": "stream",
     "text": [
      "\rDictNBHDTransformer fit stage 1:  47%|████▋     | 4469820/9517065 [00:42<00:47, 106132.11it/s]"
     ]
    },
    {
     "name": "stderr",
     "output_type": "stream",
     "text": [
      "\rDictNBHDTransformer fit stage 1:  47%|████▋     | 4487446/9517065 [00:42<00:47, 106247.35it/s]"
     ]
    },
    {
     "name": "stderr",
     "output_type": "stream",
     "text": [
      "\rDictNBHDTransformer fit stage 1:  47%|████▋     | 4505861/9517065 [00:42<00:47, 106431.35it/s]"
     ]
    },
    {
     "name": "stderr",
     "output_type": "stream",
     "text": [
      "\rDictNBHDTransformer fit stage 1:  48%|████▊     | 4523710/9517065 [00:42<00:46, 106601.13it/s]"
     ]
    },
    {
     "name": "stderr",
     "output_type": "stream",
     "text": [
      "\rDictNBHDTransformer fit stage 1:  48%|████▊     | 4541133/9517065 [00:42<00:46, 106752.19it/s]"
     ]
    },
    {
     "name": "stderr",
     "output_type": "stream",
     "text": [
      "\rDictNBHDTransformer fit stage 1:  48%|████▊     | 4558459/9517065 [00:42<00:46, 106908.17it/s]"
     ]
    },
    {
     "name": "stderr",
     "output_type": "stream",
     "text": [
      "\rDictNBHDTransformer fit stage 1:  48%|████▊     | 4575741/9517065 [00:42<00:46, 107055.73it/s]"
     ]
    },
    {
     "name": "stderr",
     "output_type": "stream",
     "text": [
      "\rDictNBHDTransformer fit stage 1:  48%|████▊     | 4592889/9517065 [00:42<00:45, 107199.31it/s]"
     ]
    },
    {
     "name": "stderr",
     "output_type": "stream",
     "text": [
      "\rDictNBHDTransformer fit stage 1:  48%|████▊     | 4610593/9517065 [00:42<00:45, 107362.24it/s]"
     ]
    },
    {
     "name": "stderr",
     "output_type": "stream",
     "text": [
      "\rDictNBHDTransformer fit stage 1:  49%|████▊     | 4627817/9517065 [00:43<00:45, 107509.19it/s]"
     ]
    },
    {
     "name": "stderr",
     "output_type": "stream",
     "text": [
      "\rDictNBHDTransformer fit stage 1:  49%|████▉     | 4645178/9517065 [00:43<00:45, 107662.25it/s]"
     ]
    },
    {
     "name": "stderr",
     "output_type": "stream",
     "text": [
      "\rDictNBHDTransformer fit stage 1:  49%|████▉     | 4662389/9517065 [00:43<00:45, 107810.97it/s]"
     ]
    },
    {
     "name": "stderr",
     "output_type": "stream",
     "text": [
      "\rDictNBHDTransformer fit stage 1:  49%|████▉     | 4679923/9517065 [00:43<00:44, 107966.75it/s]"
     ]
    },
    {
     "name": "stderr",
     "output_type": "stream",
     "text": [
      "\rDictNBHDTransformer fit stage 1:  49%|████▉     | 4697742/9517065 [00:43<00:44, 108128.37it/s]"
     ]
    },
    {
     "name": "stderr",
     "output_type": "stream",
     "text": [
      "\rDictNBHDTransformer fit stage 1:  50%|████▉     | 4715207/9517065 [00:43<00:44, 108281.13it/s]"
     ]
    },
    {
     "name": "stderr",
     "output_type": "stream",
     "text": [
      "\rDictNBHDTransformer fit stage 1:  50%|████▉     | 4732744/9517065 [00:43<00:44, 108434.12it/s]"
     ]
    },
    {
     "name": "stderr",
     "output_type": "stream",
     "text": [
      "\rDictNBHDTransformer fit stage 1:  50%|████▉     | 4750387/9517065 [00:43<00:43, 108589.57it/s]"
     ]
    },
    {
     "name": "stderr",
     "output_type": "stream",
     "text": [
      "\rDictNBHDTransformer fit stage 1:  50%|█████     | 4768438/9517065 [00:43<00:43, 108753.60it/s]"
     ]
    },
    {
     "name": "stderr",
     "output_type": "stream",
     "text": [
      "\rDictNBHDTransformer fit stage 1:  50%|█████     | 4786359/9517065 [00:43<00:43, 108913.91it/s]"
     ]
    },
    {
     "name": "stderr",
     "output_type": "stream",
     "text": [
      "\rDictNBHDTransformer fit stage 1:  50%|█████     | 4804111/9517065 [00:45<00:44, 105848.88it/s]"
     ]
    },
    {
     "name": "stderr",
     "output_type": "stream",
     "text": [
      "\rDictNBHDTransformer fit stage 1:  51%|█████     | 4821067/9517065 [00:45<00:44, 105988.93it/s]"
     ]
    },
    {
     "name": "stderr",
     "output_type": "stream",
     "text": [
      "\rDictNBHDTransformer fit stage 1:  51%|█████     | 4838535/9517065 [00:45<00:44, 106139.58it/s]"
     ]
    },
    {
     "name": "stderr",
     "output_type": "stream",
     "text": [
      "\rDictNBHDTransformer fit stage 1:  51%|█████     | 4855988/9517065 [00:45<00:43, 106289.28it/s]"
     ]
    },
    {
     "name": "stderr",
     "output_type": "stream",
     "text": [
      "\rDictNBHDTransformer fit stage 1:  51%|█████     | 4873537/9517065 [00:45<00:43, 106440.41it/s]"
     ]
    },
    {
     "name": "stderr",
     "output_type": "stream",
     "text": [
      "\rDictNBHDTransformer fit stage 1:  51%|█████▏    | 4889851/9517065 [00:45<00:43, 106561.45it/s]"
     ]
    },
    {
     "name": "stderr",
     "output_type": "stream",
     "text": [
      "\rDictNBHDTransformer fit stage 1:  52%|█████▏    | 4906880/9517065 [00:45<00:43, 106700.02it/s]"
     ]
    },
    {
     "name": "stderr",
     "output_type": "stream",
     "text": [
      "\rDictNBHDTransformer fit stage 1:  52%|█████▏    | 4924905/9517065 [00:46<00:42, 106859.59it/s]"
     ]
    },
    {
     "name": "stderr",
     "output_type": "stream",
     "text": [
      "\rDictNBHDTransformer fit stage 1:  52%|█████▏    | 4941935/9517065 [00:46<00:42, 106996.95it/s]"
     ]
    },
    {
     "name": "stderr",
     "output_type": "stream",
     "text": [
      "\rDictNBHDTransformer fit stage 1:  52%|█████▏    | 4959171/9517065 [00:46<00:42, 107138.15it/s]"
     ]
    },
    {
     "name": "stderr",
     "output_type": "stream",
     "text": [
      "\rDictNBHDTransformer fit stage 1:  52%|█████▏    | 4976224/9517065 [00:46<00:42, 107273.19it/s]"
     ]
    },
    {
     "name": "stderr",
     "output_type": "stream",
     "text": [
      "\rDictNBHDTransformer fit stage 1:  52%|█████▏    | 4994355/9517065 [00:46<00:42, 107432.45it/s]"
     ]
    },
    {
     "name": "stderr",
     "output_type": "stream",
     "text": [
      "\rDictNBHDTransformer fit stage 1:  53%|█████▎    | 5012278/9517065 [00:46<00:41, 107586.56it/s]"
     ]
    },
    {
     "name": "stderr",
     "output_type": "stream",
     "text": [
      "\rDictNBHDTransformer fit stage 1:  53%|█████▎    | 5030265/9517065 [00:46<00:41, 107741.38it/s]"
     ]
    },
    {
     "name": "stderr",
     "output_type": "stream",
     "text": [
      "\rDictNBHDTransformer fit stage 1:  53%|█████▎    | 5048009/9517065 [00:46<00:41, 107890.33it/s]"
     ]
    },
    {
     "name": "stderr",
     "output_type": "stream",
     "text": [
      "\rDictNBHDTransformer fit stage 1:  53%|█████▎    | 5066162/9517065 [00:46<00:41, 108047.38it/s]"
     ]
    },
    {
     "name": "stderr",
     "output_type": "stream",
     "text": [
      "\rDictNBHDTransformer fit stage 1:  53%|█████▎    | 5083989/9517065 [00:46<00:40, 108194.32it/s]"
     ]
    },
    {
     "name": "stderr",
     "output_type": "stream",
     "text": [
      "\rDictNBHDTransformer fit stage 1:  54%|█████▎    | 5101759/9517065 [00:47<00:40, 108339.41it/s]"
     ]
    },
    {
     "name": "stderr",
     "output_type": "stream",
     "text": [
      "\rDictNBHDTransformer fit stage 1:  54%|█████▍    | 5120456/9517065 [00:47<00:40, 108505.99it/s]"
     ]
    },
    {
     "name": "stderr",
     "output_type": "stream",
     "text": [
      "\rDictNBHDTransformer fit stage 1:  54%|█████▍    | 5138464/9517065 [00:47<00:40, 108651.83it/s]"
     ]
    },
    {
     "name": "stderr",
     "output_type": "stream",
     "text": [
      "\rDictNBHDTransformer fit stage 1:  54%|█████▍    | 5156345/9517065 [00:47<00:40, 108783.81it/s]"
     ]
    },
    {
     "name": "stderr",
     "output_type": "stream",
     "text": [
      "\rDictNBHDTransformer fit stage 1:  54%|█████▍    | 5173876/9517065 [00:47<00:39, 108921.47it/s]"
     ]
    },
    {
     "name": "stderr",
     "output_type": "stream",
     "text": [
      "\rDictNBHDTransformer fit stage 1:  55%|█████▍    | 5191352/9517065 [00:47<00:39, 109054.30it/s]"
     ]
    },
    {
     "name": "stderr",
     "output_type": "stream",
     "text": [
      "\rDictNBHDTransformer fit stage 1:  55%|█████▍    | 5209058/9517065 [00:47<00:39, 109196.86it/s]"
     ]
    },
    {
     "name": "stderr",
     "output_type": "stream",
     "text": [
      "\rDictNBHDTransformer fit stage 1:  55%|█████▍    | 5226517/9517065 [00:47<00:39, 109330.50it/s]"
     ]
    },
    {
     "name": "stderr",
     "output_type": "stream",
     "text": [
      "\rDictNBHDTransformer fit stage 1:  55%|█████▌    | 5243906/9517065 [00:47<00:39, 109454.14it/s]"
     ]
    },
    {
     "name": "stderr",
     "output_type": "stream",
     "text": [
      "\rDictNBHDTransformer fit stage 1:  55%|█████▌    | 5261053/9517065 [00:48<00:38, 109582.08it/s]"
     ]
    },
    {
     "name": "stderr",
     "output_type": "stream",
     "text": [
      "\rDictNBHDTransformer fit stage 1:  55%|█████▌    | 5279238/9517065 [00:48<00:38, 109732.32it/s]"
     ]
    },
    {
     "name": "stderr",
     "output_type": "stream",
     "text": [
      "\rDictNBHDTransformer fit stage 1:  56%|█████▌    | 5297222/9517065 [00:48<00:38, 109877.73it/s]"
     ]
    },
    {
     "name": "stderr",
     "output_type": "stream",
     "text": [
      "\rDictNBHDTransformer fit stage 1:  56%|█████▌    | 5315104/9517065 [00:48<00:38, 110020.44it/s]"
     ]
    },
    {
     "name": "stderr",
     "output_type": "stream",
     "text": [
      "\rDictNBHDTransformer fit stage 1:  56%|█████▌    | 5332791/9517065 [00:48<00:37, 110148.74it/s]"
     ]
    },
    {
     "name": "stderr",
     "output_type": "stream",
     "text": [
      "\rDictNBHDTransformer fit stage 1:  56%|█████▌    | 5351100/9517065 [00:48<00:37, 110299.09it/s]"
     ]
    },
    {
     "name": "stderr",
     "output_type": "stream",
     "text": [
      "\rDictNBHDTransformer fit stage 1:  56%|█████▋    | 5368821/9517065 [00:48<00:37, 110429.06it/s]"
     ]
    },
    {
     "name": "stderr",
     "output_type": "stream",
     "text": [
      "\rDictNBHDTransformer fit stage 1:  57%|█████▋    | 5387022/9517065 [00:48<00:37, 110575.63it/s]"
     ]
    },
    {
     "name": "stderr",
     "output_type": "stream",
     "text": [
      "\rDictNBHDTransformer fit stage 1:  57%|█████▋    | 5405456/9517065 [00:48<00:37, 110726.74it/s]"
     ]
    },
    {
     "name": "stderr",
     "output_type": "stream",
     "text": [
      "\rDictNBHDTransformer fit stage 1:  57%|█████▋    | 5423401/9517065 [00:48<00:36, 110861.96it/s]"
     ]
    },
    {
     "name": "stderr",
     "output_type": "stream",
     "text": [
      "\rDictNBHDTransformer fit stage 1:  57%|█████▋    | 5441224/9517065 [00:49<00:36, 110990.30it/s]"
     ]
    },
    {
     "name": "stderr",
     "output_type": "stream",
     "text": [
      "\rDictNBHDTransformer fit stage 1:  57%|█████▋    | 5458841/9517065 [00:49<00:36, 111121.26it/s]"
     ]
    },
    {
     "name": "stderr",
     "output_type": "stream",
     "text": [
      "\rDictNBHDTransformer fit stage 1:  58%|█████▊    | 5476724/9517065 [00:49<00:36, 111258.84it/s]"
     ]
    },
    {
     "name": "stderr",
     "output_type": "stream",
     "text": [
      "\rDictNBHDTransformer fit stage 1:  58%|█████▊    | 5494393/9517065 [00:49<00:36, 111384.38it/s]"
     ]
    },
    {
     "name": "stderr",
     "output_type": "stream",
     "text": [
      "\rDictNBHDTransformer fit stage 1:  58%|█████▊    | 5511901/9517065 [00:49<00:35, 111511.37it/s]"
     ]
    },
    {
     "name": "stderr",
     "output_type": "stream",
     "text": [
      "\rDictNBHDTransformer fit stage 1:  58%|█████▊    | 5529539/9517065 [00:49<00:35, 111642.34it/s]"
     ]
    },
    {
     "name": "stderr",
     "output_type": "stream",
     "text": [
      "\rDictNBHDTransformer fit stage 1:  58%|█████▊    | 5547056/9517065 [00:49<00:35, 111764.84it/s]"
     ]
    },
    {
     "name": "stderr",
     "output_type": "stream",
     "text": [
      "\rDictNBHDTransformer fit stage 1:  58%|█████▊    | 5564754/9517065 [00:49<00:35, 111895.37it/s]"
     ]
    },
    {
     "name": "stderr",
     "output_type": "stream",
     "text": [
      "\rDictNBHDTransformer fit stage 1:  59%|█████▊    | 5582487/9517065 [00:49<00:35, 112026.67it/s]"
     ]
    },
    {
     "name": "stderr",
     "output_type": "stream",
     "text": [
      "\rDictNBHDTransformer fit stage 1:  59%|█████▉    | 5600635/9517065 [00:49<00:34, 112164.84it/s]"
     ]
    },
    {
     "name": "stderr",
     "output_type": "stream",
     "text": [
      "\rDictNBHDTransformer fit stage 1:  59%|█████▉    | 5618341/9517065 [00:50<00:34, 112288.74it/s]"
     ]
    },
    {
     "name": "stderr",
     "output_type": "stream",
     "text": [
      "\rDictNBHDTransformer fit stage 1:  59%|█████▉    | 5636121/9517065 [00:50<00:34, 112419.41it/s]"
     ]
    },
    {
     "name": "stderr",
     "output_type": "stream",
     "text": [
      "\rDictNBHDTransformer fit stage 1:  59%|█████▉    | 5653756/9517065 [00:50<00:34, 112535.83it/s]"
     ]
    },
    {
     "name": "stderr",
     "output_type": "stream",
     "text": [
      "\rDictNBHDTransformer fit stage 1:  60%|█████▉    | 5671236/9517065 [00:50<00:34, 112659.52it/s]"
     ]
    },
    {
     "name": "stderr",
     "output_type": "stream",
     "text": [
      "\rDictNBHDTransformer fit stage 1:  60%|█████▉    | 5688654/9517065 [00:50<00:33, 112770.54it/s]"
     ]
    },
    {
     "name": "stderr",
     "output_type": "stream",
     "text": [
      "\rDictNBHDTransformer fit stage 1:  60%|█████▉    | 5706658/9517065 [00:50<00:33, 112903.62it/s]"
     ]
    },
    {
     "name": "stderr",
     "output_type": "stream",
     "text": [
      "\rDictNBHDTransformer fit stage 1:  60%|██████    | 5724081/9517065 [00:50<00:33, 113020.91it/s]"
     ]
    },
    {
     "name": "stderr",
     "output_type": "stream",
     "text": [
      "\rDictNBHDTransformer fit stage 1:  60%|██████    | 5742063/9517065 [00:50<00:33, 113152.05it/s]"
     ]
    },
    {
     "name": "stderr",
     "output_type": "stream",
     "text": [
      "\rDictNBHDTransformer fit stage 1:  61%|██████    | 5759604/9517065 [00:50<00:33, 113274.50it/s]"
     ]
    },
    {
     "name": "stderr",
     "output_type": "stream",
     "text": [
      "\rDictNBHDTransformer fit stage 1:  61%|██████    | 5777862/9517065 [00:50<00:32, 113410.52it/s]"
     ]
    },
    {
     "name": "stderr",
     "output_type": "stream",
     "text": [
      "\rDictNBHDTransformer fit stage 1:  61%|██████    | 5795607/9517065 [00:51<00:32, 113530.50it/s]"
     ]
    },
    {
     "name": "stderr",
     "output_type": "stream",
     "text": [
      "\rDictNBHDTransformer fit stage 1:  61%|██████    | 5813772/9517065 [00:51<00:32, 113663.68it/s]"
     ]
    },
    {
     "name": "stderr",
     "output_type": "stream",
     "text": [
      "\rDictNBHDTransformer fit stage 1:  61%|██████▏   | 5831969/9517065 [00:51<00:32, 113796.96it/s]"
     ]
    },
    {
     "name": "stderr",
     "output_type": "stream",
     "text": [
      "\rDictNBHDTransformer fit stage 1:  61%|██████▏   | 5849875/9517065 [00:51<00:32, 113912.70it/s]"
     ]
    },
    {
     "name": "stderr",
     "output_type": "stream",
     "text": [
      "\rDictNBHDTransformer fit stage 1:  62%|██████▏   | 5867520/9517065 [00:51<00:32, 114030.06it/s]"
     ]
    },
    {
     "name": "stderr",
     "output_type": "stream",
     "text": [
      "\rDictNBHDTransformer fit stage 1:  62%|██████▏   | 5885240/9517065 [00:51<00:31, 114152.59it/s]"
     ]
    },
    {
     "name": "stderr",
     "output_type": "stream",
     "text": [
      "\rDictNBHDTransformer fit stage 1:  62%|██████▏   | 5903236/9517065 [00:51<00:31, 114279.97it/s]"
     ]
    },
    {
     "name": "stderr",
     "output_type": "stream",
     "text": [
      "\rDictNBHDTransformer fit stage 1:  62%|██████▏   | 5920954/9517065 [00:51<00:31, 114392.93it/s]"
     ]
    },
    {
     "name": "stderr",
     "output_type": "stream",
     "text": [
      "\rDictNBHDTransformer fit stage 1:  62%|██████▏   | 5938734/9517065 [00:51<00:31, 114515.22it/s]"
     ]
    },
    {
     "name": "stderr",
     "output_type": "stream",
     "text": [
      "\rDictNBHDTransformer fit stage 1:  63%|██████▎   | 5956332/9517065 [00:51<00:31, 114626.86it/s]"
     ]
    },
    {
     "name": "stderr",
     "output_type": "stream",
     "text": [
      "\rDictNBHDTransformer fit stage 1:  63%|██████▎   | 5973803/9517065 [00:52<00:30, 114742.24it/s]"
     ]
    },
    {
     "name": "stderr",
     "output_type": "stream",
     "text": [
      "\rDictNBHDTransformer fit stage 1:  63%|██████▎   | 5991986/9517065 [00:52<00:30, 114870.86it/s]"
     ]
    },
    {
     "name": "stderr",
     "output_type": "stream",
     "text": [
      "\rDictNBHDTransformer fit stage 1:  63%|██████▎   | 6009657/9517065 [00:52<00:30, 114983.37it/s]"
     ]
    },
    {
     "name": "stderr",
     "output_type": "stream",
     "text": [
      "\rDictNBHDTransformer fit stage 1:  63%|██████▎   | 6027298/9517065 [00:52<00:30, 115100.67it/s]"
     ]
    },
    {
     "name": "stderr",
     "output_type": "stream",
     "text": [
      "\rDictNBHDTransformer fit stage 1:  64%|██████▎   | 6045067/9517065 [00:52<00:30, 115219.96it/s]"
     ]
    },
    {
     "name": "stderr",
     "output_type": "stream",
     "text": [
      "\rDictNBHDTransformer fit stage 1:  64%|██████▎   | 6062695/9517065 [00:52<00:29, 115335.82it/s]"
     ]
    },
    {
     "name": "stderr",
     "output_type": "stream",
     "text": [
      "\rDictNBHDTransformer fit stage 1:  64%|██████▍   | 6080899/9517065 [00:52<00:29, 115462.48it/s]"
     ]
    },
    {
     "name": "stderr",
     "output_type": "stream",
     "text": [
      "\rDictNBHDTransformer fit stage 1:  64%|██████▍   | 6098695/9517065 [00:52<00:29, 115580.66it/s]"
     ]
    },
    {
     "name": "stderr",
     "output_type": "stream",
     "text": [
      "\rDictNBHDTransformer fit stage 1:  64%|██████▍   | 6116485/9517065 [00:52<00:29, 115691.99it/s]"
     ]
    },
    {
     "name": "stderr",
     "output_type": "stream",
     "text": [
      "\rDictNBHDTransformer fit stage 1:  64%|██████▍   | 6134120/9517065 [00:52<00:29, 115805.48it/s]"
     ]
    },
    {
     "name": "stderr",
     "output_type": "stream",
     "text": [
      "\rDictNBHDTransformer fit stage 1:  65%|██████▍   | 6151730/9517065 [00:54<00:29, 112893.34it/s]"
     ]
    },
    {
     "name": "stderr",
     "output_type": "stream",
     "text": [
      "\rDictNBHDTransformer fit stage 1:  65%|██████▍   | 6168964/9517065 [00:54<00:29, 113002.23it/s]"
     ]
    },
    {
     "name": "stderr",
     "output_type": "stream",
     "text": [
      "\rDictNBHDTransformer fit stage 1:  65%|██████▌   | 6187030/9517065 [00:54<00:29, 113125.94it/s]"
     ]
    },
    {
     "name": "stderr",
     "output_type": "stream",
     "text": [
      "\rDictNBHDTransformer fit stage 1:  65%|██████▌   | 6204298/9517065 [00:54<00:29, 113234.61it/s]"
     ]
    },
    {
     "name": "stderr",
     "output_type": "stream",
     "text": [
      "\rDictNBHDTransformer fit stage 1:  65%|██████▌   | 6221143/9517065 [00:54<00:29, 113335.20it/s]"
     ]
    },
    {
     "name": "stderr",
     "output_type": "stream",
     "text": [
      "\rDictNBHDTransformer fit stage 1:  66%|██████▌   | 6238501/9517065 [00:54<00:28, 113444.75it/s]"
     ]
    },
    {
     "name": "stderr",
     "output_type": "stream",
     "text": [
      "\rDictNBHDTransformer fit stage 1:  66%|██████▌   | 6256397/9517065 [00:55<00:28, 113563.67it/s]"
     ]
    },
    {
     "name": "stderr",
     "output_type": "stream",
     "text": [
      "\rDictNBHDTransformer fit stage 1:  66%|██████▌   | 6273603/9517065 [00:55<00:28, 113669.65it/s]"
     ]
    },
    {
     "name": "stderr",
     "output_type": "stream",
     "text": [
      "\rDictNBHDTransformer fit stage 1:  66%|██████▌   | 6290781/9517065 [00:55<00:28, 113774.75it/s]"
     ]
    },
    {
     "name": "stderr",
     "output_type": "stream",
     "text": [
      "\rDictNBHDTransformer fit stage 1:  66%|██████▋   | 6308800/9517065 [00:55<00:28, 113894.65it/s]"
     ]
    },
    {
     "name": "stderr",
     "output_type": "stream",
     "text": [
      "\rDictNBHDTransformer fit stage 1:  66%|██████▋   | 6326741/9517065 [00:55<00:27, 114012.71it/s]"
     ]
    },
    {
     "name": "stderr",
     "output_type": "stream",
     "text": [
      "\rDictNBHDTransformer fit stage 1:  67%|██████▋   | 6345586/9517065 [00:55<00:27, 114146.59it/s]"
     ]
    },
    {
     "name": "stderr",
     "output_type": "stream",
     "text": [
      "\rDictNBHDTransformer fit stage 1:  67%|██████▋   | 6363665/9517065 [00:55<00:27, 114266.26it/s]"
     ]
    },
    {
     "name": "stderr",
     "output_type": "stream",
     "text": [
      "\rDictNBHDTransformer fit stage 1:  67%|██████▋   | 6381687/9517065 [00:55<00:27, 114384.47it/s]"
     ]
    },
    {
     "name": "stderr",
     "output_type": "stream",
     "text": [
      "\rDictNBHDTransformer fit stage 1:  67%|██████▋   | 6399672/9517065 [00:55<00:27, 114494.37it/s]"
     ]
    },
    {
     "name": "stderr",
     "output_type": "stream",
     "text": [
      "\rDictNBHDTransformer fit stage 1:  67%|██████▋   | 6417473/9517065 [00:55<00:27, 114599.39it/s]"
     ]
    },
    {
     "name": "stderr",
     "output_type": "stream",
     "text": [
      "\rDictNBHDTransformer fit stage 1:  68%|██████▊   | 6435083/9517065 [00:56<00:26, 114708.58it/s]"
     ]
    },
    {
     "name": "stderr",
     "output_type": "stream",
     "text": [
      "\rDictNBHDTransformer fit stage 1:  68%|██████▊   | 6452755/9517065 [00:56<00:26, 114819.37it/s]"
     ]
    },
    {
     "name": "stderr",
     "output_type": "stream",
     "text": [
      "\rDictNBHDTransformer fit stage 1:  68%|██████▊   | 6470374/9517065 [00:56<00:26, 114913.18it/s]"
     ]
    },
    {
     "name": "stderr",
     "output_type": "stream",
     "text": [
      "\rDictNBHDTransformer fit stage 1:  68%|██████▊   | 6487627/9517065 [00:56<00:26, 115001.85it/s]"
     ]
    },
    {
     "name": "stderr",
     "output_type": "stream",
     "text": [
      "\rDictNBHDTransformer fit stage 1:  68%|██████▊   | 6505650/9517065 [00:56<00:26, 115117.22it/s]"
     ]
    },
    {
     "name": "stderr",
     "output_type": "stream",
     "text": [
      "\rDictNBHDTransformer fit stage 1:  69%|██████▊   | 6524333/9517065 [00:56<00:25, 115243.92it/s]"
     ]
    },
    {
     "name": "stderr",
     "output_type": "stream",
     "text": [
      "\rDictNBHDTransformer fit stage 1:  69%|██████▊   | 6542825/9517065 [00:56<00:25, 115366.77it/s]"
     ]
    },
    {
     "name": "stderr",
     "output_type": "stream",
     "text": [
      "\rDictNBHDTransformer fit stage 1:  69%|██████▉   | 6560812/9517065 [00:56<00:25, 115480.28it/s]"
     ]
    },
    {
     "name": "stderr",
     "output_type": "stream",
     "text": [
      "\rDictNBHDTransformer fit stage 1:  69%|██████▉   | 6579144/9517065 [00:56<00:25, 115599.49it/s]"
     ]
    },
    {
     "name": "stderr",
     "output_type": "stream",
     "text": [
      "\rDictNBHDTransformer fit stage 1:  69%|██████▉   | 6597335/9517065 [00:57<00:25, 115715.77it/s]"
     ]
    },
    {
     "name": "stderr",
     "output_type": "stream",
     "text": [
      "\rDictNBHDTransformer fit stage 1:  70%|██████▉   | 6615435/9517065 [00:57<00:25, 115816.54it/s]"
     ]
    },
    {
     "name": "stderr",
     "output_type": "stream",
     "text": [
      "\rDictNBHDTransformer fit stage 1:  70%|██████▉   | 6633474/9517065 [00:57<00:24, 115929.39it/s]"
     ]
    },
    {
     "name": "stderr",
     "output_type": "stream",
     "text": [
      "\rDictNBHDTransformer fit stage 1:  70%|██████▉   | 6651561/9517065 [00:57<00:24, 116042.69it/s]"
     ]
    },
    {
     "name": "stderr",
     "output_type": "stream",
     "text": [
      "\rDictNBHDTransformer fit stage 1:  70%|███████   | 6669478/9517065 [00:57<00:24, 116146.34it/s]"
     ]
    },
    {
     "name": "stderr",
     "output_type": "stream",
     "text": [
      "\rDictNBHDTransformer fit stage 1:  70%|███████   | 6687233/9517065 [00:57<00:24, 116246.09it/s]"
     ]
    },
    {
     "name": "stderr",
     "output_type": "stream",
     "text": [
      "\rDictNBHDTransformer fit stage 1:  70%|███████   | 6704811/9517065 [00:57<00:24, 116344.20it/s]"
     ]
    },
    {
     "name": "stderr",
     "output_type": "stream",
     "text": [
      "\rDictNBHDTransformer fit stage 1:  71%|███████   | 6722931/9517065 [00:57<00:23, 116456.56it/s]"
     ]
    },
    {
     "name": "stderr",
     "output_type": "stream",
     "text": [
      "\rDictNBHDTransformer fit stage 1:  71%|███████   | 6741001/9517065 [00:57<00:23, 116567.65it/s]"
     ]
    },
    {
     "name": "stderr",
     "output_type": "stream",
     "text": [
      "\rDictNBHDTransformer fit stage 1:  71%|███████   | 6758775/9517065 [00:57<00:23, 116672.25it/s]"
     ]
    },
    {
     "name": "stderr",
     "output_type": "stream",
     "text": [
      "\rDictNBHDTransformer fit stage 1:  71%|███████   | 6776523/9517065 [00:58<00:23, 116771.93it/s]"
     ]
    },
    {
     "name": "stderr",
     "output_type": "stream",
     "text": [
      "\rDictNBHDTransformer fit stage 1:  71%|███████▏  | 6794430/9517065 [00:58<00:23, 116879.08it/s]"
     ]
    },
    {
     "name": "stderr",
     "output_type": "stream",
     "text": [
      "\rDictNBHDTransformer fit stage 1:  72%|███████▏  | 6812232/9517065 [00:58<00:23, 116984.09it/s]"
     ]
    },
    {
     "name": "stderr",
     "output_type": "stream",
     "text": [
      "\rDictNBHDTransformer fit stage 1:  72%|███████▏  | 6830324/9517065 [00:58<00:22, 117093.69it/s]"
     ]
    },
    {
     "name": "stderr",
     "output_type": "stream",
     "text": [
      "\rDictNBHDTransformer fit stage 1:  72%|███████▏  | 6848418/9517065 [00:58<00:22, 117202.96it/s]"
     ]
    },
    {
     "name": "stderr",
     "output_type": "stream",
     "text": [
      "\rDictNBHDTransformer fit stage 1:  72%|███████▏  | 6866335/9517065 [00:58<00:22, 117307.88it/s]"
     ]
    },
    {
     "name": "stderr",
     "output_type": "stream",
     "text": [
      "\rDictNBHDTransformer fit stage 1:  72%|███████▏  | 6884227/9517065 [00:58<00:22, 117410.61it/s]"
     ]
    },
    {
     "name": "stderr",
     "output_type": "stream",
     "text": [
      "\rDictNBHDTransformer fit stage 1:  73%|███████▎  | 6902269/9517065 [00:58<00:22, 117517.79it/s]"
     ]
    },
    {
     "name": "stderr",
     "output_type": "stream",
     "text": [
      "\rDictNBHDTransformer fit stage 1:  73%|███████▎  | 6920347/9517065 [00:58<00:22, 117625.33it/s]"
     ]
    },
    {
     "name": "stderr",
     "output_type": "stream",
     "text": [
      "\rDictNBHDTransformer fit stage 1:  73%|███████▎  | 6938295/9517065 [00:58<00:21, 117722.06it/s]"
     ]
    },
    {
     "name": "stderr",
     "output_type": "stream",
     "text": [
      "\rDictNBHDTransformer fit stage 1:  73%|███████▎  | 6956031/9517065 [00:59<00:21, 117821.51it/s]"
     ]
    },
    {
     "name": "stderr",
     "output_type": "stream",
     "text": [
      "\rDictNBHDTransformer fit stage 1:  73%|███████▎  | 6973726/9517065 [00:59<00:21, 117920.70it/s]"
     ]
    },
    {
     "name": "stderr",
     "output_type": "stream",
     "text": [
      "\rDictNBHDTransformer fit stage 1:  73%|███████▎  | 6991399/9517065 [00:59<00:21, 118017.17it/s]"
     ]
    },
    {
     "name": "stderr",
     "output_type": "stream",
     "text": [
      "\rDictNBHDTransformer fit stage 1:  74%|███████▎  | 7009084/9517065 [00:59<00:21, 118116.31it/s]"
     ]
    },
    {
     "name": "stderr",
     "output_type": "stream",
     "text": [
      "\rDictNBHDTransformer fit stage 1:  74%|███████▍  | 7026709/9517065 [00:59<00:21, 118211.16it/s]"
     ]
    },
    {
     "name": "stderr",
     "output_type": "stream",
     "text": [
      "\rDictNBHDTransformer fit stage 1:  74%|███████▍  | 7044641/9517065 [00:59<00:20, 118313.78it/s]"
     ]
    },
    {
     "name": "stderr",
     "output_type": "stream",
     "text": [
      "\rDictNBHDTransformer fit stage 1:  74%|███████▍  | 7062441/9517065 [00:59<00:20, 118413.86it/s]"
     ]
    },
    {
     "name": "stderr",
     "output_type": "stream",
     "text": [
      "\rDictNBHDTransformer fit stage 1:  74%|███████▍  | 7080957/9517065 [00:59<00:20, 118525.58it/s]"
     ]
    },
    {
     "name": "stderr",
     "output_type": "stream",
     "text": [
      "\rDictNBHDTransformer fit stage 1:  75%|███████▍  | 7099055/9517065 [00:59<00:20, 118629.94it/s]"
     ]
    },
    {
     "name": "stderr",
     "output_type": "stream",
     "text": [
      "\rDictNBHDTransformer fit stage 1:  75%|███████▍  | 7117048/9517065 [00:59<00:20, 118732.07it/s]"
     ]
    },
    {
     "name": "stderr",
     "output_type": "stream",
     "text": [
      "\rDictNBHDTransformer fit stage 1:  75%|███████▍  | 7135038/9517065 [01:00<00:20, 118817.99it/s]"
     ]
    },
    {
     "name": "stderr",
     "output_type": "stream",
     "text": [
      "\rDictNBHDTransformer fit stage 1:  75%|███████▌  | 7152650/9517065 [01:00<00:19, 118913.27it/s]"
     ]
    },
    {
     "name": "stderr",
     "output_type": "stream",
     "text": [
      "\rDictNBHDTransformer fit stage 1:  75%|███████▌  | 7170734/9517065 [01:00<00:19, 119016.05it/s]"
     ]
    },
    {
     "name": "stderr",
     "output_type": "stream",
     "text": [
      "\rDictNBHDTransformer fit stage 1:  76%|███████▌  | 7188476/9517065 [01:00<00:19, 119110.57it/s]"
     ]
    },
    {
     "name": "stderr",
     "output_type": "stream",
     "text": [
      "\rDictNBHDTransformer fit stage 1:  76%|███████▌  | 7206550/9517065 [01:00<00:19, 119212.53it/s]"
     ]
    },
    {
     "name": "stderr",
     "output_type": "stream",
     "text": [
      "\rDictNBHDTransformer fit stage 1:  76%|███████▌  | 7224350/9517065 [01:00<00:19, 119304.36it/s]"
     ]
    },
    {
     "name": "stderr",
     "output_type": "stream",
     "text": [
      "\rDictNBHDTransformer fit stage 1:  76%|███████▌  | 7242012/9517065 [01:00<00:19, 119396.28it/s]"
     ]
    },
    {
     "name": "stderr",
     "output_type": "stream",
     "text": [
      "\rDictNBHDTransformer fit stage 1:  76%|███████▋  | 7259899/9517065 [01:00<00:18, 119494.16it/s]"
     ]
    },
    {
     "name": "stderr",
     "output_type": "stream",
     "text": [
      "\rDictNBHDTransformer fit stage 1:  76%|███████▋  | 7277580/9517065 [01:00<00:18, 119580.20it/s]"
     ]
    },
    {
     "name": "stderr",
     "output_type": "stream",
     "text": [
      "\rDictNBHDTransformer fit stage 1:  77%|███████▋  | 7296146/9517065 [01:00<00:18, 119688.59it/s]"
     ]
    },
    {
     "name": "stderr",
     "output_type": "stream",
     "text": [
      "\rDictNBHDTransformer fit stage 1:  77%|███████▋  | 7313945/9517065 [01:01<00:18, 119776.71it/s]"
     ]
    },
    {
     "name": "stderr",
     "output_type": "stream",
     "text": [
      "\rDictNBHDTransformer fit stage 1:  77%|███████▋  | 7331634/9517065 [01:01<00:18, 119870.11it/s]"
     ]
    },
    {
     "name": "stderr",
     "output_type": "stream",
     "text": [
      "\rDictNBHDTransformer fit stage 1:  77%|███████▋  | 7349265/9517065 [01:01<00:18, 119951.57it/s]"
     ]
    },
    {
     "name": "stderr",
     "output_type": "stream",
     "text": [
      "\rDictNBHDTransformer fit stage 1:  77%|███████▋  | 7366623/9517065 [01:01<00:17, 120038.35it/s]"
     ]
    },
    {
     "name": "stderr",
     "output_type": "stream",
     "text": [
      "\rDictNBHDTransformer fit stage 1:  78%|███████▊  | 7384069/9517065 [01:01<00:17, 120126.51it/s]"
     ]
    },
    {
     "name": "stderr",
     "output_type": "stream",
     "text": [
      "\rDictNBHDTransformer fit stage 1:  78%|███████▊  | 7401432/9517065 [01:01<00:17, 120210.71it/s]"
     ]
    },
    {
     "name": "stderr",
     "output_type": "stream",
     "text": [
      "\rDictNBHDTransformer fit stage 1:  78%|███████▊  | 7418951/9517065 [01:01<00:17, 120299.86it/s]"
     ]
    },
    {
     "name": "stderr",
     "output_type": "stream",
     "text": [
      "\rDictNBHDTransformer fit stage 1:  78%|███████▊  | 7437090/9517065 [01:01<00:17, 120398.74it/s]"
     ]
    },
    {
     "name": "stderr",
     "output_type": "stream",
     "text": [
      "\rDictNBHDTransformer fit stage 1:  78%|███████▊  | 7454898/9517065 [01:01<00:17, 120491.97it/s]"
     ]
    },
    {
     "name": "stderr",
     "output_type": "stream",
     "text": [
      "\rDictNBHDTransformer fit stage 1:  79%|███████▊  | 7472556/9517065 [01:02<00:17, 119693.07it/s]"
     ]
    },
    {
     "name": "stderr",
     "output_type": "stream",
     "text": [
      "\rDictNBHDTransformer fit stage 1:  79%|███████▊  | 7489806/9517065 [01:02<00:16, 119777.30it/s]"
     ]
    },
    {
     "name": "stderr",
     "output_type": "stream",
     "text": [
      "\rDictNBHDTransformer fit stage 1:  79%|███████▉  | 7507455/9517065 [01:02<00:16, 119868.01it/s]"
     ]
    },
    {
     "name": "stderr",
     "output_type": "stream",
     "text": [
      "\rDictNBHDTransformer fit stage 1:  79%|███████▉  | 7525248/9517065 [01:02<00:16, 119960.57it/s]"
     ]
    },
    {
     "name": "stderr",
     "output_type": "stream",
     "text": [
      "\rDictNBHDTransformer fit stage 1:  79%|███████▉  | 7543407/9517065 [01:02<00:16, 120058.62it/s]"
     ]
    },
    {
     "name": "stderr",
     "output_type": "stream",
     "text": [
      "\rDictNBHDTransformer fit stage 1:  79%|███████▉  | 7560154/9517065 [01:02<00:16, 120133.52it/s]"
     ]
    },
    {
     "name": "stderr",
     "output_type": "stream",
     "text": [
      "\rDictNBHDTransformer fit stage 1:  80%|███████▉  | 7577243/9517065 [01:03<00:16, 120214.11it/s]"
     ]
    },
    {
     "name": "stderr",
     "output_type": "stream",
     "text": [
      "\rDictNBHDTransformer fit stage 1:  80%|███████▉  | 7595045/9517065 [01:03<00:15, 120305.69it/s]"
     ]
    },
    {
     "name": "stderr",
     "output_type": "stream",
     "text": [
      "\rDictNBHDTransformer fit stage 1:  80%|███████▉  | 7613321/9517065 [01:03<00:15, 120404.44it/s]"
     ]
    },
    {
     "name": "stderr",
     "output_type": "stream",
     "text": [
      "\rDictNBHDTransformer fit stage 1:  80%|████████  | 7630795/9517065 [01:03<00:15, 120489.87it/s]"
     ]
    },
    {
     "name": "stderr",
     "output_type": "stream",
     "text": [
      "\rDictNBHDTransformer fit stage 1:  80%|████████  | 7649197/9517065 [01:03<00:15, 120590.03it/s]"
     ]
    },
    {
     "name": "stderr",
     "output_type": "stream",
     "text": [
      "\rDictNBHDTransformer fit stage 1:  81%|████████  | 7667507/9517065 [01:03<00:15, 120688.41it/s]"
     ]
    },
    {
     "name": "stderr",
     "output_type": "stream",
     "text": [
      "\rDictNBHDTransformer fit stage 1:  81%|████████  | 7685649/9517065 [01:03<00:15, 120783.84it/s]"
     ]
    },
    {
     "name": "stderr",
     "output_type": "stream",
     "text": [
      "\rDictNBHDTransformer fit stage 1:  81%|████████  | 7703632/9517065 [01:03<00:15, 120863.34it/s]"
     ]
    },
    {
     "name": "stderr",
     "output_type": "stream",
     "text": [
      "\rDictNBHDTransformer fit stage 1:  81%|████████  | 7722287/9517065 [01:03<00:14, 120966.23it/s]"
     ]
    },
    {
     "name": "stderr",
     "output_type": "stream",
     "text": [
      "\rDictNBHDTransformer fit stage 1:  81%|████████▏ | 7740760/9517065 [01:03<00:14, 121065.97it/s]"
     ]
    },
    {
     "name": "stderr",
     "output_type": "stream",
     "text": [
      "\rDictNBHDTransformer fit stage 1:  82%|████████▏ | 7759721/9517065 [01:04<00:14, 121173.00it/s]"
     ]
    },
    {
     "name": "stderr",
     "output_type": "stream",
     "text": [
      "\rDictNBHDTransformer fit stage 1:  82%|████████▏ | 7778079/9517065 [01:04<00:14, 121264.30it/s]"
     ]
    },
    {
     "name": "stderr",
     "output_type": "stream",
     "text": [
      "\rDictNBHDTransformer fit stage 1:  82%|████████▏ | 7796268/9517065 [01:04<00:14, 121355.55it/s]"
     ]
    },
    {
     "name": "stderr",
     "output_type": "stream",
     "text": [
      "\rDictNBHDTransformer fit stage 1:  82%|████████▏ | 7814369/9517065 [01:04<00:14, 121439.17it/s]"
     ]
    },
    {
     "name": "stderr",
     "output_type": "stream",
     "text": [
      "\rDictNBHDTransformer fit stage 1:  82%|████████▏ | 7832694/9517065 [01:04<00:13, 121535.04it/s]"
     ]
    },
    {
     "name": "stderr",
     "output_type": "stream",
     "text": [
      "\rDictNBHDTransformer fit stage 1:  82%|████████▏ | 7850687/9517065 [01:06<00:14, 118763.64it/s]"
     ]
    },
    {
     "name": "stderr",
     "output_type": "stream",
     "text": [
      "\rDictNBHDTransformer fit stage 1:  83%|████████▎ | 7868675/9517065 [01:06<00:13, 118855.95it/s]"
     ]
    },
    {
     "name": "stderr",
     "output_type": "stream",
     "text": [
      "\rDictNBHDTransformer fit stage 1:  83%|████████▎ | 7885836/9517065 [01:06<00:13, 118935.51it/s]"
     ]
    },
    {
     "name": "stderr",
     "output_type": "stream",
     "text": [
      "\rDictNBHDTransformer fit stage 1:  83%|████████▎ | 7902938/9517065 [01:06<00:13, 119013.94it/s]"
     ]
    },
    {
     "name": "stderr",
     "output_type": "stream",
     "text": [
      "\rDictNBHDTransformer fit stage 1:  83%|████████▎ | 7920593/9517065 [01:06<00:13, 119100.45it/s]"
     ]
    },
    {
     "name": "stderr",
     "output_type": "stream",
     "text": [
      "\rDictNBHDTransformer fit stage 1:  83%|████████▎ | 7938094/9517065 [01:06<00:13, 119184.39it/s]"
     ]
    },
    {
     "name": "stderr",
     "output_type": "stream",
     "text": [
      "\rDictNBHDTransformer fit stage 1:  84%|████████▎ | 7955499/9517065 [01:06<00:13, 119266.64it/s]"
     ]
    },
    {
     "name": "stderr",
     "output_type": "stream",
     "text": [
      "\rDictNBHDTransformer fit stage 1:  84%|████████▍ | 7973627/9517065 [01:06<00:12, 119359.45it/s]"
     ]
    },
    {
     "name": "stderr",
     "output_type": "stream",
     "text": [
      "\rDictNBHDTransformer fit stage 1:  84%|████████▍ | 7991230/9517065 [01:06<00:12, 119444.16it/s]"
     ]
    },
    {
     "name": "stderr",
     "output_type": "stream",
     "text": [
      "\rDictNBHDTransformer fit stage 1:  84%|████████▍ | 8009194/9517065 [01:07<00:12, 119533.98it/s]"
     ]
    },
    {
     "name": "stderr",
     "output_type": "stream",
     "text": [
      "\rDictNBHDTransformer fit stage 1:  84%|████████▍ | 8027892/9517065 [01:07<00:12, 119634.50it/s]"
     ]
    },
    {
     "name": "stderr",
     "output_type": "stream",
     "text": [
      "\rDictNBHDTransformer fit stage 1:  85%|████████▍ | 8045788/9517065 [01:07<00:12, 119683.32it/s]"
     ]
    },
    {
     "name": "stderr",
     "output_type": "stream",
     "text": [
      "\rDictNBHDTransformer fit stage 1:  85%|████████▍ | 8062807/9517065 [01:07<00:12, 119758.33it/s]"
     ]
    },
    {
     "name": "stderr",
     "output_type": "stream",
     "text": [
      "\rDictNBHDTransformer fit stage 1:  85%|████████▍ | 8080269/9517065 [01:07<00:11, 119839.65it/s]"
     ]
    },
    {
     "name": "stderr",
     "output_type": "stream",
     "text": [
      "\rDictNBHDTransformer fit stage 1:  85%|████████▌ | 8098935/9517065 [01:07<00:11, 119938.60it/s]"
     ]
    },
    {
     "name": "stderr",
     "output_type": "stream",
     "text": [
      "\rDictNBHDTransformer fit stage 1:  85%|████████▌ | 8117839/9517065 [01:07<00:11, 120040.78it/s]"
     ]
    },
    {
     "name": "stderr",
     "output_type": "stream",
     "text": [
      "\rDictNBHDTransformer fit stage 1:  85%|████████▌ | 8135810/9517065 [01:07<00:11, 120126.24it/s]"
     ]
    },
    {
     "name": "stderr",
     "output_type": "stream",
     "text": [
      "\rDictNBHDTransformer fit stage 1:  86%|████████▌ | 8154107/9517065 [01:07<00:11, 120218.90it/s]"
     ]
    },
    {
     "name": "stderr",
     "output_type": "stream",
     "text": [
      "\rDictNBHDTransformer fit stage 1:  86%|████████▌ | 8172121/9517065 [01:07<00:11, 120306.22it/s]"
     ]
    },
    {
     "name": "stderr",
     "output_type": "stream",
     "text": [
      "\rDictNBHDTransformer fit stage 1:  86%|████████▌ | 8190665/9517065 [01:08<00:11, 120401.95it/s]"
     ]
    },
    {
     "name": "stderr",
     "output_type": "stream",
     "text": [
      "\rDictNBHDTransformer fit stage 1:  86%|████████▋ | 8208819/9517065 [01:08<00:10, 120483.19it/s]"
     ]
    },
    {
     "name": "stderr",
     "output_type": "stream",
     "text": [
      "\rDictNBHDTransformer fit stage 1:  86%|████████▋ | 8226724/9517065 [01:08<00:10, 120565.26it/s]"
     ]
    },
    {
     "name": "stderr",
     "output_type": "stream",
     "text": [
      "\rDictNBHDTransformer fit stage 1:  87%|████████▋ | 8244773/9517065 [01:08<00:10, 120653.14it/s]"
     ]
    },
    {
     "name": "stderr",
     "output_type": "stream",
     "text": [
      "\rDictNBHDTransformer fit stage 1:  87%|████████▋ | 8263248/9517065 [01:08<00:10, 120746.80it/s]"
     ]
    },
    {
     "name": "stderr",
     "output_type": "stream",
     "text": [
      "\rDictNBHDTransformer fit stage 1:  87%|████████▋ | 8281302/9517065 [01:08<00:10, 120831.68it/s]"
     ]
    },
    {
     "name": "stderr",
     "output_type": "stream",
     "text": [
      "\rDictNBHDTransformer fit stage 1:  87%|████████▋ | 8299578/9517065 [01:08<00:10, 120921.91it/s]"
     ]
    },
    {
     "name": "stderr",
     "output_type": "stream",
     "text": [
      "\rDictNBHDTransformer fit stage 1:  87%|████████▋ | 8317649/9517065 [01:08<00:09, 120998.31it/s]"
     ]
    },
    {
     "name": "stderr",
     "output_type": "stream",
     "text": [
      "\rDictNBHDTransformer fit stage 1:  88%|████████▊ | 8335413/9517065 [01:08<00:09, 121071.31it/s]"
     ]
    },
    {
     "name": "stderr",
     "output_type": "stream",
     "text": [
      "\rDictNBHDTransformer fit stage 1:  88%|████████▊ | 8353335/9517065 [01:08<00:09, 121155.61it/s]"
     ]
    },
    {
     "name": "stderr",
     "output_type": "stream",
     "text": [
      "\rDictNBHDTransformer fit stage 1:  88%|████████▊ | 8371047/9517065 [01:09<00:09, 121236.67it/s]"
     ]
    },
    {
     "name": "stderr",
     "output_type": "stream",
     "text": [
      "\rDictNBHDTransformer fit stage 1:  88%|████████▊ | 8389121/9517065 [01:09<00:09, 121322.72it/s]"
     ]
    },
    {
     "name": "stderr",
     "output_type": "stream",
     "text": [
      "\rDictNBHDTransformer fit stage 1:  88%|████████▊ | 8407476/9517065 [01:09<00:09, 121412.57it/s]"
     ]
    },
    {
     "name": "stderr",
     "output_type": "stream",
     "text": [
      "\rDictNBHDTransformer fit stage 1:  89%|████████▊ | 8425426/9517065 [01:09<00:08, 121485.39it/s]"
     ]
    },
    {
     "name": "stderr",
     "output_type": "stream",
     "text": [
      "\rDictNBHDTransformer fit stage 1:  89%|████████▊ | 8443546/9517065 [01:09<00:08, 121571.37it/s]"
     ]
    },
    {
     "name": "stderr",
     "output_type": "stream",
     "text": [
      "\rDictNBHDTransformer fit stage 1:  89%|████████▉ | 8461326/9517065 [01:09<00:08, 121649.14it/s]"
     ]
    },
    {
     "name": "stderr",
     "output_type": "stream",
     "text": [
      "\rDictNBHDTransformer fit stage 1:  89%|████████▉ | 8479014/9517065 [01:09<00:08, 121726.26it/s]"
     ]
    },
    {
     "name": "stderr",
     "output_type": "stream",
     "text": [
      "\rDictNBHDTransformer fit stage 1:  89%|████████▉ | 8496637/9517065 [01:09<00:08, 121787.50it/s]"
     ]
    },
    {
     "name": "stderr",
     "output_type": "stream",
     "text": [
      "\rDictNBHDTransformer fit stage 1:  89%|████████▉ | 8514419/9517065 [01:09<00:08, 121867.61it/s]"
     ]
    },
    {
     "name": "stderr",
     "output_type": "stream",
     "text": [
      "\rDictNBHDTransformer fit stage 1:  90%|████████▉ | 8531889/9517065 [01:09<00:08, 121943.16it/s]"
     ]
    },
    {
     "name": "stderr",
     "output_type": "stream",
     "text": [
      "\rDictNBHDTransformer fit stage 1:  90%|████████▉ | 8549270/9517065 [01:10<00:07, 122012.65it/s]"
     ]
    },
    {
     "name": "stderr",
     "output_type": "stream",
     "text": [
      "\rDictNBHDTransformer fit stage 1:  90%|█████████ | 8567125/9517065 [01:10<00:07, 122093.22it/s]"
     ]
    },
    {
     "name": "stderr",
     "output_type": "stream",
     "text": [
      "\rDictNBHDTransformer fit stage 1:  90%|█████████ | 8584556/9517065 [01:10<00:07, 122163.95it/s]"
     ]
    },
    {
     "name": "stderr",
     "output_type": "stream",
     "text": [
      "\rDictNBHDTransformer fit stage 1:  90%|█████████ | 8601885/9517065 [01:10<00:07, 122236.60it/s]"
     ]
    },
    {
     "name": "stderr",
     "output_type": "stream",
     "text": [
      "\rDictNBHDTransformer fit stage 1:  91%|█████████ | 8619227/9517065 [01:10<00:07, 122309.23it/s]"
     ]
    },
    {
     "name": "stderr",
     "output_type": "stream",
     "text": [
      "\rDictNBHDTransformer fit stage 1:  91%|█████████ | 8637259/9517065 [01:10<00:07, 122391.43it/s]"
     ]
    },
    {
     "name": "stderr",
     "output_type": "stream",
     "text": [
      "\rDictNBHDTransformer fit stage 1:  91%|█████████ | 8654957/9517065 [01:10<00:07, 122468.66it/s]"
     ]
    },
    {
     "name": "stderr",
     "output_type": "stream",
     "text": [
      "\rDictNBHDTransformer fit stage 1:  91%|█████████ | 8672838/9517065 [01:10<00:06, 122548.27it/s]"
     ]
    },
    {
     "name": "stderr",
     "output_type": "stream",
     "text": [
      "\rDictNBHDTransformer fit stage 1:  91%|█████████▏| 8690514/9517065 [01:10<00:06, 122620.57it/s]"
     ]
    },
    {
     "name": "stderr",
     "output_type": "stream",
     "text": [
      "\rDictNBHDTransformer fit stage 1:  91%|█████████▏| 8708065/9517065 [01:10<00:06, 122694.76it/s]"
     ]
    },
    {
     "name": "stderr",
     "output_type": "stream",
     "text": [
      "\rDictNBHDTransformer fit stage 1:  92%|█████████▏| 8725606/9517065 [01:11<00:06, 122767.64it/s]"
     ]
    },
    {
     "name": "stderr",
     "output_type": "stream",
     "text": [
      "\rDictNBHDTransformer fit stage 1:  92%|█████████▏| 8743108/9517065 [01:11<00:06, 122839.27it/s]"
     ]
    },
    {
     "name": "stderr",
     "output_type": "stream",
     "text": [
      "\rDictNBHDTransformer fit stage 1:  92%|█████████▏| 8760902/9517065 [01:11<00:06, 122916.58it/s]"
     ]
    },
    {
     "name": "stderr",
     "output_type": "stream",
     "text": [
      "\rDictNBHDTransformer fit stage 1:  92%|█████████▏| 8779421/9517065 [01:11<00:05, 123003.82it/s]"
     ]
    },
    {
     "name": "stderr",
     "output_type": "stream",
     "text": [
      "\rDictNBHDTransformer fit stage 1:  92%|█████████▏| 8798041/9517065 [01:11<00:05, 123092.23it/s]"
     ]
    },
    {
     "name": "stderr",
     "output_type": "stream",
     "text": [
      "\rDictNBHDTransformer fit stage 1:  93%|█████████▎| 8816135/9517065 [01:11<00:05, 123173.05it/s]"
     ]
    },
    {
     "name": "stderr",
     "output_type": "stream",
     "text": [
      "\rDictNBHDTransformer fit stage 1:  93%|█████████▎| 8834216/9517065 [01:11<00:05, 123248.31it/s]"
     ]
    },
    {
     "name": "stderr",
     "output_type": "stream",
     "text": [
      "\rDictNBHDTransformer fit stage 1:  93%|█████████▎| 8852195/9517065 [01:11<00:05, 123327.05it/s]"
     ]
    },
    {
     "name": "stderr",
     "output_type": "stream",
     "text": [
      "\rDictNBHDTransformer fit stage 1:  93%|█████████▎| 8870135/9517065 [01:11<00:05, 123404.51it/s]"
     ]
    },
    {
     "name": "stderr",
     "output_type": "stream",
     "text": [
      "\rDictNBHDTransformer fit stage 1:  93%|█████████▎| 8888152/9517065 [01:11<00:05, 123483.36it/s]"
     ]
    },
    {
     "name": "stderr",
     "output_type": "stream",
     "text": [
      "\rDictNBHDTransformer fit stage 1:  94%|█████████▎| 8906103/9517065 [01:12<00:04, 123555.65it/s]"
     ]
    },
    {
     "name": "stderr",
     "output_type": "stream",
     "text": [
      "\rDictNBHDTransformer fit stage 1:  94%|█████████▍| 8924120/9517065 [01:12<00:04, 123634.06it/s]"
     ]
    },
    {
     "name": "stderr",
     "output_type": "stream",
     "text": [
      "\rDictNBHDTransformer fit stage 1:  94%|█████████▍| 8941975/9517065 [01:12<00:04, 123705.96it/s]"
     ]
    },
    {
     "name": "stderr",
     "output_type": "stream",
     "text": [
      "\rDictNBHDTransformer fit stage 1:  94%|█████████▍| 8959705/9517065 [01:12<00:04, 123778.37it/s]"
     ]
    },
    {
     "name": "stderr",
     "output_type": "stream",
     "text": [
      "\rDictNBHDTransformer fit stage 1:  94%|█████████▍| 8977939/9517065 [01:12<00:04, 123859.16it/s]"
     ]
    },
    {
     "name": "stderr",
     "output_type": "stream",
     "text": [
      "\rDictNBHDTransformer fit stage 1:  95%|█████████▍| 8995785/9517065 [01:12<00:04, 123926.26it/s]"
     ]
    },
    {
     "name": "stderr",
     "output_type": "stream",
     "text": [
      "\rDictNBHDTransformer fit stage 1:  95%|█████████▍| 9013633/9517065 [01:12<00:04, 124001.28it/s]"
     ]
    },
    {
     "name": "stderr",
     "output_type": "stream",
     "text": [
      "\rDictNBHDTransformer fit stage 1:  95%|█████████▍| 9031677/9517065 [01:12<00:03, 124078.83it/s]"
     ]
    },
    {
     "name": "stderr",
     "output_type": "stream",
     "text": [
      "\rDictNBHDTransformer fit stage 1:  95%|█████████▌| 9050043/9517065 [01:12<00:03, 124160.56it/s]"
     ]
    },
    {
     "name": "stderr",
     "output_type": "stream",
     "text": [
      "\rDictNBHDTransformer fit stage 1:  95%|█████████▌| 9068219/9517065 [01:12<00:03, 124239.47it/s]"
     ]
    },
    {
     "name": "stderr",
     "output_type": "stream",
     "text": [
      "\rDictNBHDTransformer fit stage 1:  95%|█████████▌| 9086329/9517065 [01:13<00:03, 124317.26it/s]"
     ]
    },
    {
     "name": "stderr",
     "output_type": "stream",
     "text": [
      "\rDictNBHDTransformer fit stage 1:  96%|█████████▌| 9104384/9517065 [01:13<00:03, 124394.08it/s]"
     ]
    },
    {
     "name": "stderr",
     "output_type": "stream",
     "text": [
      "\rDictNBHDTransformer fit stage 1:  96%|█████████▌| 9122436/9517065 [01:13<00:03, 124467.26it/s]"
     ]
    },
    {
     "name": "stderr",
     "output_type": "stream",
     "text": [
      "\rDictNBHDTransformer fit stage 1:  96%|█████████▌| 9140382/9517065 [01:13<00:03, 124535.63it/s]"
     ]
    },
    {
     "name": "stderr",
     "output_type": "stream",
     "text": [
      "\rDictNBHDTransformer fit stage 1:  96%|█████████▌| 9158672/9517065 [01:13<00:02, 124615.03it/s]"
     ]
    },
    {
     "name": "stderr",
     "output_type": "stream",
     "text": [
      "\rDictNBHDTransformer fit stage 1:  96%|█████████▋| 9176581/9517065 [01:13<00:02, 124682.68it/s]"
     ]
    },
    {
     "name": "stderr",
     "output_type": "stream",
     "text": [
      "\rDictNBHDTransformer fit stage 1:  97%|█████████▋| 9194295/9517065 [01:13<00:02, 124746.77it/s]"
     ]
    },
    {
     "name": "stderr",
     "output_type": "stream",
     "text": [
      "\rDictNBHDTransformer fit stage 1:  97%|█████████▋| 9212344/9517065 [01:13<00:02, 124822.29it/s]"
     ]
    },
    {
     "name": "stderr",
     "output_type": "stream",
     "text": [
      "\rDictNBHDTransformer fit stage 1:  97%|█████████▋| 9230050/9517065 [01:13<00:02, 124893.00it/s]"
     ]
    },
    {
     "name": "stderr",
     "output_type": "stream",
     "text": [
      "\rDictNBHDTransformer fit stage 1:  97%|█████████▋| 9247728/9517065 [01:14<00:02, 124960.18it/s]"
     ]
    },
    {
     "name": "stderr",
     "output_type": "stream",
     "text": [
      "\rDictNBHDTransformer fit stage 1:  97%|█████████▋| 9266230/9517065 [01:14<00:02, 125041.23it/s]"
     ]
    },
    {
     "name": "stderr",
     "output_type": "stream",
     "text": [
      "\rDictNBHDTransformer fit stage 1:  98%|█████████▊| 9284092/9517065 [01:14<00:01, 125111.30it/s]"
     ]
    },
    {
     "name": "stderr",
     "output_type": "stream",
     "text": [
      "\rDictNBHDTransformer fit stage 1:  98%|█████████▊| 9301888/9517065 [01:14<00:01, 125181.62it/s]"
     ]
    },
    {
     "name": "stderr",
     "output_type": "stream",
     "text": [
      "\rDictNBHDTransformer fit stage 1:  98%|█████████▊| 9319872/9517065 [01:14<00:01, 125255.07it/s]"
     ]
    },
    {
     "name": "stderr",
     "output_type": "stream",
     "text": [
      "\rDictNBHDTransformer fit stage 1:  98%|█████████▊| 9337706/9517065 [01:14<00:01, 125323.10it/s]"
     ]
    },
    {
     "name": "stderr",
     "output_type": "stream",
     "text": [
      "\rDictNBHDTransformer fit stage 1:  98%|█████████▊| 9355572/9517065 [01:14<00:01, 125394.59it/s]"
     ]
    },
    {
     "name": "stderr",
     "output_type": "stream",
     "text": [
      "\rDictNBHDTransformer fit stage 1:  98%|█████████▊| 9373511/9517065 [01:14<00:01, 125466.86it/s]"
     ]
    },
    {
     "name": "stderr",
     "output_type": "stream",
     "text": [
      "\rDictNBHDTransformer fit stage 1:  99%|█████████▊| 9391756/9517065 [01:14<00:00, 125543.02it/s]"
     ]
    },
    {
     "name": "stderr",
     "output_type": "stream",
     "text": [
      "\rDictNBHDTransformer fit stage 1:  99%|█████████▉| 9410342/9517065 [01:14<00:00, 125623.54it/s]"
     ]
    },
    {
     "name": "stderr",
     "output_type": "stream",
     "text": [
      "\rDictNBHDTransformer fit stage 1:  99%|█████████▉| 9428483/9517065 [01:15<00:00, 125694.17it/s]"
     ]
    },
    {
     "name": "stderr",
     "output_type": "stream",
     "text": [
      "\rDictNBHDTransformer fit stage 1:  99%|█████████▉| 9446505/9517065 [01:15<00:00, 125766.12it/s]"
     ]
    },
    {
     "name": "stderr",
     "output_type": "stream",
     "text": [
      "\rDictNBHDTransformer fit stage 1:  99%|█████████▉| 9464507/9517065 [01:15<00:00, 125830.37it/s]"
     ]
    },
    {
     "name": "stderr",
     "output_type": "stream",
     "text": [
      "\rDictNBHDTransformer fit stage 1: 100%|█████████▉| 9482266/9517065 [01:15<00:00, 125893.33it/s]"
     ]
    },
    {
     "name": "stderr",
     "output_type": "stream",
     "text": [
      "\rDictNBHDTransformer fit stage 1: 100%|█████████▉| 9499980/9517065 [01:15<00:00, 125961.55it/s]"
     ]
    },
    {
     "name": "stderr",
     "output_type": "stream",
     "text": [
      "\rDictNBHDTransformer fit stage 1: 100%|██████████| 9517065/9517065 [01:15<00:00, 125894.10it/s]"
     ]
    },
    {
     "name": "stderr",
     "output_type": "stream",
     "text": [
      "\n\rDictNBHDTransformer fit stage 2:   0%|          | 0/6997831 [00:00<?, ?it/s]"
     ]
    },
    {
     "name": "stderr",
     "output_type": "stream",
     "text": [
      "\rDictNBHDTransformer fit stage 2:   0%|          | 11821/6997831 [00:00<00:59, 118177.71it/s]"
     ]
    },
    {
     "name": "stderr",
     "output_type": "stream",
     "text": [
      "\rDictNBHDTransformer fit stage 2:   0%|          | 26072/6997831 [00:00<00:53, 130340.39it/s]"
     ]
    },
    {
     "name": "stderr",
     "output_type": "stream",
     "text": [
      "\rDictNBHDTransformer fit stage 2:   1%|          | 38787/6997831 [00:00<00:53, 129276.56it/s]"
     ]
    },
    {
     "name": "stderr",
     "output_type": "stream",
     "text": [
      "\rDictNBHDTransformer fit stage 2:   1%|          | 52634/6997831 [00:00<00:52, 131570.15it/s]"
     ]
    },
    {
     "name": "stderr",
     "output_type": "stream",
     "text": [
      "\rDictNBHDTransformer fit stage 2:   1%|          | 67619/6997831 [00:00<00:51, 135225.81it/s]"
     ]
    },
    {
     "name": "stderr",
     "output_type": "stream",
     "text": [
      "\rDictNBHDTransformer fit stage 2:   1%|          | 82747/6997831 [00:00<00:50, 137900.84it/s]"
     ]
    },
    {
     "name": "stderr",
     "output_type": "stream",
     "text": [
      "\rDictNBHDTransformer fit stage 2:   1%|▏         | 98095/6997831 [00:00<00:49, 140125.30it/s]"
     ]
    },
    {
     "name": "stderr",
     "output_type": "stream",
     "text": [
      "\rDictNBHDTransformer fit stage 2:   2%|▏         | 114396/6997831 [00:00<00:48, 142985.34it/s]"
     ]
    },
    {
     "name": "stderr",
     "output_type": "stream",
     "text": [
      "\rDictNBHDTransformer fit stage 2:   2%|▏         | 130887/6997831 [00:00<00:47, 145418.97it/s]"
     ]
    },
    {
     "name": "stderr",
     "output_type": "stream",
     "text": [
      "\rDictNBHDTransformer fit stage 2:   2%|▏         | 146060/6997831 [00:01<00:46, 146048.44it/s]"
     ]
    },
    {
     "name": "stderr",
     "output_type": "stream",
     "text": [
      "\rDictNBHDTransformer fit stage 2:   2%|▏         | 161494/6997831 [00:01<00:46, 146801.76it/s]"
     ]
    },
    {
     "name": "stderr",
     "output_type": "stream",
     "text": [
      "\rDictNBHDTransformer fit stage 2:   3%|▎         | 176643/6997831 [00:01<00:46, 146352.41it/s]"
     ]
    },
    {
     "name": "stderr",
     "output_type": "stream",
     "text": [
      "\rDictNBHDTransformer fit stage 2:   3%|▎         | 191500/6997831 [00:01<00:46, 146320.36it/s]"
     ]
    },
    {
     "name": "stderr",
     "output_type": "stream",
     "text": [
      "\rDictNBHDTransformer fit stage 2:   3%|▎         | 206429/6997831 [00:01<00:46, 146531.78it/s]"
     ]
    },
    {
     "name": "stderr",
     "output_type": "stream",
     "text": [
      "\rDictNBHDTransformer fit stage 2:   3%|▎         | 221253/6997831 [00:01<00:46, 146317.13it/s]"
     ]
    },
    {
     "name": "stderr",
     "output_type": "stream",
     "text": [
      "\rDictNBHDTransformer fit stage 2:   3%|▎         | 237000/6997831 [00:01<00:45, 147009.18it/s]"
     ]
    },
    {
     "name": "stderr",
     "output_type": "stream",
     "text": [
      "\rDictNBHDTransformer fit stage 2:   4%|▎         | 253290/6997831 [00:01<00:45, 147936.34it/s]"
     ]
    },
    {
     "name": "stderr",
     "output_type": "stream",
     "text": [
      "\rDictNBHDTransformer fit stage 2:   4%|▍         | 268824/6997831 [00:01<00:45, 148342.88it/s]"
     ]
    },
    {
     "name": "stderr",
     "output_type": "stream",
     "text": [
      "\rDictNBHDTransformer fit stage 2:   4%|▍         | 284386/6997831 [00:01<00:45, 148724.14it/s]"
     ]
    },
    {
     "name": "stderr",
     "output_type": "stream",
     "text": [
      "\rDictNBHDTransformer fit stage 2:   4%|▍         | 299856/6997831 [00:02<00:45, 148787.03it/s]"
     ]
    },
    {
     "name": "stderr",
     "output_type": "stream",
     "text": [
      "\rDictNBHDTransformer fit stage 2:   5%|▍         | 315539/6997831 [00:02<00:44, 149167.31it/s]"
     ]
    },
    {
     "name": "stderr",
     "output_type": "stream",
     "text": [
      "\rDictNBHDTransformer fit stage 2:   5%|▍         | 330973/6997831 [00:02<00:44, 149250.51it/s]"
     ]
    },
    {
     "name": "stderr",
     "output_type": "stream",
     "text": [
      "\rDictNBHDTransformer fit stage 2:   5%|▍         | 346463/6997831 [00:02<00:44, 149494.07it/s]"
     ]
    },
    {
     "name": "stderr",
     "output_type": "stream",
     "text": [
      "\rDictNBHDTransformer fit stage 2:   5%|▌         | 361843/6997831 [00:02<00:44, 148565.24it/s]"
     ]
    },
    {
     "name": "stderr",
     "output_type": "stream",
     "text": [
      "\rDictNBHDTransformer fit stage 2:   5%|▌         | 376568/6997831 [00:02<00:44, 148511.79it/s]"
     ]
    },
    {
     "name": "stderr",
     "output_type": "stream",
     "text": [
      "\rDictNBHDTransformer fit stage 2:   6%|▌         | 391837/6997831 [00:02<00:44, 148669.76it/s]"
     ]
    },
    {
     "name": "stderr",
     "output_type": "stream",
     "text": [
      "\rDictNBHDTransformer fit stage 2:   6%|▌         | 407899/6997831 [00:02<00:44, 149105.66it/s]"
     ]
    },
    {
     "name": "stderr",
     "output_type": "stream",
     "text": [
      "\rDictNBHDTransformer fit stage 2:   6%|▌         | 423122/6997831 [00:02<00:44, 149091.87it/s]"
     ]
    },
    {
     "name": "stderr",
     "output_type": "stream",
     "text": [
      "\rDictNBHDTransformer fit stage 2:   6%|▋         | 439135/6997831 [00:02<00:43, 149466.91it/s]"
     ]
    },
    {
     "name": "stderr",
     "output_type": "stream",
     "text": [
      "\rDictNBHDTransformer fit stage 2:   7%|▋         | 454875/6997831 [00:03<00:43, 149728.03it/s]"
     ]
    },
    {
     "name": "stderr",
     "output_type": "stream",
     "text": [
      "\rDictNBHDTransformer fit stage 2:   7%|▋         | 470367/6997831 [00:03<00:43, 149768.49it/s]"
     ]
    },
    {
     "name": "stderr",
     "output_type": "stream",
     "text": [
      "\rDictNBHDTransformer fit stage 2:   7%|▋         | 485745/6997831 [00:03<00:43, 149852.24it/s]"
     ]
    },
    {
     "name": "stderr",
     "output_type": "stream",
     "text": [
      "\rDictNBHDTransformer fit stage 2:   7%|▋         | 501634/6997831 [00:03<00:43, 150122.57it/s]"
     ]
    },
    {
     "name": "stderr",
     "output_type": "stream",
     "text": [
      "\rDictNBHDTransformer fit stage 2:   7%|▋         | 517134/6997831 [00:03<00:43, 150246.87it/s]"
     ]
    },
    {
     "name": "stderr",
     "output_type": "stream",
     "text": [
      "\rDictNBHDTransformer fit stage 2:   8%|▊         | 532616/6997831 [00:03<00:43, 150334.56it/s]"
     ]
    },
    {
     "name": "stderr",
     "output_type": "stream",
     "text": [
      "\rDictNBHDTransformer fit stage 2:   8%|▊         | 548093/6997831 [00:03<00:42, 150456.00it/s]"
     ]
    },
    {
     "name": "stderr",
     "output_type": "stream",
     "text": [
      "\rDictNBHDTransformer fit stage 2:   8%|▊         | 563885/6997831 [00:03<00:42, 150655.34it/s]"
     ]
    },
    {
     "name": "stderr",
     "output_type": "stream",
     "text": [
      "\rDictNBHDTransformer fit stage 2:   8%|▊         | 579437/6997831 [00:03<00:42, 150651.07it/s]"
     ]
    },
    {
     "name": "stderr",
     "output_type": "stream",
     "text": [
      "\rDictNBHDTransformer fit stage 2:   9%|▊         | 594839/6997831 [00:03<00:42, 150547.02it/s]"
     ]
    },
    {
     "name": "stderr",
     "output_type": "stream",
     "text": [
      "\rDictNBHDTransformer fit stage 2:   9%|▊         | 610090/6997831 [00:04<00:42, 150595.29it/s]"
     ]
    },
    {
     "name": "stderr",
     "output_type": "stream",
     "text": [
      "\rDictNBHDTransformer fit stage 2:   9%|▉         | 625398/6997831 [00:04<00:42, 150655.40it/s]"
     ]
    },
    {
     "name": "stderr",
     "output_type": "stream",
     "text": [
      "\rDictNBHDTransformer fit stage 2:   9%|▉         | 640633/6997831 [00:04<00:42, 150647.17it/s]"
     ]
    },
    {
     "name": "stderr",
     "output_type": "stream",
     "text": [
      "\rDictNBHDTransformer fit stage 2:   9%|▉         | 656513/6997831 [00:04<00:42, 150834.13it/s]"
     ]
    },
    {
     "name": "stderr",
     "output_type": "stream",
     "text": [
      "\rDictNBHDTransformer fit stage 2:  10%|▉         | 671899/6997831 [00:04<00:41, 150706.26it/s]"
     ]
    },
    {
     "name": "stderr",
     "output_type": "stream",
     "text": [
      "\rDictNBHDTransformer fit stage 2:  10%|▉         | 687033/6997831 [00:04<00:43, 143784.69it/s]"
     ]
    },
    {
     "name": "stderr",
     "output_type": "stream",
     "text": [
      "\rDictNBHDTransformer fit stage 2:  10%|▉         | 699051/6997831 [00:04<00:44, 142749.30it/s]"
     ]
    },
    {
     "name": "stderr",
     "output_type": "stream",
     "text": [
      "\rDictNBHDTransformer fit stage 2:  10%|█         | 715173/6997831 [00:04<00:43, 143119.09it/s]"
     ]
    },
    {
     "name": "stderr",
     "output_type": "stream",
     "text": [
      "\rDictNBHDTransformer fit stage 2:  10%|█         | 731042/6997831 [00:05<00:43, 143424.39it/s]"
     ]
    },
    {
     "name": "stderr",
     "output_type": "stream",
     "text": [
      "\rDictNBHDTransformer fit stage 2:  11%|█         | 745994/6997831 [00:05<00:43, 143541.56it/s]"
     ]
    },
    {
     "name": "stderr",
     "output_type": "stream",
     "text": [
      "\rDictNBHDTransformer fit stage 2:  11%|█         | 761682/6997831 [00:05<00:43, 143793.26it/s]"
     ]
    },
    {
     "name": "stderr",
     "output_type": "stream",
     "text": [
      "\rDictNBHDTransformer fit stage 2:  11%|█         | 777024/6997831 [00:05<00:43, 143971.58it/s]"
     ]
    },
    {
     "name": "stderr",
     "output_type": "stream",
     "text": [
      "\rDictNBHDTransformer fit stage 2:  11%|█▏        | 791836/6997831 [00:05<00:43, 144019.91it/s]"
     ]
    },
    {
     "name": "stderr",
     "output_type": "stream",
     "text": [
      "\rDictNBHDTransformer fit stage 2:  12%|█▏        | 807251/6997831 [00:05<00:42, 144200.89it/s]"
     ]
    },
    {
     "name": "stderr",
     "output_type": "stream",
     "text": [
      "\rDictNBHDTransformer fit stage 2:  12%|█▏        | 822609/6997831 [00:05<00:42, 144365.39it/s]"
     ]
    },
    {
     "name": "stderr",
     "output_type": "stream",
     "text": [
      "\rDictNBHDTransformer fit stage 2:  12%|█▏        | 837895/6997831 [00:05<00:42, 144511.69it/s]"
     ]
    },
    {
     "name": "stderr",
     "output_type": "stream",
     "text": [
      "\rDictNBHDTransformer fit stage 2:  12%|█▏        | 853783/6997831 [00:05<00:42, 144755.37it/s]"
     ]
    },
    {
     "name": "stderr",
     "output_type": "stream",
     "text": [
      "\rDictNBHDTransformer fit stage 2:  12%|█▏        | 869375/6997831 [00:05<00:42, 144941.20it/s]"
     ]
    },
    {
     "name": "stderr",
     "output_type": "stream",
     "text": [
      "\rDictNBHDTransformer fit stage 2:  13%|█▎        | 884808/6997831 [00:06<00:42, 145061.93it/s]"
     ]
    },
    {
     "name": "stderr",
     "output_type": "stream",
     "text": [
      "\rDictNBHDTransformer fit stage 2:  13%|█▎        | 900202/6997831 [00:06<00:41, 145205.02it/s]"
     ]
    },
    {
     "name": "stderr",
     "output_type": "stream",
     "text": [
      "\rDictNBHDTransformer fit stage 2:  13%|█▎        | 915579/6997831 [00:06<00:41, 145315.90it/s]"
     ]
    },
    {
     "name": "stderr",
     "output_type": "stream",
     "text": [
      "\rDictNBHDTransformer fit stage 2:  13%|█▎        | 930907/6997831 [00:06<00:41, 145401.78it/s]"
     ]
    },
    {
     "name": "stderr",
     "output_type": "stream",
     "text": [
      "\rDictNBHDTransformer fit stage 2:  14%|█▎        | 946163/6997831 [00:06<00:41, 145469.03it/s]"
     ]
    },
    {
     "name": "stderr",
     "output_type": "stream",
     "text": [
      "\rDictNBHDTransformer fit stage 2:  14%|█▎        | 961516/6997831 [00:06<00:41, 145591.24it/s]"
     ]
    },
    {
     "name": "stderr",
     "output_type": "stream",
     "text": [
      "\rDictNBHDTransformer fit stage 2:  14%|█▍        | 976738/6997831 [00:06<00:41, 145672.42it/s]"
     ]
    },
    {
     "name": "stderr",
     "output_type": "stream",
     "text": [
      "\rDictNBHDTransformer fit stage 2:  14%|█▍        | 992170/6997831 [00:06<00:41, 145799.31it/s]"
     ]
    },
    {
     "name": "stderr",
     "output_type": "stream",
     "text": [
      "\rDictNBHDTransformer fit stage 2:  14%|█▍        | 1007696/6997831 [00:06<00:41, 145936.32it/s]"
     ]
    },
    {
     "name": "stderr",
     "output_type": "stream",
     "text": [
      "\rDictNBHDTransformer fit stage 2:  15%|█▍        | 1023236/6997831 [00:07<00:40, 146071.32it/s]"
     ]
    },
    {
     "name": "stderr",
     "output_type": "stream",
     "text": [
      "\rDictNBHDTransformer fit stage 2:  15%|█▍        | 1039182/6997831 [00:07<00:40, 146259.65it/s]"
     ]
    },
    {
     "name": "stderr",
     "output_type": "stream",
     "text": [
      "\rDictNBHDTransformer fit stage 2:  15%|█▌        | 1055462/6997831 [00:07<00:40, 146489.17it/s]"
     ]
    },
    {
     "name": "stderr",
     "output_type": "stream",
     "text": [
      "\rDictNBHDTransformer fit stage 2:  15%|█▌        | 1071240/6997831 [00:07<00:40, 146592.16it/s]"
     ]
    },
    {
     "name": "stderr",
     "output_type": "stream",
     "text": [
      "\rDictNBHDTransformer fit stage 2:  16%|█▌        | 1086900/6997831 [00:07<00:40, 146657.18it/s]"
     ]
    },
    {
     "name": "stderr",
     "output_type": "stream",
     "text": [
      "\rDictNBHDTransformer fit stage 2:  16%|█▌        | 1103120/6997831 [00:07<00:40, 146864.30it/s]"
     ]
    },
    {
     "name": "stderr",
     "output_type": "stream",
     "text": [
      "\rDictNBHDTransformer fit stage 2:  16%|█▌        | 1118836/6997831 [00:07<00:40, 146834.21it/s]"
     ]
    },
    {
     "name": "stderr",
     "output_type": "stream",
     "text": [
      "\rDictNBHDTransformer fit stage 2:  16%|█▌        | 1134413/6997831 [00:07<00:39, 146949.84it/s]"
     ]
    },
    {
     "name": "stderr",
     "output_type": "stream",
     "text": [
      "\rDictNBHDTransformer fit stage 2:  16%|█▋        | 1149827/6997831 [00:07<00:39, 146970.84it/s]"
     ]
    },
    {
     "name": "stderr",
     "output_type": "stream",
     "text": [
      "\rDictNBHDTransformer fit stage 2:  17%|█▋        | 1165822/6997831 [00:07<00:39, 147134.61it/s]"
     ]
    },
    {
     "name": "stderr",
     "output_type": "stream",
     "text": [
      "\rDictNBHDTransformer fit stage 2:  17%|█▋        | 1181293/6997831 [00:08<00:39, 147163.71it/s]"
     ]
    },
    {
     "name": "stderr",
     "output_type": "stream",
     "text": [
      "\rDictNBHDTransformer fit stage 2:  17%|█▋        | 1196604/6997831 [00:08<00:39, 147209.33it/s]"
     ]
    },
    {
     "name": "stderr",
     "output_type": "stream",
     "text": [
      "\rDictNBHDTransformer fit stage 2:  17%|█▋        | 1211987/6997831 [00:08<00:39, 147290.38it/s]"
     ]
    },
    {
     "name": "stderr",
     "output_type": "stream",
     "text": [
      "\rDictNBHDTransformer fit stage 2:  18%|█▊        | 1227273/6997831 [00:08<00:39, 147338.30it/s]"
     ]
    },
    {
     "name": "stderr",
     "output_type": "stream",
     "text": [
      "\rDictNBHDTransformer fit stage 2:  18%|█▊        | 1242516/6997831 [00:08<00:39, 147374.39it/s]"
     ]
    },
    {
     "name": "stderr",
     "output_type": "stream",
     "text": [
      "\rDictNBHDTransformer fit stage 2:  18%|█▊        | 1257791/6997831 [00:08<00:38, 147437.30it/s]"
     ]
    },
    {
     "name": "stderr",
     "output_type": "stream",
     "text": [
      "\rDictNBHDTransformer fit stage 2:  18%|█▊        | 1272996/6997831 [00:08<00:38, 147477.67it/s]"
     ]
    },
    {
     "name": "stderr",
     "output_type": "stream",
     "text": [
      "\rDictNBHDTransformer fit stage 2:  18%|█▊        | 1288379/6997831 [00:08<00:38, 147550.33it/s]"
     ]
    },
    {
     "name": "stderr",
     "output_type": "stream",
     "text": [
      "\rDictNBHDTransformer fit stage 2:  19%|█▊        | 1303984/6997831 [00:08<00:38, 147646.59it/s]"
     ]
    },
    {
     "name": "stderr",
     "output_type": "stream",
     "text": [
      "\rDictNBHDTransformer fit stage 2:  19%|█▉        | 1319621/6997831 [00:08<00:38, 147744.19it/s]"
     ]
    },
    {
     "name": "stderr",
     "output_type": "stream",
     "text": [
      "\rDictNBHDTransformer fit stage 2:  19%|█▉        | 1335054/6997831 [00:09<00:38, 147796.15it/s]"
     ]
    },
    {
     "name": "stderr",
     "output_type": "stream",
     "text": [
      "\rDictNBHDTransformer fit stage 2:  19%|█▉        | 1350429/6997831 [00:09<00:38, 147858.94it/s]"
     ]
    },
    {
     "name": "stderr",
     "output_type": "stream",
     "text": [
      "\rDictNBHDTransformer fit stage 2:  20%|█▉        | 1365797/6997831 [00:09<00:38, 147921.73it/s]"
     ]
    },
    {
     "name": "stderr",
     "output_type": "stream",
     "text": [
      "\rDictNBHDTransformer fit stage 2:  20%|█▉        | 1381195/6997831 [00:09<00:37, 147986.57it/s]"
     ]
    },
    {
     "name": "stderr",
     "output_type": "stream",
     "text": [
      "\rDictNBHDTransformer fit stage 2:  20%|█▉        | 1396572/6997831 [00:09<00:37, 147885.97it/s]"
     ]
    },
    {
     "name": "stderr",
     "output_type": "stream",
     "text": [
      "\rDictNBHDTransformer fit stage 2:  20%|██        | 1411518/6997831 [00:09<00:38, 146708.36it/s]"
     ]
    },
    {
     "name": "stderr",
     "output_type": "stream",
     "text": [
      "\rDictNBHDTransformer fit stage 2:  20%|██        | 1426624/6997831 [00:09<00:37, 146753.11it/s]"
     ]
    },
    {
     "name": "stderr",
     "output_type": "stream",
     "text": [
      "\rDictNBHDTransformer fit stage 2:  21%|██        | 1442553/6997831 [00:09<00:37, 146880.74it/s]"
     ]
    },
    {
     "name": "stderr",
     "output_type": "stream",
     "text": [
      "\rDictNBHDTransformer fit stage 2:  21%|██        | 1458092/6997831 [00:09<00:37, 146966.35it/s]"
     ]
    },
    {
     "name": "stderr",
     "output_type": "stream",
     "text": [
      "\rDictNBHDTransformer fit stage 2:  21%|██        | 1472874/6997831 [00:10<00:37, 146974.97it/s]"
     ]
    },
    {
     "name": "stderr",
     "output_type": "stream",
     "text": [
      "\rDictNBHDTransformer fit stage 2:  21%|██▏       | 1488169/6997831 [00:10<00:37, 147033.87it/s]"
     ]
    },
    {
     "name": "stderr",
     "output_type": "stream",
     "text": [
      "\rDictNBHDTransformer fit stage 2:  21%|██▏       | 1503238/6997831 [00:10<00:37, 147069.59it/s]"
     ]
    },
    {
     "name": "stderr",
     "output_type": "stream",
     "text": [
      "\rDictNBHDTransformer fit stage 2:  22%|██▏       | 1518926/6997831 [00:10<00:37, 147164.01it/s]"
     ]
    },
    {
     "name": "stderr",
     "output_type": "stream",
     "text": [
      "\rDictNBHDTransformer fit stage 2:  22%|██▏       | 1534090/6997831 [00:10<00:37, 147196.06it/s]"
     ]
    },
    {
     "name": "stderr",
     "output_type": "stream",
     "text": [
      "\rDictNBHDTransformer fit stage 2:  22%|██▏       | 1549233/6997831 [00:10<00:37, 147236.18it/s]"
     ]
    },
    {
     "name": "stderr",
     "output_type": "stream",
     "text": [
      "\rDictNBHDTransformer fit stage 2:  22%|██▏       | 1564532/6997831 [00:10<00:36, 147290.32it/s]"
     ]
    },
    {
     "name": "stderr",
     "output_type": "stream",
     "text": [
      "\rDictNBHDTransformer fit stage 2:  23%|██▎       | 1579812/6997831 [00:10<00:36, 147341.66it/s]"
     ]
    },
    {
     "name": "stderr",
     "output_type": "stream",
     "text": [
      "\rDictNBHDTransformer fit stage 2:  23%|██▎       | 1595223/6997831 [00:10<00:36, 147404.13it/s]"
     ]
    },
    {
     "name": "stderr",
     "output_type": "stream",
     "text": [
      "\rDictNBHDTransformer fit stage 2:  23%|██▎       | 1610495/6997831 [00:10<00:36, 147358.01it/s]"
     ]
    },
    {
     "name": "stderr",
     "output_type": "stream",
     "text": [
      "\rDictNBHDTransformer fit stage 2:  23%|██▎       | 1626419/6997831 [00:11<00:36, 147465.73it/s]"
     ]
    },
    {
     "name": "stderr",
     "output_type": "stream",
     "text": [
      "\rDictNBHDTransformer fit stage 2:  23%|██▎       | 1642058/6997831 [00:11<00:36, 147545.94it/s]"
     ]
    },
    {
     "name": "stderr",
     "output_type": "stream",
     "text": [
      "\rDictNBHDTransformer fit stage 2:  24%|██▎       | 1657430/6997831 [00:11<00:36, 147588.03it/s]"
     ]
    },
    {
     "name": "stderr",
     "output_type": "stream",
     "text": [
      "\rDictNBHDTransformer fit stage 2:  24%|██▍       | 1672757/6997831 [00:11<00:36, 147599.87it/s]"
     ]
    },
    {
     "name": "stderr",
     "output_type": "stream",
     "text": [
      "\rDictNBHDTransformer fit stage 2:  24%|██▍       | 1688513/6997831 [00:11<00:35, 147687.11it/s]"
     ]
    },
    {
     "name": "stderr",
     "output_type": "stream",
     "text": [
      "\rDictNBHDTransformer fit stage 2:  24%|██▍       | 1703877/6997831 [00:11<00:35, 147618.45it/s]"
     ]
    },
    {
     "name": "stderr",
     "output_type": "stream",
     "text": [
      "\rDictNBHDTransformer fit stage 2:  25%|██▍       | 1719125/6997831 [00:11<00:35, 147658.34it/s]"
     ]
    },
    {
     "name": "stderr",
     "output_type": "stream",
     "text": [
      "\rDictNBHDTransformer fit stage 2:  25%|██▍       | 1734612/6997831 [00:11<00:35, 147719.18it/s]"
     ]
    },
    {
     "name": "stderr",
     "output_type": "stream",
     "text": [
      "\rDictNBHDTransformer fit stage 2:  25%|██▌       | 1750358/6997831 [00:11<00:35, 147801.73it/s]"
     ]
    },
    {
     "name": "stderr",
     "output_type": "stream",
     "text": [
      "\rDictNBHDTransformer fit stage 2:  25%|██▌       | 1766270/6997831 [00:11<00:35, 147896.47it/s]"
     ]
    },
    {
     "name": "stderr",
     "output_type": "stream",
     "text": [
      "\rDictNBHDTransformer fit stage 2:  25%|██▌       | 1782525/6997831 [00:12<00:35, 148018.08it/s]"
     ]
    },
    {
     "name": "stderr",
     "output_type": "stream",
     "text": [
      "\rDictNBHDTransformer fit stage 2:  26%|██▌       | 1798263/6997831 [00:12<00:35, 148079.87it/s]"
     ]
    },
    {
     "name": "stderr",
     "output_type": "stream",
     "text": [
      "\rDictNBHDTransformer fit stage 2:  26%|██▌       | 1814025/6997831 [00:12<00:34, 148157.75it/s]"
     ]
    },
    {
     "name": "stderr",
     "output_type": "stream",
     "text": [
      "\rDictNBHDTransformer fit stage 2:  26%|██▌       | 1829730/6997831 [00:12<00:34, 148160.00it/s]"
     ]
    },
    {
     "name": "stderr",
     "output_type": "stream",
     "text": [
      "\rDictNBHDTransformer fit stage 2:  26%|██▋       | 1845177/6997831 [00:12<00:34, 148196.89it/s]"
     ]
    },
    {
     "name": "stderr",
     "output_type": "stream",
     "text": [
      "\rDictNBHDTransformer fit stage 2:  27%|██▋       | 1860571/6997831 [00:12<00:34, 148200.56it/s]"
     ]
    },
    {
     "name": "stderr",
     "output_type": "stream",
     "text": [
      "\rDictNBHDTransformer fit stage 2:  27%|██▋       | 1875879/6997831 [00:12<00:34, 148239.16it/s]"
     ]
    },
    {
     "name": "stderr",
     "output_type": "stream",
     "text": [
      "\rDictNBHDTransformer fit stage 2:  27%|██▋       | 1891136/6997831 [00:12<00:34, 148252.39it/s]"
     ]
    },
    {
     "name": "stderr",
     "output_type": "stream",
     "text": [
      "\rDictNBHDTransformer fit stage 2:  27%|██▋       | 1907109/6997831 [00:12<00:34, 148341.50it/s]"
     ]
    },
    {
     "name": "stderr",
     "output_type": "stream",
     "text": [
      "\rDictNBHDTransformer fit stage 2:  27%|██▋       | 1922525/6997831 [00:12<00:34, 148349.13it/s]"
     ]
    },
    {
     "name": "stderr",
     "output_type": "stream",
     "text": [
      "\rDictNBHDTransformer fit stage 2:  28%|██▊       | 1938513/6997831 [00:13<00:34, 148437.53it/s]"
     ]
    },
    {
     "name": "stderr",
     "output_type": "stream",
     "text": [
      "\rDictNBHDTransformer fit stage 2:  28%|██▊       | 1954020/6997831 [00:13<00:33, 148487.90it/s]"
     ]
    },
    {
     "name": "stderr",
     "output_type": "stream",
     "text": [
      "\rDictNBHDTransformer fit stage 2:  28%|██▊       | 1969512/6997831 [00:13<00:33, 148515.74it/s]"
     ]
    },
    {
     "name": "stderr",
     "output_type": "stream",
     "text": [
      "\rDictNBHDTransformer fit stage 2:  28%|██▊       | 1985143/6997831 [00:13<00:33, 148573.91it/s]"
     ]
    },
    {
     "name": "stderr",
     "output_type": "stream",
     "text": [
      "\rDictNBHDTransformer fit stage 2:  29%|██▊       | 2000618/6997831 [00:13<00:33, 148547.45it/s]"
     ]
    },
    {
     "name": "stderr",
     "output_type": "stream",
     "text": [
      "\rDictNBHDTransformer fit stage 2:  29%|██▉       | 2015807/6997831 [00:13<00:33, 148558.45it/s]"
     ]
    },
    {
     "name": "stderr",
     "output_type": "stream",
     "text": [
      "\rDictNBHDTransformer fit stage 2:  29%|██▉       | 2031562/6997831 [00:13<00:33, 148624.26it/s]"
     ]
    },
    {
     "name": "stderr",
     "output_type": "stream",
     "text": [
      "\rDictNBHDTransformer fit stage 2:  29%|██▉       | 2047193/6997831 [00:13<00:33, 148680.06it/s]"
     ]
    },
    {
     "name": "stderr",
     "output_type": "stream",
     "text": [
      "\rDictNBHDTransformer fit stage 2:  29%|██▉       | 2063247/6997831 [00:13<00:33, 148765.50it/s]"
     ]
    },
    {
     "name": "stderr",
     "output_type": "stream",
     "text": [
      "\rDictNBHDTransformer fit stage 2:  30%|██▉       | 2078928/6997831 [00:13<00:33, 148823.07it/s]"
     ]
    },
    {
     "name": "stderr",
     "output_type": "stream",
     "text": [
      "\rDictNBHDTransformer fit stage 2:  30%|██▉       | 2094556/6997831 [00:14<00:32, 148869.69it/s]"
     ]
    },
    {
     "name": "stderr",
     "output_type": "stream",
     "text": [
      "\rDictNBHDTransformer fit stage 2:  30%|███       | 2110156/6997831 [00:14<00:32, 148884.39it/s]"
     ]
    },
    {
     "name": "stderr",
     "output_type": "stream",
     "text": [
      "\rDictNBHDTransformer fit stage 2:  30%|███       | 2126262/6997831 [00:14<00:32, 148969.74it/s]"
     ]
    },
    {
     "name": "stderr",
     "output_type": "stream",
     "text": [
      "\rDictNBHDTransformer fit stage 2:  31%|███       | 2141907/6997831 [00:14<00:32, 148991.37it/s]"
     ]
    },
    {
     "name": "stderr",
     "output_type": "stream",
     "text": [
      "\rDictNBHDTransformer fit stage 2:  31%|███       | 2157418/6997831 [00:14<00:32, 149029.35it/s]"
     ]
    },
    {
     "name": "stderr",
     "output_type": "stream",
     "text": [
      "\rDictNBHDTransformer fit stage 2:  31%|███       | 2172911/6997831 [00:14<00:32, 149038.35it/s]"
     ]
    },
    {
     "name": "stderr",
     "output_type": "stream",
     "text": [
      "\rDictNBHDTransformer fit stage 2:  31%|███▏      | 2188265/6997831 [00:14<00:32, 149052.80it/s]"
     ]
    },
    {
     "name": "stderr",
     "output_type": "stream",
     "text": [
      "\rDictNBHDTransformer fit stage 2:  31%|███▏      | 2203810/6997831 [00:14<00:32, 149096.10it/s]"
     ]
    },
    {
     "name": "stderr",
     "output_type": "stream",
     "text": [
      "\rDictNBHDTransformer fit stage 2:  32%|███▏      | 2219259/6997831 [00:14<00:32, 149132.30it/s]"
     ]
    },
    {
     "name": "stderr",
     "output_type": "stream",
     "text": [
      "\rDictNBHDTransformer fit stage 2:  32%|███▏      | 2234646/6997831 [00:14<00:31, 149156.05it/s]"
     ]
    },
    {
     "name": "stderr",
     "output_type": "stream",
     "text": [
      "\rDictNBHDTransformer fit stage 2:  32%|███▏      | 2249997/6997831 [00:15<00:31, 149167.93it/s]"
     ]
    },
    {
     "name": "stderr",
     "output_type": "stream",
     "text": [
      "\rDictNBHDTransformer fit stage 2:  32%|███▏      | 2265271/6997831 [00:15<00:31, 149171.39it/s]"
     ]
    },
    {
     "name": "stderr",
     "output_type": "stream",
     "text": [
      "\rDictNBHDTransformer fit stage 2:  33%|███▎      | 2280453/6997831 [00:15<00:31, 149184.05it/s]"
     ]
    },
    {
     "name": "stderr",
     "output_type": "stream",
     "text": [
      "\rDictNBHDTransformer fit stage 2:  33%|███▎      | 2295877/6997831 [00:15<00:31, 149216.79it/s]"
     ]
    },
    {
     "name": "stderr",
     "output_type": "stream",
     "text": [
      "\rDictNBHDTransformer fit stage 2:  33%|███▎      | 2311332/6997831 [00:15<00:31, 149251.29it/s]"
     ]
    },
    {
     "name": "stderr",
     "output_type": "stream",
     "text": [
      "\rDictNBHDTransformer fit stage 2:  33%|███▎      | 2326699/6997831 [00:15<00:31, 149279.52it/s]"
     ]
    },
    {
     "name": "stderr",
     "output_type": "stream",
     "text": [
      "\rDictNBHDTransformer fit stage 2:  33%|███▎      | 2342022/6997831 [00:15<00:31, 149302.94it/s]"
     ]
    },
    {
     "name": "stderr",
     "output_type": "stream",
     "text": [
      "\rDictNBHDTransformer fit stage 2:  34%|███▎      | 2357646/6997831 [00:15<00:31, 149346.88it/s]"
     ]
    },
    {
     "name": "stderr",
     "output_type": "stream",
     "text": [
      "\rDictNBHDTransformer fit stage 2:  34%|███▍      | 2373053/6997831 [00:15<00:30, 149321.03it/s]"
     ]
    },
    {
     "name": "stderr",
     "output_type": "stream",
     "text": [
      "\rDictNBHDTransformer fit stage 2:  34%|███▍      | 2388203/6997831 [00:15<00:30, 149328.23it/s]"
     ]
    },
    {
     "name": "stderr",
     "output_type": "stream",
     "text": [
      "\rDictNBHDTransformer fit stage 2:  34%|███▍      | 2403322/6997831 [00:16<00:30, 149339.22it/s]"
     ]
    },
    {
     "name": "stderr",
     "output_type": "stream",
     "text": [
      "\rDictNBHDTransformer fit stage 2:  35%|███▍      | 2418438/6997831 [00:16<00:30, 149337.23it/s]"
     ]
    },
    {
     "name": "stderr",
     "output_type": "stream",
     "text": [
      "\rDictNBHDTransformer fit stage 2:  35%|███▍      | 2433591/6997831 [00:16<00:30, 149350.60it/s]"
     ]
    },
    {
     "name": "stderr",
     "output_type": "stream",
     "text": [
      "\rDictNBHDTransformer fit stage 2:  35%|███▍      | 2449036/6997831 [00:16<00:30, 149381.65it/s]"
     ]
    },
    {
     "name": "stderr",
     "output_type": "stream",
     "text": [
      "\rDictNBHDTransformer fit stage 2:  35%|███▌      | 2464227/6997831 [00:16<00:30, 149395.61it/s]"
     ]
    },
    {
     "name": "stderr",
     "output_type": "stream",
     "text": [
      "\rDictNBHDTransformer fit stage 2:  35%|███▌      | 2479411/6997831 [00:16<00:30, 149358.51it/s]"
     ]
    },
    {
     "name": "stderr",
     "output_type": "stream",
     "text": [
      "\rDictNBHDTransformer fit stage 2:  36%|███▌      | 2494809/6997831 [00:16<00:30, 149386.08it/s]"
     ]
    },
    {
     "name": "stderr",
     "output_type": "stream",
     "text": [
      "\rDictNBHDTransformer fit stage 2:  36%|███▌      | 2509884/6997831 [00:16<00:30, 149388.46it/s]"
     ]
    },
    {
     "name": "stderr",
     "output_type": "stream",
     "text": [
      "\rDictNBHDTransformer fit stage 2:  36%|███▌      | 2525243/6997831 [00:16<00:29, 149411.49it/s]"
     ]
    },
    {
     "name": "stderr",
     "output_type": "stream",
     "text": [
      "\rDictNBHDTransformer fit stage 2:  36%|███▋      | 2540477/6997831 [00:17<00:29, 149430.04it/s]"
     ]
    },
    {
     "name": "stderr",
     "output_type": "stream",
     "text": [
      "\rDictNBHDTransformer fit stage 2:  37%|███▋      | 2555643/6997831 [00:17<00:29, 149413.89it/s]"
     ]
    },
    {
     "name": "stderr",
     "output_type": "stream",
     "text": [
      "\rDictNBHDTransformer fit stage 2:  37%|███▋      | 2570848/6997831 [00:17<00:29, 149429.06it/s]"
     ]
    },
    {
     "name": "stderr",
     "output_type": "stream",
     "text": [
      "\rDictNBHDTransformer fit stage 2:  37%|███▋      | 2586268/6997831 [00:17<00:29, 149456.73it/s]"
     ]
    },
    {
     "name": "stderr",
     "output_type": "stream",
     "text": [
      "\rDictNBHDTransformer fit stage 2:  37%|███▋      | 2601861/6997831 [00:17<00:29, 149493.85it/s]"
     ]
    },
    {
     "name": "stderr",
     "output_type": "stream",
     "text": [
      "\rDictNBHDTransformer fit stage 2:  37%|███▋      | 2617164/6997831 [00:17<00:29, 149488.34it/s]"
     ]
    },
    {
     "name": "stderr",
     "output_type": "stream",
     "text": [
      "\rDictNBHDTransformer fit stage 2:  38%|███▊      | 2632921/6997831 [00:17<00:29, 149534.26it/s]"
     ]
    },
    {
     "name": "stderr",
     "output_type": "stream",
     "text": [
      "\rDictNBHDTransformer fit stage 2:  38%|███▊      | 2648266/6997831 [00:17<00:29, 149539.18it/s]"
     ]
    },
    {
     "name": "stderr",
     "output_type": "stream",
     "text": [
      "\rDictNBHDTransformer fit stage 2:  38%|███▊      | 2663520/6997831 [00:17<00:28, 149539.48it/s]"
     ]
    },
    {
     "name": "stderr",
     "output_type": "stream",
     "text": [
      "\rDictNBHDTransformer fit stage 2:  38%|███▊      | 2678778/6997831 [00:17<00:28, 149556.49it/s]"
     ]
    },
    {
     "name": "stderr",
     "output_type": "stream",
     "text": [
      "\rDictNBHDTransformer fit stage 2:  38%|███▊      | 2693971/6997831 [00:18<00:28, 149550.71it/s]"
     ]
    },
    {
     "name": "stderr",
     "output_type": "stream",
     "text": [
      "\rDictNBHDTransformer fit stage 2:  39%|███▊      | 2709063/6997831 [00:18<00:28, 149533.33it/s]"
     ]
    },
    {
     "name": "stderr",
     "output_type": "stream",
     "text": [
      "\rDictNBHDTransformer fit stage 2:  39%|███▉      | 2724023/6997831 [00:18<00:28, 149498.99it/s]"
     ]
    },
    {
     "name": "stderr",
     "output_type": "stream",
     "text": [
      "\rDictNBHDTransformer fit stage 2:  39%|███▉      | 2738811/6997831 [00:18<00:28, 149491.01it/s]"
     ]
    },
    {
     "name": "stderr",
     "output_type": "stream",
     "text": [
      "\rDictNBHDTransformer fit stage 2:  39%|███▉      | 2754088/6997831 [00:18<00:28, 149508.89it/s]"
     ]
    },
    {
     "name": "stderr",
     "output_type": "stream",
     "text": [
      "\rDictNBHDTransformer fit stage 2:  40%|███▉      | 2769329/6997831 [00:18<00:28, 149524.53it/s]"
     ]
    },
    {
     "name": "stderr",
     "output_type": "stream",
     "text": [
      "\rDictNBHDTransformer fit stage 2:  40%|███▉      | 2784354/6997831 [00:18<00:28, 149491.00it/s]"
     ]
    },
    {
     "name": "stderr",
     "output_type": "stream",
     "text": [
      "\rDictNBHDTransformer fit stage 2:  40%|████      | 2799178/6997831 [00:18<00:28, 147742.65it/s]"
     ]
    },
    {
     "name": "stderr",
     "output_type": "stream",
     "text": [
      "\rDictNBHDTransformer fit stage 2:  40%|████      | 2814306/6997831 [00:19<00:28, 147761.20it/s]"
     ]
    },
    {
     "name": "stderr",
     "output_type": "stream",
     "text": [
      "\rDictNBHDTransformer fit stage 2:  40%|████      | 2829648/6997831 [00:19<00:28, 147790.74it/s]"
     ]
    },
    {
     "name": "stderr",
     "output_type": "stream",
     "text": [
      "\rDictNBHDTransformer fit stage 2:  41%|████      | 2844835/6997831 [00:19<00:28, 147811.59it/s]"
     ]
    },
    {
     "name": "stderr",
     "output_type": "stream",
     "text": [
      "\rDictNBHDTransformer fit stage 2:  41%|████      | 2859479/6997831 [00:19<00:27, 147804.66it/s]"
     ]
    },
    {
     "name": "stderr",
     "output_type": "stream",
     "text": [
      "\rDictNBHDTransformer fit stage 2:  41%|████      | 2874954/6997831 [00:19<00:27, 147840.35it/s]"
     ]
    },
    {
     "name": "stderr",
     "output_type": "stream",
     "text": [
      "\rDictNBHDTransformer fit stage 2:  41%|████▏     | 2890146/6997831 [00:19<00:27, 147861.21it/s]"
     ]
    },
    {
     "name": "stderr",
     "output_type": "stream",
     "text": [
      "\rDictNBHDTransformer fit stage 2:  42%|████▏     | 2905771/6997831 [00:19<00:27, 147903.87it/s]"
     ]
    },
    {
     "name": "stderr",
     "output_type": "stream",
     "text": [
      "\rDictNBHDTransformer fit stage 2:  42%|████▏     | 2921015/6997831 [00:19<00:27, 147926.76it/s]"
     ]
    },
    {
     "name": "stderr",
     "output_type": "stream",
     "text": [
      "\rDictNBHDTransformer fit stage 2:  42%|████▏     | 2936109/6997831 [00:19<00:27, 147917.36it/s]"
     ]
    },
    {
     "name": "stderr",
     "output_type": "stream",
     "text": [
      "\rDictNBHDTransformer fit stage 2:  42%|████▏     | 2951431/6997831 [00:19<00:27, 147943.92it/s]"
     ]
    },
    {
     "name": "stderr",
     "output_type": "stream",
     "text": [
      "\rDictNBHDTransformer fit stage 2:  42%|████▏     | 2967015/6997831 [00:20<00:27, 147983.25it/s]"
     ]
    },
    {
     "name": "stderr",
     "output_type": "stream",
     "text": [
      "\rDictNBHDTransformer fit stage 2:  43%|████▎     | 2982233/6997831 [00:20<00:27, 147984.40it/s]"
     ]
    },
    {
     "name": "stderr",
     "output_type": "stream",
     "text": [
      "\rDictNBHDTransformer fit stage 2:  43%|████▎     | 2997332/6997831 [00:20<00:27, 147983.96it/s]"
     ]
    },
    {
     "name": "stderr",
     "output_type": "stream",
     "text": [
      "\rDictNBHDTransformer fit stage 2:  43%|████▎     | 3012594/6997831 [00:20<00:26, 148006.78it/s]"
     ]
    },
    {
     "name": "stderr",
     "output_type": "stream",
     "text": [
      "\rDictNBHDTransformer fit stage 2:  43%|████▎     | 3027959/6997831 [00:20<00:26, 148034.38it/s]"
     ]
    },
    {
     "name": "stderr",
     "output_type": "stream",
     "text": [
      "\rDictNBHDTransformer fit stage 2:  43%|████▎     | 3043399/6997831 [00:20<00:26, 148065.34it/s]"
     ]
    },
    {
     "name": "stderr",
     "output_type": "stream",
     "text": [
      "\rDictNBHDTransformer fit stage 2:  44%|████▎     | 3058996/6997831 [00:20<00:26, 148103.57it/s]"
     ]
    },
    {
     "name": "stderr",
     "output_type": "stream",
     "text": [
      "\rDictNBHDTransformer fit stage 2:  44%|████▍     | 3074374/6997831 [00:20<00:26, 148130.88it/s]"
     ]
    },
    {
     "name": "stderr",
     "output_type": "stream",
     "text": [
      "\rDictNBHDTransformer fit stage 2:  44%|████▍     | 3089735/6997831 [00:20<00:26, 148131.19it/s]"
     ]
    },
    {
     "name": "stderr",
     "output_type": "stream",
     "text": [
      "\rDictNBHDTransformer fit stage 2:  44%|████▍     | 3105227/6997831 [00:20<00:26, 148163.57it/s]"
     ]
    },
    {
     "name": "stderr",
     "output_type": "stream",
     "text": [
      "\rDictNBHDTransformer fit stage 2:  45%|████▍     | 3120514/6997831 [00:21<00:26, 148173.81it/s]"
     ]
    },
    {
     "name": "stderr",
     "output_type": "stream",
     "text": [
      "\rDictNBHDTransformer fit stage 2:  45%|████▍     | 3136729/6997831 [00:21<00:26, 148239.83it/s]"
     ]
    },
    {
     "name": "stderr",
     "output_type": "stream",
     "text": [
      "\rDictNBHDTransformer fit stage 2:  45%|████▌     | 3152240/6997831 [00:21<00:25, 148260.58it/s]"
     ]
    },
    {
     "name": "stderr",
     "output_type": "stream",
     "text": [
      "\rDictNBHDTransformer fit stage 2:  45%|████▌     | 3167675/6997831 [00:21<00:25, 148279.57it/s]"
     ]
    },
    {
     "name": "stderr",
     "output_type": "stream",
     "text": [
      "\rDictNBHDTransformer fit stage 2:  45%|████▌     | 3183048/6997831 [00:21<00:25, 148262.16it/s]"
     ]
    },
    {
     "name": "stderr",
     "output_type": "stream",
     "text": [
      "\rDictNBHDTransformer fit stage 2:  46%|████▌     | 3198152/6997831 [00:21<00:25, 148114.96it/s]"
     ]
    },
    {
     "name": "stderr",
     "output_type": "stream",
     "text": [
      "\rDictNBHDTransformer fit stage 2:  46%|████▌     | 3212799/6997831 [00:21<00:25, 148107.34it/s]"
     ]
    },
    {
     "name": "stderr",
     "output_type": "stream",
     "text": [
      "\rDictNBHDTransformer fit stage 2:  46%|████▌     | 3227775/6997831 [00:21<00:25, 148114.94it/s]"
     ]
    },
    {
     "name": "stderr",
     "output_type": "stream",
     "text": [
      "\rDictNBHDTransformer fit stage 2:  46%|████▋     | 3242946/6997831 [00:21<00:25, 148131.28it/s]"
     ]
    },
    {
     "name": "stderr",
     "output_type": "stream",
     "text": [
      "\rDictNBHDTransformer fit stage 2:  47%|████▋     | 3258312/6997831 [00:21<00:25, 148156.36it/s]"
     ]
    },
    {
     "name": "stderr",
     "output_type": "stream",
     "text": [
      "\rDictNBHDTransformer fit stage 2:  47%|████▋     | 3273606/6997831 [00:22<00:25, 148178.04it/s]"
     ]
    },
    {
     "name": "stderr",
     "output_type": "stream",
     "text": [
      "\rDictNBHDTransformer fit stage 2:  47%|████▋     | 3289517/6997831 [00:22<00:25, 148227.30it/s]"
     ]
    },
    {
     "name": "stderr",
     "output_type": "stream",
     "text": [
      "\rDictNBHDTransformer fit stage 2:  47%|████▋     | 3305770/6997831 [00:22<00:24, 148291.42it/s]"
     ]
    },
    {
     "name": "stderr",
     "output_type": "stream",
     "text": [
      "\rDictNBHDTransformer fit stage 2:  47%|████▋     | 3321604/6997831 [00:22<00:24, 148336.29it/s]"
     ]
    },
    {
     "name": "stderr",
     "output_type": "stream",
     "text": [
      "\rDictNBHDTransformer fit stage 2:  48%|████▊     | 3337264/6997831 [00:22<00:24, 148353.63it/s]"
     ]
    },
    {
     "name": "stderr",
     "output_type": "stream",
     "text": [
      "\rDictNBHDTransformer fit stage 2:  48%|████▊     | 3352790/6997831 [00:22<00:24, 148383.43it/s]"
     ]
    },
    {
     "name": "stderr",
     "output_type": "stream",
     "text": [
      "\rDictNBHDTransformer fit stage 2:  48%|████▊     | 3368311/6997831 [00:22<00:24, 148395.37it/s]"
     ]
    },
    {
     "name": "stderr",
     "output_type": "stream",
     "text": [
      "\rDictNBHDTransformer fit stage 2:  48%|████▊     | 3383707/6997831 [00:22<00:24, 148387.80it/s]"
     ]
    },
    {
     "name": "stderr",
     "output_type": "stream",
     "text": [
      "\rDictNBHDTransformer fit stage 2:  49%|████▊     | 3398886/6997831 [00:22<00:24, 148362.72it/s]"
     ]
    },
    {
     "name": "stderr",
     "output_type": "stream",
     "text": [
      "\rDictNBHDTransformer fit stage 2:  49%|████▉     | 3413938/6997831 [00:23<00:24, 148371.97it/s]"
     ]
    },
    {
     "name": "stderr",
     "output_type": "stream",
     "text": [
      "\rDictNBHDTransformer fit stage 2:  49%|████▉     | 3428895/6997831 [00:23<00:24, 148377.22it/s]"
     ]
    },
    {
     "name": "stderr",
     "output_type": "stream",
     "text": [
      "\rDictNBHDTransformer fit stage 2:  49%|████▉     | 3444265/6997831 [00:23<00:23, 148400.09it/s]"
     ]
    },
    {
     "name": "stderr",
     "output_type": "stream",
     "text": [
      "\rDictNBHDTransformer fit stage 2:  49%|████▉     | 3459345/6997831 [00:23<00:23, 148381.32it/s]"
     ]
    },
    {
     "name": "stderr",
     "output_type": "stream",
     "text": [
      "\rDictNBHDTransformer fit stage 2:  50%|████▉     | 3474228/6997831 [00:23<00:23, 148369.15it/s]"
     ]
    },
    {
     "name": "stderr",
     "output_type": "stream",
     "text": [
      "\rDictNBHDTransformer fit stage 2:  50%|████▉     | 3489505/6997831 [00:23<00:23, 148387.91it/s]"
     ]
    },
    {
     "name": "stderr",
     "output_type": "stream",
     "text": [
      "\rDictNBHDTransformer fit stage 2:  50%|█████     | 3505166/6997831 [00:23<00:23, 148422.72it/s]"
     ]
    },
    {
     "name": "stderr",
     "output_type": "stream",
     "text": [
      "\rDictNBHDTransformer fit stage 2:  50%|█████     | 3520318/6997831 [00:23<00:23, 148430.84it/s]"
     ]
    },
    {
     "name": "stderr",
     "output_type": "stream",
     "text": [
      "\rDictNBHDTransformer fit stage 2:  51%|█████     | 3535852/6997831 [00:23<00:23, 148459.82it/s]"
     ]
    },
    {
     "name": "stderr",
     "output_type": "stream",
     "text": [
      "\rDictNBHDTransformer fit stage 2:  51%|█████     | 3551207/6997831 [00:23<00:23, 148481.09it/s]"
     ]
    },
    {
     "name": "stderr",
     "output_type": "stream",
     "text": [
      "\rDictNBHDTransformer fit stage 2:  51%|█████     | 3566543/6997831 [00:24<00:23, 148501.40it/s]"
     ]
    },
    {
     "name": "stderr",
     "output_type": "stream",
     "text": [
      "\rDictNBHDTransformer fit stage 2:  51%|█████     | 3581837/6997831 [00:24<00:23, 148495.07it/s]"
     ]
    },
    {
     "name": "stderr",
     "output_type": "stream",
     "text": [
      "\rDictNBHDTransformer fit stage 2:  51%|█████▏    | 3597077/6997831 [00:24<00:22, 148511.24it/s]"
     ]
    },
    {
     "name": "stderr",
     "output_type": "stream",
     "text": [
      "\rDictNBHDTransformer fit stage 2:  52%|█████▏    | 3612687/6997831 [00:24<00:22, 148542.42it/s]"
     ]
    },
    {
     "name": "stderr",
     "output_type": "stream",
     "text": [
      "\rDictNBHDTransformer fit stage 2:  52%|█████▏    | 3627978/6997831 [00:24<00:22, 148534.62it/s]"
     ]
    },
    {
     "name": "stderr",
     "output_type": "stream",
     "text": [
      "\rDictNBHDTransformer fit stage 2:  52%|█████▏    | 3644004/6997831 [00:24<00:22, 148582.42it/s]"
     ]
    },
    {
     "name": "stderr",
     "output_type": "stream",
     "text": [
      "\rDictNBHDTransformer fit stage 2:  52%|█████▏    | 3659898/6997831 [00:24<00:22, 148624.54it/s]"
     ]
    },
    {
     "name": "stderr",
     "output_type": "stream",
     "text": [
      "\rDictNBHDTransformer fit stage 2:  53%|█████▎    | 3675707/6997831 [00:24<00:22, 148662.75it/s]"
     ]
    },
    {
     "name": "stderr",
     "output_type": "stream",
     "text": [
      "\rDictNBHDTransformer fit stage 2:  53%|█████▎    | 3691324/6997831 [00:24<00:22, 148669.49it/s]"
     ]
    },
    {
     "name": "stderr",
     "output_type": "stream",
     "text": [
      "\rDictNBHDTransformer fit stage 2:  53%|█████▎    | 3706765/6997831 [00:24<00:22, 148687.94it/s]"
     ]
    },
    {
     "name": "stderr",
     "output_type": "stream",
     "text": [
      "\rDictNBHDTransformer fit stage 2:  53%|█████▎    | 3722171/6997831 [00:25<00:22, 148691.65it/s]"
     ]
    },
    {
     "name": "stderr",
     "output_type": "stream",
     "text": [
      "\rDictNBHDTransformer fit stage 2:  53%|█████▎    | 3737443/6997831 [00:25<00:21, 148697.36it/s]"
     ]
    },
    {
     "name": "stderr",
     "output_type": "stream",
     "text": [
      "\rDictNBHDTransformer fit stage 2:  54%|█████▎    | 3752732/6997831 [00:25<00:21, 148713.95it/s]"
     ]
    },
    {
     "name": "stderr",
     "output_type": "stream",
     "text": [
      "\rDictNBHDTransformer fit stage 2:  54%|█████▍    | 3768584/6997831 [00:25<00:21, 148752.64it/s]"
     ]
    },
    {
     "name": "stderr",
     "output_type": "stream",
     "text": [
      "\rDictNBHDTransformer fit stage 2:  54%|█████▍    | 3783995/6997831 [00:25<00:21, 148739.57it/s]"
     ]
    },
    {
     "name": "stderr",
     "output_type": "stream",
     "text": [
      "\rDictNBHDTransformer fit stage 2:  54%|█████▍    | 3799384/6997831 [00:25<00:21, 148759.69it/s]"
     ]
    },
    {
     "name": "stderr",
     "output_type": "stream",
     "text": [
      "\rDictNBHDTransformer fit stage 2:  55%|█████▍    | 3814747/6997831 [00:25<00:21, 148778.75it/s]"
     ]
    },
    {
     "name": "stderr",
     "output_type": "stream",
     "text": [
      "\rDictNBHDTransformer fit stage 2:  55%|█████▍    | 3830014/6997831 [00:25<00:21, 148729.70it/s]"
     ]
    },
    {
     "name": "stderr",
     "output_type": "stream",
     "text": [
      "\rDictNBHDTransformer fit stage 2:  55%|█████▍    | 3844858/6997831 [00:25<00:21, 148728.55it/s]"
     ]
    },
    {
     "name": "stderr",
     "output_type": "stream",
     "text": [
      "\rDictNBHDTransformer fit stage 2:  55%|█████▌    | 3860203/6997831 [00:25<00:21, 148746.69it/s]"
     ]
    },
    {
     "name": "stderr",
     "output_type": "stream",
     "text": [
      "\rDictNBHDTransformer fit stage 2:  55%|█████▌    | 3875330/6997831 [00:26<00:20, 148756.34it/s]"
     ]
    },
    {
     "name": "stderr",
     "output_type": "stream",
     "text": [
      "\rDictNBHDTransformer fit stage 2:  56%|█████▌    | 3890352/6997831 [00:26<00:20, 148749.93it/s]"
     ]
    },
    {
     "name": "stderr",
     "output_type": "stream",
     "text": [
      "\rDictNBHDTransformer fit stage 2:  56%|█████▌    | 3905534/6997831 [00:26<00:20, 148761.57it/s]"
     ]
    },
    {
     "name": "stderr",
     "output_type": "stream",
     "text": [
      "\rDictNBHDTransformer fit stage 2:  56%|█████▌    | 3921140/6997831 [00:26<00:20, 148789.31it/s]"
     ]
    },
    {
     "name": "stderr",
     "output_type": "stream",
     "text": [
      "\rDictNBHDTransformer fit stage 2:  56%|█████▋    | 3936436/6997831 [00:26<00:20, 148805.02it/s]"
     ]
    },
    {
     "name": "stderr",
     "output_type": "stream",
     "text": [
      "\rDictNBHDTransformer fit stage 2:  56%|█████▋    | 3951654/6997831 [00:26<00:20, 148795.69it/s]"
     ]
    },
    {
     "name": "stderr",
     "output_type": "stream",
     "text": [
      "\rDictNBHDTransformer fit stage 2:  57%|█████▋    | 3967208/6997831 [00:26<00:20, 148821.04it/s]"
     ]
    },
    {
     "name": "stderr",
     "output_type": "stream",
     "text": [
      "\rDictNBHDTransformer fit stage 2:  57%|█████▋    | 3982573/6997831 [00:26<00:20, 148838.98it/s]"
     ]
    },
    {
     "name": "stderr",
     "output_type": "stream",
     "text": [
      "\rDictNBHDTransformer fit stage 2:  57%|█████▋    | 3997821/6997831 [00:26<00:20, 148843.24it/s]"
     ]
    },
    {
     "name": "stderr",
     "output_type": "stream",
     "text": [
      "\rDictNBHDTransformer fit stage 2:  57%|█████▋    | 4012994/6997831 [00:26<00:20, 148853.82it/s]"
     ]
    },
    {
     "name": "stderr",
     "output_type": "stream",
     "text": [
      "\rDictNBHDTransformer fit stage 2:  58%|█████▊    | 4028166/6997831 [00:27<00:19, 148851.87it/s]"
     ]
    },
    {
     "name": "stderr",
     "output_type": "stream",
     "text": [
      "\rDictNBHDTransformer fit stage 2:  58%|█████▊    | 4043284/6997831 [00:27<00:19, 148860.46it/s]"
     ]
    },
    {
     "name": "stderr",
     "output_type": "stream",
     "text": [
      "\rDictNBHDTransformer fit stage 2:  58%|█████▊    | 4058369/6997831 [00:27<00:19, 148843.35it/s]"
     ]
    },
    {
     "name": "stderr",
     "output_type": "stream",
     "text": [
      "\rDictNBHDTransformer fit stage 2:  58%|█████▊    | 4073261/6997831 [00:27<00:19, 148838.09it/s]"
     ]
    },
    {
     "name": "stderr",
     "output_type": "stream",
     "text": [
      "\rDictNBHDTransformer fit stage 2:  58%|█████▊    | 4088717/6997831 [00:27<00:19, 148858.97it/s]"
     ]
    },
    {
     "name": "stderr",
     "output_type": "stream",
     "text": [
      "\rDictNBHDTransformer fit stage 2:  59%|█████▊    | 4104260/6997831 [00:27<00:19, 148882.78it/s]"
     ]
    },
    {
     "name": "stderr",
     "output_type": "stream",
     "text": [
      "\rDictNBHDTransformer fit stage 2:  59%|█████▉    | 4119444/6997831 [00:27<00:19, 148877.00it/s]"
     ]
    },
    {
     "name": "stderr",
     "output_type": "stream",
     "text": [
      "\rDictNBHDTransformer fit stage 2:  59%|█████▉    | 4134619/6997831 [00:27<00:19, 148887.26it/s]"
     ]
    },
    {
     "name": "stderr",
     "output_type": "stream",
     "text": [
      "\rDictNBHDTransformer fit stage 2:  59%|█████▉    | 4149706/6997831 [00:27<00:19, 148887.24it/s]"
     ]
    },
    {
     "name": "stderr",
     "output_type": "stream",
     "text": [
      "\rDictNBHDTransformer fit stage 2:  60%|█████▉    | 4164742/6997831 [00:27<00:19, 148892.47it/s]"
     ]
    },
    {
     "name": "stderr",
     "output_type": "stream",
     "text": [
      "\rDictNBHDTransformer fit stage 2:  60%|█████▉    | 4179772/6997831 [00:28<00:18, 148895.68it/s]"
     ]
    },
    {
     "name": "stderr",
     "output_type": "stream",
     "text": [
      "\rDictNBHDTransformer fit stage 2:  60%|█████▉    | 4194861/6997831 [00:28<00:18, 148902.69it/s]"
     ]
    },
    {
     "name": "stderr",
     "output_type": "stream",
     "text": [
      "\rDictNBHDTransformer fit stage 2:  60%|██████    | 4209898/6997831 [00:28<00:18, 148906.27it/s]"
     ]
    },
    {
     "name": "stderr",
     "output_type": "stream",
     "text": [
      "\rDictNBHDTransformer fit stage 2:  60%|██████    | 4224921/6997831 [00:28<00:18, 148907.11it/s]"
     ]
    },
    {
     "name": "stderr",
     "output_type": "stream",
     "text": [
      "\rDictNBHDTransformer fit stage 2:  61%|██████    | 4239912/6997831 [00:28<00:18, 148893.79it/s]"
     ]
    },
    {
     "name": "stderr",
     "output_type": "stream",
     "text": [
      "\rDictNBHDTransformer fit stage 2:  61%|██████    | 4255393/6997831 [00:28<00:18, 148914.54it/s]"
     ]
    },
    {
     "name": "stderr",
     "output_type": "stream",
     "text": [
      "\rDictNBHDTransformer fit stage 2:  61%|██████    | 4270572/6997831 [00:28<00:18, 148924.54it/s]"
     ]
    },
    {
     "name": "stderr",
     "output_type": "stream",
     "text": [
      "\rDictNBHDTransformer fit stage 2:  61%|██████    | 4285654/6997831 [00:28<00:18, 148929.07it/s]"
     ]
    },
    {
     "name": "stderr",
     "output_type": "stream",
     "text": [
      "\rDictNBHDTransformer fit stage 2:  61%|██████▏   | 4300718/6997831 [00:28<00:18, 148911.10it/s]"
     ]
    },
    {
     "name": "stderr",
     "output_type": "stream",
     "text": [
      "\rDictNBHDTransformer fit stage 2:  62%|██████▏   | 4316002/6997831 [00:28<00:18, 148924.60it/s]"
     ]
    },
    {
     "name": "stderr",
     "output_type": "stream",
     "text": [
      "\rDictNBHDTransformer fit stage 2:  62%|██████▏   | 4331147/6997831 [00:29<00:17, 148933.36it/s]"
     ]
    },
    {
     "name": "stderr",
     "output_type": "stream",
     "text": [
      "\rDictNBHDTransformer fit stage 2:  62%|██████▏   | 4346184/6997831 [00:29<00:17, 148933.91it/s]"
     ]
    },
    {
     "name": "stderr",
     "output_type": "stream",
     "text": [
      "\rDictNBHDTransformer fit stage 2:  62%|██████▏   | 4361183/6997831 [00:29<00:17, 148933.64it/s]"
     ]
    },
    {
     "name": "stderr",
     "output_type": "stream",
     "text": [
      "\rDictNBHDTransformer fit stage 2:  63%|██████▎   | 4376520/6997831 [00:29<00:17, 148948.71it/s]"
     ]
    },
    {
     "name": "stderr",
     "output_type": "stream",
     "text": [
      "\rDictNBHDTransformer fit stage 2:  63%|██████▎   | 4391597/6997831 [00:29<00:17, 148953.05it/s]"
     ]
    },
    {
     "name": "stderr",
     "output_type": "stream",
     "text": [
      "\rDictNBHDTransformer fit stage 2:  63%|██████▎   | 4406657/6997831 [00:29<00:17, 148951.69it/s]"
     ]
    },
    {
     "name": "stderr",
     "output_type": "stream",
     "text": [
      "\rDictNBHDTransformer fit stage 2:  63%|██████▎   | 4421780/6997831 [00:29<00:17, 148959.39it/s]"
     ]
    },
    {
     "name": "stderr",
     "output_type": "stream",
     "text": [
      "\rDictNBHDTransformer fit stage 2:  63%|██████▎   | 4437201/6997831 [00:29<00:17, 148977.00it/s]"
     ]
    },
    {
     "name": "stderr",
     "output_type": "stream",
     "text": [
      "\rDictNBHDTransformer fit stage 2:  64%|██████▎   | 4452386/6997831 [00:29<00:17, 148986.61it/s]"
     ]
    },
    {
     "name": "stderr",
     "output_type": "stream",
     "text": [
      "\rDictNBHDTransformer fit stage 2:  64%|██████▍   | 4467548/6997831 [00:29<00:16, 148991.43it/s]"
     ]
    },
    {
     "name": "stderr",
     "output_type": "stream",
     "text": [
      "\rDictNBHDTransformer fit stage 2:  64%|██████▍   | 4482674/6997831 [00:30<00:16, 148977.45it/s]"
     ]
    },
    {
     "name": "stderr",
     "output_type": "stream",
     "text": [
      "\rDictNBHDTransformer fit stage 2:  64%|██████▍   | 4497612/6997831 [00:30<00:16, 148958.12it/s]"
     ]
    },
    {
     "name": "stderr",
     "output_type": "stream",
     "text": [
      "\rDictNBHDTransformer fit stage 2:  64%|██████▍   | 4512370/6997831 [00:30<00:16, 148948.25it/s]"
     ]
    },
    {
     "name": "stderr",
     "output_type": "stream",
     "text": [
      "\rDictNBHDTransformer fit stage 2:  65%|██████▍   | 4527081/6997831 [00:30<00:16, 148933.09it/s]"
     ]
    },
    {
     "name": "stderr",
     "output_type": "stream",
     "text": [
      "\rDictNBHDTransformer fit stage 2:  65%|██████▍   | 4541826/6997831 [00:30<00:16, 148928.16it/s]"
     ]
    },
    {
     "name": "stderr",
     "output_type": "stream",
     "text": [
      "\rDictNBHDTransformer fit stage 2:  65%|██████▌   | 4557126/6997831 [00:30<00:16, 148941.48it/s]"
     ]
    },
    {
     "name": "stderr",
     "output_type": "stream",
     "text": [
      "\rDictNBHDTransformer fit stage 2:  65%|██████▌   | 4571981/6997831 [00:30<00:16, 148939.84it/s]"
     ]
    },
    {
     "name": "stderr",
     "output_type": "stream",
     "text": [
      "\rDictNBHDTransformer fit stage 2:  66%|██████▌   | 4586833/6997831 [00:30<00:16, 148921.62it/s]"
     ]
    },
    {
     "name": "stderr",
     "output_type": "stream",
     "text": [
      "\rDictNBHDTransformer fit stage 2:  66%|██████▌   | 4602322/6997831 [00:30<00:16, 148940.93it/s]"
     ]
    },
    {
     "name": "stderr",
     "output_type": "stream",
     "text": [
      "\rDictNBHDTransformer fit stage 2:  66%|██████▌   | 4617521/6997831 [00:31<00:15, 148950.75it/s]"
     ]
    },
    {
     "name": "stderr",
     "output_type": "stream",
     "text": [
      "\rDictNBHDTransformer fit stage 2:  66%|██████▌   | 4632537/6997831 [00:31<00:15, 148949.14it/s]"
     ]
    },
    {
     "name": "stderr",
     "output_type": "stream",
     "text": [
      "\rDictNBHDTransformer fit stage 2:  66%|██████▋   | 4647503/6997831 [00:31<00:15, 148944.54it/s]"
     ]
    },
    {
     "name": "stderr",
     "output_type": "stream",
     "text": [
      "\rDictNBHDTransformer fit stage 2:  67%|██████▋   | 4662405/6997831 [00:31<00:15, 148943.05it/s]"
     ]
    },
    {
     "name": "stderr",
     "output_type": "stream",
     "text": [
      "\rDictNBHDTransformer fit stage 2:  67%|██████▋   | 4677291/6997831 [00:31<00:15, 148939.89it/s]"
     ]
    },
    {
     "name": "stderr",
     "output_type": "stream",
     "text": [
      "\rDictNBHDTransformer fit stage 2:  67%|██████▋   | 4692208/6997831 [00:31<00:15, 148940.59it/s]"
     ]
    },
    {
     "name": "stderr",
     "output_type": "stream",
     "text": [
      "\rDictNBHDTransformer fit stage 2:  67%|██████▋   | 4707084/6997831 [00:31<00:15, 148926.09it/s]"
     ]
    },
    {
     "name": "stderr",
     "output_type": "stream",
     "text": [
      "\rDictNBHDTransformer fit stage 2:  67%|██████▋   | 4722296/6997831 [00:31<00:15, 148936.15it/s]"
     ]
    },
    {
     "name": "stderr",
     "output_type": "stream",
     "text": [
      "\rDictNBHDTransformer fit stage 2:  68%|██████▊   | 4737581/6997831 [00:31<00:15, 148948.45it/s]"
     ]
    },
    {
     "name": "stderr",
     "output_type": "stream",
     "text": [
      "\rDictNBHDTransformer fit stage 2:  68%|██████▊   | 4752588/6997831 [00:31<00:15, 148942.67it/s]"
     ]
    },
    {
     "name": "stderr",
     "output_type": "stream",
     "text": [
      "\rDictNBHDTransformer fit stage 2:  68%|██████▊   | 4768348/6997831 [00:32<00:14, 148969.69it/s]"
     ]
    },
    {
     "name": "stderr",
     "output_type": "stream",
     "text": [
      "\rDictNBHDTransformer fit stage 2:  68%|██████▊   | 4783519/6997831 [00:32<00:14, 148971.64it/s]"
     ]
    },
    {
     "name": "stderr",
     "output_type": "stream",
     "text": [
      "\rDictNBHDTransformer fit stage 2:  69%|██████▊   | 4798627/6997831 [00:32<00:14, 148964.53it/s]"
     ]
    },
    {
     "name": "stderr",
     "output_type": "stream",
     "text": [
      "\rDictNBHDTransformer fit stage 2:  69%|██████▉   | 4813681/6997831 [00:32<00:14, 148969.33it/s]"
     ]
    },
    {
     "name": "stderr",
     "output_type": "stream",
     "text": [
      "\rDictNBHDTransformer fit stage 2:  69%|██████▉   | 4828973/6997831 [00:32<00:14, 148981.55it/s]"
     ]
    },
    {
     "name": "stderr",
     "output_type": "stream",
     "text": [
      "\rDictNBHDTransformer fit stage 2:  69%|██████▉   | 4844061/6997831 [00:32<00:14, 148975.44it/s]"
     ]
    },
    {
     "name": "stderr",
     "output_type": "stream",
     "text": [
      "\rDictNBHDTransformer fit stage 2:  69%|██████▉   | 4859146/6997831 [00:32<00:14, 148981.18it/s]"
     ]
    },
    {
     "name": "stderr",
     "output_type": "stream",
     "text": [
      "\rDictNBHDTransformer fit stage 2:  70%|██████▉   | 4874945/6997831 [00:32<00:14, 149008.71it/s]"
     ]
    },
    {
     "name": "stderr",
     "output_type": "stream",
     "text": [
      "\rDictNBHDTransformer fit stage 2:  70%|██████▉   | 4890189/6997831 [00:32<00:14, 149018.94it/s]"
     ]
    },
    {
     "name": "stderr",
     "output_type": "stream",
     "text": [
      "\rDictNBHDTransformer fit stage 2:  70%|███████   | 4905472/6997831 [00:32<00:14, 149030.48it/s]"
     ]
    },
    {
     "name": "stderr",
     "output_type": "stream",
     "text": [
      "\rDictNBHDTransformer fit stage 2:  70%|███████   | 4920726/6997831 [00:33<00:13, 149012.06it/s]"
     ]
    },
    {
     "name": "stderr",
     "output_type": "stream",
     "text": [
      "\rDictNBHDTransformer fit stage 2:  71%|███████   | 4935704/6997831 [00:33<00:13, 148982.64it/s]"
     ]
    },
    {
     "name": "stderr",
     "output_type": "stream",
     "text": [
      "\rDictNBHDTransformer fit stage 2:  71%|███████   | 4950754/6997831 [00:33<00:13, 148987.13it/s]"
     ]
    },
    {
     "name": "stderr",
     "output_type": "stream",
     "text": [
      "\rDictNBHDTransformer fit stage 2:  71%|███████   | 4966437/6997831 [00:33<00:13, 149010.69it/s]"
     ]
    },
    {
     "name": "stderr",
     "output_type": "stream",
     "text": [
      "\rDictNBHDTransformer fit stage 2:  71%|███████   | 4981496/6997831 [00:33<00:13, 148990.36it/s]"
     ]
    },
    {
     "name": "stderr",
     "output_type": "stream",
     "text": [
      "\rDictNBHDTransformer fit stage 2:  71%|███████▏  | 4996560/6997831 [00:33<00:13, 148995.77it/s]"
     ]
    },
    {
     "name": "stderr",
     "output_type": "stream",
     "text": [
      "\rDictNBHDTransformer fit stage 2:  72%|███████▏  | 5011456/6997831 [00:33<00:13, 148975.97it/s]"
     ]
    },
    {
     "name": "stderr",
     "output_type": "stream",
     "text": [
      "\rDictNBHDTransformer fit stage 2:  72%|███████▏  | 5026162/6997831 [00:33<00:13, 148951.70it/s]"
     ]
    },
    {
     "name": "stderr",
     "output_type": "stream",
     "text": [
      "\rDictNBHDTransformer fit stage 2:  72%|███████▏  | 5041383/6997831 [00:33<00:13, 148961.36it/s]"
     ]
    },
    {
     "name": "stderr",
     "output_type": "stream",
     "text": [
      "\rDictNBHDTransformer fit stage 2:  72%|███████▏  | 5056119/6997831 [00:33<00:13, 148955.85it/s]"
     ]
    },
    {
     "name": "stderr",
     "output_type": "stream",
     "text": [
      "\rDictNBHDTransformer fit stage 2:  72%|███████▏  | 5070848/6997831 [00:34<00:12, 148944.04it/s]"
     ]
    },
    {
     "name": "stderr",
     "output_type": "stream",
     "text": [
      "\rDictNBHDTransformer fit stage 2:  73%|███████▎  | 5085795/6997831 [00:34<00:12, 148945.63it/s]"
     ]
    },
    {
     "name": "stderr",
     "output_type": "stream",
     "text": [
      "\rDictNBHDTransformer fit stage 2:  73%|███████▎  | 5100797/6997831 [00:34<00:12, 148948.76it/s]"
     ]
    },
    {
     "name": "stderr",
     "output_type": "stream",
     "text": [
      "\rDictNBHDTransformer fit stage 2:  73%|███████▎  | 5115886/6997831 [00:34<00:12, 148954.38it/s]"
     ]
    },
    {
     "name": "stderr",
     "output_type": "stream",
     "text": [
      "\rDictNBHDTransformer fit stage 2:  73%|███████▎  | 5130789/6997831 [00:34<00:12, 148945.07it/s]"
     ]
    },
    {
     "name": "stderr",
     "output_type": "stream",
     "text": [
      "\rDictNBHDTransformer fit stage 2:  74%|███████▎  | 5146501/6997831 [00:34<00:12, 148968.67it/s]"
     ]
    },
    {
     "name": "stderr",
     "output_type": "stream",
     "text": [
      "\rDictNBHDTransformer fit stage 2:  74%|███████▍  | 5161579/6997831 [00:34<00:12, 148953.83it/s]"
     ]
    },
    {
     "name": "stderr",
     "output_type": "stream",
     "text": [
      "\rDictNBHDTransformer fit stage 2:  74%|███████▍  | 5176827/6997831 [00:34<00:12, 148963.93it/s]"
     ]
    },
    {
     "name": "stderr",
     "output_type": "stream",
     "text": [
      "\rDictNBHDTransformer fit stage 2:  74%|███████▍  | 5191869/6997831 [00:34<00:12, 148968.13it/s]"
     ]
    },
    {
     "name": "stderr",
     "output_type": "stream",
     "text": [
      "\rDictNBHDTransformer fit stage 2:  74%|███████▍  | 5207243/6997831 [00:34<00:12, 148981.77it/s]"
     ]
    },
    {
     "name": "stderr",
     "output_type": "stream",
     "text": [
      "\rDictNBHDTransformer fit stage 2:  75%|███████▍  | 5222358/6997831 [00:35<00:11, 148950.07it/s]"
     ]
    },
    {
     "name": "stderr",
     "output_type": "stream",
     "text": [
      "\rDictNBHDTransformer fit stage 2:  75%|███████▍  | 5237226/6997831 [00:35<00:11, 148949.21it/s]"
     ]
    },
    {
     "name": "stderr",
     "output_type": "stream",
     "text": [
      "\rDictNBHDTransformer fit stage 2:  75%|███████▌  | 5252007/6997831 [00:35<00:11, 148902.81it/s]"
     ]
    },
    {
     "name": "stderr",
     "output_type": "stream",
     "text": [
      "\rDictNBHDTransformer fit stage 2:  75%|███████▌  | 5266376/6997831 [00:35<00:11, 148885.34it/s]"
     ]
    },
    {
     "name": "stderr",
     "output_type": "stream",
     "text": [
      "\rDictNBHDTransformer fit stage 2:  75%|███████▌  | 5280816/6997831 [00:35<00:11, 148872.67it/s]"
     ]
    },
    {
     "name": "stderr",
     "output_type": "stream",
     "text": [
      "\rDictNBHDTransformer fit stage 2:  76%|███████▌  | 5295405/6997831 [00:35<00:11, 148864.26it/s]"
     ]
    },
    {
     "name": "stderr",
     "output_type": "stream",
     "text": [
      "\rDictNBHDTransformer fit stage 2:  76%|███████▌  | 5310199/6997831 [00:35<00:11, 148861.66it/s]"
     ]
    },
    {
     "name": "stderr",
     "output_type": "stream",
     "text": [
      "\rDictNBHDTransformer fit stage 2:  76%|███████▌  | 5324743/6997831 [00:35<00:11, 148841.35it/s]"
     ]
    },
    {
     "name": "stderr",
     "output_type": "stream",
     "text": [
      "\rDictNBHDTransformer fit stage 2:  76%|███████▋  | 5339659/6997831 [00:35<00:11, 148842.19it/s]"
     ]
    },
    {
     "name": "stderr",
     "output_type": "stream",
     "text": [
      "\rDictNBHDTransformer fit stage 2:  77%|███████▋  | 5355074/6997831 [00:35<00:11, 148856.96it/s]"
     ]
    },
    {
     "name": "stderr",
     "output_type": "stream",
     "text": [
      "\rDictNBHDTransformer fit stage 2:  77%|███████▋  | 5369967/6997831 [00:36<00:10, 148857.14it/s]"
     ]
    },
    {
     "name": "stderr",
     "output_type": "stream",
     "text": [
      "\rDictNBHDTransformer fit stage 2:  77%|███████▋  | 5385320/6997831 [00:36<00:10, 148870.02it/s]"
     ]
    },
    {
     "name": "stderr",
     "output_type": "stream",
     "text": [
      "\rDictNBHDTransformer fit stage 2:  77%|███████▋  | 5400320/6997831 [00:36<00:10, 148850.78it/s]"
     ]
    },
    {
     "name": "stderr",
     "output_type": "stream",
     "text": [
      "\rDictNBHDTransformer fit stage 2:  77%|███████▋  | 5415088/6997831 [00:36<00:10, 148847.33it/s]"
     ]
    },
    {
     "name": "stderr",
     "output_type": "stream",
     "text": [
      "\rDictNBHDTransformer fit stage 2:  78%|███████▊  | 5430194/6997831 [00:36<00:10, 148853.39it/s]"
     ]
    },
    {
     "name": "stderr",
     "output_type": "stream",
     "text": [
      "\rDictNBHDTransformer fit stage 2:  78%|███████▊  | 5445062/6997831 [00:36<00:10, 148841.85it/s]"
     ]
    },
    {
     "name": "stderr",
     "output_type": "stream",
     "text": [
      "\rDictNBHDTransformer fit stage 2:  78%|███████▊  | 5460201/6997831 [00:36<00:10, 148848.79it/s]"
     ]
    },
    {
     "name": "stderr",
     "output_type": "stream",
     "text": [
      "\rDictNBHDTransformer fit stage 2:  78%|███████▊  | 5475368/6997831 [00:36<00:10, 148856.41it/s]"
     ]
    },
    {
     "name": "stderr",
     "output_type": "stream",
     "text": [
      "\rDictNBHDTransformer fit stage 2:  78%|███████▊  | 5490324/6997831 [00:36<00:10, 148843.23it/s]"
     ]
    },
    {
     "name": "stderr",
     "output_type": "stream",
     "text": [
      "\rDictNBHDTransformer fit stage 2:  79%|███████▊  | 5505545/6997831 [00:36<00:10, 148852.32it/s]"
     ]
    },
    {
     "name": "stderr",
     "output_type": "stream",
     "text": [
      "\rDictNBHDTransformer fit stage 2:  79%|███████▉  | 5521239/6997831 [00:37<00:09, 148874.12it/s]"
     ]
    },
    {
     "name": "stderr",
     "output_type": "stream",
     "text": [
      "\rDictNBHDTransformer fit stage 2:  79%|███████▉  | 5536393/6997831 [00:37<00:09, 148869.92it/s]"
     ]
    },
    {
     "name": "stderr",
     "output_type": "stream",
     "text": [
      "\rDictNBHDTransformer fit stage 2:  79%|███████▉  | 5551548/6997831 [00:37<00:09, 148877.10it/s]"
     ]
    },
    {
     "name": "stderr",
     "output_type": "stream",
     "text": [
      "\rDictNBHDTransformer fit stage 2:  80%|███████▉  | 5566615/6997831 [00:37<00:09, 148852.09it/s]"
     ]
    },
    {
     "name": "stderr",
     "output_type": "stream",
     "text": [
      "\rDictNBHDTransformer fit stage 2:  80%|███████▉  | 5581644/6997831 [00:37<00:09, 148855.93it/s]"
     ]
    },
    {
     "name": "stderr",
     "output_type": "stream",
     "text": [
      "\rDictNBHDTransformer fit stage 2:  80%|███████▉  | 5596479/6997831 [00:38<00:09, 146593.16it/s]"
     ]
    },
    {
     "name": "stderr",
     "output_type": "stream",
     "text": [
      "\rDictNBHDTransformer fit stage 2:  80%|████████  | 5609937/6997831 [00:38<00:09, 146561.76it/s]"
     ]
    },
    {
     "name": "stderr",
     "output_type": "stream",
     "text": [
      "\rDictNBHDTransformer fit stage 2:  80%|████████  | 5624579/6997831 [00:38<00:09, 146561.26it/s]"
     ]
    },
    {
     "name": "stderr",
     "output_type": "stream",
     "text": [
      "\rDictNBHDTransformer fit stage 2:  81%|████████  | 5639075/6997831 [00:38<00:09, 146557.08it/s]"
     ]
    },
    {
     "name": "stderr",
     "output_type": "stream",
     "text": [
      "\rDictNBHDTransformer fit stage 2:  81%|████████  | 5654221/6997831 [00:38<00:09, 146569.79it/s]"
     ]
    },
    {
     "name": "stderr",
     "output_type": "stream",
     "text": [
      "\rDictNBHDTransformer fit stage 2:  81%|████████  | 5669404/6997831 [00:38<00:09, 146583.37it/s]"
     ]
    },
    {
     "name": "stderr",
     "output_type": "stream",
     "text": [
      "\rDictNBHDTransformer fit stage 2:  81%|████████  | 5684009/6997831 [00:38<00:08, 146581.97it/s]"
     ]
    },
    {
     "name": "stderr",
     "output_type": "stream",
     "text": [
      "\rDictNBHDTransformer fit stage 2:  81%|████████▏ | 5698566/6997831 [00:38<00:08, 146579.34it/s]"
     ]
    },
    {
     "name": "stderr",
     "output_type": "stream",
     "text": [
      "\rDictNBHDTransformer fit stage 2:  82%|████████▏ | 5713753/6997831 [00:38<00:08, 146592.92it/s]"
     ]
    },
    {
     "name": "stderr",
     "output_type": "stream",
     "text": [
      "\rDictNBHDTransformer fit stage 2:  82%|████████▏ | 5728399/6997831 [00:39<00:08, 146592.55it/s]"
     ]
    },
    {
     "name": "stderr",
     "output_type": "stream",
     "text": [
      "\rDictNBHDTransformer fit stage 2:  82%|████████▏ | 5743139/6997831 [00:39<00:08, 146594.61it/s]"
     ]
    },
    {
     "name": "stderr",
     "output_type": "stream",
     "text": [
      "\rDictNBHDTransformer fit stage 2:  82%|████████▏ | 5757805/6997831 [00:39<00:08, 146587.47it/s]"
     ]
    },
    {
     "name": "stderr",
     "output_type": "stream",
     "text": [
      "\rDictNBHDTransformer fit stage 2:  82%|████████▏ | 5772387/6997831 [00:39<00:08, 146582.10it/s]"
     ]
    },
    {
     "name": "stderr",
     "output_type": "stream",
     "text": [
      "\rDictNBHDTransformer fit stage 2:  83%|████████▎ | 5787747/6997831 [00:39<00:08, 146599.86it/s]"
     ]
    },
    {
     "name": "stderr",
     "output_type": "stream",
     "text": [
      "\rDictNBHDTransformer fit stage 2:  83%|████████▎ | 5802535/6997831 [00:39<00:08, 146602.77it/s]"
     ]
    },
    {
     "name": "stderr",
     "output_type": "stream",
     "text": [
      "\rDictNBHDTransformer fit stage 2:  83%|████████▎ | 5818146/6997831 [00:39<00:08, 146626.71it/s]"
     ]
    },
    {
     "name": "stderr",
     "output_type": "stream",
     "text": [
      "\rDictNBHDTransformer fit stage 2:  83%|████████▎ | 5833467/6997831 [00:39<00:07, 146643.25it/s]"
     ]
    },
    {
     "name": "stderr",
     "output_type": "stream",
     "text": [
      "\rDictNBHDTransformer fit stage 2:  84%|████████▎ | 5848712/6997831 [00:39<00:07, 146657.81it/s]"
     ]
    },
    {
     "name": "stderr",
     "output_type": "stream",
     "text": [
      "\rDictNBHDTransformer fit stage 2:  84%|████████▍ | 5863869/6997831 [00:39<00:07, 146660.91it/s]"
     ]
    },
    {
     "name": "stderr",
     "output_type": "stream",
     "text": [
      "\rDictNBHDTransformer fit stage 2:  84%|████████▍ | 5878915/6997831 [00:40<00:07, 146661.95it/s]"
     ]
    },
    {
     "name": "stderr",
     "output_type": "stream",
     "text": [
      "\rDictNBHDTransformer fit stage 2:  84%|████████▍ | 5893870/6997831 [00:40<00:07, 146668.79it/s]"
     ]
    },
    {
     "name": "stderr",
     "output_type": "stream",
     "text": [
      "\rDictNBHDTransformer fit stage 2:  84%|████████▍ | 5908818/6997831 [00:40<00:07, 146665.65it/s]"
     ]
    },
    {
     "name": "stderr",
     "output_type": "stream",
     "text": [
      "\rDictNBHDTransformer fit stage 2:  85%|████████▍ | 5923807/6997831 [00:40<00:07, 146673.58it/s]"
     ]
    },
    {
     "name": "stderr",
     "output_type": "stream",
     "text": [
      "\rDictNBHDTransformer fit stage 2:  85%|████████▍ | 5938680/6997831 [00:40<00:07, 146674.88it/s]"
     ]
    },
    {
     "name": "stderr",
     "output_type": "stream",
     "text": [
      "\rDictNBHDTransformer fit stage 2:  85%|████████▌ | 5953544/6997831 [00:40<00:07, 146679.68it/s]"
     ]
    },
    {
     "name": "stderr",
     "output_type": "stream",
     "text": [
      "\rDictNBHDTransformer fit stage 2:  85%|████████▌ | 5968381/6997831 [00:40<00:07, 146673.24it/s]"
     ]
    },
    {
     "name": "stderr",
     "output_type": "stream",
     "text": [
      "\rDictNBHDTransformer fit stage 2:  85%|████████▌ | 5983097/6997831 [00:40<00:06, 146664.62it/s]"
     ]
    },
    {
     "name": "stderr",
     "output_type": "stream",
     "text": [
      "\rDictNBHDTransformer fit stage 2:  86%|████████▌ | 5997994/6997831 [00:40<00:06, 146670.25it/s]"
     ]
    },
    {
     "name": "stderr",
     "output_type": "stream",
     "text": [
      "\rDictNBHDTransformer fit stage 2:  86%|████████▌ | 6012853/6997831 [00:40<00:06, 146674.92it/s]"
     ]
    },
    {
     "name": "stderr",
     "output_type": "stream",
     "text": [
      "\rDictNBHDTransformer fit stage 2:  86%|████████▌ | 6027899/6997831 [00:41<00:06, 146684.12it/s]"
     ]
    },
    {
     "name": "stderr",
     "output_type": "stream",
     "text": [
      "\rDictNBHDTransformer fit stage 2:  86%|████████▋ | 6042729/6997831 [00:41<00:06, 146667.28it/s]"
     ]
    },
    {
     "name": "stderr",
     "output_type": "stream",
     "text": [
      "\rDictNBHDTransformer fit stage 2:  87%|████████▋ | 6057713/6997831 [00:41<00:06, 146674.98it/s]"
     ]
    },
    {
     "name": "stderr",
     "output_type": "stream",
     "text": [
      "\rDictNBHDTransformer fit stage 2:  87%|████████▋ | 6072904/6997831 [00:41<00:06, 146687.60it/s]"
     ]
    },
    {
     "name": "stderr",
     "output_type": "stream",
     "text": [
      "\rDictNBHDTransformer fit stage 2:  87%|████████▋ | 6088221/6997831 [00:41<00:06, 146703.23it/s]"
     ]
    },
    {
     "name": "stderr",
     "output_type": "stream",
     "text": [
      "\rDictNBHDTransformer fit stage 2:  87%|████████▋ | 6103211/6997831 [00:41<00:06, 146695.97it/s]"
     ]
    },
    {
     "name": "stderr",
     "output_type": "stream",
     "text": [
      "\rDictNBHDTransformer fit stage 2:  87%|████████▋ | 6118019/6997831 [00:41<00:05, 146699.15it/s]"
     ]
    },
    {
     "name": "stderr",
     "output_type": "stream",
     "text": [
      "\rDictNBHDTransformer fit stage 2:  88%|████████▊ | 6132825/6997831 [00:41<00:05, 146693.45it/s]"
     ]
    },
    {
     "name": "stderr",
     "output_type": "stream",
     "text": [
      "\rDictNBHDTransformer fit stage 2:  88%|████████▊ | 6147899/6997831 [00:41<00:05, 146703.11it/s]"
     ]
    },
    {
     "name": "stderr",
     "output_type": "stream",
     "text": [
      "\rDictNBHDTransformer fit stage 2:  88%|████████▊ | 6162708/6997831 [00:42<00:05, 146702.11it/s]"
     ]
    },
    {
     "name": "stderr",
     "output_type": "stream",
     "text": [
      "\rDictNBHDTransformer fit stage 2:  88%|████████▊ | 6177464/6997831 [00:42<00:05, 146703.41it/s]"
     ]
    },
    {
     "name": "stderr",
     "output_type": "stream",
     "text": [
      "\rDictNBHDTransformer fit stage 2:  88%|████████▊ | 6192317/6997831 [00:42<00:05, 146707.64it/s]"
     ]
    },
    {
     "name": "stderr",
     "output_type": "stream",
     "text": [
      "\rDictNBHDTransformer fit stage 2:  89%|████████▊ | 6207274/6997831 [00:42<00:05, 146714.43it/s]"
     ]
    },
    {
     "name": "stderr",
     "output_type": "stream",
     "text": [
      "\rDictNBHDTransformer fit stage 2:  89%|████████▉ | 6222191/6997831 [00:42<00:05, 146720.14it/s]"
     ]
    },
    {
     "name": "stderr",
     "output_type": "stream",
     "text": [
      "\rDictNBHDTransformer fit stage 2:  89%|████████▉ | 6237047/6997831 [00:42<00:05, 146722.98it/s]"
     ]
    },
    {
     "name": "stderr",
     "output_type": "stream",
     "text": [
      "\rDictNBHDTransformer fit stage 2:  89%|████████▉ | 6251884/6997831 [00:42<00:05, 146726.35it/s]"
     ]
    },
    {
     "name": "stderr",
     "output_type": "stream",
     "text": [
      "\rDictNBHDTransformer fit stage 2:  90%|████████▉ | 6266715/6997831 [00:42<00:04, 146724.21it/s]"
     ]
    },
    {
     "name": "stderr",
     "output_type": "stream",
     "text": [
      "\rDictNBHDTransformer fit stage 2:  90%|████████▉ | 6281505/6997831 [00:42<00:04, 146726.95it/s]"
     ]
    },
    {
     "name": "stderr",
     "output_type": "stream",
     "text": [
      "\rDictNBHDTransformer fit stage 2:  90%|████████▉ | 6296289/6997831 [00:42<00:04, 146729.52it/s]"
     ]
    },
    {
     "name": "stderr",
     "output_type": "stream",
     "text": [
      "\rDictNBHDTransformer fit stage 2:  90%|█████████ | 6311061/6997831 [00:43<00:04, 146723.41it/s]"
     ]
    },
    {
     "name": "stderr",
     "output_type": "stream",
     "text": [
      "\rDictNBHDTransformer fit stage 2:  90%|█████████ | 6325894/6997831 [00:43<00:04, 146727.14it/s]"
     ]
    },
    {
     "name": "stderr",
     "output_type": "stream",
     "text": [
      "\rDictNBHDTransformer fit stage 2:  91%|█████████ | 6340610/6997831 [00:43<00:04, 146721.34it/s]"
     ]
    },
    {
     "name": "stderr",
     "output_type": "stream",
     "text": [
      "\rDictNBHDTransformer fit stage 2:  91%|█████████ | 6355826/6997831 [00:43<00:04, 146733.90it/s]"
     ]
    },
    {
     "name": "stderr",
     "output_type": "stream",
     "text": [
      "\rDictNBHDTransformer fit stage 2:  91%|█████████ | 6370632/6997831 [00:43<00:04, 146736.29it/s]"
     ]
    },
    {
     "name": "stderr",
     "output_type": "stream",
     "text": [
      "\rDictNBHDTransformer fit stage 2:  91%|█████████ | 6385429/6997831 [00:43<00:04, 146726.58it/s]"
     ]
    },
    {
     "name": "stderr",
     "output_type": "stream",
     "text": [
      "\rDictNBHDTransformer fit stage 2:  91%|█████████▏| 6400308/6997831 [00:43<00:04, 146731.31it/s]"
     ]
    },
    {
     "name": "stderr",
     "output_type": "stream",
     "text": [
      "\rDictNBHDTransformer fit stage 2:  92%|█████████▏| 6415726/6997831 [00:43<00:03, 146748.27it/s]"
     ]
    },
    {
     "name": "stderr",
     "output_type": "stream",
     "text": [
      "\rDictNBHDTransformer fit stage 2:  92%|█████████▏| 6430649/6997831 [00:43<00:03, 146745.33it/s]"
     ]
    },
    {
     "name": "stderr",
     "output_type": "stream",
     "text": [
      "\rDictNBHDTransformer fit stage 2:  92%|█████████▏| 6445460/6997831 [00:43<00:03, 146737.07it/s]"
     ]
    },
    {
     "name": "stderr",
     "output_type": "stream",
     "text": [
      "\rDictNBHDTransformer fit stage 2:  92%|█████████▏| 6460324/6997831 [00:44<00:03, 146741.37it/s]"
     ]
    },
    {
     "name": "stderr",
     "output_type": "stream",
     "text": [
      "\rDictNBHDTransformer fit stage 2:  93%|█████████▎| 6475049/6997831 [00:44<00:03, 146738.07it/s]"
     ]
    },
    {
     "name": "stderr",
     "output_type": "stream",
     "text": [
      "\rDictNBHDTransformer fit stage 2:  93%|█████████▎| 6489715/6997831 [00:44<00:03, 146730.97it/s]"
     ]
    },
    {
     "name": "stderr",
     "output_type": "stream",
     "text": [
      "\rDictNBHDTransformer fit stage 2:  93%|█████████▎| 6504773/6997831 [00:44<00:03, 146739.60it/s]"
     ]
    },
    {
     "name": "stderr",
     "output_type": "stream",
     "text": [
      "\rDictNBHDTransformer fit stage 2:  93%|█████████▎| 6519494/6997831 [00:44<00:03, 146723.54it/s]"
     ]
    },
    {
     "name": "stderr",
     "output_type": "stream",
     "text": [
      "\rDictNBHDTransformer fit stage 2:  93%|█████████▎| 6534157/6997831 [00:44<00:03, 146723.31it/s]"
     ]
    },
    {
     "name": "stderr",
     "output_type": "stream",
     "text": [
      "\rDictNBHDTransformer fit stage 2:  94%|█████████▎| 6548708/6997831 [00:44<00:03, 146715.96it/s]"
     ]
    },
    {
     "name": "stderr",
     "output_type": "stream",
     "text": [
      "\rDictNBHDTransformer fit stage 2:  94%|█████████▍| 6563198/6997831 [00:44<00:02, 146708.89it/s]"
     ]
    },
    {
     "name": "stderr",
     "output_type": "stream",
     "text": [
      "\rDictNBHDTransformer fit stage 2:  94%|█████████▍| 6577649/6997831 [00:44<00:02, 146696.99it/s]"
     ]
    },
    {
     "name": "stderr",
     "output_type": "stream",
     "text": [
      "\rDictNBHDTransformer fit stage 2:  94%|█████████▍| 6592114/6997831 [00:44<00:02, 146692.45it/s]"
     ]
    },
    {
     "name": "stderr",
     "output_type": "stream",
     "text": [
      "\rDictNBHDTransformer fit stage 2:  94%|█████████▍| 6607375/6997831 [00:45<00:02, 146705.56it/s]"
     ]
    },
    {
     "name": "stderr",
     "output_type": "stream",
     "text": [
      "\rDictNBHDTransformer fit stage 2:  95%|█████████▍| 6622028/6997831 [00:45<00:02, 146697.61it/s]"
     ]
    },
    {
     "name": "stderr",
     "output_type": "stream",
     "text": [
      "\rDictNBHDTransformer fit stage 2:  95%|█████████▍| 6637293/6997831 [00:45<00:02, 146710.79it/s]"
     ]
    },
    {
     "name": "stderr",
     "output_type": "stream",
     "text": [
      "\rDictNBHDTransformer fit stage 2:  95%|█████████▌| 6652060/6997831 [00:45<00:02, 146707.90it/s]"
     ]
    },
    {
     "name": "stderr",
     "output_type": "stream",
     "text": [
      "\rDictNBHDTransformer fit stage 2:  95%|█████████▌| 6666759/6997831 [00:45<00:02, 146702.51it/s]"
     ]
    },
    {
     "name": "stderr",
     "output_type": "stream",
     "text": [
      "\rDictNBHDTransformer fit stage 2:  95%|█████████▌| 6681530/6997831 [00:45<00:02, 146704.76it/s]"
     ]
    },
    {
     "name": "stderr",
     "output_type": "stream",
     "text": [
      "\rDictNBHDTransformer fit stage 2:  96%|█████████▌| 6696316/6997831 [00:45<00:02, 146707.27it/s]"
     ]
    },
    {
     "name": "stderr",
     "output_type": "stream",
     "text": [
      "\rDictNBHDTransformer fit stage 2:  96%|█████████▌| 6711017/6997831 [00:45<00:01, 146701.50it/s]"
     ]
    },
    {
     "name": "stderr",
     "output_type": "stream",
     "text": [
      "\rDictNBHDTransformer fit stage 2:  96%|█████████▌| 6726365/6997831 [00:45<00:01, 146716.26it/s]"
     ]
    },
    {
     "name": "stderr",
     "output_type": "stream",
     "text": [
      "\rDictNBHDTransformer fit stage 2:  96%|█████████▋| 6741200/6997831 [00:45<00:01, 146711.84it/s]"
     ]
    },
    {
     "name": "stderr",
     "output_type": "stream",
     "text": [
      "\rDictNBHDTransformer fit stage 2:  97%|█████████▋| 6756433/6997831 [00:46<00:01, 146724.04it/s]"
     ]
    },
    {
     "name": "stderr",
     "output_type": "stream",
     "text": [
      "\rDictNBHDTransformer fit stage 2:  97%|█████████▋| 6771740/6997831 [00:46<00:01, 146737.77it/s]"
     ]
    },
    {
     "name": "stderr",
     "output_type": "stream",
     "text": [
      "\rDictNBHDTransformer fit stage 2:  97%|█████████▋| 6786747/6997831 [00:46<00:01, 146721.16it/s]"
     ]
    },
    {
     "name": "stderr",
     "output_type": "stream",
     "text": [
      "\rDictNBHDTransformer fit stage 2:  97%|█████████▋| 6801440/6997831 [00:46<00:01, 146711.18it/s]"
     ]
    },
    {
     "name": "stderr",
     "output_type": "stream",
     "text": [
      "\rDictNBHDTransformer fit stage 2:  97%|█████████▋| 6816627/6997831 [00:46<00:01, 146722.26it/s]"
     ]
    },
    {
     "name": "stderr",
     "output_type": "stream",
     "text": [
      "\rDictNBHDTransformer fit stage 2:  98%|█████████▊| 6831568/6997831 [00:46<00:01, 146728.02it/s]"
     ]
    },
    {
     "name": "stderr",
     "output_type": "stream",
     "text": [
      "\rDictNBHDTransformer fit stage 2:  98%|█████████▊| 6846487/6997831 [00:46<00:01, 146733.26it/s]"
     ]
    },
    {
     "name": "stderr",
     "output_type": "stream",
     "text": [
      "\rDictNBHDTransformer fit stage 2:  98%|█████████▊| 6861324/6997831 [00:46<00:00, 146726.22it/s]"
     ]
    },
    {
     "name": "stderr",
     "output_type": "stream",
     "text": [
      "\rDictNBHDTransformer fit stage 2:  98%|█████████▊| 6876578/6997831 [00:46<00:00, 146738.62it/s]"
     ]
    },
    {
     "name": "stderr",
     "output_type": "stream",
     "text": [
      "\rDictNBHDTransformer fit stage 2:  98%|█████████▊| 6891439/6997831 [00:46<00:00, 146736.97it/s]"
     ]
    },
    {
     "name": "stderr",
     "output_type": "stream",
     "text": [
      "\rDictNBHDTransformer fit stage 2:  99%|█████████▊| 6906221/6997831 [00:47<00:00, 146738.39it/s]"
     ]
    },
    {
     "name": "stderr",
     "output_type": "stream",
     "text": [
      "\rDictNBHDTransformer fit stage 2:  99%|█████████▉| 6920991/6997831 [00:47<00:00, 146740.28it/s]"
     ]
    },
    {
     "name": "stderr",
     "output_type": "stream",
     "text": [
      "\rDictNBHDTransformer fit stage 2:  99%|█████████▉| 6936203/6997831 [00:47<00:00, 146751.65it/s]"
     ]
    },
    {
     "name": "stderr",
     "output_type": "stream",
     "text": [
      "\rDictNBHDTransformer fit stage 2:  99%|█████████▉| 6951108/6997831 [00:47<00:00, 146756.49it/s]"
     ]
    },
    {
     "name": "stderr",
     "output_type": "stream",
     "text": [
      "\rDictNBHDTransformer fit stage 2: 100%|█████████▉| 6966010/6997831 [00:47<00:00, 146757.87it/s]"
     ]
    },
    {
     "name": "stderr",
     "output_type": "stream",
     "text": [
      "\rDictNBHDTransformer fit stage 2: 100%|█████████▉| 6981044/6997831 [00:47<00:00, 146765.37it/s]"
     ]
    },
    {
     "name": "stderr",
     "output_type": "stream",
     "text": [
      "\rDictNBHDTransformer fit stage 2: 100%|█████████▉| 6995952/6997831 [00:47<00:00, 146767.22it/s]"
     ]
    },
    {
     "name": "stderr",
     "output_type": "stream",
     "text": [
      "\rDictNBHDTransformer fit stage 2: 100%|██████████| 6997831/6997831 [00:47<00:00, 146761.36it/s]"
     ]
    },
    {
     "name": "stderr",
     "output_type": "stream",
     "text": [
      "\n\rDashTransformer transform:   0%|          | 0/1057451 [00:00<?, ?it/s]"
     ]
    },
    {
     "name": "stderr",
     "output_type": "stream",
     "text": [
      "\rDashTransformer transform:  10%|█         | 106779/1057451 [00:00<00:00, 1067447.44it/s]"
     ]
    },
    {
     "name": "stderr",
     "output_type": "stream",
     "text": [
      "\rDashTransformer transform:  21%|██        | 219749/1057451 [00:00<00:00, 1098564.01it/s]"
     ]
    },
    {
     "name": "stderr",
     "output_type": "stream",
     "text": [
      "\rDashTransformer transform:  32%|███▏      | 340893/1057451 [00:00<00:00, 1136177.45it/s]"
     ]
    },
    {
     "name": "stderr",
     "output_type": "stream",
     "text": [
      "\rDashTransformer transform:  45%|████▍     | 471587/1057451 [00:00<00:00, 1178867.44it/s]"
     ]
    },
    {
     "name": "stderr",
     "output_type": "stream",
     "text": [
      "\rDashTransformer transform:  57%|█████▋    | 604495/1057451 [00:00<00:00, 1208910.45it/s]"
     ]
    },
    {
     "name": "stderr",
     "output_type": "stream",
     "text": [
      "\rDashTransformer transform:  71%|███████   | 746819/1057451 [00:00<00:00, 1244619.40it/s]"
     ]
    },
    {
     "name": "stderr",
     "output_type": "stream",
     "text": [
      "\rDashTransformer transform:  85%|████████▍ | 894110/1057451 [00:00<00:00, 1277239.88it/s]"
     ]
    },
    {
     "name": "stderr",
     "output_type": "stream",
     "text": [
      "\rDashTransformer transform:  99%|█████████▉| 1048330/1057451 [00:00<00:00, 1310353.22it/s]"
     ]
    },
    {
     "name": "stderr",
     "output_type": "stream",
     "text": [
      "\rDashTransformer transform: 100%|██████████| 1057451/1057451 [00:00<00:00, 1294672.51it/s]"
     ]
    },
    {
     "name": "stderr",
     "output_type": "stream",
     "text": [
      "\n"
     ]
    },
    {
     "name": "stderr",
     "output_type": "stream",
     "text": [
      "\rDigitTransformer transform:   0%|          | 0/1057451 [00:00<?, ?it/s]"
     ]
    },
    {
     "name": "stderr",
     "output_type": "stream",
     "text": [
      "\rDigitTransformer transform:   5%|▌         | 57551/1057451 [00:00<00:01, 575366.51it/s]"
     ]
    },
    {
     "name": "stderr",
     "output_type": "stream",
     "text": [
      "\rDigitTransformer transform:  13%|█▎        | 135814/1057451 [00:00<00:01, 678937.10it/s]"
     ]
    },
    {
     "name": "stderr",
     "output_type": "stream",
     "text": [
      "\rDigitTransformer transform:  21%|██        | 217501/1057451 [00:00<00:01, 724913.58it/s]"
     ]
    },
    {
     "name": "stderr",
     "output_type": "stream",
     "text": [
      "\rDigitTransformer transform:  29%|██▉       | 305460/1057451 [00:00<00:00, 763596.57it/s]"
     ]
    },
    {
     "name": "stderr",
     "output_type": "stream",
     "text": [
      "\rDigitTransformer transform:  37%|███▋      | 388594/1057451 [00:00<00:00, 777144.27it/s]"
     ]
    },
    {
     "name": "stderr",
     "output_type": "stream",
     "text": [
      "\rDigitTransformer transform:  46%|████▌     | 482860/1057451 [00:00<00:00, 804725.22it/s]"
     ]
    },
    {
     "name": "stderr",
     "output_type": "stream",
     "text": [
      "\rDigitTransformer transform:  55%|█████▌    | 581772/1057451 [00:00<00:00, 831057.51it/s]"
     ]
    },
    {
     "name": "stderr",
     "output_type": "stream",
     "text": [
      "\rDigitTransformer transform:  64%|██████▍   | 675574/1057451 [00:00<00:00, 844425.02it/s]"
     ]
    },
    {
     "name": "stderr",
     "output_type": "stream",
     "text": [
      "\rDigitTransformer transform:  73%|███████▎  | 776566/1057451 [00:00<00:00, 862814.68it/s]"
     ]
    },
    {
     "name": "stderr",
     "output_type": "stream",
     "text": [
      "\rDigitTransformer transform:  83%|████████▎ | 881993/1057451 [00:01<00:00, 881961.25it/s]"
     ]
    },
    {
     "name": "stderr",
     "output_type": "stream",
     "text": [
      "\rDigitTransformer transform:  92%|█████████▏| 976950/1057451 [00:02<00:00, 359896.43it/s]"
     ]
    },
    {
     "name": "stderr",
     "output_type": "stream",
     "text": [
      "\rDigitTransformer transform: 100%|██████████| 1057451/1057451 [00:02<00:00, 376839.15it/s]"
     ]
    },
    {
     "name": "stderr",
     "output_type": "stream",
     "text": [
      "\n"
     ]
    },
    {
     "name": "stderr",
     "output_type": "stream",
     "text": [
      "\rDictClassTransformer transform:   0%|          | 0/1057451 [00:00<?, ?it/s]"
     ]
    },
    {
     "name": "stderr",
     "output_type": "stream",
     "text": [
      "\rDictClassTransformer transform:   7%|▋         | 79274/1057451 [00:00<00:01, 792517.79it/s]"
     ]
    },
    {
     "name": "stderr",
     "output_type": "stream",
     "text": [
      "\rDictClassTransformer transform:  17%|█▋        | 183297/1057451 [00:00<00:00, 916288.17it/s]"
     ]
    },
    {
     "name": "stderr",
     "output_type": "stream",
     "text": [
      "\rDictClassTransformer transform:  29%|██▊       | 302047/1057451 [00:00<00:00, 1006719.48it/s]"
     ]
    },
    {
     "name": "stderr",
     "output_type": "stream",
     "text": [
      "\rDictClassTransformer transform:  41%|████      | 431717/1057451 [00:00<00:00, 1079208.62it/s]"
     ]
    },
    {
     "name": "stderr",
     "output_type": "stream",
     "text": [
      "\rDictClassTransformer transform:  53%|█████▎    | 560513/1057451 [00:00<00:00, 1120953.84it/s]"
     ]
    },
    {
     "name": "stderr",
     "output_type": "stream",
     "text": [
      "\rDictClassTransformer transform:  65%|██████▌   | 692020/1057451 [00:00<00:00, 1153299.48it/s]"
     ]
    },
    {
     "name": "stderr",
     "output_type": "stream",
     "text": [
      "\rDictClassTransformer transform:  78%|███████▊  | 823304/1057451 [00:00<00:00, 1176092.81it/s]"
     ]
    },
    {
     "name": "stderr",
     "output_type": "stream",
     "text": [
      "\rDictClassTransformer transform:  91%|█████████▏| 967537/1057451 [00:00<00:00, 1209368.34it/s]"
     ]
    },
    {
     "name": "stderr",
     "output_type": "stream",
     "text": [
      "\rDictClassTransformer transform: 100%|██████████| 1057451/1057451 [00:00<00:00, 1220739.40it/s]"
     ]
    },
    {
     "name": "stderr",
     "output_type": "stream",
     "text": [
      "\n"
     ]
    },
    {
     "name": "stderr",
     "output_type": "stream",
     "text": [
      "\rDictClassTransformer transform:   0%|          | 0/1057451 [00:00<?, ?it/s]"
     ]
    },
    {
     "name": "stderr",
     "output_type": "stream",
     "text": [
      "\rDictClassTransformer transform:   7%|▋         | 77759/1057451 [00:00<00:01, 777340.54it/s]"
     ]
    },
    {
     "name": "stderr",
     "output_type": "stream",
     "text": [
      "\rDictClassTransformer transform:  18%|█▊        | 191400/1057451 [00:00<00:00, 956808.15it/s]"
     ]
    },
    {
     "name": "stderr",
     "output_type": "stream",
     "text": [
      "\rDictClassTransformer transform:  30%|██▉       | 312773/1057451 [00:00<00:00, 1042464.99it/s]"
     ]
    },
    {
     "name": "stderr",
     "output_type": "stream",
     "text": [
      "\rDictClassTransformer transform:  42%|████▏     | 439291/1057451 [00:00<00:00, 1098142.15it/s]"
     ]
    },
    {
     "name": "stderr",
     "output_type": "stream",
     "text": [
      "\rDictClassTransformer transform:  54%|█████▍    | 574473/1057451 [00:00<00:00, 1148858.35it/s]"
     ]
    },
    {
     "name": "stderr",
     "output_type": "stream",
     "text": [
      "\rDictClassTransformer transform:  67%|██████▋   | 712602/1057451 [00:00<00:00, 1187604.59it/s]"
     ]
    },
    {
     "name": "stderr",
     "output_type": "stream",
     "text": [
      "\rDictClassTransformer transform:  81%|████████▏ | 859758/1057451 [00:00<00:00, 1228169.58it/s]"
     ]
    },
    {
     "name": "stderr",
     "output_type": "stream",
     "text": [
      "\rDictClassTransformer transform:  95%|█████████▌| 1005569/1057451 [00:00<00:00, 1256881.16it/s]"
     ]
    },
    {
     "name": "stderr",
     "output_type": "stream",
     "text": [
      "\rDictClassTransformer transform: 100%|██████████| 1057451/1057451 [00:00<00:00, 1246326.50it/s]"
     ]
    },
    {
     "name": "stderr",
     "output_type": "stream",
     "text": [
      "\n"
     ]
    },
    {
     "name": "stderr",
     "output_type": "stream",
     "text": [
      "\rMorphologyExtractor transform:   0%|          | 0/1057451 [00:00<?, ?it/s]"
     ]
    },
    {
     "name": "stderr",
     "output_type": "stream",
     "text": [
      "\rMorphologyExtractor transform:   0%|          | 1900/1057451 [00:00<00:55, 18991.82it/s]"
     ]
    },
    {
     "name": "stderr",
     "output_type": "stream",
     "text": [
      "\rMorphologyExtractor transform:   0%|          | 3877/1057451 [00:00<00:55, 18906.46it/s]"
     ]
    },
    {
     "name": "stderr",
     "output_type": "stream",
     "text": [
      "\rMorphologyExtractor transform:   1%|          | 6931/1057451 [00:00<00:46, 22714.30it/s]"
     ]
    },
    {
     "name": "stderr",
     "output_type": "stream",
     "text": [
      "\rMorphologyExtractor transform:   1%|          | 9989/1057451 [00:00<00:42, 24654.27it/s]"
     ]
    },
    {
     "name": "stderr",
     "output_type": "stream",
     "text": [
      "\rMorphologyExtractor transform:   1%|▏         | 13386/1057451 [00:00<00:39, 26497.69it/s]"
     ]
    },
    {
     "name": "stderr",
     "output_type": "stream",
     "text": [
      "\rMorphologyExtractor transform:   2%|▏         | 16586/1057451 [00:00<00:37, 27405.90it/s]"
     ]
    },
    {
     "name": "stderr",
     "output_type": "stream",
     "text": [
      "\rMorphologyExtractor transform:   2%|▏         | 20080/1057451 [00:00<00:36, 28473.10it/s]"
     ]
    },
    {
     "name": "stderr",
     "output_type": "stream",
     "text": [
      "\rMorphologyExtractor transform:   2%|▏         | 24150/1057451 [00:00<00:34, 29989.16it/s]"
     ]
    },
    {
     "name": "stderr",
     "output_type": "stream",
     "text": [
      "\rMorphologyExtractor transform:   3%|▎         | 28101/1057451 [00:00<00:33, 31040.47it/s]"
     ]
    },
    {
     "name": "stderr",
     "output_type": "stream",
     "text": [
      "\rMorphologyExtractor transform:   3%|▎         | 32371/1057451 [00:01<00:31, 32200.08it/s]"
     ]
    },
    {
     "name": "stderr",
     "output_type": "stream",
     "text": [
      "\rMorphologyExtractor transform:   3%|▎         | 36715/1057451 [00:01<00:30, 33214.28it/s]"
     ]
    },
    {
     "name": "stderr",
     "output_type": "stream",
     "text": [
      "\rMorphologyExtractor transform:   4%|▍         | 40903/1057451 [00:01<00:29, 33931.87it/s]"
     ]
    },
    {
     "name": "stderr",
     "output_type": "stream",
     "text": [
      "\rMorphologyExtractor transform:   4%|▍         | 45418/1057451 [00:01<00:29, 34790.43it/s]"
     ]
    },
    {
     "name": "stderr",
     "output_type": "stream",
     "text": [
      "\rMorphologyExtractor transform:   5%|▍         | 49921/1057451 [00:01<00:28, 35518.14it/s]"
     ]
    },
    {
     "name": "stderr",
     "output_type": "stream",
     "text": [
      "\rMorphologyExtractor transform:   5%|▌         | 54445/1057451 [00:01<00:27, 36162.76it/s]"
     ]
    },
    {
     "name": "stderr",
     "output_type": "stream",
     "text": [
      "\rMorphologyExtractor transform:   6%|▌         | 59069/1057451 [00:01<00:27, 36790.30it/s]"
     ]
    },
    {
     "name": "stderr",
     "output_type": "stream",
     "text": [
      "\rMorphologyExtractor transform:   6%|▌         | 63489/1057451 [00:01<00:26, 37008.34it/s]"
     ]
    },
    {
     "name": "stderr",
     "output_type": "stream",
     "text": [
      "\rMorphologyExtractor transform:   6%|▋         | 67789/1057451 [00:01<00:26, 37315.08it/s]"
     ]
    },
    {
     "name": "stderr",
     "output_type": "stream",
     "text": [
      "\rMorphologyExtractor transform:   7%|▋         | 72188/1057451 [00:01<00:26, 37662.10it/s]"
     ]
    },
    {
     "name": "stderr",
     "output_type": "stream",
     "text": [
      "\rMorphologyExtractor transform:   7%|▋         | 77179/1057451 [00:02<00:25, 38265.44it/s]"
     ]
    },
    {
     "name": "stderr",
     "output_type": "stream",
     "text": [
      "\rMorphologyExtractor transform:   8%|▊         | 81917/1057451 [00:02<00:25, 38693.86it/s]"
     ]
    },
    {
     "name": "stderr",
     "output_type": "stream",
     "text": [
      "\rMorphologyExtractor transform:   8%|▊         | 86561/1057451 [00:02<00:24, 39042.88it/s]"
     ]
    },
    {
     "name": "stderr",
     "output_type": "stream",
     "text": [
      "\rMorphologyExtractor transform:   9%|▊         | 91162/1057451 [00:02<00:24, 39329.87it/s]"
     ]
    },
    {
     "name": "stderr",
     "output_type": "stream",
     "text": [
      "\rMorphologyExtractor transform:   9%|▉         | 95958/1057451 [00:02<00:24, 39686.52it/s]"
     ]
    },
    {
     "name": "stderr",
     "output_type": "stream",
     "text": [
      "\rMorphologyExtractor transform:  10%|▉         | 100653/1057451 [00:02<00:23, 39975.17it/s]"
     ]
    },
    {
     "name": "stderr",
     "output_type": "stream",
     "text": [
      "\rMorphologyExtractor transform:  10%|▉         | 105500/1057451 [00:02<00:23, 40299.58it/s]"
     ]
    },
    {
     "name": "stderr",
     "output_type": "stream",
     "text": [
      "\rMorphologyExtractor transform:  10%|█         | 110729/1057451 [00:02<00:23, 40740.40it/s]"
     ]
    },
    {
     "name": "stderr",
     "output_type": "stream",
     "text": [
      "\rMorphologyExtractor transform:  11%|█         | 115601/1057451 [00:02<00:22, 41020.10it/s]"
     ]
    },
    {
     "name": "stderr",
     "output_type": "stream",
     "text": [
      "\rMorphologyExtractor transform:  11%|█▏        | 121035/1057451 [00:02<00:22, 41475.95it/s]"
     ]
    },
    {
     "name": "stderr",
     "output_type": "stream",
     "text": [
      "\rMorphologyExtractor transform:  12%|█▏        | 126374/1057451 [00:03<00:22, 41869.30it/s]"
     ]
    },
    {
     "name": "stderr",
     "output_type": "stream",
     "text": [
      "\rMorphologyExtractor transform:  12%|█▏        | 131501/1057451 [00:03<00:21, 42133.00it/s]"
     ]
    },
    {
     "name": "stderr",
     "output_type": "stream",
     "text": [
      "\rMorphologyExtractor transform:  13%|█▎        | 136608/1057451 [00:03<00:21, 42408.79it/s]"
     ]
    },
    {
     "name": "stderr",
     "output_type": "stream",
     "text": [
      "\rMorphologyExtractor transform:  13%|█▎        | 142104/1057451 [00:03<00:21, 42785.33it/s]"
     ]
    },
    {
     "name": "stderr",
     "output_type": "stream",
     "text": [
      "\rMorphologyExtractor transform:  14%|█▍        | 147314/1057451 [00:03<00:21, 43036.60it/s]"
     ]
    },
    {
     "name": "stderr",
     "output_type": "stream",
     "text": [
      "\rMorphologyExtractor transform:  14%|█▍        | 152499/1057451 [00:03<00:20, 43223.11it/s]"
     ]
    },
    {
     "name": "stderr",
     "output_type": "stream",
     "text": [
      "\rMorphologyExtractor transform:  15%|█▍        | 157819/1057451 [00:03<00:20, 43496.96it/s]"
     ]
    },
    {
     "name": "stderr",
     "output_type": "stream",
     "text": [
      "\rMorphologyExtractor transform:  15%|█▌        | 162989/1057451 [00:03<00:20, 43699.97it/s]"
     ]
    },
    {
     "name": "stderr",
     "output_type": "stream",
     "text": [
      "\rMorphologyExtractor transform:  16%|█▌        | 168560/1057451 [00:03<00:20, 44013.58it/s]"
     ]
    },
    {
     "name": "stderr",
     "output_type": "stream",
     "text": [
      "\rMorphologyExtractor transform:  16%|█▋        | 174164/1057451 [00:03<00:19, 44319.25it/s]"
     ]
    },
    {
     "name": "stderr",
     "output_type": "stream",
     "text": [
      "\rMorphologyExtractor transform:  17%|█▋        | 179537/1057451 [00:04<00:19, 44507.21it/s]"
     ]
    },
    {
     "name": "stderr",
     "output_type": "stream",
     "text": [
      "\rMorphologyExtractor transform:  18%|█▊        | 185105/1057451 [00:04<00:19, 44777.10it/s]"
     ]
    },
    {
     "name": "stderr",
     "output_type": "stream",
     "text": [
      "\rMorphologyExtractor transform:  18%|█▊        | 190692/1057451 [00:04<00:19, 45038.81it/s]"
     ]
    },
    {
     "name": "stderr",
     "output_type": "stream",
     "text": [
      "\rMorphologyExtractor transform:  19%|█▊        | 196670/1057451 [00:04<00:18, 45378.96it/s]"
     ]
    },
    {
     "name": "stderr",
     "output_type": "stream",
     "text": [
      "\rMorphologyExtractor transform:  19%|█▉        | 202276/1057451 [00:04<00:18, 45607.47it/s]"
     ]
    },
    {
     "name": "stderr",
     "output_type": "stream",
     "text": [
      "\rMorphologyExtractor transform:  20%|█▉        | 208010/1057451 [00:04<00:18, 45865.41it/s]"
     ]
    },
    {
     "name": "stderr",
     "output_type": "stream",
     "text": [
      "\rMorphologyExtractor transform:  20%|██        | 213751/1057451 [00:04<00:18, 46114.30it/s]"
     ]
    },
    {
     "name": "stderr",
     "output_type": "stream",
     "text": [
      "\rMorphologyExtractor transform:  21%|██        | 219414/1057451 [00:04<00:18, 46275.24it/s]"
     ]
    },
    {
     "name": "stderr",
     "output_type": "stream",
     "text": [
      "\rMorphologyExtractor transform:  21%|██▏       | 224977/1057451 [00:04<00:17, 46274.18it/s]"
     ]
    },
    {
     "name": "stderr",
     "output_type": "stream",
     "text": [
      "\rMorphologyExtractor transform:  22%|██▏       | 230310/1057451 [00:04<00:17, 46416.33it/s]"
     ]
    },
    {
     "name": "stderr",
     "output_type": "stream",
     "text": [
      "\rMorphologyExtractor transform:  22%|██▏       | 236137/1057451 [00:05<00:17, 46650.12it/s]"
     ]
    },
    {
     "name": "stderr",
     "output_type": "stream",
     "text": [
      "\rMorphologyExtractor transform:  23%|██▎       | 241865/1057451 [00:05<00:17, 46856.01it/s]"
     ]
    },
    {
     "name": "stderr",
     "output_type": "stream",
     "text": [
      "\rMorphologyExtractor transform:  23%|██▎       | 247986/1057451 [00:05<00:17, 47128.22it/s]"
     ]
    },
    {
     "name": "stderr",
     "output_type": "stream",
     "text": [
      "\rMorphologyExtractor transform:  24%|██▍       | 253769/1057451 [00:05<00:16, 47327.24it/s]"
     ]
    },
    {
     "name": "stderr",
     "output_type": "stream",
     "text": [
      "\rMorphologyExtractor transform:  25%|██▍       | 260292/1057451 [00:05<00:16, 47652.35it/s]"
     ]
    },
    {
     "name": "stderr",
     "output_type": "stream",
     "text": [
      "\rMorphologyExtractor transform:  25%|██▌       | 266770/1057451 [00:05<00:16, 47959.51it/s]"
     ]
    },
    {
     "name": "stderr",
     "output_type": "stream",
     "text": [
      "\rMorphologyExtractor transform:  26%|██▌       | 273008/1057451 [00:05<00:16, 48214.20it/s]"
     ]
    },
    {
     "name": "stderr",
     "output_type": "stream",
     "text": [
      "\rMorphologyExtractor transform:  26%|██▋       | 279161/1057451 [00:05<00:16, 48404.96it/s]"
     ]
    },
    {
     "name": "stderr",
     "output_type": "stream",
     "text": [
      "\rMorphologyExtractor transform:  27%|██▋       | 285243/1057451 [00:05<00:15, 48615.93it/s]"
     ]
    },
    {
     "name": "stderr",
     "output_type": "stream",
     "text": [
      "\rMorphologyExtractor transform:  28%|██▊       | 291315/1057451 [00:05<00:15, 48710.38it/s]"
     ]
    },
    {
     "name": "stderr",
     "output_type": "stream",
     "text": [
      "\rMorphologyExtractor transform:  28%|██▊       | 297449/1057451 [00:06<00:15, 48917.79it/s]"
     ]
    },
    {
     "name": "stderr",
     "output_type": "stream",
     "text": [
      "\rMorphologyExtractor transform:  29%|██▊       | 303559/1057451 [00:06<00:15, 49113.31it/s]"
     ]
    },
    {
     "name": "stderr",
     "output_type": "stream",
     "text": [
      "\rMorphologyExtractor transform:  29%|██▉       | 309711/1057451 [00:06<00:15, 49310.83it/s]"
     ]
    },
    {
     "name": "stderr",
     "output_type": "stream",
     "text": [
      "\rMorphologyExtractor transform:  30%|██▉       | 316142/1057451 [00:06<00:14, 49545.86it/s]"
     ]
    },
    {
     "name": "stderr",
     "output_type": "stream",
     "text": [
      "\rMorphologyExtractor transform:  31%|███       | 322528/1057451 [00:06<00:14, 49766.46it/s]"
     ]
    },
    {
     "name": "stderr",
     "output_type": "stream",
     "text": [
      "\rMorphologyExtractor transform:  31%|███       | 328752/1057451 [00:06<00:14, 49916.34it/s]"
     ]
    },
    {
     "name": "stderr",
     "output_type": "stream",
     "text": [
      "\rMorphologyExtractor transform:  32%|███▏      | 334884/1057451 [00:06<00:14, 50084.51it/s]"
     ]
    },
    {
     "name": "stderr",
     "output_type": "stream",
     "text": [
      "\rMorphologyExtractor transform:  32%|███▏      | 341100/1057451 [00:06<00:14, 50262.39it/s]"
     ]
    },
    {
     "name": "stderr",
     "output_type": "stream",
     "text": [
      "\rMorphologyExtractor transform:  33%|███▎      | 347253/1057451 [00:06<00:14, 50416.99it/s]"
     ]
    },
    {
     "name": "stderr",
     "output_type": "stream",
     "text": [
      "\rMorphologyExtractor transform:  33%|███▎      | 353394/1057451 [00:06<00:13, 50574.32it/s]"
     ]
    },
    {
     "name": "stderr",
     "output_type": "stream",
     "text": [
      "\rMorphologyExtractor transform:  34%|███▍      | 360345/1057451 [00:07<00:13, 50841.47it/s]"
     ]
    },
    {
     "name": "stderr",
     "output_type": "stream",
     "text": [
      "\rMorphologyExtractor transform:  35%|███▍      | 366724/1057451 [00:07<00:13, 50929.50it/s]"
     ]
    },
    {
     "name": "stderr",
     "output_type": "stream",
     "text": [
      "\rMorphologyExtractor transform:  35%|███▌      | 373437/1057451 [00:07<00:13, 51150.80it/s]"
     ]
    },
    {
     "name": "stderr",
     "output_type": "stream",
     "text": [
      "\rMorphologyExtractor transform:  36%|███▌      | 379761/1057451 [00:07<00:13, 51309.70it/s]"
     ]
    },
    {
     "name": "stderr",
     "output_type": "stream",
     "text": [
      "\rMorphologyExtractor transform:  37%|███▋      | 386220/1057451 [00:07<00:13, 51486.44it/s]"
     ]
    },
    {
     "name": "stderr",
     "output_type": "stream",
     "text": [
      "\rMorphologyExtractor transform:  37%|███▋      | 392575/1057451 [00:07<00:12, 51638.19it/s]"
     ]
    },
    {
     "name": "stderr",
     "output_type": "stream",
     "text": [
      "\rMorphologyExtractor transform:  38%|███▊      | 398932/1057451 [00:07<00:12, 51791.52it/s]"
     ]
    },
    {
     "name": "stderr",
     "output_type": "stream",
     "text": [
      "\rMorphologyExtractor transform:  38%|███▊      | 405270/1057451 [00:07<00:12, 51883.28it/s]"
     ]
    },
    {
     "name": "stderr",
     "output_type": "stream",
     "text": [
      "\rMorphologyExtractor transform:  39%|███▉      | 412125/1057451 [00:07<00:12, 52093.64it/s]"
     ]
    },
    {
     "name": "stderr",
     "output_type": "stream",
     "text": [
      "\rMorphologyExtractor transform:  40%|███▉      | 418605/1057451 [00:08<00:12, 52252.27it/s]"
     ]
    },
    {
     "name": "stderr",
     "output_type": "stream",
     "text": [
      "\rMorphologyExtractor transform:  40%|████      | 425212/1057451 [00:08<00:12, 52422.58it/s]"
     ]
    },
    {
     "name": "stderr",
     "output_type": "stream",
     "text": [
      "\rMorphologyExtractor transform:  41%|████      | 431941/1057451 [00:08<00:11, 52603.63it/s]"
     ]
    },
    {
     "name": "stderr",
     "output_type": "stream",
     "text": [
      "\rMorphologyExtractor transform:  41%|████▏     | 438491/1057451 [00:08<00:11, 52754.91it/s]"
     ]
    },
    {
     "name": "stderr",
     "output_type": "stream",
     "text": [
      "\rMorphologyExtractor transform:  42%|████▏     | 445062/1057451 [00:08<00:11, 52908.93it/s]"
     ]
    },
    {
     "name": "stderr",
     "output_type": "stream",
     "text": [
      "\rMorphologyExtractor transform:  43%|████▎     | 451965/1057451 [00:08<00:11, 53098.29it/s]"
     ]
    },
    {
     "name": "stderr",
     "output_type": "stream",
     "text": [
      "\rMorphologyExtractor transform:  43%|████▎     | 459017/1057451 [00:08<00:11, 53299.97it/s]"
     ]
    },
    {
     "name": "stderr",
     "output_type": "stream",
     "text": [
      "\rMorphologyExtractor transform:  44%|████▍     | 466416/1057451 [00:08<00:11, 53536.61it/s]"
     ]
    },
    {
     "name": "stderr",
     "output_type": "stream",
     "text": [
      "\rMorphologyExtractor transform:  45%|████▍     | 473373/1057451 [00:08<00:10, 53706.61it/s]"
     ]
    },
    {
     "name": "stderr",
     "output_type": "stream",
     "text": [
      "\rMorphologyExtractor transform:  45%|████▌     | 480290/1057451 [00:08<00:10, 53878.34it/s]"
     ]
    },
    {
     "name": "stderr",
     "output_type": "stream",
     "text": [
      "\rMorphologyExtractor transform:  46%|████▌     | 487449/1057451 [00:09<00:10, 54074.45it/s]"
     ]
    },
    {
     "name": "stderr",
     "output_type": "stream",
     "text": [
      "\rMorphologyExtractor transform:  47%|████▋     | 494433/1057451 [00:09<00:10, 54234.60it/s]"
     ]
    },
    {
     "name": "stderr",
     "output_type": "stream",
     "text": [
      "\rMorphologyExtractor transform:  47%|████▋     | 501373/1057451 [00:09<00:10, 54338.63it/s]"
     ]
    },
    {
     "name": "stderr",
     "output_type": "stream",
     "text": [
      "\rMorphologyExtractor transform:  48%|████▊     | 508427/1057451 [00:09<00:10, 54511.64it/s]"
     ]
    },
    {
     "name": "stderr",
     "output_type": "stream",
     "text": [
      "\rMorphologyExtractor transform:  49%|████▊     | 515263/1057451 [00:09<00:09, 54656.19it/s]"
     ]
    },
    {
     "name": "stderr",
     "output_type": "stream",
     "text": [
      "\rMorphologyExtractor transform:  49%|████▉     | 522251/1057451 [00:09<00:09, 54815.43it/s]"
     ]
    },
    {
     "name": "stderr",
     "output_type": "stream",
     "text": [
      "\rMorphologyExtractor transform:  50%|█████     | 529339/1057451 [00:09<00:09, 54981.95it/s]"
     ]
    },
    {
     "name": "stderr",
     "output_type": "stream",
     "text": [
      "\rMorphologyExtractor transform:  51%|█████     | 536276/1057451 [00:10<00:09, 52891.17it/s]"
     ]
    },
    {
     "name": "stderr",
     "output_type": "stream",
     "text": [
      "\rMorphologyExtractor transform:  51%|█████▏    | 542982/1057451 [00:10<00:09, 53029.39it/s]"
     ]
    },
    {
     "name": "stderr",
     "output_type": "stream",
     "text": [
      "\rMorphologyExtractor transform:  52%|█████▏    | 550447/1057451 [00:10<00:09, 53237.99it/s]"
     ]
    },
    {
     "name": "stderr",
     "output_type": "stream",
     "text": [
      "\rMorphologyExtractor transform:  53%|█████▎    | 557714/1057451 [00:10<00:09, 53423.28it/s]"
     ]
    },
    {
     "name": "stderr",
     "output_type": "stream",
     "text": [
      "\rMorphologyExtractor transform:  53%|█████▎    | 564868/1057451 [00:10<00:09, 53594.72it/s]"
     ]
    },
    {
     "name": "stderr",
     "output_type": "stream",
     "text": [
      "\rMorphologyExtractor transform:  54%|█████▍    | 572309/1057451 [00:10<00:09, 53790.35it/s]"
     ]
    },
    {
     "name": "stderr",
     "output_type": "stream",
     "text": [
      "\rMorphologyExtractor transform:  55%|█████▍    | 579533/1057451 [00:10<00:08, 53961.95it/s]"
     ]
    },
    {
     "name": "stderr",
     "output_type": "stream",
     "text": [
      "\rMorphologyExtractor transform:  56%|█████▌    | 587643/1057451 [00:10<00:08, 54211.10it/s]"
     ]
    },
    {
     "name": "stderr",
     "output_type": "stream",
     "text": [
      "\rMorphologyExtractor transform:  56%|█████▋    | 595753/1057451 [00:10<00:08, 54456.86it/s]"
     ]
    },
    {
     "name": "stderr",
     "output_type": "stream",
     "text": [
      "\rMorphologyExtractor transform:  57%|█████▋    | 603326/1057451 [00:11<00:08, 54600.48it/s]"
     ]
    },
    {
     "name": "stderr",
     "output_type": "stream",
     "text": [
      "\rMorphologyExtractor transform:  58%|█████▊    | 610694/1057451 [00:11<00:08, 54752.20it/s]"
     ]
    },
    {
     "name": "stderr",
     "output_type": "stream",
     "text": [
      "\rMorphologyExtractor transform:  58%|█████▊    | 618411/1057451 [00:11<00:07, 54951.29it/s]"
     ]
    },
    {
     "name": "stderr",
     "output_type": "stream",
     "text": [
      "\rMorphologyExtractor transform:  59%|█████▉    | 625825/1057451 [00:11<00:07, 55114.81it/s]"
     ]
    },
    {
     "name": "stderr",
     "output_type": "stream",
     "text": [
      "\rMorphologyExtractor transform:  60%|█████▉    | 633214/1057451 [00:11<00:07, 55235.16it/s]"
     ]
    },
    {
     "name": "stderr",
     "output_type": "stream",
     "text": [
      "\rMorphologyExtractor transform:  61%|██████    | 640633/1057451 [00:11<00:07, 55398.82it/s]"
     ]
    },
    {
     "name": "stderr",
     "output_type": "stream",
     "text": [
      "\rMorphologyExtractor transform:  61%|██████▏   | 648045/1057451 [00:11<00:07, 55559.32it/s]"
     ]
    },
    {
     "name": "stderr",
     "output_type": "stream",
     "text": [
      "\rMorphologyExtractor transform:  62%|██████▏   | 655356/1057451 [00:11<00:07, 55703.25it/s]"
     ]
    },
    {
     "name": "stderr",
     "output_type": "stream",
     "text": [
      "\rMorphologyExtractor transform:  63%|██████▎   | 662814/1057451 [00:11<00:07, 55862.21it/s]"
     ]
    },
    {
     "name": "stderr",
     "output_type": "stream",
     "text": [
      "\rMorphologyExtractor transform:  63%|██████▎   | 670152/1057451 [00:11<00:06, 55995.51it/s]"
     ]
    },
    {
     "name": "stderr",
     "output_type": "stream",
     "text": [
      "\rMorphologyExtractor transform:  64%|██████▍   | 677887/1057451 [00:12<00:06, 56172.44it/s]"
     ]
    },
    {
     "name": "stderr",
     "output_type": "stream",
     "text": [
      "\rMorphologyExtractor transform:  65%|██████▍   | 685507/1057451 [00:12<00:06, 56337.08it/s]"
     ]
    },
    {
     "name": "stderr",
     "output_type": "stream",
     "text": [
      "\rMorphologyExtractor transform:  66%|██████▌   | 693327/1057451 [00:12<00:06, 56515.28it/s]"
     ]
    },
    {
     "name": "stderr",
     "output_type": "stream",
     "text": [
      "\rMorphologyExtractor transform:  66%|██████▋   | 700907/1057451 [00:12<00:06, 56636.99it/s]"
     ]
    },
    {
     "name": "stderr",
     "output_type": "stream",
     "text": [
      "\rMorphologyExtractor transform:  67%|██████▋   | 708329/1057451 [00:12<00:06, 56767.12it/s]"
     ]
    },
    {
     "name": "stderr",
     "output_type": "stream",
     "text": [
      "\rMorphologyExtractor transform:  68%|██████▊   | 716206/1057451 [00:12<00:05, 56942.10it/s]"
     ]
    },
    {
     "name": "stderr",
     "output_type": "stream",
     "text": [
      "\rMorphologyExtractor transform:  68%|██████▊   | 724105/1057451 [00:12<00:05, 57116.00it/s]"
     ]
    },
    {
     "name": "stderr",
     "output_type": "stream",
     "text": [
      "\rMorphologyExtractor transform:  69%|██████▉   | 731741/1057451 [00:12<00:05, 57250.82it/s]"
     ]
    },
    {
     "name": "stderr",
     "output_type": "stream",
     "text": [
      "\rMorphologyExtractor transform:  70%|██████▉   | 739625/1057451 [00:12<00:05, 57418.39it/s]"
     ]
    },
    {
     "name": "stderr",
     "output_type": "stream",
     "text": [
      "\rMorphologyExtractor transform:  71%|███████   | 747281/1057451 [00:12<00:05, 57528.97it/s]"
     ]
    },
    {
     "name": "stderr",
     "output_type": "stream",
     "text": [
      "\rMorphologyExtractor transform:  71%|███████▏  | 754761/1057451 [00:13<00:05, 57457.94it/s]"
     ]
    },
    {
     "name": "stderr",
     "output_type": "stream",
     "text": [
      "\rMorphologyExtractor transform:  72%|███████▏  | 762559/1057451 [00:13<00:05, 57612.50it/s]"
     ]
    },
    {
     "name": "stderr",
     "output_type": "stream",
     "text": [
      "\rMorphologyExtractor transform:  73%|███████▎  | 770438/1057451 [00:13<00:04, 57771.25it/s]"
     ]
    },
    {
     "name": "stderr",
     "output_type": "stream",
     "text": [
      "\rMorphologyExtractor transform:  74%|███████▎  | 777853/1057451 [00:13<00:04, 57893.06it/s]"
     ]
    },
    {
     "name": "stderr",
     "output_type": "stream",
     "text": [
      "\rMorphologyExtractor transform:  74%|███████▍  | 785503/1057451 [00:13<00:04, 58030.48it/s]"
     ]
    },
    {
     "name": "stderr",
     "output_type": "stream",
     "text": [
      "\rMorphologyExtractor transform:  75%|███████▌  | 793339/1057451 [00:13<00:04, 58178.33it/s]"
     ]
    },
    {
     "name": "stderr",
     "output_type": "stream",
     "text": [
      "\rMorphologyExtractor transform:  76%|███████▌  | 801242/1057451 [00:13<00:04, 58330.13it/s]"
     ]
    },
    {
     "name": "stderr",
     "output_type": "stream",
     "text": [
      "\rMorphologyExtractor transform:  76%|███████▋  | 808898/1057451 [00:13<00:04, 58433.24it/s]"
     ]
    },
    {
     "name": "stderr",
     "output_type": "stream",
     "text": [
      "\rMorphologyExtractor transform:  77%|███████▋  | 816637/1057451 [00:13<00:04, 58568.92it/s]"
     ]
    },
    {
     "name": "stderr",
     "output_type": "stream",
     "text": [
      "\rMorphologyExtractor transform:  78%|███████▊  | 824213/1057451 [00:14<00:04, 57626.34it/s]"
     ]
    },
    {
     "name": "stderr",
     "output_type": "stream",
     "text": [
      "\rMorphologyExtractor transform:  79%|███████▊  | 831699/1057451 [00:14<00:03, 57745.98it/s]"
     ]
    },
    {
     "name": "stderr",
     "output_type": "stream",
     "text": [
      "\rMorphologyExtractor transform:  79%|███████▉  | 838505/1057451 [00:14<00:03, 57816.60it/s]"
     ]
    },
    {
     "name": "stderr",
     "output_type": "stream",
     "text": [
      "\rMorphologyExtractor transform:  80%|████████  | 846028/1057451 [00:14<00:03, 57935.64it/s]"
     ]
    },
    {
     "name": "stderr",
     "output_type": "stream",
     "text": [
      "\rMorphologyExtractor transform:  81%|████████  | 853829/1057451 [00:14<00:03, 58070.77it/s]"
     ]
    },
    {
     "name": "stderr",
     "output_type": "stream",
     "text": [
      "\rMorphologyExtractor transform:  81%|████████▏ | 860935/1057451 [00:14<00:03, 58153.57it/s]"
     ]
    },
    {
     "name": "stderr",
     "output_type": "stream",
     "text": [
      "\rMorphologyExtractor transform:  82%|████████▏ | 868556/1057451 [00:14<00:03, 58274.21it/s]"
     ]
    },
    {
     "name": "stderr",
     "output_type": "stream",
     "text": [
      "\rMorphologyExtractor transform:  83%|████████▎ | 876751/1057451 [00:15<00:03, 58431.99it/s]"
     ]
    },
    {
     "name": "stderr",
     "output_type": "stream",
     "text": [
      "\rMorphologyExtractor transform:  84%|████████▎ | 884589/1057451 [00:15<00:02, 58564.05it/s]"
     ]
    },
    {
     "name": "stderr",
     "output_type": "stream",
     "text": [
      "\rMorphologyExtractor transform:  84%|████████▍ | 893322/1057451 [00:15<00:02, 58753.12it/s]"
     ]
    },
    {
     "name": "stderr",
     "output_type": "stream",
     "text": [
      "\rMorphologyExtractor transform:  85%|████████▌ | 901275/1057451 [00:15<00:02, 58838.15it/s]"
     ]
    },
    {
     "name": "stderr",
     "output_type": "stream",
     "text": [
      "\rMorphologyExtractor transform:  86%|████████▌ | 909549/1057451 [00:15<00:02, 58993.19it/s]"
     ]
    },
    {
     "name": "stderr",
     "output_type": "stream",
     "text": [
      "\rMorphologyExtractor transform:  87%|████████▋ | 917602/1057451 [00:15<00:02, 59131.95it/s]"
     ]
    },
    {
     "name": "stderr",
     "output_type": "stream",
     "text": [
      "\rMorphologyExtractor transform:  88%|████████▊ | 925516/1057451 [00:15<00:02, 59254.12it/s]"
     ]
    },
    {
     "name": "stderr",
     "output_type": "stream",
     "text": [
      "\rMorphologyExtractor transform:  88%|████████▊ | 933652/1057451 [00:15<00:02, 59394.39it/s]"
     ]
    },
    {
     "name": "stderr",
     "output_type": "stream",
     "text": [
      "\rMorphologyExtractor transform:  89%|████████▉ | 941605/1057451 [00:15<00:01, 59489.63it/s]"
     ]
    },
    {
     "name": "stderr",
     "output_type": "stream",
     "text": [
      "\rMorphologyExtractor transform:  90%|████████▉ | 949648/1057451 [00:15<00:01, 59620.38it/s]"
     ]
    },
    {
     "name": "stderr",
     "output_type": "stream",
     "text": [
      "\rMorphologyExtractor transform:  91%|█████████ | 957493/1057451 [00:16<00:01, 59737.43it/s]"
     ]
    },
    {
     "name": "stderr",
     "output_type": "stream",
     "text": [
      "\rMorphologyExtractor transform:  91%|█████████▏| 965335/1057451 [00:16<00:01, 59844.11it/s]"
     ]
    },
    {
     "name": "stderr",
     "output_type": "stream",
     "text": [
      "\rMorphologyExtractor transform:  92%|█████████▏| 973747/1057451 [00:16<00:01, 59993.49it/s]"
     ]
    },
    {
     "name": "stderr",
     "output_type": "stream",
     "text": [
      "\rMorphologyExtractor transform:  93%|█████████▎| 982065/1057451 [00:16<00:01, 60135.49it/s]"
     ]
    },
    {
     "name": "stderr",
     "output_type": "stream",
     "text": [
      "\rMorphologyExtractor transform:  94%|█████████▎| 990230/1057451 [00:16<00:01, 60266.29it/s]"
     ]
    },
    {
     "name": "stderr",
     "output_type": "stream",
     "text": [
      "\rMorphologyExtractor transform:  94%|█████████▍| 998362/1057451 [00:16<00:00, 60393.58it/s]"
     ]
    },
    {
     "name": "stderr",
     "output_type": "stream",
     "text": [
      "\rMorphologyExtractor transform:  95%|█████████▌| 1007065/1057451 [00:16<00:00, 60553.64it/s]"
     ]
    },
    {
     "name": "stderr",
     "output_type": "stream",
     "text": [
      "\rMorphologyExtractor transform:  96%|█████████▌| 1015616/1057451 [00:16<00:00, 60702.49it/s]"
     ]
    },
    {
     "name": "stderr",
     "output_type": "stream",
     "text": [
      "\rMorphologyExtractor transform:  97%|█████████▋| 1024140/1057451 [00:16<00:00, 60848.00it/s]"
     ]
    },
    {
     "name": "stderr",
     "output_type": "stream",
     "text": [
      "\rMorphologyExtractor transform:  98%|█████████▊| 1032551/1057451 [00:16<00:00, 60975.35it/s]"
     ]
    },
    {
     "name": "stderr",
     "output_type": "stream",
     "text": [
      "\rMorphologyExtractor transform:  98%|█████████▊| 1040894/1057451 [00:17<00:00, 61091.96it/s]"
     ]
    },
    {
     "name": "stderr",
     "output_type": "stream",
     "text": [
      "\rMorphologyExtractor transform:  99%|█████████▉| 1049639/1057451 [00:17<00:00, 61245.64it/s]"
     ]
    },
    {
     "name": "stderr",
     "output_type": "stream",
     "text": [
      "\rMorphologyExtractor transform: 100%|██████████| 1057451/1057451 [00:17<00:00, 61356.90it/s]"
     ]
    },
    {
     "name": "stderr",
     "output_type": "stream",
     "text": [
      "\n"
     ]
    },
    {
     "name": "stderr",
     "output_type": "stream",
     "text": [
      "\rMorphologyExtractor transform:   0%|          | 0/1057451 [00:00<?, ?it/s]"
     ]
    },
    {
     "name": "stderr",
     "output_type": "stream",
     "text": [
      "\rMorphologyExtractor transform:   3%|▎         | 36598/1057451 [00:00<00:02, 365876.54it/s]"
     ]
    },
    {
     "name": "stderr",
     "output_type": "stream",
     "text": [
      "\rMorphologyExtractor transform:   7%|▋         | 71857/1057451 [00:00<00:02, 359233.10it/s]"
     ]
    },
    {
     "name": "stderr",
     "output_type": "stream",
     "text": [
      "\rMorphologyExtractor transform:  10%|█         | 108259/1057451 [00:00<00:02, 360802.03it/s]"
     ]
    },
    {
     "name": "stderr",
     "output_type": "stream",
     "text": [
      "\rMorphologyExtractor transform:  14%|█▍        | 147389/1057451 [00:00<00:02, 368432.01it/s]"
     ]
    },
    {
     "name": "stderr",
     "output_type": "stream",
     "text": [
      "\rMorphologyExtractor transform:  17%|█▋        | 183472/1057451 [00:00<00:02, 366907.26it/s]"
     ]
    },
    {
     "name": "stderr",
     "output_type": "stream",
     "text": [
      "\rMorphologyExtractor transform:  21%|██        | 220663/1057451 [00:00<00:02, 367741.04it/s]"
     ]
    },
    {
     "name": "stderr",
     "output_type": "stream",
     "text": [
      "\rMorphologyExtractor transform:  24%|██▍       | 258078/1057451 [00:00<00:02, 368652.82it/s]"
     ]
    },
    {
     "name": "stderr",
     "output_type": "stream",
     "text": [
      "\rMorphologyExtractor transform:  28%|██▊       | 295797/1057451 [00:00<00:02, 369715.75it/s]"
     ]
    },
    {
     "name": "stderr",
     "output_type": "stream",
     "text": [
      "\rMorphologyExtractor transform:  32%|███▏      | 335500/1057451 [00:00<00:01, 372752.56it/s]"
     ]
    },
    {
     "name": "stderr",
     "output_type": "stream",
     "text": [
      "\rMorphologyExtractor transform:  35%|███▌      | 373625/1057451 [00:01<00:01, 373601.48it/s]"
     ]
    },
    {
     "name": "stderr",
     "output_type": "stream",
     "text": [
      "\rMorphologyExtractor transform:  39%|███▉      | 413235/1057451 [00:01<00:01, 375645.99it/s]"
     ]
    },
    {
     "name": "stderr",
     "output_type": "stream",
     "text": [
      "\rMorphologyExtractor transform:  43%|████▎     | 454627/1057451 [00:01<00:01, 378834.29it/s]"
     ]
    },
    {
     "name": "stderr",
     "output_type": "stream",
     "text": [
      "\rMorphologyExtractor transform:  47%|████▋     | 494791/1057451 [00:01<00:01, 380587.12it/s]"
     ]
    },
    {
     "name": "stderr",
     "output_type": "stream",
     "text": [
      "\rMorphologyExtractor transform:  51%|█████     | 534046/1057451 [00:01<00:01, 378351.10it/s]"
     ]
    },
    {
     "name": "stderr",
     "output_type": "stream",
     "text": [
      "\rMorphologyExtractor transform:  54%|█████▍    | 572092/1057451 [00:01<00:01, 377909.10it/s]"
     ]
    },
    {
     "name": "stderr",
     "output_type": "stream",
     "text": [
      "\rMorphologyExtractor transform:  58%|█████▊    | 609879/1057451 [00:01<00:01, 377490.05it/s]"
     ]
    },
    {
     "name": "stderr",
     "output_type": "stream",
     "text": [
      "\rMorphologyExtractor transform:  61%|██████▏   | 649042/1057451 [00:01<00:01, 378316.89it/s]"
     ]
    },
    {
     "name": "stderr",
     "output_type": "stream",
     "text": [
      "\rMorphologyExtractor transform:  65%|██████▌   | 689820/1057451 [00:01<00:00, 379939.24it/s]"
     ]
    },
    {
     "name": "stderr",
     "output_type": "stream",
     "text": [
      "\rMorphologyExtractor transform:  69%|██████▉   | 728697/1057451 [00:01<00:00, 380286.32it/s]"
     ]
    },
    {
     "name": "stderr",
     "output_type": "stream",
     "text": [
      "\rMorphologyExtractor transform:  73%|███████▎  | 769173/1057451 [00:02<00:00, 381500.16it/s]"
     ]
    },
    {
     "name": "stderr",
     "output_type": "stream",
     "text": [
      "\rMorphologyExtractor transform:  77%|███████▋  | 809310/1057451 [00:02<00:00, 382438.73it/s]"
     ]
    },
    {
     "name": "stderr",
     "output_type": "stream",
     "text": [
      "\rMorphologyExtractor transform:  80%|████████  | 848868/1057451 [00:02<00:00, 382580.79it/s]"
     ]
    },
    {
     "name": "stderr",
     "output_type": "stream",
     "text": [
      "\rMorphologyExtractor transform:  84%|████████▍ | 889117/1057451 [00:02<00:00, 383440.04it/s]"
     ]
    },
    {
     "name": "stderr",
     "output_type": "stream",
     "text": [
      "\rMorphologyExtractor transform:  88%|████████▊ | 928672/1057451 [00:02<00:00, 383812.50it/s]"
     ]
    },
    {
     "name": "stderr",
     "output_type": "stream",
     "text": [
      "\rMorphologyExtractor transform:  92%|█████████▏| 969026/1057451 [00:02<00:00, 384595.77it/s]"
     ]
    },
    {
     "name": "stderr",
     "output_type": "stream",
     "text": [
      "\rMorphologyExtractor transform:  95%|█████████▌| 1008754/1057451 [00:02<00:00, 384461.97it/s]"
     ]
    },
    {
     "name": "stderr",
     "output_type": "stream",
     "text": [
      "\rMorphologyExtractor transform:  99%|█████████▉| 1048001/1057451 [00:02<00:00, 383718.84it/s]"
     ]
    },
    {
     "name": "stderr",
     "output_type": "stream",
     "text": [
      "\rMorphologyExtractor transform: 100%|██████████| 1057451/1057451 [00:02<00:00, 382852.68it/s]"
     ]
    },
    {
     "name": "stderr",
     "output_type": "stream",
     "text": [
      "\n"
     ]
    },
    {
     "name": "stderr",
     "output_type": "stream",
     "text": [
      "\rMorphologyExtractor transform:   0%|          | 0/1057451 [00:00<?, ?it/s]"
     ]
    },
    {
     "name": "stderr",
     "output_type": "stream",
     "text": [
      "\rMorphologyExtractor transform:   3%|▎         | 33617/1057451 [00:00<00:03, 336069.36it/s]"
     ]
    },
    {
     "name": "stderr",
     "output_type": "stream",
     "text": [
      "\rMorphologyExtractor transform:   7%|▋         | 69375/1057451 [00:00<00:02, 346822.82it/s]"
     ]
    },
    {
     "name": "stderr",
     "output_type": "stream",
     "text": [
      "\rMorphologyExtractor transform:  10%|▉         | 105211/1057451 [00:00<00:02, 350663.82it/s]"
     ]
    },
    {
     "name": "stderr",
     "output_type": "stream",
     "text": [
      "\rMorphologyExtractor transform:  13%|█▎        | 134609/1057451 [00:00<00:02, 336486.32it/s]"
     ]
    },
    {
     "name": "stderr",
     "output_type": "stream",
     "text": [
      "\rMorphologyExtractor transform:  16%|█▌        | 170937/1057451 [00:00<00:02, 341849.39it/s]"
     ]
    },
    {
     "name": "stderr",
     "output_type": "stream",
     "text": [
      "\rMorphologyExtractor transform:  20%|█▉        | 208806/1057451 [00:00<00:02, 347986.82it/s]"
     ]
    },
    {
     "name": "stderr",
     "output_type": "stream",
     "text": [
      "\rMorphologyExtractor transform:  23%|██▎       | 246687/1057451 [00:00<00:02, 352389.81it/s]"
     ]
    },
    {
     "name": "stderr",
     "output_type": "stream",
     "text": [
      "\rMorphologyExtractor transform:  27%|██▋       | 285701/1057451 [00:00<00:02, 357108.39it/s]"
     ]
    },
    {
     "name": "stderr",
     "output_type": "stream",
     "text": [
      "\rMorphologyExtractor transform:  31%|███       | 325535/1057451 [00:00<00:02, 361689.04it/s]"
     ]
    },
    {
     "name": "stderr",
     "output_type": "stream",
     "text": [
      "\rMorphologyExtractor transform:  34%|███▍      | 364061/1057451 [00:01<00:01, 364045.03it/s]"
     ]
    },
    {
     "name": "stderr",
     "output_type": "stream",
     "text": [
      "\rMorphologyExtractor transform:  38%|███▊      | 402638/1057451 [00:01<00:01, 366018.55it/s]"
     ]
    },
    {
     "name": "stderr",
     "output_type": "stream",
     "text": [
      "\rMorphologyExtractor transform:  42%|████▏     | 443665/1057451 [00:01<00:01, 369706.35it/s]"
     ]
    },
    {
     "name": "stderr",
     "output_type": "stream",
     "text": [
      "\rMorphologyExtractor transform:  46%|████▌     | 482610/1057451 [00:01<00:01, 371225.06it/s]"
     ]
    },
    {
     "name": "stderr",
     "output_type": "stream",
     "text": [
      "\rMorphologyExtractor transform:  49%|████▉     | 521293/1057451 [00:01<00:01, 371389.75it/s]"
     ]
    },
    {
     "name": "stderr",
     "output_type": "stream",
     "text": [
      "\rMorphologyExtractor transform:  53%|█████▎    | 560962/1057451 [00:01<00:01, 373068.60it/s]"
     ]
    },
    {
     "name": "stderr",
     "output_type": "stream",
     "text": [
      "\rMorphologyExtractor transform:  57%|█████▋    | 599660/1057451 [00:01<00:01, 373519.84it/s]"
     ]
    },
    {
     "name": "stderr",
     "output_type": "stream",
     "text": [
      "\rMorphologyExtractor transform:  60%|██████    | 638956/1057451 [00:01<00:01, 374656.93it/s]"
     ]
    },
    {
     "name": "stderr",
     "output_type": "stream",
     "text": [
      "\rMorphologyExtractor transform:  64%|██████▍   | 679822/1057451 [00:01<00:01, 376541.11it/s]"
     ]
    },
    {
     "name": "stderr",
     "output_type": "stream",
     "text": [
      "\rMorphologyExtractor transform:  68%|██████▊   | 719196/1057451 [00:01<00:00, 377284.94it/s]"
     ]
    },
    {
     "name": "stderr",
     "output_type": "stream",
     "text": [
      "\rMorphologyExtractor transform:  72%|███████▏  | 758476/1057451 [00:02<00:00, 377931.11it/s]"
     ]
    },
    {
     "name": "stderr",
     "output_type": "stream",
     "text": [
      "\rMorphologyExtractor transform:  75%|███████▌  | 798215/1057451 [00:02<00:00, 378854.87it/s]"
     ]
    },
    {
     "name": "stderr",
     "output_type": "stream",
     "text": [
      "\rMorphologyExtractor transform:  79%|███████▉  | 838355/1057451 [00:02<00:00, 379876.08it/s]"
     ]
    },
    {
     "name": "stderr",
     "output_type": "stream",
     "text": [
      "\rMorphologyExtractor transform:  83%|████████▎ | 877951/1057451 [00:02<00:00, 380317.42it/s]"
     ]
    },
    {
     "name": "stderr",
     "output_type": "stream",
     "text": [
      "\rMorphologyExtractor transform:  87%|████████▋ | 918243/1057451 [00:02<00:00, 381255.71it/s]"
     ]
    },
    {
     "name": "stderr",
     "output_type": "stream",
     "text": [
      "\rMorphologyExtractor transform:  91%|█████████ | 958150/1057451 [00:02<00:00, 381965.13it/s]"
     ]
    },
    {
     "name": "stderr",
     "output_type": "stream",
     "text": [
      "\rMorphologyExtractor transform:  94%|█████████▍| 997896/1057451 [00:02<00:00, 382017.43it/s]"
     ]
    },
    {
     "name": "stderr",
     "output_type": "stream",
     "text": [
      "\rMorphologyExtractor transform:  98%|█████████▊| 1037218/1057451 [00:02<00:00, 381703.43it/s]"
     ]
    },
    {
     "name": "stderr",
     "output_type": "stream",
     "text": [
      "\rMorphologyExtractor transform: 100%|██████████| 1057451/1057451 [00:02<00:00, 381064.52it/s]"
     ]
    },
    {
     "name": "stderr",
     "output_type": "stream",
     "text": [
      "\n"
     ]
    },
    {
     "name": "stderr",
     "output_type": "stream",
     "text": [
      "\rDictNBHDTransformer transform:   0%|          | 0/1057451 [00:00<?, ?it/s]"
     ]
    },
    {
     "name": "stderr",
     "output_type": "stream",
     "text": [
      "\rDictNBHDTransformer transform:   4%|▍         | 47328/1057451 [00:00<00:02, 473142.83it/s]"
     ]
    },
    {
     "name": "stderr",
     "output_type": "stream",
     "text": [
      "\rDictNBHDTransformer transform:   9%|▉         | 96558/1057451 [00:00<00:01, 482717.38it/s]"
     ]
    },
    {
     "name": "stderr",
     "output_type": "stream",
     "text": [
      "\rDictNBHDTransformer transform:  14%|█▍        | 147093/1057451 [00:00<00:01, 490246.18it/s]"
     ]
    },
    {
     "name": "stderr",
     "output_type": "stream",
     "text": [
      "\rDictNBHDTransformer transform:  19%|█▉        | 203059/1057451 [00:00<00:01, 507602.00it/s]"
     ]
    },
    {
     "name": "stderr",
     "output_type": "stream",
     "text": [
      "\rDictNBHDTransformer transform:  24%|██▍       | 256797/1057451 [00:00<00:01, 513557.02it/s]"
     ]
    },
    {
     "name": "stderr",
     "output_type": "stream",
     "text": [
      "\rDictNBHDTransformer transform:  30%|██▉       | 314429/1057451 [00:00<00:01, 524014.27it/s]"
     ]
    },
    {
     "name": "stderr",
     "output_type": "stream",
     "text": [
      "\rDictNBHDTransformer transform:  35%|███▌      | 373370/1057451 [00:00<00:01, 533352.07it/s]"
     ]
    },
    {
     "name": "stderr",
     "output_type": "stream",
     "text": [
      "\rDictNBHDTransformer transform:  41%|████      | 430798/1057451 [00:00<00:01, 538471.21it/s]"
     ]
    },
    {
     "name": "stderr",
     "output_type": "stream",
     "text": [
      "\rDictNBHDTransformer transform:  46%|████▋     | 489662/1057451 [00:00<00:01, 544044.04it/s]"
     ]
    },
    {
     "name": "stderr",
     "output_type": "stream",
     "text": [
      "\rDictNBHDTransformer transform:  52%|█████▏    | 547224/1057451 [00:01<00:00, 547199.34it/s]"
     ]
    },
    {
     "name": "stderr",
     "output_type": "stream",
     "text": [
      "\rDictNBHDTransformer transform:  57%|█████▋    | 606136/1057451 [00:01<00:00, 551010.68it/s]"
     ]
    },
    {
     "name": "stderr",
     "output_type": "stream",
     "text": [
      "\rDictNBHDTransformer transform:  63%|██████▎   | 666216/1057451 [00:01<00:00, 555158.69it/s]"
     ]
    },
    {
     "name": "stderr",
     "output_type": "stream",
     "text": [
      "\rDictNBHDTransformer transform:  69%|██████▊   | 725688/1057451 [00:01<00:00, 558202.21it/s]"
     ]
    },
    {
     "name": "stderr",
     "output_type": "stream",
     "text": [
      "\rDictNBHDTransformer transform:  74%|███████▍  | 786728/1057451 [00:01<00:00, 561928.92it/s]"
     ]
    },
    {
     "name": "stderr",
     "output_type": "stream",
     "text": [
      "\rDictNBHDTransformer transform:  80%|███████▉  | 845783/1057451 [00:01<00:00, 563459.39it/s]"
     ]
    },
    {
     "name": "stderr",
     "output_type": "stream",
     "text": [
      "\rDictNBHDTransformer transform:  86%|████████▌ | 905562/1057451 [00:01<00:00, 565603.25it/s]"
     ]
    },
    {
     "name": "stderr",
     "output_type": "stream",
     "text": [
      "\rDictNBHDTransformer transform:  91%|█████████▏| 965329/1057451 [00:01<00:00, 567487.76it/s]"
     ]
    },
    {
     "name": "stderr",
     "output_type": "stream",
     "text": [
      "\rDictNBHDTransformer transform:  97%|█████████▋| 1025657/1057451 [00:01<00:00, 569472.52it/s]"
     ]
    },
    {
     "name": "stderr",
     "output_type": "stream",
     "text": [
      "\rDictNBHDTransformer transform: 100%|██████████| 1057451/1057451 [00:01<00:00, 566605.04it/s]"
     ]
    },
    {
     "name": "stderr",
     "output_type": "stream",
     "text": [
      "\n"
     ]
    },
    {
     "name": "stderr",
     "output_type": "stream",
     "text": [
      "\rLettersTransformer transform:   0%|          | 0/1057451 [00:00<?, ?it/s]"
     ]
    },
    {
     "name": "stderr",
     "output_type": "stream",
     "text": [
      "\rLettersTransformer transform:   5%|▍         | 50121/1057451 [00:00<00:02, 501073.09it/s]"
     ]
    },
    {
     "name": "stderr",
     "output_type": "stream",
     "text": [
      "\rLettersTransformer transform:  11%|█         | 118888/1057451 [00:00<00:01, 594344.92it/s]"
     ]
    },
    {
     "name": "stderr",
     "output_type": "stream",
     "text": [
      "\rLettersTransformer transform:  18%|█▊        | 187520/1057451 [00:00<00:01, 624997.72it/s]"
     ]
    },
    {
     "name": "stderr",
     "output_type": "stream",
     "text": [
      "\rLettersTransformer transform:  25%|██▍       | 262385/1057451 [00:00<00:01, 655914.65it/s]"
     ]
    },
    {
     "name": "stderr",
     "output_type": "stream",
     "text": [
      "\rLettersTransformer transform:  32%|███▏      | 333162/1057451 [00:00<00:01, 666277.30it/s]"
     ]
    },
    {
     "name": "stderr",
     "output_type": "stream",
     "text": [
      "\rLettersTransformer transform:  39%|███▉      | 411626/1057451 [00:00<00:00, 685991.65it/s]"
     ]
    },
    {
     "name": "stderr",
     "output_type": "stream",
     "text": [
      "\rLettersTransformer transform:  46%|████▌     | 488024/1057451 [00:00<00:00, 697142.19it/s]"
     ]
    },
    {
     "name": "stderr",
     "output_type": "stream",
     "text": [
      "\rLettersTransformer transform:  53%|█████▎    | 565497/1057451 [00:00<00:00, 706834.01it/s]"
     ]
    },
    {
     "name": "stderr",
     "output_type": "stream",
     "text": [
      "\rLettersTransformer transform:  61%|██████    | 646170/1057451 [00:00<00:00, 717933.69it/s]"
     ]
    },
    {
     "name": "stderr",
     "output_type": "stream",
     "text": [
      "\rLettersTransformer transform:  69%|██████▉   | 728749/1057451 [00:01<00:00, 728715.29it/s]"
     ]
    },
    {
     "name": "stderr",
     "output_type": "stream",
     "text": [
      "\rLettersTransformer transform:  76%|███████▋  | 808151/1057451 [00:01<00:00, 734655.08it/s]"
     ]
    },
    {
     "name": "stderr",
     "output_type": "stream",
     "text": [
      "\rLettersTransformer transform:  84%|████████▍ | 888196/1057451 [00:01<00:00, 740132.28it/s]"
     ]
    },
    {
     "name": "stderr",
     "output_type": "stream",
     "text": [
      "\rLettersTransformer transform:  92%|█████████▏| 967805/1057451 [00:01<00:00, 744437.15it/s]"
     ]
    },
    {
     "name": "stderr",
     "output_type": "stream",
     "text": [
      "\rLettersTransformer transform:  99%|█████████▉| 1046346/1057451 [00:01<00:00, 746753.58it/s]"
     ]
    },
    {
     "name": "stderr",
     "output_type": "stream",
     "text": [
      "\rLettersTransformer transform: 100%|██████████| 1057451/1057451 [00:01<00:00, 740659.07it/s]"
     ]
    },
    {
     "name": "stderr",
     "output_type": "stream",
     "text": [
      "\n"
     ]
    },
    {
     "name": "stderr",
     "output_type": "stream",
     "text": [
      "\rSimpleTransliterator transform:   0%|          | 0/1057451 [00:00<?, ?it/s]"
     ]
    },
    {
     "name": "stderr",
     "output_type": "stream",
     "text": [
      "\rSimpleTransliterator transform:   3%|▎         | 33635/1057451 [00:00<00:03, 336266.94it/s]"
     ]
    },
    {
     "name": "stderr",
     "output_type": "stream",
     "text": [
      "\rSimpleTransliterator transform:   7%|▋         | 75978/1057451 [00:00<00:02, 379827.88it/s]"
     ]
    },
    {
     "name": "stderr",
     "output_type": "stream",
     "text": [
      "\rSimpleTransliterator transform:  11%|█▏        | 121326/1057451 [00:00<00:02, 404368.97it/s]"
     ]
    },
    {
     "name": "stderr",
     "output_type": "stream",
     "text": [
      "\rSimpleTransliterator transform:  16%|█▌        | 170829/1057451 [00:00<00:02, 427032.18it/s]"
     ]
    },
    {
     "name": "stderr",
     "output_type": "stream",
     "text": [
      "\rSimpleTransliterator transform:  21%|██        | 220141/1057451 [00:00<00:01, 440245.89it/s]"
     ]
    },
    {
     "name": "stderr",
     "output_type": "stream",
     "text": [
      "\rSimpleTransliterator transform:  26%|██▌       | 271448/1057451 [00:00<00:01, 452379.61it/s]"
     ]
    },
    {
     "name": "stderr",
     "output_type": "stream",
     "text": [
      "\rSimpleTransliterator transform:  30%|███       | 320537/1057451 [00:00<00:01, 457878.78it/s]"
     ]
    },
    {
     "name": "stderr",
     "output_type": "stream",
     "text": [
      "\rSimpleTransliterator transform:  35%|███▌      | 370389/1057451 [00:00<00:01, 462957.99it/s]"
     ]
    },
    {
     "name": "stderr",
     "output_type": "stream",
     "text": [
      "\rSimpleTransliterator transform:  40%|███▉      | 420940/1057451 [00:00<00:01, 467684.18it/s]"
     ]
    },
    {
     "name": "stderr",
     "output_type": "stream",
     "text": [
      "\rSimpleTransliterator transform:  45%|████▍     | 473089/1057451 [00:01<00:01, 473062.61it/s]"
     ]
    },
    {
     "name": "stderr",
     "output_type": "stream",
     "text": [
      "\rSimpleTransliterator transform:  49%|████▉     | 522269/1057451 [00:01<00:01, 474750.84it/s]"
     ]
    },
    {
     "name": "stderr",
     "output_type": "stream",
     "text": [
      "\rSimpleTransliterator transform:  54%|█████▍    | 571198/1057451 [00:01<00:01, 475242.75it/s]"
     ]
    },
    {
     "name": "stderr",
     "output_type": "stream",
     "text": [
      "\rSimpleTransliterator transform:  59%|█████▊    | 620761/1057451 [00:01<00:00, 476812.31it/s]"
     ]
    },
    {
     "name": "stderr",
     "output_type": "stream",
     "text": [
      "\rSimpleTransliterator transform:  63%|██████▎   | 669698/1057451 [00:01<00:00, 475378.51it/s]"
     ]
    },
    {
     "name": "stderr",
     "output_type": "stream",
     "text": [
      "\rSimpleTransliterator transform:  68%|██████▊   | 718990/1057451 [00:01<00:00, 476539.89it/s]"
     ]
    },
    {
     "name": "stderr",
     "output_type": "stream",
     "text": [
      "\rSimpleTransliterator transform:  73%|███████▎  | 767374/1057451 [00:01<00:00, 475130.68it/s]"
     ]
    },
    {
     "name": "stderr",
     "output_type": "stream",
     "text": [
      "\rSimpleTransliterator transform:  77%|███████▋  | 814897/1057451 [00:01<00:00, 474638.08it/s]"
     ]
    },
    {
     "name": "stderr",
     "output_type": "stream",
     "text": [
      "\rSimpleTransliterator transform:  82%|████████▏ | 862168/1057451 [00:01<00:00, 473477.05it/s]"
     ]
    },
    {
     "name": "stderr",
     "output_type": "stream",
     "text": [
      "\rSimpleTransliterator transform:  86%|████████▌ | 908888/1057451 [00:01<00:00, 472529.15it/s]"
     ]
    },
    {
     "name": "stderr",
     "output_type": "stream",
     "text": [
      "\rSimpleTransliterator transform:  90%|█████████ | 955263/1057451 [00:02<00:00, 471031.69it/s]"
     ]
    },
    {
     "name": "stderr",
     "output_type": "stream",
     "text": [
      "\rSimpleTransliterator transform:  95%|█████████▍| 1001031/1057451 [00:02<00:00, 466701.56it/s]"
     ]
    },
    {
     "name": "stderr",
     "output_type": "stream",
     "text": [
      "\rSimpleTransliterator transform:  99%|█████████▉| 1044814/1057451 [00:02<00:00, 464725.54it/s]"
     ]
    },
    {
     "name": "stderr",
     "output_type": "stream",
     "text": [
      "\rSimpleTransliterator transform: 100%|██████████| 1057451/1057451 [00:02<00:00, 463191.57it/s]"
     ]
    },
    {
     "name": "stderr",
     "output_type": "stream",
     "text": [
      "\n"
     ]
    },
    {
     "name": "stdout",
     "output_type": "stream",
     "text": [
      "pipeline test TP 0.9324952172724789\npipeline test FP 0.036643778293273165\n"
     ]
    }
   ],
   "source": [
    "transform_chain = ScoredChain([\n",
    "    ('dash', DashTransformer()),\n",
    "    ('digit', DigitTransformer()),\n",
    "    ('punсt', DictClassTransformer(u'PUNCT', 1.0)),\n",
    "    ('verbatim', DictClassTransformer(u'VERBATIM', 1.0)),\n",
    "    ('self', SelfTransformer(threshold=0.5, modelpath='models/self.model.train_9517064_0.00117_0.3_500_6')),\n",
    "    ('dict_nbhd', DictNBHDTransformer(0.5)),\n",
    "    ('letters', LettersTransformer()),\n",
    "    # ('dict', DictTransformer(0.5)),\n",
    "    ('translit', SimpleTransliterator('cyrtranslit')),\n",
    "    # ('flat', FlatTransformer())\n",
    "], metrics=[\n",
    "    ('tp', lambda X: np.mean((X[\"after\"] == y_test))),\n",
    "    ('fp', lambda X: np.mean((X[\"after\"].notnull()) & ~(X[\"after\"] == y_test)))\n",
    "])\n",
    "predicted_val = transform_chain.fit(x_train, y_train)\n",
    "predicted = transform_chain.transform(x_test)\n",
    "tp = np.mean((predicted[\"after\"] == y_test))\n",
    "fp = np.mean((predicted[\"after\"].notnull()) & ~(predicted[\"after\"] == y_test))\n",
    "print(f'pipeline test TP {tp}')\n",
    "print(f'pipeline test FP {fp}')"
   ]
  },
  {
   "cell_type": "code",
   "execution_count": 5,
   "metadata": {
    "collapsed": true
   },
   "outputs": [
    {
     "data": {
      "text/plain": [
       "PLAIN         697132\nPUNCT         229395\nCARDINAL       15800\nVERBATIM       15627\nLETTERS        15403\nDATE            8469\nORDINAL         2300\nMEASURE         1181\nDIGIT            183\nELECTRONIC       181\nTIME             154\nTELEPHONE        130\nDECIMAL           76\nFRACTION          29\nMONEY              8\nName: class, dtype: int64"
      ]
     },
     "execution_count": 5,
     "metadata": {},
     "output_type": "execute_result"
    }
   ],
   "source": [
    "predicted[(predicted[\"after\"] == y_test)]['class'].value_counts()"
   ]
  },
  {
   "cell_type": "code",
   "execution_count": 6,
   "metadata": {},
   "outputs": [
    {
     "data": {
      "text/plain": [
       "PLAIN         33480\nLETTERS        3205\nCARDINAL        769\nELECTRONIC      380\nORDINAL         371\nDATE            329\nMEASURE         116\nVERBATIM         41\nMONEY            33\nTELEPHONE        12\nDECIMAL           8\nTIME              4\nFRACTION          1\nName: class, dtype: int64"
      ]
     },
     "execution_count": 6,
     "metadata": {},
     "output_type": "execute_result"
    }
   ],
   "source": [
    "predicted[~(predicted[\"after\"] == y_test) & ~(predicted[\"after\"].isnull())]['class'].value_counts()"
   ]
  },
  {
   "cell_type": "code",
   "execution_count": 7,
   "metadata": {},
   "outputs": [
    {
     "data": {
      "text/plain": [
       "CARDINAL      11139\nDATE          10201\nPLAIN          3898\nMEASURE        2628\nORDINAL        2170\nTELEPHONE       861\nDECIMAL         649\nLETTERS         426\nMONEY           246\nFRACTION        227\nTIME            125\nELECTRONIC       64\nName: class, dtype: int64"
      ]
     },
     "execution_count": 7,
     "metadata": {},
     "output_type": "execute_result"
    }
   ],
   "source": [
    "predicted[(predicted[\"after\"].isnull())]['class'].value_counts()"
   ]
  },
  {
   "cell_type": "code",
   "execution_count": null,
   "metadata": {
    "collapsed": false
   },
   "outputs": [
    {
     "data": {
      "text/html": [
       "<div>\n",
       "<style scoped>\n",
       "    .dataframe tbody tr th:only-of-type {\n",
       "        vertical-align: middle;\n",
       "    }\n",
       "\n",
       "    .dataframe tbody tr th {\n",
       "        vertical-align: top;\n",
       "    }\n",
       "\n",
       "    .dataframe thead th {\n",
       "        text-align: right;\n",
       "    }\n",
       "</style>\n",
       "<table border=\"1\" class=\"dataframe\">\n",
       "  <thead>\n",
       "    <tr style=\"text-align: right;\">\n",
       "      <th></th>\n",
       "      <th>class</th>\n",
       "      <th>before</th>\n",
       "      <th>before_prev</th>\n",
       "      <th>before_next</th>\n",
       "      <th>after</th>\n",
       "      <th>after_true</th>\n",
       "    </tr>\n",
       "  </thead>\n",
       "  <tbody>\n",
       "    <tr>\n",
       "      <th>9928198</th>\n",
       "      <td>CARDINAL</td>\n",
       "      <td>13</td>\n",
       "      <td>.</td>\n",
       "      <td>Акт</td>\n",
       "      <td>None</td>\n",
       "      <td>тринадцать</td>\n",
       "    </tr>\n",
       "    <tr>\n",
       "      <th>9730953</th>\n",
       "      <td>CARDINAL</td>\n",
       "      <td>4165</td>\n",
       "      <td>(</td>\n",
       "      <td>человек</td>\n",
       "      <td>None</td>\n",
       "      <td>четыре тысячи сто шестьдесят пять</td>\n",
       "    </tr>\n",
       "    <tr>\n",
       "      <th>9751544</th>\n",
       "      <td>CARDINAL</td>\n",
       "      <td>538</td>\n",
       "      <td>от</td>\n",
       "      <td>—</td>\n",
       "      <td>None</td>\n",
       "      <td>пятисот тридцати восьми</td>\n",
       "    </tr>\n",
       "    <tr>\n",
       "      <th>9979915</th>\n",
       "      <td>CARDINAL</td>\n",
       "      <td>21</td>\n",
       "      <td>-</td>\n",
       "      <td>\"</td>\n",
       "      <td>None</td>\n",
       "      <td>двадцать один</td>\n",
       "    </tr>\n",
       "    <tr>\n",
       "      <th>9675008</th>\n",
       "      <td>CARDINAL</td>\n",
       "      <td>173</td>\n",
       "      <td>сложности</td>\n",
       "      <td>ученика</td>\n",
       "      <td>None</td>\n",
       "      <td>ста семидесяти трех</td>\n",
       "    </tr>\n",
       "    <tr>\n",
       "      <th>9622166</th>\n",
       "      <td>CARDINAL</td>\n",
       "      <td>2002</td>\n",
       "      <td>наций</td>\n",
       "      <td>,</td>\n",
       "      <td>None</td>\n",
       "      <td>две тысячи два</td>\n",
       "    </tr>\n",
       "    <tr>\n",
       "      <th>10134458</th>\n",
       "      <td>CARDINAL</td>\n",
       "      <td>605</td>\n",
       "      <td>сделано</td>\n",
       "      <td>выстрелов</td>\n",
       "      <td>None</td>\n",
       "      <td>шестьсот пять</td>\n",
       "    </tr>\n",
       "    <tr>\n",
       "      <th>10566962</th>\n",
       "      <td>CARDINAL</td>\n",
       "      <td>1916</td>\n",
       "      <td>«</td>\n",
       "      <td>»</td>\n",
       "      <td>None</td>\n",
       "      <td>тысяча девятьсот шестнадцать</td>\n",
       "    </tr>\n",
       "    <tr>\n",
       "      <th>9945427</th>\n",
       "      <td>CARDINAL</td>\n",
       "      <td>30</td>\n",
       "      <td>примерно</td>\n",
       "      <td>омматидиев</td>\n",
       "      <td>None</td>\n",
       "      <td>тридцати</td>\n",
       "    </tr>\n",
       "    <tr>\n",
       "      <th>10463680</th>\n",
       "      <td>CARDINAL</td>\n",
       "      <td>135</td>\n",
       "      <td>типа</td>\n",
       "      <td>.</td>\n",
       "      <td>None</td>\n",
       "      <td>сто тридцать пять</td>\n",
       "    </tr>\n",
       "    <tr>\n",
       "      <th>10482229</th>\n",
       "      <td>CARDINAL</td>\n",
       "      <td>1</td>\n",
       "      <td>.</td>\n",
       "      <td>Percent</td>\n",
       "      <td>None</td>\n",
       "      <td>один</td>\n",
       "    </tr>\n",
       "    <tr>\n",
       "      <th>10034897</th>\n",
       "      <td>CARDINAL</td>\n",
       "      <td>8</td>\n",
       "      <td>-</td>\n",
       "      <td>ноября</td>\n",
       "      <td>None</td>\n",
       "      <td>восьми</td>\n",
       "    </tr>\n",
       "    <tr>\n",
       "      <th>9668571</th>\n",
       "      <td>CARDINAL</td>\n",
       "      <td>1216</td>\n",
       "      <td>—</td>\n",
       "      <td>стб</td>\n",
       "      <td>None</td>\n",
       "      <td>тысяча двести шестнадцать</td>\n",
       "    </tr>\n",
       "    <tr>\n",
       "      <th>9857704</th>\n",
       "      <td>CARDINAL</td>\n",
       "      <td>10</td>\n",
       "      <td>—</td>\n",
       "      <td>миллиардов</td>\n",
       "      <td>None</td>\n",
       "      <td>десять</td>\n",
       "    </tr>\n",
       "    <tr>\n",
       "      <th>9541249</th>\n",
       "      <td>CARDINAL</td>\n",
       "      <td>106</td>\n",
       "      <td>своей</td>\n",
       "      <td>метровой</td>\n",
       "      <td>None</td>\n",
       "      <td>ста шести</td>\n",
       "    </tr>\n",
       "    <tr>\n",
       "      <th>9854827</th>\n",
       "      <td>CARDINAL</td>\n",
       "      <td>1907</td>\n",
       "      <td>,</td>\n",
       "      <td>Hylophila</td>\n",
       "      <td>None</td>\n",
       "      <td>тысяча девятьсот семь</td>\n",
       "    </tr>\n",
       "    <tr>\n",
       "      <th>10302099</th>\n",
       "      <td>CARDINAL</td>\n",
       "      <td>351</td>\n",
       "      <td>(</td>\n",
       "      <td>день</td>\n",
       "      <td>None</td>\n",
       "      <td>триста пятьдесят один</td>\n",
       "    </tr>\n",
       "    <tr>\n",
       "      <th>10495174</th>\n",
       "      <td>CARDINAL</td>\n",
       "      <td>1218</td>\n",
       "      <td>.</td>\n",
       "      <td>.</td>\n",
       "      <td>None</td>\n",
       "      <td>тысяча двести восемнадцать</td>\n",
       "    </tr>\n",
       "    <tr>\n",
       "      <th>10319313</th>\n",
       "      <td>CARDINAL</td>\n",
       "      <td>6</td>\n",
       "      <td>от</td>\n",
       "      <td>месяцев</td>\n",
       "      <td>None</td>\n",
       "      <td>шести</td>\n",
       "    </tr>\n",
       "    <tr>\n",
       "      <th>10349393</th>\n",
       "      <td>CARDINAL</td>\n",
       "      <td>9</td>\n",
       "      <td>всего</td>\n",
       "      <td>стрелковых</td>\n",
       "      <td>None</td>\n",
       "      <td>девять</td>\n",
       "    </tr>\n",
       "  </tbody>\n",
       "</table>\n",
       "</div>"
      ],
      "text/plain": [
       "<div>\n",
       "<style scoped>\n",
       "    .dataframe tbody tr th:only-of-type {\n",
       "        vertical-align: middle;\n",
       "    }\n",
       "\n",
       "    .dataframe tbody tr th {\n",
       "        vertical-align: top;\n",
       "    }\n",
       "\n",
       "    .dataframe thead th {\n",
       "        text-align: right;\n",
       "    }\n",
       "</style>\n",
       "<table border=\"1\" class=\"dataframe\">\n",
       "  <thead>\n",
       "    <tr style=\"text-align: right;\">\n",
       "      <th></th>\n",
       "      <th>class</th>\n",
       "      <th>before</th>\n",
       "      <th>before_prev</th>\n",
       "      <th>before_next</th>\n",
       "      <th>after</th>\n",
       "      <th>after_true</th>\n",
       "    </tr>\n",
       "  </thead>\n",
       "  <tbody>\n",
       "    <tr>\n",
       "      <th>9928198</th>\n",
       "      <td>CARDINAL</td>\n",
       "      <td>13</td>\n",
       "      <td>.</td>\n",
       "      <td>Акт</td>\n",
       "      <td>None</td>\n",
       "      <td>тринадцать</td>\n",
       "    </tr>\n",
       "    <tr>\n",
       "      <th>9730953</th>\n",
       "      <td>CARDINAL</td>\n",
       "      <td>4165</td>\n",
       "      <td>(</td>\n",
       "      <td>человек</td>\n",
       "      <td>None</td>\n",
       "      <td>четыре тысячи сто шестьдесят пять</td>\n",
       "    </tr>\n",
       "    <tr>\n",
       "      <th>9751544</th>\n",
       "      <td>CARDINAL</td>\n",
       "      <td>538</td>\n",
       "      <td>от</td>\n",
       "      <td>—</td>\n",
       "      <td>None</td>\n",
       "      <td>пятисот тридцати восьми</td>\n",
       "    </tr>\n",
       "    <tr>\n",
       "      <th>9979915</th>\n",
       "      <td>CARDINAL</td>\n",
       "      <td>21</td>\n",
       "      <td>-</td>\n",
       "      <td>\"</td>\n",
       "      <td>None</td>\n",
       "      <td>двадцать один</td>\n",
       "    </tr>\n",
       "    <tr>\n",
       "      <th>9675008</th>\n",
       "      <td>CARDINAL</td>\n",
       "      <td>173</td>\n",
       "      <td>сложности</td>\n",
       "      <td>ученика</td>\n",
       "      <td>None</td>\n",
       "      <td>ста семидесяти трех</td>\n",
       "    </tr>\n",
       "    <tr>\n",
       "      <th>9622166</th>\n",
       "      <td>CARDINAL</td>\n",
       "      <td>2002</td>\n",
       "      <td>наций</td>\n",
       "      <td>,</td>\n",
       "      <td>None</td>\n",
       "      <td>две тысячи два</td>\n",
       "    </tr>\n",
       "    <tr>\n",
       "      <th>10134458</th>\n",
       "      <td>CARDINAL</td>\n",
       "      <td>605</td>\n",
       "      <td>сделано</td>\n",
       "      <td>выстрелов</td>\n",
       "      <td>None</td>\n",
       "      <td>шестьсот пять</td>\n",
       "    </tr>\n",
       "    <tr>\n",
       "      <th>10566962</th>\n",
       "      <td>CARDINAL</td>\n",
       "      <td>1916</td>\n",
       "      <td>«</td>\n",
       "      <td>»</td>\n",
       "      <td>None</td>\n",
       "      <td>тысяча девятьсот шестнадцать</td>\n",
       "    </tr>\n",
       "    <tr>\n",
       "      <th>9945427</th>\n",
       "      <td>CARDINAL</td>\n",
       "      <td>30</td>\n",
       "      <td>примерно</td>\n",
       "      <td>омматидиев</td>\n",
       "      <td>None</td>\n",
       "      <td>тридцати</td>\n",
       "    </tr>\n",
       "    <tr>\n",
       "      <th>10463680</th>\n",
       "      <td>CARDINAL</td>\n",
       "      <td>135</td>\n",
       "      <td>типа</td>\n",
       "      <td>.</td>\n",
       "      <td>None</td>\n",
       "      <td>сто тридцать пять</td>\n",
       "    </tr>\n",
       "    <tr>\n",
       "      <th>10482229</th>\n",
       "      <td>CARDINAL</td>\n",
       "      <td>1</td>\n",
       "      <td>.</td>\n",
       "      <td>Percent</td>\n",
       "      <td>None</td>\n",
       "      <td>один</td>\n",
       "    </tr>\n",
       "    <tr>\n",
       "      <th>10034897</th>\n",
       "      <td>CARDINAL</td>\n",
       "      <td>8</td>\n",
       "      <td>-</td>\n",
       "      <td>ноября</td>\n",
       "      <td>None</td>\n",
       "      <td>восьми</td>\n",
       "    </tr>\n",
       "    <tr>\n",
       "      <th>9668571</th>\n",
       "      <td>CARDINAL</td>\n",
       "      <td>1216</td>\n",
       "      <td>—</td>\n",
       "      <td>стб</td>\n",
       "      <td>None</td>\n",
       "      <td>тысяча двести шестнадцать</td>\n",
       "    </tr>\n",
       "    <tr>\n",
       "      <th>9857704</th>\n",
       "      <td>CARDINAL</td>\n",
       "      <td>10</td>\n",
       "      <td>—</td>\n",
       "      <td>миллиардов</td>\n",
       "      <td>None</td>\n",
       "      <td>десять</td>\n",
       "    </tr>\n",
       "    <tr>\n",
       "      <th>9541249</th>\n",
       "      <td>CARDINAL</td>\n",
       "      <td>106</td>\n",
       "      <td>своей</td>\n",
       "      <td>метровой</td>\n",
       "      <td>None</td>\n",
       "      <td>ста шести</td>\n",
       "    </tr>\n",
       "    <tr>\n",
       "      <th>9854827</th>\n",
       "      <td>CARDINAL</td>\n",
       "      <td>1907</td>\n",
       "      <td>,</td>\n",
       "      <td>Hylophila</td>\n",
       "      <td>None</td>\n",
       "      <td>тысяча девятьсот семь</td>\n",
       "    </tr>\n",
       "    <tr>\n",
       "      <th>10302099</th>\n",
       "      <td>CARDINAL</td>\n",
       "      <td>351</td>\n",
       "      <td>(</td>\n",
       "      <td>день</td>\n",
       "      <td>None</td>\n",
       "      <td>триста пятьдесят один</td>\n",
       "    </tr>\n",
       "    <tr>\n",
       "      <th>10495174</th>\n",
       "      <td>CARDINAL</td>\n",
       "      <td>1218</td>\n",
       "      <td>.</td>\n",
       "      <td>.</td>\n",
       "      <td>None</td>\n",
       "      <td>тысяча двести восемнадцать</td>\n",
       "    </tr>\n",
       "    <tr>\n",
       "      <th>10319313</th>\n",
       "      <td>CARDINAL</td>\n",
       "      <td>6</td>\n",
       "      <td>от</td>\n",
       "      <td>месяцев</td>\n",
       "      <td>None</td>\n",
       "      <td>шести</td>\n",
       "    </tr>\n",
       "    <tr>\n",
       "      <th>10349393</th>\n",
       "      <td>CARDINAL</td>\n",
       "      <td>9</td>\n",
       "      <td>всего</td>\n",
       "      <td>стрелковых</td>\n",
       "      <td>None</td>\n",
       "      <td>девять</td>\n",
       "    </tr>\n",
       "  </tbody>\n",
       "</table>\n",
       "</div>"
      ]
     },
     "execution_count": 16,
     "metadata": {},
     "output_type": "execute_result"
    }
   ],
   "source": [
    "predicted[~(predicted[\"after\"] == y_test) & (predicted[\"after\"].isnull()) & (predicted['class']=='PLAIN')].assign(after_true=y_test).sample(20)"
   ]
  },
  {
   "cell_type": "code",
   "execution_count": 17,
   "metadata": {
    "collapsed": false
   },
   "outputs": [
    {
     "data": {
      "text/html": [
       "<div>\n",
       "<style scoped>\n",
       "    .dataframe tbody tr th:only-of-type {\n",
       "        vertical-align: middle;\n",
       "    }\n",
       "\n",
       "    .dataframe tbody tr th {\n",
       "        vertical-align: top;\n",
       "    }\n",
       "\n",
       "    .dataframe thead th {\n",
       "        text-align: right;\n",
       "    }\n",
       "</style>\n",
       "<table border=\"1\" class=\"dataframe\">\n",
       "  <thead>\n",
       "    <tr style=\"text-align: right;\">\n",
       "      <th></th>\n",
       "      <th>class</th>\n",
       "      <th>before</th>\n",
       "      <th>after</th>\n",
       "      <th>before_prev</th>\n",
       "      <th>before_next</th>\n",
       "    </tr>\n",
       "  </thead>\n",
       "  <tbody>\n",
       "    <tr>\n",
       "      <th>40420</th>\n",
       "      <td>FRACTION</td>\n",
       "      <td>7½</td>\n",
       "      <td>семи целых и одной второй</td>\n",
       "      <td>около</td>\n",
       "      <td>фунтов</td>\n",
       "    </tr>\n",
       "    <tr>\n",
       "      <th>157446</th>\n",
       "      <td>FRACTION</td>\n",
       "      <td>3½</td>\n",
       "      <td>три целых и одну вторую</td>\n",
       "      <td>на</td>\n",
       "      <td>очка</td>\n",
       "    </tr>\n",
       "    <tr>\n",
       "      <th>445580</th>\n",
       "      <td>FRACTION</td>\n",
       "      <td>59½</td>\n",
       "      <td>пятидесяти девяти целых и одной второй</td>\n",
       "      <td>139 976 рублей</td>\n",
       "      <td>копейки</td>\n",
       "    </tr>\n",
       "    <tr>\n",
       "      <th>765884</th>\n",
       "      <td>FRACTION</td>\n",
       "      <td>¼</td>\n",
       "      <td>одна четвертая</td>\n",
       "      <td>Второй</td>\n",
       "      <td>финалДата</td>\n",
       "    </tr>\n",
       "    <tr>\n",
       "      <th>803808</th>\n",
       "      <td>FRACTION</td>\n",
       "      <td>½</td>\n",
       "      <td>одна вторая</td>\n",
       "      <td>номиналом</td>\n",
       "      <td>шиллинга</td>\n",
       "    </tr>\n",
       "    <tr>\n",
       "      <th>999135</th>\n",
       "      <td>FRACTION</td>\n",
       "      <td>⅔</td>\n",
       "      <td>две третьих</td>\n",
       "      <td>на</td>\n",
       "      <td>территории</td>\n",
       "    </tr>\n",
       "    <tr>\n",
       "      <th>1253476</th>\n",
       "      <td>FRACTION</td>\n",
       "      <td>½</td>\n",
       "      <td>одна вторая</td>\n",
       "      <td>CrA</td>\n",
       "      <td>gut</td>\n",
       "    </tr>\n",
       "    <tr>\n",
       "      <th>1584453</th>\n",
       "      <td>FRACTION</td>\n",
       "      <td>8½</td>\n",
       "      <td>восемь целых и одна вторая</td>\n",
       "      <td>«</td>\n",
       "      <td>женщин</td>\n",
       "    </tr>\n",
       "    <tr>\n",
       "      <th>1584466</th>\n",
       "      <td>FRACTION</td>\n",
       "      <td>8½</td>\n",
       "      <td>восемь целых и одна вторая</td>\n",
       "      <td>.</td>\n",
       "      <td>Women</td>\n",
       "    </tr>\n",
       "    <tr>\n",
       "      <th>1876892</th>\n",
       "      <td>FRACTION</td>\n",
       "      <td>½</td>\n",
       "      <td>одна вторая</td>\n",
       "      <td>в</td>\n",
       "      <td>,</td>\n",
       "    </tr>\n",
       "    <tr>\n",
       "      <th>1876899</th>\n",
       "      <td>FRACTION</td>\n",
       "      <td>¼</td>\n",
       "      <td>одна четвертая</td>\n",
       "      <td>и</td>\n",
       "      <td>и</td>\n",
       "    </tr>\n",
       "    <tr>\n",
       "      <th>1876901</th>\n",
       "      <td>FRACTION</td>\n",
       "      <td>½</td>\n",
       "      <td>одна вторая</td>\n",
       "      <td>и</td>\n",
       "      <td>рупий</td>\n",
       "    </tr>\n",
       "    <tr>\n",
       "      <th>1921150</th>\n",
       "      <td>FRACTION</td>\n",
       "      <td>5 ½</td>\n",
       "      <td>пять целых и одна вторая</td>\n",
       "      <td>—</td>\n",
       "      <td>обеж</td>\n",
       "    </tr>\n",
       "    <tr>\n",
       "      <th>1949935</th>\n",
       "      <td>FRACTION</td>\n",
       "      <td>½</td>\n",
       "      <td>одна вторая</td>\n",
       "      <td>ничью</td>\n",
       "      <td>очка</td>\n",
       "    </tr>\n",
       "    <tr>\n",
       "      <th>2023480</th>\n",
       "      <td>FRACTION</td>\n",
       "      <td>½</td>\n",
       "      <td>одна вторая</td>\n",
       "      <td>состояло</td>\n",
       "      <td>дес</td>\n",
       "    </tr>\n",
       "    <tr>\n",
       "      <th>2023485</th>\n",
       "      <td>FRACTION</td>\n",
       "      <td>2 ¾</td>\n",
       "      <td>две целых и три четвертых</td>\n",
       "      <td>усадебной</td>\n",
       "      <td>дес</td>\n",
       "    </tr>\n",
       "    <tr>\n",
       "      <th>2271189</th>\n",
       "      <td>FRACTION</td>\n",
       "      <td>282½</td>\n",
       "      <td>двумястами восьмьюдесятью двумя целыми и одной...</td>\n",
       "      <td>выпущено</td>\n",
       "      <td>тысяч</td>\n",
       "    </tr>\n",
       "    <tr>\n",
       "      <th>2315287</th>\n",
       "      <td>FRACTION</td>\n",
       "      <td>6½</td>\n",
       "      <td>шесть целых и одну вторую</td>\n",
       "      <td>набрав</td>\n",
       "      <td>очков</td>\n",
       "    </tr>\n",
       "    <tr>\n",
       "      <th>2496593</th>\n",
       "      <td>FRACTION</td>\n",
       "      <td>8½</td>\n",
       "      <td>восемь целых и одна вторая</td>\n",
       "      <td>матча</td>\n",
       "      <td>:</td>\n",
       "    </tr>\n",
       "    <tr>\n",
       "      <th>2496595</th>\n",
       "      <td>FRACTION</td>\n",
       "      <td>3½</td>\n",
       "      <td>три целых и одна вторая</td>\n",
       "      <td>:</td>\n",
       "      <td>в</td>\n",
       "    </tr>\n",
       "    <tr>\n",
       "      <th>2812456</th>\n",
       "      <td>FRACTION</td>\n",
       "      <td>2½</td>\n",
       "      <td>две целых и одну вторую</td>\n",
       "      <td>на</td>\n",
       "      <td>тысячи</td>\n",
       "    </tr>\n",
       "    <tr>\n",
       "      <th>3172820</th>\n",
       "      <td>FRACTION</td>\n",
       "      <td>¾</td>\n",
       "      <td>три четвертых</td>\n",
       "      <td>в</td>\n",
       "      <td>от</td>\n",
       "    </tr>\n",
       "    <tr>\n",
       "      <th>3220263</th>\n",
       "      <td>FRACTION</td>\n",
       "      <td>2½</td>\n",
       "      <td>две целых и одна вторая</td>\n",
       "      <td>—</td>\n",
       "      <td>:</td>\n",
       "    </tr>\n",
       "    <tr>\n",
       "      <th>3220265</th>\n",
       "      <td>FRACTION</td>\n",
       "      <td>1½</td>\n",
       "      <td>одна целая и одна вторая</td>\n",
       "      <td>:</td>\n",
       "      <td>.</td>\n",
       "    </tr>\n",
       "    <tr>\n",
       "      <th>3250501</th>\n",
       "      <td>FRACTION</td>\n",
       "      <td>1 ½</td>\n",
       "      <td>одна целая и одна вторая</td>\n",
       "      <td>.</td>\n",
       "      <td>роты</td>\n",
       "    </tr>\n",
       "    <tr>\n",
       "      <th>3395752</th>\n",
       "      <td>FRACTION</td>\n",
       "      <td>½</td>\n",
       "      <td>одна вторая</td>\n",
       "      <td>Более</td>\n",
       "      <td>валовой</td>\n",
       "    </tr>\n",
       "    <tr>\n",
       "      <th>3417776</th>\n",
       "      <td>FRACTION</td>\n",
       "      <td>3½</td>\n",
       "      <td>три целых и одна вторая</td>\n",
       "      <td>счетом</td>\n",
       "      <td>:</td>\n",
       "    </tr>\n",
       "    <tr>\n",
       "      <th>3417778</th>\n",
       "      <td>FRACTION</td>\n",
       "      <td>2½</td>\n",
       "      <td>две целых и одна вторая</td>\n",
       "      <td>:</td>\n",
       "      <td>и</td>\n",
       "    </tr>\n",
       "    <tr>\n",
       "      <th>3478079</th>\n",
       "      <td>FRACTION</td>\n",
       "      <td>¼</td>\n",
       "      <td>одна четвертая</td>\n",
       "      <td>в</td>\n",
       "      <td>финала</td>\n",
       "    </tr>\n",
       "    <tr>\n",
       "      <th>3488898</th>\n",
       "      <td>FRACTION</td>\n",
       "      <td>¾</td>\n",
       "      <td>три четвертых</td>\n",
       "      <td>~</td>\n",
       "      <td>)</td>\n",
       "    </tr>\n",
       "    <tr>\n",
       "      <th>...</th>\n",
       "      <td>...</td>\n",
       "      <td>...</td>\n",
       "      <td>...</td>\n",
       "      <td>...</td>\n",
       "      <td>...</td>\n",
       "    </tr>\n",
       "    <tr>\n",
       "      <th>5646924</th>\n",
       "      <td>FRACTION</td>\n",
       "      <td>10½</td>\n",
       "      <td>десяти целых и одной второй</td>\n",
       "      <td>в</td>\n",
       "      <td>главах</td>\n",
       "    </tr>\n",
       "    <tr>\n",
       "      <th>5710816</th>\n",
       "      <td>FRACTION</td>\n",
       "      <td>6½</td>\n",
       "      <td>шесть целых и одна вторая</td>\n",
       "      <td>(</td>\n",
       "      <td>:</td>\n",
       "    </tr>\n",
       "    <tr>\n",
       "      <th>5710818</th>\n",
       "      <td>FRACTION</td>\n",
       "      <td>4½</td>\n",
       "      <td>четыре целых и одна вторая</td>\n",
       "      <td>:</td>\n",
       "      <td>)</td>\n",
       "    </tr>\n",
       "    <tr>\n",
       "      <th>5743241</th>\n",
       "      <td>FRACTION</td>\n",
       "      <td>2½</td>\n",
       "      <td>двух целых и одной второй</td>\n",
       "      <td>и</td>\n",
       "      <td>года</td>\n",
       "    </tr>\n",
       "    <tr>\n",
       "      <th>6011771</th>\n",
       "      <td>FRACTION</td>\n",
       "      <td>4 ½</td>\n",
       "      <td>четыре целых и одну вторую</td>\n",
       "      <td>Invicta</td>\n",
       "      <td>litre</td>\n",
       "    </tr>\n",
       "    <tr>\n",
       "      <th>6260409</th>\n",
       "      <td>FRACTION</td>\n",
       "      <td>1¼</td>\n",
       "      <td>одной целой и одной четвертой</td>\n",
       "      <td>до</td>\n",
       "      <td>аршина</td>\n",
       "    </tr>\n",
       "    <tr>\n",
       "      <th>6452616</th>\n",
       "      <td>FRACTION</td>\n",
       "      <td>9½</td>\n",
       "      <td>девять целых и одна вторая</td>\n",
       "      <td>по</td>\n",
       "      <td>.</td>\n",
       "    </tr>\n",
       "    <tr>\n",
       "      <th>6800651</th>\n",
       "      <td>FRACTION</td>\n",
       "      <td>½</td>\n",
       "      <td>одна вторая</td>\n",
       "      <td>Ранма</td>\n",
       "      <td>»</td>\n",
       "    </tr>\n",
       "    <tr>\n",
       "      <th>7253139</th>\n",
       "      <td>FRACTION</td>\n",
       "      <td>10½</td>\n",
       "      <td>десять целых и одну вторую</td>\n",
       "      <td>по</td>\n",
       "      <td>очков</td>\n",
       "    </tr>\n",
       "    <tr>\n",
       "      <th>7612900</th>\n",
       "      <td>FRACTION</td>\n",
       "      <td>⅔</td>\n",
       "      <td>две третьих</td>\n",
       "      <td>ленивца</td>\n",
       "      <td>веса</td>\n",
       "    </tr>\n",
       "    <tr>\n",
       "      <th>8033344</th>\n",
       "      <td>FRACTION</td>\n",
       "      <td>5¼</td>\n",
       "      <td>пятью целыми и одной четвертой</td>\n",
       "      <td>двусторонними</td>\n",
       "      <td>дюймовыми</td>\n",
       "    </tr>\n",
       "    <tr>\n",
       "      <th>8259581</th>\n",
       "      <td>FRACTION</td>\n",
       "      <td>8½</td>\n",
       "      <td>восьми целым и одной второй</td>\n",
       "      <td>по</td>\n",
       "      <td>очков</td>\n",
       "    </tr>\n",
       "    <tr>\n",
       "      <th>8283325</th>\n",
       "      <td>FRACTION</td>\n",
       "      <td>2½</td>\n",
       "      <td>две целых и одна вторая</td>\n",
       "      <td>—</td>\n",
       "      <td>:</td>\n",
       "    </tr>\n",
       "    <tr>\n",
       "      <th>8283327</th>\n",
       "      <td>FRACTION</td>\n",
       "      <td>1½</td>\n",
       "      <td>одна целая и одна вторая</td>\n",
       "      <td>:</td>\n",
       "      <td>.</td>\n",
       "    </tr>\n",
       "    <tr>\n",
       "      <th>8317226</th>\n",
       "      <td>FRACTION</td>\n",
       "      <td>¼</td>\n",
       "      <td>одна четвертая</td>\n",
       "      <td>занимавшая</td>\n",
       "      <td>часть</td>\n",
       "    </tr>\n",
       "    <tr>\n",
       "      <th>8355301</th>\n",
       "      <td>FRACTION</td>\n",
       "      <td>6½</td>\n",
       "      <td>шесть целых и одну вторую</td>\n",
       "      <td>набрал</td>\n",
       "      <td>очков</td>\n",
       "    </tr>\n",
       "    <tr>\n",
       "      <th>8457757</th>\n",
       "      <td>FRACTION</td>\n",
       "      <td>½</td>\n",
       "      <td>одна вторая</td>\n",
       "      <td>находилась</td>\n",
       "      <td>германской</td>\n",
       "    </tr>\n",
       "    <tr>\n",
       "      <th>8627416</th>\n",
       "      <td>FRACTION</td>\n",
       "      <td>⅔</td>\n",
       "      <td>двух третьих</td>\n",
       "      <td>более</td>\n",
       "      <td>)</td>\n",
       "    </tr>\n",
       "    <tr>\n",
       "      <th>8717346</th>\n",
       "      <td>FRACTION</td>\n",
       "      <td>¼</td>\n",
       "      <td>одна четвертая</td>\n",
       "      <td>составлял</td>\n",
       "      <td>рупии</td>\n",
       "    </tr>\n",
       "    <tr>\n",
       "      <th>8737281</th>\n",
       "      <td>FRACTION</td>\n",
       "      <td>3 ½</td>\n",
       "      <td>три целых и одна вторая</td>\n",
       "      <td>—</td>\n",
       "      <td>октавы</td>\n",
       "    </tr>\n",
       "    <tr>\n",
       "      <th>8984892</th>\n",
       "      <td>FRACTION</td>\n",
       "      <td>½</td>\n",
       "      <td>одной второй</td>\n",
       "      <td>от</td>\n",
       "      <td>-</td>\n",
       "    </tr>\n",
       "    <tr>\n",
       "      <th>8984894</th>\n",
       "      <td>FRACTION</td>\n",
       "      <td>¾</td>\n",
       "      <td>трех четвертых</td>\n",
       "      <td>-</td>\n",
       "      <td>мм</td>\n",
       "    </tr>\n",
       "    <tr>\n",
       "      <th>9080276</th>\n",
       "      <td>FRACTION</td>\n",
       "      <td>9½</td>\n",
       "      <td>девять целых и одна вторая</td>\n",
       "      <td>по</td>\n",
       "      <td>.</td>\n",
       "    </tr>\n",
       "    <tr>\n",
       "      <th>9080375</th>\n",
       "      <td>FRACTION</td>\n",
       "      <td>10½</td>\n",
       "      <td>десять целых и одна вторая</td>\n",
       "      <td>—</td>\n",
       "      <td>.</td>\n",
       "    </tr>\n",
       "    <tr>\n",
       "      <th>9083227</th>\n",
       "      <td>FRACTION</td>\n",
       "      <td>3½</td>\n",
       "      <td>три целых и одна вторая</td>\n",
       "      <td>—</td>\n",
       "      <td>;</td>\n",
       "    </tr>\n",
       "    <tr>\n",
       "      <th>9768976</th>\n",
       "      <td>FRACTION</td>\n",
       "      <td>2½</td>\n",
       "      <td>две целых и одна вторая</td>\n",
       "      <td>«</td>\n",
       "      <td>часа</td>\n",
       "    </tr>\n",
       "    <tr>\n",
       "      <th>9918776</th>\n",
       "      <td>FRACTION</td>\n",
       "      <td>9 ¾</td>\n",
       "      <td>девять целых и три четвертых</td>\n",
       "      <td>платформы</td>\n",
       "      <td>.</td>\n",
       "    </tr>\n",
       "    <tr>\n",
       "      <th>9921668</th>\n",
       "      <td>FRACTION</td>\n",
       "      <td>¾</td>\n",
       "      <td>три четвертых</td>\n",
       "      <td>занимали</td>\n",
       "      <td>длины</td>\n",
       "    </tr>\n",
       "    <tr>\n",
       "      <th>10013235</th>\n",
       "      <td>FRACTION</td>\n",
       "      <td>½</td>\n",
       "      <td>одна вторая</td>\n",
       "      <td>равная</td>\n",
       "      <td>асса</td>\n",
       "    </tr>\n",
       "    <tr>\n",
       "      <th>10277345</th>\n",
       "      <td>FRACTION</td>\n",
       "      <td>6¾</td>\n",
       "      <td>шесть целых и три четвертых</td>\n",
       "      <td>диска</td>\n",
       "      <td>'</td>\n",
       "    </tr>\n",
       "  </tbody>\n",
       "</table>\n",
       "<p>75 rows × 5 columns</p>\n",
       "</div>"
      ],
      "text/plain": [
       "<div>\n",
       "<style scoped>\n",
       "    .dataframe tbody tr th:only-of-type {\n",
       "        vertical-align: middle;\n",
       "    }\n",
       "\n",
       "    .dataframe tbody tr th {\n",
       "        vertical-align: top;\n",
       "    }\n",
       "\n",
       "    .dataframe thead th {\n",
       "        text-align: right;\n",
       "    }\n",
       "</style>\n",
       "<table border=\"1\" class=\"dataframe\">\n",
       "  <thead>\n",
       "    <tr style=\"text-align: right;\">\n",
       "      <th></th>\n",
       "      <th>class</th>\n",
       "      <th>before</th>\n",
       "      <th>after</th>\n",
       "      <th>before_prev</th>\n",
       "      <th>before_next</th>\n",
       "    </tr>\n",
       "  </thead>\n",
       "  <tbody>\n",
       "    <tr>\n",
       "      <th>40420</th>\n",
       "      <td>FRACTION</td>\n",
       "      <td>7½</td>\n",
       "      <td>семи целых и одной второй</td>\n",
       "      <td>около</td>\n",
       "      <td>фунтов</td>\n",
       "    </tr>\n",
       "    <tr>\n",
       "      <th>157446</th>\n",
       "      <td>FRACTION</td>\n",
       "      <td>3½</td>\n",
       "      <td>три целых и одну вторую</td>\n",
       "      <td>на</td>\n",
       "      <td>очка</td>\n",
       "    </tr>\n",
       "    <tr>\n",
       "      <th>445580</th>\n",
       "      <td>FRACTION</td>\n",
       "      <td>59½</td>\n",
       "      <td>пятидесяти девяти целых и одной второй</td>\n",
       "      <td>139 976 рублей</td>\n",
       "      <td>копейки</td>\n",
       "    </tr>\n",
       "    <tr>\n",
       "      <th>765884</th>\n",
       "      <td>FRACTION</td>\n",
       "      <td>¼</td>\n",
       "      <td>одна четвертая</td>\n",
       "      <td>Второй</td>\n",
       "      <td>финалДата</td>\n",
       "    </tr>\n",
       "    <tr>\n",
       "      <th>803808</th>\n",
       "      <td>FRACTION</td>\n",
       "      <td>½</td>\n",
       "      <td>одна вторая</td>\n",
       "      <td>номиналом</td>\n",
       "      <td>шиллинга</td>\n",
       "    </tr>\n",
       "    <tr>\n",
       "      <th>999135</th>\n",
       "      <td>FRACTION</td>\n",
       "      <td>⅔</td>\n",
       "      <td>две третьих</td>\n",
       "      <td>на</td>\n",
       "      <td>территории</td>\n",
       "    </tr>\n",
       "    <tr>\n",
       "      <th>1253476</th>\n",
       "      <td>FRACTION</td>\n",
       "      <td>½</td>\n",
       "      <td>одна вторая</td>\n",
       "      <td>CrA</td>\n",
       "      <td>gut</td>\n",
       "    </tr>\n",
       "    <tr>\n",
       "      <th>1584453</th>\n",
       "      <td>FRACTION</td>\n",
       "      <td>8½</td>\n",
       "      <td>восемь целых и одна вторая</td>\n",
       "      <td>«</td>\n",
       "      <td>женщин</td>\n",
       "    </tr>\n",
       "    <tr>\n",
       "      <th>1584466</th>\n",
       "      <td>FRACTION</td>\n",
       "      <td>8½</td>\n",
       "      <td>восемь целых и одна вторая</td>\n",
       "      <td>.</td>\n",
       "      <td>Women</td>\n",
       "    </tr>\n",
       "    <tr>\n",
       "      <th>1876892</th>\n",
       "      <td>FRACTION</td>\n",
       "      <td>½</td>\n",
       "      <td>одна вторая</td>\n",
       "      <td>в</td>\n",
       "      <td>,</td>\n",
       "    </tr>\n",
       "    <tr>\n",
       "      <th>1876899</th>\n",
       "      <td>FRACTION</td>\n",
       "      <td>¼</td>\n",
       "      <td>одна четвертая</td>\n",
       "      <td>и</td>\n",
       "      <td>и</td>\n",
       "    </tr>\n",
       "    <tr>\n",
       "      <th>1876901</th>\n",
       "      <td>FRACTION</td>\n",
       "      <td>½</td>\n",
       "      <td>одна вторая</td>\n",
       "      <td>и</td>\n",
       "      <td>рупий</td>\n",
       "    </tr>\n",
       "    <tr>\n",
       "      <th>1921150</th>\n",
       "      <td>FRACTION</td>\n",
       "      <td>5 ½</td>\n",
       "      <td>пять целых и одна вторая</td>\n",
       "      <td>—</td>\n",
       "      <td>обеж</td>\n",
       "    </tr>\n",
       "    <tr>\n",
       "      <th>1949935</th>\n",
       "      <td>FRACTION</td>\n",
       "      <td>½</td>\n",
       "      <td>одна вторая</td>\n",
       "      <td>ничью</td>\n",
       "      <td>очка</td>\n",
       "    </tr>\n",
       "    <tr>\n",
       "      <th>2023480</th>\n",
       "      <td>FRACTION</td>\n",
       "      <td>½</td>\n",
       "      <td>одна вторая</td>\n",
       "      <td>состояло</td>\n",
       "      <td>дес</td>\n",
       "    </tr>\n",
       "    <tr>\n",
       "      <th>2023485</th>\n",
       "      <td>FRACTION</td>\n",
       "      <td>2 ¾</td>\n",
       "      <td>две целых и три четвертых</td>\n",
       "      <td>усадебной</td>\n",
       "      <td>дес</td>\n",
       "    </tr>\n",
       "    <tr>\n",
       "      <th>2271189</th>\n",
       "      <td>FRACTION</td>\n",
       "      <td>282½</td>\n",
       "      <td>двумястами восьмьюдесятью двумя целыми и одной...</td>\n",
       "      <td>выпущено</td>\n",
       "      <td>тысяч</td>\n",
       "    </tr>\n",
       "    <tr>\n",
       "      <th>2315287</th>\n",
       "      <td>FRACTION</td>\n",
       "      <td>6½</td>\n",
       "      <td>шесть целых и одну вторую</td>\n",
       "      <td>набрав</td>\n",
       "      <td>очков</td>\n",
       "    </tr>\n",
       "    <tr>\n",
       "      <th>2496593</th>\n",
       "      <td>FRACTION</td>\n",
       "      <td>8½</td>\n",
       "      <td>восемь целых и одна вторая</td>\n",
       "      <td>матча</td>\n",
       "      <td>:</td>\n",
       "    </tr>\n",
       "    <tr>\n",
       "      <th>2496595</th>\n",
       "      <td>FRACTION</td>\n",
       "      <td>3½</td>\n",
       "      <td>три целых и одна вторая</td>\n",
       "      <td>:</td>\n",
       "      <td>в</td>\n",
       "    </tr>\n",
       "    <tr>\n",
       "      <th>2812456</th>\n",
       "      <td>FRACTION</td>\n",
       "      <td>2½</td>\n",
       "      <td>две целых и одну вторую</td>\n",
       "      <td>на</td>\n",
       "      <td>тысячи</td>\n",
       "    </tr>\n",
       "    <tr>\n",
       "      <th>3172820</th>\n",
       "      <td>FRACTION</td>\n",
       "      <td>¾</td>\n",
       "      <td>три четвертых</td>\n",
       "      <td>в</td>\n",
       "      <td>от</td>\n",
       "    </tr>\n",
       "    <tr>\n",
       "      <th>3220263</th>\n",
       "      <td>FRACTION</td>\n",
       "      <td>2½</td>\n",
       "      <td>две целых и одна вторая</td>\n",
       "      <td>—</td>\n",
       "      <td>:</td>\n",
       "    </tr>\n",
       "    <tr>\n",
       "      <th>3220265</th>\n",
       "      <td>FRACTION</td>\n",
       "      <td>1½</td>\n",
       "      <td>одна целая и одна вторая</td>\n",
       "      <td>:</td>\n",
       "      <td>.</td>\n",
       "    </tr>\n",
       "    <tr>\n",
       "      <th>3250501</th>\n",
       "      <td>FRACTION</td>\n",
       "      <td>1 ½</td>\n",
       "      <td>одна целая и одна вторая</td>\n",
       "      <td>.</td>\n",
       "      <td>роты</td>\n",
       "    </tr>\n",
       "    <tr>\n",
       "      <th>3395752</th>\n",
       "      <td>FRACTION</td>\n",
       "      <td>½</td>\n",
       "      <td>одна вторая</td>\n",
       "      <td>Более</td>\n",
       "      <td>валовой</td>\n",
       "    </tr>\n",
       "    <tr>\n",
       "      <th>3417776</th>\n",
       "      <td>FRACTION</td>\n",
       "      <td>3½</td>\n",
       "      <td>три целых и одна вторая</td>\n",
       "      <td>счетом</td>\n",
       "      <td>:</td>\n",
       "    </tr>\n",
       "    <tr>\n",
       "      <th>3417778</th>\n",
       "      <td>FRACTION</td>\n",
       "      <td>2½</td>\n",
       "      <td>две целых и одна вторая</td>\n",
       "      <td>:</td>\n",
       "      <td>и</td>\n",
       "    </tr>\n",
       "    <tr>\n",
       "      <th>3478079</th>\n",
       "      <td>FRACTION</td>\n",
       "      <td>¼</td>\n",
       "      <td>одна четвертая</td>\n",
       "      <td>в</td>\n",
       "      <td>финала</td>\n",
       "    </tr>\n",
       "    <tr>\n",
       "      <th>3488898</th>\n",
       "      <td>FRACTION</td>\n",
       "      <td>¾</td>\n",
       "      <td>три четвертых</td>\n",
       "      <td>~</td>\n",
       "      <td>)</td>\n",
       "    </tr>\n",
       "    <tr>\n",
       "      <th>...</th>\n",
       "      <td>...</td>\n",
       "      <td>...</td>\n",
       "      <td>...</td>\n",
       "      <td>...</td>\n",
       "      <td>...</td>\n",
       "    </tr>\n",
       "    <tr>\n",
       "      <th>5646924</th>\n",
       "      <td>FRACTION</td>\n",
       "      <td>10½</td>\n",
       "      <td>десяти целых и одной второй</td>\n",
       "      <td>в</td>\n",
       "      <td>главах</td>\n",
       "    </tr>\n",
       "    <tr>\n",
       "      <th>5710816</th>\n",
       "      <td>FRACTION</td>\n",
       "      <td>6½</td>\n",
       "      <td>шесть целых и одна вторая</td>\n",
       "      <td>(</td>\n",
       "      <td>:</td>\n",
       "    </tr>\n",
       "    <tr>\n",
       "      <th>5710818</th>\n",
       "      <td>FRACTION</td>\n",
       "      <td>4½</td>\n",
       "      <td>четыре целых и одна вторая</td>\n",
       "      <td>:</td>\n",
       "      <td>)</td>\n",
       "    </tr>\n",
       "    <tr>\n",
       "      <th>5743241</th>\n",
       "      <td>FRACTION</td>\n",
       "      <td>2½</td>\n",
       "      <td>двух целых и одной второй</td>\n",
       "      <td>и</td>\n",
       "      <td>года</td>\n",
       "    </tr>\n",
       "    <tr>\n",
       "      <th>6011771</th>\n",
       "      <td>FRACTION</td>\n",
       "      <td>4 ½</td>\n",
       "      <td>четыре целых и одну вторую</td>\n",
       "      <td>Invicta</td>\n",
       "      <td>litre</td>\n",
       "    </tr>\n",
       "    <tr>\n",
       "      <th>6260409</th>\n",
       "      <td>FRACTION</td>\n",
       "      <td>1¼</td>\n",
       "      <td>одной целой и одной четвертой</td>\n",
       "      <td>до</td>\n",
       "      <td>аршина</td>\n",
       "    </tr>\n",
       "    <tr>\n",
       "      <th>6452616</th>\n",
       "      <td>FRACTION</td>\n",
       "      <td>9½</td>\n",
       "      <td>девять целых и одна вторая</td>\n",
       "      <td>по</td>\n",
       "      <td>.</td>\n",
       "    </tr>\n",
       "    <tr>\n",
       "      <th>6800651</th>\n",
       "      <td>FRACTION</td>\n",
       "      <td>½</td>\n",
       "      <td>одна вторая</td>\n",
       "      <td>Ранма</td>\n",
       "      <td>»</td>\n",
       "    </tr>\n",
       "    <tr>\n",
       "      <th>7253139</th>\n",
       "      <td>FRACTION</td>\n",
       "      <td>10½</td>\n",
       "      <td>десять целых и одну вторую</td>\n",
       "      <td>по</td>\n",
       "      <td>очков</td>\n",
       "    </tr>\n",
       "    <tr>\n",
       "      <th>7612900</th>\n",
       "      <td>FRACTION</td>\n",
       "      <td>⅔</td>\n",
       "      <td>две третьих</td>\n",
       "      <td>ленивца</td>\n",
       "      <td>веса</td>\n",
       "    </tr>\n",
       "    <tr>\n",
       "      <th>8033344</th>\n",
       "      <td>FRACTION</td>\n",
       "      <td>5¼</td>\n",
       "      <td>пятью целыми и одной четвертой</td>\n",
       "      <td>двусторонними</td>\n",
       "      <td>дюймовыми</td>\n",
       "    </tr>\n",
       "    <tr>\n",
       "      <th>8259581</th>\n",
       "      <td>FRACTION</td>\n",
       "      <td>8½</td>\n",
       "      <td>восьми целым и одной второй</td>\n",
       "      <td>по</td>\n",
       "      <td>очков</td>\n",
       "    </tr>\n",
       "    <tr>\n",
       "      <th>8283325</th>\n",
       "      <td>FRACTION</td>\n",
       "      <td>2½</td>\n",
       "      <td>две целых и одна вторая</td>\n",
       "      <td>—</td>\n",
       "      <td>:</td>\n",
       "    </tr>\n",
       "    <tr>\n",
       "      <th>8283327</th>\n",
       "      <td>FRACTION</td>\n",
       "      <td>1½</td>\n",
       "      <td>одна целая и одна вторая</td>\n",
       "      <td>:</td>\n",
       "      <td>.</td>\n",
       "    </tr>\n",
       "    <tr>\n",
       "      <th>8317226</th>\n",
       "      <td>FRACTION</td>\n",
       "      <td>¼</td>\n",
       "      <td>одна четвертая</td>\n",
       "      <td>занимавшая</td>\n",
       "      <td>часть</td>\n",
       "    </tr>\n",
       "    <tr>\n",
       "      <th>8355301</th>\n",
       "      <td>FRACTION</td>\n",
       "      <td>6½</td>\n",
       "      <td>шесть целых и одну вторую</td>\n",
       "      <td>набрал</td>\n",
       "      <td>очков</td>\n",
       "    </tr>\n",
       "    <tr>\n",
       "      <th>8457757</th>\n",
       "      <td>FRACTION</td>\n",
       "      <td>½</td>\n",
       "      <td>одна вторая</td>\n",
       "      <td>находилась</td>\n",
       "      <td>германской</td>\n",
       "    </tr>\n",
       "    <tr>\n",
       "      <th>8627416</th>\n",
       "      <td>FRACTION</td>\n",
       "      <td>⅔</td>\n",
       "      <td>двух третьих</td>\n",
       "      <td>более</td>\n",
       "      <td>)</td>\n",
       "    </tr>\n",
       "    <tr>\n",
       "      <th>8717346</th>\n",
       "      <td>FRACTION</td>\n",
       "      <td>¼</td>\n",
       "      <td>одна четвертая</td>\n",
       "      <td>составлял</td>\n",
       "      <td>рупии</td>\n",
       "    </tr>\n",
       "    <tr>\n",
       "      <th>8737281</th>\n",
       "      <td>FRACTION</td>\n",
       "      <td>3 ½</td>\n",
       "      <td>три целых и одна вторая</td>\n",
       "      <td>—</td>\n",
       "      <td>октавы</td>\n",
       "    </tr>\n",
       "    <tr>\n",
       "      <th>8984892</th>\n",
       "      <td>FRACTION</td>\n",
       "      <td>½</td>\n",
       "      <td>одной второй</td>\n",
       "      <td>от</td>\n",
       "      <td>-</td>\n",
       "    </tr>\n",
       "    <tr>\n",
       "      <th>8984894</th>\n",
       "      <td>FRACTION</td>\n",
       "      <td>¾</td>\n",
       "      <td>трех четвертых</td>\n",
       "      <td>-</td>\n",
       "      <td>мм</td>\n",
       "    </tr>\n",
       "    <tr>\n",
       "      <th>9080276</th>\n",
       "      <td>FRACTION</td>\n",
       "      <td>9½</td>\n",
       "      <td>девять целых и одна вторая</td>\n",
       "      <td>по</td>\n",
       "      <td>.</td>\n",
       "    </tr>\n",
       "    <tr>\n",
       "      <th>9080375</th>\n",
       "      <td>FRACTION</td>\n",
       "      <td>10½</td>\n",
       "      <td>десять целых и одна вторая</td>\n",
       "      <td>—</td>\n",
       "      <td>.</td>\n",
       "    </tr>\n",
       "    <tr>\n",
       "      <th>9083227</th>\n",
       "      <td>FRACTION</td>\n",
       "      <td>3½</td>\n",
       "      <td>три целых и одна вторая</td>\n",
       "      <td>—</td>\n",
       "      <td>;</td>\n",
       "    </tr>\n",
       "    <tr>\n",
       "      <th>9768976</th>\n",
       "      <td>FRACTION</td>\n",
       "      <td>2½</td>\n",
       "      <td>две целых и одна вторая</td>\n",
       "      <td>«</td>\n",
       "      <td>часа</td>\n",
       "    </tr>\n",
       "    <tr>\n",
       "      <th>9918776</th>\n",
       "      <td>FRACTION</td>\n",
       "      <td>9 ¾</td>\n",
       "      <td>девять целых и три четвертых</td>\n",
       "      <td>платформы</td>\n",
       "      <td>.</td>\n",
       "    </tr>\n",
       "    <tr>\n",
       "      <th>9921668</th>\n",
       "      <td>FRACTION</td>\n",
       "      <td>¾</td>\n",
       "      <td>три четвертых</td>\n",
       "      <td>занимали</td>\n",
       "      <td>длины</td>\n",
       "    </tr>\n",
       "    <tr>\n",
       "      <th>10013235</th>\n",
       "      <td>FRACTION</td>\n",
       "      <td>½</td>\n",
       "      <td>одна вторая</td>\n",
       "      <td>равная</td>\n",
       "      <td>асса</td>\n",
       "    </tr>\n",
       "    <tr>\n",
       "      <th>10277345</th>\n",
       "      <td>FRACTION</td>\n",
       "      <td>6¾</td>\n",
       "      <td>шесть целых и три четвертых</td>\n",
       "      <td>диска</td>\n",
       "      <td>'</td>\n",
       "    </tr>\n",
       "  </tbody>\n",
       "</table>\n",
       "<p>75 rows × 5 columns</p>\n",
       "</div>"
      ]
     },
     "execution_count": 17,
     "metadata": {},
     "output_type": "execute_result"
    }
   ],
   "source": [
    "df[~(df['before'].str.match('^-?\\d*\\s?\\d*\\s?\\/\\s?\\d+\\s?\\d*$')) & (df['class'] == 'FRACTION')]"
   ]
  },
  {
   "cell_type": "code",
   "execution_count": 30,
   "metadata": {},
   "outputs": [],
   "source": []
  },
  {
   "cell_type": "code",
   "execution_count": null,
   "metadata": {},
   "outputs": [],
   "source": []
  }
 ],
 "metadata": {
  "kernelspec": {
   "display_name": "Python 2",
   "language": "python",
   "name": "python2"
  },
  "language_info": {
   "codemirror_mode": {
    "name": "ipython",
    "version": 2
   },
   "file_extension": ".py",
   "mimetype": "text/x-python",
   "name": "python",
   "nbconvert_exporter": "python",
   "pygments_lexer": "ipython2",
   "version": "2.7.6"
  }
 },
 "nbformat": 4,
 "nbformat_minor": 0
}
